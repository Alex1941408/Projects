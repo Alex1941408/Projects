{
 "cells": [
  {
   "cell_type": "markdown",
   "id": "a270d50a",
   "metadata": {},
   "source": [
    "# Исследование надежности заемщиков."
   ]
  },
  {
   "cell_type": "markdown",
   "id": "20a7f7df",
   "metadata": {},
   "source": [
    "### Шаг 1. Обзор данных"
   ]
  },
  {
   "cell_type": "markdown",
   "id": "a366e81f",
   "metadata": {},
   "source": [
    "Создадим переменную `df`, содержащую таблицу с выгрузкой:"
   ]
  },
  {
   "cell_type": "code",
   "execution_count": 1,
   "id": "e2607c9e",
   "metadata": {},
   "outputs": [],
   "source": [
    "import pandas as pd\n",
    "import matplotlib.pyplot as plt\n",
    "\n",
    "df = pd.read_csv('/datasets/data.csv')"
   ]
  },
  {
   "cell_type": "markdown",
   "id": "ce82e689",
   "metadata": {},
   "source": [
    "### Шаг 2.1 Заполнение пропусков"
   ]
  },
  {
   "cell_type": "markdown",
   "id": "8ad1b7c6",
   "metadata": {},
   "source": [
    "В первую очередь получим общую информацию о таблице:"
   ]
  },
  {
   "cell_type": "code",
   "execution_count": 2,
   "id": "78760c0d",
   "metadata": {},
   "outputs": [
    {
     "name": "stdout",
     "output_type": "stream",
     "text": [
      "<class 'pandas.core.frame.DataFrame'>\n",
      "RangeIndex: 21525 entries, 0 to 21524\n",
      "Data columns (total 12 columns):\n",
      " #   Column            Non-Null Count  Dtype  \n",
      "---  ------            --------------  -----  \n",
      " 0   children          21525 non-null  int64  \n",
      " 1   days_employed     19351 non-null  float64\n",
      " 2   dob_years         21525 non-null  int64  \n",
      " 3   education         21525 non-null  object \n",
      " 4   education_id      21525 non-null  int64  \n",
      " 5   family_status     21525 non-null  object \n",
      " 6   family_status_id  21525 non-null  int64  \n",
      " 7   gender            21525 non-null  object \n",
      " 8   income_type       21525 non-null  object \n",
      " 9   debt              21525 non-null  int64  \n",
      " 10  total_income      19351 non-null  float64\n",
      " 11  purpose           21525 non-null  object \n",
      "dtypes: float64(2), int64(5), object(5)\n",
      "memory usage: 2.0+ MB\n"
     ]
    }
   ],
   "source": [
    "df.info()"
   ]
  },
  {
   "cell_type": "markdown",
   "id": "7493b240",
   "metadata": {},
   "source": [
    "Можем заметить, что что большинство столбцов имеют по 21525 значений, только 2 столбца имеют по 19351 значения. Из условия известно, что столбец `days_employed` имеет пропуски, таким образом, интересующий нас столбец - `total_income`. Тип данных в этом столбце - `float64`, значит, пропуски имеют значения `NaN`. Определим количество пропусков:"
   ]
  },
  {
   "cell_type": "code",
   "execution_count": 3,
   "id": "244ddaad",
   "metadata": {},
   "outputs": [
    {
     "data": {
      "text/plain": [
       "2174"
      ]
     },
     "execution_count": 3,
     "metadata": {},
     "output_type": "execute_result"
    }
   ],
   "source": [
    "nan_total_income = len(df[df['total_income'].isna()])\n",
    "nan_total_income"
   ]
  },
  {
   "cell_type": "markdown",
   "id": "85c5fc74",
   "metadata": {},
   "source": [
    "Определим долю пропусков от общего количества значений:"
   ]
  },
  {
   "cell_type": "code",
   "execution_count": 4,
   "id": "09fec82b",
   "metadata": {
    "scrolled": false
   },
   "outputs": [
    {
     "data": {
      "text/plain": [
       "0.11234561521368405"
      ]
     },
     "execution_count": 4,
     "metadata": {},
     "output_type": "execute_result"
    }
   ],
   "source": [
    "nan_total_income / df['total_income'].count()"
   ]
  },
  {
   "cell_type": "markdown",
   "id": "53ad6181",
   "metadata": {},
   "source": [
    "Доля пропусков в столбце `total_income` довольна высока - более 11%. Вероятно, это связано с тем, что клиены сознательно скрывали свои полные доходы, если при заполнении данных это было необязательно указывать. Для продолжения исследования необходимо заполнить эти пропуски. Заполним их медианным значением. Это лучшее решение, так как при заполнении пропусков столбца медианным значением список распределяется более равномерно по сравнению с заполнением средним значением."
   ]
  },
  {
   "cell_type": "markdown",
   "id": "8d0b4e71",
   "metadata": {},
   "source": [
    "Определим медианное значение:"
   ]
  },
  {
   "cell_type": "code",
   "execution_count": 5,
   "id": "80b08591",
   "metadata": {},
   "outputs": [
    {
     "data": {
      "text/plain": [
       "145017.93753253992"
      ]
     },
     "execution_count": 5,
     "metadata": {},
     "output_type": "execute_result"
    }
   ],
   "source": [
    "median_total_income = df['total_income'].median()\n",
    "median_total_income"
   ]
  },
  {
   "cell_type": "markdown",
   "id": "eb336ca0",
   "metadata": {},
   "source": [
    "Заполним пропуски в слолбеце `total_income` медианным значением:"
   ]
  },
  {
   "cell_type": "code",
   "execution_count": 6,
   "id": "dbd0d43b",
   "metadata": {},
   "outputs": [],
   "source": [
    "df['total_income'] = df['total_income'].fillna(median_total_income)"
   ]
  },
  {
   "cell_type": "markdown",
   "id": "00e410b1",
   "metadata": {},
   "source": [
    "Проверим заполнение в этом столбце:"
   ]
  },
  {
   "cell_type": "code",
   "execution_count": 7,
   "id": "569e8b06",
   "metadata": {
    "scrolled": false
   },
   "outputs": [
    {
     "name": "stdout",
     "output_type": "stream",
     "text": [
      "<class 'pandas.core.frame.DataFrame'>\n",
      "RangeIndex: 21525 entries, 0 to 21524\n",
      "Data columns (total 12 columns):\n",
      " #   Column            Non-Null Count  Dtype  \n",
      "---  ------            --------------  -----  \n",
      " 0   children          21525 non-null  int64  \n",
      " 1   days_employed     19351 non-null  float64\n",
      " 2   dob_years         21525 non-null  int64  \n",
      " 3   education         21525 non-null  object \n",
      " 4   education_id      21525 non-null  int64  \n",
      " 5   family_status     21525 non-null  object \n",
      " 6   family_status_id  21525 non-null  int64  \n",
      " 7   gender            21525 non-null  object \n",
      " 8   income_type       21525 non-null  object \n",
      " 9   debt              21525 non-null  int64  \n",
      " 10  total_income      21525 non-null  float64\n",
      " 11  purpose           21525 non-null  object \n",
      "dtypes: float64(2), int64(5), object(5)\n",
      "memory usage: 2.0+ MB\n"
     ]
    }
   ],
   "source": [
    "df.info()"
   ]
  },
  {
   "cell_type": "markdown",
   "id": "c49767c2",
   "metadata": {},
   "source": [
    "### Шаг 2.2 Проверка данных на аномалии и исправления."
   ]
  },
  {
   "cell_type": "markdown",
   "id": "3b56b9d4",
   "metadata": {},
   "source": [
    "Для проверки столбца `days_employed` на наличие аномалий выведем первые 20 значений с помощью `head()`:"
   ]
  },
  {
   "cell_type": "code",
   "execution_count": 8,
   "id": "aae81164",
   "metadata": {
    "scrolled": false
   },
   "outputs": [
    {
     "data": {
      "text/html": [
       "<div>\n",
       "<style scoped>\n",
       "    .dataframe tbody tr th:only-of-type {\n",
       "        vertical-align: middle;\n",
       "    }\n",
       "\n",
       "    .dataframe tbody tr th {\n",
       "        vertical-align: top;\n",
       "    }\n",
       "\n",
       "    .dataframe thead th {\n",
       "        text-align: right;\n",
       "    }\n",
       "</style>\n",
       "<table border=\"1\" class=\"dataframe\">\n",
       "  <thead>\n",
       "    <tr style=\"text-align: right;\">\n",
       "      <th></th>\n",
       "      <th>children</th>\n",
       "      <th>days_employed</th>\n",
       "      <th>dob_years</th>\n",
       "      <th>education</th>\n",
       "      <th>education_id</th>\n",
       "      <th>family_status</th>\n",
       "      <th>family_status_id</th>\n",
       "      <th>gender</th>\n",
       "      <th>income_type</th>\n",
       "      <th>debt</th>\n",
       "      <th>total_income</th>\n",
       "      <th>purpose</th>\n",
       "    </tr>\n",
       "  </thead>\n",
       "  <tbody>\n",
       "    <tr>\n",
       "      <th>0</th>\n",
       "      <td>1</td>\n",
       "      <td>-8437.673028</td>\n",
       "      <td>42</td>\n",
       "      <td>высшее</td>\n",
       "      <td>0</td>\n",
       "      <td>женат / замужем</td>\n",
       "      <td>0</td>\n",
       "      <td>F</td>\n",
       "      <td>сотрудник</td>\n",
       "      <td>0</td>\n",
       "      <td>253875.639453</td>\n",
       "      <td>покупка жилья</td>\n",
       "    </tr>\n",
       "    <tr>\n",
       "      <th>1</th>\n",
       "      <td>1</td>\n",
       "      <td>-4024.803754</td>\n",
       "      <td>36</td>\n",
       "      <td>среднее</td>\n",
       "      <td>1</td>\n",
       "      <td>женат / замужем</td>\n",
       "      <td>0</td>\n",
       "      <td>F</td>\n",
       "      <td>сотрудник</td>\n",
       "      <td>0</td>\n",
       "      <td>112080.014102</td>\n",
       "      <td>приобретение автомобиля</td>\n",
       "    </tr>\n",
       "    <tr>\n",
       "      <th>2</th>\n",
       "      <td>0</td>\n",
       "      <td>-5623.422610</td>\n",
       "      <td>33</td>\n",
       "      <td>Среднее</td>\n",
       "      <td>1</td>\n",
       "      <td>женат / замужем</td>\n",
       "      <td>0</td>\n",
       "      <td>M</td>\n",
       "      <td>сотрудник</td>\n",
       "      <td>0</td>\n",
       "      <td>145885.952297</td>\n",
       "      <td>покупка жилья</td>\n",
       "    </tr>\n",
       "    <tr>\n",
       "      <th>3</th>\n",
       "      <td>3</td>\n",
       "      <td>-4124.747207</td>\n",
       "      <td>32</td>\n",
       "      <td>среднее</td>\n",
       "      <td>1</td>\n",
       "      <td>женат / замужем</td>\n",
       "      <td>0</td>\n",
       "      <td>M</td>\n",
       "      <td>сотрудник</td>\n",
       "      <td>0</td>\n",
       "      <td>267628.550329</td>\n",
       "      <td>дополнительное образование</td>\n",
       "    </tr>\n",
       "    <tr>\n",
       "      <th>4</th>\n",
       "      <td>0</td>\n",
       "      <td>340266.072047</td>\n",
       "      <td>53</td>\n",
       "      <td>среднее</td>\n",
       "      <td>1</td>\n",
       "      <td>гражданский брак</td>\n",
       "      <td>1</td>\n",
       "      <td>F</td>\n",
       "      <td>пенсионер</td>\n",
       "      <td>0</td>\n",
       "      <td>158616.077870</td>\n",
       "      <td>сыграть свадьбу</td>\n",
       "    </tr>\n",
       "    <tr>\n",
       "      <th>5</th>\n",
       "      <td>0</td>\n",
       "      <td>-926.185831</td>\n",
       "      <td>27</td>\n",
       "      <td>высшее</td>\n",
       "      <td>0</td>\n",
       "      <td>гражданский брак</td>\n",
       "      <td>1</td>\n",
       "      <td>M</td>\n",
       "      <td>компаньон</td>\n",
       "      <td>0</td>\n",
       "      <td>255763.565419</td>\n",
       "      <td>покупка жилья</td>\n",
       "    </tr>\n",
       "    <tr>\n",
       "      <th>6</th>\n",
       "      <td>0</td>\n",
       "      <td>-2879.202052</td>\n",
       "      <td>43</td>\n",
       "      <td>высшее</td>\n",
       "      <td>0</td>\n",
       "      <td>женат / замужем</td>\n",
       "      <td>0</td>\n",
       "      <td>F</td>\n",
       "      <td>компаньон</td>\n",
       "      <td>0</td>\n",
       "      <td>240525.971920</td>\n",
       "      <td>операции с жильем</td>\n",
       "    </tr>\n",
       "    <tr>\n",
       "      <th>7</th>\n",
       "      <td>0</td>\n",
       "      <td>-152.779569</td>\n",
       "      <td>50</td>\n",
       "      <td>СРЕДНЕЕ</td>\n",
       "      <td>1</td>\n",
       "      <td>женат / замужем</td>\n",
       "      <td>0</td>\n",
       "      <td>M</td>\n",
       "      <td>сотрудник</td>\n",
       "      <td>0</td>\n",
       "      <td>135823.934197</td>\n",
       "      <td>образование</td>\n",
       "    </tr>\n",
       "    <tr>\n",
       "      <th>8</th>\n",
       "      <td>2</td>\n",
       "      <td>-6929.865299</td>\n",
       "      <td>35</td>\n",
       "      <td>ВЫСШЕЕ</td>\n",
       "      <td>0</td>\n",
       "      <td>гражданский брак</td>\n",
       "      <td>1</td>\n",
       "      <td>F</td>\n",
       "      <td>сотрудник</td>\n",
       "      <td>0</td>\n",
       "      <td>95856.832424</td>\n",
       "      <td>на проведение свадьбы</td>\n",
       "    </tr>\n",
       "    <tr>\n",
       "      <th>9</th>\n",
       "      <td>0</td>\n",
       "      <td>-2188.756445</td>\n",
       "      <td>41</td>\n",
       "      <td>среднее</td>\n",
       "      <td>1</td>\n",
       "      <td>женат / замужем</td>\n",
       "      <td>0</td>\n",
       "      <td>M</td>\n",
       "      <td>сотрудник</td>\n",
       "      <td>0</td>\n",
       "      <td>144425.938277</td>\n",
       "      <td>покупка жилья для семьи</td>\n",
       "    </tr>\n",
       "    <tr>\n",
       "      <th>10</th>\n",
       "      <td>2</td>\n",
       "      <td>-4171.483647</td>\n",
       "      <td>36</td>\n",
       "      <td>высшее</td>\n",
       "      <td>0</td>\n",
       "      <td>женат / замужем</td>\n",
       "      <td>0</td>\n",
       "      <td>M</td>\n",
       "      <td>компаньон</td>\n",
       "      <td>0</td>\n",
       "      <td>113943.491460</td>\n",
       "      <td>покупка недвижимости</td>\n",
       "    </tr>\n",
       "    <tr>\n",
       "      <th>11</th>\n",
       "      <td>0</td>\n",
       "      <td>-792.701887</td>\n",
       "      <td>40</td>\n",
       "      <td>среднее</td>\n",
       "      <td>1</td>\n",
       "      <td>женат / замужем</td>\n",
       "      <td>0</td>\n",
       "      <td>F</td>\n",
       "      <td>сотрудник</td>\n",
       "      <td>0</td>\n",
       "      <td>77069.234271</td>\n",
       "      <td>покупка коммерческой недвижимости</td>\n",
       "    </tr>\n",
       "    <tr>\n",
       "      <th>12</th>\n",
       "      <td>0</td>\n",
       "      <td>NaN</td>\n",
       "      <td>65</td>\n",
       "      <td>среднее</td>\n",
       "      <td>1</td>\n",
       "      <td>гражданский брак</td>\n",
       "      <td>1</td>\n",
       "      <td>M</td>\n",
       "      <td>пенсионер</td>\n",
       "      <td>0</td>\n",
       "      <td>145017.937533</td>\n",
       "      <td>сыграть свадьбу</td>\n",
       "    </tr>\n",
       "    <tr>\n",
       "      <th>13</th>\n",
       "      <td>0</td>\n",
       "      <td>-1846.641941</td>\n",
       "      <td>54</td>\n",
       "      <td>неоконченное высшее</td>\n",
       "      <td>2</td>\n",
       "      <td>женат / замужем</td>\n",
       "      <td>0</td>\n",
       "      <td>F</td>\n",
       "      <td>сотрудник</td>\n",
       "      <td>0</td>\n",
       "      <td>130458.228857</td>\n",
       "      <td>приобретение автомобиля</td>\n",
       "    </tr>\n",
       "    <tr>\n",
       "      <th>14</th>\n",
       "      <td>0</td>\n",
       "      <td>-1844.956182</td>\n",
       "      <td>56</td>\n",
       "      <td>высшее</td>\n",
       "      <td>0</td>\n",
       "      <td>гражданский брак</td>\n",
       "      <td>1</td>\n",
       "      <td>F</td>\n",
       "      <td>компаньон</td>\n",
       "      <td>1</td>\n",
       "      <td>165127.911772</td>\n",
       "      <td>покупка жилой недвижимости</td>\n",
       "    </tr>\n",
       "    <tr>\n",
       "      <th>15</th>\n",
       "      <td>1</td>\n",
       "      <td>-972.364419</td>\n",
       "      <td>26</td>\n",
       "      <td>среднее</td>\n",
       "      <td>1</td>\n",
       "      <td>женат / замужем</td>\n",
       "      <td>0</td>\n",
       "      <td>F</td>\n",
       "      <td>сотрудник</td>\n",
       "      <td>0</td>\n",
       "      <td>116820.904450</td>\n",
       "      <td>строительство собственной недвижимости</td>\n",
       "    </tr>\n",
       "    <tr>\n",
       "      <th>16</th>\n",
       "      <td>0</td>\n",
       "      <td>-1719.934226</td>\n",
       "      <td>35</td>\n",
       "      <td>среднее</td>\n",
       "      <td>1</td>\n",
       "      <td>женат / замужем</td>\n",
       "      <td>0</td>\n",
       "      <td>F</td>\n",
       "      <td>сотрудник</td>\n",
       "      <td>0</td>\n",
       "      <td>289202.704229</td>\n",
       "      <td>недвижимость</td>\n",
       "    </tr>\n",
       "    <tr>\n",
       "      <th>17</th>\n",
       "      <td>0</td>\n",
       "      <td>-2369.999720</td>\n",
       "      <td>33</td>\n",
       "      <td>высшее</td>\n",
       "      <td>0</td>\n",
       "      <td>гражданский брак</td>\n",
       "      <td>1</td>\n",
       "      <td>M</td>\n",
       "      <td>сотрудник</td>\n",
       "      <td>0</td>\n",
       "      <td>90410.586745</td>\n",
       "      <td>строительство недвижимости</td>\n",
       "    </tr>\n",
       "    <tr>\n",
       "      <th>18</th>\n",
       "      <td>0</td>\n",
       "      <td>400281.136913</td>\n",
       "      <td>53</td>\n",
       "      <td>среднее</td>\n",
       "      <td>1</td>\n",
       "      <td>вдовец / вдова</td>\n",
       "      <td>2</td>\n",
       "      <td>F</td>\n",
       "      <td>пенсионер</td>\n",
       "      <td>0</td>\n",
       "      <td>56823.777243</td>\n",
       "      <td>на покупку подержанного автомобиля</td>\n",
       "    </tr>\n",
       "    <tr>\n",
       "      <th>19</th>\n",
       "      <td>0</td>\n",
       "      <td>-10038.818549</td>\n",
       "      <td>48</td>\n",
       "      <td>СРЕДНЕЕ</td>\n",
       "      <td>1</td>\n",
       "      <td>в разводе</td>\n",
       "      <td>3</td>\n",
       "      <td>F</td>\n",
       "      <td>сотрудник</td>\n",
       "      <td>0</td>\n",
       "      <td>242831.107982</td>\n",
       "      <td>на покупку своего автомобиля</td>\n",
       "    </tr>\n",
       "  </tbody>\n",
       "</table>\n",
       "</div>"
      ],
      "text/plain": [
       "    children  days_employed  dob_years            education  education_id  \\\n",
       "0          1   -8437.673028         42               высшее             0   \n",
       "1          1   -4024.803754         36              среднее             1   \n",
       "2          0   -5623.422610         33              Среднее             1   \n",
       "3          3   -4124.747207         32              среднее             1   \n",
       "4          0  340266.072047         53              среднее             1   \n",
       "5          0    -926.185831         27               высшее             0   \n",
       "6          0   -2879.202052         43               высшее             0   \n",
       "7          0    -152.779569         50              СРЕДНЕЕ             1   \n",
       "8          2   -6929.865299         35               ВЫСШЕЕ             0   \n",
       "9          0   -2188.756445         41              среднее             1   \n",
       "10         2   -4171.483647         36               высшее             0   \n",
       "11         0    -792.701887         40              среднее             1   \n",
       "12         0            NaN         65              среднее             1   \n",
       "13         0   -1846.641941         54  неоконченное высшее             2   \n",
       "14         0   -1844.956182         56               высшее             0   \n",
       "15         1    -972.364419         26              среднее             1   \n",
       "16         0   -1719.934226         35              среднее             1   \n",
       "17         0   -2369.999720         33               высшее             0   \n",
       "18         0  400281.136913         53              среднее             1   \n",
       "19         0  -10038.818549         48              СРЕДНЕЕ             1   \n",
       "\n",
       "       family_status  family_status_id gender income_type  debt  \\\n",
       "0    женат / замужем                 0      F   сотрудник     0   \n",
       "1    женат / замужем                 0      F   сотрудник     0   \n",
       "2    женат / замужем                 0      M   сотрудник     0   \n",
       "3    женат / замужем                 0      M   сотрудник     0   \n",
       "4   гражданский брак                 1      F   пенсионер     0   \n",
       "5   гражданский брак                 1      M   компаньон     0   \n",
       "6    женат / замужем                 0      F   компаньон     0   \n",
       "7    женат / замужем                 0      M   сотрудник     0   \n",
       "8   гражданский брак                 1      F   сотрудник     0   \n",
       "9    женат / замужем                 0      M   сотрудник     0   \n",
       "10   женат / замужем                 0      M   компаньон     0   \n",
       "11   женат / замужем                 0      F   сотрудник     0   \n",
       "12  гражданский брак                 1      M   пенсионер     0   \n",
       "13   женат / замужем                 0      F   сотрудник     0   \n",
       "14  гражданский брак                 1      F   компаньон     1   \n",
       "15   женат / замужем                 0      F   сотрудник     0   \n",
       "16   женат / замужем                 0      F   сотрудник     0   \n",
       "17  гражданский брак                 1      M   сотрудник     0   \n",
       "18    вдовец / вдова                 2      F   пенсионер     0   \n",
       "19         в разводе                 3      F   сотрудник     0   \n",
       "\n",
       "     total_income                                 purpose  \n",
       "0   253875.639453                           покупка жилья  \n",
       "1   112080.014102                 приобретение автомобиля  \n",
       "2   145885.952297                           покупка жилья  \n",
       "3   267628.550329              дополнительное образование  \n",
       "4   158616.077870                         сыграть свадьбу  \n",
       "5   255763.565419                           покупка жилья  \n",
       "6   240525.971920                       операции с жильем  \n",
       "7   135823.934197                             образование  \n",
       "8    95856.832424                   на проведение свадьбы  \n",
       "9   144425.938277                 покупка жилья для семьи  \n",
       "10  113943.491460                    покупка недвижимости  \n",
       "11   77069.234271       покупка коммерческой недвижимости  \n",
       "12  145017.937533                         сыграть свадьбу  \n",
       "13  130458.228857                 приобретение автомобиля  \n",
       "14  165127.911772              покупка жилой недвижимости  \n",
       "15  116820.904450  строительство собственной недвижимости  \n",
       "16  289202.704229                            недвижимость  \n",
       "17   90410.586745              строительство недвижимости  \n",
       "18   56823.777243      на покупку подержанного автомобиля  \n",
       "19  242831.107982            на покупку своего автомобиля  "
      ]
     },
     "execution_count": 8,
     "metadata": {},
     "output_type": "execute_result"
    }
   ],
   "source": [
    "df.head(20)"
   ]
  },
  {
   "cell_type": "code",
   "execution_count": 10,
   "id": "2c026c3b",
   "metadata": {},
   "outputs": [
    {
     "data": {
      "image/png": "[encoded data removed]",
      "text/plain": [
       "<Figure size 432x288 with 1 Axes>"
      ]
     },
     "metadata": {
      "needs_background": "light"
     },
     "output_type": "display_data"
    }
   ],
   "source": [
    "plt.hist(df['days_employed'], bins=50)\n",
    "plt.show()"
   ]
  },
  {
   "cell_type": "markdown",
   "id": "f7a0f303",
   "metadata": {},
   "source": [
    "Как видно из полученных данных, тип значений - float. При этом присутствуют положительные, отрицательные числа и пропуски. Произведем анализ данных. "
   ]
  },
  {
   "cell_type": "markdown",
   "id": "f59f9e05",
   "metadata": {},
   "source": [
    "Если сопоставить столбцы `days_employed` и `dob_years`, то есть общий студовой стаж в днях и возраст клиента в годах, можно заметить, что у клиентов, которых студовой стаж указан положительными числами, стаж больше, чем возраст самого клиента. Вероятнее всего эти значения выражены не в днях, а в часах. Поэтому необходимо разделить все положительные числа этого столбца на 24."
   ]
  },
  {
   "cell_type": "markdown",
   "id": "cad7d7db",
   "metadata": {},
   "source": [
    "Однако необходимо также сделать предположение, что у некоторых клиентов, которых значение стажа положительное число, стаж выражен в днях. Поэтому необходимо сделать предварительную проверку. Создадим выборку с условием, что значение трудового стажа больше нуля и меньше 25550. 25550 дней примерно соответствует 70 годам. Найдем количество таких значений:"
   ]
  },
  {
   "cell_type": "code",
   "execution_count": 11,
   "id": "e404b11f",
   "metadata": {},
   "outputs": [
    {
     "data": {
      "text/plain": [
       "0"
      ]
     },
     "execution_count": 11,
     "metadata": {},
     "output_type": "execute_result"
    }
   ],
   "source": [
    "df.loc[(df['days_employed'] < 25550) & (df['days_employed'] > 0) ,'days_employed'].count()"
   ]
  },
  {
   "cell_type": "markdown",
   "id": "1cca80fd",
   "metadata": {},
   "source": [
    "Количество клиентов, у которых значение трудового стажа - положительное число, выраженное в днях, 0. Таким образом, можем сделать вывод, что все значения в столбце `days_employed` представлены в часах. Разделим эти значения на 24:"
   ]
  },
  {
   "cell_type": "code",
   "execution_count": 12,
   "id": "a6d66dab",
   "metadata": {},
   "outputs": [],
   "source": [
    "df.loc[df['days_employed'] > 0 ,'days_employed'] = df.loc[df['days_employed'] > 0 ,'days_employed'] / 24"
   ]
  },
  {
   "cell_type": "markdown",
   "id": "04064adc",
   "metadata": {},
   "source": [
    "Отрицательные же числа по модулю примерно соответствуют реальному стажу клиентов, исходя из их возраста. Поэтому вероятнее всего необходимо только поменять знак этих значений:"
   ]
  },
  {
   "cell_type": "code",
   "execution_count": 13,
   "id": "324d736e",
   "metadata": {},
   "outputs": [],
   "source": [
    "df.loc[df['days_employed'] < 0 ,'days_employed'] = -df.loc[df['days_employed'] < 0 ,'days_employed']"
   ]
  },
  {
   "cell_type": "markdown",
   "id": "7c54d76a",
   "metadata": {},
   "source": [
    "Однако остались еще пропуски. Определим их количество:"
   ]
  },
  {
   "cell_type": "code",
   "execution_count": 14,
   "id": "4aba3053",
   "metadata": {},
   "outputs": [
    {
     "data": {
      "text/plain": [
       "2174"
      ]
     },
     "execution_count": 14,
     "metadata": {},
     "output_type": "execute_result"
    }
   ],
   "source": [
    "len(df[df['days_employed'].isna()])"
   ]
  },
  {
   "cell_type": "markdown",
   "id": "e23c9bda",
   "metadata": {},
   "source": [
    "Количество пропусков значительное, более 11% от общего количества значений. Заполним пропуски медианным значением этого столбца."
   ]
  },
  {
   "cell_type": "markdown",
   "id": "69c99da9",
   "metadata": {},
   "source": [
    "Определим медианное значение столбца `days_employed`:"
   ]
  },
  {
   "cell_type": "code",
   "execution_count": 15,
   "id": "56d731fc",
   "metadata": {},
   "outputs": [
    {
     "data": {
      "text/plain": [
       "2194.220566878695"
      ]
     },
     "execution_count": 15,
     "metadata": {},
     "output_type": "execute_result"
    }
   ],
   "source": [
    "med_days_employed = df['days_employed'].median()\n",
    "med_days_employed"
   ]
  },
  {
   "cell_type": "markdown",
   "id": "5d8410df",
   "metadata": {},
   "source": [
    "Заменим пропуски в столбце `days_employed` на медианное значение `med_days_employed`:"
   ]
  },
  {
   "cell_type": "code",
   "execution_count": 16,
   "id": "7318e1c6",
   "metadata": {},
   "outputs": [],
   "source": [
    "df['days_employed'] = df['days_employed'].fillna(med_days_employed)"
   ]
  },
  {
   "cell_type": "markdown",
   "id": "462ad977",
   "metadata": {},
   "source": [
    "Теперь все значения в столбце `days_employed` положительные и соответствуют действительности. Однако оставлять значения количества дней в формате `float` не корректно. Поэтому поменяем тип данных в этом столбце на `int`:"
   ]
  },
  {
   "cell_type": "code",
   "execution_count": 17,
   "id": "699ab4e3",
   "metadata": {},
   "outputs": [],
   "source": [
    "df['days_employed'] = df['days_employed'].astype('int')"
   ]
  },
  {
   "cell_type": "markdown",
   "id": "603cf860",
   "metadata": {},
   "source": [
    "Проверим корректность полученных значений:"
   ]
  },
  {
   "cell_type": "code",
   "execution_count": 18,
   "id": "3da53531",
   "metadata": {
    "scrolled": false
   },
   "outputs": [
    {
     "data": {
      "text/plain": [
       "0      8437\n",
       "1      4024\n",
       "2      5623\n",
       "3      4124\n",
       "4     14177\n",
       "5       926\n",
       "6      2879\n",
       "7       152\n",
       "8      6929\n",
       "9      2188\n",
       "10     4171\n",
       "11      792\n",
       "12     2194\n",
       "13     1846\n",
       "14     1844\n",
       "15      972\n",
       "16     1719\n",
       "17     2369\n",
       "18    16678\n",
       "19    10038\n",
       "Name: days_employed, dtype: int64"
      ]
     },
     "execution_count": 18,
     "metadata": {},
     "output_type": "execute_result"
    }
   ],
   "source": [
    "df['days_employed'].head(20)"
   ]
  },
  {
   "cell_type": "markdown",
   "id": "a08035f4",
   "metadata": {},
   "source": [
    "Данные отображаются корректно, можем переходить к следующему этапу."
   ]
  },
  {
   "cell_type": "code",
   "execution_count": 19,
   "id": "1986bc83",
   "metadata": {},
   "outputs": [
    {
     "data": {
      "image/png": "[encoded data removed]",
      "text/plain": [
       "<Figure size 432x288 with 1 Axes>"
      ]
     },
     "metadata": {
      "needs_background": "light"
     },
     "output_type": "display_data"
    }
   ],
   "source": [
    "plt.hist(df['days_employed'], bins=50)\n",
    "plt.show()"
   ]
  },
  {
   "cell_type": "markdown",
   "id": "a09fdf3e",
   "metadata": {},
   "source": [
    "Также проверим остальные столбцы с количественным типом данных: gender, dob_years, children"
   ]
  },
  {
   "cell_type": "markdown",
   "id": "32be7e2d",
   "metadata": {},
   "source": [
    "Выведем распределение столбца `gender`:"
   ]
  },
  {
   "cell_type": "code",
   "execution_count": 20,
   "id": "07efc8e1",
   "metadata": {
    "scrolled": true
   },
   "outputs": [
    {
     "data": {
      "image/png": "[encoded data removed]",
      "text/plain": [
       "<Figure size 432x288 with 1 Axes>"
      ]
     },
     "metadata": {
      "needs_background": "light"
     },
     "output_type": "display_data"
    }
   ],
   "source": [
    "plt.hist(df['gender'], bins=50)\n",
    "plt.show()"
   ]
  },
  {
   "cell_type": "markdown",
   "id": "ac5a9cd1",
   "metadata": {},
   "source": [
    "Исходя из полученных данных, большинство клиентов составляют женщины, меньшую часть - мужчины. Однако появилось третье значение - `XNA`. Определим количество таких данных:"
   ]
  },
  {
   "cell_type": "code",
   "execution_count": 21,
   "id": "902523e9",
   "metadata": {},
   "outputs": [
    {
     "data": {
      "text/plain": [
       "F      14236\n",
       "M       7288\n",
       "XNA        1\n",
       "Name: gender, dtype: int64"
      ]
     },
     "execution_count": 21,
     "metadata": {},
     "output_type": "execute_result"
    }
   ],
   "source": [
    "df['gender'].value_counts()"
   ]
  },
  {
   "cell_type": "markdown",
   "id": "d9b99f9e",
   "metadata": {},
   "source": [
    "Значение `XNA` в столбце `gender` единственное. Поэтому можно удалить всю строчку с этим значением, на качестве исследования это практически не отразится:"
   ]
  },
  {
   "cell_type": "code",
   "execution_count": 22,
   "id": "bf58ee20",
   "metadata": {},
   "outputs": [],
   "source": [
    "df = df[df['gender'] != 'XNA']"
   ]
  },
  {
   "cell_type": "markdown",
   "id": "61f29c4b",
   "metadata": {},
   "source": [
    "Сделаем проверку:"
   ]
  },
  {
   "cell_type": "code",
   "execution_count": 23,
   "id": "5e6d47dc",
   "metadata": {},
   "outputs": [
    {
     "name": "stdout",
     "output_type": "stream",
     "text": [
      "<class 'pandas.core.frame.DataFrame'>\n",
      "Int64Index: 21524 entries, 0 to 21524\n",
      "Data columns (total 12 columns):\n",
      " #   Column            Non-Null Count  Dtype  \n",
      "---  ------            --------------  -----  \n",
      " 0   children          21524 non-null  int64  \n",
      " 1   days_employed     21524 non-null  int64  \n",
      " 2   dob_years         21524 non-null  int64  \n",
      " 3   education         21524 non-null  object \n",
      " 4   education_id      21524 non-null  int64  \n",
      " 5   family_status     21524 non-null  object \n",
      " 6   family_status_id  21524 non-null  int64  \n",
      " 7   gender            21524 non-null  object \n",
      " 8   income_type       21524 non-null  object \n",
      " 9   debt              21524 non-null  int64  \n",
      " 10  total_income      21524 non-null  float64\n",
      " 11  purpose           21524 non-null  object \n",
      "dtypes: float64(1), int64(6), object(5)\n",
      "memory usage: 2.1+ MB\n"
     ]
    }
   ],
   "source": [
    "df.info()"
   ]
  },
  {
   "cell_type": "markdown",
   "id": "4609355d",
   "metadata": {},
   "source": [
    "В выгрузке осталось 21524 строчки, что на 1 меньше, чем было до этого, значит, удаление произошло верно. \n",
    "Перейдем к следующему столбцу - `dob_years`:"
   ]
  },
  {
   "cell_type": "code",
   "execution_count": 24,
   "id": "765be64a",
   "metadata": {
    "scrolled": true
   },
   "outputs": [
    {
     "data": {
      "image/png": "[encoded data removed]",
      "text/plain": [
       "<Figure size 432x288 with 1 Axes>"
      ]
     },
     "metadata": {
      "needs_background": "light"
     },
     "output_type": "display_data"
    }
   ],
   "source": [
    "plt.hist(df['dob_years'], bins=50)\n",
    "plt.show()"
   ]
  },
  {
   "cell_type": "markdown",
   "id": "7d45a07e",
   "metadata": {},
   "source": [
    "Судя по графику, в столбце есть ошибочная информация. Определим количество ошибок:"
   ]
  },
  {
   "cell_type": "code",
   "execution_count": 25,
   "id": "9604ab3a",
   "metadata": {
    "scrolled": false
   },
   "outputs": [
    {
     "data": {
      "text/html": [
       "<div>\n",
       "<style scoped>\n",
       "    .dataframe tbody tr th:only-of-type {\n",
       "        vertical-align: middle;\n",
       "    }\n",
       "\n",
       "    .dataframe tbody tr th {\n",
       "        vertical-align: top;\n",
       "    }\n",
       "\n",
       "    .dataframe thead th {\n",
       "        text-align: right;\n",
       "    }\n",
       "</style>\n",
       "<table border=\"1\" class=\"dataframe\">\n",
       "  <thead>\n",
       "    <tr style=\"text-align: right;\">\n",
       "      <th></th>\n",
       "      <th>children</th>\n",
       "      <th>days_employed</th>\n",
       "      <th>dob_years</th>\n",
       "      <th>education</th>\n",
       "      <th>education_id</th>\n",
       "      <th>family_status</th>\n",
       "      <th>family_status_id</th>\n",
       "      <th>gender</th>\n",
       "      <th>income_type</th>\n",
       "      <th>debt</th>\n",
       "      <th>total_income</th>\n",
       "      <th>purpose</th>\n",
       "    </tr>\n",
       "  </thead>\n",
       "  <tbody>\n",
       "    <tr>\n",
       "      <th>99</th>\n",
       "      <td>0</td>\n",
       "      <td>14439</td>\n",
       "      <td>0</td>\n",
       "      <td>Среднее</td>\n",
       "      <td>1</td>\n",
       "      <td>женат / замужем</td>\n",
       "      <td>0</td>\n",
       "      <td>F</td>\n",
       "      <td>пенсионер</td>\n",
       "      <td>0</td>\n",
       "      <td>71291.522491</td>\n",
       "      <td>автомобиль</td>\n",
       "    </tr>\n",
       "    <tr>\n",
       "      <th>149</th>\n",
       "      <td>0</td>\n",
       "      <td>2664</td>\n",
       "      <td>0</td>\n",
       "      <td>среднее</td>\n",
       "      <td>1</td>\n",
       "      <td>в разводе</td>\n",
       "      <td>3</td>\n",
       "      <td>F</td>\n",
       "      <td>сотрудник</td>\n",
       "      <td>0</td>\n",
       "      <td>70176.435951</td>\n",
       "      <td>операции с жильем</td>\n",
       "    </tr>\n",
       "    <tr>\n",
       "      <th>270</th>\n",
       "      <td>3</td>\n",
       "      <td>1872</td>\n",
       "      <td>0</td>\n",
       "      <td>среднее</td>\n",
       "      <td>1</td>\n",
       "      <td>женат / замужем</td>\n",
       "      <td>0</td>\n",
       "      <td>F</td>\n",
       "      <td>сотрудник</td>\n",
       "      <td>0</td>\n",
       "      <td>102166.458894</td>\n",
       "      <td>ремонт жилью</td>\n",
       "    </tr>\n",
       "    <tr>\n",
       "      <th>578</th>\n",
       "      <td>0</td>\n",
       "      <td>16577</td>\n",
       "      <td>0</td>\n",
       "      <td>среднее</td>\n",
       "      <td>1</td>\n",
       "      <td>женат / замужем</td>\n",
       "      <td>0</td>\n",
       "      <td>F</td>\n",
       "      <td>пенсионер</td>\n",
       "      <td>0</td>\n",
       "      <td>97620.687042</td>\n",
       "      <td>строительство собственной недвижимости</td>\n",
       "    </tr>\n",
       "    <tr>\n",
       "      <th>1040</th>\n",
       "      <td>0</td>\n",
       "      <td>1158</td>\n",
       "      <td>0</td>\n",
       "      <td>высшее</td>\n",
       "      <td>0</td>\n",
       "      <td>в разводе</td>\n",
       "      <td>3</td>\n",
       "      <td>F</td>\n",
       "      <td>компаньон</td>\n",
       "      <td>0</td>\n",
       "      <td>303994.134987</td>\n",
       "      <td>свой автомобиль</td>\n",
       "    </tr>\n",
       "    <tr>\n",
       "      <th>...</th>\n",
       "      <td>...</td>\n",
       "      <td>...</td>\n",
       "      <td>...</td>\n",
       "      <td>...</td>\n",
       "      <td>...</td>\n",
       "      <td>...</td>\n",
       "      <td>...</td>\n",
       "      <td>...</td>\n",
       "      <td>...</td>\n",
       "      <td>...</td>\n",
       "      <td>...</td>\n",
       "      <td>...</td>\n",
       "    </tr>\n",
       "    <tr>\n",
       "      <th>19829</th>\n",
       "      <td>0</td>\n",
       "      <td>2194</td>\n",
       "      <td>0</td>\n",
       "      <td>среднее</td>\n",
       "      <td>1</td>\n",
       "      <td>женат / замужем</td>\n",
       "      <td>0</td>\n",
       "      <td>F</td>\n",
       "      <td>сотрудник</td>\n",
       "      <td>0</td>\n",
       "      <td>145017.937533</td>\n",
       "      <td>жилье</td>\n",
       "    </tr>\n",
       "    <tr>\n",
       "      <th>20462</th>\n",
       "      <td>0</td>\n",
       "      <td>14113</td>\n",
       "      <td>0</td>\n",
       "      <td>среднее</td>\n",
       "      <td>1</td>\n",
       "      <td>женат / замужем</td>\n",
       "      <td>0</td>\n",
       "      <td>F</td>\n",
       "      <td>пенсионер</td>\n",
       "      <td>0</td>\n",
       "      <td>259193.920299</td>\n",
       "      <td>покупка своего жилья</td>\n",
       "    </tr>\n",
       "    <tr>\n",
       "      <th>20577</th>\n",
       "      <td>0</td>\n",
       "      <td>13822</td>\n",
       "      <td>0</td>\n",
       "      <td>среднее</td>\n",
       "      <td>1</td>\n",
       "      <td>Не женат / не замужем</td>\n",
       "      <td>4</td>\n",
       "      <td>F</td>\n",
       "      <td>пенсионер</td>\n",
       "      <td>0</td>\n",
       "      <td>129788.762899</td>\n",
       "      <td>недвижимость</td>\n",
       "    </tr>\n",
       "    <tr>\n",
       "      <th>21179</th>\n",
       "      <td>2</td>\n",
       "      <td>108</td>\n",
       "      <td>0</td>\n",
       "      <td>высшее</td>\n",
       "      <td>0</td>\n",
       "      <td>женат / замужем</td>\n",
       "      <td>0</td>\n",
       "      <td>M</td>\n",
       "      <td>компаньон</td>\n",
       "      <td>0</td>\n",
       "      <td>240702.007382</td>\n",
       "      <td>строительство жилой недвижимости</td>\n",
       "    </tr>\n",
       "    <tr>\n",
       "      <th>21313</th>\n",
       "      <td>0</td>\n",
       "      <td>1268</td>\n",
       "      <td>0</td>\n",
       "      <td>среднее</td>\n",
       "      <td>1</td>\n",
       "      <td>Не женат / не замужем</td>\n",
       "      <td>4</td>\n",
       "      <td>M</td>\n",
       "      <td>сотрудник</td>\n",
       "      <td>0</td>\n",
       "      <td>152419.184851</td>\n",
       "      <td>операции с жильем</td>\n",
       "    </tr>\n",
       "  </tbody>\n",
       "</table>\n",
       "<p>101 rows × 12 columns</p>\n",
       "</div>"
      ],
      "text/plain": [
       "       children  days_employed  dob_years education  education_id  \\\n",
       "99            0          14439          0   Среднее             1   \n",
       "149           0           2664          0   среднее             1   \n",
       "270           3           1872          0   среднее             1   \n",
       "578           0          16577          0   среднее             1   \n",
       "1040          0           1158          0    высшее             0   \n",
       "...         ...            ...        ...       ...           ...   \n",
       "19829         0           2194          0   среднее             1   \n",
       "20462         0          14113          0   среднее             1   \n",
       "20577         0          13822          0   среднее             1   \n",
       "21179         2            108          0    высшее             0   \n",
       "21313         0           1268          0   среднее             1   \n",
       "\n",
       "               family_status  family_status_id gender income_type  debt  \\\n",
       "99           женат / замужем                 0      F   пенсионер     0   \n",
       "149                в разводе                 3      F   сотрудник     0   \n",
       "270          женат / замужем                 0      F   сотрудник     0   \n",
       "578          женат / замужем                 0      F   пенсионер     0   \n",
       "1040               в разводе                 3      F   компаньон     0   \n",
       "...                      ...               ...    ...         ...   ...   \n",
       "19829        женат / замужем                 0      F   сотрудник     0   \n",
       "20462        женат / замужем                 0      F   пенсионер     0   \n",
       "20577  Не женат / не замужем                 4      F   пенсионер     0   \n",
       "21179        женат / замужем                 0      M   компаньон     0   \n",
       "21313  Не женат / не замужем                 4      M   сотрудник     0   \n",
       "\n",
       "        total_income                                 purpose  \n",
       "99      71291.522491                              автомобиль  \n",
       "149     70176.435951                       операции с жильем  \n",
       "270    102166.458894                            ремонт жилью  \n",
       "578     97620.687042  строительство собственной недвижимости  \n",
       "1040   303994.134987                         свой автомобиль  \n",
       "...              ...                                     ...  \n",
       "19829  145017.937533                                   жилье  \n",
       "20462  259193.920299                    покупка своего жилья  \n",
       "20577  129788.762899                            недвижимость  \n",
       "21179  240702.007382        строительство жилой недвижимости  \n",
       "21313  152419.184851                       операции с жильем  \n",
       "\n",
       "[101 rows x 12 columns]"
      ]
     },
     "execution_count": 25,
     "metadata": {},
     "output_type": "execute_result"
    }
   ],
   "source": [
    "df[df['dob_years'] < 18]"
   ]
  },
  {
   "cell_type": "code",
   "execution_count": 26,
   "id": "63940c55",
   "metadata": {},
   "outputs": [
    {
     "data": {
      "text/plain": [
       "0.0046924363501207956"
      ]
     },
     "execution_count": 26,
     "metadata": {},
     "output_type": "execute_result"
    }
   ],
   "source": [
    "101 / df['dob_years'].count()"
   ]
  },
  {
   "cell_type": "markdown",
   "id": "84e99496",
   "metadata": {},
   "source": [
    "Ошибок с возрастом - 101. Это составляет менее 0.5% от общего количества. Это не значительно, однако для более точного результата исследования лучше оставить эти данные. Т.е. при анализе влияния других столбцов данные из этих строчек будут использоваться, а при исследовании столбца `dob_years` классификацию по возрастам будем производить без этих строк."
   ]
  },
  {
   "cell_type": "markdown",
   "id": "536a615c",
   "metadata": {},
   "source": [
    "Переходим к столбцу `children`:"
   ]
  },
  {
   "cell_type": "code",
   "execution_count": 27,
   "id": "8a9877ab",
   "metadata": {},
   "outputs": [
    {
     "data": {
      "image/png": "[encoded data removed]",
      "text/plain": [
       "<Figure size 432x288 with 1 Axes>"
      ]
     },
     "metadata": {
      "needs_background": "light"
     },
     "output_type": "display_data"
    }
   ],
   "source": [
    "plt.hist(df['children'], bins=50)\n",
    "plt.show()"
   ]
  },
  {
   "cell_type": "markdown",
   "id": "ed20c713",
   "metadata": {},
   "source": [
    "Как видно из распределения, есть незначительные аномалии, связанные с количеством детей. Определим количество этих аномалий и их значения:"
   ]
  },
  {
   "cell_type": "code",
   "execution_count": 28,
   "id": "d48054cc",
   "metadata": {
    "scrolled": true
   },
   "outputs": [
    {
     "data": {
      "text/plain": [
       " 0     14148\n",
       " 1      4818\n",
       " 2      2055\n",
       " 3       330\n",
       " 20       76\n",
       "-1        47\n",
       " 4        41\n",
       " 5         9\n",
       "Name: children, dtype: int64"
      ]
     },
     "execution_count": 28,
     "metadata": {},
     "output_type": "execute_result"
    }
   ],
   "source": [
    "df['children'].value_counts()"
   ]
  },
  {
   "cell_type": "markdown",
   "id": "b4adc73c",
   "metadata": {},
   "source": [
    "Количество детей \"-1\" - явно аномалия, количество \"20\" - в целом, вероятно, однако очень сомнительно. Проверим строки с этими значениями:"
   ]
  },
  {
   "cell_type": "code",
   "execution_count": 29,
   "id": "f2778a83",
   "metadata": {
    "scrolled": false
   },
   "outputs": [
    {
     "data": {
      "text/html": [
       "<div>\n",
       "<style scoped>\n",
       "    .dataframe tbody tr th:only-of-type {\n",
       "        vertical-align: middle;\n",
       "    }\n",
       "\n",
       "    .dataframe tbody tr th {\n",
       "        vertical-align: top;\n",
       "    }\n",
       "\n",
       "    .dataframe thead th {\n",
       "        text-align: right;\n",
       "    }\n",
       "</style>\n",
       "<table border=\"1\" class=\"dataframe\">\n",
       "  <thead>\n",
       "    <tr style=\"text-align: right;\">\n",
       "      <th></th>\n",
       "      <th>children</th>\n",
       "      <th>days_employed</th>\n",
       "      <th>dob_years</th>\n",
       "      <th>education</th>\n",
       "      <th>education_id</th>\n",
       "      <th>family_status</th>\n",
       "      <th>family_status_id</th>\n",
       "      <th>gender</th>\n",
       "      <th>income_type</th>\n",
       "      <th>debt</th>\n",
       "      <th>total_income</th>\n",
       "      <th>purpose</th>\n",
       "    </tr>\n",
       "  </thead>\n",
       "  <tbody>\n",
       "    <tr>\n",
       "      <th>606</th>\n",
       "      <td>20</td>\n",
       "      <td>880</td>\n",
       "      <td>21</td>\n",
       "      <td>среднее</td>\n",
       "      <td>1</td>\n",
       "      <td>женат / замужем</td>\n",
       "      <td>0</td>\n",
       "      <td>M</td>\n",
       "      <td>компаньон</td>\n",
       "      <td>0</td>\n",
       "      <td>145334.865002</td>\n",
       "      <td>покупка жилья</td>\n",
       "    </tr>\n",
       "    <tr>\n",
       "      <th>720</th>\n",
       "      <td>20</td>\n",
       "      <td>855</td>\n",
       "      <td>44</td>\n",
       "      <td>среднее</td>\n",
       "      <td>1</td>\n",
       "      <td>женат / замужем</td>\n",
       "      <td>0</td>\n",
       "      <td>F</td>\n",
       "      <td>компаньон</td>\n",
       "      <td>0</td>\n",
       "      <td>112998.738649</td>\n",
       "      <td>покупка недвижимости</td>\n",
       "    </tr>\n",
       "    <tr>\n",
       "      <th>1074</th>\n",
       "      <td>20</td>\n",
       "      <td>3310</td>\n",
       "      <td>56</td>\n",
       "      <td>среднее</td>\n",
       "      <td>1</td>\n",
       "      <td>женат / замужем</td>\n",
       "      <td>0</td>\n",
       "      <td>F</td>\n",
       "      <td>сотрудник</td>\n",
       "      <td>1</td>\n",
       "      <td>229518.537004</td>\n",
       "      <td>получение образования</td>\n",
       "    </tr>\n",
       "    <tr>\n",
       "      <th>2510</th>\n",
       "      <td>20</td>\n",
       "      <td>2714</td>\n",
       "      <td>59</td>\n",
       "      <td>высшее</td>\n",
       "      <td>0</td>\n",
       "      <td>вдовец / вдова</td>\n",
       "      <td>2</td>\n",
       "      <td>F</td>\n",
       "      <td>сотрудник</td>\n",
       "      <td>0</td>\n",
       "      <td>264474.835577</td>\n",
       "      <td>операции с коммерческой недвижимостью</td>\n",
       "    </tr>\n",
       "    <tr>\n",
       "      <th>2941</th>\n",
       "      <td>20</td>\n",
       "      <td>2161</td>\n",
       "      <td>0</td>\n",
       "      <td>среднее</td>\n",
       "      <td>1</td>\n",
       "      <td>женат / замужем</td>\n",
       "      <td>0</td>\n",
       "      <td>F</td>\n",
       "      <td>сотрудник</td>\n",
       "      <td>0</td>\n",
       "      <td>199739.941398</td>\n",
       "      <td>на покупку автомобиля</td>\n",
       "    </tr>\n",
       "    <tr>\n",
       "      <th>3302</th>\n",
       "      <td>20</td>\n",
       "      <td>2194</td>\n",
       "      <td>35</td>\n",
       "      <td>среднее</td>\n",
       "      <td>1</td>\n",
       "      <td>Не женат / не замужем</td>\n",
       "      <td>4</td>\n",
       "      <td>F</td>\n",
       "      <td>госслужащий</td>\n",
       "      <td>0</td>\n",
       "      <td>145017.937533</td>\n",
       "      <td>профильное образование</td>\n",
       "    </tr>\n",
       "    <tr>\n",
       "      <th>3396</th>\n",
       "      <td>20</td>\n",
       "      <td>2194</td>\n",
       "      <td>56</td>\n",
       "      <td>высшее</td>\n",
       "      <td>0</td>\n",
       "      <td>женат / замужем</td>\n",
       "      <td>0</td>\n",
       "      <td>F</td>\n",
       "      <td>компаньон</td>\n",
       "      <td>0</td>\n",
       "      <td>145017.937533</td>\n",
       "      <td>высшее образование</td>\n",
       "    </tr>\n",
       "    <tr>\n",
       "      <th>3671</th>\n",
       "      <td>20</td>\n",
       "      <td>913</td>\n",
       "      <td>23</td>\n",
       "      <td>среднее</td>\n",
       "      <td>1</td>\n",
       "      <td>Не женат / не замужем</td>\n",
       "      <td>4</td>\n",
       "      <td>F</td>\n",
       "      <td>сотрудник</td>\n",
       "      <td>0</td>\n",
       "      <td>101255.492076</td>\n",
       "      <td>на покупку подержанного автомобиля</td>\n",
       "    </tr>\n",
       "    <tr>\n",
       "      <th>3697</th>\n",
       "      <td>20</td>\n",
       "      <td>2907</td>\n",
       "      <td>40</td>\n",
       "      <td>среднее</td>\n",
       "      <td>1</td>\n",
       "      <td>гражданский брак</td>\n",
       "      <td>1</td>\n",
       "      <td>M</td>\n",
       "      <td>сотрудник</td>\n",
       "      <td>0</td>\n",
       "      <td>115380.694664</td>\n",
       "      <td>на покупку подержанного автомобиля</td>\n",
       "    </tr>\n",
       "    <tr>\n",
       "      <th>3735</th>\n",
       "      <td>20</td>\n",
       "      <td>805</td>\n",
       "      <td>26</td>\n",
       "      <td>высшее</td>\n",
       "      <td>0</td>\n",
       "      <td>Не женат / не замужем</td>\n",
       "      <td>4</td>\n",
       "      <td>M</td>\n",
       "      <td>сотрудник</td>\n",
       "      <td>0</td>\n",
       "      <td>137200.646181</td>\n",
       "      <td>ремонт жилью</td>\n",
       "    </tr>\n",
       "    <tr>\n",
       "      <th>3877</th>\n",
       "      <td>20</td>\n",
       "      <td>8190</td>\n",
       "      <td>45</td>\n",
       "      <td>среднее</td>\n",
       "      <td>1</td>\n",
       "      <td>гражданский брак</td>\n",
       "      <td>1</td>\n",
       "      <td>F</td>\n",
       "      <td>сотрудник</td>\n",
       "      <td>0</td>\n",
       "      <td>312270.145176</td>\n",
       "      <td>сделка с подержанным автомобилем</td>\n",
       "    </tr>\n",
       "    <tr>\n",
       "      <th>5020</th>\n",
       "      <td>20</td>\n",
       "      <td>231</td>\n",
       "      <td>37</td>\n",
       "      <td>среднее</td>\n",
       "      <td>1</td>\n",
       "      <td>гражданский брак</td>\n",
       "      <td>1</td>\n",
       "      <td>M</td>\n",
       "      <td>компаньон</td>\n",
       "      <td>0</td>\n",
       "      <td>260203.344629</td>\n",
       "      <td>сыграть свадьбу</td>\n",
       "    </tr>\n",
       "    <tr>\n",
       "      <th>5315</th>\n",
       "      <td>20</td>\n",
       "      <td>2047</td>\n",
       "      <td>24</td>\n",
       "      <td>среднее</td>\n",
       "      <td>1</td>\n",
       "      <td>женат / замужем</td>\n",
       "      <td>0</td>\n",
       "      <td>F</td>\n",
       "      <td>сотрудник</td>\n",
       "      <td>0</td>\n",
       "      <td>100415.236833</td>\n",
       "      <td>покупка коммерческой недвижимости</td>\n",
       "    </tr>\n",
       "    <tr>\n",
       "      <th>5349</th>\n",
       "      <td>20</td>\n",
       "      <td>15072</td>\n",
       "      <td>64</td>\n",
       "      <td>среднее</td>\n",
       "      <td>1</td>\n",
       "      <td>вдовец / вдова</td>\n",
       "      <td>2</td>\n",
       "      <td>F</td>\n",
       "      <td>пенсионер</td>\n",
       "      <td>0</td>\n",
       "      <td>81926.818467</td>\n",
       "      <td>операции с жильем</td>\n",
       "    </tr>\n",
       "    <tr>\n",
       "      <th>5362</th>\n",
       "      <td>20</td>\n",
       "      <td>14829</td>\n",
       "      <td>69</td>\n",
       "      <td>среднее</td>\n",
       "      <td>1</td>\n",
       "      <td>женат / замужем</td>\n",
       "      <td>0</td>\n",
       "      <td>M</td>\n",
       "      <td>пенсионер</td>\n",
       "      <td>0</td>\n",
       "      <td>138579.082863</td>\n",
       "      <td>автомобили</td>\n",
       "    </tr>\n",
       "  </tbody>\n",
       "</table>\n",
       "</div>"
      ],
      "text/plain": [
       "      children  days_employed  dob_years education  education_id  \\\n",
       "606         20            880         21   среднее             1   \n",
       "720         20            855         44   среднее             1   \n",
       "1074        20           3310         56   среднее             1   \n",
       "2510        20           2714         59    высшее             0   \n",
       "2941        20           2161          0   среднее             1   \n",
       "3302        20           2194         35   среднее             1   \n",
       "3396        20           2194         56    высшее             0   \n",
       "3671        20            913         23   среднее             1   \n",
       "3697        20           2907         40   среднее             1   \n",
       "3735        20            805         26    высшее             0   \n",
       "3877        20           8190         45   среднее             1   \n",
       "5020        20            231         37   среднее             1   \n",
       "5315        20           2047         24   среднее             1   \n",
       "5349        20          15072         64   среднее             1   \n",
       "5362        20          14829         69   среднее             1   \n",
       "\n",
       "              family_status  family_status_id gender  income_type  debt  \\\n",
       "606         женат / замужем                 0      M    компаньон     0   \n",
       "720         женат / замужем                 0      F    компаньон     0   \n",
       "1074        женат / замужем                 0      F    сотрудник     1   \n",
       "2510         вдовец / вдова                 2      F    сотрудник     0   \n",
       "2941        женат / замужем                 0      F    сотрудник     0   \n",
       "3302  Не женат / не замужем                 4      F  госслужащий     0   \n",
       "3396        женат / замужем                 0      F    компаньон     0   \n",
       "3671  Не женат / не замужем                 4      F    сотрудник     0   \n",
       "3697       гражданский брак                 1      M    сотрудник     0   \n",
       "3735  Не женат / не замужем                 4      M    сотрудник     0   \n",
       "3877       гражданский брак                 1      F    сотрудник     0   \n",
       "5020       гражданский брак                 1      M    компаньон     0   \n",
       "5315        женат / замужем                 0      F    сотрудник     0   \n",
       "5349         вдовец / вдова                 2      F    пенсионер     0   \n",
       "5362        женат / замужем                 0      M    пенсионер     0   \n",
       "\n",
       "       total_income                                purpose  \n",
       "606   145334.865002                          покупка жилья  \n",
       "720   112998.738649                   покупка недвижимости  \n",
       "1074  229518.537004                  получение образования  \n",
       "2510  264474.835577  операции с коммерческой недвижимостью  \n",
       "2941  199739.941398                  на покупку автомобиля  \n",
       "3302  145017.937533                 профильное образование  \n",
       "3396  145017.937533                     высшее образование  \n",
       "3671  101255.492076     на покупку подержанного автомобиля  \n",
       "3697  115380.694664     на покупку подержанного автомобиля  \n",
       "3735  137200.646181                           ремонт жилью  \n",
       "3877  312270.145176       сделка с подержанным автомобилем  \n",
       "5020  260203.344629                        сыграть свадьбу  \n",
       "5315  100415.236833      покупка коммерческой недвижимости  \n",
       "5349   81926.818467                      операции с жильем  \n",
       "5362  138579.082863                             автомобили  "
      ]
     },
     "execution_count": 29,
     "metadata": {},
     "output_type": "execute_result"
    }
   ],
   "source": [
    "df[df['children'] == 20].head(15)"
   ]
  },
  {
   "cell_type": "markdown",
   "id": "e4da94d1",
   "metadata": {},
   "source": [
    "Исходя из возраста клиентов очень маловероятно, что у них по 20 детей. Скорее всего произошел некорретный ввод данных."
   ]
  },
  {
   "cell_type": "code",
   "execution_count": 30,
   "id": "96ba7d3c",
   "metadata": {},
   "outputs": [
    {
     "data": {
      "text/plain": [
       "0.005714551198661958"
      ]
     },
     "execution_count": 30,
     "metadata": {},
     "output_type": "execute_result"
    }
   ],
   "source": [
    "(76 + 47) / df['children'].count()"
   ]
  },
  {
   "cell_type": "markdown",
   "id": "2aa91816",
   "metadata": {},
   "source": [
    "Доля аномалий в данном столбце - примерно 0.57%. Однако, как и с прошлым столбцом, не будем удалять эти строчки, а при анализе влияния уже непосредственно столбца `children` на платежеспособность клиентов не будем их учитывать."
   ]
  },
  {
   "cell_type": "markdown",
   "id": "7157926b",
   "metadata": {},
   "source": [
    "### Шаг 2.3. Изменение типов данных."
   ]
  },
  {
   "cell_type": "markdown",
   "id": "263785fb",
   "metadata": {},
   "source": [
    "Произведем данные столбца `total_income` в целочисленный тип с помощью метода astype():"
   ]
  },
  {
   "cell_type": "code",
   "execution_count": 31,
   "id": "395e0020",
   "metadata": {},
   "outputs": [],
   "source": [
    "df['total_income'] = df['total_income'].astype('int')"
   ]
  },
  {
   "cell_type": "markdown",
   "id": "b10710ce",
   "metadata": {},
   "source": [
    "Проверим тип данных столбца `total_income`:"
   ]
  },
  {
   "cell_type": "code",
   "execution_count": 32,
   "id": "7bac51bf",
   "metadata": {},
   "outputs": [
    {
     "name": "stdout",
     "output_type": "stream",
     "text": [
      "<class 'pandas.core.frame.DataFrame'>\n",
      "Int64Index: 21524 entries, 0 to 21524\n",
      "Data columns (total 12 columns):\n",
      " #   Column            Non-Null Count  Dtype \n",
      "---  ------            --------------  ----- \n",
      " 0   children          21524 non-null  int64 \n",
      " 1   days_employed     21524 non-null  int64 \n",
      " 2   dob_years         21524 non-null  int64 \n",
      " 3   education         21524 non-null  object\n",
      " 4   education_id      21524 non-null  int64 \n",
      " 5   family_status     21524 non-null  object\n",
      " 6   family_status_id  21524 non-null  int64 \n",
      " 7   gender            21524 non-null  object\n",
      " 8   income_type       21524 non-null  object\n",
      " 9   debt              21524 non-null  int64 \n",
      " 10  total_income      21524 non-null  int64 \n",
      " 11  purpose           21524 non-null  object\n",
      "dtypes: int64(7), object(5)\n",
      "memory usage: 2.1+ MB\n"
     ]
    }
   ],
   "source": [
    "df.info()"
   ]
  },
  {
   "cell_type": "markdown",
   "id": "1f870c7f",
   "metadata": {},
   "source": [
    "Из данных следует, что тип данных изменился на int64, что соответствует целочисленному типу. Проверим корректность данных этого столбца с помощью head():"
   ]
  },
  {
   "cell_type": "code",
   "execution_count": 33,
   "id": "046fb9d4",
   "metadata": {
    "scrolled": false
   },
   "outputs": [
    {
     "data": {
      "text/html": [
       "<div>\n",
       "<style scoped>\n",
       "    .dataframe tbody tr th:only-of-type {\n",
       "        vertical-align: middle;\n",
       "    }\n",
       "\n",
       "    .dataframe tbody tr th {\n",
       "        vertical-align: top;\n",
       "    }\n",
       "\n",
       "    .dataframe thead th {\n",
       "        text-align: right;\n",
       "    }\n",
       "</style>\n",
       "<table border=\"1\" class=\"dataframe\">\n",
       "  <thead>\n",
       "    <tr style=\"text-align: right;\">\n",
       "      <th></th>\n",
       "      <th>children</th>\n",
       "      <th>days_employed</th>\n",
       "      <th>dob_years</th>\n",
       "      <th>education</th>\n",
       "      <th>education_id</th>\n",
       "      <th>family_status</th>\n",
       "      <th>family_status_id</th>\n",
       "      <th>gender</th>\n",
       "      <th>income_type</th>\n",
       "      <th>debt</th>\n",
       "      <th>total_income</th>\n",
       "      <th>purpose</th>\n",
       "    </tr>\n",
       "  </thead>\n",
       "  <tbody>\n",
       "    <tr>\n",
       "      <th>0</th>\n",
       "      <td>1</td>\n",
       "      <td>8437</td>\n",
       "      <td>42</td>\n",
       "      <td>высшее</td>\n",
       "      <td>0</td>\n",
       "      <td>женат / замужем</td>\n",
       "      <td>0</td>\n",
       "      <td>F</td>\n",
       "      <td>сотрудник</td>\n",
       "      <td>0</td>\n",
       "      <td>253875</td>\n",
       "      <td>покупка жилья</td>\n",
       "    </tr>\n",
       "    <tr>\n",
       "      <th>1</th>\n",
       "      <td>1</td>\n",
       "      <td>4024</td>\n",
       "      <td>36</td>\n",
       "      <td>среднее</td>\n",
       "      <td>1</td>\n",
       "      <td>женат / замужем</td>\n",
       "      <td>0</td>\n",
       "      <td>F</td>\n",
       "      <td>сотрудник</td>\n",
       "      <td>0</td>\n",
       "      <td>112080</td>\n",
       "      <td>приобретение автомобиля</td>\n",
       "    </tr>\n",
       "    <tr>\n",
       "      <th>2</th>\n",
       "      <td>0</td>\n",
       "      <td>5623</td>\n",
       "      <td>33</td>\n",
       "      <td>Среднее</td>\n",
       "      <td>1</td>\n",
       "      <td>женат / замужем</td>\n",
       "      <td>0</td>\n",
       "      <td>M</td>\n",
       "      <td>сотрудник</td>\n",
       "      <td>0</td>\n",
       "      <td>145885</td>\n",
       "      <td>покупка жилья</td>\n",
       "    </tr>\n",
       "    <tr>\n",
       "      <th>3</th>\n",
       "      <td>3</td>\n",
       "      <td>4124</td>\n",
       "      <td>32</td>\n",
       "      <td>среднее</td>\n",
       "      <td>1</td>\n",
       "      <td>женат / замужем</td>\n",
       "      <td>0</td>\n",
       "      <td>M</td>\n",
       "      <td>сотрудник</td>\n",
       "      <td>0</td>\n",
       "      <td>267628</td>\n",
       "      <td>дополнительное образование</td>\n",
       "    </tr>\n",
       "    <tr>\n",
       "      <th>4</th>\n",
       "      <td>0</td>\n",
       "      <td>14177</td>\n",
       "      <td>53</td>\n",
       "      <td>среднее</td>\n",
       "      <td>1</td>\n",
       "      <td>гражданский брак</td>\n",
       "      <td>1</td>\n",
       "      <td>F</td>\n",
       "      <td>пенсионер</td>\n",
       "      <td>0</td>\n",
       "      <td>158616</td>\n",
       "      <td>сыграть свадьбу</td>\n",
       "    </tr>\n",
       "    <tr>\n",
       "      <th>5</th>\n",
       "      <td>0</td>\n",
       "      <td>926</td>\n",
       "      <td>27</td>\n",
       "      <td>высшее</td>\n",
       "      <td>0</td>\n",
       "      <td>гражданский брак</td>\n",
       "      <td>1</td>\n",
       "      <td>M</td>\n",
       "      <td>компаньон</td>\n",
       "      <td>0</td>\n",
       "      <td>255763</td>\n",
       "      <td>покупка жилья</td>\n",
       "    </tr>\n",
       "    <tr>\n",
       "      <th>6</th>\n",
       "      <td>0</td>\n",
       "      <td>2879</td>\n",
       "      <td>43</td>\n",
       "      <td>высшее</td>\n",
       "      <td>0</td>\n",
       "      <td>женат / замужем</td>\n",
       "      <td>0</td>\n",
       "      <td>F</td>\n",
       "      <td>компаньон</td>\n",
       "      <td>0</td>\n",
       "      <td>240525</td>\n",
       "      <td>операции с жильем</td>\n",
       "    </tr>\n",
       "    <tr>\n",
       "      <th>7</th>\n",
       "      <td>0</td>\n",
       "      <td>152</td>\n",
       "      <td>50</td>\n",
       "      <td>СРЕДНЕЕ</td>\n",
       "      <td>1</td>\n",
       "      <td>женат / замужем</td>\n",
       "      <td>0</td>\n",
       "      <td>M</td>\n",
       "      <td>сотрудник</td>\n",
       "      <td>0</td>\n",
       "      <td>135823</td>\n",
       "      <td>образование</td>\n",
       "    </tr>\n",
       "    <tr>\n",
       "      <th>8</th>\n",
       "      <td>2</td>\n",
       "      <td>6929</td>\n",
       "      <td>35</td>\n",
       "      <td>ВЫСШЕЕ</td>\n",
       "      <td>0</td>\n",
       "      <td>гражданский брак</td>\n",
       "      <td>1</td>\n",
       "      <td>F</td>\n",
       "      <td>сотрудник</td>\n",
       "      <td>0</td>\n",
       "      <td>95856</td>\n",
       "      <td>на проведение свадьбы</td>\n",
       "    </tr>\n",
       "    <tr>\n",
       "      <th>9</th>\n",
       "      <td>0</td>\n",
       "      <td>2188</td>\n",
       "      <td>41</td>\n",
       "      <td>среднее</td>\n",
       "      <td>1</td>\n",
       "      <td>женат / замужем</td>\n",
       "      <td>0</td>\n",
       "      <td>M</td>\n",
       "      <td>сотрудник</td>\n",
       "      <td>0</td>\n",
       "      <td>144425</td>\n",
       "      <td>покупка жилья для семьи</td>\n",
       "    </tr>\n",
       "    <tr>\n",
       "      <th>10</th>\n",
       "      <td>2</td>\n",
       "      <td>4171</td>\n",
       "      <td>36</td>\n",
       "      <td>высшее</td>\n",
       "      <td>0</td>\n",
       "      <td>женат / замужем</td>\n",
       "      <td>0</td>\n",
       "      <td>M</td>\n",
       "      <td>компаньон</td>\n",
       "      <td>0</td>\n",
       "      <td>113943</td>\n",
       "      <td>покупка недвижимости</td>\n",
       "    </tr>\n",
       "    <tr>\n",
       "      <th>11</th>\n",
       "      <td>0</td>\n",
       "      <td>792</td>\n",
       "      <td>40</td>\n",
       "      <td>среднее</td>\n",
       "      <td>1</td>\n",
       "      <td>женат / замужем</td>\n",
       "      <td>0</td>\n",
       "      <td>F</td>\n",
       "      <td>сотрудник</td>\n",
       "      <td>0</td>\n",
       "      <td>77069</td>\n",
       "      <td>покупка коммерческой недвижимости</td>\n",
       "    </tr>\n",
       "    <tr>\n",
       "      <th>12</th>\n",
       "      <td>0</td>\n",
       "      <td>2194</td>\n",
       "      <td>65</td>\n",
       "      <td>среднее</td>\n",
       "      <td>1</td>\n",
       "      <td>гражданский брак</td>\n",
       "      <td>1</td>\n",
       "      <td>M</td>\n",
       "      <td>пенсионер</td>\n",
       "      <td>0</td>\n",
       "      <td>145017</td>\n",
       "      <td>сыграть свадьбу</td>\n",
       "    </tr>\n",
       "    <tr>\n",
       "      <th>13</th>\n",
       "      <td>0</td>\n",
       "      <td>1846</td>\n",
       "      <td>54</td>\n",
       "      <td>неоконченное высшее</td>\n",
       "      <td>2</td>\n",
       "      <td>женат / замужем</td>\n",
       "      <td>0</td>\n",
       "      <td>F</td>\n",
       "      <td>сотрудник</td>\n",
       "      <td>0</td>\n",
       "      <td>130458</td>\n",
       "      <td>приобретение автомобиля</td>\n",
       "    </tr>\n",
       "    <tr>\n",
       "      <th>14</th>\n",
       "      <td>0</td>\n",
       "      <td>1844</td>\n",
       "      <td>56</td>\n",
       "      <td>высшее</td>\n",
       "      <td>0</td>\n",
       "      <td>гражданский брак</td>\n",
       "      <td>1</td>\n",
       "      <td>F</td>\n",
       "      <td>компаньон</td>\n",
       "      <td>1</td>\n",
       "      <td>165127</td>\n",
       "      <td>покупка жилой недвижимости</td>\n",
       "    </tr>\n",
       "    <tr>\n",
       "      <th>15</th>\n",
       "      <td>1</td>\n",
       "      <td>972</td>\n",
       "      <td>26</td>\n",
       "      <td>среднее</td>\n",
       "      <td>1</td>\n",
       "      <td>женат / замужем</td>\n",
       "      <td>0</td>\n",
       "      <td>F</td>\n",
       "      <td>сотрудник</td>\n",
       "      <td>0</td>\n",
       "      <td>116820</td>\n",
       "      <td>строительство собственной недвижимости</td>\n",
       "    </tr>\n",
       "    <tr>\n",
       "      <th>16</th>\n",
       "      <td>0</td>\n",
       "      <td>1719</td>\n",
       "      <td>35</td>\n",
       "      <td>среднее</td>\n",
       "      <td>1</td>\n",
       "      <td>женат / замужем</td>\n",
       "      <td>0</td>\n",
       "      <td>F</td>\n",
       "      <td>сотрудник</td>\n",
       "      <td>0</td>\n",
       "      <td>289202</td>\n",
       "      <td>недвижимость</td>\n",
       "    </tr>\n",
       "    <tr>\n",
       "      <th>17</th>\n",
       "      <td>0</td>\n",
       "      <td>2369</td>\n",
       "      <td>33</td>\n",
       "      <td>высшее</td>\n",
       "      <td>0</td>\n",
       "      <td>гражданский брак</td>\n",
       "      <td>1</td>\n",
       "      <td>M</td>\n",
       "      <td>сотрудник</td>\n",
       "      <td>0</td>\n",
       "      <td>90410</td>\n",
       "      <td>строительство недвижимости</td>\n",
       "    </tr>\n",
       "    <tr>\n",
       "      <th>18</th>\n",
       "      <td>0</td>\n",
       "      <td>16678</td>\n",
       "      <td>53</td>\n",
       "      <td>среднее</td>\n",
       "      <td>1</td>\n",
       "      <td>вдовец / вдова</td>\n",
       "      <td>2</td>\n",
       "      <td>F</td>\n",
       "      <td>пенсионер</td>\n",
       "      <td>0</td>\n",
       "      <td>56823</td>\n",
       "      <td>на покупку подержанного автомобиля</td>\n",
       "    </tr>\n",
       "    <tr>\n",
       "      <th>19</th>\n",
       "      <td>0</td>\n",
       "      <td>10038</td>\n",
       "      <td>48</td>\n",
       "      <td>СРЕДНЕЕ</td>\n",
       "      <td>1</td>\n",
       "      <td>в разводе</td>\n",
       "      <td>3</td>\n",
       "      <td>F</td>\n",
       "      <td>сотрудник</td>\n",
       "      <td>0</td>\n",
       "      <td>242831</td>\n",
       "      <td>на покупку своего автомобиля</td>\n",
       "    </tr>\n",
       "  </tbody>\n",
       "</table>\n",
       "</div>"
      ],
      "text/plain": [
       "    children  days_employed  dob_years            education  education_id  \\\n",
       "0          1           8437         42               высшее             0   \n",
       "1          1           4024         36              среднее             1   \n",
       "2          0           5623         33              Среднее             1   \n",
       "3          3           4124         32              среднее             1   \n",
       "4          0          14177         53              среднее             1   \n",
       "5          0            926         27               высшее             0   \n",
       "6          0           2879         43               высшее             0   \n",
       "7          0            152         50              СРЕДНЕЕ             1   \n",
       "8          2           6929         35               ВЫСШЕЕ             0   \n",
       "9          0           2188         41              среднее             1   \n",
       "10         2           4171         36               высшее             0   \n",
       "11         0            792         40              среднее             1   \n",
       "12         0           2194         65              среднее             1   \n",
       "13         0           1846         54  неоконченное высшее             2   \n",
       "14         0           1844         56               высшее             0   \n",
       "15         1            972         26              среднее             1   \n",
       "16         0           1719         35              среднее             1   \n",
       "17         0           2369         33               высшее             0   \n",
       "18         0          16678         53              среднее             1   \n",
       "19         0          10038         48              СРЕДНЕЕ             1   \n",
       "\n",
       "       family_status  family_status_id gender income_type  debt  total_income  \\\n",
       "0    женат / замужем                 0      F   сотрудник     0        253875   \n",
       "1    женат / замужем                 0      F   сотрудник     0        112080   \n",
       "2    женат / замужем                 0      M   сотрудник     0        145885   \n",
       "3    женат / замужем                 0      M   сотрудник     0        267628   \n",
       "4   гражданский брак                 1      F   пенсионер     0        158616   \n",
       "5   гражданский брак                 1      M   компаньон     0        255763   \n",
       "6    женат / замужем                 0      F   компаньон     0        240525   \n",
       "7    женат / замужем                 0      M   сотрудник     0        135823   \n",
       "8   гражданский брак                 1      F   сотрудник     0         95856   \n",
       "9    женат / замужем                 0      M   сотрудник     0        144425   \n",
       "10   женат / замужем                 0      M   компаньон     0        113943   \n",
       "11   женат / замужем                 0      F   сотрудник     0         77069   \n",
       "12  гражданский брак                 1      M   пенсионер     0        145017   \n",
       "13   женат / замужем                 0      F   сотрудник     0        130458   \n",
       "14  гражданский брак                 1      F   компаньон     1        165127   \n",
       "15   женат / замужем                 0      F   сотрудник     0        116820   \n",
       "16   женат / замужем                 0      F   сотрудник     0        289202   \n",
       "17  гражданский брак                 1      M   сотрудник     0         90410   \n",
       "18    вдовец / вдова                 2      F   пенсионер     0         56823   \n",
       "19         в разводе                 3      F   сотрудник     0        242831   \n",
       "\n",
       "                                   purpose  \n",
       "0                            покупка жилья  \n",
       "1                  приобретение автомобиля  \n",
       "2                            покупка жилья  \n",
       "3               дополнительное образование  \n",
       "4                          сыграть свадьбу  \n",
       "5                            покупка жилья  \n",
       "6                        операции с жильем  \n",
       "7                              образование  \n",
       "8                    на проведение свадьбы  \n",
       "9                  покупка жилья для семьи  \n",
       "10                    покупка недвижимости  \n",
       "11       покупка коммерческой недвижимости  \n",
       "12                         сыграть свадьбу  \n",
       "13                 приобретение автомобиля  \n",
       "14              покупка жилой недвижимости  \n",
       "15  строительство собственной недвижимости  \n",
       "16                            недвижимость  \n",
       "17              строительство недвижимости  \n",
       "18      на покупку подержанного автомобиля  \n",
       "19            на покупку своего автомобиля  "
      ]
     },
     "execution_count": 33,
     "metadata": {},
     "output_type": "execute_result"
    }
   ],
   "source": [
    "df.head(20)"
   ]
  },
  {
   "cell_type": "markdown",
   "id": "729d8069",
   "metadata": {},
   "source": [
    "Значения столбца отображаются корректно, изменение типа данных произошло успешно."
   ]
  },
  {
   "cell_type": "markdown",
   "id": "7013350c",
   "metadata": {},
   "source": [
    "### Шаг 2.4. Удаление дубликатов."
   ]
  },
  {
   "cell_type": "markdown",
   "id": "21a8cc72",
   "metadata": {},
   "source": [
    "Сделаем проверку всех столбцов с категоральными значениями на наличие дубликатов."
   ]
  },
  {
   "cell_type": "markdown",
   "id": "9e917e29",
   "metadata": {},
   "source": [
    "Проверим столбик `education`. С помощью `unique()` проверим данные:"
   ]
  },
  {
   "cell_type": "code",
   "execution_count": 34,
   "id": "8f40104a",
   "metadata": {},
   "outputs": [
    {
     "data": {
      "text/plain": [
       "array(['высшее', 'среднее', 'Среднее', 'СРЕДНЕЕ', 'ВЫСШЕЕ',\n",
       "       'неоконченное высшее', 'начальное', 'Высшее',\n",
       "       'НЕОКОНЧЕННОЕ ВЫСШЕЕ', 'Неоконченное высшее', 'НАЧАЛЬНОЕ',\n",
       "       'Начальное', 'Ученая степень', 'УЧЕНАЯ СТЕПЕНЬ', 'ученая степень'],\n",
       "      dtype=object)"
      ]
     },
     "execution_count": 34,
     "metadata": {},
     "output_type": "execute_result"
    }
   ],
   "source": [
    "df['education'].unique()"
   ]
  },
  {
   "cell_type": "markdown",
   "id": "b70211d5",
   "metadata": {},
   "source": [
    "Исходя из полученного результата, дубликаты произошли из-за разных регистров. Приведем даные к нижнему регистру с помощью `str.lower()`:"
   ]
  },
  {
   "cell_type": "code",
   "execution_count": 35,
   "id": "7a12be1b",
   "metadata": {},
   "outputs": [],
   "source": [
    "df['education'] = df['education'].str.lower()"
   ]
  },
  {
   "cell_type": "markdown",
   "id": "3eaf6585",
   "metadata": {},
   "source": [
    "Проверим измененные значения на уникальность, а также их количество с помощью `value_counts()`:"
   ]
  },
  {
   "cell_type": "code",
   "execution_count": 36,
   "id": "49a8d839",
   "metadata": {},
   "outputs": [
    {
     "data": {
      "text/plain": [
       "среднее                15233\n",
       "высшее                  5260\n",
       "неоконченное высшее      743\n",
       "начальное                282\n",
       "ученая степень             6\n",
       "Name: education, dtype: int64"
      ]
     },
     "execution_count": 36,
     "metadata": {},
     "output_type": "execute_result"
    }
   ],
   "source": [
    "df['education'].value_counts()"
   ]
  },
  {
   "cell_type": "markdown",
   "id": "7192fd7e",
   "metadata": {},
   "source": [
    "Из результата следует, что в столбце `education` дубликаты устранены. Далее проверим столбик `family_status` с помощью `value_counts()`:"
   ]
  },
  {
   "cell_type": "code",
   "execution_count": 37,
   "id": "8871cd61",
   "metadata": {},
   "outputs": [
    {
     "data": {
      "text/plain": [
       "женат / замужем          12380\n",
       "гражданский брак          4176\n",
       "Не женат / не замужем     2813\n",
       "в разводе                 1195\n",
       "вдовец / вдова             960\n",
       "Name: family_status, dtype: int64"
      ]
     },
     "execution_count": 37,
     "metadata": {},
     "output_type": "execute_result"
    }
   ],
   "source": [
    "df['family_status'].value_counts()"
   ]
  },
  {
   "cell_type": "markdown",
   "id": "b1aabd6e",
   "metadata": {},
   "source": [
    "В данном столбце дубликатов не обнаружено. Приведем данные к нижнему регистру и проверим:"
   ]
  },
  {
   "cell_type": "code",
   "execution_count": 38,
   "id": "78f2b253",
   "metadata": {},
   "outputs": [
    {
     "data": {
      "text/plain": [
       "женат / замужем          12380\n",
       "гражданский брак          4176\n",
       "не женат / не замужем     2813\n",
       "в разводе                 1195\n",
       "вдовец / вдова             960\n",
       "Name: family_status, dtype: int64"
      ]
     },
     "execution_count": 38,
     "metadata": {},
     "output_type": "execute_result"
    }
   ],
   "source": [
    "df['family_status'] = df['family_status'].str.lower()\n",
    "df['family_status'].value_counts()"
   ]
  },
  {
   "cell_type": "markdown",
   "id": "77a7bc5f",
   "metadata": {},
   "source": [
    "Данные отображаются корректно. Можем переходить к следующему столбцу - `gender`. Проверим с помощью `value_counts()`:"
   ]
  },
  {
   "cell_type": "code",
   "execution_count": 39,
   "id": "3ab06fc8",
   "metadata": {
    "scrolled": true
   },
   "outputs": [
    {
     "data": {
      "text/plain": [
       "F    14236\n",
       "M     7288\n",
       "Name: gender, dtype: int64"
      ]
     },
     "execution_count": 39,
     "metadata": {},
     "output_type": "execute_result"
    }
   ],
   "source": [
    "df['gender'].value_counts()"
   ]
  },
  {
   "cell_type": "markdown",
   "id": "6b1810ed",
   "metadata": {},
   "source": [
    "Исходя из полученного результата можно сделать вывод, что в этом столбце дубликатов нет.\n",
    "\n",
    "Проверим следующий столбец - `income_type` на наличие дубликатов:"
   ]
  },
  {
   "cell_type": "code",
   "execution_count": 40,
   "id": "b9fc09d9",
   "metadata": {},
   "outputs": [
    {
     "data": {
      "text/plain": [
       "сотрудник          11119\n",
       "компаньон           5084\n",
       "пенсионер           3856\n",
       "госслужащий         1459\n",
       "предприниматель        2\n",
       "безработный            2\n",
       "в декрете              1\n",
       "студент                1\n",
       "Name: income_type, dtype: int64"
      ]
     },
     "execution_count": 40,
     "metadata": {},
     "output_type": "execute_result"
    }
   ],
   "source": [
    "df['income_type'].value_counts()"
   ]
  },
  {
   "cell_type": "markdown",
   "id": "ae2aabb3",
   "metadata": {},
   "source": [
    "В данном столбце дубликатов не обнаружено, переходим к следующему - `purpose`:"
   ]
  },
  {
   "cell_type": "code",
   "execution_count": 41,
   "id": "75b04c3d",
   "metadata": {
    "scrolled": false
   },
   "outputs": [
    {
     "data": {
      "text/plain": [
       "свадьба                                   797\n",
       "на проведение свадьбы                     777\n",
       "сыграть свадьбу                           774\n",
       "операции с недвижимостью                  676\n",
       "покупка коммерческой недвижимости         664\n",
       "покупка жилья для сдачи                   653\n",
       "операции с жильем                         653\n",
       "операции с коммерческой недвижимостью     651\n",
       "жилье                                     647\n",
       "покупка жилья                             647\n",
       "покупка жилья для семьи                   641\n",
       "строительство собственной недвижимости    635\n",
       "недвижимость                              634\n",
       "операции со своей недвижимостью           630\n",
       "строительство жилой недвижимости          626\n",
       "покупка недвижимости                      623\n",
       "строительство недвижимости                620\n",
       "покупка своего жилья                      620\n",
       "ремонт жилью                              612\n",
       "покупка жилой недвижимости                607\n",
       "на покупку своего автомобиля              505\n",
       "заняться высшим образованием              496\n",
       "автомобиль                                495\n",
       "сделка с подержанным автомобилем          489\n",
       "свой автомобиль                           480\n",
       "на покупку подержанного автомобиля        479\n",
       "автомобили                                478\n",
       "на покупку автомобиля                     472\n",
       "приобретение автомобиля                   462\n",
       "дополнительное образование                462\n",
       "сделка с автомобилем                      455\n",
       "высшее образование                        453\n",
       "получение дополнительного образования     447\n",
       "образование                               447\n",
       "получение образования                     443\n",
       "профильное образование                    436\n",
       "получение высшего образования             426\n",
       "заняться образованием                     412\n",
       "Name: purpose, dtype: int64"
      ]
     },
     "execution_count": 41,
     "metadata": {},
     "output_type": "execute_result"
    }
   ],
   "source": [
    "df['purpose'].value_counts()"
   ]
  },
  {
   "cell_type": "markdown",
   "id": "9c1d9a73",
   "metadata": {},
   "source": [
    "В данном столбце не содержится значений-дубликатов."
   ]
  },
  {
   "cell_type": "markdown",
   "id": "80666694",
   "metadata": {},
   "source": [
    "Таким образом, поиск и обработка дубликатов были произведены успешно. При поиске дубликатов основным методом их определения был `value_counts()`. С помощью данного метода автоматически отображаются уникальные значения и их количество. Он был использован, так как одним действием решаются 2 задачи: корректность значений (проверка регистра, по смыслу для строковых значений) и их количество - можно проанализировать, насколько часто используется данное значение, т.е. является ли это ошибкой данных / дубликатом или же нет. \n",
    "\n",
    "Вероятные причины возникновения дубликатов: \n",
    "\n",
    "столбец `education` - возможно, данные были получены в разных форматах, либо же клиенты, заполняя данные, указывали информацию в разных регистрах;\n",
    "столбец `purpose` - вероятно, клиенты, указывая данные о цели получения кредита, заполняли их в свободной форме, а не отмечали по конкретным категориям, таким образом, получилось много дубликатов, схожих по смыслу."
   ]
  },
  {
   "cell_type": "markdown",
   "id": "6e5a1dbc",
   "metadata": {},
   "source": [
    "Для проверки явных дубликатов воспользуемся методом `duplicated()` и определим их количество:"
   ]
  },
  {
   "cell_type": "code",
   "execution_count": 42,
   "id": "94313133",
   "metadata": {},
   "outputs": [
    {
     "data": {
      "text/plain": [
       "71"
      ]
     },
     "execution_count": 42,
     "metadata": {},
     "output_type": "execute_result"
    }
   ],
   "source": [
    "df.duplicated().sum()"
   ]
  },
  {
   "cell_type": "markdown",
   "id": "883f9f30",
   "metadata": {},
   "source": [
    "Удалим явные дубликаты с учетом новых индексов, сделаем проверку:"
   ]
  },
  {
   "cell_type": "code",
   "execution_count": 43,
   "id": "85c93b9d",
   "metadata": {},
   "outputs": [
    {
     "name": "stdout",
     "output_type": "stream",
     "text": [
      "<class 'pandas.core.frame.DataFrame'>\n",
      "RangeIndex: 21453 entries, 0 to 21452\n",
      "Data columns (total 12 columns):\n",
      " #   Column            Non-Null Count  Dtype \n",
      "---  ------            --------------  ----- \n",
      " 0   children          21453 non-null  int64 \n",
      " 1   days_employed     21453 non-null  int64 \n",
      " 2   dob_years         21453 non-null  int64 \n",
      " 3   education         21453 non-null  object\n",
      " 4   education_id      21453 non-null  int64 \n",
      " 5   family_status     21453 non-null  object\n",
      " 6   family_status_id  21453 non-null  int64 \n",
      " 7   gender            21453 non-null  object\n",
      " 8   income_type       21453 non-null  object\n",
      " 9   debt              21453 non-null  int64 \n",
      " 10  total_income      21453 non-null  int64 \n",
      " 11  purpose           21453 non-null  object\n",
      "dtypes: int64(7), object(5)\n",
      "memory usage: 2.0+ MB\n"
     ]
    }
   ],
   "source": [
    "df = df.drop_duplicates().reset_index(drop = True)\n",
    "df.info()"
   ]
  },
  {
   "cell_type": "markdown",
   "id": "eff28f80",
   "metadata": {},
   "source": [
    "Было удалено ровно 71 значение, которое равно количеству явных дубликатов."
   ]
  },
  {
   "cell_type": "markdown",
   "id": "d513043a",
   "metadata": {},
   "source": [
    "### Шаг 2.5. Формирование дополнительных датафреймов словарей, декомпозиция исходного датафрейма."
   ]
  },
  {
   "cell_type": "markdown",
   "id": "9f061183",
   "metadata": {},
   "source": [
    "Сгруппируем данные по столбцу `education_id`:"
   ]
  },
  {
   "cell_type": "code",
   "execution_count": 44,
   "id": "2a541ae5",
   "metadata": {
    "scrolled": true
   },
   "outputs": [
    {
     "data": {
      "text/plain": [
       "education_id  education          \n",
       "0             высшее                  5250\n",
       "1             среднее                15172\n",
       "2             неоконченное высшее      743\n",
       "3             начальное                282\n",
       "4             ученая степень             6\n",
       "Name: education, dtype: int64"
      ]
     },
     "execution_count": 44,
     "metadata": {},
     "output_type": "execute_result"
    }
   ],
   "source": [
    "df.groupby('education_id')['education'].value_counts()"
   ]
  },
  {
   "cell_type": "markdown",
   "id": "7eab1356",
   "metadata": {},
   "source": [
    "На основе полученных значений создадим новый DataFrame `df_education`:"
   ]
  },
  {
   "cell_type": "code",
   "execution_count": 45,
   "id": "d666acaa",
   "metadata": {},
   "outputs": [
    {
     "data": {
      "text/html": [
       "<div>\n",
       "<style scoped>\n",
       "    .dataframe tbody tr th:only-of-type {\n",
       "        vertical-align: middle;\n",
       "    }\n",
       "\n",
       "    .dataframe tbody tr th {\n",
       "        vertical-align: top;\n",
       "    }\n",
       "\n",
       "    .dataframe thead th {\n",
       "        text-align: right;\n",
       "    }\n",
       "</style>\n",
       "<table border=\"1\" class=\"dataframe\">\n",
       "  <thead>\n",
       "    <tr style=\"text-align: right;\">\n",
       "      <th></th>\n",
       "      <th>education_id</th>\n",
       "      <th>education</th>\n",
       "    </tr>\n",
       "  </thead>\n",
       "  <tbody>\n",
       "    <tr>\n",
       "      <th>0</th>\n",
       "      <td>0</td>\n",
       "      <td>высшее</td>\n",
       "    </tr>\n",
       "    <tr>\n",
       "      <th>1</th>\n",
       "      <td>1</td>\n",
       "      <td>среднее</td>\n",
       "    </tr>\n",
       "    <tr>\n",
       "      <th>2</th>\n",
       "      <td>2</td>\n",
       "      <td>неоконченное высшее</td>\n",
       "    </tr>\n",
       "    <tr>\n",
       "      <th>3</th>\n",
       "      <td>3</td>\n",
       "      <td>начальное</td>\n",
       "    </tr>\n",
       "    <tr>\n",
       "      <th>4</th>\n",
       "      <td>4</td>\n",
       "      <td>ученая степень</td>\n",
       "    </tr>\n",
       "  </tbody>\n",
       "</table>\n",
       "</div>"
      ],
      "text/plain": [
       "   education_id            education\n",
       "0             0               высшее\n",
       "1             1              среднее\n",
       "2             2  неоконченное высшее\n",
       "3             3            начальное\n",
       "4             4       ученая степень"
      ]
     },
     "execution_count": 45,
     "metadata": {},
     "output_type": "execute_result"
    }
   ],
   "source": [
    "data_education = {'education_id' : [0, 1, 2, 3, 4],\n",
    "                  'education' : ['высшее', 'среднее',\n",
    "                                 'неоконченное высшее', 'начальное',\n",
    "                                 'ученая степень']}\n",
    "\n",
    "df_education = pd.DataFrame(data_education)\n",
    "df_education"
   ]
  },
  {
   "cell_type": "markdown",
   "id": "4f17fa3f",
   "metadata": {},
   "source": [
    "Сгруппируем данные по столбцу `family_status_id`:"
   ]
  },
  {
   "cell_type": "code",
   "execution_count": 46,
   "id": "845a5ea8",
   "metadata": {
    "scrolled": true
   },
   "outputs": [
    {
     "data": {
      "text/plain": [
       "family_status_id  family_status        \n",
       "0                 женат / замужем          12339\n",
       "1                 гражданский брак          4150\n",
       "2                 вдовец / вдова             959\n",
       "3                 в разводе                 1195\n",
       "4                 не женат / не замужем     2810\n",
       "Name: family_status, dtype: int64"
      ]
     },
     "execution_count": 46,
     "metadata": {},
     "output_type": "execute_result"
    }
   ],
   "source": [
    "df.groupby('family_status_id')['family_status'].value_counts()"
   ]
  },
  {
   "cell_type": "markdown",
   "id": "e31bd04e",
   "metadata": {},
   "source": [
    "На основе полученных значений создадим новый DataFrame `df_family_status`:"
   ]
  },
  {
   "cell_type": "code",
   "execution_count": 47,
   "id": "04565a4b",
   "metadata": {},
   "outputs": [
    {
     "data": {
      "text/html": [
       "<div>\n",
       "<style scoped>\n",
       "    .dataframe tbody tr th:only-of-type {\n",
       "        vertical-align: middle;\n",
       "    }\n",
       "\n",
       "    .dataframe tbody tr th {\n",
       "        vertical-align: top;\n",
       "    }\n",
       "\n",
       "    .dataframe thead th {\n",
       "        text-align: right;\n",
       "    }\n",
       "</style>\n",
       "<table border=\"1\" class=\"dataframe\">\n",
       "  <thead>\n",
       "    <tr style=\"text-align: right;\">\n",
       "      <th></th>\n",
       "      <th>family_status_id</th>\n",
       "      <th>family_status</th>\n",
       "    </tr>\n",
       "  </thead>\n",
       "  <tbody>\n",
       "    <tr>\n",
       "      <th>0</th>\n",
       "      <td>0</td>\n",
       "      <td>женат / замужем</td>\n",
       "    </tr>\n",
       "    <tr>\n",
       "      <th>1</th>\n",
       "      <td>1</td>\n",
       "      <td>гражданский брак</td>\n",
       "    </tr>\n",
       "    <tr>\n",
       "      <th>2</th>\n",
       "      <td>2</td>\n",
       "      <td>вдовец / вдова</td>\n",
       "    </tr>\n",
       "    <tr>\n",
       "      <th>3</th>\n",
       "      <td>3</td>\n",
       "      <td>в разводе</td>\n",
       "    </tr>\n",
       "    <tr>\n",
       "      <th>4</th>\n",
       "      <td>4</td>\n",
       "      <td>не женат / не замужем</td>\n",
       "    </tr>\n",
       "  </tbody>\n",
       "</table>\n",
       "</div>"
      ],
      "text/plain": [
       "   family_status_id          family_status\n",
       "0                 0        женат / замужем\n",
       "1                 1       гражданский брак\n",
       "2                 2         вдовец / вдова\n",
       "3                 3              в разводе\n",
       "4                 4  не женат / не замужем"
      ]
     },
     "execution_count": 47,
     "metadata": {},
     "output_type": "execute_result"
    }
   ],
   "source": [
    "data_family_status = {'family_status_id' : [0, 1, 2, 3, 4],\n",
    "                      'family_status' : ['женат / замужем', 'гражданский брак',\n",
    "                                         'вдовец / вдова', 'в разводе',\n",
    "                                         'не женат / не замужем']}\n",
    "\n",
    "df_family_status = pd.DataFrame(data_family_status)\n",
    "df_family_status"
   ]
  },
  {
   "cell_type": "markdown",
   "id": "ee3ab4ab",
   "metadata": {},
   "source": [
    "Из исходного DataFrame удаляем столбцы `education` и `family_status`:"
   ]
  },
  {
   "cell_type": "code",
   "execution_count": 48,
   "id": "b4a2f559",
   "metadata": {},
   "outputs": [],
   "source": [
    "df = df.drop(['education', 'family_status'], axis = 1)"
   ]
  },
  {
   "cell_type": "markdown",
   "id": "b2a997ba",
   "metadata": {},
   "source": [
    "Проверяем корректность отображения данных:"
   ]
  },
  {
   "cell_type": "code",
   "execution_count": 49,
   "id": "414b5fab",
   "metadata": {
    "scrolled": true
   },
   "outputs": [
    {
     "data": {
      "text/html": [
       "<div>\n",
       "<style scoped>\n",
       "    .dataframe tbody tr th:only-of-type {\n",
       "        vertical-align: middle;\n",
       "    }\n",
       "\n",
       "    .dataframe tbody tr th {\n",
       "        vertical-align: top;\n",
       "    }\n",
       "\n",
       "    .dataframe thead th {\n",
       "        text-align: right;\n",
       "    }\n",
       "</style>\n",
       "<table border=\"1\" class=\"dataframe\">\n",
       "  <thead>\n",
       "    <tr style=\"text-align: right;\">\n",
       "      <th></th>\n",
       "      <th>children</th>\n",
       "      <th>days_employed</th>\n",
       "      <th>dob_years</th>\n",
       "      <th>education_id</th>\n",
       "      <th>family_status_id</th>\n",
       "      <th>gender</th>\n",
       "      <th>income_type</th>\n",
       "      <th>debt</th>\n",
       "      <th>total_income</th>\n",
       "      <th>purpose</th>\n",
       "    </tr>\n",
       "  </thead>\n",
       "  <tbody>\n",
       "    <tr>\n",
       "      <th>0</th>\n",
       "      <td>1</td>\n",
       "      <td>8437</td>\n",
       "      <td>42</td>\n",
       "      <td>0</td>\n",
       "      <td>0</td>\n",
       "      <td>F</td>\n",
       "      <td>сотрудник</td>\n",
       "      <td>0</td>\n",
       "      <td>253875</td>\n",
       "      <td>покупка жилья</td>\n",
       "    </tr>\n",
       "    <tr>\n",
       "      <th>1</th>\n",
       "      <td>1</td>\n",
       "      <td>4024</td>\n",
       "      <td>36</td>\n",
       "      <td>1</td>\n",
       "      <td>0</td>\n",
       "      <td>F</td>\n",
       "      <td>сотрудник</td>\n",
       "      <td>0</td>\n",
       "      <td>112080</td>\n",
       "      <td>приобретение автомобиля</td>\n",
       "    </tr>\n",
       "    <tr>\n",
       "      <th>2</th>\n",
       "      <td>0</td>\n",
       "      <td>5623</td>\n",
       "      <td>33</td>\n",
       "      <td>1</td>\n",
       "      <td>0</td>\n",
       "      <td>M</td>\n",
       "      <td>сотрудник</td>\n",
       "      <td>0</td>\n",
       "      <td>145885</td>\n",
       "      <td>покупка жилья</td>\n",
       "    </tr>\n",
       "    <tr>\n",
       "      <th>3</th>\n",
       "      <td>3</td>\n",
       "      <td>4124</td>\n",
       "      <td>32</td>\n",
       "      <td>1</td>\n",
       "      <td>0</td>\n",
       "      <td>M</td>\n",
       "      <td>сотрудник</td>\n",
       "      <td>0</td>\n",
       "      <td>267628</td>\n",
       "      <td>дополнительное образование</td>\n",
       "    </tr>\n",
       "    <tr>\n",
       "      <th>4</th>\n",
       "      <td>0</td>\n",
       "      <td>14177</td>\n",
       "      <td>53</td>\n",
       "      <td>1</td>\n",
       "      <td>1</td>\n",
       "      <td>F</td>\n",
       "      <td>пенсионер</td>\n",
       "      <td>0</td>\n",
       "      <td>158616</td>\n",
       "      <td>сыграть свадьбу</td>\n",
       "    </tr>\n",
       "    <tr>\n",
       "      <th>5</th>\n",
       "      <td>0</td>\n",
       "      <td>926</td>\n",
       "      <td>27</td>\n",
       "      <td>0</td>\n",
       "      <td>1</td>\n",
       "      <td>M</td>\n",
       "      <td>компаньон</td>\n",
       "      <td>0</td>\n",
       "      <td>255763</td>\n",
       "      <td>покупка жилья</td>\n",
       "    </tr>\n",
       "    <tr>\n",
       "      <th>6</th>\n",
       "      <td>0</td>\n",
       "      <td>2879</td>\n",
       "      <td>43</td>\n",
       "      <td>0</td>\n",
       "      <td>0</td>\n",
       "      <td>F</td>\n",
       "      <td>компаньон</td>\n",
       "      <td>0</td>\n",
       "      <td>240525</td>\n",
       "      <td>операции с жильем</td>\n",
       "    </tr>\n",
       "    <tr>\n",
       "      <th>7</th>\n",
       "      <td>0</td>\n",
       "      <td>152</td>\n",
       "      <td>50</td>\n",
       "      <td>1</td>\n",
       "      <td>0</td>\n",
       "      <td>M</td>\n",
       "      <td>сотрудник</td>\n",
       "      <td>0</td>\n",
       "      <td>135823</td>\n",
       "      <td>образование</td>\n",
       "    </tr>\n",
       "    <tr>\n",
       "      <th>8</th>\n",
       "      <td>2</td>\n",
       "      <td>6929</td>\n",
       "      <td>35</td>\n",
       "      <td>0</td>\n",
       "      <td>1</td>\n",
       "      <td>F</td>\n",
       "      <td>сотрудник</td>\n",
       "      <td>0</td>\n",
       "      <td>95856</td>\n",
       "      <td>на проведение свадьбы</td>\n",
       "    </tr>\n",
       "    <tr>\n",
       "      <th>9</th>\n",
       "      <td>0</td>\n",
       "      <td>2188</td>\n",
       "      <td>41</td>\n",
       "      <td>1</td>\n",
       "      <td>0</td>\n",
       "      <td>M</td>\n",
       "      <td>сотрудник</td>\n",
       "      <td>0</td>\n",
       "      <td>144425</td>\n",
       "      <td>покупка жилья для семьи</td>\n",
       "    </tr>\n",
       "  </tbody>\n",
       "</table>\n",
       "</div>"
      ],
      "text/plain": [
       "   children  days_employed  dob_years  education_id  family_status_id gender  \\\n",
       "0         1           8437         42             0                 0      F   \n",
       "1         1           4024         36             1                 0      F   \n",
       "2         0           5623         33             1                 0      M   \n",
       "3         3           4124         32             1                 0      M   \n",
       "4         0          14177         53             1                 1      F   \n",
       "5         0            926         27             0                 1      M   \n",
       "6         0           2879         43             0                 0      F   \n",
       "7         0            152         50             1                 0      M   \n",
       "8         2           6929         35             0                 1      F   \n",
       "9         0           2188         41             1                 0      M   \n",
       "\n",
       "  income_type  debt  total_income                     purpose  \n",
       "0   сотрудник     0        253875               покупка жилья  \n",
       "1   сотрудник     0        112080     приобретение автомобиля  \n",
       "2   сотрудник     0        145885               покупка жилья  \n",
       "3   сотрудник     0        267628  дополнительное образование  \n",
       "4   пенсионер     0        158616             сыграть свадьбу  \n",
       "5   компаньон     0        255763               покупка жилья  \n",
       "6   компаньон     0        240525           операции с жильем  \n",
       "7   сотрудник     0        135823                 образование  \n",
       "8   сотрудник     0         95856       на проведение свадьбы  \n",
       "9   сотрудник     0        144425     покупка жилья для семьи  "
      ]
     },
     "execution_count": 49,
     "metadata": {},
     "output_type": "execute_result"
    }
   ],
   "source": [
    "df.head(10)"
   ]
  },
  {
   "cell_type": "markdown",
   "id": "f106874b",
   "metadata": {},
   "source": [
    "### Шаг 2.6. Категоризация дохода."
   ]
  },
  {
   "cell_type": "markdown",
   "id": "e597d48c",
   "metadata": {},
   "source": [
    "Создадим новый столбец `total_income_category` со значениями категорий дохода клиентов и проверим корректность отображения данных:"
   ]
  },
  {
   "cell_type": "code",
   "execution_count": 50,
   "id": "5f3e6421",
   "metadata": {
    "scrolled": false
   },
   "outputs": [
    {
     "data": {
      "text/html": [
       "<div>\n",
       "<style scoped>\n",
       "    .dataframe tbody tr th:only-of-type {\n",
       "        vertical-align: middle;\n",
       "    }\n",
       "\n",
       "    .dataframe tbody tr th {\n",
       "        vertical-align: top;\n",
       "    }\n",
       "\n",
       "    .dataframe thead th {\n",
       "        text-align: right;\n",
       "    }\n",
       "</style>\n",
       "<table border=\"1\" class=\"dataframe\">\n",
       "  <thead>\n",
       "    <tr style=\"text-align: right;\">\n",
       "      <th></th>\n",
       "      <th>children</th>\n",
       "      <th>days_employed</th>\n",
       "      <th>dob_years</th>\n",
       "      <th>education_id</th>\n",
       "      <th>family_status_id</th>\n",
       "      <th>gender</th>\n",
       "      <th>income_type</th>\n",
       "      <th>debt</th>\n",
       "      <th>total_income</th>\n",
       "      <th>purpose</th>\n",
       "      <th>total_income_category</th>\n",
       "    </tr>\n",
       "  </thead>\n",
       "  <tbody>\n",
       "    <tr>\n",
       "      <th>0</th>\n",
       "      <td>1</td>\n",
       "      <td>8437</td>\n",
       "      <td>42</td>\n",
       "      <td>0</td>\n",
       "      <td>0</td>\n",
       "      <td>F</td>\n",
       "      <td>сотрудник</td>\n",
       "      <td>0</td>\n",
       "      <td>253875</td>\n",
       "      <td>покупка жилья</td>\n",
       "      <td>B</td>\n",
       "    </tr>\n",
       "    <tr>\n",
       "      <th>1</th>\n",
       "      <td>1</td>\n",
       "      <td>4024</td>\n",
       "      <td>36</td>\n",
       "      <td>1</td>\n",
       "      <td>0</td>\n",
       "      <td>F</td>\n",
       "      <td>сотрудник</td>\n",
       "      <td>0</td>\n",
       "      <td>112080</td>\n",
       "      <td>приобретение автомобиля</td>\n",
       "      <td>C</td>\n",
       "    </tr>\n",
       "    <tr>\n",
       "      <th>2</th>\n",
       "      <td>0</td>\n",
       "      <td>5623</td>\n",
       "      <td>33</td>\n",
       "      <td>1</td>\n",
       "      <td>0</td>\n",
       "      <td>M</td>\n",
       "      <td>сотрудник</td>\n",
       "      <td>0</td>\n",
       "      <td>145885</td>\n",
       "      <td>покупка жилья</td>\n",
       "      <td>C</td>\n",
       "    </tr>\n",
       "    <tr>\n",
       "      <th>3</th>\n",
       "      <td>3</td>\n",
       "      <td>4124</td>\n",
       "      <td>32</td>\n",
       "      <td>1</td>\n",
       "      <td>0</td>\n",
       "      <td>M</td>\n",
       "      <td>сотрудник</td>\n",
       "      <td>0</td>\n",
       "      <td>267628</td>\n",
       "      <td>дополнительное образование</td>\n",
       "      <td>B</td>\n",
       "    </tr>\n",
       "    <tr>\n",
       "      <th>4</th>\n",
       "      <td>0</td>\n",
       "      <td>14177</td>\n",
       "      <td>53</td>\n",
       "      <td>1</td>\n",
       "      <td>1</td>\n",
       "      <td>F</td>\n",
       "      <td>пенсионер</td>\n",
       "      <td>0</td>\n",
       "      <td>158616</td>\n",
       "      <td>сыграть свадьбу</td>\n",
       "      <td>C</td>\n",
       "    </tr>\n",
       "    <tr>\n",
       "      <th>5</th>\n",
       "      <td>0</td>\n",
       "      <td>926</td>\n",
       "      <td>27</td>\n",
       "      <td>0</td>\n",
       "      <td>1</td>\n",
       "      <td>M</td>\n",
       "      <td>компаньон</td>\n",
       "      <td>0</td>\n",
       "      <td>255763</td>\n",
       "      <td>покупка жилья</td>\n",
       "      <td>B</td>\n",
       "    </tr>\n",
       "    <tr>\n",
       "      <th>6</th>\n",
       "      <td>0</td>\n",
       "      <td>2879</td>\n",
       "      <td>43</td>\n",
       "      <td>0</td>\n",
       "      <td>0</td>\n",
       "      <td>F</td>\n",
       "      <td>компаньон</td>\n",
       "      <td>0</td>\n",
       "      <td>240525</td>\n",
       "      <td>операции с жильем</td>\n",
       "      <td>B</td>\n",
       "    </tr>\n",
       "    <tr>\n",
       "      <th>7</th>\n",
       "      <td>0</td>\n",
       "      <td>152</td>\n",
       "      <td>50</td>\n",
       "      <td>1</td>\n",
       "      <td>0</td>\n",
       "      <td>M</td>\n",
       "      <td>сотрудник</td>\n",
       "      <td>0</td>\n",
       "      <td>135823</td>\n",
       "      <td>образование</td>\n",
       "      <td>C</td>\n",
       "    </tr>\n",
       "    <tr>\n",
       "      <th>8</th>\n",
       "      <td>2</td>\n",
       "      <td>6929</td>\n",
       "      <td>35</td>\n",
       "      <td>0</td>\n",
       "      <td>1</td>\n",
       "      <td>F</td>\n",
       "      <td>сотрудник</td>\n",
       "      <td>0</td>\n",
       "      <td>95856</td>\n",
       "      <td>на проведение свадьбы</td>\n",
       "      <td>C</td>\n",
       "    </tr>\n",
       "    <tr>\n",
       "      <th>9</th>\n",
       "      <td>0</td>\n",
       "      <td>2188</td>\n",
       "      <td>41</td>\n",
       "      <td>1</td>\n",
       "      <td>0</td>\n",
       "      <td>M</td>\n",
       "      <td>сотрудник</td>\n",
       "      <td>0</td>\n",
       "      <td>144425</td>\n",
       "      <td>покупка жилья для семьи</td>\n",
       "      <td>C</td>\n",
       "    </tr>\n",
       "    <tr>\n",
       "      <th>10</th>\n",
       "      <td>2</td>\n",
       "      <td>4171</td>\n",
       "      <td>36</td>\n",
       "      <td>0</td>\n",
       "      <td>0</td>\n",
       "      <td>M</td>\n",
       "      <td>компаньон</td>\n",
       "      <td>0</td>\n",
       "      <td>113943</td>\n",
       "      <td>покупка недвижимости</td>\n",
       "      <td>C</td>\n",
       "    </tr>\n",
       "    <tr>\n",
       "      <th>11</th>\n",
       "      <td>0</td>\n",
       "      <td>792</td>\n",
       "      <td>40</td>\n",
       "      <td>1</td>\n",
       "      <td>0</td>\n",
       "      <td>F</td>\n",
       "      <td>сотрудник</td>\n",
       "      <td>0</td>\n",
       "      <td>77069</td>\n",
       "      <td>покупка коммерческой недвижимости</td>\n",
       "      <td>C</td>\n",
       "    </tr>\n",
       "    <tr>\n",
       "      <th>12</th>\n",
       "      <td>0</td>\n",
       "      <td>2194</td>\n",
       "      <td>65</td>\n",
       "      <td>1</td>\n",
       "      <td>1</td>\n",
       "      <td>M</td>\n",
       "      <td>пенсионер</td>\n",
       "      <td>0</td>\n",
       "      <td>145017</td>\n",
       "      <td>сыграть свадьбу</td>\n",
       "      <td>C</td>\n",
       "    </tr>\n",
       "    <tr>\n",
       "      <th>13</th>\n",
       "      <td>0</td>\n",
       "      <td>1846</td>\n",
       "      <td>54</td>\n",
       "      <td>2</td>\n",
       "      <td>0</td>\n",
       "      <td>F</td>\n",
       "      <td>сотрудник</td>\n",
       "      <td>0</td>\n",
       "      <td>130458</td>\n",
       "      <td>приобретение автомобиля</td>\n",
       "      <td>C</td>\n",
       "    </tr>\n",
       "    <tr>\n",
       "      <th>14</th>\n",
       "      <td>0</td>\n",
       "      <td>1844</td>\n",
       "      <td>56</td>\n",
       "      <td>0</td>\n",
       "      <td>1</td>\n",
       "      <td>F</td>\n",
       "      <td>компаньон</td>\n",
       "      <td>1</td>\n",
       "      <td>165127</td>\n",
       "      <td>покупка жилой недвижимости</td>\n",
       "      <td>C</td>\n",
       "    </tr>\n",
       "  </tbody>\n",
       "</table>\n",
       "</div>"
      ],
      "text/plain": [
       "    children  days_employed  dob_years  education_id  family_status_id gender  \\\n",
       "0          1           8437         42             0                 0      F   \n",
       "1          1           4024         36             1                 0      F   \n",
       "2          0           5623         33             1                 0      M   \n",
       "3          3           4124         32             1                 0      M   \n",
       "4          0          14177         53             1                 1      F   \n",
       "5          0            926         27             0                 1      M   \n",
       "6          0           2879         43             0                 0      F   \n",
       "7          0            152         50             1                 0      M   \n",
       "8          2           6929         35             0                 1      F   \n",
       "9          0           2188         41             1                 0      M   \n",
       "10         2           4171         36             0                 0      M   \n",
       "11         0            792         40             1                 0      F   \n",
       "12         0           2194         65             1                 1      M   \n",
       "13         0           1846         54             2                 0      F   \n",
       "14         0           1844         56             0                 1      F   \n",
       "\n",
       "   income_type  debt  total_income                            purpose  \\\n",
       "0    сотрудник     0        253875                      покупка жилья   \n",
       "1    сотрудник     0        112080            приобретение автомобиля   \n",
       "2    сотрудник     0        145885                      покупка жилья   \n",
       "3    сотрудник     0        267628         дополнительное образование   \n",
       "4    пенсионер     0        158616                    сыграть свадьбу   \n",
       "5    компаньон     0        255763                      покупка жилья   \n",
       "6    компаньон     0        240525                  операции с жильем   \n",
       "7    сотрудник     0        135823                        образование   \n",
       "8    сотрудник     0         95856              на проведение свадьбы   \n",
       "9    сотрудник     0        144425            покупка жилья для семьи   \n",
       "10   компаньон     0        113943               покупка недвижимости   \n",
       "11   сотрудник     0         77069  покупка коммерческой недвижимости   \n",
       "12   пенсионер     0        145017                    сыграть свадьбу   \n",
       "13   сотрудник     0        130458            приобретение автомобиля   \n",
       "14   компаньон     1        165127         покупка жилой недвижимости   \n",
       "\n",
       "   total_income_category  \n",
       "0                      B  \n",
       "1                      C  \n",
       "2                      C  \n",
       "3                      B  \n",
       "4                      C  \n",
       "5                      B  \n",
       "6                      B  \n",
       "7                      C  \n",
       "8                      C  \n",
       "9                      C  \n",
       "10                     C  \n",
       "11                     C  \n",
       "12                     C  \n",
       "13                     C  \n",
       "14                     C  "
      ]
     },
     "execution_count": 50,
     "metadata": {},
     "output_type": "execute_result"
    }
   ],
   "source": [
    "def total_income_category_func(income):   \n",
    "    \n",
    "    if (income > 0) and (income <= 30000):\n",
    "        return 'E'\n",
    "    elif (income >= 30001) and (income <= 50000):\n",
    "        return 'D'\n",
    "    elif (income >= 50001) and (income <= 200000):\n",
    "        return 'C'\n",
    "    elif (income >= 200001) and (income <= 1000000):\n",
    "        return 'B'\n",
    "    elif income >= 1000001:\n",
    "        return 'A'\n",
    "    \n",
    "df['total_income_category'] = df['total_income'].apply(total_income_category_func)\n",
    "\n",
    "df.head(15)"
   ]
  },
  {
   "cell_type": "markdown",
   "id": "106a7981",
   "metadata": {},
   "source": [
    "### Шаг 2.7. Категоризация целей кредита."
   ]
  },
  {
   "cell_type": "markdown",
   "id": "02f3b05d",
   "metadata": {},
   "source": [
    "Проверим столбец `purpose` на уникальность значений:"
   ]
  },
  {
   "cell_type": "code",
   "execution_count": 51,
   "id": "a8b35490",
   "metadata": {},
   "outputs": [
    {
     "data": {
      "text/plain": [
       "array(['покупка жилья', 'приобретение автомобиля',\n",
       "       'дополнительное образование', 'сыграть свадьбу',\n",
       "       'операции с жильем', 'образование', 'на проведение свадьбы',\n",
       "       'покупка жилья для семьи', 'покупка недвижимости',\n",
       "       'покупка коммерческой недвижимости', 'покупка жилой недвижимости',\n",
       "       'строительство собственной недвижимости', 'недвижимость',\n",
       "       'строительство недвижимости', 'на покупку подержанного автомобиля',\n",
       "       'на покупку своего автомобиля',\n",
       "       'операции с коммерческой недвижимостью',\n",
       "       'строительство жилой недвижимости', 'жилье',\n",
       "       'операции со своей недвижимостью', 'автомобили',\n",
       "       'заняться образованием', 'сделка с подержанным автомобилем',\n",
       "       'получение образования', 'автомобиль', 'свадьба',\n",
       "       'получение дополнительного образования', 'покупка своего жилья',\n",
       "       'операции с недвижимостью', 'получение высшего образования',\n",
       "       'свой автомобиль', 'сделка с автомобилем',\n",
       "       'профильное образование', 'высшее образование',\n",
       "       'покупка жилья для сдачи', 'на покупку автомобиля', 'ремонт жилью',\n",
       "       'заняться высшим образованием'], dtype=object)"
      ]
     },
     "execution_count": 51,
     "metadata": {},
     "output_type": "execute_result"
    }
   ],
   "source": [
    "df['purpose'].unique()"
   ]
  },
  {
   "cell_type": "markdown",
   "id": "b1a88be0",
   "metadata": {},
   "source": [
    "Создадим функцию, которая на основании данных из столбца `purpose` сформирует новый столбец `purpose_category` с категориями целей получения кредита и проверим корректность отображения данных. Для поиска значений в строках и фильтрации их по категориям нам необходимы будут следующие подстроки: 'свадь' для категории 'проведение свадьбы', 'недвиж' и 'жиль' для 'операции с недвижимостью', 'образован' для 'получения образования', оставшиеся значения будут классифицироваться как 'операции с автомобилем':"
   ]
  },
  {
   "cell_type": "code",
   "execution_count": 52,
   "id": "35ee2d95",
   "metadata": {},
   "outputs": [
    {
     "data": {
      "text/html": [
       "<div>\n",
       "<style scoped>\n",
       "    .dataframe tbody tr th:only-of-type {\n",
       "        vertical-align: middle;\n",
       "    }\n",
       "\n",
       "    .dataframe tbody tr th {\n",
       "        vertical-align: top;\n",
       "    }\n",
       "\n",
       "    .dataframe thead th {\n",
       "        text-align: right;\n",
       "    }\n",
       "</style>\n",
       "<table border=\"1\" class=\"dataframe\">\n",
       "  <thead>\n",
       "    <tr style=\"text-align: right;\">\n",
       "      <th></th>\n",
       "      <th>children</th>\n",
       "      <th>days_employed</th>\n",
       "      <th>dob_years</th>\n",
       "      <th>education_id</th>\n",
       "      <th>family_status_id</th>\n",
       "      <th>gender</th>\n",
       "      <th>income_type</th>\n",
       "      <th>debt</th>\n",
       "      <th>total_income</th>\n",
       "      <th>purpose</th>\n",
       "      <th>total_income_category</th>\n",
       "      <th>purpose_category</th>\n",
       "    </tr>\n",
       "  </thead>\n",
       "  <tbody>\n",
       "    <tr>\n",
       "      <th>0</th>\n",
       "      <td>1</td>\n",
       "      <td>8437</td>\n",
       "      <td>42</td>\n",
       "      <td>0</td>\n",
       "      <td>0</td>\n",
       "      <td>F</td>\n",
       "      <td>сотрудник</td>\n",
       "      <td>0</td>\n",
       "      <td>253875</td>\n",
       "      <td>покупка жилья</td>\n",
       "      <td>B</td>\n",
       "      <td>операции с недвижимостью</td>\n",
       "    </tr>\n",
       "    <tr>\n",
       "      <th>1</th>\n",
       "      <td>1</td>\n",
       "      <td>4024</td>\n",
       "      <td>36</td>\n",
       "      <td>1</td>\n",
       "      <td>0</td>\n",
       "      <td>F</td>\n",
       "      <td>сотрудник</td>\n",
       "      <td>0</td>\n",
       "      <td>112080</td>\n",
       "      <td>приобретение автомобиля</td>\n",
       "      <td>C</td>\n",
       "      <td>операции с автомобилем</td>\n",
       "    </tr>\n",
       "    <tr>\n",
       "      <th>2</th>\n",
       "      <td>0</td>\n",
       "      <td>5623</td>\n",
       "      <td>33</td>\n",
       "      <td>1</td>\n",
       "      <td>0</td>\n",
       "      <td>M</td>\n",
       "      <td>сотрудник</td>\n",
       "      <td>0</td>\n",
       "      <td>145885</td>\n",
       "      <td>покупка жилья</td>\n",
       "      <td>C</td>\n",
       "      <td>операции с недвижимостью</td>\n",
       "    </tr>\n",
       "    <tr>\n",
       "      <th>3</th>\n",
       "      <td>3</td>\n",
       "      <td>4124</td>\n",
       "      <td>32</td>\n",
       "      <td>1</td>\n",
       "      <td>0</td>\n",
       "      <td>M</td>\n",
       "      <td>сотрудник</td>\n",
       "      <td>0</td>\n",
       "      <td>267628</td>\n",
       "      <td>дополнительное образование</td>\n",
       "      <td>B</td>\n",
       "      <td>получения образования</td>\n",
       "    </tr>\n",
       "    <tr>\n",
       "      <th>4</th>\n",
       "      <td>0</td>\n",
       "      <td>14177</td>\n",
       "      <td>53</td>\n",
       "      <td>1</td>\n",
       "      <td>1</td>\n",
       "      <td>F</td>\n",
       "      <td>пенсионер</td>\n",
       "      <td>0</td>\n",
       "      <td>158616</td>\n",
       "      <td>сыграть свадьбу</td>\n",
       "      <td>C</td>\n",
       "      <td>проведение свадьбы</td>\n",
       "    </tr>\n",
       "    <tr>\n",
       "      <th>5</th>\n",
       "      <td>0</td>\n",
       "      <td>926</td>\n",
       "      <td>27</td>\n",
       "      <td>0</td>\n",
       "      <td>1</td>\n",
       "      <td>M</td>\n",
       "      <td>компаньон</td>\n",
       "      <td>0</td>\n",
       "      <td>255763</td>\n",
       "      <td>покупка жилья</td>\n",
       "      <td>B</td>\n",
       "      <td>операции с недвижимостью</td>\n",
       "    </tr>\n",
       "    <tr>\n",
       "      <th>6</th>\n",
       "      <td>0</td>\n",
       "      <td>2879</td>\n",
       "      <td>43</td>\n",
       "      <td>0</td>\n",
       "      <td>0</td>\n",
       "      <td>F</td>\n",
       "      <td>компаньон</td>\n",
       "      <td>0</td>\n",
       "      <td>240525</td>\n",
       "      <td>операции с жильем</td>\n",
       "      <td>B</td>\n",
       "      <td>операции с недвижимостью</td>\n",
       "    </tr>\n",
       "    <tr>\n",
       "      <th>7</th>\n",
       "      <td>0</td>\n",
       "      <td>152</td>\n",
       "      <td>50</td>\n",
       "      <td>1</td>\n",
       "      <td>0</td>\n",
       "      <td>M</td>\n",
       "      <td>сотрудник</td>\n",
       "      <td>0</td>\n",
       "      <td>135823</td>\n",
       "      <td>образование</td>\n",
       "      <td>C</td>\n",
       "      <td>получения образования</td>\n",
       "    </tr>\n",
       "    <tr>\n",
       "      <th>8</th>\n",
       "      <td>2</td>\n",
       "      <td>6929</td>\n",
       "      <td>35</td>\n",
       "      <td>0</td>\n",
       "      <td>1</td>\n",
       "      <td>F</td>\n",
       "      <td>сотрудник</td>\n",
       "      <td>0</td>\n",
       "      <td>95856</td>\n",
       "      <td>на проведение свадьбы</td>\n",
       "      <td>C</td>\n",
       "      <td>проведение свадьбы</td>\n",
       "    </tr>\n",
       "    <tr>\n",
       "      <th>9</th>\n",
       "      <td>0</td>\n",
       "      <td>2188</td>\n",
       "      <td>41</td>\n",
       "      <td>1</td>\n",
       "      <td>0</td>\n",
       "      <td>M</td>\n",
       "      <td>сотрудник</td>\n",
       "      <td>0</td>\n",
       "      <td>144425</td>\n",
       "      <td>покупка жилья для семьи</td>\n",
       "      <td>C</td>\n",
       "      <td>операции с недвижимостью</td>\n",
       "    </tr>\n",
       "    <tr>\n",
       "      <th>10</th>\n",
       "      <td>2</td>\n",
       "      <td>4171</td>\n",
       "      <td>36</td>\n",
       "      <td>0</td>\n",
       "      <td>0</td>\n",
       "      <td>M</td>\n",
       "      <td>компаньон</td>\n",
       "      <td>0</td>\n",
       "      <td>113943</td>\n",
       "      <td>покупка недвижимости</td>\n",
       "      <td>C</td>\n",
       "      <td>операции с недвижимостью</td>\n",
       "    </tr>\n",
       "    <tr>\n",
       "      <th>11</th>\n",
       "      <td>0</td>\n",
       "      <td>792</td>\n",
       "      <td>40</td>\n",
       "      <td>1</td>\n",
       "      <td>0</td>\n",
       "      <td>F</td>\n",
       "      <td>сотрудник</td>\n",
       "      <td>0</td>\n",
       "      <td>77069</td>\n",
       "      <td>покупка коммерческой недвижимости</td>\n",
       "      <td>C</td>\n",
       "      <td>операции с недвижимостью</td>\n",
       "    </tr>\n",
       "    <tr>\n",
       "      <th>12</th>\n",
       "      <td>0</td>\n",
       "      <td>2194</td>\n",
       "      <td>65</td>\n",
       "      <td>1</td>\n",
       "      <td>1</td>\n",
       "      <td>M</td>\n",
       "      <td>пенсионер</td>\n",
       "      <td>0</td>\n",
       "      <td>145017</td>\n",
       "      <td>сыграть свадьбу</td>\n",
       "      <td>C</td>\n",
       "      <td>проведение свадьбы</td>\n",
       "    </tr>\n",
       "    <tr>\n",
       "      <th>13</th>\n",
       "      <td>0</td>\n",
       "      <td>1846</td>\n",
       "      <td>54</td>\n",
       "      <td>2</td>\n",
       "      <td>0</td>\n",
       "      <td>F</td>\n",
       "      <td>сотрудник</td>\n",
       "      <td>0</td>\n",
       "      <td>130458</td>\n",
       "      <td>приобретение автомобиля</td>\n",
       "      <td>C</td>\n",
       "      <td>операции с автомобилем</td>\n",
       "    </tr>\n",
       "    <tr>\n",
       "      <th>14</th>\n",
       "      <td>0</td>\n",
       "      <td>1844</td>\n",
       "      <td>56</td>\n",
       "      <td>0</td>\n",
       "      <td>1</td>\n",
       "      <td>F</td>\n",
       "      <td>компаньон</td>\n",
       "      <td>1</td>\n",
       "      <td>165127</td>\n",
       "      <td>покупка жилой недвижимости</td>\n",
       "      <td>C</td>\n",
       "      <td>операции с недвижимостью</td>\n",
       "    </tr>\n",
       "  </tbody>\n",
       "</table>\n",
       "</div>"
      ],
      "text/plain": [
       "    children  days_employed  dob_years  education_id  family_status_id gender  \\\n",
       "0          1           8437         42             0                 0      F   \n",
       "1          1           4024         36             1                 0      F   \n",
       "2          0           5623         33             1                 0      M   \n",
       "3          3           4124         32             1                 0      M   \n",
       "4          0          14177         53             1                 1      F   \n",
       "5          0            926         27             0                 1      M   \n",
       "6          0           2879         43             0                 0      F   \n",
       "7          0            152         50             1                 0      M   \n",
       "8          2           6929         35             0                 1      F   \n",
       "9          0           2188         41             1                 0      M   \n",
       "10         2           4171         36             0                 0      M   \n",
       "11         0            792         40             1                 0      F   \n",
       "12         0           2194         65             1                 1      M   \n",
       "13         0           1846         54             2                 0      F   \n",
       "14         0           1844         56             0                 1      F   \n",
       "\n",
       "   income_type  debt  total_income                            purpose  \\\n",
       "0    сотрудник     0        253875                      покупка жилья   \n",
       "1    сотрудник     0        112080            приобретение автомобиля   \n",
       "2    сотрудник     0        145885                      покупка жилья   \n",
       "3    сотрудник     0        267628         дополнительное образование   \n",
       "4    пенсионер     0        158616                    сыграть свадьбу   \n",
       "5    компаньон     0        255763                      покупка жилья   \n",
       "6    компаньон     0        240525                  операции с жильем   \n",
       "7    сотрудник     0        135823                        образование   \n",
       "8    сотрудник     0         95856              на проведение свадьбы   \n",
       "9    сотрудник     0        144425            покупка жилья для семьи   \n",
       "10   компаньон     0        113943               покупка недвижимости   \n",
       "11   сотрудник     0         77069  покупка коммерческой недвижимости   \n",
       "12   пенсионер     0        145017                    сыграть свадьбу   \n",
       "13   сотрудник     0        130458            приобретение автомобиля   \n",
       "14   компаньон     1        165127         покупка жилой недвижимости   \n",
       "\n",
       "   total_income_category          purpose_category  \n",
       "0                      B  операции с недвижимостью  \n",
       "1                      C    операции с автомобилем  \n",
       "2                      C  операции с недвижимостью  \n",
       "3                      B     получения образования  \n",
       "4                      C        проведение свадьбы  \n",
       "5                      B  операции с недвижимостью  \n",
       "6                      B  операции с недвижимостью  \n",
       "7                      C     получения образования  \n",
       "8                      C        проведение свадьбы  \n",
       "9                      C  операции с недвижимостью  \n",
       "10                     C  операции с недвижимостью  \n",
       "11                     C  операции с недвижимостью  \n",
       "12                     C        проведение свадьбы  \n",
       "13                     C    операции с автомобилем  \n",
       "14                     C  операции с недвижимостью  "
      ]
     },
     "execution_count": 52,
     "metadata": {},
     "output_type": "execute_result"
    }
   ],
   "source": [
    "def column_purpose_category(value):\n",
    "    \n",
    "    if 'свадь' in value:\n",
    "        return 'проведение свадьбы'\n",
    "    elif 'недвиж' in value:\n",
    "        return 'операции с недвижимостью'\n",
    "    elif 'жиль' in value:\n",
    "        return 'операции с недвижимостью'\n",
    "    elif 'образован' in value:\n",
    "        return 'получения образования'\n",
    "    else:\n",
    "        return 'операции с автомобилем'\n",
    "       \n",
    "df['purpose_category'] = df['purpose'].apply(column_purpose_category)\n",
    "\n",
    "df.head(15)                "
   ]
  },
  {
   "cell_type": "markdown",
   "id": "2106abba",
   "metadata": {},
   "source": [
    "### Ответы на вопросы."
   ]
  },
  {
   "cell_type": "markdown",
   "id": "e0d1b87e",
   "metadata": {},
   "source": [
    "##### Вопрос 1: Есть ли зависимость между количеством детей и возвратом кредита в срок?"
   ]
  },
  {
   "cell_type": "markdown",
   "id": "bd52b100",
   "metadata": {},
   "source": [
    "Для корректного ответа на данный вопрос проверим сначала столбец `debt`:"
   ]
  },
  {
   "cell_type": "code",
   "execution_count": 53,
   "id": "f314da2a",
   "metadata": {
    "scrolled": true
   },
   "outputs": [
    {
     "data": {
      "text/plain": [
       "0    19712\n",
       "1     1741\n",
       "Name: debt, dtype: int64"
      ]
     },
     "execution_count": 53,
     "metadata": {},
     "output_type": "execute_result"
    }
   ],
   "source": [
    "df['debt'].value_counts()"
   ]
  },
  {
   "cell_type": "markdown",
   "id": "28e24eb8",
   "metadata": {},
   "source": [
    "Значения столбца `debt` отображаются корректно. \n",
    "Как нам известно из проверки столбца `children` на дубликаты, в нем есть неккоректные значения '-1' и '20'. Поэтому для дальнейшего исследования создадим новый DataFrame без учета этих клиентов, что незначительно исказит полученные результаты:"
   ]
  },
  {
   "cell_type": "code",
   "execution_count": 54,
   "id": "a9b17635",
   "metadata": {
    "scrolled": true
   },
   "outputs": [
    {
     "data": {
      "text/plain": [
       "debt  children\n",
       "0     0           13027\n",
       "      1            4364\n",
       "      2            1858\n",
       "      3             303\n",
       "      4              37\n",
       "      5               9\n",
       "1     0            1063\n",
       "      1             444\n",
       "      2             194\n",
       "      3              27\n",
       "      4               4\n",
       "Name: children, dtype: int64"
      ]
     },
     "execution_count": 54,
     "metadata": {},
     "output_type": "execute_result"
    }
   ],
   "source": [
    "df_children = df.loc[~df['children'].isin([-1, 20])]\n",
    "df_children.groupby('debt')['children'].value_counts()"
   ]
  },
  {
   "cell_type": "markdown",
   "id": "c1b83efe",
   "metadata": {},
   "source": [
    "Определим долю задолженности клиентов в зависимости от количества детей:"
   ]
  },
  {
   "cell_type": "code",
   "execution_count": 55,
   "id": "1e65c43f",
   "metadata": {},
   "outputs": [
    {
     "data": {
      "text/html": [
       "<div>\n",
       "<style scoped>\n",
       "    .dataframe tbody tr th:only-of-type {\n",
       "        vertical-align: middle;\n",
       "    }\n",
       "\n",
       "    .dataframe tbody tr th {\n",
       "        vertical-align: top;\n",
       "    }\n",
       "\n",
       "    .dataframe thead th {\n",
       "        text-align: right;\n",
       "    }\n",
       "</style>\n",
       "<table border=\"1\" class=\"dataframe\">\n",
       "  <thead>\n",
       "    <tr style=\"text-align: right;\">\n",
       "      <th></th>\n",
       "      <th>children</th>\n",
       "      <th>part</th>\n",
       "    </tr>\n",
       "  </thead>\n",
       "  <tbody>\n",
       "    <tr>\n",
       "      <th>4</th>\n",
       "      <td>4</td>\n",
       "      <td>0.097561</td>\n",
       "    </tr>\n",
       "    <tr>\n",
       "      <th>2</th>\n",
       "      <td>2</td>\n",
       "      <td>0.094542</td>\n",
       "    </tr>\n",
       "    <tr>\n",
       "      <th>1</th>\n",
       "      <td>1</td>\n",
       "      <td>0.092346</td>\n",
       "    </tr>\n",
       "    <tr>\n",
       "      <th>3</th>\n",
       "      <td>3</td>\n",
       "      <td>0.081818</td>\n",
       "    </tr>\n",
       "    <tr>\n",
       "      <th>0</th>\n",
       "      <td>0</td>\n",
       "      <td>0.075444</td>\n",
       "    </tr>\n",
       "    <tr>\n",
       "      <th>5</th>\n",
       "      <td>5</td>\n",
       "      <td>0.000000</td>\n",
       "    </tr>\n",
       "  </tbody>\n",
       "</table>\n",
       "</div>"
      ],
      "text/plain": [
       "   children      part\n",
       "4         4  0.097561\n",
       "2         2  0.094542\n",
       "1         1  0.092346\n",
       "3         3  0.081818\n",
       "0         0  0.075444\n",
       "5         5  0.000000"
      ]
     },
     "execution_count": 55,
     "metadata": {},
     "output_type": "execute_result"
    }
   ],
   "source": [
    "part_debt_children_0 = 1063 / (13027 + 1063)\n",
    "part_debt_children_1 = 444 / (4364 + 444)\n",
    "part_debt_children_2 = 194 / (1858 + 194)\n",
    "part_debt_children_3 = 27 / (303 + 27)\n",
    "part_debt_children_4 = 4 / (37 + 4)\n",
    "part_debt_children_5 = 0\n",
    "\n",
    "part_debt_children = [part_debt_children_0,\n",
    "                     part_debt_children_1,\n",
    "                     part_debt_children_2,\n",
    "                     part_debt_children_3,\n",
    "                     part_debt_children_4,\n",
    "                     part_debt_children_5]\n",
    "\n",
    "data = {'children' : [0, 1, 2, 3, 4, 5],\n",
    "        'part' : part_debt_children}\n",
    "\n",
    "pd.DataFrame(data).sort_values('part', ascending = False)"
   ]
  },
  {
   "cell_type": "markdown",
   "id": "bcb50099",
   "metadata": {},
   "source": [
    "Получили следующий результат по задолженности клиентов: доля клиентов, имеющих 5 детей - 0%, доля клиентов, не имеющих детей или имеющих 3 ребенка - примерно 7.5...8.2 %, доля клиентов, имеющих 1, 2 или 4 детей - менее 10%. Можем сделать вывод, что у клиентов с детьми большая доля задолженности, чем у клиентов без детей, за исключением клиентов, у которых 5 детей. Верояно, нулевая задолженность у клиентов с 5 детьми связана либо с очень малой выборкой, либо с возможными льготами от государства по отношению к банковскому кредиту."
   ]
  },
  {
   "cell_type": "markdown",
   "id": "dc0baa8c",
   "metadata": {},
   "source": [
    "##### Вывод 1: Доля задолженности у клиентов зависит от количества детей."
   ]
  },
  {
   "cell_type": "markdown",
   "id": "7ed6ca99",
   "metadata": {},
   "source": [
    "##### Вопрос 2: Есть ли зависимость между семейным положением и возвратом кредита в срок?"
   ]
  },
  {
   "cell_type": "markdown",
   "id": "3f748530",
   "metadata": {},
   "source": [
    "Сгруппируем по столбцу `debt` столбец `family_status_id`:"
   ]
  },
  {
   "cell_type": "code",
   "execution_count": 56,
   "id": "d618fcae",
   "metadata": {
    "scrolled": true
   },
   "outputs": [
    {
     "data": {
      "text/plain": [
       "debt  family_status_id\n",
       "0     0                   11408\n",
       "      1                    3762\n",
       "      4                    2536\n",
       "      3                    1110\n",
       "      2                     896\n",
       "1     0                     931\n",
       "      1                     388\n",
       "      4                     274\n",
       "      3                      85\n",
       "      2                      63\n",
       "Name: family_status_id, dtype: int64"
      ]
     },
     "execution_count": 56,
     "metadata": {},
     "output_type": "execute_result"
    }
   ],
   "source": [
    "df.groupby('debt')['family_status_id'].value_counts()"
   ]
  },
  {
   "cell_type": "markdown",
   "id": "61a516eb",
   "metadata": {},
   "source": [
    "Определим долю задолженности клиентов в зависимости от семейного положения:"
   ]
  },
  {
   "cell_type": "code",
   "execution_count": 57,
   "id": "a8905801",
   "metadata": {},
   "outputs": [
    {
     "data": {
      "text/html": [
       "<div>\n",
       "<style scoped>\n",
       "    .dataframe tbody tr th:only-of-type {\n",
       "        vertical-align: middle;\n",
       "    }\n",
       "\n",
       "    .dataframe tbody tr th {\n",
       "        vertical-align: top;\n",
       "    }\n",
       "\n",
       "    .dataframe thead th {\n",
       "        text-align: right;\n",
       "    }\n",
       "</style>\n",
       "<table border=\"1\" class=\"dataframe\">\n",
       "  <thead>\n",
       "    <tr style=\"text-align: right;\">\n",
       "      <th></th>\n",
       "      <th>dob_years_group</th>\n",
       "      <th>part</th>\n",
       "    </tr>\n",
       "  </thead>\n",
       "  <tbody>\n",
       "    <tr>\n",
       "      <th>4</th>\n",
       "      <td>не женат / не замужем</td>\n",
       "      <td>0.097509</td>\n",
       "    </tr>\n",
       "    <tr>\n",
       "      <th>1</th>\n",
       "      <td>гражданский брак</td>\n",
       "      <td>0.093494</td>\n",
       "    </tr>\n",
       "    <tr>\n",
       "      <th>0</th>\n",
       "      <td>женат / замужем</td>\n",
       "      <td>0.075452</td>\n",
       "    </tr>\n",
       "    <tr>\n",
       "      <th>3</th>\n",
       "      <td>в разводе</td>\n",
       "      <td>0.071130</td>\n",
       "    </tr>\n",
       "    <tr>\n",
       "      <th>2</th>\n",
       "      <td>вдовец / вдова</td>\n",
       "      <td>0.065693</td>\n",
       "    </tr>\n",
       "  </tbody>\n",
       "</table>\n",
       "</div>"
      ],
      "text/plain": [
       "         dob_years_group      part\n",
       "4  не женат / не замужем  0.097509\n",
       "1       гражданский брак  0.093494\n",
       "0        женат / замужем  0.075452\n",
       "3              в разводе  0.071130\n",
       "2         вдовец / вдова  0.065693"
      ]
     },
     "execution_count": 57,
     "metadata": {},
     "output_type": "execute_result"
    }
   ],
   "source": [
    "part_family_status_0 = 931 / (931 + 11408)\n",
    "part_family_status_1 = 388 / (388 + 3762)\n",
    "part_family_status_2 = 63 / (63 + 896)\n",
    "part_family_status_3 = 85 / (85 + 1110)\n",
    "part_family_status_4 = 274 / (274 + 2536)\n",
    "\n",
    "part_family_status = [part_family_status_0, part_family_status_1,\n",
    "                   part_family_status_2, part_family_status_3,\n",
    "                   part_family_status_4]\n",
    "\n",
    "data_part_family_status = {'dob_years_group' : ['женат / замужем', 'гражданский брак',\n",
    "                                                'вдовец / вдова', 'в разводе',\n",
    "                                                'не женат / не замужем'],\n",
    "                        'part' : part_family_status}\n",
    "\n",
    "pd.DataFrame(data_part_family_status).sort_values('part', ascending = False)"
   ]
  },
  {
   "cell_type": "markdown",
   "id": "3034c59c",
   "metadata": {},
   "source": [
    "##### Вывод 2:  Самая низкая доля задолженности у клиентов со статусом \"вдовец / вдова\" - примерно 6.6%, средняя - со статусом \"в разводе\" и \"женат / замужем\" - 7.1% и 7.5% соответственно, высокая - ''гражданский брак\" и \"не женат / не замужем\" - 9.3% и 9.8% соответственно."
   ]
  },
  {
   "cell_type": "markdown",
   "id": "69f93f5d",
   "metadata": {},
   "source": [
    "##### Вопрос 3: Есть ли зависимость между уровнем дохода и возвратом кредита в срок?"
   ]
  },
  {
   "cell_type": "markdown",
   "id": "ed5c54d9",
   "metadata": {},
   "source": [
    "Для ответа на данный вопрос попробуем выявить зависимость между категорией дохода клиента и возвратом кредита в срок."
   ]
  },
  {
   "cell_type": "markdown",
   "id": "7a5ce14c",
   "metadata": {},
   "source": [
    "Создадим отдельный DataFrame для работы по заданным критериям:"
   ]
  },
  {
   "cell_type": "code",
   "execution_count": 58,
   "id": "1b7f4f5f",
   "metadata": {},
   "outputs": [],
   "source": [
    "df_income_debt = df[['total_income_category', 'debt']]"
   ]
  },
  {
   "cell_type": "markdown",
   "id": "d43b25e3",
   "metadata": {},
   "source": [
    "Сгруппируем созданный DataFrame `df_income_debt`:"
   ]
  },
  {
   "cell_type": "code",
   "execution_count": 59,
   "id": "cc041097",
   "metadata": {
    "scrolled": true
   },
   "outputs": [
    {
     "data": {
      "text/plain": [
       "debt  total_income_category\n",
       "0     C                        14656\n",
       "      B                         4684\n",
       "      D                          329\n",
       "      A                           23\n",
       "      E                           20\n",
       "1     C                         1360\n",
       "      B                          356\n",
       "      D                           21\n",
       "      A                            2\n",
       "      E                            2\n",
       "Name: total_income_category, dtype: int64"
      ]
     },
     "execution_count": 59,
     "metadata": {},
     "output_type": "execute_result"
    }
   ],
   "source": [
    "df_income_debt.groupby('debt')['total_income_category'].value_counts()"
   ]
  },
  {
   "cell_type": "markdown",
   "id": "db3ff1f0",
   "metadata": {},
   "source": [
    "Определим долю задолженности клиентов в зависимости от их полного дохода:"
   ]
  },
  {
   "cell_type": "code",
   "execution_count": 60,
   "id": "7cda427a",
   "metadata": {},
   "outputs": [
    {
     "data": {
      "text/html": [
       "<div>\n",
       "<style scoped>\n",
       "    .dataframe tbody tr th:only-of-type {\n",
       "        vertical-align: middle;\n",
       "    }\n",
       "\n",
       "    .dataframe tbody tr th {\n",
       "        vertical-align: top;\n",
       "    }\n",
       "\n",
       "    .dataframe thead th {\n",
       "        text-align: right;\n",
       "    }\n",
       "</style>\n",
       "<table border=\"1\" class=\"dataframe\">\n",
       "  <thead>\n",
       "    <tr style=\"text-align: right;\">\n",
       "      <th></th>\n",
       "      <th>total_income_category</th>\n",
       "      <th>part</th>\n",
       "    </tr>\n",
       "  </thead>\n",
       "  <tbody>\n",
       "    <tr>\n",
       "      <th>4</th>\n",
       "      <td>E</td>\n",
       "      <td>0.090909</td>\n",
       "    </tr>\n",
       "    <tr>\n",
       "      <th>2</th>\n",
       "      <td>C</td>\n",
       "      <td>0.084915</td>\n",
       "    </tr>\n",
       "    <tr>\n",
       "      <th>0</th>\n",
       "      <td>A</td>\n",
       "      <td>0.080000</td>\n",
       "    </tr>\n",
       "    <tr>\n",
       "      <th>1</th>\n",
       "      <td>B</td>\n",
       "      <td>0.070635</td>\n",
       "    </tr>\n",
       "    <tr>\n",
       "      <th>3</th>\n",
       "      <td>D</td>\n",
       "      <td>0.060000</td>\n",
       "    </tr>\n",
       "  </tbody>\n",
       "</table>\n",
       "</div>"
      ],
      "text/plain": [
       "  total_income_category      part\n",
       "4                     E  0.090909\n",
       "2                     C  0.084915\n",
       "0                     A  0.080000\n",
       "1                     B  0.070635\n",
       "3                     D  0.060000"
      ]
     },
     "execution_count": 60,
     "metadata": {},
     "output_type": "execute_result"
    }
   ],
   "source": [
    "part_debt_income_A = 2 / (23 + 2)\n",
    "part_debt_income_B = 356 / (4684 + 356)\n",
    "part_debt_income_C = 1360 / (14656 + 1360)\n",
    "part_debt_income_D = 21 / (329 + 21)\n",
    "part_debt_income_E = 2 / (20 + 2)\n",
    "\n",
    "part_debt_income = [part_debt_income_A,\n",
    "                    part_debt_income_B,\n",
    "                    part_debt_income_C,\n",
    "                    part_debt_income_D,\n",
    "                    part_debt_income_E]\n",
    "\n",
    "data_debt_income = {'total_income_category' : ['A', 'B', 'C', 'D', 'E'],\n",
    "        'part' : part_debt_income}\n",
    "\n",
    "pd.DataFrame(data_debt_income).sort_values('part', ascending = False)"
   ]
  },
  {
   "cell_type": "markdown",
   "id": "54d75cf2",
   "metadata": {},
   "source": [
    "Получили следующий результат по задолженности клиентов: в процентном соотношении доля задолженностей клиентов по катерогиям дохода лежит в интервале от 6% до 10%, т.е. разброс значений сравнительно невелик. Самая большая доля клиентов с задолженностями - примерно 9.1% - клиенты категории Е, у которых доходы самые низкие. Однако у клиентов с самыми большими доходами категории А доля задолженности немногим ниже - примерно 8%. Самая же низкая доля задолженных клиентов в категории D - 6%. Таким образом, можно сделать вывод о том, нет прямой зависимости между возвратом кредита в срок и уровнем дохода клиента."
   ]
  },
  {
   "cell_type": "markdown",
   "id": "d82eaecc",
   "metadata": {},
   "source": [
    "##### Вывод 3: Нет прямой зависимости между возвратом кредита в срок и уровнем дохода клиента."
   ]
  },
  {
   "cell_type": "markdown",
   "id": "c1717abb",
   "metadata": {},
   "source": [
    "##### Вопрос 4: Как разные цели кредита влияют на его возврат в срок?"
   ]
  },
  {
   "cell_type": "markdown",
   "id": "e3b5ec1b",
   "metadata": {},
   "source": [
    "Проверим зависимость возврата кредита в срок в зависимости от других факторов: тип занятости, пол клиента, цель получения кредита, уровень образования клиента, возраст клиента в годах."
   ]
  },
  {
   "cell_type": "markdown",
   "id": "9f01fee8",
   "metadata": {},
   "source": [
    "Сгруппируем по столбцу `debt` столбец `income_type`:"
   ]
  },
  {
   "cell_type": "code",
   "execution_count": 61,
   "id": "fdcddc2c",
   "metadata": {
    "scrolled": true
   },
   "outputs": [
    {
     "data": {
      "text/plain": [
       "debt  income_type    \n",
       "0     сотрудник          10023\n",
       "      компаньон           4701\n",
       "      пенсионер           3613\n",
       "      госслужащий         1371\n",
       "      предприниматель        2\n",
       "      безработный            1\n",
       "      студент                1\n",
       "1     сотрудник           1061\n",
       "      компаньон            376\n",
       "      пенсионер            216\n",
       "      госслужащий           86\n",
       "      безработный            1\n",
       "      в декрете              1\n",
       "Name: income_type, dtype: int64"
      ]
     },
     "execution_count": 61,
     "metadata": {},
     "output_type": "execute_result"
    }
   ],
   "source": [
    "df.groupby('debt')['income_type'].value_counts()"
   ]
  },
  {
   "cell_type": "markdown",
   "id": "bad2e843",
   "metadata": {},
   "source": [
    "Определим долю задолженности клиентов в зависимости от типа занятости:"
   ]
  },
  {
   "cell_type": "code",
   "execution_count": 62,
   "id": "ced08fb8",
   "metadata": {
    "scrolled": false
   },
   "outputs": [
    {
     "data": {
      "text/html": [
       "<div>\n",
       "<style scoped>\n",
       "    .dataframe tbody tr th:only-of-type {\n",
       "        vertical-align: middle;\n",
       "    }\n",
       "\n",
       "    .dataframe tbody tr th {\n",
       "        vertical-align: top;\n",
       "    }\n",
       "\n",
       "    .dataframe thead th {\n",
       "        text-align: right;\n",
       "    }\n",
       "</style>\n",
       "<table border=\"1\" class=\"dataframe\">\n",
       "  <thead>\n",
       "    <tr style=\"text-align: right;\">\n",
       "      <th></th>\n",
       "      <th>income_type</th>\n",
       "      <th>part</th>\n",
       "    </tr>\n",
       "  </thead>\n",
       "  <tbody>\n",
       "    <tr>\n",
       "      <th>7</th>\n",
       "      <td>в декрете</td>\n",
       "      <td>1.000000</td>\n",
       "    </tr>\n",
       "    <tr>\n",
       "      <th>5</th>\n",
       "      <td>безработный</td>\n",
       "      <td>0.500000</td>\n",
       "    </tr>\n",
       "    <tr>\n",
       "      <th>0</th>\n",
       "      <td>сотрудник</td>\n",
       "      <td>0.095724</td>\n",
       "    </tr>\n",
       "    <tr>\n",
       "      <th>1</th>\n",
       "      <td>компаньон</td>\n",
       "      <td>0.074059</td>\n",
       "    </tr>\n",
       "    <tr>\n",
       "      <th>3</th>\n",
       "      <td>госслужащий</td>\n",
       "      <td>0.059025</td>\n",
       "    </tr>\n",
       "    <tr>\n",
       "      <th>2</th>\n",
       "      <td>пенсионер</td>\n",
       "      <td>0.056412</td>\n",
       "    </tr>\n",
       "    <tr>\n",
       "      <th>4</th>\n",
       "      <td>предприниматель</td>\n",
       "      <td>0.000000</td>\n",
       "    </tr>\n",
       "    <tr>\n",
       "      <th>6</th>\n",
       "      <td>студент</td>\n",
       "      <td>0.000000</td>\n",
       "    </tr>\n",
       "  </tbody>\n",
       "</table>\n",
       "</div>"
      ],
      "text/plain": [
       "       income_type      part\n",
       "7        в декрете  1.000000\n",
       "5      безработный  0.500000\n",
       "0        сотрудник  0.095724\n",
       "1        компаньон  0.074059\n",
       "3      госслужащий  0.059025\n",
       "2        пенсионер  0.056412\n",
       "4  предприниматель  0.000000\n",
       "6          студент  0.000000"
      ]
     },
     "execution_count": 62,
     "metadata": {},
     "output_type": "execute_result"
    }
   ],
   "source": [
    "part_employee = 1061 / (1061 + 10023)\n",
    "part_companion = 376 / (376 + 4701)\n",
    "part_pensioner = 216 / (216 + 3613)\n",
    "part_civil_servant = 86 / (86 + 1371)\n",
    "part_entrepreneur = 0\n",
    "part_unemployed = 1 / 2\n",
    "part_student = 0\n",
    "part_on_maternity_leave = 1\n",
    "\n",
    "part_income_type = [part_employee, part_companion, part_pensioner, \n",
    "                    part_civil_servant, part_entrepreneur, part_unemployed,\n",
    "                    part_student, part_on_maternity_leave]\n",
    "\n",
    "data_debt_gender = {'income_type' : ['сотрудник', 'компаньон', 'пенсионер', 'госслужащий',\n",
    "                                     'предприниматель', 'безработный', 'студент', 'в декрете'],\n",
    "        'part' : part_income_type}\n",
    "\n",
    "pd.DataFrame(data_debt_gender).sort_values('part', ascending = False)"
   ]
  },
  {
   "cell_type": "markdown",
   "id": "141a289c",
   "metadata": {},
   "source": [
    "Как видно из результата, наибольший разброс значений у клиентов со статусами 'в декрете', 'безработный', 'предприниматель' и 'студент'. Для более точного результата определим, какую часть составляет их количество от общего количества клиентов:"
   ]
  },
  {
   "cell_type": "code",
   "execution_count": 63,
   "id": "3f0e81cd",
   "metadata": {},
   "outputs": [
    {
     "data": {
      "text/plain": [
       "0.00027968116347364006"
      ]
     },
     "execution_count": 63,
     "metadata": {},
     "output_type": "execute_result"
    }
   ],
   "source": [
    "df_income_type = df[df['income_type'].isin(['в декрете', 'безработный', 'предприниматель', 'студент'])]\n",
    "df_income_type['income_type'].count() / df['income_type'].count()"
   ]
  },
  {
   "cell_type": "markdown",
   "id": "70b70f53",
   "metadata": {},
   "source": [
    "Доля клиентов со статусами 'в декрете', 'безработный', 'предприниматель' и 'студент' составляет менее 0.03% от общего количества клиентов. Таким образом, будет некорректно сравнивать долю задолженности у этих клиентов с клиентами остальных категорий, так как выборка этих клиентов очень низкая по сравнению с остальными. Поэтому будем продолжать сравнение по критерию \"тип занятости\" только для клиентов со статусами \"сотрудник\", \"компаньон\", \"госслужащий\", \"пенсионер\"."
   ]
  },
  {
   "cell_type": "markdown",
   "id": "cac594e0",
   "metadata": {},
   "source": [
    "Получили следующий результат по задолженности клиентов: низкая задолженность у пенсионеров и госслужащих (примерно 5.6% и 5.9% соответсвенно), средняя - у компаньонов - примерно 7.4%, наиболее высокая - у сотрудников - примерно 9.6%.  "
   ]
  },
  {
   "cell_type": "markdown",
   "id": "f04c4cd2",
   "metadata": {},
   "source": [
    "Сгруппируем по столбцу `debt` столбец `gender`:"
   ]
  },
  {
   "cell_type": "code",
   "execution_count": 64,
   "id": "8c903c65",
   "metadata": {
    "scrolled": true
   },
   "outputs": [
    {
     "data": {
      "text/plain": [
       "debt  gender\n",
       "0     F         13180\n",
       "      M          6532\n",
       "1     F           994\n",
       "      M           747\n",
       "Name: gender, dtype: int64"
      ]
     },
     "execution_count": 64,
     "metadata": {},
     "output_type": "execute_result"
    }
   ],
   "source": [
    "df.groupby('debt')['gender'].value_counts()"
   ]
  },
  {
   "cell_type": "markdown",
   "id": "4e80878e",
   "metadata": {},
   "source": [
    "Определим долю задолженности клиентов в зависимости от пола клиента:"
   ]
  },
  {
   "cell_type": "code",
   "execution_count": 65,
   "id": "b1bda01d",
   "metadata": {
    "scrolled": true
   },
   "outputs": [
    {
     "data": {
      "text/html": [
       "<div>\n",
       "<style scoped>\n",
       "    .dataframe tbody tr th:only-of-type {\n",
       "        vertical-align: middle;\n",
       "    }\n",
       "\n",
       "    .dataframe tbody tr th {\n",
       "        vertical-align: top;\n",
       "    }\n",
       "\n",
       "    .dataframe thead th {\n",
       "        text-align: right;\n",
       "    }\n",
       "</style>\n",
       "<table border=\"1\" class=\"dataframe\">\n",
       "  <thead>\n",
       "    <tr style=\"text-align: right;\">\n",
       "      <th></th>\n",
       "      <th>gender</th>\n",
       "      <th>part</th>\n",
       "    </tr>\n",
       "  </thead>\n",
       "  <tbody>\n",
       "    <tr>\n",
       "      <th>0</th>\n",
       "      <td>M</td>\n",
       "      <td>0.102624</td>\n",
       "    </tr>\n",
       "    <tr>\n",
       "      <th>1</th>\n",
       "      <td>F</td>\n",
       "      <td>0.070128</td>\n",
       "    </tr>\n",
       "  </tbody>\n",
       "</table>\n",
       "</div>"
      ],
      "text/plain": [
       "  gender      part\n",
       "0      M  0.102624\n",
       "1      F  0.070128"
      ]
     },
     "execution_count": 65,
     "metadata": {},
     "output_type": "execute_result"
    }
   ],
   "source": [
    "part_gender_M = 747 / (747 + 6532)\n",
    "part_gender_F = 994 / (994 + 13180)\n",
    "\n",
    "part_gender = [part_gender_M, part_gender_F]\n",
    "\n",
    "data_debt_gender = {'gender' : ['M', 'F'],\n",
    "        'part' : part_gender}\n",
    "\n",
    "pd.DataFrame(data_debt_gender).sort_values('part', ascending = False)"
   ]
  },
  {
   "cell_type": "markdown",
   "id": "c19e3aab",
   "metadata": {},
   "source": [
    "Получили следующий результат по задолженности клиентов: задолженность у клиентов женского пола ниже - примерно 7%, у клиентов мужского пола значительно выше - примерно 10.2%."
   ]
  },
  {
   "cell_type": "markdown",
   "id": "94e6d138",
   "metadata": {},
   "source": [
    "Сгруппируем по столбцу `debt` столбец `purpose_category`:"
   ]
  },
  {
   "cell_type": "code",
   "execution_count": 66,
   "id": "c67f9c56",
   "metadata": {
    "scrolled": true
   },
   "outputs": [
    {
     "data": {
      "text/plain": [
       "debt  purpose_category        \n",
       "0     операции с недвижимостью    10028\n",
       "      операции с автомобилем       3903\n",
       "      получения образования        3643\n",
       "      проведение свадьбы           2138\n",
       "1     операции с недвижимостью      782\n",
       "      операции с автомобилем        403\n",
       "      получения образования         370\n",
       "      проведение свадьбы            186\n",
       "Name: purpose_category, dtype: int64"
      ]
     },
     "execution_count": 66,
     "metadata": {},
     "output_type": "execute_result"
    }
   ],
   "source": [
    "df.groupby('debt')['purpose_category'].value_counts()"
   ]
  },
  {
   "cell_type": "markdown",
   "id": "4dc7b19d",
   "metadata": {},
   "source": [
    "Определим долю задолженности клиентов в зависимости от цели получения кредита:"
   ]
  },
  {
   "cell_type": "code",
   "execution_count": 67,
   "id": "6e0f2777",
   "metadata": {},
   "outputs": [
    {
     "data": {
      "text/html": [
       "<div>\n",
       "<style scoped>\n",
       "    .dataframe tbody tr th:only-of-type {\n",
       "        vertical-align: middle;\n",
       "    }\n",
       "\n",
       "    .dataframe tbody tr th {\n",
       "        vertical-align: top;\n",
       "    }\n",
       "\n",
       "    .dataframe thead th {\n",
       "        text-align: right;\n",
       "    }\n",
       "</style>\n",
       "<table border=\"1\" class=\"dataframe\">\n",
       "  <thead>\n",
       "    <tr style=\"text-align: right;\">\n",
       "      <th></th>\n",
       "      <th>purpose</th>\n",
       "      <th>part</th>\n",
       "    </tr>\n",
       "  </thead>\n",
       "  <tbody>\n",
       "    <tr>\n",
       "      <th>1</th>\n",
       "      <td>операции с автомобилем</td>\n",
       "      <td>0.093590</td>\n",
       "    </tr>\n",
       "    <tr>\n",
       "      <th>2</th>\n",
       "      <td>получение образования</td>\n",
       "      <td>0.092200</td>\n",
       "    </tr>\n",
       "    <tr>\n",
       "      <th>3</th>\n",
       "      <td>проведение свадьбы</td>\n",
       "      <td>0.080034</td>\n",
       "    </tr>\n",
       "    <tr>\n",
       "      <th>0</th>\n",
       "      <td>операции с недвижимостью</td>\n",
       "      <td>0.072340</td>\n",
       "    </tr>\n",
       "  </tbody>\n",
       "</table>\n",
       "</div>"
      ],
      "text/plain": [
       "                    purpose      part\n",
       "1    операции с автомобилем  0.093590\n",
       "2     получение образования  0.092200\n",
       "3        проведение свадьбы  0.080034\n",
       "0  операции с недвижимостью  0.072340"
      ]
     },
     "execution_count": 67,
     "metadata": {},
     "output_type": "execute_result"
    }
   ],
   "source": [
    "part_property = 782 / (10028 + 782)\n",
    "part_car = 403 / (3903 + 403)\n",
    "part_education = 370 / (370 + 3643)\n",
    "part_wedding = 186 / (186 + 2138)\n",
    "\n",
    "part_purpose = [part_property, part_car, part_education, part_wedding]\n",
    "\n",
    "data_part_purpose = {'purpose' : ['операции с недвижимостью', 'операции с автомобилем',\n",
    "                                  'получение образования', 'проведение свадьбы'],\n",
    "        'part' : part_purpose}\n",
    "\n",
    "pd.DataFrame(data_part_purpose).sort_values('part', ascending = False)"
   ]
  },
  {
   "cell_type": "markdown",
   "id": "864813f4",
   "metadata": {},
   "source": [
    "Получили следующий результат по задолженности клиентов: более низкая задолженность у клиентов, целью получения кредита которых являются \"операции с недвижимостью\" и \"проведение свадьбы\" - 7.2% и 8% соответственно, более высокая - у \"получение образования\" и \"операции с автомобилем\" - 9.2% и 9.4% соответственно."
   ]
  },
  {
   "cell_type": "markdown",
   "id": "bbf3f3d9",
   "metadata": {},
   "source": [
    "Сгруппируем по столбцу `debt` столбец `education_id`:"
   ]
  },
  {
   "cell_type": "code",
   "execution_count": 68,
   "id": "ca3002f2",
   "metadata": {
    "scrolled": true
   },
   "outputs": [
    {
     "data": {
      "text/plain": [
       "debt  education_id\n",
       "0     1               13808\n",
       "      0                4972\n",
       "      2                 675\n",
       "      3                 251\n",
       "      4                   6\n",
       "1     1                1364\n",
       "      0                 278\n",
       "      2                  68\n",
       "      3                  31\n",
       "Name: education_id, dtype: int64"
      ]
     },
     "execution_count": 68,
     "metadata": {},
     "output_type": "execute_result"
    }
   ],
   "source": [
    "df.groupby('debt')['education_id'].value_counts()"
   ]
  },
  {
   "cell_type": "markdown",
   "id": "b7f88d3c",
   "metadata": {},
   "source": [
    "Определим долю задолженности клиентов в зависимости от уровня образования клиента:"
   ]
  },
  {
   "cell_type": "code",
   "execution_count": 69,
   "id": "2dad6df1",
   "metadata": {
    "scrolled": false
   },
   "outputs": [
    {
     "data": {
      "text/html": [
       "<div>\n",
       "<style scoped>\n",
       "    .dataframe tbody tr th:only-of-type {\n",
       "        vertical-align: middle;\n",
       "    }\n",
       "\n",
       "    .dataframe tbody tr th {\n",
       "        vertical-align: top;\n",
       "    }\n",
       "\n",
       "    .dataframe thead th {\n",
       "        text-align: right;\n",
       "    }\n",
       "</style>\n",
       "<table border=\"1\" class=\"dataframe\">\n",
       "  <thead>\n",
       "    <tr style=\"text-align: right;\">\n",
       "      <th></th>\n",
       "      <th>education</th>\n",
       "      <th>part</th>\n",
       "    </tr>\n",
       "  </thead>\n",
       "  <tbody>\n",
       "    <tr>\n",
       "      <th>3</th>\n",
       "      <td>начальное</td>\n",
       "      <td>0.109929</td>\n",
       "    </tr>\n",
       "    <tr>\n",
       "      <th>2</th>\n",
       "      <td>неоконченное высшее</td>\n",
       "      <td>0.091521</td>\n",
       "    </tr>\n",
       "    <tr>\n",
       "      <th>1</th>\n",
       "      <td>среднее</td>\n",
       "      <td>0.089902</td>\n",
       "    </tr>\n",
       "    <tr>\n",
       "      <th>0</th>\n",
       "      <td>высшее</td>\n",
       "      <td>0.052952</td>\n",
       "    </tr>\n",
       "    <tr>\n",
       "      <th>4</th>\n",
       "      <td>ученая степень</td>\n",
       "      <td>0.000000</td>\n",
       "    </tr>\n",
       "  </tbody>\n",
       "</table>\n",
       "</div>"
      ],
      "text/plain": [
       "             education      part\n",
       "3            начальное  0.109929\n",
       "2  неоконченное высшее  0.091521\n",
       "1              среднее  0.089902\n",
       "0               высшее  0.052952\n",
       "4       ученая степень  0.000000"
      ]
     },
     "execution_count": 69,
     "metadata": {},
     "output_type": "execute_result"
    }
   ],
   "source": [
    "part_0 = 278 / (278 + 4972)\n",
    "part_1 = 1364 / (13808 + 1364)\n",
    "part_2 = 68 / (675 + 68)\n",
    "part_3 = 31 / (31 + 251)\n",
    "part_4 = 0\n",
    "\n",
    "part_education = [part_0, part_1, part_2, part_3, part_4]\n",
    "\n",
    "data_part_education = {'education' : ['высшее', 'среднее',\n",
    "                                  'неоконченное высшее', 'начальное', 'ученая степень'],\n",
    "        'part' : part_education}\n",
    "\n",
    "pd.DataFrame(data_part_education).sort_values('part', ascending = False)"
   ]
  },
  {
   "cell_type": "markdown",
   "id": "d3891afd",
   "metadata": {},
   "source": [
    "Получили следующий результат по задолженности клиентов: нулевая задолженность у клиентов с ученой степенью, низкая - с высшим образованием - 5.3%, средняя - со средним образованием - 9%, высокая - с неоконченным высшим образованием - 9.2%, наивысшая - с начальным образованием - 10.9%."
   ]
  },
  {
   "cell_type": "markdown",
   "id": "f35f92c6",
   "metadata": {},
   "source": [
    "Для определения доли клиентов с задолженностями, разделим их на определенные возрастные категории: до 25 лет, 26-35 лет, 36-45 лет, 46-55 лет, 56-65 лет, 66 и более. Для этого создадим функцию `age_group`, определяющую категорию возраста, и дополнительный столбец в основном DataFrame `dob_years_group`, в который будут сохраняться полученные значения: "
   ]
  },
  {
   "cell_type": "code",
   "execution_count": 70,
   "id": "a30b5cc4",
   "metadata": {},
   "outputs": [],
   "source": [
    "def age_group(age):\n",
    " \n",
    "    if age <= 25:\n",
    "        return 'до 25'\n",
    "    elif age <= 35:\n",
    "        return '26-35'\n",
    "    elif age <= 45:\n",
    "        return '36-45'\n",
    "    elif age <= 55:\n",
    "        return '46-55'\n",
    "    elif age <= 65:\n",
    "        return '56-65'\n",
    "    elif age <= 65:\n",
    "        return '56-65'\n",
    "    else:\n",
    "        return 'более 65'\n",
    "\n",
    "df['dob_years_group'] = df['dob_years'].apply(age_group)    "
   ]
  },
  {
   "cell_type": "markdown",
   "id": "c46f6fff",
   "metadata": {},
   "source": [
    "Сгруппируем по столбцу `debt` столбец `dob_years_group`:"
   ]
  },
  {
   "cell_type": "code",
   "execution_count": 71,
   "id": "dbb9178e",
   "metadata": {
    "scrolled": true
   },
   "outputs": [
    {
     "data": {
      "text/plain": [
       "debt  dob_years_group\n",
       "0     36-45              5153\n",
       "      26-35              4784\n",
       "      46-55              4486\n",
       "      56-65              3429\n",
       "      до 25              1193\n",
       "      более 65            667\n",
       "1     26-35               567\n",
       "      36-45               467\n",
       "      46-55               328\n",
       "      56-65               205\n",
       "      до 25               139\n",
       "      более 65             35\n",
       "Name: dob_years_group, dtype: int64"
      ]
     },
     "execution_count": 71,
     "metadata": {},
     "output_type": "execute_result"
    }
   ],
   "source": [
    "df.groupby('debt')['dob_years_group'].value_counts()"
   ]
  },
  {
   "cell_type": "markdown",
   "id": "9e51c89b",
   "metadata": {},
   "source": [
    "Определим долю задолженности клиентов в зависимости от возраста клиента:"
   ]
  },
  {
   "cell_type": "code",
   "execution_count": 72,
   "id": "944f60fa",
   "metadata": {
    "scrolled": true
   },
   "outputs": [
    {
     "data": {
      "text/html": [
       "<div>\n",
       "<style scoped>\n",
       "    .dataframe tbody tr th:only-of-type {\n",
       "        vertical-align: middle;\n",
       "    }\n",
       "\n",
       "    .dataframe tbody tr th {\n",
       "        vertical-align: top;\n",
       "    }\n",
       "\n",
       "    .dataframe thead th {\n",
       "        text-align: right;\n",
       "    }\n",
       "</style>\n",
       "<table border=\"1\" class=\"dataframe\">\n",
       "  <thead>\n",
       "    <tr style=\"text-align: right;\">\n",
       "      <th></th>\n",
       "      <th>dob_years_group</th>\n",
       "      <th>part</th>\n",
       "    </tr>\n",
       "  </thead>\n",
       "  <tbody>\n",
       "    <tr>\n",
       "      <th>1</th>\n",
       "      <td>26-35</td>\n",
       "      <td>0.105962</td>\n",
       "    </tr>\n",
       "    <tr>\n",
       "      <th>0</th>\n",
       "      <td>до 25</td>\n",
       "      <td>0.104354</td>\n",
       "    </tr>\n",
       "    <tr>\n",
       "      <th>2</th>\n",
       "      <td>36-45</td>\n",
       "      <td>0.083096</td>\n",
       "    </tr>\n",
       "    <tr>\n",
       "      <th>3</th>\n",
       "      <td>46-55</td>\n",
       "      <td>0.068135</td>\n",
       "    </tr>\n",
       "    <tr>\n",
       "      <th>4</th>\n",
       "      <td>56-65</td>\n",
       "      <td>0.056412</td>\n",
       "    </tr>\n",
       "    <tr>\n",
       "      <th>5</th>\n",
       "      <td>более 65</td>\n",
       "      <td>0.049858</td>\n",
       "    </tr>\n",
       "  </tbody>\n",
       "</table>\n",
       "</div>"
      ],
      "text/plain": [
       "  dob_years_group      part\n",
       "1           26-35  0.105962\n",
       "0           до 25  0.104354\n",
       "2           36-45  0.083096\n",
       "3           46-55  0.068135\n",
       "4           56-65  0.056412\n",
       "5        более 65  0.049858"
      ]
     },
     "execution_count": 72,
     "metadata": {},
     "output_type": "execute_result"
    }
   ],
   "source": [
    "dob_years_group_25 = 139 / (139 + 1193)\n",
    "dob_years_group_26_35 = 567 / (567 + 4784)\n",
    "dob_years_group_36_45 = 467 / (467 + 5153)\n",
    "dob_years_group_46_55 = 328 / (328 + 4486)\n",
    "dob_years_group_56_65 = 205 / (205 + 3429)\n",
    "dob_years_group_66 = 35 / (35 + 667)\n",
    "\n",
    "dob_years_group = [dob_years_group_25, dob_years_group_26_35,\n",
    "                   dob_years_group_36_45, dob_years_group_46_55,\n",
    "                   dob_years_group_56_65, dob_years_group_66]\n",
    "\n",
    "data_dob_years_group = {'dob_years_group' : ['до 25', '26-35', '36-45', '46-55', '56-65', 'более 65'],\n",
    "                        'part' : dob_years_group}\n",
    "\n",
    "pd.DataFrame(data_dob_years_group).sort_values('part', ascending = False)"
   ]
  },
  {
   "cell_type": "markdown",
   "id": "f55dfc00",
   "metadata": {},
   "source": [
    "Получили следующий результат по задолженности клиентов: наименьшая задолженность у клиентов \"более 65\" лет - 4.9%, низкая - \"56-65\" лет - 5.6%, средняя - \"46-55\" - 6.8%, высокая - \"36-45\" - 8.3%, самая высокая - \"до 25\" и \"26-35\" лет. При сравнению по этому критерию хорошо прослеживается закономерность: чем старше клиент, тем меньше вероятность его задолженности."
   ]
  },
  {
   "cell_type": "markdown",
   "id": "2e46fbee",
   "metadata": {},
   "source": [
    "Создадим также сводную таблицу, которая будет отражать долю задолженности в зависимости от возраста и пола клиента по количеству детей: "
   ]
  },
  {
   "cell_type": "code",
   "execution_count": 73,
   "id": "beaa69d3",
   "metadata": {},
   "outputs": [
    {
     "data": {
      "text/html": [
       "<div>\n",
       "<style scoped>\n",
       "    .dataframe tbody tr th:only-of-type {\n",
       "        vertical-align: middle;\n",
       "    }\n",
       "\n",
       "    .dataframe tbody tr th {\n",
       "        vertical-align: top;\n",
       "    }\n",
       "\n",
       "    .dataframe thead tr th {\n",
       "        text-align: left;\n",
       "    }\n",
       "\n",
       "    .dataframe thead tr:last-of-type th {\n",
       "        text-align: right;\n",
       "    }\n",
       "</style>\n",
       "<table border=\"1\" class=\"dataframe\">\n",
       "  <thead>\n",
       "    <tr>\n",
       "      <th></th>\n",
       "      <th colspan=\"12\" halign=\"left\">children</th>\n",
       "    </tr>\n",
       "    <tr>\n",
       "      <th>dob_years_group</th>\n",
       "      <th colspan=\"2\" halign=\"left\">26-35</th>\n",
       "      <th colspan=\"2\" halign=\"left\">36-45</th>\n",
       "      <th colspan=\"2\" halign=\"left\">46-55</th>\n",
       "      <th colspan=\"2\" halign=\"left\">56-65</th>\n",
       "      <th colspan=\"2\" halign=\"left\">более 65</th>\n",
       "      <th colspan=\"2\" halign=\"left\">до 25</th>\n",
       "    </tr>\n",
       "    <tr>\n",
       "      <th>gender</th>\n",
       "      <th>F</th>\n",
       "      <th>M</th>\n",
       "      <th>F</th>\n",
       "      <th>M</th>\n",
       "      <th>F</th>\n",
       "      <th>M</th>\n",
       "      <th>F</th>\n",
       "      <th>M</th>\n",
       "      <th>F</th>\n",
       "      <th>M</th>\n",
       "      <th>F</th>\n",
       "      <th>M</th>\n",
       "    </tr>\n",
       "    <tr>\n",
       "      <th>debt</th>\n",
       "      <th></th>\n",
       "      <th></th>\n",
       "      <th></th>\n",
       "      <th></th>\n",
       "      <th></th>\n",
       "      <th></th>\n",
       "      <th></th>\n",
       "      <th></th>\n",
       "      <th></th>\n",
       "      <th></th>\n",
       "      <th></th>\n",
       "      <th></th>\n",
       "    </tr>\n",
       "  </thead>\n",
       "  <tbody>\n",
       "    <tr>\n",
       "      <th>0</th>\n",
       "      <td>0.946850</td>\n",
       "      <td>0.74421</td>\n",
       "      <td>0.722156</td>\n",
       "      <td>0.890808</td>\n",
       "      <td>0.226553</td>\n",
       "      <td>0.426316</td>\n",
       "      <td>0.154200</td>\n",
       "      <td>0.125304</td>\n",
       "      <td>0.050485</td>\n",
       "      <td>0.157895</td>\n",
       "      <td>0.472262</td>\n",
       "      <td>0.340816</td>\n",
       "    </tr>\n",
       "    <tr>\n",
       "      <th>1</th>\n",
       "      <td>0.917981</td>\n",
       "      <td>0.77600</td>\n",
       "      <td>0.886364</td>\n",
       "      <td>0.783251</td>\n",
       "      <td>0.298913</td>\n",
       "      <td>0.486111</td>\n",
       "      <td>0.238806</td>\n",
       "      <td>0.084507</td>\n",
       "      <td>0.040000</td>\n",
       "      <td>0.100000</td>\n",
       "      <td>0.485714</td>\n",
       "      <td>0.159420</td>\n",
       "    </tr>\n",
       "  </tbody>\n",
       "</table>\n",
       "</div>"
      ],
      "text/plain": [
       "                 children                                                   \\\n",
       "dob_years_group     26-35              36-45               46-55             \n",
       "gender                  F        M         F         M         F         M   \n",
       "debt                                                                         \n",
       "0                0.946850  0.74421  0.722156  0.890808  0.226553  0.426316   \n",
       "1                0.917981  0.77600  0.886364  0.783251  0.298913  0.486111   \n",
       "\n",
       "                                                                             \n",
       "dob_years_group     56-65            более 65               до 25            \n",
       "gender                  F         M         F         M         F         M  \n",
       "debt                                                                         \n",
       "0                0.154200  0.125304  0.050485  0.157895  0.472262  0.340816  \n",
       "1                0.238806  0.084507  0.040000  0.100000  0.485714  0.159420  "
      ]
     },
     "execution_count": 73,
     "metadata": {},
     "output_type": "execute_result"
    }
   ],
   "source": [
    "pd.pivot_table(df, index = ['debt'], columns = ['dob_years_group', 'gender'], values = ['children'])"
   ]
  },
  {
   "cell_type": "markdown",
   "id": "eb482551",
   "metadata": {},
   "source": [
    "## Общий вывод:\n",
    "\n",
    "Было проведено исследование, какие есть зависимости между выбранными личными данными клиента и его задолженностью перед банком. Анализ производился по следующим критериям: количество детей, семейное положение, уровень дохода, тип занятости, пол клиента, цель получения кредита, уровень образования клиента, возраст клиента в годах.\n",
    "\n",
    "Во время предварительной обработки данных столкнулся со следующими проблемами: явные дубликаты, отсутствие данных, некорректные значения данных, в том числе и отображение их в разных единицах измерения. Корректировал данные разными методами. \n",
    "Например, явные дубликаты необходимо было удилить в любом случае, некорректное значение пола было всего 1, поэтому строчку с данным значением можно было также удалить. \n",
    "В ситуациях с некорректными значениями данных, например, количество детей '-1' или возраст клиента '0' также можно было бы удалить, так как доля таких значений было менее 1% от общего количества. Однако для более точного результата было принято решение учитывать строки с этими данными, если исследование влияния производилось по другим параметрам, и игнорировать, создавая новый датафрейм без учета данных аномалий, если анализ производился непосредственно по столбцам, где они присутствовали. \n",
    "В ситуациях, когда некорректные данные были в значительном количестве, было принято решение заполнять аномалии медианным значением и производить дальнейший анализ с учетом медианного значения.\n",
    "\n",
    "Во время исследования влияния различных факторов на платежеспособность клиентов были сделаны следующие выводы о том, что доля задолженности больше: у клиентов с детьми про сравнению с клиентами без детей, клиентов мужского пола по сравнению с женским, клиентов младшего возраста по сравнению со старшим, клиентов, не состоящих или не состоящих ранее в браке, клиентов с начальным образованием по сравнению с клиентами с высшим и др.\n",
    "Было также обнаружено, что уровень дохода клиента не влияет на возврат кредита в срок.\n",
    "\n",
    "Таким образом, можно сделать вывод: наиболее платежеспособные клиенты - без детей, женского пола, с высшим образованием, старшего возраста, находящиеся в браке или ранее состаявшие в нем, целью кредита которых являются 'операции с недвижимостью' или 'проведение свадьбы', пенсионеры или госсужащие."
   ]
  }
 ],
 "metadata": {
  "ExecuteTimeLog": [
   {
    "duration": 545,
    "start_time": "2022-04-02T10:56:07.805Z"
   },
   {
    "duration": 116,
    "start_time": "2022-04-02T10:57:02.522Z"
   },
   {
    "duration": 82,
    "start_time": "2022-04-02T10:57:15.094Z"
   },
   {
    "duration": 98,
    "start_time": "2022-04-02T11:05:12.830Z"
   },
   {
    "duration": 82,
    "start_time": "2022-04-02T11:05:52.217Z"
   },
   {
    "duration": 82,
    "start_time": "2022-04-02T11:09:26.373Z"
   },
   {
    "duration": 79,
    "start_time": "2022-04-02T11:10:35.917Z"
   },
   {
    "duration": 120,
    "start_time": "2022-04-02T11:11:24.156Z"
   },
   {
    "duration": 154,
    "start_time": "2022-04-02T11:14:35.372Z"
   },
   {
    "duration": 84,
    "start_time": "2022-04-02T11:14:42.589Z"
   },
   {
    "duration": 131,
    "start_time": "2022-04-02T11:14:45.619Z"
   },
   {
    "duration": 86,
    "start_time": "2022-04-02T11:14:56.337Z"
   },
   {
    "duration": 86,
    "start_time": "2022-04-02T11:14:58.163Z"
   },
   {
    "duration": 85,
    "start_time": "2022-04-02T11:22:08.898Z"
   },
   {
    "duration": 86,
    "start_time": "2022-04-02T11:24:06.622Z"
   },
   {
    "duration": 70,
    "start_time": "2022-04-02T11:24:19.601Z"
   },
   {
    "duration": 80,
    "start_time": "2022-04-02T11:26:26.472Z"
   },
   {
    "duration": 86,
    "start_time": "2022-04-02T11:26:28.935Z"
   },
   {
    "duration": 85,
    "start_time": "2022-04-02T11:26:45.247Z"
   },
   {
    "duration": 96,
    "start_time": "2022-04-02T11:30:46.059Z"
   },
   {
    "duration": 101,
    "start_time": "2022-04-02T11:30:49.909Z"
   },
   {
    "duration": 67,
    "start_time": "2022-04-02T11:31:53.616Z"
   },
   {
    "duration": 132,
    "start_time": "2022-04-02T11:33:15.380Z"
   },
   {
    "duration": 143,
    "start_time": "2022-04-02T11:33:29.806Z"
   },
   {
    "duration": 111,
    "start_time": "2022-04-02T11:34:07.830Z"
   },
   {
    "duration": 75,
    "start_time": "2022-04-02T11:34:30.919Z"
   },
   {
    "duration": 71,
    "start_time": "2022-04-02T11:34:34.740Z"
   },
   {
    "duration": 72,
    "start_time": "2022-04-02T11:35:01.061Z"
   },
   {
    "duration": 79,
    "start_time": "2022-04-02T11:35:05.622Z"
   },
   {
    "duration": 74,
    "start_time": "2022-04-02T11:35:16.855Z"
   },
   {
    "duration": 88,
    "start_time": "2022-04-02T11:35:32.178Z"
   },
   {
    "duration": 89,
    "start_time": "2022-04-02T11:38:56.645Z"
   },
   {
    "duration": 77,
    "start_time": "2022-04-02T11:39:51.251Z"
   },
   {
    "duration": 75,
    "start_time": "2022-04-02T11:39:57.800Z"
   },
   {
    "duration": 71,
    "start_time": "2022-04-02T11:42:40.459Z"
   },
   {
    "duration": 69,
    "start_time": "2022-04-02T11:43:44.262Z"
   },
   {
    "duration": 82,
    "start_time": "2022-04-02T11:43:58.398Z"
   },
   {
    "duration": 72,
    "start_time": "2022-04-02T11:44:49.434Z"
   },
   {
    "duration": 74,
    "start_time": "2022-04-02T11:44:56.664Z"
   },
   {
    "duration": 74,
    "start_time": "2022-04-02T11:45:13.052Z"
   },
   {
    "duration": 72,
    "start_time": "2022-04-02T11:45:29.908Z"
   },
   {
    "duration": 140,
    "start_time": "2022-04-02T11:45:51.192Z"
   },
   {
    "duration": 128,
    "start_time": "2022-04-02T11:46:06.240Z"
   },
   {
    "duration": 137,
    "start_time": "2022-04-02T11:46:10.265Z"
   },
   {
    "duration": 75,
    "start_time": "2022-04-02T11:46:13.226Z"
   },
   {
    "duration": 74,
    "start_time": "2022-04-02T11:46:24.280Z"
   },
   {
    "duration": 93,
    "start_time": "2022-04-02T11:46:44.421Z"
   },
   {
    "duration": 74,
    "start_time": "2022-04-02T11:46:58.444Z"
   },
   {
    "duration": 72,
    "start_time": "2022-04-02T11:49:12.812Z"
   },
   {
    "duration": 72,
    "start_time": "2022-04-02T11:49:36.866Z"
   },
   {
    "duration": 75,
    "start_time": "2022-04-02T11:49:40.795Z"
   },
   {
    "duration": 76,
    "start_time": "2022-04-02T11:51:44.617Z"
   },
   {
    "duration": 72,
    "start_time": "2022-04-02T11:54:26.622Z"
   },
   {
    "duration": 72,
    "start_time": "2022-04-02T11:54:28.395Z"
   },
   {
    "duration": 77,
    "start_time": "2022-04-02T11:54:40.361Z"
   },
   {
    "duration": 105,
    "start_time": "2022-04-02T11:56:19.780Z"
   },
   {
    "duration": 142,
    "start_time": "2022-04-02T11:57:15.057Z"
   },
   {
    "duration": 81,
    "start_time": "2022-04-02T11:57:26.293Z"
   },
   {
    "duration": 78,
    "start_time": "2022-04-02T11:57:36.319Z"
   },
   {
    "duration": 75,
    "start_time": "2022-04-02T11:59:07.239Z"
   },
   {
    "duration": 95,
    "start_time": "2022-04-02T11:59:45.486Z"
   },
   {
    "duration": 75,
    "start_time": "2022-04-02T11:59:50.569Z"
   },
   {
    "duration": 72,
    "start_time": "2022-04-02T12:02:11.970Z"
   },
   {
    "duration": 73,
    "start_time": "2022-04-02T12:02:53.439Z"
   },
   {
    "duration": 75,
    "start_time": "2022-04-02T12:02:59.572Z"
   },
   {
    "duration": 79,
    "start_time": "2022-04-02T12:03:10.628Z"
   },
   {
    "duration": 69,
    "start_time": "2022-04-02T12:03:16.259Z"
   },
   {
    "duration": 67,
    "start_time": "2022-04-02T12:03:25.799Z"
   },
   {
    "duration": 74,
    "start_time": "2022-04-02T12:03:36.888Z"
   },
   {
    "duration": 71,
    "start_time": "2022-04-02T12:03:53.898Z"
   },
   {
    "duration": 72,
    "start_time": "2022-04-02T12:04:05.355Z"
   },
   {
    "duration": 78,
    "start_time": "2022-04-02T12:04:11.548Z"
   },
   {
    "duration": 74,
    "start_time": "2022-04-02T12:04:38.274Z"
   },
   {
    "duration": 87,
    "start_time": "2022-04-02T12:04:46.022Z"
   },
   {
    "duration": 90,
    "start_time": "2022-04-02T12:05:02.048Z"
   },
   {
    "duration": 116,
    "start_time": "2022-04-02T12:05:04.813Z"
   },
   {
    "duration": 233,
    "start_time": "2022-04-02T12:09:05.525Z"
   },
   {
    "duration": 20,
    "start_time": "2022-04-02T12:13:14.708Z"
   },
   {
    "duration": 69,
    "start_time": "2022-04-02T12:13:39.680Z"
   },
   {
    "duration": 20,
    "start_time": "2022-04-02T12:13:43.970Z"
   },
   {
    "duration": 6,
    "start_time": "2022-04-02T13:52:12.530Z"
   },
   {
    "duration": 8,
    "start_time": "2022-04-02T13:52:25.732Z"
   },
   {
    "duration": 8,
    "start_time": "2022-04-02T13:56:13.905Z"
   },
   {
    "duration": 7,
    "start_time": "2022-04-02T14:59:35.533Z"
   },
   {
    "duration": 7,
    "start_time": "2022-04-02T14:59:57.622Z"
   },
   {
    "duration": 7,
    "start_time": "2022-04-02T15:00:05.168Z"
   },
   {
    "duration": 6,
    "start_time": "2022-04-02T15:00:19.780Z"
   },
   {
    "duration": 8,
    "start_time": "2022-04-02T15:00:33.412Z"
   },
   {
    "duration": 5,
    "start_time": "2022-04-02T15:14:23.543Z"
   },
   {
    "duration": 21,
    "start_time": "2022-04-02T15:16:48.918Z"
   },
   {
    "duration": 72,
    "start_time": "2022-04-02T15:59:23.184Z"
   },
   {
    "duration": 69,
    "start_time": "2022-04-02T15:59:25.095Z"
   },
   {
    "duration": 69,
    "start_time": "2022-04-02T15:59:31.401Z"
   },
   {
    "duration": 20,
    "start_time": "2022-04-02T15:59:31.472Z"
   },
   {
    "duration": 8,
    "start_time": "2022-04-02T15:59:31.494Z"
   },
   {
    "duration": 23,
    "start_time": "2022-04-02T15:59:31.505Z"
   },
   {
    "duration": 17,
    "start_time": "2022-04-02T15:59:31.530Z"
   },
   {
    "duration": 17,
    "start_time": "2022-04-02T15:59:31.549Z"
   },
   {
    "duration": 28,
    "start_time": "2022-04-02T15:59:31.568Z"
   },
   {
    "duration": 7,
    "start_time": "2022-04-02T15:59:57.961Z"
   },
   {
    "duration": 5,
    "start_time": "2022-04-02T16:00:09.900Z"
   },
   {
    "duration": 4,
    "start_time": "2022-04-02T16:00:33.130Z"
   },
   {
    "duration": 6,
    "start_time": "2022-04-02T16:01:02.918Z"
   },
   {
    "duration": 4,
    "start_time": "2022-04-02T16:01:07.802Z"
   },
   {
    "duration": 19,
    "start_time": "2022-04-02T16:01:09.998Z"
   },
   {
    "duration": 5,
    "start_time": "2022-04-02T16:37:05.053Z"
   },
   {
    "duration": 21,
    "start_time": "2022-04-02T16:38:06.669Z"
   },
   {
    "duration": 17,
    "start_time": "2022-04-02T16:39:36.363Z"
   },
   {
    "duration": 19,
    "start_time": "2022-04-02T16:40:37.448Z"
   },
   {
    "duration": 9,
    "start_time": "2022-04-02T16:50:22.197Z"
   },
   {
    "duration": 11,
    "start_time": "2022-04-02T16:50:43.890Z"
   },
   {
    "duration": 9,
    "start_time": "2022-04-02T16:50:47.233Z"
   },
   {
    "duration": 8,
    "start_time": "2022-04-02T16:51:31.377Z"
   },
   {
    "duration": 7,
    "start_time": "2022-04-02T16:51:36.475Z"
   },
   {
    "duration": 8,
    "start_time": "2022-04-02T16:52:17.349Z"
   },
   {
    "duration": 13,
    "start_time": "2022-04-02T16:53:07.057Z"
   },
   {
    "duration": 5,
    "start_time": "2022-04-02T16:55:14.518Z"
   },
   {
    "duration": 9,
    "start_time": "2022-04-02T16:55:27.851Z"
   },
   {
    "duration": 5,
    "start_time": "2022-04-02T16:55:35.987Z"
   },
   {
    "duration": 8,
    "start_time": "2022-04-02T16:55:41.229Z"
   },
   {
    "duration": 19,
    "start_time": "2022-04-02T16:56:07.454Z"
   },
   {
    "duration": 9,
    "start_time": "2022-04-02T16:56:28.259Z"
   },
   {
    "duration": 13,
    "start_time": "2022-04-02T16:56:44.166Z"
   },
   {
    "duration": 16,
    "start_time": "2022-04-02T16:56:47.081Z"
   },
   {
    "duration": 9,
    "start_time": "2022-04-02T16:59:29.862Z"
   },
   {
    "duration": 9,
    "start_time": "2022-04-02T17:07:27.503Z"
   },
   {
    "duration": 24,
    "start_time": "2022-04-02T17:14:41.445Z"
   },
   {
    "duration": 26,
    "start_time": "2022-04-02T17:15:25.847Z"
   },
   {
    "duration": 10,
    "start_time": "2022-04-02T17:17:49.276Z"
   },
   {
    "duration": 19,
    "start_time": "2022-04-02T17:18:59.341Z"
   },
   {
    "duration": 10,
    "start_time": "2022-04-02T17:29:17.180Z"
   },
   {
    "duration": 10,
    "start_time": "2022-04-02T17:31:44.340Z"
   },
   {
    "duration": 8,
    "start_time": "2022-04-02T19:03:39.836Z"
   },
   {
    "duration": 14,
    "start_time": "2022-04-02T19:04:08.515Z"
   },
   {
    "duration": 11,
    "start_time": "2022-04-02T19:04:11.514Z"
   },
   {
    "duration": 11,
    "start_time": "2022-04-02T19:04:16.601Z"
   },
   {
    "duration": 8,
    "start_time": "2022-04-02T19:04:23.512Z"
   },
   {
    "duration": 12,
    "start_time": "2022-04-02T19:08:08.949Z"
   },
   {
    "duration": 12,
    "start_time": "2022-04-02T19:08:14.346Z"
   },
   {
    "duration": 11,
    "start_time": "2022-04-02T19:08:17.582Z"
   },
   {
    "duration": 12,
    "start_time": "2022-04-02T19:08:20.443Z"
   },
   {
    "duration": 7,
    "start_time": "2022-04-02T19:08:25.188Z"
   },
   {
    "duration": 8,
    "start_time": "2022-04-02T19:08:54.379Z"
   },
   {
    "duration": 46,
    "start_time": "2022-04-02T23:18:46.808Z"
   },
   {
    "duration": 6,
    "start_time": "2022-04-02T23:19:01.242Z"
   },
   {
    "duration": 5,
    "start_time": "2022-04-02T23:19:08.128Z"
   },
   {
    "duration": 6,
    "start_time": "2022-04-02T23:19:18.774Z"
   },
   {
    "duration": 487,
    "start_time": "2022-04-02T23:19:23.691Z"
   },
   {
    "duration": 16,
    "start_time": "2022-04-02T23:19:24.181Z"
   },
   {
    "duration": 11,
    "start_time": "2022-04-02T23:19:24.199Z"
   },
   {
    "duration": 9,
    "start_time": "2022-04-02T23:19:24.212Z"
   },
   {
    "duration": 5,
    "start_time": "2022-04-02T23:19:24.223Z"
   },
   {
    "duration": 3,
    "start_time": "2022-04-02T23:19:24.230Z"
   },
   {
    "duration": 16,
    "start_time": "2022-04-02T23:19:24.235Z"
   },
   {
    "duration": 4,
    "start_time": "2022-04-02T23:19:24.253Z"
   },
   {
    "duration": 43,
    "start_time": "2022-04-02T23:19:24.258Z"
   },
   {
    "duration": 16,
    "start_time": "2022-04-02T23:19:24.303Z"
   },
   {
    "duration": 29,
    "start_time": "2022-04-02T23:19:24.320Z"
   },
   {
    "duration": 0,
    "start_time": "2022-04-02T23:19:24.351Z"
   },
   {
    "duration": 0,
    "start_time": "2022-04-02T23:19:24.352Z"
   },
   {
    "duration": 0,
    "start_time": "2022-04-02T23:19:24.353Z"
   },
   {
    "duration": 0,
    "start_time": "2022-04-02T23:19:24.354Z"
   },
   {
    "duration": 0,
    "start_time": "2022-04-02T23:19:24.355Z"
   },
   {
    "duration": 0,
    "start_time": "2022-04-02T23:19:24.356Z"
   },
   {
    "duration": 0,
    "start_time": "2022-04-02T23:19:24.357Z"
   },
   {
    "duration": 0,
    "start_time": "2022-04-02T23:19:24.358Z"
   },
   {
    "duration": 5,
    "start_time": "2022-04-02T23:19:35.459Z"
   },
   {
    "duration": 5,
    "start_time": "2022-04-02T23:19:38.115Z"
   },
   {
    "duration": 4,
    "start_time": "2022-04-02T23:19:46.636Z"
   },
   {
    "duration": 5,
    "start_time": "2022-04-02T23:19:53.374Z"
   },
   {
    "duration": 5,
    "start_time": "2022-04-02T23:20:04.229Z"
   },
   {
    "duration": 4,
    "start_time": "2022-04-02T23:20:33.001Z"
   },
   {
    "duration": 4,
    "start_time": "2022-04-02T23:21:01.414Z"
   },
   {
    "duration": 4,
    "start_time": "2022-04-02T23:21:03.391Z"
   },
   {
    "duration": 4,
    "start_time": "2022-04-02T23:21:06.988Z"
   },
   {
    "duration": 6,
    "start_time": "2022-04-02T23:21:20.962Z"
   },
   {
    "duration": 12,
    "start_time": "2022-04-02T23:22:16.715Z"
   },
   {
    "duration": 12,
    "start_time": "2022-04-02T23:22:26.134Z"
   },
   {
    "duration": 8,
    "start_time": "2022-04-02T23:23:24.881Z"
   },
   {
    "duration": 8,
    "start_time": "2022-04-02T23:23:28.254Z"
   },
   {
    "duration": 6,
    "start_time": "2022-04-02T23:23:33.494Z"
   },
   {
    "duration": 44,
    "start_time": "2022-04-03T11:12:33.463Z"
   },
   {
    "duration": 5,
    "start_time": "2022-04-03T11:12:45.941Z"
   },
   {
    "duration": 457,
    "start_time": "2022-04-03T11:12:48.942Z"
   },
   {
    "duration": 14,
    "start_time": "2022-04-03T11:12:49.401Z"
   },
   {
    "duration": 9,
    "start_time": "2022-04-03T11:12:49.417Z"
   },
   {
    "duration": 12,
    "start_time": "2022-04-03T11:12:49.427Z"
   },
   {
    "duration": 5,
    "start_time": "2022-04-03T11:12:49.441Z"
   },
   {
    "duration": 5,
    "start_time": "2022-04-03T11:12:49.447Z"
   },
   {
    "duration": 20,
    "start_time": "2022-04-03T11:12:49.453Z"
   },
   {
    "duration": 3,
    "start_time": "2022-04-03T11:12:49.475Z"
   },
   {
    "duration": 19,
    "start_time": "2022-04-03T11:12:49.480Z"
   },
   {
    "duration": 38,
    "start_time": "2022-04-03T11:12:49.501Z"
   },
   {
    "duration": 28,
    "start_time": "2022-04-03T11:12:49.540Z"
   },
   {
    "duration": 0,
    "start_time": "2022-04-03T11:12:49.571Z"
   },
   {
    "duration": 0,
    "start_time": "2022-04-03T11:12:49.572Z"
   },
   {
    "duration": 0,
    "start_time": "2022-04-03T11:12:49.573Z"
   },
   {
    "duration": 0,
    "start_time": "2022-04-03T11:12:49.574Z"
   },
   {
    "duration": 0,
    "start_time": "2022-04-03T11:12:49.575Z"
   },
   {
    "duration": 0,
    "start_time": "2022-04-03T11:12:49.576Z"
   },
   {
    "duration": 0,
    "start_time": "2022-04-03T11:12:49.576Z"
   },
   {
    "duration": 0,
    "start_time": "2022-04-03T11:12:49.577Z"
   },
   {
    "duration": 7,
    "start_time": "2022-04-03T11:12:54.445Z"
   },
   {
    "duration": 6,
    "start_time": "2022-04-03T11:12:57.741Z"
   },
   {
    "duration": 3,
    "start_time": "2022-04-03T11:12:59.959Z"
   },
   {
    "duration": 10,
    "start_time": "2022-04-03T11:14:26.833Z"
   },
   {
    "duration": 89,
    "start_time": "2022-04-03T11:16:53.507Z"
   },
   {
    "duration": 85,
    "start_time": "2022-04-03T11:17:53.849Z"
   },
   {
    "duration": 97,
    "start_time": "2022-04-03T11:19:07.485Z"
   },
   {
    "duration": 92,
    "start_time": "2022-04-03T11:19:19.394Z"
   },
   {
    "duration": 88,
    "start_time": "2022-04-03T11:19:36.347Z"
   },
   {
    "duration": 92,
    "start_time": "2022-04-03T11:19:55.933Z"
   },
   {
    "duration": 91,
    "start_time": "2022-04-03T11:19:57.667Z"
   },
   {
    "duration": 91,
    "start_time": "2022-04-03T11:19:59.122Z"
   },
   {
    "duration": 7,
    "start_time": "2022-04-03T11:48:27.099Z"
   },
   {
    "duration": 20,
    "start_time": "2022-04-03T13:29:44.764Z"
   },
   {
    "duration": 15,
    "start_time": "2022-04-03T13:29:47.555Z"
   },
   {
    "duration": 6,
    "start_time": "2022-04-03T13:39:48.616Z"
   },
   {
    "duration": 10,
    "start_time": "2022-04-03T13:39:56.953Z"
   },
   {
    "duration": 5,
    "start_time": "2022-04-03T13:39:59.754Z"
   },
   {
    "duration": 4,
    "start_time": "2022-04-03T13:40:27.944Z"
   },
   {
    "duration": 13,
    "start_time": "2022-04-03T13:41:01.669Z"
   },
   {
    "duration": 6,
    "start_time": "2022-04-03T13:41:40.201Z"
   },
   {
    "duration": 8,
    "start_time": "2022-04-03T13:41:57.381Z"
   },
   {
    "duration": 15,
    "start_time": "2022-04-03T13:42:25.471Z"
   },
   {
    "duration": 5,
    "start_time": "2022-04-03T13:42:43.540Z"
   },
   {
    "duration": 21,
    "start_time": "2022-04-03T13:49:51.593Z"
   },
   {
    "duration": 7,
    "start_time": "2022-04-03T13:51:28.872Z"
   },
   {
    "duration": 22,
    "start_time": "2022-04-03T13:51:36.560Z"
   },
   {
    "duration": 22,
    "start_time": "2022-04-03T13:54:33.000Z"
   },
   {
    "duration": 75,
    "start_time": "2022-04-03T13:55:16.618Z"
   },
   {
    "duration": 93,
    "start_time": "2022-04-03T13:55:23.663Z"
   },
   {
    "duration": 10,
    "start_time": "2022-04-03T13:55:35.089Z"
   },
   {
    "duration": 9,
    "start_time": "2022-04-03T13:55:58.424Z"
   },
   {
    "duration": 4439,
    "start_time": "2022-04-03T14:02:04.005Z"
   },
   {
    "duration": 42,
    "start_time": "2022-04-03T14:02:26.307Z"
   },
   {
    "duration": 8,
    "start_time": "2022-04-03T14:02:35.524Z"
   },
   {
    "duration": 7,
    "start_time": "2022-04-03T14:02:57.887Z"
   },
   {
    "duration": 81,
    "start_time": "2022-04-03T14:05:12.457Z"
   },
   {
    "duration": 8,
    "start_time": "2022-04-03T14:05:22.981Z"
   },
   {
    "duration": 10,
    "start_time": "2022-04-03T14:05:59.134Z"
   },
   {
    "duration": 8,
    "start_time": "2022-04-03T14:06:44.974Z"
   },
   {
    "duration": 6,
    "start_time": "2022-04-03T14:07:20.073Z"
   },
   {
    "duration": 7,
    "start_time": "2022-04-03T14:07:31.926Z"
   },
   {
    "duration": 15,
    "start_time": "2022-04-03T14:07:44.793Z"
   },
   {
    "duration": 7,
    "start_time": "2022-04-03T14:07:52.627Z"
   },
   {
    "duration": 12,
    "start_time": "2022-04-03T14:09:49.333Z"
   },
   {
    "duration": 5,
    "start_time": "2022-04-03T14:11:21.590Z"
   },
   {
    "duration": 12,
    "start_time": "2022-04-03T14:12:03.044Z"
   },
   {
    "duration": 60,
    "start_time": "2022-04-03T14:13:02.801Z"
   },
   {
    "duration": 16,
    "start_time": "2022-04-03T14:13:02.863Z"
   },
   {
    "duration": 10,
    "start_time": "2022-04-03T14:13:02.881Z"
   },
   {
    "duration": 11,
    "start_time": "2022-04-03T14:13:02.893Z"
   },
   {
    "duration": 10,
    "start_time": "2022-04-03T14:13:02.905Z"
   },
   {
    "duration": 6,
    "start_time": "2022-04-03T14:13:02.917Z"
   },
   {
    "duration": 27,
    "start_time": "2022-04-03T14:13:02.937Z"
   },
   {
    "duration": 7,
    "start_time": "2022-04-03T14:13:02.966Z"
   },
   {
    "duration": 16,
    "start_time": "2022-04-03T14:13:02.975Z"
   },
   {
    "duration": 0,
    "start_time": "2022-04-03T14:13:02.993Z"
   },
   {
    "duration": 0,
    "start_time": "2022-04-03T14:13:02.994Z"
   },
   {
    "duration": 0,
    "start_time": "2022-04-03T14:13:02.995Z"
   },
   {
    "duration": 0,
    "start_time": "2022-04-03T14:13:02.996Z"
   },
   {
    "duration": 0,
    "start_time": "2022-04-03T14:13:02.997Z"
   },
   {
    "duration": 0,
    "start_time": "2022-04-03T14:13:02.998Z"
   },
   {
    "duration": 0,
    "start_time": "2022-04-03T14:13:02.999Z"
   },
   {
    "duration": 0,
    "start_time": "2022-04-03T14:13:03.000Z"
   },
   {
    "duration": 0,
    "start_time": "2022-04-03T14:13:03.001Z"
   },
   {
    "duration": 0,
    "start_time": "2022-04-03T14:13:03.038Z"
   },
   {
    "duration": 0,
    "start_time": "2022-04-03T14:13:03.039Z"
   },
   {
    "duration": 0,
    "start_time": "2022-04-03T14:13:03.040Z"
   },
   {
    "duration": 7,
    "start_time": "2022-04-03T14:14:19.970Z"
   },
   {
    "duration": 4,
    "start_time": "2022-04-03T14:14:30.488Z"
   },
   {
    "duration": 12,
    "start_time": "2022-04-03T14:14:40.915Z"
   },
   {
    "duration": 15,
    "start_time": "2022-04-03T14:14:58.160Z"
   },
   {
    "duration": 10,
    "start_time": "2022-04-03T14:22:10.206Z"
   },
   {
    "duration": 20,
    "start_time": "2022-04-03T14:22:16.944Z"
   },
   {
    "duration": 5,
    "start_time": "2022-04-03T14:23:09.308Z"
   },
   {
    "duration": 4,
    "start_time": "2022-04-03T14:23:31.179Z"
   },
   {
    "duration": 7,
    "start_time": "2022-04-03T14:23:40.043Z"
   },
   {
    "duration": 5,
    "start_time": "2022-04-03T14:23:47.282Z"
   },
   {
    "duration": 5,
    "start_time": "2022-04-03T14:23:58.661Z"
   },
   {
    "duration": 8,
    "start_time": "2022-04-03T14:27:24.297Z"
   },
   {
    "duration": 8,
    "start_time": "2022-04-03T14:27:48.769Z"
   },
   {
    "duration": 6,
    "start_time": "2022-04-03T14:27:59.306Z"
   },
   {
    "duration": 5,
    "start_time": "2022-04-03T14:29:53.420Z"
   },
   {
    "duration": 4,
    "start_time": "2022-04-03T14:34:38.692Z"
   },
   {
    "duration": 12,
    "start_time": "2022-04-03T14:35:10.722Z"
   },
   {
    "duration": 4,
    "start_time": "2022-04-03T14:36:03.813Z"
   },
   {
    "duration": 3,
    "start_time": "2022-04-03T14:36:15.441Z"
   },
   {
    "duration": 3,
    "start_time": "2022-04-03T14:36:19.735Z"
   },
   {
    "duration": 4,
    "start_time": "2022-04-03T14:36:24.626Z"
   },
   {
    "duration": 12,
    "start_time": "2022-04-03T14:37:07.682Z"
   },
   {
    "duration": 18,
    "start_time": "2022-04-03T14:38:09.340Z"
   },
   {
    "duration": 58,
    "start_time": "2022-04-03T14:38:25.194Z"
   },
   {
    "duration": 16,
    "start_time": "2022-04-03T14:38:25.254Z"
   },
   {
    "duration": 6,
    "start_time": "2022-04-03T14:38:25.272Z"
   },
   {
    "duration": 5,
    "start_time": "2022-04-03T14:38:25.280Z"
   },
   {
    "duration": 6,
    "start_time": "2022-04-03T14:38:25.287Z"
   },
   {
    "duration": 6,
    "start_time": "2022-04-03T14:38:25.294Z"
   },
   {
    "duration": 44,
    "start_time": "2022-04-03T14:38:25.302Z"
   },
   {
    "duration": 5,
    "start_time": "2022-04-03T14:38:25.347Z"
   },
   {
    "duration": 19,
    "start_time": "2022-04-03T14:38:25.354Z"
   },
   {
    "duration": 14,
    "start_time": "2022-04-03T14:38:25.376Z"
   },
   {
    "duration": 10,
    "start_time": "2022-04-03T14:38:25.392Z"
   },
   {
    "duration": 0,
    "start_time": "2022-04-03T14:38:25.404Z"
   },
   {
    "duration": 0,
    "start_time": "2022-04-03T14:38:25.405Z"
   },
   {
    "duration": 0,
    "start_time": "2022-04-03T14:38:25.406Z"
   },
   {
    "duration": 0,
    "start_time": "2022-04-03T14:38:25.408Z"
   },
   {
    "duration": 0,
    "start_time": "2022-04-03T14:38:25.409Z"
   },
   {
    "duration": 0,
    "start_time": "2022-04-03T14:38:25.438Z"
   },
   {
    "duration": 0,
    "start_time": "2022-04-03T14:38:25.440Z"
   },
   {
    "duration": 0,
    "start_time": "2022-04-03T14:38:25.441Z"
   },
   {
    "duration": 19,
    "start_time": "2022-04-03T14:39:12.550Z"
   },
   {
    "duration": 6,
    "start_time": "2022-04-03T14:39:20.242Z"
   },
   {
    "duration": 8,
    "start_time": "2022-04-03T14:39:28.348Z"
   },
   {
    "duration": 8,
    "start_time": "2022-04-03T14:39:33.024Z"
   },
   {
    "duration": 8,
    "start_time": "2022-04-03T14:39:37.797Z"
   },
   {
    "duration": 6,
    "start_time": "2022-04-03T14:40:37.631Z"
   },
   {
    "duration": 624,
    "start_time": "2022-04-03T18:54:25.301Z"
   },
   {
    "duration": 22,
    "start_time": "2022-04-03T18:54:25.928Z"
   },
   {
    "duration": 29,
    "start_time": "2022-04-03T18:54:25.952Z"
   },
   {
    "duration": 6,
    "start_time": "2022-04-03T18:54:25.984Z"
   },
   {
    "duration": 22,
    "start_time": "2022-04-03T18:54:25.993Z"
   },
   {
    "duration": 7,
    "start_time": "2022-04-03T18:54:26.017Z"
   },
   {
    "duration": 56,
    "start_time": "2022-04-03T18:54:26.026Z"
   },
   {
    "duration": 143,
    "start_time": "2022-04-03T18:54:26.084Z"
   },
   {
    "duration": 0,
    "start_time": "2022-04-03T18:54:26.229Z"
   },
   {
    "duration": 0,
    "start_time": "2022-04-03T18:54:26.231Z"
   },
   {
    "duration": 0,
    "start_time": "2022-04-03T18:54:26.232Z"
   },
   {
    "duration": 0,
    "start_time": "2022-04-03T18:54:26.234Z"
   },
   {
    "duration": 0,
    "start_time": "2022-04-03T18:54:26.235Z"
   },
   {
    "duration": 0,
    "start_time": "2022-04-03T18:54:26.237Z"
   },
   {
    "duration": 0,
    "start_time": "2022-04-03T18:54:26.239Z"
   },
   {
    "duration": 0,
    "start_time": "2022-04-03T18:54:26.241Z"
   },
   {
    "duration": 0,
    "start_time": "2022-04-03T18:54:26.242Z"
   },
   {
    "duration": 0,
    "start_time": "2022-04-03T18:54:26.244Z"
   },
   {
    "duration": 0,
    "start_time": "2022-04-03T18:54:26.245Z"
   },
   {
    "duration": 0,
    "start_time": "2022-04-03T18:54:26.247Z"
   },
   {
    "duration": 127,
    "start_time": "2022-04-03T18:54:38.384Z"
   },
   {
    "duration": 12,
    "start_time": "2022-04-03T18:54:43.427Z"
   },
   {
    "duration": 7,
    "start_time": "2022-04-03T18:54:53.172Z"
   },
   {
    "duration": 5,
    "start_time": "2022-04-03T18:58:45.679Z"
   },
   {
    "duration": 6,
    "start_time": "2022-04-03T18:58:57.273Z"
   },
   {
    "duration": 7,
    "start_time": "2022-04-03T18:59:15.708Z"
   },
   {
    "duration": 18,
    "start_time": "2022-04-03T18:59:40.059Z"
   },
   {
    "duration": 7,
    "start_time": "2022-04-03T19:00:34.982Z"
   },
   {
    "duration": 100,
    "start_time": "2022-04-03T19:01:50.772Z"
   },
   {
    "duration": 67,
    "start_time": "2022-04-03T19:01:54.957Z"
   },
   {
    "duration": 19,
    "start_time": "2022-04-03T19:01:55.028Z"
   },
   {
    "duration": 24,
    "start_time": "2022-04-03T19:01:55.049Z"
   },
   {
    "duration": 7,
    "start_time": "2022-04-03T19:01:55.075Z"
   },
   {
    "duration": 13,
    "start_time": "2022-04-03T19:01:55.087Z"
   },
   {
    "duration": 8,
    "start_time": "2022-04-03T19:01:55.103Z"
   },
   {
    "duration": 76,
    "start_time": "2022-04-03T19:01:55.114Z"
   },
   {
    "duration": 7,
    "start_time": "2022-04-03T19:01:55.192Z"
   },
   {
    "duration": 14,
    "start_time": "2022-04-03T19:01:55.201Z"
   },
   {
    "duration": 0,
    "start_time": "2022-04-03T19:01:55.218Z"
   },
   {
    "duration": 0,
    "start_time": "2022-04-03T19:01:55.219Z"
   },
   {
    "duration": 0,
    "start_time": "2022-04-03T19:01:55.221Z"
   },
   {
    "duration": 0,
    "start_time": "2022-04-03T19:01:55.223Z"
   },
   {
    "duration": 0,
    "start_time": "2022-04-03T19:01:55.224Z"
   },
   {
    "duration": 0,
    "start_time": "2022-04-03T19:01:55.225Z"
   },
   {
    "duration": 0,
    "start_time": "2022-04-03T19:01:55.227Z"
   },
   {
    "duration": 0,
    "start_time": "2022-04-03T19:01:55.228Z"
   },
   {
    "duration": 0,
    "start_time": "2022-04-03T19:01:55.229Z"
   },
   {
    "duration": 1,
    "start_time": "2022-04-03T19:01:55.230Z"
   },
   {
    "duration": 0,
    "start_time": "2022-04-03T19:01:55.268Z"
   },
   {
    "duration": 0,
    "start_time": "2022-04-03T19:01:55.269Z"
   },
   {
    "duration": 62,
    "start_time": "2022-04-03T19:02:09.532Z"
   },
   {
    "duration": 21,
    "start_time": "2022-04-03T19:02:11.613Z"
   },
   {
    "duration": 7,
    "start_time": "2022-04-03T19:02:13.576Z"
   },
   {
    "duration": 7,
    "start_time": "2022-04-03T19:02:15.159Z"
   },
   {
    "duration": 7,
    "start_time": "2022-04-03T19:02:16.869Z"
   },
   {
    "duration": 5,
    "start_time": "2022-04-03T19:02:18.730Z"
   },
   {
    "duration": 20,
    "start_time": "2022-04-03T19:02:21.153Z"
   },
   {
    "duration": 7,
    "start_time": "2022-04-03T19:02:23.888Z"
   },
   {
    "duration": 11,
    "start_time": "2022-04-03T19:02:26.343Z"
   },
   {
    "duration": 11,
    "start_time": "2022-04-03T19:02:48.682Z"
   },
   {
    "duration": 14,
    "start_time": "2022-04-03T19:04:43.118Z"
   },
   {
    "duration": 7,
    "start_time": "2022-04-03T19:05:34.856Z"
   },
   {
    "duration": 15,
    "start_time": "2022-04-03T19:05:37.581Z"
   },
   {
    "duration": 11,
    "start_time": "2022-04-03T19:05:52.568Z"
   },
   {
    "duration": 15,
    "start_time": "2022-04-03T19:05:55.798Z"
   },
   {
    "duration": 17,
    "start_time": "2022-04-03T19:05:58.497Z"
   },
   {
    "duration": 13,
    "start_time": "2022-04-03T19:06:00.921Z"
   },
   {
    "duration": 63,
    "start_time": "2022-04-03T19:06:04.318Z"
   },
   {
    "duration": 20,
    "start_time": "2022-04-03T19:06:06.183Z"
   },
   {
    "duration": 8,
    "start_time": "2022-04-03T19:06:08.208Z"
   },
   {
    "duration": 7,
    "start_time": "2022-04-03T19:06:10.023Z"
   },
   {
    "duration": 7,
    "start_time": "2022-04-03T19:06:11.806Z"
   },
   {
    "duration": 4,
    "start_time": "2022-04-03T19:06:13.973Z"
   },
   {
    "duration": 26,
    "start_time": "2022-04-03T19:06:16.074Z"
   },
   {
    "duration": 18,
    "start_time": "2022-04-03T19:06:23.957Z"
   },
   {
    "duration": 20,
    "start_time": "2022-04-03T19:06:35.367Z"
   },
   {
    "duration": 18,
    "start_time": "2022-04-03T19:07:04.131Z"
   },
   {
    "duration": 121,
    "start_time": "2022-04-03T19:07:53.367Z"
   },
   {
    "duration": 156,
    "start_time": "2022-04-03T19:08:00.977Z"
   },
   {
    "duration": 5,
    "start_time": "2022-04-03T19:08:08.520Z"
   },
   {
    "duration": 120,
    "start_time": "2022-04-03T19:08:27.051Z"
   },
   {
    "duration": 5,
    "start_time": "2022-04-03T19:08:34.308Z"
   },
   {
    "duration": 9,
    "start_time": "2022-04-03T19:08:39.856Z"
   },
   {
    "duration": 5,
    "start_time": "2022-04-03T19:09:08.488Z"
   },
   {
    "duration": 9,
    "start_time": "2022-04-03T19:09:13.490Z"
   },
   {
    "duration": 9,
    "start_time": "2022-04-03T19:09:21.621Z"
   },
   {
    "duration": 8,
    "start_time": "2022-04-03T19:09:28.157Z"
   },
   {
    "duration": 20,
    "start_time": "2022-04-03T19:09:31.349Z"
   },
   {
    "duration": 5,
    "start_time": "2022-04-03T19:09:45.847Z"
   },
   {
    "duration": 5,
    "start_time": "2022-04-03T19:09:48.912Z"
   },
   {
    "duration": 69,
    "start_time": "2022-04-03T19:09:52.600Z"
   },
   {
    "duration": 21,
    "start_time": "2022-04-03T19:09:53.111Z"
   },
   {
    "duration": 8,
    "start_time": "2022-04-03T19:09:53.472Z"
   },
   {
    "duration": 6,
    "start_time": "2022-04-03T19:09:54.127Z"
   },
   {
    "duration": 7,
    "start_time": "2022-04-03T19:09:54.998Z"
   },
   {
    "duration": 5,
    "start_time": "2022-04-03T19:09:57.716Z"
   },
   {
    "duration": 21,
    "start_time": "2022-04-03T19:09:59.436Z"
   },
   {
    "duration": 20,
    "start_time": "2022-04-03T19:10:07.651Z"
   },
   {
    "duration": 10,
    "start_time": "2022-04-03T19:10:16.311Z"
   },
   {
    "duration": 7,
    "start_time": "2022-04-03T19:10:22.659Z"
   },
   {
    "duration": 18,
    "start_time": "2022-04-03T19:10:40.288Z"
   },
   {
    "duration": 7,
    "start_time": "2022-04-03T19:11:10.699Z"
   },
   {
    "duration": 25,
    "start_time": "2022-04-03T19:11:17.959Z"
   },
   {
    "duration": 33,
    "start_time": "2022-04-03T19:11:23.914Z"
   },
   {
    "duration": 6,
    "start_time": "2022-04-03T19:12:48.433Z"
   },
   {
    "duration": 9,
    "start_time": "2022-04-03T19:12:51.605Z"
   },
   {
    "duration": 21,
    "start_time": "2022-04-03T19:13:00.980Z"
   },
   {
    "duration": 40,
    "start_time": "2022-04-03T19:13:38.096Z"
   },
   {
    "duration": 32,
    "start_time": "2022-04-03T19:13:45.877Z"
   },
   {
    "duration": 27,
    "start_time": "2022-04-03T19:14:02.358Z"
   },
   {
    "duration": 421,
    "start_time": "2022-04-04T12:11:22.762Z"
   },
   {
    "duration": 15,
    "start_time": "2022-04-04T12:11:23.185Z"
   },
   {
    "duration": 10,
    "start_time": "2022-04-04T12:11:23.201Z"
   },
   {
    "duration": 4,
    "start_time": "2022-04-04T12:11:23.212Z"
   },
   {
    "duration": 6,
    "start_time": "2022-04-04T12:11:23.218Z"
   },
   {
    "duration": 5,
    "start_time": "2022-04-04T12:11:23.226Z"
   },
   {
    "duration": 20,
    "start_time": "2022-04-04T12:11:23.232Z"
   },
   {
    "duration": 13,
    "start_time": "2022-04-04T12:11:23.253Z"
   },
   {
    "duration": 4,
    "start_time": "2022-04-04T12:11:23.267Z"
   },
   {
    "duration": 45,
    "start_time": "2022-04-04T12:11:23.272Z"
   },
   {
    "duration": 16,
    "start_time": "2022-04-04T12:11:23.319Z"
   },
   {
    "duration": 78,
    "start_time": "2022-04-04T12:11:23.337Z"
   },
   {
    "duration": 0,
    "start_time": "2022-04-04T12:11:23.417Z"
   },
   {
    "duration": 0,
    "start_time": "2022-04-04T12:11:23.418Z"
   },
   {
    "duration": 0,
    "start_time": "2022-04-04T12:11:23.419Z"
   },
   {
    "duration": 0,
    "start_time": "2022-04-04T12:11:23.420Z"
   },
   {
    "duration": 0,
    "start_time": "2022-04-04T12:11:23.421Z"
   },
   {
    "duration": 0,
    "start_time": "2022-04-04T12:11:23.422Z"
   },
   {
    "duration": 0,
    "start_time": "2022-04-04T12:11:23.423Z"
   },
   {
    "duration": 0,
    "start_time": "2022-04-04T12:11:23.424Z"
   },
   {
    "duration": 14,
    "start_time": "2022-04-04T12:12:14.723Z"
   },
   {
    "duration": 5,
    "start_time": "2022-04-04T12:14:05.994Z"
   },
   {
    "duration": 5,
    "start_time": "2022-04-04T12:14:12.003Z"
   },
   {
    "duration": 4,
    "start_time": "2022-04-04T12:14:25.278Z"
   },
   {
    "duration": 5,
    "start_time": "2022-04-04T12:14:30.411Z"
   },
   {
    "duration": 56,
    "start_time": "2022-04-04T12:15:14.713Z"
   },
   {
    "duration": 16,
    "start_time": "2022-04-04T12:15:14.771Z"
   },
   {
    "duration": 25,
    "start_time": "2022-04-04T12:15:14.788Z"
   },
   {
    "duration": 6,
    "start_time": "2022-04-04T12:15:14.814Z"
   },
   {
    "duration": 6,
    "start_time": "2022-04-04T12:15:14.823Z"
   },
   {
    "duration": 3,
    "start_time": "2022-04-04T12:15:14.831Z"
   },
   {
    "duration": 17,
    "start_time": "2022-04-04T12:15:14.836Z"
   },
   {
    "duration": 14,
    "start_time": "2022-04-04T12:15:14.855Z"
   },
   {
    "duration": 40,
    "start_time": "2022-04-04T12:15:14.870Z"
   },
   {
    "duration": 15,
    "start_time": "2022-04-04T12:15:14.911Z"
   },
   {
    "duration": 13,
    "start_time": "2022-04-04T12:15:14.927Z"
   },
   {
    "duration": 16,
    "start_time": "2022-04-04T12:15:14.942Z"
   },
   {
    "duration": 0,
    "start_time": "2022-04-04T12:15:14.960Z"
   },
   {
    "duration": 0,
    "start_time": "2022-04-04T12:15:14.961Z"
   },
   {
    "duration": 0,
    "start_time": "2022-04-04T12:15:14.962Z"
   },
   {
    "duration": 0,
    "start_time": "2022-04-04T12:15:14.964Z"
   },
   {
    "duration": 0,
    "start_time": "2022-04-04T12:15:14.966Z"
   },
   {
    "duration": 0,
    "start_time": "2022-04-04T12:15:14.967Z"
   },
   {
    "duration": 0,
    "start_time": "2022-04-04T12:15:14.968Z"
   },
   {
    "duration": 0,
    "start_time": "2022-04-04T12:15:14.970Z"
   },
   {
    "duration": 115,
    "start_time": "2022-04-04T12:17:27.139Z"
   },
   {
    "duration": 110,
    "start_time": "2022-04-04T12:17:30.208Z"
   },
   {
    "duration": 14,
    "start_time": "2022-04-04T12:17:37.795Z"
   },
   {
    "duration": 56,
    "start_time": "2022-04-04T12:18:07.797Z"
   },
   {
    "duration": 53,
    "start_time": "2022-04-04T12:18:12.134Z"
   },
   {
    "duration": 14,
    "start_time": "2022-04-04T12:18:13.620Z"
   },
   {
    "duration": 5,
    "start_time": "2022-04-04T12:18:14.945Z"
   },
   {
    "duration": 4,
    "start_time": "2022-04-04T12:18:16.343Z"
   },
   {
    "duration": 5,
    "start_time": "2022-04-04T12:18:17.545Z"
   },
   {
    "duration": 4,
    "start_time": "2022-04-04T12:18:18.070Z"
   },
   {
    "duration": 14,
    "start_time": "2022-04-04T12:18:18.503Z"
   },
   {
    "duration": 9,
    "start_time": "2022-04-04T12:18:21.146Z"
   },
   {
    "duration": 5,
    "start_time": "2022-04-04T12:19:48.715Z"
   },
   {
    "duration": 6,
    "start_time": "2022-04-04T12:19:56.739Z"
   },
   {
    "duration": 4,
    "start_time": "2022-04-04T12:20:50.434Z"
   },
   {
    "duration": 7,
    "start_time": "2022-04-04T12:21:05.610Z"
   },
   {
    "duration": 3,
    "start_time": "2022-04-04T12:21:15.997Z"
   },
   {
    "duration": 5,
    "start_time": "2022-04-04T12:21:26.042Z"
   },
   {
    "duration": 4,
    "start_time": "2022-04-04T12:22:14.083Z"
   },
   {
    "duration": 6,
    "start_time": "2022-04-04T12:22:20.731Z"
   },
   {
    "duration": 11,
    "start_time": "2022-04-04T12:22:33.377Z"
   },
   {
    "duration": 13,
    "start_time": "2022-04-04T12:22:52.058Z"
   },
   {
    "duration": 3,
    "start_time": "2022-04-04T12:24:21.850Z"
   },
   {
    "duration": 5,
    "start_time": "2022-04-04T12:24:24.202Z"
   },
   {
    "duration": 3,
    "start_time": "2022-04-04T12:24:32.377Z"
   },
   {
    "duration": 5,
    "start_time": "2022-04-04T12:24:33.453Z"
   },
   {
    "duration": 5,
    "start_time": "2022-04-04T12:24:38.945Z"
   },
   {
    "duration": 5,
    "start_time": "2022-04-04T12:24:42.256Z"
   },
   {
    "duration": 59,
    "start_time": "2022-04-04T12:24:44.436Z"
   },
   {
    "duration": 18,
    "start_time": "2022-04-04T12:24:44.497Z"
   },
   {
    "duration": 6,
    "start_time": "2022-04-04T12:24:44.517Z"
   },
   {
    "duration": 5,
    "start_time": "2022-04-04T12:24:44.526Z"
   },
   {
    "duration": 6,
    "start_time": "2022-04-04T12:24:44.533Z"
   },
   {
    "duration": 4,
    "start_time": "2022-04-04T12:24:44.541Z"
   },
   {
    "duration": 17,
    "start_time": "2022-04-04T12:24:44.547Z"
   },
   {
    "duration": 5,
    "start_time": "2022-04-04T12:24:44.566Z"
   },
   {
    "duration": 37,
    "start_time": "2022-04-04T12:24:44.573Z"
   },
   {
    "duration": 6,
    "start_time": "2022-04-04T12:24:44.613Z"
   },
   {
    "duration": 5,
    "start_time": "2022-04-04T12:24:44.621Z"
   },
   {
    "duration": 23,
    "start_time": "2022-04-04T12:24:44.628Z"
   },
   {
    "duration": 15,
    "start_time": "2022-04-04T12:24:44.652Z"
   },
   {
    "duration": 9,
    "start_time": "2022-04-04T12:24:44.669Z"
   },
   {
    "duration": 0,
    "start_time": "2022-04-04T12:24:44.679Z"
   },
   {
    "duration": 0,
    "start_time": "2022-04-04T12:24:44.709Z"
   },
   {
    "duration": 0,
    "start_time": "2022-04-04T12:24:44.710Z"
   },
   {
    "duration": 0,
    "start_time": "2022-04-04T12:24:44.712Z"
   },
   {
    "duration": 0,
    "start_time": "2022-04-04T12:24:44.713Z"
   },
   {
    "duration": 0,
    "start_time": "2022-04-04T12:24:44.714Z"
   },
   {
    "duration": 0,
    "start_time": "2022-04-04T12:24:44.715Z"
   },
   {
    "duration": 0,
    "start_time": "2022-04-04T12:24:44.716Z"
   },
   {
    "duration": 5,
    "start_time": "2022-04-04T12:26:01.297Z"
   },
   {
    "duration": 131,
    "start_time": "2022-04-04T12:27:15.073Z"
   },
   {
    "duration": 2,
    "start_time": "2022-04-04T12:27:17.785Z"
   },
   {
    "duration": 4,
    "start_time": "2022-04-04T12:40:07.931Z"
   },
   {
    "duration": 4,
    "start_time": "2022-04-04T12:40:09.990Z"
   },
   {
    "duration": 6,
    "start_time": "2022-04-04T12:40:13.855Z"
   },
   {
    "duration": 6,
    "start_time": "2022-04-04T12:40:32.422Z"
   },
   {
    "duration": 6,
    "start_time": "2022-04-04T12:43:40.732Z"
   },
   {
    "duration": 21,
    "start_time": "2022-04-04T12:44:12.116Z"
   },
   {
    "duration": 6,
    "start_time": "2022-04-04T12:44:23.266Z"
   },
   {
    "duration": 6,
    "start_time": "2022-04-04T12:44:32.565Z"
   },
   {
    "duration": 7,
    "start_time": "2022-04-04T12:44:37.229Z"
   },
   {
    "duration": 5,
    "start_time": "2022-04-04T12:44:48.030Z"
   },
   {
    "duration": 53,
    "start_time": "2022-04-04T12:44:54.148Z"
   },
   {
    "duration": 13,
    "start_time": "2022-04-04T12:44:54.203Z"
   },
   {
    "duration": 5,
    "start_time": "2022-04-04T12:44:54.217Z"
   },
   {
    "duration": 4,
    "start_time": "2022-04-04T12:44:54.224Z"
   },
   {
    "duration": 5,
    "start_time": "2022-04-04T12:44:54.231Z"
   },
   {
    "duration": 3,
    "start_time": "2022-04-04T12:44:54.238Z"
   },
   {
    "duration": 16,
    "start_time": "2022-04-04T12:44:54.242Z"
   },
   {
    "duration": 4,
    "start_time": "2022-04-04T12:44:54.259Z"
   },
   {
    "duration": 8,
    "start_time": "2022-04-04T12:44:54.265Z"
   },
   {
    "duration": 35,
    "start_time": "2022-04-04T12:44:54.274Z"
   },
   {
    "duration": 10,
    "start_time": "2022-04-04T12:44:54.311Z"
   },
   {
    "duration": 27,
    "start_time": "2022-04-04T12:44:54.323Z"
   },
   {
    "duration": 15,
    "start_time": "2022-04-04T12:44:54.351Z"
   },
   {
    "duration": 18,
    "start_time": "2022-04-04T12:44:54.368Z"
   },
   {
    "duration": 0,
    "start_time": "2022-04-04T12:44:54.388Z"
   },
   {
    "duration": 0,
    "start_time": "2022-04-04T12:44:54.389Z"
   },
   {
    "duration": 0,
    "start_time": "2022-04-04T12:44:54.390Z"
   },
   {
    "duration": 0,
    "start_time": "2022-04-04T12:44:54.391Z"
   },
   {
    "duration": 0,
    "start_time": "2022-04-04T12:44:54.392Z"
   },
   {
    "duration": 0,
    "start_time": "2022-04-04T12:44:54.394Z"
   },
   {
    "duration": 0,
    "start_time": "2022-04-04T12:44:54.395Z"
   },
   {
    "duration": 0,
    "start_time": "2022-04-04T12:44:54.396Z"
   },
   {
    "duration": 10,
    "start_time": "2022-04-04T12:45:29.749Z"
   },
   {
    "duration": 8,
    "start_time": "2022-04-04T12:45:33.845Z"
   },
   {
    "duration": 6,
    "start_time": "2022-04-04T12:46:51.932Z"
   },
   {
    "duration": 5,
    "start_time": "2022-04-04T12:46:59.193Z"
   },
   {
    "duration": 5,
    "start_time": "2022-04-04T12:47:25.900Z"
   },
   {
    "duration": 5,
    "start_time": "2022-04-04T12:47:28.076Z"
   },
   {
    "duration": 5,
    "start_time": "2022-04-04T12:47:30.036Z"
   },
   {
    "duration": 5,
    "start_time": "2022-04-04T12:47:30.707Z"
   },
   {
    "duration": 5,
    "start_time": "2022-04-04T12:47:31.084Z"
   },
   {
    "duration": 5,
    "start_time": "2022-04-04T12:47:40.428Z"
   },
   {
    "duration": 52,
    "start_time": "2022-04-04T12:47:43.354Z"
   },
   {
    "duration": 14,
    "start_time": "2022-04-04T12:47:43.408Z"
   },
   {
    "duration": 5,
    "start_time": "2022-04-04T12:47:43.423Z"
   },
   {
    "duration": 4,
    "start_time": "2022-04-04T12:47:43.429Z"
   },
   {
    "duration": 5,
    "start_time": "2022-04-04T12:47:43.435Z"
   },
   {
    "duration": 2,
    "start_time": "2022-04-04T12:47:43.442Z"
   },
   {
    "duration": 16,
    "start_time": "2022-04-04T12:47:43.446Z"
   },
   {
    "duration": 4,
    "start_time": "2022-04-04T12:47:43.464Z"
   },
   {
    "duration": 41,
    "start_time": "2022-04-04T12:47:43.470Z"
   },
   {
    "duration": 4,
    "start_time": "2022-04-04T12:47:43.513Z"
   },
   {
    "duration": 5,
    "start_time": "2022-04-04T12:47:43.519Z"
   },
   {
    "duration": 18,
    "start_time": "2022-04-04T12:47:43.525Z"
   },
   {
    "duration": 13,
    "start_time": "2022-04-04T12:47:43.545Z"
   },
   {
    "duration": 9,
    "start_time": "2022-04-04T12:47:43.559Z"
   },
   {
    "duration": 0,
    "start_time": "2022-04-04T12:47:43.569Z"
   },
   {
    "duration": 0,
    "start_time": "2022-04-04T12:47:43.570Z"
   },
   {
    "duration": 0,
    "start_time": "2022-04-04T12:47:43.571Z"
   },
   {
    "duration": 0,
    "start_time": "2022-04-04T12:47:43.572Z"
   },
   {
    "duration": 0,
    "start_time": "2022-04-04T12:47:43.574Z"
   },
   {
    "duration": 0,
    "start_time": "2022-04-04T12:47:43.575Z"
   },
   {
    "duration": 0,
    "start_time": "2022-04-04T12:47:43.576Z"
   },
   {
    "duration": 0,
    "start_time": "2022-04-04T12:47:43.577Z"
   },
   {
    "duration": 6,
    "start_time": "2022-04-04T12:48:04.699Z"
   },
   {
    "duration": 6,
    "start_time": "2022-04-04T12:48:08.484Z"
   },
   {
    "duration": 5,
    "start_time": "2022-04-04T12:48:10.419Z"
   },
   {
    "duration": 5,
    "start_time": "2022-04-04T12:48:17.227Z"
   },
   {
    "duration": 5,
    "start_time": "2022-04-04T12:50:35.440Z"
   },
   {
    "duration": 4,
    "start_time": "2022-04-04T12:50:37.059Z"
   },
   {
    "duration": 6,
    "start_time": "2022-04-04T12:50:38.203Z"
   },
   {
    "duration": 5,
    "start_time": "2022-04-04T12:50:52.463Z"
   },
   {
    "duration": 5,
    "start_time": "2022-04-04T12:50:58.363Z"
   },
   {
    "duration": 5,
    "start_time": "2022-04-04T12:51:00.431Z"
   },
   {
    "duration": 2,
    "start_time": "2022-04-04T12:51:14.060Z"
   },
   {
    "duration": 5,
    "start_time": "2022-04-04T12:51:15.794Z"
   },
   {
    "duration": 56,
    "start_time": "2022-04-04T12:51:17.689Z"
   },
   {
    "duration": 15,
    "start_time": "2022-04-04T12:51:17.747Z"
   },
   {
    "duration": 5,
    "start_time": "2022-04-04T12:51:17.764Z"
   },
   {
    "duration": 4,
    "start_time": "2022-04-04T12:51:17.771Z"
   },
   {
    "duration": 11,
    "start_time": "2022-04-04T12:51:17.777Z"
   },
   {
    "duration": 20,
    "start_time": "2022-04-04T12:51:17.790Z"
   },
   {
    "duration": 18,
    "start_time": "2022-04-04T12:51:17.812Z"
   },
   {
    "duration": 5,
    "start_time": "2022-04-04T12:51:17.831Z"
   },
   {
    "duration": 5,
    "start_time": "2022-04-04T12:51:17.838Z"
   },
   {
    "duration": 3,
    "start_time": "2022-04-04T12:51:17.846Z"
   },
   {
    "duration": 7,
    "start_time": "2022-04-04T12:51:17.850Z"
   },
   {
    "duration": 5,
    "start_time": "2022-04-04T12:51:17.859Z"
   },
   {
    "duration": 46,
    "start_time": "2022-04-04T12:51:17.865Z"
   },
   {
    "duration": 14,
    "start_time": "2022-04-04T12:51:17.913Z"
   },
   {
    "duration": 9,
    "start_time": "2022-04-04T12:51:17.928Z"
   },
   {
    "duration": 0,
    "start_time": "2022-04-04T12:51:17.938Z"
   },
   {
    "duration": 0,
    "start_time": "2022-04-04T12:51:17.939Z"
   },
   {
    "duration": 0,
    "start_time": "2022-04-04T12:51:17.940Z"
   },
   {
    "duration": 0,
    "start_time": "2022-04-04T12:51:17.941Z"
   },
   {
    "duration": 0,
    "start_time": "2022-04-04T12:51:17.942Z"
   },
   {
    "duration": 0,
    "start_time": "2022-04-04T12:51:17.943Z"
   },
   {
    "duration": 0,
    "start_time": "2022-04-04T12:51:17.944Z"
   },
   {
    "duration": 0,
    "start_time": "2022-04-04T12:51:17.945Z"
   },
   {
    "duration": 5,
    "start_time": "2022-04-04T12:51:39.747Z"
   },
   {
    "duration": 4,
    "start_time": "2022-04-04T12:51:41.179Z"
   },
   {
    "duration": 5,
    "start_time": "2022-04-04T12:51:52.235Z"
   },
   {
    "duration": 4,
    "start_time": "2022-04-04T12:51:53.443Z"
   },
   {
    "duration": 55,
    "start_time": "2022-04-04T12:51:57.733Z"
   },
   {
    "duration": 15,
    "start_time": "2022-04-04T12:51:57.790Z"
   },
   {
    "duration": 6,
    "start_time": "2022-04-04T12:51:57.806Z"
   },
   {
    "duration": 5,
    "start_time": "2022-04-04T12:51:57.813Z"
   },
   {
    "duration": 5,
    "start_time": "2022-04-04T12:51:57.820Z"
   },
   {
    "duration": 4,
    "start_time": "2022-04-04T12:51:57.826Z"
   },
   {
    "duration": 16,
    "start_time": "2022-04-04T12:51:57.831Z"
   },
   {
    "duration": 4,
    "start_time": "2022-04-04T12:51:57.848Z"
   },
   {
    "duration": 5,
    "start_time": "2022-04-04T12:51:57.854Z"
   },
   {
    "duration": 6,
    "start_time": "2022-04-04T12:51:57.861Z"
   },
   {
    "duration": 5,
    "start_time": "2022-04-04T12:51:57.869Z"
   },
   {
    "duration": 4,
    "start_time": "2022-04-04T12:51:57.908Z"
   },
   {
    "duration": 14,
    "start_time": "2022-04-04T12:51:57.913Z"
   },
   {
    "duration": 12,
    "start_time": "2022-04-04T12:51:57.929Z"
   },
   {
    "duration": 8,
    "start_time": "2022-04-04T12:51:57.943Z"
   },
   {
    "duration": 0,
    "start_time": "2022-04-04T12:51:57.952Z"
   },
   {
    "duration": 0,
    "start_time": "2022-04-04T12:51:57.953Z"
   },
   {
    "duration": 1,
    "start_time": "2022-04-04T12:51:57.954Z"
   },
   {
    "duration": 0,
    "start_time": "2022-04-04T12:51:57.956Z"
   },
   {
    "duration": 0,
    "start_time": "2022-04-04T12:51:57.957Z"
   },
   {
    "duration": 0,
    "start_time": "2022-04-04T12:51:57.958Z"
   },
   {
    "duration": 0,
    "start_time": "2022-04-04T12:51:57.959Z"
   },
   {
    "duration": 0,
    "start_time": "2022-04-04T12:51:57.960Z"
   },
   {
    "duration": 13,
    "start_time": "2022-04-04T12:59:47.842Z"
   },
   {
    "duration": 6,
    "start_time": "2022-04-04T13:04:36.744Z"
   },
   {
    "duration": 5,
    "start_time": "2022-04-04T13:04:37.881Z"
   },
   {
    "duration": 14,
    "start_time": "2022-04-04T13:04:42.632Z"
   },
   {
    "duration": 6,
    "start_time": "2022-04-04T13:04:47.822Z"
   },
   {
    "duration": 4,
    "start_time": "2022-04-04T13:04:49.479Z"
   },
   {
    "duration": 5,
    "start_time": "2022-04-04T13:04:51.400Z"
   },
   {
    "duration": 52,
    "start_time": "2022-04-04T13:05:01.077Z"
   },
   {
    "duration": 14,
    "start_time": "2022-04-04T13:05:01.130Z"
   },
   {
    "duration": 13,
    "start_time": "2022-04-04T13:05:01.146Z"
   },
   {
    "duration": 25,
    "start_time": "2022-04-04T13:05:01.161Z"
   },
   {
    "duration": 25,
    "start_time": "2022-04-04T13:05:01.187Z"
   },
   {
    "duration": 14,
    "start_time": "2022-04-04T13:05:01.214Z"
   },
   {
    "duration": 26,
    "start_time": "2022-04-04T13:05:01.230Z"
   },
   {
    "duration": 31,
    "start_time": "2022-04-04T13:05:01.257Z"
   },
   {
    "duration": 11,
    "start_time": "2022-04-04T13:05:01.289Z"
   },
   {
    "duration": 30,
    "start_time": "2022-04-04T13:05:01.302Z"
   },
   {
    "duration": 8,
    "start_time": "2022-04-04T13:05:01.333Z"
   },
   {
    "duration": 23,
    "start_time": "2022-04-04T13:05:01.342Z"
   },
   {
    "duration": 32,
    "start_time": "2022-04-04T13:05:01.366Z"
   },
   {
    "duration": 15,
    "start_time": "2022-04-04T13:05:01.400Z"
   },
   {
    "duration": 20,
    "start_time": "2022-04-04T13:05:01.417Z"
   },
   {
    "duration": 0,
    "start_time": "2022-04-04T13:05:01.438Z"
   },
   {
    "duration": 0,
    "start_time": "2022-04-04T13:05:01.439Z"
   },
   {
    "duration": 0,
    "start_time": "2022-04-04T13:05:01.440Z"
   },
   {
    "duration": 0,
    "start_time": "2022-04-04T13:05:01.441Z"
   },
   {
    "duration": 0,
    "start_time": "2022-04-04T13:05:01.442Z"
   },
   {
    "duration": 0,
    "start_time": "2022-04-04T13:05:01.443Z"
   },
   {
    "duration": 0,
    "start_time": "2022-04-04T13:05:01.444Z"
   },
   {
    "duration": 0,
    "start_time": "2022-04-04T13:05:01.445Z"
   },
   {
    "duration": 8,
    "start_time": "2022-04-04T13:14:23.486Z"
   },
   {
    "duration": 6,
    "start_time": "2022-04-04T13:14:42.497Z"
   },
   {
    "duration": 52,
    "start_time": "2022-04-04T13:14:51.618Z"
   },
   {
    "duration": 14,
    "start_time": "2022-04-04T13:14:51.672Z"
   },
   {
    "duration": 5,
    "start_time": "2022-04-04T13:14:51.688Z"
   },
   {
    "duration": 11,
    "start_time": "2022-04-04T13:14:51.709Z"
   },
   {
    "duration": 9,
    "start_time": "2022-04-04T13:14:51.722Z"
   },
   {
    "duration": 4,
    "start_time": "2022-04-04T13:14:51.732Z"
   },
   {
    "duration": 16,
    "start_time": "2022-04-04T13:14:51.737Z"
   },
   {
    "duration": 13,
    "start_time": "2022-04-04T13:14:51.755Z"
   },
   {
    "duration": 8,
    "start_time": "2022-04-04T13:14:51.770Z"
   },
   {
    "duration": 5,
    "start_time": "2022-04-04T13:14:51.780Z"
   },
   {
    "duration": 5,
    "start_time": "2022-04-04T13:14:51.809Z"
   },
   {
    "duration": 7,
    "start_time": "2022-04-04T13:14:51.815Z"
   },
   {
    "duration": 18,
    "start_time": "2022-04-04T13:14:51.823Z"
   },
   {
    "duration": 14,
    "start_time": "2022-04-04T13:14:51.842Z"
   },
   {
    "duration": 12,
    "start_time": "2022-04-04T13:14:51.858Z"
   },
   {
    "duration": 0,
    "start_time": "2022-04-04T13:14:51.872Z"
   },
   {
    "duration": 0,
    "start_time": "2022-04-04T13:14:51.874Z"
   },
   {
    "duration": 0,
    "start_time": "2022-04-04T13:14:51.876Z"
   },
   {
    "duration": 0,
    "start_time": "2022-04-04T13:14:51.908Z"
   },
   {
    "duration": 0,
    "start_time": "2022-04-04T13:14:51.910Z"
   },
   {
    "duration": 0,
    "start_time": "2022-04-04T13:14:51.911Z"
   },
   {
    "duration": 0,
    "start_time": "2022-04-04T13:14:51.912Z"
   },
   {
    "duration": 0,
    "start_time": "2022-04-04T13:14:51.913Z"
   },
   {
    "duration": 4,
    "start_time": "2022-04-04T13:15:18.870Z"
   },
   {
    "duration": 5,
    "start_time": "2022-04-04T13:15:24.822Z"
   },
   {
    "duration": 6,
    "start_time": "2022-04-04T13:15:34.925Z"
   },
   {
    "duration": 6,
    "start_time": "2022-04-04T13:15:49.821Z"
   },
   {
    "duration": 6,
    "start_time": "2022-04-04T13:15:55.500Z"
   },
   {
    "duration": 5,
    "start_time": "2022-04-04T13:15:59.805Z"
   },
   {
    "duration": 5,
    "start_time": "2022-04-04T13:16:15.845Z"
   },
   {
    "duration": 5,
    "start_time": "2022-04-04T13:16:24.725Z"
   },
   {
    "duration": 5,
    "start_time": "2022-04-04T13:16:26.492Z"
   },
   {
    "duration": 5,
    "start_time": "2022-04-04T13:16:27.949Z"
   },
   {
    "duration": 5,
    "start_time": "2022-04-04T13:16:47.710Z"
   },
   {
    "duration": 58,
    "start_time": "2022-04-04T13:16:50.147Z"
   },
   {
    "duration": 16,
    "start_time": "2022-04-04T13:16:50.207Z"
   },
   {
    "duration": 7,
    "start_time": "2022-04-04T13:16:50.225Z"
   },
   {
    "duration": 9,
    "start_time": "2022-04-04T13:16:50.235Z"
   },
   {
    "duration": 9,
    "start_time": "2022-04-04T13:16:50.246Z"
   },
   {
    "duration": 7,
    "start_time": "2022-04-04T13:16:50.257Z"
   },
   {
    "duration": 16,
    "start_time": "2022-04-04T13:16:50.266Z"
   },
   {
    "duration": 15,
    "start_time": "2022-04-04T13:16:50.308Z"
   },
   {
    "duration": 7,
    "start_time": "2022-04-04T13:16:50.325Z"
   },
   {
    "duration": 6,
    "start_time": "2022-04-04T13:16:50.335Z"
   },
   {
    "duration": 7,
    "start_time": "2022-04-04T13:16:50.342Z"
   },
   {
    "duration": 5,
    "start_time": "2022-04-04T13:16:50.350Z"
   },
   {
    "duration": 4,
    "start_time": "2022-04-04T13:16:50.356Z"
   },
   {
    "duration": 54,
    "start_time": "2022-04-04T13:16:50.362Z"
   },
   {
    "duration": 13,
    "start_time": "2022-04-04T13:16:50.417Z"
   },
   {
    "duration": 10,
    "start_time": "2022-04-04T13:16:50.431Z"
   },
   {
    "duration": 0,
    "start_time": "2022-04-04T13:16:50.442Z"
   },
   {
    "duration": 0,
    "start_time": "2022-04-04T13:16:50.443Z"
   },
   {
    "duration": 0,
    "start_time": "2022-04-04T13:16:50.444Z"
   },
   {
    "duration": 0,
    "start_time": "2022-04-04T13:16:50.446Z"
   },
   {
    "duration": 0,
    "start_time": "2022-04-04T13:16:50.446Z"
   },
   {
    "duration": 0,
    "start_time": "2022-04-04T13:16:50.448Z"
   },
   {
    "duration": 0,
    "start_time": "2022-04-04T13:16:50.449Z"
   },
   {
    "duration": 0,
    "start_time": "2022-04-04T13:16:50.450Z"
   },
   {
    "duration": 6,
    "start_time": "2022-04-04T13:17:40.045Z"
   },
   {
    "duration": 5,
    "start_time": "2022-04-04T13:17:45.238Z"
   },
   {
    "duration": 21,
    "start_time": "2022-04-04T13:19:25.021Z"
   },
   {
    "duration": 4,
    "start_time": "2022-04-04T13:22:23.259Z"
   },
   {
    "duration": 5,
    "start_time": "2022-04-04T13:22:29.908Z"
   },
   {
    "duration": 3,
    "start_time": "2022-04-04T13:24:29.787Z"
   },
   {
    "duration": 5,
    "start_time": "2022-04-04T13:24:33.259Z"
   },
   {
    "duration": 4,
    "start_time": "2022-04-04T13:27:30.498Z"
   },
   {
    "duration": 4,
    "start_time": "2022-04-04T13:27:31.951Z"
   },
   {
    "duration": 57,
    "start_time": "2022-04-04T13:29:45.243Z"
   },
   {
    "duration": 15,
    "start_time": "2022-04-04T13:29:45.301Z"
   },
   {
    "duration": 5,
    "start_time": "2022-04-04T13:29:45.317Z"
   },
   {
    "duration": 5,
    "start_time": "2022-04-04T13:29:45.324Z"
   },
   {
    "duration": 8,
    "start_time": "2022-04-04T13:29:45.330Z"
   },
   {
    "duration": 3,
    "start_time": "2022-04-04T13:29:45.339Z"
   },
   {
    "duration": 14,
    "start_time": "2022-04-04T13:29:45.344Z"
   },
   {
    "duration": 13,
    "start_time": "2022-04-04T13:29:45.360Z"
   },
   {
    "duration": 5,
    "start_time": "2022-04-04T13:29:45.375Z"
   },
   {
    "duration": 5,
    "start_time": "2022-04-04T13:29:45.410Z"
   },
   {
    "duration": 10,
    "start_time": "2022-04-04T13:29:45.416Z"
   },
   {
    "duration": 4,
    "start_time": "2022-04-04T13:29:45.427Z"
   },
   {
    "duration": 5,
    "start_time": "2022-04-04T13:29:45.433Z"
   },
   {
    "duration": 6,
    "start_time": "2022-04-04T13:29:45.440Z"
   },
   {
    "duration": 5,
    "start_time": "2022-04-04T13:29:45.448Z"
   },
   {
    "duration": 16,
    "start_time": "2022-04-04T13:29:45.454Z"
   },
   {
    "duration": 37,
    "start_time": "2022-04-04T13:29:45.472Z"
   },
   {
    "duration": 70,
    "start_time": "2022-04-04T13:29:45.511Z"
   },
   {
    "duration": 0,
    "start_time": "2022-04-04T13:29:45.582Z"
   },
   {
    "duration": 0,
    "start_time": "2022-04-04T13:29:45.583Z"
   },
   {
    "duration": 0,
    "start_time": "2022-04-04T13:29:45.584Z"
   },
   {
    "duration": 0,
    "start_time": "2022-04-04T13:29:45.586Z"
   },
   {
    "duration": 0,
    "start_time": "2022-04-04T13:29:45.586Z"
   },
   {
    "duration": 1,
    "start_time": "2022-04-04T13:29:45.587Z"
   },
   {
    "duration": 0,
    "start_time": "2022-04-04T13:29:45.589Z"
   },
   {
    "duration": 0,
    "start_time": "2022-04-04T13:29:45.589Z"
   },
   {
    "duration": 4,
    "start_time": "2022-04-04T13:35:52.975Z"
   },
   {
    "duration": 3,
    "start_time": "2022-04-04T13:36:59.406Z"
   },
   {
    "duration": 4,
    "start_time": "2022-04-04T13:37:13.567Z"
   },
   {
    "duration": 6,
    "start_time": "2022-04-04T13:37:36.735Z"
   },
   {
    "duration": 5,
    "start_time": "2022-04-04T13:37:53.184Z"
   },
   {
    "duration": 5,
    "start_time": "2022-04-04T13:38:14.439Z"
   },
   {
    "duration": 5,
    "start_time": "2022-04-04T13:38:23.528Z"
   },
   {
    "duration": 4,
    "start_time": "2022-04-04T13:38:34.120Z"
   },
   {
    "duration": 8,
    "start_time": "2022-04-04T13:39:17.319Z"
   },
   {
    "duration": 6,
    "start_time": "2022-04-04T13:40:11.166Z"
   },
   {
    "duration": 4,
    "start_time": "2022-04-04T13:42:40.293Z"
   },
   {
    "duration": 4,
    "start_time": "2022-04-04T13:44:05.213Z"
   },
   {
    "duration": 4,
    "start_time": "2022-04-04T13:44:09.333Z"
   },
   {
    "duration": 53,
    "start_time": "2022-04-04T13:44:22.645Z"
   },
   {
    "duration": 14,
    "start_time": "2022-04-04T13:44:22.700Z"
   },
   {
    "duration": 5,
    "start_time": "2022-04-04T13:44:22.715Z"
   },
   {
    "duration": 6,
    "start_time": "2022-04-04T13:44:22.722Z"
   },
   {
    "duration": 6,
    "start_time": "2022-04-04T13:44:22.730Z"
   },
   {
    "duration": 3,
    "start_time": "2022-04-04T13:44:22.738Z"
   },
   {
    "duration": 17,
    "start_time": "2022-04-04T13:44:22.742Z"
   },
   {
    "duration": 14,
    "start_time": "2022-04-04T13:44:22.761Z"
   },
   {
    "duration": 5,
    "start_time": "2022-04-04T13:44:22.777Z"
   },
   {
    "duration": 5,
    "start_time": "2022-04-04T13:44:22.809Z"
   },
   {
    "duration": 5,
    "start_time": "2022-04-04T13:44:22.816Z"
   },
   {
    "duration": 5,
    "start_time": "2022-04-04T13:44:22.822Z"
   },
   {
    "duration": 3,
    "start_time": "2022-04-04T13:44:22.828Z"
   },
   {
    "duration": 3,
    "start_time": "2022-04-04T13:44:22.834Z"
   },
   {
    "duration": 7,
    "start_time": "2022-04-04T13:44:22.839Z"
   },
   {
    "duration": 6,
    "start_time": "2022-04-04T13:44:22.847Z"
   },
   {
    "duration": 11,
    "start_time": "2022-04-04T13:44:22.854Z"
   },
   {
    "duration": 5,
    "start_time": "2022-04-04T13:44:22.866Z"
   },
   {
    "duration": 40,
    "start_time": "2022-04-04T13:44:22.872Z"
   },
   {
    "duration": 16,
    "start_time": "2022-04-04T13:44:22.913Z"
   },
   {
    "duration": 13,
    "start_time": "2022-04-04T13:44:22.931Z"
   },
   {
    "duration": 9,
    "start_time": "2022-04-04T13:44:22.945Z"
   },
   {
    "duration": 0,
    "start_time": "2022-04-04T13:44:22.956Z"
   },
   {
    "duration": 0,
    "start_time": "2022-04-04T13:44:22.957Z"
   },
   {
    "duration": 0,
    "start_time": "2022-04-04T13:44:22.958Z"
   },
   {
    "duration": 0,
    "start_time": "2022-04-04T13:44:22.959Z"
   },
   {
    "duration": 0,
    "start_time": "2022-04-04T13:44:22.960Z"
   },
   {
    "duration": 0,
    "start_time": "2022-04-04T13:44:22.961Z"
   },
   {
    "duration": 0,
    "start_time": "2022-04-04T13:44:22.962Z"
   },
   {
    "duration": 0,
    "start_time": "2022-04-04T13:44:22.963Z"
   },
   {
    "duration": 7,
    "start_time": "2022-04-04T13:44:52.221Z"
   },
   {
    "duration": 5,
    "start_time": "2022-04-04T13:45:08.755Z"
   },
   {
    "duration": 59,
    "start_time": "2022-04-04T13:45:23.017Z"
   },
   {
    "duration": 20,
    "start_time": "2022-04-04T13:45:23.078Z"
   },
   {
    "duration": 5,
    "start_time": "2022-04-04T13:45:23.100Z"
   },
   {
    "duration": 7,
    "start_time": "2022-04-04T13:45:23.108Z"
   },
   {
    "duration": 5,
    "start_time": "2022-04-04T13:45:23.118Z"
   },
   {
    "duration": 3,
    "start_time": "2022-04-04T13:45:23.125Z"
   },
   {
    "duration": 18,
    "start_time": "2022-04-04T13:45:23.130Z"
   },
   {
    "duration": 14,
    "start_time": "2022-04-04T13:45:23.149Z"
   },
   {
    "duration": 6,
    "start_time": "2022-04-04T13:45:23.165Z"
   },
   {
    "duration": 39,
    "start_time": "2022-04-04T13:45:23.173Z"
   },
   {
    "duration": 5,
    "start_time": "2022-04-04T13:45:25.809Z"
   },
   {
    "duration": 21,
    "start_time": "2022-04-04T13:56:40.554Z"
   },
   {
    "duration": 15,
    "start_time": "2022-04-04T13:56:52.898Z"
   },
   {
    "duration": 57,
    "start_time": "2022-04-04T13:57:21.225Z"
   },
   {
    "duration": 14,
    "start_time": "2022-04-04T13:57:21.284Z"
   },
   {
    "duration": 10,
    "start_time": "2022-04-04T13:57:21.299Z"
   },
   {
    "duration": 5,
    "start_time": "2022-04-04T13:57:21.311Z"
   },
   {
    "duration": 8,
    "start_time": "2022-04-04T13:57:21.317Z"
   },
   {
    "duration": 4,
    "start_time": "2022-04-04T13:57:21.327Z"
   },
   {
    "duration": 17,
    "start_time": "2022-04-04T13:57:21.333Z"
   },
   {
    "duration": 63,
    "start_time": "2022-04-04T13:57:21.352Z"
   },
   {
    "duration": 5,
    "start_time": "2022-04-04T13:57:21.417Z"
   },
   {
    "duration": 5,
    "start_time": "2022-04-04T13:57:21.424Z"
   },
   {
    "duration": 8,
    "start_time": "2022-04-04T13:57:21.430Z"
   },
   {
    "duration": 7,
    "start_time": "2022-04-04T13:57:21.439Z"
   },
   {
    "duration": 4,
    "start_time": "2022-04-04T13:57:21.448Z"
   },
   {
    "duration": 5,
    "start_time": "2022-04-04T13:57:21.453Z"
   },
   {
    "duration": 6,
    "start_time": "2022-04-04T13:57:21.460Z"
   },
   {
    "duration": 7,
    "start_time": "2022-04-04T13:57:21.467Z"
   },
   {
    "duration": 7,
    "start_time": "2022-04-04T13:57:21.508Z"
   },
   {
    "duration": 5,
    "start_time": "2022-04-04T13:57:21.516Z"
   },
   {
    "duration": 4,
    "start_time": "2022-04-04T13:57:21.522Z"
   },
   {
    "duration": 17,
    "start_time": "2022-04-04T13:57:21.527Z"
   },
   {
    "duration": 13,
    "start_time": "2022-04-04T13:57:21.546Z"
   },
   {
    "duration": 16,
    "start_time": "2022-04-04T13:57:21.560Z"
   },
   {
    "duration": 0,
    "start_time": "2022-04-04T13:57:21.578Z"
   },
   {
    "duration": 0,
    "start_time": "2022-04-04T13:57:21.579Z"
   },
   {
    "duration": 0,
    "start_time": "2022-04-04T13:57:21.580Z"
   },
   {
    "duration": 0,
    "start_time": "2022-04-04T13:57:21.609Z"
   },
   {
    "duration": 0,
    "start_time": "2022-04-04T13:57:21.610Z"
   },
   {
    "duration": 0,
    "start_time": "2022-04-04T13:57:21.611Z"
   },
   {
    "duration": 0,
    "start_time": "2022-04-04T13:57:21.612Z"
   },
   {
    "duration": 0,
    "start_time": "2022-04-04T13:57:21.613Z"
   },
   {
    "duration": 4,
    "start_time": "2022-04-04T13:58:23.522Z"
   },
   {
    "duration": 3,
    "start_time": "2022-04-04T13:58:29.401Z"
   },
   {
    "duration": 7,
    "start_time": "2022-04-04T13:58:33.634Z"
   },
   {
    "duration": 11,
    "start_time": "2022-04-04T13:59:07.242Z"
   },
   {
    "duration": 5,
    "start_time": "2022-04-04T13:59:21.376Z"
   },
   {
    "duration": 11,
    "start_time": "2022-04-04T13:59:24.986Z"
   },
   {
    "duration": 18,
    "start_time": "2022-04-04T13:59:47.801Z"
   },
   {
    "duration": 20,
    "start_time": "2022-04-04T14:00:18.186Z"
   },
   {
    "duration": 7,
    "start_time": "2022-04-04T14:03:04.713Z"
   },
   {
    "duration": 58,
    "start_time": "2022-04-04T14:03:08.278Z"
   },
   {
    "duration": 16,
    "start_time": "2022-04-04T14:03:08.338Z"
   },
   {
    "duration": 6,
    "start_time": "2022-04-04T14:03:08.356Z"
   },
   {
    "duration": 5,
    "start_time": "2022-04-04T14:03:08.364Z"
   },
   {
    "duration": 19,
    "start_time": "2022-04-04T14:03:08.371Z"
   },
   {
    "duration": 20,
    "start_time": "2022-04-04T14:03:08.392Z"
   },
   {
    "duration": 18,
    "start_time": "2022-04-04T14:03:08.414Z"
   },
   {
    "duration": 15,
    "start_time": "2022-04-04T14:03:08.434Z"
   },
   {
    "duration": 23,
    "start_time": "2022-04-04T14:03:08.451Z"
   },
   {
    "duration": 20,
    "start_time": "2022-04-04T14:03:08.476Z"
   },
   {
    "duration": 23,
    "start_time": "2022-04-04T14:03:08.498Z"
   },
   {
    "duration": 15,
    "start_time": "2022-04-04T14:03:08.523Z"
   },
   {
    "duration": 15,
    "start_time": "2022-04-04T14:03:08.540Z"
   },
   {
    "duration": 4,
    "start_time": "2022-04-04T14:03:08.558Z"
   },
   {
    "duration": 17,
    "start_time": "2022-04-04T14:03:08.563Z"
   },
   {
    "duration": 28,
    "start_time": "2022-04-04T14:03:08.582Z"
   },
   {
    "duration": 7,
    "start_time": "2022-04-04T14:03:08.612Z"
   },
   {
    "duration": 31,
    "start_time": "2022-04-04T14:03:08.621Z"
   },
   {
    "duration": 5,
    "start_time": "2022-04-04T14:03:08.654Z"
   },
   {
    "duration": 9,
    "start_time": "2022-04-04T14:03:08.661Z"
   },
   {
    "duration": 24,
    "start_time": "2022-04-04T14:03:08.671Z"
   },
   {
    "duration": 20,
    "start_time": "2022-04-04T14:03:08.697Z"
   },
   {
    "duration": 17,
    "start_time": "2022-04-04T14:03:08.719Z"
   },
   {
    "duration": 0,
    "start_time": "2022-04-04T14:03:08.738Z"
   },
   {
    "duration": 0,
    "start_time": "2022-04-04T14:03:08.739Z"
   },
   {
    "duration": 0,
    "start_time": "2022-04-04T14:03:08.740Z"
   },
   {
    "duration": 0,
    "start_time": "2022-04-04T14:03:08.741Z"
   },
   {
    "duration": 0,
    "start_time": "2022-04-04T14:03:08.742Z"
   },
   {
    "duration": 0,
    "start_time": "2022-04-04T14:03:08.743Z"
   },
   {
    "duration": 0,
    "start_time": "2022-04-04T14:03:08.744Z"
   },
   {
    "duration": 0,
    "start_time": "2022-04-04T14:03:08.745Z"
   },
   {
    "duration": 6,
    "start_time": "2022-04-04T14:03:33.096Z"
   },
   {
    "duration": 55,
    "start_time": "2022-04-04T14:03:37.536Z"
   },
   {
    "duration": 14,
    "start_time": "2022-04-04T14:03:37.593Z"
   },
   {
    "duration": 5,
    "start_time": "2022-04-04T14:03:37.609Z"
   },
   {
    "duration": 5,
    "start_time": "2022-04-04T14:03:37.615Z"
   },
   {
    "duration": 7,
    "start_time": "2022-04-04T14:03:37.622Z"
   },
   {
    "duration": 6,
    "start_time": "2022-04-04T14:03:37.631Z"
   },
   {
    "duration": 15,
    "start_time": "2022-04-04T14:03:37.638Z"
   },
   {
    "duration": 14,
    "start_time": "2022-04-04T14:03:37.654Z"
   },
   {
    "duration": 39,
    "start_time": "2022-04-04T14:03:37.670Z"
   },
   {
    "duration": 7,
    "start_time": "2022-04-04T14:03:37.711Z"
   },
   {
    "duration": 6,
    "start_time": "2022-04-04T14:03:37.720Z"
   },
   {
    "duration": 6,
    "start_time": "2022-04-04T14:03:37.727Z"
   },
   {
    "duration": 5,
    "start_time": "2022-04-04T14:03:37.735Z"
   },
   {
    "duration": 3,
    "start_time": "2022-04-04T14:03:37.743Z"
   },
   {
    "duration": 5,
    "start_time": "2022-04-04T14:03:37.748Z"
   },
   {
    "duration": 6,
    "start_time": "2022-04-04T14:03:37.755Z"
   },
   {
    "duration": 47,
    "start_time": "2022-04-04T14:03:37.762Z"
   },
   {
    "duration": 17,
    "start_time": "2022-04-04T14:03:37.810Z"
   },
   {
    "duration": 4,
    "start_time": "2022-04-04T14:03:37.829Z"
   },
   {
    "duration": 9,
    "start_time": "2022-04-04T14:03:37.834Z"
   },
   {
    "duration": 16,
    "start_time": "2022-04-04T14:03:37.844Z"
   },
   {
    "duration": 13,
    "start_time": "2022-04-04T14:03:37.861Z"
   },
   {
    "duration": 33,
    "start_time": "2022-04-04T14:03:37.876Z"
   },
   {
    "duration": 0,
    "start_time": "2022-04-04T14:03:37.911Z"
   },
   {
    "duration": 0,
    "start_time": "2022-04-04T14:03:37.913Z"
   },
   {
    "duration": 0,
    "start_time": "2022-04-04T14:03:37.914Z"
   },
   {
    "duration": 0,
    "start_time": "2022-04-04T14:03:37.915Z"
   },
   {
    "duration": 0,
    "start_time": "2022-04-04T14:03:37.916Z"
   },
   {
    "duration": 1,
    "start_time": "2022-04-04T14:03:37.917Z"
   },
   {
    "duration": 0,
    "start_time": "2022-04-04T14:03:37.919Z"
   },
   {
    "duration": 0,
    "start_time": "2022-04-04T14:03:37.920Z"
   },
   {
    "duration": 12,
    "start_time": "2022-04-04T14:04:57.609Z"
   },
   {
    "duration": 6,
    "start_time": "2022-04-04T14:07:04.327Z"
   },
   {
    "duration": 58,
    "start_time": "2022-04-04T14:07:12.151Z"
   },
   {
    "duration": 15,
    "start_time": "2022-04-04T14:07:12.210Z"
   },
   {
    "duration": 5,
    "start_time": "2022-04-04T14:07:12.226Z"
   },
   {
    "duration": 4,
    "start_time": "2022-04-04T14:07:12.234Z"
   },
   {
    "duration": 9,
    "start_time": "2022-04-04T14:07:12.239Z"
   },
   {
    "duration": 3,
    "start_time": "2022-04-04T14:07:12.250Z"
   },
   {
    "duration": 15,
    "start_time": "2022-04-04T14:07:12.255Z"
   },
   {
    "duration": 43,
    "start_time": "2022-04-04T14:07:12.272Z"
   },
   {
    "duration": 7,
    "start_time": "2022-04-04T14:07:12.317Z"
   },
   {
    "duration": 6,
    "start_time": "2022-04-04T14:07:12.326Z"
   },
   {
    "duration": 8,
    "start_time": "2022-04-04T14:07:12.333Z"
   },
   {
    "duration": 10,
    "start_time": "2022-04-04T14:07:12.342Z"
   },
   {
    "duration": 5,
    "start_time": "2022-04-04T14:07:12.354Z"
   },
   {
    "duration": 4,
    "start_time": "2022-04-04T14:07:12.360Z"
   },
   {
    "duration": 8,
    "start_time": "2022-04-04T14:07:12.365Z"
   },
   {
    "duration": 36,
    "start_time": "2022-04-04T14:07:12.374Z"
   },
   {
    "duration": 5,
    "start_time": "2022-04-04T14:07:12.412Z"
   },
   {
    "duration": 13,
    "start_time": "2022-04-04T14:07:12.418Z"
   },
   {
    "duration": 4,
    "start_time": "2022-04-04T14:07:12.433Z"
   },
   {
    "duration": 3,
    "start_time": "2022-04-04T14:07:12.439Z"
   },
   {
    "duration": 18,
    "start_time": "2022-04-04T14:07:12.443Z"
   },
   {
    "duration": 45,
    "start_time": "2022-04-04T14:07:12.463Z"
   },
   {
    "duration": 9,
    "start_time": "2022-04-04T14:07:12.511Z"
   },
   {
    "duration": 0,
    "start_time": "2022-04-04T14:07:12.521Z"
   },
   {
    "duration": 0,
    "start_time": "2022-04-04T14:07:12.523Z"
   },
   {
    "duration": 0,
    "start_time": "2022-04-04T14:07:12.525Z"
   },
   {
    "duration": 0,
    "start_time": "2022-04-04T14:07:12.526Z"
   },
   {
    "duration": 0,
    "start_time": "2022-04-04T14:07:12.527Z"
   },
   {
    "duration": 0,
    "start_time": "2022-04-04T14:07:12.529Z"
   },
   {
    "duration": 0,
    "start_time": "2022-04-04T14:07:12.530Z"
   },
   {
    "duration": 0,
    "start_time": "2022-04-04T14:07:12.531Z"
   },
   {
    "duration": 5,
    "start_time": "2022-04-04T14:13:22.741Z"
   },
   {
    "duration": 59,
    "start_time": "2022-04-04T14:14:03.860Z"
   },
   {
    "duration": 17,
    "start_time": "2022-04-04T14:14:03.921Z"
   },
   {
    "duration": 6,
    "start_time": "2022-04-04T14:14:03.940Z"
   },
   {
    "duration": 5,
    "start_time": "2022-04-04T14:14:03.949Z"
   },
   {
    "duration": 7,
    "start_time": "2022-04-04T14:14:03.955Z"
   },
   {
    "duration": 3,
    "start_time": "2022-04-04T14:14:03.964Z"
   },
   {
    "duration": 46,
    "start_time": "2022-04-04T14:14:03.969Z"
   },
   {
    "duration": 15,
    "start_time": "2022-04-04T14:14:04.017Z"
   },
   {
    "duration": 8,
    "start_time": "2022-04-04T14:14:04.034Z"
   },
   {
    "duration": 5,
    "start_time": "2022-04-04T14:14:04.045Z"
   },
   {
    "duration": 5,
    "start_time": "2022-04-04T14:14:04.051Z"
   },
   {
    "duration": 4,
    "start_time": "2022-04-04T14:14:04.058Z"
   },
   {
    "duration": 7,
    "start_time": "2022-04-04T14:14:04.064Z"
   },
   {
    "duration": 37,
    "start_time": "2022-04-04T14:14:04.072Z"
   },
   {
    "duration": 4,
    "start_time": "2022-04-04T14:14:04.111Z"
   },
   {
    "duration": 6,
    "start_time": "2022-04-04T14:14:04.117Z"
   },
   {
    "duration": 6,
    "start_time": "2022-04-04T14:14:04.124Z"
   },
   {
    "duration": 13,
    "start_time": "2022-04-04T14:14:04.132Z"
   },
   {
    "duration": 4,
    "start_time": "2022-04-04T14:14:04.147Z"
   },
   {
    "duration": 5,
    "start_time": "2022-04-04T14:14:04.152Z"
   },
   {
    "duration": 50,
    "start_time": "2022-04-04T14:14:04.159Z"
   },
   {
    "duration": 14,
    "start_time": "2022-04-04T14:14:04.211Z"
   },
   {
    "duration": 9,
    "start_time": "2022-04-04T14:14:04.226Z"
   },
   {
    "duration": 0,
    "start_time": "2022-04-04T14:14:04.237Z"
   },
   {
    "duration": 0,
    "start_time": "2022-04-04T14:14:04.238Z"
   },
   {
    "duration": 0,
    "start_time": "2022-04-04T14:14:04.240Z"
   },
   {
    "duration": 0,
    "start_time": "2022-04-04T14:14:04.240Z"
   },
   {
    "duration": 0,
    "start_time": "2022-04-04T14:14:04.241Z"
   },
   {
    "duration": 0,
    "start_time": "2022-04-04T14:14:04.242Z"
   },
   {
    "duration": 0,
    "start_time": "2022-04-04T14:14:04.243Z"
   },
   {
    "duration": 0,
    "start_time": "2022-04-04T14:14:04.244Z"
   },
   {
    "duration": 5,
    "start_time": "2022-04-04T14:15:33.781Z"
   },
   {
    "duration": 54,
    "start_time": "2022-04-04T14:15:35.595Z"
   },
   {
    "duration": 14,
    "start_time": "2022-04-04T14:15:35.651Z"
   },
   {
    "duration": 4,
    "start_time": "2022-04-04T14:15:35.667Z"
   },
   {
    "duration": 4,
    "start_time": "2022-04-04T14:15:35.673Z"
   },
   {
    "duration": 5,
    "start_time": "2022-04-04T14:15:35.709Z"
   },
   {
    "duration": 4,
    "start_time": "2022-04-04T14:15:35.715Z"
   },
   {
    "duration": 18,
    "start_time": "2022-04-04T14:15:35.720Z"
   },
   {
    "duration": 15,
    "start_time": "2022-04-04T14:15:35.739Z"
   },
   {
    "duration": 6,
    "start_time": "2022-04-04T14:15:35.755Z"
   },
   {
    "duration": 5,
    "start_time": "2022-04-04T14:15:35.763Z"
   },
   {
    "duration": 5,
    "start_time": "2022-04-04T14:15:35.769Z"
   },
   {
    "duration": 6,
    "start_time": "2022-04-04T14:15:35.809Z"
   },
   {
    "duration": 8,
    "start_time": "2022-04-04T14:15:35.816Z"
   },
   {
    "duration": 3,
    "start_time": "2022-04-04T14:15:35.825Z"
   },
   {
    "duration": 5,
    "start_time": "2022-04-04T14:15:35.830Z"
   },
   {
    "duration": 7,
    "start_time": "2022-04-04T14:15:35.836Z"
   },
   {
    "duration": 10,
    "start_time": "2022-04-04T14:15:35.844Z"
   },
   {
    "duration": 16,
    "start_time": "2022-04-04T14:15:35.855Z"
   },
   {
    "duration": 4,
    "start_time": "2022-04-04T14:15:35.873Z"
   },
   {
    "duration": 30,
    "start_time": "2022-04-04T14:15:35.878Z"
   },
   {
    "duration": 13,
    "start_time": "2022-04-04T14:15:35.910Z"
   },
   {
    "duration": 13,
    "start_time": "2022-04-04T14:15:35.924Z"
   },
   {
    "duration": 12,
    "start_time": "2022-04-04T14:15:35.938Z"
   },
   {
    "duration": 0,
    "start_time": "2022-04-04T14:15:35.952Z"
   },
   {
    "duration": 0,
    "start_time": "2022-04-04T14:15:35.953Z"
   },
   {
    "duration": 0,
    "start_time": "2022-04-04T14:15:35.955Z"
   },
   {
    "duration": 0,
    "start_time": "2022-04-04T14:15:35.956Z"
   },
   {
    "duration": 0,
    "start_time": "2022-04-04T14:15:35.956Z"
   },
   {
    "duration": 0,
    "start_time": "2022-04-04T14:15:35.957Z"
   },
   {
    "duration": 0,
    "start_time": "2022-04-04T14:15:35.958Z"
   },
   {
    "duration": 0,
    "start_time": "2022-04-04T14:15:35.959Z"
   },
   {
    "duration": 52,
    "start_time": "2022-04-04T14:15:37.306Z"
   },
   {
    "duration": 14,
    "start_time": "2022-04-04T14:15:37.360Z"
   },
   {
    "duration": 4,
    "start_time": "2022-04-04T14:15:37.376Z"
   },
   {
    "duration": 27,
    "start_time": "2022-04-04T14:15:37.382Z"
   },
   {
    "duration": 8,
    "start_time": "2022-04-04T14:15:37.411Z"
   },
   {
    "duration": 4,
    "start_time": "2022-04-04T14:15:37.420Z"
   },
   {
    "duration": 16,
    "start_time": "2022-04-04T14:15:37.426Z"
   },
   {
    "duration": 15,
    "start_time": "2022-04-04T14:15:37.443Z"
   },
   {
    "duration": 6,
    "start_time": "2022-04-04T14:15:37.459Z"
   },
   {
    "duration": 4,
    "start_time": "2022-04-04T14:15:37.468Z"
   },
   {
    "duration": 36,
    "start_time": "2022-04-04T14:15:37.473Z"
   },
   {
    "duration": 6,
    "start_time": "2022-04-04T14:15:37.510Z"
   },
   {
    "duration": 7,
    "start_time": "2022-04-04T14:15:37.517Z"
   },
   {
    "duration": 4,
    "start_time": "2022-04-04T14:15:37.525Z"
   },
   {
    "duration": 5,
    "start_time": "2022-04-04T14:15:37.530Z"
   },
   {
    "duration": 9,
    "start_time": "2022-04-04T14:15:37.536Z"
   },
   {
    "duration": 7,
    "start_time": "2022-04-04T14:15:37.546Z"
   },
   {
    "duration": 13,
    "start_time": "2022-04-04T14:15:37.554Z"
   },
   {
    "duration": 3,
    "start_time": "2022-04-04T14:15:37.569Z"
   },
   {
    "duration": 3,
    "start_time": "2022-04-04T14:15:37.574Z"
   },
   {
    "duration": 40,
    "start_time": "2022-04-04T14:15:37.579Z"
   },
   {
    "duration": 12,
    "start_time": "2022-04-04T14:15:37.621Z"
   },
   {
    "duration": 10,
    "start_time": "2022-04-04T14:15:37.634Z"
   },
   {
    "duration": 0,
    "start_time": "2022-04-04T14:15:37.645Z"
   },
   {
    "duration": 0,
    "start_time": "2022-04-04T14:15:37.647Z"
   },
   {
    "duration": 0,
    "start_time": "2022-04-04T14:15:37.648Z"
   },
   {
    "duration": 0,
    "start_time": "2022-04-04T14:15:37.649Z"
   },
   {
    "duration": 0,
    "start_time": "2022-04-04T14:15:37.649Z"
   },
   {
    "duration": 0,
    "start_time": "2022-04-04T14:15:37.650Z"
   },
   {
    "duration": 0,
    "start_time": "2022-04-04T14:15:37.651Z"
   },
   {
    "duration": 0,
    "start_time": "2022-04-04T14:15:37.652Z"
   },
   {
    "duration": 55,
    "start_time": "2022-04-04T14:20:19.820Z"
   },
   {
    "duration": 15,
    "start_time": "2022-04-04T14:20:19.877Z"
   },
   {
    "duration": 18,
    "start_time": "2022-04-04T14:20:19.894Z"
   },
   {
    "duration": 5,
    "start_time": "2022-04-04T14:20:19.914Z"
   },
   {
    "duration": 7,
    "start_time": "2022-04-04T14:20:19.921Z"
   },
   {
    "duration": 4,
    "start_time": "2022-04-04T14:20:19.929Z"
   },
   {
    "duration": 16,
    "start_time": "2022-04-04T14:20:19.934Z"
   },
   {
    "duration": 15,
    "start_time": "2022-04-04T14:20:19.951Z"
   },
   {
    "duration": 5,
    "start_time": "2022-04-04T14:20:19.968Z"
   },
   {
    "duration": 6,
    "start_time": "2022-04-04T14:20:20.009Z"
   },
   {
    "duration": 7,
    "start_time": "2022-04-04T14:20:20.017Z"
   },
   {
    "duration": 7,
    "start_time": "2022-04-04T14:20:20.025Z"
   },
   {
    "duration": 6,
    "start_time": "2022-04-04T14:20:20.033Z"
   },
   {
    "duration": 5,
    "start_time": "2022-04-04T14:20:20.040Z"
   },
   {
    "duration": 7,
    "start_time": "2022-04-04T14:20:20.046Z"
   },
   {
    "duration": 6,
    "start_time": "2022-04-04T14:20:20.054Z"
   },
   {
    "duration": 5,
    "start_time": "2022-04-04T14:20:20.062Z"
   },
   {
    "duration": 47,
    "start_time": "2022-04-04T14:20:20.069Z"
   },
   {
    "duration": 14,
    "start_time": "2022-04-04T14:20:20.118Z"
   },
   {
    "duration": 9,
    "start_time": "2022-04-04T14:20:20.133Z"
   },
   {
    "duration": 0,
    "start_time": "2022-04-04T14:20:20.143Z"
   },
   {
    "duration": 0,
    "start_time": "2022-04-04T14:20:20.145Z"
   },
   {
    "duration": 1,
    "start_time": "2022-04-04T14:20:20.145Z"
   },
   {
    "duration": 0,
    "start_time": "2022-04-04T14:20:20.147Z"
   },
   {
    "duration": 0,
    "start_time": "2022-04-04T14:20:20.147Z"
   },
   {
    "duration": 0,
    "start_time": "2022-04-04T14:20:20.148Z"
   },
   {
    "duration": 0,
    "start_time": "2022-04-04T14:20:20.149Z"
   },
   {
    "duration": 0,
    "start_time": "2022-04-04T14:20:20.150Z"
   },
   {
    "duration": 6,
    "start_time": "2022-04-04T14:21:23.851Z"
   },
   {
    "duration": 5,
    "start_time": "2022-04-04T14:21:40.545Z"
   },
   {
    "duration": 11,
    "start_time": "2022-04-04T14:21:41.604Z"
   },
   {
    "duration": 8,
    "start_time": "2022-04-04T14:21:43.082Z"
   },
   {
    "duration": 7,
    "start_time": "2022-04-04T14:21:49.701Z"
   },
   {
    "duration": 17,
    "start_time": "2022-04-04T14:21:54.762Z"
   },
   {
    "duration": 7,
    "start_time": "2022-04-04T14:21:58.378Z"
   },
   {
    "duration": 7,
    "start_time": "2022-04-04T14:22:07.730Z"
   },
   {
    "duration": 10,
    "start_time": "2022-04-04T14:22:08.919Z"
   },
   {
    "duration": 5,
    "start_time": "2022-04-04T14:22:12.341Z"
   },
   {
    "duration": 498,
    "start_time": "2022-04-04T17:30:02.359Z"
   },
   {
    "duration": 16,
    "start_time": "2022-04-04T17:30:02.859Z"
   },
   {
    "duration": 61,
    "start_time": "2022-04-04T17:30:02.876Z"
   },
   {
    "duration": 8,
    "start_time": "2022-04-04T17:30:02.940Z"
   },
   {
    "duration": 26,
    "start_time": "2022-04-04T17:30:02.950Z"
   },
   {
    "duration": 16,
    "start_time": "2022-04-04T17:30:02.978Z"
   },
   {
    "duration": 36,
    "start_time": "2022-04-04T17:30:02.996Z"
   },
   {
    "duration": 18,
    "start_time": "2022-04-04T17:30:03.034Z"
   },
   {
    "duration": 17,
    "start_time": "2022-04-04T17:30:03.053Z"
   },
   {
    "duration": 21,
    "start_time": "2022-04-04T17:30:03.073Z"
   },
   {
    "duration": 20,
    "start_time": "2022-04-04T17:30:03.096Z"
   },
   {
    "duration": 20,
    "start_time": "2022-04-04T17:30:03.118Z"
   },
   {
    "duration": 13,
    "start_time": "2022-04-04T17:30:03.140Z"
   },
   {
    "duration": 23,
    "start_time": "2022-04-04T17:30:03.154Z"
   },
   {
    "duration": 12,
    "start_time": "2022-04-04T17:30:03.179Z"
   },
   {
    "duration": 13,
    "start_time": "2022-04-04T17:30:03.193Z"
   },
   {
    "duration": 17,
    "start_time": "2022-04-04T17:30:03.208Z"
   },
   {
    "duration": 29,
    "start_time": "2022-04-04T17:30:03.227Z"
   },
   {
    "duration": 20,
    "start_time": "2022-04-04T17:30:03.258Z"
   },
   {
    "duration": 17,
    "start_time": "2022-04-04T17:30:03.280Z"
   },
   {
    "duration": 71,
    "start_time": "2022-04-04T17:30:03.299Z"
   },
   {
    "duration": 15,
    "start_time": "2022-04-04T17:30:03.379Z"
   },
   {
    "duration": 19,
    "start_time": "2022-04-04T17:30:03.396Z"
   },
   {
    "duration": 31,
    "start_time": "2022-04-04T17:30:03.416Z"
   },
   {
    "duration": 12,
    "start_time": "2022-04-04T17:30:03.449Z"
   },
   {
    "duration": 24,
    "start_time": "2022-04-04T17:30:03.463Z"
   },
   {
    "duration": 18,
    "start_time": "2022-04-04T17:30:03.488Z"
   },
   {
    "duration": 15,
    "start_time": "2022-04-04T17:30:03.509Z"
   },
   {
    "duration": 67,
    "start_time": "2022-04-04T20:44:45.087Z"
   },
   {
    "duration": 6,
    "start_time": "2022-04-04T20:45:01.017Z"
   },
   {
    "duration": 147,
    "start_time": "2022-04-04T20:45:59.526Z"
   },
   {
    "duration": 2,
    "start_time": "2022-04-04T20:47:20.807Z"
   },
   {
    "duration": 5,
    "start_time": "2022-04-04T20:47:29.150Z"
   },
   {
    "duration": 7,
    "start_time": "2022-04-04T20:47:44.680Z"
   },
   {
    "duration": 6,
    "start_time": "2022-04-04T20:48:00.967Z"
   },
   {
    "duration": 5,
    "start_time": "2022-04-04T20:48:15.479Z"
   },
   {
    "duration": 8,
    "start_time": "2022-04-04T20:48:22.160Z"
   },
   {
    "duration": 7,
    "start_time": "2022-04-04T20:48:27.718Z"
   },
   {
    "duration": 7,
    "start_time": "2022-04-04T20:48:32.339Z"
   },
   {
    "duration": 3,
    "start_time": "2022-04-04T20:49:11.014Z"
   },
   {
    "duration": 7,
    "start_time": "2022-04-04T20:49:12.378Z"
   },
   {
    "duration": 3,
    "start_time": "2022-04-04T20:51:16.261Z"
   },
   {
    "duration": 7,
    "start_time": "2022-04-04T20:51:17.510Z"
   },
   {
    "duration": 9,
    "start_time": "2022-04-04T20:51:52.600Z"
   },
   {
    "duration": 6,
    "start_time": "2022-04-04T20:52:19.221Z"
   },
   {
    "duration": 10,
    "start_time": "2022-04-04T20:52:23.604Z"
   },
   {
    "duration": 1714,
    "start_time": "2022-04-04T20:57:16.861Z"
   },
   {
    "duration": 7,
    "start_time": "2022-04-04T20:57:18.579Z"
   },
   {
    "duration": 1884,
    "start_time": "2022-04-04T20:57:33.405Z"
   },
   {
    "duration": 1615,
    "start_time": "2022-04-04T20:57:57.829Z"
   },
   {
    "duration": 1732,
    "start_time": "2022-04-04T20:58:11.644Z"
   },
   {
    "duration": 9,
    "start_time": "2022-04-04T20:58:37.277Z"
   },
   {
    "duration": 15,
    "start_time": "2022-04-04T20:58:39.135Z"
   },
   {
    "duration": 5,
    "start_time": "2022-04-04T21:13:20.313Z"
   },
   {
    "duration": 1799,
    "start_time": "2022-04-04T21:14:08.156Z"
   },
   {
    "duration": 0,
    "start_time": "2022-04-04T21:14:11.973Z"
   },
   {
    "duration": 2154,
    "start_time": "2022-04-04T21:14:14.480Z"
   },
   {
    "duration": 1848,
    "start_time": "2022-04-04T21:14:27.961Z"
   },
   {
    "duration": 17,
    "start_time": "2022-04-04T21:14:57.570Z"
   },
   {
    "duration": 4,
    "start_time": "2022-04-04T21:18:29.311Z"
   },
   {
    "duration": 3,
    "start_time": "2022-04-04T21:18:34.520Z"
   },
   {
    "duration": 3,
    "start_time": "2022-04-04T21:19:10.598Z"
   },
   {
    "duration": 3,
    "start_time": "2022-04-04T21:19:49.119Z"
   },
   {
    "duration": 3,
    "start_time": "2022-04-04T21:20:37.439Z"
   },
   {
    "duration": 3,
    "start_time": "2022-04-04T21:20:46.590Z"
   },
   {
    "duration": 58,
    "start_time": "2022-04-04T21:25:29.787Z"
   },
   {
    "duration": 15,
    "start_time": "2022-04-04T21:25:29.847Z"
   },
   {
    "duration": 6,
    "start_time": "2022-04-04T21:25:29.863Z"
   },
   {
    "duration": 4,
    "start_time": "2022-04-04T21:25:29.871Z"
   },
   {
    "duration": 7,
    "start_time": "2022-04-04T21:25:29.876Z"
   },
   {
    "duration": 5,
    "start_time": "2022-04-04T21:25:29.885Z"
   },
   {
    "duration": 16,
    "start_time": "2022-04-04T21:25:29.892Z"
   },
   {
    "duration": 14,
    "start_time": "2022-04-04T21:25:29.910Z"
   },
   {
    "duration": 13,
    "start_time": "2022-04-04T21:25:29.926Z"
   },
   {
    "duration": 26,
    "start_time": "2022-04-04T21:25:29.942Z"
   },
   {
    "duration": 8,
    "start_time": "2022-04-04T21:25:29.969Z"
   },
   {
    "duration": 15,
    "start_time": "2022-04-04T21:25:29.979Z"
   },
   {
    "duration": 6,
    "start_time": "2022-04-04T21:25:29.995Z"
   },
   {
    "duration": 17,
    "start_time": "2022-04-04T21:25:30.002Z"
   },
   {
    "duration": 24,
    "start_time": "2022-04-04T21:25:30.021Z"
   },
   {
    "duration": 24,
    "start_time": "2022-04-04T21:25:30.047Z"
   },
   {
    "duration": 12,
    "start_time": "2022-04-04T21:25:30.072Z"
   },
   {
    "duration": 22,
    "start_time": "2022-04-04T21:25:30.086Z"
   },
   {
    "duration": 21,
    "start_time": "2022-04-04T21:25:30.109Z"
   },
   {
    "duration": 18,
    "start_time": "2022-04-04T21:25:30.132Z"
   },
   {
    "duration": 14,
    "start_time": "2022-04-04T21:25:30.151Z"
   },
   {
    "duration": 7,
    "start_time": "2022-04-04T21:25:30.167Z"
   },
   {
    "duration": 15,
    "start_time": "2022-04-04T21:25:30.176Z"
   },
   {
    "duration": 27,
    "start_time": "2022-04-04T21:25:30.192Z"
   },
   {
    "duration": 13,
    "start_time": "2022-04-04T21:25:30.220Z"
   },
   {
    "duration": 18,
    "start_time": "2022-04-04T21:25:30.235Z"
   },
   {
    "duration": 15,
    "start_time": "2022-04-04T21:25:30.254Z"
   },
   {
    "duration": 9,
    "start_time": "2022-04-04T21:25:30.272Z"
   },
   {
    "duration": 10,
    "start_time": "2022-04-04T21:25:30.283Z"
   },
   {
    "duration": 138,
    "start_time": "2022-04-04T21:25:53.148Z"
   },
   {
    "duration": 3,
    "start_time": "2022-04-04T21:25:57.194Z"
   },
   {
    "duration": 123,
    "start_time": "2022-04-04T21:27:15.068Z"
   },
   {
    "duration": 2493,
    "start_time": "2022-04-04T21:27:24.109Z"
   },
   {
    "duration": 2455,
    "start_time": "2022-04-04T21:27:36.830Z"
   },
   {
    "duration": 2418,
    "start_time": "2022-04-04T21:27:39.901Z"
   },
   {
    "duration": 2450,
    "start_time": "2022-04-04T21:27:43.548Z"
   },
   {
    "duration": 1806,
    "start_time": "2022-04-04T21:28:20.069Z"
   },
   {
    "duration": 8,
    "start_time": "2022-04-04T21:28:47.849Z"
   },
   {
    "duration": 711,
    "start_time": "2022-04-04T21:32:52.731Z"
   },
   {
    "duration": 685,
    "start_time": "2022-04-04T21:33:23.786Z"
   },
   {
    "duration": 51,
    "start_time": "2022-04-04T21:35:36.838Z"
   },
   {
    "duration": 488,
    "start_time": "2022-04-04T21:35:43.243Z"
   },
   {
    "duration": 15,
    "start_time": "2022-04-04T21:35:43.733Z"
   },
   {
    "duration": 14,
    "start_time": "2022-04-04T21:35:43.749Z"
   },
   {
    "duration": 4,
    "start_time": "2022-04-04T21:35:43.765Z"
   },
   {
    "duration": 7,
    "start_time": "2022-04-04T21:35:43.770Z"
   },
   {
    "duration": 3,
    "start_time": "2022-04-04T21:35:43.778Z"
   },
   {
    "duration": 15,
    "start_time": "2022-04-04T21:35:43.783Z"
   },
   {
    "duration": 16,
    "start_time": "2022-04-04T21:35:43.799Z"
   },
   {
    "duration": 6,
    "start_time": "2022-04-04T21:35:43.816Z"
   },
   {
    "duration": 37,
    "start_time": "2022-04-04T21:35:43.826Z"
   },
   {
    "duration": 5,
    "start_time": "2022-04-04T21:35:43.865Z"
   },
   {
    "duration": 5,
    "start_time": "2022-04-04T21:35:43.872Z"
   },
   {
    "duration": 5,
    "start_time": "2022-04-04T21:35:43.879Z"
   },
   {
    "duration": 4,
    "start_time": "2022-04-04T21:35:43.885Z"
   },
   {
    "duration": 5,
    "start_time": "2022-04-04T21:35:43.890Z"
   },
   {
    "duration": 6,
    "start_time": "2022-04-04T21:35:43.896Z"
   },
   {
    "duration": 6,
    "start_time": "2022-04-04T21:35:43.903Z"
   },
   {
    "duration": 15,
    "start_time": "2022-04-04T21:35:43.910Z"
   },
   {
    "duration": 47,
    "start_time": "2022-04-04T21:35:43.927Z"
   },
   {
    "duration": 8,
    "start_time": "2022-04-04T21:35:43.975Z"
   },
   {
    "duration": 12,
    "start_time": "2022-04-04T21:35:43.985Z"
   },
   {
    "duration": 7,
    "start_time": "2022-04-04T21:35:43.999Z"
   },
   {
    "duration": 7,
    "start_time": "2022-04-04T21:35:44.008Z"
   },
   {
    "duration": 47,
    "start_time": "2022-04-04T21:35:44.017Z"
   },
   {
    "duration": 8,
    "start_time": "2022-04-04T21:35:44.065Z"
   },
   {
    "duration": 8,
    "start_time": "2022-04-04T21:35:44.074Z"
   },
   {
    "duration": 15,
    "start_time": "2022-04-04T21:35:44.083Z"
   },
   {
    "duration": 5,
    "start_time": "2022-04-04T21:35:44.101Z"
   },
   {
    "duration": 714,
    "start_time": "2022-04-04T21:35:44.107Z"
   },
   {
    "duration": 47,
    "start_time": "2022-04-04T21:37:03.394Z"
   },
   {
    "duration": 408,
    "start_time": "2022-04-04T21:37:16.209Z"
   },
   {
    "duration": 15,
    "start_time": "2022-04-04T21:37:16.619Z"
   },
   {
    "duration": 12,
    "start_time": "2022-04-04T21:37:16.636Z"
   },
   {
    "duration": 13,
    "start_time": "2022-04-04T21:37:16.650Z"
   },
   {
    "duration": 10,
    "start_time": "2022-04-04T21:37:16.665Z"
   },
   {
    "duration": 4,
    "start_time": "2022-04-04T21:37:16.677Z"
   },
   {
    "duration": 17,
    "start_time": "2022-04-04T21:37:16.682Z"
   },
   {
    "duration": 16,
    "start_time": "2022-04-04T21:37:16.701Z"
   },
   {
    "duration": 6,
    "start_time": "2022-04-04T21:37:16.719Z"
   },
   {
    "duration": 34,
    "start_time": "2022-04-04T21:37:16.729Z"
   },
   {
    "duration": 5,
    "start_time": "2022-04-04T21:37:16.764Z"
   },
   {
    "duration": 18,
    "start_time": "2022-04-04T21:37:16.771Z"
   },
   {
    "duration": 13,
    "start_time": "2022-04-04T21:37:16.791Z"
   },
   {
    "duration": 15,
    "start_time": "2022-04-04T21:37:16.806Z"
   },
   {
    "duration": 12,
    "start_time": "2022-04-04T21:37:16.822Z"
   },
   {
    "duration": 18,
    "start_time": "2022-04-04T21:37:16.835Z"
   },
   {
    "duration": 14,
    "start_time": "2022-04-04T21:37:16.854Z"
   },
   {
    "duration": 21,
    "start_time": "2022-04-04T21:37:16.869Z"
   },
   {
    "duration": 14,
    "start_time": "2022-04-04T21:37:16.892Z"
   },
   {
    "duration": 16,
    "start_time": "2022-04-04T21:37:16.907Z"
   },
   {
    "duration": 15,
    "start_time": "2022-04-04T21:37:16.925Z"
   },
   {
    "duration": 15,
    "start_time": "2022-04-04T21:37:16.942Z"
   },
   {
    "duration": 10,
    "start_time": "2022-04-04T21:37:16.959Z"
   },
   {
    "duration": 25,
    "start_time": "2022-04-04T21:37:16.970Z"
   },
   {
    "duration": 19,
    "start_time": "2022-04-04T21:37:16.997Z"
   },
   {
    "duration": 19,
    "start_time": "2022-04-04T21:37:17.018Z"
   },
   {
    "duration": 17,
    "start_time": "2022-04-04T21:37:17.039Z"
   },
   {
    "duration": 22,
    "start_time": "2022-04-04T21:37:17.059Z"
   },
   {
    "duration": 706,
    "start_time": "2022-04-04T21:37:17.083Z"
   },
   {
    "duration": 5,
    "start_time": "2022-04-04T21:40:23.108Z"
   },
   {
    "duration": 53,
    "start_time": "2022-04-04T21:40:57.587Z"
   },
   {
    "duration": 15,
    "start_time": "2022-04-04T21:40:57.642Z"
   },
   {
    "duration": 7,
    "start_time": "2022-04-04T21:40:57.658Z"
   },
   {
    "duration": 8,
    "start_time": "2022-04-04T21:40:57.667Z"
   },
   {
    "duration": 7,
    "start_time": "2022-04-04T21:40:57.676Z"
   },
   {
    "duration": 3,
    "start_time": "2022-04-04T21:40:57.684Z"
   },
   {
    "duration": 18,
    "start_time": "2022-04-04T21:40:57.689Z"
   },
   {
    "duration": 15,
    "start_time": "2022-04-04T21:40:57.709Z"
   },
   {
    "duration": 15,
    "start_time": "2022-04-04T21:40:57.726Z"
   },
   {
    "duration": 21,
    "start_time": "2022-04-04T21:40:57.745Z"
   },
   {
    "duration": 7,
    "start_time": "2022-04-04T21:40:57.768Z"
   },
   {
    "duration": 8,
    "start_time": "2022-04-04T21:40:57.777Z"
   },
   {
    "duration": 11,
    "start_time": "2022-04-04T21:40:57.787Z"
   },
   {
    "duration": 3,
    "start_time": "2022-04-04T21:40:57.800Z"
   },
   {
    "duration": 6,
    "start_time": "2022-04-04T21:40:57.805Z"
   },
   {
    "duration": 6,
    "start_time": "2022-04-04T21:40:57.813Z"
   },
   {
    "duration": 5,
    "start_time": "2022-04-04T21:40:57.821Z"
   },
   {
    "duration": 40,
    "start_time": "2022-04-04T21:40:57.828Z"
   },
   {
    "duration": 13,
    "start_time": "2022-04-04T21:40:57.870Z"
   },
   {
    "duration": 7,
    "start_time": "2022-04-04T21:40:57.884Z"
   },
   {
    "duration": 11,
    "start_time": "2022-04-04T21:40:57.893Z"
   },
   {
    "duration": 9,
    "start_time": "2022-04-04T21:40:57.905Z"
   },
   {
    "duration": 7,
    "start_time": "2022-04-04T21:40:57.916Z"
   },
   {
    "duration": 49,
    "start_time": "2022-04-04T21:40:57.925Z"
   },
   {
    "duration": 11,
    "start_time": "2022-04-04T21:40:57.976Z"
   },
   {
    "duration": 10,
    "start_time": "2022-04-04T21:40:57.989Z"
   },
   {
    "duration": 10,
    "start_time": "2022-04-04T21:40:58.001Z"
   },
   {
    "duration": 5,
    "start_time": "2022-04-04T21:40:58.015Z"
   },
   {
    "duration": 11,
    "start_time": "2022-04-04T21:40:58.021Z"
   },
   {
    "duration": 35,
    "start_time": "2022-04-04T21:41:37.393Z"
   },
   {
    "duration": 11,
    "start_time": "2022-04-04T21:42:04.847Z"
   },
   {
    "duration": 5,
    "start_time": "2022-04-04T21:43:06.037Z"
   },
   {
    "duration": 12,
    "start_time": "2022-04-04T21:55:35.193Z"
   },
   {
    "duration": 11,
    "start_time": "2022-04-04T21:55:45.827Z"
   },
   {
    "duration": 11,
    "start_time": "2022-04-04T21:55:55.178Z"
   },
   {
    "duration": 13,
    "start_time": "2022-04-04T21:57:59.769Z"
   },
   {
    "duration": 12,
    "start_time": "2022-04-04T21:58:04.880Z"
   },
   {
    "duration": 18,
    "start_time": "2022-04-04T22:04:33.821Z"
   },
   {
    "duration": 19,
    "start_time": "2022-04-04T22:04:53.373Z"
   },
   {
    "duration": 7,
    "start_time": "2022-04-04T22:05:26.419Z"
   },
   {
    "duration": 5,
    "start_time": "2022-04-04T22:05:43.783Z"
   },
   {
    "duration": 11,
    "start_time": "2022-04-04T22:05:54.055Z"
   },
   {
    "duration": 20,
    "start_time": "2022-04-04T22:06:15.151Z"
   },
   {
    "duration": 16,
    "start_time": "2022-04-04T22:06:17.783Z"
   },
   {
    "duration": 15,
    "start_time": "2022-04-04T22:06:44.399Z"
   },
   {
    "duration": 23,
    "start_time": "2022-04-04T22:07:53.908Z"
   },
   {
    "duration": 5,
    "start_time": "2022-04-04T22:11:33.470Z"
   },
   {
    "duration": 5,
    "start_time": "2022-04-04T22:14:24.285Z"
   },
   {
    "duration": 7,
    "start_time": "2022-04-04T22:14:31.085Z"
   },
   {
    "duration": 6,
    "start_time": "2022-04-04T22:14:51.549Z"
   },
   {
    "duration": 9,
    "start_time": "2022-04-04T22:15:07.397Z"
   },
   {
    "duration": 8,
    "start_time": "2022-04-04T22:15:19.573Z"
   },
   {
    "duration": 9,
    "start_time": "2022-04-04T22:16:50.867Z"
   },
   {
    "duration": 7,
    "start_time": "2022-04-04T22:16:56.092Z"
   },
   {
    "duration": 13,
    "start_time": "2022-04-04T22:17:32.444Z"
   },
   {
    "duration": 10,
    "start_time": "2022-04-04T22:17:39.899Z"
   },
   {
    "duration": 13,
    "start_time": "2022-04-04T22:18:53.568Z"
   },
   {
    "duration": 11,
    "start_time": "2022-04-04T22:19:09.107Z"
   },
   {
    "duration": 11,
    "start_time": "2022-04-04T22:19:11.957Z"
   },
   {
    "duration": 8,
    "start_time": "2022-04-04T22:23:51.332Z"
   },
   {
    "duration": 8,
    "start_time": "2022-04-04T22:24:23.098Z"
   },
   {
    "duration": 8,
    "start_time": "2022-04-04T22:24:56.803Z"
   },
   {
    "duration": 8,
    "start_time": "2022-04-04T22:25:07.610Z"
   },
   {
    "duration": 8,
    "start_time": "2022-04-04T22:25:56.860Z"
   },
   {
    "duration": 7,
    "start_time": "2022-04-04T22:26:41.330Z"
   },
   {
    "duration": 9,
    "start_time": "2022-04-04T22:26:50.024Z"
   },
   {
    "duration": 8,
    "start_time": "2022-04-04T22:27:55.962Z"
   },
   {
    "duration": 55,
    "start_time": "2022-04-04T22:29:28.801Z"
   },
   {
    "duration": 16,
    "start_time": "2022-04-04T22:29:28.857Z"
   },
   {
    "duration": 6,
    "start_time": "2022-04-04T22:29:28.874Z"
   },
   {
    "duration": 5,
    "start_time": "2022-04-04T22:29:28.881Z"
   },
   {
    "duration": 6,
    "start_time": "2022-04-04T22:29:28.888Z"
   },
   {
    "duration": 3,
    "start_time": "2022-04-04T22:29:28.896Z"
   },
   {
    "duration": 15,
    "start_time": "2022-04-04T22:29:28.900Z"
   },
   {
    "duration": 13,
    "start_time": "2022-04-04T22:29:28.917Z"
   },
   {
    "duration": 33,
    "start_time": "2022-04-04T22:29:28.931Z"
   },
   {
    "duration": 6,
    "start_time": "2022-04-04T22:29:28.965Z"
   },
   {
    "duration": 10,
    "start_time": "2022-04-04T22:29:28.972Z"
   },
   {
    "duration": 9,
    "start_time": "2022-04-04T22:29:28.983Z"
   },
   {
    "duration": 12,
    "start_time": "2022-04-04T22:29:28.994Z"
   },
   {
    "duration": 3,
    "start_time": "2022-04-04T22:29:29.009Z"
   },
   {
    "duration": 9,
    "start_time": "2022-04-04T22:29:29.013Z"
   },
   {
    "duration": 6,
    "start_time": "2022-04-04T22:29:29.023Z"
   },
   {
    "duration": 6,
    "start_time": "2022-04-04T22:29:29.030Z"
   },
   {
    "duration": 38,
    "start_time": "2022-04-04T22:29:29.037Z"
   },
   {
    "duration": 13,
    "start_time": "2022-04-04T22:29:29.077Z"
   },
   {
    "duration": 7,
    "start_time": "2022-04-04T22:29:29.092Z"
   },
   {
    "duration": 12,
    "start_time": "2022-04-04T22:29:29.100Z"
   },
   {
    "duration": 11,
    "start_time": "2022-04-04T22:29:29.114Z"
   },
   {
    "duration": 37,
    "start_time": "2022-04-04T22:29:29.127Z"
   },
   {
    "duration": 21,
    "start_time": "2022-04-04T22:29:29.167Z"
   },
   {
    "duration": 10,
    "start_time": "2022-04-04T22:29:29.190Z"
   },
   {
    "duration": 9,
    "start_time": "2022-04-04T22:29:29.202Z"
   },
   {
    "duration": 10,
    "start_time": "2022-04-04T22:29:29.213Z"
   },
   {
    "duration": 118,
    "start_time": "2022-04-04T22:29:29.225Z"
   },
   {
    "duration": 46,
    "start_time": "2022-04-04T22:30:33.615Z"
   },
   {
    "duration": 36,
    "start_time": "2022-04-04T22:30:48.919Z"
   },
   {
    "duration": 37,
    "start_time": "2022-04-04T22:30:59.697Z"
   },
   {
    "duration": 37,
    "start_time": "2022-04-04T22:31:26.561Z"
   },
   {
    "duration": 36,
    "start_time": "2022-04-04T22:31:33.401Z"
   },
   {
    "duration": 45,
    "start_time": "2022-04-04T22:31:46.859Z"
   },
   {
    "duration": 40,
    "start_time": "2022-04-04T22:35:06.655Z"
   },
   {
    "duration": 30,
    "start_time": "2022-04-04T22:37:06.022Z"
   },
   {
    "duration": 19,
    "start_time": "2022-04-04T22:38:52.230Z"
   },
   {
    "duration": 54,
    "start_time": "2022-04-04T22:39:00.148Z"
   },
   {
    "duration": 14,
    "start_time": "2022-04-04T22:39:00.203Z"
   },
   {
    "duration": 5,
    "start_time": "2022-04-04T22:39:00.219Z"
   },
   {
    "duration": 8,
    "start_time": "2022-04-04T22:39:00.226Z"
   },
   {
    "duration": 29,
    "start_time": "2022-04-04T22:39:00.235Z"
   },
   {
    "duration": 11,
    "start_time": "2022-04-04T22:39:00.265Z"
   },
   {
    "duration": 15,
    "start_time": "2022-04-04T22:39:00.277Z"
   },
   {
    "duration": 14,
    "start_time": "2022-04-04T22:39:00.293Z"
   },
   {
    "duration": 11,
    "start_time": "2022-04-04T22:39:00.308Z"
   },
   {
    "duration": 5,
    "start_time": "2022-04-04T22:39:00.321Z"
   },
   {
    "duration": 8,
    "start_time": "2022-04-04T22:39:00.327Z"
   },
   {
    "duration": 6,
    "start_time": "2022-04-04T22:39:00.336Z"
   },
   {
    "duration": 5,
    "start_time": "2022-04-04T22:39:00.363Z"
   },
   {
    "duration": 7,
    "start_time": "2022-04-04T22:39:00.370Z"
   },
   {
    "duration": 12,
    "start_time": "2022-04-04T22:39:00.378Z"
   },
   {
    "duration": 9,
    "start_time": "2022-04-04T22:39:00.391Z"
   },
   {
    "duration": 9,
    "start_time": "2022-04-04T22:39:00.401Z"
   },
   {
    "duration": 28,
    "start_time": "2022-04-04T22:39:00.412Z"
   },
   {
    "duration": 20,
    "start_time": "2022-04-04T22:39:00.441Z"
   },
   {
    "duration": 16,
    "start_time": "2022-04-04T22:39:00.462Z"
   },
   {
    "duration": 13,
    "start_time": "2022-04-04T22:39:00.479Z"
   },
   {
    "duration": 11,
    "start_time": "2022-04-04T22:39:00.493Z"
   },
   {
    "duration": 20,
    "start_time": "2022-04-04T22:39:00.505Z"
   },
   {
    "duration": 22,
    "start_time": "2022-04-04T22:39:00.527Z"
   },
   {
    "duration": 13,
    "start_time": "2022-04-04T22:39:00.551Z"
   },
   {
    "duration": 15,
    "start_time": "2022-04-04T22:39:00.566Z"
   },
   {
    "duration": 14,
    "start_time": "2022-04-04T22:39:00.583Z"
   },
   {
    "duration": 17,
    "start_time": "2022-04-04T22:39:00.600Z"
   },
   {
    "duration": 20,
    "start_time": "2022-04-04T22:39:11.143Z"
   },
   {
    "duration": 20,
    "start_time": "2022-04-04T22:39:24.540Z"
   },
   {
    "duration": 22,
    "start_time": "2022-04-04T22:39:41.942Z"
   },
   {
    "duration": 24,
    "start_time": "2022-04-04T22:39:44.839Z"
   },
   {
    "duration": 24,
    "start_time": "2022-04-04T22:39:47.383Z"
   },
   {
    "duration": 26,
    "start_time": "2022-04-04T22:40:09.909Z"
   },
   {
    "duration": 28,
    "start_time": "2022-04-04T22:40:20.389Z"
   },
   {
    "duration": 30,
    "start_time": "2022-04-04T22:40:46.676Z"
   },
   {
    "duration": 18,
    "start_time": "2022-04-04T22:41:07.525Z"
   },
   {
    "duration": 17,
    "start_time": "2022-04-04T22:41:29.052Z"
   },
   {
    "duration": 28,
    "start_time": "2022-04-04T22:41:36.460Z"
   },
   {
    "duration": 25,
    "start_time": "2022-04-04T22:41:46.230Z"
   },
   {
    "duration": 18,
    "start_time": "2022-04-04T22:41:59.124Z"
   },
   {
    "duration": 7,
    "start_time": "2022-04-04T22:43:19.732Z"
   },
   {
    "duration": 53,
    "start_time": "2022-04-04T22:43:24.527Z"
   },
   {
    "duration": 13,
    "start_time": "2022-04-04T22:43:24.582Z"
   },
   {
    "duration": 4,
    "start_time": "2022-04-04T22:43:24.597Z"
   },
   {
    "duration": 7,
    "start_time": "2022-04-04T22:43:24.603Z"
   },
   {
    "duration": 9,
    "start_time": "2022-04-04T22:43:24.612Z"
   },
   {
    "duration": 5,
    "start_time": "2022-04-04T22:43:24.622Z"
   },
   {
    "duration": 37,
    "start_time": "2022-04-04T22:43:24.628Z"
   },
   {
    "duration": 50,
    "start_time": "2022-04-04T22:43:24.667Z"
   },
   {
    "duration": 8,
    "start_time": "2022-04-04T22:43:24.718Z"
   },
   {
    "duration": 5,
    "start_time": "2022-04-04T22:43:24.727Z"
   },
   {
    "duration": 6,
    "start_time": "2022-04-04T22:43:24.733Z"
   },
   {
    "duration": 26,
    "start_time": "2022-04-04T22:43:24.740Z"
   },
   {
    "duration": 4,
    "start_time": "2022-04-04T22:43:24.768Z"
   },
   {
    "duration": 3,
    "start_time": "2022-04-04T22:43:24.775Z"
   },
   {
    "duration": 5,
    "start_time": "2022-04-04T22:43:24.780Z"
   },
   {
    "duration": 6,
    "start_time": "2022-04-04T22:43:24.787Z"
   },
   {
    "duration": 5,
    "start_time": "2022-04-04T22:43:24.795Z"
   },
   {
    "duration": 15,
    "start_time": "2022-04-04T22:43:24.802Z"
   },
   {
    "duration": 13,
    "start_time": "2022-04-04T22:43:24.818Z"
   },
   {
    "duration": 32,
    "start_time": "2022-04-04T22:43:24.832Z"
   },
   {
    "duration": 11,
    "start_time": "2022-04-04T22:43:24.865Z"
   },
   {
    "duration": 12,
    "start_time": "2022-04-04T22:43:24.878Z"
   },
   {
    "duration": 7,
    "start_time": "2022-04-04T22:43:24.892Z"
   },
   {
    "duration": 18,
    "start_time": "2022-04-04T22:43:24.901Z"
   },
   {
    "duration": 6,
    "start_time": "2022-04-04T22:43:24.921Z"
   },
   {
    "duration": 38,
    "start_time": "2022-04-04T22:43:24.928Z"
   },
   {
    "duration": 9,
    "start_time": "2022-04-04T22:43:24.967Z"
   },
   {
    "duration": 18,
    "start_time": "2022-04-04T22:43:24.978Z"
   },
   {
    "duration": 12,
    "start_time": "2022-04-04T22:56:06.995Z"
   },
   {
    "duration": 15,
    "start_time": "2022-04-04T22:56:14.353Z"
   },
   {
    "duration": 18,
    "start_time": "2022-04-04T23:03:29.656Z"
   },
   {
    "duration": 53,
    "start_time": "2022-04-04T23:04:05.831Z"
   },
   {
    "duration": 14,
    "start_time": "2022-04-04T23:04:05.886Z"
   },
   {
    "duration": 5,
    "start_time": "2022-04-04T23:04:05.902Z"
   },
   {
    "duration": 5,
    "start_time": "2022-04-04T23:04:05.908Z"
   },
   {
    "duration": 5,
    "start_time": "2022-04-04T23:04:05.915Z"
   },
   {
    "duration": 4,
    "start_time": "2022-04-04T23:04:05.921Z"
   },
   {
    "duration": 45,
    "start_time": "2022-04-04T23:04:05.926Z"
   },
   {
    "duration": 15,
    "start_time": "2022-04-04T23:04:05.973Z"
   },
   {
    "duration": 6,
    "start_time": "2022-04-04T23:04:05.990Z"
   },
   {
    "duration": 6,
    "start_time": "2022-04-04T23:04:05.998Z"
   },
   {
    "duration": 6,
    "start_time": "2022-04-04T23:04:06.005Z"
   },
   {
    "duration": 11,
    "start_time": "2022-04-04T23:04:06.013Z"
   },
   {
    "duration": 5,
    "start_time": "2022-04-04T23:04:06.025Z"
   },
   {
    "duration": 5,
    "start_time": "2022-04-04T23:04:06.062Z"
   },
   {
    "duration": 6,
    "start_time": "2022-04-04T23:04:06.068Z"
   },
   {
    "duration": 7,
    "start_time": "2022-04-04T23:04:06.075Z"
   },
   {
    "duration": 4,
    "start_time": "2022-04-04T23:04:06.083Z"
   },
   {
    "duration": 15,
    "start_time": "2022-04-04T23:04:06.089Z"
   },
   {
    "duration": 12,
    "start_time": "2022-04-04T23:04:06.105Z"
   },
   {
    "duration": 8,
    "start_time": "2022-04-04T23:04:06.119Z"
   },
   {
    "duration": 42,
    "start_time": "2022-04-04T23:04:06.129Z"
   },
   {
    "duration": 8,
    "start_time": "2022-04-04T23:04:06.172Z"
   },
   {
    "duration": 7,
    "start_time": "2022-04-04T23:04:06.182Z"
   },
   {
    "duration": 19,
    "start_time": "2022-04-04T23:04:06.191Z"
   },
   {
    "duration": 7,
    "start_time": "2022-04-04T23:04:06.211Z"
   },
   {
    "duration": 9,
    "start_time": "2022-04-04T23:04:06.220Z"
   },
   {
    "duration": 38,
    "start_time": "2022-04-04T23:04:06.230Z"
   },
   {
    "duration": 21,
    "start_time": "2022-04-04T23:04:06.270Z"
   },
   {
    "duration": 13,
    "start_time": "2022-04-04T23:04:06.293Z"
   },
   {
    "duration": 15,
    "start_time": "2022-04-04T23:04:06.308Z"
   },
   {
    "duration": 110,
    "start_time": "2022-04-04T23:07:29.920Z"
   },
   {
    "duration": 19,
    "start_time": "2022-04-04T23:07:39.119Z"
   },
   {
    "duration": 19,
    "start_time": "2022-04-04T23:08:14.439Z"
   },
   {
    "duration": 20,
    "start_time": "2022-04-04T23:08:45.015Z"
   },
   {
    "duration": 16,
    "start_time": "2022-04-04T23:08:46.950Z"
   },
   {
    "duration": 54,
    "start_time": "2022-04-04T23:08:49.523Z"
   },
   {
    "duration": 14,
    "start_time": "2022-04-04T23:08:49.578Z"
   },
   {
    "duration": 23,
    "start_time": "2022-04-04T23:08:49.593Z"
   },
   {
    "duration": 5,
    "start_time": "2022-04-04T23:08:49.617Z"
   },
   {
    "duration": 5,
    "start_time": "2022-04-04T23:08:49.623Z"
   },
   {
    "duration": 3,
    "start_time": "2022-04-04T23:08:49.630Z"
   },
   {
    "duration": 33,
    "start_time": "2022-04-04T23:08:49.634Z"
   },
   {
    "duration": 14,
    "start_time": "2022-04-04T23:08:49.669Z"
   },
   {
    "duration": 8,
    "start_time": "2022-04-04T23:08:49.684Z"
   },
   {
    "duration": 5,
    "start_time": "2022-04-04T23:08:49.695Z"
   },
   {
    "duration": 6,
    "start_time": "2022-04-04T23:08:49.701Z"
   },
   {
    "duration": 5,
    "start_time": "2022-04-04T23:08:49.708Z"
   },
   {
    "duration": 5,
    "start_time": "2022-04-04T23:08:49.714Z"
   },
   {
    "duration": 3,
    "start_time": "2022-04-04T23:08:49.721Z"
   },
   {
    "duration": 7,
    "start_time": "2022-04-04T23:08:49.725Z"
   },
   {
    "duration": 34,
    "start_time": "2022-04-04T23:08:49.733Z"
   },
   {
    "duration": 6,
    "start_time": "2022-04-04T23:08:49.768Z"
   },
   {
    "duration": 16,
    "start_time": "2022-04-04T23:08:49.775Z"
   },
   {
    "duration": 13,
    "start_time": "2022-04-04T23:08:49.792Z"
   },
   {
    "duration": 7,
    "start_time": "2022-04-04T23:08:49.807Z"
   },
   {
    "duration": 20,
    "start_time": "2022-04-04T23:08:49.816Z"
   },
   {
    "duration": 30,
    "start_time": "2022-04-04T23:08:49.838Z"
   },
   {
    "duration": 8,
    "start_time": "2022-04-04T23:08:49.870Z"
   },
   {
    "duration": 20,
    "start_time": "2022-04-04T23:08:49.880Z"
   },
   {
    "duration": 7,
    "start_time": "2022-04-04T23:08:49.901Z"
   },
   {
    "duration": 8,
    "start_time": "2022-04-04T23:08:49.909Z"
   },
   {
    "duration": 8,
    "start_time": "2022-04-04T23:08:49.918Z"
   },
   {
    "duration": 44,
    "start_time": "2022-04-04T23:08:49.929Z"
   },
   {
    "duration": 11,
    "start_time": "2022-04-04T23:08:49.975Z"
   },
   {
    "duration": 19,
    "start_time": "2022-04-04T23:08:49.988Z"
   },
   {
    "duration": 17,
    "start_time": "2022-04-04T23:09:30.542Z"
   },
   {
    "duration": 16,
    "start_time": "2022-04-04T23:10:57.695Z"
   },
   {
    "duration": 15,
    "start_time": "2022-04-04T23:11:10.663Z"
   },
   {
    "duration": 55,
    "start_time": "2022-04-04T23:11:21.851Z"
   },
   {
    "duration": 15,
    "start_time": "2022-04-04T23:11:21.908Z"
   },
   {
    "duration": 7,
    "start_time": "2022-04-04T23:11:21.924Z"
   },
   {
    "duration": 31,
    "start_time": "2022-04-04T23:11:21.932Z"
   },
   {
    "duration": 6,
    "start_time": "2022-04-04T23:11:21.966Z"
   },
   {
    "duration": 5,
    "start_time": "2022-04-04T23:11:21.973Z"
   },
   {
    "duration": 19,
    "start_time": "2022-04-04T23:11:21.979Z"
   },
   {
    "duration": 15,
    "start_time": "2022-04-04T23:11:21.999Z"
   },
   {
    "duration": 8,
    "start_time": "2022-04-04T23:11:22.016Z"
   },
   {
    "duration": 38,
    "start_time": "2022-04-04T23:11:22.025Z"
   },
   {
    "duration": 7,
    "start_time": "2022-04-04T23:11:22.065Z"
   },
   {
    "duration": 6,
    "start_time": "2022-04-04T23:11:22.074Z"
   },
   {
    "duration": 6,
    "start_time": "2022-04-04T23:11:22.081Z"
   },
   {
    "duration": 5,
    "start_time": "2022-04-04T23:11:22.091Z"
   },
   {
    "duration": 4,
    "start_time": "2022-04-04T23:11:22.098Z"
   },
   {
    "duration": 6,
    "start_time": "2022-04-04T23:11:22.103Z"
   },
   {
    "duration": 5,
    "start_time": "2022-04-04T23:11:22.111Z"
   },
   {
    "duration": 53,
    "start_time": "2022-04-04T23:11:22.117Z"
   },
   {
    "duration": 13,
    "start_time": "2022-04-04T23:11:22.172Z"
   },
   {
    "duration": 6,
    "start_time": "2022-04-04T23:11:22.187Z"
   },
   {
    "duration": 12,
    "start_time": "2022-04-04T23:11:22.195Z"
   },
   {
    "duration": 12,
    "start_time": "2022-04-04T23:11:22.208Z"
   },
   {
    "duration": 8,
    "start_time": "2022-04-04T23:11:22.221Z"
   },
   {
    "duration": 40,
    "start_time": "2022-04-04T23:11:22.231Z"
   },
   {
    "duration": 6,
    "start_time": "2022-04-04T23:11:22.273Z"
   },
   {
    "duration": 8,
    "start_time": "2022-04-04T23:11:22.281Z"
   },
   {
    "duration": 8,
    "start_time": "2022-04-04T23:11:22.291Z"
   },
   {
    "duration": 18,
    "start_time": "2022-04-04T23:11:22.301Z"
   },
   {
    "duration": 43,
    "start_time": "2022-04-04T23:11:22.321Z"
   },
   {
    "duration": 15,
    "start_time": "2022-04-04T23:11:22.366Z"
   },
   {
    "duration": 16,
    "start_time": "2022-04-04T23:12:26.103Z"
   },
   {
    "duration": 56,
    "start_time": "2022-04-04T23:12:31.044Z"
   },
   {
    "duration": 14,
    "start_time": "2022-04-04T23:12:31.102Z"
   },
   {
    "duration": 6,
    "start_time": "2022-04-04T23:12:31.117Z"
   },
   {
    "duration": 10,
    "start_time": "2022-04-04T23:12:31.125Z"
   },
   {
    "duration": 18,
    "start_time": "2022-04-04T23:12:31.136Z"
   },
   {
    "duration": 3,
    "start_time": "2022-04-04T23:12:31.163Z"
   },
   {
    "duration": 18,
    "start_time": "2022-04-04T23:12:31.168Z"
   },
   {
    "duration": 16,
    "start_time": "2022-04-04T23:12:31.187Z"
   },
   {
    "duration": 9,
    "start_time": "2022-04-04T23:12:31.205Z"
   },
   {
    "duration": 17,
    "start_time": "2022-04-04T23:12:31.218Z"
   },
   {
    "duration": 17,
    "start_time": "2022-04-04T23:12:31.237Z"
   },
   {
    "duration": 16,
    "start_time": "2022-04-04T23:12:31.256Z"
   },
   {
    "duration": 11,
    "start_time": "2022-04-04T23:12:31.273Z"
   },
   {
    "duration": 9,
    "start_time": "2022-04-04T23:12:31.285Z"
   },
   {
    "duration": 8,
    "start_time": "2022-04-04T23:12:31.295Z"
   },
   {
    "duration": 8,
    "start_time": "2022-04-04T23:12:31.305Z"
   },
   {
    "duration": 9,
    "start_time": "2022-04-04T23:12:31.314Z"
   },
   {
    "duration": 22,
    "start_time": "2022-04-04T23:12:31.325Z"
   },
   {
    "duration": 28,
    "start_time": "2022-04-04T23:12:31.348Z"
   },
   {
    "duration": 13,
    "start_time": "2022-04-04T23:12:31.377Z"
   },
   {
    "duration": 16,
    "start_time": "2022-04-04T23:12:31.392Z"
   },
   {
    "duration": 45,
    "start_time": "2022-04-04T23:12:31.409Z"
   },
   {
    "duration": 13,
    "start_time": "2022-04-04T23:12:31.456Z"
   },
   {
    "duration": 25,
    "start_time": "2022-04-04T23:12:31.471Z"
   },
   {
    "duration": 16,
    "start_time": "2022-04-04T23:12:31.497Z"
   },
   {
    "duration": 19,
    "start_time": "2022-04-04T23:12:31.514Z"
   },
   {
    "duration": 21,
    "start_time": "2022-04-04T23:12:31.535Z"
   },
   {
    "duration": 24,
    "start_time": "2022-04-04T23:12:31.560Z"
   },
   {
    "duration": 37,
    "start_time": "2022-04-04T23:12:31.586Z"
   },
   {
    "duration": 25,
    "start_time": "2022-04-04T23:12:31.625Z"
   },
   {
    "duration": 6,
    "start_time": "2022-04-04T23:20:17.443Z"
   },
   {
    "duration": 9,
    "start_time": "2022-04-04T23:20:24.822Z"
   },
   {
    "duration": 4,
    "start_time": "2022-04-04T23:22:26.475Z"
   },
   {
    "duration": 9,
    "start_time": "2022-04-04T23:22:32.052Z"
   },
   {
    "duration": 8,
    "start_time": "2022-04-04T23:22:45.700Z"
   },
   {
    "duration": 10,
    "start_time": "2022-04-04T23:26:29.234Z"
   },
   {
    "duration": 10,
    "start_time": "2022-04-04T23:26:43.750Z"
   },
   {
    "duration": 109,
    "start_time": "2022-04-04T23:26:52.243Z"
   },
   {
    "duration": 6,
    "start_time": "2022-04-04T23:27:01.050Z"
   },
   {
    "duration": 6,
    "start_time": "2022-04-04T23:34:57.704Z"
   },
   {
    "duration": 14,
    "start_time": "2022-04-04T23:35:01.392Z"
   },
   {
    "duration": 11,
    "start_time": "2022-04-04T23:35:06.718Z"
   },
   {
    "duration": 55,
    "start_time": "2022-04-04T23:35:10.168Z"
   },
   {
    "duration": 14,
    "start_time": "2022-04-04T23:35:10.225Z"
   },
   {
    "duration": 5,
    "start_time": "2022-04-04T23:35:10.241Z"
   },
   {
    "duration": 4,
    "start_time": "2022-04-04T23:35:10.263Z"
   },
   {
    "duration": 7,
    "start_time": "2022-04-04T23:35:10.268Z"
   },
   {
    "duration": 4,
    "start_time": "2022-04-04T23:35:10.277Z"
   },
   {
    "duration": 16,
    "start_time": "2022-04-04T23:35:10.282Z"
   },
   {
    "duration": 15,
    "start_time": "2022-04-04T23:35:10.300Z"
   },
   {
    "duration": 17,
    "start_time": "2022-04-04T23:35:10.317Z"
   },
   {
    "duration": 31,
    "start_time": "2022-04-04T23:35:10.337Z"
   },
   {
    "duration": 8,
    "start_time": "2022-04-04T23:35:10.369Z"
   },
   {
    "duration": 6,
    "start_time": "2022-04-04T23:35:10.379Z"
   },
   {
    "duration": 4,
    "start_time": "2022-04-04T23:35:10.387Z"
   },
   {
    "duration": 5,
    "start_time": "2022-04-04T23:35:10.392Z"
   },
   {
    "duration": 5,
    "start_time": "2022-04-04T23:35:10.398Z"
   },
   {
    "duration": 7,
    "start_time": "2022-04-04T23:35:10.405Z"
   },
   {
    "duration": 5,
    "start_time": "2022-04-04T23:35:10.414Z"
   },
   {
    "duration": 42,
    "start_time": "2022-04-04T23:35:10.421Z"
   },
   {
    "duration": 13,
    "start_time": "2022-04-04T23:35:10.465Z"
   },
   {
    "duration": 6,
    "start_time": "2022-04-04T23:35:10.480Z"
   },
   {
    "duration": 11,
    "start_time": "2022-04-04T23:35:10.488Z"
   },
   {
    "duration": 11,
    "start_time": "2022-04-04T23:35:10.501Z"
   },
   {
    "duration": 9,
    "start_time": "2022-04-04T23:35:10.513Z"
   },
   {
    "duration": 40,
    "start_time": "2022-04-04T23:35:10.524Z"
   },
   {
    "duration": 7,
    "start_time": "2022-04-04T23:35:10.565Z"
   },
   {
    "duration": 9,
    "start_time": "2022-04-04T23:35:10.573Z"
   },
   {
    "duration": 9,
    "start_time": "2022-04-04T23:35:10.583Z"
   },
   {
    "duration": 17,
    "start_time": "2022-04-04T23:35:10.595Z"
   },
   {
    "duration": 10,
    "start_time": "2022-04-04T23:35:10.613Z"
   },
   {
    "duration": 41,
    "start_time": "2022-04-04T23:35:10.625Z"
   },
   {
    "duration": 7,
    "start_time": "2022-04-04T23:35:10.668Z"
   },
   {
    "duration": 3,
    "start_time": "2022-04-04T23:35:10.677Z"
   },
   {
    "duration": 5,
    "start_time": "2022-04-04T23:35:10.682Z"
   },
   {
    "duration": 14,
    "start_time": "2022-04-04T23:35:18.869Z"
   },
   {
    "duration": 10,
    "start_time": "2022-04-04T23:35:42.545Z"
   },
   {
    "duration": 3,
    "start_time": "2022-04-04T23:44:13.624Z"
   },
   {
    "duration": 10,
    "start_time": "2022-04-04T23:44:26.646Z"
   },
   {
    "duration": 15,
    "start_time": "2022-04-04T23:47:12.990Z"
   },
   {
    "duration": 433,
    "start_time": "2022-04-04T23:47:24.711Z"
   },
   {
    "duration": 421,
    "start_time": "2022-04-04T23:47:41.303Z"
   },
   {
    "duration": 424,
    "start_time": "2022-04-04T23:47:52.054Z"
   },
   {
    "duration": 455,
    "start_time": "2022-04-04T23:47:59.438Z"
   },
   {
    "duration": 20,
    "start_time": "2022-04-04T23:48:29.553Z"
   },
   {
    "duration": 57,
    "start_time": "2022-04-04T23:48:44.046Z"
   },
   {
    "duration": 16,
    "start_time": "2022-04-04T23:48:44.105Z"
   },
   {
    "duration": 6,
    "start_time": "2022-04-04T23:48:44.122Z"
   },
   {
    "duration": 7,
    "start_time": "2022-04-04T23:48:44.129Z"
   },
   {
    "duration": 5,
    "start_time": "2022-04-04T23:48:44.164Z"
   },
   {
    "duration": 4,
    "start_time": "2022-04-04T23:48:44.171Z"
   },
   {
    "duration": 15,
    "start_time": "2022-04-04T23:48:44.177Z"
   },
   {
    "duration": 15,
    "start_time": "2022-04-04T23:48:44.193Z"
   },
   {
    "duration": 6,
    "start_time": "2022-04-04T23:48:44.210Z"
   },
   {
    "duration": 5,
    "start_time": "2022-04-04T23:48:44.217Z"
   },
   {
    "duration": 39,
    "start_time": "2022-04-04T23:48:44.224Z"
   },
   {
    "duration": 6,
    "start_time": "2022-04-04T23:48:44.265Z"
   },
   {
    "duration": 5,
    "start_time": "2022-04-04T23:48:44.273Z"
   },
   {
    "duration": 3,
    "start_time": "2022-04-04T23:48:44.281Z"
   },
   {
    "duration": 5,
    "start_time": "2022-04-04T23:48:44.286Z"
   },
   {
    "duration": 7,
    "start_time": "2022-04-04T23:48:44.293Z"
   },
   {
    "duration": 4,
    "start_time": "2022-04-04T23:48:44.302Z"
   },
   {
    "duration": 16,
    "start_time": "2022-04-04T23:48:44.308Z"
   },
   {
    "duration": 43,
    "start_time": "2022-04-04T23:48:44.325Z"
   },
   {
    "duration": 7,
    "start_time": "2022-04-04T23:48:44.369Z"
   },
   {
    "duration": 11,
    "start_time": "2022-04-04T23:48:44.377Z"
   },
   {
    "duration": 7,
    "start_time": "2022-04-04T23:48:44.390Z"
   },
   {
    "duration": 7,
    "start_time": "2022-04-04T23:48:44.399Z"
   },
   {
    "duration": 20,
    "start_time": "2022-04-04T23:48:44.407Z"
   },
   {
    "duration": 37,
    "start_time": "2022-04-04T23:48:44.429Z"
   },
   {
    "duration": 9,
    "start_time": "2022-04-04T23:48:44.468Z"
   },
   {
    "duration": 12,
    "start_time": "2022-04-04T23:48:44.478Z"
   },
   {
    "duration": 18,
    "start_time": "2022-04-04T23:48:44.491Z"
   },
   {
    "duration": 11,
    "start_time": "2022-04-04T23:48:44.510Z"
   },
   {
    "duration": 16,
    "start_time": "2022-04-04T23:48:44.522Z"
   },
   {
    "duration": 7,
    "start_time": "2022-04-04T23:48:44.563Z"
   },
   {
    "duration": 5,
    "start_time": "2022-04-04T23:48:44.571Z"
   },
   {
    "duration": 12,
    "start_time": "2022-04-04T23:48:44.577Z"
   },
   {
    "duration": 14,
    "start_time": "2022-04-04T23:48:44.591Z"
   },
   {
    "duration": 21,
    "start_time": "2022-04-04T23:48:57.288Z"
   },
   {
    "duration": 420,
    "start_time": "2022-04-04T23:49:18.602Z"
   },
   {
    "duration": 433,
    "start_time": "2022-04-04T23:49:31.493Z"
   },
   {
    "duration": 20,
    "start_time": "2022-04-04T23:49:37.637Z"
   },
   {
    "duration": 54,
    "start_time": "2022-04-04T23:49:58.476Z"
   },
   {
    "duration": 13,
    "start_time": "2022-04-04T23:49:58.532Z"
   },
   {
    "duration": 4,
    "start_time": "2022-04-04T23:49:58.547Z"
   },
   {
    "duration": 4,
    "start_time": "2022-04-04T23:49:58.563Z"
   },
   {
    "duration": 7,
    "start_time": "2022-04-04T23:49:58.568Z"
   },
   {
    "duration": 4,
    "start_time": "2022-04-04T23:49:58.576Z"
   },
   {
    "duration": 15,
    "start_time": "2022-04-04T23:49:58.581Z"
   },
   {
    "duration": 13,
    "start_time": "2022-04-04T23:49:58.598Z"
   },
   {
    "duration": 7,
    "start_time": "2022-04-04T23:49:58.613Z"
   },
   {
    "duration": 5,
    "start_time": "2022-04-04T23:49:58.623Z"
   },
   {
    "duration": 36,
    "start_time": "2022-04-04T23:49:58.629Z"
   },
   {
    "duration": 5,
    "start_time": "2022-04-04T23:49:58.667Z"
   },
   {
    "duration": 7,
    "start_time": "2022-04-04T23:49:58.673Z"
   },
   {
    "duration": 3,
    "start_time": "2022-04-04T23:49:58.681Z"
   },
   {
    "duration": 4,
    "start_time": "2022-04-04T23:49:58.686Z"
   },
   {
    "duration": 5,
    "start_time": "2022-04-04T23:49:58.692Z"
   },
   {
    "duration": 5,
    "start_time": "2022-04-04T23:49:58.699Z"
   },
   {
    "duration": 15,
    "start_time": "2022-04-04T23:49:58.705Z"
   },
   {
    "duration": 46,
    "start_time": "2022-04-04T23:49:58.722Z"
   },
   {
    "duration": 7,
    "start_time": "2022-04-04T23:49:58.770Z"
   },
   {
    "duration": 12,
    "start_time": "2022-04-04T23:49:58.778Z"
   },
   {
    "duration": 7,
    "start_time": "2022-04-04T23:49:58.791Z"
   },
   {
    "duration": 8,
    "start_time": "2022-04-04T23:49:58.800Z"
   },
   {
    "duration": 18,
    "start_time": "2022-04-04T23:49:58.810Z"
   },
   {
    "duration": 35,
    "start_time": "2022-04-04T23:49:58.830Z"
   },
   {
    "duration": 9,
    "start_time": "2022-04-04T23:49:58.867Z"
   },
   {
    "duration": 8,
    "start_time": "2022-04-04T23:49:58.877Z"
   },
   {
    "duration": 18,
    "start_time": "2022-04-04T23:49:58.889Z"
   },
   {
    "duration": 12,
    "start_time": "2022-04-04T23:49:58.908Z"
   },
   {
    "duration": 43,
    "start_time": "2022-04-04T23:49:58.921Z"
   },
   {
    "duration": 6,
    "start_time": "2022-04-04T23:49:58.966Z"
   },
   {
    "duration": 4,
    "start_time": "2022-04-04T23:49:58.974Z"
   },
   {
    "duration": 13,
    "start_time": "2022-04-04T23:49:58.980Z"
   },
   {
    "duration": 17,
    "start_time": "2022-04-04T23:49:58.994Z"
   },
   {
    "duration": 15,
    "start_time": "2022-04-04T23:50:29.113Z"
   },
   {
    "duration": 13,
    "start_time": "2022-04-04T23:50:34.591Z"
   },
   {
    "duration": 13,
    "start_time": "2022-04-04T23:50:46.237Z"
   },
   {
    "duration": 433,
    "start_time": "2022-04-05T21:24:45.229Z"
   },
   {
    "duration": 14,
    "start_time": "2022-04-05T21:24:45.664Z"
   },
   {
    "duration": 9,
    "start_time": "2022-04-05T21:24:45.680Z"
   },
   {
    "duration": 5,
    "start_time": "2022-04-05T21:24:45.690Z"
   },
   {
    "duration": 6,
    "start_time": "2022-04-05T21:24:45.697Z"
   },
   {
    "duration": 3,
    "start_time": "2022-04-05T21:24:45.704Z"
   },
   {
    "duration": 15,
    "start_time": "2022-04-05T21:24:45.708Z"
   },
   {
    "duration": 16,
    "start_time": "2022-04-05T21:24:45.724Z"
   },
   {
    "duration": 6,
    "start_time": "2022-04-05T21:24:45.742Z"
   },
   {
    "duration": 4,
    "start_time": "2022-04-05T21:24:45.752Z"
   },
   {
    "duration": 6,
    "start_time": "2022-04-05T21:24:45.758Z"
   },
   {
    "duration": 38,
    "start_time": "2022-04-05T21:24:45.766Z"
   },
   {
    "duration": 5,
    "start_time": "2022-04-05T21:24:45.805Z"
   },
   {
    "duration": 3,
    "start_time": "2022-04-05T21:24:45.812Z"
   },
   {
    "duration": 6,
    "start_time": "2022-04-05T21:24:45.816Z"
   },
   {
    "duration": 9,
    "start_time": "2022-04-05T21:24:45.823Z"
   },
   {
    "duration": 9,
    "start_time": "2022-04-05T21:24:45.833Z"
   },
   {
    "duration": 18,
    "start_time": "2022-04-05T21:24:45.843Z"
   },
   {
    "duration": 11,
    "start_time": "2022-04-05T21:24:45.863Z"
   },
   {
    "duration": 28,
    "start_time": "2022-04-05T21:24:45.876Z"
   },
   {
    "duration": 10,
    "start_time": "2022-04-05T21:24:45.906Z"
   },
   {
    "duration": 9,
    "start_time": "2022-04-05T21:24:45.917Z"
   },
   {
    "duration": 9,
    "start_time": "2022-04-05T21:24:45.928Z"
   },
   {
    "duration": 20,
    "start_time": "2022-04-05T21:24:45.938Z"
   },
   {
    "duration": 6,
    "start_time": "2022-04-05T21:24:45.959Z"
   },
   {
    "duration": 9,
    "start_time": "2022-04-05T21:24:45.966Z"
   },
   {
    "duration": 27,
    "start_time": "2022-04-05T21:24:45.976Z"
   },
   {
    "duration": 17,
    "start_time": "2022-04-05T21:24:46.006Z"
   },
   {
    "duration": 10,
    "start_time": "2022-04-05T21:24:46.024Z"
   },
   {
    "duration": 19,
    "start_time": "2022-04-05T21:24:46.036Z"
   },
   {
    "duration": 6,
    "start_time": "2022-04-05T21:24:46.056Z"
   },
   {
    "duration": 6,
    "start_time": "2022-04-05T21:24:46.064Z"
   },
   {
    "duration": 10,
    "start_time": "2022-04-05T21:24:46.101Z"
   },
   {
    "duration": 14,
    "start_time": "2022-04-05T21:24:46.113Z"
   },
   {
    "duration": 14,
    "start_time": "2022-04-05T21:26:08.180Z"
   },
   {
    "duration": 28,
    "start_time": "2022-04-05T21:27:11.434Z"
   },
   {
    "duration": 95,
    "start_time": "2022-04-05T21:29:11.370Z"
   },
   {
    "duration": 71,
    "start_time": "2022-04-05T21:33:00.250Z"
   },
   {
    "duration": 13,
    "start_time": "2022-04-05T21:33:00.323Z"
   },
   {
    "duration": 5,
    "start_time": "2022-04-05T21:33:00.338Z"
   },
   {
    "duration": 14,
    "start_time": "2022-04-05T21:33:00.345Z"
   },
   {
    "duration": 14,
    "start_time": "2022-04-05T21:33:00.361Z"
   },
   {
    "duration": 11,
    "start_time": "2022-04-05T21:33:00.377Z"
   },
   {
    "duration": 14,
    "start_time": "2022-04-05T21:33:00.401Z"
   },
   {
    "duration": 22,
    "start_time": "2022-04-05T21:33:00.416Z"
   },
   {
    "duration": 19,
    "start_time": "2022-04-05T21:33:00.439Z"
   },
   {
    "duration": 11,
    "start_time": "2022-04-05T21:33:00.461Z"
   },
   {
    "duration": 9,
    "start_time": "2022-04-05T21:33:00.474Z"
   },
   {
    "duration": 22,
    "start_time": "2022-04-05T21:33:00.485Z"
   },
   {
    "duration": 20,
    "start_time": "2022-04-05T21:33:00.508Z"
   },
   {
    "duration": 10,
    "start_time": "2022-04-05T21:33:00.529Z"
   },
   {
    "duration": 16,
    "start_time": "2022-04-05T21:33:00.540Z"
   },
   {
    "duration": 8,
    "start_time": "2022-04-05T21:33:00.558Z"
   },
   {
    "duration": 17,
    "start_time": "2022-04-05T21:33:00.567Z"
   },
   {
    "duration": 24,
    "start_time": "2022-04-05T21:33:00.586Z"
   },
   {
    "duration": 22,
    "start_time": "2022-04-05T21:33:00.611Z"
   },
   {
    "duration": 20,
    "start_time": "2022-04-05T21:33:00.635Z"
   },
   {
    "duration": 14,
    "start_time": "2022-04-05T21:33:00.656Z"
   },
   {
    "duration": 21,
    "start_time": "2022-04-05T21:33:00.672Z"
   },
   {
    "duration": 14,
    "start_time": "2022-04-05T21:33:00.694Z"
   },
   {
    "duration": 26,
    "start_time": "2022-04-05T21:33:00.709Z"
   },
   {
    "duration": 22,
    "start_time": "2022-04-05T21:33:00.736Z"
   },
   {
    "duration": 12,
    "start_time": "2022-04-05T21:33:00.759Z"
   },
   {
    "duration": 11,
    "start_time": "2022-04-05T21:33:00.773Z"
   },
   {
    "duration": 31,
    "start_time": "2022-04-05T21:33:00.787Z"
   },
   {
    "duration": 12,
    "start_time": "2022-04-05T21:33:00.819Z"
   },
   {
    "duration": 25,
    "start_time": "2022-04-05T21:33:00.832Z"
   },
   {
    "duration": 8,
    "start_time": "2022-04-05T21:33:00.859Z"
   },
   {
    "duration": 21,
    "start_time": "2022-04-05T21:33:00.868Z"
   },
   {
    "duration": 14,
    "start_time": "2022-04-05T21:33:00.891Z"
   },
   {
    "duration": 97,
    "start_time": "2022-04-05T21:33:00.907Z"
   },
   {
    "duration": 91,
    "start_time": "2022-04-05T21:33:08.024Z"
   },
   {
    "duration": 68,
    "start_time": "2022-04-05T21:33:20.033Z"
   },
   {
    "duration": 77,
    "start_time": "2022-04-05T21:33:25.775Z"
   },
   {
    "duration": 90,
    "start_time": "2022-04-05T21:33:56.845Z"
   },
   {
    "duration": 14,
    "start_time": "2022-04-05T21:37:58.023Z"
   },
   {
    "duration": 18,
    "start_time": "2022-04-05T21:38:04.927Z"
   },
   {
    "duration": 9,
    "start_time": "2022-04-05T21:38:09.080Z"
   },
   {
    "duration": 14,
    "start_time": "2022-04-05T21:38:14.656Z"
   },
   {
    "duration": 14,
    "start_time": "2022-04-05T21:38:44.645Z"
   },
   {
    "duration": 1278,
    "start_time": "2022-04-05T21:39:14.335Z"
   },
   {
    "duration": 15,
    "start_time": "2022-04-05T21:39:30.751Z"
   },
   {
    "duration": 899,
    "start_time": "2022-04-05T21:40:26.694Z"
   },
   {
    "duration": 1182,
    "start_time": "2022-04-05T21:40:31.683Z"
   },
   {
    "duration": 165,
    "start_time": "2022-04-05T21:41:18.391Z"
   },
   {
    "duration": 643,
    "start_time": "2022-04-05T21:41:44.478Z"
   },
   {
    "duration": 733,
    "start_time": "2022-04-05T21:42:48.206Z"
   },
   {
    "duration": 758,
    "start_time": "2022-04-05T21:43:07.286Z"
   },
   {
    "duration": 21,
    "start_time": "2022-04-05T21:43:30.334Z"
   },
   {
    "duration": 62,
    "start_time": "2022-04-05T21:43:40.743Z"
   },
   {
    "duration": 14,
    "start_time": "2022-04-05T21:43:40.807Z"
   },
   {
    "duration": 6,
    "start_time": "2022-04-05T21:43:40.822Z"
   },
   {
    "duration": 6,
    "start_time": "2022-04-05T21:43:40.829Z"
   },
   {
    "duration": 6,
    "start_time": "2022-04-05T21:43:40.837Z"
   },
   {
    "duration": 16,
    "start_time": "2022-04-05T21:43:40.844Z"
   },
   {
    "duration": 15,
    "start_time": "2022-04-05T21:43:40.862Z"
   },
   {
    "duration": 26,
    "start_time": "2022-04-05T21:43:40.878Z"
   },
   {
    "duration": 6,
    "start_time": "2022-04-05T21:43:40.905Z"
   },
   {
    "duration": 6,
    "start_time": "2022-04-05T21:43:40.912Z"
   },
   {
    "duration": 7,
    "start_time": "2022-04-05T21:43:40.920Z"
   },
   {
    "duration": 8,
    "start_time": "2022-04-05T21:43:40.929Z"
   },
   {
    "duration": 7,
    "start_time": "2022-04-05T21:43:40.939Z"
   },
   {
    "duration": 5,
    "start_time": "2022-04-05T21:43:40.949Z"
   },
   {
    "duration": 9,
    "start_time": "2022-04-05T21:43:40.955Z"
   },
   {
    "duration": 14,
    "start_time": "2022-04-05T21:43:40.965Z"
   },
   {
    "duration": 21,
    "start_time": "2022-04-05T21:43:40.980Z"
   },
   {
    "duration": 19,
    "start_time": "2022-04-05T21:43:41.002Z"
   },
   {
    "duration": 12,
    "start_time": "2022-04-05T21:43:41.023Z"
   },
   {
    "duration": 8,
    "start_time": "2022-04-05T21:43:41.036Z"
   },
   {
    "duration": 15,
    "start_time": "2022-04-05T21:43:41.046Z"
   },
   {
    "duration": 13,
    "start_time": "2022-04-05T21:43:41.062Z"
   },
   {
    "duration": 15,
    "start_time": "2022-04-05T21:43:41.076Z"
   },
   {
    "duration": 23,
    "start_time": "2022-04-05T21:43:41.092Z"
   },
   {
    "duration": 6,
    "start_time": "2022-04-05T21:43:41.117Z"
   },
   {
    "duration": 12,
    "start_time": "2022-04-05T21:43:41.124Z"
   },
   {
    "duration": 11,
    "start_time": "2022-04-05T21:43:41.137Z"
   },
   {
    "duration": 20,
    "start_time": "2022-04-05T21:43:41.149Z"
   },
   {
    "duration": 32,
    "start_time": "2022-04-05T21:43:41.170Z"
   },
   {
    "duration": 15,
    "start_time": "2022-04-05T21:43:41.203Z"
   },
   {
    "duration": 6,
    "start_time": "2022-04-05T21:43:41.219Z"
   },
   {
    "duration": 5,
    "start_time": "2022-04-05T21:43:41.226Z"
   },
   {
    "duration": 16,
    "start_time": "2022-04-05T21:43:41.233Z"
   },
   {
    "duration": 2586,
    "start_time": "2022-04-05T21:43:41.250Z"
   },
   {
    "duration": 13,
    "start_time": "2022-04-05T21:44:00.150Z"
   },
   {
    "duration": 15,
    "start_time": "2022-04-05T21:44:07.157Z"
   },
   {
    "duration": 16,
    "start_time": "2022-04-05T21:44:11.701Z"
   },
   {
    "duration": 23,
    "start_time": "2022-04-05T21:44:21.102Z"
   },
   {
    "duration": 20,
    "start_time": "2022-04-05T21:44:30.053Z"
   },
   {
    "duration": 26,
    "start_time": "2022-04-05T21:45:20.493Z"
   },
   {
    "duration": 25,
    "start_time": "2022-04-05T21:45:31.733Z"
   },
   {
    "duration": 23,
    "start_time": "2022-04-05T21:45:39.373Z"
   },
   {
    "duration": 22,
    "start_time": "2022-04-05T21:45:42.575Z"
   },
   {
    "duration": 23,
    "start_time": "2022-04-05T21:45:49.685Z"
   },
   {
    "duration": 18,
    "start_time": "2022-04-05T21:45:57.405Z"
   },
   {
    "duration": 20,
    "start_time": "2022-04-05T21:46:01.349Z"
   },
   {
    "duration": 153,
    "start_time": "2022-04-05T22:02:35.296Z"
   },
   {
    "duration": 11,
    "start_time": "2022-04-05T22:02:45.185Z"
   },
   {
    "duration": 8,
    "start_time": "2022-04-05T22:02:54.149Z"
   },
   {
    "duration": 17,
    "start_time": "2022-04-05T22:02:59.632Z"
   },
   {
    "duration": 17,
    "start_time": "2022-04-05T22:03:43.736Z"
   },
   {
    "duration": 7,
    "start_time": "2022-04-05T22:18:35.317Z"
   },
   {
    "duration": 21,
    "start_time": "2022-04-05T22:18:59.660Z"
   },
   {
    "duration": 6,
    "start_time": "2022-04-05T22:20:48.589Z"
   },
   {
    "duration": 2801,
    "start_time": "2022-04-05T22:21:19.691Z"
   },
   {
    "duration": 17,
    "start_time": "2022-04-05T22:21:29.518Z"
   },
   {
    "duration": 7,
    "start_time": "2022-04-05T22:21:42.599Z"
   },
   {
    "duration": 16,
    "start_time": "2022-04-05T22:21:51.893Z"
   },
   {
    "duration": 20,
    "start_time": "2022-04-05T22:21:58.679Z"
   },
   {
    "duration": 5,
    "start_time": "2022-04-05T22:22:10.484Z"
   },
   {
    "duration": 11,
    "start_time": "2022-04-05T22:24:08.076Z"
   },
   {
    "duration": 9,
    "start_time": "2022-04-05T22:24:22.262Z"
   },
   {
    "duration": 10,
    "start_time": "2022-04-05T22:24:31.635Z"
   },
   {
    "duration": 10,
    "start_time": "2022-04-05T22:24:36.167Z"
   },
   {
    "duration": 9,
    "start_time": "2022-04-05T22:24:43.341Z"
   },
   {
    "duration": 603,
    "start_time": "2022-04-06T07:24:56.453Z"
   },
   {
    "duration": 27,
    "start_time": "2022-04-06T07:24:57.059Z"
   },
   {
    "duration": 17,
    "start_time": "2022-04-06T07:24:57.089Z"
   },
   {
    "duration": 7,
    "start_time": "2022-04-06T07:24:57.108Z"
   },
   {
    "duration": 8,
    "start_time": "2022-04-06T07:24:57.119Z"
   },
   {
    "duration": 47,
    "start_time": "2022-04-06T07:24:57.129Z"
   },
   {
    "duration": 24,
    "start_time": "2022-04-06T07:24:57.179Z"
   },
   {
    "duration": 26,
    "start_time": "2022-04-06T07:24:57.205Z"
   },
   {
    "duration": 8,
    "start_time": "2022-04-06T07:24:57.233Z"
   },
   {
    "duration": 12,
    "start_time": "2022-04-06T07:24:57.276Z"
   },
   {
    "duration": 13,
    "start_time": "2022-04-06T07:24:57.290Z"
   },
   {
    "duration": 10,
    "start_time": "2022-04-06T07:24:57.305Z"
   },
   {
    "duration": 6,
    "start_time": "2022-04-06T07:24:57.317Z"
   },
   {
    "duration": 4,
    "start_time": "2022-04-06T07:24:57.328Z"
   },
   {
    "duration": 7,
    "start_time": "2022-04-06T07:24:57.374Z"
   },
   {
    "duration": 15,
    "start_time": "2022-04-06T07:24:57.383Z"
   },
   {
    "duration": 6,
    "start_time": "2022-04-06T07:24:57.400Z"
   },
   {
    "duration": 21,
    "start_time": "2022-04-06T07:24:57.407Z"
   },
   {
    "duration": 57,
    "start_time": "2022-04-06T07:24:57.430Z"
   },
   {
    "duration": 8,
    "start_time": "2022-04-06T07:24:57.489Z"
   },
   {
    "duration": 15,
    "start_time": "2022-04-06T07:24:57.499Z"
   },
   {
    "duration": 10,
    "start_time": "2022-04-06T07:24:57.516Z"
   },
   {
    "duration": 10,
    "start_time": "2022-04-06T07:24:57.528Z"
   },
   {
    "duration": 32,
    "start_time": "2022-04-06T07:24:57.576Z"
   },
   {
    "duration": 11,
    "start_time": "2022-04-06T07:24:57.610Z"
   },
   {
    "duration": 16,
    "start_time": "2022-04-06T07:24:57.623Z"
   },
   {
    "duration": 35,
    "start_time": "2022-04-06T07:24:57.641Z"
   },
   {
    "duration": 38,
    "start_time": "2022-04-06T07:24:57.679Z"
   },
   {
    "duration": 18,
    "start_time": "2022-04-06T07:24:57.719Z"
   },
   {
    "duration": 52,
    "start_time": "2022-04-06T07:24:57.739Z"
   },
   {
    "duration": 111,
    "start_time": "2022-04-06T07:24:57.793Z"
   },
   {
    "duration": 0,
    "start_time": "2022-04-06T07:24:57.906Z"
   },
   {
    "duration": 0,
    "start_time": "2022-04-06T07:24:57.907Z"
   },
   {
    "duration": 0,
    "start_time": "2022-04-06T07:24:57.909Z"
   },
   {
    "duration": 0,
    "start_time": "2022-04-06T07:24:57.910Z"
   },
   {
    "duration": 0,
    "start_time": "2022-04-06T07:24:57.912Z"
   },
   {
    "duration": 0,
    "start_time": "2022-04-06T07:24:57.913Z"
   },
   {
    "duration": 38,
    "start_time": "2022-04-06T07:25:01.369Z"
   },
   {
    "duration": 20,
    "start_time": "2022-04-06T07:25:08.550Z"
   },
   {
    "duration": 40,
    "start_time": "2022-04-06T07:25:12.096Z"
   },
   {
    "duration": 10,
    "start_time": "2022-04-06T07:25:20.408Z"
   },
   {
    "duration": 8,
    "start_time": "2022-04-06T07:25:29.787Z"
   },
   {
    "duration": 15,
    "start_time": "2022-04-06T07:25:40.072Z"
   },
   {
    "duration": 8,
    "start_time": "2022-04-06T07:25:42.217Z"
   },
   {
    "duration": 10,
    "start_time": "2022-04-06T07:26:24.006Z"
   },
   {
    "duration": 9,
    "start_time": "2022-04-06T07:26:31.712Z"
   },
   {
    "duration": 77,
    "start_time": "2022-04-06T07:26:39.556Z"
   },
   {
    "duration": 51,
    "start_time": "2022-04-06T07:26:39.636Z"
   },
   {
    "duration": 7,
    "start_time": "2022-04-06T07:26:39.690Z"
   },
   {
    "duration": 6,
    "start_time": "2022-04-06T07:26:39.700Z"
   },
   {
    "duration": 9,
    "start_time": "2022-04-06T07:26:39.708Z"
   },
   {
    "duration": 4,
    "start_time": "2022-04-06T07:26:39.719Z"
   },
   {
    "duration": 65,
    "start_time": "2022-04-06T07:26:39.725Z"
   },
   {
    "duration": 22,
    "start_time": "2022-04-06T07:26:39.793Z"
   },
   {
    "duration": 8,
    "start_time": "2022-04-06T07:26:39.817Z"
   },
   {
    "duration": 8,
    "start_time": "2022-04-06T07:26:39.830Z"
   },
   {
    "duration": 42,
    "start_time": "2022-04-06T07:26:39.840Z"
   },
   {
    "duration": 14,
    "start_time": "2022-04-06T07:26:39.886Z"
   },
   {
    "duration": 6,
    "start_time": "2022-04-06T07:26:39.902Z"
   },
   {
    "duration": 5,
    "start_time": "2022-04-06T07:26:39.910Z"
   },
   {
    "duration": 6,
    "start_time": "2022-04-06T07:26:39.917Z"
   },
   {
    "duration": 7,
    "start_time": "2022-04-06T07:26:39.925Z"
   },
   {
    "duration": 8,
    "start_time": "2022-04-06T07:26:39.976Z"
   },
   {
    "duration": 22,
    "start_time": "2022-04-06T07:26:39.988Z"
   },
   {
    "duration": 20,
    "start_time": "2022-04-06T07:26:40.012Z"
   },
   {
    "duration": 47,
    "start_time": "2022-04-06T07:26:40.034Z"
   },
   {
    "duration": 15,
    "start_time": "2022-04-06T07:26:40.085Z"
   },
   {
    "duration": 15,
    "start_time": "2022-04-06T07:26:40.103Z"
   },
   {
    "duration": 11,
    "start_time": "2022-04-06T07:26:40.120Z"
   },
   {
    "duration": 63,
    "start_time": "2022-04-06T07:26:40.133Z"
   },
   {
    "duration": 9,
    "start_time": "2022-04-06T07:26:40.198Z"
   },
   {
    "duration": 12,
    "start_time": "2022-04-06T07:26:40.209Z"
   },
   {
    "duration": 15,
    "start_time": "2022-04-06T07:26:40.223Z"
   },
   {
    "duration": 55,
    "start_time": "2022-04-06T07:26:40.242Z"
   },
   {
    "duration": 18,
    "start_time": "2022-04-06T07:26:40.299Z"
   },
   {
    "duration": 23,
    "start_time": "2022-04-06T07:26:40.319Z"
   },
   {
    "duration": 48,
    "start_time": "2022-04-06T07:26:40.344Z"
   },
   {
    "duration": 0,
    "start_time": "2022-04-06T07:26:40.394Z"
   },
   {
    "duration": 0,
    "start_time": "2022-04-06T07:26:40.396Z"
   },
   {
    "duration": 0,
    "start_time": "2022-04-06T07:26:40.398Z"
   },
   {
    "duration": 0,
    "start_time": "2022-04-06T07:26:40.399Z"
   },
   {
    "duration": 0,
    "start_time": "2022-04-06T07:26:40.401Z"
   },
   {
    "duration": 0,
    "start_time": "2022-04-06T07:26:40.402Z"
   },
   {
    "duration": 7,
    "start_time": "2022-04-06T07:26:41.903Z"
   },
   {
    "duration": 25,
    "start_time": "2022-04-06T07:28:32.032Z"
   },
   {
    "duration": 37,
    "start_time": "2022-04-06T07:28:37.638Z"
   },
   {
    "duration": 46,
    "start_time": "2022-04-06T07:28:46.995Z"
   },
   {
    "duration": 37,
    "start_time": "2022-04-06T07:29:09.553Z"
   },
   {
    "duration": 82,
    "start_time": "2022-04-06T07:29:12.971Z"
   },
   {
    "duration": 44,
    "start_time": "2022-04-06T07:29:13.056Z"
   },
   {
    "duration": 8,
    "start_time": "2022-04-06T07:29:13.102Z"
   },
   {
    "duration": 9,
    "start_time": "2022-04-06T07:29:13.113Z"
   },
   {
    "duration": 9,
    "start_time": "2022-04-06T07:29:13.125Z"
   },
   {
    "duration": 6,
    "start_time": "2022-04-06T07:29:13.136Z"
   },
   {
    "duration": 28,
    "start_time": "2022-04-06T07:29:13.173Z"
   },
   {
    "duration": 22,
    "start_time": "2022-04-06T07:29:13.203Z"
   },
   {
    "duration": 11,
    "start_time": "2022-04-06T07:29:13.227Z"
   },
   {
    "duration": 10,
    "start_time": "2022-04-06T07:29:13.276Z"
   },
   {
    "duration": 12,
    "start_time": "2022-04-06T07:29:13.288Z"
   },
   {
    "duration": 7,
    "start_time": "2022-04-06T07:29:13.302Z"
   },
   {
    "duration": 11,
    "start_time": "2022-04-06T07:29:13.311Z"
   },
   {
    "duration": 8,
    "start_time": "2022-04-06T07:29:13.324Z"
   },
   {
    "duration": 38,
    "start_time": "2022-04-06T07:29:13.336Z"
   },
   {
    "duration": 10,
    "start_time": "2022-04-06T07:29:13.377Z"
   },
   {
    "duration": 14,
    "start_time": "2022-04-06T07:29:13.390Z"
   },
   {
    "duration": 32,
    "start_time": "2022-04-06T07:29:13.406Z"
   },
   {
    "duration": 21,
    "start_time": "2022-04-06T07:29:13.440Z"
   },
   {
    "duration": 24,
    "start_time": "2022-04-06T07:29:13.474Z"
   },
   {
    "duration": 16,
    "start_time": "2022-04-06T07:29:13.500Z"
   },
   {
    "duration": 13,
    "start_time": "2022-04-06T07:29:13.518Z"
   },
   {
    "duration": 11,
    "start_time": "2022-04-06T07:29:13.533Z"
   },
   {
    "duration": 31,
    "start_time": "2022-04-06T07:29:13.575Z"
   },
   {
    "duration": 8,
    "start_time": "2022-04-06T07:29:13.609Z"
   },
   {
    "duration": 20,
    "start_time": "2022-04-06T07:29:13.619Z"
   },
   {
    "duration": 34,
    "start_time": "2022-04-06T07:29:13.642Z"
   },
   {
    "duration": 45,
    "start_time": "2022-04-06T07:29:13.683Z"
   },
   {
    "duration": 17,
    "start_time": "2022-04-06T07:29:13.729Z"
   },
   {
    "duration": 38,
    "start_time": "2022-04-06T07:29:13.749Z"
   },
   {
    "duration": 14,
    "start_time": "2022-04-06T07:29:13.789Z"
   },
   {
    "duration": 0,
    "start_time": "2022-04-06T07:29:13.806Z"
   },
   {
    "duration": 0,
    "start_time": "2022-04-06T07:29:13.808Z"
   },
   {
    "duration": 0,
    "start_time": "2022-04-06T07:29:13.809Z"
   },
   {
    "duration": 0,
    "start_time": "2022-04-06T07:29:13.811Z"
   },
   {
    "duration": 0,
    "start_time": "2022-04-06T07:29:13.812Z"
   },
   {
    "duration": 0,
    "start_time": "2022-04-06T07:29:13.814Z"
   },
   {
    "duration": 30,
    "start_time": "2022-04-06T07:29:15.855Z"
   },
   {
    "duration": 53,
    "start_time": "2022-04-06T07:29:19.470Z"
   },
   {
    "duration": 32,
    "start_time": "2022-04-06T07:29:22.934Z"
   },
   {
    "duration": 33,
    "start_time": "2022-04-06T07:29:25.818Z"
   },
   {
    "duration": 81,
    "start_time": "2022-04-06T07:29:28.942Z"
   },
   {
    "duration": 20,
    "start_time": "2022-04-06T07:29:29.026Z"
   },
   {
    "duration": 20,
    "start_time": "2022-04-06T07:29:29.076Z"
   },
   {
    "duration": 7,
    "start_time": "2022-04-06T07:29:29.098Z"
   },
   {
    "duration": 11,
    "start_time": "2022-04-06T07:29:29.108Z"
   },
   {
    "duration": 5,
    "start_time": "2022-04-06T07:29:29.121Z"
   },
   {
    "duration": 46,
    "start_time": "2022-04-06T07:29:29.128Z"
   },
   {
    "duration": 30,
    "start_time": "2022-04-06T07:29:29.177Z"
   },
   {
    "duration": 12,
    "start_time": "2022-04-06T07:29:29.209Z"
   },
   {
    "duration": 12,
    "start_time": "2022-04-06T07:29:29.223Z"
   },
   {
    "duration": 37,
    "start_time": "2022-04-06T07:29:29.237Z"
   },
   {
    "duration": 16,
    "start_time": "2022-04-06T07:29:29.277Z"
   },
   {
    "duration": 42,
    "start_time": "2022-04-06T07:29:29.295Z"
   },
   {
    "duration": 4,
    "start_time": "2022-04-06T07:29:29.343Z"
   },
   {
    "duration": 46,
    "start_time": "2022-04-06T07:29:29.349Z"
   },
   {
    "duration": 29,
    "start_time": "2022-04-06T07:29:29.398Z"
   },
   {
    "duration": 27,
    "start_time": "2022-04-06T07:29:29.429Z"
   },
   {
    "duration": 46,
    "start_time": "2022-04-06T07:29:29.458Z"
   },
   {
    "duration": 26,
    "start_time": "2022-04-06T07:29:29.507Z"
   },
   {
    "duration": 17,
    "start_time": "2022-04-06T07:29:29.536Z"
   },
   {
    "duration": 32,
    "start_time": "2022-04-06T07:29:29.556Z"
   },
   {
    "duration": 18,
    "start_time": "2022-04-06T07:29:29.590Z"
   },
   {
    "duration": 25,
    "start_time": "2022-04-06T07:29:29.610Z"
   },
   {
    "duration": 53,
    "start_time": "2022-04-06T07:29:29.637Z"
   },
   {
    "duration": 10,
    "start_time": "2022-04-06T07:29:29.692Z"
   },
   {
    "duration": 27,
    "start_time": "2022-04-06T07:29:29.704Z"
   },
   {
    "duration": 20,
    "start_time": "2022-04-06T07:29:29.733Z"
   },
   {
    "duration": 48,
    "start_time": "2022-04-06T07:29:29.756Z"
   },
   {
    "duration": 18,
    "start_time": "2022-04-06T07:29:29.806Z"
   },
   {
    "duration": 32,
    "start_time": "2022-04-06T07:29:29.826Z"
   },
   {
    "duration": 32,
    "start_time": "2022-04-06T07:29:29.859Z"
   },
   {
    "duration": 0,
    "start_time": "2022-04-06T07:29:29.894Z"
   },
   {
    "duration": 0,
    "start_time": "2022-04-06T07:29:29.896Z"
   },
   {
    "duration": 0,
    "start_time": "2022-04-06T07:29:29.898Z"
   },
   {
    "duration": 0,
    "start_time": "2022-04-06T07:29:29.901Z"
   },
   {
    "duration": 0,
    "start_time": "2022-04-06T07:29:29.903Z"
   },
   {
    "duration": 0,
    "start_time": "2022-04-06T07:29:29.905Z"
   },
   {
    "duration": 28,
    "start_time": "2022-04-06T07:29:33.807Z"
   },
   {
    "duration": 7,
    "start_time": "2022-04-06T07:30:09.088Z"
   },
   {
    "duration": 16,
    "start_time": "2022-04-06T07:33:59.015Z"
   },
   {
    "duration": 4,
    "start_time": "2022-04-06T07:34:14.095Z"
   },
   {
    "duration": 22,
    "start_time": "2022-04-06T07:34:49.737Z"
   },
   {
    "duration": 14,
    "start_time": "2022-04-06T07:57:35.891Z"
   },
   {
    "duration": 13,
    "start_time": "2022-04-06T07:58:05.793Z"
   },
   {
    "duration": 18,
    "start_time": "2022-04-06T07:58:25.368Z"
   },
   {
    "duration": 18,
    "start_time": "2022-04-06T07:58:59.975Z"
   },
   {
    "duration": 16,
    "start_time": "2022-04-06T07:59:06.087Z"
   },
   {
    "duration": 14,
    "start_time": "2022-04-06T07:59:09.800Z"
   },
   {
    "duration": 10,
    "start_time": "2022-04-06T07:59:12.705Z"
   },
   {
    "duration": 5,
    "start_time": "2022-04-06T07:59:47.154Z"
   },
   {
    "duration": 22,
    "start_time": "2022-04-06T07:59:53.673Z"
   },
   {
    "duration": 23,
    "start_time": "2022-04-06T08:00:07.991Z"
   },
   {
    "duration": 24,
    "start_time": "2022-04-06T08:00:59.688Z"
   },
   {
    "duration": 45,
    "start_time": "2022-04-06T08:01:11.857Z"
   },
   {
    "duration": 151,
    "start_time": "2022-04-06T08:01:37.555Z"
   },
   {
    "duration": 125,
    "start_time": "2022-04-06T08:01:43.587Z"
   },
   {
    "duration": 68,
    "start_time": "2022-04-06T08:01:47.447Z"
   },
   {
    "duration": 24,
    "start_time": "2022-04-06T08:01:58.433Z"
   },
   {
    "duration": 14,
    "start_time": "2022-04-06T08:02:01.933Z"
   },
   {
    "duration": 13,
    "start_time": "2022-04-06T08:02:12.886Z"
   },
   {
    "duration": 13,
    "start_time": "2022-04-06T08:02:20.551Z"
   },
   {
    "duration": 14,
    "start_time": "2022-04-06T08:02:26.933Z"
   },
   {
    "duration": 25,
    "start_time": "2022-04-06T08:03:19.622Z"
   },
   {
    "duration": 14,
    "start_time": "2022-04-06T08:03:42.128Z"
   },
   {
    "duration": 9,
    "start_time": "2022-04-06T08:04:13.573Z"
   },
   {
    "duration": 13,
    "start_time": "2022-04-06T08:04:50.198Z"
   },
   {
    "duration": 17,
    "start_time": "2022-04-06T08:07:02.891Z"
   },
   {
    "duration": 18,
    "start_time": "2022-04-06T08:07:23.908Z"
   },
   {
    "duration": 42,
    "start_time": "2022-04-06T08:08:28.757Z"
   },
   {
    "duration": 15,
    "start_time": "2022-04-06T08:09:29.757Z"
   },
   {
    "duration": 16,
    "start_time": "2022-04-06T08:09:39.684Z"
   },
   {
    "duration": 20,
    "start_time": "2022-04-06T08:09:52.492Z"
   },
   {
    "duration": 20,
    "start_time": "2022-04-06T08:13:33.785Z"
   },
   {
    "duration": 1896,
    "start_time": "2022-04-06T08:13:39.970Z"
   },
   {
    "duration": 0,
    "start_time": "2022-04-06T08:13:44.897Z"
   },
   {
    "duration": 1600,
    "start_time": "2022-04-06T08:13:47.569Z"
   },
   {
    "duration": 1623,
    "start_time": "2022-04-06T08:13:57.616Z"
   },
   {
    "duration": 18,
    "start_time": "2022-04-06T08:14:08.379Z"
   },
   {
    "duration": 17,
    "start_time": "2022-04-06T08:14:25.018Z"
   },
   {
    "duration": 117,
    "start_time": "2022-04-06T08:14:35.463Z"
   },
   {
    "duration": 32,
    "start_time": "2022-04-06T08:14:35.584Z"
   },
   {
    "duration": 10,
    "start_time": "2022-04-06T08:14:35.619Z"
   },
   {
    "duration": 8,
    "start_time": "2022-04-06T08:14:35.631Z"
   },
   {
    "duration": 11,
    "start_time": "2022-04-06T08:14:35.673Z"
   },
   {
    "duration": 6,
    "start_time": "2022-04-06T08:14:35.686Z"
   },
   {
    "duration": 34,
    "start_time": "2022-04-06T08:14:35.695Z"
   },
   {
    "duration": 52,
    "start_time": "2022-04-06T08:14:35.732Z"
   },
   {
    "duration": 10,
    "start_time": "2022-04-06T08:14:35.787Z"
   },
   {
    "duration": 8,
    "start_time": "2022-04-06T08:14:35.799Z"
   },
   {
    "duration": 9,
    "start_time": "2022-04-06T08:14:35.810Z"
   },
   {
    "duration": 51,
    "start_time": "2022-04-06T08:14:35.822Z"
   },
   {
    "duration": 6,
    "start_time": "2022-04-06T08:14:35.876Z"
   },
   {
    "duration": 5,
    "start_time": "2022-04-06T08:14:35.886Z"
   },
   {
    "duration": 14,
    "start_time": "2022-04-06T08:14:35.893Z"
   },
   {
    "duration": 12,
    "start_time": "2022-04-06T08:14:35.909Z"
   },
   {
    "duration": 7,
    "start_time": "2022-04-06T08:14:35.923Z"
   },
   {
    "duration": 57,
    "start_time": "2022-04-06T08:14:35.933Z"
   },
   {
    "duration": 21,
    "start_time": "2022-04-06T08:14:35.992Z"
   },
   {
    "duration": 14,
    "start_time": "2022-04-06T08:14:36.015Z"
   },
   {
    "duration": 45,
    "start_time": "2022-04-06T08:14:36.031Z"
   },
   {
    "duration": 13,
    "start_time": "2022-04-06T08:14:36.079Z"
   },
   {
    "duration": 13,
    "start_time": "2022-04-06T08:14:36.095Z"
   },
   {
    "duration": 64,
    "start_time": "2022-04-06T08:14:36.111Z"
   },
   {
    "duration": 54,
    "start_time": "2022-04-06T08:14:36.178Z"
   },
   {
    "duration": 16,
    "start_time": "2022-04-06T08:14:36.234Z"
   },
   {
    "duration": 14,
    "start_time": "2022-04-06T08:14:36.273Z"
   },
   {
    "duration": 38,
    "start_time": "2022-04-06T08:14:36.289Z"
   },
   {
    "duration": 45,
    "start_time": "2022-04-06T08:14:36.329Z"
   },
   {
    "duration": 20,
    "start_time": "2022-04-06T08:14:36.376Z"
   },
   {
    "duration": 13,
    "start_time": "2022-04-06T08:14:36.399Z"
   },
   {
    "duration": 0,
    "start_time": "2022-04-06T08:14:36.414Z"
   },
   {
    "duration": 0,
    "start_time": "2022-04-06T08:14:36.416Z"
   },
   {
    "duration": 0,
    "start_time": "2022-04-06T08:14:36.418Z"
   },
   {
    "duration": 0,
    "start_time": "2022-04-06T08:14:36.419Z"
   },
   {
    "duration": 0,
    "start_time": "2022-04-06T08:14:36.421Z"
   },
   {
    "duration": 0,
    "start_time": "2022-04-06T08:14:36.422Z"
   },
   {
    "duration": 17,
    "start_time": "2022-04-06T08:14:38.202Z"
   },
   {
    "duration": 25,
    "start_time": "2022-04-06T08:14:44.893Z"
   },
   {
    "duration": 8,
    "start_time": "2022-04-06T08:15:44.770Z"
   },
   {
    "duration": 3,
    "start_time": "2022-04-06T08:17:36.365Z"
   },
   {
    "duration": 4,
    "start_time": "2022-04-06T08:23:09.015Z"
   },
   {
    "duration": 16,
    "start_time": "2022-04-06T08:26:24.188Z"
   },
   {
    "duration": 6,
    "start_time": "2022-04-06T08:27:12.601Z"
   },
   {
    "duration": 10,
    "start_time": "2022-04-06T08:27:49.852Z"
   },
   {
    "duration": 7,
    "start_time": "2022-04-06T08:30:52.720Z"
   },
   {
    "duration": 14,
    "start_time": "2022-04-06T08:30:57.943Z"
   },
   {
    "duration": 10,
    "start_time": "2022-04-06T08:31:16.616Z"
   },
   {
    "duration": 9,
    "start_time": "2022-04-06T08:31:41.534Z"
   },
   {
    "duration": 13,
    "start_time": "2022-04-06T08:32:41.143Z"
   },
   {
    "duration": 3,
    "start_time": "2022-04-06T08:41:51.763Z"
   },
   {
    "duration": 3,
    "start_time": "2022-04-06T08:41:51.900Z"
   },
   {
    "duration": 3,
    "start_time": "2022-04-06T08:42:16.692Z"
   },
   {
    "duration": 8,
    "start_time": "2022-04-06T08:49:04.850Z"
   },
   {
    "duration": 8,
    "start_time": "2022-04-06T08:49:27.539Z"
   },
   {
    "duration": 25,
    "start_time": "2022-04-06T08:52:12.033Z"
   },
   {
    "duration": 16,
    "start_time": "2022-04-06T08:56:21.528Z"
   },
   {
    "duration": 6,
    "start_time": "2022-04-06T08:57:01.488Z"
   },
   {
    "duration": 17,
    "start_time": "2022-04-06T08:58:47.272Z"
   },
   {
    "duration": 14,
    "start_time": "2022-04-06T09:00:01.647Z"
   },
   {
    "duration": 420,
    "start_time": "2022-04-06T13:25:22.135Z"
   },
   {
    "duration": 13,
    "start_time": "2022-04-06T13:25:22.557Z"
   },
   {
    "duration": 9,
    "start_time": "2022-04-06T13:25:22.572Z"
   },
   {
    "duration": 7,
    "start_time": "2022-04-06T13:25:22.583Z"
   },
   {
    "duration": 7,
    "start_time": "2022-04-06T13:25:22.591Z"
   },
   {
    "duration": 3,
    "start_time": "2022-04-06T13:25:22.600Z"
   },
   {
    "duration": 32,
    "start_time": "2022-04-06T13:25:22.604Z"
   },
   {
    "duration": 14,
    "start_time": "2022-04-06T13:25:22.638Z"
   },
   {
    "duration": 5,
    "start_time": "2022-04-06T13:25:22.653Z"
   },
   {
    "duration": 4,
    "start_time": "2022-04-06T13:25:22.661Z"
   },
   {
    "duration": 5,
    "start_time": "2022-04-06T13:25:22.667Z"
   },
   {
    "duration": 5,
    "start_time": "2022-04-06T13:25:22.673Z"
   },
   {
    "duration": 5,
    "start_time": "2022-04-06T13:25:22.680Z"
   },
   {
    "duration": 3,
    "start_time": "2022-04-06T13:25:22.686Z"
   },
   {
    "duration": 6,
    "start_time": "2022-04-06T13:25:22.690Z"
   },
   {
    "duration": 37,
    "start_time": "2022-04-06T13:25:22.697Z"
   },
   {
    "duration": 6,
    "start_time": "2022-04-06T13:25:22.735Z"
   },
   {
    "duration": 16,
    "start_time": "2022-04-06T13:25:22.742Z"
   },
   {
    "duration": 11,
    "start_time": "2022-04-06T13:25:22.760Z"
   },
   {
    "duration": 6,
    "start_time": "2022-04-06T13:25:22.773Z"
   },
   {
    "duration": 12,
    "start_time": "2022-04-06T13:25:22.780Z"
   },
   {
    "duration": 15,
    "start_time": "2022-04-06T13:25:22.793Z"
   },
   {
    "duration": 22,
    "start_time": "2022-04-06T13:25:22.809Z"
   },
   {
    "duration": 25,
    "start_time": "2022-04-06T13:25:22.833Z"
   },
   {
    "duration": 8,
    "start_time": "2022-04-06T13:25:22.860Z"
   },
   {
    "duration": 9,
    "start_time": "2022-04-06T13:25:22.869Z"
   },
   {
    "duration": 9,
    "start_time": "2022-04-06T13:25:22.879Z"
   },
   {
    "duration": 56,
    "start_time": "2022-04-06T13:25:22.891Z"
   },
   {
    "duration": 13,
    "start_time": "2022-04-06T13:25:22.948Z"
   },
   {
    "duration": 18,
    "start_time": "2022-04-06T13:25:22.963Z"
   },
   {
    "duration": 105,
    "start_time": "2022-04-06T13:25:22.982Z"
   },
   {
    "duration": 0,
    "start_time": "2022-04-06T13:25:23.089Z"
   },
   {
    "duration": 0,
    "start_time": "2022-04-06T13:25:23.090Z"
   },
   {
    "duration": 0,
    "start_time": "2022-04-06T13:25:23.092Z"
   },
   {
    "duration": 0,
    "start_time": "2022-04-06T13:25:23.093Z"
   },
   {
    "duration": 0,
    "start_time": "2022-04-06T13:25:23.094Z"
   },
   {
    "duration": 0,
    "start_time": "2022-04-06T13:25:23.094Z"
   },
   {
    "duration": 0,
    "start_time": "2022-04-06T13:25:23.095Z"
   },
   {
    "duration": 0,
    "start_time": "2022-04-06T13:25:23.097Z"
   },
   {
    "duration": 0,
    "start_time": "2022-04-06T13:25:23.098Z"
   },
   {
    "duration": 0,
    "start_time": "2022-04-06T13:25:23.099Z"
   },
   {
    "duration": 0,
    "start_time": "2022-04-06T13:25:23.100Z"
   },
   {
    "duration": 7,
    "start_time": "2022-04-06T13:32:23.225Z"
   },
   {
    "duration": 6,
    "start_time": "2022-04-06T13:32:32.751Z"
   },
   {
    "duration": 7,
    "start_time": "2022-04-06T13:32:42.590Z"
   },
   {
    "duration": 6,
    "start_time": "2022-04-06T13:32:47.455Z"
   },
   {
    "duration": 45,
    "start_time": "2022-04-06T13:32:50.851Z"
   },
   {
    "duration": 12,
    "start_time": "2022-04-06T13:32:50.898Z"
   },
   {
    "duration": 20,
    "start_time": "2022-04-06T13:32:50.911Z"
   },
   {
    "duration": 4,
    "start_time": "2022-04-06T13:32:50.932Z"
   },
   {
    "duration": 8,
    "start_time": "2022-04-06T13:32:50.938Z"
   },
   {
    "duration": 3,
    "start_time": "2022-04-06T13:32:50.947Z"
   },
   {
    "duration": 15,
    "start_time": "2022-04-06T13:32:50.951Z"
   },
   {
    "duration": 14,
    "start_time": "2022-04-06T13:32:50.967Z"
   },
   {
    "duration": 10,
    "start_time": "2022-04-06T13:32:50.983Z"
   },
   {
    "duration": 6,
    "start_time": "2022-04-06T13:32:50.994Z"
   },
   {
    "duration": 5,
    "start_time": "2022-04-06T13:32:51.002Z"
   },
   {
    "duration": 4,
    "start_time": "2022-04-06T13:32:51.029Z"
   },
   {
    "duration": 5,
    "start_time": "2022-04-06T13:32:51.035Z"
   },
   {
    "duration": 5,
    "start_time": "2022-04-06T13:32:51.043Z"
   },
   {
    "duration": 6,
    "start_time": "2022-04-06T13:32:51.049Z"
   },
   {
    "duration": 11,
    "start_time": "2022-04-06T13:32:51.057Z"
   },
   {
    "duration": 5,
    "start_time": "2022-04-06T13:32:51.069Z"
   },
   {
    "duration": 14,
    "start_time": "2022-04-06T13:32:51.075Z"
   },
   {
    "duration": 12,
    "start_time": "2022-04-06T13:32:51.090Z"
   },
   {
    "duration": 27,
    "start_time": "2022-04-06T13:32:51.103Z"
   },
   {
    "duration": 9,
    "start_time": "2022-04-06T13:32:51.132Z"
   },
   {
    "duration": 9,
    "start_time": "2022-04-06T13:32:51.142Z"
   },
   {
    "duration": 7,
    "start_time": "2022-04-06T13:32:51.152Z"
   },
   {
    "duration": 17,
    "start_time": "2022-04-06T13:32:51.160Z"
   },
   {
    "duration": 5,
    "start_time": "2022-04-06T13:32:51.178Z"
   },
   {
    "duration": 13,
    "start_time": "2022-04-06T13:32:51.184Z"
   },
   {
    "duration": 7,
    "start_time": "2022-04-06T13:32:51.199Z"
   },
   {
    "duration": 37,
    "start_time": "2022-04-06T13:32:51.207Z"
   },
   {
    "duration": 10,
    "start_time": "2022-04-06T13:32:51.245Z"
   },
   {
    "duration": 14,
    "start_time": "2022-04-06T13:32:51.257Z"
   },
   {
    "duration": 9,
    "start_time": "2022-04-06T13:32:51.273Z"
   },
   {
    "duration": 0,
    "start_time": "2022-04-06T13:32:51.284Z"
   },
   {
    "duration": 0,
    "start_time": "2022-04-06T13:32:51.285Z"
   },
   {
    "duration": 0,
    "start_time": "2022-04-06T13:32:51.286Z"
   },
   {
    "duration": 0,
    "start_time": "2022-04-06T13:32:51.287Z"
   },
   {
    "duration": 0,
    "start_time": "2022-04-06T13:32:51.288Z"
   },
   {
    "duration": 0,
    "start_time": "2022-04-06T13:32:51.289Z"
   },
   {
    "duration": 0,
    "start_time": "2022-04-06T13:32:51.290Z"
   },
   {
    "duration": 0,
    "start_time": "2022-04-06T13:32:51.291Z"
   },
   {
    "duration": 0,
    "start_time": "2022-04-06T13:32:51.330Z"
   },
   {
    "duration": 0,
    "start_time": "2022-04-06T13:32:51.330Z"
   },
   {
    "duration": 0,
    "start_time": "2022-04-06T13:32:51.331Z"
   },
   {
    "duration": 0,
    "start_time": "2022-04-06T13:32:51.333Z"
   },
   {
    "duration": 7,
    "start_time": "2022-04-06T13:32:56.021Z"
   },
   {
    "duration": 50,
    "start_time": "2022-04-06T13:33:07.700Z"
   },
   {
    "duration": 14,
    "start_time": "2022-04-06T13:33:07.752Z"
   },
   {
    "duration": 6,
    "start_time": "2022-04-06T13:33:07.767Z"
   },
   {
    "duration": 14,
    "start_time": "2022-04-06T13:33:07.774Z"
   },
   {
    "duration": 13,
    "start_time": "2022-04-06T13:33:07.790Z"
   },
   {
    "duration": 13,
    "start_time": "2022-04-06T13:33:07.804Z"
   },
   {
    "duration": 24,
    "start_time": "2022-04-06T13:33:07.819Z"
   },
   {
    "duration": 24,
    "start_time": "2022-04-06T13:33:07.844Z"
   },
   {
    "duration": 13,
    "start_time": "2022-04-06T13:33:07.870Z"
   },
   {
    "duration": 13,
    "start_time": "2022-04-06T13:33:07.885Z"
   },
   {
    "duration": 15,
    "start_time": "2022-04-06T13:33:07.900Z"
   },
   {
    "duration": 13,
    "start_time": "2022-04-06T13:33:07.916Z"
   },
   {
    "duration": 9,
    "start_time": "2022-04-06T13:33:07.930Z"
   },
   {
    "duration": 3,
    "start_time": "2022-04-06T13:33:07.941Z"
   },
   {
    "duration": 7,
    "start_time": "2022-04-06T13:33:07.946Z"
   },
   {
    "duration": 11,
    "start_time": "2022-04-06T13:33:07.955Z"
   },
   {
    "duration": 7,
    "start_time": "2022-04-06T13:33:07.967Z"
   },
   {
    "duration": 20,
    "start_time": "2022-04-06T13:33:07.976Z"
   },
   {
    "duration": 12,
    "start_time": "2022-04-06T13:33:07.998Z"
   },
   {
    "duration": 19,
    "start_time": "2022-04-06T13:33:08.011Z"
   },
   {
    "duration": 9,
    "start_time": "2022-04-06T13:33:08.031Z"
   },
   {
    "duration": 9,
    "start_time": "2022-04-06T13:33:08.042Z"
   },
   {
    "duration": 15,
    "start_time": "2022-04-06T13:33:08.053Z"
   },
   {
    "duration": 27,
    "start_time": "2022-04-06T13:33:08.069Z"
   },
   {
    "duration": 5,
    "start_time": "2022-04-06T13:33:08.097Z"
   },
   {
    "duration": 22,
    "start_time": "2022-04-06T13:33:08.104Z"
   },
   {
    "duration": 21,
    "start_time": "2022-04-06T13:33:08.127Z"
   },
   {
    "duration": 27,
    "start_time": "2022-04-06T13:33:08.149Z"
   },
   {
    "duration": 15,
    "start_time": "2022-04-06T13:33:08.178Z"
   },
   {
    "duration": 22,
    "start_time": "2022-04-06T13:33:08.194Z"
   },
   {
    "duration": 17,
    "start_time": "2022-04-06T13:33:08.218Z"
   },
   {
    "duration": 0,
    "start_time": "2022-04-06T13:33:08.237Z"
   },
   {
    "duration": 0,
    "start_time": "2022-04-06T13:33:08.237Z"
   },
   {
    "duration": 0,
    "start_time": "2022-04-06T13:33:08.238Z"
   },
   {
    "duration": 0,
    "start_time": "2022-04-06T13:33:08.239Z"
   },
   {
    "duration": 0,
    "start_time": "2022-04-06T13:33:08.240Z"
   },
   {
    "duration": 0,
    "start_time": "2022-04-06T13:33:08.241Z"
   },
   {
    "duration": 0,
    "start_time": "2022-04-06T13:33:08.242Z"
   },
   {
    "duration": 0,
    "start_time": "2022-04-06T13:33:08.243Z"
   },
   {
    "duration": 0,
    "start_time": "2022-04-06T13:33:08.244Z"
   },
   {
    "duration": 0,
    "start_time": "2022-04-06T13:33:08.245Z"
   },
   {
    "duration": 0,
    "start_time": "2022-04-06T13:33:08.246Z"
   },
   {
    "duration": 0,
    "start_time": "2022-04-06T13:33:08.247Z"
   },
   {
    "duration": 5,
    "start_time": "2022-04-06T13:34:24.356Z"
   },
   {
    "duration": 6,
    "start_time": "2022-04-06T13:34:26.532Z"
   },
   {
    "duration": 13,
    "start_time": "2022-04-06T13:34:27.973Z"
   },
   {
    "duration": 24,
    "start_time": "2022-04-06T13:34:30.150Z"
   },
   {
    "duration": 23,
    "start_time": "2022-04-06T13:34:32.692Z"
   },
   {
    "duration": 6,
    "start_time": "2022-04-06T13:34:36.340Z"
   },
   {
    "duration": 5,
    "start_time": "2022-04-06T13:34:38.204Z"
   },
   {
    "duration": 13,
    "start_time": "2022-04-06T13:34:39.521Z"
   },
   {
    "duration": 5,
    "start_time": "2022-04-06T13:34:41.595Z"
   },
   {
    "duration": 13,
    "start_time": "2022-04-06T13:34:43.829Z"
   },
   {
    "duration": 9,
    "start_time": "2022-04-06T13:34:46.995Z"
   },
   {
    "duration": 8,
    "start_time": "2022-04-06T13:34:50.501Z"
   },
   {
    "duration": 8,
    "start_time": "2022-04-06T13:34:53.211Z"
   },
   {
    "duration": 11,
    "start_time": "2022-04-06T13:35:08.413Z"
   },
   {
    "duration": 13,
    "start_time": "2022-04-06T13:35:29.120Z"
   },
   {
    "duration": 7,
    "start_time": "2022-04-06T13:39:03.772Z"
   },
   {
    "duration": 6,
    "start_time": "2022-04-06T13:39:09.834Z"
   },
   {
    "duration": 7,
    "start_time": "2022-04-06T13:40:05.147Z"
   },
   {
    "duration": 13,
    "start_time": "2022-04-06T13:40:54.987Z"
   },
   {
    "duration": 14,
    "start_time": "2022-04-06T13:42:08.527Z"
   },
   {
    "duration": 14,
    "start_time": "2022-04-06T13:42:35.779Z"
   },
   {
    "duration": 3,
    "start_time": "2022-04-06T13:45:04.458Z"
   },
   {
    "duration": 7,
    "start_time": "2022-04-06T13:45:19.217Z"
   },
   {
    "duration": 7,
    "start_time": "2022-04-06T13:45:59.863Z"
   },
   {
    "duration": 7,
    "start_time": "2022-04-06T13:46:17.057Z"
   },
   {
    "duration": 7,
    "start_time": "2022-04-06T13:46:21.841Z"
   },
   {
    "duration": 10,
    "start_time": "2022-04-06T13:47:02.666Z"
   },
   {
    "duration": 9,
    "start_time": "2022-04-06T13:47:34.486Z"
   },
   {
    "duration": 4,
    "start_time": "2022-04-06T13:47:38.305Z"
   },
   {
    "duration": 4,
    "start_time": "2022-04-06T13:47:39.624Z"
   },
   {
    "duration": 17,
    "start_time": "2022-04-06T13:47:41.409Z"
   },
   {
    "duration": 7,
    "start_time": "2022-04-06T13:48:14.735Z"
   },
   {
    "duration": 9,
    "start_time": "2022-04-06T13:48:19.545Z"
   },
   {
    "duration": 3,
    "start_time": "2022-04-06T13:48:39.961Z"
   },
   {
    "duration": 9,
    "start_time": "2022-04-06T13:49:06.449Z"
   },
   {
    "duration": 11,
    "start_time": "2022-04-06T13:54:01.145Z"
   },
   {
    "duration": 10,
    "start_time": "2022-04-06T13:54:15.030Z"
   },
   {
    "duration": 10,
    "start_time": "2022-04-06T13:54:41.325Z"
   },
   {
    "duration": 9,
    "start_time": "2022-04-06T13:55:09.935Z"
   },
   {
    "duration": 9,
    "start_time": "2022-04-06T13:55:13.704Z"
   },
   {
    "duration": 4,
    "start_time": "2022-04-06T14:13:41.769Z"
   },
   {
    "duration": 4,
    "start_time": "2022-04-06T14:14:49.236Z"
   },
   {
    "duration": 9,
    "start_time": "2022-04-06T14:14:54.376Z"
   },
   {
    "duration": 5,
    "start_time": "2022-04-06T14:15:05.431Z"
   },
   {
    "duration": 8,
    "start_time": "2022-04-06T14:15:23.320Z"
   },
   {
    "duration": 15,
    "start_time": "2022-04-06T14:16:00.996Z"
   },
   {
    "duration": 12,
    "start_time": "2022-04-06T14:22:09.656Z"
   },
   {
    "duration": 13,
    "start_time": "2022-04-06T14:22:19.326Z"
   },
   {
    "duration": 3,
    "start_time": "2022-04-06T14:23:49.279Z"
   },
   {
    "duration": 7,
    "start_time": "2022-04-06T14:24:19.479Z"
   },
   {
    "duration": 17,
    "start_time": "2022-04-06T14:24:27.623Z"
   },
   {
    "duration": 14,
    "start_time": "2022-04-06T14:26:26.013Z"
   },
   {
    "duration": 4,
    "start_time": "2022-04-06T14:28:12.878Z"
   },
   {
    "duration": 12,
    "start_time": "2022-04-06T14:30:49.813Z"
   },
   {
    "duration": 9,
    "start_time": "2022-04-06T14:34:18.174Z"
   },
   {
    "duration": 4,
    "start_time": "2022-04-06T14:34:29.907Z"
   },
   {
    "duration": 6,
    "start_time": "2022-04-06T14:34:41.475Z"
   },
   {
    "duration": 7,
    "start_time": "2022-04-06T14:34:53.430Z"
   },
   {
    "duration": 9,
    "start_time": "2022-04-06T14:35:02.411Z"
   },
   {
    "duration": 7,
    "start_time": "2022-04-06T14:36:58.460Z"
   },
   {
    "duration": 10,
    "start_time": "2022-04-06T14:37:09.596Z"
   },
   {
    "duration": 9,
    "start_time": "2022-04-06T14:38:23.807Z"
   },
   {
    "duration": 13,
    "start_time": "2022-04-06T14:38:53.962Z"
   },
   {
    "duration": 9,
    "start_time": "2022-04-06T14:38:59.628Z"
   },
   {
    "duration": 9,
    "start_time": "2022-04-06T14:41:01.646Z"
   },
   {
    "duration": 8,
    "start_time": "2022-04-06T14:44:30.354Z"
   },
   {
    "duration": 4,
    "start_time": "2022-04-06T14:45:40.252Z"
   },
   {
    "duration": 9,
    "start_time": "2022-04-06T14:45:49.490Z"
   },
   {
    "duration": 12,
    "start_time": "2022-04-06T14:46:14.714Z"
   },
   {
    "duration": 5,
    "start_time": "2022-04-06T14:47:13.431Z"
   },
   {
    "duration": 7,
    "start_time": "2022-04-06T14:47:30.552Z"
   },
   {
    "duration": 8,
    "start_time": "2022-04-06T14:48:30.378Z"
   },
   {
    "duration": 10,
    "start_time": "2022-04-06T14:48:42.403Z"
   },
   {
    "duration": 10,
    "start_time": "2022-04-06T14:51:46.438Z"
   },
   {
    "duration": 9,
    "start_time": "2022-04-06T14:59:09.685Z"
   },
   {
    "duration": 9,
    "start_time": "2022-04-06T15:06:50.042Z"
   },
   {
    "duration": 12,
    "start_time": "2022-04-06T15:07:08.842Z"
   },
   {
    "duration": 3,
    "start_time": "2022-04-06T15:12:41.179Z"
   },
   {
    "duration": 10,
    "start_time": "2022-04-06T15:15:48.530Z"
   },
   {
    "duration": 10,
    "start_time": "2022-04-06T15:18:42.201Z"
   },
   {
    "duration": 8,
    "start_time": "2022-04-06T15:23:55.629Z"
   },
   {
    "duration": 10,
    "start_time": "2022-04-06T15:24:15.226Z"
   },
   {
    "duration": 582,
    "start_time": "2022-04-06T19:27:07.446Z"
   },
   {
    "duration": 24,
    "start_time": "2022-04-06T19:27:08.030Z"
   },
   {
    "duration": 10,
    "start_time": "2022-04-06T19:27:08.055Z"
   },
   {
    "duration": 5,
    "start_time": "2022-04-06T19:27:08.067Z"
   },
   {
    "duration": 5,
    "start_time": "2022-04-06T19:27:08.075Z"
   },
   {
    "duration": 4,
    "start_time": "2022-04-06T19:27:08.082Z"
   },
   {
    "duration": 54,
    "start_time": "2022-04-06T19:27:08.088Z"
   },
   {
    "duration": 17,
    "start_time": "2022-04-06T19:27:08.144Z"
   },
   {
    "duration": 8,
    "start_time": "2022-04-06T19:27:08.163Z"
   },
   {
    "duration": 8,
    "start_time": "2022-04-06T19:27:08.173Z"
   },
   {
    "duration": 6,
    "start_time": "2022-04-06T19:27:08.183Z"
   },
   {
    "duration": 42,
    "start_time": "2022-04-06T19:27:08.191Z"
   },
   {
    "duration": 6,
    "start_time": "2022-04-06T19:27:08.235Z"
   },
   {
    "duration": 4,
    "start_time": "2022-04-06T19:27:08.246Z"
   },
   {
    "duration": 8,
    "start_time": "2022-04-06T19:27:08.252Z"
   },
   {
    "duration": 11,
    "start_time": "2022-04-06T19:27:08.262Z"
   },
   {
    "duration": 11,
    "start_time": "2022-04-06T19:27:08.274Z"
   },
   {
    "duration": 18,
    "start_time": "2022-04-06T19:27:08.287Z"
   },
   {
    "duration": 42,
    "start_time": "2022-04-06T19:27:08.307Z"
   },
   {
    "duration": 8,
    "start_time": "2022-04-06T19:27:08.351Z"
   },
   {
    "duration": 21,
    "start_time": "2022-04-06T19:27:08.361Z"
   },
   {
    "duration": 13,
    "start_time": "2022-04-06T19:27:08.384Z"
   },
   {
    "duration": 41,
    "start_time": "2022-04-06T19:27:08.399Z"
   },
   {
    "duration": 31,
    "start_time": "2022-04-06T19:27:08.443Z"
   },
   {
    "duration": 10,
    "start_time": "2022-04-06T19:27:08.476Z"
   },
   {
    "duration": 9,
    "start_time": "2022-04-06T19:27:08.488Z"
   },
   {
    "duration": 9,
    "start_time": "2022-04-06T19:27:08.499Z"
   },
   {
    "duration": 18,
    "start_time": "2022-04-06T19:27:08.532Z"
   },
   {
    "duration": 16,
    "start_time": "2022-04-06T19:27:08.552Z"
   },
   {
    "duration": 18,
    "start_time": "2022-04-06T19:27:08.570Z"
   },
   {
    "duration": 6,
    "start_time": "2022-04-06T19:27:08.590Z"
   },
   {
    "duration": 40,
    "start_time": "2022-04-06T19:27:08.597Z"
   },
   {
    "duration": 5,
    "start_time": "2022-04-06T19:27:08.639Z"
   },
   {
    "duration": 15,
    "start_time": "2022-04-06T19:27:08.646Z"
   },
   {
    "duration": 23,
    "start_time": "2022-04-06T19:27:08.663Z"
   },
   {
    "duration": 54,
    "start_time": "2022-04-06T19:27:08.688Z"
   },
   {
    "duration": 9,
    "start_time": "2022-04-06T19:27:08.743Z"
   },
   {
    "duration": 6,
    "start_time": "2022-04-06T19:27:08.754Z"
   },
   {
    "duration": 16,
    "start_time": "2022-04-06T19:27:08.762Z"
   },
   {
    "duration": 4,
    "start_time": "2022-04-06T19:27:08.780Z"
   },
   {
    "duration": 46,
    "start_time": "2022-04-06T19:27:08.788Z"
   },
   {
    "duration": 10,
    "start_time": "2022-04-06T19:27:08.835Z"
   },
   {
    "duration": 5,
    "start_time": "2022-04-06T19:27:08.848Z"
   },
   {
    "duration": 12,
    "start_time": "2022-04-06T19:27:08.855Z"
   },
   {
    "duration": 10,
    "start_time": "2022-04-06T19:27:08.868Z"
   },
   {
    "duration": 13,
    "start_time": "2022-04-06T19:27:08.880Z"
   },
   {
    "duration": 46,
    "start_time": "2022-04-06T19:27:08.895Z"
   },
   {
    "duration": 11,
    "start_time": "2022-04-06T19:27:08.943Z"
   },
   {
    "duration": 16,
    "start_time": "2022-04-06T19:27:08.956Z"
   },
   {
    "duration": 11,
    "start_time": "2022-04-06T19:27:08.974Z"
   },
   {
    "duration": 15,
    "start_time": "2022-04-06T19:27:08.987Z"
   },
   {
    "duration": 38,
    "start_time": "2022-04-06T19:27:09.004Z"
   },
   {
    "duration": 8,
    "start_time": "2022-04-06T19:31:44.578Z"
   },
   {
    "duration": 440,
    "start_time": "2022-04-06T21:15:58.319Z"
   },
   {
    "duration": 13,
    "start_time": "2022-04-06T21:15:58.761Z"
   },
   {
    "duration": 12,
    "start_time": "2022-04-06T21:15:58.776Z"
   },
   {
    "duration": 8,
    "start_time": "2022-04-06T21:15:58.790Z"
   },
   {
    "duration": 8,
    "start_time": "2022-04-06T21:15:58.799Z"
   },
   {
    "duration": 10,
    "start_time": "2022-04-06T21:15:58.808Z"
   },
   {
    "duration": 16,
    "start_time": "2022-04-06T21:15:58.819Z"
   },
   {
    "duration": 15,
    "start_time": "2022-04-06T21:15:58.836Z"
   },
   {
    "duration": 6,
    "start_time": "2022-04-06T21:15:58.863Z"
   },
   {
    "duration": 4,
    "start_time": "2022-04-06T21:15:58.872Z"
   },
   {
    "duration": 6,
    "start_time": "2022-04-06T21:15:58.878Z"
   },
   {
    "duration": 5,
    "start_time": "2022-04-06T21:15:58.885Z"
   },
   {
    "duration": 4,
    "start_time": "2022-04-06T21:15:58.892Z"
   },
   {
    "duration": 3,
    "start_time": "2022-04-06T21:15:58.897Z"
   },
   {
    "duration": 5,
    "start_time": "2022-04-06T21:15:58.902Z"
   },
   {
    "duration": 6,
    "start_time": "2022-04-06T21:15:58.909Z"
   },
   {
    "duration": 6,
    "start_time": "2022-04-06T21:15:58.916Z"
   },
   {
    "duration": 47,
    "start_time": "2022-04-06T21:15:58.923Z"
   },
   {
    "duration": 12,
    "start_time": "2022-04-06T21:15:58.971Z"
   },
   {
    "duration": 7,
    "start_time": "2022-04-06T21:15:58.985Z"
   },
   {
    "duration": 10,
    "start_time": "2022-04-06T21:15:58.994Z"
   },
   {
    "duration": 8,
    "start_time": "2022-04-06T21:15:59.005Z"
   },
   {
    "duration": 8,
    "start_time": "2022-04-06T21:15:59.015Z"
   },
   {
    "duration": 42,
    "start_time": "2022-04-06T21:15:59.024Z"
   },
   {
    "duration": 6,
    "start_time": "2022-04-06T21:15:59.068Z"
   },
   {
    "duration": 8,
    "start_time": "2022-04-06T21:15:59.076Z"
   },
   {
    "duration": 8,
    "start_time": "2022-04-06T21:15:59.085Z"
   },
   {
    "duration": 15,
    "start_time": "2022-04-06T21:15:59.096Z"
   },
   {
    "duration": 10,
    "start_time": "2022-04-06T21:15:59.113Z"
   },
   {
    "duration": 45,
    "start_time": "2022-04-06T21:15:59.124Z"
   },
   {
    "duration": 5,
    "start_time": "2022-04-06T21:15:59.171Z"
   },
   {
    "duration": 11,
    "start_time": "2022-04-06T21:15:59.177Z"
   },
   {
    "duration": 7,
    "start_time": "2022-04-06T21:15:59.189Z"
   },
   {
    "duration": 13,
    "start_time": "2022-04-06T21:15:59.197Z"
   },
   {
    "duration": 19,
    "start_time": "2022-04-06T21:15:59.211Z"
   },
   {
    "duration": 31,
    "start_time": "2022-04-06T21:15:59.232Z"
   },
   {
    "duration": 5,
    "start_time": "2022-04-06T21:15:59.264Z"
   },
   {
    "duration": 10,
    "start_time": "2022-04-06T21:15:59.270Z"
   },
   {
    "duration": 15,
    "start_time": "2022-04-06T21:15:59.281Z"
   },
   {
    "duration": 4,
    "start_time": "2022-04-06T21:15:59.297Z"
   },
   {
    "duration": 12,
    "start_time": "2022-04-06T21:15:59.303Z"
   },
   {
    "duration": 9,
    "start_time": "2022-04-06T21:15:59.316Z"
   },
   {
    "duration": 6,
    "start_time": "2022-04-06T21:15:59.326Z"
   },
   {
    "duration": 37,
    "start_time": "2022-04-06T21:15:59.333Z"
   },
   {
    "duration": 9,
    "start_time": "2022-04-06T21:15:59.371Z"
   },
   {
    "duration": 13,
    "start_time": "2022-04-06T21:15:59.381Z"
   },
   {
    "duration": 10,
    "start_time": "2022-04-06T21:15:59.395Z"
   },
   {
    "duration": 8,
    "start_time": "2022-04-06T21:15:59.406Z"
   },
   {
    "duration": 15,
    "start_time": "2022-04-06T21:15:59.415Z"
   },
   {
    "duration": 33,
    "start_time": "2022-04-06T21:15:59.431Z"
   },
   {
    "duration": 9,
    "start_time": "2022-04-06T21:15:59.465Z"
   },
   {
    "duration": 10,
    "start_time": "2022-04-06T21:15:59.476Z"
   },
   {
    "duration": 11,
    "start_time": "2022-04-06T21:15:59.487Z"
   },
   {
    "duration": 8,
    "start_time": "2022-04-06T21:15:59.499Z"
   },
   {
    "duration": 9,
    "start_time": "2022-04-06T21:16:08.691Z"
   },
   {
    "duration": 9,
    "start_time": "2022-04-06T21:17:38.833Z"
   },
   {
    "duration": 9,
    "start_time": "2022-04-06T21:19:13.566Z"
   },
   {
    "duration": 64,
    "start_time": "2022-04-06T21:19:22.680Z"
   },
   {
    "duration": 10,
    "start_time": "2022-04-06T21:19:25.728Z"
   },
   {
    "duration": 12,
    "start_time": "2022-04-06T21:21:17.317Z"
   },
   {
    "duration": 10,
    "start_time": "2022-04-06T21:21:56.569Z"
   },
   {
    "duration": 20,
    "start_time": "2022-04-06T21:26:50.661Z"
   },
   {
    "duration": 8,
    "start_time": "2022-04-06T21:27:17.780Z"
   },
   {
    "duration": 10,
    "start_time": "2022-04-06T21:39:42.186Z"
   },
   {
    "duration": 10,
    "start_time": "2022-04-06T21:47:13.257Z"
   },
   {
    "duration": 12,
    "start_time": "2022-04-06T21:50:37.001Z"
   },
   {
    "duration": 7,
    "start_time": "2022-04-06T21:52:17.359Z"
   },
   {
    "duration": 10,
    "start_time": "2022-04-06T21:52:33.881Z"
   },
   {
    "duration": 10,
    "start_time": "2022-04-06T21:55:55.711Z"
   },
   {
    "duration": 1732,
    "start_time": "2022-04-06T21:56:30.799Z"
   },
   {
    "duration": 57,
    "start_time": "2022-04-06T21:57:48.195Z"
   },
   {
    "duration": 14,
    "start_time": "2022-04-06T21:57:48.254Z"
   },
   {
    "duration": 5,
    "start_time": "2022-04-06T21:57:48.270Z"
   },
   {
    "duration": 4,
    "start_time": "2022-04-06T21:57:48.277Z"
   },
   {
    "duration": 8,
    "start_time": "2022-04-06T21:57:48.283Z"
   },
   {
    "duration": 3,
    "start_time": "2022-04-06T21:57:48.293Z"
   },
   {
    "duration": 15,
    "start_time": "2022-04-06T21:57:48.298Z"
   },
   {
    "duration": 49,
    "start_time": "2022-04-06T21:57:48.315Z"
   },
   {
    "duration": 7,
    "start_time": "2022-04-06T21:57:48.366Z"
   },
   {
    "duration": 5,
    "start_time": "2022-04-06T21:57:48.375Z"
   },
   {
    "duration": 5,
    "start_time": "2022-04-06T21:57:48.381Z"
   },
   {
    "duration": 6,
    "start_time": "2022-04-06T21:57:48.387Z"
   },
   {
    "duration": 5,
    "start_time": "2022-04-06T21:57:48.395Z"
   },
   {
    "duration": 3,
    "start_time": "2022-04-06T21:57:48.401Z"
   },
   {
    "duration": 5,
    "start_time": "2022-04-06T21:57:48.405Z"
   },
   {
    "duration": 8,
    "start_time": "2022-04-06T21:57:48.411Z"
   },
   {
    "duration": 43,
    "start_time": "2022-04-06T21:57:48.420Z"
   },
   {
    "duration": 24,
    "start_time": "2022-04-06T21:57:48.465Z"
   },
   {
    "duration": 18,
    "start_time": "2022-04-06T21:57:48.491Z"
   },
   {
    "duration": 10,
    "start_time": "2022-04-06T21:57:48.511Z"
   },
   {
    "duration": 18,
    "start_time": "2022-04-06T21:57:48.523Z"
   },
   {
    "duration": 17,
    "start_time": "2022-04-06T21:57:48.542Z"
   },
   {
    "duration": 12,
    "start_time": "2022-04-06T21:57:48.560Z"
   },
   {
    "duration": 10,
    "start_time": "2022-04-06T21:57:48.573Z"
   },
   {
    "duration": 21,
    "start_time": "2022-04-06T21:57:48.585Z"
   },
   {
    "duration": 7,
    "start_time": "2022-04-06T21:57:48.607Z"
   },
   {
    "duration": 9,
    "start_time": "2022-04-06T21:57:48.616Z"
   },
   {
    "duration": 6,
    "start_time": "2022-04-06T21:57:48.629Z"
   },
   {
    "duration": 18,
    "start_time": "2022-04-06T21:57:48.663Z"
   },
   {
    "duration": 11,
    "start_time": "2022-04-06T21:57:48.683Z"
   },
   {
    "duration": 17,
    "start_time": "2022-04-06T21:57:48.695Z"
   },
   {
    "duration": 12,
    "start_time": "2022-04-06T21:57:48.713Z"
   },
   {
    "duration": 10,
    "start_time": "2022-04-06T21:57:48.726Z"
   },
   {
    "duration": 11,
    "start_time": "2022-04-06T21:57:48.763Z"
   },
   {
    "duration": 5,
    "start_time": "2022-04-06T21:57:48.776Z"
   },
   {
    "duration": 12,
    "start_time": "2022-04-06T21:57:48.782Z"
   },
   {
    "duration": 23,
    "start_time": "2022-04-06T21:57:48.795Z"
   },
   {
    "duration": 17,
    "start_time": "2022-04-06T21:57:48.819Z"
   },
   {
    "duration": 31,
    "start_time": "2022-04-06T21:57:48.837Z"
   },
   {
    "duration": 7,
    "start_time": "2022-04-06T21:57:48.869Z"
   },
   {
    "duration": 15,
    "start_time": "2022-04-06T21:57:48.877Z"
   },
   {
    "duration": 4,
    "start_time": "2022-04-06T21:57:48.894Z"
   },
   {
    "duration": 12,
    "start_time": "2022-04-06T21:57:48.900Z"
   },
   {
    "duration": 9,
    "start_time": "2022-04-06T21:57:48.913Z"
   },
   {
    "duration": 4,
    "start_time": "2022-04-06T21:57:48.962Z"
   },
   {
    "duration": 12,
    "start_time": "2022-04-06T21:57:48.968Z"
   },
   {
    "duration": 9,
    "start_time": "2022-04-06T21:57:48.982Z"
   },
   {
    "duration": 14,
    "start_time": "2022-04-06T21:57:48.993Z"
   },
   {
    "duration": 10,
    "start_time": "2022-04-06T21:57:49.009Z"
   },
   {
    "duration": 10,
    "start_time": "2022-04-06T21:57:49.020Z"
   },
   {
    "duration": 35,
    "start_time": "2022-04-06T21:57:49.032Z"
   },
   {
    "duration": 9,
    "start_time": "2022-04-06T21:57:49.068Z"
   },
   {
    "duration": 13,
    "start_time": "2022-04-06T21:57:49.079Z"
   },
   {
    "duration": 9,
    "start_time": "2022-04-06T21:57:49.093Z"
   },
   {
    "duration": 11,
    "start_time": "2022-04-06T21:57:49.104Z"
   },
   {
    "duration": 11,
    "start_time": "2022-04-06T21:57:49.117Z"
   },
   {
    "duration": 39,
    "start_time": "2022-04-06T21:57:49.130Z"
   },
   {
    "duration": 10,
    "start_time": "2022-04-06T21:57:49.171Z"
   },
   {
    "duration": 10,
    "start_time": "2022-04-06T21:57:49.182Z"
   },
   {
    "duration": 9,
    "start_time": "2022-04-06T21:57:49.194Z"
   },
   {
    "duration": 9,
    "start_time": "2022-04-06T21:57:49.204Z"
   },
   {
    "duration": 13,
    "start_time": "2022-04-06T21:57:49.215Z"
   },
   {
    "duration": 10,
    "start_time": "2022-04-06T21:58:48.228Z"
   },
   {
    "duration": 11,
    "start_time": "2022-04-06T21:59:43.478Z"
   },
   {
    "duration": 8,
    "start_time": "2022-04-06T22:15:55.541Z"
   },
   {
    "duration": 12,
    "start_time": "2022-04-06T22:20:13.094Z"
   },
   {
    "duration": 10,
    "start_time": "2022-04-06T22:20:45.542Z"
   },
   {
    "duration": 8,
    "start_time": "2022-04-06T22:23:00.661Z"
   },
   {
    "duration": 10,
    "start_time": "2022-04-06T22:23:27.149Z"
   },
   {
    "duration": 434,
    "start_time": "2022-04-06T22:42:48.120Z"
   },
   {
    "duration": 429,
    "start_time": "2022-04-06T22:43:05.143Z"
   },
   {
    "duration": 8,
    "start_time": "2022-04-06T22:43:50.401Z"
   },
   {
    "duration": 12,
    "start_time": "2022-04-06T22:43:54.113Z"
   },
   {
    "duration": 457,
    "start_time": "2022-04-06T22:44:03.846Z"
   },
   {
    "duration": 106,
    "start_time": "2022-04-06T22:44:14.024Z"
   },
   {
    "duration": 426,
    "start_time": "2022-04-06T22:44:17.255Z"
   },
   {
    "duration": 113,
    "start_time": "2022-04-06T22:44:53.856Z"
   },
   {
    "duration": 104,
    "start_time": "2022-04-06T22:45:03.415Z"
   },
   {
    "duration": 3,
    "start_time": "2022-04-06T22:45:10.616Z"
   },
   {
    "duration": 12,
    "start_time": "2022-04-06T22:45:15.359Z"
   },
   {
    "duration": 11,
    "start_time": "2022-04-06T22:45:29.936Z"
   },
   {
    "duration": 41,
    "start_time": "2022-04-06T22:45:36.450Z"
   },
   {
    "duration": 8,
    "start_time": "2022-04-06T22:45:44.185Z"
   },
   {
    "duration": 5,
    "start_time": "2022-04-06T22:46:09.799Z"
   },
   {
    "duration": 8,
    "start_time": "2022-04-06T22:49:05.590Z"
   },
   {
    "duration": 6,
    "start_time": "2022-04-06T22:49:14.279Z"
   },
   {
    "duration": 10,
    "start_time": "2022-04-06T22:49:24.839Z"
   },
   {
    "duration": 10,
    "start_time": "2022-04-06T22:59:00.036Z"
   },
   {
    "duration": 113,
    "start_time": "2022-04-06T23:03:25.923Z"
   },
   {
    "duration": 9,
    "start_time": "2022-04-06T23:09:31.245Z"
   },
   {
    "duration": 10,
    "start_time": "2022-04-06T23:09:40.010Z"
   },
   {
    "duration": 10,
    "start_time": "2022-04-06T23:10:12.828Z"
   },
   {
    "duration": 11,
    "start_time": "2022-04-06T23:18:59.993Z"
   },
   {
    "duration": 57,
    "start_time": "2022-04-06T23:40:30.298Z"
   },
   {
    "duration": 14,
    "start_time": "2022-04-06T23:40:30.356Z"
   },
   {
    "duration": 14,
    "start_time": "2022-04-06T23:40:30.371Z"
   },
   {
    "duration": 6,
    "start_time": "2022-04-06T23:40:30.387Z"
   },
   {
    "duration": 8,
    "start_time": "2022-04-06T23:40:30.395Z"
   },
   {
    "duration": 9,
    "start_time": "2022-04-06T23:40:30.404Z"
   },
   {
    "duration": 26,
    "start_time": "2022-04-06T23:40:30.414Z"
   },
   {
    "duration": 31,
    "start_time": "2022-04-06T23:40:30.441Z"
   },
   {
    "duration": 16,
    "start_time": "2022-04-06T23:40:30.474Z"
   },
   {
    "duration": 7,
    "start_time": "2022-04-06T23:40:30.493Z"
   },
   {
    "duration": 12,
    "start_time": "2022-04-06T23:40:30.501Z"
   },
   {
    "duration": 12,
    "start_time": "2022-04-06T23:40:30.514Z"
   },
   {
    "duration": 8,
    "start_time": "2022-04-06T23:40:30.528Z"
   },
   {
    "duration": 7,
    "start_time": "2022-04-06T23:40:30.538Z"
   },
   {
    "duration": 12,
    "start_time": "2022-04-06T23:40:30.546Z"
   },
   {
    "duration": 20,
    "start_time": "2022-04-06T23:40:30.559Z"
   },
   {
    "duration": 38,
    "start_time": "2022-04-06T23:40:30.581Z"
   },
   {
    "duration": 31,
    "start_time": "2022-04-06T23:40:30.621Z"
   },
   {
    "duration": 41,
    "start_time": "2022-04-06T23:40:30.654Z"
   },
   {
    "duration": 44,
    "start_time": "2022-04-06T23:40:30.696Z"
   },
   {
    "duration": 19,
    "start_time": "2022-04-06T23:40:30.741Z"
   },
   {
    "duration": 27,
    "start_time": "2022-04-06T23:40:30.761Z"
   },
   {
    "duration": 13,
    "start_time": "2022-04-06T23:40:30.789Z"
   },
   {
    "duration": 23,
    "start_time": "2022-04-06T23:40:30.804Z"
   },
   {
    "duration": 6,
    "start_time": "2022-04-06T23:40:30.829Z"
   },
   {
    "duration": 10,
    "start_time": "2022-04-06T23:40:30.836Z"
   },
   {
    "duration": 13,
    "start_time": "2022-04-06T23:40:30.847Z"
   },
   {
    "duration": 17,
    "start_time": "2022-04-06T23:40:30.863Z"
   },
   {
    "duration": 10,
    "start_time": "2022-04-06T23:40:30.881Z"
   },
   {
    "duration": 29,
    "start_time": "2022-04-06T23:40:30.893Z"
   },
   {
    "duration": 6,
    "start_time": "2022-04-06T23:40:30.923Z"
   },
   {
    "duration": 11,
    "start_time": "2022-04-06T23:40:30.930Z"
   },
   {
    "duration": 25,
    "start_time": "2022-04-06T23:40:30.942Z"
   },
   {
    "duration": 20,
    "start_time": "2022-04-06T23:40:30.968Z"
   },
   {
    "duration": 15,
    "start_time": "2022-04-06T23:40:30.990Z"
   },
   {
    "duration": 36,
    "start_time": "2022-04-06T23:40:31.007Z"
   },
   {
    "duration": 8,
    "start_time": "2022-04-06T23:40:31.044Z"
   },
   {
    "duration": 34,
    "start_time": "2022-04-06T23:40:31.053Z"
   },
   {
    "duration": 4,
    "start_time": "2022-04-06T23:40:31.089Z"
   },
   {
    "duration": 12,
    "start_time": "2022-04-06T23:40:31.094Z"
   },
   {
    "duration": 9,
    "start_time": "2022-04-06T23:40:31.107Z"
   },
   {
    "duration": 8,
    "start_time": "2022-04-06T23:40:31.117Z"
   },
   {
    "duration": 9,
    "start_time": "2022-04-06T23:40:31.126Z"
   },
   {
    "duration": 6,
    "start_time": "2022-04-06T23:40:31.136Z"
   },
   {
    "duration": 23,
    "start_time": "2022-04-06T23:40:31.143Z"
   },
   {
    "duration": 9,
    "start_time": "2022-04-06T23:40:31.167Z"
   },
   {
    "duration": 9,
    "start_time": "2022-04-06T23:40:31.178Z"
   },
   {
    "duration": 9,
    "start_time": "2022-04-06T23:40:31.188Z"
   },
   {
    "duration": 24,
    "start_time": "2022-04-06T23:40:31.199Z"
   },
   {
    "duration": 10,
    "start_time": "2022-04-06T23:40:31.225Z"
   },
   {
    "duration": 9,
    "start_time": "2022-04-06T23:40:31.237Z"
   },
   {
    "duration": 11,
    "start_time": "2022-04-06T23:40:31.263Z"
   },
   {
    "duration": 9,
    "start_time": "2022-04-06T23:40:31.276Z"
   },
   {
    "duration": 11,
    "start_time": "2022-04-06T23:40:31.287Z"
   },
   {
    "duration": 13,
    "start_time": "2022-04-06T23:40:31.300Z"
   },
   {
    "duration": 17,
    "start_time": "2022-04-06T23:40:31.314Z"
   },
   {
    "duration": 31,
    "start_time": "2022-04-06T23:40:31.333Z"
   },
   {
    "duration": 10,
    "start_time": "2022-04-06T23:40:31.365Z"
   },
   {
    "duration": 7,
    "start_time": "2022-04-06T23:56:49.770Z"
   },
   {
    "duration": 10,
    "start_time": "2022-04-07T00:16:53.940Z"
   },
   {
    "duration": 57,
    "start_time": "2022-04-07T00:17:04.650Z"
   },
   {
    "duration": 16,
    "start_time": "2022-04-07T00:17:04.710Z"
   },
   {
    "duration": 6,
    "start_time": "2022-04-07T00:17:04.728Z"
   },
   {
    "duration": 4,
    "start_time": "2022-04-07T00:17:04.765Z"
   },
   {
    "duration": 8,
    "start_time": "2022-04-07T00:17:04.771Z"
   },
   {
    "duration": 5,
    "start_time": "2022-04-07T00:17:04.780Z"
   },
   {
    "duration": 15,
    "start_time": "2022-04-07T00:17:04.787Z"
   },
   {
    "duration": 14,
    "start_time": "2022-04-07T00:17:04.804Z"
   },
   {
    "duration": 44,
    "start_time": "2022-04-07T00:17:04.820Z"
   },
   {
    "duration": 4,
    "start_time": "2022-04-07T00:17:04.867Z"
   },
   {
    "duration": 7,
    "start_time": "2022-04-07T00:17:04.872Z"
   },
   {
    "duration": 9,
    "start_time": "2022-04-07T00:17:04.881Z"
   },
   {
    "duration": 6,
    "start_time": "2022-04-07T00:17:04.891Z"
   },
   {
    "duration": 17,
    "start_time": "2022-04-07T00:17:04.898Z"
   },
   {
    "duration": 5,
    "start_time": "2022-04-07T00:17:04.917Z"
   },
   {
    "duration": 6,
    "start_time": "2022-04-07T00:17:04.923Z"
   },
   {
    "duration": 5,
    "start_time": "2022-04-07T00:17:04.931Z"
   },
   {
    "duration": 15,
    "start_time": "2022-04-07T00:17:04.937Z"
   },
   {
    "duration": 18,
    "start_time": "2022-04-07T00:17:04.953Z"
   },
   {
    "duration": 7,
    "start_time": "2022-04-07T00:17:04.973Z"
   },
   {
    "duration": 11,
    "start_time": "2022-04-07T00:17:04.981Z"
   },
   {
    "duration": 8,
    "start_time": "2022-04-07T00:17:04.993Z"
   },
   {
    "duration": 9,
    "start_time": "2022-04-07T00:17:05.002Z"
   },
   {
    "duration": 21,
    "start_time": "2022-04-07T00:17:05.013Z"
   },
   {
    "duration": 32,
    "start_time": "2022-04-07T00:17:05.035Z"
   },
   {
    "duration": 10,
    "start_time": "2022-04-07T00:17:05.068Z"
   },
   {
    "duration": 9,
    "start_time": "2022-04-07T00:17:05.079Z"
   },
   {
    "duration": 17,
    "start_time": "2022-04-07T00:17:05.091Z"
   },
   {
    "duration": 10,
    "start_time": "2022-04-07T00:17:05.109Z"
   },
   {
    "duration": 20,
    "start_time": "2022-04-07T00:17:05.120Z"
   },
   {
    "duration": 6,
    "start_time": "2022-04-07T00:17:05.162Z"
   },
   {
    "duration": 5,
    "start_time": "2022-04-07T00:17:05.169Z"
   },
   {
    "duration": 7,
    "start_time": "2022-04-07T00:17:05.175Z"
   },
   {
    "duration": 11,
    "start_time": "2022-04-07T00:17:05.183Z"
   },
   {
    "duration": 24,
    "start_time": "2022-04-07T00:17:05.196Z"
   },
   {
    "duration": 15,
    "start_time": "2022-04-07T00:17:05.222Z"
   },
   {
    "duration": 25,
    "start_time": "2022-04-07T00:17:05.238Z"
   },
   {
    "duration": 5,
    "start_time": "2022-04-07T00:17:05.264Z"
   },
   {
    "duration": 25,
    "start_time": "2022-04-07T00:17:05.270Z"
   },
   {
    "duration": 4,
    "start_time": "2022-04-07T00:17:05.296Z"
   },
   {
    "duration": 15,
    "start_time": "2022-04-07T00:17:05.301Z"
   },
   {
    "duration": 8,
    "start_time": "2022-04-07T00:17:05.317Z"
   },
   {
    "duration": 9,
    "start_time": "2022-04-07T00:17:05.327Z"
   },
   {
    "duration": 8,
    "start_time": "2022-04-07T00:17:05.337Z"
   },
   {
    "duration": 3,
    "start_time": "2022-04-07T00:17:05.362Z"
   },
   {
    "duration": 11,
    "start_time": "2022-04-07T00:17:05.367Z"
   },
   {
    "duration": 8,
    "start_time": "2022-04-07T00:17:05.379Z"
   },
   {
    "duration": 10,
    "start_time": "2022-04-07T00:17:05.389Z"
   },
   {
    "duration": 10,
    "start_time": "2022-04-07T00:17:05.400Z"
   },
   {
    "duration": 12,
    "start_time": "2022-04-07T00:17:05.411Z"
   },
   {
    "duration": 8,
    "start_time": "2022-04-07T00:17:05.424Z"
   },
   {
    "duration": 30,
    "start_time": "2022-04-07T00:17:05.434Z"
   },
   {
    "duration": 10,
    "start_time": "2022-04-07T00:17:05.465Z"
   },
   {
    "duration": 8,
    "start_time": "2022-04-07T00:17:05.476Z"
   },
   {
    "duration": 10,
    "start_time": "2022-04-07T00:17:05.485Z"
   },
   {
    "duration": 8,
    "start_time": "2022-04-07T00:17:05.496Z"
   },
   {
    "duration": 12,
    "start_time": "2022-04-07T00:17:05.505Z"
   },
   {
    "duration": 11,
    "start_time": "2022-04-07T00:17:05.518Z"
   },
   {
    "duration": 8,
    "start_time": "2022-04-07T00:17:05.530Z"
   },
   {
    "duration": 9,
    "start_time": "2022-04-07T00:17:16.923Z"
   },
   {
    "duration": 9,
    "start_time": "2022-04-07T00:17:40.548Z"
   },
   {
    "duration": 9,
    "start_time": "2022-04-07T00:18:01.131Z"
   },
   {
    "duration": 1797,
    "start_time": "2022-04-07T00:18:09.939Z"
   },
   {
    "duration": 1683,
    "start_time": "2022-04-07T00:18:20.643Z"
   },
   {
    "duration": 9,
    "start_time": "2022-04-07T00:18:27.163Z"
   },
   {
    "duration": 6,
    "start_time": "2022-04-07T00:26:17.694Z"
   },
   {
    "duration": 9,
    "start_time": "2022-04-07T00:27:57.176Z"
   },
   {
    "duration": 10,
    "start_time": "2022-04-07T00:28:22.168Z"
   },
   {
    "duration": 9,
    "start_time": "2022-04-07T00:30:04.681Z"
   },
   {
    "duration": 9,
    "start_time": "2022-04-07T00:30:10.824Z"
   },
   {
    "duration": 9,
    "start_time": "2022-04-07T00:30:42.937Z"
   },
   {
    "duration": 17,
    "start_time": "2022-04-07T00:30:50.992Z"
   },
   {
    "duration": 9,
    "start_time": "2022-04-07T00:31:07.171Z"
   },
   {
    "duration": 8,
    "start_time": "2022-04-07T00:31:11.911Z"
   },
   {
    "duration": 8,
    "start_time": "2022-04-07T00:31:18.628Z"
   },
   {
    "duration": 9,
    "start_time": "2022-04-07T00:31:32.705Z"
   },
   {
    "duration": 8,
    "start_time": "2022-04-07T00:31:51.237Z"
   },
   {
    "duration": 51,
    "start_time": "2022-04-07T00:32:02.752Z"
   },
   {
    "duration": 13,
    "start_time": "2022-04-07T00:32:02.805Z"
   },
   {
    "duration": 5,
    "start_time": "2022-04-07T00:32:02.819Z"
   },
   {
    "duration": 16,
    "start_time": "2022-04-07T00:32:02.826Z"
   },
   {
    "duration": 21,
    "start_time": "2022-04-07T00:32:02.843Z"
   },
   {
    "duration": 4,
    "start_time": "2022-04-07T00:32:02.865Z"
   },
   {
    "duration": 16,
    "start_time": "2022-04-07T00:32:02.870Z"
   },
   {
    "duration": 13,
    "start_time": "2022-04-07T00:32:02.887Z"
   },
   {
    "duration": 7,
    "start_time": "2022-04-07T00:32:02.902Z"
   },
   {
    "duration": 5,
    "start_time": "2022-04-07T00:32:02.911Z"
   },
   {
    "duration": 11,
    "start_time": "2022-04-07T00:32:02.917Z"
   },
   {
    "duration": 34,
    "start_time": "2022-04-07T00:32:02.930Z"
   },
   {
    "duration": 4,
    "start_time": "2022-04-07T00:32:02.965Z"
   },
   {
    "duration": 34,
    "start_time": "2022-04-07T00:32:02.970Z"
   },
   {
    "duration": 10,
    "start_time": "2022-04-07T00:32:03.005Z"
   },
   {
    "duration": 8,
    "start_time": "2022-04-07T00:32:03.016Z"
   },
   {
    "duration": 6,
    "start_time": "2022-04-07T00:32:03.025Z"
   },
   {
    "duration": 16,
    "start_time": "2022-04-07T00:32:03.032Z"
   },
   {
    "duration": 11,
    "start_time": "2022-04-07T00:32:03.050Z"
   },
   {
    "duration": 7,
    "start_time": "2022-04-07T00:32:03.063Z"
   },
   {
    "duration": 14,
    "start_time": "2022-04-07T00:32:03.071Z"
   },
   {
    "duration": 7,
    "start_time": "2022-04-07T00:32:03.087Z"
   },
   {
    "duration": 18,
    "start_time": "2022-04-07T00:32:03.095Z"
   },
   {
    "duration": 18,
    "start_time": "2022-04-07T00:32:03.115Z"
   },
   {
    "duration": 6,
    "start_time": "2022-04-07T00:32:03.134Z"
   },
   {
    "duration": 22,
    "start_time": "2022-04-07T00:32:03.141Z"
   },
   {
    "duration": 8,
    "start_time": "2022-04-07T00:32:03.165Z"
   },
   {
    "duration": 16,
    "start_time": "2022-04-07T00:32:03.177Z"
   },
   {
    "duration": 10,
    "start_time": "2022-04-07T00:32:03.194Z"
   },
   {
    "duration": 16,
    "start_time": "2022-04-07T00:32:03.205Z"
   },
   {
    "duration": 9,
    "start_time": "2022-04-07T00:32:03.223Z"
   },
   {
    "duration": 29,
    "start_time": "2022-04-07T00:32:03.234Z"
   },
   {
    "duration": 5,
    "start_time": "2022-04-07T00:32:03.264Z"
   },
   {
    "duration": 12,
    "start_time": "2022-04-07T00:32:03.270Z"
   },
   {
    "duration": 19,
    "start_time": "2022-04-07T00:32:03.284Z"
   },
   {
    "duration": 15,
    "start_time": "2022-04-07T00:32:03.304Z"
   },
   {
    "duration": 8,
    "start_time": "2022-04-07T00:32:03.320Z"
   },
   {
    "duration": 7,
    "start_time": "2022-04-07T00:32:03.329Z"
   },
   {
    "duration": 31,
    "start_time": "2022-04-07T00:32:03.337Z"
   },
   {
    "duration": 6,
    "start_time": "2022-04-07T00:32:03.370Z"
   },
   {
    "duration": 13,
    "start_time": "2022-04-07T00:32:03.377Z"
   },
   {
    "duration": 8,
    "start_time": "2022-04-07T00:32:03.391Z"
   },
   {
    "duration": 8,
    "start_time": "2022-04-07T00:32:03.400Z"
   },
   {
    "duration": 8,
    "start_time": "2022-04-07T00:32:03.410Z"
   },
   {
    "duration": 5,
    "start_time": "2022-04-07T00:32:03.419Z"
   },
   {
    "duration": 39,
    "start_time": "2022-04-07T00:32:03.425Z"
   },
   {
    "duration": 9,
    "start_time": "2022-04-07T00:32:03.465Z"
   },
   {
    "duration": 9,
    "start_time": "2022-04-07T00:32:03.476Z"
   },
   {
    "duration": 8,
    "start_time": "2022-04-07T00:32:03.487Z"
   },
   {
    "duration": 20,
    "start_time": "2022-04-07T00:32:03.497Z"
   },
   {
    "duration": 8,
    "start_time": "2022-04-07T00:32:03.519Z"
   },
   {
    "duration": 7,
    "start_time": "2022-04-07T00:32:03.528Z"
   },
   {
    "duration": 27,
    "start_time": "2022-04-07T00:32:03.537Z"
   },
   {
    "duration": 9,
    "start_time": "2022-04-07T00:32:03.565Z"
   },
   {
    "duration": 11,
    "start_time": "2022-04-07T00:32:03.575Z"
   },
   {
    "duration": 7,
    "start_time": "2022-04-07T00:32:03.588Z"
   },
   {
    "duration": 12,
    "start_time": "2022-04-07T00:32:03.597Z"
   },
   {
    "duration": 9,
    "start_time": "2022-04-07T00:32:03.610Z"
   },
   {
    "duration": 9,
    "start_time": "2022-04-07T00:32:03.620Z"
   },
   {
    "duration": 9,
    "start_time": "2022-04-07T00:33:35.983Z"
   },
   {
    "duration": 52,
    "start_time": "2022-04-07T00:33:47.150Z"
   },
   {
    "duration": 13,
    "start_time": "2022-04-07T00:33:47.204Z"
   },
   {
    "duration": 16,
    "start_time": "2022-04-07T00:33:47.218Z"
   },
   {
    "duration": 14,
    "start_time": "2022-04-07T00:33:47.236Z"
   },
   {
    "duration": 13,
    "start_time": "2022-04-07T00:33:47.251Z"
   },
   {
    "duration": 18,
    "start_time": "2022-04-07T00:33:47.265Z"
   },
   {
    "duration": 22,
    "start_time": "2022-04-07T00:33:47.284Z"
   },
   {
    "duration": 28,
    "start_time": "2022-04-07T00:33:47.308Z"
   },
   {
    "duration": 22,
    "start_time": "2022-04-07T00:33:47.337Z"
   },
   {
    "duration": 10,
    "start_time": "2022-04-07T00:33:47.362Z"
   },
   {
    "duration": 15,
    "start_time": "2022-04-07T00:33:47.373Z"
   },
   {
    "duration": 17,
    "start_time": "2022-04-07T00:33:47.389Z"
   },
   {
    "duration": 15,
    "start_time": "2022-04-07T00:33:47.408Z"
   },
   {
    "duration": 19,
    "start_time": "2022-04-07T00:33:47.425Z"
   },
   {
    "duration": 11,
    "start_time": "2022-04-07T00:33:47.445Z"
   },
   {
    "duration": 18,
    "start_time": "2022-04-07T00:33:47.457Z"
   },
   {
    "duration": 10,
    "start_time": "2022-04-07T00:33:47.476Z"
   },
   {
    "duration": 24,
    "start_time": "2022-04-07T00:33:47.487Z"
   },
   {
    "duration": 20,
    "start_time": "2022-04-07T00:33:47.512Z"
   },
   {
    "duration": 12,
    "start_time": "2022-04-07T00:33:47.534Z"
   },
   {
    "duration": 23,
    "start_time": "2022-04-07T00:33:47.547Z"
   },
   {
    "duration": 16,
    "start_time": "2022-04-07T00:33:47.572Z"
   },
   {
    "duration": 16,
    "start_time": "2022-04-07T00:33:47.590Z"
   },
   {
    "duration": 28,
    "start_time": "2022-04-07T00:33:47.607Z"
   },
   {
    "duration": 14,
    "start_time": "2022-04-07T00:33:47.637Z"
   },
   {
    "duration": 23,
    "start_time": "2022-04-07T00:33:47.653Z"
   },
   {
    "duration": 8,
    "start_time": "2022-04-07T00:33:47.677Z"
   },
   {
    "duration": 30,
    "start_time": "2022-04-07T00:33:47.689Z"
   },
   {
    "duration": 10,
    "start_time": "2022-04-07T00:33:47.721Z"
   },
   {
    "duration": 27,
    "start_time": "2022-04-07T00:33:47.732Z"
   },
   {
    "duration": 6,
    "start_time": "2022-04-07T00:33:52.301Z"
   },
   {
    "duration": 10,
    "start_time": "2022-04-07T00:33:59.822Z"
   },
   {
    "duration": 11,
    "start_time": "2022-04-07T00:34:07.957Z"
   },
   {
    "duration": 10,
    "start_time": "2022-04-07T00:34:38.494Z"
   },
   {
    "duration": 3,
    "start_time": "2022-04-07T00:37:50.725Z"
   },
   {
    "duration": 4,
    "start_time": "2022-04-07T00:37:55.412Z"
   },
   {
    "duration": 11,
    "start_time": "2022-04-07T00:38:43.292Z"
   },
   {
    "duration": 3,
    "start_time": "2022-04-07T00:39:22.309Z"
   },
   {
    "duration": 9,
    "start_time": "2022-04-07T00:40:22.172Z"
   },
   {
    "duration": 3,
    "start_time": "2022-04-07T00:40:51.769Z"
   },
   {
    "duration": 119,
    "start_time": "2022-04-07T00:45:44.802Z"
   },
   {
    "duration": 107,
    "start_time": "2022-04-07T00:45:53.306Z"
   },
   {
    "duration": 110,
    "start_time": "2022-04-07T00:46:05.837Z"
   },
   {
    "duration": 4,
    "start_time": "2022-04-07T00:46:44.083Z"
   },
   {
    "duration": 8,
    "start_time": "2022-04-07T00:46:47.068Z"
   },
   {
    "duration": 8,
    "start_time": "2022-04-07T00:48:29.106Z"
   },
   {
    "duration": 10,
    "start_time": "2022-04-07T00:50:04.003Z"
   },
   {
    "duration": 8,
    "start_time": "2022-04-07T00:50:11.898Z"
   },
   {
    "duration": 9,
    "start_time": "2022-04-07T00:50:31.082Z"
   },
   {
    "duration": 7,
    "start_time": "2022-04-07T00:50:50.194Z"
   },
   {
    "duration": 11,
    "start_time": "2022-04-07T00:51:01.625Z"
   },
   {
    "duration": 5,
    "start_time": "2022-04-07T00:51:05.040Z"
   },
   {
    "duration": 9,
    "start_time": "2022-04-07T00:51:06.968Z"
   },
   {
    "duration": 54,
    "start_time": "2022-04-07T00:51:17.569Z"
   },
   {
    "duration": 14,
    "start_time": "2022-04-07T00:51:17.625Z"
   },
   {
    "duration": 21,
    "start_time": "2022-04-07T00:51:17.641Z"
   },
   {
    "duration": 4,
    "start_time": "2022-04-07T00:51:17.664Z"
   },
   {
    "duration": 11,
    "start_time": "2022-04-07T00:51:17.669Z"
   },
   {
    "duration": 10,
    "start_time": "2022-04-07T00:51:17.682Z"
   },
   {
    "duration": 27,
    "start_time": "2022-04-07T00:51:17.694Z"
   },
   {
    "duration": 31,
    "start_time": "2022-04-07T00:51:17.722Z"
   },
   {
    "duration": 22,
    "start_time": "2022-04-07T00:51:17.755Z"
   },
   {
    "duration": 13,
    "start_time": "2022-04-07T00:51:17.780Z"
   },
   {
    "duration": 15,
    "start_time": "2022-04-07T00:51:17.794Z"
   },
   {
    "duration": 12,
    "start_time": "2022-04-07T00:51:17.811Z"
   },
   {
    "duration": 9,
    "start_time": "2022-04-07T00:51:17.825Z"
   },
   {
    "duration": 19,
    "start_time": "2022-04-07T00:51:17.835Z"
   },
   {
    "duration": 11,
    "start_time": "2022-04-07T00:51:17.856Z"
   },
   {
    "duration": 16,
    "start_time": "2022-04-07T00:51:17.869Z"
   },
   {
    "duration": 21,
    "start_time": "2022-04-07T00:51:17.887Z"
   },
   {
    "duration": 29,
    "start_time": "2022-04-07T00:51:17.909Z"
   },
   {
    "duration": 25,
    "start_time": "2022-04-07T00:51:17.940Z"
   },
   {
    "duration": 22,
    "start_time": "2022-04-07T00:51:17.967Z"
   },
   {
    "duration": 22,
    "start_time": "2022-04-07T00:51:17.990Z"
   },
   {
    "duration": 30,
    "start_time": "2022-04-07T00:51:18.013Z"
   },
   {
    "duration": 23,
    "start_time": "2022-04-07T00:51:18.044Z"
   },
   {
    "duration": 32,
    "start_time": "2022-04-07T00:51:18.068Z"
   },
   {
    "duration": 16,
    "start_time": "2022-04-07T00:51:18.102Z"
   },
   {
    "duration": 30,
    "start_time": "2022-04-07T00:51:18.120Z"
   },
   {
    "duration": 19,
    "start_time": "2022-04-07T00:51:18.152Z"
   },
   {
    "duration": 36,
    "start_time": "2022-04-07T00:51:18.175Z"
   },
   {
    "duration": 21,
    "start_time": "2022-04-07T00:51:18.213Z"
   },
   {
    "duration": 34,
    "start_time": "2022-04-07T00:51:18.236Z"
   },
   {
    "duration": 15,
    "start_time": "2022-04-07T00:51:18.272Z"
   },
   {
    "duration": 15,
    "start_time": "2022-04-07T00:51:18.289Z"
   },
   {
    "duration": 29,
    "start_time": "2022-04-07T00:51:18.305Z"
   },
   {
    "duration": 12,
    "start_time": "2022-04-07T00:51:18.336Z"
   },
   {
    "duration": 25,
    "start_time": "2022-04-07T00:51:18.350Z"
   },
   {
    "duration": 34,
    "start_time": "2022-04-07T00:51:18.376Z"
   },
   {
    "duration": 28,
    "start_time": "2022-04-07T00:51:18.411Z"
   },
   {
    "duration": 22,
    "start_time": "2022-04-07T00:51:18.440Z"
   },
   {
    "duration": 9,
    "start_time": "2022-04-07T00:51:18.463Z"
   },
   {
    "duration": 20,
    "start_time": "2022-04-07T00:51:18.473Z"
   },
   {
    "duration": 27,
    "start_time": "2022-04-07T00:51:18.494Z"
   },
   {
    "duration": 4,
    "start_time": "2022-04-07T00:51:18.522Z"
   },
   {
    "duration": 25,
    "start_time": "2022-04-07T00:51:18.528Z"
   },
   {
    "duration": 14,
    "start_time": "2022-04-07T00:51:18.554Z"
   },
   {
    "duration": 35,
    "start_time": "2022-04-07T00:51:18.569Z"
   },
   {
    "duration": 14,
    "start_time": "2022-04-07T00:51:18.605Z"
   },
   {
    "duration": 25,
    "start_time": "2022-04-07T00:51:18.620Z"
   },
   {
    "duration": 22,
    "start_time": "2022-04-07T00:51:18.647Z"
   },
   {
    "duration": 19,
    "start_time": "2022-04-07T00:51:18.671Z"
   },
   {
    "duration": 44,
    "start_time": "2022-04-07T00:51:18.692Z"
   },
   {
    "duration": 21,
    "start_time": "2022-04-07T00:51:18.738Z"
   },
   {
    "duration": 29,
    "start_time": "2022-04-07T00:51:18.761Z"
   },
   {
    "duration": 19,
    "start_time": "2022-04-07T00:51:18.791Z"
   },
   {
    "duration": 15,
    "start_time": "2022-04-07T00:51:18.811Z"
   },
   {
    "duration": 19,
    "start_time": "2022-04-07T00:51:18.827Z"
   },
   {
    "duration": 29,
    "start_time": "2022-04-07T00:51:18.848Z"
   },
   {
    "duration": 22,
    "start_time": "2022-04-07T00:51:18.878Z"
   },
   {
    "duration": 18,
    "start_time": "2022-04-07T00:51:18.901Z"
   },
   {
    "duration": 28,
    "start_time": "2022-04-07T00:51:18.921Z"
   },
   {
    "duration": 28,
    "start_time": "2022-04-07T00:51:18.950Z"
   },
   {
    "duration": 14,
    "start_time": "2022-04-07T00:51:18.979Z"
   },
   {
    "duration": 7,
    "start_time": "2022-04-07T00:52:07.104Z"
   },
   {
    "duration": 54,
    "start_time": "2022-04-07T00:52:33.409Z"
   },
   {
    "duration": 16,
    "start_time": "2022-04-07T00:52:33.465Z"
   },
   {
    "duration": 6,
    "start_time": "2022-04-07T00:52:33.483Z"
   },
   {
    "duration": 5,
    "start_time": "2022-04-07T00:52:33.491Z"
   },
   {
    "duration": 9,
    "start_time": "2022-04-07T00:52:33.497Z"
   },
   {
    "duration": 4,
    "start_time": "2022-04-07T00:52:33.508Z"
   },
   {
    "duration": 56,
    "start_time": "2022-04-07T00:52:33.513Z"
   },
   {
    "duration": 14,
    "start_time": "2022-04-07T00:52:33.571Z"
   },
   {
    "duration": 6,
    "start_time": "2022-04-07T00:52:33.587Z"
   },
   {
    "duration": 5,
    "start_time": "2022-04-07T00:52:33.596Z"
   },
   {
    "duration": 6,
    "start_time": "2022-04-07T00:52:33.602Z"
   },
   {
    "duration": 6,
    "start_time": "2022-04-07T00:52:33.609Z"
   },
   {
    "duration": 50,
    "start_time": "2022-04-07T00:52:33.617Z"
   },
   {
    "duration": 3,
    "start_time": "2022-04-07T00:52:33.669Z"
   },
   {
    "duration": 4,
    "start_time": "2022-04-07T00:52:33.674Z"
   },
   {
    "duration": 6,
    "start_time": "2022-04-07T00:52:33.680Z"
   },
   {
    "duration": 4,
    "start_time": "2022-04-07T00:52:33.688Z"
   },
   {
    "duration": 14,
    "start_time": "2022-04-07T00:52:33.693Z"
   },
   {
    "duration": 12,
    "start_time": "2022-04-07T00:52:33.709Z"
   },
   {
    "duration": 42,
    "start_time": "2022-04-07T00:52:33.723Z"
   },
   {
    "duration": 11,
    "start_time": "2022-04-07T00:52:33.767Z"
   },
   {
    "duration": 8,
    "start_time": "2022-04-07T00:52:33.780Z"
   },
   {
    "duration": 8,
    "start_time": "2022-04-07T00:52:33.789Z"
   },
   {
    "duration": 17,
    "start_time": "2022-04-07T00:52:33.799Z"
   },
   {
    "duration": 6,
    "start_time": "2022-04-07T00:52:33.818Z"
   },
   {
    "duration": 37,
    "start_time": "2022-04-07T00:52:33.826Z"
   },
   {
    "duration": 8,
    "start_time": "2022-04-07T00:52:33.865Z"
   },
   {
    "duration": 16,
    "start_time": "2022-04-07T00:52:33.878Z"
   },
   {
    "duration": 11,
    "start_time": "2022-04-07T00:52:33.895Z"
   },
   {
    "duration": 15,
    "start_time": "2022-04-07T00:52:33.908Z"
   },
   {
    "duration": 38,
    "start_time": "2022-04-07T00:52:33.925Z"
   },
   {
    "duration": 7,
    "start_time": "2022-04-07T00:52:33.965Z"
   },
   {
    "duration": 12,
    "start_time": "2022-04-07T00:52:33.974Z"
   },
   {
    "duration": 7,
    "start_time": "2022-04-07T00:52:33.987Z"
   },
   {
    "duration": 7,
    "start_time": "2022-04-07T00:52:33.996Z"
   },
   {
    "duration": 10,
    "start_time": "2022-04-07T00:52:34.005Z"
   },
   {
    "duration": 58,
    "start_time": "2022-04-07T00:52:34.017Z"
   },
   {
    "duration": 18,
    "start_time": "2022-04-07T00:52:34.078Z"
   },
   {
    "duration": 7,
    "start_time": "2022-04-07T00:52:34.098Z"
   },
   {
    "duration": 6,
    "start_time": "2022-04-07T00:52:34.106Z"
   },
   {
    "duration": 13,
    "start_time": "2022-04-07T00:52:34.114Z"
   },
   {
    "duration": 5,
    "start_time": "2022-04-07T00:52:34.163Z"
   },
   {
    "duration": 13,
    "start_time": "2022-04-07T00:52:34.169Z"
   },
   {
    "duration": 9,
    "start_time": "2022-04-07T00:52:34.183Z"
   },
   {
    "duration": 10,
    "start_time": "2022-04-07T00:52:34.194Z"
   },
   {
    "duration": 16,
    "start_time": "2022-04-07T00:52:34.205Z"
   },
   {
    "duration": 6,
    "start_time": "2022-04-07T00:52:34.223Z"
   },
   {
    "duration": 13,
    "start_time": "2022-04-07T00:52:34.230Z"
   },
   {
    "duration": 25,
    "start_time": "2022-04-07T00:52:34.244Z"
   },
   {
    "duration": 14,
    "start_time": "2022-04-07T00:52:34.270Z"
   },
   {
    "duration": 11,
    "start_time": "2022-04-07T00:52:34.285Z"
   },
   {
    "duration": 11,
    "start_time": "2022-04-07T00:52:34.297Z"
   },
   {
    "duration": 10,
    "start_time": "2022-04-07T00:52:34.310Z"
   },
   {
    "duration": 8,
    "start_time": "2022-04-07T00:52:34.322Z"
   },
   {
    "duration": 34,
    "start_time": "2022-04-07T00:52:34.332Z"
   },
   {
    "duration": 8,
    "start_time": "2022-04-07T00:52:34.368Z"
   },
   {
    "duration": 12,
    "start_time": "2022-04-07T00:52:34.377Z"
   },
   {
    "duration": 9,
    "start_time": "2022-04-07T00:52:34.390Z"
   },
   {
    "duration": 17,
    "start_time": "2022-04-07T00:52:34.400Z"
   },
   {
    "duration": 8,
    "start_time": "2022-04-07T00:52:34.418Z"
   },
   {
    "duration": 9,
    "start_time": "2022-04-07T00:52:34.427Z"
   },
   {
    "duration": 659,
    "start_time": "2022-04-07T08:22:34.328Z"
   },
   {
    "duration": 24,
    "start_time": "2022-04-07T08:22:34.989Z"
   },
   {
    "duration": 16,
    "start_time": "2022-04-07T08:22:35.016Z"
   },
   {
    "duration": 37,
    "start_time": "2022-04-07T08:22:35.035Z"
   },
   {
    "duration": 12,
    "start_time": "2022-04-07T08:22:35.075Z"
   },
   {
    "duration": 12,
    "start_time": "2022-04-07T08:22:35.089Z"
   },
   {
    "duration": 21,
    "start_time": "2022-04-07T08:22:35.104Z"
   },
   {
    "duration": 58,
    "start_time": "2022-04-07T08:22:35.128Z"
   },
   {
    "duration": 12,
    "start_time": "2022-04-07T08:22:35.189Z"
   },
   {
    "duration": 7,
    "start_time": "2022-04-07T08:22:35.207Z"
   },
   {
    "duration": 9,
    "start_time": "2022-04-07T08:22:35.217Z"
   },
   {
    "duration": 10,
    "start_time": "2022-04-07T08:22:35.269Z"
   },
   {
    "duration": 8,
    "start_time": "2022-04-07T08:22:35.282Z"
   },
   {
    "duration": 4,
    "start_time": "2022-04-07T08:22:35.294Z"
   },
   {
    "duration": 6,
    "start_time": "2022-04-07T08:22:35.301Z"
   },
   {
    "duration": 6,
    "start_time": "2022-04-07T08:22:35.309Z"
   },
   {
    "duration": 52,
    "start_time": "2022-04-07T08:22:35.318Z"
   },
   {
    "duration": 21,
    "start_time": "2022-04-07T08:22:35.372Z"
   },
   {
    "duration": 21,
    "start_time": "2022-04-07T08:22:35.395Z"
   },
   {
    "duration": 8,
    "start_time": "2022-04-07T08:22:35.419Z"
   },
   {
    "duration": 49,
    "start_time": "2022-04-07T08:22:35.429Z"
   },
   {
    "duration": 13,
    "start_time": "2022-04-07T08:22:35.481Z"
   },
   {
    "duration": 11,
    "start_time": "2022-04-07T08:22:35.496Z"
   },
   {
    "duration": 60,
    "start_time": "2022-04-07T08:22:35.509Z"
   },
   {
    "duration": 8,
    "start_time": "2022-04-07T08:22:35.571Z"
   },
   {
    "duration": 12,
    "start_time": "2022-04-07T08:22:35.581Z"
   },
   {
    "duration": 10,
    "start_time": "2022-04-07T08:22:35.595Z"
   },
   {
    "duration": 68,
    "start_time": "2022-04-07T08:22:35.611Z"
   },
   {
    "duration": 17,
    "start_time": "2022-04-07T08:22:35.681Z"
   },
   {
    "duration": 27,
    "start_time": "2022-04-07T08:22:35.700Z"
   },
   {
    "duration": 47,
    "start_time": "2022-04-07T08:22:35.729Z"
   },
   {
    "duration": 11,
    "start_time": "2022-04-07T08:22:35.778Z"
   },
   {
    "duration": 19,
    "start_time": "2022-04-07T08:22:35.791Z"
   },
   {
    "duration": 11,
    "start_time": "2022-04-07T08:22:35.812Z"
   },
   {
    "duration": 44,
    "start_time": "2022-04-07T08:22:35.825Z"
   },
   {
    "duration": 15,
    "start_time": "2022-04-07T08:22:35.871Z"
   },
   {
    "duration": 31,
    "start_time": "2022-04-07T08:22:35.888Z"
   },
   {
    "duration": 59,
    "start_time": "2022-04-07T08:22:35.921Z"
   },
   {
    "duration": 10,
    "start_time": "2022-04-07T08:22:35.983Z"
   },
   {
    "duration": 7,
    "start_time": "2022-04-07T08:22:35.995Z"
   },
   {
    "duration": 22,
    "start_time": "2022-04-07T08:22:36.004Z"
   },
   {
    "duration": 42,
    "start_time": "2022-04-07T08:22:36.029Z"
   },
   {
    "duration": 17,
    "start_time": "2022-04-07T08:22:36.074Z"
   },
   {
    "duration": 14,
    "start_time": "2022-04-07T08:22:36.093Z"
   },
   {
    "duration": 10,
    "start_time": "2022-04-07T08:22:36.109Z"
   },
   {
    "duration": 54,
    "start_time": "2022-04-07T08:22:36.121Z"
   },
   {
    "duration": 6,
    "start_time": "2022-04-07T08:22:36.178Z"
   },
   {
    "duration": 15,
    "start_time": "2022-04-07T08:22:36.187Z"
   },
   {
    "duration": 14,
    "start_time": "2022-04-07T08:22:36.204Z"
   },
   {
    "duration": 55,
    "start_time": "2022-04-07T08:22:36.220Z"
   },
   {
    "duration": 15,
    "start_time": "2022-04-07T08:22:36.277Z"
   },
   {
    "duration": 12,
    "start_time": "2022-04-07T08:22:36.295Z"
   },
   {
    "duration": 13,
    "start_time": "2022-04-07T08:22:36.310Z"
   },
   {
    "duration": 44,
    "start_time": "2022-04-07T08:22:36.325Z"
   },
   {
    "duration": 15,
    "start_time": "2022-04-07T08:22:36.371Z"
   },
   {
    "duration": 14,
    "start_time": "2022-04-07T08:22:36.388Z"
   },
   {
    "duration": 13,
    "start_time": "2022-04-07T08:22:36.405Z"
   },
   {
    "duration": 55,
    "start_time": "2022-04-07T08:22:36.421Z"
   },
   {
    "duration": 20,
    "start_time": "2022-04-07T08:22:36.479Z"
   },
   {
    "duration": 14,
    "start_time": "2022-04-07T08:22:36.501Z"
   },
   {
    "duration": 15,
    "start_time": "2022-04-07T08:22:36.518Z"
   },
   {
    "duration": 676,
    "start_time": "2022-04-07T08:37:12.092Z"
   },
   {
    "duration": 559,
    "start_time": "2022-04-07T08:37:28.557Z"
   },
   {
    "duration": 23,
    "start_time": "2022-04-07T08:37:29.895Z"
   },
   {
    "duration": 15,
    "start_time": "2022-04-07T08:37:32.041Z"
   },
   {
    "duration": 6,
    "start_time": "2022-04-07T08:37:33.552Z"
   },
   {
    "duration": 7,
    "start_time": "2022-04-07T08:37:36.559Z"
   },
   {
    "duration": 5,
    "start_time": "2022-04-07T08:37:37.699Z"
   },
   {
    "duration": 20,
    "start_time": "2022-04-07T08:37:38.639Z"
   },
   {
    "duration": 28,
    "start_time": "2022-04-07T08:37:48.079Z"
   },
   {
    "duration": 322,
    "start_time": "2022-04-07T08:37:58.021Z"
   },
   {
    "duration": 102,
    "start_time": "2022-04-07T08:37:59.714Z"
   },
   {
    "duration": 286,
    "start_time": "2022-04-07T08:38:15.177Z"
   },
   {
    "duration": 52,
    "start_time": "2022-04-07T08:39:18.598Z"
   },
   {
    "duration": 8,
    "start_time": "2022-04-07T08:39:55.878Z"
   },
   {
    "duration": 8,
    "start_time": "2022-04-07T08:40:09.414Z"
   },
   {
    "duration": 7,
    "start_time": "2022-04-07T08:40:10.966Z"
   },
   {
    "duration": 8,
    "start_time": "2022-04-07T08:40:20.013Z"
   },
   {
    "duration": 6,
    "start_time": "2022-04-07T08:40:22.717Z"
   },
   {
    "duration": 5,
    "start_time": "2022-04-07T08:40:24.610Z"
   },
   {
    "duration": 8,
    "start_time": "2022-04-07T08:40:28.752Z"
   },
   {
    "duration": 260,
    "start_time": "2022-04-07T08:40:36.196Z"
   },
   {
    "duration": 630,
    "start_time": "2022-04-07T08:47:38.456Z"
   },
   {
    "duration": 23,
    "start_time": "2022-04-07T08:47:39.090Z"
   },
   {
    "duration": 18,
    "start_time": "2022-04-07T08:47:39.115Z"
   },
   {
    "duration": 33,
    "start_time": "2022-04-07T08:47:39.136Z"
   },
   {
    "duration": 9,
    "start_time": "2022-04-07T08:47:39.174Z"
   },
   {
    "duration": 6,
    "start_time": "2022-04-07T08:47:39.186Z"
   },
   {
    "duration": 20,
    "start_time": "2022-04-07T08:47:39.195Z"
   },
   {
    "duration": 71,
    "start_time": "2022-04-07T08:47:39.217Z"
   },
   {
    "duration": 404,
    "start_time": "2022-04-07T08:47:39.290Z"
   },
   {
    "duration": 279,
    "start_time": "2022-04-07T08:47:39.696Z"
   },
   {
    "duration": 9,
    "start_time": "2022-04-07T08:47:39.977Z"
   },
   {
    "duration": 7,
    "start_time": "2022-04-07T08:47:39.988Z"
   },
   {
    "duration": 7,
    "start_time": "2022-04-07T08:47:39.997Z"
   },
   {
    "duration": 7,
    "start_time": "2022-04-07T08:47:40.008Z"
   },
   {
    "duration": 52,
    "start_time": "2022-04-07T08:47:40.017Z"
   },
   {
    "duration": 7,
    "start_time": "2022-04-07T08:47:40.071Z"
   },
   {
    "duration": 5,
    "start_time": "2022-04-07T08:47:40.080Z"
   },
   {
    "duration": 10,
    "start_time": "2022-04-07T08:47:40.087Z"
   },
   {
    "duration": 275,
    "start_time": "2022-04-07T08:47:40.099Z"
   },
   {
    "duration": 5,
    "start_time": "2022-04-07T08:47:40.376Z"
   },
   {
    "duration": 22,
    "start_time": "2022-04-07T08:47:40.383Z"
   },
   {
    "duration": 21,
    "start_time": "2022-04-07T08:47:40.407Z"
   },
   {
    "duration": 43,
    "start_time": "2022-04-07T08:47:40.430Z"
   },
   {
    "duration": 15,
    "start_time": "2022-04-07T08:47:40.476Z"
   },
   {
    "duration": 13,
    "start_time": "2022-04-07T08:47:40.493Z"
   },
   {
    "duration": 10,
    "start_time": "2022-04-07T08:47:40.508Z"
   },
   {
    "duration": 106,
    "start_time": "2022-04-07T08:47:40.520Z"
   },
   {
    "duration": 12,
    "start_time": "2022-04-07T08:47:40.628Z"
   },
   {
    "duration": 27,
    "start_time": "2022-04-07T08:47:40.643Z"
   },
   {
    "duration": 12,
    "start_time": "2022-04-07T08:47:40.673Z"
   },
   {
    "duration": 26,
    "start_time": "2022-04-07T08:47:40.688Z"
   },
   {
    "duration": 19,
    "start_time": "2022-04-07T08:47:40.717Z"
   },
   {
    "duration": 22,
    "start_time": "2022-04-07T08:47:40.768Z"
   },
   {
    "duration": 16,
    "start_time": "2022-04-07T08:47:40.792Z"
   },
   {
    "duration": 11,
    "start_time": "2022-04-07T08:47:40.810Z"
   },
   {
    "duration": 56,
    "start_time": "2022-04-07T08:47:40.824Z"
   },
   {
    "duration": 11,
    "start_time": "2022-04-07T08:47:40.883Z"
   },
   {
    "duration": 11,
    "start_time": "2022-04-07T08:47:40.896Z"
   },
   {
    "duration": 15,
    "start_time": "2022-04-07T08:47:40.909Z"
   },
   {
    "duration": 65,
    "start_time": "2022-04-07T08:47:40.926Z"
   },
   {
    "duration": 27,
    "start_time": "2022-04-07T08:47:40.997Z"
   },
   {
    "duration": 10,
    "start_time": "2022-04-07T08:47:41.026Z"
   },
   {
    "duration": 35,
    "start_time": "2022-04-07T08:47:41.039Z"
   },
   {
    "duration": 35,
    "start_time": "2022-04-07T08:47:41.076Z"
   },
   {
    "duration": 6,
    "start_time": "2022-04-07T08:47:41.114Z"
   },
   {
    "duration": 16,
    "start_time": "2022-04-07T08:47:41.123Z"
   },
   {
    "duration": 40,
    "start_time": "2022-04-07T08:47:41.141Z"
   },
   {
    "duration": 17,
    "start_time": "2022-04-07T08:47:41.184Z"
   },
   {
    "duration": 14,
    "start_time": "2022-04-07T08:47:41.203Z"
   },
   {
    "duration": 6,
    "start_time": "2022-04-07T08:47:41.219Z"
   },
   {
    "duration": 17,
    "start_time": "2022-04-07T08:47:41.267Z"
   },
   {
    "duration": 13,
    "start_time": "2022-04-07T08:47:41.287Z"
   },
   {
    "duration": 17,
    "start_time": "2022-04-07T08:47:41.302Z"
   },
   {
    "duration": 47,
    "start_time": "2022-04-07T08:47:41.321Z"
   },
   {
    "duration": 10,
    "start_time": "2022-04-07T08:47:41.370Z"
   },
   {
    "duration": 13,
    "start_time": "2022-04-07T08:47:41.382Z"
   },
   {
    "duration": 11,
    "start_time": "2022-04-07T08:47:41.397Z"
   },
   {
    "duration": 16,
    "start_time": "2022-04-07T08:47:41.411Z"
   },
   {
    "duration": 51,
    "start_time": "2022-04-07T08:47:41.429Z"
   },
   {
    "duration": 13,
    "start_time": "2022-04-07T08:47:41.481Z"
   },
   {
    "duration": 13,
    "start_time": "2022-04-07T08:47:41.496Z"
   },
   {
    "duration": 13,
    "start_time": "2022-04-07T08:47:41.511Z"
   },
   {
    "duration": 48,
    "start_time": "2022-04-07T08:47:41.526Z"
   },
   {
    "duration": 15,
    "start_time": "2022-04-07T08:47:41.576Z"
   },
   {
    "duration": 708,
    "start_time": "2022-04-07T09:21:10.405Z"
   },
   {
    "duration": 25,
    "start_time": "2022-04-07T09:21:11.116Z"
   },
   {
    "duration": 17,
    "start_time": "2022-04-07T09:21:11.749Z"
   },
   {
    "duration": 5,
    "start_time": "2022-04-07T09:21:12.212Z"
   },
   {
    "duration": 8,
    "start_time": "2022-04-07T09:21:14.537Z"
   },
   {
    "duration": 5,
    "start_time": "2022-04-07T09:21:15.160Z"
   },
   {
    "duration": 20,
    "start_time": "2022-04-07T09:21:15.992Z"
   },
   {
    "duration": 25,
    "start_time": "2022-04-07T09:21:17.339Z"
   },
   {
    "duration": 352,
    "start_time": "2022-04-07T09:21:21.803Z"
   },
   {
    "duration": 291,
    "start_time": "2022-04-07T09:21:22.847Z"
   },
   {
    "duration": 12,
    "start_time": "2022-04-07T09:21:33.331Z"
   },
   {
    "duration": 7,
    "start_time": "2022-04-07T09:21:35.651Z"
   },
   {
    "duration": 7,
    "start_time": "2022-04-07T09:21:36.535Z"
   },
   {
    "duration": 7,
    "start_time": "2022-04-07T09:21:38.289Z"
   },
   {
    "duration": 8,
    "start_time": "2022-04-07T09:21:40.458Z"
   },
   {
    "duration": 6,
    "start_time": "2022-04-07T09:21:41.894Z"
   },
   {
    "duration": 5,
    "start_time": "2022-04-07T09:21:42.896Z"
   },
   {
    "duration": 8,
    "start_time": "2022-04-07T09:21:44.508Z"
   },
   {
    "duration": 309,
    "start_time": "2022-04-07T09:21:46.491Z"
   },
   {
    "duration": 4,
    "start_time": "2022-04-07T09:21:51.142Z"
   },
   {
    "duration": 25,
    "start_time": "2022-04-07T09:21:54.652Z"
   },
   {
    "duration": 23,
    "start_time": "2022-04-07T09:21:56.956Z"
   },
   {
    "duration": 10,
    "start_time": "2022-04-07T09:22:01.110Z"
   },
   {
    "duration": 23,
    "start_time": "2022-04-07T09:22:02.964Z"
   },
   {
    "duration": 17,
    "start_time": "2022-04-07T09:22:04.652Z"
   },
   {
    "duration": 10,
    "start_time": "2022-04-07T09:22:09.544Z"
   },
   {
    "duration": 36,
    "start_time": "2022-04-07T09:22:16.894Z"
   },
   {
    "duration": 14,
    "start_time": "2022-04-07T09:22:18.990Z"
   },
   {
    "duration": 10,
    "start_time": "2022-04-07T09:22:41.633Z"
   },
   {
    "duration": 10,
    "start_time": "2022-04-07T09:22:44.891Z"
   },
   {
    "duration": 106,
    "start_time": "2022-04-07T09:22:49.749Z"
   },
   {
    "duration": 30,
    "start_time": "2022-04-07T09:22:58.157Z"
   },
   {
    "duration": 23,
    "start_time": "2022-04-07T09:23:00.488Z"
   },
   {
    "duration": 30,
    "start_time": "2022-04-07T09:23:25.486Z"
   },
   {
    "duration": 15,
    "start_time": "2022-04-07T09:24:58.451Z"
   },
   {
    "duration": 12,
    "start_time": "2022-04-07T09:27:32.428Z"
   },
   {
    "duration": 15,
    "start_time": "2022-04-07T09:27:33.855Z"
   },
   {
    "duration": 13,
    "start_time": "2022-04-07T09:27:37.236Z"
   },
   {
    "duration": 9,
    "start_time": "2022-04-07T09:27:49.562Z"
   },
   {
    "duration": 16,
    "start_time": "2022-04-07T09:27:51.535Z"
   },
   {
    "duration": 34,
    "start_time": "2022-04-07T09:28:29.050Z"
   },
   {
    "duration": 29,
    "start_time": "2022-04-07T09:30:24.315Z"
   },
   {
    "duration": 7,
    "start_time": "2022-04-07T09:45:50.091Z"
   },
   {
    "duration": 8,
    "start_time": "2022-04-07T09:45:51.052Z"
   },
   {
    "duration": 22,
    "start_time": "2022-04-07T09:45:56.951Z"
   },
   {
    "duration": 8,
    "start_time": "2022-04-07T09:46:03.905Z"
   },
   {
    "duration": 17,
    "start_time": "2022-04-07T09:46:52.188Z"
   },
   {
    "duration": 14,
    "start_time": "2022-04-07T09:47:20.590Z"
   },
   {
    "duration": 15,
    "start_time": "2022-04-07T09:49:58.251Z"
   },
   {
    "duration": 14,
    "start_time": "2022-04-07T09:50:04.451Z"
   },
   {
    "duration": 15,
    "start_time": "2022-04-07T09:52:57.289Z"
   },
   {
    "duration": 11,
    "start_time": "2022-04-07T09:54:14.243Z"
   },
   {
    "duration": 22,
    "start_time": "2022-04-07T09:54:15.052Z"
   },
   {
    "duration": 6,
    "start_time": "2022-04-07T09:55:20.125Z"
   },
   {
    "duration": 15,
    "start_time": "2022-04-07T09:55:23.286Z"
   },
   {
    "duration": 14,
    "start_time": "2022-04-07T09:55:25.961Z"
   },
   {
    "duration": 14,
    "start_time": "2022-04-07T09:56:58.724Z"
   },
   {
    "duration": 16,
    "start_time": "2022-04-07T09:57:00.763Z"
   },
   {
    "duration": 9,
    "start_time": "2022-04-07T09:57:02.939Z"
   },
   {
    "duration": 13,
    "start_time": "2022-04-07T09:58:13.527Z"
   },
   {
    "duration": 13,
    "start_time": "2022-04-07T09:58:17.253Z"
   },
   {
    "duration": 15,
    "start_time": "2022-04-07T09:58:39.289Z"
   },
   {
    "duration": 15,
    "start_time": "2022-04-07T09:58:44.900Z"
   },
   {
    "duration": 13,
    "start_time": "2022-04-07T09:58:50.152Z"
   },
   {
    "duration": 14,
    "start_time": "2022-04-07T09:58:53.080Z"
   },
   {
    "duration": 13,
    "start_time": "2022-04-07T09:59:05.231Z"
   },
   {
    "duration": 14,
    "start_time": "2022-04-07T09:59:06.314Z"
   },
   {
    "duration": 15,
    "start_time": "2022-04-07T09:59:09.045Z"
   },
   {
    "duration": 409,
    "start_time": "2022-04-10T11:30:10.116Z"
   },
   {
    "duration": 76,
    "start_time": "2022-04-10T11:30:19.671Z"
   },
   {
    "duration": 54,
    "start_time": "2022-04-10T11:33:53.651Z"
   },
   {
    "duration": 55,
    "start_time": "2022-04-10T11:34:05.322Z"
   },
   {
    "duration": 15,
    "start_time": "2022-04-10T11:34:05.378Z"
   },
   {
    "duration": 5,
    "start_time": "2022-04-10T11:34:05.394Z"
   },
   {
    "duration": 5,
    "start_time": "2022-04-10T11:34:05.401Z"
   },
   {
    "duration": 5,
    "start_time": "2022-04-10T11:34:05.407Z"
   },
   {
    "duration": 4,
    "start_time": "2022-04-10T11:34:05.413Z"
   },
   {
    "duration": 13,
    "start_time": "2022-04-10T11:34:05.418Z"
   },
   {
    "duration": 12,
    "start_time": "2022-04-10T11:34:05.432Z"
   },
   {
    "duration": 391,
    "start_time": "2022-04-10T11:34:05.481Z"
   },
   {
    "duration": 160,
    "start_time": "2022-04-10T11:34:05.874Z"
   },
   {
    "duration": 6,
    "start_time": "2022-04-10T11:34:06.035Z"
   },
   {
    "duration": 5,
    "start_time": "2022-04-10T11:34:06.042Z"
   },
   {
    "duration": 7,
    "start_time": "2022-04-10T11:34:06.048Z"
   },
   {
    "duration": 5,
    "start_time": "2022-04-10T11:34:06.056Z"
   },
   {
    "duration": 4,
    "start_time": "2022-04-10T11:34:06.080Z"
   },
   {
    "duration": 3,
    "start_time": "2022-04-10T11:34:06.086Z"
   },
   {
    "duration": 3,
    "start_time": "2022-04-10T11:34:06.091Z"
   },
   {
    "duration": 9,
    "start_time": "2022-04-10T11:34:06.095Z"
   },
   {
    "duration": 155,
    "start_time": "2022-04-10T11:34:06.105Z"
   },
   {
    "duration": 4,
    "start_time": "2022-04-10T11:34:06.261Z"
   },
   {
    "duration": 22,
    "start_time": "2022-04-10T11:34:06.266Z"
   },
   {
    "duration": 12,
    "start_time": "2022-04-10T11:34:06.289Z"
   },
   {
    "duration": 6,
    "start_time": "2022-04-10T11:34:06.302Z"
   },
   {
    "duration": 11,
    "start_time": "2022-04-10T11:34:06.309Z"
   },
   {
    "duration": 8,
    "start_time": "2022-04-10T11:34:06.321Z"
   },
   {
    "duration": 8,
    "start_time": "2022-04-10T11:34:06.330Z"
   },
   {
    "duration": 77,
    "start_time": "2022-04-10T11:34:06.340Z"
   },
   {
    "duration": 6,
    "start_time": "2022-04-10T11:34:06.420Z"
   },
   {
    "duration": 7,
    "start_time": "2022-04-10T11:34:06.428Z"
   },
   {
    "duration": 9,
    "start_time": "2022-04-10T11:34:06.437Z"
   },
   {
    "duration": 34,
    "start_time": "2022-04-10T11:34:06.447Z"
   },
   {
    "duration": 9,
    "start_time": "2022-04-10T11:34:06.483Z"
   },
   {
    "duration": 15,
    "start_time": "2022-04-10T11:34:06.493Z"
   },
   {
    "duration": 10,
    "start_time": "2022-04-10T11:34:06.509Z"
   },
   {
    "duration": 8,
    "start_time": "2022-04-10T11:34:06.520Z"
   },
   {
    "duration": 11,
    "start_time": "2022-04-10T11:34:06.529Z"
   },
   {
    "duration": 40,
    "start_time": "2022-04-10T11:34:06.541Z"
   },
   {
    "duration": 5,
    "start_time": "2022-04-10T11:34:06.582Z"
   },
   {
    "duration": 8,
    "start_time": "2022-04-10T11:34:06.589Z"
   },
   {
    "duration": 17,
    "start_time": "2022-04-10T11:34:06.599Z"
   },
   {
    "duration": 15,
    "start_time": "2022-04-10T11:34:06.617Z"
   },
   {
    "duration": 6,
    "start_time": "2022-04-10T11:34:06.633Z"
   },
   {
    "duration": 7,
    "start_time": "2022-04-10T11:34:06.641Z"
   },
   {
    "duration": 37,
    "start_time": "2022-04-10T11:34:06.649Z"
   },
   {
    "duration": 5,
    "start_time": "2022-04-10T11:34:06.688Z"
   },
   {
    "duration": 10,
    "start_time": "2022-04-10T11:34:06.694Z"
   },
   {
    "duration": 8,
    "start_time": "2022-04-10T11:34:06.705Z"
   },
   {
    "duration": 8,
    "start_time": "2022-04-10T11:34:06.714Z"
   },
   {
    "duration": 9,
    "start_time": "2022-04-10T11:34:06.723Z"
   },
   {
    "duration": 6,
    "start_time": "2022-04-10T11:34:06.734Z"
   },
   {
    "duration": 40,
    "start_time": "2022-04-10T11:34:06.741Z"
   },
   {
    "duration": 8,
    "start_time": "2022-04-10T11:34:06.783Z"
   },
   {
    "duration": 9,
    "start_time": "2022-04-10T11:34:06.793Z"
   },
   {
    "duration": 8,
    "start_time": "2022-04-10T11:34:06.804Z"
   },
   {
    "duration": 11,
    "start_time": "2022-04-10T11:34:06.814Z"
   },
   {
    "duration": 13,
    "start_time": "2022-04-10T11:34:06.826Z"
   },
   {
    "duration": 8,
    "start_time": "2022-04-10T11:34:06.841Z"
   },
   {
    "duration": 34,
    "start_time": "2022-04-10T11:34:06.851Z"
   },
   {
    "duration": 9,
    "start_time": "2022-04-10T11:34:06.887Z"
   },
   {
    "duration": 8,
    "start_time": "2022-04-10T11:34:06.898Z"
   },
   {
    "duration": 8,
    "start_time": "2022-04-10T11:34:06.907Z"
   },
   {
    "duration": 12,
    "start_time": "2022-04-10T11:34:06.917Z"
   },
   {
    "duration": 10,
    "start_time": "2022-04-10T11:34:06.930Z"
   },
   {
    "duration": 44,
    "start_time": "2022-04-10T11:34:06.941Z"
   },
   {
    "duration": 124,
    "start_time": "2022-04-10T11:43:37.555Z"
   },
   {
    "duration": 15,
    "start_time": "2022-04-10T11:47:20.283Z"
   },
   {
    "duration": 8,
    "start_time": "2022-04-10T11:47:26.945Z"
   },
   {
    "duration": 12,
    "start_time": "2022-04-10T11:47:36.885Z"
   },
   {
    "duration": 8,
    "start_time": "2022-04-10T11:47:48.832Z"
   },
   {
    "duration": 6,
    "start_time": "2022-04-10T11:48:07.483Z"
   },
   {
    "duration": 110,
    "start_time": "2022-04-10T12:05:22.492Z"
   },
   {
    "duration": 12,
    "start_time": "2022-04-10T12:10:07.122Z"
   },
   {
    "duration": 159,
    "start_time": "2022-04-10T12:10:15.874Z"
   },
   {
    "duration": 169,
    "start_time": "2022-04-10T12:10:29.544Z"
   },
   {
    "duration": 6,
    "start_time": "2022-04-10T12:13:41.871Z"
   },
   {
    "duration": 21,
    "start_time": "2022-04-10T12:13:48.558Z"
   },
   {
    "duration": 6,
    "start_time": "2022-04-10T12:13:57.606Z"
   },
   {
    "duration": 14,
    "start_time": "2022-04-10T12:15:58.469Z"
   },
   {
    "duration": 11,
    "start_time": "2022-04-10T12:19:27.449Z"
   },
   {
    "duration": 126,
    "start_time": "2022-04-10T12:19:52.844Z"
   },
   {
    "duration": 156,
    "start_time": "2022-04-10T12:20:13.482Z"
   },
   {
    "duration": 8,
    "start_time": "2022-04-10T12:21:41.358Z"
   },
   {
    "duration": 21,
    "start_time": "2022-04-10T12:22:51.774Z"
   },
   {
    "duration": 4,
    "start_time": "2022-04-10T12:26:35.738Z"
   },
   {
    "duration": 15,
    "start_time": "2022-04-10T12:27:10.707Z"
   },
   {
    "duration": 4,
    "start_time": "2022-04-10T12:34:03.991Z"
   },
   {
    "duration": 11,
    "start_time": "2022-04-10T12:35:34.892Z"
   },
   {
    "duration": 0,
    "start_time": "2022-04-10T12:35:54.921Z"
   },
   {
    "duration": 5117,
    "start_time": "2022-04-10T12:36:03.588Z"
   },
   {
    "duration": 4,
    "start_time": "2022-04-10T12:36:15.890Z"
   },
   {
    "duration": 137,
    "start_time": "2022-04-10T12:43:38.655Z"
   },
   {
    "duration": 6,
    "start_time": "2022-04-10T12:49:42.952Z"
   },
   {
    "duration": 4,
    "start_time": "2022-04-10T12:50:13.025Z"
   },
   {
    "duration": 14,
    "start_time": "2022-04-10T12:53:14.979Z"
   },
   {
    "duration": 12,
    "start_time": "2022-04-10T12:53:40.952Z"
   },
   {
    "duration": 13,
    "start_time": "2022-04-10T12:53:49.923Z"
   },
   {
    "duration": 4,
    "start_time": "2022-04-10T12:59:46.537Z"
   },
   {
    "duration": 58,
    "start_time": "2022-04-10T13:05:26.635Z"
   },
   {
    "duration": 13,
    "start_time": "2022-04-10T13:05:26.694Z"
   },
   {
    "duration": 4,
    "start_time": "2022-04-10T13:05:26.709Z"
   },
   {
    "duration": 4,
    "start_time": "2022-04-10T13:05:26.948Z"
   },
   {
    "duration": 7,
    "start_time": "2022-04-10T13:05:26.954Z"
   },
   {
    "duration": 3,
    "start_time": "2022-04-10T13:05:26.969Z"
   },
   {
    "duration": 15,
    "start_time": "2022-04-10T13:05:26.973Z"
   },
   {
    "duration": 14,
    "start_time": "2022-04-10T13:05:27.105Z"
   },
   {
    "duration": 5,
    "start_time": "2022-04-10T13:05:27.121Z"
   },
   {
    "duration": 134,
    "start_time": "2022-04-10T13:05:27.440Z"
   },
   {
    "duration": 7,
    "start_time": "2022-04-10T13:05:27.576Z"
   },
   {
    "duration": 4,
    "start_time": "2022-04-10T13:05:27.584Z"
   },
   {
    "duration": 5,
    "start_time": "2022-04-10T13:05:27.589Z"
   },
   {
    "duration": 4,
    "start_time": "2022-04-10T13:05:27.596Z"
   },
   {
    "duration": 5,
    "start_time": "2022-04-10T13:05:27.602Z"
   },
   {
    "duration": 3,
    "start_time": "2022-04-10T13:05:27.608Z"
   },
   {
    "duration": 4,
    "start_time": "2022-04-10T13:05:27.613Z"
   },
   {
    "duration": 5,
    "start_time": "2022-04-10T13:05:27.618Z"
   },
   {
    "duration": 144,
    "start_time": "2022-04-10T13:05:27.684Z"
   },
   {
    "duration": 138,
    "start_time": "2022-04-10T13:05:27.829Z"
   },
   {
    "duration": 14,
    "start_time": "2022-04-10T13:05:27.968Z"
   },
   {
    "duration": 11,
    "start_time": "2022-04-10T13:05:27.983Z"
   },
   {
    "duration": 13,
    "start_time": "2022-04-10T13:05:27.996Z"
   },
   {
    "duration": 151,
    "start_time": "2022-04-10T13:05:28.011Z"
   },
   {
    "duration": 32,
    "start_time": "2022-04-10T13:05:28.164Z"
   },
   {
    "duration": 5,
    "start_time": "2022-04-10T13:05:28.197Z"
   },
   {
    "duration": 154,
    "start_time": "2022-04-10T13:05:28.204Z"
   },
   {
    "duration": 5,
    "start_time": "2022-04-10T13:05:28.359Z"
   },
   {
    "duration": 23,
    "start_time": "2022-04-10T13:05:28.366Z"
   },
   {
    "duration": 7,
    "start_time": "2022-04-10T13:05:28.391Z"
   },
   {
    "duration": 5,
    "start_time": "2022-04-10T13:05:28.400Z"
   },
   {
    "duration": 14,
    "start_time": "2022-04-10T13:05:28.408Z"
   },
   {
    "duration": 12,
    "start_time": "2022-04-10T13:05:28.424Z"
   },
   {
    "duration": 5,
    "start_time": "2022-04-10T13:05:28.438Z"
   },
   {
    "duration": 46,
    "start_time": "2022-04-10T13:05:28.445Z"
   },
   {
    "duration": 11,
    "start_time": "2022-04-10T13:05:28.492Z"
   },
   {
    "duration": 8,
    "start_time": "2022-04-10T13:05:28.504Z"
   },
   {
    "duration": 100,
    "start_time": "2022-04-10T13:05:28.514Z"
   },
   {
    "duration": 7,
    "start_time": "2022-04-10T13:05:28.615Z"
   },
   {
    "duration": 8,
    "start_time": "2022-04-10T13:05:28.623Z"
   },
   {
    "duration": 7,
    "start_time": "2022-04-10T13:05:28.632Z"
   },
   {
    "duration": 40,
    "start_time": "2022-04-10T13:05:28.641Z"
   },
   {
    "duration": 10,
    "start_time": "2022-04-10T13:05:28.683Z"
   },
   {
    "duration": 13,
    "start_time": "2022-04-10T13:05:28.695Z"
   },
   {
    "duration": 10,
    "start_time": "2022-04-10T13:05:28.709Z"
   },
   {
    "duration": 7,
    "start_time": "2022-04-10T13:05:28.721Z"
   },
   {
    "duration": 12,
    "start_time": "2022-04-10T13:05:28.729Z"
   },
   {
    "duration": 43,
    "start_time": "2022-04-10T13:05:28.743Z"
   },
   {
    "duration": 6,
    "start_time": "2022-04-10T13:05:28.788Z"
   },
   {
    "duration": 9,
    "start_time": "2022-04-10T13:05:28.796Z"
   },
   {
    "duration": 18,
    "start_time": "2022-04-10T13:05:28.806Z"
   },
   {
    "duration": 14,
    "start_time": "2022-04-10T13:05:28.826Z"
   },
   {
    "duration": 39,
    "start_time": "2022-04-10T13:05:28.842Z"
   },
   {
    "duration": 5,
    "start_time": "2022-04-10T13:05:28.883Z"
   },
   {
    "duration": 13,
    "start_time": "2022-04-10T13:05:28.890Z"
   },
   {
    "duration": 5,
    "start_time": "2022-04-10T13:05:28.904Z"
   },
   {
    "duration": 10,
    "start_time": "2022-04-10T13:05:28.911Z"
   },
   {
    "duration": 9,
    "start_time": "2022-04-10T13:05:28.923Z"
   },
   {
    "duration": 46,
    "start_time": "2022-04-10T13:05:28.936Z"
   },
   {
    "duration": 10,
    "start_time": "2022-04-10T13:05:28.984Z"
   },
   {
    "duration": 6,
    "start_time": "2022-04-10T13:05:28.996Z"
   },
   {
    "duration": 10,
    "start_time": "2022-04-10T13:05:29.004Z"
   },
   {
    "duration": 8,
    "start_time": "2022-04-10T13:05:29.016Z"
   },
   {
    "duration": 11,
    "start_time": "2022-04-10T13:05:29.026Z"
   },
   {
    "duration": 10,
    "start_time": "2022-04-10T13:05:29.038Z"
   },
   {
    "duration": 6,
    "start_time": "2022-04-10T13:05:29.081Z"
   },
   {
    "duration": 9,
    "start_time": "2022-04-10T13:05:29.089Z"
   },
   {
    "duration": 8,
    "start_time": "2022-04-10T13:05:29.099Z"
   },
   {
    "duration": 9,
    "start_time": "2022-04-10T13:05:29.109Z"
   },
   {
    "duration": 7,
    "start_time": "2022-04-10T13:05:29.120Z"
   },
   {
    "duration": 7,
    "start_time": "2022-04-10T13:05:29.129Z"
   },
   {
    "duration": 44,
    "start_time": "2022-04-10T13:05:29.137Z"
   },
   {
    "duration": 7,
    "start_time": "2022-04-10T13:05:29.183Z"
   },
   {
    "duration": 11,
    "start_time": "2022-04-10T13:05:29.192Z"
   },
   {
    "duration": 8,
    "start_time": "2022-04-10T13:05:29.205Z"
   },
   {
    "duration": 431,
    "start_time": "2022-04-10T16:22:12.086Z"
   },
   {
    "duration": 14,
    "start_time": "2022-04-10T16:22:12.518Z"
   },
   {
    "duration": 8,
    "start_time": "2022-04-10T16:22:12.533Z"
   },
   {
    "duration": 3,
    "start_time": "2022-04-10T16:22:12.543Z"
   },
   {
    "duration": 6,
    "start_time": "2022-04-10T16:22:12.547Z"
   },
   {
    "duration": 17,
    "start_time": "2022-04-10T16:22:12.554Z"
   },
   {
    "duration": 12,
    "start_time": "2022-04-10T16:22:12.573Z"
   },
   {
    "duration": 16,
    "start_time": "2022-04-10T16:22:12.586Z"
   },
   {
    "duration": 368,
    "start_time": "2022-04-10T16:22:12.603Z"
   },
   {
    "duration": 154,
    "start_time": "2022-04-10T16:22:12.975Z"
   },
   {
    "duration": 7,
    "start_time": "2022-04-10T16:22:13.131Z"
   },
   {
    "duration": 5,
    "start_time": "2022-04-10T16:22:13.140Z"
   },
   {
    "duration": 5,
    "start_time": "2022-04-10T16:22:13.147Z"
   },
   {
    "duration": 6,
    "start_time": "2022-04-10T16:22:13.170Z"
   },
   {
    "duration": 5,
    "start_time": "2022-04-10T16:22:13.177Z"
   },
   {
    "duration": 3,
    "start_time": "2022-04-10T16:22:13.184Z"
   },
   {
    "duration": 4,
    "start_time": "2022-04-10T16:22:13.189Z"
   },
   {
    "duration": 6,
    "start_time": "2022-04-10T16:22:13.194Z"
   },
   {
    "duration": 164,
    "start_time": "2022-04-10T16:22:13.202Z"
   },
   {
    "duration": 174,
    "start_time": "2022-04-10T16:22:13.370Z"
   },
   {
    "duration": 7,
    "start_time": "2022-04-10T16:22:13.545Z"
   },
   {
    "duration": 8,
    "start_time": "2022-04-10T16:22:13.553Z"
   },
   {
    "duration": 18,
    "start_time": "2022-04-10T16:22:13.563Z"
   },
   {
    "duration": 146,
    "start_time": "2022-04-10T16:22:13.582Z"
   },
   {
    "duration": 18,
    "start_time": "2022-04-10T16:22:13.729Z"
   },
   {
    "duration": 4,
    "start_time": "2022-04-10T16:22:13.749Z"
   },
   {
    "duration": 145,
    "start_time": "2022-04-10T16:22:13.754Z"
   },
   {
    "duration": 5,
    "start_time": "2022-04-10T16:22:13.903Z"
   },
   {
    "duration": 14,
    "start_time": "2022-04-10T16:22:13.909Z"
   },
   {
    "duration": 4,
    "start_time": "2022-04-10T16:22:13.924Z"
   },
   {
    "duration": 4,
    "start_time": "2022-04-10T16:22:13.929Z"
   },
   {
    "duration": 36,
    "start_time": "2022-04-10T16:22:13.934Z"
   },
   {
    "duration": 12,
    "start_time": "2022-04-10T16:22:13.972Z"
   },
   {
    "duration": 5,
    "start_time": "2022-04-10T16:22:13.985Z"
   },
   {
    "duration": 9,
    "start_time": "2022-04-10T16:22:13.991Z"
   },
   {
    "duration": 7,
    "start_time": "2022-04-10T16:22:14.001Z"
   },
   {
    "duration": 6,
    "start_time": "2022-04-10T16:22:14.009Z"
   },
   {
    "duration": 16,
    "start_time": "2022-04-10T16:22:14.016Z"
   },
   {
    "duration": 5,
    "start_time": "2022-04-10T16:22:14.034Z"
   },
   {
    "duration": 5,
    "start_time": "2022-04-10T16:22:14.070Z"
   },
   {
    "duration": 9,
    "start_time": "2022-04-10T16:22:14.076Z"
   },
   {
    "duration": 11,
    "start_time": "2022-04-10T16:22:14.087Z"
   },
   {
    "duration": 14,
    "start_time": "2022-04-10T16:22:14.099Z"
   },
   {
    "duration": 8,
    "start_time": "2022-04-10T16:22:14.115Z"
   },
   {
    "duration": 6,
    "start_time": "2022-04-10T16:22:14.124Z"
   },
   {
    "duration": 10,
    "start_time": "2022-04-10T16:22:14.132Z"
   },
   {
    "duration": 31,
    "start_time": "2022-04-10T16:22:14.143Z"
   },
   {
    "duration": 6,
    "start_time": "2022-04-10T16:22:14.175Z"
   },
   {
    "duration": 8,
    "start_time": "2022-04-10T16:22:14.183Z"
   },
   {
    "duration": 17,
    "start_time": "2022-04-10T16:22:14.192Z"
   },
   {
    "duration": 46,
    "start_time": "2022-04-10T16:24:48.809Z"
   },
   {
    "duration": 12,
    "start_time": "2022-04-10T16:24:48.856Z"
   },
   {
    "duration": 4,
    "start_time": "2022-04-10T16:24:48.870Z"
   },
   {
    "duration": 4,
    "start_time": "2022-04-10T16:24:48.876Z"
   },
   {
    "duration": 6,
    "start_time": "2022-04-10T16:24:48.881Z"
   },
   {
    "duration": 3,
    "start_time": "2022-04-10T16:24:48.888Z"
   },
   {
    "duration": 16,
    "start_time": "2022-04-10T16:24:48.892Z"
   },
   {
    "duration": 13,
    "start_time": "2022-04-10T16:24:48.909Z"
   },
   {
    "duration": 6,
    "start_time": "2022-04-10T16:24:48.924Z"
   },
   {
    "duration": 170,
    "start_time": "2022-04-10T16:24:48.970Z"
   },
   {
    "duration": 6,
    "start_time": "2022-04-10T16:24:49.142Z"
   },
   {
    "duration": 21,
    "start_time": "2022-04-10T16:24:49.150Z"
   },
   {
    "duration": 5,
    "start_time": "2022-04-10T16:24:49.173Z"
   },
   {
    "duration": 5,
    "start_time": "2022-04-10T16:24:49.180Z"
   },
   {
    "duration": 4,
    "start_time": "2022-04-10T16:24:49.186Z"
   },
   {
    "duration": 3,
    "start_time": "2022-04-10T16:24:49.192Z"
   },
   {
    "duration": 5,
    "start_time": "2022-04-10T16:24:49.196Z"
   },
   {
    "duration": 6,
    "start_time": "2022-04-10T16:24:49.202Z"
   },
   {
    "duration": 175,
    "start_time": "2022-04-10T16:24:49.209Z"
   },
   {
    "duration": 153,
    "start_time": "2022-04-10T16:24:49.385Z"
   },
   {
    "duration": 8,
    "start_time": "2022-04-10T16:24:49.540Z"
   },
   {
    "duration": 20,
    "start_time": "2022-04-10T16:24:49.550Z"
   },
   {
    "duration": 19,
    "start_time": "2022-04-10T16:24:49.572Z"
   },
   {
    "duration": 233,
    "start_time": "2022-04-10T16:24:49.593Z"
   },
   {
    "duration": 27,
    "start_time": "2022-04-10T16:24:49.828Z"
   },
   {
    "duration": 19,
    "start_time": "2022-04-10T16:24:49.858Z"
   },
   {
    "duration": 281,
    "start_time": "2022-04-10T16:24:49.879Z"
   },
   {
    "duration": 10,
    "start_time": "2022-04-10T16:24:50.163Z"
   },
   {
    "duration": 13,
    "start_time": "2022-04-10T16:24:50.175Z"
   },
   {
    "duration": 6,
    "start_time": "2022-04-10T16:24:50.190Z"
   },
   {
    "duration": 6,
    "start_time": "2022-04-10T16:24:50.197Z"
   },
   {
    "duration": 19,
    "start_time": "2022-04-10T16:24:50.205Z"
   },
   {
    "duration": 15,
    "start_time": "2022-04-10T16:24:50.226Z"
   },
   {
    "duration": 5,
    "start_time": "2022-04-10T16:24:50.271Z"
   },
   {
    "duration": 13,
    "start_time": "2022-04-10T16:24:50.277Z"
   },
   {
    "duration": 9,
    "start_time": "2022-04-10T16:24:50.292Z"
   },
   {
    "duration": 8,
    "start_time": "2022-04-10T16:24:50.303Z"
   },
   {
    "duration": 18,
    "start_time": "2022-04-10T16:24:50.313Z"
   },
   {
    "duration": 7,
    "start_time": "2022-04-10T16:24:50.333Z"
   },
   {
    "duration": 33,
    "start_time": "2022-04-10T16:24:50.341Z"
   },
   {
    "duration": 8,
    "start_time": "2022-04-10T16:24:50.376Z"
   },
   {
    "duration": 13,
    "start_time": "2022-04-10T16:24:50.385Z"
   },
   {
    "duration": 15,
    "start_time": "2022-04-10T16:24:50.400Z"
   },
   {
    "duration": 11,
    "start_time": "2022-04-10T16:24:50.417Z"
   },
   {
    "duration": 8,
    "start_time": "2022-04-10T16:24:50.429Z"
   },
   {
    "duration": 10,
    "start_time": "2022-04-10T16:24:50.472Z"
   },
   {
    "duration": 7,
    "start_time": "2022-04-10T16:24:50.484Z"
   },
   {
    "duration": 6,
    "start_time": "2022-04-10T16:24:50.492Z"
   },
   {
    "duration": 14,
    "start_time": "2022-04-10T16:24:50.500Z"
   },
   {
    "duration": 23,
    "start_time": "2022-04-10T16:24:50.515Z"
   },
   {
    "duration": 46,
    "start_time": "2022-04-10T16:36:56.243Z"
   },
   {
    "duration": 12,
    "start_time": "2022-04-10T16:36:56.291Z"
   },
   {
    "duration": 5,
    "start_time": "2022-04-10T16:36:56.304Z"
   },
   {
    "duration": 5,
    "start_time": "2022-04-10T16:36:56.311Z"
   },
   {
    "duration": 6,
    "start_time": "2022-04-10T16:36:56.317Z"
   },
   {
    "duration": 6,
    "start_time": "2022-04-10T16:36:56.324Z"
   },
   {
    "duration": 43,
    "start_time": "2022-04-10T16:36:56.332Z"
   },
   {
    "duration": 14,
    "start_time": "2022-04-10T16:36:56.376Z"
   },
   {
    "duration": 5,
    "start_time": "2022-04-10T16:36:56.391Z"
   },
   {
    "duration": 161,
    "start_time": "2022-04-10T16:36:56.398Z"
   },
   {
    "duration": 14,
    "start_time": "2022-04-10T16:36:56.560Z"
   },
   {
    "duration": 7,
    "start_time": "2022-04-10T16:36:56.575Z"
   },
   {
    "duration": 5,
    "start_time": "2022-04-10T16:36:56.583Z"
   },
   {
    "duration": 5,
    "start_time": "2022-04-10T16:36:56.589Z"
   },
   {
    "duration": 4,
    "start_time": "2022-04-10T16:36:56.595Z"
   },
   {
    "duration": 3,
    "start_time": "2022-04-10T16:36:56.601Z"
   },
   {
    "duration": 4,
    "start_time": "2022-04-10T16:36:56.605Z"
   },
   {
    "duration": 7,
    "start_time": "2022-04-10T16:36:56.610Z"
   },
   {
    "duration": 185,
    "start_time": "2022-04-10T16:36:56.618Z"
   },
   {
    "duration": 129,
    "start_time": "2022-04-10T16:36:56.805Z"
   },
   {
    "duration": 7,
    "start_time": "2022-04-10T16:36:56.935Z"
   },
   {
    "duration": 9,
    "start_time": "2022-04-10T16:36:56.943Z"
   },
   {
    "duration": 22,
    "start_time": "2022-04-10T16:36:56.955Z"
   },
   {
    "duration": 151,
    "start_time": "2022-04-10T16:36:56.978Z"
   },
   {
    "duration": 17,
    "start_time": "2022-04-10T16:36:57.130Z"
   },
   {
    "duration": 3,
    "start_time": "2022-04-10T16:36:57.149Z"
   },
   {
    "duration": 138,
    "start_time": "2022-04-10T16:36:57.170Z"
   },
   {
    "duration": 5,
    "start_time": "2022-04-10T16:36:57.310Z"
   },
   {
    "duration": 18,
    "start_time": "2022-04-10T16:36:57.316Z"
   },
   {
    "duration": 4,
    "start_time": "2022-04-10T16:36:57.336Z"
   },
   {
    "duration": 3,
    "start_time": "2022-04-10T16:36:57.342Z"
   },
   {
    "duration": 33,
    "start_time": "2022-04-10T16:36:57.346Z"
   },
   {
    "duration": 12,
    "start_time": "2022-04-10T16:36:57.381Z"
   },
   {
    "duration": 9,
    "start_time": "2022-04-10T16:36:57.394Z"
   },
   {
    "duration": 10,
    "start_time": "2022-04-10T16:36:57.404Z"
   },
   {
    "duration": 7,
    "start_time": "2022-04-10T16:36:57.415Z"
   },
   {
    "duration": 7,
    "start_time": "2022-04-10T16:36:57.424Z"
   },
   {
    "duration": 44,
    "start_time": "2022-04-10T16:36:57.432Z"
   },
   {
    "duration": 6,
    "start_time": "2022-04-10T16:36:57.477Z"
   },
   {
    "duration": 7,
    "start_time": "2022-04-10T16:36:57.484Z"
   },
   {
    "duration": 7,
    "start_time": "2022-04-10T16:36:57.492Z"
   },
   {
    "duration": 12,
    "start_time": "2022-04-10T16:36:57.500Z"
   },
   {
    "duration": 13,
    "start_time": "2022-04-10T16:36:57.513Z"
   },
   {
    "duration": 10,
    "start_time": "2022-04-10T16:36:57.527Z"
   },
   {
    "duration": 35,
    "start_time": "2022-04-10T16:36:57.539Z"
   },
   {
    "duration": 12,
    "start_time": "2022-04-10T16:36:57.576Z"
   },
   {
    "duration": 7,
    "start_time": "2022-04-10T16:36:57.590Z"
   },
   {
    "duration": 4,
    "start_time": "2022-04-10T16:36:57.599Z"
   },
   {
    "duration": 9,
    "start_time": "2022-04-10T16:36:57.605Z"
   },
   {
    "duration": 18,
    "start_time": "2022-04-10T16:36:57.615Z"
   },
   {
    "duration": 0,
    "start_time": "2022-04-10T16:40:59.675Z"
   },
   {
    "duration": 75,
    "start_time": "2022-04-10T16:41:46.016Z"
   },
   {
    "duration": 14,
    "start_time": "2022-04-10T16:41:46.093Z"
   },
   {
    "duration": 5,
    "start_time": "2022-04-10T16:41:46.109Z"
   },
   {
    "duration": 4,
    "start_time": "2022-04-10T16:41:46.117Z"
   },
   {
    "duration": 5,
    "start_time": "2022-04-10T16:42:02.773Z"
   },
   {
    "duration": 6,
    "start_time": "2022-04-10T16:42:03.612Z"
   },
   {
    "duration": 3,
    "start_time": "2022-04-10T16:42:05.421Z"
   },
   {
    "duration": 47,
    "start_time": "2022-04-10T16:42:10.634Z"
   },
   {
    "duration": 12,
    "start_time": "2022-04-10T16:42:10.683Z"
   },
   {
    "duration": 5,
    "start_time": "2022-04-10T16:42:10.697Z"
   },
   {
    "duration": 6,
    "start_time": "2022-04-10T16:42:10.703Z"
   },
   {
    "duration": 7,
    "start_time": "2022-04-10T16:42:10.711Z"
   },
   {
    "duration": 3,
    "start_time": "2022-04-10T16:42:10.719Z"
   },
   {
    "duration": 15,
    "start_time": "2022-04-10T16:42:10.724Z"
   },
   {
    "duration": 43,
    "start_time": "2022-04-10T16:42:10.741Z"
   },
   {
    "duration": 6,
    "start_time": "2022-04-10T16:42:10.785Z"
   },
   {
    "duration": 151,
    "start_time": "2022-04-10T16:42:10.793Z"
   },
   {
    "duration": 6,
    "start_time": "2022-04-10T16:42:10.945Z"
   },
   {
    "duration": 18,
    "start_time": "2022-04-10T16:42:10.952Z"
   },
   {
    "duration": 4,
    "start_time": "2022-04-10T16:42:10.972Z"
   },
   {
    "duration": 5,
    "start_time": "2022-04-10T16:42:10.979Z"
   },
   {
    "duration": 6,
    "start_time": "2022-04-10T16:42:10.985Z"
   },
   {
    "duration": 3,
    "start_time": "2022-04-10T16:42:10.992Z"
   },
   {
    "duration": 5,
    "start_time": "2022-04-10T16:42:10.996Z"
   },
   {
    "duration": 8,
    "start_time": "2022-04-10T16:42:11.002Z"
   },
   {
    "duration": 170,
    "start_time": "2022-04-10T16:42:11.011Z"
   },
   {
    "duration": 128,
    "start_time": "2022-04-10T16:42:11.182Z"
   },
   {
    "duration": 6,
    "start_time": "2022-04-10T16:42:11.312Z"
   },
   {
    "duration": 9,
    "start_time": "2022-04-10T16:42:11.319Z"
   },
   {
    "duration": 12,
    "start_time": "2022-04-10T16:42:11.329Z"
   },
   {
    "duration": 155,
    "start_time": "2022-04-10T16:42:11.342Z"
   },
   {
    "duration": 17,
    "start_time": "2022-04-10T16:42:11.499Z"
   },
   {
    "duration": 5,
    "start_time": "2022-04-10T16:42:11.518Z"
   },
   {
    "duration": 154,
    "start_time": "2022-04-10T16:42:11.525Z"
   },
   {
    "duration": 5,
    "start_time": "2022-04-10T16:42:11.681Z"
   },
   {
    "duration": 12,
    "start_time": "2022-04-10T16:42:11.688Z"
   },
   {
    "duration": 5,
    "start_time": "2022-04-10T16:42:11.702Z"
   },
   {
    "duration": 6,
    "start_time": "2022-04-10T16:42:11.709Z"
   },
   {
    "duration": 14,
    "start_time": "2022-04-10T16:42:11.717Z"
   },
   {
    "duration": 39,
    "start_time": "2022-04-10T16:42:11.733Z"
   },
   {
    "duration": 5,
    "start_time": "2022-04-10T16:42:11.773Z"
   },
   {
    "duration": 11,
    "start_time": "2022-04-10T16:42:11.779Z"
   },
   {
    "duration": 9,
    "start_time": "2022-04-10T16:42:11.791Z"
   },
   {
    "duration": 8,
    "start_time": "2022-04-10T16:42:11.801Z"
   },
   {
    "duration": 21,
    "start_time": "2022-04-10T16:42:11.810Z"
   },
   {
    "duration": 6,
    "start_time": "2022-04-10T16:42:11.833Z"
   },
   {
    "duration": 31,
    "start_time": "2022-04-10T16:42:11.841Z"
   },
   {
    "duration": 7,
    "start_time": "2022-04-10T16:42:11.876Z"
   },
   {
    "duration": 18,
    "start_time": "2022-04-10T16:42:11.885Z"
   },
   {
    "duration": 21,
    "start_time": "2022-04-10T16:42:11.905Z"
   },
   {
    "duration": 44,
    "start_time": "2022-04-10T16:42:11.928Z"
   },
   {
    "duration": 10,
    "start_time": "2022-04-10T16:42:11.974Z"
   },
   {
    "duration": 14,
    "start_time": "2022-04-10T16:42:11.986Z"
   },
   {
    "duration": 168,
    "start_time": "2022-04-10T16:42:12.002Z"
   },
   {
    "duration": 6,
    "start_time": "2022-04-10T16:42:12.172Z"
   },
   {
    "duration": 9,
    "start_time": "2022-04-10T16:42:12.180Z"
   },
   {
    "duration": 20,
    "start_time": "2022-04-10T16:42:12.190Z"
   },
   {
    "duration": 53,
    "start_time": "2022-04-10T16:48:02.871Z"
   },
   {
    "duration": 17,
    "start_time": "2022-04-10T16:48:02.933Z"
   },
   {
    "duration": 12,
    "start_time": "2022-04-10T16:48:02.968Z"
   },
   {
    "duration": 24,
    "start_time": "2022-04-10T16:48:02.992Z"
   },
   {
    "duration": 23,
    "start_time": "2022-04-10T16:48:03.030Z"
   },
   {
    "duration": 13,
    "start_time": "2022-04-10T16:48:03.066Z"
   },
   {
    "duration": 33,
    "start_time": "2022-04-10T16:48:03.088Z"
   },
   {
    "duration": 13,
    "start_time": "2022-04-10T16:48:03.269Z"
   },
   {
    "duration": 4,
    "start_time": "2022-04-10T16:48:03.501Z"
   },
   {
    "duration": 162,
    "start_time": "2022-04-10T16:48:03.524Z"
   },
   {
    "duration": 20,
    "start_time": "2022-04-10T16:48:03.695Z"
   },
   {
    "duration": 5,
    "start_time": "2022-04-10T16:48:03.730Z"
   },
   {
    "duration": 4,
    "start_time": "2022-04-10T16:48:03.883Z"
   },
   {
    "duration": 5,
    "start_time": "2022-04-10T16:48:03.910Z"
   },
   {
    "duration": 8,
    "start_time": "2022-04-10T16:48:03.922Z"
   },
   {
    "duration": 3,
    "start_time": "2022-04-10T16:48:04.084Z"
   },
   {
    "duration": 5,
    "start_time": "2022-04-10T16:48:04.096Z"
   },
   {
    "duration": 4,
    "start_time": "2022-04-10T16:48:04.119Z"
   },
   {
    "duration": 165,
    "start_time": "2022-04-10T16:48:04.130Z"
   },
   {
    "duration": 129,
    "start_time": "2022-04-10T16:48:04.301Z"
   },
   {
    "duration": 5,
    "start_time": "2022-04-10T16:48:04.445Z"
   },
   {
    "duration": 7,
    "start_time": "2022-04-10T16:48:04.480Z"
   },
   {
    "duration": 18,
    "start_time": "2022-04-10T16:48:04.495Z"
   },
   {
    "duration": 154,
    "start_time": "2022-04-10T16:48:04.525Z"
   },
   {
    "duration": 19,
    "start_time": "2022-04-10T16:48:04.689Z"
   },
   {
    "duration": 5,
    "start_time": "2022-04-10T16:48:04.718Z"
   },
   {
    "duration": 156,
    "start_time": "2022-04-10T16:48:04.741Z"
   },
   {
    "duration": 7,
    "start_time": "2022-04-10T16:48:04.905Z"
   },
   {
    "duration": 13,
    "start_time": "2022-04-10T16:48:04.922Z"
   },
   {
    "duration": 27,
    "start_time": "2022-04-10T16:48:04.946Z"
   },
   {
    "duration": 7,
    "start_time": "2022-04-10T16:48:04.988Z"
   },
   {
    "duration": 11,
    "start_time": "2022-04-10T16:48:05.011Z"
   },
   {
    "duration": 12,
    "start_time": "2022-04-10T16:48:05.034Z"
   },
   {
    "duration": 7,
    "start_time": "2022-04-10T16:48:05.079Z"
   },
   {
    "duration": 11,
    "start_time": "2022-04-10T16:48:05.100Z"
   },
   {
    "duration": 7,
    "start_time": "2022-04-10T16:48:05.125Z"
   },
   {
    "duration": 1754,
    "start_time": "2022-04-10T16:48:05.170Z"
   },
   {
    "duration": 0,
    "start_time": "2022-04-10T16:48:06.926Z"
   },
   {
    "duration": 0,
    "start_time": "2022-04-10T16:48:06.928Z"
   },
   {
    "duration": 0,
    "start_time": "2022-04-10T16:48:06.930Z"
   },
   {
    "duration": 0,
    "start_time": "2022-04-10T16:48:06.931Z"
   },
   {
    "duration": 0,
    "start_time": "2022-04-10T16:48:06.933Z"
   },
   {
    "duration": 0,
    "start_time": "2022-04-10T16:48:06.935Z"
   },
   {
    "duration": 0,
    "start_time": "2022-04-10T16:48:06.936Z"
   },
   {
    "duration": 0,
    "start_time": "2022-04-10T16:48:06.938Z"
   },
   {
    "duration": 0,
    "start_time": "2022-04-10T16:48:06.939Z"
   },
   {
    "duration": 0,
    "start_time": "2022-04-10T16:48:06.941Z"
   },
   {
    "duration": 0,
    "start_time": "2022-04-10T16:48:06.942Z"
   },
   {
    "duration": 0,
    "start_time": "2022-04-10T16:48:06.944Z"
   },
   {
    "duration": 0,
    "start_time": "2022-04-10T16:48:06.946Z"
   },
   {
    "duration": 0,
    "start_time": "2022-04-10T16:48:06.948Z"
   },
   {
    "duration": 0,
    "start_time": "2022-04-10T16:48:06.950Z"
   },
   {
    "duration": 0,
    "start_time": "2022-04-10T16:48:06.951Z"
   },
   {
    "duration": 0,
    "start_time": "2022-04-10T16:48:06.953Z"
   },
   {
    "duration": 0,
    "start_time": "2022-04-10T16:48:06.955Z"
   },
   {
    "duration": 0,
    "start_time": "2022-04-10T16:48:06.957Z"
   },
   {
    "duration": 0,
    "start_time": "2022-04-10T16:48:06.958Z"
   },
   {
    "duration": 0,
    "start_time": "2022-04-10T16:48:06.960Z"
   },
   {
    "duration": 0,
    "start_time": "2022-04-10T16:48:06.962Z"
   },
   {
    "duration": 0,
    "start_time": "2022-04-10T16:48:06.970Z"
   },
   {
    "duration": 0,
    "start_time": "2022-04-10T16:48:06.972Z"
   },
   {
    "duration": 0,
    "start_time": "2022-04-10T16:48:06.975Z"
   },
   {
    "duration": 0,
    "start_time": "2022-04-10T16:48:06.977Z"
   },
   {
    "duration": 0,
    "start_time": "2022-04-10T16:48:06.980Z"
   },
   {
    "duration": 0,
    "start_time": "2022-04-10T16:48:06.982Z"
   },
   {
    "duration": 0,
    "start_time": "2022-04-10T16:48:06.984Z"
   },
   {
    "duration": 0,
    "start_time": "2022-04-10T16:48:06.986Z"
   },
   {
    "duration": 0,
    "start_time": "2022-04-10T16:48:06.989Z"
   },
   {
    "duration": 0,
    "start_time": "2022-04-10T16:48:06.991Z"
   },
   {
    "duration": 0,
    "start_time": "2022-04-10T16:48:06.993Z"
   },
   {
    "duration": 0,
    "start_time": "2022-04-10T16:48:06.996Z"
   },
   {
    "duration": 0,
    "start_time": "2022-04-10T16:48:06.999Z"
   },
   {
    "duration": 0,
    "start_time": "2022-04-10T16:48:07.001Z"
   },
   {
    "duration": 0,
    "start_time": "2022-04-10T16:48:07.004Z"
   },
   {
    "duration": 0,
    "start_time": "2022-04-10T16:48:33.408Z"
   },
   {
    "duration": 1726,
    "start_time": "2022-04-10T16:48:37.242Z"
   },
   {
    "duration": 49,
    "start_time": "2022-04-10T16:48:46.665Z"
   },
   {
    "duration": 12,
    "start_time": "2022-04-10T16:48:46.716Z"
   },
   {
    "duration": 5,
    "start_time": "2022-04-10T16:48:46.729Z"
   },
   {
    "duration": 4,
    "start_time": "2022-04-10T16:48:46.735Z"
   },
   {
    "duration": 5,
    "start_time": "2022-04-10T16:48:46.740Z"
   },
   {
    "duration": 25,
    "start_time": "2022-04-10T16:48:46.746Z"
   },
   {
    "duration": 11,
    "start_time": "2022-04-10T16:48:46.773Z"
   },
   {
    "duration": 12,
    "start_time": "2022-04-10T16:48:46.786Z"
   },
   {
    "duration": 4,
    "start_time": "2022-04-10T16:48:46.800Z"
   },
   {
    "duration": 252,
    "start_time": "2022-04-10T16:48:46.806Z"
   },
   {
    "duration": 13,
    "start_time": "2022-04-10T16:48:47.060Z"
   },
   {
    "duration": 6,
    "start_time": "2022-04-10T16:48:47.074Z"
   },
   {
    "duration": 5,
    "start_time": "2022-04-10T16:48:47.082Z"
   },
   {
    "duration": 7,
    "start_time": "2022-04-10T16:48:47.088Z"
   },
   {
    "duration": 5,
    "start_time": "2022-04-10T16:48:47.097Z"
   },
   {
    "duration": 4,
    "start_time": "2022-04-10T16:48:47.103Z"
   },
   {
    "duration": 5,
    "start_time": "2022-04-10T16:48:47.108Z"
   },
   {
    "duration": 5,
    "start_time": "2022-04-10T16:48:47.115Z"
   },
   {
    "duration": 184,
    "start_time": "2022-04-10T16:48:47.123Z"
   },
   {
    "duration": 135,
    "start_time": "2022-04-10T16:48:47.309Z"
   },
   {
    "duration": 6,
    "start_time": "2022-04-10T16:48:47.446Z"
   },
   {
    "duration": 22,
    "start_time": "2022-04-10T16:48:47.453Z"
   },
   {
    "duration": 13,
    "start_time": "2022-04-10T16:48:47.476Z"
   },
   {
    "duration": 142,
    "start_time": "2022-04-10T16:48:47.490Z"
   },
   {
    "duration": 16,
    "start_time": "2022-04-10T16:48:47.634Z"
   },
   {
    "duration": 5,
    "start_time": "2022-04-10T16:48:47.651Z"
   },
   {
    "duration": 136,
    "start_time": "2022-04-10T16:48:47.670Z"
   },
   {
    "duration": 5,
    "start_time": "2022-04-10T16:48:47.807Z"
   },
   {
    "duration": 15,
    "start_time": "2022-04-10T16:48:47.813Z"
   },
   {
    "duration": 5,
    "start_time": "2022-04-10T16:48:47.829Z"
   },
   {
    "duration": 4,
    "start_time": "2022-04-10T16:48:47.835Z"
   },
   {
    "duration": 32,
    "start_time": "2022-04-10T16:48:47.840Z"
   },
   {
    "duration": 11,
    "start_time": "2022-04-10T16:48:47.874Z"
   },
   {
    "duration": 5,
    "start_time": "2022-04-10T16:48:47.887Z"
   },
   {
    "duration": 9,
    "start_time": "2022-04-10T16:48:47.894Z"
   },
   {
    "duration": 6,
    "start_time": "2022-04-10T16:48:47.904Z"
   },
   {
    "duration": 5,
    "start_time": "2022-04-10T16:48:47.914Z"
   },
   {
    "duration": 14,
    "start_time": "2022-04-10T16:48:47.921Z"
   },
   {
    "duration": 38,
    "start_time": "2022-04-10T16:48:47.936Z"
   },
   {
    "duration": 8,
    "start_time": "2022-04-10T16:48:47.975Z"
   },
   {
    "duration": 8,
    "start_time": "2022-04-10T16:48:47.984Z"
   },
   {
    "duration": 12,
    "start_time": "2022-04-10T16:48:47.993Z"
   },
   {
    "duration": 12,
    "start_time": "2022-04-10T16:48:48.007Z"
   },
   {
    "duration": 9,
    "start_time": "2022-04-10T16:48:48.021Z"
   },
   {
    "duration": 40,
    "start_time": "2022-04-10T16:48:48.031Z"
   },
   {
    "duration": 10,
    "start_time": "2022-04-10T16:48:48.073Z"
   },
   {
    "duration": 6,
    "start_time": "2022-04-10T16:48:48.084Z"
   },
   {
    "duration": 7,
    "start_time": "2022-04-10T16:48:48.091Z"
   },
   {
    "duration": 8,
    "start_time": "2022-04-10T16:48:48.099Z"
   },
   {
    "duration": 17,
    "start_time": "2022-04-10T16:48:48.109Z"
   },
   {
    "duration": 117507,
    "start_time": "2022-04-10T16:48:48.127Z"
   },
   {
    "duration": 4,
    "start_time": "2022-04-10T16:50:45.636Z"
   },
   {
    "duration": 9,
    "start_time": "2022-04-10T16:50:45.641Z"
   },
   {
    "duration": 26,
    "start_time": "2022-04-10T16:50:45.652Z"
   },
   {
    "duration": 4,
    "start_time": "2022-04-10T16:50:45.679Z"
   },
   {
    "duration": 12,
    "start_time": "2022-04-10T16:50:45.684Z"
   },
   {
    "duration": 8,
    "start_time": "2022-04-10T16:50:45.698Z"
   },
   {
    "duration": 10,
    "start_time": "2022-04-10T16:50:45.708Z"
   },
   {
    "duration": 9,
    "start_time": "2022-04-10T16:50:45.719Z"
   },
   {
    "duration": 5,
    "start_time": "2022-04-10T16:50:45.729Z"
   },
   {
    "duration": 12,
    "start_time": "2022-04-10T16:50:45.735Z"
   },
   {
    "duration": 29,
    "start_time": "2022-04-10T16:50:45.748Z"
   },
   {
    "duration": 12,
    "start_time": "2022-04-10T16:50:45.779Z"
   },
   {
    "duration": 9,
    "start_time": "2022-04-10T16:50:45.792Z"
   },
   {
    "duration": 7,
    "start_time": "2022-04-10T16:50:45.802Z"
   },
   {
    "duration": 9,
    "start_time": "2022-04-10T16:50:45.810Z"
   },
   {
    "duration": 8,
    "start_time": "2022-04-10T16:50:45.821Z"
   },
   {
    "duration": 7,
    "start_time": "2022-04-10T16:50:45.831Z"
   },
   {
    "duration": 9,
    "start_time": "2022-04-10T16:50:45.870Z"
   },
   {
    "duration": 8,
    "start_time": "2022-04-10T16:50:45.881Z"
   },
   {
    "duration": 10,
    "start_time": "2022-04-10T16:50:45.890Z"
   },
   {
    "duration": 9,
    "start_time": "2022-04-10T16:50:45.902Z"
   },
   {
    "duration": 9,
    "start_time": "2022-04-10T16:50:45.912Z"
   },
   {
    "duration": 9,
    "start_time": "2022-04-10T16:50:45.923Z"
   },
   {
    "duration": 119139,
    "start_time": "2022-04-10T16:53:25.062Z"
   },
   {
    "duration": 416,
    "start_time": "2022-04-10T16:56:44.314Z"
   },
   {
    "duration": 403,
    "start_time": "2022-04-10T16:56:54.690Z"
   },
   {
    "duration": 46,
    "start_time": "2022-04-10T16:57:00.491Z"
   },
   {
    "duration": 12,
    "start_time": "2022-04-10T16:57:00.539Z"
   },
   {
    "duration": 18,
    "start_time": "2022-04-10T16:57:00.553Z"
   },
   {
    "duration": 6,
    "start_time": "2022-04-10T16:57:00.573Z"
   },
   {
    "duration": 17,
    "start_time": "2022-04-10T16:57:00.581Z"
   },
   {
    "duration": 6,
    "start_time": "2022-04-10T16:57:00.599Z"
   },
   {
    "duration": 17,
    "start_time": "2022-04-10T16:57:00.606Z"
   },
   {
    "duration": 13,
    "start_time": "2022-04-10T16:57:00.625Z"
   },
   {
    "duration": 16,
    "start_time": "2022-04-10T16:57:00.640Z"
   },
   {
    "duration": 170,
    "start_time": "2022-04-10T16:57:00.658Z"
   },
   {
    "duration": 6,
    "start_time": "2022-04-10T16:57:00.830Z"
   },
   {
    "duration": 25,
    "start_time": "2022-04-10T16:57:00.838Z"
   },
   {
    "duration": 16,
    "start_time": "2022-04-10T16:57:00.864Z"
   },
   {
    "duration": 10,
    "start_time": "2022-04-10T16:57:00.882Z"
   },
   {
    "duration": 19,
    "start_time": "2022-04-10T16:57:00.894Z"
   },
   {
    "duration": 13,
    "start_time": "2022-04-10T16:57:00.914Z"
   },
   {
    "duration": 8,
    "start_time": "2022-04-10T16:57:00.928Z"
   },
   {
    "duration": 11,
    "start_time": "2022-04-10T16:57:00.938Z"
   },
   {
    "duration": 153,
    "start_time": "2022-04-10T16:57:00.953Z"
   },
   {
    "duration": 141,
    "start_time": "2022-04-10T16:57:01.107Z"
   },
   {
    "duration": 6,
    "start_time": "2022-04-10T16:57:01.250Z"
   },
   {
    "duration": 27,
    "start_time": "2022-04-10T16:57:01.258Z"
   },
   {
    "duration": 31,
    "start_time": "2022-04-10T16:57:01.287Z"
   },
   {
    "duration": 155,
    "start_time": "2022-04-10T16:57:01.320Z"
   },
   {
    "duration": 18,
    "start_time": "2022-04-10T16:57:01.477Z"
   },
   {
    "duration": 9,
    "start_time": "2022-04-10T16:57:01.497Z"
   },
   {
    "duration": 248,
    "start_time": "2022-04-10T16:57:01.509Z"
   },
   {
    "duration": 6,
    "start_time": "2022-04-10T16:57:01.758Z"
   },
   {
    "duration": 14,
    "start_time": "2022-04-10T16:57:01.770Z"
   },
   {
    "duration": 17,
    "start_time": "2022-04-10T16:57:01.786Z"
   },
   {
    "duration": 19,
    "start_time": "2022-04-10T16:57:01.805Z"
   },
   {
    "duration": 18,
    "start_time": "2022-04-10T16:57:01.826Z"
   },
   {
    "duration": 19,
    "start_time": "2022-04-10T16:57:01.846Z"
   },
   {
    "duration": 11,
    "start_time": "2022-04-10T16:57:01.867Z"
   },
   {
    "duration": 13,
    "start_time": "2022-04-10T16:57:01.879Z"
   },
   {
    "duration": 15,
    "start_time": "2022-04-10T16:57:01.893Z"
   },
   {
    "duration": 10,
    "start_time": "2022-04-10T16:57:01.909Z"
   },
   {
    "duration": 25,
    "start_time": "2022-04-10T16:57:01.920Z"
   },
   {
    "duration": 6,
    "start_time": "2022-04-10T16:57:01.947Z"
   },
   {
    "duration": 11,
    "start_time": "2022-04-10T16:57:01.954Z"
   },
   {
    "duration": 15,
    "start_time": "2022-04-10T16:57:01.966Z"
   },
   {
    "duration": 15,
    "start_time": "2022-04-10T16:57:01.982Z"
   },
   {
    "duration": 14,
    "start_time": "2022-04-10T16:57:01.999Z"
   },
   {
    "duration": 9,
    "start_time": "2022-04-10T16:57:02.015Z"
   },
   {
    "duration": 7,
    "start_time": "2022-04-10T16:57:02.025Z"
   },
   {
    "duration": 12,
    "start_time": "2022-04-10T16:57:02.033Z"
   },
   {
    "duration": 7,
    "start_time": "2022-04-10T16:57:02.070Z"
   },
   {
    "duration": 11,
    "start_time": "2022-04-10T16:57:02.081Z"
   },
   {
    "duration": 12,
    "start_time": "2022-04-10T16:57:02.093Z"
   },
   {
    "duration": 20,
    "start_time": "2022-04-10T16:57:02.106Z"
   },
   {
    "duration": 122759,
    "start_time": "2022-04-10T16:57:02.127Z"
   },
   {
    "duration": 5,
    "start_time": "2022-04-10T16:59:04.887Z"
   },
   {
    "duration": 8,
    "start_time": "2022-04-10T16:59:04.893Z"
   },
   {
    "duration": 13,
    "start_time": "2022-04-10T16:59:04.902Z"
   },
   {
    "duration": 4,
    "start_time": "2022-04-10T16:59:04.917Z"
   },
   {
    "duration": 14,
    "start_time": "2022-04-10T16:59:04.922Z"
   },
   {
    "duration": 8,
    "start_time": "2022-04-10T16:59:04.937Z"
   },
   {
    "duration": 8,
    "start_time": "2022-04-10T16:59:04.970Z"
   },
   {
    "duration": 11,
    "start_time": "2022-04-10T16:59:04.980Z"
   },
   {
    "duration": 6,
    "start_time": "2022-04-10T16:59:04.992Z"
   },
   {
    "duration": 10,
    "start_time": "2022-04-10T16:59:05.000Z"
   },
   {
    "duration": 8,
    "start_time": "2022-04-10T16:59:05.012Z"
   },
   {
    "duration": 14,
    "start_time": "2022-04-10T16:59:05.022Z"
   },
   {
    "duration": 9,
    "start_time": "2022-04-10T16:59:05.038Z"
   },
   {
    "duration": 6,
    "start_time": "2022-04-10T16:59:05.070Z"
   },
   {
    "duration": 10,
    "start_time": "2022-04-10T16:59:05.077Z"
   },
   {
    "duration": 7,
    "start_time": "2022-04-10T16:59:05.088Z"
   },
   {
    "duration": 7,
    "start_time": "2022-04-10T16:59:05.097Z"
   },
   {
    "duration": 8,
    "start_time": "2022-04-10T16:59:05.105Z"
   },
   {
    "duration": 9,
    "start_time": "2022-04-10T16:59:05.115Z"
   },
   {
    "duration": 9,
    "start_time": "2022-04-10T16:59:05.125Z"
   },
   {
    "duration": 43,
    "start_time": "2022-04-10T16:59:05.135Z"
   },
   {
    "duration": 10,
    "start_time": "2022-04-10T16:59:05.179Z"
   },
   {
    "duration": 8,
    "start_time": "2022-04-10T16:59:05.191Z"
   },
   {
    "duration": 120080,
    "start_time": "2022-04-10T17:01:10.420Z"
   },
   {
    "duration": 117551,
    "start_time": "2022-04-10T17:08:22.614Z"
   },
   {
    "duration": 111818,
    "start_time": "2022-04-10T17:13:26.912Z"
   },
   {
    "duration": 33196,
    "start_time": "2022-04-10T17:16:54.160Z"
   },
   {
    "duration": 33670,
    "start_time": "2022-04-10T17:19:33.880Z"
   },
   {
    "duration": 10,
    "start_time": "2022-04-10T17:26:40.243Z"
   },
   {
    "duration": 9,
    "start_time": "2022-04-10T17:27:07.272Z"
   },
   {
    "duration": 9,
    "start_time": "2022-04-10T17:27:18.310Z"
   },
   {
    "duration": 8,
    "start_time": "2022-04-10T17:29:33.585Z"
   },
   {
    "duration": 49,
    "start_time": "2022-04-10T17:29:42.883Z"
   },
   {
    "duration": 12,
    "start_time": "2022-04-10T17:29:42.934Z"
   },
   {
    "duration": 5,
    "start_time": "2022-04-10T17:29:42.947Z"
   },
   {
    "duration": 3,
    "start_time": "2022-04-10T17:29:42.954Z"
   },
   {
    "duration": 11,
    "start_time": "2022-04-10T17:29:42.959Z"
   },
   {
    "duration": 3,
    "start_time": "2022-04-10T17:29:42.971Z"
   },
   {
    "duration": 13,
    "start_time": "2022-04-10T17:29:42.976Z"
   },
   {
    "duration": 13,
    "start_time": "2022-04-10T17:29:42.991Z"
   },
   {
    "duration": 7,
    "start_time": "2022-04-10T17:29:43.005Z"
   },
   {
    "duration": 167,
    "start_time": "2022-04-10T17:29:43.014Z"
   },
   {
    "duration": 5,
    "start_time": "2022-04-10T17:29:43.182Z"
   },
   {
    "duration": 8,
    "start_time": "2022-04-10T17:29:43.188Z"
   },
   {
    "duration": 7,
    "start_time": "2022-04-10T17:29:43.197Z"
   },
   {
    "duration": 6,
    "start_time": "2022-04-10T17:29:43.205Z"
   },
   {
    "duration": 5,
    "start_time": "2022-04-10T17:29:43.212Z"
   },
   {
    "duration": 3,
    "start_time": "2022-04-10T17:29:43.218Z"
   },
   {
    "duration": 7,
    "start_time": "2022-04-10T17:29:43.222Z"
   },
   {
    "duration": 6,
    "start_time": "2022-04-10T17:29:43.230Z"
   },
   {
    "duration": 165,
    "start_time": "2022-04-10T17:29:43.237Z"
   },
   {
    "duration": 129,
    "start_time": "2022-04-10T17:29:43.404Z"
   },
   {
    "duration": 6,
    "start_time": "2022-04-10T17:29:43.536Z"
   },
   {
    "duration": 7,
    "start_time": "2022-04-10T17:29:43.543Z"
   },
   {
    "duration": 26,
    "start_time": "2022-04-10T17:29:43.551Z"
   },
   {
    "duration": 142,
    "start_time": "2022-04-10T17:29:43.579Z"
   },
   {
    "duration": 17,
    "start_time": "2022-04-10T17:29:43.723Z"
   },
   {
    "duration": 4,
    "start_time": "2022-04-10T17:29:43.742Z"
   },
   {
    "duration": 147,
    "start_time": "2022-04-10T17:29:43.747Z"
   },
   {
    "duration": 4,
    "start_time": "2022-04-10T17:29:43.896Z"
   },
   {
    "duration": 13,
    "start_time": "2022-04-10T17:29:43.902Z"
   },
   {
    "duration": 5,
    "start_time": "2022-04-10T17:29:43.916Z"
   },
   {
    "duration": 5,
    "start_time": "2022-04-10T17:29:43.922Z"
   },
   {
    "duration": 12,
    "start_time": "2022-04-10T17:29:43.928Z"
   },
   {
    "duration": 32,
    "start_time": "2022-04-10T17:29:43.941Z"
   },
   {
    "duration": 9,
    "start_time": "2022-04-10T17:29:43.974Z"
   },
   {
    "duration": 9,
    "start_time": "2022-04-10T17:29:43.985Z"
   },
   {
    "duration": 9,
    "start_time": "2022-04-10T17:29:43.996Z"
   },
   {
    "duration": 8,
    "start_time": "2022-04-10T17:29:44.007Z"
   },
   {
    "duration": 16,
    "start_time": "2022-04-10T17:29:44.016Z"
   },
   {
    "duration": 5,
    "start_time": "2022-04-10T17:29:44.034Z"
   },
   {
    "duration": 31,
    "start_time": "2022-04-10T17:29:44.041Z"
   },
   {
    "duration": 8,
    "start_time": "2022-04-10T17:29:44.074Z"
   },
   {
    "duration": 15,
    "start_time": "2022-04-10T17:29:44.083Z"
   },
   {
    "duration": 18,
    "start_time": "2022-04-10T17:29:44.099Z"
   },
   {
    "duration": 10,
    "start_time": "2022-04-10T17:29:44.119Z"
   },
   {
    "duration": 7,
    "start_time": "2022-04-10T17:29:44.130Z"
   },
   {
    "duration": 38,
    "start_time": "2022-04-10T17:29:44.139Z"
   },
   {
    "duration": 8,
    "start_time": "2022-04-10T17:29:44.178Z"
   },
   {
    "duration": 9,
    "start_time": "2022-04-10T17:29:44.188Z"
   },
   {
    "duration": 10,
    "start_time": "2022-04-10T17:29:44.198Z"
   },
   {
    "duration": 9,
    "start_time": "2022-04-10T17:29:52.612Z"
   },
   {
    "duration": 9,
    "start_time": "2022-04-10T17:32:02.092Z"
   },
   {
    "duration": 420,
    "start_time": "2022-04-10T17:33:06.358Z"
   },
   {
    "duration": 413,
    "start_time": "2022-04-10T17:33:13.407Z"
   },
   {
    "duration": 97,
    "start_time": "2022-04-10T17:33:23.321Z"
   },
   {
    "duration": 95,
    "start_time": "2022-04-10T17:33:45.132Z"
   },
   {
    "duration": 390,
    "start_time": "2022-04-10T17:33:59.278Z"
   },
   {
    "duration": 17,
    "start_time": "2022-04-10T17:46:24.388Z"
   },
   {
    "duration": 16,
    "start_time": "2022-04-10T17:46:31.287Z"
   },
   {
    "duration": 1369,
    "start_time": "2022-04-10T17:49:13.941Z"
   },
   {
    "duration": 9,
    "start_time": "2022-04-10T17:50:09.128Z"
   },
   {
    "duration": 382,
    "start_time": "2022-04-10T17:50:53.384Z"
   },
   {
    "duration": 412,
    "start_time": "2022-04-10T18:02:16.895Z"
   },
   {
    "duration": 1226,
    "start_time": "2022-04-10T18:03:06.871Z"
   },
   {
    "duration": 174,
    "start_time": "2022-04-10T18:04:07.520Z"
   },
   {
    "duration": 196,
    "start_time": "2022-04-10T18:04:27.112Z"
   },
   {
    "duration": 166,
    "start_time": "2022-04-10T18:04:35.612Z"
   },
   {
    "duration": 172,
    "start_time": "2022-04-10T18:05:11.366Z"
   },
   {
    "duration": 390,
    "start_time": "2022-04-10T18:05:19.368Z"
   },
   {
    "duration": 170,
    "start_time": "2022-04-10T18:05:23.614Z"
   },
   {
    "duration": 556,
    "start_time": "2022-04-10T18:05:54.727Z"
   },
   {
    "duration": 164,
    "start_time": "2022-04-10T18:06:20.629Z"
   },
   {
    "duration": 23,
    "start_time": "2022-04-10T18:08:15.183Z"
   },
   {
    "duration": 269,
    "start_time": "2022-04-10T18:08:22.645Z"
   },
   {
    "duration": 272,
    "start_time": "2022-04-10T18:08:28.959Z"
   },
   {
    "duration": 266,
    "start_time": "2022-04-10T18:08:32.517Z"
   },
   {
    "duration": 268,
    "start_time": "2022-04-10T18:08:36.541Z"
   },
   {
    "duration": 10,
    "start_time": "2022-04-10T18:09:59.153Z"
   },
   {
    "duration": 5,
    "start_time": "2022-04-10T18:10:02.700Z"
   },
   {
    "duration": 102,
    "start_time": "2022-04-10T18:10:20.284Z"
   },
   {
    "duration": 123,
    "start_time": "2022-04-10T18:11:52.291Z"
   },
   {
    "duration": 130,
    "start_time": "2022-04-10T18:11:57.954Z"
   },
   {
    "duration": 21,
    "start_time": "2022-04-10T18:12:06.812Z"
   },
   {
    "duration": 26,
    "start_time": "2022-04-10T18:12:21.920Z"
   },
   {
    "duration": 5,
    "start_time": "2022-04-10T18:13:07.276Z"
   },
   {
    "duration": 119,
    "start_time": "2022-04-10T18:13:09.557Z"
   },
   {
    "duration": 14,
    "start_time": "2022-04-10T18:13:46.350Z"
   },
   {
    "duration": 1309,
    "start_time": "2022-04-10T18:14:01.004Z"
   },
   {
    "duration": 388,
    "start_time": "2022-04-10T18:14:24.708Z"
   },
   {
    "duration": 448,
    "start_time": "2022-04-10T18:14:32.193Z"
   },
   {
    "duration": 1228,
    "start_time": "2022-04-10T18:14:56.991Z"
   },
   {
    "duration": 12,
    "start_time": "2022-04-10T18:17:15.475Z"
   },
   {
    "duration": 11,
    "start_time": "2022-04-10T18:17:35.437Z"
   },
   {
    "duration": 48,
    "start_time": "2022-04-10T18:17:58.273Z"
   },
   {
    "duration": 13,
    "start_time": "2022-04-10T18:17:58.322Z"
   },
   {
    "duration": 5,
    "start_time": "2022-04-10T18:17:58.337Z"
   },
   {
    "duration": 27,
    "start_time": "2022-04-10T18:17:58.344Z"
   },
   {
    "duration": 5,
    "start_time": "2022-04-10T18:17:58.373Z"
   },
   {
    "duration": 4,
    "start_time": "2022-04-10T18:17:58.379Z"
   },
   {
    "duration": 12,
    "start_time": "2022-04-10T18:17:58.385Z"
   },
   {
    "duration": 14,
    "start_time": "2022-04-10T18:17:58.399Z"
   },
   {
    "duration": 10,
    "start_time": "2022-04-10T18:17:58.414Z"
   },
   {
    "duration": 188,
    "start_time": "2022-04-10T18:17:58.426Z"
   },
   {
    "duration": 5,
    "start_time": "2022-04-10T18:17:58.616Z"
   },
   {
    "duration": 5,
    "start_time": "2022-04-10T18:17:58.623Z"
   },
   {
    "duration": 5,
    "start_time": "2022-04-10T18:17:58.630Z"
   },
   {
    "duration": 4,
    "start_time": "2022-04-10T18:17:58.637Z"
   },
   {
    "duration": 5,
    "start_time": "2022-04-10T18:17:58.643Z"
   },
   {
    "duration": 4,
    "start_time": "2022-04-10T18:17:58.670Z"
   },
   {
    "duration": 6,
    "start_time": "2022-04-10T18:17:58.675Z"
   },
   {
    "duration": 6,
    "start_time": "2022-04-10T18:17:58.683Z"
   },
   {
    "duration": 161,
    "start_time": "2022-04-10T18:17:58.690Z"
   },
   {
    "duration": 219,
    "start_time": "2022-04-10T18:17:58.853Z"
   },
   {
    "duration": 6,
    "start_time": "2022-04-10T18:17:59.074Z"
   },
   {
    "duration": 8,
    "start_time": "2022-04-10T18:17:59.081Z"
   },
   {
    "duration": 12,
    "start_time": "2022-04-10T18:17:59.090Z"
   },
   {
    "duration": 169,
    "start_time": "2022-04-10T18:17:59.103Z"
   },
   {
    "duration": 17,
    "start_time": "2022-04-10T18:17:59.274Z"
   },
   {
    "duration": 5,
    "start_time": "2022-04-10T18:17:59.292Z"
   },
   {
    "duration": 160,
    "start_time": "2022-04-10T18:17:59.298Z"
   },
   {
    "duration": 9,
    "start_time": "2022-04-10T18:17:59.462Z"
   },
   {
    "duration": 13,
    "start_time": "2022-04-10T18:17:59.472Z"
   },
   {
    "duration": 6,
    "start_time": "2022-04-10T18:17:59.487Z"
   },
   {
    "duration": 5,
    "start_time": "2022-04-10T18:17:59.494Z"
   },
   {
    "duration": 14,
    "start_time": "2022-04-10T18:17:59.500Z"
   },
   {
    "duration": 13,
    "start_time": "2022-04-10T18:17:59.515Z"
   },
   {
    "duration": 6,
    "start_time": "2022-04-10T18:17:59.529Z"
   },
   {
    "duration": 39,
    "start_time": "2022-04-10T18:17:59.537Z"
   },
   {
    "duration": 9,
    "start_time": "2022-04-10T18:17:59.578Z"
   },
   {
    "duration": 7,
    "start_time": "2022-04-10T18:17:59.588Z"
   },
   {
    "duration": 17,
    "start_time": "2022-04-10T18:17:59.596Z"
   },
   {
    "duration": 6,
    "start_time": "2022-04-10T18:17:59.615Z"
   },
   {
    "duration": 10,
    "start_time": "2022-04-10T18:17:59.622Z"
   },
   {
    "duration": 9,
    "start_time": "2022-04-10T18:17:59.634Z"
   },
   {
    "duration": 35,
    "start_time": "2022-04-10T18:17:59.645Z"
   },
   {
    "duration": 23,
    "start_time": "2022-04-10T18:17:59.682Z"
   },
   {
    "duration": 10,
    "start_time": "2022-04-10T18:17:59.707Z"
   },
   {
    "duration": 8,
    "start_time": "2022-04-10T18:17:59.718Z"
   },
   {
    "duration": 18,
    "start_time": "2022-04-10T18:17:59.727Z"
   },
   {
    "duration": 24,
    "start_time": "2022-04-10T18:17:59.746Z"
   },
   {
    "duration": 4,
    "start_time": "2022-04-10T18:17:59.772Z"
   },
   {
    "duration": 10,
    "start_time": "2022-04-10T18:17:59.778Z"
   },
   {
    "duration": 12,
    "start_time": "2022-04-10T18:17:59.789Z"
   },
   {
    "duration": 5,
    "start_time": "2022-04-10T18:17:59.803Z"
   },
   {
    "duration": 6,
    "start_time": "2022-04-10T18:17:59.809Z"
   },
   {
    "duration": 13,
    "start_time": "2022-04-10T18:17:59.817Z"
   },
   {
    "duration": 41,
    "start_time": "2022-04-10T18:17:59.832Z"
   },
   {
    "duration": 16,
    "start_time": "2022-04-10T18:17:59.874Z"
   },
   {
    "duration": 9,
    "start_time": "2022-04-10T18:17:59.892Z"
   },
   {
    "duration": 10,
    "start_time": "2022-04-10T18:17:59.903Z"
   },
   {
    "duration": 9,
    "start_time": "2022-04-10T18:17:59.914Z"
   },
   {
    "duration": 4,
    "start_time": "2022-04-10T18:17:59.925Z"
   },
   {
    "duration": 9,
    "start_time": "2022-04-10T18:17:59.931Z"
   },
   {
    "duration": 34,
    "start_time": "2022-04-10T18:17:59.941Z"
   },
   {
    "duration": 13,
    "start_time": "2022-04-10T18:17:59.977Z"
   },
   {
    "duration": 9,
    "start_time": "2022-04-10T18:17:59.991Z"
   },
   {
    "duration": 15,
    "start_time": "2022-04-10T18:18:00.002Z"
   },
   {
    "duration": 18,
    "start_time": "2022-04-10T18:18:00.018Z"
   },
   {
    "duration": 12,
    "start_time": "2022-04-10T18:18:00.038Z"
   },
   {
    "duration": 10,
    "start_time": "2022-04-10T18:18:00.051Z"
   },
   {
    "duration": 0,
    "start_time": "2022-04-10T18:18:00.071Z"
   },
   {
    "duration": 0,
    "start_time": "2022-04-10T18:18:00.072Z"
   },
   {
    "duration": 0,
    "start_time": "2022-04-10T18:18:00.072Z"
   },
   {
    "duration": 0,
    "start_time": "2022-04-10T18:18:00.073Z"
   },
   {
    "duration": 0,
    "start_time": "2022-04-10T18:18:00.074Z"
   },
   {
    "duration": 0,
    "start_time": "2022-04-10T18:18:00.075Z"
   },
   {
    "duration": 13,
    "start_time": "2022-04-10T18:19:06.427Z"
   },
   {
    "duration": 13,
    "start_time": "2022-04-10T18:19:09.652Z"
   },
   {
    "duration": 94,
    "start_time": "2022-04-10T18:19:28.531Z"
   },
   {
    "duration": 13,
    "start_time": "2022-04-10T18:19:33.147Z"
   },
   {
    "duration": 100,
    "start_time": "2022-04-10T18:21:41.795Z"
   },
   {
    "duration": 14,
    "start_time": "2022-04-10T18:21:47.670Z"
   },
   {
    "duration": 18,
    "start_time": "2022-04-10T18:22:02.075Z"
   },
   {
    "duration": 30,
    "start_time": "2022-04-10T18:22:30.635Z"
   },
   {
    "duration": 28,
    "start_time": "2022-04-10T18:22:53.875Z"
   },
   {
    "duration": 51,
    "start_time": "2022-04-10T18:30:09.590Z"
   },
   {
    "duration": 13,
    "start_time": "2022-04-10T18:30:09.643Z"
   },
   {
    "duration": 5,
    "start_time": "2022-04-10T18:30:09.657Z"
   },
   {
    "duration": 4,
    "start_time": "2022-04-10T18:30:09.664Z"
   },
   {
    "duration": 5,
    "start_time": "2022-04-10T18:30:09.669Z"
   },
   {
    "duration": 10,
    "start_time": "2022-04-10T18:30:09.675Z"
   },
   {
    "duration": 13,
    "start_time": "2022-04-10T18:30:09.687Z"
   },
   {
    "duration": 14,
    "start_time": "2022-04-10T18:30:09.701Z"
   },
   {
    "duration": 9,
    "start_time": "2022-04-10T18:30:09.716Z"
   },
   {
    "duration": 166,
    "start_time": "2022-04-10T18:30:09.727Z"
   },
   {
    "duration": 4,
    "start_time": "2022-04-10T18:30:09.895Z"
   },
   {
    "duration": 9,
    "start_time": "2022-04-10T18:30:09.900Z"
   },
   {
    "duration": 5,
    "start_time": "2022-04-10T18:30:09.910Z"
   },
   {
    "duration": 5,
    "start_time": "2022-04-10T18:30:09.916Z"
   },
   {
    "duration": 4,
    "start_time": "2022-04-10T18:30:09.922Z"
   },
   {
    "duration": 3,
    "start_time": "2022-04-10T18:30:09.927Z"
   },
   {
    "duration": 5,
    "start_time": "2022-04-10T18:30:09.931Z"
   },
   {
    "duration": 5,
    "start_time": "2022-04-10T18:30:09.937Z"
   },
   {
    "duration": 161,
    "start_time": "2022-04-10T18:30:09.943Z"
   },
   {
    "duration": 124,
    "start_time": "2022-04-10T18:30:10.105Z"
   },
   {
    "duration": 6,
    "start_time": "2022-04-10T18:30:10.230Z"
   },
   {
    "duration": 9,
    "start_time": "2022-04-10T18:30:10.237Z"
   },
   {
    "duration": 28,
    "start_time": "2022-04-10T18:30:10.247Z"
   },
   {
    "duration": 139,
    "start_time": "2022-04-10T18:30:10.276Z"
   },
   {
    "duration": 17,
    "start_time": "2022-04-10T18:30:10.417Z"
   },
   {
    "duration": 5,
    "start_time": "2022-04-10T18:30:10.436Z"
   },
   {
    "duration": 154,
    "start_time": "2022-04-10T18:30:10.442Z"
   },
   {
    "duration": 4,
    "start_time": "2022-04-10T18:30:10.601Z"
   },
   {
    "duration": 22,
    "start_time": "2022-04-10T18:30:10.607Z"
   },
   {
    "duration": 5,
    "start_time": "2022-04-10T18:30:10.631Z"
   },
   {
    "duration": 3,
    "start_time": "2022-04-10T18:30:10.638Z"
   },
   {
    "duration": 14,
    "start_time": "2022-04-10T18:30:10.643Z"
   },
   {
    "duration": 11,
    "start_time": "2022-04-10T18:30:10.670Z"
   },
   {
    "duration": 5,
    "start_time": "2022-04-10T18:30:10.683Z"
   },
   {
    "duration": 10,
    "start_time": "2022-04-10T18:30:10.689Z"
   },
   {
    "duration": 6,
    "start_time": "2022-04-10T18:30:10.700Z"
   },
   {
    "duration": 7,
    "start_time": "2022-04-10T18:30:10.707Z"
   },
   {
    "duration": 16,
    "start_time": "2022-04-10T18:30:10.715Z"
   },
   {
    "duration": 5,
    "start_time": "2022-04-10T18:30:10.732Z"
   },
   {
    "duration": 6,
    "start_time": "2022-04-10T18:30:10.771Z"
   },
   {
    "duration": 8,
    "start_time": "2022-04-10T18:30:10.778Z"
   },
   {
    "duration": 10,
    "start_time": "2022-04-10T18:30:10.787Z"
   },
   {
    "duration": 12,
    "start_time": "2022-04-10T18:30:10.799Z"
   },
   {
    "duration": 9,
    "start_time": "2022-04-10T18:30:10.812Z"
   },
   {
    "duration": 6,
    "start_time": "2022-04-10T18:30:10.823Z"
   },
   {
    "duration": 40,
    "start_time": "2022-04-10T18:30:10.830Z"
   },
   {
    "duration": 6,
    "start_time": "2022-04-10T18:30:10.872Z"
   },
   {
    "duration": 7,
    "start_time": "2022-04-10T18:30:10.880Z"
   },
   {
    "duration": 9,
    "start_time": "2022-04-10T18:30:10.888Z"
   },
   {
    "duration": 18,
    "start_time": "2022-04-10T18:30:10.898Z"
   },
   {
    "duration": 4,
    "start_time": "2022-04-10T18:30:10.918Z"
   },
   {
    "duration": 10,
    "start_time": "2022-04-10T18:30:10.924Z"
   },
   {
    "duration": 5,
    "start_time": "2022-04-10T18:30:10.936Z"
   },
   {
    "duration": 37,
    "start_time": "2022-04-10T18:30:10.942Z"
   },
   {
    "duration": 4,
    "start_time": "2022-04-10T18:30:10.980Z"
   },
   {
    "duration": 14,
    "start_time": "2022-04-10T18:30:10.985Z"
   },
   {
    "duration": 8,
    "start_time": "2022-04-10T18:30:11.000Z"
   },
   {
    "duration": 12,
    "start_time": "2022-04-10T18:30:11.010Z"
   },
   {
    "duration": 8,
    "start_time": "2022-04-10T18:30:11.023Z"
   },
   {
    "duration": 5,
    "start_time": "2022-04-10T18:30:11.032Z"
   },
   {
    "duration": 16,
    "start_time": "2022-04-10T18:30:11.038Z"
   },
   {
    "duration": 20,
    "start_time": "2022-04-10T18:30:11.055Z"
   },
   {
    "duration": 11,
    "start_time": "2022-04-10T18:30:11.077Z"
   },
   {
    "duration": 9,
    "start_time": "2022-04-10T18:30:11.089Z"
   },
   {
    "duration": 6,
    "start_time": "2022-04-10T18:30:11.099Z"
   },
   {
    "duration": 9,
    "start_time": "2022-04-10T18:30:11.107Z"
   },
   {
    "duration": 8,
    "start_time": "2022-04-10T18:30:11.117Z"
   },
   {
    "duration": 10,
    "start_time": "2022-04-10T18:30:11.126Z"
   },
   {
    "duration": 0,
    "start_time": "2022-04-10T18:30:11.138Z"
   },
   {
    "duration": 0,
    "start_time": "2022-04-10T18:30:11.139Z"
   },
   {
    "duration": 0,
    "start_time": "2022-04-10T18:30:11.140Z"
   },
   {
    "duration": 0,
    "start_time": "2022-04-10T18:30:11.171Z"
   },
   {
    "duration": 0,
    "start_time": "2022-04-10T18:30:11.172Z"
   },
   {
    "duration": 0,
    "start_time": "2022-04-10T18:30:11.173Z"
   },
   {
    "duration": 3,
    "start_time": "2022-04-10T18:31:42.149Z"
   },
   {
    "duration": 373,
    "start_time": "2022-04-10T18:32:48.902Z"
   },
   {
    "duration": 10,
    "start_time": "2022-04-10T18:32:57.699Z"
   },
   {
    "duration": 427,
    "start_time": "2022-04-10T18:33:19.101Z"
   },
   {
    "duration": 439,
    "start_time": "2022-04-10T18:34:27.773Z"
   },
   {
    "duration": 18,
    "start_time": "2022-04-10T18:34:37.193Z"
   },
   {
    "duration": 19,
    "start_time": "2022-04-10T18:35:34.235Z"
   },
   {
    "duration": 18,
    "start_time": "2022-04-10T18:36:13.077Z"
   },
   {
    "duration": 17,
    "start_time": "2022-04-10T18:36:19.746Z"
   },
   {
    "duration": 7,
    "start_time": "2022-04-10T18:39:52.124Z"
   },
   {
    "duration": 6,
    "start_time": "2022-04-10T18:39:56.836Z"
   },
   {
    "duration": 16,
    "start_time": "2022-04-10T18:41:56.673Z"
   },
   {
    "duration": 18,
    "start_time": "2022-04-10T18:42:22.621Z"
   },
   {
    "duration": 18,
    "start_time": "2022-04-10T18:42:36.780Z"
   },
   {
    "duration": 17,
    "start_time": "2022-04-10T19:08:18.313Z"
   },
   {
    "duration": 15,
    "start_time": "2022-04-10T19:08:22.204Z"
   },
   {
    "duration": 9,
    "start_time": "2022-04-10T19:11:44.823Z"
   },
   {
    "duration": 19,
    "start_time": "2022-04-10T19:12:00.266Z"
   },
   {
    "duration": 28,
    "start_time": "2022-04-10T19:12:27.683Z"
   },
   {
    "duration": 6,
    "start_time": "2022-04-10T19:15:43.774Z"
   },
   {
    "duration": 5,
    "start_time": "2022-04-10T19:15:44.894Z"
   },
   {
    "duration": 9,
    "start_time": "2022-04-10T19:18:49.357Z"
   },
   {
    "duration": 10,
    "start_time": "2022-04-10T19:19:24.881Z"
   },
   {
    "duration": 8,
    "start_time": "2022-04-10T19:29:25.903Z"
   },
   {
    "duration": 48,
    "start_time": "2022-04-10T19:29:29.826Z"
   },
   {
    "duration": 14,
    "start_time": "2022-04-10T19:29:29.876Z"
   },
   {
    "duration": 5,
    "start_time": "2022-04-10T19:29:29.892Z"
   },
   {
    "duration": 6,
    "start_time": "2022-04-10T19:29:29.899Z"
   },
   {
    "duration": 5,
    "start_time": "2022-04-10T19:29:29.907Z"
   },
   {
    "duration": 5,
    "start_time": "2022-04-10T19:29:29.914Z"
   },
   {
    "duration": 14,
    "start_time": "2022-04-10T19:29:29.921Z"
   },
   {
    "duration": 14,
    "start_time": "2022-04-10T19:29:29.971Z"
   },
   {
    "duration": 4,
    "start_time": "2022-04-10T19:29:29.987Z"
   },
   {
    "duration": 258,
    "start_time": "2022-04-10T19:29:29.993Z"
   },
   {
    "duration": 6,
    "start_time": "2022-04-10T19:29:30.252Z"
   },
   {
    "duration": 4,
    "start_time": "2022-04-10T19:29:30.270Z"
   },
   {
    "duration": 10,
    "start_time": "2022-04-10T19:29:30.276Z"
   },
   {
    "duration": 11,
    "start_time": "2022-04-10T19:29:30.288Z"
   },
   {
    "duration": 14,
    "start_time": "2022-04-10T19:29:30.300Z"
   },
   {
    "duration": 9,
    "start_time": "2022-04-10T19:29:30.316Z"
   },
   {
    "duration": 6,
    "start_time": "2022-04-10T19:29:30.326Z"
   },
   {
    "duration": 9,
    "start_time": "2022-04-10T19:29:30.334Z"
   },
   {
    "duration": 147,
    "start_time": "2022-04-10T19:29:30.345Z"
   },
   {
    "duration": 131,
    "start_time": "2022-04-10T19:29:30.494Z"
   },
   {
    "duration": 6,
    "start_time": "2022-04-10T19:29:30.627Z"
   },
   {
    "duration": 16,
    "start_time": "2022-04-10T19:29:30.635Z"
   },
   {
    "duration": 33,
    "start_time": "2022-04-10T19:29:30.653Z"
   },
   {
    "duration": 149,
    "start_time": "2022-04-10T19:29:30.691Z"
   },
   {
    "duration": 28,
    "start_time": "2022-04-10T19:29:30.842Z"
   },
   {
    "duration": 5,
    "start_time": "2022-04-10T19:29:30.872Z"
   },
   {
    "duration": 161,
    "start_time": "2022-04-10T19:29:30.879Z"
   },
   {
    "duration": 5,
    "start_time": "2022-04-10T19:29:31.042Z"
   },
   {
    "duration": 23,
    "start_time": "2022-04-10T19:29:31.049Z"
   },
   {
    "duration": 5,
    "start_time": "2022-04-10T19:29:31.073Z"
   },
   {
    "duration": 4,
    "start_time": "2022-04-10T19:29:31.080Z"
   },
   {
    "duration": 14,
    "start_time": "2022-04-10T19:29:31.085Z"
   },
   {
    "duration": 12,
    "start_time": "2022-04-10T19:29:31.101Z"
   },
   {
    "duration": 8,
    "start_time": "2022-04-10T19:29:31.115Z"
   },
   {
    "duration": 14,
    "start_time": "2022-04-10T19:29:31.124Z"
   },
   {
    "duration": 36,
    "start_time": "2022-04-10T19:29:31.140Z"
   },
   {
    "duration": 14,
    "start_time": "2022-04-10T19:29:31.178Z"
   },
   {
    "duration": 20,
    "start_time": "2022-04-10T19:29:31.194Z"
   },
   {
    "duration": 6,
    "start_time": "2022-04-10T19:29:31.216Z"
   },
   {
    "duration": 11,
    "start_time": "2022-04-10T19:29:31.224Z"
   },
   {
    "duration": 15,
    "start_time": "2022-04-10T19:29:31.237Z"
   },
   {
    "duration": 23,
    "start_time": "2022-04-10T19:29:31.254Z"
   },
   {
    "duration": 29,
    "start_time": "2022-04-10T19:29:31.279Z"
   },
   {
    "duration": 18,
    "start_time": "2022-04-10T19:29:31.310Z"
   },
   {
    "duration": 28,
    "start_time": "2022-04-10T19:29:31.330Z"
   },
   {
    "duration": 18,
    "start_time": "2022-04-10T19:29:31.360Z"
   },
   {
    "duration": 7,
    "start_time": "2022-04-10T19:29:31.380Z"
   },
   {
    "duration": 18,
    "start_time": "2022-04-10T19:29:31.389Z"
   },
   {
    "duration": 7,
    "start_time": "2022-04-10T19:29:31.408Z"
   },
   {
    "duration": 6,
    "start_time": "2022-04-10T19:29:31.417Z"
   },
   {
    "duration": 16,
    "start_time": "2022-04-10T19:29:31.425Z"
   },
   {
    "duration": 37,
    "start_time": "2022-04-10T19:29:31.442Z"
   },
   {
    "duration": 5,
    "start_time": "2022-04-10T19:29:31.481Z"
   },
   {
    "duration": 27,
    "start_time": "2022-04-10T19:29:31.487Z"
   },
   {
    "duration": 4,
    "start_time": "2022-04-10T19:29:31.516Z"
   },
   {
    "duration": 16,
    "start_time": "2022-04-10T19:29:31.522Z"
   },
   {
    "duration": 8,
    "start_time": "2022-04-10T19:29:31.540Z"
   },
   {
    "duration": 28,
    "start_time": "2022-04-10T19:29:31.549Z"
   },
   {
    "duration": 9,
    "start_time": "2022-04-10T19:29:31.579Z"
   },
   {
    "duration": 10,
    "start_time": "2022-04-10T19:29:31.589Z"
   },
   {
    "duration": 10,
    "start_time": "2022-04-10T19:29:31.600Z"
   },
   {
    "duration": 8,
    "start_time": "2022-04-10T19:29:31.612Z"
   },
   {
    "duration": 9,
    "start_time": "2022-04-10T19:29:31.621Z"
   },
   {
    "duration": 9,
    "start_time": "2022-04-10T19:29:31.632Z"
   },
   {
    "duration": 29,
    "start_time": "2022-04-10T19:29:31.642Z"
   },
   {
    "duration": 9,
    "start_time": "2022-04-10T19:29:31.672Z"
   },
   {
    "duration": 7,
    "start_time": "2022-04-10T19:29:31.683Z"
   },
   {
    "duration": 9,
    "start_time": "2022-04-10T19:29:31.692Z"
   },
   {
    "duration": 8,
    "start_time": "2022-04-10T19:29:31.705Z"
   },
   {
    "duration": 7,
    "start_time": "2022-04-10T19:29:31.715Z"
   },
   {
    "duration": 8,
    "start_time": "2022-04-10T19:29:31.724Z"
   },
   {
    "duration": 8,
    "start_time": "2022-04-10T19:29:31.770Z"
   },
   {
    "duration": 10,
    "start_time": "2022-04-10T19:29:31.779Z"
   },
   {
    "duration": 9,
    "start_time": "2022-04-10T19:29:31.790Z"
   },
   {
    "duration": 10,
    "start_time": "2022-04-10T19:30:48.211Z"
   },
   {
    "duration": 10,
    "start_time": "2022-04-10T19:31:40.952Z"
   },
   {
    "duration": 10,
    "start_time": "2022-04-10T19:33:23.997Z"
   },
   {
    "duration": 8,
    "start_time": "2022-04-10T19:34:12.771Z"
   },
   {
    "duration": 10,
    "start_time": "2022-04-10T19:35:12.251Z"
   },
   {
    "duration": 10,
    "start_time": "2022-04-10T19:36:10.755Z"
   },
   {
    "duration": 10,
    "start_time": "2022-04-10T19:38:24.747Z"
   },
   {
    "duration": 11,
    "start_time": "2022-04-10T19:46:36.526Z"
   },
   {
    "duration": 11,
    "start_time": "2022-04-10T19:50:26.909Z"
   },
   {
    "duration": 24,
    "start_time": "2022-04-10T19:50:29.957Z"
   },
   {
    "duration": 37,
    "start_time": "2022-04-10T19:50:44.734Z"
   },
   {
    "duration": 11,
    "start_time": "2022-04-10T19:51:26.952Z"
   },
   {
    "duration": 36,
    "start_time": "2022-04-10T19:51:30.144Z"
   },
   {
    "duration": 9,
    "start_time": "2022-04-10T19:52:09.097Z"
   },
   {
    "duration": 33,
    "start_time": "2022-04-10T19:52:16.205Z"
   },
   {
    "duration": 7,
    "start_time": "2022-04-10T19:52:57.766Z"
   },
   {
    "duration": 18,
    "start_time": "2022-04-10T19:53:06.394Z"
   },
   {
    "duration": 15,
    "start_time": "2022-04-10T19:57:51.572Z"
   },
   {
    "duration": 18,
    "start_time": "2022-04-10T19:58:03.100Z"
   },
   {
    "duration": 15,
    "start_time": "2022-04-10T19:58:29.494Z"
   },
   {
    "duration": 7,
    "start_time": "2022-04-10T19:58:36.432Z"
   },
   {
    "duration": 8,
    "start_time": "2022-04-10T19:58:41.415Z"
   },
   {
    "duration": 19,
    "start_time": "2022-04-10T19:58:46.818Z"
   },
   {
    "duration": 18,
    "start_time": "2022-04-10T19:59:08.363Z"
   },
   {
    "duration": 34,
    "start_time": "2022-04-10T19:59:20.301Z"
   },
   {
    "duration": 18,
    "start_time": "2022-04-10T19:59:29.556Z"
   },
   {
    "duration": 21,
    "start_time": "2022-04-10T20:02:04.940Z"
   },
   {
    "duration": 33,
    "start_time": "2022-04-10T20:03:52.297Z"
   },
   {
    "duration": 19,
    "start_time": "2022-04-10T20:04:25.630Z"
   },
   {
    "duration": 15,
    "start_time": "2022-04-10T20:04:53.905Z"
   },
   {
    "duration": 35,
    "start_time": "2022-04-10T20:04:57.182Z"
   },
   {
    "duration": 40,
    "start_time": "2022-04-10T20:05:33.739Z"
   },
   {
    "duration": 58,
    "start_time": "2022-04-10T20:06:14.834Z"
   },
   {
    "duration": 8,
    "start_time": "2022-04-10T20:06:45.175Z"
   },
   {
    "duration": 8,
    "start_time": "2022-04-10T20:06:51.097Z"
   },
   {
    "duration": 34,
    "start_time": "2022-04-10T20:07:02.595Z"
   },
   {
    "duration": 25,
    "start_time": "2022-04-10T20:07:20.428Z"
   },
   {
    "duration": 4,
    "start_time": "2022-04-10T20:45:54.853Z"
   },
   {
    "duration": 47,
    "start_time": "2022-04-10T20:46:04.788Z"
   },
   {
    "duration": 13,
    "start_time": "2022-04-10T20:46:04.837Z"
   },
   {
    "duration": 6,
    "start_time": "2022-04-10T20:46:04.852Z"
   },
   {
    "duration": 12,
    "start_time": "2022-04-10T20:46:04.860Z"
   },
   {
    "duration": 9,
    "start_time": "2022-04-10T20:46:04.874Z"
   },
   {
    "duration": 6,
    "start_time": "2022-04-10T20:46:04.885Z"
   },
   {
    "duration": 15,
    "start_time": "2022-04-10T20:46:04.893Z"
   },
   {
    "duration": 14,
    "start_time": "2022-04-10T20:46:04.909Z"
   },
   {
    "duration": 8,
    "start_time": "2022-04-10T20:46:04.925Z"
   },
   {
    "duration": 248,
    "start_time": "2022-04-10T20:46:04.936Z"
   },
   {
    "duration": 6,
    "start_time": "2022-04-10T20:46:05.185Z"
   },
   {
    "duration": 8,
    "start_time": "2022-04-10T20:46:05.193Z"
   },
   {
    "duration": 5,
    "start_time": "2022-04-10T20:46:05.203Z"
   },
   {
    "duration": 4,
    "start_time": "2022-04-10T20:46:05.210Z"
   },
   {
    "duration": 4,
    "start_time": "2022-04-10T20:46:05.216Z"
   },
   {
    "duration": 4,
    "start_time": "2022-04-10T20:46:05.221Z"
   },
   {
    "duration": 5,
    "start_time": "2022-04-10T20:46:05.226Z"
   },
   {
    "duration": 37,
    "start_time": "2022-04-10T20:46:05.233Z"
   },
   {
    "duration": 229,
    "start_time": "2022-04-10T20:46:05.272Z"
   },
   {
    "duration": 199,
    "start_time": "2022-04-10T20:46:05.503Z"
   },
   {
    "duration": 8,
    "start_time": "2022-04-10T20:46:05.704Z"
   },
   {
    "duration": 10,
    "start_time": "2022-04-10T20:46:05.713Z"
   },
   {
    "duration": 17,
    "start_time": "2022-04-10T20:46:05.725Z"
   },
   {
    "duration": 227,
    "start_time": "2022-04-10T20:46:05.744Z"
   },
   {
    "duration": 18,
    "start_time": "2022-04-10T20:46:05.973Z"
   },
   {
    "duration": 6,
    "start_time": "2022-04-10T20:46:05.992Z"
   },
   {
    "duration": 239,
    "start_time": "2022-04-10T20:46:05.999Z"
   },
   {
    "duration": 5,
    "start_time": "2022-04-10T20:46:06.242Z"
   },
   {
    "duration": 23,
    "start_time": "2022-04-10T20:46:06.248Z"
   },
   {
    "duration": 5,
    "start_time": "2022-04-10T20:46:06.273Z"
   },
   {
    "duration": 7,
    "start_time": "2022-04-10T20:46:06.279Z"
   },
   {
    "duration": 14,
    "start_time": "2022-04-10T20:46:06.287Z"
   },
   {
    "duration": 12,
    "start_time": "2022-04-10T20:46:06.303Z"
   },
   {
    "duration": 6,
    "start_time": "2022-04-10T20:46:06.317Z"
   },
   {
    "duration": 9,
    "start_time": "2022-04-10T20:46:06.325Z"
   },
   {
    "duration": 37,
    "start_time": "2022-04-10T20:46:06.336Z"
   },
   {
    "duration": 8,
    "start_time": "2022-04-10T20:46:06.375Z"
   },
   {
    "duration": 15,
    "start_time": "2022-04-10T20:46:06.385Z"
   },
   {
    "duration": 5,
    "start_time": "2022-04-10T20:46:06.402Z"
   },
   {
    "duration": 13,
    "start_time": "2022-04-10T20:46:06.408Z"
   },
   {
    "duration": 9,
    "start_time": "2022-04-10T20:46:06.422Z"
   },
   {
    "duration": 12,
    "start_time": "2022-04-10T20:46:06.432Z"
   },
   {
    "duration": 35,
    "start_time": "2022-04-10T20:46:06.445Z"
   },
   {
    "duration": 18,
    "start_time": "2022-04-10T20:46:06.481Z"
   },
   {
    "duration": 26,
    "start_time": "2022-04-10T20:46:06.500Z"
   },
   {
    "duration": 8,
    "start_time": "2022-04-10T20:46:06.528Z"
   },
   {
    "duration": 7,
    "start_time": "2022-04-10T20:46:06.537Z"
   },
   {
    "duration": 32,
    "start_time": "2022-04-10T20:46:06.546Z"
   },
   {
    "duration": 7,
    "start_time": "2022-04-10T20:46:06.580Z"
   },
   {
    "duration": 8,
    "start_time": "2022-04-10T20:46:06.588Z"
   },
   {
    "duration": 13,
    "start_time": "2022-04-10T20:46:06.598Z"
   },
   {
    "duration": 22,
    "start_time": "2022-04-10T20:46:06.612Z"
   },
   {
    "duration": 6,
    "start_time": "2022-04-10T20:46:06.636Z"
   },
   {
    "duration": 42,
    "start_time": "2022-04-10T20:46:06.643Z"
   },
   {
    "duration": 7,
    "start_time": "2022-04-10T20:46:06.687Z"
   },
   {
    "duration": 10,
    "start_time": "2022-04-10T20:46:06.696Z"
   },
   {
    "duration": 8,
    "start_time": "2022-04-10T20:46:06.707Z"
   },
   {
    "duration": 7,
    "start_time": "2022-04-10T20:46:06.717Z"
   },
   {
    "duration": 8,
    "start_time": "2022-04-10T20:46:06.726Z"
   },
   {
    "duration": 6,
    "start_time": "2022-04-10T20:46:06.735Z"
   },
   {
    "duration": 8,
    "start_time": "2022-04-10T20:46:06.771Z"
   },
   {
    "duration": 8,
    "start_time": "2022-04-10T20:46:06.780Z"
   },
   {
    "duration": 8,
    "start_time": "2022-04-10T20:46:06.790Z"
   },
   {
    "duration": 10,
    "start_time": "2022-04-10T20:46:06.800Z"
   },
   {
    "duration": 7,
    "start_time": "2022-04-10T20:46:06.812Z"
   },
   {
    "duration": 8,
    "start_time": "2022-04-10T20:46:06.820Z"
   },
   {
    "duration": 43,
    "start_time": "2022-04-10T20:46:06.829Z"
   },
   {
    "duration": 16,
    "start_time": "2022-04-10T20:46:06.873Z"
   },
   {
    "duration": 11,
    "start_time": "2022-04-10T20:46:06.890Z"
   },
   {
    "duration": 11,
    "start_time": "2022-04-10T20:46:06.903Z"
   },
   {
    "duration": 11,
    "start_time": "2022-04-10T20:46:06.916Z"
   },
   {
    "duration": 14,
    "start_time": "2022-04-10T20:46:06.928Z"
   },
   {
    "duration": 7,
    "start_time": "2022-04-10T20:46:06.944Z"
   },
   {
    "duration": 9,
    "start_time": "2022-04-10T20:46:06.970Z"
   },
   {
    "duration": 27,
    "start_time": "2022-04-10T20:46:06.980Z"
   },
   {
    "duration": 739,
    "start_time": "2022-12-07T21:43:48.066Z"
   },
   {
    "duration": 16,
    "start_time": "2022-12-07T21:43:48.807Z"
   },
   {
    "duration": 20,
    "start_time": "2022-12-07T21:43:48.825Z"
   },
   {
    "duration": 6,
    "start_time": "2022-12-07T21:43:48.848Z"
   },
   {
    "duration": 11,
    "start_time": "2022-12-07T21:43:48.855Z"
   },
   {
    "duration": 8,
    "start_time": "2022-12-07T21:43:48.868Z"
   },
   {
    "duration": 17,
    "start_time": "2022-12-07T21:43:48.878Z"
   },
   {
    "duration": 39,
    "start_time": "2022-12-07T21:43:48.896Z"
   },
   {
    "duration": 476,
    "start_time": "2022-12-07T21:43:48.937Z"
   },
   {
    "duration": 199,
    "start_time": "2022-12-07T21:43:49.416Z"
   },
   {
    "duration": 19,
    "start_time": "2022-12-07T21:43:49.616Z"
   },
   {
    "duration": 7,
    "start_time": "2022-12-07T21:43:49.637Z"
   },
   {
    "duration": 11,
    "start_time": "2022-12-07T21:43:49.646Z"
   },
   {
    "duration": 7,
    "start_time": "2022-12-07T21:43:49.659Z"
   },
   {
    "duration": 7,
    "start_time": "2022-12-07T21:43:49.668Z"
   },
   {
    "duration": 14,
    "start_time": "2022-12-07T21:43:49.677Z"
   },
   {
    "duration": 19,
    "start_time": "2022-12-07T21:43:49.693Z"
   },
   {
    "duration": 12,
    "start_time": "2022-12-07T21:43:49.714Z"
   },
   {
    "duration": 192,
    "start_time": "2022-12-07T21:43:49.728Z"
   },
   {
    "duration": 244,
    "start_time": "2022-12-07T21:43:49.922Z"
   },
   {
    "duration": 7,
    "start_time": "2022-12-07T21:43:50.168Z"
   },
   {
    "duration": 13,
    "start_time": "2022-12-07T21:43:50.177Z"
   },
   {
    "duration": 19,
    "start_time": "2022-12-07T21:43:50.192Z"
   },
   {
    "duration": 200,
    "start_time": "2022-12-07T21:43:50.213Z"
   },
   {
    "duration": 30,
    "start_time": "2022-12-07T21:43:50.416Z"
   },
   {
    "duration": 5,
    "start_time": "2022-12-07T21:43:50.448Z"
   },
   {
    "duration": 200,
    "start_time": "2022-12-07T21:43:50.455Z"
   },
   {
    "duration": 5,
    "start_time": "2022-12-07T21:43:50.660Z"
   },
   {
    "duration": 18,
    "start_time": "2022-12-07T21:43:50.667Z"
   },
   {
    "duration": 6,
    "start_time": "2022-12-07T21:43:50.687Z"
   },
   {
    "duration": 5,
    "start_time": "2022-12-07T21:43:50.695Z"
   },
   {
    "duration": 39,
    "start_time": "2022-12-07T21:43:50.702Z"
   },
   {
    "duration": 14,
    "start_time": "2022-12-07T21:43:50.742Z"
   },
   {
    "duration": 10,
    "start_time": "2022-12-07T21:43:50.757Z"
   },
   {
    "duration": 19,
    "start_time": "2022-12-07T21:43:50.769Z"
   },
   {
    "duration": 13,
    "start_time": "2022-12-07T21:43:50.790Z"
   },
   {
    "duration": 12,
    "start_time": "2022-12-07T21:43:50.805Z"
   },
   {
    "duration": 19,
    "start_time": "2022-12-07T21:43:50.835Z"
   },
   {
    "duration": 7,
    "start_time": "2022-12-07T21:43:50.856Z"
   },
   {
    "duration": 20,
    "start_time": "2022-12-07T21:43:50.865Z"
   },
   {
    "duration": 15,
    "start_time": "2022-12-07T21:43:50.887Z"
   },
   {
    "duration": 41,
    "start_time": "2022-12-07T21:43:50.904Z"
   },
   {
    "duration": 35,
    "start_time": "2022-12-07T21:43:50.947Z"
   },
   {
    "duration": 9,
    "start_time": "2022-12-07T21:43:50.985Z"
   },
   {
    "duration": 8,
    "start_time": "2022-12-07T21:43:50.996Z"
   },
   {
    "duration": 38,
    "start_time": "2022-12-07T21:43:51.006Z"
   },
   {
    "duration": 14,
    "start_time": "2022-12-07T21:43:51.047Z"
   },
   {
    "duration": 20,
    "start_time": "2022-12-07T21:43:51.063Z"
   },
   {
    "duration": 21,
    "start_time": "2022-12-07T21:43:51.085Z"
   },
   {
    "duration": 32,
    "start_time": "2022-12-07T21:43:51.108Z"
   },
   {
    "duration": 9,
    "start_time": "2022-12-07T21:43:51.142Z"
   },
   {
    "duration": 22,
    "start_time": "2022-12-07T21:43:51.153Z"
   },
   {
    "duration": 12,
    "start_time": "2022-12-07T21:43:51.177Z"
   },
   {
    "duration": 31,
    "start_time": "2022-12-07T21:43:51.191Z"
   },
   {
    "duration": 18,
    "start_time": "2022-12-07T21:43:51.224Z"
   },
   {
    "duration": 13,
    "start_time": "2022-12-07T21:43:51.244Z"
   },
   {
    "duration": 12,
    "start_time": "2022-12-07T21:43:51.258Z"
   },
   {
    "duration": 31,
    "start_time": "2022-12-07T21:43:51.271Z"
   },
   {
    "duration": 18,
    "start_time": "2022-12-07T21:43:51.303Z"
   },
   {
    "duration": 13,
    "start_time": "2022-12-07T21:43:51.323Z"
   },
   {
    "duration": 28,
    "start_time": "2022-12-07T21:43:51.338Z"
   },
   {
    "duration": 12,
    "start_time": "2022-12-07T21:43:51.368Z"
   },
   {
    "duration": 12,
    "start_time": "2022-12-07T21:43:51.381Z"
   },
   {
    "duration": 19,
    "start_time": "2022-12-07T21:43:51.394Z"
   },
   {
    "duration": 21,
    "start_time": "2022-12-07T21:43:51.415Z"
   },
   {
    "duration": 13,
    "start_time": "2022-12-07T21:43:51.438Z"
   },
   {
    "duration": 11,
    "start_time": "2022-12-07T21:43:51.453Z"
   },
   {
    "duration": 18,
    "start_time": "2022-12-07T21:43:51.465Z"
   },
   {
    "duration": 10,
    "start_time": "2022-12-07T21:43:51.485Z"
   },
   {
    "duration": 11,
    "start_time": "2022-12-07T21:43:51.497Z"
   },
   {
    "duration": 29,
    "start_time": "2022-12-07T21:43:51.510Z"
   },
   {
    "duration": 12,
    "start_time": "2022-12-07T21:43:51.540Z"
   },
   {
    "duration": 43,
    "start_time": "2022-12-07T21:43:51.553Z"
   }
  ],
  "kernelspec": {
   "display_name": "Python 3 (ipykernel)",
   "language": "python",
   "name": "python3"
  },
  "language_info": {
   "codemirror_mode": {
    "name": "ipython",
    "version": 3
   },
   "file_extension": ".py",
   "mimetype": "text/x-python",
   "name": "python",
   "nbconvert_exporter": "python",
   "pygments_lexer": "ipython3",
   "version": "3.9.7"
  },
  "toc": {
   "base_numbering": 1,
   "nav_menu": {},
   "number_sections": true,
   "sideBar": true,
   "skip_h1_title": true,
   "title_cell": "Table of Contents",
   "title_sidebar": "Contents",
   "toc_cell": false,
   "toc_position": {},
   "toc_section_display": true,
   "toc_window_display": false
  }
 },
 "nbformat": 4,
 "nbformat_minor": 5
}
