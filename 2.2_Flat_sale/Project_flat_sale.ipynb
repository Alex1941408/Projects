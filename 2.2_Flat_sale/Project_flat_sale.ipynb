{
 "cells": [
  {
   "cell_type": "markdown",
   "metadata": {},
   "source": [
    "## Изучение данных из файла"
   ]
  },
  {
   "cell_type": "markdown",
   "metadata": {},
   "source": [
    "Для начала откроем файл с данными и выведем первые 10 строк: "
   ]
  },
  {
   "cell_type": "code",
   "execution_count": 1,
   "metadata": {
    "scrolled": true
   },
   "outputs": [
    {
     "data": {
      "text/html": [
       "<div>\n",
       "<style scoped>\n",
       "    .dataframe tbody tr th:only-of-type {\n",
       "        vertical-align: middle;\n",
       "    }\n",
       "\n",
       "    .dataframe tbody tr th {\n",
       "        vertical-align: top;\n",
       "    }\n",
       "\n",
       "    .dataframe thead th {\n",
       "        text-align: right;\n",
       "    }\n",
       "</style>\n",
       "<table border=\"1\" class=\"dataframe\">\n",
       "  <thead>\n",
       "    <tr style=\"text-align: right;\">\n",
       "      <th></th>\n",
       "      <th>total_images\\tlast_price\\ttotal_area\\tfirst_day_exposition\\trooms\\tceiling_height\\tfloors_total\\tliving_area\\tfloor\\tis_apartment\\tstudio\\topen_plan\\tkitchen_area\\tbalcony\\tlocality_name\\tairports_nearest\\tcityCenters_nearest\\tparks_around3000\\tparks_nearest\\tponds_around3000\\tponds_nearest\\tdays_exposition</th>\n",
       "    </tr>\n",
       "  </thead>\n",
       "  <tbody>\n",
       "    <tr>\n",
       "      <th>0</th>\n",
       "      <td>20\\t13000000.0\\t108.0\\t2019-03-07T00:00:00\\t3\\...</td>\n",
       "    </tr>\n",
       "    <tr>\n",
       "      <th>1</th>\n",
       "      <td>7\\t3350000.0\\t40.4\\t2018-12-04T00:00:00\\t1\\t\\t...</td>\n",
       "    </tr>\n",
       "    <tr>\n",
       "      <th>2</th>\n",
       "      <td>10\\t5196000.0\\t56.0\\t2015-08-20T00:00:00\\t2\\t\\...</td>\n",
       "    </tr>\n",
       "    <tr>\n",
       "      <th>3</th>\n",
       "      <td>0\\t64900000.0\\t159.0\\t2015-07-24T00:00:00\\t3\\t...</td>\n",
       "    </tr>\n",
       "    <tr>\n",
       "      <th>4</th>\n",
       "      <td>2\\t10000000.0\\t100.0\\t2018-06-19T00:00:00\\t2\\t...</td>\n",
       "    </tr>\n",
       "    <tr>\n",
       "      <th>5</th>\n",
       "      <td>10\\t2890000.0\\t30.4\\t2018-09-10T00:00:00\\t1\\t\\...</td>\n",
       "    </tr>\n",
       "    <tr>\n",
       "      <th>6</th>\n",
       "      <td>6\\t3700000.0\\t37.3\\t2017-11-02T00:00:00\\t1\\t\\t...</td>\n",
       "    </tr>\n",
       "    <tr>\n",
       "      <th>7</th>\n",
       "      <td>5\\t7915000.0\\t71.6\\t2019-04-18T00:00:00\\t2\\t\\t...</td>\n",
       "    </tr>\n",
       "    <tr>\n",
       "      <th>8</th>\n",
       "      <td>20\\t2900000.0\\t33.16\\t2018-05-23T00:00:00\\t1\\t...</td>\n",
       "    </tr>\n",
       "    <tr>\n",
       "      <th>9</th>\n",
       "      <td>18\\t5400000.0\\t61.0\\t2017-02-26T00:00:00\\t3\\t2...</td>\n",
       "    </tr>\n",
       "  </tbody>\n",
       "</table>\n",
       "</div>"
      ],
      "text/plain": [
       "  total_images\\tlast_price\\ttotal_area\\tfirst_day_exposition\\trooms\\tceiling_height\\tfloors_total\\tliving_area\\tfloor\\tis_apartment\\tstudio\\topen_plan\\tkitchen_area\\tbalcony\\tlocality_name\\tairports_nearest\\tcityCenters_nearest\\tparks_around3000\\tparks_nearest\\tponds_around3000\\tponds_nearest\\tdays_exposition\n",
       "0  20\\t13000000.0\\t108.0\\t2019-03-07T00:00:00\\t3\\...                                                                                                                                                                                                                                                                  \n",
       "1  7\\t3350000.0\\t40.4\\t2018-12-04T00:00:00\\t1\\t\\t...                                                                                                                                                                                                                                                                  \n",
       "2  10\\t5196000.0\\t56.0\\t2015-08-20T00:00:00\\t2\\t\\...                                                                                                                                                                                                                                                                  \n",
       "3  0\\t64900000.0\\t159.0\\t2015-07-24T00:00:00\\t3\\t...                                                                                                                                                                                                                                                                  \n",
       "4  2\\t10000000.0\\t100.0\\t2018-06-19T00:00:00\\t2\\t...                                                                                                                                                                                                                                                                  \n",
       "5  10\\t2890000.0\\t30.4\\t2018-09-10T00:00:00\\t1\\t\\...                                                                                                                                                                                                                                                                  \n",
       "6  6\\t3700000.0\\t37.3\\t2017-11-02T00:00:00\\t1\\t\\t...                                                                                                                                                                                                                                                                  \n",
       "7  5\\t7915000.0\\t71.6\\t2019-04-18T00:00:00\\t2\\t\\t...                                                                                                                                                                                                                                                                  \n",
       "8  20\\t2900000.0\\t33.16\\t2018-05-23T00:00:00\\t1\\t...                                                                                                                                                                                                                                                                  \n",
       "9  18\\t5400000.0\\t61.0\\t2017-02-26T00:00:00\\t3\\t2...                                                                                                                                                                                                                                                                  "
      ]
     },
     "execution_count": 1,
     "metadata": {},
     "output_type": "execute_result"
    }
   ],
   "source": [
    "import pandas as pd\n",
    "import matplotlib.pyplot as plt\n",
    "\n",
    "df = pd.read_csv('/datasets/real_estate_data.csv')\n",
    "df.head(10)"
   ]
  },
  {
   "cell_type": "markdown",
   "metadata": {},
   "source": [
    "Данные отображаются некорректно. Поэтому добавим в определение датафрейма разделитель `\\t`:"
   ]
  },
  {
   "cell_type": "code",
   "execution_count": 2,
   "metadata": {},
   "outputs": [
    {
     "data": {
      "text/html": [
       "<div>\n",
       "<style scoped>\n",
       "    .dataframe tbody tr th:only-of-type {\n",
       "        vertical-align: middle;\n",
       "    }\n",
       "\n",
       "    .dataframe tbody tr th {\n",
       "        vertical-align: top;\n",
       "    }\n",
       "\n",
       "    .dataframe thead th {\n",
       "        text-align: right;\n",
       "    }\n",
       "</style>\n",
       "<table border=\"1\" class=\"dataframe\">\n",
       "  <thead>\n",
       "    <tr style=\"text-align: right;\">\n",
       "      <th></th>\n",
       "      <th>total_images</th>\n",
       "      <th>last_price</th>\n",
       "      <th>total_area</th>\n",
       "      <th>first_day_exposition</th>\n",
       "      <th>rooms</th>\n",
       "      <th>ceiling_height</th>\n",
       "      <th>floors_total</th>\n",
       "      <th>living_area</th>\n",
       "      <th>floor</th>\n",
       "      <th>is_apartment</th>\n",
       "      <th>...</th>\n",
       "      <th>kitchen_area</th>\n",
       "      <th>balcony</th>\n",
       "      <th>locality_name</th>\n",
       "      <th>airports_nearest</th>\n",
       "      <th>cityCenters_nearest</th>\n",
       "      <th>parks_around3000</th>\n",
       "      <th>parks_nearest</th>\n",
       "      <th>ponds_around3000</th>\n",
       "      <th>ponds_nearest</th>\n",
       "      <th>days_exposition</th>\n",
       "    </tr>\n",
       "  </thead>\n",
       "  <tbody>\n",
       "    <tr>\n",
       "      <th>0</th>\n",
       "      <td>20</td>\n",
       "      <td>13000000.0</td>\n",
       "      <td>108.00</td>\n",
       "      <td>2019-03-07T00:00:00</td>\n",
       "      <td>3</td>\n",
       "      <td>2.70</td>\n",
       "      <td>16.0</td>\n",
       "      <td>51.00</td>\n",
       "      <td>8</td>\n",
       "      <td>NaN</td>\n",
       "      <td>...</td>\n",
       "      <td>25.00</td>\n",
       "      <td>NaN</td>\n",
       "      <td>Санкт-Петербург</td>\n",
       "      <td>18863.0</td>\n",
       "      <td>16028.0</td>\n",
       "      <td>1.0</td>\n",
       "      <td>482.0</td>\n",
       "      <td>2.0</td>\n",
       "      <td>755.0</td>\n",
       "      <td>NaN</td>\n",
       "    </tr>\n",
       "    <tr>\n",
       "      <th>1</th>\n",
       "      <td>7</td>\n",
       "      <td>3350000.0</td>\n",
       "      <td>40.40</td>\n",
       "      <td>2018-12-04T00:00:00</td>\n",
       "      <td>1</td>\n",
       "      <td>NaN</td>\n",
       "      <td>11.0</td>\n",
       "      <td>18.60</td>\n",
       "      <td>1</td>\n",
       "      <td>NaN</td>\n",
       "      <td>...</td>\n",
       "      <td>11.00</td>\n",
       "      <td>2.0</td>\n",
       "      <td>посёлок Шушары</td>\n",
       "      <td>12817.0</td>\n",
       "      <td>18603.0</td>\n",
       "      <td>0.0</td>\n",
       "      <td>NaN</td>\n",
       "      <td>0.0</td>\n",
       "      <td>NaN</td>\n",
       "      <td>81.0</td>\n",
       "    </tr>\n",
       "    <tr>\n",
       "      <th>2</th>\n",
       "      <td>10</td>\n",
       "      <td>5196000.0</td>\n",
       "      <td>56.00</td>\n",
       "      <td>2015-08-20T00:00:00</td>\n",
       "      <td>2</td>\n",
       "      <td>NaN</td>\n",
       "      <td>5.0</td>\n",
       "      <td>34.30</td>\n",
       "      <td>4</td>\n",
       "      <td>NaN</td>\n",
       "      <td>...</td>\n",
       "      <td>8.30</td>\n",
       "      <td>0.0</td>\n",
       "      <td>Санкт-Петербург</td>\n",
       "      <td>21741.0</td>\n",
       "      <td>13933.0</td>\n",
       "      <td>1.0</td>\n",
       "      <td>90.0</td>\n",
       "      <td>2.0</td>\n",
       "      <td>574.0</td>\n",
       "      <td>558.0</td>\n",
       "    </tr>\n",
       "    <tr>\n",
       "      <th>3</th>\n",
       "      <td>0</td>\n",
       "      <td>64900000.0</td>\n",
       "      <td>159.00</td>\n",
       "      <td>2015-07-24T00:00:00</td>\n",
       "      <td>3</td>\n",
       "      <td>NaN</td>\n",
       "      <td>14.0</td>\n",
       "      <td>NaN</td>\n",
       "      <td>9</td>\n",
       "      <td>NaN</td>\n",
       "      <td>...</td>\n",
       "      <td>NaN</td>\n",
       "      <td>0.0</td>\n",
       "      <td>Санкт-Петербург</td>\n",
       "      <td>28098.0</td>\n",
       "      <td>6800.0</td>\n",
       "      <td>2.0</td>\n",
       "      <td>84.0</td>\n",
       "      <td>3.0</td>\n",
       "      <td>234.0</td>\n",
       "      <td>424.0</td>\n",
       "    </tr>\n",
       "    <tr>\n",
       "      <th>4</th>\n",
       "      <td>2</td>\n",
       "      <td>10000000.0</td>\n",
       "      <td>100.00</td>\n",
       "      <td>2018-06-19T00:00:00</td>\n",
       "      <td>2</td>\n",
       "      <td>3.03</td>\n",
       "      <td>14.0</td>\n",
       "      <td>32.00</td>\n",
       "      <td>13</td>\n",
       "      <td>NaN</td>\n",
       "      <td>...</td>\n",
       "      <td>41.00</td>\n",
       "      <td>NaN</td>\n",
       "      <td>Санкт-Петербург</td>\n",
       "      <td>31856.0</td>\n",
       "      <td>8098.0</td>\n",
       "      <td>2.0</td>\n",
       "      <td>112.0</td>\n",
       "      <td>1.0</td>\n",
       "      <td>48.0</td>\n",
       "      <td>121.0</td>\n",
       "    </tr>\n",
       "    <tr>\n",
       "      <th>5</th>\n",
       "      <td>10</td>\n",
       "      <td>2890000.0</td>\n",
       "      <td>30.40</td>\n",
       "      <td>2018-09-10T00:00:00</td>\n",
       "      <td>1</td>\n",
       "      <td>NaN</td>\n",
       "      <td>12.0</td>\n",
       "      <td>14.40</td>\n",
       "      <td>5</td>\n",
       "      <td>NaN</td>\n",
       "      <td>...</td>\n",
       "      <td>9.10</td>\n",
       "      <td>NaN</td>\n",
       "      <td>городской посёлок Янино-1</td>\n",
       "      <td>NaN</td>\n",
       "      <td>NaN</td>\n",
       "      <td>NaN</td>\n",
       "      <td>NaN</td>\n",
       "      <td>NaN</td>\n",
       "      <td>NaN</td>\n",
       "      <td>55.0</td>\n",
       "    </tr>\n",
       "    <tr>\n",
       "      <th>6</th>\n",
       "      <td>6</td>\n",
       "      <td>3700000.0</td>\n",
       "      <td>37.30</td>\n",
       "      <td>2017-11-02T00:00:00</td>\n",
       "      <td>1</td>\n",
       "      <td>NaN</td>\n",
       "      <td>26.0</td>\n",
       "      <td>10.60</td>\n",
       "      <td>6</td>\n",
       "      <td>NaN</td>\n",
       "      <td>...</td>\n",
       "      <td>14.40</td>\n",
       "      <td>1.0</td>\n",
       "      <td>посёлок Парголово</td>\n",
       "      <td>52996.0</td>\n",
       "      <td>19143.0</td>\n",
       "      <td>0.0</td>\n",
       "      <td>NaN</td>\n",
       "      <td>0.0</td>\n",
       "      <td>NaN</td>\n",
       "      <td>155.0</td>\n",
       "    </tr>\n",
       "    <tr>\n",
       "      <th>7</th>\n",
       "      <td>5</td>\n",
       "      <td>7915000.0</td>\n",
       "      <td>71.60</td>\n",
       "      <td>2019-04-18T00:00:00</td>\n",
       "      <td>2</td>\n",
       "      <td>NaN</td>\n",
       "      <td>24.0</td>\n",
       "      <td>NaN</td>\n",
       "      <td>22</td>\n",
       "      <td>NaN</td>\n",
       "      <td>...</td>\n",
       "      <td>18.90</td>\n",
       "      <td>2.0</td>\n",
       "      <td>Санкт-Петербург</td>\n",
       "      <td>23982.0</td>\n",
       "      <td>11634.0</td>\n",
       "      <td>0.0</td>\n",
       "      <td>NaN</td>\n",
       "      <td>0.0</td>\n",
       "      <td>NaN</td>\n",
       "      <td>NaN</td>\n",
       "    </tr>\n",
       "    <tr>\n",
       "      <th>8</th>\n",
       "      <td>20</td>\n",
       "      <td>2900000.0</td>\n",
       "      <td>33.16</td>\n",
       "      <td>2018-05-23T00:00:00</td>\n",
       "      <td>1</td>\n",
       "      <td>NaN</td>\n",
       "      <td>27.0</td>\n",
       "      <td>15.43</td>\n",
       "      <td>26</td>\n",
       "      <td>NaN</td>\n",
       "      <td>...</td>\n",
       "      <td>8.81</td>\n",
       "      <td>NaN</td>\n",
       "      <td>посёлок Мурино</td>\n",
       "      <td>NaN</td>\n",
       "      <td>NaN</td>\n",
       "      <td>NaN</td>\n",
       "      <td>NaN</td>\n",
       "      <td>NaN</td>\n",
       "      <td>NaN</td>\n",
       "      <td>189.0</td>\n",
       "    </tr>\n",
       "    <tr>\n",
       "      <th>9</th>\n",
       "      <td>18</td>\n",
       "      <td>5400000.0</td>\n",
       "      <td>61.00</td>\n",
       "      <td>2017-02-26T00:00:00</td>\n",
       "      <td>3</td>\n",
       "      <td>2.50</td>\n",
       "      <td>9.0</td>\n",
       "      <td>43.60</td>\n",
       "      <td>7</td>\n",
       "      <td>NaN</td>\n",
       "      <td>...</td>\n",
       "      <td>6.50</td>\n",
       "      <td>2.0</td>\n",
       "      <td>Санкт-Петербург</td>\n",
       "      <td>50898.0</td>\n",
       "      <td>15008.0</td>\n",
       "      <td>0.0</td>\n",
       "      <td>NaN</td>\n",
       "      <td>0.0</td>\n",
       "      <td>NaN</td>\n",
       "      <td>289.0</td>\n",
       "    </tr>\n",
       "  </tbody>\n",
       "</table>\n",
       "<p>10 rows × 22 columns</p>\n",
       "</div>"
      ],
      "text/plain": [
       "   total_images  last_price  total_area first_day_exposition  rooms  \\\n",
       "0            20  13000000.0      108.00  2019-03-07T00:00:00      3   \n",
       "1             7   3350000.0       40.40  2018-12-04T00:00:00      1   \n",
       "2            10   5196000.0       56.00  2015-08-20T00:00:00      2   \n",
       "3             0  64900000.0      159.00  2015-07-24T00:00:00      3   \n",
       "4             2  10000000.0      100.00  2018-06-19T00:00:00      2   \n",
       "5            10   2890000.0       30.40  2018-09-10T00:00:00      1   \n",
       "6             6   3700000.0       37.30  2017-11-02T00:00:00      1   \n",
       "7             5   7915000.0       71.60  2019-04-18T00:00:00      2   \n",
       "8            20   2900000.0       33.16  2018-05-23T00:00:00      1   \n",
       "9            18   5400000.0       61.00  2017-02-26T00:00:00      3   \n",
       "\n",
       "   ceiling_height  floors_total  living_area  floor is_apartment  ...  \\\n",
       "0            2.70          16.0        51.00      8          NaN  ...   \n",
       "1             NaN          11.0        18.60      1          NaN  ...   \n",
       "2             NaN           5.0        34.30      4          NaN  ...   \n",
       "3             NaN          14.0          NaN      9          NaN  ...   \n",
       "4            3.03          14.0        32.00     13          NaN  ...   \n",
       "5             NaN          12.0        14.40      5          NaN  ...   \n",
       "6             NaN          26.0        10.60      6          NaN  ...   \n",
       "7             NaN          24.0          NaN     22          NaN  ...   \n",
       "8             NaN          27.0        15.43     26          NaN  ...   \n",
       "9            2.50           9.0        43.60      7          NaN  ...   \n",
       "\n",
       "   kitchen_area  balcony              locality_name  airports_nearest  \\\n",
       "0         25.00      NaN            Санкт-Петербург           18863.0   \n",
       "1         11.00      2.0             посёлок Шушары           12817.0   \n",
       "2          8.30      0.0            Санкт-Петербург           21741.0   \n",
       "3           NaN      0.0            Санкт-Петербург           28098.0   \n",
       "4         41.00      NaN            Санкт-Петербург           31856.0   \n",
       "5          9.10      NaN  городской посёлок Янино-1               NaN   \n",
       "6         14.40      1.0          посёлок Парголово           52996.0   \n",
       "7         18.90      2.0            Санкт-Петербург           23982.0   \n",
       "8          8.81      NaN             посёлок Мурино               NaN   \n",
       "9          6.50      2.0            Санкт-Петербург           50898.0   \n",
       "\n",
       "  cityCenters_nearest  parks_around3000  parks_nearest  ponds_around3000  \\\n",
       "0             16028.0               1.0          482.0               2.0   \n",
       "1             18603.0               0.0            NaN               0.0   \n",
       "2             13933.0               1.0           90.0               2.0   \n",
       "3              6800.0               2.0           84.0               3.0   \n",
       "4              8098.0               2.0          112.0               1.0   \n",
       "5                 NaN               NaN            NaN               NaN   \n",
       "6             19143.0               0.0            NaN               0.0   \n",
       "7             11634.0               0.0            NaN               0.0   \n",
       "8                 NaN               NaN            NaN               NaN   \n",
       "9             15008.0               0.0            NaN               0.0   \n",
       "\n",
       "   ponds_nearest  days_exposition  \n",
       "0          755.0              NaN  \n",
       "1            NaN             81.0  \n",
       "2          574.0            558.0  \n",
       "3          234.0            424.0  \n",
       "4           48.0            121.0  \n",
       "5            NaN             55.0  \n",
       "6            NaN            155.0  \n",
       "7            NaN              NaN  \n",
       "8            NaN            189.0  \n",
       "9            NaN            289.0  \n",
       "\n",
       "[10 rows x 22 columns]"
      ]
     },
     "execution_count": 2,
     "metadata": {},
     "output_type": "execute_result"
    }
   ],
   "source": [
    "df = pd.read_csv('/datasets/real_estate_data.csv', sep = '\\t')\n",
    "df.head(10)"
   ]
  },
  {
   "cell_type": "markdown",
   "metadata": {},
   "source": [
    "## Предобработка данных"
   ]
  },
  {
   "cell_type": "markdown",
   "metadata": {},
   "source": [
    "Определим, какие значения датафрейма содержат пропуски и сколько их:"
   ]
  },
  {
   "cell_type": "code",
   "execution_count": 3,
   "metadata": {},
   "outputs": [
    {
     "data": {
      "text/plain": [
       "total_images                0\n",
       "last_price                  0\n",
       "total_area                  0\n",
       "first_day_exposition        0\n",
       "rooms                       0\n",
       "ceiling_height           9195\n",
       "floors_total               86\n",
       "living_area              1903\n",
       "floor                       0\n",
       "is_apartment            20924\n",
       "studio                      0\n",
       "open_plan                   0\n",
       "kitchen_area             2278\n",
       "balcony                 11519\n",
       "locality_name              49\n",
       "airports_nearest         5542\n",
       "cityCenters_nearest      5519\n",
       "parks_around3000         5518\n",
       "parks_nearest           15620\n",
       "ponds_around3000         5518\n",
       "ponds_nearest           14589\n",
       "days_exposition          3181\n",
       "dtype: int64"
      ]
     },
     "execution_count": 3,
     "metadata": {},
     "output_type": "execute_result"
    }
   ],
   "source": [
    "df.isna().sum()"
   ]
  },
  {
   "cell_type": "markdown",
   "metadata": {},
   "source": [
    "Из полученного списка с пропущенными значениями пропуски можно заменить в столбцах: `is_apartment`, `balcony`, `parks_around3000`, `ponds_around3000`. В столбце `is_apartment` указывается, является ли квартира апартаментами или нет - при отсутствии информации можно заменить на \"False\", в столбце `balcony` - количество балконов - при отсутствии информации можно заменить на \"0\", в столбцах `parks_around3000` и `ponds_around3000` - число парков и водоемов в радиусе 3 км - при отсутствии информации можно заменить на \"0\"."
   ]
  },
  {
   "cell_type": "code",
   "execution_count": 4,
   "metadata": {},
   "outputs": [],
   "source": [
    "df['is_apartment'] = df['is_apartment'].fillna(False)\n",
    "df['balcony'] = df['balcony'].fillna(0)\n",
    "df['parks_around3000'] = df['parks_around3000'].fillna(0)\n",
    "df['ponds_around3000'] = df['ponds_around3000'].fillna(0)"
   ]
  },
  {
   "cell_type": "markdown",
   "metadata": {},
   "source": [
    "С помощью `info()` проверим заполнение значений, а также их тип в данных столбцах:"
   ]
  },
  {
   "cell_type": "code",
   "execution_count": 5,
   "metadata": {
    "scrolled": false
   },
   "outputs": [
    {
     "name": "stdout",
     "output_type": "stream",
     "text": [
      "<class 'pandas.core.frame.DataFrame'>\n",
      "RangeIndex: 23699 entries, 0 to 23698\n",
      "Data columns (total 22 columns):\n",
      " #   Column                Non-Null Count  Dtype  \n",
      "---  ------                --------------  -----  \n",
      " 0   total_images          23699 non-null  int64  \n",
      " 1   last_price            23699 non-null  float64\n",
      " 2   total_area            23699 non-null  float64\n",
      " 3   first_day_exposition  23699 non-null  object \n",
      " 4   rooms                 23699 non-null  int64  \n",
      " 5   ceiling_height        14504 non-null  float64\n",
      " 6   floors_total          23613 non-null  float64\n",
      " 7   living_area           21796 non-null  float64\n",
      " 8   floor                 23699 non-null  int64  \n",
      " 9   is_apartment          23699 non-null  bool   \n",
      " 10  studio                23699 non-null  bool   \n",
      " 11  open_plan             23699 non-null  bool   \n",
      " 12  kitchen_area          21421 non-null  float64\n",
      " 13  balcony               23699 non-null  float64\n",
      " 14  locality_name         23650 non-null  object \n",
      " 15  airports_nearest      18157 non-null  float64\n",
      " 16  cityCenters_nearest   18180 non-null  float64\n",
      " 17  parks_around3000      23699 non-null  float64\n",
      " 18  parks_nearest         8079 non-null   float64\n",
      " 19  ponds_around3000      23699 non-null  float64\n",
      " 20  ponds_nearest         9110 non-null   float64\n",
      " 21  days_exposition       20518 non-null  float64\n",
      "dtypes: bool(3), float64(14), int64(3), object(2)\n",
      "memory usage: 3.5+ MB\n"
     ]
    }
   ],
   "source": [
    "df.info()"
   ]
  },
  {
   "cell_type": "markdown",
   "metadata": {},
   "source": [
    "Исходя из полученных данных, пропуски в данных столбцах были заменены. Однако можно заметить, что у них стоит тип `float`, что не совсем корректно. То же наблюдается и со столбцами `days_exposition`, `floors_total`  Заменим во всех вышеперечисленных столбцах тип данных на `int` и сделаем проверку:"
   ]
  },
  {
   "cell_type": "code",
   "execution_count": 6,
   "metadata": {},
   "outputs": [],
   "source": [
    "try:\n",
    "    for index in ['balcony', 'parks_around3000', 'ponds_around3000', 'days_exposition', 'floors_total']:\n",
    "        df[index] = df[index].astype('int')\n",
    "except:\n",
    "    errors = 'ignore'"
   ]
  },
  {
   "cell_type": "code",
   "execution_count": 7,
   "metadata": {
    "scrolled": false
   },
   "outputs": [
    {
     "data": {
      "text/plain": [
       "total_images              int64\n",
       "last_price              float64\n",
       "total_area              float64\n",
       "first_day_exposition     object\n",
       "rooms                     int64\n",
       "ceiling_height          float64\n",
       "floors_total            float64\n",
       "living_area             float64\n",
       "floor                     int64\n",
       "is_apartment               bool\n",
       "studio                     bool\n",
       "open_plan                  bool\n",
       "kitchen_area            float64\n",
       "balcony                   int64\n",
       "locality_name            object\n",
       "airports_nearest        float64\n",
       "cityCenters_nearest     float64\n",
       "parks_around3000          int64\n",
       "parks_nearest           float64\n",
       "ponds_around3000          int64\n",
       "ponds_nearest           float64\n",
       "days_exposition         float64\n",
       "dtype: object"
      ]
     },
     "execution_count": 7,
     "metadata": {},
     "output_type": "execute_result"
    }
   ],
   "source": [
    "df.dtypes"
   ]
  },
  {
   "cell_type": "markdown",
   "metadata": {},
   "source": [
    "Из полученных данных следует, что значения столбцов `days_exposition` и `floors_total` на `int` заменены не были. Вероятно, это следует из-за пропусков в самих данных. Однако для данных пропусков найти подходящую замену не представляется возможным."
   ]
  },
  {
   "cell_type": "markdown",
   "metadata": {},
   "source": [
    "Проверим полученные данные"
   ]
  },
  {
   "cell_type": "code",
   "execution_count": 8,
   "metadata": {
    "scrolled": false
   },
   "outputs": [
    {
     "name": "stdout",
     "output_type": "stream",
     "text": [
      "<class 'pandas.core.frame.DataFrame'>\n",
      "RangeIndex: 23699 entries, 0 to 23698\n",
      "Data columns (total 22 columns):\n",
      " #   Column                Non-Null Count  Dtype  \n",
      "---  ------                --------------  -----  \n",
      " 0   total_images          23699 non-null  int64  \n",
      " 1   last_price            23699 non-null  float64\n",
      " 2   total_area            23699 non-null  float64\n",
      " 3   first_day_exposition  23699 non-null  object \n",
      " 4   rooms                 23699 non-null  int64  \n",
      " 5   ceiling_height        14504 non-null  float64\n",
      " 6   floors_total          23613 non-null  float64\n",
      " 7   living_area           21796 non-null  float64\n",
      " 8   floor                 23699 non-null  int64  \n",
      " 9   is_apartment          23699 non-null  bool   \n",
      " 10  studio                23699 non-null  bool   \n",
      " 11  open_plan             23699 non-null  bool   \n",
      " 12  kitchen_area          21421 non-null  float64\n",
      " 13  balcony               23699 non-null  int64  \n",
      " 14  locality_name         23650 non-null  object \n",
      " 15  airports_nearest      18157 non-null  float64\n",
      " 16  cityCenters_nearest   18180 non-null  float64\n",
      " 17  parks_around3000      23699 non-null  int64  \n",
      " 18  parks_nearest         8079 non-null   float64\n",
      " 19  ponds_around3000      23699 non-null  int64  \n",
      " 20  ponds_nearest         9110 non-null   float64\n",
      " 21  days_exposition       20518 non-null  float64\n",
      "dtypes: bool(3), float64(11), int64(6), object(2)\n",
      "memory usage: 3.5+ MB\n"
     ]
    }
   ],
   "source": [
    "df.info()"
   ]
  },
  {
   "cell_type": "markdown",
   "metadata": {},
   "source": [
    "Все возможные пропуски были заменены, типы данных столбцов с некорректными значениями были заменены на верные, где это было возможно."
   ]
  },
  {
   "cell_type": "markdown",
   "metadata": {},
   "source": [
    "### Вывод"
   ]
  },
  {
   "cell_type": "markdown",
   "metadata": {},
   "source": [
    "Во время предобработки данных было обнаружено огромное количество пропусков. Наиболее вероятной причиной их появления - необязательность их указания, т.е. владельцы могли по желанию указывать эти данные или нет. Возможно данные не были однозначно определены. К примеру, столбец `parks_around3000` хранит информацию с количеством парков в радиусе 3 км. Вероятно, не было пункта с указанием \"отсутствуют\", поэтому владельцы могли просто пропустить этот пункт. В столбцах с подобной ситуацией пропуски можно было заменить на \"0\" или \"False\". Пропуски других в ситуациях, например, расстояние до ближайшего парка или аэропорта заменить нельзя. Вероятно, они возникась, если владельцы сознательно скрывали эту информацию или просто ей не располагали. В любом случае, подобные пропуски заменить мы не можем."
   ]
  },
  {
   "cell_type": "markdown",
   "metadata": {},
   "source": [
    "## Расчёты и добавление результатов в таблицу"
   ]
  },
  {
   "cell_type": "markdown",
   "metadata": {},
   "source": [
    "Добавим в таблицу столбец `price_square_meter` стоимость квадратного метра квартир. Для этого разделим стоимость квартиры на ее площадь. Эти данные хранятся в столбцах `last_price` и `living_area`:"
   ]
  },
  {
   "cell_type": "code",
   "execution_count": 9,
   "metadata": {},
   "outputs": [],
   "source": [
    "df['price_square_meter'] = df['last_price'] / df['living_area']"
   ]
  },
  {
   "cell_type": "markdown",
   "metadata": {},
   "source": [
    "Определим дату публикации, а также отдельно день, месяц и год:"
   ]
  },
  {
   "cell_type": "code",
   "execution_count": 10,
   "metadata": {},
   "outputs": [],
   "source": [
    "df['date_exposition'] = pd.to_datetime(df['first_day_exposition'], format = '%Y.%m.%dT%H:%M:%S')\n",
    "df['day_exposition'] = df['date_exposition'].dt.day\n",
    "df['month_exposition'] = df['date_exposition'].dt.month\n",
    "df['year_exposition'] = df['date_exposition'].dt.year"
   ]
  },
  {
   "cell_type": "markdown",
   "metadata": {},
   "source": [
    "Создадим столбец `name_floor`, в котором указано название этажа: первый, последний или другой:"
   ]
  },
  {
   "cell_type": "code",
   "execution_count": 11,
   "metadata": {},
   "outputs": [],
   "source": [
    "def floor_func(row):\n",
    "    \n",
    "    floor_number = row['floor']\n",
    "    floors_total = row['floors_total']\n",
    "    \n",
    "    if floor_number == 1:\n",
    "        return 'первый'\n",
    "    elif floor_number == floors_total:\n",
    "        return 'последний'\n",
    "    else:\n",
    "        return 'другой'\n",
    "    \n",
    "df['name_floor'] = df.apply(floor_func, axis = 1)"
   ]
  },
  {
   "cell_type": "markdown",
   "metadata": {},
   "source": [
    "Определим соотношение жилой и общей площади, а также отношение площади кухни к общей. Для этого создадим 2 столбца `part_living_area` и `part_kitchen_area`:"
   ]
  },
  {
   "cell_type": "code",
   "execution_count": 12,
   "metadata": {},
   "outputs": [],
   "source": [
    "df['part_living_area'] = df['living_area'] / df['total_area']\n",
    "df['part_kitchen_area'] = df['kitchen_area'] / df['total_area']"
   ]
  },
  {
   "cell_type": "markdown",
   "metadata": {},
   "source": [
    "Для проверки выведем на экран первые 10 строк:"
   ]
  },
  {
   "cell_type": "code",
   "execution_count": 13,
   "metadata": {},
   "outputs": [
    {
     "data": {
      "text/html": [
       "<div>\n",
       "<style scoped>\n",
       "    .dataframe tbody tr th:only-of-type {\n",
       "        vertical-align: middle;\n",
       "    }\n",
       "\n",
       "    .dataframe tbody tr th {\n",
       "        vertical-align: top;\n",
       "    }\n",
       "\n",
       "    .dataframe thead th {\n",
       "        text-align: right;\n",
       "    }\n",
       "</style>\n",
       "<table border=\"1\" class=\"dataframe\">\n",
       "  <thead>\n",
       "    <tr style=\"text-align: right;\">\n",
       "      <th></th>\n",
       "      <th>total_images</th>\n",
       "      <th>last_price</th>\n",
       "      <th>total_area</th>\n",
       "      <th>first_day_exposition</th>\n",
       "      <th>rooms</th>\n",
       "      <th>ceiling_height</th>\n",
       "      <th>floors_total</th>\n",
       "      <th>living_area</th>\n",
       "      <th>floor</th>\n",
       "      <th>is_apartment</th>\n",
       "      <th>...</th>\n",
       "      <th>ponds_nearest</th>\n",
       "      <th>days_exposition</th>\n",
       "      <th>price_square_meter</th>\n",
       "      <th>date_exposition</th>\n",
       "      <th>day_exposition</th>\n",
       "      <th>month_exposition</th>\n",
       "      <th>year_exposition</th>\n",
       "      <th>name_floor</th>\n",
       "      <th>part_living_area</th>\n",
       "      <th>part_kitchen_area</th>\n",
       "    </tr>\n",
       "  </thead>\n",
       "  <tbody>\n",
       "    <tr>\n",
       "      <th>0</th>\n",
       "      <td>20</td>\n",
       "      <td>13000000.0</td>\n",
       "      <td>108.00</td>\n",
       "      <td>2019-03-07T00:00:00</td>\n",
       "      <td>3</td>\n",
       "      <td>2.70</td>\n",
       "      <td>16.0</td>\n",
       "      <td>51.00</td>\n",
       "      <td>8</td>\n",
       "      <td>False</td>\n",
       "      <td>...</td>\n",
       "      <td>755.0</td>\n",
       "      <td>NaN</td>\n",
       "      <td>254901.960784</td>\n",
       "      <td>2019-03-07</td>\n",
       "      <td>7</td>\n",
       "      <td>3</td>\n",
       "      <td>2019</td>\n",
       "      <td>другой</td>\n",
       "      <td>0.472222</td>\n",
       "      <td>0.231481</td>\n",
       "    </tr>\n",
       "    <tr>\n",
       "      <th>1</th>\n",
       "      <td>7</td>\n",
       "      <td>3350000.0</td>\n",
       "      <td>40.40</td>\n",
       "      <td>2018-12-04T00:00:00</td>\n",
       "      <td>1</td>\n",
       "      <td>NaN</td>\n",
       "      <td>11.0</td>\n",
       "      <td>18.60</td>\n",
       "      <td>1</td>\n",
       "      <td>False</td>\n",
       "      <td>...</td>\n",
       "      <td>NaN</td>\n",
       "      <td>81.0</td>\n",
       "      <td>180107.526882</td>\n",
       "      <td>2018-12-04</td>\n",
       "      <td>4</td>\n",
       "      <td>12</td>\n",
       "      <td>2018</td>\n",
       "      <td>первый</td>\n",
       "      <td>0.460396</td>\n",
       "      <td>0.272277</td>\n",
       "    </tr>\n",
       "    <tr>\n",
       "      <th>2</th>\n",
       "      <td>10</td>\n",
       "      <td>5196000.0</td>\n",
       "      <td>56.00</td>\n",
       "      <td>2015-08-20T00:00:00</td>\n",
       "      <td>2</td>\n",
       "      <td>NaN</td>\n",
       "      <td>5.0</td>\n",
       "      <td>34.30</td>\n",
       "      <td>4</td>\n",
       "      <td>False</td>\n",
       "      <td>...</td>\n",
       "      <td>574.0</td>\n",
       "      <td>558.0</td>\n",
       "      <td>151486.880466</td>\n",
       "      <td>2015-08-20</td>\n",
       "      <td>20</td>\n",
       "      <td>8</td>\n",
       "      <td>2015</td>\n",
       "      <td>другой</td>\n",
       "      <td>0.612500</td>\n",
       "      <td>0.148214</td>\n",
       "    </tr>\n",
       "    <tr>\n",
       "      <th>3</th>\n",
       "      <td>0</td>\n",
       "      <td>64900000.0</td>\n",
       "      <td>159.00</td>\n",
       "      <td>2015-07-24T00:00:00</td>\n",
       "      <td>3</td>\n",
       "      <td>NaN</td>\n",
       "      <td>14.0</td>\n",
       "      <td>NaN</td>\n",
       "      <td>9</td>\n",
       "      <td>False</td>\n",
       "      <td>...</td>\n",
       "      <td>234.0</td>\n",
       "      <td>424.0</td>\n",
       "      <td>NaN</td>\n",
       "      <td>2015-07-24</td>\n",
       "      <td>24</td>\n",
       "      <td>7</td>\n",
       "      <td>2015</td>\n",
       "      <td>другой</td>\n",
       "      <td>NaN</td>\n",
       "      <td>NaN</td>\n",
       "    </tr>\n",
       "    <tr>\n",
       "      <th>4</th>\n",
       "      <td>2</td>\n",
       "      <td>10000000.0</td>\n",
       "      <td>100.00</td>\n",
       "      <td>2018-06-19T00:00:00</td>\n",
       "      <td>2</td>\n",
       "      <td>3.03</td>\n",
       "      <td>14.0</td>\n",
       "      <td>32.00</td>\n",
       "      <td>13</td>\n",
       "      <td>False</td>\n",
       "      <td>...</td>\n",
       "      <td>48.0</td>\n",
       "      <td>121.0</td>\n",
       "      <td>312500.000000</td>\n",
       "      <td>2018-06-19</td>\n",
       "      <td>19</td>\n",
       "      <td>6</td>\n",
       "      <td>2018</td>\n",
       "      <td>другой</td>\n",
       "      <td>0.320000</td>\n",
       "      <td>0.410000</td>\n",
       "    </tr>\n",
       "    <tr>\n",
       "      <th>5</th>\n",
       "      <td>10</td>\n",
       "      <td>2890000.0</td>\n",
       "      <td>30.40</td>\n",
       "      <td>2018-09-10T00:00:00</td>\n",
       "      <td>1</td>\n",
       "      <td>NaN</td>\n",
       "      <td>12.0</td>\n",
       "      <td>14.40</td>\n",
       "      <td>5</td>\n",
       "      <td>False</td>\n",
       "      <td>...</td>\n",
       "      <td>NaN</td>\n",
       "      <td>55.0</td>\n",
       "      <td>200694.444444</td>\n",
       "      <td>2018-09-10</td>\n",
       "      <td>10</td>\n",
       "      <td>9</td>\n",
       "      <td>2018</td>\n",
       "      <td>другой</td>\n",
       "      <td>0.473684</td>\n",
       "      <td>0.299342</td>\n",
       "    </tr>\n",
       "    <tr>\n",
       "      <th>6</th>\n",
       "      <td>6</td>\n",
       "      <td>3700000.0</td>\n",
       "      <td>37.30</td>\n",
       "      <td>2017-11-02T00:00:00</td>\n",
       "      <td>1</td>\n",
       "      <td>NaN</td>\n",
       "      <td>26.0</td>\n",
       "      <td>10.60</td>\n",
       "      <td>6</td>\n",
       "      <td>False</td>\n",
       "      <td>...</td>\n",
       "      <td>NaN</td>\n",
       "      <td>155.0</td>\n",
       "      <td>349056.603774</td>\n",
       "      <td>2017-11-02</td>\n",
       "      <td>2</td>\n",
       "      <td>11</td>\n",
       "      <td>2017</td>\n",
       "      <td>другой</td>\n",
       "      <td>0.284182</td>\n",
       "      <td>0.386059</td>\n",
       "    </tr>\n",
       "    <tr>\n",
       "      <th>7</th>\n",
       "      <td>5</td>\n",
       "      <td>7915000.0</td>\n",
       "      <td>71.60</td>\n",
       "      <td>2019-04-18T00:00:00</td>\n",
       "      <td>2</td>\n",
       "      <td>NaN</td>\n",
       "      <td>24.0</td>\n",
       "      <td>NaN</td>\n",
       "      <td>22</td>\n",
       "      <td>False</td>\n",
       "      <td>...</td>\n",
       "      <td>NaN</td>\n",
       "      <td>NaN</td>\n",
       "      <td>NaN</td>\n",
       "      <td>2019-04-18</td>\n",
       "      <td>18</td>\n",
       "      <td>4</td>\n",
       "      <td>2019</td>\n",
       "      <td>другой</td>\n",
       "      <td>NaN</td>\n",
       "      <td>0.263966</td>\n",
       "    </tr>\n",
       "    <tr>\n",
       "      <th>8</th>\n",
       "      <td>20</td>\n",
       "      <td>2900000.0</td>\n",
       "      <td>33.16</td>\n",
       "      <td>2018-05-23T00:00:00</td>\n",
       "      <td>1</td>\n",
       "      <td>NaN</td>\n",
       "      <td>27.0</td>\n",
       "      <td>15.43</td>\n",
       "      <td>26</td>\n",
       "      <td>False</td>\n",
       "      <td>...</td>\n",
       "      <td>NaN</td>\n",
       "      <td>189.0</td>\n",
       "      <td>187945.560596</td>\n",
       "      <td>2018-05-23</td>\n",
       "      <td>23</td>\n",
       "      <td>5</td>\n",
       "      <td>2018</td>\n",
       "      <td>другой</td>\n",
       "      <td>0.465320</td>\n",
       "      <td>0.265682</td>\n",
       "    </tr>\n",
       "    <tr>\n",
       "      <th>9</th>\n",
       "      <td>18</td>\n",
       "      <td>5400000.0</td>\n",
       "      <td>61.00</td>\n",
       "      <td>2017-02-26T00:00:00</td>\n",
       "      <td>3</td>\n",
       "      <td>2.50</td>\n",
       "      <td>9.0</td>\n",
       "      <td>43.60</td>\n",
       "      <td>7</td>\n",
       "      <td>False</td>\n",
       "      <td>...</td>\n",
       "      <td>NaN</td>\n",
       "      <td>289.0</td>\n",
       "      <td>123853.211009</td>\n",
       "      <td>2017-02-26</td>\n",
       "      <td>26</td>\n",
       "      <td>2</td>\n",
       "      <td>2017</td>\n",
       "      <td>другой</td>\n",
       "      <td>0.714754</td>\n",
       "      <td>0.106557</td>\n",
       "    </tr>\n",
       "  </tbody>\n",
       "</table>\n",
       "<p>10 rows × 30 columns</p>\n",
       "</div>"
      ],
      "text/plain": [
       "   total_images  last_price  total_area first_day_exposition  rooms  \\\n",
       "0            20  13000000.0      108.00  2019-03-07T00:00:00      3   \n",
       "1             7   3350000.0       40.40  2018-12-04T00:00:00      1   \n",
       "2            10   5196000.0       56.00  2015-08-20T00:00:00      2   \n",
       "3             0  64900000.0      159.00  2015-07-24T00:00:00      3   \n",
       "4             2  10000000.0      100.00  2018-06-19T00:00:00      2   \n",
       "5            10   2890000.0       30.40  2018-09-10T00:00:00      1   \n",
       "6             6   3700000.0       37.30  2017-11-02T00:00:00      1   \n",
       "7             5   7915000.0       71.60  2019-04-18T00:00:00      2   \n",
       "8            20   2900000.0       33.16  2018-05-23T00:00:00      1   \n",
       "9            18   5400000.0       61.00  2017-02-26T00:00:00      3   \n",
       "\n",
       "   ceiling_height  floors_total  living_area  floor  is_apartment  ...  \\\n",
       "0            2.70          16.0        51.00      8         False  ...   \n",
       "1             NaN          11.0        18.60      1         False  ...   \n",
       "2             NaN           5.0        34.30      4         False  ...   \n",
       "3             NaN          14.0          NaN      9         False  ...   \n",
       "4            3.03          14.0        32.00     13         False  ...   \n",
       "5             NaN          12.0        14.40      5         False  ...   \n",
       "6             NaN          26.0        10.60      6         False  ...   \n",
       "7             NaN          24.0          NaN     22         False  ...   \n",
       "8             NaN          27.0        15.43     26         False  ...   \n",
       "9            2.50           9.0        43.60      7         False  ...   \n",
       "\n",
       "   ponds_nearest  days_exposition  price_square_meter  date_exposition  \\\n",
       "0          755.0              NaN       254901.960784       2019-03-07   \n",
       "1            NaN             81.0       180107.526882       2018-12-04   \n",
       "2          574.0            558.0       151486.880466       2015-08-20   \n",
       "3          234.0            424.0                 NaN       2015-07-24   \n",
       "4           48.0            121.0       312500.000000       2018-06-19   \n",
       "5            NaN             55.0       200694.444444       2018-09-10   \n",
       "6            NaN            155.0       349056.603774       2017-11-02   \n",
       "7            NaN              NaN                 NaN       2019-04-18   \n",
       "8            NaN            189.0       187945.560596       2018-05-23   \n",
       "9            NaN            289.0       123853.211009       2017-02-26   \n",
       "\n",
       "  day_exposition  month_exposition  year_exposition  name_floor  \\\n",
       "0              7                 3             2019      другой   \n",
       "1              4                12             2018      первый   \n",
       "2             20                 8             2015      другой   \n",
       "3             24                 7             2015      другой   \n",
       "4             19                 6             2018      другой   \n",
       "5             10                 9             2018      другой   \n",
       "6              2                11             2017      другой   \n",
       "7             18                 4             2019      другой   \n",
       "8             23                 5             2018      другой   \n",
       "9             26                 2             2017      другой   \n",
       "\n",
       "   part_living_area  part_kitchen_area  \n",
       "0          0.472222           0.231481  \n",
       "1          0.460396           0.272277  \n",
       "2          0.612500           0.148214  \n",
       "3               NaN                NaN  \n",
       "4          0.320000           0.410000  \n",
       "5          0.473684           0.299342  \n",
       "6          0.284182           0.386059  \n",
       "7               NaN           0.263966  \n",
       "8          0.465320           0.265682  \n",
       "9          0.714754           0.106557  \n",
       "\n",
       "[10 rows x 30 columns]"
      ]
     },
     "execution_count": 13,
     "metadata": {},
     "output_type": "execute_result"
    }
   ],
   "source": [
    "df.head(10)"
   ]
  },
  {
   "cell_type": "markdown",
   "metadata": {},
   "source": [
    "Из полученного результата следует, что все столбцы добавились корректно. Однако в них тоже есть проуски, так как для их создания были использованы столбцы с пропусками. Особое внимание необходимо уделить столбцу `name_floor`, так как при отстствии информации он определяет этаж как \"другой\", что в дальнейшем может повлиять на корректность результатов."
   ]
  },
  {
   "cell_type": "markdown",
   "metadata": {},
   "source": [
    "## Исследовательский анализ данных"
   ]
  },
  {
   "cell_type": "markdown",
   "metadata": {},
   "source": [
    "### Исследование площади, цены, числа комнат и высоты потолков"
   ]
  },
  {
   "cell_type": "markdown",
   "metadata": {},
   "source": [
    "Построим гистограммы площади, цены, числа комнат и высоты потолков датафрейма:"
   ]
  },
  {
   "cell_type": "code",
   "execution_count": 14,
   "metadata": {
    "scrolled": false
   },
   "outputs": [
    {
     "data": {
      "text/plain": [
       "<AxesSubplot:>"
      ]
     },
     "execution_count": 14,
     "metadata": {},
     "output_type": "execute_result"
    },
    {
     "data": {
      "image/png": "[encoded data removed]",
      "text/plain": [
       "<Figure size 432x288 with 1 Axes>"
      ]
     },
     "metadata": {
      "needs_background": "light"
     },
     "output_type": "display_data"
    }
   ],
   "source": [
    "df['total_area'].hist(bins = 100)"
   ]
  },
  {
   "cell_type": "code",
   "execution_count": 15,
   "metadata": {},
   "outputs": [
    {
     "data": {
      "text/plain": [
       "<AxesSubplot:>"
      ]
     },
     "execution_count": 15,
     "metadata": {},
     "output_type": "execute_result"
    },
    {
     "data": {
      "image/png": "[encoded data removed]",
      "text/plain": [
       "<Figure size 432x288 with 1 Axes>"
      ]
     },
     "metadata": {
      "needs_background": "light"
     },
     "output_type": "display_data"
    }
   ],
   "source": [
    "df['last_price'].hist(bins = 100)"
   ]
  },
  {
   "cell_type": "code",
   "execution_count": 16,
   "metadata": {},
   "outputs": [
    {
     "data": {
      "text/plain": [
       "<AxesSubplot:>"
      ]
     },
     "execution_count": 16,
     "metadata": {},
     "output_type": "execute_result"
    },
    {
     "data": {
      "image/png": "[encoded data removed]",
      "text/plain": [
       "<Figure size 432x288 with 1 Axes>"
      ]
     },
     "metadata": {
      "needs_background": "light"
     },
     "output_type": "display_data"
    }
   ],
   "source": [
    "df['rooms'].hist(bins = 20)"
   ]
  },
  {
   "cell_type": "code",
   "execution_count": 17,
   "metadata": {
    "scrolled": true
   },
   "outputs": [
    {
     "data": {
      "text/plain": [
       "<AxesSubplot:>"
      ]
     },
     "execution_count": 17,
     "metadata": {},
     "output_type": "execute_result"
    },
    {
     "data": {
      "image/png": "[encoded data removed]",
      "text/plain": [
       "<Figure size 432x288 with 1 Axes>"
      ]
     },
     "metadata": {
      "needs_background": "light"
     },
     "output_type": "display_data"
    }
   ],
   "source": [
    "df['ceiling_height'].hist(bins = 100)"
   ]
  },
  {
   "cell_type": "markdown",
   "metadata": {},
   "source": [
    "На гистограммах отображено распределение Пуассона, что в целом является логичным. Первые три диаграммы отображают столбцы с отсутствующими пропусками. С настороженностью стоит относиться к последней, так как столбец `ceiling_height` имеет больше половины пропусков, что может привести к неверным результатам."
   ]
  },
  {
   "cell_type": "markdown",
   "metadata": {},
   "source": [
    "### Изучение время продажи квартиры"
   ]
  },
  {
   "cell_type": "markdown",
   "metadata": {},
   "source": [
    "Для начала определим, какую часть составляют пропущенные значения в столбце `days_exposition`:"
   ]
  },
  {
   "cell_type": "code",
   "execution_count": 18,
   "metadata": {},
   "outputs": [
    {
     "data": {
      "text/plain": [
       "0.15503460376254996"
      ]
     },
     "execution_count": 18,
     "metadata": {},
     "output_type": "execute_result"
    }
   ],
   "source": [
    "df['days_exposition'].isna().sum() / df['days_exposition'].count()"
   ]
  },
  {
   "cell_type": "markdown",
   "metadata": {},
   "source": [
    "Пропущенных значений - менее 16% - довольно много, однако некритично. Для дальнейшего исследования построим гистограмму и  диаграмму размаха:"
   ]
  },
  {
   "cell_type": "code",
   "execution_count": 19,
   "metadata": {},
   "outputs": [
    {
     "data": {
      "text/plain": [
       "<AxesSubplot:>"
      ]
     },
     "execution_count": 19,
     "metadata": {},
     "output_type": "execute_result"
    },
    {
     "data": {
      "image/png": "[encoded data removed]",
      "text/plain": [
       "<Figure size 432x288 with 1 Axes>"
      ]
     },
     "metadata": {
      "needs_background": "light"
     },
     "output_type": "display_data"
    }
   ],
   "source": [
    "df['days_exposition'].hist(bins = 100)"
   ]
  },
  {
   "cell_type": "code",
   "execution_count": 20,
   "metadata": {},
   "outputs": [
    {
     "data": {
      "text/plain": [
       "<AxesSubplot:>"
      ]
     },
     "execution_count": 20,
     "metadata": {},
     "output_type": "execute_result"
    },
    {
     "data": {
      "image/png": "[encoded data removed]",
      "text/plain": [
       "<Figure size 432x288 with 1 Axes>"
      ]
     },
     "metadata": {
      "needs_background": "light"
     },
     "output_type": "display_data"
    }
   ],
   "source": [
    "plt.ylim(-100, 1000)\n",
    "df.boxplot('days_exposition')"
   ]
  },
  {
   "cell_type": "code",
   "execution_count": 21,
   "metadata": {},
   "outputs": [
    {
     "data": {
      "text/plain": [
       "count    20518.000000\n",
       "mean       180.888634\n",
       "std        219.727988\n",
       "min          1.000000\n",
       "25%         45.000000\n",
       "50%         95.000000\n",
       "75%        232.000000\n",
       "max       1580.000000\n",
       "Name: days_exposition, dtype: float64"
      ]
     },
     "execution_count": 21,
     "metadata": {},
     "output_type": "execute_result"
    }
   ],
   "source": [
    "df['days_exposition'].describe()"
   ]
  },
  {
   "cell_type": "markdown",
   "metadata": {},
   "source": [
    "Из полученного разультата можно определить следующее: медианное значение - 95, средннее - 180.9, нормальные значения попадают в диапазон от 45 до 232. Довольно велико стандартное отклонение - в выборке присутствуют серьезные отклонения. "
   ]
  },
  {
   "cell_type": "markdown",
   "metadata": {},
   "source": [
    "Таким образом, можно сделать вывод, что обычное время продажи квартиры составляет от 45 до 232 дней. Быстрые продажи - от 1 до 44, необычно долгие - от 233 до 1580 дней. "
   ]
  },
  {
   "cell_type": "markdown",
   "metadata": {},
   "source": [
    "### Удаление редких и выбивающихся значений"
   ]
  },
  {
   "cell_type": "markdown",
   "metadata": {},
   "source": [
    "Создадим новый DataFrame, в котором будут удалены редкие и выбивающиеся значения из столбца `days_exposition`:"
   ]
  },
  {
   "cell_type": "code",
   "execution_count": 22,
   "metadata": {},
   "outputs": [
    {
     "data": {
      "text/html": [
       "<div>\n",
       "<style scoped>\n",
       "    .dataframe tbody tr th:only-of-type {\n",
       "        vertical-align: middle;\n",
       "    }\n",
       "\n",
       "    .dataframe tbody tr th {\n",
       "        vertical-align: top;\n",
       "    }\n",
       "\n",
       "    .dataframe thead th {\n",
       "        text-align: right;\n",
       "    }\n",
       "</style>\n",
       "<table border=\"1\" class=\"dataframe\">\n",
       "  <thead>\n",
       "    <tr style=\"text-align: right;\">\n",
       "      <th></th>\n",
       "      <th>total_images</th>\n",
       "      <th>last_price</th>\n",
       "      <th>total_area</th>\n",
       "      <th>first_day_exposition</th>\n",
       "      <th>rooms</th>\n",
       "      <th>ceiling_height</th>\n",
       "      <th>floors_total</th>\n",
       "      <th>living_area</th>\n",
       "      <th>floor</th>\n",
       "      <th>is_apartment</th>\n",
       "      <th>...</th>\n",
       "      <th>ponds_nearest</th>\n",
       "      <th>days_exposition</th>\n",
       "      <th>price_square_meter</th>\n",
       "      <th>date_exposition</th>\n",
       "      <th>day_exposition</th>\n",
       "      <th>month_exposition</th>\n",
       "      <th>year_exposition</th>\n",
       "      <th>name_floor</th>\n",
       "      <th>part_living_area</th>\n",
       "      <th>part_kitchen_area</th>\n",
       "    </tr>\n",
       "  </thead>\n",
       "  <tbody>\n",
       "    <tr>\n",
       "      <th>1</th>\n",
       "      <td>7</td>\n",
       "      <td>3350000.0</td>\n",
       "      <td>40.40</td>\n",
       "      <td>2018-12-04T00:00:00</td>\n",
       "      <td>1</td>\n",
       "      <td>NaN</td>\n",
       "      <td>11.0</td>\n",
       "      <td>18.60</td>\n",
       "      <td>1</td>\n",
       "      <td>False</td>\n",
       "      <td>...</td>\n",
       "      <td>NaN</td>\n",
       "      <td>81.0</td>\n",
       "      <td>180107.526882</td>\n",
       "      <td>2018-12-04</td>\n",
       "      <td>4</td>\n",
       "      <td>12</td>\n",
       "      <td>2018</td>\n",
       "      <td>первый</td>\n",
       "      <td>0.460396</td>\n",
       "      <td>0.272277</td>\n",
       "    </tr>\n",
       "    <tr>\n",
       "      <th>4</th>\n",
       "      <td>2</td>\n",
       "      <td>10000000.0</td>\n",
       "      <td>100.00</td>\n",
       "      <td>2018-06-19T00:00:00</td>\n",
       "      <td>2</td>\n",
       "      <td>3.03</td>\n",
       "      <td>14.0</td>\n",
       "      <td>32.00</td>\n",
       "      <td>13</td>\n",
       "      <td>False</td>\n",
       "      <td>...</td>\n",
       "      <td>48.0</td>\n",
       "      <td>121.0</td>\n",
       "      <td>312500.000000</td>\n",
       "      <td>2018-06-19</td>\n",
       "      <td>19</td>\n",
       "      <td>6</td>\n",
       "      <td>2018</td>\n",
       "      <td>другой</td>\n",
       "      <td>0.320000</td>\n",
       "      <td>0.410000</td>\n",
       "    </tr>\n",
       "    <tr>\n",
       "      <th>5</th>\n",
       "      <td>10</td>\n",
       "      <td>2890000.0</td>\n",
       "      <td>30.40</td>\n",
       "      <td>2018-09-10T00:00:00</td>\n",
       "      <td>1</td>\n",
       "      <td>NaN</td>\n",
       "      <td>12.0</td>\n",
       "      <td>14.40</td>\n",
       "      <td>5</td>\n",
       "      <td>False</td>\n",
       "      <td>...</td>\n",
       "      <td>NaN</td>\n",
       "      <td>55.0</td>\n",
       "      <td>200694.444444</td>\n",
       "      <td>2018-09-10</td>\n",
       "      <td>10</td>\n",
       "      <td>9</td>\n",
       "      <td>2018</td>\n",
       "      <td>другой</td>\n",
       "      <td>0.473684</td>\n",
       "      <td>0.299342</td>\n",
       "    </tr>\n",
       "    <tr>\n",
       "      <th>6</th>\n",
       "      <td>6</td>\n",
       "      <td>3700000.0</td>\n",
       "      <td>37.30</td>\n",
       "      <td>2017-11-02T00:00:00</td>\n",
       "      <td>1</td>\n",
       "      <td>NaN</td>\n",
       "      <td>26.0</td>\n",
       "      <td>10.60</td>\n",
       "      <td>6</td>\n",
       "      <td>False</td>\n",
       "      <td>...</td>\n",
       "      <td>NaN</td>\n",
       "      <td>155.0</td>\n",
       "      <td>349056.603774</td>\n",
       "      <td>2017-11-02</td>\n",
       "      <td>2</td>\n",
       "      <td>11</td>\n",
       "      <td>2017</td>\n",
       "      <td>другой</td>\n",
       "      <td>0.284182</td>\n",
       "      <td>0.386059</td>\n",
       "    </tr>\n",
       "    <tr>\n",
       "      <th>8</th>\n",
       "      <td>20</td>\n",
       "      <td>2900000.0</td>\n",
       "      <td>33.16</td>\n",
       "      <td>2018-05-23T00:00:00</td>\n",
       "      <td>1</td>\n",
       "      <td>NaN</td>\n",
       "      <td>27.0</td>\n",
       "      <td>15.43</td>\n",
       "      <td>26</td>\n",
       "      <td>False</td>\n",
       "      <td>...</td>\n",
       "      <td>NaN</td>\n",
       "      <td>189.0</td>\n",
       "      <td>187945.560596</td>\n",
       "      <td>2018-05-23</td>\n",
       "      <td>23</td>\n",
       "      <td>5</td>\n",
       "      <td>2018</td>\n",
       "      <td>другой</td>\n",
       "      <td>0.465320</td>\n",
       "      <td>0.265682</td>\n",
       "    </tr>\n",
       "    <tr>\n",
       "      <th>...</th>\n",
       "      <td>...</td>\n",
       "      <td>...</td>\n",
       "      <td>...</td>\n",
       "      <td>...</td>\n",
       "      <td>...</td>\n",
       "      <td>...</td>\n",
       "      <td>...</td>\n",
       "      <td>...</td>\n",
       "      <td>...</td>\n",
       "      <td>...</td>\n",
       "      <td>...</td>\n",
       "      <td>...</td>\n",
       "      <td>...</td>\n",
       "      <td>...</td>\n",
       "      <td>...</td>\n",
       "      <td>...</td>\n",
       "      <td>...</td>\n",
       "      <td>...</td>\n",
       "      <td>...</td>\n",
       "      <td>...</td>\n",
       "      <td>...</td>\n",
       "    </tr>\n",
       "    <tr>\n",
       "      <th>23676</th>\n",
       "      <td>19</td>\n",
       "      <td>3550000.0</td>\n",
       "      <td>36.40</td>\n",
       "      <td>2016-06-08T00:00:00</td>\n",
       "      <td>1</td>\n",
       "      <td>NaN</td>\n",
       "      <td>16.0</td>\n",
       "      <td>14.90</td>\n",
       "      <td>13</td>\n",
       "      <td>False</td>\n",
       "      <td>...</td>\n",
       "      <td>NaN</td>\n",
       "      <td>70.0</td>\n",
       "      <td>238255.033557</td>\n",
       "      <td>2016-06-08</td>\n",
       "      <td>8</td>\n",
       "      <td>6</td>\n",
       "      <td>2016</td>\n",
       "      <td>другой</td>\n",
       "      <td>0.409341</td>\n",
       "      <td>0.255495</td>\n",
       "    </tr>\n",
       "    <tr>\n",
       "      <th>23679</th>\n",
       "      <td>0</td>\n",
       "      <td>2500000.0</td>\n",
       "      <td>35.00</td>\n",
       "      <td>2017-12-08T00:00:00</td>\n",
       "      <td>1</td>\n",
       "      <td>NaN</td>\n",
       "      <td>9.0</td>\n",
       "      <td>NaN</td>\n",
       "      <td>4</td>\n",
       "      <td>False</td>\n",
       "      <td>...</td>\n",
       "      <td>NaN</td>\n",
       "      <td>45.0</td>\n",
       "      <td>NaN</td>\n",
       "      <td>2017-12-08</td>\n",
       "      <td>8</td>\n",
       "      <td>12</td>\n",
       "      <td>2017</td>\n",
       "      <td>другой</td>\n",
       "      <td>NaN</td>\n",
       "      <td>NaN</td>\n",
       "    </tr>\n",
       "    <tr>\n",
       "      <th>23681</th>\n",
       "      <td>13</td>\n",
       "      <td>5250000.0</td>\n",
       "      <td>43.00</td>\n",
       "      <td>2018-05-11T00:00:00</td>\n",
       "      <td>2</td>\n",
       "      <td>2.50</td>\n",
       "      <td>5.0</td>\n",
       "      <td>29.00</td>\n",
       "      <td>2</td>\n",
       "      <td>False</td>\n",
       "      <td>...</td>\n",
       "      <td>660.0</td>\n",
       "      <td>80.0</td>\n",
       "      <td>181034.482759</td>\n",
       "      <td>2018-05-11</td>\n",
       "      <td>11</td>\n",
       "      <td>5</td>\n",
       "      <td>2018</td>\n",
       "      <td>другой</td>\n",
       "      <td>0.674419</td>\n",
       "      <td>0.139535</td>\n",
       "    </tr>\n",
       "    <tr>\n",
       "      <th>23686</th>\n",
       "      <td>8</td>\n",
       "      <td>3300000.0</td>\n",
       "      <td>31.00</td>\n",
       "      <td>2017-04-29T00:00:00</td>\n",
       "      <td>1</td>\n",
       "      <td>2.55</td>\n",
       "      <td>9.0</td>\n",
       "      <td>18.00</td>\n",
       "      <td>6</td>\n",
       "      <td>False</td>\n",
       "      <td>...</td>\n",
       "      <td>317.0</td>\n",
       "      <td>193.0</td>\n",
       "      <td>183333.333333</td>\n",
       "      <td>2017-04-29</td>\n",
       "      <td>29</td>\n",
       "      <td>4</td>\n",
       "      <td>2017</td>\n",
       "      <td>другой</td>\n",
       "      <td>0.580645</td>\n",
       "      <td>0.209677</td>\n",
       "    </tr>\n",
       "    <tr>\n",
       "      <th>23695</th>\n",
       "      <td>14</td>\n",
       "      <td>3100000.0</td>\n",
       "      <td>59.00</td>\n",
       "      <td>2018-01-15T00:00:00</td>\n",
       "      <td>3</td>\n",
       "      <td>NaN</td>\n",
       "      <td>5.0</td>\n",
       "      <td>38.00</td>\n",
       "      <td>4</td>\n",
       "      <td>False</td>\n",
       "      <td>...</td>\n",
       "      <td>NaN</td>\n",
       "      <td>45.0</td>\n",
       "      <td>81578.947368</td>\n",
       "      <td>2018-01-15</td>\n",
       "      <td>15</td>\n",
       "      <td>1</td>\n",
       "      <td>2018</td>\n",
       "      <td>другой</td>\n",
       "      <td>0.644068</td>\n",
       "      <td>0.144068</td>\n",
       "    </tr>\n",
       "  </tbody>\n",
       "</table>\n",
       "<p>10324 rows × 30 columns</p>\n",
       "</div>"
      ],
      "text/plain": [
       "       total_images  last_price  total_area first_day_exposition  rooms  \\\n",
       "1                 7   3350000.0       40.40  2018-12-04T00:00:00      1   \n",
       "4                 2  10000000.0      100.00  2018-06-19T00:00:00      2   \n",
       "5                10   2890000.0       30.40  2018-09-10T00:00:00      1   \n",
       "6                 6   3700000.0       37.30  2017-11-02T00:00:00      1   \n",
       "8                20   2900000.0       33.16  2018-05-23T00:00:00      1   \n",
       "...             ...         ...         ...                  ...    ...   \n",
       "23676            19   3550000.0       36.40  2016-06-08T00:00:00      1   \n",
       "23679             0   2500000.0       35.00  2017-12-08T00:00:00      1   \n",
       "23681            13   5250000.0       43.00  2018-05-11T00:00:00      2   \n",
       "23686             8   3300000.0       31.00  2017-04-29T00:00:00      1   \n",
       "23695            14   3100000.0       59.00  2018-01-15T00:00:00      3   \n",
       "\n",
       "       ceiling_height  floors_total  living_area  floor  is_apartment  ...  \\\n",
       "1                 NaN          11.0        18.60      1         False  ...   \n",
       "4                3.03          14.0        32.00     13         False  ...   \n",
       "5                 NaN          12.0        14.40      5         False  ...   \n",
       "6                 NaN          26.0        10.60      6         False  ...   \n",
       "8                 NaN          27.0        15.43     26         False  ...   \n",
       "...               ...           ...          ...    ...           ...  ...   \n",
       "23676             NaN          16.0        14.90     13         False  ...   \n",
       "23679             NaN           9.0          NaN      4         False  ...   \n",
       "23681            2.50           5.0        29.00      2         False  ...   \n",
       "23686            2.55           9.0        18.00      6         False  ...   \n",
       "23695             NaN           5.0        38.00      4         False  ...   \n",
       "\n",
       "       ponds_nearest  days_exposition  price_square_meter  date_exposition  \\\n",
       "1                NaN             81.0       180107.526882       2018-12-04   \n",
       "4               48.0            121.0       312500.000000       2018-06-19   \n",
       "5                NaN             55.0       200694.444444       2018-09-10   \n",
       "6                NaN            155.0       349056.603774       2017-11-02   \n",
       "8                NaN            189.0       187945.560596       2018-05-23   \n",
       "...              ...              ...                 ...              ...   \n",
       "23676            NaN             70.0       238255.033557       2016-06-08   \n",
       "23679            NaN             45.0                 NaN       2017-12-08   \n",
       "23681          660.0             80.0       181034.482759       2018-05-11   \n",
       "23686          317.0            193.0       183333.333333       2017-04-29   \n",
       "23695            NaN             45.0        81578.947368       2018-01-15   \n",
       "\n",
       "      day_exposition  month_exposition  year_exposition  name_floor  \\\n",
       "1                  4                12             2018      первый   \n",
       "4                 19                 6             2018      другой   \n",
       "5                 10                 9             2018      другой   \n",
       "6                  2                11             2017      другой   \n",
       "8                 23                 5             2018      другой   \n",
       "...              ...               ...              ...         ...   \n",
       "23676              8                 6             2016      другой   \n",
       "23679              8                12             2017      другой   \n",
       "23681             11                 5             2018      другой   \n",
       "23686             29                 4             2017      другой   \n",
       "23695             15                 1             2018      другой   \n",
       "\n",
       "       part_living_area  part_kitchen_area  \n",
       "1              0.460396           0.272277  \n",
       "4              0.320000           0.410000  \n",
       "5              0.473684           0.299342  \n",
       "6              0.284182           0.386059  \n",
       "8              0.465320           0.265682  \n",
       "...                 ...                ...  \n",
       "23676          0.409341           0.255495  \n",
       "23679               NaN                NaN  \n",
       "23681          0.674419           0.139535  \n",
       "23686          0.580645           0.209677  \n",
       "23695          0.644068           0.144068  \n",
       "\n",
       "[10324 rows x 30 columns]"
      ]
     },
     "execution_count": 22,
     "metadata": {},
     "output_type": "execute_result"
    }
   ],
   "source": [
    "data_days_exposition = df.query('days_exposition >= 45 and days_exposition <= 232')\n",
    "data_days_exposition"
   ]
  },
  {
   "cell_type": "code",
   "execution_count": 23,
   "metadata": {},
   "outputs": [
    {
     "data": {
      "text/plain": [
       "0.5031679500926016"
      ]
     },
     "execution_count": 23,
     "metadata": {},
     "output_type": "execute_result"
    }
   ],
   "source": [
    "10324/ df['days_exposition'].count()"
   ]
  },
  {
   "cell_type": "markdown",
   "metadata": {},
   "source": [
    "Можно заметить, что значения, попадающие в нормальное распределение составляют примерно подловину от общего числа значений"
   ]
  },
  {
   "cell_type": "markdown",
   "metadata": {},
   "source": [
    "Удалим выбросы также в остальных столбцах с параметрами, влияющими на стоимость квартиры. Это столбцы: `last_price`, `total_area`, `rooms`, `ceiling_height`, `cityCenters_nearest`."
   ]
  },
  {
   "cell_type": "code",
   "execution_count": 24,
   "metadata": {
    "scrolled": true
   },
   "outputs": [
    {
     "data": {
      "text/plain": [
       "count    2.369900e+04\n",
       "mean     6.541549e+06\n",
       "std      1.088701e+07\n",
       "min      1.219000e+04\n",
       "25%      3.400000e+06\n",
       "50%      4.650000e+06\n",
       "75%      6.800000e+06\n",
       "max      7.630000e+08\n",
       "Name: last_price, dtype: float64"
      ]
     },
     "execution_count": 24,
     "metadata": {},
     "output_type": "execute_result"
    }
   ],
   "source": [
    "df['last_price'].describe()"
   ]
  },
  {
   "cell_type": "code",
   "execution_count": 25,
   "metadata": {},
   "outputs": [
    {
     "data": {
      "text/html": [
       "<div>\n",
       "<style scoped>\n",
       "    .dataframe tbody tr th:only-of-type {\n",
       "        vertical-align: middle;\n",
       "    }\n",
       "\n",
       "    .dataframe tbody tr th {\n",
       "        vertical-align: top;\n",
       "    }\n",
       "\n",
       "    .dataframe thead th {\n",
       "        text-align: right;\n",
       "    }\n",
       "</style>\n",
       "<table border=\"1\" class=\"dataframe\">\n",
       "  <thead>\n",
       "    <tr style=\"text-align: right;\">\n",
       "      <th></th>\n",
       "      <th>total_images</th>\n",
       "      <th>last_price</th>\n",
       "      <th>total_area</th>\n",
       "      <th>first_day_exposition</th>\n",
       "      <th>rooms</th>\n",
       "      <th>ceiling_height</th>\n",
       "      <th>floors_total</th>\n",
       "      <th>living_area</th>\n",
       "      <th>floor</th>\n",
       "      <th>is_apartment</th>\n",
       "      <th>...</th>\n",
       "      <th>ponds_nearest</th>\n",
       "      <th>days_exposition</th>\n",
       "      <th>price_square_meter</th>\n",
       "      <th>date_exposition</th>\n",
       "      <th>day_exposition</th>\n",
       "      <th>month_exposition</th>\n",
       "      <th>year_exposition</th>\n",
       "      <th>name_floor</th>\n",
       "      <th>part_living_area</th>\n",
       "      <th>part_kitchen_area</th>\n",
       "    </tr>\n",
       "  </thead>\n",
       "  <tbody>\n",
       "    <tr>\n",
       "      <th>2</th>\n",
       "      <td>10</td>\n",
       "      <td>5196000.0</td>\n",
       "      <td>56.0</td>\n",
       "      <td>2015-08-20T00:00:00</td>\n",
       "      <td>2</td>\n",
       "      <td>NaN</td>\n",
       "      <td>5.0</td>\n",
       "      <td>34.3</td>\n",
       "      <td>4</td>\n",
       "      <td>False</td>\n",
       "      <td>...</td>\n",
       "      <td>574.0</td>\n",
       "      <td>558.0</td>\n",
       "      <td>151486.880466</td>\n",
       "      <td>2015-08-20</td>\n",
       "      <td>20</td>\n",
       "      <td>8</td>\n",
       "      <td>2015</td>\n",
       "      <td>другой</td>\n",
       "      <td>0.612500</td>\n",
       "      <td>0.148214</td>\n",
       "    </tr>\n",
       "    <tr>\n",
       "      <th>6</th>\n",
       "      <td>6</td>\n",
       "      <td>3700000.0</td>\n",
       "      <td>37.3</td>\n",
       "      <td>2017-11-02T00:00:00</td>\n",
       "      <td>1</td>\n",
       "      <td>NaN</td>\n",
       "      <td>26.0</td>\n",
       "      <td>10.6</td>\n",
       "      <td>6</td>\n",
       "      <td>False</td>\n",
       "      <td>...</td>\n",
       "      <td>NaN</td>\n",
       "      <td>155.0</td>\n",
       "      <td>349056.603774</td>\n",
       "      <td>2017-11-02</td>\n",
       "      <td>2</td>\n",
       "      <td>11</td>\n",
       "      <td>2017</td>\n",
       "      <td>другой</td>\n",
       "      <td>0.284182</td>\n",
       "      <td>0.386059</td>\n",
       "    </tr>\n",
       "    <tr>\n",
       "      <th>9</th>\n",
       "      <td>18</td>\n",
       "      <td>5400000.0</td>\n",
       "      <td>61.0</td>\n",
       "      <td>2017-02-26T00:00:00</td>\n",
       "      <td>3</td>\n",
       "      <td>2.50</td>\n",
       "      <td>9.0</td>\n",
       "      <td>43.6</td>\n",
       "      <td>7</td>\n",
       "      <td>False</td>\n",
       "      <td>...</td>\n",
       "      <td>NaN</td>\n",
       "      <td>289.0</td>\n",
       "      <td>123853.211009</td>\n",
       "      <td>2017-02-26</td>\n",
       "      <td>26</td>\n",
       "      <td>2</td>\n",
       "      <td>2017</td>\n",
       "      <td>другой</td>\n",
       "      <td>0.714754</td>\n",
       "      <td>0.106557</td>\n",
       "    </tr>\n",
       "    <tr>\n",
       "      <th>10</th>\n",
       "      <td>5</td>\n",
       "      <td>5050000.0</td>\n",
       "      <td>39.6</td>\n",
       "      <td>2017-11-16T00:00:00</td>\n",
       "      <td>1</td>\n",
       "      <td>2.67</td>\n",
       "      <td>12.0</td>\n",
       "      <td>20.3</td>\n",
       "      <td>3</td>\n",
       "      <td>False</td>\n",
       "      <td>...</td>\n",
       "      <td>553.0</td>\n",
       "      <td>137.0</td>\n",
       "      <td>248768.472906</td>\n",
       "      <td>2017-11-16</td>\n",
       "      <td>16</td>\n",
       "      <td>11</td>\n",
       "      <td>2017</td>\n",
       "      <td>другой</td>\n",
       "      <td>0.512626</td>\n",
       "      <td>0.214646</td>\n",
       "    </tr>\n",
       "    <tr>\n",
       "      <th>12</th>\n",
       "      <td>10</td>\n",
       "      <td>3890000.0</td>\n",
       "      <td>54.0</td>\n",
       "      <td>2016-06-30T00:00:00</td>\n",
       "      <td>2</td>\n",
       "      <td>NaN</td>\n",
       "      <td>5.0</td>\n",
       "      <td>30.0</td>\n",
       "      <td>5</td>\n",
       "      <td>False</td>\n",
       "      <td>...</td>\n",
       "      <td>NaN</td>\n",
       "      <td>90.0</td>\n",
       "      <td>129666.666667</td>\n",
       "      <td>2016-06-30</td>\n",
       "      <td>30</td>\n",
       "      <td>6</td>\n",
       "      <td>2016</td>\n",
       "      <td>последний</td>\n",
       "      <td>0.555556</td>\n",
       "      <td>0.166667</td>\n",
       "    </tr>\n",
       "    <tr>\n",
       "      <th>...</th>\n",
       "      <td>...</td>\n",
       "      <td>...</td>\n",
       "      <td>...</td>\n",
       "      <td>...</td>\n",
       "      <td>...</td>\n",
       "      <td>...</td>\n",
       "      <td>...</td>\n",
       "      <td>...</td>\n",
       "      <td>...</td>\n",
       "      <td>...</td>\n",
       "      <td>...</td>\n",
       "      <td>...</td>\n",
       "      <td>...</td>\n",
       "      <td>...</td>\n",
       "      <td>...</td>\n",
       "      <td>...</td>\n",
       "      <td>...</td>\n",
       "      <td>...</td>\n",
       "      <td>...</td>\n",
       "      <td>...</td>\n",
       "      <td>...</td>\n",
       "    </tr>\n",
       "    <tr>\n",
       "      <th>23680</th>\n",
       "      <td>14</td>\n",
       "      <td>5000000.0</td>\n",
       "      <td>59.0</td>\n",
       "      <td>2019-04-04T00:00:00</td>\n",
       "      <td>3</td>\n",
       "      <td>2.50</td>\n",
       "      <td>5.0</td>\n",
       "      <td>52.0</td>\n",
       "      <td>1</td>\n",
       "      <td>False</td>\n",
       "      <td>...</td>\n",
       "      <td>NaN</td>\n",
       "      <td>NaN</td>\n",
       "      <td>96153.846154</td>\n",
       "      <td>2019-04-04</td>\n",
       "      <td>4</td>\n",
       "      <td>4</td>\n",
       "      <td>2019</td>\n",
       "      <td>первый</td>\n",
       "      <td>0.881356</td>\n",
       "      <td>0.118644</td>\n",
       "    </tr>\n",
       "    <tr>\n",
       "      <th>23681</th>\n",
       "      <td>13</td>\n",
       "      <td>5250000.0</td>\n",
       "      <td>43.0</td>\n",
       "      <td>2018-05-11T00:00:00</td>\n",
       "      <td>2</td>\n",
       "      <td>2.50</td>\n",
       "      <td>5.0</td>\n",
       "      <td>29.0</td>\n",
       "      <td>2</td>\n",
       "      <td>False</td>\n",
       "      <td>...</td>\n",
       "      <td>660.0</td>\n",
       "      <td>80.0</td>\n",
       "      <td>181034.482759</td>\n",
       "      <td>2018-05-11</td>\n",
       "      <td>11</td>\n",
       "      <td>5</td>\n",
       "      <td>2018</td>\n",
       "      <td>другой</td>\n",
       "      <td>0.674419</td>\n",
       "      <td>0.139535</td>\n",
       "    </tr>\n",
       "    <tr>\n",
       "      <th>23689</th>\n",
       "      <td>13</td>\n",
       "      <td>3550000.0</td>\n",
       "      <td>35.3</td>\n",
       "      <td>2018-02-28T00:00:00</td>\n",
       "      <td>1</td>\n",
       "      <td>2.86</td>\n",
       "      <td>15.0</td>\n",
       "      <td>16.3</td>\n",
       "      <td>4</td>\n",
       "      <td>False</td>\n",
       "      <td>...</td>\n",
       "      <td>652.0</td>\n",
       "      <td>29.0</td>\n",
       "      <td>217791.411043</td>\n",
       "      <td>2018-02-28</td>\n",
       "      <td>28</td>\n",
       "      <td>2</td>\n",
       "      <td>2018</td>\n",
       "      <td>другой</td>\n",
       "      <td>0.461756</td>\n",
       "      <td>0.257790</td>\n",
       "    </tr>\n",
       "    <tr>\n",
       "      <th>23690</th>\n",
       "      <td>3</td>\n",
       "      <td>5500000.0</td>\n",
       "      <td>52.0</td>\n",
       "      <td>2018-07-19T00:00:00</td>\n",
       "      <td>2</td>\n",
       "      <td>NaN</td>\n",
       "      <td>5.0</td>\n",
       "      <td>31.0</td>\n",
       "      <td>2</td>\n",
       "      <td>False</td>\n",
       "      <td>...</td>\n",
       "      <td>NaN</td>\n",
       "      <td>15.0</td>\n",
       "      <td>177419.354839</td>\n",
       "      <td>2018-07-19</td>\n",
       "      <td>19</td>\n",
       "      <td>7</td>\n",
       "      <td>2018</td>\n",
       "      <td>другой</td>\n",
       "      <td>0.596154</td>\n",
       "      <td>0.115385</td>\n",
       "    </tr>\n",
       "    <tr>\n",
       "      <th>23693</th>\n",
       "      <td>9</td>\n",
       "      <td>4600000.0</td>\n",
       "      <td>62.4</td>\n",
       "      <td>2016-08-05T00:00:00</td>\n",
       "      <td>3</td>\n",
       "      <td>2.60</td>\n",
       "      <td>9.0</td>\n",
       "      <td>40.0</td>\n",
       "      <td>8</td>\n",
       "      <td>False</td>\n",
       "      <td>...</td>\n",
       "      <td>675.0</td>\n",
       "      <td>239.0</td>\n",
       "      <td>115000.000000</td>\n",
       "      <td>2016-08-05</td>\n",
       "      <td>5</td>\n",
       "      <td>8</td>\n",
       "      <td>2016</td>\n",
       "      <td>другой</td>\n",
       "      <td>0.641026</td>\n",
       "      <td>0.128205</td>\n",
       "    </tr>\n",
       "  </tbody>\n",
       "</table>\n",
       "<p>12183 rows × 30 columns</p>\n",
       "</div>"
      ],
      "text/plain": [
       "       total_images  last_price  total_area first_day_exposition  rooms  \\\n",
       "2                10   5196000.0        56.0  2015-08-20T00:00:00      2   \n",
       "6                 6   3700000.0        37.3  2017-11-02T00:00:00      1   \n",
       "9                18   5400000.0        61.0  2017-02-26T00:00:00      3   \n",
       "10                5   5050000.0        39.6  2017-11-16T00:00:00      1   \n",
       "12               10   3890000.0        54.0  2016-06-30T00:00:00      2   \n",
       "...             ...         ...         ...                  ...    ...   \n",
       "23680            14   5000000.0        59.0  2019-04-04T00:00:00      3   \n",
       "23681            13   5250000.0        43.0  2018-05-11T00:00:00      2   \n",
       "23689            13   3550000.0        35.3  2018-02-28T00:00:00      1   \n",
       "23690             3   5500000.0        52.0  2018-07-19T00:00:00      2   \n",
       "23693             9   4600000.0        62.4  2016-08-05T00:00:00      3   \n",
       "\n",
       "       ceiling_height  floors_total  living_area  floor  is_apartment  ...  \\\n",
       "2                 NaN           5.0         34.3      4         False  ...   \n",
       "6                 NaN          26.0         10.6      6         False  ...   \n",
       "9                2.50           9.0         43.6      7         False  ...   \n",
       "10               2.67          12.0         20.3      3         False  ...   \n",
       "12                NaN           5.0         30.0      5         False  ...   \n",
       "...               ...           ...          ...    ...           ...  ...   \n",
       "23680            2.50           5.0         52.0      1         False  ...   \n",
       "23681            2.50           5.0         29.0      2         False  ...   \n",
       "23689            2.86          15.0         16.3      4         False  ...   \n",
       "23690             NaN           5.0         31.0      2         False  ...   \n",
       "23693            2.60           9.0         40.0      8         False  ...   \n",
       "\n",
       "       ponds_nearest  days_exposition  price_square_meter  date_exposition  \\\n",
       "2              574.0            558.0       151486.880466       2015-08-20   \n",
       "6                NaN            155.0       349056.603774       2017-11-02   \n",
       "9                NaN            289.0       123853.211009       2017-02-26   \n",
       "10             553.0            137.0       248768.472906       2017-11-16   \n",
       "12               NaN             90.0       129666.666667       2016-06-30   \n",
       "...              ...              ...                 ...              ...   \n",
       "23680            NaN              NaN        96153.846154       2019-04-04   \n",
       "23681          660.0             80.0       181034.482759       2018-05-11   \n",
       "23689          652.0             29.0       217791.411043       2018-02-28   \n",
       "23690            NaN             15.0       177419.354839       2018-07-19   \n",
       "23693          675.0            239.0       115000.000000       2016-08-05   \n",
       "\n",
       "      day_exposition  month_exposition  year_exposition  name_floor  \\\n",
       "2                 20                 8             2015      другой   \n",
       "6                  2                11             2017      другой   \n",
       "9                 26                 2             2017      другой   \n",
       "10                16                11             2017      другой   \n",
       "12                30                 6             2016   последний   \n",
       "...              ...               ...              ...         ...   \n",
       "23680              4                 4             2019      первый   \n",
       "23681             11                 5             2018      другой   \n",
       "23689             28                 2             2018      другой   \n",
       "23690             19                 7             2018      другой   \n",
       "23693              5                 8             2016      другой   \n",
       "\n",
       "       part_living_area  part_kitchen_area  \n",
       "2              0.612500           0.148214  \n",
       "6              0.284182           0.386059  \n",
       "9              0.714754           0.106557  \n",
       "10             0.512626           0.214646  \n",
       "12             0.555556           0.166667  \n",
       "...                 ...                ...  \n",
       "23680          0.881356           0.118644  \n",
       "23681          0.674419           0.139535  \n",
       "23689          0.461756           0.257790  \n",
       "23690          0.596154           0.115385  \n",
       "23693          0.641026           0.128205  \n",
       "\n",
       "[12183 rows x 30 columns]"
      ]
     },
     "execution_count": 25,
     "metadata": {},
     "output_type": "execute_result"
    }
   ],
   "source": [
    "data_last_price = df.query('last_price >= 3.4e6 and last_price <= 6.8e6')\n",
    "data_last_price"
   ]
  },
  {
   "cell_type": "code",
   "execution_count": 26,
   "metadata": {},
   "outputs": [
    {
     "data": {
      "text/plain": [
       "count    23699.000000\n",
       "mean        60.348651\n",
       "std         35.654083\n",
       "min         12.000000\n",
       "25%         40.000000\n",
       "50%         52.000000\n",
       "75%         69.900000\n",
       "max        900.000000\n",
       "Name: total_area, dtype: float64"
      ]
     },
     "execution_count": 26,
     "metadata": {},
     "output_type": "execute_result"
    }
   ],
   "source": [
    "df['total_area'].describe()"
   ]
  },
  {
   "cell_type": "code",
   "execution_count": 27,
   "metadata": {
    "scrolled": false
   },
   "outputs": [
    {
     "data": {
      "text/html": [
       "<div>\n",
       "<style scoped>\n",
       "    .dataframe tbody tr th:only-of-type {\n",
       "        vertical-align: middle;\n",
       "    }\n",
       "\n",
       "    .dataframe tbody tr th {\n",
       "        vertical-align: top;\n",
       "    }\n",
       "\n",
       "    .dataframe thead th {\n",
       "        text-align: right;\n",
       "    }\n",
       "</style>\n",
       "<table border=\"1\" class=\"dataframe\">\n",
       "  <thead>\n",
       "    <tr style=\"text-align: right;\">\n",
       "      <th></th>\n",
       "      <th>total_images</th>\n",
       "      <th>last_price</th>\n",
       "      <th>total_area</th>\n",
       "      <th>first_day_exposition</th>\n",
       "      <th>rooms</th>\n",
       "      <th>ceiling_height</th>\n",
       "      <th>floors_total</th>\n",
       "      <th>living_area</th>\n",
       "      <th>floor</th>\n",
       "      <th>is_apartment</th>\n",
       "      <th>...</th>\n",
       "      <th>ponds_nearest</th>\n",
       "      <th>days_exposition</th>\n",
       "      <th>price_square_meter</th>\n",
       "      <th>date_exposition</th>\n",
       "      <th>day_exposition</th>\n",
       "      <th>month_exposition</th>\n",
       "      <th>year_exposition</th>\n",
       "      <th>name_floor</th>\n",
       "      <th>part_living_area</th>\n",
       "      <th>part_kitchen_area</th>\n",
       "    </tr>\n",
       "  </thead>\n",
       "  <tbody>\n",
       "    <tr>\n",
       "      <th>1</th>\n",
       "      <td>7</td>\n",
       "      <td>3350000.0</td>\n",
       "      <td>40.4</td>\n",
       "      <td>2018-12-04T00:00:00</td>\n",
       "      <td>1</td>\n",
       "      <td>NaN</td>\n",
       "      <td>11.0</td>\n",
       "      <td>18.6</td>\n",
       "      <td>1</td>\n",
       "      <td>False</td>\n",
       "      <td>...</td>\n",
       "      <td>NaN</td>\n",
       "      <td>81.0</td>\n",
       "      <td>180107.526882</td>\n",
       "      <td>2018-12-04</td>\n",
       "      <td>4</td>\n",
       "      <td>12</td>\n",
       "      <td>2018</td>\n",
       "      <td>первый</td>\n",
       "      <td>0.460396</td>\n",
       "      <td>0.272277</td>\n",
       "    </tr>\n",
       "    <tr>\n",
       "      <th>2</th>\n",
       "      <td>10</td>\n",
       "      <td>5196000.0</td>\n",
       "      <td>56.0</td>\n",
       "      <td>2015-08-20T00:00:00</td>\n",
       "      <td>2</td>\n",
       "      <td>NaN</td>\n",
       "      <td>5.0</td>\n",
       "      <td>34.3</td>\n",
       "      <td>4</td>\n",
       "      <td>False</td>\n",
       "      <td>...</td>\n",
       "      <td>574.0</td>\n",
       "      <td>558.0</td>\n",
       "      <td>151486.880466</td>\n",
       "      <td>2015-08-20</td>\n",
       "      <td>20</td>\n",
       "      <td>8</td>\n",
       "      <td>2015</td>\n",
       "      <td>другой</td>\n",
       "      <td>0.612500</td>\n",
       "      <td>0.148214</td>\n",
       "    </tr>\n",
       "    <tr>\n",
       "      <th>9</th>\n",
       "      <td>18</td>\n",
       "      <td>5400000.0</td>\n",
       "      <td>61.0</td>\n",
       "      <td>2017-02-26T00:00:00</td>\n",
       "      <td>3</td>\n",
       "      <td>2.5</td>\n",
       "      <td>9.0</td>\n",
       "      <td>43.6</td>\n",
       "      <td>7</td>\n",
       "      <td>False</td>\n",
       "      <td>...</td>\n",
       "      <td>NaN</td>\n",
       "      <td>289.0</td>\n",
       "      <td>123853.211009</td>\n",
       "      <td>2017-02-26</td>\n",
       "      <td>26</td>\n",
       "      <td>2</td>\n",
       "      <td>2017</td>\n",
       "      <td>другой</td>\n",
       "      <td>0.714754</td>\n",
       "      <td>0.106557</td>\n",
       "    </tr>\n",
       "    <tr>\n",
       "      <th>11</th>\n",
       "      <td>9</td>\n",
       "      <td>3300000.0</td>\n",
       "      <td>44.0</td>\n",
       "      <td>2018-08-27T00:00:00</td>\n",
       "      <td>2</td>\n",
       "      <td>NaN</td>\n",
       "      <td>5.0</td>\n",
       "      <td>31.0</td>\n",
       "      <td>4</td>\n",
       "      <td>False</td>\n",
       "      <td>...</td>\n",
       "      <td>NaN</td>\n",
       "      <td>7.0</td>\n",
       "      <td>106451.612903</td>\n",
       "      <td>2018-08-27</td>\n",
       "      <td>27</td>\n",
       "      <td>8</td>\n",
       "      <td>2018</td>\n",
       "      <td>другой</td>\n",
       "      <td>0.704545</td>\n",
       "      <td>0.136364</td>\n",
       "    </tr>\n",
       "    <tr>\n",
       "      <th>12</th>\n",
       "      <td>10</td>\n",
       "      <td>3890000.0</td>\n",
       "      <td>54.0</td>\n",
       "      <td>2016-06-30T00:00:00</td>\n",
       "      <td>2</td>\n",
       "      <td>NaN</td>\n",
       "      <td>5.0</td>\n",
       "      <td>30.0</td>\n",
       "      <td>5</td>\n",
       "      <td>False</td>\n",
       "      <td>...</td>\n",
       "      <td>NaN</td>\n",
       "      <td>90.0</td>\n",
       "      <td>129666.666667</td>\n",
       "      <td>2016-06-30</td>\n",
       "      <td>30</td>\n",
       "      <td>6</td>\n",
       "      <td>2016</td>\n",
       "      <td>последний</td>\n",
       "      <td>0.555556</td>\n",
       "      <td>0.166667</td>\n",
       "    </tr>\n",
       "    <tr>\n",
       "      <th>...</th>\n",
       "      <td>...</td>\n",
       "      <td>...</td>\n",
       "      <td>...</td>\n",
       "      <td>...</td>\n",
       "      <td>...</td>\n",
       "      <td>...</td>\n",
       "      <td>...</td>\n",
       "      <td>...</td>\n",
       "      <td>...</td>\n",
       "      <td>...</td>\n",
       "      <td>...</td>\n",
       "      <td>...</td>\n",
       "      <td>...</td>\n",
       "      <td>...</td>\n",
       "      <td>...</td>\n",
       "      <td>...</td>\n",
       "      <td>...</td>\n",
       "      <td>...</td>\n",
       "      <td>...</td>\n",
       "      <td>...</td>\n",
       "      <td>...</td>\n",
       "    </tr>\n",
       "    <tr>\n",
       "      <th>23683</th>\n",
       "      <td>16</td>\n",
       "      <td>2100000.0</td>\n",
       "      <td>62.8</td>\n",
       "      <td>2018-09-18T00:00:00</td>\n",
       "      <td>4</td>\n",
       "      <td>2.5</td>\n",
       "      <td>5.0</td>\n",
       "      <td>45.5</td>\n",
       "      <td>3</td>\n",
       "      <td>False</td>\n",
       "      <td>...</td>\n",
       "      <td>NaN</td>\n",
       "      <td>NaN</td>\n",
       "      <td>46153.846154</td>\n",
       "      <td>2018-09-18</td>\n",
       "      <td>18</td>\n",
       "      <td>9</td>\n",
       "      <td>2018</td>\n",
       "      <td>другой</td>\n",
       "      <td>0.724522</td>\n",
       "      <td>0.087580</td>\n",
       "    </tr>\n",
       "    <tr>\n",
       "      <th>23690</th>\n",
       "      <td>3</td>\n",
       "      <td>5500000.0</td>\n",
       "      <td>52.0</td>\n",
       "      <td>2018-07-19T00:00:00</td>\n",
       "      <td>2</td>\n",
       "      <td>NaN</td>\n",
       "      <td>5.0</td>\n",
       "      <td>31.0</td>\n",
       "      <td>2</td>\n",
       "      <td>False</td>\n",
       "      <td>...</td>\n",
       "      <td>NaN</td>\n",
       "      <td>15.0</td>\n",
       "      <td>177419.354839</td>\n",
       "      <td>2018-07-19</td>\n",
       "      <td>19</td>\n",
       "      <td>7</td>\n",
       "      <td>2018</td>\n",
       "      <td>другой</td>\n",
       "      <td>0.596154</td>\n",
       "      <td>0.115385</td>\n",
       "    </tr>\n",
       "    <tr>\n",
       "      <th>23693</th>\n",
       "      <td>9</td>\n",
       "      <td>4600000.0</td>\n",
       "      <td>62.4</td>\n",
       "      <td>2016-08-05T00:00:00</td>\n",
       "      <td>3</td>\n",
       "      <td>2.6</td>\n",
       "      <td>9.0</td>\n",
       "      <td>40.0</td>\n",
       "      <td>8</td>\n",
       "      <td>False</td>\n",
       "      <td>...</td>\n",
       "      <td>675.0</td>\n",
       "      <td>239.0</td>\n",
       "      <td>115000.000000</td>\n",
       "      <td>2016-08-05</td>\n",
       "      <td>5</td>\n",
       "      <td>8</td>\n",
       "      <td>2016</td>\n",
       "      <td>другой</td>\n",
       "      <td>0.641026</td>\n",
       "      <td>0.128205</td>\n",
       "    </tr>\n",
       "    <tr>\n",
       "      <th>23695</th>\n",
       "      <td>14</td>\n",
       "      <td>3100000.0</td>\n",
       "      <td>59.0</td>\n",
       "      <td>2018-01-15T00:00:00</td>\n",
       "      <td>3</td>\n",
       "      <td>NaN</td>\n",
       "      <td>5.0</td>\n",
       "      <td>38.0</td>\n",
       "      <td>4</td>\n",
       "      <td>False</td>\n",
       "      <td>...</td>\n",
       "      <td>NaN</td>\n",
       "      <td>45.0</td>\n",
       "      <td>81578.947368</td>\n",
       "      <td>2018-01-15</td>\n",
       "      <td>15</td>\n",
       "      <td>1</td>\n",
       "      <td>2018</td>\n",
       "      <td>другой</td>\n",
       "      <td>0.644068</td>\n",
       "      <td>0.144068</td>\n",
       "    </tr>\n",
       "    <tr>\n",
       "      <th>23696</th>\n",
       "      <td>18</td>\n",
       "      <td>2500000.0</td>\n",
       "      <td>56.7</td>\n",
       "      <td>2018-02-11T00:00:00</td>\n",
       "      <td>2</td>\n",
       "      <td>NaN</td>\n",
       "      <td>3.0</td>\n",
       "      <td>29.7</td>\n",
       "      <td>1</td>\n",
       "      <td>False</td>\n",
       "      <td>...</td>\n",
       "      <td>NaN</td>\n",
       "      <td>NaN</td>\n",
       "      <td>84175.084175</td>\n",
       "      <td>2018-02-11</td>\n",
       "      <td>11</td>\n",
       "      <td>2</td>\n",
       "      <td>2018</td>\n",
       "      <td>первый</td>\n",
       "      <td>0.523810</td>\n",
       "      <td>NaN</td>\n",
       "    </tr>\n",
       "  </tbody>\n",
       "</table>\n",
       "<p>12051 rows × 30 columns</p>\n",
       "</div>"
      ],
      "text/plain": [
       "       total_images  last_price  total_area first_day_exposition  rooms  \\\n",
       "1                 7   3350000.0        40.4  2018-12-04T00:00:00      1   \n",
       "2                10   5196000.0        56.0  2015-08-20T00:00:00      2   \n",
       "9                18   5400000.0        61.0  2017-02-26T00:00:00      3   \n",
       "11                9   3300000.0        44.0  2018-08-27T00:00:00      2   \n",
       "12               10   3890000.0        54.0  2016-06-30T00:00:00      2   \n",
       "...             ...         ...         ...                  ...    ...   \n",
       "23683            16   2100000.0        62.8  2018-09-18T00:00:00      4   \n",
       "23690             3   5500000.0        52.0  2018-07-19T00:00:00      2   \n",
       "23693             9   4600000.0        62.4  2016-08-05T00:00:00      3   \n",
       "23695            14   3100000.0        59.0  2018-01-15T00:00:00      3   \n",
       "23696            18   2500000.0        56.7  2018-02-11T00:00:00      2   \n",
       "\n",
       "       ceiling_height  floors_total  living_area  floor  is_apartment  ...  \\\n",
       "1                 NaN          11.0         18.6      1         False  ...   \n",
       "2                 NaN           5.0         34.3      4         False  ...   \n",
       "9                 2.5           9.0         43.6      7         False  ...   \n",
       "11                NaN           5.0         31.0      4         False  ...   \n",
       "12                NaN           5.0         30.0      5         False  ...   \n",
       "...               ...           ...          ...    ...           ...  ...   \n",
       "23683             2.5           5.0         45.5      3         False  ...   \n",
       "23690             NaN           5.0         31.0      2         False  ...   \n",
       "23693             2.6           9.0         40.0      8         False  ...   \n",
       "23695             NaN           5.0         38.0      4         False  ...   \n",
       "23696             NaN           3.0         29.7      1         False  ...   \n",
       "\n",
       "       ponds_nearest  days_exposition  price_square_meter  date_exposition  \\\n",
       "1                NaN             81.0       180107.526882       2018-12-04   \n",
       "2              574.0            558.0       151486.880466       2015-08-20   \n",
       "9                NaN            289.0       123853.211009       2017-02-26   \n",
       "11               NaN              7.0       106451.612903       2018-08-27   \n",
       "12               NaN             90.0       129666.666667       2016-06-30   \n",
       "...              ...              ...                 ...              ...   \n",
       "23683            NaN              NaN        46153.846154       2018-09-18   \n",
       "23690            NaN             15.0       177419.354839       2018-07-19   \n",
       "23693          675.0            239.0       115000.000000       2016-08-05   \n",
       "23695            NaN             45.0        81578.947368       2018-01-15   \n",
       "23696            NaN              NaN        84175.084175       2018-02-11   \n",
       "\n",
       "      day_exposition  month_exposition  year_exposition  name_floor  \\\n",
       "1                  4                12             2018      первый   \n",
       "2                 20                 8             2015      другой   \n",
       "9                 26                 2             2017      другой   \n",
       "11                27                 8             2018      другой   \n",
       "12                30                 6             2016   последний   \n",
       "...              ...               ...              ...         ...   \n",
       "23683             18                 9             2018      другой   \n",
       "23690             19                 7             2018      другой   \n",
       "23693              5                 8             2016      другой   \n",
       "23695             15                 1             2018      другой   \n",
       "23696             11                 2             2018      первый   \n",
       "\n",
       "       part_living_area  part_kitchen_area  \n",
       "1              0.460396           0.272277  \n",
       "2              0.612500           0.148214  \n",
       "9              0.714754           0.106557  \n",
       "11             0.704545           0.136364  \n",
       "12             0.555556           0.166667  \n",
       "...                 ...                ...  \n",
       "23683          0.724522           0.087580  \n",
       "23690          0.596154           0.115385  \n",
       "23693          0.641026           0.128205  \n",
       "23695          0.644068           0.144068  \n",
       "23696          0.523810                NaN  \n",
       "\n",
       "[12051 rows x 30 columns]"
      ]
     },
     "execution_count": 27,
     "metadata": {},
     "output_type": "execute_result"
    }
   ],
   "source": [
    "data_total_area = df.query('total_area >= 40 and total_area <= 69.9')\n",
    "data_total_area"
   ]
  },
  {
   "cell_type": "code",
   "execution_count": 28,
   "metadata": {},
   "outputs": [
    {
     "data": {
      "text/plain": [
       "count    23699.000000\n",
       "mean         2.070636\n",
       "std          1.078405\n",
       "min          0.000000\n",
       "25%          1.000000\n",
       "50%          2.000000\n",
       "75%          3.000000\n",
       "max         19.000000\n",
       "Name: rooms, dtype: float64"
      ]
     },
     "execution_count": 28,
     "metadata": {},
     "output_type": "execute_result"
    }
   ],
   "source": [
    "df['rooms'].describe()"
   ]
  },
  {
   "cell_type": "code",
   "execution_count": 29,
   "metadata": {},
   "outputs": [
    {
     "data": {
      "text/html": [
       "<div>\n",
       "<style scoped>\n",
       "    .dataframe tbody tr th:only-of-type {\n",
       "        vertical-align: middle;\n",
       "    }\n",
       "\n",
       "    .dataframe tbody tr th {\n",
       "        vertical-align: top;\n",
       "    }\n",
       "\n",
       "    .dataframe thead th {\n",
       "        text-align: right;\n",
       "    }\n",
       "</style>\n",
       "<table border=\"1\" class=\"dataframe\">\n",
       "  <thead>\n",
       "    <tr style=\"text-align: right;\">\n",
       "      <th></th>\n",
       "      <th>total_images</th>\n",
       "      <th>last_price</th>\n",
       "      <th>total_area</th>\n",
       "      <th>first_day_exposition</th>\n",
       "      <th>rooms</th>\n",
       "      <th>ceiling_height</th>\n",
       "      <th>floors_total</th>\n",
       "      <th>living_area</th>\n",
       "      <th>floor</th>\n",
       "      <th>is_apartment</th>\n",
       "      <th>...</th>\n",
       "      <th>ponds_nearest</th>\n",
       "      <th>days_exposition</th>\n",
       "      <th>price_square_meter</th>\n",
       "      <th>date_exposition</th>\n",
       "      <th>day_exposition</th>\n",
       "      <th>month_exposition</th>\n",
       "      <th>year_exposition</th>\n",
       "      <th>name_floor</th>\n",
       "      <th>part_living_area</th>\n",
       "      <th>part_kitchen_area</th>\n",
       "    </tr>\n",
       "  </thead>\n",
       "  <tbody>\n",
       "    <tr>\n",
       "      <th>0</th>\n",
       "      <td>20</td>\n",
       "      <td>13000000.0</td>\n",
       "      <td>108.00</td>\n",
       "      <td>2019-03-07T00:00:00</td>\n",
       "      <td>3</td>\n",
       "      <td>2.70</td>\n",
       "      <td>16.0</td>\n",
       "      <td>51.0</td>\n",
       "      <td>8</td>\n",
       "      <td>False</td>\n",
       "      <td>...</td>\n",
       "      <td>755.0</td>\n",
       "      <td>NaN</td>\n",
       "      <td>254901.960784</td>\n",
       "      <td>2019-03-07</td>\n",
       "      <td>7</td>\n",
       "      <td>3</td>\n",
       "      <td>2019</td>\n",
       "      <td>другой</td>\n",
       "      <td>0.472222</td>\n",
       "      <td>0.231481</td>\n",
       "    </tr>\n",
       "    <tr>\n",
       "      <th>1</th>\n",
       "      <td>7</td>\n",
       "      <td>3350000.0</td>\n",
       "      <td>40.40</td>\n",
       "      <td>2018-12-04T00:00:00</td>\n",
       "      <td>1</td>\n",
       "      <td>NaN</td>\n",
       "      <td>11.0</td>\n",
       "      <td>18.6</td>\n",
       "      <td>1</td>\n",
       "      <td>False</td>\n",
       "      <td>...</td>\n",
       "      <td>NaN</td>\n",
       "      <td>81.0</td>\n",
       "      <td>180107.526882</td>\n",
       "      <td>2018-12-04</td>\n",
       "      <td>4</td>\n",
       "      <td>12</td>\n",
       "      <td>2018</td>\n",
       "      <td>первый</td>\n",
       "      <td>0.460396</td>\n",
       "      <td>0.272277</td>\n",
       "    </tr>\n",
       "    <tr>\n",
       "      <th>2</th>\n",
       "      <td>10</td>\n",
       "      <td>5196000.0</td>\n",
       "      <td>56.00</td>\n",
       "      <td>2015-08-20T00:00:00</td>\n",
       "      <td>2</td>\n",
       "      <td>NaN</td>\n",
       "      <td>5.0</td>\n",
       "      <td>34.3</td>\n",
       "      <td>4</td>\n",
       "      <td>False</td>\n",
       "      <td>...</td>\n",
       "      <td>574.0</td>\n",
       "      <td>558.0</td>\n",
       "      <td>151486.880466</td>\n",
       "      <td>2015-08-20</td>\n",
       "      <td>20</td>\n",
       "      <td>8</td>\n",
       "      <td>2015</td>\n",
       "      <td>другой</td>\n",
       "      <td>0.612500</td>\n",
       "      <td>0.148214</td>\n",
       "    </tr>\n",
       "    <tr>\n",
       "      <th>3</th>\n",
       "      <td>0</td>\n",
       "      <td>64900000.0</td>\n",
       "      <td>159.00</td>\n",
       "      <td>2015-07-24T00:00:00</td>\n",
       "      <td>3</td>\n",
       "      <td>NaN</td>\n",
       "      <td>14.0</td>\n",
       "      <td>NaN</td>\n",
       "      <td>9</td>\n",
       "      <td>False</td>\n",
       "      <td>...</td>\n",
       "      <td>234.0</td>\n",
       "      <td>424.0</td>\n",
       "      <td>NaN</td>\n",
       "      <td>2015-07-24</td>\n",
       "      <td>24</td>\n",
       "      <td>7</td>\n",
       "      <td>2015</td>\n",
       "      <td>другой</td>\n",
       "      <td>NaN</td>\n",
       "      <td>NaN</td>\n",
       "    </tr>\n",
       "    <tr>\n",
       "      <th>4</th>\n",
       "      <td>2</td>\n",
       "      <td>10000000.0</td>\n",
       "      <td>100.00</td>\n",
       "      <td>2018-06-19T00:00:00</td>\n",
       "      <td>2</td>\n",
       "      <td>3.03</td>\n",
       "      <td>14.0</td>\n",
       "      <td>32.0</td>\n",
       "      <td>13</td>\n",
       "      <td>False</td>\n",
       "      <td>...</td>\n",
       "      <td>48.0</td>\n",
       "      <td>121.0</td>\n",
       "      <td>312500.000000</td>\n",
       "      <td>2018-06-19</td>\n",
       "      <td>19</td>\n",
       "      <td>6</td>\n",
       "      <td>2018</td>\n",
       "      <td>другой</td>\n",
       "      <td>0.320000</td>\n",
       "      <td>0.410000</td>\n",
       "    </tr>\n",
       "    <tr>\n",
       "      <th>...</th>\n",
       "      <td>...</td>\n",
       "      <td>...</td>\n",
       "      <td>...</td>\n",
       "      <td>...</td>\n",
       "      <td>...</td>\n",
       "      <td>...</td>\n",
       "      <td>...</td>\n",
       "      <td>...</td>\n",
       "      <td>...</td>\n",
       "      <td>...</td>\n",
       "      <td>...</td>\n",
       "      <td>...</td>\n",
       "      <td>...</td>\n",
       "      <td>...</td>\n",
       "      <td>...</td>\n",
       "      <td>...</td>\n",
       "      <td>...</td>\n",
       "      <td>...</td>\n",
       "      <td>...</td>\n",
       "      <td>...</td>\n",
       "      <td>...</td>\n",
       "    </tr>\n",
       "    <tr>\n",
       "      <th>23694</th>\n",
       "      <td>9</td>\n",
       "      <td>9700000.0</td>\n",
       "      <td>133.81</td>\n",
       "      <td>2017-03-21T00:00:00</td>\n",
       "      <td>3</td>\n",
       "      <td>3.70</td>\n",
       "      <td>5.0</td>\n",
       "      <td>73.3</td>\n",
       "      <td>3</td>\n",
       "      <td>False</td>\n",
       "      <td>...</td>\n",
       "      <td>381.0</td>\n",
       "      <td>NaN</td>\n",
       "      <td>132332.878581</td>\n",
       "      <td>2017-03-21</td>\n",
       "      <td>21</td>\n",
       "      <td>3</td>\n",
       "      <td>2017</td>\n",
       "      <td>другой</td>\n",
       "      <td>0.547792</td>\n",
       "      <td>0.103356</td>\n",
       "    </tr>\n",
       "    <tr>\n",
       "      <th>23695</th>\n",
       "      <td>14</td>\n",
       "      <td>3100000.0</td>\n",
       "      <td>59.00</td>\n",
       "      <td>2018-01-15T00:00:00</td>\n",
       "      <td>3</td>\n",
       "      <td>NaN</td>\n",
       "      <td>5.0</td>\n",
       "      <td>38.0</td>\n",
       "      <td>4</td>\n",
       "      <td>False</td>\n",
       "      <td>...</td>\n",
       "      <td>NaN</td>\n",
       "      <td>45.0</td>\n",
       "      <td>81578.947368</td>\n",
       "      <td>2018-01-15</td>\n",
       "      <td>15</td>\n",
       "      <td>1</td>\n",
       "      <td>2018</td>\n",
       "      <td>другой</td>\n",
       "      <td>0.644068</td>\n",
       "      <td>0.144068</td>\n",
       "    </tr>\n",
       "    <tr>\n",
       "      <th>23696</th>\n",
       "      <td>18</td>\n",
       "      <td>2500000.0</td>\n",
       "      <td>56.70</td>\n",
       "      <td>2018-02-11T00:00:00</td>\n",
       "      <td>2</td>\n",
       "      <td>NaN</td>\n",
       "      <td>3.0</td>\n",
       "      <td>29.7</td>\n",
       "      <td>1</td>\n",
       "      <td>False</td>\n",
       "      <td>...</td>\n",
       "      <td>NaN</td>\n",
       "      <td>NaN</td>\n",
       "      <td>84175.084175</td>\n",
       "      <td>2018-02-11</td>\n",
       "      <td>11</td>\n",
       "      <td>2</td>\n",
       "      <td>2018</td>\n",
       "      <td>первый</td>\n",
       "      <td>0.523810</td>\n",
       "      <td>NaN</td>\n",
       "    </tr>\n",
       "    <tr>\n",
       "      <th>23697</th>\n",
       "      <td>13</td>\n",
       "      <td>11475000.0</td>\n",
       "      <td>76.75</td>\n",
       "      <td>2017-03-28T00:00:00</td>\n",
       "      <td>2</td>\n",
       "      <td>3.00</td>\n",
       "      <td>17.0</td>\n",
       "      <td>NaN</td>\n",
       "      <td>12</td>\n",
       "      <td>False</td>\n",
       "      <td>...</td>\n",
       "      <td>196.0</td>\n",
       "      <td>602.0</td>\n",
       "      <td>NaN</td>\n",
       "      <td>2017-03-28</td>\n",
       "      <td>28</td>\n",
       "      <td>3</td>\n",
       "      <td>2017</td>\n",
       "      <td>другой</td>\n",
       "      <td>NaN</td>\n",
       "      <td>0.303583</td>\n",
       "    </tr>\n",
       "    <tr>\n",
       "      <th>23698</th>\n",
       "      <td>4</td>\n",
       "      <td>1350000.0</td>\n",
       "      <td>32.30</td>\n",
       "      <td>2017-07-21T00:00:00</td>\n",
       "      <td>1</td>\n",
       "      <td>2.50</td>\n",
       "      <td>5.0</td>\n",
       "      <td>12.3</td>\n",
       "      <td>1</td>\n",
       "      <td>False</td>\n",
       "      <td>...</td>\n",
       "      <td>NaN</td>\n",
       "      <td>NaN</td>\n",
       "      <td>109756.097561</td>\n",
       "      <td>2017-07-21</td>\n",
       "      <td>21</td>\n",
       "      <td>7</td>\n",
       "      <td>2017</td>\n",
       "      <td>первый</td>\n",
       "      <td>0.380805</td>\n",
       "      <td>0.278638</td>\n",
       "    </tr>\n",
       "  </tbody>\n",
       "</table>\n",
       "<p>21801 rows × 30 columns</p>\n",
       "</div>"
      ],
      "text/plain": [
       "       total_images  last_price  total_area first_day_exposition  rooms  \\\n",
       "0                20  13000000.0      108.00  2019-03-07T00:00:00      3   \n",
       "1                 7   3350000.0       40.40  2018-12-04T00:00:00      1   \n",
       "2                10   5196000.0       56.00  2015-08-20T00:00:00      2   \n",
       "3                 0  64900000.0      159.00  2015-07-24T00:00:00      3   \n",
       "4                 2  10000000.0      100.00  2018-06-19T00:00:00      2   \n",
       "...             ...         ...         ...                  ...    ...   \n",
       "23694             9   9700000.0      133.81  2017-03-21T00:00:00      3   \n",
       "23695            14   3100000.0       59.00  2018-01-15T00:00:00      3   \n",
       "23696            18   2500000.0       56.70  2018-02-11T00:00:00      2   \n",
       "23697            13  11475000.0       76.75  2017-03-28T00:00:00      2   \n",
       "23698             4   1350000.0       32.30  2017-07-21T00:00:00      1   \n",
       "\n",
       "       ceiling_height  floors_total  living_area  floor  is_apartment  ...  \\\n",
       "0                2.70          16.0         51.0      8         False  ...   \n",
       "1                 NaN          11.0         18.6      1         False  ...   \n",
       "2                 NaN           5.0         34.3      4         False  ...   \n",
       "3                 NaN          14.0          NaN      9         False  ...   \n",
       "4                3.03          14.0         32.0     13         False  ...   \n",
       "...               ...           ...          ...    ...           ...  ...   \n",
       "23694            3.70           5.0         73.3      3         False  ...   \n",
       "23695             NaN           5.0         38.0      4         False  ...   \n",
       "23696             NaN           3.0         29.7      1         False  ...   \n",
       "23697            3.00          17.0          NaN     12         False  ...   \n",
       "23698            2.50           5.0         12.3      1         False  ...   \n",
       "\n",
       "       ponds_nearest  days_exposition  price_square_meter  date_exposition  \\\n",
       "0              755.0              NaN       254901.960784       2019-03-07   \n",
       "1                NaN             81.0       180107.526882       2018-12-04   \n",
       "2              574.0            558.0       151486.880466       2015-08-20   \n",
       "3              234.0            424.0                 NaN       2015-07-24   \n",
       "4               48.0            121.0       312500.000000       2018-06-19   \n",
       "...              ...              ...                 ...              ...   \n",
       "23694          381.0              NaN       132332.878581       2017-03-21   \n",
       "23695            NaN             45.0        81578.947368       2018-01-15   \n",
       "23696            NaN              NaN        84175.084175       2018-02-11   \n",
       "23697          196.0            602.0                 NaN       2017-03-28   \n",
       "23698            NaN              NaN       109756.097561       2017-07-21   \n",
       "\n",
       "      day_exposition  month_exposition  year_exposition  name_floor  \\\n",
       "0                  7                 3             2019      другой   \n",
       "1                  4                12             2018      первый   \n",
       "2                 20                 8             2015      другой   \n",
       "3                 24                 7             2015      другой   \n",
       "4                 19                 6             2018      другой   \n",
       "...              ...               ...              ...         ...   \n",
       "23694             21                 3             2017      другой   \n",
       "23695             15                 1             2018      другой   \n",
       "23696             11                 2             2018      первый   \n",
       "23697             28                 3             2017      другой   \n",
       "23698             21                 7             2017      первый   \n",
       "\n",
       "       part_living_area  part_kitchen_area  \n",
       "0              0.472222           0.231481  \n",
       "1              0.460396           0.272277  \n",
       "2              0.612500           0.148214  \n",
       "3                   NaN                NaN  \n",
       "4              0.320000           0.410000  \n",
       "...                 ...                ...  \n",
       "23694          0.547792           0.103356  \n",
       "23695          0.644068           0.144068  \n",
       "23696          0.523810                NaN  \n",
       "23697               NaN           0.303583  \n",
       "23698          0.380805           0.278638  \n",
       "\n",
       "[21801 rows x 30 columns]"
      ]
     },
     "execution_count": 29,
     "metadata": {},
     "output_type": "execute_result"
    }
   ],
   "source": [
    "data_rooms = df.query('rooms >= 1 and rooms <=3')\n",
    "data_rooms"
   ]
  },
  {
   "cell_type": "code",
   "execution_count": 30,
   "metadata": {},
   "outputs": [
    {
     "data": {
      "text/plain": [
       "count    14504.000000\n",
       "mean         2.771499\n",
       "std          1.261056\n",
       "min          1.000000\n",
       "25%          2.520000\n",
       "50%          2.650000\n",
       "75%          2.800000\n",
       "max        100.000000\n",
       "Name: ceiling_height, dtype: float64"
      ]
     },
     "execution_count": 30,
     "metadata": {},
     "output_type": "execute_result"
    }
   ],
   "source": [
    "df['ceiling_height'].describe()"
   ]
  },
  {
   "cell_type": "code",
   "execution_count": 31,
   "metadata": {
    "scrolled": false
   },
   "outputs": [
    {
     "data": {
      "text/html": [
       "<div>\n",
       "<style scoped>\n",
       "    .dataframe tbody tr th:only-of-type {\n",
       "        vertical-align: middle;\n",
       "    }\n",
       "\n",
       "    .dataframe tbody tr th {\n",
       "        vertical-align: top;\n",
       "    }\n",
       "\n",
       "    .dataframe thead th {\n",
       "        text-align: right;\n",
       "    }\n",
       "</style>\n",
       "<table border=\"1\" class=\"dataframe\">\n",
       "  <thead>\n",
       "    <tr style=\"text-align: right;\">\n",
       "      <th></th>\n",
       "      <th>total_images</th>\n",
       "      <th>last_price</th>\n",
       "      <th>total_area</th>\n",
       "      <th>first_day_exposition</th>\n",
       "      <th>rooms</th>\n",
       "      <th>ceiling_height</th>\n",
       "      <th>floors_total</th>\n",
       "      <th>living_area</th>\n",
       "      <th>floor</th>\n",
       "      <th>is_apartment</th>\n",
       "      <th>...</th>\n",
       "      <th>ponds_nearest</th>\n",
       "      <th>days_exposition</th>\n",
       "      <th>price_square_meter</th>\n",
       "      <th>date_exposition</th>\n",
       "      <th>day_exposition</th>\n",
       "      <th>month_exposition</th>\n",
       "      <th>year_exposition</th>\n",
       "      <th>name_floor</th>\n",
       "      <th>part_living_area</th>\n",
       "      <th>part_kitchen_area</th>\n",
       "    </tr>\n",
       "  </thead>\n",
       "  <tbody>\n",
       "    <tr>\n",
       "      <th>0</th>\n",
       "      <td>20</td>\n",
       "      <td>13000000.0</td>\n",
       "      <td>108.0</td>\n",
       "      <td>2019-03-07T00:00:00</td>\n",
       "      <td>3</td>\n",
       "      <td>2.70</td>\n",
       "      <td>16.0</td>\n",
       "      <td>51.0</td>\n",
       "      <td>8</td>\n",
       "      <td>False</td>\n",
       "      <td>...</td>\n",
       "      <td>755.0</td>\n",
       "      <td>NaN</td>\n",
       "      <td>254901.960784</td>\n",
       "      <td>2019-03-07</td>\n",
       "      <td>7</td>\n",
       "      <td>3</td>\n",
       "      <td>2019</td>\n",
       "      <td>другой</td>\n",
       "      <td>0.472222</td>\n",
       "      <td>0.231481</td>\n",
       "    </tr>\n",
       "    <tr>\n",
       "      <th>10</th>\n",
       "      <td>5</td>\n",
       "      <td>5050000.0</td>\n",
       "      <td>39.6</td>\n",
       "      <td>2017-11-16T00:00:00</td>\n",
       "      <td>1</td>\n",
       "      <td>2.67</td>\n",
       "      <td>12.0</td>\n",
       "      <td>20.3</td>\n",
       "      <td>3</td>\n",
       "      <td>False</td>\n",
       "      <td>...</td>\n",
       "      <td>553.0</td>\n",
       "      <td>137.0</td>\n",
       "      <td>248768.472906</td>\n",
       "      <td>2017-11-16</td>\n",
       "      <td>16</td>\n",
       "      <td>11</td>\n",
       "      <td>2017</td>\n",
       "      <td>другой</td>\n",
       "      <td>0.512626</td>\n",
       "      <td>0.214646</td>\n",
       "    </tr>\n",
       "    <tr>\n",
       "      <th>13</th>\n",
       "      <td>20</td>\n",
       "      <td>3550000.0</td>\n",
       "      <td>42.8</td>\n",
       "      <td>2017-07-01T00:00:00</td>\n",
       "      <td>2</td>\n",
       "      <td>2.56</td>\n",
       "      <td>5.0</td>\n",
       "      <td>27.0</td>\n",
       "      <td>5</td>\n",
       "      <td>False</td>\n",
       "      <td>...</td>\n",
       "      <td>298.0</td>\n",
       "      <td>366.0</td>\n",
       "      <td>131481.481481</td>\n",
       "      <td>2017-07-01</td>\n",
       "      <td>1</td>\n",
       "      <td>7</td>\n",
       "      <td>2017</td>\n",
       "      <td>последний</td>\n",
       "      <td>0.630841</td>\n",
       "      <td>0.121495</td>\n",
       "    </tr>\n",
       "    <tr>\n",
       "      <th>19</th>\n",
       "      <td>16</td>\n",
       "      <td>14200000.0</td>\n",
       "      <td>121.0</td>\n",
       "      <td>2019-01-09T00:00:00</td>\n",
       "      <td>3</td>\n",
       "      <td>2.75</td>\n",
       "      <td>16.0</td>\n",
       "      <td>76.0</td>\n",
       "      <td>8</td>\n",
       "      <td>False</td>\n",
       "      <td>...</td>\n",
       "      <td>NaN</td>\n",
       "      <td>97.0</td>\n",
       "      <td>186842.105263</td>\n",
       "      <td>2019-01-09</td>\n",
       "      <td>9</td>\n",
       "      <td>1</td>\n",
       "      <td>2019</td>\n",
       "      <td>другой</td>\n",
       "      <td>0.628099</td>\n",
       "      <td>0.099174</td>\n",
       "    </tr>\n",
       "    <tr>\n",
       "      <th>20</th>\n",
       "      <td>12</td>\n",
       "      <td>6120000.0</td>\n",
       "      <td>80.0</td>\n",
       "      <td>2017-09-28T00:00:00</td>\n",
       "      <td>3</td>\n",
       "      <td>2.70</td>\n",
       "      <td>27.0</td>\n",
       "      <td>48.0</td>\n",
       "      <td>11</td>\n",
       "      <td>False</td>\n",
       "      <td>...</td>\n",
       "      <td>NaN</td>\n",
       "      <td>74.0</td>\n",
       "      <td>127500.000000</td>\n",
       "      <td>2017-09-28</td>\n",
       "      <td>28</td>\n",
       "      <td>9</td>\n",
       "      <td>2017</td>\n",
       "      <td>другой</td>\n",
       "      <td>0.600000</td>\n",
       "      <td>0.150000</td>\n",
       "    </tr>\n",
       "    <tr>\n",
       "      <th>...</th>\n",
       "      <td>...</td>\n",
       "      <td>...</td>\n",
       "      <td>...</td>\n",
       "      <td>...</td>\n",
       "      <td>...</td>\n",
       "      <td>...</td>\n",
       "      <td>...</td>\n",
       "      <td>...</td>\n",
       "      <td>...</td>\n",
       "      <td>...</td>\n",
       "      <td>...</td>\n",
       "      <td>...</td>\n",
       "      <td>...</td>\n",
       "      <td>...</td>\n",
       "      <td>...</td>\n",
       "      <td>...</td>\n",
       "      <td>...</td>\n",
       "      <td>...</td>\n",
       "      <td>...</td>\n",
       "      <td>...</td>\n",
       "      <td>...</td>\n",
       "    </tr>\n",
       "    <tr>\n",
       "      <th>23673</th>\n",
       "      <td>9</td>\n",
       "      <td>3100000.0</td>\n",
       "      <td>23.0</td>\n",
       "      <td>2018-03-19T00:00:00</td>\n",
       "      <td>1</td>\n",
       "      <td>2.80</td>\n",
       "      <td>9.0</td>\n",
       "      <td>12.6</td>\n",
       "      <td>1</td>\n",
       "      <td>False</td>\n",
       "      <td>...</td>\n",
       "      <td>442.0</td>\n",
       "      <td>41.0</td>\n",
       "      <td>246031.746032</td>\n",
       "      <td>2018-03-19</td>\n",
       "      <td>19</td>\n",
       "      <td>3</td>\n",
       "      <td>2018</td>\n",
       "      <td>первый</td>\n",
       "      <td>0.547826</td>\n",
       "      <td>0.217391</td>\n",
       "    </tr>\n",
       "    <tr>\n",
       "      <th>23677</th>\n",
       "      <td>8</td>\n",
       "      <td>2450000.0</td>\n",
       "      <td>35.0</td>\n",
       "      <td>2018-10-26T00:00:00</td>\n",
       "      <td>1</td>\n",
       "      <td>2.60</td>\n",
       "      <td>5.0</td>\n",
       "      <td>18.0</td>\n",
       "      <td>4</td>\n",
       "      <td>False</td>\n",
       "      <td>...</td>\n",
       "      <td>NaN</td>\n",
       "      <td>28.0</td>\n",
       "      <td>136111.111111</td>\n",
       "      <td>2018-10-26</td>\n",
       "      <td>26</td>\n",
       "      <td>10</td>\n",
       "      <td>2018</td>\n",
       "      <td>другой</td>\n",
       "      <td>0.514286</td>\n",
       "      <td>0.274286</td>\n",
       "    </tr>\n",
       "    <tr>\n",
       "      <th>23686</th>\n",
       "      <td>8</td>\n",
       "      <td>3300000.0</td>\n",
       "      <td>31.0</td>\n",
       "      <td>2017-04-29T00:00:00</td>\n",
       "      <td>1</td>\n",
       "      <td>2.55</td>\n",
       "      <td>9.0</td>\n",
       "      <td>18.0</td>\n",
       "      <td>6</td>\n",
       "      <td>False</td>\n",
       "      <td>...</td>\n",
       "      <td>317.0</td>\n",
       "      <td>193.0</td>\n",
       "      <td>183333.333333</td>\n",
       "      <td>2017-04-29</td>\n",
       "      <td>29</td>\n",
       "      <td>4</td>\n",
       "      <td>2017</td>\n",
       "      <td>другой</td>\n",
       "      <td>0.580645</td>\n",
       "      <td>0.209677</td>\n",
       "    </tr>\n",
       "    <tr>\n",
       "      <th>23691</th>\n",
       "      <td>11</td>\n",
       "      <td>9470000.0</td>\n",
       "      <td>72.9</td>\n",
       "      <td>2016-10-13T00:00:00</td>\n",
       "      <td>2</td>\n",
       "      <td>2.75</td>\n",
       "      <td>25.0</td>\n",
       "      <td>40.3</td>\n",
       "      <td>7</td>\n",
       "      <td>False</td>\n",
       "      <td>...</td>\n",
       "      <td>806.0</td>\n",
       "      <td>519.0</td>\n",
       "      <td>234987.593052</td>\n",
       "      <td>2016-10-13</td>\n",
       "      <td>13</td>\n",
       "      <td>10</td>\n",
       "      <td>2016</td>\n",
       "      <td>другой</td>\n",
       "      <td>0.552812</td>\n",
       "      <td>0.145405</td>\n",
       "    </tr>\n",
       "    <tr>\n",
       "      <th>23693</th>\n",
       "      <td>9</td>\n",
       "      <td>4600000.0</td>\n",
       "      <td>62.4</td>\n",
       "      <td>2016-08-05T00:00:00</td>\n",
       "      <td>3</td>\n",
       "      <td>2.60</td>\n",
       "      <td>9.0</td>\n",
       "      <td>40.0</td>\n",
       "      <td>8</td>\n",
       "      <td>False</td>\n",
       "      <td>...</td>\n",
       "      <td>675.0</td>\n",
       "      <td>239.0</td>\n",
       "      <td>115000.000000</td>\n",
       "      <td>2016-08-05</td>\n",
       "      <td>5</td>\n",
       "      <td>8</td>\n",
       "      <td>2016</td>\n",
       "      <td>другой</td>\n",
       "      <td>0.641026</td>\n",
       "      <td>0.128205</td>\n",
       "    </tr>\n",
       "  </tbody>\n",
       "</table>\n",
       "<p>7807 rows × 30 columns</p>\n",
       "</div>"
      ],
      "text/plain": [
       "       total_images  last_price  total_area first_day_exposition  rooms  \\\n",
       "0                20  13000000.0       108.0  2019-03-07T00:00:00      3   \n",
       "10                5   5050000.0        39.6  2017-11-16T00:00:00      1   \n",
       "13               20   3550000.0        42.8  2017-07-01T00:00:00      2   \n",
       "19               16  14200000.0       121.0  2019-01-09T00:00:00      3   \n",
       "20               12   6120000.0        80.0  2017-09-28T00:00:00      3   \n",
       "...             ...         ...         ...                  ...    ...   \n",
       "23673             9   3100000.0        23.0  2018-03-19T00:00:00      1   \n",
       "23677             8   2450000.0        35.0  2018-10-26T00:00:00      1   \n",
       "23686             8   3300000.0        31.0  2017-04-29T00:00:00      1   \n",
       "23691            11   9470000.0        72.9  2016-10-13T00:00:00      2   \n",
       "23693             9   4600000.0        62.4  2016-08-05T00:00:00      3   \n",
       "\n",
       "       ceiling_height  floors_total  living_area  floor  is_apartment  ...  \\\n",
       "0                2.70          16.0         51.0      8         False  ...   \n",
       "10               2.67          12.0         20.3      3         False  ...   \n",
       "13               2.56           5.0         27.0      5         False  ...   \n",
       "19               2.75          16.0         76.0      8         False  ...   \n",
       "20               2.70          27.0         48.0     11         False  ...   \n",
       "...               ...           ...          ...    ...           ...  ...   \n",
       "23673            2.80           9.0         12.6      1         False  ...   \n",
       "23677            2.60           5.0         18.0      4         False  ...   \n",
       "23686            2.55           9.0         18.0      6         False  ...   \n",
       "23691            2.75          25.0         40.3      7         False  ...   \n",
       "23693            2.60           9.0         40.0      8         False  ...   \n",
       "\n",
       "       ponds_nearest  days_exposition  price_square_meter  date_exposition  \\\n",
       "0              755.0              NaN       254901.960784       2019-03-07   \n",
       "10             553.0            137.0       248768.472906       2017-11-16   \n",
       "13             298.0            366.0       131481.481481       2017-07-01   \n",
       "19               NaN             97.0       186842.105263       2019-01-09   \n",
       "20               NaN             74.0       127500.000000       2017-09-28   \n",
       "...              ...              ...                 ...              ...   \n",
       "23673          442.0             41.0       246031.746032       2018-03-19   \n",
       "23677            NaN             28.0       136111.111111       2018-10-26   \n",
       "23686          317.0            193.0       183333.333333       2017-04-29   \n",
       "23691          806.0            519.0       234987.593052       2016-10-13   \n",
       "23693          675.0            239.0       115000.000000       2016-08-05   \n",
       "\n",
       "      day_exposition  month_exposition  year_exposition  name_floor  \\\n",
       "0                  7                 3             2019      другой   \n",
       "10                16                11             2017      другой   \n",
       "13                 1                 7             2017   последний   \n",
       "19                 9                 1             2019      другой   \n",
       "20                28                 9             2017      другой   \n",
       "...              ...               ...              ...         ...   \n",
       "23673             19                 3             2018      первый   \n",
       "23677             26                10             2018      другой   \n",
       "23686             29                 4             2017      другой   \n",
       "23691             13                10             2016      другой   \n",
       "23693              5                 8             2016      другой   \n",
       "\n",
       "       part_living_area  part_kitchen_area  \n",
       "0              0.472222           0.231481  \n",
       "10             0.512626           0.214646  \n",
       "13             0.630841           0.121495  \n",
       "19             0.628099           0.099174  \n",
       "20             0.600000           0.150000  \n",
       "...                 ...                ...  \n",
       "23673          0.547826           0.217391  \n",
       "23677          0.514286           0.274286  \n",
       "23686          0.580645           0.209677  \n",
       "23691          0.552812           0.145405  \n",
       "23693          0.641026           0.128205  \n",
       "\n",
       "[7807 rows x 30 columns]"
      ]
     },
     "execution_count": 31,
     "metadata": {},
     "output_type": "execute_result"
    }
   ],
   "source": [
    "data_ceiling_height = df.query('ceiling_height >= 2.52 and ceiling_height <= 2.8')\n",
    "data_ceiling_height"
   ]
  },
  {
   "cell_type": "code",
   "execution_count": 32,
   "metadata": {},
   "outputs": [
    {
     "data": {
      "text/plain": [
       "count    18180.000000\n",
       "mean     14191.277833\n",
       "std       8608.386210\n",
       "min        181.000000\n",
       "25%       9238.000000\n",
       "50%      13098.500000\n",
       "75%      16293.000000\n",
       "max      65968.000000\n",
       "Name: cityCenters_nearest, dtype: float64"
      ]
     },
     "execution_count": 32,
     "metadata": {},
     "output_type": "execute_result"
    }
   ],
   "source": [
    "df['cityCenters_nearest'].describe()"
   ]
  },
  {
   "cell_type": "code",
   "execution_count": 33,
   "metadata": {},
   "outputs": [
    {
     "data": {
      "text/html": [
       "<div>\n",
       "<style scoped>\n",
       "    .dataframe tbody tr th:only-of-type {\n",
       "        vertical-align: middle;\n",
       "    }\n",
       "\n",
       "    .dataframe tbody tr th {\n",
       "        vertical-align: top;\n",
       "    }\n",
       "\n",
       "    .dataframe thead th {\n",
       "        text-align: right;\n",
       "    }\n",
       "</style>\n",
       "<table border=\"1\" class=\"dataframe\">\n",
       "  <thead>\n",
       "    <tr style=\"text-align: right;\">\n",
       "      <th></th>\n",
       "      <th>total_images</th>\n",
       "      <th>last_price</th>\n",
       "      <th>total_area</th>\n",
       "      <th>first_day_exposition</th>\n",
       "      <th>rooms</th>\n",
       "      <th>ceiling_height</th>\n",
       "      <th>floors_total</th>\n",
       "      <th>living_area</th>\n",
       "      <th>floor</th>\n",
       "      <th>is_apartment</th>\n",
       "      <th>...</th>\n",
       "      <th>ponds_nearest</th>\n",
       "      <th>days_exposition</th>\n",
       "      <th>price_square_meter</th>\n",
       "      <th>date_exposition</th>\n",
       "      <th>day_exposition</th>\n",
       "      <th>month_exposition</th>\n",
       "      <th>year_exposition</th>\n",
       "      <th>name_floor</th>\n",
       "      <th>part_living_area</th>\n",
       "      <th>part_kitchen_area</th>\n",
       "    </tr>\n",
       "  </thead>\n",
       "  <tbody>\n",
       "    <tr>\n",
       "      <th>0</th>\n",
       "      <td>20</td>\n",
       "      <td>13000000.0</td>\n",
       "      <td>108.00</td>\n",
       "      <td>2019-03-07T00:00:00</td>\n",
       "      <td>3</td>\n",
       "      <td>2.70</td>\n",
       "      <td>16.0</td>\n",
       "      <td>51.0</td>\n",
       "      <td>8</td>\n",
       "      <td>False</td>\n",
       "      <td>...</td>\n",
       "      <td>755.0</td>\n",
       "      <td>NaN</td>\n",
       "      <td>254901.960784</td>\n",
       "      <td>2019-03-07</td>\n",
       "      <td>7</td>\n",
       "      <td>3</td>\n",
       "      <td>2019</td>\n",
       "      <td>другой</td>\n",
       "      <td>0.472222</td>\n",
       "      <td>0.231481</td>\n",
       "    </tr>\n",
       "    <tr>\n",
       "      <th>2</th>\n",
       "      <td>10</td>\n",
       "      <td>5196000.0</td>\n",
       "      <td>56.00</td>\n",
       "      <td>2015-08-20T00:00:00</td>\n",
       "      <td>2</td>\n",
       "      <td>NaN</td>\n",
       "      <td>5.0</td>\n",
       "      <td>34.3</td>\n",
       "      <td>4</td>\n",
       "      <td>False</td>\n",
       "      <td>...</td>\n",
       "      <td>574.0</td>\n",
       "      <td>558.0</td>\n",
       "      <td>151486.880466</td>\n",
       "      <td>2015-08-20</td>\n",
       "      <td>20</td>\n",
       "      <td>8</td>\n",
       "      <td>2015</td>\n",
       "      <td>другой</td>\n",
       "      <td>0.612500</td>\n",
       "      <td>0.148214</td>\n",
       "    </tr>\n",
       "    <tr>\n",
       "      <th>7</th>\n",
       "      <td>5</td>\n",
       "      <td>7915000.0</td>\n",
       "      <td>71.60</td>\n",
       "      <td>2019-04-18T00:00:00</td>\n",
       "      <td>2</td>\n",
       "      <td>NaN</td>\n",
       "      <td>24.0</td>\n",
       "      <td>NaN</td>\n",
       "      <td>22</td>\n",
       "      <td>False</td>\n",
       "      <td>...</td>\n",
       "      <td>NaN</td>\n",
       "      <td>NaN</td>\n",
       "      <td>NaN</td>\n",
       "      <td>2019-04-18</td>\n",
       "      <td>18</td>\n",
       "      <td>4</td>\n",
       "      <td>2019</td>\n",
       "      <td>другой</td>\n",
       "      <td>NaN</td>\n",
       "      <td>0.263966</td>\n",
       "    </tr>\n",
       "    <tr>\n",
       "      <th>9</th>\n",
       "      <td>18</td>\n",
       "      <td>5400000.0</td>\n",
       "      <td>61.00</td>\n",
       "      <td>2017-02-26T00:00:00</td>\n",
       "      <td>3</td>\n",
       "      <td>2.50</td>\n",
       "      <td>9.0</td>\n",
       "      <td>43.6</td>\n",
       "      <td>7</td>\n",
       "      <td>False</td>\n",
       "      <td>...</td>\n",
       "      <td>NaN</td>\n",
       "      <td>289.0</td>\n",
       "      <td>123853.211009</td>\n",
       "      <td>2017-02-26</td>\n",
       "      <td>26</td>\n",
       "      <td>2</td>\n",
       "      <td>2017</td>\n",
       "      <td>другой</td>\n",
       "      <td>0.714754</td>\n",
       "      <td>0.106557</td>\n",
       "    </tr>\n",
       "    <tr>\n",
       "      <th>10</th>\n",
       "      <td>5</td>\n",
       "      <td>5050000.0</td>\n",
       "      <td>39.60</td>\n",
       "      <td>2017-11-16T00:00:00</td>\n",
       "      <td>1</td>\n",
       "      <td>2.67</td>\n",
       "      <td>12.0</td>\n",
       "      <td>20.3</td>\n",
       "      <td>3</td>\n",
       "      <td>False</td>\n",
       "      <td>...</td>\n",
       "      <td>553.0</td>\n",
       "      <td>137.0</td>\n",
       "      <td>248768.472906</td>\n",
       "      <td>2017-11-16</td>\n",
       "      <td>16</td>\n",
       "      <td>11</td>\n",
       "      <td>2017</td>\n",
       "      <td>другой</td>\n",
       "      <td>0.512626</td>\n",
       "      <td>0.214646</td>\n",
       "    </tr>\n",
       "    <tr>\n",
       "      <th>...</th>\n",
       "      <td>...</td>\n",
       "      <td>...</td>\n",
       "      <td>...</td>\n",
       "      <td>...</td>\n",
       "      <td>...</td>\n",
       "      <td>...</td>\n",
       "      <td>...</td>\n",
       "      <td>...</td>\n",
       "      <td>...</td>\n",
       "      <td>...</td>\n",
       "      <td>...</td>\n",
       "      <td>...</td>\n",
       "      <td>...</td>\n",
       "      <td>...</td>\n",
       "      <td>...</td>\n",
       "      <td>...</td>\n",
       "      <td>...</td>\n",
       "      <td>...</td>\n",
       "      <td>...</td>\n",
       "      <td>...</td>\n",
       "      <td>...</td>\n",
       "    </tr>\n",
       "    <tr>\n",
       "      <th>23684</th>\n",
       "      <td>20</td>\n",
       "      <td>21400000.0</td>\n",
       "      <td>145.00</td>\n",
       "      <td>2018-11-02T00:00:00</td>\n",
       "      <td>4</td>\n",
       "      <td>3.00</td>\n",
       "      <td>26.0</td>\n",
       "      <td>71.4</td>\n",
       "      <td>17</td>\n",
       "      <td>False</td>\n",
       "      <td>...</td>\n",
       "      <td>NaN</td>\n",
       "      <td>NaN</td>\n",
       "      <td>299719.887955</td>\n",
       "      <td>2018-11-02</td>\n",
       "      <td>2</td>\n",
       "      <td>11</td>\n",
       "      <td>2018</td>\n",
       "      <td>другой</td>\n",
       "      <td>0.492414</td>\n",
       "      <td>0.107586</td>\n",
       "    </tr>\n",
       "    <tr>\n",
       "      <th>23686</th>\n",
       "      <td>8</td>\n",
       "      <td>3300000.0</td>\n",
       "      <td>31.00</td>\n",
       "      <td>2017-04-29T00:00:00</td>\n",
       "      <td>1</td>\n",
       "      <td>2.55</td>\n",
       "      <td>9.0</td>\n",
       "      <td>18.0</td>\n",
       "      <td>6</td>\n",
       "      <td>False</td>\n",
       "      <td>...</td>\n",
       "      <td>317.0</td>\n",
       "      <td>193.0</td>\n",
       "      <td>183333.333333</td>\n",
       "      <td>2017-04-29</td>\n",
       "      <td>29</td>\n",
       "      <td>4</td>\n",
       "      <td>2017</td>\n",
       "      <td>другой</td>\n",
       "      <td>0.580645</td>\n",
       "      <td>0.209677</td>\n",
       "    </tr>\n",
       "    <tr>\n",
       "      <th>23688</th>\n",
       "      <td>19</td>\n",
       "      <td>9200000.0</td>\n",
       "      <td>101.00</td>\n",
       "      <td>2019-04-01T00:00:00</td>\n",
       "      <td>3</td>\n",
       "      <td>3.05</td>\n",
       "      <td>15.0</td>\n",
       "      <td>63.0</td>\n",
       "      <td>12</td>\n",
       "      <td>False</td>\n",
       "      <td>...</td>\n",
       "      <td>NaN</td>\n",
       "      <td>23.0</td>\n",
       "      <td>146031.746032</td>\n",
       "      <td>2019-04-01</td>\n",
       "      <td>1</td>\n",
       "      <td>4</td>\n",
       "      <td>2019</td>\n",
       "      <td>другой</td>\n",
       "      <td>0.623762</td>\n",
       "      <td>0.148515</td>\n",
       "    </tr>\n",
       "    <tr>\n",
       "      <th>23689</th>\n",
       "      <td>13</td>\n",
       "      <td>3550000.0</td>\n",
       "      <td>35.30</td>\n",
       "      <td>2018-02-28T00:00:00</td>\n",
       "      <td>1</td>\n",
       "      <td>2.86</td>\n",
       "      <td>15.0</td>\n",
       "      <td>16.3</td>\n",
       "      <td>4</td>\n",
       "      <td>False</td>\n",
       "      <td>...</td>\n",
       "      <td>652.0</td>\n",
       "      <td>29.0</td>\n",
       "      <td>217791.411043</td>\n",
       "      <td>2018-02-28</td>\n",
       "      <td>28</td>\n",
       "      <td>2</td>\n",
       "      <td>2018</td>\n",
       "      <td>другой</td>\n",
       "      <td>0.461756</td>\n",
       "      <td>0.257790</td>\n",
       "    </tr>\n",
       "    <tr>\n",
       "      <th>23697</th>\n",
       "      <td>13</td>\n",
       "      <td>11475000.0</td>\n",
       "      <td>76.75</td>\n",
       "      <td>2017-03-28T00:00:00</td>\n",
       "      <td>2</td>\n",
       "      <td>3.00</td>\n",
       "      <td>17.0</td>\n",
       "      <td>NaN</td>\n",
       "      <td>12</td>\n",
       "      <td>False</td>\n",
       "      <td>...</td>\n",
       "      <td>196.0</td>\n",
       "      <td>602.0</td>\n",
       "      <td>NaN</td>\n",
       "      <td>2017-03-28</td>\n",
       "      <td>28</td>\n",
       "      <td>3</td>\n",
       "      <td>2017</td>\n",
       "      <td>другой</td>\n",
       "      <td>NaN</td>\n",
       "      <td>0.303583</td>\n",
       "    </tr>\n",
       "  </tbody>\n",
       "</table>\n",
       "<p>9094 rows × 30 columns</p>\n",
       "</div>"
      ],
      "text/plain": [
       "       total_images  last_price  total_area first_day_exposition  rooms  \\\n",
       "0                20  13000000.0      108.00  2019-03-07T00:00:00      3   \n",
       "2                10   5196000.0       56.00  2015-08-20T00:00:00      2   \n",
       "7                 5   7915000.0       71.60  2019-04-18T00:00:00      2   \n",
       "9                18   5400000.0       61.00  2017-02-26T00:00:00      3   \n",
       "10                5   5050000.0       39.60  2017-11-16T00:00:00      1   \n",
       "...             ...         ...         ...                  ...    ...   \n",
       "23684            20  21400000.0      145.00  2018-11-02T00:00:00      4   \n",
       "23686             8   3300000.0       31.00  2017-04-29T00:00:00      1   \n",
       "23688            19   9200000.0      101.00  2019-04-01T00:00:00      3   \n",
       "23689            13   3550000.0       35.30  2018-02-28T00:00:00      1   \n",
       "23697            13  11475000.0       76.75  2017-03-28T00:00:00      2   \n",
       "\n",
       "       ceiling_height  floors_total  living_area  floor  is_apartment  ...  \\\n",
       "0                2.70          16.0         51.0      8         False  ...   \n",
       "2                 NaN           5.0         34.3      4         False  ...   \n",
       "7                 NaN          24.0          NaN     22         False  ...   \n",
       "9                2.50           9.0         43.6      7         False  ...   \n",
       "10               2.67          12.0         20.3      3         False  ...   \n",
       "...               ...           ...          ...    ...           ...  ...   \n",
       "23684            3.00          26.0         71.4     17         False  ...   \n",
       "23686            2.55           9.0         18.0      6         False  ...   \n",
       "23688            3.05          15.0         63.0     12         False  ...   \n",
       "23689            2.86          15.0         16.3      4         False  ...   \n",
       "23697            3.00          17.0          NaN     12         False  ...   \n",
       "\n",
       "       ponds_nearest  days_exposition  price_square_meter  date_exposition  \\\n",
       "0              755.0              NaN       254901.960784       2019-03-07   \n",
       "2              574.0            558.0       151486.880466       2015-08-20   \n",
       "7                NaN              NaN                 NaN       2019-04-18   \n",
       "9                NaN            289.0       123853.211009       2017-02-26   \n",
       "10             553.0            137.0       248768.472906       2017-11-16   \n",
       "...              ...              ...                 ...              ...   \n",
       "23684            NaN              NaN       299719.887955       2018-11-02   \n",
       "23686          317.0            193.0       183333.333333       2017-04-29   \n",
       "23688            NaN             23.0       146031.746032       2019-04-01   \n",
       "23689          652.0             29.0       217791.411043       2018-02-28   \n",
       "23697          196.0            602.0                 NaN       2017-03-28   \n",
       "\n",
       "      day_exposition  month_exposition  year_exposition  name_floor  \\\n",
       "0                  7                 3             2019      другой   \n",
       "2                 20                 8             2015      другой   \n",
       "7                 18                 4             2019      другой   \n",
       "9                 26                 2             2017      другой   \n",
       "10                16                11             2017      другой   \n",
       "...              ...               ...              ...         ...   \n",
       "23684              2                11             2018      другой   \n",
       "23686             29                 4             2017      другой   \n",
       "23688              1                 4             2019      другой   \n",
       "23689             28                 2             2018      другой   \n",
       "23697             28                 3             2017      другой   \n",
       "\n",
       "       part_living_area  part_kitchen_area  \n",
       "0              0.472222           0.231481  \n",
       "2              0.612500           0.148214  \n",
       "7                   NaN           0.263966  \n",
       "9              0.714754           0.106557  \n",
       "10             0.512626           0.214646  \n",
       "...                 ...                ...  \n",
       "23684          0.492414           0.107586  \n",
       "23686          0.580645           0.209677  \n",
       "23688          0.623762           0.148515  \n",
       "23689          0.461756           0.257790  \n",
       "23697               NaN           0.303583  \n",
       "\n",
       "[9094 rows x 30 columns]"
      ]
     },
     "execution_count": 33,
     "metadata": {},
     "output_type": "execute_result"
    }
   ],
   "source": [
    "data_cityCenters_nearest = df.query('cityCenters_nearest >= 9238 and cityCenters_nearest <= 16293')\n",
    "data_cityCenters_nearest"
   ]
  },
  {
   "cell_type": "markdown",
   "metadata": {},
   "source": [
    "### Изучение факторов, больше всего влияющих на стоимость квартиры"
   ]
  },
  {
   "cell_type": "markdown",
   "metadata": {},
   "source": [
    "Определим, зависит ли цена от площади, числа комнат, высоты потолков, удалённости от центра. Построим диаграммы рассеивания для этих параметров:"
   ]
  },
  {
   "cell_type": "code",
   "execution_count": 34,
   "metadata": {},
   "outputs": [
    {
     "data": {
      "text/plain": [
       "0.393960875203245"
      ]
     },
     "execution_count": 34,
     "metadata": {},
     "output_type": "execute_result"
    }
   ],
   "source": [
    "data_days_exposition['last_price'].corr(data_days_exposition['rooms'])"
   ]
  },
  {
   "cell_type": "code",
   "execution_count": 35,
   "metadata": {},
   "outputs": [
    {
     "data": {
      "text/plain": [
       "0.7418185190845866"
      ]
     },
     "execution_count": 35,
     "metadata": {},
     "output_type": "execute_result"
    }
   ],
   "source": [
    "data_days_exposition['last_price'].corr(data_days_exposition['total_area'])"
   ]
  },
  {
   "cell_type": "code",
   "execution_count": 36,
   "metadata": {},
   "outputs": [
    {
     "data": {
      "text/plain": [
       "0.09985030855963961"
      ]
     },
     "execution_count": 36,
     "metadata": {},
     "output_type": "execute_result"
    }
   ],
   "source": [
    "data_days_exposition['last_price'].corr(data_days_exposition['ceiling_height'])"
   ]
  },
  {
   "cell_type": "code",
   "execution_count": 37,
   "metadata": {},
   "outputs": [
    {
     "data": {
      "text/plain": [
       "-0.20797266917675297"
      ]
     },
     "execution_count": 37,
     "metadata": {},
     "output_type": "execute_result"
    }
   ],
   "source": [
    "data_days_exposition['last_price'].corr(data_days_exposition['cityCenters_nearest'])"
   ]
  },
  {
   "cell_type": "markdown",
   "metadata": {},
   "source": [
    "Из полученных результатов следует, что в значительной степени стоимость квартиры зависит от ее площади."
   ]
  },
  {
   "cell_type": "markdown",
   "metadata": {},
   "source": [
    "Изучим зависимость цены от того, на каком этаже расположена квартира: первом, последнем или другом:"
   ]
  },
  {
   "cell_type": "code",
   "execution_count": 38,
   "metadata": {
    "scrolled": true
   },
   "outputs": [
    {
     "data": {
      "text/plain": [
       "<AxesSubplot:xlabel='name_floor', ylabel='last_price'>"
      ]
     },
     "execution_count": 38,
     "metadata": {},
     "output_type": "execute_result"
    },
    {
     "data": {
      "image/png": "[encoded data removed]",
      "text/plain": [
       "<Figure size 432x288 with 1 Axes>"
      ]
     },
     "metadata": {
      "needs_background": "light"
     },
     "output_type": "display_data"
    }
   ],
   "source": [
    "data_days_exposition.plot(x = 'name_floor', y = 'last_price', kind = 'scatter', alpha = 0.5)"
   ]
  },
  {
   "cell_type": "markdown",
   "metadata": {},
   "source": [
    "Из диаграммы следует, что цены квартир на первом этаже гораздо ниже, чем на других. Цены на последнем этаже и на \"других\" немного различаются - на \"других\" цены выше."
   ]
  },
  {
   "cell_type": "markdown",
   "metadata": {},
   "source": [
    "Изучим зависимость от даты размещения: дня недели, месяца и года:"
   ]
  },
  {
   "cell_type": "code",
   "execution_count": 39,
   "metadata": {},
   "outputs": [
    {
     "data": {
      "text/plain": [
       "array([[<AxesSubplot:xlabel='last_price', ylabel='last_price'>,\n",
       "        <AxesSubplot:xlabel='day_exposition', ylabel='last_price'>,\n",
       "        <AxesSubplot:xlabel='month_exposition', ylabel='last_price'>,\n",
       "        <AxesSubplot:xlabel='year_exposition', ylabel='last_price'>],\n",
       "       [<AxesSubplot:xlabel='last_price', ylabel='day_exposition'>,\n",
       "        <AxesSubplot:xlabel='day_exposition', ylabel='day_exposition'>,\n",
       "        <AxesSubplot:xlabel='month_exposition', ylabel='day_exposition'>,\n",
       "        <AxesSubplot:xlabel='year_exposition', ylabel='day_exposition'>],\n",
       "       [<AxesSubplot:xlabel='last_price', ylabel='month_exposition'>,\n",
       "        <AxesSubplot:xlabel='day_exposition', ylabel='month_exposition'>,\n",
       "        <AxesSubplot:xlabel='month_exposition', ylabel='month_exposition'>,\n",
       "        <AxesSubplot:xlabel='year_exposition', ylabel='month_exposition'>],\n",
       "       [<AxesSubplot:xlabel='last_price', ylabel='year_exposition'>,\n",
       "        <AxesSubplot:xlabel='day_exposition', ylabel='year_exposition'>,\n",
       "        <AxesSubplot:xlabel='month_exposition', ylabel='year_exposition'>,\n",
       "        <AxesSubplot:xlabel='year_exposition', ylabel='year_exposition'>]],\n",
       "      dtype=object)"
      ]
     },
     "execution_count": 39,
     "metadata": {},
     "output_type": "execute_result"
    },
    {
     "data": {
      "image/png": "[encoded data removed]",
      "text/plain": [
       "<Figure size 864x864 with 16 Axes>"
      ]
     },
     "metadata": {
      "needs_background": "light"
     },
     "output_type": "display_data"
    }
   ],
   "source": [
    "df_date = data_days_exposition[['last_price', 'day_exposition', 'month_exposition', 'year_exposition']]\n",
    "pd.plotting.scatter_matrix(df_date, figsize = (12, 12))"
   ]
  },
  {
   "cell_type": "markdown",
   "metadata": {},
   "source": [
    "Из полученных графиков можно заметить, что явной зависимость между ценой на квартиру и днем и месяцем даты размещения нет. Однако можно заметить, что есть изменение в стоимости квартир по годам:"
   ]
  },
  {
   "cell_type": "code",
   "execution_count": 40,
   "metadata": {
    "scrolled": false
   },
   "outputs": [
    {
     "data": {
      "text/plain": [
       "<AxesSubplot:xlabel='year_exposition', ylabel='last_price'>"
      ]
     },
     "execution_count": 40,
     "metadata": {},
     "output_type": "execute_result"
    },
    {
     "data": {
      "image/png": "[encoded data removed]",
      "text/plain": [
       "<Figure size 720x360 with 1 Axes>"
      ]
     },
     "metadata": {
      "needs_background": "light"
     },
     "output_type": "display_data"
    }
   ],
   "source": [
    "data_days_exposition.plot(x = 'year_exposition', y = 'last_price', kind = 'scatter', alpha = 0.5, figsize = (10, 5))"
   ]
  },
  {
   "cell_type": "markdown",
   "metadata": {},
   "source": [
    "Самая низкая стоимость была в 2015-м году, затем к 2016-му она значительно возрасла, пик цен пришелся на 2017-й год. Далее, к 2019-му наблюдаем плавное снижение."
   ]
  },
  {
   "cell_type": "markdown",
   "metadata": {},
   "source": [
    "Для сравнения приведем также график, отражающий стоимость квадратного метра квартир по годам:"
   ]
  },
  {
   "cell_type": "code",
   "execution_count": 41,
   "metadata": {},
   "outputs": [
    {
     "data": {
      "text/plain": [
       "<AxesSubplot:xlabel='year_exposition', ylabel='price_square_meter'>"
      ]
     },
     "execution_count": 41,
     "metadata": {},
     "output_type": "execute_result"
    },
    {
     "data": {
      "image/png": "[encoded data removed]",
      "text/plain": [
       "<Figure size 720x360 with 1 Axes>"
      ]
     },
     "metadata": {
      "needs_background": "light"
     },
     "output_type": "display_data"
    }
   ],
   "source": [
    "data_days_exposition.plot(x = 'year_exposition', y = 'price_square_meter', kind = 'scatter', alpha = 0.5, figsize = (10, 5))"
   ]
  },
  {
   "cell_type": "markdown",
   "metadata": {},
   "source": [
    "Из графика прослеживается та же динамика, что и при исследовании цены квартир по годам."
   ]
  },
  {
   "cell_type": "markdown",
   "metadata": {},
   "source": [
    "### Определение средней цены квадратного метра в 10 населённых пунктах с наибольшим числом объявлений"
   ]
  },
  {
   "cell_type": "markdown",
   "metadata": {},
   "source": [
    "Определим 10 населенных пунктов с наибольшим числом объявлений:"
   ]
  },
  {
   "cell_type": "code",
   "execution_count": 42,
   "metadata": {
    "scrolled": true
   },
   "outputs": [
    {
     "data": {
      "text/plain": [
       "Санкт-Петербург      6700\n",
       "посёлок Мурино        258\n",
       "посёлок Шушары        229\n",
       "Всеволожск            174\n",
       "Колпино               164\n",
       "посёлок Парголово     158\n",
       "Пушкин                148\n",
       "деревня Кудрово       146\n",
       "Гатчина               140\n",
       "Выборг                116\n",
       "Name: locality_name, dtype: int64"
      ]
     },
     "execution_count": 42,
     "metadata": {},
     "output_type": "execute_result"
    }
   ],
   "source": [
    "data_days_exposition['locality_name'].value_counts().head(10)"
   ]
  },
  {
   "cell_type": "markdown",
   "metadata": {},
   "source": [
    "Составим новый DataFrame `df_10_locations` с этими 10 населенными пунктами:"
   ]
  },
  {
   "cell_type": "code",
   "execution_count": 43,
   "metadata": {},
   "outputs": [],
   "source": [
    "df_10_locations = data_days_exposition[data_days_exposition['locality_name'].isin(('Санкт-Петербург', 'посёлок Мурино', 'посёлок Шушары', \n",
    "                             'Всеволожск', 'Пушкин', 'Колпино', 'посёлок Парголово', \n",
    "                             'Гатчина', 'деревня Кудрово', 'Выборг'))]"
   ]
  },
  {
   "cell_type": "markdown",
   "metadata": {},
   "source": [
    "Определим среднее значение стоимости квадратного метра из нового DataFrame:"
   ]
  },
  {
   "cell_type": "code",
   "execution_count": 44,
   "metadata": {
    "scrolled": true
   },
   "outputs": [
    {
     "data": {
      "text/html": [
       "<div>\n",
       "<style scoped>\n",
       "    .dataframe tbody tr th:only-of-type {\n",
       "        vertical-align: middle;\n",
       "    }\n",
       "\n",
       "    .dataframe tbody tr th {\n",
       "        vertical-align: top;\n",
       "    }\n",
       "\n",
       "    .dataframe thead th {\n",
       "        text-align: right;\n",
       "    }\n",
       "</style>\n",
       "<table border=\"1\" class=\"dataframe\">\n",
       "  <thead>\n",
       "    <tr style=\"text-align: right;\">\n",
       "      <th></th>\n",
       "      <th>price_square_meter</th>\n",
       "    </tr>\n",
       "    <tr>\n",
       "      <th>locality_name</th>\n",
       "      <th></th>\n",
       "    </tr>\n",
       "  </thead>\n",
       "  <tbody>\n",
       "    <tr>\n",
       "      <th>Санкт-Петербург</th>\n",
       "      <td>207161.153683</td>\n",
       "    </tr>\n",
       "    <tr>\n",
       "      <th>посёлок Парголово</th>\n",
       "      <td>196661.502778</td>\n",
       "    </tr>\n",
       "    <tr>\n",
       "      <th>Пушкин</th>\n",
       "      <td>189863.082231</td>\n",
       "    </tr>\n",
       "    <tr>\n",
       "      <th>деревня Кудрово</th>\n",
       "      <td>186509.582569</td>\n",
       "    </tr>\n",
       "    <tr>\n",
       "      <th>посёлок Мурино</th>\n",
       "      <td>183687.336387</td>\n",
       "    </tr>\n",
       "    <tr>\n",
       "      <th>посёлок Шушары</th>\n",
       "      <td>159308.693151</td>\n",
       "    </tr>\n",
       "    <tr>\n",
       "      <th>Всеволожск</th>\n",
       "      <td>130193.674980</td>\n",
       "    </tr>\n",
       "    <tr>\n",
       "      <th>Колпино</th>\n",
       "      <td>128305.694317</td>\n",
       "    </tr>\n",
       "    <tr>\n",
       "      <th>Гатчина</th>\n",
       "      <td>115438.376058</td>\n",
       "    </tr>\n",
       "    <tr>\n",
       "      <th>Выборг</th>\n",
       "      <td>94226.114077</td>\n",
       "    </tr>\n",
       "  </tbody>\n",
       "</table>\n",
       "</div>"
      ],
      "text/plain": [
       "                   price_square_meter\n",
       "locality_name                        \n",
       "Санкт-Петербург         207161.153683\n",
       "посёлок Парголово       196661.502778\n",
       "Пушкин                  189863.082231\n",
       "деревня Кудрово         186509.582569\n",
       "посёлок Мурино          183687.336387\n",
       "посёлок Шушары          159308.693151\n",
       "Всеволожск              130193.674980\n",
       "Колпино                 128305.694317\n",
       "Гатчина                 115438.376058\n",
       "Выборг                   94226.114077"
      ]
     },
     "execution_count": 44,
     "metadata": {},
     "output_type": "execute_result"
    }
   ],
   "source": [
    "(df_10_locations\n",
    "     .pivot_table(index = 'locality_name', values = 'price_square_meter')\n",
    "     .sort_values(by = 'price_square_meter', ascending = False)\n",
    ")"
   ]
  },
  {
   "cell_type": "markdown",
   "metadata": {},
   "source": [
    "Из полученнного результата следует, что наибольшая стоимость квадратного метра - в Санкт-Перербурге, наименьшая - в Выборге."
   ]
  },
  {
   "cell_type": "markdown",
   "metadata": {},
   "source": [
    "### Определение центральной зоны в Санкт-Петербурге"
   ]
  },
  {
   "cell_type": "markdown",
   "metadata": {},
   "source": [
    "Создадим новый столбец с расстоянием до центра в километрах:"
   ]
  },
  {
   "cell_type": "code",
   "execution_count": 45,
   "metadata": {},
   "outputs": [],
   "source": [
    "df['cityCenters_nearest_km'] = round(df['cityCenters_nearest'] / 1000)\n",
    "df_days = df.query('days_exposition >= 45 and days_exposition <= 232')"
   ]
  },
  {
   "cell_type": "markdown",
   "metadata": {},
   "source": [
    "Создадим новый DataFrame `df_St_Petersburg`, в котором будут объявления только в Санкт-Петербурге:"
   ]
  },
  {
   "cell_type": "code",
   "execution_count": 46,
   "metadata": {},
   "outputs": [],
   "source": [
    "df_St_Petersburg = df_days[df_days['locality_name'] == 'Санкт-Петербург']"
   ]
  },
  {
   "cell_type": "markdown",
   "metadata": {},
   "source": [
    "Для столбца `df_St_Petersburg` определим среднюю стоимость для каждого километра и построим график:"
   ]
  },
  {
   "cell_type": "code",
   "execution_count": 47,
   "metadata": {
    "scrolled": false
   },
   "outputs": [
    {
     "data": {
      "text/plain": [
       "<AxesSubplot:xlabel='cityCenters_nearest_km'>"
      ]
     },
     "execution_count": 47,
     "metadata": {},
     "output_type": "execute_result"
    },
    {
     "data": {
      "image/png": "[encoded data removed]",
      "text/plain": [
       "<Figure size 1440x576 with 1 Axes>"
      ]
     },
     "metadata": {
      "needs_background": "light"
     },
     "output_type": "display_data"
    }
   ],
   "source": [
    "(df_St_Petersburg\n",
    "     .pivot_table(index = 'cityCenters_nearest_km', values = 'price_square_meter')\n",
    "     .plot(grid = True, style = 'o-', figsize = (20, 8))\n",
    ")"
   ]
  },
  {
   "cell_type": "markdown",
   "metadata": {},
   "source": [
    "Из графика следует, наибольший рост цены происходит на 10 километре - это и будет границой центра."
   ]
  },
  {
   "cell_type": "markdown",
   "metadata": {},
   "source": [
    "### Анализ влияния различных факторов на стоимость квартир в центре"
   ]
  },
  {
   "cell_type": "markdown",
   "metadata": {},
   "source": [
    "Из предыдущего пункта мы определили, что в Санкт-Петербурге граница центра - 10 км. Создадим 2 новых DataFrame: в одном будет информация только о квартирах в центре, во втором - о всех остальных:"
   ]
  },
  {
   "cell_type": "code",
   "execution_count": 48,
   "metadata": {},
   "outputs": [],
   "source": [
    "center = 10\n",
    "df_center_St_Petersburg = df_St_Petersburg.query('cityCenters_nearest_km <= @center')\n",
    "df_others_St_Petersburg = df_St_Petersburg.query('cityCenters_nearest_km > @center')"
   ]
  },
  {
   "cell_type": "markdown",
   "metadata": {},
   "source": [
    "Проведем анализ влияния на стоимоть следующих параметров: площадь, число комнат, высота потолков и цена квадратного метра."
   ]
  },
  {
   "cell_type": "code",
   "execution_count": 49,
   "metadata": {
    "scrolled": true
   },
   "outputs": [
    {
     "data": {
      "text/html": [
       "<div>\n",
       "<style scoped>\n",
       "    .dataframe tbody tr th:only-of-type {\n",
       "        vertical-align: middle;\n",
       "    }\n",
       "\n",
       "    .dataframe tbody tr th {\n",
       "        vertical-align: top;\n",
       "    }\n",
       "\n",
       "    .dataframe thead th {\n",
       "        text-align: right;\n",
       "    }\n",
       "</style>\n",
       "<table border=\"1\" class=\"dataframe\">\n",
       "  <thead>\n",
       "    <tr style=\"text-align: right;\">\n",
       "      <th></th>\n",
       "      <th>last_price</th>\n",
       "      <th>total_area</th>\n",
       "      <th>rooms</th>\n",
       "      <th>ceiling_height</th>\n",
       "      <th>price_square_meter</th>\n",
       "      <th>cityCenters_nearest_km</th>\n",
       "    </tr>\n",
       "  </thead>\n",
       "  <tbody>\n",
       "    <tr>\n",
       "      <th>last_price</th>\n",
       "      <td>1.000000</td>\n",
       "      <td>0.771309</td>\n",
       "      <td>0.414837</td>\n",
       "      <td>0.089338</td>\n",
       "      <td>0.505527</td>\n",
       "      <td>-0.155295</td>\n",
       "    </tr>\n",
       "    <tr>\n",
       "      <th>total_area</th>\n",
       "      <td>0.771309</td>\n",
       "      <td>1.000000</td>\n",
       "      <td>0.744710</td>\n",
       "      <td>0.146751</td>\n",
       "      <td>0.214782</td>\n",
       "      <td>-0.263933</td>\n",
       "    </tr>\n",
       "    <tr>\n",
       "      <th>rooms</th>\n",
       "      <td>0.414837</td>\n",
       "      <td>0.744710</td>\n",
       "      <td>1.000000</td>\n",
       "      <td>0.117031</td>\n",
       "      <td>-0.079107</td>\n",
       "      <td>-0.282828</td>\n",
       "    </tr>\n",
       "    <tr>\n",
       "      <th>ceiling_height</th>\n",
       "      <td>0.089338</td>\n",
       "      <td>0.146751</td>\n",
       "      <td>0.117031</td>\n",
       "      <td>1.000000</td>\n",
       "      <td>0.034118</td>\n",
       "      <td>-0.189122</td>\n",
       "    </tr>\n",
       "    <tr>\n",
       "      <th>price_square_meter</th>\n",
       "      <td>0.505527</td>\n",
       "      <td>0.214782</td>\n",
       "      <td>-0.079107</td>\n",
       "      <td>0.034118</td>\n",
       "      <td>1.000000</td>\n",
       "      <td>-0.095775</td>\n",
       "    </tr>\n",
       "    <tr>\n",
       "      <th>cityCenters_nearest_km</th>\n",
       "      <td>-0.155295</td>\n",
       "      <td>-0.263933</td>\n",
       "      <td>-0.282828</td>\n",
       "      <td>-0.189122</td>\n",
       "      <td>-0.095775</td>\n",
       "      <td>1.000000</td>\n",
       "    </tr>\n",
       "  </tbody>\n",
       "</table>\n",
       "</div>"
      ],
      "text/plain": [
       "                        last_price  total_area     rooms  ceiling_height  \\\n",
       "last_price                1.000000    0.771309  0.414837        0.089338   \n",
       "total_area                0.771309    1.000000  0.744710        0.146751   \n",
       "rooms                     0.414837    0.744710  1.000000        0.117031   \n",
       "ceiling_height            0.089338    0.146751  0.117031        1.000000   \n",
       "price_square_meter        0.505527    0.214782 -0.079107        0.034118   \n",
       "cityCenters_nearest_km   -0.155295   -0.263933 -0.282828       -0.189122   \n",
       "\n",
       "                        price_square_meter  cityCenters_nearest_km  \n",
       "last_price                        0.505527               -0.155295  \n",
       "total_area                        0.214782               -0.263933  \n",
       "rooms                            -0.079107               -0.282828  \n",
       "ceiling_height                    0.034118               -0.189122  \n",
       "price_square_meter                1.000000               -0.095775  \n",
       "cityCenters_nearest_km           -0.095775                1.000000  "
      ]
     },
     "execution_count": 49,
     "metadata": {},
     "output_type": "execute_result"
    }
   ],
   "source": [
    "df_options_center = df_center_St_Petersburg[['last_price', 'total_area', 'rooms', 'ceiling_height', 'price_square_meter', 'cityCenters_nearest_km']]\n",
    "df_options_center.corr()"
   ]
  },
  {
   "cell_type": "code",
   "execution_count": 50,
   "metadata": {},
   "outputs": [
    {
     "data": {
      "text/html": [
       "<div>\n",
       "<style scoped>\n",
       "    .dataframe tbody tr th:only-of-type {\n",
       "        vertical-align: middle;\n",
       "    }\n",
       "\n",
       "    .dataframe tbody tr th {\n",
       "        vertical-align: top;\n",
       "    }\n",
       "\n",
       "    .dataframe thead th {\n",
       "        text-align: right;\n",
       "    }\n",
       "</style>\n",
       "<table border=\"1\" class=\"dataframe\">\n",
       "  <thead>\n",
       "    <tr style=\"text-align: right;\">\n",
       "      <th></th>\n",
       "      <th>last_price</th>\n",
       "      <th>total_area</th>\n",
       "      <th>rooms</th>\n",
       "      <th>ceiling_height</th>\n",
       "      <th>price_square_meter</th>\n",
       "      <th>cityCenters_nearest_km</th>\n",
       "    </tr>\n",
       "  </thead>\n",
       "  <tbody>\n",
       "    <tr>\n",
       "      <th>last_price</th>\n",
       "      <td>1.000000</td>\n",
       "      <td>0.850161</td>\n",
       "      <td>0.521530</td>\n",
       "      <td>0.073846</td>\n",
       "      <td>0.263649</td>\n",
       "      <td>-0.103019</td>\n",
       "    </tr>\n",
       "    <tr>\n",
       "      <th>total_area</th>\n",
       "      <td>0.850161</td>\n",
       "      <td>1.000000</td>\n",
       "      <td>0.731259</td>\n",
       "      <td>0.060342</td>\n",
       "      <td>-0.099672</td>\n",
       "      <td>-0.011454</td>\n",
       "    </tr>\n",
       "    <tr>\n",
       "      <th>rooms</th>\n",
       "      <td>0.521530</td>\n",
       "      <td>0.731259</td>\n",
       "      <td>1.000000</td>\n",
       "      <td>0.005817</td>\n",
       "      <td>-0.446905</td>\n",
       "      <td>-0.046204</td>\n",
       "    </tr>\n",
       "    <tr>\n",
       "      <th>ceiling_height</th>\n",
       "      <td>0.073846</td>\n",
       "      <td>0.060342</td>\n",
       "      <td>0.005817</td>\n",
       "      <td>1.000000</td>\n",
       "      <td>0.059672</td>\n",
       "      <td>0.004098</td>\n",
       "    </tr>\n",
       "    <tr>\n",
       "      <th>price_square_meter</th>\n",
       "      <td>0.263649</td>\n",
       "      <td>-0.099672</td>\n",
       "      <td>-0.446905</td>\n",
       "      <td>0.059672</td>\n",
       "      <td>1.000000</td>\n",
       "      <td>-0.050038</td>\n",
       "    </tr>\n",
       "    <tr>\n",
       "      <th>cityCenters_nearest_km</th>\n",
       "      <td>-0.103019</td>\n",
       "      <td>-0.011454</td>\n",
       "      <td>-0.046204</td>\n",
       "      <td>0.004098</td>\n",
       "      <td>-0.050038</td>\n",
       "      <td>1.000000</td>\n",
       "    </tr>\n",
       "  </tbody>\n",
       "</table>\n",
       "</div>"
      ],
      "text/plain": [
       "                        last_price  total_area     rooms  ceiling_height  \\\n",
       "last_price                1.000000    0.850161  0.521530        0.073846   \n",
       "total_area                0.850161    1.000000  0.731259        0.060342   \n",
       "rooms                     0.521530    0.731259  1.000000        0.005817   \n",
       "ceiling_height            0.073846    0.060342  0.005817        1.000000   \n",
       "price_square_meter        0.263649   -0.099672 -0.446905        0.059672   \n",
       "cityCenters_nearest_km   -0.103019   -0.011454 -0.046204        0.004098   \n",
       "\n",
       "                        price_square_meter  cityCenters_nearest_km  \n",
       "last_price                        0.263649               -0.103019  \n",
       "total_area                       -0.099672               -0.011454  \n",
       "rooms                            -0.446905               -0.046204  \n",
       "ceiling_height                    0.059672                0.004098  \n",
       "price_square_meter                1.000000               -0.050038  \n",
       "cityCenters_nearest_km           -0.050038                1.000000  "
      ]
     },
     "execution_count": 50,
     "metadata": {},
     "output_type": "execute_result"
    }
   ],
   "source": [
    "df_options_others = df_others_St_Petersburg[['last_price', 'total_area', 'rooms', 'ceiling_height', 'price_square_meter', 'cityCenters_nearest_km']]\n",
    "df_options_others.corr()"
   ]
  },
  {
   "cell_type": "markdown",
   "metadata": {},
   "source": [
    "Также проведем анализ зависимости стоимости квартир в центре от следующих параметров: этаж, удалённость от центра, дата размещения объявления. "
   ]
  },
  {
   "cell_type": "code",
   "execution_count": 51,
   "metadata": {},
   "outputs": [
    {
     "data": {
      "text/plain": [
       "<AxesSubplot:xlabel='name_floor', ylabel='last_price'>"
      ]
     },
     "execution_count": 51,
     "metadata": {},
     "output_type": "execute_result"
    },
    {
     "data": {
      "image/png": "[encoded data removed]",
      "text/plain": [
       "<Figure size 432x288 with 1 Axes>"
      ]
     },
     "metadata": {
      "needs_background": "light"
     },
     "output_type": "display_data"
    }
   ],
   "source": [
    "df_center_St_Petersburg.plot(x = 'name_floor', y = 'last_price', kind = 'scatter', alpha = 0.5)"
   ]
  },
  {
   "cell_type": "code",
   "execution_count": 52,
   "metadata": {},
   "outputs": [
    {
     "data": {
      "text/plain": [
       "<AxesSubplot:xlabel='name_floor', ylabel='last_price'>"
      ]
     },
     "execution_count": 52,
     "metadata": {},
     "output_type": "execute_result"
    },
    {
     "data": {
      "image/png": "[encoded data removed]",
      "text/plain": [
       "<Figure size 432x288 with 1 Axes>"
      ]
     },
     "metadata": {
      "needs_background": "light"
     },
     "output_type": "display_data"
    }
   ],
   "source": [
    "df_others_St_Petersburg.plot(x = 'name_floor', y = 'last_price', kind = 'scatter', alpha = 0.5)"
   ]
  },
  {
   "cell_type": "code",
   "execution_count": 53,
   "metadata": {
    "scrolled": false
   },
   "outputs": [
    {
     "data": {
      "text/plain": [
       "array([[<AxesSubplot:xlabel='last_price', ylabel='last_price'>,\n",
       "        <AxesSubplot:xlabel='day_exposition', ylabel='last_price'>,\n",
       "        <AxesSubplot:xlabel='month_exposition', ylabel='last_price'>,\n",
       "        <AxesSubplot:xlabel='year_exposition', ylabel='last_price'>],\n",
       "       [<AxesSubplot:xlabel='last_price', ylabel='day_exposition'>,\n",
       "        <AxesSubplot:xlabel='day_exposition', ylabel='day_exposition'>,\n",
       "        <AxesSubplot:xlabel='month_exposition', ylabel='day_exposition'>,\n",
       "        <AxesSubplot:xlabel='year_exposition', ylabel='day_exposition'>],\n",
       "       [<AxesSubplot:xlabel='last_price', ylabel='month_exposition'>,\n",
       "        <AxesSubplot:xlabel='day_exposition', ylabel='month_exposition'>,\n",
       "        <AxesSubplot:xlabel='month_exposition', ylabel='month_exposition'>,\n",
       "        <AxesSubplot:xlabel='year_exposition', ylabel='month_exposition'>],\n",
       "       [<AxesSubplot:xlabel='last_price', ylabel='year_exposition'>,\n",
       "        <AxesSubplot:xlabel='day_exposition', ylabel='year_exposition'>,\n",
       "        <AxesSubplot:xlabel='month_exposition', ylabel='year_exposition'>,\n",
       "        <AxesSubplot:xlabel='year_exposition', ylabel='year_exposition'>]],\n",
       "      dtype=object)"
      ]
     },
     "execution_count": 53,
     "metadata": {},
     "output_type": "execute_result"
    },
    {
     "data": {
      "image/png": "[encoded data removed]",
      "text/plain": [
       "<Figure size 864x864 with 16 Axes>"
      ]
     },
     "metadata": {
      "needs_background": "light"
     },
     "output_type": "display_data"
    }
   ],
   "source": [
    "df_date_St_Petersburg = df[['last_price', 'day_exposition', 'month_exposition', 'year_exposition']]\n",
    "pd.plotting.scatter_matrix(df_date_St_Petersburg, figsize = (12, 12))"
   ]
  },
  {
   "cell_type": "code",
   "execution_count": 54,
   "metadata": {},
   "outputs": [
    {
     "data": {
      "text/plain": [
       "array([[<AxesSubplot:xlabel='last_price', ylabel='last_price'>,\n",
       "        <AxesSubplot:xlabel='day_exposition', ylabel='last_price'>,\n",
       "        <AxesSubplot:xlabel='month_exposition', ylabel='last_price'>,\n",
       "        <AxesSubplot:xlabel='year_exposition', ylabel='last_price'>],\n",
       "       [<AxesSubplot:xlabel='last_price', ylabel='day_exposition'>,\n",
       "        <AxesSubplot:xlabel='day_exposition', ylabel='day_exposition'>,\n",
       "        <AxesSubplot:xlabel='month_exposition', ylabel='day_exposition'>,\n",
       "        <AxesSubplot:xlabel='year_exposition', ylabel='day_exposition'>],\n",
       "       [<AxesSubplot:xlabel='last_price', ylabel='month_exposition'>,\n",
       "        <AxesSubplot:xlabel='day_exposition', ylabel='month_exposition'>,\n",
       "        <AxesSubplot:xlabel='month_exposition', ylabel='month_exposition'>,\n",
       "        <AxesSubplot:xlabel='year_exposition', ylabel='month_exposition'>],\n",
       "       [<AxesSubplot:xlabel='last_price', ylabel='year_exposition'>,\n",
       "        <AxesSubplot:xlabel='day_exposition', ylabel='year_exposition'>,\n",
       "        <AxesSubplot:xlabel='month_exposition', ylabel='year_exposition'>,\n",
       "        <AxesSubplot:xlabel='year_exposition', ylabel='year_exposition'>]],\n",
       "      dtype=object)"
      ]
     },
     "execution_count": 54,
     "metadata": {},
     "output_type": "execute_result"
    },
    {
     "data": {
      "image/png": "[encoded data removed]",
      "text/plain": [
       "<Figure size 864x864 with 16 Axes>"
      ]
     },
     "metadata": {
      "needs_background": "light"
     },
     "output_type": "display_data"
    }
   ],
   "source": [
    "df_others_St_Petersburg = df[['last_price', 'day_exposition', 'month_exposition', 'year_exposition']]\n",
    "pd.plotting.scatter_matrix(df_others_St_Petersburg, figsize = (12, 12))"
   ]
  },
  {
   "cell_type": "markdown",
   "metadata": {},
   "source": [
    "Расмотрим внимательнее изменения по годам:"
   ]
  },
  {
   "cell_type": "code",
   "execution_count": 55,
   "metadata": {
    "scrolled": false
   },
   "outputs": [
    {
     "data": {
      "text/plain": [
       "<AxesSubplot:xlabel='year_exposition', ylabel='last_price'>"
      ]
     },
     "execution_count": 55,
     "metadata": {},
     "output_type": "execute_result"
    },
    {
     "data": {
      "image/png": "[encoded data removed]",
      "text/plain": [
       "<Figure size 576x576 with 1 Axes>"
      ]
     },
     "metadata": {
      "needs_background": "light"
     },
     "output_type": "display_data"
    }
   ],
   "source": [
    "df_date_St_Petersburg.plot(x = 'year_exposition', y = 'last_price', kind = 'scatter', \n",
    "                           alpha = 0.3, figsize = (8, 8), ylim = (0, 5e8))"
   ]
  },
  {
   "cell_type": "code",
   "execution_count": 56,
   "metadata": {},
   "outputs": [
    {
     "data": {
      "text/plain": [
       "<AxesSubplot:xlabel='year_exposition', ylabel='last_price'>"
      ]
     },
     "execution_count": 56,
     "metadata": {},
     "output_type": "execute_result"
    },
    {
     "data": {
      "image/png": "[encoded data removed]",
      "text/plain": [
       "<Figure size 576x576 with 1 Axes>"
      ]
     },
     "metadata": {
      "needs_background": "light"
     },
     "output_type": "display_data"
    }
   ],
   "source": [
    "df_others_St_Petersburg.plot(x = 'year_exposition', y = 'last_price', kind = 'scatter', \n",
    "                           alpha = 0.3, figsize = (8, 8), ylim = (0, 5e8))"
   ]
  },
  {
   "cell_type": "markdown",
   "metadata": {},
   "source": [
    "При анализе стоимости квартир в центре Санкт-Петербурга и за пределами центра были получены следующие результаты:\n",
    "\n",
    "В значительной степени стоимость зависит от общей площади квартир, при этом стоимость \"других\" квартир в большей степени зависит от этого фактора, чем стоимость квартир в центре (коэффициент корреляции в центре - 0.77, \"других\" квартир - 0.85)\n",
    "\n",
    "Слабая корреляция прослеживается в стоимости квадратного метра (коэффициент корреляции в центре - 0.51, \"других\" квартир - 0.26)\n",
    "\n",
    "Слабая корреляция прослеживается с количеством комнат (коэффициент корреляции в центре - 0.41, \"других\" квартир - 0.52)\n",
    "\n",
    "Зависимости от высоты потолков и расстояния до центра, а также от дня и месяца размещения объявления нет\n",
    "\n",
    "Зависимость от года размещения объявления квартир \"в центре\" и \"других\" одинаковая: самая низкая стоимость в 2014 году, далее цена к 2015-му поднялась и продержалась примерно на таком уровне до 2016-го, далее опять поднялась в 2017-м, к 2019-му плавно снизилась до уровня 2015-го года.\n",
    "\n",
    "Таким образом, можно сделать вывод, что стоимость квартир в центре и \"других\" зависят от одних и тех же параметров, имеют те же коэффициенты корреляции."
   ]
  },
  {
   "cell_type": "markdown",
   "metadata": {},
   "source": [
    "## Общий вывод"
   ]
  },
  {
   "cell_type": "markdown",
   "metadata": {},
   "source": [
    "Таким образом, было проведено исследование, в ходе которого были изучены данные, произведены их предобработка, дополнительные расчеты, а также непосредственно сам анализ данных.\n",
    "\n",
    "Во время предобработки данных были замечены и устранены пропуски и изменен тип данных, где это предоставлялось возможным. Дополнительными же расчетами являлось создание столбцов, содержащих информацио о стоимости квадратного метра квартир, разбиение этажей на \"первый\", \"последний\" или \"другой\", а также соотношение \"жилой\" и \"площади кухни\" к общей площади квартиры.\n",
    "\n",
    "Далее производился непосредственно сам анализ данных.\n",
    "\n",
    "Первый пункт посвящен исследованию площади, цены, числа комнат и высоты потолков квартир. Было определено, что большинство объявлений - квартиры до 200 квадратных метров, ценой до 5e7, до 4 комнат в квартире и с высотой потолков до 4 метров.\n",
    "\n",
    "Вторым пунктом было проанализировано время продажи квартир. Был сделан вывод, что обычное время продажи квартиры составляет от 45 до 232 дней. Быстрые продажи - от 1 до 44, необычно долгие - от 233 до 1580 дней. \n",
    "\n",
    "Третьим пунктом были созданы новые DataFrames, содержащие информацию без выбросов.\n",
    "\n",
    "В четвертом пункте был произведен анализ, зависит ли цена от площади, числа комнат, удалённости от центра, а также от даты размещения объвления: дня недели, месяца и года. Были получены следующие результаты: в значительной степени стоимость квартиры зависит от ее площади (коэффициент корреляции - 0.74). Небольшая зависимость есть также от числа комнат (коэффициент корреляции - 0.39). И еще в более меньшей степени зависит от расстояния до центра (коэффициент корреляции - -0.21). Касательно даты размещения объявления, зависимости от дня и месяца не выявлено, что нельзя сказать о годах: самая низкая стоимость была в 2015-м году, затем к 2016-му она значительно возрасла, пик цен пришелся на 2017-й год, далее, к 2019-му наблюдаем планое снижение. \n",
    "\n",
    "В пятом пункте были определены 10 населенных пунктов с наибольшим числом объявлений. Было выявлено, что наибольшая средняя стоимость квадратного метра в Санкт-Петербурге - 207161, тогда как самая низкая - в Выборге - 94226.\n",
    "\n",
    "Шестым пунктом была определена \"граница центра\" Санкт-Петербурга - 10 километров от центра.\n",
    "\n",
    "Седьмым пунктом был произведен анализ факторов, влияющих на стоимость квартир в центреСанкт-Петербурга (площадь, число комнат, высота потолков, этаж, удалённость от центра, дата размещения объявления) и проведен сравнительный анализ с квартирами вне центра. Были получены следующие результаты: в значительной степени стоимость квартиры в и вне центра зависит от ее площади (коэффициент корреляции в центре - 0.77, \"других\" квартир - 0.85). Слабая корреляция прослеживается в стоимости квадратного метра (коэффициент корреляции в центре - 0.51, \"других\" квартир - 0.26) и с количеством комнат (коэффициент корреляции в центре - 0.41, \"других\" квартир - 0.52), от высоты потолков и расстояния до центра, а также от дня и месяца размещения объявления нет. Зависимость от года размещения объявления квартир \"в центре\" и \"других\" одинаковая: самая низкая стоимость в 2014 году, далее цена к 2015-му поднялась и продержалась примерно на таком уровне до 2016-го, далее опять поднялась в 2017-м, к 2019-му плавно снизилась до уровня 2015-го года."
   ]
  }
 ],
 "metadata": {
  "ExecuteTimeLog": [
   {
    "duration": 464,
    "start_time": "2022-04-17T13:22:16.796Z"
   },
   {
    "duration": 82,
    "start_time": "2022-04-17T13:22:26.200Z"
   },
   {
    "duration": 9,
    "start_time": "2022-04-17T13:22:56.975Z"
   },
   {
    "duration": 63,
    "start_time": "2022-04-17T13:23:03.728Z"
   },
   {
    "duration": 66,
    "start_time": "2022-04-17T13:23:07.300Z"
   },
   {
    "duration": 69,
    "start_time": "2022-04-17T13:23:11.626Z"
   },
   {
    "duration": 92,
    "start_time": "2022-04-17T13:23:37.466Z"
   },
   {
    "duration": 62,
    "start_time": "2022-04-17T13:24:54.761Z"
   },
   {
    "duration": 82,
    "start_time": "2022-04-17T13:25:00.274Z"
   },
   {
    "duration": 6,
    "start_time": "2022-04-17T13:28:30.109Z"
   },
   {
    "duration": 5,
    "start_time": "2022-04-17T13:28:45.731Z"
   },
   {
    "duration": 5,
    "start_time": "2022-04-17T13:29:01.250Z"
   },
   {
    "duration": 407,
    "start_time": "2022-04-17T13:29:20.637Z"
   },
   {
    "duration": 144,
    "start_time": "2022-04-17T13:29:28.710Z"
   },
   {
    "duration": 156,
    "start_time": "2022-04-17T13:29:59.022Z"
   },
   {
    "duration": 233,
    "start_time": "2022-04-17T13:30:52.456Z"
   },
   {
    "duration": 15,
    "start_time": "2022-04-17T13:31:17.548Z"
   },
   {
    "duration": 5,
    "start_time": "2022-04-17T13:32:09.249Z"
   },
   {
    "duration": 6,
    "start_time": "2022-04-17T13:32:15.762Z"
   },
   {
    "duration": 3,
    "start_time": "2022-04-17T13:32:25.521Z"
   },
   {
    "duration": 186,
    "start_time": "2022-04-17T13:32:31.860Z"
   },
   {
    "duration": 89,
    "start_time": "2022-04-17T13:32:37.889Z"
   },
   {
    "duration": 4,
    "start_time": "2022-04-17T13:32:37.979Z"
   },
   {
    "duration": 192,
    "start_time": "2022-04-17T13:32:37.985Z"
   },
   {
    "duration": 212,
    "start_time": "2022-04-17T13:32:58.633Z"
   },
   {
    "duration": 1626,
    "start_time": "2022-04-17T13:33:22.680Z"
   },
   {
    "duration": 208,
    "start_time": "2022-04-17T13:33:52.452Z"
   },
   {
    "duration": 281,
    "start_time": "2022-04-17T13:34:56.945Z"
   },
   {
    "duration": 94,
    "start_time": "2022-04-17T13:35:14.766Z"
   },
   {
    "duration": 111,
    "start_time": "2022-04-17T13:35:16.018Z"
   },
   {
    "duration": 195,
    "start_time": "2022-04-17T13:35:21.219Z"
   },
   {
    "duration": 12,
    "start_time": "2022-04-17T13:36:02.047Z"
   },
   {
    "duration": 5,
    "start_time": "2022-04-17T13:36:25.141Z"
   },
   {
    "duration": 6,
    "start_time": "2022-04-17T13:36:58.593Z"
   },
   {
    "duration": 17,
    "start_time": "2022-04-17T13:37:05.777Z"
   },
   {
    "duration": 4,
    "start_time": "2022-04-17T13:37:08.472Z"
   },
   {
    "duration": 23,
    "start_time": "2022-04-17T13:38:04.250Z"
   },
   {
    "duration": 132,
    "start_time": "2022-04-17T13:39:08.119Z"
   },
   {
    "duration": 100,
    "start_time": "2022-04-17T13:39:13.540Z"
   },
   {
    "duration": 22,
    "start_time": "2022-04-17T13:39:26.725Z"
   },
   {
    "duration": 21,
    "start_time": "2022-04-17T13:39:28.679Z"
   },
   {
    "duration": 35,
    "start_time": "2022-04-17T13:40:14.172Z"
   },
   {
    "duration": 10,
    "start_time": "2022-04-17T13:40:21.418Z"
   },
   {
    "duration": 9,
    "start_time": "2022-04-17T13:40:28.691Z"
   },
   {
    "duration": 14,
    "start_time": "2022-04-17T13:40:35.858Z"
   },
   {
    "duration": 11,
    "start_time": "2022-04-17T13:40:43.016Z"
   },
   {
    "duration": 15,
    "start_time": "2022-04-17T13:41:09.934Z"
   },
   {
    "duration": 9,
    "start_time": "2022-04-17T13:41:23.167Z"
   },
   {
    "duration": 31,
    "start_time": "2022-04-17T13:41:39.413Z"
   },
   {
    "duration": 5,
    "start_time": "2022-04-17T13:42:10.807Z"
   },
   {
    "duration": 6,
    "start_time": "2022-04-17T13:42:55.554Z"
   },
   {
    "duration": 5,
    "start_time": "2022-04-17T13:43:21.985Z"
   },
   {
    "duration": 153,
    "start_time": "2022-04-17T13:44:50.691Z"
   },
   {
    "duration": 1179,
    "start_time": "2022-04-17T13:45:22.288Z"
   },
   {
    "duration": 53,
    "start_time": "2022-04-17T13:45:48.589Z"
   },
   {
    "duration": 8,
    "start_time": "2022-04-17T13:46:34.021Z"
   },
   {
    "duration": 46,
    "start_time": "2022-04-17T13:46:38.214Z"
   },
   {
    "duration": 41,
    "start_time": "2022-04-17T14:13:26.429Z"
   },
   {
    "duration": 18,
    "start_time": "2022-04-17T14:13:31.727Z"
   },
   {
    "duration": 35,
    "start_time": "2022-04-17T14:16:24.575Z"
   },
   {
    "duration": 27,
    "start_time": "2022-04-17T14:16:26.734Z"
   },
   {
    "duration": 9,
    "start_time": "2022-04-17T14:17:53.742Z"
   },
   {
    "duration": 18,
    "start_time": "2022-04-17T14:18:27.367Z"
   },
   {
    "duration": 12,
    "start_time": "2022-04-17T14:20:38.698Z"
   },
   {
    "duration": 5,
    "start_time": "2022-04-17T14:40:58.863Z"
   },
   {
    "duration": 7,
    "start_time": "2022-04-17T14:41:13.009Z"
   },
   {
    "duration": 5,
    "start_time": "2022-04-17T14:41:39.237Z"
   },
   {
    "duration": 5,
    "start_time": "2022-04-17T14:52:49.468Z"
   },
   {
    "duration": 8,
    "start_time": "2022-04-17T14:52:58.825Z"
   },
   {
    "duration": 86,
    "start_time": "2022-04-17T14:53:09.349Z"
   },
   {
    "duration": 9,
    "start_time": "2022-04-17T14:53:09.436Z"
   },
   {
    "duration": 4,
    "start_time": "2022-04-17T14:53:09.446Z"
   },
   {
    "duration": 7,
    "start_time": "2022-04-17T14:53:09.451Z"
   },
   {
    "duration": 2017,
    "start_time": "2022-04-17T14:53:09.459Z"
   },
   {
    "duration": 87,
    "start_time": "2022-04-17T14:53:21.755Z"
   },
   {
    "duration": 9,
    "start_time": "2022-04-17T14:53:21.844Z"
   },
   {
    "duration": 12,
    "start_time": "2022-04-17T14:53:21.855Z"
   },
   {
    "duration": 9,
    "start_time": "2022-04-17T14:53:21.869Z"
   },
   {
    "duration": 4,
    "start_time": "2022-04-17T14:53:21.879Z"
   },
   {
    "duration": 4,
    "start_time": "2022-04-17T14:54:48.561Z"
   },
   {
    "duration": 8,
    "start_time": "2022-04-17T14:54:50.861Z"
   },
   {
    "duration": 11,
    "start_time": "2022-04-17T14:55:22.763Z"
   },
   {
    "duration": 10,
    "start_time": "2022-04-17T14:55:26.803Z"
   },
   {
    "duration": 9,
    "start_time": "2022-04-17T14:55:29.193Z"
   },
   {
    "duration": 93,
    "start_time": "2022-04-17T14:55:32.401Z"
   },
   {
    "duration": 7,
    "start_time": "2022-04-17T14:55:32.496Z"
   },
   {
    "duration": 3,
    "start_time": "2022-04-17T14:55:32.505Z"
   },
   {
    "duration": 20,
    "start_time": "2022-04-17T14:55:32.510Z"
   },
   {
    "duration": 6,
    "start_time": "2022-04-17T14:55:32.531Z"
   },
   {
    "duration": 6,
    "start_time": "2022-04-17T14:56:50.442Z"
   },
   {
    "duration": 9,
    "start_time": "2022-04-17T14:57:02.793Z"
   },
   {
    "duration": 3,
    "start_time": "2022-04-17T14:57:09.273Z"
   },
   {
    "duration": 4,
    "start_time": "2022-04-17T14:57:11.614Z"
   },
   {
    "duration": 11,
    "start_time": "2022-04-17T14:57:20.613Z"
   },
   {
    "duration": 91,
    "start_time": "2022-04-17T14:57:25.592Z"
   },
   {
    "duration": 9,
    "start_time": "2022-04-17T14:57:25.685Z"
   },
   {
    "duration": 6,
    "start_time": "2022-04-17T14:57:25.695Z"
   },
   {
    "duration": 28,
    "start_time": "2022-04-17T14:57:25.703Z"
   },
   {
    "duration": 8,
    "start_time": "2022-04-17T14:57:25.733Z"
   },
   {
    "duration": 5,
    "start_time": "2022-04-17T14:58:19.839Z"
   },
   {
    "duration": 97,
    "start_time": "2022-04-17T14:58:23.023Z"
   },
   {
    "duration": 13,
    "start_time": "2022-04-17T14:58:23.122Z"
   },
   {
    "duration": 8,
    "start_time": "2022-04-17T14:58:23.136Z"
   },
   {
    "duration": 14,
    "start_time": "2022-04-17T14:58:23.145Z"
   },
   {
    "duration": 5,
    "start_time": "2022-04-17T14:58:23.160Z"
   },
   {
    "duration": 4,
    "start_time": "2022-04-17T14:59:05.468Z"
   },
   {
    "duration": 9,
    "start_time": "2022-04-17T14:59:06.996Z"
   },
   {
    "duration": 5,
    "start_time": "2022-04-17T14:59:57.709Z"
   },
   {
    "duration": 12,
    "start_time": "2022-04-17T14:59:59.723Z"
   },
   {
    "duration": 14,
    "start_time": "2022-04-17T15:00:16.059Z"
   },
   {
    "duration": 19,
    "start_time": "2022-04-17T15:10:04.802Z"
   },
   {
    "duration": 4,
    "start_time": "2022-04-17T15:10:36.767Z"
   },
   {
    "duration": 9,
    "start_time": "2022-04-17T15:10:51.463Z"
   },
   {
    "duration": 7,
    "start_time": "2022-04-17T15:11:27.015Z"
   },
   {
    "duration": 6,
    "start_time": "2022-04-17T15:11:36.026Z"
   },
   {
    "duration": 14,
    "start_time": "2022-04-17T15:11:50.973Z"
   },
   {
    "duration": 103,
    "start_time": "2022-04-17T15:12:41.738Z"
   },
   {
    "duration": 5,
    "start_time": "2022-04-17T15:14:31.489Z"
   },
   {
    "duration": 5,
    "start_time": "2022-04-17T15:14:33.435Z"
   },
   {
    "duration": 5,
    "start_time": "2022-04-17T15:14:35.201Z"
   },
   {
    "duration": 863,
    "start_time": "2022-04-17T21:09:48.858Z"
   },
   {
    "duration": 17,
    "start_time": "2022-04-17T21:09:49.725Z"
   },
   {
    "duration": 8,
    "start_time": "2022-04-17T21:09:49.745Z"
   },
   {
    "duration": 55,
    "start_time": "2022-04-17T21:09:49.756Z"
   },
   {
    "duration": 12,
    "start_time": "2022-04-17T21:09:49.814Z"
   },
   {
    "duration": 9,
    "start_time": "2022-04-17T21:09:49.829Z"
   },
   {
    "duration": 43,
    "start_time": "2022-04-17T21:09:49.841Z"
   },
   {
    "duration": 14,
    "start_time": "2022-04-17T21:10:03.552Z"
   },
   {
    "duration": 6,
    "start_time": "2022-04-17T21:10:08.433Z"
   },
   {
    "duration": 20,
    "start_time": "2022-04-17T21:10:10.637Z"
   },
   {
    "duration": 6,
    "start_time": "2022-04-17T21:10:16.863Z"
   },
   {
    "duration": 6,
    "start_time": "2022-04-17T21:10:27.370Z"
   },
   {
    "duration": 2339,
    "start_time": "2022-04-17T21:12:46.115Z"
   },
   {
    "duration": 2105,
    "start_time": "2022-04-17T21:12:57.789Z"
   },
   {
    "duration": 11,
    "start_time": "2022-04-17T21:13:06.997Z"
   },
   {
    "duration": 24,
    "start_time": "2022-04-17T21:13:11.053Z"
   },
   {
    "duration": 8,
    "start_time": "2022-04-17T21:13:40.527Z"
   },
   {
    "duration": 24,
    "start_time": "2022-04-17T21:13:43.093Z"
   },
   {
    "duration": 7,
    "start_time": "2022-04-17T21:13:58.743Z"
   },
   {
    "duration": 8,
    "start_time": "2022-04-17T21:14:01.870Z"
   },
   {
    "duration": 142,
    "start_time": "2022-04-17T21:14:52.382Z"
   },
   {
    "duration": 11,
    "start_time": "2022-04-17T21:14:52.527Z"
   },
   {
    "duration": 9,
    "start_time": "2022-04-17T21:14:52.541Z"
   },
   {
    "duration": 82,
    "start_time": "2022-04-17T21:14:52.554Z"
   },
   {
    "duration": 10,
    "start_time": "2022-04-17T21:14:52.638Z"
   },
   {
    "duration": 34,
    "start_time": "2022-04-17T21:14:52.650Z"
   },
   {
    "duration": 11,
    "start_time": "2022-04-17T21:14:52.686Z"
   },
   {
    "duration": 9,
    "start_time": "2022-04-17T21:19:29.166Z"
   },
   {
    "duration": 135,
    "start_time": "2022-04-17T21:19:32.141Z"
   },
   {
    "duration": 12,
    "start_time": "2022-04-17T21:19:32.281Z"
   },
   {
    "duration": 11,
    "start_time": "2022-04-17T21:19:32.295Z"
   },
   {
    "duration": 19,
    "start_time": "2022-04-17T21:19:32.308Z"
   },
   {
    "duration": 8,
    "start_time": "2022-04-17T21:19:32.330Z"
   },
   {
    "duration": 47,
    "start_time": "2022-04-17T21:19:32.340Z"
   },
   {
    "duration": 11,
    "start_time": "2022-04-17T21:19:32.390Z"
   },
   {
    "duration": 9,
    "start_time": "2022-04-17T21:19:48.970Z"
   },
   {
    "duration": 7,
    "start_time": "2022-04-17T21:29:44.369Z"
   },
   {
    "duration": 145,
    "start_time": "2022-04-17T21:30:05.649Z"
   },
   {
    "duration": 29,
    "start_time": "2022-04-17T21:30:15.565Z"
   },
   {
    "duration": 5,
    "start_time": "2022-04-17T21:30:47.225Z"
   },
   {
    "duration": 9,
    "start_time": "2022-04-17T21:30:50.911Z"
   },
   {
    "duration": 7,
    "start_time": "2022-04-17T21:31:07.647Z"
   },
   {
    "duration": 6,
    "start_time": "2022-04-17T21:31:10.305Z"
   },
   {
    "duration": 7,
    "start_time": "2022-04-17T21:31:11.261Z"
   },
   {
    "duration": 22,
    "start_time": "2022-04-17T21:44:20.362Z"
   },
   {
    "duration": 635,
    "start_time": "2022-04-18T09:26:10.891Z"
   },
   {
    "duration": 10,
    "start_time": "2022-04-18T09:26:11.528Z"
   },
   {
    "duration": 8,
    "start_time": "2022-04-18T09:26:11.540Z"
   },
   {
    "duration": 16,
    "start_time": "2022-04-18T09:26:11.550Z"
   },
   {
    "duration": 40,
    "start_time": "2022-04-18T09:26:11.567Z"
   },
   {
    "duration": 6,
    "start_time": "2022-04-18T09:26:11.609Z"
   },
   {
    "duration": 18,
    "start_time": "2022-04-18T09:26:11.617Z"
   },
   {
    "duration": 5,
    "start_time": "2022-04-18T09:55:10.917Z"
   },
   {
    "duration": 404,
    "start_time": "2022-04-18T09:57:43.912Z"
   },
   {
    "duration": 4,
    "start_time": "2022-04-18T10:00:51.471Z"
   },
   {
    "duration": 810,
    "start_time": "2022-04-18T10:07:18.470Z"
   },
   {
    "duration": 703,
    "start_time": "2022-04-18T10:07:35.141Z"
   },
   {
    "duration": 736,
    "start_time": "2022-04-18T10:07:43.755Z"
   },
   {
    "duration": 796,
    "start_time": "2022-04-18T10:09:32.508Z"
   },
   {
    "duration": 737,
    "start_time": "2022-04-18T10:10:31.966Z"
   },
   {
    "duration": 8,
    "start_time": "2022-04-18T10:10:50.973Z"
   },
   {
    "duration": 28,
    "start_time": "2022-04-18T10:10:57.683Z"
   },
   {
    "duration": 94,
    "start_time": "2022-04-18T10:13:41.972Z"
   },
   {
    "duration": 70,
    "start_time": "2022-04-18T10:13:52.244Z"
   },
   {
    "duration": 89,
    "start_time": "2022-04-18T10:13:57.232Z"
   },
   {
    "duration": 38,
    "start_time": "2022-04-18T10:14:32.006Z"
   },
   {
    "duration": 76,
    "start_time": "2022-04-18T10:14:50.090Z"
   },
   {
    "duration": 98,
    "start_time": "2022-04-18T10:14:50.168Z"
   },
   {
    "duration": 29,
    "start_time": "2022-04-18T10:14:50.267Z"
   },
   {
    "duration": 8,
    "start_time": "2022-04-18T10:14:50.308Z"
   },
   {
    "duration": 8,
    "start_time": "2022-04-18T10:14:50.318Z"
   },
   {
    "duration": 15,
    "start_time": "2022-04-18T10:14:50.327Z"
   },
   {
    "duration": 10,
    "start_time": "2022-04-18T10:14:50.343Z"
   },
   {
    "duration": 5,
    "start_time": "2022-04-18T10:14:50.354Z"
   },
   {
    "duration": 13,
    "start_time": "2022-04-18T10:14:50.360Z"
   },
   {
    "duration": 4,
    "start_time": "2022-04-18T10:14:50.407Z"
   },
   {
    "duration": 70,
    "start_time": "2022-04-18T10:20:23.191Z"
   },
   {
    "duration": 96,
    "start_time": "2022-04-18T10:20:23.263Z"
   },
   {
    "duration": 10,
    "start_time": "2022-04-18T10:20:24.141Z"
   },
   {
    "duration": 9,
    "start_time": "2022-04-18T10:20:30.017Z"
   },
   {
    "duration": 17,
    "start_time": "2022-04-18T10:20:33.371Z"
   },
   {
    "duration": 8,
    "start_time": "2022-04-18T10:20:33.390Z"
   },
   {
    "duration": 71,
    "start_time": "2022-04-18T10:21:49.234Z"
   },
   {
    "duration": 91,
    "start_time": "2022-04-18T10:21:49.307Z"
   },
   {
    "duration": 13,
    "start_time": "2022-04-18T10:21:49.399Z"
   },
   {
    "duration": 18,
    "start_time": "2022-04-18T10:21:49.414Z"
   },
   {
    "duration": 50,
    "start_time": "2022-04-18T10:21:49.434Z"
   },
   {
    "duration": 47,
    "start_time": "2022-04-18T10:21:49.486Z"
   },
   {
    "duration": 9,
    "start_time": "2022-04-18T10:21:49.535Z"
   },
   {
    "duration": 48,
    "start_time": "2022-04-18T10:21:49.545Z"
   },
   {
    "duration": 27,
    "start_time": "2022-04-18T10:21:49.594Z"
   },
   {
    "duration": 48,
    "start_time": "2022-04-18T10:21:49.623Z"
   },
   {
    "duration": 7,
    "start_time": "2022-04-18T10:22:11.970Z"
   },
   {
    "duration": 10,
    "start_time": "2022-04-18T10:25:38.167Z"
   },
   {
    "duration": 31,
    "start_time": "2022-04-18T10:25:44.760Z"
   },
   {
    "duration": 37,
    "start_time": "2022-04-18T10:26:05.336Z"
   },
   {
    "duration": 36,
    "start_time": "2022-04-18T10:26:26.617Z"
   },
   {
    "duration": 18,
    "start_time": "2022-04-18T10:26:40.794Z"
   },
   {
    "duration": 47,
    "start_time": "2022-04-18T10:28:47.838Z"
   },
   {
    "duration": 14,
    "start_time": "2022-04-18T10:32:28.769Z"
   },
   {
    "duration": 13,
    "start_time": "2022-04-18T10:34:52.927Z"
   },
   {
    "duration": 17,
    "start_time": "2022-04-18T10:35:10.413Z"
   },
   {
    "duration": 114,
    "start_time": "2022-04-18T10:35:39.576Z"
   },
   {
    "duration": 291,
    "start_time": "2022-04-18T10:40:08.065Z"
   },
   {
    "duration": 5,
    "start_time": "2022-04-18T10:40:17.571Z"
   },
   {
    "duration": 24,
    "start_time": "2022-04-18T10:40:24.714Z"
   },
   {
    "duration": 72,
    "start_time": "2022-04-18T10:46:43.502Z"
   },
   {
    "duration": 109,
    "start_time": "2022-04-18T10:46:43.575Z"
   },
   {
    "duration": 8,
    "start_time": "2022-04-18T10:46:43.686Z"
   },
   {
    "duration": 20,
    "start_time": "2022-04-18T10:46:43.696Z"
   },
   {
    "duration": 15,
    "start_time": "2022-04-18T10:46:43.717Z"
   },
   {
    "duration": 9,
    "start_time": "2022-04-18T10:46:43.733Z"
   },
   {
    "duration": 5,
    "start_time": "2022-04-18T10:46:43.743Z"
   },
   {
    "duration": 19,
    "start_time": "2022-04-18T10:46:43.750Z"
   },
   {
    "duration": 3,
    "start_time": "2022-04-18T10:46:43.771Z"
   },
   {
    "duration": 52,
    "start_time": "2022-04-18T10:46:43.776Z"
   },
   {
    "duration": 38,
    "start_time": "2022-04-18T10:46:43.830Z"
   },
   {
    "duration": 302,
    "start_time": "2022-04-18T10:46:43.870Z"
   },
   {
    "duration": 25,
    "start_time": "2022-04-18T10:46:44.174Z"
   },
   {
    "duration": 6,
    "start_time": "2022-04-18T10:47:31.324Z"
   },
   {
    "duration": 6,
    "start_time": "2022-04-18T10:52:34.084Z"
   },
   {
    "duration": 26,
    "start_time": "2022-04-18T10:52:46.261Z"
   },
   {
    "duration": 5,
    "start_time": "2022-04-18T10:54:38.804Z"
   },
   {
    "duration": 28,
    "start_time": "2022-04-18T10:56:28.159Z"
   },
   {
    "duration": 177,
    "start_time": "2022-04-18T12:10:38.501Z"
   },
   {
    "duration": 216,
    "start_time": "2022-04-18T12:11:13.379Z"
   },
   {
    "duration": 296,
    "start_time": "2022-04-18T12:11:29.124Z"
   },
   {
    "duration": 227,
    "start_time": "2022-04-18T12:11:43.244Z"
   },
   {
    "duration": 636,
    "start_time": "2022-04-18T12:13:02.801Z"
   },
   {
    "duration": 89,
    "start_time": "2022-04-18T12:13:29.348Z"
   },
   {
    "duration": 681,
    "start_time": "2022-04-18T12:13:38.531Z"
   },
   {
    "duration": 230,
    "start_time": "2022-04-18T12:14:08.375Z"
   },
   {
    "duration": 222,
    "start_time": "2022-04-18T12:14:10.775Z"
   },
   {
    "duration": 252,
    "start_time": "2022-04-18T12:14:12.521Z"
   },
   {
    "duration": 248,
    "start_time": "2022-04-18T12:14:16.033Z"
   },
   {
    "duration": 325,
    "start_time": "2022-04-18T13:55:16.117Z"
   },
   {
    "duration": 189,
    "start_time": "2022-04-18T13:55:59.203Z"
   },
   {
    "duration": 254,
    "start_time": "2022-04-18T13:56:02.628Z"
   },
   {
    "duration": 253,
    "start_time": "2022-04-18T13:56:14.249Z"
   },
   {
    "duration": 9,
    "start_time": "2022-04-18T14:17:33.172Z"
   },
   {
    "duration": 11,
    "start_time": "2022-04-18T14:18:26.384Z"
   },
   {
    "duration": 81,
    "start_time": "2022-04-20T08:36:13.652Z"
   },
   {
    "duration": 11,
    "start_time": "2022-04-20T08:36:31.206Z"
   },
   {
    "duration": 1387,
    "start_time": "2022-04-20T08:36:35.635Z"
   },
   {
    "duration": 154,
    "start_time": "2022-04-20T08:36:37.026Z"
   },
   {
    "duration": 16,
    "start_time": "2022-04-20T08:36:37.183Z"
   },
   {
    "duration": 15,
    "start_time": "2022-04-20T08:36:37.201Z"
   },
   {
    "duration": 51,
    "start_time": "2022-04-20T08:36:37.221Z"
   },
   {
    "duration": 13,
    "start_time": "2022-04-20T08:36:37.275Z"
   },
   {
    "duration": 8,
    "start_time": "2022-04-20T08:36:37.290Z"
   },
   {
    "duration": 62,
    "start_time": "2022-04-20T08:36:37.301Z"
   },
   {
    "duration": 12,
    "start_time": "2022-04-20T08:36:37.366Z"
   },
   {
    "duration": 28,
    "start_time": "2022-04-20T08:36:37.381Z"
   },
   {
    "duration": 110,
    "start_time": "2022-04-20T08:36:37.411Z"
   },
   {
    "duration": 506,
    "start_time": "2022-04-20T08:36:37.523Z"
   },
   {
    "duration": 7,
    "start_time": "2022-04-20T08:36:38.031Z"
   },
   {
    "duration": 45,
    "start_time": "2022-04-20T08:36:38.054Z"
   },
   {
    "duration": 460,
    "start_time": "2022-04-20T08:36:38.101Z"
   },
   {
    "duration": 518,
    "start_time": "2022-04-20T08:36:38.564Z"
   },
   {
    "duration": 423,
    "start_time": "2022-04-20T08:36:39.086Z"
   },
   {
    "duration": 420,
    "start_time": "2022-04-20T08:36:39.512Z"
   },
   {
    "duration": 392,
    "start_time": "2022-04-20T08:36:39.934Z"
   },
   {
    "duration": 32,
    "start_time": "2022-04-20T08:36:40.329Z"
   },
   {
    "duration": 61,
    "start_time": "2022-04-20T08:36:40.364Z"
   },
   {
    "duration": 135,
    "start_time": "2022-04-20T08:37:31.673Z"
   },
   {
    "duration": 105,
    "start_time": "2022-04-20T08:37:37.513Z"
   },
   {
    "duration": 156,
    "start_time": "2022-04-20T08:37:37.621Z"
   },
   {
    "duration": 13,
    "start_time": "2022-04-20T08:37:37.782Z"
   },
   {
    "duration": 12,
    "start_time": "2022-04-20T08:37:37.798Z"
   },
   {
    "duration": 63,
    "start_time": "2022-04-20T08:37:37.813Z"
   },
   {
    "duration": 11,
    "start_time": "2022-04-20T08:37:37.879Z"
   },
   {
    "duration": 9,
    "start_time": "2022-04-20T08:37:37.893Z"
   },
   {
    "duration": 54,
    "start_time": "2022-04-20T08:37:37.905Z"
   },
   {
    "duration": 6,
    "start_time": "2022-04-20T08:37:37.966Z"
   },
   {
    "duration": 37,
    "start_time": "2022-04-20T08:37:37.978Z"
   },
   {
    "duration": 89,
    "start_time": "2022-04-20T08:37:38.017Z"
   },
   {
    "duration": 612,
    "start_time": "2022-04-20T08:37:38.109Z"
   },
   {
    "duration": 7,
    "start_time": "2022-04-20T08:37:38.723Z"
   },
   {
    "duration": 66,
    "start_time": "2022-04-20T08:37:38.732Z"
   },
   {
    "duration": 728,
    "start_time": "2022-04-20T08:37:38.802Z"
   },
   {
    "duration": 506,
    "start_time": "2022-04-20T08:37:39.533Z"
   },
   {
    "duration": 587,
    "start_time": "2022-04-20T08:37:40.048Z"
   },
   {
    "duration": 553,
    "start_time": "2022-04-20T08:37:40.638Z"
   },
   {
    "duration": 695,
    "start_time": "2022-04-20T08:37:41.193Z"
   },
   {
    "duration": 17,
    "start_time": "2022-04-20T08:37:41.891Z"
   },
   {
    "duration": 48,
    "start_time": "2022-04-20T08:37:41.911Z"
   },
   {
    "duration": 1179,
    "start_time": "2022-04-20T08:39:12.308Z"
   },
   {
    "duration": 226,
    "start_time": "2022-04-20T08:39:30.985Z"
   },
   {
    "duration": 1771,
    "start_time": "2022-04-20T08:39:39.321Z"
   },
   {
    "duration": 277,
    "start_time": "2022-04-20T08:39:59.877Z"
   },
   {
    "duration": 19,
    "start_time": "2022-04-20T08:43:06.678Z"
   },
   {
    "duration": 156,
    "start_time": "2022-04-20T08:43:11.190Z"
   },
   {
    "duration": 22,
    "start_time": "2022-04-20T08:43:26.292Z"
   },
   {
    "duration": 187,
    "start_time": "2022-04-20T08:43:38.616Z"
   },
   {
    "duration": 32,
    "start_time": "2022-04-20T08:43:43.037Z"
   },
   {
    "duration": 199,
    "start_time": "2022-04-20T08:45:29.299Z"
   },
   {
    "duration": 210,
    "start_time": "2022-04-20T08:45:35.569Z"
   },
   {
    "duration": 351,
    "start_time": "2022-04-20T08:45:44.383Z"
   },
   {
    "duration": 224,
    "start_time": "2022-04-20T08:46:00.077Z"
   },
   {
    "duration": 223,
    "start_time": "2022-04-20T08:46:34.856Z"
   },
   {
    "duration": 7,
    "start_time": "2022-04-20T08:48:55.104Z"
   },
   {
    "duration": 497,
    "start_time": "2022-04-20T09:20:19.229Z"
   },
   {
    "duration": 134,
    "start_time": "2022-04-20T09:25:19.178Z"
   },
   {
    "duration": 111,
    "start_time": "2022-04-20T09:26:19.264Z"
   },
   {
    "duration": 135,
    "start_time": "2022-04-20T09:26:25.432Z"
   },
   {
    "duration": 2587,
    "start_time": "2022-04-20T09:28:27.832Z"
   },
   {
    "duration": 2227,
    "start_time": "2022-04-20T09:28:40.976Z"
   },
   {
    "duration": 7,
    "start_time": "2022-04-20T09:28:49.394Z"
   },
   {
    "duration": 18,
    "start_time": "2022-04-20T09:30:15.782Z"
   },
   {
    "duration": 18,
    "start_time": "2022-04-20T09:30:26.505Z"
   },
   {
    "duration": 8,
    "start_time": "2022-04-20T09:34:57.365Z"
   },
   {
    "duration": 9,
    "start_time": "2022-04-20T09:35:04.149Z"
   },
   {
    "duration": 12,
    "start_time": "2022-04-20T09:35:12.334Z"
   },
   {
    "duration": 8,
    "start_time": "2022-04-20T09:51:06.774Z"
   },
   {
    "duration": 64,
    "start_time": "2022-04-20T09:51:33.532Z"
   },
   {
    "duration": 56,
    "start_time": "2022-04-20T09:53:47.591Z"
   },
   {
    "duration": 46,
    "start_time": "2022-04-20T09:54:25.199Z"
   },
   {
    "duration": 20,
    "start_time": "2022-04-20T09:55:12.560Z"
   },
   {
    "duration": 10,
    "start_time": "2022-04-20T09:55:50.032Z"
   },
   {
    "duration": 96,
    "start_time": "2022-04-20T09:59:10.930Z"
   },
   {
    "duration": 19,
    "start_time": "2022-04-20T10:00:24.379Z"
   },
   {
    "duration": 18,
    "start_time": "2022-04-20T10:00:35.123Z"
   },
   {
    "duration": 23,
    "start_time": "2022-04-20T10:00:51.043Z"
   },
   {
    "duration": 19,
    "start_time": "2022-04-20T10:00:53.513Z"
   },
   {
    "duration": 19,
    "start_time": "2022-04-20T10:01:00.304Z"
   },
   {
    "duration": 7,
    "start_time": "2022-04-20T10:01:08.076Z"
   },
   {
    "duration": 70,
    "start_time": "2022-04-20T10:01:27.952Z"
   },
   {
    "duration": 6,
    "start_time": "2022-04-20T10:02:07.483Z"
   },
   {
    "duration": 2304,
    "start_time": "2022-04-20T10:02:52.350Z"
   },
   {
    "duration": 2353,
    "start_time": "2022-04-20T10:03:27.405Z"
   },
   {
    "duration": 46,
    "start_time": "2022-04-20T10:04:40.192Z"
   },
   {
    "duration": 50,
    "start_time": "2022-04-20T10:05:04.420Z"
   },
   {
    "duration": 2313,
    "start_time": "2022-04-20T10:05:30.901Z"
   },
   {
    "duration": 2514,
    "start_time": "2022-04-20T10:07:54.944Z"
   },
   {
    "duration": 58,
    "start_time": "2022-04-20T10:08:14.333Z"
   },
   {
    "duration": 129,
    "start_time": "2022-04-20T10:08:21.512Z"
   },
   {
    "duration": 64,
    "start_time": "2022-04-20T10:08:25.915Z"
   },
   {
    "duration": 4,
    "start_time": "2022-04-20T10:09:52.845Z"
   },
   {
    "duration": 6,
    "start_time": "2022-04-20T10:09:55.646Z"
   },
   {
    "duration": 2081,
    "start_time": "2022-04-20T10:10:37.450Z"
   },
   {
    "duration": 2297,
    "start_time": "2022-04-20T10:10:54.984Z"
   },
   {
    "duration": 12,
    "start_time": "2022-04-20T10:11:13.254Z"
   },
   {
    "duration": 9,
    "start_time": "2022-04-20T10:11:46.144Z"
   },
   {
    "duration": 25,
    "start_time": "2022-04-20T10:12:26.434Z"
   },
   {
    "duration": 5,
    "start_time": "2022-04-20T10:12:36.099Z"
   },
   {
    "duration": 6,
    "start_time": "2022-04-20T10:12:50.993Z"
   },
   {
    "duration": 152,
    "start_time": "2022-04-20T10:13:58.416Z"
   },
   {
    "duration": 136,
    "start_time": "2022-04-20T10:20:39.780Z"
   },
   {
    "duration": 213,
    "start_time": "2022-04-20T10:21:04.099Z"
   },
   {
    "duration": 59,
    "start_time": "2022-04-20T10:21:30.580Z"
   },
   {
    "duration": 11,
    "start_time": "2022-04-20T10:21:54.718Z"
   },
   {
    "duration": 69,
    "start_time": "2022-04-20T10:21:58.520Z"
   },
   {
    "duration": 217,
    "start_time": "2022-04-20T10:25:27.726Z"
   },
   {
    "duration": 143,
    "start_time": "2022-04-20T10:25:41.068Z"
   },
   {
    "duration": 2704,
    "start_time": "2022-04-20T10:25:46.952Z"
   },
   {
    "duration": 70,
    "start_time": "2022-04-20T10:26:46.076Z"
   },
   {
    "duration": 15,
    "start_time": "2022-04-20T10:32:04.749Z"
   },
   {
    "duration": 56,
    "start_time": "2022-04-20T10:32:10.481Z"
   },
   {
    "duration": 15,
    "start_time": "2022-04-20T10:34:11.792Z"
   },
   {
    "duration": 6,
    "start_time": "2022-04-20T10:34:33.121Z"
   },
   {
    "duration": 60,
    "start_time": "2022-04-20T10:34:58.086Z"
   },
   {
    "duration": 6,
    "start_time": "2022-04-20T10:35:07.193Z"
   },
   {
    "duration": 455,
    "start_time": "2022-04-20T11:23:23.570Z"
   },
   {
    "duration": 549,
    "start_time": "2022-04-20T11:25:45.240Z"
   },
   {
    "duration": 425,
    "start_time": "2022-04-20T11:26:21.129Z"
   },
   {
    "duration": 418,
    "start_time": "2022-04-20T11:30:43.465Z"
   },
   {
    "duration": 376,
    "start_time": "2022-04-20T11:32:21.125Z"
   },
   {
    "duration": 2724,
    "start_time": "2022-04-20T11:40:53.093Z"
   },
   {
    "duration": 421,
    "start_time": "2022-04-20T11:41:17.981Z"
   },
   {
    "duration": 493,
    "start_time": "2022-04-20T11:41:26.636Z"
   },
   {
    "duration": 355,
    "start_time": "2022-04-20T11:42:09.184Z"
   },
   {
    "duration": 2724,
    "start_time": "2022-04-20T11:42:14.174Z"
   },
   {
    "duration": 4047,
    "start_time": "2022-04-20T11:42:43.881Z"
   },
   {
    "duration": 439,
    "start_time": "2022-04-20T11:43:19.822Z"
   },
   {
    "duration": 6,
    "start_time": "2022-04-20T11:45:41.880Z"
   },
   {
    "duration": 19,
    "start_time": "2022-04-20T11:45:52.946Z"
   },
   {
    "duration": 31,
    "start_time": "2022-04-20T11:46:16.076Z"
   },
   {
    "duration": 13,
    "start_time": "2022-04-20T11:54:16.221Z"
   },
   {
    "duration": 358,
    "start_time": "2022-04-20T11:55:16.937Z"
   },
   {
    "duration": 344,
    "start_time": "2022-04-20T11:55:59.813Z"
   },
   {
    "duration": 321,
    "start_time": "2022-04-20T11:56:08.933Z"
   },
   {
    "duration": 465,
    "start_time": "2022-04-20T11:56:35.866Z"
   },
   {
    "duration": 377,
    "start_time": "2022-04-20T11:58:04.307Z"
   },
   {
    "duration": 378,
    "start_time": "2022-04-20T11:58:27.809Z"
   },
   {
    "duration": 6,
    "start_time": "2022-04-20T12:01:28.577Z"
   },
   {
    "duration": 19,
    "start_time": "2022-04-20T12:01:43.376Z"
   },
   {
    "duration": 3907,
    "start_time": "2022-04-20T12:02:47.501Z"
   },
   {
    "duration": 4265,
    "start_time": "2022-04-20T12:03:12.914Z"
   },
   {
    "duration": 27,
    "start_time": "2022-04-20T12:05:32.252Z"
   },
   {
    "duration": 412,
    "start_time": "2022-04-20T12:10:18.246Z"
   },
   {
    "duration": 1333,
    "start_time": "2022-04-23T18:06:55.426Z"
   },
   {
    "duration": 156,
    "start_time": "2022-04-23T18:06:56.763Z"
   },
   {
    "duration": 20,
    "start_time": "2022-04-23T18:06:56.924Z"
   },
   {
    "duration": 12,
    "start_time": "2022-04-23T18:06:56.947Z"
   },
   {
    "duration": 23,
    "start_time": "2022-04-23T18:06:56.961Z"
   },
   {
    "duration": 45,
    "start_time": "2022-04-23T18:06:56.987Z"
   },
   {
    "duration": 7,
    "start_time": "2022-04-23T18:06:57.035Z"
   },
   {
    "duration": 28,
    "start_time": "2022-04-23T18:06:57.044Z"
   },
   {
    "duration": 57,
    "start_time": "2022-04-23T18:06:57.075Z"
   },
   {
    "duration": 27,
    "start_time": "2022-04-23T18:06:57.137Z"
   },
   {
    "duration": 91,
    "start_time": "2022-04-23T18:06:57.165Z"
   },
   {
    "duration": 519,
    "start_time": "2022-04-23T18:06:57.259Z"
   },
   {
    "duration": 8,
    "start_time": "2022-04-23T18:06:57.780Z"
   },
   {
    "duration": 74,
    "start_time": "2022-04-23T18:06:57.791Z"
   },
   {
    "duration": 564,
    "start_time": "2022-04-23T18:06:57.868Z"
   },
   {
    "duration": 460,
    "start_time": "2022-04-23T18:06:58.435Z"
   },
   {
    "duration": 468,
    "start_time": "2022-04-23T18:06:58.897Z"
   },
   {
    "duration": 415,
    "start_time": "2022-04-23T18:06:59.367Z"
   },
   {
    "duration": 7,
    "start_time": "2022-04-23T18:06:59.784Z"
   },
   {
    "duration": 438,
    "start_time": "2022-04-23T18:06:59.794Z"
   },
   {
    "duration": 210,
    "start_time": "2022-04-23T18:07:00.235Z"
   },
   {
    "duration": 15,
    "start_time": "2022-04-23T18:07:00.448Z"
   },
   {
    "duration": 167,
    "start_time": "2022-04-23T18:07:00.466Z"
   },
   {
    "duration": 8,
    "start_time": "2022-04-23T18:07:00.636Z"
   },
   {
    "duration": 435,
    "start_time": "2022-04-23T18:07:00.647Z"
   },
   {
    "duration": 389,
    "start_time": "2022-04-23T18:07:01.085Z"
   },
   {
    "duration": 390,
    "start_time": "2022-04-23T18:07:01.477Z"
   },
   {
    "duration": 18,
    "start_time": "2022-04-23T18:07:01.875Z"
   },
   {
    "duration": 339,
    "start_time": "2022-04-23T18:07:01.895Z"
   },
   {
    "duration": 3332,
    "start_time": "2022-04-23T18:07:02.237Z"
   },
   {
    "duration": 299,
    "start_time": "2022-04-23T18:07:05.572Z"
   },
   {
    "duration": 7,
    "start_time": "2022-04-23T18:30:46.080Z"
   },
   {
    "duration": 7,
    "start_time": "2022-04-23T18:30:52.464Z"
   },
   {
    "duration": 17,
    "start_time": "2022-04-23T18:31:15.422Z"
   },
   {
    "duration": 12,
    "start_time": "2022-04-23T18:31:26.274Z"
   },
   {
    "duration": 10,
    "start_time": "2022-04-23T18:31:43.387Z"
   },
   {
    "duration": 11,
    "start_time": "2022-04-23T18:31:47.156Z"
   },
   {
    "duration": 8,
    "start_time": "2022-04-23T18:32:37.954Z"
   },
   {
    "duration": 120,
    "start_time": "2022-04-23T18:32:42.332Z"
   },
   {
    "duration": 7,
    "start_time": "2022-04-23T18:32:44.755Z"
   },
   {
    "duration": 6,
    "start_time": "2022-04-23T18:33:01.795Z"
   },
   {
    "duration": 6,
    "start_time": "2022-04-23T18:33:05.315Z"
   },
   {
    "duration": 8,
    "start_time": "2022-04-23T18:33:09.169Z"
   },
   {
    "duration": 7,
    "start_time": "2022-04-23T18:39:56.945Z"
   },
   {
    "duration": 6,
    "start_time": "2022-04-23T18:39:59.396Z"
   },
   {
    "duration": 130,
    "start_time": "2022-04-23T19:23:40.369Z"
   },
   {
    "duration": 7,
    "start_time": "2022-04-23T19:23:45.966Z"
   },
   {
    "duration": 34,
    "start_time": "2022-04-23T19:23:47.605Z"
   },
   {
    "duration": 24,
    "start_time": "2022-04-23T19:24:05.062Z"
   },
   {
    "duration": 43,
    "start_time": "2022-04-23T19:24:09.804Z"
   },
   {
    "duration": 59,
    "start_time": "2022-04-23T19:24:17.790Z"
   },
   {
    "duration": 42,
    "start_time": "2022-04-23T19:24:53.128Z"
   },
   {
    "duration": 15,
    "start_time": "2022-04-23T19:25:07.091Z"
   },
   {
    "duration": 7,
    "start_time": "2022-04-23T19:25:30.036Z"
   },
   {
    "duration": 13,
    "start_time": "2022-04-23T19:25:33.634Z"
   },
   {
    "duration": 12,
    "start_time": "2022-04-23T19:25:35.739Z"
   },
   {
    "duration": 16,
    "start_time": "2022-04-23T19:26:12.711Z"
   },
   {
    "duration": 45,
    "start_time": "2022-04-23T19:26:44.825Z"
   },
   {
    "duration": 65,
    "start_time": "2022-04-23T19:26:53.485Z"
   },
   {
    "duration": 15,
    "start_time": "2022-04-23T19:33:38.030Z"
   },
   {
    "duration": 15,
    "start_time": "2022-04-23T19:33:54.973Z"
   },
   {
    "duration": 23,
    "start_time": "2022-04-23T19:40:12.709Z"
   },
   {
    "duration": 25,
    "start_time": "2022-04-23T19:50:18.576Z"
   },
   {
    "duration": 25,
    "start_time": "2022-04-23T19:50:24.058Z"
   },
   {
    "duration": 21,
    "start_time": "2022-04-23T19:51:14.131Z"
   },
   {
    "duration": 26,
    "start_time": "2022-04-23T19:51:23.850Z"
   },
   {
    "duration": 45,
    "start_time": "2022-04-23T19:52:03.865Z"
   },
   {
    "duration": 49,
    "start_time": "2022-04-23T19:52:05.963Z"
   },
   {
    "duration": 21,
    "start_time": "2022-04-23T19:52:12.252Z"
   },
   {
    "duration": 23,
    "start_time": "2022-04-23T19:52:15.111Z"
   },
   {
    "duration": 139,
    "start_time": "2022-04-23T19:53:20.056Z"
   },
   {
    "duration": 30,
    "start_time": "2022-04-23T19:53:23.626Z"
   },
   {
    "duration": 21,
    "start_time": "2022-04-23T19:53:38.528Z"
   },
   {
    "duration": 21,
    "start_time": "2022-04-23T19:54:03.586Z"
   },
   {
    "duration": 23,
    "start_time": "2022-04-23T19:54:10.705Z"
   },
   {
    "duration": 33,
    "start_time": "2022-04-23T19:55:48.234Z"
   },
   {
    "duration": 36,
    "start_time": "2022-04-23T19:56:04.217Z"
   },
   {
    "duration": 22,
    "start_time": "2022-04-23T19:56:39.745Z"
   },
   {
    "duration": 12,
    "start_time": "2022-04-23T19:56:51.744Z"
   },
   {
    "duration": 22,
    "start_time": "2022-04-23T19:56:57.275Z"
   },
   {
    "duration": 22,
    "start_time": "2022-04-23T19:57:33.886Z"
   },
   {
    "duration": 23,
    "start_time": "2022-04-23T19:58:57.634Z"
   },
   {
    "duration": 219,
    "start_time": "2022-04-23T20:00:07.127Z"
   },
   {
    "duration": 233,
    "start_time": "2022-04-23T20:00:10.088Z"
   },
   {
    "duration": 60,
    "start_time": "2022-04-23T20:01:04.612Z"
   },
   {
    "duration": 25,
    "start_time": "2022-04-23T20:01:16.935Z"
   },
   {
    "duration": 62,
    "start_time": "2022-04-23T20:01:36.859Z"
   },
   {
    "duration": 7,
    "start_time": "2022-04-23T20:02:11.432Z"
   },
   {
    "duration": 7,
    "start_time": "2022-04-23T20:02:13.360Z"
   },
   {
    "duration": 43,
    "start_time": "2022-04-23T20:02:47.088Z"
   },
   {
    "duration": 8,
    "start_time": "2022-04-23T20:02:50.926Z"
   },
   {
    "duration": 24,
    "start_time": "2022-04-23T20:02:53.894Z"
   },
   {
    "duration": 37,
    "start_time": "2022-04-23T20:03:04.952Z"
   },
   {
    "duration": 9,
    "start_time": "2022-04-23T20:04:06.992Z"
   },
   {
    "duration": 65,
    "start_time": "2022-04-23T20:04:09.885Z"
   },
   {
    "duration": 62,
    "start_time": "2022-04-23T20:05:12.558Z"
   },
   {
    "duration": 7,
    "start_time": "2022-04-23T20:05:17.719Z"
   },
   {
    "duration": 7,
    "start_time": "2022-04-23T20:05:19.337Z"
   },
   {
    "duration": 15,
    "start_time": "2022-04-23T20:05:41.486Z"
   },
   {
    "duration": 66,
    "start_time": "2022-04-23T20:05:45.515Z"
   },
   {
    "duration": 11,
    "start_time": "2022-04-23T20:06:12.727Z"
   },
   {
    "duration": 27,
    "start_time": "2022-04-23T20:06:37.083Z"
   },
   {
    "duration": 20,
    "start_time": "2022-04-23T20:06:47.262Z"
   },
   {
    "duration": 18,
    "start_time": "2022-04-23T20:06:54.364Z"
   },
   {
    "duration": 20,
    "start_time": "2022-04-23T20:07:11.734Z"
   },
   {
    "duration": 21,
    "start_time": "2022-04-23T20:07:44.437Z"
   },
   {
    "duration": 21,
    "start_time": "2022-04-23T20:07:54.331Z"
   },
   {
    "duration": 257,
    "start_time": "2022-04-23T20:12:11.316Z"
   },
   {
    "duration": 332,
    "start_time": "2022-04-23T20:12:22.716Z"
   },
   {
    "duration": 394,
    "start_time": "2022-04-23T20:12:39.886Z"
   },
   {
    "duration": 21,
    "start_time": "2022-04-23T20:12:52.772Z"
   },
   {
    "duration": 158,
    "start_time": "2022-04-23T20:14:28.539Z"
   },
   {
    "duration": 344,
    "start_time": "2022-04-23T20:14:36.291Z"
   },
   {
    "duration": 523,
    "start_time": "2022-04-23T20:14:55.244Z"
   },
   {
    "duration": 55,
    "start_time": "2022-04-23T20:15:09.120Z"
   },
   {
    "duration": 129,
    "start_time": "2022-04-23T20:15:14.589Z"
   },
   {
    "duration": 139,
    "start_time": "2022-04-23T20:15:20.340Z"
   },
   {
    "duration": 358,
    "start_time": "2022-04-23T20:15:23.852Z"
   },
   {
    "duration": 495,
    "start_time": "2022-04-23T20:17:19.381Z"
   },
   {
    "duration": 669,
    "start_time": "2022-04-23T20:17:31.564Z"
   },
   {
    "duration": 453,
    "start_time": "2022-04-23T20:17:35.947Z"
   },
   {
    "duration": 387,
    "start_time": "2022-04-23T20:22:13.494Z"
   },
   {
    "duration": 287,
    "start_time": "2022-04-23T20:22:19.267Z"
   },
   {
    "duration": 220,
    "start_time": "2022-04-23T20:24:37.762Z"
   },
   {
    "duration": 296,
    "start_time": "2022-04-23T20:24:41.770Z"
   },
   {
    "duration": 526,
    "start_time": "2022-04-23T20:27:34.748Z"
   },
   {
    "duration": 284,
    "start_time": "2022-04-23T20:27:40.777Z"
   },
   {
    "duration": 20,
    "start_time": "2022-04-23T20:28:14.952Z"
   },
   {
    "duration": 21,
    "start_time": "2022-04-23T20:28:32.179Z"
   },
   {
    "duration": 21,
    "start_time": "2022-04-23T20:28:43.595Z"
   },
   {
    "duration": 9,
    "start_time": "2022-04-23T21:56:34.366Z"
   },
   {
    "duration": 59,
    "start_time": "2022-04-23T21:56:38.918Z"
   },
   {
    "duration": 9,
    "start_time": "2022-04-23T21:56:57.184Z"
   },
   {
    "duration": 5,
    "start_time": "2022-04-23T22:01:55.162Z"
   },
   {
    "duration": 9,
    "start_time": "2022-04-23T22:01:59.683Z"
   },
   {
    "duration": 6,
    "start_time": "2022-04-23T22:02:11.890Z"
   },
   {
    "duration": 69,
    "start_time": "2022-04-23T22:07:17.857Z"
   },
   {
    "duration": 7,
    "start_time": "2022-04-23T22:07:34.600Z"
   },
   {
    "duration": 11,
    "start_time": "2022-04-23T22:07:46.909Z"
   },
   {
    "duration": 10,
    "start_time": "2022-04-23T22:08:35.728Z"
   },
   {
    "duration": 7,
    "start_time": "2022-04-23T22:08:59.944Z"
   },
   {
    "duration": 193,
    "start_time": "2022-04-23T22:09:06.135Z"
   },
   {
    "duration": 34,
    "start_time": "2022-04-23T22:12:03.385Z"
   },
   {
    "duration": 240,
    "start_time": "2022-04-23T22:12:21.391Z"
   },
   {
    "duration": 261,
    "start_time": "2022-04-23T22:12:29.320Z"
   },
   {
    "duration": 321,
    "start_time": "2022-04-23T22:12:42.618Z"
   },
   {
    "duration": 2145,
    "start_time": "2022-04-23T22:13:24.400Z"
   },
   {
    "duration": 5,
    "start_time": "2022-04-23T22:13:41.822Z"
   },
   {
    "duration": 2407,
    "start_time": "2022-04-23T22:13:45.276Z"
   },
   {
    "duration": 28,
    "start_time": "2022-04-23T22:14:58.303Z"
   },
   {
    "duration": 2321,
    "start_time": "2022-04-23T22:15:38.782Z"
   },
   {
    "duration": 27,
    "start_time": "2022-04-23T22:15:52.240Z"
   },
   {
    "duration": 254,
    "start_time": "2022-04-23T22:16:09.830Z"
   },
   {
    "duration": 28,
    "start_time": "2022-04-23T22:17:20.775Z"
   },
   {
    "duration": 248,
    "start_time": "2022-04-23T22:17:35.967Z"
   },
   {
    "duration": 271,
    "start_time": "2022-04-23T22:20:57.453Z"
   },
   {
    "duration": 445,
    "start_time": "2022-04-23T22:21:01.332Z"
   },
   {
    "duration": 362,
    "start_time": "2022-04-23T22:21:12.742Z"
   },
   {
    "duration": 378,
    "start_time": "2022-04-23T22:25:27.516Z"
   },
   {
    "duration": 5,
    "start_time": "2022-04-23T22:25:33.284Z"
   },
   {
    "duration": 363,
    "start_time": "2022-04-23T22:25:34.779Z"
   },
   {
    "duration": 364,
    "start_time": "2022-04-23T22:26:15.108Z"
   },
   {
    "duration": 361,
    "start_time": "2022-04-23T22:29:25.379Z"
   },
   {
    "duration": 357,
    "start_time": "2022-04-23T22:29:46.311Z"
   },
   {
    "duration": 353,
    "start_time": "2022-04-23T22:30:52.512Z"
   },
   {
    "duration": 5,
    "start_time": "2022-04-23T22:38:24.175Z"
   },
   {
    "duration": 10,
    "start_time": "2022-04-23T22:38:26.536Z"
   },
   {
    "duration": 361,
    "start_time": "2022-04-23T22:38:27.968Z"
   },
   {
    "duration": 11,
    "start_time": "2022-04-23T22:39:02.192Z"
   },
   {
    "duration": 58,
    "start_time": "2022-04-23T22:39:07.295Z"
   },
   {
    "duration": 44,
    "start_time": "2022-04-23T22:39:15.772Z"
   },
   {
    "duration": 9,
    "start_time": "2022-04-23T22:40:21.134Z"
   },
   {
    "duration": 6,
    "start_time": "2022-04-23T22:45:14.271Z"
   },
   {
    "duration": 6,
    "start_time": "2022-04-23T22:45:17.244Z"
   },
   {
    "duration": 19,
    "start_time": "2022-04-23T22:45:23.902Z"
   },
   {
    "duration": 1296,
    "start_time": "2022-04-23T22:46:10.490Z"
   },
   {
    "duration": 1304,
    "start_time": "2022-04-23T22:46:45.797Z"
   },
   {
    "duration": 1336,
    "start_time": "2022-04-23T22:46:52.061Z"
   },
   {
    "duration": 2271,
    "start_time": "2022-04-23T22:47:01.557Z"
   },
   {
    "duration": 2183,
    "start_time": "2022-04-23T22:47:10.305Z"
   },
   {
    "duration": 15,
    "start_time": "2022-04-23T22:49:19.397Z"
   },
   {
    "duration": 15,
    "start_time": "2022-04-23T22:53:22.954Z"
   },
   {
    "duration": 14,
    "start_time": "2022-04-23T22:55:42.900Z"
   },
   {
    "duration": 265,
    "start_time": "2022-04-23T22:57:53.170Z"
   },
   {
    "duration": 271,
    "start_time": "2022-04-23T22:57:56.860Z"
   },
   {
    "duration": 271,
    "start_time": "2022-04-23T22:58:02.041Z"
   },
   {
    "duration": 268,
    "start_time": "2022-04-23T22:58:05.012Z"
   },
   {
    "duration": 211,
    "start_time": "2022-04-23T22:58:19.619Z"
   },
   {
    "duration": 13,
    "start_time": "2022-04-23T22:59:24.098Z"
   },
   {
    "duration": 12,
    "start_time": "2022-04-23T22:59:35.786Z"
   },
   {
    "duration": 12,
    "start_time": "2022-04-23T22:59:50.396Z"
   },
   {
    "duration": 2708,
    "start_time": "2022-04-23T23:01:21.089Z"
   },
   {
    "duration": 269,
    "start_time": "2022-04-23T23:02:04.627Z"
   },
   {
    "duration": 266,
    "start_time": "2022-04-23T23:02:19.593Z"
   },
   {
    "duration": 330,
    "start_time": "2022-04-23T23:02:24.849Z"
   },
   {
    "duration": 322,
    "start_time": "2022-04-23T23:02:40.521Z"
   },
   {
    "duration": 529,
    "start_time": "2022-04-23T23:02:51.545Z"
   },
   {
    "duration": 309,
    "start_time": "2022-04-23T23:03:02.961Z"
   },
   {
    "duration": 278,
    "start_time": "2022-04-23T23:10:20.040Z"
   },
   {
    "duration": 278,
    "start_time": "2022-04-23T23:10:36.897Z"
   },
   {
    "duration": 86,
    "start_time": "2022-04-24T10:03:41.412Z"
   },
   {
    "duration": 9,
    "start_time": "2022-04-24T10:04:07.542Z"
   },
   {
    "duration": 1362,
    "start_time": "2022-04-24T10:04:11.640Z"
   },
   {
    "duration": 153,
    "start_time": "2022-04-24T10:04:13.005Z"
   },
   {
    "duration": 14,
    "start_time": "2022-04-24T10:04:13.160Z"
   },
   {
    "duration": 15,
    "start_time": "2022-04-24T10:04:13.177Z"
   },
   {
    "duration": 55,
    "start_time": "2022-04-24T10:04:13.197Z"
   },
   {
    "duration": 12,
    "start_time": "2022-04-24T10:04:13.255Z"
   },
   {
    "duration": 8,
    "start_time": "2022-04-24T10:04:13.270Z"
   },
   {
    "duration": 63,
    "start_time": "2022-04-24T10:04:13.281Z"
   },
   {
    "duration": 7,
    "start_time": "2022-04-24T10:04:13.346Z"
   },
   {
    "duration": 37,
    "start_time": "2022-04-24T10:04:13.355Z"
   },
   {
    "duration": 85,
    "start_time": "2022-04-24T10:04:13.395Z"
   },
   {
    "duration": 512,
    "start_time": "2022-04-24T10:04:13.482Z"
   },
   {
    "duration": 7,
    "start_time": "2022-04-24T10:04:13.997Z"
   },
   {
    "duration": 59,
    "start_time": "2022-04-24T10:04:14.010Z"
   },
   {
    "duration": 471,
    "start_time": "2022-04-24T10:04:14.071Z"
   },
   {
    "duration": 450,
    "start_time": "2022-04-24T10:04:14.545Z"
   },
   {
    "duration": 440,
    "start_time": "2022-04-24T10:04:14.997Z"
   },
   {
    "duration": 405,
    "start_time": "2022-04-24T10:04:15.440Z"
   },
   {
    "duration": 9,
    "start_time": "2022-04-24T10:04:15.847Z"
   },
   {
    "duration": 427,
    "start_time": "2022-04-24T10:04:15.858Z"
   },
   {
    "duration": 217,
    "start_time": "2022-04-24T10:04:16.287Z"
   },
   {
    "duration": 20,
    "start_time": "2022-04-24T10:04:16.506Z"
   },
   {
    "duration": 157,
    "start_time": "2022-04-24T10:04:16.530Z"
   },
   {
    "duration": 7,
    "start_time": "2022-04-24T10:04:16.689Z"
   },
   {
    "duration": 344,
    "start_time": "2022-04-24T10:04:16.698Z"
   },
   {
    "duration": 305,
    "start_time": "2022-04-24T10:04:17.045Z"
   },
   {
    "duration": 308,
    "start_time": "2022-04-24T10:04:17.352Z"
   },
   {
    "duration": 16,
    "start_time": "2022-04-24T10:04:17.663Z"
   },
   {
    "duration": 313,
    "start_time": "2022-04-24T10:04:17.681Z"
   },
   {
    "duration": 3021,
    "start_time": "2022-04-24T10:04:17.996Z"
   },
   {
    "duration": 316,
    "start_time": "2022-04-24T10:04:21.020Z"
   },
   {
    "duration": 13,
    "start_time": "2022-04-24T10:04:21.339Z"
   },
   {
    "duration": 57,
    "start_time": "2022-04-24T10:04:21.354Z"
   },
   {
    "duration": 48,
    "start_time": "2022-04-24T10:04:21.414Z"
   },
   {
    "duration": 22,
    "start_time": "2022-04-24T10:04:21.464Z"
   },
   {
    "duration": 39,
    "start_time": "2022-04-24T10:04:21.490Z"
   },
   {
    "duration": 521,
    "start_time": "2022-04-24T10:04:21.532Z"
   },
   {
    "duration": 10,
    "start_time": "2022-04-24T10:04:22.056Z"
   },
   {
    "duration": 47,
    "start_time": "2022-04-24T10:04:22.069Z"
   },
   {
    "duration": 241,
    "start_time": "2022-04-24T10:04:22.119Z"
   },
   {
    "duration": 12,
    "start_time": "2022-04-24T10:04:22.366Z"
   },
   {
    "duration": 2939,
    "start_time": "2022-04-24T10:04:22.380Z"
   },
   {
    "duration": 308,
    "start_time": "2022-04-24T10:04:25.325Z"
   },
   {
    "duration": 74,
    "start_time": "2022-04-24T10:05:19.306Z"
   },
   {
    "duration": 7,
    "start_time": "2022-04-24T10:06:47.340Z"
   },
   {
    "duration": 11,
    "start_time": "2022-04-24T10:06:53.641Z"
   },
   {
    "duration": 12,
    "start_time": "2022-04-24T10:06:56.559Z"
   },
   {
    "duration": 8,
    "start_time": "2022-04-24T10:07:46.640Z"
   },
   {
    "duration": 7,
    "start_time": "2022-04-24T10:08:09.451Z"
   },
   {
    "duration": 14,
    "start_time": "2022-04-24T10:08:15.889Z"
   },
   {
    "duration": 6,
    "start_time": "2022-04-24T10:08:29.727Z"
   },
   {
    "duration": 89,
    "start_time": "2022-04-24T10:08:33.296Z"
   },
   {
    "duration": 169,
    "start_time": "2022-04-24T10:08:33.388Z"
   },
   {
    "duration": 15,
    "start_time": "2022-04-24T10:08:33.559Z"
   },
   {
    "duration": 30,
    "start_time": "2022-04-24T10:08:33.576Z"
   },
   {
    "duration": 35,
    "start_time": "2022-04-24T10:08:33.610Z"
   },
   {
    "duration": 14,
    "start_time": "2022-04-24T10:08:33.648Z"
   },
   {
    "duration": 12,
    "start_time": "2022-04-24T10:08:33.664Z"
   },
   {
    "duration": 70,
    "start_time": "2022-04-24T10:08:33.679Z"
   },
   {
    "duration": 7,
    "start_time": "2022-04-24T10:08:33.751Z"
   },
   {
    "duration": 337,
    "start_time": "2022-04-24T10:08:33.761Z"
   },
   {
    "duration": 314,
    "start_time": "2022-04-24T10:08:34.100Z"
   },
   {
    "duration": 944,
    "start_time": "2022-04-24T10:08:34.417Z"
   },
   {
    "duration": 11,
    "start_time": "2022-04-24T10:08:35.364Z"
   },
   {
    "duration": 81,
    "start_time": "2022-04-24T10:08:35.382Z"
   },
   {
    "duration": 567,
    "start_time": "2022-04-24T10:08:35.465Z"
   },
   {
    "duration": 654,
    "start_time": "2022-04-24T10:08:36.035Z"
   },
   {
    "duration": 406,
    "start_time": "2022-04-24T10:08:36.692Z"
   },
   {
    "duration": 387,
    "start_time": "2022-04-24T10:08:37.101Z"
   },
   {
    "duration": 8,
    "start_time": "2022-04-24T10:08:37.491Z"
   },
   {
    "duration": 399,
    "start_time": "2022-04-24T10:08:37.501Z"
   },
   {
    "duration": 188,
    "start_time": "2022-04-24T10:08:37.904Z"
   },
   {
    "duration": 30,
    "start_time": "2022-04-24T10:08:38.094Z"
   },
   {
    "duration": 107,
    "start_time": "2022-04-24T10:08:38.128Z"
   },
   {
    "duration": 7,
    "start_time": "2022-04-24T10:08:38.237Z"
   },
   {
    "duration": 310,
    "start_time": "2022-04-24T10:08:38.247Z"
   },
   {
    "duration": 425,
    "start_time": "2022-04-24T10:08:38.559Z"
   },
   {
    "duration": 296,
    "start_time": "2022-04-24T10:08:38.987Z"
   },
   {
    "duration": 18,
    "start_time": "2022-04-24T10:08:39.285Z"
   },
   {
    "duration": 288,
    "start_time": "2022-04-24T10:08:39.305Z"
   },
   {
    "duration": 2761,
    "start_time": "2022-04-24T10:08:39.596Z"
   },
   {
    "duration": 303,
    "start_time": "2022-04-24T10:08:42.360Z"
   },
   {
    "duration": 12,
    "start_time": "2022-04-24T10:08:42.666Z"
   },
   {
    "duration": 14,
    "start_time": "2022-04-24T10:08:42.681Z"
   },
   {
    "duration": 46,
    "start_time": "2022-04-24T10:08:42.698Z"
   },
   {
    "duration": 5,
    "start_time": "2022-04-24T10:08:42.746Z"
   },
   {
    "duration": 18,
    "start_time": "2022-04-24T10:08:42.753Z"
   },
   {
    "duration": 388,
    "start_time": "2022-04-24T10:08:42.773Z"
   },
   {
    "duration": 11,
    "start_time": "2022-04-24T10:08:43.163Z"
   },
   {
    "duration": 26,
    "start_time": "2022-04-24T10:08:43.176Z"
   },
   {
    "duration": 423,
    "start_time": "2022-04-24T10:08:43.205Z"
   },
   {
    "duration": 19,
    "start_time": "2022-04-24T10:08:43.636Z"
   },
   {
    "duration": 5161,
    "start_time": "2022-04-24T10:08:43.658Z"
   },
   {
    "duration": 293,
    "start_time": "2022-04-24T10:08:48.825Z"
   },
   {
    "duration": 470,
    "start_time": "2022-04-24T10:41:59.849Z"
   },
   {
    "duration": 486,
    "start_time": "2022-04-24T10:42:19.760Z"
   },
   {
    "duration": 263,
    "start_time": "2022-04-24T10:47:32.234Z"
   },
   {
    "duration": 226,
    "start_time": "2022-04-24T10:47:37.917Z"
   },
   {
    "duration": 311,
    "start_time": "2022-04-24T10:47:46.960Z"
   },
   {
    "duration": 25,
    "start_time": "2022-04-24T10:47:54.269Z"
   },
   {
    "duration": 19,
    "start_time": "2022-04-24T10:48:03.223Z"
   },
   {
    "duration": 16,
    "start_time": "2022-04-24T10:48:07.616Z"
   },
   {
    "duration": 194,
    "start_time": "2022-04-24T10:48:55.864Z"
   },
   {
    "duration": 2321,
    "start_time": "2022-04-24T10:50:14.031Z"
   },
   {
    "duration": 350,
    "start_time": "2022-04-24T10:50:28.524Z"
   },
   {
    "duration": 436,
    "start_time": "2022-04-24T10:50:59.257Z"
   },
   {
    "duration": 10,
    "start_time": "2022-04-24T10:52:50.184Z"
   },
   {
    "duration": 9,
    "start_time": "2022-04-24T10:53:31.113Z"
   },
   {
    "duration": 22,
    "start_time": "2022-04-24T10:53:33.372Z"
   },
   {
    "duration": 6,
    "start_time": "2022-04-24T10:53:48.301Z"
   },
   {
    "duration": 8,
    "start_time": "2022-04-24T10:53:54.765Z"
   },
   {
    "duration": 26,
    "start_time": "2022-04-24T10:54:02.697Z"
   },
   {
    "duration": 6,
    "start_time": "2022-04-24T10:54:19.005Z"
   },
   {
    "duration": 11,
    "start_time": "2022-04-24T10:54:20.249Z"
   },
   {
    "duration": 23,
    "start_time": "2022-04-24T10:54:21.375Z"
   },
   {
    "duration": 15,
    "start_time": "2022-04-24T10:55:10.268Z"
   },
   {
    "duration": 12,
    "start_time": "2022-04-24T10:55:11.420Z"
   },
   {
    "duration": 820,
    "start_time": "2022-04-24T10:55:12.887Z"
   },
   {
    "duration": 20,
    "start_time": "2022-04-24T10:55:51.451Z"
   },
   {
    "duration": 304,
    "start_time": "2022-04-24T10:55:54.106Z"
   },
   {
    "duration": 13,
    "start_time": "2022-04-24T10:55:58.986Z"
   },
   {
    "duration": 3476,
    "start_time": "2022-04-24T10:56:02.164Z"
   },
   {
    "duration": 276,
    "start_time": "2022-04-24T10:56:13.740Z"
   },
   {
    "duration": 162,
    "start_time": "2022-04-24T11:20:41.115Z"
   },
   {
    "duration": 180,
    "start_time": "2022-04-24T11:20:41.281Z"
   },
   {
    "duration": 20,
    "start_time": "2022-04-24T11:20:41.464Z"
   },
   {
    "duration": 38,
    "start_time": "2022-04-24T11:20:41.489Z"
   },
   {
    "duration": 44,
    "start_time": "2022-04-24T11:20:41.531Z"
   },
   {
    "duration": 13,
    "start_time": "2022-04-24T11:20:41.578Z"
   },
   {
    "duration": 32,
    "start_time": "2022-04-24T11:20:41.595Z"
   },
   {
    "duration": 35,
    "start_time": "2022-04-24T11:20:41.630Z"
   },
   {
    "duration": 6,
    "start_time": "2022-04-24T11:20:41.669Z"
   },
   {
    "duration": 74,
    "start_time": "2022-04-24T11:20:41.681Z"
   },
   {
    "duration": 103,
    "start_time": "2022-04-24T11:20:41.758Z"
   },
   {
    "duration": 791,
    "start_time": "2022-04-24T11:20:41.864Z"
   },
   {
    "duration": 14,
    "start_time": "2022-04-24T11:20:42.658Z"
   },
   {
    "duration": 62,
    "start_time": "2022-04-24T11:20:42.676Z"
   },
   {
    "duration": 378,
    "start_time": "2022-04-24T11:20:42.741Z"
   },
   {
    "duration": 534,
    "start_time": "2022-04-24T11:20:43.121Z"
   },
   {
    "duration": 416,
    "start_time": "2022-04-24T11:20:43.658Z"
   },
   {
    "duration": 386,
    "start_time": "2022-04-24T11:20:44.077Z"
   },
   {
    "duration": 8,
    "start_time": "2022-04-24T11:20:44.467Z"
   },
   {
    "duration": 946,
    "start_time": "2022-04-24T11:20:44.478Z"
   },
   {
    "duration": 264,
    "start_time": "2022-04-24T11:20:45.428Z"
   },
   {
    "duration": 31,
    "start_time": "2022-04-24T11:20:45.695Z"
   },
   {
    "duration": 128,
    "start_time": "2022-04-24T11:20:45.730Z"
   },
   {
    "duration": 7,
    "start_time": "2022-04-24T11:20:45.862Z"
   },
   {
    "duration": 267,
    "start_time": "2022-04-24T11:20:45.874Z"
   },
   {
    "duration": 232,
    "start_time": "2022-04-24T11:20:46.144Z"
   },
   {
    "duration": 292,
    "start_time": "2022-04-24T11:20:46.380Z"
   },
   {
    "duration": 18,
    "start_time": "2022-04-24T11:20:46.680Z"
   },
   {
    "duration": 255,
    "start_time": "2022-04-24T11:20:46.700Z"
   },
   {
    "duration": 2128,
    "start_time": "2022-04-24T11:20:46.958Z"
   },
   {
    "duration": 305,
    "start_time": "2022-04-24T11:20:49.090Z"
   },
   {
    "duration": 11,
    "start_time": "2022-04-24T11:20:49.397Z"
   },
   {
    "duration": 9,
    "start_time": "2022-04-24T11:20:49.426Z"
   },
   {
    "duration": 34,
    "start_time": "2022-04-24T11:20:49.438Z"
   },
   {
    "duration": 52,
    "start_time": "2022-04-24T11:20:49.475Z"
   },
   {
    "duration": 11,
    "start_time": "2022-04-24T11:20:49.533Z"
   },
   {
    "duration": 381,
    "start_time": "2022-04-24T11:20:49.547Z"
   },
   {
    "duration": 12,
    "start_time": "2022-04-24T11:20:49.930Z"
   },
   {
    "duration": 30,
    "start_time": "2022-04-24T11:20:49.945Z"
   },
   {
    "duration": 244,
    "start_time": "2022-04-24T11:20:49.978Z"
   },
   {
    "duration": 16,
    "start_time": "2022-04-24T11:20:50.225Z"
   },
   {
    "duration": 4586,
    "start_time": "2022-04-24T11:20:50.244Z"
   },
   {
    "duration": 417,
    "start_time": "2022-04-24T11:20:54.834Z"
   },
   {
    "duration": 46,
    "start_time": "2022-04-24T11:23:40.240Z"
   },
   {
    "duration": 141,
    "start_time": "2022-04-24T11:29:01.942Z"
   },
   {
    "duration": 226,
    "start_time": "2022-04-24T11:29:02.087Z"
   },
   {
    "duration": 21,
    "start_time": "2022-04-24T11:29:02.324Z"
   },
   {
    "duration": 16,
    "start_time": "2022-04-24T11:29:02.351Z"
   },
   {
    "duration": 78,
    "start_time": "2022-04-24T11:29:02.371Z"
   },
   {
    "duration": 17,
    "start_time": "2022-04-24T11:29:02.452Z"
   },
   {
    "duration": 14,
    "start_time": "2022-04-24T11:29:02.474Z"
   },
   {
    "duration": 64,
    "start_time": "2022-04-24T11:29:02.491Z"
   },
   {
    "duration": 8,
    "start_time": "2022-04-24T11:29:02.559Z"
   },
   {
    "duration": 75,
    "start_time": "2022-04-24T11:29:02.574Z"
   },
   {
    "duration": 807,
    "start_time": "2022-04-24T11:29:02.652Z"
   },
   {
    "duration": 11,
    "start_time": "2022-04-24T11:29:03.466Z"
   },
   {
    "duration": 96,
    "start_time": "2022-04-24T11:29:03.481Z"
   },
   {
    "duration": 646,
    "start_time": "2022-04-24T11:29:03.582Z"
   },
   {
    "duration": 1066,
    "start_time": "2022-04-24T11:29:04.231Z"
   },
   {
    "duration": 724,
    "start_time": "2022-04-24T11:29:05.300Z"
   },
   {
    "duration": 661,
    "start_time": "2022-04-24T11:29:06.028Z"
   },
   {
    "duration": 9,
    "start_time": "2022-04-24T11:29:06.693Z"
   },
   {
    "duration": 484,
    "start_time": "2022-04-24T11:29:06.710Z"
   },
   {
    "duration": 276,
    "start_time": "2022-04-24T11:29:07.197Z"
   },
   {
    "duration": 16,
    "start_time": "2022-04-24T11:29:07.477Z"
   },
   {
    "duration": 142,
    "start_time": "2022-04-24T11:29:07.496Z"
   },
   {
    "duration": 10,
    "start_time": "2022-04-24T11:29:07.642Z"
   },
   {
    "duration": 344,
    "start_time": "2022-04-24T11:29:07.657Z"
   },
   {
    "duration": 440,
    "start_time": "2022-04-24T11:29:08.004Z"
   },
   {
    "duration": 274,
    "start_time": "2022-04-24T11:29:08.448Z"
   },
   {
    "duration": 18,
    "start_time": "2022-04-24T11:29:08.725Z"
   },
   {
    "duration": 241,
    "start_time": "2022-04-24T11:29:08.751Z"
   },
   {
    "duration": 2369,
    "start_time": "2022-04-24T11:29:08.997Z"
   },
   {
    "duration": 333,
    "start_time": "2022-04-24T11:29:11.369Z"
   },
   {
    "duration": 23,
    "start_time": "2022-04-24T11:29:11.704Z"
   },
   {
    "duration": 20,
    "start_time": "2022-04-24T11:29:11.731Z"
   },
   {
    "duration": 32,
    "start_time": "2022-04-24T11:29:11.756Z"
   },
   {
    "duration": 45,
    "start_time": "2022-04-24T11:29:11.790Z"
   },
   {
    "duration": 15,
    "start_time": "2022-04-24T11:29:11.843Z"
   },
   {
    "duration": 447,
    "start_time": "2022-04-24T11:29:11.862Z"
   },
   {
    "duration": 23,
    "start_time": "2022-04-24T11:29:12.312Z"
   },
   {
    "duration": 38,
    "start_time": "2022-04-24T11:29:12.339Z"
   },
   {
    "duration": 374,
    "start_time": "2022-04-24T11:29:12.380Z"
   },
   {
    "duration": 21,
    "start_time": "2022-04-24T11:29:12.757Z"
   },
   {
    "duration": 3565,
    "start_time": "2022-04-24T11:29:12.781Z"
   },
   {
    "duration": 474,
    "start_time": "2022-04-24T11:29:16.350Z"
   },
   {
    "duration": 938,
    "start_time": "2022-04-30T18:14:49.805Z"
   },
   {
    "duration": 100,
    "start_time": "2022-04-30T18:14:50.745Z"
   },
   {
    "duration": 8,
    "start_time": "2022-04-30T18:14:50.846Z"
   },
   {
    "duration": 14,
    "start_time": "2022-04-30T18:14:50.856Z"
   },
   {
    "duration": 14,
    "start_time": "2022-04-30T18:14:50.872Z"
   },
   {
    "duration": 15,
    "start_time": "2022-04-30T18:14:50.887Z"
   },
   {
    "duration": 14,
    "start_time": "2022-04-30T18:14:50.906Z"
   },
   {
    "duration": 20,
    "start_time": "2022-04-30T18:14:50.922Z"
   },
   {
    "duration": 6,
    "start_time": "2022-04-30T18:14:50.943Z"
   },
   {
    "duration": 17,
    "start_time": "2022-04-30T18:14:50.951Z"
   },
   {
    "duration": 293,
    "start_time": "2022-04-30T18:14:50.970Z"
   },
   {
    "duration": 5,
    "start_time": "2022-04-30T18:14:51.265Z"
   },
   {
    "duration": 38,
    "start_time": "2022-04-30T18:14:51.271Z"
   },
   {
    "duration": 261,
    "start_time": "2022-04-30T18:14:51.311Z"
   },
   {
    "duration": 254,
    "start_time": "2022-04-30T18:14:51.574Z"
   },
   {
    "duration": 223,
    "start_time": "2022-04-30T18:14:51.830Z"
   },
   {
    "duration": 219,
    "start_time": "2022-04-30T18:14:52.055Z"
   },
   {
    "duration": 5,
    "start_time": "2022-04-30T18:14:52.276Z"
   },
   {
    "duration": 239,
    "start_time": "2022-04-30T18:14:52.282Z"
   },
   {
    "duration": 116,
    "start_time": "2022-04-30T18:14:52.524Z"
   },
   {
    "duration": 8,
    "start_time": "2022-04-30T18:14:52.642Z"
   },
   {
    "duration": 38,
    "start_time": "2022-04-30T18:14:52.652Z"
   },
   {
    "duration": 12,
    "start_time": "2022-04-30T18:14:52.692Z"
   },
   {
    "duration": 160,
    "start_time": "2022-04-30T18:14:52.705Z"
   },
   {
    "duration": 196,
    "start_time": "2022-04-30T18:14:52.867Z"
   },
   {
    "duration": 136,
    "start_time": "2022-04-30T18:14:53.064Z"
   },
   {
    "duration": 23,
    "start_time": "2022-04-30T18:14:53.204Z"
   },
   {
    "duration": 122,
    "start_time": "2022-04-30T18:14:53.231Z"
   },
   {
    "duration": 1266,
    "start_time": "2022-04-30T18:14:53.355Z"
   },
   {
    "duration": 151,
    "start_time": "2022-04-30T18:14:54.628Z"
   },
   {
    "duration": 7,
    "start_time": "2022-04-30T18:14:54.780Z"
   },
   {
    "duration": 15,
    "start_time": "2022-04-30T18:14:54.788Z"
   },
   {
    "duration": 23,
    "start_time": "2022-04-30T18:14:54.805Z"
   },
   {
    "duration": 11,
    "start_time": "2022-04-30T18:14:54.829Z"
   },
   {
    "duration": 6,
    "start_time": "2022-04-30T18:14:54.841Z"
   },
   {
    "duration": 209,
    "start_time": "2022-04-30T18:14:54.848Z"
   },
   {
    "duration": 5,
    "start_time": "2022-04-30T18:14:55.059Z"
   },
   {
    "duration": 11,
    "start_time": "2022-04-30T18:14:55.066Z"
   },
   {
    "duration": 211,
    "start_time": "2022-04-30T18:14:55.078Z"
   },
   {
    "duration": 13,
    "start_time": "2022-04-30T18:14:55.291Z"
   },
   {
    "duration": 1718,
    "start_time": "2022-04-30T18:14:55.305Z"
   },
   {
    "duration": 161,
    "start_time": "2022-04-30T18:14:57.024Z"
   },
   {
    "duration": 209,
    "start_time": "2022-04-30T18:22:17.118Z"
   },
   {
    "duration": 356,
    "start_time": "2022-04-30T18:22:22.061Z"
   },
   {
    "duration": 714,
    "start_time": "2022-04-30T18:50:47.646Z"
   },
   {
    "duration": 94,
    "start_time": "2022-04-30T18:50:48.362Z"
   },
   {
    "duration": 8,
    "start_time": "2022-04-30T18:50:48.457Z"
   },
   {
    "duration": 7,
    "start_time": "2022-04-30T18:50:48.467Z"
   },
   {
    "duration": 26,
    "start_time": "2022-04-30T18:50:48.475Z"
   },
   {
    "duration": 6,
    "start_time": "2022-04-30T18:50:48.503Z"
   },
   {
    "duration": 4,
    "start_time": "2022-04-30T18:50:48.511Z"
   },
   {
    "duration": 12,
    "start_time": "2022-04-30T18:50:48.517Z"
   },
   {
    "duration": 5,
    "start_time": "2022-04-30T18:50:48.530Z"
   },
   {
    "duration": 16,
    "start_time": "2022-04-30T18:50:48.536Z"
   },
   {
    "duration": 289,
    "start_time": "2022-04-30T18:50:48.553Z"
   },
   {
    "duration": 4,
    "start_time": "2022-04-30T18:50:48.844Z"
   },
   {
    "duration": 26,
    "start_time": "2022-04-30T18:50:48.849Z"
   },
   {
    "duration": 239,
    "start_time": "2022-04-30T18:50:48.876Z"
   },
   {
    "duration": 219,
    "start_time": "2022-04-30T18:50:49.116Z"
   },
   {
    "duration": 209,
    "start_time": "2022-04-30T18:50:49.336Z"
   },
   {
    "duration": 195,
    "start_time": "2022-04-30T18:50:49.546Z"
   },
   {
    "duration": 5,
    "start_time": "2022-04-30T18:50:49.742Z"
   },
   {
    "duration": 204,
    "start_time": "2022-04-30T18:50:49.750Z"
   },
   {
    "duration": 103,
    "start_time": "2022-04-30T18:50:49.955Z"
   },
   {
    "duration": 8,
    "start_time": "2022-04-30T18:50:50.060Z"
   },
   {
    "duration": 52,
    "start_time": "2022-04-30T18:50:50.069Z"
   },
   {
    "duration": 4,
    "start_time": "2022-04-30T18:50:50.122Z"
   },
   {
    "duration": 141,
    "start_time": "2022-04-30T18:50:50.128Z"
   },
   {
    "duration": 172,
    "start_time": "2022-04-30T18:50:50.271Z"
   },
   {
    "duration": 133,
    "start_time": "2022-04-30T18:50:50.445Z"
   },
   {
    "duration": 9,
    "start_time": "2022-04-30T18:50:50.580Z"
   },
   {
    "duration": 128,
    "start_time": "2022-04-30T18:50:50.590Z"
   },
   {
    "duration": 1106,
    "start_time": "2022-04-30T18:50:50.719Z"
   },
   {
    "duration": 137,
    "start_time": "2022-04-30T18:50:51.826Z"
   },
   {
    "duration": 6,
    "start_time": "2022-04-30T18:50:51.964Z"
   },
   {
    "duration": 7,
    "start_time": "2022-04-30T18:50:51.971Z"
   },
   {
    "duration": 21,
    "start_time": "2022-04-30T18:50:51.980Z"
   },
   {
    "duration": 10,
    "start_time": "2022-04-30T18:50:52.002Z"
   },
   {
    "duration": 5,
    "start_time": "2022-04-30T18:50:52.013Z"
   },
   {
    "duration": 178,
    "start_time": "2022-04-30T18:50:52.019Z"
   },
   {
    "duration": 6,
    "start_time": "2022-04-30T18:50:52.198Z"
   },
   {
    "duration": 12,
    "start_time": "2022-04-30T18:50:52.205Z"
   },
   {
    "duration": 187,
    "start_time": "2022-04-30T18:50:52.219Z"
   },
   {
    "duration": 6,
    "start_time": "2022-04-30T18:50:52.408Z"
   },
   {
    "duration": 1529,
    "start_time": "2022-04-30T18:50:52.416Z"
   },
   {
    "duration": 163,
    "start_time": "2022-04-30T18:50:53.946Z"
   },
   {
    "duration": 1198,
    "start_time": "2022-05-02T20:23:12.496Z"
   },
   {
    "duration": 144,
    "start_time": "2022-05-02T20:23:13.697Z"
   },
   {
    "duration": 13,
    "start_time": "2022-05-02T20:23:13.843Z"
   },
   {
    "duration": 27,
    "start_time": "2022-05-02T20:23:13.859Z"
   },
   {
    "duration": 22,
    "start_time": "2022-05-02T20:23:13.888Z"
   },
   {
    "duration": 9,
    "start_time": "2022-05-02T20:23:13.912Z"
   },
   {
    "duration": 7,
    "start_time": "2022-05-02T20:23:13.924Z"
   },
   {
    "duration": 57,
    "start_time": "2022-05-02T20:23:13.933Z"
   },
   {
    "duration": 6,
    "start_time": "2022-05-02T20:23:13.992Z"
   },
   {
    "duration": 25,
    "start_time": "2022-05-02T20:23:14.002Z"
   },
   {
    "duration": 510,
    "start_time": "2022-05-02T20:23:14.029Z"
   },
   {
    "duration": 7,
    "start_time": "2022-05-02T20:23:14.541Z"
   },
   {
    "duration": 57,
    "start_time": "2022-05-02T20:23:14.550Z"
   },
   {
    "duration": 453,
    "start_time": "2022-05-02T20:23:14.609Z"
   },
   {
    "duration": 396,
    "start_time": "2022-05-02T20:23:15.064Z"
   },
   {
    "duration": 318,
    "start_time": "2022-05-02T20:23:15.462Z"
   },
   {
    "duration": 399,
    "start_time": "2022-05-02T20:23:15.782Z"
   },
   {
    "duration": 6,
    "start_time": "2022-05-02T20:23:16.184Z"
   },
   {
    "duration": 404,
    "start_time": "2022-05-02T20:23:16.192Z"
   },
   {
    "duration": 199,
    "start_time": "2022-05-02T20:23:16.598Z"
   },
   {
    "duration": 12,
    "start_time": "2022-05-02T20:23:16.799Z"
   },
   {
    "duration": 85,
    "start_time": "2022-05-02T20:23:16.813Z"
   },
   {
    "duration": 6,
    "start_time": "2022-05-02T20:23:16.900Z"
   },
   {
    "duration": 253,
    "start_time": "2022-05-02T20:23:16.908Z"
   },
   {
    "duration": 288,
    "start_time": "2022-05-02T20:23:17.163Z"
   },
   {
    "duration": 238,
    "start_time": "2022-05-02T20:23:17.453Z"
   },
   {
    "duration": 15,
    "start_time": "2022-05-02T20:23:17.693Z"
   },
   {
    "duration": 223,
    "start_time": "2022-05-02T20:23:17.713Z"
   },
   {
    "duration": 2095,
    "start_time": "2022-05-02T20:23:17.939Z"
   },
   {
    "duration": 268,
    "start_time": "2022-05-02T20:23:20.037Z"
   },
   {
    "duration": 10,
    "start_time": "2022-05-02T20:23:20.307Z"
   },
   {
    "duration": 8,
    "start_time": "2022-05-02T20:23:20.319Z"
   },
   {
    "duration": 23,
    "start_time": "2022-05-02T20:23:20.329Z"
   },
   {
    "duration": 18,
    "start_time": "2022-05-02T20:23:20.381Z"
   },
   {
    "duration": 13,
    "start_time": "2022-05-02T20:23:20.401Z"
   },
   {
    "duration": 373,
    "start_time": "2022-05-02T20:23:20.417Z"
   },
   {
    "duration": 10,
    "start_time": "2022-05-02T20:23:20.793Z"
   },
   {
    "duration": 39,
    "start_time": "2022-05-02T20:23:20.805Z"
   },
   {
    "duration": 312,
    "start_time": "2022-05-02T20:23:20.847Z"
   },
   {
    "duration": 22,
    "start_time": "2022-05-02T20:23:21.161Z"
   },
   {
    "duration": 2824,
    "start_time": "2022-05-02T20:23:21.185Z"
   },
   {
    "duration": 293,
    "start_time": "2022-05-02T20:23:24.011Z"
   },
   {
    "duration": 91,
    "start_time": "2022-05-02T20:23:53.865Z"
   },
   {
    "duration": 147,
    "start_time": "2022-05-02T20:23:53.959Z"
   },
   {
    "duration": 13,
    "start_time": "2022-05-02T20:23:54.108Z"
   },
   {
    "duration": 12,
    "start_time": "2022-05-02T20:23:54.124Z"
   },
   {
    "duration": 51,
    "start_time": "2022-05-02T20:23:54.138Z"
   },
   {
    "duration": 10,
    "start_time": "2022-05-02T20:23:54.192Z"
   },
   {
    "duration": 15,
    "start_time": "2022-05-02T20:23:54.204Z"
   },
   {
    "duration": 24,
    "start_time": "2022-05-02T20:23:54.221Z"
   },
   {
    "duration": 35,
    "start_time": "2022-05-02T20:23:54.247Z"
   },
   {
    "duration": 24,
    "start_time": "2022-05-02T20:23:54.285Z"
   },
   {
    "duration": 501,
    "start_time": "2022-05-02T20:23:54.312Z"
   },
   {
    "duration": 7,
    "start_time": "2022-05-02T20:23:54.815Z"
   },
   {
    "duration": 58,
    "start_time": "2022-05-02T20:23:54.825Z"
   },
   {
    "duration": 496,
    "start_time": "2022-05-02T20:23:54.885Z"
   },
   {
    "duration": 417,
    "start_time": "2022-05-02T20:23:55.383Z"
   },
   {
    "duration": 285,
    "start_time": "2022-05-02T20:24:14.887Z"
   },
   {
    "duration": 495,
    "start_time": "2022-05-02T20:24:25.724Z"
   },
   {
    "duration": 248,
    "start_time": "2022-05-02T20:24:33.017Z"
   },
   {
    "duration": 400,
    "start_time": "2022-05-02T20:24:47.202Z"
   },
   {
    "duration": 609,
    "start_time": "2022-05-02T20:24:50.076Z"
   },
   {
    "duration": 310,
    "start_time": "2022-05-02T20:24:53.717Z"
   },
   {
    "duration": 274,
    "start_time": "2022-05-02T20:24:56.395Z"
   },
   {
    "duration": 263,
    "start_time": "2022-05-02T20:25:01.290Z"
   },
   {
    "duration": 256,
    "start_time": "2022-05-02T20:25:04.416Z"
   },
   {
    "duration": 261,
    "start_time": "2022-05-02T20:25:08.794Z"
   },
   {
    "duration": 269,
    "start_time": "2022-05-02T20:27:37.750Z"
   },
   {
    "duration": 254,
    "start_time": "2022-05-02T20:27:40.544Z"
   },
   {
    "duration": 259,
    "start_time": "2022-05-02T20:27:43.181Z"
   },
   {
    "duration": 256,
    "start_time": "2022-05-02T20:27:46.126Z"
   },
   {
    "duration": 253,
    "start_time": "2022-05-02T20:27:48.995Z"
   },
   {
    "duration": 93,
    "start_time": "2022-05-02T20:28:59.033Z"
   },
   {
    "duration": 149,
    "start_time": "2022-05-02T20:28:59.128Z"
   },
   {
    "duration": 13,
    "start_time": "2022-05-02T20:28:59.281Z"
   },
   {
    "duration": 10,
    "start_time": "2022-05-02T20:28:59.298Z"
   },
   {
    "duration": 23,
    "start_time": "2022-05-02T20:28:59.311Z"
   },
   {
    "duration": 8,
    "start_time": "2022-05-02T20:28:59.336Z"
   },
   {
    "duration": 40,
    "start_time": "2022-05-02T20:28:59.347Z"
   },
   {
    "duration": 27,
    "start_time": "2022-05-02T20:28:59.389Z"
   },
   {
    "duration": 5,
    "start_time": "2022-05-02T20:28:59.418Z"
   },
   {
    "duration": 29,
    "start_time": "2022-05-02T20:28:59.426Z"
   },
   {
    "duration": 672,
    "start_time": "2022-05-02T20:28:59.457Z"
   },
   {
    "duration": 6,
    "start_time": "2022-05-02T20:29:00.131Z"
   },
   {
    "duration": 58,
    "start_time": "2022-05-02T20:29:00.139Z"
   },
   {
    "duration": 382,
    "start_time": "2022-05-02T20:29:00.199Z"
   },
   {
    "duration": 418,
    "start_time": "2022-05-02T20:29:00.584Z"
   },
   {
    "duration": 280,
    "start_time": "2022-05-02T20:29:01.004Z"
   },
   {
    "duration": 388,
    "start_time": "2022-05-02T20:29:01.287Z"
   },
   {
    "duration": 8,
    "start_time": "2022-05-02T20:29:01.677Z"
   },
   {
    "duration": 406,
    "start_time": "2022-05-02T20:29:01.687Z"
   },
   {
    "duration": 203,
    "start_time": "2022-05-02T20:29:02.095Z"
   },
   {
    "duration": 14,
    "start_time": "2022-05-02T20:29:02.301Z"
   },
   {
    "duration": 66,
    "start_time": "2022-05-02T20:29:11.630Z"
   },
   {
    "duration": 6,
    "start_time": "2022-05-02T20:29:16.612Z"
   },
   {
    "duration": 57,
    "start_time": "2022-05-02T22:01:43.634Z"
   },
   {
    "duration": 171,
    "start_time": "2022-05-02T22:02:31.243Z"
   },
   {
    "duration": 172,
    "start_time": "2022-05-02T22:02:43.056Z"
   },
   {
    "duration": 176,
    "start_time": "2022-05-02T22:02:49.407Z"
   },
   {
    "duration": 176,
    "start_time": "2022-05-02T22:02:55.410Z"
   },
   {
    "duration": 8,
    "start_time": "2022-05-02T22:03:14.387Z"
   },
   {
    "duration": 11,
    "start_time": "2022-05-02T22:03:24.477Z"
   },
   {
    "duration": 192,
    "start_time": "2022-05-02T22:04:07.628Z"
   },
   {
    "duration": 179,
    "start_time": "2022-05-02T22:04:10.746Z"
   },
   {
    "duration": 167,
    "start_time": "2022-05-02T22:04:15.958Z"
   },
   {
    "duration": 192,
    "start_time": "2022-05-02T22:04:21.756Z"
   },
   {
    "duration": 174,
    "start_time": "2022-05-02T22:04:36.897Z"
   },
   {
    "duration": 188,
    "start_time": "2022-05-02T22:04:42.297Z"
   },
   {
    "duration": 15,
    "start_time": "2022-05-02T22:07:44.427Z"
   },
   {
    "duration": 91,
    "start_time": "2022-05-02T22:07:51.335Z"
   },
   {
    "duration": 166,
    "start_time": "2022-05-02T22:07:51.428Z"
   },
   {
    "duration": 13,
    "start_time": "2022-05-02T22:07:51.596Z"
   },
   {
    "duration": 11,
    "start_time": "2022-05-02T22:07:51.612Z"
   },
   {
    "duration": 20,
    "start_time": "2022-05-02T22:07:51.625Z"
   },
   {
    "duration": 43,
    "start_time": "2022-05-02T22:07:51.647Z"
   },
   {
    "duration": 7,
    "start_time": "2022-05-02T22:07:51.692Z"
   },
   {
    "duration": 21,
    "start_time": "2022-05-02T22:07:51.702Z"
   },
   {
    "duration": 5,
    "start_time": "2022-05-02T22:07:51.725Z"
   },
   {
    "duration": 62,
    "start_time": "2022-05-02T22:07:51.733Z"
   },
   {
    "duration": 693,
    "start_time": "2022-05-02T22:07:51.797Z"
   },
   {
    "duration": 7,
    "start_time": "2022-05-02T22:07:52.493Z"
   },
   {
    "duration": 70,
    "start_time": "2022-05-02T22:07:52.503Z"
   },
   {
    "duration": 381,
    "start_time": "2022-05-02T22:07:52.576Z"
   },
   {
    "duration": 423,
    "start_time": "2022-05-02T22:07:52.959Z"
   },
   {
    "duration": 279,
    "start_time": "2022-05-02T22:07:53.385Z"
   },
   {
    "duration": 390,
    "start_time": "2022-05-02T22:07:53.667Z"
   },
   {
    "duration": 7,
    "start_time": "2022-05-02T22:07:54.060Z"
   },
   {
    "duration": 388,
    "start_time": "2022-05-02T22:07:54.082Z"
   },
   {
    "duration": 195,
    "start_time": "2022-05-02T22:07:54.473Z"
   },
   {
    "duration": 19,
    "start_time": "2022-05-02T22:07:54.671Z"
   },
   {
    "duration": 64,
    "start_time": "2022-05-02T22:07:54.693Z"
   },
   {
    "duration": 24,
    "start_time": "2022-05-02T22:07:54.759Z"
   },
   {
    "duration": 214,
    "start_time": "2022-05-02T22:07:54.785Z"
   },
   {
    "duration": 12,
    "start_time": "2022-05-02T22:07:55.001Z"
   },
   {
    "duration": 13,
    "start_time": "2022-05-02T22:08:04.746Z"
   },
   {
    "duration": 57,
    "start_time": "2022-05-02T22:08:13.028Z"
   },
   {
    "duration": 91,
    "start_time": "2022-05-02T22:08:49.859Z"
   },
   {
    "duration": 167,
    "start_time": "2022-05-02T22:08:49.953Z"
   },
   {
    "duration": 13,
    "start_time": "2022-05-02T22:08:50.122Z"
   },
   {
    "duration": 44,
    "start_time": "2022-05-02T22:08:50.138Z"
   },
   {
    "duration": 21,
    "start_time": "2022-05-02T22:08:50.184Z"
   },
   {
    "duration": 8,
    "start_time": "2022-05-02T22:08:50.207Z"
   },
   {
    "duration": 10,
    "start_time": "2022-05-02T22:08:50.218Z"
   },
   {
    "duration": 60,
    "start_time": "2022-05-02T22:08:50.230Z"
   },
   {
    "duration": 5,
    "start_time": "2022-05-02T22:08:50.292Z"
   },
   {
    "duration": 33,
    "start_time": "2022-05-02T22:08:50.301Z"
   },
   {
    "duration": 497,
    "start_time": "2022-05-02T22:08:50.336Z"
   },
   {
    "duration": 7,
    "start_time": "2022-05-02T22:08:50.835Z"
   },
   {
    "duration": 54,
    "start_time": "2022-05-02T22:08:50.845Z"
   },
   {
    "duration": 383,
    "start_time": "2022-05-02T22:08:50.901Z"
   },
   {
    "duration": 425,
    "start_time": "2022-05-02T22:08:51.287Z"
   },
   {
    "duration": 273,
    "start_time": "2022-05-02T22:08:51.715Z"
   },
   {
    "duration": 609,
    "start_time": "2022-05-02T22:08:51.990Z"
   },
   {
    "duration": 7,
    "start_time": "2022-05-02T22:08:52.601Z"
   },
   {
    "duration": 417,
    "start_time": "2022-05-02T22:08:52.610Z"
   },
   {
    "duration": 213,
    "start_time": "2022-05-02T22:08:53.030Z"
   },
   {
    "duration": 13,
    "start_time": "2022-05-02T22:08:53.245Z"
   },
   {
    "duration": 84,
    "start_time": "2022-05-02T22:08:53.260Z"
   },
   {
    "duration": 7,
    "start_time": "2022-05-02T22:08:53.346Z"
   },
   {
    "duration": 224,
    "start_time": "2022-05-02T22:08:53.355Z"
   },
   {
    "duration": 12,
    "start_time": "2022-05-02T22:08:53.581Z"
   },
   {
    "duration": 13,
    "start_time": "2022-05-02T22:08:53.595Z"
   },
   {
    "duration": 83,
    "start_time": "2022-05-02T22:08:53.610Z"
   },
   {
    "duration": 262,
    "start_time": "2022-05-02T22:08:53.699Z"
   },
   {
    "duration": 369,
    "start_time": "2022-05-02T22:08:53.963Z"
   },
   {
    "duration": 284,
    "start_time": "2022-05-02T22:08:54.334Z"
   },
   {
    "duration": 16,
    "start_time": "2022-05-02T22:08:54.621Z"
   },
   {
    "duration": 246,
    "start_time": "2022-05-02T22:08:54.639Z"
   },
   {
    "duration": 2176,
    "start_time": "2022-05-02T22:08:54.888Z"
   },
   {
    "duration": 289,
    "start_time": "2022-05-02T22:08:57.066Z"
   },
   {
    "duration": 9,
    "start_time": "2022-05-02T22:08:57.357Z"
   },
   {
    "duration": 17,
    "start_time": "2022-05-02T22:08:57.369Z"
   },
   {
    "duration": 20,
    "start_time": "2022-05-02T22:08:57.389Z"
   },
   {
    "duration": 13,
    "start_time": "2022-05-02T22:08:57.411Z"
   },
   {
    "duration": 8,
    "start_time": "2022-05-02T22:08:57.426Z"
   },
   {
    "duration": 399,
    "start_time": "2022-05-02T22:08:57.436Z"
   },
   {
    "duration": 10,
    "start_time": "2022-05-02T22:08:57.837Z"
   },
   {
    "duration": 36,
    "start_time": "2022-05-02T22:08:57.849Z"
   },
   {
    "duration": 313,
    "start_time": "2022-05-02T22:08:57.887Z"
   },
   {
    "duration": 13,
    "start_time": "2022-05-02T22:08:58.202Z"
   },
   {
    "duration": 2923,
    "start_time": "2022-05-02T22:08:58.217Z"
   },
   {
    "duration": 583,
    "start_time": "2022-05-02T22:09:01.142Z"
   },
   {
    "duration": 58,
    "start_time": "2022-05-02T22:09:20.752Z"
   },
   {
    "duration": 114,
    "start_time": "2022-05-02T22:10:21.539Z"
   },
   {
    "duration": 55,
    "start_time": "2022-05-02T22:10:24.722Z"
   },
   {
    "duration": 57,
    "start_time": "2022-05-02T22:10:27.414Z"
   },
   {
    "duration": 61,
    "start_time": "2022-05-02T22:11:18.894Z"
   },
   {
    "duration": 63,
    "start_time": "2022-05-02T22:12:17.749Z"
   },
   {
    "duration": 226,
    "start_time": "2022-05-02T22:12:40.299Z"
   },
   {
    "duration": 11,
    "start_time": "2022-05-02T22:16:42.226Z"
   },
   {
    "duration": 10,
    "start_time": "2022-05-02T22:17:21.534Z"
   },
   {
    "duration": 62,
    "start_time": "2022-05-02T22:17:26.927Z"
   },
   {
    "duration": 11,
    "start_time": "2022-05-02T22:17:38.626Z"
   },
   {
    "duration": 12,
    "start_time": "2022-05-02T22:19:50.772Z"
   },
   {
    "duration": 73,
    "start_time": "2022-05-02T22:21:11.421Z"
   },
   {
    "duration": 65,
    "start_time": "2022-05-02T22:21:26.976Z"
   },
   {
    "duration": 12,
    "start_time": "2022-05-02T22:21:45.054Z"
   },
   {
    "duration": 12,
    "start_time": "2022-05-02T22:21:55.314Z"
   },
   {
    "duration": 15,
    "start_time": "2022-05-02T22:22:02.090Z"
   },
   {
    "duration": 13,
    "start_time": "2022-05-02T22:22:51.250Z"
   },
   {
    "duration": 108,
    "start_time": "2022-05-02T22:23:10.459Z"
   },
   {
    "duration": 12,
    "start_time": "2022-05-02T22:23:16.010Z"
   },
   {
    "duration": 86,
    "start_time": "2022-05-02T22:25:31.386Z"
   },
   {
    "duration": 63,
    "start_time": "2022-05-02T22:25:39.333Z"
   },
   {
    "duration": 62,
    "start_time": "2022-05-02T22:25:46.117Z"
   },
   {
    "duration": 6,
    "start_time": "2022-05-02T22:25:52.205Z"
   },
   {
    "duration": 14,
    "start_time": "2022-05-02T22:30:29.748Z"
   },
   {
    "duration": 11,
    "start_time": "2022-05-02T22:31:05.343Z"
   },
   {
    "duration": 111,
    "start_time": "2022-05-02T22:32:00.174Z"
   },
   {
    "duration": 153,
    "start_time": "2022-05-02T22:32:07.176Z"
   },
   {
    "duration": 223,
    "start_time": "2022-05-02T22:32:40.441Z"
   },
   {
    "duration": 332,
    "start_time": "2022-05-02T22:33:01.799Z"
   },
   {
    "duration": 380,
    "start_time": "2022-05-02T22:33:42.811Z"
   },
   {
    "duration": 444,
    "start_time": "2022-05-02T22:34:19.893Z"
   },
   {
    "duration": 61,
    "start_time": "2022-05-02T22:38:15.835Z"
   },
   {
    "duration": 66,
    "start_time": "2022-05-02T22:38:22.295Z"
   },
   {
    "duration": 60,
    "start_time": "2022-05-02T22:38:34.260Z"
   },
   {
    "duration": 61,
    "start_time": "2022-05-02T22:38:44.714Z"
   },
   {
    "duration": 124,
    "start_time": "2022-05-02T22:40:10.969Z"
   },
   {
    "duration": 123,
    "start_time": "2022-05-02T22:40:17.436Z"
   },
   {
    "duration": 240,
    "start_time": "2022-05-02T22:43:02.428Z"
   },
   {
    "duration": 266,
    "start_time": "2022-05-02T22:43:48.927Z"
   },
   {
    "duration": 209,
    "start_time": "2022-05-02T22:44:09.761Z"
   },
   {
    "duration": 225,
    "start_time": "2022-05-02T22:44:18.035Z"
   },
   {
    "duration": 245,
    "start_time": "2022-05-02T22:45:25.107Z"
   },
   {
    "duration": 16,
    "start_time": "2022-05-02T22:47:46.960Z"
   },
   {
    "duration": 195,
    "start_time": "2022-05-02T22:50:10.858Z"
   },
   {
    "duration": 2075,
    "start_time": "2022-05-02T22:50:45.997Z"
   },
   {
    "duration": 267,
    "start_time": "2022-05-02T22:50:55.017Z"
   },
   {
    "duration": 260,
    "start_time": "2022-05-02T22:53:42.224Z"
   },
   {
    "duration": 282,
    "start_time": "2022-05-02T22:54:17.521Z"
   },
   {
    "duration": 10,
    "start_time": "2022-05-02T23:10:11.491Z"
   },
   {
    "duration": 8,
    "start_time": "2022-05-02T23:10:30.742Z"
   },
   {
    "duration": 21,
    "start_time": "2022-05-02T23:10:35.937Z"
   },
   {
    "duration": 15,
    "start_time": "2022-05-02T23:12:22.623Z"
   },
   {
    "duration": 15,
    "start_time": "2022-05-02T23:12:31.737Z"
   },
   {
    "duration": 9,
    "start_time": "2022-05-02T23:12:33.704Z"
   },
   {
    "duration": 354,
    "start_time": "2022-05-02T23:12:36.377Z"
   },
   {
    "duration": 11,
    "start_time": "2022-05-02T23:13:49.759Z"
   },
   {
    "duration": 15,
    "start_time": "2022-05-02T23:13:52.403Z"
   },
   {
    "duration": 16,
    "start_time": "2022-05-02T23:15:41.724Z"
   },
   {
    "duration": 16,
    "start_time": "2022-05-02T23:16:53.912Z"
   },
   {
    "duration": 176,
    "start_time": "2022-05-02T23:17:08.245Z"
   },
   {
    "duration": 282,
    "start_time": "2022-05-02T23:17:26.438Z"
   },
   {
    "duration": 18,
    "start_time": "2022-05-02T23:19:52.875Z"
   },
   {
    "duration": 25,
    "start_time": "2022-05-02T23:20:03.198Z"
   },
   {
    "duration": 24,
    "start_time": "2022-05-02T23:20:26.714Z"
   },
   {
    "duration": 11,
    "start_time": "2022-05-02T23:22:28.874Z"
   },
   {
    "duration": 199,
    "start_time": "2022-05-02T23:22:34.821Z"
   },
   {
    "duration": 14,
    "start_time": "2022-05-02T23:23:22.406Z"
   },
   {
    "duration": 12,
    "start_time": "2022-05-02T23:23:31.797Z"
   },
   {
    "duration": 12,
    "start_time": "2022-05-02T23:23:35.617Z"
   },
   {
    "duration": 14,
    "start_time": "2022-05-02T23:30:01.134Z"
   },
   {
    "duration": 49,
    "start_time": "2022-05-03T12:04:10.395Z"
   },
   {
    "duration": 957,
    "start_time": "2022-05-03T12:04:13.272Z"
   },
   {
    "duration": 108,
    "start_time": "2022-05-03T12:04:14.231Z"
   },
   {
    "duration": 9,
    "start_time": "2022-05-03T12:04:14.341Z"
   },
   {
    "duration": 8,
    "start_time": "2022-05-03T12:04:14.352Z"
   },
   {
    "duration": 35,
    "start_time": "2022-05-03T12:04:14.363Z"
   },
   {
    "duration": 9,
    "start_time": "2022-05-03T12:04:14.400Z"
   },
   {
    "duration": 6,
    "start_time": "2022-05-03T12:04:14.411Z"
   },
   {
    "duration": 21,
    "start_time": "2022-05-03T12:04:14.419Z"
   },
   {
    "duration": 8,
    "start_time": "2022-05-03T12:04:14.442Z"
   },
   {
    "duration": 51,
    "start_time": "2022-05-03T12:04:14.452Z"
   },
   {
    "duration": 468,
    "start_time": "2022-05-03T12:04:14.506Z"
   },
   {
    "duration": 6,
    "start_time": "2022-05-03T12:04:14.977Z"
   },
   {
    "duration": 41,
    "start_time": "2022-05-03T12:04:14.993Z"
   },
   {
    "duration": 300,
    "start_time": "2022-05-03T12:04:15.038Z"
   },
   {
    "duration": 254,
    "start_time": "2022-05-03T12:04:15.340Z"
   },
   {
    "duration": 167,
    "start_time": "2022-05-03T12:04:15.596Z"
   },
   {
    "duration": 227,
    "start_time": "2022-05-03T12:04:15.765Z"
   },
   {
    "duration": 6,
    "start_time": "2022-05-03T12:04:15.994Z"
   },
   {
    "duration": 236,
    "start_time": "2022-05-03T12:04:16.002Z"
   },
   {
    "duration": 123,
    "start_time": "2022-05-03T12:04:16.240Z"
   },
   {
    "duration": 10,
    "start_time": "2022-05-03T12:04:16.366Z"
   },
   {
    "duration": 47,
    "start_time": "2022-05-03T12:04:16.392Z"
   },
   {
    "duration": 0,
    "start_time": "2022-05-03T12:04:16.441Z"
   },
   {
    "duration": 0,
    "start_time": "2022-05-03T12:04:16.443Z"
   },
   {
    "duration": 0,
    "start_time": "2022-05-03T12:04:16.444Z"
   },
   {
    "duration": 0,
    "start_time": "2022-05-03T12:04:16.445Z"
   },
   {
    "duration": 0,
    "start_time": "2022-05-03T12:04:16.446Z"
   },
   {
    "duration": 0,
    "start_time": "2022-05-03T12:04:16.447Z"
   },
   {
    "duration": 0,
    "start_time": "2022-05-03T12:04:16.449Z"
   },
   {
    "duration": 0,
    "start_time": "2022-05-03T12:04:16.450Z"
   },
   {
    "duration": 0,
    "start_time": "2022-05-03T12:04:16.451Z"
   },
   {
    "duration": 0,
    "start_time": "2022-05-03T12:04:16.453Z"
   },
   {
    "duration": 0,
    "start_time": "2022-05-03T12:04:16.453Z"
   },
   {
    "duration": 0,
    "start_time": "2022-05-03T12:04:16.454Z"
   },
   {
    "duration": 0,
    "start_time": "2022-05-03T12:04:16.455Z"
   },
   {
    "duration": 0,
    "start_time": "2022-05-03T12:04:16.457Z"
   },
   {
    "duration": 0,
    "start_time": "2022-05-03T12:04:16.458Z"
   },
   {
    "duration": 0,
    "start_time": "2022-05-03T12:04:16.492Z"
   },
   {
    "duration": 0,
    "start_time": "2022-05-03T12:04:16.494Z"
   },
   {
    "duration": 0,
    "start_time": "2022-05-03T12:04:16.495Z"
   },
   {
    "duration": 0,
    "start_time": "2022-05-03T12:04:16.496Z"
   },
   {
    "duration": 0,
    "start_time": "2022-05-03T12:04:16.498Z"
   },
   {
    "duration": 0,
    "start_time": "2022-05-03T12:04:16.499Z"
   },
   {
    "duration": 0,
    "start_time": "2022-05-03T12:04:16.500Z"
   },
   {
    "duration": 0,
    "start_time": "2022-05-03T12:04:16.501Z"
   },
   {
    "duration": 0,
    "start_time": "2022-05-03T12:04:16.502Z"
   },
   {
    "duration": 0,
    "start_time": "2022-05-03T12:04:16.503Z"
   },
   {
    "duration": 0,
    "start_time": "2022-05-03T12:04:16.504Z"
   },
   {
    "duration": 0,
    "start_time": "2022-05-03T12:04:16.505Z"
   },
   {
    "duration": 0,
    "start_time": "2022-05-03T12:04:16.506Z"
   },
   {
    "duration": 0,
    "start_time": "2022-05-03T12:04:16.507Z"
   },
   {
    "duration": 0,
    "start_time": "2022-05-03T12:04:16.509Z"
   },
   {
    "duration": 0,
    "start_time": "2022-05-03T12:04:16.510Z"
   },
   {
    "duration": 0,
    "start_time": "2022-05-03T12:04:16.511Z"
   },
   {
    "duration": 0,
    "start_time": "2022-05-03T12:04:16.512Z"
   },
   {
    "duration": 6,
    "start_time": "2022-05-03T12:04:30.649Z"
   },
   {
    "duration": 71,
    "start_time": "2022-05-03T12:04:33.973Z"
   },
   {
    "duration": 100,
    "start_time": "2022-05-03T12:04:34.046Z"
   },
   {
    "duration": 9,
    "start_time": "2022-05-03T12:04:34.148Z"
   },
   {
    "duration": 33,
    "start_time": "2022-05-03T12:04:34.159Z"
   },
   {
    "duration": 17,
    "start_time": "2022-05-03T12:04:34.194Z"
   },
   {
    "duration": 9,
    "start_time": "2022-05-03T12:04:34.212Z"
   },
   {
    "duration": 5,
    "start_time": "2022-05-03T12:04:34.223Z"
   },
   {
    "duration": 16,
    "start_time": "2022-05-03T12:04:34.230Z"
   },
   {
    "duration": 3,
    "start_time": "2022-05-03T12:04:34.248Z"
   },
   {
    "duration": 19,
    "start_time": "2022-05-03T12:04:34.292Z"
   },
   {
    "duration": 372,
    "start_time": "2022-05-03T12:04:34.312Z"
   },
   {
    "duration": 8,
    "start_time": "2022-05-03T12:04:34.685Z"
   },
   {
    "duration": 27,
    "start_time": "2022-05-03T12:04:34.695Z"
   },
   {
    "duration": 213,
    "start_time": "2022-05-03T12:04:34.724Z"
   },
   {
    "duration": 245,
    "start_time": "2022-05-03T12:04:34.939Z"
   },
   {
    "duration": 161,
    "start_time": "2022-05-03T12:04:35.185Z"
   },
   {
    "duration": 220,
    "start_time": "2022-05-03T12:04:35.348Z"
   },
   {
    "duration": 6,
    "start_time": "2022-05-03T12:04:35.569Z"
   },
   {
    "duration": 224,
    "start_time": "2022-05-03T12:04:35.593Z"
   },
   {
    "duration": 122,
    "start_time": "2022-05-03T12:04:35.818Z"
   },
   {
    "duration": 9,
    "start_time": "2022-05-03T12:04:35.942Z"
   },
   {
    "duration": 15,
    "start_time": "2022-05-03T12:04:35.953Z"
   },
   {
    "duration": 0,
    "start_time": "2022-05-03T12:04:35.971Z"
   },
   {
    "duration": 0,
    "start_time": "2022-05-03T12:04:35.992Z"
   },
   {
    "duration": 0,
    "start_time": "2022-05-03T12:04:35.994Z"
   },
   {
    "duration": 0,
    "start_time": "2022-05-03T12:04:35.995Z"
   },
   {
    "duration": 0,
    "start_time": "2022-05-03T12:04:35.996Z"
   },
   {
    "duration": 0,
    "start_time": "2022-05-03T12:04:35.997Z"
   },
   {
    "duration": 0,
    "start_time": "2022-05-03T12:04:35.998Z"
   },
   {
    "duration": 0,
    "start_time": "2022-05-03T12:04:35.999Z"
   },
   {
    "duration": 0,
    "start_time": "2022-05-03T12:04:36.000Z"
   },
   {
    "duration": 0,
    "start_time": "2022-05-03T12:04:36.001Z"
   },
   {
    "duration": 0,
    "start_time": "2022-05-03T12:04:36.002Z"
   },
   {
    "duration": 0,
    "start_time": "2022-05-03T12:04:36.108Z"
   },
   {
    "duration": 0,
    "start_time": "2022-05-03T12:04:36.109Z"
   },
   {
    "duration": 0,
    "start_time": "2022-05-03T12:04:36.110Z"
   },
   {
    "duration": 0,
    "start_time": "2022-05-03T12:04:36.111Z"
   },
   {
    "duration": 0,
    "start_time": "2022-05-03T12:04:36.113Z"
   },
   {
    "duration": 0,
    "start_time": "2022-05-03T12:04:36.114Z"
   },
   {
    "duration": 0,
    "start_time": "2022-05-03T12:04:36.115Z"
   },
   {
    "duration": 0,
    "start_time": "2022-05-03T12:04:36.116Z"
   },
   {
    "duration": 0,
    "start_time": "2022-05-03T12:04:36.117Z"
   },
   {
    "duration": 0,
    "start_time": "2022-05-03T12:04:36.118Z"
   },
   {
    "duration": 0,
    "start_time": "2022-05-03T12:04:36.119Z"
   },
   {
    "duration": 0,
    "start_time": "2022-05-03T12:04:36.120Z"
   },
   {
    "duration": 0,
    "start_time": "2022-05-03T12:04:36.121Z"
   },
   {
    "duration": 0,
    "start_time": "2022-05-03T12:04:36.122Z"
   },
   {
    "duration": 0,
    "start_time": "2022-05-03T12:04:36.123Z"
   },
   {
    "duration": 0,
    "start_time": "2022-05-03T12:04:36.124Z"
   },
   {
    "duration": 0,
    "start_time": "2022-05-03T12:04:36.125Z"
   },
   {
    "duration": 0,
    "start_time": "2022-05-03T12:04:36.126Z"
   },
   {
    "duration": 0,
    "start_time": "2022-05-03T12:04:36.127Z"
   },
   {
    "duration": 0,
    "start_time": "2022-05-03T12:04:36.128Z"
   },
   {
    "duration": 0,
    "start_time": "2022-05-03T12:04:36.129Z"
   },
   {
    "duration": 0,
    "start_time": "2022-05-03T12:04:36.130Z"
   },
   {
    "duration": 5,
    "start_time": "2022-05-03T12:04:49.328Z"
   },
   {
    "duration": 11,
    "start_time": "2022-05-03T12:04:51.043Z"
   },
   {
    "duration": 40,
    "start_time": "2022-05-03T12:04:52.840Z"
   },
   {
    "duration": 9,
    "start_time": "2022-05-03T12:04:55.652Z"
   },
   {
    "duration": 40,
    "start_time": "2022-05-03T12:04:56.583Z"
   },
   {
    "duration": 8,
    "start_time": "2022-05-03T12:04:57.834Z"
   },
   {
    "duration": 44,
    "start_time": "2022-05-03T12:04:58.828Z"
   },
   {
    "duration": 10,
    "start_time": "2022-05-03T12:05:00.364Z"
   },
   {
    "duration": 42,
    "start_time": "2022-05-03T12:05:01.382Z"
   },
   {
    "duration": 7,
    "start_time": "2022-05-03T12:05:02.498Z"
   },
   {
    "duration": 38,
    "start_time": "2022-05-03T12:05:27.260Z"
   },
   {
    "duration": 252,
    "start_time": "2022-05-03T12:05:33.001Z"
   },
   {
    "duration": 9,
    "start_time": "2022-05-03T12:08:08.925Z"
   },
   {
    "duration": 73,
    "start_time": "2022-05-03T12:08:12.785Z"
   },
   {
    "duration": 109,
    "start_time": "2022-05-03T12:08:12.860Z"
   },
   {
    "duration": 29,
    "start_time": "2022-05-03T12:08:12.971Z"
   },
   {
    "duration": 8,
    "start_time": "2022-05-03T12:08:13.002Z"
   },
   {
    "duration": 15,
    "start_time": "2022-05-03T12:08:13.012Z"
   },
   {
    "duration": 8,
    "start_time": "2022-05-03T12:08:13.029Z"
   },
   {
    "duration": 6,
    "start_time": "2022-05-03T12:08:13.039Z"
   },
   {
    "duration": 55,
    "start_time": "2022-05-03T12:08:13.046Z"
   },
   {
    "duration": 4,
    "start_time": "2022-05-03T12:08:13.102Z"
   },
   {
    "duration": 33,
    "start_time": "2022-05-03T12:08:13.110Z"
   },
   {
    "duration": 552,
    "start_time": "2022-05-03T12:08:13.145Z"
   },
   {
    "duration": 6,
    "start_time": "2022-05-03T12:08:13.700Z"
   },
   {
    "duration": 42,
    "start_time": "2022-05-03T12:08:13.708Z"
   },
   {
    "duration": 401,
    "start_time": "2022-05-03T12:08:13.752Z"
   },
   {
    "duration": 281,
    "start_time": "2022-05-03T12:08:14.157Z"
   },
   {
    "duration": 176,
    "start_time": "2022-05-03T12:08:14.439Z"
   },
   {
    "duration": 243,
    "start_time": "2022-05-03T12:08:14.616Z"
   },
   {
    "duration": 6,
    "start_time": "2022-05-03T12:08:14.861Z"
   },
   {
    "duration": 358,
    "start_time": "2022-05-03T12:08:14.868Z"
   },
   {
    "duration": 188,
    "start_time": "2022-05-03T12:08:15.228Z"
   },
   {
    "duration": 39,
    "start_time": "2022-05-03T12:08:15.429Z"
   },
   {
    "duration": 94,
    "start_time": "2022-05-03T12:08:15.481Z"
   },
   {
    "duration": 5,
    "start_time": "2022-05-03T12:08:15.578Z"
   },
   {
    "duration": 11,
    "start_time": "2022-05-03T12:08:15.585Z"
   },
   {
    "duration": 57,
    "start_time": "2022-05-03T12:08:15.598Z"
   },
   {
    "duration": 10,
    "start_time": "2022-05-03T12:08:15.657Z"
   },
   {
    "duration": 79,
    "start_time": "2022-05-03T12:08:15.669Z"
   },
   {
    "duration": 10,
    "start_time": "2022-05-03T12:08:15.752Z"
   },
   {
    "duration": 69,
    "start_time": "2022-05-03T12:08:15.764Z"
   },
   {
    "duration": 10,
    "start_time": "2022-05-03T12:08:15.835Z"
   },
   {
    "duration": 55,
    "start_time": "2022-05-03T12:08:15.847Z"
   },
   {
    "duration": 266,
    "start_time": "2022-05-03T12:08:15.904Z"
   },
   {
    "duration": 157,
    "start_time": "2022-05-03T12:08:16.173Z"
   },
   {
    "duration": 142,
    "start_time": "2022-05-03T12:08:16.332Z"
   },
   {
    "duration": 147,
    "start_time": "2022-05-03T12:08:16.476Z"
   },
   {
    "duration": 11,
    "start_time": "2022-05-03T12:08:16.625Z"
   },
   {
    "duration": 141,
    "start_time": "2022-05-03T12:08:16.638Z"
   },
   {
    "duration": 1300,
    "start_time": "2022-05-03T12:08:16.781Z"
   },
   {
    "duration": 158,
    "start_time": "2022-05-03T12:08:18.083Z"
   },
   {
    "duration": 291,
    "start_time": "2022-05-03T12:08:18.243Z"
   },
   {
    "duration": 7,
    "start_time": "2022-05-03T12:08:18.535Z"
   },
   {
    "duration": 9,
    "start_time": "2022-05-03T12:08:18.544Z"
   },
   {
    "duration": 15,
    "start_time": "2022-05-03T12:08:18.555Z"
   },
   {
    "duration": 29,
    "start_time": "2022-05-03T12:08:18.572Z"
   },
   {
    "duration": 5,
    "start_time": "2022-05-03T12:08:18.603Z"
   },
   {
    "duration": 208,
    "start_time": "2022-05-03T12:08:18.610Z"
   },
   {
    "duration": 10,
    "start_time": "2022-05-03T12:08:18.820Z"
   },
   {
    "duration": 11,
    "start_time": "2022-05-03T12:08:18.832Z"
   },
   {
    "duration": 12,
    "start_time": "2022-05-03T12:08:18.844Z"
   },
   {
    "duration": 137,
    "start_time": "2022-05-03T12:08:18.858Z"
   },
   {
    "duration": 133,
    "start_time": "2022-05-03T12:08:18.997Z"
   },
   {
    "duration": 9,
    "start_time": "2022-05-03T12:08:19.132Z"
   },
   {
    "duration": 14,
    "start_time": "2022-05-03T12:08:19.143Z"
   },
   {
    "duration": 1810,
    "start_time": "2022-05-03T12:08:19.159Z"
   },
   {
    "duration": 183,
    "start_time": "2022-05-03T12:08:20.971Z"
   },
   {
    "duration": 241,
    "start_time": "2022-05-03T12:25:23.921Z"
   },
   {
    "duration": 243,
    "start_time": "2022-05-03T12:25:30.338Z"
   },
   {
    "duration": 9,
    "start_time": "2022-05-03T12:53:23.397Z"
   },
   {
    "duration": 143,
    "start_time": "2022-05-03T12:53:26.779Z"
   },
   {
    "duration": 183,
    "start_time": "2022-05-03T12:57:46.642Z"
   },
   {
    "duration": 146,
    "start_time": "2022-05-03T12:58:22.336Z"
   },
   {
    "duration": 147,
    "start_time": "2022-05-03T12:58:42.137Z"
   },
   {
    "duration": 158,
    "start_time": "2022-05-03T12:58:50.165Z"
   },
   {
    "duration": 163,
    "start_time": "2022-05-03T12:59:46.601Z"
   },
   {
    "duration": 202,
    "start_time": "2022-05-03T13:00:03.833Z"
   },
   {
    "duration": 208,
    "start_time": "2022-05-03T13:00:13.394Z"
   },
   {
    "duration": 348,
    "start_time": "2022-05-03T13:02:39.703Z"
   },
   {
    "duration": 127,
    "start_time": "2022-05-03T13:03:27.349Z"
   },
   {
    "duration": 125,
    "start_time": "2022-05-03T13:03:32.999Z"
   },
   {
    "duration": 156,
    "start_time": "2022-05-03T13:03:49.128Z"
   },
   {
    "duration": 202,
    "start_time": "2022-05-03T13:04:23.295Z"
   },
   {
    "duration": 147,
    "start_time": "2022-05-03T13:04:28.509Z"
   },
   {
    "duration": 150,
    "start_time": "2022-05-03T13:05:15.695Z"
   },
   {
    "duration": 12,
    "start_time": "2022-05-03T13:07:07.008Z"
   },
   {
    "duration": 11,
    "start_time": "2022-05-03T13:07:16.158Z"
   },
   {
    "duration": 19,
    "start_time": "2022-05-03T13:09:05.975Z"
   },
   {
    "duration": 11,
    "start_time": "2022-05-03T13:09:14.663Z"
   },
   {
    "duration": 7,
    "start_time": "2022-05-03T13:11:54.690Z"
   },
   {
    "duration": 149,
    "start_time": "2022-05-03T13:13:05.147Z"
   },
   {
    "duration": 153,
    "start_time": "2022-05-03T13:14:34.980Z"
   },
   {
    "duration": 213,
    "start_time": "2022-05-03T13:14:54.933Z"
   },
   {
    "duration": 11,
    "start_time": "2022-05-03T13:17:41.151Z"
   },
   {
    "duration": 9,
    "start_time": "2022-05-03T13:18:23.652Z"
   },
   {
    "duration": 38,
    "start_time": "2022-05-03T13:18:33.327Z"
   },
   {
    "duration": 81,
    "start_time": "2022-05-03T13:20:31.172Z"
   },
   {
    "duration": 82,
    "start_time": "2022-05-03T13:20:36.294Z"
   },
   {
    "duration": 120,
    "start_time": "2022-05-03T13:21:30.390Z"
   },
   {
    "duration": 196,
    "start_time": "2022-05-03T13:22:14.010Z"
   },
   {
    "duration": 209,
    "start_time": "2022-05-03T13:22:29.292Z"
   },
   {
    "duration": 253,
    "start_time": "2022-05-03T13:22:50.013Z"
   },
   {
    "duration": 150,
    "start_time": "2022-05-03T13:23:02.902Z"
   },
   {
    "duration": 6,
    "start_time": "2022-05-03T13:25:05.790Z"
   },
   {
    "duration": 5,
    "start_time": "2022-05-03T13:25:25.791Z"
   },
   {
    "duration": 7,
    "start_time": "2022-05-03T13:27:30.983Z"
   },
   {
    "duration": 5,
    "start_time": "2022-05-03T13:28:07.928Z"
   },
   {
    "duration": 6,
    "start_time": "2022-05-03T13:28:33.930Z"
   },
   {
    "duration": 11,
    "start_time": "2022-05-03T13:30:31.381Z"
   },
   {
    "duration": 39,
    "start_time": "2022-05-03T13:30:50.530Z"
   },
   {
    "duration": 416,
    "start_time": "2022-05-03T13:31:04.602Z"
   },
   {
    "duration": 6,
    "start_time": "2022-05-03T13:31:18.729Z"
   },
   {
    "duration": 199,
    "start_time": "2022-05-03T13:32:27.788Z"
   },
   {
    "duration": 6,
    "start_time": "2022-05-03T13:32:33.388Z"
   },
   {
    "duration": 38,
    "start_time": "2022-05-03T13:32:51.686Z"
   },
   {
    "duration": 6,
    "start_time": "2022-05-03T13:33:01.836Z"
   },
   {
    "duration": 72,
    "start_time": "2022-05-03T16:03:45.557Z"
   },
   {
    "duration": 1291,
    "start_time": "2022-05-03T16:03:48.029Z"
   },
   {
    "duration": 144,
    "start_time": "2022-05-03T16:03:49.323Z"
   },
   {
    "duration": 27,
    "start_time": "2022-05-03T16:03:49.470Z"
   },
   {
    "duration": 13,
    "start_time": "2022-05-03T16:03:49.501Z"
   },
   {
    "duration": 23,
    "start_time": "2022-05-03T16:03:49.517Z"
   },
   {
    "duration": 11,
    "start_time": "2022-05-03T16:03:49.543Z"
   },
   {
    "duration": 40,
    "start_time": "2022-05-03T16:03:49.556Z"
   },
   {
    "duration": 23,
    "start_time": "2022-05-03T16:03:49.599Z"
   },
   {
    "duration": 7,
    "start_time": "2022-05-03T16:03:49.624Z"
   },
   {
    "duration": 60,
    "start_time": "2022-05-03T16:03:49.635Z"
   },
   {
    "duration": 478,
    "start_time": "2022-05-03T16:03:49.697Z"
   },
   {
    "duration": 15,
    "start_time": "2022-05-03T16:03:50.178Z"
   },
   {
    "duration": 46,
    "start_time": "2022-05-03T16:03:50.195Z"
   },
   {
    "duration": 583,
    "start_time": "2022-05-03T16:03:50.243Z"
   },
   {
    "duration": 403,
    "start_time": "2022-05-03T16:03:50.828Z"
   },
   {
    "duration": 262,
    "start_time": "2022-05-03T16:03:51.233Z"
   },
   {
    "duration": 369,
    "start_time": "2022-05-03T16:03:51.497Z"
   },
   {
    "duration": 8,
    "start_time": "2022-05-03T16:03:51.870Z"
   },
   {
    "duration": 385,
    "start_time": "2022-05-03T16:03:51.881Z"
   },
   {
    "duration": 190,
    "start_time": "2022-05-03T16:03:52.268Z"
   },
   {
    "duration": 12,
    "start_time": "2022-05-03T16:03:52.460Z"
   },
   {
    "duration": 121,
    "start_time": "2022-05-03T16:03:52.474Z"
   },
   {
    "duration": 7,
    "start_time": "2022-05-03T16:03:52.598Z"
   },
   {
    "duration": 19,
    "start_time": "2022-05-03T16:03:52.608Z"
   },
   {
    "duration": 117,
    "start_time": "2022-05-03T16:03:52.630Z"
   },
   {
    "duration": 15,
    "start_time": "2022-05-03T16:03:52.750Z"
   },
   {
    "duration": 103,
    "start_time": "2022-05-03T16:03:52.767Z"
   },
   {
    "duration": 27,
    "start_time": "2022-05-03T16:03:52.877Z"
   },
   {
    "duration": 111,
    "start_time": "2022-05-03T16:03:52.907Z"
   },
   {
    "duration": 16,
    "start_time": "2022-05-03T16:03:53.021Z"
   },
   {
    "duration": 84,
    "start_time": "2022-05-03T16:03:53.039Z"
   },
   {
    "duration": 11,
    "start_time": "2022-05-03T16:03:53.126Z"
   },
   {
    "duration": 83,
    "start_time": "2022-05-03T16:03:53.139Z"
   },
   {
    "duration": 1174,
    "start_time": "2022-05-03T16:03:53.225Z"
   },
   {
    "duration": 10,
    "start_time": "2022-05-03T16:03:54.401Z"
   },
   {
    "duration": 7,
    "start_time": "2022-05-03T16:03:54.413Z"
   },
   {
    "duration": 7,
    "start_time": "2022-05-03T16:03:54.422Z"
   },
   {
    "duration": 64,
    "start_time": "2022-05-03T16:03:54.431Z"
   },
   {
    "duration": 405,
    "start_time": "2022-05-03T16:03:54.498Z"
   },
   {
    "duration": 2872,
    "start_time": "2022-05-03T16:03:54.906Z"
   },
   {
    "duration": 260,
    "start_time": "2022-05-03T16:03:57.781Z"
   },
   {
    "duration": 290,
    "start_time": "2022-05-03T16:03:58.043Z"
   },
   {
    "duration": 10,
    "start_time": "2022-05-03T16:03:58.336Z"
   },
   {
    "duration": 8,
    "start_time": "2022-05-03T16:03:58.349Z"
   },
   {
    "duration": 45,
    "start_time": "2022-05-03T16:03:58.360Z"
   },
   {
    "duration": 16,
    "start_time": "2022-05-03T16:03:58.407Z"
   },
   {
    "duration": 9,
    "start_time": "2022-05-03T16:03:58.425Z"
   },
   {
    "duration": 368,
    "start_time": "2022-05-03T16:03:58.436Z"
   },
   {
    "duration": 15,
    "start_time": "2022-05-03T16:03:58.806Z"
   },
   {
    "duration": 18,
    "start_time": "2022-05-03T16:03:58.824Z"
   },
   {
    "duration": 49,
    "start_time": "2022-05-03T16:03:58.844Z"
   },
   {
    "duration": 264,
    "start_time": "2022-05-03T16:03:58.896Z"
   },
   {
    "duration": 311,
    "start_time": "2022-05-03T16:03:59.163Z"
   },
   {
    "duration": 23,
    "start_time": "2022-05-03T16:03:59.477Z"
   },
   {
    "duration": 13,
    "start_time": "2022-05-03T16:03:59.502Z"
   },
   {
    "duration": 2857,
    "start_time": "2022-05-03T16:03:59.517Z"
   },
   {
    "duration": 296,
    "start_time": "2022-05-03T16:04:02.376Z"
   },
   {
    "duration": 12,
    "start_time": "2022-05-03T16:05:21.129Z"
   },
   {
    "duration": 13,
    "start_time": "2022-05-03T16:06:24.424Z"
   },
   {
    "duration": 252,
    "start_time": "2022-05-03T16:06:32.319Z"
   },
   {
    "duration": 61,
    "start_time": "2022-05-03T16:07:34.656Z"
   },
   {
    "duration": 7,
    "start_time": "2022-05-03T16:08:08.195Z"
   },
   {
    "duration": 8,
    "start_time": "2022-05-03T16:08:54.513Z"
   },
   {
    "duration": 93,
    "start_time": "2022-05-03T16:13:13.301Z"
   },
   {
    "duration": 145,
    "start_time": "2022-05-03T16:13:13.397Z"
   },
   {
    "duration": 13,
    "start_time": "2022-05-03T16:13:13.544Z"
   },
   {
    "duration": 36,
    "start_time": "2022-05-03T16:13:13.560Z"
   },
   {
    "duration": 20,
    "start_time": "2022-05-03T16:13:13.598Z"
   },
   {
    "duration": 10,
    "start_time": "2022-05-03T16:13:13.621Z"
   },
   {
    "duration": 7,
    "start_time": "2022-05-03T16:13:13.634Z"
   },
   {
    "duration": 64,
    "start_time": "2022-05-03T16:13:13.645Z"
   },
   {
    "duration": 6,
    "start_time": "2022-05-03T16:13:13.712Z"
   },
   {
    "duration": 35,
    "start_time": "2022-05-03T16:13:13.722Z"
   },
   {
    "duration": 713,
    "start_time": "2022-05-03T16:13:13.761Z"
   },
   {
    "duration": 18,
    "start_time": "2022-05-03T16:13:14.477Z"
   },
   {
    "duration": 54,
    "start_time": "2022-05-03T16:13:14.497Z"
   },
   {
    "duration": 523,
    "start_time": "2022-05-03T16:13:14.554Z"
   },
   {
    "duration": 438,
    "start_time": "2022-05-03T16:13:15.093Z"
   },
   {
    "duration": 269,
    "start_time": "2022-05-03T16:13:15.534Z"
   },
   {
    "duration": 389,
    "start_time": "2022-05-03T16:13:15.806Z"
   },
   {
    "duration": 7,
    "start_time": "2022-05-03T16:13:16.197Z"
   },
   {
    "duration": 389,
    "start_time": "2022-05-03T16:13:16.209Z"
   },
   {
    "duration": 195,
    "start_time": "2022-05-03T16:13:16.600Z"
   },
   {
    "duration": 13,
    "start_time": "2022-05-03T16:13:16.797Z"
   },
   {
    "duration": 86,
    "start_time": "2022-05-03T16:13:16.812Z"
   },
   {
    "duration": 6,
    "start_time": "2022-05-03T16:13:16.900Z"
   },
   {
    "duration": 14,
    "start_time": "2022-05-03T16:13:16.908Z"
   },
   {
    "duration": 94,
    "start_time": "2022-05-03T16:13:16.924Z"
   },
   {
    "duration": 13,
    "start_time": "2022-05-03T16:13:17.020Z"
   },
   {
    "duration": 85,
    "start_time": "2022-05-03T16:13:17.036Z"
   },
   {
    "duration": 14,
    "start_time": "2022-05-03T16:13:17.124Z"
   },
   {
    "duration": 128,
    "start_time": "2022-05-03T16:13:17.141Z"
   },
   {
    "duration": 22,
    "start_time": "2022-05-03T16:13:17.272Z"
   },
   {
    "duration": 60,
    "start_time": "2022-05-03T16:13:17.297Z"
   },
   {
    "duration": 39,
    "start_time": "2022-05-03T16:13:17.360Z"
   },
   {
    "duration": 65,
    "start_time": "2022-05-03T16:13:17.402Z"
   },
   {
    "duration": 3,
    "start_time": "2022-05-03T16:13:17.493Z"
   },
   {
    "duration": 9,
    "start_time": "2022-05-03T16:13:17.500Z"
   },
   {
    "duration": 7,
    "start_time": "2022-05-03T16:13:17.511Z"
   },
   {
    "duration": 10,
    "start_time": "2022-05-03T16:13:17.520Z"
   },
   {
    "duration": 8,
    "start_time": "2022-05-03T16:13:17.534Z"
   },
   {
    "duration": 316,
    "start_time": "2022-05-03T16:13:17.593Z"
   },
   {
    "duration": 2136,
    "start_time": "2022-05-03T16:13:17.911Z"
   },
   {
    "duration": 284,
    "start_time": "2022-05-03T16:13:20.049Z"
   },
   {
    "duration": 14,
    "start_time": "2022-05-03T16:13:20.339Z"
   },
   {
    "duration": 37,
    "start_time": "2022-05-03T16:13:20.356Z"
   },
   {
    "duration": 268,
    "start_time": "2022-05-03T16:13:20.396Z"
   },
   {
    "duration": 8,
    "start_time": "2022-05-03T16:13:20.666Z"
   },
   {
    "duration": 26,
    "start_time": "2022-05-03T16:13:20.676Z"
   },
   {
    "duration": 11,
    "start_time": "2022-05-03T16:13:20.704Z"
   },
   {
    "duration": 23,
    "start_time": "2022-05-03T16:13:20.718Z"
   },
   {
    "duration": 50,
    "start_time": "2022-05-03T16:13:20.743Z"
   },
   {
    "duration": 8,
    "start_time": "2022-05-03T16:13:20.796Z"
   },
   {
    "duration": 414,
    "start_time": "2022-05-03T16:13:20.806Z"
   },
   {
    "duration": 20,
    "start_time": "2022-05-03T16:13:21.223Z"
   },
   {
    "duration": 47,
    "start_time": "2022-05-03T16:13:21.246Z"
   },
   {
    "duration": 18,
    "start_time": "2022-05-03T16:13:21.295Z"
   },
   {
    "duration": 262,
    "start_time": "2022-05-03T16:13:21.316Z"
   },
   {
    "duration": 304,
    "start_time": "2022-05-03T16:13:21.581Z"
   },
   {
    "duration": 16,
    "start_time": "2022-05-03T16:13:21.892Z"
   },
   {
    "duration": 17,
    "start_time": "2022-05-03T16:13:21.911Z"
   },
   {
    "duration": 2732,
    "start_time": "2022-05-03T16:13:21.930Z"
   },
   {
    "duration": 314,
    "start_time": "2022-05-03T16:13:24.664Z"
   },
   {
    "duration": 544,
    "start_time": "2022-05-03T16:17:27.332Z"
   },
   {
    "duration": 257,
    "start_time": "2022-05-03T16:17:33.216Z"
   },
   {
    "duration": 8,
    "start_time": "2022-05-03T16:20:10.880Z"
   },
   {
    "duration": 9,
    "start_time": "2022-05-03T16:20:17.289Z"
   },
   {
    "duration": 8,
    "start_time": "2022-05-03T16:20:25.815Z"
   },
   {
    "duration": 8,
    "start_time": "2022-05-03T16:20:33.176Z"
   },
   {
    "duration": 9,
    "start_time": "2022-05-03T16:21:25.250Z"
   },
   {
    "duration": 14,
    "start_time": "2022-05-03T16:21:43.900Z"
   },
   {
    "duration": 60,
    "start_time": "2022-05-03T16:22:25.910Z"
   },
   {
    "duration": 100,
    "start_time": "2022-05-03T16:23:17.310Z"
   },
   {
    "duration": 154,
    "start_time": "2022-05-03T16:23:18.661Z"
   },
   {
    "duration": 15,
    "start_time": "2022-05-03T16:23:18.819Z"
   },
   {
    "duration": 21,
    "start_time": "2022-05-03T16:23:18.837Z"
   },
   {
    "duration": 46,
    "start_time": "2022-05-03T16:23:18.861Z"
   },
   {
    "duration": 12,
    "start_time": "2022-05-03T16:23:18.912Z"
   },
   {
    "duration": 9,
    "start_time": "2022-05-03T16:23:18.927Z"
   },
   {
    "duration": 56,
    "start_time": "2022-05-03T16:23:18.939Z"
   },
   {
    "duration": 6,
    "start_time": "2022-05-03T16:23:18.997Z"
   },
   {
    "duration": 34,
    "start_time": "2022-05-03T16:23:19.005Z"
   },
   {
    "duration": 515,
    "start_time": "2022-05-03T16:23:19.041Z"
   },
   {
    "duration": 9,
    "start_time": "2022-05-03T16:23:19.558Z"
   },
   {
    "duration": 61,
    "start_time": "2022-05-03T16:23:19.569Z"
   },
   {
    "duration": 377,
    "start_time": "2022-05-03T16:23:19.633Z"
   },
   {
    "duration": 583,
    "start_time": "2022-05-03T16:23:20.017Z"
   },
   {
    "duration": 271,
    "start_time": "2022-05-03T16:23:20.603Z"
   },
   {
    "duration": 395,
    "start_time": "2022-05-03T16:23:20.877Z"
   },
   {
    "duration": 20,
    "start_time": "2022-05-03T16:23:21.275Z"
   },
   {
    "duration": 383,
    "start_time": "2022-05-03T16:23:21.297Z"
   },
   {
    "duration": 193,
    "start_time": "2022-05-03T16:23:21.683Z"
   },
   {
    "duration": 24,
    "start_time": "2022-05-03T16:23:21.879Z"
   },
   {
    "duration": 64,
    "start_time": "2022-05-03T16:23:21.905Z"
   },
   {
    "duration": 26,
    "start_time": "2022-05-03T16:23:21.972Z"
   },
   {
    "duration": 14,
    "start_time": "2022-05-03T16:23:22.000Z"
   },
   {
    "duration": 89,
    "start_time": "2022-05-03T16:23:22.017Z"
   },
   {
    "duration": 13,
    "start_time": "2022-05-03T16:23:22.109Z"
   },
   {
    "duration": 92,
    "start_time": "2022-05-03T16:23:22.125Z"
   },
   {
    "duration": 13,
    "start_time": "2022-05-03T16:23:22.221Z"
   },
   {
    "duration": 98,
    "start_time": "2022-05-03T16:23:22.237Z"
   },
   {
    "duration": 12,
    "start_time": "2022-05-03T16:23:22.337Z"
   },
   {
    "duration": 77,
    "start_time": "2022-05-03T16:23:22.352Z"
   },
   {
    "duration": 13,
    "start_time": "2022-05-03T16:23:22.432Z"
   },
   {
    "duration": 83,
    "start_time": "2022-05-03T16:23:22.447Z"
   },
   {
    "duration": 8,
    "start_time": "2022-05-03T16:23:22.532Z"
   },
   {
    "duration": 9,
    "start_time": "2022-05-03T16:23:22.543Z"
   },
   {
    "duration": 10,
    "start_time": "2022-05-03T16:23:22.555Z"
   },
   {
    "duration": 35,
    "start_time": "2022-05-03T16:23:22.567Z"
   },
   {
    "duration": 217,
    "start_time": "2022-05-03T16:23:22.605Z"
   },
   {
    "duration": 2216,
    "start_time": "2022-05-03T16:23:22.825Z"
   },
   {
    "duration": 284,
    "start_time": "2022-05-03T16:23:25.043Z"
   },
   {
    "duration": 12,
    "start_time": "2022-05-03T16:23:25.330Z"
   },
   {
    "duration": 43,
    "start_time": "2022-05-03T16:23:25.352Z"
   },
   {
    "duration": 376,
    "start_time": "2022-05-03T16:23:25.398Z"
   },
   {
    "duration": 21,
    "start_time": "2022-05-03T16:23:25.777Z"
   },
   {
    "duration": 11,
    "start_time": "2022-05-03T16:23:25.801Z"
   },
   {
    "duration": 11,
    "start_time": "2022-05-03T16:23:25.814Z"
   },
   {
    "duration": 25,
    "start_time": "2022-05-03T16:23:25.827Z"
   },
   {
    "duration": 51,
    "start_time": "2022-05-03T16:23:25.854Z"
   },
   {
    "duration": 9,
    "start_time": "2022-05-03T16:23:25.907Z"
   },
   {
    "duration": 375,
    "start_time": "2022-05-03T16:23:25.918Z"
   },
   {
    "duration": 15,
    "start_time": "2022-05-03T16:23:26.295Z"
   },
   {
    "duration": 22,
    "start_time": "2022-05-03T16:23:26.313Z"
   },
   {
    "duration": 18,
    "start_time": "2022-05-03T16:23:26.337Z"
   },
   {
    "duration": 229,
    "start_time": "2022-05-03T16:23:26.357Z"
   },
   {
    "duration": 221,
    "start_time": "2022-05-03T16:23:26.588Z"
   },
   {
    "duration": 16,
    "start_time": "2022-05-03T16:23:26.812Z"
   },
   {
    "duration": 14,
    "start_time": "2022-05-03T16:23:26.831Z"
   },
   {
    "duration": 2993,
    "start_time": "2022-05-03T16:23:26.848Z"
   },
   {
    "duration": 292,
    "start_time": "2022-05-03T16:23:29.844Z"
   },
   {
    "duration": 369,
    "start_time": "2022-05-03T16:25:35.543Z"
   },
   {
    "duration": 8,
    "start_time": "2022-05-03T16:26:09.420Z"
   },
   {
    "duration": 7,
    "start_time": "2022-05-03T16:26:53.195Z"
   },
   {
    "duration": 8,
    "start_time": "2022-05-03T16:27:37.231Z"
   },
   {
    "duration": 59,
    "start_time": "2022-05-03T16:32:01.428Z"
   },
   {
    "duration": 13,
    "start_time": "2022-05-03T16:32:26.135Z"
   },
   {
    "duration": 2843,
    "start_time": "2022-05-03T16:33:41.332Z"
   },
   {
    "duration": 279,
    "start_time": "2022-05-03T16:35:25.014Z"
   },
   {
    "duration": 24,
    "start_time": "2022-05-03T16:46:57.460Z"
   },
   {
    "duration": 22,
    "start_time": "2022-05-03T16:47:07.911Z"
   },
   {
    "duration": 15,
    "start_time": "2022-05-03T16:49:18.671Z"
   },
   {
    "duration": 14,
    "start_time": "2022-05-03T16:50:50.416Z"
   },
   {
    "duration": 17,
    "start_time": "2022-05-03T16:50:55.950Z"
   },
   {
    "duration": 15,
    "start_time": "2022-05-03T16:53:35.039Z"
   },
   {
    "duration": 15,
    "start_time": "2022-05-03T16:54:03.367Z"
   },
   {
    "duration": 90,
    "start_time": "2022-05-03T16:54:16.975Z"
   },
   {
    "duration": 135,
    "start_time": "2022-05-03T16:54:17.067Z"
   },
   {
    "duration": 12,
    "start_time": "2022-05-03T16:54:17.204Z"
   },
   {
    "duration": 15,
    "start_time": "2022-05-03T16:54:17.218Z"
   },
   {
    "duration": 19,
    "start_time": "2022-05-03T16:54:17.236Z"
   },
   {
    "duration": 38,
    "start_time": "2022-05-03T16:54:17.257Z"
   },
   {
    "duration": 8,
    "start_time": "2022-05-03T16:54:17.297Z"
   },
   {
    "duration": 22,
    "start_time": "2022-05-03T16:54:17.307Z"
   },
   {
    "duration": 5,
    "start_time": "2022-05-03T16:54:17.331Z"
   },
   {
    "duration": 57,
    "start_time": "2022-05-03T16:54:17.338Z"
   },
   {
    "duration": 444,
    "start_time": "2022-05-03T16:54:17.398Z"
   },
   {
    "duration": 8,
    "start_time": "2022-05-03T16:54:17.844Z"
   },
   {
    "duration": 53,
    "start_time": "2022-05-03T16:54:17.854Z"
   },
   {
    "duration": 354,
    "start_time": "2022-05-03T16:54:17.912Z"
   },
   {
    "duration": 396,
    "start_time": "2022-05-03T16:54:18.268Z"
   },
   {
    "duration": 247,
    "start_time": "2022-05-03T16:54:18.666Z"
   },
   {
    "duration": 369,
    "start_time": "2022-05-03T16:54:18.916Z"
   },
   {
    "duration": 11,
    "start_time": "2022-05-03T16:54:19.288Z"
   },
   {
    "duration": 379,
    "start_time": "2022-05-03T16:54:19.302Z"
   },
   {
    "duration": 178,
    "start_time": "2022-05-03T16:54:19.684Z"
   },
   {
    "duration": 13,
    "start_time": "2022-05-03T16:54:19.865Z"
   },
   {
    "duration": 61,
    "start_time": "2022-05-03T16:54:19.892Z"
   },
   {
    "duration": 7,
    "start_time": "2022-05-03T16:54:19.955Z"
   },
   {
    "duration": 34,
    "start_time": "2022-05-03T16:54:19.964Z"
   },
   {
    "duration": 63,
    "start_time": "2022-05-03T16:54:20.001Z"
   },
   {
    "duration": 33,
    "start_time": "2022-05-03T16:54:20.066Z"
   },
   {
    "duration": 57,
    "start_time": "2022-05-03T16:54:20.101Z"
   },
   {
    "duration": 37,
    "start_time": "2022-05-03T16:54:20.161Z"
   },
   {
    "duration": 65,
    "start_time": "2022-05-03T16:54:20.201Z"
   },
   {
    "duration": 34,
    "start_time": "2022-05-03T16:54:20.268Z"
   },
   {
    "duration": 55,
    "start_time": "2022-05-03T16:54:20.304Z"
   },
   {
    "duration": 33,
    "start_time": "2022-05-03T16:54:20.361Z"
   },
   {
    "duration": 55,
    "start_time": "2022-05-03T16:54:20.396Z"
   },
   {
    "duration": 7,
    "start_time": "2022-05-03T16:54:20.453Z"
   },
   {
    "duration": 34,
    "start_time": "2022-05-03T16:54:20.461Z"
   },
   {
    "duration": 12,
    "start_time": "2022-05-03T16:54:20.497Z"
   },
   {
    "duration": 8,
    "start_time": "2022-05-03T16:54:20.511Z"
   },
   {
    "duration": 211,
    "start_time": "2022-05-03T16:54:20.521Z"
   },
   {
    "duration": 1880,
    "start_time": "2022-05-03T16:54:20.735Z"
   },
   {
    "duration": 256,
    "start_time": "2022-05-03T16:54:22.617Z"
   },
   {
    "duration": 274,
    "start_time": "2022-05-03T16:54:22.878Z"
   },
   {
    "duration": 9,
    "start_time": "2022-05-03T16:54:23.154Z"
   },
   {
    "duration": 8,
    "start_time": "2022-05-03T16:54:23.165Z"
   },
   {
    "duration": 18,
    "start_time": "2022-05-03T16:54:23.193Z"
   },
   {
    "duration": 14,
    "start_time": "2022-05-03T16:54:23.213Z"
   },
   {
    "duration": 7,
    "start_time": "2022-05-03T16:54:23.229Z"
   },
   {
    "duration": 366,
    "start_time": "2022-05-03T16:54:23.239Z"
   },
   {
    "duration": 17,
    "start_time": "2022-05-03T16:54:23.608Z"
   },
   {
    "duration": 18,
    "start_time": "2022-05-03T16:54:23.627Z"
   },
   {
    "duration": 46,
    "start_time": "2022-05-03T16:54:23.648Z"
   },
   {
    "duration": 177,
    "start_time": "2022-05-03T16:54:23.697Z"
   },
   {
    "duration": 202,
    "start_time": "2022-05-03T16:54:23.876Z"
   },
   {
    "duration": 2807,
    "start_time": "2022-05-03T16:54:24.080Z"
   },
   {
    "duration": 2643,
    "start_time": "2022-05-03T16:54:26.892Z"
   },
   {
    "duration": 271,
    "start_time": "2022-05-03T16:54:29.538Z"
   },
   {
    "duration": 267,
    "start_time": "2022-05-03T16:54:29.811Z"
   },
   {
    "duration": 16,
    "start_time": "2022-05-03T16:55:01.515Z"
   },
   {
    "duration": 93,
    "start_time": "2022-05-03T16:55:07.642Z"
   },
   {
    "duration": 159,
    "start_time": "2022-05-03T16:55:07.738Z"
   },
   {
    "duration": 15,
    "start_time": "2022-05-03T16:55:07.900Z"
   },
   {
    "duration": 12,
    "start_time": "2022-05-03T16:55:07.919Z"
   },
   {
    "duration": 21,
    "start_time": "2022-05-03T16:55:07.933Z"
   },
   {
    "duration": 12,
    "start_time": "2022-05-03T16:55:07.994Z"
   },
   {
    "duration": 9,
    "start_time": "2022-05-03T16:55:08.008Z"
   },
   {
    "duration": 22,
    "start_time": "2022-05-03T16:55:08.020Z"
   },
   {
    "duration": 49,
    "start_time": "2022-05-03T16:55:08.045Z"
   },
   {
    "duration": 25,
    "start_time": "2022-05-03T16:55:08.100Z"
   },
   {
    "duration": 485,
    "start_time": "2022-05-03T16:55:08.127Z"
   },
   {
    "duration": 7,
    "start_time": "2022-05-03T16:55:08.614Z"
   },
   {
    "duration": 42,
    "start_time": "2022-05-03T16:55:08.623Z"
   },
   {
    "duration": 361,
    "start_time": "2022-05-03T16:55:08.667Z"
   },
   {
    "duration": 403,
    "start_time": "2022-05-03T16:55:09.030Z"
   },
   {
    "duration": 260,
    "start_time": "2022-05-03T16:55:09.435Z"
   },
   {
    "duration": 386,
    "start_time": "2022-05-03T16:55:09.698Z"
   },
   {
    "duration": 14,
    "start_time": "2022-05-03T16:55:10.087Z"
   },
   {
    "duration": 393,
    "start_time": "2022-05-03T16:55:10.103Z"
   },
   {
    "duration": 179,
    "start_time": "2022-05-03T16:55:10.498Z"
   },
   {
    "duration": 22,
    "start_time": "2022-05-03T16:55:10.680Z"
   },
   {
    "duration": 65,
    "start_time": "2022-05-03T16:55:10.704Z"
   },
   {
    "duration": 28,
    "start_time": "2022-05-03T16:55:10.771Z"
   },
   {
    "duration": 17,
    "start_time": "2022-05-03T16:55:10.802Z"
   },
   {
    "duration": 83,
    "start_time": "2022-05-03T16:55:10.822Z"
   },
   {
    "duration": 13,
    "start_time": "2022-05-03T16:55:10.908Z"
   },
   {
    "duration": 83,
    "start_time": "2022-05-03T16:55:10.924Z"
   },
   {
    "duration": 12,
    "start_time": "2022-05-03T16:55:11.015Z"
   },
   {
    "duration": 96,
    "start_time": "2022-05-03T16:55:11.030Z"
   },
   {
    "duration": 11,
    "start_time": "2022-05-03T16:55:11.128Z"
   },
   {
    "duration": 78,
    "start_time": "2022-05-03T16:55:11.142Z"
   },
   {
    "duration": 11,
    "start_time": "2022-05-03T16:55:11.223Z"
   },
   {
    "duration": 77,
    "start_time": "2022-05-03T16:55:11.236Z"
   },
   {
    "duration": 7,
    "start_time": "2022-05-03T16:55:11.315Z"
   },
   {
    "duration": 7,
    "start_time": "2022-05-03T16:55:11.324Z"
   },
   {
    "duration": 6,
    "start_time": "2022-05-03T16:55:11.333Z"
   },
   {
    "duration": 7,
    "start_time": "2022-05-03T16:55:11.341Z"
   },
   {
    "duration": 231,
    "start_time": "2022-05-03T16:55:11.350Z"
   },
   {
    "duration": 2206,
    "start_time": "2022-05-03T16:55:11.583Z"
   },
   {
    "duration": 269,
    "start_time": "2022-05-03T16:55:13.794Z"
   },
   {
    "duration": 274,
    "start_time": "2022-05-03T16:55:14.065Z"
   },
   {
    "duration": 9,
    "start_time": "2022-05-03T16:55:14.341Z"
   },
   {
    "duration": 9,
    "start_time": "2022-05-03T16:55:14.352Z"
   },
   {
    "duration": 43,
    "start_time": "2022-05-03T16:55:14.363Z"
   },
   {
    "duration": 14,
    "start_time": "2022-05-03T16:55:14.408Z"
   },
   {
    "duration": 7,
    "start_time": "2022-05-03T16:55:14.425Z"
   },
   {
    "duration": 377,
    "start_time": "2022-05-03T16:55:14.434Z"
   },
   {
    "duration": 15,
    "start_time": "2022-05-03T16:55:14.813Z"
   },
   {
    "duration": 80,
    "start_time": "2022-05-03T16:55:14.831Z"
   },
   {
    "duration": 81,
    "start_time": "2022-05-03T16:55:14.914Z"
   },
   {
    "duration": 495,
    "start_time": "2022-05-03T16:55:14.998Z"
   },
   {
    "duration": 597,
    "start_time": "2022-05-03T16:55:15.496Z"
   },
   {
    "duration": 3635,
    "start_time": "2022-05-03T16:55:16.097Z"
   },
   {
    "duration": 2591,
    "start_time": "2022-05-03T16:55:19.735Z"
   },
   {
    "duration": 279,
    "start_time": "2022-05-03T16:55:22.329Z"
   },
   {
    "duration": 378,
    "start_time": "2022-05-03T16:55:22.610Z"
   },
   {
    "duration": 448,
    "start_time": "2022-05-03T17:11:43.988Z"
   },
   {
    "duration": 390,
    "start_time": "2022-05-03T17:11:52.010Z"
   },
   {
    "duration": 921,
    "start_time": "2022-05-04T08:38:05.245Z"
   },
   {
    "duration": 134,
    "start_time": "2022-05-04T08:38:06.169Z"
   },
   {
    "duration": 13,
    "start_time": "2022-05-04T08:38:06.305Z"
   },
   {
    "duration": 26,
    "start_time": "2022-05-04T08:38:06.321Z"
   },
   {
    "duration": 33,
    "start_time": "2022-05-04T08:38:06.351Z"
   },
   {
    "duration": 10,
    "start_time": "2022-05-04T08:38:06.386Z"
   },
   {
    "duration": 16,
    "start_time": "2022-05-04T08:38:06.398Z"
   },
   {
    "duration": 38,
    "start_time": "2022-05-04T08:38:06.416Z"
   },
   {
    "duration": 7,
    "start_time": "2022-05-04T08:38:06.456Z"
   },
   {
    "duration": 29,
    "start_time": "2022-05-04T08:38:06.467Z"
   },
   {
    "duration": 474,
    "start_time": "2022-05-04T08:38:06.498Z"
   },
   {
    "duration": 7,
    "start_time": "2022-05-04T08:38:06.974Z"
   },
   {
    "duration": 41,
    "start_time": "2022-05-04T08:38:06.983Z"
   },
   {
    "duration": 429,
    "start_time": "2022-05-04T08:38:07.026Z"
   },
   {
    "duration": 417,
    "start_time": "2022-05-04T08:38:07.458Z"
   },
   {
    "duration": 259,
    "start_time": "2022-05-04T08:38:07.877Z"
   },
   {
    "duration": 382,
    "start_time": "2022-05-04T08:38:08.138Z"
   },
   {
    "duration": 7,
    "start_time": "2022-05-04T08:38:08.523Z"
   },
   {
    "duration": 388,
    "start_time": "2022-05-04T08:38:08.532Z"
   },
   {
    "duration": 191,
    "start_time": "2022-05-04T08:38:08.921Z"
   },
   {
    "duration": 11,
    "start_time": "2022-05-04T08:38:09.115Z"
   },
   {
    "duration": 82,
    "start_time": "2022-05-04T08:38:09.128Z"
   },
   {
    "duration": 6,
    "start_time": "2022-05-04T08:38:09.212Z"
   },
   {
    "duration": 16,
    "start_time": "2022-05-04T08:38:09.219Z"
   },
   {
    "duration": 62,
    "start_time": "2022-05-04T08:38:09.252Z"
   },
   {
    "duration": 10,
    "start_time": "2022-05-04T08:38:09.316Z"
   },
   {
    "duration": 92,
    "start_time": "2022-05-04T08:38:09.328Z"
   },
   {
    "duration": 10,
    "start_time": "2022-05-04T08:38:09.426Z"
   },
   {
    "duration": 74,
    "start_time": "2022-05-04T08:38:09.438Z"
   },
   {
    "duration": 37,
    "start_time": "2022-05-04T08:38:09.515Z"
   },
   {
    "duration": 57,
    "start_time": "2022-05-04T08:38:09.554Z"
   },
   {
    "duration": 39,
    "start_time": "2022-05-04T08:38:09.614Z"
   },
   {
    "duration": 58,
    "start_time": "2022-05-04T08:38:09.656Z"
   },
   {
    "duration": 8,
    "start_time": "2022-05-04T08:38:09.717Z"
   },
   {
    "duration": 29,
    "start_time": "2022-05-04T08:38:09.727Z"
   },
   {
    "duration": 14,
    "start_time": "2022-05-04T08:38:09.758Z"
   },
   {
    "duration": 11,
    "start_time": "2022-05-04T08:38:09.774Z"
   },
   {
    "duration": 220,
    "start_time": "2022-05-04T08:38:09.788Z"
   },
   {
    "duration": 2061,
    "start_time": "2022-05-04T08:38:10.011Z"
   },
   {
    "duration": 256,
    "start_time": "2022-05-04T08:38:12.075Z"
   },
   {
    "duration": 288,
    "start_time": "2022-05-04T08:38:12.334Z"
   },
   {
    "duration": 8,
    "start_time": "2022-05-04T08:38:12.625Z"
   },
   {
    "duration": 20,
    "start_time": "2022-05-04T08:38:12.635Z"
   },
   {
    "duration": 19,
    "start_time": "2022-05-04T08:38:12.657Z"
   },
   {
    "duration": 15,
    "start_time": "2022-05-04T08:38:12.678Z"
   },
   {
    "duration": 8,
    "start_time": "2022-05-04T08:38:12.696Z"
   },
   {
    "duration": 383,
    "start_time": "2022-05-04T08:38:12.707Z"
   },
   {
    "duration": 15,
    "start_time": "2022-05-04T08:38:13.092Z"
   },
   {
    "duration": 19,
    "start_time": "2022-05-04T08:38:13.109Z"
   },
   {
    "duration": 38,
    "start_time": "2022-05-04T08:38:13.130Z"
   },
   {
    "duration": 194,
    "start_time": "2022-05-04T08:38:13.170Z"
   },
   {
    "duration": 218,
    "start_time": "2022-05-04T08:38:13.367Z"
   },
   {
    "duration": 2801,
    "start_time": "2022-05-04T08:38:13.587Z"
   },
   {
    "duration": 2712,
    "start_time": "2022-05-04T08:38:16.390Z"
   },
   {
    "duration": 409,
    "start_time": "2022-05-04T08:38:19.104Z"
   },
   {
    "duration": 292,
    "start_time": "2022-05-04T08:38:19.516Z"
   },
   {
    "duration": 857,
    "start_time": "2022-05-04T08:45:52.891Z"
   },
   {
    "duration": 132,
    "start_time": "2022-05-04T08:45:53.753Z"
   },
   {
    "duration": 12,
    "start_time": "2022-05-04T08:45:53.887Z"
   },
   {
    "duration": 11,
    "start_time": "2022-05-04T08:45:53.901Z"
   },
   {
    "duration": 46,
    "start_time": "2022-05-04T08:45:53.915Z"
   },
   {
    "duration": 9,
    "start_time": "2022-05-04T08:45:53.963Z"
   },
   {
    "duration": 7,
    "start_time": "2022-05-04T08:45:53.975Z"
   },
   {
    "duration": 21,
    "start_time": "2022-05-04T08:45:53.984Z"
   },
   {
    "duration": 45,
    "start_time": "2022-05-04T08:45:54.007Z"
   },
   {
    "duration": 24,
    "start_time": "2022-05-04T08:45:54.054Z"
   },
   {
    "duration": 575,
    "start_time": "2022-05-04T08:45:54.080Z"
   },
   {
    "duration": 7,
    "start_time": "2022-05-04T08:45:54.657Z"
   },
   {
    "duration": 42,
    "start_time": "2022-05-04T08:45:54.666Z"
   },
   {
    "duration": 431,
    "start_time": "2022-05-04T08:45:54.712Z"
   },
   {
    "duration": 396,
    "start_time": "2022-05-04T08:45:55.145Z"
   },
   {
    "duration": 257,
    "start_time": "2022-05-04T08:45:55.543Z"
   },
   {
    "duration": 376,
    "start_time": "2022-05-04T08:45:55.803Z"
   },
   {
    "duration": 7,
    "start_time": "2022-05-04T08:45:56.182Z"
   },
   {
    "duration": 402,
    "start_time": "2022-05-04T08:45:56.192Z"
   },
   {
    "duration": 191,
    "start_time": "2022-05-04T08:45:56.597Z"
   },
   {
    "duration": 12,
    "start_time": "2022-05-04T08:45:56.790Z"
   },
   {
    "duration": 83,
    "start_time": "2022-05-04T08:45:56.804Z"
   },
   {
    "duration": 6,
    "start_time": "2022-05-04T08:45:56.890Z"
   },
   {
    "duration": 12,
    "start_time": "2022-05-04T08:45:56.898Z"
   },
   {
    "duration": 88,
    "start_time": "2022-05-04T08:45:56.912Z"
   },
   {
    "duration": 12,
    "start_time": "2022-05-04T08:45:57.002Z"
   },
   {
    "duration": 83,
    "start_time": "2022-05-04T08:45:57.016Z"
   },
   {
    "duration": 11,
    "start_time": "2022-05-04T08:45:57.101Z"
   },
   {
    "duration": 84,
    "start_time": "2022-05-04T08:45:57.115Z"
   },
   {
    "duration": 13,
    "start_time": "2022-05-04T08:45:57.201Z"
   },
   {
    "duration": 76,
    "start_time": "2022-05-04T08:45:57.216Z"
   },
   {
    "duration": 11,
    "start_time": "2022-05-04T08:45:57.295Z"
   },
   {
    "duration": 83,
    "start_time": "2022-05-04T08:45:57.309Z"
   },
   {
    "duration": 6,
    "start_time": "2022-05-04T08:45:57.395Z"
   },
   {
    "duration": 7,
    "start_time": "2022-05-04T08:45:57.403Z"
   },
   {
    "duration": 8,
    "start_time": "2022-05-04T08:45:57.412Z"
   },
   {
    "duration": 7,
    "start_time": "2022-05-04T08:45:57.451Z"
   },
   {
    "duration": 226,
    "start_time": "2022-05-04T08:45:57.461Z"
   },
   {
    "duration": 2071,
    "start_time": "2022-05-04T08:45:57.689Z"
   },
   {
    "duration": 265,
    "start_time": "2022-05-04T08:45:59.762Z"
   },
   {
    "duration": 290,
    "start_time": "2022-05-04T08:46:00.033Z"
   },
   {
    "duration": 9,
    "start_time": "2022-05-04T08:46:00.326Z"
   },
   {
    "duration": 23,
    "start_time": "2022-05-04T08:46:00.337Z"
   },
   {
    "duration": 48,
    "start_time": "2022-05-04T08:46:00.362Z"
   },
   {
    "duration": 23,
    "start_time": "2022-05-04T08:46:00.412Z"
   },
   {
    "duration": 19,
    "start_time": "2022-05-04T08:46:00.437Z"
   },
   {
    "duration": 352,
    "start_time": "2022-05-04T08:46:00.458Z"
   },
   {
    "duration": 15,
    "start_time": "2022-05-04T08:46:00.812Z"
   },
   {
    "duration": 31,
    "start_time": "2022-05-04T08:46:00.829Z"
   },
   {
    "duration": 29,
    "start_time": "2022-05-04T08:46:00.862Z"
   },
   {
    "duration": 175,
    "start_time": "2022-05-04T08:46:00.893Z"
   },
   {
    "duration": 209,
    "start_time": "2022-05-04T08:46:01.071Z"
   },
   {
    "duration": 2740,
    "start_time": "2022-05-04T08:46:01.283Z"
   },
   {
    "duration": 2843,
    "start_time": "2022-05-04T08:46:04.025Z"
   },
   {
    "duration": 403,
    "start_time": "2022-05-04T08:46:06.871Z"
   },
   {
    "duration": 287,
    "start_time": "2022-05-04T08:46:07.276Z"
   },
   {
    "duration": 963,
    "start_time": "2022-12-07T21:45:14.278Z"
   },
   {
    "duration": 112,
    "start_time": "2022-12-07T21:45:15.243Z"
   },
   {
    "duration": 9,
    "start_time": "2022-12-07T21:45:15.357Z"
   },
   {
    "duration": 8,
    "start_time": "2022-12-07T21:45:15.368Z"
   },
   {
    "duration": 27,
    "start_time": "2022-12-07T21:45:15.378Z"
   },
   {
    "duration": 9,
    "start_time": "2022-12-07T21:45:15.406Z"
   },
   {
    "duration": 21,
    "start_time": "2022-12-07T21:45:15.416Z"
   },
   {
    "duration": 16,
    "start_time": "2022-12-07T21:45:15.439Z"
   },
   {
    "duration": 4,
    "start_time": "2022-12-07T21:45:15.457Z"
   },
   {
    "duration": 17,
    "start_time": "2022-12-07T21:45:15.464Z"
   },
   {
    "duration": 301,
    "start_time": "2022-12-07T21:45:15.482Z"
   },
   {
    "duration": 5,
    "start_time": "2022-12-07T21:45:15.784Z"
   },
   {
    "duration": 49,
    "start_time": "2022-12-07T21:45:15.791Z"
   },
   {
    "duration": 302,
    "start_time": "2022-12-07T21:45:15.842Z"
   },
   {
    "duration": 270,
    "start_time": "2022-12-07T21:45:16.145Z"
   },
   {
    "duration": 191,
    "start_time": "2022-12-07T21:45:16.417Z"
   },
   {
    "duration": 297,
    "start_time": "2022-12-07T21:45:16.609Z"
   },
   {
    "duration": 6,
    "start_time": "2022-12-07T21:45:16.908Z"
   },
   {
    "duration": 267,
    "start_time": "2022-12-07T21:45:16.916Z"
   },
   {
    "duration": 121,
    "start_time": "2022-12-07T21:45:17.185Z"
   },
   {
    "duration": 9,
    "start_time": "2022-12-07T21:45:17.308Z"
   },
   {
    "duration": 71,
    "start_time": "2022-12-07T21:45:17.319Z"
   },
   {
    "duration": 5,
    "start_time": "2022-12-07T21:45:17.392Z"
   },
   {
    "duration": 20,
    "start_time": "2022-12-07T21:45:17.398Z"
   },
   {
    "duration": 43,
    "start_time": "2022-12-07T21:45:17.420Z"
   },
   {
    "duration": 7,
    "start_time": "2022-12-07T21:45:17.465Z"
   },
   {
    "duration": 51,
    "start_time": "2022-12-07T21:45:17.474Z"
   },
   {
    "duration": 12,
    "start_time": "2022-12-07T21:45:17.529Z"
   },
   {
    "duration": 46,
    "start_time": "2022-12-07T21:45:17.542Z"
   },
   {
    "duration": 9,
    "start_time": "2022-12-07T21:45:17.590Z"
   },
   {
    "duration": 59,
    "start_time": "2022-12-07T21:45:17.601Z"
   },
   {
    "duration": 9,
    "start_time": "2022-12-07T21:45:17.661Z"
   },
   {
    "duration": 54,
    "start_time": "2022-12-07T21:45:17.672Z"
   },
   {
    "duration": 5,
    "start_time": "2022-12-07T21:45:17.734Z"
   },
   {
    "duration": 16,
    "start_time": "2022-12-07T21:45:17.741Z"
   },
   {
    "duration": 18,
    "start_time": "2022-12-07T21:45:17.758Z"
   },
   {
    "duration": 16,
    "start_time": "2022-12-07T21:45:17.777Z"
   },
   {
    "duration": 171,
    "start_time": "2022-12-07T21:45:17.795Z"
   },
   {
    "duration": 1455,
    "start_time": "2022-12-07T21:45:17.968Z"
   },
   {
    "duration": 193,
    "start_time": "2022-12-07T21:45:19.425Z"
   },
   {
    "duration": 212,
    "start_time": "2022-12-07T21:45:19.620Z"
   },
   {
    "duration": 8,
    "start_time": "2022-12-07T21:45:19.834Z"
   },
   {
    "duration": 8,
    "start_time": "2022-12-07T21:45:19.844Z"
   },
   {
    "duration": 20,
    "start_time": "2022-12-07T21:45:19.854Z"
   },
   {
    "duration": 11,
    "start_time": "2022-12-07T21:45:19.875Z"
   },
   {
    "duration": 7,
    "start_time": "2022-12-07T21:45:19.888Z"
   },
   {
    "duration": 238,
    "start_time": "2022-12-07T21:45:19.897Z"
   },
   {
    "duration": 10,
    "start_time": "2022-12-07T21:45:20.137Z"
   },
   {
    "duration": 22,
    "start_time": "2022-12-07T21:45:20.149Z"
   },
   {
    "duration": 15,
    "start_time": "2022-12-07T21:45:20.173Z"
   },
   {
    "duration": 137,
    "start_time": "2022-12-07T21:45:20.190Z"
   },
   {
    "duration": 138,
    "start_time": "2022-12-07T21:45:20.335Z"
   },
   {
    "duration": 1900,
    "start_time": "2022-12-07T21:45:20.475Z"
   },
   {
    "duration": 1793,
    "start_time": "2022-12-07T21:45:22.377Z"
   },
   {
    "duration": 284,
    "start_time": "2022-12-07T21:45:24.171Z"
   },
   {
    "duration": 168,
    "start_time": "2022-12-07T21:45:24.456Z"
   }
  ],
  "kernelspec": {
   "display_name": "Python 3 (ipykernel)",
   "language": "python",
   "name": "python3"
  },
  "language_info": {
   "codemirror_mode": {
    "name": "ipython",
    "version": 3
   },
   "file_extension": ".py",
   "mimetype": "text/x-python",
   "name": "python",
   "nbconvert_exporter": "python",
   "pygments_lexer": "ipython3",
   "version": "3.9.7"
  },
  "toc": {
   "base_numbering": 1,
   "nav_menu": {},
   "number_sections": true,
   "sideBar": true,
   "skip_h1_title": true,
   "title_cell": "Содержание",
   "title_sidebar": "Contents",
   "toc_cell": true,
   "toc_position": {
    "height": "calc(100% - 180px)",
    "left": "10px",
    "top": "150px",
    "width": "243.438px"
   },
   "toc_section_display": true,
   "toc_window_display": true
  }
 },
 "nbformat": 4,
 "nbformat_minor": 4
}
