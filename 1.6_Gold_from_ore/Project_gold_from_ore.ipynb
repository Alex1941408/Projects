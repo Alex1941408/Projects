{
 "cells": [
  {
   "cell_type": "markdown",
   "metadata": {},
   "source": [
    "## Подготовка данных"
   ]
  },
  {
   "cell_type": "markdown",
   "metadata": {},
   "source": [
    "### Открытие файлов и их изучение"
   ]
  },
  {
   "cell_type": "markdown",
   "metadata": {},
   "source": [
    "Импортируем необходимые библиотеки:"
   ]
  },
  {
   "cell_type": "code",
   "execution_count": 1,
   "metadata": {},
   "outputs": [],
   "source": [
    "import pandas as pd\n",
    "import numpy as np\n",
    "import seaborn as sns\n",
    "import sklearn.metrics as sklm\n",
    "from matplotlib import pyplot as plt\n",
    "from sklearn.preprocessing import StandardScaler\n",
    "from sklearn.linear_model import LinearRegression\n",
    "from sklearn.ensemble import RandomForestRegressor\n",
    "from sklearn.dummy import DummyRegressor\n",
    "from sklearn.model_selection import train_test_split\n",
    "from sklearn.model_selection import cross_val_score"
   ]
  },
  {
   "cell_type": "markdown",
   "metadata": {},
   "source": [
    "Прочитаем и откроем файлы:"
   ]
  },
  {
   "cell_type": "code",
   "execution_count": 2,
   "metadata": {},
   "outputs": [],
   "source": [
    "try:\n",
    "    df_train = pd.read_csv('/datasets/gold_recovery_train_new.csv')\n",
    "    df_test = pd.read_csv('/datasets/gold_recovery_test_new.csv')\n",
    "    df_full = pd.read_csv('/datasets/gold_recovery_full_new.csv')\n",
    "except ValueError:\n",
    "    print('Ошибка')"
   ]
  },
  {
   "cell_type": "code",
   "execution_count": 3,
   "metadata": {},
   "outputs": [
    {
     "data": {
      "text/html": [
       "<div>\n",
       "<style scoped>\n",
       "    .dataframe tbody tr th:only-of-type {\n",
       "        vertical-align: middle;\n",
       "    }\n",
       "\n",
       "    .dataframe tbody tr th {\n",
       "        vertical-align: top;\n",
       "    }\n",
       "\n",
       "    .dataframe thead th {\n",
       "        text-align: right;\n",
       "    }\n",
       "</style>\n",
       "<table border=\"1\" class=\"dataframe\">\n",
       "  <thead>\n",
       "    <tr style=\"text-align: right;\">\n",
       "      <th></th>\n",
       "      <th>date</th>\n",
       "      <th>final.output.concentrate_ag</th>\n",
       "      <th>final.output.concentrate_pb</th>\n",
       "      <th>final.output.concentrate_sol</th>\n",
       "      <th>final.output.concentrate_au</th>\n",
       "      <th>final.output.recovery</th>\n",
       "      <th>final.output.tail_ag</th>\n",
       "      <th>final.output.tail_pb</th>\n",
       "      <th>final.output.tail_sol</th>\n",
       "      <th>final.output.tail_au</th>\n",
       "      <th>...</th>\n",
       "      <th>secondary_cleaner.state.floatbank4_a_air</th>\n",
       "      <th>secondary_cleaner.state.floatbank4_a_level</th>\n",
       "      <th>secondary_cleaner.state.floatbank4_b_air</th>\n",
       "      <th>secondary_cleaner.state.floatbank4_b_level</th>\n",
       "      <th>secondary_cleaner.state.floatbank5_a_air</th>\n",
       "      <th>secondary_cleaner.state.floatbank5_a_level</th>\n",
       "      <th>secondary_cleaner.state.floatbank5_b_air</th>\n",
       "      <th>secondary_cleaner.state.floatbank5_b_level</th>\n",
       "      <th>secondary_cleaner.state.floatbank6_a_air</th>\n",
       "      <th>secondary_cleaner.state.floatbank6_a_level</th>\n",
       "    </tr>\n",
       "  </thead>\n",
       "  <tbody>\n",
       "    <tr>\n",
       "      <th>0</th>\n",
       "      <td>2016-01-15 00:00:00</td>\n",
       "      <td>6.055403</td>\n",
       "      <td>9.889648</td>\n",
       "      <td>5.507324</td>\n",
       "      <td>42.192020</td>\n",
       "      <td>70.541216</td>\n",
       "      <td>10.411962</td>\n",
       "      <td>0.895447</td>\n",
       "      <td>16.904297</td>\n",
       "      <td>2.143149</td>\n",
       "      <td>...</td>\n",
       "      <td>14.016835</td>\n",
       "      <td>-502.488007</td>\n",
       "      <td>12.099931</td>\n",
       "      <td>-504.715942</td>\n",
       "      <td>9.925633</td>\n",
       "      <td>-498.310211</td>\n",
       "      <td>8.079666</td>\n",
       "      <td>-500.470978</td>\n",
       "      <td>14.151341</td>\n",
       "      <td>-605.841980</td>\n",
       "    </tr>\n",
       "    <tr>\n",
       "      <th>1</th>\n",
       "      <td>2016-01-15 01:00:00</td>\n",
       "      <td>6.029369</td>\n",
       "      <td>9.968944</td>\n",
       "      <td>5.257781</td>\n",
       "      <td>42.701629</td>\n",
       "      <td>69.266198</td>\n",
       "      <td>10.462676</td>\n",
       "      <td>0.927452</td>\n",
       "      <td>16.634514</td>\n",
       "      <td>2.224930</td>\n",
       "      <td>...</td>\n",
       "      <td>13.992281</td>\n",
       "      <td>-505.503262</td>\n",
       "      <td>11.950531</td>\n",
       "      <td>-501.331529</td>\n",
       "      <td>10.039245</td>\n",
       "      <td>-500.169983</td>\n",
       "      <td>7.984757</td>\n",
       "      <td>-500.582168</td>\n",
       "      <td>13.998353</td>\n",
       "      <td>-599.787184</td>\n",
       "    </tr>\n",
       "    <tr>\n",
       "      <th>2</th>\n",
       "      <td>2016-01-15 02:00:00</td>\n",
       "      <td>6.055926</td>\n",
       "      <td>10.213995</td>\n",
       "      <td>5.383759</td>\n",
       "      <td>42.657501</td>\n",
       "      <td>68.116445</td>\n",
       "      <td>10.507046</td>\n",
       "      <td>0.953716</td>\n",
       "      <td>16.208849</td>\n",
       "      <td>2.257889</td>\n",
       "      <td>...</td>\n",
       "      <td>14.015015</td>\n",
       "      <td>-502.520901</td>\n",
       "      <td>11.912783</td>\n",
       "      <td>-501.133383</td>\n",
       "      <td>10.070913</td>\n",
       "      <td>-500.129135</td>\n",
       "      <td>8.013877</td>\n",
       "      <td>-500.517572</td>\n",
       "      <td>14.028663</td>\n",
       "      <td>-601.427363</td>\n",
       "    </tr>\n",
       "    <tr>\n",
       "      <th>3</th>\n",
       "      <td>2016-01-15 03:00:00</td>\n",
       "      <td>6.047977</td>\n",
       "      <td>9.977019</td>\n",
       "      <td>4.858634</td>\n",
       "      <td>42.689819</td>\n",
       "      <td>68.347543</td>\n",
       "      <td>10.422762</td>\n",
       "      <td>0.883763</td>\n",
       "      <td>16.532835</td>\n",
       "      <td>2.146849</td>\n",
       "      <td>...</td>\n",
       "      <td>14.036510</td>\n",
       "      <td>-500.857308</td>\n",
       "      <td>11.999550</td>\n",
       "      <td>-501.193686</td>\n",
       "      <td>9.970366</td>\n",
       "      <td>-499.201640</td>\n",
       "      <td>7.977324</td>\n",
       "      <td>-500.255908</td>\n",
       "      <td>14.005551</td>\n",
       "      <td>-599.996129</td>\n",
       "    </tr>\n",
       "    <tr>\n",
       "      <th>4</th>\n",
       "      <td>2016-01-15 04:00:00</td>\n",
       "      <td>6.148599</td>\n",
       "      <td>10.142511</td>\n",
       "      <td>4.939416</td>\n",
       "      <td>42.774141</td>\n",
       "      <td>66.927016</td>\n",
       "      <td>10.360302</td>\n",
       "      <td>0.792826</td>\n",
       "      <td>16.525686</td>\n",
       "      <td>2.055292</td>\n",
       "      <td>...</td>\n",
       "      <td>14.027298</td>\n",
       "      <td>-499.838632</td>\n",
       "      <td>11.953070</td>\n",
       "      <td>-501.053894</td>\n",
       "      <td>9.925709</td>\n",
       "      <td>-501.686727</td>\n",
       "      <td>7.894242</td>\n",
       "      <td>-500.356035</td>\n",
       "      <td>13.996647</td>\n",
       "      <td>-601.496691</td>\n",
       "    </tr>\n",
       "  </tbody>\n",
       "</table>\n",
       "<p>5 rows × 87 columns</p>\n",
       "</div>"
      ],
      "text/plain": [
       "                  date  final.output.concentrate_ag  \\\n",
       "0  2016-01-15 00:00:00                     6.055403   \n",
       "1  2016-01-15 01:00:00                     6.029369   \n",
       "2  2016-01-15 02:00:00                     6.055926   \n",
       "3  2016-01-15 03:00:00                     6.047977   \n",
       "4  2016-01-15 04:00:00                     6.148599   \n",
       "\n",
       "   final.output.concentrate_pb  final.output.concentrate_sol  \\\n",
       "0                     9.889648                      5.507324   \n",
       "1                     9.968944                      5.257781   \n",
       "2                    10.213995                      5.383759   \n",
       "3                     9.977019                      4.858634   \n",
       "4                    10.142511                      4.939416   \n",
       "\n",
       "   final.output.concentrate_au  final.output.recovery  final.output.tail_ag  \\\n",
       "0                    42.192020              70.541216             10.411962   \n",
       "1                    42.701629              69.266198             10.462676   \n",
       "2                    42.657501              68.116445             10.507046   \n",
       "3                    42.689819              68.347543             10.422762   \n",
       "4                    42.774141              66.927016             10.360302   \n",
       "\n",
       "   final.output.tail_pb  final.output.tail_sol  final.output.tail_au  ...  \\\n",
       "0              0.895447              16.904297              2.143149  ...   \n",
       "1              0.927452              16.634514              2.224930  ...   \n",
       "2              0.953716              16.208849              2.257889  ...   \n",
       "3              0.883763              16.532835              2.146849  ...   \n",
       "4              0.792826              16.525686              2.055292  ...   \n",
       "\n",
       "   secondary_cleaner.state.floatbank4_a_air  \\\n",
       "0                                 14.016835   \n",
       "1                                 13.992281   \n",
       "2                                 14.015015   \n",
       "3                                 14.036510   \n",
       "4                                 14.027298   \n",
       "\n",
       "   secondary_cleaner.state.floatbank4_a_level  \\\n",
       "0                                 -502.488007   \n",
       "1                                 -505.503262   \n",
       "2                                 -502.520901   \n",
       "3                                 -500.857308   \n",
       "4                                 -499.838632   \n",
       "\n",
       "   secondary_cleaner.state.floatbank4_b_air  \\\n",
       "0                                 12.099931   \n",
       "1                                 11.950531   \n",
       "2                                 11.912783   \n",
       "3                                 11.999550   \n",
       "4                                 11.953070   \n",
       "\n",
       "   secondary_cleaner.state.floatbank4_b_level  \\\n",
       "0                                 -504.715942   \n",
       "1                                 -501.331529   \n",
       "2                                 -501.133383   \n",
       "3                                 -501.193686   \n",
       "4                                 -501.053894   \n",
       "\n",
       "   secondary_cleaner.state.floatbank5_a_air  \\\n",
       "0                                  9.925633   \n",
       "1                                 10.039245   \n",
       "2                                 10.070913   \n",
       "3                                  9.970366   \n",
       "4                                  9.925709   \n",
       "\n",
       "   secondary_cleaner.state.floatbank5_a_level  \\\n",
       "0                                 -498.310211   \n",
       "1                                 -500.169983   \n",
       "2                                 -500.129135   \n",
       "3                                 -499.201640   \n",
       "4                                 -501.686727   \n",
       "\n",
       "   secondary_cleaner.state.floatbank5_b_air  \\\n",
       "0                                  8.079666   \n",
       "1                                  7.984757   \n",
       "2                                  8.013877   \n",
       "3                                  7.977324   \n",
       "4                                  7.894242   \n",
       "\n",
       "   secondary_cleaner.state.floatbank5_b_level  \\\n",
       "0                                 -500.470978   \n",
       "1                                 -500.582168   \n",
       "2                                 -500.517572   \n",
       "3                                 -500.255908   \n",
       "4                                 -500.356035   \n",
       "\n",
       "   secondary_cleaner.state.floatbank6_a_air  \\\n",
       "0                                 14.151341   \n",
       "1                                 13.998353   \n",
       "2                                 14.028663   \n",
       "3                                 14.005551   \n",
       "4                                 13.996647   \n",
       "\n",
       "   secondary_cleaner.state.floatbank6_a_level  \n",
       "0                                 -605.841980  \n",
       "1                                 -599.787184  \n",
       "2                                 -601.427363  \n",
       "3                                 -599.996129  \n",
       "4                                 -601.496691  \n",
       "\n",
       "[5 rows x 87 columns]"
      ]
     },
     "execution_count": 3,
     "metadata": {},
     "output_type": "execute_result"
    }
   ],
   "source": [
    "df_train.head()"
   ]
  },
  {
   "cell_type": "code",
   "execution_count": 4,
   "metadata": {},
   "outputs": [
    {
     "data": {
      "text/html": [
       "<div>\n",
       "<style scoped>\n",
       "    .dataframe tbody tr th:only-of-type {\n",
       "        vertical-align: middle;\n",
       "    }\n",
       "\n",
       "    .dataframe tbody tr th {\n",
       "        vertical-align: top;\n",
       "    }\n",
       "\n",
       "    .dataframe thead th {\n",
       "        text-align: right;\n",
       "    }\n",
       "</style>\n",
       "<table border=\"1\" class=\"dataframe\">\n",
       "  <thead>\n",
       "    <tr style=\"text-align: right;\">\n",
       "      <th></th>\n",
       "      <th>date</th>\n",
       "      <th>primary_cleaner.input.sulfate</th>\n",
       "      <th>primary_cleaner.input.depressant</th>\n",
       "      <th>primary_cleaner.input.feed_size</th>\n",
       "      <th>primary_cleaner.input.xanthate</th>\n",
       "      <th>primary_cleaner.state.floatbank8_a_air</th>\n",
       "      <th>primary_cleaner.state.floatbank8_a_level</th>\n",
       "      <th>primary_cleaner.state.floatbank8_b_air</th>\n",
       "      <th>primary_cleaner.state.floatbank8_b_level</th>\n",
       "      <th>primary_cleaner.state.floatbank8_c_air</th>\n",
       "      <th>...</th>\n",
       "      <th>secondary_cleaner.state.floatbank4_a_air</th>\n",
       "      <th>secondary_cleaner.state.floatbank4_a_level</th>\n",
       "      <th>secondary_cleaner.state.floatbank4_b_air</th>\n",
       "      <th>secondary_cleaner.state.floatbank4_b_level</th>\n",
       "      <th>secondary_cleaner.state.floatbank5_a_air</th>\n",
       "      <th>secondary_cleaner.state.floatbank5_a_level</th>\n",
       "      <th>secondary_cleaner.state.floatbank5_b_air</th>\n",
       "      <th>secondary_cleaner.state.floatbank5_b_level</th>\n",
       "      <th>secondary_cleaner.state.floatbank6_a_air</th>\n",
       "      <th>secondary_cleaner.state.floatbank6_a_level</th>\n",
       "    </tr>\n",
       "  </thead>\n",
       "  <tbody>\n",
       "    <tr>\n",
       "      <th>0</th>\n",
       "      <td>2016-09-01 00:59:59</td>\n",
       "      <td>210.800909</td>\n",
       "      <td>14.993118</td>\n",
       "      <td>8.080000</td>\n",
       "      <td>1.005021</td>\n",
       "      <td>1398.981301</td>\n",
       "      <td>-500.225577</td>\n",
       "      <td>1399.144926</td>\n",
       "      <td>-499.919735</td>\n",
       "      <td>1400.102998</td>\n",
       "      <td>...</td>\n",
       "      <td>12.023554</td>\n",
       "      <td>-497.795834</td>\n",
       "      <td>8.016656</td>\n",
       "      <td>-501.289139</td>\n",
       "      <td>7.946562</td>\n",
       "      <td>-432.317850</td>\n",
       "      <td>4.872511</td>\n",
       "      <td>-500.037437</td>\n",
       "      <td>26.705889</td>\n",
       "      <td>-499.709414</td>\n",
       "    </tr>\n",
       "    <tr>\n",
       "      <th>1</th>\n",
       "      <td>2016-09-01 01:59:59</td>\n",
       "      <td>215.392455</td>\n",
       "      <td>14.987471</td>\n",
       "      <td>8.080000</td>\n",
       "      <td>0.990469</td>\n",
       "      <td>1398.777912</td>\n",
       "      <td>-500.057435</td>\n",
       "      <td>1398.055362</td>\n",
       "      <td>-499.778182</td>\n",
       "      <td>1396.151033</td>\n",
       "      <td>...</td>\n",
       "      <td>12.058140</td>\n",
       "      <td>-498.695773</td>\n",
       "      <td>8.130979</td>\n",
       "      <td>-499.634209</td>\n",
       "      <td>7.958270</td>\n",
       "      <td>-525.839648</td>\n",
       "      <td>4.878850</td>\n",
       "      <td>-500.162375</td>\n",
       "      <td>25.019940</td>\n",
       "      <td>-499.819438</td>\n",
       "    </tr>\n",
       "    <tr>\n",
       "      <th>2</th>\n",
       "      <td>2016-09-01 02:59:59</td>\n",
       "      <td>215.259946</td>\n",
       "      <td>12.884934</td>\n",
       "      <td>7.786667</td>\n",
       "      <td>0.996043</td>\n",
       "      <td>1398.493666</td>\n",
       "      <td>-500.868360</td>\n",
       "      <td>1398.860436</td>\n",
       "      <td>-499.764529</td>\n",
       "      <td>1398.075709</td>\n",
       "      <td>...</td>\n",
       "      <td>11.962366</td>\n",
       "      <td>-498.767484</td>\n",
       "      <td>8.096893</td>\n",
       "      <td>-500.827423</td>\n",
       "      <td>8.071056</td>\n",
       "      <td>-500.801673</td>\n",
       "      <td>4.905125</td>\n",
       "      <td>-499.828510</td>\n",
       "      <td>24.994862</td>\n",
       "      <td>-500.622559</td>\n",
       "    </tr>\n",
       "    <tr>\n",
       "      <th>3</th>\n",
       "      <td>2016-09-01 03:59:59</td>\n",
       "      <td>215.336236</td>\n",
       "      <td>12.006805</td>\n",
       "      <td>7.640000</td>\n",
       "      <td>0.863514</td>\n",
       "      <td>1399.618111</td>\n",
       "      <td>-498.863574</td>\n",
       "      <td>1397.440120</td>\n",
       "      <td>-499.211024</td>\n",
       "      <td>1400.129303</td>\n",
       "      <td>...</td>\n",
       "      <td>12.033091</td>\n",
       "      <td>-498.350935</td>\n",
       "      <td>8.074946</td>\n",
       "      <td>-499.474407</td>\n",
       "      <td>7.897085</td>\n",
       "      <td>-500.868509</td>\n",
       "      <td>4.931400</td>\n",
       "      <td>-499.963623</td>\n",
       "      <td>24.948919</td>\n",
       "      <td>-498.709987</td>\n",
       "    </tr>\n",
       "    <tr>\n",
       "      <th>4</th>\n",
       "      <td>2016-09-01 04:59:59</td>\n",
       "      <td>199.099327</td>\n",
       "      <td>10.682530</td>\n",
       "      <td>7.530000</td>\n",
       "      <td>0.805575</td>\n",
       "      <td>1401.268123</td>\n",
       "      <td>-500.808305</td>\n",
       "      <td>1398.128818</td>\n",
       "      <td>-499.504543</td>\n",
       "      <td>1402.172226</td>\n",
       "      <td>...</td>\n",
       "      <td>12.025367</td>\n",
       "      <td>-500.786497</td>\n",
       "      <td>8.054678</td>\n",
       "      <td>-500.397500</td>\n",
       "      <td>8.107890</td>\n",
       "      <td>-509.526725</td>\n",
       "      <td>4.957674</td>\n",
       "      <td>-500.360026</td>\n",
       "      <td>25.003331</td>\n",
       "      <td>-500.856333</td>\n",
       "    </tr>\n",
       "  </tbody>\n",
       "</table>\n",
       "<p>5 rows × 53 columns</p>\n",
       "</div>"
      ],
      "text/plain": [
       "                  date  primary_cleaner.input.sulfate  \\\n",
       "0  2016-09-01 00:59:59                     210.800909   \n",
       "1  2016-09-01 01:59:59                     215.392455   \n",
       "2  2016-09-01 02:59:59                     215.259946   \n",
       "3  2016-09-01 03:59:59                     215.336236   \n",
       "4  2016-09-01 04:59:59                     199.099327   \n",
       "\n",
       "   primary_cleaner.input.depressant  primary_cleaner.input.feed_size  \\\n",
       "0                         14.993118                         8.080000   \n",
       "1                         14.987471                         8.080000   \n",
       "2                         12.884934                         7.786667   \n",
       "3                         12.006805                         7.640000   \n",
       "4                         10.682530                         7.530000   \n",
       "\n",
       "   primary_cleaner.input.xanthate  primary_cleaner.state.floatbank8_a_air  \\\n",
       "0                        1.005021                             1398.981301   \n",
       "1                        0.990469                             1398.777912   \n",
       "2                        0.996043                             1398.493666   \n",
       "3                        0.863514                             1399.618111   \n",
       "4                        0.805575                             1401.268123   \n",
       "\n",
       "   primary_cleaner.state.floatbank8_a_level  \\\n",
       "0                               -500.225577   \n",
       "1                               -500.057435   \n",
       "2                               -500.868360   \n",
       "3                               -498.863574   \n",
       "4                               -500.808305   \n",
       "\n",
       "   primary_cleaner.state.floatbank8_b_air  \\\n",
       "0                             1399.144926   \n",
       "1                             1398.055362   \n",
       "2                             1398.860436   \n",
       "3                             1397.440120   \n",
       "4                             1398.128818   \n",
       "\n",
       "   primary_cleaner.state.floatbank8_b_level  \\\n",
       "0                               -499.919735   \n",
       "1                               -499.778182   \n",
       "2                               -499.764529   \n",
       "3                               -499.211024   \n",
       "4                               -499.504543   \n",
       "\n",
       "   primary_cleaner.state.floatbank8_c_air  ...  \\\n",
       "0                             1400.102998  ...   \n",
       "1                             1396.151033  ...   \n",
       "2                             1398.075709  ...   \n",
       "3                             1400.129303  ...   \n",
       "4                             1402.172226  ...   \n",
       "\n",
       "   secondary_cleaner.state.floatbank4_a_air  \\\n",
       "0                                 12.023554   \n",
       "1                                 12.058140   \n",
       "2                                 11.962366   \n",
       "3                                 12.033091   \n",
       "4                                 12.025367   \n",
       "\n",
       "   secondary_cleaner.state.floatbank4_a_level  \\\n",
       "0                                 -497.795834   \n",
       "1                                 -498.695773   \n",
       "2                                 -498.767484   \n",
       "3                                 -498.350935   \n",
       "4                                 -500.786497   \n",
       "\n",
       "   secondary_cleaner.state.floatbank4_b_air  \\\n",
       "0                                  8.016656   \n",
       "1                                  8.130979   \n",
       "2                                  8.096893   \n",
       "3                                  8.074946   \n",
       "4                                  8.054678   \n",
       "\n",
       "   secondary_cleaner.state.floatbank4_b_level  \\\n",
       "0                                 -501.289139   \n",
       "1                                 -499.634209   \n",
       "2                                 -500.827423   \n",
       "3                                 -499.474407   \n",
       "4                                 -500.397500   \n",
       "\n",
       "   secondary_cleaner.state.floatbank5_a_air  \\\n",
       "0                                  7.946562   \n",
       "1                                  7.958270   \n",
       "2                                  8.071056   \n",
       "3                                  7.897085   \n",
       "4                                  8.107890   \n",
       "\n",
       "   secondary_cleaner.state.floatbank5_a_level  \\\n",
       "0                                 -432.317850   \n",
       "1                                 -525.839648   \n",
       "2                                 -500.801673   \n",
       "3                                 -500.868509   \n",
       "4                                 -509.526725   \n",
       "\n",
       "   secondary_cleaner.state.floatbank5_b_air  \\\n",
       "0                                  4.872511   \n",
       "1                                  4.878850   \n",
       "2                                  4.905125   \n",
       "3                                  4.931400   \n",
       "4                                  4.957674   \n",
       "\n",
       "   secondary_cleaner.state.floatbank5_b_level  \\\n",
       "0                                 -500.037437   \n",
       "1                                 -500.162375   \n",
       "2                                 -499.828510   \n",
       "3                                 -499.963623   \n",
       "4                                 -500.360026   \n",
       "\n",
       "   secondary_cleaner.state.floatbank6_a_air  \\\n",
       "0                                 26.705889   \n",
       "1                                 25.019940   \n",
       "2                                 24.994862   \n",
       "3                                 24.948919   \n",
       "4                                 25.003331   \n",
       "\n",
       "   secondary_cleaner.state.floatbank6_a_level  \n",
       "0                                 -499.709414  \n",
       "1                                 -499.819438  \n",
       "2                                 -500.622559  \n",
       "3                                 -498.709987  \n",
       "4                                 -500.856333  \n",
       "\n",
       "[5 rows x 53 columns]"
      ]
     },
     "execution_count": 4,
     "metadata": {},
     "output_type": "execute_result"
    }
   ],
   "source": [
    "df_test.head()"
   ]
  },
  {
   "cell_type": "code",
   "execution_count": 5,
   "metadata": {
    "scrolled": false
   },
   "outputs": [
    {
     "data": {
      "text/html": [
       "<div>\n",
       "<style scoped>\n",
       "    .dataframe tbody tr th:only-of-type {\n",
       "        vertical-align: middle;\n",
       "    }\n",
       "\n",
       "    .dataframe tbody tr th {\n",
       "        vertical-align: top;\n",
       "    }\n",
       "\n",
       "    .dataframe thead th {\n",
       "        text-align: right;\n",
       "    }\n",
       "</style>\n",
       "<table border=\"1\" class=\"dataframe\">\n",
       "  <thead>\n",
       "    <tr style=\"text-align: right;\">\n",
       "      <th></th>\n",
       "      <th>date</th>\n",
       "      <th>final.output.concentrate_ag</th>\n",
       "      <th>final.output.concentrate_pb</th>\n",
       "      <th>final.output.concentrate_sol</th>\n",
       "      <th>final.output.concentrate_au</th>\n",
       "      <th>final.output.recovery</th>\n",
       "      <th>final.output.tail_ag</th>\n",
       "      <th>final.output.tail_pb</th>\n",
       "      <th>final.output.tail_sol</th>\n",
       "      <th>final.output.tail_au</th>\n",
       "      <th>...</th>\n",
       "      <th>secondary_cleaner.state.floatbank4_a_air</th>\n",
       "      <th>secondary_cleaner.state.floatbank4_a_level</th>\n",
       "      <th>secondary_cleaner.state.floatbank4_b_air</th>\n",
       "      <th>secondary_cleaner.state.floatbank4_b_level</th>\n",
       "      <th>secondary_cleaner.state.floatbank5_a_air</th>\n",
       "      <th>secondary_cleaner.state.floatbank5_a_level</th>\n",
       "      <th>secondary_cleaner.state.floatbank5_b_air</th>\n",
       "      <th>secondary_cleaner.state.floatbank5_b_level</th>\n",
       "      <th>secondary_cleaner.state.floatbank6_a_air</th>\n",
       "      <th>secondary_cleaner.state.floatbank6_a_level</th>\n",
       "    </tr>\n",
       "  </thead>\n",
       "  <tbody>\n",
       "    <tr>\n",
       "      <th>0</th>\n",
       "      <td>2016-01-15 00:00:00</td>\n",
       "      <td>6.055403</td>\n",
       "      <td>9.889648</td>\n",
       "      <td>5.507324</td>\n",
       "      <td>42.192020</td>\n",
       "      <td>70.541216</td>\n",
       "      <td>10.411962</td>\n",
       "      <td>0.895447</td>\n",
       "      <td>16.904297</td>\n",
       "      <td>2.143149</td>\n",
       "      <td>...</td>\n",
       "      <td>14.016835</td>\n",
       "      <td>-502.488007</td>\n",
       "      <td>12.099931</td>\n",
       "      <td>-504.715942</td>\n",
       "      <td>9.925633</td>\n",
       "      <td>-498.310211</td>\n",
       "      <td>8.079666</td>\n",
       "      <td>-500.470978</td>\n",
       "      <td>14.151341</td>\n",
       "      <td>-605.841980</td>\n",
       "    </tr>\n",
       "    <tr>\n",
       "      <th>1</th>\n",
       "      <td>2016-01-15 01:00:00</td>\n",
       "      <td>6.029369</td>\n",
       "      <td>9.968944</td>\n",
       "      <td>5.257781</td>\n",
       "      <td>42.701629</td>\n",
       "      <td>69.266198</td>\n",
       "      <td>10.462676</td>\n",
       "      <td>0.927452</td>\n",
       "      <td>16.634514</td>\n",
       "      <td>2.224930</td>\n",
       "      <td>...</td>\n",
       "      <td>13.992281</td>\n",
       "      <td>-505.503262</td>\n",
       "      <td>11.950531</td>\n",
       "      <td>-501.331529</td>\n",
       "      <td>10.039245</td>\n",
       "      <td>-500.169983</td>\n",
       "      <td>7.984757</td>\n",
       "      <td>-500.582168</td>\n",
       "      <td>13.998353</td>\n",
       "      <td>-599.787184</td>\n",
       "    </tr>\n",
       "    <tr>\n",
       "      <th>2</th>\n",
       "      <td>2016-01-15 02:00:00</td>\n",
       "      <td>6.055926</td>\n",
       "      <td>10.213995</td>\n",
       "      <td>5.383759</td>\n",
       "      <td>42.657501</td>\n",
       "      <td>68.116445</td>\n",
       "      <td>10.507046</td>\n",
       "      <td>0.953716</td>\n",
       "      <td>16.208849</td>\n",
       "      <td>2.257889</td>\n",
       "      <td>...</td>\n",
       "      <td>14.015015</td>\n",
       "      <td>-502.520901</td>\n",
       "      <td>11.912783</td>\n",
       "      <td>-501.133383</td>\n",
       "      <td>10.070913</td>\n",
       "      <td>-500.129135</td>\n",
       "      <td>8.013877</td>\n",
       "      <td>-500.517572</td>\n",
       "      <td>14.028663</td>\n",
       "      <td>-601.427363</td>\n",
       "    </tr>\n",
       "    <tr>\n",
       "      <th>3</th>\n",
       "      <td>2016-01-15 03:00:00</td>\n",
       "      <td>6.047977</td>\n",
       "      <td>9.977019</td>\n",
       "      <td>4.858634</td>\n",
       "      <td>42.689819</td>\n",
       "      <td>68.347543</td>\n",
       "      <td>10.422762</td>\n",
       "      <td>0.883763</td>\n",
       "      <td>16.532835</td>\n",
       "      <td>2.146849</td>\n",
       "      <td>...</td>\n",
       "      <td>14.036510</td>\n",
       "      <td>-500.857308</td>\n",
       "      <td>11.999550</td>\n",
       "      <td>-501.193686</td>\n",
       "      <td>9.970366</td>\n",
       "      <td>-499.201640</td>\n",
       "      <td>7.977324</td>\n",
       "      <td>-500.255908</td>\n",
       "      <td>14.005551</td>\n",
       "      <td>-599.996129</td>\n",
       "    </tr>\n",
       "    <tr>\n",
       "      <th>4</th>\n",
       "      <td>2016-01-15 04:00:00</td>\n",
       "      <td>6.148599</td>\n",
       "      <td>10.142511</td>\n",
       "      <td>4.939416</td>\n",
       "      <td>42.774141</td>\n",
       "      <td>66.927016</td>\n",
       "      <td>10.360302</td>\n",
       "      <td>0.792826</td>\n",
       "      <td>16.525686</td>\n",
       "      <td>2.055292</td>\n",
       "      <td>...</td>\n",
       "      <td>14.027298</td>\n",
       "      <td>-499.838632</td>\n",
       "      <td>11.953070</td>\n",
       "      <td>-501.053894</td>\n",
       "      <td>9.925709</td>\n",
       "      <td>-501.686727</td>\n",
       "      <td>7.894242</td>\n",
       "      <td>-500.356035</td>\n",
       "      <td>13.996647</td>\n",
       "      <td>-601.496691</td>\n",
       "    </tr>\n",
       "  </tbody>\n",
       "</table>\n",
       "<p>5 rows × 87 columns</p>\n",
       "</div>"
      ],
      "text/plain": [
       "                  date  final.output.concentrate_ag  \\\n",
       "0  2016-01-15 00:00:00                     6.055403   \n",
       "1  2016-01-15 01:00:00                     6.029369   \n",
       "2  2016-01-15 02:00:00                     6.055926   \n",
       "3  2016-01-15 03:00:00                     6.047977   \n",
       "4  2016-01-15 04:00:00                     6.148599   \n",
       "\n",
       "   final.output.concentrate_pb  final.output.concentrate_sol  \\\n",
       "0                     9.889648                      5.507324   \n",
       "1                     9.968944                      5.257781   \n",
       "2                    10.213995                      5.383759   \n",
       "3                     9.977019                      4.858634   \n",
       "4                    10.142511                      4.939416   \n",
       "\n",
       "   final.output.concentrate_au  final.output.recovery  final.output.tail_ag  \\\n",
       "0                    42.192020              70.541216             10.411962   \n",
       "1                    42.701629              69.266198             10.462676   \n",
       "2                    42.657501              68.116445             10.507046   \n",
       "3                    42.689819              68.347543             10.422762   \n",
       "4                    42.774141              66.927016             10.360302   \n",
       "\n",
       "   final.output.tail_pb  final.output.tail_sol  final.output.tail_au  ...  \\\n",
       "0              0.895447              16.904297              2.143149  ...   \n",
       "1              0.927452              16.634514              2.224930  ...   \n",
       "2              0.953716              16.208849              2.257889  ...   \n",
       "3              0.883763              16.532835              2.146849  ...   \n",
       "4              0.792826              16.525686              2.055292  ...   \n",
       "\n",
       "   secondary_cleaner.state.floatbank4_a_air  \\\n",
       "0                                 14.016835   \n",
       "1                                 13.992281   \n",
       "2                                 14.015015   \n",
       "3                                 14.036510   \n",
       "4                                 14.027298   \n",
       "\n",
       "   secondary_cleaner.state.floatbank4_a_level  \\\n",
       "0                                 -502.488007   \n",
       "1                                 -505.503262   \n",
       "2                                 -502.520901   \n",
       "3                                 -500.857308   \n",
       "4                                 -499.838632   \n",
       "\n",
       "   secondary_cleaner.state.floatbank4_b_air  \\\n",
       "0                                 12.099931   \n",
       "1                                 11.950531   \n",
       "2                                 11.912783   \n",
       "3                                 11.999550   \n",
       "4                                 11.953070   \n",
       "\n",
       "   secondary_cleaner.state.floatbank4_b_level  \\\n",
       "0                                 -504.715942   \n",
       "1                                 -501.331529   \n",
       "2                                 -501.133383   \n",
       "3                                 -501.193686   \n",
       "4                                 -501.053894   \n",
       "\n",
       "   secondary_cleaner.state.floatbank5_a_air  \\\n",
       "0                                  9.925633   \n",
       "1                                 10.039245   \n",
       "2                                 10.070913   \n",
       "3                                  9.970366   \n",
       "4                                  9.925709   \n",
       "\n",
       "   secondary_cleaner.state.floatbank5_a_level  \\\n",
       "0                                 -498.310211   \n",
       "1                                 -500.169983   \n",
       "2                                 -500.129135   \n",
       "3                                 -499.201640   \n",
       "4                                 -501.686727   \n",
       "\n",
       "   secondary_cleaner.state.floatbank5_b_air  \\\n",
       "0                                  8.079666   \n",
       "1                                  7.984757   \n",
       "2                                  8.013877   \n",
       "3                                  7.977324   \n",
       "4                                  7.894242   \n",
       "\n",
       "   secondary_cleaner.state.floatbank5_b_level  \\\n",
       "0                                 -500.470978   \n",
       "1                                 -500.582168   \n",
       "2                                 -500.517572   \n",
       "3                                 -500.255908   \n",
       "4                                 -500.356035   \n",
       "\n",
       "   secondary_cleaner.state.floatbank6_a_air  \\\n",
       "0                                 14.151341   \n",
       "1                                 13.998353   \n",
       "2                                 14.028663   \n",
       "3                                 14.005551   \n",
       "4                                 13.996647   \n",
       "\n",
       "   secondary_cleaner.state.floatbank6_a_level  \n",
       "0                                 -605.841980  \n",
       "1                                 -599.787184  \n",
       "2                                 -601.427363  \n",
       "3                                 -599.996129  \n",
       "4                                 -601.496691  \n",
       "\n",
       "[5 rows x 87 columns]"
      ]
     },
     "execution_count": 5,
     "metadata": {},
     "output_type": "execute_result"
    }
   ],
   "source": [
    "df_full.head()"
   ]
  },
  {
   "cell_type": "markdown",
   "metadata": {},
   "source": [
    "### Проверка эффективности обогащения"
   ]
  },
  {
   "cell_type": "markdown",
   "metadata": {},
   "source": [
    "Определим, какие столбцы в датасетах соответствуют эффективности обогащения:"
   ]
  },
  {
   "cell_type": "code",
   "execution_count": 6,
   "metadata": {},
   "outputs": [
    {
     "name": "stdout",
     "output_type": "stream",
     "text": [
      "final.output.recovery\n",
      "rougher.output.recovery\n",
      "-------------------------\n",
      "-------------------------\n",
      "final.output.recovery\n",
      "rougher.output.recovery\n"
     ]
    }
   ],
   "source": [
    "for value in df_train.columns:\n",
    "    if 'recovery' in value:\n",
    "        print(value)\n",
    "        \n",
    "print('-------------------------')\n",
    "        \n",
    "for value in df_test.columns:\n",
    "    if 'recovery' in value:\n",
    "        print(value)\n",
    "        \n",
    "print('-------------------------')\n",
    "        \n",
    "for value in df_full.columns:\n",
    "    if 'recovery' in value:\n",
    "        print(value)"
   ]
  },
  {
   "cell_type": "markdown",
   "metadata": {},
   "source": [
    "Из результата следует, что за эффективность отвечают 2 столбца в обучающей выборке (4 с учетом полной). Проверим верность расчетов на основе столбца `rougher.output.recovery`. Для этого создадим функцию `recov`, вычисляющую эффективность обогащения, которая будет на вход получать 3 значения (`part_gold_concentrate` - доля золота в концентрате после флотации/очистки, `part_gold_raw_material` - доля золота в сырье/концентрате до флотации/очистки, `part_gold_tail` - доля золота в отвальных хвостах после флотации/очистки):"
   ]
  },
  {
   "cell_type": "code",
   "execution_count": 7,
   "metadata": {},
   "outputs": [],
   "source": [
    "def recov(part_gold_concentrate, part_gold_raw_material, part_gold_tail):\n",
    "    recovery_list = []\n",
    "    for index in range(len(part_gold_concentrate)):\n",
    "        recovery_list.append(part_gold_concentrate[index] * (part_gold_raw_material[index] - part_gold_tail[index]) * 100 / \n",
    "                             (part_gold_raw_material[index] * (part_gold_concentrate[index] - part_gold_tail[index])))\n",
    "    recovery_pd = pd.Series(recovery_list)                 \n",
    "    return recovery_pd"
   ]
  },
  {
   "cell_type": "markdown",
   "metadata": {},
   "source": [
    "Определим столбцы в обучающей выборке, отвечающие 3 парамерам в функции `recov`. Для этого выведем столбцы выборки:"
   ]
  },
  {
   "cell_type": "code",
   "execution_count": 8,
   "metadata": {
    "scrolled": false
   },
   "outputs": [
    {
     "data": {
      "text/plain": [
       "Index(['date', 'final.output.concentrate_ag', 'final.output.concentrate_pb',\n",
       "       'final.output.concentrate_sol', 'final.output.concentrate_au',\n",
       "       'final.output.recovery', 'final.output.tail_ag', 'final.output.tail_pb',\n",
       "       'final.output.tail_sol', 'final.output.tail_au',\n",
       "       'primary_cleaner.input.sulfate', 'primary_cleaner.input.depressant',\n",
       "       'primary_cleaner.input.feed_size', 'primary_cleaner.input.xanthate',\n",
       "       'primary_cleaner.output.concentrate_ag',\n",
       "       'primary_cleaner.output.concentrate_pb',\n",
       "       'primary_cleaner.output.concentrate_sol',\n",
       "       'primary_cleaner.output.concentrate_au',\n",
       "       'primary_cleaner.output.tail_ag', 'primary_cleaner.output.tail_pb',\n",
       "       'primary_cleaner.output.tail_sol', 'primary_cleaner.output.tail_au',\n",
       "       'primary_cleaner.state.floatbank8_a_air',\n",
       "       'primary_cleaner.state.floatbank8_a_level',\n",
       "       'primary_cleaner.state.floatbank8_b_air',\n",
       "       'primary_cleaner.state.floatbank8_b_level',\n",
       "       'primary_cleaner.state.floatbank8_c_air',\n",
       "       'primary_cleaner.state.floatbank8_c_level',\n",
       "       'primary_cleaner.state.floatbank8_d_air',\n",
       "       'primary_cleaner.state.floatbank8_d_level',\n",
       "       'rougher.calculation.sulfate_to_au_concentrate',\n",
       "       'rougher.calculation.floatbank10_sulfate_to_au_feed',\n",
       "       'rougher.calculation.floatbank11_sulfate_to_au_feed',\n",
       "       'rougher.calculation.au_pb_ratio', 'rougher.input.feed_ag',\n",
       "       'rougher.input.feed_pb', 'rougher.input.feed_rate',\n",
       "       'rougher.input.feed_size', 'rougher.input.feed_sol',\n",
       "       'rougher.input.feed_au', 'rougher.input.floatbank10_sulfate',\n",
       "       'rougher.input.floatbank10_xanthate',\n",
       "       'rougher.input.floatbank11_sulfate',\n",
       "       'rougher.input.floatbank11_xanthate', 'rougher.output.concentrate_ag',\n",
       "       'rougher.output.concentrate_pb', 'rougher.output.concentrate_sol',\n",
       "       'rougher.output.concentrate_au', 'rougher.output.recovery',\n",
       "       'rougher.output.tail_ag', 'rougher.output.tail_pb',\n",
       "       'rougher.output.tail_sol', 'rougher.output.tail_au',\n",
       "       'rougher.state.floatbank10_a_air', 'rougher.state.floatbank10_a_level',\n",
       "       'rougher.state.floatbank10_b_air', 'rougher.state.floatbank10_b_level',\n",
       "       'rougher.state.floatbank10_c_air', 'rougher.state.floatbank10_c_level',\n",
       "       'rougher.state.floatbank10_d_air', 'rougher.state.floatbank10_d_level',\n",
       "       'rougher.state.floatbank10_e_air', 'rougher.state.floatbank10_e_level',\n",
       "       'rougher.state.floatbank10_f_air', 'rougher.state.floatbank10_f_level',\n",
       "       'secondary_cleaner.output.tail_ag', 'secondary_cleaner.output.tail_pb',\n",
       "       'secondary_cleaner.output.tail_sol', 'secondary_cleaner.output.tail_au',\n",
       "       'secondary_cleaner.state.floatbank2_a_air',\n",
       "       'secondary_cleaner.state.floatbank2_a_level',\n",
       "       'secondary_cleaner.state.floatbank2_b_air',\n",
       "       'secondary_cleaner.state.floatbank2_b_level',\n",
       "       'secondary_cleaner.state.floatbank3_a_air',\n",
       "       'secondary_cleaner.state.floatbank3_a_level',\n",
       "       'secondary_cleaner.state.floatbank3_b_air',\n",
       "       'secondary_cleaner.state.floatbank3_b_level',\n",
       "       'secondary_cleaner.state.floatbank4_a_air',\n",
       "       'secondary_cleaner.state.floatbank4_a_level',\n",
       "       'secondary_cleaner.state.floatbank4_b_air',\n",
       "       'secondary_cleaner.state.floatbank4_b_level',\n",
       "       'secondary_cleaner.state.floatbank5_a_air',\n",
       "       'secondary_cleaner.state.floatbank5_a_level',\n",
       "       'secondary_cleaner.state.floatbank5_b_air',\n",
       "       'secondary_cleaner.state.floatbank5_b_level',\n",
       "       'secondary_cleaner.state.floatbank6_a_air',\n",
       "       'secondary_cleaner.state.floatbank6_a_level'],\n",
       "      dtype='object')"
      ]
     },
     "execution_count": 8,
     "metadata": {},
     "output_type": "execute_result"
    }
   ],
   "source": [
    "df_train.columns"
   ]
  },
  {
   "cell_type": "markdown",
   "metadata": {},
   "source": [
    "Таким образом, можно определить, что за параметр `part_gold_concentrate` отвечает столбец `rougher.output.concentrate_au`, за `part_gold_raw_material` - `rougher.input.feed_au`, за `part_gold_tail` - `rougher.output.tail_au`. Определим эффективность обогащения по формуле `recov`:"
   ]
  },
  {
   "cell_type": "code",
   "execution_count": 9,
   "metadata": {
    "scrolled": false
   },
   "outputs": [
    {
     "data": {
      "text/plain": [
       "0    87.107763\n",
       "1    86.843261\n",
       "2    86.842308\n",
       "3    87.226430\n",
       "4    86.688794\n",
       "5    88.156912\n",
       "6    88.168065\n",
       "7    87.668336\n",
       "8    87.035862\n",
       "9    87.650868\n",
       "dtype: float64"
      ]
     },
     "execution_count": 9,
     "metadata": {},
     "output_type": "execute_result"
    }
   ],
   "source": [
    "recovery_check_df_train = recov(part_gold_concentrate = df_train['rougher.output.concentrate_au'], \n",
    "                                part_gold_raw_material = df_train['rougher.input.feed_au'], \n",
    "                                part_gold_tail = df_train['rougher.output.tail_au'])\n",
    "\n",
    "recovery_check_df_train.head(10)"
   ]
  },
  {
   "cell_type": "markdown",
   "metadata": {},
   "source": [
    "Определим MAE между полученными расчётами и значением признака:"
   ]
  },
  {
   "cell_type": "code",
   "execution_count": 10,
   "metadata": {},
   "outputs": [
    {
     "data": {
      "text/plain": [
       "1.1131451184435918e-14"
      ]
     },
     "execution_count": 10,
     "metadata": {},
     "output_type": "execute_result"
    }
   ],
   "source": [
    "sklm.mean_absolute_error(df_train['rougher.output.recovery'], recovery_check_df_train)"
   ]
  },
  {
   "cell_type": "markdown",
   "metadata": {},
   "source": [
    "Таким образом, среднеквадратичная ошибка ничтожно мала. Делаем вывод о том, что эффективность обогащения рассчитана правильно."
   ]
  },
  {
   "cell_type": "markdown",
   "metadata": {},
   "source": [
    "### Анализ признаков, недоступных в тестовой выборке"
   ]
  },
  {
   "cell_type": "markdown",
   "metadata": {},
   "source": [
    "Определим столбцы, отсутствующие в тестовой выборке и проанализируем их:"
   ]
  },
  {
   "cell_type": "code",
   "execution_count": 11,
   "metadata": {},
   "outputs": [
    {
     "name": "stdout",
     "output_type": "stream",
     "text": [
      "<class 'pandas.core.frame.DataFrame'>\n",
      "RangeIndex: 14149 entries, 0 to 14148\n",
      "Data columns (total 34 columns):\n",
      " #   Column                                              Non-Null Count  Dtype  \n",
      "---  ------                                              --------------  -----  \n",
      " 0   final.output.concentrate_ag                         14148 non-null  float64\n",
      " 1   final.output.concentrate_pb                         14148 non-null  float64\n",
      " 2   final.output.concentrate_sol                        13938 non-null  float64\n",
      " 3   final.output.concentrate_au                         14149 non-null  float64\n",
      " 4   final.output.recovery                               14149 non-null  float64\n",
      " 5   final.output.tail_ag                                14149 non-null  float64\n",
      " 6   final.output.tail_pb                                14049 non-null  float64\n",
      " 7   final.output.tail_sol                               14144 non-null  float64\n",
      " 8   final.output.tail_au                                14149 non-null  float64\n",
      " 9   primary_cleaner.output.concentrate_ag               14149 non-null  float64\n",
      " 10  primary_cleaner.output.concentrate_pb               14063 non-null  float64\n",
      " 11  primary_cleaner.output.concentrate_sol              13863 non-null  float64\n",
      " 12  primary_cleaner.output.concentrate_au               14149 non-null  float64\n",
      " 13  primary_cleaner.output.tail_ag                      14148 non-null  float64\n",
      " 14  primary_cleaner.output.tail_pb                      14134 non-null  float64\n",
      " 15  primary_cleaner.output.tail_sol                     14103 non-null  float64\n",
      " 16  primary_cleaner.output.tail_au                      14149 non-null  float64\n",
      " 17  rougher.calculation.sulfate_to_au_concentrate       14148 non-null  float64\n",
      " 18  rougher.calculation.floatbank10_sulfate_to_au_feed  14148 non-null  float64\n",
      " 19  rougher.calculation.floatbank11_sulfate_to_au_feed  14148 non-null  float64\n",
      " 20  rougher.calculation.au_pb_ratio                     14149 non-null  float64\n",
      " 21  rougher.output.concentrate_ag                       14149 non-null  float64\n",
      " 22  rougher.output.concentrate_pb                       14149 non-null  float64\n",
      " 23  rougher.output.concentrate_sol                      14127 non-null  float64\n",
      " 24  rougher.output.concentrate_au                       14149 non-null  float64\n",
      " 25  rougher.output.recovery                             14149 non-null  float64\n",
      " 26  rougher.output.tail_ag                              14148 non-null  float64\n",
      " 27  rougher.output.tail_pb                              14149 non-null  float64\n",
      " 28  rougher.output.tail_sol                             14149 non-null  float64\n",
      " 29  rougher.output.tail_au                              14149 non-null  float64\n",
      " 30  secondary_cleaner.output.tail_ag                    14147 non-null  float64\n",
      " 31  secondary_cleaner.output.tail_pb                    14139 non-null  float64\n",
      " 32  secondary_cleaner.output.tail_sol                   12544 non-null  float64\n",
      " 33  secondary_cleaner.output.tail_au                    14149 non-null  float64\n",
      "dtypes: float64(34)\n",
      "memory usage: 3.7 MB\n"
     ]
    }
   ],
   "source": [
    "columns_not_in_df_test = []\n",
    "\n",
    "for value in df_train.columns:\n",
    "    if value not in df_test.columns:\n",
    "        columns_not_in_df_test.append(value)\n",
    "        \n",
    "df_train[columns_not_in_df_test].info()"
   ]
  },
  {
   "cell_type": "markdown",
   "metadata": {},
   "source": [
    "Можно заметить, что все признаки имею тип `float`, и практически все характеризуют параметры продукта в конце на различных стадиях очистки, т.е. конечное его состояние после каждого этапа. Однако в тестовой выборке не пропущены столбцы, характеризующие состояние процесса, т.е. определяющие, какое количество золота останется в продукте при завершении этапа. Это означает, что для нашей модели отсутствие пропущенных столбцов в тестовой выборке не сильно повлияет на создание модели, так как основной задачей является именно получение предсказания, какая часть золота останется после полной очистки руды."
   ]
  },
  {
   "cell_type": "markdown",
   "metadata": {},
   "source": [
    "### Проведем предобрабоку данных"
   ]
  },
  {
   "cell_type": "markdown",
   "metadata": {},
   "source": [
    "Сделаем проверку датасетов на дубликаты:"
   ]
  },
  {
   "cell_type": "code",
   "execution_count": 12,
   "metadata": {},
   "outputs": [
    {
     "data": {
      "text/plain": [
       "0"
      ]
     },
     "execution_count": 12,
     "metadata": {},
     "output_type": "execute_result"
    }
   ],
   "source": [
    "df_train.duplicated().sum()"
   ]
  },
  {
   "cell_type": "code",
   "execution_count": 13,
   "metadata": {},
   "outputs": [
    {
     "data": {
      "text/plain": [
       "0"
      ]
     },
     "execution_count": 13,
     "metadata": {},
     "output_type": "execute_result"
    }
   ],
   "source": [
    "df_test.duplicated().sum()"
   ]
  },
  {
   "cell_type": "code",
   "execution_count": 14,
   "metadata": {
    "scrolled": true
   },
   "outputs": [
    {
     "data": {
      "text/plain": [
       "0"
      ]
     },
     "execution_count": 14,
     "metadata": {},
     "output_type": "execute_result"
    }
   ],
   "source": [
    "df_full.duplicated().sum()"
   ]
  },
  {
   "cell_type": "markdown",
   "metadata": {},
   "source": [
    "Дубликаты отсутствуют."
   ]
  },
  {
   "cell_type": "markdown",
   "metadata": {},
   "source": [
    "Сделаем проверку датасетов на правильный тип данных и на пропуски:"
   ]
  },
  {
   "cell_type": "code",
   "execution_count": 15,
   "metadata": {
    "scrolled": false
   },
   "outputs": [
    {
     "name": "stdout",
     "output_type": "stream",
     "text": [
      "<class 'pandas.core.frame.DataFrame'>\n",
      "RangeIndex: 14149 entries, 0 to 14148\n",
      "Data columns (total 87 columns):\n",
      " #   Column                                              Non-Null Count  Dtype  \n",
      "---  ------                                              --------------  -----  \n",
      " 0   date                                                14149 non-null  object \n",
      " 1   final.output.concentrate_ag                         14148 non-null  float64\n",
      " 2   final.output.concentrate_pb                         14148 non-null  float64\n",
      " 3   final.output.concentrate_sol                        13938 non-null  float64\n",
      " 4   final.output.concentrate_au                         14149 non-null  float64\n",
      " 5   final.output.recovery                               14149 non-null  float64\n",
      " 6   final.output.tail_ag                                14149 non-null  float64\n",
      " 7   final.output.tail_pb                                14049 non-null  float64\n",
      " 8   final.output.tail_sol                               14144 non-null  float64\n",
      " 9   final.output.tail_au                                14149 non-null  float64\n",
      " 10  primary_cleaner.input.sulfate                       14129 non-null  float64\n",
      " 11  primary_cleaner.input.depressant                    14117 non-null  float64\n",
      " 12  primary_cleaner.input.feed_size                     14149 non-null  float64\n",
      " 13  primary_cleaner.input.xanthate                      14049 non-null  float64\n",
      " 14  primary_cleaner.output.concentrate_ag               14149 non-null  float64\n",
      " 15  primary_cleaner.output.concentrate_pb               14063 non-null  float64\n",
      " 16  primary_cleaner.output.concentrate_sol              13863 non-null  float64\n",
      " 17  primary_cleaner.output.concentrate_au               14149 non-null  float64\n",
      " 18  primary_cleaner.output.tail_ag                      14148 non-null  float64\n",
      " 19  primary_cleaner.output.tail_pb                      14134 non-null  float64\n",
      " 20  primary_cleaner.output.tail_sol                     14103 non-null  float64\n",
      " 21  primary_cleaner.output.tail_au                      14149 non-null  float64\n",
      " 22  primary_cleaner.state.floatbank8_a_air              14145 non-null  float64\n",
      " 23  primary_cleaner.state.floatbank8_a_level            14148 non-null  float64\n",
      " 24  primary_cleaner.state.floatbank8_b_air              14145 non-null  float64\n",
      " 25  primary_cleaner.state.floatbank8_b_level            14148 non-null  float64\n",
      " 26  primary_cleaner.state.floatbank8_c_air              14147 non-null  float64\n",
      " 27  primary_cleaner.state.floatbank8_c_level            14148 non-null  float64\n",
      " 28  primary_cleaner.state.floatbank8_d_air              14146 non-null  float64\n",
      " 29  primary_cleaner.state.floatbank8_d_level            14148 non-null  float64\n",
      " 30  rougher.calculation.sulfate_to_au_concentrate       14148 non-null  float64\n",
      " 31  rougher.calculation.floatbank10_sulfate_to_au_feed  14148 non-null  float64\n",
      " 32  rougher.calculation.floatbank11_sulfate_to_au_feed  14148 non-null  float64\n",
      " 33  rougher.calculation.au_pb_ratio                     14149 non-null  float64\n",
      " 34  rougher.input.feed_ag                               14149 non-null  float64\n",
      " 35  rougher.input.feed_pb                               14049 non-null  float64\n",
      " 36  rougher.input.feed_rate                             14141 non-null  float64\n",
      " 37  rougher.input.feed_size                             14005 non-null  float64\n",
      " 38  rougher.input.feed_sol                              14071 non-null  float64\n",
      " 39  rougher.input.feed_au                               14149 non-null  float64\n",
      " 40  rougher.input.floatbank10_sulfate                   14120 non-null  float64\n",
      " 41  rougher.input.floatbank10_xanthate                  14141 non-null  float64\n",
      " 42  rougher.input.floatbank11_sulfate                   14113 non-null  float64\n",
      " 43  rougher.input.floatbank11_xanthate                  13721 non-null  float64\n",
      " 44  rougher.output.concentrate_ag                       14149 non-null  float64\n",
      " 45  rougher.output.concentrate_pb                       14149 non-null  float64\n",
      " 46  rougher.output.concentrate_sol                      14127 non-null  float64\n",
      " 47  rougher.output.concentrate_au                       14149 non-null  float64\n",
      " 48  rougher.output.recovery                             14149 non-null  float64\n",
      " 49  rougher.output.tail_ag                              14148 non-null  float64\n",
      " 50  rougher.output.tail_pb                              14149 non-null  float64\n",
      " 51  rougher.output.tail_sol                             14149 non-null  float64\n",
      " 52  rougher.output.tail_au                              14149 non-null  float64\n",
      " 53  rougher.state.floatbank10_a_air                     14148 non-null  float64\n",
      " 54  rougher.state.floatbank10_a_level                   14148 non-null  float64\n",
      " 55  rougher.state.floatbank10_b_air                     14148 non-null  float64\n",
      " 56  rougher.state.floatbank10_b_level                   14148 non-null  float64\n",
      " 57  rougher.state.floatbank10_c_air                     14148 non-null  float64\n",
      " 58  rougher.state.floatbank10_c_level                   14148 non-null  float64\n",
      " 59  rougher.state.floatbank10_d_air                     14149 non-null  float64\n",
      " 60  rougher.state.floatbank10_d_level                   14149 non-null  float64\n",
      " 61  rougher.state.floatbank10_e_air                     13713 non-null  float64\n",
      " 62  rougher.state.floatbank10_e_level                   14149 non-null  float64\n",
      " 63  rougher.state.floatbank10_f_air                     14149 non-null  float64\n",
      " 64  rougher.state.floatbank10_f_level                   14149 non-null  float64\n",
      " 65  secondary_cleaner.output.tail_ag                    14147 non-null  float64\n",
      " 66  secondary_cleaner.output.tail_pb                    14139 non-null  float64\n",
      " 67  secondary_cleaner.output.tail_sol                   12544 non-null  float64\n",
      " 68  secondary_cleaner.output.tail_au                    14149 non-null  float64\n",
      " 69  secondary_cleaner.state.floatbank2_a_air            13932 non-null  float64\n",
      " 70  secondary_cleaner.state.floatbank2_a_level          14148 non-null  float64\n",
      " 71  secondary_cleaner.state.floatbank2_b_air            14128 non-null  float64\n",
      " 72  secondary_cleaner.state.floatbank2_b_level          14148 non-null  float64\n",
      " 73  secondary_cleaner.state.floatbank3_a_air            14145 non-null  float64\n",
      " 74  secondary_cleaner.state.floatbank3_a_level          14148 non-null  float64\n",
      " 75  secondary_cleaner.state.floatbank3_b_air            14148 non-null  float64\n",
      " 76  secondary_cleaner.state.floatbank3_b_level          14148 non-null  float64\n",
      " 77  secondary_cleaner.state.floatbank4_a_air            14143 non-null  float64\n",
      " 78  secondary_cleaner.state.floatbank4_a_level          14148 non-null  float64\n",
      " 79  secondary_cleaner.state.floatbank4_b_air            14148 non-null  float64\n",
      " 80  secondary_cleaner.state.floatbank4_b_level          14148 non-null  float64\n",
      " 81  secondary_cleaner.state.floatbank5_a_air            14148 non-null  float64\n",
      " 82  secondary_cleaner.state.floatbank5_a_level          14148 non-null  float64\n",
      " 83  secondary_cleaner.state.floatbank5_b_air            14148 non-null  float64\n",
      " 84  secondary_cleaner.state.floatbank5_b_level          14148 non-null  float64\n",
      " 85  secondary_cleaner.state.floatbank6_a_air            14147 non-null  float64\n",
      " 86  secondary_cleaner.state.floatbank6_a_level          14148 non-null  float64\n",
      "dtypes: float64(86), object(1)\n",
      "memory usage: 9.4+ MB\n"
     ]
    }
   ],
   "source": [
    "df_train.info()"
   ]
  },
  {
   "cell_type": "code",
   "execution_count": 16,
   "metadata": {},
   "outputs": [
    {
     "name": "stdout",
     "output_type": "stream",
     "text": [
      "<class 'pandas.core.frame.DataFrame'>\n",
      "RangeIndex: 5290 entries, 0 to 5289\n",
      "Data columns (total 53 columns):\n",
      " #   Column                                      Non-Null Count  Dtype  \n",
      "---  ------                                      --------------  -----  \n",
      " 0   date                                        5290 non-null   object \n",
      " 1   primary_cleaner.input.sulfate               5286 non-null   float64\n",
      " 2   primary_cleaner.input.depressant            5285 non-null   float64\n",
      " 3   primary_cleaner.input.feed_size             5290 non-null   float64\n",
      " 4   primary_cleaner.input.xanthate              5286 non-null   float64\n",
      " 5   primary_cleaner.state.floatbank8_a_air      5290 non-null   float64\n",
      " 6   primary_cleaner.state.floatbank8_a_level    5290 non-null   float64\n",
      " 7   primary_cleaner.state.floatbank8_b_air      5290 non-null   float64\n",
      " 8   primary_cleaner.state.floatbank8_b_level    5290 non-null   float64\n",
      " 9   primary_cleaner.state.floatbank8_c_air      5290 non-null   float64\n",
      " 10  primary_cleaner.state.floatbank8_c_level    5290 non-null   float64\n",
      " 11  primary_cleaner.state.floatbank8_d_air      5290 non-null   float64\n",
      " 12  primary_cleaner.state.floatbank8_d_level    5290 non-null   float64\n",
      " 13  rougher.input.feed_ag                       5290 non-null   float64\n",
      " 14  rougher.input.feed_pb                       5290 non-null   float64\n",
      " 15  rougher.input.feed_rate                     5287 non-null   float64\n",
      " 16  rougher.input.feed_size                     5289 non-null   float64\n",
      " 17  rougher.input.feed_sol                      5269 non-null   float64\n",
      " 18  rougher.input.feed_au                       5290 non-null   float64\n",
      " 19  rougher.input.floatbank10_sulfate           5285 non-null   float64\n",
      " 20  rougher.input.floatbank10_xanthate          5290 non-null   float64\n",
      " 21  rougher.input.floatbank11_sulfate           5282 non-null   float64\n",
      " 22  rougher.input.floatbank11_xanthate          5265 non-null   float64\n",
      " 23  rougher.state.floatbank10_a_air             5290 non-null   float64\n",
      " 24  rougher.state.floatbank10_a_level           5290 non-null   float64\n",
      " 25  rougher.state.floatbank10_b_air             5290 non-null   float64\n",
      " 26  rougher.state.floatbank10_b_level           5290 non-null   float64\n",
      " 27  rougher.state.floatbank10_c_air             5290 non-null   float64\n",
      " 28  rougher.state.floatbank10_c_level           5290 non-null   float64\n",
      " 29  rougher.state.floatbank10_d_air             5290 non-null   float64\n",
      " 30  rougher.state.floatbank10_d_level           5290 non-null   float64\n",
      " 31  rougher.state.floatbank10_e_air             5290 non-null   float64\n",
      " 32  rougher.state.floatbank10_e_level           5290 non-null   float64\n",
      " 33  rougher.state.floatbank10_f_air             5290 non-null   float64\n",
      " 34  rougher.state.floatbank10_f_level           5290 non-null   float64\n",
      " 35  secondary_cleaner.state.floatbank2_a_air    5287 non-null   float64\n",
      " 36  secondary_cleaner.state.floatbank2_a_level  5290 non-null   float64\n",
      " 37  secondary_cleaner.state.floatbank2_b_air    5288 non-null   float64\n",
      " 38  secondary_cleaner.state.floatbank2_b_level  5290 non-null   float64\n",
      " 39  secondary_cleaner.state.floatbank3_a_air    5281 non-null   float64\n",
      " 40  secondary_cleaner.state.floatbank3_a_level  5290 non-null   float64\n",
      " 41  secondary_cleaner.state.floatbank3_b_air    5290 non-null   float64\n",
      " 42  secondary_cleaner.state.floatbank3_b_level  5290 non-null   float64\n",
      " 43  secondary_cleaner.state.floatbank4_a_air    5290 non-null   float64\n",
      " 44  secondary_cleaner.state.floatbank4_a_level  5290 non-null   float64\n",
      " 45  secondary_cleaner.state.floatbank4_b_air    5290 non-null   float64\n",
      " 46  secondary_cleaner.state.floatbank4_b_level  5290 non-null   float64\n",
      " 47  secondary_cleaner.state.floatbank5_a_air    5290 non-null   float64\n",
      " 48  secondary_cleaner.state.floatbank5_a_level  5290 non-null   float64\n",
      " 49  secondary_cleaner.state.floatbank5_b_air    5290 non-null   float64\n",
      " 50  secondary_cleaner.state.floatbank5_b_level  5290 non-null   float64\n",
      " 51  secondary_cleaner.state.floatbank6_a_air    5290 non-null   float64\n",
      " 52  secondary_cleaner.state.floatbank6_a_level  5290 non-null   float64\n",
      "dtypes: float64(52), object(1)\n",
      "memory usage: 2.1+ MB\n"
     ]
    }
   ],
   "source": [
    "df_test.info()"
   ]
  },
  {
   "cell_type": "code",
   "execution_count": 17,
   "metadata": {},
   "outputs": [
    {
     "name": "stdout",
     "output_type": "stream",
     "text": [
      "<class 'pandas.core.frame.DataFrame'>\n",
      "RangeIndex: 19439 entries, 0 to 19438\n",
      "Data columns (total 87 columns):\n",
      " #   Column                                              Non-Null Count  Dtype  \n",
      "---  ------                                              --------------  -----  \n",
      " 0   date                                                19439 non-null  object \n",
      " 1   final.output.concentrate_ag                         19438 non-null  float64\n",
      " 2   final.output.concentrate_pb                         19438 non-null  float64\n",
      " 3   final.output.concentrate_sol                        19228 non-null  float64\n",
      " 4   final.output.concentrate_au                         19439 non-null  float64\n",
      " 5   final.output.recovery                               19439 non-null  float64\n",
      " 6   final.output.tail_ag                                19438 non-null  float64\n",
      " 7   final.output.tail_pb                                19338 non-null  float64\n",
      " 8   final.output.tail_sol                               19433 non-null  float64\n",
      " 9   final.output.tail_au                                19439 non-null  float64\n",
      " 10  primary_cleaner.input.sulfate                       19415 non-null  float64\n",
      " 11  primary_cleaner.input.depressant                    19402 non-null  float64\n",
      " 12  primary_cleaner.input.feed_size                     19439 non-null  float64\n",
      " 13  primary_cleaner.input.xanthate                      19335 non-null  float64\n",
      " 14  primary_cleaner.output.concentrate_ag               19439 non-null  float64\n",
      " 15  primary_cleaner.output.concentrate_pb               19323 non-null  float64\n",
      " 16  primary_cleaner.output.concentrate_sol              19069 non-null  float64\n",
      " 17  primary_cleaner.output.concentrate_au               19439 non-null  float64\n",
      " 18  primary_cleaner.output.tail_ag                      19435 non-null  float64\n",
      " 19  primary_cleaner.output.tail_pb                      19418 non-null  float64\n",
      " 20  primary_cleaner.output.tail_sol                     19377 non-null  float64\n",
      " 21  primary_cleaner.output.tail_au                      19439 non-null  float64\n",
      " 22  primary_cleaner.state.floatbank8_a_air              19435 non-null  float64\n",
      " 23  primary_cleaner.state.floatbank8_a_level            19438 non-null  float64\n",
      " 24  primary_cleaner.state.floatbank8_b_air              19435 non-null  float64\n",
      " 25  primary_cleaner.state.floatbank8_b_level            19438 non-null  float64\n",
      " 26  primary_cleaner.state.floatbank8_c_air              19437 non-null  float64\n",
      " 27  primary_cleaner.state.floatbank8_c_level            19438 non-null  float64\n",
      " 28  primary_cleaner.state.floatbank8_d_air              19436 non-null  float64\n",
      " 29  primary_cleaner.state.floatbank8_d_level            19438 non-null  float64\n",
      " 30  rougher.calculation.sulfate_to_au_concentrate       19437 non-null  float64\n",
      " 31  rougher.calculation.floatbank10_sulfate_to_au_feed  19437 non-null  float64\n",
      " 32  rougher.calculation.floatbank11_sulfate_to_au_feed  19437 non-null  float64\n",
      " 33  rougher.calculation.au_pb_ratio                     19439 non-null  float64\n",
      " 34  rougher.input.feed_ag                               19439 non-null  float64\n",
      " 35  rougher.input.feed_pb                               19339 non-null  float64\n",
      " 36  rougher.input.feed_rate                             19428 non-null  float64\n",
      " 37  rougher.input.feed_size                             19294 non-null  float64\n",
      " 38  rougher.input.feed_sol                              19340 non-null  float64\n",
      " 39  rougher.input.feed_au                               19439 non-null  float64\n",
      " 40  rougher.input.floatbank10_sulfate                   19405 non-null  float64\n",
      " 41  rougher.input.floatbank10_xanthate                  19431 non-null  float64\n",
      " 42  rougher.input.floatbank11_sulfate                   19395 non-null  float64\n",
      " 43  rougher.input.floatbank11_xanthate                  18986 non-null  float64\n",
      " 44  rougher.output.concentrate_ag                       19439 non-null  float64\n",
      " 45  rougher.output.concentrate_pb                       19439 non-null  float64\n",
      " 46  rougher.output.concentrate_sol                      19416 non-null  float64\n",
      " 47  rougher.output.concentrate_au                       19439 non-null  float64\n",
      " 48  rougher.output.recovery                             19439 non-null  float64\n",
      " 49  rougher.output.tail_ag                              19438 non-null  float64\n",
      " 50  rougher.output.tail_pb                              19439 non-null  float64\n",
      " 51  rougher.output.tail_sol                             19439 non-null  float64\n",
      " 52  rougher.output.tail_au                              19439 non-null  float64\n",
      " 53  rougher.state.floatbank10_a_air                     19438 non-null  float64\n",
      " 54  rougher.state.floatbank10_a_level                   19438 non-null  float64\n",
      " 55  rougher.state.floatbank10_b_air                     19438 non-null  float64\n",
      " 56  rougher.state.floatbank10_b_level                   19438 non-null  float64\n",
      " 57  rougher.state.floatbank10_c_air                     19438 non-null  float64\n",
      " 58  rougher.state.floatbank10_c_level                   19438 non-null  float64\n",
      " 59  rougher.state.floatbank10_d_air                     19439 non-null  float64\n",
      " 60  rougher.state.floatbank10_d_level                   19439 non-null  float64\n",
      " 61  rougher.state.floatbank10_e_air                     19003 non-null  float64\n",
      " 62  rougher.state.floatbank10_e_level                   19439 non-null  float64\n",
      " 63  rougher.state.floatbank10_f_air                     19439 non-null  float64\n",
      " 64  rougher.state.floatbank10_f_level                   19439 non-null  float64\n",
      " 65  secondary_cleaner.output.tail_ag                    19437 non-null  float64\n",
      " 66  secondary_cleaner.output.tail_pb                    19427 non-null  float64\n",
      " 67  secondary_cleaner.output.tail_sol                   17691 non-null  float64\n",
      " 68  secondary_cleaner.output.tail_au                    19439 non-null  float64\n",
      " 69  secondary_cleaner.state.floatbank2_a_air            19219 non-null  float64\n",
      " 70  secondary_cleaner.state.floatbank2_a_level          19438 non-null  float64\n",
      " 71  secondary_cleaner.state.floatbank2_b_air            19416 non-null  float64\n",
      " 72  secondary_cleaner.state.floatbank2_b_level          19438 non-null  float64\n",
      " 73  secondary_cleaner.state.floatbank3_a_air            19426 non-null  float64\n",
      " 74  secondary_cleaner.state.floatbank3_a_level          19438 non-null  float64\n",
      " 75  secondary_cleaner.state.floatbank3_b_air            19438 non-null  float64\n",
      " 76  secondary_cleaner.state.floatbank3_b_level          19438 non-null  float64\n",
      " 77  secondary_cleaner.state.floatbank4_a_air            19433 non-null  float64\n",
      " 78  secondary_cleaner.state.floatbank4_a_level          19438 non-null  float64\n",
      " 79  secondary_cleaner.state.floatbank4_b_air            19438 non-null  float64\n",
      " 80  secondary_cleaner.state.floatbank4_b_level          19438 non-null  float64\n",
      " 81  secondary_cleaner.state.floatbank5_a_air            19438 non-null  float64\n",
      " 82  secondary_cleaner.state.floatbank5_a_level          19438 non-null  float64\n",
      " 83  secondary_cleaner.state.floatbank5_b_air            19438 non-null  float64\n",
      " 84  secondary_cleaner.state.floatbank5_b_level          19438 non-null  float64\n",
      " 85  secondary_cleaner.state.floatbank6_a_air            19437 non-null  float64\n",
      " 86  secondary_cleaner.state.floatbank6_a_level          19438 non-null  float64\n",
      "dtypes: float64(86), object(1)\n",
      "memory usage: 12.9+ MB\n"
     ]
    }
   ],
   "source": [
    "df_full.info()"
   ]
  },
  {
   "cell_type": "markdown",
   "metadata": {},
   "source": [
    "Тип данных во всех стобцах верный, однако есть пропуски, исследуем их.\n",
    "\n",
    "На обучающей выборке определим отношение максимального количества пропусков к общему количеству значений в столбце:"
   ]
  },
  {
   "cell_type": "code",
   "execution_count": 18,
   "metadata": {},
   "outputs": [
    {
     "name": "stdout",
     "output_type": "stream",
     "text": [
      "11.343557848611209 %\n"
     ]
    }
   ],
   "source": [
    "list_pass = []\n",
    "for value in pd.Series(df_train.columns):\n",
    "    if df_train[value].isna().sum() > 0:\n",
    "        list_pass.append(df_train[value].isna().sum())\n",
    "print(max(list_pass) / len(df_train) * 100, '%')"
   ]
  },
  {
   "cell_type": "markdown",
   "metadata": {},
   "source": [
    "В одном из столбцов обучающей выборки доля пропусков более 10% от общего количества значений в столбце - нельзя удалить строки с пропусками. Необходимо придумать, каким методом необходимо заполнить пропуски, чтобы значения были максимально правдивыми. "
   ]
  },
  {
   "cell_type": "markdown",
   "metadata": {},
   "source": [
    "Можем заметить, что в данном тех процессе есть привязка значений в датасетах к дате и времени. Т.е. каждое последующее значение в столбцах будет похожим на предыдущее или последующее. Таким образом, попробуем заполнить пропуски на последующее значение в каждом столбце (то же самое проделаем и в тестовой и полной выборке):"
   ]
  },
  {
   "cell_type": "code",
   "execution_count": 19,
   "metadata": {},
   "outputs": [],
   "source": [
    "df_train.fillna(method = 'ffill', inplace = True)\n",
    "df_test.fillna(method = 'ffill', inplace = True)\n",
    "df_full.fillna(method = 'ffill', inplace = True)"
   ]
  },
  {
   "cell_type": "markdown",
   "metadata": {},
   "source": [
    "Проверим, заполнились ли пропуски:"
   ]
  },
  {
   "cell_type": "code",
   "execution_count": 20,
   "metadata": {},
   "outputs": [
    {
     "name": "stdout",
     "output_type": "stream",
     "text": [
      "<class 'pandas.core.frame.DataFrame'>\n",
      "RangeIndex: 14149 entries, 0 to 14148\n",
      "Data columns (total 87 columns):\n",
      " #   Column                                              Non-Null Count  Dtype  \n",
      "---  ------                                              --------------  -----  \n",
      " 0   date                                                14149 non-null  object \n",
      " 1   final.output.concentrate_ag                         14149 non-null  float64\n",
      " 2   final.output.concentrate_pb                         14149 non-null  float64\n",
      " 3   final.output.concentrate_sol                        14149 non-null  float64\n",
      " 4   final.output.concentrate_au                         14149 non-null  float64\n",
      " 5   final.output.recovery                               14149 non-null  float64\n",
      " 6   final.output.tail_ag                                14149 non-null  float64\n",
      " 7   final.output.tail_pb                                14149 non-null  float64\n",
      " 8   final.output.tail_sol                               14149 non-null  float64\n",
      " 9   final.output.tail_au                                14149 non-null  float64\n",
      " 10  primary_cleaner.input.sulfate                       14149 non-null  float64\n",
      " 11  primary_cleaner.input.depressant                    14149 non-null  float64\n",
      " 12  primary_cleaner.input.feed_size                     14149 non-null  float64\n",
      " 13  primary_cleaner.input.xanthate                      14149 non-null  float64\n",
      " 14  primary_cleaner.output.concentrate_ag               14149 non-null  float64\n",
      " 15  primary_cleaner.output.concentrate_pb               14149 non-null  float64\n",
      " 16  primary_cleaner.output.concentrate_sol              14149 non-null  float64\n",
      " 17  primary_cleaner.output.concentrate_au               14149 non-null  float64\n",
      " 18  primary_cleaner.output.tail_ag                      14149 non-null  float64\n",
      " 19  primary_cleaner.output.tail_pb                      14149 non-null  float64\n",
      " 20  primary_cleaner.output.tail_sol                     14149 non-null  float64\n",
      " 21  primary_cleaner.output.tail_au                      14149 non-null  float64\n",
      " 22  primary_cleaner.state.floatbank8_a_air              14149 non-null  float64\n",
      " 23  primary_cleaner.state.floatbank8_a_level            14149 non-null  float64\n",
      " 24  primary_cleaner.state.floatbank8_b_air              14149 non-null  float64\n",
      " 25  primary_cleaner.state.floatbank8_b_level            14149 non-null  float64\n",
      " 26  primary_cleaner.state.floatbank8_c_air              14149 non-null  float64\n",
      " 27  primary_cleaner.state.floatbank8_c_level            14149 non-null  float64\n",
      " 28  primary_cleaner.state.floatbank8_d_air              14149 non-null  float64\n",
      " 29  primary_cleaner.state.floatbank8_d_level            14149 non-null  float64\n",
      " 30  rougher.calculation.sulfate_to_au_concentrate       14149 non-null  float64\n",
      " 31  rougher.calculation.floatbank10_sulfate_to_au_feed  14149 non-null  float64\n",
      " 32  rougher.calculation.floatbank11_sulfate_to_au_feed  14149 non-null  float64\n",
      " 33  rougher.calculation.au_pb_ratio                     14149 non-null  float64\n",
      " 34  rougher.input.feed_ag                               14149 non-null  float64\n",
      " 35  rougher.input.feed_pb                               14149 non-null  float64\n",
      " 36  rougher.input.feed_rate                             14149 non-null  float64\n",
      " 37  rougher.input.feed_size                             14149 non-null  float64\n",
      " 38  rougher.input.feed_sol                              14149 non-null  float64\n",
      " 39  rougher.input.feed_au                               14149 non-null  float64\n",
      " 40  rougher.input.floatbank10_sulfate                   14149 non-null  float64\n",
      " 41  rougher.input.floatbank10_xanthate                  14149 non-null  float64\n",
      " 42  rougher.input.floatbank11_sulfate                   14149 non-null  float64\n",
      " 43  rougher.input.floatbank11_xanthate                  14149 non-null  float64\n",
      " 44  rougher.output.concentrate_ag                       14149 non-null  float64\n",
      " 45  rougher.output.concentrate_pb                       14149 non-null  float64\n",
      " 46  rougher.output.concentrate_sol                      14149 non-null  float64\n",
      " 47  rougher.output.concentrate_au                       14149 non-null  float64\n",
      " 48  rougher.output.recovery                             14149 non-null  float64\n",
      " 49  rougher.output.tail_ag                              14149 non-null  float64\n",
      " 50  rougher.output.tail_pb                              14149 non-null  float64\n",
      " 51  rougher.output.tail_sol                             14149 non-null  float64\n",
      " 52  rougher.output.tail_au                              14149 non-null  float64\n",
      " 53  rougher.state.floatbank10_a_air                     14149 non-null  float64\n",
      " 54  rougher.state.floatbank10_a_level                   14149 non-null  float64\n",
      " 55  rougher.state.floatbank10_b_air                     14149 non-null  float64\n",
      " 56  rougher.state.floatbank10_b_level                   14149 non-null  float64\n",
      " 57  rougher.state.floatbank10_c_air                     14149 non-null  float64\n",
      " 58  rougher.state.floatbank10_c_level                   14149 non-null  float64\n",
      " 59  rougher.state.floatbank10_d_air                     14149 non-null  float64\n",
      " 60  rougher.state.floatbank10_d_level                   14149 non-null  float64\n",
      " 61  rougher.state.floatbank10_e_air                     14149 non-null  float64\n",
      " 62  rougher.state.floatbank10_e_level                   14149 non-null  float64\n",
      " 63  rougher.state.floatbank10_f_air                     14149 non-null  float64\n",
      " 64  rougher.state.floatbank10_f_level                   14149 non-null  float64\n",
      " 65  secondary_cleaner.output.tail_ag                    14149 non-null  float64\n",
      " 66  secondary_cleaner.output.tail_pb                    14149 non-null  float64\n",
      " 67  secondary_cleaner.output.tail_sol                   14149 non-null  float64\n",
      " 68  secondary_cleaner.output.tail_au                    14149 non-null  float64\n",
      " 69  secondary_cleaner.state.floatbank2_a_air            14149 non-null  float64\n",
      " 70  secondary_cleaner.state.floatbank2_a_level          14149 non-null  float64\n",
      " 71  secondary_cleaner.state.floatbank2_b_air            14149 non-null  float64\n",
      " 72  secondary_cleaner.state.floatbank2_b_level          14149 non-null  float64\n",
      " 73  secondary_cleaner.state.floatbank3_a_air            14149 non-null  float64\n",
      " 74  secondary_cleaner.state.floatbank3_a_level          14149 non-null  float64\n",
      " 75  secondary_cleaner.state.floatbank3_b_air            14149 non-null  float64\n",
      " 76  secondary_cleaner.state.floatbank3_b_level          14149 non-null  float64\n",
      " 77  secondary_cleaner.state.floatbank4_a_air            14149 non-null  float64\n",
      " 78  secondary_cleaner.state.floatbank4_a_level          14149 non-null  float64\n",
      " 79  secondary_cleaner.state.floatbank4_b_air            14149 non-null  float64\n",
      " 80  secondary_cleaner.state.floatbank4_b_level          14149 non-null  float64\n",
      " 81  secondary_cleaner.state.floatbank5_a_air            14149 non-null  float64\n",
      " 82  secondary_cleaner.state.floatbank5_a_level          14149 non-null  float64\n",
      " 83  secondary_cleaner.state.floatbank5_b_air            14149 non-null  float64\n",
      " 84  secondary_cleaner.state.floatbank5_b_level          14149 non-null  float64\n",
      " 85  secondary_cleaner.state.floatbank6_a_air            14149 non-null  float64\n",
      " 86  secondary_cleaner.state.floatbank6_a_level          14149 non-null  float64\n",
      "dtypes: float64(86), object(1)\n",
      "memory usage: 9.4+ MB\n"
     ]
    }
   ],
   "source": [
    "df_train.info()"
   ]
  },
  {
   "cell_type": "code",
   "execution_count": 21,
   "metadata": {},
   "outputs": [
    {
     "name": "stdout",
     "output_type": "stream",
     "text": [
      "<class 'pandas.core.frame.DataFrame'>\n",
      "RangeIndex: 5290 entries, 0 to 5289\n",
      "Data columns (total 53 columns):\n",
      " #   Column                                      Non-Null Count  Dtype  \n",
      "---  ------                                      --------------  -----  \n",
      " 0   date                                        5290 non-null   object \n",
      " 1   primary_cleaner.input.sulfate               5290 non-null   float64\n",
      " 2   primary_cleaner.input.depressant            5290 non-null   float64\n",
      " 3   primary_cleaner.input.feed_size             5290 non-null   float64\n",
      " 4   primary_cleaner.input.xanthate              5290 non-null   float64\n",
      " 5   primary_cleaner.state.floatbank8_a_air      5290 non-null   float64\n",
      " 6   primary_cleaner.state.floatbank8_a_level    5290 non-null   float64\n",
      " 7   primary_cleaner.state.floatbank8_b_air      5290 non-null   float64\n",
      " 8   primary_cleaner.state.floatbank8_b_level    5290 non-null   float64\n",
      " 9   primary_cleaner.state.floatbank8_c_air      5290 non-null   float64\n",
      " 10  primary_cleaner.state.floatbank8_c_level    5290 non-null   float64\n",
      " 11  primary_cleaner.state.floatbank8_d_air      5290 non-null   float64\n",
      " 12  primary_cleaner.state.floatbank8_d_level    5290 non-null   float64\n",
      " 13  rougher.input.feed_ag                       5290 non-null   float64\n",
      " 14  rougher.input.feed_pb                       5290 non-null   float64\n",
      " 15  rougher.input.feed_rate                     5290 non-null   float64\n",
      " 16  rougher.input.feed_size                     5290 non-null   float64\n",
      " 17  rougher.input.feed_sol                      5290 non-null   float64\n",
      " 18  rougher.input.feed_au                       5290 non-null   float64\n",
      " 19  rougher.input.floatbank10_sulfate           5290 non-null   float64\n",
      " 20  rougher.input.floatbank10_xanthate          5290 non-null   float64\n",
      " 21  rougher.input.floatbank11_sulfate           5290 non-null   float64\n",
      " 22  rougher.input.floatbank11_xanthate          5290 non-null   float64\n",
      " 23  rougher.state.floatbank10_a_air             5290 non-null   float64\n",
      " 24  rougher.state.floatbank10_a_level           5290 non-null   float64\n",
      " 25  rougher.state.floatbank10_b_air             5290 non-null   float64\n",
      " 26  rougher.state.floatbank10_b_level           5290 non-null   float64\n",
      " 27  rougher.state.floatbank10_c_air             5290 non-null   float64\n",
      " 28  rougher.state.floatbank10_c_level           5290 non-null   float64\n",
      " 29  rougher.state.floatbank10_d_air             5290 non-null   float64\n",
      " 30  rougher.state.floatbank10_d_level           5290 non-null   float64\n",
      " 31  rougher.state.floatbank10_e_air             5290 non-null   float64\n",
      " 32  rougher.state.floatbank10_e_level           5290 non-null   float64\n",
      " 33  rougher.state.floatbank10_f_air             5290 non-null   float64\n",
      " 34  rougher.state.floatbank10_f_level           5290 non-null   float64\n",
      " 35  secondary_cleaner.state.floatbank2_a_air    5290 non-null   float64\n",
      " 36  secondary_cleaner.state.floatbank2_a_level  5290 non-null   float64\n",
      " 37  secondary_cleaner.state.floatbank2_b_air    5290 non-null   float64\n",
      " 38  secondary_cleaner.state.floatbank2_b_level  5290 non-null   float64\n",
      " 39  secondary_cleaner.state.floatbank3_a_air    5290 non-null   float64\n",
      " 40  secondary_cleaner.state.floatbank3_a_level  5290 non-null   float64\n",
      " 41  secondary_cleaner.state.floatbank3_b_air    5290 non-null   float64\n",
      " 42  secondary_cleaner.state.floatbank3_b_level  5290 non-null   float64\n",
      " 43  secondary_cleaner.state.floatbank4_a_air    5290 non-null   float64\n",
      " 44  secondary_cleaner.state.floatbank4_a_level  5290 non-null   float64\n",
      " 45  secondary_cleaner.state.floatbank4_b_air    5290 non-null   float64\n",
      " 46  secondary_cleaner.state.floatbank4_b_level  5290 non-null   float64\n",
      " 47  secondary_cleaner.state.floatbank5_a_air    5290 non-null   float64\n",
      " 48  secondary_cleaner.state.floatbank5_a_level  5290 non-null   float64\n",
      " 49  secondary_cleaner.state.floatbank5_b_air    5290 non-null   float64\n",
      " 50  secondary_cleaner.state.floatbank5_b_level  5290 non-null   float64\n",
      " 51  secondary_cleaner.state.floatbank6_a_air    5290 non-null   float64\n",
      " 52  secondary_cleaner.state.floatbank6_a_level  5290 non-null   float64\n",
      "dtypes: float64(52), object(1)\n",
      "memory usage: 2.1+ MB\n"
     ]
    }
   ],
   "source": [
    "df_test.info()"
   ]
  },
  {
   "cell_type": "code",
   "execution_count": 22,
   "metadata": {},
   "outputs": [
    {
     "name": "stdout",
     "output_type": "stream",
     "text": [
      "<class 'pandas.core.frame.DataFrame'>\n",
      "RangeIndex: 19439 entries, 0 to 19438\n",
      "Data columns (total 87 columns):\n",
      " #   Column                                              Non-Null Count  Dtype  \n",
      "---  ------                                              --------------  -----  \n",
      " 0   date                                                19439 non-null  object \n",
      " 1   final.output.concentrate_ag                         19439 non-null  float64\n",
      " 2   final.output.concentrate_pb                         19439 non-null  float64\n",
      " 3   final.output.concentrate_sol                        19439 non-null  float64\n",
      " 4   final.output.concentrate_au                         19439 non-null  float64\n",
      " 5   final.output.recovery                               19439 non-null  float64\n",
      " 6   final.output.tail_ag                                19439 non-null  float64\n",
      " 7   final.output.tail_pb                                19439 non-null  float64\n",
      " 8   final.output.tail_sol                               19439 non-null  float64\n",
      " 9   final.output.tail_au                                19439 non-null  float64\n",
      " 10  primary_cleaner.input.sulfate                       19439 non-null  float64\n",
      " 11  primary_cleaner.input.depressant                    19439 non-null  float64\n",
      " 12  primary_cleaner.input.feed_size                     19439 non-null  float64\n",
      " 13  primary_cleaner.input.xanthate                      19439 non-null  float64\n",
      " 14  primary_cleaner.output.concentrate_ag               19439 non-null  float64\n",
      " 15  primary_cleaner.output.concentrate_pb               19439 non-null  float64\n",
      " 16  primary_cleaner.output.concentrate_sol              19439 non-null  float64\n",
      " 17  primary_cleaner.output.concentrate_au               19439 non-null  float64\n",
      " 18  primary_cleaner.output.tail_ag                      19439 non-null  float64\n",
      " 19  primary_cleaner.output.tail_pb                      19439 non-null  float64\n",
      " 20  primary_cleaner.output.tail_sol                     19439 non-null  float64\n",
      " 21  primary_cleaner.output.tail_au                      19439 non-null  float64\n",
      " 22  primary_cleaner.state.floatbank8_a_air              19439 non-null  float64\n",
      " 23  primary_cleaner.state.floatbank8_a_level            19439 non-null  float64\n",
      " 24  primary_cleaner.state.floatbank8_b_air              19439 non-null  float64\n",
      " 25  primary_cleaner.state.floatbank8_b_level            19439 non-null  float64\n",
      " 26  primary_cleaner.state.floatbank8_c_air              19439 non-null  float64\n",
      " 27  primary_cleaner.state.floatbank8_c_level            19439 non-null  float64\n",
      " 28  primary_cleaner.state.floatbank8_d_air              19439 non-null  float64\n",
      " 29  primary_cleaner.state.floatbank8_d_level            19439 non-null  float64\n",
      " 30  rougher.calculation.sulfate_to_au_concentrate       19439 non-null  float64\n",
      " 31  rougher.calculation.floatbank10_sulfate_to_au_feed  19439 non-null  float64\n",
      " 32  rougher.calculation.floatbank11_sulfate_to_au_feed  19439 non-null  float64\n",
      " 33  rougher.calculation.au_pb_ratio                     19439 non-null  float64\n",
      " 34  rougher.input.feed_ag                               19439 non-null  float64\n",
      " 35  rougher.input.feed_pb                               19439 non-null  float64\n",
      " 36  rougher.input.feed_rate                             19439 non-null  float64\n",
      " 37  rougher.input.feed_size                             19439 non-null  float64\n",
      " 38  rougher.input.feed_sol                              19439 non-null  float64\n",
      " 39  rougher.input.feed_au                               19439 non-null  float64\n",
      " 40  rougher.input.floatbank10_sulfate                   19439 non-null  float64\n",
      " 41  rougher.input.floatbank10_xanthate                  19439 non-null  float64\n",
      " 42  rougher.input.floatbank11_sulfate                   19439 non-null  float64\n",
      " 43  rougher.input.floatbank11_xanthate                  19439 non-null  float64\n",
      " 44  rougher.output.concentrate_ag                       19439 non-null  float64\n",
      " 45  rougher.output.concentrate_pb                       19439 non-null  float64\n",
      " 46  rougher.output.concentrate_sol                      19439 non-null  float64\n",
      " 47  rougher.output.concentrate_au                       19439 non-null  float64\n",
      " 48  rougher.output.recovery                             19439 non-null  float64\n",
      " 49  rougher.output.tail_ag                              19439 non-null  float64\n",
      " 50  rougher.output.tail_pb                              19439 non-null  float64\n",
      " 51  rougher.output.tail_sol                             19439 non-null  float64\n",
      " 52  rougher.output.tail_au                              19439 non-null  float64\n",
      " 53  rougher.state.floatbank10_a_air                     19439 non-null  float64\n",
      " 54  rougher.state.floatbank10_a_level                   19439 non-null  float64\n",
      " 55  rougher.state.floatbank10_b_air                     19439 non-null  float64\n",
      " 56  rougher.state.floatbank10_b_level                   19439 non-null  float64\n",
      " 57  rougher.state.floatbank10_c_air                     19439 non-null  float64\n",
      " 58  rougher.state.floatbank10_c_level                   19439 non-null  float64\n",
      " 59  rougher.state.floatbank10_d_air                     19439 non-null  float64\n",
      " 60  rougher.state.floatbank10_d_level                   19439 non-null  float64\n",
      " 61  rougher.state.floatbank10_e_air                     19439 non-null  float64\n",
      " 62  rougher.state.floatbank10_e_level                   19439 non-null  float64\n",
      " 63  rougher.state.floatbank10_f_air                     19439 non-null  float64\n",
      " 64  rougher.state.floatbank10_f_level                   19439 non-null  float64\n",
      " 65  secondary_cleaner.output.tail_ag                    19439 non-null  float64\n",
      " 66  secondary_cleaner.output.tail_pb                    19439 non-null  float64\n",
      " 67  secondary_cleaner.output.tail_sol                   19439 non-null  float64\n",
      " 68  secondary_cleaner.output.tail_au                    19439 non-null  float64\n",
      " 69  secondary_cleaner.state.floatbank2_a_air            19439 non-null  float64\n",
      " 70  secondary_cleaner.state.floatbank2_a_level          19439 non-null  float64\n",
      " 71  secondary_cleaner.state.floatbank2_b_air            19439 non-null  float64\n",
      " 72  secondary_cleaner.state.floatbank2_b_level          19439 non-null  float64\n",
      " 73  secondary_cleaner.state.floatbank3_a_air            19439 non-null  float64\n",
      " 74  secondary_cleaner.state.floatbank3_a_level          19439 non-null  float64\n",
      " 75  secondary_cleaner.state.floatbank3_b_air            19439 non-null  float64\n",
      " 76  secondary_cleaner.state.floatbank3_b_level          19439 non-null  float64\n",
      " 77  secondary_cleaner.state.floatbank4_a_air            19439 non-null  float64\n",
      " 78  secondary_cleaner.state.floatbank4_a_level          19439 non-null  float64\n",
      " 79  secondary_cleaner.state.floatbank4_b_air            19439 non-null  float64\n",
      " 80  secondary_cleaner.state.floatbank4_b_level          19439 non-null  float64\n",
      " 81  secondary_cleaner.state.floatbank5_a_air            19439 non-null  float64\n",
      " 82  secondary_cleaner.state.floatbank5_a_level          19439 non-null  float64\n",
      " 83  secondary_cleaner.state.floatbank5_b_air            19439 non-null  float64\n",
      " 84  secondary_cleaner.state.floatbank5_b_level          19439 non-null  float64\n",
      " 85  secondary_cleaner.state.floatbank6_a_air            19439 non-null  float64\n",
      " 86  secondary_cleaner.state.floatbank6_a_level          19439 non-null  float64\n",
      "dtypes: float64(86), object(1)\n",
      "memory usage: 12.9+ MB\n"
     ]
    }
   ],
   "source": [
    "df_full.info()"
   ]
  },
  {
   "cell_type": "markdown",
   "metadata": {},
   "source": [
    "Пропуски устранены. Можем переходить к следующему этапу."
   ]
  },
  {
   "cell_type": "markdown",
   "metadata": {},
   "source": [
    "## Анализ данных"
   ]
  },
  {
   "cell_type": "markdown",
   "metadata": {},
   "source": [
    "### Оценка изменения концентрации металлов (Au, Ag, Pb) на различных этапах очистки"
   ]
  },
  {
   "cell_type": "markdown",
   "metadata": {},
   "source": [
    "Проследим за изменением концентрации Au, Ag и Pb на различных этапах очистки. \n",
    "\n",
    "Создадим функцию, визуализирующую изменение. Так как данных довольно много, они будут накладываться друг на друга. Поэтому поэтому усредним график: примем определенный шаг `step`. В этом интервале значений будем брать только среднее. Далее график строится уже по этим точкам:"
   ]
  },
  {
   "cell_type": "code",
   "execution_count": 23,
   "metadata": {},
   "outputs": [],
   "source": [
    "def concentrate_plot_df_train(column, step = 10, color = 'blue', label = 'No'):\n",
    "    concentrate_plot_list = []\n",
    "    for index in range(0, len(df_train[column]), step):\n",
    "        concentrate_step = df_train[column][index : index + step].mean()\n",
    "        concentrate_plot_list.append(concentrate_step)\n",
    "    return plt.plot(concentrate_plot_list, color = color, label = label)\n"
   ]
  },
  {
   "cell_type": "markdown",
   "metadata": {},
   "source": [
    "Проследим, как будем меняться концентрация Au на различных этапах очистки:"
   ]
  },
  {
   "cell_type": "code",
   "execution_count": 24,
   "metadata": {},
   "outputs": [
    {
     "data": {
      "image/png": "[encoded data removed]",
      "text/plain": [
       "<Figure size 1080x576 with 1 Axes>"
      ]
     },
     "metadata": {
      "needs_background": "light"
     },
     "output_type": "display_data"
    }
   ],
   "source": [
    "plt.figure(figsize = (15, 8))\n",
    "concentrate_plot_df_train('rougher.output.concentrate_au', step = 100, color = 'orange', label = 'Au rougher');\n",
    "concentrate_plot_df_train('primary_cleaner.output.concentrate_au', step = 100, color = 'blue', label = 'Au primary_cleaner');\n",
    "concentrate_plot_df_train('final.output.concentrate_au', step = 100, color = 'green', label = 'Au final');\n",
    "concentrate_plot_df_train('rougher.input.feed_au', step = 100, color = 'yellow', label = 'Pb rougher input');\n",
    "plt.legend(loc = 'upper right');"
   ]
  },
  {
   "cell_type": "markdown",
   "metadata": {},
   "source": [
    "Проследим, как будем меняться концентрация Ag на различных этапах очистки:"
   ]
  },
  {
   "cell_type": "code",
   "execution_count": 25,
   "metadata": {},
   "outputs": [
    {
     "data": {
      "image/png": "[encoded data removed]",
      "text/plain": [
       "<Figure size 1080x576 with 1 Axes>"
      ]
     },
     "metadata": {
      "needs_background": "light"
     },
     "output_type": "display_data"
    }
   ],
   "source": [
    "plt.figure(figsize = (15, 8))\n",
    "concentrate_plot_df_train('rougher.output.concentrate_ag', step = 150, color = 'orange', label = 'Ag rougher');\n",
    "concentrate_plot_df_train('primary_cleaner.output.concentrate_ag', step = 150, color = 'blue', label = 'Ag primary_cleaner');\n",
    "concentrate_plot_df_train('final.output.concentrate_ag', step = 150, color = 'green', label = 'Ag final');\n",
    "concentrate_plot_df_train('rougher.input.feed_ag', step = 150, color = 'yellow', label = 'Pb rougher input');\n",
    "plt.legend(loc = 'upper right');"
   ]
  },
  {
   "cell_type": "markdown",
   "metadata": {},
   "source": [
    "Проследим, как будем меняться концентрация Pb на различных этапах очистки:"
   ]
  },
  {
   "cell_type": "code",
   "execution_count": 26,
   "metadata": {},
   "outputs": [
    {
     "data": {
      "image/png": "[encoded data removed]",
      "text/plain": [
       "<Figure size 1080x576 with 1 Axes>"
      ]
     },
     "metadata": {
      "needs_background": "light"
     },
     "output_type": "display_data"
    }
   ],
   "source": [
    "plt.figure(figsize = (15, 8))\n",
    "concentrate_plot_df_train('rougher.output.concentrate_pb', step = 150, color = 'orange', label = 'Pb rougher output');\n",
    "concentrate_plot_df_train('primary_cleaner.output.concentrate_pb', step = 150, color = 'blue', label = 'Pb primary_cleaner');\n",
    "concentrate_plot_df_train('final.output.concentrate_pb', step = 150, color = 'green', label = 'Pb final');\n",
    "concentrate_plot_df_train('rougher.input.feed_pb', step = 150, color = 'yellow', label = 'Pb rougher input');\n",
    "plt.legend(loc = 'upper right');"
   ]
  },
  {
   "cell_type": "markdown",
   "metadata": {},
   "source": [
    "Из полученных результатов следует, что:\n",
    "1. Концентрация Au значительно повысилась (примерно 7% при начальной концентрации, примерно 20% после флотации, примерно 32% после первичного этапа очистки и примерно 44% после вторичного этапа очистки)\n",
    "2. Концентрация Ag значительно снизилась (примерно 9% при начальной концентрации, примерно 12% после флотации, примерно 8% после первичного этапа очистки и примерно 5% после вторичного этапа очистки)\n",
    "3. Концентрация Pb повысилась не очень значительно (примерно 3.5% при начальной концентрации, примерно 7% после флотации, примерно 9% после первичного этапа очистки и примерно 10% после вторичного этапа очистки)"
   ]
  },
  {
   "cell_type": "markdown",
   "metadata": {},
   "source": [
    "### Сравнение распределения размеров гранул сырья на обучающей и тестовой выборках"
   ]
  },
  {
   "cell_type": "markdown",
   "metadata": {},
   "source": [
    "Определим среднеквадратичную ошибку между гранулами сырья в обучающей и тестовой выборках. Так как значений в обучающей выборке значительно больше, выберем случайным образом 5290 значений из обучающей, и сравним выборки:"
   ]
  },
  {
   "cell_type": "code",
   "execution_count": 27,
   "metadata": {
    "scrolled": true
   },
   "outputs": [
    {
     "name": "stdout",
     "output_type": "stream",
     "text": [
      "Среднеквадратичная ошибка размеров гранул сырья: 0.8532095406015818\n"
     ]
    }
   ],
   "source": [
    "df_train_sample = df_train['primary_cleaner.input.feed_size'].sample(5290, random_state = 12345)\n",
    "rmse_primary = sklm.mean_squared_error(df_train_sample, df_test['primary_cleaner.input.feed_size']) ** 0.5\n",
    "print('Среднеквадратичная ошибка размеров гранул сырья:', rmse_primary)"
   ]
  },
  {
   "cell_type": "markdown",
   "metadata": {},
   "source": [
    "Среднеквадратичная ошибка незначительная, проводить моделирование на данной тестовой выборке можно."
   ]
  },
  {
   "cell_type": "markdown",
   "metadata": {},
   "source": [
    "### Исследование суммарной концентрации всех веществ на разных стадиях: в сырье, в черновом и финальном концентратах"
   ]
  },
  {
   "cell_type": "markdown",
   "metadata": {},
   "source": [
    "Определим суммарную концентрацию веществ на стадии сырья:"
   ]
  },
  {
   "cell_type": "code",
   "execution_count": 28,
   "metadata": {},
   "outputs": [
    {
     "data": {
      "image/png": "[encoded data removed]",
      "text/plain": [
       "<Figure size 432x288 with 1 Axes>"
      ]
     },
     "metadata": {
      "needs_background": "light"
     },
     "output_type": "display_data"
    }
   ],
   "source": [
    "df_full_sum_rougher_input = df_full[['rougher.input.feed_ag', \n",
    "                               'rougher.input.feed_pb', \n",
    "                               'rougher.input.feed_sol', \n",
    "                               'rougher.input.feed_au']].sum(axis = 1)\n",
    "\n",
    "df_full_sum_rougher_input.hist(bins = 100);"
   ]
  },
  {
   "cell_type": "markdown",
   "metadata": {},
   "source": [
    "Определим суммарную концентрацию веществ на стадии чернового концентрата:"
   ]
  },
  {
   "cell_type": "code",
   "execution_count": 29,
   "metadata": {},
   "outputs": [
    {
     "data": {
      "image/png": "[encoded data removed]",
      "text/plain": [
       "<Figure size 432x288 with 1 Axes>"
      ]
     },
     "metadata": {
      "needs_background": "light"
     },
     "output_type": "display_data"
    }
   ],
   "source": [
    "df_full_sum_rougher_output = df_full[['rougher.output.concentrate_ag', \n",
    "                               'rougher.output.concentrate_pb', \n",
    "                               'rougher.output.concentrate_sol', \n",
    "                               'rougher.output.concentrate_au']].sum(axis = 1)\n",
    "\n",
    "df_full_sum_rougher_output.hist(bins = 100);"
   ]
  },
  {
   "cell_type": "markdown",
   "metadata": {},
   "source": [
    "Определим суммарную концентрацию веществ на стадии финального концентрата:"
   ]
  },
  {
   "cell_type": "code",
   "execution_count": 30,
   "metadata": {},
   "outputs": [
    {
     "data": {
      "image/png": "[encoded data removed]",
      "text/plain": [
       "<Figure size 432x288 with 1 Axes>"
      ]
     },
     "metadata": {
      "needs_background": "light"
     },
     "output_type": "display_data"
    }
   ],
   "source": [
    "df_full_sum_final_output = df_full[['final.output.concentrate_ag', \n",
    "                             'final.output.concentrate_pb', \n",
    "                             'final.output.concentrate_sol', \n",
    "                             'final.output.concentrate_au']].sum(axis = 1)\n",
    "\n",
    "df_full_sum_final_output.hist(bins = 100);"
   ]
  },
  {
   "cell_type": "markdown",
   "metadata": {},
   "source": [
    "Из полученных результатов следует, что распределение суммарной концентрации нормальное. Однако возникает аномально большое количество веществ с нулевой концентрацией. Удалим строки с этими значениями, так как в процессе они могут повлиять на обучение модели."
   ]
  },
  {
   "cell_type": "code",
   "execution_count": 31,
   "metadata": {},
   "outputs": [
    {
     "name": "stderr",
     "output_type": "stream",
     "text": [
      "/tmp/ipykernel_432/1507458676.py:3: UserWarning: Boolean Series key will be reindexed to match DataFrame index.\n",
      "  df_full = df_full[df_full_sum_final_output != 0].dropna()\n"
     ]
    }
   ],
   "source": [
    "df_full = df_full[df_full_sum_rougher_input != 0].dropna()\n",
    "df_full = df_full[df_full_sum_rougher_output != 0].dropna()\n",
    "df_full = df_full[df_full_sum_final_output != 0].dropna()\n",
    "df_full = df_full.reset_index(drop = True)"
   ]
  },
  {
   "cell_type": "markdown",
   "metadata": {},
   "source": [
    "Однако такие аномалии могут встречаться и в обучающей выборке. Это также критично, так как обучение модели будет производиться именно на train. Проведем данную операцию и для train:"
   ]
  },
  {
   "cell_type": "code",
   "execution_count": 32,
   "metadata": {},
   "outputs": [
    {
     "name": "stderr",
     "output_type": "stream",
     "text": [
      "/tmp/ipykernel_432/4033204760.py:18: UserWarning: Boolean Series key will be reindexed to match DataFrame index.\n",
      "  df_train = df_train[df_train_sum_final_output != 0].dropna()\n"
     ]
    }
   ],
   "source": [
    "df_train_sum_rougher_input = df_train[['rougher.input.feed_ag', \n",
    "                               'rougher.input.feed_pb', \n",
    "                               'rougher.input.feed_sol', \n",
    "                               'rougher.input.feed_au']].sum(axis = 1)\n",
    "\n",
    "df_train_sum_rougher_output = df_train[['rougher.output.concentrate_ag', \n",
    "                               'rougher.output.concentrate_pb', \n",
    "                               'rougher.output.concentrate_sol', \n",
    "                               'rougher.output.concentrate_au']].sum(axis = 1)\n",
    "\n",
    "df_train_sum_final_output = df_train[['final.output.concentrate_ag', \n",
    "                             'final.output.concentrate_pb', \n",
    "                             'final.output.concentrate_sol', \n",
    "                             'final.output.concentrate_au']].sum(axis = 1)\n",
    "\n",
    "df_train = df_train[df_train_sum_rougher_input != 0].dropna()\n",
    "df_train = df_train[df_train_sum_rougher_output != 0].dropna()\n",
    "df_train = df_train[df_train_sum_final_output != 0].dropna()\n",
    "df_train = df_train.reset_index(drop = True)"
   ]
  },
  {
   "cell_type": "markdown",
   "metadata": {},
   "source": [
    "## Модель"
   ]
  },
  {
   "cell_type": "markdown",
   "metadata": {},
   "source": [
    "### Функция для вычисления метрики sMAPE"
   ]
  },
  {
   "cell_type": "markdown",
   "metadata": {},
   "source": [
    "Создадим функцию для вычисления метрики sMAPE. На вход будут получены 2 значения: целевой признак эффективности обогащения концентрата и  результат предсказаний эффективности обогащения концентрата. На выходе получаем метрику sMAPE:"
   ]
  },
  {
   "cell_type": "code",
   "execution_count": 33,
   "metadata": {},
   "outputs": [],
   "source": [
    "def smape_function(target, pred):\n",
    "    \n",
    "    target = target.tolist()\n",
    "    pred = pred.tolist()\n",
    "    smape_part = []\n",
    "    \n",
    "    for index in range(len(target)):\n",
    "        smape_part.append(abs(target[index] - pred[index]) * 2 / (abs(target[index]) + abs(pred[index])))\n",
    "\n",
    "    return 100 * pd.Series(smape_part).sum() / len(smape_part)"
   ]
  },
  {
   "cell_type": "markdown",
   "metadata": {},
   "source": [
    "Создадим метрику scorer из функции smape_function:"
   ]
  },
  {
   "cell_type": "code",
   "execution_count": 34,
   "metadata": {},
   "outputs": [],
   "source": [
    "scorer = sklm.make_scorer(smape_function)"
   ]
  },
  {
   "cell_type": "markdown",
   "metadata": {},
   "source": [
    "### Обучение моделей и оценка их качества кросс-валидацией"
   ]
  },
  {
   "cell_type": "markdown",
   "metadata": {},
   "source": [
    "Выделим из выгрузки целевые признаки:"
   ]
  },
  {
   "cell_type": "code",
   "execution_count": 35,
   "metadata": {},
   "outputs": [],
   "source": [
    "target_train_rougher = df_train['rougher.output.recovery']\n",
    "target_train_final = df_train['final.output.recovery']"
   ]
  },
  {
   "cell_type": "markdown",
   "metadata": {},
   "source": [
    "Выделим из выгрузки признаки (которые также есть в тестовой выборке). Значения столбца с датой и временем для обучения не требуются:"
   ]
  },
  {
   "cell_type": "code",
   "execution_count": 36,
   "metadata": {},
   "outputs": [],
   "source": [
    "features_train_rougher = df_train.drop(columns_not_in_df_test, axis = 1)\n",
    "features_train_rougher = features_train_rougher.drop(['date'], axis = 1)\n",
    "features_train_final = df_train.drop(columns_not_in_df_test, axis = 1)\n",
    "features_train_final = features_train_final.drop(['date'], axis = 1)"
   ]
  },
  {
   "cell_type": "markdown",
   "metadata": {},
   "source": [
    "Разделим обучающие признаки на обучающую и валидационную выборки:"
   ]
  },
  {
   "cell_type": "code",
   "execution_count": 37,
   "metadata": {},
   "outputs": [],
   "source": [
    "(features_rougher_train, features_rougher_valid, \n",
    " target_rougher_train, target_rougher_valid) = train_test_split(features_train_rougher, target_train_rougher, \n",
    "                                                                test_size = 0.25, random_state = 12345)\n",
    "\n",
    "(features_final_train, features_final_valid, \n",
    " target_final_train, target_final_valid) = train_test_split(features_train_final, target_train_final, \n",
    "                                                                test_size = 0.25, random_state = 12345)"
   ]
  },
  {
   "cell_type": "markdown",
   "metadata": {},
   "source": [
    "#### Модель LR"
   ]
  },
  {
   "cell_type": "markdown",
   "metadata": {},
   "source": [
    "Используем модель LR для чернового концентрата:"
   ]
  },
  {
   "cell_type": "code",
   "execution_count": 38,
   "metadata": {},
   "outputs": [],
   "source": [
    "model_rougher_LR = LinearRegression()\n",
    "model_rougher_LR = model_rougher_LR.fit(features_rougher_train, target_rougher_train)\n",
    "predictions_rougher_LR = model_rougher_LR.predict(features_rougher_valid)"
   ]
  },
  {
   "cell_type": "markdown",
   "metadata": {},
   "source": [
    "Проверим на кросс-валидации модель чернового концентрата:"
   ]
  },
  {
   "cell_type": "code",
   "execution_count": 39,
   "metadata": {},
   "outputs": [
    {
     "data": {
      "text/plain": [
       "4.665154417461985"
      ]
     },
     "execution_count": 39,
     "metadata": {},
     "output_type": "execute_result"
    }
   ],
   "source": [
    "scores_rougher_LR = cross_val_score(model_rougher_LR, features_rougher_train, target_rougher_train, scoring = scorer, cv = 10)\n",
    "scores_rougher_LR = scores_rougher_LR.sum() / len(scores_rougher_LR)\n",
    "scores_rougher_LR"
   ]
  },
  {
   "cell_type": "markdown",
   "metadata": {},
   "source": [
    "Используем модель LR для финального концентрата:"
   ]
  },
  {
   "cell_type": "code",
   "execution_count": 40,
   "metadata": {},
   "outputs": [],
   "source": [
    "model_final_LR = LinearRegression()\n",
    "model_final_LR = model_final_LR.fit(features_final_train, target_final_train)\n",
    "predictions_final_LR = model_final_LR.predict(features_final_valid)"
   ]
  },
  {
   "cell_type": "markdown",
   "metadata": {},
   "source": [
    "Проверим на кросс-валидации модель финального концентрата:"
   ]
  },
  {
   "cell_type": "code",
   "execution_count": 41,
   "metadata": {},
   "outputs": [
    {
     "data": {
      "text/plain": [
       "8.176566292438642"
      ]
     },
     "execution_count": 41,
     "metadata": {},
     "output_type": "execute_result"
    }
   ],
   "source": [
    "scores_final_LR = cross_val_score(model_rougher_LR, features_final_train, target_final_train, scoring = scorer, cv = 10)\n",
    "scores_final_LR = scores_final_LR.sum() / len(scores_final_LR)\n",
    "scores_final_LR"
   ]
  },
  {
   "cell_type": "markdown",
   "metadata": {},
   "source": [
    "Итоговое значение sMAPE:"
   ]
  },
  {
   "cell_type": "code",
   "execution_count": 42,
   "metadata": {},
   "outputs": [
    {
     "name": "stdout",
     "output_type": "stream",
     "text": [
      "sMAPE: 7.298713323694477\n"
     ]
    }
   ],
   "source": [
    "sMAPE_LR = 0.25 * scores_rougher_LR + 0.75 * scores_final_LR\n",
    "print('sMAPE:', sMAPE_LR)"
   ]
  },
  {
   "cell_type": "markdown",
   "metadata": {},
   "source": [
    "#### Модель DR"
   ]
  },
  {
   "cell_type": "markdown",
   "metadata": {},
   "source": [
    "Для оценки качества модели сравним ее с моделью DummyRegressor:"
   ]
  },
  {
   "cell_type": "code",
   "execution_count": 43,
   "metadata": {},
   "outputs": [
    {
     "name": "stdout",
     "output_type": "stream",
     "text": [
      "sMAPE: 7.306596202455767\n"
     ]
    }
   ],
   "source": [
    "model_rougher_DR = DummyRegressor(strategy = 'mean')\n",
    "model_rougher_DR = model_rougher_DR.fit(features_rougher_train, target_rougher_train)\n",
    "predictions_rougher_DR = model_rougher_DR.predict(features_rougher_valid)\n",
    "\n",
    "model_final_DR = DummyRegressor(strategy = 'mean')\n",
    "model_final_DR = model_final_DR.fit(features_final_train, target_final_train)\n",
    "predictions_final_DR = model_final_DR.predict(features_final_valid)\n",
    "\n",
    "scores_rougher_DR = cross_val_score(model_rougher_DR, features_rougher_train, target_rougher_train, \n",
    "                                            scoring = scorer, cv = 10)\n",
    "scores_rougher_DR_mean = scores_rougher_DR.sum() / len(scores_rougher_DR)\n",
    "\n",
    "scores_final_DR = cross_val_score(model_final_DR, features_rougher_train, target_rougher_train, \n",
    "                                            scoring = scorer, cv = 10)\n",
    "scores_final_DR_mean = scores_final_DR.sum() / len(scores_final_DR)\n",
    "\n",
    "sMAPE_DR = 0.25 * scores_rougher_DR_mean + 0.75 * scores_final_DR_mean\n",
    "print('sMAPE:', sMAPE_DR)"
   ]
  },
  {
   "cell_type": "markdown",
   "metadata": {},
   "source": [
    "Качество модели LR (7.2987) лучше, чем DR (7.3066), однако незначительно. Поэтому сделаем проверку на еще одной модели - RF."
   ]
  },
  {
   "cell_type": "markdown",
   "metadata": {},
   "source": [
    "#### Модель RF"
   ]
  },
  {
   "cell_type": "markdown",
   "metadata": {},
   "source": [
    "Используем тот же алгоритм, что и в LR, но уже в модели RF."
   ]
  },
  {
   "cell_type": "markdown",
   "metadata": {},
   "source": [
    "Используем модель RF для чернового и финального концентратов, создадим список, содержащий значения итоговой sMAPE метрики, а также 2 гиперпараметров, при которых достигнуто это значение:"
   ]
  },
  {
   "cell_type": "code",
   "execution_count": 44,
   "metadata": {
    "scrolled": false
   },
   "outputs": [
    {
     "name": "stdout",
     "output_type": "stream",
     "text": [
      "CPU times: user 3min 53s, sys: 443 ms, total: 3min 54s\n",
      "Wall time: 3min 54s\n"
     ]
    }
   ],
   "source": [
    "%%time\n",
    "\n",
    "sMAPE_iter = []\n",
    "\n",
    "for est in range(1, 8):\n",
    "    for depth in range(1, 8):\n",
    "        \n",
    "        model_rougher_RF = RandomForestRegressor(random_state = 12345, max_depth = depth, n_estimators = est)\n",
    "        model_rougher_RF = model_rougher_RF.fit(features_rougher_train, target_rougher_train)\n",
    "        predictions_rougher_RF = model_rougher_RF.predict(features_rougher_valid)\n",
    "        \n",
    "        scores_rougher_RF = cross_val_score(model_rougher_RF, features_rougher_train, target_rougher_train, \n",
    "                                            scoring = scorer, cv = 5)\n",
    "        scores_rougher_RF_mean = scores_rougher_RF.sum() / len(scores_rougher_RF)\n",
    "        \n",
    "        model_final_RF = RandomForestRegressor(random_state = 12345, max_depth = depth, n_estimators = est)\n",
    "        model_final_RF = model_final_RF.fit(features_final_train, target_final_train)\n",
    "        predictions_final_RF = model_final_RF.predict(features_final_valid)\n",
    "        \n",
    "        scores_final_RF = cross_val_score(model_rougher_RF, features_final_train, target_final_train, \n",
    "                                          scoring = scorer, cv = 5)\n",
    "        scores_final_RF_mean = scores_final_RF.sum() / len(scores_final_RF)\n",
    "        \n",
    "        sMAPE_iter.append([0.25 * scores_rougher_RF_mean + 0.75 * scores_final_RF_mean, depth, est])"
   ]
  },
  {
   "cell_type": "markdown",
   "metadata": {},
   "source": [
    "Определим лучшее значение итоговой sMAPE, а также гиперпараметров, при которых достигнуто это значение:"
   ]
  },
  {
   "cell_type": "code",
   "execution_count": 45,
   "metadata": {
    "scrolled": true
   },
   "outputs": [
    {
     "name": "stdout",
     "output_type": "stream",
     "text": [
      "Лучшее значение итоговой sMAPE: 6.39279185917873\n",
      "Значение гиперпараметра depth: 7\n",
      "Значение гиперпараметра n_estimators: 7\n"
     ]
    }
   ],
   "source": [
    "best_sMAPE = 100\n",
    "best_max_depth = 0\n",
    "best_n_estimators = 0\n",
    "\n",
    "for index in range(len(sMAPE_iter)):\n",
    "    if best_sMAPE > sMAPE_iter[index][0]:\n",
    "        best_sMAPE = sMAPE_iter[index][0]\n",
    "        best_max_depth = sMAPE_iter[index][1]\n",
    "        best_n_estimators = sMAPE_iter[index][2]\n",
    "        \n",
    "print('Лучшее значение итоговой sMAPE:', best_sMAPE)\n",
    "print('Значение гиперпараметра depth:', best_max_depth)\n",
    "print('Значение гиперпараметра n_estimators:', best_n_estimators)"
   ]
  },
  {
   "cell_type": "markdown",
   "metadata": {},
   "source": [
    "Таким образом, лучшей моделью примем RF с гиперпараметрами `depth = 7` и `n_estimators = 7`, `sMAPE` модели `6.3945`."
   ]
  },
  {
   "cell_type": "markdown",
   "metadata": {},
   "source": [
    "### Проверка лучшей модели на тестовой выборке"
   ]
  },
  {
   "cell_type": "markdown",
   "metadata": {},
   "source": [
    "Проверим лучшую модель - RF - на тестовой выборке."
   ]
  },
  {
   "cell_type": "markdown",
   "metadata": {},
   "source": [
    "Проведем масштабирование признаков тестовой выборки:"
   ]
  },
  {
   "cell_type": "code",
   "execution_count": 46,
   "metadata": {},
   "outputs": [],
   "source": [
    "features_test_rougher = df_test.drop(['date'], axis = 1)\n",
    "features_test_final = df_test.drop(['date'], axis = 1)"
   ]
  },
  {
   "cell_type": "markdown",
   "metadata": {},
   "source": [
    "Определим целевые признаки из полного датасета:"
   ]
  },
  {
   "cell_type": "code",
   "execution_count": 47,
   "metadata": {},
   "outputs": [],
   "source": [
    "target_test = pd.merge(df_full, df_test['date'], how = 'right')\n",
    "target_test_rougher = target_test['rougher.output.recovery'].reset_index(drop = True)\n",
    "target_test_final = target_test['final.output.recovery'].reset_index(drop = True)"
   ]
  },
  {
   "cell_type": "markdown",
   "metadata": {},
   "source": [
    "Обучим модели RF и создадим предсказания по тестовой выборке:"
   ]
  },
  {
   "cell_type": "code",
   "execution_count": 48,
   "metadata": {},
   "outputs": [],
   "source": [
    "model_rougher_best_RF = RandomForestRegressor(random_state = 12345, max_depth = 4, n_estimators = 30)\n",
    "model_rougher_best_RF = model_rougher_best_RF.fit(pd.DataFrame(features_rougher_train), pd.Series(target_rougher_train))\n",
    "predictions_rougher_best_RF = pd.Series(model_rougher_best_RF.predict(pd.DataFrame(features_test_rougher)))\n",
    "\n",
    "model_final_best_RF = RandomForestRegressor(random_state = 12345, max_depth = 4, n_estimators = 30)\n",
    "model_final_best_RF = model_final_best_RF.fit(pd.DataFrame(features_final_train), pd.Series(target_final_train))\n",
    "predictions_final_best_RF = pd.Series(model_final_best_RF.predict(pd.DataFrame(features_test_final)))"
   ]
  },
  {
   "cell_type": "markdown",
   "metadata": {},
   "source": [
    "Определим smape между целевыми признаками и предсказаниями:"
   ]
  },
  {
   "cell_type": "code",
   "execution_count": 49,
   "metadata": {},
   "outputs": [
    {
     "name": "stdout",
     "output_type": "stream",
     "text": [
      "sMAPE: 7.1152837528209645\n"
     ]
    }
   ],
   "source": [
    "smape_rougher_best = smape_function(target_test_rougher, predictions_rougher_best_RF)\n",
    "smape_final_best = smape_function(target_test_final, predictions_final_best_RF)\n",
    "sMAPE_best = 0.25 * smape_rougher_best + 0.75 * smape_final_best\n",
    "print('sMAPE:', sMAPE_best)"
   ]
  },
  {
   "cell_type": "code",
   "execution_count": 50,
   "metadata": {},
   "outputs": [],
   "source": [
    "model_rougher_dumn = DummyRegressor(strategy = 'mean')\n",
    "model_rougher_dumn = model_rougher_best_RF.fit(pd.DataFrame(features_rougher_train), pd.Series(target_rougher_train))\n",
    "predictions_rougher_dumn = pd.Series(model_rougher_dumn.predict(pd.DataFrame(features_test_rougher)))\n",
    "\n",
    "model_final_dumn = DummyRegressor(strategy = 'mean')\n",
    "model_final_dumn = model_final_dumn.fit(pd.DataFrame(features_final_train), pd.Series(target_final_train))\n",
    "predictions_final_dumn = pd.Series(model_final_dumn.predict(pd.DataFrame(features_test_final)))"
   ]
  },
  {
   "cell_type": "code",
   "execution_count": 51,
   "metadata": {},
   "outputs": [
    {
     "name": "stdout",
     "output_type": "stream",
     "text": [
      "sMAPE: 7.4495720539897645\n"
     ]
    }
   ],
   "source": [
    "smape_rougher_best = smape_function(target_test_rougher, predictions_rougher_dumn)\n",
    "smape_final_best = smape_function(target_test_final, predictions_final_dumn)\n",
    "sMAPE_best = 0.25 * smape_rougher_best + 0.75 * smape_final_best\n",
    "print('sMAPE:', sMAPE_best)"
   ]
  },
  {
   "cell_type": "markdown",
   "metadata": {},
   "source": [
    "## Выводы"
   ]
  },
  {
   "cell_type": "markdown",
   "metadata": {},
   "source": [
    "В ходе выполнения работы были проведены: подготовка данных, их анализ, была создана модель.\n",
    "\n",
    "Во время подготовки данных была произведена проверка верности расчетов на эффективность обогащения. Также проведена проверка на дубликаты, верный тип данных, были устранены пропуски.\n",
    "\n",
    "Во время анализа данных были произведены:\n",
    "1. Оценка изменения концентрации металлов (Au, Ag, Pb) на различных этапах очистки: концентрация Au значительно повысилась (примерно с 7% до 44%), концентрация Ag незначительно снизилась (примерно с 9% до 5%), концентрация Pb повысилась не очень значительно (примерно с 3.5% до 10%).\n",
    "2. Сравнение распределения размеров гранул сырья на обучающей и тестовой выборках: среднеквадратичная ошибка незначительная (0.8532), проводить моделирование на данной тестовой выборке можно.\n",
    "3. Исследование суммарной концентрации всех веществ на разных стадиях (в сырье, в черновом и финальном концентратах): построены гистограммы, были устранены аномальные значения.\n",
    "\n",
    "Во время создания модели были:\n",
    "1. Создана функция для вычисления метрики sMAPE, а также на ее основе метрика scorer.\n",
    "2.  Произведено обучение моделей (LR, DR и RF) и оценка их качества кросс-валидацией: лучшей моделью была получена модель RF с итоговой метрикой sMAPE 6.3945, по сравнению с LR (sMAPE - 7.2987) и DR (sMAPE - 7.3066).\n",
    "3. Проверена лучшая модель (RF) на тестовой выборке: итоговая sMAPE составила 7.1153."
   ]
  }
 ],
 "metadata": {
  "ExecuteTimeLog": [
   {
    "duration": 1524,
    "start_time": "2022-07-06T04:26:57.933Z"
   },
   {
    "duration": 1295,
    "start_time": "2022-07-06T04:29:13.899Z"
   },
   {
    "duration": 319,
    "start_time": "2022-07-06T04:29:19.086Z"
   },
   {
    "duration": 1210,
    "start_time": "2022-07-06T04:30:05.925Z"
   },
   {
    "duration": 37,
    "start_time": "2022-07-06T04:30:14.861Z"
   },
   {
    "duration": 77,
    "start_time": "2022-07-06T04:34:33.027Z"
   },
   {
    "duration": 666,
    "start_time": "2022-07-06T04:35:03.434Z"
   },
   {
    "duration": 22,
    "start_time": "2022-07-06T04:35:36.608Z"
   },
   {
    "duration": 38,
    "start_time": "2022-07-06T04:35:47.040Z"
   },
   {
    "duration": 34,
    "start_time": "2022-07-06T04:35:54.830Z"
   },
   {
    "duration": 1398,
    "start_time": "2022-07-06T04:36:36.126Z"
   },
   {
    "duration": 696,
    "start_time": "2022-07-06T04:36:37.525Z"
   },
   {
    "duration": 47,
    "start_time": "2022-07-06T04:36:38.222Z"
   },
   {
    "duration": 22,
    "start_time": "2022-07-06T04:36:38.278Z"
   },
   {
    "duration": 19,
    "start_time": "2022-07-06T04:36:38.301Z"
   },
   {
    "duration": 4,
    "start_time": "2022-07-06T04:53:27.364Z"
   },
   {
    "duration": 1486,
    "start_time": "2022-07-06T04:53:41.430Z"
   },
   {
    "duration": 889,
    "start_time": "2022-07-06T04:53:42.917Z"
   },
   {
    "duration": 42,
    "start_time": "2022-07-06T04:53:43.808Z"
   },
   {
    "duration": 39,
    "start_time": "2022-07-06T04:53:43.852Z"
   },
   {
    "duration": 27,
    "start_time": "2022-07-06T04:53:43.893Z"
   },
   {
    "duration": 29,
    "start_time": "2022-07-06T04:55:49.960Z"
   },
   {
    "duration": 6,
    "start_time": "2022-07-06T04:56:56.206Z"
   },
   {
    "duration": 4,
    "start_time": "2022-07-06T04:57:23.512Z"
   },
   {
    "duration": 27,
    "start_time": "2022-07-06T04:58:00.068Z"
   },
   {
    "duration": 5,
    "start_time": "2022-07-06T04:58:39.407Z"
   },
   {
    "duration": 18,
    "start_time": "2022-07-06T05:05:42.184Z"
   },
   {
    "duration": 7,
    "start_time": "2022-07-06T05:06:56.075Z"
   },
   {
    "duration": 16,
    "start_time": "2022-07-06T05:07:12.272Z"
   },
   {
    "duration": 8,
    "start_time": "2022-07-06T05:08:00.316Z"
   },
   {
    "duration": 8,
    "start_time": "2022-07-06T05:08:40.404Z"
   },
   {
    "duration": 7,
    "start_time": "2022-07-06T05:08:46.601Z"
   },
   {
    "duration": 6,
    "start_time": "2022-07-06T05:08:50.222Z"
   },
   {
    "duration": 3,
    "start_time": "2022-07-06T05:09:14.101Z"
   },
   {
    "duration": 13,
    "start_time": "2022-07-06T05:09:35.566Z"
   },
   {
    "duration": 149,
    "start_time": "2022-07-06T05:10:14.540Z"
   },
   {
    "duration": 5,
    "start_time": "2022-07-06T05:10:18.316Z"
   },
   {
    "duration": 3,
    "start_time": "2022-07-06T05:22:19.601Z"
   },
   {
    "duration": 3,
    "start_time": "2022-07-06T05:22:28.129Z"
   },
   {
    "duration": 1474,
    "start_time": "2022-07-06T05:26:27.201Z"
   },
   {
    "duration": 753,
    "start_time": "2022-07-06T05:26:28.681Z"
   },
   {
    "duration": 42,
    "start_time": "2022-07-06T05:26:29.436Z"
   },
   {
    "duration": 38,
    "start_time": "2022-07-06T05:26:29.483Z"
   },
   {
    "duration": 41,
    "start_time": "2022-07-06T05:26:29.524Z"
   },
   {
    "duration": 25,
    "start_time": "2022-07-06T05:26:29.567Z"
   },
   {
    "duration": 6,
    "start_time": "2022-07-06T05:26:29.594Z"
   },
   {
    "duration": 4,
    "start_time": "2022-07-06T05:27:00.578Z"
   },
   {
    "duration": 26,
    "start_time": "2022-07-06T07:03:55.315Z"
   },
   {
    "duration": 16,
    "start_time": "2022-07-06T07:04:10.611Z"
   },
   {
    "duration": 4,
    "start_time": "2022-07-06T07:05:09.796Z"
   },
   {
    "duration": 14,
    "start_time": "2022-07-06T07:08:32.219Z"
   },
   {
    "duration": 14,
    "start_time": "2022-07-06T07:14:02.468Z"
   },
   {
    "duration": 9,
    "start_time": "2022-07-06T07:17:33.061Z"
   },
   {
    "duration": 3,
    "start_time": "2022-07-06T07:17:37.094Z"
   },
   {
    "duration": 725,
    "start_time": "2022-07-06T07:17:37.099Z"
   },
   {
    "duration": 28,
    "start_time": "2022-07-06T07:17:37.826Z"
   },
   {
    "duration": 24,
    "start_time": "2022-07-06T07:17:37.856Z"
   },
   {
    "duration": 39,
    "start_time": "2022-07-06T07:17:37.882Z"
   },
   {
    "duration": 8,
    "start_time": "2022-07-06T07:17:37.922Z"
   },
   {
    "duration": 8,
    "start_time": "2022-07-06T07:17:37.931Z"
   },
   {
    "duration": 49,
    "start_time": "2022-07-06T07:17:37.940Z"
   },
   {
    "duration": 19,
    "start_time": "2022-07-06T07:17:37.994Z"
   },
   {
    "duration": 136,
    "start_time": "2022-07-06T07:17:38.014Z"
   },
   {
    "duration": 3,
    "start_time": "2022-07-06T07:18:16.995Z"
   },
   {
    "duration": 19,
    "start_time": "2022-07-06T07:18:22.285Z"
   },
   {
    "duration": 7,
    "start_time": "2022-07-06T07:20:35.073Z"
   },
   {
    "duration": 315,
    "start_time": "2022-07-06T07:20:36.681Z"
   },
   {
    "duration": 6,
    "start_time": "2022-07-06T07:20:59.402Z"
   },
   {
    "duration": 370,
    "start_time": "2022-07-06T07:21:00.816Z"
   },
   {
    "duration": 366,
    "start_time": "2022-07-06T07:22:22.041Z"
   },
   {
    "duration": 318,
    "start_time": "2022-07-06T07:22:32.633Z"
   },
   {
    "duration": 341,
    "start_time": "2022-07-06T07:22:38.824Z"
   },
   {
    "duration": 18,
    "start_time": "2022-07-06T07:23:06.769Z"
   },
   {
    "duration": 7,
    "start_time": "2022-07-06T07:23:16.138Z"
   },
   {
    "duration": 14,
    "start_time": "2022-07-06T07:23:20.982Z"
   },
   {
    "duration": 14,
    "start_time": "2022-07-06T07:24:06.497Z"
   },
   {
    "duration": 6,
    "start_time": "2022-07-06T07:24:11.905Z"
   },
   {
    "duration": 8,
    "start_time": "2022-07-06T07:24:20.469Z"
   },
   {
    "duration": 7,
    "start_time": "2022-07-06T07:24:25.697Z"
   },
   {
    "duration": 4,
    "start_time": "2022-07-06T07:24:30.895Z"
   },
   {
    "duration": 7,
    "start_time": "2022-07-06T07:24:55.771Z"
   },
   {
    "duration": 7,
    "start_time": "2022-07-06T07:25:07.966Z"
   },
   {
    "duration": 16,
    "start_time": "2022-07-06T07:25:10.372Z"
   },
   {
    "duration": 342,
    "start_time": "2022-07-06T07:25:12.562Z"
   },
   {
    "duration": 4,
    "start_time": "2022-07-06T07:25:35.103Z"
   },
   {
    "duration": 5,
    "start_time": "2022-07-06T07:25:37.104Z"
   },
   {
    "duration": 323,
    "start_time": "2022-07-06T07:25:40.640Z"
   },
   {
    "duration": 20,
    "start_time": "2022-07-06T07:26:24.684Z"
   },
   {
    "duration": 11,
    "start_time": "2022-07-06T07:27:19.741Z"
   },
   {
    "duration": 4,
    "start_time": "2022-07-06T07:27:57.093Z"
   },
   {
    "duration": 3,
    "start_time": "2022-07-06T07:28:08.700Z"
   },
   {
    "duration": 6,
    "start_time": "2022-07-06T07:28:11.897Z"
   },
   {
    "duration": 65,
    "start_time": "2022-07-06T07:29:15.674Z"
   },
   {
    "duration": 5,
    "start_time": "2022-07-06T07:29:21.378Z"
   },
   {
    "duration": 3,
    "start_time": "2022-07-06T07:30:37.594Z"
   },
   {
    "duration": 130,
    "start_time": "2022-07-06T07:30:45.793Z"
   },
   {
    "duration": 3,
    "start_time": "2022-07-06T07:31:02.232Z"
   },
   {
    "duration": 136,
    "start_time": "2022-07-06T07:31:05.866Z"
   },
   {
    "duration": 4,
    "start_time": "2022-07-06T07:31:20.632Z"
   },
   {
    "duration": 201,
    "start_time": "2022-07-06T07:31:22.536Z"
   },
   {
    "duration": 4,
    "start_time": "2022-07-06T07:31:50.797Z"
   },
   {
    "duration": 216,
    "start_time": "2022-07-06T07:31:53.024Z"
   },
   {
    "duration": 6,
    "start_time": "2022-07-06T07:32:33.866Z"
   },
   {
    "duration": 262,
    "start_time": "2022-07-06T07:32:35.667Z"
   },
   {
    "duration": 7,
    "start_time": "2022-07-06T07:34:08.884Z"
   },
   {
    "duration": 14,
    "start_time": "2022-07-06T07:34:11.367Z"
   },
   {
    "duration": 3,
    "start_time": "2022-07-06T07:34:24.018Z"
   },
   {
    "duration": 4,
    "start_time": "2022-07-06T07:34:27.616Z"
   },
   {
    "duration": 13,
    "start_time": "2022-07-06T07:34:29.600Z"
   },
   {
    "duration": 1437,
    "start_time": "2022-07-06T07:34:49.586Z"
   },
   {
    "duration": 745,
    "start_time": "2022-07-06T07:34:51.025Z"
   },
   {
    "duration": 29,
    "start_time": "2022-07-06T07:34:51.782Z"
   },
   {
    "duration": 24,
    "start_time": "2022-07-06T07:34:51.813Z"
   },
   {
    "duration": 74,
    "start_time": "2022-07-06T07:34:51.839Z"
   },
   {
    "duration": 13,
    "start_time": "2022-07-06T07:34:51.915Z"
   },
   {
    "duration": 13,
    "start_time": "2022-07-06T07:34:51.930Z"
   },
   {
    "duration": 157,
    "start_time": "2022-07-06T07:34:51.952Z"
   },
   {
    "duration": 0,
    "start_time": "2022-07-06T07:34:52.111Z"
   },
   {
    "duration": 0,
    "start_time": "2022-07-06T07:34:52.112Z"
   },
   {
    "duration": 13,
    "start_time": "2022-07-06T07:35:02.501Z"
   },
   {
    "duration": 12,
    "start_time": "2022-07-06T07:35:02.709Z"
   },
   {
    "duration": 5,
    "start_time": "2022-07-06T07:35:42.510Z"
   },
   {
    "duration": 129,
    "start_time": "2022-07-06T07:35:44.186Z"
   },
   {
    "duration": 150,
    "start_time": "2022-07-06T07:35:50.970Z"
   },
   {
    "duration": 3,
    "start_time": "2022-07-06T07:36:02.105Z"
   },
   {
    "duration": 248,
    "start_time": "2022-07-06T07:36:04.067Z"
   },
   {
    "duration": 7,
    "start_time": "2022-07-06T07:36:52.658Z"
   },
   {
    "duration": 271,
    "start_time": "2022-07-06T07:36:54.406Z"
   },
   {
    "duration": 3,
    "start_time": "2022-07-06T07:37:26.679Z"
   },
   {
    "duration": 205,
    "start_time": "2022-07-06T07:37:28.185Z"
   },
   {
    "duration": 1257,
    "start_time": "2022-07-06T07:37:34.695Z"
   },
   {
    "duration": 655,
    "start_time": "2022-07-06T07:37:35.954Z"
   },
   {
    "duration": 46,
    "start_time": "2022-07-06T07:37:36.611Z"
   },
   {
    "duration": 26,
    "start_time": "2022-07-06T07:37:36.661Z"
   },
   {
    "duration": 22,
    "start_time": "2022-07-06T07:37:36.689Z"
   },
   {
    "duration": 6,
    "start_time": "2022-07-06T07:37:36.712Z"
   },
   {
    "duration": 5,
    "start_time": "2022-07-06T07:37:36.719Z"
   },
   {
    "duration": 8,
    "start_time": "2022-07-06T07:37:36.726Z"
   },
   {
    "duration": 224,
    "start_time": "2022-07-06T07:37:36.735Z"
   },
   {
    "duration": 5,
    "start_time": "2022-07-06T07:37:49.407Z"
   },
   {
    "duration": 147,
    "start_time": "2022-07-06T07:37:51.088Z"
   },
   {
    "duration": 168,
    "start_time": "2022-07-06T07:38:49.799Z"
   },
   {
    "duration": 7,
    "start_time": "2022-07-06T07:38:55.966Z"
   },
   {
    "duration": 242,
    "start_time": "2022-07-06T07:38:57.942Z"
   },
   {
    "duration": 236,
    "start_time": "2022-07-06T07:39:00.022Z"
   },
   {
    "duration": 4,
    "start_time": "2022-07-06T07:39:10.616Z"
   },
   {
    "duration": 227,
    "start_time": "2022-07-06T07:39:12.983Z"
   },
   {
    "duration": 328,
    "start_time": "2022-07-06T07:39:14.499Z"
   },
   {
    "duration": 7,
    "start_time": "2022-07-06T07:40:17.766Z"
   },
   {
    "duration": 255,
    "start_time": "2022-07-06T07:40:20.743Z"
   },
   {
    "duration": 227,
    "start_time": "2022-07-06T07:41:53.208Z"
   },
   {
    "duration": 246,
    "start_time": "2022-07-06T07:42:04.084Z"
   },
   {
    "duration": 5,
    "start_time": "2022-07-06T07:44:25.016Z"
   },
   {
    "duration": 1366,
    "start_time": "2022-07-06T07:51:10.818Z"
   },
   {
    "duration": 770,
    "start_time": "2022-07-06T07:51:12.185Z"
   },
   {
    "duration": 29,
    "start_time": "2022-07-06T07:51:12.962Z"
   },
   {
    "duration": 29,
    "start_time": "2022-07-06T07:51:12.992Z"
   },
   {
    "duration": 31,
    "start_time": "2022-07-06T07:51:13.023Z"
   },
   {
    "duration": 37,
    "start_time": "2022-07-06T07:51:13.062Z"
   },
   {
    "duration": 10,
    "start_time": "2022-07-06T07:51:13.101Z"
   },
   {
    "duration": 18,
    "start_time": "2022-07-06T07:51:13.113Z"
   },
   {
    "duration": 245,
    "start_time": "2022-07-06T07:51:13.133Z"
   },
   {
    "duration": 7,
    "start_time": "2022-07-06T07:51:13.383Z"
   },
   {
    "duration": 92,
    "start_time": "2022-07-06T07:51:50.463Z"
   },
   {
    "duration": 15,
    "start_time": "2022-07-06T07:51:54.457Z"
   },
   {
    "duration": 5,
    "start_time": "2022-07-06T07:52:05.797Z"
   },
   {
    "duration": 128,
    "start_time": "2022-07-06T07:52:12.880Z"
   },
   {
    "duration": 87,
    "start_time": "2022-07-06T07:52:22.518Z"
   },
   {
    "duration": 4,
    "start_time": "2022-07-06T07:52:27.634Z"
   },
   {
    "duration": 18,
    "start_time": "2022-07-06T07:52:45.371Z"
   },
   {
    "duration": 9,
    "start_time": "2022-07-06T07:52:52.695Z"
   },
   {
    "duration": 22,
    "start_time": "2022-07-06T07:53:16.172Z"
   },
   {
    "duration": 19,
    "start_time": "2022-07-06T07:53:21.274Z"
   },
   {
    "duration": 4,
    "start_time": "2022-07-06T07:53:59.737Z"
   },
   {
    "duration": 4,
    "start_time": "2022-07-06T07:54:06.295Z"
   },
   {
    "duration": 2,
    "start_time": "2022-07-06T07:54:42.130Z"
   },
   {
    "duration": 5,
    "start_time": "2022-07-06T07:54:44.713Z"
   },
   {
    "duration": 5,
    "start_time": "2022-07-06T07:54:51.811Z"
   },
   {
    "duration": 4,
    "start_time": "2022-07-06T07:54:57.210Z"
   },
   {
    "duration": 9,
    "start_time": "2022-07-06T07:55:07.582Z"
   },
   {
    "duration": 3,
    "start_time": "2022-07-06T07:57:00.130Z"
   },
   {
    "duration": 5,
    "start_time": "2022-07-06T07:57:06.033Z"
   },
   {
    "duration": 14,
    "start_time": "2022-07-06T07:57:17.014Z"
   },
   {
    "duration": 5,
    "start_time": "2022-07-06T07:57:20.129Z"
   },
   {
    "duration": 18,
    "start_time": "2022-07-06T07:57:22.368Z"
   },
   {
    "duration": 10,
    "start_time": "2022-07-06T07:57:30.988Z"
   },
   {
    "duration": 8,
    "start_time": "2022-07-06T07:57:37.141Z"
   },
   {
    "duration": 7,
    "start_time": "2022-07-06T07:57:43.121Z"
   },
   {
    "duration": 11,
    "start_time": "2022-07-06T07:58:28.288Z"
   },
   {
    "duration": 7,
    "start_time": "2022-07-06T07:59:05.026Z"
   },
   {
    "duration": 10,
    "start_time": "2022-07-06T08:01:24.763Z"
   },
   {
    "duration": 49,
    "start_time": "2022-07-06T08:02:21.064Z"
   },
   {
    "duration": 36,
    "start_time": "2022-07-06T08:02:28.542Z"
   },
   {
    "duration": 20,
    "start_time": "2022-07-06T08:20:32.397Z"
   },
   {
    "duration": 29,
    "start_time": "2022-07-06T08:21:32.967Z"
   },
   {
    "duration": 143,
    "start_time": "2022-07-06T08:21:35.894Z"
   },
   {
    "duration": 179,
    "start_time": "2022-07-06T08:21:42.642Z"
   },
   {
    "duration": 42,
    "start_time": "2022-07-06T08:21:52.240Z"
   },
   {
    "duration": 137,
    "start_time": "2022-07-06T08:21:57.273Z"
   },
   {
    "duration": 36,
    "start_time": "2022-07-06T08:22:22.272Z"
   },
   {
    "duration": 25,
    "start_time": "2022-07-06T08:22:42.670Z"
   },
   {
    "duration": 17,
    "start_time": "2022-07-06T08:22:47.996Z"
   },
   {
    "duration": 15,
    "start_time": "2022-07-06T08:50:01.313Z"
   },
   {
    "duration": 25,
    "start_time": "2022-07-06T08:50:53.418Z"
   },
   {
    "duration": 9,
    "start_time": "2022-07-06T08:50:59.598Z"
   },
   {
    "duration": 7,
    "start_time": "2022-07-06T08:51:19.872Z"
   },
   {
    "duration": 5,
    "start_time": "2022-07-06T08:51:26.898Z"
   },
   {
    "duration": 13,
    "start_time": "2022-07-06T08:52:34.800Z"
   },
   {
    "duration": 18,
    "start_time": "2022-07-06T08:52:43.972Z"
   },
   {
    "duration": 10,
    "start_time": "2022-07-06T08:52:52.019Z"
   },
   {
    "duration": 14,
    "start_time": "2022-07-06T08:53:33.324Z"
   },
   {
    "duration": 1383,
    "start_time": "2022-07-06T08:54:06.331Z"
   },
   {
    "duration": 1138,
    "start_time": "2022-07-06T08:54:26.939Z"
   },
   {
    "duration": 6,
    "start_time": "2022-07-06T08:54:33.482Z"
   },
   {
    "duration": 9,
    "start_time": "2022-07-06T08:54:38.962Z"
   },
   {
    "duration": 5,
    "start_time": "2022-07-06T08:55:27.369Z"
   },
   {
    "duration": 3,
    "start_time": "2022-07-06T08:55:40.291Z"
   },
   {
    "duration": 4,
    "start_time": "2022-07-06T08:55:52.732Z"
   },
   {
    "duration": 19,
    "start_time": "2022-07-06T08:56:11.278Z"
   },
   {
    "duration": 9,
    "start_time": "2022-07-06T08:56:38.117Z"
   },
   {
    "duration": 1060,
    "start_time": "2022-07-06T08:56:56.279Z"
   },
   {
    "duration": 1252,
    "start_time": "2022-07-06T08:57:04.182Z"
   },
   {
    "duration": 1054,
    "start_time": "2022-07-06T08:57:12.377Z"
   },
   {
    "duration": 38,
    "start_time": "2022-07-06T08:57:22.270Z"
   },
   {
    "duration": 11,
    "start_time": "2022-07-06T08:57:27.799Z"
   },
   {
    "duration": 109,
    "start_time": "2022-07-06T08:57:29.456Z"
   },
   {
    "duration": 28,
    "start_time": "2022-07-06T08:58:07.389Z"
   },
   {
    "duration": 28,
    "start_time": "2022-07-06T08:58:20.685Z"
   },
   {
    "duration": 46,
    "start_time": "2022-07-06T08:58:28.141Z"
   },
   {
    "duration": 29,
    "start_time": "2022-07-06T08:58:37.180Z"
   },
   {
    "duration": 27,
    "start_time": "2022-07-06T08:58:40.893Z"
   },
   {
    "duration": 36,
    "start_time": "2022-07-06T08:59:15.968Z"
   },
   {
    "duration": 27,
    "start_time": "2022-07-06T09:00:41.905Z"
   },
   {
    "duration": 40,
    "start_time": "2022-07-06T09:02:23.280Z"
   },
   {
    "duration": 31,
    "start_time": "2022-07-06T09:02:30.373Z"
   },
   {
    "duration": 34,
    "start_time": "2022-07-06T09:02:38.579Z"
   },
   {
    "duration": 11,
    "start_time": "2022-07-06T09:24:07.170Z"
   },
   {
    "duration": 8087,
    "start_time": "2022-07-06T09:24:10.588Z"
   },
   {
    "duration": 150,
    "start_time": "2022-07-06T09:24:37.314Z"
   },
   {
    "duration": 304,
    "start_time": "2022-07-06T09:24:43.511Z"
   },
   {
    "duration": 496,
    "start_time": "2022-07-06T09:24:50.829Z"
   },
   {
    "duration": 210,
    "start_time": "2022-07-06T09:25:26.095Z"
   },
   {
    "duration": 342,
    "start_time": "2022-07-06T09:25:30.124Z"
   },
   {
    "duration": 20,
    "start_time": "2022-07-06T09:26:57.163Z"
   },
   {
    "duration": 19,
    "start_time": "2022-07-06T09:27:10.268Z"
   },
   {
    "duration": 304,
    "start_time": "2022-07-06T09:27:21.784Z"
   },
   {
    "duration": 70,
    "start_time": "2022-07-06T09:28:07.203Z"
   },
   {
    "duration": 12,
    "start_time": "2022-07-06T09:28:24.392Z"
   },
   {
    "duration": 54,
    "start_time": "2022-07-06T09:28:32.017Z"
   },
   {
    "duration": 8,
    "start_time": "2022-07-06T09:28:35.789Z"
   },
   {
    "duration": 21,
    "start_time": "2022-07-06T09:29:47.570Z"
   },
   {
    "duration": 10,
    "start_time": "2022-07-06T09:30:03.231Z"
   },
   {
    "duration": 24,
    "start_time": "2022-07-06T09:30:12.358Z"
   },
   {
    "duration": 53,
    "start_time": "2022-07-06T09:30:22.588Z"
   },
   {
    "duration": 88,
    "start_time": "2022-07-06T09:30:25.386Z"
   },
   {
    "duration": 28,
    "start_time": "2022-07-06T09:30:30.863Z"
   },
   {
    "duration": 27,
    "start_time": "2022-07-06T09:30:43.868Z"
   },
   {
    "duration": 12,
    "start_time": "2022-07-06T09:30:55.780Z"
   },
   {
    "duration": 112,
    "start_time": "2022-07-06T09:31:08.313Z"
   },
   {
    "duration": 12,
    "start_time": "2022-07-06T09:31:12.487Z"
   },
   {
    "duration": 17,
    "start_time": "2022-07-06T09:31:28.701Z"
   },
   {
    "duration": 15,
    "start_time": "2022-07-06T09:32:11.709Z"
   },
   {
    "duration": 1225,
    "start_time": "2022-07-06T09:33:13.565Z"
   },
   {
    "duration": 411,
    "start_time": "2022-07-06T09:33:33.400Z"
   },
   {
    "duration": 304,
    "start_time": "2022-07-06T09:33:38.331Z"
   },
   {
    "duration": 1099,
    "start_time": "2022-07-06T09:33:42.867Z"
   },
   {
    "duration": 1008,
    "start_time": "2022-07-06T09:33:46.306Z"
   },
   {
    "duration": 1427,
    "start_time": "2022-07-06T09:34:56.126Z"
   },
   {
    "duration": 769,
    "start_time": "2022-07-06T09:34:57.558Z"
   },
   {
    "duration": 46,
    "start_time": "2022-07-06T09:34:58.329Z"
   },
   {
    "duration": 27,
    "start_time": "2022-07-06T09:34:58.377Z"
   },
   {
    "duration": 21,
    "start_time": "2022-07-06T09:34:58.405Z"
   },
   {
    "duration": 7,
    "start_time": "2022-07-06T09:34:58.428Z"
   },
   {
    "duration": 5,
    "start_time": "2022-07-06T09:34:58.436Z"
   },
   {
    "duration": 47,
    "start_time": "2022-07-06T09:34:58.453Z"
   },
   {
    "duration": 252,
    "start_time": "2022-07-06T09:34:58.502Z"
   },
   {
    "duration": 16,
    "start_time": "2022-07-06T09:34:58.772Z"
   },
   {
    "duration": 25,
    "start_time": "2022-07-06T09:34:58.791Z"
   },
   {
    "duration": 147,
    "start_time": "2022-07-06T09:34:58.818Z"
   },
   {
    "duration": 29,
    "start_time": "2022-07-06T09:34:58.966Z"
   },
   {
    "duration": 115,
    "start_time": "2022-07-06T09:34:58.996Z"
   },
   {
    "duration": 14,
    "start_time": "2022-07-06T09:34:59.113Z"
   },
   {
    "duration": 33,
    "start_time": "2022-07-06T09:34:59.129Z"
   },
   {
    "duration": 35,
    "start_time": "2022-07-06T09:34:59.165Z"
   },
   {
    "duration": 7,
    "start_time": "2022-07-06T09:34:59.201Z"
   },
   {
    "duration": 14,
    "start_time": "2022-07-06T09:34:59.210Z"
   },
   {
    "duration": 19,
    "start_time": "2022-07-06T09:34:59.226Z"
   },
   {
    "duration": 120,
    "start_time": "2022-07-06T09:39:22.193Z"
   },
   {
    "duration": 32,
    "start_time": "2022-07-06T09:39:25.465Z"
   },
   {
    "duration": 15,
    "start_time": "2022-07-06T09:39:30.399Z"
   },
   {
    "duration": 7,
    "start_time": "2022-07-06T09:40:09.578Z"
   },
   {
    "duration": 169,
    "start_time": "2022-07-06T09:40:14.037Z"
   },
   {
    "duration": 169,
    "start_time": "2022-07-06T09:40:22.898Z"
   },
   {
    "duration": 160,
    "start_time": "2022-07-06T09:41:00.568Z"
   },
   {
    "duration": 164,
    "start_time": "2022-07-06T09:41:03.609Z"
   },
   {
    "duration": 80,
    "start_time": "2022-07-06T09:42:31.167Z"
   },
   {
    "duration": 78,
    "start_time": "2022-07-06T09:42:38.040Z"
   },
   {
    "duration": 229,
    "start_time": "2022-07-06T09:42:45.925Z"
   },
   {
    "duration": 332,
    "start_time": "2022-07-06T09:42:50.831Z"
   },
   {
    "duration": 215,
    "start_time": "2022-07-06T09:42:56.874Z"
   },
   {
    "duration": 217,
    "start_time": "2022-07-06T09:43:01.867Z"
   },
   {
    "duration": 243,
    "start_time": "2022-07-06T09:43:09.680Z"
   },
   {
    "duration": 257,
    "start_time": "2022-07-06T09:43:15.039Z"
   },
   {
    "duration": 222,
    "start_time": "2022-07-06T09:43:24.975Z"
   },
   {
    "duration": 232,
    "start_time": "2022-07-06T09:43:29.071Z"
   },
   {
    "duration": 42,
    "start_time": "2022-07-06T09:43:53.426Z"
   },
   {
    "duration": 100,
    "start_time": "2022-07-06T09:43:56.226Z"
   },
   {
    "duration": 12,
    "start_time": "2022-07-06T09:44:22.393Z"
   },
   {
    "duration": 4,
    "start_time": "2022-07-06T09:44:25.430Z"
   },
   {
    "duration": 84,
    "start_time": "2022-07-06T09:44:38.080Z"
   },
   {
    "duration": 225,
    "start_time": "2022-07-06T09:44:40.941Z"
   },
   {
    "duration": 84,
    "start_time": "2022-07-06T09:44:48.111Z"
   },
   {
    "duration": 89,
    "start_time": "2022-07-06T09:44:51.413Z"
   },
   {
    "duration": 231,
    "start_time": "2022-07-06T09:44:53.367Z"
   },
   {
    "duration": 251,
    "start_time": "2022-07-06T09:45:07.632Z"
   },
   {
    "duration": 224,
    "start_time": "2022-07-06T09:45:13.162Z"
   },
   {
    "duration": 89,
    "start_time": "2022-07-06T09:45:19.267Z"
   },
   {
    "duration": 173,
    "start_time": "2022-07-06T09:45:45.628Z"
   },
   {
    "duration": 179,
    "start_time": "2022-07-06T09:45:49.797Z"
   },
   {
    "duration": 187,
    "start_time": "2022-07-06T09:45:52.627Z"
   },
   {
    "duration": 288,
    "start_time": "2022-07-06T09:45:55.480Z"
   },
   {
    "duration": 211,
    "start_time": "2022-07-06T09:46:05.972Z"
   },
   {
    "duration": 54,
    "start_time": "2022-07-06T09:46:32.577Z"
   },
   {
    "duration": 27,
    "start_time": "2022-07-06T09:46:38.701Z"
   },
   {
    "duration": 970,
    "start_time": "2022-07-06T09:46:49.407Z"
   },
   {
    "duration": 1488,
    "start_time": "2022-07-06T09:47:05.232Z"
   },
   {
    "duration": 5,
    "start_time": "2022-07-06T09:51:22.685Z"
   },
   {
    "duration": 185,
    "start_time": "2022-07-06T09:51:30.797Z"
   },
   {
    "duration": 11,
    "start_time": "2022-07-06T09:51:53.371Z"
   },
   {
    "duration": 157,
    "start_time": "2022-07-06T09:52:02.442Z"
   },
   {
    "duration": 180,
    "start_time": "2022-07-06T09:52:04.771Z"
   },
   {
    "duration": 178,
    "start_time": "2022-07-06T09:52:26.612Z"
   },
   {
    "duration": 1635,
    "start_time": "2022-07-06T09:53:07.774Z"
   },
   {
    "duration": 883,
    "start_time": "2022-07-06T09:53:51.277Z"
   },
   {
    "duration": 1270,
    "start_time": "2022-07-06T09:54:03.869Z"
   },
   {
    "duration": 1054,
    "start_time": "2022-07-06T09:54:43.643Z"
   },
   {
    "duration": 1032,
    "start_time": "2022-07-06T09:54:48.604Z"
   },
   {
    "duration": 1060,
    "start_time": "2022-07-06T09:55:13.276Z"
   },
   {
    "duration": 400,
    "start_time": "2022-07-06T09:55:47.969Z"
   },
   {
    "duration": 1580,
    "start_time": "2022-07-06T09:55:59.437Z"
   },
   {
    "duration": 1596,
    "start_time": "2022-07-06T09:56:08.578Z"
   },
   {
    "duration": 1569,
    "start_time": "2022-07-06T09:56:25.101Z"
   },
   {
    "duration": 1588,
    "start_time": "2022-07-06T09:57:22.242Z"
   },
   {
    "duration": 1739,
    "start_time": "2022-07-06T09:58:11.554Z"
   },
   {
    "duration": 1895,
    "start_time": "2022-07-06T09:58:21.213Z"
   },
   {
    "duration": 183,
    "start_time": "2022-07-06T09:58:57.138Z"
   },
   {
    "duration": 190,
    "start_time": "2022-07-06T09:59:16.588Z"
   },
   {
    "duration": 320,
    "start_time": "2022-07-06T09:59:20.883Z"
   },
   {
    "duration": 326,
    "start_time": "2022-07-06T09:59:42.238Z"
   },
   {
    "duration": 186,
    "start_time": "2022-07-06T09:59:44.318Z"
   },
   {
    "duration": 186,
    "start_time": "2022-07-06T10:00:09.108Z"
   },
   {
    "duration": 8,
    "start_time": "2022-07-06T10:03:16.371Z"
   },
   {
    "duration": 373,
    "start_time": "2022-07-06T10:03:38.957Z"
   },
   {
    "duration": 4,
    "start_time": "2022-07-06T10:03:43.202Z"
   },
   {
    "duration": 400,
    "start_time": "2022-07-06T10:03:44.538Z"
   },
   {
    "duration": 363,
    "start_time": "2022-07-06T10:03:47.443Z"
   },
   {
    "duration": 3,
    "start_time": "2022-07-06T10:03:49.902Z"
   },
   {
    "duration": 328,
    "start_time": "2022-07-06T10:03:51.099Z"
   },
   {
    "duration": 190,
    "start_time": "2022-07-06T10:03:55.171Z"
   },
   {
    "duration": 30,
    "start_time": "2022-07-06T10:14:40.168Z"
   },
   {
    "duration": 10,
    "start_time": "2022-07-06T10:14:57.369Z"
   },
   {
    "duration": 5,
    "start_time": "2022-07-06T10:16:49.387Z"
   },
   {
    "duration": 403,
    "start_time": "2022-07-06T10:16:53.115Z"
   },
   {
    "duration": 172,
    "start_time": "2022-07-06T10:17:01.898Z"
   },
   {
    "duration": 6,
    "start_time": "2022-07-06T10:17:24.567Z"
   },
   {
    "duration": 190,
    "start_time": "2022-07-06T10:17:26.777Z"
   },
   {
    "duration": 100,
    "start_time": "2022-07-06T10:19:52.469Z"
   },
   {
    "duration": 71,
    "start_time": "2022-07-06T10:19:55.867Z"
   },
   {
    "duration": 163,
    "start_time": "2022-07-06T10:20:01.708Z"
   },
   {
    "duration": 6,
    "start_time": "2022-07-06T10:20:23.761Z"
   },
   {
    "duration": 181,
    "start_time": "2022-07-06T10:20:29.640Z"
   },
   {
    "duration": 7,
    "start_time": "2022-07-06T10:20:36.169Z"
   },
   {
    "duration": 154,
    "start_time": "2022-07-06T10:20:38.071Z"
   },
   {
    "duration": 216,
    "start_time": "2022-07-06T10:21:00.296Z"
   },
   {
    "duration": 215,
    "start_time": "2022-07-06T10:21:06.475Z"
   },
   {
    "duration": 256,
    "start_time": "2022-07-06T10:21:09.209Z"
   },
   {
    "duration": 5,
    "start_time": "2022-07-06T10:21:58.265Z"
   },
   {
    "duration": 17,
    "start_time": "2022-07-06T10:22:08.993Z"
   },
   {
    "duration": 244,
    "start_time": "2022-07-06T10:22:15.813Z"
   },
   {
    "duration": 240,
    "start_time": "2022-07-06T10:22:40.398Z"
   },
   {
    "duration": 236,
    "start_time": "2022-07-06T10:22:52.283Z"
   },
   {
    "duration": 239,
    "start_time": "2022-07-06T10:22:57.640Z"
   },
   {
    "duration": 311,
    "start_time": "2022-07-06T10:23:02.680Z"
   },
   {
    "duration": 258,
    "start_time": "2022-07-06T10:23:06.195Z"
   },
   {
    "duration": 309,
    "start_time": "2022-07-06T10:23:08.968Z"
   },
   {
    "duration": 255,
    "start_time": "2022-07-06T10:23:25.367Z"
   },
   {
    "duration": 272,
    "start_time": "2022-07-06T10:23:30.680Z"
   },
   {
    "duration": 10,
    "start_time": "2022-07-06T10:24:34.793Z"
   },
   {
    "duration": 263,
    "start_time": "2022-07-06T10:25:04.004Z"
   },
   {
    "duration": 401,
    "start_time": "2022-07-06T10:28:53.576Z"
   },
   {
    "duration": 363,
    "start_time": "2022-07-06T10:29:10.465Z"
   },
   {
    "duration": 403,
    "start_time": "2022-07-06T10:29:33.565Z"
   },
   {
    "duration": 339,
    "start_time": "2022-07-06T10:29:43.388Z"
   },
   {
    "duration": 312,
    "start_time": "2022-07-06T10:29:57.211Z"
   },
   {
    "duration": 293,
    "start_time": "2022-07-06T10:30:05.690Z"
   },
   {
    "duration": 398,
    "start_time": "2022-07-06T10:33:27.564Z"
   },
   {
    "duration": 329,
    "start_time": "2022-07-06T10:33:31.270Z"
   },
   {
    "duration": 292,
    "start_time": "2022-07-06T10:33:33.144Z"
   },
   {
    "duration": 4,
    "start_time": "2022-07-06T10:34:25.177Z"
   },
   {
    "duration": 7,
    "start_time": "2022-07-06T10:34:28.085Z"
   },
   {
    "duration": 299,
    "start_time": "2022-07-06T10:34:59.681Z"
   },
   {
    "duration": 5,
    "start_time": "2022-07-06T10:35:42.289Z"
   },
   {
    "duration": 4,
    "start_time": "2022-07-06T10:35:45.706Z"
   },
   {
    "duration": 280,
    "start_time": "2022-07-06T10:35:53.376Z"
   },
   {
    "duration": 289,
    "start_time": "2022-07-06T10:36:18.498Z"
   },
   {
    "duration": 293,
    "start_time": "2022-07-06T10:43:12.520Z"
   },
   {
    "duration": 250,
    "start_time": "2022-07-06T10:43:28.267Z"
   },
   {
    "duration": 235,
    "start_time": "2022-07-06T10:44:02.273Z"
   },
   {
    "duration": 241,
    "start_time": "2022-07-06T10:44:09.659Z"
   },
   {
    "duration": 4,
    "start_time": "2022-07-06T10:48:09.211Z"
   },
   {
    "duration": 7,
    "start_time": "2022-07-06T10:48:18.268Z"
   },
   {
    "duration": 15,
    "start_time": "2022-07-06T10:49:04.205Z"
   },
   {
    "duration": 7,
    "start_time": "2022-07-06T10:49:44.856Z"
   },
   {
    "duration": 4,
    "start_time": "2022-07-06T10:49:46.604Z"
   },
   {
    "duration": 8,
    "start_time": "2022-07-06T10:51:21.051Z"
   },
   {
    "duration": 5,
    "start_time": "2022-07-06T10:51:24.219Z"
   },
   {
    "duration": 10,
    "start_time": "2022-07-06T10:51:27.563Z"
   },
   {
    "duration": 4,
    "start_time": "2022-07-06T10:51:29.906Z"
   },
   {
    "duration": 4,
    "start_time": "2022-07-06T10:51:36.507Z"
   },
   {
    "duration": 10,
    "start_time": "2022-07-06T10:56:18.411Z"
   },
   {
    "duration": 9,
    "start_time": "2022-07-06T10:56:25.010Z"
   },
   {
    "duration": 17,
    "start_time": "2022-07-06T10:56:47.875Z"
   },
   {
    "duration": 8,
    "start_time": "2022-07-06T10:57:24.274Z"
   },
   {
    "duration": 5,
    "start_time": "2022-07-06T10:57:32.018Z"
   },
   {
    "duration": 14,
    "start_time": "2022-07-06T10:57:44.480Z"
   },
   {
    "duration": 6,
    "start_time": "2022-07-06T10:57:50.218Z"
   },
   {
    "duration": 4,
    "start_time": "2022-07-06T10:58:27.585Z"
   },
   {
    "duration": 15,
    "start_time": "2022-07-06T10:59:35.785Z"
   },
   {
    "duration": 19,
    "start_time": "2022-07-06T10:59:58.778Z"
   },
   {
    "duration": 22,
    "start_time": "2022-07-06T11:00:38.877Z"
   },
   {
    "duration": 10,
    "start_time": "2022-07-06T11:00:49.284Z"
   },
   {
    "duration": 7,
    "start_time": "2022-07-06T11:02:20.280Z"
   },
   {
    "duration": 6,
    "start_time": "2022-07-06T11:02:34.316Z"
   },
   {
    "duration": 910,
    "start_time": "2022-07-06T11:02:51.888Z"
   },
   {
    "duration": 18,
    "start_time": "2022-07-06T11:03:56.167Z"
   },
   {
    "duration": 8,
    "start_time": "2022-07-06T11:04:04.279Z"
   },
   {
    "duration": 7,
    "start_time": "2022-07-06T11:04:07.096Z"
   },
   {
    "duration": 9,
    "start_time": "2022-07-06T11:06:00.172Z"
   },
   {
    "duration": 10,
    "start_time": "2022-07-06T11:06:09.005Z"
   },
   {
    "duration": 9,
    "start_time": "2022-07-06T11:06:09.792Z"
   },
   {
    "duration": 12,
    "start_time": "2022-07-06T11:06:10.472Z"
   },
   {
    "duration": 15,
    "start_time": "2022-07-06T11:06:11.670Z"
   },
   {
    "duration": 7,
    "start_time": "2022-07-06T11:06:12.402Z"
   },
   {
    "duration": 9,
    "start_time": "2022-07-06T11:06:13.073Z"
   },
   {
    "duration": 10,
    "start_time": "2022-07-06T11:06:13.673Z"
   },
   {
    "duration": 8,
    "start_time": "2022-07-06T11:06:14.178Z"
   },
   {
    "duration": 10,
    "start_time": "2022-07-06T11:06:14.750Z"
   },
   {
    "duration": 8,
    "start_time": "2022-07-06T11:06:15.100Z"
   },
   {
    "duration": 7,
    "start_time": "2022-07-06T11:06:15.831Z"
   },
   {
    "duration": 13,
    "start_time": "2022-07-06T11:06:16.367Z"
   },
   {
    "duration": 13,
    "start_time": "2022-07-06T11:06:17.069Z"
   },
   {
    "duration": 7,
    "start_time": "2022-07-06T11:06:17.401Z"
   },
   {
    "duration": 8,
    "start_time": "2022-07-06T11:06:17.586Z"
   },
   {
    "duration": 7,
    "start_time": "2022-07-06T11:06:17.791Z"
   },
   {
    "duration": 9,
    "start_time": "2022-07-06T11:06:18.096Z"
   },
   {
    "duration": 8,
    "start_time": "2022-07-06T11:06:18.303Z"
   },
   {
    "duration": 12,
    "start_time": "2022-07-06T11:06:18.473Z"
   },
   {
    "duration": 13,
    "start_time": "2022-07-06T11:06:31.855Z"
   },
   {
    "duration": 8,
    "start_time": "2022-07-06T11:06:32.694Z"
   },
   {
    "duration": 8,
    "start_time": "2022-07-06T11:06:33.105Z"
   },
   {
    "duration": 11,
    "start_time": "2022-07-06T11:06:33.461Z"
   },
   {
    "duration": 9,
    "start_time": "2022-07-06T11:06:33.592Z"
   },
   {
    "duration": 11,
    "start_time": "2022-07-06T11:06:33.756Z"
   },
   {
    "duration": 7,
    "start_time": "2022-07-06T11:06:34.078Z"
   },
   {
    "duration": 8,
    "start_time": "2022-07-06T11:06:34.266Z"
   },
   {
    "duration": 9,
    "start_time": "2022-07-06T11:06:34.470Z"
   },
   {
    "duration": 8,
    "start_time": "2022-07-06T11:06:35.273Z"
   },
   {
    "duration": 7,
    "start_time": "2022-07-06T11:06:35.696Z"
   },
   {
    "duration": 7,
    "start_time": "2022-07-06T11:06:36.109Z"
   },
   {
    "duration": 8,
    "start_time": "2022-07-06T11:06:36.504Z"
   },
   {
    "duration": 8,
    "start_time": "2022-07-06T11:06:36.710Z"
   },
   {
    "duration": 8,
    "start_time": "2022-07-06T11:06:36.889Z"
   },
   {
    "duration": 8,
    "start_time": "2022-07-06T11:06:37.074Z"
   },
   {
    "duration": 9,
    "start_time": "2022-07-06T11:06:37.270Z"
   },
   {
    "duration": 10,
    "start_time": "2022-07-06T11:06:37.440Z"
   },
   {
    "duration": 8,
    "start_time": "2022-07-06T11:06:37.603Z"
   },
   {
    "duration": 9,
    "start_time": "2022-07-06T11:06:37.768Z"
   },
   {
    "duration": 12,
    "start_time": "2022-07-06T11:06:37.956Z"
   },
   {
    "duration": 12,
    "start_time": "2022-07-06T11:06:38.360Z"
   },
   {
    "duration": 9,
    "start_time": "2022-07-06T11:06:38.665Z"
   },
   {
    "duration": 8,
    "start_time": "2022-07-06T11:06:39.001Z"
   },
   {
    "duration": 10,
    "start_time": "2022-07-06T11:06:44.668Z"
   },
   {
    "duration": 19,
    "start_time": "2022-07-06T11:06:45.739Z"
   },
   {
    "duration": 8,
    "start_time": "2022-07-06T11:06:45.897Z"
   },
   {
    "duration": 7,
    "start_time": "2022-07-06T11:06:46.069Z"
   },
   {
    "duration": 17,
    "start_time": "2022-07-06T11:06:46.241Z"
   },
   {
    "duration": 9,
    "start_time": "2022-07-06T11:06:46.373Z"
   },
   {
    "duration": 8,
    "start_time": "2022-07-06T11:06:46.502Z"
   },
   {
    "duration": 8,
    "start_time": "2022-07-06T11:06:46.666Z"
   },
   {
    "duration": 10,
    "start_time": "2022-07-06T11:06:46.782Z"
   },
   {
    "duration": 9,
    "start_time": "2022-07-06T11:06:46.908Z"
   },
   {
    "duration": 15,
    "start_time": "2022-07-06T11:06:47.056Z"
   },
   {
    "duration": 6,
    "start_time": "2022-07-06T11:09:37.088Z"
   },
   {
    "duration": 17,
    "start_time": "2022-07-06T11:09:43.973Z"
   },
   {
    "duration": 15,
    "start_time": "2022-07-06T11:24:09.118Z"
   },
   {
    "duration": 7,
    "start_time": "2022-07-06T11:25:32.502Z"
   },
   {
    "duration": 6,
    "start_time": "2022-07-06T11:25:41.398Z"
   },
   {
    "duration": 8,
    "start_time": "2022-07-06T11:26:07.806Z"
   },
   {
    "duration": 16,
    "start_time": "2022-07-06T11:26:17.871Z"
   },
   {
    "duration": 9,
    "start_time": "2022-07-06T11:26:26.005Z"
   },
   {
    "duration": 8,
    "start_time": "2022-07-06T11:26:28.213Z"
   },
   {
    "duration": 8,
    "start_time": "2022-07-06T11:27:13.586Z"
   },
   {
    "duration": 8,
    "start_time": "2022-07-06T11:28:45.902Z"
   },
   {
    "duration": 20,
    "start_time": "2022-07-06T11:30:16.079Z"
   },
   {
    "duration": 13,
    "start_time": "2022-07-06T11:30:29.984Z"
   },
   {
    "duration": 22,
    "start_time": "2022-07-06T11:31:08.561Z"
   },
   {
    "duration": 16,
    "start_time": "2022-07-06T11:32:11.270Z"
   },
   {
    "duration": 17,
    "start_time": "2022-07-06T11:32:15.171Z"
   },
   {
    "duration": 12,
    "start_time": "2022-07-06T11:33:54.167Z"
   },
   {
    "duration": 8,
    "start_time": "2022-07-06T11:33:58.178Z"
   },
   {
    "duration": 6,
    "start_time": "2022-07-06T11:33:59.887Z"
   },
   {
    "duration": 193,
    "start_time": "2022-07-06T11:34:09.710Z"
   },
   {
    "duration": 155,
    "start_time": "2022-07-06T11:34:13.267Z"
   },
   {
    "duration": 349,
    "start_time": "2022-07-06T11:34:23.769Z"
   },
   {
    "duration": 341,
    "start_time": "2022-07-06T11:34:49.600Z"
   },
   {
    "duration": 442,
    "start_time": "2022-07-06T11:35:01.237Z"
   },
   {
    "duration": 373,
    "start_time": "2022-07-06T11:35:11.260Z"
   },
   {
    "duration": 17,
    "start_time": "2022-07-06T11:37:07.912Z"
   },
   {
    "duration": 320,
    "start_time": "2022-07-06T11:37:31.801Z"
   },
   {
    "duration": 339,
    "start_time": "2022-07-06T11:38:23.696Z"
   },
   {
    "duration": 390,
    "start_time": "2022-07-06T11:38:40.213Z"
   },
   {
    "duration": 409,
    "start_time": "2022-07-06T11:38:43.966Z"
   },
   {
    "duration": 332,
    "start_time": "2022-07-06T11:38:47.501Z"
   },
   {
    "duration": 908,
    "start_time": "2022-07-06T11:38:50.811Z"
   },
   {
    "duration": 11,
    "start_time": "2022-07-06T11:41:50.264Z"
   },
   {
    "duration": 18,
    "start_time": "2022-07-06T11:41:53.442Z"
   },
   {
    "duration": 17,
    "start_time": "2022-07-06T11:42:18.398Z"
   },
   {
    "duration": 24,
    "start_time": "2022-07-06T11:42:46.976Z"
   },
   {
    "duration": 23,
    "start_time": "2022-07-06T11:42:58.781Z"
   },
   {
    "duration": 7,
    "start_time": "2022-07-06T11:43:17.732Z"
   },
   {
    "duration": 15,
    "start_time": "2022-07-06T11:43:24.141Z"
   },
   {
    "duration": 10,
    "start_time": "2022-07-06T11:43:30.711Z"
   },
   {
    "duration": 29,
    "start_time": "2022-07-06T11:43:35.653Z"
   },
   {
    "duration": 11,
    "start_time": "2022-07-06T11:43:51.211Z"
   },
   {
    "duration": 14,
    "start_time": "2022-07-06T11:44:00.968Z"
   },
   {
    "duration": 7,
    "start_time": "2022-07-06T11:44:11.206Z"
   },
   {
    "duration": 7,
    "start_time": "2022-07-06T11:46:23.519Z"
   },
   {
    "duration": 46,
    "start_time": "2022-07-06T11:47:16.134Z"
   },
   {
    "duration": 42,
    "start_time": "2022-07-06T11:47:29.892Z"
   },
   {
    "duration": 46,
    "start_time": "2022-07-06T11:47:45.055Z"
   },
   {
    "duration": 21,
    "start_time": "2022-07-06T11:49:17.991Z"
   },
   {
    "duration": 7,
    "start_time": "2022-07-06T11:50:07.432Z"
   },
   {
    "duration": 1398,
    "start_time": "2022-07-06T11:50:14.565Z"
   },
   {
    "duration": 662,
    "start_time": "2022-07-06T11:50:15.966Z"
   },
   {
    "duration": 41,
    "start_time": "2022-07-06T11:50:16.629Z"
   },
   {
    "duration": 19,
    "start_time": "2022-07-06T11:50:16.672Z"
   },
   {
    "duration": 23,
    "start_time": "2022-07-06T11:50:16.693Z"
   },
   {
    "duration": 5,
    "start_time": "2022-07-06T11:50:16.717Z"
   },
   {
    "duration": 30,
    "start_time": "2022-07-06T11:50:16.723Z"
   },
   {
    "duration": 44,
    "start_time": "2022-07-06T11:50:16.755Z"
   },
   {
    "duration": 219,
    "start_time": "2022-07-06T11:50:16.801Z"
   },
   {
    "duration": 5,
    "start_time": "2022-07-06T11:50:17.021Z"
   },
   {
    "duration": 34,
    "start_time": "2022-07-06T11:50:17.028Z"
   },
   {
    "duration": 121,
    "start_time": "2022-07-06T11:50:17.064Z"
   },
   {
    "duration": 23,
    "start_time": "2022-07-06T11:50:17.186Z"
   },
   {
    "duration": 118,
    "start_time": "2022-07-06T11:50:17.211Z"
   },
   {
    "duration": 26,
    "start_time": "2022-07-06T11:50:17.330Z"
   },
   {
    "duration": 13,
    "start_time": "2022-07-06T11:50:17.357Z"
   },
   {
    "duration": 27,
    "start_time": "2022-07-06T11:50:17.372Z"
   },
   {
    "duration": 7,
    "start_time": "2022-07-06T11:50:17.400Z"
   },
   {
    "duration": 14,
    "start_time": "2022-07-06T11:50:17.409Z"
   },
   {
    "duration": 43,
    "start_time": "2022-07-06T11:50:17.424Z"
   },
   {
    "duration": 5,
    "start_time": "2022-07-06T11:50:17.470Z"
   },
   {
    "duration": 265,
    "start_time": "2022-07-06T11:50:17.476Z"
   },
   {
    "duration": 214,
    "start_time": "2022-07-06T11:50:17.745Z"
   },
   {
    "duration": 217,
    "start_time": "2022-07-06T11:50:17.961Z"
   },
   {
    "duration": 6,
    "start_time": "2022-07-06T11:50:18.179Z"
   },
   {
    "duration": 273,
    "start_time": "2022-07-06T11:50:18.186Z"
   },
   {
    "duration": 320,
    "start_time": "2022-07-06T11:50:18.467Z"
   },
   {
    "duration": 264,
    "start_time": "2022-07-06T11:50:18.788Z"
   },
   {
    "duration": 16,
    "start_time": "2022-07-06T11:50:19.061Z"
   },
   {
    "duration": 41,
    "start_time": "2022-07-06T11:50:29.682Z"
   },
   {
    "duration": 9,
    "start_time": "2022-07-06T11:50:51.896Z"
   },
   {
    "duration": 7,
    "start_time": "2022-07-06T11:51:05.729Z"
   },
   {
    "duration": 120,
    "start_time": "2022-07-06T11:51:38.975Z"
   },
   {
    "duration": 50,
    "start_time": "2022-07-06T11:51:53.388Z"
   },
   {
    "duration": 244,
    "start_time": "2022-07-06T11:51:55.687Z"
   },
   {
    "duration": 26,
    "start_time": "2022-07-06T11:52:10.528Z"
   },
   {
    "duration": 4,
    "start_time": "2022-07-06T11:52:38.487Z"
   },
   {
    "duration": 64,
    "start_time": "2022-07-06T11:52:48.027Z"
   },
   {
    "duration": 66,
    "start_time": "2022-07-06T11:53:11.976Z"
   },
   {
    "duration": 70,
    "start_time": "2022-07-06T11:53:19.424Z"
   },
   {
    "duration": 62,
    "start_time": "2022-07-06T11:53:42.532Z"
   },
   {
    "duration": 73,
    "start_time": "2022-07-06T11:53:56.497Z"
   },
   {
    "duration": 97,
    "start_time": "2022-07-06T11:54:30.530Z"
   },
   {
    "duration": 76,
    "start_time": "2022-07-06T11:54:39.157Z"
   },
   {
    "duration": 85,
    "start_time": "2022-07-06T11:54:48.765Z"
   },
   {
    "duration": 63,
    "start_time": "2022-07-06T11:54:58.226Z"
   },
   {
    "duration": 205,
    "start_time": "2022-07-06T11:55:02.866Z"
   },
   {
    "duration": 53,
    "start_time": "2022-07-06T11:55:05.261Z"
   },
   {
    "duration": 81,
    "start_time": "2022-07-06T11:55:07.370Z"
   },
   {
    "duration": 46,
    "start_time": "2022-07-06T11:55:11.931Z"
   },
   {
    "duration": 79,
    "start_time": "2022-07-06T11:55:34.828Z"
   },
   {
    "duration": 6,
    "start_time": "2022-07-06T12:41:45.241Z"
   },
   {
    "duration": 5,
    "start_time": "2022-07-06T12:41:48.329Z"
   },
   {
    "duration": 6,
    "start_time": "2022-07-06T12:42:03.056Z"
   },
   {
    "duration": 4,
    "start_time": "2022-07-06T12:42:16.631Z"
   },
   {
    "duration": 4,
    "start_time": "2022-07-06T12:48:35.322Z"
   },
   {
    "duration": 6,
    "start_time": "2022-07-06T12:55:05.322Z"
   },
   {
    "duration": 16,
    "start_time": "2022-07-06T12:55:06.466Z"
   },
   {
    "duration": 1517,
    "start_time": "2022-07-06T12:55:22.172Z"
   },
   {
    "duration": 800,
    "start_time": "2022-07-06T12:55:23.695Z"
   },
   {
    "duration": 40,
    "start_time": "2022-07-06T12:55:24.498Z"
   },
   {
    "duration": 51,
    "start_time": "2022-07-06T12:55:24.540Z"
   },
   {
    "duration": 59,
    "start_time": "2022-07-06T12:55:24.599Z"
   },
   {
    "duration": 49,
    "start_time": "2022-07-06T12:55:24.670Z"
   },
   {
    "duration": 7,
    "start_time": "2022-07-06T12:55:24.721Z"
   },
   {
    "duration": 58,
    "start_time": "2022-07-06T12:55:24.731Z"
   },
   {
    "duration": 326,
    "start_time": "2022-07-06T12:55:24.791Z"
   },
   {
    "duration": 6,
    "start_time": "2022-07-06T12:55:25.118Z"
   },
   {
    "duration": 32,
    "start_time": "2022-07-06T12:55:25.126Z"
   },
   {
    "duration": 157,
    "start_time": "2022-07-06T12:55:25.162Z"
   },
   {
    "duration": 44,
    "start_time": "2022-07-06T12:55:25.321Z"
   },
   {
    "duration": 142,
    "start_time": "2022-07-06T12:55:25.373Z"
   },
   {
    "duration": 15,
    "start_time": "2022-07-06T12:55:25.517Z"
   },
   {
    "duration": 18,
    "start_time": "2022-07-06T12:55:25.542Z"
   },
   {
    "duration": 63,
    "start_time": "2022-07-06T12:55:25.562Z"
   },
   {
    "duration": 9,
    "start_time": "2022-07-06T12:55:25.627Z"
   },
   {
    "duration": 62,
    "start_time": "2022-07-06T12:55:25.638Z"
   },
   {
    "duration": 14,
    "start_time": "2022-07-06T12:55:25.701Z"
   },
   {
    "duration": 4,
    "start_time": "2022-07-06T12:55:25.718Z"
   },
   {
    "duration": 365,
    "start_time": "2022-07-06T12:55:25.724Z"
   },
   {
    "duration": 244,
    "start_time": "2022-07-06T12:55:26.091Z"
   },
   {
    "duration": 253,
    "start_time": "2022-07-06T12:55:26.342Z"
   },
   {
    "duration": 7,
    "start_time": "2022-07-06T12:55:26.597Z"
   },
   {
    "duration": 325,
    "start_time": "2022-07-06T12:55:26.606Z"
   },
   {
    "duration": 377,
    "start_time": "2022-07-06T12:55:26.932Z"
   },
   {
    "duration": 300,
    "start_time": "2022-07-06T12:55:27.311Z"
   },
   {
    "duration": 77,
    "start_time": "2022-07-06T12:55:27.613Z"
   },
   {
    "duration": 6,
    "start_time": "2022-07-06T12:55:27.692Z"
   },
   {
    "duration": 12,
    "start_time": "2022-07-06T12:55:27.700Z"
   },
   {
    "duration": 8,
    "start_time": "2022-07-06T12:55:27.714Z"
   },
   {
    "duration": 162,
    "start_time": "2022-07-06T12:55:27.724Z"
   },
   {
    "duration": 4,
    "start_time": "2022-07-06T12:55:43.224Z"
   },
   {
    "duration": 32,
    "start_time": "2022-07-06T12:55:44.786Z"
   },
   {
    "duration": 26,
    "start_time": "2022-07-06T12:55:57.362Z"
   },
   {
    "duration": 35,
    "start_time": "2022-07-06T12:56:00.230Z"
   },
   {
    "duration": 25,
    "start_time": "2022-07-06T12:56:03.861Z"
   },
   {
    "duration": 4,
    "start_time": "2022-07-06T13:00:10.428Z"
   },
   {
    "duration": 24,
    "start_time": "2022-07-06T13:00:13.176Z"
   },
   {
    "duration": 40,
    "start_time": "2022-07-06T13:00:28.047Z"
   },
   {
    "duration": 10,
    "start_time": "2022-07-06T13:00:34.371Z"
   },
   {
    "duration": 43,
    "start_time": "2022-07-06T13:00:35.636Z"
   },
   {
    "duration": 1572,
    "start_time": "2022-07-06T13:06:06.884Z"
   },
   {
    "duration": 833,
    "start_time": "2022-07-06T13:06:08.459Z"
   },
   {
    "duration": 25,
    "start_time": "2022-07-06T13:06:09.293Z"
   },
   {
    "duration": 39,
    "start_time": "2022-07-06T13:06:09.320Z"
   },
   {
    "duration": 52,
    "start_time": "2022-07-06T13:06:09.361Z"
   },
   {
    "duration": 22,
    "start_time": "2022-07-06T13:06:09.414Z"
   },
   {
    "duration": 52,
    "start_time": "2022-07-06T13:06:09.438Z"
   },
   {
    "duration": 10,
    "start_time": "2022-07-06T13:06:09.492Z"
   },
   {
    "duration": 283,
    "start_time": "2022-07-06T13:06:09.504Z"
   },
   {
    "duration": 6,
    "start_time": "2022-07-06T13:06:09.790Z"
   },
   {
    "duration": 18,
    "start_time": "2022-07-06T13:06:09.797Z"
   },
   {
    "duration": 169,
    "start_time": "2022-07-06T13:06:09.817Z"
   },
   {
    "duration": 28,
    "start_time": "2022-07-06T13:06:09.988Z"
   },
   {
    "duration": 147,
    "start_time": "2022-07-06T13:06:10.018Z"
   },
   {
    "duration": 20,
    "start_time": "2022-07-06T13:06:10.167Z"
   },
   {
    "duration": 13,
    "start_time": "2022-07-06T13:06:10.189Z"
   },
   {
    "duration": 66,
    "start_time": "2022-07-06T13:06:10.204Z"
   },
   {
    "duration": 11,
    "start_time": "2022-07-06T13:06:10.272Z"
   },
   {
    "duration": 23,
    "start_time": "2022-07-06T13:06:10.285Z"
   },
   {
    "duration": 15,
    "start_time": "2022-07-06T13:06:10.310Z"
   },
   {
    "duration": 34,
    "start_time": "2022-07-06T13:06:10.327Z"
   },
   {
    "duration": 334,
    "start_time": "2022-07-06T13:06:10.363Z"
   },
   {
    "duration": 266,
    "start_time": "2022-07-06T13:06:10.699Z"
   },
   {
    "duration": 245,
    "start_time": "2022-07-06T13:06:10.973Z"
   },
   {
    "duration": 7,
    "start_time": "2022-07-06T13:06:11.220Z"
   },
   {
    "duration": 343,
    "start_time": "2022-07-06T13:06:11.248Z"
   },
   {
    "duration": 386,
    "start_time": "2022-07-06T13:06:11.594Z"
   },
   {
    "duration": 293,
    "start_time": "2022-07-06T13:06:11.985Z"
   },
   {
    "duration": 60,
    "start_time": "2022-07-06T13:06:12.280Z"
   },
   {
    "duration": 10,
    "start_time": "2022-07-06T13:06:12.342Z"
   },
   {
    "duration": 1783,
    "start_time": "2022-07-06T15:49:01.318Z"
   },
   {
    "duration": 1486,
    "start_time": "2022-07-06T15:49:03.103Z"
   },
   {
    "duration": 28,
    "start_time": "2022-07-06T15:49:04.591Z"
   },
   {
    "duration": 24,
    "start_time": "2022-07-06T15:49:04.621Z"
   },
   {
    "duration": 25,
    "start_time": "2022-07-06T15:49:04.646Z"
   },
   {
    "duration": 7,
    "start_time": "2022-07-06T15:49:04.674Z"
   },
   {
    "duration": 6,
    "start_time": "2022-07-06T15:49:04.682Z"
   },
   {
    "duration": 7,
    "start_time": "2022-07-06T15:49:04.689Z"
   },
   {
    "duration": 231,
    "start_time": "2022-07-06T15:49:04.723Z"
   },
   {
    "duration": 5,
    "start_time": "2022-07-06T15:49:04.957Z"
   },
   {
    "duration": 22,
    "start_time": "2022-07-06T15:49:04.964Z"
   },
   {
    "duration": 157,
    "start_time": "2022-07-06T15:49:04.988Z"
   },
   {
    "duration": 26,
    "start_time": "2022-07-06T15:49:05.147Z"
   },
   {
    "duration": 134,
    "start_time": "2022-07-06T15:49:05.174Z"
   },
   {
    "duration": 27,
    "start_time": "2022-07-06T15:49:05.310Z"
   },
   {
    "duration": 14,
    "start_time": "2022-07-06T15:49:05.339Z"
   },
   {
    "duration": 46,
    "start_time": "2022-07-06T15:49:05.355Z"
   },
   {
    "duration": 28,
    "start_time": "2022-07-06T15:49:05.403Z"
   },
   {
    "duration": 22,
    "start_time": "2022-07-06T15:49:05.433Z"
   },
   {
    "duration": 15,
    "start_time": "2022-07-06T15:49:05.458Z"
   },
   {
    "duration": 4,
    "start_time": "2022-07-06T15:49:05.476Z"
   },
   {
    "duration": 371,
    "start_time": "2022-07-06T15:49:05.483Z"
   },
   {
    "duration": 244,
    "start_time": "2022-07-06T15:49:05.856Z"
   },
   {
    "duration": 240,
    "start_time": "2022-07-06T15:49:06.102Z"
   },
   {
    "duration": 8,
    "start_time": "2022-07-06T15:49:06.344Z"
   },
   {
    "duration": 293,
    "start_time": "2022-07-06T15:49:06.353Z"
   },
   {
    "duration": 342,
    "start_time": "2022-07-06T15:49:06.649Z"
   },
   {
    "duration": 283,
    "start_time": "2022-07-06T15:49:06.994Z"
   },
   {
    "duration": 67,
    "start_time": "2022-07-06T15:49:07.278Z"
   },
   {
    "duration": 4,
    "start_time": "2022-07-06T15:49:07.347Z"
   },
   {
    "duration": 40,
    "start_time": "2022-07-06T15:54:45.872Z"
   },
   {
    "duration": 111,
    "start_time": "2022-07-06T15:55:34.167Z"
   },
   {
    "duration": 17,
    "start_time": "2022-07-06T15:55:38.128Z"
   },
   {
    "duration": 13,
    "start_time": "2022-07-06T15:55:54.592Z"
   },
   {
    "duration": 25,
    "start_time": "2022-07-06T15:56:27.912Z"
   },
   {
    "duration": 251,
    "start_time": "2022-07-06T15:58:08.498Z"
   },
   {
    "duration": 280,
    "start_time": "2022-07-06T15:58:12.416Z"
   },
   {
    "duration": 251,
    "start_time": "2022-07-06T15:58:15.564Z"
   },
   {
    "duration": 343,
    "start_time": "2022-07-06T15:58:27.473Z"
   },
   {
    "duration": 255,
    "start_time": "2022-07-06T15:58:37.907Z"
   },
   {
    "duration": 79,
    "start_time": "2022-07-06T16:02:45.782Z"
   },
   {
    "duration": 1559,
    "start_time": "2022-07-06T16:02:52.955Z"
   },
   {
    "duration": 740,
    "start_time": "2022-07-06T16:02:54.517Z"
   },
   {
    "duration": 28,
    "start_time": "2022-07-06T16:02:55.259Z"
   },
   {
    "duration": 39,
    "start_time": "2022-07-06T16:02:55.289Z"
   },
   {
    "duration": 26,
    "start_time": "2022-07-06T16:02:55.330Z"
   },
   {
    "duration": 8,
    "start_time": "2022-07-06T16:02:55.358Z"
   },
   {
    "duration": 7,
    "start_time": "2022-07-06T16:02:55.367Z"
   },
   {
    "duration": 13,
    "start_time": "2022-07-06T16:02:55.376Z"
   },
   {
    "duration": 292,
    "start_time": "2022-07-06T16:02:55.391Z"
   },
   {
    "duration": 5,
    "start_time": "2022-07-06T16:02:55.686Z"
   },
   {
    "duration": 38,
    "start_time": "2022-07-06T16:02:55.693Z"
   },
   {
    "duration": 190,
    "start_time": "2022-07-06T16:02:55.734Z"
   },
   {
    "duration": 26,
    "start_time": "2022-07-06T16:02:55.926Z"
   },
   {
    "duration": 140,
    "start_time": "2022-07-06T16:02:55.954Z"
   },
   {
    "duration": 26,
    "start_time": "2022-07-06T16:02:56.096Z"
   },
   {
    "duration": 13,
    "start_time": "2022-07-06T16:02:56.124Z"
   },
   {
    "duration": 22,
    "start_time": "2022-07-06T16:02:56.139Z"
   },
   {
    "duration": 32,
    "start_time": "2022-07-06T16:02:56.164Z"
   },
   {
    "duration": 38,
    "start_time": "2022-07-06T16:02:56.198Z"
   },
   {
    "duration": 18,
    "start_time": "2022-07-06T16:02:56.238Z"
   },
   {
    "duration": 14,
    "start_time": "2022-07-06T16:02:56.258Z"
   },
   {
    "duration": 53,
    "start_time": "2022-07-06T16:02:56.274Z"
   },
   {
    "duration": 5,
    "start_time": "2022-07-06T16:02:56.329Z"
   },
   {
    "duration": 314,
    "start_time": "2022-07-06T16:02:56.336Z"
   },
   {
    "duration": 242,
    "start_time": "2022-07-06T16:02:56.651Z"
   },
   {
    "duration": 248,
    "start_time": "2022-07-06T16:02:56.895Z"
   },
   {
    "duration": 6,
    "start_time": "2022-07-06T16:02:57.145Z"
   },
   {
    "duration": 264,
    "start_time": "2022-07-06T16:02:57.155Z"
   },
   {
    "duration": 359,
    "start_time": "2022-07-06T16:02:57.422Z"
   },
   {
    "duration": 262,
    "start_time": "2022-07-06T16:02:57.783Z"
   },
   {
    "duration": 123,
    "start_time": "2022-07-06T16:02:58.047Z"
   },
   {
    "duration": 0,
    "start_time": "2022-07-06T16:02:58.172Z"
   },
   {
    "duration": 0,
    "start_time": "2022-07-06T16:02:58.173Z"
   },
   {
    "duration": 6,
    "start_time": "2022-07-06T16:03:43.747Z"
   },
   {
    "duration": 26,
    "start_time": "2022-07-06T16:03:48.384Z"
   },
   {
    "duration": 74,
    "start_time": "2022-07-06T16:04:52.552Z"
   },
   {
    "duration": 15,
    "start_time": "2022-07-06T16:06:33.773Z"
   },
   {
    "duration": 5,
    "start_time": "2022-07-06T16:09:22.741Z"
   },
   {
    "duration": 9,
    "start_time": "2022-07-06T16:09:27.587Z"
   },
   {
    "duration": 34,
    "start_time": "2022-07-06T16:09:45.518Z"
   },
   {
    "duration": 3,
    "start_time": "2022-07-06T16:10:17.590Z"
   },
   {
    "duration": 6,
    "start_time": "2022-07-06T16:19:04.530Z"
   },
   {
    "duration": 32,
    "start_time": "2022-07-06T16:19:26.569Z"
   },
   {
    "duration": 8,
    "start_time": "2022-07-06T16:19:32.455Z"
   },
   {
    "duration": 58,
    "start_time": "2022-07-06T16:19:43.783Z"
   },
   {
    "duration": 41,
    "start_time": "2022-07-06T16:19:48.574Z"
   },
   {
    "duration": 22,
    "start_time": "2022-07-06T16:20:07.896Z"
   },
   {
    "duration": 2114,
    "start_time": "2022-07-06T16:20:22.769Z"
   },
   {
    "duration": 1093,
    "start_time": "2022-07-06T16:20:24.889Z"
   },
   {
    "duration": 51,
    "start_time": "2022-07-06T16:20:25.991Z"
   },
   {
    "duration": 63,
    "start_time": "2022-07-06T16:20:26.051Z"
   },
   {
    "duration": 37,
    "start_time": "2022-07-06T16:20:26.117Z"
   },
   {
    "duration": 40,
    "start_time": "2022-07-06T16:20:26.157Z"
   },
   {
    "duration": 19,
    "start_time": "2022-07-06T16:20:26.199Z"
   },
   {
    "duration": 16,
    "start_time": "2022-07-06T16:20:26.221Z"
   },
   {
    "duration": 401,
    "start_time": "2022-07-06T16:20:26.241Z"
   },
   {
    "duration": 12,
    "start_time": "2022-07-06T16:20:26.651Z"
   },
   {
    "duration": 34,
    "start_time": "2022-07-06T16:20:26.670Z"
   },
   {
    "duration": 223,
    "start_time": "2022-07-06T16:20:26.711Z"
   },
   {
    "duration": 51,
    "start_time": "2022-07-06T16:20:26.941Z"
   },
   {
    "duration": 259,
    "start_time": "2022-07-06T16:20:27.000Z"
   },
   {
    "duration": 29,
    "start_time": "2022-07-06T16:20:27.268Z"
   },
   {
    "duration": 31,
    "start_time": "2022-07-06T16:20:27.300Z"
   },
   {
    "duration": 75,
    "start_time": "2022-07-06T16:20:27.334Z"
   },
   {
    "duration": 71,
    "start_time": "2022-07-06T16:20:27.415Z"
   },
   {
    "duration": 21,
    "start_time": "2022-07-06T16:20:27.488Z"
   },
   {
    "duration": 36,
    "start_time": "2022-07-06T16:20:27.512Z"
   },
   {
    "duration": 21,
    "start_time": "2022-07-06T16:20:27.550Z"
   },
   {
    "duration": 72,
    "start_time": "2022-07-06T16:20:27.573Z"
   },
   {
    "duration": 16,
    "start_time": "2022-07-06T16:20:27.648Z"
   },
   {
    "duration": 456,
    "start_time": "2022-07-06T16:20:27.666Z"
   },
   {
    "duration": 341,
    "start_time": "2022-07-06T16:20:28.130Z"
   },
   {
    "duration": 414,
    "start_time": "2022-07-06T16:20:28.473Z"
   },
   {
    "duration": 8,
    "start_time": "2022-07-06T16:20:28.889Z"
   },
   {
    "duration": 537,
    "start_time": "2022-07-06T16:20:28.903Z"
   },
   {
    "duration": 601,
    "start_time": "2022-07-06T16:20:29.449Z"
   },
   {
    "duration": 496,
    "start_time": "2022-07-06T16:20:30.057Z"
   },
   {
    "duration": 120,
    "start_time": "2022-07-06T16:20:30.556Z"
   },
   {
    "duration": 11,
    "start_time": "2022-07-06T16:20:30.686Z"
   },
   {
    "duration": 53,
    "start_time": "2022-07-06T16:20:30.700Z"
   },
   {
    "duration": 32,
    "start_time": "2022-07-06T16:20:30.757Z"
   },
   {
    "duration": 248,
    "start_time": "2022-07-06T16:20:30.792Z"
   },
   {
    "duration": 0,
    "start_time": "2022-07-06T16:20:31.043Z"
   },
   {
    "duration": 46,
    "start_time": "2022-07-06T16:20:46.739Z"
   },
   {
    "duration": 12,
    "start_time": "2022-07-06T16:21:40.710Z"
   },
   {
    "duration": 61,
    "start_time": "2022-07-06T16:23:07.280Z"
   },
   {
    "duration": 5,
    "start_time": "2022-07-06T16:24:59.036Z"
   },
   {
    "duration": 5,
    "start_time": "2022-07-06T16:25:03.563Z"
   },
   {
    "duration": 16,
    "start_time": "2022-07-06T16:25:43.885Z"
   },
   {
    "duration": 39,
    "start_time": "2022-07-06T16:26:31.132Z"
   },
   {
    "duration": 16,
    "start_time": "2022-07-06T16:28:50.395Z"
   },
   {
    "duration": 53,
    "start_time": "2022-07-06T16:28:55.147Z"
   },
   {
    "duration": 62,
    "start_time": "2022-07-06T16:29:01.132Z"
   },
   {
    "duration": 22,
    "start_time": "2022-07-06T16:29:04.185Z"
   },
   {
    "duration": 20,
    "start_time": "2022-07-06T16:34:10.643Z"
   },
   {
    "duration": 6,
    "start_time": "2022-07-06T16:34:17.159Z"
   },
   {
    "duration": 33,
    "start_time": "2022-07-06T16:34:20.940Z"
   },
   {
    "duration": 56,
    "start_time": "2022-07-06T16:34:44.537Z"
   },
   {
    "duration": 5,
    "start_time": "2022-07-06T16:34:53.741Z"
   },
   {
    "duration": 5,
    "start_time": "2022-07-06T16:36:09.750Z"
   },
   {
    "duration": 5,
    "start_time": "2022-07-06T16:36:29.448Z"
   },
   {
    "duration": 4,
    "start_time": "2022-07-06T16:39:27.131Z"
   },
   {
    "duration": 24,
    "start_time": "2022-07-06T16:39:48.683Z"
   },
   {
    "duration": 27,
    "start_time": "2022-07-06T16:39:52.834Z"
   },
   {
    "duration": 6,
    "start_time": "2022-07-06T16:40:39.432Z"
   },
   {
    "duration": 12,
    "start_time": "2022-07-06T16:41:40.584Z"
   },
   {
    "duration": 5,
    "start_time": "2022-07-06T16:41:46.182Z"
   },
   {
    "duration": 47,
    "start_time": "2022-07-06T16:41:47.151Z"
   },
   {
    "duration": 1467,
    "start_time": "2022-07-06T16:41:53.543Z"
   },
   {
    "duration": 714,
    "start_time": "2022-07-06T16:41:55.013Z"
   },
   {
    "duration": 36,
    "start_time": "2022-07-06T16:41:55.731Z"
   },
   {
    "duration": 60,
    "start_time": "2022-07-06T16:41:55.769Z"
   },
   {
    "duration": 34,
    "start_time": "2022-07-06T16:41:55.831Z"
   },
   {
    "duration": 6,
    "start_time": "2022-07-06T16:41:55.867Z"
   },
   {
    "duration": 6,
    "start_time": "2022-07-06T16:41:55.875Z"
   },
   {
    "duration": 12,
    "start_time": "2022-07-06T16:41:55.883Z"
   },
   {
    "duration": 281,
    "start_time": "2022-07-06T16:41:55.898Z"
   },
   {
    "duration": 6,
    "start_time": "2022-07-06T16:41:56.182Z"
   },
   {
    "duration": 34,
    "start_time": "2022-07-06T16:41:56.190Z"
   },
   {
    "duration": 142,
    "start_time": "2022-07-06T16:41:56.226Z"
   },
   {
    "duration": 31,
    "start_time": "2022-07-06T16:41:56.370Z"
   },
   {
    "duration": 141,
    "start_time": "2022-07-06T16:41:56.404Z"
   },
   {
    "duration": 16,
    "start_time": "2022-07-06T16:41:56.547Z"
   },
   {
    "duration": 13,
    "start_time": "2022-07-06T16:41:56.565Z"
   },
   {
    "duration": 49,
    "start_time": "2022-07-06T16:41:56.579Z"
   },
   {
    "duration": 55,
    "start_time": "2022-07-06T16:41:56.630Z"
   },
   {
    "duration": 43,
    "start_time": "2022-07-06T16:41:56.688Z"
   },
   {
    "duration": 18,
    "start_time": "2022-07-06T16:41:56.734Z"
   },
   {
    "duration": 14,
    "start_time": "2022-07-06T16:41:56.754Z"
   },
   {
    "duration": 21,
    "start_time": "2022-07-06T16:41:56.770Z"
   },
   {
    "duration": 31,
    "start_time": "2022-07-06T16:41:56.793Z"
   },
   {
    "duration": 383,
    "start_time": "2022-07-06T16:41:56.826Z"
   },
   {
    "duration": 245,
    "start_time": "2022-07-06T16:41:57.211Z"
   },
   {
    "duration": 242,
    "start_time": "2022-07-06T16:41:57.458Z"
   },
   {
    "duration": 6,
    "start_time": "2022-07-06T16:41:57.702Z"
   },
   {
    "duration": 300,
    "start_time": "2022-07-06T16:41:57.711Z"
   },
   {
    "duration": 360,
    "start_time": "2022-07-06T16:41:58.013Z"
   },
   {
    "duration": 274,
    "start_time": "2022-07-06T16:41:58.375Z"
   },
   {
    "duration": 94,
    "start_time": "2022-07-06T16:41:58.651Z"
   },
   {
    "duration": 5,
    "start_time": "2022-07-06T16:41:58.747Z"
   },
   {
    "duration": 7,
    "start_time": "2022-07-06T16:41:58.754Z"
   },
   {
    "duration": 18,
    "start_time": "2022-07-06T16:41:58.764Z"
   },
   {
    "duration": 13,
    "start_time": "2022-07-06T16:41:58.784Z"
   },
   {
    "duration": 24,
    "start_time": "2022-07-06T16:41:58.801Z"
   },
   {
    "duration": 62,
    "start_time": "2022-07-06T16:41:58.826Z"
   },
   {
    "duration": 6,
    "start_time": "2022-07-06T16:42:04.449Z"
   },
   {
    "duration": 5,
    "start_time": "2022-07-06T16:42:10.426Z"
   },
   {
    "duration": 5,
    "start_time": "2022-07-06T16:42:15.719Z"
   },
   {
    "duration": 6,
    "start_time": "2022-07-06T16:42:19.310Z"
   },
   {
    "duration": 125,
    "start_time": "2022-07-06T16:45:13.124Z"
   },
   {
    "duration": 3,
    "start_time": "2022-07-06T16:45:15.260Z"
   },
   {
    "duration": 45,
    "start_time": "2022-07-06T16:45:16.376Z"
   },
   {
    "duration": 1547,
    "start_time": "2022-07-06T16:45:56.181Z"
   },
   {
    "duration": 719,
    "start_time": "2022-07-06T16:45:57.730Z"
   },
   {
    "duration": 39,
    "start_time": "2022-07-06T16:45:58.451Z"
   },
   {
    "duration": 43,
    "start_time": "2022-07-06T16:45:58.494Z"
   },
   {
    "duration": 36,
    "start_time": "2022-07-06T16:45:58.540Z"
   },
   {
    "duration": 16,
    "start_time": "2022-07-06T16:45:58.578Z"
   },
   {
    "duration": 27,
    "start_time": "2022-07-06T16:45:58.597Z"
   },
   {
    "duration": 11,
    "start_time": "2022-07-06T16:45:58.626Z"
   },
   {
    "duration": 339,
    "start_time": "2022-07-06T16:45:58.639Z"
   },
   {
    "duration": 10,
    "start_time": "2022-07-06T16:45:58.983Z"
   },
   {
    "duration": 49,
    "start_time": "2022-07-06T16:45:58.995Z"
   },
   {
    "duration": 208,
    "start_time": "2022-07-06T16:45:59.047Z"
   },
   {
    "duration": 40,
    "start_time": "2022-07-06T16:45:59.259Z"
   },
   {
    "duration": 152,
    "start_time": "2022-07-06T16:45:59.302Z"
   },
   {
    "duration": 18,
    "start_time": "2022-07-06T16:45:59.456Z"
   },
   {
    "duration": 16,
    "start_time": "2022-07-06T16:45:59.476Z"
   },
   {
    "duration": 56,
    "start_time": "2022-07-06T16:45:59.495Z"
   },
   {
    "duration": 81,
    "start_time": "2022-07-06T16:45:59.554Z"
   },
   {
    "duration": 22,
    "start_time": "2022-07-06T16:45:59.637Z"
   },
   {
    "duration": 28,
    "start_time": "2022-07-06T16:45:59.661Z"
   },
   {
    "duration": 44,
    "start_time": "2022-07-06T16:45:59.692Z"
   },
   {
    "duration": 26,
    "start_time": "2022-07-06T16:45:59.739Z"
   },
   {
    "duration": 14,
    "start_time": "2022-07-06T16:45:59.767Z"
   },
   {
    "duration": 455,
    "start_time": "2022-07-06T16:45:59.787Z"
   },
   {
    "duration": 273,
    "start_time": "2022-07-06T16:46:00.245Z"
   },
   {
    "duration": 259,
    "start_time": "2022-07-06T16:46:00.520Z"
   },
   {
    "duration": 7,
    "start_time": "2022-07-06T16:46:00.781Z"
   },
   {
    "duration": 371,
    "start_time": "2022-07-06T16:46:00.791Z"
   },
   {
    "duration": 428,
    "start_time": "2022-07-06T16:46:01.165Z"
   },
   {
    "duration": 428,
    "start_time": "2022-07-06T16:46:01.595Z"
   },
   {
    "duration": 78,
    "start_time": "2022-07-06T16:46:02.026Z"
   },
   {
    "duration": 22,
    "start_time": "2022-07-06T16:46:02.107Z"
   },
   {
    "duration": 38,
    "start_time": "2022-07-06T16:46:02.132Z"
   },
   {
    "duration": 21,
    "start_time": "2022-07-06T16:46:02.173Z"
   },
   {
    "duration": 31,
    "start_time": "2022-07-06T16:46:02.196Z"
   },
   {
    "duration": 15,
    "start_time": "2022-07-06T16:46:02.230Z"
   },
   {
    "duration": 229,
    "start_time": "2022-07-06T16:46:02.247Z"
   },
   {
    "duration": 11,
    "start_time": "2022-07-06T16:47:46.176Z"
   },
   {
    "duration": 4,
    "start_time": "2022-07-06T16:47:47.668Z"
   },
   {
    "duration": 57,
    "start_time": "2022-07-06T16:47:48.742Z"
   },
   {
    "duration": 5,
    "start_time": "2022-07-06T16:48:19.441Z"
   },
   {
    "duration": 4,
    "start_time": "2022-07-06T16:49:16.767Z"
   },
   {
    "duration": 29,
    "start_time": "2022-07-06T16:49:43.517Z"
   },
   {
    "duration": 1557,
    "start_time": "2022-07-06T16:49:50.542Z"
   },
   {
    "duration": 680,
    "start_time": "2022-07-06T16:49:52.101Z"
   },
   {
    "duration": 43,
    "start_time": "2022-07-06T16:49:52.782Z"
   },
   {
    "duration": 28,
    "start_time": "2022-07-06T16:49:52.828Z"
   },
   {
    "duration": 37,
    "start_time": "2022-07-06T16:49:52.858Z"
   },
   {
    "duration": 31,
    "start_time": "2022-07-06T16:49:52.897Z"
   },
   {
    "duration": 13,
    "start_time": "2022-07-06T16:49:52.930Z"
   },
   {
    "duration": 14,
    "start_time": "2022-07-06T16:49:52.946Z"
   },
   {
    "duration": 296,
    "start_time": "2022-07-06T16:49:52.963Z"
   },
   {
    "duration": 7,
    "start_time": "2022-07-06T16:49:53.262Z"
   },
   {
    "duration": 22,
    "start_time": "2022-07-06T16:49:53.271Z"
   },
   {
    "duration": 181,
    "start_time": "2022-07-06T16:49:53.296Z"
   },
   {
    "duration": 27,
    "start_time": "2022-07-06T16:49:53.479Z"
   },
   {
    "duration": 133,
    "start_time": "2022-07-06T16:49:53.509Z"
   },
   {
    "duration": 17,
    "start_time": "2022-07-06T16:49:53.644Z"
   },
   {
    "duration": 14,
    "start_time": "2022-07-06T16:49:53.663Z"
   },
   {
    "duration": 47,
    "start_time": "2022-07-06T16:49:53.679Z"
   },
   {
    "duration": 33,
    "start_time": "2022-07-06T16:49:53.728Z"
   },
   {
    "duration": 14,
    "start_time": "2022-07-06T16:49:53.763Z"
   },
   {
    "duration": 49,
    "start_time": "2022-07-06T16:49:53.778Z"
   },
   {
    "duration": 26,
    "start_time": "2022-07-06T16:49:53.830Z"
   },
   {
    "duration": 26,
    "start_time": "2022-07-06T16:49:53.859Z"
   },
   {
    "duration": 5,
    "start_time": "2022-07-06T16:49:53.887Z"
   },
   {
    "duration": 352,
    "start_time": "2022-07-06T16:49:53.894Z"
   },
   {
    "duration": 242,
    "start_time": "2022-07-06T16:49:54.248Z"
   },
   {
    "duration": 253,
    "start_time": "2022-07-06T16:49:54.491Z"
   },
   {
    "duration": 8,
    "start_time": "2022-07-06T16:49:54.746Z"
   },
   {
    "duration": 302,
    "start_time": "2022-07-06T16:49:54.761Z"
   },
   {
    "duration": 380,
    "start_time": "2022-07-06T16:49:55.065Z"
   },
   {
    "duration": 278,
    "start_time": "2022-07-06T16:49:55.448Z"
   },
   {
    "duration": 68,
    "start_time": "2022-07-06T16:49:55.728Z"
   },
   {
    "duration": 4,
    "start_time": "2022-07-06T16:49:55.798Z"
   },
   {
    "duration": 21,
    "start_time": "2022-07-06T16:49:55.804Z"
   },
   {
    "duration": 18,
    "start_time": "2022-07-06T16:49:55.827Z"
   },
   {
    "duration": 8,
    "start_time": "2022-07-06T16:49:55.847Z"
   },
   {
    "duration": 5,
    "start_time": "2022-07-06T16:49:55.857Z"
   },
   {
    "duration": 73,
    "start_time": "2022-07-06T16:49:55.864Z"
   },
   {
    "duration": 3,
    "start_time": "2022-07-06T16:49:55.939Z"
   },
   {
    "duration": 1503,
    "start_time": "2022-07-06T19:14:23.515Z"
   },
   {
    "duration": 1627,
    "start_time": "2022-07-06T19:14:25.020Z"
   },
   {
    "duration": 23,
    "start_time": "2022-07-06T19:14:26.649Z"
   },
   {
    "duration": 27,
    "start_time": "2022-07-06T19:14:26.674Z"
   },
   {
    "duration": 33,
    "start_time": "2022-07-06T19:14:26.703Z"
   },
   {
    "duration": 24,
    "start_time": "2022-07-06T19:14:26.737Z"
   },
   {
    "duration": 19,
    "start_time": "2022-07-06T19:14:26.762Z"
   },
   {
    "duration": 19,
    "start_time": "2022-07-06T19:14:26.783Z"
   },
   {
    "duration": 205,
    "start_time": "2022-07-06T19:14:26.804Z"
   },
   {
    "duration": 5,
    "start_time": "2022-07-06T19:14:27.011Z"
   },
   {
    "duration": 21,
    "start_time": "2022-07-06T19:14:27.018Z"
   },
   {
    "duration": 136,
    "start_time": "2022-07-06T19:14:27.040Z"
   },
   {
    "duration": 24,
    "start_time": "2022-07-06T19:14:27.177Z"
   },
   {
    "duration": 122,
    "start_time": "2022-07-06T19:14:27.203Z"
   },
   {
    "duration": 14,
    "start_time": "2022-07-06T19:14:27.326Z"
   },
   {
    "duration": 27,
    "start_time": "2022-07-06T19:14:27.342Z"
   },
   {
    "duration": 14,
    "start_time": "2022-07-06T19:14:27.371Z"
   },
   {
    "duration": 28,
    "start_time": "2022-07-06T19:14:27.387Z"
   },
   {
    "duration": 12,
    "start_time": "2022-07-06T19:14:27.416Z"
   },
   {
    "duration": 16,
    "start_time": "2022-07-06T19:14:27.460Z"
   },
   {
    "duration": 12,
    "start_time": "2022-07-06T19:14:27.477Z"
   },
   {
    "duration": 15,
    "start_time": "2022-07-06T19:14:27.491Z"
   },
   {
    "duration": 3,
    "start_time": "2022-07-06T19:14:27.508Z"
   },
   {
    "duration": 279,
    "start_time": "2022-07-06T19:14:27.513Z"
   },
   {
    "duration": 195,
    "start_time": "2022-07-06T19:14:27.794Z"
   },
   {
    "duration": 215,
    "start_time": "2022-07-06T19:14:27.990Z"
   },
   {
    "duration": 5,
    "start_time": "2022-07-06T19:14:28.207Z"
   },
   {
    "duration": 233,
    "start_time": "2022-07-06T19:14:28.216Z"
   },
   {
    "duration": 331,
    "start_time": "2022-07-06T19:14:28.451Z"
   },
   {
    "duration": 235,
    "start_time": "2022-07-06T19:14:28.784Z"
   },
   {
    "duration": 82,
    "start_time": "2022-07-06T19:14:29.020Z"
   },
   {
    "duration": 5,
    "start_time": "2022-07-06T19:14:29.104Z"
   },
   {
    "duration": 11,
    "start_time": "2022-07-06T19:14:29.110Z"
   },
   {
    "duration": 17,
    "start_time": "2022-07-06T19:14:29.124Z"
   },
   {
    "duration": 24,
    "start_time": "2022-07-06T19:14:29.144Z"
   },
   {
    "duration": 10,
    "start_time": "2022-07-06T19:14:29.170Z"
   },
   {
    "duration": 61,
    "start_time": "2022-07-06T19:14:29.183Z"
   },
   {
    "duration": 3,
    "start_time": "2022-07-06T19:14:29.246Z"
   },
   {
    "duration": 146,
    "start_time": "2022-07-06T19:14:29.251Z"
   },
   {
    "duration": 1409,
    "start_time": "2022-07-06T19:27:39.729Z"
   },
   {
    "duration": 648,
    "start_time": "2022-07-06T19:27:41.140Z"
   },
   {
    "duration": 36,
    "start_time": "2022-07-06T19:27:41.790Z"
   },
   {
    "duration": 41,
    "start_time": "2022-07-06T19:27:41.828Z"
   },
   {
    "duration": 31,
    "start_time": "2022-07-06T19:27:41.872Z"
   },
   {
    "duration": 8,
    "start_time": "2022-07-06T19:27:41.905Z"
   },
   {
    "duration": 5,
    "start_time": "2022-07-06T19:27:41.915Z"
   },
   {
    "duration": 39,
    "start_time": "2022-07-06T19:27:41.923Z"
   },
   {
    "duration": 253,
    "start_time": "2022-07-06T19:27:41.964Z"
   },
   {
    "duration": 6,
    "start_time": "2022-07-06T19:27:42.219Z"
   },
   {
    "duration": 34,
    "start_time": "2022-07-06T19:27:42.227Z"
   },
   {
    "duration": 128,
    "start_time": "2022-07-06T19:27:42.263Z"
   },
   {
    "duration": 25,
    "start_time": "2022-07-06T19:27:42.393Z"
   },
   {
    "duration": 115,
    "start_time": "2022-07-06T19:27:42.422Z"
   },
   {
    "duration": 32,
    "start_time": "2022-07-06T19:27:42.540Z"
   },
   {
    "duration": 18,
    "start_time": "2022-07-06T19:27:42.574Z"
   },
   {
    "duration": 22,
    "start_time": "2022-07-06T19:27:42.595Z"
   },
   {
    "duration": 77,
    "start_time": "2022-07-06T19:27:42.619Z"
   },
   {
    "duration": 15,
    "start_time": "2022-07-06T19:27:42.698Z"
   },
   {
    "duration": 23,
    "start_time": "2022-07-06T19:27:42.715Z"
   },
   {
    "duration": 38,
    "start_time": "2022-07-06T19:27:42.740Z"
   },
   {
    "duration": 19,
    "start_time": "2022-07-06T19:27:42.779Z"
   },
   {
    "duration": 4,
    "start_time": "2022-07-06T19:27:42.800Z"
   },
   {
    "duration": 298,
    "start_time": "2022-07-06T19:27:42.806Z"
   },
   {
    "duration": 231,
    "start_time": "2022-07-06T19:27:43.107Z"
   },
   {
    "duration": 258,
    "start_time": "2022-07-06T19:27:43.340Z"
   },
   {
    "duration": 9,
    "start_time": "2022-07-06T19:27:43.600Z"
   },
   {
    "duration": 255,
    "start_time": "2022-07-06T19:27:43.613Z"
   },
   {
    "duration": 394,
    "start_time": "2022-07-06T19:27:43.871Z"
   },
   {
    "duration": 269,
    "start_time": "2022-07-06T19:27:44.267Z"
   },
   {
    "duration": 81,
    "start_time": "2022-07-06T19:27:44.538Z"
   },
   {
    "duration": 5,
    "start_time": "2022-07-06T19:27:44.621Z"
   },
   {
    "duration": 11,
    "start_time": "2022-07-06T19:27:44.628Z"
   },
   {
    "duration": 30,
    "start_time": "2022-07-06T19:27:44.641Z"
   },
   {
    "duration": 7,
    "start_time": "2022-07-06T19:27:44.673Z"
   },
   {
    "duration": 27,
    "start_time": "2022-07-06T19:27:44.682Z"
   },
   {
    "duration": 54,
    "start_time": "2022-07-06T19:27:44.711Z"
   },
   {
    "duration": 5,
    "start_time": "2022-07-06T19:27:44.767Z"
   },
   {
    "duration": 119,
    "start_time": "2022-07-06T19:27:44.774Z"
   },
   {
    "duration": 11,
    "start_time": "2022-07-06T19:33:39.168Z"
   },
   {
    "duration": 43,
    "start_time": "2022-07-06T19:34:07.893Z"
   },
   {
    "duration": 15,
    "start_time": "2022-07-06T19:34:15.320Z"
   },
   {
    "duration": 5,
    "start_time": "2022-07-06T19:34:29.766Z"
   },
   {
    "duration": 5,
    "start_time": "2022-07-06T19:34:33.901Z"
   },
   {
    "duration": 5,
    "start_time": "2022-07-06T19:34:48.042Z"
   },
   {
    "duration": 4,
    "start_time": "2022-07-06T19:34:51.294Z"
   },
   {
    "duration": 20,
    "start_time": "2022-07-06T19:35:40.024Z"
   },
   {
    "duration": 1358,
    "start_time": "2022-07-06T19:41:15.905Z"
   },
   {
    "duration": 646,
    "start_time": "2022-07-06T19:41:17.265Z"
   },
   {
    "duration": 25,
    "start_time": "2022-07-06T19:41:17.913Z"
   },
   {
    "duration": 30,
    "start_time": "2022-07-06T19:41:17.940Z"
   },
   {
    "duration": 21,
    "start_time": "2022-07-06T19:41:17.971Z"
   },
   {
    "duration": 5,
    "start_time": "2022-07-06T19:41:17.994Z"
   },
   {
    "duration": 8,
    "start_time": "2022-07-06T19:41:18.001Z"
   },
   {
    "duration": 10,
    "start_time": "2022-07-06T19:41:18.010Z"
   },
   {
    "duration": 227,
    "start_time": "2022-07-06T19:41:18.021Z"
   },
   {
    "duration": 5,
    "start_time": "2022-07-06T19:41:18.250Z"
   },
   {
    "duration": 17,
    "start_time": "2022-07-06T19:41:18.261Z"
   },
   {
    "duration": 141,
    "start_time": "2022-07-06T19:41:18.280Z"
   },
   {
    "duration": 25,
    "start_time": "2022-07-06T19:41:18.423Z"
   },
   {
    "duration": 118,
    "start_time": "2022-07-06T19:41:18.449Z"
   },
   {
    "duration": 14,
    "start_time": "2022-07-06T19:41:18.569Z"
   },
   {
    "duration": 10,
    "start_time": "2022-07-06T19:41:18.585Z"
   },
   {
    "duration": 15,
    "start_time": "2022-07-06T19:41:18.597Z"
   },
   {
    "duration": 57,
    "start_time": "2022-07-06T19:41:18.613Z"
   },
   {
    "duration": 14,
    "start_time": "2022-07-06T19:41:18.673Z"
   },
   {
    "duration": 23,
    "start_time": "2022-07-06T19:41:18.689Z"
   },
   {
    "duration": 18,
    "start_time": "2022-07-06T19:41:18.715Z"
   },
   {
    "duration": 29,
    "start_time": "2022-07-06T19:41:18.761Z"
   },
   {
    "duration": 3,
    "start_time": "2022-07-06T19:41:18.792Z"
   },
   {
    "duration": 279,
    "start_time": "2022-07-06T19:41:18.797Z"
   },
   {
    "duration": 202,
    "start_time": "2022-07-06T19:41:19.078Z"
   },
   {
    "duration": 209,
    "start_time": "2022-07-06T19:41:19.281Z"
   },
   {
    "duration": 6,
    "start_time": "2022-07-06T19:41:19.492Z"
   },
   {
    "duration": 245,
    "start_time": "2022-07-06T19:41:19.501Z"
   },
   {
    "duration": 324,
    "start_time": "2022-07-06T19:41:19.747Z"
   },
   {
    "duration": 239,
    "start_time": "2022-07-06T19:41:20.072Z"
   },
   {
    "duration": 73,
    "start_time": "2022-07-06T19:41:20.312Z"
   },
   {
    "duration": 3,
    "start_time": "2022-07-06T19:41:20.387Z"
   },
   {
    "duration": 9,
    "start_time": "2022-07-06T19:41:20.392Z"
   },
   {
    "duration": 17,
    "start_time": "2022-07-06T19:41:20.403Z"
   },
   {
    "duration": 21,
    "start_time": "2022-07-06T19:41:20.422Z"
   },
   {
    "duration": 19,
    "start_time": "2022-07-06T19:41:20.444Z"
   },
   {
    "duration": 6,
    "start_time": "2022-07-06T19:41:20.464Z"
   },
   {
    "duration": 48,
    "start_time": "2022-07-06T19:41:20.472Z"
   },
   {
    "duration": 4,
    "start_time": "2022-07-06T19:41:20.522Z"
   },
   {
    "duration": 114,
    "start_time": "2022-07-06T19:41:20.527Z"
   },
   {
    "duration": 9,
    "start_time": "2022-07-06T19:47:19.512Z"
   },
   {
    "duration": 8,
    "start_time": "2022-07-06T19:48:14.825Z"
   },
   {
    "duration": 1398,
    "start_time": "2022-07-06T19:48:53.942Z"
   },
   {
    "duration": 641,
    "start_time": "2022-07-06T19:48:55.343Z"
   },
   {
    "duration": 27,
    "start_time": "2022-07-06T19:48:55.986Z"
   },
   {
    "duration": 20,
    "start_time": "2022-07-06T19:48:56.014Z"
   },
   {
    "duration": 36,
    "start_time": "2022-07-06T19:48:56.036Z"
   },
   {
    "duration": 6,
    "start_time": "2022-07-06T19:48:56.073Z"
   },
   {
    "duration": 7,
    "start_time": "2022-07-06T19:48:56.081Z"
   },
   {
    "duration": 7,
    "start_time": "2022-07-06T19:48:56.090Z"
   },
   {
    "duration": 251,
    "start_time": "2022-07-06T19:48:56.099Z"
   },
   {
    "duration": 9,
    "start_time": "2022-07-06T19:48:56.352Z"
   },
   {
    "duration": 18,
    "start_time": "2022-07-06T19:48:56.363Z"
   },
   {
    "duration": 159,
    "start_time": "2022-07-06T19:48:56.383Z"
   },
   {
    "duration": 33,
    "start_time": "2022-07-06T19:48:56.544Z"
   },
   {
    "duration": 115,
    "start_time": "2022-07-06T19:48:56.580Z"
   },
   {
    "duration": 16,
    "start_time": "2022-07-06T19:48:56.697Z"
   },
   {
    "duration": 13,
    "start_time": "2022-07-06T19:48:56.715Z"
   },
   {
    "duration": 38,
    "start_time": "2022-07-06T19:48:56.729Z"
   },
   {
    "duration": 35,
    "start_time": "2022-07-06T19:48:56.769Z"
   },
   {
    "duration": 12,
    "start_time": "2022-07-06T19:48:56.805Z"
   },
   {
    "duration": 42,
    "start_time": "2022-07-06T19:48:56.819Z"
   },
   {
    "duration": 15,
    "start_time": "2022-07-06T19:48:56.863Z"
   },
   {
    "duration": 17,
    "start_time": "2022-07-06T19:48:56.880Z"
   },
   {
    "duration": 4,
    "start_time": "2022-07-06T19:48:56.899Z"
   },
   {
    "duration": 284,
    "start_time": "2022-07-06T19:48:56.904Z"
   },
   {
    "duration": 202,
    "start_time": "2022-07-06T19:48:57.189Z"
   },
   {
    "duration": 205,
    "start_time": "2022-07-06T19:48:57.393Z"
   },
   {
    "duration": 6,
    "start_time": "2022-07-06T19:48:57.600Z"
   },
   {
    "duration": 227,
    "start_time": "2022-07-06T19:48:57.608Z"
   },
   {
    "duration": 324,
    "start_time": "2022-07-06T19:48:57.837Z"
   },
   {
    "duration": 231,
    "start_time": "2022-07-06T19:48:58.163Z"
   },
   {
    "duration": 70,
    "start_time": "2022-07-06T19:48:58.396Z"
   },
   {
    "duration": 4,
    "start_time": "2022-07-06T19:48:58.467Z"
   },
   {
    "duration": 9,
    "start_time": "2022-07-06T19:48:58.473Z"
   },
   {
    "duration": 17,
    "start_time": "2022-07-06T19:48:58.483Z"
   },
   {
    "duration": 20,
    "start_time": "2022-07-06T19:48:58.502Z"
   },
   {
    "duration": 7,
    "start_time": "2022-07-06T19:48:58.524Z"
   },
   {
    "duration": 4,
    "start_time": "2022-07-06T19:48:58.533Z"
   },
   {
    "duration": 57,
    "start_time": "2022-07-06T19:48:58.538Z"
   },
   {
    "duration": 4,
    "start_time": "2022-07-06T19:48:58.596Z"
   },
   {
    "duration": 122,
    "start_time": "2022-07-06T19:48:58.601Z"
   },
   {
    "duration": 5,
    "start_time": "2022-07-06T19:49:12.187Z"
   },
   {
    "duration": 625,
    "start_time": "2022-07-06T19:56:35.237Z"
   },
   {
    "duration": 7993,
    "start_time": "2022-07-06T20:00:17.086Z"
   },
   {
    "duration": 0,
    "start_time": "2022-07-06T20:00:50.900Z"
   },
   {
    "duration": 8018,
    "start_time": "2022-07-06T20:00:53.331Z"
   },
   {
    "duration": 7831,
    "start_time": "2022-07-06T20:01:42.370Z"
   },
   {
    "duration": 7474,
    "start_time": "2022-07-06T20:01:52.948Z"
   },
   {
    "duration": 5,
    "start_time": "2022-07-06T20:02:09.313Z"
   },
   {
    "duration": 5,
    "start_time": "2022-07-06T20:02:22.849Z"
   },
   {
    "duration": 5,
    "start_time": "2022-07-06T20:02:26.874Z"
   },
   {
    "duration": 213,
    "start_time": "2022-07-06T20:02:42.153Z"
   },
   {
    "duration": 6,
    "start_time": "2022-07-06T20:02:52.356Z"
   },
   {
    "duration": 127,
    "start_time": "2022-07-06T20:03:14.915Z"
   },
   {
    "duration": 6,
    "start_time": "2022-07-06T20:03:41.151Z"
   },
   {
    "duration": 6,
    "start_time": "2022-07-06T20:03:46.862Z"
   },
   {
    "duration": 4,
    "start_time": "2022-07-06T20:04:15.674Z"
   },
   {
    "duration": 6,
    "start_time": "2022-07-06T20:04:18.909Z"
   },
   {
    "duration": 7,
    "start_time": "2022-07-06T20:04:30.407Z"
   },
   {
    "duration": 1395,
    "start_time": "2022-07-06T20:07:02.254Z"
   },
   {
    "duration": 725,
    "start_time": "2022-07-06T20:07:03.651Z"
   },
   {
    "duration": 26,
    "start_time": "2022-07-06T20:07:04.378Z"
   },
   {
    "duration": 20,
    "start_time": "2022-07-06T20:07:04.406Z"
   },
   {
    "duration": 24,
    "start_time": "2022-07-06T20:07:04.428Z"
   },
   {
    "duration": 14,
    "start_time": "2022-07-06T20:07:04.461Z"
   },
   {
    "duration": 9,
    "start_time": "2022-07-06T20:07:04.476Z"
   },
   {
    "duration": 8,
    "start_time": "2022-07-06T20:07:04.486Z"
   },
   {
    "duration": 235,
    "start_time": "2022-07-06T20:07:04.495Z"
   },
   {
    "duration": 5,
    "start_time": "2022-07-06T20:07:04.732Z"
   },
   {
    "duration": 38,
    "start_time": "2022-07-06T20:07:04.739Z"
   },
   {
    "duration": 146,
    "start_time": "2022-07-06T20:07:04.779Z"
   },
   {
    "duration": 52,
    "start_time": "2022-07-06T20:07:04.927Z"
   },
   {
    "duration": 110,
    "start_time": "2022-07-06T20:07:04.982Z"
   },
   {
    "duration": 14,
    "start_time": "2022-07-06T20:07:05.094Z"
   },
   {
    "duration": 10,
    "start_time": "2022-07-06T20:07:05.110Z"
   },
   {
    "duration": 15,
    "start_time": "2022-07-06T20:07:05.122Z"
   },
   {
    "duration": 52,
    "start_time": "2022-07-06T20:07:05.161Z"
   },
   {
    "duration": 13,
    "start_time": "2022-07-06T20:07:05.214Z"
   },
   {
    "duration": 27,
    "start_time": "2022-07-06T20:07:05.228Z"
   },
   {
    "duration": 25,
    "start_time": "2022-07-06T20:07:05.260Z"
   },
   {
    "duration": 29,
    "start_time": "2022-07-06T20:07:05.287Z"
   },
   {
    "duration": 4,
    "start_time": "2022-07-06T20:07:05.318Z"
   },
   {
    "duration": 304,
    "start_time": "2022-07-06T20:07:05.324Z"
   },
   {
    "duration": 238,
    "start_time": "2022-07-06T20:07:05.630Z"
   },
   {
    "duration": 220,
    "start_time": "2022-07-06T20:07:05.870Z"
   },
   {
    "duration": 7,
    "start_time": "2022-07-06T20:07:06.092Z"
   },
   {
    "duration": 301,
    "start_time": "2022-07-06T20:07:06.100Z"
   },
   {
    "duration": 450,
    "start_time": "2022-07-06T20:07:06.404Z"
   },
   {
    "duration": 249,
    "start_time": "2022-07-06T20:07:06.856Z"
   },
   {
    "duration": 77,
    "start_time": "2022-07-06T20:07:07.107Z"
   },
   {
    "duration": 4,
    "start_time": "2022-07-06T20:07:07.186Z"
   },
   {
    "duration": 6,
    "start_time": "2022-07-06T20:07:07.191Z"
   },
   {
    "duration": 20,
    "start_time": "2022-07-06T20:07:07.199Z"
   },
   {
    "duration": 30,
    "start_time": "2022-07-06T20:07:07.222Z"
   },
   {
    "duration": 15,
    "start_time": "2022-07-06T20:07:07.254Z"
   },
   {
    "duration": 19,
    "start_time": "2022-07-06T20:07:07.270Z"
   },
   {
    "duration": 47,
    "start_time": "2022-07-06T20:07:07.291Z"
   },
   {
    "duration": 3,
    "start_time": "2022-07-06T20:07:07.340Z"
   },
   {
    "duration": 839,
    "start_time": "2022-07-06T20:07:07.345Z"
   },
   {
    "duration": 8131,
    "start_time": "2022-07-06T20:07:08.189Z"
   },
   {
    "duration": 7,
    "start_time": "2022-07-06T20:07:16.322Z"
   },
   {
    "duration": 5,
    "start_time": "2022-07-06T20:07:25.074Z"
   },
   {
    "duration": 4,
    "start_time": "2022-07-06T20:08:12.095Z"
   },
   {
    "duration": 104,
    "start_time": "2022-07-06T20:30:24.060Z"
   },
   {
    "duration": 3,
    "start_time": "2022-07-06T20:30:32.190Z"
   },
   {
    "duration": 685,
    "start_time": "2022-07-06T20:30:32.195Z"
   },
   {
    "duration": 20,
    "start_time": "2022-07-06T20:30:32.881Z"
   },
   {
    "duration": 21,
    "start_time": "2022-07-06T20:30:32.903Z"
   },
   {
    "duration": 39,
    "start_time": "2022-07-06T20:30:32.926Z"
   },
   {
    "duration": 6,
    "start_time": "2022-07-06T20:30:32.967Z"
   },
   {
    "duration": 6,
    "start_time": "2022-07-06T20:30:32.974Z"
   },
   {
    "duration": 12,
    "start_time": "2022-07-06T20:30:32.982Z"
   },
   {
    "duration": 218,
    "start_time": "2022-07-06T20:30:32.997Z"
   },
   {
    "duration": 5,
    "start_time": "2022-07-06T20:30:33.217Z"
   },
   {
    "duration": 20,
    "start_time": "2022-07-06T20:30:33.224Z"
   },
   {
    "duration": 131,
    "start_time": "2022-07-06T20:30:33.245Z"
   },
   {
    "duration": 23,
    "start_time": "2022-07-06T20:30:33.378Z"
   },
   {
    "duration": 105,
    "start_time": "2022-07-06T20:30:33.403Z"
   },
   {
    "duration": 14,
    "start_time": "2022-07-06T20:30:33.510Z"
   },
   {
    "duration": 13,
    "start_time": "2022-07-06T20:30:33.526Z"
   },
   {
    "duration": 32,
    "start_time": "2022-07-06T20:30:33.540Z"
   },
   {
    "duration": 29,
    "start_time": "2022-07-06T20:30:33.573Z"
   },
   {
    "duration": 13,
    "start_time": "2022-07-06T20:30:33.604Z"
   },
   {
    "duration": 46,
    "start_time": "2022-07-06T20:30:33.619Z"
   },
   {
    "duration": 13,
    "start_time": "2022-07-06T20:30:33.667Z"
   },
   {
    "duration": 16,
    "start_time": "2022-07-06T20:30:33.682Z"
   },
   {
    "duration": 3,
    "start_time": "2022-07-06T20:30:33.700Z"
   },
   {
    "duration": 266,
    "start_time": "2022-07-06T20:30:33.706Z"
   },
   {
    "duration": 249,
    "start_time": "2022-07-06T20:30:33.973Z"
   },
   {
    "duration": 257,
    "start_time": "2022-07-06T20:30:34.224Z"
   },
   {
    "duration": 7,
    "start_time": "2022-07-06T20:30:34.483Z"
   },
   {
    "duration": 281,
    "start_time": "2022-07-06T20:30:34.492Z"
   },
   {
    "duration": 345,
    "start_time": "2022-07-06T20:30:34.775Z"
   },
   {
    "duration": 257,
    "start_time": "2022-07-06T20:30:35.122Z"
   },
   {
    "duration": 58,
    "start_time": "2022-07-06T20:30:35.380Z"
   },
   {
    "duration": 3,
    "start_time": "2022-07-06T20:30:35.440Z"
   },
   {
    "duration": 21,
    "start_time": "2022-07-06T20:30:35.444Z"
   },
   {
    "duration": 17,
    "start_time": "2022-07-06T20:30:35.466Z"
   },
   {
    "duration": 29,
    "start_time": "2022-07-06T20:30:35.484Z"
   },
   {
    "duration": 5,
    "start_time": "2022-07-06T20:30:35.515Z"
   },
   {
    "duration": 8,
    "start_time": "2022-07-06T20:30:35.522Z"
   },
   {
    "duration": 60,
    "start_time": "2022-07-06T20:30:35.532Z"
   },
   {
    "duration": 4,
    "start_time": "2022-07-06T20:30:35.593Z"
   },
   {
    "duration": 672,
    "start_time": "2022-07-06T20:30:35.599Z"
   },
   {
    "duration": 7536,
    "start_time": "2022-07-06T20:30:36.362Z"
   },
   {
    "duration": 4,
    "start_time": "2022-07-06T20:30:43.900Z"
   },
   {
    "duration": 5,
    "start_time": "2022-07-06T20:30:58.222Z"
   },
   {
    "duration": 4,
    "start_time": "2022-07-06T20:48:11.180Z"
   },
   {
    "duration": 1446,
    "start_time": "2022-07-06T20:48:18.619Z"
   },
   {
    "duration": 705,
    "start_time": "2022-07-06T20:48:20.067Z"
   },
   {
    "duration": 38,
    "start_time": "2022-07-06T20:48:20.774Z"
   },
   {
    "duration": 27,
    "start_time": "2022-07-06T20:48:20.815Z"
   },
   {
    "duration": 56,
    "start_time": "2022-07-06T20:48:20.844Z"
   },
   {
    "duration": 16,
    "start_time": "2022-07-06T20:48:20.903Z"
   },
   {
    "duration": 11,
    "start_time": "2022-07-06T20:48:20.922Z"
   },
   {
    "duration": 9,
    "start_time": "2022-07-06T20:48:20.935Z"
   },
   {
    "duration": 240,
    "start_time": "2022-07-06T20:48:20.946Z"
   },
   {
    "duration": 6,
    "start_time": "2022-07-06T20:48:21.188Z"
   },
   {
    "duration": 19,
    "start_time": "2022-07-06T20:48:21.196Z"
   },
   {
    "duration": 158,
    "start_time": "2022-07-06T20:48:21.217Z"
   },
   {
    "duration": 26,
    "start_time": "2022-07-06T20:48:21.376Z"
   },
   {
    "duration": 134,
    "start_time": "2022-07-06T20:48:21.404Z"
   },
   {
    "duration": 22,
    "start_time": "2022-07-06T20:48:21.540Z"
   },
   {
    "duration": 16,
    "start_time": "2022-07-06T20:48:21.563Z"
   },
   {
    "duration": 27,
    "start_time": "2022-07-06T20:48:21.582Z"
   },
   {
    "duration": 68,
    "start_time": "2022-07-06T20:48:21.611Z"
   },
   {
    "duration": 18,
    "start_time": "2022-07-06T20:48:21.682Z"
   },
   {
    "duration": 16,
    "start_time": "2022-07-06T20:48:21.702Z"
   },
   {
    "duration": 15,
    "start_time": "2022-07-06T20:48:21.720Z"
   },
   {
    "duration": 41,
    "start_time": "2022-07-06T20:48:21.737Z"
   },
   {
    "duration": 5,
    "start_time": "2022-07-06T20:48:21.780Z"
   },
   {
    "duration": 365,
    "start_time": "2022-07-06T20:48:21.787Z"
   },
   {
    "duration": 212,
    "start_time": "2022-07-06T20:48:22.154Z"
   },
   {
    "duration": 251,
    "start_time": "2022-07-06T20:48:22.368Z"
   },
   {
    "duration": 7,
    "start_time": "2022-07-06T20:48:22.621Z"
   },
   {
    "duration": 297,
    "start_time": "2022-07-06T20:48:22.632Z"
   },
   {
    "duration": 406,
    "start_time": "2022-07-06T20:48:22.932Z"
   },
   {
    "duration": 247,
    "start_time": "2022-07-06T20:48:23.340Z"
   },
   {
    "duration": 135,
    "start_time": "2022-07-06T20:48:23.588Z"
   },
   {
    "duration": 4,
    "start_time": "2022-07-06T20:48:23.725Z"
   },
   {
    "duration": 6,
    "start_time": "2022-07-06T20:48:23.731Z"
   },
   {
    "duration": 25,
    "start_time": "2022-07-06T20:48:23.738Z"
   },
   {
    "duration": 24,
    "start_time": "2022-07-06T20:48:23.765Z"
   },
   {
    "duration": 7,
    "start_time": "2022-07-06T20:48:23.791Z"
   },
   {
    "duration": 9,
    "start_time": "2022-07-06T20:48:23.800Z"
   },
   {
    "duration": 40,
    "start_time": "2022-07-06T20:48:23.811Z"
   },
   {
    "duration": 12,
    "start_time": "2022-07-06T20:48:23.853Z"
   },
   {
    "duration": 792,
    "start_time": "2022-07-06T20:48:23.870Z"
   },
   {
    "duration": 996,
    "start_time": "2022-07-06T20:48:24.664Z"
   },
   {
    "duration": 0,
    "start_time": "2022-07-06T20:48:25.662Z"
   },
   {
    "duration": 0,
    "start_time": "2022-07-06T20:48:25.664Z"
   },
   {
    "duration": 5,
    "start_time": "2022-07-06T20:49:01.207Z"
   },
   {
    "duration": 13,
    "start_time": "2022-07-06T20:49:04.351Z"
   },
   {
    "duration": 6,
    "start_time": "2022-07-06T20:49:40.971Z"
   },
   {
    "duration": 6,
    "start_time": "2022-07-06T21:03:21.882Z"
   },
   {
    "duration": 4,
    "start_time": "2022-07-06T21:04:51.944Z"
   },
   {
    "duration": 51,
    "start_time": "2022-07-06T21:06:24.704Z"
   },
   {
    "duration": 12,
    "start_time": "2022-07-06T21:13:31.088Z"
   },
   {
    "duration": 28,
    "start_time": "2022-07-06T21:14:15.444Z"
   },
   {
    "duration": 133,
    "start_time": "2022-07-06T21:15:36.128Z"
   },
   {
    "duration": 305,
    "start_time": "2022-07-06T21:15:51.657Z"
   },
   {
    "duration": 11,
    "start_time": "2022-07-06T21:16:40.022Z"
   },
   {
    "duration": 10,
    "start_time": "2022-07-06T21:17:12.051Z"
   },
   {
    "duration": 10,
    "start_time": "2022-07-06T21:17:19.416Z"
   },
   {
    "duration": 5,
    "start_time": "2022-07-06T21:18:06.834Z"
   },
   {
    "duration": 15,
    "start_time": "2022-07-06T21:18:41.097Z"
   },
   {
    "duration": 4,
    "start_time": "2022-07-06T21:18:54.971Z"
   },
   {
    "duration": 5,
    "start_time": "2022-07-06T21:19:01.056Z"
   },
   {
    "duration": 963,
    "start_time": "2022-07-06T21:19:08.481Z"
   },
   {
    "duration": 1474,
    "start_time": "2022-07-06T21:19:50.780Z"
   },
   {
    "duration": 771,
    "start_time": "2022-07-06T21:19:52.256Z"
   },
   {
    "duration": 33,
    "start_time": "2022-07-06T21:19:53.029Z"
   },
   {
    "duration": 32,
    "start_time": "2022-07-06T21:19:53.065Z"
   },
   {
    "duration": 34,
    "start_time": "2022-07-06T21:19:53.100Z"
   },
   {
    "duration": 9,
    "start_time": "2022-07-06T21:19:53.136Z"
   },
   {
    "duration": 17,
    "start_time": "2022-07-06T21:19:53.147Z"
   },
   {
    "duration": 14,
    "start_time": "2022-07-06T21:19:53.166Z"
   },
   {
    "duration": 222,
    "start_time": "2022-07-06T21:19:53.182Z"
   },
   {
    "duration": 6,
    "start_time": "2022-07-06T21:19:53.405Z"
   },
   {
    "duration": 20,
    "start_time": "2022-07-06T21:19:53.412Z"
   },
   {
    "duration": 140,
    "start_time": "2022-07-06T21:19:53.433Z"
   },
   {
    "duration": 31,
    "start_time": "2022-07-06T21:19:53.576Z"
   },
   {
    "duration": 122,
    "start_time": "2022-07-06T21:19:53.610Z"
   },
   {
    "duration": 15,
    "start_time": "2022-07-06T21:19:53.734Z"
   },
   {
    "duration": 13,
    "start_time": "2022-07-06T21:19:53.760Z"
   },
   {
    "duration": 18,
    "start_time": "2022-07-06T21:19:53.774Z"
   },
   {
    "duration": 30,
    "start_time": "2022-07-06T21:19:53.794Z"
   },
   {
    "duration": 44,
    "start_time": "2022-07-06T21:19:53.826Z"
   },
   {
    "duration": 29,
    "start_time": "2022-07-06T21:19:53.872Z"
   },
   {
    "duration": 17,
    "start_time": "2022-07-06T21:19:53.903Z"
   },
   {
    "duration": 32,
    "start_time": "2022-07-06T21:19:53.921Z"
   },
   {
    "duration": 5,
    "start_time": "2022-07-06T21:19:53.960Z"
   },
   {
    "duration": 294,
    "start_time": "2022-07-06T21:19:53.966Z"
   },
   {
    "duration": 231,
    "start_time": "2022-07-06T21:19:54.262Z"
   },
   {
    "duration": 245,
    "start_time": "2022-07-06T21:19:54.495Z"
   },
   {
    "duration": 6,
    "start_time": "2022-07-06T21:19:54.742Z"
   },
   {
    "duration": 280,
    "start_time": "2022-07-06T21:19:54.761Z"
   },
   {
    "duration": 388,
    "start_time": "2022-07-06T21:19:55.043Z"
   },
   {
    "duration": 270,
    "start_time": "2022-07-06T21:19:55.432Z"
   },
   {
    "duration": 80,
    "start_time": "2022-07-06T21:19:55.704Z"
   },
   {
    "duration": 4,
    "start_time": "2022-07-06T21:19:55.786Z"
   },
   {
    "duration": 13,
    "start_time": "2022-07-06T21:19:55.792Z"
   },
   {
    "duration": 17,
    "start_time": "2022-07-06T21:19:55.807Z"
   },
   {
    "duration": 6,
    "start_time": "2022-07-06T21:19:55.826Z"
   },
   {
    "duration": 54,
    "start_time": "2022-07-06T21:19:55.833Z"
   },
   {
    "duration": 25,
    "start_time": "2022-07-06T21:19:55.889Z"
   },
   {
    "duration": 352,
    "start_time": "2022-07-06T21:19:55.916Z"
   },
   {
    "duration": 5,
    "start_time": "2022-07-06T21:19:56.271Z"
   },
   {
    "duration": 1039,
    "start_time": "2022-07-06T21:19:56.362Z"
   },
   {
    "duration": 0,
    "start_time": "2022-07-06T21:19:57.403Z"
   },
   {
    "duration": 4,
    "start_time": "2022-07-06T21:20:52.001Z"
   },
   {
    "duration": 758,
    "start_time": "2022-07-06T21:20:55.035Z"
   },
   {
    "duration": 5,
    "start_time": "2022-07-06T21:21:24.396Z"
   },
   {
    "duration": 4,
    "start_time": "2022-07-06T21:21:34.438Z"
   },
   {
    "duration": 13,
    "start_time": "2022-07-06T21:21:36.800Z"
   },
   {
    "duration": 5,
    "start_time": "2022-07-06T21:21:51.272Z"
   },
   {
    "duration": 4442,
    "start_time": "2022-07-06T21:21:54.607Z"
   },
   {
    "duration": 4,
    "start_time": "2022-07-06T21:22:13.145Z"
   },
   {
    "duration": 4691,
    "start_time": "2022-07-06T21:22:15.917Z"
   },
   {
    "duration": 5,
    "start_time": "2022-07-06T21:24:16.535Z"
   },
   {
    "duration": 13,
    "start_time": "2022-07-06T21:24:19.957Z"
   },
   {
    "duration": 5,
    "start_time": "2022-07-06T21:24:33.604Z"
   },
   {
    "duration": 7,
    "start_time": "2022-07-06T21:24:38.292Z"
   },
   {
    "duration": 15,
    "start_time": "2022-07-06T21:24:55.671Z"
   },
   {
    "duration": 5,
    "start_time": "2022-07-06T21:24:59.709Z"
   },
   {
    "duration": 9,
    "start_time": "2022-07-06T21:27:11.822Z"
   },
   {
    "duration": 4,
    "start_time": "2022-07-06T21:27:39.461Z"
   },
   {
    "duration": 2173,
    "start_time": "2022-07-06T21:27:42.992Z"
   },
   {
    "duration": 1844,
    "start_time": "2022-07-06T21:28:39.418Z"
   },
   {
    "duration": 3246,
    "start_time": "2022-07-06T21:29:00.016Z"
   },
   {
    "duration": 3230,
    "start_time": "2022-07-06T21:29:10.635Z"
   },
   {
    "duration": 12,
    "start_time": "2022-07-06T21:30:30.755Z"
   },
   {
    "duration": 7,
    "start_time": "2022-07-06T21:31:31.467Z"
   },
   {
    "duration": 14,
    "start_time": "2022-07-06T21:31:34.511Z"
   },
   {
    "duration": 6,
    "start_time": "2022-07-06T21:31:44.711Z"
   },
   {
    "duration": 90,
    "start_time": "2022-07-06T21:33:01.448Z"
   },
   {
    "duration": 1269,
    "start_time": "2022-07-06T21:33:15.197Z"
   },
   {
    "duration": 1822,
    "start_time": "2022-07-06T21:33:20.645Z"
   },
   {
    "duration": 7,
    "start_time": "2022-07-06T21:34:28.770Z"
   },
   {
    "duration": 166,
    "start_time": "2022-07-06T21:35:21.396Z"
   },
   {
    "duration": 5,
    "start_time": "2022-07-06T21:38:42.888Z"
   },
   {
    "duration": 6,
    "start_time": "2022-07-06T21:38:55.826Z"
   },
   {
    "duration": 5,
    "start_time": "2022-07-06T21:39:39.189Z"
   },
   {
    "duration": 10,
    "start_time": "2022-07-06T21:39:41.799Z"
   },
   {
    "duration": 13,
    "start_time": "2022-07-06T21:40:16.717Z"
   },
   {
    "duration": 376,
    "start_time": "2022-07-06T21:40:22.089Z"
   },
   {
    "duration": 2917,
    "start_time": "2022-07-06T21:40:58.747Z"
   },
   {
    "duration": 4,
    "start_time": "2022-07-06T21:41:04.336Z"
   },
   {
    "duration": 8,
    "start_time": "2022-07-06T21:42:56.647Z"
   },
   {
    "duration": 10,
    "start_time": "2022-07-06T21:43:01.782Z"
   },
   {
    "duration": 16,
    "start_time": "2022-07-06T21:45:21.267Z"
   },
   {
    "duration": 28,
    "start_time": "2022-07-06T21:45:45.411Z"
   },
   {
    "duration": 23,
    "start_time": "2022-07-06T21:47:05.155Z"
   },
   {
    "duration": 17,
    "start_time": "2022-07-06T21:47:35.229Z"
   },
   {
    "duration": 17,
    "start_time": "2022-07-06T21:47:41.067Z"
   },
   {
    "duration": 14,
    "start_time": "2022-07-06T21:48:03.831Z"
   },
   {
    "duration": 16,
    "start_time": "2022-07-06T21:48:25.336Z"
   },
   {
    "duration": 24,
    "start_time": "2022-07-06T21:49:56.278Z"
   },
   {
    "duration": 21,
    "start_time": "2022-07-06T21:49:59.564Z"
   },
   {
    "duration": 16,
    "start_time": "2022-07-06T21:50:08.789Z"
   },
   {
    "duration": 16,
    "start_time": "2022-07-06T21:50:13.555Z"
   },
   {
    "duration": 21,
    "start_time": "2022-07-06T21:50:20.363Z"
   },
   {
    "duration": 24,
    "start_time": "2022-07-06T21:50:24.678Z"
   },
   {
    "duration": 1407,
    "start_time": "2022-07-06T21:52:42.189Z"
   },
   {
    "duration": 735,
    "start_time": "2022-07-06T21:52:43.598Z"
   },
   {
    "duration": 32,
    "start_time": "2022-07-06T21:52:44.335Z"
   },
   {
    "duration": 29,
    "start_time": "2022-07-06T21:52:44.370Z"
   },
   {
    "duration": 21,
    "start_time": "2022-07-06T21:52:44.401Z"
   },
   {
    "duration": 5,
    "start_time": "2022-07-06T21:52:44.424Z"
   },
   {
    "duration": 31,
    "start_time": "2022-07-06T21:52:44.430Z"
   },
   {
    "duration": 12,
    "start_time": "2022-07-06T21:52:44.463Z"
   },
   {
    "duration": 245,
    "start_time": "2022-07-06T21:52:44.477Z"
   },
   {
    "duration": 6,
    "start_time": "2022-07-06T21:52:44.726Z"
   },
   {
    "duration": 34,
    "start_time": "2022-07-06T21:52:44.734Z"
   },
   {
    "duration": 164,
    "start_time": "2022-07-06T21:52:44.770Z"
   },
   {
    "duration": 31,
    "start_time": "2022-07-06T21:52:44.935Z"
   },
   {
    "duration": 129,
    "start_time": "2022-07-06T21:52:44.968Z"
   },
   {
    "duration": 16,
    "start_time": "2022-07-06T21:52:45.099Z"
   },
   {
    "duration": 11,
    "start_time": "2022-07-06T21:52:45.116Z"
   },
   {
    "duration": 38,
    "start_time": "2022-07-06T21:52:45.128Z"
   },
   {
    "duration": 39,
    "start_time": "2022-07-06T21:52:45.168Z"
   },
   {
    "duration": 13,
    "start_time": "2022-07-06T21:52:45.209Z"
   },
   {
    "duration": 40,
    "start_time": "2022-07-06T21:52:45.224Z"
   },
   {
    "duration": 18,
    "start_time": "2022-07-06T21:52:45.266Z"
   },
   {
    "duration": 29,
    "start_time": "2022-07-06T21:52:45.287Z"
   },
   {
    "duration": 4,
    "start_time": "2022-07-06T21:52:45.318Z"
   },
   {
    "duration": 321,
    "start_time": "2022-07-06T21:52:45.323Z"
   },
   {
    "duration": 221,
    "start_time": "2022-07-06T21:52:45.646Z"
   },
   {
    "duration": 244,
    "start_time": "2022-07-06T21:52:45.870Z"
   },
   {
    "duration": 6,
    "start_time": "2022-07-06T21:52:46.115Z"
   },
   {
    "duration": 416,
    "start_time": "2022-07-06T21:52:46.125Z"
   },
   {
    "duration": 308,
    "start_time": "2022-07-06T21:52:46.544Z"
   },
   {
    "duration": 266,
    "start_time": "2022-07-06T21:52:46.854Z"
   },
   {
    "duration": 90,
    "start_time": "2022-07-06T21:52:47.122Z"
   },
   {
    "duration": 4,
    "start_time": "2022-07-06T21:52:47.215Z"
   },
   {
    "duration": 5,
    "start_time": "2022-07-06T21:52:47.221Z"
   },
   {
    "duration": 16,
    "start_time": "2022-07-06T21:52:47.228Z"
   },
   {
    "duration": 17,
    "start_time": "2022-07-06T21:52:47.246Z"
   },
   {
    "duration": 52,
    "start_time": "2022-07-06T21:52:47.264Z"
   },
   {
    "duration": 23,
    "start_time": "2022-07-06T21:52:47.318Z"
   },
   {
    "duration": 319,
    "start_time": "2022-07-06T21:52:47.343Z"
   },
   {
    "duration": 302,
    "start_time": "2022-07-06T21:52:47.664Z"
   },
   {
    "duration": 93,
    "start_time": "2022-07-06T21:52:47.973Z"
   },
   {
    "duration": 222,
    "start_time": "2022-07-06T21:52:48.069Z"
   },
   {
    "duration": 0,
    "start_time": "2022-07-06T21:52:48.293Z"
   },
   {
    "duration": 13,
    "start_time": "2022-07-06T21:52:59.227Z"
   },
   {
    "duration": 17,
    "start_time": "2022-07-06T21:53:41.758Z"
   },
   {
    "duration": 153,
    "start_time": "2022-07-06T21:54:23.110Z"
   },
   {
    "duration": 18,
    "start_time": "2022-07-06T21:55:00.463Z"
   },
   {
    "duration": 12,
    "start_time": "2022-07-06T21:55:05.803Z"
   },
   {
    "duration": 3,
    "start_time": "2022-07-06T21:55:08.470Z"
   },
   {
    "duration": 14,
    "start_time": "2022-07-06T21:55:26.582Z"
   },
   {
    "duration": 4,
    "start_time": "2022-07-06T21:57:38.431Z"
   },
   {
    "duration": 12,
    "start_time": "2022-07-06T21:57:46.238Z"
   },
   {
    "duration": 1059,
    "start_time": "2022-07-06T21:57:57.651Z"
   },
   {
    "duration": 1049,
    "start_time": "2022-07-06T21:58:00.509Z"
   },
   {
    "duration": 1241,
    "start_time": "2022-07-06T21:58:41.591Z"
   },
   {
    "duration": 1304,
    "start_time": "2022-07-06T21:58:55.023Z"
   },
   {
    "duration": 5,
    "start_time": "2022-07-06T21:59:32.318Z"
   },
   {
    "duration": 7,
    "start_time": "2022-07-06T22:00:04.941Z"
   },
   {
    "duration": 16,
    "start_time": "2022-07-06T22:00:46.485Z"
   },
   {
    "duration": 10,
    "start_time": "2022-07-06T22:00:48.569Z"
   },
   {
    "duration": 3,
    "start_time": "2022-07-06T22:01:00.889Z"
   },
   {
    "duration": 95,
    "start_time": "2022-07-06T22:01:01.940Z"
   },
   {
    "duration": 94,
    "start_time": "2022-07-06T22:01:02.982Z"
   },
   {
    "duration": 6,
    "start_time": "2022-07-06T22:01:07.822Z"
   },
   {
    "duration": 3,
    "start_time": "2022-07-06T22:01:11.237Z"
   },
   {
    "duration": 173,
    "start_time": "2022-07-06T22:01:12.048Z"
   },
   {
    "duration": 188,
    "start_time": "2022-07-06T22:01:13.519Z"
   },
   {
    "duration": 170,
    "start_time": "2022-07-06T22:01:16.784Z"
   },
   {
    "duration": 6,
    "start_time": "2022-07-06T22:01:18.198Z"
   },
   {
    "duration": 2,
    "start_time": "2022-07-06T22:01:21.700Z"
   },
   {
    "duration": 242,
    "start_time": "2022-07-06T22:01:22.721Z"
   },
   {
    "duration": 245,
    "start_time": "2022-07-06T22:01:23.713Z"
   },
   {
    "duration": 7,
    "start_time": "2022-07-06T22:01:25.727Z"
   },
   {
    "duration": 3,
    "start_time": "2022-07-06T22:01:30.020Z"
   },
   {
    "duration": 308,
    "start_time": "2022-07-06T22:01:31.588Z"
   },
   {
    "duration": 312,
    "start_time": "2022-07-06T22:01:33.484Z"
   },
   {
    "duration": 7,
    "start_time": "2022-07-06T22:01:34.917Z"
   },
   {
    "duration": 4,
    "start_time": "2022-07-06T22:05:18.406Z"
   },
   {
    "duration": 351,
    "start_time": "2022-07-06T22:05:19.213Z"
   },
   {
    "duration": 359,
    "start_time": "2022-07-06T22:05:20.358Z"
   },
   {
    "duration": 7,
    "start_time": "2022-07-06T22:05:21.144Z"
   },
   {
    "duration": 3,
    "start_time": "2022-07-06T22:05:24.429Z"
   },
   {
    "duration": 428,
    "start_time": "2022-07-06T22:05:25.137Z"
   },
   {
    "duration": 431,
    "start_time": "2022-07-06T22:05:26.385Z"
   },
   {
    "duration": 6,
    "start_time": "2022-07-06T22:05:27.568Z"
   },
   {
    "duration": 52,
    "start_time": "2022-07-06T22:07:17.284Z"
   },
   {
    "duration": 19,
    "start_time": "2022-07-06T22:08:26.067Z"
   },
   {
    "duration": 8771,
    "start_time": "2022-07-06T22:09:32.585Z"
   },
   {
    "duration": 11549,
    "start_time": "2022-07-06T22:10:32.917Z"
   },
   {
    "duration": 13017,
    "start_time": "2022-07-06T22:10:47.499Z"
   },
   {
    "duration": 1695,
    "start_time": "2022-07-06T22:11:35.319Z"
   },
   {
    "duration": 1669,
    "start_time": "2022-07-06T22:11:40.541Z"
   },
   {
    "duration": 1702,
    "start_time": "2022-07-06T22:11:45.352Z"
   },
   {
    "duration": 1762,
    "start_time": "2022-07-06T22:11:49.072Z"
   },
   {
    "duration": 1864,
    "start_time": "2022-07-06T22:11:53.247Z"
   },
   {
    "duration": 1640,
    "start_time": "2022-07-06T22:11:58.421Z"
   },
   {
    "duration": 1561,
    "start_time": "2022-07-06T22:12:02.228Z"
   },
   {
    "duration": 1448,
    "start_time": "2022-07-06T22:12:06.638Z"
   },
   {
    "duration": 1418,
    "start_time": "2022-07-06T22:12:10.039Z"
   },
   {
    "duration": 1232,
    "start_time": "2022-07-06T22:12:14.054Z"
   },
   {
    "duration": 1316,
    "start_time": "2022-07-06T22:12:17.971Z"
   },
   {
    "duration": 1332,
    "start_time": "2022-07-06T22:12:29.839Z"
   },
   {
    "duration": 1309,
    "start_time": "2022-07-06T22:16:37.655Z"
   },
   {
    "duration": 11,
    "start_time": "2022-07-06T22:23:56.124Z"
   },
   {
    "duration": 2184,
    "start_time": "2022-07-06T22:24:43.580Z"
   },
   {
    "duration": 24,
    "start_time": "2022-07-06T22:25:25.964Z"
   },
   {
    "duration": 15,
    "start_time": "2022-07-06T22:25:54.742Z"
   },
   {
    "duration": 15,
    "start_time": "2022-07-06T22:26:03.011Z"
   },
   {
    "duration": 2959,
    "start_time": "2022-07-06T22:26:11.219Z"
   },
   {
    "duration": 2629,
    "start_time": "2022-07-06T22:26:28.145Z"
   },
   {
    "duration": 3228,
    "start_time": "2022-07-06T22:26:54.444Z"
   },
   {
    "duration": 13,
    "start_time": "2022-07-06T22:27:01.055Z"
   },
   {
    "duration": 5,
    "start_time": "2022-07-06T22:27:02.204Z"
   },
   {
    "duration": 2231,
    "start_time": "2022-07-06T22:27:17.949Z"
   },
   {
    "duration": 3277,
    "start_time": "2022-07-06T22:27:23.203Z"
   },
   {
    "duration": 81,
    "start_time": "2022-07-06T22:27:26.485Z"
   },
   {
    "duration": 17,
    "start_time": "2022-07-06T22:30:05.093Z"
   },
   {
    "duration": 2148,
    "start_time": "2022-07-06T22:31:57.515Z"
   },
   {
    "duration": 12,
    "start_time": "2022-07-06T22:32:01.307Z"
   },
   {
    "duration": 6,
    "start_time": "2022-07-06T22:32:02.593Z"
   },
   {
    "duration": 2445,
    "start_time": "2022-07-06T22:32:25.115Z"
   },
   {
    "duration": 8,
    "start_time": "2022-07-06T22:32:27.564Z"
   },
   {
    "duration": 2039,
    "start_time": "2022-07-06T22:32:34.844Z"
   },
   {
    "duration": 71,
    "start_time": "2022-07-06T22:32:36.893Z"
   },
   {
    "duration": 9,
    "start_time": "2022-07-06T22:33:20.540Z"
   },
   {
    "duration": 3,
    "start_time": "2022-07-06T22:33:23.507Z"
   },
   {
    "duration": 2494,
    "start_time": "2022-07-06T22:33:41.879Z"
   },
   {
    "duration": 0,
    "start_time": "2022-07-06T22:33:44.376Z"
   },
   {
    "duration": 2609,
    "start_time": "2022-07-06T22:33:52.670Z"
   },
   {
    "duration": 10,
    "start_time": "2022-07-06T22:33:55.361Z"
   },
   {
    "duration": 4019,
    "start_time": "2022-07-06T22:34:45.071Z"
   },
   {
    "duration": 5,
    "start_time": "2022-07-06T22:34:56.411Z"
   },
   {
    "duration": 4159,
    "start_time": "2022-07-06T22:35:08.078Z"
   },
   {
    "duration": 5,
    "start_time": "2022-07-06T22:35:14.765Z"
   },
   {
    "duration": 60,
    "start_time": "2022-07-06T22:35:28.585Z"
   },
   {
    "duration": 4397,
    "start_time": "2022-07-06T22:35:31.432Z"
   },
   {
    "duration": 20,
    "start_time": "2022-07-06T22:39:36.344Z"
   },
   {
    "duration": 26,
    "start_time": "2022-07-06T22:39:54.724Z"
   },
   {
    "duration": 22,
    "start_time": "2022-07-06T22:41:00.039Z"
   },
   {
    "duration": 64,
    "start_time": "2022-07-06T22:41:31.741Z"
   },
   {
    "duration": 19,
    "start_time": "2022-07-06T22:41:34.329Z"
   },
   {
    "duration": 53,
    "start_time": "2022-07-06T22:41:35.686Z"
   },
   {
    "duration": 11,
    "start_time": "2022-07-06T22:42:54.750Z"
   },
   {
    "duration": 1424,
    "start_time": "2022-07-06T22:44:58.308Z"
   },
   {
    "duration": 711,
    "start_time": "2022-07-06T22:44:59.735Z"
   },
   {
    "duration": 39,
    "start_time": "2022-07-06T22:45:00.448Z"
   },
   {
    "duration": 42,
    "start_time": "2022-07-06T22:45:00.489Z"
   },
   {
    "duration": 45,
    "start_time": "2022-07-06T22:45:00.533Z"
   },
   {
    "duration": 22,
    "start_time": "2022-07-06T22:45:00.580Z"
   },
   {
    "duration": 20,
    "start_time": "2022-07-06T22:45:00.605Z"
   },
   {
    "duration": 23,
    "start_time": "2022-07-06T22:45:00.628Z"
   },
   {
    "duration": 271,
    "start_time": "2022-07-06T22:45:00.653Z"
   },
   {
    "duration": 5,
    "start_time": "2022-07-06T22:45:00.926Z"
   },
   {
    "duration": 36,
    "start_time": "2022-07-06T22:45:00.933Z"
   },
   {
    "duration": 148,
    "start_time": "2022-07-06T22:45:00.971Z"
   },
   {
    "duration": 26,
    "start_time": "2022-07-06T22:45:01.121Z"
   },
   {
    "duration": 124,
    "start_time": "2022-07-06T22:45:01.160Z"
   },
   {
    "duration": 15,
    "start_time": "2022-07-06T22:45:01.286Z"
   },
   {
    "duration": 34,
    "start_time": "2022-07-06T22:45:01.303Z"
   },
   {
    "duration": 41,
    "start_time": "2022-07-06T22:45:01.340Z"
   },
   {
    "duration": 30,
    "start_time": "2022-07-06T22:45:01.383Z"
   },
   {
    "duration": 15,
    "start_time": "2022-07-06T22:45:01.416Z"
   },
   {
    "duration": 43,
    "start_time": "2022-07-06T22:45:01.433Z"
   },
   {
    "duration": 23,
    "start_time": "2022-07-06T22:45:01.478Z"
   },
   {
    "duration": 20,
    "start_time": "2022-07-06T22:45:01.503Z"
   },
   {
    "duration": 27,
    "start_time": "2022-07-06T22:45:01.525Z"
   },
   {
    "duration": 340,
    "start_time": "2022-07-06T22:45:01.560Z"
   },
   {
    "duration": 232,
    "start_time": "2022-07-06T22:45:01.902Z"
   },
   {
    "duration": 258,
    "start_time": "2022-07-06T22:45:02.136Z"
   },
   {
    "duration": 8,
    "start_time": "2022-07-06T22:45:02.397Z"
   },
   {
    "duration": 401,
    "start_time": "2022-07-06T22:45:02.407Z"
   },
   {
    "duration": 314,
    "start_time": "2022-07-06T22:45:02.810Z"
   },
   {
    "duration": 310,
    "start_time": "2022-07-06T22:45:03.126Z"
   },
   {
    "duration": 80,
    "start_time": "2022-07-06T22:45:03.439Z"
   },
   {
    "duration": 4,
    "start_time": "2022-07-06T22:45:03.521Z"
   },
   {
    "duration": 7,
    "start_time": "2022-07-06T22:45:03.527Z"
   },
   {
    "duration": 37,
    "start_time": "2022-07-06T22:45:03.535Z"
   },
   {
    "duration": 4,
    "start_time": "2022-07-06T22:45:03.575Z"
   },
   {
    "duration": 72,
    "start_time": "2022-07-06T22:45:03.581Z"
   },
   {
    "duration": 27,
    "start_time": "2022-07-06T22:45:03.654Z"
   },
   {
    "duration": 282,
    "start_time": "2022-07-06T22:45:03.683Z"
   },
   {
    "duration": 409,
    "start_time": "2022-07-06T22:45:03.968Z"
   },
   {
    "duration": 10,
    "start_time": "2022-07-06T22:45:04.462Z"
   },
   {
    "duration": 1389,
    "start_time": "2022-07-06T22:45:04.477Z"
   },
   {
    "duration": 6,
    "start_time": "2022-07-06T22:45:05.869Z"
   },
   {
    "duration": 1667,
    "start_time": "2022-07-06T22:45:05.878Z"
   },
   {
    "duration": 13,
    "start_time": "2022-07-06T22:45:07.548Z"
   },
   {
    "duration": 2768,
    "start_time": "2022-07-07T08:54:10.234Z"
   },
   {
    "duration": 4320,
    "start_time": "2022-07-07T08:54:13.005Z"
   },
   {
    "duration": 38,
    "start_time": "2022-07-07T08:54:17.327Z"
   },
   {
    "duration": 23,
    "start_time": "2022-07-07T08:54:17.367Z"
   },
   {
    "duration": 28,
    "start_time": "2022-07-07T08:54:17.391Z"
   },
   {
    "duration": 5,
    "start_time": "2022-07-07T08:54:17.420Z"
   },
   {
    "duration": 5,
    "start_time": "2022-07-07T08:54:17.427Z"
   },
   {
    "duration": 10,
    "start_time": "2022-07-07T08:54:17.434Z"
   },
   {
    "duration": 274,
    "start_time": "2022-07-07T08:54:17.446Z"
   },
   {
    "duration": 6,
    "start_time": "2022-07-07T08:54:17.723Z"
   },
   {
    "duration": 20,
    "start_time": "2022-07-07T08:54:17.731Z"
   },
   {
    "duration": 160,
    "start_time": "2022-07-07T08:54:17.753Z"
   },
   {
    "duration": 28,
    "start_time": "2022-07-07T08:54:17.915Z"
   },
   {
    "duration": 181,
    "start_time": "2022-07-07T08:54:17.945Z"
   },
   {
    "duration": 18,
    "start_time": "2022-07-07T08:54:18.128Z"
   },
   {
    "duration": 15,
    "start_time": "2022-07-07T08:54:18.148Z"
   },
   {
    "duration": 38,
    "start_time": "2022-07-07T08:54:18.165Z"
   },
   {
    "duration": 32,
    "start_time": "2022-07-07T08:54:18.205Z"
   },
   {
    "duration": 13,
    "start_time": "2022-07-07T08:54:18.239Z"
   },
   {
    "duration": 45,
    "start_time": "2022-07-07T08:54:18.254Z"
   },
   {
    "duration": 14,
    "start_time": "2022-07-07T08:54:18.301Z"
   },
   {
    "duration": 21,
    "start_time": "2022-07-07T08:54:18.317Z"
   },
   {
    "duration": 4,
    "start_time": "2022-07-07T08:54:18.339Z"
   },
   {
    "duration": 329,
    "start_time": "2022-07-07T08:54:18.345Z"
   },
   {
    "duration": 236,
    "start_time": "2022-07-07T08:54:18.676Z"
   },
   {
    "duration": 314,
    "start_time": "2022-07-07T08:54:18.914Z"
   },
   {
    "duration": 6,
    "start_time": "2022-07-07T08:54:19.230Z"
   },
   {
    "duration": 346,
    "start_time": "2022-07-07T08:54:19.241Z"
   },
   {
    "duration": 285,
    "start_time": "2022-07-07T08:54:19.590Z"
   },
   {
    "duration": 284,
    "start_time": "2022-07-07T08:54:19.877Z"
   },
   {
    "duration": 88,
    "start_time": "2022-07-07T08:54:20.163Z"
   },
   {
    "duration": 4,
    "start_time": "2022-07-07T08:54:20.253Z"
   },
   {
    "duration": 9,
    "start_time": "2022-07-07T08:54:20.259Z"
   },
   {
    "duration": 32,
    "start_time": "2022-07-07T08:54:20.270Z"
   },
   {
    "duration": 23,
    "start_time": "2022-07-07T08:54:20.304Z"
   },
   {
    "duration": 13,
    "start_time": "2022-07-07T08:54:57.170Z"
   },
   {
    "duration": 47,
    "start_time": "2022-07-08T17:11:58.948Z"
   },
   {
    "duration": 1785,
    "start_time": "2022-07-08T17:12:05.107Z"
   },
   {
    "duration": 3262,
    "start_time": "2022-07-08T17:12:06.894Z"
   },
   {
    "duration": 32,
    "start_time": "2022-07-08T17:12:10.158Z"
   },
   {
    "duration": 26,
    "start_time": "2022-07-08T17:12:10.192Z"
   },
   {
    "duration": 25,
    "start_time": "2022-07-08T17:12:10.221Z"
   },
   {
    "duration": 5,
    "start_time": "2022-07-08T17:12:10.248Z"
   },
   {
    "duration": 8,
    "start_time": "2022-07-08T17:12:10.255Z"
   },
   {
    "duration": 7,
    "start_time": "2022-07-08T17:12:10.264Z"
   },
   {
    "duration": 236,
    "start_time": "2022-07-08T17:12:10.273Z"
   },
   {
    "duration": 5,
    "start_time": "2022-07-08T17:12:10.512Z"
   },
   {
    "duration": 17,
    "start_time": "2022-07-08T17:12:10.519Z"
   },
   {
    "duration": 154,
    "start_time": "2022-07-08T17:12:10.538Z"
   },
   {
    "duration": 35,
    "start_time": "2022-07-08T17:12:10.693Z"
   },
   {
    "duration": 129,
    "start_time": "2022-07-08T17:12:10.730Z"
   },
   {
    "duration": 14,
    "start_time": "2022-07-08T17:12:10.861Z"
   },
   {
    "duration": 11,
    "start_time": "2022-07-08T17:12:10.877Z"
   },
   {
    "duration": 15,
    "start_time": "2022-07-08T17:12:10.904Z"
   },
   {
    "duration": 30,
    "start_time": "2022-07-08T17:12:10.921Z"
   },
   {
    "duration": 15,
    "start_time": "2022-07-08T17:12:10.952Z"
   },
   {
    "duration": 46,
    "start_time": "2022-07-08T17:12:10.969Z"
   },
   {
    "duration": 15,
    "start_time": "2022-07-08T17:12:11.018Z"
   },
   {
    "duration": 20,
    "start_time": "2022-07-08T17:12:11.035Z"
   },
   {
    "duration": 4,
    "start_time": "2022-07-08T17:12:11.057Z"
   },
   {
    "duration": 326,
    "start_time": "2022-07-08T17:12:11.063Z"
   },
   {
    "duration": 217,
    "start_time": "2022-07-08T17:12:11.391Z"
   },
   {
    "duration": 236,
    "start_time": "2022-07-08T17:12:11.609Z"
   },
   {
    "duration": 6,
    "start_time": "2022-07-08T17:12:11.846Z"
   },
   {
    "duration": 337,
    "start_time": "2022-07-08T17:12:11.855Z"
   },
   {
    "duration": 267,
    "start_time": "2022-07-08T17:12:12.193Z"
   },
   {
    "duration": 265,
    "start_time": "2022-07-08T17:12:12.462Z"
   },
   {
    "duration": 85,
    "start_time": "2022-07-08T17:12:12.729Z"
   },
   {
    "duration": 5,
    "start_time": "2022-07-08T17:12:12.816Z"
   },
   {
    "duration": 17,
    "start_time": "2022-07-08T17:12:12.822Z"
   },
   {
    "duration": 22,
    "start_time": "2022-07-08T17:12:12.841Z"
   },
   {
    "duration": 7,
    "start_time": "2022-07-08T17:12:12.865Z"
   },
   {
    "duration": 69,
    "start_time": "2022-07-08T17:12:12.874Z"
   },
   {
    "duration": 23,
    "start_time": "2022-07-08T17:12:12.945Z"
   },
   {
    "duration": 236,
    "start_time": "2022-07-08T17:12:12.969Z"
   },
   {
    "duration": 304,
    "start_time": "2022-07-08T17:12:13.207Z"
   },
   {
    "duration": 7,
    "start_time": "2022-07-08T17:12:13.603Z"
   },
   {
    "duration": 1394,
    "start_time": "2022-07-08T17:12:13.612Z"
   },
   {
    "duration": 5,
    "start_time": "2022-07-08T17:12:15.008Z"
   },
   {
    "duration": 1358,
    "start_time": "2022-07-08T17:12:15.105Z"
   },
   {
    "duration": 11,
    "start_time": "2022-07-08T17:12:16.465Z"
   },
   {
    "duration": 27,
    "start_time": "2022-07-08T17:12:58.758Z"
   },
   {
    "duration": 7,
    "start_time": "2022-07-08T17:14:02.018Z"
   },
   {
    "duration": 6,
    "start_time": "2022-07-08T17:14:07.145Z"
   },
   {
    "duration": 5,
    "start_time": "2022-07-08T17:14:13.556Z"
   },
   {
    "duration": 245,
    "start_time": "2022-07-08T17:15:15.504Z"
   },
   {
    "duration": 258,
    "start_time": "2022-07-08T17:16:03.353Z"
   },
   {
    "duration": 266,
    "start_time": "2022-07-08T17:16:23.179Z"
   },
   {
    "duration": 253,
    "start_time": "2022-07-08T17:16:31.371Z"
   },
   {
    "duration": 254,
    "start_time": "2022-07-08T17:16:44.136Z"
   },
   {
    "duration": 187,
    "start_time": "2022-07-08T17:21:27.664Z"
   },
   {
    "duration": 363,
    "start_time": "2022-07-08T17:26:40.754Z"
   },
   {
    "duration": 235,
    "start_time": "2022-07-08T17:34:05.677Z"
   },
   {
    "duration": 4,
    "start_time": "2022-07-08T17:34:15.710Z"
   },
   {
    "duration": 685,
    "start_time": "2022-07-08T17:34:15.722Z"
   },
   {
    "duration": 23,
    "start_time": "2022-07-08T17:34:16.409Z"
   },
   {
    "duration": 26,
    "start_time": "2022-07-08T17:34:16.434Z"
   },
   {
    "duration": 42,
    "start_time": "2022-07-08T17:34:16.463Z"
   },
   {
    "duration": 4,
    "start_time": "2022-07-08T17:34:16.507Z"
   },
   {
    "duration": 8,
    "start_time": "2022-07-08T17:34:16.513Z"
   },
   {
    "duration": 9,
    "start_time": "2022-07-08T17:34:16.522Z"
   },
   {
    "duration": 277,
    "start_time": "2022-07-08T17:34:16.533Z"
   },
   {
    "duration": 7,
    "start_time": "2022-07-08T17:34:16.813Z"
   },
   {
    "duration": 71,
    "start_time": "2022-07-08T17:34:16.824Z"
   },
   {
    "duration": 146,
    "start_time": "2022-07-08T17:34:16.898Z"
   },
   {
    "duration": 26,
    "start_time": "2022-07-08T17:34:17.045Z"
   },
   {
    "duration": 114,
    "start_time": "2022-07-08T17:34:17.073Z"
   },
   {
    "duration": 28,
    "start_time": "2022-07-08T17:34:17.189Z"
   },
   {
    "duration": 14,
    "start_time": "2022-07-08T17:34:17.219Z"
   },
   {
    "duration": 17,
    "start_time": "2022-07-08T17:34:17.235Z"
   },
   {
    "duration": 59,
    "start_time": "2022-07-08T17:34:17.254Z"
   },
   {
    "duration": 14,
    "start_time": "2022-07-08T17:34:17.315Z"
   },
   {
    "duration": 18,
    "start_time": "2022-07-08T17:34:17.330Z"
   },
   {
    "duration": 19,
    "start_time": "2022-07-08T17:34:17.350Z"
   },
   {
    "duration": 55,
    "start_time": "2022-07-08T17:34:17.371Z"
   },
   {
    "duration": 4,
    "start_time": "2022-07-08T17:34:17.428Z"
   },
   {
    "duration": 293,
    "start_time": "2022-07-08T17:34:17.434Z"
   },
   {
    "duration": 271,
    "start_time": "2022-07-08T17:34:17.729Z"
   },
   {
    "duration": 252,
    "start_time": "2022-07-08T17:34:18.002Z"
   },
   {
    "duration": 6,
    "start_time": "2022-07-08T17:34:18.256Z"
   },
   {
    "duration": 247,
    "start_time": "2022-07-08T17:34:21.681Z"
   },
   {
    "duration": 237,
    "start_time": "2022-07-08T17:34:56.034Z"
   },
   {
    "duration": 331,
    "start_time": "2022-07-08T17:35:44.860Z"
   },
   {
    "duration": 253,
    "start_time": "2022-07-08T17:35:49.892Z"
   },
   {
    "duration": 224,
    "start_time": "2022-07-08T17:35:58.275Z"
   },
   {
    "duration": 232,
    "start_time": "2022-07-08T17:36:19.408Z"
   },
   {
    "duration": 82,
    "start_time": "2022-07-08T17:36:23.052Z"
   },
   {
    "duration": 235,
    "start_time": "2022-07-08T17:36:31.121Z"
   },
   {
    "duration": 4,
    "start_time": "2022-07-08T17:45:09.858Z"
   },
   {
    "duration": 1448,
    "start_time": "2022-07-08T23:32:45.462Z"
   },
   {
    "duration": 1409,
    "start_time": "2022-07-08T23:32:46.911Z"
   },
   {
    "duration": 27,
    "start_time": "2022-07-08T23:32:48.322Z"
   },
   {
    "duration": 29,
    "start_time": "2022-07-08T23:32:48.352Z"
   },
   {
    "duration": 31,
    "start_time": "2022-07-08T23:32:48.382Z"
   },
   {
    "duration": 17,
    "start_time": "2022-07-08T23:32:48.414Z"
   },
   {
    "duration": 6,
    "start_time": "2022-07-08T23:32:48.433Z"
   },
   {
    "duration": 7,
    "start_time": "2022-07-08T23:32:48.440Z"
   },
   {
    "duration": 219,
    "start_time": "2022-07-08T23:32:48.449Z"
   },
   {
    "duration": 6,
    "start_time": "2022-07-08T23:32:48.671Z"
   },
   {
    "duration": 30,
    "start_time": "2022-07-08T23:32:48.679Z"
   },
   {
    "duration": 140,
    "start_time": "2022-07-08T23:32:48.712Z"
   },
   {
    "duration": 25,
    "start_time": "2022-07-08T23:32:48.854Z"
   },
   {
    "duration": 130,
    "start_time": "2022-07-08T23:32:48.881Z"
   },
   {
    "duration": 13,
    "start_time": "2022-07-08T23:32:49.013Z"
   },
   {
    "duration": 11,
    "start_time": "2022-07-08T23:32:49.028Z"
   },
   {
    "duration": 19,
    "start_time": "2022-07-08T23:32:49.041Z"
   },
   {
    "duration": 51,
    "start_time": "2022-07-08T23:32:49.062Z"
   },
   {
    "duration": 13,
    "start_time": "2022-07-08T23:32:49.115Z"
   },
   {
    "duration": 16,
    "start_time": "2022-07-08T23:32:49.129Z"
   },
   {
    "duration": 12,
    "start_time": "2022-07-08T23:32:49.147Z"
   },
   {
    "duration": 44,
    "start_time": "2022-07-08T23:32:49.161Z"
   },
   {
    "duration": 3,
    "start_time": "2022-07-08T23:32:49.207Z"
   },
   {
    "duration": 300,
    "start_time": "2022-07-08T23:32:49.212Z"
   },
   {
    "duration": 233,
    "start_time": "2022-07-08T23:32:49.514Z"
   },
   {
    "duration": 238,
    "start_time": "2022-07-08T23:32:49.749Z"
   },
   {
    "duration": 13,
    "start_time": "2022-07-08T23:32:49.989Z"
   },
   {
    "duration": 329,
    "start_time": "2022-07-08T23:32:50.005Z"
   },
   {
    "duration": 225,
    "start_time": "2022-07-08T23:32:50.336Z"
   },
   {
    "duration": 229,
    "start_time": "2022-07-08T23:32:50.563Z"
   },
   {
    "duration": 108,
    "start_time": "2022-07-08T23:32:50.793Z"
   },
   {
    "duration": 0,
    "start_time": "2022-07-08T23:32:50.902Z"
   },
   {
    "duration": 0,
    "start_time": "2022-07-08T23:32:50.903Z"
   },
   {
    "duration": 0,
    "start_time": "2022-07-08T23:32:50.904Z"
   },
   {
    "duration": 0,
    "start_time": "2022-07-08T23:32:50.905Z"
   },
   {
    "duration": 0,
    "start_time": "2022-07-08T23:32:50.906Z"
   },
   {
    "duration": 0,
    "start_time": "2022-07-08T23:32:50.907Z"
   },
   {
    "duration": 0,
    "start_time": "2022-07-08T23:32:50.908Z"
   },
   {
    "duration": 0,
    "start_time": "2022-07-08T23:32:50.909Z"
   },
   {
    "duration": 0,
    "start_time": "2022-07-08T23:32:50.910Z"
   },
   {
    "duration": 0,
    "start_time": "2022-07-08T23:32:50.911Z"
   },
   {
    "duration": 0,
    "start_time": "2022-07-08T23:32:50.912Z"
   },
   {
    "duration": 0,
    "start_time": "2022-07-08T23:32:50.913Z"
   },
   {
    "duration": 0,
    "start_time": "2022-07-08T23:32:50.914Z"
   },
   {
    "duration": 71,
    "start_time": "2022-07-08T23:34:01.138Z"
   },
   {
    "duration": 1344,
    "start_time": "2022-07-08T23:34:07.745Z"
   },
   {
    "duration": 667,
    "start_time": "2022-07-08T23:34:09.091Z"
   },
   {
    "duration": 24,
    "start_time": "2022-07-08T23:34:09.760Z"
   },
   {
    "duration": 25,
    "start_time": "2022-07-08T23:34:09.786Z"
   },
   {
    "duration": 20,
    "start_time": "2022-07-08T23:34:09.812Z"
   },
   {
    "duration": 6,
    "start_time": "2022-07-08T23:34:09.834Z"
   },
   {
    "duration": 6,
    "start_time": "2022-07-08T23:34:09.841Z"
   },
   {
    "duration": 10,
    "start_time": "2022-07-08T23:34:09.848Z"
   },
   {
    "duration": 223,
    "start_time": "2022-07-08T23:34:09.859Z"
   },
   {
    "duration": 5,
    "start_time": "2022-07-08T23:34:10.084Z"
   },
   {
    "duration": 14,
    "start_time": "2022-07-08T23:34:10.100Z"
   },
   {
    "duration": 145,
    "start_time": "2022-07-08T23:34:10.115Z"
   },
   {
    "duration": 23,
    "start_time": "2022-07-08T23:34:10.261Z"
   },
   {
    "duration": 115,
    "start_time": "2022-07-08T23:34:10.286Z"
   },
   {
    "duration": 14,
    "start_time": "2022-07-08T23:34:10.403Z"
   },
   {
    "duration": 10,
    "start_time": "2022-07-08T23:34:10.419Z"
   },
   {
    "duration": 14,
    "start_time": "2022-07-08T23:34:10.431Z"
   },
   {
    "duration": 59,
    "start_time": "2022-07-08T23:34:10.447Z"
   },
   {
    "duration": 13,
    "start_time": "2022-07-08T23:34:10.508Z"
   },
   {
    "duration": 17,
    "start_time": "2022-07-08T23:34:10.523Z"
   },
   {
    "duration": 13,
    "start_time": "2022-07-08T23:34:10.541Z"
   },
   {
    "duration": 46,
    "start_time": "2022-07-08T23:34:10.556Z"
   },
   {
    "duration": 3,
    "start_time": "2022-07-08T23:34:10.604Z"
   },
   {
    "duration": 275,
    "start_time": "2022-07-08T23:34:10.609Z"
   },
   {
    "duration": 220,
    "start_time": "2022-07-08T23:34:10.887Z"
   },
   {
    "duration": 224,
    "start_time": "2022-07-08T23:34:11.109Z"
   },
   {
    "duration": 5,
    "start_time": "2022-07-08T23:34:11.335Z"
   },
   {
    "duration": 315,
    "start_time": "2022-07-08T23:34:11.343Z"
   },
   {
    "duration": 205,
    "start_time": "2022-07-08T23:34:11.660Z"
   },
   {
    "duration": 224,
    "start_time": "2022-07-08T23:34:11.867Z"
   },
   {
    "duration": 68,
    "start_time": "2022-07-08T23:34:12.093Z"
   },
   {
    "duration": 4,
    "start_time": "2022-07-08T23:34:12.162Z"
   },
   {
    "duration": 7,
    "start_time": "2022-07-08T23:34:12.167Z"
   },
   {
    "duration": 25,
    "start_time": "2022-07-08T23:34:12.176Z"
   },
   {
    "duration": 4,
    "start_time": "2022-07-08T23:34:12.202Z"
   },
   {
    "duration": 55,
    "start_time": "2022-07-08T23:34:12.208Z"
   },
   {
    "duration": 37,
    "start_time": "2022-07-08T23:34:12.265Z"
   },
   {
    "duration": 298,
    "start_time": "2022-07-08T23:34:12.303Z"
   },
   {
    "duration": 297,
    "start_time": "2022-07-08T23:34:12.603Z"
   },
   {
    "duration": 6,
    "start_time": "2022-07-08T23:34:12.902Z"
   },
   {
    "duration": 1592,
    "start_time": "2022-07-08T23:34:12.910Z"
   },
   {
    "duration": 4,
    "start_time": "2022-07-08T23:34:14.504Z"
   },
   {
    "duration": 1353,
    "start_time": "2022-07-08T23:34:14.509Z"
   },
   {
    "duration": 8,
    "start_time": "2022-07-08T23:34:15.864Z"
   },
   {
    "duration": 79,
    "start_time": "2022-07-08T23:39:14.474Z"
   },
   {
    "duration": 42,
    "start_time": "2022-07-08T23:49:35.061Z"
   },
   {
    "duration": 28,
    "start_time": "2022-07-08T23:49:48.697Z"
   },
   {
    "duration": 26,
    "start_time": "2022-07-08T23:53:24.389Z"
   },
   {
    "duration": 27,
    "start_time": "2022-07-08T23:53:40.017Z"
   },
   {
    "duration": 128,
    "start_time": "2022-07-08T23:58:51.915Z"
   },
   {
    "duration": 1396,
    "start_time": "2022-07-09T00:00:36.960Z"
   },
   {
    "duration": 661,
    "start_time": "2022-07-09T00:00:38.357Z"
   },
   {
    "duration": 23,
    "start_time": "2022-07-09T00:00:39.020Z"
   },
   {
    "duration": 19,
    "start_time": "2022-07-09T00:00:39.045Z"
   },
   {
    "duration": 37,
    "start_time": "2022-07-09T00:00:39.065Z"
   },
   {
    "duration": 4,
    "start_time": "2022-07-09T00:00:39.104Z"
   },
   {
    "duration": 6,
    "start_time": "2022-07-09T00:00:39.110Z"
   },
   {
    "duration": 7,
    "start_time": "2022-07-09T00:00:39.117Z"
   },
   {
    "duration": 221,
    "start_time": "2022-07-09T00:00:39.125Z"
   },
   {
    "duration": 5,
    "start_time": "2022-07-09T00:00:39.349Z"
   },
   {
    "duration": 16,
    "start_time": "2022-07-09T00:00:39.355Z"
   },
   {
    "duration": 156,
    "start_time": "2022-07-09T00:00:39.373Z"
   },
   {
    "duration": 27,
    "start_time": "2022-07-09T00:00:39.531Z"
   },
   {
    "duration": 115,
    "start_time": "2022-07-09T00:00:39.560Z"
   },
   {
    "duration": 13,
    "start_time": "2022-07-09T00:00:39.677Z"
   },
   {
    "duration": 15,
    "start_time": "2022-07-09T00:00:39.691Z"
   },
   {
    "duration": 16,
    "start_time": "2022-07-09T00:00:39.708Z"
   },
   {
    "duration": 27,
    "start_time": "2022-07-09T00:00:39.725Z"
   },
   {
    "duration": 12,
    "start_time": "2022-07-09T00:00:39.753Z"
   },
   {
    "duration": 36,
    "start_time": "2022-07-09T00:00:39.766Z"
   },
   {
    "duration": 11,
    "start_time": "2022-07-09T00:00:39.804Z"
   },
   {
    "duration": 15,
    "start_time": "2022-07-09T00:00:39.816Z"
   },
   {
    "duration": 3,
    "start_time": "2022-07-09T00:00:39.833Z"
   },
   {
    "duration": 287,
    "start_time": "2022-07-09T00:00:39.837Z"
   },
   {
    "duration": 222,
    "start_time": "2022-07-09T00:00:40.126Z"
   },
   {
    "duration": 236,
    "start_time": "2022-07-09T00:00:40.350Z"
   },
   {
    "duration": 13,
    "start_time": "2022-07-09T00:00:40.588Z"
   },
   {
    "duration": 305,
    "start_time": "2022-07-09T00:00:40.604Z"
   },
   {
    "duration": 211,
    "start_time": "2022-07-09T00:00:40.911Z"
   },
   {
    "duration": 228,
    "start_time": "2022-07-09T00:00:41.124Z"
   },
   {
    "duration": 76,
    "start_time": "2022-07-09T00:00:41.354Z"
   },
   {
    "duration": 4,
    "start_time": "2022-07-09T00:00:41.432Z"
   },
   {
    "duration": 26,
    "start_time": "2022-07-09T00:00:41.438Z"
   },
   {
    "duration": 36,
    "start_time": "2022-07-09T00:00:41.465Z"
   },
   {
    "duration": 14,
    "start_time": "2022-07-09T00:00:41.503Z"
   },
   {
    "duration": 55,
    "start_time": "2022-07-09T00:00:41.518Z"
   },
   {
    "duration": 102,
    "start_time": "2022-07-09T00:00:41.574Z"
   },
   {
    "duration": 0,
    "start_time": "2022-07-09T00:00:41.677Z"
   },
   {
    "duration": 0,
    "start_time": "2022-07-09T00:00:41.678Z"
   },
   {
    "duration": 0,
    "start_time": "2022-07-09T00:00:41.679Z"
   },
   {
    "duration": 0,
    "start_time": "2022-07-09T00:00:41.680Z"
   },
   {
    "duration": 0,
    "start_time": "2022-07-09T00:00:41.681Z"
   },
   {
    "duration": 0,
    "start_time": "2022-07-09T00:00:41.683Z"
   },
   {
    "duration": 0,
    "start_time": "2022-07-09T00:00:41.684Z"
   },
   {
    "duration": 47,
    "start_time": "2022-07-09T00:10:29.892Z"
   },
   {
    "duration": 66,
    "start_time": "2022-07-09T00:10:34.907Z"
   },
   {
    "duration": 47,
    "start_time": "2022-07-09T00:10:41.308Z"
   },
   {
    "duration": 13,
    "start_time": "2022-07-09T00:13:14.575Z"
   },
   {
    "duration": 25,
    "start_time": "2022-07-09T00:13:22.320Z"
   },
   {
    "duration": 31,
    "start_time": "2022-07-09T00:23:23.890Z"
   },
   {
    "duration": 14,
    "start_time": "2022-07-09T00:24:21.371Z"
   },
   {
    "duration": 1372,
    "start_time": "2022-07-09T00:24:47.400Z"
   },
   {
    "duration": 679,
    "start_time": "2022-07-09T00:24:48.774Z"
   },
   {
    "duration": 25,
    "start_time": "2022-07-09T00:24:49.454Z"
   },
   {
    "duration": 33,
    "start_time": "2022-07-09T00:24:49.481Z"
   },
   {
    "duration": 25,
    "start_time": "2022-07-09T00:24:49.516Z"
   },
   {
    "duration": 5,
    "start_time": "2022-07-09T00:24:49.543Z"
   },
   {
    "duration": 7,
    "start_time": "2022-07-09T00:24:49.549Z"
   },
   {
    "duration": 9,
    "start_time": "2022-07-09T00:24:49.557Z"
   },
   {
    "duration": 235,
    "start_time": "2022-07-09T00:24:49.568Z"
   },
   {
    "duration": 6,
    "start_time": "2022-07-09T00:24:49.806Z"
   },
   {
    "duration": 21,
    "start_time": "2022-07-09T00:24:49.813Z"
   },
   {
    "duration": 138,
    "start_time": "2022-07-09T00:24:49.836Z"
   },
   {
    "duration": 34,
    "start_time": "2022-07-09T00:24:49.976Z"
   },
   {
    "duration": 113,
    "start_time": "2022-07-09T00:24:50.012Z"
   },
   {
    "duration": 14,
    "start_time": "2022-07-09T00:24:50.126Z"
   },
   {
    "duration": 11,
    "start_time": "2022-07-09T00:24:50.141Z"
   },
   {
    "duration": 15,
    "start_time": "2022-07-09T00:24:50.153Z"
   },
   {
    "duration": 54,
    "start_time": "2022-07-09T00:24:50.169Z"
   },
   {
    "duration": 12,
    "start_time": "2022-07-09T00:24:50.225Z"
   },
   {
    "duration": 15,
    "start_time": "2022-07-09T00:24:50.239Z"
   },
   {
    "duration": 11,
    "start_time": "2022-07-09T00:24:50.255Z"
   },
   {
    "duration": 52,
    "start_time": "2022-07-09T00:24:50.268Z"
   },
   {
    "duration": 4,
    "start_time": "2022-07-09T00:24:50.322Z"
   },
   {
    "duration": 288,
    "start_time": "2022-07-09T00:24:50.328Z"
   },
   {
    "duration": 248,
    "start_time": "2022-07-09T00:24:50.618Z"
   },
   {
    "duration": 245,
    "start_time": "2022-07-09T00:24:50.868Z"
   },
   {
    "duration": 6,
    "start_time": "2022-07-09T00:24:51.115Z"
   },
   {
    "duration": 338,
    "start_time": "2022-07-09T00:24:51.124Z"
   },
   {
    "duration": 236,
    "start_time": "2022-07-09T00:24:51.464Z"
   },
   {
    "duration": 256,
    "start_time": "2022-07-09T00:24:51.702Z"
   },
   {
    "duration": 83,
    "start_time": "2022-07-09T00:24:51.960Z"
   },
   {
    "duration": 56,
    "start_time": "2022-07-09T00:24:52.045Z"
   },
   {
    "duration": 3,
    "start_time": "2022-07-09T00:24:52.103Z"
   },
   {
    "duration": 11,
    "start_time": "2022-07-09T00:24:52.108Z"
   },
   {
    "duration": 24,
    "start_time": "2022-07-09T00:24:52.120Z"
   },
   {
    "duration": 26,
    "start_time": "2022-07-09T00:24:52.146Z"
   },
   {
    "duration": 112,
    "start_time": "2022-07-09T00:24:52.174Z"
   },
   {
    "duration": 0,
    "start_time": "2022-07-09T00:24:52.288Z"
   },
   {
    "duration": 0,
    "start_time": "2022-07-09T00:24:52.288Z"
   },
   {
    "duration": 0,
    "start_time": "2022-07-09T00:24:52.289Z"
   },
   {
    "duration": 0,
    "start_time": "2022-07-09T00:24:52.291Z"
   },
   {
    "duration": 0,
    "start_time": "2022-07-09T00:24:52.292Z"
   },
   {
    "duration": 0,
    "start_time": "2022-07-09T00:24:52.301Z"
   },
   {
    "duration": 0,
    "start_time": "2022-07-09T00:24:52.302Z"
   },
   {
    "duration": 0,
    "start_time": "2022-07-09T00:24:52.303Z"
   },
   {
    "duration": 31,
    "start_time": "2022-07-09T00:25:31.921Z"
   },
   {
    "duration": 14,
    "start_time": "2022-07-09T00:25:34.263Z"
   },
   {
    "duration": 21,
    "start_time": "2022-07-09T00:25:40.905Z"
   },
   {
    "duration": 18,
    "start_time": "2022-07-09T00:25:43.618Z"
   },
   {
    "duration": 1383,
    "start_time": "2022-07-09T00:25:49.966Z"
   },
   {
    "duration": 669,
    "start_time": "2022-07-09T00:25:51.352Z"
   },
   {
    "duration": 28,
    "start_time": "2022-07-09T00:25:52.023Z"
   },
   {
    "duration": 23,
    "start_time": "2022-07-09T00:25:52.053Z"
   },
   {
    "duration": 20,
    "start_time": "2022-07-09T00:25:52.103Z"
   },
   {
    "duration": 6,
    "start_time": "2022-07-09T00:25:52.125Z"
   },
   {
    "duration": 6,
    "start_time": "2022-07-09T00:25:52.133Z"
   },
   {
    "duration": 14,
    "start_time": "2022-07-09T00:25:52.141Z"
   },
   {
    "duration": 227,
    "start_time": "2022-07-09T00:25:52.156Z"
   },
   {
    "duration": 5,
    "start_time": "2022-07-09T00:25:52.385Z"
   },
   {
    "duration": 23,
    "start_time": "2022-07-09T00:25:52.392Z"
   },
   {
    "duration": 136,
    "start_time": "2022-07-09T00:25:52.417Z"
   },
   {
    "duration": 22,
    "start_time": "2022-07-09T00:25:52.554Z"
   },
   {
    "duration": 112,
    "start_time": "2022-07-09T00:25:52.579Z"
   },
   {
    "duration": 18,
    "start_time": "2022-07-09T00:25:52.693Z"
   },
   {
    "duration": 15,
    "start_time": "2022-07-09T00:25:52.713Z"
   },
   {
    "duration": 19,
    "start_time": "2022-07-09T00:25:52.730Z"
   },
   {
    "duration": 27,
    "start_time": "2022-07-09T00:25:52.750Z"
   },
   {
    "duration": 29,
    "start_time": "2022-07-09T00:25:52.779Z"
   },
   {
    "duration": 15,
    "start_time": "2022-07-09T00:25:52.810Z"
   },
   {
    "duration": 12,
    "start_time": "2022-07-09T00:25:52.827Z"
   },
   {
    "duration": 15,
    "start_time": "2022-07-09T00:25:52.840Z"
   },
   {
    "duration": 3,
    "start_time": "2022-07-09T00:25:52.856Z"
   },
   {
    "duration": 295,
    "start_time": "2022-07-09T00:25:52.861Z"
   },
   {
    "duration": 216,
    "start_time": "2022-07-09T00:25:53.158Z"
   },
   {
    "duration": 226,
    "start_time": "2022-07-09T00:25:53.375Z"
   },
   {
    "duration": 5,
    "start_time": "2022-07-09T00:25:53.602Z"
   },
   {
    "duration": 326,
    "start_time": "2022-07-09T00:25:53.608Z"
   },
   {
    "duration": 230,
    "start_time": "2022-07-09T00:25:53.935Z"
   },
   {
    "duration": 229,
    "start_time": "2022-07-09T00:25:54.166Z"
   },
   {
    "duration": 68,
    "start_time": "2022-07-09T00:25:54.400Z"
   },
   {
    "duration": 53,
    "start_time": "2022-07-09T00:25:54.470Z"
   },
   {
    "duration": 4,
    "start_time": "2022-07-09T00:25:54.525Z"
   },
   {
    "duration": 10,
    "start_time": "2022-07-09T00:25:54.530Z"
   },
   {
    "duration": 24,
    "start_time": "2022-07-09T00:25:54.542Z"
   },
   {
    "duration": 14,
    "start_time": "2022-07-09T00:25:54.568Z"
   },
   {
    "duration": 38,
    "start_time": "2022-07-09T00:25:54.584Z"
   },
   {
    "duration": 14,
    "start_time": "2022-07-09T00:25:54.624Z"
   },
   {
    "duration": 261,
    "start_time": "2022-07-09T00:25:54.640Z"
   },
   {
    "duration": 18,
    "start_time": "2022-07-09T00:25:54.902Z"
   },
   {
    "duration": 101,
    "start_time": "2022-07-09T00:25:55.006Z"
   },
   {
    "duration": 120,
    "start_time": "2022-07-09T00:25:55.108Z"
   },
   {
    "duration": 0,
    "start_time": "2022-07-09T00:25:55.229Z"
   },
   {
    "duration": 0,
    "start_time": "2022-07-09T00:25:55.231Z"
   },
   {
    "duration": 0,
    "start_time": "2022-07-09T00:25:55.232Z"
   },
   {
    "duration": 1580,
    "start_time": "2022-07-09T08:57:42.520Z"
   },
   {
    "duration": 1658,
    "start_time": "2022-07-09T08:57:44.102Z"
   },
   {
    "duration": 26,
    "start_time": "2022-07-09T08:57:45.762Z"
   },
   {
    "duration": 19,
    "start_time": "2022-07-09T08:57:45.791Z"
   },
   {
    "duration": 21,
    "start_time": "2022-07-09T08:57:45.812Z"
   },
   {
    "duration": 29,
    "start_time": "2022-07-09T08:57:45.835Z"
   },
   {
    "duration": 4,
    "start_time": "2022-07-09T08:57:45.866Z"
   },
   {
    "duration": 10,
    "start_time": "2022-07-09T08:57:45.871Z"
   },
   {
    "duration": 244,
    "start_time": "2022-07-09T08:57:45.882Z"
   },
   {
    "duration": 5,
    "start_time": "2022-07-09T08:57:46.128Z"
   },
   {
    "duration": 15,
    "start_time": "2022-07-09T08:57:46.135Z"
   },
   {
    "duration": 161,
    "start_time": "2022-07-09T08:57:46.151Z"
   },
   {
    "duration": 25,
    "start_time": "2022-07-09T08:57:46.313Z"
   },
   {
    "duration": 125,
    "start_time": "2022-07-09T08:57:46.339Z"
   },
   {
    "duration": 16,
    "start_time": "2022-07-09T08:57:46.471Z"
   },
   {
    "duration": 9,
    "start_time": "2022-07-09T08:57:46.488Z"
   },
   {
    "duration": 14,
    "start_time": "2022-07-09T08:57:46.499Z"
   },
   {
    "duration": 26,
    "start_time": "2022-07-09T08:57:46.514Z"
   },
   {
    "duration": 20,
    "start_time": "2022-07-09T08:57:46.564Z"
   },
   {
    "duration": 15,
    "start_time": "2022-07-09T08:57:46.586Z"
   },
   {
    "duration": 10,
    "start_time": "2022-07-09T08:57:46.602Z"
   },
   {
    "duration": 15,
    "start_time": "2022-07-09T08:57:46.614Z"
   },
   {
    "duration": 4,
    "start_time": "2022-07-09T08:57:46.630Z"
   },
   {
    "duration": 285,
    "start_time": "2022-07-09T08:57:46.663Z"
   },
   {
    "duration": 241,
    "start_time": "2022-07-09T08:57:46.950Z"
   },
   {
    "duration": 254,
    "start_time": "2022-07-09T08:57:47.193Z"
   },
   {
    "duration": 17,
    "start_time": "2022-07-09T08:57:47.449Z"
   },
   {
    "duration": 333,
    "start_time": "2022-07-09T08:57:47.472Z"
   },
   {
    "duration": 271,
    "start_time": "2022-07-09T08:57:47.808Z"
   },
   {
    "duration": 259,
    "start_time": "2022-07-09T08:57:48.082Z"
   },
   {
    "duration": 80,
    "start_time": "2022-07-09T08:57:48.343Z"
   },
   {
    "duration": 61,
    "start_time": "2022-07-09T08:57:48.424Z"
   },
   {
    "duration": 4,
    "start_time": "2022-07-09T08:57:48.486Z"
   },
   {
    "duration": 10,
    "start_time": "2022-07-09T08:57:48.491Z"
   },
   {
    "duration": 18,
    "start_time": "2022-07-09T08:57:48.502Z"
   },
   {
    "duration": 9,
    "start_time": "2022-07-09T08:57:48.522Z"
   },
   {
    "duration": 43,
    "start_time": "2022-07-09T08:57:48.533Z"
   },
   {
    "duration": 15,
    "start_time": "2022-07-09T08:57:48.578Z"
   },
   {
    "duration": 281,
    "start_time": "2022-07-09T08:57:48.595Z"
   },
   {
    "duration": 109,
    "start_time": "2022-07-09T08:57:48.965Z"
   },
   {
    "duration": 189,
    "start_time": "2022-07-09T08:57:49.076Z"
   },
   {
    "duration": 130,
    "start_time": "2022-07-09T08:57:49.268Z"
   },
   {
    "duration": 0,
    "start_time": "2022-07-09T08:57:49.400Z"
   },
   {
    "duration": 0,
    "start_time": "2022-07-09T08:57:49.401Z"
   },
   {
    "duration": 0,
    "start_time": "2022-07-09T08:57:49.403Z"
   },
   {
    "duration": 1426,
    "start_time": "2022-07-09T09:43:58.815Z"
   },
   {
    "duration": 751,
    "start_time": "2022-07-09T09:44:00.243Z"
   },
   {
    "duration": 25,
    "start_time": "2022-07-09T09:44:00.996Z"
   },
   {
    "duration": 22,
    "start_time": "2022-07-09T09:44:01.024Z"
   },
   {
    "duration": 28,
    "start_time": "2022-07-09T09:44:01.066Z"
   },
   {
    "duration": 36,
    "start_time": "2022-07-09T09:44:01.097Z"
   },
   {
    "duration": 17,
    "start_time": "2022-07-09T09:44:01.135Z"
   },
   {
    "duration": 43,
    "start_time": "2022-07-09T09:44:01.154Z"
   },
   {
    "duration": 267,
    "start_time": "2022-07-09T09:44:01.199Z"
   },
   {
    "duration": 7,
    "start_time": "2022-07-09T09:44:01.469Z"
   },
   {
    "duration": 60,
    "start_time": "2022-07-09T09:44:01.478Z"
   },
   {
    "duration": 175,
    "start_time": "2022-07-09T09:44:01.540Z"
   },
   {
    "duration": 25,
    "start_time": "2022-07-09T09:44:01.716Z"
   },
   {
    "duration": 130,
    "start_time": "2022-07-09T09:44:01.743Z"
   },
   {
    "duration": 19,
    "start_time": "2022-07-09T09:44:01.876Z"
   },
   {
    "duration": 50,
    "start_time": "2022-07-09T09:44:01.897Z"
   },
   {
    "duration": 62,
    "start_time": "2022-07-09T09:44:01.950Z"
   },
   {
    "duration": 32,
    "start_time": "2022-07-09T09:44:02.014Z"
   },
   {
    "duration": 16,
    "start_time": "2022-07-09T09:44:02.047Z"
   },
   {
    "duration": 50,
    "start_time": "2022-07-09T09:44:02.065Z"
   },
   {
    "duration": 45,
    "start_time": "2022-07-09T09:44:02.117Z"
   },
   {
    "duration": 86,
    "start_time": "2022-07-09T09:44:02.164Z"
   },
   {
    "duration": 7,
    "start_time": "2022-07-09T09:44:02.252Z"
   },
   {
    "duration": 379,
    "start_time": "2022-07-09T09:44:02.260Z"
   },
   {
    "duration": 386,
    "start_time": "2022-07-09T09:44:02.641Z"
   },
   {
    "duration": 251,
    "start_time": "2022-07-09T09:44:03.029Z"
   },
   {
    "duration": 6,
    "start_time": "2022-07-09T09:44:03.282Z"
   },
   {
    "duration": 391,
    "start_time": "2022-07-09T09:44:03.291Z"
   },
   {
    "duration": 312,
    "start_time": "2022-07-09T09:44:03.684Z"
   },
   {
    "duration": 285,
    "start_time": "2022-07-09T09:44:03.998Z"
   },
   {
    "duration": 70,
    "start_time": "2022-07-09T09:44:04.285Z"
   },
   {
    "duration": 47,
    "start_time": "2022-07-09T09:44:04.356Z"
   },
   {
    "duration": 4,
    "start_time": "2022-07-09T09:44:04.405Z"
   },
   {
    "duration": 13,
    "start_time": "2022-07-09T09:44:04.411Z"
   },
   {
    "duration": 25,
    "start_time": "2022-07-09T09:44:04.427Z"
   },
   {
    "duration": 16,
    "start_time": "2022-07-09T09:44:04.454Z"
   },
   {
    "duration": 43,
    "start_time": "2022-07-09T09:44:04.472Z"
   },
   {
    "duration": 19,
    "start_time": "2022-07-09T09:44:04.517Z"
   },
   {
    "duration": 427,
    "start_time": "2022-07-09T09:44:04.538Z"
   },
   {
    "duration": 298,
    "start_time": "2022-07-09T09:44:04.967Z"
   },
   {
    "duration": 10,
    "start_time": "2022-07-09T09:44:05.267Z"
   },
   {
    "duration": 182,
    "start_time": "2022-07-09T09:44:05.363Z"
   },
   {
    "duration": 0,
    "start_time": "2022-07-09T09:44:05.548Z"
   },
   {
    "duration": 0,
    "start_time": "2022-07-09T09:44:05.550Z"
   },
   {
    "duration": 0,
    "start_time": "2022-07-09T09:44:05.551Z"
   },
   {
    "duration": 1677,
    "start_time": "2022-07-09T10:26:23.458Z"
   },
   {
    "duration": 1477,
    "start_time": "2022-07-09T10:26:25.137Z"
   },
   {
    "duration": 24,
    "start_time": "2022-07-09T10:26:26.616Z"
   },
   {
    "duration": 22,
    "start_time": "2022-07-09T10:26:26.642Z"
   },
   {
    "duration": 33,
    "start_time": "2022-07-09T10:26:26.666Z"
   },
   {
    "duration": 6,
    "start_time": "2022-07-09T10:26:26.701Z"
   },
   {
    "duration": 6,
    "start_time": "2022-07-09T10:26:26.709Z"
   },
   {
    "duration": 6,
    "start_time": "2022-07-09T10:26:26.717Z"
   },
   {
    "duration": 251,
    "start_time": "2022-07-09T10:26:26.725Z"
   },
   {
    "duration": 6,
    "start_time": "2022-07-09T10:26:26.984Z"
   },
   {
    "duration": 18,
    "start_time": "2022-07-09T10:26:26.992Z"
   },
   {
    "duration": 157,
    "start_time": "2022-07-09T10:26:27.012Z"
   },
   {
    "duration": 34,
    "start_time": "2022-07-09T10:26:27.172Z"
   },
   {
    "duration": 122,
    "start_time": "2022-07-09T10:26:27.208Z"
   },
   {
    "duration": 14,
    "start_time": "2022-07-09T10:26:27.332Z"
   },
   {
    "duration": 32,
    "start_time": "2022-07-09T10:26:27.348Z"
   },
   {
    "duration": 18,
    "start_time": "2022-07-09T10:26:27.383Z"
   },
   {
    "duration": 67,
    "start_time": "2022-07-09T10:26:27.402Z"
   },
   {
    "duration": 26,
    "start_time": "2022-07-09T10:26:27.472Z"
   },
   {
    "duration": 15,
    "start_time": "2022-07-09T10:26:27.499Z"
   },
   {
    "duration": 20,
    "start_time": "2022-07-09T10:26:27.516Z"
   },
   {
    "duration": 37,
    "start_time": "2022-07-09T10:26:27.537Z"
   },
   {
    "duration": 5,
    "start_time": "2022-07-09T10:26:27.575Z"
   },
   {
    "duration": 303,
    "start_time": "2022-07-09T10:26:27.581Z"
   },
   {
    "duration": 259,
    "start_time": "2022-07-09T10:26:27.887Z"
   },
   {
    "duration": 282,
    "start_time": "2022-07-09T10:26:28.147Z"
   },
   {
    "duration": 8,
    "start_time": "2022-07-09T10:26:28.431Z"
   },
   {
    "duration": 369,
    "start_time": "2022-07-09T10:26:28.444Z"
   },
   {
    "duration": 273,
    "start_time": "2022-07-09T10:26:28.814Z"
   },
   {
    "duration": 256,
    "start_time": "2022-07-09T10:26:29.089Z"
   },
   {
    "duration": 88,
    "start_time": "2022-07-09T10:26:29.346Z"
   },
   {
    "duration": 67,
    "start_time": "2022-07-09T10:26:29.436Z"
   },
   {
    "duration": 6,
    "start_time": "2022-07-09T10:26:29.505Z"
   },
   {
    "duration": 9,
    "start_time": "2022-07-09T10:26:29.513Z"
   },
   {
    "duration": 16,
    "start_time": "2022-07-09T10:26:29.525Z"
   },
   {
    "duration": 11,
    "start_time": "2022-07-09T10:26:29.544Z"
   },
   {
    "duration": 56,
    "start_time": "2022-07-09T10:26:29.563Z"
   },
   {
    "duration": 20,
    "start_time": "2022-07-09T10:26:29.621Z"
   },
   {
    "duration": 751,
    "start_time": "2022-07-09T10:26:29.642Z"
   },
   {
    "duration": 605,
    "start_time": "2022-07-09T10:26:30.465Z"
   },
   {
    "duration": 91,
    "start_time": "2022-07-09T10:26:31.091Z"
   },
   {
    "duration": 215,
    "start_time": "2022-07-09T10:26:31.184Z"
   },
   {
    "duration": 0,
    "start_time": "2022-07-09T10:26:31.401Z"
   },
   {
    "duration": 0,
    "start_time": "2022-07-09T10:26:31.402Z"
   },
   {
    "duration": 0,
    "start_time": "2022-07-09T10:26:31.403Z"
   },
   {
    "duration": 1559,
    "start_time": "2022-07-09T13:26:05.658Z"
   },
   {
    "duration": 3423,
    "start_time": "2022-07-09T13:26:07.219Z"
   },
   {
    "duration": 26,
    "start_time": "2022-07-09T13:26:10.643Z"
   },
   {
    "duration": 20,
    "start_time": "2022-07-09T13:26:10.672Z"
   },
   {
    "duration": 23,
    "start_time": "2022-07-09T13:26:10.695Z"
   },
   {
    "duration": 7,
    "start_time": "2022-07-09T13:26:10.720Z"
   },
   {
    "duration": 5,
    "start_time": "2022-07-09T13:26:10.728Z"
   },
   {
    "duration": 8,
    "start_time": "2022-07-09T13:26:10.735Z"
   },
   {
    "duration": 233,
    "start_time": "2022-07-09T13:26:10.745Z"
   },
   {
    "duration": 6,
    "start_time": "2022-07-09T13:26:10.980Z"
   },
   {
    "duration": 28,
    "start_time": "2022-07-09T13:26:10.988Z"
   },
   {
    "duration": 129,
    "start_time": "2022-07-09T13:26:11.018Z"
   },
   {
    "duration": 25,
    "start_time": "2022-07-09T13:26:11.149Z"
   },
   {
    "duration": 128,
    "start_time": "2022-07-09T13:26:11.178Z"
   },
   {
    "duration": 16,
    "start_time": "2022-07-09T13:26:11.308Z"
   },
   {
    "duration": 12,
    "start_time": "2022-07-09T13:26:11.326Z"
   },
   {
    "duration": 16,
    "start_time": "2022-07-09T13:26:11.340Z"
   },
   {
    "duration": 67,
    "start_time": "2022-07-09T13:26:11.358Z"
   },
   {
    "duration": 14,
    "start_time": "2022-07-09T13:26:11.427Z"
   },
   {
    "duration": 17,
    "start_time": "2022-07-09T13:26:11.442Z"
   },
   {
    "duration": 13,
    "start_time": "2022-07-09T13:26:11.461Z"
   },
   {
    "duration": 19,
    "start_time": "2022-07-09T13:26:11.505Z"
   },
   {
    "duration": 4,
    "start_time": "2022-07-09T13:26:11.526Z"
   },
   {
    "duration": 317,
    "start_time": "2022-07-09T13:26:11.532Z"
   },
   {
    "duration": 244,
    "start_time": "2022-07-09T13:26:11.852Z"
   },
   {
    "duration": 248,
    "start_time": "2022-07-09T13:26:12.098Z"
   },
   {
    "duration": 7,
    "start_time": "2022-07-09T13:26:12.348Z"
   },
   {
    "duration": 337,
    "start_time": "2022-07-09T13:26:12.356Z"
   },
   {
    "duration": 240,
    "start_time": "2022-07-09T13:26:12.695Z"
   },
   {
    "duration": 255,
    "start_time": "2022-07-09T13:26:12.937Z"
   },
   {
    "duration": 73,
    "start_time": "2022-07-09T13:26:13.194Z"
   },
   {
    "duration": 58,
    "start_time": "2022-07-09T13:26:13.269Z"
   },
   {
    "duration": 3,
    "start_time": "2022-07-09T13:26:13.329Z"
   },
   {
    "duration": 8,
    "start_time": "2022-07-09T13:26:13.334Z"
   },
   {
    "duration": 14,
    "start_time": "2022-07-09T13:26:13.344Z"
   },
   {
    "duration": 3,
    "start_time": "2022-07-09T13:26:13.360Z"
   },
   {
    "duration": 48,
    "start_time": "2022-07-09T13:26:13.365Z"
   },
   {
    "duration": 15,
    "start_time": "2022-07-09T13:26:13.415Z"
   },
   {
    "duration": 173,
    "start_time": "2022-07-09T13:26:13.432Z"
   },
   {
    "duration": 297,
    "start_time": "2022-07-09T13:26:13.607Z"
   },
   {
    "duration": 7,
    "start_time": "2022-07-09T13:26:13.908Z"
   },
   {
    "duration": 158,
    "start_time": "2022-07-09T13:26:13.917Z"
   },
   {
    "duration": 0,
    "start_time": "2022-07-09T13:26:14.077Z"
   },
   {
    "duration": 0,
    "start_time": "2022-07-09T13:26:14.078Z"
   },
   {
    "duration": 0,
    "start_time": "2022-07-09T13:26:14.079Z"
   },
   {
    "duration": 11,
    "start_time": "2022-07-09T14:53:58.813Z"
   },
   {
    "duration": 1350,
    "start_time": "2022-07-09T14:54:43.047Z"
   },
   {
    "duration": 706,
    "start_time": "2022-07-09T14:54:44.399Z"
   },
   {
    "duration": 25,
    "start_time": "2022-07-09T14:54:45.107Z"
   },
   {
    "duration": 21,
    "start_time": "2022-07-09T14:54:45.134Z"
   },
   {
    "duration": 24,
    "start_time": "2022-07-09T14:54:45.156Z"
   },
   {
    "duration": 26,
    "start_time": "2022-07-09T14:54:45.181Z"
   },
   {
    "duration": 9,
    "start_time": "2022-07-09T14:54:45.208Z"
   },
   {
    "duration": 16,
    "start_time": "2022-07-09T14:54:45.218Z"
   },
   {
    "duration": 232,
    "start_time": "2022-07-09T14:54:45.236Z"
   },
   {
    "duration": 5,
    "start_time": "2022-07-09T14:54:45.471Z"
   },
   {
    "duration": 26,
    "start_time": "2022-07-09T14:54:45.478Z"
   },
   {
    "duration": 134,
    "start_time": "2022-07-09T14:54:45.506Z"
   },
   {
    "duration": 22,
    "start_time": "2022-07-09T14:54:45.642Z"
   },
   {
    "duration": 113,
    "start_time": "2022-07-09T14:54:45.666Z"
   },
   {
    "duration": 24,
    "start_time": "2022-07-09T14:54:45.781Z"
   },
   {
    "duration": 12,
    "start_time": "2022-07-09T14:54:45.806Z"
   },
   {
    "duration": 16,
    "start_time": "2022-07-09T14:54:45.819Z"
   },
   {
    "duration": 30,
    "start_time": "2022-07-09T14:54:45.836Z"
   },
   {
    "duration": 46,
    "start_time": "2022-07-09T14:54:45.868Z"
   },
   {
    "duration": 18,
    "start_time": "2022-07-09T14:54:45.916Z"
   },
   {
    "duration": 14,
    "start_time": "2022-07-09T14:54:45.936Z"
   },
   {
    "duration": 18,
    "start_time": "2022-07-09T14:54:45.952Z"
   },
   {
    "duration": 32,
    "start_time": "2022-07-09T14:54:45.973Z"
   },
   {
    "duration": 306,
    "start_time": "2022-07-09T14:54:46.007Z"
   },
   {
    "duration": 261,
    "start_time": "2022-07-09T14:54:46.315Z"
   },
   {
    "duration": 277,
    "start_time": "2022-07-09T14:54:46.578Z"
   },
   {
    "duration": 6,
    "start_time": "2022-07-09T14:54:46.856Z"
   },
   {
    "duration": 322,
    "start_time": "2022-07-09T14:54:46.865Z"
   },
   {
    "duration": 233,
    "start_time": "2022-07-09T14:54:47.189Z"
   },
   {
    "duration": 242,
    "start_time": "2022-07-09T14:54:47.424Z"
   },
   {
    "duration": 80,
    "start_time": "2022-07-09T14:54:47.668Z"
   },
   {
    "duration": 40,
    "start_time": "2022-07-09T14:54:47.749Z"
   },
   {
    "duration": 13,
    "start_time": "2022-07-09T14:54:47.791Z"
   },
   {
    "duration": 107,
    "start_time": "2022-07-09T14:54:47.805Z"
   },
   {
    "duration": 0,
    "start_time": "2022-07-09T14:54:47.914Z"
   },
   {
    "duration": 0,
    "start_time": "2022-07-09T14:54:47.915Z"
   },
   {
    "duration": 0,
    "start_time": "2022-07-09T14:54:47.916Z"
   },
   {
    "duration": 0,
    "start_time": "2022-07-09T14:54:47.917Z"
   },
   {
    "duration": 0,
    "start_time": "2022-07-09T14:54:47.918Z"
   },
   {
    "duration": 0,
    "start_time": "2022-07-09T14:54:47.919Z"
   },
   {
    "duration": 0,
    "start_time": "2022-07-09T14:54:47.920Z"
   },
   {
    "duration": 0,
    "start_time": "2022-07-09T14:54:47.921Z"
   },
   {
    "duration": 0,
    "start_time": "2022-07-09T14:54:47.922Z"
   },
   {
    "duration": 0,
    "start_time": "2022-07-09T14:54:47.923Z"
   },
   {
    "duration": 0,
    "start_time": "2022-07-09T14:54:47.924Z"
   },
   {
    "duration": 0,
    "start_time": "2022-07-09T14:54:47.925Z"
   },
   {
    "duration": 10,
    "start_time": "2022-07-09T14:55:25.999Z"
   },
   {
    "duration": 10,
    "start_time": "2022-07-09T14:55:46.169Z"
   },
   {
    "duration": 4,
    "start_time": "2022-07-09T14:55:53.629Z"
   },
   {
    "duration": 2,
    "start_time": "2022-07-09T14:55:58.694Z"
   },
   {
    "duration": 4,
    "start_time": "2022-07-09T14:56:03.139Z"
   },
   {
    "duration": 1361,
    "start_time": "2022-07-09T14:56:30.243Z"
   },
   {
    "duration": 697,
    "start_time": "2022-07-09T14:56:31.607Z"
   },
   {
    "duration": 27,
    "start_time": "2022-07-09T14:56:32.306Z"
   },
   {
    "duration": 21,
    "start_time": "2022-07-09T14:56:32.335Z"
   },
   {
    "duration": 46,
    "start_time": "2022-07-09T14:56:32.358Z"
   },
   {
    "duration": 5,
    "start_time": "2022-07-09T14:56:32.406Z"
   },
   {
    "duration": 4,
    "start_time": "2022-07-09T14:56:32.412Z"
   },
   {
    "duration": 7,
    "start_time": "2022-07-09T14:56:32.417Z"
   },
   {
    "duration": 226,
    "start_time": "2022-07-09T14:56:32.425Z"
   },
   {
    "duration": 5,
    "start_time": "2022-07-09T14:56:32.653Z"
   },
   {
    "duration": 24,
    "start_time": "2022-07-09T14:56:32.659Z"
   },
   {
    "duration": 144,
    "start_time": "2022-07-09T14:56:32.685Z"
   },
   {
    "duration": 23,
    "start_time": "2022-07-09T14:56:32.830Z"
   },
   {
    "duration": 109,
    "start_time": "2022-07-09T14:56:32.856Z"
   },
   {
    "duration": 13,
    "start_time": "2022-07-09T14:56:32.966Z"
   },
   {
    "duration": 23,
    "start_time": "2022-07-09T14:56:32.981Z"
   },
   {
    "duration": 14,
    "start_time": "2022-07-09T14:56:33.006Z"
   },
   {
    "duration": 27,
    "start_time": "2022-07-09T14:56:33.022Z"
   },
   {
    "duration": 13,
    "start_time": "2022-07-09T14:56:33.051Z"
   },
   {
    "duration": 43,
    "start_time": "2022-07-09T14:56:33.066Z"
   },
   {
    "duration": 12,
    "start_time": "2022-07-09T14:56:33.111Z"
   },
   {
    "duration": 17,
    "start_time": "2022-07-09T14:56:33.124Z"
   },
   {
    "duration": 3,
    "start_time": "2022-07-09T14:56:33.142Z"
   },
   {
    "duration": 290,
    "start_time": "2022-07-09T14:56:33.147Z"
   },
   {
    "duration": 234,
    "start_time": "2022-07-09T14:56:33.439Z"
   },
   {
    "duration": 260,
    "start_time": "2022-07-09T14:56:33.674Z"
   },
   {
    "duration": 5,
    "start_time": "2022-07-09T14:56:33.936Z"
   },
   {
    "duration": 332,
    "start_time": "2022-07-09T14:56:33.943Z"
   },
   {
    "duration": 238,
    "start_time": "2022-07-09T14:56:34.276Z"
   },
   {
    "duration": 270,
    "start_time": "2022-07-09T14:56:34.516Z"
   },
   {
    "duration": 80,
    "start_time": "2022-07-09T14:56:34.788Z"
   },
   {
    "duration": 58,
    "start_time": "2022-07-09T14:56:34.869Z"
   },
   {
    "duration": 4,
    "start_time": "2022-07-09T14:56:34.928Z"
   },
   {
    "duration": 6,
    "start_time": "2022-07-09T14:56:34.933Z"
   },
   {
    "duration": 5,
    "start_time": "2022-07-09T14:56:34.941Z"
   },
   {
    "duration": 26,
    "start_time": "2022-07-09T14:56:34.948Z"
   },
   {
    "duration": 6,
    "start_time": "2022-07-09T14:56:34.976Z"
   },
   {
    "duration": 43,
    "start_time": "2022-07-09T14:56:34.984Z"
   },
   {
    "duration": 16,
    "start_time": "2022-07-09T14:56:35.029Z"
   },
   {
    "duration": 257,
    "start_time": "2022-07-09T14:56:35.046Z"
   },
   {
    "duration": 298,
    "start_time": "2022-07-09T14:56:35.307Z"
   },
   {
    "duration": 6,
    "start_time": "2022-07-09T14:56:35.609Z"
   },
   {
    "duration": 219,
    "start_time": "2022-07-09T14:56:35.617Z"
   },
   {
    "duration": 0,
    "start_time": "2022-07-09T14:56:35.838Z"
   },
   {
    "duration": 0,
    "start_time": "2022-07-09T14:56:35.839Z"
   },
   {
    "duration": 0,
    "start_time": "2022-07-09T14:56:35.841Z"
   },
   {
    "duration": 1001,
    "start_time": "2022-07-09T15:02:29.505Z"
   },
   {
    "duration": 5,
    "start_time": "2022-07-09T15:02:35.966Z"
   },
   {
    "duration": 1998,
    "start_time": "2022-07-09T15:02:45.113Z"
   },
   {
    "duration": 4,
    "start_time": "2022-07-09T15:02:47.279Z"
   },
   {
    "duration": 4,
    "start_time": "2022-07-09T15:03:13.855Z"
   },
   {
    "duration": 2194,
    "start_time": "2022-07-09T15:03:59.111Z"
   },
   {
    "duration": 4,
    "start_time": "2022-07-09T15:04:07.757Z"
   },
   {
    "duration": 4,
    "start_time": "2022-07-09T15:06:34.437Z"
   },
   {
    "duration": 3,
    "start_time": "2022-07-09T15:06:49.591Z"
   },
   {
    "duration": 9,
    "start_time": "2022-07-09T15:06:55.411Z"
   },
   {
    "duration": 1383,
    "start_time": "2022-07-09T15:07:08.313Z"
   },
   {
    "duration": 691,
    "start_time": "2022-07-09T15:07:09.698Z"
   },
   {
    "duration": 30,
    "start_time": "2022-07-09T15:07:10.391Z"
   },
   {
    "duration": 20,
    "start_time": "2022-07-09T15:07:10.423Z"
   },
   {
    "duration": 20,
    "start_time": "2022-07-09T15:07:10.444Z"
   },
   {
    "duration": 6,
    "start_time": "2022-07-09T15:07:10.465Z"
   },
   {
    "duration": 6,
    "start_time": "2022-07-09T15:07:10.472Z"
   },
   {
    "duration": 5,
    "start_time": "2022-07-09T15:07:10.503Z"
   },
   {
    "duration": 207,
    "start_time": "2022-07-09T15:07:10.510Z"
   },
   {
    "duration": 5,
    "start_time": "2022-07-09T15:07:10.719Z"
   },
   {
    "duration": 17,
    "start_time": "2022-07-09T15:07:10.725Z"
   },
   {
    "duration": 141,
    "start_time": "2022-07-09T15:07:10.744Z"
   },
   {
    "duration": 31,
    "start_time": "2022-07-09T15:07:10.887Z"
   },
   {
    "duration": 115,
    "start_time": "2022-07-09T15:07:10.920Z"
   },
   {
    "duration": 14,
    "start_time": "2022-07-09T15:07:11.037Z"
   },
   {
    "duration": 11,
    "start_time": "2022-07-09T15:07:11.053Z"
   },
   {
    "duration": 40,
    "start_time": "2022-07-09T15:07:11.065Z"
   },
   {
    "duration": 29,
    "start_time": "2022-07-09T15:07:11.107Z"
   },
   {
    "duration": 13,
    "start_time": "2022-07-09T15:07:11.138Z"
   },
   {
    "duration": 16,
    "start_time": "2022-07-09T15:07:11.153Z"
   },
   {
    "duration": 45,
    "start_time": "2022-07-09T15:07:11.171Z"
   },
   {
    "duration": 18,
    "start_time": "2022-07-09T15:07:11.217Z"
   },
   {
    "duration": 3,
    "start_time": "2022-07-09T15:07:11.237Z"
   },
   {
    "duration": 311,
    "start_time": "2022-07-09T15:07:11.242Z"
   },
   {
    "duration": 243,
    "start_time": "2022-07-09T15:07:11.555Z"
   },
   {
    "duration": 261,
    "start_time": "2022-07-09T15:07:11.800Z"
   },
   {
    "duration": 6,
    "start_time": "2022-07-09T15:07:12.063Z"
   },
   {
    "duration": 331,
    "start_time": "2022-07-09T15:07:12.072Z"
   },
   {
    "duration": 236,
    "start_time": "2022-07-09T15:07:12.405Z"
   },
   {
    "duration": 244,
    "start_time": "2022-07-09T15:07:12.643Z"
   },
   {
    "duration": 79,
    "start_time": "2022-07-09T15:07:12.889Z"
   },
   {
    "duration": 49,
    "start_time": "2022-07-09T15:07:12.970Z"
   },
   {
    "duration": 4,
    "start_time": "2022-07-09T15:07:13.021Z"
   },
   {
    "duration": 6,
    "start_time": "2022-07-09T15:07:13.026Z"
   },
   {
    "duration": 7,
    "start_time": "2022-07-09T15:07:13.034Z"
   },
   {
    "duration": 16,
    "start_time": "2022-07-09T15:07:13.043Z"
   },
   {
    "duration": 5,
    "start_time": "2022-07-09T15:07:13.061Z"
   },
   {
    "duration": 48,
    "start_time": "2022-07-09T15:07:13.068Z"
   },
   {
    "duration": 16,
    "start_time": "2022-07-09T15:07:13.117Z"
   },
   {
    "duration": 170,
    "start_time": "2022-07-09T15:07:13.135Z"
   },
   {
    "duration": 2004,
    "start_time": "2022-07-09T15:07:13.307Z"
   },
   {
    "duration": 5,
    "start_time": "2022-07-09T15:07:15.404Z"
   },
   {
    "duration": 198,
    "start_time": "2022-07-09T15:07:15.410Z"
   },
   {
    "duration": 95,
    "start_time": "2022-07-09T15:07:15.611Z"
   },
   {
    "duration": 190,
    "start_time": "2022-07-09T15:07:15.708Z"
   },
   {
    "duration": 0,
    "start_time": "2022-07-09T15:07:15.904Z"
   },
   {
    "duration": 0,
    "start_time": "2022-07-09T15:07:15.905Z"
   },
   {
    "duration": 0,
    "start_time": "2022-07-09T15:07:15.906Z"
   },
   {
    "duration": 2012,
    "start_time": "2022-07-09T15:08:07.799Z"
   },
   {
    "duration": 45,
    "start_time": "2022-07-09T15:12:19.049Z"
   },
   {
    "duration": 1373,
    "start_time": "2022-07-09T15:13:18.380Z"
   },
   {
    "duration": 707,
    "start_time": "2022-07-09T15:13:19.755Z"
   },
   {
    "duration": 26,
    "start_time": "2022-07-09T15:13:20.464Z"
   },
   {
    "duration": 20,
    "start_time": "2022-07-09T15:13:20.505Z"
   },
   {
    "duration": 24,
    "start_time": "2022-07-09T15:13:20.527Z"
   },
   {
    "duration": 6,
    "start_time": "2022-07-09T15:13:20.552Z"
   },
   {
    "duration": 5,
    "start_time": "2022-07-09T15:13:20.560Z"
   },
   {
    "duration": 7,
    "start_time": "2022-07-09T15:13:20.566Z"
   },
   {
    "duration": 238,
    "start_time": "2022-07-09T15:13:20.575Z"
   },
   {
    "duration": 6,
    "start_time": "2022-07-09T15:13:20.815Z"
   },
   {
    "duration": 19,
    "start_time": "2022-07-09T15:13:20.822Z"
   },
   {
    "duration": 144,
    "start_time": "2022-07-09T15:13:20.843Z"
   },
   {
    "duration": 33,
    "start_time": "2022-07-09T15:13:20.988Z"
   },
   {
    "duration": 114,
    "start_time": "2022-07-09T15:13:21.023Z"
   },
   {
    "duration": 15,
    "start_time": "2022-07-09T15:13:21.139Z"
   },
   {
    "duration": 11,
    "start_time": "2022-07-09T15:13:21.156Z"
   },
   {
    "duration": 39,
    "start_time": "2022-07-09T15:13:21.168Z"
   },
   {
    "duration": 30,
    "start_time": "2022-07-09T15:13:21.209Z"
   },
   {
    "duration": 13,
    "start_time": "2022-07-09T15:13:21.240Z"
   },
   {
    "duration": 17,
    "start_time": "2022-07-09T15:13:21.255Z"
   },
   {
    "duration": 39,
    "start_time": "2022-07-09T15:13:21.274Z"
   },
   {
    "duration": 16,
    "start_time": "2022-07-09T15:13:21.315Z"
   },
   {
    "duration": 3,
    "start_time": "2022-07-09T15:13:21.333Z"
   },
   {
    "duration": 307,
    "start_time": "2022-07-09T15:13:21.338Z"
   },
   {
    "duration": 246,
    "start_time": "2022-07-09T15:13:21.647Z"
   },
   {
    "duration": 253,
    "start_time": "2022-07-09T15:13:21.895Z"
   },
   {
    "duration": 5,
    "start_time": "2022-07-09T15:13:22.150Z"
   },
   {
    "duration": 342,
    "start_time": "2022-07-09T15:13:22.159Z"
   },
   {
    "duration": 234,
    "start_time": "2022-07-09T15:13:22.504Z"
   },
   {
    "duration": 251,
    "start_time": "2022-07-09T15:13:22.740Z"
   },
   {
    "duration": 73,
    "start_time": "2022-07-09T15:13:22.993Z"
   },
   {
    "duration": 56,
    "start_time": "2022-07-09T15:13:23.068Z"
   },
   {
    "duration": 3,
    "start_time": "2022-07-09T15:13:23.126Z"
   },
   {
    "duration": 6,
    "start_time": "2022-07-09T15:13:23.131Z"
   },
   {
    "duration": 6,
    "start_time": "2022-07-09T15:13:23.139Z"
   },
   {
    "duration": 17,
    "start_time": "2022-07-09T15:13:23.146Z"
   },
   {
    "duration": 5,
    "start_time": "2022-07-09T15:13:23.165Z"
   },
   {
    "duration": 52,
    "start_time": "2022-07-09T15:13:23.172Z"
   },
   {
    "duration": 16,
    "start_time": "2022-07-09T15:13:23.226Z"
   },
   {
    "duration": 260,
    "start_time": "2022-07-09T15:13:23.244Z"
   },
   {
    "duration": 2097,
    "start_time": "2022-07-09T15:13:23.506Z"
   },
   {
    "duration": 300,
    "start_time": "2022-07-09T15:13:25.605Z"
   },
   {
    "duration": 2398,
    "start_time": "2022-07-09T15:13:25.907Z"
   },
   {
    "duration": 114,
    "start_time": "2022-07-09T15:13:28.306Z"
   },
   {
    "duration": 4,
    "start_time": "2022-07-09T15:13:40.739Z"
   },
   {
    "duration": 17,
    "start_time": "2022-07-09T15:30:20.134Z"
   },
   {
    "duration": 10,
    "start_time": "2022-07-09T15:30:47.917Z"
   },
   {
    "duration": 1440,
    "start_time": "2022-07-09T15:34:16.884Z"
   },
   {
    "duration": 703,
    "start_time": "2022-07-09T15:34:18.326Z"
   },
   {
    "duration": 27,
    "start_time": "2022-07-09T15:34:19.031Z"
   },
   {
    "duration": 22,
    "start_time": "2022-07-09T15:34:19.060Z"
   },
   {
    "duration": 22,
    "start_time": "2022-07-09T15:34:19.104Z"
   },
   {
    "duration": 4,
    "start_time": "2022-07-09T15:34:19.128Z"
   },
   {
    "duration": 8,
    "start_time": "2022-07-09T15:34:19.134Z"
   },
   {
    "duration": 7,
    "start_time": "2022-07-09T15:34:19.143Z"
   },
   {
    "duration": 236,
    "start_time": "2022-07-09T15:34:19.151Z"
   },
   {
    "duration": 5,
    "start_time": "2022-07-09T15:34:19.389Z"
   },
   {
    "duration": 15,
    "start_time": "2022-07-09T15:34:19.403Z"
   },
   {
    "duration": 143,
    "start_time": "2022-07-09T15:34:19.420Z"
   },
   {
    "duration": 24,
    "start_time": "2022-07-09T15:34:19.565Z"
   },
   {
    "duration": 120,
    "start_time": "2022-07-09T15:34:19.591Z"
   },
   {
    "duration": 14,
    "start_time": "2022-07-09T15:34:19.712Z"
   },
   {
    "duration": 10,
    "start_time": "2022-07-09T15:34:19.728Z"
   },
   {
    "duration": 17,
    "start_time": "2022-07-09T15:34:19.740Z"
   },
   {
    "duration": 58,
    "start_time": "2022-07-09T15:34:19.759Z"
   },
   {
    "duration": 13,
    "start_time": "2022-07-09T15:34:19.818Z"
   },
   {
    "duration": 17,
    "start_time": "2022-07-09T15:34:19.833Z"
   },
   {
    "duration": 12,
    "start_time": "2022-07-09T15:34:19.851Z"
   },
   {
    "duration": 46,
    "start_time": "2022-07-09T15:34:19.865Z"
   },
   {
    "duration": 3,
    "start_time": "2022-07-09T15:34:19.913Z"
   },
   {
    "duration": 315,
    "start_time": "2022-07-09T15:34:19.918Z"
   },
   {
    "duration": 244,
    "start_time": "2022-07-09T15:34:20.235Z"
   },
   {
    "duration": 252,
    "start_time": "2022-07-09T15:34:20.481Z"
   },
   {
    "duration": 6,
    "start_time": "2022-07-09T15:34:20.735Z"
   },
   {
    "duration": 346,
    "start_time": "2022-07-09T15:34:20.744Z"
   },
   {
    "duration": 236,
    "start_time": "2022-07-09T15:34:21.091Z"
   },
   {
    "duration": 256,
    "start_time": "2022-07-09T15:34:21.328Z"
   },
   {
    "duration": 75,
    "start_time": "2022-07-09T15:34:21.586Z"
   },
   {
    "duration": 56,
    "start_time": "2022-07-09T15:34:21.662Z"
   },
   {
    "duration": 4,
    "start_time": "2022-07-09T15:34:21.719Z"
   },
   {
    "duration": 6,
    "start_time": "2022-07-09T15:34:21.725Z"
   },
   {
    "duration": 7,
    "start_time": "2022-07-09T15:34:21.732Z"
   },
   {
    "duration": 15,
    "start_time": "2022-07-09T15:34:21.740Z"
   },
   {
    "duration": 4,
    "start_time": "2022-07-09T15:34:21.757Z"
   },
   {
    "duration": 57,
    "start_time": "2022-07-09T15:34:21.763Z"
   },
   {
    "duration": 16,
    "start_time": "2022-07-09T15:34:21.822Z"
   },
   {
    "duration": 164,
    "start_time": "2022-07-09T15:34:21.840Z"
   },
   {
    "duration": 2200,
    "start_time": "2022-07-09T15:34:22.007Z"
   },
   {
    "duration": 196,
    "start_time": "2022-07-09T15:34:24.209Z"
   },
   {
    "duration": 2095,
    "start_time": "2022-07-09T15:34:24.410Z"
   },
   {
    "duration": 5,
    "start_time": "2022-07-09T15:34:26.507Z"
   },
   {
    "duration": 58221,
    "start_time": "2022-07-09T15:35:17.629Z"
   },
   {
    "duration": 4338,
    "start_time": "2022-07-09T15:39:09.470Z"
   },
   {
    "duration": 5998,
    "start_time": "2022-07-09T15:39:22.120Z"
   },
   {
    "duration": 4,
    "start_time": "2022-07-09T15:40:07.788Z"
   },
   {
    "duration": 4,
    "start_time": "2022-07-09T15:40:14.735Z"
   },
   {
    "duration": 4,
    "start_time": "2022-07-09T15:40:43.987Z"
   },
   {
    "duration": 4,
    "start_time": "2022-07-09T15:40:49.437Z"
   },
   {
    "duration": 4,
    "start_time": "2022-07-09T15:40:54.618Z"
   },
   {
    "duration": 5,
    "start_time": "2022-07-09T15:43:22.319Z"
   },
   {
    "duration": 5,
    "start_time": "2022-07-09T15:43:30.589Z"
   },
   {
    "duration": 3565,
    "start_time": "2022-07-09T15:53:05.267Z"
   },
   {
    "duration": 6292,
    "start_time": "2022-07-09T15:53:20.156Z"
   },
   {
    "duration": 6313,
    "start_time": "2022-07-09T15:53:55.008Z"
   },
   {
    "duration": 7,
    "start_time": "2022-07-09T15:54:10.000Z"
   },
   {
    "duration": 4,
    "start_time": "2022-07-09T15:54:16.165Z"
   },
   {
    "duration": 8,
    "start_time": "2022-07-09T15:54:34.792Z"
   },
   {
    "duration": 4,
    "start_time": "2022-07-09T15:54:37.888Z"
   },
   {
    "duration": 4,
    "start_time": "2022-07-09T15:54:42.201Z"
   },
   {
    "duration": 12,
    "start_time": "2022-07-09T16:21:00.961Z"
   },
   {
    "duration": 2054,
    "start_time": "2022-07-09T16:21:08.655Z"
   },
   {
    "duration": 108,
    "start_time": "2022-07-09T16:23:22.702Z"
   },
   {
    "duration": 51,
    "start_time": "2022-07-09T16:23:26.963Z"
   },
   {
    "duration": 3834,
    "start_time": "2022-07-09T16:27:21.990Z"
   },
   {
    "duration": 62146,
    "start_time": "2022-07-09T16:29:50.720Z"
   },
   {
    "duration": 4,
    "start_time": "2022-07-09T16:31:08.362Z"
   },
   {
    "duration": 9,
    "start_time": "2022-07-09T16:31:47.798Z"
   },
   {
    "duration": 9,
    "start_time": "2022-07-09T16:31:50.821Z"
   },
   {
    "duration": 5,
    "start_time": "2022-07-09T16:31:58.455Z"
   },
   {
    "duration": 3,
    "start_time": "2022-07-09T16:33:09.256Z"
   },
   {
    "duration": 5,
    "start_time": "2022-07-09T16:33:15.354Z"
   },
   {
    "duration": 870,
    "start_time": "2022-07-09T16:33:57.255Z"
   },
   {
    "duration": 62991,
    "start_time": "2022-07-09T16:34:11.319Z"
   },
   {
    "duration": 5,
    "start_time": "2022-07-09T16:35:30.739Z"
   },
   {
    "duration": 4,
    "start_time": "2022-07-09T16:35:45.091Z"
   },
   {
    "duration": 5,
    "start_time": "2022-07-09T16:36:10.293Z"
   },
   {
    "duration": 5,
    "start_time": "2022-07-09T16:36:13.745Z"
   },
   {
    "duration": 4,
    "start_time": "2022-07-09T16:37:15.221Z"
   },
   {
    "duration": 5,
    "start_time": "2022-07-09T16:37:17.580Z"
   },
   {
    "duration": 4,
    "start_time": "2022-07-09T16:37:19.912Z"
   },
   {
    "duration": 4,
    "start_time": "2022-07-09T16:37:22.035Z"
   },
   {
    "duration": 9,
    "start_time": "2022-07-09T16:37:23.894Z"
   },
   {
    "duration": 4,
    "start_time": "2022-07-09T16:37:25.489Z"
   },
   {
    "duration": 5,
    "start_time": "2022-07-09T16:37:49.082Z"
   },
   {
    "duration": 5,
    "start_time": "2022-07-09T16:37:52.388Z"
   },
   {
    "duration": 5,
    "start_time": "2022-07-09T16:37:58.067Z"
   },
   {
    "duration": 4,
    "start_time": "2022-07-09T16:38:14.452Z"
   },
   {
    "duration": 6,
    "start_time": "2022-07-09T16:44:43.001Z"
   },
   {
    "duration": 136831,
    "start_time": "2022-07-09T16:44:50.455Z"
   },
   {
    "duration": 5,
    "start_time": "2022-07-09T16:47:58.262Z"
   },
   {
    "duration": 5,
    "start_time": "2022-07-09T16:48:28.268Z"
   },
   {
    "duration": 13145,
    "start_time": "2022-07-09T16:48:59.253Z"
   },
   {
    "duration": 129140,
    "start_time": "2022-07-09T16:49:20.015Z"
   },
   {
    "duration": 5,
    "start_time": "2022-07-09T16:51:37.328Z"
   },
   {
    "duration": 5,
    "start_time": "2022-07-09T16:51:42.761Z"
   },
   {
    "duration": 12788,
    "start_time": "2022-07-09T16:53:09.469Z"
   },
   {
    "duration": 62141,
    "start_time": "2022-07-09T16:53:35.947Z"
   },
   {
    "duration": 200658,
    "start_time": "2022-07-09T16:54:57.059Z"
   },
   {
    "duration": 4,
    "start_time": "2022-07-09T16:58:17.719Z"
   },
   {
    "duration": 41001,
    "start_time": "2022-07-09T16:58:22.571Z"
   },
   {
    "duration": 2158,
    "start_time": "2022-07-09T16:59:19.463Z"
   },
   {
    "duration": 222199,
    "start_time": "2022-07-09T16:59:30.182Z"
   },
   {
    "duration": 5,
    "start_time": "2022-07-09T17:03:12.383Z"
   },
   {
    "duration": 6,
    "start_time": "2022-07-09T17:04:10.658Z"
   },
   {
    "duration": 82058,
    "start_time": "2022-07-09T17:05:31.626Z"
   },
   {
    "duration": 8202,
    "start_time": "2022-07-09T17:07:11.338Z"
   },
   {
    "duration": 4,
    "start_time": "2022-07-09T17:07:37.250Z"
   },
   {
    "duration": 55550,
    "start_time": "2022-07-09T17:07:59.855Z"
   },
   {
    "duration": 5,
    "start_time": "2022-07-09T17:08:55.407Z"
   },
   {
    "duration": 9112,
    "start_time": "2022-07-09T17:09:12.829Z"
   },
   {
    "duration": 3,
    "start_time": "2022-07-09T17:09:21.943Z"
   },
   {
    "duration": 263588,
    "start_time": "2022-07-09T17:09:30.006Z"
   },
   {
    "duration": 8,
    "start_time": "2022-07-09T17:13:53.597Z"
   },
   {
    "duration": 5,
    "start_time": "2022-07-09T17:29:51.261Z"
   },
   {
    "duration": 3,
    "start_time": "2022-07-09T17:45:24.272Z"
   },
   {
    "duration": 2,
    "start_time": "2022-07-09T17:45:33.571Z"
   },
   {
    "duration": 11,
    "start_time": "2022-07-09T17:53:52.448Z"
   },
   {
    "duration": 10,
    "start_time": "2022-07-09T17:54:14.884Z"
   },
   {
    "duration": 4,
    "start_time": "2022-07-09T18:07:05.093Z"
   },
   {
    "duration": 6,
    "start_time": "2022-07-09T18:07:11.481Z"
   },
   {
    "duration": 10,
    "start_time": "2022-07-09T18:07:22.368Z"
   },
   {
    "duration": 5,
    "start_time": "2022-07-09T18:07:30.109Z"
   },
   {
    "duration": 12,
    "start_time": "2022-07-09T18:08:06.694Z"
   },
   {
    "duration": 5,
    "start_time": "2022-07-09T18:12:53.567Z"
   },
   {
    "duration": 7,
    "start_time": "2022-07-09T18:13:05.385Z"
   },
   {
    "duration": 7,
    "start_time": "2022-07-09T18:13:31.575Z"
   },
   {
    "duration": 7,
    "start_time": "2022-07-09T18:18:09.273Z"
   },
   {
    "duration": 6856,
    "start_time": "2022-07-09T18:19:51.777Z"
   },
   {
    "duration": 42,
    "start_time": "2022-07-09T18:21:52.046Z"
   },
   {
    "duration": 40,
    "start_time": "2022-07-09T18:22:55.412Z"
   },
   {
    "duration": 42,
    "start_time": "2022-07-09T18:23:09.097Z"
   },
   {
    "duration": 40,
    "start_time": "2022-07-09T18:25:53.650Z"
   },
   {
    "duration": 29,
    "start_time": "2022-07-09T18:37:53.995Z"
   },
   {
    "duration": 24,
    "start_time": "2022-07-09T18:42:36.972Z"
   },
   {
    "duration": 9,
    "start_time": "2022-07-09T18:42:43.780Z"
   },
   {
    "duration": 10,
    "start_time": "2022-07-09T18:42:54.133Z"
   },
   {
    "duration": 12599,
    "start_time": "2022-07-09T18:45:18.539Z"
   },
   {
    "duration": 1366,
    "start_time": "2022-07-09T19:08:57.015Z"
   },
   {
    "duration": 687,
    "start_time": "2022-07-09T19:08:58.382Z"
   },
   {
    "duration": 34,
    "start_time": "2022-07-09T19:08:59.071Z"
   },
   {
    "duration": 20,
    "start_time": "2022-07-09T19:08:59.107Z"
   },
   {
    "duration": 22,
    "start_time": "2022-07-09T19:08:59.129Z"
   },
   {
    "duration": 6,
    "start_time": "2022-07-09T19:08:59.152Z"
   },
   {
    "duration": 6,
    "start_time": "2022-07-09T19:08:59.160Z"
   },
   {
    "duration": 7,
    "start_time": "2022-07-09T19:08:59.168Z"
   },
   {
    "duration": 222,
    "start_time": "2022-07-09T19:08:59.203Z"
   },
   {
    "duration": 5,
    "start_time": "2022-07-09T19:08:59.428Z"
   },
   {
    "duration": 17,
    "start_time": "2022-07-09T19:08:59.435Z"
   },
   {
    "duration": 144,
    "start_time": "2022-07-09T19:08:59.454Z"
   },
   {
    "duration": 25,
    "start_time": "2022-07-09T19:08:59.603Z"
   },
   {
    "duration": 114,
    "start_time": "2022-07-09T19:08:59.629Z"
   },
   {
    "duration": 15,
    "start_time": "2022-07-09T19:08:59.745Z"
   },
   {
    "duration": 12,
    "start_time": "2022-07-09T19:08:59.762Z"
   },
   {
    "duration": 39,
    "start_time": "2022-07-09T19:08:59.776Z"
   },
   {
    "duration": 29,
    "start_time": "2022-07-09T19:08:59.817Z"
   },
   {
    "duration": 13,
    "start_time": "2022-07-09T19:08:59.848Z"
   },
   {
    "duration": 17,
    "start_time": "2022-07-09T19:08:59.862Z"
   },
   {
    "duration": 13,
    "start_time": "2022-07-09T19:08:59.904Z"
   },
   {
    "duration": 16,
    "start_time": "2022-07-09T19:08:59.919Z"
   },
   {
    "duration": 4,
    "start_time": "2022-07-09T19:08:59.936Z"
   },
   {
    "duration": 335,
    "start_time": "2022-07-09T19:08:59.942Z"
   },
   {
    "duration": 238,
    "start_time": "2022-07-09T19:09:00.279Z"
   },
   {
    "duration": 247,
    "start_time": "2022-07-09T19:09:00.518Z"
   },
   {
    "duration": 6,
    "start_time": "2022-07-09T19:09:00.766Z"
   },
   {
    "duration": 340,
    "start_time": "2022-07-09T19:09:00.775Z"
   },
   {
    "duration": 230,
    "start_time": "2022-07-09T19:09:01.117Z"
   },
   {
    "duration": 240,
    "start_time": "2022-07-09T19:09:01.349Z"
   },
   {
    "duration": 73,
    "start_time": "2022-07-09T19:09:01.590Z"
   },
   {
    "duration": 53,
    "start_time": "2022-07-09T19:09:01.665Z"
   },
   {
    "duration": 3,
    "start_time": "2022-07-09T19:09:01.720Z"
   },
   {
    "duration": 23,
    "start_time": "2022-07-09T19:09:01.725Z"
   },
   {
    "duration": 1387,
    "start_time": "2022-07-09T19:09:01.750Z"
   },
   {
    "duration": 0,
    "start_time": "2022-07-09T19:09:03.139Z"
   },
   {
    "duration": 0,
    "start_time": "2022-07-09T19:09:03.140Z"
   },
   {
    "duration": 0,
    "start_time": "2022-07-09T19:09:03.141Z"
   },
   {
    "duration": 0,
    "start_time": "2022-07-09T19:09:03.142Z"
   },
   {
    "duration": 0,
    "start_time": "2022-07-09T19:09:03.142Z"
   },
   {
    "duration": 0,
    "start_time": "2022-07-09T19:09:03.144Z"
   },
   {
    "duration": 0,
    "start_time": "2022-07-09T19:09:03.145Z"
   },
   {
    "duration": 1,
    "start_time": "2022-07-09T19:09:03.145Z"
   },
   {
    "duration": 0,
    "start_time": "2022-07-09T19:09:03.146Z"
   },
   {
    "duration": 0,
    "start_time": "2022-07-09T19:09:03.147Z"
   },
   {
    "duration": 0,
    "start_time": "2022-07-09T19:09:03.148Z"
   },
   {
    "duration": 0,
    "start_time": "2022-07-09T19:09:03.149Z"
   },
   {
    "duration": 0,
    "start_time": "2022-07-09T19:09:03.150Z"
   },
   {
    "duration": 26,
    "start_time": "2022-07-09T19:09:44.933Z"
   },
   {
    "duration": 1178,
    "start_time": "2022-07-09T19:09:53.631Z"
   },
   {
    "duration": 4,
    "start_time": "2022-07-09T19:10:17.454Z"
   },
   {
    "duration": 1367,
    "start_time": "2022-07-09T19:11:44.191Z"
   },
   {
    "duration": 745,
    "start_time": "2022-07-09T19:11:45.560Z"
   },
   {
    "duration": 30,
    "start_time": "2022-07-09T19:11:46.306Z"
   },
   {
    "duration": 23,
    "start_time": "2022-07-09T19:11:46.338Z"
   },
   {
    "duration": 48,
    "start_time": "2022-07-09T19:11:46.363Z"
   },
   {
    "duration": 5,
    "start_time": "2022-07-09T19:11:46.412Z"
   },
   {
    "duration": 4,
    "start_time": "2022-07-09T19:11:46.419Z"
   },
   {
    "duration": 11,
    "start_time": "2022-07-09T19:11:46.425Z"
   },
   {
    "duration": 239,
    "start_time": "2022-07-09T19:11:46.438Z"
   },
   {
    "duration": 5,
    "start_time": "2022-07-09T19:11:46.680Z"
   },
   {
    "duration": 23,
    "start_time": "2022-07-09T19:11:46.686Z"
   },
   {
    "duration": 135,
    "start_time": "2022-07-09T19:11:46.711Z"
   },
   {
    "duration": 24,
    "start_time": "2022-07-09T19:11:46.847Z"
   },
   {
    "duration": 111,
    "start_time": "2022-07-09T19:11:46.872Z"
   },
   {
    "duration": 22,
    "start_time": "2022-07-09T19:11:46.984Z"
   },
   {
    "duration": 10,
    "start_time": "2022-07-09T19:11:47.008Z"
   },
   {
    "duration": 13,
    "start_time": "2022-07-09T19:11:47.020Z"
   },
   {
    "duration": 27,
    "start_time": "2022-07-09T19:11:47.035Z"
   },
   {
    "duration": 41,
    "start_time": "2022-07-09T19:11:47.063Z"
   },
   {
    "duration": 15,
    "start_time": "2022-07-09T19:11:47.106Z"
   },
   {
    "duration": 12,
    "start_time": "2022-07-09T19:11:47.123Z"
   },
   {
    "duration": 16,
    "start_time": "2022-07-09T19:11:47.137Z"
   },
   {
    "duration": 4,
    "start_time": "2022-07-09T19:11:47.155Z"
   },
   {
    "duration": 281,
    "start_time": "2022-07-09T19:11:47.160Z"
   },
   {
    "duration": 224,
    "start_time": "2022-07-09T19:11:47.443Z"
   },
   {
    "duration": 244,
    "start_time": "2022-07-09T19:11:47.669Z"
   },
   {
    "duration": 5,
    "start_time": "2022-07-09T19:11:47.914Z"
   },
   {
    "duration": 300,
    "start_time": "2022-07-09T19:11:47.922Z"
   },
   {
    "duration": 202,
    "start_time": "2022-07-09T19:11:48.224Z"
   },
   {
    "duration": 218,
    "start_time": "2022-07-09T19:11:48.428Z"
   },
   {
    "duration": 75,
    "start_time": "2022-07-09T19:11:48.647Z"
   },
   {
    "duration": 40,
    "start_time": "2022-07-09T19:11:48.723Z"
   },
   {
    "duration": 3,
    "start_time": "2022-07-09T19:11:48.764Z"
   },
   {
    "duration": 9,
    "start_time": "2022-07-09T19:11:48.769Z"
   },
   {
    "duration": 6,
    "start_time": "2022-07-09T19:11:48.780Z"
   },
   {
    "duration": 31,
    "start_time": "2022-07-09T19:11:48.787Z"
   },
   {
    "duration": 6,
    "start_time": "2022-07-09T19:11:48.819Z"
   },
   {
    "duration": 32,
    "start_time": "2022-07-09T19:11:48.826Z"
   },
   {
    "duration": 14,
    "start_time": "2022-07-09T19:11:48.860Z"
   },
   {
    "duration": 228,
    "start_time": "2022-07-09T19:11:48.876Z"
   },
   {
    "duration": 2405,
    "start_time": "2022-07-09T19:11:49.106Z"
   },
   {
    "duration": 391,
    "start_time": "2022-07-09T19:11:51.513Z"
   },
   {
    "duration": 2099,
    "start_time": "2022-07-09T19:11:51.906Z"
   },
   {
    "duration": 3,
    "start_time": "2022-07-09T19:11:54.007Z"
   },
   {
    "duration": 119,
    "start_time": "2022-07-09T19:11:54.012Z"
   },
   {
    "duration": 221147,
    "start_time": "2022-07-09T19:11:54.133Z"
   },
   {
    "duration": 5,
    "start_time": "2022-07-09T19:15:35.281Z"
   },
   {
    "duration": 12443,
    "start_time": "2022-07-09T19:15:35.287Z"
   },
   {
    "duration": 2115,
    "start_time": "2022-07-10T09:36:52.013Z"
   },
   {
    "duration": 3206,
    "start_time": "2022-07-10T09:36:54.130Z"
   },
   {
    "duration": 27,
    "start_time": "2022-07-10T09:36:57.337Z"
   },
   {
    "duration": 21,
    "start_time": "2022-07-10T09:36:57.367Z"
   },
   {
    "duration": 30,
    "start_time": "2022-07-10T09:36:57.390Z"
   },
   {
    "duration": 8,
    "start_time": "2022-07-10T09:36:57.421Z"
   },
   {
    "duration": 5,
    "start_time": "2022-07-10T09:36:57.430Z"
   },
   {
    "duration": 6,
    "start_time": "2022-07-10T09:36:57.437Z"
   },
   {
    "duration": 211,
    "start_time": "2022-07-10T09:36:57.445Z"
   },
   {
    "duration": 4,
    "start_time": "2022-07-10T09:36:57.659Z"
   },
   {
    "duration": 15,
    "start_time": "2022-07-10T09:36:57.664Z"
   },
   {
    "duration": 131,
    "start_time": "2022-07-10T09:36:57.681Z"
   },
   {
    "duration": 23,
    "start_time": "2022-07-10T09:36:57.813Z"
   },
   {
    "duration": 109,
    "start_time": "2022-07-10T09:36:57.838Z"
   },
   {
    "duration": 14,
    "start_time": "2022-07-10T09:36:57.949Z"
   },
   {
    "duration": 11,
    "start_time": "2022-07-10T09:36:57.965Z"
   },
   {
    "duration": 34,
    "start_time": "2022-07-10T09:36:57.978Z"
   },
   {
    "duration": 26,
    "start_time": "2022-07-10T09:36:58.013Z"
   },
   {
    "duration": 13,
    "start_time": "2022-07-10T09:36:58.041Z"
   },
   {
    "duration": 16,
    "start_time": "2022-07-10T09:36:58.055Z"
   },
   {
    "duration": 40,
    "start_time": "2022-07-10T09:36:58.073Z"
   },
   {
    "duration": 19,
    "start_time": "2022-07-10T09:36:58.115Z"
   },
   {
    "duration": 4,
    "start_time": "2022-07-10T09:36:58.136Z"
   },
   {
    "duration": 272,
    "start_time": "2022-07-10T09:36:58.141Z"
   },
   {
    "duration": 218,
    "start_time": "2022-07-10T09:36:58.415Z"
   },
   {
    "duration": 229,
    "start_time": "2022-07-10T09:36:58.634Z"
   },
   {
    "duration": 6,
    "start_time": "2022-07-10T09:36:58.865Z"
   },
   {
    "duration": 316,
    "start_time": "2022-07-10T09:36:58.875Z"
   },
   {
    "duration": 215,
    "start_time": "2022-07-10T09:36:59.193Z"
   },
   {
    "duration": 218,
    "start_time": "2022-07-10T09:36:59.409Z"
   },
   {
    "duration": 76,
    "start_time": "2022-07-10T09:36:59.629Z"
   },
   {
    "duration": 37,
    "start_time": "2022-07-10T09:36:59.706Z"
   },
   {
    "duration": 4,
    "start_time": "2022-07-10T09:36:59.744Z"
   },
   {
    "duration": 8,
    "start_time": "2022-07-10T09:36:59.749Z"
   },
   {
    "duration": 5,
    "start_time": "2022-07-10T09:36:59.758Z"
   },
   {
    "duration": 16,
    "start_time": "2022-07-10T09:36:59.764Z"
   },
   {
    "duration": 28,
    "start_time": "2022-07-10T09:36:59.782Z"
   },
   {
    "duration": 11,
    "start_time": "2022-07-10T09:37:28.704Z"
   },
   {
    "duration": 16,
    "start_time": "2022-07-10T09:38:04.169Z"
   },
   {
    "duration": 94,
    "start_time": "2022-07-10T09:38:08.018Z"
   },
   {
    "duration": 2467,
    "start_time": "2022-07-10T09:38:11.842Z"
   },
   {
    "duration": 4,
    "start_time": "2022-07-10T09:39:13.182Z"
   },
   {
    "duration": 3,
    "start_time": "2022-07-10T09:39:19.555Z"
   },
   {
    "duration": 2642,
    "start_time": "2022-07-10T09:39:33.563Z"
   },
   {
    "duration": 2936,
    "start_time": "2022-07-10T09:41:42.774Z"
   },
   {
    "duration": 67,
    "start_time": "2022-07-10T10:42:17.790Z"
   },
   {
    "duration": 1605,
    "start_time": "2022-07-10T10:42:31.541Z"
   },
   {
    "duration": 3198,
    "start_time": "2022-07-10T10:42:33.148Z"
   },
   {
    "duration": 25,
    "start_time": "2022-07-10T10:42:36.348Z"
   },
   {
    "duration": 20,
    "start_time": "2022-07-10T10:42:36.375Z"
   },
   {
    "duration": 26,
    "start_time": "2022-07-10T10:42:36.396Z"
   },
   {
    "duration": 7,
    "start_time": "2022-07-10T10:42:36.424Z"
   },
   {
    "duration": 14,
    "start_time": "2022-07-10T10:42:36.432Z"
   },
   {
    "duration": 8,
    "start_time": "2022-07-10T10:42:36.453Z"
   },
   {
    "duration": 279,
    "start_time": "2022-07-10T10:42:36.463Z"
   },
   {
    "duration": 5,
    "start_time": "2022-07-10T10:42:36.745Z"
   },
   {
    "duration": 15,
    "start_time": "2022-07-10T10:42:36.752Z"
   },
   {
    "duration": 148,
    "start_time": "2022-07-10T10:42:36.769Z"
   },
   {
    "duration": 26,
    "start_time": "2022-07-10T10:42:36.919Z"
   },
   {
    "duration": 127,
    "start_time": "2022-07-10T10:42:36.948Z"
   },
   {
    "duration": 13,
    "start_time": "2022-07-10T10:42:37.077Z"
   },
   {
    "duration": 20,
    "start_time": "2022-07-10T10:42:37.092Z"
   },
   {
    "duration": 14,
    "start_time": "2022-07-10T10:42:37.114Z"
   },
   {
    "duration": 32,
    "start_time": "2022-07-10T10:42:37.130Z"
   },
   {
    "duration": 41,
    "start_time": "2022-07-10T10:42:37.164Z"
   },
   {
    "duration": 22,
    "start_time": "2022-07-10T10:42:37.207Z"
   },
   {
    "duration": 14,
    "start_time": "2022-07-10T10:42:37.231Z"
   },
   {
    "duration": 20,
    "start_time": "2022-07-10T10:42:37.247Z"
   },
   {
    "duration": 5,
    "start_time": "2022-07-10T10:42:37.268Z"
   },
   {
    "duration": 359,
    "start_time": "2022-07-10T10:42:37.274Z"
   },
   {
    "duration": 236,
    "start_time": "2022-07-10T10:42:37.635Z"
   },
   {
    "duration": 287,
    "start_time": "2022-07-10T10:42:37.873Z"
   },
   {
    "duration": 6,
    "start_time": "2022-07-10T10:42:38.161Z"
   },
   {
    "duration": 386,
    "start_time": "2022-07-10T10:42:38.170Z"
   },
   {
    "duration": 484,
    "start_time": "2022-07-10T10:42:38.557Z"
   },
   {
    "duration": 252,
    "start_time": "2022-07-10T10:42:39.043Z"
   },
   {
    "duration": 68,
    "start_time": "2022-07-10T10:42:39.304Z"
   },
   {
    "duration": 54,
    "start_time": "2022-07-10T10:42:39.373Z"
   },
   {
    "duration": 4,
    "start_time": "2022-07-10T10:42:39.429Z"
   },
   {
    "duration": 11,
    "start_time": "2022-07-10T10:42:39.435Z"
   },
   {
    "duration": 5,
    "start_time": "2022-07-10T10:42:39.448Z"
   },
   {
    "duration": 17,
    "start_time": "2022-07-10T10:42:39.455Z"
   },
   {
    "duration": 6,
    "start_time": "2022-07-10T10:42:39.473Z"
   },
   {
    "duration": 50,
    "start_time": "2022-07-10T10:42:39.480Z"
   },
   {
    "duration": 17,
    "start_time": "2022-07-10T10:42:39.532Z"
   },
   {
    "duration": 160,
    "start_time": "2022-07-10T10:42:39.551Z"
   },
   {
    "duration": 2897,
    "start_time": "2022-07-10T10:42:39.713Z"
   },
   {
    "duration": 393,
    "start_time": "2022-07-10T10:42:42.612Z"
   },
   {
    "duration": 2395,
    "start_time": "2022-07-10T10:42:43.009Z"
   },
   {
    "duration": 4,
    "start_time": "2022-07-10T10:42:45.406Z"
   },
   {
    "duration": 50,
    "start_time": "2022-07-10T10:42:45.411Z"
   },
   {
    "duration": 2467,
    "start_time": "2022-07-10T10:42:45.463Z"
   },
   {
    "duration": 3,
    "start_time": "2022-07-10T10:42:47.932Z"
   },
   {
    "duration": 36,
    "start_time": "2022-07-10T10:42:47.938Z"
   },
   {
    "duration": 1523,
    "start_time": "2022-07-10T10:43:07.129Z"
   },
   {
    "duration": 674,
    "start_time": "2022-07-10T10:43:08.655Z"
   },
   {
    "duration": 24,
    "start_time": "2022-07-10T10:43:09.330Z"
   },
   {
    "duration": 20,
    "start_time": "2022-07-10T10:43:09.356Z"
   },
   {
    "duration": 48,
    "start_time": "2022-07-10T10:43:09.378Z"
   },
   {
    "duration": 5,
    "start_time": "2022-07-10T10:43:09.429Z"
   },
   {
    "duration": 8,
    "start_time": "2022-07-10T10:43:09.436Z"
   },
   {
    "duration": 8,
    "start_time": "2022-07-10T10:43:09.446Z"
   },
   {
    "duration": 229,
    "start_time": "2022-07-10T10:43:09.456Z"
   },
   {
    "duration": 5,
    "start_time": "2022-07-10T10:43:09.687Z"
   },
   {
    "duration": 22,
    "start_time": "2022-07-10T10:43:09.694Z"
   },
   {
    "duration": 143,
    "start_time": "2022-07-10T10:43:09.717Z"
   },
   {
    "duration": 27,
    "start_time": "2022-07-10T10:43:09.861Z"
   },
   {
    "duration": 110,
    "start_time": "2022-07-10T10:43:09.904Z"
   },
   {
    "duration": 17,
    "start_time": "2022-07-10T10:43:10.016Z"
   },
   {
    "duration": 14,
    "start_time": "2022-07-10T10:43:10.035Z"
   },
   {
    "duration": 16,
    "start_time": "2022-07-10T10:43:10.051Z"
   },
   {
    "duration": 80,
    "start_time": "2022-07-10T10:43:10.068Z"
   },
   {
    "duration": 16,
    "start_time": "2022-07-10T10:43:10.155Z"
   },
   {
    "duration": 33,
    "start_time": "2022-07-10T10:43:10.172Z"
   },
   {
    "duration": 14,
    "start_time": "2022-07-10T10:43:10.207Z"
   },
   {
    "duration": 26,
    "start_time": "2022-07-10T10:43:10.223Z"
   },
   {
    "duration": 4,
    "start_time": "2022-07-10T10:43:10.251Z"
   },
   {
    "duration": 340,
    "start_time": "2022-07-10T10:43:10.257Z"
   },
   {
    "duration": 252,
    "start_time": "2022-07-10T10:43:10.600Z"
   },
   {
    "duration": 250,
    "start_time": "2022-07-10T10:43:10.854Z"
   },
   {
    "duration": 6,
    "start_time": "2022-07-10T10:43:11.105Z"
   },
   {
    "duration": 331,
    "start_time": "2022-07-10T10:43:11.114Z"
   },
   {
    "duration": 252,
    "start_time": "2022-07-10T10:43:11.446Z"
   },
   {
    "duration": 245,
    "start_time": "2022-07-10T10:43:11.699Z"
   },
   {
    "duration": 80,
    "start_time": "2022-07-10T10:43:11.945Z"
   },
   {
    "duration": 40,
    "start_time": "2022-07-10T10:43:12.026Z"
   },
   {
    "duration": 3,
    "start_time": "2022-07-10T10:43:12.067Z"
   },
   {
    "duration": 5,
    "start_time": "2022-07-10T10:43:12.072Z"
   },
   {
    "duration": 5,
    "start_time": "2022-07-10T10:43:12.079Z"
   },
   {
    "duration": 30,
    "start_time": "2022-07-10T10:43:12.085Z"
   },
   {
    "duration": 3,
    "start_time": "2022-07-10T10:43:12.118Z"
   },
   {
    "duration": 36,
    "start_time": "2022-07-10T10:43:12.123Z"
   },
   {
    "duration": 16,
    "start_time": "2022-07-10T10:43:12.161Z"
   },
   {
    "duration": 226,
    "start_time": "2022-07-10T10:43:12.179Z"
   },
   {
    "duration": 2699,
    "start_time": "2022-07-10T10:43:12.407Z"
   },
   {
    "duration": 199,
    "start_time": "2022-07-10T10:43:15.108Z"
   },
   {
    "duration": 2797,
    "start_time": "2022-07-10T10:43:15.309Z"
   },
   {
    "duration": 5,
    "start_time": "2022-07-10T10:43:18.108Z"
   },
   {
    "duration": 131,
    "start_time": "2022-07-10T10:43:18.115Z"
   },
   {
    "duration": 32,
    "start_time": "2022-07-10T10:43:43.539Z"
   },
   {
    "duration": 26,
    "start_time": "2022-07-10T10:43:49.645Z"
   },
   {
    "duration": 1411,
    "start_time": "2022-07-10T10:44:37.539Z"
   },
   {
    "duration": 602,
    "start_time": "2022-07-10T10:44:38.952Z"
   },
   {
    "duration": 23,
    "start_time": "2022-07-10T10:44:39.555Z"
   },
   {
    "duration": 28,
    "start_time": "2022-07-10T10:44:39.580Z"
   },
   {
    "duration": 21,
    "start_time": "2022-07-10T10:44:39.609Z"
   },
   {
    "duration": 6,
    "start_time": "2022-07-10T10:44:39.632Z"
   },
   {
    "duration": 7,
    "start_time": "2022-07-10T10:44:39.639Z"
   },
   {
    "duration": 6,
    "start_time": "2022-07-10T10:44:39.648Z"
   },
   {
    "duration": 227,
    "start_time": "2022-07-10T10:44:39.655Z"
   },
   {
    "duration": 5,
    "start_time": "2022-07-10T10:44:39.884Z"
   },
   {
    "duration": 24,
    "start_time": "2022-07-10T10:44:39.891Z"
   },
   {
    "duration": 132,
    "start_time": "2022-07-10T10:44:39.916Z"
   },
   {
    "duration": 23,
    "start_time": "2022-07-10T10:44:40.049Z"
   },
   {
    "duration": 114,
    "start_time": "2022-07-10T10:44:40.074Z"
   },
   {
    "duration": 19,
    "start_time": "2022-07-10T10:44:40.190Z"
   },
   {
    "duration": 17,
    "start_time": "2022-07-10T10:44:40.211Z"
   },
   {
    "duration": 14,
    "start_time": "2022-07-10T10:44:40.229Z"
   },
   {
    "duration": 37,
    "start_time": "2022-07-10T10:44:40.244Z"
   },
   {
    "duration": 24,
    "start_time": "2022-07-10T10:44:40.282Z"
   },
   {
    "duration": 14,
    "start_time": "2022-07-10T10:44:40.308Z"
   },
   {
    "duration": 11,
    "start_time": "2022-07-10T10:44:40.323Z"
   },
   {
    "duration": 23,
    "start_time": "2022-07-10T10:44:40.335Z"
   },
   {
    "duration": 3,
    "start_time": "2022-07-10T10:44:40.360Z"
   },
   {
    "duration": 304,
    "start_time": "2022-07-10T10:44:40.365Z"
   },
   {
    "duration": 238,
    "start_time": "2022-07-10T10:44:40.672Z"
   },
   {
    "duration": 247,
    "start_time": "2022-07-10T10:44:40.912Z"
   },
   {
    "duration": 5,
    "start_time": "2022-07-10T10:44:41.161Z"
   },
   {
    "duration": 352,
    "start_time": "2022-07-10T10:44:41.170Z"
   },
   {
    "duration": 227,
    "start_time": "2022-07-10T10:44:41.523Z"
   },
   {
    "duration": 234,
    "start_time": "2022-07-10T10:44:41.752Z"
   },
   {
    "duration": 71,
    "start_time": "2022-07-10T10:44:41.988Z"
   },
   {
    "duration": 49,
    "start_time": "2022-07-10T10:44:42.061Z"
   },
   {
    "duration": 4,
    "start_time": "2022-07-10T10:44:42.111Z"
   },
   {
    "duration": 7,
    "start_time": "2022-07-10T10:44:42.117Z"
   },
   {
    "duration": 8,
    "start_time": "2022-07-10T10:44:42.126Z"
   },
   {
    "duration": 15,
    "start_time": "2022-07-10T10:44:42.136Z"
   },
   {
    "duration": 8,
    "start_time": "2022-07-10T10:44:42.154Z"
   },
   {
    "duration": 51,
    "start_time": "2022-07-10T10:44:42.165Z"
   },
   {
    "duration": 15,
    "start_time": "2022-07-10T10:44:42.217Z"
   },
   {
    "duration": 170,
    "start_time": "2022-07-10T10:44:42.234Z"
   },
   {
    "duration": 2400,
    "start_time": "2022-07-10T10:44:42.407Z"
   },
   {
    "duration": 101,
    "start_time": "2022-07-10T10:44:44.808Z"
   },
   {
    "duration": 2300,
    "start_time": "2022-07-10T10:44:44.911Z"
   },
   {
    "duration": 5,
    "start_time": "2022-07-10T10:44:47.303Z"
   },
   {
    "duration": 130,
    "start_time": "2022-07-10T10:44:47.309Z"
   },
   {
    "duration": 25,
    "start_time": "2022-07-10T10:44:59.821Z"
   },
   {
    "duration": 1406,
    "start_time": "2022-07-10T10:45:03.109Z"
   },
   {
    "duration": 5,
    "start_time": "2022-07-10T10:48:05.637Z"
   },
   {
    "duration": 15,
    "start_time": "2022-07-10T10:48:16.335Z"
   },
   {
    "duration": 13,
    "start_time": "2022-07-10T10:48:21.224Z"
   },
   {
    "duration": 12,
    "start_time": "2022-07-10T10:48:27.033Z"
   },
   {
    "duration": 22,
    "start_time": "2022-07-10T10:48:45.255Z"
   },
   {
    "duration": 22,
    "start_time": "2022-07-10T10:48:48.458Z"
   },
   {
    "duration": 23,
    "start_time": "2022-07-10T10:48:51.144Z"
   },
   {
    "duration": 35,
    "start_time": "2022-07-10T10:50:16.906Z"
   },
   {
    "duration": 92,
    "start_time": "2022-07-10T10:51:42.353Z"
   },
   {
    "duration": 9,
    "start_time": "2022-07-10T10:51:59.147Z"
   },
   {
    "duration": 2,
    "start_time": "2022-07-10T10:52:04.565Z"
   },
   {
    "duration": 21,
    "start_time": "2022-07-10T10:53:15.804Z"
   },
   {
    "duration": 19,
    "start_time": "2022-07-10T10:53:49.666Z"
   },
   {
    "duration": 6,
    "start_time": "2022-07-10T10:54:15.030Z"
   },
   {
    "duration": 27,
    "start_time": "2022-07-10T10:54:20.069Z"
   },
   {
    "duration": 6,
    "start_time": "2022-07-10T10:54:26.759Z"
   },
   {
    "duration": 6,
    "start_time": "2022-07-10T10:54:34.718Z"
   },
   {
    "duration": 81,
    "start_time": "2022-07-10T10:54:57.254Z"
   },
   {
    "duration": 2,
    "start_time": "2022-07-10T10:55:10.719Z"
   },
   {
    "duration": 71,
    "start_time": "2022-07-10T10:55:18.140Z"
   },
   {
    "duration": 6280,
    "start_time": "2022-07-10T10:55:21.026Z"
   },
   {
    "duration": 6,
    "start_time": "2022-07-10T10:55:36.282Z"
   },
   {
    "duration": 16,
    "start_time": "2022-07-10T10:55:56.083Z"
   },
   {
    "duration": 24,
    "start_time": "2022-07-10T10:56:13.366Z"
   },
   {
    "duration": 33,
    "start_time": "2022-07-10T10:56:22.204Z"
   },
   {
    "duration": 6,
    "start_time": "2022-07-10T10:56:27.210Z"
   },
   {
    "duration": 43,
    "start_time": "2022-07-10T10:56:34.734Z"
   },
   {
    "duration": 41,
    "start_time": "2022-07-10T10:56:38.695Z"
   },
   {
    "duration": 43,
    "start_time": "2022-07-10T10:56:43.955Z"
   },
   {
    "duration": 27,
    "start_time": "2022-07-10T10:56:50.867Z"
   },
   {
    "duration": 15,
    "start_time": "2022-07-10T10:57:25.425Z"
   },
   {
    "duration": 21,
    "start_time": "2022-07-10T10:57:32.329Z"
   },
   {
    "duration": 13,
    "start_time": "2022-07-10T10:57:44.353Z"
   },
   {
    "duration": 6515,
    "start_time": "2022-07-10T11:06:18.879Z"
   },
   {
    "duration": 7073,
    "start_time": "2022-07-10T11:06:57.533Z"
   },
   {
    "duration": 6487,
    "start_time": "2022-07-10T11:07:04.608Z"
   },
   {
    "duration": 414,
    "start_time": "2022-07-10T11:07:24.059Z"
   },
   {
    "duration": 14,
    "start_time": "2022-07-10T11:17:43.515Z"
   },
   {
    "duration": 4,
    "start_time": "2022-07-10T11:17:56.100Z"
   },
   {
    "duration": 73,
    "start_time": "2022-07-10T11:18:03.428Z"
   },
   {
    "duration": 4,
    "start_time": "2022-07-10T11:18:06.205Z"
   },
   {
    "duration": 12,
    "start_time": "2022-07-10T11:18:22.782Z"
   },
   {
    "duration": 12,
    "start_time": "2022-07-10T11:23:56.118Z"
   },
   {
    "duration": 36,
    "start_time": "2022-07-10T11:24:02.446Z"
   },
   {
    "duration": 26,
    "start_time": "2022-07-10T11:24:26.639Z"
   },
   {
    "duration": 37,
    "start_time": "2022-07-10T11:24:29.475Z"
   },
   {
    "duration": 27,
    "start_time": "2022-07-10T11:24:40.330Z"
   },
   {
    "duration": 34,
    "start_time": "2022-07-10T11:24:50.146Z"
   },
   {
    "duration": 29,
    "start_time": "2022-07-10T11:26:00.593Z"
   },
   {
    "duration": 28,
    "start_time": "2022-07-10T11:26:34.444Z"
   },
   {
    "duration": 55,
    "start_time": "2022-07-10T11:26:56.619Z"
   },
   {
    "duration": 32,
    "start_time": "2022-07-10T11:27:03.286Z"
   },
   {
    "duration": 29,
    "start_time": "2022-07-10T11:27:23.518Z"
   },
   {
    "duration": 22,
    "start_time": "2022-07-10T11:27:39.405Z"
   },
   {
    "duration": 30,
    "start_time": "2022-07-10T11:27:44.472Z"
   },
   {
    "duration": 21,
    "start_time": "2022-07-10T11:27:59.227Z"
   },
   {
    "duration": 72,
    "start_time": "2022-07-10T11:29:53.679Z"
   },
   {
    "duration": 38,
    "start_time": "2022-07-10T11:29:57.609Z"
   },
   {
    "duration": 13,
    "start_time": "2022-07-10T11:32:08.451Z"
   },
   {
    "duration": 36,
    "start_time": "2022-07-10T11:32:12.028Z"
   },
   {
    "duration": 38,
    "start_time": "2022-07-10T11:32:23.606Z"
   },
   {
    "duration": 37,
    "start_time": "2022-07-10T11:32:26.386Z"
   },
   {
    "duration": 16,
    "start_time": "2022-07-10T11:33:18.461Z"
   },
   {
    "duration": 21,
    "start_time": "2022-07-10T11:33:46.232Z"
   },
   {
    "duration": 17,
    "start_time": "2022-07-10T11:33:59.061Z"
   },
   {
    "duration": 6,
    "start_time": "2022-07-10T11:34:57.409Z"
   },
   {
    "duration": 5,
    "start_time": "2022-07-10T11:35:00.636Z"
   },
   {
    "duration": 7,
    "start_time": "2022-07-10T11:35:19.520Z"
   },
   {
    "duration": 6,
    "start_time": "2022-07-10T11:35:33.118Z"
   },
   {
    "duration": 34,
    "start_time": "2022-07-10T11:36:02.350Z"
   },
   {
    "duration": 1374,
    "start_time": "2022-07-10T11:37:23.070Z"
   },
   {
    "duration": 623,
    "start_time": "2022-07-10T11:37:24.446Z"
   },
   {
    "duration": 34,
    "start_time": "2022-07-10T11:37:25.070Z"
   },
   {
    "duration": 22,
    "start_time": "2022-07-10T11:37:25.107Z"
   },
   {
    "duration": 23,
    "start_time": "2022-07-10T11:37:25.130Z"
   },
   {
    "duration": 6,
    "start_time": "2022-07-10T11:37:25.154Z"
   },
   {
    "duration": 5,
    "start_time": "2022-07-10T11:37:25.161Z"
   },
   {
    "duration": 7,
    "start_time": "2022-07-10T11:37:25.167Z"
   },
   {
    "duration": 238,
    "start_time": "2022-07-10T11:37:25.175Z"
   },
   {
    "duration": 5,
    "start_time": "2022-07-10T11:37:25.415Z"
   },
   {
    "duration": 18,
    "start_time": "2022-07-10T11:37:25.421Z"
   },
   {
    "duration": 133,
    "start_time": "2022-07-10T11:37:25.441Z"
   },
   {
    "duration": 29,
    "start_time": "2022-07-10T11:37:25.575Z"
   },
   {
    "duration": 102,
    "start_time": "2022-07-10T11:37:25.605Z"
   },
   {
    "duration": 13,
    "start_time": "2022-07-10T11:37:25.708Z"
   },
   {
    "duration": 9,
    "start_time": "2022-07-10T11:37:25.723Z"
   },
   {
    "duration": 12,
    "start_time": "2022-07-10T11:37:25.734Z"
   },
   {
    "duration": 27,
    "start_time": "2022-07-10T11:37:25.748Z"
   },
   {
    "duration": 35,
    "start_time": "2022-07-10T11:37:25.776Z"
   },
   {
    "duration": 14,
    "start_time": "2022-07-10T11:37:25.813Z"
   },
   {
    "duration": 11,
    "start_time": "2022-07-10T11:37:25.829Z"
   },
   {
    "duration": 15,
    "start_time": "2022-07-10T11:37:25.841Z"
   },
   {
    "duration": 3,
    "start_time": "2022-07-10T11:37:25.858Z"
   },
   {
    "duration": 311,
    "start_time": "2022-07-10T11:37:25.862Z"
   },
   {
    "duration": 229,
    "start_time": "2022-07-10T11:37:26.175Z"
   },
   {
    "duration": 276,
    "start_time": "2022-07-10T11:37:26.406Z"
   },
   {
    "duration": 7,
    "start_time": "2022-07-10T11:37:26.684Z"
   },
   {
    "duration": 315,
    "start_time": "2022-07-10T11:37:26.703Z"
   },
   {
    "duration": 220,
    "start_time": "2022-07-10T11:37:27.020Z"
   },
   {
    "duration": 235,
    "start_time": "2022-07-10T11:37:27.242Z"
   },
   {
    "duration": 73,
    "start_time": "2022-07-10T11:37:27.478Z"
   },
   {
    "duration": 40,
    "start_time": "2022-07-10T11:37:27.553Z"
   },
   {
    "duration": 9,
    "start_time": "2022-07-10T11:37:27.595Z"
   },
   {
    "duration": 3,
    "start_time": "2022-07-10T11:37:27.605Z"
   },
   {
    "duration": 9,
    "start_time": "2022-07-10T11:37:27.609Z"
   },
   {
    "duration": 17,
    "start_time": "2022-07-10T11:37:27.620Z"
   },
   {
    "duration": 10,
    "start_time": "2022-07-10T11:37:27.639Z"
   },
   {
    "duration": 29,
    "start_time": "2022-07-10T11:37:27.651Z"
   },
   {
    "duration": 23,
    "start_time": "2022-07-10T11:37:27.682Z"
   },
   {
    "duration": 104,
    "start_time": "2022-07-10T11:37:27.706Z"
   },
   {
    "duration": 2098,
    "start_time": "2022-07-10T11:37:27.812Z"
   },
   {
    "duration": 291,
    "start_time": "2022-07-10T11:37:29.913Z"
   },
   {
    "duration": 2298,
    "start_time": "2022-07-10T11:37:30.206Z"
   },
   {
    "duration": 3,
    "start_time": "2022-07-10T11:37:32.506Z"
   },
   {
    "duration": 125,
    "start_time": "2022-07-10T11:37:32.511Z"
   },
   {
    "duration": 19,
    "start_time": "2022-07-10T11:37:41.533Z"
   },
   {
    "duration": 16,
    "start_time": "2022-07-10T11:37:42.995Z"
   },
   {
    "duration": 33,
    "start_time": "2022-07-10T11:37:58.801Z"
   },
   {
    "duration": 6,
    "start_time": "2022-07-10T11:38:12.694Z"
   },
   {
    "duration": 2684,
    "start_time": "2022-07-10T11:43:58.002Z"
   },
   {
    "duration": 10,
    "start_time": "2022-07-10T11:47:17.316Z"
   },
   {
    "duration": 5,
    "start_time": "2022-07-10T11:47:28.945Z"
   },
   {
    "duration": 5,
    "start_time": "2022-07-10T11:47:52.155Z"
   },
   {
    "duration": 4,
    "start_time": "2022-07-10T11:48:02.669Z"
   },
   {
    "duration": 5,
    "start_time": "2022-07-10T11:48:05.583Z"
   },
   {
    "duration": 5,
    "start_time": "2022-07-10T11:48:09.444Z"
   },
   {
    "duration": 4,
    "start_time": "2022-07-10T11:48:15.324Z"
   },
   {
    "duration": 6,
    "start_time": "2022-07-10T11:48:18.156Z"
   },
   {
    "duration": 5,
    "start_time": "2022-07-10T11:48:48.908Z"
   },
   {
    "duration": 5,
    "start_time": "2022-07-10T11:49:00.758Z"
   },
   {
    "duration": 5,
    "start_time": "2022-07-10T11:49:49.944Z"
   },
   {
    "duration": 5,
    "start_time": "2022-07-10T11:49:54.657Z"
   },
   {
    "duration": 5,
    "start_time": "2022-07-10T11:50:02.156Z"
   },
   {
    "duration": 108,
    "start_time": "2022-07-10T11:50:10.769Z"
   },
   {
    "duration": 4,
    "start_time": "2022-07-10T11:50:15.895Z"
   },
   {
    "duration": 5,
    "start_time": "2022-07-10T11:50:21.926Z"
   },
   {
    "duration": 4,
    "start_time": "2022-07-10T11:50:24.124Z"
   },
   {
    "duration": 6,
    "start_time": "2022-07-10T11:50:29.058Z"
   },
   {
    "duration": 7,
    "start_time": "2022-07-10T11:50:32.757Z"
   },
   {
    "duration": 6,
    "start_time": "2022-07-10T11:50:50.287Z"
   },
   {
    "duration": 5,
    "start_time": "2022-07-10T11:51:08.836Z"
   },
   {
    "duration": 5,
    "start_time": "2022-07-10T11:51:15.652Z"
   },
   {
    "duration": 4,
    "start_time": "2022-07-10T11:51:25.856Z"
   },
   {
    "duration": 4,
    "start_time": "2022-07-10T11:51:29.965Z"
   },
   {
    "duration": 5,
    "start_time": "2022-07-10T11:51:39.247Z"
   },
   {
    "duration": 4,
    "start_time": "2022-07-10T11:51:40.473Z"
   },
   {
    "duration": 5,
    "start_time": "2022-07-10T11:51:59.016Z"
   },
   {
    "duration": 4,
    "start_time": "2022-07-10T11:52:05.219Z"
   },
   {
    "duration": 10,
    "start_time": "2022-07-10T11:52:07.724Z"
   },
   {
    "duration": 4,
    "start_time": "2022-07-10T11:53:38.287Z"
   },
   {
    "duration": 5,
    "start_time": "2022-07-10T11:53:40.338Z"
   },
   {
    "duration": 24,
    "start_time": "2022-07-10T11:53:51.210Z"
   },
   {
    "duration": 25,
    "start_time": "2022-07-10T11:54:06.378Z"
   },
   {
    "duration": 2565,
    "start_time": "2022-07-10T11:54:47.079Z"
   },
   {
    "duration": 5,
    "start_time": "2022-07-10T11:54:55.872Z"
   },
   {
    "duration": 1388,
    "start_time": "2022-07-10T11:55:48.196Z"
   },
   {
    "duration": 1517,
    "start_time": "2022-07-10T11:56:15.857Z"
   },
   {
    "duration": 4,
    "start_time": "2022-07-10T11:56:22.748Z"
   },
   {
    "duration": 5,
    "start_time": "2022-07-10T11:56:27.314Z"
   },
   {
    "duration": 6,
    "start_time": "2022-07-10T11:56:47.076Z"
   },
   {
    "duration": 1368,
    "start_time": "2022-07-10T11:57:00.187Z"
   },
   {
    "duration": 6,
    "start_time": "2022-07-10T11:57:03.751Z"
   },
   {
    "duration": 6,
    "start_time": "2022-07-10T11:57:10.629Z"
   },
   {
    "duration": 14,
    "start_time": "2022-07-10T11:57:42.689Z"
   },
   {
    "duration": 6,
    "start_time": "2022-07-10T11:57:45.846Z"
   },
   {
    "duration": 6,
    "start_time": "2022-07-10T11:57:49.280Z"
   },
   {
    "duration": 1385,
    "start_time": "2022-07-10T11:57:53.160Z"
   },
   {
    "duration": 5,
    "start_time": "2022-07-10T11:58:06.273Z"
   },
   {
    "duration": 6,
    "start_time": "2022-07-10T11:58:08.172Z"
   },
   {
    "duration": 6,
    "start_time": "2022-07-10T11:58:24.930Z"
   },
   {
    "duration": 8,
    "start_time": "2022-07-10T11:58:46.461Z"
   },
   {
    "duration": 9,
    "start_time": "2022-07-10T11:59:29.454Z"
   },
   {
    "duration": 6,
    "start_time": "2022-07-10T11:59:37.998Z"
   },
   {
    "duration": 14,
    "start_time": "2022-07-10T11:59:47.301Z"
   },
   {
    "duration": 15,
    "start_time": "2022-07-10T11:59:57.539Z"
   },
   {
    "duration": 5,
    "start_time": "2022-07-10T12:00:03.303Z"
   },
   {
    "duration": 5,
    "start_time": "2022-07-10T12:00:11.044Z"
   },
   {
    "duration": 8,
    "start_time": "2022-07-10T12:04:00.609Z"
   },
   {
    "duration": 77,
    "start_time": "2022-07-10T12:04:14.466Z"
   },
   {
    "duration": 11,
    "start_time": "2022-07-10T12:04:16.725Z"
   },
   {
    "duration": 10,
    "start_time": "2022-07-10T12:04:45.821Z"
   },
   {
    "duration": 1425,
    "start_time": "2022-07-10T12:05:03.943Z"
   },
   {
    "duration": 657,
    "start_time": "2022-07-10T12:05:05.370Z"
   },
   {
    "duration": 34,
    "start_time": "2022-07-10T12:05:06.029Z"
   },
   {
    "duration": 43,
    "start_time": "2022-07-10T12:05:06.066Z"
   },
   {
    "duration": 28,
    "start_time": "2022-07-10T12:05:06.112Z"
   },
   {
    "duration": 11,
    "start_time": "2022-07-10T12:05:06.142Z"
   },
   {
    "duration": 10,
    "start_time": "2022-07-10T12:05:06.156Z"
   },
   {
    "duration": 12,
    "start_time": "2022-07-10T12:05:06.168Z"
   },
   {
    "duration": 241,
    "start_time": "2022-07-10T12:05:06.182Z"
   },
   {
    "duration": 6,
    "start_time": "2022-07-10T12:05:06.425Z"
   },
   {
    "duration": 20,
    "start_time": "2022-07-10T12:05:06.432Z"
   },
   {
    "duration": 173,
    "start_time": "2022-07-10T12:05:06.454Z"
   },
   {
    "duration": 34,
    "start_time": "2022-07-10T12:05:06.629Z"
   },
   {
    "duration": 129,
    "start_time": "2022-07-10T12:05:06.667Z"
   },
   {
    "duration": 16,
    "start_time": "2022-07-10T12:05:06.798Z"
   },
   {
    "duration": 11,
    "start_time": "2022-07-10T12:05:06.815Z"
   },
   {
    "duration": 14,
    "start_time": "2022-07-10T12:05:06.828Z"
   },
   {
    "duration": 31,
    "start_time": "2022-07-10T12:05:06.843Z"
   },
   {
    "duration": 12,
    "start_time": "2022-07-10T12:05:06.905Z"
   },
   {
    "duration": 16,
    "start_time": "2022-07-10T12:05:06.919Z"
   },
   {
    "duration": 11,
    "start_time": "2022-07-10T12:05:06.936Z"
   },
   {
    "duration": 15,
    "start_time": "2022-07-10T12:05:06.949Z"
   },
   {
    "duration": 3,
    "start_time": "2022-07-10T12:05:06.966Z"
   },
   {
    "duration": 313,
    "start_time": "2022-07-10T12:05:07.004Z"
   },
   {
    "duration": 237,
    "start_time": "2022-07-10T12:05:07.319Z"
   },
   {
    "duration": 250,
    "start_time": "2022-07-10T12:05:07.557Z"
   },
   {
    "duration": 6,
    "start_time": "2022-07-10T12:05:07.808Z"
   },
   {
    "duration": 330,
    "start_time": "2022-07-10T12:05:07.816Z"
   },
   {
    "duration": 255,
    "start_time": "2022-07-10T12:05:08.149Z"
   },
   {
    "duration": 242,
    "start_time": "2022-07-10T12:05:08.405Z"
   },
   {
    "duration": 79,
    "start_time": "2022-07-10T12:05:08.649Z"
   },
   {
    "duration": 43,
    "start_time": "2022-07-10T12:05:08.731Z"
   },
   {
    "duration": 3,
    "start_time": "2022-07-10T12:05:08.776Z"
   },
   {
    "duration": 6,
    "start_time": "2022-07-10T12:05:08.781Z"
   },
   {
    "duration": 8,
    "start_time": "2022-07-10T12:05:08.806Z"
   },
   {
    "duration": 19,
    "start_time": "2022-07-10T12:05:08.816Z"
   },
   {
    "duration": 6,
    "start_time": "2022-07-10T12:05:08.837Z"
   },
   {
    "duration": 40,
    "start_time": "2022-07-10T12:05:08.845Z"
   },
   {
    "duration": 31,
    "start_time": "2022-07-10T12:05:08.888Z"
   },
   {
    "duration": 283,
    "start_time": "2022-07-10T12:05:08.921Z"
   },
   {
    "duration": 1900,
    "start_time": "2022-07-10T12:05:09.207Z"
   },
   {
    "duration": 109,
    "start_time": "2022-07-10T12:05:11.109Z"
   },
   {
    "duration": 2303,
    "start_time": "2022-07-10T12:05:11.305Z"
   },
   {
    "duration": 5,
    "start_time": "2022-07-10T12:05:13.610Z"
   },
   {
    "duration": 139,
    "start_time": "2022-07-10T12:05:13.617Z"
   },
   {
    "duration": 19,
    "start_time": "2022-07-10T12:05:20.499Z"
   },
   {
    "duration": 16,
    "start_time": "2022-07-10T12:05:22.598Z"
   },
   {
    "duration": 1401,
    "start_time": "2022-07-10T12:05:23.773Z"
   },
   {
    "duration": 8,
    "start_time": "2022-07-10T12:05:34.591Z"
   },
   {
    "duration": 3,
    "start_time": "2022-07-10T12:05:42.877Z"
   },
   {
    "duration": 12,
    "start_time": "2022-07-10T12:05:45.027Z"
   },
   {
    "duration": 10,
    "start_time": "2022-07-10T12:05:50.970Z"
   },
   {
    "duration": 5,
    "start_time": "2022-07-10T12:06:03.688Z"
   },
   {
    "duration": 6,
    "start_time": "2022-07-10T12:06:17.544Z"
   },
   {
    "duration": 7,
    "start_time": "2022-07-10T12:06:23.006Z"
   },
   {
    "duration": 4,
    "start_time": "2022-07-10T12:07:06.244Z"
   },
   {
    "duration": 109,
    "start_time": "2022-07-10T12:07:23.895Z"
   },
   {
    "duration": 10,
    "start_time": "2022-07-10T12:07:29.312Z"
   },
   {
    "duration": 11,
    "start_time": "2022-07-10T12:07:32.367Z"
   },
   {
    "duration": 4,
    "start_time": "2022-07-10T12:07:50.024Z"
   },
   {
    "duration": 5,
    "start_time": "2022-07-10T12:08:09.400Z"
   },
   {
    "duration": 4,
    "start_time": "2022-07-10T12:08:17.146Z"
   },
   {
    "duration": 4,
    "start_time": "2022-07-10T12:08:21.924Z"
   },
   {
    "duration": 4,
    "start_time": "2022-07-10T12:08:48.383Z"
   },
   {
    "duration": 3,
    "start_time": "2022-07-10T12:08:56.227Z"
   },
   {
    "duration": 12,
    "start_time": "2022-07-10T12:09:03.064Z"
   },
   {
    "duration": 11,
    "start_time": "2022-07-10T12:09:12.971Z"
   },
   {
    "duration": 5,
    "start_time": "2022-07-10T12:09:17.863Z"
   },
   {
    "duration": 12,
    "start_time": "2022-07-10T12:09:36.548Z"
   },
   {
    "duration": 10,
    "start_time": "2022-07-10T12:09:38.779Z"
   },
   {
    "duration": 3,
    "start_time": "2022-07-10T12:09:49.245Z"
   },
   {
    "duration": 8,
    "start_time": "2022-07-10T12:09:54.612Z"
   },
   {
    "duration": 9,
    "start_time": "2022-07-10T12:10:08.602Z"
   },
   {
    "duration": 3,
    "start_time": "2022-07-10T12:10:13.917Z"
   },
   {
    "duration": 9,
    "start_time": "2022-07-10T12:10:26.229Z"
   },
   {
    "duration": 5,
    "start_time": "2022-07-10T12:10:41.380Z"
   },
   {
    "duration": 14,
    "start_time": "2022-07-10T12:11:24.841Z"
   },
   {
    "duration": 12,
    "start_time": "2022-07-10T12:11:33.595Z"
   },
   {
    "duration": 13,
    "start_time": "2022-07-10T12:11:39.866Z"
   },
   {
    "duration": 13,
    "start_time": "2022-07-10T12:11:42.714Z"
   },
   {
    "duration": 14,
    "start_time": "2022-07-10T12:11:44.809Z"
   },
   {
    "duration": 10,
    "start_time": "2022-07-10T12:11:51.866Z"
   },
   {
    "duration": 9,
    "start_time": "2022-07-10T12:11:55.170Z"
   },
   {
    "duration": 9,
    "start_time": "2022-07-10T12:12:01.879Z"
   },
   {
    "duration": 9,
    "start_time": "2022-07-10T12:12:14.487Z"
   },
   {
    "duration": 3,
    "start_time": "2022-07-10T12:13:28.528Z"
   },
   {
    "duration": 2826,
    "start_time": "2022-07-10T12:15:09.951Z"
   },
   {
    "duration": 10,
    "start_time": "2022-07-10T12:15:39.210Z"
   },
   {
    "duration": 8,
    "start_time": "2022-07-10T12:15:40.940Z"
   },
   {
    "duration": 9,
    "start_time": "2022-07-10T12:15:41.083Z"
   },
   {
    "duration": 7,
    "start_time": "2022-07-10T12:15:41.244Z"
   },
   {
    "duration": 7,
    "start_time": "2022-07-10T12:15:41.459Z"
   },
   {
    "duration": 7,
    "start_time": "2022-07-10T12:16:04.568Z"
   },
   {
    "duration": 13,
    "start_time": "2022-07-10T12:16:20.656Z"
   },
   {
    "duration": 12,
    "start_time": "2022-07-10T12:16:23.152Z"
   },
   {
    "duration": 9,
    "start_time": "2022-07-10T12:16:28.291Z"
   },
   {
    "duration": 4,
    "start_time": "2022-07-10T12:16:44.880Z"
   },
   {
    "duration": 20,
    "start_time": "2022-07-10T12:18:23.039Z"
   },
   {
    "duration": 14,
    "start_time": "2022-07-10T12:18:26.685Z"
   },
   {
    "duration": 1407,
    "start_time": "2022-07-10T12:21:22.906Z"
   },
   {
    "duration": 669,
    "start_time": "2022-07-10T12:21:24.315Z"
   },
   {
    "duration": 30,
    "start_time": "2022-07-10T12:21:24.986Z"
   },
   {
    "duration": 26,
    "start_time": "2022-07-10T12:21:25.019Z"
   },
   {
    "duration": 25,
    "start_time": "2022-07-10T12:21:25.047Z"
   },
   {
    "duration": 10,
    "start_time": "2022-07-10T12:21:25.073Z"
   },
   {
    "duration": 7,
    "start_time": "2022-07-10T12:21:25.084Z"
   },
   {
    "duration": 6,
    "start_time": "2022-07-10T12:21:25.105Z"
   },
   {
    "duration": 206,
    "start_time": "2022-07-10T12:21:25.113Z"
   },
   {
    "duration": 6,
    "start_time": "2022-07-10T12:21:25.322Z"
   },
   {
    "duration": 19,
    "start_time": "2022-07-10T12:21:25.330Z"
   },
   {
    "duration": 169,
    "start_time": "2022-07-10T12:21:25.351Z"
   },
   {
    "duration": 23,
    "start_time": "2022-07-10T12:21:25.521Z"
   },
   {
    "duration": 113,
    "start_time": "2022-07-10T12:21:25.545Z"
   },
   {
    "duration": 14,
    "start_time": "2022-07-10T12:21:25.659Z"
   },
   {
    "duration": 10,
    "start_time": "2022-07-10T12:21:25.675Z"
   },
   {
    "duration": 31,
    "start_time": "2022-07-10T12:21:25.686Z"
   },
   {
    "duration": 31,
    "start_time": "2022-07-10T12:21:25.719Z"
   },
   {
    "duration": 12,
    "start_time": "2022-07-10T12:21:25.752Z"
   },
   {
    "duration": 44,
    "start_time": "2022-07-10T12:21:25.765Z"
   },
   {
    "duration": 11,
    "start_time": "2022-07-10T12:21:25.811Z"
   },
   {
    "duration": 16,
    "start_time": "2022-07-10T12:21:25.825Z"
   },
   {
    "duration": 4,
    "start_time": "2022-07-10T12:21:25.843Z"
   },
   {
    "duration": 333,
    "start_time": "2022-07-10T12:21:25.848Z"
   },
   {
    "duration": 235,
    "start_time": "2022-07-10T12:21:26.183Z"
   },
   {
    "duration": 245,
    "start_time": "2022-07-10T12:21:26.420Z"
   },
   {
    "duration": 5,
    "start_time": "2022-07-10T12:21:26.667Z"
   },
   {
    "duration": 363,
    "start_time": "2022-07-10T12:21:26.675Z"
   },
   {
    "duration": 245,
    "start_time": "2022-07-10T12:21:27.039Z"
   },
   {
    "duration": 265,
    "start_time": "2022-07-10T12:21:27.286Z"
   },
   {
    "duration": 82,
    "start_time": "2022-07-10T12:21:27.553Z"
   },
   {
    "duration": 50,
    "start_time": "2022-07-10T12:21:27.637Z"
   },
   {
    "duration": 4,
    "start_time": "2022-07-10T12:21:27.704Z"
   },
   {
    "duration": 7,
    "start_time": "2022-07-10T12:21:27.709Z"
   },
   {
    "duration": 11,
    "start_time": "2022-07-10T12:21:27.717Z"
   },
   {
    "duration": 22,
    "start_time": "2022-07-10T12:21:27.730Z"
   },
   {
    "duration": 8,
    "start_time": "2022-07-10T12:21:27.753Z"
   },
   {
    "duration": 41,
    "start_time": "2022-07-10T12:21:27.763Z"
   },
   {
    "duration": 16,
    "start_time": "2022-07-10T12:21:27.805Z"
   },
   {
    "duration": 184,
    "start_time": "2022-07-10T12:21:27.823Z"
   },
   {
    "duration": 2403,
    "start_time": "2022-07-10T12:21:28.009Z"
   },
   {
    "duration": 200,
    "start_time": "2022-07-10T12:21:30.414Z"
   },
   {
    "duration": 2389,
    "start_time": "2022-07-10T12:21:30.615Z"
   },
   {
    "duration": 3,
    "start_time": "2022-07-10T12:21:33.006Z"
   },
   {
    "duration": 54,
    "start_time": "2022-07-10T12:21:33.011Z"
   },
   {
    "duration": 229281,
    "start_time": "2022-07-10T12:21:33.067Z"
   },
   {
    "duration": 5,
    "start_time": "2022-07-10T12:25:22.350Z"
   },
   {
    "duration": 22,
    "start_time": "2022-07-10T12:25:22.356Z"
   },
   {
    "duration": 27,
    "start_time": "2022-07-10T12:25:22.380Z"
   },
   {
    "duration": 2607,
    "start_time": "2022-07-10T12:25:22.408Z"
   },
   {
    "duration": 10,
    "start_time": "2022-07-10T12:25:25.017Z"
   },
   {
    "duration": 4,
    "start_time": "2022-07-10T12:54:24.462Z"
   },
   {
    "duration": 693,
    "start_time": "2022-07-10T12:54:24.470Z"
   },
   {
    "duration": 23,
    "start_time": "2022-07-10T12:54:25.165Z"
   },
   {
    "duration": 31,
    "start_time": "2022-07-10T12:54:25.189Z"
   },
   {
    "duration": 22,
    "start_time": "2022-07-10T12:54:25.222Z"
   },
   {
    "duration": 4,
    "start_time": "2022-07-10T12:54:25.246Z"
   },
   {
    "duration": 5,
    "start_time": "2022-07-10T12:54:25.252Z"
   },
   {
    "duration": 8,
    "start_time": "2022-07-10T12:54:25.258Z"
   },
   {
    "duration": 249,
    "start_time": "2022-07-10T12:54:25.268Z"
   },
   {
    "duration": 6,
    "start_time": "2022-07-10T12:54:25.519Z"
   },
   {
    "duration": 17,
    "start_time": "2022-07-10T12:54:25.528Z"
   },
   {
    "duration": 142,
    "start_time": "2022-07-10T12:54:25.547Z"
   },
   {
    "duration": 34,
    "start_time": "2022-07-10T12:54:25.690Z"
   },
   {
    "duration": 112,
    "start_time": "2022-07-10T12:54:25.726Z"
   },
   {
    "duration": 15,
    "start_time": "2022-07-10T12:54:25.840Z"
   },
   {
    "duration": 12,
    "start_time": "2022-07-10T12:54:25.857Z"
   },
   {
    "duration": 38,
    "start_time": "2022-07-10T12:54:25.870Z"
   },
   {
    "duration": 30,
    "start_time": "2022-07-10T12:54:25.910Z"
   },
   {
    "duration": 14,
    "start_time": "2022-07-10T12:54:25.941Z"
   },
   {
    "duration": 17,
    "start_time": "2022-07-10T12:54:25.956Z"
   },
   {
    "duration": 37,
    "start_time": "2022-07-10T12:54:25.975Z"
   },
   {
    "duration": 20,
    "start_time": "2022-07-10T12:54:26.014Z"
   },
   {
    "duration": 3,
    "start_time": "2022-07-10T12:54:26.036Z"
   },
   {
    "duration": 292,
    "start_time": "2022-07-10T12:54:26.040Z"
   },
   {
    "duration": 282,
    "start_time": "2022-07-10T12:54:26.334Z"
   },
   {
    "duration": 287,
    "start_time": "2022-07-10T12:54:26.618Z"
   },
   {
    "duration": 6,
    "start_time": "2022-07-10T12:54:26.907Z"
   },
   {
    "duration": 269,
    "start_time": "2022-07-10T12:54:26.914Z"
   },
   {
    "duration": 353,
    "start_time": "2022-07-10T12:54:27.186Z"
   },
   {
    "duration": 256,
    "start_time": "2022-07-10T12:54:27.541Z"
   },
   {
    "duration": 53,
    "start_time": "2022-07-10T12:54:27.804Z"
   },
   {
    "duration": 61,
    "start_time": "2022-07-10T12:54:27.859Z"
   },
   {
    "duration": 4,
    "start_time": "2022-07-10T12:54:27.921Z"
   },
   {
    "duration": 4,
    "start_time": "2022-07-10T12:54:27.927Z"
   },
   {
    "duration": 5,
    "start_time": "2022-07-10T12:54:27.933Z"
   },
   {
    "duration": 13,
    "start_time": "2022-07-10T12:54:27.939Z"
   },
   {
    "duration": 120,
    "start_time": "2022-07-10T12:54:44.115Z"
   },
   {
    "duration": 3,
    "start_time": "2022-07-10T12:55:13.969Z"
   },
   {
    "duration": 30,
    "start_time": "2022-07-10T12:55:15.394Z"
   },
   {
    "duration": 20,
    "start_time": "2022-07-10T12:55:30.073Z"
   },
   {
    "duration": 16,
    "start_time": "2022-07-10T12:55:32.859Z"
   },
   {
    "duration": 2708,
    "start_time": "2022-07-10T12:55:34.412Z"
   },
   {
    "duration": 11,
    "start_time": "2022-07-10T12:55:43.253Z"
   },
   {
    "duration": 1416,
    "start_time": "2022-07-10T12:56:02.374Z"
   },
   {
    "duration": 9,
    "start_time": "2022-07-10T12:56:52.481Z"
   },
   {
    "duration": 1691,
    "start_time": "2022-07-10T12:57:18.453Z"
   },
   {
    "duration": 9,
    "start_time": "2022-07-10T12:57:22.964Z"
   },
   {
    "duration": 6993,
    "start_time": "2022-07-10T12:57:40.071Z"
   },
   {
    "duration": 9,
    "start_time": "2022-07-10T12:57:49.318Z"
   },
   {
    "duration": 1420,
    "start_time": "2022-07-10T15:19:05.279Z"
   },
   {
    "duration": 1318,
    "start_time": "2022-07-10T15:19:06.701Z"
   },
   {
    "duration": 23,
    "start_time": "2022-07-10T15:19:08.020Z"
   },
   {
    "duration": 17,
    "start_time": "2022-07-10T15:19:08.045Z"
   },
   {
    "duration": 20,
    "start_time": "2022-07-10T15:19:08.064Z"
   },
   {
    "duration": 5,
    "start_time": "2022-07-10T15:19:08.086Z"
   },
   {
    "duration": 4,
    "start_time": "2022-07-10T15:19:08.092Z"
   },
   {
    "duration": 7,
    "start_time": "2022-07-10T15:19:08.097Z"
   },
   {
    "duration": 209,
    "start_time": "2022-07-10T15:19:08.105Z"
   },
   {
    "duration": 4,
    "start_time": "2022-07-10T15:19:08.316Z"
   },
   {
    "duration": 23,
    "start_time": "2022-07-10T15:19:08.322Z"
   },
   {
    "duration": 118,
    "start_time": "2022-07-10T15:19:08.347Z"
   },
   {
    "duration": 22,
    "start_time": "2022-07-10T15:19:08.466Z"
   },
   {
    "duration": 101,
    "start_time": "2022-07-10T15:19:08.489Z"
   },
   {
    "duration": 13,
    "start_time": "2022-07-10T15:19:08.591Z"
   },
   {
    "duration": 10,
    "start_time": "2022-07-10T15:19:08.605Z"
   },
   {
    "duration": 32,
    "start_time": "2022-07-10T15:19:08.617Z"
   },
   {
    "duration": 25,
    "start_time": "2022-07-10T15:19:08.651Z"
   },
   {
    "duration": 13,
    "start_time": "2022-07-10T15:19:08.678Z"
   },
   {
    "duration": 20,
    "start_time": "2022-07-10T15:19:08.693Z"
   },
   {
    "duration": 37,
    "start_time": "2022-07-10T15:19:08.714Z"
   },
   {
    "duration": 15,
    "start_time": "2022-07-10T15:19:08.753Z"
   },
   {
    "duration": 3,
    "start_time": "2022-07-10T15:19:08.770Z"
   },
   {
    "duration": 291,
    "start_time": "2022-07-10T15:19:08.774Z"
   },
   {
    "duration": 203,
    "start_time": "2022-07-10T15:19:09.067Z"
   },
   {
    "duration": 212,
    "start_time": "2022-07-10T15:19:09.272Z"
   },
   {
    "duration": 5,
    "start_time": "2022-07-10T15:19:09.486Z"
   },
   {
    "duration": 287,
    "start_time": "2022-07-10T15:19:09.494Z"
   },
   {
    "duration": 192,
    "start_time": "2022-07-10T15:19:09.783Z"
   },
   {
    "duration": 214,
    "start_time": "2022-07-10T15:19:09.976Z"
   },
   {
    "duration": 70,
    "start_time": "2022-07-10T15:19:10.191Z"
   },
   {
    "duration": 38,
    "start_time": "2022-07-10T15:19:10.264Z"
   },
   {
    "duration": 4,
    "start_time": "2022-07-10T15:19:10.303Z"
   },
   {
    "duration": 5,
    "start_time": "2022-07-10T15:19:10.308Z"
   },
   {
    "duration": 5,
    "start_time": "2022-07-10T15:19:10.314Z"
   },
   {
    "duration": 29,
    "start_time": "2022-07-10T15:19:10.320Z"
   },
   {
    "duration": 13,
    "start_time": "2022-07-10T15:19:10.350Z"
   },
   {
    "duration": 87,
    "start_time": "2022-07-10T15:19:10.364Z"
   },
   {
    "duration": 3697,
    "start_time": "2022-07-10T15:19:10.545Z"
   },
   {
    "duration": 102,
    "start_time": "2022-07-10T15:19:14.244Z"
   },
   {
    "duration": 2696,
    "start_time": "2022-07-10T15:19:14.349Z"
   },
   {
    "duration": 4,
    "start_time": "2022-07-10T15:19:17.047Z"
   },
   {
    "duration": 139,
    "start_time": "2022-07-10T15:19:17.053Z"
   },
   {
    "duration": 209120,
    "start_time": "2022-07-10T15:19:17.193Z"
   },
   {
    "duration": 4,
    "start_time": "2022-07-10T15:22:46.315Z"
   },
   {
    "duration": 11,
    "start_time": "2022-07-10T15:22:46.321Z"
   },
   {
    "duration": 22,
    "start_time": "2022-07-10T15:22:46.334Z"
   },
   {
    "duration": 6380,
    "start_time": "2022-07-10T15:22:46.358Z"
   },
   {
    "duration": 9,
    "start_time": "2022-07-10T15:22:52.740Z"
   },
   {
    "duration": 3198,
    "start_time": "2022-07-10T15:22:52.751Z"
   },
   {
    "duration": 8,
    "start_time": "2022-07-10T15:22:55.951Z"
   },
   {
    "duration": 1334,
    "start_time": "2022-12-07T22:00:55.593Z"
   },
   {
    "duration": 2566,
    "start_time": "2022-12-07T22:00:56.929Z"
   },
   {
    "duration": 25,
    "start_time": "2022-12-07T22:00:59.497Z"
   },
   {
    "duration": 19,
    "start_time": "2022-12-07T22:00:59.524Z"
   },
   {
    "duration": 22,
    "start_time": "2022-12-07T22:00:59.545Z"
   },
   {
    "duration": 6,
    "start_time": "2022-12-07T22:00:59.568Z"
   },
   {
    "duration": 8,
    "start_time": "2022-12-07T22:00:59.576Z"
   },
   {
    "duration": 10,
    "start_time": "2022-12-07T22:00:59.585Z"
   },
   {
    "duration": 213,
    "start_time": "2022-12-07T22:00:59.596Z"
   },
   {
    "duration": 5,
    "start_time": "2022-12-07T22:00:59.811Z"
   },
   {
    "duration": 24,
    "start_time": "2022-12-07T22:00:59.817Z"
   },
   {
    "duration": 132,
    "start_time": "2022-12-07T22:00:59.842Z"
   },
   {
    "duration": 25,
    "start_time": "2022-12-07T22:00:59.975Z"
   },
   {
    "duration": 119,
    "start_time": "2022-12-07T22:01:00.002Z"
   },
   {
    "duration": 24,
    "start_time": "2022-12-07T22:01:00.122Z"
   },
   {
    "duration": 25,
    "start_time": "2022-12-07T22:01:00.147Z"
   },
   {
    "duration": 30,
    "start_time": "2022-12-07T22:01:00.173Z"
   },
   {
    "duration": 36,
    "start_time": "2022-12-07T22:01:00.205Z"
   },
   {
    "duration": 13,
    "start_time": "2022-12-07T22:01:00.242Z"
   },
   {
    "duration": 38,
    "start_time": "2022-12-07T22:01:00.257Z"
   },
   {
    "duration": 11,
    "start_time": "2022-12-07T22:01:00.297Z"
   },
   {
    "duration": 29,
    "start_time": "2022-12-07T22:01:00.310Z"
   },
   {
    "duration": 7,
    "start_time": "2022-12-07T22:01:00.341Z"
   },
   {
    "duration": 269,
    "start_time": "2022-12-07T22:01:00.349Z"
   },
   {
    "duration": 252,
    "start_time": "2022-12-07T22:01:00.619Z"
   },
   {
    "duration": 243,
    "start_time": "2022-12-07T22:01:00.873Z"
   },
   {
    "duration": 17,
    "start_time": "2022-12-07T22:01:01.118Z"
   },
   {
    "duration": 354,
    "start_time": "2022-12-07T22:01:01.139Z"
   },
   {
    "duration": 223,
    "start_time": "2022-12-07T22:01:01.494Z"
   },
   {
    "duration": 244,
    "start_time": "2022-12-07T22:01:01.719Z"
   },
   {
    "duration": 80,
    "start_time": "2022-12-07T22:01:01.965Z"
   },
   {
    "duration": 44,
    "start_time": "2022-12-07T22:01:02.047Z"
   },
   {
    "duration": 5,
    "start_time": "2022-12-07T22:01:02.093Z"
   },
   {
    "duration": 14,
    "start_time": "2022-12-07T22:01:02.100Z"
   },
   {
    "duration": 41,
    "start_time": "2022-12-07T22:01:02.115Z"
   },
   {
    "duration": 40,
    "start_time": "2022-12-07T22:01:02.157Z"
   },
   {
    "duration": 43,
    "start_time": "2022-12-07T22:01:02.199Z"
   },
   {
    "duration": 95,
    "start_time": "2022-12-07T22:01:02.244Z"
   },
   {
    "duration": 2596,
    "start_time": "2022-12-07T22:01:02.340Z"
   },
   {
    "duration": 198,
    "start_time": "2022-12-07T22:01:04.938Z"
   },
   {
    "duration": 2704,
    "start_time": "2022-12-07T22:01:05.137Z"
   },
   {
    "duration": 4,
    "start_time": "2022-12-07T22:01:07.844Z"
   },
   {
    "duration": 152,
    "start_time": "2022-12-07T22:01:07.935Z"
   },
   {
    "duration": 234926,
    "start_time": "2022-12-07T22:01:08.089Z"
   },
   {
    "duration": 5,
    "start_time": "2022-12-07T22:05:03.017Z"
   },
   {
    "duration": 26,
    "start_time": "2022-12-07T22:05:03.024Z"
   },
   {
    "duration": 25,
    "start_time": "2022-12-07T22:05:03.052Z"
   },
   {
    "duration": 7459,
    "start_time": "2022-12-07T22:05:03.079Z"
   },
   {
    "duration": 10,
    "start_time": "2022-12-07T22:05:10.540Z"
   },
   {
    "duration": 3738,
    "start_time": "2022-12-07T22:05:10.551Z"
   },
   {
    "duration": 9,
    "start_time": "2022-12-07T22:05:14.291Z"
   }
  ],
  "kernelspec": {
   "display_name": "Python 3 (ipykernel)",
   "language": "python",
   "name": "python3"
  },
  "language_info": {
   "codemirror_mode": {
    "name": "ipython",
    "version": 3
   },
   "file_extension": ".py",
   "mimetype": "text/x-python",
   "name": "python",
   "nbconvert_exporter": "python",
   "pygments_lexer": "ipython3",
   "version": "3.9.7"
  },
  "toc": {
   "base_numbering": 1,
   "nav_menu": {},
   "number_sections": true,
   "sideBar": true,
   "skip_h1_title": true,
   "title_cell": "Содержание",
   "title_sidebar": "Contents",
   "toc_cell": true,
   "toc_position": {
    "height": "calc(100% - 180px)",
    "left": "10px",
    "top": "150px",
    "width": "185px"
   },
   "toc_section_display": true,
   "toc_window_display": true
  }
 },
 "nbformat": 4,
 "nbformat_minor": 2
}
