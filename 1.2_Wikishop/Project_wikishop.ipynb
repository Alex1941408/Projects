{
 "cells": [
  {
   "cell_type": "markdown",
   "metadata": {},
   "source": [
    "## Подготовка"
   ]
  },
  {
   "cell_type": "markdown",
   "metadata": {},
   "source": [
    "Импортируем необходимые для работы библиотеки:"
   ]
  },
  {
   "cell_type": "code",
   "execution_count": 1,
   "metadata": {},
   "outputs": [],
   "source": [
    "import pandas as pd\n",
    "import numpy as np\n",
    "import re \n",
    "import tqdm\n",
    "import nltk\n",
    "import spacy\n",
    "from tqdm import notebook\n",
    "from nltk.stem import WordNetLemmatizer\n",
    "from nltk.corpus import wordnet\n",
    "from nltk.corpus import stopwords as nltk_stopwords\n",
    "from sklearn.ensemble import RandomForestClassifier\n",
    "from sklearn.linear_model import LogisticRegression\n",
    "from sklearn.model_selection import cross_val_score\n",
    "from sklearn.model_selection import train_test_split\n",
    "from sklearn.feature_extraction.text import TfidfVectorizer \n",
    "from sklearn.metrics import f1_score"
   ]
  },
  {
   "cell_type": "markdown",
   "metadata": {},
   "source": [
    "Откроем файл (так как проект был выполнен локально, путь к файлу прописан для той же папки, где находился файл проекта):"
   ]
  },
  {
   "cell_type": "code",
   "execution_count": 2,
   "metadata": {},
   "outputs": [
    {
     "name": "stdout",
     "output_type": "stream",
     "text": [
      "                                                text  toxic\n",
      "0  Explanation\\nWhy the edits made under my usern...      0\n",
      "1  D'aww! He matches this background colour I'm s...      0\n",
      "2  Hey man, I'm really not trying to edit war. It...      0\n",
      "3  \"\\nMore\\nI can't make any real suggestions on ...      0\n",
      "4  You, sir, are my hero. Any chance you remember...      0\n",
      "<class 'pandas.core.frame.DataFrame'>\n",
      "RangeIndex: 159292 entries, 0 to 159291\n",
      "Data columns (total 2 columns):\n",
      " #   Column  Non-Null Count   Dtype \n",
      "---  ------  --------------   ----- \n",
      " 0   text    159292 non-null  object\n",
      " 1   toxic   159292 non-null  int64 \n",
      "dtypes: int64(1), object(1)\n",
      "memory usage: 2.4+ MB\n"
     ]
    }
   ],
   "source": [
    "df = pd.read_csv('https://code.s3.yandex.net/datasets/toxic_comments.csv', index_col = 0).reset_index(drop = True)\n",
    "print(df.head())\n",
    "df.info()"
   ]
  },
  {
   "cell_type": "markdown",
   "metadata": {},
   "source": [
    "Проверим данные на дубликаты:"
   ]
  },
  {
   "cell_type": "code",
   "execution_count": 3,
   "metadata": {
    "scrolled": true
   },
   "outputs": [
    {
     "data": {
      "text/plain": [
       "0"
      ]
     },
     "execution_count": 3,
     "metadata": {},
     "output_type": "execute_result"
    }
   ],
   "source": [
    "df['text'].duplicated().sum()"
   ]
  },
  {
   "cell_type": "markdown",
   "metadata": {},
   "source": [
    "Создадим функцию, определяющую тег слова для WordNetLemmatizer:"
   ]
  },
  {
   "cell_type": "code",
   "execution_count": 4,
   "metadata": {
    "scrolled": true
   },
   "outputs": [
    {
     "name": "stderr",
     "output_type": "stream",
     "text": [
      "[nltk_data] Downloading package averaged_perceptron_tagger to\n",
      "[nltk_data]     /home/jovyan/nltk_data...\n",
      "[nltk_data]   Unzipping taggers/averaged_perceptron_tagger.zip.\n"
     ]
    }
   ],
   "source": [
    "nltk.download('averaged_perceptron_tagger')\n",
    "lemmatizer = WordNetLemmatizer()\n",
    "\n",
    "def pos_tagger(nltk_tag):\n",
    "    if nltk_tag.startswith('J'):\n",
    "        return wordnet.ADJ\n",
    "    elif nltk_tag.startswith('V'):\n",
    "        return wordnet.VERB\n",
    "    elif nltk_tag.startswith('N'):\n",
    "        return wordnet.NOUN\n",
    "    elif nltk_tag.startswith('R'):\n",
    "        return wordnet.ADV\n",
    "    else:\n",
    "        return None"
   ]
  },
  {
   "cell_type": "markdown",
   "metadata": {},
   "source": [
    "Создадим функцию, производящую токенизацию и лемматизацию текста:"
   ]
  },
  {
   "cell_type": "code",
   "execution_count": 5,
   "metadata": {},
   "outputs": [],
   "source": [
    "def lemmatize(text):\n",
    "    \n",
    "    pos_tagged = nltk.pos_tag(nltk.word_tokenize(text))\n",
    "    wordnet_tagged = list(map(lambda index: (index[0], pos_tagger(index[1])), pos_tagged))\n",
    "    \n",
    "    lemmatized_sentence = []\n",
    "    \n",
    "    for word, tag in wordnet_tagged:\n",
    "        \n",
    "        if tag is None:\n",
    "            lemmatized_sentence.append(word)\n",
    "        else:\n",
    "            lemmatized_sentence.append(lemmatizer.lemmatize(word, tag))\n",
    "            \n",
    "    lemmatized_sentence = \" \".join(lemmatized_sentence)\n",
    "        \n",
    "    return lemmatized_sentence"
   ]
  },
  {
   "cell_type": "markdown",
   "metadata": {},
   "source": [
    "Лемматизируем датасет:"
   ]
  },
  {
   "cell_type": "code",
   "execution_count": 6,
   "metadata": {},
   "outputs": [
    {
     "data": {
      "application/vnd.jupyter.widget-view+json": {
       "model_id": "3ece47cb9681455f86f86aee22d34afb",
       "version_major": 2,
       "version_minor": 0
      },
      "text/plain": [
       "  0%|          | 0/159292 [00:00<?, ?it/s]"
      ]
     },
     "metadata": {},
     "output_type": "display_data"
    },
    {
     "name": "stderr",
     "output_type": "stream",
     "text": [
      "/tmp/ipykernel_537/3167603441.py:4: SettingWithCopyWarning: \n",
      "A value is trying to be set on a copy of a slice from a DataFrame\n",
      "\n",
      "See the caveats in the documentation: https://pandas.pydata.org/pandas-docs/stable/user_guide/indexing.html#returning-a-view-versus-a-copy\n",
      "  df['lemm_text'][index] = lemmatize(df['text'][index].lower())\n"
     ]
    }
   ],
   "source": [
    "df['lemm_text'] = df['text'].copy()\n",
    "\n",
    "for index in notebook.tqdm(range(len(df['text']))):\n",
    "    df['lemm_text'][index] = lemmatize(df['text'][index].lower())"
   ]
  },
  {
   "cell_type": "code",
   "execution_count": 7,
   "metadata": {},
   "outputs": [
    {
     "data": {
      "text/html": [
       "<div>\n",
       "<style scoped>\n",
       "    .dataframe tbody tr th:only-of-type {\n",
       "        vertical-align: middle;\n",
       "    }\n",
       "\n",
       "    .dataframe tbody tr th {\n",
       "        vertical-align: top;\n",
       "    }\n",
       "\n",
       "    .dataframe thead th {\n",
       "        text-align: right;\n",
       "    }\n",
       "</style>\n",
       "<table border=\"1\" class=\"dataframe\">\n",
       "  <thead>\n",
       "    <tr style=\"text-align: right;\">\n",
       "      <th></th>\n",
       "      <th>text</th>\n",
       "      <th>toxic</th>\n",
       "      <th>lemm_text</th>\n",
       "    </tr>\n",
       "  </thead>\n",
       "  <tbody>\n",
       "    <tr>\n",
       "      <th>0</th>\n",
       "      <td>Explanation\\nWhy the edits made under my usern...</td>\n",
       "      <td>0</td>\n",
       "      <td>explanation why the edits make under my userna...</td>\n",
       "    </tr>\n",
       "    <tr>\n",
       "      <th>1</th>\n",
       "      <td>D'aww! He matches this background colour I'm s...</td>\n",
       "      <td>0</td>\n",
       "      <td>d'aww ! he match this background colour i 'm s...</td>\n",
       "    </tr>\n",
       "    <tr>\n",
       "      <th>2</th>\n",
       "      <td>Hey man, I'm really not trying to edit war. It...</td>\n",
       "      <td>0</td>\n",
       "      <td>hey man , i 'm really not try to edit war . it...</td>\n",
       "    </tr>\n",
       "    <tr>\n",
       "      <th>3</th>\n",
       "      <td>\"\\nMore\\nI can't make any real suggestions on ...</td>\n",
       "      <td>0</td>\n",
       "      <td>`` more i ca n't make any real suggestion on i...</td>\n",
       "    </tr>\n",
       "    <tr>\n",
       "      <th>4</th>\n",
       "      <td>You, sir, are my hero. Any chance you remember...</td>\n",
       "      <td>0</td>\n",
       "      <td>you , sir , be my hero . any chance you rememb...</td>\n",
       "    </tr>\n",
       "  </tbody>\n",
       "</table>\n",
       "</div>"
      ],
      "text/plain": [
       "                                                text  toxic  \\\n",
       "0  Explanation\\nWhy the edits made under my usern...      0   \n",
       "1  D'aww! He matches this background colour I'm s...      0   \n",
       "2  Hey man, I'm really not trying to edit war. It...      0   \n",
       "3  \"\\nMore\\nI can't make any real suggestions on ...      0   \n",
       "4  You, sir, are my hero. Any chance you remember...      0   \n",
       "\n",
       "                                           lemm_text  \n",
       "0  explanation why the edits make under my userna...  \n",
       "1  d'aww ! he match this background colour i 'm s...  \n",
       "2  hey man , i 'm really not try to edit war . it...  \n",
       "3  `` more i ca n't make any real suggestion on i...  \n",
       "4  you , sir , be my hero . any chance you rememb...  "
      ]
     },
     "execution_count": 7,
     "metadata": {},
     "output_type": "execute_result"
    }
   ],
   "source": [
    "df.head()"
   ]
  },
  {
   "cell_type": "markdown",
   "metadata": {},
   "source": [
    "## Обучение"
   ]
  },
  {
   "cell_type": "markdown",
   "metadata": {},
   "source": [
    "### Подготовка модели"
   ]
  },
  {
   "cell_type": "markdown",
   "metadata": {},
   "source": [
    "Разделим датасет на обучающие и тестовые `features` и `target`:"
   ]
  },
  {
   "cell_type": "code",
   "execution_count": 8,
   "metadata": {},
   "outputs": [],
   "source": [
    "features_train, features_test, target_train, target_test = train_test_split(df['lemm_text'], \n",
    "                                                                            df['toxic'], shuffle = False, test_size = 0.2)"
   ]
  },
  {
   "cell_type": "markdown",
   "metadata": {},
   "source": [
    "Загрузим стоп-слова английского языка и подготовим `features` к обучению с помощью `TF-IDF`: "
   ]
  },
  {
   "cell_type": "code",
   "execution_count": 9,
   "metadata": {},
   "outputs": [],
   "source": [
    "stopwords = set(nltk_stopwords.words('english'))\n",
    "\n",
    "tf_idf_model = TfidfVectorizer(stop_words = stopwords)\n",
    "tf_idf_train = tf_idf_model.fit_transform(features_train.values)\n",
    "tf_idf_test = tf_idf_model.transform(features_test.values)"
   ]
  },
  {
   "cell_type": "markdown",
   "metadata": {},
   "source": [
    "### Модель RF"
   ]
  },
  {
   "cell_type": "markdown",
   "metadata": {},
   "source": [
    "Проверим качество модели, обучив ее на алгоритме RF. Основной метрикой будет `F1`:"
   ]
  },
  {
   "cell_type": "code",
   "execution_count": 10,
   "metadata": {
    "scrolled": true
   },
   "outputs": [
    {
     "data": {
      "application/vnd.jupyter.widget-view+json": {
       "model_id": "09590d5aaeb54535b55dd788114942cb",
       "version_major": 2,
       "version_minor": 0
      },
      "text/plain": [
       "  0%|          | 0/4 [00:00<?, ?it/s]"
      ]
     },
     "metadata": {},
     "output_type": "display_data"
    },
    {
     "name": "stdout",
     "output_type": "stream",
     "text": [
      "Значение F1-метрики: 0.13859692548416466\n",
      "Значение F1-метрики: 0.2086117324078586\n",
      "Значение F1-метрики: 0.2535800637572451\n",
      "Значение F1-метрики: 0.2922309499209972\n"
     ]
    }
   ],
   "source": [
    "for est in range(1, 5):\n",
    "    for depth in notebook.tqdm(range(1, 5)):\n",
    "        \n",
    "        model_RF = RandomForestClassifier(random_state = 12345, n_estimators = est, \n",
    "                                          max_depth = depth,  max_features = 10_000)\n",
    "        model_RF.fit(tf_idf_train, target_train)\n",
    "        \n",
    "        scores_RF = cross_val_score(model_RF, tf_idf_train, target_train, scoring = 'f1', cv = 5)\n",
    "        final_score_RF = sum(scores_RF) / len(scores_RF)\n",
    "        \n",
    "        print('Значение F1-метрики:', final_score_RF)\n",
    "        \n",
    "        if final_score_RF >= 0.75:  \n",
    "            \n",
    "            print('Значение гиперпараметра max_depth:', depth)    \n",
    "            print('Значение гиперпараметра n_estimators:', est)  \n",
    "            break\n",
    "    break"
   ]
  },
  {
   "cell_type": "markdown",
   "metadata": {},
   "source": [
    "Из полученных результатов следует, что модель RF не выполняет задачу с заданной точностью"
   ]
  },
  {
   "cell_type": "markdown",
   "metadata": {},
   "source": [
    "### Модель LR"
   ]
  },
  {
   "cell_type": "markdown",
   "metadata": {},
   "source": [
    "Проверим качество модели, обучив ее на алгоритме LR. Основной метрикой будет `F1`:"
   ]
  },
  {
   "cell_type": "code",
   "execution_count": 11,
   "metadata": {
    "scrolled": false
   },
   "outputs": [
    {
     "data": {
      "application/vnd.jupyter.widget-view+json": {
       "model_id": "f20c54ed124343038cde07cb0341125c",
       "version_major": 2,
       "version_minor": 0
      },
      "text/plain": [
       "  0%|          | 0/5 [00:00<?, ?it/s]"
      ]
     },
     "metadata": {},
     "output_type": "display_data"
    },
    {
     "name": "stdout",
     "output_type": "stream",
     "text": [
      "Значение F1-метрики: 0.7518631134149449\n",
      "Значение гиперпараметра C: 3.5\n"
     ]
    }
   ],
   "source": [
    "for index in notebook.tqdm(range(35, 40)):\n",
    "\n",
    "    model_LR = LogisticRegression(random_state = 12345, C = index / 10, max_iter = 1000)\n",
    "    model_LR.fit(tf_idf_train, target_train)\n",
    "    \n",
    "    scores_LR = cross_val_score(model_LR, tf_idf_train, target_train, scoring = 'f1', cv = 5)\n",
    "    final_score_LR = sum(scores_LR) / len(scores_LR)\n",
    "\n",
    "    if final_score_LR >= 0.75:  \n",
    "        \n",
    "        print('Значение F1-метрики:', final_score_LR)\n",
    "        print('Значение гиперпараметра C:', index / 10)      \n",
    "        break"
   ]
  },
  {
   "cell_type": "markdown",
   "metadata": {},
   "source": [
    "Из полученных результатов следует, что модель RF выполняет задачу с заданной точностью (F1 не менее 0.75)"
   ]
  },
  {
   "cell_type": "markdown",
   "metadata": {},
   "source": [
    "### Тестирование"
   ]
  },
  {
   "cell_type": "markdown",
   "metadata": {},
   "source": [
    "Проведем тестирование модели RF и определим, как меняется точность модели на тестовой выборке, используя лучшие гиперпараметры:"
   ]
  },
  {
   "cell_type": "code",
   "execution_count": 12,
   "metadata": {},
   "outputs": [
    {
     "name": "stdout",
     "output_type": "stream",
     "text": [
      "Значение F1-метрики: 0.7608461814270349\n"
     ]
    }
   ],
   "source": [
    "model_LR_test = LogisticRegression(random_state = 12345, C = 3.5, max_iter = 1000)\n",
    "model_LR_test.fit(tf_idf_train, target_train)\n",
    "predictions_RF_test = model_LR_test.predict(tf_idf_test)\n",
    "print('Значение F1-метрики:', f1_score(target_test, predictions_RF_test))"
   ]
  },
  {
   "cell_type": "markdown",
   "metadata": {},
   "source": [
    "Значение на тестовой выборке не ухудшилось, модель работает с заданной точностью"
   ]
  },
  {
   "cell_type": "markdown",
   "metadata": {},
   "source": [
    "## Выводы"
   ]
  },
  {
   "cell_type": "markdown",
   "metadata": {},
   "source": [
    "В ходе выполнения проекта были произведены: подготовка данных, обучение на разных моделях и тестирование.\n",
    "\n",
    "В процессе выполнения подготовки данных данные были проведены анализ на дубликаты, анализ на пропуски, исходный текст был лемматизирован с помощью `WordNetLemmatizer`.\n",
    "\n",
    "В процессе обучения модели были произведены обучение на моделях RF и LR. Получены следующие результаты:\n",
    "1. Модель RF не работает с заданной точностью\n",
    "2. Модель LR имеет качество модели по метрике F1 0.750866, что подходит под необходимое условие (не менее 0.75)\n",
    "\n",
    "Тестирование производилось для модели LR. Результат - качество модели немного выше (0.764568), чем на обучающей вборке, модель работает с заданной точностью.\n",
    "\n",
    "Таким образом можно сделать вывод о том, что качество модели обучения текста в TF-IDF + LR гораздо лучше, чем у TF-IDF + RF"
   ]
  }
 ],
 "metadata": {
  "ExecuteTimeLog": [
   {
    "duration": 419,
    "start_time": "2022-08-28T12:36:13.572Z"
   },
   {
    "duration": 99,
    "start_time": "2022-08-28T12:36:34.875Z"
   },
   {
    "duration": 2388,
    "start_time": "2022-08-28T12:36:48.564Z"
   },
   {
    "duration": 16,
    "start_time": "2022-08-28T12:36:52.772Z"
   },
   {
    "duration": 842,
    "start_time": "2022-08-28T12:37:03.830Z"
   },
   {
    "duration": 8,
    "start_time": "2022-08-28T12:37:07.223Z"
   },
   {
    "duration": 782,
    "start_time": "2022-08-28T12:37:12.882Z"
   },
   {
    "duration": 9,
    "start_time": "2022-08-28T12:37:14.612Z"
   },
   {
    "duration": 972,
    "start_time": "2022-08-28T12:37:41.948Z"
   },
   {
    "duration": 19,
    "start_time": "2022-08-28T12:38:01.891Z"
   },
   {
    "duration": 7,
    "start_time": "2022-08-28T12:39:49.780Z"
   },
   {
    "duration": 17369,
    "start_time": "2022-08-28T12:39:52.690Z"
   },
   {
    "duration": 4,
    "start_time": "2022-08-28T12:40:12.396Z"
   },
   {
    "duration": 0,
    "start_time": "2022-08-28T12:40:59.820Z"
   },
   {
    "duration": 3,
    "start_time": "2022-08-28T12:41:00.362Z"
   },
   {
    "duration": 255,
    "start_time": "2022-08-28T12:42:12.227Z"
   },
   {
    "duration": 3,
    "start_time": "2022-08-28T12:43:03.179Z"
   },
   {
    "duration": 977,
    "start_time": "2022-08-28T12:43:24.354Z"
   },
   {
    "duration": 28,
    "start_time": "2022-08-28T12:43:54.547Z"
   },
   {
    "duration": 20,
    "start_time": "2022-08-28T12:43:59.738Z"
   },
   {
    "duration": 38,
    "start_time": "2022-08-28T12:44:19.027Z"
   },
   {
    "duration": 12,
    "start_time": "2022-08-28T12:44:35.426Z"
   },
   {
    "duration": 69,
    "start_time": "2022-08-28T12:44:45.490Z"
   },
   {
    "duration": 230,
    "start_time": "2022-08-28T12:44:48.867Z"
   },
   {
    "duration": 29,
    "start_time": "2022-08-28T12:44:57.785Z"
   },
   {
    "duration": 20,
    "start_time": "2022-08-28T12:45:03.554Z"
   },
   {
    "duration": 20,
    "start_time": "2022-08-28T12:45:09.043Z"
   },
   {
    "duration": 25,
    "start_time": "2022-08-28T12:45:36.929Z"
   },
   {
    "duration": 48,
    "start_time": "2022-08-28T12:45:58.839Z"
   },
   {
    "duration": 42,
    "start_time": "2022-08-28T12:46:05.310Z"
   },
   {
    "duration": 810,
    "start_time": "2022-08-28T12:46:13.321Z"
   },
   {
    "duration": 842,
    "start_time": "2022-08-28T12:46:20.249Z"
   },
   {
    "duration": 47656,
    "start_time": "2022-08-28T12:48:29.898Z"
   },
   {
    "duration": 4,
    "start_time": "2022-08-28T12:49:20.555Z"
   },
   {
    "duration": 3,
    "start_time": "2022-08-28T12:49:30.185Z"
   },
   {
    "duration": 3,
    "start_time": "2022-08-28T12:49:33.842Z"
   },
   {
    "duration": 98,
    "start_time": "2022-08-28T18:32:19.763Z"
   },
   {
    "duration": 19,
    "start_time": "2022-08-28T18:32:34.626Z"
   },
   {
    "duration": 88,
    "start_time": "2022-08-28T18:32:37.754Z"
   },
   {
    "duration": 52,
    "start_time": "2022-08-28T18:33:07.227Z"
   },
   {
    "duration": 6276,
    "start_time": "2022-08-28T18:35:23.520Z"
   },
   {
    "duration": 242702,
    "start_time": "2022-08-28T18:35:36.595Z"
   },
   {
    "duration": 45,
    "start_time": "2022-08-28T23:30:59.881Z"
   },
   {
    "duration": 43752,
    "start_time": "2022-08-28T23:31:04.820Z"
   },
   {
    "duration": 2319,
    "start_time": "2022-08-28T23:31:48.573Z"
   },
   {
    "duration": 74,
    "start_time": "2022-08-28T23:31:50.893Z"
   },
   {
    "duration": 196790,
    "start_time": "2022-08-28T23:31:50.968Z"
   },
   {
    "duration": 60,
    "start_time": "2022-08-28T23:39:24.425Z"
   },
   {
    "duration": 45044,
    "start_time": "2022-08-28T23:39:34.652Z"
   },
   {
    "duration": 2324,
    "start_time": "2022-08-28T23:41:06.506Z"
   },
   {
    "duration": 13,
    "start_time": "2022-08-28T23:41:21.884Z"
   },
   {
    "duration": 7,
    "start_time": "2022-08-28T23:41:35.596Z"
   },
   {
    "duration": 71,
    "start_time": "2022-08-28T23:41:46.619Z"
   },
   {
    "duration": 199763,
    "start_time": "2022-08-28T23:41:48.371Z"
   },
   {
    "duration": 8,
    "start_time": "2022-08-29T00:04:34.275Z"
   },
   {
    "duration": 3,
    "start_time": "2022-08-29T00:04:56.843Z"
   },
   {
    "duration": 9,
    "start_time": "2022-08-29T00:05:04.494Z"
   },
   {
    "duration": 9,
    "start_time": "2022-08-29T00:05:07.885Z"
   },
   {
    "duration": 7,
    "start_time": "2022-08-29T00:05:18.642Z"
   },
   {
    "duration": 2,
    "start_time": "2022-08-29T00:06:01.179Z"
   },
   {
    "duration": 22,
    "start_time": "2022-08-29T00:06:07.906Z"
   },
   {
    "duration": 5,
    "start_time": "2022-08-29T00:06:14.389Z"
   },
   {
    "duration": 4,
    "start_time": "2022-08-29T00:06:42.458Z"
   },
   {
    "duration": 7,
    "start_time": "2022-08-29T00:06:47.618Z"
   },
   {
    "duration": 4,
    "start_time": "2022-08-29T00:06:55.683Z"
   },
   {
    "duration": 7,
    "start_time": "2022-08-29T00:07:00.867Z"
   },
   {
    "duration": 44353,
    "start_time": "2022-08-29T00:08:24.892Z"
   },
   {
    "duration": 2320,
    "start_time": "2022-08-29T00:09:09.246Z"
   },
   {
    "duration": 76,
    "start_time": "2022-08-29T00:09:11.567Z"
   },
   {
    "duration": 48813,
    "start_time": "2022-08-29T00:13:43.510Z"
   },
   {
    "duration": 899,
    "start_time": "2022-08-29T00:14:32.324Z"
   },
   {
    "duration": 76,
    "start_time": "2022-08-29T00:14:33.224Z"
   },
   {
    "duration": 9,
    "start_time": "2022-08-29T00:14:58.806Z"
   },
   {
    "duration": 1121,
    "start_time": "2022-08-29T00:15:05.965Z"
   },
   {
    "duration": 2,
    "start_time": "2022-08-29T00:15:14.151Z"
   },
   {
    "duration": 3,
    "start_time": "2022-08-29T00:15:17.661Z"
   },
   {
    "duration": 4,
    "start_time": "2022-08-29T00:15:41.150Z"
   },
   {
    "duration": 23,
    "start_time": "2022-08-29T00:16:50.053Z"
   },
   {
    "duration": 613,
    "start_time": "2022-08-29T00:17:21.158Z"
   },
   {
    "duration": 5,
    "start_time": "2022-08-29T00:17:28.860Z"
   },
   {
    "duration": 4,
    "start_time": "2022-08-29T00:17:33.076Z"
   },
   {
    "duration": 3,
    "start_time": "2022-08-29T00:17:38.333Z"
   },
   {
    "duration": 4,
    "start_time": "2022-08-29T00:17:41.350Z"
   },
   {
    "duration": 29,
    "start_time": "2022-08-29T00:19:02.559Z"
   },
   {
    "duration": 29252,
    "start_time": "2022-08-29T00:19:43.733Z"
   },
   {
    "duration": 14,
    "start_time": "2022-08-29T00:20:16.253Z"
   },
   {
    "duration": 23,
    "start_time": "2022-08-29T00:20:44.389Z"
   },
   {
    "duration": 201696,
    "start_time": "2022-08-29T00:21:12.542Z"
   },
   {
    "duration": 196805,
    "start_time": "2022-08-29T00:24:53.475Z"
   },
   {
    "duration": 9,
    "start_time": "2022-08-29T00:28:36.195Z"
   },
   {
    "duration": 21,
    "start_time": "2022-08-29T00:31:38.691Z"
   },
   {
    "duration": 2029,
    "start_time": "2022-09-01T15:04:17.785Z"
   },
   {
    "duration": 2349,
    "start_time": "2022-09-01T15:04:19.815Z"
   },
   {
    "duration": 76,
    "start_time": "2022-09-01T15:04:22.166Z"
   },
   {
    "duration": 212567,
    "start_time": "2022-09-01T15:04:22.244Z"
   },
   {
    "duration": 7,
    "start_time": "2022-09-01T15:07:54.813Z"
   },
   {
    "duration": 24,
    "start_time": "2022-09-01T15:07:54.821Z"
   },
   {
    "duration": 3,
    "start_time": "2022-09-01T15:08:08.314Z"
   },
   {
    "duration": 11,
    "start_time": "2022-09-01T15:09:04.164Z"
   },
   {
    "duration": 303,
    "start_time": "2022-09-01T15:12:33.361Z"
   },
   {
    "duration": 52,
    "start_time": "2022-09-01T15:15:34.425Z"
   },
   {
    "duration": 421,
    "start_time": "2022-09-01T15:15:37.603Z"
   },
   {
    "duration": 2,
    "start_time": "2022-09-01T15:15:42.569Z"
   },
   {
    "duration": 3,
    "start_time": "2022-09-01T15:17:56.401Z"
   },
   {
    "duration": 49,
    "start_time": "2022-09-01T15:18:25.937Z"
   },
   {
    "duration": 22,
    "start_time": "2022-09-01T15:18:32.199Z"
   },
   {
    "duration": 4,
    "start_time": "2022-09-01T15:19:15.407Z"
   },
   {
    "duration": 22,
    "start_time": "2022-09-01T15:19:39.663Z"
   },
   {
    "duration": 27,
    "start_time": "2022-09-01T15:19:52.231Z"
   },
   {
    "duration": 3,
    "start_time": "2022-09-01T15:32:47.924Z"
   },
   {
    "duration": 21,
    "start_time": "2022-09-01T15:33:25.796Z"
   },
   {
    "duration": 15,
    "start_time": "2022-09-01T15:33:59.666Z"
   },
   {
    "duration": 17,
    "start_time": "2022-09-01T15:34:09.846Z"
   },
   {
    "duration": 1156,
    "start_time": "2022-09-01T15:34:23.316Z"
   },
   {
    "duration": 490,
    "start_time": "2022-09-01T15:37:31.589Z"
   },
   {
    "duration": 1187,
    "start_time": "2022-09-01T15:37:36.643Z"
   },
   {
    "duration": 20,
    "start_time": "2022-09-01T15:38:09.067Z"
   },
   {
    "duration": 11,
    "start_time": "2022-09-01T15:38:13.659Z"
   },
   {
    "duration": 15,
    "start_time": "2022-09-01T15:38:21.004Z"
   },
   {
    "duration": 9,
    "start_time": "2022-09-01T15:38:25.190Z"
   },
   {
    "duration": 359394,
    "start_time": "2022-09-01T15:38:56.900Z"
   },
   {
    "duration": 169490,
    "start_time": "2022-09-01T15:44:59.547Z"
   },
   {
    "duration": 6,
    "start_time": "2022-09-01T15:49:44.193Z"
   },
   {
    "duration": 7,
    "start_time": "2022-09-01T15:50:23.121Z"
   },
   {
    "duration": 19,
    "start_time": "2022-09-01T15:56:58.319Z"
   },
   {
    "duration": 15,
    "start_time": "2022-09-01T15:57:05.603Z"
   },
   {
    "duration": 12587,
    "start_time": "2022-09-01T19:02:59.309Z"
   },
   {
    "duration": 3396,
    "start_time": "2022-09-01T19:03:11.898Z"
   },
   {
    "duration": 81,
    "start_time": "2022-09-01T19:03:15.296Z"
   },
   {
    "duration": 22,
    "start_time": "2022-09-01T19:03:15.379Z"
   },
   {
    "duration": 200150,
    "start_time": "2022-09-01T19:03:15.403Z"
   },
   {
    "duration": 5,
    "start_time": "2022-09-01T19:06:35.555Z"
   },
   {
    "duration": 322,
    "start_time": "2022-09-01T19:06:35.568Z"
   },
   {
    "duration": 478,
    "start_time": "2022-09-01T23:02:22.520Z"
   },
   {
    "duration": 6531,
    "start_time": "2022-09-01T23:02:25.171Z"
   },
   {
    "duration": 5242,
    "start_time": "2022-09-01T23:02:47.947Z"
   },
   {
    "duration": 42,
    "start_time": "2022-09-02T04:53:35.100Z"
   },
   {
    "duration": 1210,
    "start_time": "2022-09-02T04:53:42.186Z"
   },
   {
    "duration": 2263,
    "start_time": "2022-09-02T04:53:45.155Z"
   },
   {
    "duration": 3,
    "start_time": "2022-09-02T04:54:41.737Z"
   },
   {
    "duration": 32616,
    "start_time": "2022-09-02T04:54:52.593Z"
   },
   {
    "duration": 27,
    "start_time": "2022-09-02T04:58:21.257Z"
   },
   {
    "duration": 19,
    "start_time": "2022-09-02T05:00:05.447Z"
   },
   {
    "duration": 6201,
    "start_time": "2022-09-02T05:01:49.963Z"
   },
   {
    "duration": 6139,
    "start_time": "2022-09-02T05:02:00.583Z"
   },
   {
    "duration": 84,
    "start_time": "2022-09-02T05:03:37.232Z"
   },
   {
    "duration": 15,
    "start_time": "2022-09-02T05:04:11.751Z"
   },
   {
    "duration": 5736,
    "start_time": "2022-09-02T05:04:36.071Z"
   },
   {
    "duration": 16,
    "start_time": "2022-09-02T05:04:42.611Z"
   },
   {
    "duration": 6011,
    "start_time": "2022-09-02T05:04:48.592Z"
   },
   {
    "duration": 16,
    "start_time": "2022-09-02T05:04:54.605Z"
   },
   {
    "duration": 16,
    "start_time": "2022-09-02T05:06:26.608Z"
   },
   {
    "duration": 9,
    "start_time": "2022-09-02T05:07:08.847Z"
   },
   {
    "duration": 36081,
    "start_time": "2022-09-02T05:07:32.159Z"
   },
   {
    "duration": 7421,
    "start_time": "2022-09-02T05:08:44.736Z"
   },
   {
    "duration": 134,
    "start_time": "2022-09-02T05:09:02.618Z"
   },
   {
    "duration": 120,
    "start_time": "2022-09-02T05:09:12.777Z"
   },
   {
    "duration": 1217,
    "start_time": "2022-09-02T05:09:39.840Z"
   },
   {
    "duration": 823,
    "start_time": "2022-09-02T05:09:41.059Z"
   },
   {
    "duration": 74,
    "start_time": "2022-09-02T05:09:41.883Z"
   },
   {
    "duration": 8,
    "start_time": "2022-09-02T05:09:41.958Z"
   },
   {
    "duration": 30831,
    "start_time": "2022-09-02T05:09:41.967Z"
   },
   {
    "duration": 16,
    "start_time": "2022-09-02T05:10:12.800Z"
   },
   {
    "duration": 6036,
    "start_time": "2022-09-02T05:10:12.818Z"
   },
   {
    "duration": 5939,
    "start_time": "2022-09-02T05:10:52.693Z"
   },
   {
    "duration": 249,
    "start_time": "2022-09-02T05:11:05.781Z"
   },
   {
    "duration": 16864,
    "start_time": "2022-09-02T05:11:25.959Z"
   },
   {
    "duration": 4142,
    "start_time": "2022-09-02T05:11:59.873Z"
   },
   {
    "duration": 106,
    "start_time": "2022-09-02T05:16:15.614Z"
   },
   {
    "duration": 8181,
    "start_time": "2022-09-02T05:16:21.454Z"
   },
   {
    "duration": 3987,
    "start_time": "2022-09-02T05:16:33.470Z"
   },
   {
    "duration": 31990,
    "start_time": "2022-09-02T05:16:41.002Z"
   },
   {
    "duration": 10,
    "start_time": "2022-09-02T05:17:29.621Z"
   },
   {
    "duration": 8958,
    "start_time": "2022-09-02T05:17:56.181Z"
   },
   {
    "duration": 130,
    "start_time": "2022-09-02T05:18:06.389Z"
   },
   {
    "duration": 138,
    "start_time": "2022-09-02T05:18:09.568Z"
   },
   {
    "duration": 9752,
    "start_time": "2022-09-02T05:18:15.766Z"
   },
   {
    "duration": 126,
    "start_time": "2022-09-02T05:18:29.165Z"
   },
   {
    "duration": 137,
    "start_time": "2022-09-02T05:18:40.199Z"
   },
   {
    "duration": 24828,
    "start_time": "2022-09-02T05:18:44.252Z"
   },
   {
    "duration": 34758,
    "start_time": "2022-09-02T05:19:37.005Z"
   },
   {
    "duration": 56716,
    "start_time": "2022-09-02T05:20:18.902Z"
   },
   {
    "duration": 64061,
    "start_time": "2022-09-02T05:21:59.378Z"
   },
   {
    "duration": 107130,
    "start_time": "2022-09-02T05:23:16.720Z"
   },
   {
    "duration": 23450,
    "start_time": "2022-09-02T05:25:06.876Z"
   },
   {
    "duration": 10,
    "start_time": "2022-09-02T05:25:33.405Z"
   },
   {
    "duration": 4812,
    "start_time": "2022-09-02T05:25:46.804Z"
   },
   {
    "duration": 10,
    "start_time": "2022-09-02T05:26:09.589Z"
   },
   {
    "duration": 4756,
    "start_time": "2022-09-02T05:26:16.347Z"
   },
   {
    "duration": 91360,
    "start_time": "2022-09-02T05:26:24.098Z"
   },
   {
    "duration": 133847,
    "start_time": "2022-09-02T05:28:05.655Z"
   },
   {
    "duration": 75014,
    "start_time": "2022-09-02T05:30:27.029Z"
   },
   {
    "duration": 0,
    "start_time": "2022-09-02T05:32:17.485Z"
   },
   {
    "duration": 0,
    "start_time": "2022-09-02T05:32:46.170Z"
   },
   {
    "duration": 0,
    "start_time": "2022-09-02T05:33:33.789Z"
   },
   {
    "duration": 0,
    "start_time": "2022-09-02T05:34:09.853Z"
   },
   {
    "duration": 74256,
    "start_time": "2022-09-02T05:34:11.106Z"
   },
   {
    "duration": 108041,
    "start_time": "2022-09-02T05:35:28.875Z"
   },
   {
    "duration": 214197,
    "start_time": "2022-09-02T05:37:21.885Z"
   },
   {
    "duration": 555709,
    "start_time": "2022-09-02T05:41:16.216Z"
   },
   {
    "duration": 0,
    "start_time": "2022-09-02T05:50:49.971Z"
   },
   {
    "duration": 100875,
    "start_time": "2022-09-02T05:50:53.206Z"
   },
   {
    "duration": 9,
    "start_time": "2022-09-02T05:54:59.142Z"
   },
   {
    "duration": 43369,
    "start_time": "2022-09-02T05:55:17.770Z"
   },
   {
    "duration": 2304,
    "start_time": "2022-09-02T05:56:11.559Z"
   },
   {
    "duration": 45371,
    "start_time": "2022-09-02T05:56:18.168Z"
   },
   {
    "duration": 5672,
    "start_time": "2022-09-02T06:05:49.068Z"
   },
   {
    "duration": 4883,
    "start_time": "2022-09-02T06:05:59.973Z"
   },
   {
    "duration": 97603,
    "start_time": "2022-09-02T06:06:28.236Z"
   },
   {
    "duration": 90411,
    "start_time": "2022-09-02T06:10:35.836Z"
   },
   {
    "duration": 139501,
    "start_time": "2022-09-02T06:19:04.145Z"
   },
   {
    "duration": 263562,
    "start_time": "2022-09-02T06:30:18.009Z"
   },
   {
    "duration": 258278,
    "start_time": "2022-09-02T06:34:50.972Z"
   },
   {
    "duration": 1403,
    "start_time": "2022-09-02T16:26:04.169Z"
   },
   {
    "duration": 3496,
    "start_time": "2022-09-02T16:26:05.575Z"
   },
   {
    "duration": 86,
    "start_time": "2022-09-02T16:26:09.073Z"
   },
   {
    "duration": 7,
    "start_time": "2022-09-02T16:26:09.161Z"
   },
   {
    "duration": 34443,
    "start_time": "2022-09-02T16:26:09.170Z"
   },
   {
    "duration": 19,
    "start_time": "2022-09-02T16:26:43.615Z"
   },
   {
    "duration": 6668,
    "start_time": "2022-09-02T16:26:43.636Z"
   },
   {
    "duration": 2336,
    "start_time": "2022-09-02T17:45:55.429Z"
   },
   {
    "duration": 171,
    "start_time": "2022-09-02T17:45:57.767Z"
   },
   {
    "duration": 0,
    "start_time": "2022-09-02T17:45:57.940Z"
   },
   {
    "duration": 0,
    "start_time": "2022-09-02T17:45:57.941Z"
   },
   {
    "duration": 0,
    "start_time": "2022-09-02T17:45:57.942Z"
   },
   {
    "duration": 0,
    "start_time": "2022-09-02T17:45:57.943Z"
   },
   {
    "duration": 2977,
    "start_time": "2022-09-02T17:46:38.500Z"
   },
   {
    "duration": 4,
    "start_time": "2022-09-02T17:47:21.547Z"
   },
   {
    "duration": 2170,
    "start_time": "2022-09-02T17:47:21.555Z"
   },
   {
    "duration": 88,
    "start_time": "2022-09-02T17:47:23.727Z"
   },
   {
    "duration": 10,
    "start_time": "2022-09-02T17:47:23.817Z"
   },
   {
    "duration": 34444,
    "start_time": "2022-09-02T17:47:23.829Z"
   },
   {
    "duration": 17,
    "start_time": "2022-09-02T17:47:58.275Z"
   },
   {
    "duration": 8,
    "start_time": "2022-09-02T18:48:14.986Z"
   },
   {
    "duration": 1383,
    "start_time": "2022-09-03T13:02:05.054Z"
   },
   {
    "duration": 2165,
    "start_time": "2022-09-03T13:02:06.439Z"
   },
   {
    "duration": 87,
    "start_time": "2022-09-03T13:02:08.605Z"
   },
   {
    "duration": 2656,
    "start_time": "2022-09-03T13:02:48.860Z"
   },
   {
    "duration": 360,
    "start_time": "2022-09-03T13:04:02.331Z"
   },
   {
    "duration": 17,
    "start_time": "2022-09-03T13:05:15.381Z"
   },
   {
    "duration": 3,
    "start_time": "2022-09-03T13:05:39.437Z"
   },
   {
    "duration": 38,
    "start_time": "2022-09-03T13:05:41.068Z"
   },
   {
    "duration": 236,
    "start_time": "2022-09-03T13:06:28.435Z"
   },
   {
    "duration": 3,
    "start_time": "2022-09-03T13:06:30.335Z"
   },
   {
    "duration": 28,
    "start_time": "2022-09-03T13:06:31.975Z"
   },
   {
    "duration": 3,
    "start_time": "2022-09-03T13:10:01.334Z"
   },
   {
    "duration": 81,
    "start_time": "2022-09-03T13:10:40.764Z"
   },
   {
    "duration": 58,
    "start_time": "2022-09-03T13:12:40.624Z"
   },
   {
    "duration": 4,
    "start_time": "2022-09-03T13:12:48.687Z"
   },
   {
    "duration": 4,
    "start_time": "2022-09-03T13:19:12.193Z"
   },
   {
    "duration": 979,
    "start_time": "2022-09-03T13:20:44.515Z"
   },
   {
    "duration": 445,
    "start_time": "2022-09-03T13:22:09.349Z"
   },
   {
    "duration": 4,
    "start_time": "2022-09-03T13:22:11.290Z"
   },
   {
    "duration": 4,
    "start_time": "2022-09-03T13:22:13.410Z"
   },
   {
    "duration": 1614,
    "start_time": "2022-09-03T13:22:17.836Z"
   },
   {
    "duration": 9,
    "start_time": "2022-09-03T13:23:47.280Z"
   },
   {
    "duration": 329,
    "start_time": "2022-09-03T13:23:51.010Z"
   },
   {
    "duration": 22,
    "start_time": "2022-09-03T13:25:53.525Z"
   },
   {
    "duration": 6,
    "start_time": "2022-09-03T13:26:07.670Z"
   },
   {
    "duration": 4,
    "start_time": "2022-09-03T13:26:11.468Z"
   },
   {
    "duration": 4,
    "start_time": "2022-09-03T13:27:11.178Z"
   },
   {
    "duration": 4,
    "start_time": "2022-09-03T13:27:17.019Z"
   },
   {
    "duration": 5,
    "start_time": "2022-09-03T13:27:24.163Z"
   },
   {
    "duration": 3,
    "start_time": "2022-09-03T13:27:33.701Z"
   },
   {
    "duration": 3,
    "start_time": "2022-09-03T13:27:37.318Z"
   },
   {
    "duration": 4,
    "start_time": "2022-09-03T13:27:41.813Z"
   },
   {
    "duration": 5,
    "start_time": "2022-09-03T13:27:49.519Z"
   },
   {
    "duration": 5,
    "start_time": "2022-09-03T13:27:53.922Z"
   },
   {
    "duration": 4,
    "start_time": "2022-09-03T13:28:54.327Z"
   },
   {
    "duration": 3,
    "start_time": "2022-09-03T13:29:31.640Z"
   },
   {
    "duration": 5,
    "start_time": "2022-09-03T13:29:36.670Z"
   },
   {
    "duration": 6,
    "start_time": "2022-09-03T13:29:55.216Z"
   },
   {
    "duration": 5,
    "start_time": "2022-09-03T13:30:07.889Z"
   },
   {
    "duration": 6,
    "start_time": "2022-09-03T13:30:20.319Z"
   },
   {
    "duration": 4,
    "start_time": "2022-09-03T13:30:22.950Z"
   },
   {
    "duration": 22,
    "start_time": "2022-09-03T13:30:33.691Z"
   },
   {
    "duration": 5,
    "start_time": "2022-09-03T13:30:38.027Z"
   },
   {
    "duration": 21,
    "start_time": "2022-09-03T13:31:03.480Z"
   },
   {
    "duration": 50,
    "start_time": "2022-09-03T13:31:11.993Z"
   },
   {
    "duration": 20,
    "start_time": "2022-09-03T13:31:14.094Z"
   },
   {
    "duration": 18,
    "start_time": "2022-09-03T13:31:19.435Z"
   },
   {
    "duration": 5,
    "start_time": "2022-09-03T13:31:31.992Z"
   },
   {
    "duration": 3,
    "start_time": "2022-09-03T13:31:33.754Z"
   },
   {
    "duration": 4,
    "start_time": "2022-09-03T13:31:41.775Z"
   },
   {
    "duration": 4,
    "start_time": "2022-09-03T13:31:55.308Z"
   },
   {
    "duration": 8795,
    "start_time": "2022-09-03T15:03:25.318Z"
   },
   {
    "duration": 2182,
    "start_time": "2022-09-03T15:03:34.114Z"
   },
   {
    "duration": 91,
    "start_time": "2022-09-03T15:03:36.298Z"
   },
   {
    "duration": 434,
    "start_time": "2022-09-03T15:03:36.392Z"
   },
   {
    "duration": 4,
    "start_time": "2022-09-03T15:03:36.827Z"
   },
   {
    "duration": 996169,
    "start_time": "2022-09-03T15:03:36.833Z"
   },
   {
    "duration": 9,
    "start_time": "2022-09-03T15:20:13.004Z"
   },
   {
    "duration": 3916,
    "start_time": "2022-12-07T22:12:59.292Z"
   },
   {
    "duration": 2380,
    "start_time": "2022-12-07T22:13:03.210Z"
   },
   {
    "duration": 81,
    "start_time": "2022-12-07T22:13:05.591Z"
   },
   {
    "duration": 496,
    "start_time": "2022-12-07T22:13:05.674Z"
   },
   {
    "duration": 4,
    "start_time": "2022-12-07T22:13:06.172Z"
   },
   {
    "duration": 1065891,
    "start_time": "2022-12-07T22:13:06.178Z"
   },
   {
    "duration": 9,
    "start_time": "2022-12-07T22:30:52.070Z"
   },
   {
    "duration": 27,
    "start_time": "2022-12-07T22:30:52.080Z"
   },
   {
    "duration": 7141,
    "start_time": "2022-12-07T22:30:52.109Z"
   },
   {
    "duration": 22131,
    "start_time": "2022-12-07T22:30:59.252Z"
   },
   {
    "duration": 478559,
    "start_time": "2022-12-07T22:31:21.385Z"
   },
   {
    "duration": 91197,
    "start_time": "2022-12-07T22:39:19.946Z"
   }
  ],
  "kernelspec": {
   "display_name": "Python 3 (ipykernel)",
   "language": "python",
   "name": "python3"
  },
  "language_info": {
   "codemirror_mode": {
    "name": "ipython",
    "version": 3
   },
   "file_extension": ".py",
   "mimetype": "text/x-python",
   "name": "python",
   "nbconvert_exporter": "python",
   "pygments_lexer": "ipython3",
   "version": "3.9.7"
  },
  "toc": {
   "base_numbering": 1,
   "nav_menu": {},
   "number_sections": true,
   "sideBar": true,
   "skip_h1_title": true,
   "title_cell": "Содержание",
   "title_sidebar": "Contents",
   "toc_cell": true,
   "toc_position": {
    "height": "calc(100% - 180px)",
    "left": "10px",
    "top": "150px",
    "width": "173.375px"
   },
   "toc_section_display": true,
   "toc_window_display": true
  }
 },
 "nbformat": 4,
 "nbformat_minor": 2
}
