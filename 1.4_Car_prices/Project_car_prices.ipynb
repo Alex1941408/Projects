{
 "cells": [
  {
   "cell_type": "markdown",
   "metadata": {},
   "source": [
    "## Подготовка данных"
   ]
  },
  {
   "cell_type": "markdown",
   "metadata": {},
   "source": [
    "### Загрузка данных"
   ]
  },
  {
   "cell_type": "markdown",
   "metadata": {},
   "source": [
    "Импортируем необходимые для работы библиотеки:"
   ]
  },
  {
   "cell_type": "code",
   "execution_count": 1,
   "metadata": {},
   "outputs": [],
   "source": [
    "import pandas as pd\n",
    "import numpy as np\n",
    "import seaborn as sns\n",
    "import lightgbm as lgb\n",
    "from matplotlib import pyplot as plt\n",
    "from sklearn.preprocessing import OrdinalEncoder\n",
    "from sklearn.model_selection import train_test_split as tts\n",
    "from sklearn.model_selection import GridSearchCV\n",
    "from sklearn.ensemble import RandomForestRegressor\n",
    "from lightgbm import LGBMRegressor\n",
    "import sklearn.metrics as sklm  "
   ]
  },
  {
   "cell_type": "markdown",
   "metadata": {},
   "source": [
    "Откроем и проанализируем файл:"
   ]
  },
  {
   "cell_type": "code",
   "execution_count": 2,
   "metadata": {},
   "outputs": [
    {
     "data": {
      "text/html": [
       "<div>\n",
       "<style scoped>\n",
       "    .dataframe tbody tr th:only-of-type {\n",
       "        vertical-align: middle;\n",
       "    }\n",
       "\n",
       "    .dataframe tbody tr th {\n",
       "        vertical-align: top;\n",
       "    }\n",
       "\n",
       "    .dataframe thead th {\n",
       "        text-align: right;\n",
       "    }\n",
       "</style>\n",
       "<table border=\"1\" class=\"dataframe\">\n",
       "  <thead>\n",
       "    <tr style=\"text-align: right;\">\n",
       "      <th></th>\n",
       "      <th>DateCrawled</th>\n",
       "      <th>Price</th>\n",
       "      <th>VehicleType</th>\n",
       "      <th>RegistrationYear</th>\n",
       "      <th>Gearbox</th>\n",
       "      <th>Power</th>\n",
       "      <th>Model</th>\n",
       "      <th>Kilometer</th>\n",
       "      <th>RegistrationMonth</th>\n",
       "      <th>FuelType</th>\n",
       "      <th>Brand</th>\n",
       "      <th>NotRepaired</th>\n",
       "      <th>DateCreated</th>\n",
       "      <th>NumberOfPictures</th>\n",
       "      <th>PostalCode</th>\n",
       "      <th>LastSeen</th>\n",
       "    </tr>\n",
       "  </thead>\n",
       "  <tbody>\n",
       "    <tr>\n",
       "      <th>0</th>\n",
       "      <td>2016-03-24 11:52:17</td>\n",
       "      <td>480</td>\n",
       "      <td>NaN</td>\n",
       "      <td>1993</td>\n",
       "      <td>manual</td>\n",
       "      <td>0</td>\n",
       "      <td>golf</td>\n",
       "      <td>150000</td>\n",
       "      <td>0</td>\n",
       "      <td>petrol</td>\n",
       "      <td>volkswagen</td>\n",
       "      <td>NaN</td>\n",
       "      <td>2016-03-24 00:00:00</td>\n",
       "      <td>0</td>\n",
       "      <td>70435</td>\n",
       "      <td>2016-04-07 03:16:57</td>\n",
       "    </tr>\n",
       "    <tr>\n",
       "      <th>1</th>\n",
       "      <td>2016-03-24 10:58:45</td>\n",
       "      <td>18300</td>\n",
       "      <td>coupe</td>\n",
       "      <td>2011</td>\n",
       "      <td>manual</td>\n",
       "      <td>190</td>\n",
       "      <td>NaN</td>\n",
       "      <td>125000</td>\n",
       "      <td>5</td>\n",
       "      <td>gasoline</td>\n",
       "      <td>audi</td>\n",
       "      <td>yes</td>\n",
       "      <td>2016-03-24 00:00:00</td>\n",
       "      <td>0</td>\n",
       "      <td>66954</td>\n",
       "      <td>2016-04-07 01:46:50</td>\n",
       "    </tr>\n",
       "    <tr>\n",
       "      <th>2</th>\n",
       "      <td>2016-03-14 12:52:21</td>\n",
       "      <td>9800</td>\n",
       "      <td>suv</td>\n",
       "      <td>2004</td>\n",
       "      <td>auto</td>\n",
       "      <td>163</td>\n",
       "      <td>grand</td>\n",
       "      <td>125000</td>\n",
       "      <td>8</td>\n",
       "      <td>gasoline</td>\n",
       "      <td>jeep</td>\n",
       "      <td>NaN</td>\n",
       "      <td>2016-03-14 00:00:00</td>\n",
       "      <td>0</td>\n",
       "      <td>90480</td>\n",
       "      <td>2016-04-05 12:47:46</td>\n",
       "    </tr>\n",
       "    <tr>\n",
       "      <th>3</th>\n",
       "      <td>2016-03-17 16:54:04</td>\n",
       "      <td>1500</td>\n",
       "      <td>small</td>\n",
       "      <td>2001</td>\n",
       "      <td>manual</td>\n",
       "      <td>75</td>\n",
       "      <td>golf</td>\n",
       "      <td>150000</td>\n",
       "      <td>6</td>\n",
       "      <td>petrol</td>\n",
       "      <td>volkswagen</td>\n",
       "      <td>no</td>\n",
       "      <td>2016-03-17 00:00:00</td>\n",
       "      <td>0</td>\n",
       "      <td>91074</td>\n",
       "      <td>2016-03-17 17:40:17</td>\n",
       "    </tr>\n",
       "    <tr>\n",
       "      <th>4</th>\n",
       "      <td>2016-03-31 17:25:20</td>\n",
       "      <td>3600</td>\n",
       "      <td>small</td>\n",
       "      <td>2008</td>\n",
       "      <td>manual</td>\n",
       "      <td>69</td>\n",
       "      <td>fabia</td>\n",
       "      <td>90000</td>\n",
       "      <td>7</td>\n",
       "      <td>gasoline</td>\n",
       "      <td>skoda</td>\n",
       "      <td>no</td>\n",
       "      <td>2016-03-31 00:00:00</td>\n",
       "      <td>0</td>\n",
       "      <td>60437</td>\n",
       "      <td>2016-04-06 10:17:21</td>\n",
       "    </tr>\n",
       "  </tbody>\n",
       "</table>\n",
       "</div>"
      ],
      "text/plain": [
       "           DateCrawled  Price VehicleType  RegistrationYear Gearbox  Power  \\\n",
       "0  2016-03-24 11:52:17    480         NaN              1993  manual      0   \n",
       "1  2016-03-24 10:58:45  18300       coupe              2011  manual    190   \n",
       "2  2016-03-14 12:52:21   9800         suv              2004    auto    163   \n",
       "3  2016-03-17 16:54:04   1500       small              2001  manual     75   \n",
       "4  2016-03-31 17:25:20   3600       small              2008  manual     69   \n",
       "\n",
       "   Model  Kilometer  RegistrationMonth  FuelType       Brand NotRepaired  \\\n",
       "0   golf     150000                  0    petrol  volkswagen         NaN   \n",
       "1    NaN     125000                  5  gasoline        audi         yes   \n",
       "2  grand     125000                  8  gasoline        jeep         NaN   \n",
       "3   golf     150000                  6    petrol  volkswagen          no   \n",
       "4  fabia      90000                  7  gasoline       skoda          no   \n",
       "\n",
       "           DateCreated  NumberOfPictures  PostalCode             LastSeen  \n",
       "0  2016-03-24 00:00:00                 0       70435  2016-04-07 03:16:57  \n",
       "1  2016-03-24 00:00:00                 0       66954  2016-04-07 01:46:50  \n",
       "2  2016-03-14 00:00:00                 0       90480  2016-04-05 12:47:46  \n",
       "3  2016-03-17 00:00:00                 0       91074  2016-03-17 17:40:17  \n",
       "4  2016-03-31 00:00:00                 0       60437  2016-04-06 10:17:21  "
      ]
     },
     "execution_count": 2,
     "metadata": {},
     "output_type": "execute_result"
    }
   ],
   "source": [
    "df = pd.read_csv('/datasets/autos.csv')\n",
    "df.head()"
   ]
  },
  {
   "cell_type": "code",
   "execution_count": 3,
   "metadata": {},
   "outputs": [
    {
     "name": "stdout",
     "output_type": "stream",
     "text": [
      "<class 'pandas.core.frame.DataFrame'>\n",
      "RangeIndex: 354369 entries, 0 to 354368\n",
      "Data columns (total 16 columns):\n",
      " #   Column             Non-Null Count   Dtype \n",
      "---  ------             --------------   ----- \n",
      " 0   DateCrawled        354369 non-null  object\n",
      " 1   Price              354369 non-null  int64 \n",
      " 2   VehicleType        316879 non-null  object\n",
      " 3   RegistrationYear   354369 non-null  int64 \n",
      " 4   Gearbox            334536 non-null  object\n",
      " 5   Power              354369 non-null  int64 \n",
      " 6   Model              334664 non-null  object\n",
      " 7   Kilometer          354369 non-null  int64 \n",
      " 8   RegistrationMonth  354369 non-null  int64 \n",
      " 9   FuelType           321474 non-null  object\n",
      " 10  Brand              354369 non-null  object\n",
      " 11  NotRepaired        283215 non-null  object\n",
      " 12  DateCreated        354369 non-null  object\n",
      " 13  NumberOfPictures   354369 non-null  int64 \n",
      " 14  PostalCode         354369 non-null  int64 \n",
      " 15  LastSeen           354369 non-null  object\n",
      "dtypes: int64(7), object(9)\n",
      "memory usage: 43.3+ MB\n"
     ]
    }
   ],
   "source": [
    "df.info()"
   ]
  },
  {
   "cell_type": "markdown",
   "metadata": {},
   "source": [
    "### Подготовка и анализ данных"
   ]
  },
  {
   "cell_type": "markdown",
   "metadata": {},
   "source": [
    "#### Работа со столбцами"
   ]
  },
  {
   "cell_type": "markdown",
   "metadata": {},
   "source": [
    "Столбцы `DateCrawled`, `DateCreated`, `NumberOfPictures`, `PostalCode` и `LastSeen` не являются информативными. Удалим их:"
   ]
  },
  {
   "cell_type": "code",
   "execution_count": 4,
   "metadata": {},
   "outputs": [],
   "source": [
    "df = df.drop(['DateCrawled', 'DateCreated', 'NumberOfPictures', 'PostalCode', 'LastSeen'], axis = 1)"
   ]
  },
  {
   "cell_type": "markdown",
   "metadata": {},
   "source": [
    "Приведем названия столбцов к \"змеиному\" регистру:"
   ]
  },
  {
   "cell_type": "code",
   "execution_count": 5,
   "metadata": {},
   "outputs": [],
   "source": [
    "df.columns = df.columns.str.lower()"
   ]
  },
  {
   "cell_type": "code",
   "execution_count": 6,
   "metadata": {},
   "outputs": [],
   "source": [
    "df = df.rename(columns = {\n",
    "    \n",
    "    'vehicletype' : 'vehicle_type',\n",
    "    'registrationyear' : 'registration_year',\n",
    "    'registrationmonth' : 'registration_month',\n",
    "    'fueltype' : 'fuel_type',\n",
    "    'notrepaired' : 'not_repaired'\n",
    "      \n",
    "})"
   ]
  },
  {
   "cell_type": "markdown",
   "metadata": {},
   "source": [
    "#### Проверка на пропуски"
   ]
  },
  {
   "cell_type": "markdown",
   "metadata": {},
   "source": [
    "Сделаем проверку на пропуски:"
   ]
  },
  {
   "cell_type": "code",
   "execution_count": 7,
   "metadata": {},
   "outputs": [
    {
     "data": {
      "text/plain": [
       "price                     0\n",
       "vehicle_type          37490\n",
       "registration_year         0\n",
       "gearbox               19833\n",
       "power                     0\n",
       "model                 19705\n",
       "kilometer                 0\n",
       "registration_month        0\n",
       "fuel_type             32895\n",
       "brand                     0\n",
       "not_repaired          71154\n",
       "dtype: int64"
      ]
     },
     "execution_count": 7,
     "metadata": {},
     "output_type": "execute_result"
    }
   ],
   "source": [
    "df.isna().sum()"
   ]
  },
  {
   "cell_type": "code",
   "execution_count": 8,
   "metadata": {},
   "outputs": [
    {
     "data": {
      "text/html": [
       "<div>\n",
       "<style scoped>\n",
       "    .dataframe tbody tr th:only-of-type {\n",
       "        vertical-align: middle;\n",
       "    }\n",
       "\n",
       "    .dataframe tbody tr th {\n",
       "        vertical-align: top;\n",
       "    }\n",
       "\n",
       "    .dataframe thead th {\n",
       "        text-align: right;\n",
       "    }\n",
       "</style>\n",
       "<table border=\"1\" class=\"dataframe\">\n",
       "  <thead>\n",
       "    <tr style=\"text-align: right;\">\n",
       "      <th></th>\n",
       "      <th>price</th>\n",
       "      <th>vehicle_type</th>\n",
       "      <th>registration_year</th>\n",
       "      <th>gearbox</th>\n",
       "      <th>power</th>\n",
       "      <th>model</th>\n",
       "      <th>kilometer</th>\n",
       "      <th>registration_month</th>\n",
       "      <th>fuel_type</th>\n",
       "      <th>brand</th>\n",
       "      <th>not_repaired</th>\n",
       "    </tr>\n",
       "  </thead>\n",
       "  <tbody>\n",
       "    <tr>\n",
       "      <th>0</th>\n",
       "      <td>480</td>\n",
       "      <td>NaN</td>\n",
       "      <td>1993</td>\n",
       "      <td>manual</td>\n",
       "      <td>0</td>\n",
       "      <td>golf</td>\n",
       "      <td>150000</td>\n",
       "      <td>0</td>\n",
       "      <td>petrol</td>\n",
       "      <td>volkswagen</td>\n",
       "      <td>NaN</td>\n",
       "    </tr>\n",
       "    <tr>\n",
       "      <th>1</th>\n",
       "      <td>18300</td>\n",
       "      <td>coupe</td>\n",
       "      <td>2011</td>\n",
       "      <td>manual</td>\n",
       "      <td>190</td>\n",
       "      <td>NaN</td>\n",
       "      <td>125000</td>\n",
       "      <td>5</td>\n",
       "      <td>gasoline</td>\n",
       "      <td>audi</td>\n",
       "      <td>yes</td>\n",
       "    </tr>\n",
       "    <tr>\n",
       "      <th>2</th>\n",
       "      <td>9800</td>\n",
       "      <td>suv</td>\n",
       "      <td>2004</td>\n",
       "      <td>auto</td>\n",
       "      <td>163</td>\n",
       "      <td>grand</td>\n",
       "      <td>125000</td>\n",
       "      <td>8</td>\n",
       "      <td>gasoline</td>\n",
       "      <td>jeep</td>\n",
       "      <td>NaN</td>\n",
       "    </tr>\n",
       "    <tr>\n",
       "      <th>3</th>\n",
       "      <td>1500</td>\n",
       "      <td>small</td>\n",
       "      <td>2001</td>\n",
       "      <td>manual</td>\n",
       "      <td>75</td>\n",
       "      <td>golf</td>\n",
       "      <td>150000</td>\n",
       "      <td>6</td>\n",
       "      <td>petrol</td>\n",
       "      <td>volkswagen</td>\n",
       "      <td>no</td>\n",
       "    </tr>\n",
       "    <tr>\n",
       "      <th>4</th>\n",
       "      <td>3600</td>\n",
       "      <td>small</td>\n",
       "      <td>2008</td>\n",
       "      <td>manual</td>\n",
       "      <td>69</td>\n",
       "      <td>fabia</td>\n",
       "      <td>90000</td>\n",
       "      <td>7</td>\n",
       "      <td>gasoline</td>\n",
       "      <td>skoda</td>\n",
       "      <td>no</td>\n",
       "    </tr>\n",
       "    <tr>\n",
       "      <th>...</th>\n",
       "      <td>...</td>\n",
       "      <td>...</td>\n",
       "      <td>...</td>\n",
       "      <td>...</td>\n",
       "      <td>...</td>\n",
       "      <td>...</td>\n",
       "      <td>...</td>\n",
       "      <td>...</td>\n",
       "      <td>...</td>\n",
       "      <td>...</td>\n",
       "      <td>...</td>\n",
       "    </tr>\n",
       "    <tr>\n",
       "      <th>354364</th>\n",
       "      <td>0</td>\n",
       "      <td>NaN</td>\n",
       "      <td>2005</td>\n",
       "      <td>manual</td>\n",
       "      <td>0</td>\n",
       "      <td>colt</td>\n",
       "      <td>150000</td>\n",
       "      <td>7</td>\n",
       "      <td>petrol</td>\n",
       "      <td>mitsubishi</td>\n",
       "      <td>yes</td>\n",
       "    </tr>\n",
       "    <tr>\n",
       "      <th>354365</th>\n",
       "      <td>2200</td>\n",
       "      <td>NaN</td>\n",
       "      <td>2005</td>\n",
       "      <td>NaN</td>\n",
       "      <td>0</td>\n",
       "      <td>NaN</td>\n",
       "      <td>20000</td>\n",
       "      <td>1</td>\n",
       "      <td>NaN</td>\n",
       "      <td>sonstige_autos</td>\n",
       "      <td>NaN</td>\n",
       "    </tr>\n",
       "    <tr>\n",
       "      <th>354366</th>\n",
       "      <td>1199</td>\n",
       "      <td>convertible</td>\n",
       "      <td>2000</td>\n",
       "      <td>auto</td>\n",
       "      <td>101</td>\n",
       "      <td>fortwo</td>\n",
       "      <td>125000</td>\n",
       "      <td>3</td>\n",
       "      <td>petrol</td>\n",
       "      <td>smart</td>\n",
       "      <td>no</td>\n",
       "    </tr>\n",
       "    <tr>\n",
       "      <th>354367</th>\n",
       "      <td>9200</td>\n",
       "      <td>bus</td>\n",
       "      <td>1996</td>\n",
       "      <td>manual</td>\n",
       "      <td>102</td>\n",
       "      <td>transporter</td>\n",
       "      <td>150000</td>\n",
       "      <td>3</td>\n",
       "      <td>gasoline</td>\n",
       "      <td>volkswagen</td>\n",
       "      <td>no</td>\n",
       "    </tr>\n",
       "    <tr>\n",
       "      <th>354368</th>\n",
       "      <td>3400</td>\n",
       "      <td>wagon</td>\n",
       "      <td>2002</td>\n",
       "      <td>manual</td>\n",
       "      <td>100</td>\n",
       "      <td>golf</td>\n",
       "      <td>150000</td>\n",
       "      <td>6</td>\n",
       "      <td>gasoline</td>\n",
       "      <td>volkswagen</td>\n",
       "      <td>NaN</td>\n",
       "    </tr>\n",
       "  </tbody>\n",
       "</table>\n",
       "<p>354369 rows × 11 columns</p>\n",
       "</div>"
      ],
      "text/plain": [
       "        price vehicle_type  registration_year gearbox  power        model  \\\n",
       "0         480          NaN               1993  manual      0         golf   \n",
       "1       18300        coupe               2011  manual    190          NaN   \n",
       "2        9800          suv               2004    auto    163        grand   \n",
       "3        1500        small               2001  manual     75         golf   \n",
       "4        3600        small               2008  manual     69        fabia   \n",
       "...       ...          ...                ...     ...    ...          ...   \n",
       "354364      0          NaN               2005  manual      0         colt   \n",
       "354365   2200          NaN               2005     NaN      0          NaN   \n",
       "354366   1199  convertible               2000    auto    101       fortwo   \n",
       "354367   9200          bus               1996  manual    102  transporter   \n",
       "354368   3400        wagon               2002  manual    100         golf   \n",
       "\n",
       "        kilometer  registration_month fuel_type           brand not_repaired  \n",
       "0          150000                   0    petrol      volkswagen          NaN  \n",
       "1          125000                   5  gasoline            audi          yes  \n",
       "2          125000                   8  gasoline            jeep          NaN  \n",
       "3          150000                   6    petrol      volkswagen           no  \n",
       "4           90000                   7  gasoline           skoda           no  \n",
       "...           ...                 ...       ...             ...          ...  \n",
       "354364     150000                   7    petrol      mitsubishi          yes  \n",
       "354365      20000                   1       NaN  sonstige_autos          NaN  \n",
       "354366     125000                   3    petrol           smart           no  \n",
       "354367     150000                   3  gasoline      volkswagen           no  \n",
       "354368     150000                   6  gasoline      volkswagen          NaN  \n",
       "\n",
       "[354369 rows x 11 columns]"
      ]
     },
     "execution_count": 8,
     "metadata": {},
     "output_type": "execute_result"
    }
   ],
   "source": [
    "df"
   ]
  },
  {
   "cell_type": "markdown",
   "metadata": {},
   "source": [
    "Данные с пропусками являются категоральными, восстановить значения не получится. Поставим на месте пропусков \"заглушки\" \"unknown\":"
   ]
  },
  {
   "cell_type": "code",
   "execution_count": 9,
   "metadata": {},
   "outputs": [],
   "source": [
    "df = df.fillna(\"unknown\")"
   ]
  },
  {
   "cell_type": "code",
   "execution_count": 10,
   "metadata": {},
   "outputs": [
    {
     "name": "stdout",
     "output_type": "stream",
     "text": [
      "<class 'pandas.core.frame.DataFrame'>\n",
      "RangeIndex: 354369 entries, 0 to 354368\n",
      "Data columns (total 11 columns):\n",
      " #   Column              Non-Null Count   Dtype \n",
      "---  ------              --------------   ----- \n",
      " 0   price               354369 non-null  int64 \n",
      " 1   vehicle_type        354369 non-null  object\n",
      " 2   registration_year   354369 non-null  int64 \n",
      " 3   gearbox             354369 non-null  object\n",
      " 4   power               354369 non-null  int64 \n",
      " 5   model               354369 non-null  object\n",
      " 6   kilometer           354369 non-null  int64 \n",
      " 7   registration_month  354369 non-null  int64 \n",
      " 8   fuel_type           354369 non-null  object\n",
      " 9   brand               354369 non-null  object\n",
      " 10  not_repaired        354369 non-null  object\n",
      "dtypes: int64(5), object(6)\n",
      "memory usage: 29.7+ MB\n"
     ]
    }
   ],
   "source": [
    "df.info()"
   ]
  },
  {
   "cell_type": "markdown",
   "metadata": {},
   "source": [
    "#### Проверка на дубликаты"
   ]
  },
  {
   "cell_type": "markdown",
   "metadata": {},
   "source": [
    "Проверим данные на дубликаты:"
   ]
  },
  {
   "cell_type": "code",
   "execution_count": 11,
   "metadata": {},
   "outputs": [
    {
     "data": {
      "text/plain": [
       "27543"
      ]
     },
     "execution_count": 11,
     "metadata": {},
     "output_type": "execute_result"
    }
   ],
   "source": [
    "df.duplicated().sum()"
   ]
  },
  {
   "cell_type": "markdown",
   "metadata": {},
   "source": [
    "Удалим дубликаты в этих данных:"
   ]
  },
  {
   "cell_type": "code",
   "execution_count": 12,
   "metadata": {},
   "outputs": [],
   "source": [
    "df = df.drop_duplicates().reset_index(drop = True)"
   ]
  },
  {
   "cell_type": "markdown",
   "metadata": {},
   "source": [
    "#### Провека на верный тип данных"
   ]
  },
  {
   "cell_type": "markdown",
   "metadata": {},
   "source": [
    "Проверим данные на соответствие их своему типу данных:"
   ]
  },
  {
   "cell_type": "code",
   "execution_count": 13,
   "metadata": {},
   "outputs": [
    {
     "name": "stdout",
     "output_type": "stream",
     "text": [
      "<class 'pandas.core.frame.DataFrame'>\n",
      "RangeIndex: 326826 entries, 0 to 326825\n",
      "Data columns (total 11 columns):\n",
      " #   Column              Non-Null Count   Dtype \n",
      "---  ------              --------------   ----- \n",
      " 0   price               326826 non-null  int64 \n",
      " 1   vehicle_type        326826 non-null  object\n",
      " 2   registration_year   326826 non-null  int64 \n",
      " 3   gearbox             326826 non-null  object\n",
      " 4   power               326826 non-null  int64 \n",
      " 5   model               326826 non-null  object\n",
      " 6   kilometer           326826 non-null  int64 \n",
      " 7   registration_month  326826 non-null  int64 \n",
      " 8   fuel_type           326826 non-null  object\n",
      " 9   brand               326826 non-null  object\n",
      " 10  not_repaired        326826 non-null  object\n",
      "dtypes: int64(5), object(6)\n",
      "memory usage: 27.4+ MB\n"
     ]
    }
   ],
   "source": [
    "df.info()"
   ]
  },
  {
   "cell_type": "markdown",
   "metadata": {},
   "source": [
    "Все данные соответствуют своим типам данных"
   ]
  },
  {
   "cell_type": "markdown",
   "metadata": {},
   "source": [
    "#### Проверка на аномалии"
   ]
  },
  {
   "cell_type": "markdown",
   "metadata": {},
   "source": [
    "Сделаем проверку данных на аномалии:"
   ]
  },
  {
   "cell_type": "code",
   "execution_count": 14,
   "metadata": {},
   "outputs": [
    {
     "data": {
      "image/png": "[encoded data removed]",
      "text/plain": [
       "<Figure size 1080x1080 with 6 Axes>"
      ]
     },
     "metadata": {
      "needs_background": "light"
     },
     "output_type": "display_data"
    }
   ],
   "source": [
    "df.hist(bins = 50, figsize = (15, 15));"
   ]
  },
  {
   "cell_type": "markdown",
   "metadata": {},
   "source": [
    "Обратим внимание на столбцы: 'registration_year', 'power'"
   ]
  },
  {
   "cell_type": "markdown",
   "metadata": {},
   "source": [
    "Столбец 'registration_year':"
   ]
  },
  {
   "cell_type": "code",
   "execution_count": 15,
   "metadata": {},
   "outputs": [
    {
     "data": {
      "text/plain": [
       "count    326826.000000\n",
       "mean       2004.230985\n",
       "std          91.120018\n",
       "min        1000.000000\n",
       "25%        1999.000000\n",
       "50%        2003.000000\n",
       "75%        2008.000000\n",
       "max        9999.000000\n",
       "Name: registration_year, dtype: float64"
      ]
     },
     "execution_count": 15,
     "metadata": {},
     "output_type": "execute_result"
    }
   ],
   "source": [
    "df['registration_year'].describe()"
   ]
  },
  {
   "cell_type": "markdown",
   "metadata": {},
   "source": [
    "Довольно странно выглядят минимальная и максимальная даты регистрации. Выведем значения с годом регистрации менее 1950:"
   ]
  },
  {
   "cell_type": "code",
   "execution_count": 16,
   "metadata": {
    "scrolled": false
   },
   "outputs": [
    {
     "data": {
      "text/html": [
       "<div>\n",
       "<style scoped>\n",
       "    .dataframe tbody tr th:only-of-type {\n",
       "        vertical-align: middle;\n",
       "    }\n",
       "\n",
       "    .dataframe tbody tr th {\n",
       "        vertical-align: top;\n",
       "    }\n",
       "\n",
       "    .dataframe thead th {\n",
       "        text-align: right;\n",
       "    }\n",
       "</style>\n",
       "<table border=\"1\" class=\"dataframe\">\n",
       "  <thead>\n",
       "    <tr style=\"text-align: right;\">\n",
       "      <th></th>\n",
       "      <th>price</th>\n",
       "      <th>vehicle_type</th>\n",
       "      <th>registration_year</th>\n",
       "      <th>gearbox</th>\n",
       "      <th>power</th>\n",
       "      <th>model</th>\n",
       "      <th>kilometer</th>\n",
       "      <th>registration_month</th>\n",
       "      <th>fuel_type</th>\n",
       "      <th>brand</th>\n",
       "      <th>not_repaired</th>\n",
       "    </tr>\n",
       "  </thead>\n",
       "  <tbody>\n",
       "    <tr>\n",
       "      <th>220600</th>\n",
       "      <td>65</td>\n",
       "      <td>unknown</td>\n",
       "      <td>1000</td>\n",
       "      <td>unknown</td>\n",
       "      <td>0</td>\n",
       "      <td>unknown</td>\n",
       "      <td>5000</td>\n",
       "      <td>1</td>\n",
       "      <td>unknown</td>\n",
       "      <td>sonstige_autos</td>\n",
       "      <td>unknown</td>\n",
       "    </tr>\n",
       "    <tr>\n",
       "      <th>58886</th>\n",
       "      <td>80</td>\n",
       "      <td>unknown</td>\n",
       "      <td>1000</td>\n",
       "      <td>unknown</td>\n",
       "      <td>0</td>\n",
       "      <td>unknown</td>\n",
       "      <td>5000</td>\n",
       "      <td>0</td>\n",
       "      <td>unknown</td>\n",
       "      <td>volkswagen</td>\n",
       "      <td>unknown</td>\n",
       "    </tr>\n",
       "    <tr>\n",
       "      <th>241079</th>\n",
       "      <td>12500</td>\n",
       "      <td>unknown</td>\n",
       "      <td>1000</td>\n",
       "      <td>unknown</td>\n",
       "      <td>200</td>\n",
       "      <td>golf</td>\n",
       "      <td>5000</td>\n",
       "      <td>0</td>\n",
       "      <td>unknown</td>\n",
       "      <td>volkswagen</td>\n",
       "      <td>unknown</td>\n",
       "    </tr>\n",
       "    <tr>\n",
       "      <th>64859</th>\n",
       "      <td>1300</td>\n",
       "      <td>unknown</td>\n",
       "      <td>1000</td>\n",
       "      <td>auto</td>\n",
       "      <td>0</td>\n",
       "      <td>unknown</td>\n",
       "      <td>5000</td>\n",
       "      <td>6</td>\n",
       "      <td>petrol</td>\n",
       "      <td>sonstige_autos</td>\n",
       "      <td>unknown</td>\n",
       "    </tr>\n",
       "    <tr>\n",
       "      <th>69917</th>\n",
       "      <td>500</td>\n",
       "      <td>unknown</td>\n",
       "      <td>1000</td>\n",
       "      <td>unknown</td>\n",
       "      <td>0</td>\n",
       "      <td>golf</td>\n",
       "      <td>5000</td>\n",
       "      <td>0</td>\n",
       "      <td>unknown</td>\n",
       "      <td>volkswagen</td>\n",
       "      <td>unknown</td>\n",
       "    </tr>\n",
       "    <tr>\n",
       "      <th>...</th>\n",
       "      <td>...</td>\n",
       "      <td>...</td>\n",
       "      <td>...</td>\n",
       "      <td>...</td>\n",
       "      <td>...</td>\n",
       "      <td>...</td>\n",
       "      <td>...</td>\n",
       "      <td>...</td>\n",
       "      <td>...</td>\n",
       "      <td>...</td>\n",
       "      <td>...</td>\n",
       "    </tr>\n",
       "    <tr>\n",
       "      <th>278624</th>\n",
       "      <td>17800</td>\n",
       "      <td>coupe</td>\n",
       "      <td>1947</td>\n",
       "      <td>unknown</td>\n",
       "      <td>0</td>\n",
       "      <td>other</td>\n",
       "      <td>150000</td>\n",
       "      <td>0</td>\n",
       "      <td>unknown</td>\n",
       "      <td>ford</td>\n",
       "      <td>unknown</td>\n",
       "    </tr>\n",
       "    <tr>\n",
       "      <th>61952</th>\n",
       "      <td>17500</td>\n",
       "      <td>wagon</td>\n",
       "      <td>1948</td>\n",
       "      <td>manual</td>\n",
       "      <td>0</td>\n",
       "      <td>unknown</td>\n",
       "      <td>60000</td>\n",
       "      <td>6</td>\n",
       "      <td>petrol</td>\n",
       "      <td>sonstige_autos</td>\n",
       "      <td>no</td>\n",
       "    </tr>\n",
       "    <tr>\n",
       "      <th>231829</th>\n",
       "      <td>0</td>\n",
       "      <td>unknown</td>\n",
       "      <td>1948</td>\n",
       "      <td>unknown</td>\n",
       "      <td>0</td>\n",
       "      <td>unknown</td>\n",
       "      <td>5000</td>\n",
       "      <td>0</td>\n",
       "      <td>unknown</td>\n",
       "      <td>opel</td>\n",
       "      <td>unknown</td>\n",
       "    </tr>\n",
       "    <tr>\n",
       "      <th>254066</th>\n",
       "      <td>8800</td>\n",
       "      <td>coupe</td>\n",
       "      <td>1948</td>\n",
       "      <td>manual</td>\n",
       "      <td>100</td>\n",
       "      <td>unknown</td>\n",
       "      <td>10000</td>\n",
       "      <td>7</td>\n",
       "      <td>petrol</td>\n",
       "      <td>sonstige_autos</td>\n",
       "      <td>unknown</td>\n",
       "    </tr>\n",
       "    <tr>\n",
       "      <th>27237</th>\n",
       "      <td>13300</td>\n",
       "      <td>sedan</td>\n",
       "      <td>1949</td>\n",
       "      <td>unknown</td>\n",
       "      <td>99</td>\n",
       "      <td>other</td>\n",
       "      <td>60000</td>\n",
       "      <td>7</td>\n",
       "      <td>petrol</td>\n",
       "      <td>chrysler</td>\n",
       "      <td>unknown</td>\n",
       "    </tr>\n",
       "  </tbody>\n",
       "</table>\n",
       "<p>226 rows × 11 columns</p>\n",
       "</div>"
      ],
      "text/plain": [
       "        price vehicle_type  registration_year  gearbox  power    model  \\\n",
       "220600     65      unknown               1000  unknown      0  unknown   \n",
       "58886      80      unknown               1000  unknown      0  unknown   \n",
       "241079  12500      unknown               1000  unknown    200     golf   \n",
       "64859    1300      unknown               1000     auto      0  unknown   \n",
       "69917     500      unknown               1000  unknown      0     golf   \n",
       "...       ...          ...                ...      ...    ...      ...   \n",
       "278624  17800        coupe               1947  unknown      0    other   \n",
       "61952   17500        wagon               1948   manual      0  unknown   \n",
       "231829      0      unknown               1948  unknown      0  unknown   \n",
       "254066   8800        coupe               1948   manual    100  unknown   \n",
       "27237   13300        sedan               1949  unknown     99    other   \n",
       "\n",
       "        kilometer  registration_month fuel_type           brand not_repaired  \n",
       "220600       5000                   1   unknown  sonstige_autos      unknown  \n",
       "58886        5000                   0   unknown      volkswagen      unknown  \n",
       "241079       5000                   0   unknown      volkswagen      unknown  \n",
       "64859        5000                   6    petrol  sonstige_autos      unknown  \n",
       "69917        5000                   0   unknown      volkswagen      unknown  \n",
       "...           ...                 ...       ...             ...          ...  \n",
       "278624     150000                   0   unknown            ford      unknown  \n",
       "61952       60000                   6    petrol  sonstige_autos           no  \n",
       "231829       5000                   0   unknown            opel      unknown  \n",
       "254066      10000                   7    petrol  sonstige_autos      unknown  \n",
       "27237       60000                   7    petrol        chrysler      unknown  \n",
       "\n",
       "[226 rows x 11 columns]"
      ]
     },
     "execution_count": 16,
     "metadata": {},
     "output_type": "execute_result"
    }
   ],
   "source": [
    "df.query('registration_year < 1950').sort_values(by = 'registration_year')"
   ]
  },
  {
   "cell_type": "markdown",
   "metadata": {},
   "source": [
    "Обратившись к официальным источникам, определим, что информация о автомобилях, зарегистрированных ранее 1930 года, является ложной. Удалим строки с данными автомобилями:"
   ]
  },
  {
   "cell_type": "code",
   "execution_count": 17,
   "metadata": {},
   "outputs": [],
   "source": [
    "df = df.query('registration_year > 1930').reset_index(drop = True)"
   ]
  },
  {
   "cell_type": "markdown",
   "metadata": {},
   "source": [
    "Однако и максимальная дата регистрации не является правдоподобной. Выведем значения с годом регистрации более 2019:"
   ]
  },
  {
   "cell_type": "code",
   "execution_count": 18,
   "metadata": {},
   "outputs": [
    {
     "data": {
      "text/html": [
       "<div>\n",
       "<style scoped>\n",
       "    .dataframe tbody tr th:only-of-type {\n",
       "        vertical-align: middle;\n",
       "    }\n",
       "\n",
       "    .dataframe tbody tr th {\n",
       "        vertical-align: top;\n",
       "    }\n",
       "\n",
       "    .dataframe thead th {\n",
       "        text-align: right;\n",
       "    }\n",
       "</style>\n",
       "<table border=\"1\" class=\"dataframe\">\n",
       "  <thead>\n",
       "    <tr style=\"text-align: right;\">\n",
       "      <th></th>\n",
       "      <th>price</th>\n",
       "      <th>vehicle_type</th>\n",
       "      <th>registration_year</th>\n",
       "      <th>gearbox</th>\n",
       "      <th>power</th>\n",
       "      <th>model</th>\n",
       "      <th>kilometer</th>\n",
       "      <th>registration_month</th>\n",
       "      <th>fuel_type</th>\n",
       "      <th>brand</th>\n",
       "      <th>not_repaired</th>\n",
       "    </tr>\n",
       "  </thead>\n",
       "  <tbody>\n",
       "    <tr>\n",
       "      <th>26279</th>\n",
       "      <td>800</td>\n",
       "      <td>unknown</td>\n",
       "      <td>2066</td>\n",
       "      <td>unknown</td>\n",
       "      <td>0</td>\n",
       "      <td>zafira</td>\n",
       "      <td>5000</td>\n",
       "      <td>0</td>\n",
       "      <td>gasoline</td>\n",
       "      <td>opel</td>\n",
       "      <td>unknown</td>\n",
       "    </tr>\n",
       "    <tr>\n",
       "      <th>18120</th>\n",
       "      <td>300</td>\n",
       "      <td>unknown</td>\n",
       "      <td>2200</td>\n",
       "      <td>unknown</td>\n",
       "      <td>0</td>\n",
       "      <td>twingo</td>\n",
       "      <td>5000</td>\n",
       "      <td>12</td>\n",
       "      <td>unknown</td>\n",
       "      <td>renault</td>\n",
       "      <td>unknown</td>\n",
       "    </tr>\n",
       "    <tr>\n",
       "      <th>208818</th>\n",
       "      <td>100</td>\n",
       "      <td>unknown</td>\n",
       "      <td>2222</td>\n",
       "      <td>unknown</td>\n",
       "      <td>0</td>\n",
       "      <td>unknown</td>\n",
       "      <td>5000</td>\n",
       "      <td>0</td>\n",
       "      <td>unknown</td>\n",
       "      <td>sonstige_autos</td>\n",
       "      <td>unknown</td>\n",
       "    </tr>\n",
       "    <tr>\n",
       "      <th>237368</th>\n",
       "      <td>0</td>\n",
       "      <td>unknown</td>\n",
       "      <td>2222</td>\n",
       "      <td>unknown</td>\n",
       "      <td>0</td>\n",
       "      <td>unknown</td>\n",
       "      <td>5000</td>\n",
       "      <td>0</td>\n",
       "      <td>unknown</td>\n",
       "      <td>mercedes_benz</td>\n",
       "      <td>unknown</td>\n",
       "    </tr>\n",
       "    <tr>\n",
       "      <th>117438</th>\n",
       "      <td>700</td>\n",
       "      <td>unknown</td>\n",
       "      <td>2290</td>\n",
       "      <td>unknown</td>\n",
       "      <td>0</td>\n",
       "      <td>laguna</td>\n",
       "      <td>5000</td>\n",
       "      <td>0</td>\n",
       "      <td>unknown</td>\n",
       "      <td>renault</td>\n",
       "      <td>unknown</td>\n",
       "    </tr>\n",
       "    <tr>\n",
       "      <th>...</th>\n",
       "      <td>...</td>\n",
       "      <td>...</td>\n",
       "      <td>...</td>\n",
       "      <td>...</td>\n",
       "      <td>...</td>\n",
       "      <td>...</td>\n",
       "      <td>...</td>\n",
       "      <td>...</td>\n",
       "      <td>...</td>\n",
       "      <td>...</td>\n",
       "      <td>...</td>\n",
       "    </tr>\n",
       "    <tr>\n",
       "      <th>242059</th>\n",
       "      <td>50</td>\n",
       "      <td>unknown</td>\n",
       "      <td>9999</td>\n",
       "      <td>unknown</td>\n",
       "      <td>0</td>\n",
       "      <td>other</td>\n",
       "      <td>10000</td>\n",
       "      <td>0</td>\n",
       "      <td>unknown</td>\n",
       "      <td>hyundai</td>\n",
       "      <td>unknown</td>\n",
       "    </tr>\n",
       "    <tr>\n",
       "      <th>190581</th>\n",
       "      <td>850</td>\n",
       "      <td>unknown</td>\n",
       "      <td>9999</td>\n",
       "      <td>unknown</td>\n",
       "      <td>0</td>\n",
       "      <td>unknown</td>\n",
       "      <td>10000</td>\n",
       "      <td>0</td>\n",
       "      <td>unknown</td>\n",
       "      <td>mazda</td>\n",
       "      <td>unknown</td>\n",
       "    </tr>\n",
       "    <tr>\n",
       "      <th>49279</th>\n",
       "      <td>50</td>\n",
       "      <td>unknown</td>\n",
       "      <td>9999</td>\n",
       "      <td>unknown</td>\n",
       "      <td>0</td>\n",
       "      <td>911</td>\n",
       "      <td>10000</td>\n",
       "      <td>0</td>\n",
       "      <td>unknown</td>\n",
       "      <td>porsche</td>\n",
       "      <td>unknown</td>\n",
       "    </tr>\n",
       "    <tr>\n",
       "      <th>251234</th>\n",
       "      <td>150</td>\n",
       "      <td>unknown</td>\n",
       "      <td>9999</td>\n",
       "      <td>unknown</td>\n",
       "      <td>0</td>\n",
       "      <td>unknown</td>\n",
       "      <td>10000</td>\n",
       "      <td>0</td>\n",
       "      <td>unknown</td>\n",
       "      <td>sonstige_autos</td>\n",
       "      <td>unknown</td>\n",
       "    </tr>\n",
       "    <tr>\n",
       "      <th>143271</th>\n",
       "      <td>400</td>\n",
       "      <td>unknown</td>\n",
       "      <td>9999</td>\n",
       "      <td>unknown</td>\n",
       "      <td>0</td>\n",
       "      <td>unknown</td>\n",
       "      <td>10000</td>\n",
       "      <td>0</td>\n",
       "      <td>unknown</td>\n",
       "      <td>sonstige_autos</td>\n",
       "      <td>unknown</td>\n",
       "    </tr>\n",
       "  </tbody>\n",
       "</table>\n",
       "<p>100 rows × 11 columns</p>\n",
       "</div>"
      ],
      "text/plain": [
       "        price vehicle_type  registration_year  gearbox  power    model  \\\n",
       "26279     800      unknown               2066  unknown      0   zafira   \n",
       "18120     300      unknown               2200  unknown      0   twingo   \n",
       "208818    100      unknown               2222  unknown      0  unknown   \n",
       "237368      0      unknown               2222  unknown      0  unknown   \n",
       "117438    700      unknown               2290  unknown      0   laguna   \n",
       "...       ...          ...                ...      ...    ...      ...   \n",
       "242059     50      unknown               9999  unknown      0    other   \n",
       "190581    850      unknown               9999  unknown      0  unknown   \n",
       "49279      50      unknown               9999  unknown      0      911   \n",
       "251234    150      unknown               9999  unknown      0  unknown   \n",
       "143271    400      unknown               9999  unknown      0  unknown   \n",
       "\n",
       "        kilometer  registration_month fuel_type           brand not_repaired  \n",
       "26279        5000                   0  gasoline            opel      unknown  \n",
       "18120        5000                  12   unknown         renault      unknown  \n",
       "208818       5000                   0   unknown  sonstige_autos      unknown  \n",
       "237368       5000                   0   unknown   mercedes_benz      unknown  \n",
       "117438       5000                   0   unknown         renault      unknown  \n",
       "...           ...                 ...       ...             ...          ...  \n",
       "242059      10000                   0   unknown         hyundai      unknown  \n",
       "190581      10000                   0   unknown           mazda      unknown  \n",
       "49279       10000                   0   unknown         porsche      unknown  \n",
       "251234      10000                   0   unknown  sonstige_autos      unknown  \n",
       "143271      10000                   0   unknown  sonstige_autos      unknown  \n",
       "\n",
       "[100 rows x 11 columns]"
      ]
     },
     "execution_count": 18,
     "metadata": {},
     "output_type": "execute_result"
    }
   ],
   "source": [
    "df.query('registration_year > 2019').sort_values(by = 'registration_year')"
   ]
  },
  {
   "cell_type": "markdown",
   "metadata": {},
   "source": [
    "Обратившись к официальным источникам, определим, что информация о автомобилях, зарегистрированных после 2016 года, является ложной. Удалим строки с данными автомобилями:"
   ]
  },
  {
   "cell_type": "code",
   "execution_count": 19,
   "metadata": {},
   "outputs": [],
   "source": [
    "df = df.query('registration_year <= 2016').reset_index(drop = True)"
   ]
  },
  {
   "cell_type": "markdown",
   "metadata": {},
   "source": [
    "Столбец 'power':"
   ]
  },
  {
   "cell_type": "code",
   "execution_count": 20,
   "metadata": {},
   "outputs": [
    {
     "data": {
      "text/plain": [
       "count    312829.000000\n",
       "mean        111.212858\n",
       "std         192.878733\n",
       "min           0.000000\n",
       "25%          69.000000\n",
       "50%         105.000000\n",
       "75%         143.000000\n",
       "max       20000.000000\n",
       "Name: power, dtype: float64"
      ]
     },
     "execution_count": 20,
     "metadata": {},
     "output_type": "execute_result"
    }
   ],
   "source": [
    "df['power'].describe()"
   ]
  },
  {
   "cell_type": "code",
   "execution_count": 21,
   "metadata": {
    "scrolled": true
   },
   "outputs": [
    {
     "data": {
      "image/png": "[encoded data removed]",
      "text/plain": [
       "<Figure size 432x288 with 1 Axes>"
      ]
     },
     "metadata": {
      "needs_background": "light"
     },
     "output_type": "display_data"
    }
   ],
   "source": [
    "df.query('power < 20')['power'].hist(bins = 10);"
   ]
  },
  {
   "cell_type": "markdown",
   "metadata": {},
   "source": [
    "Заменим строки со значением мощности автомобилей менее 20 л.с. на медианное значение мощности:"
   ]
  },
  {
   "cell_type": "code",
   "execution_count": 22,
   "metadata": {},
   "outputs": [],
   "source": [
    "power_more_20_median = round(df.query('power > 20')['power'].median())"
   ]
  },
  {
   "cell_type": "code",
   "execution_count": 23,
   "metadata": {},
   "outputs": [],
   "source": [
    "for index in range(len(df['power'])):\n",
    "    if df.loc[index, 'power'] <= 0:\n",
    "        df.loc[index, 'power'] = power_more_20_median"
   ]
  },
  {
   "cell_type": "markdown",
   "metadata": {},
   "source": [
    "Проверим цены на автомобили:"
   ]
  },
  {
   "cell_type": "code",
   "execution_count": 24,
   "metadata": {},
   "outputs": [
    {
     "data": {
      "text/plain": [
       "count    312829.000000\n",
       "mean       4461.056389\n",
       "std        4551.539672\n",
       "min           0.000000\n",
       "25%        1050.000000\n",
       "50%        2750.000000\n",
       "75%        6500.000000\n",
       "max       20000.000000\n",
       "Name: price, dtype: float64"
      ]
     },
     "execution_count": 24,
     "metadata": {},
     "output_type": "execute_result"
    }
   ],
   "source": [
    "df['price'].describe()"
   ]
  },
  {
   "cell_type": "markdown",
   "metadata": {},
   "source": [
    "Непонятен тот факт, почему автомобили стоят от 0 евро. Выведем значения с ценой менее 20 евро:"
   ]
  },
  {
   "cell_type": "code",
   "execution_count": 25,
   "metadata": {
    "scrolled": true
   },
   "outputs": [
    {
     "data": {
      "image/png": "[encoded data removed]",
      "text/plain": [
       "<Figure size 432x288 with 1 Axes>"
      ]
     },
     "metadata": {
      "needs_background": "light"
     },
     "output_type": "display_data"
    }
   ],
   "source": [
    "df[df['price'] < 20]['price'].hist(bins = 30);"
   ]
  },
  {
   "cell_type": "markdown",
   "metadata": {},
   "source": [
    "Действительно, наблюдаются очень низкие цены, в основном, это единичные случаи. Кроме значений 0 и 1 евро - они массовые. Вероятно, это недостоверные данные. Удалим строки с этими значениями:"
   ]
  },
  {
   "cell_type": "code",
   "execution_count": 26,
   "metadata": {},
   "outputs": [],
   "source": [
    "df = df.query('price > 1').reset_index(drop = True)"
   ]
  },
  {
   "cell_type": "markdown",
   "metadata": {},
   "source": [
    "#### Определение корреляции между значениями"
   ]
  },
  {
   "cell_type": "markdown",
   "metadata": {},
   "source": [
    "Определим, какие зависимости есть между таргетами (price) и остальными признаками:"
   ]
  },
  {
   "cell_type": "code",
   "execution_count": 27,
   "metadata": {},
   "outputs": [
    {
     "data": {
      "image/png": "[encoded data removed]",
      "text/plain": [
       "<Figure size 720x360 with 2 Axes>"
      ]
     },
     "metadata": {
      "needs_background": "light"
     },
     "output_type": "display_data"
    }
   ],
   "source": [
    "plt.figure(figsize = (10, 5))\n",
    "sns.heatmap(df.corr(), annot = True);"
   ]
  },
  {
   "cell_type": "markdown",
   "metadata": {},
   "source": [
    "Из полученной тепловой карты прослеживается средняя прямая зависисимость между годом регистрации автомобиля и его ценой, а также слабая обратная - между кол-вом пройденных километров и ценой"
   ]
  },
  {
   "cell_type": "markdown",
   "metadata": {},
   "source": [
    "## Обучение моделей"
   ]
  },
  {
   "cell_type": "markdown",
   "metadata": {},
   "source": [
    "### Подготовка выборки для обучения моделей"
   ]
  },
  {
   "cell_type": "markdown",
   "metadata": {},
   "source": [
    "Преобразуем категоральные параметры техникой Ordinal Encoder. Выделим эти переменные в отдельный датасет:"
   ]
  },
  {
   "cell_type": "code",
   "execution_count": 28,
   "metadata": {},
   "outputs": [],
   "source": [
    "df_encoder = df.copy()\n",
    "df_encoder = df_encoder[['vehicle_type', 'gearbox', 'model', 'fuel_type', 'brand', 'not_repaired']]"
   ]
  },
  {
   "cell_type": "markdown",
   "metadata": {},
   "source": [
    "Применим технику Ordinal Encoder:"
   ]
  },
  {
   "cell_type": "code",
   "execution_count": 29,
   "metadata": {},
   "outputs": [],
   "source": [
    "encoder = OrdinalEncoder()\n",
    "df_encoder_update = pd.DataFrame(encoder.fit_transform(df_encoder), columns = df_encoder.columns)"
   ]
  },
  {
   "cell_type": "code",
   "execution_count": 30,
   "metadata": {},
   "outputs": [
    {
     "data": {
      "text/html": [
       "<div>\n",
       "<style scoped>\n",
       "    .dataframe tbody tr th:only-of-type {\n",
       "        vertical-align: middle;\n",
       "    }\n",
       "\n",
       "    .dataframe tbody tr th {\n",
       "        vertical-align: top;\n",
       "    }\n",
       "\n",
       "    .dataframe thead th {\n",
       "        text-align: right;\n",
       "    }\n",
       "</style>\n",
       "<table border=\"1\" class=\"dataframe\">\n",
       "  <thead>\n",
       "    <tr style=\"text-align: right;\">\n",
       "      <th></th>\n",
       "      <th>vehicle_type</th>\n",
       "      <th>gearbox</th>\n",
       "      <th>model</th>\n",
       "      <th>fuel_type</th>\n",
       "      <th>brand</th>\n",
       "      <th>not_repaired</th>\n",
       "    </tr>\n",
       "  </thead>\n",
       "  <tbody>\n",
       "    <tr>\n",
       "      <th>0</th>\n",
       "      <td>7.0</td>\n",
       "      <td>1.0</td>\n",
       "      <td>116.0</td>\n",
       "      <td>6.0</td>\n",
       "      <td>38.0</td>\n",
       "      <td>1.0</td>\n",
       "    </tr>\n",
       "    <tr>\n",
       "      <th>1</th>\n",
       "      <td>2.0</td>\n",
       "      <td>1.0</td>\n",
       "      <td>228.0</td>\n",
       "      <td>2.0</td>\n",
       "      <td>1.0</td>\n",
       "      <td>2.0</td>\n",
       "    </tr>\n",
       "    <tr>\n",
       "      <th>2</th>\n",
       "      <td>6.0</td>\n",
       "      <td>0.0</td>\n",
       "      <td>117.0</td>\n",
       "      <td>2.0</td>\n",
       "      <td>14.0</td>\n",
       "      <td>1.0</td>\n",
       "    </tr>\n",
       "    <tr>\n",
       "      <th>3</th>\n",
       "      <td>5.0</td>\n",
       "      <td>1.0</td>\n",
       "      <td>116.0</td>\n",
       "      <td>6.0</td>\n",
       "      <td>38.0</td>\n",
       "      <td>0.0</td>\n",
       "    </tr>\n",
       "    <tr>\n",
       "      <th>4</th>\n",
       "      <td>5.0</td>\n",
       "      <td>1.0</td>\n",
       "      <td>101.0</td>\n",
       "      <td>2.0</td>\n",
       "      <td>31.0</td>\n",
       "      <td>0.0</td>\n",
       "    </tr>\n",
       "    <tr>\n",
       "      <th>...</th>\n",
       "      <td>...</td>\n",
       "      <td>...</td>\n",
       "      <td>...</td>\n",
       "      <td>...</td>\n",
       "      <td>...</td>\n",
       "      <td>...</td>\n",
       "    </tr>\n",
       "    <tr>\n",
       "      <th>303169</th>\n",
       "      <td>4.0</td>\n",
       "      <td>1.0</td>\n",
       "      <td>140.0</td>\n",
       "      <td>6.0</td>\n",
       "      <td>30.0</td>\n",
       "      <td>2.0</td>\n",
       "    </tr>\n",
       "    <tr>\n",
       "      <th>303170</th>\n",
       "      <td>7.0</td>\n",
       "      <td>2.0</td>\n",
       "      <td>228.0</td>\n",
       "      <td>7.0</td>\n",
       "      <td>33.0</td>\n",
       "      <td>1.0</td>\n",
       "    </tr>\n",
       "    <tr>\n",
       "      <th>303171</th>\n",
       "      <td>1.0</td>\n",
       "      <td>0.0</td>\n",
       "      <td>106.0</td>\n",
       "      <td>6.0</td>\n",
       "      <td>32.0</td>\n",
       "      <td>0.0</td>\n",
       "    </tr>\n",
       "    <tr>\n",
       "      <th>303172</th>\n",
       "      <td>0.0</td>\n",
       "      <td>1.0</td>\n",
       "      <td>224.0</td>\n",
       "      <td>2.0</td>\n",
       "      <td>38.0</td>\n",
       "      <td>0.0</td>\n",
       "    </tr>\n",
       "    <tr>\n",
       "      <th>303173</th>\n",
       "      <td>8.0</td>\n",
       "      <td>1.0</td>\n",
       "      <td>116.0</td>\n",
       "      <td>2.0</td>\n",
       "      <td>38.0</td>\n",
       "      <td>1.0</td>\n",
       "    </tr>\n",
       "  </tbody>\n",
       "</table>\n",
       "<p>303174 rows × 6 columns</p>\n",
       "</div>"
      ],
      "text/plain": [
       "        vehicle_type  gearbox  model  fuel_type  brand  not_repaired\n",
       "0                7.0      1.0  116.0        6.0   38.0           1.0\n",
       "1                2.0      1.0  228.0        2.0    1.0           2.0\n",
       "2                6.0      0.0  117.0        2.0   14.0           1.0\n",
       "3                5.0      1.0  116.0        6.0   38.0           0.0\n",
       "4                5.0      1.0  101.0        2.0   31.0           0.0\n",
       "...              ...      ...    ...        ...    ...           ...\n",
       "303169           4.0      1.0  140.0        6.0   30.0           2.0\n",
       "303170           7.0      2.0  228.0        7.0   33.0           1.0\n",
       "303171           1.0      0.0  106.0        6.0   32.0           0.0\n",
       "303172           0.0      1.0  224.0        2.0   38.0           0.0\n",
       "303173           8.0      1.0  116.0        2.0   38.0           1.0\n",
       "\n",
       "[303174 rows x 6 columns]"
      ]
     },
     "execution_count": 30,
     "metadata": {},
     "output_type": "execute_result"
    }
   ],
   "source": [
    "df_encoder_update"
   ]
  },
  {
   "cell_type": "markdown",
   "metadata": {},
   "source": [
    "Удалим из исходного датасета столбцы с категоральными переменными и объединим его с обновленным датасетом:"
   ]
  },
  {
   "cell_type": "code",
   "execution_count": 31,
   "metadata": {},
   "outputs": [],
   "source": [
    "df = df.drop(['vehicle_type', 'gearbox', 'model', 'fuel_type', 'brand', 'not_repaired'], axis = 1)\n",
    "df = df.join(df_encoder_update, how = 'right')"
   ]
  },
  {
   "cell_type": "code",
   "execution_count": 32,
   "metadata": {},
   "outputs": [
    {
     "data": {
      "text/html": [
       "<div>\n",
       "<style scoped>\n",
       "    .dataframe tbody tr th:only-of-type {\n",
       "        vertical-align: middle;\n",
       "    }\n",
       "\n",
       "    .dataframe tbody tr th {\n",
       "        vertical-align: top;\n",
       "    }\n",
       "\n",
       "    .dataframe thead th {\n",
       "        text-align: right;\n",
       "    }\n",
       "</style>\n",
       "<table border=\"1\" class=\"dataframe\">\n",
       "  <thead>\n",
       "    <tr style=\"text-align: right;\">\n",
       "      <th></th>\n",
       "      <th>price</th>\n",
       "      <th>registration_year</th>\n",
       "      <th>power</th>\n",
       "      <th>kilometer</th>\n",
       "      <th>registration_month</th>\n",
       "      <th>vehicle_type</th>\n",
       "      <th>gearbox</th>\n",
       "      <th>model</th>\n",
       "      <th>fuel_type</th>\n",
       "      <th>brand</th>\n",
       "      <th>not_repaired</th>\n",
       "    </tr>\n",
       "  </thead>\n",
       "  <tbody>\n",
       "    <tr>\n",
       "      <th>0</th>\n",
       "      <td>480</td>\n",
       "      <td>1993</td>\n",
       "      <td>110</td>\n",
       "      <td>150000</td>\n",
       "      <td>0</td>\n",
       "      <td>7.0</td>\n",
       "      <td>1.0</td>\n",
       "      <td>116.0</td>\n",
       "      <td>6.0</td>\n",
       "      <td>38.0</td>\n",
       "      <td>1.0</td>\n",
       "    </tr>\n",
       "    <tr>\n",
       "      <th>1</th>\n",
       "      <td>18300</td>\n",
       "      <td>2011</td>\n",
       "      <td>190</td>\n",
       "      <td>125000</td>\n",
       "      <td>5</td>\n",
       "      <td>2.0</td>\n",
       "      <td>1.0</td>\n",
       "      <td>228.0</td>\n",
       "      <td>2.0</td>\n",
       "      <td>1.0</td>\n",
       "      <td>2.0</td>\n",
       "    </tr>\n",
       "    <tr>\n",
       "      <th>2</th>\n",
       "      <td>9800</td>\n",
       "      <td>2004</td>\n",
       "      <td>163</td>\n",
       "      <td>125000</td>\n",
       "      <td>8</td>\n",
       "      <td>6.0</td>\n",
       "      <td>0.0</td>\n",
       "      <td>117.0</td>\n",
       "      <td>2.0</td>\n",
       "      <td>14.0</td>\n",
       "      <td>1.0</td>\n",
       "    </tr>\n",
       "    <tr>\n",
       "      <th>3</th>\n",
       "      <td>1500</td>\n",
       "      <td>2001</td>\n",
       "      <td>75</td>\n",
       "      <td>150000</td>\n",
       "      <td>6</td>\n",
       "      <td>5.0</td>\n",
       "      <td>1.0</td>\n",
       "      <td>116.0</td>\n",
       "      <td>6.0</td>\n",
       "      <td>38.0</td>\n",
       "      <td>0.0</td>\n",
       "    </tr>\n",
       "    <tr>\n",
       "      <th>4</th>\n",
       "      <td>3600</td>\n",
       "      <td>2008</td>\n",
       "      <td>69</td>\n",
       "      <td>90000</td>\n",
       "      <td>7</td>\n",
       "      <td>5.0</td>\n",
       "      <td>1.0</td>\n",
       "      <td>101.0</td>\n",
       "      <td>2.0</td>\n",
       "      <td>31.0</td>\n",
       "      <td>0.0</td>\n",
       "    </tr>\n",
       "    <tr>\n",
       "      <th>5</th>\n",
       "      <td>650</td>\n",
       "      <td>1995</td>\n",
       "      <td>102</td>\n",
       "      <td>150000</td>\n",
       "      <td>10</td>\n",
       "      <td>4.0</td>\n",
       "      <td>1.0</td>\n",
       "      <td>11.0</td>\n",
       "      <td>6.0</td>\n",
       "      <td>2.0</td>\n",
       "      <td>2.0</td>\n",
       "    </tr>\n",
       "    <tr>\n",
       "      <th>6</th>\n",
       "      <td>2200</td>\n",
       "      <td>2004</td>\n",
       "      <td>109</td>\n",
       "      <td>150000</td>\n",
       "      <td>8</td>\n",
       "      <td>1.0</td>\n",
       "      <td>1.0</td>\n",
       "      <td>8.0</td>\n",
       "      <td>6.0</td>\n",
       "      <td>25.0</td>\n",
       "      <td>0.0</td>\n",
       "    </tr>\n",
       "    <tr>\n",
       "      <th>7</th>\n",
       "      <td>14500</td>\n",
       "      <td>2014</td>\n",
       "      <td>125</td>\n",
       "      <td>30000</td>\n",
       "      <td>8</td>\n",
       "      <td>0.0</td>\n",
       "      <td>1.0</td>\n",
       "      <td>60.0</td>\n",
       "      <td>6.0</td>\n",
       "      <td>10.0</td>\n",
       "      <td>1.0</td>\n",
       "    </tr>\n",
       "    <tr>\n",
       "      <th>8</th>\n",
       "      <td>999</td>\n",
       "      <td>1998</td>\n",
       "      <td>101</td>\n",
       "      <td>150000</td>\n",
       "      <td>0</td>\n",
       "      <td>5.0</td>\n",
       "      <td>1.0</td>\n",
       "      <td>116.0</td>\n",
       "      <td>7.0</td>\n",
       "      <td>38.0</td>\n",
       "      <td>1.0</td>\n",
       "    </tr>\n",
       "    <tr>\n",
       "      <th>9</th>\n",
       "      <td>2000</td>\n",
       "      <td>2004</td>\n",
       "      <td>105</td>\n",
       "      <td>150000</td>\n",
       "      <td>12</td>\n",
       "      <td>4.0</td>\n",
       "      <td>1.0</td>\n",
       "      <td>10.0</td>\n",
       "      <td>6.0</td>\n",
       "      <td>19.0</td>\n",
       "      <td>0.0</td>\n",
       "    </tr>\n",
       "  </tbody>\n",
       "</table>\n",
       "</div>"
      ],
      "text/plain": [
       "   price  registration_year  power  kilometer  registration_month  \\\n",
       "0    480               1993    110     150000                   0   \n",
       "1  18300               2011    190     125000                   5   \n",
       "2   9800               2004    163     125000                   8   \n",
       "3   1500               2001     75     150000                   6   \n",
       "4   3600               2008     69      90000                   7   \n",
       "5    650               1995    102     150000                  10   \n",
       "6   2200               2004    109     150000                   8   \n",
       "7  14500               2014    125      30000                   8   \n",
       "8    999               1998    101     150000                   0   \n",
       "9   2000               2004    105     150000                  12   \n",
       "\n",
       "   vehicle_type  gearbox  model  fuel_type  brand  not_repaired  \n",
       "0           7.0      1.0  116.0        6.0   38.0           1.0  \n",
       "1           2.0      1.0  228.0        2.0    1.0           2.0  \n",
       "2           6.0      0.0  117.0        2.0   14.0           1.0  \n",
       "3           5.0      1.0  116.0        6.0   38.0           0.0  \n",
       "4           5.0      1.0  101.0        2.0   31.0           0.0  \n",
       "5           4.0      1.0   11.0        6.0    2.0           2.0  \n",
       "6           1.0      1.0    8.0        6.0   25.0           0.0  \n",
       "7           0.0      1.0   60.0        6.0   10.0           1.0  \n",
       "8           5.0      1.0  116.0        7.0   38.0           1.0  \n",
       "9           4.0      1.0   10.0        6.0   19.0           0.0  "
      ]
     },
     "execution_count": 32,
     "metadata": {},
     "output_type": "execute_result"
    }
   ],
   "source": [
    "df.head(10)"
   ]
  },
  {
   "cell_type": "markdown",
   "metadata": {},
   "source": [
    "Для обучения модели разделим значения на таргеты (price) и остальные признаки на тестовую и валидационную выборки:"
   ]
  },
  {
   "cell_type": "code",
   "execution_count": 33,
   "metadata": {},
   "outputs": [],
   "source": [
    "features_train, features_valid, target_train, target_valid = tts(df.drop('price', axis = 1), \n",
    "                                                                 df['price'], test_size = 0.2, random_state = 12345)"
   ]
  },
  {
   "cell_type": "markdown",
   "metadata": {},
   "source": [
    "Из обучающей выборки выделим тестовую:"
   ]
  },
  {
   "cell_type": "code",
   "execution_count": 34,
   "metadata": {},
   "outputs": [],
   "source": [
    "features_train, features_test, target_train, target_test = tts(features_train, \n",
    "                                                                 target_train, test_size = 0.25, random_state = 12345)"
   ]
  },
  {
   "cell_type": "markdown",
   "metadata": {},
   "source": [
    "### Обучение модели на RF"
   ]
  },
  {
   "cell_type": "markdown",
   "metadata": {},
   "source": [
    "Проведем обучение модели на RF:"
   ]
  },
  {
   "cell_type": "code",
   "execution_count": 35,
   "metadata": {},
   "outputs": [],
   "source": [
    "model_RF = RandomForestRegressor(random_state = 12345)"
   ]
  },
  {
   "cell_type": "markdown",
   "metadata": {},
   "source": [
    "Введем перебор гиперпараметров:"
   ]
  },
  {
   "cell_type": "code",
   "execution_count": 36,
   "metadata": {},
   "outputs": [],
   "source": [
    "parameters_RF = {  \n",
    "    \n",
    "    'max_depth' : [2, 4, 6],\n",
    "    'n_estimators' : [10, 20, 30]\n",
    "    \n",
    "}"
   ]
  },
  {
   "cell_type": "markdown",
   "metadata": {},
   "source": [
    "Определим наиболее подходящие гиперпараметры модели:"
   ]
  },
  {
   "cell_type": "code",
   "execution_count": 37,
   "metadata": {
    "scrolled": true
   },
   "outputs": [
    {
     "name": "stdout",
     "output_type": "stream",
     "text": [
      "{'max_depth': 6, 'n_estimators': 20}\n",
      "CPU times: user 40.5 s, sys: 52.6 ms, total: 40.6 s\n",
      "Wall time: 40.6 s\n"
     ]
    }
   ],
   "source": [
    "%%time\n",
    "\n",
    "model_RF_param = GridSearchCV(estimator = model_RF, param_grid = parameters_RF, cv = 3, \n",
    "                              scoring = 'neg_root_mean_squared_error')\n",
    "model_RF_param.fit(features_train, target_train)\n",
    "\n",
    "print(model_RF_param.best_params_)"
   ]
  },
  {
   "cell_type": "markdown",
   "metadata": {},
   "source": [
    "Обучим модель с учетом подобранных гиперпараметров:"
   ]
  },
  {
   "cell_type": "code",
   "execution_count": 38,
   "metadata": {},
   "outputs": [
    {
     "name": "stdout",
     "output_type": "stream",
     "text": [
      "CPU times: user 3.12 s, sys: 4 ms, total: 3.13 s\n",
      "Wall time: 3.13 s\n"
     ]
    }
   ],
   "source": [
    "%%time\n",
    "\n",
    "model_RF_update = RandomForestRegressor(random_state = 12345, n_estimators = 20, max_depth = 6)\n",
    "model_RF_update.fit(features_train, target_train)\n",
    "model_RF_update_pred = model_RF_update.predict(features_valid)"
   ]
  },
  {
   "cell_type": "markdown",
   "metadata": {},
   "source": [
    "Определим качество модели по метрике R2:"
   ]
  },
  {
   "cell_type": "code",
   "execution_count": 39,
   "metadata": {},
   "outputs": [
    {
     "data": {
      "text/plain": [
       "0.7502898672105782"
      ]
     },
     "execution_count": 39,
     "metadata": {},
     "output_type": "execute_result"
    }
   ],
   "source": [
    "sklm.r2_score(target_valid, model_RF_update_pred)"
   ]
  },
  {
   "cell_type": "markdown",
   "metadata": {},
   "source": [
    "Определим качество модели по метрике RMSE:"
   ]
  },
  {
   "cell_type": "code",
   "execution_count": 40,
   "metadata": {},
   "outputs": [
    {
     "data": {
      "text/plain": [
       "2274.2723785989283"
      ]
     },
     "execution_count": 40,
     "metadata": {},
     "output_type": "execute_result"
    }
   ],
   "source": [
    "sklm.mean_squared_error(target_valid, model_RF_update_pred) ** 0.5"
   ]
  },
  {
   "cell_type": "markdown",
   "metadata": {},
   "source": [
    "### Обучение модели на LightGBM"
   ]
  },
  {
   "cell_type": "markdown",
   "metadata": {},
   "source": [
    "Проведем обучение модели на LightGBM:"
   ]
  },
  {
   "cell_type": "code",
   "execution_count": 41,
   "metadata": {},
   "outputs": [],
   "source": [
    "model_LGBM = LGBMRegressor(random_state = 12345)"
   ]
  },
  {
   "cell_type": "code",
   "execution_count": 42,
   "metadata": {},
   "outputs": [
    {
     "name": "stdout",
     "output_type": "stream",
     "text": [
      "CPU times: user 4.63 s, sys: 54.2 ms, total: 4.68 s\n",
      "Wall time: 4.65 s\n"
     ]
    }
   ],
   "source": [
    "%%time\n",
    "\n",
    "model_LGBM.fit(features_train, target_train)\n",
    "model_LGBM_pred = model_LGBM.predict(features_valid)"
   ]
  },
  {
   "cell_type": "markdown",
   "metadata": {},
   "source": [
    "Определим качество модели по метрике R2:"
   ]
  },
  {
   "cell_type": "code",
   "execution_count": 43,
   "metadata": {},
   "outputs": [
    {
     "data": {
      "text/plain": [
       "0.85478247543378"
      ]
     },
     "execution_count": 43,
     "metadata": {},
     "output_type": "execute_result"
    }
   ],
   "source": [
    "sklm.r2_score(target_valid, model_LGBM_pred)"
   ]
  },
  {
   "cell_type": "markdown",
   "metadata": {},
   "source": [
    "Определим качество модели по метрике RMSE:"
   ]
  },
  {
   "cell_type": "code",
   "execution_count": 44,
   "metadata": {},
   "outputs": [
    {
     "data": {
      "text/plain": [
       "1734.3386746038695"
      ]
     },
     "execution_count": 44,
     "metadata": {},
     "output_type": "execute_result"
    }
   ],
   "source": [
    "sklm.mean_squared_error(target_valid, model_LGBM_pred) ** 0.5"
   ]
  },
  {
   "cell_type": "markdown",
   "metadata": {},
   "source": [
    "Введем перебор гиперпараметров:"
   ]
  },
  {
   "cell_type": "code",
   "execution_count": 45,
   "metadata": {},
   "outputs": [],
   "source": [
    "parameters_LGBM = {  \n",
    "    'max_depth' : [1, 2, 3, 4, 5, 6, 7],\n",
    "    'boosting_type' : ['gbdt', 'dart']\n",
    "    \n",
    "}"
   ]
  },
  {
   "cell_type": "markdown",
   "metadata": {},
   "source": [
    "Определим наиболее подходящие гиперпараметры модели:"
   ]
  },
  {
   "cell_type": "code",
   "execution_count": 46,
   "metadata": {},
   "outputs": [
    {
     "name": "stdout",
     "output_type": "stream",
     "text": [
      "{'boosting_type': 'gbdt', 'max_depth': 7}\n",
      "CPU times: user 4min 19s, sys: 1.54 s, total: 4min 20s\n",
      "Wall time: 4min 22s\n"
     ]
    }
   ],
   "source": [
    "%%time\n",
    "\n",
    "model_LGBM_param = GridSearchCV(estimator = model_LGBM, param_grid = parameters_LGBM, cv = 3, \n",
    "                                scoring = 'neg_root_mean_squared_error')\n",
    "model_LGBM_param.fit(features_train, target_train)\n",
    "\n",
    "print(model_LGBM_param.best_params_)"
   ]
  },
  {
   "cell_type": "markdown",
   "metadata": {},
   "source": [
    "Обучим модель с учетом подобранных гиперпараметров:"
   ]
  },
  {
   "cell_type": "code",
   "execution_count": 47,
   "metadata": {},
   "outputs": [
    {
     "name": "stdout",
     "output_type": "stream",
     "text": [
      "CPU times: user 5.54 s, sys: 37.1 ms, total: 5.58 s\n",
      "Wall time: 5.68 s\n"
     ]
    }
   ],
   "source": [
    "%%time\n",
    "\n",
    "model_LGBM_update = LGBMRegressor(random_state = 12345, boosting_type = 'gbdt', max_depth = 7)\n",
    "model_LGBM_update.fit(features_train, target_train)\n",
    "model_LGBM_update_pred = model_LGBM_update.predict(features_valid)"
   ]
  },
  {
   "cell_type": "markdown",
   "metadata": {},
   "source": [
    "Определим качество модели по метрике R2:"
   ]
  },
  {
   "cell_type": "code",
   "execution_count": 48,
   "metadata": {},
   "outputs": [
    {
     "data": {
      "text/plain": [
       "0.8532667402074837"
      ]
     },
     "execution_count": 48,
     "metadata": {},
     "output_type": "execute_result"
    }
   ],
   "source": [
    "sklm.r2_score(target_valid, model_LGBM_update_pred)"
   ]
  },
  {
   "cell_type": "markdown",
   "metadata": {},
   "source": [
    "Определим качество модели по метрике RMSE:"
   ]
  },
  {
   "cell_type": "code",
   "execution_count": 49,
   "metadata": {},
   "outputs": [
    {
     "data": {
      "text/plain": [
       "1743.3664216159725"
      ]
     },
     "execution_count": 49,
     "metadata": {},
     "output_type": "execute_result"
    }
   ],
   "source": [
    "sklm.mean_squared_error(target_valid, model_LGBM_update_pred) ** 0.5"
   ]
  },
  {
   "cell_type": "markdown",
   "metadata": {},
   "source": [
    "## Анализ моделей"
   ]
  },
  {
   "cell_type": "markdown",
   "metadata": {},
   "source": [
    "### Определение времени обучения модели RF"
   ]
  },
  {
   "cell_type": "markdown",
   "metadata": {},
   "source": [
    "Определим время обучения модели RF:"
   ]
  },
  {
   "cell_type": "code",
   "execution_count": 50,
   "metadata": {},
   "outputs": [
    {
     "name": "stdout",
     "output_type": "stream",
     "text": [
      "CPU times: user 3.17 s, sys: 5.12 ms, total: 3.18 s\n",
      "Wall time: 3.21 s\n"
     ]
    },
    {
     "data": {
      "text/plain": [
       "RandomForestRegressor(max_depth=6, n_estimators=20, random_state=12345)"
      ]
     },
     "execution_count": 50,
     "metadata": {},
     "output_type": "execute_result"
    }
   ],
   "source": [
    "%%time\n",
    "\n",
    "model_RF_final = RandomForestRegressor(random_state = 12345, n_estimators = 20, max_depth = 6)\n",
    "model_RF_final.fit(features_train, target_train)"
   ]
  },
  {
   "cell_type": "markdown",
   "metadata": {},
   "source": [
    "Определим время предсказания модели RF:"
   ]
  },
  {
   "cell_type": "code",
   "execution_count": 51,
   "metadata": {},
   "outputs": [
    {
     "name": "stdout",
     "output_type": "stream",
     "text": [
      "CPU times: user 52.5 ms, sys: 27 µs, total: 52.5 ms\n",
      "Wall time: 60.9 ms\n"
     ]
    }
   ],
   "source": [
    "%%time\n",
    "\n",
    "model_RF_final_pred = model_RF_final.predict(features_valid)"
   ]
  },
  {
   "cell_type": "markdown",
   "metadata": {},
   "source": [
    "Определим качество модели по метрике R2:"
   ]
  },
  {
   "cell_type": "code",
   "execution_count": 52,
   "metadata": {},
   "outputs": [
    {
     "data": {
      "text/plain": [
       "0.7502898672105782"
      ]
     },
     "execution_count": 52,
     "metadata": {},
     "output_type": "execute_result"
    }
   ],
   "source": [
    "sklm.r2_score(target_valid, model_RF_final_pred)"
   ]
  },
  {
   "cell_type": "markdown",
   "metadata": {},
   "source": [
    "Определим качество модели по метрике RMSE:"
   ]
  },
  {
   "cell_type": "code",
   "execution_count": 53,
   "metadata": {},
   "outputs": [
    {
     "data": {
      "text/plain": [
       "2274.2723785989283"
      ]
     },
     "execution_count": 53,
     "metadata": {},
     "output_type": "execute_result"
    }
   ],
   "source": [
    "sklm.mean_squared_error(target_valid, model_RF_final_pred) ** 0.5"
   ]
  },
  {
   "cell_type": "markdown",
   "metadata": {},
   "source": [
    "### Определение времени обучения модели LightGBM"
   ]
  },
  {
   "cell_type": "markdown",
   "metadata": {},
   "source": [
    "Определим время обучения модели LightGBM при поиске гиперпараметров:"
   ]
  },
  {
   "cell_type": "code",
   "execution_count": 54,
   "metadata": {},
   "outputs": [
    {
     "name": "stdout",
     "output_type": "stream",
     "text": [
      "CPU times: user 3.88 s, sys: 6.4 ms, total: 3.89 s\n",
      "Wall time: 3.88 s\n"
     ]
    },
    {
     "data": {
      "text/plain": [
       "LGBMRegressor(max_depth=7, random_state=12345)"
      ]
     },
     "execution_count": 54,
     "metadata": {},
     "output_type": "execute_result"
    }
   ],
   "source": [
    "%%time\n",
    "\n",
    "model_LGBM_final = LGBMRegressor(random_state = 12345, boosting_type = 'gbdt', max_depth = 7)\n",
    "model_LGBM_final.fit(features_train, target_train)"
   ]
  },
  {
   "cell_type": "markdown",
   "metadata": {},
   "source": [
    "Определим время предсказания модели LightGBM при поиске гиперпараметров:"
   ]
  },
  {
   "cell_type": "code",
   "execution_count": 55,
   "metadata": {},
   "outputs": [
    {
     "name": "stdout",
     "output_type": "stream",
     "text": [
      "CPU times: user 447 ms, sys: 3.41 ms, total: 451 ms\n",
      "Wall time: 491 ms\n"
     ]
    }
   ],
   "source": [
    "%%time\n",
    "\n",
    "model_LGBM_final_pred = model_LGBM_final.predict(features_valid)"
   ]
  },
  {
   "cell_type": "markdown",
   "metadata": {},
   "source": [
    "Определим качество модели по метрике R2:"
   ]
  },
  {
   "cell_type": "code",
   "execution_count": 56,
   "metadata": {},
   "outputs": [
    {
     "data": {
      "text/plain": [
       "0.8532667402074837"
      ]
     },
     "execution_count": 56,
     "metadata": {},
     "output_type": "execute_result"
    }
   ],
   "source": [
    "sklm.r2_score(target_valid, model_LGBM_final_pred)"
   ]
  },
  {
   "cell_type": "markdown",
   "metadata": {},
   "source": [
    "Определим качество модели по метрике RMSE:"
   ]
  },
  {
   "cell_type": "code",
   "execution_count": 57,
   "metadata": {},
   "outputs": [
    {
     "data": {
      "text/plain": [
       "1743.3664216159725"
      ]
     },
     "execution_count": 57,
     "metadata": {},
     "output_type": "execute_result"
    }
   ],
   "source": [
    "sklm.mean_squared_error(target_valid, model_LGBM_final_pred) ** 0.5"
   ]
  },
  {
   "cell_type": "markdown",
   "metadata": {},
   "source": [
    "Определим время обучения модели LightGBM без поиска гиперпараметров:"
   ]
  },
  {
   "cell_type": "code",
   "execution_count": 58,
   "metadata": {},
   "outputs": [
    {
     "name": "stdout",
     "output_type": "stream",
     "text": [
      "CPU times: user 5.81 s, sys: 21.3 ms, total: 5.83 s\n",
      "Wall time: 5.88 s\n"
     ]
    },
    {
     "data": {
      "text/plain": [
       "LGBMRegressor(random_state=12345)"
      ]
     },
     "execution_count": 58,
     "metadata": {},
     "output_type": "execute_result"
    }
   ],
   "source": [
    "%%time\n",
    "\n",
    "model_LGBM_final_no_search = LGBMRegressor(random_state = 12345)\n",
    "model_LGBM_final_no_search.fit(features_train, target_train)"
   ]
  },
  {
   "cell_type": "markdown",
   "metadata": {},
   "source": [
    "Определим время предсказания модели LightGBM без поиска гиперпараметров:"
   ]
  },
  {
   "cell_type": "code",
   "execution_count": 59,
   "metadata": {},
   "outputs": [
    {
     "name": "stdout",
     "output_type": "stream",
     "text": [
      "CPU times: user 428 ms, sys: 0 ns, total: 428 ms\n",
      "Wall time: 491 ms\n"
     ]
    }
   ],
   "source": [
    "%%time\n",
    "\n",
    "model_LGBM_final_no_search_pred = model_LGBM_final_no_search.predict(features_valid)"
   ]
  },
  {
   "cell_type": "markdown",
   "metadata": {},
   "source": [
    "Определим качество модели по метрике R2:"
   ]
  },
  {
   "cell_type": "code",
   "execution_count": 60,
   "metadata": {},
   "outputs": [
    {
     "data": {
      "text/plain": [
       "0.85478247543378"
      ]
     },
     "execution_count": 60,
     "metadata": {},
     "output_type": "execute_result"
    }
   ],
   "source": [
    "sklm.r2_score(target_valid, model_LGBM_final_no_search_pred)"
   ]
  },
  {
   "cell_type": "markdown",
   "metadata": {},
   "source": [
    "Определим качество модели по метрике RMSE:"
   ]
  },
  {
   "cell_type": "code",
   "execution_count": 61,
   "metadata": {},
   "outputs": [
    {
     "data": {
      "text/plain": [
       "1734.3386746038695"
      ]
     },
     "execution_count": 61,
     "metadata": {},
     "output_type": "execute_result"
    }
   ],
   "source": [
    "sklm.mean_squared_error(target_valid, model_LGBM_final_no_search_pred) ** 0.5"
   ]
  },
  {
   "cell_type": "markdown",
   "metadata": {},
   "source": [
    "Таким образом, мы получили следующие результаты:\n",
    "\n",
    "1. Модель RF работает с заданной точностью, метрики RMSE - 2274.27 (менее 2500), R2 - 0.75\n",
    "\n",
    "2. Модель LightGBM без определения оптимальных гиперпараметров работает с заданной точностью, метрики RMSE - 1734.34 (менее 2500), R2 - 0.8548\n",
    "\n",
    "3. Модель LightGBM с определением оптимальных гиперпараметров работает с заданной точностью, метрики RMSE - 1743.36 (менее 2500), R2 - 0.8533\n",
    "\n",
    "Можем сделать несколько выводов:\n",
    "1. Качество модели LightGBM выше, чем у RF\n",
    "2. Качество модели LightGBM без поиска гиперпараметров выше, чем с поиском\n",
    "3. Время обучения модели LightGBM с поиском гиперпараметров меньше, чем без него\n",
    "\n",
    "Таким образом, лучшей моделью примем LightGBM."
   ]
  },
  {
   "cell_type": "markdown",
   "metadata": {},
   "source": [
    "## Тестирование"
   ]
  },
  {
   "cell_type": "markdown",
   "metadata": {},
   "source": [
    "Протестируем лучшую модель - LightGBM - на тестовой выборке и определим качество модели. Основная и определяющая метрика качества - RMSE. Дополнительно также определим метрику R2"
   ]
  },
  {
   "cell_type": "code",
   "execution_count": 62,
   "metadata": {},
   "outputs": [],
   "source": [
    "model_LGBM_test_pred = model_LGBM_final.predict(features_test)"
   ]
  },
  {
   "cell_type": "markdown",
   "metadata": {},
   "source": [
    "Определим качество модели по метрике RMSE:"
   ]
  },
  {
   "cell_type": "code",
   "execution_count": 63,
   "metadata": {},
   "outputs": [
    {
     "data": {
      "text/plain": [
       "1736.0647061601771"
      ]
     },
     "execution_count": 63,
     "metadata": {},
     "output_type": "execute_result"
    }
   ],
   "source": [
    "sklm.mean_squared_error(target_test, model_LGBM_test_pred) ** 0.5"
   ]
  },
  {
   "cell_type": "markdown",
   "metadata": {},
   "source": [
    "Определим качество модели по метрике R2:"
   ]
  },
  {
   "cell_type": "code",
   "execution_count": 64,
   "metadata": {},
   "outputs": [
    {
     "data": {
      "text/plain": [
       "0.855454656929315"
      ]
     },
     "execution_count": 64,
     "metadata": {},
     "output_type": "execute_result"
    }
   ],
   "source": [
    "sklm.r2_score(target_test, model_LGBM_test_pred)"
   ]
  },
  {
   "cell_type": "markdown",
   "metadata": {},
   "source": [
    "Качество модели практически не снизилось, подходит под критерий не менее 2500"
   ]
  },
  {
   "cell_type": "markdown",
   "metadata": {},
   "source": [
    "## Выводы"
   ]
  },
  {
   "cell_type": "markdown",
   "metadata": {},
   "source": [
    "В ходе выполнения проекта были проведены: подготовка и анализ данных, обучение моделей, анализ данных.\n",
    "\n",
    "Во время подготовки и анализа данных были удалены неинформативные столбцы, неверные данные, дубликаты, заполнены пропуски, были проверены верные типы данных, аномалии в данных, а также определены корреляции между данными: из тепловой карты прослеживается средняя прямая зависисимость между годом регистрации автомобиля и его ценой, а также слабая обратная - между кол-вом пройденных километров и ценой.\n",
    "\n",
    "Во время обучения модели были проведены обучения на RF и LightGBM. Результаты оказались следующими:\n",
    "\n",
    "1. Модель RF работает с заданной точностью, метрики RMSE - 2286.54 (менее 2500), R2 - 0.7476\n",
    "\n",
    "2. Модель LightGBM без определения оптимальных гиперпараметров работает с заданной точностью, метрики RMSE - 1726.75 (менее 2500), R2 - 0.856\n",
    "\n",
    "3. Модель LightGBM с определением оптимальных гиперпараметров работает с заданной точностью, метрики RMSE - 1771.68 (менее 2500), R2 - 0.84846\n",
    "\n",
    "Во время анализа модели было определено время, за которое обучаются модели:\n",
    "1. Модель RF обучается примерно за 3.27 секунд\n",
    "2. Модель LightGBM без определения оптимальных гиперпараметров обучается примерно за 6.37 секунд\n",
    "3. Модель LightGBM с определением оптимальных гиперпараметров обучается примерно за 4.37 секунд\n",
    "\n",
    "Во время тестирования лучшей модели (LightGBM) было определено, что качество модели не упало, RSME = 1736.06 - менее 2500\n",
    "\n",
    "Таким образом, можно сделать вывод о том, что наиболее эффективной является модель LightGBM."
   ]
  }
 ],
 "metadata": {
  "ExecuteTimeLog": [
   {
    "duration": 42,
    "start_time": "2022-08-10T09:43:31.665Z"
   },
   {
    "duration": 393,
    "start_time": "2022-08-10T09:43:37.684Z"
   },
   {
    "duration": 72,
    "start_time": "2022-08-10T09:43:56.611Z"
   },
   {
    "duration": 2891,
    "start_time": "2022-08-10T09:43:59.357Z"
   },
   {
    "duration": 18,
    "start_time": "2022-08-10T09:44:09.469Z"
   },
   {
    "duration": 100,
    "start_time": "2022-08-10T09:44:15.418Z"
   },
   {
    "duration": 415,
    "start_time": "2022-08-10T09:44:21.879Z"
   },
   {
    "duration": 712,
    "start_time": "2022-08-10T09:44:22.296Z"
   },
   {
    "duration": 20,
    "start_time": "2022-08-10T09:44:23.009Z"
   },
   {
    "duration": 123,
    "start_time": "2022-08-10T09:44:23.031Z"
   },
   {
    "duration": 739,
    "start_time": "2022-08-10T09:45:27.328Z"
   },
   {
    "duration": 15,
    "start_time": "2022-08-10T10:05:10.425Z"
   },
   {
    "duration": 18,
    "start_time": "2022-08-10T10:05:12.932Z"
   },
   {
    "duration": 3,
    "start_time": "2022-08-10T10:05:33.611Z"
   },
   {
    "duration": 3,
    "start_time": "2022-08-10T10:09:03.974Z"
   },
   {
    "duration": 3,
    "start_time": "2022-08-10T10:09:12.064Z"
   },
   {
    "duration": 4,
    "start_time": "2022-08-10T10:09:18.348Z"
   },
   {
    "duration": 33,
    "start_time": "2022-08-10T10:11:25.633Z"
   },
   {
    "duration": 37,
    "start_time": "2022-08-10T10:11:36.491Z"
   },
   {
    "duration": 16,
    "start_time": "2022-08-10T10:11:43.531Z"
   },
   {
    "duration": 10,
    "start_time": "2022-08-10T10:13:28.361Z"
   },
   {
    "duration": 79,
    "start_time": "2022-08-10T10:15:36.291Z"
   },
   {
    "duration": 54,
    "start_time": "2022-08-10T10:15:43.355Z"
   },
   {
    "duration": 66,
    "start_time": "2022-08-10T10:15:53.195Z"
   },
   {
    "duration": 71,
    "start_time": "2022-08-10T10:15:58.481Z"
   },
   {
    "duration": 63,
    "start_time": "2022-08-10T10:16:10.659Z"
   },
   {
    "duration": 66,
    "start_time": "2022-08-10T10:16:24.499Z"
   },
   {
    "duration": 13,
    "start_time": "2022-08-10T10:19:34.666Z"
   },
   {
    "duration": 430,
    "start_time": "2022-08-10T14:28:13.288Z"
   },
   {
    "duration": 3129,
    "start_time": "2022-08-10T14:28:13.720Z"
   },
   {
    "duration": 147,
    "start_time": "2022-08-10T14:28:16.851Z"
   },
   {
    "duration": 25,
    "start_time": "2022-08-10T14:28:17.000Z"
   },
   {
    "duration": 9,
    "start_time": "2022-08-10T14:28:17.026Z"
   },
   {
    "duration": 59,
    "start_time": "2022-08-10T14:28:17.036Z"
   },
   {
    "duration": 102,
    "start_time": "2022-08-10T14:28:17.098Z"
   },
   {
    "duration": 20,
    "start_time": "2022-08-10T14:28:17.201Z"
   },
   {
    "duration": 24,
    "start_time": "2022-08-10T14:31:32.763Z"
   },
   {
    "duration": 951,
    "start_time": "2022-08-10T14:31:58.540Z"
   },
   {
    "duration": 1077,
    "start_time": "2022-08-10T14:32:37.023Z"
   },
   {
    "duration": 980,
    "start_time": "2022-08-10T14:33:06.696Z"
   },
   {
    "duration": 83,
    "start_time": "2022-08-10T14:34:40.311Z"
   },
   {
    "duration": 3,
    "start_time": "2022-08-10T14:35:06.001Z"
   },
   {
    "duration": 11,
    "start_time": "2022-08-10T14:35:11.370Z"
   },
   {
    "duration": 162,
    "start_time": "2022-08-10T14:35:29.428Z"
   },
   {
    "duration": 302,
    "start_time": "2022-08-10T14:35:37.478Z"
   },
   {
    "duration": 251,
    "start_time": "2022-08-10T14:35:40.238Z"
   },
   {
    "duration": 226,
    "start_time": "2022-08-10T14:36:40.838Z"
   },
   {
    "duration": 219,
    "start_time": "2022-08-10T14:36:52.861Z"
   },
   {
    "duration": 203,
    "start_time": "2022-08-10T14:36:59.818Z"
   },
   {
    "duration": 314,
    "start_time": "2022-08-10T14:37:27.338Z"
   },
   {
    "duration": 25,
    "start_time": "2022-08-10T14:38:21.770Z"
   },
   {
    "duration": 6,
    "start_time": "2022-08-10T14:41:22.373Z"
   },
   {
    "duration": 24,
    "start_time": "2022-08-10T14:41:28.935Z"
   },
   {
    "duration": 19,
    "start_time": "2022-08-10T14:42:04.910Z"
   },
   {
    "duration": 3,
    "start_time": "2022-08-10T14:42:46.699Z"
   },
   {
    "duration": 12,
    "start_time": "2022-08-10T14:42:49.666Z"
   },
   {
    "duration": 8,
    "start_time": "2022-08-10T14:42:54.098Z"
   },
   {
    "duration": 724,
    "start_time": "2022-08-10T14:43:02.166Z"
   },
   {
    "duration": 1063,
    "start_time": "2022-08-10T14:43:02.892Z"
   },
   {
    "duration": 164,
    "start_time": "2022-08-10T14:43:03.956Z"
   },
   {
    "duration": 27,
    "start_time": "2022-08-10T14:43:04.124Z"
   },
   {
    "duration": 26,
    "start_time": "2022-08-10T14:43:04.152Z"
   },
   {
    "duration": 59,
    "start_time": "2022-08-10T14:43:04.180Z"
   },
   {
    "duration": 138,
    "start_time": "2022-08-10T14:43:04.242Z"
   },
   {
    "duration": 25,
    "start_time": "2022-08-10T14:43:04.382Z"
   },
   {
    "duration": 23,
    "start_time": "2022-08-10T14:43:04.409Z"
   },
   {
    "duration": 8,
    "start_time": "2022-08-10T14:43:04.434Z"
   },
   {
    "duration": 1176,
    "start_time": "2022-08-10T14:43:04.444Z"
   },
   {
    "duration": 93,
    "start_time": "2022-08-10T14:43:22.682Z"
   },
   {
    "duration": 90,
    "start_time": "2022-08-10T14:43:26.059Z"
   },
   {
    "duration": 6,
    "start_time": "2022-08-10T14:43:29.139Z"
   },
   {
    "duration": 7,
    "start_time": "2022-08-10T14:43:36.365Z"
   },
   {
    "duration": 7,
    "start_time": "2022-08-10T14:43:40.489Z"
   },
   {
    "duration": 94,
    "start_time": "2022-08-10T14:43:44.458Z"
   },
   {
    "duration": 8,
    "start_time": "2022-08-10T14:43:48.833Z"
   },
   {
    "duration": 8,
    "start_time": "2022-08-10T14:43:53.386Z"
   },
   {
    "duration": 80,
    "start_time": "2022-08-10T14:43:57.910Z"
   },
   {
    "duration": 7,
    "start_time": "2022-08-10T14:44:02.598Z"
   },
   {
    "duration": 31,
    "start_time": "2022-08-10T14:44:15.936Z"
   },
   {
    "duration": 13,
    "start_time": "2022-08-10T14:44:39.434Z"
   },
   {
    "duration": 10,
    "start_time": "2022-08-10T14:44:45.890Z"
   },
   {
    "duration": 5,
    "start_time": "2022-08-10T14:46:11.813Z"
   },
   {
    "duration": 5,
    "start_time": "2022-08-10T14:46:27.303Z"
   },
   {
    "duration": 9,
    "start_time": "2022-08-10T14:47:00.283Z"
   },
   {
    "duration": 8,
    "start_time": "2022-08-10T14:47:06.760Z"
   },
   {
    "duration": 7,
    "start_time": "2022-08-10T14:47:50.803Z"
   },
   {
    "duration": 23,
    "start_time": "2022-08-10T14:47:55.385Z"
   },
   {
    "duration": 36,
    "start_time": "2022-08-10T14:52:37.795Z"
   },
   {
    "duration": 185,
    "start_time": "2022-08-10T14:56:31.630Z"
   },
   {
    "duration": 9,
    "start_time": "2022-08-10T14:56:42.455Z"
   },
   {
    "duration": 135,
    "start_time": "2022-08-10T14:57:01.056Z"
   },
   {
    "duration": 35,
    "start_time": "2022-08-10T14:57:53.630Z"
   },
   {
    "duration": 19,
    "start_time": "2022-08-10T14:57:55.038Z"
   },
   {
    "duration": 5,
    "start_time": "2022-08-10T14:58:04.156Z"
   },
   {
    "duration": 26,
    "start_time": "2022-08-10T14:58:08.933Z"
   },
   {
    "duration": 23,
    "start_time": "2022-08-10T14:58:23.927Z"
   },
   {
    "duration": 17059,
    "start_time": "2022-08-10T15:00:45.412Z"
   },
   {
    "duration": 22,
    "start_time": "2022-08-10T15:01:05.103Z"
   },
   {
    "duration": 6,
    "start_time": "2022-08-10T15:01:19.864Z"
   },
   {
    "duration": 8,
    "start_time": "2022-08-10T15:01:23.295Z"
   },
   {
    "duration": 694,
    "start_time": "2022-08-10T15:02:37.951Z"
   },
   {
    "duration": 972,
    "start_time": "2022-08-10T15:02:38.647Z"
   },
   {
    "duration": 147,
    "start_time": "2022-08-10T15:02:39.620Z"
   },
   {
    "duration": 52,
    "start_time": "2022-08-10T15:02:39.771Z"
   },
   {
    "duration": 5,
    "start_time": "2022-08-10T15:02:39.826Z"
   },
   {
    "duration": 80,
    "start_time": "2022-08-10T15:02:39.833Z"
   },
   {
    "duration": 108,
    "start_time": "2022-08-10T15:02:39.916Z"
   },
   {
    "duration": 48,
    "start_time": "2022-08-10T15:02:40.027Z"
   },
   {
    "duration": 24,
    "start_time": "2022-08-10T15:02:40.077Z"
   },
   {
    "duration": 1170,
    "start_time": "2022-08-10T15:02:40.104Z"
   },
   {
    "duration": 35,
    "start_time": "2022-08-10T15:04:21.623Z"
   },
   {
    "duration": 22,
    "start_time": "2022-08-10T15:04:56.005Z"
   },
   {
    "duration": 24,
    "start_time": "2022-08-10T15:05:05.936Z"
   },
   {
    "duration": 77,
    "start_time": "2022-08-10T15:05:07.676Z"
   },
   {
    "duration": 9,
    "start_time": "2022-08-10T15:05:12.563Z"
   },
   {
    "duration": 9,
    "start_time": "2022-08-10T15:05:13.479Z"
   },
   {
    "duration": 3,
    "start_time": "2022-08-10T15:05:18.108Z"
   },
   {
    "duration": 9,
    "start_time": "2022-08-10T15:05:23.623Z"
   },
   {
    "duration": 35,
    "start_time": "2022-08-10T15:05:29.448Z"
   },
   {
    "duration": 27,
    "start_time": "2022-08-10T15:05:33.324Z"
   },
   {
    "duration": 14,
    "start_time": "2022-08-10T15:05:34.999Z"
   },
   {
    "duration": 21,
    "start_time": "2022-08-10T15:05:49.001Z"
   },
   {
    "duration": 23,
    "start_time": "2022-08-10T15:05:55.827Z"
   },
   {
    "duration": 36,
    "start_time": "2022-08-10T15:05:57.767Z"
   },
   {
    "duration": 24,
    "start_time": "2022-08-10T15:05:58.580Z"
   },
   {
    "duration": 19,
    "start_time": "2022-08-10T15:05:59.208Z"
   },
   {
    "duration": 4,
    "start_time": "2022-08-10T15:06:04.186Z"
   },
   {
    "duration": 38,
    "start_time": "2022-08-10T15:06:04.996Z"
   },
   {
    "duration": 21,
    "start_time": "2022-08-10T15:06:06.304Z"
   },
   {
    "duration": 23,
    "start_time": "2022-08-10T15:06:44.129Z"
   },
   {
    "duration": 19,
    "start_time": "2022-08-10T15:06:44.817Z"
   },
   {
    "duration": 38,
    "start_time": "2022-08-10T15:07:14.422Z"
   },
   {
    "duration": 20,
    "start_time": "2022-08-10T15:07:15.043Z"
   },
   {
    "duration": 12,
    "start_time": "2022-08-10T15:08:04.363Z"
   },
   {
    "duration": 1567,
    "start_time": "2022-08-10T15:08:13.533Z"
   },
   {
    "duration": 0,
    "start_time": "2022-08-10T15:08:37.986Z"
   },
   {
    "duration": 4,
    "start_time": "2022-08-10T15:11:07.460Z"
   },
   {
    "duration": 15,
    "start_time": "2022-08-10T15:12:47.075Z"
   },
   {
    "duration": 11,
    "start_time": "2022-08-10T15:12:52.702Z"
   },
   {
    "duration": 29,
    "start_time": "2022-08-10T15:13:00.856Z"
   },
   {
    "duration": 88,
    "start_time": "2022-08-10T15:13:37.628Z"
   },
   {
    "duration": 14,
    "start_time": "2022-08-10T15:13:41.879Z"
   },
   {
    "duration": 29,
    "start_time": "2022-08-10T15:13:57.046Z"
   },
   {
    "duration": 34,
    "start_time": "2022-08-10T15:14:10.246Z"
   },
   {
    "duration": 39,
    "start_time": "2022-08-10T15:14:59.088Z"
   },
   {
    "duration": 41,
    "start_time": "2022-08-10T15:15:01.937Z"
   },
   {
    "duration": 964,
    "start_time": "2022-08-10T15:15:44.553Z"
   },
   {
    "duration": 42,
    "start_time": "2022-08-10T15:16:00.090Z"
   },
   {
    "duration": 30,
    "start_time": "2022-08-10T15:16:26.604Z"
   },
   {
    "duration": 21,
    "start_time": "2022-08-10T15:16:29.148Z"
   },
   {
    "duration": 99,
    "start_time": "2022-08-10T15:16:41.738Z"
   },
   {
    "duration": 40,
    "start_time": "2022-08-10T15:24:22.707Z"
   },
   {
    "duration": 98,
    "start_time": "2022-08-10T15:25:17.150Z"
   },
   {
    "duration": 107,
    "start_time": "2022-08-10T15:25:25.308Z"
   },
   {
    "duration": 20,
    "start_time": "2022-08-10T15:25:31.162Z"
   },
   {
    "duration": 41,
    "start_time": "2022-08-10T15:29:21.673Z"
   },
   {
    "duration": 26,
    "start_time": "2022-08-10T15:29:25.764Z"
   },
   {
    "duration": 12,
    "start_time": "2022-08-10T15:29:30.272Z"
   },
   {
    "duration": 93,
    "start_time": "2022-08-10T15:29:37.373Z"
   },
   {
    "duration": 7,
    "start_time": "2022-08-10T15:29:42.643Z"
   },
   {
    "duration": 28,
    "start_time": "2022-08-10T15:29:58.340Z"
   },
   {
    "duration": 19,
    "start_time": "2022-08-10T15:41:49.788Z"
   },
   {
    "duration": 86,
    "start_time": "2022-08-10T15:43:21.329Z"
   },
   {
    "duration": 108,
    "start_time": "2022-08-10T15:45:23.996Z"
   },
   {
    "duration": 21,
    "start_time": "2022-08-10T15:45:26.650Z"
   },
   {
    "duration": 101,
    "start_time": "2022-08-10T15:45:37.648Z"
   },
   {
    "duration": 26,
    "start_time": "2022-08-10T15:45:38.556Z"
   },
   {
    "duration": 1125,
    "start_time": "2022-08-10T15:46:23.460Z"
   },
   {
    "duration": 19,
    "start_time": "2022-08-10T15:47:50.860Z"
   },
   {
    "duration": 137,
    "start_time": "2022-08-10T15:48:02.999Z"
   },
   {
    "duration": 138,
    "start_time": "2022-08-10T15:48:07.280Z"
   },
   {
    "duration": 11,
    "start_time": "2022-08-10T15:48:48.470Z"
   },
   {
    "duration": 12,
    "start_time": "2022-08-10T15:49:03.652Z"
   },
   {
    "duration": 173,
    "start_time": "2022-08-10T15:49:05.837Z"
   },
   {
    "duration": 165,
    "start_time": "2022-08-10T15:49:18.224Z"
   },
   {
    "duration": 62,
    "start_time": "2022-08-10T15:50:12.627Z"
   },
   {
    "duration": 34,
    "start_time": "2022-08-10T15:52:20.923Z"
   },
   {
    "duration": 87,
    "start_time": "2022-08-10T15:52:58.665Z"
   },
   {
    "duration": 472,
    "start_time": "2022-08-10T15:53:02.996Z"
   },
   {
    "duration": 381,
    "start_time": "2022-08-10T15:54:04.645Z"
   },
   {
    "duration": 38,
    "start_time": "2022-08-10T15:54:11.435Z"
   },
   {
    "duration": 528,
    "start_time": "2022-08-10T15:54:30.979Z"
   },
   {
    "duration": 417,
    "start_time": "2022-08-10T15:54:33.897Z"
   },
   {
    "duration": 410,
    "start_time": "2022-08-10T15:54:56.613Z"
   },
   {
    "duration": 386,
    "start_time": "2022-08-10T15:55:05.008Z"
   },
   {
    "duration": 390,
    "start_time": "2022-08-10T15:55:15.008Z"
   },
   {
    "duration": 419,
    "start_time": "2022-08-10T15:55:21.986Z"
   },
   {
    "duration": 437,
    "start_time": "2022-08-10T15:55:26.240Z"
   },
   {
    "duration": 365,
    "start_time": "2022-08-10T15:55:33.004Z"
   },
   {
    "duration": 1119,
    "start_time": "2022-08-10T15:56:33.159Z"
   },
   {
    "duration": 1036,
    "start_time": "2022-08-10T15:56:40.576Z"
   },
   {
    "duration": 7,
    "start_time": "2022-08-10T16:02:15.096Z"
   },
   {
    "duration": 4,
    "start_time": "2022-08-10T16:02:18.249Z"
   },
   {
    "duration": 14,
    "start_time": "2022-08-10T16:02:44.404Z"
   },
   {
    "duration": 15,
    "start_time": "2022-08-10T16:03:16.718Z"
   },
   {
    "duration": 16,
    "start_time": "2022-08-10T16:04:01.955Z"
   },
   {
    "duration": 61,
    "start_time": "2022-08-10T16:04:59.052Z"
   },
   {
    "duration": 14,
    "start_time": "2022-08-10T16:06:58.160Z"
   },
   {
    "duration": 15,
    "start_time": "2022-08-10T16:07:29.279Z"
   },
   {
    "duration": 25,
    "start_time": "2022-08-10T16:34:14.864Z"
   },
   {
    "duration": 22,
    "start_time": "2022-08-10T16:34:26.095Z"
   },
   {
    "duration": 22,
    "start_time": "2022-08-10T16:34:35.185Z"
   },
   {
    "duration": 426,
    "start_time": "2022-08-10T16:35:51.018Z"
   },
   {
    "duration": 21,
    "start_time": "2022-08-10T16:35:55.976Z"
   },
   {
    "duration": 9,
    "start_time": "2022-08-10T16:36:04.036Z"
   },
   {
    "duration": 8,
    "start_time": "2022-08-10T16:36:19.424Z"
   },
   {
    "duration": 16,
    "start_time": "2022-08-10T16:36:24.131Z"
   },
   {
    "duration": 25,
    "start_time": "2022-08-10T16:36:52.318Z"
   },
   {
    "duration": 31,
    "start_time": "2022-08-10T16:38:07.076Z"
   },
   {
    "duration": 18,
    "start_time": "2022-08-10T16:38:13.909Z"
   },
   {
    "duration": 20,
    "start_time": "2022-08-10T16:38:47.299Z"
   },
   {
    "duration": 20,
    "start_time": "2022-08-10T16:41:10.124Z"
   },
   {
    "duration": 19,
    "start_time": "2022-08-10T16:42:53.092Z"
   },
   {
    "duration": 150,
    "start_time": "2022-08-10T16:46:02.756Z"
   },
   {
    "duration": 38,
    "start_time": "2022-08-10T16:47:32.663Z"
   },
   {
    "duration": 16,
    "start_time": "2022-08-10T16:47:45.181Z"
   },
   {
    "duration": 24,
    "start_time": "2022-08-10T16:47:56.527Z"
   },
   {
    "duration": 20,
    "start_time": "2022-08-10T16:48:51.707Z"
   },
   {
    "duration": 174,
    "start_time": "2022-08-10T16:49:10.065Z"
   },
   {
    "duration": 138,
    "start_time": "2022-08-10T16:49:12.818Z"
   },
   {
    "duration": 196,
    "start_time": "2022-08-10T16:49:18.127Z"
   },
   {
    "duration": 4,
    "start_time": "2022-08-10T16:49:30.714Z"
   },
   {
    "duration": 174,
    "start_time": "2022-08-10T16:49:40.361Z"
   },
   {
    "duration": 115,
    "start_time": "2022-08-10T16:50:07.313Z"
   },
   {
    "duration": 113,
    "start_time": "2022-08-10T16:50:16.107Z"
   },
   {
    "duration": 6,
    "start_time": "2022-08-10T16:50:27.842Z"
   },
   {
    "duration": 15,
    "start_time": "2022-08-10T16:50:39.199Z"
   },
   {
    "duration": 14,
    "start_time": "2022-08-10T16:50:46.690Z"
   },
   {
    "duration": 25,
    "start_time": "2022-08-10T16:50:59.582Z"
   },
   {
    "duration": 25,
    "start_time": "2022-08-10T16:51:07.662Z"
   },
   {
    "duration": 24,
    "start_time": "2022-08-10T16:51:50.944Z"
   },
   {
    "duration": 25,
    "start_time": "2022-08-10T16:52:01.750Z"
   },
   {
    "duration": 25,
    "start_time": "2022-08-10T16:52:25.213Z"
   },
   {
    "duration": 454,
    "start_time": "2022-08-10T16:52:37.084Z"
   },
   {
    "duration": 163,
    "start_time": "2022-08-10T16:52:49.157Z"
   },
   {
    "duration": 149,
    "start_time": "2022-08-10T16:52:59.915Z"
   },
   {
    "duration": 198,
    "start_time": "2022-08-10T16:53:06.640Z"
   },
   {
    "duration": 177,
    "start_time": "2022-08-10T16:53:11.904Z"
   },
   {
    "duration": 235,
    "start_time": "2022-08-10T16:53:19.308Z"
   },
   {
    "duration": 160,
    "start_time": "2022-08-10T16:53:24.342Z"
   },
   {
    "duration": 144,
    "start_time": "2022-08-10T16:53:27.867Z"
   },
   {
    "duration": 133,
    "start_time": "2022-08-10T16:53:30.732Z"
   },
   {
    "duration": 36,
    "start_time": "2022-08-10T16:55:16.879Z"
   },
   {
    "duration": 26,
    "start_time": "2022-08-10T16:55:38.626Z"
   },
   {
    "duration": 39,
    "start_time": "2022-08-10T16:57:38.028Z"
   },
   {
    "duration": 29,
    "start_time": "2022-08-10T16:57:45.748Z"
   },
   {
    "duration": 25,
    "start_time": "2022-08-10T16:57:50.519Z"
   },
   {
    "duration": 21,
    "start_time": "2022-08-10T16:57:57.050Z"
   },
   {
    "duration": 24,
    "start_time": "2022-08-10T16:58:00.901Z"
   },
   {
    "duration": 21,
    "start_time": "2022-08-10T16:58:08.390Z"
   },
   {
    "duration": 1577,
    "start_time": "2022-08-10T16:58:27.419Z"
   },
   {
    "duration": 1627,
    "start_time": "2022-08-10T16:59:13.253Z"
   },
   {
    "duration": 19,
    "start_time": "2022-08-10T16:59:22.737Z"
   },
   {
    "duration": 1703,
    "start_time": "2022-08-10T16:59:33.170Z"
   },
   {
    "duration": 1814,
    "start_time": "2022-08-10T16:59:57.059Z"
   },
   {
    "duration": 21,
    "start_time": "2022-08-10T17:00:05.777Z"
   },
   {
    "duration": 4,
    "start_time": "2022-08-10T17:00:11.308Z"
   },
   {
    "duration": 1747,
    "start_time": "2022-08-10T17:00:34.503Z"
   },
   {
    "duration": 5095,
    "start_time": "2022-08-10T17:01:20.028Z"
   },
   {
    "duration": 1659,
    "start_time": "2022-08-10T17:01:57.022Z"
   },
   {
    "duration": 2005,
    "start_time": "2022-08-10T17:02:13.277Z"
   },
   {
    "duration": 1978,
    "start_time": "2022-08-10T17:02:39.000Z"
   },
   {
    "duration": 42,
    "start_time": "2022-08-10T17:03:29.984Z"
   },
   {
    "duration": 1241,
    "start_time": "2022-08-10T17:03:36.243Z"
   },
   {
    "duration": 985,
    "start_time": "2022-08-10T17:03:37.486Z"
   },
   {
    "duration": 150,
    "start_time": "2022-08-10T17:03:38.473Z"
   },
   {
    "duration": 28,
    "start_time": "2022-08-10T17:03:38.626Z"
   },
   {
    "duration": 4,
    "start_time": "2022-08-10T17:03:38.656Z"
   },
   {
    "duration": 67,
    "start_time": "2022-08-10T17:03:38.661Z"
   },
   {
    "duration": 92,
    "start_time": "2022-08-10T17:03:38.730Z"
   },
   {
    "duration": 151,
    "start_time": "2022-08-10T17:03:38.824Z"
   },
   {
    "duration": 134,
    "start_time": "2022-08-10T17:03:38.976Z"
   },
   {
    "duration": 164,
    "start_time": "2022-08-10T17:03:39.113Z"
   },
   {
    "duration": 66,
    "start_time": "2022-08-10T17:03:39.279Z"
   },
   {
    "duration": 1112,
    "start_time": "2022-08-10T17:03:39.347Z"
   },
   {
    "duration": 16,
    "start_time": "2022-08-10T17:03:40.461Z"
   },
   {
    "duration": 28,
    "start_time": "2022-08-10T17:03:40.479Z"
   },
   {
    "duration": 29,
    "start_time": "2022-08-10T17:03:40.508Z"
   },
   {
    "duration": 15,
    "start_time": "2022-08-10T17:03:40.539Z"
   },
   {
    "duration": 170,
    "start_time": "2022-08-10T17:03:40.556Z"
   },
   {
    "duration": 21,
    "start_time": "2022-08-10T17:03:40.728Z"
   },
   {
    "duration": 20,
    "start_time": "2022-08-10T17:03:40.751Z"
   },
   {
    "duration": 2951,
    "start_time": "2022-08-10T17:03:40.791Z"
   },
   {
    "duration": 449,
    "start_time": "2022-08-10T17:03:43.744Z"
   },
   {
    "duration": 9122,
    "start_time": "2022-08-10T17:04:04.576Z"
   },
   {
    "duration": 5,
    "start_time": "2022-08-10T17:04:25.527Z"
   },
   {
    "duration": 234,
    "start_time": "2022-08-10T17:04:32.629Z"
   },
   {
    "duration": 198,
    "start_time": "2022-08-10T17:04:39.029Z"
   },
   {
    "duration": 25,
    "start_time": "2022-08-10T17:07:33.350Z"
   },
   {
    "duration": 1285,
    "start_time": "2022-08-10T17:07:44.703Z"
   },
   {
    "duration": 929,
    "start_time": "2022-08-10T17:07:45.990Z"
   },
   {
    "duration": 146,
    "start_time": "2022-08-10T17:07:46.922Z"
   },
   {
    "duration": 40,
    "start_time": "2022-08-10T17:07:47.070Z"
   },
   {
    "duration": 3,
    "start_time": "2022-08-10T17:07:47.112Z"
   },
   {
    "duration": 59,
    "start_time": "2022-08-10T17:07:47.116Z"
   },
   {
    "duration": 93,
    "start_time": "2022-08-10T17:07:47.176Z"
   },
   {
    "duration": 148,
    "start_time": "2022-08-10T17:07:47.271Z"
   },
   {
    "duration": 124,
    "start_time": "2022-08-10T17:07:47.421Z"
   },
   {
    "duration": 165,
    "start_time": "2022-08-10T17:07:47.548Z"
   },
   {
    "duration": 62,
    "start_time": "2022-08-10T17:07:47.715Z"
   },
   {
    "duration": 1093,
    "start_time": "2022-08-10T17:07:47.779Z"
   },
   {
    "duration": 21,
    "start_time": "2022-08-10T17:07:48.874Z"
   },
   {
    "duration": 18,
    "start_time": "2022-08-10T17:07:48.897Z"
   },
   {
    "duration": 29,
    "start_time": "2022-08-10T17:07:48.916Z"
   },
   {
    "duration": 15,
    "start_time": "2022-08-10T17:07:48.947Z"
   },
   {
    "duration": 172,
    "start_time": "2022-08-10T17:07:48.964Z"
   },
   {
    "duration": 24,
    "start_time": "2022-08-10T17:07:49.138Z"
   },
   {
    "duration": 9076,
    "start_time": "2022-08-10T17:07:49.164Z"
   },
   {
    "duration": 419,
    "start_time": "2022-08-10T17:07:58.242Z"
   },
   {
    "duration": 499,
    "start_time": "2022-08-10T17:27:02.960Z"
   },
   {
    "duration": 332,
    "start_time": "2022-08-10T17:30:57.083Z"
   },
   {
    "duration": 11,
    "start_time": "2022-08-10T17:31:01.320Z"
   },
   {
    "duration": 34,
    "start_time": "2022-08-10T17:31:10.240Z"
   },
   {
    "duration": 9,
    "start_time": "2022-08-10T17:32:06.279Z"
   },
   {
    "duration": 11,
    "start_time": "2022-08-10T17:33:16.275Z"
   },
   {
    "duration": 60,
    "start_time": "2022-08-10T17:33:53.059Z"
   },
   {
    "duration": 30,
    "start_time": "2022-08-10T17:33:57.766Z"
   },
   {
    "duration": 19,
    "start_time": "2022-08-10T17:34:18.567Z"
   },
   {
    "duration": 20,
    "start_time": "2022-08-10T17:34:24.575Z"
   },
   {
    "duration": 1535,
    "start_time": "2022-08-10T17:35:51.373Z"
   },
   {
    "duration": 919,
    "start_time": "2022-08-10T17:35:52.910Z"
   },
   {
    "duration": 157,
    "start_time": "2022-08-10T17:35:53.831Z"
   },
   {
    "duration": 29,
    "start_time": "2022-08-10T17:35:53.992Z"
   },
   {
    "duration": 11,
    "start_time": "2022-08-10T17:35:54.023Z"
   },
   {
    "duration": 46,
    "start_time": "2022-08-10T17:35:54.036Z"
   },
   {
    "duration": 97,
    "start_time": "2022-08-10T17:35:54.083Z"
   },
   {
    "duration": 162,
    "start_time": "2022-08-10T17:35:54.191Z"
   },
   {
    "duration": 130,
    "start_time": "2022-08-10T17:35:54.354Z"
   },
   {
    "duration": 164,
    "start_time": "2022-08-10T17:35:54.486Z"
   },
   {
    "duration": 62,
    "start_time": "2022-08-10T17:35:54.651Z"
   },
   {
    "duration": 1071,
    "start_time": "2022-08-10T17:35:54.715Z"
   },
   {
    "duration": 16,
    "start_time": "2022-08-10T17:35:55.788Z"
   },
   {
    "duration": 17,
    "start_time": "2022-08-10T17:35:55.806Z"
   },
   {
    "duration": 27,
    "start_time": "2022-08-10T17:35:55.825Z"
   },
   {
    "duration": 48,
    "start_time": "2022-08-10T17:35:55.854Z"
   },
   {
    "duration": 236,
    "start_time": "2022-08-10T17:35:55.904Z"
   },
   {
    "duration": 24,
    "start_time": "2022-08-10T17:35:56.141Z"
   },
   {
    "duration": 9132,
    "start_time": "2022-08-10T17:35:56.167Z"
   },
   {
    "duration": 404,
    "start_time": "2022-08-10T17:36:05.301Z"
   },
   {
    "duration": 61,
    "start_time": "2022-08-10T17:36:05.707Z"
   },
   {
    "duration": 1504,
    "start_time": "2022-08-12T17:28:44.601Z"
   },
   {
    "duration": 1033,
    "start_time": "2022-08-12T17:28:46.107Z"
   },
   {
    "duration": 103,
    "start_time": "2022-08-12T17:28:47.141Z"
   },
   {
    "duration": 26,
    "start_time": "2022-08-12T17:28:47.247Z"
   },
   {
    "duration": 9,
    "start_time": "2022-08-12T17:28:47.275Z"
   },
   {
    "duration": 40,
    "start_time": "2022-08-12T17:28:47.286Z"
   },
   {
    "duration": 67,
    "start_time": "2022-08-12T17:28:47.328Z"
   },
   {
    "duration": 117,
    "start_time": "2022-08-12T17:28:47.396Z"
   },
   {
    "duration": 111,
    "start_time": "2022-08-12T17:28:47.514Z"
   },
   {
    "duration": 145,
    "start_time": "2022-08-12T17:28:47.627Z"
   },
   {
    "duration": 51,
    "start_time": "2022-08-12T17:28:47.773Z"
   },
   {
    "duration": 1023,
    "start_time": "2022-08-12T17:28:47.826Z"
   },
   {
    "duration": 15,
    "start_time": "2022-08-12T17:28:48.851Z"
   },
   {
    "duration": 16,
    "start_time": "2022-08-12T17:28:48.868Z"
   },
   {
    "duration": 24,
    "start_time": "2022-08-12T17:28:48.885Z"
   },
   {
    "duration": 13,
    "start_time": "2022-08-12T17:28:48.911Z"
   },
   {
    "duration": 225,
    "start_time": "2022-08-12T17:28:48.925Z"
   },
   {
    "duration": 26,
    "start_time": "2022-08-12T17:28:49.151Z"
   },
   {
    "duration": 8769,
    "start_time": "2022-08-12T17:28:49.178Z"
   },
   {
    "duration": 421,
    "start_time": "2022-08-12T17:28:57.949Z"
   },
   {
    "duration": 57,
    "start_time": "2022-08-12T17:28:58.371Z"
   },
   {
    "duration": 1442,
    "start_time": "2022-08-13T22:27:48.657Z"
   },
   {
    "duration": 1458,
    "start_time": "2022-08-13T22:27:50.101Z"
   },
   {
    "duration": 167,
    "start_time": "2022-08-13T22:27:51.561Z"
   },
   {
    "duration": 32,
    "start_time": "2022-08-13T22:27:51.730Z"
   },
   {
    "duration": 9,
    "start_time": "2022-08-13T22:27:51.765Z"
   },
   {
    "duration": 56,
    "start_time": "2022-08-13T22:27:51.777Z"
   },
   {
    "duration": 165,
    "start_time": "2022-08-13T22:27:51.836Z"
   },
   {
    "duration": 176,
    "start_time": "2022-08-13T22:27:52.009Z"
   },
   {
    "duration": 116,
    "start_time": "2022-08-13T22:27:52.187Z"
   },
   {
    "duration": 220,
    "start_time": "2022-08-13T22:27:52.304Z"
   },
   {
    "duration": 94,
    "start_time": "2022-08-13T22:27:52.526Z"
   },
   {
    "duration": 979,
    "start_time": "2022-08-13T22:27:52.622Z"
   },
   {
    "duration": 18,
    "start_time": "2022-08-13T22:27:53.610Z"
   },
   {
    "duration": 27,
    "start_time": "2022-08-13T22:27:53.631Z"
   },
   {
    "duration": 53,
    "start_time": "2022-08-13T22:27:53.659Z"
   },
   {
    "duration": 18,
    "start_time": "2022-08-13T22:27:53.714Z"
   },
   {
    "duration": 234,
    "start_time": "2022-08-13T22:27:53.734Z"
   },
   {
    "duration": 22,
    "start_time": "2022-08-13T22:27:53.970Z"
   },
   {
    "duration": 9075,
    "start_time": "2022-08-13T22:27:53.994Z"
   },
   {
    "duration": 504,
    "start_time": "2022-08-13T22:28:03.071Z"
   },
   {
    "duration": 91,
    "start_time": "2022-08-13T22:28:03.578Z"
   },
   {
    "duration": 55,
    "start_time": "2022-08-13T22:35:34.490Z"
   },
   {
    "duration": 3,
    "start_time": "2022-08-13T22:38:39.935Z"
   },
   {
    "duration": 2,
    "start_time": "2022-08-13T22:42:03.974Z"
   },
   {
    "duration": 116,
    "start_time": "2022-08-13T22:43:31.184Z"
   },
   {
    "duration": 3,
    "start_time": "2022-08-13T22:44:59.916Z"
   },
   {
    "duration": 10,
    "start_time": "2022-08-13T22:45:12.863Z"
   },
   {
    "duration": 16,
    "start_time": "2022-08-13T22:45:21.811Z"
   },
   {
    "duration": 3,
    "start_time": "2022-08-13T22:46:28.022Z"
   },
   {
    "duration": 30,
    "start_time": "2022-08-13T22:47:04.786Z"
   },
   {
    "duration": 3,
    "start_time": "2022-08-13T22:47:31.571Z"
   },
   {
    "duration": 17,
    "start_time": "2022-08-13T22:47:35.031Z"
   },
   {
    "duration": 15,
    "start_time": "2022-08-13T22:48:11.975Z"
   },
   {
    "duration": 29,
    "start_time": "2022-08-13T22:48:16.662Z"
   },
   {
    "duration": 3,
    "start_time": "2022-08-13T22:48:18.189Z"
   },
   {
    "duration": 3,
    "start_time": "2022-08-13T22:48:19.126Z"
   },
   {
    "duration": 4,
    "start_time": "2022-08-13T22:48:20.688Z"
   },
   {
    "duration": 22,
    "start_time": "2022-08-13T22:49:20.543Z"
   },
   {
    "duration": 3,
    "start_time": "2022-08-13T22:49:36.127Z"
   },
   {
    "duration": 5,
    "start_time": "2022-08-13T22:50:20.459Z"
   },
   {
    "duration": 4,
    "start_time": "2022-08-13T22:51:01.858Z"
   },
   {
    "duration": 24,
    "start_time": "2022-08-13T22:51:05.335Z"
   },
   {
    "duration": 22,
    "start_time": "2022-08-13T22:51:25.751Z"
   },
   {
    "duration": 5,
    "start_time": "2022-08-13T22:51:33.121Z"
   },
   {
    "duration": 5,
    "start_time": "2022-08-13T22:51:41.094Z"
   },
   {
    "duration": 7,
    "start_time": "2022-08-13T22:51:48.655Z"
   },
   {
    "duration": 3,
    "start_time": "2022-08-13T22:53:01.672Z"
   },
   {
    "duration": 980,
    "start_time": "2022-08-13T22:53:04.161Z"
   },
   {
    "duration": 3,
    "start_time": "2022-08-13T22:54:10.412Z"
   },
   {
    "duration": 10,
    "start_time": "2022-08-13T22:54:17.998Z"
   },
   {
    "duration": 965,
    "start_time": "2022-08-13T22:54:29.184Z"
   },
   {
    "duration": 4,
    "start_time": "2022-08-13T22:56:17.296Z"
   },
   {
    "duration": 3,
    "start_time": "2022-08-13T22:56:18.240Z"
   },
   {
    "duration": 3,
    "start_time": "2022-08-13T22:56:19.014Z"
   },
   {
    "duration": 1175,
    "start_time": "2022-08-13T22:56:19.554Z"
   },
   {
    "duration": 3,
    "start_time": "2022-08-13T22:57:37.759Z"
   },
   {
    "duration": 3,
    "start_time": "2022-08-13T22:57:41.385Z"
   },
   {
    "duration": 4,
    "start_time": "2022-08-13T22:57:42.102Z"
   },
   {
    "duration": 3,
    "start_time": "2022-08-13T22:57:43.328Z"
   },
   {
    "duration": 992,
    "start_time": "2022-08-13T22:57:59.671Z"
   },
   {
    "duration": 974,
    "start_time": "2022-08-13T22:58:29.825Z"
   },
   {
    "duration": 3,
    "start_time": "2022-08-13T22:59:22.766Z"
   },
   {
    "duration": 3,
    "start_time": "2022-08-13T22:59:29.821Z"
   },
   {
    "duration": 3,
    "start_time": "2022-08-13T22:59:30.518Z"
   },
   {
    "duration": 992,
    "start_time": "2022-08-13T22:59:31.475Z"
   },
   {
    "duration": 3,
    "start_time": "2022-08-13T23:00:33.863Z"
   },
   {
    "duration": 1382,
    "start_time": "2022-08-13T23:03:05.337Z"
   },
   {
    "duration": 889,
    "start_time": "2022-08-13T23:03:06.721Z"
   },
   {
    "duration": 142,
    "start_time": "2022-08-13T23:03:07.611Z"
   },
   {
    "duration": 23,
    "start_time": "2022-08-13T23:03:07.755Z"
   },
   {
    "duration": 8,
    "start_time": "2022-08-13T23:03:07.780Z"
   },
   {
    "duration": 57,
    "start_time": "2022-08-13T23:03:07.790Z"
   },
   {
    "duration": 80,
    "start_time": "2022-08-13T23:03:07.849Z"
   },
   {
    "duration": 133,
    "start_time": "2022-08-13T23:03:07.931Z"
   },
   {
    "duration": 119,
    "start_time": "2022-08-13T23:03:08.065Z"
   },
   {
    "duration": 151,
    "start_time": "2022-08-13T23:03:08.186Z"
   },
   {
    "duration": 57,
    "start_time": "2022-08-13T23:03:08.339Z"
   },
   {
    "duration": 1035,
    "start_time": "2022-08-13T23:03:08.397Z"
   },
   {
    "duration": 15,
    "start_time": "2022-08-13T23:03:09.434Z"
   },
   {
    "duration": 16,
    "start_time": "2022-08-13T23:03:09.453Z"
   },
   {
    "duration": 54,
    "start_time": "2022-08-13T23:03:09.470Z"
   },
   {
    "duration": 14,
    "start_time": "2022-08-13T23:03:09.525Z"
   },
   {
    "duration": 141,
    "start_time": "2022-08-13T23:03:09.540Z"
   },
   {
    "duration": 34,
    "start_time": "2022-08-13T23:03:09.682Z"
   },
   {
    "duration": 8591,
    "start_time": "2022-08-13T23:03:09.718Z"
   },
   {
    "duration": 355,
    "start_time": "2022-08-13T23:03:18.310Z"
   },
   {
    "duration": 68,
    "start_time": "2022-08-13T23:03:18.668Z"
   },
   {
    "duration": 1033,
    "start_time": "2022-08-13T23:03:18.738Z"
   },
   {
    "duration": 66,
    "start_time": "2022-08-13T23:04:34.496Z"
   },
   {
    "duration": 991,
    "start_time": "2022-08-13T23:04:38.047Z"
   },
   {
    "duration": 1011,
    "start_time": "2022-08-13T23:04:57.986Z"
   },
   {
    "duration": 1797,
    "start_time": "2022-08-13T23:07:21.153Z"
   },
   {
    "duration": 996,
    "start_time": "2022-08-13T23:07:54.858Z"
   },
   {
    "duration": 2,
    "start_time": "2022-08-13T23:08:03.291Z"
   },
   {
    "duration": 3,
    "start_time": "2022-08-13T23:08:11.085Z"
   },
   {
    "duration": 959,
    "start_time": "2022-08-13T23:08:16.381Z"
   },
   {
    "duration": 25,
    "start_time": "2022-08-13T23:08:30.505Z"
   },
   {
    "duration": 3,
    "start_time": "2022-08-13T23:10:58.138Z"
   },
   {
    "duration": 874,
    "start_time": "2022-08-13T23:10:58.144Z"
   },
   {
    "duration": 157,
    "start_time": "2022-08-13T23:10:59.023Z"
   },
   {
    "duration": 22,
    "start_time": "2022-08-13T23:10:59.183Z"
   },
   {
    "duration": 21,
    "start_time": "2022-08-13T23:10:59.213Z"
   },
   {
    "duration": 43,
    "start_time": "2022-08-13T23:10:59.236Z"
   },
   {
    "duration": 91,
    "start_time": "2022-08-13T23:10:59.281Z"
   },
   {
    "duration": 164,
    "start_time": "2022-08-13T23:10:59.373Z"
   },
   {
    "duration": 135,
    "start_time": "2022-08-13T23:10:59.539Z"
   },
   {
    "duration": 169,
    "start_time": "2022-08-13T23:10:59.677Z"
   },
   {
    "duration": 83,
    "start_time": "2022-08-13T23:10:59.848Z"
   },
   {
    "duration": 1025,
    "start_time": "2022-08-13T23:10:59.934Z"
   },
   {
    "duration": 15,
    "start_time": "2022-08-13T23:11:00.961Z"
   },
   {
    "duration": 52,
    "start_time": "2022-08-13T23:11:00.978Z"
   },
   {
    "duration": 55,
    "start_time": "2022-08-13T23:11:01.032Z"
   },
   {
    "duration": 19,
    "start_time": "2022-08-13T23:11:01.089Z"
   },
   {
    "duration": 145,
    "start_time": "2022-08-13T23:11:01.113Z"
   },
   {
    "duration": 22,
    "start_time": "2022-08-13T23:11:01.260Z"
   },
   {
    "duration": 8868,
    "start_time": "2022-08-13T23:11:01.284Z"
   },
   {
    "duration": 405,
    "start_time": "2022-08-13T23:11:10.154Z"
   },
   {
    "duration": 16,
    "start_time": "2022-08-13T23:12:11.477Z"
   },
   {
    "duration": 21,
    "start_time": "2022-08-13T23:12:44.831Z"
   },
   {
    "duration": 22,
    "start_time": "2022-08-13T23:13:03.343Z"
   },
   {
    "duration": 20,
    "start_time": "2022-08-13T23:13:06.928Z"
   },
   {
    "duration": 6,
    "start_time": "2022-08-13T23:13:32.382Z"
   },
   {
    "duration": 9,
    "start_time": "2022-08-13T23:13:37.632Z"
   },
   {
    "duration": 10,
    "start_time": "2022-08-13T23:13:50.982Z"
   },
   {
    "duration": 3,
    "start_time": "2022-08-13T23:13:54.248Z"
   },
   {
    "duration": 746,
    "start_time": "2022-08-13T23:13:54.252Z"
   },
   {
    "duration": 129,
    "start_time": "2022-08-13T23:13:55.000Z"
   },
   {
    "duration": 21,
    "start_time": "2022-08-13T23:13:55.132Z"
   },
   {
    "duration": 3,
    "start_time": "2022-08-13T23:13:55.155Z"
   },
   {
    "duration": 60,
    "start_time": "2022-08-13T23:13:55.160Z"
   },
   {
    "duration": 76,
    "start_time": "2022-08-13T23:13:55.222Z"
   },
   {
    "duration": 130,
    "start_time": "2022-08-13T23:13:55.301Z"
   },
   {
    "duration": 106,
    "start_time": "2022-08-13T23:13:55.433Z"
   },
   {
    "duration": 129,
    "start_time": "2022-08-13T23:13:55.542Z"
   },
   {
    "duration": 66,
    "start_time": "2022-08-13T23:13:55.672Z"
   },
   {
    "duration": 937,
    "start_time": "2022-08-13T23:13:55.740Z"
   },
   {
    "duration": 13,
    "start_time": "2022-08-13T23:13:56.679Z"
   },
   {
    "duration": 27,
    "start_time": "2022-08-13T23:13:56.694Z"
   },
   {
    "duration": 38,
    "start_time": "2022-08-13T23:13:56.723Z"
   },
   {
    "duration": 14,
    "start_time": "2022-08-13T23:13:56.762Z"
   },
   {
    "duration": 142,
    "start_time": "2022-08-13T23:13:56.777Z"
   },
   {
    "duration": 21,
    "start_time": "2022-08-13T23:13:56.921Z"
   },
   {
    "duration": 8318,
    "start_time": "2022-08-13T23:13:56.944Z"
   },
   {
    "duration": 400,
    "start_time": "2022-08-13T23:14:05.264Z"
   },
   {
    "duration": 16,
    "start_time": "2022-08-13T23:14:05.665Z"
   },
   {
    "duration": 22,
    "start_time": "2022-08-13T23:14:09.357Z"
   },
   {
    "duration": 3,
    "start_time": "2022-08-13T23:15:27.069Z"
   },
   {
    "duration": 3,
    "start_time": "2022-08-13T23:15:55.959Z"
   },
   {
    "duration": 384,
    "start_time": "2022-08-13T23:19:10.528Z"
   },
   {
    "duration": 30,
    "start_time": "2022-08-13T23:19:14.373Z"
   },
   {
    "duration": 893,
    "start_time": "2022-08-13T23:19:48.953Z"
   },
   {
    "duration": 1338,
    "start_time": "2022-08-13T23:19:58.309Z"
   },
   {
    "duration": 826,
    "start_time": "2022-08-13T23:19:59.649Z"
   },
   {
    "duration": 133,
    "start_time": "2022-08-13T23:20:00.476Z"
   },
   {
    "duration": 26,
    "start_time": "2022-08-13T23:20:00.611Z"
   },
   {
    "duration": 8,
    "start_time": "2022-08-13T23:20:00.639Z"
   },
   {
    "duration": 48,
    "start_time": "2022-08-13T23:20:00.649Z"
   },
   {
    "duration": 82,
    "start_time": "2022-08-13T23:20:00.698Z"
   },
   {
    "duration": 145,
    "start_time": "2022-08-13T23:20:00.781Z"
   },
   {
    "duration": 114,
    "start_time": "2022-08-13T23:20:00.928Z"
   },
   {
    "duration": 153,
    "start_time": "2022-08-13T23:20:01.045Z"
   },
   {
    "duration": 58,
    "start_time": "2022-08-13T23:20:01.200Z"
   },
   {
    "duration": 1091,
    "start_time": "2022-08-13T23:20:01.260Z"
   },
   {
    "duration": 14,
    "start_time": "2022-08-13T23:20:02.352Z"
   },
   {
    "duration": 16,
    "start_time": "2022-08-13T23:20:02.368Z"
   },
   {
    "duration": 46,
    "start_time": "2022-08-13T23:20:02.385Z"
   },
   {
    "duration": 12,
    "start_time": "2022-08-13T23:20:02.433Z"
   },
   {
    "duration": 132,
    "start_time": "2022-08-13T23:20:02.447Z"
   },
   {
    "duration": 29,
    "start_time": "2022-08-13T23:20:02.580Z"
   },
   {
    "duration": 8402,
    "start_time": "2022-08-13T23:20:02.611Z"
   },
   {
    "duration": 362,
    "start_time": "2022-08-13T23:20:11.015Z"
   },
   {
    "duration": 391,
    "start_time": "2022-08-13T23:20:11.378Z"
   },
   {
    "duration": 326,
    "start_time": "2022-08-13T23:20:11.771Z"
   },
   {
    "duration": 3,
    "start_time": "2022-08-13T23:20:12.099Z"
   },
   {
    "duration": 4,
    "start_time": "2022-08-13T23:20:12.109Z"
   },
   {
    "duration": 113,
    "start_time": "2022-08-13T23:20:12.114Z"
   },
   {
    "duration": 5,
    "start_time": "2022-08-13T23:20:22.231Z"
   },
   {
    "duration": 9849,
    "start_time": "2022-08-13T23:20:23.312Z"
   },
   {
    "duration": 6367,
    "start_time": "2022-08-13T23:20:42.251Z"
   },
   {
    "duration": 5492,
    "start_time": "2022-08-13T23:20:51.989Z"
   },
   {
    "duration": 10,
    "start_time": "2022-08-13T23:21:13.161Z"
   },
   {
    "duration": 4,
    "start_time": "2022-08-13T23:21:28.609Z"
   },
   {
    "duration": 4227,
    "start_time": "2022-08-13T23:21:42.159Z"
   },
   {
    "duration": 14571,
    "start_time": "2022-08-13T23:22:38.684Z"
   },
   {
    "duration": 24331,
    "start_time": "2022-08-13T23:23:53.242Z"
   },
   {
    "duration": 61,
    "start_time": "2022-08-13T23:25:06.040Z"
   },
   {
    "duration": 98,
    "start_time": "2022-08-13T23:25:13.560Z"
   },
   {
    "duration": 54,
    "start_time": "2022-08-13T23:25:25.727Z"
   },
   {
    "duration": 3,
    "start_time": "2022-08-13T23:25:42.391Z"
   },
   {
    "duration": 147828,
    "start_time": "2022-08-13T23:25:43.727Z"
   },
   {
    "duration": 2,
    "start_time": "2022-08-13T23:28:30.042Z"
   },
   {
    "duration": 112763,
    "start_time": "2022-08-13T23:28:31.106Z"
   },
   {
    "duration": 2,
    "start_time": "2022-08-13T23:31:25.591Z"
   },
   {
    "duration": 2,
    "start_time": "2022-08-13T23:31:44.455Z"
   },
   {
    "duration": 628470,
    "start_time": "2022-08-13T23:31:49.406Z"
   },
   {
    "duration": 3,
    "start_time": "2022-08-13T23:44:03.972Z"
   },
   {
    "duration": 3,
    "start_time": "2022-08-13T23:44:04.564Z"
   },
   {
    "duration": 309644,
    "start_time": "2022-08-13T23:44:07.452Z"
   },
   {
    "duration": 5,
    "start_time": "2022-08-13T23:49:40.978Z"
   },
   {
    "duration": 10,
    "start_time": "2022-08-13T23:49:44.730Z"
   },
   {
    "duration": 4,
    "start_time": "2022-08-13T23:49:47.931Z"
   },
   {
    "duration": 2,
    "start_time": "2022-08-13T23:51:25.570Z"
   },
   {
    "duration": 22453,
    "start_time": "2022-08-13T23:52:23.371Z"
   },
   {
    "duration": 36966,
    "start_time": "2022-08-13T23:52:53.812Z"
   },
   {
    "duration": 25,
    "start_time": "2022-08-13T23:58:57.057Z"
   },
   {
    "duration": 1438,
    "start_time": "2022-08-14T08:17:45.894Z"
   },
   {
    "duration": 1024,
    "start_time": "2022-08-14T08:17:47.334Z"
   },
   {
    "duration": 129,
    "start_time": "2022-08-14T08:17:48.359Z"
   },
   {
    "duration": 24,
    "start_time": "2022-08-14T08:17:48.490Z"
   },
   {
    "duration": 7,
    "start_time": "2022-08-14T08:17:48.516Z"
   },
   {
    "duration": 45,
    "start_time": "2022-08-14T08:17:48.525Z"
   },
   {
    "duration": 78,
    "start_time": "2022-08-14T08:17:48.571Z"
   },
   {
    "duration": 132,
    "start_time": "2022-08-14T08:17:48.650Z"
   },
   {
    "duration": 122,
    "start_time": "2022-08-14T08:17:48.784Z"
   },
   {
    "duration": 169,
    "start_time": "2022-08-14T08:17:48.908Z"
   },
   {
    "duration": 64,
    "start_time": "2022-08-14T08:17:49.080Z"
   },
   {
    "duration": 971,
    "start_time": "2022-08-14T08:17:49.146Z"
   },
   {
    "duration": 20,
    "start_time": "2022-08-14T08:17:50.118Z"
   },
   {
    "duration": 15,
    "start_time": "2022-08-14T08:17:50.141Z"
   },
   {
    "duration": 24,
    "start_time": "2022-08-14T08:17:50.157Z"
   },
   {
    "duration": 13,
    "start_time": "2022-08-14T08:17:50.183Z"
   },
   {
    "duration": 144,
    "start_time": "2022-08-14T08:17:50.198Z"
   },
   {
    "duration": 21,
    "start_time": "2022-08-14T08:17:50.343Z"
   },
   {
    "duration": 8009,
    "start_time": "2022-08-14T08:17:50.366Z"
   },
   {
    "duration": 426,
    "start_time": "2022-08-14T08:17:58.377Z"
   },
   {
    "duration": 410,
    "start_time": "2022-08-14T08:17:58.805Z"
   },
   {
    "duration": 306,
    "start_time": "2022-08-14T08:17:59.217Z"
   },
   {
    "duration": 3,
    "start_time": "2022-08-14T08:17:59.524Z"
   },
   {
    "duration": 10,
    "start_time": "2022-08-14T08:17:59.528Z"
   },
   {
    "duration": 294930,
    "start_time": "2022-08-14T08:17:59.539Z"
   },
   {
    "duration": 35269,
    "start_time": "2022-08-14T08:22:54.470Z"
   },
   {
    "duration": 98,
    "start_time": "2022-08-14T08:48:51.873Z"
   },
   {
    "duration": 4,
    "start_time": "2022-08-14T08:49:17.436Z"
   },
   {
    "duration": 3,
    "start_time": "2022-08-14T08:52:25.468Z"
   },
   {
    "duration": 3,
    "start_time": "2022-08-14T08:53:38.619Z"
   },
   {
    "duration": 3,
    "start_time": "2022-08-14T08:53:46.147Z"
   },
   {
    "duration": 5367,
    "start_time": "2022-08-14T08:55:31.582Z"
   },
   {
    "duration": 5938,
    "start_time": "2022-08-14T08:58:45.800Z"
   },
   {
    "duration": 3,
    "start_time": "2022-08-14T09:01:26.851Z"
   },
   {
    "duration": 9,
    "start_time": "2022-08-14T09:02:28.024Z"
   },
   {
    "duration": 12,
    "start_time": "2022-08-14T09:02:39.018Z"
   },
   {
    "duration": 4,
    "start_time": "2022-08-14T09:02:49.621Z"
   },
   {
    "duration": 5,
    "start_time": "2022-08-14T09:03:21.054Z"
   },
   {
    "duration": 5,
    "start_time": "2022-08-14T09:03:25.034Z"
   },
   {
    "duration": 6,
    "start_time": "2022-08-14T09:03:40.146Z"
   },
   {
    "duration": 8,
    "start_time": "2022-08-14T09:04:06.401Z"
   },
   {
    "duration": 5,
    "start_time": "2022-08-14T09:04:13.962Z"
   },
   {
    "duration": 5,
    "start_time": "2022-08-14T09:04:45.441Z"
   },
   {
    "duration": 7412,
    "start_time": "2022-08-14T09:04:54.849Z"
   },
   {
    "duration": 78,
    "start_time": "2022-08-14T09:05:02.262Z"
   },
   {
    "duration": 114,
    "start_time": "2022-08-14T09:11:53.624Z"
   },
   {
    "duration": 3,
    "start_time": "2022-08-14T09:11:59.829Z"
   },
   {
    "duration": 127737,
    "start_time": "2022-08-14T09:12:55.000Z"
   },
   {
    "duration": 210923,
    "start_time": "2022-08-14T09:15:07.025Z"
   },
   {
    "duration": 4620,
    "start_time": "2022-08-14T09:25:51.028Z"
   },
   {
    "duration": 5,
    "start_time": "2022-08-14T09:26:00.197Z"
   },
   {
    "duration": 6,
    "start_time": "2022-08-14T09:26:01.967Z"
   },
   {
    "duration": 5,
    "start_time": "2022-08-14T09:26:02.510Z"
   },
   {
    "duration": 51616,
    "start_time": "2022-08-14T09:27:08.668Z"
   },
   {
    "duration": 203733,
    "start_time": "2022-08-14T09:28:14.927Z"
   },
   {
    "duration": 44,
    "start_time": "2022-08-14T09:32:11.006Z"
   },
   {
    "duration": 5,
    "start_time": "2022-08-14T09:36:36.275Z"
   },
   {
    "duration": 1233,
    "start_time": "2022-08-14T09:37:31.516Z"
   },
   {
    "duration": 717,
    "start_time": "2022-08-14T09:37:32.751Z"
   },
   {
    "duration": 120,
    "start_time": "2022-08-14T09:37:33.472Z"
   },
   {
    "duration": 20,
    "start_time": "2022-08-14T09:37:33.594Z"
   },
   {
    "duration": 7,
    "start_time": "2022-08-14T09:37:33.615Z"
   },
   {
    "duration": 48,
    "start_time": "2022-08-14T09:37:33.623Z"
   },
   {
    "duration": 80,
    "start_time": "2022-08-14T09:37:33.674Z"
   },
   {
    "duration": 127,
    "start_time": "2022-08-14T09:37:33.755Z"
   },
   {
    "duration": 112,
    "start_time": "2022-08-14T09:37:33.885Z"
   },
   {
    "duration": 137,
    "start_time": "2022-08-14T09:37:33.999Z"
   },
   {
    "duration": 55,
    "start_time": "2022-08-14T09:37:34.138Z"
   },
   {
    "duration": 935,
    "start_time": "2022-08-14T09:37:34.195Z"
   },
   {
    "duration": 14,
    "start_time": "2022-08-14T09:37:35.131Z"
   },
   {
    "duration": 13,
    "start_time": "2022-08-14T09:37:35.147Z"
   },
   {
    "duration": 33,
    "start_time": "2022-08-14T09:37:35.161Z"
   },
   {
    "duration": 11,
    "start_time": "2022-08-14T09:37:35.196Z"
   },
   {
    "duration": 136,
    "start_time": "2022-08-14T09:37:35.209Z"
   },
   {
    "duration": 19,
    "start_time": "2022-08-14T09:37:35.347Z"
   },
   {
    "duration": 8032,
    "start_time": "2022-08-14T09:37:35.368Z"
   },
   {
    "duration": 371,
    "start_time": "2022-08-14T09:37:43.402Z"
   },
   {
    "duration": 392,
    "start_time": "2022-08-14T09:37:43.774Z"
   },
   {
    "duration": 323,
    "start_time": "2022-08-14T09:37:44.168Z"
   },
   {
    "duration": 296949,
    "start_time": "2022-08-14T09:37:44.493Z"
   },
   {
    "duration": 61,
    "start_time": "2022-08-14T09:42:41.443Z"
   },
   {
    "duration": 0,
    "start_time": "2022-08-14T09:42:41.506Z"
   },
   {
    "duration": 0,
    "start_time": "2022-08-14T09:42:41.507Z"
   },
   {
    "duration": 0,
    "start_time": "2022-08-14T09:42:41.509Z"
   },
   {
    "duration": 0,
    "start_time": "2022-08-14T09:42:41.509Z"
   },
   {
    "duration": 0,
    "start_time": "2022-08-14T09:42:41.510Z"
   },
   {
    "duration": 0,
    "start_time": "2022-08-14T09:42:41.511Z"
   },
   {
    "duration": 0,
    "start_time": "2022-08-14T09:42:41.512Z"
   },
   {
    "duration": 0,
    "start_time": "2022-08-14T09:42:41.514Z"
   },
   {
    "duration": 0,
    "start_time": "2022-08-14T09:42:41.515Z"
   },
   {
    "duration": 0,
    "start_time": "2022-08-14T09:42:41.538Z"
   },
   {
    "duration": 0,
    "start_time": "2022-08-14T09:42:41.539Z"
   },
   {
    "duration": 2,
    "start_time": "2022-08-14T09:43:35.833Z"
   },
   {
    "duration": 3,
    "start_time": "2022-08-14T09:43:39.104Z"
   },
   {
    "duration": 1231,
    "start_time": "2022-08-14T09:43:50.846Z"
   },
   {
    "duration": 708,
    "start_time": "2022-08-14T09:43:52.079Z"
   },
   {
    "duration": 121,
    "start_time": "2022-08-14T09:43:52.789Z"
   },
   {
    "duration": 28,
    "start_time": "2022-08-14T09:43:52.912Z"
   },
   {
    "duration": 3,
    "start_time": "2022-08-14T09:43:52.942Z"
   },
   {
    "duration": 39,
    "start_time": "2022-08-14T09:43:52.946Z"
   },
   {
    "duration": 79,
    "start_time": "2022-08-14T09:43:52.986Z"
   },
   {
    "duration": 126,
    "start_time": "2022-08-14T09:43:53.066Z"
   },
   {
    "duration": 103,
    "start_time": "2022-08-14T09:43:53.193Z"
   },
   {
    "duration": 135,
    "start_time": "2022-08-14T09:43:53.299Z"
   },
   {
    "duration": 52,
    "start_time": "2022-08-14T09:43:53.438Z"
   },
   {
    "duration": 954,
    "start_time": "2022-08-14T09:43:53.491Z"
   },
   {
    "duration": 12,
    "start_time": "2022-08-14T09:43:54.446Z"
   },
   {
    "duration": 14,
    "start_time": "2022-08-14T09:43:54.459Z"
   },
   {
    "duration": 34,
    "start_time": "2022-08-14T09:43:54.474Z"
   },
   {
    "duration": 35,
    "start_time": "2022-08-14T09:43:54.510Z"
   },
   {
    "duration": 114,
    "start_time": "2022-08-14T09:43:54.546Z"
   },
   {
    "duration": 20,
    "start_time": "2022-08-14T09:43:54.662Z"
   },
   {
    "duration": 8369,
    "start_time": "2022-08-14T09:43:54.683Z"
   },
   {
    "duration": 326,
    "start_time": "2022-08-14T09:44:03.054Z"
   },
   {
    "duration": 380,
    "start_time": "2022-08-14T09:44:03.381Z"
   },
   {
    "duration": 315,
    "start_time": "2022-08-14T09:44:03.763Z"
   },
   {
    "duration": 3,
    "start_time": "2022-08-14T09:44:04.079Z"
   },
   {
    "duration": 7,
    "start_time": "2022-08-14T09:44:04.083Z"
   },
   {
    "duration": 294861,
    "start_time": "2022-08-14T09:44:04.091Z"
   },
   {
    "duration": 34619,
    "start_time": "2022-08-14T09:48:58.954Z"
   },
   {
    "duration": 4,
    "start_time": "2022-08-14T09:49:33.575Z"
   },
   {
    "duration": 5,
    "start_time": "2022-08-14T09:49:33.582Z"
   },
   {
    "duration": 6151,
    "start_time": "2022-08-14T09:49:33.588Z"
   },
   {
    "duration": 6,
    "start_time": "2022-08-14T09:49:39.740Z"
   },
   {
    "duration": 4,
    "start_time": "2022-08-14T09:49:39.748Z"
   },
   {
    "duration": 334196,
    "start_time": "2022-08-14T09:49:39.753Z"
   },
   {
    "duration": 4701,
    "start_time": "2022-08-14T09:55:13.950Z"
   },
   {
    "duration": 6,
    "start_time": "2022-08-14T09:55:18.652Z"
   },
   {
    "duration": 102,
    "start_time": "2022-08-14T09:56:45.252Z"
   },
   {
    "duration": 5,
    "start_time": "2022-08-14T09:56:50.875Z"
   },
   {
    "duration": 6,
    "start_time": "2022-08-14T09:56:55.067Z"
   },
   {
    "duration": 5,
    "start_time": "2022-08-14T09:57:11.430Z"
   },
   {
    "duration": 5,
    "start_time": "2022-08-14T09:57:52.740Z"
   },
   {
    "duration": 1727,
    "start_time": "2022-08-14T18:00:28.628Z"
   },
   {
    "duration": 3051,
    "start_time": "2022-08-14T18:00:30.357Z"
   },
   {
    "duration": 134,
    "start_time": "2022-08-14T18:00:33.410Z"
   },
   {
    "duration": 23,
    "start_time": "2022-08-14T18:00:33.546Z"
   },
   {
    "duration": 6,
    "start_time": "2022-08-14T18:00:33.571Z"
   },
   {
    "duration": 43,
    "start_time": "2022-08-14T18:00:33.592Z"
   },
   {
    "duration": 95,
    "start_time": "2022-08-14T18:00:33.637Z"
   },
   {
    "duration": 143,
    "start_time": "2022-08-14T18:00:33.734Z"
   },
   {
    "duration": 150,
    "start_time": "2022-08-14T18:00:33.878Z"
   },
   {
    "duration": 185,
    "start_time": "2022-08-14T18:00:34.031Z"
   },
   {
    "duration": 62,
    "start_time": "2022-08-14T18:00:34.218Z"
   },
   {
    "duration": 1146,
    "start_time": "2022-08-14T18:00:34.291Z"
   },
   {
    "duration": 15,
    "start_time": "2022-08-14T18:00:35.439Z"
   },
   {
    "duration": 17,
    "start_time": "2022-08-14T18:00:35.456Z"
   },
   {
    "duration": 38,
    "start_time": "2022-08-14T18:00:35.492Z"
   },
   {
    "duration": 14,
    "start_time": "2022-08-14T18:00:35.532Z"
   },
   {
    "duration": 154,
    "start_time": "2022-08-14T18:00:35.548Z"
   },
   {
    "duration": 22,
    "start_time": "2022-08-14T18:00:35.704Z"
   },
   {
    "duration": 9145,
    "start_time": "2022-08-14T18:00:35.729Z"
   },
   {
    "duration": 435,
    "start_time": "2022-08-14T18:00:44.876Z"
   },
   {
    "duration": 472,
    "start_time": "2022-08-14T18:00:45.313Z"
   },
   {
    "duration": 336,
    "start_time": "2022-08-14T18:00:45.787Z"
   },
   {
    "duration": 3,
    "start_time": "2022-08-14T18:00:46.125Z"
   },
   {
    "duration": 8,
    "start_time": "2022-08-14T18:00:46.130Z"
   },
   {
    "duration": 338814,
    "start_time": "2022-08-14T18:00:46.140Z"
   },
   {
    "duration": 39611,
    "start_time": "2022-08-14T18:06:24.956Z"
   },
   {
    "duration": 5,
    "start_time": "2022-08-14T18:07:04.569Z"
   },
   {
    "duration": 20,
    "start_time": "2022-08-14T18:07:04.577Z"
   },
   {
    "duration": 4,
    "start_time": "2022-08-14T18:07:04.599Z"
   },
   {
    "duration": 7209,
    "start_time": "2022-08-14T18:07:04.605Z"
   },
   {
    "duration": 7,
    "start_time": "2022-08-14T18:07:11.891Z"
   },
   {
    "duration": 9,
    "start_time": "2022-08-14T18:07:11.900Z"
   },
   {
    "duration": 8,
    "start_time": "2022-08-14T18:07:11.911Z"
   },
   {
    "duration": 399875,
    "start_time": "2022-08-14T18:07:11.922Z"
   },
   {
    "duration": 6007,
    "start_time": "2022-08-14T18:13:51.799Z"
   },
   {
    "duration": 7,
    "start_time": "2022-08-14T18:13:57.807Z"
   },
   {
    "duration": 8,
    "start_time": "2022-08-14T18:13:57.815Z"
   },
   {
    "duration": 1566,
    "start_time": "2022-08-17T12:25:57.985Z"
   },
   {
    "duration": 1113,
    "start_time": "2022-08-17T12:25:59.554Z"
   },
   {
    "duration": 110,
    "start_time": "2022-08-17T12:26:00.670Z"
   },
   {
    "duration": 34,
    "start_time": "2022-08-17T12:26:00.782Z"
   },
   {
    "duration": 15,
    "start_time": "2022-08-17T12:26:00.819Z"
   },
   {
    "duration": 46,
    "start_time": "2022-08-17T12:26:00.836Z"
   },
   {
    "duration": 63,
    "start_time": "2022-08-17T12:26:05.168Z"
   },
   {
    "duration": 18,
    "start_time": "2022-08-17T12:26:13.024Z"
   },
   {
    "duration": 6,
    "start_time": "2022-08-17T12:26:33.743Z"
   },
   {
    "duration": 17,
    "start_time": "2022-08-17T12:26:39.154Z"
   },
   {
    "duration": 108,
    "start_time": "2022-08-17T12:27:29.137Z"
   },
   {
    "duration": 17,
    "start_time": "2022-08-17T12:27:32.622Z"
   },
   {
    "duration": 76,
    "start_time": "2022-08-17T12:28:44.926Z"
   },
   {
    "duration": 1387,
    "start_time": "2022-08-17T12:29:42.971Z"
   },
   {
    "duration": 762,
    "start_time": "2022-08-17T12:29:44.360Z"
   },
   {
    "duration": 107,
    "start_time": "2022-08-17T12:29:45.123Z"
   },
   {
    "duration": 24,
    "start_time": "2022-08-17T12:29:45.231Z"
   },
   {
    "duration": 9,
    "start_time": "2022-08-17T12:29:45.257Z"
   },
   {
    "duration": 55,
    "start_time": "2022-08-17T12:29:45.268Z"
   },
   {
    "duration": 65,
    "start_time": "2022-08-17T12:29:45.325Z"
   },
   {
    "duration": 18,
    "start_time": "2022-08-17T12:29:45.400Z"
   },
   {
    "duration": 116,
    "start_time": "2022-08-17T12:29:45.420Z"
   },
   {
    "duration": 90,
    "start_time": "2022-08-17T12:29:45.538Z"
   },
   {
    "duration": 177,
    "start_time": "2022-08-17T12:29:45.629Z"
   },
   {
    "duration": 266,
    "start_time": "2022-08-17T12:29:45.808Z"
   },
   {
    "duration": 66,
    "start_time": "2022-08-17T12:29:46.076Z"
   },
   {
    "duration": 986,
    "start_time": "2022-08-17T12:29:46.144Z"
   },
   {
    "duration": 16,
    "start_time": "2022-08-17T12:29:47.132Z"
   },
   {
    "duration": 20,
    "start_time": "2022-08-17T12:29:47.150Z"
   },
   {
    "duration": 18,
    "start_time": "2022-08-17T12:32:12.570Z"
   },
   {
    "duration": 17,
    "start_time": "2022-08-17T12:33:34.295Z"
   },
   {
    "duration": 45,
    "start_time": "2022-08-17T12:33:52.163Z"
   },
   {
    "duration": 20,
    "start_time": "2022-08-17T12:34:14.038Z"
   },
   {
    "duration": 84,
    "start_time": "2022-08-17T12:36:33.332Z"
   },
   {
    "duration": 83,
    "start_time": "2022-08-17T12:36:47.835Z"
   },
   {
    "duration": 27,
    "start_time": "2022-08-17T12:41:11.654Z"
   },
   {
    "duration": 26,
    "start_time": "2022-08-17T12:42:32.084Z"
   },
   {
    "duration": 41,
    "start_time": "2022-08-17T12:42:40.035Z"
   },
   {
    "duration": 29,
    "start_time": "2022-08-17T12:42:43.524Z"
   },
   {
    "duration": 29,
    "start_time": "2022-08-17T12:42:47.719Z"
   },
   {
    "duration": 26,
    "start_time": "2022-08-17T12:42:59.067Z"
   },
   {
    "duration": 25,
    "start_time": "2022-08-17T12:43:08.339Z"
   },
   {
    "duration": 20,
    "start_time": "2022-08-17T12:43:17.343Z"
   },
   {
    "duration": 20,
    "start_time": "2022-08-17T12:43:23.649Z"
   },
   {
    "duration": 20,
    "start_time": "2022-08-17T12:43:36.130Z"
   },
   {
    "duration": 20,
    "start_time": "2022-08-17T12:44:36.598Z"
   },
   {
    "duration": 69,
    "start_time": "2022-08-17T12:45:04.898Z"
   },
   {
    "duration": 20,
    "start_time": "2022-08-17T12:46:30.294Z"
   },
   {
    "duration": 20,
    "start_time": "2022-08-17T12:46:58.126Z"
   },
   {
    "duration": 22,
    "start_time": "2022-08-17T12:47:42.020Z"
   },
   {
    "duration": 23,
    "start_time": "2022-08-17T12:47:49.869Z"
   },
   {
    "duration": 16,
    "start_time": "2022-08-17T12:47:54.118Z"
   },
   {
    "duration": 106,
    "start_time": "2022-08-17T12:48:57.278Z"
   },
   {
    "duration": 36,
    "start_time": "2022-08-17T12:48:59.824Z"
   },
   {
    "duration": 71,
    "start_time": "2022-08-17T12:49:11.127Z"
   },
   {
    "duration": 61,
    "start_time": "2022-08-17T12:49:18.651Z"
   },
   {
    "duration": 1377,
    "start_time": "2022-08-17T12:51:18.841Z"
   },
   {
    "duration": 837,
    "start_time": "2022-08-17T12:51:20.220Z"
   },
   {
    "duration": 108,
    "start_time": "2022-08-17T12:51:21.058Z"
   },
   {
    "duration": 38,
    "start_time": "2022-08-17T12:51:21.169Z"
   },
   {
    "duration": 6,
    "start_time": "2022-08-17T12:51:21.210Z"
   },
   {
    "duration": 43,
    "start_time": "2022-08-17T12:51:21.218Z"
   },
   {
    "duration": 75,
    "start_time": "2022-08-17T12:51:21.263Z"
   },
   {
    "duration": 18,
    "start_time": "2022-08-17T12:51:21.339Z"
   },
   {
    "duration": 121,
    "start_time": "2022-08-17T12:51:21.359Z"
   },
   {
    "duration": 100,
    "start_time": "2022-08-17T12:51:21.483Z"
   },
   {
    "duration": 175,
    "start_time": "2022-08-17T12:51:21.585Z"
   },
   {
    "duration": 267,
    "start_time": "2022-08-17T12:51:21.761Z"
   },
   {
    "duration": 74,
    "start_time": "2022-08-17T12:51:22.030Z"
   },
   {
    "duration": 952,
    "start_time": "2022-08-17T12:51:22.106Z"
   },
   {
    "duration": 18,
    "start_time": "2022-08-17T12:51:23.060Z"
   },
   {
    "duration": 38,
    "start_time": "2022-08-17T12:51:23.079Z"
   },
   {
    "duration": 54,
    "start_time": "2022-08-17T12:51:23.118Z"
   },
   {
    "duration": 42,
    "start_time": "2022-08-17T12:51:23.173Z"
   },
   {
    "duration": 42,
    "start_time": "2022-08-17T12:51:23.217Z"
   },
   {
    "duration": 18,
    "start_time": "2022-08-17T12:51:23.261Z"
   },
   {
    "duration": 150,
    "start_time": "2022-08-17T12:51:23.299Z"
   },
   {
    "duration": 34,
    "start_time": "2022-08-17T12:51:23.451Z"
   },
   {
    "duration": 34582,
    "start_time": "2022-08-17T12:51:23.499Z"
   },
   {
    "duration": 7,
    "start_time": "2022-08-17T12:54:28.868Z"
   },
   {
    "duration": 166,
    "start_time": "2022-08-17T12:54:33.697Z"
   },
   {
    "duration": 245,
    "start_time": "2022-08-17T12:54:39.935Z"
   },
   {
    "duration": 1589,
    "start_time": "2022-08-17T13:05:41.952Z"
   },
   {
    "duration": 893,
    "start_time": "2022-08-17T13:05:43.543Z"
   },
   {
    "duration": 117,
    "start_time": "2022-08-17T13:05:44.438Z"
   },
   {
    "duration": 26,
    "start_time": "2022-08-17T13:05:44.558Z"
   },
   {
    "duration": 9,
    "start_time": "2022-08-17T13:05:44.600Z"
   },
   {
    "duration": 47,
    "start_time": "2022-08-17T13:05:44.611Z"
   },
   {
    "duration": 72,
    "start_time": "2022-08-17T13:05:44.660Z"
   },
   {
    "duration": 16,
    "start_time": "2022-08-17T13:05:44.734Z"
   },
   {
    "duration": 115,
    "start_time": "2022-08-17T13:05:44.751Z"
   },
   {
    "duration": 84,
    "start_time": "2022-08-17T13:05:44.869Z"
   },
   {
    "duration": 193,
    "start_time": "2022-08-17T13:05:44.955Z"
   },
   {
    "duration": 284,
    "start_time": "2022-08-17T13:05:45.150Z"
   },
   {
    "duration": 80,
    "start_time": "2022-08-17T13:05:45.436Z"
   },
   {
    "duration": 1041,
    "start_time": "2022-08-17T13:05:45.518Z"
   },
   {
    "duration": 17,
    "start_time": "2022-08-17T13:05:46.561Z"
   },
   {
    "duration": 42,
    "start_time": "2022-08-17T13:05:46.579Z"
   },
   {
    "duration": 55,
    "start_time": "2022-08-17T13:05:46.623Z"
   },
   {
    "duration": 39,
    "start_time": "2022-08-17T13:05:46.679Z"
   },
   {
    "duration": 42,
    "start_time": "2022-08-17T13:05:46.720Z"
   },
   {
    "duration": 19,
    "start_time": "2022-08-17T13:05:46.764Z"
   },
   {
    "duration": 178,
    "start_time": "2022-08-17T13:05:46.785Z"
   },
   {
    "duration": 37,
    "start_time": "2022-08-17T13:05:46.965Z"
   },
   {
    "duration": 37152,
    "start_time": "2022-08-17T13:05:47.008Z"
   },
   {
    "duration": 202,
    "start_time": "2022-08-17T13:06:24.162Z"
   },
   {
    "duration": 193,
    "start_time": "2022-08-17T13:10:37.684Z"
   },
   {
    "duration": 106,
    "start_time": "2022-08-17T13:11:02.674Z"
   },
   {
    "duration": 193,
    "start_time": "2022-08-17T13:11:31.814Z"
   },
   {
    "duration": 777,
    "start_time": "2022-08-17T13:11:43.301Z"
   },
   {
    "duration": 182,
    "start_time": "2022-08-17T13:12:12.496Z"
   },
   {
    "duration": 11,
    "start_time": "2022-08-17T13:12:28.726Z"
   },
   {
    "duration": 6,
    "start_time": "2022-08-17T13:12:48.644Z"
   },
   {
    "duration": 136,
    "start_time": "2022-08-17T13:12:55.812Z"
   },
   {
    "duration": 149,
    "start_time": "2022-08-17T13:13:02.764Z"
   },
   {
    "duration": 22,
    "start_time": "2022-08-17T13:13:33.352Z"
   },
   {
    "duration": 158,
    "start_time": "2022-08-17T13:13:39.954Z"
   },
   {
    "duration": 12,
    "start_time": "2022-08-17T13:14:04.536Z"
   },
   {
    "duration": 125,
    "start_time": "2022-08-17T13:14:10.124Z"
   },
   {
    "duration": 173,
    "start_time": "2022-08-17T13:14:15.304Z"
   },
   {
    "duration": 125,
    "start_time": "2022-08-17T13:14:19.835Z"
   },
   {
    "duration": 144,
    "start_time": "2022-08-17T13:14:24.196Z"
   },
   {
    "duration": 152,
    "start_time": "2022-08-17T13:14:34.262Z"
   },
   {
    "duration": 284,
    "start_time": "2022-08-17T13:14:48.284Z"
   },
   {
    "duration": 134,
    "start_time": "2022-08-17T13:16:03.763Z"
   },
   {
    "duration": 165,
    "start_time": "2022-08-17T13:16:08.320Z"
   },
   {
    "duration": 17,
    "start_time": "2022-08-17T13:17:22.987Z"
   },
   {
    "duration": 25,
    "start_time": "2022-08-17T13:19:57.303Z"
   },
   {
    "duration": 35,
    "start_time": "2022-08-17T13:20:12.873Z"
   },
   {
    "duration": 24,
    "start_time": "2022-08-17T13:20:20.035Z"
   },
   {
    "duration": 23,
    "start_time": "2022-08-17T13:20:35.937Z"
   },
   {
    "duration": 59,
    "start_time": "2022-08-17T13:21:11.667Z"
   },
   {
    "duration": 40,
    "start_time": "2022-08-17T13:21:17.402Z"
   },
   {
    "duration": 1313,
    "start_time": "2022-08-17T13:21:56.324Z"
   },
   {
    "duration": 805,
    "start_time": "2022-08-17T13:21:57.639Z"
   },
   {
    "duration": 121,
    "start_time": "2022-08-17T13:21:58.445Z"
   },
   {
    "duration": 33,
    "start_time": "2022-08-17T13:21:58.568Z"
   },
   {
    "duration": 11,
    "start_time": "2022-08-17T13:21:58.603Z"
   },
   {
    "duration": 43,
    "start_time": "2022-08-17T13:21:58.616Z"
   },
   {
    "duration": 77,
    "start_time": "2022-08-17T13:21:58.661Z"
   },
   {
    "duration": 16,
    "start_time": "2022-08-17T13:21:58.740Z"
   },
   {
    "duration": 105,
    "start_time": "2022-08-17T13:21:58.758Z"
   },
   {
    "duration": 74,
    "start_time": "2022-08-17T13:21:58.866Z"
   },
   {
    "duration": 181,
    "start_time": "2022-08-17T13:21:58.942Z"
   },
   {
    "duration": 278,
    "start_time": "2022-08-17T13:21:59.124Z"
   },
   {
    "duration": 65,
    "start_time": "2022-08-17T13:21:59.403Z"
   },
   {
    "duration": 1005,
    "start_time": "2022-08-17T13:21:59.470Z"
   },
   {
    "duration": 27,
    "start_time": "2022-08-17T13:22:00.477Z"
   },
   {
    "duration": 25,
    "start_time": "2022-08-17T13:22:00.506Z"
   },
   {
    "duration": 50,
    "start_time": "2022-08-17T13:22:00.533Z"
   },
   {
    "duration": 33,
    "start_time": "2022-08-17T13:22:00.585Z"
   },
   {
    "duration": 46,
    "start_time": "2022-08-17T13:22:00.620Z"
   },
   {
    "duration": 33,
    "start_time": "2022-08-17T13:22:00.668Z"
   },
   {
    "duration": 145,
    "start_time": "2022-08-17T13:22:00.702Z"
   },
   {
    "duration": 30,
    "start_time": "2022-08-17T13:22:00.849Z"
   },
   {
    "duration": 34589,
    "start_time": "2022-08-17T13:22:00.881Z"
   },
   {
    "duration": 17,
    "start_time": "2022-08-17T13:22:35.472Z"
   },
   {
    "duration": 154,
    "start_time": "2022-08-17T13:22:35.490Z"
   },
   {
    "duration": 39,
    "start_time": "2022-08-17T13:22:35.645Z"
   },
   {
    "duration": 369,
    "start_time": "2022-08-17T13:22:35.686Z"
   },
   {
    "duration": 18,
    "start_time": "2022-08-17T13:52:29.144Z"
   },
   {
    "duration": 880,
    "start_time": "2022-08-17T13:54:49.185Z"
   },
   {
    "duration": 29,
    "start_time": "2022-08-17T13:54:58.435Z"
   },
   {
    "duration": 46,
    "start_time": "2022-08-17T13:55:07.443Z"
   },
   {
    "duration": 15,
    "start_time": "2022-08-17T13:55:10.554Z"
   },
   {
    "duration": 3,
    "start_time": "2022-08-17T13:57:45.865Z"
   },
   {
    "duration": 388,
    "start_time": "2022-08-17T13:58:52.052Z"
   },
   {
    "duration": 15,
    "start_time": "2022-08-17T13:58:58.435Z"
   },
   {
    "duration": 37,
    "start_time": "2022-08-17T14:00:22.411Z"
   },
   {
    "duration": 44,
    "start_time": "2022-08-17T14:00:28.640Z"
   },
   {
    "duration": 15,
    "start_time": "2022-08-17T14:00:34.146Z"
   },
   {
    "duration": 6,
    "start_time": "2022-08-17T14:00:52.591Z"
   },
   {
    "duration": 12,
    "start_time": "2022-08-17T14:00:54.265Z"
   },
   {
    "duration": 15,
    "start_time": "2022-08-17T14:01:37.679Z"
   },
   {
    "duration": 15,
    "start_time": "2022-08-17T14:01:40.971Z"
   },
   {
    "duration": 14,
    "start_time": "2022-08-17T14:01:47.064Z"
   },
   {
    "duration": 17,
    "start_time": "2022-08-17T14:01:53.341Z"
   },
   {
    "duration": 10,
    "start_time": "2022-08-17T14:01:58.852Z"
   },
   {
    "duration": 17,
    "start_time": "2022-08-17T14:02:12.100Z"
   },
   {
    "duration": 14,
    "start_time": "2022-08-17T14:02:36.128Z"
   },
   {
    "duration": 14,
    "start_time": "2022-08-17T14:02:51.873Z"
   },
   {
    "duration": 28,
    "start_time": "2022-08-17T14:02:59.109Z"
   },
   {
    "duration": 15,
    "start_time": "2022-08-17T14:03:21.107Z"
   },
   {
    "duration": 14,
    "start_time": "2022-08-17T14:04:09.532Z"
   },
   {
    "duration": 1429,
    "start_time": "2022-08-17T14:07:05.535Z"
   },
   {
    "duration": 813,
    "start_time": "2022-08-17T14:07:06.966Z"
   },
   {
    "duration": 107,
    "start_time": "2022-08-17T14:07:07.781Z"
   },
   {
    "duration": 29,
    "start_time": "2022-08-17T14:07:07.890Z"
   },
   {
    "duration": 7,
    "start_time": "2022-08-17T14:07:07.921Z"
   },
   {
    "duration": 47,
    "start_time": "2022-08-17T14:07:07.929Z"
   },
   {
    "duration": 64,
    "start_time": "2022-08-17T14:07:07.978Z"
   },
   {
    "duration": 16,
    "start_time": "2022-08-17T14:07:08.043Z"
   },
   {
    "duration": 109,
    "start_time": "2022-08-17T14:07:08.061Z"
   },
   {
    "duration": 75,
    "start_time": "2022-08-17T14:07:08.173Z"
   },
   {
    "duration": 203,
    "start_time": "2022-08-17T14:07:08.250Z"
   },
   {
    "duration": 279,
    "start_time": "2022-08-17T14:07:08.454Z"
   },
   {
    "duration": 69,
    "start_time": "2022-08-17T14:07:08.735Z"
   },
   {
    "duration": 972,
    "start_time": "2022-08-17T14:07:08.806Z"
   },
   {
    "duration": 27,
    "start_time": "2022-08-17T14:07:09.780Z"
   },
   {
    "duration": 21,
    "start_time": "2022-08-17T14:07:09.808Z"
   },
   {
    "duration": 70,
    "start_time": "2022-08-17T14:07:09.830Z"
   },
   {
    "duration": 22,
    "start_time": "2022-08-17T14:07:09.902Z"
   },
   {
    "duration": 47,
    "start_time": "2022-08-17T14:07:09.925Z"
   },
   {
    "duration": 32,
    "start_time": "2022-08-17T14:07:09.974Z"
   },
   {
    "duration": 163,
    "start_time": "2022-08-17T14:07:10.009Z"
   },
   {
    "duration": 40,
    "start_time": "2022-08-17T14:07:10.174Z"
   },
   {
    "duration": 35706,
    "start_time": "2022-08-17T14:07:10.216Z"
   },
   {
    "duration": 17,
    "start_time": "2022-08-17T14:07:45.924Z"
   },
   {
    "duration": 166,
    "start_time": "2022-08-17T14:07:45.942Z"
   },
   {
    "duration": 64,
    "start_time": "2022-08-17T14:07:46.110Z"
   },
   {
    "duration": 393,
    "start_time": "2022-08-17T14:07:46.176Z"
   },
   {
    "duration": 17,
    "start_time": "2022-08-17T14:07:46.572Z"
   },
   {
    "duration": 27,
    "start_time": "2022-08-17T14:07:46.600Z"
   },
   {
    "duration": 382,
    "start_time": "2022-08-17T14:07:46.629Z"
   },
   {
    "duration": 16,
    "start_time": "2022-08-17T14:07:47.013Z"
   },
   {
    "duration": 26,
    "start_time": "2022-08-17T14:07:47.031Z"
   },
   {
    "duration": 76,
    "start_time": "2022-08-17T14:07:47.059Z"
   },
   {
    "duration": 15,
    "start_time": "2022-08-17T14:08:02.174Z"
   },
   {
    "duration": 1643,
    "start_time": "2022-08-17T21:37:06.217Z"
   },
   {
    "duration": 1187,
    "start_time": "2022-08-17T21:37:07.862Z"
   },
   {
    "duration": 139,
    "start_time": "2022-08-17T21:37:09.051Z"
   },
   {
    "duration": 30,
    "start_time": "2022-08-17T21:37:09.193Z"
   },
   {
    "duration": 6,
    "start_time": "2022-08-17T21:37:09.225Z"
   },
   {
    "duration": 41,
    "start_time": "2022-08-17T21:37:09.233Z"
   },
   {
    "duration": 88,
    "start_time": "2022-08-17T21:37:09.277Z"
   },
   {
    "duration": 20,
    "start_time": "2022-08-17T21:37:09.367Z"
   },
   {
    "duration": 104,
    "start_time": "2022-08-17T21:37:09.405Z"
   },
   {
    "duration": 92,
    "start_time": "2022-08-17T21:37:09.512Z"
   },
   {
    "duration": 189,
    "start_time": "2022-08-17T21:37:09.605Z"
   },
   {
    "duration": 285,
    "start_time": "2022-08-17T21:37:09.795Z"
   },
   {
    "duration": 72,
    "start_time": "2022-08-17T21:37:10.082Z"
   },
   {
    "duration": 1065,
    "start_time": "2022-08-17T21:37:10.156Z"
   },
   {
    "duration": 18,
    "start_time": "2022-08-17T21:37:11.224Z"
   },
   {
    "duration": 26,
    "start_time": "2022-08-17T21:37:11.243Z"
   },
   {
    "duration": 63,
    "start_time": "2022-08-17T21:37:11.271Z"
   },
   {
    "duration": 21,
    "start_time": "2022-08-17T21:37:11.336Z"
   },
   {
    "duration": 49,
    "start_time": "2022-08-17T21:37:11.358Z"
   },
   {
    "duration": 17,
    "start_time": "2022-08-17T21:37:11.409Z"
   },
   {
    "duration": 175,
    "start_time": "2022-08-17T21:37:11.428Z"
   },
   {
    "duration": 27,
    "start_time": "2022-08-17T21:37:11.604Z"
   },
   {
    "duration": 35644,
    "start_time": "2022-08-17T21:37:11.633Z"
   },
   {
    "duration": 24,
    "start_time": "2022-08-17T21:37:47.279Z"
   },
   {
    "duration": 189,
    "start_time": "2022-08-17T21:37:47.305Z"
   },
   {
    "duration": 45,
    "start_time": "2022-08-17T21:37:47.496Z"
   },
   {
    "duration": 497,
    "start_time": "2022-08-17T21:37:47.544Z"
   },
   {
    "duration": 28,
    "start_time": "2022-08-17T21:37:48.045Z"
   },
   {
    "duration": 492,
    "start_time": "2022-08-17T21:37:48.074Z"
   },
   {
    "duration": 16,
    "start_time": "2022-08-17T21:37:48.568Z"
   },
   {
    "duration": 30,
    "start_time": "2022-08-17T21:37:48.585Z"
   },
   {
    "duration": 16,
    "start_time": "2022-08-17T21:37:48.617Z"
   },
   {
    "duration": 77,
    "start_time": "2022-08-17T21:37:48.636Z"
   },
   {
    "duration": 3,
    "start_time": "2022-08-17T21:37:48.715Z"
   },
   {
    "duration": 7,
    "start_time": "2022-08-17T21:37:48.720Z"
   },
   {
    "duration": 64336,
    "start_time": "2022-08-17T21:40:48.020Z"
   },
   {
    "duration": 4,
    "start_time": "2022-08-17T21:43:45.128Z"
   },
   {
    "duration": 4,
    "start_time": "2022-08-17T21:44:04.714Z"
   },
   {
    "duration": 6821,
    "start_time": "2022-08-17T21:44:22.819Z"
   },
   {
    "duration": 6,
    "start_time": "2022-08-17T21:44:33.227Z"
   },
   {
    "duration": 5,
    "start_time": "2022-08-17T21:44:35.200Z"
   },
   {
    "duration": 5,
    "start_time": "2022-08-17T21:45:18.016Z"
   },
   {
    "duration": 4,
    "start_time": "2022-08-17T21:45:26.806Z"
   },
   {
    "duration": 62429,
    "start_time": "2022-08-17T21:45:39.112Z"
   },
   {
    "duration": 2599,
    "start_time": "2022-08-17T21:47:53.370Z"
   },
   {
    "duration": 64677,
    "start_time": "2022-08-17T21:47:59.061Z"
   },
   {
    "duration": 3,
    "start_time": "2022-08-17T21:49:41.211Z"
   },
   {
    "duration": 5737,
    "start_time": "2022-08-17T21:49:42.669Z"
   },
   {
    "duration": 6,
    "start_time": "2022-08-17T21:49:51.717Z"
   },
   {
    "duration": 5,
    "start_time": "2022-08-17T21:49:54.007Z"
   },
   {
    "duration": 3,
    "start_time": "2022-08-17T21:49:56.194Z"
   },
   {
    "duration": 301430,
    "start_time": "2022-08-17T21:49:59.312Z"
   },
   {
    "duration": 3,
    "start_time": "2022-08-17T21:55:04.460Z"
   },
   {
    "duration": 16168,
    "start_time": "2022-08-17T21:55:06.110Z"
   },
   {
    "duration": 1492,
    "start_time": "2022-08-17T21:55:27.593Z"
   },
   {
    "duration": 878,
    "start_time": "2022-08-17T21:55:29.087Z"
   },
   {
    "duration": 128,
    "start_time": "2022-08-17T21:55:29.967Z"
   },
   {
    "duration": 31,
    "start_time": "2022-08-17T21:55:30.097Z"
   },
   {
    "duration": 11,
    "start_time": "2022-08-17T21:55:30.130Z"
   },
   {
    "duration": 52,
    "start_time": "2022-08-17T21:55:30.143Z"
   },
   {
    "duration": 85,
    "start_time": "2022-08-17T21:55:30.197Z"
   },
   {
    "duration": 36,
    "start_time": "2022-08-17T21:55:30.283Z"
   },
   {
    "duration": 112,
    "start_time": "2022-08-17T21:55:30.320Z"
   },
   {
    "duration": 88,
    "start_time": "2022-08-17T21:55:30.434Z"
   },
   {
    "duration": 199,
    "start_time": "2022-08-17T21:55:30.524Z"
   },
   {
    "duration": 301,
    "start_time": "2022-08-17T21:55:30.725Z"
   },
   {
    "duration": 67,
    "start_time": "2022-08-17T21:55:31.027Z"
   },
   {
    "duration": 1145,
    "start_time": "2022-08-17T21:55:31.107Z"
   },
   {
    "duration": 17,
    "start_time": "2022-08-17T21:55:32.254Z"
   },
   {
    "duration": 41,
    "start_time": "2022-08-17T21:55:32.272Z"
   },
   {
    "duration": 57,
    "start_time": "2022-08-17T21:55:32.316Z"
   },
   {
    "duration": 40,
    "start_time": "2022-08-17T21:55:32.375Z"
   },
   {
    "duration": 43,
    "start_time": "2022-08-17T21:55:32.417Z"
   },
   {
    "duration": 18,
    "start_time": "2022-08-17T21:55:32.462Z"
   },
   {
    "duration": 170,
    "start_time": "2022-08-17T21:55:32.502Z"
   },
   {
    "duration": 39,
    "start_time": "2022-08-17T21:55:32.674Z"
   },
   {
    "duration": 37870,
    "start_time": "2022-08-17T21:55:32.715Z"
   },
   {
    "duration": 22,
    "start_time": "2022-08-17T21:56:10.587Z"
   },
   {
    "duration": 172,
    "start_time": "2022-08-17T21:56:10.611Z"
   },
   {
    "duration": 49,
    "start_time": "2022-08-17T21:56:10.785Z"
   },
   {
    "duration": 466,
    "start_time": "2022-08-17T21:56:10.836Z"
   },
   {
    "duration": 30,
    "start_time": "2022-08-17T21:56:11.307Z"
   },
   {
    "duration": 453,
    "start_time": "2022-08-17T21:56:11.339Z"
   },
   {
    "duration": 23,
    "start_time": "2022-08-17T21:56:11.794Z"
   },
   {
    "duration": 30,
    "start_time": "2022-08-17T21:56:11.819Z"
   },
   {
    "duration": 17,
    "start_time": "2022-08-17T21:56:11.851Z"
   },
   {
    "duration": 86,
    "start_time": "2022-08-17T21:56:11.869Z"
   },
   {
    "duration": 3,
    "start_time": "2022-08-17T21:56:11.957Z"
   },
   {
    "duration": 5,
    "start_time": "2022-08-17T21:56:11.962Z"
   },
   {
    "duration": 63514,
    "start_time": "2022-08-17T21:56:11.969Z"
   },
   {
    "duration": 6865,
    "start_time": "2022-08-17T21:57:15.485Z"
   },
   {
    "duration": 6,
    "start_time": "2022-08-17T21:57:22.351Z"
   },
   {
    "duration": 10,
    "start_time": "2022-08-17T21:57:22.358Z"
   },
   {
    "duration": 8,
    "start_time": "2022-08-17T21:57:22.370Z"
   },
   {
    "duration": 6238,
    "start_time": "2022-08-17T21:57:22.379Z"
   },
   {
    "duration": 6,
    "start_time": "2022-08-17T21:57:28.619Z"
   },
   {
    "duration": 5,
    "start_time": "2022-08-17T21:57:28.626Z"
   },
   {
    "duration": 70,
    "start_time": "2022-08-17T21:57:28.633Z"
   },
   {
    "duration": 424213,
    "start_time": "2022-08-17T21:57:28.705Z"
   },
   {
    "duration": 6988,
    "start_time": "2022-08-17T22:04:32.920Z"
   },
   {
    "duration": 7,
    "start_time": "2022-08-17T22:04:39.910Z"
   },
   {
    "duration": 20,
    "start_time": "2022-08-17T22:04:39.919Z"
   },
   {
    "duration": 1611,
    "start_time": "2022-08-18T20:31:33.697Z"
   },
   {
    "duration": 1199,
    "start_time": "2022-08-18T20:31:35.310Z"
   },
   {
    "duration": 113,
    "start_time": "2022-08-18T20:31:36.510Z"
   },
   {
    "duration": 26,
    "start_time": "2022-08-18T20:31:36.626Z"
   },
   {
    "duration": 5,
    "start_time": "2022-08-18T20:31:36.654Z"
   },
   {
    "duration": 58,
    "start_time": "2022-08-18T20:31:36.661Z"
   },
   {
    "duration": 96,
    "start_time": "2022-08-18T20:31:36.721Z"
   },
   {
    "duration": 19,
    "start_time": "2022-08-18T20:31:36.819Z"
   },
   {
    "duration": 129,
    "start_time": "2022-08-18T20:31:36.839Z"
   },
   {
    "duration": 86,
    "start_time": "2022-08-18T20:31:36.971Z"
   },
   {
    "duration": 184,
    "start_time": "2022-08-18T20:31:37.059Z"
   },
   {
    "duration": 261,
    "start_time": "2022-08-18T20:31:37.244Z"
   },
   {
    "duration": 63,
    "start_time": "2022-08-18T20:31:37.506Z"
   },
   {
    "duration": 987,
    "start_time": "2022-08-18T20:31:37.571Z"
   },
   {
    "duration": 15,
    "start_time": "2022-08-18T20:31:38.560Z"
   },
   {
    "duration": 33,
    "start_time": "2022-08-18T20:31:38.576Z"
   },
   {
    "duration": 34,
    "start_time": "2022-08-18T20:31:38.610Z"
   },
   {
    "duration": 54,
    "start_time": "2022-08-18T20:31:38.646Z"
   },
   {
    "duration": 32,
    "start_time": "2022-08-18T20:31:38.701Z"
   },
   {
    "duration": 15,
    "start_time": "2022-08-18T20:31:38.735Z"
   },
   {
    "duration": 161,
    "start_time": "2022-08-18T20:31:38.752Z"
   },
   {
    "duration": 24,
    "start_time": "2022-08-18T20:31:38.915Z"
   },
   {
    "duration": 34829,
    "start_time": "2022-08-18T20:31:38.941Z"
   },
   {
    "duration": 28,
    "start_time": "2022-08-18T20:32:13.772Z"
   },
   {
    "duration": 144,
    "start_time": "2022-08-18T20:32:13.801Z"
   },
   {
    "duration": 51,
    "start_time": "2022-08-18T20:32:13.947Z"
   },
   {
    "duration": 433,
    "start_time": "2022-08-18T20:32:14.003Z"
   },
   {
    "duration": 21,
    "start_time": "2022-08-18T20:32:14.439Z"
   },
   {
    "duration": 466,
    "start_time": "2022-08-18T20:32:14.462Z"
   },
   {
    "duration": 14,
    "start_time": "2022-08-18T20:32:14.930Z"
   },
   {
    "duration": 28,
    "start_time": "2022-08-18T20:32:14.946Z"
   },
   {
    "duration": 31,
    "start_time": "2022-08-18T20:32:14.976Z"
   },
   {
    "duration": 69,
    "start_time": "2022-08-18T20:32:15.009Z"
   },
   {
    "duration": 46,
    "start_time": "2022-08-18T20:32:15.080Z"
   },
   {
    "duration": 3,
    "start_time": "2022-08-18T20:32:15.127Z"
   },
   {
    "duration": 7,
    "start_time": "2022-08-18T20:32:15.131Z"
   },
   {
    "duration": 43055,
    "start_time": "2022-08-18T20:32:15.139Z"
   },
   {
    "duration": 3176,
    "start_time": "2022-08-18T20:33:42.689Z"
   },
   {
    "duration": 5,
    "start_time": "2022-08-18T20:34:06.541Z"
   },
   {
    "duration": 5,
    "start_time": "2022-08-18T20:34:07.952Z"
   },
   {
    "duration": 6,
    "start_time": "2022-08-18T20:34:16.892Z"
   },
   {
    "duration": 6502,
    "start_time": "2022-08-18T20:34:18.786Z"
   },
   {
    "duration": 6,
    "start_time": "2022-08-18T20:34:27.347Z"
   },
   {
    "duration": 5,
    "start_time": "2022-08-18T20:34:28.586Z"
   },
   {
    "duration": 3,
    "start_time": "2022-08-18T20:34:35.674Z"
   },
   {
    "duration": 222043,
    "start_time": "2022-08-18T20:34:45.749Z"
   },
   {
    "duration": 4410,
    "start_time": "2022-08-18T20:38:51.875Z"
   },
   {
    "duration": 6,
    "start_time": "2022-08-18T20:39:08.449Z"
   },
   {
    "duration": 5,
    "start_time": "2022-08-18T20:39:09.588Z"
   },
   {
    "duration": 3209,
    "start_time": "2022-08-18T20:42:40.750Z"
   },
   {
    "duration": 57,
    "start_time": "2022-08-18T20:42:47.433Z"
   },
   {
    "duration": 26547,
    "start_time": "2022-08-18T20:46:13.262Z"
   },
   {
    "duration": 496,
    "start_time": "2022-08-18T20:46:39.811Z"
   },
   {
    "duration": 5,
    "start_time": "2022-08-18T20:49:07.078Z"
   },
   {
    "duration": 5,
    "start_time": "2022-08-18T20:49:58.637Z"
   },
   {
    "duration": 338,
    "start_time": "2022-08-18T20:51:57.066Z"
   },
   {
    "duration": 5,
    "start_time": "2022-08-18T20:53:44.767Z"
   },
   {
    "duration": 6,
    "start_time": "2022-08-18T20:53:49.526Z"
   },
   {
    "duration": 41395,
    "start_time": "2022-08-18T20:55:55.097Z"
   },
   {
    "duration": 363,
    "start_time": "2022-08-18T20:57:41.635Z"
   },
   {
    "duration": 390,
    "start_time": "2022-08-18T20:58:00.416Z"
   },
   {
    "duration": 6,
    "start_time": "2022-08-18T20:58:30.504Z"
   },
   {
    "duration": 5,
    "start_time": "2022-08-18T20:59:17.375Z"
   },
   {
    "duration": 1380,
    "start_time": "2022-08-18T21:02:36.548Z"
   },
   {
    "duration": 767,
    "start_time": "2022-08-18T21:02:37.930Z"
   },
   {
    "duration": 113,
    "start_time": "2022-08-18T21:02:38.699Z"
   },
   {
    "duration": 25,
    "start_time": "2022-08-18T21:02:38.814Z"
   },
   {
    "duration": 5,
    "start_time": "2022-08-18T21:02:38.840Z"
   },
   {
    "duration": 47,
    "start_time": "2022-08-18T21:02:38.847Z"
   },
   {
    "duration": 67,
    "start_time": "2022-08-18T21:02:38.895Z"
   },
   {
    "duration": 28,
    "start_time": "2022-08-18T21:02:38.964Z"
   },
   {
    "duration": 99,
    "start_time": "2022-08-18T21:02:38.994Z"
   },
   {
    "duration": 72,
    "start_time": "2022-08-18T21:02:39.096Z"
   },
   {
    "duration": 171,
    "start_time": "2022-08-18T21:02:39.169Z"
   },
   {
    "duration": 277,
    "start_time": "2022-08-18T21:02:39.342Z"
   },
   {
    "duration": 74,
    "start_time": "2022-08-18T21:02:39.621Z"
   },
   {
    "duration": 1010,
    "start_time": "2022-08-18T21:02:39.697Z"
   },
   {
    "duration": 21,
    "start_time": "2022-08-18T21:02:40.709Z"
   },
   {
    "duration": 23,
    "start_time": "2022-08-18T21:02:40.732Z"
   },
   {
    "duration": 60,
    "start_time": "2022-08-18T21:02:40.757Z"
   },
   {
    "duration": 18,
    "start_time": "2022-08-18T21:02:40.818Z"
   },
   {
    "duration": 47,
    "start_time": "2022-08-18T21:02:40.838Z"
   },
   {
    "duration": 16,
    "start_time": "2022-08-18T21:02:40.887Z"
   },
   {
    "duration": 158,
    "start_time": "2022-08-18T21:02:40.905Z"
   },
   {
    "duration": 27,
    "start_time": "2022-08-18T21:02:41.065Z"
   },
   {
    "duration": 34683,
    "start_time": "2022-08-18T21:02:41.094Z"
   },
   {
    "duration": 15,
    "start_time": "2022-08-18T21:03:15.779Z"
   },
   {
    "duration": 148,
    "start_time": "2022-08-18T21:03:15.795Z"
   },
   {
    "duration": 40,
    "start_time": "2022-08-18T21:03:15.945Z"
   },
   {
    "duration": 356,
    "start_time": "2022-08-18T21:03:15.987Z"
   },
   {
    "duration": 27,
    "start_time": "2022-08-18T21:03:16.346Z"
   },
   {
    "duration": 358,
    "start_time": "2022-08-18T21:03:16.385Z"
   },
   {
    "duration": 13,
    "start_time": "2022-08-18T21:03:16.744Z"
   },
   {
    "duration": 25,
    "start_time": "2022-08-18T21:03:16.759Z"
   },
   {
    "duration": 18,
    "start_time": "2022-08-18T21:03:16.786Z"
   },
   {
    "duration": 56,
    "start_time": "2022-08-18T21:03:16.806Z"
   },
   {
    "duration": 45,
    "start_time": "2022-08-18T21:03:16.864Z"
   },
   {
    "duration": 3,
    "start_time": "2022-08-18T21:03:16.910Z"
   },
   {
    "duration": 12,
    "start_time": "2022-08-18T21:03:16.914Z"
   },
   {
    "duration": 40611,
    "start_time": "2022-08-18T21:03:16.927Z"
   },
   {
    "duration": 3135,
    "start_time": "2022-08-18T21:03:57.540Z"
   },
   {
    "duration": 8,
    "start_time": "2022-08-18T21:04:00.677Z"
   },
   {
    "duration": 16,
    "start_time": "2022-08-18T21:04:00.686Z"
   },
   {
    "duration": 24,
    "start_time": "2022-08-18T21:04:00.703Z"
   },
   {
    "duration": 4680,
    "start_time": "2022-08-18T21:04:00.729Z"
   },
   {
    "duration": 6,
    "start_time": "2022-08-18T21:04:05.485Z"
   },
   {
    "duration": 18,
    "start_time": "2022-08-18T21:04:05.492Z"
   },
   {
    "duration": 15,
    "start_time": "2022-08-18T21:04:05.511Z"
   },
   {
    "duration": 262871,
    "start_time": "2022-08-18T21:04:05.527Z"
   },
   {
    "duration": 5688,
    "start_time": "2022-08-18T21:08:28.400Z"
   },
   {
    "duration": 5,
    "start_time": "2022-08-18T21:08:34.090Z"
   },
   {
    "duration": 7,
    "start_time": "2022-08-18T21:08:34.096Z"
   },
   {
    "duration": 3217,
    "start_time": "2022-08-18T21:08:34.104Z"
   },
   {
    "duration": 64,
    "start_time": "2022-08-18T21:08:37.323Z"
   },
   {
    "duration": 5,
    "start_time": "2022-08-18T21:08:37.388Z"
   },
   {
    "duration": 8,
    "start_time": "2022-08-18T21:08:37.395Z"
   },
   {
    "duration": 3891,
    "start_time": "2022-08-18T21:08:37.405Z"
   },
   {
    "duration": 495,
    "start_time": "2022-08-18T21:08:41.298Z"
   },
   {
    "duration": 5,
    "start_time": "2022-08-18T21:08:41.794Z"
   },
   {
    "duration": 13,
    "start_time": "2022-08-18T21:08:41.800Z"
   },
   {
    "duration": 5882,
    "start_time": "2022-08-18T21:08:41.815Z"
   },
   {
    "duration": 495,
    "start_time": "2022-08-18T21:08:47.698Z"
   },
   {
    "duration": 5,
    "start_time": "2022-08-18T21:08:48.194Z"
   },
   {
    "duration": 7,
    "start_time": "2022-08-18T21:08:48.200Z"
   },
   {
    "duration": 396,
    "start_time": "2022-08-18T21:17:06.308Z"
   },
   {
    "duration": 5,
    "start_time": "2022-08-18T21:17:42.038Z"
   },
   {
    "duration": 6,
    "start_time": "2022-08-18T21:18:13.758Z"
   }
  ],
  "kernelspec": {
   "display_name": "Python 3 (ipykernel)",
   "language": "python",
   "name": "python3"
  },
  "language_info": {
   "codemirror_mode": {
    "name": "ipython",
    "version": 3
   },
   "file_extension": ".py",
   "mimetype": "text/x-python",
   "name": "python",
   "nbconvert_exporter": "python",
   "pygments_lexer": "ipython3",
   "version": "3.9.7"
  },
  "toc": {
   "base_numbering": 1,
   "nav_menu": {},
   "number_sections": true,
   "sideBar": true,
   "skip_h1_title": true,
   "title_cell": "Table of Contents",
   "title_sidebar": "Contents",
   "toc_cell": false,
   "toc_position": {
    "height": "calc(100% - 180px)",
    "left": "10px",
    "top": "150px",
    "width": "229px"
   },
   "toc_section_display": true,
   "toc_window_display": true
  }
 },
 "nbformat": 4,
 "nbformat_minor": 2
}
