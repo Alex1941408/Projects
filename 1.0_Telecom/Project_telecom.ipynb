{
 "cells": [
  {
   "cell_type": "markdown",
   "id": "fe1b9952",
   "metadata": {},
   "source": [
    "# Исследовательский анализ данных"
   ]
  },
  {
   "cell_type": "markdown",
   "id": "065a0d66",
   "metadata": {},
   "source": [
    "## 1. Предобработка данных"
   ]
  },
  {
   "cell_type": "markdown",
   "id": "21166eb4",
   "metadata": {},
   "source": [
    "Импортируем необходимые библиотеки:"
   ]
  },
  {
   "cell_type": "code",
   "execution_count": 1,
   "id": "dfdcea3c",
   "metadata": {},
   "outputs": [],
   "source": [
    "import pandas as pd\n",
    "import matplotlib.pyplot as plt\n",
    "import seaborn as sns"
   ]
  },
  {
   "cell_type": "markdown",
   "id": "1bc093f1",
   "metadata": {},
   "source": [
    "Откроем таблицы с данными:"
   ]
  },
  {
   "cell_type": "code",
   "execution_count": 2,
   "id": "26195cde",
   "metadata": {},
   "outputs": [],
   "source": [
    "df_contract = pd.read_csv('/datasets/final_provider/contract.csv')\n",
    "df_contract.name = 'contract'\n",
    "df_internet = pd.read_csv('/datasets/final_provider/internet.csv')\n",
    "df_internet.name = 'internet'\n",
    "df_personal = pd.read_csv('/datasets/final_provider/personal.csv')\n",
    "df_personal.name = 'personal'\n",
    "df_phone = pd.read_csv('/datasets/final_provider/phone.csv')\n",
    "df_phone.name = 'phone'\n",
    "list_df = [df_contract, df_internet, df_personal, df_phone]"
   ]
  },
  {
   "cell_type": "code",
   "execution_count": 3,
   "id": "ce2182b4",
   "metadata": {},
   "outputs": [
    {
     "data": {
      "text/html": [
       "<div>\n",
       "<style scoped>\n",
       "    .dataframe tbody tr th:only-of-type {\n",
       "        vertical-align: middle;\n",
       "    }\n",
       "\n",
       "    .dataframe tbody tr th {\n",
       "        vertical-align: top;\n",
       "    }\n",
       "\n",
       "    .dataframe thead th {\n",
       "        text-align: right;\n",
       "    }\n",
       "</style>\n",
       "<table border=\"1\" class=\"dataframe\">\n",
       "  <thead>\n",
       "    <tr style=\"text-align: right;\">\n",
       "      <th></th>\n",
       "      <th>customerID</th>\n",
       "      <th>BeginDate</th>\n",
       "      <th>EndDate</th>\n",
       "      <th>Type</th>\n",
       "      <th>PaperlessBilling</th>\n",
       "      <th>PaymentMethod</th>\n",
       "      <th>MonthlyCharges</th>\n",
       "      <th>TotalCharges</th>\n",
       "    </tr>\n",
       "  </thead>\n",
       "  <tbody>\n",
       "    <tr>\n",
       "      <th>0</th>\n",
       "      <td>7590-VHVEG</td>\n",
       "      <td>2020-01-01</td>\n",
       "      <td>No</td>\n",
       "      <td>Month-to-month</td>\n",
       "      <td>Yes</td>\n",
       "      <td>Electronic check</td>\n",
       "      <td>29.85</td>\n",
       "      <td>29.85</td>\n",
       "    </tr>\n",
       "    <tr>\n",
       "      <th>1</th>\n",
       "      <td>5575-GNVDE</td>\n",
       "      <td>2017-04-01</td>\n",
       "      <td>No</td>\n",
       "      <td>One year</td>\n",
       "      <td>No</td>\n",
       "      <td>Mailed check</td>\n",
       "      <td>56.95</td>\n",
       "      <td>1889.5</td>\n",
       "    </tr>\n",
       "    <tr>\n",
       "      <th>2</th>\n",
       "      <td>3668-QPYBK</td>\n",
       "      <td>2019-10-01</td>\n",
       "      <td>2019-12-01 00:00:00</td>\n",
       "      <td>Month-to-month</td>\n",
       "      <td>Yes</td>\n",
       "      <td>Mailed check</td>\n",
       "      <td>53.85</td>\n",
       "      <td>108.15</td>\n",
       "    </tr>\n",
       "    <tr>\n",
       "      <th>3</th>\n",
       "      <td>7795-CFOCW</td>\n",
       "      <td>2016-05-01</td>\n",
       "      <td>No</td>\n",
       "      <td>One year</td>\n",
       "      <td>No</td>\n",
       "      <td>Bank transfer (automatic)</td>\n",
       "      <td>42.30</td>\n",
       "      <td>1840.75</td>\n",
       "    </tr>\n",
       "    <tr>\n",
       "      <th>4</th>\n",
       "      <td>9237-HQITU</td>\n",
       "      <td>2019-09-01</td>\n",
       "      <td>2019-11-01 00:00:00</td>\n",
       "      <td>Month-to-month</td>\n",
       "      <td>Yes</td>\n",
       "      <td>Electronic check</td>\n",
       "      <td>70.70</td>\n",
       "      <td>151.65</td>\n",
       "    </tr>\n",
       "  </tbody>\n",
       "</table>\n",
       "</div>"
      ],
      "text/plain": [
       "   customerID   BeginDate              EndDate            Type  \\\n",
       "0  7590-VHVEG  2020-01-01                   No  Month-to-month   \n",
       "1  5575-GNVDE  2017-04-01                   No        One year   \n",
       "2  3668-QPYBK  2019-10-01  2019-12-01 00:00:00  Month-to-month   \n",
       "3  7795-CFOCW  2016-05-01                   No        One year   \n",
       "4  9237-HQITU  2019-09-01  2019-11-01 00:00:00  Month-to-month   \n",
       "\n",
       "  PaperlessBilling              PaymentMethod  MonthlyCharges TotalCharges  \n",
       "0              Yes           Electronic check           29.85        29.85  \n",
       "1               No               Mailed check           56.95       1889.5  \n",
       "2              Yes               Mailed check           53.85       108.15  \n",
       "3               No  Bank transfer (automatic)           42.30      1840.75  \n",
       "4              Yes           Electronic check           70.70       151.65  "
      ]
     },
     "execution_count": 3,
     "metadata": {},
     "output_type": "execute_result"
    }
   ],
   "source": [
    "df_contract.head()"
   ]
  },
  {
   "cell_type": "code",
   "execution_count": 4,
   "id": "2247a148",
   "metadata": {},
   "outputs": [
    {
     "data": {
      "text/html": [
       "<div>\n",
       "<style scoped>\n",
       "    .dataframe tbody tr th:only-of-type {\n",
       "        vertical-align: middle;\n",
       "    }\n",
       "\n",
       "    .dataframe tbody tr th {\n",
       "        vertical-align: top;\n",
       "    }\n",
       "\n",
       "    .dataframe thead th {\n",
       "        text-align: right;\n",
       "    }\n",
       "</style>\n",
       "<table border=\"1\" class=\"dataframe\">\n",
       "  <thead>\n",
       "    <tr style=\"text-align: right;\">\n",
       "      <th></th>\n",
       "      <th>customerID</th>\n",
       "      <th>InternetService</th>\n",
       "      <th>OnlineSecurity</th>\n",
       "      <th>OnlineBackup</th>\n",
       "      <th>DeviceProtection</th>\n",
       "      <th>TechSupport</th>\n",
       "      <th>StreamingTV</th>\n",
       "      <th>StreamingMovies</th>\n",
       "    </tr>\n",
       "  </thead>\n",
       "  <tbody>\n",
       "    <tr>\n",
       "      <th>0</th>\n",
       "      <td>7590-VHVEG</td>\n",
       "      <td>DSL</td>\n",
       "      <td>No</td>\n",
       "      <td>Yes</td>\n",
       "      <td>No</td>\n",
       "      <td>No</td>\n",
       "      <td>No</td>\n",
       "      <td>No</td>\n",
       "    </tr>\n",
       "    <tr>\n",
       "      <th>1</th>\n",
       "      <td>5575-GNVDE</td>\n",
       "      <td>DSL</td>\n",
       "      <td>Yes</td>\n",
       "      <td>No</td>\n",
       "      <td>Yes</td>\n",
       "      <td>No</td>\n",
       "      <td>No</td>\n",
       "      <td>No</td>\n",
       "    </tr>\n",
       "    <tr>\n",
       "      <th>2</th>\n",
       "      <td>3668-QPYBK</td>\n",
       "      <td>DSL</td>\n",
       "      <td>Yes</td>\n",
       "      <td>Yes</td>\n",
       "      <td>No</td>\n",
       "      <td>No</td>\n",
       "      <td>No</td>\n",
       "      <td>No</td>\n",
       "    </tr>\n",
       "    <tr>\n",
       "      <th>3</th>\n",
       "      <td>7795-CFOCW</td>\n",
       "      <td>DSL</td>\n",
       "      <td>Yes</td>\n",
       "      <td>No</td>\n",
       "      <td>Yes</td>\n",
       "      <td>Yes</td>\n",
       "      <td>No</td>\n",
       "      <td>No</td>\n",
       "    </tr>\n",
       "    <tr>\n",
       "      <th>4</th>\n",
       "      <td>9237-HQITU</td>\n",
       "      <td>Fiber optic</td>\n",
       "      <td>No</td>\n",
       "      <td>No</td>\n",
       "      <td>No</td>\n",
       "      <td>No</td>\n",
       "      <td>No</td>\n",
       "      <td>No</td>\n",
       "    </tr>\n",
       "  </tbody>\n",
       "</table>\n",
       "</div>"
      ],
      "text/plain": [
       "   customerID InternetService OnlineSecurity OnlineBackup DeviceProtection  \\\n",
       "0  7590-VHVEG             DSL             No          Yes               No   \n",
       "1  5575-GNVDE             DSL            Yes           No              Yes   \n",
       "2  3668-QPYBK             DSL            Yes          Yes               No   \n",
       "3  7795-CFOCW             DSL            Yes           No              Yes   \n",
       "4  9237-HQITU     Fiber optic             No           No               No   \n",
       "\n",
       "  TechSupport StreamingTV StreamingMovies  \n",
       "0          No          No              No  \n",
       "1          No          No              No  \n",
       "2          No          No              No  \n",
       "3         Yes          No              No  \n",
       "4          No          No              No  "
      ]
     },
     "execution_count": 4,
     "metadata": {},
     "output_type": "execute_result"
    }
   ],
   "source": [
    "df_internet.head()"
   ]
  },
  {
   "cell_type": "code",
   "execution_count": 5,
   "id": "2fdaf3ba",
   "metadata": {},
   "outputs": [
    {
     "data": {
      "text/html": [
       "<div>\n",
       "<style scoped>\n",
       "    .dataframe tbody tr th:only-of-type {\n",
       "        vertical-align: middle;\n",
       "    }\n",
       "\n",
       "    .dataframe tbody tr th {\n",
       "        vertical-align: top;\n",
       "    }\n",
       "\n",
       "    .dataframe thead th {\n",
       "        text-align: right;\n",
       "    }\n",
       "</style>\n",
       "<table border=\"1\" class=\"dataframe\">\n",
       "  <thead>\n",
       "    <tr style=\"text-align: right;\">\n",
       "      <th></th>\n",
       "      <th>customerID</th>\n",
       "      <th>gender</th>\n",
       "      <th>SeniorCitizen</th>\n",
       "      <th>Partner</th>\n",
       "      <th>Dependents</th>\n",
       "    </tr>\n",
       "  </thead>\n",
       "  <tbody>\n",
       "    <tr>\n",
       "      <th>0</th>\n",
       "      <td>7590-VHVEG</td>\n",
       "      <td>Female</td>\n",
       "      <td>0</td>\n",
       "      <td>Yes</td>\n",
       "      <td>No</td>\n",
       "    </tr>\n",
       "    <tr>\n",
       "      <th>1</th>\n",
       "      <td>5575-GNVDE</td>\n",
       "      <td>Male</td>\n",
       "      <td>0</td>\n",
       "      <td>No</td>\n",
       "      <td>No</td>\n",
       "    </tr>\n",
       "    <tr>\n",
       "      <th>2</th>\n",
       "      <td>3668-QPYBK</td>\n",
       "      <td>Male</td>\n",
       "      <td>0</td>\n",
       "      <td>No</td>\n",
       "      <td>No</td>\n",
       "    </tr>\n",
       "    <tr>\n",
       "      <th>3</th>\n",
       "      <td>7795-CFOCW</td>\n",
       "      <td>Male</td>\n",
       "      <td>0</td>\n",
       "      <td>No</td>\n",
       "      <td>No</td>\n",
       "    </tr>\n",
       "    <tr>\n",
       "      <th>4</th>\n",
       "      <td>9237-HQITU</td>\n",
       "      <td>Female</td>\n",
       "      <td>0</td>\n",
       "      <td>No</td>\n",
       "      <td>No</td>\n",
       "    </tr>\n",
       "  </tbody>\n",
       "</table>\n",
       "</div>"
      ],
      "text/plain": [
       "   customerID  gender  SeniorCitizen Partner Dependents\n",
       "0  7590-VHVEG  Female              0     Yes         No\n",
       "1  5575-GNVDE    Male              0      No         No\n",
       "2  3668-QPYBK    Male              0      No         No\n",
       "3  7795-CFOCW    Male              0      No         No\n",
       "4  9237-HQITU  Female              0      No         No"
      ]
     },
     "execution_count": 5,
     "metadata": {},
     "output_type": "execute_result"
    }
   ],
   "source": [
    "df_personal.head()"
   ]
  },
  {
   "cell_type": "code",
   "execution_count": 6,
   "id": "5cb7e42e",
   "metadata": {},
   "outputs": [
    {
     "data": {
      "text/html": [
       "<div>\n",
       "<style scoped>\n",
       "    .dataframe tbody tr th:only-of-type {\n",
       "        vertical-align: middle;\n",
       "    }\n",
       "\n",
       "    .dataframe tbody tr th {\n",
       "        vertical-align: top;\n",
       "    }\n",
       "\n",
       "    .dataframe thead th {\n",
       "        text-align: right;\n",
       "    }\n",
       "</style>\n",
       "<table border=\"1\" class=\"dataframe\">\n",
       "  <thead>\n",
       "    <tr style=\"text-align: right;\">\n",
       "      <th></th>\n",
       "      <th>customerID</th>\n",
       "      <th>MultipleLines</th>\n",
       "    </tr>\n",
       "  </thead>\n",
       "  <tbody>\n",
       "    <tr>\n",
       "      <th>0</th>\n",
       "      <td>5575-GNVDE</td>\n",
       "      <td>No</td>\n",
       "    </tr>\n",
       "    <tr>\n",
       "      <th>1</th>\n",
       "      <td>3668-QPYBK</td>\n",
       "      <td>No</td>\n",
       "    </tr>\n",
       "    <tr>\n",
       "      <th>2</th>\n",
       "      <td>9237-HQITU</td>\n",
       "      <td>No</td>\n",
       "    </tr>\n",
       "    <tr>\n",
       "      <th>3</th>\n",
       "      <td>9305-CDSKC</td>\n",
       "      <td>Yes</td>\n",
       "    </tr>\n",
       "    <tr>\n",
       "      <th>4</th>\n",
       "      <td>1452-KIOVK</td>\n",
       "      <td>Yes</td>\n",
       "    </tr>\n",
       "  </tbody>\n",
       "</table>\n",
       "</div>"
      ],
      "text/plain": [
       "   customerID MultipleLines\n",
       "0  5575-GNVDE            No\n",
       "1  3668-QPYBK            No\n",
       "2  9237-HQITU            No\n",
       "3  9305-CDSKC           Yes\n",
       "4  1452-KIOVK           Yes"
      ]
     },
     "execution_count": 6,
     "metadata": {},
     "output_type": "execute_result"
    }
   ],
   "source": [
    "df_phone.head()"
   ]
  },
  {
   "cell_type": "markdown",
   "id": "d8f3f882",
   "metadata": {},
   "source": [
    "Создадим функцию, делающую проверку на верный тип данных, проверку на пропуски, дубликаты"
   ]
  },
  {
   "cell_type": "code",
   "execution_count": 7,
   "id": "d614b733",
   "metadata": {},
   "outputs": [],
   "source": [
    "def analysis(data):\n",
    "    \n",
    "    print('Таблица ' + str(data.name) + '\\n' + '---------------------------------')\n",
    "    print(data.info(), '\\n' + '---------------------------------')\n",
    "    print('Количество пропусков: ' + '\\n')\n",
    "    print(data.isna().sum())\n",
    "    print('---------------------------------' + '\\n' + 'Количество дубликатов: ', df_contract.customerID.duplicated().sum())\n",
    "    print('---------------------------------' + '\\n') "
   ]
  },
  {
   "cell_type": "code",
   "execution_count": 8,
   "id": "da097209",
   "metadata": {
    "scrolled": false
   },
   "outputs": [
    {
     "name": "stdout",
     "output_type": "stream",
     "text": [
      "Таблица contract\n",
      "---------------------------------\n",
      "<class 'pandas.core.frame.DataFrame'>\n",
      "RangeIndex: 7043 entries, 0 to 7042\n",
      "Data columns (total 8 columns):\n",
      " #   Column            Non-Null Count  Dtype  \n",
      "---  ------            --------------  -----  \n",
      " 0   customerID        7043 non-null   object \n",
      " 1   BeginDate         7043 non-null   object \n",
      " 2   EndDate           7043 non-null   object \n",
      " 3   Type              7043 non-null   object \n",
      " 4   PaperlessBilling  7043 non-null   object \n",
      " 5   PaymentMethod     7043 non-null   object \n",
      " 6   MonthlyCharges    7043 non-null   float64\n",
      " 7   TotalCharges      7043 non-null   object \n",
      "dtypes: float64(1), object(7)\n",
      "memory usage: 440.3+ KB\n",
      "None \n",
      "---------------------------------\n",
      "Количество пропусков: \n",
      "\n",
      "customerID          0\n",
      "BeginDate           0\n",
      "EndDate             0\n",
      "Type                0\n",
      "PaperlessBilling    0\n",
      "PaymentMethod       0\n",
      "MonthlyCharges      0\n",
      "TotalCharges        0\n",
      "dtype: int64\n",
      "---------------------------------\n",
      "Количество дубликатов:  0\n",
      "---------------------------------\n",
      "\n",
      "Таблица internet\n",
      "---------------------------------\n",
      "<class 'pandas.core.frame.DataFrame'>\n",
      "RangeIndex: 5517 entries, 0 to 5516\n",
      "Data columns (total 8 columns):\n",
      " #   Column            Non-Null Count  Dtype \n",
      "---  ------            --------------  ----- \n",
      " 0   customerID        5517 non-null   object\n",
      " 1   InternetService   5517 non-null   object\n",
      " 2   OnlineSecurity    5517 non-null   object\n",
      " 3   OnlineBackup      5517 non-null   object\n",
      " 4   DeviceProtection  5517 non-null   object\n",
      " 5   TechSupport       5517 non-null   object\n",
      " 6   StreamingTV       5517 non-null   object\n",
      " 7   StreamingMovies   5517 non-null   object\n",
      "dtypes: object(8)\n",
      "memory usage: 344.9+ KB\n",
      "None \n",
      "---------------------------------\n",
      "Количество пропусков: \n",
      "\n",
      "customerID          0\n",
      "InternetService     0\n",
      "OnlineSecurity      0\n",
      "OnlineBackup        0\n",
      "DeviceProtection    0\n",
      "TechSupport         0\n",
      "StreamingTV         0\n",
      "StreamingMovies     0\n",
      "dtype: int64\n",
      "---------------------------------\n",
      "Количество дубликатов:  0\n",
      "---------------------------------\n",
      "\n",
      "Таблица personal\n",
      "---------------------------------\n",
      "<class 'pandas.core.frame.DataFrame'>\n",
      "RangeIndex: 7043 entries, 0 to 7042\n",
      "Data columns (total 5 columns):\n",
      " #   Column         Non-Null Count  Dtype \n",
      "---  ------         --------------  ----- \n",
      " 0   customerID     7043 non-null   object\n",
      " 1   gender         7043 non-null   object\n",
      " 2   SeniorCitizen  7043 non-null   int64 \n",
      " 3   Partner        7043 non-null   object\n",
      " 4   Dependents     7043 non-null   object\n",
      "dtypes: int64(1), object(4)\n",
      "memory usage: 275.2+ KB\n",
      "None \n",
      "---------------------------------\n",
      "Количество пропусков: \n",
      "\n",
      "customerID       0\n",
      "gender           0\n",
      "SeniorCitizen    0\n",
      "Partner          0\n",
      "Dependents       0\n",
      "dtype: int64\n",
      "---------------------------------\n",
      "Количество дубликатов:  0\n",
      "---------------------------------\n",
      "\n",
      "Таблица phone\n",
      "---------------------------------\n",
      "<class 'pandas.core.frame.DataFrame'>\n",
      "RangeIndex: 6361 entries, 0 to 6360\n",
      "Data columns (total 2 columns):\n",
      " #   Column         Non-Null Count  Dtype \n",
      "---  ------         --------------  ----- \n",
      " 0   customerID     6361 non-null   object\n",
      " 1   MultipleLines  6361 non-null   object\n",
      "dtypes: object(2)\n",
      "memory usage: 99.5+ KB\n",
      "None \n",
      "---------------------------------\n",
      "Количество пропусков: \n",
      "\n",
      "customerID       0\n",
      "MultipleLines    0\n",
      "dtype: int64\n",
      "---------------------------------\n",
      "Количество дубликатов:  0\n",
      "---------------------------------\n",
      "\n"
     ]
    }
   ],
   "source": [
    "for value in list_df:\n",
    "    analysis(value)"
   ]
  },
  {
   "cell_type": "markdown",
   "id": "96ad1ea9",
   "metadata": {},
   "source": [
    "Из полученного результата следует, что во всех таблицах пропуски и дубликаты отсутствуют, неверный тип данных только в таблице `contract` у столбцов `BeginDate` и `EndDate` Однако в столбце `EndDate` может быть помимо даты и строка `No`. Поэтому сделаем замену на верный тип данных только в столбце `BeginDate`:"
   ]
  },
  {
   "cell_type": "code",
   "execution_count": 9,
   "id": "d93a412b",
   "metadata": {},
   "outputs": [
    {
     "name": "stdout",
     "output_type": "stream",
     "text": [
      "<class 'pandas.core.frame.DataFrame'>\n",
      "RangeIndex: 7043 entries, 0 to 7042\n",
      "Data columns (total 8 columns):\n",
      " #   Column            Non-Null Count  Dtype         \n",
      "---  ------            --------------  -----         \n",
      " 0   customerID        7043 non-null   object        \n",
      " 1   BeginDate         7043 non-null   datetime64[ns]\n",
      " 2   EndDate           7043 non-null   object        \n",
      " 3   Type              7043 non-null   object        \n",
      " 4   PaperlessBilling  7043 non-null   object        \n",
      " 5   PaymentMethod     7043 non-null   object        \n",
      " 6   MonthlyCharges    7043 non-null   float64       \n",
      " 7   TotalCharges      7043 non-null   object        \n",
      "dtypes: datetime64[ns](1), float64(1), object(6)\n",
      "memory usage: 440.3+ KB\n"
     ]
    }
   ],
   "source": [
    "df_contract['BeginDate'] = pd.to_datetime(df_contract.BeginDate)\n",
    "df_contract.TotalCharges = pd.to_numeric(df_contract.TotalCharges, errors = 'ignore')\n",
    "df_contract.info()"
   ]
  },
  {
   "cell_type": "markdown",
   "id": "06fe4f96",
   "metadata": {},
   "source": [
    "## 2. Исследование данных"
   ]
  },
  {
   "cell_type": "markdown",
   "id": "f8ad4b4f",
   "metadata": {},
   "source": [
    "### 2.1 Исследование значений таблицы `contract`"
   ]
  },
  {
   "cell_type": "markdown",
   "id": "782f9471",
   "metadata": {},
   "source": [
    "Примем за целевой признак столбец `EndDate`, который показывает, ушел ли клиент. Для этого создадим столбец `end_contract`: 1 - контракт продолжается, 0 - контракт прекращен. А также проанализируем, какие факторы будут влиять на этот признак. Это будут следующие факторы:\n",
    "\n",
    "1. `Type` - тип оплаты: вероятно, клиенты, производящие оплату на год / два сразу более надежные, чем оплачивающие помесячно; создадим столбец `type_payment`, где 0 - помесячная оплата, 1 - на год / два; \n",
    "2. `PaymentMethod` - способ оплаты: вероятно, клиенты, производящие оплату `Bank transfer (automatic)` (автоматическое списание средств с банковского счета) более уверены в своем выборе оператора и более надежны, чем остальные; создадим столбец `method_payment`, где 1 - автоматическое списание средств, 0 - другое;\n",
    "\n",
    "Также для сравнение создадим столбец `contract_duration` с продолжительностью контракта: если контракт завершен, продолжительность будет равна разнице между `EndDate` и `BeginDate`, в противном случае - между `2020-02-01` и `BeginDate` (так как данные актуальны на 1 февраля 2020 года)."
   ]
  },
  {
   "cell_type": "code",
   "execution_count": 10,
   "id": "d7509c65",
   "metadata": {},
   "outputs": [
    {
     "data": {
      "text/html": [
       "<div>\n",
       "<style scoped>\n",
       "    .dataframe tbody tr th:only-of-type {\n",
       "        vertical-align: middle;\n",
       "    }\n",
       "\n",
       "    .dataframe tbody tr th {\n",
       "        vertical-align: top;\n",
       "    }\n",
       "\n",
       "    .dataframe thead th {\n",
       "        text-align: right;\n",
       "    }\n",
       "</style>\n",
       "<table border=\"1\" class=\"dataframe\">\n",
       "  <thead>\n",
       "    <tr style=\"text-align: right;\">\n",
       "      <th></th>\n",
       "      <th>customerID</th>\n",
       "      <th>BeginDate</th>\n",
       "      <th>EndDate</th>\n",
       "      <th>Type</th>\n",
       "      <th>PaperlessBilling</th>\n",
       "      <th>PaymentMethod</th>\n",
       "      <th>MonthlyCharges</th>\n",
       "      <th>TotalCharges</th>\n",
       "      <th>end_contract</th>\n",
       "      <th>type_payment</th>\n",
       "      <th>method_payment</th>\n",
       "    </tr>\n",
       "  </thead>\n",
       "  <tbody>\n",
       "    <tr>\n",
       "      <th>0</th>\n",
       "      <td>7590-VHVEG</td>\n",
       "      <td>2020-01-01</td>\n",
       "      <td>No</td>\n",
       "      <td>Month-to-month</td>\n",
       "      <td>Yes</td>\n",
       "      <td>Electronic check</td>\n",
       "      <td>29.85</td>\n",
       "      <td>29.85</td>\n",
       "      <td>1.0</td>\n",
       "      <td>0.0</td>\n",
       "      <td>0.0</td>\n",
       "    </tr>\n",
       "    <tr>\n",
       "      <th>1</th>\n",
       "      <td>5575-GNVDE</td>\n",
       "      <td>2017-04-01</td>\n",
       "      <td>No</td>\n",
       "      <td>One year</td>\n",
       "      <td>No</td>\n",
       "      <td>Mailed check</td>\n",
       "      <td>56.95</td>\n",
       "      <td>1889.5</td>\n",
       "      <td>1.0</td>\n",
       "      <td>1.0</td>\n",
       "      <td>0.0</td>\n",
       "    </tr>\n",
       "    <tr>\n",
       "      <th>2</th>\n",
       "      <td>3668-QPYBK</td>\n",
       "      <td>2019-10-01</td>\n",
       "      <td>2019-12-01 00:00:00</td>\n",
       "      <td>Month-to-month</td>\n",
       "      <td>Yes</td>\n",
       "      <td>Mailed check</td>\n",
       "      <td>53.85</td>\n",
       "      <td>108.15</td>\n",
       "      <td>0.0</td>\n",
       "      <td>0.0</td>\n",
       "      <td>0.0</td>\n",
       "    </tr>\n",
       "    <tr>\n",
       "      <th>3</th>\n",
       "      <td>7795-CFOCW</td>\n",
       "      <td>2016-05-01</td>\n",
       "      <td>No</td>\n",
       "      <td>One year</td>\n",
       "      <td>No</td>\n",
       "      <td>Bank transfer (automatic)</td>\n",
       "      <td>42.30</td>\n",
       "      <td>1840.75</td>\n",
       "      <td>1.0</td>\n",
       "      <td>1.0</td>\n",
       "      <td>1.0</td>\n",
       "    </tr>\n",
       "    <tr>\n",
       "      <th>4</th>\n",
       "      <td>9237-HQITU</td>\n",
       "      <td>2019-09-01</td>\n",
       "      <td>2019-11-01 00:00:00</td>\n",
       "      <td>Month-to-month</td>\n",
       "      <td>Yes</td>\n",
       "      <td>Electronic check</td>\n",
       "      <td>70.70</td>\n",
       "      <td>151.65</td>\n",
       "      <td>0.0</td>\n",
       "      <td>0.0</td>\n",
       "      <td>0.0</td>\n",
       "    </tr>\n",
       "  </tbody>\n",
       "</table>\n",
       "</div>"
      ],
      "text/plain": [
       "   customerID  BeginDate              EndDate            Type  \\\n",
       "0  7590-VHVEG 2020-01-01                   No  Month-to-month   \n",
       "1  5575-GNVDE 2017-04-01                   No        One year   \n",
       "2  3668-QPYBK 2019-10-01  2019-12-01 00:00:00  Month-to-month   \n",
       "3  7795-CFOCW 2016-05-01                   No        One year   \n",
       "4  9237-HQITU 2019-09-01  2019-11-01 00:00:00  Month-to-month   \n",
       "\n",
       "  PaperlessBilling              PaymentMethod  MonthlyCharges TotalCharges  \\\n",
       "0              Yes           Electronic check           29.85        29.85   \n",
       "1               No               Mailed check           56.95       1889.5   \n",
       "2              Yes               Mailed check           53.85       108.15   \n",
       "3               No  Bank transfer (automatic)           42.30      1840.75   \n",
       "4              Yes           Electronic check           70.70       151.65   \n",
       "\n",
       "   end_contract  type_payment  method_payment  \n",
       "0           1.0           0.0             0.0  \n",
       "1           1.0           1.0             0.0  \n",
       "2           0.0           0.0             0.0  \n",
       "3           1.0           1.0             1.0  \n",
       "4           0.0           0.0             0.0  "
      ]
     },
     "execution_count": 10,
     "metadata": {},
     "output_type": "execute_result"
    }
   ],
   "source": [
    "df_contract.loc[df_contract.EndDate == 'No', 'end_contract'] = 1\n",
    "df_contract.loc[df_contract.EndDate != 'No', 'end_contract'] = 0\n",
    "\n",
    "df_contract.loc[df_contract.Type != 'Month-to-month', 'type_payment'] = 1\n",
    "df_contract.loc[df_contract.Type == 'Month-to-month', 'type_payment'] = 0\n",
    "\n",
    "df_contract.loc[df_contract.PaymentMethod == 'Bank transfer (automatic)', 'method_payment'] = 1\n",
    "df_contract.loc[df_contract.PaymentMethod != 'Bank transfer (automatic)', 'method_payment'] = 0\n",
    "\n",
    "df_contract.head()"
   ]
  },
  {
   "cell_type": "markdown",
   "id": "07c7e4c8",
   "metadata": {},
   "source": [
    "Определим, сколько процентов клиентов остались в Телекоме:"
   ]
  },
  {
   "cell_type": "code",
   "execution_count": 11,
   "id": "4898eb08",
   "metadata": {},
   "outputs": [
    {
     "data": {
      "text/plain": [
       "73.4630129206304"
      ]
     },
     "execution_count": 11,
     "metadata": {},
     "output_type": "execute_result"
    }
   ],
   "source": [
    "df_contract[df_contract.EndDate == 'No']['EndDate'].count() / df_contract.EndDate.count() * 100"
   ]
  },
  {
   "cell_type": "markdown",
   "id": "650f0504",
   "metadata": {},
   "source": [
    "То есть почти четверть клиентов ушла. "
   ]
  },
  {
   "cell_type": "markdown",
   "id": "139afcec",
   "metadata": {},
   "source": [
    "Создадим столбец `contract_duration`:"
   ]
  },
  {
   "cell_type": "code",
   "execution_count": 12,
   "id": "f1adb7fe",
   "metadata": {
    "scrolled": false
   },
   "outputs": [
    {
     "name": "stderr",
     "output_type": "stream",
     "text": [
      "C:\\Users\\USER\\anaconda3\\lib\\site-packages\\pandas\\core\\generic.py:5516: SettingWithCopyWarning: \n",
      "A value is trying to be set on a copy of a slice from a DataFrame.\n",
      "Try using .loc[row_indexer,col_indexer] = value instead\n",
      "\n",
      "See the caveats in the documentation: https://pandas.pydata.org/pandas-docs/stable/user_guide/indexing.html#returning-a-view-versus-a-copy\n",
      "  self[name] = value\n",
      "C:\\Users\\USER\\AppData\\Local\\Temp/ipykernel_213576/1962970311.py:5: SettingWithCopyWarning: \n",
      "A value is trying to be set on a copy of a slice from a DataFrame.\n",
      "Try using .loc[row_indexer,col_indexer] = value instead\n",
      "\n",
      "See the caveats in the documentation: https://pandas.pydata.org/pandas-docs/stable/user_guide/indexing.html#returning-a-view-versus-a-copy\n",
      "  df_end_contract['contract_duration'] = df_end_contract.EndDate - df_end_contract.BeginDate\n"
     ]
    }
   ],
   "source": [
    "# Создание дополнительной таблицы df_end_contract для клиентов, расторгнувших контракт\n",
    "df_end_contract = df_contract.copy()\n",
    "df_end_contract = df_contract[df_contract.EndDate != 'No']\n",
    "df_end_contract.EndDate = pd.to_datetime(df_end_contract.EndDate)\n",
    "df_end_contract['contract_duration'] = df_end_contract.EndDate - df_end_contract.BeginDate\n",
    "df_end_contract = df_end_contract[['customerID', 'contract_duration']]\n",
    "\n",
    "# Объединение таблиц df_end_contract и общей - df_contract\n",
    "df_contract = df_contract.merge(df_end_contract, how = 'left', on = 'customerID')\n",
    "\n",
    "# Заполнение пустых значение (клиентов, оставшихся в Телекоме) разницей BeginDate и 2020-02-01, приведение значений к дням\n",
    "df_contract['contract_duration'] = df_contract['contract_duration'].fillna(pd.to_datetime('2020 - 02 - 01') \n",
    "                                                                                       - df_contract['BeginDate'])\n",
    "df_contract['contract_duration'] = pd.to_numeric(df_contract['contract_duration']) / (1000000000 * 60 * 60 * 24)"
   ]
  },
  {
   "cell_type": "code",
   "execution_count": 13,
   "id": "98a18a3a",
   "metadata": {
    "scrolled": false
   },
   "outputs": [
    {
     "data": {
      "text/html": [
       "<div>\n",
       "<style scoped>\n",
       "    .dataframe tbody tr th:only-of-type {\n",
       "        vertical-align: middle;\n",
       "    }\n",
       "\n",
       "    .dataframe tbody tr th {\n",
       "        vertical-align: top;\n",
       "    }\n",
       "\n",
       "    .dataframe thead th {\n",
       "        text-align: right;\n",
       "    }\n",
       "</style>\n",
       "<table border=\"1\" class=\"dataframe\">\n",
       "  <thead>\n",
       "    <tr style=\"text-align: right;\">\n",
       "      <th></th>\n",
       "      <th>customerID</th>\n",
       "      <th>BeginDate</th>\n",
       "      <th>EndDate</th>\n",
       "      <th>Type</th>\n",
       "      <th>PaperlessBilling</th>\n",
       "      <th>PaymentMethod</th>\n",
       "      <th>MonthlyCharges</th>\n",
       "      <th>TotalCharges</th>\n",
       "      <th>end_contract</th>\n",
       "      <th>type_payment</th>\n",
       "      <th>method_payment</th>\n",
       "      <th>contract_duration</th>\n",
       "    </tr>\n",
       "  </thead>\n",
       "  <tbody>\n",
       "    <tr>\n",
       "      <th>0</th>\n",
       "      <td>7590-VHVEG</td>\n",
       "      <td>2020-01-01</td>\n",
       "      <td>No</td>\n",
       "      <td>Month-to-month</td>\n",
       "      <td>Yes</td>\n",
       "      <td>Electronic check</td>\n",
       "      <td>29.85</td>\n",
       "      <td>29.85</td>\n",
       "      <td>1.0</td>\n",
       "      <td>0.0</td>\n",
       "      <td>0.0</td>\n",
       "      <td>31.0</td>\n",
       "    </tr>\n",
       "    <tr>\n",
       "      <th>1</th>\n",
       "      <td>5575-GNVDE</td>\n",
       "      <td>2017-04-01</td>\n",
       "      <td>No</td>\n",
       "      <td>One year</td>\n",
       "      <td>No</td>\n",
       "      <td>Mailed check</td>\n",
       "      <td>56.95</td>\n",
       "      <td>1889.5</td>\n",
       "      <td>1.0</td>\n",
       "      <td>1.0</td>\n",
       "      <td>0.0</td>\n",
       "      <td>1036.0</td>\n",
       "    </tr>\n",
       "    <tr>\n",
       "      <th>2</th>\n",
       "      <td>3668-QPYBK</td>\n",
       "      <td>2019-10-01</td>\n",
       "      <td>2019-12-01 00:00:00</td>\n",
       "      <td>Month-to-month</td>\n",
       "      <td>Yes</td>\n",
       "      <td>Mailed check</td>\n",
       "      <td>53.85</td>\n",
       "      <td>108.15</td>\n",
       "      <td>0.0</td>\n",
       "      <td>0.0</td>\n",
       "      <td>0.0</td>\n",
       "      <td>61.0</td>\n",
       "    </tr>\n",
       "    <tr>\n",
       "      <th>3</th>\n",
       "      <td>7795-CFOCW</td>\n",
       "      <td>2016-05-01</td>\n",
       "      <td>No</td>\n",
       "      <td>One year</td>\n",
       "      <td>No</td>\n",
       "      <td>Bank transfer (automatic)</td>\n",
       "      <td>42.30</td>\n",
       "      <td>1840.75</td>\n",
       "      <td>1.0</td>\n",
       "      <td>1.0</td>\n",
       "      <td>1.0</td>\n",
       "      <td>1371.0</td>\n",
       "    </tr>\n",
       "    <tr>\n",
       "      <th>4</th>\n",
       "      <td>9237-HQITU</td>\n",
       "      <td>2019-09-01</td>\n",
       "      <td>2019-11-01 00:00:00</td>\n",
       "      <td>Month-to-month</td>\n",
       "      <td>Yes</td>\n",
       "      <td>Electronic check</td>\n",
       "      <td>70.70</td>\n",
       "      <td>151.65</td>\n",
       "      <td>0.0</td>\n",
       "      <td>0.0</td>\n",
       "      <td>0.0</td>\n",
       "      <td>61.0</td>\n",
       "    </tr>\n",
       "  </tbody>\n",
       "</table>\n",
       "</div>"
      ],
      "text/plain": [
       "   customerID  BeginDate              EndDate            Type  \\\n",
       "0  7590-VHVEG 2020-01-01                   No  Month-to-month   \n",
       "1  5575-GNVDE 2017-04-01                   No        One year   \n",
       "2  3668-QPYBK 2019-10-01  2019-12-01 00:00:00  Month-to-month   \n",
       "3  7795-CFOCW 2016-05-01                   No        One year   \n",
       "4  9237-HQITU 2019-09-01  2019-11-01 00:00:00  Month-to-month   \n",
       "\n",
       "  PaperlessBilling              PaymentMethod  MonthlyCharges TotalCharges  \\\n",
       "0              Yes           Electronic check           29.85        29.85   \n",
       "1               No               Mailed check           56.95       1889.5   \n",
       "2              Yes               Mailed check           53.85       108.15   \n",
       "3               No  Bank transfer (automatic)           42.30      1840.75   \n",
       "4              Yes           Electronic check           70.70       151.65   \n",
       "\n",
       "   end_contract  type_payment  method_payment  contract_duration  \n",
       "0           1.0           0.0             0.0               31.0  \n",
       "1           1.0           1.0             0.0             1036.0  \n",
       "2           0.0           0.0             0.0               61.0  \n",
       "3           1.0           1.0             1.0             1371.0  \n",
       "4           0.0           0.0             0.0               61.0  "
      ]
     },
     "execution_count": 13,
     "metadata": {},
     "output_type": "execute_result"
    }
   ],
   "source": [
    "df_contract.head()"
   ]
  },
  {
   "cell_type": "markdown",
   "id": "559d8432",
   "metadata": {},
   "source": [
    "Проанализируем полученные данные:"
   ]
  },
  {
   "cell_type": "markdown",
   "id": "0cf6a8fb",
   "metadata": {},
   "source": [
    "Оценим, насколько зависит уход клиента от месячной стоимости услуг компании:"
   ]
  },
  {
   "cell_type": "code",
   "execution_count": 14,
   "id": "2ae77edd",
   "metadata": {},
   "outputs": [
    {
     "data": {
      "image/png": "[encoded data removed]",
      "text/plain": [
       "<Figure size 720x576 with 1 Axes>"
      ]
     },
     "metadata": {
      "needs_background": "light"
     },
     "output_type": "display_data"
    }
   ],
   "source": [
    "plt.figure(figsize = (10, 8))\n",
    "sns.boxplot(data = df_contract, y = 'MonthlyCharges', x = 'end_contract').set(\n",
    "                                        xlabel = 'Статус клиента: 1 - остался, 0 - ушел',\n",
    "                                        ylabel = 'Ежемесячная оплата услуг');"
   ]
  },
  {
   "cell_type": "markdown",
   "id": "2edf89d1",
   "metadata": {},
   "source": [
    "Можно сделать вывод о том, что месячная стоимость услуг у ушедших клиентов значительно выше, чем у оставшихся"
   ]
  },
  {
   "cell_type": "markdown",
   "id": "a3f27bfb",
   "metadata": {},
   "source": [
    "Оценим, насколько зависит уход клиента от продолжительности контракта:"
   ]
  },
  {
   "cell_type": "code",
   "execution_count": 15,
   "id": "28fd6335",
   "metadata": {},
   "outputs": [
    {
     "data": {
      "image/png": "[encoded data removed]",
      "text/plain": [
       "<Figure size 720x576 with 1 Axes>"
      ]
     },
     "metadata": {
      "needs_background": "light"
     },
     "output_type": "display_data"
    }
   ],
   "source": [
    "plt.figure(figsize = (10, 8))\n",
    "sns.boxplot(data = df_contract, y = 'contract_duration', x = 'end_contract').set(\n",
    "                                        xlabel = 'Статус клиента: 1 - остался, 0 - ушел',\n",
    "                                        ylabel = 'Продолжительность контракта в днях');"
   ]
  },
  {
   "cell_type": "markdown",
   "id": "913c4396",
   "metadata": {},
   "source": [
    "Можно сделать вывод о том, что клиенты, пользующиеся услугами компании уже достаточно долго, более лояльны и надежны, чем те, которые пришли сравнительно недавно."
   ]
  },
  {
   "cell_type": "markdown",
   "id": "1e5bd3af",
   "metadata": {},
   "source": [
    "Проанализируем полученные результаты:\n",
    "\n",
    "1. Ежемесячная стоимость влияет на уход клиента: стоимость услуг у ушедших клиентов значительно выше, чем у оставшихся;\n",
    "2. Продолжительность контракта влияет на уход клиента: клиенты, пользующиеся услугами компании уже достаточно долго, более лояльны и надежны, чем те, которые пришли сравнительно недавно."
   ]
  },
  {
   "cell_type": "markdown",
   "id": "1b3f2e34",
   "metadata": {},
   "source": [
    "### 2.2 Исследование значений таблицы `personal`"
   ]
  },
  {
   "cell_type": "markdown",
   "id": "3fdef535",
   "metadata": {},
   "source": [
    "Довольно значимой таблицей на уход клиента также может быть `personal`, которая содержит персональную информацию о клиентах. Объединим ее с таблицей `contract`, в которой останутся только ID номера клиентов и столбец `end_contract`:"
   ]
  },
  {
   "cell_type": "code",
   "execution_count": 16,
   "id": "c9515d75",
   "metadata": {},
   "outputs": [
    {
     "data": {
      "text/html": [
       "<div>\n",
       "<style scoped>\n",
       "    .dataframe tbody tr th:only-of-type {\n",
       "        vertical-align: middle;\n",
       "    }\n",
       "\n",
       "    .dataframe tbody tr th {\n",
       "        vertical-align: top;\n",
       "    }\n",
       "\n",
       "    .dataframe thead th {\n",
       "        text-align: right;\n",
       "    }\n",
       "</style>\n",
       "<table border=\"1\" class=\"dataframe\">\n",
       "  <thead>\n",
       "    <tr style=\"text-align: right;\">\n",
       "      <th></th>\n",
       "      <th>customerID</th>\n",
       "      <th>end_contract</th>\n",
       "      <th>gender</th>\n",
       "      <th>SeniorCitizen</th>\n",
       "      <th>Partner</th>\n",
       "      <th>Dependents</th>\n",
       "    </tr>\n",
       "  </thead>\n",
       "  <tbody>\n",
       "    <tr>\n",
       "      <th>0</th>\n",
       "      <td>7590-VHVEG</td>\n",
       "      <td>1.0</td>\n",
       "      <td>Female</td>\n",
       "      <td>0</td>\n",
       "      <td>Yes</td>\n",
       "      <td>No</td>\n",
       "    </tr>\n",
       "    <tr>\n",
       "      <th>1</th>\n",
       "      <td>5575-GNVDE</td>\n",
       "      <td>1.0</td>\n",
       "      <td>Male</td>\n",
       "      <td>0</td>\n",
       "      <td>No</td>\n",
       "      <td>No</td>\n",
       "    </tr>\n",
       "    <tr>\n",
       "      <th>2</th>\n",
       "      <td>3668-QPYBK</td>\n",
       "      <td>0.0</td>\n",
       "      <td>Male</td>\n",
       "      <td>0</td>\n",
       "      <td>No</td>\n",
       "      <td>No</td>\n",
       "    </tr>\n",
       "    <tr>\n",
       "      <th>3</th>\n",
       "      <td>7795-CFOCW</td>\n",
       "      <td>1.0</td>\n",
       "      <td>Male</td>\n",
       "      <td>0</td>\n",
       "      <td>No</td>\n",
       "      <td>No</td>\n",
       "    </tr>\n",
       "    <tr>\n",
       "      <th>4</th>\n",
       "      <td>9237-HQITU</td>\n",
       "      <td>0.0</td>\n",
       "      <td>Female</td>\n",
       "      <td>0</td>\n",
       "      <td>No</td>\n",
       "      <td>No</td>\n",
       "    </tr>\n",
       "    <tr>\n",
       "      <th>...</th>\n",
       "      <td>...</td>\n",
       "      <td>...</td>\n",
       "      <td>...</td>\n",
       "      <td>...</td>\n",
       "      <td>...</td>\n",
       "      <td>...</td>\n",
       "    </tr>\n",
       "    <tr>\n",
       "      <th>7038</th>\n",
       "      <td>6840-RESVB</td>\n",
       "      <td>1.0</td>\n",
       "      <td>Male</td>\n",
       "      <td>0</td>\n",
       "      <td>Yes</td>\n",
       "      <td>Yes</td>\n",
       "    </tr>\n",
       "    <tr>\n",
       "      <th>7039</th>\n",
       "      <td>2234-XADUH</td>\n",
       "      <td>1.0</td>\n",
       "      <td>Female</td>\n",
       "      <td>0</td>\n",
       "      <td>Yes</td>\n",
       "      <td>Yes</td>\n",
       "    </tr>\n",
       "    <tr>\n",
       "      <th>7040</th>\n",
       "      <td>4801-JZAZL</td>\n",
       "      <td>1.0</td>\n",
       "      <td>Female</td>\n",
       "      <td>0</td>\n",
       "      <td>Yes</td>\n",
       "      <td>Yes</td>\n",
       "    </tr>\n",
       "    <tr>\n",
       "      <th>7041</th>\n",
       "      <td>8361-LTMKD</td>\n",
       "      <td>0.0</td>\n",
       "      <td>Male</td>\n",
       "      <td>1</td>\n",
       "      <td>Yes</td>\n",
       "      <td>No</td>\n",
       "    </tr>\n",
       "    <tr>\n",
       "      <th>7042</th>\n",
       "      <td>3186-AJIEK</td>\n",
       "      <td>1.0</td>\n",
       "      <td>Male</td>\n",
       "      <td>0</td>\n",
       "      <td>No</td>\n",
       "      <td>No</td>\n",
       "    </tr>\n",
       "  </tbody>\n",
       "</table>\n",
       "<p>7043 rows × 6 columns</p>\n",
       "</div>"
      ],
      "text/plain": [
       "      customerID  end_contract  gender  SeniorCitizen Partner Dependents\n",
       "0     7590-VHVEG           1.0  Female              0     Yes         No\n",
       "1     5575-GNVDE           1.0    Male              0      No         No\n",
       "2     3668-QPYBK           0.0    Male              0      No         No\n",
       "3     7795-CFOCW           1.0    Male              0      No         No\n",
       "4     9237-HQITU           0.0  Female              0      No         No\n",
       "...          ...           ...     ...            ...     ...        ...\n",
       "7038  6840-RESVB           1.0    Male              0     Yes        Yes\n",
       "7039  2234-XADUH           1.0  Female              0     Yes        Yes\n",
       "7040  4801-JZAZL           1.0  Female              0     Yes        Yes\n",
       "7041  8361-LTMKD           0.0    Male              1     Yes         No\n",
       "7042  3186-AJIEK           1.0    Male              0      No         No\n",
       "\n",
       "[7043 rows x 6 columns]"
      ]
     },
     "execution_count": 16,
     "metadata": {},
     "output_type": "execute_result"
    }
   ],
   "source": [
    "df_personal_end_contract = df_contract.copy()\n",
    "df_personal_end_contract = df_personal_end_contract[['customerID', 'end_contract']]\n",
    "df_personal_end_contract = df_personal_end_contract.merge(df_personal, how = 'left', on = 'customerID')\n",
    "df_personal_end_contract "
   ]
  },
  {
   "cell_type": "markdown",
   "id": "9f7b76d9",
   "metadata": {},
   "source": [
    "Выведем количество уникальных значений из таблицы `personal`:"
   ]
  },
  {
   "cell_type": "code",
   "execution_count": 17,
   "id": "34aff587",
   "metadata": {},
   "outputs": [
    {
     "name": "stdout",
     "output_type": "stream",
     "text": [
      "Уникальные значения столбца gender:\n",
      "Male      3555\n",
      "Female    3488\n",
      "Name: gender, dtype: int64\n",
      "\n",
      "\n",
      "Уникальные значения столбца SeniorCitizen:\n",
      "0    5901\n",
      "1    1142\n",
      "Name: SeniorCitizen, dtype: int64\n",
      "\n",
      "\n",
      "Уникальные значения столбца Partner:\n",
      "No     3641\n",
      "Yes    3402\n",
      "Name: Partner, dtype: int64\n",
      "\n",
      "\n",
      "Уникальные значения столбца Dependents:\n",
      "No     4933\n",
      "Yes    2110\n",
      "Name: Dependents, dtype: int64\n",
      "\n",
      "\n"
     ]
    }
   ],
   "source": [
    "list_df_personal_end_contract = ['gender', 'SeniorCitizen', 'Partner', 'Dependents']\n",
    "\n",
    "for value in list_df_personal_end_contract:\n",
    "    print('Уникальные значения столбца ' + value + ':')\n",
    "    print(df_personal_end_contract[value].value_counts())\n",
    "    print('\\n')"
   ]
  },
  {
   "cell_type": "markdown",
   "id": "3146e3cf",
   "metadata": {},
   "source": [
    "Каждый столбец имеет по 2 значения: `Yes / No` или `1 / 0`.\n",
    "\n",
    "Сделаем следующие предположения:\n",
    "\n",
    "1. Пенсионеры менее мобильны в вопросе выбора оператора и неохотнее будут его менять при изменении условий в худшую для себя сторону;\n",
    "2. Супруги предпочитают использовать одного оператора для экономии; создадим столбец `have_partner`, где 1 - у клиента есть супруг / супруга, 0 - нет;\n",
    "3. Вероятно, клиенты, у которых есть люди на попечении, перекладывают вопрос оператора и за тех людей на себя, так как более экономно, как и в предположении с супругами; создадим столбец `have_dependents`: 1 - у клиента есть люди на попечении, 0 - нет. \n",
    "\n",
    "Касательно столбца `gender` сделать предположение сложно, кто более надежен для оператора - мужчины или женщины, поэтому просто создадим столбец `number_gender`, где 1 - мужчины, 0 - женщины."
   ]
  },
  {
   "cell_type": "code",
   "execution_count": 18,
   "id": "c8f99944",
   "metadata": {},
   "outputs": [],
   "source": [
    "df_personal_end_contract.loc[df_personal_end_contract.gender == 'Male', 'number_gender'] = 1\n",
    "df_personal_end_contract.loc[df_personal_end_contract.gender != 'Male', 'number_gender'] = 0\n",
    "\n",
    "df_personal_end_contract.loc[df_personal_end_contract.Partner == 'Yes', 'have_partner'] = 1\n",
    "df_personal_end_contract.loc[df_personal_end_contract.Partner != 'Yes', 'have_partner'] = 0\n",
    "\n",
    "df_personal_end_contract.loc[df_personal_end_contract.Partner == 'Yes', 'have_dependents'] = 1\n",
    "df_personal_end_contract.loc[df_personal_end_contract.Partner != 'Yes', 'have_dependents'] = 0\n"
   ]
  },
  {
   "cell_type": "code",
   "execution_count": 19,
   "id": "1183ca2f",
   "metadata": {},
   "outputs": [
    {
     "data": {
      "text/html": [
       "<div>\n",
       "<style scoped>\n",
       "    .dataframe tbody tr th:only-of-type {\n",
       "        vertical-align: middle;\n",
       "    }\n",
       "\n",
       "    .dataframe tbody tr th {\n",
       "        vertical-align: top;\n",
       "    }\n",
       "\n",
       "    .dataframe thead th {\n",
       "        text-align: right;\n",
       "    }\n",
       "</style>\n",
       "<table border=\"1\" class=\"dataframe\">\n",
       "  <thead>\n",
       "    <tr style=\"text-align: right;\">\n",
       "      <th></th>\n",
       "      <th>customerID</th>\n",
       "      <th>end_contract</th>\n",
       "      <th>gender</th>\n",
       "      <th>SeniorCitizen</th>\n",
       "      <th>Partner</th>\n",
       "      <th>Dependents</th>\n",
       "      <th>number_gender</th>\n",
       "      <th>have_partner</th>\n",
       "      <th>have_dependents</th>\n",
       "    </tr>\n",
       "  </thead>\n",
       "  <tbody>\n",
       "    <tr>\n",
       "      <th>0</th>\n",
       "      <td>7590-VHVEG</td>\n",
       "      <td>1.0</td>\n",
       "      <td>Female</td>\n",
       "      <td>0</td>\n",
       "      <td>Yes</td>\n",
       "      <td>No</td>\n",
       "      <td>0.0</td>\n",
       "      <td>1.0</td>\n",
       "      <td>1.0</td>\n",
       "    </tr>\n",
       "    <tr>\n",
       "      <th>1</th>\n",
       "      <td>5575-GNVDE</td>\n",
       "      <td>1.0</td>\n",
       "      <td>Male</td>\n",
       "      <td>0</td>\n",
       "      <td>No</td>\n",
       "      <td>No</td>\n",
       "      <td>1.0</td>\n",
       "      <td>0.0</td>\n",
       "      <td>0.0</td>\n",
       "    </tr>\n",
       "    <tr>\n",
       "      <th>2</th>\n",
       "      <td>3668-QPYBK</td>\n",
       "      <td>0.0</td>\n",
       "      <td>Male</td>\n",
       "      <td>0</td>\n",
       "      <td>No</td>\n",
       "      <td>No</td>\n",
       "      <td>1.0</td>\n",
       "      <td>0.0</td>\n",
       "      <td>0.0</td>\n",
       "    </tr>\n",
       "    <tr>\n",
       "      <th>3</th>\n",
       "      <td>7795-CFOCW</td>\n",
       "      <td>1.0</td>\n",
       "      <td>Male</td>\n",
       "      <td>0</td>\n",
       "      <td>No</td>\n",
       "      <td>No</td>\n",
       "      <td>1.0</td>\n",
       "      <td>0.0</td>\n",
       "      <td>0.0</td>\n",
       "    </tr>\n",
       "    <tr>\n",
       "      <th>4</th>\n",
       "      <td>9237-HQITU</td>\n",
       "      <td>0.0</td>\n",
       "      <td>Female</td>\n",
       "      <td>0</td>\n",
       "      <td>No</td>\n",
       "      <td>No</td>\n",
       "      <td>0.0</td>\n",
       "      <td>0.0</td>\n",
       "      <td>0.0</td>\n",
       "    </tr>\n",
       "  </tbody>\n",
       "</table>\n",
       "</div>"
      ],
      "text/plain": [
       "   customerID  end_contract  gender  SeniorCitizen Partner Dependents  \\\n",
       "0  7590-VHVEG           1.0  Female              0     Yes         No   \n",
       "1  5575-GNVDE           1.0    Male              0      No         No   \n",
       "2  3668-QPYBK           0.0    Male              0      No         No   \n",
       "3  7795-CFOCW           1.0    Male              0      No         No   \n",
       "4  9237-HQITU           0.0  Female              0      No         No   \n",
       "\n",
       "   number_gender  have_partner  have_dependents  \n",
       "0            0.0           1.0              1.0  \n",
       "1            1.0           0.0              0.0  \n",
       "2            1.0           0.0              0.0  \n",
       "3            1.0           0.0              0.0  \n",
       "4            0.0           0.0              0.0  "
      ]
     },
     "execution_count": 19,
     "metadata": {},
     "output_type": "execute_result"
    }
   ],
   "source": [
    "df_personal_end_contract.head()"
   ]
  },
  {
   "cell_type": "markdown",
   "id": "cac1625e",
   "metadata": {},
   "source": [
    "Построим матрицу корреляции:"
   ]
  },
  {
   "cell_type": "code",
   "execution_count": 20,
   "id": "54362e70",
   "metadata": {},
   "outputs": [
    {
     "data": {
      "image/png": "[encoded data removed]",
      "text/plain": [
       "<Figure size 864x576 with 2 Axes>"
      ]
     },
     "metadata": {
      "needs_background": "light"
     },
     "output_type": "display_data"
    }
   ],
   "source": [
    "plt.figure(figsize = (12, 8))\n",
    "sns.heatmap(df_personal_end_contract.corr(method = 'kendall'), annot = True);"
   ]
  },
  {
   "cell_type": "markdown",
   "id": "f06ae76a",
   "metadata": {},
   "source": [
    "Проанализируем полученные результаты:\n",
    "\n",
    "1. На расторжение контракта оказывают очень слабое влияние столбцы `have_partner` и `have_dependents` (коэффициенты корреляции 0.15), то есть клиенты, у которых есть супруг / супруга или люди на попечении, являются более надежными, однако очень незначительно;\n",
    "2. Связь между расторжением контракта и начилием у клиента пенсионного по возрасту есть, однако тоже очень слабая (коэффициент корреляции 0.15), то есть пенсионеры чаще уходят, чем молодые люди, но незначительно.\n",
    "3. Остальные факторы на расторжение контрактов не влияют."
   ]
  },
  {
   "cell_type": "markdown",
   "id": "4d9a20d4",
   "metadata": {},
   "source": [
    "### 2.3 Выводы по исследовательскому анализу"
   ]
  },
  {
   "cell_type": "markdown",
   "id": "f1fa9bf4",
   "metadata": {},
   "source": [
    "Таким образом, на основе матриц корреляции таблиц, можно сделать выводы:\n",
    "\n",
    "1. Ежемесячная стоимость влияет на уход клиента: стоимость услуг у ушедших клиентов значительно выше, чем у оставшихся;\n",
    "2. Продолжительность контракта влияет на уход клиента: клиенты, пользующиеся услугами компании уже достаточно долго, более лояльны и надежны, чем те, которые пришли сравнительно недавно;\n",
    "3. Прослеживается слабая корреляция между уходом клиента и типом оплаты (коэффициент ранговой корреляции Кендалла 0.41): клиенты, оплачивающие услуги сразу на год-два вперед чаще остаются;\n",
    "4. Остальные факторы на расторжение контрактов не влияют.\n",
    "\n",
    "То есть наиболее значимые факторы, влияющие на расторжение контракта - ежемесячная стоимость, продолжительность контракта, тип оплаты."
   ]
  },
  {
   "cell_type": "markdown",
   "id": "cbd5ee0c",
   "metadata": {},
   "source": [
    "# План решения задачи"
   ]
  },
  {
   "cell_type": "markdown",
   "id": "e62f3a8f",
   "metadata": {},
   "source": [
    "### Для получения модели заданного качества будем придерживаться следующего плана:\n",
    "\n",
    "1. Объединение таблиц, анализ объединенной таблицы, разбиение признаков на целевой и остальные, кодирование столбцов строкового типа, добавление баланса классов, разбиение на обучающую и тестовую выборки.\n",
    "2. Создание модели на первом алгоритме, подбор наилучших гиперпараметров, получение результата, проверка на кросс-валидации. Основная метрика - `AUC-ROC`, значение `random state` - 171022. При недостаточном качестве модели - изменение гиперпараметров модели.\n",
    "3. Те же самые действия, как и в пункте 2, с моделью на другом алгоритме.\n",
    "4. Сравнение полученных результатов моделей, анализ их качества, затраченного времени, формулировка выводов по данному пункту."
   ]
  },
  {
   "cell_type": "markdown",
   "id": "f3fa1954",
   "metadata": {},
   "source": [
    "# Создание моделей"
   ]
  },
  {
   "cell_type": "markdown",
   "id": "393b197e",
   "metadata": {},
   "source": [
    "## 1. Подготовка признаков"
   ]
  },
  {
   "cell_type": "markdown",
   "id": "eda342c5",
   "metadata": {},
   "source": [
    "Импортируем необходимые библиотеки:"
   ]
  },
  {
   "cell_type": "code",
   "execution_count": 21,
   "id": "61714405",
   "metadata": {},
   "outputs": [],
   "source": [
    "from sklearn.preprocessing import OrdinalEncoder, StandardScaler\n",
    "from sklearn.model_selection import train_test_split, GridSearchCV, cross_val_score\n",
    "from sklearn.ensemble import RandomForestClassifier\n",
    "from sklearn import metrics\n",
    "from lightgbm import LGBMClassifier"
   ]
  },
  {
   "cell_type": "markdown",
   "id": "de4ce194",
   "metadata": {},
   "source": [
    "Откроем еще раз таблицы (прежние были видоизменены в исследовательском анализе):"
   ]
  },
  {
   "cell_type": "code",
   "execution_count": 22,
   "id": "84ae6e95",
   "metadata": {},
   "outputs": [],
   "source": [
    "df_contract_model = df_contract.copy()\n",
    "df_contract_model = df_contract_model.drop(['end_contract', 'type_payment', 'method_payment'], axis = 1)\n",
    "df_internet_model = pd.read_csv('/datasets/final_provider/internet.csv')\n",
    "df_personal_model = pd.read_csv('/datasets/final_provider/personal.csv')\n",
    "df_phone_model = pd.read_csv('/datasets/final_provider/phone.csv')"
   ]
  },
  {
   "cell_type": "markdown",
   "id": "897396cf",
   "metadata": {},
   "source": [
    "### 1.1 Объединение таблиц, проверка на пропуски объединенного датафрейма"
   ]
  },
  {
   "cell_type": "markdown",
   "id": "25a89470",
   "metadata": {},
   "source": [
    "Объединим все таблицы в один датафрейм:"
   ]
  },
  {
   "cell_type": "code",
   "execution_count": 23,
   "id": "076c0407",
   "metadata": {},
   "outputs": [],
   "source": [
    "df = df_contract_model.merge(df_personal_model, how = 'left', on = 'customerID')\n",
    "df = df.merge(df_internet_model, how = 'left', on = 'customerID')\n",
    "df = df.merge(df_phone_model, how = 'left', on = 'customerID')\n",
    "df.TotalCharges = pd.to_numeric(df.TotalCharges, errors = 'coerce').fillna(0)"
   ]
  },
  {
   "cell_type": "markdown",
   "id": "c52cce16",
   "metadata": {},
   "source": [
    "Проанализируем, сколько пропусков появилось в результате объединения таблиц:"
   ]
  },
  {
   "cell_type": "code",
   "execution_count": 24,
   "id": "9876323a",
   "metadata": {
    "scrolled": false
   },
   "outputs": [
    {
     "data": {
      "text/plain": [
       "customerID              0\n",
       "BeginDate               0\n",
       "EndDate                 0\n",
       "Type                    0\n",
       "PaperlessBilling        0\n",
       "PaymentMethod           0\n",
       "MonthlyCharges          0\n",
       "TotalCharges            0\n",
       "contract_duration       0\n",
       "gender                  0\n",
       "SeniorCitizen           0\n",
       "Partner                 0\n",
       "Dependents              0\n",
       "InternetService      1526\n",
       "OnlineSecurity       1526\n",
       "OnlineBackup         1526\n",
       "DeviceProtection     1526\n",
       "TechSupport          1526\n",
       "StreamingTV          1526\n",
       "StreamingMovies      1526\n",
       "MultipleLines         682\n",
       "dtype: int64"
      ]
     },
     "execution_count": 24,
     "metadata": {},
     "output_type": "execute_result"
    }
   ],
   "source": [
    "df.isna().sum()"
   ]
  },
  {
   "cell_type": "markdown",
   "id": "a7695466",
   "metadata": {},
   "source": [
    "Пропуски появились в столбцах таблиц `internet` и `phone`. Скорее всего, информации нет, так как клиенты не подключали перечисленные услуги. Заменим пропуски в этих столбцах на значение `No`:"
   ]
  },
  {
   "cell_type": "code",
   "execution_count": 25,
   "id": "6471b3fb",
   "metadata": {},
   "outputs": [],
   "source": [
    "df = df.fillna('No')"
   ]
  },
  {
   "cell_type": "markdown",
   "id": "e8049a0f",
   "metadata": {},
   "source": [
    "Проверим, все ли пропуски заполнились:"
   ]
  },
  {
   "cell_type": "code",
   "execution_count": 26,
   "id": "0a18ca41",
   "metadata": {
    "scrolled": false
   },
   "outputs": [
    {
     "data": {
      "text/plain": [
       "customerID           0\n",
       "BeginDate            0\n",
       "EndDate              0\n",
       "Type                 0\n",
       "PaperlessBilling     0\n",
       "PaymentMethod        0\n",
       "MonthlyCharges       0\n",
       "TotalCharges         0\n",
       "contract_duration    0\n",
       "gender               0\n",
       "SeniorCitizen        0\n",
       "Partner              0\n",
       "Dependents           0\n",
       "InternetService      0\n",
       "OnlineSecurity       0\n",
       "OnlineBackup         0\n",
       "DeviceProtection     0\n",
       "TechSupport          0\n",
       "StreamingTV          0\n",
       "StreamingMovies      0\n",
       "MultipleLines        0\n",
       "dtype: int64"
      ]
     },
     "execution_count": 26,
     "metadata": {},
     "output_type": "execute_result"
    }
   ],
   "source": [
    "df.isna().sum()"
   ]
  },
  {
   "cell_type": "markdown",
   "id": "37d892b0",
   "metadata": {},
   "source": [
    "Пропуски заполнены, можем переходить к следующему пункту."
   ]
  },
  {
   "cell_type": "markdown",
   "id": "2acc631b",
   "metadata": {},
   "source": [
    "### 1.2 Анализ объединенного датафрейма"
   ]
  },
  {
   "cell_type": "markdown",
   "id": "802c43a0",
   "metadata": {},
   "source": [
    "Произведем анализ данных объединенного датафрейма. Анализ данных таблиц `contract` и `personal` Уже был произведен (в том числе и с объединением таблиц, т.к. количество строк одинаковое, пункт 2.2, исследовательский анализ). Обратим внимание именно на столбцы из таблиц `internet` и `phone`:"
   ]
  },
  {
   "cell_type": "code",
   "execution_count": 27,
   "id": "e51ad195",
   "metadata": {
    "scrolled": false
   },
   "outputs": [
    {
     "name": "stdout",
     "output_type": "stream",
     "text": [
      "InternetService\n"
     ]
    },
    {
     "data": {
      "image/png": "[encoded data removed]",
      "text/plain": [
       "<Figure size 432x288 with 1 Axes>"
      ]
     },
     "metadata": {
      "needs_background": "light"
     },
     "output_type": "display_data"
    },
    {
     "name": "stdout",
     "output_type": "stream",
     "text": [
      "OnlineSecurity\n"
     ]
    },
    {
     "data": {
      "image/png": "[encoded data removed]",
      "text/plain": [
       "<Figure size 432x288 with 1 Axes>"
      ]
     },
     "metadata": {
      "needs_background": "light"
     },
     "output_type": "display_data"
    },
    {
     "name": "stdout",
     "output_type": "stream",
     "text": [
      "OnlineBackup\n"
     ]
    },
    {
     "data": {
      "image/png": "[encoded data removed]",
      "text/plain": [
       "<Figure size 432x288 with 1 Axes>"
      ]
     },
     "metadata": {
      "needs_background": "light"
     },
     "output_type": "display_data"
    },
    {
     "name": "stdout",
     "output_type": "stream",
     "text": [
      "DeviceProtection\n"
     ]
    },
    {
     "data": {
      "image/png": "[encoded data removed]",
      "text/plain": [
       "<Figure size 432x288 with 1 Axes>"
      ]
     },
     "metadata": {
      "needs_background": "light"
     },
     "output_type": "display_data"
    },
    {
     "name": "stdout",
     "output_type": "stream",
     "text": [
      "TechSupport\n"
     ]
    },
    {
     "data": {
      "image/png": "[encoded data removed]",
      "text/plain": [
       "<Figure size 432x288 with 1 Axes>"
      ]
     },
     "metadata": {
      "needs_background": "light"
     },
     "output_type": "display_data"
    },
    {
     "name": "stdout",
     "output_type": "stream",
     "text": [
      "StreamingTV\n"
     ]
    },
    {
     "data": {
      "image/png": "[encoded data removed]",
      "text/plain": [
       "<Figure size 432x288 with 1 Axes>"
      ]
     },
     "metadata": {
      "needs_background": "light"
     },
     "output_type": "display_data"
    },
    {
     "name": "stdout",
     "output_type": "stream",
     "text": [
      "StreamingMovies\n"
     ]
    },
    {
     "data": {
      "image/png": "[encoded data removed]",
      "text/plain": [
       "<Figure size 432x288 with 1 Axes>"
      ]
     },
     "metadata": {
      "needs_background": "light"
     },
     "output_type": "display_data"
    },
    {
     "name": "stdout",
     "output_type": "stream",
     "text": [
      "MultipleLines\n"
     ]
    },
    {
     "data": {
      "image/png": "[encoded data removed]",
      "text/plain": [
       "<Figure size 432x288 with 1 Axes>"
      ]
     },
     "metadata": {
      "needs_background": "light"
     },
     "output_type": "display_data"
    }
   ],
   "source": [
    "df_internet_phone = df[['InternetService', 'OnlineSecurity', 'OnlineBackup', 'DeviceProtection', \n",
    "                        'TechSupport', 'StreamingTV', 'StreamingMovies', 'MultipleLines']]\n",
    "\n",
    "for value in df_internet_phone.columns.to_list():\n",
    "    df_internet_phone[value].hist(grid = True)\n",
    "    print(value)\n",
    "    plt.show()"
   ]
  },
  {
   "cell_type": "markdown",
   "id": "693f6d55",
   "metadata": {},
   "source": [
    "Из полученных диаграмм можно сделать выводы о том, что значений `Yes` гораздо меньше, чем `No`, при этом в большинстве случаев количество клиентов с подключенными услугами - 1/4, 1/3 от общего количества."
   ]
  },
  {
   "cell_type": "markdown",
   "id": "e06264bd",
   "metadata": {},
   "source": [
    "Проанализируем, какая корреляция между столбцом `TotalCharges` и ежемесячной оплатой, а также длительностью контракта. Так как оплата помесячная, переведем значения столбеца `contract_duration` в количество месяцев из кол-ва дней. После этого создадим столбец `Total_check`, который будет равен произведению `MonthlyCharges` на `contract_duration` и проверим корреляцию:"
   ]
  },
  {
   "cell_type": "code",
   "execution_count": 28,
   "id": "40b0262a",
   "metadata": {
    "scrolled": false
   },
   "outputs": [
    {
     "name": "stderr",
     "output_type": "stream",
     "text": [
      "C:\\Users\\USER\\anaconda3\\lib\\site-packages\\pandas\\core\\generic.py:5516: SettingWithCopyWarning: \n",
      "A value is trying to be set on a copy of a slice from a DataFrame.\n",
      "Try using .loc[row_indexer,col_indexer] = value instead\n",
      "\n",
      "See the caveats in the documentation: https://pandas.pydata.org/pandas-docs/stable/user_guide/indexing.html#returning-a-view-versus-a-copy\n",
      "  self[name] = value\n",
      "C:\\Users\\USER\\AppData\\Local\\Temp/ipykernel_213576/468999109.py:4: SettingWithCopyWarning: \n",
      "A value is trying to be set on a copy of a slice from a DataFrame.\n",
      "Try using .loc[row_indexer,col_indexer] = value instead\n",
      "\n",
      "See the caveats in the documentation: https://pandas.pydata.org/pandas-docs/stable/user_guide/indexing.html#returning-a-view-versus-a-copy\n",
      "  df_TotalCharges['Total'] = df_TotalCharges.MonthlyCharges * df_TotalCharges.contract_duration\n"
     ]
    },
    {
     "data": {
      "image/png": "[encoded data removed]",
      "text/plain": [
       "<Figure size 432x288 with 2 Axes>"
      ]
     },
     "metadata": {
      "needs_background": "light"
     },
     "output_type": "display_data"
    }
   ],
   "source": [
    "df_TotalCharges = df[['TotalCharges', 'MonthlyCharges', 'contract_duration']]\n",
    "df_TotalCharges.contract_duration = round(df_TotalCharges.contract_duration / 31)\n",
    "\n",
    "df_TotalCharges['Total'] = df_TotalCharges.MonthlyCharges * df_TotalCharges.contract_duration\n",
    "df_TotalCharges = df_TotalCharges.drop(['MonthlyCharges', 'contract_duration'], axis = 1)\n",
    "\n",
    "sns.heatmap(df_TotalCharges.corr(), annot = True);"
   ]
  },
  {
   "cell_type": "markdown",
   "id": "e34aa7b1",
   "metadata": {},
   "source": [
    "Корреляция между общей суммой и произведением ежемесячной оплаты на количество месяцев контракта - 1"
   ]
  },
  {
   "cell_type": "markdown",
   "id": "d65df21e",
   "metadata": {},
   "source": [
    "Проанализируем, какие столбцы информативны для обучения моделей, а какие избыточны или лишние.\n",
    "\n",
    "1. Столбец `customerID` - явно лишний, так как это индивидуальный номер клиента, не влияющий на его решение уйти; столбец можно удалить;\n",
    "2. Столбец `TotalCharges` - избыточный, так как его можно восстановить по продолжительности контракта и ежемесячной оплате; необходимо удалить, иначе он может привести к переобучению моделей;\n",
    "3. Столбец `EndDate` - фактически целевой признак; его необходимо видоизменить: строки `No` - на 1 (клиент остался), остальные - 0 (клиент ушел); также из-за изменения `EndDate` необходимо добавить столбец, в котором будет содержаться информация о продолжительности контракта: если клиент ушел, продолжительность - разница между `EndDate` и `BeginDate`, если остался - между `2020-02-01` и `BeginDate` (данные актуальны на 1 февраля 2020 года); этот столбец можем взять из исследовательского анализа, `contract_duration`;\n",
    "4. После добавления столбца `contract_duration` `BeginDate` также является избыточным (мы перешли от дат к продолжительности контрактов клиентов), его необходимо удалить;\n",
    "4. Столбцы с категориальными данными необходимо закодировать."
   ]
  },
  {
   "cell_type": "markdown",
   "id": "1e2d493a",
   "metadata": {},
   "source": [
    "Удалим столбцы `customerID` и `TotalCharges`:"
   ]
  },
  {
   "cell_type": "code",
   "execution_count": 29,
   "id": "aad29623",
   "metadata": {},
   "outputs": [],
   "source": [
    "df = df.drop(['customerID', 'TotalCharges'], axis = 1)"
   ]
  },
  {
   "cell_type": "markdown",
   "id": "17951ad5",
   "metadata": {},
   "source": [
    "Изменим столбец `EndDate`:"
   ]
  },
  {
   "cell_type": "code",
   "execution_count": 30,
   "id": "83ad9d0c",
   "metadata": {
    "scrolled": false
   },
   "outputs": [],
   "source": [
    "df.loc[df.EndDate == 'No', 'end_contract'] = 1\n",
    "df.loc[df.EndDate != 'No', 'end_contract'] = 0\n",
    "df = df.drop(['EndDate', 'BeginDate'], axis = 1)"
   ]
  },
  {
   "cell_type": "markdown",
   "id": "57d0e324",
   "metadata": {},
   "source": [
    "### 1.3 Разбиение признаков, кодировка, баланс классов"
   ]
  },
  {
   "cell_type": "markdown",
   "id": "20d92640",
   "metadata": {},
   "source": [
    "Определим значение `random_state`:"
   ]
  },
  {
   "cell_type": "code",
   "execution_count": 31,
   "id": "d5692ea5",
   "metadata": {},
   "outputs": [],
   "source": [
    "random_state = 171022"
   ]
  },
  {
   "cell_type": "markdown",
   "id": "3e446b07",
   "metadata": {},
   "source": [
    "Разделим датасет на целевой признак - `target` и остальные - `features`:"
   ]
  },
  {
   "cell_type": "code",
   "execution_count": 32,
   "id": "0c6d6047",
   "metadata": {},
   "outputs": [],
   "source": [
    "target = df.end_contract\n",
    "features = df.drop(['end_contract'], axis = 1)"
   ]
  },
  {
   "cell_type": "markdown",
   "id": "20272389",
   "metadata": {},
   "source": [
    "Разделим на обучающую выборку - `train` и тестовую - `test` в отношении `3 : 1` :"
   ]
  },
  {
   "cell_type": "code",
   "execution_count": 33,
   "id": "0f48562b",
   "metadata": {},
   "outputs": [],
   "source": [
    "features_train, features_test, target_train, target_test = train_test_split(\n",
    "                                features, target, test_size = 0.25, random_state = random_state, stratify = target)"
   ]
  },
  {
   "cell_type": "markdown",
   "id": "ef242363",
   "metadata": {},
   "source": [
    "Для всех численных признаков примем одинаковый масштаб:"
   ]
  },
  {
   "cell_type": "code",
   "execution_count": 34,
   "id": "99b028ef",
   "metadata": {},
   "outputs": [],
   "source": [
    "scaler = StandardScaler()\n",
    "numeric_columns = ['MonthlyCharges', 'contract_duration']\n",
    "\n",
    "scaler.fit(features_train[numeric_columns])\n",
    "pd.options.mode.chained_assignment = None\n",
    "\n",
    "features_train[numeric_columns] = scaler.transform(features_train[numeric_columns])\n",
    "features_test[numeric_columns] = scaler.transform(features_test[numeric_columns])"
   ]
  },
  {
   "cell_type": "markdown",
   "id": "1b3dbaf9",
   "metadata": {},
   "source": [
    "Закодируем все категориальные признаки техникой OrdinalEncoder:"
   ]
  },
  {
   "cell_type": "code",
   "execution_count": 35,
   "id": "a34876a1",
   "metadata": {},
   "outputs": [],
   "source": [
    "features_train = features_train.reset_index(drop = True)\n",
    "features_test = features_test.reset_index(drop = True)\n",
    "target_train = target_train.reset_index(drop = True)\n",
    "target_test = target_test.reset_index(drop = True)\n",
    "\n",
    "categorial_columns = ['Type', 'PaperlessBilling', 'PaymentMethod', \n",
    "                       'gender', 'SeniorCitizen', 'Partner', 'Dependents',\n",
    "                       'InternetService', 'OnlineSecurity', 'OnlineBackup', 'DeviceProtection',\n",
    "                       'TechSupport', 'StreamingTV', 'StreamingMovies', 'MultipleLines']\n",
    "\n",
    "encoder = OrdinalEncoder()\n",
    "features_train[categorial_columns] = pd.DataFrame(encoder.fit_transform(features_train[categorial_columns]), \n",
    "                                                  columns = categorial_columns)\n",
    "features_test[categorial_columns] = pd.DataFrame(encoder.transform(features_test[categorial_columns]), \n",
    "                                                  columns = categorial_columns)"
   ]
  },
  {
   "cell_type": "markdown",
   "id": "a1e55d35",
   "metadata": {},
   "source": [
    "Проанализируем дисбаланс классов:"
   ]
  },
  {
   "cell_type": "code",
   "execution_count": 36,
   "id": "2d55688f",
   "metadata": {},
   "outputs": [
    {
     "name": "stdout",
     "output_type": "stream",
     "text": [
      "(5174,)\n",
      "(1869,)\n",
      "2.7683253076511503\n"
     ]
    }
   ],
   "source": [
    "df_ones = target[target == 1]\n",
    "df_zeros = target[target == 0]\n",
    "print(df_ones.shape)\n",
    "print(df_zeros.shape)\n",
    "print(df_ones.shape[0] / df_zeros.shape[0])"
   ]
  },
  {
   "cell_type": "markdown",
   "id": "78ab109d",
   "metadata": {},
   "source": [
    "Отношение единиц к нулям в целевом признаке примерно 2.77. Однако основной метрикой при обучении модели является `auc_roc`, влияние дисбаланса на которую не оказывает большого влияния. Поэтому можем не учитывать дисбаланс при подготовке признаков."
   ]
  },
  {
   "cell_type": "markdown",
   "id": "34dd7f5f",
   "metadata": {},
   "source": [
    "## 2. Обучение моделей и тестирование лучшей"
   ]
  },
  {
   "cell_type": "markdown",
   "id": "944c8d68",
   "metadata": {},
   "source": [
    "### 2.1 Модель RF"
   ]
  },
  {
   "cell_type": "markdown",
   "id": "e26aa2af",
   "metadata": {},
   "source": [
    "Создадим первую модель на алгоритме Random Forest. Введем перебор гиперпараметров:"
   ]
  },
  {
   "cell_type": "code",
   "execution_count": 37,
   "id": "9679e652",
   "metadata": {},
   "outputs": [],
   "source": [
    "set_numbers_RF = []\n",
    "[set_numbers_RF.append(index) for index in range(1, 25)]\n",
    "\n",
    "parameters_RF = {  \n",
    "    'max_depth' : set_numbers_RF,\n",
    "    'n_estimators' : set_numbers_RF\n",
    "}"
   ]
  },
  {
   "cell_type": "markdown",
   "id": "d973437b",
   "metadata": {},
   "source": [
    "Определим наиболее подходящие гиперпараметры модели, а также произведем кросс-валидацию на них"
   ]
  },
  {
   "cell_type": "code",
   "execution_count": 38,
   "id": "d63940b2",
   "metadata": {
    "scrolled": false
   },
   "outputs": [
    {
     "name": "stdout",
     "output_type": "stream",
     "text": [
      "Значения гиперпараметров:  {'max_depth': 6, 'n_estimators': 23}\n",
      "AUC-ROC:  0.8549580259020484\n",
      "Wall time: 9min 30s\n"
     ]
    }
   ],
   "source": [
    "%%time\n",
    "\n",
    "model_RF = RandomForestClassifier(random_state = random_state)\n",
    "model_RF_param = GridSearchCV(estimator = model_RF, param_grid = parameters_RF, cv = 5, \n",
    "                                    scoring = 'roc_auc')\n",
    "model_RF_param.fit(features_train, target_train)\n",
    "    \n",
    "print('Значения гиперпараметров: ', model_RF_param.best_params_)\n",
    "\n",
    "scores_model_RF = cross_val_score(model_RF_param, features_train, target_train, scoring = 'roc_auc', cv = 3)\n",
    "scores_model_RF_result = scores_model_RF.sum() / len(scores_model_RF)\n",
    "print('AUC-ROC: ', scores_model_RF_result)"
   ]
  },
  {
   "cell_type": "markdown",
   "id": "124b81d9",
   "metadata": {},
   "source": [
    "### 2.2 Модель LightGBM"
   ]
  },
  {
   "cell_type": "markdown",
   "id": "6a8608d0",
   "metadata": {},
   "source": [
    "Создадим модель на алгоритме LightGBM. Введем перебор гиперпараметров:"
   ]
  },
  {
   "cell_type": "code",
   "execution_count": 39,
   "id": "63993566",
   "metadata": {},
   "outputs": [],
   "source": [
    "set_numbers_LGBM = []\n",
    "[set_numbers_LGBM.append(index) for index in range(1, 25)]\n",
    "\n",
    "parameters_LGBM = {  \n",
    "    'max_depth' : set_numbers_LGBM,\n",
    "    'n_estimators' : set_numbers_LGBM\n",
    "}"
   ]
  },
  {
   "cell_type": "markdown",
   "id": "8d4de5a2",
   "metadata": {},
   "source": [
    "Определим наиболее подходящие гиперпараметры модели, а также произведем кросс-валидацию на них"
   ]
  },
  {
   "cell_type": "code",
   "execution_count": 40,
   "id": "1c8ed97d",
   "metadata": {},
   "outputs": [
    {
     "name": "stdout",
     "output_type": "stream",
     "text": [
      "Значения гиперпараметров:  {'max_depth': 16, 'n_estimators': 24}\n",
      "AUC-ROC:  0.8654688429844093\n",
      "Wall time: 3min 22s\n"
     ]
    }
   ],
   "source": [
    "%%time\n",
    "\n",
    "model_LGBM = LGBMClassifier()\n",
    "model_LGBM_param = GridSearchCV(estimator = model_LGBM, param_grid = parameters_LGBM, cv = 5, \n",
    "                                    scoring = 'roc_auc')\n",
    "model_LGBM_param.fit(features_train, target_train)\n",
    "    \n",
    "print('Значения гиперпараметров: ', model_LGBM_param.best_params_)\n",
    "\n",
    "scores_model_LGBM = cross_val_score(model_LGBM_param, features_train, target_train, scoring = 'roc_auc', cv = 3)\n",
    "scores_model_LGBM_result = scores_model_LGBM.sum() / len(scores_model_LGBM)\n",
    "print('AUC-ROC: ', scores_model_LGBM_result)"
   ]
  },
  {
   "cell_type": "markdown",
   "id": "ac5eda28",
   "metadata": {},
   "source": [
    "### 2.3 Тестирование лучшей модели"
   ]
  },
  {
   "cell_type": "markdown",
   "id": "a9502273",
   "metadata": {},
   "source": [
    "По результатам кросс-валидации лучшей моделью является `LightGBM`. Проверим ее качество на тестовых данных:"
   ]
  },
  {
   "cell_type": "code",
   "execution_count": 41,
   "id": "64ff8088",
   "metadata": {},
   "outputs": [
    {
     "name": "stdout",
     "output_type": "stream",
     "text": [
      "AUC-ROC:  0.8705630334702414\n"
     ]
    }
   ],
   "source": [
    "auc_roc_test = metrics.roc_auc_score(target_test, model_LGBM_param.predict_proba(features_test)[:, 1])\n",
    "print('AUC-ROC: ', auc_roc_test)"
   ]
  },
  {
   "cell_type": "markdown",
   "id": "69ccbf1e",
   "metadata": {},
   "source": [
    "## 3. Выводы"
   ]
  },
  {
   "cell_type": "markdown",
   "id": "849956b6",
   "metadata": {},
   "source": [
    "Таким образом, можно сделать следующие выводы:\n",
    "\n",
    "1. И модель RF, и модель LightGBM производят довольно точное предсказание, проверка на кросс-валидации: RF - 0.8549, LightGMB - 0.8655;\n",
    "2. Модель RF обучается примерно в 3 раза дольше, чем LightGBM: RF - 9min 30s, LightGBM - 3min 22s;\n",
    "3. Качество лучшей модели на лучшей модели - LightGBM - оказалось выше, чем на кросс-валидации, и составляет 0.8706."
   ]
  },
  {
   "cell_type": "markdown",
   "id": "18cb1537",
   "metadata": {},
   "source": [
    "# Итоговый отчет"
   ]
  },
  {
   "cell_type": "markdown",
   "id": "d221d17a",
   "metadata": {},
   "source": [
    "В ходе выполнения работы были проведены исследовательский анализ данных, объединение таблиц в один датафрейм и на его основе создана и обучена модель, определяющая, остается ли клиент или уходит."
   ]
  },
  {
   "cell_type": "markdown",
   "id": "050d8f70",
   "metadata": {},
   "source": [
    "Исходя из намеченного плана и фактической работой по созданию модели, можем сделать выводы, что все пункты плана выполнены, а именно:\n",
    "\n",
    "1. Преобработка данных\n",
    "2. Исследовательский анализ данных\n",
    "3. Объединение таблиц, проверка на пропуски объединенного датафрейма\n",
    "4. Анализ объединенного датафрейма\n",
    "5. Разбиение признаков, кодировка, баланс классов\n",
    "6. Обучение моделей и тестирование лучшей"
   ]
  },
  {
   "cell_type": "markdown",
   "id": "7ba95d2b",
   "metadata": {},
   "source": [
    "Основной трудностью для создания модели, на мой взгляд, был именно анализ данных после объедидения таблиц: на первый взгляд сложно оценить, какие столбцы ключевые в создании модели, какие менее важные, какие даже стоит убрать или заменить из-за высокой вероятности переобучения. Основным методом при решении данной задачи была проверка корреляции между соответствующими столбцами, а также оценка по графиками распределения данных."
   ]
  },
  {
   "cell_type": "markdown",
   "id": "9158842b",
   "metadata": {},
   "source": [
    "В процессе решения ключевыми, на мой взгляд, были следующие шаги:\n",
    "1. Анализ данных объединенного датафрейма, так как очень важно проанализировать столбцы перед обучением модели;\n",
    "2. Поиск наилучших гиперпараметров и кросс-валидация для обучения модели;\n",
    "3. Тестирование лучшей из полученных моделей на тестовой выборке, так как мы получаем представление, как будет вести себя модель на незивестных ранее ей данных.\n",
    "\n",
    "Все они были успешно преодолены в ходе решения задачи."
   ]
  },
  {
   "cell_type": "markdown",
   "id": "c47c954f",
   "metadata": {},
   "source": [
    "Итоговой моделью была принята модель LightGBM с качеством на кросс-валидации - 0.8655, а на тестовой выборке - 0.8706, при этом затраченное время на обучение модели состовило 3 минуты 22 секунды."
   ]
  }
 ],
 "metadata": {
  "ExecuteTimeLog": [
   {
    "duration": 1348,
    "start_time": "2022-10-22T15:22:35.195Z"
   },
   {
    "duration": 444,
    "start_time": "2022-10-22T15:22:36.549Z"
   },
   {
    "duration": 16,
    "start_time": "2022-10-22T15:22:36.998Z"
   },
   {
    "duration": 17,
    "start_time": "2022-10-22T15:22:37.015Z"
   },
   {
    "duration": 11,
    "start_time": "2022-10-22T15:22:37.035Z"
   },
   {
    "duration": 7,
    "start_time": "2022-10-22T15:22:37.048Z"
   },
   {
    "duration": 6,
    "start_time": "2022-10-22T15:22:37.057Z"
   },
   {
    "duration": 75,
    "start_time": "2022-10-22T15:22:37.065Z"
   },
   {
    "duration": 22,
    "start_time": "2022-10-22T15:22:37.147Z"
   },
   {
    "duration": 30,
    "start_time": "2022-10-22T15:22:37.172Z"
   },
   {
    "duration": 26,
    "start_time": "2022-10-22T15:22:37.204Z"
   },
   {
    "duration": 33,
    "start_time": "2022-10-22T15:22:37.231Z"
   },
   {
    "duration": 13,
    "start_time": "2022-10-22T15:22:37.267Z"
   },
   {
    "duration": 478,
    "start_time": "2022-10-22T15:22:37.282Z"
   },
   {
    "duration": 22,
    "start_time": "2022-10-22T15:22:37.762Z"
   },
   {
    "duration": 12,
    "start_time": "2022-10-22T15:22:37.786Z"
   },
   {
    "duration": 44,
    "start_time": "2022-10-22T15:22:37.800Z"
   },
   {
    "duration": 12,
    "start_time": "2022-10-22T15:22:37.846Z"
   },
   {
    "duration": 460,
    "start_time": "2022-10-22T15:22:37.860Z"
   },
   {
    "duration": 72,
    "start_time": "2022-10-22T15:31:34.956Z"
   },
   {
    "duration": 1305,
    "start_time": "2022-10-25T07:12:56.473Z"
   },
   {
    "duration": 311,
    "start_time": "2022-10-25T07:12:57.780Z"
   },
   {
    "duration": 16,
    "start_time": "2022-10-25T07:12:58.092Z"
   },
   {
    "duration": 39,
    "start_time": "2022-10-25T07:12:58.111Z"
   },
   {
    "duration": 15,
    "start_time": "2022-10-25T07:12:58.153Z"
   },
   {
    "duration": 18,
    "start_time": "2022-10-25T07:12:58.170Z"
   },
   {
    "duration": 7,
    "start_time": "2022-10-25T07:12:58.190Z"
   },
   {
    "duration": 74,
    "start_time": "2022-10-25T07:12:58.198Z"
   },
   {
    "duration": 17,
    "start_time": "2022-10-25T07:12:58.274Z"
   },
   {
    "duration": 47,
    "start_time": "2022-10-25T07:12:58.294Z"
   },
   {
    "duration": 10,
    "start_time": "2022-10-25T07:12:58.343Z"
   },
   {
    "duration": 35,
    "start_time": "2022-10-25T07:12:58.355Z"
   },
   {
    "duration": 16,
    "start_time": "2022-10-25T07:12:58.392Z"
   },
   {
    "duration": 206,
    "start_time": "2022-10-25T07:12:58.411Z"
   },
   {
    "duration": 146,
    "start_time": "2022-10-25T07:12:58.619Z"
   },
   {
    "duration": 23,
    "start_time": "2022-10-25T07:12:58.767Z"
   },
   {
    "duration": 13,
    "start_time": "2022-10-25T07:12:58.792Z"
   },
   {
    "duration": 39,
    "start_time": "2022-10-25T07:12:58.807Z"
   },
   {
    "duration": 13,
    "start_time": "2022-10-25T07:12:58.848Z"
   },
   {
    "duration": 447,
    "start_time": "2022-10-25T07:12:58.862Z"
   },
   {
    "duration": 473,
    "start_time": "2022-10-25T07:12:59.311Z"
   },
   {
    "duration": 85,
    "start_time": "2022-10-25T07:12:59.786Z"
   },
   {
    "duration": 31,
    "start_time": "2022-10-25T07:12:59.873Z"
   },
   {
    "duration": 15,
    "start_time": "2022-10-25T07:12:59.906Z"
   },
   {
    "duration": 50,
    "start_time": "2022-10-25T07:12:59.923Z"
   },
   {
    "duration": 7,
    "start_time": "2022-10-25T07:12:59.975Z"
   },
   {
    "duration": 17,
    "start_time": "2022-10-25T07:12:59.984Z"
   },
   {
    "duration": 26,
    "start_time": "2022-10-25T07:13:00.006Z"
   },
   {
    "duration": 24,
    "start_time": "2022-10-25T07:13:00.034Z"
   },
   {
    "duration": 15,
    "start_time": "2022-10-25T07:13:00.060Z"
   },
   {
    "duration": 42,
    "start_time": "2022-10-25T07:13:00.077Z"
   },
   {
    "duration": 16,
    "start_time": "2022-10-25T07:13:00.121Z"
   },
   {
    "duration": 31,
    "start_time": "2022-10-25T07:13:00.138Z"
   },
   {
    "duration": 14,
    "start_time": "2022-10-25T07:13:00.170Z"
   },
   {
    "duration": 46,
    "start_time": "2022-10-25T07:13:00.186Z"
   },
   {
    "duration": 6,
    "start_time": "2022-10-25T07:13:00.234Z"
   },
   {
    "duration": 25,
    "start_time": "2022-10-25T07:13:00.241Z"
   },
   {
    "duration": 17,
    "start_time": "2022-10-25T07:13:00.267Z"
   },
   {
    "duration": 18,
    "start_time": "2022-10-25T07:13:00.285Z"
   },
   {
    "duration": 24,
    "start_time": "2022-10-25T07:13:00.305Z"
   },
   {
    "duration": 18,
    "start_time": "2022-10-25T07:13:00.331Z"
   },
   {
    "duration": 155322,
    "start_time": "2022-10-25T07:13:00.351Z"
   },
   {
    "duration": 220,
    "start_time": "2022-10-25T07:15:35.675Z"
   },
   {
    "duration": 274,
    "start_time": "2022-10-25T07:15:35.897Z"
   },
   {
    "duration": 3,
    "start_time": "2022-10-25T07:15:36.173Z"
   },
   {
    "duration": 1073,
    "start_time": "2022-10-25T07:16:32.157Z"
   },
   {
    "duration": 112,
    "start_time": "2022-10-25T07:16:33.232Z"
   },
   {
    "duration": 16,
    "start_time": "2022-10-25T07:16:33.346Z"
   },
   {
    "duration": 23,
    "start_time": "2022-10-25T07:16:33.364Z"
   },
   {
    "duration": 20,
    "start_time": "2022-10-25T07:16:33.389Z"
   },
   {
    "duration": 26,
    "start_time": "2022-10-25T07:16:33.411Z"
   },
   {
    "duration": 26,
    "start_time": "2022-10-25T07:16:33.438Z"
   },
   {
    "duration": 70,
    "start_time": "2022-10-25T07:16:33.465Z"
   },
   {
    "duration": 14,
    "start_time": "2022-10-25T07:16:33.537Z"
   },
   {
    "duration": 28,
    "start_time": "2022-10-25T07:16:33.553Z"
   },
   {
    "duration": 27,
    "start_time": "2022-10-25T07:16:33.583Z"
   },
   {
    "duration": 24,
    "start_time": "2022-10-25T07:16:33.611Z"
   },
   {
    "duration": 19,
    "start_time": "2022-10-25T07:16:33.637Z"
   },
   {
    "duration": 162,
    "start_time": "2022-10-25T07:16:33.658Z"
   },
   {
    "duration": 134,
    "start_time": "2022-10-25T07:16:33.822Z"
   },
   {
    "duration": 22,
    "start_time": "2022-10-25T07:16:33.957Z"
   },
   {
    "duration": 36,
    "start_time": "2022-10-25T07:16:33.981Z"
   },
   {
    "duration": 32,
    "start_time": "2022-10-25T07:16:34.019Z"
   },
   {
    "duration": 26,
    "start_time": "2022-10-25T07:16:34.052Z"
   },
   {
    "duration": 446,
    "start_time": "2022-10-25T07:16:34.080Z"
   },
   {
    "duration": 400,
    "start_time": "2022-10-25T07:16:34.528Z"
   },
   {
    "duration": 90,
    "start_time": "2022-10-25T07:16:34.929Z"
   },
   {
    "duration": 24,
    "start_time": "2022-10-25T07:16:35.021Z"
   },
   {
    "duration": 20,
    "start_time": "2022-10-25T07:16:35.047Z"
   },
   {
    "duration": 70,
    "start_time": "2022-10-25T07:16:35.068Z"
   },
   {
    "duration": 5,
    "start_time": "2022-10-25T07:16:35.140Z"
   },
   {
    "duration": 16,
    "start_time": "2022-10-25T07:16:35.147Z"
   },
   {
    "duration": 20,
    "start_time": "2022-10-25T07:16:35.166Z"
   },
   {
    "duration": 17,
    "start_time": "2022-10-25T07:16:35.187Z"
   },
   {
    "duration": 15,
    "start_time": "2022-10-25T07:16:35.206Z"
   },
   {
    "duration": 7,
    "start_time": "2022-10-25T07:16:35.223Z"
   },
   {
    "duration": 10,
    "start_time": "2022-10-25T07:16:35.231Z"
   },
   {
    "duration": 10,
    "start_time": "2022-10-25T07:16:35.242Z"
   },
   {
    "duration": 4,
    "start_time": "2022-10-25T07:16:35.254Z"
   },
   {
    "duration": 35,
    "start_time": "2022-10-25T07:16:35.259Z"
   },
   {
    "duration": 5,
    "start_time": "2022-10-25T07:16:35.296Z"
   },
   {
    "duration": 9,
    "start_time": "2022-10-25T07:16:35.302Z"
   },
   {
    "duration": 9,
    "start_time": "2022-10-25T07:16:35.312Z"
   },
   {
    "duration": 4,
    "start_time": "2022-10-25T07:16:35.338Z"
   },
   {
    "duration": 14,
    "start_time": "2022-10-25T07:16:35.344Z"
   },
   {
    "duration": 5,
    "start_time": "2022-10-25T07:16:35.360Z"
   },
   {
    "duration": 154972,
    "start_time": "2022-10-25T07:16:35.366Z"
   },
   {
    "duration": 219,
    "start_time": "2022-10-25T07:19:10.340Z"
   },
   {
    "duration": 225,
    "start_time": "2022-10-25T07:19:10.560Z"
   },
   {
    "duration": 4,
    "start_time": "2022-10-25T07:19:10.786Z"
   },
   {
    "duration": 1054,
    "start_time": "2022-10-25T07:25:22.289Z"
   },
   {
    "duration": 105,
    "start_time": "2022-10-25T07:25:23.345Z"
   },
   {
    "duration": 14,
    "start_time": "2022-10-25T07:25:23.452Z"
   },
   {
    "duration": 11,
    "start_time": "2022-10-25T07:25:23.468Z"
   },
   {
    "duration": 10,
    "start_time": "2022-10-25T07:25:23.480Z"
   },
   {
    "duration": 9,
    "start_time": "2022-10-25T07:25:23.491Z"
   },
   {
    "duration": 6,
    "start_time": "2022-10-25T07:25:23.501Z"
   },
   {
    "duration": 65,
    "start_time": "2022-10-25T07:25:23.508Z"
   },
   {
    "duration": 14,
    "start_time": "2022-10-25T07:25:23.575Z"
   },
   {
    "duration": 21,
    "start_time": "2022-10-25T07:25:23.591Z"
   },
   {
    "duration": 27,
    "start_time": "2022-10-25T07:25:23.613Z"
   },
   {
    "duration": 22,
    "start_time": "2022-10-25T07:25:23.642Z"
   },
   {
    "duration": 14,
    "start_time": "2022-10-25T07:25:23.666Z"
   },
   {
    "duration": 164,
    "start_time": "2022-10-25T07:25:23.681Z"
   },
   {
    "duration": 137,
    "start_time": "2022-10-25T07:25:23.846Z"
   },
   {
    "duration": 21,
    "start_time": "2022-10-25T07:25:23.984Z"
   },
   {
    "duration": 9,
    "start_time": "2022-10-25T07:25:24.007Z"
   },
   {
    "duration": 28,
    "start_time": "2022-10-25T07:25:24.018Z"
   },
   {
    "duration": 12,
    "start_time": "2022-10-25T07:25:24.048Z"
   },
   {
    "duration": 379,
    "start_time": "2022-10-25T07:25:24.061Z"
   },
   {
    "duration": 464,
    "start_time": "2022-10-25T07:25:24.442Z"
   },
   {
    "duration": 84,
    "start_time": "2022-10-25T07:25:24.908Z"
   },
   {
    "duration": 27,
    "start_time": "2022-10-25T07:25:24.993Z"
   },
   {
    "duration": 13,
    "start_time": "2022-10-25T07:25:25.022Z"
   },
   {
    "duration": 10,
    "start_time": "2022-10-25T07:25:25.036Z"
   },
   {
    "duration": 19,
    "start_time": "2022-10-25T07:25:25.047Z"
   },
   {
    "duration": 18,
    "start_time": "2022-10-25T07:25:25.067Z"
   },
   {
    "duration": 27,
    "start_time": "2022-10-25T07:25:25.088Z"
   },
   {
    "duration": 12,
    "start_time": "2022-10-25T07:25:25.116Z"
   },
   {
    "duration": 7,
    "start_time": "2022-10-25T07:25:25.129Z"
   },
   {
    "duration": 14,
    "start_time": "2022-10-25T07:25:25.138Z"
   },
   {
    "duration": 24,
    "start_time": "2022-10-25T07:25:25.154Z"
   },
   {
    "duration": 34,
    "start_time": "2022-10-25T07:25:25.179Z"
   },
   {
    "duration": 47,
    "start_time": "2022-10-25T07:25:25.214Z"
   },
   {
    "duration": 43,
    "start_time": "2022-10-25T07:25:25.262Z"
   },
   {
    "duration": 25,
    "start_time": "2022-10-25T07:25:25.307Z"
   },
   {
    "duration": 19,
    "start_time": "2022-10-25T07:25:25.333Z"
   },
   {
    "duration": 22,
    "start_time": "2022-10-25T07:25:25.354Z"
   },
   {
    "duration": 12,
    "start_time": "2022-10-25T07:25:25.378Z"
   },
   {
    "duration": 18,
    "start_time": "2022-10-25T07:25:25.391Z"
   },
   {
    "duration": 11,
    "start_time": "2022-10-25T07:25:25.411Z"
   },
   {
    "duration": 152094,
    "start_time": "2022-10-25T07:25:25.424Z"
   },
   {
    "duration": 231,
    "start_time": "2022-10-25T07:27:57.520Z"
   },
   {
    "duration": 228,
    "start_time": "2022-10-25T07:27:57.753Z"
   },
   {
    "duration": 4,
    "start_time": "2022-10-25T07:27:57.982Z"
   },
   {
    "duration": 1068464,
    "start_time": "2022-10-25T07:27:57.987Z"
   },
   {
    "duration": 513,
    "start_time": "2022-10-25T07:45:46.452Z"
   },
   {
    "duration": 6,
    "start_time": "2022-10-25T07:45:46.966Z"
   },
   {
    "duration": 37,
    "start_time": "2022-10-25T07:45:46.973Z"
   },
   {
    "duration": 1101,
    "start_time": "2022-10-27T13:04:59.457Z"
   },
   {
    "duration": 113,
    "start_time": "2022-10-27T13:05:00.559Z"
   },
   {
    "duration": 14,
    "start_time": "2022-10-27T13:05:00.674Z"
   },
   {
    "duration": 23,
    "start_time": "2022-10-27T13:05:00.689Z"
   },
   {
    "duration": 38,
    "start_time": "2022-10-27T13:05:00.714Z"
   },
   {
    "duration": 25,
    "start_time": "2022-10-27T13:05:00.754Z"
   },
   {
    "duration": 32,
    "start_time": "2022-10-27T13:05:00.781Z"
   },
   {
    "duration": 94,
    "start_time": "2022-10-27T13:05:00.814Z"
   },
   {
    "duration": 16,
    "start_time": "2022-10-27T13:05:00.909Z"
   },
   {
    "duration": 32,
    "start_time": "2022-10-27T13:05:00.929Z"
   },
   {
    "duration": 10,
    "start_time": "2022-10-27T13:05:00.963Z"
   },
   {
    "duration": 37,
    "start_time": "2022-10-27T13:05:00.975Z"
   },
   {
    "duration": 14,
    "start_time": "2022-10-27T13:05:01.014Z"
   },
   {
    "duration": 155,
    "start_time": "2022-10-27T13:05:01.029Z"
   },
   {
    "duration": 137,
    "start_time": "2022-10-27T13:05:01.186Z"
   },
   {
    "duration": 22,
    "start_time": "2022-10-27T13:05:01.325Z"
   },
   {
    "duration": 10,
    "start_time": "2022-10-27T13:05:01.348Z"
   },
   {
    "duration": 40,
    "start_time": "2022-10-27T13:05:01.360Z"
   },
   {
    "duration": 22,
    "start_time": "2022-10-27T13:05:01.402Z"
   },
   {
    "duration": 395,
    "start_time": "2022-10-27T13:05:01.426Z"
   },
   {
    "duration": 468,
    "start_time": "2022-10-27T13:05:01.823Z"
   },
   {
    "duration": 84,
    "start_time": "2022-10-27T13:05:02.293Z"
   },
   {
    "duration": 30,
    "start_time": "2022-10-27T13:05:02.379Z"
   },
   {
    "duration": 28,
    "start_time": "2022-10-27T13:05:02.411Z"
   },
   {
    "duration": 20,
    "start_time": "2022-10-27T13:05:02.441Z"
   },
   {
    "duration": 19,
    "start_time": "2022-10-27T13:05:02.463Z"
   },
   {
    "duration": 828,
    "start_time": "2022-10-27T13:05:02.483Z"
   },
   {
    "duration": 247,
    "start_time": "2022-10-27T13:05:03.314Z"
   },
   {
    "duration": 5,
    "start_time": "2022-10-27T13:05:03.562Z"
   },
   {
    "duration": 29,
    "start_time": "2022-10-27T13:05:03.569Z"
   },
   {
    "duration": 29,
    "start_time": "2022-10-27T13:05:03.600Z"
   },
   {
    "duration": 21,
    "start_time": "2022-10-27T13:05:03.630Z"
   },
   {
    "duration": 32,
    "start_time": "2022-10-27T13:05:03.653Z"
   },
   {
    "duration": 62,
    "start_time": "2022-10-27T13:05:03.687Z"
   },
   {
    "duration": 53,
    "start_time": "2022-10-27T13:05:03.751Z"
   },
   {
    "duration": 89,
    "start_time": "2022-10-27T13:05:03.806Z"
   },
   {
    "duration": 6,
    "start_time": "2022-10-27T13:05:03.896Z"
   },
   {
    "duration": 7,
    "start_time": "2022-10-27T13:05:03.904Z"
   }
  ],
  "kernelspec": {
   "display_name": "Python 3 (ipykernel)",
   "language": "python",
   "name": "python3"
  },
  "language_info": {
   "codemirror_mode": {
    "name": "ipython",
    "version": 3
   },
   "file_extension": ".py",
   "mimetype": "text/x-python",
   "name": "python",
   "nbconvert_exporter": "python",
   "pygments_lexer": "ipython3",
   "version": "3.9.7"
  },
  "toc": {
   "base_numbering": 1,
   "nav_menu": {},
   "number_sections": true,
   "sideBar": true,
   "skip_h1_title": true,
   "title_cell": "Table of Contents",
   "title_sidebar": "Contents",
   "toc_cell": false,
   "toc_position": {},
   "toc_section_display": true,
   "toc_window_display": false
  }
 },
 "nbformat": 4,
 "nbformat_minor": 5
}
