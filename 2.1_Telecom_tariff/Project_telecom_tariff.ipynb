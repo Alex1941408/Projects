{
 "cells": [
  {
   "cell_type": "markdown",
   "metadata": {},
   "source": [
    "## Открытие файлов с данными и изучние общей информации"
   ]
  },
  {
   "cell_type": "markdown",
   "metadata": {},
   "source": [
    "Для начала создадим 5 датафреймов с информацией о пользователях, их звонках, интернет-сессиях, сообщениях, тарифах:"
   ]
  },
  {
   "cell_type": "code",
   "execution_count": 1,
   "metadata": {},
   "outputs": [],
   "source": [
    "import pandas as pd\n",
    "import numpy as np\n",
    "import matplotlib.pyplot as plt\n",
    "import math\n",
    "import scipy.stats as st\n",
    "\n",
    "\n",
    "df_calls = pd.read_csv('/datasets/calls.csv')\n",
    "df_internet = pd.read_csv('/datasets/internet.csv')\n",
    "df_messages = pd.read_csv('/datasets/messages.csv')\n",
    "df_tariffs = pd.read_csv('/datasets/tariffs.csv')\n",
    "df_users = pd.read_csv('/datasets/users.csv')"
   ]
  },
  {
   "cell_type": "markdown",
   "metadata": {},
   "source": [
    "## Подготовка данных"
   ]
  },
  {
   "cell_type": "markdown",
   "metadata": {},
   "source": [
    "### Приведение данных к нужным типам, исправление ошибок"
   ]
  },
  {
   "cell_type": "markdown",
   "metadata": {},
   "source": [
    "Откроем файл `df_calls` с информацией о звонках и проанализируем его:"
   ]
  },
  {
   "cell_type": "code",
   "execution_count": 2,
   "metadata": {},
   "outputs": [
    {
     "name": "stdout",
     "output_type": "stream",
     "text": [
      "<class 'pandas.core.frame.DataFrame'>\n",
      "RangeIndex: 202607 entries, 0 to 202606\n",
      "Data columns (total 4 columns):\n",
      " #   Column     Non-Null Count   Dtype  \n",
      "---  ------     --------------   -----  \n",
      " 0   id         202607 non-null  object \n",
      " 1   call_date  202607 non-null  object \n",
      " 2   duration   202607 non-null  float64\n",
      " 3   user_id    202607 non-null  int64  \n",
      "dtypes: float64(1), int64(1), object(2)\n",
      "memory usage: 6.2+ MB\n"
     ]
    },
    {
     "data": {
      "text/html": [
       "<div>\n",
       "<style scoped>\n",
       "    .dataframe tbody tr th:only-of-type {\n",
       "        vertical-align: middle;\n",
       "    }\n",
       "\n",
       "    .dataframe tbody tr th {\n",
       "        vertical-align: top;\n",
       "    }\n",
       "\n",
       "    .dataframe thead th {\n",
       "        text-align: right;\n",
       "    }\n",
       "</style>\n",
       "<table border=\"1\" class=\"dataframe\">\n",
       "  <thead>\n",
       "    <tr style=\"text-align: right;\">\n",
       "      <th></th>\n",
       "      <th>id</th>\n",
       "      <th>call_date</th>\n",
       "      <th>duration</th>\n",
       "      <th>user_id</th>\n",
       "    </tr>\n",
       "  </thead>\n",
       "  <tbody>\n",
       "    <tr>\n",
       "      <th>0</th>\n",
       "      <td>1000_0</td>\n",
       "      <td>2018-07-25</td>\n",
       "      <td>0.00</td>\n",
       "      <td>1000</td>\n",
       "    </tr>\n",
       "    <tr>\n",
       "      <th>1</th>\n",
       "      <td>1000_1</td>\n",
       "      <td>2018-08-17</td>\n",
       "      <td>0.00</td>\n",
       "      <td>1000</td>\n",
       "    </tr>\n",
       "    <tr>\n",
       "      <th>2</th>\n",
       "      <td>1000_2</td>\n",
       "      <td>2018-06-11</td>\n",
       "      <td>2.85</td>\n",
       "      <td>1000</td>\n",
       "    </tr>\n",
       "    <tr>\n",
       "      <th>3</th>\n",
       "      <td>1000_3</td>\n",
       "      <td>2018-09-21</td>\n",
       "      <td>13.80</td>\n",
       "      <td>1000</td>\n",
       "    </tr>\n",
       "    <tr>\n",
       "      <th>4</th>\n",
       "      <td>1000_4</td>\n",
       "      <td>2018-12-15</td>\n",
       "      <td>5.18</td>\n",
       "      <td>1000</td>\n",
       "    </tr>\n",
       "    <tr>\n",
       "      <th>5</th>\n",
       "      <td>1000_5</td>\n",
       "      <td>2018-11-02</td>\n",
       "      <td>0.00</td>\n",
       "      <td>1000</td>\n",
       "    </tr>\n",
       "    <tr>\n",
       "      <th>6</th>\n",
       "      <td>1000_6</td>\n",
       "      <td>2018-10-18</td>\n",
       "      <td>0.00</td>\n",
       "      <td>1000</td>\n",
       "    </tr>\n",
       "    <tr>\n",
       "      <th>7</th>\n",
       "      <td>1000_7</td>\n",
       "      <td>2018-08-22</td>\n",
       "      <td>18.31</td>\n",
       "      <td>1000</td>\n",
       "    </tr>\n",
       "    <tr>\n",
       "      <th>8</th>\n",
       "      <td>1000_8</td>\n",
       "      <td>2018-09-15</td>\n",
       "      <td>18.44</td>\n",
       "      <td>1000</td>\n",
       "    </tr>\n",
       "    <tr>\n",
       "      <th>9</th>\n",
       "      <td>1000_9</td>\n",
       "      <td>2018-08-15</td>\n",
       "      <td>0.00</td>\n",
       "      <td>1000</td>\n",
       "    </tr>\n",
       "  </tbody>\n",
       "</table>\n",
       "</div>"
      ],
      "text/plain": [
       "       id   call_date  duration  user_id\n",
       "0  1000_0  2018-07-25      0.00     1000\n",
       "1  1000_1  2018-08-17      0.00     1000\n",
       "2  1000_2  2018-06-11      2.85     1000\n",
       "3  1000_3  2018-09-21     13.80     1000\n",
       "4  1000_4  2018-12-15      5.18     1000\n",
       "5  1000_5  2018-11-02      0.00     1000\n",
       "6  1000_6  2018-10-18      0.00     1000\n",
       "7  1000_7  2018-08-22     18.31     1000\n",
       "8  1000_8  2018-09-15     18.44     1000\n",
       "9  1000_9  2018-08-15      0.00     1000"
      ]
     },
     "execution_count": 2,
     "metadata": {},
     "output_type": "execute_result"
    }
   ],
   "source": [
    "df_calls.info()\n",
    "df_calls.head(10)"
   ]
  },
  {
   "cell_type": "markdown",
   "metadata": {},
   "source": [
    "Приведем дату звонка к формату даты с помощью `to_datetime`. Работать с уникальным номером звонка удобнее в качестве числа, поэтому приведем тип этого столбца к `int64`:"
   ]
  },
  {
   "cell_type": "code",
   "execution_count": 3,
   "metadata": {},
   "outputs": [
    {
     "name": "stdout",
     "output_type": "stream",
     "text": [
      "<class 'pandas.core.frame.DataFrame'>\n",
      "RangeIndex: 202607 entries, 0 to 202606\n",
      "Data columns (total 4 columns):\n",
      " #   Column     Non-Null Count   Dtype         \n",
      "---  ------     --------------   -----         \n",
      " 0   id         202607 non-null  int64         \n",
      " 1   call_date  202607 non-null  datetime64[ns]\n",
      " 2   duration   202607 non-null  float64       \n",
      " 3   user_id    202607 non-null  int64         \n",
      "dtypes: datetime64[ns](1), float64(1), int64(2)\n",
      "memory usage: 6.2 MB\n"
     ]
    },
    {
     "data": {
      "text/html": [
       "<div>\n",
       "<style scoped>\n",
       "    .dataframe tbody tr th:only-of-type {\n",
       "        vertical-align: middle;\n",
       "    }\n",
       "\n",
       "    .dataframe tbody tr th {\n",
       "        vertical-align: top;\n",
       "    }\n",
       "\n",
       "    .dataframe thead th {\n",
       "        text-align: right;\n",
       "    }\n",
       "</style>\n",
       "<table border=\"1\" class=\"dataframe\">\n",
       "  <thead>\n",
       "    <tr style=\"text-align: right;\">\n",
       "      <th></th>\n",
       "      <th>id</th>\n",
       "      <th>call_date</th>\n",
       "      <th>duration</th>\n",
       "      <th>user_id</th>\n",
       "    </tr>\n",
       "  </thead>\n",
       "  <tbody>\n",
       "    <tr>\n",
       "      <th>0</th>\n",
       "      <td>10000</td>\n",
       "      <td>2018-07-25</td>\n",
       "      <td>0.00</td>\n",
       "      <td>1000</td>\n",
       "    </tr>\n",
       "    <tr>\n",
       "      <th>1</th>\n",
       "      <td>10001</td>\n",
       "      <td>2018-08-17</td>\n",
       "      <td>0.00</td>\n",
       "      <td>1000</td>\n",
       "    </tr>\n",
       "    <tr>\n",
       "      <th>2</th>\n",
       "      <td>10002</td>\n",
       "      <td>2018-06-11</td>\n",
       "      <td>2.85</td>\n",
       "      <td>1000</td>\n",
       "    </tr>\n",
       "    <tr>\n",
       "      <th>3</th>\n",
       "      <td>10003</td>\n",
       "      <td>2018-09-21</td>\n",
       "      <td>13.80</td>\n",
       "      <td>1000</td>\n",
       "    </tr>\n",
       "    <tr>\n",
       "      <th>4</th>\n",
       "      <td>10004</td>\n",
       "      <td>2018-12-15</td>\n",
       "      <td>5.18</td>\n",
       "      <td>1000</td>\n",
       "    </tr>\n",
       "    <tr>\n",
       "      <th>5</th>\n",
       "      <td>10005</td>\n",
       "      <td>2018-11-02</td>\n",
       "      <td>0.00</td>\n",
       "      <td>1000</td>\n",
       "    </tr>\n",
       "    <tr>\n",
       "      <th>6</th>\n",
       "      <td>10006</td>\n",
       "      <td>2018-10-18</td>\n",
       "      <td>0.00</td>\n",
       "      <td>1000</td>\n",
       "    </tr>\n",
       "    <tr>\n",
       "      <th>7</th>\n",
       "      <td>10007</td>\n",
       "      <td>2018-08-22</td>\n",
       "      <td>18.31</td>\n",
       "      <td>1000</td>\n",
       "    </tr>\n",
       "    <tr>\n",
       "      <th>8</th>\n",
       "      <td>10008</td>\n",
       "      <td>2018-09-15</td>\n",
       "      <td>18.44</td>\n",
       "      <td>1000</td>\n",
       "    </tr>\n",
       "    <tr>\n",
       "      <th>9</th>\n",
       "      <td>10009</td>\n",
       "      <td>2018-08-15</td>\n",
       "      <td>0.00</td>\n",
       "      <td>1000</td>\n",
       "    </tr>\n",
       "  </tbody>\n",
       "</table>\n",
       "</div>"
      ],
      "text/plain": [
       "      id  call_date  duration  user_id\n",
       "0  10000 2018-07-25      0.00     1000\n",
       "1  10001 2018-08-17      0.00     1000\n",
       "2  10002 2018-06-11      2.85     1000\n",
       "3  10003 2018-09-21     13.80     1000\n",
       "4  10004 2018-12-15      5.18     1000\n",
       "5  10005 2018-11-02      0.00     1000\n",
       "6  10006 2018-10-18      0.00     1000\n",
       "7  10007 2018-08-22     18.31     1000\n",
       "8  10008 2018-09-15     18.44     1000\n",
       "9  10009 2018-08-15      0.00     1000"
      ]
     },
     "execution_count": 3,
     "metadata": {},
     "output_type": "execute_result"
    }
   ],
   "source": [
    "df_calls['id'] = df_calls['id'].astype('int64')\n",
    "df_calls['call_date'] = pd.to_datetime(df_calls['call_date'], format = '%Y-%m-%d')\n",
    "\n",
    "df_calls.info()\n",
    "df_calls.head(10)"
   ]
  },
  {
   "cell_type": "code",
   "execution_count": 4,
   "metadata": {},
   "outputs": [
    {
     "data": {
      "text/html": [
       "<div>\n",
       "<style scoped>\n",
       "    .dataframe tbody tr th:only-of-type {\n",
       "        vertical-align: middle;\n",
       "    }\n",
       "\n",
       "    .dataframe tbody tr th {\n",
       "        vertical-align: top;\n",
       "    }\n",
       "\n",
       "    .dataframe thead th {\n",
       "        text-align: right;\n",
       "    }\n",
       "</style>\n",
       "<table border=\"1\" class=\"dataframe\">\n",
       "  <thead>\n",
       "    <tr style=\"text-align: right;\">\n",
       "      <th></th>\n",
       "      <th>id</th>\n",
       "      <th>call_date</th>\n",
       "      <th>duration</th>\n",
       "    </tr>\n",
       "    <tr>\n",
       "      <th>user_id</th>\n",
       "      <th></th>\n",
       "      <th></th>\n",
       "      <th></th>\n",
       "    </tr>\n",
       "  </thead>\n",
       "  <tbody>\n",
       "    <tr>\n",
       "      <th>1000</th>\n",
       "      <td>368</td>\n",
       "      <td>368</td>\n",
       "      <td>368</td>\n",
       "    </tr>\n",
       "    <tr>\n",
       "      <th>1001</th>\n",
       "      <td>122</td>\n",
       "      <td>122</td>\n",
       "      <td>122</td>\n",
       "    </tr>\n",
       "    <tr>\n",
       "      <th>1002</th>\n",
       "      <td>217</td>\n",
       "      <td>217</td>\n",
       "      <td>217</td>\n",
       "    </tr>\n",
       "    <tr>\n",
       "      <th>1003</th>\n",
       "      <td>520</td>\n",
       "      <td>520</td>\n",
       "      <td>520</td>\n",
       "    </tr>\n",
       "    <tr>\n",
       "      <th>1004</th>\n",
       "      <td>176</td>\n",
       "      <td>176</td>\n",
       "      <td>176</td>\n",
       "    </tr>\n",
       "    <tr>\n",
       "      <th>...</th>\n",
       "      <td>...</td>\n",
       "      <td>...</td>\n",
       "      <td>...</td>\n",
       "    </tr>\n",
       "    <tr>\n",
       "      <th>1495</th>\n",
       "      <td>565</td>\n",
       "      <td>565</td>\n",
       "      <td>565</td>\n",
       "    </tr>\n",
       "    <tr>\n",
       "      <th>1496</th>\n",
       "      <td>828</td>\n",
       "      <td>828</td>\n",
       "      <td>828</td>\n",
       "    </tr>\n",
       "    <tr>\n",
       "      <th>1497</th>\n",
       "      <td>201</td>\n",
       "      <td>201</td>\n",
       "      <td>201</td>\n",
       "    </tr>\n",
       "    <tr>\n",
       "      <th>1498</th>\n",
       "      <td>180</td>\n",
       "      <td>180</td>\n",
       "      <td>180</td>\n",
       "    </tr>\n",
       "    <tr>\n",
       "      <th>1499</th>\n",
       "      <td>220</td>\n",
       "      <td>220</td>\n",
       "      <td>220</td>\n",
       "    </tr>\n",
       "  </tbody>\n",
       "</table>\n",
       "<p>492 rows × 3 columns</p>\n",
       "</div>"
      ],
      "text/plain": [
       "          id  call_date  duration\n",
       "user_id                          \n",
       "1000     368        368       368\n",
       "1001     122        122       122\n",
       "1002     217        217       217\n",
       "1003     520        520       520\n",
       "1004     176        176       176\n",
       "...      ...        ...       ...\n",
       "1495     565        565       565\n",
       "1496     828        828       828\n",
       "1497     201        201       201\n",
       "1498     180        180       180\n",
       "1499     220        220       220\n",
       "\n",
       "[492 rows x 3 columns]"
      ]
     },
     "execution_count": 4,
     "metadata": {},
     "output_type": "execute_result"
    }
   ],
   "source": [
    "df_calls.groupby('user_id').count()"
   ]
  },
  {
   "cell_type": "markdown",
   "metadata": {},
   "source": [
    "Из полученного результата следует, что информация о звонках 8 пользователей отсутствует, однако в остальных значениях пропусков нет.\n",
    "\n",
    "Откроем файл `df_internet` и проанализируем его:"
   ]
  },
  {
   "cell_type": "code",
   "execution_count": 5,
   "metadata": {},
   "outputs": [
    {
     "name": "stdout",
     "output_type": "stream",
     "text": [
      "<class 'pandas.core.frame.DataFrame'>\n",
      "RangeIndex: 149396 entries, 0 to 149395\n",
      "Data columns (total 5 columns):\n",
      " #   Column        Non-Null Count   Dtype  \n",
      "---  ------        --------------   -----  \n",
      " 0   Unnamed: 0    149396 non-null  int64  \n",
      " 1   id            149396 non-null  object \n",
      " 2   mb_used       149396 non-null  float64\n",
      " 3   session_date  149396 non-null  object \n",
      " 4   user_id       149396 non-null  int64  \n",
      "dtypes: float64(1), int64(2), object(2)\n",
      "memory usage: 5.7+ MB\n"
     ]
    },
    {
     "data": {
      "text/html": [
       "<div>\n",
       "<style scoped>\n",
       "    .dataframe tbody tr th:only-of-type {\n",
       "        vertical-align: middle;\n",
       "    }\n",
       "\n",
       "    .dataframe tbody tr th {\n",
       "        vertical-align: top;\n",
       "    }\n",
       "\n",
       "    .dataframe thead th {\n",
       "        text-align: right;\n",
       "    }\n",
       "</style>\n",
       "<table border=\"1\" class=\"dataframe\">\n",
       "  <thead>\n",
       "    <tr style=\"text-align: right;\">\n",
       "      <th></th>\n",
       "      <th>Unnamed: 0</th>\n",
       "      <th>id</th>\n",
       "      <th>mb_used</th>\n",
       "      <th>session_date</th>\n",
       "      <th>user_id</th>\n",
       "    </tr>\n",
       "  </thead>\n",
       "  <tbody>\n",
       "    <tr>\n",
       "      <th>0</th>\n",
       "      <td>0</td>\n",
       "      <td>1000_0</td>\n",
       "      <td>112.95</td>\n",
       "      <td>2018-11-25</td>\n",
       "      <td>1000</td>\n",
       "    </tr>\n",
       "    <tr>\n",
       "      <th>1</th>\n",
       "      <td>1</td>\n",
       "      <td>1000_1</td>\n",
       "      <td>1052.81</td>\n",
       "      <td>2018-09-07</td>\n",
       "      <td>1000</td>\n",
       "    </tr>\n",
       "    <tr>\n",
       "      <th>2</th>\n",
       "      <td>2</td>\n",
       "      <td>1000_2</td>\n",
       "      <td>1197.26</td>\n",
       "      <td>2018-06-25</td>\n",
       "      <td>1000</td>\n",
       "    </tr>\n",
       "    <tr>\n",
       "      <th>3</th>\n",
       "      <td>3</td>\n",
       "      <td>1000_3</td>\n",
       "      <td>550.27</td>\n",
       "      <td>2018-08-22</td>\n",
       "      <td>1000</td>\n",
       "    </tr>\n",
       "    <tr>\n",
       "      <th>4</th>\n",
       "      <td>4</td>\n",
       "      <td>1000_4</td>\n",
       "      <td>302.56</td>\n",
       "      <td>2018-09-24</td>\n",
       "      <td>1000</td>\n",
       "    </tr>\n",
       "    <tr>\n",
       "      <th>5</th>\n",
       "      <td>5</td>\n",
       "      <td>1000_5</td>\n",
       "      <td>399.97</td>\n",
       "      <td>2018-10-02</td>\n",
       "      <td>1000</td>\n",
       "    </tr>\n",
       "    <tr>\n",
       "      <th>6</th>\n",
       "      <td>6</td>\n",
       "      <td>1000_6</td>\n",
       "      <td>540.08</td>\n",
       "      <td>2018-09-07</td>\n",
       "      <td>1000</td>\n",
       "    </tr>\n",
       "    <tr>\n",
       "      <th>7</th>\n",
       "      <td>7</td>\n",
       "      <td>1000_7</td>\n",
       "      <td>415.70</td>\n",
       "      <td>2018-07-11</td>\n",
       "      <td>1000</td>\n",
       "    </tr>\n",
       "    <tr>\n",
       "      <th>8</th>\n",
       "      <td>8</td>\n",
       "      <td>1000_8</td>\n",
       "      <td>505.40</td>\n",
       "      <td>2018-10-08</td>\n",
       "      <td>1000</td>\n",
       "    </tr>\n",
       "    <tr>\n",
       "      <th>9</th>\n",
       "      <td>9</td>\n",
       "      <td>1000_9</td>\n",
       "      <td>345.54</td>\n",
       "      <td>2018-09-03</td>\n",
       "      <td>1000</td>\n",
       "    </tr>\n",
       "  </tbody>\n",
       "</table>\n",
       "</div>"
      ],
      "text/plain": [
       "   Unnamed: 0      id  mb_used session_date  user_id\n",
       "0           0  1000_0   112.95   2018-11-25     1000\n",
       "1           1  1000_1  1052.81   2018-09-07     1000\n",
       "2           2  1000_2  1197.26   2018-06-25     1000\n",
       "3           3  1000_3   550.27   2018-08-22     1000\n",
       "4           4  1000_4   302.56   2018-09-24     1000\n",
       "5           5  1000_5   399.97   2018-10-02     1000\n",
       "6           6  1000_6   540.08   2018-09-07     1000\n",
       "7           7  1000_7   415.70   2018-07-11     1000\n",
       "8           8  1000_8   505.40   2018-10-08     1000\n",
       "9           9  1000_9   345.54   2018-09-03     1000"
      ]
     },
     "execution_count": 5,
     "metadata": {},
     "output_type": "execute_result"
    }
   ],
   "source": [
    "df_internet.info()\n",
    "df_internet.head(10)"
   ]
  },
  {
   "cell_type": "markdown",
   "metadata": {},
   "source": [
    "Как и в предыдущем столбце, приводим дату - к формату `datetime64[ns]`, уникальный номер сессии - к `int64`. Также можем заметить, что в данных появился столбец `Unnamed: 0`, значения которого дублируют порядковый номер строк - удалим его за ненадобностью:"
   ]
  },
  {
   "cell_type": "code",
   "execution_count": 6,
   "metadata": {},
   "outputs": [
    {
     "name": "stdout",
     "output_type": "stream",
     "text": [
      "<class 'pandas.core.frame.DataFrame'>\n",
      "RangeIndex: 149396 entries, 0 to 149395\n",
      "Data columns (total 4 columns):\n",
      " #   Column        Non-Null Count   Dtype         \n",
      "---  ------        --------------   -----         \n",
      " 0   id            149396 non-null  int64         \n",
      " 1   mb_used       149396 non-null  float64       \n",
      " 2   session_date  149396 non-null  datetime64[ns]\n",
      " 3   user_id       149396 non-null  int64         \n",
      "dtypes: datetime64[ns](1), float64(1), int64(2)\n",
      "memory usage: 4.6 MB\n"
     ]
    },
    {
     "data": {
      "text/html": [
       "<div>\n",
       "<style scoped>\n",
       "    .dataframe tbody tr th:only-of-type {\n",
       "        vertical-align: middle;\n",
       "    }\n",
       "\n",
       "    .dataframe tbody tr th {\n",
       "        vertical-align: top;\n",
       "    }\n",
       "\n",
       "    .dataframe thead th {\n",
       "        text-align: right;\n",
       "    }\n",
       "</style>\n",
       "<table border=\"1\" class=\"dataframe\">\n",
       "  <thead>\n",
       "    <tr style=\"text-align: right;\">\n",
       "      <th></th>\n",
       "      <th>id</th>\n",
       "      <th>mb_used</th>\n",
       "      <th>session_date</th>\n",
       "      <th>user_id</th>\n",
       "    </tr>\n",
       "  </thead>\n",
       "  <tbody>\n",
       "    <tr>\n",
       "      <th>0</th>\n",
       "      <td>10000</td>\n",
       "      <td>112.95</td>\n",
       "      <td>2018-11-25</td>\n",
       "      <td>1000</td>\n",
       "    </tr>\n",
       "    <tr>\n",
       "      <th>1</th>\n",
       "      <td>10001</td>\n",
       "      <td>1052.81</td>\n",
       "      <td>2018-09-07</td>\n",
       "      <td>1000</td>\n",
       "    </tr>\n",
       "    <tr>\n",
       "      <th>2</th>\n",
       "      <td>10002</td>\n",
       "      <td>1197.26</td>\n",
       "      <td>2018-06-25</td>\n",
       "      <td>1000</td>\n",
       "    </tr>\n",
       "    <tr>\n",
       "      <th>3</th>\n",
       "      <td>10003</td>\n",
       "      <td>550.27</td>\n",
       "      <td>2018-08-22</td>\n",
       "      <td>1000</td>\n",
       "    </tr>\n",
       "    <tr>\n",
       "      <th>4</th>\n",
       "      <td>10004</td>\n",
       "      <td>302.56</td>\n",
       "      <td>2018-09-24</td>\n",
       "      <td>1000</td>\n",
       "    </tr>\n",
       "    <tr>\n",
       "      <th>5</th>\n",
       "      <td>10005</td>\n",
       "      <td>399.97</td>\n",
       "      <td>2018-10-02</td>\n",
       "      <td>1000</td>\n",
       "    </tr>\n",
       "    <tr>\n",
       "      <th>6</th>\n",
       "      <td>10006</td>\n",
       "      <td>540.08</td>\n",
       "      <td>2018-09-07</td>\n",
       "      <td>1000</td>\n",
       "    </tr>\n",
       "    <tr>\n",
       "      <th>7</th>\n",
       "      <td>10007</td>\n",
       "      <td>415.70</td>\n",
       "      <td>2018-07-11</td>\n",
       "      <td>1000</td>\n",
       "    </tr>\n",
       "    <tr>\n",
       "      <th>8</th>\n",
       "      <td>10008</td>\n",
       "      <td>505.40</td>\n",
       "      <td>2018-10-08</td>\n",
       "      <td>1000</td>\n",
       "    </tr>\n",
       "    <tr>\n",
       "      <th>9</th>\n",
       "      <td>10009</td>\n",
       "      <td>345.54</td>\n",
       "      <td>2018-09-03</td>\n",
       "      <td>1000</td>\n",
       "    </tr>\n",
       "  </tbody>\n",
       "</table>\n",
       "</div>"
      ],
      "text/plain": [
       "      id  mb_used session_date  user_id\n",
       "0  10000   112.95   2018-11-25     1000\n",
       "1  10001  1052.81   2018-09-07     1000\n",
       "2  10002  1197.26   2018-06-25     1000\n",
       "3  10003   550.27   2018-08-22     1000\n",
       "4  10004   302.56   2018-09-24     1000\n",
       "5  10005   399.97   2018-10-02     1000\n",
       "6  10006   540.08   2018-09-07     1000\n",
       "7  10007   415.70   2018-07-11     1000\n",
       "8  10008   505.40   2018-10-08     1000\n",
       "9  10009   345.54   2018-09-03     1000"
      ]
     },
     "execution_count": 6,
     "metadata": {},
     "output_type": "execute_result"
    }
   ],
   "source": [
    "df_internet['id'] = df_internet['id'].astype('int64')\n",
    "df_internet['session_date'] = pd.to_datetime(df_internet['session_date'], format = '%Y-%m-%d')\n",
    "df_internet = df_internet[['id', 'mb_used', 'session_date', 'user_id']]\n",
    "\n",
    "df_internet.info()\n",
    "df_internet.head(10)"
   ]
  },
  {
   "cell_type": "code",
   "execution_count": 7,
   "metadata": {},
   "outputs": [
    {
     "data": {
      "text/html": [
       "<div>\n",
       "<style scoped>\n",
       "    .dataframe tbody tr th:only-of-type {\n",
       "        vertical-align: middle;\n",
       "    }\n",
       "\n",
       "    .dataframe tbody tr th {\n",
       "        vertical-align: top;\n",
       "    }\n",
       "\n",
       "    .dataframe thead th {\n",
       "        text-align: right;\n",
       "    }\n",
       "</style>\n",
       "<table border=\"1\" class=\"dataframe\">\n",
       "  <thead>\n",
       "    <tr style=\"text-align: right;\">\n",
       "      <th></th>\n",
       "      <th>id</th>\n",
       "      <th>mb_used</th>\n",
       "      <th>session_date</th>\n",
       "    </tr>\n",
       "    <tr>\n",
       "      <th>user_id</th>\n",
       "      <th></th>\n",
       "      <th></th>\n",
       "      <th></th>\n",
       "    </tr>\n",
       "  </thead>\n",
       "  <tbody>\n",
       "    <tr>\n",
       "      <th>1000</th>\n",
       "      <td>211</td>\n",
       "      <td>211</td>\n",
       "      <td>211</td>\n",
       "    </tr>\n",
       "    <tr>\n",
       "      <th>1001</th>\n",
       "      <td>96</td>\n",
       "      <td>96</td>\n",
       "      <td>96</td>\n",
       "    </tr>\n",
       "    <tr>\n",
       "      <th>1002</th>\n",
       "      <td>369</td>\n",
       "      <td>369</td>\n",
       "      <td>369</td>\n",
       "    </tr>\n",
       "    <tr>\n",
       "      <th>1003</th>\n",
       "      <td>104</td>\n",
       "      <td>104</td>\n",
       "      <td>104</td>\n",
       "    </tr>\n",
       "    <tr>\n",
       "      <th>1004</th>\n",
       "      <td>300</td>\n",
       "      <td>300</td>\n",
       "      <td>300</td>\n",
       "    </tr>\n",
       "    <tr>\n",
       "      <th>...</th>\n",
       "      <td>...</td>\n",
       "      <td>...</td>\n",
       "      <td>...</td>\n",
       "    </tr>\n",
       "    <tr>\n",
       "      <th>1495</th>\n",
       "      <td>254</td>\n",
       "      <td>254</td>\n",
       "      <td>254</td>\n",
       "    </tr>\n",
       "    <tr>\n",
       "      <th>1496</th>\n",
       "      <td>834</td>\n",
       "      <td>834</td>\n",
       "      <td>834</td>\n",
       "    </tr>\n",
       "    <tr>\n",
       "      <th>1497</th>\n",
       "      <td>121</td>\n",
       "      <td>121</td>\n",
       "      <td>121</td>\n",
       "    </tr>\n",
       "    <tr>\n",
       "      <th>1498</th>\n",
       "      <td>232</td>\n",
       "      <td>232</td>\n",
       "      <td>232</td>\n",
       "    </tr>\n",
       "    <tr>\n",
       "      <th>1499</th>\n",
       "      <td>157</td>\n",
       "      <td>157</td>\n",
       "      <td>157</td>\n",
       "    </tr>\n",
       "  </tbody>\n",
       "</table>\n",
       "<p>497 rows × 3 columns</p>\n",
       "</div>"
      ],
      "text/plain": [
       "          id  mb_used  session_date\n",
       "user_id                            \n",
       "1000     211      211           211\n",
       "1001      96       96            96\n",
       "1002     369      369           369\n",
       "1003     104      104           104\n",
       "1004     300      300           300\n",
       "...      ...      ...           ...\n",
       "1495     254      254           254\n",
       "1496     834      834           834\n",
       "1497     121      121           121\n",
       "1498     232      232           232\n",
       "1499     157      157           157\n",
       "\n",
       "[497 rows x 3 columns]"
      ]
     },
     "execution_count": 7,
     "metadata": {},
     "output_type": "execute_result"
    }
   ],
   "source": [
    "df_internet.groupby('user_id').count()"
   ]
  },
  {
   "cell_type": "markdown",
   "metadata": {},
   "source": [
    "Из полученного результата следует, что информация о интернет-сессиях 3 пользователей отсутствует, однако в остальных значениях пропусков нет.\n",
    "\n",
    "Откроем файл `df_messages` и проанализируем его:"
   ]
  },
  {
   "cell_type": "code",
   "execution_count": 8,
   "metadata": {},
   "outputs": [
    {
     "name": "stdout",
     "output_type": "stream",
     "text": [
      "<class 'pandas.core.frame.DataFrame'>\n",
      "RangeIndex: 123036 entries, 0 to 123035\n",
      "Data columns (total 3 columns):\n",
      " #   Column        Non-Null Count   Dtype \n",
      "---  ------        --------------   ----- \n",
      " 0   id            123036 non-null  object\n",
      " 1   message_date  123036 non-null  object\n",
      " 2   user_id       123036 non-null  int64 \n",
      "dtypes: int64(1), object(2)\n",
      "memory usage: 2.8+ MB\n"
     ]
    },
    {
     "data": {
      "text/html": [
       "<div>\n",
       "<style scoped>\n",
       "    .dataframe tbody tr th:only-of-type {\n",
       "        vertical-align: middle;\n",
       "    }\n",
       "\n",
       "    .dataframe tbody tr th {\n",
       "        vertical-align: top;\n",
       "    }\n",
       "\n",
       "    .dataframe thead th {\n",
       "        text-align: right;\n",
       "    }\n",
       "</style>\n",
       "<table border=\"1\" class=\"dataframe\">\n",
       "  <thead>\n",
       "    <tr style=\"text-align: right;\">\n",
       "      <th></th>\n",
       "      <th>id</th>\n",
       "      <th>message_date</th>\n",
       "      <th>user_id</th>\n",
       "    </tr>\n",
       "  </thead>\n",
       "  <tbody>\n",
       "    <tr>\n",
       "      <th>0</th>\n",
       "      <td>1000_0</td>\n",
       "      <td>2018-06-27</td>\n",
       "      <td>1000</td>\n",
       "    </tr>\n",
       "    <tr>\n",
       "      <th>1</th>\n",
       "      <td>1000_1</td>\n",
       "      <td>2018-10-08</td>\n",
       "      <td>1000</td>\n",
       "    </tr>\n",
       "    <tr>\n",
       "      <th>2</th>\n",
       "      <td>1000_2</td>\n",
       "      <td>2018-08-04</td>\n",
       "      <td>1000</td>\n",
       "    </tr>\n",
       "    <tr>\n",
       "      <th>3</th>\n",
       "      <td>1000_3</td>\n",
       "      <td>2018-06-16</td>\n",
       "      <td>1000</td>\n",
       "    </tr>\n",
       "    <tr>\n",
       "      <th>4</th>\n",
       "      <td>1000_4</td>\n",
       "      <td>2018-12-05</td>\n",
       "      <td>1000</td>\n",
       "    </tr>\n",
       "    <tr>\n",
       "      <th>5</th>\n",
       "      <td>1000_5</td>\n",
       "      <td>2018-06-20</td>\n",
       "      <td>1000</td>\n",
       "    </tr>\n",
       "    <tr>\n",
       "      <th>6</th>\n",
       "      <td>1000_6</td>\n",
       "      <td>2018-11-19</td>\n",
       "      <td>1000</td>\n",
       "    </tr>\n",
       "    <tr>\n",
       "      <th>7</th>\n",
       "      <td>1000_7</td>\n",
       "      <td>2018-10-29</td>\n",
       "      <td>1000</td>\n",
       "    </tr>\n",
       "    <tr>\n",
       "      <th>8</th>\n",
       "      <td>1000_8</td>\n",
       "      <td>2018-06-25</td>\n",
       "      <td>1000</td>\n",
       "    </tr>\n",
       "    <tr>\n",
       "      <th>9</th>\n",
       "      <td>1000_9</td>\n",
       "      <td>2018-12-18</td>\n",
       "      <td>1000</td>\n",
       "    </tr>\n",
       "  </tbody>\n",
       "</table>\n",
       "</div>"
      ],
      "text/plain": [
       "       id message_date  user_id\n",
       "0  1000_0   2018-06-27     1000\n",
       "1  1000_1   2018-10-08     1000\n",
       "2  1000_2   2018-08-04     1000\n",
       "3  1000_3   2018-06-16     1000\n",
       "4  1000_4   2018-12-05     1000\n",
       "5  1000_5   2018-06-20     1000\n",
       "6  1000_6   2018-11-19     1000\n",
       "7  1000_7   2018-10-29     1000\n",
       "8  1000_8   2018-06-25     1000\n",
       "9  1000_9   2018-12-18     1000"
      ]
     },
     "execution_count": 8,
     "metadata": {},
     "output_type": "execute_result"
    }
   ],
   "source": [
    "df_messages.info()\n",
    "df_messages.head(10)"
   ]
  },
  {
   "cell_type": "markdown",
   "metadata": {},
   "source": [
    "Как и в предыдущем столбце, приводим дату - к формату `datetime64[ns]`, уникальный номер сессии - к `int64`:"
   ]
  },
  {
   "cell_type": "code",
   "execution_count": 9,
   "metadata": {},
   "outputs": [
    {
     "name": "stdout",
     "output_type": "stream",
     "text": [
      "<class 'pandas.core.frame.DataFrame'>\n",
      "RangeIndex: 123036 entries, 0 to 123035\n",
      "Data columns (total 3 columns):\n",
      " #   Column        Non-Null Count   Dtype         \n",
      "---  ------        --------------   -----         \n",
      " 0   id            123036 non-null  int64         \n",
      " 1   message_date  123036 non-null  datetime64[ns]\n",
      " 2   user_id       123036 non-null  int64         \n",
      "dtypes: datetime64[ns](1), int64(2)\n",
      "memory usage: 2.8 MB\n"
     ]
    },
    {
     "data": {
      "text/html": [
       "<div>\n",
       "<style scoped>\n",
       "    .dataframe tbody tr th:only-of-type {\n",
       "        vertical-align: middle;\n",
       "    }\n",
       "\n",
       "    .dataframe tbody tr th {\n",
       "        vertical-align: top;\n",
       "    }\n",
       "\n",
       "    .dataframe thead th {\n",
       "        text-align: right;\n",
       "    }\n",
       "</style>\n",
       "<table border=\"1\" class=\"dataframe\">\n",
       "  <thead>\n",
       "    <tr style=\"text-align: right;\">\n",
       "      <th></th>\n",
       "      <th>id</th>\n",
       "      <th>message_date</th>\n",
       "      <th>user_id</th>\n",
       "    </tr>\n",
       "  </thead>\n",
       "  <tbody>\n",
       "    <tr>\n",
       "      <th>0</th>\n",
       "      <td>10000</td>\n",
       "      <td>2018-06-27</td>\n",
       "      <td>1000</td>\n",
       "    </tr>\n",
       "    <tr>\n",
       "      <th>1</th>\n",
       "      <td>10001</td>\n",
       "      <td>2018-10-08</td>\n",
       "      <td>1000</td>\n",
       "    </tr>\n",
       "    <tr>\n",
       "      <th>2</th>\n",
       "      <td>10002</td>\n",
       "      <td>2018-08-04</td>\n",
       "      <td>1000</td>\n",
       "    </tr>\n",
       "    <tr>\n",
       "      <th>3</th>\n",
       "      <td>10003</td>\n",
       "      <td>2018-06-16</td>\n",
       "      <td>1000</td>\n",
       "    </tr>\n",
       "    <tr>\n",
       "      <th>4</th>\n",
       "      <td>10004</td>\n",
       "      <td>2018-12-05</td>\n",
       "      <td>1000</td>\n",
       "    </tr>\n",
       "    <tr>\n",
       "      <th>5</th>\n",
       "      <td>10005</td>\n",
       "      <td>2018-06-20</td>\n",
       "      <td>1000</td>\n",
       "    </tr>\n",
       "    <tr>\n",
       "      <th>6</th>\n",
       "      <td>10006</td>\n",
       "      <td>2018-11-19</td>\n",
       "      <td>1000</td>\n",
       "    </tr>\n",
       "    <tr>\n",
       "      <th>7</th>\n",
       "      <td>10007</td>\n",
       "      <td>2018-10-29</td>\n",
       "      <td>1000</td>\n",
       "    </tr>\n",
       "    <tr>\n",
       "      <th>8</th>\n",
       "      <td>10008</td>\n",
       "      <td>2018-06-25</td>\n",
       "      <td>1000</td>\n",
       "    </tr>\n",
       "    <tr>\n",
       "      <th>9</th>\n",
       "      <td>10009</td>\n",
       "      <td>2018-12-18</td>\n",
       "      <td>1000</td>\n",
       "    </tr>\n",
       "  </tbody>\n",
       "</table>\n",
       "</div>"
      ],
      "text/plain": [
       "      id message_date  user_id\n",
       "0  10000   2018-06-27     1000\n",
       "1  10001   2018-10-08     1000\n",
       "2  10002   2018-08-04     1000\n",
       "3  10003   2018-06-16     1000\n",
       "4  10004   2018-12-05     1000\n",
       "5  10005   2018-06-20     1000\n",
       "6  10006   2018-11-19     1000\n",
       "7  10007   2018-10-29     1000\n",
       "8  10008   2018-06-25     1000\n",
       "9  10009   2018-12-18     1000"
      ]
     },
     "execution_count": 9,
     "metadata": {},
     "output_type": "execute_result"
    }
   ],
   "source": [
    "df_messages['id'] = df_messages['id'].astype('int64')\n",
    "df_messages['message_date'] = pd.to_datetime(df_messages['message_date'], format = '%Y-%m-%d')\n",
    "\n",
    "df_messages.info()\n",
    "df_messages.head(10)"
   ]
  },
  {
   "cell_type": "code",
   "execution_count": 10,
   "metadata": {},
   "outputs": [
    {
     "data": {
      "text/html": [
       "<div>\n",
       "<style scoped>\n",
       "    .dataframe tbody tr th:only-of-type {\n",
       "        vertical-align: middle;\n",
       "    }\n",
       "\n",
       "    .dataframe tbody tr th {\n",
       "        vertical-align: top;\n",
       "    }\n",
       "\n",
       "    .dataframe thead th {\n",
       "        text-align: right;\n",
       "    }\n",
       "</style>\n",
       "<table border=\"1\" class=\"dataframe\">\n",
       "  <thead>\n",
       "    <tr style=\"text-align: right;\">\n",
       "      <th></th>\n",
       "      <th>id</th>\n",
       "      <th>message_date</th>\n",
       "    </tr>\n",
       "    <tr>\n",
       "      <th>user_id</th>\n",
       "      <th></th>\n",
       "      <th></th>\n",
       "    </tr>\n",
       "  </thead>\n",
       "  <tbody>\n",
       "    <tr>\n",
       "      <th>1000</th>\n",
       "      <td>496</td>\n",
       "      <td>496</td>\n",
       "    </tr>\n",
       "    <tr>\n",
       "      <th>1002</th>\n",
       "      <td>70</td>\n",
       "      <td>70</td>\n",
       "    </tr>\n",
       "    <tr>\n",
       "      <th>1003</th>\n",
       "      <td>380</td>\n",
       "      <td>380</td>\n",
       "    </tr>\n",
       "    <tr>\n",
       "      <th>1004</th>\n",
       "      <td>1192</td>\n",
       "      <td>1192</td>\n",
       "    </tr>\n",
       "    <tr>\n",
       "      <th>1005</th>\n",
       "      <td>552</td>\n",
       "      <td>552</td>\n",
       "    </tr>\n",
       "    <tr>\n",
       "      <th>...</th>\n",
       "      <td>...</td>\n",
       "      <td>...</td>\n",
       "    </tr>\n",
       "    <tr>\n",
       "      <th>1495</th>\n",
       "      <td>340</td>\n",
       "      <td>340</td>\n",
       "    </tr>\n",
       "    <tr>\n",
       "      <th>1496</th>\n",
       "      <td>468</td>\n",
       "      <td>468</td>\n",
       "    </tr>\n",
       "    <tr>\n",
       "      <th>1497</th>\n",
       "      <td>51</td>\n",
       "      <td>51</td>\n",
       "    </tr>\n",
       "    <tr>\n",
       "      <th>1498</th>\n",
       "      <td>168</td>\n",
       "      <td>168</td>\n",
       "    </tr>\n",
       "    <tr>\n",
       "      <th>1499</th>\n",
       "      <td>184</td>\n",
       "      <td>184</td>\n",
       "    </tr>\n",
       "  </tbody>\n",
       "</table>\n",
       "<p>426 rows × 2 columns</p>\n",
       "</div>"
      ],
      "text/plain": [
       "           id  message_date\n",
       "user_id                    \n",
       "1000      496           496\n",
       "1002       70            70\n",
       "1003      380           380\n",
       "1004     1192          1192\n",
       "1005      552           552\n",
       "...       ...           ...\n",
       "1495      340           340\n",
       "1496      468           468\n",
       "1497       51            51\n",
       "1498      168           168\n",
       "1499      184           184\n",
       "\n",
       "[426 rows x 2 columns]"
      ]
     },
     "execution_count": 10,
     "metadata": {},
     "output_type": "execute_result"
    }
   ],
   "source": [
    "df_messages.groupby('user_id').count()"
   ]
  },
  {
   "cell_type": "markdown",
   "metadata": {},
   "source": [
    "Из полученного результата следует, что информация о сообщениях 74 пользователей отсутствует, однако в остальных значениях пропусков нет.\n",
    "\n",
    "Откроем файл `df_tariffs` и проанализируем его:"
   ]
  },
  {
   "cell_type": "code",
   "execution_count": 11,
   "metadata": {},
   "outputs": [
    {
     "name": "stdout",
     "output_type": "stream",
     "text": [
      "<class 'pandas.core.frame.DataFrame'>\n",
      "RangeIndex: 2 entries, 0 to 1\n",
      "Data columns (total 8 columns):\n",
      " #   Column                 Non-Null Count  Dtype \n",
      "---  ------                 --------------  ----- \n",
      " 0   messages_included      2 non-null      int64 \n",
      " 1   mb_per_month_included  2 non-null      int64 \n",
      " 2   minutes_included       2 non-null      int64 \n",
      " 3   rub_monthly_fee        2 non-null      int64 \n",
      " 4   rub_per_gb             2 non-null      int64 \n",
      " 5   rub_per_message        2 non-null      int64 \n",
      " 6   rub_per_minute         2 non-null      int64 \n",
      " 7   tariff_name            2 non-null      object\n",
      "dtypes: int64(7), object(1)\n",
      "memory usage: 256.0+ bytes\n"
     ]
    },
    {
     "data": {
      "text/html": [
       "<div>\n",
       "<style scoped>\n",
       "    .dataframe tbody tr th:only-of-type {\n",
       "        vertical-align: middle;\n",
       "    }\n",
       "\n",
       "    .dataframe tbody tr th {\n",
       "        vertical-align: top;\n",
       "    }\n",
       "\n",
       "    .dataframe thead th {\n",
       "        text-align: right;\n",
       "    }\n",
       "</style>\n",
       "<table border=\"1\" class=\"dataframe\">\n",
       "  <thead>\n",
       "    <tr style=\"text-align: right;\">\n",
       "      <th></th>\n",
       "      <th>messages_included</th>\n",
       "      <th>mb_per_month_included</th>\n",
       "      <th>minutes_included</th>\n",
       "      <th>rub_monthly_fee</th>\n",
       "      <th>rub_per_gb</th>\n",
       "      <th>rub_per_message</th>\n",
       "      <th>rub_per_minute</th>\n",
       "      <th>tariff_name</th>\n",
       "    </tr>\n",
       "  </thead>\n",
       "  <tbody>\n",
       "    <tr>\n",
       "      <th>0</th>\n",
       "      <td>50</td>\n",
       "      <td>15360</td>\n",
       "      <td>500</td>\n",
       "      <td>550</td>\n",
       "      <td>200</td>\n",
       "      <td>3</td>\n",
       "      <td>3</td>\n",
       "      <td>smart</td>\n",
       "    </tr>\n",
       "    <tr>\n",
       "      <th>1</th>\n",
       "      <td>1000</td>\n",
       "      <td>30720</td>\n",
       "      <td>3000</td>\n",
       "      <td>1950</td>\n",
       "      <td>150</td>\n",
       "      <td>1</td>\n",
       "      <td>1</td>\n",
       "      <td>ultra</td>\n",
       "    </tr>\n",
       "  </tbody>\n",
       "</table>\n",
       "</div>"
      ],
      "text/plain": [
       "   messages_included  mb_per_month_included  minutes_included  \\\n",
       "0                 50                  15360               500   \n",
       "1               1000                  30720              3000   \n",
       "\n",
       "   rub_monthly_fee  rub_per_gb  rub_per_message  rub_per_minute tariff_name  \n",
       "0              550         200                3               3       smart  \n",
       "1             1950         150                1               1       ultra  "
      ]
     },
     "execution_count": 11,
     "metadata": {},
     "output_type": "execute_result"
    }
   ],
   "source": [
    "df_tariffs.info()\n",
    "df_tariffs.head()"
   ]
  },
  {
   "cell_type": "markdown",
   "metadata": {},
   "source": [
    "Из полученного результата следует, пропусков, ошибок нет, информация корректна.\n",
    "\n",
    "Откроем файл `df_users` и проанализируем его:"
   ]
  },
  {
   "cell_type": "code",
   "execution_count": 12,
   "metadata": {},
   "outputs": [
    {
     "name": "stdout",
     "output_type": "stream",
     "text": [
      "<class 'pandas.core.frame.DataFrame'>\n",
      "RangeIndex: 500 entries, 0 to 499\n",
      "Data columns (total 8 columns):\n",
      " #   Column      Non-Null Count  Dtype \n",
      "---  ------      --------------  ----- \n",
      " 0   user_id     500 non-null    int64 \n",
      " 1   age         500 non-null    int64 \n",
      " 2   churn_date  38 non-null     object\n",
      " 3   city        500 non-null    object\n",
      " 4   first_name  500 non-null    object\n",
      " 5   last_name   500 non-null    object\n",
      " 6   reg_date    500 non-null    object\n",
      " 7   tariff      500 non-null    object\n",
      "dtypes: int64(2), object(6)\n",
      "memory usage: 31.4+ KB\n"
     ]
    },
    {
     "data": {
      "text/html": [
       "<div>\n",
       "<style scoped>\n",
       "    .dataframe tbody tr th:only-of-type {\n",
       "        vertical-align: middle;\n",
       "    }\n",
       "\n",
       "    .dataframe tbody tr th {\n",
       "        vertical-align: top;\n",
       "    }\n",
       "\n",
       "    .dataframe thead th {\n",
       "        text-align: right;\n",
       "    }\n",
       "</style>\n",
       "<table border=\"1\" class=\"dataframe\">\n",
       "  <thead>\n",
       "    <tr style=\"text-align: right;\">\n",
       "      <th></th>\n",
       "      <th>user_id</th>\n",
       "      <th>age</th>\n",
       "      <th>churn_date</th>\n",
       "      <th>city</th>\n",
       "      <th>first_name</th>\n",
       "      <th>last_name</th>\n",
       "      <th>reg_date</th>\n",
       "      <th>tariff</th>\n",
       "    </tr>\n",
       "  </thead>\n",
       "  <tbody>\n",
       "    <tr>\n",
       "      <th>0</th>\n",
       "      <td>1000</td>\n",
       "      <td>52</td>\n",
       "      <td>NaN</td>\n",
       "      <td>Краснодар</td>\n",
       "      <td>Рафаил</td>\n",
       "      <td>Верещагин</td>\n",
       "      <td>2018-05-25</td>\n",
       "      <td>ultra</td>\n",
       "    </tr>\n",
       "    <tr>\n",
       "      <th>1</th>\n",
       "      <td>1001</td>\n",
       "      <td>41</td>\n",
       "      <td>NaN</td>\n",
       "      <td>Москва</td>\n",
       "      <td>Иван</td>\n",
       "      <td>Ежов</td>\n",
       "      <td>2018-11-01</td>\n",
       "      <td>smart</td>\n",
       "    </tr>\n",
       "    <tr>\n",
       "      <th>2</th>\n",
       "      <td>1002</td>\n",
       "      <td>59</td>\n",
       "      <td>NaN</td>\n",
       "      <td>Стерлитамак</td>\n",
       "      <td>Евгений</td>\n",
       "      <td>Абрамович</td>\n",
       "      <td>2018-06-17</td>\n",
       "      <td>smart</td>\n",
       "    </tr>\n",
       "    <tr>\n",
       "      <th>3</th>\n",
       "      <td>1003</td>\n",
       "      <td>23</td>\n",
       "      <td>NaN</td>\n",
       "      <td>Москва</td>\n",
       "      <td>Белла</td>\n",
       "      <td>Белякова</td>\n",
       "      <td>2018-08-17</td>\n",
       "      <td>ultra</td>\n",
       "    </tr>\n",
       "    <tr>\n",
       "      <th>4</th>\n",
       "      <td>1004</td>\n",
       "      <td>68</td>\n",
       "      <td>NaN</td>\n",
       "      <td>Новокузнецк</td>\n",
       "      <td>Татьяна</td>\n",
       "      <td>Авдеенко</td>\n",
       "      <td>2018-05-14</td>\n",
       "      <td>ultra</td>\n",
       "    </tr>\n",
       "    <tr>\n",
       "      <th>5</th>\n",
       "      <td>1005</td>\n",
       "      <td>67</td>\n",
       "      <td>NaN</td>\n",
       "      <td>Набережные Челны</td>\n",
       "      <td>Афанасий</td>\n",
       "      <td>Горлов</td>\n",
       "      <td>2018-01-25</td>\n",
       "      <td>smart</td>\n",
       "    </tr>\n",
       "    <tr>\n",
       "      <th>6</th>\n",
       "      <td>1006</td>\n",
       "      <td>21</td>\n",
       "      <td>NaN</td>\n",
       "      <td>Ульяновск</td>\n",
       "      <td>Леонид</td>\n",
       "      <td>Ермолаев</td>\n",
       "      <td>2018-02-26</td>\n",
       "      <td>smart</td>\n",
       "    </tr>\n",
       "    <tr>\n",
       "      <th>7</th>\n",
       "      <td>1007</td>\n",
       "      <td>65</td>\n",
       "      <td>NaN</td>\n",
       "      <td>Москва</td>\n",
       "      <td>Юна</td>\n",
       "      <td>Березина</td>\n",
       "      <td>2018-04-19</td>\n",
       "      <td>smart</td>\n",
       "    </tr>\n",
       "    <tr>\n",
       "      <th>8</th>\n",
       "      <td>1008</td>\n",
       "      <td>63</td>\n",
       "      <td>NaN</td>\n",
       "      <td>Челябинск</td>\n",
       "      <td>Рустэм</td>\n",
       "      <td>Пономарёв</td>\n",
       "      <td>2018-12-19</td>\n",
       "      <td>smart</td>\n",
       "    </tr>\n",
       "    <tr>\n",
       "      <th>9</th>\n",
       "      <td>1009</td>\n",
       "      <td>24</td>\n",
       "      <td>NaN</td>\n",
       "      <td>Пермь</td>\n",
       "      <td>Василиса</td>\n",
       "      <td>Блинова</td>\n",
       "      <td>2018-03-22</td>\n",
       "      <td>smart</td>\n",
       "    </tr>\n",
       "  </tbody>\n",
       "</table>\n",
       "</div>"
      ],
      "text/plain": [
       "   user_id  age churn_date              city first_name  last_name  \\\n",
       "0     1000   52        NaN         Краснодар     Рафаил  Верещагин   \n",
       "1     1001   41        NaN            Москва       Иван       Ежов   \n",
       "2     1002   59        NaN       Стерлитамак    Евгений  Абрамович   \n",
       "3     1003   23        NaN            Москва      Белла   Белякова   \n",
       "4     1004   68        NaN       Новокузнецк    Татьяна   Авдеенко   \n",
       "5     1005   67        NaN  Набережные Челны   Афанасий     Горлов   \n",
       "6     1006   21        NaN         Ульяновск     Леонид   Ермолаев   \n",
       "7     1007   65        NaN            Москва        Юна   Березина   \n",
       "8     1008   63        NaN         Челябинск     Рустэм  Пономарёв   \n",
       "9     1009   24        NaN             Пермь   Василиса    Блинова   \n",
       "\n",
       "     reg_date tariff  \n",
       "0  2018-05-25  ultra  \n",
       "1  2018-11-01  smart  \n",
       "2  2018-06-17  smart  \n",
       "3  2018-08-17  ultra  \n",
       "4  2018-05-14  ultra  \n",
       "5  2018-01-25  smart  \n",
       "6  2018-02-26  smart  \n",
       "7  2018-04-19  smart  \n",
       "8  2018-12-19  smart  \n",
       "9  2018-03-22  smart  "
      ]
     },
     "execution_count": 12,
     "metadata": {},
     "output_type": "execute_result"
    }
   ],
   "source": [
    "df_users.info()\n",
    "df_users.head(10)"
   ]
  },
  {
   "cell_type": "markdown",
   "metadata": {},
   "source": [
    "Приводим дату к формату `datetime64[ns]`, а также посчитаем количество пользователей:"
   ]
  },
  {
   "cell_type": "code",
   "execution_count": 13,
   "metadata": {},
   "outputs": [],
   "source": [
    "df_users['reg_date'] = pd.to_datetime(df_users['reg_date'], format = '%Y-%m-%d')\n",
    "df_users['churn_date'] = pd.to_datetime(df_users['churn_date'], format = '%Y-%m-%d')"
   ]
  },
  {
   "cell_type": "code",
   "execution_count": 14,
   "metadata": {},
   "outputs": [
    {
     "data": {
      "text/plain": [
       "user_id       500\n",
       "age           500\n",
       "churn_date     38\n",
       "city          500\n",
       "first_name    500\n",
       "last_name     500\n",
       "reg_date      500\n",
       "tariff        500\n",
       "dtype: int64"
      ]
     },
     "execution_count": 14,
     "metadata": {},
     "output_type": "execute_result"
    }
   ],
   "source": [
    "df_users.count()"
   ]
  },
  {
   "cell_type": "markdown",
   "metadata": {},
   "source": [
    "Данные о всех пользователях корректные, все 500 пользователей есть в выборке. Пропусков нет, кроме столбца `churn_date`, в котором только есть только 38 значений. Однако ошибкой это не является, т.к. это означает, что остальные 464 пользователей не прекращали пользоваться тарифом на момент выгрузки данных."
   ]
  },
  {
   "cell_type": "markdown",
   "metadata": {},
   "source": [
    "Сделаем проверку на наличие дубликатов в датасетах:"
   ]
  },
  {
   "cell_type": "code",
   "execution_count": 15,
   "metadata": {
    "scrolled": true
   },
   "outputs": [
    {
     "data": {
      "text/plain": [
       "0"
      ]
     },
     "execution_count": 15,
     "metadata": {},
     "output_type": "execute_result"
    }
   ],
   "source": [
    "df_calls.duplicated().sum()"
   ]
  },
  {
   "cell_type": "code",
   "execution_count": 16,
   "metadata": {},
   "outputs": [
    {
     "data": {
      "text/plain": [
       "0"
      ]
     },
     "execution_count": 16,
     "metadata": {},
     "output_type": "execute_result"
    }
   ],
   "source": [
    "df_internet.duplicated().sum()"
   ]
  },
  {
   "cell_type": "code",
   "execution_count": 17,
   "metadata": {},
   "outputs": [
    {
     "data": {
      "text/plain": [
       "0"
      ]
     },
     "execution_count": 17,
     "metadata": {},
     "output_type": "execute_result"
    }
   ],
   "source": [
    "df_messages.duplicated().sum()"
   ]
  },
  {
   "cell_type": "code",
   "execution_count": 18,
   "metadata": {},
   "outputs": [
    {
     "data": {
      "text/plain": [
       "0"
      ]
     },
     "execution_count": 18,
     "metadata": {},
     "output_type": "execute_result"
    }
   ],
   "source": [
    "df_tariffs.duplicated().sum()"
   ]
  },
  {
   "cell_type": "code",
   "execution_count": 19,
   "metadata": {},
   "outputs": [
    {
     "data": {
      "text/plain": [
       "0"
      ]
     },
     "execution_count": 19,
     "metadata": {},
     "output_type": "execute_result"
    }
   ],
   "source": [
    "df_users.duplicated().sum()"
   ]
  },
  {
   "cell_type": "markdown",
   "metadata": {},
   "source": [
    "Из полученных результатов следует, что дубликаты в датасетах отсутствуют."
   ]
  },
  {
   "cell_type": "markdown",
   "metadata": {},
   "source": [
    "### Определение дополнительной информации о пользователях"
   ]
  },
  {
   "cell_type": "markdown",
   "metadata": {},
   "source": [
    "Необходимо определить помесячную выручку с каждого пользователя, которая состоит из абонентской платы и дополнительной платы за превышение тарифного плана.\n",
    "\n",
    "Для начала добавим в таблицы с информацией и звонках, интернет-сессии и сообщениях пользователя значения месяцев:"
   ]
  },
  {
   "cell_type": "code",
   "execution_count": 20,
   "metadata": {},
   "outputs": [],
   "source": [
    "df_calls['month'] = pd.DatetimeIndex(df_calls['call_date']).month\n",
    "df_internet['month'] = pd.DatetimeIndex(df_internet['session_date']).month\n",
    "df_messages['month'] = pd.DatetimeIndex(df_messages['message_date']).month"
   ]
  },
  {
   "cell_type": "markdown",
   "metadata": {},
   "source": [
    "Определим количество сделанных звонков по месяцам:"
   ]
  },
  {
   "cell_type": "code",
   "execution_count": 21,
   "metadata": {},
   "outputs": [
    {
     "data": {
      "text/html": [
       "<div>\n",
       "<style scoped>\n",
       "    .dataframe tbody tr th:only-of-type {\n",
       "        vertical-align: middle;\n",
       "    }\n",
       "\n",
       "    .dataframe tbody tr th {\n",
       "        vertical-align: top;\n",
       "    }\n",
       "\n",
       "    .dataframe thead th {\n",
       "        text-align: right;\n",
       "    }\n",
       "</style>\n",
       "<table border=\"1\" class=\"dataframe\">\n",
       "  <thead>\n",
       "    <tr style=\"text-align: right;\">\n",
       "      <th>month</th>\n",
       "      <th>1</th>\n",
       "      <th>2</th>\n",
       "      <th>3</th>\n",
       "      <th>4</th>\n",
       "      <th>5</th>\n",
       "      <th>6</th>\n",
       "      <th>7</th>\n",
       "      <th>8</th>\n",
       "      <th>9</th>\n",
       "      <th>10</th>\n",
       "      <th>11</th>\n",
       "      <th>12</th>\n",
       "    </tr>\n",
       "    <tr>\n",
       "      <th>user_id</th>\n",
       "      <th></th>\n",
       "      <th></th>\n",
       "      <th></th>\n",
       "      <th></th>\n",
       "      <th></th>\n",
       "      <th></th>\n",
       "      <th></th>\n",
       "      <th></th>\n",
       "      <th></th>\n",
       "      <th></th>\n",
       "      <th></th>\n",
       "      <th></th>\n",
       "    </tr>\n",
       "  </thead>\n",
       "  <tbody>\n",
       "    <tr>\n",
       "      <th>1000</th>\n",
       "      <td>NaN</td>\n",
       "      <td>NaN</td>\n",
       "      <td>NaN</td>\n",
       "      <td>NaN</td>\n",
       "      <td>22.0</td>\n",
       "      <td>43.0</td>\n",
       "      <td>47.0</td>\n",
       "      <td>52.0</td>\n",
       "      <td>58.0</td>\n",
       "      <td>57.0</td>\n",
       "      <td>43.0</td>\n",
       "      <td>46.0</td>\n",
       "    </tr>\n",
       "    <tr>\n",
       "      <th>1001</th>\n",
       "      <td>NaN</td>\n",
       "      <td>NaN</td>\n",
       "      <td>NaN</td>\n",
       "      <td>NaN</td>\n",
       "      <td>NaN</td>\n",
       "      <td>NaN</td>\n",
       "      <td>NaN</td>\n",
       "      <td>NaN</td>\n",
       "      <td>NaN</td>\n",
       "      <td>NaN</td>\n",
       "      <td>59.0</td>\n",
       "      <td>63.0</td>\n",
       "    </tr>\n",
       "    <tr>\n",
       "      <th>1002</th>\n",
       "      <td>NaN</td>\n",
       "      <td>NaN</td>\n",
       "      <td>NaN</td>\n",
       "      <td>NaN</td>\n",
       "      <td>NaN</td>\n",
       "      <td>15.0</td>\n",
       "      <td>26.0</td>\n",
       "      <td>42.0</td>\n",
       "      <td>36.0</td>\n",
       "      <td>33.0</td>\n",
       "      <td>32.0</td>\n",
       "      <td>33.0</td>\n",
       "    </tr>\n",
       "    <tr>\n",
       "      <th>1003</th>\n",
       "      <td>NaN</td>\n",
       "      <td>NaN</td>\n",
       "      <td>NaN</td>\n",
       "      <td>NaN</td>\n",
       "      <td>NaN</td>\n",
       "      <td>NaN</td>\n",
       "      <td>NaN</td>\n",
       "      <td>55.0</td>\n",
       "      <td>134.0</td>\n",
       "      <td>108.0</td>\n",
       "      <td>115.0</td>\n",
       "      <td>108.0</td>\n",
       "    </tr>\n",
       "    <tr>\n",
       "      <th>1004</th>\n",
       "      <td>NaN</td>\n",
       "      <td>NaN</td>\n",
       "      <td>NaN</td>\n",
       "      <td>NaN</td>\n",
       "      <td>9.0</td>\n",
       "      <td>31.0</td>\n",
       "      <td>22.0</td>\n",
       "      <td>19.0</td>\n",
       "      <td>26.0</td>\n",
       "      <td>29.0</td>\n",
       "      <td>19.0</td>\n",
       "      <td>21.0</td>\n",
       "    </tr>\n",
       "    <tr>\n",
       "      <th>...</th>\n",
       "      <td>...</td>\n",
       "      <td>...</td>\n",
       "      <td>...</td>\n",
       "      <td>...</td>\n",
       "      <td>...</td>\n",
       "      <td>...</td>\n",
       "      <td>...</td>\n",
       "      <td>...</td>\n",
       "      <td>...</td>\n",
       "      <td>...</td>\n",
       "      <td>...</td>\n",
       "      <td>...</td>\n",
       "    </tr>\n",
       "    <tr>\n",
       "      <th>1495</th>\n",
       "      <td>NaN</td>\n",
       "      <td>NaN</td>\n",
       "      <td>NaN</td>\n",
       "      <td>NaN</td>\n",
       "      <td>NaN</td>\n",
       "      <td>NaN</td>\n",
       "      <td>NaN</td>\n",
       "      <td>17.0</td>\n",
       "      <td>112.0</td>\n",
       "      <td>152.0</td>\n",
       "      <td>129.0</td>\n",
       "      <td>155.0</td>\n",
       "    </tr>\n",
       "    <tr>\n",
       "      <th>1496</th>\n",
       "      <td>7.0</td>\n",
       "      <td>77.0</td>\n",
       "      <td>79.0</td>\n",
       "      <td>67.0</td>\n",
       "      <td>63.0</td>\n",
       "      <td>74.0</td>\n",
       "      <td>73.0</td>\n",
       "      <td>88.0</td>\n",
       "      <td>68.0</td>\n",
       "      <td>72.0</td>\n",
       "      <td>80.0</td>\n",
       "      <td>80.0</td>\n",
       "    </tr>\n",
       "    <tr>\n",
       "      <th>1497</th>\n",
       "      <td>NaN</td>\n",
       "      <td>NaN</td>\n",
       "      <td>NaN</td>\n",
       "      <td>NaN</td>\n",
       "      <td>NaN</td>\n",
       "      <td>NaN</td>\n",
       "      <td>NaN</td>\n",
       "      <td>NaN</td>\n",
       "      <td>NaN</td>\n",
       "      <td>66.0</td>\n",
       "      <td>64.0</td>\n",
       "      <td>71.0</td>\n",
       "    </tr>\n",
       "    <tr>\n",
       "      <th>1498</th>\n",
       "      <td>NaN</td>\n",
       "      <td>NaN</td>\n",
       "      <td>NaN</td>\n",
       "      <td>NaN</td>\n",
       "      <td>NaN</td>\n",
       "      <td>NaN</td>\n",
       "      <td>23.0</td>\n",
       "      <td>57.0</td>\n",
       "      <td>59.0</td>\n",
       "      <td>41.0</td>\n",
       "      <td>NaN</td>\n",
       "      <td>NaN</td>\n",
       "    </tr>\n",
       "    <tr>\n",
       "      <th>1499</th>\n",
       "      <td>NaN</td>\n",
       "      <td>NaN</td>\n",
       "      <td>NaN</td>\n",
       "      <td>NaN</td>\n",
       "      <td>NaN</td>\n",
       "      <td>NaN</td>\n",
       "      <td>NaN</td>\n",
       "      <td>NaN</td>\n",
       "      <td>9.0</td>\n",
       "      <td>68.0</td>\n",
       "      <td>74.0</td>\n",
       "      <td>69.0</td>\n",
       "    </tr>\n",
       "  </tbody>\n",
       "</table>\n",
       "<p>492 rows × 12 columns</p>\n",
       "</div>"
      ],
      "text/plain": [
       "month     1     2     3     4     5     6     7     8      9      10     11  \\\n",
       "user_id                                                                       \n",
       "1000     NaN   NaN   NaN   NaN  22.0  43.0  47.0  52.0   58.0   57.0   43.0   \n",
       "1001     NaN   NaN   NaN   NaN   NaN   NaN   NaN   NaN    NaN    NaN   59.0   \n",
       "1002     NaN   NaN   NaN   NaN   NaN  15.0  26.0  42.0   36.0   33.0   32.0   \n",
       "1003     NaN   NaN   NaN   NaN   NaN   NaN   NaN  55.0  134.0  108.0  115.0   \n",
       "1004     NaN   NaN   NaN   NaN   9.0  31.0  22.0  19.0   26.0   29.0   19.0   \n",
       "...      ...   ...   ...   ...   ...   ...   ...   ...    ...    ...    ...   \n",
       "1495     NaN   NaN   NaN   NaN   NaN   NaN   NaN  17.0  112.0  152.0  129.0   \n",
       "1496     7.0  77.0  79.0  67.0  63.0  74.0  73.0  88.0   68.0   72.0   80.0   \n",
       "1497     NaN   NaN   NaN   NaN   NaN   NaN   NaN   NaN    NaN   66.0   64.0   \n",
       "1498     NaN   NaN   NaN   NaN   NaN   NaN  23.0  57.0   59.0   41.0    NaN   \n",
       "1499     NaN   NaN   NaN   NaN   NaN   NaN   NaN   NaN    9.0   68.0   74.0   \n",
       "\n",
       "month       12  \n",
       "user_id         \n",
       "1000      46.0  \n",
       "1001      63.0  \n",
       "1002      33.0  \n",
       "1003     108.0  \n",
       "1004      21.0  \n",
       "...        ...  \n",
       "1495     155.0  \n",
       "1496      80.0  \n",
       "1497      71.0  \n",
       "1498       NaN  \n",
       "1499      69.0  \n",
       "\n",
       "[492 rows x 12 columns]"
      ]
     },
     "execution_count": 21,
     "metadata": {},
     "output_type": "execute_result"
    }
   ],
   "source": [
    "df_calls_months = df_calls.pivot_table(index = 'user_id', values = 'id', columns = 'month', aggfunc = 'count')\n",
    "df_calls_months"
   ]
  },
  {
   "cell_type": "markdown",
   "metadata": {},
   "source": [
    "Для удобства работы с таблицей тарифного плана переименуем столбец с названием тарифа:"
   ]
  },
  {
   "cell_type": "code",
   "execution_count": 22,
   "metadata": {},
   "outputs": [],
   "source": [
    "df_tariffs = df_tariffs.rename(columns = {'tariff_name' : 'tariff'})"
   ]
  },
  {
   "cell_type": "markdown",
   "metadata": {},
   "source": [
    "Объединим таблицы с информацией о пользователях, их звонках, округленных по условию тарифа, а также таблицу с тарифами в одну - `df_calls_total`:"
   ]
  },
  {
   "cell_type": "code",
   "execution_count": 23,
   "metadata": {},
   "outputs": [
    {
     "data": {
      "text/html": [
       "<div>\n",
       "<style scoped>\n",
       "    .dataframe tbody tr th:only-of-type {\n",
       "        vertical-align: middle;\n",
       "    }\n",
       "\n",
       "    .dataframe tbody tr th {\n",
       "        vertical-align: top;\n",
       "    }\n",
       "\n",
       "    .dataframe thead th {\n",
       "        text-align: right;\n",
       "    }\n",
       "</style>\n",
       "<table border=\"1\" class=\"dataframe\">\n",
       "  <thead>\n",
       "    <tr style=\"text-align: right;\">\n",
       "      <th></th>\n",
       "      <th>id</th>\n",
       "      <th>call_date</th>\n",
       "      <th>duration</th>\n",
       "      <th>user_id</th>\n",
       "      <th>month</th>\n",
       "      <th>age</th>\n",
       "      <th>churn_date</th>\n",
       "      <th>city</th>\n",
       "      <th>first_name</th>\n",
       "      <th>last_name</th>\n",
       "      <th>reg_date</th>\n",
       "      <th>tariff</th>\n",
       "      <th>messages_included</th>\n",
       "      <th>mb_per_month_included</th>\n",
       "      <th>minutes_included</th>\n",
       "      <th>rub_monthly_fee</th>\n",
       "      <th>rub_per_gb</th>\n",
       "      <th>rub_per_message</th>\n",
       "      <th>rub_per_minute</th>\n",
       "    </tr>\n",
       "  </thead>\n",
       "  <tbody>\n",
       "    <tr>\n",
       "      <th>0</th>\n",
       "      <td>10000</td>\n",
       "      <td>2018-07-25</td>\n",
       "      <td>0.0</td>\n",
       "      <td>1000</td>\n",
       "      <td>7</td>\n",
       "      <td>52</td>\n",
       "      <td>NaT</td>\n",
       "      <td>Краснодар</td>\n",
       "      <td>Рафаил</td>\n",
       "      <td>Верещагин</td>\n",
       "      <td>2018-05-25</td>\n",
       "      <td>ultra</td>\n",
       "      <td>1000</td>\n",
       "      <td>30720</td>\n",
       "      <td>3000</td>\n",
       "      <td>1950</td>\n",
       "      <td>150</td>\n",
       "      <td>1</td>\n",
       "      <td>1</td>\n",
       "    </tr>\n",
       "    <tr>\n",
       "      <th>1</th>\n",
       "      <td>10001</td>\n",
       "      <td>2018-08-17</td>\n",
       "      <td>0.0</td>\n",
       "      <td>1000</td>\n",
       "      <td>8</td>\n",
       "      <td>52</td>\n",
       "      <td>NaT</td>\n",
       "      <td>Краснодар</td>\n",
       "      <td>Рафаил</td>\n",
       "      <td>Верещагин</td>\n",
       "      <td>2018-05-25</td>\n",
       "      <td>ultra</td>\n",
       "      <td>1000</td>\n",
       "      <td>30720</td>\n",
       "      <td>3000</td>\n",
       "      <td>1950</td>\n",
       "      <td>150</td>\n",
       "      <td>1</td>\n",
       "      <td>1</td>\n",
       "    </tr>\n",
       "    <tr>\n",
       "      <th>2</th>\n",
       "      <td>10002</td>\n",
       "      <td>2018-06-11</td>\n",
       "      <td>3.0</td>\n",
       "      <td>1000</td>\n",
       "      <td>6</td>\n",
       "      <td>52</td>\n",
       "      <td>NaT</td>\n",
       "      <td>Краснодар</td>\n",
       "      <td>Рафаил</td>\n",
       "      <td>Верещагин</td>\n",
       "      <td>2018-05-25</td>\n",
       "      <td>ultra</td>\n",
       "      <td>1000</td>\n",
       "      <td>30720</td>\n",
       "      <td>3000</td>\n",
       "      <td>1950</td>\n",
       "      <td>150</td>\n",
       "      <td>1</td>\n",
       "      <td>1</td>\n",
       "    </tr>\n",
       "    <tr>\n",
       "      <th>3</th>\n",
       "      <td>10003</td>\n",
       "      <td>2018-09-21</td>\n",
       "      <td>14.0</td>\n",
       "      <td>1000</td>\n",
       "      <td>9</td>\n",
       "      <td>52</td>\n",
       "      <td>NaT</td>\n",
       "      <td>Краснодар</td>\n",
       "      <td>Рафаил</td>\n",
       "      <td>Верещагин</td>\n",
       "      <td>2018-05-25</td>\n",
       "      <td>ultra</td>\n",
       "      <td>1000</td>\n",
       "      <td>30720</td>\n",
       "      <td>3000</td>\n",
       "      <td>1950</td>\n",
       "      <td>150</td>\n",
       "      <td>1</td>\n",
       "      <td>1</td>\n",
       "    </tr>\n",
       "    <tr>\n",
       "      <th>4</th>\n",
       "      <td>10004</td>\n",
       "      <td>2018-12-15</td>\n",
       "      <td>6.0</td>\n",
       "      <td>1000</td>\n",
       "      <td>12</td>\n",
       "      <td>52</td>\n",
       "      <td>NaT</td>\n",
       "      <td>Краснодар</td>\n",
       "      <td>Рафаил</td>\n",
       "      <td>Верещагин</td>\n",
       "      <td>2018-05-25</td>\n",
       "      <td>ultra</td>\n",
       "      <td>1000</td>\n",
       "      <td>30720</td>\n",
       "      <td>3000</td>\n",
       "      <td>1950</td>\n",
       "      <td>150</td>\n",
       "      <td>1</td>\n",
       "      <td>1</td>\n",
       "    </tr>\n",
       "    <tr>\n",
       "      <th>5</th>\n",
       "      <td>10005</td>\n",
       "      <td>2018-11-02</td>\n",
       "      <td>0.0</td>\n",
       "      <td>1000</td>\n",
       "      <td>11</td>\n",
       "      <td>52</td>\n",
       "      <td>NaT</td>\n",
       "      <td>Краснодар</td>\n",
       "      <td>Рафаил</td>\n",
       "      <td>Верещагин</td>\n",
       "      <td>2018-05-25</td>\n",
       "      <td>ultra</td>\n",
       "      <td>1000</td>\n",
       "      <td>30720</td>\n",
       "      <td>3000</td>\n",
       "      <td>1950</td>\n",
       "      <td>150</td>\n",
       "      <td>1</td>\n",
       "      <td>1</td>\n",
       "    </tr>\n",
       "    <tr>\n",
       "      <th>6</th>\n",
       "      <td>10006</td>\n",
       "      <td>2018-10-18</td>\n",
       "      <td>0.0</td>\n",
       "      <td>1000</td>\n",
       "      <td>10</td>\n",
       "      <td>52</td>\n",
       "      <td>NaT</td>\n",
       "      <td>Краснодар</td>\n",
       "      <td>Рафаил</td>\n",
       "      <td>Верещагин</td>\n",
       "      <td>2018-05-25</td>\n",
       "      <td>ultra</td>\n",
       "      <td>1000</td>\n",
       "      <td>30720</td>\n",
       "      <td>3000</td>\n",
       "      <td>1950</td>\n",
       "      <td>150</td>\n",
       "      <td>1</td>\n",
       "      <td>1</td>\n",
       "    </tr>\n",
       "    <tr>\n",
       "      <th>7</th>\n",
       "      <td>10007</td>\n",
       "      <td>2018-08-22</td>\n",
       "      <td>19.0</td>\n",
       "      <td>1000</td>\n",
       "      <td>8</td>\n",
       "      <td>52</td>\n",
       "      <td>NaT</td>\n",
       "      <td>Краснодар</td>\n",
       "      <td>Рафаил</td>\n",
       "      <td>Верещагин</td>\n",
       "      <td>2018-05-25</td>\n",
       "      <td>ultra</td>\n",
       "      <td>1000</td>\n",
       "      <td>30720</td>\n",
       "      <td>3000</td>\n",
       "      <td>1950</td>\n",
       "      <td>150</td>\n",
       "      <td>1</td>\n",
       "      <td>1</td>\n",
       "    </tr>\n",
       "    <tr>\n",
       "      <th>8</th>\n",
       "      <td>10008</td>\n",
       "      <td>2018-09-15</td>\n",
       "      <td>19.0</td>\n",
       "      <td>1000</td>\n",
       "      <td>9</td>\n",
       "      <td>52</td>\n",
       "      <td>NaT</td>\n",
       "      <td>Краснодар</td>\n",
       "      <td>Рафаил</td>\n",
       "      <td>Верещагин</td>\n",
       "      <td>2018-05-25</td>\n",
       "      <td>ultra</td>\n",
       "      <td>1000</td>\n",
       "      <td>30720</td>\n",
       "      <td>3000</td>\n",
       "      <td>1950</td>\n",
       "      <td>150</td>\n",
       "      <td>1</td>\n",
       "      <td>1</td>\n",
       "    </tr>\n",
       "    <tr>\n",
       "      <th>9</th>\n",
       "      <td>10009</td>\n",
       "      <td>2018-08-15</td>\n",
       "      <td>0.0</td>\n",
       "      <td>1000</td>\n",
       "      <td>8</td>\n",
       "      <td>52</td>\n",
       "      <td>NaT</td>\n",
       "      <td>Краснодар</td>\n",
       "      <td>Рафаил</td>\n",
       "      <td>Верещагин</td>\n",
       "      <td>2018-05-25</td>\n",
       "      <td>ultra</td>\n",
       "      <td>1000</td>\n",
       "      <td>30720</td>\n",
       "      <td>3000</td>\n",
       "      <td>1950</td>\n",
       "      <td>150</td>\n",
       "      <td>1</td>\n",
       "      <td>1</td>\n",
       "    </tr>\n",
       "  </tbody>\n",
       "</table>\n",
       "</div>"
      ],
      "text/plain": [
       "      id  call_date  duration  user_id  month  age churn_date       city  \\\n",
       "0  10000 2018-07-25       0.0     1000      7   52        NaT  Краснодар   \n",
       "1  10001 2018-08-17       0.0     1000      8   52        NaT  Краснодар   \n",
       "2  10002 2018-06-11       3.0     1000      6   52        NaT  Краснодар   \n",
       "3  10003 2018-09-21      14.0     1000      9   52        NaT  Краснодар   \n",
       "4  10004 2018-12-15       6.0     1000     12   52        NaT  Краснодар   \n",
       "5  10005 2018-11-02       0.0     1000     11   52        NaT  Краснодар   \n",
       "6  10006 2018-10-18       0.0     1000     10   52        NaT  Краснодар   \n",
       "7  10007 2018-08-22      19.0     1000      8   52        NaT  Краснодар   \n",
       "8  10008 2018-09-15      19.0     1000      9   52        NaT  Краснодар   \n",
       "9  10009 2018-08-15       0.0     1000      8   52        NaT  Краснодар   \n",
       "\n",
       "  first_name  last_name   reg_date tariff  messages_included  \\\n",
       "0     Рафаил  Верещагин 2018-05-25  ultra               1000   \n",
       "1     Рафаил  Верещагин 2018-05-25  ultra               1000   \n",
       "2     Рафаил  Верещагин 2018-05-25  ultra               1000   \n",
       "3     Рафаил  Верещагин 2018-05-25  ultra               1000   \n",
       "4     Рафаил  Верещагин 2018-05-25  ultra               1000   \n",
       "5     Рафаил  Верещагин 2018-05-25  ultra               1000   \n",
       "6     Рафаил  Верещагин 2018-05-25  ultra               1000   \n",
       "7     Рафаил  Верещагин 2018-05-25  ultra               1000   \n",
       "8     Рафаил  Верещагин 2018-05-25  ultra               1000   \n",
       "9     Рафаил  Верещагин 2018-05-25  ultra               1000   \n",
       "\n",
       "   mb_per_month_included  minutes_included  rub_monthly_fee  rub_per_gb  \\\n",
       "0                  30720              3000             1950         150   \n",
       "1                  30720              3000             1950         150   \n",
       "2                  30720              3000             1950         150   \n",
       "3                  30720              3000             1950         150   \n",
       "4                  30720              3000             1950         150   \n",
       "5                  30720              3000             1950         150   \n",
       "6                  30720              3000             1950         150   \n",
       "7                  30720              3000             1950         150   \n",
       "8                  30720              3000             1950         150   \n",
       "9                  30720              3000             1950         150   \n",
       "\n",
       "   rub_per_message  rub_per_minute  \n",
       "0                1               1  \n",
       "1                1               1  \n",
       "2                1               1  \n",
       "3                1               1  \n",
       "4                1               1  \n",
       "5                1               1  \n",
       "6                1               1  \n",
       "7                1               1  \n",
       "8                1               1  \n",
       "9                1               1  "
      ]
     },
     "execution_count": 23,
     "metadata": {},
     "output_type": "execute_result"
    }
   ],
   "source": [
    "df_calls_total = df_calls.merge(df_users, on = 'user_id')\n",
    "df_calls_total = df_calls_total.merge(df_tariffs, on = 'tariff')\n",
    "df_calls_total['duration'] = np.ceil(df_calls['duration'])\n",
    "df_calls_total.head(10)"
   ]
  },
  {
   "cell_type": "markdown",
   "metadata": {},
   "source": [
    "Создадим сводную таблицу с суммарной помесячной продолжительностью звонков пользователей `df_duration_total` и добавим в нее столбцы с информацией о ежемесячной абонентской плате в рублях, количестве минут разговора в месяц, включённых в абонентскую плату и о стоимости минуты разговора сверх тарифного пакета:"
   ]
  },
  {
   "cell_type": "code",
   "execution_count": 24,
   "metadata": {},
   "outputs": [
    {
     "data": {
      "text/html": [
       "<div>\n",
       "<style scoped>\n",
       "    .dataframe tbody tr th:only-of-type {\n",
       "        vertical-align: middle;\n",
       "    }\n",
       "\n",
       "    .dataframe tbody tr th {\n",
       "        vertical-align: top;\n",
       "    }\n",
       "\n",
       "    .dataframe thead th {\n",
       "        text-align: right;\n",
       "    }\n",
       "</style>\n",
       "<table border=\"1\" class=\"dataframe\">\n",
       "  <thead>\n",
       "    <tr style=\"text-align: right;\">\n",
       "      <th></th>\n",
       "      <th>user_id</th>\n",
       "      <th>1</th>\n",
       "      <th>2</th>\n",
       "      <th>3</th>\n",
       "      <th>4</th>\n",
       "      <th>5</th>\n",
       "      <th>6</th>\n",
       "      <th>7</th>\n",
       "      <th>8</th>\n",
       "      <th>9</th>\n",
       "      <th>10</th>\n",
       "      <th>11</th>\n",
       "      <th>12</th>\n",
       "      <th>minutes_included</th>\n",
       "      <th>rub_per_minute</th>\n",
       "      <th>rub_monthly_fee</th>\n",
       "    </tr>\n",
       "  </thead>\n",
       "  <tbody>\n",
       "    <tr>\n",
       "      <th>0</th>\n",
       "      <td>1000</td>\n",
       "      <td>NaN</td>\n",
       "      <td>NaN</td>\n",
       "      <td>NaN</td>\n",
       "      <td>NaN</td>\n",
       "      <td>159.0</td>\n",
       "      <td>172.0</td>\n",
       "      <td>340.0</td>\n",
       "      <td>408.0</td>\n",
       "      <td>466.0</td>\n",
       "      <td>350.0</td>\n",
       "      <td>338.0</td>\n",
       "      <td>333.0</td>\n",
       "      <td>3000</td>\n",
       "      <td>1</td>\n",
       "      <td>1950</td>\n",
       "    </tr>\n",
       "    <tr>\n",
       "      <th>1</th>\n",
       "      <td>1001</td>\n",
       "      <td>NaN</td>\n",
       "      <td>NaN</td>\n",
       "      <td>NaN</td>\n",
       "      <td>NaN</td>\n",
       "      <td>NaN</td>\n",
       "      <td>NaN</td>\n",
       "      <td>NaN</td>\n",
       "      <td>NaN</td>\n",
       "      <td>NaN</td>\n",
       "      <td>NaN</td>\n",
       "      <td>431.0</td>\n",
       "      <td>459.0</td>\n",
       "      <td>500</td>\n",
       "      <td>3</td>\n",
       "      <td>550</td>\n",
       "    </tr>\n",
       "    <tr>\n",
       "      <th>2</th>\n",
       "      <td>1002</td>\n",
       "      <td>NaN</td>\n",
       "      <td>NaN</td>\n",
       "      <td>NaN</td>\n",
       "      <td>NaN</td>\n",
       "      <td>NaN</td>\n",
       "      <td>102.0</td>\n",
       "      <td>184.0</td>\n",
       "      <td>308.0</td>\n",
       "      <td>249.0</td>\n",
       "      <td>178.0</td>\n",
       "      <td>222.0</td>\n",
       "      <td>216.0</td>\n",
       "      <td>500</td>\n",
       "      <td>3</td>\n",
       "      <td>550</td>\n",
       "    </tr>\n",
       "    <tr>\n",
       "      <th>3</th>\n",
       "      <td>1003</td>\n",
       "      <td>NaN</td>\n",
       "      <td>NaN</td>\n",
       "      <td>NaN</td>\n",
       "      <td>NaN</td>\n",
       "      <td>NaN</td>\n",
       "      <td>NaN</td>\n",
       "      <td>NaN</td>\n",
       "      <td>329.0</td>\n",
       "      <td>1052.0</td>\n",
       "      <td>766.0</td>\n",
       "      <td>846.0</td>\n",
       "      <td>716.0</td>\n",
       "      <td>3000</td>\n",
       "      <td>1</td>\n",
       "      <td>1950</td>\n",
       "    </tr>\n",
       "    <tr>\n",
       "      <th>4</th>\n",
       "      <td>1004</td>\n",
       "      <td>NaN</td>\n",
       "      <td>NaN</td>\n",
       "      <td>NaN</td>\n",
       "      <td>NaN</td>\n",
       "      <td>43.0</td>\n",
       "      <td>236.0</td>\n",
       "      <td>96.0</td>\n",
       "      <td>219.0</td>\n",
       "      <td>200.0</td>\n",
       "      <td>256.0</td>\n",
       "      <td>162.0</td>\n",
       "      <td>149.0</td>\n",
       "      <td>3000</td>\n",
       "      <td>1</td>\n",
       "      <td>1950</td>\n",
       "    </tr>\n",
       "    <tr>\n",
       "      <th>5</th>\n",
       "      <td>1005</td>\n",
       "      <td>105.0</td>\n",
       "      <td>493.0</td>\n",
       "      <td>622.0</td>\n",
       "      <td>716.0</td>\n",
       "      <td>460.0</td>\n",
       "      <td>643.0</td>\n",
       "      <td>528.0</td>\n",
       "      <td>452.0</td>\n",
       "      <td>434.0</td>\n",
       "      <td>766.0</td>\n",
       "      <td>519.0</td>\n",
       "      <td>541.0</td>\n",
       "      <td>500</td>\n",
       "      <td>3</td>\n",
       "      <td>550</td>\n",
       "    </tr>\n",
       "    <tr>\n",
       "      <th>6</th>\n",
       "      <td>1006</td>\n",
       "      <td>NaN</td>\n",
       "      <td>10.0</td>\n",
       "      <td>370.0</td>\n",
       "      <td>344.0</td>\n",
       "      <td>419.0</td>\n",
       "      <td>397.0</td>\n",
       "      <td>332.0</td>\n",
       "      <td>285.0</td>\n",
       "      <td>423.0</td>\n",
       "      <td>348.0</td>\n",
       "      <td>389.0</td>\n",
       "      <td>368.0</td>\n",
       "      <td>500</td>\n",
       "      <td>3</td>\n",
       "      <td>550</td>\n",
       "    </tr>\n",
       "    <tr>\n",
       "      <th>7</th>\n",
       "      <td>1007</td>\n",
       "      <td>NaN</td>\n",
       "      <td>NaN</td>\n",
       "      <td>NaN</td>\n",
       "      <td>162.0</td>\n",
       "      <td>520.0</td>\n",
       "      <td>521.0</td>\n",
       "      <td>514.0</td>\n",
       "      <td>526.0</td>\n",
       "      <td>581.0</td>\n",
       "      <td>473.0</td>\n",
       "      <td>654.0</td>\n",
       "      <td>505.0</td>\n",
       "      <td>500</td>\n",
       "      <td>3</td>\n",
       "      <td>550</td>\n",
       "    </tr>\n",
       "    <tr>\n",
       "      <th>8</th>\n",
       "      <td>1008</td>\n",
       "      <td>NaN</td>\n",
       "      <td>NaN</td>\n",
       "      <td>NaN</td>\n",
       "      <td>NaN</td>\n",
       "      <td>NaN</td>\n",
       "      <td>NaN</td>\n",
       "      <td>NaN</td>\n",
       "      <td>NaN</td>\n",
       "      <td>NaN</td>\n",
       "      <td>NaN</td>\n",
       "      <td>NaN</td>\n",
       "      <td>364.0</td>\n",
       "      <td>500</td>\n",
       "      <td>3</td>\n",
       "      <td>550</td>\n",
       "    </tr>\n",
       "    <tr>\n",
       "      <th>9</th>\n",
       "      <td>1009</td>\n",
       "      <td>NaN</td>\n",
       "      <td>NaN</td>\n",
       "      <td>81.0</td>\n",
       "      <td>261.0</td>\n",
       "      <td>187.0</td>\n",
       "      <td>208.0</td>\n",
       "      <td>197.0</td>\n",
       "      <td>212.0</td>\n",
       "      <td>200.0</td>\n",
       "      <td>150.0</td>\n",
       "      <td>289.0</td>\n",
       "      <td>247.0</td>\n",
       "      <td>500</td>\n",
       "      <td>3</td>\n",
       "      <td>550</td>\n",
       "    </tr>\n",
       "  </tbody>\n",
       "</table>\n",
       "</div>"
      ],
      "text/plain": [
       "   user_id      1      2      3      4      5      6      7      8       9  \\\n",
       "0     1000    NaN    NaN    NaN    NaN  159.0  172.0  340.0  408.0   466.0   \n",
       "1     1001    NaN    NaN    NaN    NaN    NaN    NaN    NaN    NaN     NaN   \n",
       "2     1002    NaN    NaN    NaN    NaN    NaN  102.0  184.0  308.0   249.0   \n",
       "3     1003    NaN    NaN    NaN    NaN    NaN    NaN    NaN  329.0  1052.0   \n",
       "4     1004    NaN    NaN    NaN    NaN   43.0  236.0   96.0  219.0   200.0   \n",
       "5     1005  105.0  493.0  622.0  716.0  460.0  643.0  528.0  452.0   434.0   \n",
       "6     1006    NaN   10.0  370.0  344.0  419.0  397.0  332.0  285.0   423.0   \n",
       "7     1007    NaN    NaN    NaN  162.0  520.0  521.0  514.0  526.0   581.0   \n",
       "8     1008    NaN    NaN    NaN    NaN    NaN    NaN    NaN    NaN     NaN   \n",
       "9     1009    NaN    NaN   81.0  261.0  187.0  208.0  197.0  212.0   200.0   \n",
       "\n",
       "      10     11     12  minutes_included  rub_per_minute  rub_monthly_fee  \n",
       "0  350.0  338.0  333.0              3000               1             1950  \n",
       "1    NaN  431.0  459.0               500               3              550  \n",
       "2  178.0  222.0  216.0               500               3              550  \n",
       "3  766.0  846.0  716.0              3000               1             1950  \n",
       "4  256.0  162.0  149.0              3000               1             1950  \n",
       "5  766.0  519.0  541.0               500               3              550  \n",
       "6  348.0  389.0  368.0               500               3              550  \n",
       "7  473.0  654.0  505.0               500               3              550  \n",
       "8    NaN    NaN  364.0               500               3              550  \n",
       "9  150.0  289.0  247.0               500               3              550  "
      ]
     },
     "execution_count": 24,
     "metadata": {},
     "output_type": "execute_result"
    }
   ],
   "source": [
    "df_duration_total = df_calls_total.pivot_table(index = 'user_id', values = 'duration', columns = 'month', aggfunc = 'sum')\n",
    "df_duration_tariff = df_calls_total[['user_id', 'minutes_included', 'rub_per_minute', 'rub_monthly_fee']]\n",
    "df_duration_total = df_duration_total.merge(df_duration_tariff, on = 'user_id')\n",
    "df_duration_total = df_duration_total.drop_duplicates().reset_index(drop = True)\n",
    "df_duration_total.head(10)"
   ]
  },
  {
   "cell_type": "markdown",
   "metadata": {},
   "source": [
    "Создадим 12 столбцов, которые будут показывать разницу между использованными минутами и количеством минут разговора в месяц:"
   ]
  },
  {
   "cell_type": "code",
   "execution_count": 25,
   "metadata": {},
   "outputs": [
    {
     "data": {
      "text/html": [
       "<div>\n",
       "<style scoped>\n",
       "    .dataframe tbody tr th:only-of-type {\n",
       "        vertical-align: middle;\n",
       "    }\n",
       "\n",
       "    .dataframe tbody tr th {\n",
       "        vertical-align: top;\n",
       "    }\n",
       "\n",
       "    .dataframe thead th {\n",
       "        text-align: right;\n",
       "    }\n",
       "</style>\n",
       "<table border=\"1\" class=\"dataframe\">\n",
       "  <thead>\n",
       "    <tr style=\"text-align: right;\">\n",
       "      <th></th>\n",
       "      <th>user_id</th>\n",
       "      <th>1</th>\n",
       "      <th>2</th>\n",
       "      <th>3</th>\n",
       "      <th>4</th>\n",
       "      <th>5</th>\n",
       "      <th>6</th>\n",
       "      <th>7</th>\n",
       "      <th>8</th>\n",
       "      <th>9</th>\n",
       "      <th>...</th>\n",
       "      <th>income per 3</th>\n",
       "      <th>income per 4</th>\n",
       "      <th>income per 5</th>\n",
       "      <th>income per 6</th>\n",
       "      <th>income per 7</th>\n",
       "      <th>income per 8</th>\n",
       "      <th>income per 9</th>\n",
       "      <th>income per 10</th>\n",
       "      <th>income per 11</th>\n",
       "      <th>income per 12</th>\n",
       "    </tr>\n",
       "  </thead>\n",
       "  <tbody>\n",
       "    <tr>\n",
       "      <th>0</th>\n",
       "      <td>1000</td>\n",
       "      <td>NaN</td>\n",
       "      <td>NaN</td>\n",
       "      <td>NaN</td>\n",
       "      <td>NaN</td>\n",
       "      <td>159.0</td>\n",
       "      <td>172.0</td>\n",
       "      <td>340.0</td>\n",
       "      <td>408.0</td>\n",
       "      <td>466.0</td>\n",
       "      <td>...</td>\n",
       "      <td>NaN</td>\n",
       "      <td>NaN</td>\n",
       "      <td>-2841.0</td>\n",
       "      <td>-2828.0</td>\n",
       "      <td>-2660.0</td>\n",
       "      <td>-2592.0</td>\n",
       "      <td>-2534.0</td>\n",
       "      <td>-2650.0</td>\n",
       "      <td>-2662.0</td>\n",
       "      <td>-2667.0</td>\n",
       "    </tr>\n",
       "    <tr>\n",
       "      <th>1</th>\n",
       "      <td>1001</td>\n",
       "      <td>NaN</td>\n",
       "      <td>NaN</td>\n",
       "      <td>NaN</td>\n",
       "      <td>NaN</td>\n",
       "      <td>NaN</td>\n",
       "      <td>NaN</td>\n",
       "      <td>NaN</td>\n",
       "      <td>NaN</td>\n",
       "      <td>NaN</td>\n",
       "      <td>...</td>\n",
       "      <td>NaN</td>\n",
       "      <td>NaN</td>\n",
       "      <td>NaN</td>\n",
       "      <td>NaN</td>\n",
       "      <td>NaN</td>\n",
       "      <td>NaN</td>\n",
       "      <td>NaN</td>\n",
       "      <td>NaN</td>\n",
       "      <td>-69.0</td>\n",
       "      <td>-41.0</td>\n",
       "    </tr>\n",
       "    <tr>\n",
       "      <th>2</th>\n",
       "      <td>1002</td>\n",
       "      <td>NaN</td>\n",
       "      <td>NaN</td>\n",
       "      <td>NaN</td>\n",
       "      <td>NaN</td>\n",
       "      <td>NaN</td>\n",
       "      <td>102.0</td>\n",
       "      <td>184.0</td>\n",
       "      <td>308.0</td>\n",
       "      <td>249.0</td>\n",
       "      <td>...</td>\n",
       "      <td>NaN</td>\n",
       "      <td>NaN</td>\n",
       "      <td>NaN</td>\n",
       "      <td>-398.0</td>\n",
       "      <td>-316.0</td>\n",
       "      <td>-192.0</td>\n",
       "      <td>-251.0</td>\n",
       "      <td>-322.0</td>\n",
       "      <td>-278.0</td>\n",
       "      <td>-284.0</td>\n",
       "    </tr>\n",
       "    <tr>\n",
       "      <th>3</th>\n",
       "      <td>1003</td>\n",
       "      <td>NaN</td>\n",
       "      <td>NaN</td>\n",
       "      <td>NaN</td>\n",
       "      <td>NaN</td>\n",
       "      <td>NaN</td>\n",
       "      <td>NaN</td>\n",
       "      <td>NaN</td>\n",
       "      <td>329.0</td>\n",
       "      <td>1052.0</td>\n",
       "      <td>...</td>\n",
       "      <td>NaN</td>\n",
       "      <td>NaN</td>\n",
       "      <td>NaN</td>\n",
       "      <td>NaN</td>\n",
       "      <td>NaN</td>\n",
       "      <td>-2671.0</td>\n",
       "      <td>-1948.0</td>\n",
       "      <td>-2234.0</td>\n",
       "      <td>-2154.0</td>\n",
       "      <td>-2284.0</td>\n",
       "    </tr>\n",
       "    <tr>\n",
       "      <th>4</th>\n",
       "      <td>1004</td>\n",
       "      <td>NaN</td>\n",
       "      <td>NaN</td>\n",
       "      <td>NaN</td>\n",
       "      <td>NaN</td>\n",
       "      <td>43.0</td>\n",
       "      <td>236.0</td>\n",
       "      <td>96.0</td>\n",
       "      <td>219.0</td>\n",
       "      <td>200.0</td>\n",
       "      <td>...</td>\n",
       "      <td>NaN</td>\n",
       "      <td>NaN</td>\n",
       "      <td>-2957.0</td>\n",
       "      <td>-2764.0</td>\n",
       "      <td>-2904.0</td>\n",
       "      <td>-2781.0</td>\n",
       "      <td>-2800.0</td>\n",
       "      <td>-2744.0</td>\n",
       "      <td>-2838.0</td>\n",
       "      <td>-2851.0</td>\n",
       "    </tr>\n",
       "    <tr>\n",
       "      <th>5</th>\n",
       "      <td>1005</td>\n",
       "      <td>105.0</td>\n",
       "      <td>493.0</td>\n",
       "      <td>622.0</td>\n",
       "      <td>716.0</td>\n",
       "      <td>460.0</td>\n",
       "      <td>643.0</td>\n",
       "      <td>528.0</td>\n",
       "      <td>452.0</td>\n",
       "      <td>434.0</td>\n",
       "      <td>...</td>\n",
       "      <td>122.0</td>\n",
       "      <td>216.0</td>\n",
       "      <td>-40.0</td>\n",
       "      <td>143.0</td>\n",
       "      <td>28.0</td>\n",
       "      <td>-48.0</td>\n",
       "      <td>-66.0</td>\n",
       "      <td>266.0</td>\n",
       "      <td>19.0</td>\n",
       "      <td>41.0</td>\n",
       "    </tr>\n",
       "    <tr>\n",
       "      <th>6</th>\n",
       "      <td>1006</td>\n",
       "      <td>NaN</td>\n",
       "      <td>10.0</td>\n",
       "      <td>370.0</td>\n",
       "      <td>344.0</td>\n",
       "      <td>419.0</td>\n",
       "      <td>397.0</td>\n",
       "      <td>332.0</td>\n",
       "      <td>285.0</td>\n",
       "      <td>423.0</td>\n",
       "      <td>...</td>\n",
       "      <td>-130.0</td>\n",
       "      <td>-156.0</td>\n",
       "      <td>-81.0</td>\n",
       "      <td>-103.0</td>\n",
       "      <td>-168.0</td>\n",
       "      <td>-215.0</td>\n",
       "      <td>-77.0</td>\n",
       "      <td>-152.0</td>\n",
       "      <td>-111.0</td>\n",
       "      <td>-132.0</td>\n",
       "    </tr>\n",
       "    <tr>\n",
       "      <th>7</th>\n",
       "      <td>1007</td>\n",
       "      <td>NaN</td>\n",
       "      <td>NaN</td>\n",
       "      <td>NaN</td>\n",
       "      <td>162.0</td>\n",
       "      <td>520.0</td>\n",
       "      <td>521.0</td>\n",
       "      <td>514.0</td>\n",
       "      <td>526.0</td>\n",
       "      <td>581.0</td>\n",
       "      <td>...</td>\n",
       "      <td>NaN</td>\n",
       "      <td>-338.0</td>\n",
       "      <td>20.0</td>\n",
       "      <td>21.0</td>\n",
       "      <td>14.0</td>\n",
       "      <td>26.0</td>\n",
       "      <td>81.0</td>\n",
       "      <td>-27.0</td>\n",
       "      <td>154.0</td>\n",
       "      <td>5.0</td>\n",
       "    </tr>\n",
       "    <tr>\n",
       "      <th>8</th>\n",
       "      <td>1008</td>\n",
       "      <td>NaN</td>\n",
       "      <td>NaN</td>\n",
       "      <td>NaN</td>\n",
       "      <td>NaN</td>\n",
       "      <td>NaN</td>\n",
       "      <td>NaN</td>\n",
       "      <td>NaN</td>\n",
       "      <td>NaN</td>\n",
       "      <td>NaN</td>\n",
       "      <td>...</td>\n",
       "      <td>NaN</td>\n",
       "      <td>NaN</td>\n",
       "      <td>NaN</td>\n",
       "      <td>NaN</td>\n",
       "      <td>NaN</td>\n",
       "      <td>NaN</td>\n",
       "      <td>NaN</td>\n",
       "      <td>NaN</td>\n",
       "      <td>NaN</td>\n",
       "      <td>-136.0</td>\n",
       "    </tr>\n",
       "    <tr>\n",
       "      <th>9</th>\n",
       "      <td>1009</td>\n",
       "      <td>NaN</td>\n",
       "      <td>NaN</td>\n",
       "      <td>81.0</td>\n",
       "      <td>261.0</td>\n",
       "      <td>187.0</td>\n",
       "      <td>208.0</td>\n",
       "      <td>197.0</td>\n",
       "      <td>212.0</td>\n",
       "      <td>200.0</td>\n",
       "      <td>...</td>\n",
       "      <td>-419.0</td>\n",
       "      <td>-239.0</td>\n",
       "      <td>-313.0</td>\n",
       "      <td>-292.0</td>\n",
       "      <td>-303.0</td>\n",
       "      <td>-288.0</td>\n",
       "      <td>-300.0</td>\n",
       "      <td>-350.0</td>\n",
       "      <td>-211.0</td>\n",
       "      <td>-253.0</td>\n",
       "    </tr>\n",
       "  </tbody>\n",
       "</table>\n",
       "<p>10 rows × 28 columns</p>\n",
       "</div>"
      ],
      "text/plain": [
       "   user_id      1      2      3      4      5      6      7      8       9  \\\n",
       "0     1000    NaN    NaN    NaN    NaN  159.0  172.0  340.0  408.0   466.0   \n",
       "1     1001    NaN    NaN    NaN    NaN    NaN    NaN    NaN    NaN     NaN   \n",
       "2     1002    NaN    NaN    NaN    NaN    NaN  102.0  184.0  308.0   249.0   \n",
       "3     1003    NaN    NaN    NaN    NaN    NaN    NaN    NaN  329.0  1052.0   \n",
       "4     1004    NaN    NaN    NaN    NaN   43.0  236.0   96.0  219.0   200.0   \n",
       "5     1005  105.0  493.0  622.0  716.0  460.0  643.0  528.0  452.0   434.0   \n",
       "6     1006    NaN   10.0  370.0  344.0  419.0  397.0  332.0  285.0   423.0   \n",
       "7     1007    NaN    NaN    NaN  162.0  520.0  521.0  514.0  526.0   581.0   \n",
       "8     1008    NaN    NaN    NaN    NaN    NaN    NaN    NaN    NaN     NaN   \n",
       "9     1009    NaN    NaN   81.0  261.0  187.0  208.0  197.0  212.0   200.0   \n",
       "\n",
       "   ...  income per 3  income per 4  income per 5  income per 6  income per 7  \\\n",
       "0  ...           NaN           NaN       -2841.0       -2828.0       -2660.0   \n",
       "1  ...           NaN           NaN           NaN           NaN           NaN   \n",
       "2  ...           NaN           NaN           NaN        -398.0        -316.0   \n",
       "3  ...           NaN           NaN           NaN           NaN           NaN   \n",
       "4  ...           NaN           NaN       -2957.0       -2764.0       -2904.0   \n",
       "5  ...         122.0         216.0         -40.0         143.0          28.0   \n",
       "6  ...        -130.0        -156.0         -81.0        -103.0        -168.0   \n",
       "7  ...           NaN        -338.0          20.0          21.0          14.0   \n",
       "8  ...           NaN           NaN           NaN           NaN           NaN   \n",
       "9  ...        -419.0        -239.0        -313.0        -292.0        -303.0   \n",
       "\n",
       "   income per 8  income per 9  income per 10  income per 11  income per 12  \n",
       "0       -2592.0       -2534.0        -2650.0        -2662.0        -2667.0  \n",
       "1           NaN           NaN            NaN          -69.0          -41.0  \n",
       "2        -192.0        -251.0         -322.0         -278.0         -284.0  \n",
       "3       -2671.0       -1948.0        -2234.0        -2154.0        -2284.0  \n",
       "4       -2781.0       -2800.0        -2744.0        -2838.0        -2851.0  \n",
       "5         -48.0         -66.0          266.0           19.0           41.0  \n",
       "6        -215.0         -77.0         -152.0         -111.0         -132.0  \n",
       "7          26.0          81.0          -27.0          154.0            5.0  \n",
       "8           NaN           NaN            NaN            NaN         -136.0  \n",
       "9        -288.0        -300.0         -350.0         -211.0         -253.0  \n",
       "\n",
       "[10 rows x 28 columns]"
      ]
     },
     "execution_count": 25,
     "metadata": {},
     "output_type": "execute_result"
    }
   ],
   "source": [
    "for index in range(12):\n",
    "    df_duration_total['income per ' + str(index + 1)] = df_duration_total[index + 1] - df_duration_total['minutes_included']\n",
    "    \n",
    "df_duration_total.head(10)"
   ]
  },
  {
   "cell_type": "markdown",
   "metadata": {},
   "source": [
    "Изменим значения в полученных столбцах: если значения <= 0, пользователь не превысил норму тарифа - выручка составляет размер абонентской платы; если же значения > 0, пользователь превысил норму тарифа - выручка составляет размер абонентской платы + сумма за использование дополнительных минут:"
   ]
  },
  {
   "cell_type": "code",
   "execution_count": 26,
   "metadata": {},
   "outputs": [
    {
     "data": {
      "text/html": [
       "<div>\n",
       "<style scoped>\n",
       "    .dataframe tbody tr th:only-of-type {\n",
       "        vertical-align: middle;\n",
       "    }\n",
       "\n",
       "    .dataframe tbody tr th {\n",
       "        vertical-align: top;\n",
       "    }\n",
       "\n",
       "    .dataframe thead th {\n",
       "        text-align: right;\n",
       "    }\n",
       "</style>\n",
       "<table border=\"1\" class=\"dataframe\">\n",
       "  <thead>\n",
       "    <tr style=\"text-align: right;\">\n",
       "      <th></th>\n",
       "      <th>user_id</th>\n",
       "      <th>1</th>\n",
       "      <th>2</th>\n",
       "      <th>3</th>\n",
       "      <th>4</th>\n",
       "      <th>5</th>\n",
       "      <th>6</th>\n",
       "      <th>7</th>\n",
       "      <th>8</th>\n",
       "      <th>9</th>\n",
       "      <th>...</th>\n",
       "      <th>income per 3</th>\n",
       "      <th>income per 4</th>\n",
       "      <th>income per 5</th>\n",
       "      <th>income per 6</th>\n",
       "      <th>income per 7</th>\n",
       "      <th>income per 8</th>\n",
       "      <th>income per 9</th>\n",
       "      <th>income per 10</th>\n",
       "      <th>income per 11</th>\n",
       "      <th>income per 12</th>\n",
       "    </tr>\n",
       "  </thead>\n",
       "  <tbody>\n",
       "    <tr>\n",
       "      <th>0</th>\n",
       "      <td>1000</td>\n",
       "      <td>NaN</td>\n",
       "      <td>NaN</td>\n",
       "      <td>NaN</td>\n",
       "      <td>NaN</td>\n",
       "      <td>159.0</td>\n",
       "      <td>172.0</td>\n",
       "      <td>340.0</td>\n",
       "      <td>408.0</td>\n",
       "      <td>466.0</td>\n",
       "      <td>...</td>\n",
       "      <td>NaN</td>\n",
       "      <td>NaN</td>\n",
       "      <td>1950.0</td>\n",
       "      <td>1950.0</td>\n",
       "      <td>1950.0</td>\n",
       "      <td>1950.0</td>\n",
       "      <td>1950.0</td>\n",
       "      <td>1950.0</td>\n",
       "      <td>1950.0</td>\n",
       "      <td>1950.0</td>\n",
       "    </tr>\n",
       "    <tr>\n",
       "      <th>1</th>\n",
       "      <td>1001</td>\n",
       "      <td>NaN</td>\n",
       "      <td>NaN</td>\n",
       "      <td>NaN</td>\n",
       "      <td>NaN</td>\n",
       "      <td>NaN</td>\n",
       "      <td>NaN</td>\n",
       "      <td>NaN</td>\n",
       "      <td>NaN</td>\n",
       "      <td>NaN</td>\n",
       "      <td>...</td>\n",
       "      <td>NaN</td>\n",
       "      <td>NaN</td>\n",
       "      <td>NaN</td>\n",
       "      <td>NaN</td>\n",
       "      <td>NaN</td>\n",
       "      <td>NaN</td>\n",
       "      <td>NaN</td>\n",
       "      <td>NaN</td>\n",
       "      <td>550.0</td>\n",
       "      <td>550.0</td>\n",
       "    </tr>\n",
       "    <tr>\n",
       "      <th>2</th>\n",
       "      <td>1002</td>\n",
       "      <td>NaN</td>\n",
       "      <td>NaN</td>\n",
       "      <td>NaN</td>\n",
       "      <td>NaN</td>\n",
       "      <td>NaN</td>\n",
       "      <td>102.0</td>\n",
       "      <td>184.0</td>\n",
       "      <td>308.0</td>\n",
       "      <td>249.0</td>\n",
       "      <td>...</td>\n",
       "      <td>NaN</td>\n",
       "      <td>NaN</td>\n",
       "      <td>NaN</td>\n",
       "      <td>550.0</td>\n",
       "      <td>550.0</td>\n",
       "      <td>550.0</td>\n",
       "      <td>550.0</td>\n",
       "      <td>550.0</td>\n",
       "      <td>550.0</td>\n",
       "      <td>550.0</td>\n",
       "    </tr>\n",
       "    <tr>\n",
       "      <th>3</th>\n",
       "      <td>1003</td>\n",
       "      <td>NaN</td>\n",
       "      <td>NaN</td>\n",
       "      <td>NaN</td>\n",
       "      <td>NaN</td>\n",
       "      <td>NaN</td>\n",
       "      <td>NaN</td>\n",
       "      <td>NaN</td>\n",
       "      <td>329.0</td>\n",
       "      <td>1052.0</td>\n",
       "      <td>...</td>\n",
       "      <td>NaN</td>\n",
       "      <td>NaN</td>\n",
       "      <td>NaN</td>\n",
       "      <td>NaN</td>\n",
       "      <td>NaN</td>\n",
       "      <td>1950.0</td>\n",
       "      <td>1950.0</td>\n",
       "      <td>1950.0</td>\n",
       "      <td>1950.0</td>\n",
       "      <td>1950.0</td>\n",
       "    </tr>\n",
       "    <tr>\n",
       "      <th>4</th>\n",
       "      <td>1004</td>\n",
       "      <td>NaN</td>\n",
       "      <td>NaN</td>\n",
       "      <td>NaN</td>\n",
       "      <td>NaN</td>\n",
       "      <td>43.0</td>\n",
       "      <td>236.0</td>\n",
       "      <td>96.0</td>\n",
       "      <td>219.0</td>\n",
       "      <td>200.0</td>\n",
       "      <td>...</td>\n",
       "      <td>NaN</td>\n",
       "      <td>NaN</td>\n",
       "      <td>1950.0</td>\n",
       "      <td>1950.0</td>\n",
       "      <td>1950.0</td>\n",
       "      <td>1950.0</td>\n",
       "      <td>1950.0</td>\n",
       "      <td>1950.0</td>\n",
       "      <td>1950.0</td>\n",
       "      <td>1950.0</td>\n",
       "    </tr>\n",
       "    <tr>\n",
       "      <th>5</th>\n",
       "      <td>1005</td>\n",
       "      <td>105.0</td>\n",
       "      <td>493.0</td>\n",
       "      <td>622.0</td>\n",
       "      <td>716.0</td>\n",
       "      <td>460.0</td>\n",
       "      <td>643.0</td>\n",
       "      <td>528.0</td>\n",
       "      <td>452.0</td>\n",
       "      <td>434.0</td>\n",
       "      <td>...</td>\n",
       "      <td>916.0</td>\n",
       "      <td>1198.0</td>\n",
       "      <td>550.0</td>\n",
       "      <td>979.0</td>\n",
       "      <td>634.0</td>\n",
       "      <td>550.0</td>\n",
       "      <td>550.0</td>\n",
       "      <td>1348.0</td>\n",
       "      <td>607.0</td>\n",
       "      <td>673.0</td>\n",
       "    </tr>\n",
       "    <tr>\n",
       "      <th>6</th>\n",
       "      <td>1006</td>\n",
       "      <td>NaN</td>\n",
       "      <td>10.0</td>\n",
       "      <td>370.0</td>\n",
       "      <td>344.0</td>\n",
       "      <td>419.0</td>\n",
       "      <td>397.0</td>\n",
       "      <td>332.0</td>\n",
       "      <td>285.0</td>\n",
       "      <td>423.0</td>\n",
       "      <td>...</td>\n",
       "      <td>550.0</td>\n",
       "      <td>550.0</td>\n",
       "      <td>550.0</td>\n",
       "      <td>550.0</td>\n",
       "      <td>550.0</td>\n",
       "      <td>550.0</td>\n",
       "      <td>550.0</td>\n",
       "      <td>550.0</td>\n",
       "      <td>550.0</td>\n",
       "      <td>550.0</td>\n",
       "    </tr>\n",
       "    <tr>\n",
       "      <th>7</th>\n",
       "      <td>1007</td>\n",
       "      <td>NaN</td>\n",
       "      <td>NaN</td>\n",
       "      <td>NaN</td>\n",
       "      <td>162.0</td>\n",
       "      <td>520.0</td>\n",
       "      <td>521.0</td>\n",
       "      <td>514.0</td>\n",
       "      <td>526.0</td>\n",
       "      <td>581.0</td>\n",
       "      <td>...</td>\n",
       "      <td>NaN</td>\n",
       "      <td>550.0</td>\n",
       "      <td>610.0</td>\n",
       "      <td>613.0</td>\n",
       "      <td>592.0</td>\n",
       "      <td>628.0</td>\n",
       "      <td>793.0</td>\n",
       "      <td>550.0</td>\n",
       "      <td>1012.0</td>\n",
       "      <td>565.0</td>\n",
       "    </tr>\n",
       "    <tr>\n",
       "      <th>8</th>\n",
       "      <td>1008</td>\n",
       "      <td>NaN</td>\n",
       "      <td>NaN</td>\n",
       "      <td>NaN</td>\n",
       "      <td>NaN</td>\n",
       "      <td>NaN</td>\n",
       "      <td>NaN</td>\n",
       "      <td>NaN</td>\n",
       "      <td>NaN</td>\n",
       "      <td>NaN</td>\n",
       "      <td>...</td>\n",
       "      <td>NaN</td>\n",
       "      <td>NaN</td>\n",
       "      <td>NaN</td>\n",
       "      <td>NaN</td>\n",
       "      <td>NaN</td>\n",
       "      <td>NaN</td>\n",
       "      <td>NaN</td>\n",
       "      <td>NaN</td>\n",
       "      <td>NaN</td>\n",
       "      <td>550.0</td>\n",
       "    </tr>\n",
       "    <tr>\n",
       "      <th>9</th>\n",
       "      <td>1009</td>\n",
       "      <td>NaN</td>\n",
       "      <td>NaN</td>\n",
       "      <td>81.0</td>\n",
       "      <td>261.0</td>\n",
       "      <td>187.0</td>\n",
       "      <td>208.0</td>\n",
       "      <td>197.0</td>\n",
       "      <td>212.0</td>\n",
       "      <td>200.0</td>\n",
       "      <td>...</td>\n",
       "      <td>550.0</td>\n",
       "      <td>550.0</td>\n",
       "      <td>550.0</td>\n",
       "      <td>550.0</td>\n",
       "      <td>550.0</td>\n",
       "      <td>550.0</td>\n",
       "      <td>550.0</td>\n",
       "      <td>550.0</td>\n",
       "      <td>550.0</td>\n",
       "      <td>550.0</td>\n",
       "    </tr>\n",
       "  </tbody>\n",
       "</table>\n",
       "<p>10 rows × 28 columns</p>\n",
       "</div>"
      ],
      "text/plain": [
       "   user_id      1      2      3      4      5      6      7      8       9  \\\n",
       "0     1000    NaN    NaN    NaN    NaN  159.0  172.0  340.0  408.0   466.0   \n",
       "1     1001    NaN    NaN    NaN    NaN    NaN    NaN    NaN    NaN     NaN   \n",
       "2     1002    NaN    NaN    NaN    NaN    NaN  102.0  184.0  308.0   249.0   \n",
       "3     1003    NaN    NaN    NaN    NaN    NaN    NaN    NaN  329.0  1052.0   \n",
       "4     1004    NaN    NaN    NaN    NaN   43.0  236.0   96.0  219.0   200.0   \n",
       "5     1005  105.0  493.0  622.0  716.0  460.0  643.0  528.0  452.0   434.0   \n",
       "6     1006    NaN   10.0  370.0  344.0  419.0  397.0  332.0  285.0   423.0   \n",
       "7     1007    NaN    NaN    NaN  162.0  520.0  521.0  514.0  526.0   581.0   \n",
       "8     1008    NaN    NaN    NaN    NaN    NaN    NaN    NaN    NaN     NaN   \n",
       "9     1009    NaN    NaN   81.0  261.0  187.0  208.0  197.0  212.0   200.0   \n",
       "\n",
       "   ...  income per 3  income per 4  income per 5  income per 6  income per 7  \\\n",
       "0  ...           NaN           NaN        1950.0        1950.0        1950.0   \n",
       "1  ...           NaN           NaN           NaN           NaN           NaN   \n",
       "2  ...           NaN           NaN           NaN         550.0         550.0   \n",
       "3  ...           NaN           NaN           NaN           NaN           NaN   \n",
       "4  ...           NaN           NaN        1950.0        1950.0        1950.0   \n",
       "5  ...         916.0        1198.0         550.0         979.0         634.0   \n",
       "6  ...         550.0         550.0         550.0         550.0         550.0   \n",
       "7  ...           NaN         550.0         610.0         613.0         592.0   \n",
       "8  ...           NaN           NaN           NaN           NaN           NaN   \n",
       "9  ...         550.0         550.0         550.0         550.0         550.0   \n",
       "\n",
       "   income per 8  income per 9  income per 10  income per 11  income per 12  \n",
       "0        1950.0        1950.0         1950.0         1950.0         1950.0  \n",
       "1           NaN           NaN            NaN          550.0          550.0  \n",
       "2         550.0         550.0          550.0          550.0          550.0  \n",
       "3        1950.0        1950.0         1950.0         1950.0         1950.0  \n",
       "4        1950.0        1950.0         1950.0         1950.0         1950.0  \n",
       "5         550.0         550.0         1348.0          607.0          673.0  \n",
       "6         550.0         550.0          550.0          550.0          550.0  \n",
       "7         628.0         793.0          550.0         1012.0          565.0  \n",
       "8           NaN           NaN            NaN            NaN          550.0  \n",
       "9         550.0         550.0          550.0          550.0          550.0  \n",
       "\n",
       "[10 rows x 28 columns]"
      ]
     },
     "execution_count": 26,
     "metadata": {},
     "output_type": "execute_result"
    }
   ],
   "source": [
    "for index in range(12):\n",
    "    df_duration_total['income per ' + str(index + 1)] = np.where(df_duration_total['income per ' + str(index + 1)] <= 0, \n",
    "                                                                 df_duration_total['rub_monthly_fee'], \n",
    "                                                                 df_duration_total['income per ' + str(index + 1)] * df_duration_total['rub_per_minute'] + df_duration_total['rub_monthly_fee'])\n",
    "    \n",
    "df_duration_total.head(10)"
   ]
  },
  {
   "cell_type": "markdown",
   "metadata": {},
   "source": [
    "Создадим новый DataFrame, содержащий информацию о выручке за 12 месяцев по каждому пользователю:"
   ]
  },
  {
   "cell_type": "code",
   "execution_count": 27,
   "metadata": {},
   "outputs": [
    {
     "data": {
      "text/html": [
       "<div>\n",
       "<style scoped>\n",
       "    .dataframe tbody tr th:only-of-type {\n",
       "        vertical-align: middle;\n",
       "    }\n",
       "\n",
       "    .dataframe tbody tr th {\n",
       "        vertical-align: top;\n",
       "    }\n",
       "\n",
       "    .dataframe thead th {\n",
       "        text-align: right;\n",
       "    }\n",
       "</style>\n",
       "<table border=\"1\" class=\"dataframe\">\n",
       "  <thead>\n",
       "    <tr style=\"text-align: right;\">\n",
       "      <th></th>\n",
       "      <th>user_id</th>\n",
       "      <th>income per 1</th>\n",
       "      <th>income per 2</th>\n",
       "      <th>income per 3</th>\n",
       "      <th>income per 4</th>\n",
       "      <th>income per 5</th>\n",
       "      <th>income per 6</th>\n",
       "      <th>income per 7</th>\n",
       "      <th>income per 8</th>\n",
       "      <th>income per 9</th>\n",
       "      <th>income per 10</th>\n",
       "      <th>income per 11</th>\n",
       "      <th>income per 12</th>\n",
       "    </tr>\n",
       "  </thead>\n",
       "  <tbody>\n",
       "    <tr>\n",
       "      <th>0</th>\n",
       "      <td>1000</td>\n",
       "      <td>NaN</td>\n",
       "      <td>NaN</td>\n",
       "      <td>NaN</td>\n",
       "      <td>NaN</td>\n",
       "      <td>1950.0</td>\n",
       "      <td>1950.0</td>\n",
       "      <td>1950.0</td>\n",
       "      <td>1950.0</td>\n",
       "      <td>1950.0</td>\n",
       "      <td>1950.0</td>\n",
       "      <td>1950.0</td>\n",
       "      <td>1950.0</td>\n",
       "    </tr>\n",
       "    <tr>\n",
       "      <th>1</th>\n",
       "      <td>1001</td>\n",
       "      <td>NaN</td>\n",
       "      <td>NaN</td>\n",
       "      <td>NaN</td>\n",
       "      <td>NaN</td>\n",
       "      <td>NaN</td>\n",
       "      <td>NaN</td>\n",
       "      <td>NaN</td>\n",
       "      <td>NaN</td>\n",
       "      <td>NaN</td>\n",
       "      <td>NaN</td>\n",
       "      <td>550.0</td>\n",
       "      <td>550.0</td>\n",
       "    </tr>\n",
       "    <tr>\n",
       "      <th>2</th>\n",
       "      <td>1002</td>\n",
       "      <td>NaN</td>\n",
       "      <td>NaN</td>\n",
       "      <td>NaN</td>\n",
       "      <td>NaN</td>\n",
       "      <td>NaN</td>\n",
       "      <td>550.0</td>\n",
       "      <td>550.0</td>\n",
       "      <td>550.0</td>\n",
       "      <td>550.0</td>\n",
       "      <td>550.0</td>\n",
       "      <td>550.0</td>\n",
       "      <td>550.0</td>\n",
       "    </tr>\n",
       "    <tr>\n",
       "      <th>3</th>\n",
       "      <td>1003</td>\n",
       "      <td>NaN</td>\n",
       "      <td>NaN</td>\n",
       "      <td>NaN</td>\n",
       "      <td>NaN</td>\n",
       "      <td>NaN</td>\n",
       "      <td>NaN</td>\n",
       "      <td>NaN</td>\n",
       "      <td>1950.0</td>\n",
       "      <td>1950.0</td>\n",
       "      <td>1950.0</td>\n",
       "      <td>1950.0</td>\n",
       "      <td>1950.0</td>\n",
       "    </tr>\n",
       "    <tr>\n",
       "      <th>4</th>\n",
       "      <td>1004</td>\n",
       "      <td>NaN</td>\n",
       "      <td>NaN</td>\n",
       "      <td>NaN</td>\n",
       "      <td>NaN</td>\n",
       "      <td>1950.0</td>\n",
       "      <td>1950.0</td>\n",
       "      <td>1950.0</td>\n",
       "      <td>1950.0</td>\n",
       "      <td>1950.0</td>\n",
       "      <td>1950.0</td>\n",
       "      <td>1950.0</td>\n",
       "      <td>1950.0</td>\n",
       "    </tr>\n",
       "    <tr>\n",
       "      <th>5</th>\n",
       "      <td>1005</td>\n",
       "      <td>550.0</td>\n",
       "      <td>550.0</td>\n",
       "      <td>916.0</td>\n",
       "      <td>1198.0</td>\n",
       "      <td>550.0</td>\n",
       "      <td>979.0</td>\n",
       "      <td>634.0</td>\n",
       "      <td>550.0</td>\n",
       "      <td>550.0</td>\n",
       "      <td>1348.0</td>\n",
       "      <td>607.0</td>\n",
       "      <td>673.0</td>\n",
       "    </tr>\n",
       "    <tr>\n",
       "      <th>6</th>\n",
       "      <td>1006</td>\n",
       "      <td>NaN</td>\n",
       "      <td>550.0</td>\n",
       "      <td>550.0</td>\n",
       "      <td>550.0</td>\n",
       "      <td>550.0</td>\n",
       "      <td>550.0</td>\n",
       "      <td>550.0</td>\n",
       "      <td>550.0</td>\n",
       "      <td>550.0</td>\n",
       "      <td>550.0</td>\n",
       "      <td>550.0</td>\n",
       "      <td>550.0</td>\n",
       "    </tr>\n",
       "    <tr>\n",
       "      <th>7</th>\n",
       "      <td>1007</td>\n",
       "      <td>NaN</td>\n",
       "      <td>NaN</td>\n",
       "      <td>NaN</td>\n",
       "      <td>550.0</td>\n",
       "      <td>610.0</td>\n",
       "      <td>613.0</td>\n",
       "      <td>592.0</td>\n",
       "      <td>628.0</td>\n",
       "      <td>793.0</td>\n",
       "      <td>550.0</td>\n",
       "      <td>1012.0</td>\n",
       "      <td>565.0</td>\n",
       "    </tr>\n",
       "    <tr>\n",
       "      <th>8</th>\n",
       "      <td>1008</td>\n",
       "      <td>NaN</td>\n",
       "      <td>NaN</td>\n",
       "      <td>NaN</td>\n",
       "      <td>NaN</td>\n",
       "      <td>NaN</td>\n",
       "      <td>NaN</td>\n",
       "      <td>NaN</td>\n",
       "      <td>NaN</td>\n",
       "      <td>NaN</td>\n",
       "      <td>NaN</td>\n",
       "      <td>NaN</td>\n",
       "      <td>550.0</td>\n",
       "    </tr>\n",
       "    <tr>\n",
       "      <th>9</th>\n",
       "      <td>1009</td>\n",
       "      <td>NaN</td>\n",
       "      <td>NaN</td>\n",
       "      <td>550.0</td>\n",
       "      <td>550.0</td>\n",
       "      <td>550.0</td>\n",
       "      <td>550.0</td>\n",
       "      <td>550.0</td>\n",
       "      <td>550.0</td>\n",
       "      <td>550.0</td>\n",
       "      <td>550.0</td>\n",
       "      <td>550.0</td>\n",
       "      <td>550.0</td>\n",
       "    </tr>\n",
       "  </tbody>\n",
       "</table>\n",
       "</div>"
      ],
      "text/plain": [
       "   user_id  income per 1  income per 2  income per 3  income per 4  \\\n",
       "0     1000           NaN           NaN           NaN           NaN   \n",
       "1     1001           NaN           NaN           NaN           NaN   \n",
       "2     1002           NaN           NaN           NaN           NaN   \n",
       "3     1003           NaN           NaN           NaN           NaN   \n",
       "4     1004           NaN           NaN           NaN           NaN   \n",
       "5     1005         550.0         550.0         916.0        1198.0   \n",
       "6     1006           NaN         550.0         550.0         550.0   \n",
       "7     1007           NaN           NaN           NaN         550.0   \n",
       "8     1008           NaN           NaN           NaN           NaN   \n",
       "9     1009           NaN           NaN         550.0         550.0   \n",
       "\n",
       "   income per 5  income per 6  income per 7  income per 8  income per 9  \\\n",
       "0        1950.0        1950.0        1950.0        1950.0        1950.0   \n",
       "1           NaN           NaN           NaN           NaN           NaN   \n",
       "2           NaN         550.0         550.0         550.0         550.0   \n",
       "3           NaN           NaN           NaN        1950.0        1950.0   \n",
       "4        1950.0        1950.0        1950.0        1950.0        1950.0   \n",
       "5         550.0         979.0         634.0         550.0         550.0   \n",
       "6         550.0         550.0         550.0         550.0         550.0   \n",
       "7         610.0         613.0         592.0         628.0         793.0   \n",
       "8           NaN           NaN           NaN           NaN           NaN   \n",
       "9         550.0         550.0         550.0         550.0         550.0   \n",
       "\n",
       "   income per 10  income per 11  income per 12  \n",
       "0         1950.0         1950.0         1950.0  \n",
       "1            NaN          550.0          550.0  \n",
       "2          550.0          550.0          550.0  \n",
       "3         1950.0         1950.0         1950.0  \n",
       "4         1950.0         1950.0         1950.0  \n",
       "5         1348.0          607.0          673.0  \n",
       "6          550.0          550.0          550.0  \n",
       "7          550.0         1012.0          565.0  \n",
       "8            NaN            NaN          550.0  \n",
       "9          550.0          550.0          550.0  "
      ]
     },
     "execution_count": 27,
     "metadata": {},
     "output_type": "execute_result"
    }
   ],
   "source": [
    "df_duration_income_12_months = df_duration_total[['user_id', 'income per 1', 'income per 2', 'income per 3', \n",
    "                                                  'income per 4', 'income per 5', 'income per 6', \n",
    "                                                  'income per 7', 'income per 8', 'income per 9', \n",
    "                                                  'income per 10', 'income per 11', 'income per 12']]\n",
    "\n",
    "df_duration_income_12_months.head(10)"
   ]
  },
  {
   "cell_type": "markdown",
   "metadata": {},
   "source": [
    "Проделаем те же операции с информацией о сообщениях и интернет-сессиях пользователей.\n",
    "\n",
    "Объединим таблицы с информацией о пользователях, их сообщениями, а также таблицу с тарифами в одну - `df_messages_total`:"
   ]
  },
  {
   "cell_type": "code",
   "execution_count": 28,
   "metadata": {},
   "outputs": [
    {
     "data": {
      "text/html": [
       "<div>\n",
       "<style scoped>\n",
       "    .dataframe tbody tr th:only-of-type {\n",
       "        vertical-align: middle;\n",
       "    }\n",
       "\n",
       "    .dataframe tbody tr th {\n",
       "        vertical-align: top;\n",
       "    }\n",
       "\n",
       "    .dataframe thead th {\n",
       "        text-align: right;\n",
       "    }\n",
       "</style>\n",
       "<table border=\"1\" class=\"dataframe\">\n",
       "  <thead>\n",
       "    <tr style=\"text-align: right;\">\n",
       "      <th></th>\n",
       "      <th>id</th>\n",
       "      <th>message_date</th>\n",
       "      <th>user_id</th>\n",
       "      <th>month</th>\n",
       "      <th>age</th>\n",
       "      <th>churn_date</th>\n",
       "      <th>city</th>\n",
       "      <th>first_name</th>\n",
       "      <th>last_name</th>\n",
       "      <th>reg_date</th>\n",
       "      <th>tariff</th>\n",
       "      <th>messages_included</th>\n",
       "      <th>mb_per_month_included</th>\n",
       "      <th>minutes_included</th>\n",
       "      <th>rub_monthly_fee</th>\n",
       "      <th>rub_per_gb</th>\n",
       "      <th>rub_per_message</th>\n",
       "      <th>rub_per_minute</th>\n",
       "    </tr>\n",
       "  </thead>\n",
       "  <tbody>\n",
       "    <tr>\n",
       "      <th>0</th>\n",
       "      <td>10000</td>\n",
       "      <td>2018-06-27</td>\n",
       "      <td>1000</td>\n",
       "      <td>6</td>\n",
       "      <td>52</td>\n",
       "      <td>NaT</td>\n",
       "      <td>Краснодар</td>\n",
       "      <td>Рафаил</td>\n",
       "      <td>Верещагин</td>\n",
       "      <td>2018-05-25</td>\n",
       "      <td>ultra</td>\n",
       "      <td>1000</td>\n",
       "      <td>30720</td>\n",
       "      <td>3000</td>\n",
       "      <td>1950</td>\n",
       "      <td>150</td>\n",
       "      <td>1</td>\n",
       "      <td>1</td>\n",
       "    </tr>\n",
       "    <tr>\n",
       "      <th>1</th>\n",
       "      <td>10001</td>\n",
       "      <td>2018-10-08</td>\n",
       "      <td>1000</td>\n",
       "      <td>10</td>\n",
       "      <td>52</td>\n",
       "      <td>NaT</td>\n",
       "      <td>Краснодар</td>\n",
       "      <td>Рафаил</td>\n",
       "      <td>Верещагин</td>\n",
       "      <td>2018-05-25</td>\n",
       "      <td>ultra</td>\n",
       "      <td>1000</td>\n",
       "      <td>30720</td>\n",
       "      <td>3000</td>\n",
       "      <td>1950</td>\n",
       "      <td>150</td>\n",
       "      <td>1</td>\n",
       "      <td>1</td>\n",
       "    </tr>\n",
       "    <tr>\n",
       "      <th>2</th>\n",
       "      <td>10002</td>\n",
       "      <td>2018-08-04</td>\n",
       "      <td>1000</td>\n",
       "      <td>8</td>\n",
       "      <td>52</td>\n",
       "      <td>NaT</td>\n",
       "      <td>Краснодар</td>\n",
       "      <td>Рафаил</td>\n",
       "      <td>Верещагин</td>\n",
       "      <td>2018-05-25</td>\n",
       "      <td>ultra</td>\n",
       "      <td>1000</td>\n",
       "      <td>30720</td>\n",
       "      <td>3000</td>\n",
       "      <td>1950</td>\n",
       "      <td>150</td>\n",
       "      <td>1</td>\n",
       "      <td>1</td>\n",
       "    </tr>\n",
       "    <tr>\n",
       "      <th>3</th>\n",
       "      <td>10003</td>\n",
       "      <td>2018-06-16</td>\n",
       "      <td>1000</td>\n",
       "      <td>6</td>\n",
       "      <td>52</td>\n",
       "      <td>NaT</td>\n",
       "      <td>Краснодар</td>\n",
       "      <td>Рафаил</td>\n",
       "      <td>Верещагин</td>\n",
       "      <td>2018-05-25</td>\n",
       "      <td>ultra</td>\n",
       "      <td>1000</td>\n",
       "      <td>30720</td>\n",
       "      <td>3000</td>\n",
       "      <td>1950</td>\n",
       "      <td>150</td>\n",
       "      <td>1</td>\n",
       "      <td>1</td>\n",
       "    </tr>\n",
       "    <tr>\n",
       "      <th>4</th>\n",
       "      <td>10004</td>\n",
       "      <td>2018-12-05</td>\n",
       "      <td>1000</td>\n",
       "      <td>12</td>\n",
       "      <td>52</td>\n",
       "      <td>NaT</td>\n",
       "      <td>Краснодар</td>\n",
       "      <td>Рафаил</td>\n",
       "      <td>Верещагин</td>\n",
       "      <td>2018-05-25</td>\n",
       "      <td>ultra</td>\n",
       "      <td>1000</td>\n",
       "      <td>30720</td>\n",
       "      <td>3000</td>\n",
       "      <td>1950</td>\n",
       "      <td>150</td>\n",
       "      <td>1</td>\n",
       "      <td>1</td>\n",
       "    </tr>\n",
       "    <tr>\n",
       "      <th>5</th>\n",
       "      <td>10005</td>\n",
       "      <td>2018-06-20</td>\n",
       "      <td>1000</td>\n",
       "      <td>6</td>\n",
       "      <td>52</td>\n",
       "      <td>NaT</td>\n",
       "      <td>Краснодар</td>\n",
       "      <td>Рафаил</td>\n",
       "      <td>Верещагин</td>\n",
       "      <td>2018-05-25</td>\n",
       "      <td>ultra</td>\n",
       "      <td>1000</td>\n",
       "      <td>30720</td>\n",
       "      <td>3000</td>\n",
       "      <td>1950</td>\n",
       "      <td>150</td>\n",
       "      <td>1</td>\n",
       "      <td>1</td>\n",
       "    </tr>\n",
       "    <tr>\n",
       "      <th>6</th>\n",
       "      <td>10006</td>\n",
       "      <td>2018-11-19</td>\n",
       "      <td>1000</td>\n",
       "      <td>11</td>\n",
       "      <td>52</td>\n",
       "      <td>NaT</td>\n",
       "      <td>Краснодар</td>\n",
       "      <td>Рафаил</td>\n",
       "      <td>Верещагин</td>\n",
       "      <td>2018-05-25</td>\n",
       "      <td>ultra</td>\n",
       "      <td>1000</td>\n",
       "      <td>30720</td>\n",
       "      <td>3000</td>\n",
       "      <td>1950</td>\n",
       "      <td>150</td>\n",
       "      <td>1</td>\n",
       "      <td>1</td>\n",
       "    </tr>\n",
       "    <tr>\n",
       "      <th>7</th>\n",
       "      <td>10007</td>\n",
       "      <td>2018-10-29</td>\n",
       "      <td>1000</td>\n",
       "      <td>10</td>\n",
       "      <td>52</td>\n",
       "      <td>NaT</td>\n",
       "      <td>Краснодар</td>\n",
       "      <td>Рафаил</td>\n",
       "      <td>Верещагин</td>\n",
       "      <td>2018-05-25</td>\n",
       "      <td>ultra</td>\n",
       "      <td>1000</td>\n",
       "      <td>30720</td>\n",
       "      <td>3000</td>\n",
       "      <td>1950</td>\n",
       "      <td>150</td>\n",
       "      <td>1</td>\n",
       "      <td>1</td>\n",
       "    </tr>\n",
       "    <tr>\n",
       "      <th>8</th>\n",
       "      <td>10008</td>\n",
       "      <td>2018-06-25</td>\n",
       "      <td>1000</td>\n",
       "      <td>6</td>\n",
       "      <td>52</td>\n",
       "      <td>NaT</td>\n",
       "      <td>Краснодар</td>\n",
       "      <td>Рафаил</td>\n",
       "      <td>Верещагин</td>\n",
       "      <td>2018-05-25</td>\n",
       "      <td>ultra</td>\n",
       "      <td>1000</td>\n",
       "      <td>30720</td>\n",
       "      <td>3000</td>\n",
       "      <td>1950</td>\n",
       "      <td>150</td>\n",
       "      <td>1</td>\n",
       "      <td>1</td>\n",
       "    </tr>\n",
       "    <tr>\n",
       "      <th>9</th>\n",
       "      <td>10009</td>\n",
       "      <td>2018-12-18</td>\n",
       "      <td>1000</td>\n",
       "      <td>12</td>\n",
       "      <td>52</td>\n",
       "      <td>NaT</td>\n",
       "      <td>Краснодар</td>\n",
       "      <td>Рафаил</td>\n",
       "      <td>Верещагин</td>\n",
       "      <td>2018-05-25</td>\n",
       "      <td>ultra</td>\n",
       "      <td>1000</td>\n",
       "      <td>30720</td>\n",
       "      <td>3000</td>\n",
       "      <td>1950</td>\n",
       "      <td>150</td>\n",
       "      <td>1</td>\n",
       "      <td>1</td>\n",
       "    </tr>\n",
       "  </tbody>\n",
       "</table>\n",
       "</div>"
      ],
      "text/plain": [
       "      id message_date  user_id  month  age churn_date       city first_name  \\\n",
       "0  10000   2018-06-27     1000      6   52        NaT  Краснодар     Рафаил   \n",
       "1  10001   2018-10-08     1000     10   52        NaT  Краснодар     Рафаил   \n",
       "2  10002   2018-08-04     1000      8   52        NaT  Краснодар     Рафаил   \n",
       "3  10003   2018-06-16     1000      6   52        NaT  Краснодар     Рафаил   \n",
       "4  10004   2018-12-05     1000     12   52        NaT  Краснодар     Рафаил   \n",
       "5  10005   2018-06-20     1000      6   52        NaT  Краснодар     Рафаил   \n",
       "6  10006   2018-11-19     1000     11   52        NaT  Краснодар     Рафаил   \n",
       "7  10007   2018-10-29     1000     10   52        NaT  Краснодар     Рафаил   \n",
       "8  10008   2018-06-25     1000      6   52        NaT  Краснодар     Рафаил   \n",
       "9  10009   2018-12-18     1000     12   52        NaT  Краснодар     Рафаил   \n",
       "\n",
       "   last_name   reg_date tariff  messages_included  mb_per_month_included  \\\n",
       "0  Верещагин 2018-05-25  ultra               1000                  30720   \n",
       "1  Верещагин 2018-05-25  ultra               1000                  30720   \n",
       "2  Верещагин 2018-05-25  ultra               1000                  30720   \n",
       "3  Верещагин 2018-05-25  ultra               1000                  30720   \n",
       "4  Верещагин 2018-05-25  ultra               1000                  30720   \n",
       "5  Верещагин 2018-05-25  ultra               1000                  30720   \n",
       "6  Верещагин 2018-05-25  ultra               1000                  30720   \n",
       "7  Верещагин 2018-05-25  ultra               1000                  30720   \n",
       "8  Верещагин 2018-05-25  ultra               1000                  30720   \n",
       "9  Верещагин 2018-05-25  ultra               1000                  30720   \n",
       "\n",
       "   minutes_included  rub_monthly_fee  rub_per_gb  rub_per_message  \\\n",
       "0              3000             1950         150                1   \n",
       "1              3000             1950         150                1   \n",
       "2              3000             1950         150                1   \n",
       "3              3000             1950         150                1   \n",
       "4              3000             1950         150                1   \n",
       "5              3000             1950         150                1   \n",
       "6              3000             1950         150                1   \n",
       "7              3000             1950         150                1   \n",
       "8              3000             1950         150                1   \n",
       "9              3000             1950         150                1   \n",
       "\n",
       "   rub_per_minute  \n",
       "0               1  \n",
       "1               1  \n",
       "2               1  \n",
       "3               1  \n",
       "4               1  \n",
       "5               1  \n",
       "6               1  \n",
       "7               1  \n",
       "8               1  \n",
       "9               1  "
      ]
     },
     "execution_count": 28,
     "metadata": {},
     "output_type": "execute_result"
    }
   ],
   "source": [
    "df_messages_total = df_messages.merge(df_users, on = 'user_id')\n",
    "df_messages_total = df_messages_total.merge(df_tariffs, on = 'tariff')\n",
    "df_messages_total.head(10)"
   ]
  },
  {
   "cell_type": "markdown",
   "metadata": {},
   "source": [
    "Создадим сводную таблицу с суммарным количеством сообщений пользователей df_messages_total_info и добавим в нее столбцы с информацией о количестве сообщений в месяц, включённых в абонентскую плату и о стоимости сообщений сверх тарифного пакета:"
   ]
  },
  {
   "cell_type": "code",
   "execution_count": 29,
   "metadata": {},
   "outputs": [
    {
     "data": {
      "text/html": [
       "<div>\n",
       "<style scoped>\n",
       "    .dataframe tbody tr th:only-of-type {\n",
       "        vertical-align: middle;\n",
       "    }\n",
       "\n",
       "    .dataframe tbody tr th {\n",
       "        vertical-align: top;\n",
       "    }\n",
       "\n",
       "    .dataframe thead th {\n",
       "        text-align: right;\n",
       "    }\n",
       "</style>\n",
       "<table border=\"1\" class=\"dataframe\">\n",
       "  <thead>\n",
       "    <tr style=\"text-align: right;\">\n",
       "      <th></th>\n",
       "      <th>user_id</th>\n",
       "      <th>1</th>\n",
       "      <th>2</th>\n",
       "      <th>3</th>\n",
       "      <th>4</th>\n",
       "      <th>5</th>\n",
       "      <th>6</th>\n",
       "      <th>7</th>\n",
       "      <th>8</th>\n",
       "      <th>9</th>\n",
       "      <th>10</th>\n",
       "      <th>11</th>\n",
       "      <th>12</th>\n",
       "      <th>messages_included</th>\n",
       "      <th>rub_per_message</th>\n",
       "    </tr>\n",
       "  </thead>\n",
       "  <tbody>\n",
       "    <tr>\n",
       "      <th>0</th>\n",
       "      <td>1000</td>\n",
       "      <td>NaN</td>\n",
       "      <td>NaN</td>\n",
       "      <td>NaN</td>\n",
       "      <td>NaN</td>\n",
       "      <td>22.0</td>\n",
       "      <td>60.0</td>\n",
       "      <td>75.0</td>\n",
       "      <td>81.0</td>\n",
       "      <td>57.0</td>\n",
       "      <td>73.0</td>\n",
       "      <td>58.0</td>\n",
       "      <td>70.0</td>\n",
       "      <td>1000</td>\n",
       "      <td>1</td>\n",
       "    </tr>\n",
       "    <tr>\n",
       "      <th>1</th>\n",
       "      <td>1002</td>\n",
       "      <td>NaN</td>\n",
       "      <td>NaN</td>\n",
       "      <td>NaN</td>\n",
       "      <td>NaN</td>\n",
       "      <td>NaN</td>\n",
       "      <td>4.0</td>\n",
       "      <td>11.0</td>\n",
       "      <td>13.0</td>\n",
       "      <td>4.0</td>\n",
       "      <td>10.0</td>\n",
       "      <td>16.0</td>\n",
       "      <td>12.0</td>\n",
       "      <td>50</td>\n",
       "      <td>3</td>\n",
       "    </tr>\n",
       "    <tr>\n",
       "      <th>2</th>\n",
       "      <td>1003</td>\n",
       "      <td>NaN</td>\n",
       "      <td>NaN</td>\n",
       "      <td>NaN</td>\n",
       "      <td>NaN</td>\n",
       "      <td>NaN</td>\n",
       "      <td>NaN</td>\n",
       "      <td>NaN</td>\n",
       "      <td>37.0</td>\n",
       "      <td>91.0</td>\n",
       "      <td>83.0</td>\n",
       "      <td>94.0</td>\n",
       "      <td>75.0</td>\n",
       "      <td>1000</td>\n",
       "      <td>1</td>\n",
       "    </tr>\n",
       "    <tr>\n",
       "      <th>3</th>\n",
       "      <td>1004</td>\n",
       "      <td>NaN</td>\n",
       "      <td>NaN</td>\n",
       "      <td>NaN</td>\n",
       "      <td>NaN</td>\n",
       "      <td>95.0</td>\n",
       "      <td>134.0</td>\n",
       "      <td>181.0</td>\n",
       "      <td>151.0</td>\n",
       "      <td>146.0</td>\n",
       "      <td>165.0</td>\n",
       "      <td>158.0</td>\n",
       "      <td>162.0</td>\n",
       "      <td>1000</td>\n",
       "      <td>1</td>\n",
       "    </tr>\n",
       "    <tr>\n",
       "      <th>4</th>\n",
       "      <td>1005</td>\n",
       "      <td>7.0</td>\n",
       "      <td>38.0</td>\n",
       "      <td>56.0</td>\n",
       "      <td>41.0</td>\n",
       "      <td>42.0</td>\n",
       "      <td>47.0</td>\n",
       "      <td>56.0</td>\n",
       "      <td>64.0</td>\n",
       "      <td>52.0</td>\n",
       "      <td>44.0</td>\n",
       "      <td>51.0</td>\n",
       "      <td>54.0</td>\n",
       "      <td>50</td>\n",
       "      <td>3</td>\n",
       "    </tr>\n",
       "    <tr>\n",
       "      <th>5</th>\n",
       "      <td>1007</td>\n",
       "      <td>NaN</td>\n",
       "      <td>NaN</td>\n",
       "      <td>NaN</td>\n",
       "      <td>11.0</td>\n",
       "      <td>39.0</td>\n",
       "      <td>26.0</td>\n",
       "      <td>26.0</td>\n",
       "      <td>27.0</td>\n",
       "      <td>31.0</td>\n",
       "      <td>18.0</td>\n",
       "      <td>21.0</td>\n",
       "      <td>26.0</td>\n",
       "      <td>50</td>\n",
       "      <td>3</td>\n",
       "    </tr>\n",
       "    <tr>\n",
       "      <th>6</th>\n",
       "      <td>1008</td>\n",
       "      <td>NaN</td>\n",
       "      <td>NaN</td>\n",
       "      <td>NaN</td>\n",
       "      <td>NaN</td>\n",
       "      <td>NaN</td>\n",
       "      <td>NaN</td>\n",
       "      <td>NaN</td>\n",
       "      <td>NaN</td>\n",
       "      <td>NaN</td>\n",
       "      <td>NaN</td>\n",
       "      <td>NaN</td>\n",
       "      <td>56.0</td>\n",
       "      <td>50</td>\n",
       "      <td>3</td>\n",
       "    </tr>\n",
       "    <tr>\n",
       "      <th>7</th>\n",
       "      <td>1009</td>\n",
       "      <td>NaN</td>\n",
       "      <td>NaN</td>\n",
       "      <td>2.0</td>\n",
       "      <td>14.0</td>\n",
       "      <td>7.0</td>\n",
       "      <td>14.0</td>\n",
       "      <td>14.0</td>\n",
       "      <td>9.0</td>\n",
       "      <td>12.0</td>\n",
       "      <td>15.0</td>\n",
       "      <td>11.0</td>\n",
       "      <td>12.0</td>\n",
       "      <td>50</td>\n",
       "      <td>3</td>\n",
       "    </tr>\n",
       "    <tr>\n",
       "      <th>8</th>\n",
       "      <td>1011</td>\n",
       "      <td>NaN</td>\n",
       "      <td>NaN</td>\n",
       "      <td>4.0</td>\n",
       "      <td>7.0</td>\n",
       "      <td>13.0</td>\n",
       "      <td>13.0</td>\n",
       "      <td>13.0</td>\n",
       "      <td>15.0</td>\n",
       "      <td>10.0</td>\n",
       "      <td>17.0</td>\n",
       "      <td>12.0</td>\n",
       "      <td>6.0</td>\n",
       "      <td>50</td>\n",
       "      <td>3</td>\n",
       "    </tr>\n",
       "    <tr>\n",
       "      <th>9</th>\n",
       "      <td>1012</td>\n",
       "      <td>NaN</td>\n",
       "      <td>NaN</td>\n",
       "      <td>2.0</td>\n",
       "      <td>21.0</td>\n",
       "      <td>10.0</td>\n",
       "      <td>15.0</td>\n",
       "      <td>12.0</td>\n",
       "      <td>23.0</td>\n",
       "      <td>14.0</td>\n",
       "      <td>13.0</td>\n",
       "      <td>25.0</td>\n",
       "      <td>15.0</td>\n",
       "      <td>50</td>\n",
       "      <td>3</td>\n",
       "    </tr>\n",
       "  </tbody>\n",
       "</table>\n",
       "</div>"
      ],
      "text/plain": [
       "   user_id    1     2     3     4     5      6      7      8      9     10  \\\n",
       "0     1000  NaN   NaN   NaN   NaN  22.0   60.0   75.0   81.0   57.0   73.0   \n",
       "1     1002  NaN   NaN   NaN   NaN   NaN    4.0   11.0   13.0    4.0   10.0   \n",
       "2     1003  NaN   NaN   NaN   NaN   NaN    NaN    NaN   37.0   91.0   83.0   \n",
       "3     1004  NaN   NaN   NaN   NaN  95.0  134.0  181.0  151.0  146.0  165.0   \n",
       "4     1005  7.0  38.0  56.0  41.0  42.0   47.0   56.0   64.0   52.0   44.0   \n",
       "5     1007  NaN   NaN   NaN  11.0  39.0   26.0   26.0   27.0   31.0   18.0   \n",
       "6     1008  NaN   NaN   NaN   NaN   NaN    NaN    NaN    NaN    NaN    NaN   \n",
       "7     1009  NaN   NaN   2.0  14.0   7.0   14.0   14.0    9.0   12.0   15.0   \n",
       "8     1011  NaN   NaN   4.0   7.0  13.0   13.0   13.0   15.0   10.0   17.0   \n",
       "9     1012  NaN   NaN   2.0  21.0  10.0   15.0   12.0   23.0   14.0   13.0   \n",
       "\n",
       "      11     12  messages_included  rub_per_message  \n",
       "0   58.0   70.0               1000                1  \n",
       "1   16.0   12.0                 50                3  \n",
       "2   94.0   75.0               1000                1  \n",
       "3  158.0  162.0               1000                1  \n",
       "4   51.0   54.0                 50                3  \n",
       "5   21.0   26.0                 50                3  \n",
       "6    NaN   56.0                 50                3  \n",
       "7   11.0   12.0                 50                3  \n",
       "8   12.0    6.0                 50                3  \n",
       "9   25.0   15.0                 50                3  "
      ]
     },
     "execution_count": 29,
     "metadata": {},
     "output_type": "execute_result"
    }
   ],
   "source": [
    "df_messages_total_info = df_messages_total.pivot_table(index = 'user_id', values = 'id', columns = 'month', aggfunc = 'count')\n",
    "df_messages_total_info_tariff = df_messages_total[['user_id', 'messages_included', 'rub_per_message']]\n",
    "df_messages_total_info = df_messages_total_info.merge(df_messages_total_info_tariff, on = 'user_id')\n",
    "df_messages_total_info = df_messages_total_info.drop_duplicates().reset_index(drop = True)\n",
    "df_messages_total_info.head(10)"
   ]
  },
  {
   "cell_type": "markdown",
   "metadata": {},
   "source": [
    "Создадим 12 столбцов, которые будут показывать разницу между оптравленными сообщениями и количеством сообщений по тарифу в месяц:"
   ]
  },
  {
   "cell_type": "code",
   "execution_count": 30,
   "metadata": {},
   "outputs": [
    {
     "data": {
      "text/html": [
       "<div>\n",
       "<style scoped>\n",
       "    .dataframe tbody tr th:only-of-type {\n",
       "        vertical-align: middle;\n",
       "    }\n",
       "\n",
       "    .dataframe tbody tr th {\n",
       "        vertical-align: top;\n",
       "    }\n",
       "\n",
       "    .dataframe thead th {\n",
       "        text-align: right;\n",
       "    }\n",
       "</style>\n",
       "<table border=\"1\" class=\"dataframe\">\n",
       "  <thead>\n",
       "    <tr style=\"text-align: right;\">\n",
       "      <th></th>\n",
       "      <th>user_id</th>\n",
       "      <th>1</th>\n",
       "      <th>2</th>\n",
       "      <th>3</th>\n",
       "      <th>4</th>\n",
       "      <th>5</th>\n",
       "      <th>6</th>\n",
       "      <th>7</th>\n",
       "      <th>8</th>\n",
       "      <th>9</th>\n",
       "      <th>...</th>\n",
       "      <th>income mess per 3</th>\n",
       "      <th>income mess per 4</th>\n",
       "      <th>income mess per 5</th>\n",
       "      <th>income mess per 6</th>\n",
       "      <th>income mess per 7</th>\n",
       "      <th>income mess per 8</th>\n",
       "      <th>income mess per 9</th>\n",
       "      <th>income mess per 10</th>\n",
       "      <th>income mess per 11</th>\n",
       "      <th>income mess per 12</th>\n",
       "    </tr>\n",
       "  </thead>\n",
       "  <tbody>\n",
       "    <tr>\n",
       "      <th>0</th>\n",
       "      <td>1000</td>\n",
       "      <td>NaN</td>\n",
       "      <td>NaN</td>\n",
       "      <td>NaN</td>\n",
       "      <td>NaN</td>\n",
       "      <td>22.0</td>\n",
       "      <td>60.0</td>\n",
       "      <td>75.0</td>\n",
       "      <td>81.0</td>\n",
       "      <td>57.0</td>\n",
       "      <td>...</td>\n",
       "      <td>NaN</td>\n",
       "      <td>NaN</td>\n",
       "      <td>-978.0</td>\n",
       "      <td>-940.0</td>\n",
       "      <td>-925.0</td>\n",
       "      <td>-919.0</td>\n",
       "      <td>-943.0</td>\n",
       "      <td>-927.0</td>\n",
       "      <td>-942.0</td>\n",
       "      <td>-930.0</td>\n",
       "    </tr>\n",
       "    <tr>\n",
       "      <th>1</th>\n",
       "      <td>1002</td>\n",
       "      <td>NaN</td>\n",
       "      <td>NaN</td>\n",
       "      <td>NaN</td>\n",
       "      <td>NaN</td>\n",
       "      <td>NaN</td>\n",
       "      <td>4.0</td>\n",
       "      <td>11.0</td>\n",
       "      <td>13.0</td>\n",
       "      <td>4.0</td>\n",
       "      <td>...</td>\n",
       "      <td>NaN</td>\n",
       "      <td>NaN</td>\n",
       "      <td>NaN</td>\n",
       "      <td>-46.0</td>\n",
       "      <td>-39.0</td>\n",
       "      <td>-37.0</td>\n",
       "      <td>-46.0</td>\n",
       "      <td>-40.0</td>\n",
       "      <td>-34.0</td>\n",
       "      <td>-38.0</td>\n",
       "    </tr>\n",
       "    <tr>\n",
       "      <th>2</th>\n",
       "      <td>1003</td>\n",
       "      <td>NaN</td>\n",
       "      <td>NaN</td>\n",
       "      <td>NaN</td>\n",
       "      <td>NaN</td>\n",
       "      <td>NaN</td>\n",
       "      <td>NaN</td>\n",
       "      <td>NaN</td>\n",
       "      <td>37.0</td>\n",
       "      <td>91.0</td>\n",
       "      <td>...</td>\n",
       "      <td>NaN</td>\n",
       "      <td>NaN</td>\n",
       "      <td>NaN</td>\n",
       "      <td>NaN</td>\n",
       "      <td>NaN</td>\n",
       "      <td>-963.0</td>\n",
       "      <td>-909.0</td>\n",
       "      <td>-917.0</td>\n",
       "      <td>-906.0</td>\n",
       "      <td>-925.0</td>\n",
       "    </tr>\n",
       "    <tr>\n",
       "      <th>3</th>\n",
       "      <td>1004</td>\n",
       "      <td>NaN</td>\n",
       "      <td>NaN</td>\n",
       "      <td>NaN</td>\n",
       "      <td>NaN</td>\n",
       "      <td>95.0</td>\n",
       "      <td>134.0</td>\n",
       "      <td>181.0</td>\n",
       "      <td>151.0</td>\n",
       "      <td>146.0</td>\n",
       "      <td>...</td>\n",
       "      <td>NaN</td>\n",
       "      <td>NaN</td>\n",
       "      <td>-905.0</td>\n",
       "      <td>-866.0</td>\n",
       "      <td>-819.0</td>\n",
       "      <td>-849.0</td>\n",
       "      <td>-854.0</td>\n",
       "      <td>-835.0</td>\n",
       "      <td>-842.0</td>\n",
       "      <td>-838.0</td>\n",
       "    </tr>\n",
       "    <tr>\n",
       "      <th>4</th>\n",
       "      <td>1005</td>\n",
       "      <td>7.0</td>\n",
       "      <td>38.0</td>\n",
       "      <td>56.0</td>\n",
       "      <td>41.0</td>\n",
       "      <td>42.0</td>\n",
       "      <td>47.0</td>\n",
       "      <td>56.0</td>\n",
       "      <td>64.0</td>\n",
       "      <td>52.0</td>\n",
       "      <td>...</td>\n",
       "      <td>6.0</td>\n",
       "      <td>-9.0</td>\n",
       "      <td>-8.0</td>\n",
       "      <td>-3.0</td>\n",
       "      <td>6.0</td>\n",
       "      <td>14.0</td>\n",
       "      <td>2.0</td>\n",
       "      <td>-6.0</td>\n",
       "      <td>1.0</td>\n",
       "      <td>4.0</td>\n",
       "    </tr>\n",
       "    <tr>\n",
       "      <th>5</th>\n",
       "      <td>1007</td>\n",
       "      <td>NaN</td>\n",
       "      <td>NaN</td>\n",
       "      <td>NaN</td>\n",
       "      <td>11.0</td>\n",
       "      <td>39.0</td>\n",
       "      <td>26.0</td>\n",
       "      <td>26.0</td>\n",
       "      <td>27.0</td>\n",
       "      <td>31.0</td>\n",
       "      <td>...</td>\n",
       "      <td>NaN</td>\n",
       "      <td>-39.0</td>\n",
       "      <td>-11.0</td>\n",
       "      <td>-24.0</td>\n",
       "      <td>-24.0</td>\n",
       "      <td>-23.0</td>\n",
       "      <td>-19.0</td>\n",
       "      <td>-32.0</td>\n",
       "      <td>-29.0</td>\n",
       "      <td>-24.0</td>\n",
       "    </tr>\n",
       "    <tr>\n",
       "      <th>6</th>\n",
       "      <td>1008</td>\n",
       "      <td>NaN</td>\n",
       "      <td>NaN</td>\n",
       "      <td>NaN</td>\n",
       "      <td>NaN</td>\n",
       "      <td>NaN</td>\n",
       "      <td>NaN</td>\n",
       "      <td>NaN</td>\n",
       "      <td>NaN</td>\n",
       "      <td>NaN</td>\n",
       "      <td>...</td>\n",
       "      <td>NaN</td>\n",
       "      <td>NaN</td>\n",
       "      <td>NaN</td>\n",
       "      <td>NaN</td>\n",
       "      <td>NaN</td>\n",
       "      <td>NaN</td>\n",
       "      <td>NaN</td>\n",
       "      <td>NaN</td>\n",
       "      <td>NaN</td>\n",
       "      <td>6.0</td>\n",
       "    </tr>\n",
       "    <tr>\n",
       "      <th>7</th>\n",
       "      <td>1009</td>\n",
       "      <td>NaN</td>\n",
       "      <td>NaN</td>\n",
       "      <td>2.0</td>\n",
       "      <td>14.0</td>\n",
       "      <td>7.0</td>\n",
       "      <td>14.0</td>\n",
       "      <td>14.0</td>\n",
       "      <td>9.0</td>\n",
       "      <td>12.0</td>\n",
       "      <td>...</td>\n",
       "      <td>-48.0</td>\n",
       "      <td>-36.0</td>\n",
       "      <td>-43.0</td>\n",
       "      <td>-36.0</td>\n",
       "      <td>-36.0</td>\n",
       "      <td>-41.0</td>\n",
       "      <td>-38.0</td>\n",
       "      <td>-35.0</td>\n",
       "      <td>-39.0</td>\n",
       "      <td>-38.0</td>\n",
       "    </tr>\n",
       "    <tr>\n",
       "      <th>8</th>\n",
       "      <td>1011</td>\n",
       "      <td>NaN</td>\n",
       "      <td>NaN</td>\n",
       "      <td>4.0</td>\n",
       "      <td>7.0</td>\n",
       "      <td>13.0</td>\n",
       "      <td>13.0</td>\n",
       "      <td>13.0</td>\n",
       "      <td>15.0</td>\n",
       "      <td>10.0</td>\n",
       "      <td>...</td>\n",
       "      <td>-46.0</td>\n",
       "      <td>-43.0</td>\n",
       "      <td>-37.0</td>\n",
       "      <td>-37.0</td>\n",
       "      <td>-37.0</td>\n",
       "      <td>-35.0</td>\n",
       "      <td>-40.0</td>\n",
       "      <td>-33.0</td>\n",
       "      <td>-38.0</td>\n",
       "      <td>-44.0</td>\n",
       "    </tr>\n",
       "    <tr>\n",
       "      <th>9</th>\n",
       "      <td>1012</td>\n",
       "      <td>NaN</td>\n",
       "      <td>NaN</td>\n",
       "      <td>2.0</td>\n",
       "      <td>21.0</td>\n",
       "      <td>10.0</td>\n",
       "      <td>15.0</td>\n",
       "      <td>12.0</td>\n",
       "      <td>23.0</td>\n",
       "      <td>14.0</td>\n",
       "      <td>...</td>\n",
       "      <td>-48.0</td>\n",
       "      <td>-29.0</td>\n",
       "      <td>-40.0</td>\n",
       "      <td>-35.0</td>\n",
       "      <td>-38.0</td>\n",
       "      <td>-27.0</td>\n",
       "      <td>-36.0</td>\n",
       "      <td>-37.0</td>\n",
       "      <td>-25.0</td>\n",
       "      <td>-35.0</td>\n",
       "    </tr>\n",
       "  </tbody>\n",
       "</table>\n",
       "<p>10 rows × 27 columns</p>\n",
       "</div>"
      ],
      "text/plain": [
       "   user_id    1     2     3     4     5      6      7      8      9  ...  \\\n",
       "0     1000  NaN   NaN   NaN   NaN  22.0   60.0   75.0   81.0   57.0  ...   \n",
       "1     1002  NaN   NaN   NaN   NaN   NaN    4.0   11.0   13.0    4.0  ...   \n",
       "2     1003  NaN   NaN   NaN   NaN   NaN    NaN    NaN   37.0   91.0  ...   \n",
       "3     1004  NaN   NaN   NaN   NaN  95.0  134.0  181.0  151.0  146.0  ...   \n",
       "4     1005  7.0  38.0  56.0  41.0  42.0   47.0   56.0   64.0   52.0  ...   \n",
       "5     1007  NaN   NaN   NaN  11.0  39.0   26.0   26.0   27.0   31.0  ...   \n",
       "6     1008  NaN   NaN   NaN   NaN   NaN    NaN    NaN    NaN    NaN  ...   \n",
       "7     1009  NaN   NaN   2.0  14.0   7.0   14.0   14.0    9.0   12.0  ...   \n",
       "8     1011  NaN   NaN   4.0   7.0  13.0   13.0   13.0   15.0   10.0  ...   \n",
       "9     1012  NaN   NaN   2.0  21.0  10.0   15.0   12.0   23.0   14.0  ...   \n",
       "\n",
       "   income mess per 3  income mess per 4  income mess per 5  income mess per 6  \\\n",
       "0                NaN                NaN             -978.0             -940.0   \n",
       "1                NaN                NaN                NaN              -46.0   \n",
       "2                NaN                NaN                NaN                NaN   \n",
       "3                NaN                NaN             -905.0             -866.0   \n",
       "4                6.0               -9.0               -8.0               -3.0   \n",
       "5                NaN              -39.0              -11.0              -24.0   \n",
       "6                NaN                NaN                NaN                NaN   \n",
       "7              -48.0              -36.0              -43.0              -36.0   \n",
       "8              -46.0              -43.0              -37.0              -37.0   \n",
       "9              -48.0              -29.0              -40.0              -35.0   \n",
       "\n",
       "   income mess per 7  income mess per 8  income mess per 9  \\\n",
       "0             -925.0             -919.0             -943.0   \n",
       "1              -39.0              -37.0              -46.0   \n",
       "2                NaN             -963.0             -909.0   \n",
       "3             -819.0             -849.0             -854.0   \n",
       "4                6.0               14.0                2.0   \n",
       "5              -24.0              -23.0              -19.0   \n",
       "6                NaN                NaN                NaN   \n",
       "7              -36.0              -41.0              -38.0   \n",
       "8              -37.0              -35.0              -40.0   \n",
       "9              -38.0              -27.0              -36.0   \n",
       "\n",
       "   income mess per 10  income mess per 11  income mess per 12  \n",
       "0              -927.0              -942.0              -930.0  \n",
       "1               -40.0               -34.0               -38.0  \n",
       "2              -917.0              -906.0              -925.0  \n",
       "3              -835.0              -842.0              -838.0  \n",
       "4                -6.0                 1.0                 4.0  \n",
       "5               -32.0               -29.0               -24.0  \n",
       "6                 NaN                 NaN                 6.0  \n",
       "7               -35.0               -39.0               -38.0  \n",
       "8               -33.0               -38.0               -44.0  \n",
       "9               -37.0               -25.0               -35.0  \n",
       "\n",
       "[10 rows x 27 columns]"
      ]
     },
     "execution_count": 30,
     "metadata": {},
     "output_type": "execute_result"
    }
   ],
   "source": [
    "for index in range(12):\n",
    "    df_messages_total_info['income mess per ' + str(index + 1)] = df_messages_total_info[index + 1] - df_messages_total_info['messages_included']\n",
    "    \n",
    "df_messages_total_info.head(10)"
   ]
  },
  {
   "cell_type": "markdown",
   "metadata": {},
   "source": [
    "Изменим значения в полученных столбцах: если значения <= 0, пользователь не превысил норму тарифа, если же значения > 0, пользователь превысил норму тарифа - прибавляем сумму за дополнительные сообщения:"
   ]
  },
  {
   "cell_type": "code",
   "execution_count": 31,
   "metadata": {},
   "outputs": [
    {
     "data": {
      "text/html": [
       "<div>\n",
       "<style scoped>\n",
       "    .dataframe tbody tr th:only-of-type {\n",
       "        vertical-align: middle;\n",
       "    }\n",
       "\n",
       "    .dataframe tbody tr th {\n",
       "        vertical-align: top;\n",
       "    }\n",
       "\n",
       "    .dataframe thead th {\n",
       "        text-align: right;\n",
       "    }\n",
       "</style>\n",
       "<table border=\"1\" class=\"dataframe\">\n",
       "  <thead>\n",
       "    <tr style=\"text-align: right;\">\n",
       "      <th></th>\n",
       "      <th>user_id</th>\n",
       "      <th>1</th>\n",
       "      <th>2</th>\n",
       "      <th>3</th>\n",
       "      <th>4</th>\n",
       "      <th>5</th>\n",
       "      <th>6</th>\n",
       "      <th>7</th>\n",
       "      <th>8</th>\n",
       "      <th>9</th>\n",
       "      <th>...</th>\n",
       "      <th>income mess per 3</th>\n",
       "      <th>income mess per 4</th>\n",
       "      <th>income mess per 5</th>\n",
       "      <th>income mess per 6</th>\n",
       "      <th>income mess per 7</th>\n",
       "      <th>income mess per 8</th>\n",
       "      <th>income mess per 9</th>\n",
       "      <th>income mess per 10</th>\n",
       "      <th>income mess per 11</th>\n",
       "      <th>income mess per 12</th>\n",
       "    </tr>\n",
       "  </thead>\n",
       "  <tbody>\n",
       "    <tr>\n",
       "      <th>0</th>\n",
       "      <td>1000</td>\n",
       "      <td>NaN</td>\n",
       "      <td>NaN</td>\n",
       "      <td>NaN</td>\n",
       "      <td>NaN</td>\n",
       "      <td>22.0</td>\n",
       "      <td>60.0</td>\n",
       "      <td>75.0</td>\n",
       "      <td>81.0</td>\n",
       "      <td>57.0</td>\n",
       "      <td>...</td>\n",
       "      <td>NaN</td>\n",
       "      <td>NaN</td>\n",
       "      <td>0.0</td>\n",
       "      <td>0.0</td>\n",
       "      <td>0.0</td>\n",
       "      <td>0.0</td>\n",
       "      <td>0.0</td>\n",
       "      <td>0.0</td>\n",
       "      <td>0.0</td>\n",
       "      <td>0.0</td>\n",
       "    </tr>\n",
       "    <tr>\n",
       "      <th>1</th>\n",
       "      <td>1002</td>\n",
       "      <td>NaN</td>\n",
       "      <td>NaN</td>\n",
       "      <td>NaN</td>\n",
       "      <td>NaN</td>\n",
       "      <td>NaN</td>\n",
       "      <td>4.0</td>\n",
       "      <td>11.0</td>\n",
       "      <td>13.0</td>\n",
       "      <td>4.0</td>\n",
       "      <td>...</td>\n",
       "      <td>NaN</td>\n",
       "      <td>NaN</td>\n",
       "      <td>NaN</td>\n",
       "      <td>0.0</td>\n",
       "      <td>0.0</td>\n",
       "      <td>0.0</td>\n",
       "      <td>0.0</td>\n",
       "      <td>0.0</td>\n",
       "      <td>0.0</td>\n",
       "      <td>0.0</td>\n",
       "    </tr>\n",
       "    <tr>\n",
       "      <th>2</th>\n",
       "      <td>1003</td>\n",
       "      <td>NaN</td>\n",
       "      <td>NaN</td>\n",
       "      <td>NaN</td>\n",
       "      <td>NaN</td>\n",
       "      <td>NaN</td>\n",
       "      <td>NaN</td>\n",
       "      <td>NaN</td>\n",
       "      <td>37.0</td>\n",
       "      <td>91.0</td>\n",
       "      <td>...</td>\n",
       "      <td>NaN</td>\n",
       "      <td>NaN</td>\n",
       "      <td>NaN</td>\n",
       "      <td>NaN</td>\n",
       "      <td>NaN</td>\n",
       "      <td>0.0</td>\n",
       "      <td>0.0</td>\n",
       "      <td>0.0</td>\n",
       "      <td>0.0</td>\n",
       "      <td>0.0</td>\n",
       "    </tr>\n",
       "    <tr>\n",
       "      <th>3</th>\n",
       "      <td>1004</td>\n",
       "      <td>NaN</td>\n",
       "      <td>NaN</td>\n",
       "      <td>NaN</td>\n",
       "      <td>NaN</td>\n",
       "      <td>95.0</td>\n",
       "      <td>134.0</td>\n",
       "      <td>181.0</td>\n",
       "      <td>151.0</td>\n",
       "      <td>146.0</td>\n",
       "      <td>...</td>\n",
       "      <td>NaN</td>\n",
       "      <td>NaN</td>\n",
       "      <td>0.0</td>\n",
       "      <td>0.0</td>\n",
       "      <td>0.0</td>\n",
       "      <td>0.0</td>\n",
       "      <td>0.0</td>\n",
       "      <td>0.0</td>\n",
       "      <td>0.0</td>\n",
       "      <td>0.0</td>\n",
       "    </tr>\n",
       "    <tr>\n",
       "      <th>4</th>\n",
       "      <td>1005</td>\n",
       "      <td>7.0</td>\n",
       "      <td>38.0</td>\n",
       "      <td>56.0</td>\n",
       "      <td>41.0</td>\n",
       "      <td>42.0</td>\n",
       "      <td>47.0</td>\n",
       "      <td>56.0</td>\n",
       "      <td>64.0</td>\n",
       "      <td>52.0</td>\n",
       "      <td>...</td>\n",
       "      <td>18.0</td>\n",
       "      <td>0.0</td>\n",
       "      <td>0.0</td>\n",
       "      <td>0.0</td>\n",
       "      <td>18.0</td>\n",
       "      <td>42.0</td>\n",
       "      <td>6.0</td>\n",
       "      <td>0.0</td>\n",
       "      <td>3.0</td>\n",
       "      <td>12.0</td>\n",
       "    </tr>\n",
       "    <tr>\n",
       "      <th>5</th>\n",
       "      <td>1007</td>\n",
       "      <td>NaN</td>\n",
       "      <td>NaN</td>\n",
       "      <td>NaN</td>\n",
       "      <td>11.0</td>\n",
       "      <td>39.0</td>\n",
       "      <td>26.0</td>\n",
       "      <td>26.0</td>\n",
       "      <td>27.0</td>\n",
       "      <td>31.0</td>\n",
       "      <td>...</td>\n",
       "      <td>NaN</td>\n",
       "      <td>0.0</td>\n",
       "      <td>0.0</td>\n",
       "      <td>0.0</td>\n",
       "      <td>0.0</td>\n",
       "      <td>0.0</td>\n",
       "      <td>0.0</td>\n",
       "      <td>0.0</td>\n",
       "      <td>0.0</td>\n",
       "      <td>0.0</td>\n",
       "    </tr>\n",
       "    <tr>\n",
       "      <th>6</th>\n",
       "      <td>1008</td>\n",
       "      <td>NaN</td>\n",
       "      <td>NaN</td>\n",
       "      <td>NaN</td>\n",
       "      <td>NaN</td>\n",
       "      <td>NaN</td>\n",
       "      <td>NaN</td>\n",
       "      <td>NaN</td>\n",
       "      <td>NaN</td>\n",
       "      <td>NaN</td>\n",
       "      <td>...</td>\n",
       "      <td>NaN</td>\n",
       "      <td>NaN</td>\n",
       "      <td>NaN</td>\n",
       "      <td>NaN</td>\n",
       "      <td>NaN</td>\n",
       "      <td>NaN</td>\n",
       "      <td>NaN</td>\n",
       "      <td>NaN</td>\n",
       "      <td>NaN</td>\n",
       "      <td>18.0</td>\n",
       "    </tr>\n",
       "    <tr>\n",
       "      <th>7</th>\n",
       "      <td>1009</td>\n",
       "      <td>NaN</td>\n",
       "      <td>NaN</td>\n",
       "      <td>2.0</td>\n",
       "      <td>14.0</td>\n",
       "      <td>7.0</td>\n",
       "      <td>14.0</td>\n",
       "      <td>14.0</td>\n",
       "      <td>9.0</td>\n",
       "      <td>12.0</td>\n",
       "      <td>...</td>\n",
       "      <td>0.0</td>\n",
       "      <td>0.0</td>\n",
       "      <td>0.0</td>\n",
       "      <td>0.0</td>\n",
       "      <td>0.0</td>\n",
       "      <td>0.0</td>\n",
       "      <td>0.0</td>\n",
       "      <td>0.0</td>\n",
       "      <td>0.0</td>\n",
       "      <td>0.0</td>\n",
       "    </tr>\n",
       "    <tr>\n",
       "      <th>8</th>\n",
       "      <td>1011</td>\n",
       "      <td>NaN</td>\n",
       "      <td>NaN</td>\n",
       "      <td>4.0</td>\n",
       "      <td>7.0</td>\n",
       "      <td>13.0</td>\n",
       "      <td>13.0</td>\n",
       "      <td>13.0</td>\n",
       "      <td>15.0</td>\n",
       "      <td>10.0</td>\n",
       "      <td>...</td>\n",
       "      <td>0.0</td>\n",
       "      <td>0.0</td>\n",
       "      <td>0.0</td>\n",
       "      <td>0.0</td>\n",
       "      <td>0.0</td>\n",
       "      <td>0.0</td>\n",
       "      <td>0.0</td>\n",
       "      <td>0.0</td>\n",
       "      <td>0.0</td>\n",
       "      <td>0.0</td>\n",
       "    </tr>\n",
       "    <tr>\n",
       "      <th>9</th>\n",
       "      <td>1012</td>\n",
       "      <td>NaN</td>\n",
       "      <td>NaN</td>\n",
       "      <td>2.0</td>\n",
       "      <td>21.0</td>\n",
       "      <td>10.0</td>\n",
       "      <td>15.0</td>\n",
       "      <td>12.0</td>\n",
       "      <td>23.0</td>\n",
       "      <td>14.0</td>\n",
       "      <td>...</td>\n",
       "      <td>0.0</td>\n",
       "      <td>0.0</td>\n",
       "      <td>0.0</td>\n",
       "      <td>0.0</td>\n",
       "      <td>0.0</td>\n",
       "      <td>0.0</td>\n",
       "      <td>0.0</td>\n",
       "      <td>0.0</td>\n",
       "      <td>0.0</td>\n",
       "      <td>0.0</td>\n",
       "    </tr>\n",
       "  </tbody>\n",
       "</table>\n",
       "<p>10 rows × 27 columns</p>\n",
       "</div>"
      ],
      "text/plain": [
       "   user_id    1     2     3     4     5      6      7      8      9  ...  \\\n",
       "0     1000  NaN   NaN   NaN   NaN  22.0   60.0   75.0   81.0   57.0  ...   \n",
       "1     1002  NaN   NaN   NaN   NaN   NaN    4.0   11.0   13.0    4.0  ...   \n",
       "2     1003  NaN   NaN   NaN   NaN   NaN    NaN    NaN   37.0   91.0  ...   \n",
       "3     1004  NaN   NaN   NaN   NaN  95.0  134.0  181.0  151.0  146.0  ...   \n",
       "4     1005  7.0  38.0  56.0  41.0  42.0   47.0   56.0   64.0   52.0  ...   \n",
       "5     1007  NaN   NaN   NaN  11.0  39.0   26.0   26.0   27.0   31.0  ...   \n",
       "6     1008  NaN   NaN   NaN   NaN   NaN    NaN    NaN    NaN    NaN  ...   \n",
       "7     1009  NaN   NaN   2.0  14.0   7.0   14.0   14.0    9.0   12.0  ...   \n",
       "8     1011  NaN   NaN   4.0   7.0  13.0   13.0   13.0   15.0   10.0  ...   \n",
       "9     1012  NaN   NaN   2.0  21.0  10.0   15.0   12.0   23.0   14.0  ...   \n",
       "\n",
       "   income mess per 3  income mess per 4  income mess per 5  income mess per 6  \\\n",
       "0                NaN                NaN                0.0                0.0   \n",
       "1                NaN                NaN                NaN                0.0   \n",
       "2                NaN                NaN                NaN                NaN   \n",
       "3                NaN                NaN                0.0                0.0   \n",
       "4               18.0                0.0                0.0                0.0   \n",
       "5                NaN                0.0                0.0                0.0   \n",
       "6                NaN                NaN                NaN                NaN   \n",
       "7                0.0                0.0                0.0                0.0   \n",
       "8                0.0                0.0                0.0                0.0   \n",
       "9                0.0                0.0                0.0                0.0   \n",
       "\n",
       "   income mess per 7  income mess per 8  income mess per 9  \\\n",
       "0                0.0                0.0                0.0   \n",
       "1                0.0                0.0                0.0   \n",
       "2                NaN                0.0                0.0   \n",
       "3                0.0                0.0                0.0   \n",
       "4               18.0               42.0                6.0   \n",
       "5                0.0                0.0                0.0   \n",
       "6                NaN                NaN                NaN   \n",
       "7                0.0                0.0                0.0   \n",
       "8                0.0                0.0                0.0   \n",
       "9                0.0                0.0                0.0   \n",
       "\n",
       "   income mess per 10  income mess per 11  income mess per 12  \n",
       "0                 0.0                 0.0                 0.0  \n",
       "1                 0.0                 0.0                 0.0  \n",
       "2                 0.0                 0.0                 0.0  \n",
       "3                 0.0                 0.0                 0.0  \n",
       "4                 0.0                 3.0                12.0  \n",
       "5                 0.0                 0.0                 0.0  \n",
       "6                 NaN                 NaN                18.0  \n",
       "7                 0.0                 0.0                 0.0  \n",
       "8                 0.0                 0.0                 0.0  \n",
       "9                 0.0                 0.0                 0.0  \n",
       "\n",
       "[10 rows x 27 columns]"
      ]
     },
     "execution_count": 31,
     "metadata": {},
     "output_type": "execute_result"
    }
   ],
   "source": [
    "for index in range(12):\n",
    "    df_messages_total_info['income mess per ' + str(index + 1)] = np.where(df_messages_total_info['income mess per ' + str(index + 1)] <= 0, 0, \n",
    "                                                                           df_messages_total_info['income mess per ' + str(index + 1)] * df_messages_total_info['rub_per_message'])\n",
    "    \n",
    "df_messages_total_info.head(10)"
   ]
  },
  {
   "cell_type": "markdown",
   "metadata": {},
   "source": [
    "Создадим новый DataFrame, содержащий информацию о прибыли за сообщения сверх тарифного плана за 12 месяцев по каждому пользователю:"
   ]
  },
  {
   "cell_type": "code",
   "execution_count": 32,
   "metadata": {},
   "outputs": [
    {
     "data": {
      "text/html": [
       "<div>\n",
       "<style scoped>\n",
       "    .dataframe tbody tr th:only-of-type {\n",
       "        vertical-align: middle;\n",
       "    }\n",
       "\n",
       "    .dataframe tbody tr th {\n",
       "        vertical-align: top;\n",
       "    }\n",
       "\n",
       "    .dataframe thead th {\n",
       "        text-align: right;\n",
       "    }\n",
       "</style>\n",
       "<table border=\"1\" class=\"dataframe\">\n",
       "  <thead>\n",
       "    <tr style=\"text-align: right;\">\n",
       "      <th></th>\n",
       "      <th>user_id</th>\n",
       "      <th>income mess per 1</th>\n",
       "      <th>income mess per 2</th>\n",
       "      <th>income mess per 3</th>\n",
       "      <th>income mess per 4</th>\n",
       "      <th>income mess per 5</th>\n",
       "      <th>income mess per 6</th>\n",
       "      <th>income mess per 7</th>\n",
       "      <th>income mess per 8</th>\n",
       "      <th>income mess per 9</th>\n",
       "      <th>income mess per 10</th>\n",
       "      <th>income mess per 11</th>\n",
       "      <th>income mess per 12</th>\n",
       "    </tr>\n",
       "  </thead>\n",
       "  <tbody>\n",
       "    <tr>\n",
       "      <th>0</th>\n",
       "      <td>1000</td>\n",
       "      <td>NaN</td>\n",
       "      <td>NaN</td>\n",
       "      <td>NaN</td>\n",
       "      <td>NaN</td>\n",
       "      <td>0.0</td>\n",
       "      <td>0.0</td>\n",
       "      <td>0.0</td>\n",
       "      <td>0.0</td>\n",
       "      <td>0.0</td>\n",
       "      <td>0.0</td>\n",
       "      <td>0.0</td>\n",
       "      <td>0.0</td>\n",
       "    </tr>\n",
       "    <tr>\n",
       "      <th>1</th>\n",
       "      <td>1002</td>\n",
       "      <td>NaN</td>\n",
       "      <td>NaN</td>\n",
       "      <td>NaN</td>\n",
       "      <td>NaN</td>\n",
       "      <td>NaN</td>\n",
       "      <td>0.0</td>\n",
       "      <td>0.0</td>\n",
       "      <td>0.0</td>\n",
       "      <td>0.0</td>\n",
       "      <td>0.0</td>\n",
       "      <td>0.0</td>\n",
       "      <td>0.0</td>\n",
       "    </tr>\n",
       "    <tr>\n",
       "      <th>2</th>\n",
       "      <td>1003</td>\n",
       "      <td>NaN</td>\n",
       "      <td>NaN</td>\n",
       "      <td>NaN</td>\n",
       "      <td>NaN</td>\n",
       "      <td>NaN</td>\n",
       "      <td>NaN</td>\n",
       "      <td>NaN</td>\n",
       "      <td>0.0</td>\n",
       "      <td>0.0</td>\n",
       "      <td>0.0</td>\n",
       "      <td>0.0</td>\n",
       "      <td>0.0</td>\n",
       "    </tr>\n",
       "    <tr>\n",
       "      <th>3</th>\n",
       "      <td>1004</td>\n",
       "      <td>NaN</td>\n",
       "      <td>NaN</td>\n",
       "      <td>NaN</td>\n",
       "      <td>NaN</td>\n",
       "      <td>0.0</td>\n",
       "      <td>0.0</td>\n",
       "      <td>0.0</td>\n",
       "      <td>0.0</td>\n",
       "      <td>0.0</td>\n",
       "      <td>0.0</td>\n",
       "      <td>0.0</td>\n",
       "      <td>0.0</td>\n",
       "    </tr>\n",
       "    <tr>\n",
       "      <th>4</th>\n",
       "      <td>1005</td>\n",
       "      <td>0.0</td>\n",
       "      <td>0.0</td>\n",
       "      <td>18.0</td>\n",
       "      <td>0.0</td>\n",
       "      <td>0.0</td>\n",
       "      <td>0.0</td>\n",
       "      <td>18.0</td>\n",
       "      <td>42.0</td>\n",
       "      <td>6.0</td>\n",
       "      <td>0.0</td>\n",
       "      <td>3.0</td>\n",
       "      <td>12.0</td>\n",
       "    </tr>\n",
       "    <tr>\n",
       "      <th>5</th>\n",
       "      <td>1007</td>\n",
       "      <td>NaN</td>\n",
       "      <td>NaN</td>\n",
       "      <td>NaN</td>\n",
       "      <td>0.0</td>\n",
       "      <td>0.0</td>\n",
       "      <td>0.0</td>\n",
       "      <td>0.0</td>\n",
       "      <td>0.0</td>\n",
       "      <td>0.0</td>\n",
       "      <td>0.0</td>\n",
       "      <td>0.0</td>\n",
       "      <td>0.0</td>\n",
       "    </tr>\n",
       "    <tr>\n",
       "      <th>6</th>\n",
       "      <td>1008</td>\n",
       "      <td>NaN</td>\n",
       "      <td>NaN</td>\n",
       "      <td>NaN</td>\n",
       "      <td>NaN</td>\n",
       "      <td>NaN</td>\n",
       "      <td>NaN</td>\n",
       "      <td>NaN</td>\n",
       "      <td>NaN</td>\n",
       "      <td>NaN</td>\n",
       "      <td>NaN</td>\n",
       "      <td>NaN</td>\n",
       "      <td>18.0</td>\n",
       "    </tr>\n",
       "    <tr>\n",
       "      <th>7</th>\n",
       "      <td>1009</td>\n",
       "      <td>NaN</td>\n",
       "      <td>NaN</td>\n",
       "      <td>0.0</td>\n",
       "      <td>0.0</td>\n",
       "      <td>0.0</td>\n",
       "      <td>0.0</td>\n",
       "      <td>0.0</td>\n",
       "      <td>0.0</td>\n",
       "      <td>0.0</td>\n",
       "      <td>0.0</td>\n",
       "      <td>0.0</td>\n",
       "      <td>0.0</td>\n",
       "    </tr>\n",
       "    <tr>\n",
       "      <th>8</th>\n",
       "      <td>1011</td>\n",
       "      <td>NaN</td>\n",
       "      <td>NaN</td>\n",
       "      <td>0.0</td>\n",
       "      <td>0.0</td>\n",
       "      <td>0.0</td>\n",
       "      <td>0.0</td>\n",
       "      <td>0.0</td>\n",
       "      <td>0.0</td>\n",
       "      <td>0.0</td>\n",
       "      <td>0.0</td>\n",
       "      <td>0.0</td>\n",
       "      <td>0.0</td>\n",
       "    </tr>\n",
       "    <tr>\n",
       "      <th>9</th>\n",
       "      <td>1012</td>\n",
       "      <td>NaN</td>\n",
       "      <td>NaN</td>\n",
       "      <td>0.0</td>\n",
       "      <td>0.0</td>\n",
       "      <td>0.0</td>\n",
       "      <td>0.0</td>\n",
       "      <td>0.0</td>\n",
       "      <td>0.0</td>\n",
       "      <td>0.0</td>\n",
       "      <td>0.0</td>\n",
       "      <td>0.0</td>\n",
       "      <td>0.0</td>\n",
       "    </tr>\n",
       "  </tbody>\n",
       "</table>\n",
       "</div>"
      ],
      "text/plain": [
       "   user_id  income mess per 1  income mess per 2  income mess per 3  \\\n",
       "0     1000                NaN                NaN                NaN   \n",
       "1     1002                NaN                NaN                NaN   \n",
       "2     1003                NaN                NaN                NaN   \n",
       "3     1004                NaN                NaN                NaN   \n",
       "4     1005                0.0                0.0               18.0   \n",
       "5     1007                NaN                NaN                NaN   \n",
       "6     1008                NaN                NaN                NaN   \n",
       "7     1009                NaN                NaN                0.0   \n",
       "8     1011                NaN                NaN                0.0   \n",
       "9     1012                NaN                NaN                0.0   \n",
       "\n",
       "   income mess per 4  income mess per 5  income mess per 6  income mess per 7  \\\n",
       "0                NaN                0.0                0.0                0.0   \n",
       "1                NaN                NaN                0.0                0.0   \n",
       "2                NaN                NaN                NaN                NaN   \n",
       "3                NaN                0.0                0.0                0.0   \n",
       "4                0.0                0.0                0.0               18.0   \n",
       "5                0.0                0.0                0.0                0.0   \n",
       "6                NaN                NaN                NaN                NaN   \n",
       "7                0.0                0.0                0.0                0.0   \n",
       "8                0.0                0.0                0.0                0.0   \n",
       "9                0.0                0.0                0.0                0.0   \n",
       "\n",
       "   income mess per 8  income mess per 9  income mess per 10  \\\n",
       "0                0.0                0.0                 0.0   \n",
       "1                0.0                0.0                 0.0   \n",
       "2                0.0                0.0                 0.0   \n",
       "3                0.0                0.0                 0.0   \n",
       "4               42.0                6.0                 0.0   \n",
       "5                0.0                0.0                 0.0   \n",
       "6                NaN                NaN                 NaN   \n",
       "7                0.0                0.0                 0.0   \n",
       "8                0.0                0.0                 0.0   \n",
       "9                0.0                0.0                 0.0   \n",
       "\n",
       "   income mess per 11  income mess per 12  \n",
       "0                 0.0                 0.0  \n",
       "1                 0.0                 0.0  \n",
       "2                 0.0                 0.0  \n",
       "3                 0.0                 0.0  \n",
       "4                 3.0                12.0  \n",
       "5                 0.0                 0.0  \n",
       "6                 NaN                18.0  \n",
       "7                 0.0                 0.0  \n",
       "8                 0.0                 0.0  \n",
       "9                 0.0                 0.0  "
      ]
     },
     "execution_count": 32,
     "metadata": {},
     "output_type": "execute_result"
    }
   ],
   "source": [
    "df_messages_income_12_months = df_messages_total_info[['user_id', 'income mess per 1', 'income mess per 2', 'income mess per 3', \n",
    "                                                       'income mess per 4', 'income mess per 5', 'income mess per 6', \n",
    "                                                       'income mess per 7', 'income mess per 8', 'income mess per 9', \n",
    "                                                       'income mess per 10', 'income mess per 11', 'income mess per 12']]\n",
    "\n",
    "df_messages_income_12_months.head(10)"
   ]
  },
  {
   "cell_type": "markdown",
   "metadata": {},
   "source": [
    "Объединим таблицы с информацией о пользователях, их сообщениями, а также таблицу с тарифами в одну - df_internet_total:"
   ]
  },
  {
   "cell_type": "code",
   "execution_count": 33,
   "metadata": {},
   "outputs": [
    {
     "data": {
      "text/html": [
       "<div>\n",
       "<style scoped>\n",
       "    .dataframe tbody tr th:only-of-type {\n",
       "        vertical-align: middle;\n",
       "    }\n",
       "\n",
       "    .dataframe tbody tr th {\n",
       "        vertical-align: top;\n",
       "    }\n",
       "\n",
       "    .dataframe thead th {\n",
       "        text-align: right;\n",
       "    }\n",
       "</style>\n",
       "<table border=\"1\" class=\"dataframe\">\n",
       "  <thead>\n",
       "    <tr style=\"text-align: right;\">\n",
       "      <th></th>\n",
       "      <th>id</th>\n",
       "      <th>mb_used</th>\n",
       "      <th>session_date</th>\n",
       "      <th>user_id</th>\n",
       "      <th>month</th>\n",
       "      <th>age</th>\n",
       "      <th>churn_date</th>\n",
       "      <th>city</th>\n",
       "      <th>first_name</th>\n",
       "      <th>last_name</th>\n",
       "      <th>reg_date</th>\n",
       "      <th>tariff</th>\n",
       "      <th>messages_included</th>\n",
       "      <th>mb_per_month_included</th>\n",
       "      <th>minutes_included</th>\n",
       "      <th>rub_monthly_fee</th>\n",
       "      <th>rub_per_gb</th>\n",
       "      <th>rub_per_message</th>\n",
       "      <th>rub_per_minute</th>\n",
       "    </tr>\n",
       "  </thead>\n",
       "  <tbody>\n",
       "    <tr>\n",
       "      <th>0</th>\n",
       "      <td>10000</td>\n",
       "      <td>112.95</td>\n",
       "      <td>2018-11-25</td>\n",
       "      <td>1000</td>\n",
       "      <td>11</td>\n",
       "      <td>52</td>\n",
       "      <td>NaT</td>\n",
       "      <td>Краснодар</td>\n",
       "      <td>Рафаил</td>\n",
       "      <td>Верещагин</td>\n",
       "      <td>2018-05-25</td>\n",
       "      <td>ultra</td>\n",
       "      <td>1000</td>\n",
       "      <td>30720</td>\n",
       "      <td>3000</td>\n",
       "      <td>1950</td>\n",
       "      <td>150</td>\n",
       "      <td>1</td>\n",
       "      <td>1</td>\n",
       "    </tr>\n",
       "    <tr>\n",
       "      <th>1</th>\n",
       "      <td>10001</td>\n",
       "      <td>1052.81</td>\n",
       "      <td>2018-09-07</td>\n",
       "      <td>1000</td>\n",
       "      <td>9</td>\n",
       "      <td>52</td>\n",
       "      <td>NaT</td>\n",
       "      <td>Краснодар</td>\n",
       "      <td>Рафаил</td>\n",
       "      <td>Верещагин</td>\n",
       "      <td>2018-05-25</td>\n",
       "      <td>ultra</td>\n",
       "      <td>1000</td>\n",
       "      <td>30720</td>\n",
       "      <td>3000</td>\n",
       "      <td>1950</td>\n",
       "      <td>150</td>\n",
       "      <td>1</td>\n",
       "      <td>1</td>\n",
       "    </tr>\n",
       "    <tr>\n",
       "      <th>2</th>\n",
       "      <td>10002</td>\n",
       "      <td>1197.26</td>\n",
       "      <td>2018-06-25</td>\n",
       "      <td>1000</td>\n",
       "      <td>6</td>\n",
       "      <td>52</td>\n",
       "      <td>NaT</td>\n",
       "      <td>Краснодар</td>\n",
       "      <td>Рафаил</td>\n",
       "      <td>Верещагин</td>\n",
       "      <td>2018-05-25</td>\n",
       "      <td>ultra</td>\n",
       "      <td>1000</td>\n",
       "      <td>30720</td>\n",
       "      <td>3000</td>\n",
       "      <td>1950</td>\n",
       "      <td>150</td>\n",
       "      <td>1</td>\n",
       "      <td>1</td>\n",
       "    </tr>\n",
       "    <tr>\n",
       "      <th>3</th>\n",
       "      <td>10003</td>\n",
       "      <td>550.27</td>\n",
       "      <td>2018-08-22</td>\n",
       "      <td>1000</td>\n",
       "      <td>8</td>\n",
       "      <td>52</td>\n",
       "      <td>NaT</td>\n",
       "      <td>Краснодар</td>\n",
       "      <td>Рафаил</td>\n",
       "      <td>Верещагин</td>\n",
       "      <td>2018-05-25</td>\n",
       "      <td>ultra</td>\n",
       "      <td>1000</td>\n",
       "      <td>30720</td>\n",
       "      <td>3000</td>\n",
       "      <td>1950</td>\n",
       "      <td>150</td>\n",
       "      <td>1</td>\n",
       "      <td>1</td>\n",
       "    </tr>\n",
       "    <tr>\n",
       "      <th>4</th>\n",
       "      <td>10004</td>\n",
       "      <td>302.56</td>\n",
       "      <td>2018-09-24</td>\n",
       "      <td>1000</td>\n",
       "      <td>9</td>\n",
       "      <td>52</td>\n",
       "      <td>NaT</td>\n",
       "      <td>Краснодар</td>\n",
       "      <td>Рафаил</td>\n",
       "      <td>Верещагин</td>\n",
       "      <td>2018-05-25</td>\n",
       "      <td>ultra</td>\n",
       "      <td>1000</td>\n",
       "      <td>30720</td>\n",
       "      <td>3000</td>\n",
       "      <td>1950</td>\n",
       "      <td>150</td>\n",
       "      <td>1</td>\n",
       "      <td>1</td>\n",
       "    </tr>\n",
       "    <tr>\n",
       "      <th>5</th>\n",
       "      <td>10005</td>\n",
       "      <td>399.97</td>\n",
       "      <td>2018-10-02</td>\n",
       "      <td>1000</td>\n",
       "      <td>10</td>\n",
       "      <td>52</td>\n",
       "      <td>NaT</td>\n",
       "      <td>Краснодар</td>\n",
       "      <td>Рафаил</td>\n",
       "      <td>Верещагин</td>\n",
       "      <td>2018-05-25</td>\n",
       "      <td>ultra</td>\n",
       "      <td>1000</td>\n",
       "      <td>30720</td>\n",
       "      <td>3000</td>\n",
       "      <td>1950</td>\n",
       "      <td>150</td>\n",
       "      <td>1</td>\n",
       "      <td>1</td>\n",
       "    </tr>\n",
       "    <tr>\n",
       "      <th>6</th>\n",
       "      <td>10006</td>\n",
       "      <td>540.08</td>\n",
       "      <td>2018-09-07</td>\n",
       "      <td>1000</td>\n",
       "      <td>9</td>\n",
       "      <td>52</td>\n",
       "      <td>NaT</td>\n",
       "      <td>Краснодар</td>\n",
       "      <td>Рафаил</td>\n",
       "      <td>Верещагин</td>\n",
       "      <td>2018-05-25</td>\n",
       "      <td>ultra</td>\n",
       "      <td>1000</td>\n",
       "      <td>30720</td>\n",
       "      <td>3000</td>\n",
       "      <td>1950</td>\n",
       "      <td>150</td>\n",
       "      <td>1</td>\n",
       "      <td>1</td>\n",
       "    </tr>\n",
       "    <tr>\n",
       "      <th>7</th>\n",
       "      <td>10007</td>\n",
       "      <td>415.70</td>\n",
       "      <td>2018-07-11</td>\n",
       "      <td>1000</td>\n",
       "      <td>7</td>\n",
       "      <td>52</td>\n",
       "      <td>NaT</td>\n",
       "      <td>Краснодар</td>\n",
       "      <td>Рафаил</td>\n",
       "      <td>Верещагин</td>\n",
       "      <td>2018-05-25</td>\n",
       "      <td>ultra</td>\n",
       "      <td>1000</td>\n",
       "      <td>30720</td>\n",
       "      <td>3000</td>\n",
       "      <td>1950</td>\n",
       "      <td>150</td>\n",
       "      <td>1</td>\n",
       "      <td>1</td>\n",
       "    </tr>\n",
       "    <tr>\n",
       "      <th>8</th>\n",
       "      <td>10008</td>\n",
       "      <td>505.40</td>\n",
       "      <td>2018-10-08</td>\n",
       "      <td>1000</td>\n",
       "      <td>10</td>\n",
       "      <td>52</td>\n",
       "      <td>NaT</td>\n",
       "      <td>Краснодар</td>\n",
       "      <td>Рафаил</td>\n",
       "      <td>Верещагин</td>\n",
       "      <td>2018-05-25</td>\n",
       "      <td>ultra</td>\n",
       "      <td>1000</td>\n",
       "      <td>30720</td>\n",
       "      <td>3000</td>\n",
       "      <td>1950</td>\n",
       "      <td>150</td>\n",
       "      <td>1</td>\n",
       "      <td>1</td>\n",
       "    </tr>\n",
       "    <tr>\n",
       "      <th>9</th>\n",
       "      <td>10009</td>\n",
       "      <td>345.54</td>\n",
       "      <td>2018-09-03</td>\n",
       "      <td>1000</td>\n",
       "      <td>9</td>\n",
       "      <td>52</td>\n",
       "      <td>NaT</td>\n",
       "      <td>Краснодар</td>\n",
       "      <td>Рафаил</td>\n",
       "      <td>Верещагин</td>\n",
       "      <td>2018-05-25</td>\n",
       "      <td>ultra</td>\n",
       "      <td>1000</td>\n",
       "      <td>30720</td>\n",
       "      <td>3000</td>\n",
       "      <td>1950</td>\n",
       "      <td>150</td>\n",
       "      <td>1</td>\n",
       "      <td>1</td>\n",
       "    </tr>\n",
       "  </tbody>\n",
       "</table>\n",
       "</div>"
      ],
      "text/plain": [
       "      id  mb_used session_date  user_id  month  age churn_date       city  \\\n",
       "0  10000   112.95   2018-11-25     1000     11   52        NaT  Краснодар   \n",
       "1  10001  1052.81   2018-09-07     1000      9   52        NaT  Краснодар   \n",
       "2  10002  1197.26   2018-06-25     1000      6   52        NaT  Краснодар   \n",
       "3  10003   550.27   2018-08-22     1000      8   52        NaT  Краснодар   \n",
       "4  10004   302.56   2018-09-24     1000      9   52        NaT  Краснодар   \n",
       "5  10005   399.97   2018-10-02     1000     10   52        NaT  Краснодар   \n",
       "6  10006   540.08   2018-09-07     1000      9   52        NaT  Краснодар   \n",
       "7  10007   415.70   2018-07-11     1000      7   52        NaT  Краснодар   \n",
       "8  10008   505.40   2018-10-08     1000     10   52        NaT  Краснодар   \n",
       "9  10009   345.54   2018-09-03     1000      9   52        NaT  Краснодар   \n",
       "\n",
       "  first_name  last_name   reg_date tariff  messages_included  \\\n",
       "0     Рафаил  Верещагин 2018-05-25  ultra               1000   \n",
       "1     Рафаил  Верещагин 2018-05-25  ultra               1000   \n",
       "2     Рафаил  Верещагин 2018-05-25  ultra               1000   \n",
       "3     Рафаил  Верещагин 2018-05-25  ultra               1000   \n",
       "4     Рафаил  Верещагин 2018-05-25  ultra               1000   \n",
       "5     Рафаил  Верещагин 2018-05-25  ultra               1000   \n",
       "6     Рафаил  Верещагин 2018-05-25  ultra               1000   \n",
       "7     Рафаил  Верещагин 2018-05-25  ultra               1000   \n",
       "8     Рафаил  Верещагин 2018-05-25  ultra               1000   \n",
       "9     Рафаил  Верещагин 2018-05-25  ultra               1000   \n",
       "\n",
       "   mb_per_month_included  minutes_included  rub_monthly_fee  rub_per_gb  \\\n",
       "0                  30720              3000             1950         150   \n",
       "1                  30720              3000             1950         150   \n",
       "2                  30720              3000             1950         150   \n",
       "3                  30720              3000             1950         150   \n",
       "4                  30720              3000             1950         150   \n",
       "5                  30720              3000             1950         150   \n",
       "6                  30720              3000             1950         150   \n",
       "7                  30720              3000             1950         150   \n",
       "8                  30720              3000             1950         150   \n",
       "9                  30720              3000             1950         150   \n",
       "\n",
       "   rub_per_message  rub_per_minute  \n",
       "0                1               1  \n",
       "1                1               1  \n",
       "2                1               1  \n",
       "3                1               1  \n",
       "4                1               1  \n",
       "5                1               1  \n",
       "6                1               1  \n",
       "7                1               1  \n",
       "8                1               1  \n",
       "9                1               1  "
      ]
     },
     "execution_count": 33,
     "metadata": {},
     "output_type": "execute_result"
    }
   ],
   "source": [
    "df_internet_total = df_internet.merge(df_users, on = 'user_id')\n",
    "df_internet_total = df_internet_total.merge(df_tariffs, on = 'tariff')\n",
    "df_internet_total.head(10)"
   ]
  },
  {
   "cell_type": "markdown",
   "metadata": {},
   "source": [
    "Создадим сводную таблицу с использованным количеством интернет трафика пользователей df_internet_total_info и добавим в нее столбцы с информацией о количестве трафика в месяц, включённого в абонентскую плату и о стоимости сверх тарифного пакета:"
   ]
  },
  {
   "cell_type": "code",
   "execution_count": 34,
   "metadata": {},
   "outputs": [
    {
     "data": {
      "text/html": [
       "<div>\n",
       "<style scoped>\n",
       "    .dataframe tbody tr th:only-of-type {\n",
       "        vertical-align: middle;\n",
       "    }\n",
       "\n",
       "    .dataframe tbody tr th {\n",
       "        vertical-align: top;\n",
       "    }\n",
       "\n",
       "    .dataframe thead th {\n",
       "        text-align: right;\n",
       "    }\n",
       "</style>\n",
       "<table border=\"1\" class=\"dataframe\">\n",
       "  <thead>\n",
       "    <tr style=\"text-align: right;\">\n",
       "      <th></th>\n",
       "      <th>user_id</th>\n",
       "      <th>1</th>\n",
       "      <th>2</th>\n",
       "      <th>3</th>\n",
       "      <th>4</th>\n",
       "      <th>5</th>\n",
       "      <th>6</th>\n",
       "      <th>7</th>\n",
       "      <th>8</th>\n",
       "      <th>9</th>\n",
       "      <th>10</th>\n",
       "      <th>11</th>\n",
       "      <th>12</th>\n",
       "      <th>mb_per_month_included</th>\n",
       "      <th>rub_per_gb</th>\n",
       "    </tr>\n",
       "  </thead>\n",
       "  <tbody>\n",
       "    <tr>\n",
       "      <th>0</th>\n",
       "      <td>1000</td>\n",
       "      <td>NaN</td>\n",
       "      <td>NaN</td>\n",
       "      <td>NaN</td>\n",
       "      <td>NaN</td>\n",
       "      <td>2253.49</td>\n",
       "      <td>23233.77</td>\n",
       "      <td>14003.64</td>\n",
       "      <td>14055.93</td>\n",
       "      <td>14568.91</td>\n",
       "      <td>14702.49</td>\n",
       "      <td>14756.47</td>\n",
       "      <td>9817.61</td>\n",
       "      <td>30720</td>\n",
       "      <td>150</td>\n",
       "    </tr>\n",
       "    <tr>\n",
       "      <th>1</th>\n",
       "      <td>1001</td>\n",
       "      <td>NaN</td>\n",
       "      <td>NaN</td>\n",
       "      <td>NaN</td>\n",
       "      <td>NaN</td>\n",
       "      <td>NaN</td>\n",
       "      <td>NaN</td>\n",
       "      <td>NaN</td>\n",
       "      <td>NaN</td>\n",
       "      <td>NaN</td>\n",
       "      <td>NaN</td>\n",
       "      <td>18429.34</td>\n",
       "      <td>14036.66</td>\n",
       "      <td>15360</td>\n",
       "      <td>200</td>\n",
       "    </tr>\n",
       "    <tr>\n",
       "      <th>2</th>\n",
       "      <td>1002</td>\n",
       "      <td>NaN</td>\n",
       "      <td>NaN</td>\n",
       "      <td>NaN</td>\n",
       "      <td>NaN</td>\n",
       "      <td>NaN</td>\n",
       "      <td>10856.82</td>\n",
       "      <td>17580.10</td>\n",
       "      <td>20319.26</td>\n",
       "      <td>16691.08</td>\n",
       "      <td>13888.25</td>\n",
       "      <td>18587.28</td>\n",
       "      <td>18113.73</td>\n",
       "      <td>15360</td>\n",
       "      <td>200</td>\n",
       "    </tr>\n",
       "    <tr>\n",
       "      <th>3</th>\n",
       "      <td>1003</td>\n",
       "      <td>NaN</td>\n",
       "      <td>NaN</td>\n",
       "      <td>NaN</td>\n",
       "      <td>NaN</td>\n",
       "      <td>NaN</td>\n",
       "      <td>NaN</td>\n",
       "      <td>NaN</td>\n",
       "      <td>8565.21</td>\n",
       "      <td>12468.87</td>\n",
       "      <td>14768.14</td>\n",
       "      <td>11356.89</td>\n",
       "      <td>10121.53</td>\n",
       "      <td>30720</td>\n",
       "      <td>150</td>\n",
       "    </tr>\n",
       "    <tr>\n",
       "      <th>4</th>\n",
       "      <td>1004</td>\n",
       "      <td>NaN</td>\n",
       "      <td>NaN</td>\n",
       "      <td>NaN</td>\n",
       "      <td>NaN</td>\n",
       "      <td>13403.98</td>\n",
       "      <td>17600.02</td>\n",
       "      <td>22229.58</td>\n",
       "      <td>28584.37</td>\n",
       "      <td>15109.03</td>\n",
       "      <td>18475.44</td>\n",
       "      <td>15616.02</td>\n",
       "      <td>18021.04</td>\n",
       "      <td>30720</td>\n",
       "      <td>150</td>\n",
       "    </tr>\n",
       "    <tr>\n",
       "      <th>5</th>\n",
       "      <td>1005</td>\n",
       "      <td>2727.97</td>\n",
       "      <td>7383.93</td>\n",
       "      <td>11104.25</td>\n",
       "      <td>9351.72</td>\n",
       "      <td>7865.53</td>\n",
       "      <td>9863.19</td>\n",
       "      <td>7694.56</td>\n",
       "      <td>7543.63</td>\n",
       "      <td>7016.46</td>\n",
       "      <td>7800.93</td>\n",
       "      <td>12666.95</td>\n",
       "      <td>8668.19</td>\n",
       "      <td>15360</td>\n",
       "      <td>200</td>\n",
       "    </tr>\n",
       "    <tr>\n",
       "      <th>6</th>\n",
       "      <td>1006</td>\n",
       "      <td>NaN</td>\n",
       "      <td>1392.15</td>\n",
       "      <td>17287.93</td>\n",
       "      <td>13936.70</td>\n",
       "      <td>12965.41</td>\n",
       "      <td>12371.66</td>\n",
       "      <td>19977.60</td>\n",
       "      <td>19303.71</td>\n",
       "      <td>15521.53</td>\n",
       "      <td>19696.60</td>\n",
       "      <td>13259.41</td>\n",
       "      <td>18476.11</td>\n",
       "      <td>15360</td>\n",
       "      <td>200</td>\n",
       "    </tr>\n",
       "    <tr>\n",
       "      <th>7</th>\n",
       "      <td>1007</td>\n",
       "      <td>NaN</td>\n",
       "      <td>NaN</td>\n",
       "      <td>NaN</td>\n",
       "      <td>8022.76</td>\n",
       "      <td>17687.27</td>\n",
       "      <td>13654.52</td>\n",
       "      <td>15656.66</td>\n",
       "      <td>20700.40</td>\n",
       "      <td>12613.05</td>\n",
       "      <td>14427.33</td>\n",
       "      <td>16369.61</td>\n",
       "      <td>12494.07</td>\n",
       "      <td>15360</td>\n",
       "      <td>200</td>\n",
       "    </tr>\n",
       "    <tr>\n",
       "      <th>8</th>\n",
       "      <td>1008</td>\n",
       "      <td>NaN</td>\n",
       "      <td>NaN</td>\n",
       "      <td>NaN</td>\n",
       "      <td>NaN</td>\n",
       "      <td>NaN</td>\n",
       "      <td>NaN</td>\n",
       "      <td>NaN</td>\n",
       "      <td>NaN</td>\n",
       "      <td>NaN</td>\n",
       "      <td>NaN</td>\n",
       "      <td>NaN</td>\n",
       "      <td>13217.14</td>\n",
       "      <td>15360</td>\n",
       "      <td>200</td>\n",
       "    </tr>\n",
       "    <tr>\n",
       "      <th>9</th>\n",
       "      <td>1009</td>\n",
       "      <td>NaN</td>\n",
       "      <td>NaN</td>\n",
       "      <td>7350.15</td>\n",
       "      <td>14709.22</td>\n",
       "      <td>13371.89</td>\n",
       "      <td>16067.51</td>\n",
       "      <td>24725.84</td>\n",
       "      <td>23708.41</td>\n",
       "      <td>21932.59</td>\n",
       "      <td>20081.73</td>\n",
       "      <td>16845.85</td>\n",
       "      <td>18618.02</td>\n",
       "      <td>15360</td>\n",
       "      <td>200</td>\n",
       "    </tr>\n",
       "  </tbody>\n",
       "</table>\n",
       "</div>"
      ],
      "text/plain": [
       "   user_id        1        2         3         4         5         6  \\\n",
       "0     1000      NaN      NaN       NaN       NaN   2253.49  23233.77   \n",
       "1     1001      NaN      NaN       NaN       NaN       NaN       NaN   \n",
       "2     1002      NaN      NaN       NaN       NaN       NaN  10856.82   \n",
       "3     1003      NaN      NaN       NaN       NaN       NaN       NaN   \n",
       "4     1004      NaN      NaN       NaN       NaN  13403.98  17600.02   \n",
       "5     1005  2727.97  7383.93  11104.25   9351.72   7865.53   9863.19   \n",
       "6     1006      NaN  1392.15  17287.93  13936.70  12965.41  12371.66   \n",
       "7     1007      NaN      NaN       NaN   8022.76  17687.27  13654.52   \n",
       "8     1008      NaN      NaN       NaN       NaN       NaN       NaN   \n",
       "9     1009      NaN      NaN   7350.15  14709.22  13371.89  16067.51   \n",
       "\n",
       "          7         8         9        10        11        12  \\\n",
       "0  14003.64  14055.93  14568.91  14702.49  14756.47   9817.61   \n",
       "1       NaN       NaN       NaN       NaN  18429.34  14036.66   \n",
       "2  17580.10  20319.26  16691.08  13888.25  18587.28  18113.73   \n",
       "3       NaN   8565.21  12468.87  14768.14  11356.89  10121.53   \n",
       "4  22229.58  28584.37  15109.03  18475.44  15616.02  18021.04   \n",
       "5   7694.56   7543.63   7016.46   7800.93  12666.95   8668.19   \n",
       "6  19977.60  19303.71  15521.53  19696.60  13259.41  18476.11   \n",
       "7  15656.66  20700.40  12613.05  14427.33  16369.61  12494.07   \n",
       "8       NaN       NaN       NaN       NaN       NaN  13217.14   \n",
       "9  24725.84  23708.41  21932.59  20081.73  16845.85  18618.02   \n",
       "\n",
       "   mb_per_month_included  rub_per_gb  \n",
       "0                  30720         150  \n",
       "1                  15360         200  \n",
       "2                  15360         200  \n",
       "3                  30720         150  \n",
       "4                  30720         150  \n",
       "5                  15360         200  \n",
       "6                  15360         200  \n",
       "7                  15360         200  \n",
       "8                  15360         200  \n",
       "9                  15360         200  "
      ]
     },
     "execution_count": 34,
     "metadata": {},
     "output_type": "execute_result"
    }
   ],
   "source": [
    "df_internet_total_info = df_internet_total.pivot_table(index = 'user_id', values = 'mb_used', columns = 'month', aggfunc = 'sum')\n",
    "df_internet_total_info_tariff = df_internet_total[['user_id', 'mb_per_month_included', 'rub_per_gb']]\n",
    "df_internet_total_info = df_internet_total_info.merge(df_internet_total_info_tariff, on = 'user_id')\n",
    "df_internet_total_info = df_internet_total_info.drop_duplicates().reset_index(drop = True)\n",
    "df_internet_total_info.head(10)"
   ]
  },
  {
   "cell_type": "markdown",
   "metadata": {},
   "source": [
    "Создадим 12 столбцов, которые будут показывать разницу между использованным интернет трафиком и количеством трафика по тарифу в месяц:"
   ]
  },
  {
   "cell_type": "code",
   "execution_count": 35,
   "metadata": {},
   "outputs": [
    {
     "data": {
      "text/html": [
       "<div>\n",
       "<style scoped>\n",
       "    .dataframe tbody tr th:only-of-type {\n",
       "        vertical-align: middle;\n",
       "    }\n",
       "\n",
       "    .dataframe tbody tr th {\n",
       "        vertical-align: top;\n",
       "    }\n",
       "\n",
       "    .dataframe thead th {\n",
       "        text-align: right;\n",
       "    }\n",
       "</style>\n",
       "<table border=\"1\" class=\"dataframe\">\n",
       "  <thead>\n",
       "    <tr style=\"text-align: right;\">\n",
       "      <th></th>\n",
       "      <th>user_id</th>\n",
       "      <th>1</th>\n",
       "      <th>2</th>\n",
       "      <th>3</th>\n",
       "      <th>4</th>\n",
       "      <th>5</th>\n",
       "      <th>6</th>\n",
       "      <th>7</th>\n",
       "      <th>8</th>\n",
       "      <th>9</th>\n",
       "      <th>...</th>\n",
       "      <th>income int per 3</th>\n",
       "      <th>income int per 4</th>\n",
       "      <th>income int per 5</th>\n",
       "      <th>income int per 6</th>\n",
       "      <th>income int per 7</th>\n",
       "      <th>income int per 8</th>\n",
       "      <th>income int per 9</th>\n",
       "      <th>income int per 10</th>\n",
       "      <th>income int per 11</th>\n",
       "      <th>income int per 12</th>\n",
       "    </tr>\n",
       "  </thead>\n",
       "  <tbody>\n",
       "    <tr>\n",
       "      <th>0</th>\n",
       "      <td>1000</td>\n",
       "      <td>NaN</td>\n",
       "      <td>NaN</td>\n",
       "      <td>NaN</td>\n",
       "      <td>NaN</td>\n",
       "      <td>2253.49</td>\n",
       "      <td>23233.77</td>\n",
       "      <td>14003.64</td>\n",
       "      <td>14055.93</td>\n",
       "      <td>14568.91</td>\n",
       "      <td>...</td>\n",
       "      <td>NaN</td>\n",
       "      <td>NaN</td>\n",
       "      <td>-28466.51</td>\n",
       "      <td>-7486.23</td>\n",
       "      <td>-16716.36</td>\n",
       "      <td>-16664.07</td>\n",
       "      <td>-16151.09</td>\n",
       "      <td>-16017.51</td>\n",
       "      <td>-15963.53</td>\n",
       "      <td>-20902.39</td>\n",
       "    </tr>\n",
       "    <tr>\n",
       "      <th>1</th>\n",
       "      <td>1001</td>\n",
       "      <td>NaN</td>\n",
       "      <td>NaN</td>\n",
       "      <td>NaN</td>\n",
       "      <td>NaN</td>\n",
       "      <td>NaN</td>\n",
       "      <td>NaN</td>\n",
       "      <td>NaN</td>\n",
       "      <td>NaN</td>\n",
       "      <td>NaN</td>\n",
       "      <td>...</td>\n",
       "      <td>NaN</td>\n",
       "      <td>NaN</td>\n",
       "      <td>NaN</td>\n",
       "      <td>NaN</td>\n",
       "      <td>NaN</td>\n",
       "      <td>NaN</td>\n",
       "      <td>NaN</td>\n",
       "      <td>NaN</td>\n",
       "      <td>3069.34</td>\n",
       "      <td>-1323.34</td>\n",
       "    </tr>\n",
       "    <tr>\n",
       "      <th>2</th>\n",
       "      <td>1002</td>\n",
       "      <td>NaN</td>\n",
       "      <td>NaN</td>\n",
       "      <td>NaN</td>\n",
       "      <td>NaN</td>\n",
       "      <td>NaN</td>\n",
       "      <td>10856.82</td>\n",
       "      <td>17580.10</td>\n",
       "      <td>20319.26</td>\n",
       "      <td>16691.08</td>\n",
       "      <td>...</td>\n",
       "      <td>NaN</td>\n",
       "      <td>NaN</td>\n",
       "      <td>NaN</td>\n",
       "      <td>-4503.18</td>\n",
       "      <td>2220.10</td>\n",
       "      <td>4959.26</td>\n",
       "      <td>1331.08</td>\n",
       "      <td>-1471.75</td>\n",
       "      <td>3227.28</td>\n",
       "      <td>2753.73</td>\n",
       "    </tr>\n",
       "    <tr>\n",
       "      <th>3</th>\n",
       "      <td>1003</td>\n",
       "      <td>NaN</td>\n",
       "      <td>NaN</td>\n",
       "      <td>NaN</td>\n",
       "      <td>NaN</td>\n",
       "      <td>NaN</td>\n",
       "      <td>NaN</td>\n",
       "      <td>NaN</td>\n",
       "      <td>8565.21</td>\n",
       "      <td>12468.87</td>\n",
       "      <td>...</td>\n",
       "      <td>NaN</td>\n",
       "      <td>NaN</td>\n",
       "      <td>NaN</td>\n",
       "      <td>NaN</td>\n",
       "      <td>NaN</td>\n",
       "      <td>-22154.79</td>\n",
       "      <td>-18251.13</td>\n",
       "      <td>-15951.86</td>\n",
       "      <td>-19363.11</td>\n",
       "      <td>-20598.47</td>\n",
       "    </tr>\n",
       "    <tr>\n",
       "      <th>4</th>\n",
       "      <td>1004</td>\n",
       "      <td>NaN</td>\n",
       "      <td>NaN</td>\n",
       "      <td>NaN</td>\n",
       "      <td>NaN</td>\n",
       "      <td>13403.98</td>\n",
       "      <td>17600.02</td>\n",
       "      <td>22229.58</td>\n",
       "      <td>28584.37</td>\n",
       "      <td>15109.03</td>\n",
       "      <td>...</td>\n",
       "      <td>NaN</td>\n",
       "      <td>NaN</td>\n",
       "      <td>-17316.02</td>\n",
       "      <td>-13119.98</td>\n",
       "      <td>-8490.42</td>\n",
       "      <td>-2135.63</td>\n",
       "      <td>-15610.97</td>\n",
       "      <td>-12244.56</td>\n",
       "      <td>-15103.98</td>\n",
       "      <td>-12698.96</td>\n",
       "    </tr>\n",
       "    <tr>\n",
       "      <th>5</th>\n",
       "      <td>1005</td>\n",
       "      <td>2727.97</td>\n",
       "      <td>7383.93</td>\n",
       "      <td>11104.25</td>\n",
       "      <td>9351.72</td>\n",
       "      <td>7865.53</td>\n",
       "      <td>9863.19</td>\n",
       "      <td>7694.56</td>\n",
       "      <td>7543.63</td>\n",
       "      <td>7016.46</td>\n",
       "      <td>...</td>\n",
       "      <td>-4255.75</td>\n",
       "      <td>-6008.28</td>\n",
       "      <td>-7494.47</td>\n",
       "      <td>-5496.81</td>\n",
       "      <td>-7665.44</td>\n",
       "      <td>-7816.37</td>\n",
       "      <td>-8343.54</td>\n",
       "      <td>-7559.07</td>\n",
       "      <td>-2693.05</td>\n",
       "      <td>-6691.81</td>\n",
       "    </tr>\n",
       "    <tr>\n",
       "      <th>6</th>\n",
       "      <td>1006</td>\n",
       "      <td>NaN</td>\n",
       "      <td>1392.15</td>\n",
       "      <td>17287.93</td>\n",
       "      <td>13936.70</td>\n",
       "      <td>12965.41</td>\n",
       "      <td>12371.66</td>\n",
       "      <td>19977.60</td>\n",
       "      <td>19303.71</td>\n",
       "      <td>15521.53</td>\n",
       "      <td>...</td>\n",
       "      <td>1927.93</td>\n",
       "      <td>-1423.30</td>\n",
       "      <td>-2394.59</td>\n",
       "      <td>-2988.34</td>\n",
       "      <td>4617.60</td>\n",
       "      <td>3943.71</td>\n",
       "      <td>161.53</td>\n",
       "      <td>4336.60</td>\n",
       "      <td>-2100.59</td>\n",
       "      <td>3116.11</td>\n",
       "    </tr>\n",
       "    <tr>\n",
       "      <th>7</th>\n",
       "      <td>1007</td>\n",
       "      <td>NaN</td>\n",
       "      <td>NaN</td>\n",
       "      <td>NaN</td>\n",
       "      <td>8022.76</td>\n",
       "      <td>17687.27</td>\n",
       "      <td>13654.52</td>\n",
       "      <td>15656.66</td>\n",
       "      <td>20700.40</td>\n",
       "      <td>12613.05</td>\n",
       "      <td>...</td>\n",
       "      <td>NaN</td>\n",
       "      <td>-7337.24</td>\n",
       "      <td>2327.27</td>\n",
       "      <td>-1705.48</td>\n",
       "      <td>296.66</td>\n",
       "      <td>5340.40</td>\n",
       "      <td>-2746.95</td>\n",
       "      <td>-932.67</td>\n",
       "      <td>1009.61</td>\n",
       "      <td>-2865.93</td>\n",
       "    </tr>\n",
       "    <tr>\n",
       "      <th>8</th>\n",
       "      <td>1008</td>\n",
       "      <td>NaN</td>\n",
       "      <td>NaN</td>\n",
       "      <td>NaN</td>\n",
       "      <td>NaN</td>\n",
       "      <td>NaN</td>\n",
       "      <td>NaN</td>\n",
       "      <td>NaN</td>\n",
       "      <td>NaN</td>\n",
       "      <td>NaN</td>\n",
       "      <td>...</td>\n",
       "      <td>NaN</td>\n",
       "      <td>NaN</td>\n",
       "      <td>NaN</td>\n",
       "      <td>NaN</td>\n",
       "      <td>NaN</td>\n",
       "      <td>NaN</td>\n",
       "      <td>NaN</td>\n",
       "      <td>NaN</td>\n",
       "      <td>NaN</td>\n",
       "      <td>-2142.86</td>\n",
       "    </tr>\n",
       "    <tr>\n",
       "      <th>9</th>\n",
       "      <td>1009</td>\n",
       "      <td>NaN</td>\n",
       "      <td>NaN</td>\n",
       "      <td>7350.15</td>\n",
       "      <td>14709.22</td>\n",
       "      <td>13371.89</td>\n",
       "      <td>16067.51</td>\n",
       "      <td>24725.84</td>\n",
       "      <td>23708.41</td>\n",
       "      <td>21932.59</td>\n",
       "      <td>...</td>\n",
       "      <td>-8009.85</td>\n",
       "      <td>-650.78</td>\n",
       "      <td>-1988.11</td>\n",
       "      <td>707.51</td>\n",
       "      <td>9365.84</td>\n",
       "      <td>8348.41</td>\n",
       "      <td>6572.59</td>\n",
       "      <td>4721.73</td>\n",
       "      <td>1485.85</td>\n",
       "      <td>3258.02</td>\n",
       "    </tr>\n",
       "  </tbody>\n",
       "</table>\n",
       "<p>10 rows × 27 columns</p>\n",
       "</div>"
      ],
      "text/plain": [
       "   user_id        1        2         3         4         5         6  \\\n",
       "0     1000      NaN      NaN       NaN       NaN   2253.49  23233.77   \n",
       "1     1001      NaN      NaN       NaN       NaN       NaN       NaN   \n",
       "2     1002      NaN      NaN       NaN       NaN       NaN  10856.82   \n",
       "3     1003      NaN      NaN       NaN       NaN       NaN       NaN   \n",
       "4     1004      NaN      NaN       NaN       NaN  13403.98  17600.02   \n",
       "5     1005  2727.97  7383.93  11104.25   9351.72   7865.53   9863.19   \n",
       "6     1006      NaN  1392.15  17287.93  13936.70  12965.41  12371.66   \n",
       "7     1007      NaN      NaN       NaN   8022.76  17687.27  13654.52   \n",
       "8     1008      NaN      NaN       NaN       NaN       NaN       NaN   \n",
       "9     1009      NaN      NaN   7350.15  14709.22  13371.89  16067.51   \n",
       "\n",
       "          7         8         9  ...  income int per 3  income int per 4  \\\n",
       "0  14003.64  14055.93  14568.91  ...               NaN               NaN   \n",
       "1       NaN       NaN       NaN  ...               NaN               NaN   \n",
       "2  17580.10  20319.26  16691.08  ...               NaN               NaN   \n",
       "3       NaN   8565.21  12468.87  ...               NaN               NaN   \n",
       "4  22229.58  28584.37  15109.03  ...               NaN               NaN   \n",
       "5   7694.56   7543.63   7016.46  ...          -4255.75          -6008.28   \n",
       "6  19977.60  19303.71  15521.53  ...           1927.93          -1423.30   \n",
       "7  15656.66  20700.40  12613.05  ...               NaN          -7337.24   \n",
       "8       NaN       NaN       NaN  ...               NaN               NaN   \n",
       "9  24725.84  23708.41  21932.59  ...          -8009.85           -650.78   \n",
       "\n",
       "   income int per 5  income int per 6  income int per 7  income int per 8  \\\n",
       "0         -28466.51          -7486.23         -16716.36         -16664.07   \n",
       "1               NaN               NaN               NaN               NaN   \n",
       "2               NaN          -4503.18           2220.10           4959.26   \n",
       "3               NaN               NaN               NaN         -22154.79   \n",
       "4         -17316.02         -13119.98          -8490.42          -2135.63   \n",
       "5          -7494.47          -5496.81          -7665.44          -7816.37   \n",
       "6          -2394.59          -2988.34           4617.60           3943.71   \n",
       "7           2327.27          -1705.48            296.66           5340.40   \n",
       "8               NaN               NaN               NaN               NaN   \n",
       "9          -1988.11            707.51           9365.84           8348.41   \n",
       "\n",
       "   income int per 9  income int per 10  income int per 11  income int per 12  \n",
       "0         -16151.09          -16017.51          -15963.53          -20902.39  \n",
       "1               NaN                NaN            3069.34           -1323.34  \n",
       "2           1331.08           -1471.75            3227.28            2753.73  \n",
       "3         -18251.13          -15951.86          -19363.11          -20598.47  \n",
       "4         -15610.97          -12244.56          -15103.98          -12698.96  \n",
       "5          -8343.54           -7559.07           -2693.05           -6691.81  \n",
       "6            161.53            4336.60           -2100.59            3116.11  \n",
       "7          -2746.95            -932.67            1009.61           -2865.93  \n",
       "8               NaN                NaN                NaN           -2142.86  \n",
       "9           6572.59            4721.73            1485.85            3258.02  \n",
       "\n",
       "[10 rows x 27 columns]"
      ]
     },
     "execution_count": 35,
     "metadata": {},
     "output_type": "execute_result"
    }
   ],
   "source": [
    "for index in range(12):\n",
    "    df_internet_total_info['income int per ' + str(index + 1)] = df_internet_total_info[index + 1] - df_internet_total_info['mb_per_month_included']\n",
    "    \n",
    "df_internet_total_info.head(10)"
   ]
  },
  {
   "cell_type": "markdown",
   "metadata": {},
   "source": [
    "Изменим значения в полученных столбцах: если значения <= 0, пользователь не превысил норму тарифа, если же значения > 0, пользователь превысил норму тарифа - прибавляем сумму за дополнительный интренет трафик (предварительно переведем значения в гб):"
   ]
  },
  {
   "cell_type": "code",
   "execution_count": 36,
   "metadata": {},
   "outputs": [
    {
     "data": {
      "text/html": [
       "<div>\n",
       "<style scoped>\n",
       "    .dataframe tbody tr th:only-of-type {\n",
       "        vertical-align: middle;\n",
       "    }\n",
       "\n",
       "    .dataframe tbody tr th {\n",
       "        vertical-align: top;\n",
       "    }\n",
       "\n",
       "    .dataframe thead th {\n",
       "        text-align: right;\n",
       "    }\n",
       "</style>\n",
       "<table border=\"1\" class=\"dataframe\">\n",
       "  <thead>\n",
       "    <tr style=\"text-align: right;\">\n",
       "      <th></th>\n",
       "      <th>user_id</th>\n",
       "      <th>1</th>\n",
       "      <th>2</th>\n",
       "      <th>3</th>\n",
       "      <th>4</th>\n",
       "      <th>5</th>\n",
       "      <th>6</th>\n",
       "      <th>7</th>\n",
       "      <th>8</th>\n",
       "      <th>9</th>\n",
       "      <th>...</th>\n",
       "      <th>income int per 3</th>\n",
       "      <th>income int per 4</th>\n",
       "      <th>income int per 5</th>\n",
       "      <th>income int per 6</th>\n",
       "      <th>income int per 7</th>\n",
       "      <th>income int per 8</th>\n",
       "      <th>income int per 9</th>\n",
       "      <th>income int per 10</th>\n",
       "      <th>income int per 11</th>\n",
       "      <th>income int per 12</th>\n",
       "    </tr>\n",
       "  </thead>\n",
       "  <tbody>\n",
       "    <tr>\n",
       "      <th>0</th>\n",
       "      <td>1000</td>\n",
       "      <td>NaN</td>\n",
       "      <td>NaN</td>\n",
       "      <td>NaN</td>\n",
       "      <td>NaN</td>\n",
       "      <td>2253.49</td>\n",
       "      <td>23233.77</td>\n",
       "      <td>14003.64</td>\n",
       "      <td>14055.93</td>\n",
       "      <td>14568.91</td>\n",
       "      <td>...</td>\n",
       "      <td>NaN</td>\n",
       "      <td>NaN</td>\n",
       "      <td>0.0</td>\n",
       "      <td>0.0</td>\n",
       "      <td>0.0</td>\n",
       "      <td>0.0</td>\n",
       "      <td>0.0</td>\n",
       "      <td>0.0</td>\n",
       "      <td>0.0</td>\n",
       "      <td>0.0</td>\n",
       "    </tr>\n",
       "    <tr>\n",
       "      <th>1</th>\n",
       "      <td>1001</td>\n",
       "      <td>NaN</td>\n",
       "      <td>NaN</td>\n",
       "      <td>NaN</td>\n",
       "      <td>NaN</td>\n",
       "      <td>NaN</td>\n",
       "      <td>NaN</td>\n",
       "      <td>NaN</td>\n",
       "      <td>NaN</td>\n",
       "      <td>NaN</td>\n",
       "      <td>...</td>\n",
       "      <td>NaN</td>\n",
       "      <td>NaN</td>\n",
       "      <td>NaN</td>\n",
       "      <td>NaN</td>\n",
       "      <td>NaN</td>\n",
       "      <td>NaN</td>\n",
       "      <td>NaN</td>\n",
       "      <td>NaN</td>\n",
       "      <td>600.0</td>\n",
       "      <td>0.0</td>\n",
       "    </tr>\n",
       "    <tr>\n",
       "      <th>2</th>\n",
       "      <td>1002</td>\n",
       "      <td>NaN</td>\n",
       "      <td>NaN</td>\n",
       "      <td>NaN</td>\n",
       "      <td>NaN</td>\n",
       "      <td>NaN</td>\n",
       "      <td>10856.82</td>\n",
       "      <td>17580.10</td>\n",
       "      <td>20319.26</td>\n",
       "      <td>16691.08</td>\n",
       "      <td>...</td>\n",
       "      <td>NaN</td>\n",
       "      <td>NaN</td>\n",
       "      <td>NaN</td>\n",
       "      <td>0.0</td>\n",
       "      <td>600.0</td>\n",
       "      <td>1000.0</td>\n",
       "      <td>400.0</td>\n",
       "      <td>0.0</td>\n",
       "      <td>800.0</td>\n",
       "      <td>600.0</td>\n",
       "    </tr>\n",
       "    <tr>\n",
       "      <th>3</th>\n",
       "      <td>1003</td>\n",
       "      <td>NaN</td>\n",
       "      <td>NaN</td>\n",
       "      <td>NaN</td>\n",
       "      <td>NaN</td>\n",
       "      <td>NaN</td>\n",
       "      <td>NaN</td>\n",
       "      <td>NaN</td>\n",
       "      <td>8565.21</td>\n",
       "      <td>12468.87</td>\n",
       "      <td>...</td>\n",
       "      <td>NaN</td>\n",
       "      <td>NaN</td>\n",
       "      <td>NaN</td>\n",
       "      <td>NaN</td>\n",
       "      <td>NaN</td>\n",
       "      <td>0.0</td>\n",
       "      <td>0.0</td>\n",
       "      <td>0.0</td>\n",
       "      <td>0.0</td>\n",
       "      <td>0.0</td>\n",
       "    </tr>\n",
       "    <tr>\n",
       "      <th>4</th>\n",
       "      <td>1004</td>\n",
       "      <td>NaN</td>\n",
       "      <td>NaN</td>\n",
       "      <td>NaN</td>\n",
       "      <td>NaN</td>\n",
       "      <td>13403.98</td>\n",
       "      <td>17600.02</td>\n",
       "      <td>22229.58</td>\n",
       "      <td>28584.37</td>\n",
       "      <td>15109.03</td>\n",
       "      <td>...</td>\n",
       "      <td>NaN</td>\n",
       "      <td>NaN</td>\n",
       "      <td>0.0</td>\n",
       "      <td>0.0</td>\n",
       "      <td>0.0</td>\n",
       "      <td>0.0</td>\n",
       "      <td>0.0</td>\n",
       "      <td>0.0</td>\n",
       "      <td>0.0</td>\n",
       "      <td>0.0</td>\n",
       "    </tr>\n",
       "    <tr>\n",
       "      <th>5</th>\n",
       "      <td>1005</td>\n",
       "      <td>2727.97</td>\n",
       "      <td>7383.93</td>\n",
       "      <td>11104.25</td>\n",
       "      <td>9351.72</td>\n",
       "      <td>7865.53</td>\n",
       "      <td>9863.19</td>\n",
       "      <td>7694.56</td>\n",
       "      <td>7543.63</td>\n",
       "      <td>7016.46</td>\n",
       "      <td>...</td>\n",
       "      <td>0.0</td>\n",
       "      <td>0.0</td>\n",
       "      <td>0.0</td>\n",
       "      <td>0.0</td>\n",
       "      <td>0.0</td>\n",
       "      <td>0.0</td>\n",
       "      <td>0.0</td>\n",
       "      <td>0.0</td>\n",
       "      <td>0.0</td>\n",
       "      <td>0.0</td>\n",
       "    </tr>\n",
       "    <tr>\n",
       "      <th>6</th>\n",
       "      <td>1006</td>\n",
       "      <td>NaN</td>\n",
       "      <td>1392.15</td>\n",
       "      <td>17287.93</td>\n",
       "      <td>13936.70</td>\n",
       "      <td>12965.41</td>\n",
       "      <td>12371.66</td>\n",
       "      <td>19977.60</td>\n",
       "      <td>19303.71</td>\n",
       "      <td>15521.53</td>\n",
       "      <td>...</td>\n",
       "      <td>400.0</td>\n",
       "      <td>0.0</td>\n",
       "      <td>0.0</td>\n",
       "      <td>0.0</td>\n",
       "      <td>1000.0</td>\n",
       "      <td>800.0</td>\n",
       "      <td>200.0</td>\n",
       "      <td>1000.0</td>\n",
       "      <td>0.0</td>\n",
       "      <td>800.0</td>\n",
       "    </tr>\n",
       "    <tr>\n",
       "      <th>7</th>\n",
       "      <td>1007</td>\n",
       "      <td>NaN</td>\n",
       "      <td>NaN</td>\n",
       "      <td>NaN</td>\n",
       "      <td>8022.76</td>\n",
       "      <td>17687.27</td>\n",
       "      <td>13654.52</td>\n",
       "      <td>15656.66</td>\n",
       "      <td>20700.40</td>\n",
       "      <td>12613.05</td>\n",
       "      <td>...</td>\n",
       "      <td>NaN</td>\n",
       "      <td>0.0</td>\n",
       "      <td>600.0</td>\n",
       "      <td>0.0</td>\n",
       "      <td>200.0</td>\n",
       "      <td>1200.0</td>\n",
       "      <td>0.0</td>\n",
       "      <td>0.0</td>\n",
       "      <td>200.0</td>\n",
       "      <td>0.0</td>\n",
       "    </tr>\n",
       "    <tr>\n",
       "      <th>8</th>\n",
       "      <td>1008</td>\n",
       "      <td>NaN</td>\n",
       "      <td>NaN</td>\n",
       "      <td>NaN</td>\n",
       "      <td>NaN</td>\n",
       "      <td>NaN</td>\n",
       "      <td>NaN</td>\n",
       "      <td>NaN</td>\n",
       "      <td>NaN</td>\n",
       "      <td>NaN</td>\n",
       "      <td>...</td>\n",
       "      <td>NaN</td>\n",
       "      <td>NaN</td>\n",
       "      <td>NaN</td>\n",
       "      <td>NaN</td>\n",
       "      <td>NaN</td>\n",
       "      <td>NaN</td>\n",
       "      <td>NaN</td>\n",
       "      <td>NaN</td>\n",
       "      <td>NaN</td>\n",
       "      <td>0.0</td>\n",
       "    </tr>\n",
       "    <tr>\n",
       "      <th>9</th>\n",
       "      <td>1009</td>\n",
       "      <td>NaN</td>\n",
       "      <td>NaN</td>\n",
       "      <td>7350.15</td>\n",
       "      <td>14709.22</td>\n",
       "      <td>13371.89</td>\n",
       "      <td>16067.51</td>\n",
       "      <td>24725.84</td>\n",
       "      <td>23708.41</td>\n",
       "      <td>21932.59</td>\n",
       "      <td>...</td>\n",
       "      <td>0.0</td>\n",
       "      <td>0.0</td>\n",
       "      <td>0.0</td>\n",
       "      <td>200.0</td>\n",
       "      <td>2000.0</td>\n",
       "      <td>1800.0</td>\n",
       "      <td>1400.0</td>\n",
       "      <td>1000.0</td>\n",
       "      <td>400.0</td>\n",
       "      <td>800.0</td>\n",
       "    </tr>\n",
       "  </tbody>\n",
       "</table>\n",
       "<p>10 rows × 27 columns</p>\n",
       "</div>"
      ],
      "text/plain": [
       "   user_id        1        2         3         4         5         6  \\\n",
       "0     1000      NaN      NaN       NaN       NaN   2253.49  23233.77   \n",
       "1     1001      NaN      NaN       NaN       NaN       NaN       NaN   \n",
       "2     1002      NaN      NaN       NaN       NaN       NaN  10856.82   \n",
       "3     1003      NaN      NaN       NaN       NaN       NaN       NaN   \n",
       "4     1004      NaN      NaN       NaN       NaN  13403.98  17600.02   \n",
       "5     1005  2727.97  7383.93  11104.25   9351.72   7865.53   9863.19   \n",
       "6     1006      NaN  1392.15  17287.93  13936.70  12965.41  12371.66   \n",
       "7     1007      NaN      NaN       NaN   8022.76  17687.27  13654.52   \n",
       "8     1008      NaN      NaN       NaN       NaN       NaN       NaN   \n",
       "9     1009      NaN      NaN   7350.15  14709.22  13371.89  16067.51   \n",
       "\n",
       "          7         8         9  ...  income int per 3  income int per 4  \\\n",
       "0  14003.64  14055.93  14568.91  ...               NaN               NaN   \n",
       "1       NaN       NaN       NaN  ...               NaN               NaN   \n",
       "2  17580.10  20319.26  16691.08  ...               NaN               NaN   \n",
       "3       NaN   8565.21  12468.87  ...               NaN               NaN   \n",
       "4  22229.58  28584.37  15109.03  ...               NaN               NaN   \n",
       "5   7694.56   7543.63   7016.46  ...               0.0               0.0   \n",
       "6  19977.60  19303.71  15521.53  ...             400.0               0.0   \n",
       "7  15656.66  20700.40  12613.05  ...               NaN               0.0   \n",
       "8       NaN       NaN       NaN  ...               NaN               NaN   \n",
       "9  24725.84  23708.41  21932.59  ...               0.0               0.0   \n",
       "\n",
       "   income int per 5  income int per 6  income int per 7  income int per 8  \\\n",
       "0               0.0               0.0               0.0               0.0   \n",
       "1               NaN               NaN               NaN               NaN   \n",
       "2               NaN               0.0             600.0            1000.0   \n",
       "3               NaN               NaN               NaN               0.0   \n",
       "4               0.0               0.0               0.0               0.0   \n",
       "5               0.0               0.0               0.0               0.0   \n",
       "6               0.0               0.0            1000.0             800.0   \n",
       "7             600.0               0.0             200.0            1200.0   \n",
       "8               NaN               NaN               NaN               NaN   \n",
       "9               0.0             200.0            2000.0            1800.0   \n",
       "\n",
       "   income int per 9  income int per 10  income int per 11  income int per 12  \n",
       "0               0.0                0.0                0.0                0.0  \n",
       "1               NaN                NaN              600.0                0.0  \n",
       "2             400.0                0.0              800.0              600.0  \n",
       "3               0.0                0.0                0.0                0.0  \n",
       "4               0.0                0.0                0.0                0.0  \n",
       "5               0.0                0.0                0.0                0.0  \n",
       "6             200.0             1000.0                0.0              800.0  \n",
       "7               0.0                0.0              200.0                0.0  \n",
       "8               NaN                NaN                NaN                0.0  \n",
       "9            1400.0             1000.0              400.0              800.0  \n",
       "\n",
       "[10 rows x 27 columns]"
      ]
     },
     "execution_count": 36,
     "metadata": {},
     "output_type": "execute_result"
    }
   ],
   "source": [
    "df_internet_total_info = df_internet_total_info\n",
    "\n",
    "for index in range(12):\n",
    "    df_internet_total_info['income int per ' + str(index + 1)] = np.where(df_internet_total_info['income int per ' + str(index + 1)] <= 0, 0, \n",
    "                                                                           np.ceil(df_internet_total_info['income int per ' + str(index + 1)] / 1024) * df_internet_total_info['rub_per_gb'])\n",
    "    \n",
    "df_internet_total_info.head(10)"
   ]
  },
  {
   "cell_type": "markdown",
   "metadata": {},
   "source": [
    "Создадим новый DataFrame, содержащий информацию о прибыли за интернет сверх тарифного плана за 12 месяцев по каждому пользователю:"
   ]
  },
  {
   "cell_type": "code",
   "execution_count": 37,
   "metadata": {},
   "outputs": [
    {
     "data": {
      "text/html": [
       "<div>\n",
       "<style scoped>\n",
       "    .dataframe tbody tr th:only-of-type {\n",
       "        vertical-align: middle;\n",
       "    }\n",
       "\n",
       "    .dataframe tbody tr th {\n",
       "        vertical-align: top;\n",
       "    }\n",
       "\n",
       "    .dataframe thead th {\n",
       "        text-align: right;\n",
       "    }\n",
       "</style>\n",
       "<table border=\"1\" class=\"dataframe\">\n",
       "  <thead>\n",
       "    <tr style=\"text-align: right;\">\n",
       "      <th></th>\n",
       "      <th>user_id</th>\n",
       "      <th>income int per 1</th>\n",
       "      <th>income int per 2</th>\n",
       "      <th>income int per 3</th>\n",
       "      <th>income int per 4</th>\n",
       "      <th>income int per 5</th>\n",
       "      <th>income int per 6</th>\n",
       "      <th>income int per 7</th>\n",
       "      <th>income int per 8</th>\n",
       "      <th>income int per 9</th>\n",
       "      <th>income int per 10</th>\n",
       "      <th>income int per 11</th>\n",
       "      <th>income int per 12</th>\n",
       "    </tr>\n",
       "  </thead>\n",
       "  <tbody>\n",
       "    <tr>\n",
       "      <th>0</th>\n",
       "      <td>1000</td>\n",
       "      <td>NaN</td>\n",
       "      <td>NaN</td>\n",
       "      <td>NaN</td>\n",
       "      <td>NaN</td>\n",
       "      <td>0.0</td>\n",
       "      <td>0.0</td>\n",
       "      <td>0.0</td>\n",
       "      <td>0.0</td>\n",
       "      <td>0.0</td>\n",
       "      <td>0.0</td>\n",
       "      <td>0.0</td>\n",
       "      <td>0.0</td>\n",
       "    </tr>\n",
       "    <tr>\n",
       "      <th>1</th>\n",
       "      <td>1001</td>\n",
       "      <td>NaN</td>\n",
       "      <td>NaN</td>\n",
       "      <td>NaN</td>\n",
       "      <td>NaN</td>\n",
       "      <td>NaN</td>\n",
       "      <td>NaN</td>\n",
       "      <td>NaN</td>\n",
       "      <td>NaN</td>\n",
       "      <td>NaN</td>\n",
       "      <td>NaN</td>\n",
       "      <td>600.0</td>\n",
       "      <td>0.0</td>\n",
       "    </tr>\n",
       "    <tr>\n",
       "      <th>2</th>\n",
       "      <td>1002</td>\n",
       "      <td>NaN</td>\n",
       "      <td>NaN</td>\n",
       "      <td>NaN</td>\n",
       "      <td>NaN</td>\n",
       "      <td>NaN</td>\n",
       "      <td>0.0</td>\n",
       "      <td>600.0</td>\n",
       "      <td>1000.0</td>\n",
       "      <td>400.0</td>\n",
       "      <td>0.0</td>\n",
       "      <td>800.0</td>\n",
       "      <td>600.0</td>\n",
       "    </tr>\n",
       "    <tr>\n",
       "      <th>3</th>\n",
       "      <td>1003</td>\n",
       "      <td>NaN</td>\n",
       "      <td>NaN</td>\n",
       "      <td>NaN</td>\n",
       "      <td>NaN</td>\n",
       "      <td>NaN</td>\n",
       "      <td>NaN</td>\n",
       "      <td>NaN</td>\n",
       "      <td>0.0</td>\n",
       "      <td>0.0</td>\n",
       "      <td>0.0</td>\n",
       "      <td>0.0</td>\n",
       "      <td>0.0</td>\n",
       "    </tr>\n",
       "    <tr>\n",
       "      <th>4</th>\n",
       "      <td>1004</td>\n",
       "      <td>NaN</td>\n",
       "      <td>NaN</td>\n",
       "      <td>NaN</td>\n",
       "      <td>NaN</td>\n",
       "      <td>0.0</td>\n",
       "      <td>0.0</td>\n",
       "      <td>0.0</td>\n",
       "      <td>0.0</td>\n",
       "      <td>0.0</td>\n",
       "      <td>0.0</td>\n",
       "      <td>0.0</td>\n",
       "      <td>0.0</td>\n",
       "    </tr>\n",
       "    <tr>\n",
       "      <th>5</th>\n",
       "      <td>1005</td>\n",
       "      <td>0.0</td>\n",
       "      <td>0.0</td>\n",
       "      <td>0.0</td>\n",
       "      <td>0.0</td>\n",
       "      <td>0.0</td>\n",
       "      <td>0.0</td>\n",
       "      <td>0.0</td>\n",
       "      <td>0.0</td>\n",
       "      <td>0.0</td>\n",
       "      <td>0.0</td>\n",
       "      <td>0.0</td>\n",
       "      <td>0.0</td>\n",
       "    </tr>\n",
       "    <tr>\n",
       "      <th>6</th>\n",
       "      <td>1006</td>\n",
       "      <td>NaN</td>\n",
       "      <td>0.0</td>\n",
       "      <td>400.0</td>\n",
       "      <td>0.0</td>\n",
       "      <td>0.0</td>\n",
       "      <td>0.0</td>\n",
       "      <td>1000.0</td>\n",
       "      <td>800.0</td>\n",
       "      <td>200.0</td>\n",
       "      <td>1000.0</td>\n",
       "      <td>0.0</td>\n",
       "      <td>800.0</td>\n",
       "    </tr>\n",
       "    <tr>\n",
       "      <th>7</th>\n",
       "      <td>1007</td>\n",
       "      <td>NaN</td>\n",
       "      <td>NaN</td>\n",
       "      <td>NaN</td>\n",
       "      <td>0.0</td>\n",
       "      <td>600.0</td>\n",
       "      <td>0.0</td>\n",
       "      <td>200.0</td>\n",
       "      <td>1200.0</td>\n",
       "      <td>0.0</td>\n",
       "      <td>0.0</td>\n",
       "      <td>200.0</td>\n",
       "      <td>0.0</td>\n",
       "    </tr>\n",
       "    <tr>\n",
       "      <th>8</th>\n",
       "      <td>1008</td>\n",
       "      <td>NaN</td>\n",
       "      <td>NaN</td>\n",
       "      <td>NaN</td>\n",
       "      <td>NaN</td>\n",
       "      <td>NaN</td>\n",
       "      <td>NaN</td>\n",
       "      <td>NaN</td>\n",
       "      <td>NaN</td>\n",
       "      <td>NaN</td>\n",
       "      <td>NaN</td>\n",
       "      <td>NaN</td>\n",
       "      <td>0.0</td>\n",
       "    </tr>\n",
       "    <tr>\n",
       "      <th>9</th>\n",
       "      <td>1009</td>\n",
       "      <td>NaN</td>\n",
       "      <td>NaN</td>\n",
       "      <td>0.0</td>\n",
       "      <td>0.0</td>\n",
       "      <td>0.0</td>\n",
       "      <td>200.0</td>\n",
       "      <td>2000.0</td>\n",
       "      <td>1800.0</td>\n",
       "      <td>1400.0</td>\n",
       "      <td>1000.0</td>\n",
       "      <td>400.0</td>\n",
       "      <td>800.0</td>\n",
       "    </tr>\n",
       "  </tbody>\n",
       "</table>\n",
       "</div>"
      ],
      "text/plain": [
       "   user_id  income int per 1  income int per 2  income int per 3  \\\n",
       "0     1000               NaN               NaN               NaN   \n",
       "1     1001               NaN               NaN               NaN   \n",
       "2     1002               NaN               NaN               NaN   \n",
       "3     1003               NaN               NaN               NaN   \n",
       "4     1004               NaN               NaN               NaN   \n",
       "5     1005               0.0               0.0               0.0   \n",
       "6     1006               NaN               0.0             400.0   \n",
       "7     1007               NaN               NaN               NaN   \n",
       "8     1008               NaN               NaN               NaN   \n",
       "9     1009               NaN               NaN               0.0   \n",
       "\n",
       "   income int per 4  income int per 5  income int per 6  income int per 7  \\\n",
       "0               NaN               0.0               0.0               0.0   \n",
       "1               NaN               NaN               NaN               NaN   \n",
       "2               NaN               NaN               0.0             600.0   \n",
       "3               NaN               NaN               NaN               NaN   \n",
       "4               NaN               0.0               0.0               0.0   \n",
       "5               0.0               0.0               0.0               0.0   \n",
       "6               0.0               0.0               0.0            1000.0   \n",
       "7               0.0             600.0               0.0             200.0   \n",
       "8               NaN               NaN               NaN               NaN   \n",
       "9               0.0               0.0             200.0            2000.0   \n",
       "\n",
       "   income int per 8  income int per 9  income int per 10  income int per 11  \\\n",
       "0               0.0               0.0                0.0                0.0   \n",
       "1               NaN               NaN                NaN              600.0   \n",
       "2            1000.0             400.0                0.0              800.0   \n",
       "3               0.0               0.0                0.0                0.0   \n",
       "4               0.0               0.0                0.0                0.0   \n",
       "5               0.0               0.0                0.0                0.0   \n",
       "6             800.0             200.0             1000.0                0.0   \n",
       "7            1200.0               0.0                0.0              200.0   \n",
       "8               NaN               NaN                NaN                NaN   \n",
       "9            1800.0            1400.0             1000.0              400.0   \n",
       "\n",
       "   income int per 12  \n",
       "0                0.0  \n",
       "1                0.0  \n",
       "2              600.0  \n",
       "3                0.0  \n",
       "4                0.0  \n",
       "5                0.0  \n",
       "6              800.0  \n",
       "7                0.0  \n",
       "8                0.0  \n",
       "9              800.0  "
      ]
     },
     "execution_count": 37,
     "metadata": {},
     "output_type": "execute_result"
    }
   ],
   "source": [
    "df_internet_income_12_months = df_internet_total_info[['user_id', 'income int per 1', 'income int per 2', 'income int per 3', \n",
    "                                                       'income int per 4', 'income int per 5', 'income int per 6', \n",
    "                                                       'income int per 7', 'income int per 8', 'income int per 9', \n",
    "                                                       'income int per 10', 'income int per 11', 'income int per 12']]\n",
    "\n",
    "df_internet_income_12_months.head(10)"
   ]
  },
  {
   "cell_type": "markdown",
   "metadata": {},
   "source": [
    "Объединим полученные данные и определим суммарную помесячную выручку по пользователям за 12 месяцев:"
   ]
  },
  {
   "cell_type": "code",
   "execution_count": 38,
   "metadata": {},
   "outputs": [
    {
     "data": {
      "text/html": [
       "<div>\n",
       "<style scoped>\n",
       "    .dataframe tbody tr th:only-of-type {\n",
       "        vertical-align: middle;\n",
       "    }\n",
       "\n",
       "    .dataframe tbody tr th {\n",
       "        vertical-align: top;\n",
       "    }\n",
       "\n",
       "    .dataframe thead th {\n",
       "        text-align: right;\n",
       "    }\n",
       "</style>\n",
       "<table border=\"1\" class=\"dataframe\">\n",
       "  <thead>\n",
       "    <tr style=\"text-align: right;\">\n",
       "      <th></th>\n",
       "      <th>user_id</th>\n",
       "      <th>income total per 1</th>\n",
       "      <th>income total per 2</th>\n",
       "      <th>income total per 3</th>\n",
       "      <th>income total per 4</th>\n",
       "      <th>income total per 5</th>\n",
       "      <th>income total per 6</th>\n",
       "      <th>income total per 7</th>\n",
       "      <th>income total per 8</th>\n",
       "      <th>income total per 9</th>\n",
       "      <th>income total per 10</th>\n",
       "      <th>income total per 11</th>\n",
       "      <th>income total per 12</th>\n",
       "    </tr>\n",
       "  </thead>\n",
       "  <tbody>\n",
       "    <tr>\n",
       "      <th>0</th>\n",
       "      <td>1000</td>\n",
       "      <td>NaN</td>\n",
       "      <td>NaN</td>\n",
       "      <td>NaN</td>\n",
       "      <td>NaN</td>\n",
       "      <td>1950.0</td>\n",
       "      <td>1950.0</td>\n",
       "      <td>1950.0</td>\n",
       "      <td>1950.0</td>\n",
       "      <td>1950.0</td>\n",
       "      <td>1950.0</td>\n",
       "      <td>1950.0</td>\n",
       "      <td>1950.0</td>\n",
       "    </tr>\n",
       "    <tr>\n",
       "      <th>1</th>\n",
       "      <td>1002</td>\n",
       "      <td>NaN</td>\n",
       "      <td>NaN</td>\n",
       "      <td>NaN</td>\n",
       "      <td>NaN</td>\n",
       "      <td>NaN</td>\n",
       "      <td>550.0</td>\n",
       "      <td>1150.0</td>\n",
       "      <td>1550.0</td>\n",
       "      <td>950.0</td>\n",
       "      <td>550.0</td>\n",
       "      <td>1350.0</td>\n",
       "      <td>1150.0</td>\n",
       "    </tr>\n",
       "    <tr>\n",
       "      <th>2</th>\n",
       "      <td>1003</td>\n",
       "      <td>NaN</td>\n",
       "      <td>NaN</td>\n",
       "      <td>NaN</td>\n",
       "      <td>NaN</td>\n",
       "      <td>NaN</td>\n",
       "      <td>NaN</td>\n",
       "      <td>NaN</td>\n",
       "      <td>1950.0</td>\n",
       "      <td>1950.0</td>\n",
       "      <td>1950.0</td>\n",
       "      <td>1950.0</td>\n",
       "      <td>1950.0</td>\n",
       "    </tr>\n",
       "    <tr>\n",
       "      <th>3</th>\n",
       "      <td>1004</td>\n",
       "      <td>NaN</td>\n",
       "      <td>NaN</td>\n",
       "      <td>NaN</td>\n",
       "      <td>NaN</td>\n",
       "      <td>1950.0</td>\n",
       "      <td>1950.0</td>\n",
       "      <td>1950.0</td>\n",
       "      <td>1950.0</td>\n",
       "      <td>1950.0</td>\n",
       "      <td>1950.0</td>\n",
       "      <td>1950.0</td>\n",
       "      <td>1950.0</td>\n",
       "    </tr>\n",
       "    <tr>\n",
       "      <th>4</th>\n",
       "      <td>1005</td>\n",
       "      <td>550.0</td>\n",
       "      <td>550.0</td>\n",
       "      <td>934.0</td>\n",
       "      <td>1198.0</td>\n",
       "      <td>550.0</td>\n",
       "      <td>979.0</td>\n",
       "      <td>652.0</td>\n",
       "      <td>592.0</td>\n",
       "      <td>556.0</td>\n",
       "      <td>1348.0</td>\n",
       "      <td>610.0</td>\n",
       "      <td>685.0</td>\n",
       "    </tr>\n",
       "    <tr>\n",
       "      <th>...</th>\n",
       "      <td>...</td>\n",
       "      <td>...</td>\n",
       "      <td>...</td>\n",
       "      <td>...</td>\n",
       "      <td>...</td>\n",
       "      <td>...</td>\n",
       "      <td>...</td>\n",
       "      <td>...</td>\n",
       "      <td>...</td>\n",
       "      <td>...</td>\n",
       "      <td>...</td>\n",
       "      <td>...</td>\n",
       "      <td>...</td>\n",
       "    </tr>\n",
       "    <tr>\n",
       "      <th>414</th>\n",
       "      <td>1495</td>\n",
       "      <td>NaN</td>\n",
       "      <td>NaN</td>\n",
       "      <td>NaN</td>\n",
       "      <td>NaN</td>\n",
       "      <td>NaN</td>\n",
       "      <td>NaN</td>\n",
       "      <td>NaN</td>\n",
       "      <td>1950.0</td>\n",
       "      <td>2400.0</td>\n",
       "      <td>1950.0</td>\n",
       "      <td>3300.0</td>\n",
       "      <td>1950.0</td>\n",
       "    </tr>\n",
       "    <tr>\n",
       "      <th>415</th>\n",
       "      <td>1496</td>\n",
       "      <td>550.0</td>\n",
       "      <td>3432.0</td>\n",
       "      <td>2721.0</td>\n",
       "      <td>1813.0</td>\n",
       "      <td>2350.0</td>\n",
       "      <td>1715.0</td>\n",
       "      <td>2596.0</td>\n",
       "      <td>2231.0</td>\n",
       "      <td>2950.0</td>\n",
       "      <td>3150.0</td>\n",
       "      <td>3036.0</td>\n",
       "      <td>1807.0</td>\n",
       "    </tr>\n",
       "    <tr>\n",
       "      <th>416</th>\n",
       "      <td>1497</td>\n",
       "      <td>NaN</td>\n",
       "      <td>NaN</td>\n",
       "      <td>NaN</td>\n",
       "      <td>NaN</td>\n",
       "      <td>NaN</td>\n",
       "      <td>NaN</td>\n",
       "      <td>NaN</td>\n",
       "      <td>NaN</td>\n",
       "      <td>NaN</td>\n",
       "      <td>550.0</td>\n",
       "      <td>550.0</td>\n",
       "      <td>1685.0</td>\n",
       "    </tr>\n",
       "    <tr>\n",
       "      <th>417</th>\n",
       "      <td>1498</td>\n",
       "      <td>NaN</td>\n",
       "      <td>NaN</td>\n",
       "      <td>NaN</td>\n",
       "      <td>NaN</td>\n",
       "      <td>NaN</td>\n",
       "      <td>NaN</td>\n",
       "      <td>550.0</td>\n",
       "      <td>2386.0</td>\n",
       "      <td>1950.0</td>\n",
       "      <td>1750.0</td>\n",
       "      <td>NaN</td>\n",
       "      <td>NaN</td>\n",
       "    </tr>\n",
       "    <tr>\n",
       "      <th>418</th>\n",
       "      <td>1499</td>\n",
       "      <td>NaN</td>\n",
       "      <td>NaN</td>\n",
       "      <td>NaN</td>\n",
       "      <td>NaN</td>\n",
       "      <td>NaN</td>\n",
       "      <td>NaN</td>\n",
       "      <td>NaN</td>\n",
       "      <td>NaN</td>\n",
       "      <td>550.0</td>\n",
       "      <td>1150.0</td>\n",
       "      <td>1513.0</td>\n",
       "      <td>598.0</td>\n",
       "    </tr>\n",
       "  </tbody>\n",
       "</table>\n",
       "<p>419 rows × 13 columns</p>\n",
       "</div>"
      ],
      "text/plain": [
       "     user_id  income total per 1  income total per 2  income total per 3  \\\n",
       "0       1000                 NaN                 NaN                 NaN   \n",
       "1       1002                 NaN                 NaN                 NaN   \n",
       "2       1003                 NaN                 NaN                 NaN   \n",
       "3       1004                 NaN                 NaN                 NaN   \n",
       "4       1005               550.0               550.0               934.0   \n",
       "..       ...                 ...                 ...                 ...   \n",
       "414     1495                 NaN                 NaN                 NaN   \n",
       "415     1496               550.0              3432.0              2721.0   \n",
       "416     1497                 NaN                 NaN                 NaN   \n",
       "417     1498                 NaN                 NaN                 NaN   \n",
       "418     1499                 NaN                 NaN                 NaN   \n",
       "\n",
       "     income total per 4  income total per 5  income total per 6  \\\n",
       "0                   NaN              1950.0              1950.0   \n",
       "1                   NaN                 NaN               550.0   \n",
       "2                   NaN                 NaN                 NaN   \n",
       "3                   NaN              1950.0              1950.0   \n",
       "4                1198.0               550.0               979.0   \n",
       "..                  ...                 ...                 ...   \n",
       "414                 NaN                 NaN                 NaN   \n",
       "415              1813.0              2350.0              1715.0   \n",
       "416                 NaN                 NaN                 NaN   \n",
       "417                 NaN                 NaN                 NaN   \n",
       "418                 NaN                 NaN                 NaN   \n",
       "\n",
       "     income total per 7  income total per 8  income total per 9  \\\n",
       "0                1950.0              1950.0              1950.0   \n",
       "1                1150.0              1550.0               950.0   \n",
       "2                   NaN              1950.0              1950.0   \n",
       "3                1950.0              1950.0              1950.0   \n",
       "4                 652.0               592.0               556.0   \n",
       "..                  ...                 ...                 ...   \n",
       "414                 NaN              1950.0              2400.0   \n",
       "415              2596.0              2231.0              2950.0   \n",
       "416                 NaN                 NaN                 NaN   \n",
       "417               550.0              2386.0              1950.0   \n",
       "418                 NaN                 NaN               550.0   \n",
       "\n",
       "     income total per 10  income total per 11  income total per 12  \n",
       "0                 1950.0               1950.0               1950.0  \n",
       "1                  550.0               1350.0               1150.0  \n",
       "2                 1950.0               1950.0               1950.0  \n",
       "3                 1950.0               1950.0               1950.0  \n",
       "4                 1348.0                610.0                685.0  \n",
       "..                   ...                  ...                  ...  \n",
       "414               1950.0               3300.0               1950.0  \n",
       "415               3150.0               3036.0               1807.0  \n",
       "416                550.0                550.0               1685.0  \n",
       "417               1750.0                  NaN                  NaN  \n",
       "418               1150.0               1513.0                598.0  \n",
       "\n",
       "[419 rows x 13 columns]"
      ]
     },
     "execution_count": 38,
     "metadata": {},
     "output_type": "execute_result"
    }
   ],
   "source": [
    "df_income_12_months = df_duration_income_12_months.merge(df_messages_income_12_months, on = 'user_id')\n",
    "df_income_12_months = df_income_12_months.merge(df_internet_income_12_months)\n",
    "\n",
    "for index in range(12):\n",
    "    df_income_12_months['income total per ' + str(index + 1)] = df_income_12_months['income per ' + str(index + 1)] + df_income_12_months['income mess per ' + str(index + 1)] + df_income_12_months['income int per ' + str(index + 1)]\n",
    "    \n",
    "    \n",
    "df_income_12_months = df_income_12_months[['user_id', 'income total per 1', 'income total per 2', 'income total per 3', \n",
    "                                                       'income total per 4', 'income total per 5', 'income total per 6', \n",
    "                                                       'income total per 7', 'income total per 8', 'income total per 9', \n",
    "                                                       'income total per 10', 'income total per 11', 'income total per 12']]\n",
    "\n",
    "df_income_12_months"
   ]
  },
  {
   "cell_type": "markdown",
   "metadata": {},
   "source": [
    "Таким образом, мы получили сводную таблицу с суммарной помесячной выручкой по всем пользователям за 12 месяцев."
   ]
  },
  {
   "cell_type": "markdown",
   "metadata": {},
   "source": [
    "## Анализ данных"
   ]
  },
  {
   "cell_type": "markdown",
   "metadata": {},
   "source": [
    "Определим, сколько минут разговора, сколько сообщений и какой объём интернет-трафика требуется пользователям каждого тарифа в месяц? Для этого объединим сводные таблицы с этими данными (`df_duration_total`, `df_messages_total_info`, `df_internet_total_info`) и таблицу с тарифами:"
   ]
  },
  {
   "cell_type": "code",
   "execution_count": 39,
   "metadata": {},
   "outputs": [
    {
     "data": {
      "text/html": [
       "<div>\n",
       "<style scoped>\n",
       "    .dataframe tbody tr th:only-of-type {\n",
       "        vertical-align: middle;\n",
       "    }\n",
       "\n",
       "    .dataframe tbody tr th {\n",
       "        vertical-align: top;\n",
       "    }\n",
       "\n",
       "    .dataframe thead th {\n",
       "        text-align: right;\n",
       "    }\n",
       "</style>\n",
       "<table border=\"1\" class=\"dataframe\">\n",
       "  <thead>\n",
       "    <tr style=\"text-align: right;\">\n",
       "      <th></th>\n",
       "      <th>user_id</th>\n",
       "      <th>1</th>\n",
       "      <th>2</th>\n",
       "      <th>3</th>\n",
       "      <th>4</th>\n",
       "      <th>5</th>\n",
       "      <th>6</th>\n",
       "      <th>7</th>\n",
       "      <th>8</th>\n",
       "      <th>9</th>\n",
       "      <th>10</th>\n",
       "      <th>11</th>\n",
       "      <th>12</th>\n",
       "      <th>tariff</th>\n",
       "    </tr>\n",
       "  </thead>\n",
       "  <tbody>\n",
       "    <tr>\n",
       "      <th>0</th>\n",
       "      <td>1000</td>\n",
       "      <td>NaN</td>\n",
       "      <td>NaN</td>\n",
       "      <td>NaN</td>\n",
       "      <td>NaN</td>\n",
       "      <td>159.0</td>\n",
       "      <td>172.0</td>\n",
       "      <td>340.0</td>\n",
       "      <td>408.0</td>\n",
       "      <td>466.0</td>\n",
       "      <td>350.0</td>\n",
       "      <td>338.0</td>\n",
       "      <td>333.0</td>\n",
       "      <td>ultra</td>\n",
       "    </tr>\n",
       "    <tr>\n",
       "      <th>1</th>\n",
       "      <td>1003</td>\n",
       "      <td>NaN</td>\n",
       "      <td>NaN</td>\n",
       "      <td>NaN</td>\n",
       "      <td>NaN</td>\n",
       "      <td>NaN</td>\n",
       "      <td>NaN</td>\n",
       "      <td>NaN</td>\n",
       "      <td>329.0</td>\n",
       "      <td>1052.0</td>\n",
       "      <td>766.0</td>\n",
       "      <td>846.0</td>\n",
       "      <td>716.0</td>\n",
       "      <td>ultra</td>\n",
       "    </tr>\n",
       "    <tr>\n",
       "      <th>2</th>\n",
       "      <td>1004</td>\n",
       "      <td>NaN</td>\n",
       "      <td>NaN</td>\n",
       "      <td>NaN</td>\n",
       "      <td>NaN</td>\n",
       "      <td>43.0</td>\n",
       "      <td>236.0</td>\n",
       "      <td>96.0</td>\n",
       "      <td>219.0</td>\n",
       "      <td>200.0</td>\n",
       "      <td>256.0</td>\n",
       "      <td>162.0</td>\n",
       "      <td>149.0</td>\n",
       "      <td>ultra</td>\n",
       "    </tr>\n",
       "    <tr>\n",
       "      <th>3</th>\n",
       "      <td>1013</td>\n",
       "      <td>NaN</td>\n",
       "      <td>NaN</td>\n",
       "      <td>NaN</td>\n",
       "      <td>NaN</td>\n",
       "      <td>NaN</td>\n",
       "      <td>NaN</td>\n",
       "      <td>NaN</td>\n",
       "      <td>NaN</td>\n",
       "      <td>NaN</td>\n",
       "      <td>NaN</td>\n",
       "      <td>373.0</td>\n",
       "      <td>635.0</td>\n",
       "      <td>ultra</td>\n",
       "    </tr>\n",
       "    <tr>\n",
       "      <th>4</th>\n",
       "      <td>1016</td>\n",
       "      <td>NaN</td>\n",
       "      <td>NaN</td>\n",
       "      <td>NaN</td>\n",
       "      <td>NaN</td>\n",
       "      <td>NaN</td>\n",
       "      <td>NaN</td>\n",
       "      <td>NaN</td>\n",
       "      <td>NaN</td>\n",
       "      <td>NaN</td>\n",
       "      <td>NaN</td>\n",
       "      <td>12.0</td>\n",
       "      <td>93.0</td>\n",
       "      <td>ultra</td>\n",
       "    </tr>\n",
       "    <tr>\n",
       "      <th>...</th>\n",
       "      <td>...</td>\n",
       "      <td>...</td>\n",
       "      <td>...</td>\n",
       "      <td>...</td>\n",
       "      <td>...</td>\n",
       "      <td>...</td>\n",
       "      <td>...</td>\n",
       "      <td>...</td>\n",
       "      <td>...</td>\n",
       "      <td>...</td>\n",
       "      <td>...</td>\n",
       "      <td>...</td>\n",
       "      <td>...</td>\n",
       "      <td>...</td>\n",
       "    </tr>\n",
       "    <tr>\n",
       "      <th>487</th>\n",
       "      <td>1494</td>\n",
       "      <td>NaN</td>\n",
       "      <td>NaN</td>\n",
       "      <td>NaN</td>\n",
       "      <td>NaN</td>\n",
       "      <td>NaN</td>\n",
       "      <td>NaN</td>\n",
       "      <td>NaN</td>\n",
       "      <td>160.0</td>\n",
       "      <td>502.0</td>\n",
       "      <td>418.0</td>\n",
       "      <td>454.0</td>\n",
       "      <td>428.0</td>\n",
       "      <td>smart</td>\n",
       "    </tr>\n",
       "    <tr>\n",
       "      <th>488</th>\n",
       "      <td>1496</td>\n",
       "      <td>48.0</td>\n",
       "      <td>594.0</td>\n",
       "      <td>557.0</td>\n",
       "      <td>521.0</td>\n",
       "      <td>484.0</td>\n",
       "      <td>555.0</td>\n",
       "      <td>582.0</td>\n",
       "      <td>527.0</td>\n",
       "      <td>486.0</td>\n",
       "      <td>450.0</td>\n",
       "      <td>662.0</td>\n",
       "      <td>518.0</td>\n",
       "      <td>smart</td>\n",
       "    </tr>\n",
       "    <tr>\n",
       "      <th>489</th>\n",
       "      <td>1497</td>\n",
       "      <td>NaN</td>\n",
       "      <td>NaN</td>\n",
       "      <td>NaN</td>\n",
       "      <td>NaN</td>\n",
       "      <td>NaN</td>\n",
       "      <td>NaN</td>\n",
       "      <td>NaN</td>\n",
       "      <td>NaN</td>\n",
       "      <td>NaN</td>\n",
       "      <td>490.0</td>\n",
       "      <td>371.0</td>\n",
       "      <td>545.0</td>\n",
       "      <td>smart</td>\n",
       "    </tr>\n",
       "    <tr>\n",
       "      <th>490</th>\n",
       "      <td>1498</td>\n",
       "      <td>NaN</td>\n",
       "      <td>NaN</td>\n",
       "      <td>NaN</td>\n",
       "      <td>NaN</td>\n",
       "      <td>NaN</td>\n",
       "      <td>NaN</td>\n",
       "      <td>175.0</td>\n",
       "      <td>400.0</td>\n",
       "      <td>471.0</td>\n",
       "      <td>247.0</td>\n",
       "      <td>NaN</td>\n",
       "      <td>NaN</td>\n",
       "      <td>smart</td>\n",
       "    </tr>\n",
       "    <tr>\n",
       "      <th>491</th>\n",
       "      <td>1499</td>\n",
       "      <td>NaN</td>\n",
       "      <td>NaN</td>\n",
       "      <td>NaN</td>\n",
       "      <td>NaN</td>\n",
       "      <td>NaN</td>\n",
       "      <td>NaN</td>\n",
       "      <td>NaN</td>\n",
       "      <td>NaN</td>\n",
       "      <td>70.0</td>\n",
       "      <td>449.0</td>\n",
       "      <td>612.0</td>\n",
       "      <td>492.0</td>\n",
       "      <td>smart</td>\n",
       "    </tr>\n",
       "  </tbody>\n",
       "</table>\n",
       "<p>492 rows × 14 columns</p>\n",
       "</div>"
      ],
      "text/plain": [
       "     user_id     1      2      3      4      5      6      7      8       9  \\\n",
       "0       1000   NaN    NaN    NaN    NaN  159.0  172.0  340.0  408.0   466.0   \n",
       "1       1003   NaN    NaN    NaN    NaN    NaN    NaN    NaN  329.0  1052.0   \n",
       "2       1004   NaN    NaN    NaN    NaN   43.0  236.0   96.0  219.0   200.0   \n",
       "3       1013   NaN    NaN    NaN    NaN    NaN    NaN    NaN    NaN     NaN   \n",
       "4       1016   NaN    NaN    NaN    NaN    NaN    NaN    NaN    NaN     NaN   \n",
       "..       ...   ...    ...    ...    ...    ...    ...    ...    ...     ...   \n",
       "487     1494   NaN    NaN    NaN    NaN    NaN    NaN    NaN  160.0   502.0   \n",
       "488     1496  48.0  594.0  557.0  521.0  484.0  555.0  582.0  527.0   486.0   \n",
       "489     1497   NaN    NaN    NaN    NaN    NaN    NaN    NaN    NaN     NaN   \n",
       "490     1498   NaN    NaN    NaN    NaN    NaN    NaN  175.0  400.0   471.0   \n",
       "491     1499   NaN    NaN    NaN    NaN    NaN    NaN    NaN    NaN    70.0   \n",
       "\n",
       "        10     11     12 tariff  \n",
       "0    350.0  338.0  333.0  ultra  \n",
       "1    766.0  846.0  716.0  ultra  \n",
       "2    256.0  162.0  149.0  ultra  \n",
       "3      NaN  373.0  635.0  ultra  \n",
       "4      NaN   12.0   93.0  ultra  \n",
       "..     ...    ...    ...    ...  \n",
       "487  418.0  454.0  428.0  smart  \n",
       "488  450.0  662.0  518.0  smart  \n",
       "489  490.0  371.0  545.0  smart  \n",
       "490  247.0    NaN    NaN  smart  \n",
       "491  449.0  612.0  492.0  smart  \n",
       "\n",
       "[492 rows x 14 columns]"
      ]
     },
     "metadata": {},
     "output_type": "display_data"
    },
    {
     "data": {
      "text/html": [
       "<div>\n",
       "<style scoped>\n",
       "    .dataframe tbody tr th:only-of-type {\n",
       "        vertical-align: middle;\n",
       "    }\n",
       "\n",
       "    .dataframe tbody tr th {\n",
       "        vertical-align: top;\n",
       "    }\n",
       "\n",
       "    .dataframe thead th {\n",
       "        text-align: right;\n",
       "    }\n",
       "</style>\n",
       "<table border=\"1\" class=\"dataframe\">\n",
       "  <thead>\n",
       "    <tr style=\"text-align: right;\">\n",
       "      <th></th>\n",
       "      <th>user_id</th>\n",
       "      <th>1</th>\n",
       "      <th>2</th>\n",
       "      <th>3</th>\n",
       "      <th>4</th>\n",
       "      <th>5</th>\n",
       "      <th>6</th>\n",
       "      <th>7</th>\n",
       "      <th>8</th>\n",
       "      <th>9</th>\n",
       "      <th>10</th>\n",
       "      <th>11</th>\n",
       "      <th>12</th>\n",
       "      <th>tariff</th>\n",
       "    </tr>\n",
       "  </thead>\n",
       "  <tbody>\n",
       "    <tr>\n",
       "      <th>0</th>\n",
       "      <td>1000</td>\n",
       "      <td>NaN</td>\n",
       "      <td>NaN</td>\n",
       "      <td>NaN</td>\n",
       "      <td>NaN</td>\n",
       "      <td>22.0</td>\n",
       "      <td>60.0</td>\n",
       "      <td>75.0</td>\n",
       "      <td>81.0</td>\n",
       "      <td>57.0</td>\n",
       "      <td>73.0</td>\n",
       "      <td>58.0</td>\n",
       "      <td>70.0</td>\n",
       "      <td>ultra</td>\n",
       "    </tr>\n",
       "    <tr>\n",
       "      <th>1</th>\n",
       "      <td>1003</td>\n",
       "      <td>NaN</td>\n",
       "      <td>NaN</td>\n",
       "      <td>NaN</td>\n",
       "      <td>NaN</td>\n",
       "      <td>NaN</td>\n",
       "      <td>NaN</td>\n",
       "      <td>NaN</td>\n",
       "      <td>37.0</td>\n",
       "      <td>91.0</td>\n",
       "      <td>83.0</td>\n",
       "      <td>94.0</td>\n",
       "      <td>75.0</td>\n",
       "      <td>ultra</td>\n",
       "    </tr>\n",
       "    <tr>\n",
       "      <th>2</th>\n",
       "      <td>1004</td>\n",
       "      <td>NaN</td>\n",
       "      <td>NaN</td>\n",
       "      <td>NaN</td>\n",
       "      <td>NaN</td>\n",
       "      <td>95.0</td>\n",
       "      <td>134.0</td>\n",
       "      <td>181.0</td>\n",
       "      <td>151.0</td>\n",
       "      <td>146.0</td>\n",
       "      <td>165.0</td>\n",
       "      <td>158.0</td>\n",
       "      <td>162.0</td>\n",
       "      <td>ultra</td>\n",
       "    </tr>\n",
       "    <tr>\n",
       "      <th>3</th>\n",
       "      <td>1013</td>\n",
       "      <td>NaN</td>\n",
       "      <td>NaN</td>\n",
       "      <td>NaN</td>\n",
       "      <td>NaN</td>\n",
       "      <td>NaN</td>\n",
       "      <td>NaN</td>\n",
       "      <td>NaN</td>\n",
       "      <td>NaN</td>\n",
       "      <td>NaN</td>\n",
       "      <td>NaN</td>\n",
       "      <td>17.0</td>\n",
       "      <td>25.0</td>\n",
       "      <td>ultra</td>\n",
       "    </tr>\n",
       "    <tr>\n",
       "      <th>4</th>\n",
       "      <td>1016</td>\n",
       "      <td>NaN</td>\n",
       "      <td>NaN</td>\n",
       "      <td>NaN</td>\n",
       "      <td>NaN</td>\n",
       "      <td>NaN</td>\n",
       "      <td>NaN</td>\n",
       "      <td>NaN</td>\n",
       "      <td>NaN</td>\n",
       "      <td>NaN</td>\n",
       "      <td>NaN</td>\n",
       "      <td>39.0</td>\n",
       "      <td>103.0</td>\n",
       "      <td>ultra</td>\n",
       "    </tr>\n",
       "    <tr>\n",
       "      <th>...</th>\n",
       "      <td>...</td>\n",
       "      <td>...</td>\n",
       "      <td>...</td>\n",
       "      <td>...</td>\n",
       "      <td>...</td>\n",
       "      <td>...</td>\n",
       "      <td>...</td>\n",
       "      <td>...</td>\n",
       "      <td>...</td>\n",
       "      <td>...</td>\n",
       "      <td>...</td>\n",
       "      <td>...</td>\n",
       "      <td>...</td>\n",
       "      <td>...</td>\n",
       "    </tr>\n",
       "    <tr>\n",
       "      <th>421</th>\n",
       "      <td>1492</td>\n",
       "      <td>NaN</td>\n",
       "      <td>NaN</td>\n",
       "      <td>NaN</td>\n",
       "      <td>NaN</td>\n",
       "      <td>NaN</td>\n",
       "      <td>1.0</td>\n",
       "      <td>19.0</td>\n",
       "      <td>15.0</td>\n",
       "      <td>10.0</td>\n",
       "      <td>21.0</td>\n",
       "      <td>13.0</td>\n",
       "      <td>19.0</td>\n",
       "      <td>smart</td>\n",
       "    </tr>\n",
       "    <tr>\n",
       "      <th>422</th>\n",
       "      <td>1496</td>\n",
       "      <td>9.0</td>\n",
       "      <td>45.0</td>\n",
       "      <td>46.0</td>\n",
       "      <td>49.0</td>\n",
       "      <td>40.0</td>\n",
       "      <td>35.0</td>\n",
       "      <td>42.0</td>\n",
       "      <td>41.0</td>\n",
       "      <td>29.0</td>\n",
       "      <td>35.0</td>\n",
       "      <td>46.0</td>\n",
       "      <td>51.0</td>\n",
       "      <td>smart</td>\n",
       "    </tr>\n",
       "    <tr>\n",
       "      <th>423</th>\n",
       "      <td>1497</td>\n",
       "      <td>NaN</td>\n",
       "      <td>NaN</td>\n",
       "      <td>NaN</td>\n",
       "      <td>NaN</td>\n",
       "      <td>NaN</td>\n",
       "      <td>NaN</td>\n",
       "      <td>NaN</td>\n",
       "      <td>NaN</td>\n",
       "      <td>NaN</td>\n",
       "      <td>20.0</td>\n",
       "      <td>14.0</td>\n",
       "      <td>17.0</td>\n",
       "      <td>smart</td>\n",
       "    </tr>\n",
       "    <tr>\n",
       "      <th>424</th>\n",
       "      <td>1498</td>\n",
       "      <td>NaN</td>\n",
       "      <td>NaN</td>\n",
       "      <td>NaN</td>\n",
       "      <td>NaN</td>\n",
       "      <td>NaN</td>\n",
       "      <td>NaN</td>\n",
       "      <td>20.0</td>\n",
       "      <td>62.0</td>\n",
       "      <td>44.0</td>\n",
       "      <td>42.0</td>\n",
       "      <td>NaN</td>\n",
       "      <td>NaN</td>\n",
       "      <td>smart</td>\n",
       "    </tr>\n",
       "    <tr>\n",
       "      <th>425</th>\n",
       "      <td>1499</td>\n",
       "      <td>NaN</td>\n",
       "      <td>NaN</td>\n",
       "      <td>NaN</td>\n",
       "      <td>NaN</td>\n",
       "      <td>NaN</td>\n",
       "      <td>NaN</td>\n",
       "      <td>NaN</td>\n",
       "      <td>NaN</td>\n",
       "      <td>11.0</td>\n",
       "      <td>48.0</td>\n",
       "      <td>59.0</td>\n",
       "      <td>66.0</td>\n",
       "      <td>smart</td>\n",
       "    </tr>\n",
       "  </tbody>\n",
       "</table>\n",
       "<p>426 rows × 14 columns</p>\n",
       "</div>"
      ],
      "text/plain": [
       "     user_id    1     2     3     4     5      6      7      8      9     10  \\\n",
       "0       1000  NaN   NaN   NaN   NaN  22.0   60.0   75.0   81.0   57.0   73.0   \n",
       "1       1003  NaN   NaN   NaN   NaN   NaN    NaN    NaN   37.0   91.0   83.0   \n",
       "2       1004  NaN   NaN   NaN   NaN  95.0  134.0  181.0  151.0  146.0  165.0   \n",
       "3       1013  NaN   NaN   NaN   NaN   NaN    NaN    NaN    NaN    NaN    NaN   \n",
       "4       1016  NaN   NaN   NaN   NaN   NaN    NaN    NaN    NaN    NaN    NaN   \n",
       "..       ...  ...   ...   ...   ...   ...    ...    ...    ...    ...    ...   \n",
       "421     1492  NaN   NaN   NaN   NaN   NaN    1.0   19.0   15.0   10.0   21.0   \n",
       "422     1496  9.0  45.0  46.0  49.0  40.0   35.0   42.0   41.0   29.0   35.0   \n",
       "423     1497  NaN   NaN   NaN   NaN   NaN    NaN    NaN    NaN    NaN   20.0   \n",
       "424     1498  NaN   NaN   NaN   NaN   NaN    NaN   20.0   62.0   44.0   42.0   \n",
       "425     1499  NaN   NaN   NaN   NaN   NaN    NaN    NaN    NaN   11.0   48.0   \n",
       "\n",
       "        11     12 tariff  \n",
       "0     58.0   70.0  ultra  \n",
       "1     94.0   75.0  ultra  \n",
       "2    158.0  162.0  ultra  \n",
       "3     17.0   25.0  ultra  \n",
       "4     39.0  103.0  ultra  \n",
       "..     ...    ...    ...  \n",
       "421   13.0   19.0  smart  \n",
       "422   46.0   51.0  smart  \n",
       "423   14.0   17.0  smart  \n",
       "424    NaN    NaN  smart  \n",
       "425   59.0   66.0  smart  \n",
       "\n",
       "[426 rows x 14 columns]"
      ]
     },
     "metadata": {},
     "output_type": "display_data"
    },
    {
     "data": {
      "text/html": [
       "<div>\n",
       "<style scoped>\n",
       "    .dataframe tbody tr th:only-of-type {\n",
       "        vertical-align: middle;\n",
       "    }\n",
       "\n",
       "    .dataframe tbody tr th {\n",
       "        vertical-align: top;\n",
       "    }\n",
       "\n",
       "    .dataframe thead th {\n",
       "        text-align: right;\n",
       "    }\n",
       "</style>\n",
       "<table border=\"1\" class=\"dataframe\">\n",
       "  <thead>\n",
       "    <tr style=\"text-align: right;\">\n",
       "      <th></th>\n",
       "      <th>user_id</th>\n",
       "      <th>1</th>\n",
       "      <th>2</th>\n",
       "      <th>3</th>\n",
       "      <th>4</th>\n",
       "      <th>5</th>\n",
       "      <th>6</th>\n",
       "      <th>7</th>\n",
       "      <th>8</th>\n",
       "      <th>9</th>\n",
       "      <th>10</th>\n",
       "      <th>11</th>\n",
       "      <th>12</th>\n",
       "      <th>tariff</th>\n",
       "    </tr>\n",
       "  </thead>\n",
       "  <tbody>\n",
       "    <tr>\n",
       "      <th>0</th>\n",
       "      <td>1000</td>\n",
       "      <td>NaN</td>\n",
       "      <td>NaN</td>\n",
       "      <td>NaN</td>\n",
       "      <td>NaN</td>\n",
       "      <td>2253.49</td>\n",
       "      <td>23233.77</td>\n",
       "      <td>14003.64</td>\n",
       "      <td>14055.93</td>\n",
       "      <td>14568.91</td>\n",
       "      <td>14702.49</td>\n",
       "      <td>14756.47</td>\n",
       "      <td>9817.61</td>\n",
       "      <td>ultra</td>\n",
       "    </tr>\n",
       "    <tr>\n",
       "      <th>1</th>\n",
       "      <td>1003</td>\n",
       "      <td>NaN</td>\n",
       "      <td>NaN</td>\n",
       "      <td>NaN</td>\n",
       "      <td>NaN</td>\n",
       "      <td>NaN</td>\n",
       "      <td>NaN</td>\n",
       "      <td>NaN</td>\n",
       "      <td>8565.21</td>\n",
       "      <td>12468.87</td>\n",
       "      <td>14768.14</td>\n",
       "      <td>11356.89</td>\n",
       "      <td>10121.53</td>\n",
       "      <td>ultra</td>\n",
       "    </tr>\n",
       "    <tr>\n",
       "      <th>2</th>\n",
       "      <td>1004</td>\n",
       "      <td>NaN</td>\n",
       "      <td>NaN</td>\n",
       "      <td>NaN</td>\n",
       "      <td>NaN</td>\n",
       "      <td>13403.98</td>\n",
       "      <td>17600.02</td>\n",
       "      <td>22229.58</td>\n",
       "      <td>28584.37</td>\n",
       "      <td>15109.03</td>\n",
       "      <td>18475.44</td>\n",
       "      <td>15616.02</td>\n",
       "      <td>18021.04</td>\n",
       "      <td>ultra</td>\n",
       "    </tr>\n",
       "    <tr>\n",
       "      <th>3</th>\n",
       "      <td>1013</td>\n",
       "      <td>NaN</td>\n",
       "      <td>NaN</td>\n",
       "      <td>NaN</td>\n",
       "      <td>NaN</td>\n",
       "      <td>NaN</td>\n",
       "      <td>NaN</td>\n",
       "      <td>NaN</td>\n",
       "      <td>NaN</td>\n",
       "      <td>NaN</td>\n",
       "      <td>NaN</td>\n",
       "      <td>9780.03</td>\n",
       "      <td>20737.13</td>\n",
       "      <td>ultra</td>\n",
       "    </tr>\n",
       "    <tr>\n",
       "      <th>4</th>\n",
       "      <td>1016</td>\n",
       "      <td>NaN</td>\n",
       "      <td>NaN</td>\n",
       "      <td>NaN</td>\n",
       "      <td>NaN</td>\n",
       "      <td>NaN</td>\n",
       "      <td>NaN</td>\n",
       "      <td>NaN</td>\n",
       "      <td>NaN</td>\n",
       "      <td>NaN</td>\n",
       "      <td>NaN</td>\n",
       "      <td>7382.23</td>\n",
       "      <td>19428.21</td>\n",
       "      <td>ultra</td>\n",
       "    </tr>\n",
       "    <tr>\n",
       "      <th>...</th>\n",
       "      <td>...</td>\n",
       "      <td>...</td>\n",
       "      <td>...</td>\n",
       "      <td>...</td>\n",
       "      <td>...</td>\n",
       "      <td>...</td>\n",
       "      <td>...</td>\n",
       "      <td>...</td>\n",
       "      <td>...</td>\n",
       "      <td>...</td>\n",
       "      <td>...</td>\n",
       "      <td>...</td>\n",
       "      <td>...</td>\n",
       "      <td>...</td>\n",
       "    </tr>\n",
       "    <tr>\n",
       "      <th>492</th>\n",
       "      <td>1494</td>\n",
       "      <td>NaN</td>\n",
       "      <td>NaN</td>\n",
       "      <td>NaN</td>\n",
       "      <td>NaN</td>\n",
       "      <td>NaN</td>\n",
       "      <td>NaN</td>\n",
       "      <td>NaN</td>\n",
       "      <td>6590.75</td>\n",
       "      <td>16962.51</td>\n",
       "      <td>17767.24</td>\n",
       "      <td>18052.45</td>\n",
       "      <td>17621.21</td>\n",
       "      <td>smart</td>\n",
       "    </tr>\n",
       "    <tr>\n",
       "      <th>493</th>\n",
       "      <td>1496</td>\n",
       "      <td>3762.73</td>\n",
       "      <td>28489.67</td>\n",
       "      <td>24959.0</td>\n",
       "      <td>21074.67</td>\n",
       "      <td>23709.75</td>\n",
       "      <td>20134.31</td>\n",
       "      <td>24364.76</td>\n",
       "      <td>23530.03</td>\n",
       "      <td>26934.65</td>\n",
       "      <td>28183.17</td>\n",
       "      <td>25063.40</td>\n",
       "      <td>20736.15</td>\n",
       "      <td>smart</td>\n",
       "    </tr>\n",
       "    <tr>\n",
       "      <th>494</th>\n",
       "      <td>1497</td>\n",
       "      <td>NaN</td>\n",
       "      <td>NaN</td>\n",
       "      <td>NaN</td>\n",
       "      <td>NaN</td>\n",
       "      <td>NaN</td>\n",
       "      <td>NaN</td>\n",
       "      <td>NaN</td>\n",
       "      <td>NaN</td>\n",
       "      <td>NaN</td>\n",
       "      <td>11500.29</td>\n",
       "      <td>14156.08</td>\n",
       "      <td>19918.60</td>\n",
       "      <td>smart</td>\n",
       "    </tr>\n",
       "    <tr>\n",
       "      <th>495</th>\n",
       "      <td>1498</td>\n",
       "      <td>NaN</td>\n",
       "      <td>NaN</td>\n",
       "      <td>NaN</td>\n",
       "      <td>NaN</td>\n",
       "      <td>NaN</td>\n",
       "      <td>NaN</td>\n",
       "      <td>7476.24</td>\n",
       "      <td>24235.21</td>\n",
       "      <td>22134.41</td>\n",
       "      <td>20579.36</td>\n",
       "      <td>NaN</td>\n",
       "      <td>NaN</td>\n",
       "      <td>smart</td>\n",
       "    </tr>\n",
       "    <tr>\n",
       "      <th>496</th>\n",
       "      <td>1499</td>\n",
       "      <td>NaN</td>\n",
       "      <td>NaN</td>\n",
       "      <td>NaN</td>\n",
       "      <td>NaN</td>\n",
       "      <td>NaN</td>\n",
       "      <td>NaN</td>\n",
       "      <td>NaN</td>\n",
       "      <td>NaN</td>\n",
       "      <td>1845.75</td>\n",
       "      <td>17788.51</td>\n",
       "      <td>17963.31</td>\n",
       "      <td>13055.58</td>\n",
       "      <td>smart</td>\n",
       "    </tr>\n",
       "  </tbody>\n",
       "</table>\n",
       "<p>497 rows × 14 columns</p>\n",
       "</div>"
      ],
      "text/plain": [
       "     user_id        1         2        3         4         5         6  \\\n",
       "0       1000      NaN       NaN      NaN       NaN   2253.49  23233.77   \n",
       "1       1003      NaN       NaN      NaN       NaN       NaN       NaN   \n",
       "2       1004      NaN       NaN      NaN       NaN  13403.98  17600.02   \n",
       "3       1013      NaN       NaN      NaN       NaN       NaN       NaN   \n",
       "4       1016      NaN       NaN      NaN       NaN       NaN       NaN   \n",
       "..       ...      ...       ...      ...       ...       ...       ...   \n",
       "492     1494      NaN       NaN      NaN       NaN       NaN       NaN   \n",
       "493     1496  3762.73  28489.67  24959.0  21074.67  23709.75  20134.31   \n",
       "494     1497      NaN       NaN      NaN       NaN       NaN       NaN   \n",
       "495     1498      NaN       NaN      NaN       NaN       NaN       NaN   \n",
       "496     1499      NaN       NaN      NaN       NaN       NaN       NaN   \n",
       "\n",
       "            7         8         9        10        11        12 tariff  \n",
       "0    14003.64  14055.93  14568.91  14702.49  14756.47   9817.61  ultra  \n",
       "1         NaN   8565.21  12468.87  14768.14  11356.89  10121.53  ultra  \n",
       "2    22229.58  28584.37  15109.03  18475.44  15616.02  18021.04  ultra  \n",
       "3         NaN       NaN       NaN       NaN   9780.03  20737.13  ultra  \n",
       "4         NaN       NaN       NaN       NaN   7382.23  19428.21  ultra  \n",
       "..        ...       ...       ...       ...       ...       ...    ...  \n",
       "492       NaN   6590.75  16962.51  17767.24  18052.45  17621.21  smart  \n",
       "493  24364.76  23530.03  26934.65  28183.17  25063.40  20736.15  smart  \n",
       "494       NaN       NaN       NaN  11500.29  14156.08  19918.60  smart  \n",
       "495   7476.24  24235.21  22134.41  20579.36       NaN       NaN  smart  \n",
       "496       NaN       NaN   1845.75  17788.51  17963.31  13055.58  smart  \n",
       "\n",
       "[497 rows x 14 columns]"
      ]
     },
     "execution_count": 39,
     "metadata": {},
     "output_type": "execute_result"
    }
   ],
   "source": [
    "df_duration_month = df_duration_total[['user_id', 1, 2, 3, 4, 5, 6, 7, 8, 9, 10, 11, 12]]\n",
    "df_duration_month = df_duration_month.merge(df_users, on = 'user_id')\n",
    "df_duration_month = df_duration_month.merge(df_tariffs, on = 'tariff')\n",
    "df_duration_month = df_duration_month[['user_id', 1, 2, 3, 4, 5, 6, 7, 8, 9, 10, 11, 12, 'tariff']]\n",
    "\n",
    "df_messages_month = df_messages_total_info[['user_id', 1, 2, 3, 4, 5, 6, 7, 8, 9, 10, 11, 12]]\n",
    "df_messages_month = df_messages_month.merge(df_users, on = 'user_id')\n",
    "df_messages_month = df_messages_month.merge(df_tariffs, on = 'tariff')\n",
    "df_messages_month = df_messages_month[['user_id', 1, 2, 3, 4, 5, 6, 7, 8, 9, 10, 11, 12, 'tariff']]\n",
    "\n",
    "df_internet_month = df_internet_total_info[['user_id', 1, 2, 3, 4, 5, 6, 7, 8, 9, 10, 11, 12]]\n",
    "df_internet_month = df_internet_month.merge(df_users, on = 'user_id')\n",
    "df_internet_month = df_internet_month.merge(df_tariffs, on = 'tariff')\n",
    "df_internet_month = df_internet_month[['user_id', 1, 2, 3, 4, 5, 6, 7, 8, 9, 10, 11, 12, 'tariff']]\n",
    "\n",
    "display(df_duration_month)\n",
    "display(df_messages_month)\n",
    "df_internet_month"
   ]
  },
  {
   "cell_type": "markdown",
   "metadata": {},
   "source": [
    "Таблицы `df_duration_month`, `df_messages_month` и `df_internet_month` отражают количество минут разговора, количество сообщений и объём интернет-трафика, необходимые пользователям каждого тарифа по месяцам."
   ]
  },
  {
   "cell_type": "markdown",
   "metadata": {},
   "source": [
    "Определим средние значения в `df_duration_month`, `df_messages_month` и `df_internet_month`:"
   ]
  },
  {
   "cell_type": "code",
   "execution_count": 40,
   "metadata": {},
   "outputs": [
    {
     "data": {
      "text/html": [
       "<div>\n",
       "<style scoped>\n",
       "    .dataframe tbody tr th:only-of-type {\n",
       "        vertical-align: middle;\n",
       "    }\n",
       "\n",
       "    .dataframe tbody tr th {\n",
       "        vertical-align: top;\n",
       "    }\n",
       "\n",
       "    .dataframe thead th {\n",
       "        text-align: right;\n",
       "    }\n",
       "</style>\n",
       "<table border=\"1\" class=\"dataframe\">\n",
       "  <thead>\n",
       "    <tr style=\"text-align: right;\">\n",
       "      <th></th>\n",
       "      <th>1</th>\n",
       "      <th>2</th>\n",
       "      <th>3</th>\n",
       "      <th>4</th>\n",
       "      <th>5</th>\n",
       "      <th>6</th>\n",
       "      <th>7</th>\n",
       "      <th>8</th>\n",
       "      <th>9</th>\n",
       "      <th>10</th>\n",
       "      <th>11</th>\n",
       "      <th>12</th>\n",
       "    </tr>\n",
       "    <tr>\n",
       "      <th>tariff</th>\n",
       "      <th></th>\n",
       "      <th></th>\n",
       "      <th></th>\n",
       "      <th></th>\n",
       "      <th></th>\n",
       "      <th></th>\n",
       "      <th></th>\n",
       "      <th></th>\n",
       "      <th></th>\n",
       "      <th></th>\n",
       "      <th></th>\n",
       "      <th></th>\n",
       "    </tr>\n",
       "  </thead>\n",
       "  <tbody>\n",
       "    <tr>\n",
       "      <th>smart</th>\n",
       "      <td>197.764706</td>\n",
       "      <td>293.189655</td>\n",
       "      <td>380.818182</td>\n",
       "      <td>366.276786</td>\n",
       "      <td>390.177305</td>\n",
       "      <td>399.460123</td>\n",
       "      <td>411.184080</td>\n",
       "      <td>421.619658</td>\n",
       "      <td>425.420849</td>\n",
       "      <td>430.593857</td>\n",
       "      <td>445.466667</td>\n",
       "      <td>474.645833</td>\n",
       "    </tr>\n",
       "    <tr>\n",
       "      <th>ultra</th>\n",
       "      <td>405.000000</td>\n",
       "      <td>299.583333</td>\n",
       "      <td>493.135135</td>\n",
       "      <td>473.113208</td>\n",
       "      <td>539.812500</td>\n",
       "      <td>500.432099</td>\n",
       "      <td>562.534091</td>\n",
       "      <td>532.330097</td>\n",
       "      <td>560.531532</td>\n",
       "      <td>582.762712</td>\n",
       "      <td>553.581395</td>\n",
       "      <td>616.955224</td>\n",
       "    </tr>\n",
       "  </tbody>\n",
       "</table>\n",
       "</div>"
      ],
      "text/plain": [
       "                1           2           3           4           5   \\\n",
       "tariff                                                               \n",
       "smart   197.764706  293.189655  380.818182  366.276786  390.177305   \n",
       "ultra   405.000000  299.583333  493.135135  473.113208  539.812500   \n",
       "\n",
       "                6           7           8           9           10  \\\n",
       "tariff                                                               \n",
       "smart   399.460123  411.184080  421.619658  425.420849  430.593857   \n",
       "ultra   500.432099  562.534091  532.330097  560.531532  582.762712   \n",
       "\n",
       "                11          12  \n",
       "tariff                          \n",
       "smart   445.466667  474.645833  \n",
       "ultra   553.581395  616.955224  "
      ]
     },
     "metadata": {},
     "output_type": "display_data"
    },
    {
     "data": {
      "text/html": [
       "<div>\n",
       "<style scoped>\n",
       "    .dataframe tbody tr th:only-of-type {\n",
       "        vertical-align: middle;\n",
       "    }\n",
       "\n",
       "    .dataframe tbody tr th {\n",
       "        vertical-align: top;\n",
       "    }\n",
       "\n",
       "    .dataframe thead th {\n",
       "        text-align: right;\n",
       "    }\n",
       "</style>\n",
       "<table border=\"1\" class=\"dataframe\">\n",
       "  <thead>\n",
       "    <tr style=\"text-align: right;\">\n",
       "      <th></th>\n",
       "      <th>1</th>\n",
       "      <th>2</th>\n",
       "      <th>3</th>\n",
       "      <th>4</th>\n",
       "      <th>5</th>\n",
       "      <th>6</th>\n",
       "      <th>7</th>\n",
       "      <th>8</th>\n",
       "      <th>9</th>\n",
       "      <th>10</th>\n",
       "      <th>11</th>\n",
       "      <th>12</th>\n",
       "    </tr>\n",
       "    <tr>\n",
       "      <th>tariff</th>\n",
       "      <th></th>\n",
       "      <th></th>\n",
       "      <th></th>\n",
       "      <th></th>\n",
       "      <th></th>\n",
       "      <th></th>\n",
       "      <th></th>\n",
       "      <th></th>\n",
       "      <th></th>\n",
       "      <th></th>\n",
       "      <th></th>\n",
       "      <th></th>\n",
       "    </tr>\n",
       "  </thead>\n",
       "  <tbody>\n",
       "    <tr>\n",
       "      <th>smart</th>\n",
       "      <td>20.000000</td>\n",
       "      <td>27.9400</td>\n",
       "      <td>35.550725</td>\n",
       "      <td>35.864583</td>\n",
       "      <td>39.032787</td>\n",
       "      <td>38.577465</td>\n",
       "      <td>38.988506</td>\n",
       "      <td>38.750000</td>\n",
       "      <td>39.219731</td>\n",
       "      <td>39.082677</td>\n",
       "      <td>39.881481</td>\n",
       "      <td>42.264808</td>\n",
       "    </tr>\n",
       "    <tr>\n",
       "      <th>ultra</th>\n",
       "      <td>43.428571</td>\n",
       "      <td>32.9375</td>\n",
       "      <td>47.800000</td>\n",
       "      <td>44.512821</td>\n",
       "      <td>48.769231</td>\n",
       "      <td>52.313433</td>\n",
       "      <td>62.136986</td>\n",
       "      <td>58.897727</td>\n",
       "      <td>63.294737</td>\n",
       "      <td>69.776699</td>\n",
       "      <td>66.159292</td>\n",
       "      <td>72.008547</td>\n",
       "    </tr>\n",
       "  </tbody>\n",
       "</table>\n",
       "</div>"
      ],
      "text/plain": [
       "               1        2          3          4          5          6   \\\n",
       "tariff                                                                   \n",
       "smart   20.000000  27.9400  35.550725  35.864583  39.032787  38.577465   \n",
       "ultra   43.428571  32.9375  47.800000  44.512821  48.769231  52.313433   \n",
       "\n",
       "               7          8          9          10         11         12  \n",
       "tariff                                                                    \n",
       "smart   38.988506  38.750000  39.219731  39.082677  39.881481  42.264808  \n",
       "ultra   62.136986  58.897727  63.294737  69.776699  66.159292  72.008547  "
      ]
     },
     "metadata": {},
     "output_type": "display_data"
    },
    {
     "data": {
      "text/html": [
       "<div>\n",
       "<style scoped>\n",
       "    .dataframe tbody tr th:only-of-type {\n",
       "        vertical-align: middle;\n",
       "    }\n",
       "\n",
       "    .dataframe tbody tr th {\n",
       "        vertical-align: top;\n",
       "    }\n",
       "\n",
       "    .dataframe thead th {\n",
       "        text-align: right;\n",
       "    }\n",
       "</style>\n",
       "<table border=\"1\" class=\"dataframe\">\n",
       "  <thead>\n",
       "    <tr style=\"text-align: right;\">\n",
       "      <th></th>\n",
       "      <th>1</th>\n",
       "      <th>2</th>\n",
       "      <th>3</th>\n",
       "      <th>4</th>\n",
       "      <th>5</th>\n",
       "      <th>6</th>\n",
       "      <th>7</th>\n",
       "      <th>8</th>\n",
       "      <th>9</th>\n",
       "      <th>10</th>\n",
       "      <th>11</th>\n",
       "      <th>12</th>\n",
       "    </tr>\n",
       "    <tr>\n",
       "      <th>tariff</th>\n",
       "      <th></th>\n",
       "      <th></th>\n",
       "      <th></th>\n",
       "      <th></th>\n",
       "      <th></th>\n",
       "      <th></th>\n",
       "      <th></th>\n",
       "      <th></th>\n",
       "      <th></th>\n",
       "      <th></th>\n",
       "      <th></th>\n",
       "      <th></th>\n",
       "    </tr>\n",
       "  </thead>\n",
       "  <tbody>\n",
       "    <tr>\n",
       "      <th>smart</th>\n",
       "      <td>8513.717647</td>\n",
       "      <td>11597.054310</td>\n",
       "      <td>15104.159091</td>\n",
       "      <td>13462.180625</td>\n",
       "      <td>15805.184326</td>\n",
       "      <td>15794.647988</td>\n",
       "      <td>15743.150348</td>\n",
       "      <td>16681.706068</td>\n",
       "      <td>16303.578808</td>\n",
       "      <td>16757.122891</td>\n",
       "      <td>16895.696646</td>\n",
       "      <td>18113.662047</td>\n",
       "    </tr>\n",
       "    <tr>\n",
       "      <th>ultra</th>\n",
       "      <td>13140.681111</td>\n",
       "      <td>12846.477273</td>\n",
       "      <td>17535.550270</td>\n",
       "      <td>16828.134364</td>\n",
       "      <td>19656.534091</td>\n",
       "      <td>19152.950602</td>\n",
       "      <td>20723.394778</td>\n",
       "      <td>19760.734434</td>\n",
       "      <td>19372.735702</td>\n",
       "      <td>20209.643361</td>\n",
       "      <td>19935.585489</td>\n",
       "      <td>21951.094130</td>\n",
       "    </tr>\n",
       "  </tbody>\n",
       "</table>\n",
       "</div>"
      ],
      "text/plain": [
       "                  1             2             3             4             5   \\\n",
       "tariff                                                                         \n",
       "smart    8513.717647  11597.054310  15104.159091  13462.180625  15805.184326   \n",
       "ultra   13140.681111  12846.477273  17535.550270  16828.134364  19656.534091   \n",
       "\n",
       "                  6             7             8             9             10  \\\n",
       "tariff                                                                         \n",
       "smart   15794.647988  15743.150348  16681.706068  16303.578808  16757.122891   \n",
       "ultra   19152.950602  20723.394778  19760.734434  19372.735702  20209.643361   \n",
       "\n",
       "                  11            12  \n",
       "tariff                              \n",
       "smart   16895.696646  18113.662047  \n",
       "ultra   19935.585489  21951.094130  "
      ]
     },
     "execution_count": 40,
     "metadata": {},
     "output_type": "execute_result"
    }
   ],
   "source": [
    "duration_tariff_mean = df_duration_month.groupby('tariff').mean() \n",
    "messages_tariff_mean = df_messages_month.groupby('tariff').mean()\n",
    "internet_tariff_mean = df_internet_month.groupby('tariff').mean()\n",
    "\n",
    "duration_tariff_mean = duration_tariff_mean[[1, 2, 3, 4, 5, 6, 7, 8, 9, 10, 11, 12]]\n",
    "messages_tariff_mean = messages_tariff_mean[[1, 2, 3, 4, 5, 6, 7, 8, 9, 10, 11, 12]]\n",
    "internet_tariff_mean = internet_tariff_mean[[1, 2, 3, 4, 5, 6, 7, 8, 9, 10, 11, 12]]\n",
    "\n",
    "display(duration_tariff_mean)\n",
    "display(messages_tariff_mean)\n",
    "internet_tariff_mean"
   ]
  },
  {
   "cell_type": "markdown",
   "metadata": {},
   "source": [
    "Определим средние значения продолжительности звонков, количество интернет-трафика и сообщений клиентов:"
   ]
  },
  {
   "cell_type": "code",
   "execution_count": 41,
   "metadata": {},
   "outputs": [
    {
     "data": {
      "text/plain": [
       "'Продолжительность звонков'"
      ]
     },
     "metadata": {},
     "output_type": "display_data"
    },
    {
     "data": {
      "text/plain": [
       "tariff\n",
       "smart    386.384808\n",
       "ultra    509.980944\n",
       "dtype: float64"
      ]
     },
     "metadata": {},
     "output_type": "display_data"
    },
    {
     "data": {
      "text/plain": [
       "'Количество сообщений'"
      ]
     },
     "metadata": {},
     "output_type": "display_data"
    },
    {
     "data": {
      "text/plain": [
       "tariff\n",
       "smart    36.262730\n",
       "ultra    55.169629\n",
       "dtype: float64"
      ]
     },
     "metadata": {},
     "output_type": "display_data"
    },
    {
     "data": {
      "text/plain": [
       "'Количество интернет-трафика'"
      ]
     },
     "metadata": {},
     "output_type": "display_data"
    },
    {
     "data": {
      "text/plain": [
       "tariff\n",
       "smart    15064.321733\n",
       "ultra    18426.126300\n",
       "dtype: float64"
      ]
     },
     "metadata": {},
     "output_type": "display_data"
    }
   ],
   "source": [
    "display('Продолжительность звонков', duration_tariff_mean.T.mean())\n",
    "display('Количество сообщений', messages_tariff_mean.T.mean())\n",
    "display('Количество интернет-трафика', internet_tariff_mean.T.mean())"
   ]
  },
  {
   "cell_type": "markdown",
   "metadata": {},
   "source": [
    "Определим дисперсию и стандартное отклонение в `df_duration_month`, `df_messages_month` и `df_internet_month` в зависимости от тарифа, а также выведем полученные результаты в виде датасета по месяцам:"
   ]
  },
  {
   "cell_type": "code",
   "execution_count": 42,
   "metadata": {
    "scrolled": false
   },
   "outputs": [
    {
     "data": {
      "text/html": [
       "<div>\n",
       "<style scoped>\n",
       "    .dataframe tbody tr th:only-of-type {\n",
       "        vertical-align: middle;\n",
       "    }\n",
       "\n",
       "    .dataframe tbody tr th {\n",
       "        vertical-align: top;\n",
       "    }\n",
       "\n",
       "    .dataframe thead th {\n",
       "        text-align: right;\n",
       "    }\n",
       "</style>\n",
       "<table border=\"1\" class=\"dataframe\">\n",
       "  <thead>\n",
       "    <tr style=\"text-align: right;\">\n",
       "      <th></th>\n",
       "      <th>variance_duration_tariff_ultra</th>\n",
       "      <th>variance_duration_tariff_smart</th>\n",
       "      <th>variance_messages_tariff_ultra</th>\n",
       "      <th>variance_messages_tariff_smart</th>\n",
       "      <th>variance_internet_tariff_ultra</th>\n",
       "      <th>variance_internet_tariff_smart</th>\n",
       "      <th>standard_duration_tariff_ultra</th>\n",
       "      <th>standard_duration_tariff_smart</th>\n",
       "      <th>standard_messages_tariff_ultra</th>\n",
       "      <th>standard_messages_tariff_smart</th>\n",
       "      <th>standard_internet_tariff_ultra</th>\n",
       "      <th>standard_internet_tariff_smart</th>\n",
       "    </tr>\n",
       "  </thead>\n",
       "  <tbody>\n",
       "    <tr>\n",
       "      <th>1</th>\n",
       "      <td>61855.777778</td>\n",
       "      <td>24157.003460</td>\n",
       "      <td>655.959184</td>\n",
       "      <td>244.000000</td>\n",
       "      <td>4.189599e+07</td>\n",
       "      <td>4.031233e+07</td>\n",
       "      <td>248.708218</td>\n",
       "      <td>155.425234</td>\n",
       "      <td>25.611700</td>\n",
       "      <td>15.620499</td>\n",
       "      <td>6472.711108</td>\n",
       "      <td>6349.198980</td>\n",
       "    </tr>\n",
       "    <tr>\n",
       "      <th>2</th>\n",
       "      <td>85069.243056</td>\n",
       "      <td>36403.222652</td>\n",
       "      <td>668.808594</td>\n",
       "      <td>431.656400</td>\n",
       "      <td>1.047062e+08</td>\n",
       "      <td>3.835651e+07</td>\n",
       "      <td>291.666321</td>\n",
       "      <td>190.796286</td>\n",
       "      <td>25.861334</td>\n",
       "      <td>20.776342</td>\n",
       "      <td>10232.602941</td>\n",
       "      <td>6193.263172</td>\n",
       "    </tr>\n",
       "    <tr>\n",
       "      <th>3</th>\n",
       "      <td>108530.279036</td>\n",
       "      <td>33419.265643</td>\n",
       "      <td>1753.600000</td>\n",
       "      <td>660.073514</td>\n",
       "      <td>1.166999e+08</td>\n",
       "      <td>3.352721e+07</td>\n",
       "      <td>329.439340</td>\n",
       "      <td>182.809370</td>\n",
       "      <td>41.876007</td>\n",
       "      <td>25.691896</td>\n",
       "      <td>10802.775052</td>\n",
       "      <td>5790.268159</td>\n",
       "    </tr>\n",
       "    <tr>\n",
       "      <th>4</th>\n",
       "      <td>62869.911712</td>\n",
       "      <td>34595.432318</td>\n",
       "      <td>1372.147272</td>\n",
       "      <td>512.471246</td>\n",
       "      <td>9.273484e+07</td>\n",
       "      <td>3.218013e+07</td>\n",
       "      <td>250.738732</td>\n",
       "      <td>185.998474</td>\n",
       "      <td>37.042506</td>\n",
       "      <td>22.637828</td>\n",
       "      <td>9629.893193</td>\n",
       "      <td>5672.753443</td>\n",
       "    </tr>\n",
       "    <tr>\n",
       "      <th>5</th>\n",
       "      <td>73693.589844</td>\n",
       "      <td>35116.358634</td>\n",
       "      <td>1529.562130</td>\n",
       "      <td>633.539909</td>\n",
       "      <td>9.515747e+07</td>\n",
       "      <td>3.548578e+07</td>\n",
       "      <td>271.465633</td>\n",
       "      <td>187.393593</td>\n",
       "      <td>39.109617</td>\n",
       "      <td>25.170219</td>\n",
       "      <td>9754.869282</td>\n",
       "      <td>5956.994600</td>\n",
       "    </tr>\n",
       "    <tr>\n",
       "      <th>6</th>\n",
       "      <td>80144.047859</td>\n",
       "      <td>30260.260680</td>\n",
       "      <td>1906.782357</td>\n",
       "      <td>726.483436</td>\n",
       "      <td>8.199048e+07</td>\n",
       "      <td>3.333299e+07</td>\n",
       "      <td>283.097241</td>\n",
       "      <td>173.954766</td>\n",
       "      <td>43.666719</td>\n",
       "      <td>26.953357</td>\n",
       "      <td>9054.859615</td>\n",
       "      <td>5773.472627</td>\n",
       "    </tr>\n",
       "    <tr>\n",
       "      <th>7</th>\n",
       "      <td>88271.362474</td>\n",
       "      <td>34653.453677</td>\n",
       "      <td>2160.720961</td>\n",
       "      <td>715.218259</td>\n",
       "      <td>9.658886e+07</td>\n",
       "      <td>3.460341e+07</td>\n",
       "      <td>297.104969</td>\n",
       "      <td>186.154381</td>\n",
       "      <td>46.483556</td>\n",
       "      <td>26.743565</td>\n",
       "      <td>9827.963236</td>\n",
       "      <td>5882.466616</td>\n",
       "    </tr>\n",
       "    <tr>\n",
       "      <th>8</th>\n",
       "      <td>94973.017250</td>\n",
       "      <td>34292.902349</td>\n",
       "      <td>1999.978177</td>\n",
       "      <td>763.452206</td>\n",
       "      <td>1.061088e+08</td>\n",
       "      <td>3.010307e+07</td>\n",
       "      <td>308.176925</td>\n",
       "      <td>185.183429</td>\n",
       "      <td>44.721116</td>\n",
       "      <td>27.630639</td>\n",
       "      <td>10300.913868</td>\n",
       "      <td>5486.626034</td>\n",
       "    </tr>\n",
       "    <tr>\n",
       "      <th>9</th>\n",
       "      <td>96103.510267</td>\n",
       "      <td>31303.625975</td>\n",
       "      <td>1886.692078</td>\n",
       "      <td>699.355306</td>\n",
       "      <td>8.672237e+07</td>\n",
       "      <td>2.689577e+07</td>\n",
       "      <td>310.005662</td>\n",
       "      <td>176.928307</td>\n",
       "      <td>43.436069</td>\n",
       "      <td>26.445327</td>\n",
       "      <td>9312.484498</td>\n",
       "      <td>5186.113592</td>\n",
       "    </tr>\n",
       "    <tr>\n",
       "      <th>10</th>\n",
       "      <td>104276.197932</td>\n",
       "      <td>34262.248017</td>\n",
       "      <td>2403.047224</td>\n",
       "      <td>733.603401</td>\n",
       "      <td>9.278043e+07</td>\n",
       "      <td>3.421561e+07</td>\n",
       "      <td>322.918253</td>\n",
       "      <td>185.100643</td>\n",
       "      <td>49.020886</td>\n",
       "      <td>27.085114</td>\n",
       "      <td>9632.260031</td>\n",
       "      <td>5849.411064</td>\n",
       "    </tr>\n",
       "    <tr>\n",
       "      <th>11</th>\n",
       "      <td>83249.220119</td>\n",
       "      <td>34450.102857</td>\n",
       "      <td>2229.390555</td>\n",
       "      <td>708.726694</td>\n",
       "      <td>9.519306e+07</td>\n",
       "      <td>2.842827e+07</td>\n",
       "      <td>288.529409</td>\n",
       "      <td>185.607389</td>\n",
       "      <td>47.216423</td>\n",
       "      <td>26.621921</td>\n",
       "      <td>9756.693104</td>\n",
       "      <td>5331.816920</td>\n",
       "    </tr>\n",
       "    <tr>\n",
       "      <th>12</th>\n",
       "      <td>116535.818891</td>\n",
       "      <td>36168.841828</td>\n",
       "      <td>2342.675141</td>\n",
       "      <td>829.546601</td>\n",
       "      <td>1.042444e+08</td>\n",
       "      <td>3.097375e+07</td>\n",
       "      <td>341.373430</td>\n",
       "      <td>190.181076</td>\n",
       "      <td>48.401189</td>\n",
       "      <td>28.801851</td>\n",
       "      <td>10210.012572</td>\n",
       "      <td>5565.406971</td>\n",
       "    </tr>\n",
       "  </tbody>\n",
       "</table>\n",
       "</div>"
      ],
      "text/plain": [
       "    variance_duration_tariff_ultra  variance_duration_tariff_smart  \\\n",
       "1                     61855.777778                    24157.003460   \n",
       "2                     85069.243056                    36403.222652   \n",
       "3                    108530.279036                    33419.265643   \n",
       "4                     62869.911712                    34595.432318   \n",
       "5                     73693.589844                    35116.358634   \n",
       "6                     80144.047859                    30260.260680   \n",
       "7                     88271.362474                    34653.453677   \n",
       "8                     94973.017250                    34292.902349   \n",
       "9                     96103.510267                    31303.625975   \n",
       "10                   104276.197932                    34262.248017   \n",
       "11                    83249.220119                    34450.102857   \n",
       "12                   116535.818891                    36168.841828   \n",
       "\n",
       "    variance_messages_tariff_ultra  variance_messages_tariff_smart  \\\n",
       "1                       655.959184                      244.000000   \n",
       "2                       668.808594                      431.656400   \n",
       "3                      1753.600000                      660.073514   \n",
       "4                      1372.147272                      512.471246   \n",
       "5                      1529.562130                      633.539909   \n",
       "6                      1906.782357                      726.483436   \n",
       "7                      2160.720961                      715.218259   \n",
       "8                      1999.978177                      763.452206   \n",
       "9                      1886.692078                      699.355306   \n",
       "10                     2403.047224                      733.603401   \n",
       "11                     2229.390555                      708.726694   \n",
       "12                     2342.675141                      829.546601   \n",
       "\n",
       "    variance_internet_tariff_ultra  variance_internet_tariff_smart  \\\n",
       "1                     4.189599e+07                    4.031233e+07   \n",
       "2                     1.047062e+08                    3.835651e+07   \n",
       "3                     1.166999e+08                    3.352721e+07   \n",
       "4                     9.273484e+07                    3.218013e+07   \n",
       "5                     9.515747e+07                    3.548578e+07   \n",
       "6                     8.199048e+07                    3.333299e+07   \n",
       "7                     9.658886e+07                    3.460341e+07   \n",
       "8                     1.061088e+08                    3.010307e+07   \n",
       "9                     8.672237e+07                    2.689577e+07   \n",
       "10                    9.278043e+07                    3.421561e+07   \n",
       "11                    9.519306e+07                    2.842827e+07   \n",
       "12                    1.042444e+08                    3.097375e+07   \n",
       "\n",
       "    standard_duration_tariff_ultra  standard_duration_tariff_smart  \\\n",
       "1                       248.708218                      155.425234   \n",
       "2                       291.666321                      190.796286   \n",
       "3                       329.439340                      182.809370   \n",
       "4                       250.738732                      185.998474   \n",
       "5                       271.465633                      187.393593   \n",
       "6                       283.097241                      173.954766   \n",
       "7                       297.104969                      186.154381   \n",
       "8                       308.176925                      185.183429   \n",
       "9                       310.005662                      176.928307   \n",
       "10                      322.918253                      185.100643   \n",
       "11                      288.529409                      185.607389   \n",
       "12                      341.373430                      190.181076   \n",
       "\n",
       "    standard_messages_tariff_ultra  standard_messages_tariff_smart  \\\n",
       "1                        25.611700                       15.620499   \n",
       "2                        25.861334                       20.776342   \n",
       "3                        41.876007                       25.691896   \n",
       "4                        37.042506                       22.637828   \n",
       "5                        39.109617                       25.170219   \n",
       "6                        43.666719                       26.953357   \n",
       "7                        46.483556                       26.743565   \n",
       "8                        44.721116                       27.630639   \n",
       "9                        43.436069                       26.445327   \n",
       "10                       49.020886                       27.085114   \n",
       "11                       47.216423                       26.621921   \n",
       "12                       48.401189                       28.801851   \n",
       "\n",
       "    standard_internet_tariff_ultra  standard_internet_tariff_smart  \n",
       "1                      6472.711108                     6349.198980  \n",
       "2                     10232.602941                     6193.263172  \n",
       "3                     10802.775052                     5790.268159  \n",
       "4                      9629.893193                     5672.753443  \n",
       "5                      9754.869282                     5956.994600  \n",
       "6                      9054.859615                     5773.472627  \n",
       "7                      9827.963236                     5882.466616  \n",
       "8                     10300.913868                     5486.626034  \n",
       "9                      9312.484498                     5186.113592  \n",
       "10                     9632.260031                     5849.411064  \n",
       "11                     9756.693104                     5331.816920  \n",
       "12                    10210.012572                     5565.406971  "
      ]
     },
     "execution_count": 42,
     "metadata": {},
     "output_type": "execute_result"
    }
   ],
   "source": [
    "duration_tariff_ultra = df_duration_month[df_duration_month['tariff'] == 'ultra']\n",
    "duration_tariff_smart = df_duration_month[df_duration_month['tariff'] == 'smart']\n",
    "messages_tariff_ultra = df_messages_month[df_messages_month['tariff'] == 'ultra']\n",
    "messages_tariff_smart = df_messages_month[df_messages_month['tariff'] == 'smart']\n",
    "internet_tariff_ultra = df_internet_month[df_internet_month['tariff'] == 'ultra']\n",
    "internet_tariff_smart = df_internet_month[df_internet_month['tariff'] == 'smart']\n",
    "\n",
    "variance_duration_tariff_ultra = np.var(duration_tariff_ultra)\n",
    "variance_duration_tariff_smart = np.var(duration_tariff_smart)\n",
    "variance_messages_tariff_ultra = np.var(messages_tariff_ultra)\n",
    "variance_messages_tariff_smart = np.var(messages_tariff_smart)\n",
    "variance_internet_tariff_ultra = np.var(internet_tariff_ultra)\n",
    "variance_internet_tariff_smart = np.var(internet_tariff_smart)\n",
    "\n",
    "standard_duration_tariff_ultra = np.sqrt(variance_duration_tariff_ultra)\n",
    "standard_duration_tariff_smart = np.sqrt(variance_duration_tariff_smart)\n",
    "standard_messages_tariff_ultra = np.sqrt(variance_messages_tariff_ultra)\n",
    "standard_messages_tariff_smart = np.sqrt(variance_messages_tariff_smart)\n",
    "standard_internet_tariff_ultra = np.sqrt(variance_internet_tariff_ultra)\n",
    "standard_internet_tariff_smart = np.sqrt(variance_internet_tariff_smart)\n",
    "\n",
    "data_results_variance_standard = pd.DataFrame({\n",
    "    \n",
    "    'variance_duration_tariff_ultra' : variance_duration_tariff_ultra,\n",
    "    'variance_duration_tariff_smart' : variance_duration_tariff_smart,\n",
    "    'variance_messages_tariff_ultra' : variance_messages_tariff_ultra,\n",
    "    'variance_messages_tariff_smart' : variance_messages_tariff_smart,\n",
    "    'variance_internet_tariff_ultra' : variance_internet_tariff_ultra,\n",
    "    'variance_internet_tariff_smart' : variance_internet_tariff_smart,\n",
    "    \n",
    "    'standard_duration_tariff_ultra' : standard_duration_tariff_ultra,\n",
    "    'standard_duration_tariff_smart' : standard_duration_tariff_smart,\n",
    "    'standard_messages_tariff_ultra' : standard_messages_tariff_ultra,\n",
    "    'standard_messages_tariff_smart' : standard_messages_tariff_smart,\n",
    "    'standard_internet_tariff_ultra' : standard_internet_tariff_ultra,\n",
    "    'standard_internet_tariff_smart' : standard_internet_tariff_smart   \n",
    "    \n",
    "})\n",
    "\n",
    "data_results_variance_standard = data_results_variance_standard.loc[1:12]\n",
    "data_results_variance_standard"
   ]
  },
  {
   "cell_type": "code",
   "execution_count": 43,
   "metadata": {
    "scrolled": true
   },
   "outputs": [],
   "source": [
    "data_results_variance_standard_mean = data_results_variance_standard.mean()"
   ]
  },
  {
   "cell_type": "code",
   "execution_count": 44,
   "metadata": {
    "scrolled": true
   },
   "outputs": [
    {
     "data": {
      "text/plain": [
       "variance_duration_tariff_ultra    8.796433e+04\n",
       "variance_duration_tariff_smart    3.325689e+04\n",
       "variance_messages_tariff_ultra    1.742447e+03\n",
       "variance_messages_tariff_smart    6.381772e+02\n",
       "variance_internet_tariff_ultra    9.290190e+07\n",
       "variance_internet_tariff_smart    3.320124e+07\n",
       "standard_duration_tariff_ultra    2.952687e+02\n",
       "standard_duration_tariff_smart    1.821277e+02\n",
       "standard_messages_tariff_ultra    4.103726e+01\n",
       "standard_messages_tariff_smart    2.501488e+01\n",
       "standard_internet_tariff_ultra    9.582337e+03\n",
       "standard_internet_tariff_smart    5.753149e+03\n",
       "dtype: float64"
      ]
     },
     "execution_count": 44,
     "metadata": {},
     "output_type": "execute_result"
    }
   ],
   "source": [
    "data_results_variance_standard_mean"
   ]
  },
  {
   "cell_type": "markdown",
   "metadata": {},
   "source": [
    "Создадим параллельно несколько гистограмм для продолжительности вызовов, количества сообщений и интернет-трафика: первые 2 - средние наблюдения, вторые 2 - общие"
   ]
  },
  {
   "cell_type": "code",
   "execution_count": 45,
   "metadata": {
    "scrolled": false
   },
   "outputs": [
    {
     "data": {
      "image/png": "[encoded data removed]",
      "text/plain": [
       "<Figure size 1440x720 with 2 Axes>"
      ]
     },
     "metadata": {
      "needs_background": "light"
     },
     "output_type": "display_data"
    }
   ],
   "source": [
    "duration_tariff_mean.T.hist(figsize = (20, 10), bins = [0, 100, 200, 300, 400, 500, 600, 700]);"
   ]
  },
  {
   "cell_type": "code",
   "execution_count": 46,
   "metadata": {},
   "outputs": [
    {
     "data": {
      "image/png": "[encoded data removed]",
      "text/plain": [
       "<Figure size 432x288 with 1 Axes>"
      ]
     },
     "metadata": {
      "needs_background": "light"
     },
     "output_type": "display_data"
    }
   ],
   "source": [
    "duration_tariff_smart_hist = duration_tariff_smart.fillna(0)\n",
    "duration_tariff_smart_hist['sum'] = 0\n",
    "\n",
    "duration_tariff_ultra_hist = duration_tariff_ultra.fillna(0)\n",
    "duration_tariff_ultra_hist['sum'] = 0\n",
    "\n",
    "for index in range(12):\n",
    "    duration_tariff_smart_hist['sum'] += duration_tariff_smart_hist.loc[:, index + 1]\n",
    "\n",
    "for index in range(12):\n",
    "    duration_tariff_ultra_hist['sum'] += duration_tariff_ultra_hist.loc[:, index + 1]\n",
    "    \n",
    "duration_tariff_smart_hist['sum'].hist(bins = 50, color = 'blue').annotate('smart', (10300, 16), color = 'blue');\n",
    "duration_tariff_ultra_hist['sum'].hist(bins = 50, color = 'orange').annotate('ultra', (10300, 13.5), color = 'orange');"
   ]
  },
  {
   "cell_type": "code",
   "execution_count": 47,
   "metadata": {
    "scrolled": false
   },
   "outputs": [
    {
     "data": {
      "image/png": "[encoded data removed]",
      "text/plain": [
       "<Figure size 1440x720 with 2 Axes>"
      ]
     },
     "metadata": {
      "needs_background": "light"
     },
     "output_type": "display_data"
    }
   ],
   "source": [
    "messages_tariff_mean.T.hist(figsize = (20, 10), bins = [0, 10, 20, 30, 40, 50, 60, 70, 80, 90, 100]);"
   ]
  },
  {
   "cell_type": "code",
   "execution_count": 48,
   "metadata": {},
   "outputs": [
    {
     "data": {
      "image/png": "[encoded data removed]",
      "text/plain": [
       "<Figure size 432x288 with 1 Axes>"
      ]
     },
     "metadata": {
      "needs_background": "light"
     },
     "output_type": "display_data"
    }
   ],
   "source": [
    "messages_tariff_smart_hist = messages_tariff_smart.fillna(0)\n",
    "messages_tariff_smart_hist['sum'] = 0\n",
    "\n",
    "messages_tariff_ultra_hist = messages_tariff_ultra.fillna(0)\n",
    "messages_tariff_ultra_hist['sum'] = 0\n",
    "\n",
    "for index in range(12):\n",
    "    messages_tariff_smart_hist['sum'] += messages_tariff_smart_hist.loc[:, index + 1]\n",
    "\n",
    "for index in range(12):\n",
    "    messages_tariff_ultra_hist['sum'] += messages_tariff_ultra_hist.loc[:, index + 1]\n",
    "    \n",
    "messages_tariff_smart_hist['sum'].hist(bins = 50, color = 'blue').annotate('smart', (1240, 22), color = 'blue');\n",
    "messages_tariff_ultra_hist['sum'].hist(bins = 50, color = 'orange').annotate('ultra', (1240, 17), color = 'orange');"
   ]
  },
  {
   "cell_type": "code",
   "execution_count": 49,
   "metadata": {},
   "outputs": [
    {
     "data": {
      "image/png": "[encoded data removed]",
      "text/plain": [
       "<Figure size 1440x720 with 2 Axes>"
      ]
     },
     "metadata": {
      "needs_background": "light"
     },
     "output_type": "display_data"
    }
   ],
   "source": [
    "internet_tariff_mean.T.hist(figsize = (20, 10), bins = [6000, 8000, 10000, 12000, 14000, 16000, 18000, 20000]);"
   ]
  },
  {
   "cell_type": "code",
   "execution_count": 50,
   "metadata": {},
   "outputs": [
    {
     "data": {
      "image/png": "[encoded data removed]",
      "text/plain": [
       "<Figure size 432x288 with 1 Axes>"
      ]
     },
     "metadata": {
      "needs_background": "light"
     },
     "output_type": "display_data"
    }
   ],
   "source": [
    "internet_tariff_smart_hist = internet_tariff_smart.fillna(0)\n",
    "internet_tariff_smart_hist['sum'] = 0\n",
    "\n",
    "internet_tariff_ultra_hist = internet_tariff_ultra.fillna(0)\n",
    "internet_tariff_ultra_hist['sum'] = 0\n",
    "\n",
    "for index in range(12):\n",
    "    internet_tariff_smart_hist['sum'] += internet_tariff_smart_hist.loc[:, index + 1]\n",
    "\n",
    "for index in range(12):\n",
    "    internet_tariff_ultra_hist['sum'] += internet_tariff_ultra_hist.loc[:, index + 1]\n",
    "    \n",
    "internet_tariff_smart_hist['sum'].hist(bins = 50, color = 'blue').annotate('smart', (310000, 15), color = 'blue');\n",
    "internet_tariff_ultra_hist['sum'].hist(bins = 50, color = 'orange').annotate('ultra', (310000, 13), color = 'orange');"
   ]
  },
  {
   "cell_type": "markdown",
   "metadata": {},
   "source": [
    "На основе полученных данных можно сделать следующие выводы:\n",
    "\n",
    "У клиентов тарифа \"smart\" средняя продолжительность звонков 365.88 минут (среднее отклонение - 171.93 минуты), большая часть располагается в интервале 300 - 500 минут, среднее количество сообщений - 36.26 (среднее отклонение - 25.01), большая часть располагается в интервале 30 - 40 сообщений, среднее количество интернет-трафика - 15064.32 Мбайт (среднее отклонение - 5753.15), большая часть располагается в интервале 14000 - 18000 Мбайт.\n",
    "\n",
    "У клиентов тарифа \"ultra\" средняя продолжительность звонков 482.6 минут (среднее отклонение - 278.04), большая часть располагается в интервале 400 - 600 минут, среднее количество сообщений - 55.17 (среднее отклонение - 41.04), большая часть располагается в интервале 40 - 70 сообщений, среднее количество интернет-трафика - 18426.13 Мбайт (среднее отклонение - 9582.34), большая часть располагается в интервале 18000 - 20000 Мбайт.\n",
    "\n",
    "Клиенты тарифа \"ultra\" по сравнению с клиентами тарифа \"smart\" используют: на 31.9% больше времени звонков, на 52.2% больше сообщений, на 22.3% больше интернет-трафика."
   ]
  },
  {
   "cell_type": "markdown",
   "metadata": {},
   "source": [
    "## Проверка гипотез"
   ]
  },
  {
   "cell_type": "markdown",
   "metadata": {},
   "source": [
    "### Проверка гипотезы: средняя выручка пользователей тарифов «Ультра» и «Смарт» различаются"
   ]
  },
  {
   "cell_type": "markdown",
   "metadata": {},
   "source": [
    "Сформулируем нулевую гипотезу следующим образом: средняя выручка пользователей тарифа \"ультра\" равна средней выручки пользователей тарифа \"смарт\".\n",
    "\n",
    "Альтернативная же гипотеза будет таковой: средние выручки пользователей тарифов \"ультра\" и \"смарт\" различаются."
   ]
  },
  {
   "cell_type": "markdown",
   "metadata": {},
   "source": [
    "Сформируем датасет, объединяющий выручку за 12 месяцев и название тарифа, а также разделим его на 2 датасета по тарифу:"
   ]
  },
  {
   "cell_type": "code",
   "execution_count": 51,
   "metadata": {},
   "outputs": [
    {
     "data": {
      "text/html": [
       "<div>\n",
       "<style scoped>\n",
       "    .dataframe tbody tr th:only-of-type {\n",
       "        vertical-align: middle;\n",
       "    }\n",
       "\n",
       "    .dataframe tbody tr th {\n",
       "        vertical-align: top;\n",
       "    }\n",
       "\n",
       "    .dataframe thead th {\n",
       "        text-align: right;\n",
       "    }\n",
       "</style>\n",
       "<table border=\"1\" class=\"dataframe\">\n",
       "  <thead>\n",
       "    <tr style=\"text-align: right;\">\n",
       "      <th></th>\n",
       "      <th>user_id</th>\n",
       "      <th>income total per 1</th>\n",
       "      <th>income total per 2</th>\n",
       "      <th>income total per 3</th>\n",
       "      <th>income total per 4</th>\n",
       "      <th>income total per 5</th>\n",
       "      <th>income total per 6</th>\n",
       "      <th>income total per 7</th>\n",
       "      <th>income total per 8</th>\n",
       "      <th>income total per 9</th>\n",
       "      <th>income total per 10</th>\n",
       "      <th>income total per 11</th>\n",
       "      <th>income total per 12</th>\n",
       "      <th>tariff</th>\n",
       "    </tr>\n",
       "  </thead>\n",
       "  <tbody>\n",
       "    <tr>\n",
       "      <th>0</th>\n",
       "      <td>1000</td>\n",
       "      <td>NaN</td>\n",
       "      <td>NaN</td>\n",
       "      <td>NaN</td>\n",
       "      <td>NaN</td>\n",
       "      <td>1950.0</td>\n",
       "      <td>1950.0</td>\n",
       "      <td>1950.0</td>\n",
       "      <td>1950.0</td>\n",
       "      <td>1950.0</td>\n",
       "      <td>1950.0</td>\n",
       "      <td>1950.0</td>\n",
       "      <td>1950.0</td>\n",
       "      <td>ultra</td>\n",
       "    </tr>\n",
       "    <tr>\n",
       "      <th>2</th>\n",
       "      <td>1003</td>\n",
       "      <td>NaN</td>\n",
       "      <td>NaN</td>\n",
       "      <td>NaN</td>\n",
       "      <td>NaN</td>\n",
       "      <td>NaN</td>\n",
       "      <td>NaN</td>\n",
       "      <td>NaN</td>\n",
       "      <td>1950.0</td>\n",
       "      <td>1950.0</td>\n",
       "      <td>1950.0</td>\n",
       "      <td>1950.0</td>\n",
       "      <td>1950.0</td>\n",
       "      <td>ultra</td>\n",
       "    </tr>\n",
       "    <tr>\n",
       "      <th>3</th>\n",
       "      <td>1004</td>\n",
       "      <td>NaN</td>\n",
       "      <td>NaN</td>\n",
       "      <td>NaN</td>\n",
       "      <td>NaN</td>\n",
       "      <td>1950.0</td>\n",
       "      <td>1950.0</td>\n",
       "      <td>1950.0</td>\n",
       "      <td>1950.0</td>\n",
       "      <td>1950.0</td>\n",
       "      <td>1950.0</td>\n",
       "      <td>1950.0</td>\n",
       "      <td>1950.0</td>\n",
       "      <td>ultra</td>\n",
       "    </tr>\n",
       "    <tr>\n",
       "      <th>10</th>\n",
       "      <td>1013</td>\n",
       "      <td>NaN</td>\n",
       "      <td>NaN</td>\n",
       "      <td>NaN</td>\n",
       "      <td>NaN</td>\n",
       "      <td>NaN</td>\n",
       "      <td>NaN</td>\n",
       "      <td>NaN</td>\n",
       "      <td>NaN</td>\n",
       "      <td>NaN</td>\n",
       "      <td>NaN</td>\n",
       "      <td>1950.0</td>\n",
       "      <td>1950.0</td>\n",
       "      <td>ultra</td>\n",
       "    </tr>\n",
       "    <tr>\n",
       "      <th>13</th>\n",
       "      <td>1016</td>\n",
       "      <td>NaN</td>\n",
       "      <td>NaN</td>\n",
       "      <td>NaN</td>\n",
       "      <td>NaN</td>\n",
       "      <td>NaN</td>\n",
       "      <td>NaN</td>\n",
       "      <td>NaN</td>\n",
       "      <td>NaN</td>\n",
       "      <td>NaN</td>\n",
       "      <td>NaN</td>\n",
       "      <td>1950.0</td>\n",
       "      <td>1950.0</td>\n",
       "      <td>ultra</td>\n",
       "    </tr>\n",
       "    <tr>\n",
       "      <th>14</th>\n",
       "      <td>1018</td>\n",
       "      <td>NaN</td>\n",
       "      <td>NaN</td>\n",
       "      <td>NaN</td>\n",
       "      <td>1950.0</td>\n",
       "      <td>1950.0</td>\n",
       "      <td>1950.0</td>\n",
       "      <td>1950.0</td>\n",
       "      <td>1950.0</td>\n",
       "      <td>1950.0</td>\n",
       "      <td>1950.0</td>\n",
       "      <td>1950.0</td>\n",
       "      <td>1950.0</td>\n",
       "      <td>ultra</td>\n",
       "    </tr>\n",
       "    <tr>\n",
       "      <th>15</th>\n",
       "      <td>1019</td>\n",
       "      <td>NaN</td>\n",
       "      <td>NaN</td>\n",
       "      <td>NaN</td>\n",
       "      <td>NaN</td>\n",
       "      <td>1950.0</td>\n",
       "      <td>1950.0</td>\n",
       "      <td>1950.0</td>\n",
       "      <td>1950.0</td>\n",
       "      <td>1950.0</td>\n",
       "      <td>1950.0</td>\n",
       "      <td>NaN</td>\n",
       "      <td>NaN</td>\n",
       "      <td>ultra</td>\n",
       "    </tr>\n",
       "    <tr>\n",
       "      <th>17</th>\n",
       "      <td>1021</td>\n",
       "      <td>NaN</td>\n",
       "      <td>NaN</td>\n",
       "      <td>NaN</td>\n",
       "      <td>1950.0</td>\n",
       "      <td>1950.0</td>\n",
       "      <td>1950.0</td>\n",
       "      <td>1950.0</td>\n",
       "      <td>1950.0</td>\n",
       "      <td>1950.0</td>\n",
       "      <td>1950.0</td>\n",
       "      <td>1950.0</td>\n",
       "      <td>1950.0</td>\n",
       "      <td>ultra</td>\n",
       "    </tr>\n",
       "    <tr>\n",
       "      <th>23</th>\n",
       "      <td>1028</td>\n",
       "      <td>NaN</td>\n",
       "      <td>NaN</td>\n",
       "      <td>NaN</td>\n",
       "      <td>NaN</td>\n",
       "      <td>NaN</td>\n",
       "      <td>NaN</td>\n",
       "      <td>NaN</td>\n",
       "      <td>NaN</td>\n",
       "      <td>NaN</td>\n",
       "      <td>1950.0</td>\n",
       "      <td>1950.0</td>\n",
       "      <td>1950.0</td>\n",
       "      <td>ultra</td>\n",
       "    </tr>\n",
       "    <tr>\n",
       "      <th>34</th>\n",
       "      <td>1039</td>\n",
       "      <td>NaN</td>\n",
       "      <td>NaN</td>\n",
       "      <td>NaN</td>\n",
       "      <td>NaN</td>\n",
       "      <td>NaN</td>\n",
       "      <td>1950.0</td>\n",
       "      <td>1950.0</td>\n",
       "      <td>1950.0</td>\n",
       "      <td>1950.0</td>\n",
       "      <td>1950.0</td>\n",
       "      <td>1950.0</td>\n",
       "      <td>1950.0</td>\n",
       "      <td>ultra</td>\n",
       "    </tr>\n",
       "  </tbody>\n",
       "</table>\n",
       "</div>"
      ],
      "text/plain": [
       "    user_id  income total per 1  income total per 2  income total per 3  \\\n",
       "0      1000                 NaN                 NaN                 NaN   \n",
       "2      1003                 NaN                 NaN                 NaN   \n",
       "3      1004                 NaN                 NaN                 NaN   \n",
       "10     1013                 NaN                 NaN                 NaN   \n",
       "13     1016                 NaN                 NaN                 NaN   \n",
       "14     1018                 NaN                 NaN                 NaN   \n",
       "15     1019                 NaN                 NaN                 NaN   \n",
       "17     1021                 NaN                 NaN                 NaN   \n",
       "23     1028                 NaN                 NaN                 NaN   \n",
       "34     1039                 NaN                 NaN                 NaN   \n",
       "\n",
       "    income total per 4  income total per 5  income total per 6  \\\n",
       "0                  NaN              1950.0              1950.0   \n",
       "2                  NaN                 NaN                 NaN   \n",
       "3                  NaN              1950.0              1950.0   \n",
       "10                 NaN                 NaN                 NaN   \n",
       "13                 NaN                 NaN                 NaN   \n",
       "14              1950.0              1950.0              1950.0   \n",
       "15                 NaN              1950.0              1950.0   \n",
       "17              1950.0              1950.0              1950.0   \n",
       "23                 NaN                 NaN                 NaN   \n",
       "34                 NaN                 NaN              1950.0   \n",
       "\n",
       "    income total per 7  income total per 8  income total per 9  \\\n",
       "0               1950.0              1950.0              1950.0   \n",
       "2                  NaN              1950.0              1950.0   \n",
       "3               1950.0              1950.0              1950.0   \n",
       "10                 NaN                 NaN                 NaN   \n",
       "13                 NaN                 NaN                 NaN   \n",
       "14              1950.0              1950.0              1950.0   \n",
       "15              1950.0              1950.0              1950.0   \n",
       "17              1950.0              1950.0              1950.0   \n",
       "23                 NaN                 NaN                 NaN   \n",
       "34              1950.0              1950.0              1950.0   \n",
       "\n",
       "    income total per 10  income total per 11  income total per 12 tariff  \n",
       "0                1950.0               1950.0               1950.0  ultra  \n",
       "2                1950.0               1950.0               1950.0  ultra  \n",
       "3                1950.0               1950.0               1950.0  ultra  \n",
       "10                  NaN               1950.0               1950.0  ultra  \n",
       "13                  NaN               1950.0               1950.0  ultra  \n",
       "14               1950.0               1950.0               1950.0  ultra  \n",
       "15               1950.0                  NaN                  NaN  ultra  \n",
       "17               1950.0               1950.0               1950.0  ultra  \n",
       "23               1950.0               1950.0               1950.0  ultra  \n",
       "34               1950.0               1950.0               1950.0  ultra  "
      ]
     },
     "metadata": {},
     "output_type": "display_data"
    },
    {
     "data": {
      "text/html": [
       "<div>\n",
       "<style scoped>\n",
       "    .dataframe tbody tr th:only-of-type {\n",
       "        vertical-align: middle;\n",
       "    }\n",
       "\n",
       "    .dataframe tbody tr th {\n",
       "        vertical-align: top;\n",
       "    }\n",
       "\n",
       "    .dataframe thead th {\n",
       "        text-align: right;\n",
       "    }\n",
       "</style>\n",
       "<table border=\"1\" class=\"dataframe\">\n",
       "  <thead>\n",
       "    <tr style=\"text-align: right;\">\n",
       "      <th></th>\n",
       "      <th>user_id</th>\n",
       "      <th>income total per 1</th>\n",
       "      <th>income total per 2</th>\n",
       "      <th>income total per 3</th>\n",
       "      <th>income total per 4</th>\n",
       "      <th>income total per 5</th>\n",
       "      <th>income total per 6</th>\n",
       "      <th>income total per 7</th>\n",
       "      <th>income total per 8</th>\n",
       "      <th>income total per 9</th>\n",
       "      <th>income total per 10</th>\n",
       "      <th>income total per 11</th>\n",
       "      <th>income total per 12</th>\n",
       "      <th>tariff</th>\n",
       "    </tr>\n",
       "  </thead>\n",
       "  <tbody>\n",
       "    <tr>\n",
       "      <th>1</th>\n",
       "      <td>1002</td>\n",
       "      <td>NaN</td>\n",
       "      <td>NaN</td>\n",
       "      <td>NaN</td>\n",
       "      <td>NaN</td>\n",
       "      <td>NaN</td>\n",
       "      <td>550.0</td>\n",
       "      <td>1150.0</td>\n",
       "      <td>1550.0</td>\n",
       "      <td>950.0</td>\n",
       "      <td>550.0</td>\n",
       "      <td>1350.0</td>\n",
       "      <td>1150.0</td>\n",
       "      <td>smart</td>\n",
       "    </tr>\n",
       "    <tr>\n",
       "      <th>4</th>\n",
       "      <td>1005</td>\n",
       "      <td>550.0</td>\n",
       "      <td>550.0</td>\n",
       "      <td>934.0</td>\n",
       "      <td>1198.0</td>\n",
       "      <td>550.0</td>\n",
       "      <td>979.0</td>\n",
       "      <td>652.0</td>\n",
       "      <td>592.0</td>\n",
       "      <td>556.0</td>\n",
       "      <td>1348.0</td>\n",
       "      <td>610.0</td>\n",
       "      <td>685.0</td>\n",
       "      <td>smart</td>\n",
       "    </tr>\n",
       "    <tr>\n",
       "      <th>5</th>\n",
       "      <td>1007</td>\n",
       "      <td>NaN</td>\n",
       "      <td>NaN</td>\n",
       "      <td>NaN</td>\n",
       "      <td>550.0</td>\n",
       "      <td>1210.0</td>\n",
       "      <td>613.0</td>\n",
       "      <td>792.0</td>\n",
       "      <td>1828.0</td>\n",
       "      <td>793.0</td>\n",
       "      <td>550.0</td>\n",
       "      <td>1212.0</td>\n",
       "      <td>565.0</td>\n",
       "      <td>smart</td>\n",
       "    </tr>\n",
       "    <tr>\n",
       "      <th>6</th>\n",
       "      <td>1008</td>\n",
       "      <td>NaN</td>\n",
       "      <td>NaN</td>\n",
       "      <td>NaN</td>\n",
       "      <td>NaN</td>\n",
       "      <td>NaN</td>\n",
       "      <td>NaN</td>\n",
       "      <td>NaN</td>\n",
       "      <td>NaN</td>\n",
       "      <td>NaN</td>\n",
       "      <td>NaN</td>\n",
       "      <td>NaN</td>\n",
       "      <td>568.0</td>\n",
       "      <td>smart</td>\n",
       "    </tr>\n",
       "    <tr>\n",
       "      <th>7</th>\n",
       "      <td>1009</td>\n",
       "      <td>NaN</td>\n",
       "      <td>NaN</td>\n",
       "      <td>550.0</td>\n",
       "      <td>550.0</td>\n",
       "      <td>550.0</td>\n",
       "      <td>750.0</td>\n",
       "      <td>2550.0</td>\n",
       "      <td>2350.0</td>\n",
       "      <td>1950.0</td>\n",
       "      <td>1550.0</td>\n",
       "      <td>950.0</td>\n",
       "      <td>1350.0</td>\n",
       "      <td>smart</td>\n",
       "    </tr>\n",
       "    <tr>\n",
       "      <th>8</th>\n",
       "      <td>1011</td>\n",
       "      <td>NaN</td>\n",
       "      <td>NaN</td>\n",
       "      <td>550.0</td>\n",
       "      <td>1150.0</td>\n",
       "      <td>1150.0</td>\n",
       "      <td>1013.0</td>\n",
       "      <td>1527.0</td>\n",
       "      <td>1750.0</td>\n",
       "      <td>1950.0</td>\n",
       "      <td>1213.0</td>\n",
       "      <td>2550.0</td>\n",
       "      <td>2150.0</td>\n",
       "      <td>smart</td>\n",
       "    </tr>\n",
       "    <tr>\n",
       "      <th>9</th>\n",
       "      <td>1012</td>\n",
       "      <td>NaN</td>\n",
       "      <td>NaN</td>\n",
       "      <td>550.0</td>\n",
       "      <td>950.0</td>\n",
       "      <td>2750.0</td>\n",
       "      <td>2550.0</td>\n",
       "      <td>2150.0</td>\n",
       "      <td>1950.0</td>\n",
       "      <td>1350.0</td>\n",
       "      <td>3350.0</td>\n",
       "      <td>1950.0</td>\n",
       "      <td>550.0</td>\n",
       "      <td>smart</td>\n",
       "    </tr>\n",
       "    <tr>\n",
       "      <th>11</th>\n",
       "      <td>1014</td>\n",
       "      <td>NaN</td>\n",
       "      <td>NaN</td>\n",
       "      <td>NaN</td>\n",
       "      <td>NaN</td>\n",
       "      <td>550.0</td>\n",
       "      <td>2550.0</td>\n",
       "      <td>3150.0</td>\n",
       "      <td>2750.0</td>\n",
       "      <td>2750.0</td>\n",
       "      <td>2153.0</td>\n",
       "      <td>2550.0</td>\n",
       "      <td>2559.0</td>\n",
       "      <td>smart</td>\n",
       "    </tr>\n",
       "    <tr>\n",
       "      <th>12</th>\n",
       "      <td>1015</td>\n",
       "      <td>NaN</td>\n",
       "      <td>NaN</td>\n",
       "      <td>NaN</td>\n",
       "      <td>550.0</td>\n",
       "      <td>1091.0</td>\n",
       "      <td>3040.0</td>\n",
       "      <td>2000.0</td>\n",
       "      <td>3004.0</td>\n",
       "      <td>1004.0</td>\n",
       "      <td>1046.0</td>\n",
       "      <td>1983.0</td>\n",
       "      <td>1622.0</td>\n",
       "      <td>smart</td>\n",
       "    </tr>\n",
       "    <tr>\n",
       "      <th>16</th>\n",
       "      <td>1020</td>\n",
       "      <td>NaN</td>\n",
       "      <td>NaN</td>\n",
       "      <td>NaN</td>\n",
       "      <td>NaN</td>\n",
       "      <td>NaN</td>\n",
       "      <td>NaN</td>\n",
       "      <td>NaN</td>\n",
       "      <td>NaN</td>\n",
       "      <td>NaN</td>\n",
       "      <td>550.0</td>\n",
       "      <td>1882.0</td>\n",
       "      <td>550.0</td>\n",
       "      <td>smart</td>\n",
       "    </tr>\n",
       "  </tbody>\n",
       "</table>\n",
       "</div>"
      ],
      "text/plain": [
       "    user_id  income total per 1  income total per 2  income total per 3  \\\n",
       "1      1002                 NaN                 NaN                 NaN   \n",
       "4      1005               550.0               550.0               934.0   \n",
       "5      1007                 NaN                 NaN                 NaN   \n",
       "6      1008                 NaN                 NaN                 NaN   \n",
       "7      1009                 NaN                 NaN               550.0   \n",
       "8      1011                 NaN                 NaN               550.0   \n",
       "9      1012                 NaN                 NaN               550.0   \n",
       "11     1014                 NaN                 NaN                 NaN   \n",
       "12     1015                 NaN                 NaN                 NaN   \n",
       "16     1020                 NaN                 NaN                 NaN   \n",
       "\n",
       "    income total per 4  income total per 5  income total per 6  \\\n",
       "1                  NaN                 NaN               550.0   \n",
       "4               1198.0               550.0               979.0   \n",
       "5                550.0              1210.0               613.0   \n",
       "6                  NaN                 NaN                 NaN   \n",
       "7                550.0               550.0               750.0   \n",
       "8               1150.0              1150.0              1013.0   \n",
       "9                950.0              2750.0              2550.0   \n",
       "11                 NaN               550.0              2550.0   \n",
       "12               550.0              1091.0              3040.0   \n",
       "16                 NaN                 NaN                 NaN   \n",
       "\n",
       "    income total per 7  income total per 8  income total per 9  \\\n",
       "1               1150.0              1550.0               950.0   \n",
       "4                652.0               592.0               556.0   \n",
       "5                792.0              1828.0               793.0   \n",
       "6                  NaN                 NaN                 NaN   \n",
       "7               2550.0              2350.0              1950.0   \n",
       "8               1527.0              1750.0              1950.0   \n",
       "9               2150.0              1950.0              1350.0   \n",
       "11              3150.0              2750.0              2750.0   \n",
       "12              2000.0              3004.0              1004.0   \n",
       "16                 NaN                 NaN                 NaN   \n",
       "\n",
       "    income total per 10  income total per 11  income total per 12 tariff  \n",
       "1                 550.0               1350.0               1150.0  smart  \n",
       "4                1348.0                610.0                685.0  smart  \n",
       "5                 550.0               1212.0                565.0  smart  \n",
       "6                   NaN                  NaN                568.0  smart  \n",
       "7                1550.0                950.0               1350.0  smart  \n",
       "8                1213.0               2550.0               2150.0  smart  \n",
       "9                3350.0               1950.0                550.0  smart  \n",
       "11               2153.0               2550.0               2559.0  smart  \n",
       "12               1046.0               1983.0               1622.0  smart  \n",
       "16                550.0               1882.0                550.0  smart  "
      ]
     },
     "execution_count": 51,
     "metadata": {},
     "output_type": "execute_result"
    }
   ],
   "source": [
    "df_income_12_months = df_income_12_months.merge(df_users, on = 'user_id')\n",
    "df_income_12_months_hypoth1 = df_income_12_months[['user_id', 'income total per 1', 'income total per 2', 'income total per 3', \n",
    "                                                   'income total per 4', 'income total per 5', 'income total per 6', \n",
    "                                                   'income total per 7', 'income total per 8', 'income total per 9', \n",
    "                                                   'income total per 10', 'income total per 11', 'income total per 12', 'tariff']]\n",
    "\n",
    "df_income_12_months_ultra = df_income_12_months_hypoth1[df_income_12_months_hypoth1['tariff'] == 'ultra']\n",
    "df_income_12_months_smart = df_income_12_months_hypoth1[df_income_12_months_hypoth1['tariff'] == 'smart']\n",
    "\n",
    "display(df_income_12_months_ultra.head(10))\n",
    "df_income_12_months_smart.head(10)"
   ]
  },
  {
   "cell_type": "markdown",
   "metadata": {},
   "source": [
    "Переформатируем датасеты в одномерные списки `df_income_12_months_smart_list` и `df_income_12_months_ultra_list`:"
   ]
  },
  {
   "cell_type": "code",
   "execution_count": 52,
   "metadata": {
    "scrolled": false
   },
   "outputs": [],
   "source": [
    "df_income_12_months_smart = df_income_12_months_smart[['income total per 1', 'income total per 2', 'income total per 3', \n",
    "                                           'income total per 4', 'income total per 5', 'income total per 6', \n",
    "                                           'income total per 7', 'income total per 8', 'income total per 9', \n",
    "                                           'income total per 10', 'income total per 11', 'income total per 12']]\n",
    "\n",
    "df_income_12_months_ultra = df_income_12_months_ultra[['income total per 1', 'income total per 2', 'income total per 3', \n",
    "                                           'income total per 4', 'income total per 5', 'income total per 6', \n",
    "                                           'income total per 7', 'income total per 8', 'income total per 9', \n",
    "                                           'income total per 10', 'income total per 11', 'income total per 12']]\n",
    "\n",
    "df_income_12_months_smart_array = np.array(df_income_12_months_smart, int).flatten()\n",
    "df_income_12_months_smart_list = df_income_12_months_smart_array[df_income_12_months_smart_array > 0].tolist()\n",
    "\n",
    "df_income_12_months_ultra_array = np.array(df_income_12_months_ultra, int).flatten()\n",
    "df_income_12_months_ultra_list = df_income_12_months_ultra_array[df_income_12_months_ultra_array > 0].tolist()"
   ]
  },
  {
   "cell_type": "markdown",
   "metadata": {},
   "source": [
    "Проведем тест на проверку гипотезы, определим значение `alpha` как `0.01`:"
   ]
  },
  {
   "cell_type": "code",
   "execution_count": 53,
   "metadata": {},
   "outputs": [
    {
     "name": "stdout",
     "output_type": "stream",
     "text": [
      "p-значение: 2.603862617164761e-209\n",
      "Отвергаем нулевую гипотезу\n"
     ]
    }
   ],
   "source": [
    "results_hypoth1 = st.ttest_ind(df_income_12_months_smart_list, df_income_12_months_ultra_list, equal_var = False)\n",
    "alpha = 0.01\n",
    "\n",
    "print('p-значение:', results_hypoth1.pvalue)\n",
    "\n",
    "if results_hypoth1.pvalue < alpha:\n",
    "    print(\"Отвергаем нулевую гипотезу\")\n",
    "else:\n",
    "    print(\"Не получилось отвергнуть нулевую гипотезу\") "
   ]
  },
  {
   "cell_type": "markdown",
   "metadata": {},
   "source": [
    "Таким образом, нулевая гипотеза была опровергнута - выручки пользователей тарифов \"ультра\" и \"смарт\" разные."
   ]
  },
  {
   "cell_type": "markdown",
   "metadata": {},
   "source": [
    "### Проверка гипотезы: средняя выручка пользователей из Москвы отличается от выручки пользователей из других регионов"
   ]
  },
  {
   "cell_type": "markdown",
   "metadata": {},
   "source": [
    "Сформулируем нулевую гипотезу следующим образом: средняя выручка пользователей из Москвы равна средней выручке пользователей из других регионов.\n",
    "\n",
    "Альтернативная же гипотеза будет таковой: средние выручки пользователей из Москвы и других регионов отличаются."
   ]
  },
  {
   "cell_type": "markdown",
   "metadata": {},
   "source": [
    "Сформируем датасет, объединяющий выручку за 12 месяцев и название города пользователя, а также разделим его на 2 датасета по критериям \"Москва\", \"Другой город\": "
   ]
  },
  {
   "cell_type": "code",
   "execution_count": 55,
   "metadata": {
    "scrolled": false
   },
   "outputs": [
    {
     "data": {
      "text/html": [
       "<div>\n",
       "<style scoped>\n",
       "    .dataframe tbody tr th:only-of-type {\n",
       "        vertical-align: middle;\n",
       "    }\n",
       "\n",
       "    .dataframe tbody tr th {\n",
       "        vertical-align: top;\n",
       "    }\n",
       "\n",
       "    .dataframe thead th {\n",
       "        text-align: right;\n",
       "    }\n",
       "</style>\n",
       "<table border=\"1\" class=\"dataframe\">\n",
       "  <thead>\n",
       "    <tr style=\"text-align: right;\">\n",
       "      <th></th>\n",
       "      <th>user_id</th>\n",
       "      <th>income total per 1</th>\n",
       "      <th>income total per 2</th>\n",
       "      <th>income total per 3</th>\n",
       "      <th>income total per 4</th>\n",
       "      <th>income total per 5</th>\n",
       "      <th>income total per 6</th>\n",
       "      <th>income total per 7</th>\n",
       "      <th>income total per 8</th>\n",
       "      <th>income total per 9</th>\n",
       "      <th>income total per 10</th>\n",
       "      <th>income total per 11</th>\n",
       "      <th>income total per 12</th>\n",
       "      <th>city</th>\n",
       "    </tr>\n",
       "  </thead>\n",
       "  <tbody>\n",
       "    <tr>\n",
       "      <th>0</th>\n",
       "      <td>1000</td>\n",
       "      <td>NaN</td>\n",
       "      <td>NaN</td>\n",
       "      <td>NaN</td>\n",
       "      <td>NaN</td>\n",
       "      <td>1950.0</td>\n",
       "      <td>1950.0</td>\n",
       "      <td>1950.0</td>\n",
       "      <td>1950.0</td>\n",
       "      <td>1950.0</td>\n",
       "      <td>1950.0</td>\n",
       "      <td>1950.0</td>\n",
       "      <td>1950.0</td>\n",
       "      <td>Краснодар</td>\n",
       "    </tr>\n",
       "    <tr>\n",
       "      <th>1</th>\n",
       "      <td>1002</td>\n",
       "      <td>NaN</td>\n",
       "      <td>NaN</td>\n",
       "      <td>NaN</td>\n",
       "      <td>NaN</td>\n",
       "      <td>NaN</td>\n",
       "      <td>550.0</td>\n",
       "      <td>1150.0</td>\n",
       "      <td>1550.0</td>\n",
       "      <td>950.0</td>\n",
       "      <td>550.0</td>\n",
       "      <td>1350.0</td>\n",
       "      <td>1150.0</td>\n",
       "      <td>Стерлитамак</td>\n",
       "    </tr>\n",
       "    <tr>\n",
       "      <th>2</th>\n",
       "      <td>1003</td>\n",
       "      <td>NaN</td>\n",
       "      <td>NaN</td>\n",
       "      <td>NaN</td>\n",
       "      <td>NaN</td>\n",
       "      <td>NaN</td>\n",
       "      <td>NaN</td>\n",
       "      <td>NaN</td>\n",
       "      <td>1950.0</td>\n",
       "      <td>1950.0</td>\n",
       "      <td>1950.0</td>\n",
       "      <td>1950.0</td>\n",
       "      <td>1950.0</td>\n",
       "      <td>Москва</td>\n",
       "    </tr>\n",
       "    <tr>\n",
       "      <th>3</th>\n",
       "      <td>1004</td>\n",
       "      <td>NaN</td>\n",
       "      <td>NaN</td>\n",
       "      <td>NaN</td>\n",
       "      <td>NaN</td>\n",
       "      <td>1950.0</td>\n",
       "      <td>1950.0</td>\n",
       "      <td>1950.0</td>\n",
       "      <td>1950.0</td>\n",
       "      <td>1950.0</td>\n",
       "      <td>1950.0</td>\n",
       "      <td>1950.0</td>\n",
       "      <td>1950.0</td>\n",
       "      <td>Новокузнецк</td>\n",
       "    </tr>\n",
       "    <tr>\n",
       "      <th>4</th>\n",
       "      <td>1005</td>\n",
       "      <td>550.0</td>\n",
       "      <td>550.0</td>\n",
       "      <td>934.0</td>\n",
       "      <td>1198.0</td>\n",
       "      <td>550.0</td>\n",
       "      <td>979.0</td>\n",
       "      <td>652.0</td>\n",
       "      <td>592.0</td>\n",
       "      <td>556.0</td>\n",
       "      <td>1348.0</td>\n",
       "      <td>610.0</td>\n",
       "      <td>685.0</td>\n",
       "      <td>Набережные Челны</td>\n",
       "    </tr>\n",
       "    <tr>\n",
       "      <th>5</th>\n",
       "      <td>1007</td>\n",
       "      <td>NaN</td>\n",
       "      <td>NaN</td>\n",
       "      <td>NaN</td>\n",
       "      <td>550.0</td>\n",
       "      <td>1210.0</td>\n",
       "      <td>613.0</td>\n",
       "      <td>792.0</td>\n",
       "      <td>1828.0</td>\n",
       "      <td>793.0</td>\n",
       "      <td>550.0</td>\n",
       "      <td>1212.0</td>\n",
       "      <td>565.0</td>\n",
       "      <td>Москва</td>\n",
       "    </tr>\n",
       "    <tr>\n",
       "      <th>6</th>\n",
       "      <td>1008</td>\n",
       "      <td>NaN</td>\n",
       "      <td>NaN</td>\n",
       "      <td>NaN</td>\n",
       "      <td>NaN</td>\n",
       "      <td>NaN</td>\n",
       "      <td>NaN</td>\n",
       "      <td>NaN</td>\n",
       "      <td>NaN</td>\n",
       "      <td>NaN</td>\n",
       "      <td>NaN</td>\n",
       "      <td>NaN</td>\n",
       "      <td>568.0</td>\n",
       "      <td>Челябинск</td>\n",
       "    </tr>\n",
       "    <tr>\n",
       "      <th>7</th>\n",
       "      <td>1009</td>\n",
       "      <td>NaN</td>\n",
       "      <td>NaN</td>\n",
       "      <td>550.0</td>\n",
       "      <td>550.0</td>\n",
       "      <td>550.0</td>\n",
       "      <td>750.0</td>\n",
       "      <td>2550.0</td>\n",
       "      <td>2350.0</td>\n",
       "      <td>1950.0</td>\n",
       "      <td>1550.0</td>\n",
       "      <td>950.0</td>\n",
       "      <td>1350.0</td>\n",
       "      <td>Пермь</td>\n",
       "    </tr>\n",
       "    <tr>\n",
       "      <th>8</th>\n",
       "      <td>1011</td>\n",
       "      <td>NaN</td>\n",
       "      <td>NaN</td>\n",
       "      <td>550.0</td>\n",
       "      <td>1150.0</td>\n",
       "      <td>1150.0</td>\n",
       "      <td>1013.0</td>\n",
       "      <td>1527.0</td>\n",
       "      <td>1750.0</td>\n",
       "      <td>1950.0</td>\n",
       "      <td>1213.0</td>\n",
       "      <td>2550.0</td>\n",
       "      <td>2150.0</td>\n",
       "      <td>Самара</td>\n",
       "    </tr>\n",
       "    <tr>\n",
       "      <th>9</th>\n",
       "      <td>1012</td>\n",
       "      <td>NaN</td>\n",
       "      <td>NaN</td>\n",
       "      <td>550.0</td>\n",
       "      <td>950.0</td>\n",
       "      <td>2750.0</td>\n",
       "      <td>2550.0</td>\n",
       "      <td>2150.0</td>\n",
       "      <td>1950.0</td>\n",
       "      <td>1350.0</td>\n",
       "      <td>3350.0</td>\n",
       "      <td>1950.0</td>\n",
       "      <td>550.0</td>\n",
       "      <td>Санкт-Петербург</td>\n",
       "    </tr>\n",
       "  </tbody>\n",
       "</table>\n",
       "</div>"
      ],
      "text/plain": [
       "   user_id  income total per 1  income total per 2  income total per 3  \\\n",
       "0     1000                 NaN                 NaN                 NaN   \n",
       "1     1002                 NaN                 NaN                 NaN   \n",
       "2     1003                 NaN                 NaN                 NaN   \n",
       "3     1004                 NaN                 NaN                 NaN   \n",
       "4     1005               550.0               550.0               934.0   \n",
       "5     1007                 NaN                 NaN                 NaN   \n",
       "6     1008                 NaN                 NaN                 NaN   \n",
       "7     1009                 NaN                 NaN               550.0   \n",
       "8     1011                 NaN                 NaN               550.0   \n",
       "9     1012                 NaN                 NaN               550.0   \n",
       "\n",
       "   income total per 4  income total per 5  income total per 6  \\\n",
       "0                 NaN              1950.0              1950.0   \n",
       "1                 NaN                 NaN               550.0   \n",
       "2                 NaN                 NaN                 NaN   \n",
       "3                 NaN              1950.0              1950.0   \n",
       "4              1198.0               550.0               979.0   \n",
       "5               550.0              1210.0               613.0   \n",
       "6                 NaN                 NaN                 NaN   \n",
       "7               550.0               550.0               750.0   \n",
       "8              1150.0              1150.0              1013.0   \n",
       "9               950.0              2750.0              2550.0   \n",
       "\n",
       "   income total per 7  income total per 8  income total per 9  \\\n",
       "0              1950.0              1950.0              1950.0   \n",
       "1              1150.0              1550.0               950.0   \n",
       "2                 NaN              1950.0              1950.0   \n",
       "3              1950.0              1950.0              1950.0   \n",
       "4               652.0               592.0               556.0   \n",
       "5               792.0              1828.0               793.0   \n",
       "6                 NaN                 NaN                 NaN   \n",
       "7              2550.0              2350.0              1950.0   \n",
       "8              1527.0              1750.0              1950.0   \n",
       "9              2150.0              1950.0              1350.0   \n",
       "\n",
       "   income total per 10  income total per 11  income total per 12  \\\n",
       "0               1950.0               1950.0               1950.0   \n",
       "1                550.0               1350.0               1150.0   \n",
       "2               1950.0               1950.0               1950.0   \n",
       "3               1950.0               1950.0               1950.0   \n",
       "4               1348.0                610.0                685.0   \n",
       "5                550.0               1212.0                565.0   \n",
       "6                  NaN                  NaN                568.0   \n",
       "7               1550.0                950.0               1350.0   \n",
       "8               1213.0               2550.0               2150.0   \n",
       "9               3350.0               1950.0                550.0   \n",
       "\n",
       "               city  \n",
       "0         Краснодар  \n",
       "1       Стерлитамак  \n",
       "2            Москва  \n",
       "3       Новокузнецк  \n",
       "4  Набережные Челны  \n",
       "5            Москва  \n",
       "6         Челябинск  \n",
       "7             Пермь  \n",
       "8            Самара  \n",
       "9   Санкт-Петербург  "
      ]
     },
     "execution_count": 55,
     "metadata": {},
     "output_type": "execute_result"
    }
   ],
   "source": [
    "df_income_12_months = df_income_12_months.merge(df_users, on = 'user_id')\n",
    "df_income_12_months_hypoth2 = df_income_12_months[['user_id', 'income total per 1', 'income total per 2', 'income total per 3', \n",
    "                                                   'income total per 4', 'income total per 5', 'income total per 6', \n",
    "                                                   'income total per 7', 'income total per 8', 'income total per 9', \n",
    "                                                   'income total per 10', 'income total per 11', 'income total per 12', 'city']]\n",
    "    \n",
    "    \n",
    "df_income_12_months_hypoth2.head(10) "
   ]
  },
  {
   "cell_type": "code",
   "execution_count": 56,
   "metadata": {},
   "outputs": [
    {
     "data": {
      "text/html": [
       "<div>\n",
       "<style scoped>\n",
       "    .dataframe tbody tr th:only-of-type {\n",
       "        vertical-align: middle;\n",
       "    }\n",
       "\n",
       "    .dataframe tbody tr th {\n",
       "        vertical-align: top;\n",
       "    }\n",
       "\n",
       "    .dataframe thead th {\n",
       "        text-align: right;\n",
       "    }\n",
       "</style>\n",
       "<table border=\"1\" class=\"dataframe\">\n",
       "  <thead>\n",
       "    <tr style=\"text-align: right;\">\n",
       "      <th></th>\n",
       "      <th>user_id</th>\n",
       "      <th>income total per 1</th>\n",
       "      <th>income total per 2</th>\n",
       "      <th>income total per 3</th>\n",
       "      <th>income total per 4</th>\n",
       "      <th>income total per 5</th>\n",
       "      <th>income total per 6</th>\n",
       "      <th>income total per 7</th>\n",
       "      <th>income total per 8</th>\n",
       "      <th>income total per 9</th>\n",
       "      <th>income total per 10</th>\n",
       "      <th>income total per 11</th>\n",
       "      <th>income total per 12</th>\n",
       "      <th>city</th>\n",
       "    </tr>\n",
       "  </thead>\n",
       "  <tbody>\n",
       "    <tr>\n",
       "      <th>2</th>\n",
       "      <td>1003</td>\n",
       "      <td>NaN</td>\n",
       "      <td>NaN</td>\n",
       "      <td>NaN</td>\n",
       "      <td>NaN</td>\n",
       "      <td>NaN</td>\n",
       "      <td>NaN</td>\n",
       "      <td>NaN</td>\n",
       "      <td>1950.0</td>\n",
       "      <td>1950.0</td>\n",
       "      <td>1950.0</td>\n",
       "      <td>1950.0</td>\n",
       "      <td>1950.0</td>\n",
       "      <td>Москва</td>\n",
       "    </tr>\n",
       "    <tr>\n",
       "      <th>5</th>\n",
       "      <td>1007</td>\n",
       "      <td>NaN</td>\n",
       "      <td>NaN</td>\n",
       "      <td>NaN</td>\n",
       "      <td>550.0</td>\n",
       "      <td>1210.0</td>\n",
       "      <td>613.0</td>\n",
       "      <td>792.0</td>\n",
       "      <td>1828.0</td>\n",
       "      <td>793.0</td>\n",
       "      <td>550.0</td>\n",
       "      <td>1212.0</td>\n",
       "      <td>565.0</td>\n",
       "      <td>Москва</td>\n",
       "    </tr>\n",
       "    <tr>\n",
       "      <th>26</th>\n",
       "      <td>1031</td>\n",
       "      <td>NaN</td>\n",
       "      <td>NaN</td>\n",
       "      <td>NaN</td>\n",
       "      <td>NaN</td>\n",
       "      <td>NaN</td>\n",
       "      <td>NaN</td>\n",
       "      <td>NaN</td>\n",
       "      <td>NaN</td>\n",
       "      <td>NaN</td>\n",
       "      <td>NaN</td>\n",
       "      <td>832.0</td>\n",
       "      <td>757.0</td>\n",
       "      <td>Москва</td>\n",
       "    </tr>\n",
       "    <tr>\n",
       "      <th>28</th>\n",
       "      <td>1033</td>\n",
       "      <td>NaN</td>\n",
       "      <td>NaN</td>\n",
       "      <td>NaN</td>\n",
       "      <td>NaN</td>\n",
       "      <td>NaN</td>\n",
       "      <td>NaN</td>\n",
       "      <td>550.0</td>\n",
       "      <td>2031.0</td>\n",
       "      <td>2831.0</td>\n",
       "      <td>1640.0</td>\n",
       "      <td>2838.0</td>\n",
       "      <td>1816.0</td>\n",
       "      <td>Москва</td>\n",
       "    </tr>\n",
       "    <tr>\n",
       "      <th>33</th>\n",
       "      <td>1038</td>\n",
       "      <td>NaN</td>\n",
       "      <td>NaN</td>\n",
       "      <td>NaN</td>\n",
       "      <td>NaN</td>\n",
       "      <td>NaN</td>\n",
       "      <td>NaN</td>\n",
       "      <td>NaN</td>\n",
       "      <td>NaN</td>\n",
       "      <td>NaN</td>\n",
       "      <td>950.0</td>\n",
       "      <td>550.0</td>\n",
       "      <td>950.0</td>\n",
       "      <td>Москва</td>\n",
       "    </tr>\n",
       "    <tr>\n",
       "      <th>35</th>\n",
       "      <td>1041</td>\n",
       "      <td>NaN</td>\n",
       "      <td>NaN</td>\n",
       "      <td>NaN</td>\n",
       "      <td>NaN</td>\n",
       "      <td>NaN</td>\n",
       "      <td>NaN</td>\n",
       "      <td>NaN</td>\n",
       "      <td>NaN</td>\n",
       "      <td>NaN</td>\n",
       "      <td>NaN</td>\n",
       "      <td>NaN</td>\n",
       "      <td>3248.0</td>\n",
       "      <td>Москва</td>\n",
       "    </tr>\n",
       "    <tr>\n",
       "      <th>44</th>\n",
       "      <td>1051</td>\n",
       "      <td>NaN</td>\n",
       "      <td>NaN</td>\n",
       "      <td>NaN</td>\n",
       "      <td>NaN</td>\n",
       "      <td>NaN</td>\n",
       "      <td>550.0</td>\n",
       "      <td>1750.0</td>\n",
       "      <td>2150.0</td>\n",
       "      <td>550.0</td>\n",
       "      <td>NaN</td>\n",
       "      <td>NaN</td>\n",
       "      <td>NaN</td>\n",
       "      <td>Москва</td>\n",
       "    </tr>\n",
       "    <tr>\n",
       "      <th>49</th>\n",
       "      <td>1057</td>\n",
       "      <td>NaN</td>\n",
       "      <td>NaN</td>\n",
       "      <td>1950.0</td>\n",
       "      <td>1950.0</td>\n",
       "      <td>1950.0</td>\n",
       "      <td>1950.0</td>\n",
       "      <td>1950.0</td>\n",
       "      <td>1950.0</td>\n",
       "      <td>1950.0</td>\n",
       "      <td>1950.0</td>\n",
       "      <td>1950.0</td>\n",
       "      <td>1950.0</td>\n",
       "      <td>Москва</td>\n",
       "    </tr>\n",
       "    <tr>\n",
       "      <th>54</th>\n",
       "      <td>1062</td>\n",
       "      <td>NaN</td>\n",
       "      <td>NaN</td>\n",
       "      <td>NaN</td>\n",
       "      <td>NaN</td>\n",
       "      <td>NaN</td>\n",
       "      <td>NaN</td>\n",
       "      <td>NaN</td>\n",
       "      <td>NaN</td>\n",
       "      <td>NaN</td>\n",
       "      <td>NaN</td>\n",
       "      <td>550.0</td>\n",
       "      <td>550.0</td>\n",
       "      <td>Москва</td>\n",
       "    </tr>\n",
       "    <tr>\n",
       "      <th>56</th>\n",
       "      <td>1065</td>\n",
       "      <td>NaN</td>\n",
       "      <td>NaN</td>\n",
       "      <td>1556.0</td>\n",
       "      <td>2727.0</td>\n",
       "      <td>3216.0</td>\n",
       "      <td>2234.0</td>\n",
       "      <td>1807.0</td>\n",
       "      <td>2551.0</td>\n",
       "      <td>3174.0</td>\n",
       "      <td>1837.0</td>\n",
       "      <td>2513.0</td>\n",
       "      <td>550.0</td>\n",
       "      <td>Москва</td>\n",
       "    </tr>\n",
       "  </tbody>\n",
       "</table>\n",
       "</div>"
      ],
      "text/plain": [
       "    user_id  income total per 1  income total per 2  income total per 3  \\\n",
       "2      1003                 NaN                 NaN                 NaN   \n",
       "5      1007                 NaN                 NaN                 NaN   \n",
       "26     1031                 NaN                 NaN                 NaN   \n",
       "28     1033                 NaN                 NaN                 NaN   \n",
       "33     1038                 NaN                 NaN                 NaN   \n",
       "35     1041                 NaN                 NaN                 NaN   \n",
       "44     1051                 NaN                 NaN                 NaN   \n",
       "49     1057                 NaN                 NaN              1950.0   \n",
       "54     1062                 NaN                 NaN                 NaN   \n",
       "56     1065                 NaN                 NaN              1556.0   \n",
       "\n",
       "    income total per 4  income total per 5  income total per 6  \\\n",
       "2                  NaN                 NaN                 NaN   \n",
       "5                550.0              1210.0               613.0   \n",
       "26                 NaN                 NaN                 NaN   \n",
       "28                 NaN                 NaN                 NaN   \n",
       "33                 NaN                 NaN                 NaN   \n",
       "35                 NaN                 NaN                 NaN   \n",
       "44                 NaN                 NaN               550.0   \n",
       "49              1950.0              1950.0              1950.0   \n",
       "54                 NaN                 NaN                 NaN   \n",
       "56              2727.0              3216.0              2234.0   \n",
       "\n",
       "    income total per 7  income total per 8  income total per 9  \\\n",
       "2                  NaN              1950.0              1950.0   \n",
       "5                792.0              1828.0               793.0   \n",
       "26                 NaN                 NaN                 NaN   \n",
       "28               550.0              2031.0              2831.0   \n",
       "33                 NaN                 NaN                 NaN   \n",
       "35                 NaN                 NaN                 NaN   \n",
       "44              1750.0              2150.0               550.0   \n",
       "49              1950.0              1950.0              1950.0   \n",
       "54                 NaN                 NaN                 NaN   \n",
       "56              1807.0              2551.0              3174.0   \n",
       "\n",
       "    income total per 10  income total per 11  income total per 12    city  \n",
       "2                1950.0               1950.0               1950.0  Москва  \n",
       "5                 550.0               1212.0                565.0  Москва  \n",
       "26                  NaN                832.0                757.0  Москва  \n",
       "28               1640.0               2838.0               1816.0  Москва  \n",
       "33                950.0                550.0                950.0  Москва  \n",
       "35                  NaN                  NaN               3248.0  Москва  \n",
       "44                  NaN                  NaN                  NaN  Москва  \n",
       "49               1950.0               1950.0               1950.0  Москва  \n",
       "54                  NaN                550.0                550.0  Москва  \n",
       "56               1837.0               2513.0                550.0  Москва  "
      ]
     },
     "metadata": {},
     "output_type": "display_data"
    },
    {
     "data": {
      "text/html": [
       "<div>\n",
       "<style scoped>\n",
       "    .dataframe tbody tr th:only-of-type {\n",
       "        vertical-align: middle;\n",
       "    }\n",
       "\n",
       "    .dataframe tbody tr th {\n",
       "        vertical-align: top;\n",
       "    }\n",
       "\n",
       "    .dataframe thead th {\n",
       "        text-align: right;\n",
       "    }\n",
       "</style>\n",
       "<table border=\"1\" class=\"dataframe\">\n",
       "  <thead>\n",
       "    <tr style=\"text-align: right;\">\n",
       "      <th></th>\n",
       "      <th>user_id</th>\n",
       "      <th>income total per 1</th>\n",
       "      <th>income total per 2</th>\n",
       "      <th>income total per 3</th>\n",
       "      <th>income total per 4</th>\n",
       "      <th>income total per 5</th>\n",
       "      <th>income total per 6</th>\n",
       "      <th>income total per 7</th>\n",
       "      <th>income total per 8</th>\n",
       "      <th>income total per 9</th>\n",
       "      <th>income total per 10</th>\n",
       "      <th>income total per 11</th>\n",
       "      <th>income total per 12</th>\n",
       "      <th>city</th>\n",
       "    </tr>\n",
       "  </thead>\n",
       "  <tbody>\n",
       "    <tr>\n",
       "      <th>0</th>\n",
       "      <td>1000</td>\n",
       "      <td>NaN</td>\n",
       "      <td>NaN</td>\n",
       "      <td>NaN</td>\n",
       "      <td>NaN</td>\n",
       "      <td>1950.0</td>\n",
       "      <td>1950.0</td>\n",
       "      <td>1950.0</td>\n",
       "      <td>1950.0</td>\n",
       "      <td>1950.0</td>\n",
       "      <td>1950.0</td>\n",
       "      <td>1950.0</td>\n",
       "      <td>1950.0</td>\n",
       "      <td>Краснодар</td>\n",
       "    </tr>\n",
       "    <tr>\n",
       "      <th>1</th>\n",
       "      <td>1002</td>\n",
       "      <td>NaN</td>\n",
       "      <td>NaN</td>\n",
       "      <td>NaN</td>\n",
       "      <td>NaN</td>\n",
       "      <td>NaN</td>\n",
       "      <td>550.0</td>\n",
       "      <td>1150.0</td>\n",
       "      <td>1550.0</td>\n",
       "      <td>950.0</td>\n",
       "      <td>550.0</td>\n",
       "      <td>1350.0</td>\n",
       "      <td>1150.0</td>\n",
       "      <td>Стерлитамак</td>\n",
       "    </tr>\n",
       "    <tr>\n",
       "      <th>3</th>\n",
       "      <td>1004</td>\n",
       "      <td>NaN</td>\n",
       "      <td>NaN</td>\n",
       "      <td>NaN</td>\n",
       "      <td>NaN</td>\n",
       "      <td>1950.0</td>\n",
       "      <td>1950.0</td>\n",
       "      <td>1950.0</td>\n",
       "      <td>1950.0</td>\n",
       "      <td>1950.0</td>\n",
       "      <td>1950.0</td>\n",
       "      <td>1950.0</td>\n",
       "      <td>1950.0</td>\n",
       "      <td>Новокузнецк</td>\n",
       "    </tr>\n",
       "    <tr>\n",
       "      <th>4</th>\n",
       "      <td>1005</td>\n",
       "      <td>550.0</td>\n",
       "      <td>550.0</td>\n",
       "      <td>934.0</td>\n",
       "      <td>1198.0</td>\n",
       "      <td>550.0</td>\n",
       "      <td>979.0</td>\n",
       "      <td>652.0</td>\n",
       "      <td>592.0</td>\n",
       "      <td>556.0</td>\n",
       "      <td>1348.0</td>\n",
       "      <td>610.0</td>\n",
       "      <td>685.0</td>\n",
       "      <td>Набережные Челны</td>\n",
       "    </tr>\n",
       "    <tr>\n",
       "      <th>6</th>\n",
       "      <td>1008</td>\n",
       "      <td>NaN</td>\n",
       "      <td>NaN</td>\n",
       "      <td>NaN</td>\n",
       "      <td>NaN</td>\n",
       "      <td>NaN</td>\n",
       "      <td>NaN</td>\n",
       "      <td>NaN</td>\n",
       "      <td>NaN</td>\n",
       "      <td>NaN</td>\n",
       "      <td>NaN</td>\n",
       "      <td>NaN</td>\n",
       "      <td>568.0</td>\n",
       "      <td>Челябинск</td>\n",
       "    </tr>\n",
       "    <tr>\n",
       "      <th>7</th>\n",
       "      <td>1009</td>\n",
       "      <td>NaN</td>\n",
       "      <td>NaN</td>\n",
       "      <td>550.0</td>\n",
       "      <td>550.0</td>\n",
       "      <td>550.0</td>\n",
       "      <td>750.0</td>\n",
       "      <td>2550.0</td>\n",
       "      <td>2350.0</td>\n",
       "      <td>1950.0</td>\n",
       "      <td>1550.0</td>\n",
       "      <td>950.0</td>\n",
       "      <td>1350.0</td>\n",
       "      <td>Пермь</td>\n",
       "    </tr>\n",
       "    <tr>\n",
       "      <th>8</th>\n",
       "      <td>1011</td>\n",
       "      <td>NaN</td>\n",
       "      <td>NaN</td>\n",
       "      <td>550.0</td>\n",
       "      <td>1150.0</td>\n",
       "      <td>1150.0</td>\n",
       "      <td>1013.0</td>\n",
       "      <td>1527.0</td>\n",
       "      <td>1750.0</td>\n",
       "      <td>1950.0</td>\n",
       "      <td>1213.0</td>\n",
       "      <td>2550.0</td>\n",
       "      <td>2150.0</td>\n",
       "      <td>Самара</td>\n",
       "    </tr>\n",
       "    <tr>\n",
       "      <th>9</th>\n",
       "      <td>1012</td>\n",
       "      <td>NaN</td>\n",
       "      <td>NaN</td>\n",
       "      <td>550.0</td>\n",
       "      <td>950.0</td>\n",
       "      <td>2750.0</td>\n",
       "      <td>2550.0</td>\n",
       "      <td>2150.0</td>\n",
       "      <td>1950.0</td>\n",
       "      <td>1350.0</td>\n",
       "      <td>3350.0</td>\n",
       "      <td>1950.0</td>\n",
       "      <td>550.0</td>\n",
       "      <td>Санкт-Петербург</td>\n",
       "    </tr>\n",
       "    <tr>\n",
       "      <th>10</th>\n",
       "      <td>1013</td>\n",
       "      <td>NaN</td>\n",
       "      <td>NaN</td>\n",
       "      <td>NaN</td>\n",
       "      <td>NaN</td>\n",
       "      <td>NaN</td>\n",
       "      <td>NaN</td>\n",
       "      <td>NaN</td>\n",
       "      <td>NaN</td>\n",
       "      <td>NaN</td>\n",
       "      <td>NaN</td>\n",
       "      <td>1950.0</td>\n",
       "      <td>1950.0</td>\n",
       "      <td>Иваново</td>\n",
       "    </tr>\n",
       "    <tr>\n",
       "      <th>11</th>\n",
       "      <td>1014</td>\n",
       "      <td>NaN</td>\n",
       "      <td>NaN</td>\n",
       "      <td>NaN</td>\n",
       "      <td>NaN</td>\n",
       "      <td>550.0</td>\n",
       "      <td>2550.0</td>\n",
       "      <td>3150.0</td>\n",
       "      <td>2750.0</td>\n",
       "      <td>2750.0</td>\n",
       "      <td>2153.0</td>\n",
       "      <td>2550.0</td>\n",
       "      <td>2559.0</td>\n",
       "      <td>Чебоксары</td>\n",
       "    </tr>\n",
       "  </tbody>\n",
       "</table>\n",
       "</div>"
      ],
      "text/plain": [
       "    user_id  income total per 1  income total per 2  income total per 3  \\\n",
       "0      1000                 NaN                 NaN                 NaN   \n",
       "1      1002                 NaN                 NaN                 NaN   \n",
       "3      1004                 NaN                 NaN                 NaN   \n",
       "4      1005               550.0               550.0               934.0   \n",
       "6      1008                 NaN                 NaN                 NaN   \n",
       "7      1009                 NaN                 NaN               550.0   \n",
       "8      1011                 NaN                 NaN               550.0   \n",
       "9      1012                 NaN                 NaN               550.0   \n",
       "10     1013                 NaN                 NaN                 NaN   \n",
       "11     1014                 NaN                 NaN                 NaN   \n",
       "\n",
       "    income total per 4  income total per 5  income total per 6  \\\n",
       "0                  NaN              1950.0              1950.0   \n",
       "1                  NaN                 NaN               550.0   \n",
       "3                  NaN              1950.0              1950.0   \n",
       "4               1198.0               550.0               979.0   \n",
       "6                  NaN                 NaN                 NaN   \n",
       "7                550.0               550.0               750.0   \n",
       "8               1150.0              1150.0              1013.0   \n",
       "9                950.0              2750.0              2550.0   \n",
       "10                 NaN                 NaN                 NaN   \n",
       "11                 NaN               550.0              2550.0   \n",
       "\n",
       "    income total per 7  income total per 8  income total per 9  \\\n",
       "0               1950.0              1950.0              1950.0   \n",
       "1               1150.0              1550.0               950.0   \n",
       "3               1950.0              1950.0              1950.0   \n",
       "4                652.0               592.0               556.0   \n",
       "6                  NaN                 NaN                 NaN   \n",
       "7               2550.0              2350.0              1950.0   \n",
       "8               1527.0              1750.0              1950.0   \n",
       "9               2150.0              1950.0              1350.0   \n",
       "10                 NaN                 NaN                 NaN   \n",
       "11              3150.0              2750.0              2750.0   \n",
       "\n",
       "    income total per 10  income total per 11  income total per 12  \\\n",
       "0                1950.0               1950.0               1950.0   \n",
       "1                 550.0               1350.0               1150.0   \n",
       "3                1950.0               1950.0               1950.0   \n",
       "4                1348.0                610.0                685.0   \n",
       "6                   NaN                  NaN                568.0   \n",
       "7                1550.0                950.0               1350.0   \n",
       "8                1213.0               2550.0               2150.0   \n",
       "9                3350.0               1950.0                550.0   \n",
       "10                  NaN               1950.0               1950.0   \n",
       "11               2153.0               2550.0               2559.0   \n",
       "\n",
       "                city  \n",
       "0          Краснодар  \n",
       "1        Стерлитамак  \n",
       "3        Новокузнецк  \n",
       "4   Набережные Челны  \n",
       "6          Челябинск  \n",
       "7              Пермь  \n",
       "8             Самара  \n",
       "9    Санкт-Петербург  \n",
       "10           Иваново  \n",
       "11         Чебоксары  "
      ]
     },
     "execution_count": 56,
     "metadata": {},
     "output_type": "execute_result"
    }
   ],
   "source": [
    "df_income_12_months_Moscow = df_income_12_months_hypoth2[df_income_12_months_hypoth2['city'] == 'Москва']\n",
    "df_income_12_months_not_Moscow = df_income_12_months_hypoth2[df_income_12_months_hypoth2['city'] != 'Москва']\n",
    "\n",
    "display(df_income_12_months_Moscow.head(10))\n",
    "df_income_12_months_not_Moscow.head(10)"
   ]
  },
  {
   "cell_type": "markdown",
   "metadata": {},
   "source": [
    "Переформатируем датасеты в одномерные списки `df_income_12_months_Moscow_list` и `df_income_12_months_not_Moscow_list`:"
   ]
  },
  {
   "cell_type": "code",
   "execution_count": 57,
   "metadata": {},
   "outputs": [],
   "source": [
    "df_income_12_months_Moscow = df_income_12_months_Moscow[['income total per 1', 'income total per 2', 'income total per 3', \n",
    "                                           'income total per 4', 'income total per 5', 'income total per 6', \n",
    "                                           'income total per 7', 'income total per 8', 'income total per 9', \n",
    "                                           'income total per 10', 'income total per 11', 'income total per 12']]\n",
    "\n",
    "df_income_12_months_not_Moscow = df_income_12_months_not_Moscow[['income total per 1', 'income total per 2', 'income total per 3', \n",
    "                                           'income total per 4', 'income total per 5', 'income total per 6', \n",
    "                                           'income total per 7', 'income total per 8', 'income total per 9', \n",
    "                                           'income total per 10', 'income total per 11', 'income total per 12']]\n",
    "\n",
    "df_income_12_months_Moscow_array = np.array(df_income_12_months_Moscow, int).flatten()\n",
    "df_income_12_months_Moscow_list = df_income_12_months_Moscow_array[df_income_12_months_Moscow_array > 0].tolist()\n",
    "\n",
    "df_income_12_months_not_Moscow_array = np.array(df_income_12_months_not_Moscow, int).flatten()\n",
    "df_income_12_months_not_Moscow_list = df_income_12_months_not_Moscow_array[df_income_12_months_not_Moscow_array > 0].tolist()"
   ]
  },
  {
   "cell_type": "markdown",
   "metadata": {},
   "source": [
    "Проведем тест на проверку гипотезы, определим значение `alpha` как `0.01`:"
   ]
  },
  {
   "cell_type": "code",
   "execution_count": 58,
   "metadata": {},
   "outputs": [
    {
     "name": "stdout",
     "output_type": "stream",
     "text": [
      "p-значение: 0.10028641611611423\n",
      "Не получилось отвергнуть нулевую гипотезу\n"
     ]
    }
   ],
   "source": [
    "results_hypoth2 = st.ttest_ind(df_income_12_months_Moscow_list, df_income_12_months_not_Moscow_list, equal_var = False)\n",
    "alpha = 0.01\n",
    "\n",
    "print('p-значение:', results_hypoth2.pvalue)\n",
    "\n",
    "if results_hypoth2.pvalue < alpha:\n",
    "    print(\"Отвергаем нулевую гипотезу\")\n",
    "else:\n",
    "    print(\"Не получилось отвергнуть нулевую гипотезу\")"
   ]
  },
  {
   "cell_type": "markdown",
   "metadata": {},
   "source": [
    "Таким образом, нулевую гипотезу нельзя отвергнуть, средняя выручка пользователей из Москвы может и не отличаться от средней выручки пользователей из других регионов."
   ]
  },
  {
   "cell_type": "markdown",
   "metadata": {},
   "source": [
    "## Выводы"
   ]
  },
  {
   "cell_type": "markdown",
   "metadata": {},
   "source": [
    "Таким образом, было проведено исследование, в ходе которого были изучены данные, произведена их подготовка, анализ и проверены гипотезы.\n",
    "\n",
    "Во время подготовки данных были исправлены ошибки, данные приведены к нужным типам. Также были дополнительно определены количество сделанных звонков и израсходованных минут разговора по месяцам, количество отправленных сообщений по месяцам, объем израсходованного интернет-трафика по месяцам, помесячная выручка с каждого пользователя.\n",
    "\n",
    "Во время анализа данных было изучено поведение клиентов оператора, исходя из выборки. У клиентов тарифа \"smart\" средняя продолжительность звонков 365.88 минут (среднее отклонение - 171.93 минуты), большая часть располагается в интервале 300 - 500 минут, среднее количество сообщений - 36.26 (среднее отклонение - 25.01), большая часть располагается в интервале 30 - 40 сообщений, среднее количество интернет-трафика - 15064.32 Мбайт (среднее отклонение - 5753.15), большая часть располагается в интервале 14000 - 18000 Мбайт. У клиентов тарифа \"ultra\" средняя продолжительность звонков 482.6 минут (среднее отклонение - 278.04), большая часть располагается в интервале 400 - 600 минут, среднее количество сообщений - 55.17 (среднее отклонение - 41.04), большая часть располагается в интервале 40 - 70 сообщений, среднее количество интернет-трафика - 18426.13 Мбайт (среднее отклонение - 9582.34), большая часть располагается в интервале 18000 - 20000 Мбайт. Клиенты тарифа \"ultra\" по сравнению с клиентами тарифа \"smart\" используют: на 31.9% больше времени звонков, на 52.2% больше сообщений, на 22.3% больше интернет-трафика.\n",
    "\n",
    "Во время проверки гипотез были получены следующие результаты:\n",
    "\n",
    "Первая гипотеза: p-значение составило 2.46e-230, нулевая гипотеза была отвергнута, результат проверки - выручки пользователей тарифов \"ультра\" и \"смарт\" разные.\n",
    "\n",
    "Вторая гипотеза: p-значение: 0.1, нулевая гипотеза не была отвергнута, результат проверки - средняя выручка пользователей из Москвы может и не отличаться от средней выручки пользователей из других регионов.\n",
    "\n",
    "Таким образом, можно сделать вывод: более выгодный тариф для компании - \"ультра\". Хотя и большинство клиентов используют тариф смарт, средняя выручка от клиентов, использующий тариф \"ультра\", выше."
   ]
  }
 ],
 "metadata": {
  "ExecuteTimeLog": [
   {
    "duration": 471,
    "start_time": "2022-05-04T14:30:50.509Z"
   },
   {
    "duration": 348,
    "start_time": "2022-05-04T14:31:47.761Z"
   },
   {
    "duration": 37,
    "start_time": "2022-05-04T14:32:17.491Z"
   },
   {
    "duration": 82,
    "start_time": "2022-05-04T14:32:54.786Z"
   },
   {
    "duration": 64,
    "start_time": "2022-05-04T14:33:08.770Z"
   },
   {
    "duration": 72,
    "start_time": "2022-05-04T14:33:20.421Z"
   },
   {
    "duration": 24,
    "start_time": "2022-05-04T14:33:33.877Z"
   },
   {
    "duration": 27,
    "start_time": "2022-05-04T14:33:49.651Z"
   },
   {
    "duration": 94,
    "start_time": "2022-05-04T14:33:59.567Z"
   },
   {
    "duration": 57,
    "start_time": "2022-05-04T14:34:11.858Z"
   },
   {
    "duration": 18,
    "start_time": "2022-05-04T14:34:19.179Z"
   },
   {
    "duration": 24,
    "start_time": "2022-05-04T14:34:35.443Z"
   },
   {
    "duration": 53,
    "start_time": "2022-05-04T14:34:48.671Z"
   },
   {
    "duration": 16,
    "start_time": "2022-05-04T14:34:55.897Z"
   },
   {
    "duration": 14,
    "start_time": "2022-05-04T14:35:12.067Z"
   },
   {
    "duration": 17,
    "start_time": "2022-05-04T14:35:24.816Z"
   },
   {
    "duration": 6,
    "start_time": "2022-05-04T14:35:43.362Z"
   },
   {
    "duration": 7,
    "start_time": "2022-05-04T14:35:47.479Z"
   },
   {
    "duration": 49,
    "start_time": "2022-05-04T14:36:16.245Z"
   },
   {
    "duration": 46,
    "start_time": "2022-05-04T14:36:26.344Z"
   },
   {
    "duration": 3,
    "start_time": "2022-05-04T14:36:38.410Z"
   },
   {
    "duration": 101,
    "start_time": "2022-05-04T14:36:51.333Z"
   },
   {
    "duration": 84,
    "start_time": "2022-05-04T14:37:04.649Z"
   },
   {
    "duration": 164,
    "start_time": "2022-05-04T14:37:14.337Z"
   },
   {
    "duration": 688,
    "start_time": "2022-05-04T14:37:26.601Z"
   },
   {
    "duration": 36,
    "start_time": "2022-05-04T14:37:27.290Z"
   },
   {
    "duration": 61,
    "start_time": "2022-05-04T14:37:27.328Z"
   },
   {
    "duration": 20,
    "start_time": "2022-05-04T14:37:27.391Z"
   },
   {
    "duration": 41,
    "start_time": "2022-05-04T14:37:27.413Z"
   },
   {
    "duration": 55,
    "start_time": "2022-05-04T14:37:27.456Z"
   },
   {
    "duration": 16,
    "start_time": "2022-05-04T14:37:27.512Z"
   },
   {
    "duration": 22,
    "start_time": "2022-05-04T14:37:27.548Z"
   },
   {
    "duration": 40,
    "start_time": "2022-05-04T14:37:27.571Z"
   },
   {
    "duration": 36,
    "start_time": "2022-05-04T14:37:27.612Z"
   },
   {
    "duration": 13,
    "start_time": "2022-05-04T14:37:27.650Z"
   },
   {
    "duration": 17,
    "start_time": "2022-05-04T14:37:27.665Z"
   },
   {
    "duration": 5,
    "start_time": "2022-05-04T14:37:27.683Z"
   },
   {
    "duration": 10,
    "start_time": "2022-05-04T14:37:27.690Z"
   },
   {
    "duration": 73,
    "start_time": "2022-05-04T14:37:27.701Z"
   },
   {
    "duration": 47,
    "start_time": "2022-05-04T14:37:27.775Z"
   },
   {
    "duration": 3,
    "start_time": "2022-05-04T14:37:27.823Z"
   },
   {
    "duration": 117,
    "start_time": "2022-05-04T14:37:27.828Z"
   },
   {
    "duration": 173,
    "start_time": "2022-05-04T14:37:27.947Z"
   },
   {
    "duration": 34,
    "start_time": "2022-05-04T14:38:41.218Z"
   },
   {
    "duration": 37,
    "start_time": "2022-05-04T14:38:54.173Z"
   },
   {
    "duration": 20,
    "start_time": "2022-05-04T14:39:06.888Z"
   },
   {
    "duration": 58,
    "start_time": "2022-05-04T14:39:20.062Z"
   },
   {
    "duration": 95,
    "start_time": "2022-05-04T14:39:33.323Z"
   },
   {
    "duration": 36,
    "start_time": "2022-05-04T14:39:46.452Z"
   },
   {
    "duration": 35,
    "start_time": "2022-05-04T14:40:02.670Z"
   },
   {
    "duration": 20,
    "start_time": "2022-05-04T14:40:15.720Z"
   },
   {
    "duration": 67,
    "start_time": "2022-05-04T14:40:31.137Z"
   },
   {
    "duration": 115,
    "start_time": "2022-05-04T14:40:44.588Z"
   },
   {
    "duration": 30,
    "start_time": "2022-05-04T14:40:56.782Z"
   },
   {
    "duration": 35,
    "start_time": "2022-05-04T14:41:12.383Z"
   },
   {
    "duration": 19,
    "start_time": "2022-05-04T14:41:26.517Z"
   },
   {
    "duration": 37,
    "start_time": "2022-05-04T14:41:38.552Z"
   },
   {
    "duration": 28,
    "start_time": "2022-05-04T14:42:08.491Z"
   },
   {
    "duration": 38,
    "start_time": "2022-05-04T14:42:26.236Z"
   },
   {
    "duration": 22,
    "start_time": "2022-05-04T14:42:41.493Z"
   },
   {
    "duration": 776,
    "start_time": "2022-05-04T14:43:29.133Z"
   },
   {
    "duration": 35,
    "start_time": "2022-05-04T14:43:29.911Z"
   },
   {
    "duration": 62,
    "start_time": "2022-05-04T14:43:29.948Z"
   },
   {
    "duration": 40,
    "start_time": "2022-05-04T14:43:30.011Z"
   },
   {
    "duration": 27,
    "start_time": "2022-05-04T14:43:30.052Z"
   },
   {
    "duration": 74,
    "start_time": "2022-05-04T14:43:30.080Z"
   },
   {
    "duration": 17,
    "start_time": "2022-05-04T14:43:30.156Z"
   },
   {
    "duration": 23,
    "start_time": "2022-05-04T14:43:30.174Z"
   },
   {
    "duration": 66,
    "start_time": "2022-05-04T14:43:30.198Z"
   },
   {
    "duration": 14,
    "start_time": "2022-05-04T14:43:30.267Z"
   },
   {
    "duration": 14,
    "start_time": "2022-05-04T14:43:30.283Z"
   },
   {
    "duration": 24,
    "start_time": "2022-05-04T14:43:30.298Z"
   },
   {
    "duration": 6,
    "start_time": "2022-05-04T14:43:30.347Z"
   },
   {
    "duration": 10,
    "start_time": "2022-05-04T14:43:30.355Z"
   },
   {
    "duration": 49,
    "start_time": "2022-05-04T14:43:30.367Z"
   },
   {
    "duration": 65,
    "start_time": "2022-05-04T14:43:30.417Z"
   },
   {
    "duration": 3,
    "start_time": "2022-05-04T14:43:30.484Z"
   },
   {
    "duration": 115,
    "start_time": "2022-05-04T14:43:30.489Z"
   },
   {
    "duration": 173,
    "start_time": "2022-05-04T14:43:30.606Z"
   },
   {
    "duration": 34,
    "start_time": "2022-05-04T14:43:30.780Z"
   },
   {
    "duration": 57,
    "start_time": "2022-05-04T14:43:30.816Z"
   },
   {
    "duration": 18,
    "start_time": "2022-05-04T14:43:30.875Z"
   },
   {
    "duration": 77,
    "start_time": "2022-05-04T14:43:30.894Z"
   },
   {
    "duration": 110,
    "start_time": "2022-05-04T14:43:30.973Z"
   },
   {
    "duration": 34,
    "start_time": "2022-05-04T14:43:31.084Z"
   },
   {
    "duration": 39,
    "start_time": "2022-05-04T14:43:31.120Z"
   },
   {
    "duration": 29,
    "start_time": "2022-05-04T14:43:31.161Z"
   },
   {
    "duration": 71,
    "start_time": "2022-05-04T14:43:31.193Z"
   },
   {
    "duration": 113,
    "start_time": "2022-05-04T14:43:31.266Z"
   },
   {
    "duration": 31,
    "start_time": "2022-05-04T14:43:31.381Z"
   },
   {
    "duration": 40,
    "start_time": "2022-05-04T14:43:31.414Z"
   },
   {
    "duration": 20,
    "start_time": "2022-05-04T14:43:31.455Z"
   },
   {
    "duration": 34,
    "start_time": "2022-05-04T14:43:31.476Z"
   },
   {
    "duration": 40,
    "start_time": "2022-05-04T14:43:31.512Z"
   },
   {
    "duration": 36,
    "start_time": "2022-05-04T14:43:31.554Z"
   },
   {
    "duration": 21,
    "start_time": "2022-05-04T14:43:31.592Z"
   },
   {
    "duration": 11,
    "start_time": "2022-05-04T14:54:05.925Z"
   },
   {
    "duration": 28,
    "start_time": "2022-05-04T15:07:45.501Z"
   },
   {
    "duration": 42,
    "start_time": "2022-05-04T15:07:48.345Z"
   },
   {
    "duration": 47,
    "start_time": "2022-05-04T15:08:16.579Z"
   },
   {
    "duration": 28,
    "start_time": "2022-05-04T15:08:23.548Z"
   },
   {
    "duration": 37,
    "start_time": "2022-05-04T15:08:26.444Z"
   },
   {
    "duration": 37,
    "start_time": "2022-05-04T15:09:33.659Z"
   },
   {
    "duration": 15,
    "start_time": "2022-05-04T15:16:49.733Z"
   },
   {
    "duration": 12,
    "start_time": "2022-05-04T15:18:47.160Z"
   },
   {
    "duration": 12,
    "start_time": "2022-05-04T15:19:01.443Z"
   },
   {
    "duration": 14,
    "start_time": "2022-05-04T15:19:40.619Z"
   },
   {
    "duration": 14,
    "start_time": "2022-05-04T15:20:16.924Z"
   },
   {
    "duration": 105,
    "start_time": "2022-05-04T15:20:33.635Z"
   },
   {
    "duration": 9,
    "start_time": "2022-05-04T15:20:46.343Z"
   },
   {
    "duration": 23,
    "start_time": "2022-05-04T15:21:14.813Z"
   },
   {
    "duration": 8,
    "start_time": "2022-05-04T15:21:33.122Z"
   },
   {
    "duration": 10,
    "start_time": "2022-05-04T15:51:14.883Z"
   },
   {
    "duration": 31,
    "start_time": "2022-05-04T15:51:30.793Z"
   },
   {
    "duration": 6,
    "start_time": "2022-05-04T15:51:43.824Z"
   },
   {
    "duration": 6,
    "start_time": "2022-05-04T15:52:16.179Z"
   },
   {
    "duration": 7,
    "start_time": "2022-05-04T15:52:44.894Z"
   },
   {
    "duration": 8,
    "start_time": "2022-05-04T15:52:51.254Z"
   },
   {
    "duration": 18,
    "start_time": "2022-05-04T16:13:42.612Z"
   },
   {
    "duration": 1317,
    "start_time": "2022-05-04T16:14:13.767Z"
   },
   {
    "duration": 207,
    "start_time": "2022-05-04T16:14:25.021Z"
   },
   {
    "duration": 272,
    "start_time": "2022-05-04T16:14:32.209Z"
   },
   {
    "duration": 146,
    "start_time": "2022-05-04T16:14:36.404Z"
   },
   {
    "duration": 186,
    "start_time": "2022-05-04T16:14:39.519Z"
   },
   {
    "duration": 173,
    "start_time": "2022-05-04T16:14:42.822Z"
   },
   {
    "duration": 195,
    "start_time": "2022-05-04T16:14:46.118Z"
   },
   {
    "duration": 170,
    "start_time": "2022-05-04T16:14:49.160Z"
   },
   {
    "duration": 290,
    "start_time": "2022-05-04T16:14:52.934Z"
   },
   {
    "duration": 216,
    "start_time": "2022-05-04T16:14:56.993Z"
   },
   {
    "duration": 1370,
    "start_time": "2022-05-04T16:20:06.346Z"
   },
   {
    "duration": 56,
    "start_time": "2022-05-04T16:20:07.719Z"
   },
   {
    "duration": 109,
    "start_time": "2022-05-04T16:20:07.777Z"
   },
   {
    "duration": 30,
    "start_time": "2022-05-04T16:20:07.889Z"
   },
   {
    "duration": 43,
    "start_time": "2022-05-04T16:20:07.921Z"
   },
   {
    "duration": 60,
    "start_time": "2022-05-04T16:20:07.966Z"
   },
   {
    "duration": 18,
    "start_time": "2022-05-04T16:20:08.048Z"
   },
   {
    "duration": 23,
    "start_time": "2022-05-04T16:20:08.068Z"
   },
   {
    "duration": 68,
    "start_time": "2022-05-04T16:20:08.093Z"
   },
   {
    "duration": 15,
    "start_time": "2022-05-04T16:20:08.164Z"
   },
   {
    "duration": 15,
    "start_time": "2022-05-04T16:20:08.180Z"
   },
   {
    "duration": 21,
    "start_time": "2022-05-04T16:20:08.197Z"
   },
   {
    "duration": 6,
    "start_time": "2022-05-04T16:20:08.248Z"
   },
   {
    "duration": 13,
    "start_time": "2022-05-04T16:20:08.256Z"
   },
   {
    "duration": 50,
    "start_time": "2022-05-04T16:20:08.270Z"
   },
   {
    "duration": 71,
    "start_time": "2022-05-04T16:20:08.322Z"
   },
   {
    "duration": 4,
    "start_time": "2022-05-04T16:20:08.395Z"
   },
   {
    "duration": 124,
    "start_time": "2022-05-04T16:20:08.400Z"
   },
   {
    "duration": 192,
    "start_time": "2022-05-04T16:20:08.526Z"
   },
   {
    "duration": 44,
    "start_time": "2022-05-04T16:20:08.720Z"
   },
   {
    "duration": 40,
    "start_time": "2022-05-04T16:20:08.766Z"
   },
   {
    "duration": 42,
    "start_time": "2022-05-04T16:20:08.808Z"
   },
   {
    "duration": 59,
    "start_time": "2022-05-04T16:20:08.852Z"
   },
   {
    "duration": 122,
    "start_time": "2022-05-04T16:20:08.912Z"
   },
   {
    "duration": 45,
    "start_time": "2022-05-04T16:20:09.036Z"
   },
   {
    "duration": 37,
    "start_time": "2022-05-04T16:20:09.083Z"
   },
   {
    "duration": 42,
    "start_time": "2022-05-04T16:20:09.122Z"
   },
   {
    "duration": 108,
    "start_time": "2022-05-04T16:20:09.169Z"
   },
   {
    "duration": 170,
    "start_time": "2022-05-04T16:20:09.279Z"
   },
   {
    "duration": 37,
    "start_time": "2022-05-04T16:20:09.451Z"
   },
   {
    "duration": 60,
    "start_time": "2022-05-04T16:20:09.489Z"
   },
   {
    "duration": 21,
    "start_time": "2022-05-04T16:20:09.551Z"
   },
   {
    "duration": 40,
    "start_time": "2022-05-04T16:20:09.573Z"
   },
   {
    "duration": 52,
    "start_time": "2022-05-04T16:20:09.615Z"
   },
   {
    "duration": 40,
    "start_time": "2022-05-04T16:20:09.668Z"
   },
   {
    "duration": 38,
    "start_time": "2022-05-04T16:20:09.710Z"
   },
   {
    "duration": 597,
    "start_time": "2022-05-04T16:20:09.750Z"
   },
   {
    "duration": 26,
    "start_time": "2022-05-04T16:21:05.356Z"
   },
   {
    "duration": 11,
    "start_time": "2022-05-04T16:21:14.363Z"
   },
   {
    "duration": 13,
    "start_time": "2022-05-04T16:21:33.610Z"
   },
   {
    "duration": 5,
    "start_time": "2022-05-04T16:21:37.023Z"
   },
   {
    "duration": 4,
    "start_time": "2022-05-04T16:21:43.703Z"
   },
   {
    "duration": 5,
    "start_time": "2022-05-04T16:21:47.198Z"
   },
   {
    "duration": 2635,
    "start_time": "2022-05-04T16:22:05.563Z"
   },
   {
    "duration": 1406,
    "start_time": "2022-05-04T16:22:16.630Z"
   },
   {
    "duration": 5,
    "start_time": "2022-05-04T16:22:33.199Z"
   },
   {
    "duration": 41,
    "start_time": "2022-05-04T16:22:55.190Z"
   },
   {
    "duration": 43,
    "start_time": "2022-05-04T16:23:19.567Z"
   },
   {
    "duration": 43,
    "start_time": "2022-05-04T16:23:57.396Z"
   },
   {
    "duration": 14,
    "start_time": "2022-05-04T16:24:22.617Z"
   },
   {
    "duration": 11,
    "start_time": "2022-05-04T16:24:41.779Z"
   },
   {
    "duration": 14,
    "start_time": "2022-05-04T16:24:45.646Z"
   },
   {
    "duration": 5,
    "start_time": "2022-05-04T16:24:51.704Z"
   },
   {
    "duration": 5,
    "start_time": "2022-05-04T16:25:08.527Z"
   },
   {
    "duration": 10,
    "start_time": "2022-05-04T16:28:24.604Z"
   },
   {
    "duration": 421,
    "start_time": "2022-05-04T16:29:24.295Z"
   },
   {
    "duration": 37,
    "start_time": "2022-05-04T16:29:24.718Z"
   },
   {
    "duration": 79,
    "start_time": "2022-05-04T16:29:24.757Z"
   },
   {
    "duration": 22,
    "start_time": "2022-05-04T16:29:24.850Z"
   },
   {
    "duration": 48,
    "start_time": "2022-05-04T16:29:24.875Z"
   },
   {
    "duration": 68,
    "start_time": "2022-05-04T16:29:24.925Z"
   },
   {
    "duration": 16,
    "start_time": "2022-05-04T16:29:24.995Z"
   },
   {
    "duration": 44,
    "start_time": "2022-05-04T16:29:25.013Z"
   },
   {
    "duration": 55,
    "start_time": "2022-05-04T16:29:25.066Z"
   },
   {
    "duration": 13,
    "start_time": "2022-05-04T16:29:25.124Z"
   },
   {
    "duration": 27,
    "start_time": "2022-05-04T16:29:25.139Z"
   },
   {
    "duration": 48,
    "start_time": "2022-05-04T16:29:25.168Z"
   },
   {
    "duration": 6,
    "start_time": "2022-05-04T16:29:25.218Z"
   },
   {
    "duration": 12,
    "start_time": "2022-05-04T16:29:25.227Z"
   },
   {
    "duration": 89,
    "start_time": "2022-05-04T16:29:25.241Z"
   },
   {
    "duration": 46,
    "start_time": "2022-05-04T16:29:25.332Z"
   },
   {
    "duration": 4,
    "start_time": "2022-05-04T16:29:25.380Z"
   },
   {
    "duration": 119,
    "start_time": "2022-05-04T16:29:25.386Z"
   },
   {
    "duration": 205,
    "start_time": "2022-05-04T16:29:25.507Z"
   },
   {
    "duration": 59,
    "start_time": "2022-05-04T16:29:25.714Z"
   },
   {
    "duration": 43,
    "start_time": "2022-05-04T16:29:25.777Z"
   },
   {
    "duration": 27,
    "start_time": "2022-05-04T16:29:25.822Z"
   },
   {
    "duration": 85,
    "start_time": "2022-05-04T16:29:25.851Z"
   },
   {
    "duration": 136,
    "start_time": "2022-05-04T16:29:25.938Z"
   },
   {
    "duration": 55,
    "start_time": "2022-05-04T16:29:26.076Z"
   },
   {
    "duration": 62,
    "start_time": "2022-05-04T16:29:26.133Z"
   },
   {
    "duration": 29,
    "start_time": "2022-05-04T16:29:26.197Z"
   },
   {
    "duration": 90,
    "start_time": "2022-05-04T16:29:26.229Z"
   },
   {
    "duration": 125,
    "start_time": "2022-05-04T16:29:26.321Z"
   },
   {
    "duration": 41,
    "start_time": "2022-05-04T16:29:26.449Z"
   },
   {
    "duration": 76,
    "start_time": "2022-05-04T16:29:26.492Z"
   },
   {
    "duration": 30,
    "start_time": "2022-05-04T16:29:26.570Z"
   },
   {
    "duration": 38,
    "start_time": "2022-05-04T16:29:26.603Z"
   },
   {
    "duration": 43,
    "start_time": "2022-05-04T16:29:26.649Z"
   },
   {
    "duration": 55,
    "start_time": "2022-05-04T16:29:26.697Z"
   },
   {
    "duration": 4,
    "start_time": "2022-05-04T16:29:26.754Z"
   },
   {
    "duration": 43,
    "start_time": "2022-05-04T16:29:26.759Z"
   },
   {
    "duration": 15,
    "start_time": "2022-05-04T16:29:26.805Z"
   },
   {
    "duration": 159,
    "start_time": "2022-05-04T16:29:44.746Z"
   },
   {
    "duration": 9,
    "start_time": "2022-05-04T16:30:07.305Z"
   },
   {
    "duration": 9,
    "start_time": "2022-05-04T18:15:44.229Z"
   },
   {
    "duration": 9,
    "start_time": "2022-05-04T18:15:52.285Z"
   },
   {
    "duration": 5,
    "start_time": "2022-05-04T18:15:53.373Z"
   },
   {
    "duration": 9,
    "start_time": "2022-05-04T18:15:59.954Z"
   },
   {
    "duration": 4,
    "start_time": "2022-05-04T18:16:03.782Z"
   },
   {
    "duration": 10,
    "start_time": "2022-05-04T18:16:13.714Z"
   },
   {
    "duration": 6,
    "start_time": "2022-05-04T18:16:34.138Z"
   },
   {
    "duration": 114,
    "start_time": "2022-05-04T18:17:07.871Z"
   },
   {
    "duration": 21,
    "start_time": "2022-05-04T18:17:38.549Z"
   },
   {
    "duration": 18,
    "start_time": "2022-05-04T18:17:50.304Z"
   },
   {
    "duration": 15,
    "start_time": "2022-05-04T18:17:53.726Z"
   },
   {
    "duration": 10,
    "start_time": "2022-05-04T18:20:09.805Z"
   },
   {
    "duration": 20,
    "start_time": "2022-05-04T18:20:32.617Z"
   },
   {
    "duration": 6,
    "start_time": "2022-05-04T18:20:40.599Z"
   },
   {
    "duration": 30,
    "start_time": "2022-05-04T18:21:07.936Z"
   },
   {
    "duration": 8,
    "start_time": "2022-05-04T18:21:40.610Z"
   },
   {
    "duration": 8,
    "start_time": "2022-05-04T18:21:44.519Z"
   },
   {
    "duration": 82,
    "start_time": "2022-05-04T18:21:49.324Z"
   },
   {
    "duration": 19,
    "start_time": "2022-05-04T18:21:54.733Z"
   },
   {
    "duration": 12,
    "start_time": "2022-05-04T18:22:24.924Z"
   },
   {
    "duration": 20,
    "start_time": "2022-05-04T18:22:36.867Z"
   },
   {
    "duration": 6,
    "start_time": "2022-05-04T18:22:47.468Z"
   },
   {
    "duration": 1472,
    "start_time": "2022-05-04T18:27:38.169Z"
   },
   {
    "duration": 35,
    "start_time": "2022-05-04T18:27:39.643Z"
   },
   {
    "duration": 82,
    "start_time": "2022-05-04T18:27:39.682Z"
   },
   {
    "duration": 21,
    "start_time": "2022-05-04T18:27:39.765Z"
   },
   {
    "duration": 27,
    "start_time": "2022-05-04T18:27:39.788Z"
   },
   {
    "duration": 78,
    "start_time": "2022-05-04T18:27:39.816Z"
   },
   {
    "duration": 18,
    "start_time": "2022-05-04T18:27:39.895Z"
   },
   {
    "duration": 51,
    "start_time": "2022-05-04T18:27:39.915Z"
   },
   {
    "duration": 86,
    "start_time": "2022-05-04T18:27:39.969Z"
   },
   {
    "duration": 21,
    "start_time": "2022-05-04T18:27:40.057Z"
   },
   {
    "duration": 21,
    "start_time": "2022-05-04T18:27:40.080Z"
   },
   {
    "duration": 51,
    "start_time": "2022-05-04T18:27:40.103Z"
   },
   {
    "duration": 8,
    "start_time": "2022-05-04T18:27:40.156Z"
   },
   {
    "duration": 19,
    "start_time": "2022-05-04T18:27:40.166Z"
   },
   {
    "duration": 61,
    "start_time": "2022-05-04T18:27:40.187Z"
   },
   {
    "duration": 50,
    "start_time": "2022-05-04T18:27:40.249Z"
   },
   {
    "duration": 3,
    "start_time": "2022-05-04T18:27:40.301Z"
   },
   {
    "duration": 125,
    "start_time": "2022-05-04T18:27:40.306Z"
   },
   {
    "duration": 179,
    "start_time": "2022-05-04T18:27:40.432Z"
   },
   {
    "duration": 48,
    "start_time": "2022-05-04T18:27:40.613Z"
   },
   {
    "duration": 40,
    "start_time": "2022-05-04T18:27:40.663Z"
   },
   {
    "duration": 46,
    "start_time": "2022-05-04T18:27:40.704Z"
   },
   {
    "duration": 72,
    "start_time": "2022-05-04T18:27:40.752Z"
   },
   {
    "duration": 118,
    "start_time": "2022-05-04T18:27:40.825Z"
   },
   {
    "duration": 34,
    "start_time": "2022-05-04T18:27:40.948Z"
   },
   {
    "duration": 37,
    "start_time": "2022-05-04T18:27:40.983Z"
   },
   {
    "duration": 43,
    "start_time": "2022-05-04T18:27:41.023Z"
   },
   {
    "duration": 83,
    "start_time": "2022-05-04T18:27:41.068Z"
   },
   {
    "duration": 123,
    "start_time": "2022-05-04T18:27:41.152Z"
   },
   {
    "duration": 34,
    "start_time": "2022-05-04T18:27:41.276Z"
   },
   {
    "duration": 54,
    "start_time": "2022-05-04T18:27:41.311Z"
   },
   {
    "duration": 19,
    "start_time": "2022-05-04T18:27:41.367Z"
   },
   {
    "duration": 37,
    "start_time": "2022-05-04T18:27:41.387Z"
   },
   {
    "duration": 49,
    "start_time": "2022-05-04T18:27:41.426Z"
   },
   {
    "duration": 73,
    "start_time": "2022-05-04T18:27:41.476Z"
   },
   {
    "duration": 5,
    "start_time": "2022-05-04T18:27:41.551Z"
   },
   {
    "duration": 101,
    "start_time": "2022-05-04T18:27:41.558Z"
   },
   {
    "duration": 0,
    "start_time": "2022-05-04T18:27:41.660Z"
   },
   {
    "duration": 0,
    "start_time": "2022-05-04T18:27:41.661Z"
   },
   {
    "duration": 0,
    "start_time": "2022-05-04T18:27:41.662Z"
   },
   {
    "duration": 412,
    "start_time": "2022-05-04T18:30:41.009Z"
   },
   {
    "duration": 29,
    "start_time": "2022-05-04T18:30:41.423Z"
   },
   {
    "duration": 57,
    "start_time": "2022-05-04T18:30:41.454Z"
   },
   {
    "duration": 36,
    "start_time": "2022-05-04T18:30:41.513Z"
   },
   {
    "duration": 27,
    "start_time": "2022-05-04T18:30:41.551Z"
   },
   {
    "duration": 70,
    "start_time": "2022-05-04T18:30:41.580Z"
   },
   {
    "duration": 14,
    "start_time": "2022-05-04T18:30:41.651Z"
   },
   {
    "duration": 22,
    "start_time": "2022-05-04T18:30:41.666Z"
   },
   {
    "duration": 64,
    "start_time": "2022-05-04T18:30:41.690Z"
   },
   {
    "duration": 13,
    "start_time": "2022-05-04T18:30:41.756Z"
   },
   {
    "duration": 15,
    "start_time": "2022-05-04T18:30:41.771Z"
   },
   {
    "duration": 17,
    "start_time": "2022-05-04T18:30:41.787Z"
   },
   {
    "duration": 42,
    "start_time": "2022-05-04T18:30:41.806Z"
   },
   {
    "duration": 6,
    "start_time": "2022-05-04T18:30:41.852Z"
   },
   {
    "duration": 49,
    "start_time": "2022-05-04T18:30:41.860Z"
   },
   {
    "duration": 51,
    "start_time": "2022-05-04T18:30:41.911Z"
   },
   {
    "duration": 3,
    "start_time": "2022-05-04T18:30:41.964Z"
   },
   {
    "duration": 107,
    "start_time": "2022-05-04T18:30:41.969Z"
   },
   {
    "duration": 158,
    "start_time": "2022-05-04T18:30:42.077Z"
   },
   {
    "duration": 42,
    "start_time": "2022-05-04T18:30:42.236Z"
   },
   {
    "duration": 38,
    "start_time": "2022-05-04T18:30:42.280Z"
   },
   {
    "duration": 40,
    "start_time": "2022-05-04T18:30:42.320Z"
   },
   {
    "duration": 57,
    "start_time": "2022-05-04T18:30:42.361Z"
   },
   {
    "duration": 114,
    "start_time": "2022-05-04T18:30:42.419Z"
   },
   {
    "duration": 41,
    "start_time": "2022-05-04T18:30:42.534Z"
   },
   {
    "duration": 39,
    "start_time": "2022-05-04T18:30:42.576Z"
   },
   {
    "duration": 46,
    "start_time": "2022-05-04T18:30:42.617Z"
   },
   {
    "duration": 66,
    "start_time": "2022-05-04T18:30:42.665Z"
   },
   {
    "duration": 122,
    "start_time": "2022-05-04T18:30:42.732Z"
   },
   {
    "duration": 33,
    "start_time": "2022-05-04T18:30:42.856Z"
   },
   {
    "duration": 58,
    "start_time": "2022-05-04T18:30:42.891Z"
   },
   {
    "duration": 20,
    "start_time": "2022-05-04T18:30:42.951Z"
   },
   {
    "duration": 77,
    "start_time": "2022-05-04T18:30:42.973Z"
   },
   {
    "duration": 42,
    "start_time": "2022-05-04T18:30:43.052Z"
   },
   {
    "duration": 77,
    "start_time": "2022-05-04T18:30:43.096Z"
   },
   {
    "duration": 5,
    "start_time": "2022-05-04T18:30:43.175Z"
   },
   {
    "duration": 23,
    "start_time": "2022-05-04T18:30:43.182Z"
   },
   {
    "duration": 0,
    "start_time": "2022-05-04T18:30:43.207Z"
   },
   {
    "duration": 0,
    "start_time": "2022-05-04T18:30:43.208Z"
   },
   {
    "duration": 0,
    "start_time": "2022-05-04T18:30:43.209Z"
   },
   {
    "duration": 12,
    "start_time": "2022-05-04T18:30:53.723Z"
   },
   {
    "duration": 20,
    "start_time": "2022-05-04T18:30:54.572Z"
   },
   {
    "duration": 5,
    "start_time": "2022-05-04T18:30:55.359Z"
   },
   {
    "duration": 647,
    "start_time": "2022-05-04T18:31:57.912Z"
   },
   {
    "duration": 3,
    "start_time": "2022-05-04T18:36:38.481Z"
   },
   {
    "duration": 17,
    "start_time": "2022-05-04T18:36:43.613Z"
   },
   {
    "duration": 16,
    "start_time": "2022-05-04T18:36:50.468Z"
   },
   {
    "duration": 9,
    "start_time": "2022-05-04T18:36:56.770Z"
   },
   {
    "duration": 260,
    "start_time": "2022-05-04T18:41:03.927Z"
   },
   {
    "duration": 3,
    "start_time": "2022-05-04T18:41:11.475Z"
   },
   {
    "duration": 10,
    "start_time": "2022-05-04T18:41:17.706Z"
   },
   {
    "duration": 9,
    "start_time": "2022-05-04T18:41:22.960Z"
   },
   {
    "duration": 3,
    "start_time": "2022-05-04T18:41:26.419Z"
   },
   {
    "duration": 117,
    "start_time": "2022-05-04T18:41:28.114Z"
   },
   {
    "duration": 3,
    "start_time": "2022-05-04T18:41:35.311Z"
   },
   {
    "duration": 140,
    "start_time": "2022-05-04T18:41:37.129Z"
   },
   {
    "duration": 335,
    "start_time": "2022-05-04T18:41:46.013Z"
   },
   {
    "duration": 3,
    "start_time": "2022-05-04T18:43:18.873Z"
   },
   {
    "duration": 292,
    "start_time": "2022-05-04T18:43:21.295Z"
   },
   {
    "duration": 4,
    "start_time": "2022-05-04T18:44:10.285Z"
   },
   {
    "duration": 203,
    "start_time": "2022-05-04T18:44:12.286Z"
   },
   {
    "duration": 11,
    "start_time": "2022-05-04T18:44:36.500Z"
   },
   {
    "duration": 233,
    "start_time": "2022-05-04T18:44:38.025Z"
   },
   {
    "duration": 15,
    "start_time": "2022-05-04T18:45:15.014Z"
   },
   {
    "duration": 1551,
    "start_time": "2022-05-04T18:45:57.123Z"
   },
   {
    "duration": 56,
    "start_time": "2022-05-04T18:45:58.677Z"
   },
   {
    "duration": 95,
    "start_time": "2022-05-04T18:45:58.735Z"
   },
   {
    "duration": 41,
    "start_time": "2022-05-04T18:45:58.832Z"
   },
   {
    "duration": 43,
    "start_time": "2022-05-04T18:45:58.876Z"
   },
   {
    "duration": 106,
    "start_time": "2022-05-04T18:45:58.921Z"
   },
   {
    "duration": 35,
    "start_time": "2022-05-04T18:45:59.029Z"
   },
   {
    "duration": 37,
    "start_time": "2022-05-04T18:45:59.066Z"
   },
   {
    "duration": 88,
    "start_time": "2022-05-04T18:45:59.105Z"
   },
   {
    "duration": 16,
    "start_time": "2022-05-04T18:45:59.195Z"
   },
   {
    "duration": 14,
    "start_time": "2022-05-04T18:45:59.213Z"
   },
   {
    "duration": 19,
    "start_time": "2022-05-04T18:45:59.248Z"
   },
   {
    "duration": 8,
    "start_time": "2022-05-04T18:45:59.268Z"
   },
   {
    "duration": 9,
    "start_time": "2022-05-04T18:45:59.279Z"
   },
   {
    "duration": 69,
    "start_time": "2022-05-04T18:45:59.290Z"
   },
   {
    "duration": 47,
    "start_time": "2022-05-04T18:45:59.361Z"
   },
   {
    "duration": 3,
    "start_time": "2022-05-04T18:45:59.410Z"
   },
   {
    "duration": 128,
    "start_time": "2022-05-04T18:45:59.415Z"
   },
   {
    "duration": 174,
    "start_time": "2022-05-04T18:45:59.545Z"
   },
   {
    "duration": 46,
    "start_time": "2022-05-04T18:45:59.721Z"
   },
   {
    "duration": 38,
    "start_time": "2022-05-04T18:45:59.769Z"
   },
   {
    "duration": 38,
    "start_time": "2022-05-04T18:45:59.809Z"
   },
   {
    "duration": 57,
    "start_time": "2022-05-04T18:45:59.849Z"
   },
   {
    "duration": 117,
    "start_time": "2022-05-04T18:45:59.908Z"
   },
   {
    "duration": 45,
    "start_time": "2022-05-04T18:46:00.027Z"
   },
   {
    "duration": 37,
    "start_time": "2022-05-04T18:46:00.074Z"
   },
   {
    "duration": 39,
    "start_time": "2022-05-04T18:46:00.113Z"
   },
   {
    "duration": 74,
    "start_time": "2022-05-04T18:46:00.153Z"
   },
   {
    "duration": 126,
    "start_time": "2022-05-04T18:46:00.228Z"
   },
   {
    "duration": 34,
    "start_time": "2022-05-04T18:46:00.356Z"
   },
   {
    "duration": 57,
    "start_time": "2022-05-04T18:46:00.392Z"
   },
   {
    "duration": 20,
    "start_time": "2022-05-04T18:46:00.451Z"
   },
   {
    "duration": 49,
    "start_time": "2022-05-04T18:46:00.473Z"
   },
   {
    "duration": 36,
    "start_time": "2022-05-04T18:46:00.524Z"
   },
   {
    "duration": 40,
    "start_time": "2022-05-04T18:46:00.562Z"
   },
   {
    "duration": 118,
    "start_time": "2022-05-04T18:46:00.603Z"
   },
   {
    "duration": 14,
    "start_time": "2022-05-04T18:46:25.147Z"
   },
   {
    "duration": 198,
    "start_time": "2022-05-04T18:46:35.642Z"
   },
   {
    "duration": 30,
    "start_time": "2022-05-04T18:46:45.343Z"
   },
   {
    "duration": 1808,
    "start_time": "2022-05-04T18:46:52.769Z"
   },
   {
    "duration": 1802,
    "start_time": "2022-05-04T18:47:09.040Z"
   },
   {
    "duration": 3432,
    "start_time": "2022-05-04T18:47:20.173Z"
   },
   {
    "duration": 3017,
    "start_time": "2022-05-04T18:47:36.667Z"
   },
   {
    "duration": 2218,
    "start_time": "2022-05-04T19:02:22.121Z"
   },
   {
    "duration": 1636,
    "start_time": "2022-05-04T19:02:36.434Z"
   },
   {
    "duration": 1836,
    "start_time": "2022-05-04T19:02:55.918Z"
   },
   {
    "duration": 23,
    "start_time": "2022-05-04T19:09:09.525Z"
   },
   {
    "duration": 19,
    "start_time": "2022-05-04T19:09:35.933Z"
   },
   {
    "duration": 20,
    "start_time": "2022-05-04T19:10:12.913Z"
   },
   {
    "duration": 16,
    "start_time": "2022-05-04T19:10:26.022Z"
   },
   {
    "duration": 16,
    "start_time": "2022-05-04T19:11:59.887Z"
   },
   {
    "duration": 6,
    "start_time": "2022-05-04T19:12:09.026Z"
   },
   {
    "duration": 87,
    "start_time": "2022-05-04T19:13:07.843Z"
   },
   {
    "duration": 17,
    "start_time": "2022-05-04T19:13:25.329Z"
   },
   {
    "duration": 11,
    "start_time": "2022-05-04T19:13:27.135Z"
   },
   {
    "duration": 25,
    "start_time": "2022-05-04T19:14:11.594Z"
   },
   {
    "duration": 19,
    "start_time": "2022-05-04T19:14:17.661Z"
   },
   {
    "duration": 11,
    "start_time": "2022-05-04T19:14:19.418Z"
   },
   {
    "duration": 16,
    "start_time": "2022-05-04T19:14:54.604Z"
   },
   {
    "duration": 10,
    "start_time": "2022-05-04T19:14:56.161Z"
   },
   {
    "duration": 17,
    "start_time": "2022-05-04T19:15:08.221Z"
   },
   {
    "duration": 11,
    "start_time": "2022-05-04T19:15:10.078Z"
   },
   {
    "duration": 20,
    "start_time": "2022-05-04T19:16:46.145Z"
   },
   {
    "duration": 16,
    "start_time": "2022-05-04T19:16:47.667Z"
   },
   {
    "duration": 18,
    "start_time": "2022-05-04T19:17:57.872Z"
   },
   {
    "duration": 26,
    "start_time": "2022-05-04T19:18:05.476Z"
   },
   {
    "duration": 24,
    "start_time": "2022-05-04T19:18:08.311Z"
   },
   {
    "duration": 1783,
    "start_time": "2022-05-04T19:18:15.701Z"
   },
   {
    "duration": 1917,
    "start_time": "2022-05-04T19:56:50.649Z"
   },
   {
    "duration": 6315,
    "start_time": "2022-05-04T19:59:04.306Z"
   },
   {
    "duration": 797,
    "start_time": "2022-05-04T19:59:44.164Z"
   },
   {
    "duration": 34,
    "start_time": "2022-05-04T20:12:14.339Z"
   },
   {
    "duration": 28,
    "start_time": "2022-05-04T20:12:24.446Z"
   },
   {
    "duration": 38,
    "start_time": "2022-05-04T20:12:56.690Z"
   },
   {
    "duration": 15,
    "start_time": "2022-05-04T20:14:07.643Z"
   },
   {
    "duration": 8,
    "start_time": "2022-05-04T20:14:27.079Z"
   },
   {
    "duration": 6,
    "start_time": "2022-05-04T20:14:36.163Z"
   },
   {
    "duration": 10,
    "start_time": "2022-05-04T20:14:43.041Z"
   },
   {
    "duration": 6,
    "start_time": "2022-05-04T20:14:48.740Z"
   },
   {
    "duration": 14,
    "start_time": "2022-05-04T20:15:25.246Z"
   },
   {
    "duration": 93,
    "start_time": "2022-05-04T20:15:32.419Z"
   },
   {
    "duration": 12,
    "start_time": "2022-05-04T20:15:38.165Z"
   },
   {
    "duration": 15,
    "start_time": "2022-05-04T20:15:41.635Z"
   },
   {
    "duration": 11,
    "start_time": "2022-05-04T20:15:55.922Z"
   },
   {
    "duration": 19,
    "start_time": "2022-05-04T20:16:36.738Z"
   },
   {
    "duration": 15,
    "start_time": "2022-05-04T20:16:42.193Z"
   },
   {
    "duration": 213,
    "start_time": "2022-05-04T20:17:24.260Z"
   },
   {
    "duration": 15,
    "start_time": "2022-05-04T20:20:39.249Z"
   },
   {
    "duration": 73,
    "start_time": "2022-05-04T20:21:17.513Z"
   },
   {
    "duration": 32,
    "start_time": "2022-05-04T20:22:28.243Z"
   },
   {
    "duration": 6,
    "start_time": "2022-05-04T20:24:35.180Z"
   },
   {
    "duration": 18,
    "start_time": "2022-05-04T20:27:32.313Z"
   },
   {
    "duration": 19,
    "start_time": "2022-05-04T20:27:39.426Z"
   },
   {
    "duration": 7,
    "start_time": "2022-05-04T20:28:04.287Z"
   },
   {
    "duration": 20,
    "start_time": "2022-05-04T20:31:01.200Z"
   },
   {
    "duration": 27,
    "start_time": "2022-05-04T20:31:15.264Z"
   },
   {
    "duration": 109,
    "start_time": "2022-05-04T20:31:25.491Z"
   },
   {
    "duration": 20,
    "start_time": "2022-05-04T20:31:50.264Z"
   },
   {
    "duration": 107,
    "start_time": "2022-05-04T20:32:08.295Z"
   },
   {
    "duration": 28,
    "start_time": "2022-05-04T20:32:17.123Z"
   },
   {
    "duration": 29,
    "start_time": "2022-05-04T20:32:24.461Z"
   },
   {
    "duration": 105,
    "start_time": "2022-05-04T20:32:38.719Z"
   },
   {
    "duration": 20,
    "start_time": "2022-05-04T20:32:42.999Z"
   },
   {
    "duration": 14,
    "start_time": "2022-05-04T20:36:27.293Z"
   },
   {
    "duration": 8,
    "start_time": "2022-05-04T20:36:36.981Z"
   },
   {
    "duration": 12,
    "start_time": "2022-05-04T20:36:45.164Z"
   },
   {
    "duration": 9,
    "start_time": "2022-05-04T20:37:06.346Z"
   },
   {
    "duration": 4,
    "start_time": "2022-05-04T20:37:22.851Z"
   },
   {
    "duration": 8,
    "start_time": "2022-05-04T20:37:30.793Z"
   },
   {
    "duration": 198,
    "start_time": "2022-05-04T20:37:57.798Z"
   },
   {
    "duration": 13,
    "start_time": "2022-05-04T20:38:04.165Z"
   },
   {
    "duration": 4,
    "start_time": "2022-05-04T20:39:15.009Z"
   },
   {
    "duration": 10,
    "start_time": "2022-05-04T20:39:19.442Z"
   },
   {
    "duration": 1180,
    "start_time": "2022-05-04T20:46:28.443Z"
   },
   {
    "duration": 11,
    "start_time": "2022-05-04T20:46:43.429Z"
   },
   {
    "duration": 8,
    "start_time": "2022-05-04T20:46:49.208Z"
   },
   {
    "duration": 187,
    "start_time": "2022-05-04T20:46:55.213Z"
   },
   {
    "duration": 814,
    "start_time": "2022-05-04T20:47:04.623Z"
   },
   {
    "duration": 268,
    "start_time": "2022-05-04T20:47:08.970Z"
   },
   {
    "duration": 699,
    "start_time": "2022-05-04T20:48:04.188Z"
   },
   {
    "duration": 1281,
    "start_time": "2022-05-04T20:48:08.242Z"
   },
   {
    "duration": 20,
    "start_time": "2022-05-04T20:48:29.882Z"
   },
   {
    "duration": 14,
    "start_time": "2022-05-04T20:49:42.154Z"
   },
   {
    "duration": 15,
    "start_time": "2022-05-04T20:49:48.207Z"
   },
   {
    "duration": 19,
    "start_time": "2022-05-04T20:49:53.360Z"
   },
   {
    "duration": 19,
    "start_time": "2022-05-04T20:50:00.064Z"
   },
   {
    "duration": 15,
    "start_time": "2022-05-04T20:50:14.504Z"
   },
   {
    "duration": 39,
    "start_time": "2022-05-04T20:50:28.228Z"
   },
   {
    "duration": 38,
    "start_time": "2022-05-04T20:50:44.643Z"
   },
   {
    "duration": 62,
    "start_time": "2022-05-04T20:50:54.266Z"
   },
   {
    "duration": 21,
    "start_time": "2022-05-04T20:53:04.472Z"
   },
   {
    "duration": 20,
    "start_time": "2022-05-04T20:53:13.292Z"
   },
   {
    "duration": 1120,
    "start_time": "2022-05-04T20:53:21.931Z"
   },
   {
    "duration": 289,
    "start_time": "2022-05-04T20:54:26.203Z"
   },
   {
    "duration": 240,
    "start_time": "2022-05-04T20:55:06.650Z"
   },
   {
    "duration": 216,
    "start_time": "2022-05-04T20:55:12.641Z"
   },
   {
    "duration": 223,
    "start_time": "2022-05-04T20:55:17.465Z"
   },
   {
    "duration": 258,
    "start_time": "2022-05-04T20:55:28.495Z"
   },
   {
    "duration": 254,
    "start_time": "2022-05-04T20:55:51.554Z"
   },
   {
    "duration": 673,
    "start_time": "2022-05-04T20:55:55.148Z"
   },
   {
    "duration": 434,
    "start_time": "2022-05-04T20:56:17.904Z"
   },
   {
    "duration": 395,
    "start_time": "2022-05-04T20:56:23.820Z"
   },
   {
    "duration": 263,
    "start_time": "2022-05-04T20:56:52.686Z"
   },
   {
    "duration": 231,
    "start_time": "2022-05-04T20:57:14.010Z"
   },
   {
    "duration": 155,
    "start_time": "2022-05-04T20:57:26.068Z"
   },
   {
    "duration": 354,
    "start_time": "2022-05-04T20:57:29.337Z"
   },
   {
    "duration": 396,
    "start_time": "2022-05-04T20:57:36.072Z"
   },
   {
    "duration": 415,
    "start_time": "2022-05-04T20:57:43.971Z"
   },
   {
    "duration": 360,
    "start_time": "2022-05-04T20:58:00.717Z"
   },
   {
    "duration": 271,
    "start_time": "2022-05-04T20:58:14.249Z"
   },
   {
    "duration": 412,
    "start_time": "2022-05-04T20:58:23.835Z"
   },
   {
    "duration": 338,
    "start_time": "2022-05-04T20:58:30.482Z"
   },
   {
    "duration": 255,
    "start_time": "2022-05-04T20:58:58.383Z"
   },
   {
    "duration": 273,
    "start_time": "2022-05-04T20:59:12.493Z"
   },
   {
    "duration": 408,
    "start_time": "2022-05-04T20:59:48.911Z"
   },
   {
    "duration": 451,
    "start_time": "2022-05-04T20:59:55.976Z"
   },
   {
    "duration": 283,
    "start_time": "2022-05-04T21:00:15.023Z"
   },
   {
    "duration": 259,
    "start_time": "2022-05-04T21:00:22.421Z"
   },
   {
    "duration": 206,
    "start_time": "2022-05-04T21:01:07.544Z"
   },
   {
    "duration": 257,
    "start_time": "2022-05-04T21:01:15.261Z"
   },
   {
    "duration": 125,
    "start_time": "2022-05-04T21:01:39.507Z"
   },
   {
    "duration": 414,
    "start_time": "2022-05-04T21:01:42.790Z"
   },
   {
    "duration": 302,
    "start_time": "2022-05-04T21:02:48.245Z"
   },
   {
    "duration": 398,
    "start_time": "2022-05-04T21:03:47.609Z"
   },
   {
    "duration": 276,
    "start_time": "2022-05-04T21:04:07.389Z"
   },
   {
    "duration": 11,
    "start_time": "2022-05-04T21:08:49.019Z"
   },
   {
    "duration": 11,
    "start_time": "2022-05-04T21:09:01.604Z"
   },
   {
    "duration": 4,
    "start_time": "2022-05-04T21:09:23.753Z"
   },
   {
    "duration": 9,
    "start_time": "2022-05-04T21:09:28.885Z"
   },
   {
    "duration": 6,
    "start_time": "2022-05-04T21:09:37.017Z"
   },
   {
    "duration": 1669,
    "start_time": "2022-05-04T21:11:02.580Z"
   },
   {
    "duration": 1997,
    "start_time": "2022-05-04T21:11:13.765Z"
   },
   {
    "duration": 3434,
    "start_time": "2022-05-04T21:11:18.053Z"
   },
   {
    "duration": 6,
    "start_time": "2022-05-04T21:11:28.738Z"
   },
   {
    "duration": 5,
    "start_time": "2022-05-04T21:11:35.790Z"
   },
   {
    "duration": 9,
    "start_time": "2022-05-04T21:12:14.478Z"
   },
   {
    "duration": 8,
    "start_time": "2022-05-04T21:12:16.781Z"
   },
   {
    "duration": 3,
    "start_time": "2022-05-04T21:12:18.712Z"
   },
   {
    "duration": 8,
    "start_time": "2022-05-04T21:12:20.646Z"
   },
   {
    "duration": 7,
    "start_time": "2022-05-04T21:12:32.655Z"
   },
   {
    "duration": 7,
    "start_time": "2022-05-04T21:12:38.473Z"
   },
   {
    "duration": 3,
    "start_time": "2022-05-04T21:13:09.829Z"
   },
   {
    "duration": 5,
    "start_time": "2022-05-04T21:13:13.140Z"
   },
   {
    "duration": 7,
    "start_time": "2022-05-04T21:13:21.449Z"
   },
   {
    "duration": 6,
    "start_time": "2022-05-04T21:13:40.554Z"
   },
   {
    "duration": 4,
    "start_time": "2022-05-04T21:13:46.903Z"
   },
   {
    "duration": 6,
    "start_time": "2022-05-04T21:14:01.935Z"
   },
   {
    "duration": 5,
    "start_time": "2022-05-04T21:14:03.446Z"
   },
   {
    "duration": 24,
    "start_time": "2022-05-04T21:14:42.640Z"
   },
   {
    "duration": 6,
    "start_time": "2022-05-04T21:15:56.557Z"
   },
   {
    "duration": 4,
    "start_time": "2022-05-04T21:16:16.862Z"
   },
   {
    "duration": 1763,
    "start_time": "2022-05-04T21:17:27.320Z"
   },
   {
    "duration": 4,
    "start_time": "2022-05-04T21:17:33.921Z"
   },
   {
    "duration": 4,
    "start_time": "2022-05-04T21:18:49.281Z"
   },
   {
    "duration": 4,
    "start_time": "2022-05-04T21:21:56.780Z"
   },
   {
    "duration": 5,
    "start_time": "2022-05-04T21:22:11.126Z"
   },
   {
    "duration": 4,
    "start_time": "2022-05-04T21:22:32.868Z"
   },
   {
    "duration": 1937,
    "start_time": "2022-05-04T21:27:25.931Z"
   },
   {
    "duration": 34,
    "start_time": "2022-05-04T21:27:27.870Z"
   },
   {
    "duration": 67,
    "start_time": "2022-05-04T21:27:27.905Z"
   },
   {
    "duration": 23,
    "start_time": "2022-05-04T21:27:27.973Z"
   },
   {
    "duration": 26,
    "start_time": "2022-05-04T21:27:27.998Z"
   },
   {
    "duration": 76,
    "start_time": "2022-05-04T21:27:28.025Z"
   },
   {
    "duration": 17,
    "start_time": "2022-05-04T21:27:28.102Z"
   },
   {
    "duration": 34,
    "start_time": "2022-05-04T21:27:28.121Z"
   },
   {
    "duration": 45,
    "start_time": "2022-05-04T21:27:28.157Z"
   },
   {
    "duration": 15,
    "start_time": "2022-05-04T21:27:28.203Z"
   },
   {
    "duration": 14,
    "start_time": "2022-05-04T21:27:28.220Z"
   },
   {
    "duration": 31,
    "start_time": "2022-05-04T21:27:28.236Z"
   },
   {
    "duration": 7,
    "start_time": "2022-05-04T21:27:28.268Z"
   },
   {
    "duration": 6,
    "start_time": "2022-05-04T21:27:28.278Z"
   },
   {
    "duration": 48,
    "start_time": "2022-05-04T21:27:28.286Z"
   },
   {
    "duration": 54,
    "start_time": "2022-05-04T21:27:28.336Z"
   },
   {
    "duration": 4,
    "start_time": "2022-05-04T21:27:28.391Z"
   },
   {
    "duration": 123,
    "start_time": "2022-05-04T21:27:28.396Z"
   },
   {
    "duration": 265,
    "start_time": "2022-05-04T21:27:28.521Z"
   },
   {
    "duration": 89,
    "start_time": "2022-05-04T21:27:28.788Z"
   },
   {
    "duration": 56,
    "start_time": "2022-05-04T21:27:28.879Z"
   },
   {
    "duration": 28,
    "start_time": "2022-05-04T21:27:28.948Z"
   },
   {
    "duration": 94,
    "start_time": "2022-05-04T21:27:28.978Z"
   },
   {
    "duration": 152,
    "start_time": "2022-05-04T21:27:29.074Z"
   },
   {
    "duration": 51,
    "start_time": "2022-05-04T21:27:29.228Z"
   },
   {
    "duration": 36,
    "start_time": "2022-05-04T21:27:29.281Z"
   },
   {
    "duration": 42,
    "start_time": "2022-05-04T21:27:29.319Z"
   },
   {
    "duration": 103,
    "start_time": "2022-05-04T21:27:29.363Z"
   },
   {
    "duration": 162,
    "start_time": "2022-05-04T21:27:29.468Z"
   },
   {
    "duration": 47,
    "start_time": "2022-05-04T21:27:29.632Z"
   },
   {
    "duration": 36,
    "start_time": "2022-05-04T21:27:29.681Z"
   },
   {
    "duration": 44,
    "start_time": "2022-05-04T21:27:29.718Z"
   },
   {
    "duration": 51,
    "start_time": "2022-05-04T21:27:29.766Z"
   },
   {
    "duration": 140,
    "start_time": "2022-05-04T21:27:29.819Z"
   },
   {
    "duration": 38,
    "start_time": "2022-05-04T21:27:29.961Z"
   },
   {
    "duration": 16,
    "start_time": "2022-05-04T21:27:30.001Z"
   },
   {
    "duration": 124,
    "start_time": "2022-05-04T21:27:30.048Z"
   },
   {
    "duration": 0,
    "start_time": "2022-05-04T21:27:30.174Z"
   },
   {
    "duration": 0,
    "start_time": "2022-05-04T21:27:30.175Z"
   },
   {
    "duration": 0,
    "start_time": "2022-05-04T21:27:30.177Z"
   },
   {
    "duration": 0,
    "start_time": "2022-05-04T21:27:30.178Z"
   },
   {
    "duration": 0,
    "start_time": "2022-05-04T21:27:30.180Z"
   },
   {
    "duration": 35,
    "start_time": "2022-05-04T21:28:19.986Z"
   },
   {
    "duration": 399,
    "start_time": "2022-05-04T21:28:57.074Z"
   },
   {
    "duration": 53,
    "start_time": "2022-05-04T21:28:57.475Z"
   },
   {
    "duration": 100,
    "start_time": "2022-05-04T21:28:57.530Z"
   },
   {
    "duration": 36,
    "start_time": "2022-05-04T21:28:57.632Z"
   },
   {
    "duration": 27,
    "start_time": "2022-05-04T21:28:57.671Z"
   },
   {
    "duration": 76,
    "start_time": "2022-05-04T21:28:57.700Z"
   },
   {
    "duration": 14,
    "start_time": "2022-05-04T21:28:57.779Z"
   },
   {
    "duration": 23,
    "start_time": "2022-05-04T21:28:57.795Z"
   },
   {
    "duration": 73,
    "start_time": "2022-05-04T21:28:57.820Z"
   },
   {
    "duration": 11,
    "start_time": "2022-05-04T21:28:57.895Z"
   },
   {
    "duration": 14,
    "start_time": "2022-05-04T21:28:57.908Z"
   },
   {
    "duration": 29,
    "start_time": "2022-05-04T21:28:57.949Z"
   },
   {
    "duration": 7,
    "start_time": "2022-05-04T21:28:57.980Z"
   },
   {
    "duration": 9,
    "start_time": "2022-05-04T21:28:57.989Z"
   },
   {
    "duration": 71,
    "start_time": "2022-05-04T21:28:58.000Z"
   },
   {
    "duration": 40,
    "start_time": "2022-05-04T21:28:58.073Z"
   },
   {
    "duration": 3,
    "start_time": "2022-05-04T21:28:58.114Z"
   },
   {
    "duration": 150,
    "start_time": "2022-05-04T21:28:58.119Z"
   },
   {
    "duration": 218,
    "start_time": "2022-05-04T21:28:58.271Z"
   },
   {
    "duration": 61,
    "start_time": "2022-05-04T21:28:58.491Z"
   },
   {
    "duration": 39,
    "start_time": "2022-05-04T21:28:58.554Z"
   },
   {
    "duration": 20,
    "start_time": "2022-05-04T21:28:58.595Z"
   },
   {
    "duration": 83,
    "start_time": "2022-05-04T21:28:58.616Z"
   },
   {
    "duration": 110,
    "start_time": "2022-05-04T21:28:58.700Z"
   },
   {
    "duration": 55,
    "start_time": "2022-05-04T21:28:58.812Z"
   },
   {
    "duration": 36,
    "start_time": "2022-05-04T21:28:58.868Z"
   },
   {
    "duration": 20,
    "start_time": "2022-05-04T21:28:58.905Z"
   },
   {
    "duration": 91,
    "start_time": "2022-05-04T21:28:58.926Z"
   },
   {
    "duration": 123,
    "start_time": "2022-05-04T21:28:59.019Z"
   },
   {
    "duration": 34,
    "start_time": "2022-05-04T21:28:59.148Z"
   },
   {
    "duration": 37,
    "start_time": "2022-05-04T21:28:59.184Z"
   },
   {
    "duration": 45,
    "start_time": "2022-05-04T21:28:59.223Z"
   },
   {
    "duration": 35,
    "start_time": "2022-05-04T21:28:59.270Z"
   },
   {
    "duration": 92,
    "start_time": "2022-05-04T21:28:59.307Z"
   },
   {
    "duration": 61,
    "start_time": "2022-05-04T21:28:59.401Z"
   },
   {
    "duration": 16,
    "start_time": "2022-05-04T21:28:59.463Z"
   },
   {
    "duration": 30,
    "start_time": "2022-05-04T21:28:59.480Z"
   },
   {
    "duration": 4,
    "start_time": "2022-05-04T21:28:59.511Z"
   },
   {
    "duration": 36,
    "start_time": "2022-05-04T21:28:59.517Z"
   },
   {
    "duration": 270,
    "start_time": "2022-05-04T21:28:59.561Z"
   },
   {
    "duration": 266,
    "start_time": "2022-05-04T21:28:59.833Z"
   },
   {
    "duration": 375,
    "start_time": "2022-05-04T21:29:00.101Z"
   },
   {
    "duration": 1903,
    "start_time": "2022-05-06T14:14:30.080Z"
   },
   {
    "duration": 40,
    "start_time": "2022-05-06T14:14:31.985Z"
   },
   {
    "duration": 82,
    "start_time": "2022-05-06T14:14:32.026Z"
   },
   {
    "duration": 25,
    "start_time": "2022-05-06T14:14:32.110Z"
   },
   {
    "duration": 42,
    "start_time": "2022-05-06T14:14:32.137Z"
   },
   {
    "duration": 83,
    "start_time": "2022-05-06T14:14:32.181Z"
   },
   {
    "duration": 18,
    "start_time": "2022-05-06T14:14:32.266Z"
   },
   {
    "duration": 38,
    "start_time": "2022-05-06T14:14:32.286Z"
   },
   {
    "duration": 47,
    "start_time": "2022-05-06T14:14:32.480Z"
   },
   {
    "duration": 17,
    "start_time": "2022-05-06T14:14:32.799Z"
   },
   {
    "duration": 17,
    "start_time": "2022-05-06T14:14:33.039Z"
   },
   {
    "duration": 20,
    "start_time": "2022-05-06T14:14:33.321Z"
   },
   {
    "duration": 7,
    "start_time": "2022-05-06T14:14:33.638Z"
   },
   {
    "duration": 8,
    "start_time": "2022-05-06T14:14:33.920Z"
   },
   {
    "duration": 54,
    "start_time": "2022-05-06T14:14:34.359Z"
   },
   {
    "duration": 57,
    "start_time": "2022-05-06T14:14:34.681Z"
   },
   {
    "duration": 3,
    "start_time": "2022-05-06T14:14:34.999Z"
   },
   {
    "duration": 120,
    "start_time": "2022-05-06T14:14:35.320Z"
   },
   {
    "duration": 200,
    "start_time": "2022-05-06T14:14:35.840Z"
   },
   {
    "duration": 54,
    "start_time": "2022-05-06T14:14:36.240Z"
   },
   {
    "duration": 40,
    "start_time": "2022-05-06T14:14:36.801Z"
   },
   {
    "duration": 20,
    "start_time": "2022-05-06T14:14:37.280Z"
   },
   {
    "duration": 62,
    "start_time": "2022-05-06T14:14:37.600Z"
   },
   {
    "duration": 112,
    "start_time": "2022-05-06T14:14:38.080Z"
   },
   {
    "duration": 39,
    "start_time": "2022-05-06T14:14:38.481Z"
   },
   {
    "duration": 39,
    "start_time": "2022-05-06T14:14:39.000Z"
   },
   {
    "duration": 21,
    "start_time": "2022-05-06T14:14:39.600Z"
   },
   {
    "duration": 75,
    "start_time": "2022-05-06T14:14:40.400Z"
   },
   {
    "duration": 123,
    "start_time": "2022-05-06T14:14:40.879Z"
   },
   {
    "duration": 36,
    "start_time": "2022-05-06T14:14:41.004Z"
   },
   {
    "duration": 40,
    "start_time": "2022-05-06T14:14:52.696Z"
   },
   {
    "duration": 23,
    "start_time": "2022-05-06T14:14:52.738Z"
   },
   {
    "duration": 57,
    "start_time": "2022-05-06T14:14:52.762Z"
   },
   {
    "duration": 84,
    "start_time": "2022-05-06T14:14:52.821Z"
   },
   {
    "duration": 50,
    "start_time": "2022-05-06T14:14:52.908Z"
   },
   {
    "duration": 15,
    "start_time": "2022-05-06T14:14:52.959Z"
   },
   {
    "duration": 35,
    "start_time": "2022-05-06T14:14:52.975Z"
   },
   {
    "duration": 4,
    "start_time": "2022-05-06T14:14:53.011Z"
   },
   {
    "duration": 40,
    "start_time": "2022-05-06T14:14:53.016Z"
   },
   {
    "duration": 326,
    "start_time": "2022-05-06T14:14:53.058Z"
   },
   {
    "duration": 301,
    "start_time": "2022-05-06T14:14:53.385Z"
   },
   {
    "duration": 315,
    "start_time": "2022-05-06T14:14:53.688Z"
   },
   {
    "duration": 22,
    "start_time": "2022-05-06T15:54:49.821Z"
   },
   {
    "duration": 107,
    "start_time": "2022-05-06T15:56:42.083Z"
   },
   {
    "duration": 14,
    "start_time": "2022-05-06T15:56:58.183Z"
   },
   {
    "duration": 20,
    "start_time": "2022-05-06T15:57:06.072Z"
   },
   {
    "duration": 8,
    "start_time": "2022-05-06T15:57:15.131Z"
   },
   {
    "duration": 30,
    "start_time": "2022-05-06T15:58:11.682Z"
   },
   {
    "duration": 29,
    "start_time": "2022-05-06T15:58:21.230Z"
   },
   {
    "duration": 40,
    "start_time": "2022-05-06T15:58:35.643Z"
   },
   {
    "duration": 16,
    "start_time": "2022-05-06T15:59:02.502Z"
   },
   {
    "duration": 34,
    "start_time": "2022-05-06T15:59:27.952Z"
   },
   {
    "duration": 19,
    "start_time": "2022-05-06T16:01:18.611Z"
   },
   {
    "duration": 9,
    "start_time": "2022-05-06T16:01:31.433Z"
   },
   {
    "duration": 26,
    "start_time": "2022-05-06T16:01:48.002Z"
   },
   {
    "duration": 12,
    "start_time": "2022-05-06T16:01:59.731Z"
   },
   {
    "duration": 42,
    "start_time": "2022-05-06T16:02:05.252Z"
   },
   {
    "duration": 18,
    "start_time": "2022-05-06T16:02:23.191Z"
   },
   {
    "duration": 27,
    "start_time": "2022-05-06T16:02:34.761Z"
   },
   {
    "duration": 27,
    "start_time": "2022-05-06T16:02:41.192Z"
   },
   {
    "duration": 27,
    "start_time": "2022-05-06T16:02:48.343Z"
   },
   {
    "duration": 372,
    "start_time": "2022-05-06T16:03:03.742Z"
   },
   {
    "duration": 33,
    "start_time": "2022-05-06T16:03:04.116Z"
   },
   {
    "duration": 62,
    "start_time": "2022-05-06T16:03:04.151Z"
   },
   {
    "duration": 20,
    "start_time": "2022-05-06T16:03:04.215Z"
   },
   {
    "duration": 42,
    "start_time": "2022-05-06T16:03:04.238Z"
   },
   {
    "duration": 54,
    "start_time": "2022-05-06T16:03:04.282Z"
   },
   {
    "duration": 15,
    "start_time": "2022-05-06T16:03:04.355Z"
   },
   {
    "duration": 24,
    "start_time": "2022-05-06T16:03:04.371Z"
   },
   {
    "duration": 69,
    "start_time": "2022-05-06T16:03:04.396Z"
   },
   {
    "duration": 14,
    "start_time": "2022-05-06T16:03:04.467Z"
   },
   {
    "duration": 15,
    "start_time": "2022-05-06T16:03:04.482Z"
   },
   {
    "duration": 19,
    "start_time": "2022-05-06T16:03:04.499Z"
   },
   {
    "duration": 37,
    "start_time": "2022-05-06T16:03:04.519Z"
   },
   {
    "duration": 12,
    "start_time": "2022-05-06T16:03:04.558Z"
   },
   {
    "duration": 54,
    "start_time": "2022-05-06T16:03:04.571Z"
   },
   {
    "duration": 58,
    "start_time": "2022-05-06T16:03:04.627Z"
   },
   {
    "duration": 3,
    "start_time": "2022-05-06T16:03:04.687Z"
   },
   {
    "duration": 116,
    "start_time": "2022-05-06T16:03:04.692Z"
   },
   {
    "duration": 170,
    "start_time": "2022-05-06T16:03:04.810Z"
   },
   {
    "duration": 37,
    "start_time": "2022-05-06T16:03:04.982Z"
   },
   {
    "duration": 60,
    "start_time": "2022-05-06T16:03:05.020Z"
   },
   {
    "duration": 21,
    "start_time": "2022-05-06T16:03:05.081Z"
   },
   {
    "duration": 80,
    "start_time": "2022-05-06T16:03:05.104Z"
   },
   {
    "duration": 104,
    "start_time": "2022-05-06T16:03:05.186Z"
   },
   {
    "duration": 40,
    "start_time": "2022-05-06T16:03:05.291Z"
   },
   {
    "duration": 40,
    "start_time": "2022-05-06T16:03:05.354Z"
   },
   {
    "duration": 21,
    "start_time": "2022-05-06T16:03:06.082Z"
   },
   {
    "duration": 89,
    "start_time": "2022-05-06T16:03:06.105Z"
   },
   {
    "duration": 114,
    "start_time": "2022-05-06T16:03:06.592Z"
   },
   {
    "duration": 37,
    "start_time": "2022-05-06T16:03:06.708Z"
   },
   {
    "duration": 40,
    "start_time": "2022-05-06T16:03:06.754Z"
   },
   {
    "duration": 20,
    "start_time": "2022-05-06T16:03:06.796Z"
   },
   {
    "duration": 63,
    "start_time": "2022-05-06T16:03:06.818Z"
   },
   {
    "duration": 89,
    "start_time": "2022-05-06T16:03:06.883Z"
   },
   {
    "duration": 37,
    "start_time": "2022-05-06T16:03:06.974Z"
   },
   {
    "duration": 45,
    "start_time": "2022-05-06T16:03:07.012Z"
   },
   {
    "duration": 34,
    "start_time": "2022-05-06T16:03:07.060Z"
   },
   {
    "duration": 4,
    "start_time": "2022-05-06T16:03:07.096Z"
   },
   {
    "duration": 33,
    "start_time": "2022-05-06T16:03:07.102Z"
   },
   {
    "duration": 286,
    "start_time": "2022-05-06T16:03:07.137Z"
   },
   {
    "duration": 278,
    "start_time": "2022-05-06T16:03:07.424Z"
   },
   {
    "duration": 461,
    "start_time": "2022-05-06T16:03:07.703Z"
   },
   {
    "duration": 25,
    "start_time": "2022-05-06T16:03:08.166Z"
   },
   {
    "duration": 27,
    "start_time": "2022-05-06T16:03:23.561Z"
   },
   {
    "duration": 35,
    "start_time": "2022-05-06T16:03:28.432Z"
   },
   {
    "duration": 19,
    "start_time": "2022-05-06T16:03:43.371Z"
   },
   {
    "duration": 38,
    "start_time": "2022-05-06T16:03:55.372Z"
   },
   {
    "duration": 21,
    "start_time": "2022-05-06T16:04:14.062Z"
   },
   {
    "duration": 2368,
    "start_time": "2022-05-07T11:55:22.010Z"
   },
   {
    "duration": 52,
    "start_time": "2022-05-07T11:55:24.381Z"
   },
   {
    "duration": 133,
    "start_time": "2022-05-07T11:55:24.435Z"
   },
   {
    "duration": 33,
    "start_time": "2022-05-07T11:55:24.571Z"
   },
   {
    "duration": 56,
    "start_time": "2022-05-07T11:55:24.606Z"
   },
   {
    "duration": 121,
    "start_time": "2022-05-07T11:55:24.664Z"
   },
   {
    "duration": 41,
    "start_time": "2022-05-07T11:55:24.787Z"
   },
   {
    "duration": 33,
    "start_time": "2022-05-07T11:55:24.830Z"
   },
   {
    "duration": 102,
    "start_time": "2022-05-07T11:55:24.865Z"
   },
   {
    "duration": 22,
    "start_time": "2022-05-07T11:55:24.971Z"
   },
   {
    "duration": 46,
    "start_time": "2022-05-07T11:55:24.995Z"
   },
   {
    "duration": 31,
    "start_time": "2022-05-07T11:55:25.043Z"
   },
   {
    "duration": 12,
    "start_time": "2022-05-07T11:55:25.076Z"
   },
   {
    "duration": 37,
    "start_time": "2022-05-07T11:55:25.090Z"
   },
   {
    "duration": 74,
    "start_time": "2022-05-07T11:55:25.130Z"
   },
   {
    "duration": 87,
    "start_time": "2022-05-07T11:55:25.206Z"
   },
   {
    "duration": 4,
    "start_time": "2022-05-07T11:55:25.296Z"
   },
   {
    "duration": 202,
    "start_time": "2022-05-07T11:55:25.302Z"
   },
   {
    "duration": 239,
    "start_time": "2022-05-07T11:55:25.506Z"
   },
   {
    "duration": 53,
    "start_time": "2022-05-07T11:55:25.747Z"
   },
   {
    "duration": 82,
    "start_time": "2022-05-07T11:55:25.803Z"
   },
   {
    "duration": 52,
    "start_time": "2022-05-07T11:55:25.887Z"
   },
   {
    "duration": 114,
    "start_time": "2022-05-07T11:55:25.941Z"
   },
   {
    "duration": 152,
    "start_time": "2022-05-07T11:55:26.058Z"
   },
   {
    "duration": 66,
    "start_time": "2022-05-07T11:55:26.212Z"
   },
   {
    "duration": 82,
    "start_time": "2022-05-07T11:55:26.281Z"
   },
   {
    "duration": 32,
    "start_time": "2022-05-07T11:55:26.365Z"
   },
   {
    "duration": 143,
    "start_time": "2022-05-07T11:55:26.402Z"
   },
   {
    "duration": 177,
    "start_time": "2022-05-07T11:55:26.547Z"
   },
   {
    "duration": 57,
    "start_time": "2022-05-07T11:55:26.726Z"
   },
   {
    "duration": 87,
    "start_time": "2022-05-07T11:55:26.786Z"
   },
   {
    "duration": 33,
    "start_time": "2022-05-07T11:55:26.875Z"
   },
   {
    "duration": 63,
    "start_time": "2022-05-07T11:55:26.925Z"
   },
   {
    "duration": 162,
    "start_time": "2022-05-07T11:55:26.990Z"
   },
   {
    "duration": 82,
    "start_time": "2022-05-07T11:55:27.154Z"
   },
   {
    "duration": 20,
    "start_time": "2022-05-07T11:55:27.238Z"
   },
   {
    "duration": 82,
    "start_time": "2022-05-07T11:55:27.261Z"
   },
   {
    "duration": 4,
    "start_time": "2022-05-07T11:55:27.346Z"
   },
   {
    "duration": 9,
    "start_time": "2022-05-07T11:55:27.352Z"
   },
   {
    "duration": 548,
    "start_time": "2022-05-07T11:55:27.364Z"
   },
   {
    "duration": 514,
    "start_time": "2022-05-07T11:55:27.914Z"
   },
   {
    "duration": 544,
    "start_time": "2022-05-07T11:55:28.430Z"
   },
   {
    "duration": 56,
    "start_time": "2022-05-07T11:55:28.976Z"
   },
   {
    "duration": 744,
    "start_time": "2022-05-07T15:00:27.382Z"
   },
   {
    "duration": 51,
    "start_time": "2022-05-07T15:00:28.129Z"
   },
   {
    "duration": 172,
    "start_time": "2022-05-07T15:00:28.183Z"
   },
   {
    "duration": 26,
    "start_time": "2022-05-07T15:00:28.358Z"
   },
   {
    "duration": 72,
    "start_time": "2022-05-07T15:00:28.386Z"
   },
   {
    "duration": 133,
    "start_time": "2022-05-07T15:00:28.461Z"
   },
   {
    "duration": 46,
    "start_time": "2022-05-07T15:00:28.597Z"
   },
   {
    "duration": 36,
    "start_time": "2022-05-07T15:00:28.647Z"
   },
   {
    "duration": 120,
    "start_time": "2022-05-07T15:00:28.685Z"
   },
   {
    "duration": 37,
    "start_time": "2022-05-07T15:00:28.809Z"
   },
   {
    "duration": 33,
    "start_time": "2022-05-07T15:00:28.849Z"
   },
   {
    "duration": 42,
    "start_time": "2022-05-07T15:00:28.884Z"
   },
   {
    "duration": 22,
    "start_time": "2022-05-07T15:00:28.928Z"
   },
   {
    "duration": 17,
    "start_time": "2022-05-07T15:00:28.953Z"
   },
   {
    "duration": 93,
    "start_time": "2022-05-07T15:00:28.973Z"
   },
   {
    "duration": 78,
    "start_time": "2022-05-07T15:00:29.068Z"
   },
   {
    "duration": 4,
    "start_time": "2022-05-07T15:00:29.149Z"
   },
   {
    "duration": 228,
    "start_time": "2022-05-07T15:00:29.156Z"
   },
   {
    "duration": 229,
    "start_time": "2022-05-07T15:00:29.387Z"
   },
   {
    "duration": 65,
    "start_time": "2022-05-07T15:00:29.619Z"
   },
   {
    "duration": 86,
    "start_time": "2022-05-07T15:00:29.687Z"
   },
   {
    "duration": 56,
    "start_time": "2022-05-07T15:00:29.776Z"
   },
   {
    "duration": 118,
    "start_time": "2022-05-07T15:00:29.835Z"
   },
   {
    "duration": 154,
    "start_time": "2022-05-07T15:00:29.956Z"
   },
   {
    "duration": 72,
    "start_time": "2022-05-07T15:00:30.113Z"
   },
   {
    "duration": 87,
    "start_time": "2022-05-07T15:00:30.187Z"
   },
   {
    "duration": 49,
    "start_time": "2022-05-07T15:00:30.276Z"
   },
   {
    "duration": 128,
    "start_time": "2022-05-07T15:00:30.331Z"
   },
   {
    "duration": 175,
    "start_time": "2022-05-07T15:00:30.462Z"
   },
   {
    "duration": 57,
    "start_time": "2022-05-07T15:00:30.640Z"
   },
   {
    "duration": 90,
    "start_time": "2022-05-07T15:00:30.699Z"
   },
   {
    "duration": 59,
    "start_time": "2022-05-07T15:00:30.791Z"
   },
   {
    "duration": 79,
    "start_time": "2022-05-07T15:00:30.853Z"
   },
   {
    "duration": 142,
    "start_time": "2022-05-07T15:00:30.935Z"
   },
   {
    "duration": 89,
    "start_time": "2022-05-07T15:00:31.079Z"
   },
   {
    "duration": 58,
    "start_time": "2022-05-07T15:00:31.172Z"
   },
   {
    "duration": 51,
    "start_time": "2022-05-07T15:00:31.233Z"
   },
   {
    "duration": 6,
    "start_time": "2022-05-07T15:00:31.286Z"
   },
   {
    "duration": 35,
    "start_time": "2022-05-07T15:00:31.295Z"
   },
   {
    "duration": 598,
    "start_time": "2022-05-07T15:00:31.333Z"
   },
   {
    "duration": 520,
    "start_time": "2022-05-07T15:00:31.933Z"
   },
   {
    "duration": 656,
    "start_time": "2022-05-07T15:00:32.455Z"
   },
   {
    "duration": 47,
    "start_time": "2022-05-07T15:00:33.114Z"
   },
   {
    "duration": 6,
    "start_time": "2022-05-07T15:01:36.037Z"
   },
   {
    "duration": 217,
    "start_time": "2022-05-07T15:01:46.855Z"
   },
   {
    "duration": 45,
    "start_time": "2022-05-07T15:03:08.889Z"
   },
   {
    "duration": 25,
    "start_time": "2022-05-07T15:03:20.643Z"
   },
   {
    "duration": 5,
    "start_time": "2022-05-07T15:04:03.258Z"
   },
   {
    "duration": 34,
    "start_time": "2022-05-07T15:04:06.956Z"
   },
   {
    "duration": 40,
    "start_time": "2022-05-07T15:04:16.029Z"
   },
   {
    "duration": 63,
    "start_time": "2022-05-07T15:04:25.611Z"
   },
   {
    "duration": 7,
    "start_time": "2022-05-07T15:45:14.882Z"
   },
   {
    "duration": 4,
    "start_time": "2022-05-07T15:45:34.708Z"
   },
   {
    "duration": 9,
    "start_time": "2022-05-07T15:45:37.860Z"
   },
   {
    "duration": 0,
    "start_time": "2022-05-07T15:45:51.921Z"
   },
   {
    "duration": 1808,
    "start_time": "2022-05-07T15:45:55.166Z"
   },
   {
    "duration": 11,
    "start_time": "2022-05-07T15:46:14.972Z"
   },
   {
    "duration": 16,
    "start_time": "2022-05-07T15:46:41.770Z"
   },
   {
    "duration": 9,
    "start_time": "2022-05-07T15:46:53.437Z"
   },
   {
    "duration": 4,
    "start_time": "2022-05-07T15:48:45.294Z"
   },
   {
    "duration": 25,
    "start_time": "2022-05-07T15:48:50.140Z"
   },
   {
    "duration": 9,
    "start_time": "2022-05-07T15:49:19.854Z"
   },
   {
    "duration": 10,
    "start_time": "2022-05-07T15:49:26.954Z"
   },
   {
    "duration": 5,
    "start_time": "2022-05-07T15:49:38.834Z"
   },
   {
    "duration": 16,
    "start_time": "2022-05-07T15:53:36.808Z"
   },
   {
    "duration": 12,
    "start_time": "2022-05-07T15:54:23.608Z"
   },
   {
    "duration": 1416,
    "start_time": "2022-05-07T15:54:51.806Z"
   },
   {
    "duration": 13,
    "start_time": "2022-05-07T15:55:02.289Z"
   },
   {
    "duration": 4,
    "start_time": "2022-05-07T15:55:36.403Z"
   },
   {
    "duration": 4,
    "start_time": "2022-05-07T15:56:02.012Z"
   },
   {
    "duration": 9,
    "start_time": "2022-05-07T15:56:05.175Z"
   },
   {
    "duration": 124,
    "start_time": "2022-05-07T15:57:06.339Z"
   },
   {
    "duration": 13,
    "start_time": "2022-05-07T15:57:26.022Z"
   },
   {
    "duration": 114,
    "start_time": "2022-05-07T15:58:51.511Z"
   },
   {
    "duration": 4,
    "start_time": "2022-05-07T16:00:57.051Z"
   },
   {
    "duration": 8,
    "start_time": "2022-05-07T16:01:00.502Z"
   },
   {
    "duration": 30,
    "start_time": "2022-05-07T16:01:26.019Z"
   },
   {
    "duration": 30,
    "start_time": "2022-05-07T16:03:49.435Z"
   },
   {
    "duration": 21,
    "start_time": "2022-05-07T16:18:07.299Z"
   },
   {
    "duration": 68,
    "start_time": "2022-05-07T16:19:20.769Z"
   },
   {
    "duration": 73,
    "start_time": "2022-05-07T16:19:39.017Z"
   },
   {
    "duration": 30,
    "start_time": "2022-05-07T16:19:53.143Z"
   },
   {
    "duration": 7,
    "start_time": "2022-05-07T16:23:37.489Z"
   },
   {
    "duration": 6,
    "start_time": "2022-05-07T16:23:50.912Z"
   },
   {
    "duration": 7,
    "start_time": "2022-05-07T16:23:55.930Z"
   },
   {
    "duration": 16,
    "start_time": "2022-05-07T16:24:43.718Z"
   },
   {
    "duration": 7,
    "start_time": "2022-05-07T16:24:47.287Z"
   },
   {
    "duration": 12,
    "start_time": "2022-05-07T16:25:00.379Z"
   },
   {
    "duration": 6,
    "start_time": "2022-05-07T16:25:06.738Z"
   },
   {
    "duration": 12,
    "start_time": "2022-05-07T16:26:55.945Z"
   },
   {
    "duration": 14,
    "start_time": "2022-05-07T16:27:02.563Z"
   },
   {
    "duration": 12,
    "start_time": "2022-05-07T16:27:10.523Z"
   },
   {
    "duration": 6,
    "start_time": "2022-05-07T16:27:17.724Z"
   },
   {
    "duration": 16,
    "start_time": "2022-05-07T16:28:35.882Z"
   },
   {
    "duration": 122,
    "start_time": "2022-05-07T16:28:54.373Z"
   },
   {
    "duration": 13,
    "start_time": "2022-05-07T16:29:11.633Z"
   },
   {
    "duration": 13,
    "start_time": "2022-05-07T16:29:18.851Z"
   },
   {
    "duration": 13,
    "start_time": "2022-05-07T16:31:35.393Z"
   },
   {
    "duration": 7,
    "start_time": "2022-05-07T16:31:39.896Z"
   },
   {
    "duration": 7,
    "start_time": "2022-05-07T16:31:45.878Z"
   },
   {
    "duration": 7,
    "start_time": "2022-05-07T16:32:09.106Z"
   },
   {
    "duration": 7,
    "start_time": "2022-05-07T16:32:12.194Z"
   },
   {
    "duration": 8,
    "start_time": "2022-05-07T16:32:19.291Z"
   },
   {
    "duration": 9,
    "start_time": "2022-05-07T16:32:47.518Z"
   },
   {
    "duration": 12,
    "start_time": "2022-05-07T16:35:38.514Z"
   },
   {
    "duration": 12,
    "start_time": "2022-05-07T16:37:56.920Z"
   },
   {
    "duration": 9,
    "start_time": "2022-05-07T16:38:48.645Z"
   },
   {
    "duration": 10,
    "start_time": "2022-05-07T16:39:01.410Z"
   },
   {
    "duration": 13,
    "start_time": "2022-05-07T16:39:20.214Z"
   },
   {
    "duration": 9,
    "start_time": "2022-05-07T16:39:24.988Z"
   },
   {
    "duration": 8,
    "start_time": "2022-05-07T16:39:40.050Z"
   },
   {
    "duration": 9,
    "start_time": "2022-05-07T16:39:43.512Z"
   },
   {
    "duration": 10,
    "start_time": "2022-05-07T16:39:50.511Z"
   },
   {
    "duration": 9,
    "start_time": "2022-05-07T16:39:56.732Z"
   },
   {
    "duration": 9,
    "start_time": "2022-05-07T16:39:59.266Z"
   },
   {
    "duration": 9,
    "start_time": "2022-05-07T16:40:02.448Z"
   },
   {
    "duration": 10,
    "start_time": "2022-05-07T16:40:06.033Z"
   },
   {
    "duration": 9,
    "start_time": "2022-05-07T16:40:11.772Z"
   },
   {
    "duration": 9,
    "start_time": "2022-05-07T16:40:34.254Z"
   },
   {
    "duration": 19,
    "start_time": "2022-05-07T16:40:39.392Z"
   },
   {
    "duration": 22,
    "start_time": "2022-05-07T16:43:45.663Z"
   },
   {
    "duration": 19,
    "start_time": "2022-05-07T16:46:14.256Z"
   },
   {
    "duration": 26,
    "start_time": "2022-05-07T16:46:59.124Z"
   },
   {
    "duration": 11,
    "start_time": "2022-05-07T16:47:28.952Z"
   },
   {
    "duration": 28,
    "start_time": "2022-05-07T16:47:35.676Z"
   },
   {
    "duration": 29,
    "start_time": "2022-05-07T16:48:16.889Z"
   },
   {
    "duration": 12,
    "start_time": "2022-05-07T16:48:54.198Z"
   },
   {
    "duration": 12,
    "start_time": "2022-05-07T16:49:03.223Z"
   },
   {
    "duration": 14,
    "start_time": "2022-05-07T16:49:11.000Z"
   },
   {
    "duration": 34,
    "start_time": "2022-05-07T16:53:20.341Z"
   },
   {
    "duration": 38,
    "start_time": "2022-05-07T16:53:32.324Z"
   },
   {
    "duration": 37,
    "start_time": "2022-05-07T16:55:31.459Z"
   },
   {
    "duration": 35,
    "start_time": "2022-05-07T16:55:40.514Z"
   },
   {
    "duration": 8,
    "start_time": "2022-05-07T16:55:48.582Z"
   },
   {
    "duration": 494,
    "start_time": "2022-05-07T16:56:22.899Z"
   },
   {
    "duration": 43,
    "start_time": "2022-05-07T16:56:23.396Z"
   },
   {
    "duration": 121,
    "start_time": "2022-05-07T16:56:23.441Z"
   },
   {
    "duration": 27,
    "start_time": "2022-05-07T16:56:23.565Z"
   },
   {
    "duration": 60,
    "start_time": "2022-05-07T16:56:23.595Z"
   },
   {
    "duration": 114,
    "start_time": "2022-05-07T16:56:23.658Z"
   },
   {
    "duration": 21,
    "start_time": "2022-05-07T16:56:23.775Z"
   },
   {
    "duration": 50,
    "start_time": "2022-05-07T16:56:23.798Z"
   },
   {
    "duration": 93,
    "start_time": "2022-05-07T16:56:23.851Z"
   },
   {
    "duration": 19,
    "start_time": "2022-05-07T16:56:23.946Z"
   },
   {
    "duration": 22,
    "start_time": "2022-05-07T16:56:23.967Z"
   },
   {
    "duration": 60,
    "start_time": "2022-05-07T16:56:23.992Z"
   },
   {
    "duration": 8,
    "start_time": "2022-05-07T16:56:24.054Z"
   },
   {
    "duration": 10,
    "start_time": "2022-05-07T16:56:24.067Z"
   },
   {
    "duration": 106,
    "start_time": "2022-05-07T16:56:24.080Z"
   },
   {
    "duration": 72,
    "start_time": "2022-05-07T16:56:24.189Z"
   },
   {
    "duration": 5,
    "start_time": "2022-05-07T16:56:24.263Z"
   },
   {
    "duration": 221,
    "start_time": "2022-05-07T16:56:24.270Z"
   },
   {
    "duration": 211,
    "start_time": "2022-05-07T16:56:24.494Z"
   },
   {
    "duration": 65,
    "start_time": "2022-05-07T16:56:24.708Z"
   },
   {
    "duration": 85,
    "start_time": "2022-05-07T16:56:24.775Z"
   },
   {
    "duration": 62,
    "start_time": "2022-05-07T16:56:24.862Z"
   },
   {
    "duration": 144,
    "start_time": "2022-05-07T16:56:24.927Z"
   },
   {
    "duration": 151,
    "start_time": "2022-05-07T16:56:25.073Z"
   },
   {
    "duration": 58,
    "start_time": "2022-05-07T16:56:25.226Z"
   },
   {
    "duration": 86,
    "start_time": "2022-05-07T16:56:25.287Z"
   },
   {
    "duration": 53,
    "start_time": "2022-05-07T16:56:25.376Z"
   },
   {
    "duration": 122,
    "start_time": "2022-05-07T16:56:25.432Z"
   },
   {
    "duration": 174,
    "start_time": "2022-05-07T16:56:25.557Z"
   },
   {
    "duration": 57,
    "start_time": "2022-05-07T16:56:25.733Z"
   },
   {
    "duration": 88,
    "start_time": "2022-05-07T16:56:25.793Z"
   },
   {
    "duration": 57,
    "start_time": "2022-05-07T16:56:25.883Z"
   },
   {
    "duration": 58,
    "start_time": "2022-05-07T16:56:25.942Z"
   },
   {
    "duration": 158,
    "start_time": "2022-05-07T16:56:26.002Z"
   },
   {
    "duration": 84,
    "start_time": "2022-05-07T16:56:26.163Z"
   },
   {
    "duration": 23,
    "start_time": "2022-05-07T16:56:26.249Z"
   },
   {
    "duration": 84,
    "start_time": "2022-05-07T16:56:26.274Z"
   },
   {
    "duration": 6,
    "start_time": "2022-05-07T16:56:26.360Z"
   },
   {
    "duration": 10,
    "start_time": "2022-05-07T16:56:26.368Z"
   },
   {
    "duration": 635,
    "start_time": "2022-05-07T16:56:26.380Z"
   },
   {
    "duration": 499,
    "start_time": "2022-05-07T16:56:27.028Z"
   },
   {
    "duration": 529,
    "start_time": "2022-05-07T16:56:27.530Z"
   },
   {
    "duration": 42,
    "start_time": "2022-05-07T16:56:28.061Z"
   },
   {
    "duration": 35,
    "start_time": "2022-05-07T16:56:28.125Z"
   },
   {
    "duration": 63,
    "start_time": "2022-05-07T16:56:28.163Z"
   },
   {
    "duration": 8,
    "start_time": "2022-05-07T16:56:28.228Z"
   },
   {
    "duration": 32,
    "start_time": "2022-05-07T16:56:38.624Z"
   },
   {
    "duration": 14,
    "start_time": "2022-05-07T16:56:53.106Z"
   },
   {
    "duration": 2010,
    "start_time": "2022-05-07T16:59:54.151Z"
   },
   {
    "duration": 50,
    "start_time": "2022-05-07T16:59:56.164Z"
   },
   {
    "duration": 96,
    "start_time": "2022-05-07T16:59:56.217Z"
   },
   {
    "duration": 33,
    "start_time": "2022-05-07T16:59:56.324Z"
   },
   {
    "duration": 65,
    "start_time": "2022-05-07T16:59:56.359Z"
   },
   {
    "duration": 99,
    "start_time": "2022-05-07T16:59:56.427Z"
   },
   {
    "duration": 26,
    "start_time": "2022-05-07T16:59:56.528Z"
   },
   {
    "duration": 33,
    "start_time": "2022-05-07T16:59:56.557Z"
   },
   {
    "duration": 95,
    "start_time": "2022-05-07T16:59:56.592Z"
   },
   {
    "duration": 43,
    "start_time": "2022-05-07T16:59:56.690Z"
   },
   {
    "duration": 24,
    "start_time": "2022-05-07T16:59:56.735Z"
   },
   {
    "duration": 39,
    "start_time": "2022-05-07T16:59:56.761Z"
   },
   {
    "duration": 8,
    "start_time": "2022-05-07T16:59:56.825Z"
   },
   {
    "duration": 37,
    "start_time": "2022-05-07T16:59:56.835Z"
   },
   {
    "duration": 82,
    "start_time": "2022-05-07T16:59:56.874Z"
   },
   {
    "duration": 77,
    "start_time": "2022-05-07T16:59:56.958Z"
   },
   {
    "duration": 4,
    "start_time": "2022-05-07T16:59:57.038Z"
   },
   {
    "duration": 195,
    "start_time": "2022-05-07T16:59:57.044Z"
   },
   {
    "duration": 244,
    "start_time": "2022-05-07T16:59:57.241Z"
   },
   {
    "duration": 69,
    "start_time": "2022-05-07T16:59:57.487Z"
   },
   {
    "duration": 84,
    "start_time": "2022-05-07T16:59:57.558Z"
   },
   {
    "duration": 31,
    "start_time": "2022-05-07T16:59:57.644Z"
   },
   {
    "duration": 120,
    "start_time": "2022-05-07T16:59:57.678Z"
   },
   {
    "duration": 153,
    "start_time": "2022-05-07T16:59:57.800Z"
   },
   {
    "duration": 71,
    "start_time": "2022-05-07T16:59:57.955Z"
   },
   {
    "duration": 61,
    "start_time": "2022-05-07T16:59:58.028Z"
   },
   {
    "duration": 56,
    "start_time": "2022-05-07T16:59:58.092Z"
   },
   {
    "duration": 127,
    "start_time": "2022-05-07T16:59:58.152Z"
   },
   {
    "duration": 176,
    "start_time": "2022-05-07T16:59:58.281Z"
   },
   {
    "duration": 67,
    "start_time": "2022-05-07T16:59:58.459Z"
   },
   {
    "duration": 62,
    "start_time": "2022-05-07T16:59:58.528Z"
   },
   {
    "duration": 59,
    "start_time": "2022-05-07T16:59:58.592Z"
   },
   {
    "duration": 73,
    "start_time": "2022-05-07T16:59:58.653Z"
   },
   {
    "duration": 145,
    "start_time": "2022-05-07T16:59:58.728Z"
   },
   {
    "duration": 81,
    "start_time": "2022-05-07T16:59:58.875Z"
   },
   {
    "duration": 22,
    "start_time": "2022-05-07T16:59:58.959Z"
   },
   {
    "duration": 87,
    "start_time": "2022-05-07T16:59:58.983Z"
   },
   {
    "duration": 6,
    "start_time": "2022-05-07T16:59:59.072Z"
   },
   {
    "duration": 9,
    "start_time": "2022-05-07T16:59:59.080Z"
   },
   {
    "duration": 544,
    "start_time": "2022-05-07T16:59:59.091Z"
   },
   {
    "duration": 513,
    "start_time": "2022-05-07T16:59:59.638Z"
   },
   {
    "duration": 534,
    "start_time": "2022-05-07T17:00:00.153Z"
   },
   {
    "duration": 57,
    "start_time": "2022-05-07T17:00:00.690Z"
   },
   {
    "duration": 6,
    "start_time": "2022-05-07T17:00:00.750Z"
   },
   {
    "duration": 26,
    "start_time": "2022-05-07T17:00:00.759Z"
   },
   {
    "duration": 172,
    "start_time": "2022-05-07T17:03:10.004Z"
   },
   {
    "duration": 2178,
    "start_time": "2022-05-07T17:03:26.416Z"
   },
   {
    "duration": 53,
    "start_time": "2022-05-07T17:03:28.597Z"
   },
   {
    "duration": 118,
    "start_time": "2022-05-07T17:03:28.652Z"
   },
   {
    "duration": 31,
    "start_time": "2022-05-07T17:03:28.773Z"
   },
   {
    "duration": 63,
    "start_time": "2022-05-07T17:03:28.807Z"
   },
   {
    "duration": 115,
    "start_time": "2022-05-07T17:03:28.872Z"
   },
   {
    "duration": 49,
    "start_time": "2022-05-07T17:03:28.989Z"
   },
   {
    "duration": 35,
    "start_time": "2022-05-07T17:03:29.041Z"
   },
   {
    "duration": 91,
    "start_time": "2022-05-07T17:03:29.078Z"
   },
   {
    "duration": 22,
    "start_time": "2022-05-07T17:03:29.172Z"
   },
   {
    "duration": 52,
    "start_time": "2022-05-07T17:03:29.197Z"
   },
   {
    "duration": 31,
    "start_time": "2022-05-07T17:03:29.251Z"
   },
   {
    "duration": 41,
    "start_time": "2022-05-07T17:03:29.285Z"
   },
   {
    "duration": 16,
    "start_time": "2022-05-07T17:03:29.337Z"
   },
   {
    "duration": 87,
    "start_time": "2022-05-07T17:03:29.355Z"
   },
   {
    "duration": 85,
    "start_time": "2022-05-07T17:03:29.444Z"
   },
   {
    "duration": 6,
    "start_time": "2022-05-07T17:03:29.532Z"
   },
   {
    "duration": 203,
    "start_time": "2022-05-07T17:03:29.541Z"
   },
   {
    "duration": 258,
    "start_time": "2022-05-07T17:03:29.746Z"
   },
   {
    "duration": 70,
    "start_time": "2022-05-07T17:03:30.005Z"
   },
   {
    "duration": 91,
    "start_time": "2022-05-07T17:03:30.078Z"
   },
   {
    "duration": 32,
    "start_time": "2022-05-07T17:03:30.171Z"
   },
   {
    "duration": 135,
    "start_time": "2022-05-07T17:03:30.206Z"
   },
   {
    "duration": 169,
    "start_time": "2022-05-07T17:03:30.343Z"
   },
   {
    "duration": 68,
    "start_time": "2022-05-07T17:03:30.515Z"
   },
   {
    "duration": 158,
    "start_time": "2022-05-07T17:03:30.585Z"
   },
   {
    "duration": 33,
    "start_time": "2022-05-07T17:03:30.746Z"
   },
   {
    "duration": 144,
    "start_time": "2022-05-07T17:03:30.781Z"
   },
   {
    "duration": 192,
    "start_time": "2022-05-07T17:03:30.928Z"
   },
   {
    "duration": 65,
    "start_time": "2022-05-07T17:03:31.122Z"
   },
   {
    "duration": 89,
    "start_time": "2022-05-07T17:03:31.190Z"
   },
   {
    "duration": 56,
    "start_time": "2022-05-07T17:03:31.281Z"
   },
   {
    "duration": 61,
    "start_time": "2022-05-07T17:03:31.341Z"
   },
   {
    "duration": 171,
    "start_time": "2022-05-07T17:03:31.405Z"
   },
   {
    "duration": 94,
    "start_time": "2022-05-07T17:03:31.578Z"
   },
   {
    "duration": 54,
    "start_time": "2022-05-07T17:03:31.674Z"
   },
   {
    "duration": 53,
    "start_time": "2022-05-07T17:03:31.732Z"
   },
   {
    "duration": 5,
    "start_time": "2022-05-07T17:03:31.787Z"
   },
   {
    "duration": 35,
    "start_time": "2022-05-07T17:03:31.794Z"
   },
   {
    "duration": 579,
    "start_time": "2022-05-07T17:03:31.832Z"
   },
   {
    "duration": 542,
    "start_time": "2022-05-07T17:03:32.418Z"
   },
   {
    "duration": 581,
    "start_time": "2022-05-07T17:03:32.962Z"
   },
   {
    "duration": 16,
    "start_time": "2022-05-07T17:03:33.545Z"
   },
   {
    "duration": 18,
    "start_time": "2022-05-07T17:03:33.563Z"
   },
   {
    "duration": 178,
    "start_time": "2022-05-07T17:03:58.755Z"
   },
   {
    "duration": 2080,
    "start_time": "2022-05-07T17:04:08.847Z"
   },
   {
    "duration": 53,
    "start_time": "2022-05-07T17:04:10.931Z"
   },
   {
    "duration": 113,
    "start_time": "2022-05-07T17:04:10.987Z"
   },
   {
    "duration": 55,
    "start_time": "2022-05-07T17:04:11.102Z"
   },
   {
    "duration": 39,
    "start_time": "2022-05-07T17:04:11.161Z"
   },
   {
    "duration": 137,
    "start_time": "2022-05-07T17:04:11.202Z"
   },
   {
    "duration": 24,
    "start_time": "2022-05-07T17:04:11.342Z"
   },
   {
    "duration": 58,
    "start_time": "2022-05-07T17:04:11.369Z"
   },
   {
    "duration": 70,
    "start_time": "2022-05-07T17:04:11.430Z"
   },
   {
    "duration": 45,
    "start_time": "2022-05-07T17:04:11.502Z"
   },
   {
    "duration": 25,
    "start_time": "2022-05-07T17:04:11.550Z"
   },
   {
    "duration": 69,
    "start_time": "2022-05-07T17:04:11.578Z"
   },
   {
    "duration": 9,
    "start_time": "2022-05-07T17:04:11.650Z"
   },
   {
    "duration": 10,
    "start_time": "2022-05-07T17:04:11.666Z"
   },
   {
    "duration": 110,
    "start_time": "2022-05-07T17:04:11.679Z"
   },
   {
    "duration": 94,
    "start_time": "2022-05-07T17:04:11.791Z"
   },
   {
    "duration": 6,
    "start_time": "2022-05-07T17:04:11.888Z"
   },
   {
    "duration": 205,
    "start_time": "2022-05-07T17:04:11.897Z"
   },
   {
    "duration": 265,
    "start_time": "2022-05-07T17:04:12.105Z"
   },
   {
    "duration": 80,
    "start_time": "2022-05-07T17:04:12.373Z"
   },
   {
    "duration": 91,
    "start_time": "2022-05-07T17:04:12.456Z"
   },
   {
    "duration": 32,
    "start_time": "2022-05-07T17:04:12.550Z"
   },
   {
    "duration": 124,
    "start_time": "2022-05-07T17:04:12.585Z"
   },
   {
    "duration": 157,
    "start_time": "2022-05-07T17:04:12.711Z"
   },
   {
    "duration": 80,
    "start_time": "2022-05-07T17:04:12.870Z"
   },
   {
    "duration": 78,
    "start_time": "2022-05-07T17:04:12.953Z"
   },
   {
    "duration": 38,
    "start_time": "2022-05-07T17:04:13.034Z"
   },
   {
    "duration": 142,
    "start_time": "2022-05-07T17:04:13.075Z"
   },
   {
    "duration": 177,
    "start_time": "2022-05-07T17:04:13.223Z"
   },
   {
    "duration": 74,
    "start_time": "2022-05-07T17:04:13.402Z"
   },
   {
    "duration": 88,
    "start_time": "2022-05-07T17:04:13.479Z"
   },
   {
    "duration": 33,
    "start_time": "2022-05-07T17:04:13.569Z"
   },
   {
    "duration": 65,
    "start_time": "2022-05-07T17:04:13.625Z"
   },
   {
    "duration": 167,
    "start_time": "2022-05-07T17:04:13.692Z"
   },
   {
    "duration": 93,
    "start_time": "2022-05-07T17:04:13.862Z"
   },
   {
    "duration": 22,
    "start_time": "2022-05-07T17:04:13.957Z"
   },
   {
    "duration": 89,
    "start_time": "2022-05-07T17:04:13.982Z"
   },
   {
    "duration": 6,
    "start_time": "2022-05-07T17:04:14.074Z"
   },
   {
    "duration": 12,
    "start_time": "2022-05-07T17:04:14.082Z"
   },
   {
    "duration": 577,
    "start_time": "2022-05-07T17:04:14.096Z"
   },
   {
    "duration": 557,
    "start_time": "2022-05-07T17:04:14.680Z"
   },
   {
    "duration": 575,
    "start_time": "2022-05-07T17:04:15.240Z"
   },
   {
    "duration": 85,
    "start_time": "2022-05-07T17:04:15.817Z"
   },
   {
    "duration": 40,
    "start_time": "2022-05-07T17:04:15.905Z"
   },
   {
    "duration": 169,
    "start_time": "2022-05-07T17:04:40.937Z"
   },
   {
    "duration": 2134,
    "start_time": "2022-05-07T17:04:45.896Z"
   },
   {
    "duration": 52,
    "start_time": "2022-05-07T17:04:48.035Z"
   },
   {
    "duration": 123,
    "start_time": "2022-05-07T17:04:48.089Z"
   },
   {
    "duration": 49,
    "start_time": "2022-05-07T17:04:48.214Z"
   },
   {
    "duration": 70,
    "start_time": "2022-05-07T17:04:48.266Z"
   },
   {
    "duration": 114,
    "start_time": "2022-05-07T17:04:48.339Z"
   },
   {
    "duration": 27,
    "start_time": "2022-05-07T17:04:48.455Z"
   },
   {
    "duration": 62,
    "start_time": "2022-05-07T17:04:48.484Z"
   },
   {
    "duration": 90,
    "start_time": "2022-05-07T17:04:48.548Z"
   },
   {
    "duration": 23,
    "start_time": "2022-05-07T17:04:48.641Z"
   },
   {
    "duration": 25,
    "start_time": "2022-05-07T17:04:48.667Z"
   },
   {
    "duration": 36,
    "start_time": "2022-05-07T17:04:48.727Z"
   },
   {
    "duration": 12,
    "start_time": "2022-05-07T17:04:48.765Z"
   },
   {
    "duration": 20,
    "start_time": "2022-05-07T17:04:48.782Z"
   },
   {
    "duration": 77,
    "start_time": "2022-05-07T17:04:48.824Z"
   },
   {
    "duration": 94,
    "start_time": "2022-05-07T17:04:48.903Z"
   },
   {
    "duration": 4,
    "start_time": "2022-05-07T17:04:48.999Z"
   },
   {
    "duration": 191,
    "start_time": "2022-05-07T17:04:49.027Z"
   },
   {
    "duration": 262,
    "start_time": "2022-05-07T17:04:49.224Z"
   },
   {
    "duration": 79,
    "start_time": "2022-05-07T17:04:49.488Z"
   },
   {
    "duration": 114,
    "start_time": "2022-05-07T17:04:49.570Z"
   },
   {
    "duration": 56,
    "start_time": "2022-05-07T17:04:49.686Z"
   },
   {
    "duration": 111,
    "start_time": "2022-05-07T17:04:49.745Z"
   },
   {
    "duration": 163,
    "start_time": "2022-05-07T17:04:49.858Z"
   },
   {
    "duration": 66,
    "start_time": "2022-05-07T17:04:50.025Z"
   },
   {
    "duration": 79,
    "start_time": "2022-05-07T17:04:50.094Z"
   },
   {
    "duration": 58,
    "start_time": "2022-05-07T17:04:50.175Z"
   },
   {
    "duration": 124,
    "start_time": "2022-05-07T17:04:50.236Z"
   },
   {
    "duration": 188,
    "start_time": "2022-05-07T17:04:50.363Z"
   },
   {
    "duration": 72,
    "start_time": "2022-05-07T17:04:50.553Z"
   },
   {
    "duration": 63,
    "start_time": "2022-05-07T17:04:50.633Z"
   },
   {
    "duration": 48,
    "start_time": "2022-05-07T17:04:50.698Z"
   },
   {
    "duration": 77,
    "start_time": "2022-05-07T17:04:50.749Z"
   },
   {
    "duration": 148,
    "start_time": "2022-05-07T17:04:50.832Z"
   },
   {
    "duration": 86,
    "start_time": "2022-05-07T17:04:50.982Z"
   },
   {
    "duration": 23,
    "start_time": "2022-05-07T17:04:51.071Z"
   },
   {
    "duration": 84,
    "start_time": "2022-05-07T17:04:51.096Z"
   },
   {
    "duration": 6,
    "start_time": "2022-05-07T17:04:51.183Z"
   },
   {
    "duration": 41,
    "start_time": "2022-05-07T17:04:51.191Z"
   },
   {
    "duration": 553,
    "start_time": "2022-05-07T17:04:51.237Z"
   },
   {
    "duration": 530,
    "start_time": "2022-05-07T17:04:51.795Z"
   },
   {
    "duration": 541,
    "start_time": "2022-05-07T17:04:52.330Z"
   },
   {
    "duration": 82,
    "start_time": "2022-05-07T17:04:52.873Z"
   },
   {
    "duration": 14,
    "start_time": "2022-05-07T17:04:52.958Z"
   },
   {
    "duration": 163,
    "start_time": "2022-05-07T17:07:37.859Z"
   },
   {
    "duration": 15,
    "start_time": "2022-05-07T17:07:48.190Z"
   },
   {
    "duration": 49,
    "start_time": "2022-05-07T17:09:37.022Z"
   },
   {
    "duration": 11,
    "start_time": "2022-05-07T17:09:46.508Z"
   },
   {
    "duration": 9,
    "start_time": "2022-05-07T17:10:06.259Z"
   },
   {
    "duration": 5,
    "start_time": "2022-05-07T17:12:01.439Z"
   },
   {
    "duration": 9,
    "start_time": "2022-05-07T17:12:15.932Z"
   },
   {
    "duration": 2053,
    "start_time": "2022-05-07T17:12:36.057Z"
   },
   {
    "duration": 57,
    "start_time": "2022-05-07T17:12:38.113Z"
   },
   {
    "duration": 117,
    "start_time": "2022-05-07T17:12:38.176Z"
   },
   {
    "duration": 54,
    "start_time": "2022-05-07T17:12:38.295Z"
   },
   {
    "duration": 40,
    "start_time": "2022-05-07T17:12:38.352Z"
   },
   {
    "duration": 133,
    "start_time": "2022-05-07T17:12:38.394Z"
   },
   {
    "duration": 30,
    "start_time": "2022-05-07T17:12:38.531Z"
   },
   {
    "duration": 33,
    "start_time": "2022-05-07T17:12:38.563Z"
   },
   {
    "duration": 66,
    "start_time": "2022-05-07T17:12:38.636Z"
   },
   {
    "duration": 40,
    "start_time": "2022-05-07T17:12:38.704Z"
   },
   {
    "duration": 26,
    "start_time": "2022-05-07T17:12:38.746Z"
   },
   {
    "duration": 71,
    "start_time": "2022-05-07T17:12:38.774Z"
   },
   {
    "duration": 8,
    "start_time": "2022-05-07T17:12:38.848Z"
   },
   {
    "duration": 14,
    "start_time": "2022-05-07T17:12:38.858Z"
   },
   {
    "duration": 97,
    "start_time": "2022-05-07T17:12:38.874Z"
   },
   {
    "duration": 86,
    "start_time": "2022-05-07T17:12:38.974Z"
   },
   {
    "duration": 6,
    "start_time": "2022-05-07T17:12:39.062Z"
   },
   {
    "duration": 208,
    "start_time": "2022-05-07T17:12:39.071Z"
   },
   {
    "duration": 268,
    "start_time": "2022-05-07T17:12:39.282Z"
   },
   {
    "duration": 87,
    "start_time": "2022-05-07T17:12:39.553Z"
   },
   {
    "duration": 64,
    "start_time": "2022-05-07T17:12:39.642Z"
   },
   {
    "duration": 54,
    "start_time": "2022-05-07T17:12:39.708Z"
   },
   {
    "duration": 129,
    "start_time": "2022-05-07T17:12:39.765Z"
   },
   {
    "duration": 169,
    "start_time": "2022-05-07T17:12:39.897Z"
   },
   {
    "duration": 85,
    "start_time": "2022-05-07T17:12:40.070Z"
   },
   {
    "duration": 73,
    "start_time": "2022-05-07T17:12:40.158Z"
   },
   {
    "duration": 33,
    "start_time": "2022-05-07T17:12:40.239Z"
   },
   {
    "duration": 144,
    "start_time": "2022-05-07T17:12:40.275Z"
   },
   {
    "duration": 187,
    "start_time": "2022-05-07T17:12:40.426Z"
   },
   {
    "duration": 69,
    "start_time": "2022-05-07T17:12:40.615Z"
   },
   {
    "duration": 89,
    "start_time": "2022-05-07T17:12:40.686Z"
   },
   {
    "duration": 56,
    "start_time": "2022-05-07T17:12:40.777Z"
   },
   {
    "duration": 61,
    "start_time": "2022-05-07T17:12:40.836Z"
   },
   {
    "duration": 168,
    "start_time": "2022-05-07T17:12:40.899Z"
   },
   {
    "duration": 94,
    "start_time": "2022-05-07T17:12:41.070Z"
   },
   {
    "duration": 21,
    "start_time": "2022-05-07T17:12:41.166Z"
   },
   {
    "duration": 83,
    "start_time": "2022-05-07T17:12:41.189Z"
   },
   {
    "duration": 5,
    "start_time": "2022-05-07T17:12:41.274Z"
   },
   {
    "duration": 12,
    "start_time": "2022-05-07T17:12:41.281Z"
   },
   {
    "duration": 573,
    "start_time": "2022-05-07T17:12:41.296Z"
   },
   {
    "duration": 554,
    "start_time": "2022-05-07T17:12:41.872Z"
   },
   {
    "duration": 571,
    "start_time": "2022-05-07T17:12:42.430Z"
   },
   {
    "duration": 82,
    "start_time": "2022-05-07T17:12:43.004Z"
   },
   {
    "duration": 11,
    "start_time": "2022-05-07T17:12:43.088Z"
   },
   {
    "duration": 42,
    "start_time": "2022-05-07T17:12:43.101Z"
   },
   {
    "duration": 8,
    "start_time": "2022-05-07T17:13:41.295Z"
   },
   {
    "duration": 8,
    "start_time": "2022-05-07T17:14:02.507Z"
   },
   {
    "duration": 12,
    "start_time": "2022-05-07T17:20:47.402Z"
   },
   {
    "duration": 9,
    "start_time": "2022-05-07T17:20:56.672Z"
   },
   {
    "duration": 7,
    "start_time": "2022-05-07T17:21:13.636Z"
   },
   {
    "duration": 8,
    "start_time": "2022-05-07T17:22:13.063Z"
   },
   {
    "duration": 8,
    "start_time": "2022-05-07T17:35:41.466Z"
   },
   {
    "duration": 2116,
    "start_time": "2022-05-07T17:38:40.021Z"
   },
   {
    "duration": 47,
    "start_time": "2022-05-07T17:38:42.141Z"
   },
   {
    "duration": 114,
    "start_time": "2022-05-07T17:38:42.190Z"
   },
   {
    "duration": 51,
    "start_time": "2022-05-07T17:38:42.307Z"
   },
   {
    "duration": 37,
    "start_time": "2022-05-07T17:38:42.361Z"
   },
   {
    "duration": 126,
    "start_time": "2022-05-07T17:38:42.400Z"
   },
   {
    "duration": 30,
    "start_time": "2022-05-07T17:38:42.530Z"
   },
   {
    "duration": 62,
    "start_time": "2022-05-07T17:38:42.562Z"
   },
   {
    "duration": 70,
    "start_time": "2022-05-07T17:38:42.628Z"
   },
   {
    "duration": 26,
    "start_time": "2022-05-07T17:38:42.727Z"
   },
   {
    "duration": 22,
    "start_time": "2022-05-07T17:38:42.755Z"
   },
   {
    "duration": 59,
    "start_time": "2022-05-07T17:38:42.780Z"
   },
   {
    "duration": 10,
    "start_time": "2022-05-07T17:38:42.843Z"
   },
   {
    "duration": 18,
    "start_time": "2022-05-07T17:38:42.856Z"
   },
   {
    "duration": 93,
    "start_time": "2022-05-07T17:38:42.876Z"
   },
   {
    "duration": 86,
    "start_time": "2022-05-07T17:38:42.971Z"
   },
   {
    "duration": 4,
    "start_time": "2022-05-07T17:38:43.060Z"
   },
   {
    "duration": 190,
    "start_time": "2022-05-07T17:38:43.066Z"
   },
   {
    "duration": 340,
    "start_time": "2022-05-07T17:38:43.258Z"
   },
   {
    "duration": 71,
    "start_time": "2022-05-07T17:38:43.600Z"
   },
   {
    "duration": 85,
    "start_time": "2022-05-07T17:38:43.673Z"
   },
   {
    "duration": 30,
    "start_time": "2022-05-07T17:38:43.760Z"
   },
   {
    "duration": 125,
    "start_time": "2022-05-07T17:38:43.792Z"
   },
   {
    "duration": 162,
    "start_time": "2022-05-07T17:38:43.925Z"
   },
   {
    "duration": 72,
    "start_time": "2022-05-07T17:38:44.089Z"
   },
   {
    "duration": 80,
    "start_time": "2022-05-07T17:38:44.163Z"
   },
   {
    "duration": 36,
    "start_time": "2022-05-07T17:38:44.245Z"
   },
   {
    "duration": 145,
    "start_time": "2022-05-07T17:38:44.286Z"
   },
   {
    "duration": 176,
    "start_time": "2022-05-07T17:38:44.433Z"
   },
   {
    "duration": 67,
    "start_time": "2022-05-07T17:38:44.611Z"
   },
   {
    "duration": 78,
    "start_time": "2022-05-07T17:38:44.680Z"
   },
   {
    "duration": 30,
    "start_time": "2022-05-07T17:38:44.761Z"
   },
   {
    "duration": 91,
    "start_time": "2022-05-07T17:38:44.794Z"
   },
   {
    "duration": 161,
    "start_time": "2022-05-07T17:38:44.887Z"
   },
   {
    "duration": 91,
    "start_time": "2022-05-07T17:38:45.051Z"
   },
   {
    "duration": 23,
    "start_time": "2022-05-07T17:38:45.144Z"
   },
   {
    "duration": 93,
    "start_time": "2022-05-07T17:38:45.169Z"
   },
   {
    "duration": 6,
    "start_time": "2022-05-07T17:38:45.265Z"
   },
   {
    "duration": 11,
    "start_time": "2022-05-07T17:38:45.273Z"
   },
   {
    "duration": 572,
    "start_time": "2022-05-07T17:38:45.286Z"
   },
   {
    "duration": 538,
    "start_time": "2022-05-07T17:38:45.860Z"
   },
   {
    "duration": 561,
    "start_time": "2022-05-07T17:38:46.401Z"
   },
   {
    "duration": 94,
    "start_time": "2022-05-07T17:38:46.964Z"
   },
   {
    "duration": 12,
    "start_time": "2022-05-07T17:38:47.060Z"
   },
   {
    "duration": 11,
    "start_time": "2022-05-07T17:38:47.075Z"
   },
   {
    "duration": 2144,
    "start_time": "2022-05-07T17:44:26.058Z"
   },
   {
    "duration": 56,
    "start_time": "2022-05-07T17:44:28.205Z"
   },
   {
    "duration": 122,
    "start_time": "2022-05-07T17:44:28.264Z"
   },
   {
    "duration": 55,
    "start_time": "2022-05-07T17:44:28.389Z"
   },
   {
    "duration": 44,
    "start_time": "2022-05-07T17:44:28.449Z"
   },
   {
    "duration": 129,
    "start_time": "2022-05-07T17:44:28.496Z"
   },
   {
    "duration": 35,
    "start_time": "2022-05-07T17:44:28.628Z"
   },
   {
    "duration": 63,
    "start_time": "2022-05-07T17:44:28.666Z"
   },
   {
    "duration": 67,
    "start_time": "2022-05-07T17:44:28.736Z"
   },
   {
    "duration": 47,
    "start_time": "2022-05-07T17:44:28.805Z"
   },
   {
    "duration": 27,
    "start_time": "2022-05-07T17:44:28.855Z"
   },
   {
    "duration": 75,
    "start_time": "2022-05-07T17:44:28.885Z"
   },
   {
    "duration": 9,
    "start_time": "2022-05-07T17:44:28.963Z"
   },
   {
    "duration": 17,
    "start_time": "2022-05-07T17:44:28.977Z"
   },
   {
    "duration": 117,
    "start_time": "2022-05-07T17:44:28.996Z"
   },
   {
    "duration": 121,
    "start_time": "2022-05-07T17:44:29.124Z"
   },
   {
    "duration": 6,
    "start_time": "2022-05-07T17:44:29.248Z"
   },
   {
    "duration": 260,
    "start_time": "2022-05-07T17:44:29.257Z"
   },
   {
    "duration": 342,
    "start_time": "2022-05-07T17:44:29.529Z"
   },
   {
    "duration": 80,
    "start_time": "2022-05-07T17:44:29.873Z"
   },
   {
    "duration": 87,
    "start_time": "2022-05-07T17:44:29.955Z"
   },
   {
    "duration": 49,
    "start_time": "2022-05-07T17:44:30.045Z"
   },
   {
    "duration": 133,
    "start_time": "2022-05-07T17:44:30.097Z"
   },
   {
    "duration": 163,
    "start_time": "2022-05-07T17:44:30.233Z"
   },
   {
    "duration": 79,
    "start_time": "2022-05-07T17:44:30.398Z"
   },
   {
    "duration": 88,
    "start_time": "2022-05-07T17:44:30.480Z"
   },
   {
    "duration": 61,
    "start_time": "2022-05-07T17:44:30.571Z"
   },
   {
    "duration": 134,
    "start_time": "2022-05-07T17:44:30.635Z"
   },
   {
    "duration": 191,
    "start_time": "2022-05-07T17:44:30.772Z"
   },
   {
    "duration": 80,
    "start_time": "2022-05-07T17:44:30.966Z"
   },
   {
    "duration": 77,
    "start_time": "2022-05-07T17:44:31.050Z"
   },
   {
    "duration": 34,
    "start_time": "2022-05-07T17:44:31.131Z"
   },
   {
    "duration": 103,
    "start_time": "2022-05-07T17:44:31.168Z"
   },
   {
    "duration": 178,
    "start_time": "2022-05-07T17:44:31.273Z"
   },
   {
    "duration": 94,
    "start_time": "2022-05-07T17:44:31.453Z"
   },
   {
    "duration": 25,
    "start_time": "2022-05-07T17:44:31.549Z"
   },
   {
    "duration": 120,
    "start_time": "2022-05-07T17:44:31.577Z"
   },
   {
    "duration": 5,
    "start_time": "2022-05-07T17:44:31.700Z"
   },
   {
    "duration": 30,
    "start_time": "2022-05-07T17:44:31.708Z"
   },
   {
    "duration": 580,
    "start_time": "2022-05-07T17:44:31.741Z"
   },
   {
    "duration": 533,
    "start_time": "2022-05-07T17:44:32.329Z"
   },
   {
    "duration": 574,
    "start_time": "2022-05-07T17:44:32.864Z"
   },
   {
    "duration": 71,
    "start_time": "2022-05-07T17:44:33.440Z"
   },
   {
    "duration": 12,
    "start_time": "2022-05-07T17:44:33.532Z"
   },
   {
    "duration": 11,
    "start_time": "2022-05-07T17:44:33.546Z"
   },
   {
    "duration": 197,
    "start_time": "2022-05-07T17:44:33.560Z"
   },
   {
    "duration": 121,
    "start_time": "2022-05-07T17:45:10.735Z"
   },
   {
    "duration": 72,
    "start_time": "2022-05-07T17:45:16.997Z"
   },
   {
    "duration": 34,
    "start_time": "2022-05-07T17:45:51.810Z"
   },
   {
    "duration": 71,
    "start_time": "2022-05-07T17:46:00.641Z"
   },
   {
    "duration": 35,
    "start_time": "2022-05-07T17:46:20.780Z"
   },
   {
    "duration": 56,
    "start_time": "2022-05-07T17:46:26.656Z"
   },
   {
    "duration": 37,
    "start_time": "2022-05-07T17:47:54.262Z"
   },
   {
    "duration": 65,
    "start_time": "2022-05-07T17:48:05.694Z"
   },
   {
    "duration": 47,
    "start_time": "2022-05-07T17:48:33.610Z"
   },
   {
    "duration": 71,
    "start_time": "2022-05-07T17:48:39.031Z"
   },
   {
    "duration": 51,
    "start_time": "2022-05-07T17:48:49.325Z"
   },
   {
    "duration": 96,
    "start_time": "2022-05-07T17:49:06.896Z"
   },
   {
    "duration": 59,
    "start_time": "2022-05-07T17:49:19.021Z"
   },
   {
    "duration": 2174,
    "start_time": "2022-05-07T17:49:37.636Z"
   },
   {
    "duration": 59,
    "start_time": "2022-05-07T17:49:39.813Z"
   },
   {
    "duration": 117,
    "start_time": "2022-05-07T17:49:39.874Z"
   },
   {
    "duration": 53,
    "start_time": "2022-05-07T17:49:39.994Z"
   },
   {
    "duration": 40,
    "start_time": "2022-05-07T17:49:40.049Z"
   },
   {
    "duration": 120,
    "start_time": "2022-05-07T17:49:40.091Z"
   },
   {
    "duration": 29,
    "start_time": "2022-05-07T17:49:40.229Z"
   },
   {
    "duration": 44,
    "start_time": "2022-05-07T17:49:40.260Z"
   },
   {
    "duration": 72,
    "start_time": "2022-05-07T17:49:40.331Z"
   },
   {
    "duration": 28,
    "start_time": "2022-05-07T17:49:40.425Z"
   },
   {
    "duration": 26,
    "start_time": "2022-05-07T17:49:40.455Z"
   },
   {
    "duration": 67,
    "start_time": "2022-05-07T17:49:40.483Z"
   },
   {
    "duration": 11,
    "start_time": "2022-05-07T17:49:40.553Z"
   },
   {
    "duration": 16,
    "start_time": "2022-05-07T17:49:40.567Z"
   },
   {
    "duration": 107,
    "start_time": "2022-05-07T17:49:40.585Z"
   },
   {
    "duration": 95,
    "start_time": "2022-05-07T17:49:40.694Z"
   },
   {
    "duration": 5,
    "start_time": "2022-05-07T17:49:40.791Z"
   },
   {
    "duration": 213,
    "start_time": "2022-05-07T17:49:40.798Z"
   },
   {
    "duration": 291,
    "start_time": "2022-05-07T17:49:41.024Z"
   },
   {
    "duration": 67,
    "start_time": "2022-05-07T17:49:41.318Z"
   },
   {
    "duration": 86,
    "start_time": "2022-05-07T17:49:41.388Z"
   },
   {
    "duration": 58,
    "start_time": "2022-05-07T17:49:41.477Z"
   },
   {
    "duration": 117,
    "start_time": "2022-05-07T17:49:41.538Z"
   },
   {
    "duration": 162,
    "start_time": "2022-05-07T17:49:41.657Z"
   },
   {
    "duration": 67,
    "start_time": "2022-05-07T17:49:41.824Z"
   },
   {
    "duration": 95,
    "start_time": "2022-05-07T17:49:41.894Z"
   },
   {
    "duration": 61,
    "start_time": "2022-05-07T17:49:41.992Z"
   },
   {
    "duration": 134,
    "start_time": "2022-05-07T17:49:42.058Z"
   },
   {
    "duration": 191,
    "start_time": "2022-05-07T17:49:42.194Z"
   },
   {
    "duration": 79,
    "start_time": "2022-05-07T17:49:42.387Z"
   },
   {
    "duration": 90,
    "start_time": "2022-05-07T17:49:42.469Z"
   },
   {
    "duration": 34,
    "start_time": "2022-05-07T17:49:42.562Z"
   },
   {
    "duration": 89,
    "start_time": "2022-05-07T17:49:42.598Z"
   },
   {
    "duration": 176,
    "start_time": "2022-05-07T17:49:42.690Z"
   },
   {
    "duration": 89,
    "start_time": "2022-05-07T17:49:42.868Z"
   },
   {
    "duration": 21,
    "start_time": "2022-05-07T17:49:42.959Z"
   },
   {
    "duration": 91,
    "start_time": "2022-05-07T17:49:42.984Z"
   },
   {
    "duration": 6,
    "start_time": "2022-05-07T17:49:43.078Z"
   },
   {
    "duration": 43,
    "start_time": "2022-05-07T17:49:43.087Z"
   },
   {
    "duration": 916,
    "start_time": "2022-05-07T17:49:43.133Z"
   },
   {
    "duration": 565,
    "start_time": "2022-05-07T17:49:44.053Z"
   },
   {
    "duration": 565,
    "start_time": "2022-05-07T17:49:44.626Z"
   },
   {
    "duration": 88,
    "start_time": "2022-05-07T17:49:45.194Z"
   },
   {
    "duration": 10,
    "start_time": "2022-05-07T17:49:45.284Z"
   },
   {
    "duration": 32,
    "start_time": "2022-05-07T17:49:45.296Z"
   },
   {
    "duration": 205,
    "start_time": "2022-05-07T17:49:45.331Z"
   },
   {
    "duration": 49,
    "start_time": "2022-05-07T17:49:51.154Z"
   },
   {
    "duration": 35,
    "start_time": "2022-05-07T17:50:06.622Z"
   },
   {
    "duration": 45,
    "start_time": "2022-05-07T17:50:15.263Z"
   },
   {
    "duration": 2119,
    "start_time": "2022-05-07T17:50:29.617Z"
   },
   {
    "duration": 51,
    "start_time": "2022-05-07T17:50:31.740Z"
   },
   {
    "duration": 144,
    "start_time": "2022-05-07T17:50:31.799Z"
   },
   {
    "duration": 34,
    "start_time": "2022-05-07T17:50:31.945Z"
   },
   {
    "duration": 65,
    "start_time": "2022-05-07T17:50:31.982Z"
   },
   {
    "duration": 118,
    "start_time": "2022-05-07T17:50:32.049Z"
   },
   {
    "duration": 28,
    "start_time": "2022-05-07T17:50:32.169Z"
   },
   {
    "duration": 55,
    "start_time": "2022-05-07T17:50:32.199Z"
   },
   {
    "duration": 95,
    "start_time": "2022-05-07T17:50:32.258Z"
   },
   {
    "duration": 23,
    "start_time": "2022-05-07T17:50:32.355Z"
   },
   {
    "duration": 60,
    "start_time": "2022-05-07T17:50:32.381Z"
   },
   {
    "duration": 41,
    "start_time": "2022-05-07T17:50:32.444Z"
   },
   {
    "duration": 12,
    "start_time": "2022-05-07T17:50:32.487Z"
   },
   {
    "duration": 37,
    "start_time": "2022-05-07T17:50:32.501Z"
   },
   {
    "duration": 89,
    "start_time": "2022-05-07T17:50:32.541Z"
   },
   {
    "duration": 80,
    "start_time": "2022-05-07T17:50:32.633Z"
   },
   {
    "duration": 6,
    "start_time": "2022-05-07T17:50:32.727Z"
   },
   {
    "duration": 206,
    "start_time": "2022-05-07T17:50:32.737Z"
   },
   {
    "duration": 281,
    "start_time": "2022-05-07T17:50:32.946Z"
   },
   {
    "duration": 59,
    "start_time": "2022-05-07T17:50:33.230Z"
   },
   {
    "duration": 88,
    "start_time": "2022-05-07T17:50:33.291Z"
   },
   {
    "duration": 50,
    "start_time": "2022-05-07T17:50:33.381Z"
   },
   {
    "duration": 118,
    "start_time": "2022-05-07T17:50:33.435Z"
   },
   {
    "duration": 161,
    "start_time": "2022-05-07T17:50:33.556Z"
   },
   {
    "duration": 69,
    "start_time": "2022-05-07T17:50:33.719Z"
   },
   {
    "duration": 89,
    "start_time": "2022-05-07T17:50:33.791Z"
   },
   {
    "duration": 45,
    "start_time": "2022-05-07T17:50:33.885Z"
   },
   {
    "duration": 132,
    "start_time": "2022-05-07T17:50:33.933Z"
   },
   {
    "duration": 188,
    "start_time": "2022-05-07T17:50:34.068Z"
   },
   {
    "duration": 80,
    "start_time": "2022-05-07T17:50:34.258Z"
   },
   {
    "duration": 62,
    "start_time": "2022-05-07T17:50:34.340Z"
   },
   {
    "duration": 44,
    "start_time": "2022-05-07T17:50:34.426Z"
   },
   {
    "duration": 79,
    "start_time": "2022-05-07T17:50:34.472Z"
   },
   {
    "duration": 148,
    "start_time": "2022-05-07T17:50:34.553Z"
   },
   {
    "duration": 85,
    "start_time": "2022-05-07T17:50:34.704Z"
   },
   {
    "duration": 51,
    "start_time": "2022-05-07T17:50:34.791Z"
   },
   {
    "duration": 48,
    "start_time": "2022-05-07T17:50:34.845Z"
   },
   {
    "duration": 29,
    "start_time": "2022-05-07T17:50:34.895Z"
   },
   {
    "duration": 15,
    "start_time": "2022-05-07T17:50:34.927Z"
   },
   {
    "duration": 546,
    "start_time": "2022-05-07T17:50:34.945Z"
   },
   {
    "duration": 541,
    "start_time": "2022-05-07T17:50:35.493Z"
   },
   {
    "duration": 552,
    "start_time": "2022-05-07T17:50:36.037Z"
   },
   {
    "duration": 90,
    "start_time": "2022-05-07T17:50:36.591Z"
   },
   {
    "duration": 10,
    "start_time": "2022-05-07T17:50:36.683Z"
   },
   {
    "duration": 31,
    "start_time": "2022-05-07T17:50:36.695Z"
   },
   {
    "duration": 185,
    "start_time": "2022-05-07T17:50:36.729Z"
   },
   {
    "duration": 0,
    "start_time": "2022-05-07T17:50:36.925Z"
   },
   {
    "duration": 45,
    "start_time": "2022-05-07T17:50:45.665Z"
   },
   {
    "duration": 36,
    "start_time": "2022-05-07T17:50:53.619Z"
   },
   {
    "duration": 553,
    "start_time": "2022-05-07T17:50:59.949Z"
   },
   {
    "duration": 50,
    "start_time": "2022-05-07T17:51:00.505Z"
   },
   {
    "duration": 123,
    "start_time": "2022-05-07T17:51:00.558Z"
   },
   {
    "duration": 41,
    "start_time": "2022-05-07T17:51:00.683Z"
   },
   {
    "duration": 44,
    "start_time": "2022-05-07T17:51:00.730Z"
   },
   {
    "duration": 113,
    "start_time": "2022-05-07T17:51:00.777Z"
   },
   {
    "duration": 48,
    "start_time": "2022-05-07T17:51:00.892Z"
   },
   {
    "duration": 35,
    "start_time": "2022-05-07T17:51:00.943Z"
   },
   {
    "duration": 89,
    "start_time": "2022-05-07T17:51:00.980Z"
   },
   {
    "duration": 20,
    "start_time": "2022-05-07T17:51:01.071Z"
   },
   {
    "duration": 56,
    "start_time": "2022-05-07T17:51:01.093Z"
   },
   {
    "duration": 43,
    "start_time": "2022-05-07T17:51:01.151Z"
   },
   {
    "duration": 17,
    "start_time": "2022-05-07T17:51:01.196Z"
   },
   {
    "duration": 34,
    "start_time": "2022-05-07T17:51:01.218Z"
   },
   {
    "duration": 91,
    "start_time": "2022-05-07T17:51:01.254Z"
   },
   {
    "duration": 76,
    "start_time": "2022-05-07T17:51:01.348Z"
   },
   {
    "duration": 5,
    "start_time": "2022-05-07T17:51:01.431Z"
   },
   {
    "duration": 186,
    "start_time": "2022-05-07T17:51:01.441Z"
   },
   {
    "duration": 235,
    "start_time": "2022-05-07T17:51:01.630Z"
   },
   {
    "duration": 79,
    "start_time": "2022-05-07T17:51:01.868Z"
   },
   {
    "duration": 76,
    "start_time": "2022-05-07T17:51:01.949Z"
   },
   {
    "duration": 38,
    "start_time": "2022-05-07T17:51:02.028Z"
   },
   {
    "duration": 129,
    "start_time": "2022-05-07T17:51:02.069Z"
   },
   {
    "duration": 156,
    "start_time": "2022-05-07T17:51:02.201Z"
   },
   {
    "duration": 81,
    "start_time": "2022-05-07T17:51:02.359Z"
   },
   {
    "duration": 82,
    "start_time": "2022-05-07T17:51:02.443Z"
   },
   {
    "duration": 38,
    "start_time": "2022-05-07T17:51:02.529Z"
   },
   {
    "duration": 143,
    "start_time": "2022-05-07T17:51:02.569Z"
   },
   {
    "duration": 184,
    "start_time": "2022-05-07T17:51:02.714Z"
   },
   {
    "duration": 75,
    "start_time": "2022-05-07T17:51:02.900Z"
   },
   {
    "duration": 83,
    "start_time": "2022-05-07T17:51:02.977Z"
   },
   {
    "duration": 33,
    "start_time": "2022-05-07T17:51:03.062Z"
   },
   {
    "duration": 89,
    "start_time": "2022-05-07T17:51:03.097Z"
   },
   {
    "duration": 168,
    "start_time": "2022-05-07T17:51:03.188Z"
   },
   {
    "duration": 95,
    "start_time": "2022-05-07T17:51:03.358Z"
   },
   {
    "duration": 21,
    "start_time": "2022-05-07T17:51:03.455Z"
   },
   {
    "duration": 88,
    "start_time": "2022-05-07T17:51:03.478Z"
   },
   {
    "duration": 5,
    "start_time": "2022-05-07T17:51:03.568Z"
   },
   {
    "duration": 14,
    "start_time": "2022-05-07T17:51:03.575Z"
   },
   {
    "duration": 557,
    "start_time": "2022-05-07T17:51:03.591Z"
   },
   {
    "duration": 546,
    "start_time": "2022-05-07T17:51:04.153Z"
   },
   {
    "duration": 679,
    "start_time": "2022-05-07T17:51:04.701Z"
   },
   {
    "duration": 89,
    "start_time": "2022-05-07T17:51:05.382Z"
   },
   {
    "duration": 10,
    "start_time": "2022-05-07T17:51:05.473Z"
   },
   {
    "duration": 10,
    "start_time": "2022-05-07T17:51:05.485Z"
   },
   {
    "duration": 50,
    "start_time": "2022-05-07T17:51:05.497Z"
   },
   {
    "duration": 0,
    "start_time": "2022-05-07T17:51:05.549Z"
   },
   {
    "duration": 45,
    "start_time": "2022-05-07T17:51:08.154Z"
   },
   {
    "duration": 38,
    "start_time": "2022-05-07T17:51:14.158Z"
   },
   {
    "duration": 44,
    "start_time": "2022-05-07T17:51:18.206Z"
   },
   {
    "duration": 74,
    "start_time": "2022-05-07T17:51:37.006Z"
   },
   {
    "duration": 67,
    "start_time": "2022-05-07T17:51:46.479Z"
   },
   {
    "duration": 10,
    "start_time": "2022-05-07T17:54:32.953Z"
   },
   {
    "duration": 8,
    "start_time": "2022-05-07T17:55:43.868Z"
   },
   {
    "duration": 7,
    "start_time": "2022-05-07T17:56:08.582Z"
   },
   {
    "duration": 14,
    "start_time": "2022-05-07T17:56:43.024Z"
   },
   {
    "duration": 7,
    "start_time": "2022-05-07T17:56:51.042Z"
   },
   {
    "duration": 7,
    "start_time": "2022-05-07T17:57:00.342Z"
   },
   {
    "duration": 5,
    "start_time": "2022-05-07T17:59:17.396Z"
   },
   {
    "duration": 2277,
    "start_time": "2022-05-07T18:51:44.401Z"
   },
   {
    "duration": 63,
    "start_time": "2022-05-07T18:51:46.681Z"
   },
   {
    "duration": 114,
    "start_time": "2022-05-07T18:51:46.747Z"
   },
   {
    "duration": 32,
    "start_time": "2022-05-07T18:51:46.864Z"
   },
   {
    "duration": 71,
    "start_time": "2022-05-07T18:51:46.898Z"
   },
   {
    "duration": 124,
    "start_time": "2022-05-07T18:51:46.971Z"
   },
   {
    "duration": 48,
    "start_time": "2022-05-07T18:51:47.098Z"
   },
   {
    "duration": 79,
    "start_time": "2022-05-07T18:51:47.150Z"
   },
   {
    "duration": 73,
    "start_time": "2022-05-07T18:51:47.231Z"
   },
   {
    "duration": 27,
    "start_time": "2022-05-07T18:51:47.326Z"
   },
   {
    "duration": 26,
    "start_time": "2022-05-07T18:51:47.356Z"
   },
   {
    "duration": 63,
    "start_time": "2022-05-07T18:51:47.385Z"
   },
   {
    "duration": 8,
    "start_time": "2022-05-07T18:51:47.451Z"
   },
   {
    "duration": 15,
    "start_time": "2022-05-07T18:51:47.461Z"
   },
   {
    "duration": 100,
    "start_time": "2022-05-07T18:51:47.478Z"
   },
   {
    "duration": 124,
    "start_time": "2022-05-07T18:51:47.581Z"
   },
   {
    "duration": 5,
    "start_time": "2022-05-07T18:51:47.708Z"
   },
   {
    "duration": 273,
    "start_time": "2022-05-07T18:51:47.725Z"
   },
   {
    "duration": 281,
    "start_time": "2022-05-07T18:51:48.001Z"
   },
   {
    "duration": 83,
    "start_time": "2022-05-07T18:51:48.285Z"
   },
   {
    "duration": 86,
    "start_time": "2022-05-07T18:51:48.371Z"
   },
   {
    "duration": 35,
    "start_time": "2022-05-07T18:51:48.460Z"
   },
   {
    "duration": 130,
    "start_time": "2022-05-07T18:51:48.497Z"
   },
   {
    "duration": 173,
    "start_time": "2022-05-07T18:51:48.629Z"
   },
   {
    "duration": 78,
    "start_time": "2022-05-07T18:51:48.804Z"
   },
   {
    "duration": 84,
    "start_time": "2022-05-07T18:51:48.884Z"
   },
   {
    "duration": 61,
    "start_time": "2022-05-07T18:51:48.970Z"
   },
   {
    "duration": 178,
    "start_time": "2022-05-07T18:51:49.039Z"
   },
   {
    "duration": 265,
    "start_time": "2022-05-07T18:51:49.220Z"
   },
   {
    "duration": 104,
    "start_time": "2022-05-07T18:51:49.488Z"
   },
   {
    "duration": 88,
    "start_time": "2022-05-07T18:51:49.595Z"
   },
   {
    "duration": 53,
    "start_time": "2022-05-07T18:51:49.686Z"
   },
   {
    "duration": 63,
    "start_time": "2022-05-07T18:51:49.743Z"
   },
   {
    "duration": 177,
    "start_time": "2022-05-07T18:51:49.808Z"
   },
   {
    "duration": 89,
    "start_time": "2022-05-07T18:51:49.988Z"
   },
   {
    "duration": 59,
    "start_time": "2022-05-07T18:51:50.079Z"
   },
   {
    "duration": 54,
    "start_time": "2022-05-07T18:51:50.141Z"
   },
   {
    "duration": 5,
    "start_time": "2022-05-07T18:51:50.197Z"
   },
   {
    "duration": 10,
    "start_time": "2022-05-07T18:51:50.226Z"
   },
   {
    "duration": 583,
    "start_time": "2022-05-07T18:51:50.241Z"
   },
   {
    "duration": 639,
    "start_time": "2022-05-07T18:51:50.828Z"
   },
   {
    "duration": 755,
    "start_time": "2022-05-07T18:51:51.470Z"
   },
   {
    "duration": 73,
    "start_time": "2022-05-07T18:51:52.228Z"
   },
   {
    "duration": 31,
    "start_time": "2022-05-07T18:51:52.303Z"
   },
   {
    "duration": 19,
    "start_time": "2022-05-07T18:51:52.338Z"
   },
   {
    "duration": 196,
    "start_time": "2022-05-07T18:51:52.360Z"
   },
   {
    "duration": 0,
    "start_time": "2022-05-07T18:51:52.558Z"
   },
   {
    "duration": 0,
    "start_time": "2022-05-07T18:51:52.560Z"
   },
   {
    "duration": 0,
    "start_time": "2022-05-07T18:51:52.562Z"
   },
   {
    "duration": 12,
    "start_time": "2022-05-07T18:52:08.683Z"
   },
   {
    "duration": 16,
    "start_time": "2022-05-07T18:52:16.141Z"
   },
   {
    "duration": 67,
    "start_time": "2022-05-07T18:52:17.983Z"
   },
   {
    "duration": 10,
    "start_time": "2022-05-07T18:52:20.601Z"
   },
   {
    "duration": 6,
    "start_time": "2022-05-07T18:52:22.207Z"
   },
   {
    "duration": 2852,
    "start_time": "2022-05-07T20:11:23.225Z"
   },
   {
    "duration": 82,
    "start_time": "2022-05-07T20:11:26.082Z"
   },
   {
    "duration": 169,
    "start_time": "2022-05-07T20:11:26.167Z"
   },
   {
    "duration": 47,
    "start_time": "2022-05-07T20:11:26.340Z"
   },
   {
    "duration": 96,
    "start_time": "2022-05-07T20:11:26.390Z"
   },
   {
    "duration": 154,
    "start_time": "2022-05-07T20:11:26.489Z"
   },
   {
    "duration": 26,
    "start_time": "2022-05-07T20:11:26.645Z"
   },
   {
    "duration": 67,
    "start_time": "2022-05-07T20:11:26.673Z"
   },
   {
    "duration": 124,
    "start_time": "2022-05-07T20:11:26.743Z"
   },
   {
    "duration": 25,
    "start_time": "2022-05-07T20:11:26.872Z"
   },
   {
    "duration": 48,
    "start_time": "2022-05-07T20:11:26.899Z"
   },
   {
    "duration": 31,
    "start_time": "2022-05-07T20:11:26.949Z"
   },
   {
    "duration": 42,
    "start_time": "2022-05-07T20:11:26.982Z"
   },
   {
    "duration": 12,
    "start_time": "2022-05-07T20:11:27.028Z"
   },
   {
    "duration": 115,
    "start_time": "2022-05-07T20:11:27.043Z"
   },
   {
    "duration": 116,
    "start_time": "2022-05-07T20:11:27.161Z"
   },
   {
    "duration": 6,
    "start_time": "2022-05-07T20:11:27.279Z"
   },
   {
    "duration": 206,
    "start_time": "2022-05-07T20:11:27.288Z"
   },
   {
    "duration": 364,
    "start_time": "2022-05-07T20:11:27.497Z"
   },
   {
    "duration": 104,
    "start_time": "2022-05-07T20:11:27.864Z"
   },
   {
    "duration": 121,
    "start_time": "2022-05-07T20:11:27.971Z"
   },
   {
    "duration": 47,
    "start_time": "2022-05-07T20:11:28.095Z"
   },
   {
    "duration": 163,
    "start_time": "2022-05-07T20:11:28.145Z"
   },
   {
    "duration": 245,
    "start_time": "2022-05-07T20:11:28.311Z"
   },
   {
    "duration": 76,
    "start_time": "2022-05-07T20:11:28.560Z"
   },
   {
    "duration": 63,
    "start_time": "2022-05-07T20:11:28.638Z"
   },
   {
    "duration": 52,
    "start_time": "2022-05-07T20:11:28.724Z"
   },
   {
    "duration": 198,
    "start_time": "2022-05-07T20:11:28.784Z"
   },
   {
    "duration": 263,
    "start_time": "2022-05-07T20:11:28.985Z"
   },
   {
    "duration": 74,
    "start_time": "2022-05-07T20:11:29.251Z"
   },
   {
    "duration": 62,
    "start_time": "2022-05-07T20:11:29.328Z"
   },
   {
    "duration": 64,
    "start_time": "2022-05-07T20:11:29.392Z"
   },
   {
    "duration": 87,
    "start_time": "2022-05-07T20:11:29.459Z"
   },
   {
    "duration": 151,
    "start_time": "2022-05-07T20:11:29.548Z"
   },
   {
    "duration": 79,
    "start_time": "2022-05-07T20:11:29.702Z"
   },
   {
    "duration": 52,
    "start_time": "2022-05-07T20:11:29.783Z"
   },
   {
    "duration": 99,
    "start_time": "2022-05-07T20:11:29.838Z"
   },
   {
    "duration": 6,
    "start_time": "2022-05-07T20:11:29.940Z"
   },
   {
    "duration": 11,
    "start_time": "2022-05-07T20:11:29.949Z"
   },
   {
    "duration": 807,
    "start_time": "2022-05-07T20:11:29.963Z"
   },
   {
    "duration": 763,
    "start_time": "2022-05-07T20:11:30.773Z"
   },
   {
    "duration": 812,
    "start_time": "2022-05-07T20:11:31.539Z"
   },
   {
    "duration": 126,
    "start_time": "2022-05-07T20:11:32.354Z"
   },
   {
    "duration": 15,
    "start_time": "2022-05-07T20:11:32.483Z"
   },
   {
    "duration": 30,
    "start_time": "2022-05-07T20:11:32.502Z"
   },
   {
    "duration": 179,
    "start_time": "2022-05-07T20:11:32.534Z"
   },
   {
    "duration": 0,
    "start_time": "2022-05-07T20:11:32.715Z"
   },
   {
    "duration": 1,
    "start_time": "2022-05-07T20:11:32.716Z"
   },
   {
    "duration": 0,
    "start_time": "2022-05-07T20:11:32.718Z"
   },
   {
    "duration": 17,
    "start_time": "2022-05-07T20:11:37.575Z"
   },
   {
    "duration": 87,
    "start_time": "2022-05-07T20:11:42.214Z"
   },
   {
    "duration": 13,
    "start_time": "2022-05-07T20:11:45.378Z"
   },
   {
    "duration": 10,
    "start_time": "2022-05-07T20:11:48.122Z"
   },
   {
    "duration": 2125,
    "start_time": "2022-05-07T20:52:21.026Z"
   },
   {
    "duration": 51,
    "start_time": "2022-05-07T20:52:23.153Z"
   },
   {
    "duration": 99,
    "start_time": "2022-05-07T20:52:23.206Z"
   },
   {
    "duration": 46,
    "start_time": "2022-05-07T20:52:23.308Z"
   },
   {
    "duration": 40,
    "start_time": "2022-05-07T20:52:23.357Z"
   },
   {
    "duration": 135,
    "start_time": "2022-05-07T20:52:23.399Z"
   },
   {
    "duration": 27,
    "start_time": "2022-05-07T20:52:23.536Z"
   },
   {
    "duration": 69,
    "start_time": "2022-05-07T20:52:23.566Z"
   },
   {
    "duration": 89,
    "start_time": "2022-05-07T20:52:23.637Z"
   },
   {
    "duration": 26,
    "start_time": "2022-05-07T20:52:23.730Z"
   },
   {
    "duration": 25,
    "start_time": "2022-05-07T20:52:23.758Z"
   },
   {
    "duration": 30,
    "start_time": "2022-05-07T20:52:23.824Z"
   },
   {
    "duration": 12,
    "start_time": "2022-05-07T20:52:23.856Z"
   },
   {
    "duration": 55,
    "start_time": "2022-05-07T20:52:23.870Z"
   },
   {
    "duration": 82,
    "start_time": "2022-05-07T20:52:23.927Z"
   },
   {
    "duration": 93,
    "start_time": "2022-05-07T20:52:24.012Z"
   },
   {
    "duration": 5,
    "start_time": "2022-05-07T20:52:24.107Z"
   },
   {
    "duration": 206,
    "start_time": "2022-05-07T20:52:24.125Z"
   },
   {
    "duration": 284,
    "start_time": "2022-05-07T20:52:24.333Z"
   },
   {
    "duration": 63,
    "start_time": "2022-05-07T20:52:24.623Z"
   },
   {
    "duration": 91,
    "start_time": "2022-05-07T20:52:24.689Z"
   },
   {
    "duration": 52,
    "start_time": "2022-05-07T20:52:24.782Z"
   },
   {
    "duration": 117,
    "start_time": "2022-05-07T20:52:24.836Z"
   },
   {
    "duration": 197,
    "start_time": "2022-05-07T20:52:24.956Z"
   },
   {
    "duration": 98,
    "start_time": "2022-05-07T20:52:25.156Z"
   },
   {
    "duration": 111,
    "start_time": "2022-05-07T20:52:25.257Z"
   },
   {
    "duration": 66,
    "start_time": "2022-05-07T20:52:25.372Z"
   },
   {
    "duration": 199,
    "start_time": "2022-05-07T20:52:25.447Z"
   },
   {
    "duration": 286,
    "start_time": "2022-05-07T20:52:25.649Z"
   },
   {
    "duration": 104,
    "start_time": "2022-05-07T20:52:25.938Z"
   },
   {
    "duration": 121,
    "start_time": "2022-05-07T20:52:26.046Z"
   },
   {
    "duration": 34,
    "start_time": "2022-05-07T20:52:26.170Z"
   },
   {
    "duration": 74,
    "start_time": "2022-05-07T20:52:26.207Z"
   },
   {
    "duration": 170,
    "start_time": "2022-05-07T20:52:26.284Z"
   },
   {
    "duration": 88,
    "start_time": "2022-05-07T20:52:26.457Z"
   },
   {
    "duration": 24,
    "start_time": "2022-05-07T20:52:26.548Z"
   },
   {
    "duration": 85,
    "start_time": "2022-05-07T20:52:26.574Z"
   },
   {
    "duration": 6,
    "start_time": "2022-05-07T20:52:26.661Z"
   },
   {
    "duration": 12,
    "start_time": "2022-05-07T20:52:26.669Z"
   },
   {
    "duration": 933,
    "start_time": "2022-05-07T20:52:26.684Z"
   },
   {
    "duration": 765,
    "start_time": "2022-05-07T20:52:27.619Z"
   },
   {
    "duration": 723,
    "start_time": "2022-05-07T20:52:28.387Z"
   },
   {
    "duration": 126,
    "start_time": "2022-05-07T20:52:29.113Z"
   },
   {
    "duration": 11,
    "start_time": "2022-05-07T20:52:29.241Z"
   },
   {
    "duration": 14,
    "start_time": "2022-05-07T20:52:29.256Z"
   },
   {
    "duration": 319,
    "start_time": "2022-05-07T20:52:29.273Z"
   },
   {
    "duration": 0,
    "start_time": "2022-05-07T20:52:29.595Z"
   },
   {
    "duration": 0,
    "start_time": "2022-05-07T20:52:29.598Z"
   },
   {
    "duration": 0,
    "start_time": "2022-05-07T20:52:29.599Z"
   },
   {
    "duration": 18,
    "start_time": "2022-05-07T20:52:33.366Z"
   },
   {
    "duration": 62,
    "start_time": "2022-05-07T20:52:35.001Z"
   },
   {
    "duration": 11,
    "start_time": "2022-05-07T20:52:37.700Z"
   },
   {
    "duration": 7,
    "start_time": "2022-05-07T20:52:39.363Z"
   },
   {
    "duration": 1560,
    "start_time": "2022-05-08T18:43:41.936Z"
   },
   {
    "duration": 39,
    "start_time": "2022-05-08T18:43:43.498Z"
   },
   {
    "duration": 87,
    "start_time": "2022-05-08T18:43:43.539Z"
   },
   {
    "duration": 23,
    "start_time": "2022-05-08T18:43:43.629Z"
   },
   {
    "duration": 44,
    "start_time": "2022-05-08T18:43:43.654Z"
   },
   {
    "duration": 103,
    "start_time": "2022-05-08T18:43:43.723Z"
   },
   {
    "duration": 24,
    "start_time": "2022-05-08T18:43:43.828Z"
   },
   {
    "duration": 38,
    "start_time": "2022-05-08T18:43:43.854Z"
   },
   {
    "duration": 94,
    "start_time": "2022-05-08T18:43:43.894Z"
   },
   {
    "duration": 41,
    "start_time": "2022-05-08T18:43:43.992Z"
   },
   {
    "duration": 21,
    "start_time": "2022-05-08T18:43:44.036Z"
   },
   {
    "duration": 30,
    "start_time": "2022-05-08T18:43:44.059Z"
   },
   {
    "duration": 8,
    "start_time": "2022-05-08T18:43:44.091Z"
   },
   {
    "duration": 28,
    "start_time": "2022-05-08T18:43:44.100Z"
   },
   {
    "duration": 58,
    "start_time": "2022-05-08T18:43:44.130Z"
   },
   {
    "duration": 90,
    "start_time": "2022-05-08T18:43:44.191Z"
   },
   {
    "duration": 5,
    "start_time": "2022-05-08T18:43:44.283Z"
   },
   {
    "duration": 122,
    "start_time": "2022-05-08T18:43:44.290Z"
   },
   {
    "duration": 179,
    "start_time": "2022-05-08T18:43:44.414Z"
   },
   {
    "duration": 49,
    "start_time": "2022-05-08T18:43:44.595Z"
   },
   {
    "duration": 56,
    "start_time": "2022-05-08T18:43:44.646Z"
   },
   {
    "duration": 32,
    "start_time": "2022-05-08T18:43:44.723Z"
   },
   {
    "duration": 80,
    "start_time": "2022-05-08T18:43:44.757Z"
   },
   {
    "duration": 121,
    "start_time": "2022-05-08T18:43:44.839Z"
   },
   {
    "duration": 38,
    "start_time": "2022-05-08T18:43:44.962Z"
   },
   {
    "duration": 56,
    "start_time": "2022-05-08T18:43:45.002Z"
   },
   {
    "duration": 21,
    "start_time": "2022-05-08T18:43:45.060Z"
   },
   {
    "duration": 93,
    "start_time": "2022-05-08T18:43:45.085Z"
   },
   {
    "duration": 132,
    "start_time": "2022-05-08T18:43:45.179Z"
   },
   {
    "duration": 43,
    "start_time": "2022-05-08T18:43:45.313Z"
   },
   {
    "duration": 42,
    "start_time": "2022-05-08T18:43:45.358Z"
   },
   {
    "duration": 40,
    "start_time": "2022-05-08T18:43:45.402Z"
   },
   {
    "duration": 46,
    "start_time": "2022-05-08T18:43:45.444Z"
   },
   {
    "duration": 112,
    "start_time": "2022-05-08T18:43:45.492Z"
   },
   {
    "duration": 56,
    "start_time": "2022-05-08T18:43:45.605Z"
   },
   {
    "duration": 20,
    "start_time": "2022-05-08T18:43:45.663Z"
   },
   {
    "duration": 81,
    "start_time": "2022-05-08T18:43:45.685Z"
   },
   {
    "duration": 5,
    "start_time": "2022-05-08T18:43:45.768Z"
   },
   {
    "duration": 8,
    "start_time": "2022-05-08T18:43:45.775Z"
   },
   {
    "duration": 355,
    "start_time": "2022-05-08T18:43:45.785Z"
   },
   {
    "duration": 302,
    "start_time": "2022-05-08T18:43:46.142Z"
   },
   {
    "duration": 300,
    "start_time": "2022-05-08T18:43:46.446Z"
   },
   {
    "duration": 42,
    "start_time": "2022-05-08T18:43:46.748Z"
   },
   {
    "duration": 5,
    "start_time": "2022-05-08T18:43:46.792Z"
   },
   {
    "duration": 26,
    "start_time": "2022-05-08T18:43:46.799Z"
   },
   {
    "duration": 117,
    "start_time": "2022-05-08T18:43:46.827Z"
   },
   {
    "duration": 0,
    "start_time": "2022-05-08T18:43:46.946Z"
   },
   {
    "duration": 0,
    "start_time": "2022-05-08T18:43:46.947Z"
   },
   {
    "duration": 0,
    "start_time": "2022-05-08T18:43:46.949Z"
   },
   {
    "duration": 187,
    "start_time": "2022-05-08T18:46:22.050Z"
   },
   {
    "duration": 229,
    "start_time": "2022-05-08T18:54:10.752Z"
   },
   {
    "duration": 196,
    "start_time": "2022-05-08T18:54:36.126Z"
   },
   {
    "duration": 193,
    "start_time": "2022-05-08T19:05:52.529Z"
   },
   {
    "duration": 181,
    "start_time": "2022-05-08T19:07:17.114Z"
   },
   {
    "duration": 5,
    "start_time": "2022-05-08T19:09:54.278Z"
   },
   {
    "duration": 189,
    "start_time": "2022-05-08T19:11:39.409Z"
   },
   {
    "duration": 190,
    "start_time": "2022-05-08T19:12:07.665Z"
   },
   {
    "duration": 352,
    "start_time": "2022-05-08T19:19:06.273Z"
   },
   {
    "duration": 297,
    "start_time": "2022-05-08T19:19:19.380Z"
   },
   {
    "duration": 398,
    "start_time": "2022-05-08T19:19:42.876Z"
   },
   {
    "duration": 12,
    "start_time": "2022-05-08T19:20:50.319Z"
   },
   {
    "duration": 1655,
    "start_time": "2022-05-10T12:17:56.974Z"
   },
   {
    "duration": 37,
    "start_time": "2022-05-10T12:17:58.631Z"
   },
   {
    "duration": 63,
    "start_time": "2022-05-10T12:17:58.669Z"
   },
   {
    "duration": 42,
    "start_time": "2022-05-10T12:17:58.734Z"
   },
   {
    "duration": 43,
    "start_time": "2022-05-10T12:17:58.778Z"
   },
   {
    "duration": 82,
    "start_time": "2022-05-10T12:17:58.823Z"
   },
   {
    "duration": 40,
    "start_time": "2022-05-10T12:17:58.907Z"
   },
   {
    "duration": 32,
    "start_time": "2022-05-10T12:17:58.949Z"
   },
   {
    "duration": 41,
    "start_time": "2022-05-10T12:17:58.982Z"
   },
   {
    "duration": 39,
    "start_time": "2022-05-10T12:17:59.026Z"
   },
   {
    "duration": 19,
    "start_time": "2022-05-10T12:17:59.068Z"
   },
   {
    "duration": 19,
    "start_time": "2022-05-10T12:17:59.089Z"
   },
   {
    "duration": 39,
    "start_time": "2022-05-10T12:17:59.109Z"
   },
   {
    "duration": 16,
    "start_time": "2022-05-10T12:17:59.149Z"
   },
   {
    "duration": 59,
    "start_time": "2022-05-10T12:17:59.168Z"
   },
   {
    "duration": 60,
    "start_time": "2022-05-10T12:17:59.229Z"
   },
   {
    "duration": 4,
    "start_time": "2022-05-10T12:17:59.291Z"
   },
   {
    "duration": 130,
    "start_time": "2022-05-10T12:17:59.297Z"
   },
   {
    "duration": 178,
    "start_time": "2022-05-10T12:17:59.429Z"
   },
   {
    "duration": 54,
    "start_time": "2022-05-10T12:17:59.609Z"
   },
   {
    "duration": 38,
    "start_time": "2022-05-10T12:17:59.668Z"
   },
   {
    "duration": 19,
    "start_time": "2022-05-10T12:17:59.708Z"
   },
   {
    "duration": 97,
    "start_time": "2022-05-10T12:17:59.728Z"
   },
   {
    "duration": 150,
    "start_time": "2022-05-10T12:17:59.827Z"
   },
   {
    "duration": 42,
    "start_time": "2022-05-10T12:17:59.979Z"
   },
   {
    "duration": 69,
    "start_time": "2022-05-10T12:18:00.022Z"
   },
   {
    "duration": 19,
    "start_time": "2022-05-10T12:18:00.093Z"
   },
   {
    "duration": 85,
    "start_time": "2022-05-10T12:18:00.115Z"
   },
   {
    "duration": 130,
    "start_time": "2022-05-10T12:18:00.202Z"
   },
   {
    "duration": 50,
    "start_time": "2022-05-10T12:18:00.334Z"
   },
   {
    "duration": 37,
    "start_time": "2022-05-10T12:18:00.386Z"
   },
   {
    "duration": 23,
    "start_time": "2022-05-10T12:18:00.449Z"
   },
   {
    "duration": 36,
    "start_time": "2022-05-10T12:18:00.474Z"
   },
   {
    "duration": 92,
    "start_time": "2022-05-10T12:18:00.512Z"
   },
   {
    "duration": 50,
    "start_time": "2022-05-10T12:18:00.606Z"
   },
   {
    "duration": 16,
    "start_time": "2022-05-10T12:18:00.657Z"
   },
   {
    "duration": 28,
    "start_time": "2022-05-10T12:18:00.674Z"
   },
   {
    "duration": 3,
    "start_time": "2022-05-10T12:18:00.704Z"
   },
   {
    "duration": 40,
    "start_time": "2022-05-10T12:18:00.709Z"
   },
   {
    "duration": 290,
    "start_time": "2022-05-10T12:18:00.750Z"
   },
   {
    "duration": 380,
    "start_time": "2022-05-10T12:18:01.042Z"
   },
   {
    "duration": 430,
    "start_time": "2022-05-10T12:18:01.424Z"
   },
   {
    "duration": 39,
    "start_time": "2022-05-10T12:18:01.856Z"
   },
   {
    "duration": 37,
    "start_time": "2022-05-10T12:18:01.897Z"
   },
   {
    "duration": 18,
    "start_time": "2022-05-10T12:18:01.936Z"
   },
   {
    "duration": 124,
    "start_time": "2022-05-10T12:18:01.955Z"
   },
   {
    "duration": 0,
    "start_time": "2022-05-10T12:18:02.081Z"
   },
   {
    "duration": 0,
    "start_time": "2022-05-10T12:18:02.082Z"
   },
   {
    "duration": 0,
    "start_time": "2022-05-10T12:18:02.084Z"
   },
   {
    "duration": 9,
    "start_time": "2022-05-10T12:18:10.015Z"
   },
   {
    "duration": 10,
    "start_time": "2022-05-10T12:18:15.723Z"
   },
   {
    "duration": 33,
    "start_time": "2022-05-10T12:18:26.065Z"
   },
   {
    "duration": 6,
    "start_time": "2022-05-10T12:18:29.346Z"
   },
   {
    "duration": 6,
    "start_time": "2022-05-10T12:18:31.106Z"
   },
   {
    "duration": 117,
    "start_time": "2022-05-10T14:32:33.878Z"
   },
   {
    "duration": 116,
    "start_time": "2022-05-10T14:32:44.118Z"
   },
   {
    "duration": 109,
    "start_time": "2022-05-10T14:32:55.597Z"
   },
   {
    "duration": 153,
    "start_time": "2022-05-10T14:33:03.315Z"
   },
   {
    "duration": 99,
    "start_time": "2022-05-10T14:33:10.392Z"
   },
   {
    "duration": 118,
    "start_time": "2022-05-10T14:34:35.853Z"
   },
   {
    "duration": 108,
    "start_time": "2022-05-10T14:34:50.388Z"
   },
   {
    "duration": 0,
    "start_time": "2022-05-10T14:34:50.498Z"
   },
   {
    "duration": 0,
    "start_time": "2022-05-10T14:34:50.499Z"
   },
   {
    "duration": 0,
    "start_time": "2022-05-10T14:34:50.500Z"
   },
   {
    "duration": 0,
    "start_time": "2022-05-10T14:34:50.501Z"
   },
   {
    "duration": 0,
    "start_time": "2022-05-10T14:34:50.502Z"
   },
   {
    "duration": 0,
    "start_time": "2022-05-10T14:34:50.503Z"
   },
   {
    "duration": 0,
    "start_time": "2022-05-10T14:34:50.504Z"
   },
   {
    "duration": 0,
    "start_time": "2022-05-10T14:34:50.505Z"
   },
   {
    "duration": 0,
    "start_time": "2022-05-10T14:34:50.506Z"
   },
   {
    "duration": 0,
    "start_time": "2022-05-10T14:34:50.507Z"
   },
   {
    "duration": 0,
    "start_time": "2022-05-10T14:34:50.507Z"
   },
   {
    "duration": 0,
    "start_time": "2022-05-10T14:34:50.508Z"
   },
   {
    "duration": 0,
    "start_time": "2022-05-10T14:34:50.509Z"
   },
   {
    "duration": 0,
    "start_time": "2022-05-10T14:34:50.510Z"
   },
   {
    "duration": 0,
    "start_time": "2022-05-10T14:34:50.511Z"
   },
   {
    "duration": 0,
    "start_time": "2022-05-10T14:34:50.513Z"
   },
   {
    "duration": 58,
    "start_time": "2022-05-10T14:34:50.514Z"
   },
   {
    "duration": 0,
    "start_time": "2022-05-10T14:34:50.573Z"
   },
   {
    "duration": 0,
    "start_time": "2022-05-10T14:34:50.574Z"
   },
   {
    "duration": 0,
    "start_time": "2022-05-10T14:34:50.575Z"
   },
   {
    "duration": 0,
    "start_time": "2022-05-10T14:34:50.576Z"
   },
   {
    "duration": 0,
    "start_time": "2022-05-10T14:34:50.577Z"
   },
   {
    "duration": 0,
    "start_time": "2022-05-10T14:34:50.578Z"
   },
   {
    "duration": 8,
    "start_time": "2022-05-10T14:34:50.580Z"
   },
   {
    "duration": 9,
    "start_time": "2022-05-10T14:34:50.590Z"
   },
   {
    "duration": 0,
    "start_time": "2022-05-10T14:34:50.601Z"
   },
   {
    "duration": 43,
    "start_time": "2022-05-10T14:34:50.605Z"
   },
   {
    "duration": 8,
    "start_time": "2022-05-10T14:34:50.657Z"
   },
   {
    "duration": 0,
    "start_time": "2022-05-10T14:34:50.666Z"
   },
   {
    "duration": 0,
    "start_time": "2022-05-10T14:34:50.668Z"
   },
   {
    "duration": 0,
    "start_time": "2022-05-10T14:34:50.670Z"
   },
   {
    "duration": 0,
    "start_time": "2022-05-10T14:34:50.671Z"
   },
   {
    "duration": 10,
    "start_time": "2022-05-10T14:34:50.673Z"
   },
   {
    "duration": 12,
    "start_time": "2022-05-10T14:34:50.760Z"
   },
   {
    "duration": 0,
    "start_time": "2022-05-10T14:34:50.773Z"
   },
   {
    "duration": 0,
    "start_time": "2022-05-10T14:34:50.774Z"
   },
   {
    "duration": 0,
    "start_time": "2022-05-10T14:34:50.776Z"
   },
   {
    "duration": 0,
    "start_time": "2022-05-10T14:34:50.777Z"
   },
   {
    "duration": 0,
    "start_time": "2022-05-10T14:34:50.778Z"
   },
   {
    "duration": 0,
    "start_time": "2022-05-10T14:34:50.779Z"
   },
   {
    "duration": 0,
    "start_time": "2022-05-10T14:34:50.780Z"
   },
   {
    "duration": 0,
    "start_time": "2022-05-10T14:34:50.781Z"
   },
   {
    "duration": 0,
    "start_time": "2022-05-10T14:34:50.782Z"
   },
   {
    "duration": 8,
    "start_time": "2022-05-10T14:34:50.785Z"
   },
   {
    "duration": 0,
    "start_time": "2022-05-10T14:34:50.794Z"
   },
   {
    "duration": 7,
    "start_time": "2022-05-10T14:34:50.796Z"
   },
   {
    "duration": 7,
    "start_time": "2022-05-10T14:34:50.804Z"
   },
   {
    "duration": 45,
    "start_time": "2022-05-10T14:34:50.813Z"
   },
   {
    "duration": 0,
    "start_time": "2022-05-10T14:34:50.861Z"
   },
   {
    "duration": 109,
    "start_time": "2022-05-10T14:35:01.506Z"
   },
   {
    "duration": 111,
    "start_time": "2022-05-10T14:35:07.389Z"
   },
   {
    "duration": 0,
    "start_time": "2022-05-10T14:35:07.502Z"
   },
   {
    "duration": 0,
    "start_time": "2022-05-10T14:35:07.503Z"
   },
   {
    "duration": 0,
    "start_time": "2022-05-10T14:35:07.504Z"
   },
   {
    "duration": 0,
    "start_time": "2022-05-10T14:35:07.505Z"
   },
   {
    "duration": 0,
    "start_time": "2022-05-10T14:35:07.507Z"
   },
   {
    "duration": 0,
    "start_time": "2022-05-10T14:35:07.508Z"
   },
   {
    "duration": 0,
    "start_time": "2022-05-10T14:35:07.509Z"
   },
   {
    "duration": 0,
    "start_time": "2022-05-10T14:35:07.510Z"
   },
   {
    "duration": 0,
    "start_time": "2022-05-10T14:35:07.511Z"
   },
   {
    "duration": 0,
    "start_time": "2022-05-10T14:35:07.512Z"
   },
   {
    "duration": 0,
    "start_time": "2022-05-10T14:35:07.513Z"
   },
   {
    "duration": 0,
    "start_time": "2022-05-10T14:35:07.514Z"
   },
   {
    "duration": 0,
    "start_time": "2022-05-10T14:35:07.516Z"
   },
   {
    "duration": 0,
    "start_time": "2022-05-10T14:35:07.516Z"
   },
   {
    "duration": 0,
    "start_time": "2022-05-10T14:35:07.517Z"
   },
   {
    "duration": 0,
    "start_time": "2022-05-10T14:35:07.518Z"
   },
   {
    "duration": 0,
    "start_time": "2022-05-10T14:35:07.520Z"
   },
   {
    "duration": 0,
    "start_time": "2022-05-10T14:35:07.521Z"
   },
   {
    "duration": 0,
    "start_time": "2022-05-10T14:35:07.522Z"
   },
   {
    "duration": 0,
    "start_time": "2022-05-10T14:35:07.523Z"
   },
   {
    "duration": 0,
    "start_time": "2022-05-10T14:35:07.524Z"
   },
   {
    "duration": 0,
    "start_time": "2022-05-10T14:35:07.525Z"
   },
   {
    "duration": 9,
    "start_time": "2022-05-10T14:35:07.529Z"
   },
   {
    "duration": 0,
    "start_time": "2022-05-10T14:35:07.551Z"
   },
   {
    "duration": 0,
    "start_time": "2022-05-10T14:35:07.552Z"
   },
   {
    "duration": 0,
    "start_time": "2022-05-10T14:35:07.552Z"
   },
   {
    "duration": 6,
    "start_time": "2022-05-10T14:35:07.555Z"
   },
   {
    "duration": 0,
    "start_time": "2022-05-10T14:35:07.562Z"
   },
   {
    "duration": 0,
    "start_time": "2022-05-10T14:35:07.565Z"
   },
   {
    "duration": 0,
    "start_time": "2022-05-10T14:35:07.566Z"
   },
   {
    "duration": 6,
    "start_time": "2022-05-10T14:35:07.570Z"
   },
   {
    "duration": 0,
    "start_time": "2022-05-10T14:35:07.578Z"
   },
   {
    "duration": 10,
    "start_time": "2022-05-10T14:35:07.582Z"
   },
   {
    "duration": 0,
    "start_time": "2022-05-10T14:35:07.594Z"
   },
   {
    "duration": 54,
    "start_time": "2022-05-10T14:35:07.600Z"
   },
   {
    "duration": 0,
    "start_time": "2022-05-10T14:35:07.660Z"
   },
   {
    "duration": 0,
    "start_time": "2022-05-10T14:35:07.661Z"
   },
   {
    "duration": 0,
    "start_time": "2022-05-10T14:35:07.664Z"
   },
   {
    "duration": 0,
    "start_time": "2022-05-10T14:35:07.666Z"
   },
   {
    "duration": 0,
    "start_time": "2022-05-10T14:35:07.667Z"
   },
   {
    "duration": 0,
    "start_time": "2022-05-10T14:35:07.668Z"
   },
   {
    "duration": 7,
    "start_time": "2022-05-10T14:35:07.670Z"
   },
   {
    "duration": 0,
    "start_time": "2022-05-10T14:35:07.679Z"
   },
   {
    "duration": 0,
    "start_time": "2022-05-10T14:35:07.680Z"
   },
   {
    "duration": 6,
    "start_time": "2022-05-10T14:35:07.684Z"
   },
   {
    "duration": 6,
    "start_time": "2022-05-10T14:35:07.696Z"
   },
   {
    "duration": 41,
    "start_time": "2022-05-10T14:35:07.707Z"
   },
   {
    "duration": 0,
    "start_time": "2022-05-10T14:35:07.749Z"
   },
   {
    "duration": 6,
    "start_time": "2022-05-10T14:35:07.756Z"
   },
   {
    "duration": 95,
    "start_time": "2022-05-10T14:35:26.172Z"
   },
   {
    "duration": 1724,
    "start_time": "2022-05-10T14:35:36.676Z"
   },
   {
    "duration": 33,
    "start_time": "2022-05-10T14:35:38.402Z"
   },
   {
    "duration": 66,
    "start_time": "2022-05-10T14:35:38.437Z"
   },
   {
    "duration": 20,
    "start_time": "2022-05-10T14:35:38.505Z"
   },
   {
    "duration": 36,
    "start_time": "2022-05-10T14:35:38.527Z"
   },
   {
    "duration": 53,
    "start_time": "2022-05-10T14:35:38.565Z"
   },
   {
    "duration": 44,
    "start_time": "2022-05-10T14:35:38.620Z"
   },
   {
    "duration": 22,
    "start_time": "2022-05-10T14:35:38.666Z"
   },
   {
    "duration": 40,
    "start_time": "2022-05-10T14:35:38.690Z"
   },
   {
    "duration": 17,
    "start_time": "2022-05-10T14:35:38.751Z"
   },
   {
    "duration": 13,
    "start_time": "2022-05-10T14:35:38.769Z"
   },
   {
    "duration": 17,
    "start_time": "2022-05-10T14:35:38.784Z"
   },
   {
    "duration": 5,
    "start_time": "2022-05-10T14:35:38.803Z"
   },
   {
    "duration": 7,
    "start_time": "2022-05-10T14:35:38.809Z"
   },
   {
    "duration": 81,
    "start_time": "2022-05-10T14:35:38.817Z"
   },
   {
    "duration": 63,
    "start_time": "2022-05-10T14:35:38.899Z"
   },
   {
    "duration": 3,
    "start_time": "2022-05-10T14:35:38.963Z"
   },
   {
    "duration": 107,
    "start_time": "2022-05-10T14:35:38.967Z"
   },
   {
    "duration": 162,
    "start_time": "2022-05-10T14:35:39.076Z"
   },
   {
    "duration": 40,
    "start_time": "2022-05-10T14:35:39.240Z"
   },
   {
    "duration": 36,
    "start_time": "2022-05-10T14:35:39.282Z"
   },
   {
    "duration": 37,
    "start_time": "2022-05-10T14:35:39.320Z"
   },
   {
    "duration": 58,
    "start_time": "2022-05-10T14:35:39.359Z"
   },
   {
    "duration": 109,
    "start_time": "2022-05-10T14:35:39.419Z"
   },
   {
    "duration": 47,
    "start_time": "2022-05-10T14:35:39.529Z"
   },
   {
    "duration": 33,
    "start_time": "2022-05-10T14:35:39.578Z"
   },
   {
    "duration": 20,
    "start_time": "2022-05-10T14:35:39.613Z"
   },
   {
    "duration": 67,
    "start_time": "2022-05-10T14:35:39.650Z"
   },
   {
    "duration": 128,
    "start_time": "2022-05-10T14:35:39.718Z"
   },
   {
    "duration": 38,
    "start_time": "2022-05-10T14:35:39.849Z"
   },
   {
    "duration": 35,
    "start_time": "2022-05-10T14:35:39.888Z"
   },
   {
    "duration": 37,
    "start_time": "2022-05-10T14:35:39.924Z"
   },
   {
    "duration": 33,
    "start_time": "2022-05-10T14:35:39.963Z"
   },
   {
    "duration": 98,
    "start_time": "2022-05-10T14:35:39.998Z"
   },
   {
    "duration": 33,
    "start_time": "2022-05-10T14:35:40.098Z"
   },
   {
    "duration": 32,
    "start_time": "2022-05-10T14:35:40.133Z"
   },
   {
    "duration": 28,
    "start_time": "2022-05-10T14:35:40.166Z"
   },
   {
    "duration": 3,
    "start_time": "2022-05-10T14:35:40.195Z"
   },
   {
    "duration": 6,
    "start_time": "2022-05-10T14:35:40.200Z"
   },
   {
    "duration": 295,
    "start_time": "2022-05-10T14:35:40.207Z"
   },
   {
    "duration": 255,
    "start_time": "2022-05-10T14:35:40.503Z"
   },
   {
    "duration": 279,
    "start_time": "2022-05-10T14:35:40.760Z"
   },
   {
    "duration": 52,
    "start_time": "2022-05-10T14:35:41.040Z"
   },
   {
    "duration": 6,
    "start_time": "2022-05-10T14:35:41.094Z"
   },
   {
    "duration": 9,
    "start_time": "2022-05-10T14:35:41.102Z"
   },
   {
    "duration": 117,
    "start_time": "2022-05-10T14:35:41.112Z"
   },
   {
    "duration": 0,
    "start_time": "2022-05-10T14:35:41.231Z"
   },
   {
    "duration": 0,
    "start_time": "2022-05-10T14:35:41.232Z"
   },
   {
    "duration": 0,
    "start_time": "2022-05-10T14:35:41.233Z"
   },
   {
    "duration": 27,
    "start_time": "2022-05-10T14:43:32.089Z"
   },
   {
    "duration": 1401,
    "start_time": "2022-05-10T14:43:45.411Z"
   },
   {
    "duration": 33,
    "start_time": "2022-05-10T14:43:46.813Z"
   },
   {
    "duration": 67,
    "start_time": "2022-05-10T14:43:46.852Z"
   },
   {
    "duration": 19,
    "start_time": "2022-05-10T14:43:46.921Z"
   },
   {
    "duration": 30,
    "start_time": "2022-05-10T14:43:46.948Z"
   },
   {
    "duration": 71,
    "start_time": "2022-05-10T14:43:46.980Z"
   },
   {
    "duration": 25,
    "start_time": "2022-05-10T14:43:47.053Z"
   },
   {
    "duration": 21,
    "start_time": "2022-05-10T14:43:47.080Z"
   },
   {
    "duration": 63,
    "start_time": "2022-05-10T14:43:47.103Z"
   },
   {
    "duration": 16,
    "start_time": "2022-05-10T14:43:47.169Z"
   },
   {
    "duration": 14,
    "start_time": "2022-05-10T14:43:47.186Z"
   },
   {
    "duration": 27,
    "start_time": "2022-05-10T14:43:47.202Z"
   },
   {
    "duration": 17,
    "start_time": "2022-05-10T14:43:47.249Z"
   },
   {
    "duration": 8,
    "start_time": "2022-05-10T14:43:47.268Z"
   },
   {
    "duration": 49,
    "start_time": "2022-05-10T14:43:47.277Z"
   },
   {
    "duration": 56,
    "start_time": "2022-05-10T14:43:47.328Z"
   },
   {
    "duration": 3,
    "start_time": "2022-05-10T14:43:47.386Z"
   },
   {
    "duration": 125,
    "start_time": "2022-05-10T14:43:47.391Z"
   },
   {
    "duration": 184,
    "start_time": "2022-05-10T14:43:47.517Z"
   },
   {
    "duration": 47,
    "start_time": "2022-05-10T14:43:47.703Z"
   },
   {
    "duration": 38,
    "start_time": "2022-05-10T14:43:47.752Z"
   },
   {
    "duration": 19,
    "start_time": "2022-05-10T14:43:47.791Z"
   },
   {
    "duration": 79,
    "start_time": "2022-05-10T14:43:47.812Z"
   },
   {
    "duration": 113,
    "start_time": "2022-05-10T14:43:47.893Z"
   },
   {
    "duration": 59,
    "start_time": "2022-05-10T14:43:48.008Z"
   },
   {
    "duration": 54,
    "start_time": "2022-05-10T14:43:48.069Z"
   },
   {
    "duration": 45,
    "start_time": "2022-05-10T14:43:48.125Z"
   },
   {
    "duration": 64,
    "start_time": "2022-05-10T14:43:48.174Z"
   },
   {
    "duration": 127,
    "start_time": "2022-05-10T14:43:48.240Z"
   },
   {
    "duration": 35,
    "start_time": "2022-05-10T14:43:48.368Z"
   },
   {
    "duration": 58,
    "start_time": "2022-05-10T14:43:48.404Z"
   },
   {
    "duration": 19,
    "start_time": "2022-05-10T14:43:48.464Z"
   },
   {
    "duration": 34,
    "start_time": "2022-05-10T14:43:48.484Z"
   },
   {
    "duration": 103,
    "start_time": "2022-05-10T14:43:48.520Z"
   },
   {
    "duration": 47,
    "start_time": "2022-05-10T14:43:48.625Z"
   },
   {
    "duration": 14,
    "start_time": "2022-05-10T14:43:48.674Z"
   },
   {
    "duration": 28,
    "start_time": "2022-05-10T14:43:48.690Z"
   },
   {
    "duration": 32,
    "start_time": "2022-05-10T14:43:48.719Z"
   },
   {
    "duration": 10,
    "start_time": "2022-05-10T14:43:48.755Z"
   },
   {
    "duration": 265,
    "start_time": "2022-05-10T14:43:48.767Z"
   },
   {
    "duration": 265,
    "start_time": "2022-05-10T14:43:49.034Z"
   },
   {
    "duration": 285,
    "start_time": "2022-05-10T14:43:49.300Z"
   },
   {
    "duration": 40,
    "start_time": "2022-05-10T14:43:49.587Z"
   },
   {
    "duration": 30,
    "start_time": "2022-05-10T14:43:49.628Z"
   },
   {
    "duration": 11,
    "start_time": "2022-05-10T14:43:49.661Z"
   },
   {
    "duration": 105,
    "start_time": "2022-05-10T14:43:49.674Z"
   },
   {
    "duration": 0,
    "start_time": "2022-05-10T14:43:49.781Z"
   },
   {
    "duration": 0,
    "start_time": "2022-05-10T14:43:49.782Z"
   },
   {
    "duration": 0,
    "start_time": "2022-05-10T14:43:49.783Z"
   },
   {
    "duration": 9,
    "start_time": "2022-05-10T14:44:19.015Z"
   },
   {
    "duration": 17,
    "start_time": "2022-05-10T14:44:25.439Z"
   },
   {
    "duration": 28,
    "start_time": "2022-05-10T14:44:30.171Z"
   },
   {
    "duration": 36,
    "start_time": "2022-05-10T14:45:04.880Z"
   },
   {
    "duration": 19,
    "start_time": "2022-05-10T14:49:51.769Z"
   },
   {
    "duration": 9,
    "start_time": "2022-05-10T14:49:58.330Z"
   },
   {
    "duration": 11,
    "start_time": "2022-05-10T14:50:01.774Z"
   },
   {
    "duration": 78,
    "start_time": "2022-05-10T14:50:14.245Z"
   },
   {
    "duration": 62,
    "start_time": "2022-05-10T14:50:19.048Z"
   },
   {
    "duration": 26,
    "start_time": "2022-05-10T14:50:33.428Z"
   },
   {
    "duration": 11,
    "start_time": "2022-05-10T14:52:00.074Z"
   },
   {
    "duration": 58,
    "start_time": "2022-05-10T15:00:44.738Z"
   },
   {
    "duration": 27,
    "start_time": "2022-05-10T15:01:41.063Z"
   },
   {
    "duration": 30,
    "start_time": "2022-05-10T15:01:42.024Z"
   },
   {
    "duration": 6,
    "start_time": "2022-05-10T15:01:42.913Z"
   },
   {
    "duration": 7,
    "start_time": "2022-05-10T15:01:43.709Z"
   },
   {
    "duration": 108,
    "start_time": "2022-05-10T15:25:15.638Z"
   },
   {
    "duration": 245,
    "start_time": "2022-05-10T15:25:19.461Z"
   },
   {
    "duration": 328,
    "start_time": "2022-05-10T15:25:23.824Z"
   },
   {
    "duration": 249,
    "start_time": "2022-05-10T15:25:30.561Z"
   },
   {
    "duration": 265,
    "start_time": "2022-05-10T15:25:35.498Z"
   },
   {
    "duration": 278,
    "start_time": "2022-05-10T15:28:24.202Z"
   },
   {
    "duration": 348,
    "start_time": "2022-05-10T15:28:30.861Z"
   },
   {
    "duration": 520,
    "start_time": "2022-05-10T15:28:45.312Z"
   },
   {
    "duration": 337,
    "start_time": "2022-05-10T15:28:51.138Z"
   },
   {
    "duration": 278,
    "start_time": "2022-05-10T15:35:52.201Z"
   },
   {
    "duration": 256,
    "start_time": "2022-05-10T15:36:38.696Z"
   },
   {
    "duration": 281,
    "start_time": "2022-05-10T15:36:43.466Z"
   },
   {
    "duration": 282,
    "start_time": "2022-05-10T15:36:48.026Z"
   },
   {
    "duration": 402,
    "start_time": "2022-05-10T15:36:52.931Z"
   },
   {
    "duration": 316,
    "start_time": "2022-05-10T15:36:55.961Z"
   },
   {
    "duration": 349,
    "start_time": "2022-05-10T15:37:05.809Z"
   },
   {
    "duration": 436,
    "start_time": "2022-05-10T15:37:24.422Z"
   },
   {
    "duration": 278,
    "start_time": "2022-05-10T15:37:36.781Z"
   },
   {
    "duration": 389,
    "start_time": "2022-05-10T15:37:45.014Z"
   },
   {
    "duration": 274,
    "start_time": "2022-05-10T15:37:58.382Z"
   },
   {
    "duration": 301,
    "start_time": "2022-05-10T15:38:04.379Z"
   },
   {
    "duration": 275,
    "start_time": "2022-05-10T15:38:10.139Z"
   },
   {
    "duration": 259,
    "start_time": "2022-05-10T15:38:22.373Z"
   },
   {
    "duration": 345,
    "start_time": "2022-05-10T15:39:47.922Z"
   },
   {
    "duration": 405,
    "start_time": "2022-05-10T15:39:52.271Z"
   },
   {
    "duration": 337,
    "start_time": "2022-05-10T15:39:59.883Z"
   },
   {
    "duration": 118,
    "start_time": "2022-05-10T15:40:13.017Z"
   },
   {
    "duration": 282,
    "start_time": "2022-05-10T15:40:18.116Z"
   },
   {
    "duration": 292,
    "start_time": "2022-05-10T15:40:22.420Z"
   },
   {
    "duration": 12,
    "start_time": "2022-05-10T15:43:14.104Z"
   },
   {
    "duration": 16,
    "start_time": "2022-05-10T15:43:21.967Z"
   },
   {
    "duration": 17,
    "start_time": "2022-05-10T15:55:42.499Z"
   },
   {
    "duration": 52,
    "start_time": "2022-05-10T15:57:22.896Z"
   },
   {
    "duration": 27,
    "start_time": "2022-05-10T15:57:37.478Z"
   },
   {
    "duration": 40,
    "start_time": "2022-05-10T15:57:50.361Z"
   },
   {
    "duration": 37,
    "start_time": "2022-05-10T15:58:07.961Z"
   },
   {
    "duration": 21,
    "start_time": "2022-05-10T15:58:26.218Z"
   },
   {
    "duration": 23,
    "start_time": "2022-05-10T15:59:22.461Z"
   },
   {
    "duration": 13,
    "start_time": "2022-05-10T15:59:31.759Z"
   },
   {
    "duration": 10,
    "start_time": "2022-05-10T15:59:59.022Z"
   },
   {
    "duration": 12,
    "start_time": "2022-05-10T16:00:06.733Z"
   },
   {
    "duration": 18,
    "start_time": "2022-05-10T16:00:41.755Z"
   },
   {
    "duration": 18,
    "start_time": "2022-05-10T16:00:48.841Z"
   },
   {
    "duration": 4,
    "start_time": "2022-05-10T16:01:18.058Z"
   },
   {
    "duration": 14,
    "start_time": "2022-05-10T16:01:22.387Z"
   },
   {
    "duration": 16,
    "start_time": "2022-05-10T16:01:45.145Z"
   },
   {
    "duration": 19,
    "start_time": "2022-05-10T16:02:13.971Z"
   },
   {
    "duration": 18,
    "start_time": "2022-05-10T16:03:14.614Z"
   },
   {
    "duration": 789,
    "start_time": "2022-05-10T16:07:49.341Z"
   },
   {
    "duration": 18,
    "start_time": "2022-05-10T16:12:46.613Z"
   },
   {
    "duration": 11,
    "start_time": "2022-05-10T16:13:10.676Z"
   },
   {
    "duration": 14,
    "start_time": "2022-05-10T16:13:14.991Z"
   },
   {
    "duration": 25,
    "start_time": "2022-05-10T16:13:22.808Z"
   },
   {
    "duration": 5,
    "start_time": "2022-05-10T16:13:57.663Z"
   },
   {
    "duration": 18,
    "start_time": "2022-05-10T16:14:04.028Z"
   },
   {
    "duration": 22,
    "start_time": "2022-05-10T16:25:14.476Z"
   },
   {
    "duration": 57,
    "start_time": "2022-05-10T17:21:50.327Z"
   },
   {
    "duration": 12,
    "start_time": "2022-05-10T17:22:02.707Z"
   },
   {
    "duration": 3,
    "start_time": "2022-05-10T17:22:46.271Z"
   },
   {
    "duration": 4,
    "start_time": "2022-05-10T17:22:50.501Z"
   },
   {
    "duration": 5,
    "start_time": "2022-05-10T17:23:02.273Z"
   },
   {
    "duration": 33,
    "start_time": "2022-05-10T17:23:14.343Z"
   },
   {
    "duration": 5,
    "start_time": "2022-05-10T17:24:18.615Z"
   },
   {
    "duration": 5,
    "start_time": "2022-05-10T17:24:35.141Z"
   },
   {
    "duration": 14,
    "start_time": "2022-05-10T17:24:41.272Z"
   },
   {
    "duration": 12,
    "start_time": "2022-05-10T17:24:52.913Z"
   },
   {
    "duration": 18,
    "start_time": "2022-05-10T17:25:47.233Z"
   },
   {
    "duration": 139,
    "start_time": "2022-05-10T17:25:54.382Z"
   },
   {
    "duration": 141,
    "start_time": "2022-05-10T17:26:59.876Z"
   },
   {
    "duration": 162,
    "start_time": "2022-05-10T17:27:33.581Z"
   },
   {
    "duration": 139,
    "start_time": "2022-05-10T17:27:38.507Z"
   },
   {
    "duration": 138,
    "start_time": "2022-05-10T17:27:53.319Z"
   },
   {
    "duration": 14,
    "start_time": "2022-05-10T17:27:59.625Z"
   },
   {
    "duration": 22,
    "start_time": "2022-05-10T17:28:16.644Z"
   },
   {
    "duration": 156,
    "start_time": "2022-05-10T17:29:25.418Z"
   },
   {
    "duration": 13,
    "start_time": "2022-05-10T17:29:45.432Z"
   },
   {
    "duration": 10,
    "start_time": "2022-05-10T17:34:09.172Z"
   },
   {
    "duration": 2821,
    "start_time": "2022-05-10T20:14:20.012Z"
   },
   {
    "duration": 50,
    "start_time": "2022-05-10T20:14:22.836Z"
   },
   {
    "duration": 109,
    "start_time": "2022-05-10T20:14:22.888Z"
   },
   {
    "duration": 51,
    "start_time": "2022-05-10T20:14:23.000Z"
   },
   {
    "duration": 41,
    "start_time": "2022-05-10T20:14:23.053Z"
   },
   {
    "duration": 128,
    "start_time": "2022-05-10T20:14:23.096Z"
   },
   {
    "duration": 29,
    "start_time": "2022-05-10T20:14:23.227Z"
   },
   {
    "duration": 34,
    "start_time": "2022-05-10T20:14:23.259Z"
   },
   {
    "duration": 100,
    "start_time": "2022-05-10T20:14:23.296Z"
   },
   {
    "duration": 26,
    "start_time": "2022-05-10T20:14:23.427Z"
   },
   {
    "duration": 25,
    "start_time": "2022-05-10T20:14:23.456Z"
   },
   {
    "duration": 63,
    "start_time": "2022-05-10T20:14:23.483Z"
   },
   {
    "duration": 14,
    "start_time": "2022-05-10T20:14:23.548Z"
   },
   {
    "duration": 21,
    "start_time": "2022-05-10T20:14:23.564Z"
   },
   {
    "duration": 118,
    "start_time": "2022-05-10T20:14:23.587Z"
   },
   {
    "duration": 65,
    "start_time": "2022-05-10T20:14:23.707Z"
   },
   {
    "duration": 53,
    "start_time": "2022-05-10T20:14:23.774Z"
   },
   {
    "duration": 8,
    "start_time": "2022-05-10T20:14:23.829Z"
   },
   {
    "duration": 11,
    "start_time": "2022-05-10T20:14:23.839Z"
   },
   {
    "duration": 101,
    "start_time": "2022-05-10T20:14:23.852Z"
   },
   {
    "duration": 86,
    "start_time": "2022-05-10T20:14:23.955Z"
   },
   {
    "duration": 5,
    "start_time": "2022-05-10T20:14:24.043Z"
   },
   {
    "duration": 199,
    "start_time": "2022-05-10T20:14:24.050Z"
   },
   {
    "duration": 260,
    "start_time": "2022-05-10T20:14:24.252Z"
   },
   {
    "duration": 62,
    "start_time": "2022-05-10T20:14:24.514Z"
   },
   {
    "duration": 88,
    "start_time": "2022-05-10T20:14:24.578Z"
   },
   {
    "duration": 33,
    "start_time": "2022-05-10T20:14:24.668Z"
   },
   {
    "duration": 129,
    "start_time": "2022-05-10T20:14:24.707Z"
   },
   {
    "duration": 159,
    "start_time": "2022-05-10T20:14:24.839Z"
   },
   {
    "duration": 72,
    "start_time": "2022-05-10T20:14:25.001Z"
   },
   {
    "duration": 84,
    "start_time": "2022-05-10T20:14:25.075Z"
   },
   {
    "duration": 34,
    "start_time": "2022-05-10T20:14:25.161Z"
   },
   {
    "duration": 136,
    "start_time": "2022-05-10T20:14:25.198Z"
   },
   {
    "duration": 180,
    "start_time": "2022-05-10T20:14:25.336Z"
   },
   {
    "duration": 57,
    "start_time": "2022-05-10T20:14:25.524Z"
   },
   {
    "duration": 87,
    "start_time": "2022-05-10T20:14:25.583Z"
   },
   {
    "duration": 31,
    "start_time": "2022-05-10T20:14:25.672Z"
   },
   {
    "duration": 78,
    "start_time": "2022-05-10T20:14:25.705Z"
   },
   {
    "duration": 162,
    "start_time": "2022-05-10T20:14:25.785Z"
   },
   {
    "duration": 84,
    "start_time": "2022-05-10T20:14:25.949Z"
   },
   {
    "duration": 22,
    "start_time": "2022-05-10T20:14:26.036Z"
   },
   {
    "duration": 87,
    "start_time": "2022-05-10T20:14:26.060Z"
   },
   {
    "duration": 4,
    "start_time": "2022-05-10T20:14:26.149Z"
   },
   {
    "duration": 10,
    "start_time": "2022-05-10T20:14:26.155Z"
   },
   {
    "duration": 520,
    "start_time": "2022-05-10T20:14:26.168Z"
   },
   {
    "duration": 232,
    "start_time": "2022-05-10T20:14:26.691Z"
   },
   {
    "duration": 491,
    "start_time": "2022-05-10T20:14:26.926Z"
   },
   {
    "duration": 239,
    "start_time": "2022-05-10T20:14:27.419Z"
   },
   {
    "duration": 20,
    "start_time": "2022-05-10T20:14:27.660Z"
   },
   {
    "duration": 531,
    "start_time": "2022-05-10T20:14:27.683Z"
   },
   {
    "duration": 70,
    "start_time": "2022-05-10T20:14:28.216Z"
   },
   {
    "duration": 9,
    "start_time": "2022-05-10T20:14:28.289Z"
   },
   {
    "duration": 29,
    "start_time": "2022-05-10T20:14:28.300Z"
   },
   {
    "duration": 169,
    "start_time": "2022-05-10T20:14:28.331Z"
   },
   {
    "duration": 0,
    "start_time": "2022-05-10T20:14:28.502Z"
   },
   {
    "duration": 0,
    "start_time": "2022-05-10T20:14:28.505Z"
   },
   {
    "duration": 0,
    "start_time": "2022-05-10T20:14:28.506Z"
   },
   {
    "duration": 307,
    "start_time": "2022-05-10T20:14:57.395Z"
   },
   {
    "duration": 511,
    "start_time": "2022-05-10T20:15:03.699Z"
   },
   {
    "duration": 424,
    "start_time": "2022-05-10T20:15:32.012Z"
   },
   {
    "duration": 19,
    "start_time": "2022-05-10T20:16:26.540Z"
   },
   {
    "duration": 32,
    "start_time": "2022-05-10T20:17:04.004Z"
   },
   {
    "duration": 18,
    "start_time": "2022-05-10T20:17:16.490Z"
   },
   {
    "duration": 24,
    "start_time": "2022-05-10T20:17:57.187Z"
   },
   {
    "duration": 16,
    "start_time": "2022-05-10T20:19:04.166Z"
   },
   {
    "duration": 24,
    "start_time": "2022-05-10T20:19:46.227Z"
   },
   {
    "duration": 24,
    "start_time": "2022-05-10T20:22:53.487Z"
   },
   {
    "duration": 20,
    "start_time": "2022-05-10T20:23:22.282Z"
   },
   {
    "duration": 249,
    "start_time": "2022-05-10T20:23:33.869Z"
   },
   {
    "duration": 313,
    "start_time": "2022-05-10T20:23:46.863Z"
   },
   {
    "duration": 408,
    "start_time": "2022-05-10T20:23:50.738Z"
   },
   {
    "duration": 313,
    "start_time": "2022-05-10T20:23:54.938Z"
   },
   {
    "duration": 311,
    "start_time": "2022-05-10T20:24:00.422Z"
   },
   {
    "duration": 421,
    "start_time": "2022-05-10T20:24:05.426Z"
   },
   {
    "duration": 343,
    "start_time": "2022-05-10T20:24:11.740Z"
   },
   {
    "duration": 307,
    "start_time": "2022-05-10T20:24:15.532Z"
   },
   {
    "duration": 17,
    "start_time": "2022-05-10T20:31:55.756Z"
   },
   {
    "duration": 20,
    "start_time": "2022-05-10T20:32:07.558Z"
   },
   {
    "duration": 94,
    "start_time": "2022-05-10T20:39:18.064Z"
   },
   {
    "duration": 82,
    "start_time": "2022-05-10T20:39:23.464Z"
   },
   {
    "duration": 74,
    "start_time": "2022-05-10T20:39:50.839Z"
   },
   {
    "duration": 168,
    "start_time": "2022-05-10T20:43:37.933Z"
   },
   {
    "duration": 154,
    "start_time": "2022-05-10T20:44:37.101Z"
   },
   {
    "duration": 145,
    "start_time": "2022-05-10T20:47:22.311Z"
   },
   {
    "duration": 135,
    "start_time": "2022-05-10T20:48:20.189Z"
   },
   {
    "duration": 130,
    "start_time": "2022-05-10T20:48:28.027Z"
   },
   {
    "duration": 135,
    "start_time": "2022-05-10T20:48:41.944Z"
   },
   {
    "duration": 130,
    "start_time": "2022-05-10T20:48:47.417Z"
   },
   {
    "duration": 131,
    "start_time": "2022-05-10T20:48:54.492Z"
   },
   {
    "duration": 131,
    "start_time": "2022-05-10T20:49:17.379Z"
   },
   {
    "duration": 132,
    "start_time": "2022-05-10T20:49:24.822Z"
   },
   {
    "duration": 129,
    "start_time": "2022-05-10T20:49:29.475Z"
   },
   {
    "duration": 136,
    "start_time": "2022-05-10T20:49:31.974Z"
   },
   {
    "duration": 123,
    "start_time": "2022-05-10T20:49:49.140Z"
   },
   {
    "duration": 168,
    "start_time": "2022-05-10T20:49:53.469Z"
   },
   {
    "duration": 133,
    "start_time": "2022-05-10T20:52:47.578Z"
   },
   {
    "duration": 132,
    "start_time": "2022-05-10T20:53:14.752Z"
   },
   {
    "duration": 134,
    "start_time": "2022-05-10T20:54:23.378Z"
   },
   {
    "duration": 144,
    "start_time": "2022-05-10T20:54:38.004Z"
   },
   {
    "duration": 124,
    "start_time": "2022-05-10T20:55:22.776Z"
   },
   {
    "duration": 229,
    "start_time": "2022-05-10T20:55:38.754Z"
   },
   {
    "duration": 165,
    "start_time": "2022-05-10T20:56:21.156Z"
   },
   {
    "duration": 187,
    "start_time": "2022-05-10T20:56:29.040Z"
   },
   {
    "duration": 131,
    "start_time": "2022-05-10T20:56:55.156Z"
   },
   {
    "duration": 151,
    "start_time": "2022-05-10T20:57:02.952Z"
   },
   {
    "duration": 153,
    "start_time": "2022-05-10T20:57:23.774Z"
   },
   {
    "duration": 227,
    "start_time": "2022-05-10T21:02:52.421Z"
   },
   {
    "duration": 2433,
    "start_time": "2022-05-10T21:15:07.231Z"
   },
   {
    "duration": 1922,
    "start_time": "2022-05-10T21:15:23.312Z"
   },
   {
    "duration": 184,
    "start_time": "2022-05-10T21:15:56.968Z"
   },
   {
    "duration": 62,
    "start_time": "2022-05-10T21:16:03.693Z"
   },
   {
    "duration": 64,
    "start_time": "2022-05-10T21:16:39.853Z"
   },
   {
    "duration": 62,
    "start_time": "2022-05-10T21:16:56.044Z"
   },
   {
    "duration": 1859,
    "start_time": "2022-05-11T10:26:50.291Z"
   },
   {
    "duration": 38,
    "start_time": "2022-05-11T10:26:52.153Z"
   },
   {
    "duration": 86,
    "start_time": "2022-05-11T10:26:52.193Z"
   },
   {
    "duration": 23,
    "start_time": "2022-05-11T10:26:52.280Z"
   },
   {
    "duration": 30,
    "start_time": "2022-05-11T10:26:52.305Z"
   },
   {
    "duration": 63,
    "start_time": "2022-05-11T10:26:52.355Z"
   },
   {
    "duration": 39,
    "start_time": "2022-05-11T10:26:52.420Z"
   },
   {
    "duration": 25,
    "start_time": "2022-05-11T10:26:52.460Z"
   },
   {
    "duration": 71,
    "start_time": "2022-05-11T10:26:52.486Z"
   },
   {
    "duration": 16,
    "start_time": "2022-05-11T10:26:52.559Z"
   },
   {
    "duration": 20,
    "start_time": "2022-05-11T10:26:52.576Z"
   },
   {
    "duration": 21,
    "start_time": "2022-05-11T10:26:52.598Z"
   },
   {
    "duration": 38,
    "start_time": "2022-05-11T10:26:52.621Z"
   },
   {
    "duration": 8,
    "start_time": "2022-05-11T10:26:52.662Z"
   },
   {
    "duration": 63,
    "start_time": "2022-05-11T10:26:52.672Z"
   },
   {
    "duration": 48,
    "start_time": "2022-05-11T10:26:52.737Z"
   },
   {
    "duration": 29,
    "start_time": "2022-05-11T10:26:52.786Z"
   },
   {
    "duration": 5,
    "start_time": "2022-05-11T10:26:52.817Z"
   },
   {
    "duration": 37,
    "start_time": "2022-05-11T10:26:52.823Z"
   },
   {
    "duration": 59,
    "start_time": "2022-05-11T10:26:52.862Z"
   },
   {
    "duration": 62,
    "start_time": "2022-05-11T10:26:52.923Z"
   },
   {
    "duration": 4,
    "start_time": "2022-05-11T10:26:52.987Z"
   },
   {
    "duration": 182,
    "start_time": "2022-05-11T10:26:52.993Z"
   },
   {
    "duration": 268,
    "start_time": "2022-05-11T10:26:53.178Z"
   },
   {
    "duration": 61,
    "start_time": "2022-05-11T10:26:53.449Z"
   },
   {
    "duration": 79,
    "start_time": "2022-05-11T10:26:53.512Z"
   },
   {
    "duration": 33,
    "start_time": "2022-05-11T10:26:53.593Z"
   },
   {
    "duration": 102,
    "start_time": "2022-05-11T10:26:53.628Z"
   },
   {
    "duration": 165,
    "start_time": "2022-05-11T10:26:53.732Z"
   },
   {
    "duration": 68,
    "start_time": "2022-05-11T10:26:53.899Z"
   },
   {
    "duration": 61,
    "start_time": "2022-05-11T10:26:53.970Z"
   },
   {
    "duration": 52,
    "start_time": "2022-05-11T10:26:54.033Z"
   },
   {
    "duration": 109,
    "start_time": "2022-05-11T10:26:54.088Z"
   },
   {
    "duration": 185,
    "start_time": "2022-05-11T10:26:54.199Z"
   },
   {
    "duration": 66,
    "start_time": "2022-05-11T10:26:54.387Z"
   },
   {
    "duration": 63,
    "start_time": "2022-05-11T10:26:54.456Z"
   },
   {
    "duration": 50,
    "start_time": "2022-05-11T10:26:54.522Z"
   },
   {
    "duration": 60,
    "start_time": "2022-05-11T10:26:54.575Z"
   },
   {
    "duration": 136,
    "start_time": "2022-05-11T10:26:54.638Z"
   },
   {
    "duration": 41,
    "start_time": "2022-05-11T10:26:54.776Z"
   },
   {
    "duration": 43,
    "start_time": "2022-05-11T10:26:54.821Z"
   },
   {
    "duration": 33,
    "start_time": "2022-05-11T10:26:54.866Z"
   },
   {
    "duration": 4,
    "start_time": "2022-05-11T10:26:54.900Z"
   },
   {
    "duration": 8,
    "start_time": "2022-05-11T10:26:54.906Z"
   },
   {
    "duration": 333,
    "start_time": "2022-05-11T10:26:54.916Z"
   },
   {
    "duration": 200,
    "start_time": "2022-05-11T10:26:55.254Z"
   },
   {
    "duration": 296,
    "start_time": "2022-05-11T10:26:55.456Z"
   },
   {
    "duration": 198,
    "start_time": "2022-05-11T10:26:55.755Z"
   },
   {
    "duration": 295,
    "start_time": "2022-05-11T10:26:55.954Z"
   },
   {
    "duration": 15,
    "start_time": "2022-05-11T10:26:56.254Z"
   },
   {
    "duration": 53,
    "start_time": "2022-05-11T10:26:56.270Z"
   },
   {
    "duration": 7,
    "start_time": "2022-05-11T10:26:56.325Z"
   },
   {
    "duration": 23,
    "start_time": "2022-05-11T10:26:56.334Z"
   },
   {
    "duration": 203,
    "start_time": "2022-05-11T10:26:56.359Z"
   },
   {
    "duration": 0,
    "start_time": "2022-05-11T10:26:56.565Z"
   },
   {
    "duration": 0,
    "start_time": "2022-05-11T10:26:56.566Z"
   },
   {
    "duration": 0,
    "start_time": "2022-05-11T10:26:56.568Z"
   },
   {
    "duration": 427,
    "start_time": "2022-05-11T10:26:58.231Z"
   },
   {
    "duration": 34,
    "start_time": "2022-05-11T10:26:58.660Z"
   },
   {
    "duration": 82,
    "start_time": "2022-05-11T10:26:58.696Z"
   },
   {
    "duration": 19,
    "start_time": "2022-05-11T10:26:58.780Z"
   },
   {
    "duration": 36,
    "start_time": "2022-05-11T10:26:58.801Z"
   },
   {
    "duration": 72,
    "start_time": "2022-05-11T10:26:58.855Z"
   },
   {
    "duration": 34,
    "start_time": "2022-05-11T10:26:58.929Z"
   },
   {
    "duration": 26,
    "start_time": "2022-05-11T10:26:58.965Z"
   },
   {
    "duration": 68,
    "start_time": "2022-05-11T10:26:58.992Z"
   },
   {
    "duration": 16,
    "start_time": "2022-05-11T10:26:59.063Z"
   },
   {
    "duration": 34,
    "start_time": "2022-05-11T10:26:59.081Z"
   },
   {
    "duration": 59,
    "start_time": "2022-05-11T10:26:59.116Z"
   },
   {
    "duration": 16,
    "start_time": "2022-05-11T10:26:59.177Z"
   },
   {
    "duration": 34,
    "start_time": "2022-05-11T10:26:59.195Z"
   },
   {
    "duration": 60,
    "start_time": "2022-05-11T10:26:59.231Z"
   },
   {
    "duration": 29,
    "start_time": "2022-05-11T10:26:59.293Z"
   },
   {
    "duration": 37,
    "start_time": "2022-05-11T10:26:59.324Z"
   },
   {
    "duration": 6,
    "start_time": "2022-05-11T10:26:59.363Z"
   },
   {
    "duration": 10,
    "start_time": "2022-05-11T10:26:59.371Z"
   },
   {
    "duration": 77,
    "start_time": "2022-05-11T10:26:59.383Z"
   },
   {
    "duration": 39,
    "start_time": "2022-05-11T10:26:59.462Z"
   },
   {
    "duration": 4,
    "start_time": "2022-05-11T10:26:59.502Z"
   },
   {
    "duration": 127,
    "start_time": "2022-05-11T10:26:59.507Z"
   },
   {
    "duration": 175,
    "start_time": "2022-05-11T10:26:59.636Z"
   },
   {
    "duration": 52,
    "start_time": "2022-05-11T10:26:59.813Z"
   },
   {
    "duration": 40,
    "start_time": "2022-05-11T10:26:59.867Z"
   },
   {
    "duration": 22,
    "start_time": "2022-05-11T10:26:59.910Z"
   },
   {
    "duration": 67,
    "start_time": "2022-05-11T10:26:59.958Z"
   },
   {
    "duration": 122,
    "start_time": "2022-05-11T10:27:00.027Z"
   },
   {
    "duration": 39,
    "start_time": "2022-05-11T10:27:00.151Z"
   },
   {
    "duration": 66,
    "start_time": "2022-05-11T10:27:00.192Z"
   },
   {
    "duration": 22,
    "start_time": "2022-05-11T10:27:00.260Z"
   },
   {
    "duration": 110,
    "start_time": "2022-05-11T10:27:00.285Z"
   },
   {
    "duration": 138,
    "start_time": "2022-05-11T10:27:00.398Z"
   },
   {
    "duration": 40,
    "start_time": "2022-05-11T10:27:00.538Z"
   },
   {
    "duration": 65,
    "start_time": "2022-05-11T10:27:00.580Z"
   },
   {
    "duration": 53,
    "start_time": "2022-05-11T10:27:00.647Z"
   },
   {
    "duration": 62,
    "start_time": "2022-05-11T10:27:00.701Z"
   },
   {
    "duration": 108,
    "start_time": "2022-05-11T10:27:00.765Z"
   },
   {
    "duration": 45,
    "start_time": "2022-05-11T10:27:00.875Z"
   },
   {
    "duration": 49,
    "start_time": "2022-05-11T10:27:00.922Z"
   },
   {
    "duration": 49,
    "start_time": "2022-05-11T10:27:00.972Z"
   },
   {
    "duration": 20,
    "start_time": "2022-05-11T10:27:01.023Z"
   },
   {
    "duration": 27,
    "start_time": "2022-05-11T10:27:01.045Z"
   },
   {
    "duration": 394,
    "start_time": "2022-05-11T10:27:01.074Z"
   },
   {
    "duration": 191,
    "start_time": "2022-05-11T10:27:01.470Z"
   },
   {
    "duration": 290,
    "start_time": "2022-05-11T10:27:01.663Z"
   },
   {
    "duration": 203,
    "start_time": "2022-05-11T10:27:01.955Z"
   },
   {
    "duration": 300,
    "start_time": "2022-05-11T10:27:02.160Z"
   },
   {
    "duration": 16,
    "start_time": "2022-05-11T10:27:02.462Z"
   },
   {
    "duration": 115,
    "start_time": "2022-05-11T10:27:02.480Z"
   },
   {
    "duration": 39,
    "start_time": "2022-05-11T10:27:02.596Z"
   },
   {
    "duration": 137,
    "start_time": "2022-05-11T10:27:02.636Z"
   },
   {
    "duration": 137,
    "start_time": "2022-05-11T10:27:02.774Z"
   },
   {
    "duration": 0,
    "start_time": "2022-05-11T10:27:02.913Z"
   },
   {
    "duration": 0,
    "start_time": "2022-05-11T10:27:02.915Z"
   },
   {
    "duration": 0,
    "start_time": "2022-05-11T10:27:02.917Z"
   },
   {
    "duration": 534,
    "start_time": "2022-05-11T10:34:04.014Z"
   },
   {
    "duration": 41,
    "start_time": "2022-05-11T10:34:04.550Z"
   },
   {
    "duration": 85,
    "start_time": "2022-05-11T10:34:04.593Z"
   },
   {
    "duration": 19,
    "start_time": "2022-05-11T10:34:04.680Z"
   },
   {
    "duration": 57,
    "start_time": "2022-05-11T10:34:04.701Z"
   },
   {
    "duration": 63,
    "start_time": "2022-05-11T10:34:04.762Z"
   },
   {
    "duration": 38,
    "start_time": "2022-05-11T10:34:04.827Z"
   },
   {
    "duration": 28,
    "start_time": "2022-05-11T10:34:04.867Z"
   },
   {
    "duration": 67,
    "start_time": "2022-05-11T10:34:04.897Z"
   },
   {
    "duration": 15,
    "start_time": "2022-05-11T10:34:04.967Z"
   },
   {
    "duration": 15,
    "start_time": "2022-05-11T10:34:04.984Z"
   },
   {
    "duration": 20,
    "start_time": "2022-05-11T10:34:05.001Z"
   },
   {
    "duration": 41,
    "start_time": "2022-05-11T10:34:05.024Z"
   },
   {
    "duration": 18,
    "start_time": "2022-05-11T10:34:05.067Z"
   },
   {
    "duration": 70,
    "start_time": "2022-05-11T10:34:05.087Z"
   },
   {
    "duration": 30,
    "start_time": "2022-05-11T10:34:05.158Z"
   },
   {
    "duration": 23,
    "start_time": "2022-05-11T10:34:05.190Z"
   },
   {
    "duration": 6,
    "start_time": "2022-05-11T10:34:05.215Z"
   },
   {
    "duration": 40,
    "start_time": "2022-05-11T10:34:05.223Z"
   },
   {
    "duration": 80,
    "start_time": "2022-05-11T10:34:05.264Z"
   },
   {
    "duration": 79,
    "start_time": "2022-05-11T10:34:05.355Z"
   },
   {
    "duration": 11,
    "start_time": "2022-05-11T10:34:05.440Z"
   },
   {
    "duration": 124,
    "start_time": "2022-05-11T10:34:05.453Z"
   },
   {
    "duration": 196,
    "start_time": "2022-05-11T10:34:05.580Z"
   },
   {
    "duration": 58,
    "start_time": "2022-05-11T10:34:05.780Z"
   },
   {
    "duration": 53,
    "start_time": "2022-05-11T10:34:05.841Z"
   },
   {
    "duration": 45,
    "start_time": "2022-05-11T10:34:05.896Z"
   },
   {
    "duration": 96,
    "start_time": "2022-05-11T10:34:05.947Z"
   },
   {
    "duration": 122,
    "start_time": "2022-05-11T10:34:06.045Z"
   },
   {
    "duration": 40,
    "start_time": "2022-05-11T10:34:06.169Z"
   },
   {
    "duration": 63,
    "start_time": "2022-05-11T10:34:06.211Z"
   },
   {
    "duration": 39,
    "start_time": "2022-05-11T10:34:06.276Z"
   },
   {
    "duration": 117,
    "start_time": "2022-05-11T10:34:06.317Z"
   },
   {
    "duration": 175,
    "start_time": "2022-05-11T10:34:06.436Z"
   },
   {
    "duration": 68,
    "start_time": "2022-05-11T10:34:06.613Z"
   },
   {
    "duration": 75,
    "start_time": "2022-05-11T10:34:06.683Z"
   },
   {
    "duration": 34,
    "start_time": "2022-05-11T10:34:06.761Z"
   },
   {
    "duration": 80,
    "start_time": "2022-05-11T10:34:06.797Z"
   },
   {
    "duration": 149,
    "start_time": "2022-05-11T10:34:06.879Z"
   },
   {
    "duration": 73,
    "start_time": "2022-05-11T10:34:07.030Z"
   },
   {
    "duration": 18,
    "start_time": "2022-05-11T10:34:07.105Z"
   },
   {
    "duration": 80,
    "start_time": "2022-05-11T10:34:07.126Z"
   },
   {
    "duration": 4,
    "start_time": "2022-05-11T10:34:07.207Z"
   },
   {
    "duration": 18,
    "start_time": "2022-05-11T10:34:07.213Z"
   },
   {
    "duration": 334,
    "start_time": "2022-05-11T10:34:07.233Z"
   },
   {
    "duration": 237,
    "start_time": "2022-05-11T10:34:07.569Z"
   },
   {
    "duration": 407,
    "start_time": "2022-05-11T10:34:07.808Z"
   },
   {
    "duration": 199,
    "start_time": "2022-05-11T10:34:08.217Z"
   },
   {
    "duration": 306,
    "start_time": "2022-05-11T10:34:08.418Z"
   },
   {
    "duration": 17,
    "start_time": "2022-05-11T10:34:08.726Z"
   },
   {
    "duration": 47,
    "start_time": "2022-05-11T10:34:08.755Z"
   },
   {
    "duration": 10,
    "start_time": "2022-05-11T10:34:08.804Z"
   },
   {
    "duration": 35,
    "start_time": "2022-05-11T10:34:08.816Z"
   },
   {
    "duration": 40,
    "start_time": "2022-05-11T10:34:08.853Z"
   },
   {
    "duration": 0,
    "start_time": "2022-05-11T10:34:08.895Z"
   },
   {
    "duration": 0,
    "start_time": "2022-05-11T10:34:08.896Z"
   },
   {
    "duration": 0,
    "start_time": "2022-05-11T10:34:08.898Z"
   },
   {
    "duration": 379,
    "start_time": "2022-05-11T10:42:00.613Z"
   },
   {
    "duration": 34,
    "start_time": "2022-05-11T10:42:00.995Z"
   },
   {
    "duration": 65,
    "start_time": "2022-05-11T10:42:01.031Z"
   },
   {
    "duration": 18,
    "start_time": "2022-05-11T10:42:01.098Z"
   },
   {
    "duration": 50,
    "start_time": "2022-05-11T10:42:01.118Z"
   },
   {
    "duration": 57,
    "start_time": "2022-05-11T10:42:01.170Z"
   },
   {
    "duration": 32,
    "start_time": "2022-05-11T10:42:01.228Z"
   },
   {
    "duration": 39,
    "start_time": "2022-05-11T10:42:01.262Z"
   },
   {
    "duration": 61,
    "start_time": "2022-05-11T10:42:01.303Z"
   },
   {
    "duration": 13,
    "start_time": "2022-05-11T10:42:01.366Z"
   },
   {
    "duration": 45,
    "start_time": "2022-05-11T10:42:01.381Z"
   },
   {
    "duration": 76,
    "start_time": "2022-05-11T10:42:01.428Z"
   },
   {
    "duration": 12,
    "start_time": "2022-05-11T10:42:01.506Z"
   },
   {
    "duration": 19,
    "start_time": "2022-05-11T10:42:01.522Z"
   },
   {
    "duration": 51,
    "start_time": "2022-05-11T10:42:01.542Z"
   },
   {
    "duration": 28,
    "start_time": "2022-05-11T10:42:01.595Z"
   },
   {
    "duration": 40,
    "start_time": "2022-05-11T10:42:01.625Z"
   },
   {
    "duration": 23,
    "start_time": "2022-05-11T10:42:01.667Z"
   },
   {
    "duration": 30,
    "start_time": "2022-05-11T10:42:01.692Z"
   },
   {
    "duration": 66,
    "start_time": "2022-05-11T10:42:01.724Z"
   },
   {
    "duration": 42,
    "start_time": "2022-05-11T10:42:01.792Z"
   },
   {
    "duration": 18,
    "start_time": "2022-05-11T10:42:01.836Z"
   },
   {
    "duration": 119,
    "start_time": "2022-05-11T10:42:01.856Z"
   },
   {
    "duration": 179,
    "start_time": "2022-05-11T10:42:01.977Z"
   },
   {
    "duration": 38,
    "start_time": "2022-05-11T10:42:02.158Z"
   },
   {
    "duration": 62,
    "start_time": "2022-05-11T10:42:02.199Z"
   },
   {
    "duration": 22,
    "start_time": "2022-05-11T10:42:02.263Z"
   },
   {
    "duration": 78,
    "start_time": "2022-05-11T10:42:02.286Z"
   },
   {
    "duration": 111,
    "start_time": "2022-05-11T10:42:02.366Z"
   },
   {
    "duration": 38,
    "start_time": "2022-05-11T10:42:02.479Z"
   },
   {
    "duration": 60,
    "start_time": "2022-05-11T10:42:02.520Z"
   },
   {
    "duration": 21,
    "start_time": "2022-05-11T10:42:02.582Z"
   },
   {
    "duration": 91,
    "start_time": "2022-05-11T10:42:02.605Z"
   },
   {
    "duration": 127,
    "start_time": "2022-05-11T10:42:36.031Z"
   },
   {
    "duration": 82,
    "start_time": "2022-05-11T10:43:13.398Z"
   },
   {
    "duration": 736,
    "start_time": "2022-05-11T10:45:23.276Z"
   },
   {
    "duration": 37,
    "start_time": "2022-05-11T10:45:24.014Z"
   },
   {
    "duration": 66,
    "start_time": "2022-05-11T10:45:24.053Z"
   },
   {
    "duration": 32,
    "start_time": "2022-05-11T10:45:24.122Z"
   },
   {
    "duration": 30,
    "start_time": "2022-05-11T10:45:24.157Z"
   },
   {
    "duration": 72,
    "start_time": "2022-05-11T10:45:24.188Z"
   },
   {
    "duration": 15,
    "start_time": "2022-05-11T10:45:24.261Z"
   },
   {
    "duration": 25,
    "start_time": "2022-05-11T10:45:24.278Z"
   },
   {
    "duration": 71,
    "start_time": "2022-05-11T10:45:24.306Z"
   },
   {
    "duration": 13,
    "start_time": "2022-05-11T10:45:24.380Z"
   },
   {
    "duration": 16,
    "start_time": "2022-05-11T10:45:24.395Z"
   },
   {
    "duration": 46,
    "start_time": "2022-05-11T10:45:24.413Z"
   },
   {
    "duration": 10,
    "start_time": "2022-05-11T10:45:24.461Z"
   },
   {
    "duration": 24,
    "start_time": "2022-05-11T10:45:24.473Z"
   },
   {
    "duration": 65,
    "start_time": "2022-05-11T10:45:24.499Z"
   },
   {
    "duration": 30,
    "start_time": "2022-05-11T10:45:24.568Z"
   },
   {
    "duration": 24,
    "start_time": "2022-05-11T10:45:24.600Z"
   },
   {
    "duration": 5,
    "start_time": "2022-05-11T10:45:24.626Z"
   },
   {
    "duration": 30,
    "start_time": "2022-05-11T10:45:24.632Z"
   },
   {
    "duration": 54,
    "start_time": "2022-05-11T10:45:24.664Z"
   },
   {
    "duration": 57,
    "start_time": "2022-05-11T10:45:24.720Z"
   },
   {
    "duration": 4,
    "start_time": "2022-05-11T10:45:24.778Z"
   },
   {
    "duration": 122,
    "start_time": "2022-05-11T10:45:24.784Z"
   },
   {
    "duration": 173,
    "start_time": "2022-05-11T10:45:24.908Z"
   },
   {
    "duration": 44,
    "start_time": "2022-05-11T10:45:25.082Z"
   },
   {
    "duration": 70,
    "start_time": "2022-05-11T10:45:25.127Z"
   },
   {
    "duration": 23,
    "start_time": "2022-05-11T10:45:25.199Z"
   },
   {
    "duration": 88,
    "start_time": "2022-05-11T10:45:25.226Z"
   },
   {
    "duration": 116,
    "start_time": "2022-05-11T10:45:25.316Z"
   },
   {
    "duration": 42,
    "start_time": "2022-05-11T10:45:25.434Z"
   },
   {
    "duration": 41,
    "start_time": "2022-05-11T10:45:25.478Z"
   },
   {
    "duration": 51,
    "start_time": "2022-05-11T10:45:25.520Z"
   },
   {
    "duration": 83,
    "start_time": "2022-05-11T10:45:25.573Z"
   },
   {
    "duration": 130,
    "start_time": "2022-05-11T10:45:25.658Z"
   },
   {
    "duration": 36,
    "start_time": "2022-05-11T10:45:25.789Z"
   },
   {
    "duration": 59,
    "start_time": "2022-05-11T10:45:25.827Z"
   },
   {
    "duration": 19,
    "start_time": "2022-05-11T10:45:25.888Z"
   },
   {
    "duration": 58,
    "start_time": "2022-05-11T10:45:25.909Z"
   },
   {
    "duration": 86,
    "start_time": "2022-05-11T10:45:34.340Z"
   },
   {
    "duration": 154,
    "start_time": "2022-05-11T10:52:09.024Z"
   },
   {
    "duration": 181,
    "start_time": "2022-05-11T10:52:50.064Z"
   },
   {
    "duration": 175,
    "start_time": "2022-05-11T10:52:54.475Z"
   },
   {
    "duration": 185,
    "start_time": "2022-05-11T10:53:01.221Z"
   },
   {
    "duration": 1703,
    "start_time": "2022-05-11T10:55:57.276Z"
   },
   {
    "duration": 1836,
    "start_time": "2022-05-11T10:56:12.949Z"
   },
   {
    "duration": 2042,
    "start_time": "2022-05-11T10:56:37.350Z"
   },
   {
    "duration": 357,
    "start_time": "2022-05-11T10:56:43.632Z"
   },
   {
    "duration": 33,
    "start_time": "2022-05-11T10:56:43.991Z"
   },
   {
    "duration": 72,
    "start_time": "2022-05-11T10:56:44.025Z"
   },
   {
    "duration": 16,
    "start_time": "2022-05-11T10:56:44.099Z"
   },
   {
    "duration": 50,
    "start_time": "2022-05-11T10:56:44.117Z"
   },
   {
    "duration": 54,
    "start_time": "2022-05-11T10:56:44.169Z"
   },
   {
    "duration": 41,
    "start_time": "2022-05-11T10:56:44.224Z"
   },
   {
    "duration": 24,
    "start_time": "2022-05-11T10:56:44.267Z"
   },
   {
    "duration": 62,
    "start_time": "2022-05-11T10:56:44.293Z"
   },
   {
    "duration": 15,
    "start_time": "2022-05-11T10:56:44.358Z"
   },
   {
    "duration": 14,
    "start_time": "2022-05-11T10:56:44.375Z"
   },
   {
    "duration": 36,
    "start_time": "2022-05-11T10:56:44.391Z"
   },
   {
    "duration": 19,
    "start_time": "2022-05-11T10:56:44.429Z"
   },
   {
    "duration": 17,
    "start_time": "2022-05-11T10:56:44.454Z"
   },
   {
    "duration": 63,
    "start_time": "2022-05-11T10:56:44.472Z"
   },
   {
    "duration": 27,
    "start_time": "2022-05-11T10:56:44.537Z"
   },
   {
    "duration": 31,
    "start_time": "2022-05-11T10:56:44.566Z"
   },
   {
    "duration": 5,
    "start_time": "2022-05-11T10:56:44.599Z"
   },
   {
    "duration": 22,
    "start_time": "2022-05-11T10:56:44.606Z"
   },
   {
    "duration": 59,
    "start_time": "2022-05-11T10:56:44.630Z"
   },
   {
    "duration": 36,
    "start_time": "2022-05-11T10:56:44.691Z"
   },
   {
    "duration": 3,
    "start_time": "2022-05-11T10:56:44.729Z"
   },
   {
    "duration": 108,
    "start_time": "2022-05-11T10:56:44.734Z"
   },
   {
    "duration": 166,
    "start_time": "2022-05-11T10:56:44.844Z"
   },
   {
    "duration": 58,
    "start_time": "2022-05-11T10:56:45.012Z"
   },
   {
    "duration": 41,
    "start_time": "2022-05-11T10:56:45.072Z"
   },
   {
    "duration": 42,
    "start_time": "2022-05-11T10:56:45.114Z"
   },
   {
    "duration": 60,
    "start_time": "2022-05-11T10:56:45.160Z"
   },
   {
    "duration": 114,
    "start_time": "2022-05-11T10:56:45.221Z"
   },
   {
    "duration": 44,
    "start_time": "2022-05-11T10:56:45.337Z"
   },
   {
    "duration": 38,
    "start_time": "2022-05-11T10:56:45.383Z"
   },
   {
    "duration": 43,
    "start_time": "2022-05-11T10:56:45.423Z"
   },
   {
    "duration": 95,
    "start_time": "2022-05-11T10:56:45.467Z"
   },
   {
    "duration": 120,
    "start_time": "2022-05-11T10:56:45.564Z"
   },
   {
    "duration": 37,
    "start_time": "2022-05-11T10:56:45.686Z"
   },
   {
    "duration": 59,
    "start_time": "2022-05-11T10:56:45.724Z"
   },
   {
    "duration": 27,
    "start_time": "2022-05-11T10:56:45.786Z"
   },
   {
    "duration": 63,
    "start_time": "2022-05-11T10:56:45.814Z"
   },
   {
    "duration": 83,
    "start_time": "2022-05-11T10:56:45.879Z"
   },
   {
    "duration": 38,
    "start_time": "2022-05-11T10:56:45.964Z"
   },
   {
    "duration": 16,
    "start_time": "2022-05-11T10:56:46.004Z"
   },
   {
    "duration": 34,
    "start_time": "2022-05-11T10:56:46.054Z"
   },
   {
    "duration": 5,
    "start_time": "2022-05-11T10:56:46.090Z"
   },
   {
    "duration": 29,
    "start_time": "2022-05-11T10:56:46.097Z"
   },
   {
    "duration": 397,
    "start_time": "2022-05-11T10:56:46.127Z"
   },
   {
    "duration": 2018,
    "start_time": "2022-05-11T10:56:46.527Z"
   },
   {
    "duration": 0,
    "start_time": "2022-05-11T10:56:48.546Z"
   },
   {
    "duration": 0,
    "start_time": "2022-05-11T10:56:48.548Z"
   },
   {
    "duration": 0,
    "start_time": "2022-05-11T10:56:48.549Z"
   },
   {
    "duration": 0,
    "start_time": "2022-05-11T10:56:48.550Z"
   },
   {
    "duration": 0,
    "start_time": "2022-05-11T10:56:48.551Z"
   },
   {
    "duration": 0,
    "start_time": "2022-05-11T10:56:48.552Z"
   },
   {
    "duration": 0,
    "start_time": "2022-05-11T10:56:48.553Z"
   },
   {
    "duration": 0,
    "start_time": "2022-05-11T10:56:48.555Z"
   },
   {
    "duration": 0,
    "start_time": "2022-05-11T10:56:48.555Z"
   },
   {
    "duration": 1,
    "start_time": "2022-05-11T10:56:48.556Z"
   },
   {
    "duration": 0,
    "start_time": "2022-05-11T10:56:48.558Z"
   },
   {
    "duration": 8,
    "start_time": "2022-05-11T10:58:04.385Z"
   },
   {
    "duration": 9,
    "start_time": "2022-05-11T10:58:06.315Z"
   },
   {
    "duration": 14,
    "start_time": "2022-05-11T10:58:11.059Z"
   },
   {
    "duration": 22,
    "start_time": "2022-05-11T10:58:49.493Z"
   },
   {
    "duration": 3,
    "start_time": "2022-05-11T10:59:29.268Z"
   },
   {
    "duration": 22,
    "start_time": "2022-05-11T10:59:32.199Z"
   },
   {
    "duration": 283,
    "start_time": "2022-05-11T11:05:10.551Z"
   },
   {
    "duration": 1884,
    "start_time": "2022-05-11T11:08:41.595Z"
   },
   {
    "duration": 2446,
    "start_time": "2022-05-11T11:08:54.429Z"
   },
   {
    "duration": 16,
    "start_time": "2022-05-11T11:11:05.590Z"
   },
   {
    "duration": 2025,
    "start_time": "2022-05-11T11:11:23.191Z"
   },
   {
    "duration": 10,
    "start_time": "2022-05-11T11:11:40.926Z"
   },
   {
    "duration": 32,
    "start_time": "2022-05-11T11:11:54.443Z"
   },
   {
    "duration": 21,
    "start_time": "2022-05-11T11:14:28.741Z"
   },
   {
    "duration": 9,
    "start_time": "2022-05-11T11:14:50.882Z"
   },
   {
    "duration": 4,
    "start_time": "2022-05-11T11:15:10.689Z"
   },
   {
    "duration": 25,
    "start_time": "2022-05-11T11:15:20.748Z"
   },
   {
    "duration": 23,
    "start_time": "2022-05-11T11:15:27.745Z"
   },
   {
    "duration": 364,
    "start_time": "2022-05-11T11:15:47.069Z"
   },
   {
    "duration": 36,
    "start_time": "2022-05-11T11:15:47.435Z"
   },
   {
    "duration": 83,
    "start_time": "2022-05-11T11:15:47.473Z"
   },
   {
    "duration": 18,
    "start_time": "2022-05-11T11:15:47.559Z"
   },
   {
    "duration": 31,
    "start_time": "2022-05-11T11:15:47.579Z"
   },
   {
    "duration": 86,
    "start_time": "2022-05-11T11:15:47.612Z"
   },
   {
    "duration": 15,
    "start_time": "2022-05-11T11:15:47.700Z"
   },
   {
    "duration": 51,
    "start_time": "2022-05-11T11:15:47.717Z"
   },
   {
    "duration": 45,
    "start_time": "2022-05-11T11:15:47.771Z"
   },
   {
    "duration": 39,
    "start_time": "2022-05-11T11:15:47.818Z"
   },
   {
    "duration": 16,
    "start_time": "2022-05-11T11:15:47.859Z"
   },
   {
    "duration": 29,
    "start_time": "2022-05-11T11:15:47.877Z"
   },
   {
    "duration": 6,
    "start_time": "2022-05-11T11:15:47.908Z"
   },
   {
    "duration": 15,
    "start_time": "2022-05-11T11:15:47.916Z"
   },
   {
    "duration": 63,
    "start_time": "2022-05-11T11:15:47.933Z"
   },
   {
    "duration": 25,
    "start_time": "2022-05-11T11:15:47.998Z"
   },
   {
    "duration": 39,
    "start_time": "2022-05-11T11:15:48.025Z"
   },
   {
    "duration": 5,
    "start_time": "2022-05-11T11:15:48.066Z"
   },
   {
    "duration": 15,
    "start_time": "2022-05-11T11:15:48.073Z"
   },
   {
    "duration": 64,
    "start_time": "2022-05-11T11:15:48.090Z"
   },
   {
    "duration": 38,
    "start_time": "2022-05-11T11:15:48.157Z"
   },
   {
    "duration": 3,
    "start_time": "2022-05-11T11:15:48.197Z"
   },
   {
    "duration": 116,
    "start_time": "2022-05-11T11:15:48.202Z"
   },
   {
    "duration": 166,
    "start_time": "2022-05-11T11:15:48.320Z"
   },
   {
    "duration": 40,
    "start_time": "2022-05-11T11:15:48.487Z"
   },
   {
    "duration": 60,
    "start_time": "2022-05-11T11:15:48.528Z"
   },
   {
    "duration": 22,
    "start_time": "2022-05-11T11:15:48.589Z"
   },
   {
    "duration": 75,
    "start_time": "2022-05-11T11:15:48.615Z"
   },
   {
    "duration": 113,
    "start_time": "2022-05-11T11:15:48.692Z"
   },
   {
    "duration": 49,
    "start_time": "2022-05-11T11:15:48.807Z"
   },
   {
    "duration": 38,
    "start_time": "2022-05-11T11:15:48.858Z"
   },
   {
    "duration": 20,
    "start_time": "2022-05-11T11:15:48.898Z"
   },
   {
    "duration": 95,
    "start_time": "2022-05-11T11:15:48.920Z"
   },
   {
    "duration": 129,
    "start_time": "2022-05-11T11:15:49.017Z"
   },
   {
    "duration": 40,
    "start_time": "2022-05-11T11:15:49.148Z"
   },
   {
    "duration": 40,
    "start_time": "2022-05-11T11:15:49.189Z"
   },
   {
    "duration": 43,
    "start_time": "2022-05-11T11:15:49.230Z"
   },
   {
    "duration": 38,
    "start_time": "2022-05-11T11:15:49.274Z"
   },
   {
    "duration": 101,
    "start_time": "2022-05-11T11:15:49.314Z"
   },
   {
    "duration": 52,
    "start_time": "2022-05-11T11:15:49.418Z"
   },
   {
    "duration": 15,
    "start_time": "2022-05-11T11:15:49.471Z"
   },
   {
    "duration": 33,
    "start_time": "2022-05-11T11:15:49.488Z"
   },
   {
    "duration": 34,
    "start_time": "2022-05-11T11:15:49.523Z"
   },
   {
    "duration": 11,
    "start_time": "2022-05-11T11:15:49.558Z"
   },
   {
    "duration": 283,
    "start_time": "2022-05-11T11:15:49.571Z"
   },
   {
    "duration": 21,
    "start_time": "2022-05-11T11:15:49.856Z"
   },
   {
    "duration": 344,
    "start_time": "2022-05-11T11:15:49.879Z"
   },
   {
    "duration": 196,
    "start_time": "2022-05-11T11:15:50.225Z"
   },
   {
    "duration": 291,
    "start_time": "2022-05-11T11:15:50.424Z"
   },
   {
    "duration": 197,
    "start_time": "2022-05-11T11:15:50.717Z"
   },
   {
    "duration": 51,
    "start_time": "2022-05-11T11:15:50.916Z"
   },
   {
    "duration": 8,
    "start_time": "2022-05-11T11:15:50.969Z"
   },
   {
    "duration": 18,
    "start_time": "2022-05-11T11:15:50.978Z"
   },
   {
    "duration": 24,
    "start_time": "2022-05-11T11:15:50.998Z"
   },
   {
    "duration": 0,
    "start_time": "2022-05-11T11:15:51.024Z"
   },
   {
    "duration": 0,
    "start_time": "2022-05-11T11:15:51.025Z"
   },
   {
    "duration": 0,
    "start_time": "2022-05-11T11:15:51.026Z"
   },
   {
    "duration": 5,
    "start_time": "2022-05-11T11:18:02.739Z"
   },
   {
    "duration": 25,
    "start_time": "2022-05-11T11:18:09.231Z"
   },
   {
    "duration": 25,
    "start_time": "2022-05-11T11:18:46.935Z"
   },
   {
    "duration": 25,
    "start_time": "2022-05-11T11:19:02.841Z"
   },
   {
    "duration": 27,
    "start_time": "2022-05-11T11:19:23.832Z"
   },
   {
    "duration": 106,
    "start_time": "2022-05-11T11:21:25.520Z"
   },
   {
    "duration": 117,
    "start_time": "2022-05-11T11:21:29.175Z"
   },
   {
    "duration": 172,
    "start_time": "2022-05-11T11:21:34.592Z"
   },
   {
    "duration": 31,
    "start_time": "2022-05-11T11:22:17.932Z"
   },
   {
    "duration": 2132,
    "start_time": "2022-05-11T11:24:24.468Z"
   },
   {
    "duration": 1752,
    "start_time": "2022-05-11T11:24:38.730Z"
   },
   {
    "duration": 28,
    "start_time": "2022-05-11T11:24:52.777Z"
   },
   {
    "duration": 30,
    "start_time": "2022-05-11T11:25:27.115Z"
   },
   {
    "duration": 26,
    "start_time": "2022-05-11T11:27:38.422Z"
   },
   {
    "duration": 29,
    "start_time": "2022-05-11T11:27:57.967Z"
   },
   {
    "duration": 26,
    "start_time": "2022-05-11T11:28:02.279Z"
   },
   {
    "duration": 26,
    "start_time": "2022-05-11T11:28:05.180Z"
   },
   {
    "duration": 31,
    "start_time": "2022-05-11T11:28:09.360Z"
   },
   {
    "duration": 26,
    "start_time": "2022-05-11T11:29:29.314Z"
   },
   {
    "duration": 27,
    "start_time": "2022-05-11T11:30:18.273Z"
   },
   {
    "duration": 13,
    "start_time": "2022-05-11T11:30:49.216Z"
   },
   {
    "duration": 13,
    "start_time": "2022-05-11T11:31:03.828Z"
   },
   {
    "duration": 13,
    "start_time": "2022-05-11T11:31:11.796Z"
   },
   {
    "duration": 1734,
    "start_time": "2022-05-11T11:31:22.437Z"
   },
   {
    "duration": 37,
    "start_time": "2022-05-11T11:31:24.173Z"
   },
   {
    "duration": 72,
    "start_time": "2022-05-11T11:31:24.211Z"
   },
   {
    "duration": 22,
    "start_time": "2022-05-11T11:31:24.286Z"
   },
   {
    "duration": 45,
    "start_time": "2022-05-11T11:31:24.310Z"
   },
   {
    "duration": 63,
    "start_time": "2022-05-11T11:31:24.357Z"
   },
   {
    "duration": 42,
    "start_time": "2022-05-11T11:31:24.422Z"
   },
   {
    "duration": 26,
    "start_time": "2022-05-11T11:31:24.466Z"
   },
   {
    "duration": 65,
    "start_time": "2022-05-11T11:31:24.494Z"
   },
   {
    "duration": 16,
    "start_time": "2022-05-11T11:31:24.563Z"
   },
   {
    "duration": 15,
    "start_time": "2022-05-11T11:31:24.581Z"
   },
   {
    "duration": 24,
    "start_time": "2022-05-11T11:31:24.598Z"
   },
   {
    "duration": 31,
    "start_time": "2022-05-11T11:31:24.624Z"
   },
   {
    "duration": 27,
    "start_time": "2022-05-11T11:31:24.658Z"
   },
   {
    "duration": 65,
    "start_time": "2022-05-11T11:31:24.687Z"
   },
   {
    "duration": 33,
    "start_time": "2022-05-11T11:31:24.754Z"
   },
   {
    "duration": 27,
    "start_time": "2022-05-11T11:31:24.789Z"
   },
   {
    "duration": 5,
    "start_time": "2022-05-11T11:31:24.818Z"
   },
   {
    "duration": 8,
    "start_time": "2022-05-11T11:31:24.825Z"
   },
   {
    "duration": 54,
    "start_time": "2022-05-11T11:31:24.855Z"
   },
   {
    "duration": 65,
    "start_time": "2022-05-11T11:31:24.911Z"
   },
   {
    "duration": 3,
    "start_time": "2022-05-11T11:31:24.978Z"
   },
   {
    "duration": 125,
    "start_time": "2022-05-11T11:31:24.983Z"
   },
   {
    "duration": 187,
    "start_time": "2022-05-11T11:31:25.110Z"
   },
   {
    "duration": 36,
    "start_time": "2022-05-11T11:31:25.299Z"
   },
   {
    "duration": 55,
    "start_time": "2022-05-11T11:31:25.337Z"
   },
   {
    "duration": 24,
    "start_time": "2022-05-11T11:31:25.394Z"
   },
   {
    "duration": 86,
    "start_time": "2022-05-11T11:31:25.423Z"
   },
   {
    "duration": 114,
    "start_time": "2022-05-11T11:31:25.511Z"
   },
   {
    "duration": 46,
    "start_time": "2022-05-11T11:31:25.626Z"
   },
   {
    "duration": 35,
    "start_time": "2022-05-11T11:31:25.674Z"
   },
   {
    "duration": 20,
    "start_time": "2022-05-11T11:31:25.711Z"
   },
   {
    "duration": 90,
    "start_time": "2022-05-11T11:31:25.732Z"
   },
   {
    "duration": 126,
    "start_time": "2022-05-11T11:31:25.823Z"
   },
   {
    "duration": 34,
    "start_time": "2022-05-11T11:31:25.954Z"
   },
   {
    "duration": 37,
    "start_time": "2022-05-11T11:31:25.990Z"
   },
   {
    "duration": 37,
    "start_time": "2022-05-11T11:31:26.029Z"
   },
   {
    "duration": 39,
    "start_time": "2022-05-11T11:31:26.068Z"
   },
   {
    "duration": 100,
    "start_time": "2022-05-11T11:31:26.109Z"
   },
   {
    "duration": 51,
    "start_time": "2022-05-11T11:31:26.211Z"
   },
   {
    "duration": 13,
    "start_time": "2022-05-11T11:31:26.264Z"
   },
   {
    "duration": 30,
    "start_time": "2022-05-11T11:31:26.279Z"
   },
   {
    "duration": 3,
    "start_time": "2022-05-11T11:31:26.311Z"
   },
   {
    "duration": 39,
    "start_time": "2022-05-11T11:31:26.316Z"
   },
   {
    "duration": 277,
    "start_time": "2022-05-11T11:31:26.357Z"
   },
   {
    "duration": 29,
    "start_time": "2022-05-11T11:31:26.636Z"
   },
   {
    "duration": 277,
    "start_time": "2022-05-11T11:31:26.666Z"
   },
   {
    "duration": 200,
    "start_time": "2022-05-11T11:31:26.945Z"
   },
   {
    "duration": 282,
    "start_time": "2022-05-11T11:31:27.147Z"
   },
   {
    "duration": 193,
    "start_time": "2022-05-11T11:31:27.431Z"
   },
   {
    "duration": 54,
    "start_time": "2022-05-11T11:31:27.626Z"
   },
   {
    "duration": 7,
    "start_time": "2022-05-11T11:31:27.682Z"
   },
   {
    "duration": 10,
    "start_time": "2022-05-11T11:31:27.691Z"
   },
   {
    "duration": 198,
    "start_time": "2022-05-11T11:31:27.702Z"
   },
   {
    "duration": 0,
    "start_time": "2022-05-11T11:31:27.902Z"
   },
   {
    "duration": 0,
    "start_time": "2022-05-11T11:31:27.904Z"
   },
   {
    "duration": 0,
    "start_time": "2022-05-11T11:31:27.905Z"
   },
   {
    "duration": 25,
    "start_time": "2022-05-11T11:31:57.061Z"
   },
   {
    "duration": 10,
    "start_time": "2022-05-11T11:32:23.601Z"
   },
   {
    "duration": 10,
    "start_time": "2022-05-11T11:33:00.784Z"
   },
   {
    "duration": 33,
    "start_time": "2022-05-11T11:33:27.463Z"
   },
   {
    "duration": 31,
    "start_time": "2022-05-11T11:33:34.572Z"
   },
   {
    "duration": 2058,
    "start_time": "2022-05-11T11:33:37.822Z"
   },
   {
    "duration": 33,
    "start_time": "2022-05-11T11:33:49.995Z"
   },
   {
    "duration": 34,
    "start_time": "2022-05-11T11:34:53.298Z"
   },
   {
    "duration": 34,
    "start_time": "2022-05-11T11:36:35.981Z"
   },
   {
    "duration": 1662,
    "start_time": "2022-05-11T11:36:57.304Z"
   },
   {
    "duration": 1900,
    "start_time": "2022-05-11T11:37:05.929Z"
   },
   {
    "duration": 30,
    "start_time": "2022-05-11T11:37:10.483Z"
   },
   {
    "duration": 29,
    "start_time": "2022-05-11T11:37:37.198Z"
   },
   {
    "duration": 112,
    "start_time": "2022-05-11T11:37:53.318Z"
   },
   {
    "duration": 32,
    "start_time": "2022-05-11T11:38:13.646Z"
   },
   {
    "duration": 14,
    "start_time": "2022-05-11T11:39:34.310Z"
   },
   {
    "duration": 191,
    "start_time": "2022-05-11T11:39:38.985Z"
   },
   {
    "duration": 176,
    "start_time": "2022-05-11T11:39:45.180Z"
   },
   {
    "duration": 199,
    "start_time": "2022-05-11T11:40:01.978Z"
   },
   {
    "duration": 248,
    "start_time": "2022-05-11T11:42:57.541Z"
   },
   {
    "duration": 275,
    "start_time": "2022-05-11T11:43:20.131Z"
   },
   {
    "duration": 183,
    "start_time": "2022-05-11T11:44:37.011Z"
   },
   {
    "duration": 367,
    "start_time": "2022-05-11T11:44:45.635Z"
   },
   {
    "duration": 199,
    "start_time": "2022-05-11T11:46:39.950Z"
   },
   {
    "duration": 517,
    "start_time": "2022-05-11T11:47:17.809Z"
   },
   {
    "duration": 250,
    "start_time": "2022-05-11T11:47:40.382Z"
   },
   {
    "duration": 275,
    "start_time": "2022-05-11T11:47:54.255Z"
   },
   {
    "duration": 274,
    "start_time": "2022-05-11T11:48:06.121Z"
   },
   {
    "duration": 248,
    "start_time": "2022-05-11T11:48:11.042Z"
   },
   {
    "duration": 380,
    "start_time": "2022-05-11T11:48:18.476Z"
   },
   {
    "duration": 259,
    "start_time": "2022-05-11T11:48:25.365Z"
   },
   {
    "duration": 259,
    "start_time": "2022-05-11T11:48:38.819Z"
   },
   {
    "duration": 253,
    "start_time": "2022-05-11T11:48:42.176Z"
   },
   {
    "duration": 244,
    "start_time": "2022-05-11T11:48:47.665Z"
   },
   {
    "duration": 255,
    "start_time": "2022-05-11T11:48:53.463Z"
   },
   {
    "duration": 387,
    "start_time": "2022-05-11T11:50:04.982Z"
   },
   {
    "duration": 245,
    "start_time": "2022-05-11T11:50:10.856Z"
   },
   {
    "duration": 242,
    "start_time": "2022-05-11T11:50:32.832Z"
   },
   {
    "duration": 381,
    "start_time": "2022-05-11T11:50:37.965Z"
   },
   {
    "duration": 250,
    "start_time": "2022-05-11T11:50:42.611Z"
   },
   {
    "duration": 448,
    "start_time": "2022-05-11T11:50:57.081Z"
   },
   {
    "duration": 251,
    "start_time": "2022-05-11T11:51:10.114Z"
   },
   {
    "duration": 256,
    "start_time": "2022-05-11T11:51:18.620Z"
   },
   {
    "duration": 22,
    "start_time": "2022-05-11T11:53:38.974Z"
   },
   {
    "duration": 292,
    "start_time": "2022-05-11T11:54:35.266Z"
   },
   {
    "duration": 282,
    "start_time": "2022-05-11T11:55:25.115Z"
   },
   {
    "duration": 115,
    "start_time": "2022-05-11T11:56:20.541Z"
   },
   {
    "duration": 429,
    "start_time": "2022-05-11T11:56:26.077Z"
   },
   {
    "duration": 424,
    "start_time": "2022-05-11T11:56:36.749Z"
   },
   {
    "duration": 347,
    "start_time": "2022-05-11T11:57:43.951Z"
   },
   {
    "duration": 208,
    "start_time": "2022-05-11T11:58:14.634Z"
   },
   {
    "duration": 125,
    "start_time": "2022-05-11T11:58:22.825Z"
   },
   {
    "duration": 378,
    "start_time": "2022-05-11T11:58:31.626Z"
   },
   {
    "duration": 269,
    "start_time": "2022-05-11T11:58:42.990Z"
   },
   {
    "duration": 255,
    "start_time": "2022-05-11T11:58:49.718Z"
   },
   {
    "duration": 390,
    "start_time": "2022-05-11T11:58:57.465Z"
   },
   {
    "duration": 378,
    "start_time": "2022-05-11T11:59:05.817Z"
   },
   {
    "duration": 266,
    "start_time": "2022-05-11T11:59:11.158Z"
   },
   {
    "duration": 386,
    "start_time": "2022-05-11T11:59:25.598Z"
   },
   {
    "duration": 245,
    "start_time": "2022-05-11T11:59:48.764Z"
   },
   {
    "duration": 388,
    "start_time": "2022-05-11T11:59:56.873Z"
   },
   {
    "duration": 256,
    "start_time": "2022-05-11T12:00:08.509Z"
   },
   {
    "duration": 273,
    "start_time": "2022-05-11T12:00:56.883Z"
   },
   {
    "duration": 280,
    "start_time": "2022-05-11T12:01:51.456Z"
   },
   {
    "duration": 397,
    "start_time": "2022-05-11T12:02:18.023Z"
   },
   {
    "duration": 269,
    "start_time": "2022-05-11T12:02:27.077Z"
   },
   {
    "duration": 5,
    "start_time": "2022-05-11T12:07:29.130Z"
   },
   {
    "duration": 12,
    "start_time": "2022-05-11T12:10:18.026Z"
   },
   {
    "duration": 43,
    "start_time": "2022-05-11T12:10:20.689Z"
   },
   {
    "duration": 1844,
    "start_time": "2022-05-11T12:10:40.718Z"
   },
   {
    "duration": 38,
    "start_time": "2022-05-11T12:10:42.564Z"
   },
   {
    "duration": 78,
    "start_time": "2022-05-11T12:10:42.604Z"
   },
   {
    "duration": 24,
    "start_time": "2022-05-11T12:10:42.684Z"
   },
   {
    "duration": 52,
    "start_time": "2022-05-11T12:10:42.710Z"
   },
   {
    "duration": 65,
    "start_time": "2022-05-11T12:10:42.763Z"
   },
   {
    "duration": 38,
    "start_time": "2022-05-11T12:10:42.829Z"
   },
   {
    "duration": 27,
    "start_time": "2022-05-11T12:10:42.868Z"
   },
   {
    "duration": 73,
    "start_time": "2022-05-11T12:10:42.897Z"
   },
   {
    "duration": 18,
    "start_time": "2022-05-11T12:10:42.973Z"
   },
   {
    "duration": 17,
    "start_time": "2022-05-11T12:10:42.993Z"
   },
   {
    "duration": 49,
    "start_time": "2022-05-11T12:10:43.012Z"
   },
   {
    "duration": 6,
    "start_time": "2022-05-11T12:10:43.062Z"
   },
   {
    "duration": 11,
    "start_time": "2022-05-11T12:10:43.069Z"
   },
   {
    "duration": 76,
    "start_time": "2022-05-11T12:10:43.082Z"
   },
   {
    "duration": 35,
    "start_time": "2022-05-11T12:10:43.160Z"
   },
   {
    "duration": 29,
    "start_time": "2022-05-11T12:10:43.197Z"
   },
   {
    "duration": 27,
    "start_time": "2022-05-11T12:10:43.228Z"
   },
   {
    "duration": 10,
    "start_time": "2022-05-11T12:10:43.257Z"
   },
   {
    "duration": 58,
    "start_time": "2022-05-11T12:10:43.268Z"
   },
   {
    "duration": 76,
    "start_time": "2022-05-11T12:10:43.328Z"
   },
   {
    "duration": 3,
    "start_time": "2022-05-11T12:10:43.406Z"
   },
   {
    "duration": 138,
    "start_time": "2022-05-11T12:10:43.411Z"
   },
   {
    "duration": 204,
    "start_time": "2022-05-11T12:10:43.555Z"
   },
   {
    "duration": 39,
    "start_time": "2022-05-11T12:10:43.761Z"
   },
   {
    "duration": 65,
    "start_time": "2022-05-11T12:10:43.802Z"
   },
   {
    "duration": 22,
    "start_time": "2022-05-11T12:10:43.869Z"
   },
   {
    "duration": 81,
    "start_time": "2022-05-11T12:10:43.895Z"
   },
   {
    "duration": 140,
    "start_time": "2022-05-11T12:10:43.977Z"
   },
   {
    "duration": 49,
    "start_time": "2022-05-11T12:10:44.119Z"
   },
   {
    "duration": 40,
    "start_time": "2022-05-11T12:10:44.169Z"
   },
   {
    "duration": 21,
    "start_time": "2022-05-11T12:10:44.210Z"
   },
   {
    "duration": 75,
    "start_time": "2022-05-11T12:10:44.255Z"
   },
   {
    "duration": 148,
    "start_time": "2022-05-11T12:10:44.332Z"
   },
   {
    "duration": 55,
    "start_time": "2022-05-11T12:10:44.482Z"
   },
   {
    "duration": 59,
    "start_time": "2022-05-11T12:10:44.555Z"
   },
   {
    "duration": 49,
    "start_time": "2022-05-11T12:10:44.616Z"
   },
   {
    "duration": 40,
    "start_time": "2022-05-11T12:10:44.667Z"
   },
   {
    "duration": 105,
    "start_time": "2022-05-11T12:10:44.709Z"
   },
   {
    "duration": 49,
    "start_time": "2022-05-11T12:10:44.816Z"
   },
   {
    "duration": 19,
    "start_time": "2022-05-11T12:10:44.867Z"
   },
   {
    "duration": 69,
    "start_time": "2022-05-11T12:10:44.888Z"
   },
   {
    "duration": 4,
    "start_time": "2022-05-11T12:10:44.959Z"
   },
   {
    "duration": 9,
    "start_time": "2022-05-11T12:10:44.965Z"
   },
   {
    "duration": 314,
    "start_time": "2022-05-11T12:10:44.976Z"
   },
   {
    "duration": 266,
    "start_time": "2022-05-11T12:10:45.292Z"
   },
   {
    "duration": 301,
    "start_time": "2022-05-11T12:10:45.560Z"
   },
   {
    "duration": 262,
    "start_time": "2022-05-11T12:10:45.863Z"
   },
   {
    "duration": 301,
    "start_time": "2022-05-11T12:10:46.127Z"
   },
   {
    "duration": 408,
    "start_time": "2022-05-11T12:10:46.430Z"
   },
   {
    "duration": 51,
    "start_time": "2022-05-11T12:10:46.840Z"
   },
   {
    "duration": 8,
    "start_time": "2022-05-11T12:10:46.892Z"
   },
   {
    "duration": 32,
    "start_time": "2022-05-11T12:10:46.901Z"
   },
   {
    "duration": 126,
    "start_time": "2022-05-11T12:10:46.935Z"
   },
   {
    "duration": 0,
    "start_time": "2022-05-11T12:10:47.063Z"
   },
   {
    "duration": 0,
    "start_time": "2022-05-11T12:10:47.065Z"
   },
   {
    "duration": 0,
    "start_time": "2022-05-11T12:10:47.066Z"
   },
   {
    "duration": 13,
    "start_time": "2022-05-11T12:10:59.592Z"
   },
   {
    "duration": 41,
    "start_time": "2022-05-11T12:11:02.646Z"
   },
   {
    "duration": 7,
    "start_time": "2022-05-11T12:11:08.616Z"
   },
   {
    "duration": 1715,
    "start_time": "2022-05-11T12:11:16.136Z"
   },
   {
    "duration": 40,
    "start_time": "2022-05-11T12:11:17.854Z"
   },
   {
    "duration": 85,
    "start_time": "2022-05-11T12:11:17.896Z"
   },
   {
    "duration": 25,
    "start_time": "2022-05-11T12:11:17.983Z"
   },
   {
    "duration": 48,
    "start_time": "2022-05-11T12:11:18.010Z"
   },
   {
    "duration": 67,
    "start_time": "2022-05-11T12:11:18.059Z"
   },
   {
    "duration": 40,
    "start_time": "2022-05-11T12:11:18.127Z"
   },
   {
    "duration": 26,
    "start_time": "2022-05-11T12:11:18.169Z"
   },
   {
    "duration": 74,
    "start_time": "2022-05-11T12:11:18.196Z"
   },
   {
    "duration": 19,
    "start_time": "2022-05-11T12:11:18.272Z"
   },
   {
    "duration": 16,
    "start_time": "2022-05-11T12:11:18.293Z"
   },
   {
    "duration": 45,
    "start_time": "2022-05-11T12:11:18.311Z"
   },
   {
    "duration": 8,
    "start_time": "2022-05-11T12:11:18.358Z"
   },
   {
    "duration": 13,
    "start_time": "2022-05-11T12:11:18.368Z"
   },
   {
    "duration": 114,
    "start_time": "2022-05-11T12:11:18.383Z"
   },
   {
    "duration": 69,
    "start_time": "2022-05-11T12:11:18.499Z"
   },
   {
    "duration": 41,
    "start_time": "2022-05-11T12:11:18.570Z"
   },
   {
    "duration": 8,
    "start_time": "2022-05-11T12:11:18.613Z"
   },
   {
    "duration": 33,
    "start_time": "2022-05-11T12:11:18.623Z"
   },
   {
    "duration": 70,
    "start_time": "2022-05-11T12:11:18.659Z"
   },
   {
    "duration": 71,
    "start_time": "2022-05-11T12:11:18.730Z"
   },
   {
    "duration": 3,
    "start_time": "2022-05-11T12:11:18.803Z"
   },
   {
    "duration": 141,
    "start_time": "2022-05-11T12:11:18.808Z"
   },
   {
    "duration": 213,
    "start_time": "2022-05-11T12:11:18.953Z"
   },
   {
    "duration": 42,
    "start_time": "2022-05-11T12:11:19.168Z"
   },
   {
    "duration": 62,
    "start_time": "2022-05-11T12:11:19.212Z"
   },
   {
    "duration": 23,
    "start_time": "2022-05-11T12:11:19.276Z"
   },
   {
    "duration": 84,
    "start_time": "2022-05-11T12:11:19.304Z"
   },
   {
    "duration": 123,
    "start_time": "2022-05-11T12:11:19.390Z"
   },
   {
    "duration": 56,
    "start_time": "2022-05-11T12:11:19.515Z"
   },
   {
    "duration": 39,
    "start_time": "2022-05-11T12:11:19.572Z"
   },
   {
    "duration": 42,
    "start_time": "2022-05-11T12:11:19.613Z"
   },
   {
    "duration": 79,
    "start_time": "2022-05-11T12:11:19.657Z"
   },
   {
    "duration": 144,
    "start_time": "2022-05-11T12:11:19.738Z"
   },
   {
    "duration": 41,
    "start_time": "2022-05-11T12:11:19.884Z"
   },
   {
    "duration": 68,
    "start_time": "2022-05-11T12:11:19.926Z"
   },
   {
    "duration": 35,
    "start_time": "2022-05-11T12:11:19.997Z"
   },
   {
    "duration": 59,
    "start_time": "2022-05-11T12:11:20.034Z"
   },
   {
    "duration": 191,
    "start_time": "2022-05-11T12:11:20.094Z"
   },
   {
    "duration": 45,
    "start_time": "2022-05-11T12:11:20.287Z"
   },
   {
    "duration": 35,
    "start_time": "2022-05-11T12:11:20.334Z"
   },
   {
    "duration": 34,
    "start_time": "2022-05-11T12:11:20.371Z"
   },
   {
    "duration": 20,
    "start_time": "2022-05-11T12:11:20.407Z"
   },
   {
    "duration": 28,
    "start_time": "2022-05-11T12:11:20.429Z"
   },
   {
    "duration": 314,
    "start_time": "2022-05-11T12:11:20.458Z"
   },
   {
    "duration": 283,
    "start_time": "2022-05-11T12:11:20.773Z"
   },
   {
    "duration": 286,
    "start_time": "2022-05-11T12:11:21.058Z"
   },
   {
    "duration": 255,
    "start_time": "2022-05-11T12:11:21.354Z"
   },
   {
    "duration": 331,
    "start_time": "2022-05-11T12:11:21.610Z"
   },
   {
    "duration": 373,
    "start_time": "2022-05-11T12:11:21.943Z"
   },
   {
    "duration": 61,
    "start_time": "2022-05-11T12:11:22.318Z"
   },
   {
    "duration": 8,
    "start_time": "2022-05-11T12:11:22.381Z"
   },
   {
    "duration": 56,
    "start_time": "2022-05-11T12:11:22.390Z"
   },
   {
    "duration": 116,
    "start_time": "2022-05-11T12:11:22.448Z"
   },
   {
    "duration": 0,
    "start_time": "2022-05-11T12:11:22.566Z"
   },
   {
    "duration": 0,
    "start_time": "2022-05-11T12:11:22.567Z"
   },
   {
    "duration": 0,
    "start_time": "2022-05-11T12:11:22.569Z"
   },
   {
    "duration": 1669,
    "start_time": "2022-05-11T12:11:53.800Z"
   },
   {
    "duration": 40,
    "start_time": "2022-05-11T12:11:55.472Z"
   },
   {
    "duration": 74,
    "start_time": "2022-05-11T12:11:55.513Z"
   },
   {
    "duration": 25,
    "start_time": "2022-05-11T12:11:55.590Z"
   },
   {
    "duration": 52,
    "start_time": "2022-05-11T12:11:55.617Z"
   },
   {
    "duration": 66,
    "start_time": "2022-05-11T12:11:55.671Z"
   },
   {
    "duration": 33,
    "start_time": "2022-05-11T12:11:55.739Z"
   },
   {
    "duration": 26,
    "start_time": "2022-05-11T12:11:55.774Z"
   },
   {
    "duration": 77,
    "start_time": "2022-05-11T12:11:55.802Z"
   },
   {
    "duration": 18,
    "start_time": "2022-05-11T12:11:55.882Z"
   },
   {
    "duration": 18,
    "start_time": "2022-05-11T12:11:55.901Z"
   },
   {
    "duration": 48,
    "start_time": "2022-05-11T12:11:55.920Z"
   },
   {
    "duration": 7,
    "start_time": "2022-05-11T12:11:55.969Z"
   },
   {
    "duration": 16,
    "start_time": "2022-05-11T12:11:55.978Z"
   },
   {
    "duration": 85,
    "start_time": "2022-05-11T12:11:55.996Z"
   },
   {
    "duration": 36,
    "start_time": "2022-05-11T12:11:56.083Z"
   },
   {
    "duration": 51,
    "start_time": "2022-05-11T12:11:56.121Z"
   },
   {
    "duration": 6,
    "start_time": "2022-05-11T12:11:56.173Z"
   },
   {
    "duration": 9,
    "start_time": "2022-05-11T12:11:56.181Z"
   },
   {
    "duration": 79,
    "start_time": "2022-05-11T12:11:56.192Z"
   },
   {
    "duration": 56,
    "start_time": "2022-05-11T12:11:56.273Z"
   },
   {
    "duration": 4,
    "start_time": "2022-05-11T12:11:56.331Z"
   },
   {
    "duration": 150,
    "start_time": "2022-05-11T12:11:56.336Z"
   },
   {
    "duration": 210,
    "start_time": "2022-05-11T12:11:56.488Z"
   },
   {
    "duration": 53,
    "start_time": "2022-05-11T12:11:56.700Z"
   },
   {
    "duration": 44,
    "start_time": "2022-05-11T12:11:56.756Z"
   },
   {
    "duration": 22,
    "start_time": "2022-05-11T12:11:56.802Z"
   },
   {
    "duration": 90,
    "start_time": "2022-05-11T12:11:56.828Z"
   },
   {
    "duration": 127,
    "start_time": "2022-05-11T12:11:56.920Z"
   },
   {
    "duration": 45,
    "start_time": "2022-05-11T12:11:57.049Z"
   },
   {
    "duration": 62,
    "start_time": "2022-05-11T12:11:57.096Z"
   },
   {
    "duration": 22,
    "start_time": "2022-05-11T12:11:57.160Z"
   },
   {
    "duration": 93,
    "start_time": "2022-05-11T12:11:57.184Z"
   },
   {
    "duration": 136,
    "start_time": "2022-05-11T12:11:57.278Z"
   },
   {
    "duration": 51,
    "start_time": "2022-05-11T12:11:57.416Z"
   },
   {
    "duration": 45,
    "start_time": "2022-05-11T12:11:57.469Z"
   },
   {
    "duration": 53,
    "start_time": "2022-05-11T12:11:57.515Z"
   },
   {
    "duration": 40,
    "start_time": "2022-05-11T12:11:57.570Z"
   },
   {
    "duration": 108,
    "start_time": "2022-05-11T12:11:57.612Z"
   },
   {
    "duration": 55,
    "start_time": "2022-05-11T12:11:57.722Z"
   },
   {
    "duration": 17,
    "start_time": "2022-05-11T12:11:57.779Z"
   },
   {
    "duration": 60,
    "start_time": "2022-05-11T12:11:57.797Z"
   },
   {
    "duration": 4,
    "start_time": "2022-05-11T12:11:57.859Z"
   },
   {
    "duration": 12,
    "start_time": "2022-05-11T12:11:57.864Z"
   },
   {
    "duration": 309,
    "start_time": "2022-05-11T12:11:57.878Z"
   },
   {
    "duration": 268,
    "start_time": "2022-05-11T12:11:58.189Z"
   },
   {
    "duration": 298,
    "start_time": "2022-05-11T12:11:58.458Z"
   },
   {
    "duration": 265,
    "start_time": "2022-05-11T12:11:58.758Z"
   },
   {
    "duration": 296,
    "start_time": "2022-05-11T12:11:59.024Z"
   },
   {
    "duration": 366,
    "start_time": "2022-05-11T12:11:59.322Z"
   },
   {
    "duration": 45,
    "start_time": "2022-05-11T12:11:59.690Z"
   },
   {
    "duration": 20,
    "start_time": "2022-05-11T12:11:59.736Z"
   },
   {
    "duration": 15,
    "start_time": "2022-05-11T12:11:59.758Z"
   },
   {
    "duration": 30,
    "start_time": "2022-05-11T12:11:59.775Z"
   },
   {
    "duration": 109,
    "start_time": "2022-05-11T12:11:59.807Z"
   },
   {
    "duration": 0,
    "start_time": "2022-05-11T12:11:59.918Z"
   },
   {
    "duration": 0,
    "start_time": "2022-05-11T12:11:59.919Z"
   },
   {
    "duration": 42,
    "start_time": "2022-05-11T12:12:22.979Z"
   },
   {
    "duration": 17,
    "start_time": "2022-05-11T12:13:04.502Z"
   },
   {
    "duration": 38,
    "start_time": "2022-05-11T12:13:14.169Z"
   },
   {
    "duration": 1962,
    "start_time": "2022-05-11T12:13:23.587Z"
   },
   {
    "duration": 39,
    "start_time": "2022-05-11T12:13:25.551Z"
   },
   {
    "duration": 83,
    "start_time": "2022-05-11T12:13:25.592Z"
   },
   {
    "duration": 24,
    "start_time": "2022-05-11T12:13:25.677Z"
   },
   {
    "duration": 52,
    "start_time": "2022-05-11T12:13:25.703Z"
   },
   {
    "duration": 66,
    "start_time": "2022-05-11T12:13:25.757Z"
   },
   {
    "duration": 38,
    "start_time": "2022-05-11T12:13:25.824Z"
   },
   {
    "duration": 27,
    "start_time": "2022-05-11T12:13:25.864Z"
   },
   {
    "duration": 76,
    "start_time": "2022-05-11T12:13:25.893Z"
   },
   {
    "duration": 22,
    "start_time": "2022-05-11T12:13:25.971Z"
   },
   {
    "duration": 27,
    "start_time": "2022-05-11T12:13:25.995Z"
   },
   {
    "duration": 40,
    "start_time": "2022-05-11T12:13:26.024Z"
   },
   {
    "duration": 22,
    "start_time": "2022-05-11T12:13:26.066Z"
   },
   {
    "duration": 26,
    "start_time": "2022-05-11T12:13:26.092Z"
   },
   {
    "duration": 78,
    "start_time": "2022-05-11T12:13:26.120Z"
   },
   {
    "duration": 36,
    "start_time": "2022-05-11T12:13:26.200Z"
   },
   {
    "duration": 38,
    "start_time": "2022-05-11T12:13:26.238Z"
   },
   {
    "duration": 6,
    "start_time": "2022-05-11T12:13:26.278Z"
   },
   {
    "duration": 28,
    "start_time": "2022-05-11T12:13:26.285Z"
   },
   {
    "duration": 81,
    "start_time": "2022-05-11T12:13:26.315Z"
   },
   {
    "duration": 56,
    "start_time": "2022-05-11T12:13:26.398Z"
   },
   {
    "duration": 4,
    "start_time": "2022-05-11T12:13:26.455Z"
   },
   {
    "duration": 150,
    "start_time": "2022-05-11T12:13:26.461Z"
   },
   {
    "duration": 195,
    "start_time": "2022-05-11T12:13:26.613Z"
   },
   {
    "duration": 52,
    "start_time": "2022-05-11T12:13:26.809Z"
   },
   {
    "duration": 55,
    "start_time": "2022-05-11T12:13:26.863Z"
   },
   {
    "duration": 28,
    "start_time": "2022-05-11T12:13:26.920Z"
   },
   {
    "duration": 79,
    "start_time": "2022-05-11T12:13:26.951Z"
   },
   {
    "duration": 127,
    "start_time": "2022-05-11T12:13:27.032Z"
   },
   {
    "duration": 38,
    "start_time": "2022-05-11T12:13:27.162Z"
   },
   {
    "duration": 53,
    "start_time": "2022-05-11T12:13:27.202Z"
   },
   {
    "duration": 38,
    "start_time": "2022-05-11T12:13:27.257Z"
   },
   {
    "duration": 96,
    "start_time": "2022-05-11T12:13:27.296Z"
   },
   {
    "duration": 180,
    "start_time": "2022-05-11T12:13:27.393Z"
   },
   {
    "duration": 39,
    "start_time": "2022-05-11T12:13:27.575Z"
   },
   {
    "duration": 58,
    "start_time": "2022-05-11T12:13:27.616Z"
   },
   {
    "duration": 21,
    "start_time": "2022-05-11T12:13:27.676Z"
   },
   {
    "duration": 67,
    "start_time": "2022-05-11T12:13:27.699Z"
   },
   {
    "duration": 93,
    "start_time": "2022-05-11T12:13:27.768Z"
   },
   {
    "duration": 41,
    "start_time": "2022-05-11T12:13:27.863Z"
   },
   {
    "duration": 15,
    "start_time": "2022-05-11T12:13:27.907Z"
   },
   {
    "duration": 61,
    "start_time": "2022-05-11T12:13:27.924Z"
   },
   {
    "duration": 24,
    "start_time": "2022-05-11T12:13:27.987Z"
   },
   {
    "duration": 19,
    "start_time": "2022-05-11T12:13:28.013Z"
   },
   {
    "duration": 310,
    "start_time": "2022-05-11T12:13:28.034Z"
   },
   {
    "duration": 274,
    "start_time": "2022-05-11T12:13:28.346Z"
   },
   {
    "duration": 393,
    "start_time": "2022-05-11T12:13:28.621Z"
   },
   {
    "duration": 260,
    "start_time": "2022-05-11T12:13:29.015Z"
   },
   {
    "duration": 415,
    "start_time": "2022-05-11T12:13:29.276Z"
   },
   {
    "duration": 527,
    "start_time": "2022-05-11T12:13:29.694Z"
   },
   {
    "duration": 75,
    "start_time": "2022-05-11T12:13:30.224Z"
   },
   {
    "duration": 9,
    "start_time": "2022-05-11T12:13:30.301Z"
   },
   {
    "duration": 31,
    "start_time": "2022-05-11T12:13:30.312Z"
   },
   {
    "duration": 135,
    "start_time": "2022-05-11T12:13:30.345Z"
   },
   {
    "duration": 0,
    "start_time": "2022-05-11T12:13:30.482Z"
   },
   {
    "duration": 0,
    "start_time": "2022-05-11T12:13:30.484Z"
   },
   {
    "duration": 0,
    "start_time": "2022-05-11T12:13:30.486Z"
   },
   {
    "duration": 32,
    "start_time": "2022-05-11T12:13:38.217Z"
   },
   {
    "duration": 2237,
    "start_time": "2022-05-11T12:16:30.234Z"
   },
   {
    "duration": 40,
    "start_time": "2022-05-11T12:16:32.474Z"
   },
   {
    "duration": 83,
    "start_time": "2022-05-11T12:16:32.515Z"
   },
   {
    "duration": 26,
    "start_time": "2022-05-11T12:16:32.600Z"
   },
   {
    "duration": 56,
    "start_time": "2022-05-11T12:16:32.629Z"
   },
   {
    "duration": 79,
    "start_time": "2022-05-11T12:16:32.687Z"
   },
   {
    "duration": 22,
    "start_time": "2022-05-11T12:16:32.769Z"
   },
   {
    "duration": 26,
    "start_time": "2022-05-11T12:16:32.792Z"
   },
   {
    "duration": 75,
    "start_time": "2022-05-11T12:16:32.820Z"
   },
   {
    "duration": 17,
    "start_time": "2022-05-11T12:16:32.897Z"
   },
   {
    "duration": 40,
    "start_time": "2022-05-11T12:16:32.916Z"
   },
   {
    "duration": 38,
    "start_time": "2022-05-11T12:16:32.958Z"
   },
   {
    "duration": 22,
    "start_time": "2022-05-11T12:16:32.997Z"
   },
   {
    "duration": 30,
    "start_time": "2022-05-11T12:16:33.023Z"
   },
   {
    "duration": 96,
    "start_time": "2022-05-11T12:16:33.056Z"
   },
   {
    "duration": 35,
    "start_time": "2022-05-11T12:16:33.154Z"
   },
   {
    "duration": 27,
    "start_time": "2022-05-11T12:16:33.191Z"
   },
   {
    "duration": 5,
    "start_time": "2022-05-11T12:16:33.221Z"
   },
   {
    "duration": 28,
    "start_time": "2022-05-11T12:16:33.228Z"
   },
   {
    "duration": 70,
    "start_time": "2022-05-11T12:16:33.258Z"
   },
   {
    "duration": 57,
    "start_time": "2022-05-11T12:16:33.330Z"
   },
   {
    "duration": 4,
    "start_time": "2022-05-11T12:16:33.389Z"
   },
   {
    "duration": 144,
    "start_time": "2022-05-11T12:16:33.395Z"
   },
   {
    "duration": 199,
    "start_time": "2022-05-11T12:16:33.541Z"
   },
   {
    "duration": 47,
    "start_time": "2022-05-11T12:16:33.741Z"
   },
   {
    "duration": 51,
    "start_time": "2022-05-11T12:16:33.790Z"
   },
   {
    "duration": 35,
    "start_time": "2022-05-11T12:16:33.843Z"
   },
   {
    "duration": 70,
    "start_time": "2022-05-11T12:16:33.879Z"
   },
   {
    "duration": 116,
    "start_time": "2022-05-11T12:16:33.951Z"
   },
   {
    "duration": 53,
    "start_time": "2022-05-11T12:16:34.068Z"
   },
   {
    "duration": 75,
    "start_time": "2022-05-11T12:16:34.124Z"
   },
   {
    "duration": 24,
    "start_time": "2022-05-11T12:16:34.201Z"
   },
   {
    "duration": 95,
    "start_time": "2022-05-11T12:16:34.227Z"
   },
   {
    "duration": 143,
    "start_time": "2022-05-11T12:16:34.324Z"
   },
   {
    "duration": 38,
    "start_time": "2022-05-11T12:16:34.469Z"
   },
   {
    "duration": 58,
    "start_time": "2022-05-11T12:16:34.509Z"
   },
   {
    "duration": 30,
    "start_time": "2022-05-11T12:16:34.569Z"
   },
   {
    "duration": 55,
    "start_time": "2022-05-11T12:16:34.600Z"
   },
   {
    "duration": 83,
    "start_time": "2022-05-11T12:16:34.656Z"
   },
   {
    "duration": 53,
    "start_time": "2022-05-11T12:16:34.740Z"
   },
   {
    "duration": 16,
    "start_time": "2022-05-11T12:16:34.797Z"
   },
   {
    "duration": 66,
    "start_time": "2022-05-11T12:16:34.815Z"
   },
   {
    "duration": 13,
    "start_time": "2022-05-11T12:16:34.883Z"
   },
   {
    "duration": 26,
    "start_time": "2022-05-11T12:16:34.898Z"
   },
   {
    "duration": 306,
    "start_time": "2022-05-11T12:16:34.926Z"
   },
   {
    "duration": 263,
    "start_time": "2022-05-11T12:16:35.234Z"
   },
   {
    "duration": 291,
    "start_time": "2022-05-11T12:16:35.499Z"
   },
   {
    "duration": 276,
    "start_time": "2022-05-11T12:16:35.792Z"
   },
   {
    "duration": 301,
    "start_time": "2022-05-11T12:16:36.071Z"
   },
   {
    "duration": 366,
    "start_time": "2022-05-11T12:16:36.374Z"
   },
   {
    "duration": 55,
    "start_time": "2022-05-11T12:16:36.742Z"
   },
   {
    "duration": 8,
    "start_time": "2022-05-11T12:16:36.799Z"
   },
   {
    "duration": 12,
    "start_time": "2022-05-11T12:16:36.809Z"
   },
   {
    "duration": 53,
    "start_time": "2022-05-11T12:16:36.823Z"
   },
   {
    "duration": 2114,
    "start_time": "2022-05-11T12:16:36.878Z"
   },
   {
    "duration": 0,
    "start_time": "2022-05-11T12:16:38.994Z"
   },
   {
    "duration": 0,
    "start_time": "2022-05-11T12:16:38.995Z"
   },
   {
    "duration": 31,
    "start_time": "2022-05-11T12:16:53.466Z"
   },
   {
    "duration": 1725,
    "start_time": "2022-05-11T12:17:00.452Z"
   },
   {
    "duration": 42,
    "start_time": "2022-05-11T12:17:02.180Z"
   },
   {
    "duration": 89,
    "start_time": "2022-05-11T12:17:02.224Z"
   },
   {
    "duration": 47,
    "start_time": "2022-05-11T12:17:02.317Z"
   },
   {
    "duration": 76,
    "start_time": "2022-05-11T12:17:02.366Z"
   },
   {
    "duration": 84,
    "start_time": "2022-05-11T12:17:02.444Z"
   },
   {
    "duration": 20,
    "start_time": "2022-05-11T12:17:02.529Z"
   },
   {
    "duration": 28,
    "start_time": "2022-05-11T12:17:02.555Z"
   },
   {
    "duration": 85,
    "start_time": "2022-05-11T12:17:02.585Z"
   },
   {
    "duration": 18,
    "start_time": "2022-05-11T12:17:02.673Z"
   },
   {
    "duration": 32,
    "start_time": "2022-05-11T12:17:02.693Z"
   },
   {
    "duration": 59,
    "start_time": "2022-05-11T12:17:02.727Z"
   },
   {
    "duration": 36,
    "start_time": "2022-05-11T12:17:02.788Z"
   },
   {
    "duration": 60,
    "start_time": "2022-05-11T12:17:02.827Z"
   },
   {
    "duration": 81,
    "start_time": "2022-05-11T12:17:02.888Z"
   },
   {
    "duration": 36,
    "start_time": "2022-05-11T12:17:02.971Z"
   },
   {
    "duration": 55,
    "start_time": "2022-05-11T12:17:03.009Z"
   },
   {
    "duration": 12,
    "start_time": "2022-05-11T12:17:03.066Z"
   },
   {
    "duration": 81,
    "start_time": "2022-05-11T12:17:03.079Z"
   },
   {
    "duration": 79,
    "start_time": "2022-05-11T12:17:03.162Z"
   },
   {
    "duration": 60,
    "start_time": "2022-05-11T12:17:03.243Z"
   },
   {
    "duration": 3,
    "start_time": "2022-05-11T12:17:03.305Z"
   },
   {
    "duration": 149,
    "start_time": "2022-05-11T12:17:03.310Z"
   },
   {
    "duration": 203,
    "start_time": "2022-05-11T12:17:03.461Z"
   },
   {
    "duration": 42,
    "start_time": "2022-05-11T12:17:03.666Z"
   },
   {
    "duration": 66,
    "start_time": "2022-05-11T12:17:03.710Z"
   },
   {
    "duration": 22,
    "start_time": "2022-05-11T12:17:03.778Z"
   },
   {
    "duration": 85,
    "start_time": "2022-05-11T12:17:03.803Z"
   },
   {
    "duration": 124,
    "start_time": "2022-05-11T12:17:03.890Z"
   },
   {
    "duration": 54,
    "start_time": "2022-05-11T12:17:04.016Z"
   },
   {
    "duration": 41,
    "start_time": "2022-05-11T12:17:04.072Z"
   },
   {
    "duration": 29,
    "start_time": "2022-05-11T12:17:04.115Z"
   },
   {
    "duration": 82,
    "start_time": "2022-05-11T12:17:04.146Z"
   },
   {
    "duration": 144,
    "start_time": "2022-05-11T12:17:04.230Z"
   },
   {
    "duration": 37,
    "start_time": "2022-05-11T12:17:04.376Z"
   },
   {
    "duration": 59,
    "start_time": "2022-05-11T12:17:04.415Z"
   },
   {
    "duration": 31,
    "start_time": "2022-05-11T12:17:04.476Z"
   },
   {
    "duration": 61,
    "start_time": "2022-05-11T12:17:04.510Z"
   },
   {
    "duration": 96,
    "start_time": "2022-05-11T12:17:04.573Z"
   },
   {
    "duration": 41,
    "start_time": "2022-05-11T12:17:04.671Z"
   },
   {
    "duration": 47,
    "start_time": "2022-05-11T12:17:04.714Z"
   },
   {
    "duration": 34,
    "start_time": "2022-05-11T12:17:04.763Z"
   },
   {
    "duration": 3,
    "start_time": "2022-05-11T12:17:04.799Z"
   },
   {
    "duration": 14,
    "start_time": "2022-05-11T12:17:04.804Z"
   },
   {
    "duration": 323,
    "start_time": "2022-05-11T12:17:04.820Z"
   },
   {
    "duration": 270,
    "start_time": "2022-05-11T12:17:05.145Z"
   },
   {
    "duration": 293,
    "start_time": "2022-05-11T12:17:05.416Z"
   },
   {
    "duration": 272,
    "start_time": "2022-05-11T12:17:05.711Z"
   },
   {
    "duration": 407,
    "start_time": "2022-05-11T12:17:05.984Z"
   },
   {
    "duration": 448,
    "start_time": "2022-05-11T12:17:06.393Z"
   },
   {
    "duration": 72,
    "start_time": "2022-05-11T12:17:06.843Z"
   },
   {
    "duration": 10,
    "start_time": "2022-05-11T12:17:06.917Z"
   },
   {
    "duration": 26,
    "start_time": "2022-05-11T12:17:06.930Z"
   },
   {
    "duration": 181,
    "start_time": "2022-05-11T12:17:06.959Z"
   },
   {
    "duration": 0,
    "start_time": "2022-05-11T12:17:07.142Z"
   },
   {
    "duration": 0,
    "start_time": "2022-05-11T12:17:07.143Z"
   },
   {
    "duration": 0,
    "start_time": "2022-05-11T12:17:07.145Z"
   },
   {
    "duration": 33,
    "start_time": "2022-05-11T12:17:16.610Z"
   },
   {
    "duration": 20,
    "start_time": "2022-05-11T12:19:58.055Z"
   },
   {
    "duration": 34,
    "start_time": "2022-05-11T12:20:01.919Z"
   },
   {
    "duration": 25,
    "start_time": "2022-05-11T12:20:39.623Z"
   },
   {
    "duration": 42,
    "start_time": "2022-05-11T12:20:50.352Z"
   },
   {
    "duration": 26,
    "start_time": "2022-05-11T12:21:02.617Z"
   },
   {
    "duration": 61,
    "start_time": "2022-05-11T12:21:07.140Z"
   },
   {
    "duration": 26,
    "start_time": "2022-05-11T12:31:37.633Z"
   },
   {
    "duration": 39,
    "start_time": "2022-05-11T12:31:38.932Z"
   },
   {
    "duration": 53,
    "start_time": "2022-05-11T12:31:48.277Z"
   },
   {
    "duration": 7,
    "start_time": "2022-05-11T12:32:08.584Z"
   },
   {
    "duration": 5,
    "start_time": "2022-05-11T12:32:12.340Z"
   },
   {
    "duration": 5,
    "start_time": "2022-05-11T12:32:35.391Z"
   },
   {
    "duration": 1627,
    "start_time": "2022-05-11T12:34:30.205Z"
   },
   {
    "duration": 38,
    "start_time": "2022-05-11T12:34:31.834Z"
   },
   {
    "duration": 68,
    "start_time": "2022-05-11T12:34:31.874Z"
   },
   {
    "duration": 33,
    "start_time": "2022-05-11T12:34:31.944Z"
   },
   {
    "duration": 28,
    "start_time": "2022-05-11T12:34:31.979Z"
   },
   {
    "duration": 84,
    "start_time": "2022-05-11T12:34:32.009Z"
   },
   {
    "duration": 19,
    "start_time": "2022-05-11T12:34:32.094Z"
   },
   {
    "duration": 52,
    "start_time": "2022-05-11T12:34:32.115Z"
   },
   {
    "duration": 45,
    "start_time": "2022-05-11T12:34:32.169Z"
   },
   {
    "duration": 41,
    "start_time": "2022-05-11T12:34:32.216Z"
   },
   {
    "duration": 18,
    "start_time": "2022-05-11T12:34:32.258Z"
   },
   {
    "duration": 19,
    "start_time": "2022-05-11T12:34:32.277Z"
   },
   {
    "duration": 6,
    "start_time": "2022-05-11T12:34:32.298Z"
   },
   {
    "duration": 9,
    "start_time": "2022-05-11T12:34:32.307Z"
   },
   {
    "duration": 96,
    "start_time": "2022-05-11T12:34:32.318Z"
   },
   {
    "duration": 53,
    "start_time": "2022-05-11T12:34:32.416Z"
   },
   {
    "duration": 30,
    "start_time": "2022-05-11T12:34:32.471Z"
   },
   {
    "duration": 5,
    "start_time": "2022-05-11T12:34:32.504Z"
   },
   {
    "duration": 15,
    "start_time": "2022-05-11T12:34:32.511Z"
   },
   {
    "duration": 73,
    "start_time": "2022-05-11T12:34:32.528Z"
   },
   {
    "duration": 60,
    "start_time": "2022-05-11T12:34:32.603Z"
   },
   {
    "duration": 4,
    "start_time": "2022-05-11T12:34:32.664Z"
   },
   {
    "duration": 136,
    "start_time": "2022-05-11T12:34:32.670Z"
   },
   {
    "duration": 193,
    "start_time": "2022-05-11T12:34:32.809Z"
   },
   {
    "duration": 52,
    "start_time": "2022-05-11T12:34:33.004Z"
   },
   {
    "duration": 41,
    "start_time": "2022-05-11T12:34:33.058Z"
   },
   {
    "duration": 22,
    "start_time": "2022-05-11T12:34:33.101Z"
   },
   {
    "duration": 91,
    "start_time": "2022-05-11T12:34:33.124Z"
   },
   {
    "duration": 121,
    "start_time": "2022-05-11T12:34:33.217Z"
   },
   {
    "duration": 44,
    "start_time": "2022-05-11T12:34:33.340Z"
   },
   {
    "duration": 37,
    "start_time": "2022-05-11T12:34:33.386Z"
   },
   {
    "duration": 42,
    "start_time": "2022-05-11T12:34:33.425Z"
   },
   {
    "duration": 77,
    "start_time": "2022-05-11T12:34:33.469Z"
   },
   {
    "duration": 133,
    "start_time": "2022-05-11T12:34:33.548Z"
   },
   {
    "duration": 37,
    "start_time": "2022-05-11T12:34:33.683Z"
   },
   {
    "duration": 57,
    "start_time": "2022-05-11T12:34:33.722Z"
   },
   {
    "duration": 21,
    "start_time": "2022-05-11T12:34:33.781Z"
   },
   {
    "duration": 58,
    "start_time": "2022-05-11T12:34:33.804Z"
   },
   {
    "duration": 99,
    "start_time": "2022-05-11T12:34:33.864Z"
   },
   {
    "duration": 38,
    "start_time": "2022-05-11T12:34:33.965Z"
   },
   {
    "duration": 14,
    "start_time": "2022-05-11T12:34:34.007Z"
   },
   {
    "duration": 60,
    "start_time": "2022-05-11T12:34:34.023Z"
   },
   {
    "duration": 3,
    "start_time": "2022-05-11T12:34:34.085Z"
   },
   {
    "duration": 8,
    "start_time": "2022-05-11T12:34:34.090Z"
   },
   {
    "duration": 296,
    "start_time": "2022-05-11T12:34:34.100Z"
   },
   {
    "duration": 268,
    "start_time": "2022-05-11T12:34:34.397Z"
   },
   {
    "duration": 289,
    "start_time": "2022-05-11T12:34:34.667Z"
   },
   {
    "duration": 257,
    "start_time": "2022-05-11T12:34:34.958Z"
   },
   {
    "duration": 298,
    "start_time": "2022-05-11T12:34:35.218Z"
   },
   {
    "duration": 366,
    "start_time": "2022-05-11T12:34:35.519Z"
   },
   {
    "duration": 46,
    "start_time": "2022-05-11T12:34:35.887Z"
   },
   {
    "duration": 7,
    "start_time": "2022-05-11T12:34:35.954Z"
   },
   {
    "duration": 12,
    "start_time": "2022-05-11T12:34:35.963Z"
   },
   {
    "duration": 119,
    "start_time": "2022-05-11T12:34:35.976Z"
   },
   {
    "duration": 0,
    "start_time": "2022-05-11T12:34:36.097Z"
   },
   {
    "duration": 0,
    "start_time": "2022-05-11T12:34:36.099Z"
   },
   {
    "duration": 0,
    "start_time": "2022-05-11T12:34:36.099Z"
   },
   {
    "duration": 28,
    "start_time": "2022-05-11T12:34:41.682Z"
   },
   {
    "duration": 38,
    "start_time": "2022-05-11T12:34:46.167Z"
   },
   {
    "duration": 8,
    "start_time": "2022-05-11T12:34:48.195Z"
   },
   {
    "duration": 6,
    "start_time": "2022-05-11T12:34:49.743Z"
   },
   {
    "duration": 264,
    "start_time": "2022-05-11T12:39:06.320Z"
   },
   {
    "duration": 253,
    "start_time": "2022-05-11T12:39:12.963Z"
   },
   {
    "duration": 1645,
    "start_time": "2022-05-11T12:41:32.708Z"
   },
   {
    "duration": 42,
    "start_time": "2022-05-11T12:41:34.355Z"
   },
   {
    "duration": 90,
    "start_time": "2022-05-11T12:41:34.398Z"
   },
   {
    "duration": 26,
    "start_time": "2022-05-11T12:41:34.489Z"
   },
   {
    "duration": 48,
    "start_time": "2022-05-11T12:41:34.517Z"
   },
   {
    "duration": 66,
    "start_time": "2022-05-11T12:41:34.566Z"
   },
   {
    "duration": 37,
    "start_time": "2022-05-11T12:41:34.634Z"
   },
   {
    "duration": 26,
    "start_time": "2022-05-11T12:41:34.673Z"
   },
   {
    "duration": 71,
    "start_time": "2022-05-11T12:41:34.700Z"
   },
   {
    "duration": 19,
    "start_time": "2022-05-11T12:41:34.773Z"
   },
   {
    "duration": 19,
    "start_time": "2022-05-11T12:41:34.794Z"
   },
   {
    "duration": 55,
    "start_time": "2022-05-11T12:41:34.815Z"
   },
   {
    "duration": 7,
    "start_time": "2022-05-11T12:41:34.872Z"
   },
   {
    "duration": 8,
    "start_time": "2022-05-11T12:41:34.883Z"
   },
   {
    "duration": 93,
    "start_time": "2022-05-11T12:41:34.893Z"
   },
   {
    "duration": 41,
    "start_time": "2022-05-11T12:41:34.988Z"
   },
   {
    "duration": 50,
    "start_time": "2022-05-11T12:41:35.031Z"
   },
   {
    "duration": 6,
    "start_time": "2022-05-11T12:41:35.083Z"
   },
   {
    "duration": 12,
    "start_time": "2022-05-11T12:41:35.091Z"
   },
   {
    "duration": 80,
    "start_time": "2022-05-11T12:41:35.105Z"
   },
   {
    "duration": 57,
    "start_time": "2022-05-11T12:41:35.187Z"
   },
   {
    "duration": 4,
    "start_time": "2022-05-11T12:41:35.254Z"
   },
   {
    "duration": 133,
    "start_time": "2022-05-11T12:41:35.259Z"
   },
   {
    "duration": 208,
    "start_time": "2022-05-11T12:41:35.394Z"
   },
   {
    "duration": 38,
    "start_time": "2022-05-11T12:41:35.604Z"
   },
   {
    "duration": 41,
    "start_time": "2022-05-11T12:41:35.654Z"
   },
   {
    "duration": 32,
    "start_time": "2022-05-11T12:41:35.697Z"
   },
   {
    "duration": 79,
    "start_time": "2022-05-11T12:41:35.731Z"
   },
   {
    "duration": 126,
    "start_time": "2022-05-11T12:41:35.812Z"
   },
   {
    "duration": 48,
    "start_time": "2022-05-11T12:41:35.940Z"
   },
   {
    "duration": 40,
    "start_time": "2022-05-11T12:41:35.990Z"
   },
   {
    "duration": 43,
    "start_time": "2022-05-11T12:41:36.032Z"
   },
   {
    "duration": 87,
    "start_time": "2022-05-11T12:41:36.076Z"
   },
   {
    "duration": 138,
    "start_time": "2022-05-11T12:41:36.165Z"
   },
   {
    "duration": 37,
    "start_time": "2022-05-11T12:41:36.305Z"
   },
   {
    "duration": 44,
    "start_time": "2022-05-11T12:41:36.355Z"
   },
   {
    "duration": 22,
    "start_time": "2022-05-11T12:41:36.401Z"
   },
   {
    "duration": 68,
    "start_time": "2022-05-11T12:41:36.424Z"
   },
   {
    "duration": 109,
    "start_time": "2022-05-11T12:41:36.494Z"
   },
   {
    "duration": 62,
    "start_time": "2022-05-11T12:41:36.605Z"
   },
   {
    "duration": 17,
    "start_time": "2022-05-11T12:41:36.671Z"
   },
   {
    "duration": 64,
    "start_time": "2022-05-11T12:41:36.690Z"
   },
   {
    "duration": 4,
    "start_time": "2022-05-11T12:41:36.756Z"
   },
   {
    "duration": 23,
    "start_time": "2022-05-11T12:41:36.762Z"
   },
   {
    "duration": 317,
    "start_time": "2022-05-11T12:41:36.787Z"
   },
   {
    "duration": 289,
    "start_time": "2022-05-11T12:41:37.106Z"
   },
   {
    "duration": 296,
    "start_time": "2022-05-11T12:41:37.398Z"
   },
   {
    "duration": 276,
    "start_time": "2022-05-11T12:41:37.696Z"
   },
   {
    "duration": 333,
    "start_time": "2022-05-11T12:41:37.974Z"
   },
   {
    "duration": 384,
    "start_time": "2022-05-11T12:41:38.310Z"
   },
   {
    "duration": 59,
    "start_time": "2022-05-11T12:41:38.696Z"
   },
   {
    "duration": 8,
    "start_time": "2022-05-11T12:41:38.757Z"
   },
   {
    "duration": 11,
    "start_time": "2022-05-11T12:41:38.766Z"
   },
   {
    "duration": 133,
    "start_time": "2022-05-11T12:41:38.779Z"
   },
   {
    "duration": 0,
    "start_time": "2022-05-11T12:41:38.913Z"
   },
   {
    "duration": 0,
    "start_time": "2022-05-11T12:41:38.915Z"
   },
   {
    "duration": 0,
    "start_time": "2022-05-11T12:41:38.916Z"
   },
   {
    "duration": 29,
    "start_time": "2022-05-11T12:41:54.714Z"
   },
   {
    "duration": 39,
    "start_time": "2022-05-11T12:41:57.828Z"
   },
   {
    "duration": 7,
    "start_time": "2022-05-11T12:41:59.781Z"
   },
   {
    "duration": 5,
    "start_time": "2022-05-11T12:42:01.301Z"
   },
   {
    "duration": 2574,
    "start_time": "2022-05-12T06:54:40.406Z"
   },
   {
    "duration": 47,
    "start_time": "2022-05-12T06:54:42.983Z"
   },
   {
    "duration": 96,
    "start_time": "2022-05-12T06:54:43.033Z"
   },
   {
    "duration": 44,
    "start_time": "2022-05-12T06:54:43.132Z"
   },
   {
    "duration": 38,
    "start_time": "2022-05-12T06:54:43.178Z"
   },
   {
    "duration": 107,
    "start_time": "2022-05-12T06:54:43.218Z"
   },
   {
    "duration": 43,
    "start_time": "2022-05-12T06:54:43.327Z"
   },
   {
    "duration": 32,
    "start_time": "2022-05-12T06:54:43.372Z"
   },
   {
    "duration": 88,
    "start_time": "2022-05-12T06:54:43.407Z"
   },
   {
    "duration": 23,
    "start_time": "2022-05-12T06:54:43.501Z"
   },
   {
    "duration": 24,
    "start_time": "2022-05-12T06:54:43.551Z"
   },
   {
    "duration": 36,
    "start_time": "2022-05-12T06:54:43.577Z"
   },
   {
    "duration": 37,
    "start_time": "2022-05-12T06:54:43.616Z"
   },
   {
    "duration": 13,
    "start_time": "2022-05-12T06:54:43.656Z"
   },
   {
    "duration": 120,
    "start_time": "2022-05-12T06:54:43.671Z"
   },
   {
    "duration": 43,
    "start_time": "2022-05-12T06:54:43.794Z"
   },
   {
    "duration": 35,
    "start_time": "2022-05-12T06:54:43.853Z"
   },
   {
    "duration": 7,
    "start_time": "2022-05-12T06:54:43.890Z"
   },
   {
    "duration": 16,
    "start_time": "2022-05-12T06:54:43.899Z"
   },
   {
    "duration": 102,
    "start_time": "2022-05-12T06:54:43.917Z"
   },
   {
    "duration": 81,
    "start_time": "2022-05-12T06:54:44.021Z"
   },
   {
    "duration": 4,
    "start_time": "2022-05-12T06:54:44.104Z"
   },
   {
    "duration": 176,
    "start_time": "2022-05-12T06:54:44.109Z"
   },
   {
    "duration": 243,
    "start_time": "2022-05-12T06:54:44.287Z"
   },
   {
    "duration": 69,
    "start_time": "2022-05-12T06:54:44.532Z"
   },
   {
    "duration": 94,
    "start_time": "2022-05-12T06:54:44.603Z"
   },
   {
    "duration": 52,
    "start_time": "2022-05-12T06:54:44.700Z"
   },
   {
    "duration": 105,
    "start_time": "2022-05-12T06:54:44.757Z"
   },
   {
    "duration": 151,
    "start_time": "2022-05-12T06:54:44.865Z"
   },
   {
    "duration": 69,
    "start_time": "2022-05-12T06:54:45.018Z"
   },
   {
    "duration": 75,
    "start_time": "2022-05-12T06:54:45.089Z"
   },
   {
    "duration": 31,
    "start_time": "2022-05-12T06:54:45.167Z"
   },
   {
    "duration": 139,
    "start_time": "2022-05-12T06:54:45.201Z"
   },
   {
    "duration": 161,
    "start_time": "2022-05-12T06:54:45.351Z"
   },
   {
    "duration": 72,
    "start_time": "2022-05-12T06:54:45.515Z"
   },
   {
    "duration": 75,
    "start_time": "2022-05-12T06:54:45.589Z"
   },
   {
    "duration": 31,
    "start_time": "2022-05-12T06:54:45.666Z"
   },
   {
    "duration": 96,
    "start_time": "2022-05-12T06:54:45.699Z"
   },
   {
    "duration": 139,
    "start_time": "2022-05-12T06:54:45.797Z"
   },
   {
    "duration": 69,
    "start_time": "2022-05-12T06:54:45.938Z"
   },
   {
    "duration": 56,
    "start_time": "2022-05-12T06:54:46.009Z"
   },
   {
    "duration": 47,
    "start_time": "2022-05-12T06:54:46.068Z"
   },
   {
    "duration": 37,
    "start_time": "2022-05-12T06:54:46.117Z"
   },
   {
    "duration": 11,
    "start_time": "2022-05-12T06:54:46.156Z"
   },
   {
    "duration": 656,
    "start_time": "2022-05-12T06:54:46.170Z"
   },
   {
    "duration": 566,
    "start_time": "2022-05-12T06:54:46.829Z"
   },
   {
    "duration": 644,
    "start_time": "2022-05-12T06:54:47.397Z"
   },
   {
    "duration": 414,
    "start_time": "2022-05-12T06:54:48.044Z"
   },
   {
    "duration": 570,
    "start_time": "2022-05-12T06:54:48.460Z"
   },
   {
    "duration": 606,
    "start_time": "2022-05-12T06:54:49.033Z"
   },
   {
    "duration": 74,
    "start_time": "2022-05-12T06:54:49.641Z"
   },
   {
    "duration": 11,
    "start_time": "2022-05-12T06:54:49.717Z"
   },
   {
    "duration": 9,
    "start_time": "2022-05-12T06:54:49.753Z"
   },
   {
    "duration": 193,
    "start_time": "2022-05-12T06:54:49.764Z"
   },
   {
    "duration": 0,
    "start_time": "2022-05-12T06:54:49.960Z"
   },
   {
    "duration": 0,
    "start_time": "2022-05-12T06:54:49.961Z"
   },
   {
    "duration": 0,
    "start_time": "2022-05-12T06:54:49.963Z"
   },
   {
    "duration": 43,
    "start_time": "2022-05-12T06:55:10.132Z"
   },
   {
    "duration": 7,
    "start_time": "2022-05-12T06:56:05.630Z"
   },
   {
    "duration": 28,
    "start_time": "2022-05-12T06:56:09.759Z"
   },
   {
    "duration": 6,
    "start_time": "2022-05-12T06:56:14.286Z"
   },
   {
    "duration": 34,
    "start_time": "2022-05-12T06:56:22.170Z"
   },
   {
    "duration": 37,
    "start_time": "2022-05-12T06:56:24.925Z"
   },
   {
    "duration": 54,
    "start_time": "2022-05-12T06:56:27.061Z"
   },
   {
    "duration": 36,
    "start_time": "2022-05-12T06:56:28.730Z"
   },
   {
    "duration": 5,
    "start_time": "2022-05-12T06:56:29.390Z"
   },
   {
    "duration": 58,
    "start_time": "2022-05-12T06:56:32.682Z"
   },
   {
    "duration": 48,
    "start_time": "2022-05-14T08:48:50.555Z"
   },
   {
    "duration": 1478,
    "start_time": "2022-05-14T08:48:54.878Z"
   },
   {
    "duration": 36,
    "start_time": "2022-05-14T08:48:56.358Z"
   },
   {
    "duration": 63,
    "start_time": "2022-05-14T08:48:56.396Z"
   },
   {
    "duration": 35,
    "start_time": "2022-05-14T08:48:56.461Z"
   },
   {
    "duration": 28,
    "start_time": "2022-05-14T08:48:56.498Z"
   },
   {
    "duration": 75,
    "start_time": "2022-05-14T08:48:56.528Z"
   },
   {
    "duration": 17,
    "start_time": "2022-05-14T08:48:56.604Z"
   },
   {
    "duration": 24,
    "start_time": "2022-05-14T08:48:56.622Z"
   },
   {
    "duration": 66,
    "start_time": "2022-05-14T08:48:56.648Z"
   },
   {
    "duration": 15,
    "start_time": "2022-05-14T08:48:56.717Z"
   },
   {
    "duration": 15,
    "start_time": "2022-05-14T08:48:56.733Z"
   },
   {
    "duration": 37,
    "start_time": "2022-05-14T08:48:56.750Z"
   },
   {
    "duration": 6,
    "start_time": "2022-05-14T08:48:56.789Z"
   },
   {
    "duration": 9,
    "start_time": "2022-05-14T08:48:56.796Z"
   },
   {
    "duration": 62,
    "start_time": "2022-05-14T08:48:56.806Z"
   },
   {
    "duration": 45,
    "start_time": "2022-05-14T08:48:56.869Z"
   },
   {
    "duration": 23,
    "start_time": "2022-05-14T08:48:56.916Z"
   },
   {
    "duration": 5,
    "start_time": "2022-05-14T08:48:56.940Z"
   },
   {
    "duration": 12,
    "start_time": "2022-05-14T08:48:56.947Z"
   },
   {
    "duration": 70,
    "start_time": "2022-05-14T08:48:56.960Z"
   },
   {
    "duration": 60,
    "start_time": "2022-05-14T08:48:57.032Z"
   },
   {
    "duration": 4,
    "start_time": "2022-05-14T08:48:57.093Z"
   },
   {
    "duration": 126,
    "start_time": "2022-05-14T08:48:57.098Z"
   },
   {
    "duration": 189,
    "start_time": "2022-05-14T08:48:57.226Z"
   },
   {
    "duration": 37,
    "start_time": "2022-05-14T08:48:57.416Z"
   },
   {
    "duration": 56,
    "start_time": "2022-05-14T08:48:57.454Z"
   },
   {
    "duration": 19,
    "start_time": "2022-05-14T08:48:57.512Z"
   },
   {
    "duration": 73,
    "start_time": "2022-05-14T08:48:57.535Z"
   },
   {
    "duration": 108,
    "start_time": "2022-05-14T08:48:57.610Z"
   },
   {
    "duration": 36,
    "start_time": "2022-05-14T08:48:57.720Z"
   },
   {
    "duration": 58,
    "start_time": "2022-05-14T08:48:57.758Z"
   },
   {
    "duration": 19,
    "start_time": "2022-05-14T08:48:57.818Z"
   },
   {
    "duration": 82,
    "start_time": "2022-05-14T08:48:57.838Z"
   },
   {
    "duration": 125,
    "start_time": "2022-05-14T08:48:57.921Z"
   },
   {
    "duration": 42,
    "start_time": "2022-05-14T08:48:58.047Z"
   },
   {
    "duration": 39,
    "start_time": "2022-05-14T08:48:58.091Z"
   },
   {
    "duration": 20,
    "start_time": "2022-05-14T08:48:58.132Z"
   },
   {
    "duration": 62,
    "start_time": "2022-05-14T08:48:58.154Z"
   },
   {
    "duration": 91,
    "start_time": "2022-05-14T08:48:58.217Z"
   },
   {
    "duration": 38,
    "start_time": "2022-05-14T08:48:58.310Z"
   },
   {
    "duration": 42,
    "start_time": "2022-05-14T08:48:58.349Z"
   },
   {
    "duration": 31,
    "start_time": "2022-05-14T08:48:58.392Z"
   },
   {
    "duration": 3,
    "start_time": "2022-05-14T08:48:58.425Z"
   },
   {
    "duration": 8,
    "start_time": "2022-05-14T08:48:58.429Z"
   },
   {
    "duration": 289,
    "start_time": "2022-05-14T08:48:58.439Z"
   },
   {
    "duration": 248,
    "start_time": "2022-05-14T08:48:58.730Z"
   },
   {
    "duration": 262,
    "start_time": "2022-05-14T08:48:58.980Z"
   },
   {
    "duration": 241,
    "start_time": "2022-05-14T08:48:59.244Z"
   },
   {
    "duration": 273,
    "start_time": "2022-05-14T08:48:59.487Z"
   },
   {
    "duration": 347,
    "start_time": "2022-05-14T08:48:59.761Z"
   },
   {
    "duration": 44,
    "start_time": "2022-05-14T08:49:00.109Z"
   },
   {
    "duration": 37,
    "start_time": "2022-05-14T08:49:00.154Z"
   },
   {
    "duration": 15,
    "start_time": "2022-05-14T08:49:00.194Z"
   },
   {
    "duration": 70,
    "start_time": "2022-05-14T08:49:00.211Z"
   },
   {
    "duration": 0,
    "start_time": "2022-05-14T08:49:00.282Z"
   },
   {
    "duration": 0,
    "start_time": "2022-05-14T08:49:00.288Z"
   },
   {
    "duration": 0,
    "start_time": "2022-05-14T08:49:00.290Z"
   },
   {
    "duration": 27,
    "start_time": "2022-05-14T08:49:07.558Z"
   },
   {
    "duration": 24,
    "start_time": "2022-05-14T08:49:43.501Z"
   },
   {
    "duration": 7,
    "start_time": "2022-05-14T08:50:18.252Z"
   },
   {
    "duration": 6,
    "start_time": "2022-05-14T08:50:20.757Z"
   },
   {
    "duration": 1921,
    "start_time": "2022-12-07T21:46:44.175Z"
   },
   {
    "duration": 39,
    "start_time": "2022-12-07T21:46:46.098Z"
   },
   {
    "duration": 70,
    "start_time": "2022-12-07T21:46:46.139Z"
   },
   {
    "duration": 45,
    "start_time": "2022-12-07T21:46:46.210Z"
   },
   {
    "duration": 29,
    "start_time": "2022-12-07T21:46:46.258Z"
   },
   {
    "duration": 86,
    "start_time": "2022-12-07T21:46:46.289Z"
   },
   {
    "duration": 19,
    "start_time": "2022-12-07T21:46:46.378Z"
   },
   {
    "duration": 45,
    "start_time": "2022-12-07T21:46:46.399Z"
   },
   {
    "duration": 47,
    "start_time": "2022-12-07T21:46:46.446Z"
   },
   {
    "duration": 40,
    "start_time": "2022-12-07T21:46:46.495Z"
   },
   {
    "duration": 18,
    "start_time": "2022-12-07T21:46:46.537Z"
   },
   {
    "duration": 34,
    "start_time": "2022-12-07T21:46:46.557Z"
   },
   {
    "duration": 15,
    "start_time": "2022-12-07T21:46:46.593Z"
   },
   {
    "duration": 15,
    "start_time": "2022-12-07T21:46:46.612Z"
   },
   {
    "duration": 69,
    "start_time": "2022-12-07T21:46:46.628Z"
   },
   {
    "duration": 51,
    "start_time": "2022-12-07T21:46:46.699Z"
   },
   {
    "duration": 31,
    "start_time": "2022-12-07T21:46:46.752Z"
   },
   {
    "duration": 6,
    "start_time": "2022-12-07T21:46:46.785Z"
   },
   {
    "duration": 14,
    "start_time": "2022-12-07T21:46:46.793Z"
   },
   {
    "duration": 87,
    "start_time": "2022-12-07T21:46:46.808Z"
   },
   {
    "duration": 59,
    "start_time": "2022-12-07T21:46:46.897Z"
   },
   {
    "duration": 3,
    "start_time": "2022-12-07T21:46:46.957Z"
   },
   {
    "duration": 131,
    "start_time": "2022-12-07T21:46:46.962Z"
   },
   {
    "duration": 198,
    "start_time": "2022-12-07T21:46:47.096Z"
   },
   {
    "duration": 46,
    "start_time": "2022-12-07T21:46:47.296Z"
   },
   {
    "duration": 41,
    "start_time": "2022-12-07T21:46:47.343Z"
   },
   {
    "duration": 20,
    "start_time": "2022-12-07T21:46:47.386Z"
   },
   {
    "duration": 83,
    "start_time": "2022-12-07T21:46:47.408Z"
   },
   {
    "duration": 114,
    "start_time": "2022-12-07T21:46:47.493Z"
   },
   {
    "duration": 53,
    "start_time": "2022-12-07T21:46:47.609Z"
   },
   {
    "duration": 41,
    "start_time": "2022-12-07T21:46:47.664Z"
   },
   {
    "duration": 41,
    "start_time": "2022-12-07T21:46:47.706Z"
   },
   {
    "duration": 69,
    "start_time": "2022-12-07T21:46:47.749Z"
   },
   {
    "duration": 146,
    "start_time": "2022-12-07T21:46:47.820Z"
   },
   {
    "duration": 39,
    "start_time": "2022-12-07T21:46:47.968Z"
   },
   {
    "duration": 60,
    "start_time": "2022-12-07T21:46:48.010Z"
   },
   {
    "duration": 21,
    "start_time": "2022-12-07T21:46:48.072Z"
   },
   {
    "duration": 59,
    "start_time": "2022-12-07T21:46:48.095Z"
   },
   {
    "duration": 103,
    "start_time": "2022-12-07T21:46:48.156Z"
   },
   {
    "duration": 41,
    "start_time": "2022-12-07T21:46:48.261Z"
   },
   {
    "duration": 41,
    "start_time": "2022-12-07T21:46:48.306Z"
   },
   {
    "duration": 31,
    "start_time": "2022-12-07T21:46:48.349Z"
   },
   {
    "duration": 4,
    "start_time": "2022-12-07T21:46:48.382Z"
   },
   {
    "duration": 14,
    "start_time": "2022-12-07T21:46:48.388Z"
   },
   {
    "duration": 309,
    "start_time": "2022-12-07T21:46:48.404Z"
   },
   {
    "duration": 281,
    "start_time": "2022-12-07T21:46:48.715Z"
   },
   {
    "duration": 319,
    "start_time": "2022-12-07T21:46:48.998Z"
   },
   {
    "duration": 269,
    "start_time": "2022-12-07T21:46:49.318Z"
   },
   {
    "duration": 318,
    "start_time": "2022-12-07T21:46:49.589Z"
   },
   {
    "duration": 362,
    "start_time": "2022-12-07T21:46:49.909Z"
   },
   {
    "duration": 46,
    "start_time": "2022-12-07T21:46:50.272Z"
   },
   {
    "duration": 7,
    "start_time": "2022-12-07T21:46:50.335Z"
   },
   {
    "duration": 16,
    "start_time": "2022-12-07T21:46:50.343Z"
   },
   {
    "duration": 110,
    "start_time": "2022-12-07T21:46:50.361Z"
   },
   {
    "duration": 0,
    "start_time": "2022-12-07T21:46:50.472Z"
   },
   {
    "duration": 0,
    "start_time": "2022-12-07T21:46:50.474Z"
   },
   {
    "duration": 0,
    "start_time": "2022-12-07T21:46:50.475Z"
   },
   {
    "duration": 30,
    "start_time": "2022-12-07T21:47:01.135Z"
   },
   {
    "duration": 41,
    "start_time": "2022-12-07T21:47:20.135Z"
   },
   {
    "duration": 9,
    "start_time": "2022-12-07T21:47:22.485Z"
   },
   {
    "duration": 5,
    "start_time": "2022-12-07T21:47:24.720Z"
   }
  ],
  "kernelspec": {
   "display_name": "Python 3 (ipykernel)",
   "language": "python",
   "name": "python3"
  },
  "language_info": {
   "codemirror_mode": {
    "name": "ipython",
    "version": 3
   },
   "file_extension": ".py",
   "mimetype": "text/x-python",
   "name": "python",
   "nbconvert_exporter": "python",
   "pygments_lexer": "ipython3",
   "version": "3.9.7"
  },
  "toc": {
   "base_numbering": 1,
   "nav_menu": {},
   "number_sections": true,
   "sideBar": true,
   "skip_h1_title": true,
   "title_cell": "Table of Contents",
   "title_sidebar": "Contents",
   "toc_cell": false,
   "toc_position": {
    "height": "calc(100% - 180px)",
    "left": "10px",
    "top": "150px",
    "width": "266.438px"
   },
   "toc_section_display": true,
   "toc_window_display": true
  }
 },
 "nbformat": 4,
 "nbformat_minor": 2
}
