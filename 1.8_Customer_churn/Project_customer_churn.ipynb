{
 "cells": [
  {
   "cell_type": "markdown",
   "metadata": {},
   "source": [
    "## Подготовка данных"
   ]
  },
  {
   "cell_type": "markdown",
   "metadata": {},
   "source": [
    "### Предобработка данных"
   ]
  },
  {
   "cell_type": "markdown",
   "metadata": {},
   "source": [
    "Импортируем необходимые библиотеки:"
   ]
  },
  {
   "cell_type": "code",
   "execution_count": 1,
   "metadata": {},
   "outputs": [],
   "source": [
    "import pandas as pd\n",
    "import sklearn.metrics as sklm\n",
    "import matplotlib.pyplot as plt\n",
    "from sklearn.preprocessing import StandardScaler\n",
    "from sklearn.model_selection import train_test_split\n",
    "from sklearn.tree import DecisionTreeClassifier\n",
    "from sklearn.linear_model import LogisticRegression\n",
    "from sklearn.ensemble import RandomForestClassifier\n",
    "from sklearn.utils import shuffle"
   ]
  },
  {
   "cell_type": "markdown",
   "metadata": {},
   "source": [
    "Откроем файл и выведем первые 10 строк:"
   ]
  },
  {
   "cell_type": "code",
   "execution_count": 2,
   "metadata": {},
   "outputs": [
    {
     "data": {
      "text/html": [
       "<div>\n",
       "<style scoped>\n",
       "    .dataframe tbody tr th:only-of-type {\n",
       "        vertical-align: middle;\n",
       "    }\n",
       "\n",
       "    .dataframe tbody tr th {\n",
       "        vertical-align: top;\n",
       "    }\n",
       "\n",
       "    .dataframe thead th {\n",
       "        text-align: right;\n",
       "    }\n",
       "</style>\n",
       "<table border=\"1\" class=\"dataframe\">\n",
       "  <thead>\n",
       "    <tr style=\"text-align: right;\">\n",
       "      <th></th>\n",
       "      <th>RowNumber</th>\n",
       "      <th>CustomerId</th>\n",
       "      <th>Surname</th>\n",
       "      <th>CreditScore</th>\n",
       "      <th>Geography</th>\n",
       "      <th>Gender</th>\n",
       "      <th>Age</th>\n",
       "      <th>Tenure</th>\n",
       "      <th>Balance</th>\n",
       "      <th>NumOfProducts</th>\n",
       "      <th>HasCrCard</th>\n",
       "      <th>IsActiveMember</th>\n",
       "      <th>EstimatedSalary</th>\n",
       "      <th>Exited</th>\n",
       "    </tr>\n",
       "  </thead>\n",
       "  <tbody>\n",
       "    <tr>\n",
       "      <th>0</th>\n",
       "      <td>1</td>\n",
       "      <td>15634602</td>\n",
       "      <td>Hargrave</td>\n",
       "      <td>619</td>\n",
       "      <td>France</td>\n",
       "      <td>Female</td>\n",
       "      <td>42</td>\n",
       "      <td>2.0</td>\n",
       "      <td>0.00</td>\n",
       "      <td>1</td>\n",
       "      <td>1</td>\n",
       "      <td>1</td>\n",
       "      <td>101348.88</td>\n",
       "      <td>1</td>\n",
       "    </tr>\n",
       "    <tr>\n",
       "      <th>1</th>\n",
       "      <td>2</td>\n",
       "      <td>15647311</td>\n",
       "      <td>Hill</td>\n",
       "      <td>608</td>\n",
       "      <td>Spain</td>\n",
       "      <td>Female</td>\n",
       "      <td>41</td>\n",
       "      <td>1.0</td>\n",
       "      <td>83807.86</td>\n",
       "      <td>1</td>\n",
       "      <td>0</td>\n",
       "      <td>1</td>\n",
       "      <td>112542.58</td>\n",
       "      <td>0</td>\n",
       "    </tr>\n",
       "    <tr>\n",
       "      <th>2</th>\n",
       "      <td>3</td>\n",
       "      <td>15619304</td>\n",
       "      <td>Onio</td>\n",
       "      <td>502</td>\n",
       "      <td>France</td>\n",
       "      <td>Female</td>\n",
       "      <td>42</td>\n",
       "      <td>8.0</td>\n",
       "      <td>159660.80</td>\n",
       "      <td>3</td>\n",
       "      <td>1</td>\n",
       "      <td>0</td>\n",
       "      <td>113931.57</td>\n",
       "      <td>1</td>\n",
       "    </tr>\n",
       "    <tr>\n",
       "      <th>3</th>\n",
       "      <td>4</td>\n",
       "      <td>15701354</td>\n",
       "      <td>Boni</td>\n",
       "      <td>699</td>\n",
       "      <td>France</td>\n",
       "      <td>Female</td>\n",
       "      <td>39</td>\n",
       "      <td>1.0</td>\n",
       "      <td>0.00</td>\n",
       "      <td>2</td>\n",
       "      <td>0</td>\n",
       "      <td>0</td>\n",
       "      <td>93826.63</td>\n",
       "      <td>0</td>\n",
       "    </tr>\n",
       "    <tr>\n",
       "      <th>4</th>\n",
       "      <td>5</td>\n",
       "      <td>15737888</td>\n",
       "      <td>Mitchell</td>\n",
       "      <td>850</td>\n",
       "      <td>Spain</td>\n",
       "      <td>Female</td>\n",
       "      <td>43</td>\n",
       "      <td>2.0</td>\n",
       "      <td>125510.82</td>\n",
       "      <td>1</td>\n",
       "      <td>1</td>\n",
       "      <td>1</td>\n",
       "      <td>79084.10</td>\n",
       "      <td>0</td>\n",
       "    </tr>\n",
       "    <tr>\n",
       "      <th>5</th>\n",
       "      <td>6</td>\n",
       "      <td>15574012</td>\n",
       "      <td>Chu</td>\n",
       "      <td>645</td>\n",
       "      <td>Spain</td>\n",
       "      <td>Male</td>\n",
       "      <td>44</td>\n",
       "      <td>8.0</td>\n",
       "      <td>113755.78</td>\n",
       "      <td>2</td>\n",
       "      <td>1</td>\n",
       "      <td>0</td>\n",
       "      <td>149756.71</td>\n",
       "      <td>1</td>\n",
       "    </tr>\n",
       "    <tr>\n",
       "      <th>6</th>\n",
       "      <td>7</td>\n",
       "      <td>15592531</td>\n",
       "      <td>Bartlett</td>\n",
       "      <td>822</td>\n",
       "      <td>France</td>\n",
       "      <td>Male</td>\n",
       "      <td>50</td>\n",
       "      <td>7.0</td>\n",
       "      <td>0.00</td>\n",
       "      <td>2</td>\n",
       "      <td>1</td>\n",
       "      <td>1</td>\n",
       "      <td>10062.80</td>\n",
       "      <td>0</td>\n",
       "    </tr>\n",
       "    <tr>\n",
       "      <th>7</th>\n",
       "      <td>8</td>\n",
       "      <td>15656148</td>\n",
       "      <td>Obinna</td>\n",
       "      <td>376</td>\n",
       "      <td>Germany</td>\n",
       "      <td>Female</td>\n",
       "      <td>29</td>\n",
       "      <td>4.0</td>\n",
       "      <td>115046.74</td>\n",
       "      <td>4</td>\n",
       "      <td>1</td>\n",
       "      <td>0</td>\n",
       "      <td>119346.88</td>\n",
       "      <td>1</td>\n",
       "    </tr>\n",
       "    <tr>\n",
       "      <th>8</th>\n",
       "      <td>9</td>\n",
       "      <td>15792365</td>\n",
       "      <td>He</td>\n",
       "      <td>501</td>\n",
       "      <td>France</td>\n",
       "      <td>Male</td>\n",
       "      <td>44</td>\n",
       "      <td>4.0</td>\n",
       "      <td>142051.07</td>\n",
       "      <td>2</td>\n",
       "      <td>0</td>\n",
       "      <td>1</td>\n",
       "      <td>74940.50</td>\n",
       "      <td>0</td>\n",
       "    </tr>\n",
       "    <tr>\n",
       "      <th>9</th>\n",
       "      <td>10</td>\n",
       "      <td>15592389</td>\n",
       "      <td>H?</td>\n",
       "      <td>684</td>\n",
       "      <td>France</td>\n",
       "      <td>Male</td>\n",
       "      <td>27</td>\n",
       "      <td>2.0</td>\n",
       "      <td>134603.88</td>\n",
       "      <td>1</td>\n",
       "      <td>1</td>\n",
       "      <td>1</td>\n",
       "      <td>71725.73</td>\n",
       "      <td>0</td>\n",
       "    </tr>\n",
       "  </tbody>\n",
       "</table>\n",
       "</div>"
      ],
      "text/plain": [
       "   RowNumber  CustomerId   Surname  CreditScore Geography  Gender  Age  \\\n",
       "0          1    15634602  Hargrave          619    France  Female   42   \n",
       "1          2    15647311      Hill          608     Spain  Female   41   \n",
       "2          3    15619304      Onio          502    France  Female   42   \n",
       "3          4    15701354      Boni          699    France  Female   39   \n",
       "4          5    15737888  Mitchell          850     Spain  Female   43   \n",
       "5          6    15574012       Chu          645     Spain    Male   44   \n",
       "6          7    15592531  Bartlett          822    France    Male   50   \n",
       "7          8    15656148    Obinna          376   Germany  Female   29   \n",
       "8          9    15792365        He          501    France    Male   44   \n",
       "9         10    15592389        H?          684    France    Male   27   \n",
       "\n",
       "   Tenure    Balance  NumOfProducts  HasCrCard  IsActiveMember  \\\n",
       "0     2.0       0.00              1          1               1   \n",
       "1     1.0   83807.86              1          0               1   \n",
       "2     8.0  159660.80              3          1               0   \n",
       "3     1.0       0.00              2          0               0   \n",
       "4     2.0  125510.82              1          1               1   \n",
       "5     8.0  113755.78              2          1               0   \n",
       "6     7.0       0.00              2          1               1   \n",
       "7     4.0  115046.74              4          1               0   \n",
       "8     4.0  142051.07              2          0               1   \n",
       "9     2.0  134603.88              1          1               1   \n",
       "\n",
       "   EstimatedSalary  Exited  \n",
       "0        101348.88       1  \n",
       "1        112542.58       0  \n",
       "2        113931.57       1  \n",
       "3         93826.63       0  \n",
       "4         79084.10       0  \n",
       "5        149756.71       1  \n",
       "6         10062.80       0  \n",
       "7        119346.88       1  \n",
       "8         74940.50       0  \n",
       "9         71725.73       0  "
      ]
     },
     "execution_count": 2,
     "metadata": {},
     "output_type": "execute_result"
    }
   ],
   "source": [
    "try:\n",
    "    df = pd.read_csv('/datasets/Churn.csv')\n",
    "except ValueError:\n",
    "    print('Неверный тип переменных')\n",
    "df.head(10)"
   ]
  },
  {
   "cell_type": "markdown",
   "metadata": {},
   "source": [
    "Сделаем проверку данных:"
   ]
  },
  {
   "cell_type": "code",
   "execution_count": 3,
   "metadata": {},
   "outputs": [
    {
     "name": "stdout",
     "output_type": "stream",
     "text": [
      "<class 'pandas.core.frame.DataFrame'>\n",
      "RangeIndex: 10000 entries, 0 to 9999\n",
      "Data columns (total 14 columns):\n",
      " #   Column           Non-Null Count  Dtype  \n",
      "---  ------           --------------  -----  \n",
      " 0   RowNumber        10000 non-null  int64  \n",
      " 1   CustomerId       10000 non-null  int64  \n",
      " 2   Surname          10000 non-null  object \n",
      " 3   CreditScore      10000 non-null  int64  \n",
      " 4   Geography        10000 non-null  object \n",
      " 5   Gender           10000 non-null  object \n",
      " 6   Age              10000 non-null  int64  \n",
      " 7   Tenure           9091 non-null   float64\n",
      " 8   Balance          10000 non-null  float64\n",
      " 9   NumOfProducts    10000 non-null  int64  \n",
      " 10  HasCrCard        10000 non-null  int64  \n",
      " 11  IsActiveMember   10000 non-null  int64  \n",
      " 12  EstimatedSalary  10000 non-null  float64\n",
      " 13  Exited           10000 non-null  int64  \n",
      "dtypes: float64(3), int64(8), object(3)\n",
      "memory usage: 1.1+ MB\n"
     ]
    }
   ],
   "source": [
    "df.info()"
   ]
  },
  {
   "cell_type": "markdown",
   "metadata": {},
   "source": [
    "Приведем названия столбцов к \"змеиному регистру\":"
   ]
  },
  {
   "cell_type": "code",
   "execution_count": 4,
   "metadata": {},
   "outputs": [],
   "source": [
    "df.columns = df.columns.str.lower()\n",
    "df.rename(columns = {\n",
    "    \n",
    "    'rownumber' : 'row_number',\n",
    "    'customerid' : 'customer_id',\n",
    "    'creditscore' : 'credit_score',\n",
    "    'numofproducts' : 'num_of_products',\n",
    "    'hascrcard' : 'has_cr_card',\n",
    "    'isactivemember' : 'is_active_member',\n",
    "    'estimatedsalary' : 'estimated_salary'\n",
    "    \n",
    "}, inplace = True)"
   ]
  },
  {
   "cell_type": "code",
   "execution_count": 5,
   "metadata": {},
   "outputs": [
    {
     "data": {
      "text/plain": [
       "Index(['row_number', 'customer_id', 'surname', 'credit_score', 'geography',\n",
       "       'gender', 'age', 'tenure', 'balance', 'num_of_products', 'has_cr_card',\n",
       "       'is_active_member', 'estimated_salary', 'exited'],\n",
       "      dtype='object')"
      ]
     },
     "execution_count": 5,
     "metadata": {},
     "output_type": "execute_result"
    }
   ],
   "source": [
    "df.columns"
   ]
  },
  {
   "cell_type": "markdown",
   "metadata": {},
   "source": [
    "Проверим данные на дубликаты:"
   ]
  },
  {
   "cell_type": "code",
   "execution_count": 6,
   "metadata": {},
   "outputs": [
    {
     "data": {
      "text/plain": [
       "False    10000\n",
       "dtype: int64"
      ]
     },
     "execution_count": 6,
     "metadata": {},
     "output_type": "execute_result"
    }
   ],
   "source": [
    "df.duplicated().value_counts()"
   ]
  },
  {
   "cell_type": "markdown",
   "metadata": {},
   "source": [
    "Дубликатов нет. \n",
    "\n",
    "Также можно заметить, что в столбцах, кроме `tenure`, пропусков нет. Проверим, можем ли мы заменить пропуски в данном столбце на медианные значения:"
   ]
  },
  {
   "cell_type": "code",
   "execution_count": 7,
   "metadata": {
    "scrolled": false
   },
   "outputs": [
    {
     "data": {
      "image/png": "[encoded data removed]",
      "text/plain": [
       "<Figure size 432x288 with 1 Axes>"
      ]
     },
     "metadata": {
      "needs_background": "light"
     },
     "output_type": "display_data"
    }
   ],
   "source": [
    "df['tenure'].hist(bins = 30);"
   ]
  },
  {
   "cell_type": "markdown",
   "metadata": {},
   "source": [
    "Из гистограммы следует, что при разбиении клиентов на группы, кто сколько является клиентом банка, мы получили практически равномерное распределение. Таким образом, нельзя заменить пропуски на определенное значение."
   ]
  },
  {
   "cell_type": "markdown",
   "metadata": {},
   "source": [
    "Определим, какую часть составляют пропуски от общего количества строк в столбце `tenure`:"
   ]
  },
  {
   "cell_type": "code",
   "execution_count": 8,
   "metadata": {},
   "outputs": [
    {
     "data": {
      "text/plain": [
       "0.09089999999999998"
      ]
     },
     "execution_count": 8,
     "metadata": {},
     "output_type": "execute_result"
    }
   ],
   "source": [
    "1 - len(df[df['tenure'] >= 0]) / len(df['tenure'])"
   ]
  },
  {
   "cell_type": "markdown",
   "metadata": {},
   "source": [
    "Пропуски составляют примерно 9.1%, менее 10%. Таким образом, можно удалить строки с пропусками:"
   ]
  },
  {
   "cell_type": "code",
   "execution_count": 9,
   "metadata": {},
   "outputs": [
    {
     "name": "stdout",
     "output_type": "stream",
     "text": [
      "<class 'pandas.core.frame.DataFrame'>\n",
      "Int64Index: 9091 entries, 0 to 9998\n",
      "Data columns (total 14 columns):\n",
      " #   Column            Non-Null Count  Dtype  \n",
      "---  ------            --------------  -----  \n",
      " 0   row_number        9091 non-null   int64  \n",
      " 1   customer_id       9091 non-null   int64  \n",
      " 2   surname           9091 non-null   object \n",
      " 3   credit_score      9091 non-null   int64  \n",
      " 4   geography         9091 non-null   object \n",
      " 5   gender            9091 non-null   object \n",
      " 6   age               9091 non-null   int64  \n",
      " 7   tenure            9091 non-null   float64\n",
      " 8   balance           9091 non-null   float64\n",
      " 9   num_of_products   9091 non-null   int64  \n",
      " 10  has_cr_card       9091 non-null   int64  \n",
      " 11  is_active_member  9091 non-null   int64  \n",
      " 12  estimated_salary  9091 non-null   float64\n",
      " 13  exited            9091 non-null   int64  \n",
      "dtypes: float64(3), int64(8), object(3)\n",
      "memory usage: 1.0+ MB\n"
     ]
    }
   ],
   "source": [
    "df = df.dropna()\n",
    "df.info()"
   ]
  },
  {
   "cell_type": "markdown",
   "metadata": {},
   "source": [
    "Проверим еще раз данные в столбце `tenure`:"
   ]
  },
  {
   "cell_type": "code",
   "execution_count": 10,
   "metadata": {},
   "outputs": [
    {
     "data": {
      "text/plain": [
       "array([ 0.,  1.,  2.,  3.,  4.,  5.,  6.,  7.,  8.,  9., 10.])"
      ]
     },
     "execution_count": 10,
     "metadata": {},
     "output_type": "execute_result"
    }
   ],
   "source": [
    "df['tenure'].sort_values().unique()"
   ]
  },
  {
   "cell_type": "markdown",
   "metadata": {},
   "source": [
    "Данные в столбце - целочисленного типа, хотя принадлежат `float`. Переведем их в тип `int`:"
   ]
  },
  {
   "cell_type": "code",
   "execution_count": 11,
   "metadata": {},
   "outputs": [
    {
     "data": {
      "text/plain": [
       "0        2\n",
       "1        1\n",
       "2        8\n",
       "3        1\n",
       "4        2\n",
       "        ..\n",
       "9994     2\n",
       "9995     5\n",
       "9996    10\n",
       "9997     7\n",
       "9998     3\n",
       "Name: tenure, Length: 9091, dtype: int64"
      ]
     },
     "execution_count": 11,
     "metadata": {},
     "output_type": "execute_result"
    }
   ],
   "source": [
    "df['tenure'] = df['tenure'].astype('int')\n",
    "df['tenure']"
   ]
  },
  {
   "cell_type": "markdown",
   "metadata": {},
   "source": [
    "Также можем заметить, что столбцы `row_number`, `customer_id ` и `surname` содержат только персональную информацию о клиентах и не влияют на `exited`. Удалим эти столбцы:"
   ]
  },
  {
   "cell_type": "code",
   "execution_count": 12,
   "metadata": {},
   "outputs": [
    {
     "data": {
      "text/html": [
       "<div>\n",
       "<style scoped>\n",
       "    .dataframe tbody tr th:only-of-type {\n",
       "        vertical-align: middle;\n",
       "    }\n",
       "\n",
       "    .dataframe tbody tr th {\n",
       "        vertical-align: top;\n",
       "    }\n",
       "\n",
       "    .dataframe thead th {\n",
       "        text-align: right;\n",
       "    }\n",
       "</style>\n",
       "<table border=\"1\" class=\"dataframe\">\n",
       "  <thead>\n",
       "    <tr style=\"text-align: right;\">\n",
       "      <th></th>\n",
       "      <th>credit_score</th>\n",
       "      <th>geography</th>\n",
       "      <th>gender</th>\n",
       "      <th>age</th>\n",
       "      <th>tenure</th>\n",
       "      <th>balance</th>\n",
       "      <th>num_of_products</th>\n",
       "      <th>has_cr_card</th>\n",
       "      <th>is_active_member</th>\n",
       "      <th>estimated_salary</th>\n",
       "      <th>exited</th>\n",
       "    </tr>\n",
       "  </thead>\n",
       "  <tbody>\n",
       "    <tr>\n",
       "      <th>0</th>\n",
       "      <td>619</td>\n",
       "      <td>France</td>\n",
       "      <td>Female</td>\n",
       "      <td>42</td>\n",
       "      <td>2</td>\n",
       "      <td>0.00</td>\n",
       "      <td>1</td>\n",
       "      <td>1</td>\n",
       "      <td>1</td>\n",
       "      <td>101348.88</td>\n",
       "      <td>1</td>\n",
       "    </tr>\n",
       "    <tr>\n",
       "      <th>1</th>\n",
       "      <td>608</td>\n",
       "      <td>Spain</td>\n",
       "      <td>Female</td>\n",
       "      <td>41</td>\n",
       "      <td>1</td>\n",
       "      <td>83807.86</td>\n",
       "      <td>1</td>\n",
       "      <td>0</td>\n",
       "      <td>1</td>\n",
       "      <td>112542.58</td>\n",
       "      <td>0</td>\n",
       "    </tr>\n",
       "    <tr>\n",
       "      <th>2</th>\n",
       "      <td>502</td>\n",
       "      <td>France</td>\n",
       "      <td>Female</td>\n",
       "      <td>42</td>\n",
       "      <td>8</td>\n",
       "      <td>159660.80</td>\n",
       "      <td>3</td>\n",
       "      <td>1</td>\n",
       "      <td>0</td>\n",
       "      <td>113931.57</td>\n",
       "      <td>1</td>\n",
       "    </tr>\n",
       "    <tr>\n",
       "      <th>3</th>\n",
       "      <td>699</td>\n",
       "      <td>France</td>\n",
       "      <td>Female</td>\n",
       "      <td>39</td>\n",
       "      <td>1</td>\n",
       "      <td>0.00</td>\n",
       "      <td>2</td>\n",
       "      <td>0</td>\n",
       "      <td>0</td>\n",
       "      <td>93826.63</td>\n",
       "      <td>0</td>\n",
       "    </tr>\n",
       "    <tr>\n",
       "      <th>4</th>\n",
       "      <td>850</td>\n",
       "      <td>Spain</td>\n",
       "      <td>Female</td>\n",
       "      <td>43</td>\n",
       "      <td>2</td>\n",
       "      <td>125510.82</td>\n",
       "      <td>1</td>\n",
       "      <td>1</td>\n",
       "      <td>1</td>\n",
       "      <td>79084.10</td>\n",
       "      <td>0</td>\n",
       "    </tr>\n",
       "  </tbody>\n",
       "</table>\n",
       "</div>"
      ],
      "text/plain": [
       "   credit_score geography  gender  age  tenure    balance  num_of_products  \\\n",
       "0           619    France  Female   42       2       0.00                1   \n",
       "1           608     Spain  Female   41       1   83807.86                1   \n",
       "2           502    France  Female   42       8  159660.80                3   \n",
       "3           699    France  Female   39       1       0.00                2   \n",
       "4           850     Spain  Female   43       2  125510.82                1   \n",
       "\n",
       "   has_cr_card  is_active_member  estimated_salary  exited  \n",
       "0            1                 1         101348.88       1  \n",
       "1            0                 1         112542.58       0  \n",
       "2            1                 0         113931.57       1  \n",
       "3            0                 0          93826.63       0  \n",
       "4            1                 1          79084.10       0  "
      ]
     },
     "execution_count": 12,
     "metadata": {},
     "output_type": "execute_result"
    }
   ],
   "source": [
    "df = df.drop(['row_number', 'customer_id', 'surname'], axis = 1)\n",
    "df.head()"
   ]
  },
  {
   "cell_type": "markdown",
   "metadata": {},
   "source": [
    "### Подготовка признаков"
   ]
  },
  {
   "cell_type": "markdown",
   "metadata": {},
   "source": [
    "Для категоральных признаков применик технику OHE:"
   ]
  },
  {
   "cell_type": "code",
   "execution_count": 13,
   "metadata": {},
   "outputs": [
    {
     "data": {
      "text/html": [
       "<div>\n",
       "<style scoped>\n",
       "    .dataframe tbody tr th:only-of-type {\n",
       "        vertical-align: middle;\n",
       "    }\n",
       "\n",
       "    .dataframe tbody tr th {\n",
       "        vertical-align: top;\n",
       "    }\n",
       "\n",
       "    .dataframe thead th {\n",
       "        text-align: right;\n",
       "    }\n",
       "</style>\n",
       "<table border=\"1\" class=\"dataframe\">\n",
       "  <thead>\n",
       "    <tr style=\"text-align: right;\">\n",
       "      <th></th>\n",
       "      <th>credit_score</th>\n",
       "      <th>age</th>\n",
       "      <th>tenure</th>\n",
       "      <th>balance</th>\n",
       "      <th>num_of_products</th>\n",
       "      <th>has_cr_card</th>\n",
       "      <th>is_active_member</th>\n",
       "      <th>estimated_salary</th>\n",
       "      <th>exited</th>\n",
       "      <th>geography_Germany</th>\n",
       "      <th>geography_Spain</th>\n",
       "      <th>gender_Male</th>\n",
       "    </tr>\n",
       "  </thead>\n",
       "  <tbody>\n",
       "    <tr>\n",
       "      <th>0</th>\n",
       "      <td>619</td>\n",
       "      <td>42</td>\n",
       "      <td>2</td>\n",
       "      <td>0.00</td>\n",
       "      <td>1</td>\n",
       "      <td>1</td>\n",
       "      <td>1</td>\n",
       "      <td>101348.88</td>\n",
       "      <td>1</td>\n",
       "      <td>0</td>\n",
       "      <td>0</td>\n",
       "      <td>0</td>\n",
       "    </tr>\n",
       "    <tr>\n",
       "      <th>1</th>\n",
       "      <td>608</td>\n",
       "      <td>41</td>\n",
       "      <td>1</td>\n",
       "      <td>83807.86</td>\n",
       "      <td>1</td>\n",
       "      <td>0</td>\n",
       "      <td>1</td>\n",
       "      <td>112542.58</td>\n",
       "      <td>0</td>\n",
       "      <td>0</td>\n",
       "      <td>1</td>\n",
       "      <td>0</td>\n",
       "    </tr>\n",
       "    <tr>\n",
       "      <th>2</th>\n",
       "      <td>502</td>\n",
       "      <td>42</td>\n",
       "      <td>8</td>\n",
       "      <td>159660.80</td>\n",
       "      <td>3</td>\n",
       "      <td>1</td>\n",
       "      <td>0</td>\n",
       "      <td>113931.57</td>\n",
       "      <td>1</td>\n",
       "      <td>0</td>\n",
       "      <td>0</td>\n",
       "      <td>0</td>\n",
       "    </tr>\n",
       "    <tr>\n",
       "      <th>3</th>\n",
       "      <td>699</td>\n",
       "      <td>39</td>\n",
       "      <td>1</td>\n",
       "      <td>0.00</td>\n",
       "      <td>2</td>\n",
       "      <td>0</td>\n",
       "      <td>0</td>\n",
       "      <td>93826.63</td>\n",
       "      <td>0</td>\n",
       "      <td>0</td>\n",
       "      <td>0</td>\n",
       "      <td>0</td>\n",
       "    </tr>\n",
       "    <tr>\n",
       "      <th>4</th>\n",
       "      <td>850</td>\n",
       "      <td>43</td>\n",
       "      <td>2</td>\n",
       "      <td>125510.82</td>\n",
       "      <td>1</td>\n",
       "      <td>1</td>\n",
       "      <td>1</td>\n",
       "      <td>79084.10</td>\n",
       "      <td>0</td>\n",
       "      <td>0</td>\n",
       "      <td>1</td>\n",
       "      <td>0</td>\n",
       "    </tr>\n",
       "  </tbody>\n",
       "</table>\n",
       "</div>"
      ],
      "text/plain": [
       "   credit_score  age  tenure    balance  num_of_products  has_cr_card  \\\n",
       "0           619   42       2       0.00                1            1   \n",
       "1           608   41       1   83807.86                1            0   \n",
       "2           502   42       8  159660.80                3            1   \n",
       "3           699   39       1       0.00                2            0   \n",
       "4           850   43       2  125510.82                1            1   \n",
       "\n",
       "   is_active_member  estimated_salary  exited  geography_Germany  \\\n",
       "0                 1         101348.88       1                  0   \n",
       "1                 1         112542.58       0                  0   \n",
       "2                 0         113931.57       1                  0   \n",
       "3                 0          93826.63       0                  0   \n",
       "4                 1          79084.10       0                  0   \n",
       "\n",
       "   geography_Spain  gender_Male  \n",
       "0                0            0  \n",
       "1                1            0  \n",
       "2                0            0  \n",
       "3                0            0  \n",
       "4                1            0  "
      ]
     },
     "execution_count": 13,
     "metadata": {},
     "output_type": "execute_result"
    }
   ],
   "source": [
    "df = pd.get_dummies(df, drop_first = True)\n",
    "df.head()"
   ]
  },
  {
   "cell_type": "markdown",
   "metadata": {},
   "source": [
    "### Подготовка данных"
   ]
  },
  {
   "cell_type": "markdown",
   "metadata": {},
   "source": [
    "Целевой признак - столбец `exited`, выделим его отдельно из выборки (`target`), остальные признаки отнесем в выборку `features`: "
   ]
  },
  {
   "cell_type": "code",
   "execution_count": 14,
   "metadata": {},
   "outputs": [],
   "source": [
    "target = df['exited']\n",
    "features = df.drop(['exited'], axis = 1)"
   ]
  },
  {
   "cell_type": "markdown",
   "metadata": {},
   "source": [
    "Разделим выборку на обучаемую, валидационную и тестовую в состношении 3:1:1, сделаем проверку:"
   ]
  },
  {
   "cell_type": "code",
   "execution_count": 15,
   "metadata": {},
   "outputs": [
    {
     "name": "stdout",
     "output_type": "stream",
     "text": [
      "0.5999340006599934\n",
      "0.1999780002199978\n"
     ]
    },
    {
     "data": {
      "text/plain": [
       "0.2000879991200088"
      ]
     },
     "execution_count": 15,
     "metadata": {},
     "output_type": "execute_result"
    }
   ],
   "source": [
    "features_train, features_valid, target_train, target_valid = train_test_split(\n",
    "    features, target, test_size = 0.2, random_state = 12345, stratify = target)\n",
    "\n",
    "features_train, features_test, target_train, target_test = train_test_split(\n",
    "    features_train, target_train, test_size = 0.25, random_state = 12345, stratify = target_train)\n",
    "\n",
    "print(len(features_train) / len(features))\n",
    "print(len(features_test) / len(features))\n",
    "len(features_valid) / len(features)"
   ]
  },
  {
   "cell_type": "markdown",
   "metadata": {},
   "source": [
    "Для всех численных признаков примем одинаковый масштаб:"
   ]
  },
  {
   "cell_type": "code",
   "execution_count": 16,
   "metadata": {
    "scrolled": false
   },
   "outputs": [],
   "source": [
    "scaler = StandardScaler()\n",
    "numeric = ['credit_score', 'age', 'tenure', 'balance', 'num_of_products', 'estimated_salary']\n",
    "\n",
    "pd.options.mode.chained_assignment = None\n",
    "\n",
    "scaler.fit(features_train[numeric])\n",
    "features_train[numeric] = scaler.transform(features_train[numeric])\n",
    "features_valid[numeric] = scaler.transform(features_valid[numeric])\n",
    "features_test[numeric] = scaler.transform(features_test[numeric])"
   ]
  },
  {
   "cell_type": "markdown",
   "metadata": {},
   "source": [
    "## Исследование задачи"
   ]
  },
  {
   "cell_type": "markdown",
   "metadata": {},
   "source": [
    "### Анализ дисбаланса классов"
   ]
  },
  {
   "cell_type": "markdown",
   "metadata": {},
   "source": [
    "Проанализируем дисбаланс классов:"
   ]
  },
  {
   "cell_type": "code",
   "execution_count": 17,
   "metadata": {},
   "outputs": [
    {
     "name": "stdout",
     "output_type": "stream",
     "text": [
      "(7237, 12)\n",
      "(1854, 12)\n"
     ]
    }
   ],
   "source": [
    "df_zeros = df[target == 0]\n",
    "df_ones = df[target == 1]\n",
    "print(df_zeros.shape)\n",
    "print(df_ones.shape)"
   ]
  },
  {
   "cell_type": "markdown",
   "metadata": {},
   "source": [
    "Значений с `target = 1` меньше примерно в 4 раза, в процессе улучшения модели будем учитывать данный дисбаланс."
   ]
  },
  {
   "cell_type": "markdown",
   "metadata": {},
   "source": [
    "Обучим модель на выборке `train` на моделях `DT`, `LR` и `RF` и проверим на `valid`. Определим модель с наилучшими значениями `f1` и `auc-roc`, а также определим гиперпараметры, при которых это значение максимально."
   ]
  },
  {
   "cell_type": "markdown",
   "metadata": {},
   "source": [
    "### Модель DT"
   ]
  },
  {
   "cell_type": "markdown",
   "metadata": {},
   "source": [
    "Проведем обучение на модели `DT`. Будем менять параметр `max_depth` и определим качество данной модели (наибольшие значения `f1` и `auc-roc`), а также создадим список `list_f1_auc_roc_DecisionTreeClassifier_valid`, содержащий значения `f1` и `auc-roc`, а также определим значение `max_depth`, при котором достигаются максимальные значения `f1` и `auc-roc` на обучающей выборке при данном алгоритме:  "
   ]
  },
  {
   "cell_type": "code",
   "execution_count": 18,
   "metadata": {},
   "outputs": [
    {
     "name": "stdout",
     "output_type": "stream",
     "text": [
      "Наибольшее значение f1-меры: 0.5745682888540031 , Значение depth: 7\n",
      "Наибольшее значение auc_roc: 0.7179705067683281 , Значение depth: 7\n"
     ]
    }
   ],
   "source": [
    "result_f1_DecisionTreeClassifier_valid = 0\n",
    "result_auc_roc_DecisionTreeClassifier_valid = 0\n",
    "result_f1_auc_roc_DecisionTreeClassifier_valid = 0\n",
    "depth_f1_DecisionTreeClassifier_valid = 0\n",
    "depth_auc_roc_DecisionTreeClassifier_valid = 0\n",
    "list_f1_auc_roc_DecisionTreeClassifier_valid = []\n",
    "\n",
    "for depth in range(1, len(target_valid)):\n",
    "    \n",
    "    model_DecisionTreeClassifier_valid = DecisionTreeClassifier(random_state = 12345, max_depth = depth)\n",
    "    model_DecisionTreeClassifier_valid.fit(features_train, target_train)\n",
    "    answer_DecisionTreeClassifier_valid = model_DecisionTreeClassifier_valid.predict(features_valid)\n",
    "    f1_DecisionTreeClassifier_valid = sklm.f1_score(target_valid, answer_DecisionTreeClassifier_valid)\n",
    "    auc_roc_DecisionTreeClassifier_valid = sklm.roc_auc_score(target_valid, answer_DecisionTreeClassifier_valid)\n",
    "    \n",
    "    list_f1_auc_roc_DecisionTreeClassifier_valid.append([f1_DecisionTreeClassifier_valid, \n",
    "                                                         auc_roc_DecisionTreeClassifier_valid,\n",
    "                                                         depth])\n",
    "    \n",
    "for index in range(len(list_f1_auc_roc_DecisionTreeClassifier_valid)):\n",
    "    if result_f1_DecisionTreeClassifier_valid < list_f1_auc_roc_DecisionTreeClassifier_valid[index][0]:\n",
    "        result_f1_DecisionTreeClassifier_valid = list_f1_auc_roc_DecisionTreeClassifier_valid[index][0]\n",
    "        depth_f1_DecisionTreeClassifier_valid = list_f1_auc_roc_DecisionTreeClassifier_valid[index][2]\n",
    "    if result_auc_roc_DecisionTreeClassifier_valid < list_f1_auc_roc_DecisionTreeClassifier_valid[index][1]:\n",
    "        result_auc_roc_DecisionTreeClassifier_valid = list_f1_auc_roc_DecisionTreeClassifier_valid[index][1]\n",
    "        depth_auc_roc_DecisionTreeClassifier_valid = list_f1_auc_roc_DecisionTreeClassifier_valid[index][2]\n",
    "        \n",
    "print('Наибольшее значение f1-меры:', result_f1_DecisionTreeClassifier_valid, \n",
    "      ', Значение depth:', depth_f1_DecisionTreeClassifier_valid)\n",
    "print('Наибольшее значение auc_roc:', result_auc_roc_DecisionTreeClassifier_valid, \n",
    "      ', Значение depth:', depth_auc_roc_DecisionTreeClassifier_valid)"
   ]
  },
  {
   "cell_type": "markdown",
   "metadata": {},
   "source": [
    "Таким образом, наибольшие значения f1-меры и auc-roc достигались при значении depth - 7"
   ]
  },
  {
   "cell_type": "markdown",
   "metadata": {},
   "source": [
    "### Модель LR"
   ]
  },
  {
   "cell_type": "markdown",
   "metadata": {},
   "source": [
    "Проведем обучение на модели `LR`. Будем менять параметры `max_iter` и `solver` и определим качество данной модели (наибольшие значения `f1` и `auc-roc`), а также создадим список `list_f1_auc_roc_LogisticRegression_valid`, содержащий значения `f1` и `auc-roc`, а также определим значения `max_iter` и `solver`, при которых достигается максимальное значение `accuracy` на обучающей выборке при данном алгоритме (значение `max_iter` на 1 больше порядка в списке):  "
   ]
  },
  {
   "cell_type": "code",
   "execution_count": 19,
   "metadata": {
    "scrolled": true
   },
   "outputs": [
    {
     "name": "stdout",
     "output_type": "stream",
     "text": [
      "Наибольшее значение f1-меры:  0.33918128654970764\n",
      "Наибольшее значение auc-roc:  0.5982589611472651\n",
      "Лучшее значение гиперпараметра max_iter: 1\n",
      "Лучшее значение f1-меры на решателе: liblinear\n",
      "Лучшее значение гиперпараметра max_iter: 1\n",
      "Лучшее значение auc-roc на решателе: liblinear\n",
      "Лучшее значение гиперпараметра max_iter: 2\n",
      "Лучшее значение f1-меры на решателе: lbfgs\n",
      "Лучшее значение гиперпараметра max_iter: 2\n",
      "Лучшее значение auc-roc на решателе: lbfgs\n",
      "Лучшее значение гиперпараметра max_iter: 3\n",
      "Лучшее значение f1-меры на решателе: liblinear\n",
      "Лучшее значение гиперпараметра max_iter: 3\n",
      "Лучшее значение auc-roc на решателе: liblinear\n",
      "Лучшее значение гиперпараметра max_iter: 4\n",
      "Лучшее значение f1-меры на решателе: lbfgs\n",
      "Лучшее значение гиперпараметра max_iter: 4\n",
      "Лучшее значение auc-roc на решателе: lbfgs\n",
      "Лучшее значение гиперпараметра max_iter: 5\n",
      "Лучшее значение f1-меры на решателе: liblinear\n",
      "Лучшее значение гиперпараметра max_iter: 5\n",
      "Лучшее значение auc-roc на решателе: liblinear\n",
      "Лучшее значение гиперпараметра max_iter: 6\n",
      "Лучшее значение f1-меры на решателе: lbfgs\n",
      "Лучшее значение гиперпараметра max_iter: 6\n",
      "Лучшее значение auc-roc на решателе: lbfgs\n",
      "Лучшее значение гиперпараметра max_iter: 7\n",
      "Лучшее значение f1-меры на решателе: liblinear\n",
      "Лучшее значение гиперпараметра max_iter: 7\n",
      "Лучшее значение auc-roc на решателе: liblinear\n",
      "Лучшее значение гиперпараметра max_iter: 8\n",
      "Лучшее значение f1-меры на решателе: lbfgs\n",
      "Лучшее значение гиперпараметра max_iter: 8\n",
      "Лучшее значение auc-roc на решателе: lbfgs\n",
      "Лучшее значение гиперпараметра max_iter: 9\n",
      "Лучшее значение f1-меры на решателе: liblinear\n",
      "Лучшее значение гиперпараметра max_iter: 9\n",
      "Лучшее значение auc-roc на решателе: liblinear\n",
      "Лучшее значение гиперпараметра max_iter: 10\n",
      "Лучшее значение f1-меры на решателе: lbfgs\n",
      "Лучшее значение гиперпараметра max_iter: 10\n",
      "Лучшее значение auc-roc на решателе: lbfgs\n",
      "Лучшее значение гиперпараметра max_iter: 11\n",
      "Лучшее значение f1-меры на решателе: liblinear\n",
      "Лучшее значение гиперпараметра max_iter: 11\n",
      "Лучшее значение auc-roc на решателе: liblinear\n",
      "Лучшее значение гиперпараметра max_iter: 12\n",
      "Лучшее значение f1-меры на решателе: lbfgs\n",
      "Лучшее значение гиперпараметра max_iter: 12\n",
      "Лучшее значение auc-roc на решателе: lbfgs\n",
      "Лучшее значение гиперпараметра max_iter: 13\n",
      "Лучшее значение f1-меры на решателе: liblinear\n",
      "Лучшее значение гиперпараметра max_iter: 13\n",
      "Лучшее значение auc-roc на решателе: liblinear\n",
      "Лучшее значение гиперпараметра max_iter: 14\n",
      "Лучшее значение f1-меры на решателе: lbfgs\n",
      "Лучшее значение гиперпараметра max_iter: 14\n",
      "Лучшее значение auc-roc на решателе: lbfgs\n",
      "Лучшее значение гиперпараметра max_iter: 15\n",
      "Лучшее значение f1-меры на решателе: liblinear\n",
      "Лучшее значение гиперпараметра max_iter: 15\n",
      "Лучшее значение auc-roc на решателе: liblinear\n",
      "Лучшее значение гиперпараметра max_iter: 16\n",
      "Лучшее значение f1-меры на решателе: lbfgs\n",
      "Лучшее значение гиперпараметра max_iter: 16\n",
      "Лучшее значение auc-roc на решателе: lbfgs\n",
      "Лучшее значение гиперпараметра max_iter: 17\n",
      "Лучшее значение f1-меры на решателе: liblinear\n",
      "Лучшее значение гиперпараметра max_iter: 17\n",
      "Лучшее значение auc-roc на решателе: liblinear\n",
      "Лучшее значение гиперпараметра max_iter: 18\n",
      "Лучшее значение f1-меры на решателе: lbfgs\n",
      "Лучшее значение гиперпараметра max_iter: 18\n",
      "Лучшее значение auc-roc на решателе: lbfgs\n",
      "Лучшее значение гиперпараметра max_iter: 19\n",
      "Лучшее значение f1-меры на решателе: liblinear\n",
      "Лучшее значение гиперпараметра max_iter: 19\n",
      "Лучшее значение auc-roc на решателе: liblinear\n",
      "Лучшее значение гиперпараметра max_iter: 20\n",
      "Лучшее значение f1-меры на решателе: lbfgs\n",
      "Лучшее значение гиперпараметра max_iter: 20\n",
      "Лучшее значение auc-roc на решателе: lbfgs\n",
      "Лучшее значение гиперпараметра max_iter: 21\n",
      "Лучшее значение f1-меры на решателе: liblinear\n",
      "Лучшее значение гиперпараметра max_iter: 21\n",
      "Лучшее значение auc-roc на решателе: liblinear\n",
      "Лучшее значение гиперпараметра max_iter: 22\n",
      "Лучшее значение f1-меры на решателе: lbfgs\n",
      "Лучшее значение гиперпараметра max_iter: 22\n",
      "Лучшее значение auc-roc на решателе: lbfgs\n",
      "Лучшее значение гиперпараметра max_iter: 23\n",
      "Лучшее значение f1-меры на решателе: liblinear\n",
      "Лучшее значение гиперпараметра max_iter: 23\n",
      "Лучшее значение auc-roc на решателе: liblinear\n",
      "Лучшее значение гиперпараметра max_iter: 24\n",
      "Лучшее значение f1-меры на решателе: lbfgs\n",
      "Лучшее значение гиперпараметра max_iter: 24\n",
      "Лучшее значение auc-roc на решателе: lbfgs\n",
      "Лучшее значение гиперпараметра max_iter: 25\n",
      "Лучшее значение f1-меры на решателе: liblinear\n",
      "Лучшее значение гиперпараметра max_iter: 25\n",
      "Лучшее значение auc-roc на решателе: liblinear\n",
      "Лучшее значение гиперпараметра max_iter: 26\n",
      "Лучшее значение f1-меры на решателе: lbfgs\n",
      "Лучшее значение гиперпараметра max_iter: 26\n",
      "Лучшее значение auc-roc на решателе: lbfgs\n",
      "Лучшее значение гиперпараметра max_iter: 27\n",
      "Лучшее значение f1-меры на решателе: liblinear\n",
      "Лучшее значение гиперпараметра max_iter: 27\n",
      "Лучшее значение auc-roc на решателе: liblinear\n",
      "Лучшее значение гиперпараметра max_iter: 28\n",
      "Лучшее значение f1-меры на решателе: lbfgs\n",
      "Лучшее значение гиперпараметра max_iter: 28\n",
      "Лучшее значение auc-roc на решателе: lbfgs\n",
      "Лучшее значение гиперпараметра max_iter: 29\n",
      "Лучшее значение f1-меры на решателе: liblinear\n",
      "Лучшее значение гиперпараметра max_iter: 29\n",
      "Лучшее значение auc-roc на решателе: liblinear\n",
      "Лучшее значение гиперпараметра max_iter: 30\n",
      "Лучшее значение f1-меры на решателе: lbfgs\n",
      "Лучшее значение гиперпараметра max_iter: 30\n",
      "Лучшее значение auc-roc на решателе: lbfgs\n",
      "Лучшее значение гиперпараметра max_iter: 31\n",
      "Лучшее значение f1-меры на решателе: liblinear\n",
      "Лучшее значение гиперпараметра max_iter: 31\n",
      "Лучшее значение auc-roc на решателе: liblinear\n",
      "Лучшее значение гиперпараметра max_iter: 32\n",
      "Лучшее значение f1-меры на решателе: lbfgs\n",
      "Лучшее значение гиперпараметра max_iter: 32\n",
      "Лучшее значение auc-roc на решателе: lbfgs\n",
      "Лучшее значение гиперпараметра max_iter: 33\n",
      "Лучшее значение f1-меры на решателе: liblinear\n",
      "Лучшее значение гиперпараметра max_iter: 33\n",
      "Лучшее значение auc-roc на решателе: liblinear\n",
      "Лучшее значение гиперпараметра max_iter: 34\n",
      "Лучшее значение f1-меры на решателе: lbfgs\n",
      "Лучшее значение гиперпараметра max_iter: 34\n",
      "Лучшее значение auc-roc на решателе: lbfgs\n",
      "Лучшее значение гиперпараметра max_iter: 35\n",
      "Лучшее значение f1-меры на решателе: liblinear\n",
      "Лучшее значение гиперпараметра max_iter: 35\n",
      "Лучшее значение auc-roc на решателе: liblinear\n",
      "Лучшее значение гиперпараметра max_iter: 36\n",
      "Лучшее значение f1-меры на решателе: lbfgs\n",
      "Лучшее значение гиперпараметра max_iter: 36\n",
      "Лучшее значение auc-roc на решателе: lbfgs\n",
      "Лучшее значение гиперпараметра max_iter: 37\n",
      "Лучшее значение f1-меры на решателе: liblinear\n",
      "Лучшее значение гиперпараметра max_iter: 37\n",
      "Лучшее значение auc-roc на решателе: liblinear\n",
      "Лучшее значение гиперпараметра max_iter: 38\n",
      "Лучшее значение f1-меры на решателе: lbfgs\n",
      "Лучшее значение гиперпараметра max_iter: 38\n",
      "Лучшее значение auc-roc на решателе: lbfgs\n",
      "Лучшее значение гиперпараметра max_iter: 39\n",
      "Лучшее значение f1-меры на решателе: liblinear\n",
      "Лучшее значение гиперпараметра max_iter: 39\n",
      "Лучшее значение auc-roc на решателе: liblinear\n",
      "Лучшее значение гиперпараметра max_iter: 40\n",
      "Лучшее значение f1-меры на решателе: lbfgs\n",
      "Лучшее значение гиперпараметра max_iter: 40\n",
      "Лучшее значение auc-roc на решателе: lbfgs\n",
      "Лучшее значение гиперпараметра max_iter: 41\n",
      "Лучшее значение f1-меры на решателе: liblinear\n",
      "Лучшее значение гиперпараметра max_iter: 41\n",
      "Лучшее значение auc-roc на решателе: liblinear\n",
      "Лучшее значение гиперпараметра max_iter: 42\n",
      "Лучшее значение f1-меры на решателе: lbfgs\n",
      "Лучшее значение гиперпараметра max_iter: 42\n",
      "Лучшее значение auc-roc на решателе: lbfgs\n",
      "Лучшее значение гиперпараметра max_iter: 43\n",
      "Лучшее значение f1-меры на решателе: liblinear\n",
      "Лучшее значение гиперпараметра max_iter: 43\n",
      "Лучшее значение auc-roc на решателе: liblinear\n",
      "Лучшее значение гиперпараметра max_iter: 44\n",
      "Лучшее значение f1-меры на решателе: lbfgs\n",
      "Лучшее значение гиперпараметра max_iter: 44\n",
      "Лучшее значение auc-roc на решателе: lbfgs\n",
      "Лучшее значение гиперпараметра max_iter: 45\n",
      "Лучшее значение f1-меры на решателе: liblinear\n",
      "Лучшее значение гиперпараметра max_iter: 45\n",
      "Лучшее значение auc-roc на решателе: liblinear\n",
      "Лучшее значение гиперпараметра max_iter: 46\n",
      "Лучшее значение f1-меры на решателе: lbfgs\n",
      "Лучшее значение гиперпараметра max_iter: 46\n",
      "Лучшее значение auc-roc на решателе: lbfgs\n",
      "Лучшее значение гиперпараметра max_iter: 47\n",
      "Лучшее значение f1-меры на решателе: liblinear\n",
      "Лучшее значение гиперпараметра max_iter: 47\n",
      "Лучшее значение auc-roc на решателе: liblinear\n",
      "Лучшее значение гиперпараметра max_iter: 48\n",
      "Лучшее значение f1-меры на решателе: lbfgs\n",
      "Лучшее значение гиперпараметра max_iter: 48\n",
      "Лучшее значение auc-roc на решателе: lbfgs\n",
      "Лучшее значение гиперпараметра max_iter: 49\n",
      "Лучшее значение f1-меры на решателе: liblinear\n",
      "Лучшее значение гиперпараметра max_iter: 49\n",
      "Лучшее значение auc-roc на решателе: liblinear\n",
      "Лучшее значение гиперпараметра max_iter: 50\n",
      "Лучшее значение f1-меры на решателе: lbfgs\n",
      "Лучшее значение гиперпараметра max_iter: 50\n",
      "Лучшее значение auc-roc на решателе: lbfgs\n",
      "Лучшее значение гиперпараметра max_iter: 51\n",
      "Лучшее значение f1-меры на решателе: liblinear\n",
      "Лучшее значение гиперпараметра max_iter: 51\n",
      "Лучшее значение auc-roc на решателе: liblinear\n",
      "Лучшее значение гиперпараметра max_iter: 52\n",
      "Лучшее значение f1-меры на решателе: lbfgs\n",
      "Лучшее значение гиперпараметра max_iter: 52\n",
      "Лучшее значение auc-roc на решателе: lbfgs\n",
      "Лучшее значение гиперпараметра max_iter: 53\n",
      "Лучшее значение f1-меры на решателе: liblinear\n",
      "Лучшее значение гиперпараметра max_iter: 53\n",
      "Лучшее значение auc-roc на решателе: liblinear\n",
      "Лучшее значение гиперпараметра max_iter: 54\n",
      "Лучшее значение f1-меры на решателе: lbfgs\n",
      "Лучшее значение гиперпараметра max_iter: 54\n",
      "Лучшее значение auc-roc на решателе: lbfgs\n",
      "Лучшее значение гиперпараметра max_iter: 55\n",
      "Лучшее значение f1-меры на решателе: liblinear\n",
      "Лучшее значение гиперпараметра max_iter: 55\n",
      "Лучшее значение auc-roc на решателе: liblinear\n",
      "Лучшее значение гиперпараметра max_iter: 56\n",
      "Лучшее значение f1-меры на решателе: lbfgs\n",
      "Лучшее значение гиперпараметра max_iter: 56\n",
      "Лучшее значение auc-roc на решателе: lbfgs\n",
      "Лучшее значение гиперпараметра max_iter: 57\n",
      "Лучшее значение f1-меры на решателе: liblinear\n",
      "Лучшее значение гиперпараметра max_iter: 57\n",
      "Лучшее значение auc-roc на решателе: liblinear\n",
      "Лучшее значение гиперпараметра max_iter: 58\n",
      "Лучшее значение f1-меры на решателе: lbfgs\n",
      "Лучшее значение гиперпараметра max_iter: 58\n",
      "Лучшее значение auc-roc на решателе: lbfgs\n",
      "Лучшее значение гиперпараметра max_iter: 59\n",
      "Лучшее значение f1-меры на решателе: liblinear\n",
      "Лучшее значение гиперпараметра max_iter: 59\n",
      "Лучшее значение auc-roc на решателе: liblinear\n",
      "Лучшее значение гиперпараметра max_iter: 60\n",
      "Лучшее значение f1-меры на решателе: lbfgs\n",
      "Лучшее значение гиперпараметра max_iter: 60\n",
      "Лучшее значение auc-roc на решателе: lbfgs\n",
      "Лучшее значение гиперпараметра max_iter: 61\n",
      "Лучшее значение f1-меры на решателе: liblinear\n",
      "Лучшее значение гиперпараметра max_iter: 61\n",
      "Лучшее значение auc-roc на решателе: liblinear\n",
      "Лучшее значение гиперпараметра max_iter: 62\n",
      "Лучшее значение f1-меры на решателе: lbfgs\n",
      "Лучшее значение гиперпараметра max_iter: 62\n",
      "Лучшее значение auc-roc на решателе: lbfgs\n",
      "Лучшее значение гиперпараметра max_iter: 63\n",
      "Лучшее значение f1-меры на решателе: liblinear\n",
      "Лучшее значение гиперпараметра max_iter: 63\n",
      "Лучшее значение auc-roc на решателе: liblinear\n",
      "Лучшее значение гиперпараметра max_iter: 64\n",
      "Лучшее значение f1-меры на решателе: lbfgs\n",
      "Лучшее значение гиперпараметра max_iter: 64\n",
      "Лучшее значение auc-roc на решателе: lbfgs\n",
      "Лучшее значение гиперпараметра max_iter: 65\n",
      "Лучшее значение f1-меры на решателе: liblinear\n",
      "Лучшее значение гиперпараметра max_iter: 65\n",
      "Лучшее значение auc-roc на решателе: liblinear\n",
      "Лучшее значение гиперпараметра max_iter: 66\n",
      "Лучшее значение f1-меры на решателе: lbfgs\n",
      "Лучшее значение гиперпараметра max_iter: 66\n",
      "Лучшее значение auc-roc на решателе: lbfgs\n",
      "Лучшее значение гиперпараметра max_iter: 67\n",
      "Лучшее значение f1-меры на решателе: liblinear\n",
      "Лучшее значение гиперпараметра max_iter: 67\n",
      "Лучшее значение auc-roc на решателе: liblinear\n",
      "Лучшее значение гиперпараметра max_iter: 68\n",
      "Лучшее значение f1-меры на решателе: lbfgs\n",
      "Лучшее значение гиперпараметра max_iter: 68\n",
      "Лучшее значение auc-roc на решателе: lbfgs\n",
      "Лучшее значение гиперпараметра max_iter: 69\n",
      "Лучшее значение f1-меры на решателе: liblinear\n",
      "Лучшее значение гиперпараметра max_iter: 69\n",
      "Лучшее значение auc-roc на решателе: liblinear\n",
      "Лучшее значение гиперпараметра max_iter: 70\n",
      "Лучшее значение f1-меры на решателе: lbfgs\n",
      "Лучшее значение гиперпараметра max_iter: 70\n",
      "Лучшее значение auc-roc на решателе: lbfgs\n",
      "Лучшее значение гиперпараметра max_iter: 71\n",
      "Лучшее значение f1-меры на решателе: liblinear\n",
      "Лучшее значение гиперпараметра max_iter: 71\n",
      "Лучшее значение auc-roc на решателе: liblinear\n",
      "Лучшее значение гиперпараметра max_iter: 72\n",
      "Лучшее значение f1-меры на решателе: lbfgs\n",
      "Лучшее значение гиперпараметра max_iter: 72\n",
      "Лучшее значение auc-roc на решателе: lbfgs\n",
      "Лучшее значение гиперпараметра max_iter: 73\n",
      "Лучшее значение f1-меры на решателе: liblinear\n",
      "Лучшее значение гиперпараметра max_iter: 73\n",
      "Лучшее значение auc-roc на решателе: liblinear\n",
      "Лучшее значение гиперпараметра max_iter: 74\n",
      "Лучшее значение f1-меры на решателе: lbfgs\n",
      "Лучшее значение гиперпараметра max_iter: 74\n",
      "Лучшее значение auc-roc на решателе: lbfgs\n",
      "Лучшее значение гиперпараметра max_iter: 75\n",
      "Лучшее значение f1-меры на решателе: liblinear\n",
      "Лучшее значение гиперпараметра max_iter: 75\n",
      "Лучшее значение auc-roc на решателе: liblinear\n",
      "Лучшее значение гиперпараметра max_iter: 76\n",
      "Лучшее значение f1-меры на решателе: lbfgs\n",
      "Лучшее значение гиперпараметра max_iter: 76\n",
      "Лучшее значение auc-roc на решателе: lbfgs\n",
      "Лучшее значение гиперпараметра max_iter: 77\n",
      "Лучшее значение f1-меры на решателе: liblinear\n",
      "Лучшее значение гиперпараметра max_iter: 77\n",
      "Лучшее значение auc-roc на решателе: liblinear\n",
      "Лучшее значение гиперпараметра max_iter: 78\n",
      "Лучшее значение f1-меры на решателе: lbfgs\n",
      "Лучшее значение гиперпараметра max_iter: 78\n",
      "Лучшее значение auc-roc на решателе: lbfgs\n",
      "Лучшее значение гиперпараметра max_iter: 79\n",
      "Лучшее значение f1-меры на решателе: liblinear\n",
      "Лучшее значение гиперпараметра max_iter: 79\n",
      "Лучшее значение auc-roc на решателе: liblinear\n",
      "Лучшее значение гиперпараметра max_iter: 80\n",
      "Лучшее значение f1-меры на решателе: lbfgs\n",
      "Лучшее значение гиперпараметра max_iter: 80\n",
      "Лучшее значение auc-roc на решателе: lbfgs\n",
      "Лучшее значение гиперпараметра max_iter: 81\n",
      "Лучшее значение f1-меры на решателе: liblinear\n",
      "Лучшее значение гиперпараметра max_iter: 81\n",
      "Лучшее значение auc-roc на решателе: liblinear\n",
      "Лучшее значение гиперпараметра max_iter: 82\n",
      "Лучшее значение f1-меры на решателе: lbfgs\n",
      "Лучшее значение гиперпараметра max_iter: 82\n",
      "Лучшее значение auc-roc на решателе: lbfgs\n",
      "Лучшее значение гиперпараметра max_iter: 83\n",
      "Лучшее значение f1-меры на решателе: liblinear\n",
      "Лучшее значение гиперпараметра max_iter: 83\n",
      "Лучшее значение auc-roc на решателе: liblinear\n",
      "Лучшее значение гиперпараметра max_iter: 84\n",
      "Лучшее значение f1-меры на решателе: lbfgs\n",
      "Лучшее значение гиперпараметра max_iter: 84\n",
      "Лучшее значение auc-roc на решателе: lbfgs\n",
      "Лучшее значение гиперпараметра max_iter: 85\n",
      "Лучшее значение f1-меры на решателе: liblinear\n",
      "Лучшее значение гиперпараметра max_iter: 85\n",
      "Лучшее значение auc-roc на решателе: liblinear\n",
      "Лучшее значение гиперпараметра max_iter: 86\n",
      "Лучшее значение f1-меры на решателе: lbfgs\n",
      "Лучшее значение гиперпараметра max_iter: 86\n",
      "Лучшее значение auc-roc на решателе: lbfgs\n",
      "Лучшее значение гиперпараметра max_iter: 87\n",
      "Лучшее значение f1-меры на решателе: liblinear\n",
      "Лучшее значение гиперпараметра max_iter: 87\n",
      "Лучшее значение auc-roc на решателе: liblinear\n",
      "Лучшее значение гиперпараметра max_iter: 88\n",
      "Лучшее значение f1-меры на решателе: lbfgs\n",
      "Лучшее значение гиперпараметра max_iter: 88\n",
      "Лучшее значение auc-roc на решателе: lbfgs\n",
      "Лучшее значение гиперпараметра max_iter: 89\n",
      "Лучшее значение f1-меры на решателе: liblinear\n",
      "Лучшее значение гиперпараметра max_iter: 89\n",
      "Лучшее значение auc-roc на решателе: liblinear\n",
      "Лучшее значение гиперпараметра max_iter: 90\n",
      "Лучшее значение f1-меры на решателе: lbfgs\n",
      "Лучшее значение гиперпараметра max_iter: 90\n",
      "Лучшее значение auc-roc на решателе: lbfgs\n"
     ]
    }
   ],
   "source": [
    "result_f1_LogisticRegression_valid = 0\n",
    "result_auc_roc_LogisticRegression_valid = 0\n",
    "index_result = 0\n",
    "list_f1_auc_roc_LogisticRegression_valid = []\n",
    "list_solvers_LogisticRegression_valid = ['liblinear', 'lbfgs'] \n",
    "\n",
    "for iteration in range(100, 1000, 20):\n",
    "    for solv in list_solvers_LogisticRegression_valid:\n",
    "    \n",
    "        model_LogisticRegression_valid = LogisticRegression(random_state = 12345, solver = solv, max_iter = iteration)\n",
    "        model_LogisticRegression_valid.fit(features_train, target_train)\n",
    "        answer_LogisticRegression_valid = model_LogisticRegression_valid.predict(features_valid)\n",
    "        result_f1_LogisticRegression_valid = sklm.f1_score(target_valid, answer_LogisticRegression_valid)\n",
    "        result_auc_roc_LogisticRegression_valid = sklm.roc_auc_score(target_valid, answer_LogisticRegression_valid)\n",
    "        \n",
    "        list_f1_auc_roc_LogisticRegression_valid.append([result_f1_LogisticRegression_valid, \n",
    "                                                         result_auc_roc_LogisticRegression_valid])\n",
    "    \n",
    "for index in range(len(list_f1_auc_roc_LogisticRegression_valid)):\n",
    "    \n",
    "        if result_f1_LogisticRegression_valid < list_f1_auc_roc_LogisticRegression_valid[index][0]:\n",
    "            result_f1_LogisticRegression_valid = list_f1_auc_roc_LogisticRegression_valid[index][0]\n",
    "            \n",
    "        if result_auc_roc_LogisticRegression_valid < list_f1_auc_roc_LogisticRegression_valid[index][1]:\n",
    "            result_auc_roc_LogisticRegression_valid = list_f1_auc_roc_LogisticRegression_valid[index][1]\n",
    "\n",
    "print('Наибольшее значение f1-меры: ', result_f1_LogisticRegression_valid)\n",
    "print('Наибольшее значение auc-roc: ', result_auc_roc_LogisticRegression_valid)\n",
    "\n",
    "for index in range(len(list_f1_auc_roc_LogisticRegression_valid)):\n",
    "    if (list_f1_auc_roc_LogisticRegression_valid[index][0] == result_f1_LogisticRegression_valid \n",
    "        and index % 2 == 0):            \n",
    "        print('Лучшее значение гиперпараметра max_iter:', index + 1)\n",
    "        print('Лучшее значение f1-меры на решателе: liblinear')\n",
    "    elif (list_f1_auc_roc_LogisticRegression_valid[index][0] == result_f1_LogisticRegression_valid \n",
    "        and index % 2 == 1):  \n",
    "        print('Лучшее значение гиперпараметра max_iter:', index + 1)\n",
    "        print('Лучшее значение f1-меры на решателе: lbfgs')\n",
    "        \n",
    "    if (list_f1_auc_roc_LogisticRegression_valid[index][1] == result_auc_roc_LogisticRegression_valid \n",
    "        and index % 2 == 0):            \n",
    "        print('Лучшее значение гиперпараметра max_iter:', index + 1)\n",
    "        print('Лучшее значение auc-roc на решателе: liblinear')\n",
    "    elif (list_f1_auc_roc_LogisticRegression_valid[index][1] == result_auc_roc_LogisticRegression_valid \n",
    "        and index % 2 == 1):  \n",
    "        print('Лучшее значение гиперпараметра max_iter:', index + 1)\n",
    "        print('Лучшее значение auc-roc на решателе: lbfgs')"
   ]
  },
  {
   "cell_type": "markdown",
   "metadata": {},
   "source": [
    "Таким образом, модель не зависит от гиперпараметров `max_iter` и `solver`. Проверим, итерируются ли значения `f1-меры` и `auc-roc` при изменении параметра `C`, а также определим значение данного параметра:"
   ]
  },
  {
   "cell_type": "code",
   "execution_count": 20,
   "metadata": {},
   "outputs": [
    {
     "name": "stdout",
     "output_type": "stream",
     "text": [
      "Наибольшее значение f1-меры: 0.34184675834970535 , Значение C: 0.15\n",
      "Наибольшее значение auc_roc: 0.5996401766168784 , Значение C: 0.15\n"
     ]
    }
   ],
   "source": [
    "result_f1_LogisticRegression_valid = 0\n",
    "result_auc_roc_LogisticRegression_valid = 0\n",
    "c_f1_LogisticRegression_valid = 0\n",
    "c_auc_roc_LogisticRegression_valid = 0\n",
    "list_f1_auc_roc_LogisticRegression_valid = []\n",
    "\n",
    "for value in range(1, 100):\n",
    "      \n",
    "    model_LogisticRegression_valid = LogisticRegression(random_state = 12345, C = value / 100)\n",
    "    model_LogisticRegression_valid.fit(features_train, target_train)\n",
    "    answer_LogisticRegression_valid = model_LogisticRegression_valid.predict(features_valid)\n",
    "    result_f1_LogisticRegression_valid = sklm.f1_score(target_valid, answer_LogisticRegression_valid)\n",
    "    result_auc_roc_LogisticRegression_valid = sklm.roc_auc_score(target_valid, answer_LogisticRegression_valid)\n",
    "        \n",
    "    list_f1_auc_roc_LogisticRegression_valid.append([result_f1_LogisticRegression_valid, \n",
    "                                                         result_auc_roc_LogisticRegression_valid])\n",
    "\n",
    "for index in range(len(list_f1_auc_roc_LogisticRegression_valid)):\n",
    "    if result_f1_LogisticRegression_valid < list_f1_auc_roc_LogisticRegression_valid[index][0]:\n",
    "        result_f1_LogisticRegression_valid = list_f1_auc_roc_LogisticRegression_valid[index][0]\n",
    "        c_f1_LogisticRegression_valid = index / 100\n",
    "    if result_auc_roc_LogisticRegression_valid < list_f1_auc_roc_LogisticRegression_valid[index][1]:\n",
    "        result_auc_roc_LogisticRegression_valid = list_f1_auc_roc_LogisticRegression_valid[index][1]\n",
    "        c_auc_roc_LogisticRegression_valid = index / 100\n",
    "        \n",
    "print('Наибольшее значение f1-меры:', result_f1_LogisticRegression_valid, \n",
    "      ', Значение C:', c_f1_LogisticRegression_valid)\n",
    "print('Наибольшее значение auc_roc:', result_auc_roc_LogisticRegression_valid, \n",
    "      ', Значение C:', c_auc_roc_LogisticRegression_valid)"
   ]
  },
  {
   "cell_type": "markdown",
   "metadata": {},
   "source": [
    "Таким образом, при изменении параметра `C`, значения `f1-меры` и `auc-roc`итерируются, при этом удалось немного увеличить их значения. Значения параметра `C` при этом - 0.15"
   ]
  },
  {
   "cell_type": "markdown",
   "metadata": {},
   "source": [
    "### Модель RF"
   ]
  },
  {
   "cell_type": "markdown",
   "metadata": {},
   "source": [
    "Проведем обучение на модели `RF`. Будем менять параметры `max_depth` и `n_estimators` и определим качество данной модели (наибольшие значения `f1` и `auc-roc`), а также создадим список `list_f1_auc_roc_RandomForestClassifier_valid`, содержащий значения `f1`, `auc-roc`, `n_estimators` и `max_depth`, а также определим значения `max_depth` и `n_estimators`, при которых достигаются максимальные значения `f1` и `auc-roc` на обучающей выборке при данной модели:  "
   ]
  },
  {
   "cell_type": "code",
   "execution_count": 21,
   "metadata": {
    "scrolled": true
   },
   "outputs": [
    {
     "name": "stdout",
     "output_type": "stream",
     "text": [
      "Лучшее значение f1-меры: 0.6054421768707483 , n_estimators: 11 , max_depth: 7 , auc-roc: 0.7264253324596803\n",
      "Лучшее значение auc-roc: 0.733150846599455 , n_estimators: 1 , max_depth: 5 , f1: 0.5862068965517242\n"
     ]
    }
   ],
   "source": [
    "result_f1_RandomForestClassifier_valid = 0\n",
    "result_auc_roc_RandomForestClassifier_valid = 0\n",
    "est_f1_RandomForestClassifier_valid = 0\n",
    "est_auc_roc_RandomForestClassifier_valid = 0\n",
    "depth_f1_RandomForestClassifier_valid = 0\n",
    "depth_auc_roc_RandomForestClassifier_valid = 0\n",
    "auc_roc_f1_RandomForestClassifier_valid = 0\n",
    "f1_auc_roc_RandomForestClassifier_valid = 0\n",
    "list_f1_auc_roc_RandomForestClassifier_valid = []\n",
    "\n",
    "for est in range(1, 50):\n",
    "    for depth in range(1, 10):\n",
    "    \n",
    "        model_RandomForestClassifier_valid = RandomForestClassifier(random_state = 12345, n_estimators = est, \n",
    "                                                                    max_depth = depth)\n",
    "        model_RandomForestClassifier_valid.fit(features_train, target_train)\n",
    "        answer_RandomForestClassifier_valid = model_RandomForestClassifier_valid.predict(features_valid)\n",
    "        f1_RandomForestClassifier_valid = sklm.f1_score(target_valid, answer_RandomForestClassifier_valid)\n",
    "        auc_roc_RandomForestClassifier_valid = sklm.roc_auc_score(target_valid, answer_RandomForestClassifier_valid)\n",
    "    \n",
    "        list_f1_auc_roc_RandomForestClassifier_valid.append([f1_RandomForestClassifier_valid, \n",
    "                                                             auc_roc_RandomForestClassifier_valid, \n",
    "                                                             est, depth])\n",
    "\n",
    "for index in range(len(list_f1_auc_roc_RandomForestClassifier_valid)):\n",
    "    if result_f1_RandomForestClassifier_valid < list_f1_auc_roc_RandomForestClassifier_valid[index][0]:\n",
    "        result_f1_RandomForestClassifier_valid = list_f1_auc_roc_RandomForestClassifier_valid[index][0]\n",
    "        auc_roc_f1_RandomForestClassifier_valid = list_f1_auc_roc_RandomForestClassifier_valid[index][1]\n",
    "        est_f1_RandomForestClassifier_valid = list_f1_auc_roc_RandomForestClassifier_valid[index][2]\n",
    "        depth_f1_RandomForestClassifier_valid = list_f1_auc_roc_RandomForestClassifier_valid[index][3]\n",
    "    if result_auc_roc_RandomForestClassifier_valid < list_f1_auc_roc_RandomForestClassifier_valid[index][1]:\n",
    "        result_auc_roc_RandomForestClassifier_valid = list_f1_auc_roc_RandomForestClassifier_valid[index][1]\n",
    "        f1_auc_roc_RandomForestClassifier_valid = list_f1_auc_roc_RandomForestClassifier_valid[index][0]\n",
    "        est_auc_roc_RandomForestClassifier_valid = list_f1_auc_roc_RandomForestClassifier_valid[index][2]\n",
    "        depth_auc_roc_RandomForestClassifier_valid = list_f1_auc_roc_RandomForestClassifier_valid[index][3]\n",
    "    \n",
    "print('Лучшее значение f1-меры:', result_f1_RandomForestClassifier_valid, \n",
    "      ', n_estimators:', est_f1_RandomForestClassifier_valid, \n",
    "      ', max_depth:', depth_f1_RandomForestClassifier_valid, \n",
    "      ', auc-roc:', auc_roc_f1_RandomForestClassifier_valid)\n",
    "\n",
    "print('Лучшее значение auc-roc:', result_auc_roc_RandomForestClassifier_valid, \n",
    "      ', n_estimators:', est_auc_roc_RandomForestClassifier_valid, \n",
    "      ', max_depth:', depth_auc_roc_RandomForestClassifier_valid, \n",
    "      ', f1:', f1_auc_roc_RandomForestClassifier_valid)"
   ]
  },
  {
   "cell_type": "markdown",
   "metadata": {},
   "source": [
    "Мы получили различные лучшие значения `f1-меры` и `auc-roc` при различных значениях `n_estimators` и `max_depth`. Сравним разницу между ними:"
   ]
  },
  {
   "cell_type": "code",
   "execution_count": 22,
   "metadata": {},
   "outputs": [
    {
     "name": "stdout",
     "output_type": "stream",
     "text": [
      "0.019235280319024106\n",
      "0.006725514139774624\n"
     ]
    }
   ],
   "source": [
    "print(0.6054421768707483 - 0.5862068965517242)\n",
    "print(0.733150846599455 - 0.7264253324596803)"
   ]
  },
  {
   "cell_type": "markdown",
   "metadata": {},
   "source": [
    "Метрика `f1-мера` уменьшается значительнее, при наилучшем значении `auc-roc`, чем наоборот. Таким образом, примем наилучшие гиперпараметры - `n_estimators` - 11, `max_depth` - 7."
   ]
  },
  {
   "cell_type": "markdown",
   "metadata": {},
   "source": [
    "Таким образом, наилучшей моделью примем модель `RF` со значениеми гиперпараметров `n_estimators` - 11, `max_depth` - 7. Определим основные метрики данной модели:"
   ]
  },
  {
   "cell_type": "code",
   "execution_count": 23,
   "metadata": {},
   "outputs": [
    {
     "name": "stdout",
     "output_type": "stream",
     "text": [
      "Полноста: 0.4797843665768194\n",
      "Точность: 0.8202764976958525\n",
      "F1-мера: 0.6054421768707483\n",
      "AUC-ROC: 0.7264253324596803\n",
      "Accuracy: 0.8724573941726224\n"
     ]
    }
   ],
   "source": [
    "model_RandomForestClassifier_valid = RandomForestClassifier(random_state = 12345, n_estimators = 11, max_depth = 7)\n",
    "model_RandomForestClassifier_valid.fit(features_train, target_train)\n",
    "answer_RandomForestClassifier_valid = model_RandomForestClassifier_valid.predict(features_valid)\n",
    "\n",
    "print('Полноста:', sklm.recall_score(target_valid, answer_RandomForestClassifier_valid))\n",
    "print('Точность:', sklm.precision_score(target_valid, answer_RandomForestClassifier_valid))\n",
    "print('F1-мера:', sklm.f1_score(target_valid, answer_RandomForestClassifier_valid))\n",
    "print('AUC-ROC:', sklm.roc_auc_score(target_valid, answer_RandomForestClassifier_valid))\n",
    "print('Accuracy:', sklm.accuracy_score(target_valid, answer_RandomForestClassifier_valid))"
   ]
  },
  {
   "cell_type": "markdown",
   "metadata": {},
   "source": [
    "## Борьба с дисбалансом"
   ]
  },
  {
   "cell_type": "markdown",
   "metadata": {},
   "source": [
    "### Увеличение веса редкого класса"
   ]
  },
  {
   "cell_type": "markdown",
   "metadata": {},
   "source": [
    "Придадим объектам редкого класса больший вес:"
   ]
  },
  {
   "cell_type": "code",
   "execution_count": 24,
   "metadata": {},
   "outputs": [
    {
     "name": "stdout",
     "output_type": "stream",
     "text": [
      "AUC-ROC: 0.7665959926136617\n",
      "F1-мера: 0.59837019790454\n",
      "Полнота: 0.692722371967655\n",
      "Точность: 0.5266393442622951\n",
      "Accuracy: 0.8103353490929082\n"
     ]
    }
   ],
   "source": [
    "model_weight_valid = RandomForestClassifier(random_state = 12345, n_estimators = 11, max_depth = 7, class_weight = 'balanced')\n",
    "model_weight_valid.fit(features_train, target_train)\n",
    "answer_weight_valid = model_weight_valid.predict(features_valid)\n",
    "\n",
    "print('AUC-ROC:', sklm.roc_auc_score(target_valid, answer_weight_valid))\n",
    "print('F1-мера:', sklm.f1_score(target_valid, answer_weight_valid))\n",
    "print('Полнота:', sklm.recall_score(target_valid, answer_weight_valid))\n",
    "print('Точность:', sklm.precision_score(target_valid, answer_weight_valid))\n",
    "print('Accuracy:', sklm.accuracy_score(target_valid, answer_weight_valid))"
   ]
  },
  {
   "cell_type": "markdown",
   "metadata": {},
   "source": [
    "### Функции борьбы с дисбалансом"
   ]
  },
  {
   "cell_type": "markdown",
   "metadata": {},
   "source": [
    "Произведем \"борьбу\" с дисбалансом и определим, как изменилось качество модели. Для этого создадим 2 функции: `upsample` - увеличение выборки и `downsample` - уменьшение выборки. `Upsample` будет получать на вход значения `target` и `features` выборки и `repeat` - значение коэффициента, увеличивающего выборку, на выходе будем получать значения `target` и `features` увеличенной выборки. `Downsample` будет получать на вход значения `target` и `features` выборки и `fraction` - значение коэффициента, уменьшающего выборку, на выходе будем получать значения `target` и `features` уменьшенной выборки."
   ]
  },
  {
   "cell_type": "markdown",
   "metadata": {},
   "source": [
    "Функция `Upsample`:"
   ]
  },
  {
   "cell_type": "code",
   "execution_count": 25,
   "metadata": {},
   "outputs": [],
   "source": [
    "def upsample(features, target, repeat = 1):\n",
    "    \n",
    "    features_zeros = features[target == 0]\n",
    "    features_ones = features[target == 1]\n",
    "    target_zeros = target[target == 0]\n",
    "    target_ones = target[target == 1]\n",
    "    \n",
    "    features_upsampled = pd.concat([features_zeros] + [features_ones] * repeat)\n",
    "    target_upsampled = pd.concat([target_zeros] + [target_ones] * repeat)\n",
    "    \n",
    "    features_upsampled, target_upsampled = shuffle(\n",
    "        features_upsampled, target_upsampled, random_state = 12345)\n",
    "    \n",
    "    return features_upsampled, target_upsampled"
   ]
  },
  {
   "cell_type": "markdown",
   "metadata": {},
   "source": [
    "Функция `Downsample`:"
   ]
  },
  {
   "cell_type": "code",
   "execution_count": 26,
   "metadata": {},
   "outputs": [],
   "source": [
    "def downsample(features, target, fraction = 0.1):\n",
    "    features_zeros = features[target == 0]\n",
    "    features_ones = features[target == 1]\n",
    "    target_zeros = target[target == 0]\n",
    "    target_ones = target[target == 1]\n",
    "\n",
    "    features_downsampled = pd.concat(\n",
    "        [features_zeros.sample(frac = fraction, random_state = 12345)] + [features_ones])\n",
    "    target_downsampled = pd.concat(\n",
    "        [target_zeros.sample(frac = fraction, random_state = 12345)] + [target_ones])\n",
    "    \n",
    "    features_downsampled, target_downsampled = shuffle(\n",
    "        features_downsampled, target_downsampled, random_state=12345)\n",
    "    \n",
    "    return features_downsampled, target_downsampled"
   ]
  },
  {
   "cell_type": "markdown",
   "metadata": {},
   "source": [
    "### Увеличение выборки"
   ]
  },
  {
   "cell_type": "code",
   "execution_count": 27,
   "metadata": {},
   "outputs": [],
   "source": [
    "list_accuracy_valid_upsampled = []\n",
    "list_recall_valid_upsampled = []\n",
    "list_precision_valid_upsampled = []\n",
    "list_f1_valid_upsampled = []\n",
    "list_auc_roc_valid_upsampled = []\n",
    "list_index_valid_upsampled = []\n",
    "\n",
    "for index in range(1, 101):\n",
    "    features_valid_upsampled, target_valid_upsampled = upsample(features_valid, target_valid, repeat = index)\n",
    "    features_train_upsampled, target_train_upsampled = upsample(features_train, target_train, repeat = index)\n",
    "    \n",
    "    model_valid_upsampled = RandomForestClassifier(random_state = 12345, n_estimators = 11, max_depth = 7)\n",
    "    \n",
    "    model_valid_upsampled.fit(features_train_upsampled, target_train_upsampled)\n",
    "    answer_valid_upsampled = model_valid_upsampled.predict(features_valid_upsampled)\n",
    "    \n",
    "    accuracy_valid_upsampled = sklm.accuracy_score(answer_valid_upsampled, target_valid_upsampled)\n",
    "    recall_valid_upsampled = sklm.recall_score(target_valid_upsampled, answer_valid_upsampled)\n",
    "    precision_valid_upsampled = sklm.precision_score(target_valid_upsampled, answer_valid_upsampled)\n",
    "    f1_valid_upsampled = sklm.f1_score(target_valid_upsampled, answer_valid_upsampled)\n",
    "    auc_roc_valid_upsampled = sklm.roc_auc_score(target_valid_upsampled, answer_valid_upsampled)\n",
    "    \n",
    "    list_accuracy_valid_upsampled.append(accuracy_valid_upsampled)\n",
    "    list_recall_valid_upsampled.append(recall_valid_upsampled)\n",
    "    list_precision_valid_upsampled.append(precision_valid_upsampled)\n",
    "    list_f1_valid_upsampled.append(f1_valid_upsampled)\n",
    "    list_auc_roc_valid_upsampled.append(auc_roc_valid_upsampled)\n",
    "    list_index_valid_upsampled.append(index)"
   ]
  },
  {
   "cell_type": "code",
   "execution_count": 28,
   "metadata": {
    "scrolled": false
   },
   "outputs": [
    {
     "data": {
      "image/png": "[encoded data removed]",
      "text/plain": [
       "<Figure size 1080x720 with 1 Axes>"
      ]
     },
     "metadata": {
      "needs_background": "light"
     },
     "output_type": "display_data"
    }
   ],
   "source": [
    "plt.figure(figsize = (15, 10))\n",
    "plt.plot(list_index_valid_upsampled, list_accuracy_valid_upsampled, label = 'accuracy')\n",
    "plt.plot(list_index_valid_upsampled, list_recall_valid_upsampled, label = 'recall')\n",
    "plt.plot(list_index_valid_upsampled, list_precision_valid_upsampled, label = 'precision')\n",
    "plt.plot(list_index_valid_upsampled, list_f1_valid_upsampled, label = 'f1')\n",
    "plt.plot(list_index_valid_upsampled, list_auc_roc_valid_upsampled, label = 'auc-roc')\n",
    "plt.legend(loc = 'upper left')\n",
    "plt.show()"
   ]
  },
  {
   "cell_type": "markdown",
   "metadata": {},
   "source": [
    "При увеличении выборки были получены следующие результаты: метрика `accuracy` в среднем повысилась примерно на 5%, метрика `recall` - на 40%, метрика `precision` - на 10%, метрика `f1` - на 40%. Метрика же `auc-roc` изменяется не однозначно: вначале увеличение примерно на 7%, затем уменьшение примерно на 20%.\n",
    "\n",
    "Таким образом, нельзя однозначно сделать вывод о том, что увеличение выборки идет на увеличение качества модели. Так как все метрики, кроме `auc-roc`, при значительном увеличении выборки растут, определим наилучшее качество модели по метрике `auc-roc`, а также определим значения остальных метрик:"
   ]
  },
  {
   "cell_type": "code",
   "execution_count": 29,
   "metadata": {},
   "outputs": [
    {
     "name": "stdout",
     "output_type": "stream",
     "text": [
      "AUC-ROC: 0.7755171181367364\n",
      "F1-мера: 0.7652916073968705\n",
      "Полнота: 0.7250673854447439\n",
      "Точность: 0.8102409638554217\n",
      "Accuracy: 0.7748976807639836\n",
      "Итерация: 3\n"
     ]
    }
   ],
   "source": [
    "best_result_auc_roc_valid_upsampled = 0\n",
    "best_result_f1_valid_upsampled = 0\n",
    "best_result_recall_valid_upsampled = 0\n",
    "best_result_precision_valid_upsampled = 0\n",
    "best_result_accuracy_valid_upsampled = 0\n",
    "best_iteration_accuracy_valid_upsampled = 0\n",
    "\n",
    "for index in range(1, 100):\n",
    "    if best_result_auc_roc_valid_upsampled < list_auc_roc_valid_upsampled[index]:\n",
    "        best_result_auc_roc_valid_upsampled = list_auc_roc_valid_upsampled[index]\n",
    "        best_result_f1_valid_upsampled = list_f1_valid_upsampled[index]\n",
    "        best_result_recall_valid_upsampled = list_recall_valid_upsampled[index]\n",
    "        best_result_precision_valid_upsampled = list_precision_valid_upsampled[index]\n",
    "        best_result_accuracy_valid_upsampled = list_accuracy_valid_upsampled[index]\n",
    "        best_iteration_accuracy_valid_upsampled = index\n",
    "        \n",
    "print('AUC-ROC:', best_result_auc_roc_valid_upsampled)\n",
    "print('F1-мера:', best_result_f1_valid_upsampled)\n",
    "print('Полнота:', best_result_recall_valid_upsampled)\n",
    "print('Точность:', best_result_precision_valid_upsampled)\n",
    "print('Accuracy:', best_result_accuracy_valid_upsampled)\n",
    "print('Итерация:', best_iteration_accuracy_valid_upsampled)"
   ]
  },
  {
   "cell_type": "markdown",
   "metadata": {},
   "source": [
    "### Уменьшение выборки"
   ]
  },
  {
   "cell_type": "code",
   "execution_count": 30,
   "metadata": {},
   "outputs": [],
   "source": [
    "list_accuracy_valid_downsampled = []\n",
    "list_recall_valid_downsampled = []\n",
    "list_precision_valid_downsampled = []\n",
    "list_f1_valid_downsampled = []\n",
    "list_auc_roc_valid_downsampled = []\n",
    "list_index_valid_downsampled = []\n",
    "iteration = 0\n",
    "\n",
    "for index in range(1, 100, 1):\n",
    "    features_valid_downsampled, target_valid_downsampled = downsample(features_valid, target_valid, fraction = (101 - index) / 100)\n",
    "    features_train_downsampled, target_train_downsampled = downsample(features_train, target_train, fraction = (101 - index) / 100)\n",
    "    \n",
    "    model_valid_downsampled = RandomForestClassifier(random_state = 12345, n_estimators = 11, max_depth = 7)\n",
    "    \n",
    "    model_valid_downsampled.fit(features_train_downsampled, target_train_downsampled)\n",
    "    answer_valid_downsampled = model_valid_downsampled.predict(features_valid_downsampled)\n",
    "    \n",
    "    accuracy_valid_downsampled = sklm.accuracy_score(answer_valid_downsampled, target_valid_downsampled)\n",
    "    recall_valid_downsampled = sklm.recall_score(target_valid_downsampled, answer_valid_downsampled)\n",
    "    precision_valid_downsampled = sklm.precision_score(target_valid_downsampled, answer_valid_downsampled)\n",
    "    f1_valid_downsampled = sklm.f1_score(target_valid_downsampled, answer_valid_downsampled)\n",
    "    auc_roc_valid_downsampled = sklm.roc_auc_score(target_valid_downsampled, answer_valid_downsampled)\n",
    "    iteration += 1\n",
    "    \n",
    "    list_accuracy_valid_downsampled.append(accuracy_valid_downsampled)\n",
    "    list_recall_valid_downsampled.append(recall_valid_downsampled)\n",
    "    list_precision_valid_downsampled.append(precision_valid_downsampled)\n",
    "    list_f1_valid_downsampled.append(f1_valid_downsampled)\n",
    "    list_auc_roc_valid_downsampled.append(auc_roc_valid_downsampled)\n",
    "    list_index_valid_downsampled.append(iteration)"
   ]
  },
  {
   "cell_type": "code",
   "execution_count": 31,
   "metadata": {},
   "outputs": [
    {
     "data": {
      "image/png": "[encoded data removed]",
      "text/plain": [
       "<Figure size 1080x720 with 1 Axes>"
      ]
     },
     "metadata": {
      "needs_background": "light"
     },
     "output_type": "display_data"
    }
   ],
   "source": [
    "plt.figure(figsize = (15, 10))\n",
    "plt.plot(list_index_valid_downsampled, list_accuracy_valid_downsampled, label = 'accuracy')\n",
    "plt.plot(list_index_valid_downsampled, list_recall_valid_downsampled, label = 'recall')\n",
    "plt.plot(list_index_valid_downsampled, list_precision_valid_downsampled, label = 'precision')\n",
    "plt.plot(list_index_valid_downsampled, list_f1_valid_downsampled, label = 'f1')\n",
    "plt.plot(list_index_valid_downsampled, list_auc_roc_valid_downsampled, label = 'auc-roc')\n",
    "plt.legend(loc = 'best')\n",
    "plt.show()"
   ]
  },
  {
   "cell_type": "markdown",
   "metadata": {},
   "source": [
    "При уменьшении выборки были получены следующие результаты: все метрики, кроме `auc-roc`, значительно увеличиваются, `auc-roc` понижается примерно на 25%. Однако ее максимальное значение достигается примено на 70-й итерации, что означает, что примено 70% выборки удалены, что очень негативно влияет на точность результатов исследования. Поэтому определим наилучшее качество модели по метрике `auc-roc` только до 40 итерации (т.е. максимум удаляем 40% выборки), а также определим значения остальных метрик:"
   ]
  },
  {
   "cell_type": "code",
   "execution_count": 32,
   "metadata": {},
   "outputs": [
    {
     "name": "stdout",
     "output_type": "stream",
     "text": [
      "AUC-ROC: 0.7517688679245282\n",
      "F1-мера: 0.658307210031348\n",
      "Полнота: 0.5660377358490566\n",
      "Точность: 0.7865168539325843\n",
      "Accuracy: 0.8300857365549493\n",
      "Итерация: 37\n"
     ]
    }
   ],
   "source": [
    "best_result_auc_roc_valid_downsampled = 0\n",
    "best_result_f1_valid_downsampled = 0\n",
    "best_result_recall_valid_downsampled = 0\n",
    "best_result_precision_valid_downsampled = 0\n",
    "best_result_accuracy_valid_downsampled = 0\n",
    "best_iteration_accuracy_valid_downsampled = 0\n",
    "\n",
    "for index in range(1, 40):\n",
    "    if best_result_auc_roc_valid_downsampled < list_auc_roc_valid_downsampled[index]:\n",
    "        best_result_auc_roc_valid_downsampled = list_auc_roc_valid_downsampled[index]\n",
    "        best_result_f1_valid_downsampled = list_f1_valid_downsampled[index]\n",
    "        best_result_recall_valid_downsampled = list_recall_valid_downsampled[index]\n",
    "        best_result_precision_valid_downsampled = list_precision_valid_downsampled[index]\n",
    "        best_result_accuracy_valid_downsampled = list_accuracy_valid_downsampled[index]\n",
    "        best_iteration_accuracy_valid_downsampled = index\n",
    "        \n",
    "print('AUC-ROC:', best_result_auc_roc_valid_downsampled)\n",
    "print('F1-мера:', best_result_f1_valid_downsampled)\n",
    "print('Полнота:', best_result_recall_valid_downsampled)\n",
    "print('Точность:', best_result_precision_valid_downsampled)\n",
    "print('Accuracy:', best_result_accuracy_valid_downsampled)\n",
    "print('Итерация:', best_iteration_accuracy_valid_downsampled)"
   ]
  },
  {
   "cell_type": "markdown",
   "metadata": {},
   "source": [
    "Таким образом, по 4 из 5 выборок (кроме `accuracy`) значение метрик при увеличении выборки значительно больше, чем при уменьшении или учеличении веса редкого класса. Однако `accuracy` в данном исследовании не является основной метрикой, поэтому примем увеличение выборки как лучший вариант модели при борьбе с дисбалансом. "
   ]
  },
  {
   "cell_type": "markdown",
   "metadata": {},
   "source": [
    "## Тестирование модели"
   ]
  },
  {
   "cell_type": "markdown",
   "metadata": {},
   "source": [
    "### Проверка на тестовой выборке"
   ]
  },
  {
   "cell_type": "markdown",
   "metadata": {},
   "source": [
    "В процессе улучшения модели была принята лучшей та, которая увеличивала выборку. Проверим ее на тестовой выборке:"
   ]
  },
  {
   "cell_type": "code",
   "execution_count": 33,
   "metadata": {},
   "outputs": [
    {
     "name": "stdout",
     "output_type": "stream",
     "text": [
      "F1-мера: 0.703960396039604\n",
      "Полнота: 0.6388140161725068\n",
      "Точность: 0.7839029768467475\n",
      "AUC-ROC: 0.7516806777476218\n",
      "Accuracy: 0.76640625\n"
     ]
    }
   ],
   "source": [
    "features_test_upsampled, target_test_upsampled = upsample(features_test, target_test, repeat = 3)\n",
    "features_train_upsampled, target_train_upsampled = upsample(features_train, target_train, repeat = 3)\n",
    "features_valid_upsampled, target_valid_upsampled = upsample(features_valid, target_valid, repeat = 3)\n",
    "    \n",
    "model_test_upsampled = RandomForestClassifier(random_state = 12345, n_estimators = 11, max_depth = 7)\n",
    "    \n",
    "model_test_upsampled.fit(features_train_upsampled, target_train_upsampled)\n",
    "answer_test_upsampled = model_test_upsampled.predict(features_test_upsampled)\n",
    "\n",
    "print('F1-мера:', sklm.f1_score(target_test_upsampled, answer_test_upsampled))\n",
    "print('Полнота:', sklm.recall_score(target_test_upsampled, answer_test_upsampled))\n",
    "print('Точность:', sklm.precision_score(target_test_upsampled, answer_test_upsampled))\n",
    "print('AUC-ROC:', sklm.roc_auc_score(target_test_upsampled, answer_test_upsampled))\n",
    "print('Accuracy:', sklm.accuracy_score(answer_test_upsampled, target_test_upsampled))"
   ]
  },
  {
   "cell_type": "markdown",
   "metadata": {},
   "source": [
    "### Проверка качества модели на тестовой + валидационной выборках"
   ]
  },
  {
   "cell_type": "markdown",
   "metadata": {},
   "source": [
    "Объединим тестовую и валидационную выборки в одну и проверим, как изменится качество модели:"
   ]
  },
  {
   "cell_type": "code",
   "execution_count": 34,
   "metadata": {
    "scrolled": true
   },
   "outputs": [
    {
     "name": "stdout",
     "output_type": "stream",
     "text": [
      "F1-мера: 0.7102342786683108\n",
      "Полнота: 0.6469002695417789\n",
      "Точность: 0.7873154729360307\n",
      "AUC-ROC: 0.7562653333891969\n",
      "Accuracy: 0.7705526264401484\n"
     ]
    }
   ],
   "source": [
    "features_valid_test = pd.concat([features_test_upsampled, features_valid_upsampled], axis = 0)\n",
    "target_valid_test = pd.concat([target_test_upsampled, target_valid_upsampled], axis = 0)\n",
    "answer_valid_test = model_test_upsampled.predict(features_valid_test)\n",
    "\n",
    "print('F1-мера:', sklm.f1_score(target_valid_test, answer_valid_test))\n",
    "print('Полнота:', sklm.recall_score(target_valid_test, answer_valid_test))\n",
    "print('Точность:', sklm.precision_score(target_valid_test, answer_valid_test))\n",
    "print('AUC-ROC:', sklm.roc_auc_score(target_valid_test, answer_valid_test))\n",
    "print('Accuracy:', sklm.accuracy_score(answer_valid_test, target_valid_test))"
   ]
  },
  {
   "cell_type": "markdown",
   "metadata": {},
   "source": [
    "### Проверка качества модели на валидационной + тренировочной выборках"
   ]
  },
  {
   "cell_type": "markdown",
   "metadata": {},
   "source": [
    "Объединим валидационную и тренировочную выборки в качестве одной обучающей и проверим, как изменится качество модели:"
   ]
  },
  {
   "cell_type": "code",
   "execution_count": 35,
   "metadata": {},
   "outputs": [
    {
     "name": "stdout",
     "output_type": "stream",
     "text": [
      "F1-мера: 0.7655421686746988\n",
      "Полнота: 0.7140930546190155\n",
      "Точность: 0.8249805245390808\n",
      "AUC-ROC: 0.7988427276549309\n",
      "Accuracy: 0.809942377185272\n"
     ]
    }
   ],
   "source": [
    "features_valid_train = pd.concat([features_valid_upsampled, features_train_upsampled], axis = 0)\n",
    "target_valid_train = pd.concat([target_valid_upsampled, target_train_upsampled], axis = 0)\n",
    "answer_valid_train = model_test_upsampled.predict(features_valid_train)\n",
    "\n",
    "print('F1-мера:', sklm.f1_score(target_valid_train, answer_valid_train))\n",
    "print('Полнота:', sklm.recall_score(target_valid_train, answer_valid_train))\n",
    "print('Точность:', sklm.precision_score(target_valid_train, answer_valid_train))\n",
    "print('AUC-ROC:', sklm.roc_auc_score(target_valid_train, answer_valid_train))\n",
    "print('Accuracy:', sklm.accuracy_score(answer_valid_train, target_valid_train))"
   ]
  },
  {
   "cell_type": "markdown",
   "metadata": {},
   "source": [
    "### График изменений метрик"
   ]
  },
  {
   "cell_type": "markdown",
   "metadata": {},
   "source": [
    "Создадим график изменений метрик по 5 точкам - до борьбы с дисбалансом, при увеличении выборки, проверка на тестовой выборке, проверка на тестовой + валидационной выборках, проверка на валидационной + тренировочной выборках:"
   ]
  },
  {
   "cell_type": "code",
   "execution_count": 36,
   "metadata": {
    "scrolled": false
   },
   "outputs": [
    {
     "data": {
      "image/png": "[encoded data removed]",
      "text/plain": [
       "<Figure size 1080x720 with 1 Axes>"
      ]
     },
     "metadata": {
      "needs_background": "light"
     },
     "output_type": "display_data"
    }
   ],
   "source": [
    "f1 = [0.6054421768707483, 0.7652916073968705, 0.703960396039604, 0.7102342786683108, 0.7655421686746988]\n",
    "auc_roc = [0.7264253324596803, 0.7755171181367364, 0.7516806777476218, 0.7562653333891969, 0.7988427276549309]\n",
    "recall = [0.4797843665768194, 0.7250673854447439, 0.6388140161725068, 0.6469002695417789, 0.7140930546190155]\n",
    "precision = [0.8202764976958525, 0.8102409638554217, 0.7839029768467475, 0.7873154729360307, 0.8249805245390808]\n",
    "accuracy = [0.8724573941726224, 0.7748976807639836, 0.76640625, 0.7705526264401484, 0.809942377185272]\n",
    "points = [1, 2, 3, 4, 5]\n",
    "\n",
    "plt.figure(figsize = (15, 10))\n",
    "plt.plot(points, f1, label = 'f1')\n",
    "plt.plot(points, auc_roc, label = 'auc-roc')\n",
    "plt.plot(points, recall, label = 'recall')\n",
    "plt.plot(points, precision, label = 'precision')\n",
    "plt.plot(points, accuracy, label = 'accuracy')\n",
    "plt.legend(loc = 'upper center')\n",
    "plt.show()"
   ]
  },
  {
   "cell_type": "markdown",
   "metadata": {},
   "source": [
    "### ROC-кривая"
   ]
  },
  {
   "cell_type": "markdown",
   "metadata": {},
   "source": [
    "Для модели, увеличивающей выборку, проведем AUC-ROC исследование. Построим ROC-кривую:"
   ]
  },
  {
   "cell_type": "code",
   "execution_count": 37,
   "metadata": {},
   "outputs": [
    {
     "data": {
      "image/png": "[encoded data removed]",
      "text/plain": [
       "<Figure size 1080x720 with 1 Axes>"
      ]
     },
     "metadata": {
      "needs_background": "light"
     },
     "output_type": "display_data"
    }
   ],
   "source": [
    "answers_roc_test = model_test_upsampled.predict_proba(features_test)\n",
    "answers_one_test = answers_roc_test[:, 1]\n",
    "\n",
    "fpr, tpr, thresholds = sklm.roc_curve(target_test, answers_one_test) \n",
    "\n",
    "plt.figure(figsize = (15, 10))\n",
    "plt.plot(fpr, tpr)\n",
    "plt.plot([0, 1], [0, 1], linestyle='--')\n",
    "plt.xlim([0.0, 1.0])\n",
    "plt.ylim([0.0, 1.0])\n",
    "plt.xlabel('False Positive Rate')\n",
    "plt.ylabel('True Positive Rate')\n",
    "plt.title('ROC-кривая')\n",
    "plt.show()"
   ]
  },
  {
   "cell_type": "markdown",
   "metadata": {},
   "source": [
    "## Выводы"
   ]
  },
  {
   "cell_type": "markdown",
   "metadata": {},
   "source": [
    "В процессе исследования были проведены: подготовка данных, исследование модели, борьба с дисбалансом, тестирование модели.\n",
    "\n",
    "В процессе подготовки данных были проведены: проверка на дубликаты, пропуски, удалена информация, не влияющая на обучение модели, данные приведены к общему масштабу, была применена техника OHE для категоральных переменных. Также было проведено разбиение на обучающую, валидационную и тестовую выборки.\n",
    "\n",
    "Во время исслдования модели был проведен анализ дисбаланса - выяснилось, что значений с target = 1 примерно в 4 раза меньше. Обучение модели было произведено на алгоритмах DT, LR, RF. Моделью с наибольшиим значениями F1-меры и AUC-ROC была принята модель RF с гиперпараметрами n_estimators = 11 и max_depth = 7.\n",
    "\n",
    "В ходе борьбы с дисбаласом анализ проводился по трем вариантам: увеличение веса редкого класса, увеличение и уменьшение выборки. При увеличение веса редкого класса было получено, что значение метрики F1-меры незначительно снизилось - менее, чем на 1%, а метрики AUC-ROC - наоборот - повысилось примено на 4%. При увеличении выборки заметен рост обоих метрик - F1-меры - на 26.4%, AUC-ROC - на 6.7%. При уменьшении выборки также наблюдается рост значений метрик, однако, уже не такой значительный, как при увеличении - F1-меры - на 8.7%, AUC-ROC - на 3.5%. Поэтому наиболее удачной была принята модель, увеличивающая выборку (на третьей итерации).\n",
    "\n",
    "В ходе тестирования модели проводилась проверка на тестовой выборке, на тестовой + валидационной, а также был построен график, отражающий изменения качества метрик по 5 точкам - до борьбы с дисбалансом, при увеличении выборки, проверка на тестовой выборке, проверка на валидационной + тренировочной выборках. Были сделаны следующие выводы:\n",
    "1. Несмотря на уменьшение значений всех метрик при тестировании на 2 тестовых выборках, оно качество модели увеличилось, по сравнению с моделью, не учитывающую дисбаланс. Т.е. при увеличении тестовой выборки (с 20% до 40%) качество улучшенной модели снизилось, но больше, чем качество модели, не учитывающей дисбаланс. \n",
    "2. При увеличении обучающей выборки (с 60% до 80%) качество модели по всем метрикам увеличилось по сравнению с увеличеним тестовой выборки, однако вернулось примерно на тот же уровень, что и при увеличении выборки при отношении обучающей и валидационной выборок 60% к 20%. Т.е. при увеличении обучающей выборки качество модели заметно не улучшилось, а по некоторым метрикам (F1-мера, точность, полнота) осталось таким же.\n",
    "3. Значения основных метрик - F1-мера и AUC-ROC - значительно возрасли даже с учетом уменьшения качества при тестировании - на 16.3% и 6.8% соответственно на тестовой выборке, на 11.5% и 3.8% соответственно на тестовой + валидационной выборках.\n",
    "\n",
    "Таким образом, мы получили улучшенную модель, с хорошими значениями метрик с заданной точностью (F1-мера минимум 0.59)."
   ]
  }
 ],
 "metadata": {
  "ExecuteTimeLog": [
   {
    "duration": 422,
    "start_time": "2022-06-05T21:42:04.226Z"
   },
   {
    "duration": 2,
    "start_time": "2022-06-05T21:42:36.044Z"
   },
   {
    "duration": 22,
    "start_time": "2022-06-05T21:43:03.113Z"
   },
   {
    "duration": 79,
    "start_time": "2022-06-05T21:43:08.145Z"
   },
   {
    "duration": 19,
    "start_time": "2022-06-05T21:43:21.625Z"
   },
   {
    "duration": 13,
    "start_time": "2022-06-05T21:43:28.687Z"
   },
   {
    "duration": 71,
    "start_time": "2022-06-05T21:43:59.793Z"
   },
   {
    "duration": 13,
    "start_time": "2022-06-05T21:44:02.825Z"
   },
   {
    "duration": 4,
    "start_time": "2022-06-05T21:45:35.746Z"
   },
   {
    "duration": 7,
    "start_time": "2022-06-05T21:47:45.840Z"
   },
   {
    "duration": 7,
    "start_time": "2022-06-05T21:47:52.424Z"
   },
   {
    "duration": 7,
    "start_time": "2022-06-05T21:47:56.109Z"
   },
   {
    "duration": 4,
    "start_time": "2022-06-05T21:48:57.982Z"
   },
   {
    "duration": 79,
    "start_time": "2022-06-05T21:49:55.501Z"
   },
   {
    "duration": 199,
    "start_time": "2022-06-05T21:50:05.886Z"
   },
   {
    "duration": 28,
    "start_time": "2022-06-05T21:50:10.320Z"
   },
   {
    "duration": 8,
    "start_time": "2022-06-05T21:50:20.421Z"
   },
   {
    "duration": 4,
    "start_time": "2022-06-05T21:50:30.551Z"
   },
   {
    "duration": 3,
    "start_time": "2022-06-05T21:52:01.412Z"
   },
   {
    "duration": 5,
    "start_time": "2022-06-05T21:53:59.449Z"
   },
   {
    "duration": 3,
    "start_time": "2022-06-05T21:54:03.715Z"
   },
   {
    "duration": 4,
    "start_time": "2022-06-05T21:54:09.696Z"
   },
   {
    "duration": 27,
    "start_time": "2022-06-05T21:54:35.193Z"
   },
   {
    "duration": 19,
    "start_time": "2022-06-05T21:56:35.087Z"
   },
   {
    "duration": 28,
    "start_time": "2022-06-05T21:56:46.635Z"
   },
   {
    "duration": 5,
    "start_time": "2022-06-05T21:57:09.088Z"
   },
   {
    "duration": 20,
    "start_time": "2022-06-05T21:57:17.640Z"
   },
   {
    "duration": 19,
    "start_time": "2022-06-05T21:57:45.522Z"
   },
   {
    "duration": 21,
    "start_time": "2022-06-05T21:57:50.544Z"
   },
   {
    "duration": 154,
    "start_time": "2022-06-05T21:59:09.662Z"
   },
   {
    "duration": 4,
    "start_time": "2022-06-05T22:00:04.344Z"
   },
   {
    "duration": 6,
    "start_time": "2022-06-05T22:00:13.652Z"
   },
   {
    "duration": 51,
    "start_time": "2022-06-05T22:01:16.670Z"
   },
   {
    "duration": 11,
    "start_time": "2022-06-05T22:01:23.823Z"
   },
   {
    "duration": 22,
    "start_time": "2022-06-05T22:01:38.032Z"
   },
   {
    "duration": 4,
    "start_time": "2022-06-05T22:02:00.990Z"
   },
   {
    "duration": 9,
    "start_time": "2022-06-05T22:02:04.374Z"
   },
   {
    "duration": 20,
    "start_time": "2022-06-05T22:02:10.670Z"
   },
   {
    "duration": 12,
    "start_time": "2022-06-05T22:02:27.959Z"
   },
   {
    "duration": 311,
    "start_time": "2022-06-05T22:02:44.591Z"
   },
   {
    "duration": 7,
    "start_time": "2022-06-05T22:02:50.803Z"
   },
   {
    "duration": 7,
    "start_time": "2022-06-05T22:03:48.622Z"
   },
   {
    "duration": 4,
    "start_time": "2022-06-05T22:08:49.036Z"
   },
   {
    "duration": 12,
    "start_time": "2022-06-05T22:10:34.005Z"
   },
   {
    "duration": 19,
    "start_time": "2022-06-05T22:10:40.944Z"
   },
   {
    "duration": 86,
    "start_time": "2022-06-05T22:10:57.520Z"
   },
   {
    "duration": 18,
    "start_time": "2022-06-05T22:11:04.196Z"
   },
   {
    "duration": 14,
    "start_time": "2022-06-05T22:11:10.809Z"
   },
   {
    "duration": 12,
    "start_time": "2022-06-05T22:11:21.410Z"
   },
   {
    "duration": 11,
    "start_time": "2022-06-05T22:11:33.333Z"
   },
   {
    "duration": 15,
    "start_time": "2022-06-05T22:11:41.743Z"
   },
   {
    "duration": 20,
    "start_time": "2022-06-05T22:22:14.396Z"
   },
   {
    "duration": 19,
    "start_time": "2022-06-05T22:22:21.949Z"
   },
   {
    "duration": 24,
    "start_time": "2022-06-05T22:23:38.503Z"
   },
   {
    "duration": 21,
    "start_time": "2022-06-05T22:23:46.093Z"
   },
   {
    "duration": 8,
    "start_time": "2022-06-05T22:23:56.012Z"
   },
   {
    "duration": 22,
    "start_time": "2022-06-05T22:24:09.142Z"
   },
   {
    "duration": 3,
    "start_time": "2022-06-05T22:29:34.290Z"
   },
   {
    "duration": 5,
    "start_time": "2022-06-05T22:29:37.986Z"
   },
   {
    "duration": 19,
    "start_time": "2022-06-05T22:30:14.561Z"
   },
   {
    "duration": 14,
    "start_time": "2022-06-05T22:30:20.093Z"
   },
   {
    "duration": 4,
    "start_time": "2022-06-05T22:31:12.683Z"
   },
   {
    "duration": 22,
    "start_time": "2022-06-05T22:31:17.405Z"
   },
   {
    "duration": 4,
    "start_time": "2022-06-05T22:31:25.483Z"
   },
   {
    "duration": 8,
    "start_time": "2022-06-05T22:36:21.392Z"
   },
   {
    "duration": 497,
    "start_time": "2022-06-05T22:37:44.640Z"
   },
   {
    "duration": 63,
    "start_time": "2022-06-05T22:37:45.139Z"
   },
   {
    "duration": 13,
    "start_time": "2022-06-05T22:37:45.204Z"
   },
   {
    "duration": 4,
    "start_time": "2022-06-05T22:37:45.219Z"
   },
   {
    "duration": 8,
    "start_time": "2022-06-05T22:37:45.225Z"
   },
   {
    "duration": 13,
    "start_time": "2022-06-05T22:37:45.235Z"
   },
   {
    "duration": 190,
    "start_time": "2022-06-05T22:37:45.249Z"
   },
   {
    "duration": 32,
    "start_time": "2022-06-05T22:37:45.441Z"
   },
   {
    "duration": 12,
    "start_time": "2022-06-05T22:37:45.479Z"
   },
   {
    "duration": 15,
    "start_time": "2022-06-05T22:37:45.493Z"
   },
   {
    "duration": 13,
    "start_time": "2022-06-05T22:38:32.505Z"
   },
   {
    "duration": 16,
    "start_time": "2022-06-05T22:38:45.433Z"
   },
   {
    "duration": 25,
    "start_time": "2022-06-05T22:39:09.514Z"
   },
   {
    "duration": 14,
    "start_time": "2022-06-05T22:39:17.015Z"
   },
   {
    "duration": 51,
    "start_time": "2022-06-05T22:39:41.090Z"
   },
   {
    "duration": 14,
    "start_time": "2022-06-05T22:40:11.881Z"
   },
   {
    "duration": 20,
    "start_time": "2022-06-05T22:41:03.437Z"
   },
   {
    "duration": 23,
    "start_time": "2022-06-05T22:41:09.269Z"
   },
   {
    "duration": 19,
    "start_time": "2022-06-05T22:41:25.904Z"
   },
   {
    "duration": 20,
    "start_time": "2022-06-05T22:41:31.112Z"
   },
   {
    "duration": 15,
    "start_time": "2022-06-05T22:41:37.680Z"
   },
   {
    "duration": 1015,
    "start_time": "2022-06-06T16:59:14.526Z"
   },
   {
    "duration": 200,
    "start_time": "2022-06-06T16:59:15.546Z"
   },
   {
    "duration": 15,
    "start_time": "2022-06-06T16:59:15.748Z"
   },
   {
    "duration": 13,
    "start_time": "2022-06-06T16:59:15.766Z"
   },
   {
    "duration": 15,
    "start_time": "2022-06-06T16:59:15.781Z"
   },
   {
    "duration": 33,
    "start_time": "2022-06-06T16:59:15.798Z"
   },
   {
    "duration": 806,
    "start_time": "2022-06-06T16:59:15.833Z"
   },
   {
    "duration": 29,
    "start_time": "2022-06-06T16:59:16.643Z"
   },
   {
    "duration": 6,
    "start_time": "2022-06-06T16:59:16.675Z"
   },
   {
    "duration": 29,
    "start_time": "2022-06-06T16:59:16.701Z"
   },
   {
    "duration": 50,
    "start_time": "2022-06-06T17:11:11.120Z"
   },
   {
    "duration": 49,
    "start_time": "2022-06-06T17:11:19.728Z"
   },
   {
    "duration": 814,
    "start_time": "2022-06-06T17:11:43.962Z"
   },
   {
    "duration": 878,
    "start_time": "2022-06-06T17:12:00.591Z"
   },
   {
    "duration": 3,
    "start_time": "2022-06-06T17:12:10.194Z"
   },
   {
    "duration": 122,
    "start_time": "2022-06-06T17:12:10.200Z"
   },
   {
    "duration": 31,
    "start_time": "2022-06-06T17:12:10.325Z"
   },
   {
    "duration": 9,
    "start_time": "2022-06-06T17:12:10.363Z"
   },
   {
    "duration": 19,
    "start_time": "2022-06-06T17:12:10.376Z"
   },
   {
    "duration": 67,
    "start_time": "2022-06-06T17:12:10.398Z"
   },
   {
    "duration": 270,
    "start_time": "2022-06-06T17:12:10.467Z"
   },
   {
    "duration": 19,
    "start_time": "2022-06-06T17:12:10.739Z"
   },
   {
    "duration": 6,
    "start_time": "2022-06-06T17:12:10.761Z"
   },
   {
    "duration": 46,
    "start_time": "2022-06-06T17:12:10.769Z"
   },
   {
    "duration": 566,
    "start_time": "2022-06-06T17:12:10.817Z"
   },
   {
    "duration": 25,
    "start_time": "2022-06-06T17:21:30.992Z"
   },
   {
    "duration": 16,
    "start_time": "2022-06-06T17:24:44.819Z"
   },
   {
    "duration": 223,
    "start_time": "2022-06-06T17:25:46.298Z"
   },
   {
    "duration": 31,
    "start_time": "2022-06-06T17:26:36.297Z"
   },
   {
    "duration": 11,
    "start_time": "2022-06-06T17:27:15.669Z"
   },
   {
    "duration": 10,
    "start_time": "2022-06-06T17:27:53.452Z"
   },
   {
    "duration": 14,
    "start_time": "2022-06-06T18:43:13.901Z"
   },
   {
    "duration": 637,
    "start_time": "2022-06-06T18:43:22.554Z"
   },
   {
    "duration": 683,
    "start_time": "2022-06-06T18:49:20.568Z"
   },
   {
    "duration": 1001,
    "start_time": "2022-06-06T18:49:38.130Z"
   },
   {
    "duration": 4,
    "start_time": "2022-06-06T18:49:44.854Z"
   },
   {
    "duration": 74,
    "start_time": "2022-06-06T18:49:44.860Z"
   },
   {
    "duration": 18,
    "start_time": "2022-06-06T18:49:44.936Z"
   },
   {
    "duration": 7,
    "start_time": "2022-06-06T18:49:44.956Z"
   },
   {
    "duration": 20,
    "start_time": "2022-06-06T18:49:44.966Z"
   },
   {
    "duration": 53,
    "start_time": "2022-06-06T18:49:44.988Z"
   },
   {
    "duration": 291,
    "start_time": "2022-06-06T18:49:45.046Z"
   },
   {
    "duration": 21,
    "start_time": "2022-06-06T18:49:45.342Z"
   },
   {
    "duration": 23,
    "start_time": "2022-06-06T18:49:45.365Z"
   },
   {
    "duration": 15,
    "start_time": "2022-06-06T18:49:45.390Z"
   },
   {
    "duration": 24,
    "start_time": "2022-06-06T18:49:45.406Z"
   },
   {
    "duration": 29,
    "start_time": "2022-06-06T18:49:45.432Z"
   },
   {
    "duration": 299,
    "start_time": "2022-06-06T18:50:16.881Z"
   },
   {
    "duration": 2,
    "start_time": "2022-06-06T18:50:21.780Z"
   },
   {
    "duration": 86,
    "start_time": "2022-06-06T18:50:21.784Z"
   },
   {
    "duration": 13,
    "start_time": "2022-06-06T18:50:21.872Z"
   },
   {
    "duration": 5,
    "start_time": "2022-06-06T18:50:21.887Z"
   },
   {
    "duration": 40,
    "start_time": "2022-06-06T18:50:21.894Z"
   },
   {
    "duration": 17,
    "start_time": "2022-06-06T18:50:21.935Z"
   },
   {
    "duration": 213,
    "start_time": "2022-06-06T18:50:21.954Z"
   },
   {
    "duration": 242,
    "start_time": "2022-06-06T18:50:22.169Z"
   },
   {
    "duration": 21,
    "start_time": "2022-06-06T18:50:22.425Z"
   },
   {
    "duration": 15,
    "start_time": "2022-06-06T18:50:22.448Z"
   },
   {
    "duration": 8,
    "start_time": "2022-06-06T18:50:22.466Z"
   },
   {
    "duration": 40,
    "start_time": "2022-06-06T18:50:22.477Z"
   },
   {
    "duration": 221,
    "start_time": "2022-06-06T18:50:36.856Z"
   },
   {
    "duration": 23,
    "start_time": "2022-06-06T18:51:02.584Z"
   },
   {
    "duration": 18,
    "start_time": "2022-06-06T18:54:25.838Z"
   },
   {
    "duration": 5,
    "start_time": "2022-06-06T18:54:37.202Z"
   },
   {
    "duration": 16,
    "start_time": "2022-06-06T18:54:40.356Z"
   },
   {
    "duration": 11,
    "start_time": "2022-06-06T18:54:47.906Z"
   },
   {
    "duration": 57,
    "start_time": "2022-06-06T18:54:47.919Z"
   },
   {
    "duration": 16,
    "start_time": "2022-06-06T18:54:47.978Z"
   },
   {
    "duration": 7,
    "start_time": "2022-06-06T18:54:47.997Z"
   },
   {
    "duration": 30,
    "start_time": "2022-06-06T18:54:48.008Z"
   },
   {
    "duration": 19,
    "start_time": "2022-06-06T18:54:48.040Z"
   },
   {
    "duration": 259,
    "start_time": "2022-06-06T18:54:48.061Z"
   },
   {
    "duration": 14,
    "start_time": "2022-06-06T18:54:48.322Z"
   },
   {
    "duration": 28,
    "start_time": "2022-06-06T18:54:48.338Z"
   },
   {
    "duration": 56,
    "start_time": "2022-06-06T18:54:48.370Z"
   },
   {
    "duration": 16,
    "start_time": "2022-06-06T18:54:48.433Z"
   },
   {
    "duration": 4,
    "start_time": "2022-06-06T18:54:48.452Z"
   },
   {
    "duration": 30,
    "start_time": "2022-06-06T18:54:48.458Z"
   },
   {
    "duration": 14,
    "start_time": "2022-06-06T18:56:11.175Z"
   },
   {
    "duration": 4,
    "start_time": "2022-06-06T18:56:23.777Z"
   },
   {
    "duration": 85,
    "start_time": "2022-06-06T18:56:23.785Z"
   },
   {
    "duration": 19,
    "start_time": "2022-06-06T18:56:23.872Z"
   },
   {
    "duration": 6,
    "start_time": "2022-06-06T18:56:23.893Z"
   },
   {
    "duration": 22,
    "start_time": "2022-06-06T18:56:23.904Z"
   },
   {
    "duration": 20,
    "start_time": "2022-06-06T18:56:23.928Z"
   },
   {
    "duration": 211,
    "start_time": "2022-06-06T18:56:23.949Z"
   },
   {
    "duration": 14,
    "start_time": "2022-06-06T18:56:24.162Z"
   },
   {
    "duration": 35,
    "start_time": "2022-06-06T18:56:24.178Z"
   },
   {
    "duration": 21,
    "start_time": "2022-06-06T18:56:24.220Z"
   },
   {
    "duration": 16,
    "start_time": "2022-06-06T18:56:24.244Z"
   },
   {
    "duration": 5,
    "start_time": "2022-06-06T18:56:24.262Z"
   },
   {
    "duration": 23,
    "start_time": "2022-06-06T18:56:24.268Z"
   },
   {
    "duration": 4,
    "start_time": "2022-06-06T20:26:17.574Z"
   },
   {
    "duration": 104,
    "start_time": "2022-06-06T20:26:17.581Z"
   },
   {
    "duration": 20,
    "start_time": "2022-06-06T20:26:17.688Z"
   },
   {
    "duration": 7,
    "start_time": "2022-06-06T20:26:17.711Z"
   },
   {
    "duration": 13,
    "start_time": "2022-06-06T20:26:17.722Z"
   },
   {
    "duration": 16,
    "start_time": "2022-06-06T20:26:17.737Z"
   },
   {
    "duration": 325,
    "start_time": "2022-06-06T20:26:17.754Z"
   },
   {
    "duration": 33,
    "start_time": "2022-06-06T20:26:18.081Z"
   },
   {
    "duration": 17,
    "start_time": "2022-06-06T20:26:18.117Z"
   },
   {
    "duration": 21,
    "start_time": "2022-06-06T20:26:18.136Z"
   },
   {
    "duration": 18,
    "start_time": "2022-06-06T20:26:18.159Z"
   },
   {
    "duration": 5,
    "start_time": "2022-06-06T20:26:18.179Z"
   },
   {
    "duration": 37,
    "start_time": "2022-06-06T20:26:18.186Z"
   },
   {
    "duration": 848,
    "start_time": "2022-06-07T16:56:28.041Z"
   },
   {
    "duration": 441,
    "start_time": "2022-06-07T16:56:28.891Z"
   },
   {
    "duration": 14,
    "start_time": "2022-06-07T16:56:29.334Z"
   },
   {
    "duration": 5,
    "start_time": "2022-06-07T16:56:29.350Z"
   },
   {
    "duration": 9,
    "start_time": "2022-06-07T16:56:29.357Z"
   },
   {
    "duration": 19,
    "start_time": "2022-06-07T16:56:29.367Z"
   },
   {
    "duration": 674,
    "start_time": "2022-06-07T16:56:29.389Z"
   },
   {
    "duration": 16,
    "start_time": "2022-06-07T16:56:30.064Z"
   },
   {
    "duration": 21,
    "start_time": "2022-06-07T16:56:30.095Z"
   },
   {
    "duration": 21,
    "start_time": "2022-06-07T16:56:30.123Z"
   },
   {
    "duration": 21,
    "start_time": "2022-06-07T16:56:30.146Z"
   },
   {
    "duration": 6,
    "start_time": "2022-06-07T16:56:30.169Z"
   },
   {
    "duration": 27,
    "start_time": "2022-06-07T16:56:30.177Z"
   },
   {
    "duration": 5,
    "start_time": "2022-06-07T16:57:08.119Z"
   },
   {
    "duration": 559,
    "start_time": "2022-06-07T16:57:10.913Z"
   },
   {
    "duration": 2,
    "start_time": "2022-06-07T16:57:16.584Z"
   },
   {
    "duration": 55,
    "start_time": "2022-06-07T16:57:16.594Z"
   },
   {
    "duration": 11,
    "start_time": "2022-06-07T16:57:16.651Z"
   },
   {
    "duration": 4,
    "start_time": "2022-06-07T16:57:16.664Z"
   },
   {
    "duration": 10,
    "start_time": "2022-06-07T16:57:16.670Z"
   },
   {
    "duration": 29,
    "start_time": "2022-06-07T16:57:16.682Z"
   },
   {
    "duration": 144,
    "start_time": "2022-06-07T16:57:16.712Z"
   },
   {
    "duration": 11,
    "start_time": "2022-06-07T16:57:16.857Z"
   },
   {
    "duration": 11,
    "start_time": "2022-06-07T16:57:16.870Z"
   },
   {
    "duration": 24,
    "start_time": "2022-06-07T16:57:16.882Z"
   },
   {
    "duration": 19,
    "start_time": "2022-06-07T16:57:19.694Z"
   },
   {
    "duration": 9,
    "start_time": "2022-06-07T16:57:20.977Z"
   },
   {
    "duration": 436,
    "start_time": "2022-06-07T17:16:54.243Z"
   },
   {
    "duration": 2,
    "start_time": "2022-06-07T17:17:00.709Z"
   },
   {
    "duration": 59,
    "start_time": "2022-06-07T17:17:00.713Z"
   },
   {
    "duration": 11,
    "start_time": "2022-06-07T17:17:00.773Z"
   },
   {
    "duration": 7,
    "start_time": "2022-06-07T17:17:00.785Z"
   },
   {
    "duration": 8,
    "start_time": "2022-06-07T17:17:00.793Z"
   },
   {
    "duration": 32,
    "start_time": "2022-06-07T17:17:00.802Z"
   },
   {
    "duration": 140,
    "start_time": "2022-06-07T17:17:00.835Z"
   },
   {
    "duration": 18,
    "start_time": "2022-06-07T17:17:00.977Z"
   },
   {
    "duration": 12,
    "start_time": "2022-06-07T17:17:00.996Z"
   },
   {
    "duration": 21,
    "start_time": "2022-06-07T17:17:01.011Z"
   },
   {
    "duration": 6,
    "start_time": "2022-06-07T17:17:03.554Z"
   },
   {
    "duration": 436,
    "start_time": "2022-06-07T17:17:10.028Z"
   },
   {
    "duration": 417,
    "start_time": "2022-06-07T17:17:19.404Z"
   },
   {
    "duration": 774,
    "start_time": "2022-06-07T17:17:51.314Z"
   },
   {
    "duration": 55,
    "start_time": "2022-06-07T17:17:55.150Z"
   },
   {
    "duration": 12,
    "start_time": "2022-06-07T17:17:57.489Z"
   },
   {
    "duration": 3,
    "start_time": "2022-06-07T17:17:58.628Z"
   },
   {
    "duration": 5,
    "start_time": "2022-06-07T17:17:59.798Z"
   },
   {
    "duration": 18,
    "start_time": "2022-06-07T17:18:01.370Z"
   },
   {
    "duration": 479,
    "start_time": "2022-06-07T17:18:04.044Z"
   },
   {
    "duration": 17,
    "start_time": "2022-06-07T17:18:05.660Z"
   },
   {
    "duration": 12,
    "start_time": "2022-06-07T17:18:07.233Z"
   },
   {
    "duration": 15,
    "start_time": "2022-06-07T17:18:30.061Z"
   },
   {
    "duration": 104,
    "start_time": "2022-06-07T17:19:10.723Z"
   },
   {
    "duration": 24,
    "start_time": "2022-06-07T17:19:22.169Z"
   },
   {
    "duration": 26,
    "start_time": "2022-06-07T17:24:37.417Z"
   },
   {
    "duration": 21,
    "start_time": "2022-06-07T17:25:10.150Z"
   },
   {
    "duration": 9,
    "start_time": "2022-06-07T17:25:31.346Z"
   },
   {
    "duration": 19,
    "start_time": "2022-06-07T17:25:33.442Z"
   },
   {
    "duration": 14,
    "start_time": "2022-06-07T17:25:41.710Z"
   },
   {
    "duration": 5,
    "start_time": "2022-06-07T17:42:50.144Z"
   },
   {
    "duration": 14,
    "start_time": "2022-06-07T17:42:51.468Z"
   },
   {
    "duration": 150,
    "start_time": "2022-06-07T17:58:01.560Z"
   },
   {
    "duration": 894,
    "start_time": "2022-06-07T17:58:21.616Z"
   },
   {
    "duration": 57,
    "start_time": "2022-06-07T17:58:22.512Z"
   },
   {
    "duration": 14,
    "start_time": "2022-06-07T17:58:22.570Z"
   },
   {
    "duration": 4,
    "start_time": "2022-06-07T17:58:22.586Z"
   },
   {
    "duration": 6,
    "start_time": "2022-06-07T17:58:22.591Z"
   },
   {
    "duration": 14,
    "start_time": "2022-06-07T17:58:22.598Z"
   },
   {
    "duration": 599,
    "start_time": "2022-06-07T17:58:24.845Z"
   },
   {
    "duration": 137,
    "start_time": "2022-06-07T17:58:34.652Z"
   },
   {
    "duration": 17,
    "start_time": "2022-06-07T18:03:24.352Z"
   },
   {
    "duration": 17,
    "start_time": "2022-06-07T18:03:36.596Z"
   },
   {
    "duration": 12,
    "start_time": "2022-06-07T18:03:48.005Z"
   },
   {
    "duration": 154,
    "start_time": "2022-06-07T18:03:54.449Z"
   },
   {
    "duration": 11,
    "start_time": "2022-06-07T18:04:32.768Z"
   },
   {
    "duration": 197,
    "start_time": "2022-06-07T18:04:37.369Z"
   },
   {
    "duration": 144,
    "start_time": "2022-06-07T18:04:40.951Z"
   },
   {
    "duration": 3,
    "start_time": "2022-06-07T18:04:49.811Z"
   },
   {
    "duration": 61,
    "start_time": "2022-06-07T18:04:49.816Z"
   },
   {
    "duration": 13,
    "start_time": "2022-06-07T18:04:49.879Z"
   },
   {
    "duration": 5,
    "start_time": "2022-06-07T18:04:49.893Z"
   },
   {
    "duration": 7,
    "start_time": "2022-06-07T18:04:49.899Z"
   },
   {
    "duration": 12,
    "start_time": "2022-06-07T18:04:49.907Z"
   },
   {
    "duration": 170,
    "start_time": "2022-06-07T18:04:49.921Z"
   },
   {
    "duration": 142,
    "start_time": "2022-06-07T18:04:52.169Z"
   },
   {
    "duration": 139,
    "start_time": "2022-06-07T18:05:00.915Z"
   },
   {
    "duration": 2,
    "start_time": "2022-06-07T18:05:05.905Z"
   },
   {
    "duration": 59,
    "start_time": "2022-06-07T18:05:05.909Z"
   },
   {
    "duration": 10,
    "start_time": "2022-06-07T18:05:05.970Z"
   },
   {
    "duration": 3,
    "start_time": "2022-06-07T18:05:05.981Z"
   },
   {
    "duration": 6,
    "start_time": "2022-06-07T18:05:05.986Z"
   },
   {
    "duration": 13,
    "start_time": "2022-06-07T18:05:05.993Z"
   },
   {
    "duration": 160,
    "start_time": "2022-06-07T18:05:06.007Z"
   },
   {
    "duration": 271,
    "start_time": "2022-06-07T18:05:07.407Z"
   },
   {
    "duration": 180,
    "start_time": "2022-06-07T18:05:22.864Z"
   },
   {
    "duration": 3,
    "start_time": "2022-06-07T18:05:26.168Z"
   },
   {
    "duration": 77,
    "start_time": "2022-06-07T18:05:26.173Z"
   },
   {
    "duration": 12,
    "start_time": "2022-06-07T18:05:26.252Z"
   },
   {
    "duration": 4,
    "start_time": "2022-06-07T18:05:26.266Z"
   },
   {
    "duration": 12,
    "start_time": "2022-06-07T18:05:26.272Z"
   },
   {
    "duration": 21,
    "start_time": "2022-06-07T18:05:26.285Z"
   },
   {
    "duration": 168,
    "start_time": "2022-06-07T18:05:26.307Z"
   },
   {
    "duration": 146,
    "start_time": "2022-06-07T18:05:29.286Z"
   },
   {
    "duration": 6,
    "start_time": "2022-06-07T18:05:57.862Z"
   },
   {
    "duration": 4,
    "start_time": "2022-06-07T18:06:05.604Z"
   },
   {
    "duration": 8,
    "start_time": "2022-06-07T18:06:13.607Z"
   },
   {
    "duration": 9,
    "start_time": "2022-06-07T18:06:18.008Z"
   },
   {
    "duration": 10,
    "start_time": "2022-06-07T18:06:24.553Z"
   },
   {
    "duration": 10,
    "start_time": "2022-06-07T18:06:26.592Z"
   },
   {
    "duration": 8,
    "start_time": "2022-06-07T18:06:28.961Z"
   },
   {
    "duration": 7,
    "start_time": "2022-06-07T18:06:39.607Z"
   },
   {
    "duration": 2,
    "start_time": "2022-06-07T18:06:56.466Z"
   },
   {
    "duration": 60,
    "start_time": "2022-06-07T18:06:56.470Z"
   },
   {
    "duration": 11,
    "start_time": "2022-06-07T18:06:56.532Z"
   },
   {
    "duration": 4,
    "start_time": "2022-06-07T18:06:56.544Z"
   },
   {
    "duration": 5,
    "start_time": "2022-06-07T18:06:56.551Z"
   },
   {
    "duration": 13,
    "start_time": "2022-06-07T18:06:56.557Z"
   },
   {
    "duration": 168,
    "start_time": "2022-06-07T18:06:56.572Z"
   },
   {
    "duration": 5,
    "start_time": "2022-06-07T18:06:58.471Z"
   },
   {
    "duration": 2,
    "start_time": "2022-06-07T18:12:04.932Z"
   },
   {
    "duration": 59,
    "start_time": "2022-06-07T18:12:04.937Z"
   },
   {
    "duration": 11,
    "start_time": "2022-06-07T18:12:04.997Z"
   },
   {
    "duration": 3,
    "start_time": "2022-06-07T18:12:05.009Z"
   },
   {
    "duration": 5,
    "start_time": "2022-06-07T18:12:05.014Z"
   },
   {
    "duration": 12,
    "start_time": "2022-06-07T18:12:05.021Z"
   },
   {
    "duration": 161,
    "start_time": "2022-06-07T18:12:05.034Z"
   },
   {
    "duration": 5,
    "start_time": "2022-06-07T18:12:06.917Z"
   },
   {
    "duration": 6,
    "start_time": "2022-06-07T18:12:26.734Z"
   },
   {
    "duration": 6,
    "start_time": "2022-06-07T18:12:30.169Z"
   },
   {
    "duration": 4,
    "start_time": "2022-06-07T18:13:06.852Z"
   },
   {
    "duration": 22,
    "start_time": "2022-06-07T18:13:43.175Z"
   },
   {
    "duration": 3,
    "start_time": "2022-06-07T18:13:53.510Z"
   },
   {
    "duration": 59,
    "start_time": "2022-06-07T18:13:53.515Z"
   },
   {
    "duration": 11,
    "start_time": "2022-06-07T18:13:53.576Z"
   },
   {
    "duration": 5,
    "start_time": "2022-06-07T18:13:53.589Z"
   },
   {
    "duration": 6,
    "start_time": "2022-06-07T18:13:53.596Z"
   },
   {
    "duration": 19,
    "start_time": "2022-06-07T18:13:53.603Z"
   },
   {
    "duration": 160,
    "start_time": "2022-06-07T18:13:53.624Z"
   },
   {
    "duration": 14,
    "start_time": "2022-06-07T18:14:57.892Z"
   },
   {
    "duration": 13,
    "start_time": "2022-06-07T18:15:11.597Z"
   },
   {
    "duration": 5,
    "start_time": "2022-06-07T18:16:14.606Z"
   },
   {
    "duration": 20,
    "start_time": "2022-06-07T18:16:53.356Z"
   },
   {
    "duration": 17,
    "start_time": "2022-06-07T18:17:15.323Z"
   },
   {
    "duration": 3,
    "start_time": "2022-06-07T18:18:05.166Z"
   },
   {
    "duration": 72,
    "start_time": "2022-06-07T18:18:05.171Z"
   },
   {
    "duration": 10,
    "start_time": "2022-06-07T18:18:05.245Z"
   },
   {
    "duration": 6,
    "start_time": "2022-06-07T18:18:05.257Z"
   },
   {
    "duration": 8,
    "start_time": "2022-06-07T18:18:05.264Z"
   },
   {
    "duration": 34,
    "start_time": "2022-06-07T18:18:05.274Z"
   },
   {
    "duration": 206,
    "start_time": "2022-06-07T18:18:05.310Z"
   },
   {
    "duration": 6,
    "start_time": "2022-06-07T18:18:05.518Z"
   },
   {
    "duration": 14,
    "start_time": "2022-06-07T18:18:11.942Z"
   },
   {
    "duration": 17,
    "start_time": "2022-06-07T18:18:46.898Z"
   },
   {
    "duration": 10,
    "start_time": "2022-06-07T18:19:42.904Z"
   },
   {
    "duration": 28,
    "start_time": "2022-06-07T18:19:56.535Z"
   },
   {
    "duration": 29,
    "start_time": "2022-06-07T18:20:01.015Z"
   },
   {
    "duration": 6,
    "start_time": "2022-06-07T18:20:13.192Z"
   },
   {
    "duration": 23,
    "start_time": "2022-06-07T18:20:37.547Z"
   },
   {
    "duration": 12,
    "start_time": "2022-06-07T18:21:05.910Z"
   },
   {
    "duration": 12,
    "start_time": "2022-06-07T18:21:10.738Z"
   },
   {
    "duration": 15,
    "start_time": "2022-06-07T18:21:40.782Z"
   },
   {
    "duration": 13,
    "start_time": "2022-06-07T18:21:59.022Z"
   },
   {
    "duration": 14,
    "start_time": "2022-06-07T18:22:08.983Z"
   },
   {
    "duration": 18,
    "start_time": "2022-06-07T18:22:23.777Z"
   },
   {
    "duration": 13,
    "start_time": "2022-06-07T18:22:30.693Z"
   },
   {
    "duration": 13,
    "start_time": "2022-06-07T18:22:41.384Z"
   },
   {
    "duration": 5,
    "start_time": "2022-06-07T18:22:55.278Z"
   },
   {
    "duration": 5,
    "start_time": "2022-06-07T18:22:59.597Z"
   },
   {
    "duration": 6,
    "start_time": "2022-06-07T18:23:02.367Z"
   },
   {
    "duration": 12,
    "start_time": "2022-06-07T18:23:16.424Z"
   },
   {
    "duration": 12,
    "start_time": "2022-06-07T18:23:20.150Z"
   },
   {
    "duration": 14,
    "start_time": "2022-06-07T18:23:24.301Z"
   },
   {
    "duration": 30,
    "start_time": "2022-06-07T18:23:42.290Z"
   },
   {
    "duration": 15,
    "start_time": "2022-06-07T18:23:54.035Z"
   },
   {
    "duration": 19,
    "start_time": "2022-06-07T18:23:55.181Z"
   },
   {
    "duration": 2,
    "start_time": "2022-06-07T18:24:53.334Z"
   },
   {
    "duration": 5,
    "start_time": "2022-06-07T18:24:59.617Z"
   },
   {
    "duration": 4,
    "start_time": "2022-06-07T18:25:09.559Z"
   },
   {
    "duration": 4,
    "start_time": "2022-06-07T18:25:20.581Z"
   },
   {
    "duration": 4,
    "start_time": "2022-06-07T18:25:25.445Z"
   },
   {
    "duration": 16,
    "start_time": "2022-06-07T18:25:53.974Z"
   },
   {
    "duration": 7,
    "start_time": "2022-06-07T18:25:54.892Z"
   },
   {
    "duration": 3,
    "start_time": "2022-06-07T18:37:21.242Z"
   },
   {
    "duration": 2,
    "start_time": "2022-06-07T18:37:38.050Z"
   },
   {
    "duration": 158,
    "start_time": "2022-06-07T18:37:38.054Z"
   },
   {
    "duration": 11,
    "start_time": "2022-06-07T18:37:38.213Z"
   },
   {
    "duration": 4,
    "start_time": "2022-06-07T18:37:38.225Z"
   },
   {
    "duration": 7,
    "start_time": "2022-06-07T18:37:38.231Z"
   },
   {
    "duration": 15,
    "start_time": "2022-06-07T18:37:38.240Z"
   },
   {
    "duration": 148,
    "start_time": "2022-06-07T18:37:39.954Z"
   },
   {
    "duration": 4,
    "start_time": "2022-06-07T18:38:50.437Z"
   },
   {
    "duration": 134,
    "start_time": "2022-06-07T18:38:54.480Z"
   },
   {
    "duration": 3,
    "start_time": "2022-06-07T18:39:01.556Z"
   },
   {
    "duration": 132,
    "start_time": "2022-06-07T18:39:03.337Z"
   },
   {
    "duration": 2,
    "start_time": "2022-06-07T18:39:08.240Z"
   },
   {
    "duration": 49,
    "start_time": "2022-06-07T18:39:08.244Z"
   },
   {
    "duration": 9,
    "start_time": "2022-06-07T18:39:08.295Z"
   },
   {
    "duration": 4,
    "start_time": "2022-06-07T18:39:08.305Z"
   },
   {
    "duration": 7,
    "start_time": "2022-06-07T18:39:08.310Z"
   },
   {
    "duration": 13,
    "start_time": "2022-06-07T18:39:08.318Z"
   },
   {
    "duration": 157,
    "start_time": "2022-06-07T18:39:08.332Z"
   },
   {
    "duration": 3,
    "start_time": "2022-06-07T18:39:08.493Z"
   },
   {
    "duration": 4,
    "start_time": "2022-06-07T18:39:13.051Z"
   },
   {
    "duration": 148,
    "start_time": "2022-06-07T18:39:15.540Z"
   },
   {
    "duration": 2,
    "start_time": "2022-06-07T18:40:53.425Z"
   },
   {
    "duration": 57,
    "start_time": "2022-06-07T18:40:53.429Z"
   },
   {
    "duration": 18,
    "start_time": "2022-06-07T18:40:53.488Z"
   },
   {
    "duration": 9,
    "start_time": "2022-06-07T18:40:53.507Z"
   },
   {
    "duration": 6,
    "start_time": "2022-06-07T18:40:53.517Z"
   },
   {
    "duration": 15,
    "start_time": "2022-06-07T18:40:53.524Z"
   },
   {
    "duration": 150,
    "start_time": "2022-06-07T18:40:53.540Z"
   },
   {
    "duration": 9,
    "start_time": "2022-06-07T18:41:33.890Z"
   },
   {
    "duration": 36,
    "start_time": "2022-06-07T18:41:39.481Z"
   },
   {
    "duration": 26,
    "start_time": "2022-06-07T18:41:53.745Z"
   },
   {
    "duration": 5,
    "start_time": "2022-06-07T18:42:08.817Z"
   },
   {
    "duration": 6,
    "start_time": "2022-06-07T18:42:12.545Z"
   },
   {
    "duration": 5,
    "start_time": "2022-06-07T18:42:15.309Z"
   },
   {
    "duration": 30,
    "start_time": "2022-06-07T18:42:20.119Z"
   },
   {
    "duration": 8,
    "start_time": "2022-06-07T18:42:32.217Z"
   },
   {
    "duration": 6,
    "start_time": "2022-06-07T18:43:35.575Z"
   },
   {
    "duration": 4,
    "start_time": "2022-06-07T18:43:50.114Z"
   },
   {
    "duration": 175,
    "start_time": "2022-06-07T18:43:52.120Z"
   },
   {
    "duration": 3,
    "start_time": "2022-06-07T18:43:59.179Z"
   },
   {
    "duration": 68,
    "start_time": "2022-06-07T18:43:59.184Z"
   },
   {
    "duration": 10,
    "start_time": "2022-06-07T18:43:59.253Z"
   },
   {
    "duration": 4,
    "start_time": "2022-06-07T18:43:59.264Z"
   },
   {
    "duration": 9,
    "start_time": "2022-06-07T18:43:59.270Z"
   },
   {
    "duration": 13,
    "start_time": "2022-06-07T18:43:59.281Z"
   },
   {
    "duration": 165,
    "start_time": "2022-06-07T18:43:59.297Z"
   },
   {
    "duration": 7,
    "start_time": "2022-06-07T18:43:59.464Z"
   },
   {
    "duration": 6,
    "start_time": "2022-06-07T18:43:59.472Z"
   },
   {
    "duration": 270,
    "start_time": "2022-06-07T18:43:59.479Z"
   },
   {
    "duration": 220,
    "start_time": "2022-06-07T18:44:05.967Z"
   },
   {
    "duration": 4,
    "start_time": "2022-06-07T18:44:18.649Z"
   },
   {
    "duration": 200,
    "start_time": "2022-06-07T18:44:19.836Z"
   },
   {
    "duration": 4,
    "start_time": "2022-06-07T18:44:22.178Z"
   },
   {
    "duration": 85,
    "start_time": "2022-06-07T18:44:22.185Z"
   },
   {
    "duration": 14,
    "start_time": "2022-06-07T18:44:22.272Z"
   },
   {
    "duration": 14,
    "start_time": "2022-06-07T18:44:22.288Z"
   },
   {
    "duration": 32,
    "start_time": "2022-06-07T18:44:22.305Z"
   },
   {
    "duration": 29,
    "start_time": "2022-06-07T18:44:22.339Z"
   },
   {
    "duration": 207,
    "start_time": "2022-06-07T18:44:22.370Z"
   },
   {
    "duration": 17,
    "start_time": "2022-06-07T18:44:22.580Z"
   },
   {
    "duration": 8,
    "start_time": "2022-06-07T18:44:22.606Z"
   },
   {
    "duration": 266,
    "start_time": "2022-06-07T18:44:23.970Z"
   },
   {
    "duration": 4,
    "start_time": "2022-06-07T18:44:31.719Z"
   },
   {
    "duration": 164,
    "start_time": "2022-06-07T18:44:34.787Z"
   },
   {
    "duration": 3,
    "start_time": "2022-06-07T18:44:37.887Z"
   },
   {
    "duration": 76,
    "start_time": "2022-06-07T18:44:37.891Z"
   },
   {
    "duration": 10,
    "start_time": "2022-06-07T18:44:37.968Z"
   },
   {
    "duration": 4,
    "start_time": "2022-06-07T18:44:37.979Z"
   },
   {
    "duration": 6,
    "start_time": "2022-06-07T18:44:37.984Z"
   },
   {
    "duration": 20,
    "start_time": "2022-06-07T18:44:37.992Z"
   },
   {
    "duration": 155,
    "start_time": "2022-06-07T18:44:38.013Z"
   },
   {
    "duration": 6,
    "start_time": "2022-06-07T18:44:38.169Z"
   },
   {
    "duration": 19,
    "start_time": "2022-06-07T18:44:38.177Z"
   },
   {
    "duration": 152,
    "start_time": "2022-06-07T18:44:39.436Z"
   },
   {
    "duration": 9,
    "start_time": "2022-06-07T18:47:06.444Z"
   },
   {
    "duration": 3,
    "start_time": "2022-06-07T18:47:10.170Z"
   },
   {
    "duration": 260,
    "start_time": "2022-06-07T18:47:10.214Z"
   },
   {
    "duration": 10,
    "start_time": "2022-06-07T18:47:10.476Z"
   },
   {
    "duration": 4,
    "start_time": "2022-06-07T18:47:10.487Z"
   },
   {
    "duration": 6,
    "start_time": "2022-06-07T18:47:10.492Z"
   },
   {
    "duration": 13,
    "start_time": "2022-06-07T18:47:10.500Z"
   },
   {
    "duration": 154,
    "start_time": "2022-06-07T18:47:10.514Z"
   },
   {
    "duration": 5,
    "start_time": "2022-06-07T18:47:13.489Z"
   },
   {
    "duration": 8,
    "start_time": "2022-06-07T18:47:25.497Z"
   },
   {
    "duration": 172,
    "start_time": "2022-06-07T18:47:26.720Z"
   },
   {
    "duration": 5,
    "start_time": "2022-06-07T18:47:56.860Z"
   },
   {
    "duration": 198,
    "start_time": "2022-06-07T18:47:58.236Z"
   },
   {
    "duration": 4,
    "start_time": "2022-06-07T18:48:08.056Z"
   },
   {
    "duration": 282,
    "start_time": "2022-06-07T18:48:09.979Z"
   },
   {
    "duration": 3,
    "start_time": "2022-06-07T18:48:14.922Z"
   },
   {
    "duration": 49,
    "start_time": "2022-06-07T18:48:14.927Z"
   },
   {
    "duration": 10,
    "start_time": "2022-06-07T18:48:14.978Z"
   },
   {
    "duration": 7,
    "start_time": "2022-06-07T18:48:14.990Z"
   },
   {
    "duration": 29,
    "start_time": "2022-06-07T18:48:15.002Z"
   },
   {
    "duration": 13,
    "start_time": "2022-06-07T18:48:15.033Z"
   },
   {
    "duration": 150,
    "start_time": "2022-06-07T18:48:15.048Z"
   },
   {
    "duration": 8,
    "start_time": "2022-06-07T18:48:15.199Z"
   },
   {
    "duration": 21,
    "start_time": "2022-06-07T18:48:15.208Z"
   },
   {
    "duration": 157,
    "start_time": "2022-06-07T18:48:18.976Z"
   },
   {
    "duration": 8,
    "start_time": "2022-06-07T18:54:24.138Z"
   },
   {
    "duration": 8,
    "start_time": "2022-06-07T18:54:29.841Z"
   },
   {
    "duration": 9,
    "start_time": "2022-06-07T18:54:37.711Z"
   },
   {
    "duration": 4,
    "start_time": "2022-06-07T18:54:47.555Z"
   },
   {
    "duration": 59,
    "start_time": "2022-06-07T18:54:47.561Z"
   },
   {
    "duration": 13,
    "start_time": "2022-06-07T18:54:47.622Z"
   },
   {
    "duration": 7,
    "start_time": "2022-06-07T18:54:47.638Z"
   },
   {
    "duration": 10,
    "start_time": "2022-06-07T18:54:47.647Z"
   },
   {
    "duration": 28,
    "start_time": "2022-06-07T18:54:47.659Z"
   },
   {
    "duration": 135,
    "start_time": "2022-06-07T18:54:52.440Z"
   },
   {
    "duration": 14,
    "start_time": "2022-06-07T18:54:55.071Z"
   },
   {
    "duration": 766,
    "start_time": "2022-06-07T18:56:46.650Z"
   },
   {
    "duration": 65,
    "start_time": "2022-06-07T18:56:47.420Z"
   },
   {
    "duration": 14,
    "start_time": "2022-06-07T18:56:47.487Z"
   },
   {
    "duration": 20,
    "start_time": "2022-06-07T18:56:47.503Z"
   },
   {
    "duration": 14,
    "start_time": "2022-06-07T18:56:47.526Z"
   },
   {
    "duration": 23,
    "start_time": "2022-06-07T18:56:47.541Z"
   },
   {
    "duration": 462,
    "start_time": "2022-06-07T18:56:47.566Z"
   },
   {
    "duration": 14,
    "start_time": "2022-06-07T18:56:54.553Z"
   },
   {
    "duration": 6,
    "start_time": "2022-06-07T18:57:36.874Z"
   },
   {
    "duration": 4,
    "start_time": "2022-06-07T18:57:42.864Z"
   },
   {
    "duration": 5,
    "start_time": "2022-06-07T18:57:53.641Z"
   },
   {
    "duration": 4,
    "start_time": "2022-06-07T19:00:28.233Z"
   },
   {
    "duration": 5,
    "start_time": "2022-06-07T19:00:33.961Z"
   },
   {
    "duration": 5,
    "start_time": "2022-06-07T19:00:39.709Z"
   },
   {
    "duration": 6,
    "start_time": "2022-06-07T19:00:46.952Z"
   },
   {
    "duration": 734,
    "start_time": "2022-06-07T19:01:42.346Z"
   },
   {
    "duration": 52,
    "start_time": "2022-06-07T19:01:43.081Z"
   },
   {
    "duration": 12,
    "start_time": "2022-06-07T19:01:43.134Z"
   },
   {
    "duration": 7,
    "start_time": "2022-06-07T19:01:43.147Z"
   },
   {
    "duration": 5,
    "start_time": "2022-06-07T19:01:43.156Z"
   },
   {
    "duration": 14,
    "start_time": "2022-06-07T19:01:43.162Z"
   },
   {
    "duration": 440,
    "start_time": "2022-06-07T19:01:43.177Z"
   },
   {
    "duration": 15,
    "start_time": "2022-06-07T19:01:43.618Z"
   },
   {
    "duration": 5,
    "start_time": "2022-06-07T19:01:43.635Z"
   },
   {
    "duration": 6,
    "start_time": "2022-06-07T19:01:43.641Z"
   },
   {
    "duration": 16,
    "start_time": "2022-06-07T19:01:43.649Z"
   },
   {
    "duration": 42,
    "start_time": "2022-06-07T19:01:43.666Z"
   },
   {
    "duration": 5,
    "start_time": "2022-06-07T19:01:43.711Z"
   },
   {
    "duration": 26,
    "start_time": "2022-06-07T19:01:43.719Z"
   },
   {
    "duration": 102,
    "start_time": "2022-06-07T19:29:14.224Z"
   },
   {
    "duration": 29,
    "start_time": "2022-06-07T19:30:47.807Z"
   },
   {
    "duration": 27,
    "start_time": "2022-06-07T19:31:28.675Z"
   },
   {
    "duration": 126,
    "start_time": "2022-06-07T19:31:52.017Z"
   },
   {
    "duration": 4,
    "start_time": "2022-06-07T19:32:00.266Z"
   },
   {
    "duration": 3,
    "start_time": "2022-06-07T19:32:05.929Z"
   },
   {
    "duration": 51,
    "start_time": "2022-06-07T19:32:05.934Z"
   },
   {
    "duration": 11,
    "start_time": "2022-06-07T19:32:05.987Z"
   },
   {
    "duration": 5,
    "start_time": "2022-06-07T19:32:06.000Z"
   },
   {
    "duration": 7,
    "start_time": "2022-06-07T19:32:06.006Z"
   },
   {
    "duration": 13,
    "start_time": "2022-06-07T19:32:06.015Z"
   },
   {
    "duration": 168,
    "start_time": "2022-06-07T19:32:06.029Z"
   },
   {
    "duration": 14,
    "start_time": "2022-06-07T19:32:06.199Z"
   },
   {
    "duration": 5,
    "start_time": "2022-06-07T19:32:06.214Z"
   },
   {
    "duration": 10,
    "start_time": "2022-06-07T19:32:06.221Z"
   },
   {
    "duration": 16,
    "start_time": "2022-06-07T19:32:06.232Z"
   },
   {
    "duration": 14,
    "start_time": "2022-06-07T19:32:06.250Z"
   },
   {
    "duration": 31,
    "start_time": "2022-06-07T19:32:06.266Z"
   },
   {
    "duration": 14,
    "start_time": "2022-06-07T19:32:06.299Z"
   },
   {
    "duration": 3,
    "start_time": "2022-06-07T19:33:26.230Z"
   },
   {
    "duration": 35,
    "start_time": "2022-06-07T19:36:19.221Z"
   },
   {
    "duration": 3,
    "start_time": "2022-06-07T19:39:56.962Z"
   },
   {
    "duration": 3,
    "start_time": "2022-06-07T19:40:06.051Z"
   },
   {
    "duration": 52,
    "start_time": "2022-06-07T19:40:06.056Z"
   },
   {
    "duration": 10,
    "start_time": "2022-06-07T19:40:06.109Z"
   },
   {
    "duration": 4,
    "start_time": "2022-06-07T19:40:06.120Z"
   },
   {
    "duration": 5,
    "start_time": "2022-06-07T19:40:06.126Z"
   },
   {
    "duration": 14,
    "start_time": "2022-06-07T19:40:06.132Z"
   },
   {
    "duration": 156,
    "start_time": "2022-06-07T19:40:06.147Z"
   },
   {
    "duration": 13,
    "start_time": "2022-06-07T19:40:06.305Z"
   },
   {
    "duration": 5,
    "start_time": "2022-06-07T19:40:06.319Z"
   },
   {
    "duration": 7,
    "start_time": "2022-06-07T19:40:06.325Z"
   },
   {
    "duration": 13,
    "start_time": "2022-06-07T19:40:06.333Z"
   },
   {
    "duration": 15,
    "start_time": "2022-06-07T19:40:06.347Z"
   },
   {
    "duration": 31,
    "start_time": "2022-06-07T19:40:06.363Z"
   },
   {
    "duration": 13,
    "start_time": "2022-06-07T19:40:06.396Z"
   },
   {
    "duration": 40,
    "start_time": "2022-06-07T19:42:24.856Z"
   },
   {
    "duration": 25,
    "start_time": "2022-06-07T19:47:27.406Z"
   },
   {
    "duration": 17,
    "start_time": "2022-06-07T19:47:36.060Z"
   },
   {
    "duration": 56189,
    "start_time": "2022-06-07T19:48:06.578Z"
   },
   {
    "duration": 56155,
    "start_time": "2022-06-07T19:52:42.124Z"
   },
   {
    "duration": 14,
    "start_time": "2022-06-07T20:17:39.955Z"
   },
   {
    "duration": 4,
    "start_time": "2022-06-07T20:17:53.034Z"
   },
   {
    "duration": 5,
    "start_time": "2022-06-07T20:19:05.381Z"
   },
   {
    "duration": 57884,
    "start_time": "2022-06-07T20:21:32.875Z"
   },
   {
    "duration": 4,
    "start_time": "2022-06-07T20:23:24.429Z"
   },
   {
    "duration": 57090,
    "start_time": "2022-06-07T20:23:31.252Z"
   },
   {
    "duration": 55925,
    "start_time": "2022-06-07T20:27:45.936Z"
   },
   {
    "duration": 56697,
    "start_time": "2022-06-07T20:39:54.573Z"
   },
   {
    "duration": 55597,
    "start_time": "2022-06-07T20:44:57.942Z"
   },
   {
    "duration": 55275,
    "start_time": "2022-06-07T20:49:27.595Z"
   },
   {
    "duration": 43,
    "start_time": "2022-06-07T20:51:24.573Z"
   },
   {
    "duration": 46,
    "start_time": "2022-06-07T20:51:31.166Z"
   },
   {
    "duration": 41,
    "start_time": "2022-06-07T20:51:41.716Z"
   },
   {
    "duration": 42,
    "start_time": "2022-06-07T20:51:54.536Z"
   },
   {
    "duration": 3,
    "start_time": "2022-06-07T20:52:02.719Z"
   },
   {
    "duration": 58,
    "start_time": "2022-06-07T20:52:02.723Z"
   },
   {
    "duration": 10,
    "start_time": "2022-06-07T20:52:02.782Z"
   },
   {
    "duration": 31,
    "start_time": "2022-06-07T20:52:02.794Z"
   },
   {
    "duration": 18,
    "start_time": "2022-06-07T20:52:02.827Z"
   },
   {
    "duration": 14,
    "start_time": "2022-06-07T20:52:02.846Z"
   },
   {
    "duration": 157,
    "start_time": "2022-06-07T20:52:02.862Z"
   },
   {
    "duration": 13,
    "start_time": "2022-06-07T20:52:03.021Z"
   },
   {
    "duration": 9,
    "start_time": "2022-06-07T20:52:03.035Z"
   },
   {
    "duration": 6,
    "start_time": "2022-06-07T20:52:03.046Z"
   },
   {
    "duration": 16,
    "start_time": "2022-06-07T20:52:03.054Z"
   },
   {
    "duration": 25,
    "start_time": "2022-06-07T20:52:03.071Z"
   },
   {
    "duration": 5,
    "start_time": "2022-06-07T20:52:03.098Z"
   },
   {
    "duration": 38,
    "start_time": "2022-06-07T20:52:03.105Z"
   },
   {
    "duration": 9,
    "start_time": "2022-06-07T20:52:03.145Z"
   },
   {
    "duration": 46,
    "start_time": "2022-06-07T20:52:03.155Z"
   },
   {
    "duration": 7,
    "start_time": "2022-06-07T20:52:03.202Z"
   },
   {
    "duration": 41,
    "start_time": "2022-06-07T20:52:19.716Z"
   },
   {
    "duration": 45,
    "start_time": "2022-06-07T20:52:45.173Z"
   },
   {
    "duration": 44,
    "start_time": "2022-06-07T20:52:51.356Z"
   },
   {
    "duration": 42,
    "start_time": "2022-06-07T20:53:10.571Z"
   },
   {
    "duration": 41,
    "start_time": "2022-06-07T20:53:15.706Z"
   },
   {
    "duration": 44,
    "start_time": "2022-06-07T20:54:06.904Z"
   },
   {
    "duration": 52,
    "start_time": "2022-06-07T20:54:13.796Z"
   },
   {
    "duration": 139,
    "start_time": "2022-06-07T20:54:20.717Z"
   },
   {
    "duration": 139,
    "start_time": "2022-06-07T20:54:30.259Z"
   },
   {
    "duration": 55167,
    "start_time": "2022-06-07T20:55:26.064Z"
   },
   {
    "duration": 968,
    "start_time": "2022-06-08T14:22:30.279Z"
   },
   {
    "duration": 134,
    "start_time": "2022-06-08T14:22:32.513Z"
   },
   {
    "duration": 951,
    "start_time": "2022-06-08T14:23:10.592Z"
   },
   {
    "duration": 57,
    "start_time": "2022-06-08T14:23:11.545Z"
   },
   {
    "duration": 13,
    "start_time": "2022-06-08T14:23:11.604Z"
   },
   {
    "duration": 5,
    "start_time": "2022-06-08T14:23:11.619Z"
   },
   {
    "duration": 8,
    "start_time": "2022-06-08T14:23:11.625Z"
   },
   {
    "duration": 17,
    "start_time": "2022-06-08T14:23:11.635Z"
   },
   {
    "duration": 677,
    "start_time": "2022-06-08T14:23:11.654Z"
   },
   {
    "duration": 19,
    "start_time": "2022-06-08T14:23:12.333Z"
   },
   {
    "duration": 5,
    "start_time": "2022-06-08T14:23:12.354Z"
   },
   {
    "duration": 7,
    "start_time": "2022-06-08T14:23:12.362Z"
   },
   {
    "duration": 16,
    "start_time": "2022-06-08T14:23:12.371Z"
   },
   {
    "duration": 43,
    "start_time": "2022-06-08T14:23:12.388Z"
   },
   {
    "duration": 6,
    "start_time": "2022-06-08T14:23:12.433Z"
   },
   {
    "duration": 23,
    "start_time": "2022-06-08T14:23:12.441Z"
   },
   {
    "duration": 5,
    "start_time": "2022-06-08T14:23:12.466Z"
   },
   {
    "duration": 63205,
    "start_time": "2022-06-08T14:23:12.473Z"
   },
   {
    "duration": 129,
    "start_time": "2022-06-08T14:24:15.680Z"
   },
   {
    "duration": 76,
    "start_time": "2022-06-08T15:06:17.902Z"
   },
   {
    "duration": 1427,
    "start_time": "2022-06-08T15:06:23.428Z"
   },
   {
    "duration": 647,
    "start_time": "2022-06-08T15:06:24.866Z"
   },
   {
    "duration": 18,
    "start_time": "2022-06-08T15:06:25.515Z"
   },
   {
    "duration": 13,
    "start_time": "2022-06-08T15:06:25.536Z"
   },
   {
    "duration": 53,
    "start_time": "2022-06-08T15:06:25.551Z"
   },
   {
    "duration": 37,
    "start_time": "2022-06-08T15:06:25.607Z"
   },
   {
    "duration": 931,
    "start_time": "2022-06-08T15:06:25.650Z"
   },
   {
    "duration": 46,
    "start_time": "2022-06-08T15:06:26.587Z"
   },
   {
    "duration": 92,
    "start_time": "2022-06-08T15:06:26.639Z"
   },
   {
    "duration": 138,
    "start_time": "2022-06-08T15:06:26.738Z"
   },
   {
    "duration": 65,
    "start_time": "2022-06-08T15:06:26.878Z"
   },
   {
    "duration": 104,
    "start_time": "2022-06-08T15:06:26.949Z"
   },
   {
    "duration": 49,
    "start_time": "2022-06-08T15:06:27.055Z"
   },
   {
    "duration": 100,
    "start_time": "2022-06-08T15:06:27.107Z"
   },
   {
    "duration": 264,
    "start_time": "2022-06-08T15:06:27.210Z"
   },
   {
    "duration": 73936,
    "start_time": "2022-06-08T15:06:27.478Z"
   },
   {
    "duration": 323,
    "start_time": "2022-06-08T15:07:49.489Z"
   },
   {
    "duration": 126292,
    "start_time": "2022-06-08T15:08:13.406Z"
   },
   {
    "duration": 111295,
    "start_time": "2022-06-08T15:11:05.161Z"
   },
   {
    "duration": 16328,
    "start_time": "2022-06-08T15:13:05.091Z"
   },
   {
    "duration": 11767,
    "start_time": "2022-06-08T15:14:12.697Z"
   },
   {
    "duration": 17177,
    "start_time": "2022-06-08T15:14:28.465Z"
   },
   {
    "duration": 19933,
    "start_time": "2022-06-08T15:15:42.340Z"
   },
   {
    "duration": 110657,
    "start_time": "2022-06-08T15:16:17.914Z"
   },
   {
    "duration": 44,
    "start_time": "2022-06-08T15:32:49.391Z"
   },
   {
    "duration": 72,
    "start_time": "2022-06-08T15:33:36.442Z"
   },
   {
    "duration": 10848,
    "start_time": "2022-06-08T15:33:47.591Z"
   },
   {
    "duration": 6,
    "start_time": "2022-06-08T15:35:13.417Z"
   },
   {
    "duration": 6,
    "start_time": "2022-06-08T15:35:43.301Z"
   },
   {
    "duration": 3,
    "start_time": "2022-06-08T15:37:16.301Z"
   },
   {
    "duration": 4,
    "start_time": "2022-06-08T15:37:24.711Z"
   },
   {
    "duration": 5,
    "start_time": "2022-06-08T15:37:39.712Z"
   },
   {
    "duration": 5,
    "start_time": "2022-06-08T15:38:31.562Z"
   },
   {
    "duration": 79921,
    "start_time": "2022-06-08T15:42:45.248Z"
   },
   {
    "duration": 69116,
    "start_time": "2022-06-08T15:59:12.227Z"
   },
   {
    "duration": 6,
    "start_time": "2022-06-08T16:08:01.162Z"
   },
   {
    "duration": 57150,
    "start_time": "2022-06-08T16:08:12.526Z"
   },
   {
    "duration": 7,
    "start_time": "2022-06-08T16:09:17.152Z"
   },
   {
    "duration": 8,
    "start_time": "2022-06-08T16:09:33.188Z"
   },
   {
    "duration": 8,
    "start_time": "2022-06-08T16:10:30.272Z"
   },
   {
    "duration": 6,
    "start_time": "2022-06-08T16:10:33.284Z"
   },
   {
    "duration": 6,
    "start_time": "2022-06-08T16:10:36.302Z"
   },
   {
    "duration": 6,
    "start_time": "2022-06-08T16:10:42.462Z"
   },
   {
    "duration": 55,
    "start_time": "2022-06-08T16:11:31.719Z"
   },
   {
    "duration": 40,
    "start_time": "2022-06-08T16:11:35.475Z"
   },
   {
    "duration": 15,
    "start_time": "2022-06-08T16:12:16.298Z"
   },
   {
    "duration": 15,
    "start_time": "2022-06-08T16:13:13.722Z"
   },
   {
    "duration": 23,
    "start_time": "2022-06-08T16:19:39.366Z"
   },
   {
    "duration": 23,
    "start_time": "2022-06-08T16:21:15.359Z"
   },
   {
    "duration": 15,
    "start_time": "2022-06-08T16:21:44.991Z"
   },
   {
    "duration": 19,
    "start_time": "2022-06-08T16:23:25.518Z"
   },
   {
    "duration": 46922,
    "start_time": "2022-06-08T16:23:40.350Z"
   },
   {
    "duration": 16,
    "start_time": "2022-06-08T16:46:37.047Z"
   },
   {
    "duration": 52,
    "start_time": "2022-06-08T16:48:49.893Z"
   },
   {
    "duration": 111,
    "start_time": "2022-06-08T16:49:01.490Z"
   },
   {
    "duration": 3,
    "start_time": "2022-06-08T16:50:21.584Z"
   },
   {
    "duration": 26,
    "start_time": "2022-06-08T16:50:28.044Z"
   },
   {
    "duration": 11502,
    "start_time": "2022-06-08T16:50:42.405Z"
   },
   {
    "duration": 307108,
    "start_time": "2022-06-08T16:51:59.546Z"
   },
   {
    "duration": 54291,
    "start_time": "2022-06-08T16:57:23.715Z"
   },
   {
    "duration": 26,
    "start_time": "2022-06-08T17:07:28.546Z"
   },
   {
    "duration": 59535,
    "start_time": "2022-06-08T17:07:50.947Z"
   },
   {
    "duration": 38,
    "start_time": "2022-06-08T17:09:07.806Z"
   },
   {
    "duration": 12,
    "start_time": "2022-06-08T17:09:23.434Z"
   },
   {
    "duration": 6,
    "start_time": "2022-06-08T17:09:28.014Z"
   },
   {
    "duration": 7,
    "start_time": "2022-06-08T17:09:31.598Z"
   },
   {
    "duration": 54,
    "start_time": "2022-06-08T17:09:35.800Z"
   },
   {
    "duration": 62129,
    "start_time": "2022-06-08T17:15:09.752Z"
   },
   {
    "duration": 6,
    "start_time": "2022-06-08T17:16:11.883Z"
   },
   {
    "duration": 179,
    "start_time": "2022-06-08T17:18:07.753Z"
   },
   {
    "duration": 66887,
    "start_time": "2022-06-08T17:25:44.150Z"
   },
   {
    "duration": 1169,
    "start_time": "2022-06-08T17:35:25.773Z"
   },
   {
    "duration": 269,
    "start_time": "2022-06-08T17:35:26.944Z"
   },
   {
    "duration": 23,
    "start_time": "2022-06-08T17:35:27.215Z"
   },
   {
    "duration": 43,
    "start_time": "2022-06-08T17:35:27.246Z"
   },
   {
    "duration": 39,
    "start_time": "2022-06-08T17:35:27.292Z"
   },
   {
    "duration": 81,
    "start_time": "2022-06-08T17:35:27.334Z"
   },
   {
    "duration": 450,
    "start_time": "2022-06-08T17:35:27.417Z"
   },
   {
    "duration": 21,
    "start_time": "2022-06-08T17:35:27.869Z"
   },
   {
    "duration": 6,
    "start_time": "2022-06-08T17:35:27.891Z"
   },
   {
    "duration": 10,
    "start_time": "2022-06-08T17:35:27.899Z"
   },
   {
    "duration": 24,
    "start_time": "2022-06-08T17:35:27.910Z"
   },
   {
    "duration": 59,
    "start_time": "2022-06-08T17:35:27.939Z"
   },
   {
    "duration": 6,
    "start_time": "2022-06-08T17:35:28.001Z"
   },
   {
    "duration": 21,
    "start_time": "2022-06-08T17:35:28.010Z"
   },
   {
    "duration": 65911,
    "start_time": "2022-06-08T17:35:28.032Z"
   },
   {
    "duration": 288,
    "start_time": "2022-06-08T17:36:33.949Z"
   },
   {
    "duration": 0,
    "start_time": "2022-06-08T17:36:34.238Z"
   },
   {
    "duration": 48139,
    "start_time": "2022-06-08T17:41:21.562Z"
   },
   {
    "duration": 71516,
    "start_time": "2022-06-08T17:42:21.400Z"
   },
   {
    "duration": 62672,
    "start_time": "2022-06-08T17:44:46.770Z"
   },
   {
    "duration": 971,
    "start_time": "2022-06-08T19:55:16.521Z"
   },
   {
    "duration": 93,
    "start_time": "2022-06-08T19:55:17.494Z"
   },
   {
    "duration": 11,
    "start_time": "2022-06-08T19:55:17.588Z"
   },
   {
    "duration": 7,
    "start_time": "2022-06-08T19:55:17.600Z"
   },
   {
    "duration": 6,
    "start_time": "2022-06-08T19:55:17.608Z"
   },
   {
    "duration": 18,
    "start_time": "2022-06-08T19:55:17.616Z"
   },
   {
    "duration": 513,
    "start_time": "2022-06-08T19:55:17.636Z"
   },
   {
    "duration": 18,
    "start_time": "2022-06-08T19:55:18.151Z"
   },
   {
    "duration": 5,
    "start_time": "2022-06-08T19:55:18.170Z"
   },
   {
    "duration": 7,
    "start_time": "2022-06-08T19:55:18.177Z"
   },
   {
    "duration": 13,
    "start_time": "2022-06-08T19:55:18.185Z"
   },
   {
    "duration": 16,
    "start_time": "2022-06-08T19:55:18.199Z"
   },
   {
    "duration": 38,
    "start_time": "2022-06-08T19:55:18.217Z"
   },
   {
    "duration": 17,
    "start_time": "2022-06-08T19:55:18.257Z"
   },
   {
    "duration": 58138,
    "start_time": "2022-06-08T19:55:18.275Z"
   },
   {
    "duration": 34446,
    "start_time": "2022-06-08T19:56:16.414Z"
   },
   {
    "duration": 46387,
    "start_time": "2022-06-08T19:56:50.951Z"
   },
   {
    "duration": 3,
    "start_time": "2022-06-11T09:33:17.162Z"
   },
   {
    "duration": 55,
    "start_time": "2022-06-11T09:33:17.167Z"
   },
   {
    "duration": 11,
    "start_time": "2022-06-11T09:33:17.223Z"
   },
   {
    "duration": 4,
    "start_time": "2022-06-11T09:33:17.235Z"
   },
   {
    "duration": 7,
    "start_time": "2022-06-11T09:33:17.241Z"
   },
   {
    "duration": 17,
    "start_time": "2022-06-11T09:33:17.250Z"
   },
   {
    "duration": 168,
    "start_time": "2022-06-11T09:33:17.268Z"
   },
   {
    "duration": 20,
    "start_time": "2022-06-11T09:33:17.438Z"
   },
   {
    "duration": 5,
    "start_time": "2022-06-11T09:33:17.459Z"
   },
   {
    "duration": 5,
    "start_time": "2022-06-11T09:33:17.466Z"
   },
   {
    "duration": 12,
    "start_time": "2022-06-11T09:33:17.472Z"
   },
   {
    "duration": 47,
    "start_time": "2022-06-11T09:33:17.485Z"
   },
   {
    "duration": 5,
    "start_time": "2022-06-11T09:33:17.533Z"
   },
   {
    "duration": 15,
    "start_time": "2022-06-11T09:33:17.540Z"
   },
   {
    "duration": 57879,
    "start_time": "2022-06-11T09:33:17.556Z"
   },
   {
    "duration": 34402,
    "start_time": "2022-06-11T09:34:15.437Z"
   },
   {
    "duration": 46342,
    "start_time": "2022-06-11T09:34:49.840Z"
   },
   {
    "duration": 2,
    "start_time": "2022-06-11T09:44:49.058Z"
   },
   {
    "duration": 53,
    "start_time": "2022-06-11T09:44:49.062Z"
   },
   {
    "duration": 12,
    "start_time": "2022-06-11T09:44:49.117Z"
   },
   {
    "duration": 7,
    "start_time": "2022-06-11T09:44:49.131Z"
   },
   {
    "duration": 7,
    "start_time": "2022-06-11T09:44:49.140Z"
   },
   {
    "duration": 15,
    "start_time": "2022-06-11T09:44:49.149Z"
   },
   {
    "duration": 167,
    "start_time": "2022-06-11T09:44:49.166Z"
   },
   {
    "duration": 13,
    "start_time": "2022-06-11T09:44:49.335Z"
   },
   {
    "duration": 5,
    "start_time": "2022-06-11T09:44:49.349Z"
   },
   {
    "duration": 5,
    "start_time": "2022-06-11T09:44:49.356Z"
   },
   {
    "duration": 16,
    "start_time": "2022-06-11T09:44:49.363Z"
   },
   {
    "duration": 14,
    "start_time": "2022-06-11T09:44:49.380Z"
   },
   {
    "duration": 5,
    "start_time": "2022-06-11T09:44:56.596Z"
   },
   {
    "duration": 114,
    "start_time": "2022-06-11T09:45:10.827Z"
   },
   {
    "duration": 9,
    "start_time": "2022-06-11T09:45:13.858Z"
   },
   {
    "duration": 4,
    "start_time": "2022-06-11T09:45:22.576Z"
   },
   {
    "duration": 13,
    "start_time": "2022-06-11T09:50:30.622Z"
   },
   {
    "duration": 3,
    "start_time": "2022-06-11T09:50:35.212Z"
   },
   {
    "duration": 62,
    "start_time": "2022-06-11T09:50:35.218Z"
   },
   {
    "duration": 12,
    "start_time": "2022-06-11T09:50:35.282Z"
   },
   {
    "duration": 6,
    "start_time": "2022-06-11T09:50:35.296Z"
   },
   {
    "duration": 7,
    "start_time": "2022-06-11T09:50:35.304Z"
   },
   {
    "duration": 17,
    "start_time": "2022-06-11T09:50:35.312Z"
   },
   {
    "duration": 176,
    "start_time": "2022-06-11T09:50:35.333Z"
   },
   {
    "duration": 28,
    "start_time": "2022-06-11T09:50:35.511Z"
   },
   {
    "duration": 6,
    "start_time": "2022-06-11T09:50:35.541Z"
   },
   {
    "duration": 19,
    "start_time": "2022-06-11T09:50:35.548Z"
   },
   {
    "duration": 27,
    "start_time": "2022-06-11T09:50:35.569Z"
   },
   {
    "duration": 29,
    "start_time": "2022-06-11T09:50:35.598Z"
   },
   {
    "duration": 13,
    "start_time": "2022-06-11T09:50:37.957Z"
   },
   {
    "duration": 43,
    "start_time": "2022-06-11T09:51:53.945Z"
   },
   {
    "duration": 25,
    "start_time": "2022-06-11T09:52:17.795Z"
   },
   {
    "duration": 35,
    "start_time": "2022-06-11T09:52:29.084Z"
   },
   {
    "duration": 25,
    "start_time": "2022-06-11T09:52:34.066Z"
   },
   {
    "duration": 20,
    "start_time": "2022-06-11T09:52:42.607Z"
   },
   {
    "duration": 16,
    "start_time": "2022-06-11T09:52:44.899Z"
   },
   {
    "duration": 15,
    "start_time": "2022-06-11T09:52:49.251Z"
   },
   {
    "duration": 16,
    "start_time": "2022-06-11T09:52:53.018Z"
   },
   {
    "duration": 25,
    "start_time": "2022-06-11T09:53:02.315Z"
   },
   {
    "duration": 29,
    "start_time": "2022-06-11T09:53:14.852Z"
   },
   {
    "duration": 28,
    "start_time": "2022-06-11T09:53:39.008Z"
   },
   {
    "duration": 27,
    "start_time": "2022-06-11T09:53:44.115Z"
   },
   {
    "duration": 28,
    "start_time": "2022-06-11T09:53:50.022Z"
   },
   {
    "duration": 26,
    "start_time": "2022-06-11T09:53:55.326Z"
   },
   {
    "duration": 28,
    "start_time": "2022-06-11T09:54:02.859Z"
   },
   {
    "duration": 28,
    "start_time": "2022-06-11T09:54:16.122Z"
   },
   {
    "duration": 31,
    "start_time": "2022-06-11T09:54:23.630Z"
   },
   {
    "duration": 38,
    "start_time": "2022-06-11T09:54:29.112Z"
   },
   {
    "duration": 20,
    "start_time": "2022-06-11T09:54:54.647Z"
   },
   {
    "duration": 14,
    "start_time": "2022-06-11T09:56:47.385Z"
   },
   {
    "duration": 21,
    "start_time": "2022-06-11T09:57:06.001Z"
   },
   {
    "duration": 3,
    "start_time": "2022-06-11T09:57:15.354Z"
   },
   {
    "duration": 55,
    "start_time": "2022-06-11T09:57:15.359Z"
   },
   {
    "duration": 11,
    "start_time": "2022-06-11T09:57:15.416Z"
   },
   {
    "duration": 4,
    "start_time": "2022-06-11T09:57:15.428Z"
   },
   {
    "duration": 6,
    "start_time": "2022-06-11T09:57:15.434Z"
   },
   {
    "duration": 13,
    "start_time": "2022-06-11T09:57:15.442Z"
   },
   {
    "duration": 186,
    "start_time": "2022-06-11T09:57:15.456Z"
   },
   {
    "duration": 18,
    "start_time": "2022-06-11T09:57:15.644Z"
   },
   {
    "duration": 5,
    "start_time": "2022-06-11T09:57:15.663Z"
   },
   {
    "duration": 6,
    "start_time": "2022-06-11T09:57:15.670Z"
   },
   {
    "duration": 17,
    "start_time": "2022-06-11T09:57:15.677Z"
   },
   {
    "duration": 22,
    "start_time": "2022-06-11T09:57:15.725Z"
   },
   {
    "duration": 5,
    "start_time": "2022-06-11T09:57:15.749Z"
   },
   {
    "duration": 23,
    "start_time": "2022-06-11T09:58:41.846Z"
   },
   {
    "duration": 18,
    "start_time": "2022-06-11T09:59:23.402Z"
   },
   {
    "duration": 18,
    "start_time": "2022-06-11T10:00:11.929Z"
   },
   {
    "duration": 18,
    "start_time": "2022-06-11T10:00:20.645Z"
   },
   {
    "duration": 19,
    "start_time": "2022-06-11T10:00:35.130Z"
   },
   {
    "duration": 24,
    "start_time": "2022-06-11T10:01:19.609Z"
   },
   {
    "duration": 20,
    "start_time": "2022-06-11T10:01:30.264Z"
   },
   {
    "duration": 15,
    "start_time": "2022-06-11T10:01:39.224Z"
   },
   {
    "duration": 43,
    "start_time": "2022-06-11T10:01:44.609Z"
   },
   {
    "duration": 26,
    "start_time": "2022-06-11T10:01:58.166Z"
   },
   {
    "duration": 26,
    "start_time": "2022-06-11T10:02:14.345Z"
   },
   {
    "duration": 46,
    "start_time": "2022-06-11T10:02:26.507Z"
   },
   {
    "duration": 18,
    "start_time": "2022-06-11T10:02:48.746Z"
   },
   {
    "duration": 4,
    "start_time": "2022-06-11T10:02:54.428Z"
   },
   {
    "duration": 65,
    "start_time": "2022-06-11T10:02:54.435Z"
   },
   {
    "duration": 11,
    "start_time": "2022-06-11T10:02:54.502Z"
   },
   {
    "duration": 5,
    "start_time": "2022-06-11T10:02:54.515Z"
   },
   {
    "duration": 6,
    "start_time": "2022-06-11T10:02:54.521Z"
   },
   {
    "duration": 16,
    "start_time": "2022-06-11T10:02:54.529Z"
   },
   {
    "duration": 170,
    "start_time": "2022-06-11T10:02:54.547Z"
   },
   {
    "duration": 24,
    "start_time": "2022-06-11T10:02:54.719Z"
   },
   {
    "duration": 5,
    "start_time": "2022-06-11T10:02:54.745Z"
   },
   {
    "duration": 10,
    "start_time": "2022-06-11T10:02:54.753Z"
   },
   {
    "duration": 20,
    "start_time": "2022-06-11T10:02:54.765Z"
   },
   {
    "duration": 44,
    "start_time": "2022-06-11T10:02:54.787Z"
   },
   {
    "duration": 5,
    "start_time": "2022-06-11T10:02:54.833Z"
   },
   {
    "duration": 20,
    "start_time": "2022-06-11T10:02:54.839Z"
   },
   {
    "duration": 43,
    "start_time": "2022-06-11T10:02:56.489Z"
   },
   {
    "duration": 4,
    "start_time": "2022-06-11T10:04:09.406Z"
   },
   {
    "duration": 62,
    "start_time": "2022-06-11T10:04:09.490Z"
   },
   {
    "duration": 17,
    "start_time": "2022-06-11T10:04:09.554Z"
   },
   {
    "duration": 10,
    "start_time": "2022-06-11T10:04:09.573Z"
   },
   {
    "duration": 35,
    "start_time": "2022-06-11T10:04:09.585Z"
   },
   {
    "duration": 35,
    "start_time": "2022-06-11T10:04:09.623Z"
   },
   {
    "duration": 280,
    "start_time": "2022-06-11T10:04:09.660Z"
   },
   {
    "duration": 18,
    "start_time": "2022-06-11T10:04:09.943Z"
   },
   {
    "duration": 32,
    "start_time": "2022-06-11T10:04:09.962Z"
   },
   {
    "duration": 12,
    "start_time": "2022-06-11T10:04:09.996Z"
   },
   {
    "duration": 55,
    "start_time": "2022-06-11T10:04:10.010Z"
   },
   {
    "duration": 42,
    "start_time": "2022-06-11T10:04:10.066Z"
   },
   {
    "duration": 31,
    "start_time": "2022-06-11T10:04:10.110Z"
   },
   {
    "duration": 27,
    "start_time": "2022-06-11T10:04:10.143Z"
   },
   {
    "duration": 31,
    "start_time": "2022-06-11T10:04:12.784Z"
   },
   {
    "duration": 43267,
    "start_time": "2022-06-11T10:04:18.645Z"
   },
   {
    "duration": 10776,
    "start_time": "2022-06-11T10:05:17.962Z"
   },
   {
    "duration": 12944,
    "start_time": "2022-06-11T10:06:22.381Z"
   },
   {
    "duration": 9099,
    "start_time": "2022-06-11T10:06:47.729Z"
   },
   {
    "duration": 39891,
    "start_time": "2022-06-11T10:13:50.783Z"
   },
   {
    "duration": 6,
    "start_time": "2022-06-11T10:18:58.986Z"
   },
   {
    "duration": 6,
    "start_time": "2022-06-11T10:20:00.048Z"
   },
   {
    "duration": 7,
    "start_time": "2022-06-11T10:21:35.746Z"
   },
   {
    "duration": 9,
    "start_time": "2022-06-11T10:23:45.982Z"
   },
   {
    "duration": 135,
    "start_time": "2022-06-11T11:30:49.756Z"
   },
   {
    "duration": 60,
    "start_time": "2022-06-11T11:45:24.937Z"
   },
   {
    "duration": 63,
    "start_time": "2022-06-11T11:46:25.994Z"
   },
   {
    "duration": 63,
    "start_time": "2022-06-11T11:46:33.796Z"
   },
   {
    "duration": 76,
    "start_time": "2022-06-11T11:46:46.617Z"
   },
   {
    "duration": 60,
    "start_time": "2022-06-11T11:47:25.591Z"
   },
   {
    "duration": 3,
    "start_time": "2022-06-11T13:09:03.649Z"
   },
   {
    "duration": 4,
    "start_time": "2022-06-11T13:09:04.640Z"
   },
   {
    "duration": 5,
    "start_time": "2022-06-11T13:12:38.955Z"
   },
   {
    "duration": 5,
    "start_time": "2022-06-11T13:12:53.387Z"
   },
   {
    "duration": 6,
    "start_time": "2022-06-11T13:13:10.334Z"
   },
   {
    "duration": 3,
    "start_time": "2022-06-11T13:26:04.590Z"
   },
   {
    "duration": 4,
    "start_time": "2022-06-11T13:26:32.098Z"
   },
   {
    "duration": 14,
    "start_time": "2022-06-11T13:29:42.247Z"
   },
   {
    "duration": 3,
    "start_time": "2022-06-11T13:30:24.912Z"
   },
   {
    "duration": 173,
    "start_time": "2022-06-11T13:30:32.512Z"
   },
   {
    "duration": 561,
    "start_time": "2022-06-11T13:30:56.631Z"
   },
   {
    "duration": 3,
    "start_time": "2022-06-11T13:31:22.960Z"
   },
   {
    "duration": 4,
    "start_time": "2022-06-11T13:31:35.752Z"
   },
   {
    "duration": 438,
    "start_time": "2022-06-11T13:31:38.247Z"
   },
   {
    "duration": 8729,
    "start_time": "2022-06-11T13:36:14.526Z"
   },
   {
    "duration": 8780,
    "start_time": "2022-06-11T13:36:47.777Z"
   },
   {
    "duration": 9439,
    "start_time": "2022-06-11T13:39:31.462Z"
   },
   {
    "duration": 4,
    "start_time": "2022-06-11T13:41:02.294Z"
   },
   {
    "duration": 9062,
    "start_time": "2022-06-11T13:43:40.954Z"
   },
   {
    "duration": 9479,
    "start_time": "2022-06-11T13:44:01.396Z"
   },
   {
    "duration": 9143,
    "start_time": "2022-06-11T13:44:46.948Z"
   },
   {
    "duration": 102,
    "start_time": "2022-06-11T13:44:56.093Z"
   },
   {
    "duration": 101,
    "start_time": "2022-06-11T13:45:10.961Z"
   },
   {
    "duration": 93,
    "start_time": "2022-06-11T13:45:23.491Z"
   },
   {
    "duration": 9,
    "start_time": "2022-06-11T13:45:27.692Z"
   },
   {
    "duration": 3,
    "start_time": "2022-06-11T13:48:48.756Z"
   },
   {
    "duration": 35,
    "start_time": "2022-06-11T13:49:03.104Z"
   },
   {
    "duration": 4,
    "start_time": "2022-06-11T13:49:29.749Z"
   },
   {
    "duration": 4,
    "start_time": "2022-06-11T13:49:34.295Z"
   },
   {
    "duration": 92,
    "start_time": "2022-06-11T13:51:06.157Z"
   },
   {
    "duration": 10,
    "start_time": "2022-06-11T13:51:26.220Z"
   },
   {
    "duration": 94,
    "start_time": "2022-06-11T13:51:40.267Z"
   },
   {
    "duration": 110,
    "start_time": "2022-06-11T13:52:14.259Z"
   },
   {
    "duration": 106,
    "start_time": "2022-06-11T13:52:35.412Z"
   },
   {
    "duration": 35,
    "start_time": "2022-06-11T13:54:03.084Z"
   },
   {
    "duration": 9076,
    "start_time": "2022-06-11T13:54:18.252Z"
   },
   {
    "duration": 9187,
    "start_time": "2022-06-11T13:54:51.672Z"
   },
   {
    "duration": 9229,
    "start_time": "2022-06-11T13:55:13.620Z"
   },
   {
    "duration": 14086,
    "start_time": "2022-06-11T13:55:49.815Z"
   },
   {
    "duration": 9904,
    "start_time": "2022-06-11T13:57:15.158Z"
   },
   {
    "duration": 28,
    "start_time": "2022-06-11T13:57:59.492Z"
   },
   {
    "duration": 9690,
    "start_time": "2022-06-11T13:58:06.123Z"
   },
   {
    "duration": 9017,
    "start_time": "2022-06-11T13:58:30.898Z"
   },
   {
    "duration": 9270,
    "start_time": "2022-06-11T13:58:47.579Z"
   },
   {
    "duration": 9966,
    "start_time": "2022-06-11T13:59:05.732Z"
   },
   {
    "duration": 78,
    "start_time": "2022-06-11T14:00:17.631Z"
   },
   {
    "duration": 9227,
    "start_time": "2022-06-11T14:00:38.989Z"
   },
   {
    "duration": 9088,
    "start_time": "2022-06-11T14:01:16.613Z"
   },
   {
    "duration": 4,
    "start_time": "2022-06-11T14:01:30.500Z"
   },
   {
    "duration": 3,
    "start_time": "2022-06-11T14:01:33.433Z"
   },
   {
    "duration": 8,
    "start_time": "2022-06-11T14:01:42.675Z"
   },
   {
    "duration": 3,
    "start_time": "2022-06-11T14:01:45.886Z"
   },
   {
    "duration": 8,
    "start_time": "2022-06-11T14:01:49.181Z"
   },
   {
    "duration": 4,
    "start_time": "2022-06-11T14:01:57.476Z"
   },
   {
    "duration": 9393,
    "start_time": "2022-06-11T14:02:17.308Z"
   },
   {
    "duration": 8,
    "start_time": "2022-06-11T14:02:40.786Z"
   },
   {
    "duration": 10,
    "start_time": "2022-06-11T14:02:43.982Z"
   },
   {
    "duration": 9,
    "start_time": "2022-06-11T14:03:34.837Z"
   },
   {
    "duration": 8,
    "start_time": "2022-06-11T14:05:50.084Z"
   },
   {
    "duration": 8,
    "start_time": "2022-06-11T14:05:53.208Z"
   },
   {
    "duration": 8,
    "start_time": "2022-06-11T14:06:02.560Z"
   },
   {
    "duration": 3,
    "start_time": "2022-06-11T14:06:09.602Z"
   },
   {
    "duration": 4,
    "start_time": "2022-06-11T14:06:12.428Z"
   },
   {
    "duration": 4,
    "start_time": "2022-06-11T14:06:41.088Z"
   },
   {
    "duration": 4,
    "start_time": "2022-06-11T14:06:48.486Z"
   },
   {
    "duration": 3,
    "start_time": "2022-06-11T14:06:52.467Z"
   },
   {
    "duration": 9665,
    "start_time": "2022-06-11T14:07:00.029Z"
   },
   {
    "duration": 9479,
    "start_time": "2022-06-11T14:07:36.314Z"
   },
   {
    "duration": 13,
    "start_time": "2022-06-11T14:07:57.347Z"
   },
   {
    "duration": 12,
    "start_time": "2022-06-11T14:12:06.530Z"
   },
   {
    "duration": 4,
    "start_time": "2022-06-11T14:12:16.127Z"
   },
   {
    "duration": 4,
    "start_time": "2022-06-11T14:12:21.976Z"
   },
   {
    "duration": 3,
    "start_time": "2022-06-11T14:12:57.465Z"
   },
   {
    "duration": 8,
    "start_time": "2022-06-11T14:13:02.876Z"
   },
   {
    "duration": 9648,
    "start_time": "2022-06-11T14:13:10.921Z"
   },
   {
    "duration": 4,
    "start_time": "2022-06-11T14:13:27.568Z"
   },
   {
    "duration": 5144,
    "start_time": "2022-06-11T14:13:57.340Z"
   },
   {
    "duration": 8,
    "start_time": "2022-06-11T14:14:35.052Z"
   },
   {
    "duration": 8,
    "start_time": "2022-06-11T14:14:39.945Z"
   },
   {
    "duration": 98,
    "start_time": "2022-06-11T14:14:42.384Z"
   },
   {
    "duration": 149,
    "start_time": "2022-06-11T14:15:12.962Z"
   },
   {
    "duration": 5264,
    "start_time": "2022-06-11T14:15:35.442Z"
   },
   {
    "duration": 130,
    "start_time": "2022-06-11T14:15:47.282Z"
   },
   {
    "duration": 9259,
    "start_time": "2022-06-11T14:26:57.391Z"
   },
   {
    "duration": 3,
    "start_time": "2022-06-11T14:27:42.774Z"
   },
   {
    "duration": 26,
    "start_time": "2022-06-11T14:27:49.094Z"
   },
   {
    "duration": 5,
    "start_time": "2022-06-11T14:28:09.334Z"
   },
   {
    "duration": 9396,
    "start_time": "2022-06-11T14:29:40.108Z"
   },
   {
    "duration": 87,
    "start_time": "2022-06-11T14:29:52.508Z"
   },
   {
    "duration": 9257,
    "start_time": "2022-06-11T14:31:42.612Z"
   },
   {
    "duration": 88,
    "start_time": "2022-06-11T14:32:26.138Z"
   },
   {
    "duration": 92,
    "start_time": "2022-06-11T14:32:53.300Z"
   },
   {
    "duration": 190,
    "start_time": "2022-06-11T14:32:59.742Z"
   },
   {
    "duration": 92,
    "start_time": "2022-06-11T14:33:05.225Z"
   },
   {
    "duration": 123,
    "start_time": "2022-06-11T14:36:46.492Z"
   },
   {
    "duration": 89,
    "start_time": "2022-06-11T14:36:53.277Z"
   },
   {
    "duration": 3,
    "start_time": "2022-06-11T17:13:20.923Z"
   },
   {
    "duration": 78,
    "start_time": "2022-06-11T17:13:20.927Z"
   },
   {
    "duration": 10,
    "start_time": "2022-06-11T17:13:21.006Z"
   },
   {
    "duration": 3,
    "start_time": "2022-06-11T17:13:21.018Z"
   },
   {
    "duration": 19,
    "start_time": "2022-06-11T17:13:21.023Z"
   },
   {
    "duration": 22,
    "start_time": "2022-06-11T17:13:21.043Z"
   },
   {
    "duration": 139,
    "start_time": "2022-06-11T17:13:21.067Z"
   },
   {
    "duration": 15,
    "start_time": "2022-06-11T17:13:21.208Z"
   },
   {
    "duration": 15,
    "start_time": "2022-06-11T17:13:21.229Z"
   },
   {
    "duration": 14,
    "start_time": "2022-06-11T17:13:21.250Z"
   },
   {
    "duration": 13,
    "start_time": "2022-06-11T17:13:21.266Z"
   },
   {
    "duration": 14,
    "start_time": "2022-06-11T17:13:21.280Z"
   },
   {
    "duration": 4,
    "start_time": "2022-06-11T17:13:21.296Z"
   },
   {
    "duration": 12,
    "start_time": "2022-06-11T17:13:21.301Z"
   },
   {
    "duration": 55,
    "start_time": "2022-06-11T17:13:21.314Z"
   },
   {
    "duration": 46284,
    "start_time": "2022-06-11T17:13:21.371Z"
   },
   {
    "duration": 19577,
    "start_time": "2022-06-11T17:14:07.657Z"
   },
   {
    "duration": 38378,
    "start_time": "2022-06-11T17:14:27.236Z"
   },
   {
    "duration": 75,
    "start_time": "2022-06-11T17:15:05.615Z"
   },
   {
    "duration": 81,
    "start_time": "2022-06-11T17:15:05.692Z"
   },
   {
    "duration": 5,
    "start_time": "2022-06-11T17:15:05.775Z"
   },
   {
    "duration": 5,
    "start_time": "2022-06-11T17:15:05.782Z"
   },
   {
    "duration": 10,
    "start_time": "2022-06-11T17:15:05.788Z"
   },
   {
    "duration": 10461,
    "start_time": "2022-06-11T17:15:05.800Z"
   },
   {
    "duration": 147,
    "start_time": "2022-06-11T17:15:16.263Z"
   },
   {
    "duration": 34,
    "start_time": "2022-06-11T17:15:16.413Z"
   },
   {
    "duration": 104,
    "start_time": "2022-06-11T17:22:17.729Z"
   },
   {
    "duration": 117,
    "start_time": "2022-06-11T17:22:26.153Z"
   },
   {
    "duration": 625,
    "start_time": "2022-06-11T17:24:26.045Z"
   },
   {
    "duration": 105,
    "start_time": "2022-06-11T17:25:08.639Z"
   },
   {
    "duration": 117,
    "start_time": "2022-06-11T17:25:25.708Z"
   },
   {
    "duration": 101,
    "start_time": "2022-06-11T17:27:06.743Z"
   },
   {
    "duration": 111,
    "start_time": "2022-06-11T17:27:12.439Z"
   },
   {
    "duration": 220,
    "start_time": "2022-06-11T17:28:36.568Z"
   },
   {
    "duration": 176,
    "start_time": "2022-06-11T17:28:46.356Z"
   },
   {
    "duration": 172,
    "start_time": "2022-06-11T17:29:21.125Z"
   },
   {
    "duration": 178,
    "start_time": "2022-06-11T17:32:08.627Z"
   },
   {
    "duration": 11,
    "start_time": "2022-06-11T17:34:26.760Z"
   },
   {
    "duration": 11,
    "start_time": "2022-06-11T17:37:45.837Z"
   },
   {
    "duration": 11,
    "start_time": "2022-06-11T17:40:14.223Z"
   },
   {
    "duration": 12,
    "start_time": "2022-06-11T17:42:02.183Z"
   },
   {
    "duration": 389,
    "start_time": "2022-06-11T17:42:28.798Z"
   },
   {
    "duration": 226,
    "start_time": "2022-06-11T17:43:07.055Z"
   },
   {
    "duration": 34242,
    "start_time": "2022-06-11T17:43:44.988Z"
   },
   {
    "duration": 167,
    "start_time": "2022-06-11T17:44:21.485Z"
   },
   {
    "duration": 2109,
    "start_time": "2022-06-11T17:44:46.392Z"
   },
   {
    "duration": 182,
    "start_time": "2022-06-11T17:44:51.103Z"
   },
   {
    "duration": 163,
    "start_time": "2022-06-11T17:45:08.534Z"
   },
   {
    "duration": 181,
    "start_time": "2022-06-11T17:45:12.478Z"
   },
   {
    "duration": 159,
    "start_time": "2022-06-11T17:46:57.774Z"
   },
   {
    "duration": 219,
    "start_time": "2022-06-11T17:47:07.203Z"
   },
   {
    "duration": 14,
    "start_time": "2022-06-11T20:27:20.786Z"
   },
   {
    "duration": 10,
    "start_time": "2022-06-11T20:27:34.672Z"
   },
   {
    "duration": 10,
    "start_time": "2022-06-11T20:28:10.155Z"
   },
   {
    "duration": 3,
    "start_time": "2022-06-11T20:28:18.274Z"
   },
   {
    "duration": 21,
    "start_time": "2022-06-11T20:28:22.725Z"
   },
   {
    "duration": 5,
    "start_time": "2022-06-11T20:28:25.714Z"
   },
   {
    "duration": 6,
    "start_time": "2022-06-11T20:28:42.510Z"
   },
   {
    "duration": 5,
    "start_time": "2022-06-11T20:29:20.804Z"
   },
   {
    "duration": 7,
    "start_time": "2022-06-11T20:31:24.173Z"
   },
   {
    "duration": 5,
    "start_time": "2022-06-11T20:33:37.064Z"
   },
   {
    "duration": 5,
    "start_time": "2022-06-11T20:33:51.789Z"
   },
   {
    "duration": 15,
    "start_time": "2022-06-11T20:42:36.323Z"
   },
   {
    "duration": 8,
    "start_time": "2022-06-11T20:42:40.876Z"
   },
   {
    "duration": 44,
    "start_time": "2022-06-11T20:54:00.450Z"
   },
   {
    "duration": 45,
    "start_time": "2022-06-11T20:54:28.798Z"
   },
   {
    "duration": 692,
    "start_time": "2022-06-11T20:57:48.619Z"
   },
   {
    "duration": 632,
    "start_time": "2022-06-11T20:58:06.866Z"
   },
   {
    "duration": 610,
    "start_time": "2022-06-11T20:59:02.504Z"
   },
   {
    "duration": 614,
    "start_time": "2022-06-11T20:59:09.700Z"
   },
   {
    "duration": 599,
    "start_time": "2022-06-11T20:59:22.382Z"
   },
   {
    "duration": 655,
    "start_time": "2022-06-11T21:01:30.305Z"
   },
   {
    "duration": 645,
    "start_time": "2022-06-11T21:03:31.426Z"
   },
   {
    "duration": 51,
    "start_time": "2022-06-11T21:05:03.545Z"
   },
   {
    "duration": 51,
    "start_time": "2022-06-11T21:05:15.633Z"
   },
   {
    "duration": 44,
    "start_time": "2022-06-11T21:05:19.540Z"
   },
   {
    "duration": 46,
    "start_time": "2022-06-11T21:05:23.024Z"
   },
   {
    "duration": 42,
    "start_time": "2022-06-11T21:05:38.023Z"
   },
   {
    "duration": 5392,
    "start_time": "2022-06-11T21:06:36.547Z"
   },
   {
    "duration": 176,
    "start_time": "2022-06-11T21:06:43.288Z"
   },
   {
    "duration": 10,
    "start_time": "2022-06-11T21:13:45.101Z"
   },
   {
    "duration": 12,
    "start_time": "2022-06-11T21:13:50.821Z"
   },
   {
    "duration": 70,
    "start_time": "2022-06-11T21:16:08.310Z"
   },
   {
    "duration": 62,
    "start_time": "2022-06-11T21:16:14.893Z"
   },
   {
    "duration": 59,
    "start_time": "2022-06-11T21:16:28.299Z"
   },
   {
    "duration": 69,
    "start_time": "2022-06-11T21:17:20.232Z"
   },
   {
    "duration": 59,
    "start_time": "2022-06-11T21:17:27.923Z"
   },
   {
    "duration": 63,
    "start_time": "2022-06-11T21:17:39.730Z"
   },
   {
    "duration": 33,
    "start_time": "2022-06-11T21:18:29.310Z"
   },
   {
    "duration": 60,
    "start_time": "2022-06-11T21:18:33.482Z"
   },
   {
    "duration": 60,
    "start_time": "2022-06-11T21:19:40.979Z"
   },
   {
    "duration": 10,
    "start_time": "2022-06-11T21:44:35.649Z"
   },
   {
    "duration": 9,
    "start_time": "2022-06-11T21:44:57.978Z"
   },
   {
    "duration": 11,
    "start_time": "2022-06-11T21:45:02.673Z"
   },
   {
    "duration": 11,
    "start_time": "2022-06-11T21:45:18.403Z"
   },
   {
    "duration": 10,
    "start_time": "2022-06-11T21:45:28.986Z"
   },
   {
    "duration": 15,
    "start_time": "2022-06-11T21:46:15.194Z"
   },
   {
    "duration": 152,
    "start_time": "2022-06-11T21:47:16.281Z"
   },
   {
    "duration": 106,
    "start_time": "2022-06-11T21:48:15.904Z"
   },
   {
    "duration": 122,
    "start_time": "2022-06-11T21:49:17.905Z"
   },
   {
    "duration": 11,
    "start_time": "2022-06-11T21:49:22.352Z"
   },
   {
    "duration": 7,
    "start_time": "2022-06-11T21:49:44.833Z"
   },
   {
    "duration": 5,
    "start_time": "2022-06-11T21:49:49.448Z"
   },
   {
    "duration": 111,
    "start_time": "2022-06-11T21:50:16.649Z"
   },
   {
    "duration": 6,
    "start_time": "2022-06-11T21:50:18.073Z"
   },
   {
    "duration": 1181,
    "start_time": "2022-06-11T21:52:26.287Z"
   },
   {
    "duration": 52,
    "start_time": "2022-06-11T21:52:27.470Z"
   },
   {
    "duration": 12,
    "start_time": "2022-06-11T21:52:27.523Z"
   },
   {
    "duration": 4,
    "start_time": "2022-06-11T21:52:27.537Z"
   },
   {
    "duration": 7,
    "start_time": "2022-06-11T21:52:27.542Z"
   },
   {
    "duration": 15,
    "start_time": "2022-06-11T21:52:27.551Z"
   },
   {
    "duration": 168,
    "start_time": "2022-06-11T21:52:27.567Z"
   },
   {
    "duration": 16,
    "start_time": "2022-06-11T21:52:27.736Z"
   },
   {
    "duration": 6,
    "start_time": "2022-06-11T21:52:27.753Z"
   },
   {
    "duration": 7,
    "start_time": "2022-06-11T21:52:27.762Z"
   },
   {
    "duration": 13,
    "start_time": "2022-06-11T21:52:27.771Z"
   },
   {
    "duration": 50,
    "start_time": "2022-06-11T21:52:27.785Z"
   },
   {
    "duration": 4,
    "start_time": "2022-06-11T21:52:27.837Z"
   },
   {
    "duration": 14,
    "start_time": "2022-06-11T21:52:27.843Z"
   },
   {
    "duration": 31,
    "start_time": "2022-06-11T21:52:27.858Z"
   },
   {
    "duration": 43830,
    "start_time": "2022-06-11T21:52:27.890Z"
   },
   {
    "duration": 14705,
    "start_time": "2022-06-11T21:53:11.722Z"
   },
   {
    "duration": 38025,
    "start_time": "2022-06-11T21:53:26.430Z"
   },
   {
    "duration": 83,
    "start_time": "2022-06-11T21:54:04.458Z"
   },
   {
    "duration": 85,
    "start_time": "2022-06-11T21:54:04.543Z"
   },
   {
    "duration": 5,
    "start_time": "2022-06-11T21:54:04.630Z"
   },
   {
    "duration": 5,
    "start_time": "2022-06-11T21:54:04.637Z"
   },
   {
    "duration": 7,
    "start_time": "2022-06-11T21:54:04.644Z"
   },
   {
    "duration": 35321,
    "start_time": "2022-06-11T21:54:04.652Z"
   },
   {
    "duration": 284,
    "start_time": "2022-06-11T21:54:39.975Z"
   },
   {
    "duration": 6,
    "start_time": "2022-06-11T21:54:40.260Z"
   },
   {
    "duration": 5067,
    "start_time": "2022-06-11T21:54:40.267Z"
   },
   {
    "duration": 192,
    "start_time": "2022-06-11T21:54:45.336Z"
   },
   {
    "duration": 6,
    "start_time": "2022-06-11T21:54:45.530Z"
   },
   {
    "duration": 46,
    "start_time": "2022-06-11T21:54:45.537Z"
   },
   {
    "duration": 666,
    "start_time": "2022-06-11T21:54:45.584Z"
   },
   {
    "duration": 75,
    "start_time": "2022-06-11T21:54:46.252Z"
   },
   {
    "duration": 151,
    "start_time": "2022-06-11T21:54:46.329Z"
   },
   {
    "duration": 7,
    "start_time": "2022-06-11T21:54:46.482Z"
   },
   {
    "duration": 44,
    "start_time": "2022-06-12T03:04:02.761Z"
   },
   {
    "duration": 35,
    "start_time": "2022-06-12T03:30:07.293Z"
   },
   {
    "duration": 1140,
    "start_time": "2022-06-13T18:39:53.162Z"
   },
   {
    "duration": 52,
    "start_time": "2022-06-13T18:39:54.303Z"
   },
   {
    "duration": 11,
    "start_time": "2022-06-13T18:39:54.356Z"
   },
   {
    "duration": 4,
    "start_time": "2022-06-13T18:39:54.369Z"
   },
   {
    "duration": 9,
    "start_time": "2022-06-13T18:39:54.374Z"
   },
   {
    "duration": 13,
    "start_time": "2022-06-13T18:39:54.384Z"
   },
   {
    "duration": 149,
    "start_time": "2022-06-13T18:39:54.398Z"
   },
   {
    "duration": 15,
    "start_time": "2022-06-13T18:39:54.549Z"
   },
   {
    "duration": 16,
    "start_time": "2022-06-13T18:39:54.565Z"
   },
   {
    "duration": 5,
    "start_time": "2022-06-13T18:39:54.583Z"
   },
   {
    "duration": 12,
    "start_time": "2022-06-13T18:39:54.589Z"
   },
   {
    "duration": 15,
    "start_time": "2022-06-13T18:39:54.603Z"
   },
   {
    "duration": 5,
    "start_time": "2022-06-13T18:39:54.619Z"
   },
   {
    "duration": 13,
    "start_time": "2022-06-13T18:39:54.625Z"
   },
   {
    "duration": 61,
    "start_time": "2022-06-13T18:39:54.639Z"
   },
   {
    "duration": 41799,
    "start_time": "2022-06-13T18:39:54.702Z"
   },
   {
    "duration": 10186,
    "start_time": "2022-06-13T18:40:36.503Z"
   },
   {
    "duration": 37928,
    "start_time": "2022-06-13T18:40:46.690Z"
   },
   {
    "duration": 72,
    "start_time": "2022-06-13T18:41:24.620Z"
   },
   {
    "duration": 71,
    "start_time": "2022-06-13T18:41:24.694Z"
   },
   {
    "duration": 14,
    "start_time": "2022-06-13T18:41:24.767Z"
   },
   {
    "duration": 4,
    "start_time": "2022-06-13T18:41:24.782Z"
   },
   {
    "duration": 5,
    "start_time": "2022-06-13T18:41:24.788Z"
   },
   {
    "duration": 34159,
    "start_time": "2022-06-13T18:41:24.795Z"
   },
   {
    "duration": 245,
    "start_time": "2022-06-13T18:41:58.955Z"
   },
   {
    "duration": 5,
    "start_time": "2022-06-13T18:41:59.202Z"
   },
   {
    "duration": 4848,
    "start_time": "2022-06-13T18:41:59.209Z"
   },
   {
    "duration": 172,
    "start_time": "2022-06-13T18:42:04.060Z"
   },
   {
    "duration": 5,
    "start_time": "2022-06-13T18:42:04.233Z"
   },
   {
    "duration": 60,
    "start_time": "2022-06-13T18:42:04.240Z"
   },
   {
    "duration": 553,
    "start_time": "2022-06-13T18:42:04.301Z"
   },
   {
    "duration": 64,
    "start_time": "2022-06-13T18:42:04.856Z"
   },
   {
    "duration": 111,
    "start_time": "2022-06-13T18:42:04.922Z"
   },
   {
    "duration": 5,
    "start_time": "2022-06-13T18:42:05.034Z"
   },
   {
    "duration": 33,
    "start_time": "2022-06-13T18:43:07.091Z"
   },
   {
    "duration": 47,
    "start_time": "2022-06-13T19:15:17.289Z"
   },
   {
    "duration": 103,
    "start_time": "2022-06-13T19:15:26.676Z"
   },
   {
    "duration": 47,
    "start_time": "2022-06-13T19:15:35.670Z"
   },
   {
    "duration": 3,
    "start_time": "2022-06-13T19:15:40.693Z"
   },
   {
    "duration": 46,
    "start_time": "2022-06-13T19:15:43.189Z"
   },
   {
    "duration": 3,
    "start_time": "2022-06-13T19:15:54.843Z"
   },
   {
    "duration": 52,
    "start_time": "2022-06-13T19:15:54.851Z"
   },
   {
    "duration": 11,
    "start_time": "2022-06-13T19:21:12.486Z"
   },
   {
    "duration": 4,
    "start_time": "2022-06-13T19:21:15.652Z"
   },
   {
    "duration": 4,
    "start_time": "2022-06-13T19:21:19.340Z"
   },
   {
    "duration": 12,
    "start_time": "2022-06-13T19:21:24.001Z"
   },
   {
    "duration": 129,
    "start_time": "2022-06-13T20:59:01.491Z"
   },
   {
    "duration": 4,
    "start_time": "2022-06-13T20:59:07.902Z"
   },
   {
    "duration": 33,
    "start_time": "2022-06-13T20:59:11.390Z"
   },
   {
    "duration": 2,
    "start_time": "2022-06-13T20:59:14.661Z"
   },
   {
    "duration": 1294,
    "start_time": "2022-06-13T21:00:48.433Z"
   },
   {
    "duration": 62,
    "start_time": "2022-06-13T21:00:49.731Z"
   },
   {
    "duration": 13,
    "start_time": "2022-06-13T21:00:49.795Z"
   },
   {
    "duration": 9,
    "start_time": "2022-06-13T21:00:49.810Z"
   },
   {
    "duration": 6,
    "start_time": "2022-06-13T21:00:49.820Z"
   },
   {
    "duration": 17,
    "start_time": "2022-06-13T21:00:49.828Z"
   },
   {
    "duration": 100,
    "start_time": "2022-06-13T21:00:53.469Z"
   },
   {
    "duration": 11,
    "start_time": "2022-06-13T21:01:00.622Z"
   },
   {
    "duration": 1156,
    "start_time": "2022-06-13T21:02:49.048Z"
   },
   {
    "duration": 54,
    "start_time": "2022-06-13T21:02:50.728Z"
   },
   {
    "duration": 14,
    "start_time": "2022-06-13T21:02:54.823Z"
   },
   {
    "duration": 5,
    "start_time": "2022-06-13T21:02:56.508Z"
   },
   {
    "duration": 3,
    "start_time": "2022-06-13T21:02:58.832Z"
   },
   {
    "duration": 12,
    "start_time": "2022-06-13T21:03:00.801Z"
   },
   {
    "duration": 0,
    "start_time": "2022-06-13T21:03:15.171Z"
   },
   {
    "duration": 215,
    "start_time": "2022-06-13T21:03:16.728Z"
   },
   {
    "duration": 62220,
    "start_time": "2022-06-13T21:03:34.271Z"
   },
   {
    "duration": 140,
    "start_time": "2022-06-13T21:05:01.633Z"
   },
   {
    "duration": 156,
    "start_time": "2022-06-13T21:05:07.447Z"
   },
   {
    "duration": 122,
    "start_time": "2022-06-13T21:05:13.835Z"
   },
   {
    "duration": 8,
    "start_time": "2022-06-13T21:06:07.184Z"
   },
   {
    "duration": 34,
    "start_time": "2022-06-13T21:08:57.503Z"
   },
   {
    "duration": 16,
    "start_time": "2022-06-13T21:09:00.775Z"
   },
   {
    "duration": 5,
    "start_time": "2022-06-13T21:09:03.817Z"
   },
   {
    "duration": 3,
    "start_time": "2022-06-13T21:09:11.303Z"
   },
   {
    "duration": 4,
    "start_time": "2022-06-13T21:09:14.750Z"
   },
   {
    "duration": 156,
    "start_time": "2022-06-13T21:13:46.303Z"
   },
   {
    "duration": 118,
    "start_time": "2022-06-13T21:13:54.543Z"
   },
   {
    "duration": 160,
    "start_time": "2022-06-13T21:14:01.694Z"
   },
   {
    "duration": 139,
    "start_time": "2022-06-13T21:14:14.927Z"
   },
   {
    "duration": 143,
    "start_time": "2022-06-13T21:14:36.201Z"
   },
   {
    "duration": 10,
    "start_time": "2022-06-13T21:14:43.623Z"
   },
   {
    "duration": 138,
    "start_time": "2022-06-13T21:14:51.669Z"
   },
   {
    "duration": 62613,
    "start_time": "2022-06-13T21:14:57.205Z"
   },
   {
    "duration": 12,
    "start_time": "2022-06-13T21:31:53.031Z"
   },
   {
    "duration": 42,
    "start_time": "2022-06-13T21:31:58.117Z"
   },
   {
    "duration": 43,
    "start_time": "2022-06-13T21:32:04.808Z"
   },
   {
    "duration": 20,
    "start_time": "2022-06-13T21:32:10.186Z"
   },
   {
    "duration": 7,
    "start_time": "2022-06-13T21:32:32.482Z"
   },
   {
    "duration": 6,
    "start_time": "2022-06-13T21:33:01.231Z"
   },
   {
    "duration": 6,
    "start_time": "2022-06-13T21:35:19.148Z"
   },
   {
    "duration": 6,
    "start_time": "2022-06-13T21:35:25.221Z"
   },
   {
    "duration": 7,
    "start_time": "2022-06-13T21:35:28.993Z"
   },
   {
    "duration": 6,
    "start_time": "2022-06-13T21:35:41.143Z"
   },
   {
    "duration": 20,
    "start_time": "2022-06-13T21:36:37.683Z"
   },
   {
    "duration": 4,
    "start_time": "2022-06-13T21:58:28.295Z"
   },
   {
    "duration": 57,
    "start_time": "2022-06-13T21:58:28.301Z"
   },
   {
    "duration": 11,
    "start_time": "2022-06-13T21:58:28.360Z"
   },
   {
    "duration": 10,
    "start_time": "2022-06-13T21:58:28.372Z"
   },
   {
    "duration": 11,
    "start_time": "2022-06-13T21:58:28.384Z"
   },
   {
    "duration": 15,
    "start_time": "2022-06-13T21:58:28.396Z"
   },
   {
    "duration": 149,
    "start_time": "2022-06-13T21:58:28.413Z"
   },
   {
    "duration": 6,
    "start_time": "2022-06-13T21:58:28.563Z"
   },
   {
    "duration": 19,
    "start_time": "2022-06-13T21:58:28.577Z"
   },
   {
    "duration": 5,
    "start_time": "2022-06-13T21:58:28.598Z"
   },
   {
    "duration": 7,
    "start_time": "2022-06-13T21:58:28.605Z"
   },
   {
    "duration": 18,
    "start_time": "2022-06-13T21:58:28.613Z"
   },
   {
    "duration": 46,
    "start_time": "2022-06-13T21:58:28.633Z"
   },
   {
    "duration": 6,
    "start_time": "2022-06-13T21:58:28.682Z"
   },
   {
    "duration": 20,
    "start_time": "2022-06-13T21:58:28.690Z"
   },
   {
    "duration": 17,
    "start_time": "2022-06-13T21:58:56.327Z"
   },
   {
    "duration": 31,
    "start_time": "2022-06-13T22:00:37.455Z"
   },
   {
    "duration": 15,
    "start_time": "2022-06-13T22:00:49.262Z"
   },
   {
    "duration": 14,
    "start_time": "2022-06-13T22:01:12.690Z"
   },
   {
    "duration": 3,
    "start_time": "2022-06-13T22:01:18.628Z"
   },
   {
    "duration": 62,
    "start_time": "2022-06-13T22:01:18.632Z"
   },
   {
    "duration": 14,
    "start_time": "2022-06-13T22:01:18.696Z"
   },
   {
    "duration": 4,
    "start_time": "2022-06-13T22:01:18.713Z"
   },
   {
    "duration": 10,
    "start_time": "2022-06-13T22:01:18.719Z"
   },
   {
    "duration": 17,
    "start_time": "2022-06-13T22:01:18.730Z"
   },
   {
    "duration": 153,
    "start_time": "2022-06-13T22:01:18.749Z"
   },
   {
    "duration": 6,
    "start_time": "2022-06-13T22:01:18.903Z"
   },
   {
    "duration": 16,
    "start_time": "2022-06-13T22:01:18.911Z"
   },
   {
    "duration": 4,
    "start_time": "2022-06-13T22:01:18.929Z"
   },
   {
    "duration": 5,
    "start_time": "2022-06-13T22:01:18.934Z"
   },
   {
    "duration": 43,
    "start_time": "2022-06-13T22:01:18.940Z"
   },
   {
    "duration": 16,
    "start_time": "2022-06-13T22:01:18.985Z"
   },
   {
    "duration": 6,
    "start_time": "2022-06-13T22:01:19.003Z"
   },
   {
    "duration": 22,
    "start_time": "2022-06-13T22:01:19.010Z"
   },
   {
    "duration": 22,
    "start_time": "2022-06-13T22:01:19.034Z"
   },
   {
    "duration": 30,
    "start_time": "2022-06-13T22:01:19.078Z"
   },
   {
    "duration": 22,
    "start_time": "2022-06-13T22:01:19.110Z"
   },
   {
    "duration": 1393,
    "start_time": "2022-06-18T21:24:55.472Z"
   },
   {
    "duration": 95,
    "start_time": "2022-06-18T21:24:56.867Z"
   },
   {
    "duration": 12,
    "start_time": "2022-06-18T21:24:56.964Z"
   },
   {
    "duration": 3,
    "start_time": "2022-06-18T21:24:56.978Z"
   },
   {
    "duration": 6,
    "start_time": "2022-06-18T21:24:56.984Z"
   },
   {
    "duration": 15,
    "start_time": "2022-06-18T21:24:56.991Z"
   },
   {
    "duration": 186,
    "start_time": "2022-06-18T21:24:57.008Z"
   },
   {
    "duration": 8,
    "start_time": "2022-06-18T21:24:57.196Z"
   },
   {
    "duration": 24,
    "start_time": "2022-06-18T21:24:57.206Z"
   },
   {
    "duration": 9,
    "start_time": "2022-06-18T21:24:57.233Z"
   },
   {
    "duration": 8,
    "start_time": "2022-06-18T21:24:57.260Z"
   },
   {
    "duration": 26,
    "start_time": "2022-06-18T21:24:57.270Z"
   },
   {
    "duration": 30,
    "start_time": "2022-06-18T21:24:57.299Z"
   },
   {
    "duration": 8,
    "start_time": "2022-06-18T21:24:57.334Z"
   },
   {
    "duration": 32,
    "start_time": "2022-06-18T21:24:57.344Z"
   },
   {
    "duration": 35,
    "start_time": "2022-06-18T21:24:57.378Z"
   },
   {
    "duration": 7,
    "start_time": "2022-06-18T21:38:34.332Z"
   },
   {
    "duration": 3,
    "start_time": "2022-06-18T22:33:58.678Z"
   },
   {
    "duration": 51,
    "start_time": "2022-06-18T22:33:58.684Z"
   },
   {
    "duration": 12,
    "start_time": "2022-06-18T22:33:58.737Z"
   },
   {
    "duration": 4,
    "start_time": "2022-06-18T22:33:58.750Z"
   },
   {
    "duration": 7,
    "start_time": "2022-06-18T22:33:58.756Z"
   },
   {
    "duration": 11,
    "start_time": "2022-06-18T22:33:58.781Z"
   },
   {
    "duration": 121,
    "start_time": "2022-06-18T22:33:58.794Z"
   },
   {
    "duration": 5,
    "start_time": "2022-06-18T22:33:58.917Z"
   },
   {
    "duration": 16,
    "start_time": "2022-06-18T22:33:58.924Z"
   },
   {
    "duration": 5,
    "start_time": "2022-06-18T22:33:58.958Z"
   },
   {
    "duration": 8,
    "start_time": "2022-06-18T22:33:58.964Z"
   },
   {
    "duration": 11,
    "start_time": "2022-06-18T22:33:58.974Z"
   },
   {
    "duration": 15,
    "start_time": "2022-06-18T22:33:58.986Z"
   },
   {
    "duration": 4,
    "start_time": "2022-06-18T22:33:59.003Z"
   },
   {
    "duration": 23,
    "start_time": "2022-06-18T22:33:59.009Z"
   },
   {
    "duration": 46,
    "start_time": "2022-06-18T22:33:59.034Z"
   },
   {
    "duration": 5,
    "start_time": "2022-06-18T22:33:59.082Z"
   },
   {
    "duration": 51472,
    "start_time": "2022-06-18T22:38:48.679Z"
   },
   {
    "duration": 47,
    "start_time": "2022-06-18T22:40:29.461Z"
   },
   {
    "duration": 4,
    "start_time": "2022-06-18T22:41:13.497Z"
   },
   {
    "duration": 4,
    "start_time": "2022-06-18T22:41:16.324Z"
   },
   {
    "duration": 6,
    "start_time": "2022-06-18T22:45:58.546Z"
   },
   {
    "duration": 44,
    "start_time": "2022-06-18T22:46:12.778Z"
   },
   {
    "duration": 5,
    "start_time": "2022-06-18T22:47:32.329Z"
   },
   {
    "duration": 4,
    "start_time": "2022-06-18T22:47:50.416Z"
   },
   {
    "duration": 6,
    "start_time": "2022-06-18T22:48:23.860Z"
   },
   {
    "duration": 8,
    "start_time": "2022-06-18T22:48:32.934Z"
   },
   {
    "duration": 5,
    "start_time": "2022-06-18T22:48:47.803Z"
   },
   {
    "duration": 50,
    "start_time": "2022-06-18T22:48:56.681Z"
   },
   {
    "duration": 3,
    "start_time": "2022-06-18T22:49:21.768Z"
   },
   {
    "duration": 6,
    "start_time": "2022-06-18T22:49:28.807Z"
   },
   {
    "duration": 8,
    "start_time": "2022-06-18T22:49:34.537Z"
   },
   {
    "duration": 5,
    "start_time": "2022-06-18T22:50:16.998Z"
   },
   {
    "duration": 5,
    "start_time": "2022-06-18T22:52:11.132Z"
   },
   {
    "duration": 17,
    "start_time": "2022-06-18T22:52:18.499Z"
   },
   {
    "duration": 101,
    "start_time": "2022-06-18T22:52:36.851Z"
   },
   {
    "duration": 109,
    "start_time": "2022-06-18T22:53:15.643Z"
   },
   {
    "duration": 115,
    "start_time": "2022-06-18T22:53:25.472Z"
   },
   {
    "duration": 104,
    "start_time": "2022-06-18T22:54:41.715Z"
   },
   {
    "duration": 134,
    "start_time": "2022-06-18T22:55:06.439Z"
   },
   {
    "duration": 5,
    "start_time": "2022-06-18T22:55:42.249Z"
   },
   {
    "duration": 5,
    "start_time": "2022-06-18T22:56:28.419Z"
   },
   {
    "duration": 102,
    "start_time": "2022-06-18T22:57:03.597Z"
   },
   {
    "duration": 116,
    "start_time": "2022-06-18T22:57:09.976Z"
   },
   {
    "duration": 125,
    "start_time": "2022-06-18T22:57:34.687Z"
   },
   {
    "duration": 108,
    "start_time": "2022-06-18T22:57:39.152Z"
   },
   {
    "duration": 49247,
    "start_time": "2022-06-18T22:58:32.109Z"
   },
   {
    "duration": 43,
    "start_time": "2022-06-18T22:59:54.505Z"
   },
   {
    "duration": 5,
    "start_time": "2022-06-18T23:00:15.316Z"
   },
   {
    "duration": 4,
    "start_time": "2022-06-18T23:00:25.996Z"
   },
   {
    "duration": 44,
    "start_time": "2022-06-18T23:00:28.622Z"
   },
   {
    "duration": 3,
    "start_time": "2022-06-18T23:01:39.878Z"
   },
   {
    "duration": 6,
    "start_time": "2022-06-18T23:03:29.748Z"
   },
   {
    "duration": 105,
    "start_time": "2022-06-18T23:03:52.125Z"
   },
   {
    "duration": 91,
    "start_time": "2022-06-18T23:03:59.896Z"
   },
   {
    "duration": 100,
    "start_time": "2022-06-18T23:04:31.942Z"
   },
   {
    "duration": 100,
    "start_time": "2022-06-18T23:04:49.291Z"
   },
   {
    "duration": 3,
    "start_time": "2022-06-18T23:04:58.208Z"
   },
   {
    "duration": 5,
    "start_time": "2022-06-18T23:05:05.790Z"
   },
   {
    "duration": 6,
    "start_time": "2022-06-18T23:05:10.205Z"
   },
   {
    "duration": 9,
    "start_time": "2022-06-18T23:15:11.830Z"
   },
   {
    "duration": 9,
    "start_time": "2022-06-18T23:15:16.716Z"
   },
   {
    "duration": 9,
    "start_time": "2022-06-18T23:15:26.022Z"
   },
   {
    "duration": 5,
    "start_time": "2022-06-18T23:15:35.720Z"
   },
   {
    "duration": 9,
    "start_time": "2022-06-18T23:15:38.310Z"
   },
   {
    "duration": 10,
    "start_time": "2022-06-18T23:15:45.424Z"
   },
   {
    "duration": 13,
    "start_time": "2022-06-18T23:15:51.486Z"
   },
   {
    "duration": 68,
    "start_time": "2022-06-18T23:16:01.815Z"
   },
   {
    "duration": 14,
    "start_time": "2022-06-18T23:16:36.435Z"
   },
   {
    "duration": 13,
    "start_time": "2022-06-18T23:18:13.665Z"
   },
   {
    "duration": 13,
    "start_time": "2022-06-18T23:18:19.517Z"
   },
   {
    "duration": 13,
    "start_time": "2022-06-18T23:18:26.705Z"
   },
   {
    "duration": 14,
    "start_time": "2022-06-18T23:18:51.904Z"
   },
   {
    "duration": 11,
    "start_time": "2022-06-18T23:18:58.374Z"
   },
   {
    "duration": 12,
    "start_time": "2022-06-18T23:19:01.933Z"
   },
   {
    "duration": 204,
    "start_time": "2022-06-18T23:19:10.583Z"
   },
   {
    "duration": 166,
    "start_time": "2022-06-18T23:19:41.405Z"
   },
   {
    "duration": 9,
    "start_time": "2022-06-18T23:21:33.505Z"
   },
   {
    "duration": 218,
    "start_time": "2022-06-18T23:21:44.569Z"
   },
   {
    "duration": 213,
    "start_time": "2022-06-18T23:21:58.349Z"
   },
   {
    "duration": 13,
    "start_time": "2022-06-18T23:22:05.458Z"
   },
   {
    "duration": 14,
    "start_time": "2022-06-18T23:22:16.417Z"
   },
   {
    "duration": 8,
    "start_time": "2022-06-18T23:22:24.953Z"
   },
   {
    "duration": 10,
    "start_time": "2022-06-18T23:22:34.274Z"
   },
   {
    "duration": 10,
    "start_time": "2022-06-18T23:22:37.392Z"
   },
   {
    "duration": 7,
    "start_time": "2022-06-18T23:22:43.398Z"
   },
   {
    "duration": 7,
    "start_time": "2022-06-18T23:22:53.655Z"
   },
   {
    "duration": 197,
    "start_time": "2022-06-18T23:23:02.298Z"
   },
   {
    "duration": 184,
    "start_time": "2022-06-18T23:23:13.031Z"
   },
   {
    "duration": 173,
    "start_time": "2022-06-18T23:23:28.639Z"
   },
   {
    "duration": 193,
    "start_time": "2022-06-18T23:23:32.996Z"
   },
   {
    "duration": 236,
    "start_time": "2022-06-18T23:25:00.058Z"
   },
   {
    "duration": 184,
    "start_time": "2022-06-18T23:25:04.737Z"
   },
   {
    "duration": 10,
    "start_time": "2022-06-18T23:57:24.785Z"
   },
   {
    "duration": 5,
    "start_time": "2022-06-18T23:57:39.217Z"
   },
   {
    "duration": 5300,
    "start_time": "2022-06-18T23:57:51.390Z"
   },
   {
    "duration": 4,
    "start_time": "2022-06-18T23:58:03.016Z"
   },
   {
    "duration": 47,
    "start_time": "2022-06-18T23:58:03.049Z"
   },
   {
    "duration": 10,
    "start_time": "2022-06-18T23:58:03.098Z"
   },
   {
    "duration": 4,
    "start_time": "2022-06-18T23:58:03.110Z"
   },
   {
    "duration": 12,
    "start_time": "2022-06-18T23:58:03.116Z"
   },
   {
    "duration": 15,
    "start_time": "2022-06-18T23:58:03.129Z"
   },
   {
    "duration": 130,
    "start_time": "2022-06-18T23:58:03.145Z"
   },
   {
    "duration": 6,
    "start_time": "2022-06-18T23:58:03.277Z"
   },
   {
    "duration": 15,
    "start_time": "2022-06-18T23:58:03.285Z"
   },
   {
    "duration": 5,
    "start_time": "2022-06-18T23:58:03.301Z"
   },
   {
    "duration": 9,
    "start_time": "2022-06-18T23:58:03.308Z"
   },
   {
    "duration": 46,
    "start_time": "2022-06-18T23:58:03.318Z"
   },
   {
    "duration": 17,
    "start_time": "2022-06-18T23:58:03.366Z"
   },
   {
    "duration": 5,
    "start_time": "2022-06-18T23:58:03.385Z"
   },
   {
    "duration": 13,
    "start_time": "2022-06-18T23:58:03.392Z"
   },
   {
    "duration": 51,
    "start_time": "2022-06-18T23:58:03.407Z"
   },
   {
    "duration": 6,
    "start_time": "2022-06-18T23:58:03.459Z"
   },
   {
    "duration": 47998,
    "start_time": "2022-06-18T23:58:03.466Z"
   },
   {
    "duration": 6,
    "start_time": "2022-06-18T23:59:03.684Z"
   },
   {
    "duration": 7,
    "start_time": "2022-06-18T23:59:07.235Z"
   },
   {
    "duration": 5,
    "start_time": "2022-06-18T23:59:10.580Z"
   },
   {
    "duration": 4,
    "start_time": "2022-06-18T23:59:23.384Z"
   },
   {
    "duration": 6,
    "start_time": "2022-06-18T23:59:35.747Z"
   },
   {
    "duration": 8,
    "start_time": "2022-06-18T23:59:48.661Z"
   },
   {
    "duration": 63,
    "start_time": "2022-06-18T23:59:56.659Z"
   },
   {
    "duration": 48,
    "start_time": "2022-06-19T00:00:02.876Z"
   },
   {
    "duration": 62,
    "start_time": "2022-06-19T00:00:58.461Z"
   },
   {
    "duration": 5,
    "start_time": "2022-06-19T00:01:02.819Z"
   },
   {
    "duration": 5,
    "start_time": "2022-06-19T00:01:09.470Z"
   },
   {
    "duration": 6,
    "start_time": "2022-06-19T00:01:26.847Z"
   },
   {
    "duration": 7,
    "start_time": "2022-06-19T00:01:37.250Z"
   },
   {
    "duration": 50,
    "start_time": "2022-06-19T00:01:44.958Z"
   },
   {
    "duration": 64,
    "start_time": "2022-06-19T00:01:55.658Z"
   },
   {
    "duration": 5,
    "start_time": "2022-06-19T00:02:29.397Z"
   },
   {
    "duration": 6,
    "start_time": "2022-06-19T00:03:13.069Z"
   },
   {
    "duration": 11,
    "start_time": "2022-06-19T00:03:51.103Z"
   },
   {
    "duration": 5,
    "start_time": "2022-06-19T00:04:08.429Z"
   },
   {
    "duration": 1348,
    "start_time": "2022-06-19T00:04:37.351Z"
   },
   {
    "duration": 57,
    "start_time": "2022-06-19T00:04:38.701Z"
   },
   {
    "duration": 23,
    "start_time": "2022-06-19T00:04:38.761Z"
   },
   {
    "duration": 13,
    "start_time": "2022-06-19T00:04:38.786Z"
   },
   {
    "duration": 32,
    "start_time": "2022-06-19T00:04:38.802Z"
   },
   {
    "duration": 29,
    "start_time": "2022-06-19T00:04:38.836Z"
   },
   {
    "duration": 164,
    "start_time": "2022-06-19T00:04:38.868Z"
   },
   {
    "duration": 6,
    "start_time": "2022-06-19T00:04:39.033Z"
   },
   {
    "duration": 48,
    "start_time": "2022-06-19T00:04:39.041Z"
   },
   {
    "duration": 22,
    "start_time": "2022-06-19T00:04:39.091Z"
   },
   {
    "duration": 9,
    "start_time": "2022-06-19T00:04:39.115Z"
   },
   {
    "duration": 44,
    "start_time": "2022-06-19T00:04:39.125Z"
   },
   {
    "duration": 25,
    "start_time": "2022-06-19T00:04:39.172Z"
   },
   {
    "duration": 19,
    "start_time": "2022-06-19T00:04:39.200Z"
   },
   {
    "duration": 28,
    "start_time": "2022-06-19T00:04:39.221Z"
   },
   {
    "duration": 41,
    "start_time": "2022-06-19T00:04:39.251Z"
   },
   {
    "duration": 5,
    "start_time": "2022-06-19T00:04:39.293Z"
   },
   {
    "duration": 5234,
    "start_time": "2022-06-19T00:04:39.300Z"
   },
   {
    "duration": 0,
    "start_time": "2022-06-19T00:04:44.536Z"
   },
   {
    "duration": 0,
    "start_time": "2022-06-19T00:04:44.538Z"
   },
   {
    "duration": 0,
    "start_time": "2022-06-19T00:04:44.540Z"
   },
   {
    "duration": 0,
    "start_time": "2022-06-19T00:04:44.541Z"
   },
   {
    "duration": 0,
    "start_time": "2022-06-19T00:04:44.542Z"
   },
   {
    "duration": 0,
    "start_time": "2022-06-19T00:04:44.544Z"
   },
   {
    "duration": 0,
    "start_time": "2022-06-19T00:04:44.565Z"
   },
   {
    "duration": 0,
    "start_time": "2022-06-19T00:04:44.566Z"
   },
   {
    "duration": 0,
    "start_time": "2022-06-19T00:04:44.568Z"
   },
   {
    "duration": 0,
    "start_time": "2022-06-19T00:04:44.569Z"
   },
   {
    "duration": 0,
    "start_time": "2022-06-19T00:04:44.570Z"
   },
   {
    "duration": 0,
    "start_time": "2022-06-19T00:04:44.571Z"
   },
   {
    "duration": 0,
    "start_time": "2022-06-19T00:04:44.573Z"
   },
   {
    "duration": 0,
    "start_time": "2022-06-19T00:04:44.574Z"
   },
   {
    "duration": 0,
    "start_time": "2022-06-19T00:04:44.576Z"
   },
   {
    "duration": 0,
    "start_time": "2022-06-19T00:04:44.578Z"
   },
   {
    "duration": 0,
    "start_time": "2022-06-19T00:04:44.580Z"
   },
   {
    "duration": 1,
    "start_time": "2022-06-19T00:04:44.581Z"
   },
   {
    "duration": 0,
    "start_time": "2022-06-19T00:04:44.583Z"
   },
   {
    "duration": 1348,
    "start_time": "2022-06-19T00:05:09.688Z"
   },
   {
    "duration": 66,
    "start_time": "2022-06-19T00:05:11.037Z"
   },
   {
    "duration": 12,
    "start_time": "2022-06-19T00:05:11.104Z"
   },
   {
    "duration": 6,
    "start_time": "2022-06-19T00:05:11.118Z"
   },
   {
    "duration": 7,
    "start_time": "2022-06-19T00:05:11.126Z"
   },
   {
    "duration": 25,
    "start_time": "2022-06-19T00:05:11.134Z"
   },
   {
    "duration": 162,
    "start_time": "2022-06-19T00:05:11.161Z"
   },
   {
    "duration": 7,
    "start_time": "2022-06-19T00:05:11.325Z"
   },
   {
    "duration": 26,
    "start_time": "2022-06-19T00:05:11.333Z"
   },
   {
    "duration": 6,
    "start_time": "2022-06-19T00:05:11.362Z"
   },
   {
    "duration": 28,
    "start_time": "2022-06-19T00:05:11.369Z"
   },
   {
    "duration": 26,
    "start_time": "2022-06-19T00:05:11.399Z"
   },
   {
    "duration": 18,
    "start_time": "2022-06-19T00:05:11.427Z"
   },
   {
    "duration": 5,
    "start_time": "2022-06-19T00:05:11.447Z"
   },
   {
    "duration": 26,
    "start_time": "2022-06-19T00:05:11.453Z"
   },
   {
    "duration": 30,
    "start_time": "2022-06-19T00:05:11.481Z"
   },
   {
    "duration": 6,
    "start_time": "2022-06-19T00:05:11.513Z"
   },
   {
    "duration": 52300,
    "start_time": "2022-06-19T00:05:11.521Z"
   },
   {
    "duration": 7,
    "start_time": "2022-06-19T00:06:12.282Z"
   },
   {
    "duration": 6,
    "start_time": "2022-06-19T00:06:25.064Z"
   },
   {
    "duration": 4,
    "start_time": "2022-06-19T00:09:51.152Z"
   },
   {
    "duration": 3,
    "start_time": "2022-06-19T00:10:14.138Z"
   },
   {
    "duration": 79,
    "start_time": "2022-06-19T00:10:20.124Z"
   },
   {
    "duration": 19,
    "start_time": "2022-06-19T00:10:25.194Z"
   },
   {
    "duration": 3,
    "start_time": "2022-06-19T00:10:48.717Z"
   },
   {
    "duration": 4313,
    "start_time": "2022-06-19T00:12:09.465Z"
   },
   {
    "duration": 3,
    "start_time": "2022-06-19T00:12:19.981Z"
   },
   {
    "duration": 51,
    "start_time": "2022-06-19T00:12:20.004Z"
   },
   {
    "duration": 13,
    "start_time": "2022-06-19T00:12:20.056Z"
   },
   {
    "duration": 5,
    "start_time": "2022-06-19T00:12:20.070Z"
   },
   {
    "duration": 6,
    "start_time": "2022-06-19T00:12:20.078Z"
   },
   {
    "duration": 14,
    "start_time": "2022-06-19T00:12:20.085Z"
   },
   {
    "duration": 157,
    "start_time": "2022-06-19T00:12:20.101Z"
   },
   {
    "duration": 6,
    "start_time": "2022-06-19T00:12:20.260Z"
   },
   {
    "duration": 20,
    "start_time": "2022-06-19T00:12:20.268Z"
   },
   {
    "duration": 4,
    "start_time": "2022-06-19T00:12:20.290Z"
   },
   {
    "duration": 6,
    "start_time": "2022-06-19T00:12:20.296Z"
   },
   {
    "duration": 14,
    "start_time": "2022-06-19T00:12:20.303Z"
   },
   {
    "duration": 41,
    "start_time": "2022-06-19T00:12:20.318Z"
   },
   {
    "duration": 5,
    "start_time": "2022-06-19T00:12:20.361Z"
   },
   {
    "duration": 17,
    "start_time": "2022-06-19T00:12:20.367Z"
   },
   {
    "duration": 24,
    "start_time": "2022-06-19T00:12:20.386Z"
   },
   {
    "duration": 5,
    "start_time": "2022-06-19T00:12:20.412Z"
   },
   {
    "duration": 48474,
    "start_time": "2022-06-19T00:12:20.418Z"
   },
   {
    "duration": 110,
    "start_time": "2022-06-19T00:30:06.351Z"
   },
   {
    "duration": 18531,
    "start_time": "2022-06-19T00:32:00.129Z"
   },
   {
    "duration": 18348,
    "start_time": "2022-06-19T00:33:55.645Z"
   },
   {
    "duration": 13,
    "start_time": "2022-06-19T00:56:29.877Z"
   },
   {
    "duration": 756,
    "start_time": "2022-06-19T00:58:03.507Z"
   },
   {
    "duration": 419,
    "start_time": "2022-06-19T00:58:29.043Z"
   },
   {
    "duration": 713,
    "start_time": "2022-06-19T00:58:33.862Z"
   },
   {
    "duration": 575,
    "start_time": "2022-06-19T00:58:43.585Z"
   },
   {
    "duration": 1027,
    "start_time": "2022-06-19T01:00:13.942Z"
   },
   {
    "duration": 991,
    "start_time": "2022-06-19T01:01:25.573Z"
   },
   {
    "duration": 921,
    "start_time": "2022-06-19T01:01:39.840Z"
   },
   {
    "duration": 25684,
    "start_time": "2022-06-19T01:04:56.075Z"
   },
   {
    "duration": 25646,
    "start_time": "2022-06-19T01:15:42.914Z"
   },
   {
    "duration": 165,
    "start_time": "2022-06-19T01:17:10.394Z"
   },
   {
    "duration": 115,
    "start_time": "2022-06-19T01:17:38.344Z"
   },
   {
    "duration": 38025,
    "start_time": "2022-06-19T01:34:27.840Z"
   },
   {
    "duration": 9,
    "start_time": "2022-06-19T01:36:22.671Z"
   },
   {
    "duration": 98,
    "start_time": "2022-06-19T01:36:26.596Z"
   },
   {
    "duration": 93,
    "start_time": "2022-06-19T01:38:10.037Z"
   },
   {
    "duration": 99,
    "start_time": "2022-06-19T01:38:25.136Z"
   },
   {
    "duration": 99,
    "start_time": "2022-06-19T01:38:29.907Z"
   },
   {
    "duration": 100,
    "start_time": "2022-06-19T01:38:36.818Z"
   },
   {
    "duration": 95,
    "start_time": "2022-06-19T01:38:46.367Z"
   },
   {
    "duration": 100,
    "start_time": "2022-06-19T01:38:48.886Z"
   },
   {
    "duration": 176,
    "start_time": "2022-06-19T01:39:13.665Z"
   },
   {
    "duration": 181,
    "start_time": "2022-06-19T01:39:39.855Z"
   },
   {
    "duration": 181,
    "start_time": "2022-06-19T01:39:47.582Z"
   },
   {
    "duration": 181,
    "start_time": "2022-06-19T01:40:20.245Z"
   },
   {
    "duration": 91,
    "start_time": "2022-06-19T01:40:41.930Z"
   },
   {
    "duration": 95,
    "start_time": "2022-06-19T01:40:54.743Z"
   },
   {
    "duration": 185,
    "start_time": "2022-06-19T01:41:03.759Z"
   },
   {
    "duration": 3,
    "start_time": "2022-06-19T01:42:17.509Z"
   },
   {
    "duration": 8,
    "start_time": "2022-06-19T01:42:21.439Z"
   },
   {
    "duration": 115,
    "start_time": "2022-06-19T01:42:35.995Z"
   },
   {
    "duration": 91,
    "start_time": "2022-06-19T01:42:52.645Z"
   },
   {
    "duration": 115,
    "start_time": "2022-06-19T01:43:21.639Z"
   },
   {
    "duration": 108,
    "start_time": "2022-06-19T01:43:55.651Z"
   },
   {
    "duration": 103,
    "start_time": "2022-06-19T01:44:07.773Z"
   },
   {
    "duration": 37950,
    "start_time": "2022-06-19T01:45:19.573Z"
   },
   {
    "duration": 15,
    "start_time": "2022-06-19T01:47:12.823Z"
   },
   {
    "duration": 55,
    "start_time": "2022-06-19T01:47:22.023Z"
   },
   {
    "duration": 6405,
    "start_time": "2022-06-19T02:01:00.937Z"
   },
   {
    "duration": 37773,
    "start_time": "2022-06-19T02:01:52.643Z"
   },
   {
    "duration": 4,
    "start_time": "2022-06-19T02:06:01.808Z"
   },
   {
    "duration": 60,
    "start_time": "2022-06-19T02:12:49.332Z"
   },
   {
    "duration": 64,
    "start_time": "2022-06-19T02:14:06.563Z"
   },
   {
    "duration": 4,
    "start_time": "2022-06-19T02:14:12.855Z"
   },
   {
    "duration": 5,
    "start_time": "2022-06-19T02:14:14.334Z"
   },
   {
    "duration": 34336,
    "start_time": "2022-06-19T02:15:24.514Z"
   },
   {
    "duration": 53,
    "start_time": "2022-06-19T02:16:19.949Z"
   },
   {
    "duration": 54,
    "start_time": "2022-06-19T02:16:32.551Z"
   },
   {
    "duration": 53,
    "start_time": "2022-06-19T02:16:40.523Z"
   },
   {
    "duration": 55,
    "start_time": "2022-06-19T02:17:57.981Z"
   },
   {
    "duration": 29571,
    "start_time": "2022-06-19T02:20:08.003Z"
   },
   {
    "duration": 213,
    "start_time": "2022-06-19T02:20:45.987Z"
   },
   {
    "duration": 6,
    "start_time": "2022-06-19T02:24:51.487Z"
   },
   {
    "duration": 72,
    "start_time": "2022-06-19T02:25:52.826Z"
   },
   {
    "duration": 29466,
    "start_time": "2022-06-19T02:26:06.247Z"
   },
   {
    "duration": 29752,
    "start_time": "2022-06-19T02:27:33.039Z"
   },
   {
    "duration": 183,
    "start_time": "2022-06-19T02:28:13.478Z"
   },
   {
    "duration": 6,
    "start_time": "2022-06-19T02:35:17.252Z"
   },
   {
    "duration": 6,
    "start_time": "2022-06-19T02:35:57.893Z"
   },
   {
    "duration": 6,
    "start_time": "2022-06-19T02:36:08.951Z"
   },
   {
    "duration": 6,
    "start_time": "2022-06-19T02:36:26.839Z"
   },
   {
    "duration": 4726,
    "start_time": "2022-06-19T02:45:32.935Z"
   },
   {
    "duration": 180,
    "start_time": "2022-06-19T02:46:19.651Z"
   },
   {
    "duration": 6,
    "start_time": "2022-06-19T02:51:07.890Z"
   },
   {
    "duration": 11,
    "start_time": "2022-06-19T02:51:37.968Z"
   },
   {
    "duration": 7,
    "start_time": "2022-06-19T02:51:43.289Z"
   },
   {
    "duration": 4544,
    "start_time": "2022-06-19T02:58:07.726Z"
   },
   {
    "duration": 5,
    "start_time": "2022-06-19T02:58:22.458Z"
   },
   {
    "duration": 4790,
    "start_time": "2022-06-19T02:58:34.502Z"
   },
   {
    "duration": 182,
    "start_time": "2022-06-19T02:58:42.074Z"
   },
   {
    "duration": 4772,
    "start_time": "2022-06-19T03:04:03.216Z"
   },
   {
    "duration": 189,
    "start_time": "2022-06-19T03:04:14.487Z"
   },
   {
    "duration": 4639,
    "start_time": "2022-06-19T03:04:27.291Z"
   },
   {
    "duration": 184,
    "start_time": "2022-06-19T03:04:34.923Z"
   },
   {
    "duration": 7,
    "start_time": "2022-06-19T03:07:39.520Z"
   },
   {
    "duration": 60,
    "start_time": "2022-06-19T03:13:16.098Z"
   },
   {
    "duration": 78,
    "start_time": "2022-06-19T03:24:56.137Z"
   },
   {
    "duration": 87,
    "start_time": "2022-06-19T03:25:33.688Z"
   },
   {
    "duration": 31,
    "start_time": "2022-06-19T03:29:37.813Z"
   },
   {
    "duration": 21,
    "start_time": "2022-06-19T03:29:50.660Z"
   },
   {
    "duration": 21,
    "start_time": "2022-06-19T03:29:56.513Z"
   },
   {
    "duration": 19,
    "start_time": "2022-06-19T03:30:10.760Z"
   },
   {
    "duration": 24,
    "start_time": "2022-06-19T03:30:17.786Z"
   },
   {
    "duration": 22,
    "start_time": "2022-06-19T03:30:33.592Z"
   },
   {
    "duration": 18,
    "start_time": "2022-06-19T03:31:11.678Z"
   },
   {
    "duration": 5,
    "start_time": "2022-06-19T03:32:41.949Z"
   },
   {
    "duration": 17,
    "start_time": "2022-06-19T03:32:44.827Z"
   },
   {
    "duration": 15,
    "start_time": "2022-06-19T03:32:55.261Z"
   },
   {
    "duration": 14,
    "start_time": "2022-06-19T03:34:27.684Z"
   },
   {
    "duration": 14,
    "start_time": "2022-06-19T03:35:45.085Z"
   },
   {
    "duration": 16,
    "start_time": "2022-06-19T03:35:51.087Z"
   },
   {
    "duration": 26,
    "start_time": "2022-06-19T03:36:01.068Z"
   },
   {
    "duration": 15,
    "start_time": "2022-06-19T03:36:16.211Z"
   },
   {
    "duration": 5,
    "start_time": "2022-06-19T03:42:01.788Z"
   },
   {
    "duration": 18,
    "start_time": "2022-06-19T03:42:05.245Z"
   },
   {
    "duration": 17,
    "start_time": "2022-06-19T03:42:21.131Z"
   },
   {
    "duration": 8,
    "start_time": "2022-06-19T03:42:26.820Z"
   },
   {
    "duration": 17,
    "start_time": "2022-06-19T03:42:32.783Z"
   },
   {
    "duration": 13,
    "start_time": "2022-06-19T03:42:48.651Z"
   },
   {
    "duration": 5,
    "start_time": "2022-06-19T03:45:34.058Z"
   },
   {
    "duration": 8,
    "start_time": "2022-06-19T03:45:37.513Z"
   },
   {
    "duration": 19,
    "start_time": "2022-06-19T03:45:48.044Z"
   },
   {
    "duration": 14,
    "start_time": "2022-06-19T03:45:54.540Z"
   },
   {
    "duration": 23,
    "start_time": "2022-06-19T03:47:05.625Z"
   },
   {
    "duration": 24,
    "start_time": "2022-06-19T03:47:28.434Z"
   },
   {
    "duration": 18,
    "start_time": "2022-06-19T03:49:40.173Z"
   },
   {
    "duration": 4,
    "start_time": "2022-06-19T03:50:01.690Z"
   },
   {
    "duration": 7,
    "start_time": "2022-06-19T03:50:06.743Z"
   },
   {
    "duration": 112,
    "start_time": "2022-06-19T03:50:17.264Z"
   },
   {
    "duration": 9,
    "start_time": "2022-06-19T03:50:36.574Z"
   },
   {
    "duration": 114,
    "start_time": "2022-06-19T03:51:13.992Z"
   },
   {
    "duration": 117,
    "start_time": "2022-06-19T03:51:20.632Z"
   },
   {
    "duration": 127,
    "start_time": "2022-06-19T03:51:37.320Z"
   },
   {
    "duration": 22,
    "start_time": "2022-06-19T03:58:23.755Z"
   },
   {
    "duration": 18,
    "start_time": "2022-06-19T03:58:35.899Z"
   },
   {
    "duration": 3,
    "start_time": "2022-06-19T03:59:31.469Z"
   },
   {
    "duration": 5,
    "start_time": "2022-06-19T03:59:34.750Z"
   },
   {
    "duration": 116,
    "start_time": "2022-06-19T04:05:11.136Z"
   },
   {
    "duration": 110,
    "start_time": "2022-06-19T04:05:29.205Z"
   },
   {
    "duration": 113,
    "start_time": "2022-06-19T04:05:37.663Z"
   },
   {
    "duration": 119,
    "start_time": "2022-06-19T04:05:43.422Z"
   },
   {
    "duration": 163,
    "start_time": "2022-06-19T04:06:10.016Z"
   },
   {
    "duration": 164,
    "start_time": "2022-06-19T04:07:15.376Z"
   },
   {
    "duration": 163,
    "start_time": "2022-06-19T04:07:38.455Z"
   },
   {
    "duration": 14,
    "start_time": "2022-06-19T04:08:09.115Z"
   },
   {
    "duration": 32,
    "start_time": "2022-06-19T04:08:30.072Z"
   },
   {
    "duration": 25,
    "start_time": "2022-06-19T04:08:39.199Z"
   },
   {
    "duration": 29,
    "start_time": "2022-06-19T04:09:00.602Z"
   },
   {
    "duration": 262,
    "start_time": "2022-06-19T04:09:05.235Z"
   },
   {
    "duration": 163,
    "start_time": "2022-06-19T04:09:45.802Z"
   },
   {
    "duration": 167,
    "start_time": "2022-06-19T04:10:01.940Z"
   },
   {
    "duration": 159,
    "start_time": "2022-06-19T04:10:11.037Z"
   },
   {
    "duration": 167,
    "start_time": "2022-06-19T04:10:28.539Z"
   },
   {
    "duration": 185,
    "start_time": "2022-06-19T04:10:49.038Z"
   },
   {
    "duration": 179,
    "start_time": "2022-06-19T04:11:17.036Z"
   },
   {
    "duration": 164,
    "start_time": "2022-06-19T04:13:03.929Z"
   },
   {
    "duration": 157,
    "start_time": "2022-06-19T04:13:16.571Z"
   },
   {
    "duration": 14,
    "start_time": "2022-06-19T04:13:26.653Z"
   },
   {
    "duration": 167,
    "start_time": "2022-06-19T04:13:34.003Z"
   },
   {
    "duration": 165,
    "start_time": "2022-06-19T04:13:47.176Z"
   },
   {
    "duration": 175,
    "start_time": "2022-06-19T04:13:51.245Z"
   },
   {
    "duration": 158,
    "start_time": "2022-06-19T04:14:11.929Z"
   },
   {
    "duration": 167,
    "start_time": "2022-06-19T04:16:14.895Z"
   },
   {
    "duration": 293,
    "start_time": "2022-06-19T04:16:17.832Z"
   },
   {
    "duration": 27,
    "start_time": "2022-06-19T04:16:38.489Z"
   },
   {
    "duration": 177,
    "start_time": "2022-06-19T04:16:42.052Z"
   },
   {
    "duration": 166,
    "start_time": "2022-06-19T04:16:50.798Z"
   },
   {
    "duration": 169,
    "start_time": "2022-06-19T04:16:57.175Z"
   },
   {
    "duration": 171,
    "start_time": "2022-06-19T04:16:59.996Z"
   },
   {
    "duration": 168,
    "start_time": "2022-06-19T04:17:24.570Z"
   },
   {
    "duration": 167,
    "start_time": "2022-06-19T04:17:37.947Z"
   },
   {
    "duration": 3,
    "start_time": "2022-06-19T04:17:44.589Z"
   },
   {
    "duration": 174,
    "start_time": "2022-06-19T04:18:02.257Z"
   },
   {
    "duration": 172,
    "start_time": "2022-06-19T04:18:44.862Z"
   },
   {
    "duration": 14,
    "start_time": "2022-06-19T04:19:10.996Z"
   },
   {
    "duration": 166,
    "start_time": "2022-06-19T04:19:19.138Z"
   },
   {
    "duration": 159,
    "start_time": "2022-06-19T04:19:28.806Z"
   },
   {
    "duration": 170,
    "start_time": "2022-06-19T04:19:38.053Z"
   },
   {
    "duration": 185,
    "start_time": "2022-06-19T04:19:46.405Z"
   },
   {
    "duration": 165,
    "start_time": "2022-06-19T04:19:53.139Z"
   },
   {
    "duration": 253,
    "start_time": "2022-06-19T04:26:00.261Z"
   },
   {
    "duration": 116,
    "start_time": "2022-06-19T04:26:11.809Z"
   },
   {
    "duration": 127,
    "start_time": "2022-06-19T04:26:36.987Z"
   },
   {
    "duration": 117,
    "start_time": "2022-06-19T04:27:49.733Z"
   },
   {
    "duration": 127,
    "start_time": "2022-06-19T04:27:59.843Z"
   },
   {
    "duration": 29,
    "start_time": "2022-06-19T04:28:04.575Z"
   },
   {
    "duration": 116,
    "start_time": "2022-06-19T04:28:08.905Z"
   },
   {
    "duration": 116,
    "start_time": "2022-06-19T04:28:20.069Z"
   },
   {
    "duration": 125,
    "start_time": "2022-06-19T04:28:33.603Z"
   },
   {
    "duration": 125,
    "start_time": "2022-06-19T04:28:36.467Z"
   },
   {
    "duration": 1201,
    "start_time": "2022-06-19T04:30:00.612Z"
   },
   {
    "duration": 55,
    "start_time": "2022-06-19T04:30:01.815Z"
   },
   {
    "duration": 11,
    "start_time": "2022-06-19T04:30:01.871Z"
   },
   {
    "duration": 6,
    "start_time": "2022-06-19T04:30:01.884Z"
   },
   {
    "duration": 17,
    "start_time": "2022-06-19T04:30:01.891Z"
   },
   {
    "duration": 40,
    "start_time": "2022-06-19T04:30:01.909Z"
   },
   {
    "duration": 149,
    "start_time": "2022-06-19T04:30:01.950Z"
   },
   {
    "duration": 6,
    "start_time": "2022-06-19T04:30:02.101Z"
   },
   {
    "duration": 15,
    "start_time": "2022-06-19T04:30:02.109Z"
   },
   {
    "duration": 5,
    "start_time": "2022-06-19T04:30:02.126Z"
   },
   {
    "duration": 29,
    "start_time": "2022-06-19T04:30:02.132Z"
   },
   {
    "duration": 12,
    "start_time": "2022-06-19T04:30:02.163Z"
   },
   {
    "duration": 17,
    "start_time": "2022-06-19T04:30:02.176Z"
   },
   {
    "duration": 4,
    "start_time": "2022-06-19T04:30:02.195Z"
   },
   {
    "duration": 41,
    "start_time": "2022-06-19T04:30:02.201Z"
   },
   {
    "duration": 35,
    "start_time": "2022-06-19T04:30:02.244Z"
   },
   {
    "duration": 6,
    "start_time": "2022-06-19T04:30:02.280Z"
   },
   {
    "duration": 48421,
    "start_time": "2022-06-19T04:30:02.288Z"
   },
   {
    "duration": 17777,
    "start_time": "2022-06-19T04:30:50.710Z"
   },
   {
    "duration": 25671,
    "start_time": "2022-06-19T04:31:08.489Z"
   },
   {
    "duration": 37785,
    "start_time": "2022-06-19T04:31:34.165Z"
   },
   {
    "duration": 8,
    "start_time": "2022-06-19T04:32:11.952Z"
   },
   {
    "duration": 62,
    "start_time": "2022-06-19T04:32:11.962Z"
   },
   {
    "duration": 76,
    "start_time": "2022-06-19T04:32:12.025Z"
   },
   {
    "duration": 4,
    "start_time": "2022-06-19T04:32:12.103Z"
   },
   {
    "duration": 6,
    "start_time": "2022-06-19T04:32:12.108Z"
   },
   {
    "duration": 30228,
    "start_time": "2022-06-19T04:32:12.116Z"
   },
   {
    "duration": 205,
    "start_time": "2022-06-19T04:32:42.347Z"
   },
   {
    "duration": 6,
    "start_time": "2022-06-19T04:32:42.554Z"
   },
   {
    "duration": 4718,
    "start_time": "2022-06-19T04:32:42.561Z"
   },
   {
    "duration": 190,
    "start_time": "2022-06-19T04:32:47.281Z"
   },
   {
    "duration": 6,
    "start_time": "2022-06-19T04:32:47.472Z"
   },
   {
    "duration": 98,
    "start_time": "2022-06-19T04:32:47.479Z"
   },
   {
    "duration": 22,
    "start_time": "2022-06-19T04:32:47.579Z"
   },
   {
    "duration": 235,
    "start_time": "2022-06-19T04:32:47.603Z"
   },
   {
    "duration": 0,
    "start_time": "2022-06-19T04:32:47.840Z"
   },
   {
    "duration": 0,
    "start_time": "2022-06-19T04:32:47.841Z"
   },
   {
    "duration": 163,
    "start_time": "2022-06-19T04:33:54.055Z"
   },
   {
    "duration": 151,
    "start_time": "2022-06-19T04:34:01.833Z"
   },
   {
    "duration": 154,
    "start_time": "2022-06-19T04:34:08.570Z"
   },
   {
    "duration": 195,
    "start_time": "2022-06-19T04:34:19.196Z"
   },
   {
    "duration": 185,
    "start_time": "2022-06-19T04:37:47.207Z"
   },
   {
    "duration": 175,
    "start_time": "2022-06-19T04:37:51.437Z"
   },
   {
    "duration": 167,
    "start_time": "2022-06-19T04:37:54.595Z"
   },
   {
    "duration": 277,
    "start_time": "2022-06-19T04:37:58.346Z"
   },
   {
    "duration": 164,
    "start_time": "2022-06-19T04:38:04.595Z"
   },
   {
    "duration": 175,
    "start_time": "2022-06-19T04:38:07.886Z"
   },
   {
    "duration": 159,
    "start_time": "2022-06-19T04:38:11.789Z"
   },
   {
    "duration": 162,
    "start_time": "2022-06-19T04:38:14.184Z"
   },
   {
    "duration": 191,
    "start_time": "2022-06-19T04:38:19.073Z"
   },
   {
    "duration": 107,
    "start_time": "2022-06-19T04:39:21.370Z"
   },
   {
    "duration": 5,
    "start_time": "2022-06-19T04:39:45.680Z"
   },
   {
    "duration": 195,
    "start_time": "2022-06-19T05:31:13.141Z"
   },
   {
    "duration": 153,
    "start_time": "2022-06-19T05:32:53.424Z"
   },
   {
    "duration": 1178,
    "start_time": "2022-06-19T05:38:23.352Z"
   },
   {
    "duration": 54,
    "start_time": "2022-06-19T05:38:24.532Z"
   },
   {
    "duration": 13,
    "start_time": "2022-06-19T05:38:24.588Z"
   },
   {
    "duration": 4,
    "start_time": "2022-06-19T05:38:24.603Z"
   },
   {
    "duration": 5,
    "start_time": "2022-06-19T05:38:24.609Z"
   },
   {
    "duration": 14,
    "start_time": "2022-06-19T05:38:24.616Z"
   },
   {
    "duration": 175,
    "start_time": "2022-06-19T05:38:24.631Z"
   },
   {
    "duration": 7,
    "start_time": "2022-06-19T05:38:24.808Z"
   },
   {
    "duration": 15,
    "start_time": "2022-06-19T05:38:24.817Z"
   },
   {
    "duration": 25,
    "start_time": "2022-06-19T05:38:24.835Z"
   },
   {
    "duration": 6,
    "start_time": "2022-06-19T05:38:24.862Z"
   },
   {
    "duration": 12,
    "start_time": "2022-06-19T05:38:24.870Z"
   },
   {
    "duration": 17,
    "start_time": "2022-06-19T05:38:24.884Z"
   },
   {
    "duration": 5,
    "start_time": "2022-06-19T05:38:24.902Z"
   },
   {
    "duration": 17,
    "start_time": "2022-06-19T05:38:24.908Z"
   },
   {
    "duration": 25,
    "start_time": "2022-06-19T05:38:24.959Z"
   },
   {
    "duration": 5,
    "start_time": "2022-06-19T05:38:24.986Z"
   },
   {
    "duration": 48006,
    "start_time": "2022-06-19T05:38:24.992Z"
   },
   {
    "duration": 18158,
    "start_time": "2022-06-19T05:39:13.001Z"
   },
   {
    "duration": 25579,
    "start_time": "2022-06-19T05:39:31.181Z"
   },
   {
    "duration": 37905,
    "start_time": "2022-06-19T05:39:56.765Z"
   },
   {
    "duration": 3,
    "start_time": "2022-06-19T05:40:34.671Z"
   },
   {
    "duration": 63,
    "start_time": "2022-06-19T05:40:34.675Z"
   },
   {
    "duration": 76,
    "start_time": "2022-06-19T05:40:34.740Z"
   },
   {
    "duration": 4,
    "start_time": "2022-06-19T05:40:34.818Z"
   },
   {
    "duration": 6,
    "start_time": "2022-06-19T05:40:34.824Z"
   },
   {
    "duration": 30419,
    "start_time": "2022-06-19T05:40:34.831Z"
   },
   {
    "duration": 211,
    "start_time": "2022-06-19T05:41:05.253Z"
   },
   {
    "duration": 6,
    "start_time": "2022-06-19T05:41:05.466Z"
   },
   {
    "duration": 4700,
    "start_time": "2022-06-19T05:41:05.474Z"
   },
   {
    "duration": 254,
    "start_time": "2022-06-19T05:41:10.176Z"
   },
   {
    "duration": 6,
    "start_time": "2022-06-19T05:41:10.432Z"
   },
   {
    "duration": 97,
    "start_time": "2022-06-19T05:41:10.439Z"
   },
   {
    "duration": 32,
    "start_time": "2022-06-19T05:41:10.538Z"
   },
   {
    "duration": 210,
    "start_time": "2022-06-19T05:41:10.572Z"
   },
   {
    "duration": 162,
    "start_time": "2022-06-19T05:41:10.784Z"
   },
   {
    "duration": 76,
    "start_time": "2022-06-20T08:29:34.251Z"
   },
   {
    "duration": 1594,
    "start_time": "2022-06-20T08:30:33.988Z"
   },
   {
    "duration": 173,
    "start_time": "2022-06-20T08:30:36.775Z"
   },
   {
    "duration": 55,
    "start_time": "2022-06-20T08:33:56.479Z"
   },
   {
    "duration": 101,
    "start_time": "2022-06-20T08:44:19.103Z"
   },
   {
    "duration": 4,
    "start_time": "2022-06-20T09:06:04.549Z"
   },
   {
    "duration": 62,
    "start_time": "2022-06-20T09:06:04.555Z"
   },
   {
    "duration": 13,
    "start_time": "2022-06-20T09:06:04.618Z"
   },
   {
    "duration": 4,
    "start_time": "2022-06-20T09:06:04.633Z"
   },
   {
    "duration": 13,
    "start_time": "2022-06-20T09:06:04.639Z"
   },
   {
    "duration": 19,
    "start_time": "2022-06-20T09:06:04.653Z"
   },
   {
    "duration": 174,
    "start_time": "2022-06-20T09:06:04.673Z"
   },
   {
    "duration": 7,
    "start_time": "2022-06-20T09:06:04.849Z"
   },
   {
    "duration": 16,
    "start_time": "2022-06-20T09:06:04.857Z"
   },
   {
    "duration": 5,
    "start_time": "2022-06-20T09:06:04.875Z"
   },
   {
    "duration": 7,
    "start_time": "2022-06-20T09:06:04.882Z"
   },
   {
    "duration": 15,
    "start_time": "2022-06-20T09:06:04.890Z"
   },
   {
    "duration": 58,
    "start_time": "2022-06-20T09:06:04.908Z"
   },
   {
    "duration": 6,
    "start_time": "2022-06-20T09:06:04.968Z"
   },
   {
    "duration": 16,
    "start_time": "2022-06-20T09:06:04.975Z"
   },
   {
    "duration": 26,
    "start_time": "2022-06-20T09:06:04.992Z"
   },
   {
    "duration": 23,
    "start_time": "2022-06-20T09:06:05.020Z"
   },
   {
    "duration": 51345,
    "start_time": "2022-06-20T09:06:05.045Z"
   },
   {
    "duration": 16379,
    "start_time": "2022-06-20T09:06:56.392Z"
   },
   {
    "duration": 24978,
    "start_time": "2022-06-20T09:07:12.773Z"
   },
   {
    "duration": 42814,
    "start_time": "2022-06-20T09:07:37.752Z"
   },
   {
    "duration": 4,
    "start_time": "2022-06-20T09:08:20.568Z"
   },
   {
    "duration": 75,
    "start_time": "2022-06-20T09:08:20.574Z"
   },
   {
    "duration": 66,
    "start_time": "2022-06-20T09:08:20.651Z"
   },
   {
    "duration": 4,
    "start_time": "2022-06-20T09:08:20.718Z"
   },
   {
    "duration": 5,
    "start_time": "2022-06-20T09:08:20.741Z"
   },
   {
    "duration": 34517,
    "start_time": "2022-06-20T09:08:20.747Z"
   },
   {
    "duration": 230,
    "start_time": "2022-06-20T09:08:55.267Z"
   },
   {
    "duration": 7,
    "start_time": "2022-06-20T09:08:55.499Z"
   },
   {
    "duration": 5530,
    "start_time": "2022-06-20T09:08:55.508Z"
   },
   {
    "duration": 257,
    "start_time": "2022-06-20T09:09:01.040Z"
   },
   {
    "duration": 6,
    "start_time": "2022-06-20T09:09:01.300Z"
   },
   {
    "duration": 120,
    "start_time": "2022-06-20T09:09:01.308Z"
   },
   {
    "duration": 32,
    "start_time": "2022-06-20T09:09:01.431Z"
   },
   {
    "duration": 272,
    "start_time": "2022-06-20T09:09:01.465Z"
   },
   {
    "duration": 98,
    "start_time": "2022-06-20T09:10:28.618Z"
   },
   {
    "duration": 33,
    "start_time": "2022-06-20T09:11:19.122Z"
   },
   {
    "duration": 240,
    "start_time": "2022-06-20T09:12:18.196Z"
   },
   {
    "duration": 42,
    "start_time": "2022-06-20T09:33:06.094Z"
   },
   {
    "duration": 157,
    "start_time": "2022-06-20T09:33:52.892Z"
   },
   {
    "duration": 257,
    "start_time": "2022-06-20T09:33:59.318Z"
   },
   {
    "duration": 213,
    "start_time": "2022-06-20T09:34:14.751Z"
   },
   {
    "duration": 235,
    "start_time": "2022-06-20T09:34:31.362Z"
   },
   {
    "duration": 235,
    "start_time": "2022-06-20T09:34:39.126Z"
   },
   {
    "duration": 400,
    "start_time": "2022-06-20T09:34:43.033Z"
   },
   {
    "duration": 330,
    "start_time": "2022-06-20T09:34:50.129Z"
   },
   {
    "duration": 520,
    "start_time": "2022-06-20T09:35:01.710Z"
   },
   {
    "duration": 290,
    "start_time": "2022-06-20T09:35:15.982Z"
   },
   {
    "duration": 1425,
    "start_time": "2022-06-20T09:48:18.243Z"
   },
   {
    "duration": 56,
    "start_time": "2022-06-20T09:48:19.670Z"
   },
   {
    "duration": 14,
    "start_time": "2022-06-20T09:48:19.727Z"
   },
   {
    "duration": 4,
    "start_time": "2022-06-20T09:48:19.743Z"
   },
   {
    "duration": 11,
    "start_time": "2022-06-20T09:48:19.748Z"
   },
   {
    "duration": 16,
    "start_time": "2022-06-20T09:48:19.761Z"
   },
   {
    "duration": 171,
    "start_time": "2022-06-20T09:48:19.779Z"
   },
   {
    "duration": 8,
    "start_time": "2022-06-20T09:48:19.952Z"
   },
   {
    "duration": 17,
    "start_time": "2022-06-20T09:48:19.962Z"
   },
   {
    "duration": 7,
    "start_time": "2022-06-20T09:48:19.981Z"
   },
   {
    "duration": 9,
    "start_time": "2022-06-20T09:48:19.989Z"
   },
   {
    "duration": 51,
    "start_time": "2022-06-20T09:48:20.000Z"
   },
   {
    "duration": 27,
    "start_time": "2022-06-20T09:48:20.053Z"
   },
   {
    "duration": 7,
    "start_time": "2022-06-20T09:48:20.082Z"
   },
   {
    "duration": 22,
    "start_time": "2022-06-20T09:48:20.091Z"
   },
   {
    "duration": 63,
    "start_time": "2022-06-20T09:48:20.115Z"
   },
   {
    "duration": 9,
    "start_time": "2022-06-20T09:48:20.180Z"
   },
   {
    "duration": 52037,
    "start_time": "2022-06-20T09:48:20.190Z"
   },
   {
    "duration": 18519,
    "start_time": "2022-06-20T09:49:12.229Z"
   },
   {
    "duration": 34086,
    "start_time": "2022-06-20T09:49:30.757Z"
   },
   {
    "duration": 43842,
    "start_time": "2022-06-20T09:50:04.845Z"
   },
   {
    "duration": 4,
    "start_time": "2022-06-20T09:50:48.689Z"
   },
   {
    "duration": 73,
    "start_time": "2022-06-20T09:50:48.695Z"
   },
   {
    "duration": 77,
    "start_time": "2022-06-20T09:50:48.770Z"
   },
   {
    "duration": 4,
    "start_time": "2022-06-20T09:50:48.849Z"
   },
   {
    "duration": 5,
    "start_time": "2022-06-20T09:50:48.855Z"
   },
   {
    "duration": 35241,
    "start_time": "2022-06-20T09:50:48.861Z"
   },
   {
    "duration": 256,
    "start_time": "2022-06-20T09:51:24.106Z"
   },
   {
    "duration": 8,
    "start_time": "2022-06-20T09:51:24.363Z"
   },
   {
    "duration": 5492,
    "start_time": "2022-06-20T09:51:24.373Z"
   },
   {
    "duration": 304,
    "start_time": "2022-06-20T09:51:29.867Z"
   },
   {
    "duration": 7,
    "start_time": "2022-06-20T09:51:30.172Z"
   },
   {
    "duration": 112,
    "start_time": "2022-06-20T09:51:30.181Z"
   },
   {
    "duration": 29,
    "start_time": "2022-06-20T09:51:30.295Z"
   },
   {
    "duration": 45,
    "start_time": "2022-06-20T09:51:30.342Z"
   },
   {
    "duration": 253,
    "start_time": "2022-06-20T09:51:30.389Z"
   },
   {
    "duration": 186,
    "start_time": "2022-06-20T09:51:30.644Z"
   },
   {
    "duration": 1362,
    "start_time": "2022-12-07T21:54:24.125Z"
   },
   {
    "duration": 106,
    "start_time": "2022-12-07T21:54:25.489Z"
   },
   {
    "duration": 14,
    "start_time": "2022-12-07T21:54:25.596Z"
   },
   {
    "duration": 4,
    "start_time": "2022-12-07T21:54:25.612Z"
   },
   {
    "duration": 8,
    "start_time": "2022-12-07T21:54:25.618Z"
   },
   {
    "duration": 19,
    "start_time": "2022-12-07T21:54:25.627Z"
   },
   {
    "duration": 147,
    "start_time": "2022-12-07T21:54:25.648Z"
   },
   {
    "duration": 8,
    "start_time": "2022-12-07T21:54:25.796Z"
   },
   {
    "duration": 30,
    "start_time": "2022-12-07T21:54:25.805Z"
   },
   {
    "duration": 5,
    "start_time": "2022-12-07T21:54:25.838Z"
   },
   {
    "duration": 14,
    "start_time": "2022-12-07T21:54:25.845Z"
   },
   {
    "duration": 20,
    "start_time": "2022-12-07T21:54:25.860Z"
   },
   {
    "duration": 17,
    "start_time": "2022-12-07T21:54:25.882Z"
   },
   {
    "duration": 5,
    "start_time": "2022-12-07T21:54:25.900Z"
   },
   {
    "duration": 36,
    "start_time": "2022-12-07T21:54:25.906Z"
   },
   {
    "duration": 25,
    "start_time": "2022-12-07T21:54:25.944Z"
   },
   {
    "duration": 5,
    "start_time": "2022-12-07T21:54:25.971Z"
   },
   {
    "duration": 52188,
    "start_time": "2022-12-07T21:54:25.977Z"
   },
   {
    "duration": 19106,
    "start_time": "2022-12-07T21:55:18.167Z"
   },
   {
    "duration": 28468,
    "start_time": "2022-12-07T21:55:37.275Z"
   },
   {
    "duration": 42052,
    "start_time": "2022-12-07T21:56:05.745Z"
   },
   {
    "duration": 3,
    "start_time": "2022-12-07T21:56:47.799Z"
   },
   {
    "duration": 83,
    "start_time": "2022-12-07T21:56:47.803Z"
   },
   {
    "duration": 77,
    "start_time": "2022-12-07T21:56:47.887Z"
   },
   {
    "duration": 4,
    "start_time": "2022-12-07T21:56:47.965Z"
   },
   {
    "duration": 11,
    "start_time": "2022-12-07T21:56:47.971Z"
   },
   {
    "duration": 33498,
    "start_time": "2022-12-07T21:56:47.984Z"
   },
   {
    "duration": 213,
    "start_time": "2022-12-07T21:57:21.485Z"
   },
   {
    "duration": 7,
    "start_time": "2022-12-07T21:57:21.700Z"
   },
   {
    "duration": 5150,
    "start_time": "2022-12-07T21:57:21.708Z"
   },
   {
    "duration": 228,
    "start_time": "2022-12-07T21:57:26.860Z"
   },
   {
    "duration": 6,
    "start_time": "2022-12-07T21:57:27.090Z"
   },
   {
    "duration": 127,
    "start_time": "2022-12-07T21:57:27.097Z"
   },
   {
    "duration": 32,
    "start_time": "2022-12-07T21:57:27.226Z"
   },
   {
    "duration": 37,
    "start_time": "2022-12-07T21:57:27.260Z"
   },
   {
    "duration": 236,
    "start_time": "2022-12-07T21:57:27.299Z"
   },
   {
    "duration": 168,
    "start_time": "2022-12-07T21:57:27.537Z"
   }
  ],
  "kernelspec": {
   "display_name": "Python 3 (ipykernel)",
   "language": "python",
   "name": "python3"
  },
  "language_info": {
   "codemirror_mode": {
    "name": "ipython",
    "version": 3
   },
   "file_extension": ".py",
   "mimetype": "text/x-python",
   "name": "python",
   "nbconvert_exporter": "python",
   "pygments_lexer": "ipython3",
   "version": "3.9.7"
  },
  "toc": {
   "base_numbering": 1,
   "nav_menu": {},
   "number_sections": true,
   "sideBar": true,
   "skip_h1_title": true,
   "title_cell": "Содержание",
   "title_sidebar": "Contents",
   "toc_cell": true,
   "toc_position": {
    "height": "calc(100% - 180px)",
    "left": "10px",
    "top": "150px",
    "width": "247px"
   },
   "toc_section_display": true,
   "toc_window_display": true
  }
 },
 "nbformat": 4,
 "nbformat_minor": 2
}
