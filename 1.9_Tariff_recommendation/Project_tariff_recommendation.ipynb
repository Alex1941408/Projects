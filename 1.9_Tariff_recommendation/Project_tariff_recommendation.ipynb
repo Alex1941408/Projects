{
 "cells": [
  {
   "cell_type": "markdown",
   "metadata": {},
   "source": [
    "## Открытие и изучение файла"
   ]
  },
  {
   "cell_type": "markdown",
   "metadata": {},
   "source": [
    "Импортируем необходимые для работы библиотеки: "
   ]
  },
  {
   "cell_type": "code",
   "execution_count": 1,
   "metadata": {},
   "outputs": [],
   "source": [
    "import pandas as pd\n",
    "from sklearn.model_selection import train_test_split\n",
    "from sklearn.tree import DecisionTreeClassifier\n",
    "from sklearn.metrics import accuracy_score\n",
    "from sklearn.linear_model import LogisticRegression\n",
    "from sklearn.ensemble import RandomForestClassifier"
   ]
  },
  {
   "cell_type": "markdown",
   "metadata": {},
   "source": [
    "Откроем файл с данными и выведем первые 10 строк на экран:"
   ]
  },
  {
   "cell_type": "code",
   "execution_count": 2,
   "metadata": {},
   "outputs": [
    {
     "data": {
      "text/html": [
       "<div>\n",
       "<style scoped>\n",
       "    .dataframe tbody tr th:only-of-type {\n",
       "        vertical-align: middle;\n",
       "    }\n",
       "\n",
       "    .dataframe tbody tr th {\n",
       "        vertical-align: top;\n",
       "    }\n",
       "\n",
       "    .dataframe thead th {\n",
       "        text-align: right;\n",
       "    }\n",
       "</style>\n",
       "<table border=\"1\" class=\"dataframe\">\n",
       "  <thead>\n",
       "    <tr style=\"text-align: right;\">\n",
       "      <th></th>\n",
       "      <th>calls</th>\n",
       "      <th>minutes</th>\n",
       "      <th>messages</th>\n",
       "      <th>mb_used</th>\n",
       "      <th>is_ultra</th>\n",
       "    </tr>\n",
       "  </thead>\n",
       "  <tbody>\n",
       "    <tr>\n",
       "      <th>0</th>\n",
       "      <td>40.0</td>\n",
       "      <td>311.90</td>\n",
       "      <td>83.0</td>\n",
       "      <td>19915.42</td>\n",
       "      <td>0</td>\n",
       "    </tr>\n",
       "    <tr>\n",
       "      <th>1</th>\n",
       "      <td>85.0</td>\n",
       "      <td>516.75</td>\n",
       "      <td>56.0</td>\n",
       "      <td>22696.96</td>\n",
       "      <td>0</td>\n",
       "    </tr>\n",
       "    <tr>\n",
       "      <th>2</th>\n",
       "      <td>77.0</td>\n",
       "      <td>467.66</td>\n",
       "      <td>86.0</td>\n",
       "      <td>21060.45</td>\n",
       "      <td>0</td>\n",
       "    </tr>\n",
       "    <tr>\n",
       "      <th>3</th>\n",
       "      <td>106.0</td>\n",
       "      <td>745.53</td>\n",
       "      <td>81.0</td>\n",
       "      <td>8437.39</td>\n",
       "      <td>1</td>\n",
       "    </tr>\n",
       "    <tr>\n",
       "      <th>4</th>\n",
       "      <td>66.0</td>\n",
       "      <td>418.74</td>\n",
       "      <td>1.0</td>\n",
       "      <td>14502.75</td>\n",
       "      <td>0</td>\n",
       "    </tr>\n",
       "    <tr>\n",
       "      <th>5</th>\n",
       "      <td>58.0</td>\n",
       "      <td>344.56</td>\n",
       "      <td>21.0</td>\n",
       "      <td>15823.37</td>\n",
       "      <td>0</td>\n",
       "    </tr>\n",
       "    <tr>\n",
       "      <th>6</th>\n",
       "      <td>57.0</td>\n",
       "      <td>431.64</td>\n",
       "      <td>20.0</td>\n",
       "      <td>3738.90</td>\n",
       "      <td>1</td>\n",
       "    </tr>\n",
       "    <tr>\n",
       "      <th>7</th>\n",
       "      <td>15.0</td>\n",
       "      <td>132.40</td>\n",
       "      <td>6.0</td>\n",
       "      <td>21911.60</td>\n",
       "      <td>0</td>\n",
       "    </tr>\n",
       "    <tr>\n",
       "      <th>8</th>\n",
       "      <td>7.0</td>\n",
       "      <td>43.39</td>\n",
       "      <td>3.0</td>\n",
       "      <td>2538.67</td>\n",
       "      <td>1</td>\n",
       "    </tr>\n",
       "    <tr>\n",
       "      <th>9</th>\n",
       "      <td>90.0</td>\n",
       "      <td>665.41</td>\n",
       "      <td>38.0</td>\n",
       "      <td>17358.61</td>\n",
       "      <td>0</td>\n",
       "    </tr>\n",
       "  </tbody>\n",
       "</table>\n",
       "</div>"
      ],
      "text/plain": [
       "   calls  minutes  messages   mb_used  is_ultra\n",
       "0   40.0   311.90      83.0  19915.42         0\n",
       "1   85.0   516.75      56.0  22696.96         0\n",
       "2   77.0   467.66      86.0  21060.45         0\n",
       "3  106.0   745.53      81.0   8437.39         1\n",
       "4   66.0   418.74       1.0  14502.75         0\n",
       "5   58.0   344.56      21.0  15823.37         0\n",
       "6   57.0   431.64      20.0   3738.90         1\n",
       "7   15.0   132.40       6.0  21911.60         0\n",
       "8    7.0    43.39       3.0   2538.67         1\n",
       "9   90.0   665.41      38.0  17358.61         0"
      ]
     },
     "execution_count": 2,
     "metadata": {},
     "output_type": "execute_result"
    }
   ],
   "source": [
    "df = pd.read_csv('/datasets/users_behavior.csv')\n",
    "df.head(10)"
   ]
  },
  {
   "cell_type": "markdown",
   "metadata": {},
   "source": [
    "Проверим данные:"
   ]
  },
  {
   "cell_type": "code",
   "execution_count": 3,
   "metadata": {},
   "outputs": [
    {
     "name": "stdout",
     "output_type": "stream",
     "text": [
      "<class 'pandas.core.frame.DataFrame'>\n",
      "RangeIndex: 3214 entries, 0 to 3213\n",
      "Data columns (total 5 columns):\n",
      " #   Column    Non-Null Count  Dtype  \n",
      "---  ------    --------------  -----  \n",
      " 0   calls     3214 non-null   float64\n",
      " 1   minutes   3214 non-null   float64\n",
      " 2   messages  3214 non-null   float64\n",
      " 3   mb_used   3214 non-null   float64\n",
      " 4   is_ultra  3214 non-null   int64  \n",
      "dtypes: float64(4), int64(1)\n",
      "memory usage: 125.7 KB\n"
     ]
    }
   ],
   "source": [
    "df.info()"
   ]
  },
  {
   "cell_type": "code",
   "execution_count": 4,
   "metadata": {},
   "outputs": [
    {
     "data": {
      "text/plain": [
       "0"
      ]
     },
     "execution_count": 4,
     "metadata": {},
     "output_type": "execute_result"
    }
   ],
   "source": [
    "df.duplicated().sum()"
   ]
  },
  {
   "cell_type": "markdown",
   "metadata": {},
   "source": [
    "Из полученного результата следует, что пропусков и дубликатов в данных нет, все данные типа, соответствующего им  "
   ]
  },
  {
   "cell_type": "markdown",
   "metadata": {},
   "source": [
    "## Разбивка данных на выборки"
   ]
  },
  {
   "cell_type": "markdown",
   "metadata": {},
   "source": [
    "Разделим исходные данные на обучающую выборку (`features_train` - признаки выборки, `target_train` - целевой признак), валидационную (`features_valid` - признаки выборки, `target_valid` - целевой признак) и тестовую (`features_test` - признаки выборки, `target_test` - целевой признак). Разделим в соотношении 3:1:1, т.е. у тестовой и валидационной выборок - по 20% от общей, у обучающей - 60%: "
   ]
  },
  {
   "cell_type": "markdown",
   "metadata": {},
   "source": [
    "Определим количество процентное соотношение единиц к общему количеству:"
   ]
  },
  {
   "cell_type": "code",
   "execution_count": 5,
   "metadata": {
    "scrolled": true
   },
   "outputs": [
    {
     "data": {
      "text/plain": [
       "0.30647168637212197"
      ]
     },
     "execution_count": 5,
     "metadata": {},
     "output_type": "execute_result"
    }
   ],
   "source": [
    "df.query('is_ultra == 1')['is_ultra'].count() / df.shape[0]"
   ]
  },
  {
   "cell_type": "markdown",
   "metadata": {},
   "source": [
    "Произведем разделение датасета таким образом, чтобы такое процентное соотношение сохранялось в выборках, а также сделаем проверку:"
   ]
  },
  {
   "cell_type": "code",
   "execution_count": 6,
   "metadata": {},
   "outputs": [
    {
     "name": "stdout",
     "output_type": "stream",
     "text": [
      "0.3065352697095436\n",
      "0.30637636080870917\n"
     ]
    },
    {
     "data": {
      "text/plain": [
       "0.30637636080870917"
      ]
     },
     "execution_count": 6,
     "metadata": {},
     "output_type": "execute_result"
    }
   ],
   "source": [
    "features = df.drop(['is_ultra'], axis = 1)\n",
    "target = df['is_ultra']\n",
    "\n",
    "df_train = df.copy()\n",
    "features_train, features_test, target_train, target_test = train_test_split(features, target, test_size = 0.2, random_state = 12345, stratify = target)\n",
    "features_train, features_valid, target_train, target_valid = train_test_split(features_train, target_train, test_size = 0.25, \n",
    "                                                                              random_state = 12345, stratify = target_train)\n",
    "\n",
    "print(target_train[target_train == 1].count() / len(target_train))\n",
    "print(target_test[target_test == 1].count() / len(target_test))\n",
    "target_valid[target_valid == 1].count() / len(target_valid)"
   ]
  },
  {
   "cell_type": "markdown",
   "metadata": {},
   "source": [
    "## Исследование модели"
   ]
  },
  {
   "cell_type": "markdown",
   "metadata": {},
   "source": [
    "Обучим модель на разных алгоритмах\n",
    "\n",
    "Для начала проведем обучение на алгоритме \"дерево решение\". Будем менять параметр `max_depth` и определим качество данной модели (наибольшее значение `accuracy`), а также создадим список `accuracy_decision_tree_classifier_list`, содержащий значения `accuracy`, а также определим значение `max_depth`, при котором достигается максимальное значение `accuracy` на обучающей выборке при данном алгоритме (значение `max_depth` на 1 больше порядка в списке)::  "
   ]
  },
  {
   "cell_type": "code",
   "execution_count": 7,
   "metadata": {
    "scrolled": false
   },
   "outputs": [
    {
     "name": "stdout",
     "output_type": "stream",
     "text": [
      "Наибольшее значение accuracy:  0.8164852255054432\n",
      "Лучшее значение гиперпараметра max_depth:  5\n"
     ]
    }
   ],
   "source": [
    "result_model_decision_tree_classifier = 0\n",
    "accuracy_decision_tree_classifier_list = []\n",
    "\n",
    "for depth in range(1, len(target_test)):\n",
    "         \n",
    "    model_decision_tree_classifier = DecisionTreeClassifier(random_state = 12345, max_depth = depth)\n",
    "    model_decision_tree_classifier.fit(features_train, target_train)\n",
    "    answer_decision_tree_classifier = model_decision_tree_classifier.predict(features_valid)\n",
    "    accuracy_decision_tree_classifier = accuracy_score(answer_decision_tree_classifier, target_valid)\n",
    "    accuracy_decision_tree_classifier_list.append(accuracy_decision_tree_classifier)\n",
    "    \n",
    "    \n",
    "    if result_model_decision_tree_classifier < accuracy_decision_tree_classifier:\n",
    "        result_model_decision_tree_classifier = accuracy_decision_tree_classifier       \n",
    "          \n",
    "print('Наибольшее значение accuracy: ', result_model_decision_tree_classifier)\n",
    "\n",
    "for index in range(len(accuracy_decision_tree_classifier_list)):\n",
    "    if accuracy_decision_tree_classifier_list[index] == result_model_decision_tree_classifier:\n",
    "        print('Лучшее значение гиперпараметра max_depth: ', index + 1)"
   ]
  },
  {
   "cell_type": "markdown",
   "metadata": {},
   "source": [
    "Проведем обучение на алгоритме \"логистическая регрессия\". Будем менять параметр `max_iter` и определим качество данной модели (наибольшее значение `accuracy`), а также создадим список `accuracy_model_LogisticRegression_list`, содержащий значения `accuracy`:  "
   ]
  },
  {
   "cell_type": "code",
   "execution_count": 8,
   "metadata": {},
   "outputs": [
    {
     "name": "stdout",
     "output_type": "stream",
     "text": [
      "0.7558320373250389\n"
     ]
    }
   ],
   "source": [
    "result_model_LogisticRegression = 0\n",
    "accuracy_model_LogisticRegression_list = []\n",
    "\n",
    "for iteration in range(100, 100000, 100):\n",
    "    \n",
    "    model_LogisticRegression = LogisticRegression(random_state = 12345, solver = 'lbfgs', max_iter = iteration)\n",
    "    model_LogisticRegression.fit(features_train, target_train)\n",
    "    answer_LogisticRegression = model_LogisticRegression.predict(features_valid)\n",
    "    accuracy_model_LogisticRegression = accuracy_score(answer_LogisticRegression, target_valid)\n",
    "    accuracy_model_LogisticRegression_list.append(accuracy_model_LogisticRegression)\n",
    "    \n",
    "    if result_model_LogisticRegression < accuracy_model_LogisticRegression:\n",
    "        result_model_LogisticRegression = accuracy_model_LogisticRegression\n",
    "\n",
    "print(result_model_LogisticRegression)"
   ]
  },
  {
   "cell_type": "markdown",
   "metadata": {},
   "source": [
    "Определим значение `max_iter`, при котором достигается максимальное значение `accuracy` на обучающей выборке при данном алгоритме:"
   ]
  },
  {
   "cell_type": "code",
   "execution_count": 9,
   "metadata": {
    "scrolled": true
   },
   "outputs": [
    {
     "name": "stdout",
     "output_type": "stream",
     "text": [
      "0\n",
      "1\n",
      "2\n",
      "3\n",
      "4\n",
      "5\n",
      "6\n",
      "7\n",
      "8\n",
      "9\n",
      "10\n",
      "11\n",
      "12\n",
      "13\n",
      "14\n",
      "15\n",
      "16\n",
      "17\n",
      "18\n",
      "19\n",
      "20\n",
      "21\n",
      "22\n",
      "23\n",
      "24\n",
      "25\n",
      "26\n",
      "27\n",
      "28\n",
      "29\n",
      "30\n",
      "31\n",
      "32\n",
      "33\n",
      "34\n",
      "35\n",
      "36\n",
      "37\n",
      "38\n",
      "39\n",
      "40\n",
      "41\n",
      "42\n",
      "43\n",
      "44\n",
      "45\n",
      "46\n",
      "47\n",
      "48\n",
      "49\n",
      "50\n",
      "51\n",
      "52\n",
      "53\n",
      "54\n",
      "55\n",
      "56\n",
      "57\n",
      "58\n",
      "59\n",
      "60\n",
      "61\n",
      "62\n",
      "63\n",
      "64\n",
      "65\n",
      "66\n",
      "67\n",
      "68\n",
      "69\n",
      "70\n",
      "71\n",
      "72\n",
      "73\n",
      "74\n",
      "75\n",
      "76\n",
      "77\n",
      "78\n",
      "79\n",
      "80\n",
      "81\n",
      "82\n",
      "83\n",
      "84\n",
      "85\n",
      "86\n",
      "87\n",
      "88\n",
      "89\n",
      "90\n",
      "91\n",
      "92\n",
      "93\n",
      "94\n",
      "95\n",
      "96\n",
      "97\n",
      "98\n",
      "99\n",
      "100\n",
      "101\n",
      "102\n",
      "103\n",
      "104\n",
      "105\n",
      "106\n",
      "107\n",
      "108\n",
      "109\n",
      "110\n",
      "111\n",
      "112\n",
      "113\n",
      "114\n",
      "115\n",
      "116\n",
      "117\n",
      "118\n",
      "119\n",
      "120\n",
      "121\n",
      "122\n",
      "123\n",
      "124\n",
      "125\n",
      "126\n",
      "127\n",
      "128\n",
      "129\n",
      "130\n",
      "131\n",
      "132\n",
      "133\n",
      "134\n",
      "135\n",
      "136\n",
      "137\n",
      "138\n",
      "139\n",
      "140\n",
      "141\n",
      "142\n",
      "143\n",
      "144\n",
      "145\n",
      "146\n",
      "147\n",
      "148\n",
      "149\n",
      "150\n",
      "151\n",
      "152\n",
      "153\n",
      "154\n",
      "155\n",
      "156\n",
      "157\n",
      "158\n",
      "159\n",
      "160\n",
      "161\n",
      "162\n",
      "163\n",
      "164\n",
      "165\n",
      "166\n",
      "167\n",
      "168\n",
      "169\n",
      "170\n",
      "171\n",
      "172\n",
      "173\n",
      "174\n",
      "175\n",
      "176\n",
      "177\n",
      "178\n",
      "179\n",
      "180\n",
      "181\n",
      "182\n",
      "183\n",
      "184\n",
      "185\n",
      "186\n",
      "187\n",
      "188\n",
      "189\n",
      "190\n",
      "191\n",
      "192\n",
      "193\n",
      "194\n",
      "195\n",
      "196\n",
      "197\n",
      "198\n",
      "199\n",
      "200\n",
      "201\n",
      "202\n",
      "203\n",
      "204\n",
      "205\n",
      "206\n",
      "207\n",
      "208\n",
      "209\n",
      "210\n",
      "211\n",
      "212\n",
      "213\n",
      "214\n",
      "215\n",
      "216\n",
      "217\n",
      "218\n",
      "219\n",
      "220\n",
      "221\n",
      "222\n",
      "223\n",
      "224\n",
      "225\n",
      "226\n",
      "227\n",
      "228\n",
      "229\n",
      "230\n",
      "231\n",
      "232\n",
      "233\n",
      "234\n",
      "235\n",
      "236\n",
      "237\n",
      "238\n",
      "239\n",
      "240\n",
      "241\n",
      "242\n",
      "243\n",
      "244\n",
      "245\n",
      "246\n",
      "247\n",
      "248\n",
      "249\n",
      "250\n",
      "251\n",
      "252\n",
      "253\n",
      "254\n",
      "255\n",
      "256\n",
      "257\n",
      "258\n",
      "259\n",
      "260\n",
      "261\n",
      "262\n",
      "263\n",
      "264\n",
      "265\n",
      "266\n",
      "267\n",
      "268\n",
      "269\n",
      "270\n",
      "271\n",
      "272\n",
      "273\n",
      "274\n",
      "275\n",
      "276\n",
      "277\n",
      "278\n",
      "279\n",
      "280\n",
      "281\n",
      "282\n",
      "283\n",
      "284\n",
      "285\n",
      "286\n",
      "287\n",
      "288\n",
      "289\n",
      "290\n",
      "291\n",
      "292\n",
      "293\n",
      "294\n",
      "295\n",
      "296\n",
      "297\n",
      "298\n",
      "299\n",
      "300\n",
      "301\n",
      "302\n",
      "303\n",
      "304\n",
      "305\n",
      "306\n",
      "307\n",
      "308\n",
      "309\n",
      "310\n",
      "311\n",
      "312\n",
      "313\n",
      "314\n",
      "315\n",
      "316\n",
      "317\n",
      "318\n",
      "319\n",
      "320\n",
      "321\n",
      "322\n",
      "323\n",
      "324\n",
      "325\n",
      "326\n",
      "327\n",
      "328\n",
      "329\n",
      "330\n",
      "331\n",
      "332\n",
      "333\n",
      "334\n",
      "335\n",
      "336\n",
      "337\n",
      "338\n",
      "339\n",
      "340\n",
      "341\n",
      "342\n",
      "343\n",
      "344\n",
      "345\n",
      "346\n",
      "347\n",
      "348\n",
      "349\n",
      "350\n",
      "351\n",
      "352\n",
      "353\n",
      "354\n",
      "355\n",
      "356\n",
      "357\n",
      "358\n",
      "359\n",
      "360\n",
      "361\n",
      "362\n",
      "363\n",
      "364\n",
      "365\n",
      "366\n",
      "367\n",
      "368\n",
      "369\n",
      "370\n",
      "371\n",
      "372\n",
      "373\n",
      "374\n",
      "375\n",
      "376\n",
      "377\n",
      "378\n",
      "379\n",
      "380\n",
      "381\n",
      "382\n",
      "383\n",
      "384\n",
      "385\n",
      "386\n",
      "387\n",
      "388\n",
      "389\n",
      "390\n",
      "391\n",
      "392\n",
      "393\n",
      "394\n",
      "395\n",
      "396\n",
      "397\n",
      "398\n",
      "399\n",
      "400\n",
      "401\n",
      "402\n",
      "403\n",
      "404\n",
      "405\n",
      "406\n",
      "407\n",
      "408\n",
      "409\n",
      "410\n",
      "411\n",
      "412\n",
      "413\n",
      "414\n",
      "415\n",
      "416\n",
      "417\n",
      "418\n",
      "419\n",
      "420\n",
      "421\n",
      "422\n",
      "423\n",
      "424\n",
      "425\n",
      "426\n",
      "427\n",
      "428\n",
      "429\n",
      "430\n",
      "431\n",
      "432\n",
      "433\n",
      "434\n",
      "435\n",
      "436\n",
      "437\n",
      "438\n",
      "439\n",
      "440\n",
      "441\n",
      "442\n",
      "443\n",
      "444\n",
      "445\n",
      "446\n",
      "447\n",
      "448\n",
      "449\n",
      "450\n",
      "451\n",
      "452\n",
      "453\n",
      "454\n",
      "455\n",
      "456\n",
      "457\n",
      "458\n",
      "459\n",
      "460\n",
      "461\n",
      "462\n",
      "463\n",
      "464\n",
      "465\n",
      "466\n",
      "467\n",
      "468\n",
      "469\n",
      "470\n",
      "471\n",
      "472\n",
      "473\n",
      "474\n",
      "475\n",
      "476\n",
      "477\n",
      "478\n",
      "479\n",
      "480\n",
      "481\n",
      "482\n",
      "483\n",
      "484\n",
      "485\n",
      "486\n",
      "487\n",
      "488\n",
      "489\n",
      "490\n",
      "491\n",
      "492\n",
      "493\n",
      "494\n",
      "495\n",
      "496\n",
      "497\n",
      "498\n",
      "499\n",
      "500\n",
      "501\n",
      "502\n",
      "503\n",
      "504\n",
      "505\n",
      "506\n",
      "507\n",
      "508\n",
      "509\n",
      "510\n",
      "511\n",
      "512\n",
      "513\n",
      "514\n",
      "515\n",
      "516\n",
      "517\n",
      "518\n",
      "519\n",
      "520\n",
      "521\n",
      "522\n",
      "523\n",
      "524\n",
      "525\n",
      "526\n",
      "527\n",
      "528\n",
      "529\n",
      "530\n",
      "531\n",
      "532\n",
      "533\n",
      "534\n",
      "535\n",
      "536\n",
      "537\n",
      "538\n",
      "539\n",
      "540\n",
      "541\n",
      "542\n",
      "543\n",
      "544\n",
      "545\n",
      "546\n",
      "547\n",
      "548\n",
      "549\n",
      "550\n",
      "551\n",
      "552\n",
      "553\n",
      "554\n",
      "555\n",
      "556\n",
      "557\n",
      "558\n",
      "559\n",
      "560\n",
      "561\n",
      "562\n",
      "563\n",
      "564\n",
      "565\n",
      "566\n",
      "567\n",
      "568\n",
      "569\n",
      "570\n",
      "571\n",
      "572\n",
      "573\n",
      "574\n",
      "575\n",
      "576\n",
      "577\n",
      "578\n",
      "579\n",
      "580\n",
      "581\n",
      "582\n",
      "583\n",
      "584\n",
      "585\n",
      "586\n",
      "587\n",
      "588\n",
      "589\n",
      "590\n",
      "591\n",
      "592\n",
      "593\n",
      "594\n",
      "595\n",
      "596\n",
      "597\n",
      "598\n",
      "599\n",
      "600\n",
      "601\n",
      "602\n",
      "603\n",
      "604\n",
      "605\n",
      "606\n",
      "607\n",
      "608\n",
      "609\n",
      "610\n",
      "611\n",
      "612\n",
      "613\n",
      "614\n",
      "615\n",
      "616\n",
      "617\n",
      "618\n",
      "619\n",
      "620\n",
      "621\n",
      "622\n",
      "623\n",
      "624\n",
      "625\n",
      "626\n",
      "627\n",
      "628\n",
      "629\n",
      "630\n",
      "631\n",
      "632\n",
      "633\n",
      "634\n",
      "635\n",
      "636\n",
      "637\n",
      "638\n",
      "639\n",
      "640\n",
      "641\n",
      "642\n",
      "643\n",
      "644\n",
      "645\n",
      "646\n",
      "647\n",
      "648\n",
      "649\n",
      "650\n",
      "651\n",
      "652\n",
      "653\n",
      "654\n",
      "655\n",
      "656\n",
      "657\n",
      "658\n",
      "659\n",
      "660\n",
      "661\n",
      "662\n",
      "663\n",
      "664\n",
      "665\n",
      "666\n",
      "667\n",
      "668\n",
      "669\n",
      "670\n",
      "671\n",
      "672\n",
      "673\n",
      "674\n",
      "675\n",
      "676\n",
      "677\n",
      "678\n",
      "679\n",
      "680\n",
      "681\n",
      "682\n",
      "683\n",
      "684\n",
      "685\n",
      "686\n",
      "687\n",
      "688\n",
      "689\n",
      "690\n",
      "691\n",
      "692\n",
      "693\n",
      "694\n",
      "695\n",
      "696\n",
      "697\n",
      "698\n",
      "699\n",
      "700\n",
      "701\n",
      "702\n",
      "703\n",
      "704\n",
      "705\n",
      "706\n",
      "707\n",
      "708\n",
      "709\n",
      "710\n",
      "711\n",
      "712\n",
      "713\n",
      "714\n",
      "715\n",
      "716\n",
      "717\n",
      "718\n",
      "719\n",
      "720\n",
      "721\n",
      "722\n",
      "723\n",
      "724\n",
      "725\n",
      "726\n",
      "727\n",
      "728\n",
      "729\n",
      "730\n",
      "731\n",
      "732\n",
      "733\n",
      "734\n",
      "735\n",
      "736\n",
      "737\n",
      "738\n",
      "739\n",
      "740\n",
      "741\n",
      "742\n",
      "743\n",
      "744\n",
      "745\n",
      "746\n",
      "747\n",
      "748\n",
      "749\n",
      "750\n",
      "751\n",
      "752\n",
      "753\n",
      "754\n",
      "755\n",
      "756\n",
      "757\n",
      "758\n",
      "759\n",
      "760\n",
      "761\n",
      "762\n",
      "763\n",
      "764\n",
      "765\n",
      "766\n",
      "767\n",
      "768\n",
      "769\n",
      "770\n",
      "771\n",
      "772\n",
      "773\n",
      "774\n",
      "775\n",
      "776\n",
      "777\n",
      "778\n",
      "779\n",
      "780\n",
      "781\n",
      "782\n",
      "783\n",
      "784\n",
      "785\n",
      "786\n",
      "787\n",
      "788\n",
      "789\n",
      "790\n",
      "791\n",
      "792\n",
      "793\n",
      "794\n",
      "795\n",
      "796\n",
      "797\n",
      "798\n",
      "799\n",
      "800\n",
      "801\n",
      "802\n",
      "803\n",
      "804\n",
      "805\n",
      "806\n",
      "807\n",
      "808\n",
      "809\n",
      "810\n",
      "811\n",
      "812\n",
      "813\n",
      "814\n",
      "815\n",
      "816\n",
      "817\n",
      "818\n",
      "819\n",
      "820\n",
      "821\n",
      "822\n",
      "823\n",
      "824\n",
      "825\n",
      "826\n",
      "827\n",
      "828\n",
      "829\n",
      "830\n",
      "831\n",
      "832\n",
      "833\n",
      "834\n",
      "835\n",
      "836\n",
      "837\n",
      "838\n",
      "839\n",
      "840\n",
      "841\n",
      "842\n",
      "843\n",
      "844\n",
      "845\n",
      "846\n",
      "847\n",
      "848\n",
      "849\n",
      "850\n",
      "851\n",
      "852\n",
      "853\n",
      "854\n",
      "855\n",
      "856\n",
      "857\n",
      "858\n",
      "859\n",
      "860\n",
      "861\n",
      "862\n",
      "863\n",
      "864\n",
      "865\n",
      "866\n",
      "867\n",
      "868\n",
      "869\n",
      "870\n",
      "871\n",
      "872\n",
      "873\n",
      "874\n",
      "875\n",
      "876\n",
      "877\n",
      "878\n",
      "879\n",
      "880\n",
      "881\n",
      "882\n",
      "883\n",
      "884\n",
      "885\n",
      "886\n",
      "887\n",
      "888\n",
      "889\n",
      "890\n",
      "891\n",
      "892\n",
      "893\n",
      "894\n",
      "895\n",
      "896\n",
      "897\n",
      "898\n",
      "899\n",
      "900\n",
      "901\n",
      "902\n",
      "903\n",
      "904\n",
      "905\n",
      "906\n",
      "907\n",
      "908\n",
      "909\n",
      "910\n",
      "911\n",
      "912\n",
      "913\n",
      "914\n",
      "915\n",
      "916\n",
      "917\n",
      "918\n",
      "919\n",
      "920\n",
      "921\n",
      "922\n",
      "923\n",
      "924\n",
      "925\n",
      "926\n",
      "927\n",
      "928\n",
      "929\n",
      "930\n",
      "931\n",
      "932\n",
      "933\n",
      "934\n",
      "935\n",
      "936\n",
      "937\n",
      "938\n",
      "939\n",
      "940\n",
      "941\n",
      "942\n",
      "943\n",
      "944\n",
      "945\n",
      "946\n",
      "947\n",
      "948\n",
      "949\n",
      "950\n",
      "951\n",
      "952\n",
      "953\n",
      "954\n",
      "955\n",
      "956\n",
      "957\n",
      "958\n",
      "959\n",
      "960\n",
      "961\n",
      "962\n",
      "963\n",
      "964\n",
      "965\n",
      "966\n",
      "967\n",
      "968\n",
      "969\n",
      "970\n",
      "971\n",
      "972\n",
      "973\n",
      "974\n",
      "975\n",
      "976\n",
      "977\n",
      "978\n",
      "979\n",
      "980\n",
      "981\n",
      "982\n",
      "983\n",
      "984\n",
      "985\n",
      "986\n",
      "987\n",
      "988\n",
      "989\n",
      "990\n",
      "991\n",
      "992\n",
      "993\n",
      "994\n",
      "995\n",
      "996\n",
      "997\n",
      "998\n"
     ]
    }
   ],
   "source": [
    "for index in range(len(accuracy_model_LogisticRegression_list)):\n",
    "    if accuracy_model_LogisticRegression_list[index] == result_model_LogisticRegression:\n",
    "        print(index)"
   ]
  },
  {
   "cell_type": "markdown",
   "metadata": {},
   "source": [
    "Из полученного результата следует, что качество модели не зависит от количества итераций, параметр `max_iter` можем не учитывать при обучении модели."
   ]
  },
  {
   "cell_type": "markdown",
   "metadata": {},
   "source": [
    "Проведем обучение на алгоритме \"случайный лес\". Будем менять параметр `n_estimators` и определим качество данной модели (наибольшее значение `accuracy`), а также создадим список `accuracy_model_RandomForestClassifier_list`, содержащий значения `accuracy`:  "
   ]
  },
  {
   "cell_type": "code",
   "execution_count": 10,
   "metadata": {
    "scrolled": false
   },
   "outputs": [
    {
     "data": {
      "text/plain": [
       "0.8195956454121306"
      ]
     },
     "execution_count": 10,
     "metadata": {},
     "output_type": "execute_result"
    }
   ],
   "source": [
    "result_RandomForestClassifier = 0\n",
    "accuracy_model_RandomForestClassifier_list = []\n",
    "\n",
    "for est in range(1, 100):\n",
    "    \n",
    "    model_RandomForestClassifier = RandomForestClassifier(random_state = 12345, n_estimators = est)\n",
    "    model_RandomForestClassifier.fit(features_train, target_train)\n",
    "    answer_RandomForestClassifier = model_RandomForestClassifier.predict(features_valid)\n",
    "    accuracy_model_RandomForestClassifier = accuracy_score(answer_RandomForestClassifier, target_valid)\n",
    "    accuracy_model_RandomForestClassifier_list.append(accuracy_model_RandomForestClassifier)\n",
    "    \n",
    "    if result_RandomForestClassifier < accuracy_model_RandomForestClassifier:\n",
    "        result_RandomForestClassifier = accuracy_model_RandomForestClassifier\n",
    "    \n",
    "result_RandomForestClassifier"
   ]
  },
  {
   "cell_type": "markdown",
   "metadata": {},
   "source": [
    "Определим значение `n_estimators`, при котором достигается максимальное значение `accuracy` на обучающей выборке при данном алгоритме (значение `n_estimators` на 1 больше порядка в списке):"
   ]
  },
  {
   "cell_type": "code",
   "execution_count": 11,
   "metadata": {},
   "outputs": [
    {
     "name": "stdout",
     "output_type": "stream",
     "text": [
      "24\n",
      "42\n"
     ]
    }
   ],
   "source": [
    "for index in range(len(accuracy_model_RandomForestClassifier_list)):\n",
    "    if accuracy_model_RandomForestClassifier_list[index] == result_RandomForestClassifier:\n",
    "        print(index + 1)"
   ]
  },
  {
   "cell_type": "markdown",
   "metadata": {},
   "source": [
    "Значения `n_estimators`, на которых достигается максимальное значение `accuracy` - 24 и 42"
   ]
  },
  {
   "cell_type": "markdown",
   "metadata": {},
   "source": [
    "Таким образом, наибольшее значение `accuracy` на обучающей выборке - 0.8196 было достигнуто на модели \"случайный лес\", наименьшее значение - 0.7558 - на \"логистической регресии\", среднее значение - 0.8165 - на \"дереве решений\"."
   ]
  },
  {
   "cell_type": "markdown",
   "metadata": {},
   "source": [
    "## Проверка модели на тестовой выборке"
   ]
  },
  {
   "cell_type": "markdown",
   "metadata": {},
   "source": [
    "В пункте 3 были определены на разных алгоритмах максимальные значения `accuracy`, а также гиперпараметры, соответствующие им. Теперь проверим модель с наибольшим значением `accuracy` - \"случайный лес\" - на тестовой выборке"
   ]
  },
  {
   "cell_type": "markdown",
   "metadata": {},
   "source": [
    "Для модели \"случайный лес\" наилучшие значения гиперпараметра `случайном лесе` были определены 24 и 42. Сделаем проверку:"
   ]
  },
  {
   "cell_type": "code",
   "execution_count": 12,
   "metadata": {},
   "outputs": [
    {
     "data": {
      "text/plain": [
       "0.8009331259720062"
      ]
     },
     "execution_count": 12,
     "metadata": {},
     "output_type": "execute_result"
    }
   ],
   "source": [
    "model_RandomForestClassifier_test = RandomForestClassifier(random_state = 12345, n_estimators = 24)\n",
    "model_RandomForestClassifier_test.fit(features_train, target_train)\n",
    "answer_RandomForestClassifier_test = model_RandomForestClassifier_test.predict(features_test)\n",
    "accuracy_model_RandomForestClassifier_test = accuracy_score(answer_RandomForestClassifier_test, target_test)\n",
    "accuracy_model_RandomForestClassifier_test"
   ]
  },
  {
   "cell_type": "code",
   "execution_count": 13,
   "metadata": {},
   "outputs": [
    {
     "data": {
      "text/plain": [
       "0.8087091757387247"
      ]
     },
     "execution_count": 13,
     "metadata": {},
     "output_type": "execute_result"
    }
   ],
   "source": [
    "model_RandomForestClassifier_test = RandomForestClassifier(random_state = 12345, n_estimators = 42)\n",
    "model_RandomForestClassifier_test.fit(features_train, target_train)\n",
    "answer_RandomForestClassifier_test = model_RandomForestClassifier_test.predict(features_test)\n",
    "accuracy_model_RandomForestClassifier_test = accuracy_score(answer_RandomForestClassifier_test, target_test)\n",
    "accuracy_model_RandomForestClassifier_test"
   ]
  },
  {
   "cell_type": "markdown",
   "metadata": {},
   "source": [
    "Качество модели снизилось менее, чем на 1%, что незначительно"
   ]
  },
  {
   "cell_type": "markdown",
   "metadata": {},
   "source": [
    "Таким образом можно сделать вывод, что качество модели \"случайный лес\" на тестовой выборке снизилось незначительно (с 0.8165 до 0.8087), при этом значение `accuracy` прошло минимальный качества порог 0.75. Полученная модель устойчива на выборках и дает результат с поставленной точностью."
   ]
  }
 ],
 "metadata": {
  "ExecuteTimeLog": [
   {
    "duration": 90,
    "start_time": "2022-05-25T08:42:01.508Z"
   },
   {
    "duration": 1118,
    "start_time": "2022-05-25T08:42:07.669Z"
   },
   {
    "duration": 64,
    "start_time": "2022-05-25T08:42:08.790Z"
   },
   {
    "duration": 46,
    "start_time": "2022-05-25T08:42:14.067Z"
   },
   {
    "duration": 51,
    "start_time": "2022-05-25T08:43:32.745Z"
   },
   {
    "duration": 5,
    "start_time": "2022-05-25T08:48:38.103Z"
   },
   {
    "duration": 5,
    "start_time": "2022-05-25T08:49:01.641Z"
   },
   {
    "duration": 3,
    "start_time": "2022-05-25T08:50:48.545Z"
   },
   {
    "duration": 8,
    "start_time": "2022-05-25T08:53:19.112Z"
   },
   {
    "duration": 18,
    "start_time": "2022-05-25T08:53:28.992Z"
   },
   {
    "duration": 17,
    "start_time": "2022-05-25T08:53:36.433Z"
   },
   {
    "duration": 15,
    "start_time": "2022-05-25T08:53:40.273Z"
   },
   {
    "duration": 14,
    "start_time": "2022-05-25T08:53:45.684Z"
   },
   {
    "duration": 9,
    "start_time": "2022-05-25T08:53:48.617Z"
   },
   {
    "duration": 17,
    "start_time": "2022-05-25T08:53:58.155Z"
   },
   {
    "duration": 15,
    "start_time": "2022-05-25T09:24:45.662Z"
   },
   {
    "duration": 64,
    "start_time": "2022-05-25T09:25:08.916Z"
   },
   {
    "duration": 18,
    "start_time": "2022-05-25T09:25:10.905Z"
   },
   {
    "duration": 22,
    "start_time": "2022-05-25T09:25:18.534Z"
   },
   {
    "duration": 17,
    "start_time": "2022-05-25T09:25:31.980Z"
   },
   {
    "duration": 10,
    "start_time": "2022-05-25T09:25:41.743Z"
   },
   {
    "duration": 5,
    "start_time": "2022-05-25T09:25:44.048Z"
   },
   {
    "duration": 30,
    "start_time": "2022-05-25T09:26:05.297Z"
   },
   {
    "duration": 22,
    "start_time": "2022-05-25T09:28:06.804Z"
   },
   {
    "duration": 25,
    "start_time": "2022-05-25T09:28:31.305Z"
   },
   {
    "duration": 2,
    "start_time": "2022-05-25T09:29:46.768Z"
   },
   {
    "duration": 4,
    "start_time": "2022-05-25T09:29:52.946Z"
   },
   {
    "duration": 70,
    "start_time": "2022-05-25T09:29:52.953Z"
   },
   {
    "duration": 27,
    "start_time": "2022-05-25T09:29:53.026Z"
   },
   {
    "duration": 12,
    "start_time": "2022-05-25T09:35:57.136Z"
   },
   {
    "duration": 11,
    "start_time": "2022-05-25T09:35:58.737Z"
   },
   {
    "duration": 33,
    "start_time": "2022-05-25T09:36:06.310Z"
   },
   {
    "duration": 39,
    "start_time": "2022-05-25T09:37:43.405Z"
   },
   {
    "duration": 19,
    "start_time": "2022-05-25T09:37:47.279Z"
   },
   {
    "duration": 25,
    "start_time": "2022-05-25T09:37:51.989Z"
   },
   {
    "duration": 14,
    "start_time": "2022-05-25T09:38:11.775Z"
   },
   {
    "duration": 25,
    "start_time": "2022-05-25T09:38:32.097Z"
   },
   {
    "duration": 18,
    "start_time": "2022-05-25T09:38:36.184Z"
   },
   {
    "duration": 11,
    "start_time": "2022-05-25T09:39:08.134Z"
   },
   {
    "duration": 26,
    "start_time": "2022-05-25T09:39:21.599Z"
   },
   {
    "duration": 28,
    "start_time": "2022-05-25T09:39:29.903Z"
   },
   {
    "duration": 17,
    "start_time": "2022-05-25T09:39:37.581Z"
   },
   {
    "duration": 35,
    "start_time": "2022-05-25T09:39:59.896Z"
   },
   {
    "duration": 21,
    "start_time": "2022-05-25T09:40:06.248Z"
   },
   {
    "duration": 5,
    "start_time": "2022-05-25T09:40:11.934Z"
   },
   {
    "duration": 972,
    "start_time": "2022-05-25T09:40:20.734Z"
   },
   {
    "duration": 70,
    "start_time": "2022-05-25T09:40:21.708Z"
   },
   {
    "duration": 4,
    "start_time": "2022-05-25T09:40:21.781Z"
   },
   {
    "duration": 16,
    "start_time": "2022-05-25T10:49:39.489Z"
   },
   {
    "duration": 6,
    "start_time": "2022-05-25T10:49:45.087Z"
   },
   {
    "duration": 16,
    "start_time": "2022-05-25T10:49:50.301Z"
   },
   {
    "duration": 110,
    "start_time": "2022-05-25T10:53:50.948Z"
   },
   {
    "duration": 7,
    "start_time": "2022-05-25T10:53:57.275Z"
   },
   {
    "duration": 18,
    "start_time": "2022-05-25T10:54:01.276Z"
   },
   {
    "duration": 9,
    "start_time": "2022-05-25T10:54:12.955Z"
   },
   {
    "duration": 12,
    "start_time": "2022-05-25T10:54:14.580Z"
   },
   {
    "duration": 306,
    "start_time": "2022-05-25T10:54:24.030Z"
   },
   {
    "duration": 16,
    "start_time": "2022-05-25T10:54:36.323Z"
   },
   {
    "duration": 25,
    "start_time": "2022-05-25T10:54:45.152Z"
   },
   {
    "duration": 20,
    "start_time": "2022-05-25T10:54:50.931Z"
   },
   {
    "duration": 10,
    "start_time": "2022-05-25T10:55:14.830Z"
   },
   {
    "duration": 27,
    "start_time": "2022-05-25T10:55:17.501Z"
   },
   {
    "duration": 8,
    "start_time": "2022-05-25T10:55:28.275Z"
   },
   {
    "duration": 24,
    "start_time": "2022-05-25T10:55:51.505Z"
   },
   {
    "duration": 16,
    "start_time": "2022-05-25T10:56:03.763Z"
   },
   {
    "duration": 8,
    "start_time": "2022-05-25T11:12:46.953Z"
   },
   {
    "duration": 18,
    "start_time": "2022-05-25T11:13:05.550Z"
   },
   {
    "duration": 12,
    "start_time": "2022-05-25T11:13:33.983Z"
   },
   {
    "duration": 9,
    "start_time": "2022-05-25T11:13:49.326Z"
   },
   {
    "duration": 12,
    "start_time": "2022-05-25T11:13:59.150Z"
   },
   {
    "duration": 6,
    "start_time": "2022-05-25T11:14:16.221Z"
   },
   {
    "duration": 4,
    "start_time": "2022-05-25T11:14:22.885Z"
   },
   {
    "duration": 19,
    "start_time": "2022-05-25T11:14:32.791Z"
   },
   {
    "duration": 21,
    "start_time": "2022-05-25T11:14:58.523Z"
   },
   {
    "duration": 24,
    "start_time": "2022-05-25T11:15:12.600Z"
   },
   {
    "duration": 13,
    "start_time": "2022-05-25T11:15:25.397Z"
   },
   {
    "duration": 17,
    "start_time": "2022-05-25T11:15:28.598Z"
   },
   {
    "duration": 17,
    "start_time": "2022-05-25T11:15:56.639Z"
   },
   {
    "duration": 21,
    "start_time": "2022-05-25T11:16:02.199Z"
   },
   {
    "duration": 18,
    "start_time": "2022-05-25T11:22:40.702Z"
   },
   {
    "duration": 8,
    "start_time": "2022-05-25T11:23:03.693Z"
   },
   {
    "duration": 9,
    "start_time": "2022-05-25T11:23:20.957Z"
   },
   {
    "duration": 16,
    "start_time": "2022-05-25T11:23:56.929Z"
   },
   {
    "duration": 30,
    "start_time": "2022-05-25T11:24:03.010Z"
   },
   {
    "duration": 25,
    "start_time": "2022-05-25T11:24:23.433Z"
   },
   {
    "duration": 14,
    "start_time": "2022-05-25T11:24:37.566Z"
   },
   {
    "duration": 14,
    "start_time": "2022-05-25T11:24:43.347Z"
   },
   {
    "duration": 9,
    "start_time": "2022-05-25T11:24:58.774Z"
   },
   {
    "duration": 3,
    "start_time": "2022-05-25T11:25:00.865Z"
   },
   {
    "duration": 10,
    "start_time": "2022-05-25T11:25:05.450Z"
   },
   {
    "duration": 35,
    "start_time": "2022-05-25T11:25:10.354Z"
   },
   {
    "duration": 9,
    "start_time": "2022-05-25T11:25:16.974Z"
   },
   {
    "duration": 3,
    "start_time": "2022-05-25T11:25:22.065Z"
   },
   {
    "duration": 4,
    "start_time": "2022-05-25T11:25:25.841Z"
   },
   {
    "duration": 16,
    "start_time": "2022-05-25T11:25:35.152Z"
   },
   {
    "duration": 10,
    "start_time": "2022-05-25T11:25:37.127Z"
   },
   {
    "duration": 9,
    "start_time": "2022-05-25T11:26:04.857Z"
   },
   {
    "duration": 9,
    "start_time": "2022-05-25T11:27:24.823Z"
   },
   {
    "duration": 9,
    "start_time": "2022-05-25T11:27:30.631Z"
   },
   {
    "duration": 838,
    "start_time": "2022-05-25T11:27:38.563Z"
   },
   {
    "duration": 43,
    "start_time": "2022-05-25T11:27:39.403Z"
   },
   {
    "duration": 10,
    "start_time": "2022-05-25T11:27:39.447Z"
   },
   {
    "duration": 3,
    "start_time": "2022-05-25T16:13:45.491Z"
   },
   {
    "duration": 15,
    "start_time": "2022-05-25T16:14:20.337Z"
   },
   {
    "duration": 15,
    "start_time": "2022-05-25T16:15:02.825Z"
   },
   {
    "duration": 17,
    "start_time": "2022-05-25T16:15:14.115Z"
   },
   {
    "duration": 121,
    "start_time": "2022-05-25T16:15:23.292Z"
   },
   {
    "duration": 16,
    "start_time": "2022-05-25T16:15:25.712Z"
   },
   {
    "duration": 16,
    "start_time": "2022-05-25T16:16:10.114Z"
   },
   {
    "duration": 18,
    "start_time": "2022-05-25T16:17:53.091Z"
   },
   {
    "duration": 16,
    "start_time": "2022-05-25T16:17:59.049Z"
   },
   {
    "duration": 11,
    "start_time": "2022-05-25T16:25:35.692Z"
   },
   {
    "duration": 15,
    "start_time": "2022-05-25T16:25:41.095Z"
   },
   {
    "duration": 14,
    "start_time": "2022-05-25T16:26:17.823Z"
   },
   {
    "duration": 14,
    "start_time": "2022-05-25T16:26:27.198Z"
   },
   {
    "duration": 15,
    "start_time": "2022-05-25T16:26:41.358Z"
   },
   {
    "duration": 42,
    "start_time": "2022-05-25T16:26:48.207Z"
   },
   {
    "duration": 117,
    "start_time": "2022-05-25T16:30:10.203Z"
   },
   {
    "duration": 20,
    "start_time": "2022-05-25T16:30:17.570Z"
   },
   {
    "duration": 24,
    "start_time": "2022-05-25T16:30:39.916Z"
   },
   {
    "duration": 6450,
    "start_time": "2022-05-25T16:32:14.012Z"
   },
   {
    "duration": 6950,
    "start_time": "2022-05-25T16:32:30.355Z"
   },
   {
    "duration": 6532,
    "start_time": "2022-05-25T16:33:41.766Z"
   },
   {
    "duration": 6644,
    "start_time": "2022-05-25T16:33:52.930Z"
   },
   {
    "duration": 7127,
    "start_time": "2022-05-25T16:34:12.034Z"
   },
   {
    "duration": 6797,
    "start_time": "2022-05-25T16:34:42.619Z"
   },
   {
    "duration": 7321,
    "start_time": "2022-05-25T16:35:04.540Z"
   },
   {
    "duration": 3,
    "start_time": "2022-05-25T16:36:30.700Z"
   },
   {
    "duration": 1009,
    "start_time": "2022-05-25T16:36:39.332Z"
   },
   {
    "duration": 47,
    "start_time": "2022-05-25T16:36:40.344Z"
   },
   {
    "duration": 9,
    "start_time": "2022-05-25T16:36:40.393Z"
   },
   {
    "duration": 7519,
    "start_time": "2022-05-25T16:36:40.404Z"
   },
   {
    "duration": 3,
    "start_time": "2022-05-25T16:39:00.398Z"
   },
   {
    "duration": 17,
    "start_time": "2022-05-25T16:39:30.491Z"
   },
   {
    "duration": 21,
    "start_time": "2022-05-25T16:40:07.441Z"
   },
   {
    "duration": 25,
    "start_time": "2022-05-25T16:40:14.797Z"
   },
   {
    "duration": 23,
    "start_time": "2022-05-25T16:40:25.222Z"
   },
   {
    "duration": 24,
    "start_time": "2022-05-25T16:40:34.325Z"
   },
   {
    "duration": 21,
    "start_time": "2022-05-25T16:41:58.308Z"
   },
   {
    "duration": 19,
    "start_time": "2022-05-25T16:42:51.764Z"
   },
   {
    "duration": 19,
    "start_time": "2022-05-25T16:42:57.470Z"
   },
   {
    "duration": 32,
    "start_time": "2022-05-25T16:43:39.581Z"
   },
   {
    "duration": 20,
    "start_time": "2022-05-25T16:44:06.877Z"
   },
   {
    "duration": 7,
    "start_time": "2022-05-25T16:46:47.533Z"
   },
   {
    "duration": 4,
    "start_time": "2022-05-25T16:46:59.197Z"
   },
   {
    "duration": 4,
    "start_time": "2022-05-25T16:47:02.973Z"
   },
   {
    "duration": 4,
    "start_time": "2022-05-25T16:47:06.641Z"
   },
   {
    "duration": 5,
    "start_time": "2022-05-25T16:47:43.341Z"
   },
   {
    "duration": 48495,
    "start_time": "2022-05-25T16:49:07.958Z"
   },
   {
    "duration": 12420,
    "start_time": "2022-05-25T16:50:06.151Z"
   },
   {
    "duration": 11,
    "start_time": "2022-05-25T16:52:05.477Z"
   },
   {
    "duration": 997,
    "start_time": "2022-05-25T16:52:15.855Z"
   },
   {
    "duration": 50,
    "start_time": "2022-05-25T16:52:16.854Z"
   },
   {
    "duration": 10,
    "start_time": "2022-05-25T16:52:16.906Z"
   },
   {
    "duration": 6647,
    "start_time": "2022-05-25T16:52:16.918Z"
   },
   {
    "duration": 12134,
    "start_time": "2022-05-25T16:52:23.567Z"
   },
   {
    "duration": 16222,
    "start_time": "2022-05-25T16:56:25.627Z"
   },
   {
    "duration": 150317,
    "start_time": "2022-05-25T16:57:31.470Z"
   },
   {
    "duration": 29,
    "start_time": "2022-05-25T17:02:30.476Z"
   },
   {
    "duration": 21,
    "start_time": "2022-05-25T17:02:46.076Z"
   },
   {
    "duration": 20,
    "start_time": "2022-05-25T17:03:23.300Z"
   },
   {
    "duration": 28,
    "start_time": "2022-05-25T17:03:31.516Z"
   },
   {
    "duration": 28,
    "start_time": "2022-05-25T17:03:54.723Z"
   },
   {
    "duration": 28,
    "start_time": "2022-05-25T17:06:17.185Z"
   },
   {
    "duration": 25,
    "start_time": "2022-05-25T17:06:24.899Z"
   },
   {
    "duration": 58,
    "start_time": "2022-05-25T17:10:50.440Z"
   },
   {
    "duration": 78,
    "start_time": "2022-05-25T17:11:50.025Z"
   },
   {
    "duration": 65,
    "start_time": "2022-05-25T17:11:55.169Z"
   },
   {
    "duration": 86,
    "start_time": "2022-05-25T17:12:55.988Z"
   },
   {
    "duration": 74,
    "start_time": "2022-05-25T17:13:01.914Z"
   },
   {
    "duration": 5283,
    "start_time": "2022-05-25T17:13:46.292Z"
   },
   {
    "duration": 5545,
    "start_time": "2022-05-25T17:14:12.503Z"
   },
   {
    "duration": 5240,
    "start_time": "2022-05-25T17:14:37.291Z"
   },
   {
    "duration": 842,
    "start_time": "2022-05-25T23:08:30.902Z"
   },
   {
    "duration": 44,
    "start_time": "2022-05-25T23:08:31.745Z"
   },
   {
    "duration": 9,
    "start_time": "2022-05-25T23:08:31.791Z"
   },
   {
    "duration": 6495,
    "start_time": "2022-05-25T23:08:31.803Z"
   },
   {
    "duration": 11137,
    "start_time": "2022-05-25T23:08:38.300Z"
   },
   {
    "duration": 4508,
    "start_time": "2022-05-25T23:08:49.438Z"
   },
   {
    "duration": 1160,
    "start_time": "2022-05-26T16:03:27.084Z"
   },
   {
    "duration": 141,
    "start_time": "2022-05-26T16:03:28.246Z"
   },
   {
    "duration": 15,
    "start_time": "2022-05-26T16:03:28.390Z"
   },
   {
    "duration": 7025,
    "start_time": "2022-05-26T16:03:28.408Z"
   },
   {
    "duration": 12851,
    "start_time": "2022-05-26T16:03:35.435Z"
   },
   {
    "duration": 5514,
    "start_time": "2022-05-26T16:03:48.287Z"
   },
   {
    "duration": 5546,
    "start_time": "2022-05-26T16:07:23.990Z"
   },
   {
    "duration": 56,
    "start_time": "2022-05-26T16:07:46.092Z"
   },
   {
    "duration": 23,
    "start_time": "2022-05-26T16:07:48.391Z"
   },
   {
    "duration": 43,
    "start_time": "2022-05-26T16:07:54.053Z"
   },
   {
    "duration": 63,
    "start_time": "2022-05-26T16:07:56.355Z"
   },
   {
    "duration": 5737,
    "start_time": "2022-05-26T16:08:04.545Z"
   },
   {
    "duration": 21353,
    "start_time": "2022-05-26T16:09:00.383Z"
   },
   {
    "duration": 13216,
    "start_time": "2022-05-26T16:12:18.754Z"
   },
   {
    "duration": 7358,
    "start_time": "2022-05-26T17:28:48.682Z"
   },
   {
    "duration": 7217,
    "start_time": "2022-05-26T17:31:07.484Z"
   },
   {
    "duration": 14,
    "start_time": "2022-05-26T17:31:21.174Z"
   },
   {
    "duration": 6,
    "start_time": "2022-05-26T17:31:30.072Z"
   },
   {
    "duration": 4,
    "start_time": "2022-05-26T17:32:46.880Z"
   },
   {
    "duration": 17,
    "start_time": "2022-05-26T17:34:07.770Z"
   },
   {
    "duration": 14,
    "start_time": "2022-05-26T17:34:21.506Z"
   },
   {
    "duration": 4,
    "start_time": "2022-05-26T17:34:35.477Z"
   },
   {
    "duration": 4,
    "start_time": "2022-05-26T17:35:01.483Z"
   },
   {
    "duration": 7648,
    "start_time": "2022-05-26T17:35:57.673Z"
   },
   {
    "duration": 13754,
    "start_time": "2022-05-26T17:39:44.388Z"
   },
   {
    "duration": 90,
    "start_time": "2022-05-26T17:44:22.619Z"
   },
   {
    "duration": 20,
    "start_time": "2022-05-26T17:45:00.348Z"
   },
   {
    "duration": 4,
    "start_time": "2022-05-26T17:45:06.912Z"
   },
   {
    "duration": 23,
    "start_time": "2022-05-26T17:45:12.897Z"
   },
   {
    "duration": 15263,
    "start_time": "2022-05-26T17:45:58.369Z"
   },
   {
    "duration": 14798,
    "start_time": "2022-05-26T17:46:28.514Z"
   },
   {
    "duration": 148640,
    "start_time": "2022-05-26T17:46:50.910Z"
   },
   {
    "duration": 1722,
    "start_time": "2022-05-26T17:49:21.645Z"
   },
   {
    "duration": 15989,
    "start_time": "2022-05-26T17:49:27.589Z"
   },
   {
    "duration": 26,
    "start_time": "2022-05-26T17:49:52.257Z"
   },
   {
    "duration": 24235,
    "start_time": "2022-05-26T17:51:15.760Z"
   },
   {
    "duration": 4,
    "start_time": "2022-05-26T17:51:58.546Z"
   },
   {
    "duration": 4,
    "start_time": "2022-05-26T17:52:27.723Z"
   },
   {
    "duration": 6,
    "start_time": "2022-05-26T17:54:31.367Z"
   },
   {
    "duration": 1079,
    "start_time": "2022-05-26T21:38:52.271Z"
   },
   {
    "duration": 157,
    "start_time": "2022-05-26T21:38:53.353Z"
   },
   {
    "duration": 9,
    "start_time": "2022-05-26T21:38:53.511Z"
   },
   {
    "duration": 7286,
    "start_time": "2022-05-26T21:38:53.522Z"
   },
   {
    "duration": 3,
    "start_time": "2022-05-26T21:39:00.810Z"
   },
   {
    "duration": 13905,
    "start_time": "2022-05-26T21:39:00.815Z"
   },
   {
    "duration": 26,
    "start_time": "2022-05-26T21:39:14.722Z"
   },
   {
    "duration": 20006,
    "start_time": "2022-05-26T21:39:14.750Z"
   },
   {
    "duration": 12,
    "start_time": "2022-05-26T21:39:34.758Z"
   },
   {
    "duration": 131,
    "start_time": "2022-05-26T21:40:01.214Z"
   },
   {
    "duration": 23,
    "start_time": "2022-05-26T21:40:17.042Z"
   },
   {
    "duration": 37,
    "start_time": "2022-05-26T21:40:29.119Z"
   },
   {
    "duration": 19081,
    "start_time": "2022-05-26T21:40:43.902Z"
   },
   {
    "duration": 86,
    "start_time": "2022-05-26T21:41:42.680Z"
   },
   {
    "duration": 7,
    "start_time": "2022-05-26T21:53:21.418Z"
   },
   {
    "duration": 11,
    "start_time": "2022-05-26T21:54:22.573Z"
   },
   {
    "duration": 14,
    "start_time": "2022-05-26T21:54:56.043Z"
   },
   {
    "duration": 6,
    "start_time": "2022-05-26T21:55:03.478Z"
   },
   {
    "duration": 8,
    "start_time": "2022-05-26T21:56:13.829Z"
   },
   {
    "duration": 11,
    "start_time": "2022-05-26T21:59:24.314Z"
   },
   {
    "duration": 13,
    "start_time": "2022-05-26T21:59:31.479Z"
   },
   {
    "duration": 17,
    "start_time": "2022-05-26T22:01:37.077Z"
   },
   {
    "duration": 4,
    "start_time": "2022-05-26T22:01:52.817Z"
   },
   {
    "duration": 5,
    "start_time": "2022-05-26T22:01:57.178Z"
   },
   {
    "duration": 14,
    "start_time": "2022-05-26T22:02:24.692Z"
   },
   {
    "duration": 5,
    "start_time": "2022-05-26T22:03:53.063Z"
   },
   {
    "duration": 6,
    "start_time": "2022-05-26T22:04:24.294Z"
   },
   {
    "duration": 6,
    "start_time": "2022-05-26T22:04:31.177Z"
   },
   {
    "duration": 4,
    "start_time": "2022-05-26T22:04:57.977Z"
   },
   {
    "duration": 17,
    "start_time": "2022-05-26T22:08:22.399Z"
   },
   {
    "duration": 17,
    "start_time": "2022-05-26T22:08:29.043Z"
   },
   {
    "duration": 82,
    "start_time": "2022-05-26T22:12:36.601Z"
   },
   {
    "duration": 22915,
    "start_time": "2022-05-26T22:15:46.117Z"
   },
   {
    "duration": 10,
    "start_time": "2022-05-26T22:33:00.909Z"
   },
   {
    "duration": 12,
    "start_time": "2022-05-26T22:33:40.985Z"
   },
   {
    "duration": 12,
    "start_time": "2022-05-26T22:33:48.358Z"
   },
   {
    "duration": 277,
    "start_time": "2022-05-26T22:33:56.452Z"
   },
   {
    "duration": 7,
    "start_time": "2022-05-26T22:34:25.164Z"
   },
   {
    "duration": 18,
    "start_time": "2022-05-26T22:34:31.338Z"
   },
   {
    "duration": 7,
    "start_time": "2022-05-26T22:34:35.894Z"
   },
   {
    "duration": 23,
    "start_time": "2022-05-26T22:36:05.194Z"
   },
   {
    "duration": 30,
    "start_time": "2022-05-26T22:36:16.200Z"
   },
   {
    "duration": 3,
    "start_time": "2022-05-26T22:39:04.811Z"
   },
   {
    "duration": 17,
    "start_time": "2022-05-26T22:39:06.898Z"
   },
   {
    "duration": 33,
    "start_time": "2022-05-26T22:39:10.944Z"
   },
   {
    "duration": 29,
    "start_time": "2022-05-26T22:40:00.524Z"
   },
   {
    "duration": 30,
    "start_time": "2022-05-26T22:40:11.609Z"
   },
   {
    "duration": 22,
    "start_time": "2022-05-26T22:42:25.722Z"
   },
   {
    "duration": 6,
    "start_time": "2022-05-26T22:42:56.278Z"
   },
   {
    "duration": 29,
    "start_time": "2022-05-26T22:43:59.498Z"
   },
   {
    "duration": 14,
    "start_time": "2022-05-26T22:44:13.098Z"
   },
   {
    "duration": 30,
    "start_time": "2022-05-26T22:44:42.658Z"
   },
   {
    "duration": 13,
    "start_time": "2022-05-26T22:44:50.798Z"
   },
   {
    "duration": 14,
    "start_time": "2022-05-26T22:45:03.258Z"
   },
   {
    "duration": 21,
    "start_time": "2022-05-26T22:45:11.259Z"
   },
   {
    "duration": 28,
    "start_time": "2022-05-26T22:45:44.691Z"
   },
   {
    "duration": 39,
    "start_time": "2022-05-26T22:47:13.624Z"
   },
   {
    "duration": 24,
    "start_time": "2022-05-26T22:47:38.821Z"
   },
   {
    "duration": 5,
    "start_time": "2022-05-26T22:47:43.274Z"
   },
   {
    "duration": 4,
    "start_time": "2022-05-26T22:47:52.158Z"
   },
   {
    "duration": 9,
    "start_time": "2022-05-26T22:47:56.648Z"
   },
   {
    "duration": 6,
    "start_time": "2022-05-26T22:48:04.848Z"
   },
   {
    "duration": 4,
    "start_time": "2022-05-26T22:48:10.671Z"
   },
   {
    "duration": 4,
    "start_time": "2022-05-26T22:48:19.363Z"
   },
   {
    "duration": 8,
    "start_time": "2022-05-26T22:48:53.128Z"
   },
   {
    "duration": 75,
    "start_time": "2022-05-26T22:49:31.344Z"
   },
   {
    "duration": 83,
    "start_time": "2022-05-26T22:49:42.916Z"
   },
   {
    "duration": 99,
    "start_time": "2022-05-26T22:50:04.205Z"
   },
   {
    "duration": 146,
    "start_time": "2022-05-26T22:50:09.112Z"
   },
   {
    "duration": 207,
    "start_time": "2022-05-26T22:50:15.859Z"
   },
   {
    "duration": 103,
    "start_time": "2022-05-26T22:50:28.397Z"
   },
   {
    "duration": 100,
    "start_time": "2022-05-26T22:50:51.162Z"
   },
   {
    "duration": 190,
    "start_time": "2022-05-26T22:51:15.561Z"
   },
   {
    "duration": 4,
    "start_time": "2022-05-26T22:51:20.670Z"
   },
   {
    "duration": 172,
    "start_time": "2022-05-26T22:51:24.078Z"
   },
   {
    "duration": 142,
    "start_time": "2022-05-26T22:51:35.956Z"
   },
   {
    "duration": 11,
    "start_time": "2022-05-26T22:51:54.588Z"
   },
   {
    "duration": 168,
    "start_time": "2022-05-26T22:51:58.650Z"
   },
   {
    "duration": 1458,
    "start_time": "2022-05-26T23:01:54.361Z"
   },
   {
    "duration": 4,
    "start_time": "2022-05-26T23:12:41.519Z"
   },
   {
    "duration": 1003,
    "start_time": "2022-05-26T23:13:16.575Z"
   },
   {
    "duration": 43,
    "start_time": "2022-05-26T23:13:17.580Z"
   },
   {
    "duration": 9,
    "start_time": "2022-05-26T23:13:17.625Z"
   },
   {
    "duration": 6518,
    "start_time": "2022-05-26T23:13:17.636Z"
   },
   {
    "duration": 4,
    "start_time": "2022-05-26T23:13:24.156Z"
   },
   {
    "duration": 12120,
    "start_time": "2022-05-26T23:13:24.161Z"
   },
   {
    "duration": 145,
    "start_time": "2022-05-26T23:13:36.283Z"
   },
   {
    "duration": 18890,
    "start_time": "2022-05-26T23:13:36.434Z"
   },
   {
    "duration": 3,
    "start_time": "2022-05-26T23:13:55.327Z"
   },
   {
    "duration": 19,
    "start_time": "2022-05-26T23:13:55.333Z"
   },
   {
    "duration": 18,
    "start_time": "2022-05-26T23:13:55.355Z"
   },
   {
    "duration": 95,
    "start_time": "2022-05-26T23:13:55.375Z"
   },
   {
    "duration": 18677,
    "start_time": "2022-05-26T23:13:55.472Z"
   },
   {
    "duration": 163,
    "start_time": "2022-05-26T23:14:14.150Z"
   },
   {
    "duration": 1350,
    "start_time": "2022-05-26T23:14:14.315Z"
   },
   {
    "duration": 1105,
    "start_time": "2022-05-27T06:02:30.030Z"
   },
   {
    "duration": 45,
    "start_time": "2022-05-27T06:02:31.137Z"
   },
   {
    "duration": 9,
    "start_time": "2022-05-27T06:02:31.184Z"
   },
   {
    "duration": 6805,
    "start_time": "2022-05-27T06:02:31.195Z"
   },
   {
    "duration": 4,
    "start_time": "2022-05-27T06:02:38.001Z"
   },
   {
    "duration": 12338,
    "start_time": "2022-05-27T06:02:38.007Z"
   },
   {
    "duration": 100,
    "start_time": "2022-05-27T06:02:50.351Z"
   },
   {
    "duration": 20238,
    "start_time": "2022-05-27T06:02:50.455Z"
   },
   {
    "duration": 4,
    "start_time": "2022-05-27T06:03:10.695Z"
   },
   {
    "duration": 26,
    "start_time": "2022-05-27T06:03:10.702Z"
   },
   {
    "duration": 31,
    "start_time": "2022-05-27T06:03:10.730Z"
   },
   {
    "duration": 98,
    "start_time": "2022-05-27T06:03:10.763Z"
   },
   {
    "duration": 19852,
    "start_time": "2022-05-27T06:03:10.863Z"
   },
   {
    "duration": 180,
    "start_time": "2022-05-27T06:03:30.717Z"
   },
   {
    "duration": 1453,
    "start_time": "2022-05-27T06:03:30.898Z"
   },
   {
    "duration": 5,
    "start_time": "2022-05-27T06:03:32.352Z"
   },
   {
    "duration": 15,
    "start_time": "2022-05-27T07:13:03.124Z"
   },
   {
    "duration": 8,
    "start_time": "2022-05-27T07:14:08.425Z"
   },
   {
    "duration": 118,
    "start_time": "2022-05-27T07:16:58.879Z"
   },
   {
    "duration": 7,
    "start_time": "2022-05-27T07:17:28.352Z"
   },
   {
    "duration": 3,
    "start_time": "2022-05-27T07:25:40.341Z"
   },
   {
    "duration": 40,
    "start_time": "2022-05-27T07:25:40.346Z"
   },
   {
    "duration": 9,
    "start_time": "2022-05-27T07:25:40.388Z"
   },
   {
    "duration": 6401,
    "start_time": "2022-05-27T07:25:40.399Z"
   },
   {
    "duration": 3,
    "start_time": "2022-05-27T07:25:46.802Z"
   },
   {
    "duration": 11751,
    "start_time": "2022-05-27T07:25:46.807Z"
   },
   {
    "duration": 97,
    "start_time": "2022-05-27T07:25:58.560Z"
   },
   {
    "duration": 19589,
    "start_time": "2022-05-27T07:25:58.659Z"
   },
   {
    "duration": 4,
    "start_time": "2022-05-27T07:26:18.250Z"
   },
   {
    "duration": 17,
    "start_time": "2022-05-27T07:26:18.255Z"
   },
   {
    "duration": 18,
    "start_time": "2022-05-27T07:26:18.274Z"
   },
   {
    "duration": 110,
    "start_time": "2022-05-27T07:26:18.294Z"
   },
   {
    "duration": 19991,
    "start_time": "2022-05-27T07:26:18.406Z"
   },
   {
    "duration": 152,
    "start_time": "2022-05-27T07:26:38.399Z"
   },
   {
    "duration": 1345,
    "start_time": "2022-05-27T07:26:38.552Z"
   },
   {
    "duration": 65,
    "start_time": "2022-05-30T09:50:57.028Z"
   },
   {
    "duration": 1042,
    "start_time": "2022-05-30T09:51:04.847Z"
   },
   {
    "duration": 197,
    "start_time": "2022-05-30T09:51:05.891Z"
   },
   {
    "duration": 16,
    "start_time": "2022-05-30T09:51:06.091Z"
   },
   {
    "duration": 31,
    "start_time": "2022-05-30T09:51:06.110Z"
   },
   {
    "duration": 6857,
    "start_time": "2022-05-30T09:51:06.144Z"
   },
   {
    "duration": 5,
    "start_time": "2022-05-30T09:51:13.003Z"
   },
   {
    "duration": 13263,
    "start_time": "2022-05-30T09:51:13.010Z"
   },
   {
    "duration": 104,
    "start_time": "2022-05-30T09:51:26.276Z"
   },
   {
    "duration": 20354,
    "start_time": "2022-05-30T09:51:26.389Z"
   },
   {
    "duration": 24,
    "start_time": "2022-05-30T09:51:46.746Z"
   },
   {
    "duration": 17,
    "start_time": "2022-05-30T09:51:46.771Z"
   },
   {
    "duration": 25,
    "start_time": "2022-05-30T09:51:46.789Z"
   },
   {
    "duration": 93,
    "start_time": "2022-05-30T09:51:46.816Z"
   },
   {
    "duration": 20502,
    "start_time": "2022-05-30T09:51:46.911Z"
   },
   {
    "duration": 175,
    "start_time": "2022-05-30T09:52:07.414Z"
   },
   {
    "duration": 1485,
    "start_time": "2022-05-30T09:52:07.591Z"
   },
   {
    "duration": 9,
    "start_time": "2022-05-30T09:54:08.703Z"
   },
   {
    "duration": 120,
    "start_time": "2022-05-30T09:54:26.270Z"
   },
   {
    "duration": 9,
    "start_time": "2022-05-30T09:54:29.112Z"
   },
   {
    "duration": 8,
    "start_time": "2022-05-30T09:54:35.134Z"
   },
   {
    "duration": 7,
    "start_time": "2022-05-30T09:54:44.464Z"
   },
   {
    "duration": 7,
    "start_time": "2022-05-30T09:54:54.408Z"
   },
   {
    "duration": 7,
    "start_time": "2022-05-30T09:55:52.919Z"
   },
   {
    "duration": 9,
    "start_time": "2022-05-30T10:06:13.295Z"
   },
   {
    "duration": 14,
    "start_time": "2022-05-30T10:06:16.038Z"
   },
   {
    "duration": 252,
    "start_time": "2022-05-30T10:07:01.970Z"
   },
   {
    "duration": 10,
    "start_time": "2022-05-30T10:07:12.065Z"
   },
   {
    "duration": 8,
    "start_time": "2022-05-30T10:07:37.169Z"
   },
   {
    "duration": 23,
    "start_time": "2022-05-30T10:07:55.942Z"
   },
   {
    "duration": 11,
    "start_time": "2022-05-30T10:08:00.996Z"
   },
   {
    "duration": 8,
    "start_time": "2022-05-30T10:08:07.788Z"
   },
   {
    "duration": 9,
    "start_time": "2022-05-30T10:08:33.116Z"
   },
   {
    "duration": 10,
    "start_time": "2022-05-30T10:08:47.717Z"
   },
   {
    "duration": 10,
    "start_time": "2022-05-30T10:08:52.148Z"
   },
   {
    "duration": 6,
    "start_time": "2022-05-30T10:09:04.517Z"
   },
   {
    "duration": 7,
    "start_time": "2022-05-30T10:09:31.317Z"
   },
   {
    "duration": 3,
    "start_time": "2022-05-30T10:09:41.709Z"
   },
   {
    "duration": 7,
    "start_time": "2022-05-30T10:09:49.037Z"
   },
   {
    "duration": 7,
    "start_time": "2022-05-30T10:11:23.573Z"
   },
   {
    "duration": 18,
    "start_time": "2022-05-30T10:11:31.083Z"
   },
   {
    "duration": 15,
    "start_time": "2022-05-30T10:11:41.021Z"
   },
   {
    "duration": 10,
    "start_time": "2022-05-30T10:11:42.640Z"
   },
   {
    "duration": 15,
    "start_time": "2022-05-30T10:12:00.289Z"
   },
   {
    "duration": 16,
    "start_time": "2022-05-30T10:12:09.054Z"
   },
   {
    "duration": 20,
    "start_time": "2022-05-30T10:12:14.988Z"
   },
   {
    "duration": 10,
    "start_time": "2022-05-30T10:12:27.739Z"
   },
   {
    "duration": 10,
    "start_time": "2022-05-30T10:12:38.872Z"
   },
   {
    "duration": 27,
    "start_time": "2022-05-30T10:12:46.157Z"
   },
   {
    "duration": 22,
    "start_time": "2022-05-30T10:12:50.114Z"
   },
   {
    "duration": 20,
    "start_time": "2022-05-30T10:12:54.089Z"
   },
   {
    "duration": 10,
    "start_time": "2022-05-30T10:13:07.379Z"
   },
   {
    "duration": 9,
    "start_time": "2022-05-30T10:13:15.809Z"
   },
   {
    "duration": 16,
    "start_time": "2022-05-30T10:13:26.740Z"
   },
   {
    "duration": 16,
    "start_time": "2022-05-30T10:13:29.271Z"
   },
   {
    "duration": 10,
    "start_time": "2022-05-30T10:13:31.379Z"
   },
   {
    "duration": 11,
    "start_time": "2022-05-30T10:14:04.668Z"
   },
   {
    "duration": 13,
    "start_time": "2022-05-30T10:14:22.174Z"
   },
   {
    "duration": 27,
    "start_time": "2022-05-30T10:14:54.891Z"
   },
   {
    "duration": 11,
    "start_time": "2022-05-30T10:14:59.467Z"
   },
   {
    "duration": 24,
    "start_time": "2022-05-30T10:15:29.724Z"
   },
   {
    "duration": 11,
    "start_time": "2022-05-30T10:15:50.381Z"
   },
   {
    "duration": 11,
    "start_time": "2022-05-30T10:16:11.778Z"
   },
   {
    "duration": 23,
    "start_time": "2022-05-30T10:17:24.841Z"
   },
   {
    "duration": 31,
    "start_time": "2022-05-30T10:17:38.770Z"
   },
   {
    "duration": 23,
    "start_time": "2022-05-30T10:17:58.346Z"
   },
   {
    "duration": 12,
    "start_time": "2022-05-30T10:18:13.022Z"
   },
   {
    "duration": 22,
    "start_time": "2022-05-30T10:18:16.140Z"
   },
   {
    "duration": 19,
    "start_time": "2022-05-30T10:18:20.896Z"
   },
   {
    "duration": 29,
    "start_time": "2022-05-30T10:18:31.339Z"
   },
   {
    "duration": 25,
    "start_time": "2022-05-30T10:19:05.195Z"
   },
   {
    "duration": 13,
    "start_time": "2022-05-30T10:19:59.578Z"
   },
   {
    "duration": 23,
    "start_time": "2022-05-30T10:20:05.346Z"
   },
   {
    "duration": 19,
    "start_time": "2022-05-30T10:20:10.593Z"
   },
   {
    "duration": 26,
    "start_time": "2022-05-30T10:20:30.680Z"
   },
   {
    "duration": 18,
    "start_time": "2022-05-30T10:20:36.660Z"
   },
   {
    "duration": 19,
    "start_time": "2022-05-30T10:21:28.841Z"
   },
   {
    "duration": 23,
    "start_time": "2022-05-30T10:21:35.320Z"
   },
   {
    "duration": 22,
    "start_time": "2022-05-30T10:22:47.249Z"
   },
   {
    "duration": 11,
    "start_time": "2022-05-30T10:22:53.425Z"
   },
   {
    "duration": 18,
    "start_time": "2022-05-30T10:23:09.657Z"
   },
   {
    "duration": 18,
    "start_time": "2022-05-30T10:23:17.744Z"
   },
   {
    "duration": 25,
    "start_time": "2022-05-30T10:23:22.175Z"
   },
   {
    "duration": 19,
    "start_time": "2022-05-30T10:23:32.993Z"
   },
   {
    "duration": 14,
    "start_time": "2022-05-30T10:23:44.352Z"
   },
   {
    "duration": 12,
    "start_time": "2022-05-30T10:25:02.904Z"
   },
   {
    "duration": 21,
    "start_time": "2022-05-30T10:25:07.589Z"
   },
   {
    "duration": 19,
    "start_time": "2022-05-30T10:25:15.283Z"
   },
   {
    "duration": 14,
    "start_time": "2022-05-30T10:25:26.296Z"
   },
   {
    "duration": 19,
    "start_time": "2022-05-30T10:26:03.592Z"
   },
   {
    "duration": 15,
    "start_time": "2022-05-30T10:26:10.810Z"
   },
   {
    "duration": 9,
    "start_time": "2022-05-30T10:26:16.163Z"
   },
   {
    "duration": 17,
    "start_time": "2022-05-30T10:26:23.103Z"
   },
   {
    "duration": 14,
    "start_time": "2022-05-30T10:26:29.687Z"
   },
   {
    "duration": 13,
    "start_time": "2022-05-30T10:26:33.247Z"
   },
   {
    "duration": 12,
    "start_time": "2022-05-30T10:27:09.266Z"
   },
   {
    "duration": 13,
    "start_time": "2022-05-30T10:27:13.224Z"
   },
   {
    "duration": 13,
    "start_time": "2022-05-30T10:27:20.280Z"
   },
   {
    "duration": 12,
    "start_time": "2022-05-30T10:27:23.342Z"
   },
   {
    "duration": 11,
    "start_time": "2022-05-30T10:27:27.570Z"
   },
   {
    "duration": 17,
    "start_time": "2022-05-30T10:27:31.857Z"
   },
   {
    "duration": 15,
    "start_time": "2022-05-30T10:28:54.884Z"
   },
   {
    "duration": 19,
    "start_time": "2022-05-30T10:32:51.163Z"
   },
   {
    "duration": 15,
    "start_time": "2022-05-30T10:33:18.910Z"
   },
   {
    "duration": 5,
    "start_time": "2022-05-30T10:39:13.849Z"
   },
   {
    "duration": 71,
    "start_time": "2022-05-30T10:39:13.856Z"
   },
   {
    "duration": 11,
    "start_time": "2022-05-30T10:39:13.929Z"
   },
   {
    "duration": 22,
    "start_time": "2022-05-30T10:39:13.942Z"
   },
   {
    "duration": 16,
    "start_time": "2022-05-30T10:39:13.966Z"
   },
   {
    "duration": 5,
    "start_time": "2022-05-30T10:39:26.899Z"
   },
   {
    "duration": 51,
    "start_time": "2022-05-30T10:39:26.906Z"
   },
   {
    "duration": 16,
    "start_time": "2022-05-30T10:39:26.961Z"
   },
   {
    "duration": 16,
    "start_time": "2022-05-30T10:39:26.979Z"
   },
   {
    "duration": 12,
    "start_time": "2022-05-30T10:39:26.996Z"
   },
   {
    "duration": 24,
    "start_time": "2022-05-30T10:39:27.011Z"
   },
   {
    "duration": 7611,
    "start_time": "2022-05-30T10:44:36.473Z"
   },
   {
    "duration": 7395,
    "start_time": "2022-05-30T10:46:25.337Z"
   },
   {
    "duration": 7112,
    "start_time": "2022-05-30T10:47:09.675Z"
   },
   {
    "duration": 7029,
    "start_time": "2022-05-30T10:48:13.043Z"
   },
   {
    "duration": 3,
    "start_time": "2022-05-30T11:07:09.465Z"
   },
   {
    "duration": 43,
    "start_time": "2022-05-30T11:07:09.470Z"
   },
   {
    "duration": 10,
    "start_time": "2022-05-30T11:07:09.515Z"
   },
   {
    "duration": 22,
    "start_time": "2022-05-30T11:07:09.526Z"
   },
   {
    "duration": 27,
    "start_time": "2022-05-30T11:07:09.550Z"
   },
   {
    "duration": 27,
    "start_time": "2022-05-30T11:07:09.579Z"
   },
   {
    "duration": 6739,
    "start_time": "2022-05-30T11:07:09.608Z"
   },
   {
    "duration": 28746,
    "start_time": "2022-05-30T11:07:16.349Z"
   },
   {
    "duration": 67,
    "start_time": "2022-05-30T11:08:01.110Z"
   },
   {
    "duration": 21438,
    "start_time": "2022-05-30T11:17:18.683Z"
   },
   {
    "duration": 5,
    "start_time": "2022-05-30T11:17:44.946Z"
   },
   {
    "duration": 6959,
    "start_time": "2022-05-30T11:24:34.290Z"
   },
   {
    "duration": 30385,
    "start_time": "2022-05-30T11:25:34.664Z"
   },
   {
    "duration": 91,
    "start_time": "2022-05-30T11:26:19.877Z"
   },
   {
    "duration": 20908,
    "start_time": "2022-05-30T11:26:51.619Z"
   },
   {
    "duration": 6,
    "start_time": "2022-05-30T11:27:22.067Z"
   },
   {
    "duration": 5,
    "start_time": "2022-05-30T11:35:18.623Z"
   },
   {
    "duration": 95,
    "start_time": "2022-05-30T11:36:51.482Z"
   },
   {
    "duration": 113,
    "start_time": "2022-05-30T11:37:33.486Z"
   },
   {
    "duration": 90,
    "start_time": "2022-05-30T11:37:37.479Z"
   },
   {
    "duration": 106,
    "start_time": "2022-05-30T11:37:41.502Z"
   },
   {
    "duration": 180,
    "start_time": "2022-05-30T11:37:47.762Z"
   },
   {
    "duration": 104,
    "start_time": "2022-05-30T11:38:00.983Z"
   },
   {
    "duration": 178,
    "start_time": "2022-05-30T11:39:34.938Z"
   },
   {
    "duration": 985,
    "start_time": "2022-05-30T17:16:57.486Z"
   },
   {
    "duration": 128,
    "start_time": "2022-05-30T17:16:58.474Z"
   },
   {
    "duration": 11,
    "start_time": "2022-05-30T17:16:58.604Z"
   },
   {
    "duration": 14,
    "start_time": "2022-05-30T17:16:58.617Z"
   },
   {
    "duration": 10,
    "start_time": "2022-05-30T17:16:58.633Z"
   },
   {
    "duration": 22,
    "start_time": "2022-05-30T17:16:58.645Z"
   },
   {
    "duration": 7263,
    "start_time": "2022-05-30T17:16:58.669Z"
   },
   {
    "duration": 31079,
    "start_time": "2022-05-30T17:17:05.934Z"
   },
   {
    "duration": 140,
    "start_time": "2022-05-30T17:17:37.015Z"
   },
   {
    "duration": 21311,
    "start_time": "2022-05-30T17:17:37.158Z"
   },
   {
    "duration": 4,
    "start_time": "2022-05-30T17:17:58.471Z"
   },
   {
    "duration": 134,
    "start_time": "2022-05-30T17:17:58.476Z"
   },
   {
    "duration": 228,
    "start_time": "2022-05-30T17:17:58.612Z"
   },
   {
    "duration": 176,
    "start_time": "2022-05-30T17:17:58.842Z"
   },
   {
    "duration": 1506,
    "start_time": "2022-05-30T17:17:59.020Z"
   },
   {
    "duration": 9,
    "start_time": "2022-05-30T18:15:49.538Z"
   },
   {
    "duration": 126,
    "start_time": "2022-05-30T18:20:38.932Z"
   },
   {
    "duration": 7,
    "start_time": "2022-05-30T18:20:44.727Z"
   },
   {
    "duration": 4,
    "start_time": "2022-05-30T18:20:52.170Z"
   },
   {
    "duration": 220,
    "start_time": "2022-05-30T18:30:21.837Z"
   },
   {
    "duration": 3,
    "start_time": "2022-05-30T18:31:29.703Z"
   },
   {
    "duration": 5,
    "start_time": "2022-05-30T18:31:33.011Z"
   },
   {
    "duration": 8,
    "start_time": "2022-05-30T18:31:59.029Z"
   },
   {
    "duration": 3,
    "start_time": "2022-05-30T18:32:26.143Z"
   },
   {
    "duration": 96,
    "start_time": "2022-05-30T18:32:26.148Z"
   },
   {
    "duration": 17,
    "start_time": "2022-05-30T18:32:26.248Z"
   },
   {
    "duration": 22,
    "start_time": "2022-05-30T18:32:26.268Z"
   },
   {
    "duration": 11,
    "start_time": "2022-05-30T18:32:26.292Z"
   },
   {
    "duration": 17,
    "start_time": "2022-05-30T18:32:26.458Z"
   },
   {
    "duration": 7287,
    "start_time": "2022-05-30T18:32:27.088Z"
   },
   {
    "duration": 32409,
    "start_time": "2022-05-30T18:32:34.377Z"
   },
   {
    "duration": 151,
    "start_time": "2022-05-30T18:33:06.788Z"
   },
   {
    "duration": 20801,
    "start_time": "2022-05-30T18:33:06.942Z"
   },
   {
    "duration": 20,
    "start_time": "2022-05-30T18:33:27.745Z"
   },
   {
    "duration": 119,
    "start_time": "2022-05-30T18:33:27.767Z"
   },
   {
    "duration": 188,
    "start_time": "2022-05-30T18:33:27.888Z"
   },
   {
    "duration": 6,
    "start_time": "2022-05-30T18:33:28.077Z"
   },
   {
    "duration": 11,
    "start_time": "2022-05-30T18:33:28.084Z"
   },
   {
    "duration": 932,
    "start_time": "2022-05-30T20:23:36.519Z"
   },
   {
    "duration": 43,
    "start_time": "2022-05-30T20:23:37.452Z"
   },
   {
    "duration": 10,
    "start_time": "2022-05-30T20:23:37.496Z"
   },
   {
    "duration": 11,
    "start_time": "2022-05-30T20:23:37.508Z"
   },
   {
    "duration": 11,
    "start_time": "2022-05-30T20:23:37.520Z"
   },
   {
    "duration": 12,
    "start_time": "2022-05-30T20:23:37.532Z"
   },
   {
    "duration": 6293,
    "start_time": "2022-05-30T20:23:37.546Z"
   },
   {
    "duration": 27095,
    "start_time": "2022-05-30T20:23:43.840Z"
   },
   {
    "duration": 115,
    "start_time": "2022-05-30T20:24:10.937Z"
   },
   {
    "duration": 18579,
    "start_time": "2022-05-30T20:24:11.054Z"
   },
   {
    "duration": 3,
    "start_time": "2022-05-30T20:24:29.634Z"
   },
   {
    "duration": 107,
    "start_time": "2022-05-30T20:24:29.638Z"
   },
   {
    "duration": 171,
    "start_time": "2022-05-30T20:24:29.747Z"
   },
   {
    "duration": 10,
    "start_time": "2022-05-30T20:24:29.919Z"
   },
   {
    "duration": 8,
    "start_time": "2022-05-30T20:24:29.931Z"
   },
   {
    "duration": 5,
    "start_time": "2022-05-30T20:25:12.911Z"
   },
   {
    "duration": 5,
    "start_time": "2022-05-30T20:27:15.894Z"
   },
   {
    "duration": 6,
    "start_time": "2022-05-30T20:27:29.137Z"
   },
   {
    "duration": 4,
    "start_time": "2022-05-30T20:27:36.498Z"
   },
   {
    "duration": 7,
    "start_time": "2022-05-30T20:27:39.851Z"
   },
   {
    "duration": 5,
    "start_time": "2022-05-30T20:27:50.691Z"
   },
   {
    "duration": 5,
    "start_time": "2022-05-30T20:28:08.267Z"
   },
   {
    "duration": 6,
    "start_time": "2022-05-30T20:28:24.083Z"
   },
   {
    "duration": 31,
    "start_time": "2022-05-30T20:30:38.290Z"
   },
   {
    "duration": 3,
    "start_time": "2022-05-30T20:30:45.727Z"
   },
   {
    "duration": 7,
    "start_time": "2022-05-30T20:30:49.010Z"
   },
   {
    "duration": 4,
    "start_time": "2022-05-30T20:55:18.627Z"
   },
   {
    "duration": 974,
    "start_time": "2022-05-30T21:06:57.894Z"
   },
   {
    "duration": 46,
    "start_time": "2022-05-30T21:06:58.870Z"
   },
   {
    "duration": 22,
    "start_time": "2022-05-30T21:06:58.918Z"
   },
   {
    "duration": 7,
    "start_time": "2022-05-30T21:06:58.943Z"
   },
   {
    "duration": 11,
    "start_time": "2022-05-30T21:06:58.951Z"
   },
   {
    "duration": 13,
    "start_time": "2022-05-30T21:06:58.964Z"
   },
   {
    "duration": 6778,
    "start_time": "2022-05-30T21:06:58.979Z"
   },
   {
    "duration": 28687,
    "start_time": "2022-05-30T21:07:05.759Z"
   },
   {
    "duration": 117,
    "start_time": "2022-05-30T21:07:34.448Z"
   },
   {
    "duration": 19236,
    "start_time": "2022-05-30T21:07:34.569Z"
   },
   {
    "duration": 3,
    "start_time": "2022-05-30T21:07:53.807Z"
   },
   {
    "duration": 116,
    "start_time": "2022-05-30T21:07:53.812Z"
   },
   {
    "duration": 171,
    "start_time": "2022-05-30T21:07:53.929Z"
   },
   {
    "duration": 4,
    "start_time": "2022-05-31T10:01:18.282Z"
   },
   {
    "duration": 1029,
    "start_time": "2022-12-07T21:51:13.095Z"
   },
   {
    "duration": 136,
    "start_time": "2022-12-07T21:51:14.126Z"
   },
   {
    "duration": 10,
    "start_time": "2022-12-07T21:51:14.264Z"
   },
   {
    "duration": 11,
    "start_time": "2022-12-07T21:51:14.276Z"
   },
   {
    "duration": 12,
    "start_time": "2022-12-07T21:51:14.289Z"
   },
   {
    "duration": 17,
    "start_time": "2022-12-07T21:51:14.302Z"
   },
   {
    "duration": 6627,
    "start_time": "2022-12-07T21:51:14.320Z"
   },
   {
    "duration": 26307,
    "start_time": "2022-12-07T21:51:20.949Z"
   },
   {
    "duration": 113,
    "start_time": "2022-12-07T21:51:47.258Z"
   },
   {
    "duration": 19270,
    "start_time": "2022-12-07T21:51:47.373Z"
   },
   {
    "duration": 4,
    "start_time": "2022-12-07T21:52:06.644Z"
   },
   {
    "duration": 167,
    "start_time": "2022-12-07T21:52:06.649Z"
   },
   {
    "duration": 180,
    "start_time": "2022-12-07T21:52:06.819Z"
   },
   {
    "duration": 3,
    "start_time": "2022-12-07T21:52:07.002Z"
   }
  ],
  "kernelspec": {
   "display_name": "Python 3 (ipykernel)",
   "language": "python",
   "name": "python3"
  },
  "language_info": {
   "codemirror_mode": {
    "name": "ipython",
    "version": 3
   },
   "file_extension": ".py",
   "mimetype": "text/x-python",
   "name": "python",
   "nbconvert_exporter": "python",
   "pygments_lexer": "ipython3",
   "version": "3.9.7"
  },
  "toc": {
   "base_numbering": 1,
   "nav_menu": {},
   "number_sections": true,
   "sideBar": true,
   "skip_h1_title": true,
   "title_cell": "Table of Contents",
   "title_sidebar": "Contents",
   "toc_cell": false,
   "toc_position": {
    "height": "calc(100% - 180px)",
    "left": "10px",
    "top": "150px",
    "width": "254px"
   },
   "toc_section_display": true,
   "toc_window_display": true
  }
 },
 "nbformat": 4,
 "nbformat_minor": 2
}
