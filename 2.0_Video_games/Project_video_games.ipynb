{
 "cells": [
  {
   "cell_type": "markdown",
   "metadata": {},
   "source": [
    "## Открытие файла с данными"
   ]
  },
  {
   "cell_type": "code",
   "execution_count": 1,
   "metadata": {},
   "outputs": [],
   "source": [
    "import pandas as pd\n",
    "import math\n",
    "import numpy as np\n",
    "import matplotlib.pyplot as plt\n",
    "import scipy.stats as st\n",
    "import seaborn as sns"
   ]
  },
  {
   "cell_type": "code",
   "execution_count": 2,
   "metadata": {},
   "outputs": [
    {
     "data": {
      "text/html": [
       "<div>\n",
       "<style scoped>\n",
       "    .dataframe tbody tr th:only-of-type {\n",
       "        vertical-align: middle;\n",
       "    }\n",
       "\n",
       "    .dataframe tbody tr th {\n",
       "        vertical-align: top;\n",
       "    }\n",
       "\n",
       "    .dataframe thead th {\n",
       "        text-align: right;\n",
       "    }\n",
       "</style>\n",
       "<table border=\"1\" class=\"dataframe\">\n",
       "  <thead>\n",
       "    <tr style=\"text-align: right;\">\n",
       "      <th></th>\n",
       "      <th>Name</th>\n",
       "      <th>Platform</th>\n",
       "      <th>Year_of_Release</th>\n",
       "      <th>Genre</th>\n",
       "      <th>NA_sales</th>\n",
       "      <th>EU_sales</th>\n",
       "      <th>JP_sales</th>\n",
       "      <th>Other_sales</th>\n",
       "      <th>Critic_Score</th>\n",
       "      <th>User_Score</th>\n",
       "      <th>Rating</th>\n",
       "    </tr>\n",
       "  </thead>\n",
       "  <tbody>\n",
       "    <tr>\n",
       "      <th>0</th>\n",
       "      <td>Wii Sports</td>\n",
       "      <td>Wii</td>\n",
       "      <td>2006.0</td>\n",
       "      <td>Sports</td>\n",
       "      <td>41.36</td>\n",
       "      <td>28.96</td>\n",
       "      <td>3.77</td>\n",
       "      <td>8.45</td>\n",
       "      <td>76.0</td>\n",
       "      <td>8</td>\n",
       "      <td>E</td>\n",
       "    </tr>\n",
       "    <tr>\n",
       "      <th>1</th>\n",
       "      <td>Super Mario Bros.</td>\n",
       "      <td>NES</td>\n",
       "      <td>1985.0</td>\n",
       "      <td>Platform</td>\n",
       "      <td>29.08</td>\n",
       "      <td>3.58</td>\n",
       "      <td>6.81</td>\n",
       "      <td>0.77</td>\n",
       "      <td>NaN</td>\n",
       "      <td>NaN</td>\n",
       "      <td>NaN</td>\n",
       "    </tr>\n",
       "    <tr>\n",
       "      <th>2</th>\n",
       "      <td>Mario Kart Wii</td>\n",
       "      <td>Wii</td>\n",
       "      <td>2008.0</td>\n",
       "      <td>Racing</td>\n",
       "      <td>15.68</td>\n",
       "      <td>12.76</td>\n",
       "      <td>3.79</td>\n",
       "      <td>3.29</td>\n",
       "      <td>82.0</td>\n",
       "      <td>8.3</td>\n",
       "      <td>E</td>\n",
       "    </tr>\n",
       "    <tr>\n",
       "      <th>3</th>\n",
       "      <td>Wii Sports Resort</td>\n",
       "      <td>Wii</td>\n",
       "      <td>2009.0</td>\n",
       "      <td>Sports</td>\n",
       "      <td>15.61</td>\n",
       "      <td>10.93</td>\n",
       "      <td>3.28</td>\n",
       "      <td>2.95</td>\n",
       "      <td>80.0</td>\n",
       "      <td>8</td>\n",
       "      <td>E</td>\n",
       "    </tr>\n",
       "    <tr>\n",
       "      <th>4</th>\n",
       "      <td>Pokemon Red/Pokemon Blue</td>\n",
       "      <td>GB</td>\n",
       "      <td>1996.0</td>\n",
       "      <td>Role-Playing</td>\n",
       "      <td>11.27</td>\n",
       "      <td>8.89</td>\n",
       "      <td>10.22</td>\n",
       "      <td>1.00</td>\n",
       "      <td>NaN</td>\n",
       "      <td>NaN</td>\n",
       "      <td>NaN</td>\n",
       "    </tr>\n",
       "    <tr>\n",
       "      <th>5</th>\n",
       "      <td>Tetris</td>\n",
       "      <td>GB</td>\n",
       "      <td>1989.0</td>\n",
       "      <td>Puzzle</td>\n",
       "      <td>23.20</td>\n",
       "      <td>2.26</td>\n",
       "      <td>4.22</td>\n",
       "      <td>0.58</td>\n",
       "      <td>NaN</td>\n",
       "      <td>NaN</td>\n",
       "      <td>NaN</td>\n",
       "    </tr>\n",
       "    <tr>\n",
       "      <th>6</th>\n",
       "      <td>New Super Mario Bros.</td>\n",
       "      <td>DS</td>\n",
       "      <td>2006.0</td>\n",
       "      <td>Platform</td>\n",
       "      <td>11.28</td>\n",
       "      <td>9.14</td>\n",
       "      <td>6.50</td>\n",
       "      <td>2.88</td>\n",
       "      <td>89.0</td>\n",
       "      <td>8.5</td>\n",
       "      <td>E</td>\n",
       "    </tr>\n",
       "    <tr>\n",
       "      <th>7</th>\n",
       "      <td>Wii Play</td>\n",
       "      <td>Wii</td>\n",
       "      <td>2006.0</td>\n",
       "      <td>Misc</td>\n",
       "      <td>13.96</td>\n",
       "      <td>9.18</td>\n",
       "      <td>2.93</td>\n",
       "      <td>2.84</td>\n",
       "      <td>58.0</td>\n",
       "      <td>6.6</td>\n",
       "      <td>E</td>\n",
       "    </tr>\n",
       "    <tr>\n",
       "      <th>8</th>\n",
       "      <td>New Super Mario Bros. Wii</td>\n",
       "      <td>Wii</td>\n",
       "      <td>2009.0</td>\n",
       "      <td>Platform</td>\n",
       "      <td>14.44</td>\n",
       "      <td>6.94</td>\n",
       "      <td>4.70</td>\n",
       "      <td>2.24</td>\n",
       "      <td>87.0</td>\n",
       "      <td>8.4</td>\n",
       "      <td>E</td>\n",
       "    </tr>\n",
       "    <tr>\n",
       "      <th>9</th>\n",
       "      <td>Duck Hunt</td>\n",
       "      <td>NES</td>\n",
       "      <td>1984.0</td>\n",
       "      <td>Shooter</td>\n",
       "      <td>26.93</td>\n",
       "      <td>0.63</td>\n",
       "      <td>0.28</td>\n",
       "      <td>0.47</td>\n",
       "      <td>NaN</td>\n",
       "      <td>NaN</td>\n",
       "      <td>NaN</td>\n",
       "    </tr>\n",
       "    <tr>\n",
       "      <th>10</th>\n",
       "      <td>Nintendogs</td>\n",
       "      <td>DS</td>\n",
       "      <td>2005.0</td>\n",
       "      <td>Simulation</td>\n",
       "      <td>9.05</td>\n",
       "      <td>10.95</td>\n",
       "      <td>1.93</td>\n",
       "      <td>2.74</td>\n",
       "      <td>NaN</td>\n",
       "      <td>NaN</td>\n",
       "      <td>NaN</td>\n",
       "    </tr>\n",
       "    <tr>\n",
       "      <th>11</th>\n",
       "      <td>Mario Kart DS</td>\n",
       "      <td>DS</td>\n",
       "      <td>2005.0</td>\n",
       "      <td>Racing</td>\n",
       "      <td>9.71</td>\n",
       "      <td>7.47</td>\n",
       "      <td>4.13</td>\n",
       "      <td>1.90</td>\n",
       "      <td>91.0</td>\n",
       "      <td>8.6</td>\n",
       "      <td>E</td>\n",
       "    </tr>\n",
       "    <tr>\n",
       "      <th>12</th>\n",
       "      <td>Pokemon Gold/Pokemon Silver</td>\n",
       "      <td>GB</td>\n",
       "      <td>1999.0</td>\n",
       "      <td>Role-Playing</td>\n",
       "      <td>9.00</td>\n",
       "      <td>6.18</td>\n",
       "      <td>7.20</td>\n",
       "      <td>0.71</td>\n",
       "      <td>NaN</td>\n",
       "      <td>NaN</td>\n",
       "      <td>NaN</td>\n",
       "    </tr>\n",
       "    <tr>\n",
       "      <th>13</th>\n",
       "      <td>Wii Fit</td>\n",
       "      <td>Wii</td>\n",
       "      <td>2007.0</td>\n",
       "      <td>Sports</td>\n",
       "      <td>8.92</td>\n",
       "      <td>8.03</td>\n",
       "      <td>3.60</td>\n",
       "      <td>2.15</td>\n",
       "      <td>80.0</td>\n",
       "      <td>7.7</td>\n",
       "      <td>E</td>\n",
       "    </tr>\n",
       "    <tr>\n",
       "      <th>14</th>\n",
       "      <td>Kinect Adventures!</td>\n",
       "      <td>X360</td>\n",
       "      <td>2010.0</td>\n",
       "      <td>Misc</td>\n",
       "      <td>15.00</td>\n",
       "      <td>4.89</td>\n",
       "      <td>0.24</td>\n",
       "      <td>1.69</td>\n",
       "      <td>61.0</td>\n",
       "      <td>6.3</td>\n",
       "      <td>E</td>\n",
       "    </tr>\n",
       "  </tbody>\n",
       "</table>\n",
       "</div>"
      ],
      "text/plain": [
       "                           Name Platform  Year_of_Release         Genre  \\\n",
       "0                    Wii Sports      Wii           2006.0        Sports   \n",
       "1             Super Mario Bros.      NES           1985.0      Platform   \n",
       "2                Mario Kart Wii      Wii           2008.0        Racing   \n",
       "3             Wii Sports Resort      Wii           2009.0        Sports   \n",
       "4      Pokemon Red/Pokemon Blue       GB           1996.0  Role-Playing   \n",
       "5                        Tetris       GB           1989.0        Puzzle   \n",
       "6         New Super Mario Bros.       DS           2006.0      Platform   \n",
       "7                      Wii Play      Wii           2006.0          Misc   \n",
       "8     New Super Mario Bros. Wii      Wii           2009.0      Platform   \n",
       "9                     Duck Hunt      NES           1984.0       Shooter   \n",
       "10                   Nintendogs       DS           2005.0    Simulation   \n",
       "11                Mario Kart DS       DS           2005.0        Racing   \n",
       "12  Pokemon Gold/Pokemon Silver       GB           1999.0  Role-Playing   \n",
       "13                      Wii Fit      Wii           2007.0        Sports   \n",
       "14           Kinect Adventures!     X360           2010.0          Misc   \n",
       "\n",
       "    NA_sales  EU_sales  JP_sales  Other_sales  Critic_Score User_Score Rating  \n",
       "0      41.36     28.96      3.77         8.45          76.0          8      E  \n",
       "1      29.08      3.58      6.81         0.77           NaN        NaN    NaN  \n",
       "2      15.68     12.76      3.79         3.29          82.0        8.3      E  \n",
       "3      15.61     10.93      3.28         2.95          80.0          8      E  \n",
       "4      11.27      8.89     10.22         1.00           NaN        NaN    NaN  \n",
       "5      23.20      2.26      4.22         0.58           NaN        NaN    NaN  \n",
       "6      11.28      9.14      6.50         2.88          89.0        8.5      E  \n",
       "7      13.96      9.18      2.93         2.84          58.0        6.6      E  \n",
       "8      14.44      6.94      4.70         2.24          87.0        8.4      E  \n",
       "9      26.93      0.63      0.28         0.47           NaN        NaN    NaN  \n",
       "10      9.05     10.95      1.93         2.74           NaN        NaN    NaN  \n",
       "11      9.71      7.47      4.13         1.90          91.0        8.6      E  \n",
       "12      9.00      6.18      7.20         0.71           NaN        NaN    NaN  \n",
       "13      8.92      8.03      3.60         2.15          80.0        7.7      E  \n",
       "14     15.00      4.89      0.24         1.69          61.0        6.3      E  "
      ]
     },
     "execution_count": 2,
     "metadata": {},
     "output_type": "execute_result"
    }
   ],
   "source": [
    "df = pd.read_csv('/datasets/games.csv')\n",
    "df.head(15)"
   ]
  },
  {
   "cell_type": "markdown",
   "metadata": {},
   "source": [
    "## Подготовка данных"
   ]
  },
  {
   "cell_type": "markdown",
   "metadata": {},
   "source": [
    "### Приведение названий столбцов к нижнему регистру"
   ]
  },
  {
   "cell_type": "markdown",
   "metadata": {},
   "source": [
    "Приведем все названия столбцов к нижнему регистру:"
   ]
  },
  {
   "cell_type": "code",
   "execution_count": 3,
   "metadata": {},
   "outputs": [
    {
     "data": {
      "text/plain": [
       "Index(['name', 'platform', 'year_of_release', 'genre', 'na_sales', 'eu_sales',\n",
       "       'jp_sales', 'other_sales', 'critic_score', 'user_score', 'rating'],\n",
       "      dtype='object')"
      ]
     },
     "execution_count": 3,
     "metadata": {},
     "output_type": "execute_result"
    }
   ],
   "source": [
    "df.columns = df.columns.str.lower()\n",
    "df.columns"
   ]
  },
  {
   "cell_type": "markdown",
   "metadata": {},
   "source": [
    "### Преобразование данных в нужные типы"
   ]
  },
  {
   "cell_type": "markdown",
   "metadata": {},
   "source": [
    "Проведем проверку столбцов на верный тип данных:"
   ]
  },
  {
   "cell_type": "code",
   "execution_count": 4,
   "metadata": {},
   "outputs": [
    {
     "name": "stdout",
     "output_type": "stream",
     "text": [
      "<class 'pandas.core.frame.DataFrame'>\n",
      "RangeIndex: 16715 entries, 0 to 16714\n",
      "Data columns (total 11 columns):\n",
      " #   Column           Non-Null Count  Dtype  \n",
      "---  ------           --------------  -----  \n",
      " 0   name             16713 non-null  object \n",
      " 1   platform         16715 non-null  object \n",
      " 2   year_of_release  16446 non-null  float64\n",
      " 3   genre            16713 non-null  object \n",
      " 4   na_sales         16715 non-null  float64\n",
      " 5   eu_sales         16715 non-null  float64\n",
      " 6   jp_sales         16715 non-null  float64\n",
      " 7   other_sales      16715 non-null  float64\n",
      " 8   critic_score     8137 non-null   float64\n",
      " 9   user_score       10014 non-null  object \n",
      " 10  rating           9949 non-null   object \n",
      "dtypes: float64(6), object(5)\n",
      "memory usage: 1.4+ MB\n"
     ]
    }
   ],
   "source": [
    "df.info()"
   ]
  },
  {
   "cell_type": "markdown",
   "metadata": {},
   "source": [
    "Как видно из полученных данных, некорректный тип данных в столбцах `year_of_release` (год имеет тип данных int, а не float) и `user_score` (оценка пользователей имеет тип данных float, а не object). Проверим столбцы на пропуски перед заменой типа данных:"
   ]
  },
  {
   "cell_type": "code",
   "execution_count": 5,
   "metadata": {},
   "outputs": [
    {
     "data": {
      "text/plain": [
       "0.01609332934489979"
      ]
     },
     "execution_count": 5,
     "metadata": {},
     "output_type": "execute_result"
    }
   ],
   "source": [
    "df['year_of_release'].isna().sum() / df.shape[0]"
   ]
  },
  {
   "cell_type": "code",
   "execution_count": 6,
   "metadata": {},
   "outputs": [
    {
     "data": {
      "text/plain": [
       "0.4008973975471134"
      ]
     },
     "execution_count": 6,
     "metadata": {},
     "output_type": "execute_result"
    }
   ],
   "source": [
    "df['user_score'].isna().sum() / df.shape[0]"
   ]
  },
  {
   "cell_type": "markdown",
   "metadata": {},
   "source": [
    "Доля пропусков в `year_of_release` составляет примерно 1.6%, можно очистить строки с пропусками, доля же в `user_score` составляет примерно 40.1% - значительная часть, очищать не стоит:"
   ]
  },
  {
   "cell_type": "code",
   "execution_count": 7,
   "metadata": {},
   "outputs": [
    {
     "data": {
      "text/plain": [
       "array([2006, 1985, 2008, 2009, 1996, 1989, 1984, 2005, 1999, 2007, 2010,\n",
       "       2013, 2004, 1990, 1988, 2002, 2001, 2011, 1998, 2015, 2012, 2014,\n",
       "       1992, 1997, 1993, 1994, 1982, 2016, 2003, 1986, 2000, 1995, 1991,\n",
       "       1981, 1987, 1980, 1983])"
      ]
     },
     "execution_count": 7,
     "metadata": {},
     "output_type": "execute_result"
    }
   ],
   "source": [
    "df = df.dropna(subset = ['year_of_release']).reset_index(drop = True)\n",
    "df['year_of_release'] = df['year_of_release'].astype('int')\n",
    "df['year_of_release'].unique()"
   ]
  },
  {
   "cell_type": "code",
   "execution_count": 8,
   "metadata": {},
   "outputs": [
    {
     "data": {
      "text/plain": [
       "array(['8', nan, '8.3', '8.5', '6.6', '8.4', '8.6', '7.7', '6.3', '7.4',\n",
       "       '8.2', '9', '7.9', '8.1', '8.7', '7.1', '3.4', '5.3', '4.8', '3.2',\n",
       "       '8.9', '6.4', '7.8', '7.5', '2.6', '7.2', '9.2', '7', '7.3', '4.3',\n",
       "       '7.6', '5.7', '5', '9.1', '6.5', 'tbd', '8.8', '6.9', '9.4', '6.8',\n",
       "       '6.1', '6.7', '5.4', '4', '4.9', '4.5', '9.3', '6.2', '4.2', '6',\n",
       "       '3.7', '4.1', '5.8', '5.6', '5.5', '4.4', '4.6', '5.9', '3.9',\n",
       "       '3.1', '2.9', '5.2', '3.3', '4.7', '5.1', '3.5', '2.5', '1.9', '3',\n",
       "       '2.7', '2.2', '2', '9.5', '2.1', '3.6', '2.8', '1.8', '3.8', '0',\n",
       "       '1.6', '9.6', '2.4', '1.7', '1.1', '0.3', '1.5', '0.7', '1.2',\n",
       "       '2.3', '0.5', '1.3', '0.2', '0.6', '1.4', '0.9', '1', '9.7'],\n",
       "      dtype=object)"
      ]
     },
     "execution_count": 8,
     "metadata": {},
     "output_type": "execute_result"
    }
   ],
   "source": [
    "df['user_score'].unique()"
   ]
  },
  {
   "cell_type": "markdown",
   "metadata": {},
   "source": [
    "При проверке столбца `user_score` была обнаружена аббревиатура \"tbd\" - вероятно, означает \"to be determined\" (\"будет определено\"). Скорее всего это означает, что рейтинг игры игроками еще не определен на момент создания выгрузки данных, при переводе в тип `float` необходимо принудительно заменить его на `nan`:"
   ]
  },
  {
   "cell_type": "code",
   "execution_count": 9,
   "metadata": {},
   "outputs": [
    {
     "data": {
      "text/plain": [
       "array([8. , nan, 8.3, 8.5, 6.6, 8.4, 8.6, 7.7, 6.3, 7.4, 8.2, 9. , 7.9,\n",
       "       8.1, 8.7, 7.1, 3.4, 5.3, 4.8, 3.2, 8.9, 6.4, 7.8, 7.5, 2.6, 7.2,\n",
       "       9.2, 7. , 7.3, 4.3, 7.6, 5.7, 5. , 9.1, 6.5, 8.8, 6.9, 9.4, 6.8,\n",
       "       6.1, 6.7, 5.4, 4. , 4.9, 4.5, 9.3, 6.2, 4.2, 6. , 3.7, 4.1, 5.8,\n",
       "       5.6, 5.5, 4.4, 4.6, 5.9, 3.9, 3.1, 2.9, 5.2, 3.3, 4.7, 5.1, 3.5,\n",
       "       2.5, 1.9, 3. , 2.7, 2.2, 2. , 9.5, 2.1, 3.6, 2.8, 1.8, 3.8, 0. ,\n",
       "       1.6, 9.6, 2.4, 1.7, 1.1, 0.3, 1.5, 0.7, 1.2, 2.3, 0.5, 1.3, 0.2,\n",
       "       0.6, 1.4, 0.9, 1. , 9.7])"
      ]
     },
     "execution_count": 9,
     "metadata": {},
     "output_type": "execute_result"
    }
   ],
   "source": [
    "df['user_score'] = pd.to_numeric(df['user_score'], errors = 'coerce')\n",
    "df['user_score'].unique()"
   ]
  },
  {
   "cell_type": "markdown",
   "metadata": {},
   "source": [
    "Таким образом, типы данных были изменены корректно, можно продолжать предобработку данных."
   ]
  },
  {
   "cell_type": "markdown",
   "metadata": {},
   "source": [
    "### Проверка на пропуски и дубликаты"
   ]
  },
  {
   "cell_type": "markdown",
   "metadata": {},
   "source": [
    "Проведем проверку столбцов на пропуски:"
   ]
  },
  {
   "cell_type": "code",
   "execution_count": 10,
   "metadata": {},
   "outputs": [
    {
     "name": "stdout",
     "output_type": "stream",
     "text": [
      "<class 'pandas.core.frame.DataFrame'>\n",
      "RangeIndex: 16446 entries, 0 to 16445\n",
      "Data columns (total 11 columns):\n",
      " #   Column           Non-Null Count  Dtype  \n",
      "---  ------           --------------  -----  \n",
      " 0   name             16444 non-null  object \n",
      " 1   platform         16446 non-null  object \n",
      " 2   year_of_release  16446 non-null  int64  \n",
      " 3   genre            16444 non-null  object \n",
      " 4   na_sales         16446 non-null  float64\n",
      " 5   eu_sales         16446 non-null  float64\n",
      " 6   jp_sales         16446 non-null  float64\n",
      " 7   other_sales      16446 non-null  float64\n",
      " 8   critic_score     7983 non-null   float64\n",
      " 9   user_score       7463 non-null   float64\n",
      " 10  rating           9768 non-null   object \n",
      "dtypes: float64(6), int64(1), object(4)\n",
      "memory usage: 1.4+ MB\n"
     ]
    }
   ],
   "source": [
    "df.info()"
   ]
  },
  {
   "cell_type": "code",
   "execution_count": 11,
   "metadata": {},
   "outputs": [
    {
     "data": {
      "text/plain": [
       "name                  2\n",
       "platform              0\n",
       "year_of_release       0\n",
       "genre                 2\n",
       "na_sales              0\n",
       "eu_sales              0\n",
       "jp_sales              0\n",
       "other_sales           0\n",
       "critic_score       8463\n",
       "user_score         8983\n",
       "rating             6678\n",
       "dtype: int64"
      ]
     },
     "execution_count": 11,
     "metadata": {},
     "output_type": "execute_result"
    }
   ],
   "source": [
    "df.isna().sum()"
   ]
  },
  {
   "cell_type": "markdown",
   "metadata": {},
   "source": [
    "Значительные пропуски в столбцах `critic_score`, `user_score` и `rating`, а также по 2 в `name` и `genre`. Удалим строки с пропусками в столбцах `name` и `genre`:"
   ]
  },
  {
   "cell_type": "code",
   "execution_count": 12,
   "metadata": {},
   "outputs": [
    {
     "name": "stdout",
     "output_type": "stream",
     "text": [
      "<class 'pandas.core.frame.DataFrame'>\n",
      "RangeIndex: 16444 entries, 0 to 16443\n",
      "Data columns (total 11 columns):\n",
      " #   Column           Non-Null Count  Dtype  \n",
      "---  ------           --------------  -----  \n",
      " 0   name             16444 non-null  object \n",
      " 1   platform         16444 non-null  object \n",
      " 2   year_of_release  16444 non-null  int64  \n",
      " 3   genre            16444 non-null  object \n",
      " 4   na_sales         16444 non-null  float64\n",
      " 5   eu_sales         16444 non-null  float64\n",
      " 6   jp_sales         16444 non-null  float64\n",
      " 7   other_sales      16444 non-null  float64\n",
      " 8   critic_score     7983 non-null   float64\n",
      " 9   user_score       7463 non-null   float64\n",
      " 10  rating           9768 non-null   object \n",
      "dtypes: float64(6), int64(1), object(4)\n",
      "memory usage: 1.4+ MB\n"
     ]
    }
   ],
   "source": [
    "df = df.dropna(subset = ['name', 'genre']).reset_index(drop = True)\n",
    "df.info()"
   ]
  },
  {
   "cell_type": "markdown",
   "metadata": {},
   "source": [
    "Что касается столбцов `critic_score` и `user_score`, они имеют вещественный тип данных - можно поставить заглушку в виде отрицательного числа `-100`, что нельзя делать в `rating`, т.к. его значения относятся к категоральным"
   ]
  },
  {
   "cell_type": "code",
   "execution_count": 13,
   "metadata": {},
   "outputs": [
    {
     "name": "stdout",
     "output_type": "stream",
     "text": [
      "<class 'pandas.core.frame.DataFrame'>\n",
      "RangeIndex: 16444 entries, 0 to 16443\n",
      "Data columns (total 11 columns):\n",
      " #   Column           Non-Null Count  Dtype  \n",
      "---  ------           --------------  -----  \n",
      " 0   name             16444 non-null  object \n",
      " 1   platform         16444 non-null  object \n",
      " 2   year_of_release  16444 non-null  int64  \n",
      " 3   genre            16444 non-null  object \n",
      " 4   na_sales         16444 non-null  float64\n",
      " 5   eu_sales         16444 non-null  float64\n",
      " 6   jp_sales         16444 non-null  float64\n",
      " 7   other_sales      16444 non-null  float64\n",
      " 8   critic_score     16444 non-null  float64\n",
      " 9   user_score       16444 non-null  float64\n",
      " 10  rating           9768 non-null   object \n",
      "dtypes: float64(6), int64(1), object(4)\n",
      "memory usage: 1.4+ MB\n"
     ]
    }
   ],
   "source": [
    "df['critic_score'] = df['critic_score'].fillna(-100)\n",
    "df['user_score'] = df['user_score'].fillna(-100)\n",
    "df.info()"
   ]
  },
  {
   "cell_type": "markdown",
   "metadata": {},
   "source": [
    "Также выполним проверку на дубликаты:"
   ]
  },
  {
   "cell_type": "code",
   "execution_count": 14,
   "metadata": {},
   "outputs": [
    {
     "data": {
      "text/plain": [
       "0"
      ]
     },
     "execution_count": 14,
     "metadata": {},
     "output_type": "execute_result"
    }
   ],
   "source": [
    "df.duplicated().sum()"
   ]
  },
  {
   "cell_type": "markdown",
   "metadata": {},
   "source": [
    "Таким образом, дубликатов не было выявлено, пропуски, где это было возможно, устранены."
   ]
  },
  {
   "cell_type": "markdown",
   "metadata": {},
   "source": [
    "### Определение суммарных продаж во всех регионах"
   ]
  },
  {
   "cell_type": "markdown",
   "metadata": {},
   "source": [
    "Определим суммарные продажи во всех регионах и добавим их в отдельный столбец `sum_income`:"
   ]
  },
  {
   "cell_type": "code",
   "execution_count": 15,
   "metadata": {},
   "outputs": [
    {
     "data": {
      "text/html": [
       "<div>\n",
       "<style scoped>\n",
       "    .dataframe tbody tr th:only-of-type {\n",
       "        vertical-align: middle;\n",
       "    }\n",
       "\n",
       "    .dataframe tbody tr th {\n",
       "        vertical-align: top;\n",
       "    }\n",
       "\n",
       "    .dataframe thead th {\n",
       "        text-align: right;\n",
       "    }\n",
       "</style>\n",
       "<table border=\"1\" class=\"dataframe\">\n",
       "  <thead>\n",
       "    <tr style=\"text-align: right;\">\n",
       "      <th></th>\n",
       "      <th>name</th>\n",
       "      <th>platform</th>\n",
       "      <th>year_of_release</th>\n",
       "      <th>genre</th>\n",
       "      <th>na_sales</th>\n",
       "      <th>eu_sales</th>\n",
       "      <th>jp_sales</th>\n",
       "      <th>other_sales</th>\n",
       "      <th>critic_score</th>\n",
       "      <th>user_score</th>\n",
       "      <th>rating</th>\n",
       "      <th>sum_income</th>\n",
       "    </tr>\n",
       "  </thead>\n",
       "  <tbody>\n",
       "    <tr>\n",
       "      <th>0</th>\n",
       "      <td>Wii Sports</td>\n",
       "      <td>Wii</td>\n",
       "      <td>2006</td>\n",
       "      <td>Sports</td>\n",
       "      <td>41.36</td>\n",
       "      <td>28.96</td>\n",
       "      <td>3.77</td>\n",
       "      <td>8.45</td>\n",
       "      <td>76.0</td>\n",
       "      <td>8.0</td>\n",
       "      <td>E</td>\n",
       "      <td>82.54</td>\n",
       "    </tr>\n",
       "    <tr>\n",
       "      <th>1</th>\n",
       "      <td>Super Mario Bros.</td>\n",
       "      <td>NES</td>\n",
       "      <td>1985</td>\n",
       "      <td>Platform</td>\n",
       "      <td>29.08</td>\n",
       "      <td>3.58</td>\n",
       "      <td>6.81</td>\n",
       "      <td>0.77</td>\n",
       "      <td>-100.0</td>\n",
       "      <td>-100.0</td>\n",
       "      <td>NaN</td>\n",
       "      <td>40.24</td>\n",
       "    </tr>\n",
       "    <tr>\n",
       "      <th>2</th>\n",
       "      <td>Mario Kart Wii</td>\n",
       "      <td>Wii</td>\n",
       "      <td>2008</td>\n",
       "      <td>Racing</td>\n",
       "      <td>15.68</td>\n",
       "      <td>12.76</td>\n",
       "      <td>3.79</td>\n",
       "      <td>3.29</td>\n",
       "      <td>82.0</td>\n",
       "      <td>8.3</td>\n",
       "      <td>E</td>\n",
       "      <td>35.52</td>\n",
       "    </tr>\n",
       "    <tr>\n",
       "      <th>3</th>\n",
       "      <td>Wii Sports Resort</td>\n",
       "      <td>Wii</td>\n",
       "      <td>2009</td>\n",
       "      <td>Sports</td>\n",
       "      <td>15.61</td>\n",
       "      <td>10.93</td>\n",
       "      <td>3.28</td>\n",
       "      <td>2.95</td>\n",
       "      <td>80.0</td>\n",
       "      <td>8.0</td>\n",
       "      <td>E</td>\n",
       "      <td>32.77</td>\n",
       "    </tr>\n",
       "    <tr>\n",
       "      <th>4</th>\n",
       "      <td>Pokemon Red/Pokemon Blue</td>\n",
       "      <td>GB</td>\n",
       "      <td>1996</td>\n",
       "      <td>Role-Playing</td>\n",
       "      <td>11.27</td>\n",
       "      <td>8.89</td>\n",
       "      <td>10.22</td>\n",
       "      <td>1.00</td>\n",
       "      <td>-100.0</td>\n",
       "      <td>-100.0</td>\n",
       "      <td>NaN</td>\n",
       "      <td>31.38</td>\n",
       "    </tr>\n",
       "    <tr>\n",
       "      <th>5</th>\n",
       "      <td>Tetris</td>\n",
       "      <td>GB</td>\n",
       "      <td>1989</td>\n",
       "      <td>Puzzle</td>\n",
       "      <td>23.20</td>\n",
       "      <td>2.26</td>\n",
       "      <td>4.22</td>\n",
       "      <td>0.58</td>\n",
       "      <td>-100.0</td>\n",
       "      <td>-100.0</td>\n",
       "      <td>NaN</td>\n",
       "      <td>30.26</td>\n",
       "    </tr>\n",
       "    <tr>\n",
       "      <th>6</th>\n",
       "      <td>New Super Mario Bros.</td>\n",
       "      <td>DS</td>\n",
       "      <td>2006</td>\n",
       "      <td>Platform</td>\n",
       "      <td>11.28</td>\n",
       "      <td>9.14</td>\n",
       "      <td>6.50</td>\n",
       "      <td>2.88</td>\n",
       "      <td>89.0</td>\n",
       "      <td>8.5</td>\n",
       "      <td>E</td>\n",
       "      <td>29.80</td>\n",
       "    </tr>\n",
       "    <tr>\n",
       "      <th>7</th>\n",
       "      <td>Wii Play</td>\n",
       "      <td>Wii</td>\n",
       "      <td>2006</td>\n",
       "      <td>Misc</td>\n",
       "      <td>13.96</td>\n",
       "      <td>9.18</td>\n",
       "      <td>2.93</td>\n",
       "      <td>2.84</td>\n",
       "      <td>58.0</td>\n",
       "      <td>6.6</td>\n",
       "      <td>E</td>\n",
       "      <td>28.91</td>\n",
       "    </tr>\n",
       "    <tr>\n",
       "      <th>8</th>\n",
       "      <td>New Super Mario Bros. Wii</td>\n",
       "      <td>Wii</td>\n",
       "      <td>2009</td>\n",
       "      <td>Platform</td>\n",
       "      <td>14.44</td>\n",
       "      <td>6.94</td>\n",
       "      <td>4.70</td>\n",
       "      <td>2.24</td>\n",
       "      <td>87.0</td>\n",
       "      <td>8.4</td>\n",
       "      <td>E</td>\n",
       "      <td>28.32</td>\n",
       "    </tr>\n",
       "    <tr>\n",
       "      <th>9</th>\n",
       "      <td>Duck Hunt</td>\n",
       "      <td>NES</td>\n",
       "      <td>1984</td>\n",
       "      <td>Shooter</td>\n",
       "      <td>26.93</td>\n",
       "      <td>0.63</td>\n",
       "      <td>0.28</td>\n",
       "      <td>0.47</td>\n",
       "      <td>-100.0</td>\n",
       "      <td>-100.0</td>\n",
       "      <td>NaN</td>\n",
       "      <td>28.31</td>\n",
       "    </tr>\n",
       "  </tbody>\n",
       "</table>\n",
       "</div>"
      ],
      "text/plain": [
       "                        name platform  year_of_release         genre  \\\n",
       "0                 Wii Sports      Wii             2006        Sports   \n",
       "1          Super Mario Bros.      NES             1985      Platform   \n",
       "2             Mario Kart Wii      Wii             2008        Racing   \n",
       "3          Wii Sports Resort      Wii             2009        Sports   \n",
       "4   Pokemon Red/Pokemon Blue       GB             1996  Role-Playing   \n",
       "5                     Tetris       GB             1989        Puzzle   \n",
       "6      New Super Mario Bros.       DS             2006      Platform   \n",
       "7                   Wii Play      Wii             2006          Misc   \n",
       "8  New Super Mario Bros. Wii      Wii             2009      Platform   \n",
       "9                  Duck Hunt      NES             1984       Shooter   \n",
       "\n",
       "   na_sales  eu_sales  jp_sales  other_sales  critic_score  user_score rating  \\\n",
       "0     41.36     28.96      3.77         8.45          76.0         8.0      E   \n",
       "1     29.08      3.58      6.81         0.77        -100.0      -100.0    NaN   \n",
       "2     15.68     12.76      3.79         3.29          82.0         8.3      E   \n",
       "3     15.61     10.93      3.28         2.95          80.0         8.0      E   \n",
       "4     11.27      8.89     10.22         1.00        -100.0      -100.0    NaN   \n",
       "5     23.20      2.26      4.22         0.58        -100.0      -100.0    NaN   \n",
       "6     11.28      9.14      6.50         2.88          89.0         8.5      E   \n",
       "7     13.96      9.18      2.93         2.84          58.0         6.6      E   \n",
       "8     14.44      6.94      4.70         2.24          87.0         8.4      E   \n",
       "9     26.93      0.63      0.28         0.47        -100.0      -100.0    NaN   \n",
       "\n",
       "   sum_income  \n",
       "0       82.54  \n",
       "1       40.24  \n",
       "2       35.52  \n",
       "3       32.77  \n",
       "4       31.38  \n",
       "5       30.26  \n",
       "6       29.80  \n",
       "7       28.91  \n",
       "8       28.32  \n",
       "9       28.31  "
      ]
     },
     "execution_count": 15,
     "metadata": {},
     "output_type": "execute_result"
    }
   ],
   "source": [
    "df['sum_income'] = df['na_sales'] + df['eu_sales'] + df['jp_sales'] + df['other_sales']\n",
    "df.head(10)"
   ]
  },
  {
   "cell_type": "code",
   "execution_count": 16,
   "metadata": {},
   "outputs": [
    {
     "name": "stdout",
     "output_type": "stream",
     "text": [
      "<class 'pandas.core.frame.DataFrame'>\n",
      "RangeIndex: 16444 entries, 0 to 16443\n",
      "Data columns (total 12 columns):\n",
      " #   Column           Non-Null Count  Dtype  \n",
      "---  ------           --------------  -----  \n",
      " 0   name             16444 non-null  object \n",
      " 1   platform         16444 non-null  object \n",
      " 2   year_of_release  16444 non-null  int64  \n",
      " 3   genre            16444 non-null  object \n",
      " 4   na_sales         16444 non-null  float64\n",
      " 5   eu_sales         16444 non-null  float64\n",
      " 6   jp_sales         16444 non-null  float64\n",
      " 7   other_sales      16444 non-null  float64\n",
      " 8   critic_score     16444 non-null  float64\n",
      " 9   user_score       16444 non-null  float64\n",
      " 10  rating           9768 non-null   object \n",
      " 11  sum_income       16444 non-null  float64\n",
      "dtypes: float64(7), int64(1), object(4)\n",
      "memory usage: 1.5+ MB\n",
      "None\n",
      "-------------------------\n",
      "name [' Beyblade Burst' ' Fire Emblem Fates' \" Frozen: Olaf's Quest\" ...\n",
      " 'uDraw Studio' 'uDraw Studio: Instant Artist'\n",
      " '¡Shin Chan Flipa en colores!']\n",
      "name : кол-во NaN 0 , процент NaN 0.0 %\n",
      "-------------------------\n",
      "platform ['2600' '3DO' '3DS' 'DC' 'DS' 'GB' 'GBA' 'GC' 'GEN' 'GG' 'N64' 'NES' 'NG'\n",
      " 'PC' 'PCFX' 'PS' 'PS2' 'PS3' 'PS4' 'PSP' 'PSV' 'SAT' 'SCD' 'SNES' 'TG16'\n",
      " 'WS' 'Wii' 'WiiU' 'X360' 'XB' 'XOne']\n",
      "platform : кол-во NaN 0 , процент NaN 0.0 %\n",
      "-------------------------\n",
      "year_of_release [1980 1981 1982 1983 1984 1985 1986 1987 1988 1989 1990 1991 1992 1993\n",
      " 1994 1995 1996 1997 1998 1999 2000 2001 2002 2003 2004 2005 2006 2007\n",
      " 2008 2009 2010 2011 2012 2013 2014 2015 2016]\n",
      "year_of_release : кол-во NaN 0 , процент NaN 0.0 %\n",
      "-------------------------\n",
      "genre ['Action' 'Adventure' 'Fighting' 'Misc' 'Platform' 'Puzzle' 'Racing'\n",
      " 'Role-Playing' 'Shooter' 'Simulation' 'Sports' 'Strategy']\n",
      "genre : кол-во NaN 0 , процент NaN 0.0 %\n",
      "-------------------------\n",
      "critic_score [-100.   13.   17.   19.   20.   21.   23.   24.   25.   26.   27.   28.\n",
      "   29.   30.   31.   32.   33.   34.   35.   36.   37.   38.   39.   40.\n",
      "   41.   42.   43.   44.   45.   46.   47.   48.   49.   50.   51.   52.\n",
      "   53.   54.   55.   56.   57.   58.   59.   60.   61.   62.   63.   64.\n",
      "   65.   66.   67.   68.   69.   70.   71.   72.   73.   74.   75.   76.\n",
      "   77.   78.   79.   80.   81.   82.   83.   84.   85.   86.   87.   88.\n",
      "   89.   90.   91.   92.   93.   94.   95.   96.   97.   98.]\n",
      "critic_score : кол-во NaN 0 , процент NaN 0.0 %\n",
      "-------------------------\n",
      "user_score [-100.     0.     0.2    0.3    0.5    0.6    0.7    0.9    1.     1.1\n",
      "    1.2    1.3    1.4    1.5    1.6    1.7    1.8    1.9    2.     2.1\n",
      "    2.2    2.3    2.4    2.5    2.6    2.7    2.8    2.9    3.     3.1\n",
      "    3.2    3.3    3.4    3.5    3.6    3.7    3.8    3.9    4.     4.1\n",
      "    4.2    4.3    4.4    4.5    4.6    4.7    4.8    4.9    5.     5.1\n",
      "    5.2    5.3    5.4    5.5    5.6    5.7    5.8    5.9    6.     6.1\n",
      "    6.2    6.3    6.4    6.5    6.6    6.7    6.8    6.9    7.     7.1\n",
      "    7.2    7.3    7.4    7.5    7.6    7.7    7.8    7.9    8.     8.1\n",
      "    8.2    8.3    8.4    8.5    8.6    8.7    8.8    8.9    9.     9.1\n",
      "    9.2    9.3    9.4    9.5    9.6    9.7]\n",
      "user_score : кол-во NaN 0 , процент NaN 0.0 %\n",
      "-------------------------\n",
      "rating ['AO' 'E' 'E10+' 'EC' 'K-A' 'M' 'RP' 'T' nan]\n",
      "rating : кол-во NaN 6676 , процент NaN 40.6 %\n"
     ]
    }
   ],
   "source": [
    "temp = df.copy() \n",
    "list_c = ['name', 'platform', 'year_of_release', 'genre', 'critic_score', 'user_score', 'rating']\n",
    "print(temp.info())\n",
    "for col_l in list_c:\n",
    "  print('-------------------------')\n",
    "  print(col_l, temp[col_l].sort_values().unique())\n",
    "  print(col_l,': кол-во NaN',temp[col_l].isna().sum(),\n",
    "        ', процент NaN', round(temp[col_l].isna().sum()/len(temp)*100, 2),'%')"
   ]
  },
  {
   "cell_type": "markdown",
   "metadata": {},
   "source": [
    "## Исследовательский анализ данных"
   ]
  },
  {
   "cell_type": "markdown",
   "metadata": {},
   "source": [
    "### Анализ количества игр в разные годы"
   ]
  },
  {
   "cell_type": "markdown",
   "metadata": {},
   "source": [
    "Создадим график, отражающий количество релизов игр в разные года:"
   ]
  },
  {
   "cell_type": "code",
   "execution_count": 17,
   "metadata": {
    "scrolled": true
   },
   "outputs": [
    {
     "data": {
      "image/png": "[encoded data removed]",
      "text/plain": [
       "<Figure size 432x288 with 1 Axes>"
      ]
     },
     "metadata": {
      "needs_background": "light"
     },
     "output_type": "display_data"
    }
   ],
   "source": [
    "(df\n",
    "    .pivot_table(index = 'year_of_release', values = 'name', aggfunc = 'count')\n",
    "    .plot(style = 'o-', ylabel = 'count_of_games'));"
   ]
  },
  {
   "cell_type": "markdown",
   "metadata": {},
   "source": [
    "С 1980 по 2000 особого скачка роста не неблюдается. Выделим в новом датасете игры, созданные с 2000 года и позднее:"
   ]
  },
  {
   "cell_type": "code",
   "execution_count": 18,
   "metadata": {
    "scrolled": false
   },
   "outputs": [
    {
     "data": {
      "image/png": "[encoded data removed]",
      "text/plain": [
       "<Figure size 720x720 with 1 Axes>"
      ]
     },
     "metadata": {
      "needs_background": "light"
     },
     "output_type": "display_data"
    }
   ],
   "source": [
    "df_yeart_more_than_2000 = df[df['year_of_release'] >= 2000]\n",
    "(df_yeart_more_than_2000\n",
    "    .pivot_table(index = 'year_of_release', values = 'name', aggfunc = 'count')\n",
    "    .plot(style = 'o-', figsize = (10, 10), ylabel = 'count_of_games'));"
   ]
  },
  {
   "cell_type": "markdown",
   "metadata": {},
   "source": [
    "Из графика следует, что с 2000 по 2008 наблюдается резкий скачок, далее, вплоть до 2016-го, спад. При этом пик приходится на 2008-2009 года, когда отметка превышала 1400 созданных игр в год.\n",
    "\n",
    "Можем сделать вывод, что года до 2000 нас особо не интересуют. Наиболее важным для нас является период с 2000 по 2016 года."
   ]
  },
  {
   "cell_type": "markdown",
   "metadata": {},
   "source": [
    "### Анализ изменений продаж по платформам"
   ]
  },
  {
   "cell_type": "markdown",
   "metadata": {},
   "source": [
    "Определим ТОП-10 платформ с наибольшими суммарными продажами и создадим список с их названиями:"
   ]
  },
  {
   "cell_type": "code",
   "execution_count": 19,
   "metadata": {},
   "outputs": [
    {
     "data": {
      "text/plain": [
       "['PS2', 'X360', 'PS3', 'Wii', 'DS', 'PS', 'PS4', 'GBA', 'PSP', '3DS']"
      ]
     },
     "execution_count": 19,
     "metadata": {},
     "output_type": "execute_result"
    }
   ],
   "source": [
    "df_top_10 = (df\n",
    "    .pivot_table(index = 'platform', values = 'sum_income', aggfunc = 'sum')\n",
    "    .sort_values(by = 'sum_income', ascending = False)\n",
    "    .head(10))\n",
    "\n",
    "df_top_10_list = df_top_10.T.columns.tolist()\n",
    "df_top_10_list"
   ]
  },
  {
   "cell_type": "markdown",
   "metadata": {},
   "source": [
    "Построим диаграммы распределений по годам:"
   ]
  },
  {
   "cell_type": "code",
   "execution_count": 20,
   "metadata": {
    "scrolled": false
   },
   "outputs": [
    {
     "data": {
      "image/png": "[encoded data removed]",
      "text/plain": [
       "<Figure size 1080x360 with 1 Axes>"
      ]
     },
     "metadata": {
      "needs_background": "light"
     },
     "output_type": "display_data"
    }
   ],
   "source": [
    "df_top_10_platforms_sum_income = df.query('platform in @df_top_10_list').reset_index(drop = True)\n",
    "\n",
    "for value in df_top_10_list:\n",
    "    df_top_10_platforms_sum_income[df_top_10_platforms_sum_income['platform'] == value]['year_of_release'].hist(bins = 30, figsize = (15, 5), label = value);\n",
    "    plt.legend(loc = 'upper left')"
   ]
  },
  {
   "cell_type": "markdown",
   "metadata": {},
   "source": [
    "Из полученных гистограмм следует, что примерный период, за который исчезают старые и появляются новые платформы - 5 лет."
   ]
  },
  {
   "cell_type": "markdown",
   "metadata": {},
   "source": [
    "### Определение актуального периода прогнозирования"
   ]
  },
  {
   "cell_type": "markdown",
   "metadata": {},
   "source": [
    "На основе полученных данных по пунктам 3.1 и 3.2 можно сделать выводы: анализ необходимо проводить для временного промежутка, не позднее 2000 года; примерный период актуальности компании - 5 лет. На основе этого примем актуальный период прогнозирования 4 года - с 2013 по 2016 года: можно проследить динамику изменения позиций платформ в игровой индустрии, а также выделить из них наиболее перспективные.\n",
    "\n"
   ]
  },
  {
   "cell_type": "markdown",
   "metadata": {},
   "source": [
    "### Создание нового DataFrame с актуальным периодом прогнозирования"
   ]
  },
  {
   "cell_type": "markdown",
   "metadata": {},
   "source": [
    "В пункте 3.3 был выделен актуальный период прогнозироования - с 2013 по 2016 года. Создадим новый DataFrame, учитывающий этот период:"
   ]
  },
  {
   "cell_type": "code",
   "execution_count": 21,
   "metadata": {},
   "outputs": [
    {
     "data": {
      "text/html": [
       "<div>\n",
       "<style scoped>\n",
       "    .dataframe tbody tr th:only-of-type {\n",
       "        vertical-align: middle;\n",
       "    }\n",
       "\n",
       "    .dataframe tbody tr th {\n",
       "        vertical-align: top;\n",
       "    }\n",
       "\n",
       "    .dataframe thead th {\n",
       "        text-align: right;\n",
       "    }\n",
       "</style>\n",
       "<table border=\"1\" class=\"dataframe\">\n",
       "  <thead>\n",
       "    <tr style=\"text-align: right;\">\n",
       "      <th></th>\n",
       "      <th>name</th>\n",
       "      <th>platform</th>\n",
       "      <th>year_of_release</th>\n",
       "      <th>genre</th>\n",
       "      <th>na_sales</th>\n",
       "      <th>eu_sales</th>\n",
       "      <th>jp_sales</th>\n",
       "      <th>other_sales</th>\n",
       "      <th>critic_score</th>\n",
       "      <th>user_score</th>\n",
       "      <th>rating</th>\n",
       "      <th>sum_income</th>\n",
       "    </tr>\n",
       "  </thead>\n",
       "  <tbody>\n",
       "    <tr>\n",
       "      <th>16</th>\n",
       "      <td>Grand Theft Auto V</td>\n",
       "      <td>PS3</td>\n",
       "      <td>2013</td>\n",
       "      <td>Action</td>\n",
       "      <td>7.02</td>\n",
       "      <td>9.09</td>\n",
       "      <td>0.98</td>\n",
       "      <td>3.96</td>\n",
       "      <td>97.0</td>\n",
       "      <td>8.2</td>\n",
       "      <td>M</td>\n",
       "      <td>21.05</td>\n",
       "    </tr>\n",
       "    <tr>\n",
       "      <th>23</th>\n",
       "      <td>Grand Theft Auto V</td>\n",
       "      <td>X360</td>\n",
       "      <td>2013</td>\n",
       "      <td>Action</td>\n",
       "      <td>9.66</td>\n",
       "      <td>5.14</td>\n",
       "      <td>0.06</td>\n",
       "      <td>1.41</td>\n",
       "      <td>97.0</td>\n",
       "      <td>8.1</td>\n",
       "      <td>M</td>\n",
       "      <td>16.27</td>\n",
       "    </tr>\n",
       "    <tr>\n",
       "      <th>31</th>\n",
       "      <td>Call of Duty: Black Ops 3</td>\n",
       "      <td>PS4</td>\n",
       "      <td>2015</td>\n",
       "      <td>Shooter</td>\n",
       "      <td>6.03</td>\n",
       "      <td>5.86</td>\n",
       "      <td>0.36</td>\n",
       "      <td>2.38</td>\n",
       "      <td>-100.0</td>\n",
       "      <td>-100.0</td>\n",
       "      <td>NaN</td>\n",
       "      <td>14.63</td>\n",
       "    </tr>\n",
       "    <tr>\n",
       "      <th>33</th>\n",
       "      <td>Pokemon X/Pokemon Y</td>\n",
       "      <td>3DS</td>\n",
       "      <td>2013</td>\n",
       "      <td>Role-Playing</td>\n",
       "      <td>5.28</td>\n",
       "      <td>4.19</td>\n",
       "      <td>4.35</td>\n",
       "      <td>0.78</td>\n",
       "      <td>-100.0</td>\n",
       "      <td>-100.0</td>\n",
       "      <td>NaN</td>\n",
       "      <td>14.60</td>\n",
       "    </tr>\n",
       "    <tr>\n",
       "      <th>42</th>\n",
       "      <td>Grand Theft Auto V</td>\n",
       "      <td>PS4</td>\n",
       "      <td>2014</td>\n",
       "      <td>Action</td>\n",
       "      <td>3.96</td>\n",
       "      <td>6.31</td>\n",
       "      <td>0.38</td>\n",
       "      <td>1.97</td>\n",
       "      <td>97.0</td>\n",
       "      <td>8.3</td>\n",
       "      <td>M</td>\n",
       "      <td>12.62</td>\n",
       "    </tr>\n",
       "    <tr>\n",
       "      <th>47</th>\n",
       "      <td>Pokemon Omega Ruby/Pokemon Alpha Sapphire</td>\n",
       "      <td>3DS</td>\n",
       "      <td>2014</td>\n",
       "      <td>Role-Playing</td>\n",
       "      <td>4.35</td>\n",
       "      <td>3.49</td>\n",
       "      <td>3.10</td>\n",
       "      <td>0.74</td>\n",
       "      <td>-100.0</td>\n",
       "      <td>-100.0</td>\n",
       "      <td>NaN</td>\n",
       "      <td>11.68</td>\n",
       "    </tr>\n",
       "    <tr>\n",
       "      <th>60</th>\n",
       "      <td>Call of Duty: Ghosts</td>\n",
       "      <td>X360</td>\n",
       "      <td>2013</td>\n",
       "      <td>Shooter</td>\n",
       "      <td>6.73</td>\n",
       "      <td>2.56</td>\n",
       "      <td>0.04</td>\n",
       "      <td>0.91</td>\n",
       "      <td>73.0</td>\n",
       "      <td>2.6</td>\n",
       "      <td>M</td>\n",
       "      <td>10.24</td>\n",
       "    </tr>\n",
       "    <tr>\n",
       "      <th>69</th>\n",
       "      <td>Call of Duty: Ghosts</td>\n",
       "      <td>PS3</td>\n",
       "      <td>2013</td>\n",
       "      <td>Shooter</td>\n",
       "      <td>4.10</td>\n",
       "      <td>3.63</td>\n",
       "      <td>0.38</td>\n",
       "      <td>1.25</td>\n",
       "      <td>71.0</td>\n",
       "      <td>2.6</td>\n",
       "      <td>M</td>\n",
       "      <td>9.36</td>\n",
       "    </tr>\n",
       "    <tr>\n",
       "      <th>72</th>\n",
       "      <td>Minecraft</td>\n",
       "      <td>X360</td>\n",
       "      <td>2013</td>\n",
       "      <td>Misc</td>\n",
       "      <td>5.70</td>\n",
       "      <td>2.65</td>\n",
       "      <td>0.02</td>\n",
       "      <td>0.81</td>\n",
       "      <td>-100.0</td>\n",
       "      <td>-100.0</td>\n",
       "      <td>NaN</td>\n",
       "      <td>9.18</td>\n",
       "    </tr>\n",
       "    <tr>\n",
       "      <th>77</th>\n",
       "      <td>FIFA 16</td>\n",
       "      <td>PS4</td>\n",
       "      <td>2015</td>\n",
       "      <td>Sports</td>\n",
       "      <td>1.12</td>\n",
       "      <td>6.12</td>\n",
       "      <td>0.06</td>\n",
       "      <td>1.28</td>\n",
       "      <td>82.0</td>\n",
       "      <td>4.3</td>\n",
       "      <td>E</td>\n",
       "      <td>8.58</td>\n",
       "    </tr>\n",
       "  </tbody>\n",
       "</table>\n",
       "</div>"
      ],
      "text/plain": [
       "                                         name platform  year_of_release  \\\n",
       "16                         Grand Theft Auto V      PS3             2013   \n",
       "23                         Grand Theft Auto V     X360             2013   \n",
       "31                  Call of Duty: Black Ops 3      PS4             2015   \n",
       "33                        Pokemon X/Pokemon Y      3DS             2013   \n",
       "42                         Grand Theft Auto V      PS4             2014   \n",
       "47  Pokemon Omega Ruby/Pokemon Alpha Sapphire      3DS             2014   \n",
       "60                       Call of Duty: Ghosts     X360             2013   \n",
       "69                       Call of Duty: Ghosts      PS3             2013   \n",
       "72                                  Minecraft     X360             2013   \n",
       "77                                    FIFA 16      PS4             2015   \n",
       "\n",
       "           genre  na_sales  eu_sales  jp_sales  other_sales  critic_score  \\\n",
       "16        Action      7.02      9.09      0.98         3.96          97.0   \n",
       "23        Action      9.66      5.14      0.06         1.41          97.0   \n",
       "31       Shooter      6.03      5.86      0.36         2.38        -100.0   \n",
       "33  Role-Playing      5.28      4.19      4.35         0.78        -100.0   \n",
       "42        Action      3.96      6.31      0.38         1.97          97.0   \n",
       "47  Role-Playing      4.35      3.49      3.10         0.74        -100.0   \n",
       "60       Shooter      6.73      2.56      0.04         0.91          73.0   \n",
       "69       Shooter      4.10      3.63      0.38         1.25          71.0   \n",
       "72          Misc      5.70      2.65      0.02         0.81        -100.0   \n",
       "77        Sports      1.12      6.12      0.06         1.28          82.0   \n",
       "\n",
       "    user_score rating  sum_income  \n",
       "16         8.2      M       21.05  \n",
       "23         8.1      M       16.27  \n",
       "31      -100.0    NaN       14.63  \n",
       "33      -100.0    NaN       14.60  \n",
       "42         8.3      M       12.62  \n",
       "47      -100.0    NaN       11.68  \n",
       "60         2.6      M       10.24  \n",
       "69         2.6      M        9.36  \n",
       "72      -100.0    NaN        9.18  \n",
       "77         4.3      E        8.58  "
      ]
     },
     "execution_count": 21,
     "metadata": {},
     "output_type": "execute_result"
    }
   ],
   "source": [
    "df_2013_2016 = df.query('year_of_release >= 2013')\n",
    "df_2013_2016.head(10)"
   ]
  },
  {
   "cell_type": "markdown",
   "metadata": {},
   "source": [
    "### Определение потенциально прибыльных платформ"
   ]
  },
  {
   "cell_type": "markdown",
   "metadata": {},
   "source": [
    "Увеличим гистограммы из пункта 3.2 с учетом актального периода из пункта 3.3:"
   ]
  },
  {
   "cell_type": "code",
   "execution_count": 22,
   "metadata": {},
   "outputs": [
    {
     "data": {
      "image/png": "[encoded data removed]",
      "text/plain": [
       "<Figure size 720x720 with 1 Axes>"
      ]
     },
     "metadata": {
      "needs_background": "light"
     },
     "output_type": "display_data"
    }
   ],
   "source": [
    "df_top_10_platforms_sum_income = df.query('platform in @df_top_10_list').reset_index(drop = True)\n",
    "\n",
    "for value in df_top_10_list:\n",
    "    (df_top_10_platforms_sum_income[df_top_10_platforms_sum_income['platform'] == value]['year_of_release']\n",
    "         .plot(kind = 'hist', bins = 30, figsize = (10, 10), label = value, xlim = (2013, 2016)))\n",
    "    plt.legend(loc = 'upper right')"
   ]
  },
  {
   "cell_type": "markdown",
   "metadata": {},
   "source": [
    "Из полученного результата можем сделать следующие выводы: наиболее перспективная платформа - PS4 (наблюдается рост продаж), далее по убыванию - 3DS, PS3, X360 (наблюдается спад продаж). Таким образом, выделим 3 основные: PS4, 3DS, PS3. "
   ]
  },
  {
   "cell_type": "markdown",
   "metadata": {},
   "source": [
    "### Создание графика «ящик с усами» по глобальным продажам игр в разбивке по платформам"
   ]
  },
  {
   "cell_type": "markdown",
   "metadata": {},
   "source": [
    "Для 3 наиболее перспективных платформ, выделенных в пункте 3.5, создадим \"ящики с усами\":"
   ]
  },
  {
   "cell_type": "code",
   "execution_count": 23,
   "metadata": {},
   "outputs": [
    {
     "data": {
      "image/png": "[encoded data removed]",
      "text/plain": [
       "<Figure size 432x288 with 1 Axes>"
      ]
     },
     "metadata": {
      "needs_background": "light"
     },
     "output_type": "display_data"
    }
   ],
   "source": [
    "df_2013_2016_income = df_2013_2016[['platform', 'sum_income']]\n",
    "\n",
    "df_2013_2016_income_PS4 = df_2013_2016_income[df_2013_2016_income['platform'] == 'PS4']\n",
    "df_2013_2016_income_3DS = df_2013_2016_income[df_2013_2016_income['platform'] == '3DS']\n",
    "df_2013_2016_income_PS3 = df_2013_2016_income[df_2013_2016_income['platform'] == 'PS3']\n",
    "\n",
    "list_df_2013_2016_income = [df_2013_2016_income_PS4, df_2013_2016_income_3DS, df_2013_2016_income_PS3]\n",
    "\n",
    "for index in list_df_2013_2016_income:\n",
    "    index.boxplot()"
   ]
  },
  {
   "cell_type": "markdown",
   "metadata": {},
   "source": [
    "Масштабируем диаграммы:"
   ]
  },
  {
   "cell_type": "code",
   "execution_count": 24,
   "metadata": {},
   "outputs": [
    {
     "data": {
      "image/png": "[encoded data removed]",
      "text/plain": [
       "<Figure size 432x288 with 1 Axes>"
      ]
     },
     "metadata": {
      "needs_background": "light"
     },
     "output_type": "display_data"
    }
   ],
   "source": [
    "for index in list_df_2013_2016_income:\n",
    "    index.boxplot()\n",
    "    plt.ylim(0, 1.8)"
   ]
  },
  {
   "cell_type": "code",
   "execution_count": 25,
   "metadata": {},
   "outputs": [
    {
     "data": {
      "text/html": [
       "<div>\n",
       "<style scoped>\n",
       "    .dataframe tbody tr th:only-of-type {\n",
       "        vertical-align: middle;\n",
       "    }\n",
       "\n",
       "    .dataframe tbody tr th {\n",
       "        vertical-align: top;\n",
       "    }\n",
       "\n",
       "    .dataframe thead th {\n",
       "        text-align: right;\n",
       "    }\n",
       "</style>\n",
       "<table border=\"1\" class=\"dataframe\">\n",
       "  <thead>\n",
       "    <tr style=\"text-align: right;\">\n",
       "      <th></th>\n",
       "      <th>sum_income</th>\n",
       "    </tr>\n",
       "  </thead>\n",
       "  <tbody>\n",
       "    <tr>\n",
       "      <th>count</th>\n",
       "      <td>392.000000</td>\n",
       "    </tr>\n",
       "    <tr>\n",
       "      <th>mean</th>\n",
       "      <td>0.801378</td>\n",
       "    </tr>\n",
       "    <tr>\n",
       "      <th>std</th>\n",
       "      <td>1.609456</td>\n",
       "    </tr>\n",
       "    <tr>\n",
       "      <th>min</th>\n",
       "      <td>0.010000</td>\n",
       "    </tr>\n",
       "    <tr>\n",
       "      <th>25%</th>\n",
       "      <td>0.060000</td>\n",
       "    </tr>\n",
       "    <tr>\n",
       "      <th>50%</th>\n",
       "      <td>0.200000</td>\n",
       "    </tr>\n",
       "    <tr>\n",
       "      <th>75%</th>\n",
       "      <td>0.730000</td>\n",
       "    </tr>\n",
       "    <tr>\n",
       "      <th>max</th>\n",
       "      <td>14.630000</td>\n",
       "    </tr>\n",
       "  </tbody>\n",
       "</table>\n",
       "</div>"
      ],
      "text/plain": [
       "       sum_income\n",
       "count  392.000000\n",
       "mean     0.801378\n",
       "std      1.609456\n",
       "min      0.010000\n",
       "25%      0.060000\n",
       "50%      0.200000\n",
       "75%      0.730000\n",
       "max     14.630000"
      ]
     },
     "execution_count": 25,
     "metadata": {},
     "output_type": "execute_result"
    }
   ],
   "source": [
    "df_2013_2016_income_PS4.describe()"
   ]
  },
  {
   "cell_type": "code",
   "execution_count": 26,
   "metadata": {},
   "outputs": [
    {
     "data": {
      "text/html": [
       "<div>\n",
       "<style scoped>\n",
       "    .dataframe tbody tr th:only-of-type {\n",
       "        vertical-align: middle;\n",
       "    }\n",
       "\n",
       "    .dataframe tbody tr th {\n",
       "        vertical-align: top;\n",
       "    }\n",
       "\n",
       "    .dataframe thead th {\n",
       "        text-align: right;\n",
       "    }\n",
       "</style>\n",
       "<table border=\"1\" class=\"dataframe\">\n",
       "  <thead>\n",
       "    <tr style=\"text-align: right;\">\n",
       "      <th></th>\n",
       "      <th>sum_income</th>\n",
       "    </tr>\n",
       "  </thead>\n",
       "  <tbody>\n",
       "    <tr>\n",
       "      <th>count</th>\n",
       "      <td>303.000000</td>\n",
       "    </tr>\n",
       "    <tr>\n",
       "      <th>mean</th>\n",
       "      <td>0.472772</td>\n",
       "    </tr>\n",
       "    <tr>\n",
       "      <th>std</th>\n",
       "      <td>1.381347</td>\n",
       "    </tr>\n",
       "    <tr>\n",
       "      <th>min</th>\n",
       "      <td>0.010000</td>\n",
       "    </tr>\n",
       "    <tr>\n",
       "      <th>25%</th>\n",
       "      <td>0.040000</td>\n",
       "    </tr>\n",
       "    <tr>\n",
       "      <th>50%</th>\n",
       "      <td>0.090000</td>\n",
       "    </tr>\n",
       "    <tr>\n",
       "      <th>75%</th>\n",
       "      <td>0.280000</td>\n",
       "    </tr>\n",
       "    <tr>\n",
       "      <th>max</th>\n",
       "      <td>14.600000</td>\n",
       "    </tr>\n",
       "  </tbody>\n",
       "</table>\n",
       "</div>"
      ],
      "text/plain": [
       "       sum_income\n",
       "count  303.000000\n",
       "mean     0.472772\n",
       "std      1.381347\n",
       "min      0.010000\n",
       "25%      0.040000\n",
       "50%      0.090000\n",
       "75%      0.280000\n",
       "max     14.600000"
      ]
     },
     "execution_count": 26,
     "metadata": {},
     "output_type": "execute_result"
    }
   ],
   "source": [
    "df_2013_2016_income_3DS.describe()"
   ]
  },
  {
   "cell_type": "code",
   "execution_count": 27,
   "metadata": {},
   "outputs": [
    {
     "data": {
      "text/html": [
       "<div>\n",
       "<style scoped>\n",
       "    .dataframe tbody tr th:only-of-type {\n",
       "        vertical-align: middle;\n",
       "    }\n",
       "\n",
       "    .dataframe tbody tr th {\n",
       "        vertical-align: top;\n",
       "    }\n",
       "\n",
       "    .dataframe thead th {\n",
       "        text-align: right;\n",
       "    }\n",
       "</style>\n",
       "<table border=\"1\" class=\"dataframe\">\n",
       "  <thead>\n",
       "    <tr style=\"text-align: right;\">\n",
       "      <th></th>\n",
       "      <th>sum_income</th>\n",
       "    </tr>\n",
       "  </thead>\n",
       "  <tbody>\n",
       "    <tr>\n",
       "      <th>count</th>\n",
       "      <td>345.000000</td>\n",
       "    </tr>\n",
       "    <tr>\n",
       "      <th>mean</th>\n",
       "      <td>0.525884</td>\n",
       "    </tr>\n",
       "    <tr>\n",
       "      <th>std</th>\n",
       "      <td>1.451939</td>\n",
       "    </tr>\n",
       "    <tr>\n",
       "      <th>min</th>\n",
       "      <td>0.010000</td>\n",
       "    </tr>\n",
       "    <tr>\n",
       "      <th>25%</th>\n",
       "      <td>0.040000</td>\n",
       "    </tr>\n",
       "    <tr>\n",
       "      <th>50%</th>\n",
       "      <td>0.150000</td>\n",
       "    </tr>\n",
       "    <tr>\n",
       "      <th>75%</th>\n",
       "      <td>0.510000</td>\n",
       "    </tr>\n",
       "    <tr>\n",
       "      <th>max</th>\n",
       "      <td>21.050000</td>\n",
       "    </tr>\n",
       "  </tbody>\n",
       "</table>\n",
       "</div>"
      ],
      "text/plain": [
       "       sum_income\n",
       "count  345.000000\n",
       "mean     0.525884\n",
       "std      1.451939\n",
       "min      0.010000\n",
       "25%      0.040000\n",
       "50%      0.150000\n",
       "75%      0.510000\n",
       "max     21.050000"
      ]
     },
     "execution_count": 27,
     "metadata": {},
     "output_type": "execute_result"
    }
   ],
   "source": [
    "df_2013_2016_income_PS3.describe()"
   ]
  },
  {
   "cell_type": "markdown",
   "metadata": {},
   "source": [
    "Таким образом, для платформы PS4 медианное значение - 0.2, при этом среднее отклонение - примерно 1.61; для платформы 3DS медианное значение - 0.09, при этом среднее отклонение - примерно 1.38, для платформы PS3 медианное значение - 0.15, при этом среднее отклонение - примерно 1.45."
   ]
  },
  {
   "cell_type": "code",
   "execution_count": 28,
   "metadata": {},
   "outputs": [
    {
     "data": {
      "image/png": "[encoded data removed]",
      "text/plain": [
       "<Figure size 936x576 with 1 Axes>"
      ]
     },
     "metadata": {
      "needs_background": "light"
     },
     "output_type": "display_data"
    },
    {
     "data": {
      "image/png": "[encoded data removed]",
      "text/plain": [
       "<Figure size 936x576 with 1 Axes>"
      ]
     },
     "metadata": {
      "needs_background": "light"
     },
     "output_type": "display_data"
    }
   ],
   "source": [
    "plt.figure(figsize=(13, 8))\n",
    "(sns.boxplot(data = df_2013_2016, y = 'sum_income', x='platform')\n",
    "    .set(title = 'Продажи по перспективным платформам', xlabel = 'Платформы', ylabel = 'Общие продажи'))\n",
    "plt.show()\n",
    "plt.figure(figsize=(13, 8))\n",
    "(sns.boxplot(data = df_2013_2016, y = 'sum_income', x='platform')\n",
    "    .set(title = 'Продажи по перспективным платформам', xlabel = 'Платформы', ylabel = 'Общие продажи', ylim=(0, 2)))\n",
    "plt.show()"
   ]
  },
  {
   "cell_type": "markdown",
   "metadata": {},
   "source": [
    "### Анализ влияния отзывов на продажи внутри одной популярной платформы"
   ]
  },
  {
   "cell_type": "markdown",
   "metadata": {},
   "source": [
    "Примем за интересующую нас платформу - PS4. Построим для нее диаграммы рассеивания и матрицу корреляций:"
   ]
  },
  {
   "cell_type": "code",
   "execution_count": 29,
   "metadata": {},
   "outputs": [
    {
     "data": {
      "image/png": "[encoded data removed]",
      "text/plain": [
       "<Figure size 432x288 with 1 Axes>"
      ]
     },
     "metadata": {
      "needs_background": "light"
     },
     "output_type": "display_data"
    }
   ],
   "source": [
    "df_2013_2016_score_PS4 = df_2013_2016.query('platform == \"PS4\"')[['critic_score', 'user_score', 'sum_income']].reset_index(drop = True)\n",
    "df_2013_2016_score_PS4 = df_2013_2016_score_PS4.query('critic_score > 0 and user_score > 0')\n",
    "df_2013_2016_score_PS4.plot(kind = 'scatter', x = 'critic_score', y = 'sum_income', alpha = 0.5);"
   ]
  },
  {
   "cell_type": "code",
   "execution_count": 30,
   "metadata": {},
   "outputs": [
    {
     "data": {
      "image/png": "[encoded data removed]",
      "text/plain": [
       "<Figure size 432x288 with 1 Axes>"
      ]
     },
     "metadata": {
      "needs_background": "light"
     },
     "output_type": "display_data"
    }
   ],
   "source": [
    "df_2013_2016_score_PS4.plot(kind = 'scatter', x = 'user_score', y = 'sum_income', alpha = 0.5);"
   ]
  },
  {
   "cell_type": "code",
   "execution_count": 31,
   "metadata": {},
   "outputs": [
    {
     "data": {
      "text/html": [
       "<div>\n",
       "<style scoped>\n",
       "    .dataframe tbody tr th:only-of-type {\n",
       "        vertical-align: middle;\n",
       "    }\n",
       "\n",
       "    .dataframe tbody tr th {\n",
       "        vertical-align: top;\n",
       "    }\n",
       "\n",
       "    .dataframe thead th {\n",
       "        text-align: right;\n",
       "    }\n",
       "</style>\n",
       "<table border=\"1\" class=\"dataframe\">\n",
       "  <thead>\n",
       "    <tr style=\"text-align: right;\">\n",
       "      <th></th>\n",
       "      <th>critic_score</th>\n",
       "      <th>user_score</th>\n",
       "      <th>sum_income</th>\n",
       "    </tr>\n",
       "  </thead>\n",
       "  <tbody>\n",
       "    <tr>\n",
       "      <th>critic_score</th>\n",
       "      <td>1.000000</td>\n",
       "      <td>0.557654</td>\n",
       "      <td>0.405895</td>\n",
       "    </tr>\n",
       "    <tr>\n",
       "      <th>user_score</th>\n",
       "      <td>0.557654</td>\n",
       "      <td>1.000000</td>\n",
       "      <td>-0.033625</td>\n",
       "    </tr>\n",
       "    <tr>\n",
       "      <th>sum_income</th>\n",
       "      <td>0.405895</td>\n",
       "      <td>-0.033625</td>\n",
       "      <td>1.000000</td>\n",
       "    </tr>\n",
       "  </tbody>\n",
       "</table>\n",
       "</div>"
      ],
      "text/plain": [
       "              critic_score  user_score  sum_income\n",
       "critic_score      1.000000    0.557654    0.405895\n",
       "user_score        0.557654    1.000000   -0.033625\n",
       "sum_income        0.405895   -0.033625    1.000000"
      ]
     },
     "execution_count": 31,
     "metadata": {},
     "output_type": "execute_result"
    }
   ],
   "source": [
    "df_2013_2016_score_PS4.corr()"
   ]
  },
  {
   "cell_type": "markdown",
   "metadata": {},
   "source": [
    "Таким образом, на период 2013-2016 года зависимость между оценками критиков и продажами слабая (коэффициент корреляции примерно 0.41), зависимости между продажами и оценками пользователей нет."
   ]
  },
  {
   "cell_type": "markdown",
   "metadata": {},
   "source": [
    "### Сравнение влияний отзывов PS4 с продажами на других платформах"
   ]
  },
  {
   "cell_type": "markdown",
   "metadata": {},
   "source": [
    "Для сравнения PS4 с другими платформами определим платформы с наибольшим доходом за период 2013-2016 года:"
   ]
  },
  {
   "cell_type": "code",
   "execution_count": 32,
   "metadata": {},
   "outputs": [
    {
     "data": {
      "text/html": [
       "<div>\n",
       "<style scoped>\n",
       "    .dataframe tbody tr th:only-of-type {\n",
       "        vertical-align: middle;\n",
       "    }\n",
       "\n",
       "    .dataframe tbody tr th {\n",
       "        vertical-align: top;\n",
       "    }\n",
       "\n",
       "    .dataframe thead th {\n",
       "        text-align: right;\n",
       "    }\n",
       "</style>\n",
       "<table border=\"1\" class=\"dataframe\">\n",
       "  <thead>\n",
       "    <tr style=\"text-align: right;\">\n",
       "      <th></th>\n",
       "      <th>sum_income</th>\n",
       "    </tr>\n",
       "    <tr>\n",
       "      <th>platform</th>\n",
       "      <th></th>\n",
       "    </tr>\n",
       "  </thead>\n",
       "  <tbody>\n",
       "    <tr>\n",
       "      <th>PS4</th>\n",
       "      <td>314.14</td>\n",
       "    </tr>\n",
       "    <tr>\n",
       "      <th>PS3</th>\n",
       "      <td>181.43</td>\n",
       "    </tr>\n",
       "    <tr>\n",
       "      <th>XOne</th>\n",
       "      <td>159.32</td>\n",
       "    </tr>\n",
       "    <tr>\n",
       "      <th>3DS</th>\n",
       "      <td>143.25</td>\n",
       "    </tr>\n",
       "    <tr>\n",
       "      <th>X360</th>\n",
       "      <td>136.80</td>\n",
       "    </tr>\n",
       "    <tr>\n",
       "      <th>WiiU</th>\n",
       "      <td>64.63</td>\n",
       "    </tr>\n",
       "    <tr>\n",
       "      <th>PC</th>\n",
       "      <td>39.43</td>\n",
       "    </tr>\n",
       "    <tr>\n",
       "      <th>PSV</th>\n",
       "      <td>32.99</td>\n",
       "    </tr>\n",
       "    <tr>\n",
       "      <th>Wii</th>\n",
       "      <td>13.66</td>\n",
       "    </tr>\n",
       "    <tr>\n",
       "      <th>PSP</th>\n",
       "      <td>3.50</td>\n",
       "    </tr>\n",
       "    <tr>\n",
       "      <th>DS</th>\n",
       "      <td>1.54</td>\n",
       "    </tr>\n",
       "  </tbody>\n",
       "</table>\n",
       "</div>"
      ],
      "text/plain": [
       "          sum_income\n",
       "platform            \n",
       "PS4           314.14\n",
       "PS3           181.43\n",
       "XOne          159.32\n",
       "3DS           143.25\n",
       "X360          136.80\n",
       "WiiU           64.63\n",
       "PC             39.43\n",
       "PSV            32.99\n",
       "Wii            13.66\n",
       "PSP             3.50\n",
       "DS              1.54"
      ]
     },
     "execution_count": 32,
     "metadata": {},
     "output_type": "execute_result"
    }
   ],
   "source": [
    "df_2013_2016_top_platforms = (df_2013_2016\n",
    "     .pivot_table(index = 'platform', values = 'sum_income', aggfunc = 'sum')\n",
    "     .sort_values(by = 'sum_income', ascending = False))\n",
    "\n",
    "df_2013_2016_top_platforms"
   ]
  },
  {
   "cell_type": "markdown",
   "metadata": {},
   "source": [
    "Возьмем ТОП-5 платформ по продажам кроме PS4:"
   ]
  },
  {
   "cell_type": "code",
   "execution_count": 33,
   "metadata": {},
   "outputs": [
    {
     "data": {
      "text/plain": [
       "['PS3', 'XOne', '3DS', 'X360', 'WiiU']"
      ]
     },
     "execution_count": 33,
     "metadata": {},
     "output_type": "execute_result"
    }
   ],
   "source": [
    "df_2013_2016_top_platforms_list = df_2013_2016_top_platforms.T.columns.tolist()[1:6]\n",
    "df_2013_2016_top_platforms_list"
   ]
  },
  {
   "cell_type": "code",
   "execution_count": 34,
   "metadata": {
    "scrolled": false
   },
   "outputs": [
    {
     "data": {
      "image/png": "[encoded data removed]",
      "text/plain": [
       "<Figure size 432x288 with 1 Axes>"
      ]
     },
     "metadata": {
      "needs_background": "light"
     },
     "output_type": "display_data"
    },
    {
     "data": {
      "image/png": "[encoded data removed]",
      "text/plain": [
       "<Figure size 432x288 with 1 Axes>"
      ]
     },
     "metadata": {
      "needs_background": "light"
     },
     "output_type": "display_data"
    },
    {
     "data": {
      "image/png": "[encoded data removed]",
      "text/plain": [
       "<Figure size 432x288 with 1 Axes>"
      ]
     },
     "metadata": {
      "needs_background": "light"
     },
     "output_type": "display_data"
    },
    {
     "data": {
      "image/png": "[encoded data removed]",
      "text/plain": [
       "<Figure size 432x288 with 1 Axes>"
      ]
     },
     "metadata": {
      "needs_background": "light"
     },
     "output_type": "display_data"
    },
    {
     "data": {
      "image/png": "[encoded data removed]",
      "text/plain": [
       "<Figure size 432x288 with 1 Axes>"
      ]
     },
     "metadata": {
      "needs_background": "light"
     },
     "output_type": "display_data"
    }
   ],
   "source": [
    "for value in df_2013_2016_top_platforms_list:\n",
    "    (df_2013_2016\n",
    "            .query('platform == @value')[['critic_score', 'user_score', 'sum_income']]\n",
    "            .reset_index(drop = True)\n",
    "            .query('critic_score > 0 and user_score > 0')\n",
    "            .plot(kind = 'scatter', x = 'critic_score', \n",
    "                  y = 'sum_income', alpha = 0.5, \n",
    "                  ylabel = 'sum_income_' + value,\n",
    "                  xlabel = 'critic_score_' + value))"
   ]
  },
  {
   "cell_type": "code",
   "execution_count": 35,
   "metadata": {},
   "outputs": [
    {
     "data": {
      "image/png": "[encoded data removed]",
      "text/plain": [
       "<Figure size 432x288 with 1 Axes>"
      ]
     },
     "metadata": {
      "needs_background": "light"
     },
     "output_type": "display_data"
    },
    {
     "data": {
      "image/png": "[encoded data removed]",
      "text/plain": [
       "<Figure size 432x288 with 1 Axes>"
      ]
     },
     "metadata": {
      "needs_background": "light"
     },
     "output_type": "display_data"
    },
    {
     "data": {
      "image/png": "[encoded data removed]",
      "text/plain": [
       "<Figure size 432x288 with 1 Axes>"
      ]
     },
     "metadata": {
      "needs_background": "light"
     },
     "output_type": "display_data"
    },
    {
     "data": {
      "image/png": "[encoded data removed]",
      "text/plain": [
       "<Figure size 432x288 with 1 Axes>"
      ]
     },
     "metadata": {
      "needs_background": "light"
     },
     "output_type": "display_data"
    },
    {
     "data": {
      "image/png": "[encoded data removed]",
      "text/plain": [
       "<Figure size 432x288 with 1 Axes>"
      ]
     },
     "metadata": {
      "needs_background": "light"
     },
     "output_type": "display_data"
    }
   ],
   "source": [
    "for value in df_2013_2016_top_platforms_list:\n",
    "    (df_2013_2016\n",
    "            .query('platform == @value')[['critic_score', 'user_score', 'sum_income']]\n",
    "            .reset_index(drop = True)\n",
    "            .query('critic_score > 0 and user_score > 0')\n",
    "            .plot(kind = 'scatter', x = 'user_score', \n",
    "                  y = 'sum_income', alpha = 0.5, \n",
    "                  ylabel = 'sum_income_' + value,\n",
    "                  xlabel = 'user_score_' + value))"
   ]
  },
  {
   "cell_type": "code",
   "execution_count": 36,
   "metadata": {
    "scrolled": false
   },
   "outputs": [
    {
     "data": {
      "text/html": [
       "<div>\n",
       "<style scoped>\n",
       "    .dataframe tbody tr th:only-of-type {\n",
       "        vertical-align: middle;\n",
       "    }\n",
       "\n",
       "    .dataframe tbody tr th {\n",
       "        vertical-align: top;\n",
       "    }\n",
       "\n",
       "    .dataframe thead th {\n",
       "        text-align: right;\n",
       "    }\n",
       "</style>\n",
       "<table border=\"1\" class=\"dataframe\">\n",
       "  <thead>\n",
       "    <tr style=\"text-align: right;\">\n",
       "      <th></th>\n",
       "      <th>critic_score</th>\n",
       "      <th>user_score</th>\n",
       "      <th>sum_income</th>\n",
       "    </tr>\n",
       "  </thead>\n",
       "  <tbody>\n",
       "    <tr>\n",
       "      <th>critic_score</th>\n",
       "      <td>1.000000</td>\n",
       "      <td>0.599920</td>\n",
       "      <td>0.333807</td>\n",
       "    </tr>\n",
       "    <tr>\n",
       "      <th>user_score</th>\n",
       "      <td>0.599920</td>\n",
       "      <td>1.000000</td>\n",
       "      <td>0.022691</td>\n",
       "    </tr>\n",
       "    <tr>\n",
       "      <th>sum_income</th>\n",
       "      <td>0.333807</td>\n",
       "      <td>0.022691</td>\n",
       "      <td>1.000000</td>\n",
       "    </tr>\n",
       "  </tbody>\n",
       "</table>\n",
       "</div>"
      ],
      "text/plain": [
       "              critic_score  user_score  sum_income\n",
       "critic_score      1.000000    0.599920    0.333807\n",
       "user_score        0.599920    1.000000    0.022691\n",
       "sum_income        0.333807    0.022691    1.000000"
      ]
     },
     "metadata": {},
     "output_type": "display_data"
    },
    {
     "name": "stdout",
     "output_type": "stream",
     "text": [
      "Платформа PS3\n"
     ]
    },
    {
     "data": {
      "text/html": [
       "<div>\n",
       "<style scoped>\n",
       "    .dataframe tbody tr th:only-of-type {\n",
       "        vertical-align: middle;\n",
       "    }\n",
       "\n",
       "    .dataframe tbody tr th {\n",
       "        vertical-align: top;\n",
       "    }\n",
       "\n",
       "    .dataframe thead th {\n",
       "        text-align: right;\n",
       "    }\n",
       "</style>\n",
       "<table border=\"1\" class=\"dataframe\">\n",
       "  <thead>\n",
       "    <tr style=\"text-align: right;\">\n",
       "      <th></th>\n",
       "      <th>critic_score</th>\n",
       "      <th>user_score</th>\n",
       "      <th>sum_income</th>\n",
       "    </tr>\n",
       "  </thead>\n",
       "  <tbody>\n",
       "    <tr>\n",
       "      <th>critic_score</th>\n",
       "      <td>1.000000</td>\n",
       "      <td>0.472462</td>\n",
       "      <td>0.410422</td>\n",
       "    </tr>\n",
       "    <tr>\n",
       "      <th>user_score</th>\n",
       "      <td>0.472462</td>\n",
       "      <td>1.000000</td>\n",
       "      <td>-0.094003</td>\n",
       "    </tr>\n",
       "    <tr>\n",
       "      <th>sum_income</th>\n",
       "      <td>0.410422</td>\n",
       "      <td>-0.094003</td>\n",
       "      <td>1.000000</td>\n",
       "    </tr>\n",
       "  </tbody>\n",
       "</table>\n",
       "</div>"
      ],
      "text/plain": [
       "              critic_score  user_score  sum_income\n",
       "critic_score      1.000000    0.472462    0.410422\n",
       "user_score        0.472462    1.000000   -0.094003\n",
       "sum_income        0.410422   -0.094003    1.000000"
      ]
     },
     "metadata": {},
     "output_type": "display_data"
    },
    {
     "name": "stdout",
     "output_type": "stream",
     "text": [
      "Платформа XOne\n"
     ]
    },
    {
     "data": {
      "text/html": [
       "<div>\n",
       "<style scoped>\n",
       "    .dataframe tbody tr th:only-of-type {\n",
       "        vertical-align: middle;\n",
       "    }\n",
       "\n",
       "    .dataframe tbody tr th {\n",
       "        vertical-align: top;\n",
       "    }\n",
       "\n",
       "    .dataframe thead th {\n",
       "        text-align: right;\n",
       "    }\n",
       "</style>\n",
       "<table border=\"1\" class=\"dataframe\">\n",
       "  <thead>\n",
       "    <tr style=\"text-align: right;\">\n",
       "      <th></th>\n",
       "      <th>critic_score</th>\n",
       "      <th>user_score</th>\n",
       "      <th>sum_income</th>\n",
       "    </tr>\n",
       "  </thead>\n",
       "  <tbody>\n",
       "    <tr>\n",
       "      <th>critic_score</th>\n",
       "      <td>1.000000</td>\n",
       "      <td>0.769536</td>\n",
       "      <td>0.339235</td>\n",
       "    </tr>\n",
       "    <tr>\n",
       "      <th>user_score</th>\n",
       "      <td>0.769536</td>\n",
       "      <td>1.000000</td>\n",
       "      <td>0.272990</td>\n",
       "    </tr>\n",
       "    <tr>\n",
       "      <th>sum_income</th>\n",
       "      <td>0.339235</td>\n",
       "      <td>0.272990</td>\n",
       "      <td>1.000000</td>\n",
       "    </tr>\n",
       "  </tbody>\n",
       "</table>\n",
       "</div>"
      ],
      "text/plain": [
       "              critic_score  user_score  sum_income\n",
       "critic_score      1.000000    0.769536    0.339235\n",
       "user_score        0.769536    1.000000    0.272990\n",
       "sum_income        0.339235    0.272990    1.000000"
      ]
     },
     "metadata": {},
     "output_type": "display_data"
    },
    {
     "name": "stdout",
     "output_type": "stream",
     "text": [
      "Платформа 3DS\n"
     ]
    },
    {
     "data": {
      "text/html": [
       "<div>\n",
       "<style scoped>\n",
       "    .dataframe tbody tr th:only-of-type {\n",
       "        vertical-align: middle;\n",
       "    }\n",
       "\n",
       "    .dataframe tbody tr th {\n",
       "        vertical-align: top;\n",
       "    }\n",
       "\n",
       "    .dataframe thead th {\n",
       "        text-align: right;\n",
       "    }\n",
       "</style>\n",
       "<table border=\"1\" class=\"dataframe\">\n",
       "  <thead>\n",
       "    <tr style=\"text-align: right;\">\n",
       "      <th></th>\n",
       "      <th>critic_score</th>\n",
       "      <th>user_score</th>\n",
       "      <th>sum_income</th>\n",
       "    </tr>\n",
       "  </thead>\n",
       "  <tbody>\n",
       "    <tr>\n",
       "      <th>critic_score</th>\n",
       "      <td>1.000000</td>\n",
       "      <td>0.520946</td>\n",
       "      <td>0.350345</td>\n",
       "    </tr>\n",
       "    <tr>\n",
       "      <th>user_score</th>\n",
       "      <td>0.520946</td>\n",
       "      <td>1.000000</td>\n",
       "      <td>-0.006238</td>\n",
       "    </tr>\n",
       "    <tr>\n",
       "      <th>sum_income</th>\n",
       "      <td>0.350345</td>\n",
       "      <td>-0.006238</td>\n",
       "      <td>1.000000</td>\n",
       "    </tr>\n",
       "  </tbody>\n",
       "</table>\n",
       "</div>"
      ],
      "text/plain": [
       "              critic_score  user_score  sum_income\n",
       "critic_score      1.000000    0.520946    0.350345\n",
       "user_score        0.520946    1.000000   -0.006238\n",
       "sum_income        0.350345   -0.006238    1.000000"
      ]
     },
     "metadata": {},
     "output_type": "display_data"
    },
    {
     "name": "stdout",
     "output_type": "stream",
     "text": [
      "Платформа X360\n"
     ]
    },
    {
     "data": {
      "text/html": [
       "<div>\n",
       "<style scoped>\n",
       "    .dataframe tbody tr th:only-of-type {\n",
       "        vertical-align: middle;\n",
       "    }\n",
       "\n",
       "    .dataframe tbody tr th {\n",
       "        vertical-align: top;\n",
       "    }\n",
       "\n",
       "    .dataframe thead th {\n",
       "        text-align: right;\n",
       "    }\n",
       "</style>\n",
       "<table border=\"1\" class=\"dataframe\">\n",
       "  <thead>\n",
       "    <tr style=\"text-align: right;\">\n",
       "      <th></th>\n",
       "      <th>critic_score</th>\n",
       "      <th>user_score</th>\n",
       "      <th>sum_income</th>\n",
       "    </tr>\n",
       "  </thead>\n",
       "  <tbody>\n",
       "    <tr>\n",
       "      <th>critic_score</th>\n",
       "      <td>1.000000</td>\n",
       "      <td>0.721313</td>\n",
       "      <td>0.379504</td>\n",
       "    </tr>\n",
       "    <tr>\n",
       "      <th>user_score</th>\n",
       "      <td>0.721313</td>\n",
       "      <td>1.000000</td>\n",
       "      <td>0.408692</td>\n",
       "    </tr>\n",
       "    <tr>\n",
       "      <th>sum_income</th>\n",
       "      <td>0.379504</td>\n",
       "      <td>0.408692</td>\n",
       "      <td>1.000000</td>\n",
       "    </tr>\n",
       "  </tbody>\n",
       "</table>\n",
       "</div>"
      ],
      "text/plain": [
       "              critic_score  user_score  sum_income\n",
       "critic_score      1.000000    0.721313    0.379504\n",
       "user_score        0.721313    1.000000    0.408692\n",
       "sum_income        0.379504    0.408692    1.000000"
      ]
     },
     "metadata": {},
     "output_type": "display_data"
    },
    {
     "name": "stdout",
     "output_type": "stream",
     "text": [
      "Платформа WiiU\n"
     ]
    }
   ],
   "source": [
    "for value in df_2013_2016_top_platforms_list:\n",
    "    \n",
    "    df_2013_2016_temp = (df_2013_2016\n",
    "                            .query('platform == @value')[['critic_score', 'user_score', 'sum_income']]\n",
    "                            .query('critic_score > 0 and user_score > 0'))\n",
    "    \n",
    "    display(df_2013_2016_temp.corr())\n",
    "    print(\"Платформа \" + value)"
   ]
  },
  {
   "cell_type": "markdown",
   "metadata": {},
   "source": [
    "Из полученных данных следует, что корреляция между отзывами критиков и продажами слабая (коэффициенты корреляции находятся в интервале от 0.33 до 0.41). Что касается зависимости между отзывами пользователей и продажами, у платформ PS4, PS3, XOne и X360 зависимости нет, у платформ 3DS и WiiU наблюдается слабая корреляция (коэффициенты корреляции 0.27 и 0.41 соответственно)."
   ]
  },
  {
   "cell_type": "markdown",
   "metadata": {},
   "source": [
    "### Анализ прибыли по жанрам"
   ]
  },
  {
   "cell_type": "markdown",
   "metadata": {},
   "source": [
    "Определим, какие жанры являются наиболее / наименее продаваемыми.\n",
    "\n",
    "Создадим сводную таблицу с суммарными продажами:"
   ]
  },
  {
   "cell_type": "code",
   "execution_count": 37,
   "metadata": {},
   "outputs": [
    {
     "data": {
      "text/html": [
       "<div>\n",
       "<style scoped>\n",
       "    .dataframe tbody tr th:only-of-type {\n",
       "        vertical-align: middle;\n",
       "    }\n",
       "\n",
       "    .dataframe tbody tr th {\n",
       "        vertical-align: top;\n",
       "    }\n",
       "\n",
       "    .dataframe thead th {\n",
       "        text-align: right;\n",
       "    }\n",
       "</style>\n",
       "<table border=\"1\" class=\"dataframe\">\n",
       "  <thead>\n",
       "    <tr style=\"text-align: right;\">\n",
       "      <th></th>\n",
       "      <th>sum_income</th>\n",
       "    </tr>\n",
       "    <tr>\n",
       "      <th>genre</th>\n",
       "      <th></th>\n",
       "    </tr>\n",
       "  </thead>\n",
       "  <tbody>\n",
       "    <tr>\n",
       "      <th>Action</th>\n",
       "      <td>321.87</td>\n",
       "    </tr>\n",
       "    <tr>\n",
       "      <th>Shooter</th>\n",
       "      <td>232.98</td>\n",
       "    </tr>\n",
       "    <tr>\n",
       "      <th>Sports</th>\n",
       "      <td>150.65</td>\n",
       "    </tr>\n",
       "    <tr>\n",
       "      <th>Role-Playing</th>\n",
       "      <td>145.89</td>\n",
       "    </tr>\n",
       "    <tr>\n",
       "      <th>Misc</th>\n",
       "      <td>62.82</td>\n",
       "    </tr>\n",
       "    <tr>\n",
       "      <th>Platform</th>\n",
       "      <td>42.63</td>\n",
       "    </tr>\n",
       "    <tr>\n",
       "      <th>Racing</th>\n",
       "      <td>39.89</td>\n",
       "    </tr>\n",
       "    <tr>\n",
       "      <th>Fighting</th>\n",
       "      <td>35.31</td>\n",
       "    </tr>\n",
       "    <tr>\n",
       "      <th>Adventure</th>\n",
       "      <td>23.64</td>\n",
       "    </tr>\n",
       "    <tr>\n",
       "      <th>Simulation</th>\n",
       "      <td>21.76</td>\n",
       "    </tr>\n",
       "    <tr>\n",
       "      <th>Strategy</th>\n",
       "      <td>10.08</td>\n",
       "    </tr>\n",
       "    <tr>\n",
       "      <th>Puzzle</th>\n",
       "      <td>3.17</td>\n",
       "    </tr>\n",
       "  </tbody>\n",
       "</table>\n",
       "</div>"
      ],
      "text/plain": [
       "              sum_income\n",
       "genre                   \n",
       "Action            321.87\n",
       "Shooter           232.98\n",
       "Sports            150.65\n",
       "Role-Playing      145.89\n",
       "Misc               62.82\n",
       "Platform           42.63\n",
       "Racing             39.89\n",
       "Fighting           35.31\n",
       "Adventure          23.64\n",
       "Simulation         21.76\n",
       "Strategy           10.08\n",
       "Puzzle              3.17"
      ]
     },
     "execution_count": 37,
     "metadata": {},
     "output_type": "execute_result"
    }
   ],
   "source": [
    "(df_2013_2016\n",
    "     .pivot_table(index = 'genre', values = 'sum_income', aggfunc = 'sum')\n",
    "     .sort_values(by = 'sum_income', ascending = False))"
   ]
  },
  {
   "cell_type": "markdown",
   "metadata": {},
   "source": [
    "Для сравнения создадим сводную таблицу по медианным продажам и диаграммы размаха по каждому жанру:"
   ]
  },
  {
   "cell_type": "code",
   "execution_count": 38,
   "metadata": {},
   "outputs": [
    {
     "data": {
      "text/html": [
       "<div>\n",
       "<style scoped>\n",
       "    .dataframe tbody tr th:only-of-type {\n",
       "        vertical-align: middle;\n",
       "    }\n",
       "\n",
       "    .dataframe tbody tr th {\n",
       "        vertical-align: top;\n",
       "    }\n",
       "\n",
       "    .dataframe thead th {\n",
       "        text-align: right;\n",
       "    }\n",
       "</style>\n",
       "<table border=\"1\" class=\"dataframe\">\n",
       "  <thead>\n",
       "    <tr style=\"text-align: right;\">\n",
       "      <th></th>\n",
       "      <th>sum_income</th>\n",
       "    </tr>\n",
       "    <tr>\n",
       "      <th>genre</th>\n",
       "      <th></th>\n",
       "    </tr>\n",
       "  </thead>\n",
       "  <tbody>\n",
       "    <tr>\n",
       "      <th>Shooter</th>\n",
       "      <td>0.450</td>\n",
       "    </tr>\n",
       "    <tr>\n",
       "      <th>Sports</th>\n",
       "      <td>0.240</td>\n",
       "    </tr>\n",
       "    <tr>\n",
       "      <th>Platform</th>\n",
       "      <td>0.225</td>\n",
       "    </tr>\n",
       "    <tr>\n",
       "      <th>Role-Playing</th>\n",
       "      <td>0.125</td>\n",
       "    </tr>\n",
       "    <tr>\n",
       "      <th>Fighting</th>\n",
       "      <td>0.125</td>\n",
       "    </tr>\n",
       "    <tr>\n",
       "      <th>Racing</th>\n",
       "      <td>0.120</td>\n",
       "    </tr>\n",
       "    <tr>\n",
       "      <th>Action</th>\n",
       "      <td>0.110</td>\n",
       "    </tr>\n",
       "    <tr>\n",
       "      <th>Simulation</th>\n",
       "      <td>0.100</td>\n",
       "    </tr>\n",
       "    <tr>\n",
       "      <th>Misc</th>\n",
       "      <td>0.100</td>\n",
       "    </tr>\n",
       "    <tr>\n",
       "      <th>Strategy</th>\n",
       "      <td>0.080</td>\n",
       "    </tr>\n",
       "    <tr>\n",
       "      <th>Puzzle</th>\n",
       "      <td>0.060</td>\n",
       "    </tr>\n",
       "    <tr>\n",
       "      <th>Adventure</th>\n",
       "      <td>0.030</td>\n",
       "    </tr>\n",
       "  </tbody>\n",
       "</table>\n",
       "</div>"
      ],
      "text/plain": [
       "              sum_income\n",
       "genre                   \n",
       "Shooter            0.450\n",
       "Sports             0.240\n",
       "Platform           0.225\n",
       "Role-Playing       0.125\n",
       "Fighting           0.125\n",
       "Racing             0.120\n",
       "Action             0.110\n",
       "Simulation         0.100\n",
       "Misc               0.100\n",
       "Strategy           0.080\n",
       "Puzzle             0.060\n",
       "Adventure          0.030"
      ]
     },
     "execution_count": 38,
     "metadata": {},
     "output_type": "execute_result"
    }
   ],
   "source": [
    "df_2013_2016_genre = (df_2013_2016\n",
    "                         .pivot_table(index = 'genre', values = 'sum_income', aggfunc = 'median')\n",
    "                         .sort_values(by = 'sum_income', ascending = False))\n",
    "\n",
    "df_2013_2016_genre"
   ]
  },
  {
   "cell_type": "code",
   "execution_count": 39,
   "metadata": {
    "scrolled": false
   },
   "outputs": [
    {
     "name": "stdout",
     "output_type": "stream",
     "text": [
      "Shooter\n"
     ]
    },
    {
     "data": {
      "image/png": "[encoded data removed]",
      "text/plain": [
       "<Figure size 432x288 with 1 Axes>"
      ]
     },
     "metadata": {
      "needs_background": "light"
     },
     "output_type": "display_data"
    },
    {
     "name": "stdout",
     "output_type": "stream",
     "text": [
      "Sports\n"
     ]
    },
    {
     "data": {
      "image/png": "[encoded data removed]",
      "text/plain": [
       "<Figure size 432x288 with 1 Axes>"
      ]
     },
     "metadata": {
      "needs_background": "light"
     },
     "output_type": "display_data"
    },
    {
     "name": "stdout",
     "output_type": "stream",
     "text": [
      "Platform\n"
     ]
    },
    {
     "data": {
      "image/png": "[encoded data removed]",
      "text/plain": [
       "<Figure size 432x288 with 1 Axes>"
      ]
     },
     "metadata": {
      "needs_background": "light"
     },
     "output_type": "display_data"
    },
    {
     "name": "stdout",
     "output_type": "stream",
     "text": [
      "Role-Playing\n"
     ]
    },
    {
     "data": {
      "image/png": "[encoded data removed]",
      "text/plain": [
       "<Figure size 432x288 with 1 Axes>"
      ]
     },
     "metadata": {
      "needs_background": "light"
     },
     "output_type": "display_data"
    },
    {
     "name": "stdout",
     "output_type": "stream",
     "text": [
      "Fighting\n"
     ]
    },
    {
     "data": {
      "image/png": "[encoded data removed]",
      "text/plain": [
       "<Figure size 432x288 with 1 Axes>"
      ]
     },
     "metadata": {
      "needs_background": "light"
     },
     "output_type": "display_data"
    },
    {
     "name": "stdout",
     "output_type": "stream",
     "text": [
      "Racing\n"
     ]
    },
    {
     "data": {
      "image/png": "[encoded data removed]",
      "text/plain": [
       "<Figure size 432x288 with 1 Axes>"
      ]
     },
     "metadata": {
      "needs_background": "light"
     },
     "output_type": "display_data"
    },
    {
     "name": "stdout",
     "output_type": "stream",
     "text": [
      "Action\n"
     ]
    },
    {
     "data": {
      "image/png": "[encoded data removed]",
      "text/plain": [
       "<Figure size 432x288 with 1 Axes>"
      ]
     },
     "metadata": {
      "needs_background": "light"
     },
     "output_type": "display_data"
    },
    {
     "name": "stdout",
     "output_type": "stream",
     "text": [
      "Simulation\n"
     ]
    },
    {
     "data": {
      "image/png": "[encoded data removed]",
      "text/plain": [
       "<Figure size 432x288 with 1 Axes>"
      ]
     },
     "metadata": {
      "needs_background": "light"
     },
     "output_type": "display_data"
    },
    {
     "name": "stdout",
     "output_type": "stream",
     "text": [
      "Misc\n"
     ]
    },
    {
     "data": {
      "image/png": "[encoded data removed]",
      "text/plain": [
       "<Figure size 432x288 with 1 Axes>"
      ]
     },
     "metadata": {
      "needs_background": "light"
     },
     "output_type": "display_data"
    },
    {
     "name": "stdout",
     "output_type": "stream",
     "text": [
      "Strategy\n"
     ]
    },
    {
     "data": {
      "image/png": "[encoded data removed]",
      "text/plain": [
       "<Figure size 432x288 with 1 Axes>"
      ]
     },
     "metadata": {
      "needs_background": "light"
     },
     "output_type": "display_data"
    },
    {
     "name": "stdout",
     "output_type": "stream",
     "text": [
      "Puzzle\n"
     ]
    },
    {
     "data": {
      "image/png": "[encoded data removed]",
      "text/plain": [
       "<Figure size 432x288 with 1 Axes>"
      ]
     },
     "metadata": {
      "needs_background": "light"
     },
     "output_type": "display_data"
    },
    {
     "name": "stdout",
     "output_type": "stream",
     "text": [
      "Adventure\n"
     ]
    },
    {
     "data": {
      "image/png": "[encoded data removed]",
      "text/plain": [
       "<Figure size 432x288 with 1 Axes>"
      ]
     },
     "metadata": {
      "needs_background": "light"
     },
     "output_type": "display_data"
    }
   ],
   "source": [
    "df_2013_2016_genre_list = df_2013_2016_genre.T.columns.tolist()\n",
    "df_2013_2016_genre_income = df_2013_2016[['genre', 'sum_income']]\n",
    "\n",
    "for index in df_2013_2016_genre_list:\n",
    "    \n",
    "    print(index)\n",
    "    df_2013_2016_genre_income.query('genre == @index').boxplot()\n",
    "    plt.show() "
   ]
  },
  {
   "cell_type": "markdown",
   "metadata": {},
   "source": [
    "Как видно из результата, необходимо опираться на медианные продажи. К примеру, жанр `Action` по суммарным продажам лидирует (321.87 млн. копий), а его медианные продажи не входят даже в ТОП-5 (0.11 млн.копий), при этом на диаграмме размаха хорошо отражены выбросы, благодаря которым и создается наибольшее число продаж по жанру.\n",
    "\n",
    "Из полученных данных можно сделать вывод, что наиболее прибыльные жанры - Shooter (медианное значение - 0.45 млн. копий), Sports (медианное значение - 0.24 млн. копий), Platform (медианное значение - 0.225 млн. копий)."
   ]
  },
  {
   "cell_type": "markdown",
   "metadata": {},
   "source": [
    "## Составление портрета пользователя каждого региона"
   ]
  },
  {
   "cell_type": "markdown",
   "metadata": {},
   "source": [
    "### Определение самых популярных платформ по регионам"
   ]
  },
  {
   "cell_type": "markdown",
   "metadata": {},
   "source": [
    "Определим для региона NA самые популярные платформы (ТОП-5):"
   ]
  },
  {
   "cell_type": "code",
   "execution_count": 40,
   "metadata": {},
   "outputs": [
    {
     "data": {
      "text/html": [
       "<div>\n",
       "<style scoped>\n",
       "    .dataframe tbody tr th:only-of-type {\n",
       "        vertical-align: middle;\n",
       "    }\n",
       "\n",
       "    .dataframe tbody tr th {\n",
       "        vertical-align: top;\n",
       "    }\n",
       "\n",
       "    .dataframe thead th {\n",
       "        text-align: right;\n",
       "    }\n",
       "</style>\n",
       "<table border=\"1\" class=\"dataframe\">\n",
       "  <thead>\n",
       "    <tr style=\"text-align: right;\">\n",
       "      <th></th>\n",
       "      <th>na_sales</th>\n",
       "    </tr>\n",
       "    <tr>\n",
       "      <th>platform</th>\n",
       "      <th></th>\n",
       "    </tr>\n",
       "  </thead>\n",
       "  <tbody>\n",
       "    <tr>\n",
       "      <th>PS4</th>\n",
       "      <td>108.74</td>\n",
       "    </tr>\n",
       "    <tr>\n",
       "      <th>XOne</th>\n",
       "      <td>93.12</td>\n",
       "    </tr>\n",
       "    <tr>\n",
       "      <th>X360</th>\n",
       "      <td>81.66</td>\n",
       "    </tr>\n",
       "    <tr>\n",
       "      <th>PS3</th>\n",
       "      <td>63.50</td>\n",
       "    </tr>\n",
       "    <tr>\n",
       "      <th>3DS</th>\n",
       "      <td>38.20</td>\n",
       "    </tr>\n",
       "    <tr>\n",
       "      <th>WiiU</th>\n",
       "      <td>29.21</td>\n",
       "    </tr>\n",
       "    <tr>\n",
       "      <th>PC</th>\n",
       "      <td>11.11</td>\n",
       "    </tr>\n",
       "    <tr>\n",
       "      <th>Wii</th>\n",
       "      <td>6.56</td>\n",
       "    </tr>\n",
       "    <tr>\n",
       "      <th>PSV</th>\n",
       "      <td>5.04</td>\n",
       "    </tr>\n",
       "    <tr>\n",
       "      <th>DS</th>\n",
       "      <td>0.57</td>\n",
       "    </tr>\n",
       "    <tr>\n",
       "      <th>PSP</th>\n",
       "      <td>0.00</td>\n",
       "    </tr>\n",
       "  </tbody>\n",
       "</table>\n",
       "</div>"
      ],
      "text/plain": [
       "          na_sales\n",
       "platform          \n",
       "PS4         108.74\n",
       "XOne         93.12\n",
       "X360         81.66\n",
       "PS3          63.50\n",
       "3DS          38.20\n",
       "WiiU         29.21\n",
       "PC           11.11\n",
       "Wii           6.56\n",
       "PSV           5.04\n",
       "DS            0.57\n",
       "PSP           0.00"
      ]
     },
     "execution_count": 40,
     "metadata": {},
     "output_type": "execute_result"
    }
   ],
   "source": [
    "df_2013_2016_NA_popular = (df_2013_2016\n",
    "                                 .pivot_table(index = 'platform', values = 'na_sales', aggfunc = 'sum')\n",
    "                                 .sort_values(by = 'na_sales', ascending = False))\n",
    "\n",
    "df_2013_2016_NA_popular"
   ]
  },
  {
   "cell_type": "code",
   "execution_count": 41,
   "metadata": {},
   "outputs": [
    {
     "data": {
      "text/plain": [
       "['PS4', 'XOne', 'X360', 'PS3', '3DS']"
      ]
     },
     "execution_count": 41,
     "metadata": {},
     "output_type": "execute_result"
    }
   ],
   "source": [
    "df_2013_2016_NA_popular.T.columns[:5].tolist()"
   ]
  },
  {
   "cell_type": "markdown",
   "metadata": {},
   "source": [
    "ТОП-5 самых популярных платформ для региона NA: PS4, XOne, X360, PS3, 3DS."
   ]
  },
  {
   "cell_type": "markdown",
   "metadata": {},
   "source": [
    "Определим для региона EU самые популярные платформы (ТОП-5):"
   ]
  },
  {
   "cell_type": "code",
   "execution_count": 42,
   "metadata": {},
   "outputs": [
    {
     "data": {
      "text/html": [
       "<div>\n",
       "<style scoped>\n",
       "    .dataframe tbody tr th:only-of-type {\n",
       "        vertical-align: middle;\n",
       "    }\n",
       "\n",
       "    .dataframe tbody tr th {\n",
       "        vertical-align: top;\n",
       "    }\n",
       "\n",
       "    .dataframe thead th {\n",
       "        text-align: right;\n",
       "    }\n",
       "</style>\n",
       "<table border=\"1\" class=\"dataframe\">\n",
       "  <thead>\n",
       "    <tr style=\"text-align: right;\">\n",
       "      <th></th>\n",
       "      <th>eu_sales</th>\n",
       "    </tr>\n",
       "    <tr>\n",
       "      <th>platform</th>\n",
       "      <th></th>\n",
       "    </tr>\n",
       "  </thead>\n",
       "  <tbody>\n",
       "    <tr>\n",
       "      <th>PS4</th>\n",
       "      <td>141.09</td>\n",
       "    </tr>\n",
       "    <tr>\n",
       "      <th>PS3</th>\n",
       "      <td>67.81</td>\n",
       "    </tr>\n",
       "    <tr>\n",
       "      <th>XOne</th>\n",
       "      <td>51.59</td>\n",
       "    </tr>\n",
       "    <tr>\n",
       "      <th>X360</th>\n",
       "      <td>42.52</td>\n",
       "    </tr>\n",
       "    <tr>\n",
       "      <th>3DS</th>\n",
       "      <td>30.96</td>\n",
       "    </tr>\n",
       "    <tr>\n",
       "      <th>PC</th>\n",
       "      <td>25.36</td>\n",
       "    </tr>\n",
       "    <tr>\n",
       "      <th>WiiU</th>\n",
       "      <td>19.85</td>\n",
       "    </tr>\n",
       "    <tr>\n",
       "      <th>PSV</th>\n",
       "      <td>6.10</td>\n",
       "    </tr>\n",
       "    <tr>\n",
       "      <th>Wii</th>\n",
       "      <td>5.93</td>\n",
       "    </tr>\n",
       "    <tr>\n",
       "      <th>DS</th>\n",
       "      <td>0.85</td>\n",
       "    </tr>\n",
       "    <tr>\n",
       "      <th>PSP</th>\n",
       "      <td>0.17</td>\n",
       "    </tr>\n",
       "  </tbody>\n",
       "</table>\n",
       "</div>"
      ],
      "text/plain": [
       "          eu_sales\n",
       "platform          \n",
       "PS4         141.09\n",
       "PS3          67.81\n",
       "XOne         51.59\n",
       "X360         42.52\n",
       "3DS          30.96\n",
       "PC           25.36\n",
       "WiiU         19.85\n",
       "PSV           6.10\n",
       "Wii           5.93\n",
       "DS            0.85\n",
       "PSP           0.17"
      ]
     },
     "execution_count": 42,
     "metadata": {},
     "output_type": "execute_result"
    }
   ],
   "source": [
    "df_2013_2016_EU_popular = (df_2013_2016\n",
    "                                 .pivot_table(index = 'platform', values = 'eu_sales', aggfunc = 'sum')\n",
    "                                 .sort_values(by = 'eu_sales', ascending = False))\n",
    "\n",
    "df_2013_2016_EU_popular"
   ]
  },
  {
   "cell_type": "code",
   "execution_count": 43,
   "metadata": {},
   "outputs": [
    {
     "data": {
      "text/plain": [
       "['PS4', 'PS3', 'XOne', 'X360', '3DS']"
      ]
     },
     "execution_count": 43,
     "metadata": {},
     "output_type": "execute_result"
    }
   ],
   "source": [
    "df_2013_2016_EU_popular.T.columns[:5].tolist()"
   ]
  },
  {
   "cell_type": "markdown",
   "metadata": {},
   "source": [
    "ТОП-5 самых популярных платформ для региона EU: PS4, PS3, XOne, X360, 3DS."
   ]
  },
  {
   "cell_type": "markdown",
   "metadata": {},
   "source": [
    "Определим для региона JP самые популярные платформы (ТОП-5):"
   ]
  },
  {
   "cell_type": "code",
   "execution_count": 44,
   "metadata": {},
   "outputs": [
    {
     "data": {
      "text/html": [
       "<div>\n",
       "<style scoped>\n",
       "    .dataframe tbody tr th:only-of-type {\n",
       "        vertical-align: middle;\n",
       "    }\n",
       "\n",
       "    .dataframe tbody tr th {\n",
       "        vertical-align: top;\n",
       "    }\n",
       "\n",
       "    .dataframe thead th {\n",
       "        text-align: right;\n",
       "    }\n",
       "</style>\n",
       "<table border=\"1\" class=\"dataframe\">\n",
       "  <thead>\n",
       "    <tr style=\"text-align: right;\">\n",
       "      <th></th>\n",
       "      <th>jp_sales</th>\n",
       "    </tr>\n",
       "    <tr>\n",
       "      <th>platform</th>\n",
       "      <th></th>\n",
       "    </tr>\n",
       "  </thead>\n",
       "  <tbody>\n",
       "    <tr>\n",
       "      <th>3DS</th>\n",
       "      <td>67.81</td>\n",
       "    </tr>\n",
       "    <tr>\n",
       "      <th>PS3</th>\n",
       "      <td>23.35</td>\n",
       "    </tr>\n",
       "    <tr>\n",
       "      <th>PSV</th>\n",
       "      <td>18.59</td>\n",
       "    </tr>\n",
       "    <tr>\n",
       "      <th>PS4</th>\n",
       "      <td>15.96</td>\n",
       "    </tr>\n",
       "    <tr>\n",
       "      <th>WiiU</th>\n",
       "      <td>10.88</td>\n",
       "    </tr>\n",
       "    <tr>\n",
       "      <th>PSP</th>\n",
       "      <td>3.29</td>\n",
       "    </tr>\n",
       "    <tr>\n",
       "      <th>X360</th>\n",
       "      <td>0.51</td>\n",
       "    </tr>\n",
       "    <tr>\n",
       "      <th>XOne</th>\n",
       "      <td>0.34</td>\n",
       "    </tr>\n",
       "    <tr>\n",
       "      <th>Wii</th>\n",
       "      <td>0.05</td>\n",
       "    </tr>\n",
       "    <tr>\n",
       "      <th>DS</th>\n",
       "      <td>0.00</td>\n",
       "    </tr>\n",
       "    <tr>\n",
       "      <th>PC</th>\n",
       "      <td>0.00</td>\n",
       "    </tr>\n",
       "  </tbody>\n",
       "</table>\n",
       "</div>"
      ],
      "text/plain": [
       "          jp_sales\n",
       "platform          \n",
       "3DS          67.81\n",
       "PS3          23.35\n",
       "PSV          18.59\n",
       "PS4          15.96\n",
       "WiiU         10.88\n",
       "PSP           3.29\n",
       "X360          0.51\n",
       "XOne          0.34\n",
       "Wii           0.05\n",
       "DS            0.00\n",
       "PC            0.00"
      ]
     },
     "execution_count": 44,
     "metadata": {},
     "output_type": "execute_result"
    }
   ],
   "source": [
    "df_2013_2016_JP_popular = (df_2013_2016\n",
    "                                 .pivot_table(index = 'platform', values = 'jp_sales', aggfunc = 'sum')\n",
    "                                 .sort_values(by = 'jp_sales', ascending = False))\n",
    "\n",
    "df_2013_2016_JP_popular"
   ]
  },
  {
   "cell_type": "code",
   "execution_count": 45,
   "metadata": {},
   "outputs": [
    {
     "data": {
      "text/plain": [
       "['3DS', 'PS3', 'PSV', 'PS4', 'WiiU']"
      ]
     },
     "execution_count": 45,
     "metadata": {},
     "output_type": "execute_result"
    }
   ],
   "source": [
    "df_2013_2016_JP_popular.T.columns[:5].tolist()"
   ]
  },
  {
   "cell_type": "markdown",
   "metadata": {},
   "source": [
    "ТОП-5 самых популярных платформ для региона JP: 3DS, PS3, PSV, PS4, WiiU."
   ]
  },
  {
   "cell_type": "code",
   "execution_count": 46,
   "metadata": {},
   "outputs": [
    {
     "data": {
      "image/png": "[encoded data removed]",
      "text/plain": [
       "<Figure size 360x360 with 1 Axes>"
      ]
     },
     "metadata": {},
     "output_type": "display_data"
    },
    {
     "data": {
      "image/png": "[encoded data removed]",
      "text/plain": [
       "<Figure size 360x360 with 1 Axes>"
      ]
     },
     "metadata": {},
     "output_type": "display_data"
    },
    {
     "data": {
      "image/png": "[encoded data removed]",
      "text/plain": [
       "<Figure size 360x360 with 1 Axes>"
      ]
     },
     "metadata": {},
     "output_type": "display_data"
    }
   ],
   "source": [
    "df_2013_2016_NA_popular.loc['Other_platforms', 'na_sales'] = df_2013_2016_NA_popular.loc['WiiU' : 'PSP', 'na_sales'].sum()\n",
    "df_2013_2016_EU_popular.loc['Other_platforms', 'eu_sales'] = df_2013_2016_EU_popular.loc['PC' : 'PSP', 'eu_sales'].sum()\n",
    "df_2013_2016_JP_popular.loc['Other_platforms', 'jp_sales'] = df_2013_2016_JP_popular.loc['PSP' : 'PC', 'jp_sales'].sum()\n",
    "\n",
    "df_2013_2016_NA_popular_plot = (df_2013_2016_NA_popular\n",
    "         .loc[['PS4', 'XOne', 'X360', 'PS3', '3DS', 'Other_platforms']]\n",
    "         .plot(kind = 'pie', subplots = True, figsize = (5, 5), title = 'NA', ylabel = '', legend = False))\n",
    "\n",
    "df_2013_2016_EU_popular_plot = (df_2013_2016_EU_popular\n",
    "         .loc[['PS4', 'PS3', 'XOne', 'X360', '3DS', 'Other_platforms']]\n",
    "         .plot(kind = 'pie', subplots = True, figsize = (5, 5), title = 'EU', ylabel = '', legend = False))\n",
    "\n",
    "df_2013_2016_JP_popular_plot = (df_2013_2016_JP_popular\n",
    "         .loc[['3DS', 'PS3', 'PSV', 'PS4', 'WiiU', 'Other_platforms']]\n",
    "         .plot(kind = 'pie', subplots = True, figsize = (5, 5), title = 'JP', ylabel = '', legend = False))"
   ]
  },
  {
   "cell_type": "markdown",
   "metadata": {},
   "source": [
    "Можно заметить следующее: в регионах NA и EU 1 место по популярности занимает PS4, 2, 3, 4 и 5 - XOne, X360, PS3 и 3DS. Регион же JP в значительной степени отличается от NA и EU: 1 место - 3DS (в NA и JP это 5 место), а PS4, которая занимает в NA и EU 1 место, в JP только 4-е."
   ]
  },
  {
   "cell_type": "markdown",
   "metadata": {},
   "source": [
    "### Определение самых популярных жанров по регионам"
   ]
  },
  {
   "cell_type": "markdown",
   "metadata": {},
   "source": [
    "Определим для региона NA самые популярные жанры (ТОП-5):"
   ]
  },
  {
   "cell_type": "code",
   "execution_count": 47,
   "metadata": {},
   "outputs": [
    {
     "data": {
      "text/html": [
       "<div>\n",
       "<style scoped>\n",
       "    .dataframe tbody tr th:only-of-type {\n",
       "        vertical-align: middle;\n",
       "    }\n",
       "\n",
       "    .dataframe tbody tr th {\n",
       "        vertical-align: top;\n",
       "    }\n",
       "\n",
       "    .dataframe thead th {\n",
       "        text-align: right;\n",
       "    }\n",
       "</style>\n",
       "<table border=\"1\" class=\"dataframe\">\n",
       "  <thead>\n",
       "    <tr style=\"text-align: right;\">\n",
       "      <th></th>\n",
       "      <th>na_sales</th>\n",
       "    </tr>\n",
       "    <tr>\n",
       "      <th>genre</th>\n",
       "      <th></th>\n",
       "    </tr>\n",
       "  </thead>\n",
       "  <tbody>\n",
       "    <tr>\n",
       "      <th>Action</th>\n",
       "      <td>126.05</td>\n",
       "    </tr>\n",
       "    <tr>\n",
       "      <th>Shooter</th>\n",
       "      <td>109.74</td>\n",
       "    </tr>\n",
       "    <tr>\n",
       "      <th>Sports</th>\n",
       "      <td>65.27</td>\n",
       "    </tr>\n",
       "    <tr>\n",
       "      <th>Role-Playing</th>\n",
       "      <td>46.40</td>\n",
       "    </tr>\n",
       "    <tr>\n",
       "      <th>Misc</th>\n",
       "      <td>27.49</td>\n",
       "    </tr>\n",
       "    <tr>\n",
       "      <th>Platform</th>\n",
       "      <td>18.14</td>\n",
       "    </tr>\n",
       "    <tr>\n",
       "      <th>Fighting</th>\n",
       "      <td>15.55</td>\n",
       "    </tr>\n",
       "    <tr>\n",
       "      <th>Racing</th>\n",
       "      <td>12.96</td>\n",
       "    </tr>\n",
       "    <tr>\n",
       "      <th>Adventure</th>\n",
       "      <td>7.14</td>\n",
       "    </tr>\n",
       "    <tr>\n",
       "      <th>Simulation</th>\n",
       "      <td>4.86</td>\n",
       "    </tr>\n",
       "    <tr>\n",
       "      <th>Strategy</th>\n",
       "      <td>3.28</td>\n",
       "    </tr>\n",
       "    <tr>\n",
       "      <th>Puzzle</th>\n",
       "      <td>0.83</td>\n",
       "    </tr>\n",
       "  </tbody>\n",
       "</table>\n",
       "</div>"
      ],
      "text/plain": [
       "              na_sales\n",
       "genre                 \n",
       "Action          126.05\n",
       "Shooter         109.74\n",
       "Sports           65.27\n",
       "Role-Playing     46.40\n",
       "Misc             27.49\n",
       "Platform         18.14\n",
       "Fighting         15.55\n",
       "Racing           12.96\n",
       "Adventure         7.14\n",
       "Simulation        4.86\n",
       "Strategy          3.28\n",
       "Puzzle            0.83"
      ]
     },
     "execution_count": 47,
     "metadata": {},
     "output_type": "execute_result"
    }
   ],
   "source": [
    "df_2013_2016_NA_popular_genre = (df_2013_2016\n",
    "                                 .pivot_table(index = 'genre', values = 'na_sales', aggfunc = 'sum')\n",
    "                                 .sort_values(by = 'na_sales', ascending = False))\n",
    "\n",
    "df_2013_2016_NA_popular_genre"
   ]
  },
  {
   "cell_type": "code",
   "execution_count": 48,
   "metadata": {},
   "outputs": [
    {
     "data": {
      "text/plain": [
       "['Action', 'Shooter', 'Sports', 'Role-Playing', 'Misc']"
      ]
     },
     "execution_count": 48,
     "metadata": {},
     "output_type": "execute_result"
    }
   ],
   "source": [
    "df_2013_2016_NA_popular_genre.T.columns[:5].tolist()"
   ]
  },
  {
   "cell_type": "markdown",
   "metadata": {},
   "source": [
    "ТОП-5 самых популярных жанров для региона NA: Action, Shooter, Sports, Role-Playing, Misc."
   ]
  },
  {
   "cell_type": "markdown",
   "metadata": {},
   "source": [
    "Определим для региона EU самые популярные жанры (ТОП-5):"
   ]
  },
  {
   "cell_type": "code",
   "execution_count": 49,
   "metadata": {},
   "outputs": [
    {
     "data": {
      "text/html": [
       "<div>\n",
       "<style scoped>\n",
       "    .dataframe tbody tr th:only-of-type {\n",
       "        vertical-align: middle;\n",
       "    }\n",
       "\n",
       "    .dataframe tbody tr th {\n",
       "        vertical-align: top;\n",
       "    }\n",
       "\n",
       "    .dataframe thead th {\n",
       "        text-align: right;\n",
       "    }\n",
       "</style>\n",
       "<table border=\"1\" class=\"dataframe\">\n",
       "  <thead>\n",
       "    <tr style=\"text-align: right;\">\n",
       "      <th></th>\n",
       "      <th>eu_sales</th>\n",
       "    </tr>\n",
       "    <tr>\n",
       "      <th>genre</th>\n",
       "      <th></th>\n",
       "    </tr>\n",
       "  </thead>\n",
       "  <tbody>\n",
       "    <tr>\n",
       "      <th>Action</th>\n",
       "      <td>118.13</td>\n",
       "    </tr>\n",
       "    <tr>\n",
       "      <th>Shooter</th>\n",
       "      <td>87.86</td>\n",
       "    </tr>\n",
       "    <tr>\n",
       "      <th>Sports</th>\n",
       "      <td>60.52</td>\n",
       "    </tr>\n",
       "    <tr>\n",
       "      <th>Role-Playing</th>\n",
       "      <td>36.97</td>\n",
       "    </tr>\n",
       "    <tr>\n",
       "      <th>Racing</th>\n",
       "      <td>20.19</td>\n",
       "    </tr>\n",
       "    <tr>\n",
       "      <th>Misc</th>\n",
       "      <td>20.04</td>\n",
       "    </tr>\n",
       "    <tr>\n",
       "      <th>Platform</th>\n",
       "      <td>15.58</td>\n",
       "    </tr>\n",
       "    <tr>\n",
       "      <th>Simulation</th>\n",
       "      <td>10.92</td>\n",
       "    </tr>\n",
       "    <tr>\n",
       "      <th>Fighting</th>\n",
       "      <td>8.55</td>\n",
       "    </tr>\n",
       "    <tr>\n",
       "      <th>Adventure</th>\n",
       "      <td>8.25</td>\n",
       "    </tr>\n",
       "    <tr>\n",
       "      <th>Strategy</th>\n",
       "      <td>4.22</td>\n",
       "    </tr>\n",
       "    <tr>\n",
       "      <th>Puzzle</th>\n",
       "      <td>1.00</td>\n",
       "    </tr>\n",
       "  </tbody>\n",
       "</table>\n",
       "</div>"
      ],
      "text/plain": [
       "              eu_sales\n",
       "genre                 \n",
       "Action          118.13\n",
       "Shooter          87.86\n",
       "Sports           60.52\n",
       "Role-Playing     36.97\n",
       "Racing           20.19\n",
       "Misc             20.04\n",
       "Platform         15.58\n",
       "Simulation       10.92\n",
       "Fighting          8.55\n",
       "Adventure         8.25\n",
       "Strategy          4.22\n",
       "Puzzle            1.00"
      ]
     },
     "execution_count": 49,
     "metadata": {},
     "output_type": "execute_result"
    }
   ],
   "source": [
    "df_2013_2016_EU_popular_genre = (df_2013_2016\n",
    "                                 .pivot_table(index = 'genre', values = 'eu_sales', aggfunc = 'sum')\n",
    "                                 .sort_values(by = 'eu_sales', ascending = False))\n",
    "\n",
    "df_2013_2016_EU_popular_genre"
   ]
  },
  {
   "cell_type": "code",
   "execution_count": 50,
   "metadata": {},
   "outputs": [
    {
     "data": {
      "text/plain": [
       "['Action', 'Shooter', 'Sports', 'Role-Playing', 'Racing']"
      ]
     },
     "execution_count": 50,
     "metadata": {},
     "output_type": "execute_result"
    }
   ],
   "source": [
    "df_2013_2016_EU_popular_genre.T.columns[:5].tolist()"
   ]
  },
  {
   "cell_type": "markdown",
   "metadata": {},
   "source": [
    "ТОП-5 самых популярных жанров для региона EU: Action, Shooter, Sports, Role-Playing, Racing."
   ]
  },
  {
   "cell_type": "markdown",
   "metadata": {},
   "source": [
    "Определим для региона JP самые популярные жанры (ТОП-5):"
   ]
  },
  {
   "cell_type": "code",
   "execution_count": 51,
   "metadata": {},
   "outputs": [
    {
     "data": {
      "text/html": [
       "<div>\n",
       "<style scoped>\n",
       "    .dataframe tbody tr th:only-of-type {\n",
       "        vertical-align: middle;\n",
       "    }\n",
       "\n",
       "    .dataframe tbody tr th {\n",
       "        vertical-align: top;\n",
       "    }\n",
       "\n",
       "    .dataframe thead th {\n",
       "        text-align: right;\n",
       "    }\n",
       "</style>\n",
       "<table border=\"1\" class=\"dataframe\">\n",
       "  <thead>\n",
       "    <tr style=\"text-align: right;\">\n",
       "      <th></th>\n",
       "      <th>jp_sales</th>\n",
       "    </tr>\n",
       "    <tr>\n",
       "      <th>genre</th>\n",
       "      <th></th>\n",
       "    </tr>\n",
       "  </thead>\n",
       "  <tbody>\n",
       "    <tr>\n",
       "      <th>Role-Playing</th>\n",
       "      <td>51.04</td>\n",
       "    </tr>\n",
       "    <tr>\n",
       "      <th>Action</th>\n",
       "      <td>40.49</td>\n",
       "    </tr>\n",
       "    <tr>\n",
       "      <th>Misc</th>\n",
       "      <td>9.20</td>\n",
       "    </tr>\n",
       "    <tr>\n",
       "      <th>Fighting</th>\n",
       "      <td>7.65</td>\n",
       "    </tr>\n",
       "    <tr>\n",
       "      <th>Shooter</th>\n",
       "      <td>6.61</td>\n",
       "    </tr>\n",
       "    <tr>\n",
       "      <th>Adventure</th>\n",
       "      <td>5.82</td>\n",
       "    </tr>\n",
       "    <tr>\n",
       "      <th>Sports</th>\n",
       "      <td>5.41</td>\n",
       "    </tr>\n",
       "    <tr>\n",
       "      <th>Platform</th>\n",
       "      <td>4.79</td>\n",
       "    </tr>\n",
       "    <tr>\n",
       "      <th>Simulation</th>\n",
       "      <td>4.52</td>\n",
       "    </tr>\n",
       "    <tr>\n",
       "      <th>Racing</th>\n",
       "      <td>2.30</td>\n",
       "    </tr>\n",
       "    <tr>\n",
       "      <th>Strategy</th>\n",
       "      <td>1.77</td>\n",
       "    </tr>\n",
       "    <tr>\n",
       "      <th>Puzzle</th>\n",
       "      <td>1.18</td>\n",
       "    </tr>\n",
       "  </tbody>\n",
       "</table>\n",
       "</div>"
      ],
      "text/plain": [
       "              jp_sales\n",
       "genre                 \n",
       "Role-Playing     51.04\n",
       "Action           40.49\n",
       "Misc              9.20\n",
       "Fighting          7.65\n",
       "Shooter           6.61\n",
       "Adventure         5.82\n",
       "Sports            5.41\n",
       "Platform          4.79\n",
       "Simulation        4.52\n",
       "Racing            2.30\n",
       "Strategy          1.77\n",
       "Puzzle            1.18"
      ]
     },
     "execution_count": 51,
     "metadata": {},
     "output_type": "execute_result"
    }
   ],
   "source": [
    "df_2013_2016_JP_popular_genre = (df_2013_2016\n",
    "                                 .pivot_table(index = 'genre', values = 'jp_sales', aggfunc = 'sum')\n",
    "                                 .sort_values(by = 'jp_sales', ascending = False))\n",
    "\n",
    "df_2013_2016_JP_popular_genre"
   ]
  },
  {
   "cell_type": "code",
   "execution_count": 52,
   "metadata": {},
   "outputs": [
    {
     "data": {
      "text/plain": [
       "['Role-Playing', 'Action', 'Misc', 'Fighting', 'Shooter']"
      ]
     },
     "execution_count": 52,
     "metadata": {},
     "output_type": "execute_result"
    }
   ],
   "source": [
    "df_2013_2016_JP_popular_genre.T.columns[:5].tolist()"
   ]
  },
  {
   "cell_type": "markdown",
   "metadata": {},
   "source": [
    "ТОП-5 самых популярных жанров для региона JP: Role-Playing, Action, Misc, Fighting, Shooter."
   ]
  },
  {
   "cell_type": "code",
   "execution_count": 53,
   "metadata": {},
   "outputs": [
    {
     "data": {
      "image/png": "[encoded data removed]",
      "text/plain": [
       "<Figure size 360x360 with 1 Axes>"
      ]
     },
     "metadata": {},
     "output_type": "display_data"
    },
    {
     "data": {
      "image/png": "[encoded data removed]",
      "text/plain": [
       "<Figure size 360x360 with 1 Axes>"
      ]
     },
     "metadata": {},
     "output_type": "display_data"
    },
    {
     "data": {
      "image/png": "[encoded data removed]",
      "text/plain": [
       "<Figure size 360x360 with 1 Axes>"
      ]
     },
     "metadata": {},
     "output_type": "display_data"
    }
   ],
   "source": [
    "df_2013_2016_NA_popular_genre.loc['Other_genres', 'na_sales'] = df_2013_2016_NA_popular_genre.loc['Platform' : 'Puzzle', 'na_sales'].sum()\n",
    "df_2013_2016_EU_popular_genre.loc['Other_genres', 'eu_sales'] = df_2013_2016_EU_popular_genre.loc['Misc' : 'Puzzle', 'eu_sales'].sum()\n",
    "df_2013_2016_JP_popular_genre.loc['Other_genres', 'jp_sales'] = df_2013_2016_JP_popular_genre.loc['Adventure' : 'Puzzle', 'jp_sales'].sum()\n",
    "\n",
    "df_2013_2016_NA_popular_genre_plot = (df_2013_2016_NA_popular_genre\n",
    "         .loc[['Action', 'Shooter', 'Sports', 'Role-Playing', 'Misc', 'Other_genres']]\n",
    "         .plot(kind = 'pie', subplots = True, figsize = (5, 5), title = 'NA', ylabel = '', legend = False))\n",
    "\n",
    "df_2013_2016_EU_popular_genre_plot = (df_2013_2016_EU_popular_genre\n",
    "         .loc[['Action', 'Shooter', 'Sports', 'Role-Playing', 'Racing', 'Other_genres']]\n",
    "         .plot(kind = 'pie', subplots = True, figsize = (5, 5), title = 'EU', ylabel = '', legend = False))\n",
    "\n",
    "df_2013_2016_JP_popular_genre_plot = (df_2013_2016_JP_popular_genre\n",
    "         .loc[['Role-Playing', 'Action', 'Misc', 'Fighting', 'Shooter', 'Other_genres']]\n",
    "         .plot(kind = 'pie', subplots = True, figsize = (5, 5), title = 'JP', ylabel = '', legend = False))"
   ]
  },
  {
   "cell_type": "markdown",
   "metadata": {},
   "source": [
    "В регионах NA и EU ТОП-4 совпадают: Action, Shooter, Sports, Role-Playing, 5 место разнится (в NA - Misc, в EU - Racing). В JP же 1 место занимает Role-Playing, что в NA и EU - 4-е, 2-е - Action, что в NA и EU - 1-е, 3-е - Misc, что в EU - 5-е, а в NA вообще не входит в ТОП, 4-е - Fighting - в NA и EU не входит в ТОП, 5-е - Shooter, что в NA и EU - 2-е."
   ]
  },
  {
   "cell_type": "markdown",
   "metadata": {},
   "source": [
    "### Анализ влияния рейтинга ESRB на продажи"
   ]
  },
  {
   "cell_type": "markdown",
   "metadata": {},
   "source": [
    "Создадим сводную таблицу с суммарными продажами по регионам по рейтингу ESRB:"
   ]
  },
  {
   "cell_type": "code",
   "execution_count": 54,
   "metadata": {},
   "outputs": [
    {
     "name": "stderr",
     "output_type": "stream",
     "text": [
      "/tmp/ipykernel_313/1556276444.py:1: SettingWithCopyWarning: \n",
      "A value is trying to be set on a copy of a slice from a DataFrame.\n",
      "Try using .loc[row_indexer,col_indexer] = value instead\n",
      "\n",
      "See the caveats in the documentation: https://pandas.pydata.org/pandas-docs/stable/user_guide/indexing.html#returning-a-view-versus-a-copy\n",
      "  df_2013_2016['rating'] = df_2013_2016['rating'].fillna('not')\n"
     ]
    }
   ],
   "source": [
    "df_2013_2016['rating'] = df_2013_2016['rating'].fillna('not')"
   ]
  },
  {
   "cell_type": "code",
   "execution_count": 55,
   "metadata": {
    "scrolled": true
   },
   "outputs": [
    {
     "data": {
      "text/html": [
       "<div>\n",
       "<style scoped>\n",
       "    .dataframe tbody tr th:only-of-type {\n",
       "        vertical-align: middle;\n",
       "    }\n",
       "\n",
       "    .dataframe tbody tr th {\n",
       "        vertical-align: top;\n",
       "    }\n",
       "\n",
       "    .dataframe thead th {\n",
       "        text-align: right;\n",
       "    }\n",
       "</style>\n",
       "<table border=\"1\" class=\"dataframe\">\n",
       "  <thead>\n",
       "    <tr style=\"text-align: right;\">\n",
       "      <th></th>\n",
       "      <th>na_sales</th>\n",
       "      <th>eu_sales</th>\n",
       "      <th>jp_sales</th>\n",
       "    </tr>\n",
       "    <tr>\n",
       "      <th>rating</th>\n",
       "      <th></th>\n",
       "      <th></th>\n",
       "      <th></th>\n",
       "    </tr>\n",
       "  </thead>\n",
       "  <tbody>\n",
       "    <tr>\n",
       "      <th>M</th>\n",
       "      <td>165.21</td>\n",
       "      <td>145.32</td>\n",
       "      <td>14.11</td>\n",
       "    </tr>\n",
       "    <tr>\n",
       "      <th>not</th>\n",
       "      <td>89.42</td>\n",
       "      <td>78.91</td>\n",
       "      <td>85.05</td>\n",
       "    </tr>\n",
       "    <tr>\n",
       "      <th>E</th>\n",
       "      <td>79.05</td>\n",
       "      <td>83.36</td>\n",
       "      <td>15.14</td>\n",
       "    </tr>\n",
       "    <tr>\n",
       "      <th>E10+</th>\n",
       "      <td>54.24</td>\n",
       "      <td>42.69</td>\n",
       "      <td>5.89</td>\n",
       "    </tr>\n",
       "    <tr>\n",
       "      <th>T</th>\n",
       "      <td>49.79</td>\n",
       "      <td>41.95</td>\n",
       "      <td>20.59</td>\n",
       "    </tr>\n",
       "  </tbody>\n",
       "</table>\n",
       "</div>"
      ],
      "text/plain": [
       "        na_sales  eu_sales  jp_sales\n",
       "rating                              \n",
       "M         165.21    145.32     14.11\n",
       "not        89.42     78.91     85.05\n",
       "E          79.05     83.36     15.14\n",
       "E10+       54.24     42.69      5.89\n",
       "T          49.79     41.95     20.59"
      ]
     },
     "execution_count": 55,
     "metadata": {},
     "output_type": "execute_result"
    }
   ],
   "source": [
    "df_2013_2016_NA_ESRB = (df_2013_2016\n",
    "                                 .pivot_table(index = 'rating', values = 'na_sales', aggfunc = 'sum')\n",
    "                                 .sort_values(by = 'na_sales', ascending = False))\n",
    "\n",
    "df_2013_2016_EU_ESRB = (df_2013_2016\n",
    "                                 .pivot_table(index = 'rating', values = 'eu_sales', aggfunc = 'sum')\n",
    "                                 .sort_values(by = 'eu_sales', ascending = False))\n",
    "\n",
    "df_2013_2016_JP_ESRB = (df_2013_2016\n",
    "                                 .pivot_table(index = 'rating', values = 'jp_sales', aggfunc = 'sum')\n",
    "                                 .sort_values(by = 'jp_sales', ascending = False))\n",
    "\n",
    "df_2013_2016_ESRB = df_2013_2016_NA_ESRB.merge(df_2013_2016_EU_ESRB, on = 'rating')\n",
    "df_2013_2016_ESRB = df_2013_2016_ESRB.merge(df_2013_2016_JP_ESRB, on = 'rating')\n",
    "df_2013_2016_ESRB"
   ]
  },
  {
   "cell_type": "markdown",
   "metadata": {},
   "source": [
    "Исходя из того, что рейтинг ESRB предназначен для маркировки игр для США и Канады, в первую очередь обратим внимание на регион NA: большинство игр имеют рейтинг \"М\" - предназначен для лиц от 18 лет, однако на 2 месте по продажам занимают игры, не имеющий рейтинга. Этому есть 2 причины: либо игра еще не имеет рейтинга, либо был допущен пропуск.\n",
    "\n",
    "В регионе EU ситуация примерно такая же, как и в NA. Вероятно, это произошло из-за того, что у регионов NA и EU очень большие сходства по жанрам и платформам. А JP совершенно разнится с NA и EU и по жанрам, и по платформам, поэтому отсутствие рейтинга не влияет на продажи в этом регионе."
   ]
  },
  {
   "cell_type": "code",
   "execution_count": 56,
   "metadata": {},
   "outputs": [
    {
     "name": "stdout",
     "output_type": "stream",
     "text": [
      "0 0.0\n"
     ]
    },
    {
     "data": {
      "text/plain": [
       "not     977\n",
       "M       369\n",
       "T       333\n",
       "E       302\n",
       "E10+    252\n",
       "Name: rating, dtype: int64"
      ]
     },
     "execution_count": 56,
     "metadata": {},
     "output_type": "execute_result"
    }
   ],
   "source": [
    "temp = df_2013_2016.copy()\n",
    "print(temp.rating.isna().sum(), temp.rating.isna().sum()/len(temp))\n",
    "temp.rating.value_counts()"
   ]
  },
  {
   "cell_type": "markdown",
   "metadata": {},
   "source": [
    "## Проверка гипотез"
   ]
  },
  {
   "cell_type": "markdown",
   "metadata": {},
   "source": [
    "### Проверка гипотезы: средние пользовательские рейтинги платформ Xbox One и PC одинаковые"
   ]
  },
  {
   "cell_type": "markdown",
   "metadata": {},
   "source": [
    "Сформулируем нулевую гипотезу таким образом: средние пользовательские рейтинги платформ Xbox One и PC одинаковые. \n",
    "\n",
    "Тогда альтернативная гипотеза будет таковой: средние пользовательские рейтинги платформ Xbox One и PC отличаются. "
   ]
  },
  {
   "cell_type": "markdown",
   "metadata": {},
   "source": [
    "Создадим 2 датасета со средними пользовательскими рейтингами для платформ `XOne` и `PC`:"
   ]
  },
  {
   "cell_type": "code",
   "execution_count": 57,
   "metadata": {},
   "outputs": [
    {
     "data": {
      "image/png": "[encoded data removed]",
      "text/plain": [
       "<Figure size 864x360 with 1 Axes>"
      ]
     },
     "metadata": {
      "needs_background": "light"
     },
     "output_type": "display_data"
    }
   ],
   "source": [
    "df_hypoth1 = df[['platform', 'user_score']]\n",
    "\n",
    "df_hypoth1_XOne = (df_hypoth1\n",
    "                     .query('platform == \"XOne\"')\n",
    "                     .query('user_score > 0')\n",
    "                     .reset_index(drop = True)['user_score'])\n",
    "\n",
    "df_hypoth1_PC = (df_hypoth1\n",
    "                     .query('platform == \"PC\"')\n",
    "                     .query('user_score > 0')\n",
    "                     .reset_index(drop = True)['user_score'])\n",
    "\n",
    "df_hypoth1_PC.hist(bins = 20, color = 'blue', figsize = (12, 5)).annotate('PC', (1.2, 180), color = 'blue');\n",
    "df_hypoth1_XOne.hist(bins = 20, color = 'orange', figsize = (12, 5)).annotate('XOne', (1.2, 160), color = 'orange');"
   ]
  },
  {
   "cell_type": "markdown",
   "metadata": {},
   "source": [
    "Проведем тест на проверку гипотезы, определим значение `alpha` как `0.05`:"
   ]
  },
  {
   "cell_type": "code",
   "execution_count": 58,
   "metadata": {},
   "outputs": [
    {
     "name": "stdout",
     "output_type": "stream",
     "text": [
      "p-значение: 4.5385802963771835e-06\n",
      "Отвергаем нулевую гипотезу\n"
     ]
    }
   ],
   "source": [
    "results_hypoth1 = st.ttest_ind(df_hypoth1_XOne, df_hypoth1_PC, equal_var = False)\n",
    "alpha = 0.05\n",
    "\n",
    "print('p-значение:', results_hypoth1.pvalue)\n",
    "\n",
    "if results_hypoth1.pvalue < alpha:\n",
    "    print(\"Отвергаем нулевую гипотезу\")\n",
    "else:\n",
    "    print(\"Не получилось отвергнуть нулевую гипотезу\") "
   ]
  },
  {
   "cell_type": "markdown",
   "metadata": {},
   "source": [
    "Таким образом, нулевая гипотеза была отвергнута - средние пользовательские рейтинги платформ `Xbox One` и `PC` отличаются."
   ]
  },
  {
   "cell_type": "markdown",
   "metadata": {},
   "source": [
    "### Проверка гипотезы: средние пользовательские рейтинги жанров Action и Sports разные."
   ]
  },
  {
   "cell_type": "markdown",
   "metadata": {},
   "source": [
    "Сформулируем нулевую гипотезу таким образом: средние пользовательские рейтинги жанров `Action` и `Sports` одинаковые.\n",
    "\n",
    "Тогда альтернативная гипотеза будет таковой: средние пользовательские рейтинги жанров `Action` и `Sports` отличаются."
   ]
  },
  {
   "cell_type": "markdown",
   "metadata": {},
   "source": [
    "Создадим 2 датасета со средними пользовательскими рейтингами для жанров `Action` и `Sports`:"
   ]
  },
  {
   "cell_type": "code",
   "execution_count": 59,
   "metadata": {
    "scrolled": false
   },
   "outputs": [
    {
     "data": {
      "image/png": "[encoded data removed]",
      "text/plain": [
       "<Figure size 864x360 with 1 Axes>"
      ]
     },
     "metadata": {
      "needs_background": "light"
     },
     "output_type": "display_data"
    }
   ],
   "source": [
    "df_hypoth2 = df[['genre', 'user_score']]\n",
    "\n",
    "df_hypoth2_Action = (df_hypoth2\n",
    "                             .query('genre == \"Action\"')\n",
    "                             .query('user_score > 0')\n",
    "                             .reset_index(drop = True)['user_score'])\n",
    "\n",
    "df_hypoth2_Sports = (df_hypoth2\n",
    "                             .query('genre == \"Sports\"')\n",
    "                             .query('user_score > 0')\n",
    "                             .reset_index(drop = True)['user_score'])\n",
    "\n",
    "df_hypoth2_Action.hist(bins = 20, color = 'blue', figsize = (12, 5)).annotate('Action', (1, 280), color = 'blue');\n",
    "df_hypoth2_Sports.hist(bins = 20, color = 'orange', figsize = (12, 5)).annotate('Sports', (1, 260), color = 'orange');"
   ]
  },
  {
   "cell_type": "markdown",
   "metadata": {},
   "source": [
    "Проведем тест на проверку гипотезы, определим значение `alpha` как `0.05`:"
   ]
  },
  {
   "cell_type": "code",
   "execution_count": 60,
   "metadata": {},
   "outputs": [
    {
     "name": "stdout",
     "output_type": "stream",
     "text": [
      "p-значение: 0.07370217419278526\n",
      "Не получилось отвергнуть нулевую гипотезу\n"
     ]
    }
   ],
   "source": [
    "results_hypoth2 = st.ttest_ind(df_hypoth2_Action, df_hypoth2_Sports, equal_var = False)\n",
    "alpha = 0.05\n",
    "\n",
    "print('p-значение:', results_hypoth2.pvalue)\n",
    "\n",
    "if results_hypoth2.pvalue < alpha:\n",
    "    print(\"Отвергаем нулевую гипотезу\")\n",
    "else:\n",
    "    print(\"Не получилось отвергнуть нулевую гипотезу\") "
   ]
  },
  {
   "cell_type": "markdown",
   "metadata": {},
   "source": [
    "Таким образом, нулевая гипотеза была не отвергнута: средние пользовательские рейтинги жанров `Action` и `Sports` не отличаются."
   ]
  },
  {
   "cell_type": "markdown",
   "metadata": {},
   "source": [
    "## Выводы"
   ]
  },
  {
   "cell_type": "markdown",
   "metadata": {},
   "source": [
    "Таким образом, было проведено исследование, в ходе которого были изучены данные, произведена их подготовка, их исследовательский анализ, составлен портрет пользователя каждого региона и проверены гипотезы.\n",
    "\n",
    "Во время подготовки данных названия столбцрв были приведены к нужному регистру, данные приведены к нужным типам. Была произведена проверка на дубликаты и пропуски. Также были определены суммарные продажи во всех регионах.\n",
    "\n",
    "Во время исследовательского анализа данных были получены следующие результаты: \n",
    "\n",
    "1. Скачок роста игровой индустрии начинается с 2000 года, пик приходится на 2008-2009 года, далее, до 2016-го, наблюдается спад.\n",
    "2. Период, за который исчезают старые и появляются новые платформы, 5 лет.\n",
    "3. Актуальный период прогнозирования - с 2013 по 2016 года.\n",
    "4. 3 основных потенциально прибыльных платформы: PS4, 3DS, PS3.\n",
    "5. Среди 3 основных потенциально прибыльных платформ наибольший разброс по играм имеет платформа PS4, наименьший - 3DS.\n",
    "6. Корреляция между отзывами критиков и продажами слабая (коэффициенты корреляции находятся в интервале от 0.33 до 0.41). Что касается зависимости между отзывами пользователей и продажами, у платформ PS4, PS3, XOne и X360 зависимости нет, у платформ 3DS и WiiU наблюдается слабая корреляция (коэффициенты корреляции 0.27 и 0.41 соответственно).\n",
    "7. Наиболее прибыльные жанры - Shooter (медианное значение - 0.45 млн. копий), Sports (медианное значение - 0.24 млн. копий), Platform (медианное значение - 0.225 млн. копий).\n",
    "\n",
    "Во время составления портрета пользователя каждого региона были получены следующие результаты: \n",
    "\n",
    "1. Наиболее популярные платформы в регионе NA - PS4, XOne, X360, PS3, 3DS, наиболее популярные жанры - Action, Shooter, Sports, Role-Playing, Misc.\n",
    "2. Наиболее популярные платформы в регионе EU - PS4, PS3, XOne, X360, 3DS, наиболее популярные жанры - Action, Shooter, Sports, Role-Playing, Racing.\n",
    "3. Наиболее популярные платформы в регионе JP - 3DS, PS3, PSV, PS4, WiiU, наиболее популярные жанры - Role-Playing, Action, Misc, Fighting, Shooter.\n",
    "4. Исходя из того, что рейтинг ESRB предназначен для маркировки игр для США и Канады, в первую очередь обратим внимание на регион NA: большинство игр имеют рейтинг \"М\" - предназначен для лиц от 18 лет, однако на 2 месте по продажам занимают игры, не имеющий рейтинга. Этому есть 2 причины: либо игра еще не имеет рейтинга, либо был допущен пропуск. В регионе EU ситуация примерно такая же, как и в NA. Вероятно, это произошло из-за того, что у регионов NA и EU очень большие сходства по жанрам и платформам. А JP совершенно разнится с NA и EU и по жанрам, и по платформам, поэтому отсутствие рейтинга не влияет на продажи в этом регионе.\n",
    "\n",
    "Во время проверки гипотез были получены следующие результаты:\n",
    "\n",
    "Первая гипотеза: p-значение составило 4.54e-06, нулевая гипотеза была отвергнута, результат проверки - средние пользовательские рейтинги платформ `Xbox One` и `PC` отличаются.\n",
    "\n",
    "Вторая гипотеза: p-значение: 0.74, нулевая гипотеза не была отвергнута, результат проверки - средние пользовательские рейтинги жанров `Action` и `Sports` не отличаются.\n",
    "\n",
    "Таким образом, при планировании потенциально популярного продукта рекламной кампании к нему необходимо предпочтения необходимо отдавать:\n",
    "\n",
    "1. Платформам PS4, 3DS, PS3, при этом в регионе NA - PS4, в регионе EU - PS4 или PS3, в регионе JP - 3DS\n",
    "2. Жанру Shooter, как наиболее прибыльному и однуму из самых популярных в NA и EU и входящему в ТОП-5 в JP\n",
    "3. С рейтингом \"M\" в NA и EU, в JP не имеет значения\n",
    "4. На отзывы критиков и игроков не стоит обращать внимание"
   ]
  }
 ],
 "metadata": {
  "ExecuteTimeLog": [
   {
    "duration": 1183,
    "start_time": "2022-05-12T11:11:06.724Z"
   },
   {
    "duration": 208,
    "start_time": "2022-05-12T11:11:24.993Z"
   },
   {
    "duration": 6,
    "start_time": "2022-05-12T11:12:12.045Z"
   },
   {
    "duration": 24,
    "start_time": "2022-05-12T11:12:38.526Z"
   },
   {
    "duration": 6,
    "start_time": "2022-05-12T11:12:55.769Z"
   },
   {
    "duration": 6,
    "start_time": "2022-05-12T11:13:00.517Z"
   },
   {
    "duration": 16,
    "start_time": "2022-05-12T11:13:13.048Z"
   },
   {
    "duration": 7,
    "start_time": "2022-05-12T11:13:18.971Z"
   },
   {
    "duration": 11,
    "start_time": "2022-05-12T11:13:33.734Z"
   },
   {
    "duration": 14,
    "start_time": "2022-05-12T11:14:07.919Z"
   },
   {
    "duration": 12,
    "start_time": "2022-05-12T11:14:14.431Z"
   },
   {
    "duration": 20,
    "start_time": "2022-05-12T11:14:30.200Z"
   },
   {
    "duration": 7,
    "start_time": "2022-05-12T11:14:45.947Z"
   },
   {
    "duration": 18,
    "start_time": "2022-05-12T11:14:59.782Z"
   },
   {
    "duration": 16,
    "start_time": "2022-05-12T11:15:11.075Z"
   },
   {
    "duration": 20,
    "start_time": "2022-05-12T11:15:40.216Z"
   },
   {
    "duration": 321,
    "start_time": "2022-05-12T11:16:08.313Z"
   },
   {
    "duration": 2023,
    "start_time": "2022-05-12T11:17:02.196Z"
   },
   {
    "duration": 5,
    "start_time": "2022-05-12T11:17:04.222Z"
   },
   {
    "duration": 17,
    "start_time": "2022-05-12T11:17:04.229Z"
   },
   {
    "duration": 5,
    "start_time": "2022-05-12T11:17:04.248Z"
   },
   {
    "duration": 8,
    "start_time": "2022-05-12T11:17:04.256Z"
   },
   {
    "duration": 18,
    "start_time": "2022-05-12T11:17:04.266Z"
   },
   {
    "duration": 38,
    "start_time": "2022-05-12T11:17:04.286Z"
   },
   {
    "duration": 13,
    "start_time": "2022-05-12T11:17:04.326Z"
   },
   {
    "duration": 21,
    "start_time": "2022-05-12T11:17:04.341Z"
   },
   {
    "duration": 10,
    "start_time": "2022-05-12T11:17:04.365Z"
   },
   {
    "duration": 58,
    "start_time": "2022-05-12T11:17:04.378Z"
   },
   {
    "duration": 8,
    "start_time": "2022-05-12T11:17:04.439Z"
   },
   {
    "duration": 17,
    "start_time": "2022-05-12T11:17:04.449Z"
   },
   {
    "duration": 22,
    "start_time": "2022-05-12T11:17:04.470Z"
   },
   {
    "duration": 21,
    "start_time": "2022-05-12T11:17:04.523Z"
   },
   {
    "duration": 300,
    "start_time": "2022-05-12T11:17:04.546Z"
   },
   {
    "duration": 65,
    "start_time": "2022-05-13T15:30:36.327Z"
   },
   {
    "duration": 958,
    "start_time": "2022-05-13T15:30:49.803Z"
   },
   {
    "duration": 5,
    "start_time": "2022-05-13T15:30:50.763Z"
   },
   {
    "duration": 41,
    "start_time": "2022-05-13T15:30:50.770Z"
   },
   {
    "duration": 15,
    "start_time": "2022-05-13T15:30:50.813Z"
   },
   {
    "duration": 12,
    "start_time": "2022-05-13T15:30:50.830Z"
   },
   {
    "duration": 35,
    "start_time": "2022-05-13T15:30:50.844Z"
   },
   {
    "duration": 11,
    "start_time": "2022-05-13T15:30:50.881Z"
   },
   {
    "duration": 21,
    "start_time": "2022-05-13T15:30:50.894Z"
   },
   {
    "duration": 17,
    "start_time": "2022-05-13T15:30:50.917Z"
   },
   {
    "duration": 17,
    "start_time": "2022-05-13T15:30:50.937Z"
   },
   {
    "duration": 30,
    "start_time": "2022-05-13T15:30:50.957Z"
   },
   {
    "duration": 30,
    "start_time": "2022-05-13T15:30:50.988Z"
   },
   {
    "duration": 32,
    "start_time": "2022-05-13T15:30:51.020Z"
   },
   {
    "duration": 16,
    "start_time": "2022-05-13T15:30:51.053Z"
   },
   {
    "duration": 18,
    "start_time": "2022-05-13T15:30:51.070Z"
   },
   {
    "duration": 21,
    "start_time": "2022-05-13T15:30:51.090Z"
   },
   {
    "duration": 16,
    "start_time": "2022-05-13T15:36:13.735Z"
   },
   {
    "duration": 168,
    "start_time": "2022-05-13T15:36:26.080Z"
   },
   {
    "duration": 201,
    "start_time": "2022-05-13T15:36:41.773Z"
   },
   {
    "duration": 15,
    "start_time": "2022-05-13T15:37:00.622Z"
   },
   {
    "duration": 89,
    "start_time": "2022-05-13T15:37:31.230Z"
   },
   {
    "duration": 17,
    "start_time": "2022-05-13T15:37:38.830Z"
   },
   {
    "duration": 16,
    "start_time": "2022-05-13T15:37:48.435Z"
   },
   {
    "duration": 1962,
    "start_time": "2022-05-13T15:38:47.676Z"
   },
   {
    "duration": 251,
    "start_time": "2022-05-13T15:39:01.933Z"
   },
   {
    "duration": 249,
    "start_time": "2022-05-13T15:39:45.589Z"
   },
   {
    "duration": 221,
    "start_time": "2022-05-13T15:39:55.787Z"
   },
   {
    "duration": 149,
    "start_time": "2022-05-13T15:40:04.471Z"
   },
   {
    "duration": 2118,
    "start_time": "2022-05-13T15:42:09.483Z"
   },
   {
    "duration": 152,
    "start_time": "2022-05-13T15:43:16.093Z"
   },
   {
    "duration": 153,
    "start_time": "2022-05-13T15:44:54.672Z"
   },
   {
    "duration": 23,
    "start_time": "2022-05-13T15:45:09.774Z"
   },
   {
    "duration": 6,
    "start_time": "2022-05-13T15:45:32.360Z"
   },
   {
    "duration": 5,
    "start_time": "2022-05-13T15:45:47.118Z"
   },
   {
    "duration": 157,
    "start_time": "2022-05-13T15:45:57.275Z"
   },
   {
    "duration": 187,
    "start_time": "2022-05-13T15:46:12.323Z"
   },
   {
    "duration": 199,
    "start_time": "2022-05-13T15:47:53.204Z"
   },
   {
    "duration": 143,
    "start_time": "2022-05-13T15:48:04.470Z"
   },
   {
    "duration": 196,
    "start_time": "2022-05-13T15:48:18.531Z"
   },
   {
    "duration": 20,
    "start_time": "2022-05-13T15:49:48.882Z"
   },
   {
    "duration": 24,
    "start_time": "2022-05-13T15:50:06.835Z"
   },
   {
    "duration": 272,
    "start_time": "2022-05-13T15:50:16.336Z"
   },
   {
    "duration": 21,
    "start_time": "2022-05-13T15:50:29.258Z"
   },
   {
    "duration": 1778,
    "start_time": "2022-05-13T15:51:20.432Z"
   },
   {
    "duration": 1746,
    "start_time": "2022-05-13T15:51:39.372Z"
   },
   {
    "duration": 194,
    "start_time": "2022-05-13T15:51:52.087Z"
   },
   {
    "duration": 193,
    "start_time": "2022-05-13T15:52:21.790Z"
   },
   {
    "duration": 143,
    "start_time": "2022-05-13T15:52:52.508Z"
   },
   {
    "duration": 158,
    "start_time": "2022-05-13T15:52:59.981Z"
   },
   {
    "duration": 282,
    "start_time": "2022-05-13T15:53:12.305Z"
   },
   {
    "duration": 168,
    "start_time": "2022-05-13T15:53:36.703Z"
   },
   {
    "duration": 177,
    "start_time": "2022-05-13T15:53:41.639Z"
   },
   {
    "duration": 139,
    "start_time": "2022-05-13T15:53:50.095Z"
   },
   {
    "duration": 33,
    "start_time": "2022-05-13T16:05:44.606Z"
   },
   {
    "duration": 11,
    "start_time": "2022-05-13T16:06:37.131Z"
   },
   {
    "duration": 51,
    "start_time": "2022-05-13T16:06:40.285Z"
   },
   {
    "duration": 32,
    "start_time": "2022-05-13T16:06:55.431Z"
   },
   {
    "duration": 47,
    "start_time": "2022-05-13T16:07:09.327Z"
   },
   {
    "duration": 30,
    "start_time": "2022-05-13T16:07:31.857Z"
   },
   {
    "duration": 15,
    "start_time": "2022-05-13T16:08:44.457Z"
   },
   {
    "duration": 22,
    "start_time": "2022-05-13T16:09:09.138Z"
   },
   {
    "duration": 16,
    "start_time": "2022-05-13T16:09:19.841Z"
   },
   {
    "duration": 24,
    "start_time": "2022-05-13T16:09:39.418Z"
   },
   {
    "duration": 23,
    "start_time": "2022-05-13T16:10:52.692Z"
   },
   {
    "duration": 13,
    "start_time": "2022-05-13T16:11:08.638Z"
   },
   {
    "duration": 16,
    "start_time": "2022-05-13T16:11:45.279Z"
   },
   {
    "duration": 135,
    "start_time": "2022-05-13T16:12:55.913Z"
   },
   {
    "duration": 120,
    "start_time": "2022-05-13T16:13:01.622Z"
   },
   {
    "duration": 20,
    "start_time": "2022-05-13T16:13:10.989Z"
   },
   {
    "duration": 27,
    "start_time": "2022-05-13T16:13:15.779Z"
   },
   {
    "duration": 20,
    "start_time": "2022-05-13T16:13:20.642Z"
   },
   {
    "duration": 2259,
    "start_time": "2022-05-13T16:16:27.460Z"
   },
   {
    "duration": 144,
    "start_time": "2022-05-13T16:16:34.487Z"
   },
   {
    "duration": 16,
    "start_time": "2022-05-13T16:16:37.773Z"
   },
   {
    "duration": 2260,
    "start_time": "2022-05-13T16:16:54.653Z"
   },
   {
    "duration": 2265,
    "start_time": "2022-05-13T16:17:02.068Z"
   },
   {
    "duration": 15,
    "start_time": "2022-05-13T16:17:07.873Z"
   },
   {
    "duration": 2132,
    "start_time": "2022-05-13T16:17:39.683Z"
   },
   {
    "duration": 2160,
    "start_time": "2022-05-13T16:17:52.243Z"
   },
   {
    "duration": 2183,
    "start_time": "2022-05-13T16:18:01.313Z"
   },
   {
    "duration": 22,
    "start_time": "2022-05-13T16:18:19.072Z"
   },
   {
    "duration": 19,
    "start_time": "2022-05-13T16:18:39.903Z"
   },
   {
    "duration": 13,
    "start_time": "2022-05-13T16:20:47.841Z"
   },
   {
    "duration": 14,
    "start_time": "2022-05-13T16:20:51.100Z"
   },
   {
    "duration": 15,
    "start_time": "2022-05-13T16:21:01.492Z"
   },
   {
    "duration": 15,
    "start_time": "2022-05-13T16:21:04.186Z"
   },
   {
    "duration": 16,
    "start_time": "2022-05-13T16:21:12.848Z"
   },
   {
    "duration": 20,
    "start_time": "2022-05-13T16:21:20.856Z"
   },
   {
    "duration": 15,
    "start_time": "2022-05-13T16:21:24.313Z"
   },
   {
    "duration": 12,
    "start_time": "2022-05-13T16:22:02.714Z"
   },
   {
    "duration": 14,
    "start_time": "2022-05-13T16:22:09.276Z"
   },
   {
    "duration": 16,
    "start_time": "2022-05-13T16:27:43.068Z"
   },
   {
    "duration": 30,
    "start_time": "2022-05-13T16:27:47.636Z"
   },
   {
    "duration": 18,
    "start_time": "2022-05-13T16:28:19.408Z"
   },
   {
    "duration": 23,
    "start_time": "2022-05-13T16:28:30.848Z"
   },
   {
    "duration": 14,
    "start_time": "2022-05-13T16:28:38.998Z"
   },
   {
    "duration": 15,
    "start_time": "2022-05-13T16:28:52.478Z"
   },
   {
    "duration": 12,
    "start_time": "2022-05-13T16:29:03.301Z"
   },
   {
    "duration": 8,
    "start_time": "2022-05-13T16:29:46.258Z"
   },
   {
    "duration": 26,
    "start_time": "2022-05-13T16:29:53.546Z"
   },
   {
    "duration": 24,
    "start_time": "2022-05-13T16:30:03.996Z"
   },
   {
    "duration": 32,
    "start_time": "2022-05-13T16:30:13.871Z"
   },
   {
    "duration": 1052,
    "start_time": "2022-05-13T16:31:19.282Z"
   },
   {
    "duration": 134,
    "start_time": "2022-05-13T16:32:00.530Z"
   },
   {
    "duration": 158,
    "start_time": "2022-05-13T16:32:06.857Z"
   },
   {
    "duration": 1160,
    "start_time": "2022-05-13T16:32:52.303Z"
   },
   {
    "duration": 957,
    "start_time": "2022-05-13T16:32:56.085Z"
   },
   {
    "duration": 389,
    "start_time": "2022-05-13T16:33:11.712Z"
   },
   {
    "duration": 1122,
    "start_time": "2022-05-13T16:34:03.724Z"
   },
   {
    "duration": 2025,
    "start_time": "2022-05-13T16:35:06.847Z"
   },
   {
    "duration": 166,
    "start_time": "2022-05-13T16:36:27.592Z"
   },
   {
    "duration": 23,
    "start_time": "2022-05-13T16:36:36.861Z"
   },
   {
    "duration": 28,
    "start_time": "2022-05-13T16:36:44.797Z"
   },
   {
    "duration": 28,
    "start_time": "2022-05-13T16:37:08.369Z"
   },
   {
    "duration": 46,
    "start_time": "2022-05-13T16:37:25.328Z"
   },
   {
    "duration": 27,
    "start_time": "2022-05-13T16:37:41.181Z"
   },
   {
    "duration": 8312,
    "start_time": "2022-05-13T16:38:36.316Z"
   },
   {
    "duration": 15,
    "start_time": "2022-05-13T16:44:32.976Z"
   },
   {
    "duration": 109,
    "start_time": "2022-05-13T16:44:41.233Z"
   },
   {
    "duration": 3627,
    "start_time": "2022-05-13T16:44:48.333Z"
   },
   {
    "duration": 553,
    "start_time": "2022-05-13T16:44:55.504Z"
   },
   {
    "duration": 115,
    "start_time": "2022-05-13T16:45:12.439Z"
   },
   {
    "duration": 105,
    "start_time": "2022-05-13T16:45:40.813Z"
   },
   {
    "duration": 260,
    "start_time": "2022-05-13T16:46:17.515Z"
   },
   {
    "duration": 257,
    "start_time": "2022-05-13T16:47:15.945Z"
   },
   {
    "duration": 901,
    "start_time": "2022-05-13T16:47:26.202Z"
   },
   {
    "duration": 370,
    "start_time": "2022-05-13T16:47:32.943Z"
   },
   {
    "duration": 569,
    "start_time": "2022-05-13T16:48:49.382Z"
   },
   {
    "duration": 347,
    "start_time": "2022-05-13T16:49:04.673Z"
   },
   {
    "duration": 352,
    "start_time": "2022-05-13T16:49:09.653Z"
   },
   {
    "duration": 828,
    "start_time": "2022-05-13T16:52:02.633Z"
   },
   {
    "duration": 52,
    "start_time": "2022-05-13T22:54:11.731Z"
   },
   {
    "duration": 957,
    "start_time": "2022-05-13T22:54:21.784Z"
   },
   {
    "duration": 6,
    "start_time": "2022-05-13T22:54:22.744Z"
   },
   {
    "duration": 17,
    "start_time": "2022-05-13T22:54:22.751Z"
   },
   {
    "duration": 5,
    "start_time": "2022-05-13T22:54:22.770Z"
   },
   {
    "duration": 6,
    "start_time": "2022-05-13T22:54:22.776Z"
   },
   {
    "duration": 42,
    "start_time": "2022-05-13T22:54:22.784Z"
   },
   {
    "duration": 5,
    "start_time": "2022-05-13T22:54:22.828Z"
   },
   {
    "duration": 12,
    "start_time": "2022-05-13T22:54:22.835Z"
   },
   {
    "duration": 14,
    "start_time": "2022-05-13T22:54:22.849Z"
   },
   {
    "duration": 10,
    "start_time": "2022-05-13T22:54:22.865Z"
   },
   {
    "duration": 52,
    "start_time": "2022-05-13T22:54:22.876Z"
   },
   {
    "duration": 6,
    "start_time": "2022-05-13T22:54:22.930Z"
   },
   {
    "duration": 16,
    "start_time": "2022-05-13T22:54:22.937Z"
   },
   {
    "duration": 13,
    "start_time": "2022-05-13T22:54:22.955Z"
   },
   {
    "duration": 18,
    "start_time": "2022-05-13T22:54:22.970Z"
   },
   {
    "duration": 191,
    "start_time": "2022-05-13T22:54:22.989Z"
   },
   {
    "duration": 182,
    "start_time": "2022-05-13T22:54:23.182Z"
   },
   {
    "duration": 13,
    "start_time": "2022-05-13T22:54:23.366Z"
   },
   {
    "duration": 564,
    "start_time": "2022-05-13T22:54:23.380Z"
   },
   {
    "duration": 130,
    "start_time": "2022-05-13T22:54:39.371Z"
   },
   {
    "duration": 735,
    "start_time": "2022-05-13T22:54:48.141Z"
   },
   {
    "duration": 5,
    "start_time": "2022-05-13T22:54:48.879Z"
   },
   {
    "duration": 25,
    "start_time": "2022-05-13T22:54:48.886Z"
   },
   {
    "duration": 9,
    "start_time": "2022-05-13T22:54:48.914Z"
   },
   {
    "duration": 17,
    "start_time": "2022-05-13T22:54:48.925Z"
   },
   {
    "duration": 22,
    "start_time": "2022-05-13T22:54:48.944Z"
   },
   {
    "duration": 6,
    "start_time": "2022-05-13T22:54:48.967Z"
   },
   {
    "duration": 25,
    "start_time": "2022-05-13T22:54:48.975Z"
   },
   {
    "duration": 29,
    "start_time": "2022-05-13T22:54:49.002Z"
   },
   {
    "duration": 12,
    "start_time": "2022-05-13T22:54:49.033Z"
   },
   {
    "duration": 23,
    "start_time": "2022-05-13T22:54:49.046Z"
   },
   {
    "duration": 6,
    "start_time": "2022-05-13T22:54:49.071Z"
   },
   {
    "duration": 17,
    "start_time": "2022-05-13T22:54:49.079Z"
   },
   {
    "duration": 36,
    "start_time": "2022-05-13T22:54:49.098Z"
   },
   {
    "duration": 17,
    "start_time": "2022-05-13T22:54:49.136Z"
   },
   {
    "duration": 177,
    "start_time": "2022-05-13T22:54:49.155Z"
   },
   {
    "duration": 174,
    "start_time": "2022-05-13T22:54:49.333Z"
   },
   {
    "duration": 21,
    "start_time": "2022-05-13T22:54:49.509Z"
   },
   {
    "duration": 533,
    "start_time": "2022-05-13T22:54:49.531Z"
   },
   {
    "duration": 749,
    "start_time": "2022-05-13T23:05:12.504Z"
   },
   {
    "duration": 80,
    "start_time": "2022-05-13T23:05:34.472Z"
   },
   {
    "duration": 692,
    "start_time": "2022-05-13T23:05:40.875Z"
   },
   {
    "duration": 637,
    "start_time": "2022-05-13T23:05:53.025Z"
   },
   {
    "duration": 465,
    "start_time": "2022-05-13T23:06:01.125Z"
   },
   {
    "duration": 194,
    "start_time": "2022-05-13T23:06:16.552Z"
   },
   {
    "duration": 650,
    "start_time": "2022-05-13T23:06:24.609Z"
   },
   {
    "duration": 6,
    "start_time": "2022-05-13T23:16:16.067Z"
   },
   {
    "duration": 24,
    "start_time": "2022-05-13T23:16:20.712Z"
   },
   {
    "duration": 8,
    "start_time": "2022-05-13T23:16:38.143Z"
   },
   {
    "duration": 8,
    "start_time": "2022-05-13T23:16:48.782Z"
   },
   {
    "duration": 20,
    "start_time": "2022-05-13T23:17:03.707Z"
   },
   {
    "duration": 529,
    "start_time": "2022-05-13T23:19:39.758Z"
   },
   {
    "duration": 447,
    "start_time": "2022-05-13T23:20:04.331Z"
   },
   {
    "duration": 528,
    "start_time": "2022-05-13T23:20:34.581Z"
   },
   {
    "duration": 165,
    "start_time": "2022-05-13T23:20:53.679Z"
   },
   {
    "duration": 427,
    "start_time": "2022-05-13T23:24:05.888Z"
   },
   {
    "duration": 247,
    "start_time": "2022-05-13T23:24:22.527Z"
   },
   {
    "duration": 403,
    "start_time": "2022-05-13T23:25:42.107Z"
   },
   {
    "duration": 408,
    "start_time": "2022-05-13T23:26:04.075Z"
   },
   {
    "duration": 696,
    "start_time": "2022-05-13T23:26:15.220Z"
   },
   {
    "duration": 576,
    "start_time": "2022-05-13T23:26:25.675Z"
   },
   {
    "duration": 608,
    "start_time": "2022-05-13T23:26:30.523Z"
   },
   {
    "duration": 666,
    "start_time": "2022-05-13T23:26:56.860Z"
   },
   {
    "duration": 168,
    "start_time": "2022-05-13T23:29:03.304Z"
   },
   {
    "duration": 614,
    "start_time": "2022-05-13T23:29:09.509Z"
   },
   {
    "duration": 18,
    "start_time": "2022-05-13T23:35:54.903Z"
   },
   {
    "duration": 23,
    "start_time": "2022-05-13T23:35:58.889Z"
   },
   {
    "duration": 7,
    "start_time": "2022-05-13T23:49:26.782Z"
   },
   {
    "duration": 23,
    "start_time": "2022-05-13T23:49:38.994Z"
   },
   {
    "duration": 12,
    "start_time": "2022-05-13T23:50:27.579Z"
   },
   {
    "duration": 11,
    "start_time": "2022-05-13T23:50:34.731Z"
   },
   {
    "duration": 289,
    "start_time": "2022-05-13T23:50:54.826Z"
   },
   {
    "duration": 106,
    "start_time": "2022-05-13T23:51:22.446Z"
   },
   {
    "duration": 190,
    "start_time": "2022-05-13T23:52:24.781Z"
   },
   {
    "duration": 218,
    "start_time": "2022-05-13T23:52:35.029Z"
   },
   {
    "duration": 12,
    "start_time": "2022-05-13T23:53:14.445Z"
   },
   {
    "duration": 243,
    "start_time": "2022-05-13T23:53:19.893Z"
   },
   {
    "duration": 248,
    "start_time": "2022-05-13T23:54:01.709Z"
   },
   {
    "duration": 12,
    "start_time": "2022-05-13T23:54:15.026Z"
   },
   {
    "duration": 13,
    "start_time": "2022-05-13T23:54:27.633Z"
   },
   {
    "duration": 213,
    "start_time": "2022-05-13T23:54:36.366Z"
   },
   {
    "duration": 8,
    "start_time": "2022-05-13T23:55:48.627Z"
   },
   {
    "duration": 4,
    "start_time": "2022-05-13T23:55:55.392Z"
   },
   {
    "duration": 13,
    "start_time": "2022-05-13T23:55:59.989Z"
   },
   {
    "duration": 13,
    "start_time": "2022-05-13T23:56:15.764Z"
   },
   {
    "duration": 13,
    "start_time": "2022-05-13T23:56:24.995Z"
   },
   {
    "duration": 189,
    "start_time": "2022-05-13T23:56:30.086Z"
   },
   {
    "duration": 104,
    "start_time": "2022-05-13T23:57:02.731Z"
   },
   {
    "duration": 115,
    "start_time": "2022-05-13T23:57:07.111Z"
   },
   {
    "duration": 105,
    "start_time": "2022-05-13T23:57:16.115Z"
   },
   {
    "duration": 96,
    "start_time": "2022-05-13T23:58:00.006Z"
   },
   {
    "duration": 11,
    "start_time": "2022-05-13T23:58:07.493Z"
   },
   {
    "duration": 100,
    "start_time": "2022-05-13T23:58:13.251Z"
   },
   {
    "duration": 114,
    "start_time": "2022-05-13T23:58:57.510Z"
   },
   {
    "duration": 126,
    "start_time": "2022-05-13T23:59:26.866Z"
   },
   {
    "duration": 95,
    "start_time": "2022-05-13T23:59:39.964Z"
   },
   {
    "duration": 94,
    "start_time": "2022-05-13T23:59:50.316Z"
   },
   {
    "duration": 99,
    "start_time": "2022-05-13T23:59:54.088Z"
   },
   {
    "duration": 177,
    "start_time": "2022-05-14T00:00:02.127Z"
   },
   {
    "duration": 106,
    "start_time": "2022-05-14T00:00:15.986Z"
   },
   {
    "duration": 105,
    "start_time": "2022-05-14T00:00:23.325Z"
   },
   {
    "duration": 109,
    "start_time": "2022-05-14T00:00:47.495Z"
   },
   {
    "duration": 97,
    "start_time": "2022-05-14T00:01:24.550Z"
   },
   {
    "duration": 105,
    "start_time": "2022-05-14T00:01:34.417Z"
   },
   {
    "duration": 90,
    "start_time": "2022-05-14T00:02:03.691Z"
   },
   {
    "duration": 107,
    "start_time": "2022-05-14T00:02:14.656Z"
   },
   {
    "duration": 105,
    "start_time": "2022-05-14T00:02:59.534Z"
   },
   {
    "duration": 113,
    "start_time": "2022-05-14T00:03:12.868Z"
   },
   {
    "duration": 118,
    "start_time": "2022-05-14T00:03:34.338Z"
   },
   {
    "duration": 110,
    "start_time": "2022-05-14T00:04:28.946Z"
   },
   {
    "duration": 105,
    "start_time": "2022-05-14T00:06:14.389Z"
   },
   {
    "duration": 20,
    "start_time": "2022-05-14T00:14:34.103Z"
   },
   {
    "duration": 765,
    "start_time": "2022-05-14T00:14:44.280Z"
   },
   {
    "duration": 5,
    "start_time": "2022-05-14T00:14:45.048Z"
   },
   {
    "duration": 19,
    "start_time": "2022-05-14T00:14:45.055Z"
   },
   {
    "duration": 4,
    "start_time": "2022-05-14T00:14:45.076Z"
   },
   {
    "duration": 16,
    "start_time": "2022-05-14T00:14:45.082Z"
   },
   {
    "duration": 28,
    "start_time": "2022-05-14T00:14:45.099Z"
   },
   {
    "duration": 6,
    "start_time": "2022-05-14T00:14:45.128Z"
   },
   {
    "duration": 13,
    "start_time": "2022-05-14T00:14:45.135Z"
   },
   {
    "duration": 17,
    "start_time": "2022-05-14T00:14:45.149Z"
   },
   {
    "duration": 9,
    "start_time": "2022-05-14T00:14:45.169Z"
   },
   {
    "duration": 43,
    "start_time": "2022-05-14T00:14:45.180Z"
   },
   {
    "duration": 7,
    "start_time": "2022-05-14T00:14:45.224Z"
   },
   {
    "duration": 15,
    "start_time": "2022-05-14T00:14:45.232Z"
   },
   {
    "duration": 15,
    "start_time": "2022-05-14T00:14:45.249Z"
   },
   {
    "duration": 19,
    "start_time": "2022-05-14T00:14:45.265Z"
   },
   {
    "duration": 196,
    "start_time": "2022-05-14T00:14:45.286Z"
   },
   {
    "duration": 184,
    "start_time": "2022-05-14T00:14:45.484Z"
   },
   {
    "duration": 13,
    "start_time": "2022-05-14T00:14:45.670Z"
   },
   {
    "duration": 609,
    "start_time": "2022-05-14T00:14:45.684Z"
   },
   {
    "duration": 28,
    "start_time": "2022-05-14T00:14:46.295Z"
   },
   {
    "duration": 614,
    "start_time": "2022-05-14T00:14:46.325Z"
   },
   {
    "duration": 127,
    "start_time": "2022-05-14T00:14:46.941Z"
   },
   {
    "duration": 108,
    "start_time": "2022-05-14T00:14:47.070Z"
   },
   {
    "duration": 124,
    "start_time": "2022-05-14T00:14:47.180Z"
   },
   {
    "duration": 87,
    "start_time": "2022-05-14T00:14:47.306Z"
   },
   {
    "duration": 22,
    "start_time": "2022-05-14T00:15:09.383Z"
   },
   {
    "duration": 19,
    "start_time": "2022-05-14T00:16:06.775Z"
   },
   {
    "duration": 29,
    "start_time": "2022-05-14T00:16:15.280Z"
   },
   {
    "duration": 106,
    "start_time": "2022-05-14T00:16:29.151Z"
   },
   {
    "duration": 24,
    "start_time": "2022-05-14T00:17:16.325Z"
   },
   {
    "duration": 12,
    "start_time": "2022-05-14T00:17:51.579Z"
   },
   {
    "duration": 13,
    "start_time": "2022-05-14T00:18:01.088Z"
   },
   {
    "duration": 14,
    "start_time": "2022-05-14T00:18:18.641Z"
   },
   {
    "duration": 6,
    "start_time": "2022-05-14T00:18:44.423Z"
   },
   {
    "duration": 15,
    "start_time": "2022-05-14T00:18:50.623Z"
   },
   {
    "duration": 11,
    "start_time": "2022-05-14T00:19:03.002Z"
   },
   {
    "duration": 16,
    "start_time": "2022-05-14T00:19:17.538Z"
   },
   {
    "duration": 414,
    "start_time": "2022-05-14T00:21:01.237Z"
   },
   {
    "duration": 443,
    "start_time": "2022-05-14T00:21:04.591Z"
   },
   {
    "duration": 577,
    "start_time": "2022-05-14T00:22:29.474Z"
   },
   {
    "duration": 656,
    "start_time": "2022-05-14T00:23:18.266Z"
   },
   {
    "duration": 550,
    "start_time": "2022-05-14T00:23:24.178Z"
   },
   {
    "duration": 9,
    "start_time": "2022-05-14T00:24:03.994Z"
   },
   {
    "duration": 13,
    "start_time": "2022-05-14T00:32:00.842Z"
   },
   {
    "duration": 12,
    "start_time": "2022-05-14T00:32:26.070Z"
   },
   {
    "duration": 12,
    "start_time": "2022-05-14T00:32:33.180Z"
   },
   {
    "duration": 22,
    "start_time": "2022-05-14T00:37:12.643Z"
   },
   {
    "duration": 5,
    "start_time": "2022-05-14T00:37:49.147Z"
   },
   {
    "duration": 21,
    "start_time": "2022-05-14T00:38:42.140Z"
   },
   {
    "duration": 11,
    "start_time": "2022-05-14T00:39:17.634Z"
   },
   {
    "duration": 27,
    "start_time": "2022-05-14T00:39:25.556Z"
   },
   {
    "duration": 14,
    "start_time": "2022-05-14T00:39:32.723Z"
   },
   {
    "duration": 15,
    "start_time": "2022-05-14T00:40:23.799Z"
   },
   {
    "duration": 15,
    "start_time": "2022-05-14T00:40:33.692Z"
   },
   {
    "duration": 15,
    "start_time": "2022-05-14T00:41:15.027Z"
   },
   {
    "duration": 780,
    "start_time": "2022-05-14T00:47:35.207Z"
   },
   {
    "duration": 5,
    "start_time": "2022-05-14T00:47:35.989Z"
   },
   {
    "duration": 42,
    "start_time": "2022-05-14T00:47:35.995Z"
   },
   {
    "duration": 24,
    "start_time": "2022-05-14T00:47:36.039Z"
   },
   {
    "duration": 26,
    "start_time": "2022-05-14T00:47:36.064Z"
   },
   {
    "duration": 36,
    "start_time": "2022-05-14T00:47:36.091Z"
   },
   {
    "duration": 16,
    "start_time": "2022-05-14T00:47:36.129Z"
   },
   {
    "duration": 38,
    "start_time": "2022-05-14T00:47:36.147Z"
   },
   {
    "duration": 31,
    "start_time": "2022-05-14T00:47:36.187Z"
   },
   {
    "duration": 28,
    "start_time": "2022-05-14T00:47:36.221Z"
   },
   {
    "duration": 32,
    "start_time": "2022-05-14T00:47:36.250Z"
   },
   {
    "duration": 18,
    "start_time": "2022-05-14T00:47:36.284Z"
   },
   {
    "duration": 18,
    "start_time": "2022-05-14T00:47:36.304Z"
   },
   {
    "duration": 13,
    "start_time": "2022-05-14T00:47:36.324Z"
   },
   {
    "duration": 30,
    "start_time": "2022-05-14T00:47:36.339Z"
   },
   {
    "duration": 148,
    "start_time": "2022-05-14T00:47:36.371Z"
   },
   {
    "duration": 175,
    "start_time": "2022-05-14T00:47:36.520Z"
   },
   {
    "duration": 12,
    "start_time": "2022-05-14T00:47:36.696Z"
   },
   {
    "duration": 610,
    "start_time": "2022-05-14T00:47:36.709Z"
   },
   {
    "duration": 18,
    "start_time": "2022-05-14T00:47:37.321Z"
   },
   {
    "duration": 617,
    "start_time": "2022-05-14T00:47:37.341Z"
   },
   {
    "duration": 125,
    "start_time": "2022-05-14T00:47:37.960Z"
   },
   {
    "duration": 100,
    "start_time": "2022-05-14T00:47:38.087Z"
   },
   {
    "duration": 118,
    "start_time": "2022-05-14T00:47:38.189Z"
   },
   {
    "duration": 650,
    "start_time": "2022-05-14T00:47:38.309Z"
   },
   {
    "duration": 9,
    "start_time": "2022-05-14T00:47:38.961Z"
   },
   {
    "duration": 24,
    "start_time": "2022-05-14T00:47:38.971Z"
   },
   {
    "duration": 13,
    "start_time": "2022-05-14T00:47:38.999Z"
   },
   {
    "duration": 19,
    "start_time": "2022-05-14T00:47:39.014Z"
   },
   {
    "duration": 817,
    "start_time": "2022-05-14T07:29:17.522Z"
   },
   {
    "duration": 5,
    "start_time": "2022-05-14T07:29:18.341Z"
   },
   {
    "duration": 23,
    "start_time": "2022-05-14T07:29:18.348Z"
   },
   {
    "duration": 15,
    "start_time": "2022-05-14T07:29:18.374Z"
   },
   {
    "duration": 6,
    "start_time": "2022-05-14T07:29:18.391Z"
   },
   {
    "duration": 14,
    "start_time": "2022-05-14T07:29:18.399Z"
   },
   {
    "duration": 4,
    "start_time": "2022-05-14T07:29:18.415Z"
   },
   {
    "duration": 11,
    "start_time": "2022-05-14T07:29:18.421Z"
   },
   {
    "duration": 14,
    "start_time": "2022-05-14T07:29:18.434Z"
   },
   {
    "duration": 41,
    "start_time": "2022-05-14T07:29:18.450Z"
   },
   {
    "duration": 19,
    "start_time": "2022-05-14T07:29:18.493Z"
   },
   {
    "duration": 6,
    "start_time": "2022-05-14T07:29:18.514Z"
   },
   {
    "duration": 17,
    "start_time": "2022-05-14T07:29:18.521Z"
   },
   {
    "duration": 14,
    "start_time": "2022-05-14T07:29:18.539Z"
   },
   {
    "duration": 52,
    "start_time": "2022-05-14T07:29:18.554Z"
   },
   {
    "duration": 164,
    "start_time": "2022-05-14T07:29:18.607Z"
   },
   {
    "duration": 175,
    "start_time": "2022-05-14T07:29:18.773Z"
   },
   {
    "duration": 14,
    "start_time": "2022-05-14T07:29:18.949Z"
   },
   {
    "duration": 631,
    "start_time": "2022-05-14T07:29:18.964Z"
   },
   {
    "duration": 19,
    "start_time": "2022-05-14T07:29:19.597Z"
   },
   {
    "duration": 621,
    "start_time": "2022-05-14T07:29:19.618Z"
   },
   {
    "duration": 122,
    "start_time": "2022-05-14T07:29:20.241Z"
   },
   {
    "duration": 114,
    "start_time": "2022-05-14T07:29:20.364Z"
   },
   {
    "duration": 125,
    "start_time": "2022-05-14T07:29:20.487Z"
   },
   {
    "duration": 662,
    "start_time": "2022-05-14T07:29:20.614Z"
   },
   {
    "duration": 9,
    "start_time": "2022-05-14T07:29:21.278Z"
   },
   {
    "duration": 14,
    "start_time": "2022-05-14T07:29:21.288Z"
   },
   {
    "duration": 10,
    "start_time": "2022-05-14T07:29:21.305Z"
   },
   {
    "duration": 12,
    "start_time": "2022-05-14T07:29:21.317Z"
   },
   {
    "duration": 21,
    "start_time": "2022-05-14T07:31:05.230Z"
   },
   {
    "duration": 14,
    "start_time": "2022-05-14T07:32:58.836Z"
   },
   {
    "duration": 12,
    "start_time": "2022-05-14T07:33:27.743Z"
   },
   {
    "duration": 13,
    "start_time": "2022-05-14T07:34:10.751Z"
   },
   {
    "duration": 8,
    "start_time": "2022-05-14T07:35:46.774Z"
   },
   {
    "duration": 13,
    "start_time": "2022-05-14T07:35:52.332Z"
   },
   {
    "duration": 8,
    "start_time": "2022-05-14T07:36:07.476Z"
   },
   {
    "duration": 4,
    "start_time": "2022-05-14T07:36:12.539Z"
   },
   {
    "duration": 4,
    "start_time": "2022-05-14T07:36:34.021Z"
   },
   {
    "duration": 5,
    "start_time": "2022-05-14T07:36:48.145Z"
   },
   {
    "duration": 14,
    "start_time": "2022-05-14T07:37:59.600Z"
   },
   {
    "duration": 76,
    "start_time": "2022-05-14T07:38:22.265Z"
   },
   {
    "duration": 14,
    "start_time": "2022-05-14T07:38:29.529Z"
   },
   {
    "duration": 14,
    "start_time": "2022-05-14T07:39:18.140Z"
   },
   {
    "duration": 12,
    "start_time": "2022-05-14T07:39:29.222Z"
   },
   {
    "duration": 16,
    "start_time": "2022-05-14T07:40:19.695Z"
   },
   {
    "duration": 13,
    "start_time": "2022-05-14T07:40:55.805Z"
   },
   {
    "duration": 20,
    "start_time": "2022-05-14T07:41:33.420Z"
   },
   {
    "duration": 21,
    "start_time": "2022-05-14T07:41:46.382Z"
   },
   {
    "duration": 15,
    "start_time": "2022-05-14T07:43:48.171Z"
   },
   {
    "duration": 4,
    "start_time": "2022-05-14T07:44:04.360Z"
   },
   {
    "duration": 14,
    "start_time": "2022-05-14T07:45:00.446Z"
   },
   {
    "duration": 5,
    "start_time": "2022-05-14T07:45:52.560Z"
   },
   {
    "duration": 85,
    "start_time": "2022-05-14T07:46:18.989Z"
   },
   {
    "duration": 15,
    "start_time": "2022-05-14T07:47:30.076Z"
   },
   {
    "duration": 4,
    "start_time": "2022-05-14T07:48:26.481Z"
   },
   {
    "duration": 9,
    "start_time": "2022-05-14T07:52:45.183Z"
   },
   {
    "duration": 7,
    "start_time": "2022-05-14T07:52:55.450Z"
   },
   {
    "duration": 86,
    "start_time": "2022-05-14T07:52:57.889Z"
   },
   {
    "duration": 9,
    "start_time": "2022-05-14T07:53:00.352Z"
   },
   {
    "duration": 13,
    "start_time": "2022-05-14T08:02:19.290Z"
   },
   {
    "duration": 5,
    "start_time": "2022-05-14T08:02:47.295Z"
   },
   {
    "duration": 14,
    "start_time": "2022-05-14T08:04:09.113Z"
   },
   {
    "duration": 5,
    "start_time": "2022-05-14T08:04:39.192Z"
   },
   {
    "duration": 15,
    "start_time": "2022-05-14T08:05:58.037Z"
   },
   {
    "duration": 5,
    "start_time": "2022-05-14T08:06:28.031Z"
   },
   {
    "duration": 8,
    "start_time": "2022-05-14T08:07:20.581Z"
   },
   {
    "duration": 20,
    "start_time": "2022-05-14T08:25:12.975Z"
   },
   {
    "duration": 9,
    "start_time": "2022-05-14T08:27:49.344Z"
   },
   {
    "duration": 13,
    "start_time": "2022-05-14T08:27:55.862Z"
   },
   {
    "duration": 15,
    "start_time": "2022-05-14T08:28:23.343Z"
   },
   {
    "duration": 25,
    "start_time": "2022-05-14T08:29:58.070Z"
   },
   {
    "duration": 29,
    "start_time": "2022-05-14T08:30:03.940Z"
   },
   {
    "duration": 26,
    "start_time": "2022-05-14T08:30:35.379Z"
   },
   {
    "duration": 35,
    "start_time": "2022-05-14T08:30:42.917Z"
   },
   {
    "duration": 449,
    "start_time": "2022-05-14T08:45:17.337Z"
   },
   {
    "duration": 1175,
    "start_time": "2022-05-14T08:45:27.896Z"
   },
   {
    "duration": 5,
    "start_time": "2022-05-14T08:45:29.073Z"
   },
   {
    "duration": 26,
    "start_time": "2022-05-14T08:45:29.080Z"
   },
   {
    "duration": 4,
    "start_time": "2022-05-14T08:45:29.108Z"
   },
   {
    "duration": 7,
    "start_time": "2022-05-14T08:45:29.114Z"
   },
   {
    "duration": 13,
    "start_time": "2022-05-14T08:45:29.122Z"
   },
   {
    "duration": 4,
    "start_time": "2022-05-14T08:45:29.137Z"
   },
   {
    "duration": 11,
    "start_time": "2022-05-14T08:45:29.143Z"
   },
   {
    "duration": 39,
    "start_time": "2022-05-14T08:45:29.155Z"
   },
   {
    "duration": 9,
    "start_time": "2022-05-14T08:45:29.197Z"
   },
   {
    "duration": 19,
    "start_time": "2022-05-14T08:45:29.208Z"
   },
   {
    "duration": 7,
    "start_time": "2022-05-14T08:45:29.228Z"
   },
   {
    "duration": 16,
    "start_time": "2022-05-14T08:45:29.237Z"
   },
   {
    "duration": 14,
    "start_time": "2022-05-14T08:45:29.288Z"
   },
   {
    "duration": 18,
    "start_time": "2022-05-14T08:45:29.304Z"
   },
   {
    "duration": 176,
    "start_time": "2022-05-14T08:45:29.323Z"
   },
   {
    "duration": 182,
    "start_time": "2022-05-14T08:45:29.500Z"
   },
   {
    "duration": 15,
    "start_time": "2022-05-14T08:45:29.684Z"
   },
   {
    "duration": 587,
    "start_time": "2022-05-14T08:45:29.701Z"
   },
   {
    "duration": 19,
    "start_time": "2022-05-14T08:45:30.290Z"
   },
   {
    "duration": 754,
    "start_time": "2022-05-14T08:45:30.311Z"
   },
   {
    "duration": 121,
    "start_time": "2022-05-14T08:45:31.067Z"
   },
   {
    "duration": 109,
    "start_time": "2022-05-14T08:45:31.190Z"
   },
   {
    "duration": 123,
    "start_time": "2022-05-14T08:45:31.301Z"
   },
   {
    "duration": 587,
    "start_time": "2022-05-14T08:45:31.426Z"
   },
   {
    "duration": 9,
    "start_time": "2022-05-14T08:45:32.015Z"
   },
   {
    "duration": 23,
    "start_time": "2022-05-14T08:45:32.025Z"
   },
   {
    "duration": 14,
    "start_time": "2022-05-14T08:45:32.052Z"
   },
   {
    "duration": 17,
    "start_time": "2022-05-14T08:45:32.068Z"
   },
   {
    "duration": 15,
    "start_time": "2022-05-14T08:45:32.087Z"
   },
   {
    "duration": 10,
    "start_time": "2022-05-14T08:45:32.103Z"
   },
   {
    "duration": 17,
    "start_time": "2022-05-14T08:45:32.115Z"
   },
   {
    "duration": 21,
    "start_time": "2022-05-14T08:45:32.133Z"
   },
   {
    "duration": 53,
    "start_time": "2022-05-14T08:45:32.155Z"
   },
   {
    "duration": 5,
    "start_time": "2022-05-14T08:45:32.210Z"
   },
   {
    "duration": 31,
    "start_time": "2022-05-14T08:45:32.217Z"
   },
   {
    "duration": 6,
    "start_time": "2022-05-14T08:45:32.249Z"
   },
   {
    "duration": 18,
    "start_time": "2022-05-14T08:45:32.256Z"
   },
   {
    "duration": 4,
    "start_time": "2022-05-14T08:45:32.276Z"
   },
   {
    "duration": 20,
    "start_time": "2022-05-14T08:45:32.281Z"
   },
   {
    "duration": 4,
    "start_time": "2022-05-14T08:45:32.303Z"
   },
   {
    "duration": 35,
    "start_time": "2022-05-14T08:45:32.308Z"
   },
   {
    "duration": 19,
    "start_time": "2022-05-14T08:51:39.152Z"
   },
   {
    "duration": 4,
    "start_time": "2022-05-14T08:52:24.431Z"
   },
   {
    "duration": 11,
    "start_time": "2022-05-14T08:52:29.885Z"
   },
   {
    "duration": 13,
    "start_time": "2022-05-14T08:53:26.238Z"
   },
   {
    "duration": 18,
    "start_time": "2022-05-14T08:54:13.189Z"
   },
   {
    "duration": 11,
    "start_time": "2022-05-14T08:55:05.246Z"
   },
   {
    "duration": 80,
    "start_time": "2022-05-14T08:55:32.309Z"
   },
   {
    "duration": 13,
    "start_time": "2022-05-14T08:55:42.609Z"
   },
   {
    "duration": 14,
    "start_time": "2022-05-14T08:56:08.600Z"
   },
   {
    "duration": 12,
    "start_time": "2022-05-14T08:56:14.211Z"
   },
   {
    "duration": 15,
    "start_time": "2022-05-14T08:56:20.037Z"
   },
   {
    "duration": 11,
    "start_time": "2022-05-14T08:56:35.646Z"
   },
   {
    "duration": 12,
    "start_time": "2022-05-14T08:56:41.812Z"
   },
   {
    "duration": 24,
    "start_time": "2022-05-14T08:56:51.261Z"
   },
   {
    "duration": 9,
    "start_time": "2022-05-14T08:57:02.711Z"
   },
   {
    "duration": 9,
    "start_time": "2022-05-14T08:57:08.384Z"
   },
   {
    "duration": 10,
    "start_time": "2022-05-14T08:58:44.304Z"
   },
   {
    "duration": 14,
    "start_time": "2022-05-14T08:58:52.395Z"
   },
   {
    "duration": 14,
    "start_time": "2022-05-14T08:59:05.808Z"
   },
   {
    "duration": 7,
    "start_time": "2022-05-14T09:00:56.112Z"
   },
   {
    "duration": 15,
    "start_time": "2022-05-14T09:01:01.476Z"
   },
   {
    "duration": 14,
    "start_time": "2022-05-14T09:01:26.487Z"
   },
   {
    "duration": 9,
    "start_time": "2022-05-14T09:01:56.356Z"
   },
   {
    "duration": 12,
    "start_time": "2022-05-14T09:02:18.961Z"
   },
   {
    "duration": 9,
    "start_time": "2022-05-14T09:02:36.535Z"
   },
   {
    "duration": 5,
    "start_time": "2022-05-14T09:04:29.516Z"
   },
   {
    "duration": 5,
    "start_time": "2022-05-14T09:08:38.899Z"
   },
   {
    "duration": 4,
    "start_time": "2022-05-14T09:09:02.915Z"
   },
   {
    "duration": 113,
    "start_time": "2022-05-14T09:09:52.608Z"
   },
   {
    "duration": 11,
    "start_time": "2022-05-14T09:10:16.834Z"
   },
   {
    "duration": 17,
    "start_time": "2022-05-14T09:10:25.801Z"
   },
   {
    "duration": 12,
    "start_time": "2022-05-14T09:10:34.178Z"
   },
   {
    "duration": 10,
    "start_time": "2022-05-14T09:10:41.843Z"
   },
   {
    "duration": 6,
    "start_time": "2022-05-14T09:11:35.178Z"
   },
   {
    "duration": 5,
    "start_time": "2022-05-14T09:11:49.916Z"
   },
   {
    "duration": 5,
    "start_time": "2022-05-14T09:12:05.286Z"
   },
   {
    "duration": 6,
    "start_time": "2022-05-14T09:40:32.002Z"
   },
   {
    "duration": 1147,
    "start_time": "2022-05-14T09:47:06.353Z"
   },
   {
    "duration": 5,
    "start_time": "2022-05-14T09:47:07.501Z"
   },
   {
    "duration": 16,
    "start_time": "2022-05-14T09:47:07.508Z"
   },
   {
    "duration": 5,
    "start_time": "2022-05-14T09:47:07.526Z"
   },
   {
    "duration": 7,
    "start_time": "2022-05-14T09:47:07.532Z"
   },
   {
    "duration": 14,
    "start_time": "2022-05-14T09:47:07.540Z"
   },
   {
    "duration": 33,
    "start_time": "2022-05-14T09:47:07.555Z"
   },
   {
    "duration": 10,
    "start_time": "2022-05-14T09:47:07.590Z"
   },
   {
    "duration": 14,
    "start_time": "2022-05-14T09:47:07.602Z"
   },
   {
    "duration": 8,
    "start_time": "2022-05-14T09:47:07.619Z"
   },
   {
    "duration": 20,
    "start_time": "2022-05-14T09:47:07.628Z"
   },
   {
    "duration": 6,
    "start_time": "2022-05-14T09:47:07.649Z"
   },
   {
    "duration": 16,
    "start_time": "2022-05-14T09:47:07.688Z"
   },
   {
    "duration": 13,
    "start_time": "2022-05-14T09:47:07.705Z"
   },
   {
    "duration": 20,
    "start_time": "2022-05-14T09:47:07.719Z"
   },
   {
    "duration": 181,
    "start_time": "2022-05-14T09:47:07.740Z"
   },
   {
    "duration": 179,
    "start_time": "2022-05-14T09:47:07.923Z"
   },
   {
    "duration": 13,
    "start_time": "2022-05-14T09:47:08.103Z"
   },
   {
    "duration": 556,
    "start_time": "2022-05-14T09:47:08.117Z"
   },
   {
    "duration": 24,
    "start_time": "2022-05-14T09:47:08.674Z"
   },
   {
    "duration": 700,
    "start_time": "2022-05-14T09:47:08.699Z"
   },
   {
    "duration": 119,
    "start_time": "2022-05-14T09:47:09.401Z"
   },
   {
    "duration": 100,
    "start_time": "2022-05-14T09:47:09.521Z"
   },
   {
    "duration": 124,
    "start_time": "2022-05-14T09:47:09.622Z"
   },
   {
    "duration": 576,
    "start_time": "2022-05-14T09:47:09.747Z"
   },
   {
    "duration": 9,
    "start_time": "2022-05-14T09:47:10.325Z"
   },
   {
    "duration": 15,
    "start_time": "2022-05-14T09:47:10.335Z"
   },
   {
    "duration": 11,
    "start_time": "2022-05-14T09:47:10.353Z"
   },
   {
    "duration": 13,
    "start_time": "2022-05-14T09:47:10.365Z"
   },
   {
    "duration": 16,
    "start_time": "2022-05-14T09:47:10.380Z"
   },
   {
    "duration": 4,
    "start_time": "2022-05-14T09:47:10.398Z"
   },
   {
    "duration": 17,
    "start_time": "2022-05-14T09:47:10.403Z"
   },
   {
    "duration": 4,
    "start_time": "2022-05-14T09:47:10.421Z"
   },
   {
    "duration": 13,
    "start_time": "2022-05-14T09:47:10.427Z"
   },
   {
    "duration": 3,
    "start_time": "2022-05-14T09:47:10.442Z"
   },
   {
    "duration": 50,
    "start_time": "2022-05-14T09:47:10.447Z"
   },
   {
    "duration": 4,
    "start_time": "2022-05-14T09:47:10.499Z"
   },
   {
    "duration": 14,
    "start_time": "2022-05-14T09:47:10.504Z"
   },
   {
    "duration": 3,
    "start_time": "2022-05-14T09:47:10.520Z"
   },
   {
    "duration": 14,
    "start_time": "2022-05-14T09:47:10.525Z"
   },
   {
    "duration": 4,
    "start_time": "2022-05-14T09:47:10.540Z"
   },
   {
    "duration": 62,
    "start_time": "2022-05-14T09:47:10.545Z"
   },
   {
    "duration": 8,
    "start_time": "2022-05-14T09:47:10.609Z"
   },
   {
    "duration": 5,
    "start_time": "2022-05-14T09:47:10.618Z"
   },
   {
    "duration": 13,
    "start_time": "2022-05-14T09:47:10.624Z"
   },
   {
    "duration": 5,
    "start_time": "2022-05-14T09:47:10.638Z"
   },
   {
    "duration": 1222,
    "start_time": "2022-05-14T09:54:48.780Z"
   },
   {
    "duration": 5,
    "start_time": "2022-05-14T09:54:50.005Z"
   },
   {
    "duration": 21,
    "start_time": "2022-05-14T09:54:50.012Z"
   },
   {
    "duration": 5,
    "start_time": "2022-05-14T09:54:50.036Z"
   },
   {
    "duration": 14,
    "start_time": "2022-05-14T09:54:50.043Z"
   },
   {
    "duration": 32,
    "start_time": "2022-05-14T09:54:50.059Z"
   },
   {
    "duration": 5,
    "start_time": "2022-05-14T09:54:50.093Z"
   },
   {
    "duration": 13,
    "start_time": "2022-05-14T09:54:50.100Z"
   },
   {
    "duration": 19,
    "start_time": "2022-05-14T09:54:50.115Z"
   },
   {
    "duration": 8,
    "start_time": "2022-05-14T09:54:50.137Z"
   },
   {
    "duration": 41,
    "start_time": "2022-05-14T09:54:50.147Z"
   },
   {
    "duration": 6,
    "start_time": "2022-05-14T09:54:50.190Z"
   },
   {
    "duration": 15,
    "start_time": "2022-05-14T09:54:50.198Z"
   },
   {
    "duration": 13,
    "start_time": "2022-05-14T09:54:50.215Z"
   },
   {
    "duration": 19,
    "start_time": "2022-05-14T09:54:50.229Z"
   },
   {
    "duration": 192,
    "start_time": "2022-05-14T09:54:50.249Z"
   },
   {
    "duration": 196,
    "start_time": "2022-05-14T09:54:50.442Z"
   },
   {
    "duration": 13,
    "start_time": "2022-05-14T09:54:50.639Z"
   },
   {
    "duration": 605,
    "start_time": "2022-05-14T09:54:50.654Z"
   },
   {
    "duration": 29,
    "start_time": "2022-05-14T09:54:51.261Z"
   },
   {
    "duration": 719,
    "start_time": "2022-05-14T09:54:51.292Z"
   },
   {
    "duration": 127,
    "start_time": "2022-05-14T09:54:52.013Z"
   },
   {
    "duration": 111,
    "start_time": "2022-05-14T09:54:52.142Z"
   },
   {
    "duration": 115,
    "start_time": "2022-05-14T09:54:52.255Z"
   },
   {
    "duration": 607,
    "start_time": "2022-05-14T09:54:52.389Z"
   },
   {
    "duration": 9,
    "start_time": "2022-05-14T09:54:52.999Z"
   },
   {
    "duration": 14,
    "start_time": "2022-05-14T09:54:53.010Z"
   },
   {
    "duration": 12,
    "start_time": "2022-05-14T09:54:53.028Z"
   },
   {
    "duration": 15,
    "start_time": "2022-05-14T09:54:53.043Z"
   },
   {
    "duration": 39,
    "start_time": "2022-05-14T09:54:53.060Z"
   },
   {
    "duration": 4,
    "start_time": "2022-05-14T09:54:53.101Z"
   },
   {
    "duration": 24,
    "start_time": "2022-05-14T09:54:53.107Z"
   },
   {
    "duration": 6,
    "start_time": "2022-05-14T09:54:53.132Z"
   },
   {
    "duration": 19,
    "start_time": "2022-05-14T09:54:53.139Z"
   },
   {
    "duration": 4,
    "start_time": "2022-05-14T09:54:53.160Z"
   },
   {
    "duration": 32,
    "start_time": "2022-05-14T09:54:53.166Z"
   },
   {
    "duration": 4,
    "start_time": "2022-05-14T09:54:53.200Z"
   },
   {
    "duration": 57,
    "start_time": "2022-05-14T09:54:53.205Z"
   },
   {
    "duration": 4,
    "start_time": "2022-05-14T09:54:53.263Z"
   },
   {
    "duration": 26,
    "start_time": "2022-05-14T09:54:53.269Z"
   },
   {
    "duration": 4,
    "start_time": "2022-05-14T09:54:53.297Z"
   },
   {
    "duration": 37,
    "start_time": "2022-05-14T09:54:53.303Z"
   },
   {
    "duration": 9,
    "start_time": "2022-05-14T09:54:53.341Z"
   },
   {
    "duration": 7,
    "start_time": "2022-05-14T09:54:53.351Z"
   },
   {
    "duration": 29,
    "start_time": "2022-05-14T09:54:53.359Z"
   },
   {
    "duration": 4,
    "start_time": "2022-05-14T09:54:53.390Z"
   },
   {
    "duration": 1811,
    "start_time": "2022-05-14T14:37:15.305Z"
   },
   {
    "duration": 7,
    "start_time": "2022-05-14T14:37:17.119Z"
   },
   {
    "duration": 29,
    "start_time": "2022-05-14T14:37:17.128Z"
   },
   {
    "duration": 6,
    "start_time": "2022-05-14T14:37:17.160Z"
   },
   {
    "duration": 27,
    "start_time": "2022-05-14T14:37:17.168Z"
   },
   {
    "duration": 18,
    "start_time": "2022-05-14T14:37:17.197Z"
   },
   {
    "duration": 8,
    "start_time": "2022-05-14T14:37:17.218Z"
   },
   {
    "duration": 22,
    "start_time": "2022-05-14T14:37:17.228Z"
   },
   {
    "duration": 63,
    "start_time": "2022-05-14T14:37:17.252Z"
   },
   {
    "duration": 12,
    "start_time": "2022-05-14T14:37:17.321Z"
   },
   {
    "duration": 59,
    "start_time": "2022-05-14T14:37:17.335Z"
   },
   {
    "duration": 9,
    "start_time": "2022-05-14T14:37:17.396Z"
   },
   {
    "duration": 37,
    "start_time": "2022-05-14T14:37:17.408Z"
   },
   {
    "duration": 22,
    "start_time": "2022-05-14T14:37:17.447Z"
   },
   {
    "duration": 63,
    "start_time": "2022-05-14T14:37:17.471Z"
   },
   {
    "duration": 275,
    "start_time": "2022-05-14T14:37:17.537Z"
   },
   {
    "duration": 293,
    "start_time": "2022-05-14T14:37:17.815Z"
   },
   {
    "duration": 19,
    "start_time": "2022-05-14T14:37:18.110Z"
   },
   {
    "duration": 949,
    "start_time": "2022-05-14T14:37:18.132Z"
   },
   {
    "duration": 34,
    "start_time": "2022-05-14T14:37:19.084Z"
   },
   {
    "duration": 1117,
    "start_time": "2022-05-14T14:37:19.120Z"
   },
   {
    "duration": 201,
    "start_time": "2022-05-14T14:37:20.240Z"
   },
   {
    "duration": 169,
    "start_time": "2022-05-14T14:37:20.444Z"
   },
   {
    "duration": 378,
    "start_time": "2022-05-14T14:37:20.615Z"
   },
   {
    "duration": 1132,
    "start_time": "2022-05-14T14:37:20.996Z"
   },
   {
    "duration": 12,
    "start_time": "2022-05-14T14:37:22.130Z"
   },
   {
    "duration": 19,
    "start_time": "2022-05-14T14:37:22.144Z"
   },
   {
    "duration": 24,
    "start_time": "2022-05-14T14:37:22.168Z"
   },
   {
    "duration": 20,
    "start_time": "2022-05-14T14:37:22.195Z"
   },
   {
    "duration": 20,
    "start_time": "2022-05-14T14:37:22.216Z"
   },
   {
    "duration": 8,
    "start_time": "2022-05-14T14:37:22.238Z"
   },
   {
    "duration": 22,
    "start_time": "2022-05-14T14:37:22.248Z"
   },
   {
    "duration": 6,
    "start_time": "2022-05-14T14:37:22.272Z"
   },
   {
    "duration": 29,
    "start_time": "2022-05-14T14:37:22.280Z"
   },
   {
    "duration": 10,
    "start_time": "2022-05-14T14:37:22.311Z"
   },
   {
    "duration": 100,
    "start_time": "2022-05-14T14:37:22.324Z"
   },
   {
    "duration": 7,
    "start_time": "2022-05-14T14:37:22.426Z"
   },
   {
    "duration": 21,
    "start_time": "2022-05-14T14:37:22.435Z"
   },
   {
    "duration": 6,
    "start_time": "2022-05-14T14:37:22.458Z"
   },
   {
    "duration": 19,
    "start_time": "2022-05-14T14:37:22.466Z"
   },
   {
    "duration": 6,
    "start_time": "2022-05-14T14:37:22.487Z"
   },
   {
    "duration": 47,
    "start_time": "2022-05-14T14:37:22.495Z"
   },
   {
    "duration": 12,
    "start_time": "2022-05-14T14:37:22.544Z"
   },
   {
    "duration": 13,
    "start_time": "2022-05-14T14:37:22.558Z"
   },
   {
    "duration": 14,
    "start_time": "2022-05-14T14:37:22.573Z"
   },
   {
    "duration": 7,
    "start_time": "2022-05-14T14:37:22.592Z"
   },
   {
    "duration": 106,
    "start_time": "2022-05-14T14:55:49.190Z"
   },
   {
    "duration": 1486,
    "start_time": "2022-05-14T14:56:02.125Z"
   },
   {
    "duration": 6,
    "start_time": "2022-05-14T14:56:03.614Z"
   },
   {
    "duration": 23,
    "start_time": "2022-05-14T14:56:03.622Z"
   },
   {
    "duration": 6,
    "start_time": "2022-05-14T14:56:03.648Z"
   },
   {
    "duration": 11,
    "start_time": "2022-05-14T14:56:03.656Z"
   },
   {
    "duration": 38,
    "start_time": "2022-05-14T14:56:03.669Z"
   },
   {
    "duration": 8,
    "start_time": "2022-05-14T14:56:03.709Z"
   },
   {
    "duration": 18,
    "start_time": "2022-05-14T14:56:03.720Z"
   },
   {
    "duration": 64,
    "start_time": "2022-05-14T14:56:03.741Z"
   },
   {
    "duration": 12,
    "start_time": "2022-05-14T14:56:03.811Z"
   },
   {
    "duration": 31,
    "start_time": "2022-05-14T14:56:03.825Z"
   },
   {
    "duration": 40,
    "start_time": "2022-05-14T14:56:03.858Z"
   },
   {
    "duration": 23,
    "start_time": "2022-05-14T14:56:03.900Z"
   },
   {
    "duration": 20,
    "start_time": "2022-05-14T14:56:03.925Z"
   },
   {
    "duration": 65,
    "start_time": "2022-05-14T14:56:03.947Z"
   },
   {
    "duration": 120,
    "start_time": "2022-05-14T14:56:04.014Z"
   },
   {
    "duration": 248,
    "start_time": "2022-05-14T14:56:04.136Z"
   },
   {
    "duration": 287,
    "start_time": "2022-05-14T14:56:04.386Z"
   },
   {
    "duration": 28,
    "start_time": "2022-05-14T14:56:04.675Z"
   },
   {
    "duration": 945,
    "start_time": "2022-05-14T14:56:04.705Z"
   },
   {
    "duration": 46,
    "start_time": "2022-05-14T14:56:05.652Z"
   },
   {
    "duration": 1182,
    "start_time": "2022-05-14T14:56:05.700Z"
   },
   {
    "duration": 194,
    "start_time": "2022-05-14T14:56:06.884Z"
   },
   {
    "duration": 169,
    "start_time": "2022-05-14T14:56:07.080Z"
   },
   {
    "duration": 191,
    "start_time": "2022-05-14T14:56:07.251Z"
   },
   {
    "duration": 913,
    "start_time": "2022-05-14T14:56:07.445Z"
   },
   {
    "duration": 14,
    "start_time": "2022-05-14T14:56:08.360Z"
   },
   {
    "duration": 17,
    "start_time": "2022-05-14T14:56:08.397Z"
   },
   {
    "duration": 16,
    "start_time": "2022-05-14T14:56:08.417Z"
   },
   {
    "duration": 20,
    "start_time": "2022-05-14T14:56:08.435Z"
   },
   {
    "duration": 49,
    "start_time": "2022-05-14T14:56:08.457Z"
   },
   {
    "duration": 9,
    "start_time": "2022-05-14T14:56:08.508Z"
   },
   {
    "duration": 22,
    "start_time": "2022-05-14T14:56:08.519Z"
   },
   {
    "duration": 6,
    "start_time": "2022-05-14T14:56:08.544Z"
   },
   {
    "duration": 56,
    "start_time": "2022-05-14T14:56:08.553Z"
   },
   {
    "duration": 6,
    "start_time": "2022-05-14T14:56:08.612Z"
   },
   {
    "duration": 22,
    "start_time": "2022-05-14T14:56:08.621Z"
   },
   {
    "duration": 52,
    "start_time": "2022-05-14T14:56:08.646Z"
   },
   {
    "duration": 21,
    "start_time": "2022-05-14T14:56:08.701Z"
   },
   {
    "duration": 7,
    "start_time": "2022-05-14T14:56:08.725Z"
   },
   {
    "duration": 63,
    "start_time": "2022-05-14T14:56:08.734Z"
   },
   {
    "duration": 7,
    "start_time": "2022-05-14T14:56:08.800Z"
   },
   {
    "duration": 49,
    "start_time": "2022-05-14T14:56:08.810Z"
   },
   {
    "duration": 43,
    "start_time": "2022-05-14T14:56:08.862Z"
   },
   {
    "duration": 12,
    "start_time": "2022-05-14T14:56:08.907Z"
   },
   {
    "duration": 15,
    "start_time": "2022-05-14T14:56:08.921Z"
   },
   {
    "duration": 6,
    "start_time": "2022-05-14T14:56:08.938Z"
   },
   {
    "duration": 13,
    "start_time": "2022-05-14T15:09:54.546Z"
   },
   {
    "duration": 1755,
    "start_time": "2022-05-15T11:12:13.093Z"
   },
   {
    "duration": 82,
    "start_time": "2022-05-15T11:12:14.851Z"
   },
   {
    "duration": 7,
    "start_time": "2022-05-15T11:12:14.935Z"
   },
   {
    "duration": 42,
    "start_time": "2022-05-15T11:12:14.945Z"
   },
   {
    "duration": 7,
    "start_time": "2022-05-15T11:12:14.989Z"
   },
   {
    "duration": 14,
    "start_time": "2022-05-15T11:12:14.998Z"
   },
   {
    "duration": 24,
    "start_time": "2022-05-15T11:12:15.014Z"
   },
   {
    "duration": 8,
    "start_time": "2022-05-15T11:12:15.041Z"
   },
   {
    "duration": 17,
    "start_time": "2022-05-15T11:12:15.081Z"
   },
   {
    "duration": 20,
    "start_time": "2022-05-15T11:12:15.104Z"
   },
   {
    "duration": 14,
    "start_time": "2022-05-15T11:12:15.127Z"
   },
   {
    "duration": 29,
    "start_time": "2022-05-15T11:12:15.183Z"
   },
   {
    "duration": 11,
    "start_time": "2022-05-15T11:12:15.215Z"
   },
   {
    "duration": 59,
    "start_time": "2022-05-15T11:12:15.229Z"
   },
   {
    "duration": 19,
    "start_time": "2022-05-15T11:12:15.291Z"
   },
   {
    "duration": 27,
    "start_time": "2022-05-15T11:12:15.312Z"
   },
   {
    "duration": 140,
    "start_time": "2022-05-15T11:12:15.341Z"
   },
   {
    "duration": 254,
    "start_time": "2022-05-15T11:12:15.483Z"
   },
   {
    "duration": 307,
    "start_time": "2022-05-15T11:12:15.739Z"
   },
   {
    "duration": 32,
    "start_time": "2022-05-15T11:12:16.049Z"
   },
   {
    "duration": 1033,
    "start_time": "2022-05-15T11:12:16.084Z"
   },
   {
    "duration": 29,
    "start_time": "2022-05-15T11:12:17.119Z"
   },
   {
    "duration": 1150,
    "start_time": "2022-05-15T11:12:17.150Z"
   },
   {
    "duration": 204,
    "start_time": "2022-05-15T11:12:18.302Z"
   },
   {
    "duration": 168,
    "start_time": "2022-05-15T11:12:18.509Z"
   },
   {
    "duration": 196,
    "start_time": "2022-05-15T11:12:18.682Z"
   },
   {
    "duration": 972,
    "start_time": "2022-05-15T11:12:18.882Z"
   },
   {
    "duration": 12,
    "start_time": "2022-05-15T11:12:19.859Z"
   },
   {
    "duration": 16,
    "start_time": "2022-05-15T11:12:19.882Z"
   },
   {
    "duration": 17,
    "start_time": "2022-05-15T11:12:19.900Z"
   },
   {
    "duration": 20,
    "start_time": "2022-05-15T11:12:19.919Z"
   },
   {
    "duration": 53,
    "start_time": "2022-05-15T11:12:19.941Z"
   },
   {
    "duration": 6,
    "start_time": "2022-05-15T11:12:19.996Z"
   },
   {
    "duration": 22,
    "start_time": "2022-05-15T11:12:20.005Z"
   },
   {
    "duration": 5,
    "start_time": "2022-05-15T11:12:20.030Z"
   },
   {
    "duration": 55,
    "start_time": "2022-05-15T11:12:20.037Z"
   },
   {
    "duration": 5,
    "start_time": "2022-05-15T11:12:20.094Z"
   },
   {
    "duration": 23,
    "start_time": "2022-05-15T11:12:20.101Z"
   },
   {
    "duration": 5,
    "start_time": "2022-05-15T11:12:20.126Z"
   },
   {
    "duration": 54,
    "start_time": "2022-05-15T11:12:20.135Z"
   },
   {
    "duration": 6,
    "start_time": "2022-05-15T11:12:20.191Z"
   },
   {
    "duration": 20,
    "start_time": "2022-05-15T11:12:20.199Z"
   },
   {
    "duration": 5,
    "start_time": "2022-05-15T11:12:20.222Z"
   },
   {
    "duration": 89,
    "start_time": "2022-05-15T11:12:20.230Z"
   },
   {
    "duration": 13,
    "start_time": "2022-05-15T11:12:20.321Z"
   },
   {
    "duration": 14,
    "start_time": "2022-05-15T11:12:20.336Z"
   },
   {
    "duration": 32,
    "start_time": "2022-05-15T11:12:20.352Z"
   },
   {
    "duration": 18,
    "start_time": "2022-05-15T11:12:20.386Z"
   },
   {
    "duration": 7,
    "start_time": "2022-05-15T11:12:20.406Z"
   },
   {
    "duration": 140,
    "start_time": "2022-05-15T11:22:22.886Z"
   },
   {
    "duration": 125,
    "start_time": "2022-05-15T11:22:44.244Z"
   },
   {
    "duration": 1509,
    "start_time": "2022-05-15T11:22:55.613Z"
   },
   {
    "duration": 74,
    "start_time": "2022-05-15T11:22:57.125Z"
   },
   {
    "duration": 116,
    "start_time": "2022-05-15T11:22:57.201Z"
   },
   {
    "duration": 0,
    "start_time": "2022-05-15T11:22:57.322Z"
   },
   {
    "duration": 0,
    "start_time": "2022-05-15T11:22:57.324Z"
   },
   {
    "duration": 0,
    "start_time": "2022-05-15T11:22:57.326Z"
   },
   {
    "duration": 0,
    "start_time": "2022-05-15T11:22:57.328Z"
   },
   {
    "duration": 0,
    "start_time": "2022-05-15T11:22:57.330Z"
   },
   {
    "duration": 0,
    "start_time": "2022-05-15T11:22:57.331Z"
   },
   {
    "duration": 0,
    "start_time": "2022-05-15T11:22:57.333Z"
   },
   {
    "duration": 0,
    "start_time": "2022-05-15T11:22:57.334Z"
   },
   {
    "duration": 0,
    "start_time": "2022-05-15T11:22:57.336Z"
   },
   {
    "duration": 0,
    "start_time": "2022-05-15T11:22:57.338Z"
   },
   {
    "duration": 0,
    "start_time": "2022-05-15T11:22:57.340Z"
   },
   {
    "duration": 0,
    "start_time": "2022-05-15T11:22:57.341Z"
   },
   {
    "duration": 0,
    "start_time": "2022-05-15T11:22:57.343Z"
   },
   {
    "duration": 0,
    "start_time": "2022-05-15T11:22:57.345Z"
   },
   {
    "duration": 0,
    "start_time": "2022-05-15T11:22:57.346Z"
   },
   {
    "duration": 0,
    "start_time": "2022-05-15T11:22:57.348Z"
   },
   {
    "duration": 0,
    "start_time": "2022-05-15T11:22:57.349Z"
   },
   {
    "duration": 0,
    "start_time": "2022-05-15T11:22:57.351Z"
   },
   {
    "duration": 0,
    "start_time": "2022-05-15T11:22:57.353Z"
   },
   {
    "duration": 0,
    "start_time": "2022-05-15T11:22:57.355Z"
   },
   {
    "duration": 0,
    "start_time": "2022-05-15T11:22:57.356Z"
   },
   {
    "duration": 0,
    "start_time": "2022-05-15T11:22:57.358Z"
   },
   {
    "duration": 0,
    "start_time": "2022-05-15T11:22:57.360Z"
   },
   {
    "duration": 0,
    "start_time": "2022-05-15T11:22:57.382Z"
   },
   {
    "duration": 0,
    "start_time": "2022-05-15T11:22:57.383Z"
   },
   {
    "duration": 0,
    "start_time": "2022-05-15T11:22:57.385Z"
   },
   {
    "duration": 0,
    "start_time": "2022-05-15T11:22:57.386Z"
   },
   {
    "duration": 0,
    "start_time": "2022-05-15T11:22:57.387Z"
   },
   {
    "duration": 0,
    "start_time": "2022-05-15T11:22:57.389Z"
   },
   {
    "duration": 0,
    "start_time": "2022-05-15T11:22:57.390Z"
   },
   {
    "duration": 0,
    "start_time": "2022-05-15T11:22:57.391Z"
   },
   {
    "duration": 0,
    "start_time": "2022-05-15T11:22:57.394Z"
   },
   {
    "duration": 0,
    "start_time": "2022-05-15T11:22:57.395Z"
   },
   {
    "duration": 0,
    "start_time": "2022-05-15T11:22:57.397Z"
   },
   {
    "duration": 0,
    "start_time": "2022-05-15T11:22:57.398Z"
   },
   {
    "duration": 0,
    "start_time": "2022-05-15T11:22:57.400Z"
   },
   {
    "duration": 0,
    "start_time": "2022-05-15T11:22:57.401Z"
   },
   {
    "duration": 0,
    "start_time": "2022-05-15T11:22:57.402Z"
   },
   {
    "duration": 0,
    "start_time": "2022-05-15T11:22:57.404Z"
   },
   {
    "duration": 0,
    "start_time": "2022-05-15T11:22:57.405Z"
   },
   {
    "duration": 0,
    "start_time": "2022-05-15T11:22:57.406Z"
   },
   {
    "duration": 0,
    "start_time": "2022-05-15T11:22:57.408Z"
   },
   {
    "duration": 0,
    "start_time": "2022-05-15T11:22:57.410Z"
   },
   {
    "duration": 0,
    "start_time": "2022-05-15T11:22:57.411Z"
   },
   {
    "duration": 0,
    "start_time": "2022-05-15T11:22:57.413Z"
   },
   {
    "duration": 0,
    "start_time": "2022-05-15T11:22:57.414Z"
   },
   {
    "duration": 0,
    "start_time": "2022-05-15T11:22:57.416Z"
   },
   {
    "duration": 126,
    "start_time": "2022-05-15T11:23:18.310Z"
   },
   {
    "duration": 113,
    "start_time": "2022-05-15T11:23:43.147Z"
   },
   {
    "duration": 146,
    "start_time": "2022-05-15T12:08:07.473Z"
   },
   {
    "duration": 1525,
    "start_time": "2022-05-15T14:28:18.213Z"
   },
   {
    "duration": 89,
    "start_time": "2022-05-15T14:28:19.741Z"
   },
   {
    "duration": 6,
    "start_time": "2022-05-15T14:28:19.832Z"
   },
   {
    "duration": 42,
    "start_time": "2022-05-15T14:28:19.841Z"
   },
   {
    "duration": 8,
    "start_time": "2022-05-15T14:28:19.885Z"
   },
   {
    "duration": 11,
    "start_time": "2022-05-15T14:28:19.895Z"
   },
   {
    "duration": 20,
    "start_time": "2022-05-15T14:28:19.908Z"
   },
   {
    "duration": 7,
    "start_time": "2022-05-15T14:28:19.930Z"
   },
   {
    "duration": 16,
    "start_time": "2022-05-15T14:28:19.982Z"
   },
   {
    "duration": 35,
    "start_time": "2022-05-15T14:28:20.002Z"
   },
   {
    "duration": 13,
    "start_time": "2022-05-15T14:28:20.039Z"
   },
   {
    "duration": 48,
    "start_time": "2022-05-15T14:28:20.054Z"
   },
   {
    "duration": 11,
    "start_time": "2022-05-15T14:28:20.104Z"
   },
   {
    "duration": 22,
    "start_time": "2022-05-15T14:28:20.117Z"
   },
   {
    "duration": 56,
    "start_time": "2022-05-15T14:28:20.141Z"
   },
   {
    "duration": 27,
    "start_time": "2022-05-15T14:28:20.199Z"
   },
   {
    "duration": 133,
    "start_time": "2022-05-15T14:28:20.229Z"
   },
   {
    "duration": 290,
    "start_time": "2022-05-15T14:28:20.364Z"
   },
   {
    "duration": 317,
    "start_time": "2022-05-15T14:28:20.657Z"
   },
   {
    "duration": 27,
    "start_time": "2022-05-15T14:28:20.981Z"
   },
   {
    "duration": 1057,
    "start_time": "2022-05-15T14:28:21.010Z"
   },
   {
    "duration": 40,
    "start_time": "2022-05-15T14:28:22.070Z"
   },
   {
    "duration": 1375,
    "start_time": "2022-05-15T14:28:22.112Z"
   },
   {
    "duration": 206,
    "start_time": "2022-05-15T14:28:23.490Z"
   },
   {
    "duration": 174,
    "start_time": "2022-05-15T14:28:23.698Z"
   },
   {
    "duration": 428,
    "start_time": "2022-05-15T14:28:23.874Z"
   },
   {
    "duration": 1170,
    "start_time": "2022-05-15T14:28:24.304Z"
   },
   {
    "duration": 15,
    "start_time": "2022-05-15T14:28:25.483Z"
   },
   {
    "duration": 23,
    "start_time": "2022-05-15T14:28:25.500Z"
   },
   {
    "duration": 17,
    "start_time": "2022-05-15T14:28:25.526Z"
   },
   {
    "duration": 53,
    "start_time": "2022-05-15T14:28:25.545Z"
   },
   {
    "duration": 30,
    "start_time": "2022-05-15T14:28:25.601Z"
   },
   {
    "duration": 10,
    "start_time": "2022-05-15T14:28:25.634Z"
   },
   {
    "duration": 58,
    "start_time": "2022-05-15T14:28:25.647Z"
   },
   {
    "duration": 11,
    "start_time": "2022-05-15T14:28:25.708Z"
   },
   {
    "duration": 31,
    "start_time": "2022-05-15T14:28:25.722Z"
   },
   {
    "duration": 34,
    "start_time": "2022-05-15T14:28:25.756Z"
   },
   {
    "duration": 34,
    "start_time": "2022-05-15T14:28:25.792Z"
   },
   {
    "duration": 7,
    "start_time": "2022-05-15T14:28:25.829Z"
   },
   {
    "duration": 48,
    "start_time": "2022-05-15T14:28:25.839Z"
   },
   {
    "duration": 7,
    "start_time": "2022-05-15T14:28:25.889Z"
   },
   {
    "duration": 27,
    "start_time": "2022-05-15T14:28:25.899Z"
   },
   {
    "duration": 6,
    "start_time": "2022-05-15T14:28:25.928Z"
   },
   {
    "duration": 81,
    "start_time": "2022-05-15T14:28:25.936Z"
   },
   {
    "duration": 12,
    "start_time": "2022-05-15T14:28:26.019Z"
   },
   {
    "duration": 18,
    "start_time": "2022-05-15T14:28:26.033Z"
   },
   {
    "duration": 29,
    "start_time": "2022-05-15T14:28:26.053Z"
   },
   {
    "duration": 25,
    "start_time": "2022-05-15T14:28:26.085Z"
   },
   {
    "duration": 6,
    "start_time": "2022-05-15T14:28:26.112Z"
   },
   {
    "duration": 23,
    "start_time": "2022-05-15T14:53:13.782Z"
   },
   {
    "duration": 241,
    "start_time": "2022-05-15T15:04:05.750Z"
   },
   {
    "duration": 398,
    "start_time": "2022-05-15T15:04:50.644Z"
   },
   {
    "duration": 255,
    "start_time": "2022-05-15T15:05:43.673Z"
   },
   {
    "duration": 249,
    "start_time": "2022-05-15T15:05:53.549Z"
   },
   {
    "duration": 1459,
    "start_time": "2022-05-15T15:27:52.684Z"
   },
   {
    "duration": 76,
    "start_time": "2022-05-15T15:27:54.145Z"
   },
   {
    "duration": 7,
    "start_time": "2022-05-15T15:27:54.223Z"
   },
   {
    "duration": 22,
    "start_time": "2022-05-15T15:27:54.232Z"
   },
   {
    "duration": 8,
    "start_time": "2022-05-15T15:27:54.283Z"
   },
   {
    "duration": 15,
    "start_time": "2022-05-15T15:27:54.293Z"
   },
   {
    "duration": 22,
    "start_time": "2022-05-15T15:27:54.310Z"
   },
   {
    "duration": 8,
    "start_time": "2022-05-15T15:27:54.334Z"
   },
   {
    "duration": 46,
    "start_time": "2022-05-15T15:27:54.345Z"
   },
   {
    "duration": 21,
    "start_time": "2022-05-15T15:27:54.393Z"
   },
   {
    "duration": 13,
    "start_time": "2022-05-15T15:27:54.417Z"
   },
   {
    "duration": 66,
    "start_time": "2022-05-15T15:27:54.432Z"
   },
   {
    "duration": 21,
    "start_time": "2022-05-15T15:27:54.502Z"
   },
   {
    "duration": 21,
    "start_time": "2022-05-15T15:27:54.528Z"
   },
   {
    "duration": 74,
    "start_time": "2022-05-15T15:27:54.552Z"
   },
   {
    "duration": 114,
    "start_time": "2022-05-15T15:27:54.629Z"
   },
   {
    "duration": 283,
    "start_time": "2022-05-15T15:27:54.745Z"
   },
   {
    "duration": 314,
    "start_time": "2022-05-15T15:27:55.031Z"
   },
   {
    "duration": 18,
    "start_time": "2022-05-15T15:27:55.347Z"
   },
   {
    "duration": 1132,
    "start_time": "2022-05-15T15:27:55.383Z"
   },
   {
    "duration": 36,
    "start_time": "2022-05-15T15:27:56.518Z"
   },
   {
    "duration": 1234,
    "start_time": "2022-05-15T15:27:56.557Z"
   },
   {
    "duration": 216,
    "start_time": "2022-05-15T15:27:57.794Z"
   },
   {
    "duration": 190,
    "start_time": "2022-05-15T15:27:58.013Z"
   },
   {
    "duration": 319,
    "start_time": "2022-05-15T15:27:58.205Z"
   },
   {
    "duration": 1015,
    "start_time": "2022-05-15T15:27:58.527Z"
   },
   {
    "duration": 12,
    "start_time": "2022-05-15T15:27:59.545Z"
   },
   {
    "duration": 38,
    "start_time": "2022-05-15T15:27:59.559Z"
   },
   {
    "duration": 19,
    "start_time": "2022-05-15T15:27:59.600Z"
   },
   {
    "duration": 59,
    "start_time": "2022-05-15T15:27:59.622Z"
   },
   {
    "duration": 31,
    "start_time": "2022-05-15T15:27:59.684Z"
   },
   {
    "duration": 11,
    "start_time": "2022-05-15T15:27:59.717Z"
   },
   {
    "duration": 37,
    "start_time": "2022-05-15T15:27:59.730Z"
   },
   {
    "duration": 28,
    "start_time": "2022-05-15T15:27:59.769Z"
   },
   {
    "duration": 29,
    "start_time": "2022-05-15T15:27:59.799Z"
   },
   {
    "duration": 7,
    "start_time": "2022-05-15T15:27:59.830Z"
   },
   {
    "duration": 42,
    "start_time": "2022-05-15T15:27:59.839Z"
   },
   {
    "duration": 7,
    "start_time": "2022-05-15T15:27:59.884Z"
   },
   {
    "duration": 27,
    "start_time": "2022-05-15T15:27:59.893Z"
   },
   {
    "duration": 6,
    "start_time": "2022-05-15T15:27:59.923Z"
   },
   {
    "duration": 58,
    "start_time": "2022-05-15T15:27:59.935Z"
   },
   {
    "duration": 6,
    "start_time": "2022-05-15T15:27:59.996Z"
   },
   {
    "duration": 50,
    "start_time": "2022-05-15T15:28:00.005Z"
   },
   {
    "duration": 13,
    "start_time": "2022-05-15T15:28:00.082Z"
   },
   {
    "duration": 18,
    "start_time": "2022-05-15T15:28:00.097Z"
   },
   {
    "duration": 7,
    "start_time": "2022-05-15T15:28:00.118Z"
   },
   {
    "duration": 56,
    "start_time": "2022-05-15T15:28:00.127Z"
   },
   {
    "duration": 9,
    "start_time": "2022-05-15T15:28:00.185Z"
   },
   {
    "duration": 346,
    "start_time": "2022-05-15T15:29:39.773Z"
   },
   {
    "duration": 343,
    "start_time": "2022-05-15T15:29:46.592Z"
   },
   {
    "duration": 320,
    "start_time": "2022-05-15T15:30:14.380Z"
   },
   {
    "duration": 41,
    "start_time": "2022-05-15T16:00:02.871Z"
   },
   {
    "duration": 52,
    "start_time": "2022-05-15T16:00:11.153Z"
   },
   {
    "duration": 40,
    "start_time": "2022-05-15T16:00:16.730Z"
   },
   {
    "duration": 37,
    "start_time": "2022-05-15T16:00:21.897Z"
   },
   {
    "duration": 178,
    "start_time": "2022-05-15T16:00:26.346Z"
   },
   {
    "duration": 32,
    "start_time": "2022-05-15T16:00:36.633Z"
   },
   {
    "duration": 29,
    "start_time": "2022-05-15T16:00:41.020Z"
   },
   {
    "duration": 34,
    "start_time": "2022-05-15T16:02:27.591Z"
   },
   {
    "duration": 9,
    "start_time": "2022-05-15T16:03:44.810Z"
   },
   {
    "duration": 1249,
    "start_time": "2022-05-15T16:04:07.893Z"
   },
   {
    "duration": 13,
    "start_time": "2022-05-15T16:07:06.285Z"
   },
   {
    "duration": 19,
    "start_time": "2022-05-15T16:07:56.318Z"
   },
   {
    "duration": 22,
    "start_time": "2022-05-15T16:08:01.477Z"
   },
   {
    "duration": 18,
    "start_time": "2022-05-15T16:08:06.114Z"
   },
   {
    "duration": 21,
    "start_time": "2022-05-15T16:08:10.049Z"
   },
   {
    "duration": 16,
    "start_time": "2022-05-15T16:08:15.568Z"
   },
   {
    "duration": 27,
    "start_time": "2022-05-15T16:08:24.973Z"
   },
   {
    "duration": 130,
    "start_time": "2022-05-15T16:09:12.434Z"
   },
   {
    "duration": 230,
    "start_time": "2022-05-15T16:09:17.192Z"
   },
   {
    "duration": 55,
    "start_time": "2022-05-15T16:09:45.955Z"
   },
   {
    "duration": 22,
    "start_time": "2022-05-15T16:09:49.258Z"
   },
   {
    "duration": 23,
    "start_time": "2022-05-15T16:09:59.555Z"
   },
   {
    "duration": 21,
    "start_time": "2022-05-15T16:10:12.472Z"
   },
   {
    "duration": 26,
    "start_time": "2022-05-15T16:10:14.978Z"
   },
   {
    "duration": 472,
    "start_time": "2022-05-15T16:10:37.889Z"
   },
   {
    "duration": 330,
    "start_time": "2022-05-15T16:10:50.090Z"
   },
   {
    "duration": 305,
    "start_time": "2022-05-15T16:11:24.219Z"
   },
   {
    "duration": 302,
    "start_time": "2022-05-15T16:11:30.966Z"
   },
   {
    "duration": 449,
    "start_time": "2022-05-15T16:11:55.548Z"
   },
   {
    "duration": 705,
    "start_time": "2022-05-15T16:12:10.334Z"
   },
   {
    "duration": 456,
    "start_time": "2022-05-15T16:12:18.067Z"
   },
   {
    "duration": 298,
    "start_time": "2022-05-15T16:12:29.941Z"
   },
   {
    "duration": 216,
    "start_time": "2022-05-15T16:12:37.757Z"
   },
   {
    "duration": 301,
    "start_time": "2022-05-15T16:12:49.919Z"
   },
   {
    "duration": 321,
    "start_time": "2022-05-15T16:13:07.648Z"
   },
   {
    "duration": 332,
    "start_time": "2022-05-15T16:13:55.928Z"
   },
   {
    "duration": 257,
    "start_time": "2022-05-15T16:14:38.000Z"
   },
   {
    "duration": 287,
    "start_time": "2022-05-15T16:14:57.146Z"
   },
   {
    "duration": 182,
    "start_time": "2022-05-15T16:15:02.813Z"
   },
   {
    "duration": 191,
    "start_time": "2022-05-15T16:15:12.943Z"
   },
   {
    "duration": 187,
    "start_time": "2022-05-15T16:15:18.039Z"
   },
   {
    "duration": 250,
    "start_time": "2022-05-15T16:15:23.752Z"
   },
   {
    "duration": 296,
    "start_time": "2022-05-15T16:17:51.086Z"
   },
   {
    "duration": 14,
    "start_time": "2022-05-15T16:18:13.124Z"
   },
   {
    "duration": 23,
    "start_time": "2022-05-15T16:18:19.956Z"
   },
   {
    "duration": 18,
    "start_time": "2022-05-15T16:18:33.388Z"
   },
   {
    "duration": 22,
    "start_time": "2022-05-15T16:18:38.120Z"
   },
   {
    "duration": 17,
    "start_time": "2022-05-15T16:18:48.270Z"
   },
   {
    "duration": 15,
    "start_time": "2022-05-15T16:18:55.152Z"
   },
   {
    "duration": 25,
    "start_time": "2022-05-15T16:19:00.488Z"
   },
   {
    "duration": 24,
    "start_time": "2022-05-15T16:23:59.867Z"
   },
   {
    "duration": 11,
    "start_time": "2022-05-15T16:25:02.360Z"
   },
   {
    "duration": 1818,
    "start_time": "2022-05-15T16:25:26.655Z"
   },
   {
    "duration": 118,
    "start_time": "2022-05-15T16:25:28.476Z"
   },
   {
    "duration": 9,
    "start_time": "2022-05-15T16:25:28.597Z"
   },
   {
    "duration": 30,
    "start_time": "2022-05-15T16:25:28.609Z"
   },
   {
    "duration": 40,
    "start_time": "2022-05-15T16:25:28.644Z"
   },
   {
    "duration": 10,
    "start_time": "2022-05-15T16:25:28.687Z"
   },
   {
    "duration": 29,
    "start_time": "2022-05-15T16:25:28.700Z"
   },
   {
    "duration": 14,
    "start_time": "2022-05-15T16:25:28.731Z"
   },
   {
    "duration": 63,
    "start_time": "2022-05-15T16:25:28.748Z"
   },
   {
    "duration": 21,
    "start_time": "2022-05-15T16:25:28.813Z"
   },
   {
    "duration": 14,
    "start_time": "2022-05-15T16:25:28.836Z"
   },
   {
    "duration": 63,
    "start_time": "2022-05-15T16:25:28.852Z"
   },
   {
    "duration": 30,
    "start_time": "2022-05-15T16:25:28.918Z"
   },
   {
    "duration": 62,
    "start_time": "2022-05-15T16:25:28.953Z"
   },
   {
    "duration": 43,
    "start_time": "2022-05-15T16:25:29.017Z"
   },
   {
    "duration": 151,
    "start_time": "2022-05-15T16:25:29.065Z"
   },
   {
    "duration": 287,
    "start_time": "2022-05-15T16:25:29.218Z"
   },
   {
    "duration": 325,
    "start_time": "2022-05-15T16:25:29.508Z"
   },
   {
    "duration": 18,
    "start_time": "2022-05-15T16:25:29.836Z"
   },
   {
    "duration": 1542,
    "start_time": "2022-05-15T16:25:29.856Z"
   },
   {
    "duration": 33,
    "start_time": "2022-05-15T16:25:31.401Z"
   },
   {
    "duration": 1320,
    "start_time": "2022-05-15T16:25:31.437Z"
   },
   {
    "duration": 225,
    "start_time": "2022-05-15T16:25:32.759Z"
   },
   {
    "duration": 244,
    "start_time": "2022-05-15T16:25:32.987Z"
   },
   {
    "duration": 23,
    "start_time": "2022-05-15T16:25:33.235Z"
   },
   {
    "duration": 40,
    "start_time": "2022-05-15T16:25:33.261Z"
   },
   {
    "duration": 18,
    "start_time": "2022-05-15T16:25:33.303Z"
   },
   {
    "duration": 189,
    "start_time": "2022-05-15T16:25:33.324Z"
   },
   {
    "duration": 0,
    "start_time": "2022-05-15T16:25:33.516Z"
   },
   {
    "duration": 0,
    "start_time": "2022-05-15T16:25:33.517Z"
   },
   {
    "duration": 0,
    "start_time": "2022-05-15T16:25:33.519Z"
   },
   {
    "duration": 0,
    "start_time": "2022-05-15T16:25:33.521Z"
   },
   {
    "duration": 0,
    "start_time": "2022-05-15T16:25:33.522Z"
   },
   {
    "duration": 0,
    "start_time": "2022-05-15T16:25:33.523Z"
   },
   {
    "duration": 0,
    "start_time": "2022-05-15T16:25:33.525Z"
   },
   {
    "duration": 0,
    "start_time": "2022-05-15T16:25:33.526Z"
   },
   {
    "duration": 0,
    "start_time": "2022-05-15T16:25:33.527Z"
   },
   {
    "duration": 0,
    "start_time": "2022-05-15T16:25:33.528Z"
   },
   {
    "duration": 0,
    "start_time": "2022-05-15T16:25:33.529Z"
   },
   {
    "duration": 0,
    "start_time": "2022-05-15T16:25:33.531Z"
   },
   {
    "duration": 0,
    "start_time": "2022-05-15T16:25:33.532Z"
   },
   {
    "duration": 0,
    "start_time": "2022-05-15T16:25:33.533Z"
   },
   {
    "duration": 0,
    "start_time": "2022-05-15T16:25:33.535Z"
   },
   {
    "duration": 0,
    "start_time": "2022-05-15T16:25:33.536Z"
   },
   {
    "duration": 0,
    "start_time": "2022-05-15T16:25:33.537Z"
   },
   {
    "duration": 0,
    "start_time": "2022-05-15T16:25:33.538Z"
   },
   {
    "duration": 0,
    "start_time": "2022-05-15T16:25:33.582Z"
   },
   {
    "duration": 0,
    "start_time": "2022-05-15T16:25:33.583Z"
   },
   {
    "duration": 0,
    "start_time": "2022-05-15T16:25:33.584Z"
   },
   {
    "duration": 0,
    "start_time": "2022-05-15T16:25:33.587Z"
   },
   {
    "duration": 17,
    "start_time": "2022-05-15T16:26:48.118Z"
   },
   {
    "duration": 17,
    "start_time": "2022-05-15T16:26:54.661Z"
   },
   {
    "duration": 22,
    "start_time": "2022-05-15T16:27:00.129Z"
   },
   {
    "duration": 21,
    "start_time": "2022-05-15T16:27:04.815Z"
   },
   {
    "duration": 23,
    "start_time": "2022-05-15T16:27:07.614Z"
   },
   {
    "duration": 23,
    "start_time": "2022-05-15T16:27:26.055Z"
   },
   {
    "duration": 34,
    "start_time": "2022-05-15T16:27:34.934Z"
   },
   {
    "duration": 25,
    "start_time": "2022-05-15T16:27:38.954Z"
   },
   {
    "duration": 279,
    "start_time": "2022-05-15T16:29:01.391Z"
   },
   {
    "duration": 29,
    "start_time": "2022-05-15T16:29:12.997Z"
   },
   {
    "duration": 285,
    "start_time": "2022-05-15T16:29:36.779Z"
   },
   {
    "duration": 265,
    "start_time": "2022-05-15T16:29:59.685Z"
   },
   {
    "duration": 247,
    "start_time": "2022-05-15T16:30:49.554Z"
   },
   {
    "duration": 225,
    "start_time": "2022-05-15T16:30:52.933Z"
   },
   {
    "duration": 18,
    "start_time": "2022-05-15T16:31:29.082Z"
   },
   {
    "duration": 16,
    "start_time": "2022-05-15T16:32:49.017Z"
   },
   {
    "duration": 19,
    "start_time": "2022-05-15T16:33:44.263Z"
   },
   {
    "duration": 33,
    "start_time": "2022-05-15T16:42:03.635Z"
   },
   {
    "duration": 19,
    "start_time": "2022-05-15T16:42:46.080Z"
   },
   {
    "duration": 19,
    "start_time": "2022-05-15T16:43:37.957Z"
   },
   {
    "duration": 20,
    "start_time": "2022-05-15T16:43:49.314Z"
   },
   {
    "duration": 12,
    "start_time": "2022-05-15T16:47:11.539Z"
   },
   {
    "duration": 16,
    "start_time": "2022-05-15T16:47:16.655Z"
   },
   {
    "duration": 20,
    "start_time": "2022-05-15T16:47:22.631Z"
   },
   {
    "duration": 20,
    "start_time": "2022-05-15T16:47:28.405Z"
   },
   {
    "duration": 9,
    "start_time": "2022-05-15T16:47:38.842Z"
   },
   {
    "duration": 8,
    "start_time": "2022-05-15T16:47:46.355Z"
   },
   {
    "duration": 7,
    "start_time": "2022-05-15T16:47:49.001Z"
   },
   {
    "duration": 9,
    "start_time": "2022-05-15T16:49:17.843Z"
   },
   {
    "duration": 7,
    "start_time": "2022-05-15T16:49:22.071Z"
   },
   {
    "duration": 9,
    "start_time": "2022-05-15T16:49:25.376Z"
   },
   {
    "duration": 6,
    "start_time": "2022-05-15T16:49:28.624Z"
   },
   {
    "duration": 10,
    "start_time": "2022-05-15T16:49:37.885Z"
   },
   {
    "duration": 26,
    "start_time": "2022-05-15T16:50:05.372Z"
   },
   {
    "duration": 5,
    "start_time": "2022-05-15T16:50:14.776Z"
   },
   {
    "duration": 7,
    "start_time": "2022-05-15T16:50:21.610Z"
   },
   {
    "duration": 322,
    "start_time": "2022-05-15T16:52:13.252Z"
   },
   {
    "duration": 446,
    "start_time": "2022-05-15T16:53:10.533Z"
   },
   {
    "duration": 192,
    "start_time": "2022-05-15T16:53:22.256Z"
   },
   {
    "duration": 236,
    "start_time": "2022-05-15T16:53:41.600Z"
   },
   {
    "duration": 267,
    "start_time": "2022-05-15T16:53:54.901Z"
   },
   {
    "duration": 180,
    "start_time": "2022-05-15T16:54:15.988Z"
   },
   {
    "duration": 249,
    "start_time": "2022-05-15T16:54:21.485Z"
   },
   {
    "duration": 162,
    "start_time": "2022-05-15T16:54:25.745Z"
   },
   {
    "duration": 308,
    "start_time": "2022-05-15T16:54:28.294Z"
   },
   {
    "duration": 366,
    "start_time": "2022-05-15T16:54:36.559Z"
   },
   {
    "duration": 388,
    "start_time": "2022-05-15T16:54:38.545Z"
   },
   {
    "duration": 324,
    "start_time": "2022-05-15T16:54:58.065Z"
   },
   {
    "duration": 314,
    "start_time": "2022-05-15T16:55:32.727Z"
   },
   {
    "duration": 312,
    "start_time": "2022-05-15T16:55:37.450Z"
   },
   {
    "duration": 240,
    "start_time": "2022-05-15T16:55:43.350Z"
   },
   {
    "duration": 321,
    "start_time": "2022-05-15T16:56:18.573Z"
   },
   {
    "duration": 442,
    "start_time": "2022-05-15T16:56:22.217Z"
   },
   {
    "duration": 1318,
    "start_time": "2022-05-15T16:57:47.307Z"
   },
   {
    "duration": 1181,
    "start_time": "2022-05-15T16:58:43.283Z"
   },
   {
    "duration": 1620,
    "start_time": "2022-05-15T16:58:46.332Z"
   },
   {
    "duration": 288,
    "start_time": "2022-05-15T17:00:12.377Z"
   },
   {
    "duration": 1391,
    "start_time": "2022-05-15T17:00:30.954Z"
   },
   {
    "duration": 1310,
    "start_time": "2022-05-15T17:00:59.229Z"
   },
   {
    "duration": 1108,
    "start_time": "2022-05-15T17:01:11.291Z"
   },
   {
    "duration": 49,
    "start_time": "2022-05-15T17:01:36.098Z"
   },
   {
    "duration": 23,
    "start_time": "2022-05-15T17:01:50.541Z"
   },
   {
    "duration": 21,
    "start_time": "2022-05-15T17:02:10.251Z"
   },
   {
    "duration": 49,
    "start_time": "2022-05-15T17:02:25.690Z"
   },
   {
    "duration": 224,
    "start_time": "2022-05-15T17:02:33.440Z"
   },
   {
    "duration": 57,
    "start_time": "2022-05-15T17:02:41.953Z"
   },
   {
    "duration": 53,
    "start_time": "2022-05-15T17:03:16.978Z"
   },
   {
    "duration": 15,
    "start_time": "2022-05-15T17:04:59.007Z"
   },
   {
    "duration": 22,
    "start_time": "2022-05-15T17:05:08.915Z"
   },
   {
    "duration": 21,
    "start_time": "2022-05-15T17:05:36.010Z"
   },
   {
    "duration": 42,
    "start_time": "2022-05-15T17:05:46.315Z"
   },
   {
    "duration": 1347,
    "start_time": "2022-05-15T17:06:26.380Z"
   },
   {
    "duration": 1439,
    "start_time": "2022-05-15T17:06:43.026Z"
   },
   {
    "duration": 1186,
    "start_time": "2022-05-15T17:06:57.763Z"
   },
   {
    "duration": 1317,
    "start_time": "2022-05-15T17:07:09.833Z"
   },
   {
    "duration": 1548,
    "start_time": "2022-05-15T17:07:47.614Z"
   },
   {
    "duration": 1169,
    "start_time": "2022-05-15T17:08:45.414Z"
   },
   {
    "duration": 1238,
    "start_time": "2022-05-15T17:08:55.669Z"
   },
   {
    "duration": 11,
    "start_time": "2022-05-15T17:09:51.805Z"
   },
   {
    "duration": 44,
    "start_time": "2022-05-15T17:10:18.079Z"
   },
   {
    "duration": 43,
    "start_time": "2022-05-15T17:12:41.663Z"
   },
   {
    "duration": 42,
    "start_time": "2022-05-15T17:12:49.956Z"
   },
   {
    "duration": 104,
    "start_time": "2022-05-15T17:13:00.067Z"
   },
   {
    "duration": 100,
    "start_time": "2022-05-15T17:13:13.373Z"
   },
   {
    "duration": 55,
    "start_time": "2022-05-15T17:13:28.751Z"
   },
   {
    "duration": 37,
    "start_time": "2022-05-15T17:13:34.943Z"
   },
   {
    "duration": 87,
    "start_time": "2022-05-15T17:13:41.712Z"
   },
   {
    "duration": 27,
    "start_time": "2022-05-15T17:13:53.084Z"
   },
   {
    "duration": 106,
    "start_time": "2022-05-15T17:13:57.654Z"
   },
   {
    "duration": 133,
    "start_time": "2022-05-15T17:14:04.474Z"
   },
   {
    "duration": 155,
    "start_time": "2022-05-15T17:14:16.000Z"
   },
   {
    "duration": 221,
    "start_time": "2022-05-15T17:14:20.474Z"
   },
   {
    "duration": 123,
    "start_time": "2022-05-15T17:14:25.668Z"
   },
   {
    "duration": 95,
    "start_time": "2022-05-15T17:14:48.330Z"
   },
   {
    "duration": 125,
    "start_time": "2022-05-15T17:15:15.781Z"
   },
   {
    "duration": 139,
    "start_time": "2022-05-15T17:15:20.171Z"
   },
   {
    "duration": 97,
    "start_time": "2022-05-15T17:15:50.651Z"
   },
   {
    "duration": 169,
    "start_time": "2022-05-15T17:15:56.779Z"
   },
   {
    "duration": 122,
    "start_time": "2022-05-15T17:16:15.211Z"
   },
   {
    "duration": 28,
    "start_time": "2022-05-15T17:29:46.479Z"
   },
   {
    "duration": 21,
    "start_time": "2022-05-15T19:14:45.934Z"
   },
   {
    "duration": 20,
    "start_time": "2022-05-15T19:15:21.994Z"
   },
   {
    "duration": 20,
    "start_time": "2022-05-15T19:15:43.756Z"
   },
   {
    "duration": 19,
    "start_time": "2022-05-15T19:20:16.971Z"
   },
   {
    "duration": 20,
    "start_time": "2022-05-15T19:20:27.587Z"
   },
   {
    "duration": 13,
    "start_time": "2022-05-15T19:23:23.661Z"
   },
   {
    "duration": 26,
    "start_time": "2022-05-15T19:23:26.491Z"
   },
   {
    "duration": 17,
    "start_time": "2022-05-15T19:23:37.507Z"
   },
   {
    "duration": 19,
    "start_time": "2022-05-15T19:23:40.963Z"
   },
   {
    "duration": 16,
    "start_time": "2022-05-15T19:23:54.190Z"
   },
   {
    "duration": 21,
    "start_time": "2022-05-15T19:23:56.368Z"
   },
   {
    "duration": 15,
    "start_time": "2022-05-15T19:24:01.181Z"
   },
   {
    "duration": 23,
    "start_time": "2022-05-15T19:24:08.164Z"
   },
   {
    "duration": 29,
    "start_time": "2022-05-15T19:24:11.733Z"
   },
   {
    "duration": 22,
    "start_time": "2022-05-15T19:24:20.195Z"
   },
   {
    "duration": 21,
    "start_time": "2022-05-15T19:24:27.012Z"
   },
   {
    "duration": 18,
    "start_time": "2022-05-15T19:24:40.253Z"
   },
   {
    "duration": 13,
    "start_time": "2022-05-15T19:24:47.398Z"
   },
   {
    "duration": 5,
    "start_time": "2022-05-15T19:24:51.044Z"
   },
   {
    "duration": 20,
    "start_time": "2022-05-15T19:24:59.056Z"
   },
   {
    "duration": 12,
    "start_time": "2022-05-15T19:25:22.060Z"
   },
   {
    "duration": 2409,
    "start_time": "2022-05-15T19:25:41.221Z"
   },
   {
    "duration": 2118,
    "start_time": "2022-05-15T19:25:47.148Z"
   },
   {
    "duration": 6,
    "start_time": "2022-05-15T19:25:53.260Z"
   },
   {
    "duration": 7,
    "start_time": "2022-05-15T19:26:24.351Z"
   },
   {
    "duration": 37,
    "start_time": "2022-05-15T19:26:52.756Z"
   },
   {
    "duration": 29,
    "start_time": "2022-05-15T19:27:56.503Z"
   },
   {
    "duration": 148,
    "start_time": "2022-05-15T19:28:03.399Z"
   },
   {
    "duration": 8,
    "start_time": "2022-05-15T19:28:56.000Z"
   },
   {
    "duration": 40,
    "start_time": "2022-05-15T19:29:33.344Z"
   },
   {
    "duration": 13,
    "start_time": "2022-05-15T19:29:49.395Z"
   },
   {
    "duration": 12,
    "start_time": "2022-05-15T19:29:55.548Z"
   },
   {
    "duration": 10,
    "start_time": "2022-05-15T19:30:23.064Z"
   },
   {
    "duration": 12,
    "start_time": "2022-05-15T19:30:35.896Z"
   },
   {
    "duration": 19,
    "start_time": "2022-05-15T19:30:44.552Z"
   },
   {
    "duration": 300,
    "start_time": "2022-05-15T19:31:01.111Z"
   },
   {
    "duration": 17,
    "start_time": "2022-05-15T19:31:11.541Z"
   },
   {
    "duration": 18,
    "start_time": "2022-05-15T19:31:44.604Z"
   },
   {
    "duration": 17,
    "start_time": "2022-05-15T19:31:46.958Z"
   },
   {
    "duration": 13,
    "start_time": "2022-05-15T19:31:56.976Z"
   },
   {
    "duration": 16,
    "start_time": "2022-05-15T19:32:09.080Z"
   },
   {
    "duration": 21,
    "start_time": "2022-05-15T19:32:27.388Z"
   },
   {
    "duration": 193,
    "start_time": "2022-05-15T19:32:30.296Z"
   },
   {
    "duration": 336,
    "start_time": "2022-05-15T19:32:51.541Z"
   },
   {
    "duration": 207,
    "start_time": "2022-05-15T19:33:01.893Z"
   },
   {
    "duration": 193,
    "start_time": "2022-05-15T19:33:24.006Z"
   },
   {
    "duration": 207,
    "start_time": "2022-05-15T19:33:35.532Z"
   },
   {
    "duration": 242,
    "start_time": "2022-05-15T19:36:28.850Z"
   },
   {
    "duration": 203,
    "start_time": "2022-05-15T19:36:46.681Z"
   },
   {
    "duration": 1630,
    "start_time": "2022-05-15T19:36:54.066Z"
   },
   {
    "duration": 75,
    "start_time": "2022-05-15T19:36:55.699Z"
   },
   {
    "duration": 11,
    "start_time": "2022-05-15T19:36:55.776Z"
   },
   {
    "duration": 22,
    "start_time": "2022-05-15T19:36:55.790Z"
   },
   {
    "duration": 6,
    "start_time": "2022-05-15T19:36:55.815Z"
   },
   {
    "duration": 7,
    "start_time": "2022-05-15T19:36:55.824Z"
   },
   {
    "duration": 63,
    "start_time": "2022-05-15T19:36:55.833Z"
   },
   {
    "duration": 7,
    "start_time": "2022-05-15T19:36:55.899Z"
   },
   {
    "duration": 16,
    "start_time": "2022-05-15T19:36:55.908Z"
   },
   {
    "duration": 60,
    "start_time": "2022-05-15T19:36:55.928Z"
   },
   {
    "duration": 15,
    "start_time": "2022-05-15T19:36:55.990Z"
   },
   {
    "duration": 26,
    "start_time": "2022-05-15T19:36:56.007Z"
   },
   {
    "duration": 54,
    "start_time": "2022-05-15T19:36:56.036Z"
   },
   {
    "duration": 20,
    "start_time": "2022-05-15T19:36:56.092Z"
   },
   {
    "duration": 27,
    "start_time": "2022-05-15T19:36:56.114Z"
   },
   {
    "duration": 157,
    "start_time": "2022-05-15T19:36:56.144Z"
   },
   {
    "duration": 271,
    "start_time": "2022-05-15T19:36:56.303Z"
   },
   {
    "duration": 317,
    "start_time": "2022-05-15T19:36:56.581Z"
   },
   {
    "duration": 19,
    "start_time": "2022-05-15T19:36:56.900Z"
   },
   {
    "duration": 1002,
    "start_time": "2022-05-15T19:36:56.921Z"
   },
   {
    "duration": 30,
    "start_time": "2022-05-15T19:36:57.926Z"
   },
   {
    "duration": 1174,
    "start_time": "2022-05-15T19:36:57.958Z"
   },
   {
    "duration": 225,
    "start_time": "2022-05-15T19:36:59.134Z"
   },
   {
    "duration": 241,
    "start_time": "2022-05-15T19:36:59.361Z"
   },
   {
    "duration": 17,
    "start_time": "2022-05-15T19:36:59.604Z"
   },
   {
    "duration": 17,
    "start_time": "2022-05-15T19:36:59.623Z"
   },
   {
    "duration": 50,
    "start_time": "2022-05-15T19:36:59.642Z"
   },
   {
    "duration": 244,
    "start_time": "2022-05-15T19:36:59.699Z"
   },
   {
    "duration": 246,
    "start_time": "2022-05-15T19:36:59.945Z"
   },
   {
    "duration": 12,
    "start_time": "2022-05-15T19:37:00.194Z"
   },
   {
    "duration": 24,
    "start_time": "2022-05-15T19:37:00.208Z"
   },
   {
    "duration": 7,
    "start_time": "2022-05-15T19:37:00.234Z"
   },
   {
    "duration": 1115,
    "start_time": "2022-05-15T19:37:00.244Z"
   },
   {
    "duration": 1226,
    "start_time": "2022-05-15T19:37:01.362Z"
   },
   {
    "duration": 114,
    "start_time": "2022-05-15T19:37:02.590Z"
   },
   {
    "duration": 21,
    "start_time": "2022-05-15T19:37:02.706Z"
   },
   {
    "duration": 56,
    "start_time": "2022-05-15T19:37:02.729Z"
   },
   {
    "duration": 212,
    "start_time": "2022-05-15T19:37:02.787Z"
   },
   {
    "duration": 158,
    "start_time": "2022-05-15T19:37:03.001Z"
   },
   {
    "duration": 0,
    "start_time": "2022-05-15T19:37:03.161Z"
   },
   {
    "duration": 0,
    "start_time": "2022-05-15T19:37:03.163Z"
   },
   {
    "duration": 0,
    "start_time": "2022-05-15T19:37:03.166Z"
   },
   {
    "duration": 0,
    "start_time": "2022-05-15T19:37:03.182Z"
   },
   {
    "duration": 0,
    "start_time": "2022-05-15T19:37:03.184Z"
   },
   {
    "duration": 0,
    "start_time": "2022-05-15T19:37:03.187Z"
   },
   {
    "duration": 0,
    "start_time": "2022-05-15T19:37:03.189Z"
   },
   {
    "duration": 0,
    "start_time": "2022-05-15T19:37:03.191Z"
   },
   {
    "duration": 0,
    "start_time": "2022-05-15T19:37:03.193Z"
   },
   {
    "duration": 0,
    "start_time": "2022-05-15T19:37:03.194Z"
   },
   {
    "duration": 0,
    "start_time": "2022-05-15T19:37:03.196Z"
   },
   {
    "duration": 0,
    "start_time": "2022-05-15T19:37:03.198Z"
   },
   {
    "duration": 0,
    "start_time": "2022-05-15T19:37:03.200Z"
   },
   {
    "duration": 0,
    "start_time": "2022-05-15T19:37:03.201Z"
   },
   {
    "duration": 0,
    "start_time": "2022-05-15T19:37:03.203Z"
   },
   {
    "duration": 0,
    "start_time": "2022-05-15T19:37:03.205Z"
   },
   {
    "duration": 0,
    "start_time": "2022-05-15T19:37:03.207Z"
   },
   {
    "duration": 213,
    "start_time": "2022-05-15T19:38:03.859Z"
   },
   {
    "duration": 9,
    "start_time": "2022-05-15T19:38:13.282Z"
   },
   {
    "duration": 20,
    "start_time": "2022-05-15T19:38:18.038Z"
   },
   {
    "duration": 719,
    "start_time": "2022-05-15T19:39:44.592Z"
   },
   {
    "duration": 498,
    "start_time": "2022-05-15T19:39:55.258Z"
   },
   {
    "duration": 180,
    "start_time": "2022-05-15T19:41:09.916Z"
   },
   {
    "duration": 181,
    "start_time": "2022-05-15T19:41:22.757Z"
   },
   {
    "duration": 576,
    "start_time": "2022-05-15T19:42:49.060Z"
   },
   {
    "duration": 1922,
    "start_time": "2022-05-15T19:43:06.946Z"
   },
   {
    "duration": 19,
    "start_time": "2022-05-15T19:45:11.468Z"
   },
   {
    "duration": 15,
    "start_time": "2022-05-15T19:45:25.713Z"
   },
   {
    "duration": 16,
    "start_time": "2022-05-15T19:45:36.326Z"
   },
   {
    "duration": 313,
    "start_time": "2022-05-15T19:45:51.238Z"
   },
   {
    "duration": 482,
    "start_time": "2022-05-15T19:46:09.338Z"
   },
   {
    "duration": 22,
    "start_time": "2022-05-15T19:46:44.424Z"
   },
   {
    "duration": 473,
    "start_time": "2022-05-15T19:47:00.947Z"
   },
   {
    "duration": 2017,
    "start_time": "2022-05-15T19:47:07.207Z"
   },
   {
    "duration": 2002,
    "start_time": "2022-05-15T19:47:33.333Z"
   },
   {
    "duration": 1986,
    "start_time": "2022-05-15T19:49:21.233Z"
   },
   {
    "duration": 14,
    "start_time": "2022-05-15T19:51:48.272Z"
   },
   {
    "duration": 80,
    "start_time": "2022-05-15T19:54:29.314Z"
   },
   {
    "duration": 110,
    "start_time": "2022-05-15T19:54:46.074Z"
   },
   {
    "duration": 82,
    "start_time": "2022-05-15T19:54:48.327Z"
   },
   {
    "duration": 12,
    "start_time": "2022-05-15T20:03:13.073Z"
   },
   {
    "duration": 20,
    "start_time": "2022-05-15T20:03:19.150Z"
   },
   {
    "duration": 6,
    "start_time": "2022-05-15T20:03:23.616Z"
   },
   {
    "duration": 23,
    "start_time": "2022-05-15T20:04:09.557Z"
   },
   {
    "duration": 7,
    "start_time": "2022-05-15T20:04:13.898Z"
   },
   {
    "duration": 22,
    "start_time": "2022-05-15T20:04:50.948Z"
   },
   {
    "duration": 7,
    "start_time": "2022-05-15T20:04:53.658Z"
   },
   {
    "duration": 18,
    "start_time": "2022-05-15T20:08:27.320Z"
   },
   {
    "duration": 1489,
    "start_time": "2022-05-15T20:08:40.423Z"
   },
   {
    "duration": 75,
    "start_time": "2022-05-15T20:08:41.915Z"
   },
   {
    "duration": 8,
    "start_time": "2022-05-15T20:08:41.993Z"
   },
   {
    "duration": 29,
    "start_time": "2022-05-15T20:08:42.004Z"
   },
   {
    "duration": 7,
    "start_time": "2022-05-15T20:08:42.037Z"
   },
   {
    "duration": 41,
    "start_time": "2022-05-15T20:08:42.046Z"
   },
   {
    "duration": 22,
    "start_time": "2022-05-15T20:08:42.089Z"
   },
   {
    "duration": 10,
    "start_time": "2022-05-15T20:08:42.114Z"
   },
   {
    "duration": 56,
    "start_time": "2022-05-15T20:08:42.127Z"
   },
   {
    "duration": 23,
    "start_time": "2022-05-15T20:08:42.187Z"
   },
   {
    "duration": 14,
    "start_time": "2022-05-15T20:08:42.213Z"
   },
   {
    "duration": 62,
    "start_time": "2022-05-15T20:08:42.230Z"
   },
   {
    "duration": 23,
    "start_time": "2022-05-15T20:08:42.295Z"
   },
   {
    "duration": 23,
    "start_time": "2022-05-15T20:08:42.325Z"
   },
   {
    "duration": 58,
    "start_time": "2022-05-15T20:08:42.350Z"
   },
   {
    "duration": 133,
    "start_time": "2022-05-15T20:08:42.411Z"
   },
   {
    "duration": 281,
    "start_time": "2022-05-15T20:08:42.547Z"
   },
   {
    "duration": 327,
    "start_time": "2022-05-15T20:08:42.831Z"
   },
   {
    "duration": 29,
    "start_time": "2022-05-15T20:08:43.161Z"
   },
   {
    "duration": 965,
    "start_time": "2022-05-15T20:08:43.193Z"
   },
   {
    "duration": 41,
    "start_time": "2022-05-15T20:08:44.161Z"
   },
   {
    "duration": 1171,
    "start_time": "2022-05-15T20:08:44.205Z"
   },
   {
    "duration": 216,
    "start_time": "2022-05-15T20:08:45.379Z"
   },
   {
    "duration": 247,
    "start_time": "2022-05-15T20:08:45.598Z"
   },
   {
    "duration": 15,
    "start_time": "2022-05-15T20:08:45.848Z"
   },
   {
    "duration": 31,
    "start_time": "2022-05-15T20:08:45.866Z"
   },
   {
    "duration": 17,
    "start_time": "2022-05-15T20:08:45.900Z"
   },
   {
    "duration": 271,
    "start_time": "2022-05-15T20:08:45.920Z"
   },
   {
    "duration": 339,
    "start_time": "2022-05-15T20:08:46.194Z"
   },
   {
    "duration": 16,
    "start_time": "2022-05-15T20:08:46.535Z"
   },
   {
    "duration": 43,
    "start_time": "2022-05-15T20:08:46.554Z"
   },
   {
    "duration": 10,
    "start_time": "2022-05-15T20:08:46.599Z"
   },
   {
    "duration": 1107,
    "start_time": "2022-05-15T20:08:46.611Z"
   },
   {
    "duration": 1218,
    "start_time": "2022-05-15T20:08:47.720Z"
   },
   {
    "duration": 97,
    "start_time": "2022-05-15T20:08:48.940Z"
   },
   {
    "duration": 49,
    "start_time": "2022-05-15T20:08:49.039Z"
   },
   {
    "duration": 23,
    "start_time": "2022-05-15T20:08:49.091Z"
   },
   {
    "duration": 2076,
    "start_time": "2022-05-15T20:08:49.117Z"
   },
   {
    "duration": 23,
    "start_time": "2022-05-15T20:08:51.195Z"
   },
   {
    "duration": 7,
    "start_time": "2022-05-15T20:08:51.220Z"
   },
   {
    "duration": 58,
    "start_time": "2022-05-15T20:08:51.233Z"
   },
   {
    "duration": 5,
    "start_time": "2022-05-15T20:08:51.294Z"
   },
   {
    "duration": 23,
    "start_time": "2022-05-15T20:08:51.301Z"
   },
   {
    "duration": 18,
    "start_time": "2022-05-15T20:08:51.327Z"
   },
   {
    "duration": 37,
    "start_time": "2022-05-15T20:08:51.347Z"
   },
   {
    "duration": 166,
    "start_time": "2022-05-15T20:08:51.387Z"
   },
   {
    "duration": 0,
    "start_time": "2022-05-15T20:08:51.556Z"
   },
   {
    "duration": 1,
    "start_time": "2022-05-15T20:08:51.557Z"
   },
   {
    "duration": 0,
    "start_time": "2022-05-15T20:08:51.559Z"
   },
   {
    "duration": 0,
    "start_time": "2022-05-15T20:08:51.561Z"
   },
   {
    "duration": 0,
    "start_time": "2022-05-15T20:08:51.582Z"
   },
   {
    "duration": 0,
    "start_time": "2022-05-15T20:08:51.584Z"
   },
   {
    "duration": 0,
    "start_time": "2022-05-15T20:08:51.585Z"
   },
   {
    "duration": 0,
    "start_time": "2022-05-15T20:08:51.586Z"
   },
   {
    "duration": 0,
    "start_time": "2022-05-15T20:08:51.588Z"
   },
   {
    "duration": 0,
    "start_time": "2022-05-15T20:08:51.589Z"
   },
   {
    "duration": 0,
    "start_time": "2022-05-15T20:08:51.591Z"
   },
   {
    "duration": 5,
    "start_time": "2022-05-15T20:09:35.338Z"
   },
   {
    "duration": 7,
    "start_time": "2022-05-15T20:09:38.608Z"
   },
   {
    "duration": 25,
    "start_time": "2022-05-15T20:09:59.465Z"
   },
   {
    "duration": 5,
    "start_time": "2022-05-15T20:10:02.585Z"
   },
   {
    "duration": 14,
    "start_time": "2022-05-15T20:10:08.344Z"
   },
   {
    "duration": 1460,
    "start_time": "2022-05-15T20:10:21.796Z"
   },
   {
    "duration": 84,
    "start_time": "2022-05-15T20:10:23.259Z"
   },
   {
    "duration": 6,
    "start_time": "2022-05-15T20:10:23.346Z"
   },
   {
    "duration": 36,
    "start_time": "2022-05-15T20:10:23.354Z"
   },
   {
    "duration": 7,
    "start_time": "2022-05-15T20:10:23.395Z"
   },
   {
    "duration": 7,
    "start_time": "2022-05-15T20:10:23.405Z"
   },
   {
    "duration": 20,
    "start_time": "2022-05-15T20:10:23.414Z"
   },
   {
    "duration": 6,
    "start_time": "2022-05-15T20:10:23.437Z"
   },
   {
    "duration": 16,
    "start_time": "2022-05-15T20:10:23.482Z"
   },
   {
    "duration": 23,
    "start_time": "2022-05-15T20:10:23.500Z"
   },
   {
    "duration": 12,
    "start_time": "2022-05-15T20:10:23.525Z"
   },
   {
    "duration": 63,
    "start_time": "2022-05-15T20:10:23.539Z"
   },
   {
    "duration": 20,
    "start_time": "2022-05-15T20:10:23.604Z"
   },
   {
    "duration": 21,
    "start_time": "2022-05-15T20:10:23.629Z"
   },
   {
    "duration": 54,
    "start_time": "2022-05-15T20:10:23.652Z"
   },
   {
    "duration": 127,
    "start_time": "2022-05-15T20:10:23.708Z"
   },
   {
    "duration": 347,
    "start_time": "2022-05-15T20:10:23.837Z"
   },
   {
    "duration": 349,
    "start_time": "2022-05-15T20:10:24.186Z"
   },
   {
    "duration": 19,
    "start_time": "2022-05-15T20:10:24.537Z"
   },
   {
    "duration": 1260,
    "start_time": "2022-05-15T20:10:24.558Z"
   },
   {
    "duration": 30,
    "start_time": "2022-05-15T20:10:25.822Z"
   },
   {
    "duration": 1194,
    "start_time": "2022-05-15T20:10:25.854Z"
   },
   {
    "duration": 218,
    "start_time": "2022-05-15T20:10:27.050Z"
   },
   {
    "duration": 243,
    "start_time": "2022-05-15T20:10:27.270Z"
   },
   {
    "duration": 18,
    "start_time": "2022-05-15T20:10:27.515Z"
   },
   {
    "duration": 18,
    "start_time": "2022-05-15T20:10:27.536Z"
   },
   {
    "duration": 16,
    "start_time": "2022-05-15T20:10:27.582Z"
   },
   {
    "duration": 252,
    "start_time": "2022-05-15T20:10:27.600Z"
   },
   {
    "duration": 233,
    "start_time": "2022-05-15T20:10:27.854Z"
   },
   {
    "duration": 12,
    "start_time": "2022-05-15T20:10:28.090Z"
   },
   {
    "duration": 24,
    "start_time": "2022-05-15T20:10:28.105Z"
   },
   {
    "duration": 6,
    "start_time": "2022-05-15T20:10:28.131Z"
   },
   {
    "duration": 1087,
    "start_time": "2022-05-15T20:10:28.139Z"
   },
   {
    "duration": 1281,
    "start_time": "2022-05-15T20:10:29.228Z"
   },
   {
    "duration": 104,
    "start_time": "2022-05-15T20:10:30.512Z"
   },
   {
    "duration": 20,
    "start_time": "2022-05-15T20:10:30.619Z"
   },
   {
    "duration": 57,
    "start_time": "2022-05-15T20:10:30.642Z"
   },
   {
    "duration": 1982,
    "start_time": "2022-05-15T20:10:30.702Z"
   },
   {
    "duration": 20,
    "start_time": "2022-05-15T20:10:32.686Z"
   },
   {
    "duration": 10,
    "start_time": "2022-05-15T20:10:32.708Z"
   },
   {
    "duration": 21,
    "start_time": "2022-05-15T20:10:32.724Z"
   },
   {
    "duration": 7,
    "start_time": "2022-05-15T20:10:32.781Z"
   },
   {
    "duration": 21,
    "start_time": "2022-05-15T20:10:32.790Z"
   },
   {
    "duration": 7,
    "start_time": "2022-05-15T20:10:32.813Z"
   },
   {
    "duration": 274,
    "start_time": "2022-05-15T20:10:32.822Z"
   },
   {
    "duration": 0,
    "start_time": "2022-05-15T20:10:33.099Z"
   },
   {
    "duration": 0,
    "start_time": "2022-05-15T20:10:33.101Z"
   },
   {
    "duration": 0,
    "start_time": "2022-05-15T20:10:33.103Z"
   },
   {
    "duration": 0,
    "start_time": "2022-05-15T20:10:33.105Z"
   },
   {
    "duration": 0,
    "start_time": "2022-05-15T20:10:33.107Z"
   },
   {
    "duration": 1,
    "start_time": "2022-05-15T20:10:33.108Z"
   },
   {
    "duration": 0,
    "start_time": "2022-05-15T20:10:33.110Z"
   },
   {
    "duration": 0,
    "start_time": "2022-05-15T20:10:33.112Z"
   },
   {
    "duration": 0,
    "start_time": "2022-05-15T20:10:33.114Z"
   },
   {
    "duration": 0,
    "start_time": "2022-05-15T20:10:33.116Z"
   },
   {
    "duration": 0,
    "start_time": "2022-05-15T20:10:33.118Z"
   },
   {
    "duration": 7,
    "start_time": "2022-05-15T20:11:39.751Z"
   },
   {
    "duration": 10,
    "start_time": "2022-05-15T20:11:46.955Z"
   },
   {
    "duration": 18,
    "start_time": "2022-05-15T20:11:50.167Z"
   },
   {
    "duration": 4,
    "start_time": "2022-05-15T20:12:09.023Z"
   },
   {
    "duration": 10,
    "start_time": "2022-05-15T20:12:12.174Z"
   },
   {
    "duration": 5,
    "start_time": "2022-05-15T20:12:39.391Z"
   },
   {
    "duration": 1949,
    "start_time": "2022-05-15T20:12:45.774Z"
   },
   {
    "duration": 10,
    "start_time": "2022-05-15T20:12:55.914Z"
   },
   {
    "duration": 2111,
    "start_time": "2022-05-15T20:13:15.669Z"
   },
   {
    "duration": 11,
    "start_time": "2022-05-15T20:13:23.766Z"
   },
   {
    "duration": 2186,
    "start_time": "2022-05-15T20:13:39.552Z"
   },
   {
    "duration": 2122,
    "start_time": "2022-05-15T20:13:45.866Z"
   },
   {
    "duration": 2511,
    "start_time": "2022-05-15T20:13:53.354Z"
   },
   {
    "duration": 7,
    "start_time": "2022-05-15T20:14:01.256Z"
   },
   {
    "duration": 2103,
    "start_time": "2022-05-15T20:14:09.511Z"
   },
   {
    "duration": 2294,
    "start_time": "2022-05-15T20:14:17.268Z"
   },
   {
    "duration": 8,
    "start_time": "2022-05-15T20:14:22.176Z"
   },
   {
    "duration": 24,
    "start_time": "2022-05-15T20:14:25.961Z"
   },
   {
    "duration": 7,
    "start_time": "2022-05-15T20:14:35.786Z"
   },
   {
    "duration": 5,
    "start_time": "2022-05-15T20:14:53.143Z"
   },
   {
    "duration": 7,
    "start_time": "2022-05-15T20:14:57.293Z"
   },
   {
    "duration": 182,
    "start_time": "2022-05-15T20:16:06.958Z"
   },
   {
    "duration": 9,
    "start_time": "2022-05-15T20:16:10.279Z"
   },
   {
    "duration": 8,
    "start_time": "2022-05-15T20:16:43.092Z"
   },
   {
    "duration": 7,
    "start_time": "2022-05-15T20:18:39.110Z"
   },
   {
    "duration": 8,
    "start_time": "2022-05-15T20:18:47.233Z"
   },
   {
    "duration": 15,
    "start_time": "2022-05-15T20:18:51.682Z"
   },
   {
    "duration": 1499,
    "start_time": "2022-05-15T20:19:18.953Z"
   },
   {
    "duration": 82,
    "start_time": "2022-05-15T20:19:20.455Z"
   },
   {
    "duration": 6,
    "start_time": "2022-05-15T20:19:20.539Z"
   },
   {
    "duration": 47,
    "start_time": "2022-05-15T20:19:20.550Z"
   },
   {
    "duration": 8,
    "start_time": "2022-05-15T20:19:20.599Z"
   },
   {
    "duration": 10,
    "start_time": "2022-05-15T20:19:20.610Z"
   },
   {
    "duration": 27,
    "start_time": "2022-05-15T20:19:20.622Z"
   },
   {
    "duration": 39,
    "start_time": "2022-05-15T20:19:20.651Z"
   },
   {
    "duration": 22,
    "start_time": "2022-05-15T20:19:20.692Z"
   },
   {
    "duration": 20,
    "start_time": "2022-05-15T20:19:20.720Z"
   },
   {
    "duration": 50,
    "start_time": "2022-05-15T20:19:20.743Z"
   },
   {
    "duration": 38,
    "start_time": "2022-05-15T20:19:20.795Z"
   },
   {
    "duration": 58,
    "start_time": "2022-05-15T20:19:20.836Z"
   },
   {
    "duration": 28,
    "start_time": "2022-05-15T20:19:20.897Z"
   },
   {
    "duration": 60,
    "start_time": "2022-05-15T20:19:20.928Z"
   },
   {
    "duration": 191,
    "start_time": "2022-05-15T20:19:20.991Z"
   },
   {
    "duration": 274,
    "start_time": "2022-05-15T20:19:21.185Z"
   },
   {
    "duration": 321,
    "start_time": "2022-05-15T20:19:21.463Z"
   },
   {
    "duration": 19,
    "start_time": "2022-05-15T20:19:21.786Z"
   },
   {
    "duration": 992,
    "start_time": "2022-05-15T20:19:21.807Z"
   },
   {
    "duration": 29,
    "start_time": "2022-05-15T20:19:22.801Z"
   },
   {
    "duration": 1180,
    "start_time": "2022-05-15T20:19:22.833Z"
   },
   {
    "duration": 218,
    "start_time": "2022-05-15T20:19:24.015Z"
   },
   {
    "duration": 246,
    "start_time": "2022-05-15T20:19:24.235Z"
   },
   {
    "duration": 16,
    "start_time": "2022-05-15T20:19:24.484Z"
   },
   {
    "duration": 19,
    "start_time": "2022-05-15T20:19:24.502Z"
   },
   {
    "duration": 18,
    "start_time": "2022-05-15T20:19:24.524Z"
   },
   {
    "duration": 279,
    "start_time": "2022-05-15T20:19:24.548Z"
   },
   {
    "duration": 321,
    "start_time": "2022-05-15T20:19:24.830Z"
   },
   {
    "duration": 32,
    "start_time": "2022-05-15T20:19:25.154Z"
   },
   {
    "duration": 27,
    "start_time": "2022-05-15T20:19:25.189Z"
   },
   {
    "duration": 6,
    "start_time": "2022-05-15T20:19:25.219Z"
   },
   {
    "duration": 1088,
    "start_time": "2022-05-15T20:19:25.227Z"
   },
   {
    "duration": 1202,
    "start_time": "2022-05-15T20:19:26.318Z"
   },
   {
    "duration": 99,
    "start_time": "2022-05-15T20:19:27.522Z"
   },
   {
    "duration": 21,
    "start_time": "2022-05-15T20:19:27.623Z"
   },
   {
    "duration": 54,
    "start_time": "2022-05-15T20:19:27.646Z"
   },
   {
    "duration": 2021,
    "start_time": "2022-05-15T20:19:27.702Z"
   },
   {
    "duration": 23,
    "start_time": "2022-05-15T20:19:29.726Z"
   },
   {
    "duration": 6,
    "start_time": "2022-05-15T20:19:29.751Z"
   },
   {
    "duration": 21,
    "start_time": "2022-05-15T20:19:29.782Z"
   },
   {
    "duration": 6,
    "start_time": "2022-05-15T20:19:29.805Z"
   },
   {
    "duration": 28,
    "start_time": "2022-05-15T20:19:29.814Z"
   },
   {
    "duration": 39,
    "start_time": "2022-05-15T20:19:29.844Z"
   },
   {
    "duration": 155,
    "start_time": "2022-05-15T20:19:29.885Z"
   },
   {
    "duration": 0,
    "start_time": "2022-05-15T20:19:30.042Z"
   },
   {
    "duration": 0,
    "start_time": "2022-05-15T20:19:30.043Z"
   },
   {
    "duration": 0,
    "start_time": "2022-05-15T20:19:30.044Z"
   },
   {
    "duration": 0,
    "start_time": "2022-05-15T20:19:30.046Z"
   },
   {
    "duration": 0,
    "start_time": "2022-05-15T20:19:30.048Z"
   },
   {
    "duration": 0,
    "start_time": "2022-05-15T20:19:30.049Z"
   },
   {
    "duration": 0,
    "start_time": "2022-05-15T20:19:30.051Z"
   },
   {
    "duration": 0,
    "start_time": "2022-05-15T20:19:30.053Z"
   },
   {
    "duration": 0,
    "start_time": "2022-05-15T20:19:30.055Z"
   },
   {
    "duration": 0,
    "start_time": "2022-05-15T20:19:30.056Z"
   },
   {
    "duration": 0,
    "start_time": "2022-05-15T20:19:30.082Z"
   },
   {
    "duration": 6,
    "start_time": "2022-05-15T20:21:47.932Z"
   },
   {
    "duration": 10,
    "start_time": "2022-05-15T20:21:52.277Z"
   },
   {
    "duration": 11,
    "start_time": "2022-05-15T20:22:45.888Z"
   },
   {
    "duration": 18,
    "start_time": "2022-05-15T20:22:50.178Z"
   },
   {
    "duration": 17,
    "start_time": "2022-05-15T20:23:02.036Z"
   },
   {
    "duration": 1463,
    "start_time": "2022-05-15T20:23:09.621Z"
   },
   {
    "duration": 82,
    "start_time": "2022-05-15T20:23:11.087Z"
   },
   {
    "duration": 11,
    "start_time": "2022-05-15T20:23:11.172Z"
   },
   {
    "duration": 22,
    "start_time": "2022-05-15T20:23:11.186Z"
   },
   {
    "duration": 7,
    "start_time": "2022-05-15T20:23:11.211Z"
   },
   {
    "duration": 9,
    "start_time": "2022-05-15T20:23:11.220Z"
   },
   {
    "duration": 55,
    "start_time": "2022-05-15T20:23:11.231Z"
   },
   {
    "duration": 6,
    "start_time": "2022-05-15T20:23:11.289Z"
   },
   {
    "duration": 17,
    "start_time": "2022-05-15T20:23:11.298Z"
   },
   {
    "duration": 20,
    "start_time": "2022-05-15T20:23:11.319Z"
   },
   {
    "duration": 47,
    "start_time": "2022-05-15T20:23:11.341Z"
   },
   {
    "duration": 29,
    "start_time": "2022-05-15T20:23:11.390Z"
   },
   {
    "duration": 23,
    "start_time": "2022-05-15T20:23:11.421Z"
   },
   {
    "duration": 55,
    "start_time": "2022-05-15T20:23:11.446Z"
   },
   {
    "duration": 27,
    "start_time": "2022-05-15T20:23:11.504Z"
   },
   {
    "duration": 155,
    "start_time": "2022-05-15T20:23:11.534Z"
   },
   {
    "duration": 414,
    "start_time": "2022-05-15T20:23:11.692Z"
   },
   {
    "duration": 482,
    "start_time": "2022-05-15T20:23:12.109Z"
   },
   {
    "duration": 27,
    "start_time": "2022-05-15T20:23:12.594Z"
   },
   {
    "duration": 1560,
    "start_time": "2022-05-15T20:23:12.624Z"
   },
   {
    "duration": 46,
    "start_time": "2022-05-15T20:23:14.187Z"
   },
   {
    "duration": 1222,
    "start_time": "2022-05-15T20:23:14.236Z"
   },
   {
    "duration": 213,
    "start_time": "2022-05-15T20:23:15.460Z"
   },
   {
    "duration": 242,
    "start_time": "2022-05-15T20:23:15.675Z"
   },
   {
    "duration": 16,
    "start_time": "2022-05-15T20:23:15.919Z"
   },
   {
    "duration": 16,
    "start_time": "2022-05-15T20:23:15.937Z"
   },
   {
    "duration": 41,
    "start_time": "2022-05-15T20:23:15.955Z"
   },
   {
    "duration": 237,
    "start_time": "2022-05-15T20:23:16.002Z"
   },
   {
    "duration": 235,
    "start_time": "2022-05-15T20:23:16.241Z"
   },
   {
    "duration": 14,
    "start_time": "2022-05-15T20:23:16.482Z"
   },
   {
    "duration": 23,
    "start_time": "2022-05-15T20:23:16.498Z"
   },
   {
    "duration": 7,
    "start_time": "2022-05-15T20:23:16.524Z"
   },
   {
    "duration": 1676,
    "start_time": "2022-05-15T20:23:16.534Z"
   },
   {
    "duration": 1237,
    "start_time": "2022-05-15T20:23:18.213Z"
   },
   {
    "duration": 94,
    "start_time": "2022-05-15T20:23:19.453Z"
   },
   {
    "duration": 49,
    "start_time": "2022-05-15T20:23:19.549Z"
   },
   {
    "duration": 28,
    "start_time": "2022-05-15T20:23:19.600Z"
   },
   {
    "duration": 2341,
    "start_time": "2022-05-15T20:23:19.630Z"
   },
   {
    "duration": 26,
    "start_time": "2022-05-15T20:23:21.973Z"
   },
   {
    "duration": 10,
    "start_time": "2022-05-15T20:23:22.001Z"
   },
   {
    "duration": 15,
    "start_time": "2022-05-15T20:23:22.013Z"
   },
   {
    "duration": 52,
    "start_time": "2022-05-15T20:23:22.030Z"
   },
   {
    "duration": 6,
    "start_time": "2022-05-15T20:23:22.084Z"
   },
   {
    "duration": 23,
    "start_time": "2022-05-15T20:23:22.092Z"
   },
   {
    "duration": 6,
    "start_time": "2022-05-15T20:23:22.117Z"
   },
   {
    "duration": 177,
    "start_time": "2022-05-15T20:23:22.124Z"
   },
   {
    "duration": 0,
    "start_time": "2022-05-15T20:23:22.303Z"
   },
   {
    "duration": 0,
    "start_time": "2022-05-15T20:23:22.305Z"
   },
   {
    "duration": 0,
    "start_time": "2022-05-15T20:23:22.306Z"
   },
   {
    "duration": 0,
    "start_time": "2022-05-15T20:23:22.308Z"
   },
   {
    "duration": 0,
    "start_time": "2022-05-15T20:23:22.310Z"
   },
   {
    "duration": 0,
    "start_time": "2022-05-15T20:23:22.311Z"
   },
   {
    "duration": 0,
    "start_time": "2022-05-15T20:23:22.313Z"
   },
   {
    "duration": 0,
    "start_time": "2022-05-15T20:23:22.314Z"
   },
   {
    "duration": 0,
    "start_time": "2022-05-15T20:23:22.315Z"
   },
   {
    "duration": 0,
    "start_time": "2022-05-15T20:23:22.316Z"
   },
   {
    "duration": 0,
    "start_time": "2022-05-15T20:23:22.318Z"
   },
   {
    "duration": 21,
    "start_time": "2022-05-15T20:24:20.755Z"
   },
   {
    "duration": 11,
    "start_time": "2022-05-15T20:24:43.630Z"
   },
   {
    "duration": 12,
    "start_time": "2022-05-15T20:26:00.512Z"
   },
   {
    "duration": 13,
    "start_time": "2022-05-15T20:26:14.151Z"
   },
   {
    "duration": 20,
    "start_time": "2022-05-15T20:26:59.209Z"
   },
   {
    "duration": 228,
    "start_time": "2022-05-15T20:27:02.145Z"
   },
   {
    "duration": 18,
    "start_time": "2022-05-15T20:27:11.533Z"
   },
   {
    "duration": 12,
    "start_time": "2022-05-15T20:27:30.815Z"
   },
   {
    "duration": 13,
    "start_time": "2022-05-15T20:27:53.449Z"
   },
   {
    "duration": 16,
    "start_time": "2022-05-15T20:29:17.732Z"
   },
   {
    "duration": 9,
    "start_time": "2022-05-15T20:29:22.567Z"
   },
   {
    "duration": 7,
    "start_time": "2022-05-15T20:29:25.358Z"
   },
   {
    "duration": 283,
    "start_time": "2022-05-15T20:30:26.282Z"
   },
   {
    "duration": 300,
    "start_time": "2022-05-15T20:31:27.524Z"
   },
   {
    "duration": 277,
    "start_time": "2022-05-15T20:31:40.798Z"
   },
   {
    "duration": 279,
    "start_time": "2022-05-15T20:31:43.695Z"
   },
   {
    "duration": 5,
    "start_time": "2022-05-15T20:32:23.534Z"
   },
   {
    "duration": 272,
    "start_time": "2022-05-15T20:32:25.930Z"
   },
   {
    "duration": 268,
    "start_time": "2022-05-15T20:32:47.596Z"
   },
   {
    "duration": 272,
    "start_time": "2022-05-15T20:32:58.361Z"
   },
   {
    "duration": 269,
    "start_time": "2022-05-15T20:33:04.401Z"
   },
   {
    "duration": 376,
    "start_time": "2022-05-15T20:33:50.808Z"
   },
   {
    "duration": 136,
    "start_time": "2022-05-15T20:34:35.709Z"
   },
   {
    "duration": 130,
    "start_time": "2022-05-15T20:34:40.370Z"
   },
   {
    "duration": 433,
    "start_time": "2022-05-15T20:34:45.706Z"
   },
   {
    "duration": 306,
    "start_time": "2022-05-15T20:35:01.668Z"
   },
   {
    "duration": 299,
    "start_time": "2022-05-15T20:35:09.010Z"
   },
   {
    "duration": 301,
    "start_time": "2022-05-15T20:35:13.615Z"
   },
   {
    "duration": 300,
    "start_time": "2022-05-15T20:36:35.628Z"
   },
   {
    "duration": 299,
    "start_time": "2022-05-15T20:36:40.718Z"
   },
   {
    "duration": 2269,
    "start_time": "2022-05-15T20:38:06.090Z"
   },
   {
    "duration": 16,
    "start_time": "2022-05-15T20:38:32.309Z"
   },
   {
    "duration": 10,
    "start_time": "2022-05-15T20:39:39.583Z"
   },
   {
    "duration": 1473,
    "start_time": "2022-05-15T20:39:52.582Z"
   },
   {
    "duration": 81,
    "start_time": "2022-05-15T20:39:54.058Z"
   },
   {
    "duration": 7,
    "start_time": "2022-05-15T20:39:54.142Z"
   },
   {
    "duration": 39,
    "start_time": "2022-05-15T20:39:54.152Z"
   },
   {
    "duration": 7,
    "start_time": "2022-05-15T20:39:54.193Z"
   },
   {
    "duration": 8,
    "start_time": "2022-05-15T20:39:54.203Z"
   },
   {
    "duration": 28,
    "start_time": "2022-05-15T20:39:54.214Z"
   },
   {
    "duration": 37,
    "start_time": "2022-05-15T20:39:54.245Z"
   },
   {
    "duration": 16,
    "start_time": "2022-05-15T20:39:54.284Z"
   },
   {
    "duration": 22,
    "start_time": "2022-05-15T20:39:54.304Z"
   },
   {
    "duration": 13,
    "start_time": "2022-05-15T20:39:54.329Z"
   },
   {
    "duration": 63,
    "start_time": "2022-05-15T20:39:54.344Z"
   },
   {
    "duration": 25,
    "start_time": "2022-05-15T20:39:54.409Z"
   },
   {
    "duration": 49,
    "start_time": "2022-05-15T20:39:54.438Z"
   },
   {
    "duration": 27,
    "start_time": "2022-05-15T20:39:54.490Z"
   },
   {
    "duration": 127,
    "start_time": "2022-05-15T20:39:54.532Z"
   },
   {
    "duration": 293,
    "start_time": "2022-05-15T20:39:54.662Z"
   },
   {
    "duration": 340,
    "start_time": "2022-05-15T20:39:54.958Z"
   },
   {
    "duration": 22,
    "start_time": "2022-05-15T20:39:55.300Z"
   },
   {
    "duration": 997,
    "start_time": "2022-05-15T20:39:55.325Z"
   },
   {
    "duration": 56,
    "start_time": "2022-05-15T20:39:56.325Z"
   },
   {
    "duration": 1884,
    "start_time": "2022-05-15T20:39:56.384Z"
   },
   {
    "duration": 315,
    "start_time": "2022-05-15T20:39:58.271Z"
   },
   {
    "duration": 349,
    "start_time": "2022-05-15T20:39:58.589Z"
   },
   {
    "duration": 21,
    "start_time": "2022-05-15T20:39:58.941Z"
   },
   {
    "duration": 21,
    "start_time": "2022-05-15T20:39:58.982Z"
   },
   {
    "duration": 29,
    "start_time": "2022-05-15T20:39:59.005Z"
   },
   {
    "duration": 263,
    "start_time": "2022-05-15T20:39:59.042Z"
   },
   {
    "duration": 241,
    "start_time": "2022-05-15T20:39:59.308Z"
   },
   {
    "duration": 12,
    "start_time": "2022-05-15T20:39:59.552Z"
   },
   {
    "duration": 34,
    "start_time": "2022-05-15T20:39:59.566Z"
   },
   {
    "duration": 11,
    "start_time": "2022-05-15T20:39:59.603Z"
   },
   {
    "duration": 1200,
    "start_time": "2022-05-15T20:39:59.616Z"
   },
   {
    "duration": 1219,
    "start_time": "2022-05-15T20:40:00.819Z"
   },
   {
    "duration": 99,
    "start_time": "2022-05-15T20:40:02.041Z"
   },
   {
    "duration": 50,
    "start_time": "2022-05-15T20:40:02.142Z"
   },
   {
    "duration": 23,
    "start_time": "2022-05-15T20:40:02.195Z"
   },
   {
    "duration": 2048,
    "start_time": "2022-05-15T20:40:02.221Z"
   },
   {
    "duration": 21,
    "start_time": "2022-05-15T20:40:04.281Z"
   },
   {
    "duration": 9,
    "start_time": "2022-05-15T20:40:04.304Z"
   },
   {
    "duration": 27,
    "start_time": "2022-05-15T20:40:04.315Z"
   },
   {
    "duration": 8,
    "start_time": "2022-05-15T20:40:04.344Z"
   },
   {
    "duration": 22,
    "start_time": "2022-05-15T20:40:04.381Z"
   },
   {
    "duration": 6,
    "start_time": "2022-05-15T20:40:04.405Z"
   },
   {
    "duration": 338,
    "start_time": "2022-05-15T20:40:04.413Z"
   },
   {
    "duration": 159,
    "start_time": "2022-05-15T20:40:04.753Z"
   },
   {
    "duration": 0,
    "start_time": "2022-05-15T20:40:04.914Z"
   },
   {
    "duration": 0,
    "start_time": "2022-05-15T20:40:04.916Z"
   },
   {
    "duration": 0,
    "start_time": "2022-05-15T20:40:04.918Z"
   },
   {
    "duration": 0,
    "start_time": "2022-05-15T20:40:04.919Z"
   },
   {
    "duration": 0,
    "start_time": "2022-05-15T20:40:04.921Z"
   },
   {
    "duration": 0,
    "start_time": "2022-05-15T20:40:04.922Z"
   },
   {
    "duration": 0,
    "start_time": "2022-05-15T20:40:04.924Z"
   },
   {
    "duration": 0,
    "start_time": "2022-05-15T20:40:04.925Z"
   },
   {
    "duration": 0,
    "start_time": "2022-05-15T20:40:04.927Z"
   },
   {
    "duration": 0,
    "start_time": "2022-05-15T20:40:04.928Z"
   },
   {
    "duration": 0,
    "start_time": "2022-05-15T20:40:04.929Z"
   },
   {
    "duration": 286,
    "start_time": "2022-05-15T20:40:22.454Z"
   },
   {
    "duration": 2478,
    "start_time": "2022-05-15T20:41:27.320Z"
   },
   {
    "duration": 1346,
    "start_time": "2022-05-15T20:41:42.488Z"
   },
   {
    "duration": 661,
    "start_time": "2022-05-15T20:41:59.020Z"
   },
   {
    "duration": 910,
    "start_time": "2022-05-15T20:42:08.750Z"
   },
   {
    "duration": 932,
    "start_time": "2022-05-15T20:42:27.808Z"
   },
   {
    "duration": 949,
    "start_time": "2022-05-15T20:43:12.579Z"
   },
   {
    "duration": 831,
    "start_time": "2022-05-15T20:44:11.013Z"
   },
   {
    "duration": 939,
    "start_time": "2022-05-15T20:44:21.665Z"
   },
   {
    "duration": 918,
    "start_time": "2022-05-15T20:44:43.998Z"
   },
   {
    "duration": 900,
    "start_time": "2022-05-15T20:45:17.031Z"
   },
   {
    "duration": 1028,
    "start_time": "2022-05-15T20:45:21.094Z"
   },
   {
    "duration": 986,
    "start_time": "2022-05-15T20:45:29.216Z"
   },
   {
    "duration": 841,
    "start_time": "2022-05-15T20:48:56.272Z"
   },
   {
    "duration": 687,
    "start_time": "2022-05-15T20:49:04.304Z"
   },
   {
    "duration": 446,
    "start_time": "2022-05-15T20:49:18.258Z"
   },
   {
    "duration": 432,
    "start_time": "2022-05-15T20:49:35.300Z"
   },
   {
    "duration": 535,
    "start_time": "2022-05-15T20:49:39.723Z"
   },
   {
    "duration": 439,
    "start_time": "2022-05-15T20:49:43.203Z"
   },
   {
    "duration": 435,
    "start_time": "2022-05-15T20:49:49.432Z"
   },
   {
    "duration": 427,
    "start_time": "2022-05-15T20:49:51.499Z"
   },
   {
    "duration": 21,
    "start_time": "2022-05-15T21:02:08.227Z"
   },
   {
    "duration": 7,
    "start_time": "2022-05-15T21:02:13.402Z"
   },
   {
    "duration": 21,
    "start_time": "2022-05-15T21:02:58.209Z"
   },
   {
    "duration": 7,
    "start_time": "2022-05-15T21:03:01.123Z"
   },
   {
    "duration": 27,
    "start_time": "2022-05-15T21:03:33.420Z"
   },
   {
    "duration": 12,
    "start_time": "2022-05-15T21:03:36.878Z"
   },
   {
    "duration": 506,
    "start_time": "2022-05-15T21:11:26.160Z"
   },
   {
    "duration": 51,
    "start_time": "2022-05-15T21:19:50.062Z"
   },
   {
    "duration": 12,
    "start_time": "2022-05-15T21:21:18.058Z"
   },
   {
    "duration": 35,
    "start_time": "2022-05-15T21:28:14.732Z"
   },
   {
    "duration": 11,
    "start_time": "2022-05-15T21:28:45.582Z"
   },
   {
    "duration": 5,
    "start_time": "2022-05-15T21:28:51.134Z"
   },
   {
    "duration": 6,
    "start_time": "2022-05-15T21:29:00.525Z"
   },
   {
    "duration": 7,
    "start_time": "2022-05-15T21:29:09.406Z"
   },
   {
    "duration": 6,
    "start_time": "2022-05-15T21:29:40.152Z"
   },
   {
    "duration": 9,
    "start_time": "2022-05-15T21:29:44.441Z"
   },
   {
    "duration": 8,
    "start_time": "2022-05-15T21:30:04.742Z"
   },
   {
    "duration": 8,
    "start_time": "2022-05-15T21:30:11.759Z"
   },
   {
    "duration": 9,
    "start_time": "2022-05-15T21:30:14.509Z"
   },
   {
    "duration": 7,
    "start_time": "2022-05-15T21:30:26.501Z"
   },
   {
    "duration": 64,
    "start_time": "2022-05-15T21:30:29.705Z"
   },
   {
    "duration": 1620,
    "start_time": "2022-05-15T21:30:46.944Z"
   },
   {
    "duration": 80,
    "start_time": "2022-05-15T21:30:48.566Z"
   },
   {
    "duration": 8,
    "start_time": "2022-05-15T21:30:48.649Z"
   },
   {
    "duration": 41,
    "start_time": "2022-05-15T21:30:48.660Z"
   },
   {
    "duration": 8,
    "start_time": "2022-05-15T21:30:48.706Z"
   },
   {
    "duration": 13,
    "start_time": "2022-05-15T21:30:48.717Z"
   },
   {
    "duration": 50,
    "start_time": "2022-05-15T21:30:48.733Z"
   },
   {
    "duration": 8,
    "start_time": "2022-05-15T21:30:48.786Z"
   },
   {
    "duration": 26,
    "start_time": "2022-05-15T21:30:48.797Z"
   },
   {
    "duration": 26,
    "start_time": "2022-05-15T21:30:48.827Z"
   },
   {
    "duration": 13,
    "start_time": "2022-05-15T21:30:48.882Z"
   },
   {
    "duration": 36,
    "start_time": "2022-05-15T21:30:48.897Z"
   },
   {
    "duration": 21,
    "start_time": "2022-05-15T21:30:48.935Z"
   },
   {
    "duration": 22,
    "start_time": "2022-05-15T21:30:48.984Z"
   },
   {
    "duration": 28,
    "start_time": "2022-05-15T21:30:49.008Z"
   },
   {
    "duration": 148,
    "start_time": "2022-05-15T21:30:49.038Z"
   },
   {
    "duration": 281,
    "start_time": "2022-05-15T21:30:49.189Z"
   },
   {
    "duration": 334,
    "start_time": "2022-05-15T21:30:49.472Z"
   },
   {
    "duration": 18,
    "start_time": "2022-05-15T21:30:49.809Z"
   },
   {
    "duration": 1099,
    "start_time": "2022-05-15T21:30:49.830Z"
   },
   {
    "duration": 30,
    "start_time": "2022-05-15T21:30:50.931Z"
   },
   {
    "duration": 1199,
    "start_time": "2022-05-15T21:30:50.963Z"
   },
   {
    "duration": 222,
    "start_time": "2022-05-15T21:30:52.165Z"
   },
   {
    "duration": 244,
    "start_time": "2022-05-15T21:30:52.389Z"
   },
   {
    "duration": 16,
    "start_time": "2022-05-15T21:30:52.635Z"
   },
   {
    "duration": 38,
    "start_time": "2022-05-15T21:30:52.653Z"
   },
   {
    "duration": 27,
    "start_time": "2022-05-15T21:30:52.693Z"
   },
   {
    "duration": 352,
    "start_time": "2022-05-15T21:30:52.723Z"
   },
   {
    "duration": 235,
    "start_time": "2022-05-15T21:30:53.083Z"
   },
   {
    "duration": 13,
    "start_time": "2022-05-15T21:30:53.320Z"
   },
   {
    "duration": 21,
    "start_time": "2022-05-15T21:30:53.335Z"
   },
   {
    "duration": 7,
    "start_time": "2022-05-15T21:30:53.381Z"
   },
   {
    "duration": 1100,
    "start_time": "2022-05-15T21:30:53.390Z"
   },
   {
    "duration": 1212,
    "start_time": "2022-05-15T21:30:54.493Z"
   },
   {
    "duration": 103,
    "start_time": "2022-05-15T21:30:55.707Z"
   },
   {
    "duration": 20,
    "start_time": "2022-05-15T21:30:55.813Z"
   },
   {
    "duration": 64,
    "start_time": "2022-05-15T21:30:55.835Z"
   },
   {
    "duration": 2106,
    "start_time": "2022-05-15T21:30:55.901Z"
   },
   {
    "duration": 21,
    "start_time": "2022-05-15T21:30:58.009Z"
   },
   {
    "duration": 10,
    "start_time": "2022-05-15T21:30:58.032Z"
   },
   {
    "duration": 49,
    "start_time": "2022-05-15T21:30:58.049Z"
   },
   {
    "duration": 6,
    "start_time": "2022-05-15T21:30:58.100Z"
   },
   {
    "duration": 20,
    "start_time": "2022-05-15T21:30:58.109Z"
   },
   {
    "duration": 7,
    "start_time": "2022-05-15T21:30:58.132Z"
   },
   {
    "duration": 479,
    "start_time": "2022-05-15T21:30:58.142Z"
   },
   {
    "duration": 21,
    "start_time": "2022-05-15T21:30:58.623Z"
   },
   {
    "duration": 34,
    "start_time": "2022-05-15T21:30:58.647Z"
   },
   {
    "duration": 22,
    "start_time": "2022-05-15T21:30:58.684Z"
   },
   {
    "duration": 15,
    "start_time": "2022-05-15T21:30:58.708Z"
   },
   {
    "duration": 22,
    "start_time": "2022-05-15T21:30:58.725Z"
   },
   {
    "duration": 33,
    "start_time": "2022-05-15T21:30:58.750Z"
   },
   {
    "duration": 465,
    "start_time": "2022-05-15T21:30:58.785Z"
   },
   {
    "duration": 69,
    "start_time": "2022-05-15T21:30:59.253Z"
   },
   {
    "duration": 13,
    "start_time": "2022-05-15T21:30:59.325Z"
   },
   {
    "duration": 42,
    "start_time": "2022-05-15T21:30:59.340Z"
   },
   {
    "duration": 7,
    "start_time": "2022-05-15T21:30:59.384Z"
   },
   {
    "duration": 15,
    "start_time": "2022-05-15T21:30:59.393Z"
   },
   {
    "duration": 7,
    "start_time": "2022-05-15T21:30:59.410Z"
   },
   {
    "duration": 6,
    "start_time": "2022-05-15T21:33:11.105Z"
   },
   {
    "duration": 1587,
    "start_time": "2022-05-15T21:33:18.286Z"
   },
   {
    "duration": 90,
    "start_time": "2022-05-15T21:33:19.875Z"
   },
   {
    "duration": 6,
    "start_time": "2022-05-15T21:33:19.967Z"
   },
   {
    "duration": 25,
    "start_time": "2022-05-15T21:33:19.976Z"
   },
   {
    "duration": 7,
    "start_time": "2022-05-15T21:33:20.005Z"
   },
   {
    "duration": 14,
    "start_time": "2022-05-15T21:33:20.014Z"
   },
   {
    "duration": 18,
    "start_time": "2022-05-15T21:33:20.031Z"
   },
   {
    "duration": 36,
    "start_time": "2022-05-15T21:33:20.052Z"
   },
   {
    "duration": 23,
    "start_time": "2022-05-15T21:33:20.090Z"
   },
   {
    "duration": 21,
    "start_time": "2022-05-15T21:33:20.115Z"
   },
   {
    "duration": 13,
    "start_time": "2022-05-15T21:33:20.138Z"
   },
   {
    "duration": 31,
    "start_time": "2022-05-15T21:33:20.182Z"
   },
   {
    "duration": 23,
    "start_time": "2022-05-15T21:33:20.215Z"
   },
   {
    "duration": 57,
    "start_time": "2022-05-15T21:33:20.245Z"
   },
   {
    "duration": 30,
    "start_time": "2022-05-15T21:33:20.304Z"
   },
   {
    "duration": 160,
    "start_time": "2022-05-15T21:33:20.337Z"
   },
   {
    "duration": 275,
    "start_time": "2022-05-15T21:33:20.500Z"
   },
   {
    "duration": 322,
    "start_time": "2022-05-15T21:33:20.778Z"
   },
   {
    "duration": 19,
    "start_time": "2022-05-15T21:33:21.103Z"
   },
   {
    "duration": 1026,
    "start_time": "2022-05-15T21:33:21.124Z"
   },
   {
    "duration": 45,
    "start_time": "2022-05-15T21:33:22.152Z"
   },
   {
    "duration": 1188,
    "start_time": "2022-05-15T21:33:22.199Z"
   },
   {
    "duration": 216,
    "start_time": "2022-05-15T21:33:23.389Z"
   },
   {
    "duration": 242,
    "start_time": "2022-05-15T21:33:23.607Z"
   },
   {
    "duration": 30,
    "start_time": "2022-05-15T21:33:23.852Z"
   },
   {
    "duration": 16,
    "start_time": "2022-05-15T21:33:23.884Z"
   },
   {
    "duration": 19,
    "start_time": "2022-05-15T21:33:23.902Z"
   },
   {
    "duration": 261,
    "start_time": "2022-05-15T21:33:23.923Z"
   },
   {
    "duration": 235,
    "start_time": "2022-05-15T21:33:24.187Z"
   },
   {
    "duration": 12,
    "start_time": "2022-05-15T21:33:24.425Z"
   },
   {
    "duration": 43,
    "start_time": "2022-05-15T21:33:24.439Z"
   },
   {
    "duration": 7,
    "start_time": "2022-05-15T21:33:24.484Z"
   },
   {
    "duration": 1097,
    "start_time": "2022-05-15T21:33:24.493Z"
   },
   {
    "duration": 1186,
    "start_time": "2022-05-15T21:33:25.593Z"
   },
   {
    "duration": 114,
    "start_time": "2022-05-15T21:33:26.781Z"
   },
   {
    "duration": 21,
    "start_time": "2022-05-15T21:33:26.897Z"
   },
   {
    "duration": 21,
    "start_time": "2022-05-15T21:33:26.920Z"
   },
   {
    "duration": 2161,
    "start_time": "2022-05-15T21:33:26.944Z"
   },
   {
    "duration": 21,
    "start_time": "2022-05-15T21:33:29.107Z"
   },
   {
    "duration": 7,
    "start_time": "2022-05-15T21:33:29.130Z"
   },
   {
    "duration": 60,
    "start_time": "2022-05-15T21:33:29.146Z"
   },
   {
    "duration": 9,
    "start_time": "2022-05-15T21:33:29.209Z"
   },
   {
    "duration": 27,
    "start_time": "2022-05-15T21:33:29.221Z"
   },
   {
    "duration": 8,
    "start_time": "2022-05-15T21:33:29.283Z"
   },
   {
    "duration": 467,
    "start_time": "2022-05-15T21:33:29.294Z"
   },
   {
    "duration": 31,
    "start_time": "2022-05-15T21:33:29.763Z"
   },
   {
    "duration": 8,
    "start_time": "2022-05-15T21:33:29.796Z"
   },
   {
    "duration": 23,
    "start_time": "2022-05-15T21:33:29.806Z"
   },
   {
    "duration": 6,
    "start_time": "2022-05-15T21:33:29.831Z"
   },
   {
    "duration": 61,
    "start_time": "2022-05-15T21:33:29.839Z"
   },
   {
    "duration": 10,
    "start_time": "2022-05-15T21:33:29.902Z"
   },
   {
    "duration": 485,
    "start_time": "2022-05-15T21:33:29.914Z"
   },
   {
    "duration": 6,
    "start_time": "2022-05-15T21:33:30.401Z"
   },
   {
    "duration": 85,
    "start_time": "2022-05-15T21:33:30.409Z"
   },
   {
    "duration": 20,
    "start_time": "2022-05-15T21:33:30.496Z"
   },
   {
    "duration": 19,
    "start_time": "2022-05-15T21:33:30.518Z"
   },
   {
    "duration": 8,
    "start_time": "2022-05-15T21:33:30.539Z"
   },
   {
    "duration": 46,
    "start_time": "2022-05-15T21:33:30.549Z"
   },
   {
    "duration": 14,
    "start_time": "2022-05-15T21:33:30.598Z"
   },
   {
    "duration": 8,
    "start_time": "2022-05-15T21:33:44.718Z"
   },
   {
    "duration": 5,
    "start_time": "2022-05-15T21:33:51.762Z"
   },
   {
    "duration": 7,
    "start_time": "2022-05-15T21:34:03.911Z"
   },
   {
    "duration": 15,
    "start_time": "2022-05-15T21:34:09.895Z"
   },
   {
    "duration": 1696,
    "start_time": "2022-05-15T21:34:30.041Z"
   },
   {
    "duration": 85,
    "start_time": "2022-05-15T21:34:31.740Z"
   },
   {
    "duration": 8,
    "start_time": "2022-05-15T21:34:31.828Z"
   },
   {
    "duration": 45,
    "start_time": "2022-05-15T21:34:31.840Z"
   },
   {
    "duration": 7,
    "start_time": "2022-05-15T21:34:31.888Z"
   },
   {
    "duration": 16,
    "start_time": "2022-05-15T21:34:31.898Z"
   },
   {
    "duration": 27,
    "start_time": "2022-05-15T21:34:31.917Z"
   },
   {
    "duration": 38,
    "start_time": "2022-05-15T21:34:31.947Z"
   },
   {
    "duration": 18,
    "start_time": "2022-05-15T21:34:31.988Z"
   },
   {
    "duration": 21,
    "start_time": "2022-05-15T21:34:32.011Z"
   },
   {
    "duration": 52,
    "start_time": "2022-05-15T21:34:32.035Z"
   },
   {
    "duration": 28,
    "start_time": "2022-05-15T21:34:32.089Z"
   },
   {
    "duration": 62,
    "start_time": "2022-05-15T21:34:32.120Z"
   },
   {
    "duration": 31,
    "start_time": "2022-05-15T21:34:32.185Z"
   },
   {
    "duration": 31,
    "start_time": "2022-05-15T21:34:32.219Z"
   },
   {
    "duration": 157,
    "start_time": "2022-05-15T21:34:32.252Z"
   },
   {
    "duration": 298,
    "start_time": "2022-05-15T21:34:32.411Z"
   },
   {
    "duration": 336,
    "start_time": "2022-05-15T21:34:32.712Z"
   },
   {
    "duration": 35,
    "start_time": "2022-05-15T21:34:33.051Z"
   },
   {
    "duration": 998,
    "start_time": "2022-05-15T21:34:33.088Z"
   },
   {
    "duration": 30,
    "start_time": "2022-05-15T21:34:34.089Z"
   },
   {
    "duration": 1214,
    "start_time": "2022-05-15T21:34:34.122Z"
   },
   {
    "duration": 226,
    "start_time": "2022-05-15T21:34:35.339Z"
   },
   {
    "duration": 247,
    "start_time": "2022-05-15T21:34:35.568Z"
   },
   {
    "duration": 17,
    "start_time": "2022-05-15T21:34:35.818Z"
   },
   {
    "duration": 46,
    "start_time": "2022-05-15T21:34:35.838Z"
   },
   {
    "duration": 25,
    "start_time": "2022-05-15T21:34:35.888Z"
   },
   {
    "duration": 267,
    "start_time": "2022-05-15T21:34:35.918Z"
   },
   {
    "duration": 250,
    "start_time": "2022-05-15T21:34:36.188Z"
   },
   {
    "duration": 12,
    "start_time": "2022-05-15T21:34:36.441Z"
   },
   {
    "duration": 39,
    "start_time": "2022-05-15T21:34:36.455Z"
   },
   {
    "duration": 8,
    "start_time": "2022-05-15T21:34:36.497Z"
   },
   {
    "duration": 1229,
    "start_time": "2022-05-15T21:34:36.507Z"
   },
   {
    "duration": 1222,
    "start_time": "2022-05-15T21:34:37.738Z"
   },
   {
    "duration": 165,
    "start_time": "2022-05-15T21:34:38.963Z"
   },
   {
    "duration": 21,
    "start_time": "2022-05-15T21:34:39.130Z"
   },
   {
    "duration": 49,
    "start_time": "2022-05-15T21:34:39.154Z"
   },
   {
    "duration": 2178,
    "start_time": "2022-05-15T21:34:39.206Z"
   },
   {
    "duration": 22,
    "start_time": "2022-05-15T21:34:41.388Z"
   },
   {
    "duration": 8,
    "start_time": "2022-05-15T21:34:41.412Z"
   },
   {
    "duration": 20,
    "start_time": "2022-05-15T21:34:41.423Z"
   },
   {
    "duration": 39,
    "start_time": "2022-05-15T21:34:41.446Z"
   },
   {
    "duration": 24,
    "start_time": "2022-05-15T21:34:41.487Z"
   },
   {
    "duration": 6,
    "start_time": "2022-05-15T21:34:41.513Z"
   },
   {
    "duration": 711,
    "start_time": "2022-05-15T21:34:41.522Z"
   },
   {
    "duration": 22,
    "start_time": "2022-05-15T21:34:42.236Z"
   },
   {
    "duration": 25,
    "start_time": "2022-05-15T21:34:42.261Z"
   },
   {
    "duration": 22,
    "start_time": "2022-05-15T21:34:42.288Z"
   },
   {
    "duration": 5,
    "start_time": "2022-05-15T21:34:42.313Z"
   },
   {
    "duration": 65,
    "start_time": "2022-05-15T21:34:42.320Z"
   },
   {
    "duration": 6,
    "start_time": "2022-05-15T21:34:42.388Z"
   },
   {
    "duration": 492,
    "start_time": "2022-05-15T21:34:42.396Z"
   },
   {
    "duration": 10,
    "start_time": "2022-05-15T21:34:42.890Z"
   },
   {
    "duration": 81,
    "start_time": "2022-05-15T21:34:42.902Z"
   },
   {
    "duration": 12,
    "start_time": "2022-05-15T21:34:42.986Z"
   },
   {
    "duration": 16,
    "start_time": "2022-05-15T21:34:43.000Z"
   },
   {
    "duration": 7,
    "start_time": "2022-05-15T21:34:43.019Z"
   },
   {
    "duration": 53,
    "start_time": "2022-05-15T21:34:43.029Z"
   },
   {
    "duration": 8,
    "start_time": "2022-05-15T21:34:43.085Z"
   },
   {
    "duration": 8,
    "start_time": "2022-05-15T21:40:22.687Z"
   },
   {
    "duration": 1520,
    "start_time": "2022-05-15T21:56:11.422Z"
   },
   {
    "duration": 78,
    "start_time": "2022-05-15T21:56:12.944Z"
   },
   {
    "duration": 6,
    "start_time": "2022-05-15T21:56:13.024Z"
   },
   {
    "duration": 23,
    "start_time": "2022-05-15T21:56:13.033Z"
   },
   {
    "duration": 26,
    "start_time": "2022-05-15T21:56:13.058Z"
   },
   {
    "duration": 8,
    "start_time": "2022-05-15T21:56:13.086Z"
   },
   {
    "duration": 19,
    "start_time": "2022-05-15T21:56:13.096Z"
   },
   {
    "duration": 8,
    "start_time": "2022-05-15T21:56:13.117Z"
   },
   {
    "duration": 54,
    "start_time": "2022-05-15T21:56:13.128Z"
   },
   {
    "duration": 21,
    "start_time": "2022-05-15T21:56:13.187Z"
   },
   {
    "duration": 14,
    "start_time": "2022-05-15T21:56:13.210Z"
   },
   {
    "duration": 68,
    "start_time": "2022-05-15T21:56:13.227Z"
   },
   {
    "duration": 24,
    "start_time": "2022-05-15T21:56:13.298Z"
   },
   {
    "duration": 24,
    "start_time": "2022-05-15T21:56:13.324Z"
   },
   {
    "duration": 58,
    "start_time": "2022-05-15T21:56:13.350Z"
   },
   {
    "duration": 128,
    "start_time": "2022-05-15T21:56:13.411Z"
   },
   {
    "duration": 284,
    "start_time": "2022-05-15T21:56:13.542Z"
   },
   {
    "duration": 319,
    "start_time": "2022-05-15T21:56:13.828Z"
   },
   {
    "duration": 33,
    "start_time": "2022-05-15T21:56:14.150Z"
   },
   {
    "duration": 1062,
    "start_time": "2022-05-15T21:56:14.185Z"
   },
   {
    "duration": 37,
    "start_time": "2022-05-15T21:56:15.249Z"
   },
   {
    "duration": 1187,
    "start_time": "2022-05-15T21:56:15.288Z"
   },
   {
    "duration": 213,
    "start_time": "2022-05-15T21:56:16.477Z"
   },
   {
    "duration": 235,
    "start_time": "2022-05-15T21:56:16.692Z"
   },
   {
    "duration": 15,
    "start_time": "2022-05-15T21:56:16.930Z"
   },
   {
    "duration": 36,
    "start_time": "2022-05-15T21:56:16.947Z"
   },
   {
    "duration": 15,
    "start_time": "2022-05-15T21:56:16.985Z"
   },
   {
    "duration": 251,
    "start_time": "2022-05-15T21:56:17.006Z"
   },
   {
    "duration": 225,
    "start_time": "2022-05-15T21:56:17.259Z"
   },
   {
    "duration": 12,
    "start_time": "2022-05-15T21:56:17.486Z"
   },
   {
    "duration": 22,
    "start_time": "2022-05-15T21:56:17.500Z"
   },
   {
    "duration": 9,
    "start_time": "2022-05-15T21:56:17.524Z"
   },
   {
    "duration": 1083,
    "start_time": "2022-05-15T21:56:17.535Z"
   },
   {
    "duration": 1176,
    "start_time": "2022-05-15T21:56:18.620Z"
   },
   {
    "duration": 107,
    "start_time": "2022-05-15T21:56:19.799Z"
   },
   {
    "duration": 22,
    "start_time": "2022-05-15T21:56:19.909Z"
   },
   {
    "duration": 62,
    "start_time": "2022-05-15T21:56:19.933Z"
   },
   {
    "duration": 2408,
    "start_time": "2022-05-15T21:56:19.997Z"
   },
   {
    "duration": 21,
    "start_time": "2022-05-15T21:56:22.407Z"
   },
   {
    "duration": 9,
    "start_time": "2022-05-15T21:56:22.430Z"
   },
   {
    "duration": 48,
    "start_time": "2022-05-15T21:56:22.441Z"
   },
   {
    "duration": 5,
    "start_time": "2022-05-15T21:56:22.492Z"
   },
   {
    "duration": 24,
    "start_time": "2022-05-15T21:56:22.499Z"
   },
   {
    "duration": 5,
    "start_time": "2022-05-15T21:56:22.525Z"
   },
   {
    "duration": 451,
    "start_time": "2022-05-15T21:56:22.532Z"
   },
   {
    "duration": 20,
    "start_time": "2022-05-15T21:56:22.985Z"
   },
   {
    "duration": 10,
    "start_time": "2022-05-15T21:56:23.007Z"
   },
   {
    "duration": 21,
    "start_time": "2022-05-15T21:56:23.019Z"
   },
   {
    "duration": 6,
    "start_time": "2022-05-15T21:56:23.042Z"
   },
   {
    "duration": 20,
    "start_time": "2022-05-15T21:56:23.081Z"
   },
   {
    "duration": 10,
    "start_time": "2022-05-15T21:56:23.103Z"
   },
   {
    "duration": 461,
    "start_time": "2022-05-15T21:56:23.115Z"
   },
   {
    "duration": 6,
    "start_time": "2022-05-15T21:56:23.581Z"
   },
   {
    "duration": 48,
    "start_time": "2022-05-15T21:56:23.589Z"
   },
   {
    "duration": 12,
    "start_time": "2022-05-15T21:56:23.640Z"
   },
   {
    "duration": 13,
    "start_time": "2022-05-15T21:56:23.683Z"
   },
   {
    "duration": 10,
    "start_time": "2022-05-15T21:56:23.698Z"
   },
   {
    "duration": 21,
    "start_time": "2022-05-15T21:56:23.710Z"
   },
   {
    "duration": 7,
    "start_time": "2022-05-15T21:56:23.733Z"
   },
   {
    "duration": 181,
    "start_time": "2022-05-15T22:09:19.308Z"
   },
   {
    "duration": 36,
    "start_time": "2022-05-15T22:09:38.379Z"
   },
   {
    "duration": 18,
    "start_time": "2022-05-15T22:12:16.973Z"
   },
   {
    "duration": 15,
    "start_time": "2022-05-15T22:12:21.640Z"
   },
   {
    "duration": 211,
    "start_time": "2022-05-15T22:12:36.254Z"
   },
   {
    "duration": 173,
    "start_time": "2022-05-15T22:13:20.004Z"
   },
   {
    "duration": 211,
    "start_time": "2022-05-15T22:13:28.904Z"
   },
   {
    "duration": 21,
    "start_time": "2022-05-15T22:13:51.802Z"
   },
   {
    "duration": 20,
    "start_time": "2022-05-15T22:14:13.878Z"
   },
   {
    "duration": 13,
    "start_time": "2022-05-15T22:14:24.145Z"
   },
   {
    "duration": 21,
    "start_time": "2022-05-15T22:14:28.701Z"
   },
   {
    "duration": 19,
    "start_time": "2022-05-15T22:14:31.182Z"
   },
   {
    "duration": 23,
    "start_time": "2022-05-15T22:15:16.286Z"
   },
   {
    "duration": 26,
    "start_time": "2022-05-15T22:15:33.966Z"
   },
   {
    "duration": 27,
    "start_time": "2022-05-15T22:15:46.246Z"
   },
   {
    "duration": 20,
    "start_time": "2022-05-15T22:15:58.962Z"
   },
   {
    "duration": 24,
    "start_time": "2022-05-15T22:16:33.489Z"
   },
   {
    "duration": 24,
    "start_time": "2022-05-15T22:16:41.428Z"
   },
   {
    "duration": 19,
    "start_time": "2022-05-15T22:16:53.713Z"
   },
   {
    "duration": 248,
    "start_time": "2022-05-15T22:17:21.896Z"
   },
   {
    "duration": 228,
    "start_time": "2022-05-15T22:17:26.074Z"
   },
   {
    "duration": 220,
    "start_time": "2022-05-15T22:17:34.544Z"
   },
   {
    "duration": 304,
    "start_time": "2022-05-15T22:17:43.036Z"
   },
   {
    "duration": 224,
    "start_time": "2022-05-15T22:17:48.477Z"
   },
   {
    "duration": 225,
    "start_time": "2022-05-15T22:18:23.275Z"
   },
   {
    "duration": 220,
    "start_time": "2022-05-15T22:18:44.495Z"
   },
   {
    "duration": 221,
    "start_time": "2022-05-15T22:18:53.556Z"
   },
   {
    "duration": 229,
    "start_time": "2022-05-15T22:18:59.797Z"
   },
   {
    "duration": 227,
    "start_time": "2022-05-15T22:19:01.720Z"
   },
   {
    "duration": 273,
    "start_time": "2022-05-15T22:19:28.455Z"
   },
   {
    "duration": 223,
    "start_time": "2022-05-15T22:19:58.123Z"
   },
   {
    "duration": 279,
    "start_time": "2022-05-15T22:20:01.198Z"
   },
   {
    "duration": 218,
    "start_time": "2022-05-15T22:21:16.693Z"
   },
   {
    "duration": 327,
    "start_time": "2022-05-15T22:21:22.757Z"
   },
   {
    "duration": 217,
    "start_time": "2022-05-15T22:21:33.206Z"
   },
   {
    "duration": 125,
    "start_time": "2022-05-15T22:22:11.724Z"
   },
   {
    "duration": 121,
    "start_time": "2022-05-15T22:22:35.534Z"
   },
   {
    "duration": 125,
    "start_time": "2022-05-15T22:22:44.490Z"
   },
   {
    "duration": 231,
    "start_time": "2022-05-15T22:23:11.856Z"
   },
   {
    "duration": 228,
    "start_time": "2022-05-15T22:23:20.356Z"
   },
   {
    "duration": 230,
    "start_time": "2022-05-15T22:23:24.396Z"
   },
   {
    "duration": 223,
    "start_time": "2022-05-15T22:23:31.900Z"
   },
   {
    "duration": 234,
    "start_time": "2022-05-15T22:23:35.566Z"
   },
   {
    "duration": 233,
    "start_time": "2022-05-15T22:23:39.963Z"
   },
   {
    "duration": 224,
    "start_time": "2022-05-15T22:23:42.858Z"
   },
   {
    "duration": 231,
    "start_time": "2022-05-15T22:23:49.219Z"
   },
   {
    "duration": 351,
    "start_time": "2022-05-15T22:24:14.969Z"
   },
   {
    "duration": 350,
    "start_time": "2022-05-15T22:24:18.622Z"
   },
   {
    "duration": 259,
    "start_time": "2022-05-15T22:24:31.063Z"
   },
   {
    "duration": 258,
    "start_time": "2022-05-15T22:24:50.934Z"
   },
   {
    "duration": 7,
    "start_time": "2022-05-15T22:25:00.872Z"
   },
   {
    "duration": 296,
    "start_time": "2022-05-15T22:26:10.346Z"
   },
   {
    "duration": 410,
    "start_time": "2022-05-15T22:26:20.088Z"
   },
   {
    "duration": 327,
    "start_time": "2022-05-15T22:26:36.603Z"
   },
   {
    "duration": 366,
    "start_time": "2022-05-15T22:26:43.678Z"
   },
   {
    "duration": 374,
    "start_time": "2022-05-15T22:26:49.848Z"
   },
   {
    "duration": 459,
    "start_time": "2022-05-15T22:26:57.837Z"
   },
   {
    "duration": 7,
    "start_time": "2022-05-15T22:27:18.689Z"
   },
   {
    "duration": 21,
    "start_time": "2022-05-15T22:28:25.221Z"
   },
   {
    "duration": 201,
    "start_time": "2022-05-15T22:28:45.286Z"
   },
   {
    "duration": 212,
    "start_time": "2022-05-15T22:28:53.662Z"
   },
   {
    "duration": 274,
    "start_time": "2022-05-15T22:29:01.781Z"
   },
   {
    "duration": 240,
    "start_time": "2022-05-15T22:29:04.927Z"
   },
   {
    "duration": 264,
    "start_time": "2022-05-15T22:29:09.657Z"
   },
   {
    "duration": 291,
    "start_time": "2022-05-15T22:29:42.788Z"
   },
   {
    "duration": 294,
    "start_time": "2022-05-15T22:30:06.099Z"
   },
   {
    "duration": 289,
    "start_time": "2022-05-15T22:30:24.495Z"
   },
   {
    "duration": 296,
    "start_time": "2022-05-15T22:30:37.050Z"
   },
   {
    "duration": 6,
    "start_time": "2022-05-15T22:31:02.622Z"
   },
   {
    "duration": 1458,
    "start_time": "2022-05-15T22:32:47.887Z"
   },
   {
    "duration": 83,
    "start_time": "2022-05-15T22:32:49.348Z"
   },
   {
    "duration": 6,
    "start_time": "2022-05-15T22:32:49.433Z"
   },
   {
    "duration": 40,
    "start_time": "2022-05-15T22:32:49.442Z"
   },
   {
    "duration": 7,
    "start_time": "2022-05-15T22:32:49.484Z"
   },
   {
    "duration": 9,
    "start_time": "2022-05-15T22:32:49.493Z"
   },
   {
    "duration": 18,
    "start_time": "2022-05-15T22:32:49.504Z"
   },
   {
    "duration": 7,
    "start_time": "2022-05-15T22:32:49.524Z"
   },
   {
    "duration": 56,
    "start_time": "2022-05-15T22:32:49.533Z"
   },
   {
    "duration": 19,
    "start_time": "2022-05-15T22:32:49.593Z"
   },
   {
    "duration": 12,
    "start_time": "2022-05-15T22:32:49.615Z"
   },
   {
    "duration": 61,
    "start_time": "2022-05-15T22:32:49.629Z"
   },
   {
    "duration": 23,
    "start_time": "2022-05-15T22:32:49.692Z"
   },
   {
    "duration": 20,
    "start_time": "2022-05-15T22:32:49.717Z"
   },
   {
    "duration": 56,
    "start_time": "2022-05-15T22:32:49.739Z"
   },
   {
    "duration": 123,
    "start_time": "2022-05-15T22:32:49.798Z"
   },
   {
    "duration": 282,
    "start_time": "2022-05-15T22:32:49.923Z"
   },
   {
    "duration": 318,
    "start_time": "2022-05-15T22:32:50.209Z"
   },
   {
    "duration": 21,
    "start_time": "2022-05-15T22:32:50.530Z"
   },
   {
    "duration": 990,
    "start_time": "2022-05-15T22:32:50.553Z"
   },
   {
    "duration": 44,
    "start_time": "2022-05-15T22:32:51.546Z"
   },
   {
    "duration": 1159,
    "start_time": "2022-05-15T22:32:51.593Z"
   },
   {
    "duration": 231,
    "start_time": "2022-05-15T22:32:52.755Z"
   },
   {
    "duration": 242,
    "start_time": "2022-05-15T22:32:52.989Z"
   },
   {
    "duration": 18,
    "start_time": "2022-05-15T22:32:53.234Z"
   },
   {
    "duration": 38,
    "start_time": "2022-05-15T22:32:53.254Z"
   },
   {
    "duration": 17,
    "start_time": "2022-05-15T22:32:53.295Z"
   },
   {
    "duration": 267,
    "start_time": "2022-05-15T22:32:53.318Z"
   },
   {
    "duration": 235,
    "start_time": "2022-05-15T22:32:53.587Z"
   },
   {
    "duration": 13,
    "start_time": "2022-05-15T22:32:53.824Z"
   },
   {
    "duration": 42,
    "start_time": "2022-05-15T22:32:53.839Z"
   },
   {
    "duration": 6,
    "start_time": "2022-05-15T22:32:53.884Z"
   },
   {
    "duration": 1070,
    "start_time": "2022-05-15T22:32:53.892Z"
   },
   {
    "duration": 1166,
    "start_time": "2022-05-15T22:32:54.964Z"
   },
   {
    "duration": 97,
    "start_time": "2022-05-15T22:32:56.132Z"
   },
   {
    "duration": 57,
    "start_time": "2022-05-15T22:32:56.233Z"
   },
   {
    "duration": 24,
    "start_time": "2022-05-15T22:32:56.292Z"
   },
   {
    "duration": 2033,
    "start_time": "2022-05-15T22:32:56.319Z"
   },
   {
    "duration": 29,
    "start_time": "2022-05-15T22:32:58.355Z"
   },
   {
    "duration": 14,
    "start_time": "2022-05-15T22:32:58.387Z"
   },
   {
    "duration": 25,
    "start_time": "2022-05-15T22:32:58.403Z"
   },
   {
    "duration": 6,
    "start_time": "2022-05-15T22:32:58.431Z"
   },
   {
    "duration": 48,
    "start_time": "2022-05-15T22:32:58.439Z"
   },
   {
    "duration": 6,
    "start_time": "2022-05-15T22:32:58.490Z"
   },
   {
    "duration": 453,
    "start_time": "2022-05-15T22:32:58.498Z"
   },
   {
    "duration": 29,
    "start_time": "2022-05-15T22:32:58.954Z"
   },
   {
    "duration": 9,
    "start_time": "2022-05-15T22:32:58.986Z"
   },
   {
    "duration": 20,
    "start_time": "2022-05-15T22:32:58.997Z"
   },
   {
    "duration": 6,
    "start_time": "2022-05-15T22:32:59.019Z"
   },
   {
    "duration": 61,
    "start_time": "2022-05-15T22:32:59.027Z"
   },
   {
    "duration": 7,
    "start_time": "2022-05-15T22:32:59.090Z"
   },
   {
    "duration": 474,
    "start_time": "2022-05-15T22:32:59.099Z"
   },
   {
    "duration": 8,
    "start_time": "2022-05-15T22:32:59.576Z"
   },
   {
    "duration": 51,
    "start_time": "2022-05-15T22:32:59.587Z"
   },
   {
    "duration": 49,
    "start_time": "2022-05-15T22:32:59.641Z"
   },
   {
    "duration": 342,
    "start_time": "2022-05-15T22:32:59.693Z"
   },
   {
    "duration": 7,
    "start_time": "2022-05-15T22:33:00.038Z"
   },
   {
    "duration": 326,
    "start_time": "2022-05-15T22:33:00.048Z"
   },
   {
    "duration": 7,
    "start_time": "2022-05-15T22:33:00.377Z"
   },
   {
    "duration": 1511,
    "start_time": "2022-05-15T23:00:05.047Z"
   },
   {
    "duration": 125,
    "start_time": "2022-05-15T23:00:06.561Z"
   },
   {
    "duration": 9,
    "start_time": "2022-05-15T23:00:06.689Z"
   },
   {
    "duration": 42,
    "start_time": "2022-05-15T23:00:06.702Z"
   },
   {
    "duration": 8,
    "start_time": "2022-05-15T23:00:06.747Z"
   },
   {
    "duration": 31,
    "start_time": "2022-05-15T23:00:06.758Z"
   },
   {
    "duration": 26,
    "start_time": "2022-05-15T23:00:06.791Z"
   },
   {
    "duration": 9,
    "start_time": "2022-05-15T23:00:06.820Z"
   },
   {
    "duration": 60,
    "start_time": "2022-05-15T23:00:06.831Z"
   },
   {
    "duration": 29,
    "start_time": "2022-05-15T23:00:06.897Z"
   },
   {
    "duration": 18,
    "start_time": "2022-05-15T23:00:06.929Z"
   },
   {
    "duration": 69,
    "start_time": "2022-05-15T23:00:06.950Z"
   },
   {
    "duration": 31,
    "start_time": "2022-05-15T23:00:07.022Z"
   },
   {
    "duration": 50,
    "start_time": "2022-05-15T23:00:07.056Z"
   },
   {
    "duration": 42,
    "start_time": "2022-05-15T23:00:07.108Z"
   },
   {
    "duration": 197,
    "start_time": "2022-05-15T23:00:07.153Z"
   },
   {
    "duration": 432,
    "start_time": "2022-05-15T23:00:07.352Z"
   },
   {
    "duration": 466,
    "start_time": "2022-05-15T23:00:07.787Z"
   },
   {
    "duration": 35,
    "start_time": "2022-05-15T23:00:08.256Z"
   },
   {
    "duration": 1648,
    "start_time": "2022-05-15T23:00:08.294Z"
   },
   {
    "duration": 60,
    "start_time": "2022-05-15T23:00:09.945Z"
   },
   {
    "duration": 1938,
    "start_time": "2022-05-15T23:00:10.008Z"
   },
   {
    "duration": 339,
    "start_time": "2022-05-15T23:00:11.949Z"
   },
   {
    "duration": 346,
    "start_time": "2022-05-15T23:00:12.291Z"
   },
   {
    "duration": 21,
    "start_time": "2022-05-15T23:00:12.640Z"
   },
   {
    "duration": 22,
    "start_time": "2022-05-15T23:00:12.682Z"
   },
   {
    "duration": 21,
    "start_time": "2022-05-15T23:00:12.706Z"
   },
   {
    "duration": 368,
    "start_time": "2022-05-15T23:00:12.734Z"
   },
   {
    "duration": 330,
    "start_time": "2022-05-15T23:00:13.105Z"
   },
   {
    "duration": 13,
    "start_time": "2022-05-15T23:00:13.438Z"
   },
   {
    "duration": 40,
    "start_time": "2022-05-15T23:00:13.454Z"
   },
   {
    "duration": 7,
    "start_time": "2022-05-15T23:00:13.497Z"
   },
   {
    "duration": 1669,
    "start_time": "2022-05-15T23:00:13.507Z"
   },
   {
    "duration": 1799,
    "start_time": "2022-05-15T23:00:15.182Z"
   },
   {
    "duration": 126,
    "start_time": "2022-05-15T23:00:16.984Z"
   },
   {
    "duration": 20,
    "start_time": "2022-05-15T23:00:17.112Z"
   },
   {
    "duration": 56,
    "start_time": "2022-05-15T23:00:17.134Z"
   },
   {
    "duration": 2020,
    "start_time": "2022-05-15T23:00:17.192Z"
   },
   {
    "duration": 20,
    "start_time": "2022-05-15T23:00:19.214Z"
   },
   {
    "duration": 8,
    "start_time": "2022-05-15T23:00:19.237Z"
   },
   {
    "duration": 47,
    "start_time": "2022-05-15T23:00:19.247Z"
   },
   {
    "duration": 13,
    "start_time": "2022-05-15T23:00:19.297Z"
   },
   {
    "duration": 23,
    "start_time": "2022-05-15T23:00:19.313Z"
   },
   {
    "duration": 6,
    "start_time": "2022-05-15T23:00:19.339Z"
   },
   {
    "duration": 462,
    "start_time": "2022-05-15T23:00:19.383Z"
   },
   {
    "duration": 33,
    "start_time": "2022-05-15T23:00:19.847Z"
   },
   {
    "duration": 6,
    "start_time": "2022-05-15T23:00:19.883Z"
   },
   {
    "duration": 22,
    "start_time": "2022-05-15T23:00:19.892Z"
   },
   {
    "duration": 6,
    "start_time": "2022-05-15T23:00:19.916Z"
   },
   {
    "duration": 59,
    "start_time": "2022-05-15T23:00:19.924Z"
   },
   {
    "duration": 7,
    "start_time": "2022-05-15T23:00:19.985Z"
   },
   {
    "duration": 757,
    "start_time": "2022-05-15T23:00:19.995Z"
   },
   {
    "duration": 7,
    "start_time": "2022-05-15T23:00:20.755Z"
   },
   {
    "duration": 79,
    "start_time": "2022-05-15T23:00:20.765Z"
   },
   {
    "duration": 16,
    "start_time": "2022-05-15T23:00:20.847Z"
   },
   {
    "duration": 658,
    "start_time": "2022-05-15T23:00:20.866Z"
   },
   {
    "duration": 62,
    "start_time": "2022-05-15T23:00:21.527Z"
   },
   {
    "duration": 372,
    "start_time": "2022-05-15T23:00:21.591Z"
   },
   {
    "duration": 16,
    "start_time": "2022-05-15T23:00:21.965Z"
   },
   {
    "duration": 1978,
    "start_time": "2022-05-16T19:27:02.230Z"
   },
   {
    "duration": 92,
    "start_time": "2022-05-16T19:27:04.211Z"
   },
   {
    "duration": 6,
    "start_time": "2022-05-16T19:27:04.306Z"
   },
   {
    "duration": 54,
    "start_time": "2022-05-16T19:27:04.314Z"
   },
   {
    "duration": 31,
    "start_time": "2022-05-16T19:27:04.373Z"
   },
   {
    "duration": 16,
    "start_time": "2022-05-16T19:27:04.406Z"
   },
   {
    "duration": 43,
    "start_time": "2022-05-16T19:27:04.424Z"
   },
   {
    "duration": 16,
    "start_time": "2022-05-16T19:27:04.470Z"
   },
   {
    "duration": 28,
    "start_time": "2022-05-16T19:27:04.489Z"
   },
   {
    "duration": 31,
    "start_time": "2022-05-16T19:27:04.520Z"
   },
   {
    "duration": 39,
    "start_time": "2022-05-16T19:27:04.553Z"
   },
   {
    "duration": 43,
    "start_time": "2022-05-16T19:27:04.598Z"
   },
   {
    "duration": 34,
    "start_time": "2022-05-16T19:27:04.644Z"
   },
   {
    "duration": 41,
    "start_time": "2022-05-16T19:27:04.685Z"
   },
   {
    "duration": 59,
    "start_time": "2022-05-16T19:27:04.728Z"
   },
   {
    "duration": 195,
    "start_time": "2022-05-16T19:27:04.793Z"
   },
   {
    "duration": 315,
    "start_time": "2022-05-16T19:27:04.991Z"
   },
   {
    "duration": 388,
    "start_time": "2022-05-16T19:27:05.308Z"
   },
   {
    "duration": 22,
    "start_time": "2022-05-16T19:27:05.698Z"
   },
   {
    "duration": 1145,
    "start_time": "2022-05-16T19:27:05.723Z"
   },
   {
    "duration": 39,
    "start_time": "2022-05-16T19:27:06.871Z"
   },
   {
    "duration": 1400,
    "start_time": "2022-05-16T19:27:06.912Z"
   },
   {
    "duration": 249,
    "start_time": "2022-05-16T19:27:08.315Z"
   },
   {
    "duration": 316,
    "start_time": "2022-05-16T19:27:08.575Z"
   },
   {
    "duration": 22,
    "start_time": "2022-05-16T19:27:08.896Z"
   },
   {
    "duration": 43,
    "start_time": "2022-05-16T19:27:08.921Z"
   },
   {
    "duration": 48,
    "start_time": "2022-05-16T19:27:08.970Z"
   },
   {
    "duration": 341,
    "start_time": "2022-05-16T19:27:09.021Z"
   },
   {
    "duration": 328,
    "start_time": "2022-05-16T19:27:09.367Z"
   },
   {
    "duration": 14,
    "start_time": "2022-05-16T19:27:09.698Z"
   },
   {
    "duration": 53,
    "start_time": "2022-05-16T19:27:09.715Z"
   },
   {
    "duration": 36,
    "start_time": "2022-05-16T19:27:09.771Z"
   },
   {
    "duration": 1276,
    "start_time": "2022-05-16T19:27:09.810Z"
   },
   {
    "duration": 1588,
    "start_time": "2022-05-16T19:27:11.089Z"
   },
   {
    "duration": 126,
    "start_time": "2022-05-16T19:27:12.683Z"
   },
   {
    "duration": 44,
    "start_time": "2022-05-16T19:27:12.811Z"
   },
   {
    "duration": 37,
    "start_time": "2022-05-16T19:27:12.857Z"
   },
   {
    "duration": 2584,
    "start_time": "2022-05-16T19:27:12.896Z"
   },
   {
    "duration": 27,
    "start_time": "2022-05-16T19:27:15.483Z"
   },
   {
    "duration": 6,
    "start_time": "2022-05-16T19:27:15.513Z"
   },
   {
    "duration": 33,
    "start_time": "2022-05-16T19:27:15.568Z"
   },
   {
    "duration": 19,
    "start_time": "2022-05-16T19:27:15.604Z"
   },
   {
    "duration": 37,
    "start_time": "2022-05-16T19:27:15.626Z"
   },
   {
    "duration": 40,
    "start_time": "2022-05-16T19:27:15.667Z"
   },
   {
    "duration": 618,
    "start_time": "2022-05-16T19:27:15.710Z"
   },
   {
    "duration": 37,
    "start_time": "2022-05-16T19:27:16.332Z"
   },
   {
    "duration": 16,
    "start_time": "2022-05-16T19:27:16.376Z"
   },
   {
    "duration": 37,
    "start_time": "2022-05-16T19:27:16.395Z"
   },
   {
    "duration": 14,
    "start_time": "2022-05-16T19:27:16.446Z"
   },
   {
    "duration": 45,
    "start_time": "2022-05-16T19:27:16.463Z"
   },
   {
    "duration": 8,
    "start_time": "2022-05-16T19:27:16.511Z"
   },
   {
    "duration": 542,
    "start_time": "2022-05-16T19:27:16.522Z"
   },
   {
    "duration": 18,
    "start_time": "2022-05-16T19:27:17.066Z"
   },
   {
    "duration": 78,
    "start_time": "2022-05-16T19:27:17.092Z"
   },
   {
    "duration": 20,
    "start_time": "2022-05-16T19:27:17.174Z"
   },
   {
    "duration": 494,
    "start_time": "2022-05-16T19:27:17.197Z"
   },
   {
    "duration": 10,
    "start_time": "2022-05-16T19:27:17.693Z"
   },
   {
    "duration": 375,
    "start_time": "2022-05-16T19:27:17.707Z"
   },
   {
    "duration": 7,
    "start_time": "2022-05-16T19:27:18.084Z"
   },
   {
    "duration": 204,
    "start_time": "2022-05-16T19:38:14.308Z"
   },
   {
    "duration": 708,
    "start_time": "2022-05-16T19:39:02.944Z"
   },
   {
    "duration": 1227,
    "start_time": "2022-05-16T19:39:53.401Z"
   },
   {
    "duration": 1252,
    "start_time": "2022-05-16T19:40:05.278Z"
   },
   {
    "duration": 1065,
    "start_time": "2022-12-07T21:48:49.807Z"
   },
   {
    "duration": 119,
    "start_time": "2022-12-07T21:48:50.874Z"
   },
   {
    "duration": 5,
    "start_time": "2022-12-07T21:48:50.994Z"
   },
   {
    "duration": 20,
    "start_time": "2022-12-07T21:48:51.001Z"
   },
   {
    "duration": 4,
    "start_time": "2022-12-07T21:48:51.023Z"
   },
   {
    "duration": 8,
    "start_time": "2022-12-07T21:48:51.029Z"
   },
   {
    "duration": 21,
    "start_time": "2022-12-07T21:48:51.038Z"
   },
   {
    "duration": 5,
    "start_time": "2022-12-07T21:48:51.061Z"
   },
   {
    "duration": 16,
    "start_time": "2022-12-07T21:48:51.068Z"
   },
   {
    "duration": 16,
    "start_time": "2022-12-07T21:48:51.087Z"
   },
   {
    "duration": 33,
    "start_time": "2022-12-07T21:48:51.105Z"
   },
   {
    "duration": 21,
    "start_time": "2022-12-07T21:48:51.140Z"
   },
   {
    "duration": 15,
    "start_time": "2022-12-07T21:48:51.163Z"
   },
   {
    "duration": 14,
    "start_time": "2022-12-07T21:48:51.179Z"
   },
   {
    "duration": 49,
    "start_time": "2022-12-07T21:48:51.195Z"
   },
   {
    "duration": 94,
    "start_time": "2022-12-07T21:48:51.246Z"
   },
   {
    "duration": 176,
    "start_time": "2022-12-07T21:48:51.342Z"
   },
   {
    "duration": 187,
    "start_time": "2022-12-07T21:48:51.520Z"
   },
   {
    "duration": 14,
    "start_time": "2022-12-07T21:48:51.710Z"
   },
   {
    "duration": 636,
    "start_time": "2022-12-07T21:48:51.736Z"
   },
   {
    "duration": 25,
    "start_time": "2022-12-07T21:48:52.374Z"
   },
   {
    "duration": 793,
    "start_time": "2022-12-07T21:48:52.401Z"
   },
   {
    "duration": 126,
    "start_time": "2022-12-07T21:48:53.196Z"
   },
   {
    "duration": 151,
    "start_time": "2022-12-07T21:48:53.324Z"
   },
   {
    "duration": 11,
    "start_time": "2022-12-07T21:48:53.477Z"
   },
   {
    "duration": 18,
    "start_time": "2022-12-07T21:48:53.489Z"
   },
   {
    "duration": 27,
    "start_time": "2022-12-07T21:48:53.509Z"
   },
   {
    "duration": 595,
    "start_time": "2022-12-07T21:48:53.540Z"
   },
   {
    "duration": 154,
    "start_time": "2022-12-07T21:48:54.137Z"
   },
   {
    "duration": 252,
    "start_time": "2022-12-07T21:48:54.293Z"
   },
   {
    "duration": 10,
    "start_time": "2022-12-07T21:48:54.547Z"
   },
   {
    "duration": 29,
    "start_time": "2022-12-07T21:48:54.559Z"
   },
   {
    "duration": 10,
    "start_time": "2022-12-07T21:48:54.589Z"
   },
   {
    "duration": 657,
    "start_time": "2022-12-07T21:48:54.601Z"
   },
   {
    "duration": 676,
    "start_time": "2022-12-07T21:48:55.259Z"
   },
   {
    "duration": 52,
    "start_time": "2022-12-07T21:48:55.937Z"
   },
   {
    "duration": 16,
    "start_time": "2022-12-07T21:48:55.990Z"
   },
   {
    "duration": 15,
    "start_time": "2022-12-07T21:48:56.035Z"
   },
   {
    "duration": 1252,
    "start_time": "2022-12-07T21:48:56.052Z"
   },
   {
    "duration": 14,
    "start_time": "2022-12-07T21:48:57.306Z"
   },
   {
    "duration": 19,
    "start_time": "2022-12-07T21:48:57.321Z"
   },
   {
    "duration": 19,
    "start_time": "2022-12-07T21:48:57.342Z"
   },
   {
    "duration": 4,
    "start_time": "2022-12-07T21:48:57.363Z"
   },
   {
    "duration": 16,
    "start_time": "2022-12-07T21:48:57.369Z"
   },
   {
    "duration": 4,
    "start_time": "2022-12-07T21:48:57.387Z"
   },
   {
    "duration": 286,
    "start_time": "2022-12-07T21:48:57.392Z"
   },
   {
    "duration": 15,
    "start_time": "2022-12-07T21:48:57.680Z"
   },
   {
    "duration": 11,
    "start_time": "2022-12-07T21:48:57.696Z"
   },
   {
    "duration": 29,
    "start_time": "2022-12-07T21:48:57.709Z"
   },
   {
    "duration": 5,
    "start_time": "2022-12-07T21:48:57.740Z"
   },
   {
    "duration": 21,
    "start_time": "2022-12-07T21:48:57.746Z"
   },
   {
    "duration": 5,
    "start_time": "2022-12-07T21:48:57.769Z"
   },
   {
    "duration": 300,
    "start_time": "2022-12-07T21:48:57.776Z"
   },
   {
    "duration": 4,
    "start_time": "2022-12-07T21:48:58.078Z"
   },
   {
    "duration": 135,
    "start_time": "2022-12-07T21:48:58.083Z"
   },
   {
    "duration": 7,
    "start_time": "2022-12-07T21:48:58.220Z"
   },
   {
    "duration": 194,
    "start_time": "2022-12-07T21:48:58.236Z"
   },
   {
    "duration": 6,
    "start_time": "2022-12-07T21:48:58.431Z"
   },
   {
    "duration": 179,
    "start_time": "2022-12-07T21:48:58.438Z"
   },
   {
    "duration": 4,
    "start_time": "2022-12-07T21:48:58.619Z"
   }
  ],
  "kernelspec": {
   "display_name": "Python 3 (ipykernel)",
   "language": "python",
   "name": "python3"
  },
  "language_info": {
   "codemirror_mode": {
    "name": "ipython",
    "version": 3
   },
   "file_extension": ".py",
   "mimetype": "text/x-python",
   "name": "python",
   "nbconvert_exporter": "python",
   "pygments_lexer": "ipython3",
   "version": "3.9.7"
  },
  "toc": {
   "base_numbering": 1,
   "nav_menu": {},
   "number_sections": true,
   "sideBar": true,
   "skip_h1_title": true,
   "title_cell": "Table of Contents",
   "title_sidebar": "Contents",
   "toc_cell": false,
   "toc_position": {
    "height": "calc(100% - 180px)",
    "left": "10px",
    "top": "150px",
    "width": "210.438px"
   },
   "toc_section_display": true,
   "toc_window_display": true
  }
 },
 "nbformat": 4,
 "nbformat_minor": 2
}
