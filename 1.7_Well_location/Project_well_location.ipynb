{
 "cells": [
  {
   "cell_type": "markdown",
   "metadata": {},
   "source": [
    "## Загрузка и подготовка данных"
   ]
  },
  {
   "cell_type": "markdown",
   "metadata": {},
   "source": [
    "Откроем необходимые для работы библиотеки:"
   ]
  },
  {
   "cell_type": "code",
   "execution_count": 1,
   "metadata": {},
   "outputs": [],
   "source": [
    "import pandas as pd\n",
    "import numpy as np\n",
    "import sklearn.metrics as sklm\n",
    "import seaborn as sns\n",
    "from matplotlib import pyplot as plt\n",
    "from sklearn.model_selection import train_test_split\n",
    "from sklearn.linear_model import LinearRegression\n",
    "from sklearn.preprocessing import StandardScaler\n",
    "from scipy import stats as st"
   ]
  },
  {
   "cell_type": "markdown",
   "metadata": {},
   "source": [
    "Откроем 3 файла с данными геологоразведки:"
   ]
  },
  {
   "cell_type": "code",
   "execution_count": 2,
   "metadata": {},
   "outputs": [],
   "source": [
    "try:\n",
    "    data_geo1 = pd.read_csv('/datasets/geo_data_0.csv')\n",
    "    data_geo2 = pd.read_csv('/datasets/geo_data_1.csv')\n",
    "    data_geo3 = pd.read_csv('/datasets/geo_data_2.csv')\n",
    "except ValuddeError:\n",
    "    print('Неверный тип переменных')"
   ]
  },
  {
   "cell_type": "code",
   "execution_count": 3,
   "metadata": {},
   "outputs": [
    {
     "data": {
      "text/html": [
       "<div>\n",
       "<style scoped>\n",
       "    .dataframe tbody tr th:only-of-type {\n",
       "        vertical-align: middle;\n",
       "    }\n",
       "\n",
       "    .dataframe tbody tr th {\n",
       "        vertical-align: top;\n",
       "    }\n",
       "\n",
       "    .dataframe thead th {\n",
       "        text-align: right;\n",
       "    }\n",
       "</style>\n",
       "<table border=\"1\" class=\"dataframe\">\n",
       "  <thead>\n",
       "    <tr style=\"text-align: right;\">\n",
       "      <th></th>\n",
       "      <th>id</th>\n",
       "      <th>f0</th>\n",
       "      <th>f1</th>\n",
       "      <th>f2</th>\n",
       "      <th>product</th>\n",
       "    </tr>\n",
       "  </thead>\n",
       "  <tbody>\n",
       "    <tr>\n",
       "      <th>0</th>\n",
       "      <td>txEyH</td>\n",
       "      <td>0.705745</td>\n",
       "      <td>-0.497823</td>\n",
       "      <td>1.221170</td>\n",
       "      <td>105.280062</td>\n",
       "    </tr>\n",
       "    <tr>\n",
       "      <th>1</th>\n",
       "      <td>2acmU</td>\n",
       "      <td>1.334711</td>\n",
       "      <td>-0.340164</td>\n",
       "      <td>4.365080</td>\n",
       "      <td>73.037750</td>\n",
       "    </tr>\n",
       "    <tr>\n",
       "      <th>2</th>\n",
       "      <td>409Wp</td>\n",
       "      <td>1.022732</td>\n",
       "      <td>0.151990</td>\n",
       "      <td>1.419926</td>\n",
       "      <td>85.265647</td>\n",
       "    </tr>\n",
       "    <tr>\n",
       "      <th>3</th>\n",
       "      <td>iJLyR</td>\n",
       "      <td>-0.032172</td>\n",
       "      <td>0.139033</td>\n",
       "      <td>2.978566</td>\n",
       "      <td>168.620776</td>\n",
       "    </tr>\n",
       "    <tr>\n",
       "      <th>4</th>\n",
       "      <td>Xdl7t</td>\n",
       "      <td>1.988431</td>\n",
       "      <td>0.155413</td>\n",
       "      <td>4.751769</td>\n",
       "      <td>154.036647</td>\n",
       "    </tr>\n",
       "    <tr>\n",
       "      <th>5</th>\n",
       "      <td>wX4Hy</td>\n",
       "      <td>0.969570</td>\n",
       "      <td>0.489775</td>\n",
       "      <td>-0.735383</td>\n",
       "      <td>64.741541</td>\n",
       "    </tr>\n",
       "    <tr>\n",
       "      <th>6</th>\n",
       "      <td>tL6pL</td>\n",
       "      <td>0.645075</td>\n",
       "      <td>0.530656</td>\n",
       "      <td>1.780266</td>\n",
       "      <td>49.055285</td>\n",
       "    </tr>\n",
       "    <tr>\n",
       "      <th>7</th>\n",
       "      <td>BYPU6</td>\n",
       "      <td>-0.400648</td>\n",
       "      <td>0.808337</td>\n",
       "      <td>-5.624670</td>\n",
       "      <td>72.943292</td>\n",
       "    </tr>\n",
       "    <tr>\n",
       "      <th>8</th>\n",
       "      <td>j9Oui</td>\n",
       "      <td>0.643105</td>\n",
       "      <td>-0.551583</td>\n",
       "      <td>2.372141</td>\n",
       "      <td>113.356160</td>\n",
       "    </tr>\n",
       "    <tr>\n",
       "      <th>9</th>\n",
       "      <td>OLuZU</td>\n",
       "      <td>2.173381</td>\n",
       "      <td>0.563698</td>\n",
       "      <td>9.441852</td>\n",
       "      <td>127.910945</td>\n",
       "    </tr>\n",
       "  </tbody>\n",
       "</table>\n",
       "</div>"
      ],
      "text/plain": [
       "      id        f0        f1        f2     product\n",
       "0  txEyH  0.705745 -0.497823  1.221170  105.280062\n",
       "1  2acmU  1.334711 -0.340164  4.365080   73.037750\n",
       "2  409Wp  1.022732  0.151990  1.419926   85.265647\n",
       "3  iJLyR -0.032172  0.139033  2.978566  168.620776\n",
       "4  Xdl7t  1.988431  0.155413  4.751769  154.036647\n",
       "5  wX4Hy  0.969570  0.489775 -0.735383   64.741541\n",
       "6  tL6pL  0.645075  0.530656  1.780266   49.055285\n",
       "7  BYPU6 -0.400648  0.808337 -5.624670   72.943292\n",
       "8  j9Oui  0.643105 -0.551583  2.372141  113.356160\n",
       "9  OLuZU  2.173381  0.563698  9.441852  127.910945"
      ]
     },
     "execution_count": 3,
     "metadata": {},
     "output_type": "execute_result"
    }
   ],
   "source": [
    "data_geo1.head(10)"
   ]
  },
  {
   "cell_type": "code",
   "execution_count": 4,
   "metadata": {},
   "outputs": [
    {
     "data": {
      "text/html": [
       "<div>\n",
       "<style scoped>\n",
       "    .dataframe tbody tr th:only-of-type {\n",
       "        vertical-align: middle;\n",
       "    }\n",
       "\n",
       "    .dataframe tbody tr th {\n",
       "        vertical-align: top;\n",
       "    }\n",
       "\n",
       "    .dataframe thead th {\n",
       "        text-align: right;\n",
       "    }\n",
       "</style>\n",
       "<table border=\"1\" class=\"dataframe\">\n",
       "  <thead>\n",
       "    <tr style=\"text-align: right;\">\n",
       "      <th></th>\n",
       "      <th>id</th>\n",
       "      <th>f0</th>\n",
       "      <th>f1</th>\n",
       "      <th>f2</th>\n",
       "      <th>product</th>\n",
       "    </tr>\n",
       "  </thead>\n",
       "  <tbody>\n",
       "    <tr>\n",
       "      <th>0</th>\n",
       "      <td>kBEdx</td>\n",
       "      <td>-15.001348</td>\n",
       "      <td>-8.276000</td>\n",
       "      <td>-0.005876</td>\n",
       "      <td>3.179103</td>\n",
       "    </tr>\n",
       "    <tr>\n",
       "      <th>1</th>\n",
       "      <td>62mP7</td>\n",
       "      <td>14.272088</td>\n",
       "      <td>-3.475083</td>\n",
       "      <td>0.999183</td>\n",
       "      <td>26.953261</td>\n",
       "    </tr>\n",
       "    <tr>\n",
       "      <th>2</th>\n",
       "      <td>vyE1P</td>\n",
       "      <td>6.263187</td>\n",
       "      <td>-5.948386</td>\n",
       "      <td>5.001160</td>\n",
       "      <td>134.766305</td>\n",
       "    </tr>\n",
       "    <tr>\n",
       "      <th>3</th>\n",
       "      <td>KcrkZ</td>\n",
       "      <td>-13.081196</td>\n",
       "      <td>-11.506057</td>\n",
       "      <td>4.999415</td>\n",
       "      <td>137.945408</td>\n",
       "    </tr>\n",
       "    <tr>\n",
       "      <th>4</th>\n",
       "      <td>AHL4O</td>\n",
       "      <td>12.702195</td>\n",
       "      <td>-8.147433</td>\n",
       "      <td>5.004363</td>\n",
       "      <td>134.766305</td>\n",
       "    </tr>\n",
       "    <tr>\n",
       "      <th>5</th>\n",
       "      <td>HHckp</td>\n",
       "      <td>-3.327590</td>\n",
       "      <td>-2.205276</td>\n",
       "      <td>3.003647</td>\n",
       "      <td>84.038886</td>\n",
       "    </tr>\n",
       "    <tr>\n",
       "      <th>6</th>\n",
       "      <td>h5Ujo</td>\n",
       "      <td>-11.142655</td>\n",
       "      <td>-10.133399</td>\n",
       "      <td>4.002382</td>\n",
       "      <td>110.992147</td>\n",
       "    </tr>\n",
       "    <tr>\n",
       "      <th>7</th>\n",
       "      <td>muH9x</td>\n",
       "      <td>4.234715</td>\n",
       "      <td>-0.001354</td>\n",
       "      <td>2.004588</td>\n",
       "      <td>53.906522</td>\n",
       "    </tr>\n",
       "    <tr>\n",
       "      <th>8</th>\n",
       "      <td>YiRkx</td>\n",
       "      <td>13.355129</td>\n",
       "      <td>-0.332068</td>\n",
       "      <td>4.998647</td>\n",
       "      <td>134.766305</td>\n",
       "    </tr>\n",
       "    <tr>\n",
       "      <th>9</th>\n",
       "      <td>jG6Gi</td>\n",
       "      <td>1.069227</td>\n",
       "      <td>-11.025667</td>\n",
       "      <td>4.997844</td>\n",
       "      <td>137.945408</td>\n",
       "    </tr>\n",
       "  </tbody>\n",
       "</table>\n",
       "</div>"
      ],
      "text/plain": [
       "      id         f0         f1        f2     product\n",
       "0  kBEdx -15.001348  -8.276000 -0.005876    3.179103\n",
       "1  62mP7  14.272088  -3.475083  0.999183   26.953261\n",
       "2  vyE1P   6.263187  -5.948386  5.001160  134.766305\n",
       "3  KcrkZ -13.081196 -11.506057  4.999415  137.945408\n",
       "4  AHL4O  12.702195  -8.147433  5.004363  134.766305\n",
       "5  HHckp  -3.327590  -2.205276  3.003647   84.038886\n",
       "6  h5Ujo -11.142655 -10.133399  4.002382  110.992147\n",
       "7  muH9x   4.234715  -0.001354  2.004588   53.906522\n",
       "8  YiRkx  13.355129  -0.332068  4.998647  134.766305\n",
       "9  jG6Gi   1.069227 -11.025667  4.997844  137.945408"
      ]
     },
     "execution_count": 4,
     "metadata": {},
     "output_type": "execute_result"
    }
   ],
   "source": [
    "data_geo2.head(10)"
   ]
  },
  {
   "cell_type": "code",
   "execution_count": 5,
   "metadata": {},
   "outputs": [
    {
     "data": {
      "text/html": [
       "<div>\n",
       "<style scoped>\n",
       "    .dataframe tbody tr th:only-of-type {\n",
       "        vertical-align: middle;\n",
       "    }\n",
       "\n",
       "    .dataframe tbody tr th {\n",
       "        vertical-align: top;\n",
       "    }\n",
       "\n",
       "    .dataframe thead th {\n",
       "        text-align: right;\n",
       "    }\n",
       "</style>\n",
       "<table border=\"1\" class=\"dataframe\">\n",
       "  <thead>\n",
       "    <tr style=\"text-align: right;\">\n",
       "      <th></th>\n",
       "      <th>id</th>\n",
       "      <th>f0</th>\n",
       "      <th>f1</th>\n",
       "      <th>f2</th>\n",
       "      <th>product</th>\n",
       "    </tr>\n",
       "  </thead>\n",
       "  <tbody>\n",
       "    <tr>\n",
       "      <th>0</th>\n",
       "      <td>fwXo0</td>\n",
       "      <td>-1.146987</td>\n",
       "      <td>0.963328</td>\n",
       "      <td>-0.828965</td>\n",
       "      <td>27.758673</td>\n",
       "    </tr>\n",
       "    <tr>\n",
       "      <th>1</th>\n",
       "      <td>WJtFt</td>\n",
       "      <td>0.262778</td>\n",
       "      <td>0.269839</td>\n",
       "      <td>-2.530187</td>\n",
       "      <td>56.069697</td>\n",
       "    </tr>\n",
       "    <tr>\n",
       "      <th>2</th>\n",
       "      <td>ovLUW</td>\n",
       "      <td>0.194587</td>\n",
       "      <td>0.289035</td>\n",
       "      <td>-5.586433</td>\n",
       "      <td>62.871910</td>\n",
       "    </tr>\n",
       "    <tr>\n",
       "      <th>3</th>\n",
       "      <td>q6cA6</td>\n",
       "      <td>2.236060</td>\n",
       "      <td>-0.553760</td>\n",
       "      <td>0.930038</td>\n",
       "      <td>114.572842</td>\n",
       "    </tr>\n",
       "    <tr>\n",
       "      <th>4</th>\n",
       "      <td>WPMUX</td>\n",
       "      <td>-0.515993</td>\n",
       "      <td>1.716266</td>\n",
       "      <td>5.899011</td>\n",
       "      <td>149.600746</td>\n",
       "    </tr>\n",
       "    <tr>\n",
       "      <th>5</th>\n",
       "      <td>LzZXx</td>\n",
       "      <td>-0.758092</td>\n",
       "      <td>0.710691</td>\n",
       "      <td>2.585887</td>\n",
       "      <td>90.222465</td>\n",
       "    </tr>\n",
       "    <tr>\n",
       "      <th>6</th>\n",
       "      <td>WBHRv</td>\n",
       "      <td>-0.574891</td>\n",
       "      <td>0.317727</td>\n",
       "      <td>1.773745</td>\n",
       "      <td>45.641478</td>\n",
       "    </tr>\n",
       "    <tr>\n",
       "      <th>7</th>\n",
       "      <td>XO8fn</td>\n",
       "      <td>-1.906649</td>\n",
       "      <td>-2.458350</td>\n",
       "      <td>-0.177097</td>\n",
       "      <td>72.480640</td>\n",
       "    </tr>\n",
       "    <tr>\n",
       "      <th>8</th>\n",
       "      <td>ybmQ5</td>\n",
       "      <td>1.776292</td>\n",
       "      <td>-0.279356</td>\n",
       "      <td>3.004156</td>\n",
       "      <td>106.616832</td>\n",
       "    </tr>\n",
       "    <tr>\n",
       "      <th>9</th>\n",
       "      <td>OilcN</td>\n",
       "      <td>-1.214452</td>\n",
       "      <td>-0.439314</td>\n",
       "      <td>5.922514</td>\n",
       "      <td>52.954532</td>\n",
       "    </tr>\n",
       "  </tbody>\n",
       "</table>\n",
       "</div>"
      ],
      "text/plain": [
       "      id        f0        f1        f2     product\n",
       "0  fwXo0 -1.146987  0.963328 -0.828965   27.758673\n",
       "1  WJtFt  0.262778  0.269839 -2.530187   56.069697\n",
       "2  ovLUW  0.194587  0.289035 -5.586433   62.871910\n",
       "3  q6cA6  2.236060 -0.553760  0.930038  114.572842\n",
       "4  WPMUX -0.515993  1.716266  5.899011  149.600746\n",
       "5  LzZXx -0.758092  0.710691  2.585887   90.222465\n",
       "6  WBHRv -0.574891  0.317727  1.773745   45.641478\n",
       "7  XO8fn -1.906649 -2.458350 -0.177097   72.480640\n",
       "8  ybmQ5  1.776292 -0.279356  3.004156  106.616832\n",
       "9  OilcN -1.214452 -0.439314  5.922514   52.954532"
      ]
     },
     "execution_count": 5,
     "metadata": {},
     "output_type": "execute_result"
    }
   ],
   "source": [
    "data_geo3.head(10)"
   ]
  },
  {
   "cell_type": "markdown",
   "metadata": {},
   "source": [
    "Проверим значения каждого региона на пропуски и на правильный тип данных:"
   ]
  },
  {
   "cell_type": "code",
   "execution_count": 6,
   "metadata": {},
   "outputs": [
    {
     "name": "stdout",
     "output_type": "stream",
     "text": [
      "<class 'pandas.core.frame.DataFrame'>\n",
      "RangeIndex: 100000 entries, 0 to 99999\n",
      "Data columns (total 5 columns):\n",
      " #   Column   Non-Null Count   Dtype  \n",
      "---  ------   --------------   -----  \n",
      " 0   id       100000 non-null  object \n",
      " 1   f0       100000 non-null  float64\n",
      " 2   f1       100000 non-null  float64\n",
      " 3   f2       100000 non-null  float64\n",
      " 4   product  100000 non-null  float64\n",
      "dtypes: float64(4), object(1)\n",
      "memory usage: 3.8+ MB\n",
      "<class 'pandas.core.frame.DataFrame'>\n",
      "RangeIndex: 100000 entries, 0 to 99999\n",
      "Data columns (total 5 columns):\n",
      " #   Column   Non-Null Count   Dtype  \n",
      "---  ------   --------------   -----  \n",
      " 0   id       100000 non-null  object \n",
      " 1   f0       100000 non-null  float64\n",
      " 2   f1       100000 non-null  float64\n",
      " 3   f2       100000 non-null  float64\n",
      " 4   product  100000 non-null  float64\n",
      "dtypes: float64(4), object(1)\n",
      "memory usage: 3.8+ MB\n",
      "<class 'pandas.core.frame.DataFrame'>\n",
      "RangeIndex: 100000 entries, 0 to 99999\n",
      "Data columns (total 5 columns):\n",
      " #   Column   Non-Null Count   Dtype  \n",
      "---  ------   --------------   -----  \n",
      " 0   id       100000 non-null  object \n",
      " 1   f0       100000 non-null  float64\n",
      " 2   f1       100000 non-null  float64\n",
      " 3   f2       100000 non-null  float64\n",
      " 4   product  100000 non-null  float64\n",
      "dtypes: float64(4), object(1)\n",
      "memory usage: 3.8+ MB\n"
     ]
    }
   ],
   "source": [
    "list_names_region = [data_geo1, data_geo2, data_geo3]\n",
    "\n",
    "for value in list_names_region:\n",
    "    value.info()"
   ]
  },
  {
   "cell_type": "markdown",
   "metadata": {},
   "source": [
    "Все данные имеют верный тип, в них отсутствуют пропуски. Проверим данные каждого региона на дубликаты:"
   ]
  },
  {
   "cell_type": "code",
   "execution_count": 7,
   "metadata": {},
   "outputs": [
    {
     "name": "stdout",
     "output_type": "stream",
     "text": [
      "0\n",
      "0\n",
      "0\n"
     ]
    }
   ],
   "source": [
    "for value in list_names_region:\n",
    "    print(value.duplicated().sum())"
   ]
  },
  {
   "cell_type": "markdown",
   "metadata": {},
   "source": [
    "В данных также отсутствуют дубликаты."
   ]
  },
  {
   "cell_type": "markdown",
   "metadata": {},
   "source": [
    "Для кадого региона создадим тепловую карту коэффициентов корреляции Пирсона и определим, насколько влияют признаки на целевой в полученных датасетах:"
   ]
  },
  {
   "cell_type": "markdown",
   "metadata": {},
   "source": [
    "Первый регион:"
   ]
  },
  {
   "cell_type": "code",
   "execution_count": 8,
   "metadata": {},
   "outputs": [
    {
     "data": {
      "image/png": "[encoded data removed]",
      "text/plain": [
       "<Figure size 432x288 with 2 Axes>"
      ]
     },
     "metadata": {
      "needs_background": "light"
     },
     "output_type": "display_data"
    }
   ],
   "source": [
    "sns.heatmap(data_geo1.drop('id', axis = 1).corr(), annot = True);"
   ]
  },
  {
   "cell_type": "markdown",
   "metadata": {},
   "source": [
    "Второй регион:"
   ]
  },
  {
   "cell_type": "code",
   "execution_count": 9,
   "metadata": {},
   "outputs": [
    {
     "data": {
      "image/png": "[encoded data removed]",
      "text/plain": [
       "<Figure size 432x288 with 2 Axes>"
      ]
     },
     "metadata": {
      "needs_background": "light"
     },
     "output_type": "display_data"
    }
   ],
   "source": [
    "sns.heatmap(data_geo2.drop('id', axis = 1).corr(), annot = True);"
   ]
  },
  {
   "cell_type": "markdown",
   "metadata": {},
   "source": [
    "Третий регион:"
   ]
  },
  {
   "cell_type": "code",
   "execution_count": 10,
   "metadata": {},
   "outputs": [
    {
     "data": {
      "image/png": "[encoded data removed]",
      "text/plain": [
       "<Figure size 432x288 with 2 Axes>"
      ]
     },
     "metadata": {
      "needs_background": "light"
     },
     "output_type": "display_data"
    }
   ],
   "source": [
    "sns.heatmap(data_geo3.drop('id', axis = 1).corr(), annot = True);"
   ]
  },
  {
   "cell_type": "markdown",
   "metadata": {},
   "source": [
    "Можем сделать следующие выводы:\n",
    "1. В первом регионе прослеживается слабая зависимость между значениями f2 и целевым признаком - 0.44, а также слабая зависимость между значениями f0 и f1 - -0.44\n",
    "2. В втором регионе наблюдается максимально высокая зависимость между значениями f2 и целевым признаком - 1\n",
    "3. В третьем регионе прослеживается слабая зависимость между значениями f2 и целевым признаком - 0.45\n",
    "\n",
    "Таким образом, во всех регионах зависимость целевого признака от f2 наибольшая. При расчетах наибольшее внимание необходимо уделять именно этому значению, а также второму региону, а котором корреляция равна 1."
   ]
  },
  {
   "cell_type": "markdown",
   "metadata": {},
   "source": [
    "## Обучение и проверка модели"
   ]
  },
  {
   "cell_type": "markdown",
   "metadata": {},
   "source": [
    "### Разбиение данных"
   ]
  },
  {
   "cell_type": "markdown",
   "metadata": {},
   "source": [
    "Разделим выборки в регионах на признаки - `target` - объем запасов в скважине, остальные данные (кроме `id`) - в `features`."
   ]
  },
  {
   "cell_type": "code",
   "execution_count": 11,
   "metadata": {},
   "outputs": [],
   "source": [
    "list_targets = []\n",
    "list_features = []\n",
    "\n",
    "for value in list_names_region:\n",
    "    list_targets.append(value['product']) \n",
    "    list_features.append(value[['f0', 'f1', 'f2']])"
   ]
  },
  {
   "cell_type": "markdown",
   "metadata": {},
   "source": [
    "Для каждого региона произведем разбиение данных на обучающую и валидационную выборки в соотношении 75 : 25:"
   ]
  },
  {
   "cell_type": "code",
   "execution_count": 12,
   "metadata": {},
   "outputs": [],
   "source": [
    "features_train_geo1, features_valid_geo1, target_train_geo1, target_valid_geo1 = train_test_split(list_features[0], list_targets[0], test_size = 0.25, random_state = 12345)\n",
    "features_train_geo2, features_valid_geo2, target_train_geo2, target_valid_geo2 = train_test_split(list_features[1], list_targets[1], test_size = 0.25, random_state = 12345)\n",
    "features_train_geo3, features_valid_geo3, target_train_geo3, target_valid_geo3 = train_test_split(list_features[2], list_targets[2], test_size = 0.25, random_state = 12345)"
   ]
  },
  {
   "cell_type": "markdown",
   "metadata": {},
   "source": [
    "### Обучение модели и получение предсказаний"
   ]
  },
  {
   "cell_type": "markdown",
   "metadata": {},
   "source": [
    "Все данные в выборках `features` имеют численный тип данных. Приведем их у одному масштабу. Для этого создадим функцию, масштабирующую признаки тренировочной и валидационной выборок:"
   ]
  },
  {
   "cell_type": "code",
   "execution_count": 13,
   "metadata": {},
   "outputs": [],
   "source": [
    "def scaling(features_train, features_valid):\n",
    "    \n",
    "    scaler = StandardScaler()\n",
    "    numeric = ['f0', 'f1', 'f2']\n",
    "    \n",
    "    scaler.fit(features_train[numeric])\n",
    "    pd.options.mode.chained_assignment = None\n",
    "    \n",
    "    features_train[numeric] = scaler.transform(features_train[numeric])\n",
    "    features_valid[numeric] = scaler.transform(features_valid[numeric])\n",
    "        \n",
    "    return features_train, features_valid"
   ]
  },
  {
   "cell_type": "markdown",
   "metadata": {},
   "source": [
    "Преобразуем выборки по регионам к одному масштабу:"
   ]
  },
  {
   "cell_type": "code",
   "execution_count": 14,
   "metadata": {},
   "outputs": [],
   "source": [
    "features_train_geo1, features_valid_geo1 = scaling(features_train_geo1, features_valid_geo1)\n",
    "features_train_geo2, features_valid_geo2 = scaling(features_train_geo2, features_valid_geo2)\n",
    "features_train_geo3, features_valid_geo3 = scaling(features_train_geo3, features_valid_geo3)"
   ]
  },
  {
   "cell_type": "markdown",
   "metadata": {},
   "source": [
    "Для данной задачи будем использовать модель линейной регрессии. Напишем функцию, создающую предсказания:"
   ]
  },
  {
   "cell_type": "code",
   "execution_count": 15,
   "metadata": {},
   "outputs": [],
   "source": [
    "def model_learning(features_train, target_train, features_valid):\n",
    "    \n",
    "    model = LinearRegression()\n",
    "    model.fit(features_train, target_train)\n",
    "    predictions = model.predict(features_valid)\n",
    "    \n",
    "    return predictions"
   ]
  },
  {
   "cell_type": "markdown",
   "metadata": {},
   "source": [
    "Применим данную функцию к выборкам по трем регионам:"
   ]
  },
  {
   "cell_type": "code",
   "execution_count": 16,
   "metadata": {},
   "outputs": [],
   "source": [
    "predictions_geo1 = model_learning(features_train_geo1, target_train_geo1, features_valid_geo1)\n",
    "predictions_geo2 = model_learning(features_train_geo2, target_train_geo2, features_valid_geo2)\n",
    "predictions_geo3 = model_learning(features_train_geo3, target_train_geo3, features_valid_geo3)\n",
    "predictions_list = [predictions_geo1, predictions_geo2, predictions_geo3]"
   ]
  },
  {
   "cell_type": "markdown",
   "metadata": {},
   "source": [
    "### Оценка качества модели и анализ результатов"
   ]
  },
  {
   "cell_type": "markdown",
   "metadata": {},
   "source": [
    "Определим средний запас предсказанного сырья в 3 регионах:"
   ]
  },
  {
   "cell_type": "code",
   "execution_count": 17,
   "metadata": {},
   "outputs": [
    {
     "name": "stdout",
     "output_type": "stream",
     "text": [
      "Средний запас предсказанного сырья в первом регионе: 92.59256778438035\n",
      "Средний запас предсказанного сырья во втором регионе: 68.728546895446\n",
      "Средний запас предсказанного сырья в третьем регионе: 94.96504596800489\n"
     ]
    }
   ],
   "source": [
    "print('Средний запас предсказанного сырья в первом регионе:', predictions_geo1.mean())\n",
    "print('Средний запас предсказанного сырья во втором регионе:', predictions_geo2.mean())\n",
    "print('Средний запас предсказанного сырья в третьем регионе:', predictions_geo3.mean())"
   ]
  },
  {
   "cell_type": "markdown",
   "metadata": {},
   "source": [
    "Определим значение метрик RMSE моделей по 3 регионам:"
   ]
  },
  {
   "cell_type": "code",
   "execution_count": 18,
   "metadata": {},
   "outputs": [
    {
     "name": "stdout",
     "output_type": "stream",
     "text": [
      "RMSE модели первого региона: 37.5794217150813\n",
      "RMSE модели второго региона: 0.893099286775617\n",
      "RMSE модели третьего региона: 40.02970873393434\n"
     ]
    }
   ],
   "source": [
    "rmse_geo1 = sklm.mean_squared_error(target_valid_geo1, predictions_geo1) ** 0.5\n",
    "rmse_geo2 = sklm.mean_squared_error(target_valid_geo2, predictions_geo2) ** 0.5\n",
    "rmse_geo3 = sklm.mean_squared_error(target_valid_geo3, predictions_geo3) ** 0.5\n",
    "\n",
    "print('RMSE модели первого региона:', rmse_geo1)\n",
    "print('RMSE модели второго региона:', rmse_geo2)\n",
    "print('RMSE модели третьего региона:', rmse_geo3)"
   ]
  },
  {
   "cell_type": "markdown",
   "metadata": {},
   "source": [
    "Таким образом, мы получили следующие результаты: средний предсказанный запас сырья во втором регионе примерно в 1.35 раз меньше, чем в первом и третьем. Однако метрики ошибки моделей этих регионов на несколько порядков больше, чем во втором. Т.е. разброс значений запаса во втором регионе минимален, по сравнению с первым и третьим, где значения запаса колебаются в широком диапазоне, что предварительно является плохим показателем при планировании бурения скважин в этих регионах. "
   ]
  },
  {
   "cell_type": "markdown",
   "metadata": {},
   "source": [
    "## Подготовка к расчёту прибыли"
   ]
  },
  {
   "cell_type": "markdown",
   "metadata": {},
   "source": [
    "### Определение ключевых значений расчета"
   ]
  },
  {
   "cell_type": "markdown",
   "metadata": {},
   "source": [
    "Определим основные параметры расчета прибыли:"
   ]
  },
  {
   "cell_type": "markdown",
   "metadata": {},
   "source": [
    "Бюджет на разработку скважин в регионе:"
   ]
  },
  {
   "cell_type": "code",
   "execution_count": 19,
   "metadata": {},
   "outputs": [],
   "source": [
    "price_development = 10_000_000_000"
   ]
  },
  {
   "cell_type": "markdown",
   "metadata": {},
   "source": [
    "Доход с каждой тысячи баррелей сырья:"
   ]
  },
  {
   "cell_type": "code",
   "execution_count": 20,
   "metadata": {},
   "outputs": [],
   "source": [
    "income_thousand_raw_material = 450_000"
   ]
  },
  {
   "cell_type": "markdown",
   "metadata": {},
   "source": [
    "Количество скважин в разработку:"
   ]
  },
  {
   "cell_type": "code",
   "execution_count": 21,
   "metadata": {},
   "outputs": [],
   "source": [
    "number_borehole_geo = 200"
   ]
  },
  {
   "cell_type": "markdown",
   "metadata": {},
   "source": [
    "Определим средние запасы сырья по регионам (в тысячах баррелей):"
   ]
  },
  {
   "cell_type": "code",
   "execution_count": 22,
   "metadata": {},
   "outputs": [
    {
     "name": "stdout",
     "output_type": "stream",
     "text": [
      "92.50000000000001\n",
      "68.82500000000002\n",
      "95.00000000000004\n"
     ]
    }
   ],
   "source": [
    "raw_material_geo1 = data_geo1['product'].mean()\n",
    "raw_material_geo2 = data_geo2['product'].mean()\n",
    "raw_material_geo3 = data_geo3['product'].mean()\n",
    "\n",
    "print(raw_material_geo1)\n",
    "print(raw_material_geo2)\n",
    "print(raw_material_geo3)"
   ]
  },
  {
   "cell_type": "markdown",
   "metadata": {},
   "source": [
    "### Расчет достаточного объема сырья"
   ]
  },
  {
   "cell_type": "markdown",
   "metadata": {},
   "source": [
    "Рассчитаем достаточный объём сырья для безубыточной разработки 1 скважины в регионе (тыс. баррелей):"
   ]
  },
  {
   "cell_type": "code",
   "execution_count": 23,
   "metadata": {},
   "outputs": [
    {
     "data": {
      "text/plain": [
       "111.11"
      ]
     },
     "execution_count": 23,
     "metadata": {},
     "output_type": "execute_result"
    }
   ],
   "source": [
    "volume_raw_material = round(price_development / (income_thousand_raw_material * number_borehole_geo), 2)\n",
    "volume_raw_material"
   ]
  },
  {
   "cell_type": "markdown",
   "metadata": {},
   "source": [
    "Определим среднее значение количества сырья в скважинах и достаточный объем сырья для 1 скважины:"
   ]
  },
  {
   "cell_type": "code",
   "execution_count": 24,
   "metadata": {},
   "outputs": [
    {
     "name": "stdout",
     "output_type": "stream",
     "text": [
      "0.832508325083251\n",
      "0.6194311943119433\n",
      "0.8550085500855013\n"
     ]
    }
   ],
   "source": [
    "print(raw_material_geo1 / volume_raw_material)\n",
    "print(raw_material_geo2 / volume_raw_material)\n",
    "print(raw_material_geo3 / volume_raw_material)"
   ]
  },
  {
   "cell_type": "markdown",
   "metadata": {},
   "source": [
    "Таким образом, в среднем, запасы сырья в скважинах каждого региона составляют: 92.5, 68.825 и 95 тыс. баррелей. При этом ни в одном регионе среднее значение запаса сырья для 1 скважины не достигает минимального для безубыточной разработки - они составляют только 83.25%, 61.94% и 85.5% от минимально необходимого."
   ]
  },
  {
   "cell_type": "markdown",
   "metadata": {},
   "source": [
    "### Функция прибыли"
   ]
  },
  {
   "cell_type": "markdown",
   "metadata": {},
   "source": [
    "Напишем функцию, рассчитывающую максимальную прибыль по предсказаниям модели. Для этого отсортируем данные со значениями объемов сырья по убыванию, выберем 200 лучших скважин (по условию задания), просуммируем соответствующие им целевые значения объемов сырья, умножим на доход с каждой тысячи баррелей сырья и вычтем сумму бюджета на разработку скважин в регионе:"
   ]
  },
  {
   "cell_type": "code",
   "execution_count": 25,
   "metadata": {},
   "outputs": [],
   "source": [
    "def total_income(predictions, target_valid):\n",
    "    \n",
    "    target_valid = target_valid.reset_index(drop = True)\n",
    "    predictions = pd.Series(predictions).reset_index(drop = True)\n",
    "    best_predictions = predictions.sort_values(ascending = False)[:number_borehole_geo]\n",
    "    income = target_valid[best_predictions.index].sum() * income_thousand_raw_material - price_development\n",
    "    \n",
    "    return income"
   ]
  },
  {
   "cell_type": "markdown",
   "metadata": {},
   "source": [
    "Определим прибыль в каждом регионе:"
   ]
  },
  {
   "cell_type": "code",
   "execution_count": 26,
   "metadata": {},
   "outputs": [
    {
     "name": "stdout",
     "output_type": "stream",
     "text": [
      "Прибыль в первом регионе: 3320826043.1398506\n",
      "Прибыль во втором регионе: 2415086696.681511\n",
      "Прибыль в третьем регионе: 2710349963.5998325\n"
     ]
    }
   ],
   "source": [
    "income_geo1 = total_income(predictions_geo1, target_valid_geo1)\n",
    "income_geo2 = total_income(predictions_geo2, target_valid_geo2)\n",
    "income_geo3 = total_income(predictions_geo3, target_valid_geo3)\n",
    "print('Прибыль в первом регионе:', income_geo1)\n",
    "print('Прибыль во втором регионе:', income_geo2)\n",
    "print('Прибыль в третьем регионе:', income_geo3)"
   ]
  },
  {
   "cell_type": "markdown",
   "metadata": {},
   "source": [
    "## Расчёт прибыли и рисков "
   ]
  },
  {
   "cell_type": "markdown",
   "metadata": {},
   "source": [
    "### Распределение прибыли"
   ]
  },
  {
   "cell_type": "markdown",
   "metadata": {},
   "source": [
    "Для определения распределения прибыли применим технику Bootstrap и визуализацию. Для этого создадим функцию `bootstrap_function`, нахоящую распределение прибыли по регионам. На протяжении 1000 итераций она будет белать выборку из 500 скважин, отбирать 200 и считать для них прибыль, используя функцию `total_income`:"
   ]
  },
  {
   "cell_type": "code",
   "execution_count": 27,
   "metadata": {},
   "outputs": [],
   "source": [
    "def bootstrap_function(prediction, target_valid, n = 500):\n",
    "\n",
    "    state = np.random.RandomState(12345)\n",
    "    values_bootstrap = []\n",
    "\n",
    "    for i in range(1000):\n",
    "        subsample_prediction = pd.Series(prediction).reset_index(drop = True).sample(n, replace = False, random_state = state)\n",
    "        subsample_target_valid = target_valid.reset_index(drop = True)[subsample_prediction.index]\n",
    "        income_target_subsample = total_income(subsample_prediction, subsample_target_valid)\n",
    "        values_bootstrap.append(income_target_subsample)\n",
    "        \n",
    "    values_bootstrap = pd.Series(values_bootstrap)\n",
    "    return values_bootstrap"
   ]
  },
  {
   "cell_type": "markdown",
   "metadata": {},
   "source": [
    "Применим данную функцию к 3 регионам:"
   ]
  },
  {
   "cell_type": "code",
   "execution_count": 28,
   "metadata": {},
   "outputs": [],
   "source": [
    "income_predictions_geo1 = bootstrap_function(prediction = predictions_geo1, target_valid = target_valid_geo1)\n",
    "income_predictions_geo2 = bootstrap_function(prediction = predictions_geo2, target_valid = target_valid_geo2)\n",
    "income_predictions_geo3 = bootstrap_function(prediction = predictions_geo3, target_valid = target_valid_geo3)"
   ]
  },
  {
   "cell_type": "markdown",
   "metadata": {},
   "source": [
    "Построим диаграммы распределения прибыли по 3 регионам:"
   ]
  },
  {
   "cell_type": "markdown",
   "metadata": {},
   "source": [
    "Первый регион:"
   ]
  },
  {
   "cell_type": "code",
   "execution_count": 29,
   "metadata": {
    "scrolled": false
   },
   "outputs": [
    {
     "data": {
      "image/png": "[encoded data removed]",
      "text/plain": [
       "<Figure size 864x432 with 1 Axes>"
      ]
     },
     "metadata": {
      "needs_background": "light"
     },
     "output_type": "display_data"
    }
   ],
   "source": [
    "income_predictions_geo1.plot(kind = 'hist', bins = 50, figsize = (12, 6));"
   ]
  },
  {
   "cell_type": "markdown",
   "metadata": {},
   "source": [
    "Второй регион:"
   ]
  },
  {
   "cell_type": "code",
   "execution_count": 30,
   "metadata": {},
   "outputs": [
    {
     "data": {
      "image/png": "[encoded data removed]",
      "text/plain": [
       "<Figure size 864x432 with 1 Axes>"
      ]
     },
     "metadata": {
      "needs_background": "light"
     },
     "output_type": "display_data"
    }
   ],
   "source": [
    "income_predictions_geo2.plot(kind = 'hist', bins = 50, figsize = (12, 6));"
   ]
  },
  {
   "cell_type": "markdown",
   "metadata": {},
   "source": [
    "Третий регион:"
   ]
  },
  {
   "cell_type": "code",
   "execution_count": 31,
   "metadata": {},
   "outputs": [
    {
     "data": {
      "image/png": "[encoded data removed]",
      "text/plain": [
       "<Figure size 864x432 with 1 Axes>"
      ]
     },
     "metadata": {
      "needs_background": "light"
     },
     "output_type": "display_data"
    }
   ],
   "source": [
    "income_predictions_geo3.plot(kind = 'hist', bins = 50, figsize = (12, 6));"
   ]
  },
  {
   "cell_type": "markdown",
   "metadata": {},
   "source": [
    "### Расчет рисков убытков"
   ]
  },
  {
   "cell_type": "markdown",
   "metadata": {},
   "source": [
    "Создадим функцию, определяющую доверительный интервал, квантили, среднее, а также проверку на гипотезу: убыточек ли регион? Примем нулевую гипотезу: регион убыточен. Значение alpha примем 0.025 (по условию):"
   ]
  },
  {
   "cell_type": "code",
   "execution_count": 32,
   "metadata": {},
   "outputs": [],
   "source": [
    "def confidence_interval_function(distribution):\n",
    "    \n",
    "    lower_distribution = distribution.quantile(0.025)\n",
    "    upper_distribution = distribution.quantile(0.975)\n",
    "    mean_distribution = distribution.mean()\n",
    "    confidence_interval = st.t.interval(0.95, len(distribution) - 1, loc = np.mean(distribution), scale = st.sem(distribution))\n",
    "    \n",
    "    pvalue = distribution[distribution < 0].count() / len(distribution)\n",
    "\n",
    "    def hypoth(pvalue, alpha = 0.025):\n",
    "        \n",
    "        if pvalue < alpha:\n",
    "            return print('Отвергаем нулелевую гипотезу, скорее всего, регион не убыточен')\n",
    "        else:\n",
    "            return print('Не отвергаем нулелевую гипотезу, скорее всего, регион убыточен')\n",
    "    \n",
    "    return (print('Среднее значение распределения:', mean_distribution),\n",
    "            print('Верхний квантиль распределения:', upper_distribution),\n",
    "            print('Нижний квантиль распределения:', lower_distribution),\n",
    "            print('Доверительный интервал, 95%:', confidence_interval),\n",
    "            print('Вероятность убытков, %:', pvalue * 100),\n",
    "            hypoth(pvalue = pvalue))"
   ]
  },
  {
   "cell_type": "markdown",
   "metadata": {},
   "source": [
    "Для первого региона:"
   ]
  },
  {
   "cell_type": "code",
   "execution_count": 33,
   "metadata": {
    "scrolled": true
   },
   "outputs": [
    {
     "name": "stdout",
     "output_type": "stream",
     "text": [
      "Среднее значение распределения: 380710890.70907485\n",
      "Верхний квантиль распределения: 879613967.8477957\n",
      "Нижний квантиль распределения: -126947638.03180212\n",
      "Доверительный интервал, 95%: (364624702.9511889, 396797078.4669608)\n",
      "Вероятность убытков, %: 7.199999999999999\n",
      "Не отвергаем нулелевую гипотезу, скорее всего, регион убыточен\n"
     ]
    }
   ],
   "source": [
    "confidence_interval_function(income_predictions_geo1);"
   ]
  },
  {
   "cell_type": "markdown",
   "metadata": {},
   "source": [
    "Для второго региона:"
   ]
  },
  {
   "cell_type": "code",
   "execution_count": 34,
   "metadata": {},
   "outputs": [
    {
     "name": "stdout",
     "output_type": "stream",
     "text": [
      "Среднее значение распределения: 448231065.1477294\n",
      "Верхний квантиль распределения: 892985249.7000599\n",
      "Нижний квантиль распределения: 70899384.93535462\n",
      "Доверительный интервал, 95%: (435317431.6311272, 461144698.6643316)\n",
      "Вероятность убытков, %: 1.4000000000000001\n",
      "Отвергаем нулелевую гипотезу, скорее всего, регион не убыточен\n"
     ]
    }
   ],
   "source": [
    "confidence_interval_function(income_predictions_geo2);"
   ]
  },
  {
   "cell_type": "markdown",
   "metadata": {},
   "source": [
    "Для третьего региона:"
   ]
  },
  {
   "cell_type": "code",
   "execution_count": 35,
   "metadata": {},
   "outputs": [
    {
     "name": "stdout",
     "output_type": "stream",
     "text": [
      "Среднее значение распределения: 402796587.171971\n",
      "Верхний квантиль распределения: 963026154.4863068\n",
      "Нижний квантиль распределения: -143659306.84827137\n",
      "Доверительный интервал, 95%: (385890793.91037375, 419702380.4335683)\n",
      "Вероятность убытков, %: 7.1\n",
      "Не отвергаем нулелевую гипотезу, скорее всего, регион убыточен\n"
     ]
    }
   ],
   "source": [
    "confidence_interval_function(income_predictions_geo3);"
   ]
  },
  {
   "cell_type": "markdown",
   "metadata": {},
   "source": [
    "Таким образом, наименее вероятно убыточным является второй регион. Помимо этого, у него наибольший показатель среднего прибыли и границ доверительного интервала. Рекомендуем его для бизнеса как наиболее выгодный."
   ]
  },
  {
   "cell_type": "markdown",
   "metadata": {},
   "source": [
    "## Выводы"
   ]
  },
  {
   "cell_type": "markdown",
   "metadata": {},
   "source": [
    "В ходе выполнения исследования были произведены: обучение и проверка модели, продготовка к расчету прибыли, расчет прибыли и рисков. Были получены следующие результаты: из трех регионов подходящим является только второй - вероятность убытков меньше 2.5% (у первого - 6.9%, у третьего - 7.6%). При этом у него наибольший показатель среднего значения прибыли - 456045105.79 (у первого - 396164984.8, у третьего - 404403866.57), границ доверительного интервала - (443147248.66390055, 468942962.909421), (у первого - (379620315.15, 412709654.46), у третьего - (387445797.47, 421361935.67)), и нижнего квантиля - 33820509.39 (у первого - -111215545.89, у третьего - -163350413.39). Т.е. практически по всем метрикам второй регион - наиболее выгодный.  "
   ]
  }
 ],
 "metadata": {
  "ExecuteTimeLog": [
   {
    "duration": 1028,
    "start_time": "2022-06-22T12:36:13.860Z"
   },
   {
    "duration": 154,
    "start_time": "2022-06-22T12:36:26.296Z"
   },
   {
    "duration": 482,
    "start_time": "2022-06-22T12:36:48.553Z"
   },
   {
    "duration": 196,
    "start_time": "2022-06-22T12:37:06.007Z"
   },
   {
    "duration": 1101,
    "start_time": "2022-06-22T12:37:11.539Z"
   },
   {
    "duration": 12,
    "start_time": "2022-06-22T12:37:27.609Z"
   },
   {
    "duration": 10,
    "start_time": "2022-06-22T12:37:35.385Z"
   },
   {
    "duration": 9,
    "start_time": "2022-06-22T12:37:40.273Z"
   },
   {
    "duration": 322,
    "start_time": "2022-06-22T12:37:47.656Z"
   },
   {
    "duration": 31,
    "start_time": "2022-06-22T12:38:02.274Z"
   },
   {
    "duration": 103,
    "start_time": "2022-06-22T13:31:00.807Z"
   },
   {
    "duration": 6,
    "start_time": "2022-06-22T13:31:39.551Z"
   },
   {
    "duration": 28,
    "start_time": "2022-06-22T13:31:54.534Z"
   },
   {
    "duration": 3,
    "start_time": "2022-06-22T13:32:49.958Z"
   },
   {
    "duration": 35,
    "start_time": "2022-06-22T13:33:02.725Z"
   },
   {
    "duration": 3,
    "start_time": "2022-06-22T13:33:19.278Z"
   },
   {
    "duration": 113,
    "start_time": "2022-06-22T13:33:32.119Z"
   },
   {
    "duration": 4,
    "start_time": "2022-06-22T13:34:11.491Z"
   },
   {
    "duration": 6,
    "start_time": "2022-06-22T13:34:17.327Z"
   },
   {
    "duration": 3,
    "start_time": "2022-06-22T13:35:14.425Z"
   },
   {
    "duration": 497,
    "start_time": "2022-06-22T13:35:14.430Z"
   },
   {
    "duration": 9,
    "start_time": "2022-06-22T13:35:14.929Z"
   },
   {
    "duration": 13,
    "start_time": "2022-06-22T13:35:14.940Z"
   },
   {
    "duration": 11,
    "start_time": "2022-06-22T13:35:14.955Z"
   },
   {
    "duration": 42,
    "start_time": "2022-06-22T13:35:14.967Z"
   },
   {
    "duration": 141,
    "start_time": "2022-06-22T13:35:15.010Z"
   },
   {
    "duration": 7,
    "start_time": "2022-06-22T13:35:15.153Z"
   },
   {
    "duration": 32,
    "start_time": "2022-06-22T13:35:15.162Z"
   },
   {
    "duration": 3,
    "start_time": "2022-06-22T13:35:15.196Z"
   },
   {
    "duration": 59,
    "start_time": "2022-06-22T13:35:15.200Z"
   },
   {
    "duration": 3,
    "start_time": "2022-06-22T13:35:15.260Z"
   },
   {
    "duration": 166,
    "start_time": "2022-06-22T13:35:15.264Z"
   },
   {
    "duration": 5,
    "start_time": "2022-06-22T13:35:15.432Z"
   },
   {
    "duration": 100,
    "start_time": "2022-06-22T13:35:15.439Z"
   },
   {
    "duration": 1044,
    "start_time": "2022-06-22T13:35:24.567Z"
   },
   {
    "duration": 326,
    "start_time": "2022-06-22T13:35:25.613Z"
   },
   {
    "duration": 18,
    "start_time": "2022-06-22T13:35:25.941Z"
   },
   {
    "duration": 14,
    "start_time": "2022-06-22T13:35:25.961Z"
   },
   {
    "duration": 16,
    "start_time": "2022-06-22T13:35:25.977Z"
   },
   {
    "duration": 68,
    "start_time": "2022-06-22T13:35:25.995Z"
   },
   {
    "duration": 169,
    "start_time": "2022-06-22T13:35:26.065Z"
   },
   {
    "duration": 10,
    "start_time": "2022-06-22T13:35:26.235Z"
   },
   {
    "duration": 36,
    "start_time": "2022-06-22T13:35:26.247Z"
   },
   {
    "duration": 4,
    "start_time": "2022-06-22T13:35:26.285Z"
   },
   {
    "duration": 58,
    "start_time": "2022-06-22T13:35:26.291Z"
   },
   {
    "duration": 4,
    "start_time": "2022-06-22T13:35:26.350Z"
   },
   {
    "duration": 175,
    "start_time": "2022-06-22T13:35:26.355Z"
   },
   {
    "duration": 6,
    "start_time": "2022-06-22T13:35:26.532Z"
   },
   {
    "duration": 101,
    "start_time": "2022-06-22T13:35:26.539Z"
   },
   {
    "duration": 7,
    "start_time": "2022-06-22T21:18:14.509Z"
   },
   {
    "duration": 7,
    "start_time": "2022-06-22T21:18:18.321Z"
   },
   {
    "duration": 3,
    "start_time": "2022-06-22T21:18:28.889Z"
   },
   {
    "duration": 3,
    "start_time": "2022-06-22T21:18:30.479Z"
   },
   {
    "duration": 3,
    "start_time": "2022-06-22T21:18:38.807Z"
   },
   {
    "duration": 3,
    "start_time": "2022-06-22T21:18:40.395Z"
   },
   {
    "duration": 2,
    "start_time": "2022-06-22T21:18:48.876Z"
   },
   {
    "duration": 2,
    "start_time": "2022-06-22T21:21:14.057Z"
   },
   {
    "duration": 3,
    "start_time": "2022-06-22T21:37:15.118Z"
   },
   {
    "duration": 42,
    "start_time": "2022-06-22T21:37:28.746Z"
   },
   {
    "duration": 6,
    "start_time": "2022-06-22T21:37:32.874Z"
   },
   {
    "duration": 1039,
    "start_time": "2022-06-22T21:37:38.913Z"
   },
   {
    "duration": 718,
    "start_time": "2022-06-22T21:37:39.954Z"
   },
   {
    "duration": 12,
    "start_time": "2022-06-22T21:37:40.673Z"
   },
   {
    "duration": 8,
    "start_time": "2022-06-22T21:37:40.687Z"
   },
   {
    "duration": 30,
    "start_time": "2022-06-22T21:37:40.697Z"
   },
   {
    "duration": 54,
    "start_time": "2022-06-22T21:37:40.729Z"
   },
   {
    "duration": 115,
    "start_time": "2022-06-22T21:37:40.784Z"
   },
   {
    "duration": 9,
    "start_time": "2022-06-22T21:37:40.900Z"
   },
   {
    "duration": 44,
    "start_time": "2022-06-22T21:37:40.910Z"
   },
   {
    "duration": 3,
    "start_time": "2022-06-22T21:37:40.956Z"
   },
   {
    "duration": 73,
    "start_time": "2022-06-22T21:37:40.960Z"
   },
   {
    "duration": 2,
    "start_time": "2022-06-22T21:37:41.035Z"
   },
   {
    "duration": 214,
    "start_time": "2022-06-22T21:37:41.039Z"
   },
   {
    "duration": 101,
    "start_time": "2022-06-22T21:37:41.254Z"
   },
   {
    "duration": 8,
    "start_time": "2022-06-22T21:37:41.357Z"
   },
   {
    "duration": 85,
    "start_time": "2022-06-22T21:37:41.367Z"
   },
   {
    "duration": 7,
    "start_time": "2022-06-22T21:37:41.454Z"
   },
   {
    "duration": 69,
    "start_time": "2022-06-22T21:37:41.462Z"
   },
   {
    "duration": 3,
    "start_time": "2022-06-22T21:38:03.513Z"
   },
   {
    "duration": 13,
    "start_time": "2022-06-22T21:38:03.518Z"
   },
   {
    "duration": 0,
    "start_time": "2022-06-22T21:38:03.533Z"
   },
   {
    "duration": 0,
    "start_time": "2022-06-22T21:38:03.534Z"
   },
   {
    "duration": 0,
    "start_time": "2022-06-22T21:38:03.535Z"
   },
   {
    "duration": 0,
    "start_time": "2022-06-22T21:38:03.536Z"
   },
   {
    "duration": 130,
    "start_time": "2022-06-22T21:38:03.540Z"
   },
   {
    "duration": 9,
    "start_time": "2022-06-22T21:38:03.672Z"
   },
   {
    "duration": 34,
    "start_time": "2022-06-22T21:38:03.683Z"
   },
   {
    "duration": 3,
    "start_time": "2022-06-22T21:38:03.719Z"
   },
   {
    "duration": 38,
    "start_time": "2022-06-22T21:38:03.724Z"
   },
   {
    "duration": 0,
    "start_time": "2022-06-22T21:38:03.764Z"
   },
   {
    "duration": 0,
    "start_time": "2022-06-22T21:38:03.765Z"
   },
   {
    "duration": 0,
    "start_time": "2022-06-22T21:38:03.767Z"
   },
   {
    "duration": 0,
    "start_time": "2022-06-22T21:38:03.768Z"
   },
   {
    "duration": 0,
    "start_time": "2022-06-22T21:38:03.769Z"
   },
   {
    "duration": 0,
    "start_time": "2022-06-22T21:38:03.770Z"
   },
   {
    "duration": 0,
    "start_time": "2022-06-22T21:38:03.771Z"
   },
   {
    "duration": 977,
    "start_time": "2022-06-22T21:38:36.136Z"
   },
   {
    "duration": 87,
    "start_time": "2022-06-22T21:38:37.114Z"
   },
   {
    "duration": 0,
    "start_time": "2022-06-22T21:38:37.203Z"
   },
   {
    "duration": 0,
    "start_time": "2022-06-22T21:38:37.203Z"
   },
   {
    "duration": 0,
    "start_time": "2022-06-22T21:38:37.204Z"
   },
   {
    "duration": 0,
    "start_time": "2022-06-22T21:38:37.205Z"
   },
   {
    "duration": 0,
    "start_time": "2022-06-22T21:38:37.206Z"
   },
   {
    "duration": 0,
    "start_time": "2022-06-22T21:38:37.207Z"
   },
   {
    "duration": 0,
    "start_time": "2022-06-22T21:38:37.208Z"
   },
   {
    "duration": 0,
    "start_time": "2022-06-22T21:38:37.208Z"
   },
   {
    "duration": 0,
    "start_time": "2022-06-22T21:38:37.210Z"
   },
   {
    "duration": 0,
    "start_time": "2022-06-22T21:38:37.211Z"
   },
   {
    "duration": 0,
    "start_time": "2022-06-22T21:38:37.212Z"
   },
   {
    "duration": 0,
    "start_time": "2022-06-22T21:38:37.212Z"
   },
   {
    "duration": 0,
    "start_time": "2022-06-22T21:38:37.213Z"
   },
   {
    "duration": 0,
    "start_time": "2022-06-22T21:38:37.214Z"
   },
   {
    "duration": 0,
    "start_time": "2022-06-22T21:38:37.215Z"
   },
   {
    "duration": 0,
    "start_time": "2022-06-22T21:38:37.216Z"
   },
   {
    "duration": 2,
    "start_time": "2022-06-22T21:38:59.951Z"
   },
   {
    "duration": 344,
    "start_time": "2022-06-22T21:38:59.955Z"
   },
   {
    "duration": 20,
    "start_time": "2022-06-22T21:39:00.300Z"
   },
   {
    "duration": 18,
    "start_time": "2022-06-22T21:39:00.321Z"
   },
   {
    "duration": 23,
    "start_time": "2022-06-22T21:39:00.341Z"
   },
   {
    "duration": 59,
    "start_time": "2022-06-22T21:39:00.366Z"
   },
   {
    "duration": 125,
    "start_time": "2022-06-22T21:39:00.427Z"
   },
   {
    "duration": 8,
    "start_time": "2022-06-22T21:39:00.554Z"
   },
   {
    "duration": 51,
    "start_time": "2022-06-22T21:39:00.564Z"
   },
   {
    "duration": 3,
    "start_time": "2022-06-22T21:39:00.617Z"
   },
   {
    "duration": 64,
    "start_time": "2022-06-22T21:39:00.621Z"
   },
   {
    "duration": 3,
    "start_time": "2022-06-22T21:39:00.687Z"
   },
   {
    "duration": 170,
    "start_time": "2022-06-22T21:39:00.691Z"
   },
   {
    "duration": 5,
    "start_time": "2022-06-22T21:39:00.954Z"
   },
   {
    "duration": 118,
    "start_time": "2022-06-22T21:39:00.961Z"
   },
   {
    "duration": 17,
    "start_time": "2022-06-22T21:39:01.081Z"
   },
   {
    "duration": 14,
    "start_time": "2022-06-22T21:39:01.100Z"
   },
   {
    "duration": 25,
    "start_time": "2022-06-22T21:39:01.116Z"
   },
   {
    "duration": 4,
    "start_time": "2022-06-22T21:39:08.706Z"
   },
   {
    "duration": 4,
    "start_time": "2022-06-22T21:39:24.303Z"
   },
   {
    "duration": 4,
    "start_time": "2022-06-22T21:39:28.424Z"
   },
   {
    "duration": 3,
    "start_time": "2022-06-22T21:39:41.612Z"
   },
   {
    "duration": 2,
    "start_time": "2022-06-22T21:39:45.038Z"
   },
   {
    "duration": 4,
    "start_time": "2022-06-22T21:39:51.991Z"
   },
   {
    "duration": 4,
    "start_time": "2022-06-22T21:39:56.593Z"
   },
   {
    "duration": 2905,
    "start_time": "2022-06-22T21:42:17.942Z"
   },
   {
    "duration": 6,
    "start_time": "2022-06-22T21:43:01.431Z"
   },
   {
    "duration": 4,
    "start_time": "2022-06-22T21:43:05.714Z"
   },
   {
    "duration": 3,
    "start_time": "2022-06-22T21:43:29.308Z"
   },
   {
    "duration": 4,
    "start_time": "2022-06-22T21:43:32.782Z"
   },
   {
    "duration": 6,
    "start_time": "2022-06-22T21:43:54.733Z"
   },
   {
    "duration": 5,
    "start_time": "2022-06-22T21:46:57.797Z"
   },
   {
    "duration": 4,
    "start_time": "2022-06-22T21:47:36.613Z"
   },
   {
    "duration": 4,
    "start_time": "2022-06-22T21:47:54.972Z"
   },
   {
    "duration": 4,
    "start_time": "2022-06-22T21:48:01.159Z"
   },
   {
    "duration": 3,
    "start_time": "2022-06-22T21:48:07.037Z"
   },
   {
    "duration": 4,
    "start_time": "2022-06-22T21:48:14.188Z"
   },
   {
    "duration": 4,
    "start_time": "2022-06-22T22:18:35.600Z"
   },
   {
    "duration": 8,
    "start_time": "2022-06-22T22:18:46.230Z"
   },
   {
    "duration": 8,
    "start_time": "2022-06-22T22:19:26.835Z"
   },
   {
    "duration": 4,
    "start_time": "2022-06-22T22:19:30.081Z"
   },
   {
    "duration": 7,
    "start_time": "2022-06-22T22:19:33.256Z"
   },
   {
    "duration": 6,
    "start_time": "2022-06-22T22:19:35.182Z"
   },
   {
    "duration": 5,
    "start_time": "2022-06-22T22:19:39.280Z"
   },
   {
    "duration": 8,
    "start_time": "2022-06-22T22:20:06.250Z"
   },
   {
    "duration": 8,
    "start_time": "2022-06-22T22:20:11.915Z"
   },
   {
    "duration": 7,
    "start_time": "2022-06-22T22:22:39.698Z"
   },
   {
    "duration": 8,
    "start_time": "2022-06-22T22:23:08.728Z"
   },
   {
    "duration": 6,
    "start_time": "2022-06-22T22:24:26.090Z"
   },
   {
    "duration": 6,
    "start_time": "2022-06-22T22:24:30.886Z"
   },
   {
    "duration": 4,
    "start_time": "2022-06-22T22:24:35.704Z"
   },
   {
    "duration": 4,
    "start_time": "2022-06-22T22:24:39.618Z"
   },
   {
    "duration": 5,
    "start_time": "2022-06-22T22:24:44.175Z"
   },
   {
    "duration": 4,
    "start_time": "2022-06-22T22:24:50.108Z"
   },
   {
    "duration": 363,
    "start_time": "2022-06-22T22:24:50.114Z"
   },
   {
    "duration": 10,
    "start_time": "2022-06-22T22:24:50.478Z"
   },
   {
    "duration": 14,
    "start_time": "2022-06-22T22:24:50.489Z"
   },
   {
    "duration": 16,
    "start_time": "2022-06-22T22:24:50.506Z"
   },
   {
    "duration": 54,
    "start_time": "2022-06-22T22:24:50.523Z"
   },
   {
    "duration": 138,
    "start_time": "2022-06-22T22:24:50.579Z"
   },
   {
    "duration": 8,
    "start_time": "2022-06-22T22:24:50.719Z"
   },
   {
    "duration": 41,
    "start_time": "2022-06-22T22:24:50.728Z"
   },
   {
    "duration": 3,
    "start_time": "2022-06-22T22:24:50.771Z"
   },
   {
    "duration": 54,
    "start_time": "2022-06-22T22:24:50.776Z"
   },
   {
    "duration": 3,
    "start_time": "2022-06-22T22:24:50.832Z"
   },
   {
    "duration": 118,
    "start_time": "2022-06-22T22:24:50.837Z"
   },
   {
    "duration": 95,
    "start_time": "2022-06-22T22:24:50.958Z"
   },
   {
    "duration": 97,
    "start_time": "2022-06-22T22:24:51.054Z"
   },
   {
    "duration": 19,
    "start_time": "2022-06-22T22:24:51.153Z"
   },
   {
    "duration": 12,
    "start_time": "2022-06-22T22:24:51.174Z"
   },
   {
    "duration": 31,
    "start_time": "2022-06-22T22:24:51.187Z"
   },
   {
    "duration": 6,
    "start_time": "2022-06-22T22:24:51.220Z"
   },
   {
    "duration": 18,
    "start_time": "2022-06-22T22:24:51.228Z"
   },
   {
    "duration": 14,
    "start_time": "2022-06-22T22:24:51.248Z"
   },
   {
    "duration": 6,
    "start_time": "2022-06-22T22:24:56.967Z"
   },
   {
    "duration": 5,
    "start_time": "2022-06-22T22:25:00.045Z"
   },
   {
    "duration": 5,
    "start_time": "2022-06-22T22:25:02.283Z"
   },
   {
    "duration": 6,
    "start_time": "2022-06-22T22:25:07.299Z"
   },
   {
    "duration": 3,
    "start_time": "2022-06-22T22:25:10.229Z"
   },
   {
    "duration": 367,
    "start_time": "2022-06-22T22:25:10.234Z"
   },
   {
    "duration": 9,
    "start_time": "2022-06-22T22:25:10.603Z"
   },
   {
    "duration": 15,
    "start_time": "2022-06-22T22:25:10.614Z"
   },
   {
    "duration": 21,
    "start_time": "2022-06-22T22:25:10.632Z"
   },
   {
    "duration": 35,
    "start_time": "2022-06-22T22:25:10.655Z"
   },
   {
    "duration": 140,
    "start_time": "2022-06-22T22:25:10.692Z"
   },
   {
    "duration": 7,
    "start_time": "2022-06-22T22:25:10.834Z"
   },
   {
    "duration": 30,
    "start_time": "2022-06-22T22:25:10.842Z"
   },
   {
    "duration": 3,
    "start_time": "2022-06-22T22:25:10.874Z"
   },
   {
    "duration": 37,
    "start_time": "2022-06-22T22:25:10.879Z"
   },
   {
    "duration": 4,
    "start_time": "2022-06-22T22:25:10.917Z"
   },
   {
    "duration": 232,
    "start_time": "2022-06-22T22:25:10.922Z"
   },
   {
    "duration": 5,
    "start_time": "2022-06-22T22:25:11.156Z"
   },
   {
    "duration": 106,
    "start_time": "2022-06-22T22:25:11.253Z"
   },
   {
    "duration": 3,
    "start_time": "2022-06-22T22:25:11.360Z"
   },
   {
    "duration": 4,
    "start_time": "2022-06-22T22:25:11.364Z"
   },
   {
    "duration": 8,
    "start_time": "2022-06-22T22:25:11.370Z"
   },
   {
    "duration": 4,
    "start_time": "2022-06-22T22:25:11.379Z"
   },
   {
    "duration": 5,
    "start_time": "2022-06-22T22:25:11.385Z"
   },
   {
    "duration": 10,
    "start_time": "2022-06-22T22:25:11.391Z"
   },
   {
    "duration": 6,
    "start_time": "2022-06-22T22:25:24.137Z"
   },
   {
    "duration": 3,
    "start_time": "2022-06-22T22:25:27.967Z"
   },
   {
    "duration": 340,
    "start_time": "2022-06-22T22:25:27.972Z"
   },
   {
    "duration": 9,
    "start_time": "2022-06-22T22:25:28.314Z"
   },
   {
    "duration": 12,
    "start_time": "2022-06-22T22:25:28.325Z"
   },
   {
    "duration": 16,
    "start_time": "2022-06-22T22:25:28.338Z"
   },
   {
    "duration": 32,
    "start_time": "2022-06-22T22:25:28.355Z"
   },
   {
    "duration": 135,
    "start_time": "2022-06-22T22:25:28.389Z"
   },
   {
    "duration": 6,
    "start_time": "2022-06-22T22:25:28.525Z"
   },
   {
    "duration": 34,
    "start_time": "2022-06-22T22:25:28.533Z"
   },
   {
    "duration": 4,
    "start_time": "2022-06-22T22:25:28.569Z"
   },
   {
    "duration": 41,
    "start_time": "2022-06-22T22:25:28.574Z"
   },
   {
    "duration": 3,
    "start_time": "2022-06-22T22:25:28.617Z"
   },
   {
    "duration": 136,
    "start_time": "2022-06-22T22:25:28.621Z"
   },
   {
    "duration": 93,
    "start_time": "2022-06-22T22:25:28.760Z"
   },
   {
    "duration": 98,
    "start_time": "2022-06-22T22:25:28.855Z"
   },
   {
    "duration": 8,
    "start_time": "2022-06-22T22:25:28.955Z"
   },
   {
    "duration": 8,
    "start_time": "2022-06-22T22:25:28.964Z"
   },
   {
    "duration": 9,
    "start_time": "2022-06-22T22:25:28.973Z"
   },
   {
    "duration": 8,
    "start_time": "2022-06-22T22:25:28.984Z"
   },
   {
    "duration": 11,
    "start_time": "2022-06-22T22:25:28.994Z"
   },
   {
    "duration": 10,
    "start_time": "2022-06-22T22:25:29.007Z"
   },
   {
    "duration": 5,
    "start_time": "2022-06-22T22:25:45.351Z"
   },
   {
    "duration": 3,
    "start_time": "2022-06-22T22:28:25.127Z"
   },
   {
    "duration": 5,
    "start_time": "2022-06-22T22:28:43.063Z"
   },
   {
    "duration": 8,
    "start_time": "2022-06-22T22:29:01.728Z"
   },
   {
    "duration": 7,
    "start_time": "2022-06-22T22:29:04.527Z"
   },
   {
    "duration": 105,
    "start_time": "2022-06-22T22:35:39.550Z"
   },
   {
    "duration": 8,
    "start_time": "2022-06-22T22:36:10.210Z"
   },
   {
    "duration": 4,
    "start_time": "2022-06-22T22:36:41.526Z"
   },
   {
    "duration": 12,
    "start_time": "2022-06-22T22:40:23.526Z"
   },
   {
    "duration": 14,
    "start_time": "2022-06-22T22:40:31.637Z"
   },
   {
    "duration": 1058,
    "start_time": "2022-06-29T03:02:55.664Z"
   },
   {
    "duration": 712,
    "start_time": "2022-06-29T03:02:56.724Z"
   },
   {
    "duration": 16,
    "start_time": "2022-06-29T03:02:57.438Z"
   },
   {
    "duration": 18,
    "start_time": "2022-06-29T03:02:57.455Z"
   },
   {
    "duration": 15,
    "start_time": "2022-06-29T03:02:57.475Z"
   },
   {
    "duration": 55,
    "start_time": "2022-06-29T03:02:57.491Z"
   },
   {
    "duration": 116,
    "start_time": "2022-06-29T03:02:57.547Z"
   },
   {
    "duration": 8,
    "start_time": "2022-06-29T03:02:57.665Z"
   },
   {
    "duration": 43,
    "start_time": "2022-06-29T03:02:57.674Z"
   },
   {
    "duration": 4,
    "start_time": "2022-06-29T03:02:57.719Z"
   },
   {
    "duration": 51,
    "start_time": "2022-06-29T03:02:57.724Z"
   },
   {
    "duration": 3,
    "start_time": "2022-06-29T03:02:57.776Z"
   },
   {
    "duration": 247,
    "start_time": "2022-06-29T03:02:57.781Z"
   },
   {
    "duration": 5,
    "start_time": "2022-06-29T03:02:58.032Z"
   },
   {
    "duration": 9,
    "start_time": "2022-06-29T03:02:58.126Z"
   },
   {
    "duration": 5,
    "start_time": "2022-06-29T03:02:58.136Z"
   },
   {
    "duration": 7,
    "start_time": "2022-06-29T03:02:58.142Z"
   },
   {
    "duration": 9,
    "start_time": "2022-06-29T03:02:58.150Z"
   },
   {
    "duration": 6,
    "start_time": "2022-06-29T03:02:58.160Z"
   },
   {
    "duration": 10,
    "start_time": "2022-06-29T03:02:58.168Z"
   },
   {
    "duration": 4,
    "start_time": "2022-06-29T03:02:58.227Z"
   },
   {
    "duration": 18,
    "start_time": "2022-06-29T03:02:58.232Z"
   },
   {
    "duration": 1001,
    "start_time": "2022-06-29T04:15:28.819Z"
   },
   {
    "duration": 1661,
    "start_time": "2022-06-29T04:15:29.822Z"
   },
   {
    "duration": 17,
    "start_time": "2022-06-29T04:15:31.484Z"
   },
   {
    "duration": 10,
    "start_time": "2022-06-29T04:15:31.502Z"
   },
   {
    "duration": 12,
    "start_time": "2022-06-29T04:15:31.513Z"
   },
   {
    "duration": 35,
    "start_time": "2022-06-29T04:15:31.526Z"
   },
   {
    "duration": 108,
    "start_time": "2022-06-29T04:15:31.563Z"
   },
   {
    "duration": 9,
    "start_time": "2022-06-29T04:15:31.673Z"
   },
   {
    "duration": 35,
    "start_time": "2022-06-29T04:15:31.683Z"
   },
   {
    "duration": 10,
    "start_time": "2022-06-29T04:15:31.720Z"
   },
   {
    "duration": 58,
    "start_time": "2022-06-29T04:15:31.731Z"
   },
   {
    "duration": 3,
    "start_time": "2022-06-29T04:15:31.790Z"
   },
   {
    "duration": 136,
    "start_time": "2022-06-29T04:15:31.794Z"
   },
   {
    "duration": 4,
    "start_time": "2022-06-29T04:15:31.932Z"
   },
   {
    "duration": 190,
    "start_time": "2022-06-29T04:15:31.938Z"
   },
   {
    "duration": 10,
    "start_time": "2022-06-29T04:15:32.130Z"
   },
   {
    "duration": 5,
    "start_time": "2022-06-29T04:15:32.142Z"
   },
   {
    "duration": 7,
    "start_time": "2022-06-29T04:15:32.148Z"
   },
   {
    "duration": 3,
    "start_time": "2022-06-29T04:15:32.156Z"
   },
   {
    "duration": 5,
    "start_time": "2022-06-29T04:15:32.160Z"
   },
   {
    "duration": 6,
    "start_time": "2022-06-29T04:15:32.166Z"
   },
   {
    "duration": 15,
    "start_time": "2022-06-29T04:15:32.173Z"
   },
   {
    "duration": 4,
    "start_time": "2022-06-29T05:13:20.823Z"
   },
   {
    "duration": 5,
    "start_time": "2022-06-29T05:19:59.832Z"
   },
   {
    "duration": 5,
    "start_time": "2022-06-29T05:20:08.701Z"
   },
   {
    "duration": 7,
    "start_time": "2022-06-29T05:20:12.616Z"
   },
   {
    "duration": 7,
    "start_time": "2022-06-29T05:20:16.819Z"
   },
   {
    "duration": 3,
    "start_time": "2022-06-29T05:20:26.291Z"
   },
   {
    "duration": 6,
    "start_time": "2022-06-29T05:20:43.728Z"
   },
   {
    "duration": 103,
    "start_time": "2022-06-29T05:20:56.656Z"
   },
   {
    "duration": 5,
    "start_time": "2022-06-29T05:21:42.802Z"
   },
   {
    "duration": 4,
    "start_time": "2022-06-29T05:21:48.016Z"
   },
   {
    "duration": 9,
    "start_time": "2022-06-29T05:21:56.023Z"
   },
   {
    "duration": 8,
    "start_time": "2022-06-29T05:21:59.904Z"
   },
   {
    "duration": 4,
    "start_time": "2022-06-29T05:22:11.146Z"
   },
   {
    "duration": 3,
    "start_time": "2022-06-29T05:25:29.645Z"
   },
   {
    "duration": 13,
    "start_time": "2022-06-29T05:25:31.040Z"
   },
   {
    "duration": 12,
    "start_time": "2022-06-29T05:25:34.904Z"
   },
   {
    "duration": 11,
    "start_time": "2022-06-29T05:25:35.496Z"
   },
   {
    "duration": 10,
    "start_time": "2022-06-29T05:25:35.936Z"
   },
   {
    "duration": 14,
    "start_time": "2022-06-29T05:25:36.120Z"
   },
   {
    "duration": 11,
    "start_time": "2022-06-29T05:25:36.282Z"
   },
   {
    "duration": 3,
    "start_time": "2022-06-29T05:25:48.943Z"
   },
   {
    "duration": 11,
    "start_time": "2022-06-29T05:25:50.345Z"
   },
   {
    "duration": 5,
    "start_time": "2022-06-29T05:26:59.559Z"
   },
   {
    "duration": 7,
    "start_time": "2022-06-29T05:27:18.528Z"
   },
   {
    "duration": 11,
    "start_time": "2022-06-29T05:27:19.374Z"
   },
   {
    "duration": 18,
    "start_time": "2022-06-29T05:27:33.472Z"
   },
   {
    "duration": 3,
    "start_time": "2022-06-29T05:28:19.764Z"
   },
   {
    "duration": 346,
    "start_time": "2022-06-29T05:28:19.769Z"
   },
   {
    "duration": 9,
    "start_time": "2022-06-29T05:28:20.116Z"
   },
   {
    "duration": 9,
    "start_time": "2022-06-29T05:28:20.130Z"
   },
   {
    "duration": 10,
    "start_time": "2022-06-29T05:28:20.140Z"
   },
   {
    "duration": 31,
    "start_time": "2022-06-29T05:28:20.152Z"
   },
   {
    "duration": 134,
    "start_time": "2022-06-29T05:28:20.185Z"
   },
   {
    "duration": 9,
    "start_time": "2022-06-29T05:28:20.321Z"
   },
   {
    "duration": 31,
    "start_time": "2022-06-29T05:28:20.331Z"
   },
   {
    "duration": 3,
    "start_time": "2022-06-29T05:28:20.365Z"
   },
   {
    "duration": 34,
    "start_time": "2022-06-29T05:28:20.370Z"
   },
   {
    "duration": 3,
    "start_time": "2022-06-29T05:28:20.405Z"
   },
   {
    "duration": 124,
    "start_time": "2022-06-29T05:28:20.409Z"
   },
   {
    "duration": 97,
    "start_time": "2022-06-29T05:28:20.535Z"
   },
   {
    "duration": 104,
    "start_time": "2022-06-29T05:28:20.635Z"
   },
   {
    "duration": 4,
    "start_time": "2022-06-29T05:28:20.741Z"
   },
   {
    "duration": 4,
    "start_time": "2022-06-29T05:28:20.746Z"
   },
   {
    "duration": 6,
    "start_time": "2022-06-29T05:28:20.752Z"
   },
   {
    "duration": 5,
    "start_time": "2022-06-29T05:28:20.760Z"
   },
   {
    "duration": 6,
    "start_time": "2022-06-29T05:28:20.766Z"
   },
   {
    "duration": 6,
    "start_time": "2022-06-29T05:28:20.773Z"
   },
   {
    "duration": 18,
    "start_time": "2022-06-29T05:28:20.780Z"
   },
   {
    "duration": 4,
    "start_time": "2022-06-29T05:28:20.799Z"
   },
   {
    "duration": 30,
    "start_time": "2022-06-29T05:28:20.804Z"
   },
   {
    "duration": 17,
    "start_time": "2022-06-29T05:28:20.836Z"
   },
   {
    "duration": 0,
    "start_time": "2022-06-29T05:28:20.855Z"
   },
   {
    "duration": 5,
    "start_time": "2022-06-29T05:28:32.983Z"
   },
   {
    "duration": 10,
    "start_time": "2022-06-29T05:29:05.999Z"
   },
   {
    "duration": 5,
    "start_time": "2022-06-29T05:29:12.911Z"
   },
   {
    "duration": 10,
    "start_time": "2022-06-29T05:29:27.664Z"
   },
   {
    "duration": 6,
    "start_time": "2022-06-29T05:30:03.814Z"
   },
   {
    "duration": 18,
    "start_time": "2022-06-29T05:31:01.573Z"
   },
   {
    "duration": 6,
    "start_time": "2022-06-29T05:32:14.654Z"
   },
   {
    "duration": 1170,
    "start_time": "2022-06-29T09:21:27.090Z"
   },
   {
    "duration": 738,
    "start_time": "2022-06-29T09:21:28.262Z"
   },
   {
    "duration": 16,
    "start_time": "2022-06-29T09:21:29.002Z"
   },
   {
    "duration": 9,
    "start_time": "2022-06-29T09:21:29.021Z"
   },
   {
    "duration": 16,
    "start_time": "2022-06-29T09:21:29.031Z"
   },
   {
    "duration": 39,
    "start_time": "2022-06-29T09:21:29.048Z"
   },
   {
    "duration": 131,
    "start_time": "2022-06-29T09:21:29.089Z"
   },
   {
    "duration": 9,
    "start_time": "2022-06-29T09:21:29.222Z"
   },
   {
    "duration": 42,
    "start_time": "2022-06-29T09:21:29.233Z"
   },
   {
    "duration": 3,
    "start_time": "2022-06-29T09:21:29.278Z"
   },
   {
    "duration": 52,
    "start_time": "2022-06-29T09:21:29.283Z"
   },
   {
    "duration": 3,
    "start_time": "2022-06-29T09:21:29.337Z"
   },
   {
    "duration": 228,
    "start_time": "2022-06-29T09:21:29.341Z"
   },
   {
    "duration": 4,
    "start_time": "2022-06-29T09:21:29.572Z"
   },
   {
    "duration": 16,
    "start_time": "2022-06-29T09:21:29.668Z"
   },
   {
    "duration": 2,
    "start_time": "2022-06-29T09:21:29.768Z"
   },
   {
    "duration": 18,
    "start_time": "2022-06-29T09:21:29.772Z"
   },
   {
    "duration": 8,
    "start_time": "2022-06-29T09:21:29.792Z"
   },
   {
    "duration": 7,
    "start_time": "2022-06-29T09:21:29.801Z"
   },
   {
    "duration": 6,
    "start_time": "2022-06-29T09:21:29.810Z"
   },
   {
    "duration": 6,
    "start_time": "2022-06-29T09:21:29.817Z"
   },
   {
    "duration": 17,
    "start_time": "2022-06-29T09:21:29.825Z"
   },
   {
    "duration": 3,
    "start_time": "2022-06-29T09:21:29.844Z"
   },
   {
    "duration": 24,
    "start_time": "2022-06-29T09:21:29.848Z"
   },
   {
    "duration": 6,
    "start_time": "2022-06-29T09:21:29.874Z"
   },
   {
    "duration": 114,
    "start_time": "2022-06-29T09:21:29.881Z"
   },
   {
    "duration": 0,
    "start_time": "2022-06-29T09:21:29.997Z"
   },
   {
    "duration": 0,
    "start_time": "2022-06-29T09:21:29.998Z"
   },
   {
    "duration": 4,
    "start_time": "2022-06-29T09:30:23.953Z"
   },
   {
    "duration": 7,
    "start_time": "2022-06-29T09:30:25.996Z"
   },
   {
    "duration": 5,
    "start_time": "2022-06-29T09:30:26.803Z"
   },
   {
    "duration": 17,
    "start_time": "2022-06-29T09:30:27.652Z"
   },
   {
    "duration": 4,
    "start_time": "2022-06-29T09:31:06.004Z"
   },
   {
    "duration": 7,
    "start_time": "2022-06-29T09:31:21.995Z"
   },
   {
    "duration": 13,
    "start_time": "2022-06-29T09:40:06.201Z"
   },
   {
    "duration": 5,
    "start_time": "2022-06-29T09:40:19.104Z"
   },
   {
    "duration": 12,
    "start_time": "2022-06-29T09:40:23.027Z"
   },
   {
    "duration": 9,
    "start_time": "2022-06-29T09:40:38.618Z"
   },
   {
    "duration": 12,
    "start_time": "2022-06-29T09:40:45.825Z"
   },
   {
    "duration": 14,
    "start_time": "2022-06-29T09:42:12.442Z"
   },
   {
    "duration": 6,
    "start_time": "2022-06-29T09:42:15.639Z"
   },
   {
    "duration": 5,
    "start_time": "2022-06-29T09:42:26.738Z"
   },
   {
    "duration": 5,
    "start_time": "2022-06-29T09:42:32.352Z"
   },
   {
    "duration": 5,
    "start_time": "2022-06-29T09:42:35.239Z"
   },
   {
    "duration": 3,
    "start_time": "2022-06-29T10:16:57.634Z"
   },
   {
    "duration": 369,
    "start_time": "2022-06-29T10:16:57.640Z"
   },
   {
    "duration": 11,
    "start_time": "2022-06-29T10:16:58.010Z"
   },
   {
    "duration": 18,
    "start_time": "2022-06-29T10:16:58.023Z"
   },
   {
    "duration": 14,
    "start_time": "2022-06-29T10:16:58.044Z"
   },
   {
    "duration": 34,
    "start_time": "2022-06-29T10:16:58.067Z"
   },
   {
    "duration": 151,
    "start_time": "2022-06-29T10:16:58.102Z"
   },
   {
    "duration": 13,
    "start_time": "2022-06-29T10:16:58.255Z"
   },
   {
    "duration": 36,
    "start_time": "2022-06-29T10:16:58.270Z"
   },
   {
    "duration": 4,
    "start_time": "2022-06-29T10:16:58.312Z"
   },
   {
    "duration": 59,
    "start_time": "2022-06-29T10:16:58.318Z"
   },
   {
    "duration": 3,
    "start_time": "2022-06-29T10:16:58.379Z"
   },
   {
    "duration": 195,
    "start_time": "2022-06-29T10:16:58.383Z"
   },
   {
    "duration": 9,
    "start_time": "2022-06-29T10:16:58.581Z"
   },
   {
    "duration": 10,
    "start_time": "2022-06-29T10:16:58.668Z"
   },
   {
    "duration": 127,
    "start_time": "2022-06-29T10:16:58.680Z"
   },
   {
    "duration": 20,
    "start_time": "2022-06-29T10:16:58.808Z"
   },
   {
    "duration": 19,
    "start_time": "2022-06-29T10:16:58.830Z"
   },
   {
    "duration": 17,
    "start_time": "2022-06-29T10:16:58.851Z"
   },
   {
    "duration": 42,
    "start_time": "2022-06-29T10:16:58.869Z"
   },
   {
    "duration": 16,
    "start_time": "2022-06-29T10:16:58.913Z"
   },
   {
    "duration": 27,
    "start_time": "2022-06-29T10:16:58.931Z"
   },
   {
    "duration": 9,
    "start_time": "2022-06-29T10:16:58.960Z"
   },
   {
    "duration": 35,
    "start_time": "2022-06-29T10:16:58.975Z"
   },
   {
    "duration": 32,
    "start_time": "2022-06-29T10:16:59.012Z"
   },
   {
    "duration": 18,
    "start_time": "2022-06-29T10:16:59.046Z"
   },
   {
    "duration": 33,
    "start_time": "2022-06-29T10:16:59.066Z"
   },
   {
    "duration": 27,
    "start_time": "2022-06-29T10:16:59.101Z"
   },
   {
    "duration": 0,
    "start_time": "2022-06-29T10:16:59.130Z"
   },
   {
    "duration": 0,
    "start_time": "2022-06-29T10:16:59.131Z"
   },
   {
    "duration": 7,
    "start_time": "2022-06-29T10:17:24.722Z"
   },
   {
    "duration": 3,
    "start_time": "2022-06-29T10:18:16.175Z"
   },
   {
    "duration": 381,
    "start_time": "2022-06-29T10:18:16.180Z"
   },
   {
    "duration": 12,
    "start_time": "2022-06-29T10:18:16.562Z"
   },
   {
    "duration": 23,
    "start_time": "2022-06-29T10:18:16.576Z"
   },
   {
    "duration": 48,
    "start_time": "2022-06-29T10:18:16.602Z"
   },
   {
    "duration": 49,
    "start_time": "2022-06-29T10:18:16.651Z"
   },
   {
    "duration": 154,
    "start_time": "2022-06-29T10:18:16.702Z"
   },
   {
    "duration": 10,
    "start_time": "2022-06-29T10:18:16.858Z"
   },
   {
    "duration": 43,
    "start_time": "2022-06-29T10:18:16.870Z"
   },
   {
    "duration": 5,
    "start_time": "2022-06-29T10:18:16.915Z"
   },
   {
    "duration": 73,
    "start_time": "2022-06-29T10:18:16.922Z"
   },
   {
    "duration": 3,
    "start_time": "2022-06-29T10:18:16.997Z"
   },
   {
    "duration": 166,
    "start_time": "2022-06-29T10:18:17.002Z"
   },
   {
    "duration": 95,
    "start_time": "2022-06-29T10:18:17.173Z"
   },
   {
    "duration": 12,
    "start_time": "2022-06-29T10:18:17.270Z"
   },
   {
    "duration": 5,
    "start_time": "2022-06-29T10:18:17.283Z"
   },
   {
    "duration": 8,
    "start_time": "2022-06-29T10:18:17.290Z"
   },
   {
    "duration": 7,
    "start_time": "2022-06-29T10:18:17.300Z"
   },
   {
    "duration": 5,
    "start_time": "2022-06-29T10:18:17.308Z"
   },
   {
    "duration": 10,
    "start_time": "2022-06-29T10:18:17.314Z"
   },
   {
    "duration": 6,
    "start_time": "2022-06-29T10:18:17.325Z"
   },
   {
    "duration": 38,
    "start_time": "2022-06-29T10:18:17.333Z"
   },
   {
    "duration": 4,
    "start_time": "2022-06-29T10:18:17.373Z"
   },
   {
    "duration": 8,
    "start_time": "2022-06-29T10:18:17.378Z"
   },
   {
    "duration": 15,
    "start_time": "2022-06-29T10:18:17.388Z"
   },
   {
    "duration": 7,
    "start_time": "2022-06-29T10:18:17.405Z"
   },
   {
    "duration": 9,
    "start_time": "2022-06-29T10:18:17.414Z"
   },
   {
    "duration": 15,
    "start_time": "2022-06-29T10:18:17.424Z"
   },
   {
    "duration": 0,
    "start_time": "2022-06-29T10:18:17.440Z"
   },
   {
    "duration": 0,
    "start_time": "2022-06-29T10:18:17.468Z"
   },
   {
    "duration": 3,
    "start_time": "2022-06-29T10:18:32.577Z"
   },
   {
    "duration": 357,
    "start_time": "2022-06-29T10:18:32.582Z"
   },
   {
    "duration": 10,
    "start_time": "2022-06-29T10:18:32.941Z"
   },
   {
    "duration": 22,
    "start_time": "2022-06-29T10:18:32.953Z"
   },
   {
    "duration": 15,
    "start_time": "2022-06-29T10:18:32.978Z"
   },
   {
    "duration": 37,
    "start_time": "2022-06-29T10:18:32.995Z"
   },
   {
    "duration": 146,
    "start_time": "2022-06-29T10:18:33.033Z"
   },
   {
    "duration": 7,
    "start_time": "2022-06-29T10:18:33.181Z"
   },
   {
    "duration": 33,
    "start_time": "2022-06-29T10:18:33.190Z"
   },
   {
    "duration": 4,
    "start_time": "2022-06-29T10:18:33.225Z"
   },
   {
    "duration": 57,
    "start_time": "2022-06-29T10:18:33.230Z"
   },
   {
    "duration": 3,
    "start_time": "2022-06-29T10:18:33.289Z"
   },
   {
    "duration": 174,
    "start_time": "2022-06-29T10:18:33.294Z"
   },
   {
    "duration": 95,
    "start_time": "2022-06-29T10:18:33.474Z"
   },
   {
    "duration": 15,
    "start_time": "2022-06-29T10:18:33.571Z"
   },
   {
    "duration": 13,
    "start_time": "2022-06-29T10:18:33.588Z"
   },
   {
    "duration": 8,
    "start_time": "2022-06-29T10:18:33.603Z"
   },
   {
    "duration": 13,
    "start_time": "2022-06-29T10:18:33.612Z"
   },
   {
    "duration": 10,
    "start_time": "2022-06-29T10:18:33.627Z"
   },
   {
    "duration": 9,
    "start_time": "2022-06-29T10:18:33.639Z"
   },
   {
    "duration": 11,
    "start_time": "2022-06-29T10:18:33.650Z"
   },
   {
    "duration": 23,
    "start_time": "2022-06-29T10:18:33.662Z"
   },
   {
    "duration": 4,
    "start_time": "2022-06-29T10:18:33.687Z"
   },
   {
    "duration": 10,
    "start_time": "2022-06-29T10:18:33.694Z"
   },
   {
    "duration": 7,
    "start_time": "2022-06-29T10:18:33.706Z"
   },
   {
    "duration": 9,
    "start_time": "2022-06-29T10:18:33.715Z"
   },
   {
    "duration": 11,
    "start_time": "2022-06-29T10:18:33.726Z"
   },
   {
    "duration": 749,
    "start_time": "2022-06-29T10:18:33.738Z"
   },
   {
    "duration": 5,
    "start_time": "2022-06-29T10:18:34.489Z"
   },
   {
    "duration": 14,
    "start_time": "2022-06-29T10:18:34.496Z"
   },
   {
    "duration": 21,
    "start_time": "2022-06-29T10:19:19.122Z"
   },
   {
    "duration": 6,
    "start_time": "2022-06-29T10:20:20.486Z"
   },
   {
    "duration": 3,
    "start_time": "2022-06-29T10:20:22.110Z"
   },
   {
    "duration": 755,
    "start_time": "2022-06-29T10:20:22.759Z"
   },
   {
    "duration": 58,
    "start_time": "2022-06-29T10:20:26.923Z"
   },
   {
    "duration": 853,
    "start_time": "2022-06-29T10:20:29.370Z"
   },
   {
    "duration": 730,
    "start_time": "2022-06-29T10:20:40.542Z"
   },
   {
    "duration": 7,
    "start_time": "2022-06-29T10:21:44.971Z"
   },
   {
    "duration": 3,
    "start_time": "2022-06-29T10:21:46.371Z"
   },
   {
    "duration": 12,
    "start_time": "2022-06-29T10:21:47.682Z"
   },
   {
    "duration": 4,
    "start_time": "2022-06-29T10:22:27.506Z"
   },
   {
    "duration": 5,
    "start_time": "2022-06-29T10:22:28.475Z"
   },
   {
    "duration": 314,
    "start_time": "2022-06-29T10:22:29.135Z"
   },
   {
    "duration": 260,
    "start_time": "2022-06-29T10:22:35.682Z"
   },
   {
    "duration": 4,
    "start_time": "2022-06-29T10:22:42.690Z"
   },
   {
    "duration": 17,
    "start_time": "2022-06-29T10:22:43.573Z"
   },
   {
    "duration": 4,
    "start_time": "2022-06-29T10:23:18.334Z"
   },
   {
    "duration": 37,
    "start_time": "2022-06-29T10:23:19.905Z"
   },
   {
    "duration": 3,
    "start_time": "2022-06-29T10:23:31.347Z"
   },
   {
    "duration": 14,
    "start_time": "2022-06-29T10:23:32.225Z"
   },
   {
    "duration": 3,
    "start_time": "2022-06-29T10:23:49.333Z"
   },
   {
    "duration": 13,
    "start_time": "2022-06-29T10:23:50.685Z"
   },
   {
    "duration": 14,
    "start_time": "2022-06-29T10:25:21.505Z"
   },
   {
    "duration": 4,
    "start_time": "2022-06-29T10:25:26.098Z"
   },
   {
    "duration": 28,
    "start_time": "2022-06-29T10:25:26.915Z"
   },
   {
    "duration": 4,
    "start_time": "2022-06-29T10:25:37.843Z"
   },
   {
    "duration": 14,
    "start_time": "2022-06-29T10:25:38.549Z"
   },
   {
    "duration": 8,
    "start_time": "2022-06-29T10:26:10.234Z"
   },
   {
    "duration": 11,
    "start_time": "2022-06-29T10:26:16.482Z"
   },
   {
    "duration": 9,
    "start_time": "2022-06-29T10:27:07.081Z"
   },
   {
    "duration": 15,
    "start_time": "2022-06-29T10:27:22.282Z"
   },
   {
    "duration": 15,
    "start_time": "2022-06-29T10:27:52.110Z"
   },
   {
    "duration": 5,
    "start_time": "2022-06-29T10:28:19.274Z"
   },
   {
    "duration": 4,
    "start_time": "2022-06-29T10:29:22.662Z"
   },
   {
    "duration": 12,
    "start_time": "2022-06-29T10:29:24.957Z"
   },
   {
    "duration": 4,
    "start_time": "2022-06-29T10:29:36.473Z"
   },
   {
    "duration": 16,
    "start_time": "2022-06-29T10:29:38.554Z"
   },
   {
    "duration": 5,
    "start_time": "2022-06-29T10:29:47.025Z"
   },
   {
    "duration": 26,
    "start_time": "2022-06-29T10:29:48.538Z"
   },
   {
    "duration": 4,
    "start_time": "2022-06-29T10:30:04.897Z"
   },
   {
    "duration": 872,
    "start_time": "2022-06-29T10:30:06.383Z"
   },
   {
    "duration": 11,
    "start_time": "2022-06-29T10:31:20.173Z"
   },
   {
    "duration": 845,
    "start_time": "2022-06-29T10:31:21.583Z"
   },
   {
    "duration": 3,
    "start_time": "2022-06-29T10:32:50.314Z"
   },
   {
    "duration": 545,
    "start_time": "2022-06-29T10:32:51.393Z"
   },
   {
    "duration": 4,
    "start_time": "2022-06-29T10:33:34.897Z"
   },
   {
    "duration": 13,
    "start_time": "2022-06-29T10:33:35.912Z"
   },
   {
    "duration": 3,
    "start_time": "2022-06-29T10:34:32.161Z"
   },
   {
    "duration": 498,
    "start_time": "2022-06-29T10:34:33.171Z"
   },
   {
    "duration": 3,
    "start_time": "2022-06-29T10:35:46.546Z"
   },
   {
    "duration": 523,
    "start_time": "2022-06-29T10:35:47.608Z"
   },
   {
    "duration": 525,
    "start_time": "2022-06-29T10:35:59.279Z"
   },
   {
    "duration": 549,
    "start_time": "2022-06-29T10:36:03.573Z"
   },
   {
    "duration": 520,
    "start_time": "2022-06-29T10:36:13.071Z"
   },
   {
    "duration": 508,
    "start_time": "2022-06-29T10:36:23.490Z"
   },
   {
    "duration": 580,
    "start_time": "2022-06-29T10:36:37.416Z"
   },
   {
    "duration": 5,
    "start_time": "2022-06-29T10:38:46.392Z"
   },
   {
    "duration": 6,
    "start_time": "2022-06-29T10:39:01.713Z"
   },
   {
    "duration": 2,
    "start_time": "2022-06-29T10:39:09.751Z"
   },
   {
    "duration": 4,
    "start_time": "2022-06-29T10:40:17.983Z"
   },
   {
    "duration": 5,
    "start_time": "2022-06-29T10:40:28.695Z"
   },
   {
    "duration": 6,
    "start_time": "2022-06-29T10:40:31.215Z"
   },
   {
    "duration": 9,
    "start_time": "2022-06-29T10:40:39.775Z"
   },
   {
    "duration": 7,
    "start_time": "2022-06-29T10:40:47.907Z"
   },
   {
    "duration": 8,
    "start_time": "2022-06-29T10:41:01.015Z"
   },
   {
    "duration": 8,
    "start_time": "2022-06-29T10:41:01.855Z"
   },
   {
    "duration": 8,
    "start_time": "2022-06-29T10:41:02.161Z"
   },
   {
    "duration": 8,
    "start_time": "2022-06-29T10:41:02.330Z"
   },
   {
    "duration": 6,
    "start_time": "2022-06-29T10:41:07.134Z"
   },
   {
    "duration": 8,
    "start_time": "2022-06-29T10:41:08.184Z"
   },
   {
    "duration": 8,
    "start_time": "2022-06-29T10:41:08.694Z"
   },
   {
    "duration": 6,
    "start_time": "2022-06-29T10:41:08.894Z"
   },
   {
    "duration": 7,
    "start_time": "2022-06-29T10:41:09.023Z"
   },
   {
    "duration": 7,
    "start_time": "2022-06-29T10:41:13.780Z"
   },
   {
    "duration": 6,
    "start_time": "2022-06-29T10:41:14.216Z"
   },
   {
    "duration": 6,
    "start_time": "2022-06-29T10:41:14.662Z"
   },
   {
    "duration": 7,
    "start_time": "2022-06-29T10:41:14.845Z"
   },
   {
    "duration": 6,
    "start_time": "2022-06-29T10:41:15.018Z"
   },
   {
    "duration": 8,
    "start_time": "2022-06-29T10:42:01.431Z"
   },
   {
    "duration": 6,
    "start_time": "2022-06-29T10:42:02.304Z"
   },
   {
    "duration": 8,
    "start_time": "2022-06-29T10:42:02.864Z"
   },
   {
    "duration": 8,
    "start_time": "2022-06-29T10:42:03.063Z"
   },
   {
    "duration": 8,
    "start_time": "2022-06-29T10:42:03.607Z"
   },
   {
    "duration": 4,
    "start_time": "2022-06-29T10:42:04.934Z"
   },
   {
    "duration": 9,
    "start_time": "2022-06-29T10:42:06.294Z"
   },
   {
    "duration": 7,
    "start_time": "2022-06-29T10:42:06.807Z"
   },
   {
    "duration": 8,
    "start_time": "2022-06-29T10:42:07.009Z"
   },
   {
    "duration": 8,
    "start_time": "2022-06-29T10:42:07.103Z"
   },
   {
    "duration": 900,
    "start_time": "2022-06-29T10:42:50.915Z"
   },
   {
    "duration": 9,
    "start_time": "2022-06-29T10:42:58.802Z"
   },
   {
    "duration": 7,
    "start_time": "2022-06-29T10:43:08.324Z"
   },
   {
    "duration": 6,
    "start_time": "2022-06-29T10:43:15.322Z"
   },
   {
    "duration": 7,
    "start_time": "2022-06-29T10:43:24.606Z"
   },
   {
    "duration": 8,
    "start_time": "2022-06-29T10:43:27.046Z"
   },
   {
    "duration": 6,
    "start_time": "2022-06-29T10:43:27.268Z"
   },
   {
    "duration": 6,
    "start_time": "2022-06-29T10:43:27.389Z"
   },
   {
    "duration": 3,
    "start_time": "2022-06-29T10:44:00.700Z"
   },
   {
    "duration": 401,
    "start_time": "2022-06-29T10:44:02.096Z"
   },
   {
    "duration": 5,
    "start_time": "2022-06-29T10:44:08.897Z"
   },
   {
    "duration": 387,
    "start_time": "2022-06-29T10:44:09.893Z"
   },
   {
    "duration": 4,
    "start_time": "2022-06-29T10:44:30.313Z"
   },
   {
    "duration": 177,
    "start_time": "2022-06-29T10:44:33.049Z"
   },
   {
    "duration": 188,
    "start_time": "2022-06-29T10:44:36.910Z"
   },
   {
    "duration": 215,
    "start_time": "2022-06-29T10:44:37.822Z"
   },
   {
    "duration": 3,
    "start_time": "2022-06-29T10:44:55.014Z"
   },
   {
    "duration": 4,
    "start_time": "2022-06-29T10:44:59.099Z"
   },
   {
    "duration": 611,
    "start_time": "2022-06-29T10:45:00.309Z"
   },
   {
    "duration": 634,
    "start_time": "2022-06-29T10:45:15.991Z"
   },
   {
    "duration": 591,
    "start_time": "2022-06-29T10:45:21.998Z"
   },
   {
    "duration": 4,
    "start_time": "2022-06-29T10:45:51.563Z"
   },
   {
    "duration": 743,
    "start_time": "2022-06-29T10:45:52.774Z"
   },
   {
    "duration": 4,
    "start_time": "2022-06-29T10:46:12.518Z"
   },
   {
    "duration": 644,
    "start_time": "2022-06-29T10:46:13.381Z"
   },
   {
    "duration": 5,
    "start_time": "2022-06-29T10:47:18.575Z"
   },
   {
    "duration": 991,
    "start_time": "2022-06-29T10:47:19.566Z"
   },
   {
    "duration": 1030,
    "start_time": "2022-06-29T10:47:25.685Z"
   },
   {
    "duration": 1082,
    "start_time": "2022-06-29T10:47:28.594Z"
   },
   {
    "duration": 987,
    "start_time": "2022-06-29T10:47:32.294Z"
   },
   {
    "duration": 1053,
    "start_time": "2022-06-29T10:48:21.821Z"
   },
   {
    "duration": 1026,
    "start_time": "2022-06-29T10:48:26.054Z"
   },
   {
    "duration": 6,
    "start_time": "2022-06-29T10:49:25.295Z"
   },
   {
    "duration": 930,
    "start_time": "2022-06-29T10:49:26.326Z"
   },
   {
    "duration": 1728,
    "start_time": "2022-06-29T10:50:00.220Z"
   },
   {
    "duration": 1167,
    "start_time": "2022-06-29T10:50:07.431Z"
   },
   {
    "duration": 1130,
    "start_time": "2022-06-29T10:50:10.657Z"
   },
   {
    "duration": 1155,
    "start_time": "2022-06-29T10:50:16.495Z"
   },
   {
    "duration": 1284,
    "start_time": "2022-06-29T10:50:28.741Z"
   },
   {
    "duration": 1222,
    "start_time": "2022-06-29T10:50:32.696Z"
   },
   {
    "duration": 5,
    "start_time": "2022-06-29T10:51:09.605Z"
   },
   {
    "duration": 1135,
    "start_time": "2022-06-29T10:51:10.408Z"
   },
   {
    "duration": 1207,
    "start_time": "2022-06-29T10:51:13.635Z"
   },
   {
    "duration": 1147,
    "start_time": "2022-06-29T10:51:16.252Z"
   },
   {
    "duration": 3,
    "start_time": "2022-06-29T10:51:21.397Z"
   },
   {
    "duration": 1200,
    "start_time": "2022-06-29T10:51:22.236Z"
   },
   {
    "duration": 901,
    "start_time": "2022-06-29T10:52:40.983Z"
   },
   {
    "duration": 5,
    "start_time": "2022-06-29T10:52:53.283Z"
   },
   {
    "duration": 1101,
    "start_time": "2022-06-29T10:52:53.916Z"
   },
   {
    "duration": 1092,
    "start_time": "2022-06-29T10:52:59.635Z"
   },
   {
    "duration": 1062,
    "start_time": "2022-06-29T10:53:21.988Z"
   },
   {
    "duration": 1163,
    "start_time": "2022-06-29T10:53:27.534Z"
   },
   {
    "duration": 1096,
    "start_time": "2022-06-29T10:53:41.749Z"
   },
   {
    "duration": 29897,
    "start_time": "2022-06-29T10:55:03.103Z"
   },
   {
    "duration": 9183,
    "start_time": "2022-06-29T10:55:40.117Z"
   },
   {
    "duration": 11911,
    "start_time": "2022-06-29T10:55:54.291Z"
   },
   {
    "duration": 9022,
    "start_time": "2022-06-29T10:56:15.128Z"
   },
   {
    "duration": 8435,
    "start_time": "2022-06-29T10:57:15.280Z"
   },
   {
    "duration": 3,
    "start_time": "2022-06-29T10:59:55.237Z"
   },
   {
    "duration": 326,
    "start_time": "2022-06-29T10:59:55.242Z"
   },
   {
    "duration": 131,
    "start_time": "2022-06-29T10:59:55.570Z"
   },
   {
    "duration": 10,
    "start_time": "2022-06-29T10:59:55.703Z"
   },
   {
    "duration": 10,
    "start_time": "2022-06-29T10:59:55.715Z"
   },
   {
    "duration": 56,
    "start_time": "2022-06-29T10:59:55.726Z"
   },
   {
    "duration": 134,
    "start_time": "2022-06-29T10:59:55.784Z"
   },
   {
    "duration": 8,
    "start_time": "2022-06-29T10:59:55.920Z"
   },
   {
    "duration": 37,
    "start_time": "2022-06-29T10:59:55.930Z"
   },
   {
    "duration": 3,
    "start_time": "2022-06-29T10:59:55.969Z"
   },
   {
    "duration": 42,
    "start_time": "2022-06-29T10:59:55.974Z"
   },
   {
    "duration": 3,
    "start_time": "2022-06-29T10:59:56.018Z"
   },
   {
    "duration": 246,
    "start_time": "2022-06-29T10:59:56.023Z"
   },
   {
    "duration": 5,
    "start_time": "2022-06-29T10:59:56.272Z"
   },
   {
    "duration": 100,
    "start_time": "2022-06-29T10:59:56.367Z"
   },
   {
    "duration": 8,
    "start_time": "2022-06-29T10:59:56.469Z"
   },
   {
    "duration": 6,
    "start_time": "2022-06-29T10:59:56.478Z"
   },
   {
    "duration": 6,
    "start_time": "2022-06-29T10:59:56.486Z"
   },
   {
    "duration": 6,
    "start_time": "2022-06-29T10:59:56.494Z"
   },
   {
    "duration": 8,
    "start_time": "2022-06-29T10:59:56.501Z"
   },
   {
    "duration": 7,
    "start_time": "2022-06-29T10:59:56.510Z"
   },
   {
    "duration": 15,
    "start_time": "2022-06-29T10:59:56.519Z"
   },
   {
    "duration": 3,
    "start_time": "2022-06-29T10:59:56.536Z"
   },
   {
    "duration": 8482,
    "start_time": "2022-06-29T10:59:56.568Z"
   },
   {
    "duration": 120,
    "start_time": "2022-06-29T11:00:32.635Z"
   },
   {
    "duration": 136,
    "start_time": "2022-06-29T11:00:45.651Z"
   },
   {
    "duration": 117,
    "start_time": "2022-06-29T11:01:06.652Z"
   },
   {
    "duration": 133,
    "start_time": "2022-06-29T11:02:04.867Z"
   },
   {
    "duration": 190,
    "start_time": "2022-06-29T11:02:11.091Z"
   },
   {
    "duration": 189,
    "start_time": "2022-06-29T11:02:14.507Z"
   },
   {
    "duration": 182,
    "start_time": "2022-06-29T11:02:15.385Z"
   },
   {
    "duration": 194,
    "start_time": "2022-06-29T11:02:16.438Z"
   },
   {
    "duration": 170,
    "start_time": "2022-06-29T11:02:24.004Z"
   },
   {
    "duration": 9312,
    "start_time": "2022-06-29T11:03:13.770Z"
   },
   {
    "duration": 9173,
    "start_time": "2022-06-29T11:03:41.873Z"
   },
   {
    "duration": 9222,
    "start_time": "2022-06-29T11:04:06.683Z"
   },
   {
    "duration": 9344,
    "start_time": "2022-06-29T11:04:26.846Z"
   },
   {
    "duration": 9178,
    "start_time": "2022-06-29T11:05:30.370Z"
   },
   {
    "duration": 4,
    "start_time": "2022-06-29T11:05:58.890Z"
   },
   {
    "duration": 10,
    "start_time": "2022-06-29T11:06:04.826Z"
   },
   {
    "duration": 9,
    "start_time": "2022-06-29T11:06:11.114Z"
   },
   {
    "duration": 133,
    "start_time": "2022-06-29T11:06:21.662Z"
   },
   {
    "duration": 133,
    "start_time": "2022-06-29T11:06:30.626Z"
   },
   {
    "duration": 4,
    "start_time": "2022-06-29T11:08:07.899Z"
   },
   {
    "duration": 6,
    "start_time": "2022-06-29T11:08:14.394Z"
   },
   {
    "duration": 108,
    "start_time": "2022-06-29T11:08:21.347Z"
   },
   {
    "duration": 121,
    "start_time": "2022-06-29T11:08:45.139Z"
   },
   {
    "duration": 114,
    "start_time": "2022-06-29T11:08:57.478Z"
   },
   {
    "duration": 104,
    "start_time": "2022-06-29T11:09:10.249Z"
   },
   {
    "duration": 228,
    "start_time": "2022-06-29T11:09:27.247Z"
   },
   {
    "duration": 125,
    "start_time": "2022-06-29T11:09:39.714Z"
   },
   {
    "duration": 138,
    "start_time": "2022-06-29T11:10:09.457Z"
   },
   {
    "duration": 141,
    "start_time": "2022-06-29T11:10:30.362Z"
   },
   {
    "duration": 136,
    "start_time": "2022-06-29T11:10:39.162Z"
   },
   {
    "duration": 130,
    "start_time": "2022-06-29T11:10:43.398Z"
   },
   {
    "duration": 124,
    "start_time": "2022-06-29T11:13:43.152Z"
   },
   {
    "duration": 136,
    "start_time": "2022-06-29T11:14:01.113Z"
   },
   {
    "duration": 125,
    "start_time": "2022-06-29T11:14:10.383Z"
   },
   {
    "duration": 134,
    "start_time": "2022-06-29T11:14:39.922Z"
   },
   {
    "duration": 133,
    "start_time": "2022-06-29T11:15:02.914Z"
   },
   {
    "duration": 128,
    "start_time": "2022-06-29T11:15:11.193Z"
   },
   {
    "duration": 140,
    "start_time": "2022-06-29T11:15:18.089Z"
   },
   {
    "duration": 144,
    "start_time": "2022-06-29T11:15:20.665Z"
   },
   {
    "duration": 9527,
    "start_time": "2022-06-29T11:17:52.432Z"
   },
   {
    "duration": 132,
    "start_time": "2022-06-29T11:18:09.128Z"
   },
   {
    "duration": 140,
    "start_time": "2022-06-29T11:18:24.754Z"
   },
   {
    "duration": 145,
    "start_time": "2022-06-29T11:18:36.920Z"
   },
   {
    "duration": 4,
    "start_time": "2022-06-29T11:22:28.335Z"
   },
   {
    "duration": 9936,
    "start_time": "2022-06-29T11:22:56.907Z"
   },
   {
    "duration": 5,
    "start_time": "2022-06-29T11:23:44.011Z"
   },
   {
    "duration": 9137,
    "start_time": "2022-06-29T11:23:46.374Z"
   },
   {
    "duration": 4,
    "start_time": "2022-06-29T11:24:11.163Z"
   },
   {
    "duration": 9245,
    "start_time": "2022-06-29T11:24:13.702Z"
   },
   {
    "duration": 5,
    "start_time": "2022-06-29T11:24:59.297Z"
   },
   {
    "duration": 9338,
    "start_time": "2022-06-29T11:24:59.999Z"
   },
   {
    "duration": 4,
    "start_time": "2022-06-29T11:25:29.198Z"
   },
   {
    "duration": 9480,
    "start_time": "2022-06-29T11:25:29.812Z"
   },
   {
    "duration": 152,
    "start_time": "2022-06-29T11:25:52.470Z"
   },
   {
    "duration": 142,
    "start_time": "2022-06-29T11:26:01.361Z"
   },
   {
    "duration": 142,
    "start_time": "2022-06-29T11:26:01.960Z"
   },
   {
    "duration": 137,
    "start_time": "2022-06-29T11:26:02.521Z"
   },
   {
    "duration": 5,
    "start_time": "2022-06-29T11:27:18.462Z"
   },
   {
    "duration": 9793,
    "start_time": "2022-06-29T11:28:46.499Z"
   },
   {
    "duration": 27487,
    "start_time": "2022-06-29T11:29:19.713Z"
   },
   {
    "duration": 9259,
    "start_time": "2022-06-29T11:30:05.559Z"
   },
   {
    "duration": 9104,
    "start_time": "2022-06-29T11:30:14.820Z"
   },
   {
    "duration": 9270,
    "start_time": "2022-06-29T11:30:23.926Z"
   },
   {
    "duration": 145,
    "start_time": "2022-06-29T11:31:34.780Z"
   },
   {
    "duration": 102,
    "start_time": "2022-06-29T11:31:37.368Z"
   },
   {
    "duration": 132,
    "start_time": "2022-06-29T11:31:39.905Z"
   },
   {
    "duration": 3,
    "start_time": "2022-06-29T11:31:55.095Z"
   },
   {
    "duration": 3,
    "start_time": "2022-06-29T11:33:28.627Z"
   },
   {
    "duration": 136,
    "start_time": "2022-06-29T11:34:36.870Z"
   },
   {
    "duration": 125,
    "start_time": "2022-06-29T11:35:02.070Z"
   },
   {
    "duration": 166,
    "start_time": "2022-06-29T11:35:14.166Z"
   },
   {
    "duration": 1343,
    "start_time": "2022-06-29T11:56:21.544Z"
   },
   {
    "duration": 353,
    "start_time": "2022-06-29T11:56:22.889Z"
   },
   {
    "duration": 14,
    "start_time": "2022-06-29T11:56:23.244Z"
   },
   {
    "duration": 14,
    "start_time": "2022-06-29T11:56:23.267Z"
   },
   {
    "duration": 15,
    "start_time": "2022-06-29T11:56:23.283Z"
   },
   {
    "duration": 37,
    "start_time": "2022-06-29T11:56:23.299Z"
   },
   {
    "duration": 156,
    "start_time": "2022-06-29T11:56:23.337Z"
   },
   {
    "duration": 8,
    "start_time": "2022-06-29T11:56:23.495Z"
   },
   {
    "duration": 34,
    "start_time": "2022-06-29T11:56:23.505Z"
   },
   {
    "duration": 3,
    "start_time": "2022-06-29T11:56:23.541Z"
   },
   {
    "duration": 70,
    "start_time": "2022-06-29T11:56:23.546Z"
   },
   {
    "duration": 3,
    "start_time": "2022-06-29T11:56:23.617Z"
   },
   {
    "duration": 156,
    "start_time": "2022-06-29T11:56:23.622Z"
   },
   {
    "duration": 87,
    "start_time": "2022-06-29T11:56:23.783Z"
   },
   {
    "duration": 101,
    "start_time": "2022-06-29T11:56:23.872Z"
   },
   {
    "duration": 17,
    "start_time": "2022-06-29T11:56:23.975Z"
   },
   {
    "duration": 8,
    "start_time": "2022-06-29T11:56:23.994Z"
   },
   {
    "duration": 15,
    "start_time": "2022-06-29T11:56:24.004Z"
   },
   {
    "duration": 7,
    "start_time": "2022-06-29T11:56:24.020Z"
   },
   {
    "duration": 12,
    "start_time": "2022-06-29T11:56:24.028Z"
   },
   {
    "duration": 5,
    "start_time": "2022-06-29T11:56:24.041Z"
   },
   {
    "duration": 20,
    "start_time": "2022-06-29T11:56:24.048Z"
   },
   {
    "duration": 5,
    "start_time": "2022-06-29T11:56:24.070Z"
   },
   {
    "duration": 15,
    "start_time": "2022-06-29T11:56:24.076Z"
   },
   {
    "duration": 5,
    "start_time": "2022-06-29T11:56:24.094Z"
   },
   {
    "duration": 9347,
    "start_time": "2022-06-29T11:56:24.101Z"
   },
   {
    "duration": 149,
    "start_time": "2022-06-29T11:56:33.450Z"
   },
   {
    "duration": 9213,
    "start_time": "2022-06-29T11:56:33.601Z"
   },
   {
    "duration": 143,
    "start_time": "2022-06-29T11:56:42.816Z"
   },
   {
    "duration": 9405,
    "start_time": "2022-06-29T11:56:42.967Z"
   },
   {
    "duration": 144,
    "start_time": "2022-06-29T11:56:52.374Z"
   },
   {
    "duration": 4,
    "start_time": "2022-06-29T11:58:46.596Z"
   },
   {
    "duration": 4,
    "start_time": "2022-06-29T12:04:50.337Z"
   },
   {
    "duration": 326,
    "start_time": "2022-06-29T12:04:50.343Z"
   },
   {
    "duration": 11,
    "start_time": "2022-06-29T12:04:50.671Z"
   },
   {
    "duration": 14,
    "start_time": "2022-06-29T12:04:50.684Z"
   },
   {
    "duration": 11,
    "start_time": "2022-06-29T12:04:50.700Z"
   },
   {
    "duration": 36,
    "start_time": "2022-06-29T12:04:50.712Z"
   },
   {
    "duration": 125,
    "start_time": "2022-06-29T12:04:50.767Z"
   },
   {
    "duration": 7,
    "start_time": "2022-06-29T12:04:50.894Z"
   },
   {
    "duration": 30,
    "start_time": "2022-06-29T12:04:50.903Z"
   },
   {
    "duration": 3,
    "start_time": "2022-06-29T12:04:50.936Z"
   },
   {
    "duration": 57,
    "start_time": "2022-06-29T12:04:50.941Z"
   },
   {
    "duration": 4,
    "start_time": "2022-06-29T12:04:51.000Z"
   },
   {
    "duration": 263,
    "start_time": "2022-06-29T12:04:51.006Z"
   },
   {
    "duration": 5,
    "start_time": "2022-06-29T12:04:51.271Z"
   },
   {
    "duration": 203,
    "start_time": "2022-06-29T12:04:51.277Z"
   },
   {
    "duration": 7,
    "start_time": "2022-06-29T12:04:51.482Z"
   },
   {
    "duration": 4,
    "start_time": "2022-06-29T12:04:51.491Z"
   },
   {
    "duration": 7,
    "start_time": "2022-06-29T12:04:51.497Z"
   },
   {
    "duration": 6,
    "start_time": "2022-06-29T12:04:51.505Z"
   },
   {
    "duration": 4,
    "start_time": "2022-06-29T12:04:51.513Z"
   },
   {
    "duration": 9,
    "start_time": "2022-06-29T12:04:51.519Z"
   },
   {
    "duration": 23,
    "start_time": "2022-06-29T12:04:51.529Z"
   },
   {
    "duration": 14,
    "start_time": "2022-06-29T12:04:51.553Z"
   },
   {
    "duration": 10,
    "start_time": "2022-06-29T12:04:51.569Z"
   },
   {
    "duration": 14,
    "start_time": "2022-06-29T12:04:51.580Z"
   },
   {
    "duration": 9185,
    "start_time": "2022-06-29T12:04:51.596Z"
   },
   {
    "duration": 288,
    "start_time": "2022-06-29T12:05:00.782Z"
   },
   {
    "duration": 9120,
    "start_time": "2022-06-29T12:05:01.074Z"
   },
   {
    "duration": 150,
    "start_time": "2022-06-29T12:05:10.196Z"
   },
   {
    "duration": 9365,
    "start_time": "2022-06-29T12:05:10.347Z"
   },
   {
    "duration": 160,
    "start_time": "2022-06-29T12:05:19.714Z"
   },
   {
    "duration": 109,
    "start_time": "2022-06-29T12:05:19.876Z"
   },
   {
    "duration": 5,
    "start_time": "2022-06-29T12:06:08.796Z"
   },
   {
    "duration": 7,
    "start_time": "2022-06-29T12:06:13.276Z"
   },
   {
    "duration": 65,
    "start_time": "2022-06-29T12:06:32.498Z"
   },
   {
    "duration": 6,
    "start_time": "2022-06-29T12:06:39.611Z"
   },
   {
    "duration": 7,
    "start_time": "2022-06-29T12:07:01.483Z"
   },
   {
    "duration": 7,
    "start_time": "2022-06-29T12:07:05.651Z"
   },
   {
    "duration": 10,
    "start_time": "2022-06-29T12:07:39.316Z"
   },
   {
    "duration": 3,
    "start_time": "2022-06-29T12:09:44.639Z"
   },
   {
    "duration": 5,
    "start_time": "2022-06-29T12:10:12.592Z"
   },
   {
    "duration": 3,
    "start_time": "2022-06-29T12:11:02.182Z"
   },
   {
    "duration": 3,
    "start_time": "2022-06-29T12:11:58.896Z"
   },
   {
    "duration": 119,
    "start_time": "2022-06-29T12:12:15.189Z"
   },
   {
    "duration": 5,
    "start_time": "2022-06-29T12:12:16.948Z"
   },
   {
    "duration": 5,
    "start_time": "2022-06-29T12:13:10.033Z"
   },
   {
    "duration": 5,
    "start_time": "2022-06-29T12:13:14.451Z"
   },
   {
    "duration": 5,
    "start_time": "2022-06-29T12:13:20.188Z"
   },
   {
    "duration": 4,
    "start_time": "2022-06-29T12:21:51.935Z"
   },
   {
    "duration": 4,
    "start_time": "2022-06-29T12:21:54.286Z"
   },
   {
    "duration": 408,
    "start_time": "2022-06-29T12:21:54.292Z"
   },
   {
    "duration": 15,
    "start_time": "2022-06-29T12:21:54.702Z"
   },
   {
    "duration": 19,
    "start_time": "2022-06-29T12:21:54.720Z"
   },
   {
    "duration": 22,
    "start_time": "2022-06-29T12:21:54.741Z"
   },
   {
    "duration": 59,
    "start_time": "2022-06-29T12:21:54.766Z"
   },
   {
    "duration": 161,
    "start_time": "2022-06-29T12:21:54.827Z"
   },
   {
    "duration": 8,
    "start_time": "2022-06-29T12:21:54.990Z"
   },
   {
    "duration": 28,
    "start_time": "2022-06-29T12:21:55.002Z"
   },
   {
    "duration": 4,
    "start_time": "2022-06-29T12:21:55.032Z"
   },
   {
    "duration": 69,
    "start_time": "2022-06-29T12:21:55.038Z"
   },
   {
    "duration": 4,
    "start_time": "2022-06-29T12:21:55.109Z"
   },
   {
    "duration": 155,
    "start_time": "2022-06-29T12:21:55.114Z"
   },
   {
    "duration": 9,
    "start_time": "2022-06-29T12:21:55.275Z"
   },
   {
    "duration": 182,
    "start_time": "2022-06-29T12:21:55.288Z"
   },
   {
    "duration": 5,
    "start_time": "2022-06-29T12:21:55.472Z"
   },
   {
    "duration": 12,
    "start_time": "2022-06-29T12:21:55.481Z"
   },
   {
    "duration": 10,
    "start_time": "2022-06-29T12:21:55.496Z"
   },
   {
    "duration": 4,
    "start_time": "2022-06-29T12:21:55.508Z"
   },
   {
    "duration": 23,
    "start_time": "2022-06-29T12:21:55.514Z"
   },
   {
    "duration": 10,
    "start_time": "2022-06-29T12:21:55.539Z"
   },
   {
    "duration": 54,
    "start_time": "2022-06-29T12:21:55.552Z"
   },
   {
    "duration": 5,
    "start_time": "2022-06-29T12:21:55.608Z"
   },
   {
    "duration": 8,
    "start_time": "2022-06-29T12:21:55.617Z"
   },
   {
    "duration": 8,
    "start_time": "2022-06-29T12:21:55.627Z"
   },
   {
    "duration": 10750,
    "start_time": "2022-06-29T12:21:55.637Z"
   },
   {
    "duration": 173,
    "start_time": "2022-06-29T12:22:06.389Z"
   },
   {
    "duration": 11122,
    "start_time": "2022-06-29T12:22:06.567Z"
   },
   {
    "duration": 179,
    "start_time": "2022-06-29T12:22:17.691Z"
   },
   {
    "duration": 10976,
    "start_time": "2022-06-29T12:22:17.875Z"
   },
   {
    "duration": 219,
    "start_time": "2022-06-29T12:22:28.853Z"
   },
   {
    "duration": 7,
    "start_time": "2022-06-29T12:22:29.074Z"
   },
   {
    "duration": 16,
    "start_time": "2022-06-29T12:22:29.084Z"
   },
   {
    "duration": 12,
    "start_time": "2022-06-29T12:22:29.102Z"
   },
   {
    "duration": 19,
    "start_time": "2022-06-29T12:22:29.116Z"
   },
   {
    "duration": 4,
    "start_time": "2022-06-29T12:24:23.484Z"
   },
   {
    "duration": 408,
    "start_time": "2022-06-29T12:24:23.491Z"
   },
   {
    "duration": 11,
    "start_time": "2022-06-29T12:24:23.901Z"
   },
   {
    "duration": 18,
    "start_time": "2022-06-29T12:24:23.914Z"
   },
   {
    "duration": 19,
    "start_time": "2022-06-29T12:24:23.934Z"
   },
   {
    "duration": 56,
    "start_time": "2022-06-29T12:24:23.955Z"
   },
   {
    "duration": 165,
    "start_time": "2022-06-29T12:24:24.014Z"
   },
   {
    "duration": 8,
    "start_time": "2022-06-29T12:24:24.180Z"
   },
   {
    "duration": 28,
    "start_time": "2022-06-29T12:24:24.190Z"
   },
   {
    "duration": 4,
    "start_time": "2022-06-29T12:24:24.220Z"
   },
   {
    "duration": 69,
    "start_time": "2022-06-29T12:24:24.226Z"
   },
   {
    "duration": 5,
    "start_time": "2022-06-29T12:24:24.297Z"
   },
   {
    "duration": 165,
    "start_time": "2022-06-29T12:24:24.303Z"
   },
   {
    "duration": 5,
    "start_time": "2022-06-29T12:24:24.472Z"
   },
   {
    "duration": 102,
    "start_time": "2022-06-29T12:24:24.567Z"
   },
   {
    "duration": 3,
    "start_time": "2022-06-29T12:24:24.670Z"
   },
   {
    "duration": 15,
    "start_time": "2022-06-29T12:24:24.675Z"
   },
   {
    "duration": 12,
    "start_time": "2022-06-29T12:24:24.692Z"
   },
   {
    "duration": 5,
    "start_time": "2022-06-29T12:24:24.706Z"
   },
   {
    "duration": 8,
    "start_time": "2022-06-29T12:24:24.714Z"
   },
   {
    "duration": 9,
    "start_time": "2022-06-29T12:24:24.725Z"
   },
   {
    "duration": 41,
    "start_time": "2022-06-29T12:24:24.736Z"
   },
   {
    "duration": 4,
    "start_time": "2022-06-29T12:24:24.779Z"
   },
   {
    "duration": 6,
    "start_time": "2022-06-29T12:24:24.785Z"
   },
   {
    "duration": 9,
    "start_time": "2022-06-29T12:24:24.793Z"
   },
   {
    "duration": 10474,
    "start_time": "2022-06-29T12:24:24.804Z"
   },
   {
    "duration": 167,
    "start_time": "2022-06-29T12:24:35.280Z"
   },
   {
    "duration": 10523,
    "start_time": "2022-06-29T12:24:35.450Z"
   },
   {
    "duration": 182,
    "start_time": "2022-06-29T12:24:45.975Z"
   },
   {
    "duration": 10387,
    "start_time": "2022-06-29T12:24:46.159Z"
   },
   {
    "duration": 202,
    "start_time": "2022-06-29T12:24:56.549Z"
   },
   {
    "duration": 5,
    "start_time": "2022-06-29T12:24:56.753Z"
   },
   {
    "duration": 16,
    "start_time": "2022-06-29T12:24:56.768Z"
   },
   {
    "duration": 21,
    "start_time": "2022-06-29T12:24:56.786Z"
   },
   {
    "duration": 27,
    "start_time": "2022-06-29T12:24:56.810Z"
   },
   {
    "duration": 1476,
    "start_time": "2022-06-29T12:32:18.590Z"
   },
   {
    "duration": 377,
    "start_time": "2022-06-29T12:32:20.069Z"
   },
   {
    "duration": 16,
    "start_time": "2022-06-29T12:32:20.448Z"
   },
   {
    "duration": 11,
    "start_time": "2022-06-29T12:32:20.467Z"
   },
   {
    "duration": 19,
    "start_time": "2022-06-29T12:32:20.481Z"
   },
   {
    "duration": 43,
    "start_time": "2022-06-29T12:32:20.501Z"
   },
   {
    "duration": 164,
    "start_time": "2022-06-29T12:32:20.545Z"
   },
   {
    "duration": 10,
    "start_time": "2022-06-29T12:32:20.711Z"
   },
   {
    "duration": 50,
    "start_time": "2022-06-29T12:32:20.723Z"
   },
   {
    "duration": 4,
    "start_time": "2022-06-29T12:32:20.775Z"
   },
   {
    "duration": 64,
    "start_time": "2022-06-29T12:32:20.781Z"
   },
   {
    "duration": 3,
    "start_time": "2022-06-29T12:32:20.848Z"
   },
   {
    "duration": 202,
    "start_time": "2022-06-29T12:32:20.868Z"
   },
   {
    "duration": 6,
    "start_time": "2022-06-29T12:32:21.074Z"
   },
   {
    "duration": 133,
    "start_time": "2022-06-29T12:32:21.168Z"
   },
   {
    "duration": 15,
    "start_time": "2022-06-29T12:32:21.303Z"
   },
   {
    "duration": 23,
    "start_time": "2022-06-29T12:32:21.320Z"
   },
   {
    "duration": 17,
    "start_time": "2022-06-29T12:32:21.345Z"
   },
   {
    "duration": 23,
    "start_time": "2022-06-29T12:32:21.364Z"
   },
   {
    "duration": 19,
    "start_time": "2022-06-29T12:32:21.389Z"
   },
   {
    "duration": 18,
    "start_time": "2022-06-29T12:32:21.410Z"
   },
   {
    "duration": 29,
    "start_time": "2022-06-29T12:32:21.430Z"
   },
   {
    "duration": 13,
    "start_time": "2022-06-29T12:32:21.462Z"
   },
   {
    "duration": 24,
    "start_time": "2022-06-29T12:32:21.478Z"
   },
   {
    "duration": 22,
    "start_time": "2022-06-29T12:32:21.505Z"
   },
   {
    "duration": 10397,
    "start_time": "2022-06-29T12:32:21.529Z"
   },
   {
    "duration": 172,
    "start_time": "2022-06-29T12:32:31.928Z"
   },
   {
    "duration": 10322,
    "start_time": "2022-06-29T12:32:32.102Z"
   },
   {
    "duration": 160,
    "start_time": "2022-06-29T12:32:42.426Z"
   },
   {
    "duration": 10322,
    "start_time": "2022-06-29T12:32:42.588Z"
   },
   {
    "duration": 158,
    "start_time": "2022-06-29T12:32:52.912Z"
   },
   {
    "duration": 3,
    "start_time": "2022-06-29T12:32:53.072Z"
   },
   {
    "duration": 8,
    "start_time": "2022-06-29T12:32:53.077Z"
   },
   {
    "duration": 8,
    "start_time": "2022-06-29T12:32:53.088Z"
   },
   {
    "duration": 8,
    "start_time": "2022-06-29T12:32:53.098Z"
   },
   {
    "duration": 6234,
    "start_time": "2022-06-29T13:44:07.025Z"
   },
   {
    "duration": 850,
    "start_time": "2022-06-29T13:44:13.263Z"
   },
   {
    "duration": 23,
    "start_time": "2022-06-29T13:44:14.115Z"
   },
   {
    "duration": 13,
    "start_time": "2022-06-29T13:44:14.141Z"
   },
   {
    "duration": 18,
    "start_time": "2022-06-29T13:44:14.156Z"
   },
   {
    "duration": 75,
    "start_time": "2022-06-29T13:44:14.178Z"
   },
   {
    "duration": 200,
    "start_time": "2022-06-29T13:44:14.255Z"
   },
   {
    "duration": 11,
    "start_time": "2022-06-29T13:44:14.457Z"
   },
   {
    "duration": 59,
    "start_time": "2022-06-29T13:44:14.470Z"
   },
   {
    "duration": 5,
    "start_time": "2022-06-29T13:44:14.532Z"
   },
   {
    "duration": 85,
    "start_time": "2022-06-29T13:44:14.539Z"
   },
   {
    "duration": 4,
    "start_time": "2022-06-29T13:44:14.626Z"
   },
   {
    "duration": 112,
    "start_time": "2022-06-29T13:44:14.631Z"
   },
   {
    "duration": 6,
    "start_time": "2022-06-29T13:44:14.824Z"
   },
   {
    "duration": 122,
    "start_time": "2022-06-29T13:44:14.832Z"
   },
   {
    "duration": 5,
    "start_time": "2022-06-29T13:44:14.957Z"
   },
   {
    "duration": 6,
    "start_time": "2022-06-29T13:44:14.964Z"
   },
   {
    "duration": 8,
    "start_time": "2022-06-29T13:44:14.972Z"
   },
   {
    "duration": 4,
    "start_time": "2022-06-29T13:44:14.983Z"
   },
   {
    "duration": 20,
    "start_time": "2022-06-29T13:44:14.989Z"
   },
   {
    "duration": 34,
    "start_time": "2022-06-29T13:44:15.012Z"
   },
   {
    "duration": 26,
    "start_time": "2022-06-29T13:44:15.048Z"
   },
   {
    "duration": 3,
    "start_time": "2022-06-29T13:44:15.077Z"
   },
   {
    "duration": 14,
    "start_time": "2022-06-29T13:44:15.083Z"
   },
   {
    "duration": 12,
    "start_time": "2022-06-29T13:44:15.099Z"
   },
   {
    "duration": 10728,
    "start_time": "2022-06-29T13:44:15.113Z"
   },
   {
    "duration": 169,
    "start_time": "2022-06-29T13:44:25.843Z"
   },
   {
    "duration": 10094,
    "start_time": "2022-06-29T13:44:26.016Z"
   },
   {
    "duration": 224,
    "start_time": "2022-06-29T13:44:36.112Z"
   },
   {
    "duration": 12093,
    "start_time": "2022-06-29T13:44:36.339Z"
   },
   {
    "duration": 163,
    "start_time": "2022-06-29T13:44:48.435Z"
   },
   {
    "duration": 4,
    "start_time": "2022-06-29T13:44:48.600Z"
   },
   {
    "duration": 20,
    "start_time": "2022-06-29T13:44:48.607Z"
   },
   {
    "duration": 10,
    "start_time": "2022-06-29T13:44:48.629Z"
   },
   {
    "duration": 11,
    "start_time": "2022-06-29T13:44:48.641Z"
   },
   {
    "duration": 54,
    "start_time": "2022-07-02T05:13:45.923Z"
   },
   {
    "duration": 1712,
    "start_time": "2022-07-02T05:13:59.269Z"
   },
   {
    "duration": 785,
    "start_time": "2022-07-02T05:14:00.983Z"
   },
   {
    "duration": 16,
    "start_time": "2022-07-02T05:14:01.770Z"
   },
   {
    "duration": 18,
    "start_time": "2022-07-02T05:14:01.788Z"
   },
   {
    "duration": 24,
    "start_time": "2022-07-02T05:14:01.808Z"
   },
   {
    "duration": 48,
    "start_time": "2022-07-02T05:14:01.833Z"
   },
   {
    "duration": 145,
    "start_time": "2022-07-02T05:14:01.883Z"
   },
   {
    "duration": 9,
    "start_time": "2022-07-02T05:14:02.030Z"
   },
   {
    "duration": 78,
    "start_time": "2022-07-02T05:14:02.041Z"
   },
   {
    "duration": 4,
    "start_time": "2022-07-02T05:14:02.122Z"
   },
   {
    "duration": 66,
    "start_time": "2022-07-02T05:14:02.128Z"
   },
   {
    "duration": 3,
    "start_time": "2022-07-02T05:14:02.196Z"
   },
   {
    "duration": 271,
    "start_time": "2022-07-02T05:14:02.200Z"
   },
   {
    "duration": 75,
    "start_time": "2022-07-02T05:14:02.480Z"
   },
   {
    "duration": 15,
    "start_time": "2022-07-02T05:14:02.556Z"
   },
   {
    "duration": 100,
    "start_time": "2022-07-02T05:14:02.573Z"
   },
   {
    "duration": 8,
    "start_time": "2022-07-02T05:14:02.674Z"
   },
   {
    "duration": 15,
    "start_time": "2022-07-02T05:14:02.684Z"
   },
   {
    "duration": 10,
    "start_time": "2022-07-02T05:14:02.701Z"
   },
   {
    "duration": 16,
    "start_time": "2022-07-02T05:14:02.713Z"
   },
   {
    "duration": 6,
    "start_time": "2022-07-02T05:14:02.731Z"
   },
   {
    "duration": 19,
    "start_time": "2022-07-02T05:14:02.739Z"
   },
   {
    "duration": 5,
    "start_time": "2022-07-02T05:14:02.760Z"
   },
   {
    "duration": 14,
    "start_time": "2022-07-02T05:14:02.766Z"
   },
   {
    "duration": 9,
    "start_time": "2022-07-02T05:14:02.782Z"
   },
   {
    "duration": 9256,
    "start_time": "2022-07-02T05:14:02.793Z"
   },
   {
    "duration": 160,
    "start_time": "2022-07-02T05:14:12.051Z"
   },
   {
    "duration": 9401,
    "start_time": "2022-07-02T05:14:12.215Z"
   },
   {
    "duration": 158,
    "start_time": "2022-07-02T05:14:21.617Z"
   },
   {
    "duration": 9261,
    "start_time": "2022-07-02T05:14:21.777Z"
   },
   {
    "duration": 166,
    "start_time": "2022-07-02T05:14:31.039Z"
   },
   {
    "duration": 3,
    "start_time": "2022-07-02T05:14:31.207Z"
   },
   {
    "duration": 16,
    "start_time": "2022-07-02T05:14:31.212Z"
   },
   {
    "duration": 43,
    "start_time": "2022-07-02T05:14:31.230Z"
   },
   {
    "duration": 26,
    "start_time": "2022-07-02T05:14:31.275Z"
   },
   {
    "duration": 1626,
    "start_time": "2022-07-02T19:54:09.156Z"
   },
   {
    "duration": 981,
    "start_time": "2022-07-02T19:54:10.784Z"
   },
   {
    "duration": 17,
    "start_time": "2022-07-02T19:54:11.767Z"
   },
   {
    "duration": 26,
    "start_time": "2022-07-02T19:54:11.786Z"
   },
   {
    "duration": 20,
    "start_time": "2022-07-02T19:54:11.814Z"
   },
   {
    "duration": 79,
    "start_time": "2022-07-02T19:54:11.835Z"
   },
   {
    "duration": 136,
    "start_time": "2022-07-02T19:54:11.915Z"
   },
   {
    "duration": 179,
    "start_time": "2022-07-02T19:58:27.234Z"
   },
   {
    "duration": 988,
    "start_time": "2022-07-02T20:01:08.193Z"
   },
   {
    "duration": 824,
    "start_time": "2022-07-02T20:01:37.351Z"
   },
   {
    "duration": 311,
    "start_time": "2022-07-02T20:01:49.424Z"
   },
   {
    "duration": 305,
    "start_time": "2022-07-02T20:02:47.749Z"
   },
   {
    "duration": 352,
    "start_time": "2022-07-02T20:02:52.192Z"
   },
   {
    "duration": 380,
    "start_time": "2022-07-02T20:06:46.175Z"
   },
   {
    "duration": 342,
    "start_time": "2022-07-02T20:06:51.578Z"
   },
   {
    "duration": 11,
    "start_time": "2022-07-02T20:14:59.955Z"
   },
   {
    "duration": 15,
    "start_time": "2022-07-02T20:15:05.718Z"
   },
   {
    "duration": 8,
    "start_time": "2022-07-03T10:17:15.559Z"
   },
   {
    "duration": 8,
    "start_time": "2022-07-03T10:17:20.550Z"
   },
   {
    "duration": 1588,
    "start_time": "2022-07-03T10:19:18.879Z"
   },
   {
    "duration": 829,
    "start_time": "2022-07-03T10:19:20.469Z"
   },
   {
    "duration": 13,
    "start_time": "2022-07-03T10:19:21.300Z"
   },
   {
    "duration": 16,
    "start_time": "2022-07-03T10:19:21.314Z"
   },
   {
    "duration": 30,
    "start_time": "2022-07-03T10:19:21.334Z"
   },
   {
    "duration": 36,
    "start_time": "2022-07-03T10:19:21.366Z"
   },
   {
    "duration": 122,
    "start_time": "2022-07-03T10:19:21.403Z"
   },
   {
    "duration": 354,
    "start_time": "2022-07-03T10:19:21.530Z"
   },
   {
    "duration": 321,
    "start_time": "2022-07-03T10:19:21.886Z"
   },
   {
    "duration": 312,
    "start_time": "2022-07-03T10:19:22.209Z"
   },
   {
    "duration": 16,
    "start_time": "2022-07-03T10:19:22.533Z"
   },
   {
    "duration": 35,
    "start_time": "2022-07-03T10:19:22.553Z"
   },
   {
    "duration": 3,
    "start_time": "2022-07-03T10:19:22.590Z"
   },
   {
    "duration": 43,
    "start_time": "2022-07-03T10:19:22.596Z"
   },
   {
    "duration": 5,
    "start_time": "2022-07-03T10:19:22.646Z"
   },
   {
    "duration": 200,
    "start_time": "2022-07-03T10:19:22.655Z"
   },
   {
    "duration": 79,
    "start_time": "2022-07-03T10:19:22.857Z"
   },
   {
    "duration": 117,
    "start_time": "2022-07-03T10:19:22.940Z"
   },
   {
    "duration": 4,
    "start_time": "2022-07-03T10:19:23.058Z"
   },
   {
    "duration": 5,
    "start_time": "2022-07-03T10:19:23.064Z"
   },
   {
    "duration": 5,
    "start_time": "2022-07-03T10:19:23.070Z"
   },
   {
    "duration": 8,
    "start_time": "2022-07-03T10:19:23.076Z"
   },
   {
    "duration": 4,
    "start_time": "2022-07-03T10:19:23.086Z"
   },
   {
    "duration": 5,
    "start_time": "2022-07-03T10:19:23.092Z"
   },
   {
    "duration": 6,
    "start_time": "2022-07-03T10:19:23.098Z"
   },
   {
    "duration": 16,
    "start_time": "2022-07-03T10:19:23.105Z"
   },
   {
    "duration": 6,
    "start_time": "2022-07-03T10:19:23.128Z"
   },
   {
    "duration": 36,
    "start_time": "2022-07-03T10:19:23.135Z"
   },
   {
    "duration": 14,
    "start_time": "2022-07-03T10:19:23.172Z"
   },
   {
    "duration": 9732,
    "start_time": "2022-07-03T10:19:23.188Z"
   },
   {
    "duration": 158,
    "start_time": "2022-07-03T10:19:32.921Z"
   },
   {
    "duration": 9689,
    "start_time": "2022-07-03T10:19:33.081Z"
   },
   {
    "duration": 148,
    "start_time": "2022-07-03T10:19:42.771Z"
   },
   {
    "duration": 9532,
    "start_time": "2022-07-03T10:19:42.921Z"
   },
   {
    "duration": 155,
    "start_time": "2022-07-03T10:19:52.455Z"
   },
   {
    "duration": 3,
    "start_time": "2022-07-03T10:19:52.611Z"
   },
   {
    "duration": 40,
    "start_time": "2022-07-03T10:19:52.616Z"
   },
   {
    "duration": 9,
    "start_time": "2022-07-03T10:19:52.657Z"
   },
   {
    "duration": 10,
    "start_time": "2022-07-03T10:19:52.668Z"
   },
   {
    "duration": 13,
    "start_time": "2022-07-03T22:36:33.446Z"
   },
   {
    "duration": 3,
    "start_time": "2022-07-03T22:36:38.243Z"
   },
   {
    "duration": 3,
    "start_time": "2022-07-03T22:36:40.201Z"
   },
   {
    "duration": 1671,
    "start_time": "2022-07-03T22:37:07.998Z"
   },
   {
    "duration": 874,
    "start_time": "2022-07-03T22:37:09.672Z"
   },
   {
    "duration": 15,
    "start_time": "2022-07-03T22:37:10.548Z"
   },
   {
    "duration": 11,
    "start_time": "2022-07-03T22:37:10.565Z"
   },
   {
    "duration": 13,
    "start_time": "2022-07-03T22:37:10.578Z"
   },
   {
    "duration": 60,
    "start_time": "2022-07-03T22:37:10.592Z"
   },
   {
    "duration": 193,
    "start_time": "2022-07-03T22:37:10.654Z"
   },
   {
    "duration": 409,
    "start_time": "2022-07-03T22:37:10.854Z"
   },
   {
    "duration": 395,
    "start_time": "2022-07-03T22:37:11.266Z"
   },
   {
    "duration": 323,
    "start_time": "2022-07-03T22:37:11.663Z"
   },
   {
    "duration": 11,
    "start_time": "2022-07-03T22:37:11.988Z"
   },
   {
    "duration": 67,
    "start_time": "2022-07-03T22:37:12.001Z"
   },
   {
    "duration": 3,
    "start_time": "2022-07-03T22:37:12.070Z"
   },
   {
    "duration": 58,
    "start_time": "2022-07-03T22:37:12.076Z"
   },
   {
    "duration": 7,
    "start_time": "2022-07-03T22:37:12.144Z"
   },
   {
    "duration": 395,
    "start_time": "2022-07-03T22:37:12.153Z"
   },
   {
    "duration": 9,
    "start_time": "2022-07-03T22:37:12.550Z"
   },
   {
    "duration": 190,
    "start_time": "2022-07-03T22:37:12.560Z"
   },
   {
    "duration": 6,
    "start_time": "2022-07-03T22:37:12.752Z"
   },
   {
    "duration": 4,
    "start_time": "2022-07-03T22:37:12.760Z"
   },
   {
    "duration": 6,
    "start_time": "2022-07-03T22:37:12.766Z"
   },
   {
    "duration": 5,
    "start_time": "2022-07-03T22:37:12.774Z"
   },
   {
    "duration": 13,
    "start_time": "2022-07-03T22:37:12.781Z"
   },
   {
    "duration": 4,
    "start_time": "2022-07-03T22:37:32.815Z"
   },
   {
    "duration": 6,
    "start_time": "2022-07-03T22:37:50.540Z"
   },
   {
    "duration": 7,
    "start_time": "2022-07-03T22:38:23.258Z"
   },
   {
    "duration": 4,
    "start_time": "2022-07-03T22:41:24.415Z"
   },
   {
    "duration": 3,
    "start_time": "2022-07-03T22:41:37.794Z"
   },
   {
    "duration": 396,
    "start_time": "2022-07-03T22:41:37.800Z"
   },
   {
    "duration": 10,
    "start_time": "2022-07-03T22:41:38.198Z"
   },
   {
    "duration": 28,
    "start_time": "2022-07-03T22:41:38.210Z"
   },
   {
    "duration": 13,
    "start_time": "2022-07-03T22:41:38.246Z"
   },
   {
    "duration": 40,
    "start_time": "2022-07-03T22:41:38.261Z"
   },
   {
    "duration": 121,
    "start_time": "2022-07-03T22:41:38.302Z"
   },
   {
    "duration": 325,
    "start_time": "2022-07-03T22:41:38.427Z"
   },
   {
    "duration": 394,
    "start_time": "2022-07-03T22:41:38.754Z"
   },
   {
    "duration": 306,
    "start_time": "2022-07-03T22:41:39.150Z"
   },
   {
    "duration": 7,
    "start_time": "2022-07-03T22:41:39.458Z"
   },
   {
    "duration": 28,
    "start_time": "2022-07-03T22:41:39.467Z"
   },
   {
    "duration": 3,
    "start_time": "2022-07-03T22:41:39.498Z"
   },
   {
    "duration": 65,
    "start_time": "2022-07-03T22:41:39.503Z"
   },
   {
    "duration": 3,
    "start_time": "2022-07-03T22:41:39.570Z"
   },
   {
    "duration": 353,
    "start_time": "2022-07-03T22:41:39.575Z"
   },
   {
    "duration": 110,
    "start_time": "2022-07-03T22:41:39.930Z"
   },
   {
    "duration": 27,
    "start_time": "2022-07-03T22:41:40.043Z"
   },
   {
    "duration": 19,
    "start_time": "2022-07-03T22:41:40.071Z"
   },
   {
    "duration": 10,
    "start_time": "2022-07-03T22:41:40.092Z"
   },
   {
    "duration": 9,
    "start_time": "2022-07-03T22:41:40.104Z"
   },
   {
    "duration": 19,
    "start_time": "2022-07-03T22:41:40.115Z"
   },
   {
    "duration": 23,
    "start_time": "2022-07-03T22:41:40.136Z"
   },
   {
    "duration": 13,
    "start_time": "2022-07-03T22:41:40.160Z"
   },
   {
    "duration": 4,
    "start_time": "2022-07-03T22:41:42.094Z"
   },
   {
    "duration": 4,
    "start_time": "2022-07-03T22:41:55.345Z"
   },
   {
    "duration": 4,
    "start_time": "2022-07-03T22:42:05.255Z"
   },
   {
    "duration": 4,
    "start_time": "2022-07-03T22:43:34.103Z"
   },
   {
    "duration": 129,
    "start_time": "2022-07-03T22:50:19.315Z"
   },
   {
    "duration": 5,
    "start_time": "2022-07-03T22:50:44.156Z"
   },
   {
    "duration": 9,
    "start_time": "2022-07-03T22:50:53.276Z"
   },
   {
    "duration": 6,
    "start_time": "2022-07-03T22:50:55.111Z"
   },
   {
    "duration": 5,
    "start_time": "2022-07-03T22:51:06.723Z"
   },
   {
    "duration": 6,
    "start_time": "2022-07-03T22:51:13.115Z"
   },
   {
    "duration": 1407,
    "start_time": "2022-07-03T22:57:18.699Z"
   },
   {
    "duration": 371,
    "start_time": "2022-07-03T22:57:20.107Z"
   },
   {
    "duration": 17,
    "start_time": "2022-07-03T22:57:20.480Z"
   },
   {
    "duration": 15,
    "start_time": "2022-07-03T22:57:20.500Z"
   },
   {
    "duration": 26,
    "start_time": "2022-07-03T22:57:20.517Z"
   },
   {
    "duration": 38,
    "start_time": "2022-07-03T22:57:20.547Z"
   },
   {
    "duration": 202,
    "start_time": "2022-07-03T22:57:20.587Z"
   },
   {
    "duration": 363,
    "start_time": "2022-07-03T22:57:20.791Z"
   },
   {
    "duration": 312,
    "start_time": "2022-07-03T22:57:21.157Z"
   },
   {
    "duration": 334,
    "start_time": "2022-07-03T22:57:21.472Z"
   },
   {
    "duration": 10,
    "start_time": "2022-07-03T22:57:21.808Z"
   },
   {
    "duration": 48,
    "start_time": "2022-07-03T22:57:21.828Z"
   },
   {
    "duration": 4,
    "start_time": "2022-07-03T22:57:21.878Z"
   },
   {
    "duration": 49,
    "start_time": "2022-07-03T22:57:21.884Z"
   },
   {
    "duration": 4,
    "start_time": "2022-07-03T22:57:21.934Z"
   },
   {
    "duration": 189,
    "start_time": "2022-07-03T22:57:21.944Z"
   },
   {
    "duration": 6,
    "start_time": "2022-07-03T22:57:22.138Z"
   },
   {
    "duration": 123,
    "start_time": "2022-07-03T22:57:22.145Z"
   },
   {
    "duration": 5,
    "start_time": "2022-07-03T22:57:22.272Z"
   },
   {
    "duration": 5,
    "start_time": "2022-07-03T22:57:22.279Z"
   },
   {
    "duration": 5,
    "start_time": "2022-07-03T22:57:22.287Z"
   },
   {
    "duration": 17,
    "start_time": "2022-07-03T22:57:22.295Z"
   },
   {
    "duration": 7,
    "start_time": "2022-07-03T22:57:22.314Z"
   },
   {
    "duration": 8,
    "start_time": "2022-07-03T22:57:22.323Z"
   },
   {
    "duration": 19,
    "start_time": "2022-07-03T22:57:22.334Z"
   },
   {
    "duration": 5,
    "start_time": "2022-07-03T22:58:07.705Z"
   },
   {
    "duration": 5,
    "start_time": "2022-07-03T22:58:13.466Z"
   },
   {
    "duration": 5,
    "start_time": "2022-07-03T22:58:17.106Z"
   },
   {
    "duration": 3,
    "start_time": "2022-07-03T22:58:25.846Z"
   },
   {
    "duration": 109,
    "start_time": "2022-07-03T22:58:27.142Z"
   },
   {
    "duration": 5,
    "start_time": "2022-07-03T22:58:28.146Z"
   },
   {
    "duration": 5,
    "start_time": "2022-07-03T22:58:30.959Z"
   },
   {
    "duration": 11,
    "start_time": "2022-07-03T22:58:33.248Z"
   },
   {
    "duration": 21,
    "start_time": "2022-07-03T22:59:43.226Z"
   },
   {
    "duration": 5,
    "start_time": "2022-07-03T23:00:03.956Z"
   },
   {
    "duration": 8,
    "start_time": "2022-07-03T23:00:31.805Z"
   },
   {
    "duration": 11,
    "start_time": "2022-07-03T23:00:44.445Z"
   },
   {
    "duration": 119,
    "start_time": "2022-07-03T23:00:56.093Z"
   },
   {
    "duration": 7,
    "start_time": "2022-07-03T23:01:10.826Z"
   },
   {
    "duration": 12,
    "start_time": "2022-07-03T23:01:37.145Z"
   },
   {
    "duration": 7,
    "start_time": "2022-07-03T23:03:13.516Z"
   },
   {
    "duration": 9,
    "start_time": "2022-07-03T23:03:18.872Z"
   },
   {
    "duration": 10,
    "start_time": "2022-07-03T23:03:21.250Z"
   },
   {
    "duration": 7,
    "start_time": "2022-07-03T23:03:57.745Z"
   },
   {
    "duration": 7,
    "start_time": "2022-07-03T23:04:12.384Z"
   },
   {
    "duration": 12,
    "start_time": "2022-07-03T23:04:17.968Z"
   },
   {
    "duration": 23,
    "start_time": "2022-07-03T23:04:29.510Z"
   },
   {
    "duration": 20,
    "start_time": "2022-07-03T23:04:43.460Z"
   },
   {
    "duration": 19,
    "start_time": "2022-07-03T23:04:49.726Z"
   },
   {
    "duration": 8,
    "start_time": "2022-07-03T23:08:12.378Z"
   },
   {
    "duration": 6,
    "start_time": "2022-07-03T23:09:43.152Z"
   },
   {
    "duration": 15,
    "start_time": "2022-07-03T23:10:03.251Z"
   },
   {
    "duration": 14,
    "start_time": "2022-07-03T23:10:10.236Z"
   },
   {
    "duration": 9,
    "start_time": "2022-07-03T23:10:16.779Z"
   },
   {
    "duration": 7,
    "start_time": "2022-07-03T23:10:19.682Z"
   },
   {
    "duration": 8,
    "start_time": "2022-07-03T23:10:30.287Z"
   },
   {
    "duration": 16,
    "start_time": "2022-07-03T23:10:42.436Z"
   },
   {
    "duration": 6,
    "start_time": "2022-07-03T23:10:57.756Z"
   },
   {
    "duration": 9,
    "start_time": "2022-07-03T23:12:45.648Z"
   },
   {
    "duration": 3,
    "start_time": "2022-07-03T23:12:53.777Z"
   },
   {
    "duration": 10,
    "start_time": "2022-07-03T23:14:00.709Z"
   },
   {
    "duration": 8,
    "start_time": "2022-07-03T23:14:04.099Z"
   },
   {
    "duration": 11,
    "start_time": "2022-07-03T23:14:08.049Z"
   },
   {
    "duration": 10,
    "start_time": "2022-07-03T23:14:14.419Z"
   },
   {
    "duration": 9,
    "start_time": "2022-07-03T23:14:18.465Z"
   },
   {
    "duration": 9,
    "start_time": "2022-07-03T23:14:24.662Z"
   },
   {
    "duration": 9,
    "start_time": "2022-07-03T23:14:35.459Z"
   },
   {
    "duration": 12,
    "start_time": "2022-07-03T23:14:46.073Z"
   },
   {
    "duration": 13,
    "start_time": "2022-07-03T23:14:53.170Z"
   },
   {
    "duration": 10,
    "start_time": "2022-07-03T23:14:56.410Z"
   },
   {
    "duration": 13,
    "start_time": "2022-07-03T23:15:00.817Z"
   },
   {
    "duration": 8,
    "start_time": "2022-07-03T23:15:26.998Z"
   },
   {
    "duration": 10,
    "start_time": "2022-07-03T23:15:31.750Z"
   },
   {
    "duration": 12,
    "start_time": "2022-07-03T23:15:58.414Z"
   },
   {
    "duration": 13,
    "start_time": "2022-07-03T23:16:09.258Z"
   },
   {
    "duration": 23,
    "start_time": "2022-07-03T23:16:22.118Z"
   },
   {
    "duration": 21,
    "start_time": "2022-07-03T23:16:52.427Z"
   },
   {
    "duration": 13,
    "start_time": "2022-07-03T23:17:22.875Z"
   },
   {
    "duration": 15,
    "start_time": "2022-07-03T23:17:37.555Z"
   },
   {
    "duration": 2,
    "start_time": "2022-07-03T23:19:23.012Z"
   },
   {
    "duration": 4,
    "start_time": "2022-07-03T23:19:54.911Z"
   },
   {
    "duration": 457,
    "start_time": "2022-07-03T23:19:54.951Z"
   },
   {
    "duration": 10,
    "start_time": "2022-07-03T23:19:55.410Z"
   },
   {
    "duration": 21,
    "start_time": "2022-07-03T23:19:55.422Z"
   },
   {
    "duration": 18,
    "start_time": "2022-07-03T23:19:55.444Z"
   },
   {
    "duration": 36,
    "start_time": "2022-07-03T23:19:55.465Z"
   },
   {
    "duration": 147,
    "start_time": "2022-07-03T23:19:55.503Z"
   },
   {
    "duration": 303,
    "start_time": "2022-07-03T23:19:55.652Z"
   },
   {
    "duration": 406,
    "start_time": "2022-07-03T23:19:55.957Z"
   },
   {
    "duration": 427,
    "start_time": "2022-07-03T23:19:56.366Z"
   },
   {
    "duration": 8,
    "start_time": "2022-07-03T23:19:56.794Z"
   },
   {
    "duration": 42,
    "start_time": "2022-07-03T23:19:56.804Z"
   },
   {
    "duration": 4,
    "start_time": "2022-07-03T23:19:56.850Z"
   },
   {
    "duration": 57,
    "start_time": "2022-07-03T23:19:56.855Z"
   },
   {
    "duration": 16,
    "start_time": "2022-07-03T23:19:56.916Z"
   },
   {
    "duration": 223,
    "start_time": "2022-07-03T23:19:56.934Z"
   },
   {
    "duration": 13,
    "start_time": "2022-07-03T23:19:57.231Z"
   },
   {
    "duration": 102,
    "start_time": "2022-07-03T23:19:57.250Z"
   },
   {
    "duration": 7,
    "start_time": "2022-07-03T23:19:57.354Z"
   },
   {
    "duration": 9,
    "start_time": "2022-07-03T23:19:57.363Z"
   },
   {
    "duration": 7,
    "start_time": "2022-07-03T23:19:57.374Z"
   },
   {
    "duration": 7,
    "start_time": "2022-07-03T23:19:57.383Z"
   },
   {
    "duration": 11,
    "start_time": "2022-07-03T23:19:57.392Z"
   },
   {
    "duration": 8,
    "start_time": "2022-07-03T23:19:57.405Z"
   },
   {
    "duration": 11,
    "start_time": "2022-07-03T23:19:57.415Z"
   },
   {
    "duration": 21,
    "start_time": "2022-07-03T23:19:57.429Z"
   },
   {
    "duration": 11,
    "start_time": "2022-07-03T23:19:59.908Z"
   },
   {
    "duration": 79,
    "start_time": "2022-07-03T23:22:36.403Z"
   },
   {
    "duration": 54,
    "start_time": "2022-07-03T23:22:42.155Z"
   },
   {
    "duration": 97,
    "start_time": "2022-07-03T23:22:53.405Z"
   },
   {
    "duration": 16,
    "start_time": "2022-07-03T23:22:57.071Z"
   },
   {
    "duration": 12,
    "start_time": "2022-07-03T23:23:25.129Z"
   },
   {
    "duration": 7,
    "start_time": "2022-07-03T23:23:30.891Z"
   },
   {
    "duration": 11,
    "start_time": "2022-07-03T23:24:28.149Z"
   },
   {
    "duration": 16,
    "start_time": "2022-07-03T23:24:47.892Z"
   },
   {
    "duration": 3,
    "start_time": "2022-07-03T23:26:01.788Z"
   },
   {
    "duration": 23,
    "start_time": "2022-07-03T23:26:06.268Z"
   },
   {
    "duration": 3,
    "start_time": "2022-07-03T23:26:29.747Z"
   },
   {
    "duration": 10,
    "start_time": "2022-07-03T23:26:33.595Z"
   },
   {
    "duration": 15,
    "start_time": "2022-07-03T23:26:36.218Z"
   },
   {
    "duration": 5,
    "start_time": "2022-07-03T23:28:33.355Z"
   },
   {
    "duration": 9,
    "start_time": "2022-07-03T23:28:37.105Z"
   },
   {
    "duration": 13,
    "start_time": "2022-07-03T23:29:08.447Z"
   },
   {
    "duration": 4,
    "start_time": "2022-07-03T23:29:19.964Z"
   },
   {
    "duration": 22,
    "start_time": "2022-07-03T23:29:21.719Z"
   },
   {
    "duration": 4,
    "start_time": "2022-07-03T23:29:57.888Z"
   },
   {
    "duration": 11,
    "start_time": "2022-07-03T23:29:57.945Z"
   },
   {
    "duration": 4,
    "start_time": "2022-07-03T23:30:14.798Z"
   },
   {
    "duration": 10,
    "start_time": "2022-07-03T23:30:15.393Z"
   },
   {
    "duration": 3,
    "start_time": "2022-07-03T23:30:24.217Z"
   },
   {
    "duration": 14,
    "start_time": "2022-07-03T23:30:26.524Z"
   },
   {
    "duration": 4,
    "start_time": "2022-07-03T23:30:35.643Z"
   },
   {
    "duration": 11,
    "start_time": "2022-07-03T23:30:35.944Z"
   },
   {
    "duration": 3,
    "start_time": "2022-07-03T23:30:50.359Z"
   },
   {
    "duration": 10,
    "start_time": "2022-07-03T23:30:51.347Z"
   },
   {
    "duration": 14,
    "start_time": "2022-07-03T23:32:17.314Z"
   },
   {
    "duration": 14,
    "start_time": "2022-07-03T23:32:24.181Z"
   },
   {
    "duration": 15,
    "start_time": "2022-07-03T23:32:29.976Z"
   },
   {
    "duration": 16,
    "start_time": "2022-07-03T23:32:41.042Z"
   },
   {
    "duration": 17,
    "start_time": "2022-07-03T23:33:02.022Z"
   },
   {
    "duration": 14,
    "start_time": "2022-07-03T23:33:19.083Z"
   },
   {
    "duration": 19,
    "start_time": "2022-07-03T23:33:38.348Z"
   },
   {
    "duration": 18,
    "start_time": "2022-07-03T23:34:23.527Z"
   },
   {
    "duration": 15,
    "start_time": "2022-07-03T23:34:47.647Z"
   },
   {
    "duration": 17,
    "start_time": "2022-07-03T23:34:56.635Z"
   },
   {
    "duration": 4,
    "start_time": "2022-07-03T23:39:01.249Z"
   },
   {
    "duration": 5,
    "start_time": "2022-07-03T23:39:04.685Z"
   },
   {
    "duration": 4,
    "start_time": "2022-07-03T23:39:06.403Z"
   },
   {
    "duration": 10023,
    "start_time": "2022-07-03T23:39:07.845Z"
   },
   {
    "duration": 146,
    "start_time": "2022-07-03T23:39:17.871Z"
   },
   {
    "duration": 12,
    "start_time": "2022-07-04T00:21:23.442Z"
   },
   {
    "duration": 7,
    "start_time": "2022-07-04T00:21:28.452Z"
   },
   {
    "duration": 8,
    "start_time": "2022-07-04T00:21:36.548Z"
   },
   {
    "duration": 6,
    "start_time": "2022-07-04T00:21:46.072Z"
   },
   {
    "duration": 14,
    "start_time": "2022-07-04T00:21:48.827Z"
   },
   {
    "duration": 7,
    "start_time": "2022-07-04T00:22:42.445Z"
   },
   {
    "duration": 7,
    "start_time": "2022-07-04T00:22:44.341Z"
   },
   {
    "duration": 7,
    "start_time": "2022-07-04T00:22:44.792Z"
   },
   {
    "duration": 7,
    "start_time": "2022-07-04T00:22:45.070Z"
   },
   {
    "duration": 9,
    "start_time": "2022-07-04T00:23:13.692Z"
   },
   {
    "duration": 7,
    "start_time": "2022-07-04T00:23:15.879Z"
   },
   {
    "duration": 222,
    "start_time": "2022-07-04T00:24:15.871Z"
   },
   {
    "duration": 8,
    "start_time": "2022-07-04T00:24:22.398Z"
   },
   {
    "duration": 12,
    "start_time": "2022-07-04T00:28:26.902Z"
   },
   {
    "duration": 12,
    "start_time": "2022-07-04T00:28:31.358Z"
   },
   {
    "duration": 11,
    "start_time": "2022-07-04T00:28:47.056Z"
   },
   {
    "duration": 7,
    "start_time": "2022-07-04T00:28:54.076Z"
   },
   {
    "duration": 5,
    "start_time": "2022-07-04T00:29:24.758Z"
   },
   {
    "duration": 10,
    "start_time": "2022-07-04T00:29:36.234Z"
   },
   {
    "duration": 8,
    "start_time": "2022-07-04T00:29:55.107Z"
   },
   {
    "duration": 4,
    "start_time": "2022-07-04T00:30:18.384Z"
   },
   {
    "duration": 9,
    "start_time": "2022-07-04T00:30:23.848Z"
   },
   {
    "duration": 18,
    "start_time": "2022-07-04T00:30:37.740Z"
   },
   {
    "duration": 7,
    "start_time": "2022-07-04T00:31:08.996Z"
   },
   {
    "duration": 11,
    "start_time": "2022-07-04T00:31:56.175Z"
   },
   {
    "duration": 7,
    "start_time": "2022-07-04T00:32:37.144Z"
   },
   {
    "duration": 7,
    "start_time": "2022-07-04T00:32:49.452Z"
   },
   {
    "duration": 6,
    "start_time": "2022-07-04T00:32:58.411Z"
   },
   {
    "duration": 14,
    "start_time": "2022-07-04T00:33:34.843Z"
   },
   {
    "duration": 8,
    "start_time": "2022-07-04T00:33:48.267Z"
   },
   {
    "duration": 8,
    "start_time": "2022-07-04T00:33:53.052Z"
   },
   {
    "duration": 9,
    "start_time": "2022-07-04T00:33:58.512Z"
   },
   {
    "duration": 10,
    "start_time": "2022-07-04T00:34:03.870Z"
   },
   {
    "duration": 9,
    "start_time": "2022-07-04T00:34:53.990Z"
   },
   {
    "duration": 26,
    "start_time": "2022-07-04T00:41:05.069Z"
   },
   {
    "duration": 8,
    "start_time": "2022-07-04T00:41:08.381Z"
   },
   {
    "duration": 3,
    "start_time": "2022-07-04T00:42:37.675Z"
   },
   {
    "duration": 16,
    "start_time": "2022-07-04T00:42:41.200Z"
   },
   {
    "duration": 4,
    "start_time": "2022-07-04T00:43:05.290Z"
   },
   {
    "duration": 18,
    "start_time": "2022-07-04T00:43:13.289Z"
   },
   {
    "duration": 3,
    "start_time": "2022-07-04T00:43:17.823Z"
   },
   {
    "duration": 16,
    "start_time": "2022-07-04T00:43:20.742Z"
   },
   {
    "duration": 7,
    "start_time": "2022-07-04T00:45:02.624Z"
   },
   {
    "duration": 8,
    "start_time": "2022-07-04T00:45:50.514Z"
   },
   {
    "duration": 15,
    "start_time": "2022-07-04T00:46:01.321Z"
   },
   {
    "duration": 1780,
    "start_time": "2022-07-04T00:46:06.209Z"
   },
   {
    "duration": 7,
    "start_time": "2022-07-04T00:46:23.267Z"
   },
   {
    "duration": 1632,
    "start_time": "2022-07-04T00:46:23.565Z"
   },
   {
    "duration": 1486,
    "start_time": "2022-07-04T00:46:50.225Z"
   },
   {
    "duration": 4,
    "start_time": "2022-07-04T00:46:56.958Z"
   },
   {
    "duration": 1516,
    "start_time": "2022-07-04T00:46:57.840Z"
   },
   {
    "duration": 13,
    "start_time": "2022-07-04T00:47:07.524Z"
   },
   {
    "duration": 1588,
    "start_time": "2022-07-04T00:47:09.989Z"
   },
   {
    "duration": 1532,
    "start_time": "2022-07-04T00:47:13.648Z"
   },
   {
    "duration": 4,
    "start_time": "2022-07-04T00:49:17.566Z"
   },
   {
    "duration": 1501,
    "start_time": "2022-07-04T00:49:18.340Z"
   },
   {
    "duration": 4,
    "start_time": "2022-07-04T00:50:20.464Z"
   },
   {
    "duration": 1584,
    "start_time": "2022-07-04T00:50:21.459Z"
   },
   {
    "duration": 4,
    "start_time": "2022-07-04T00:50:33.861Z"
   },
   {
    "duration": 1697,
    "start_time": "2022-07-04T00:50:35.561Z"
   },
   {
    "duration": 4,
    "start_time": "2022-07-04T00:50:59.074Z"
   },
   {
    "duration": 1646,
    "start_time": "2022-07-04T00:51:01.145Z"
   },
   {
    "duration": 4,
    "start_time": "2022-07-04T00:51:11.697Z"
   },
   {
    "duration": 1605,
    "start_time": "2022-07-04T00:51:13.989Z"
   },
   {
    "duration": 4,
    "start_time": "2022-07-04T00:54:41.318Z"
   },
   {
    "duration": 1569,
    "start_time": "2022-07-04T00:54:42.011Z"
   },
   {
    "duration": 4,
    "start_time": "2022-07-04T00:54:55.940Z"
   },
   {
    "duration": 1638,
    "start_time": "2022-07-04T00:54:57.467Z"
   },
   {
    "duration": 3,
    "start_time": "2022-07-04T00:56:37.491Z"
   },
   {
    "duration": 1659,
    "start_time": "2022-07-04T00:56:37.644Z"
   },
   {
    "duration": 3,
    "start_time": "2022-07-04T00:56:47.288Z"
   },
   {
    "duration": 1640,
    "start_time": "2022-07-04T00:56:48.109Z"
   },
   {
    "duration": 12,
    "start_time": "2022-07-04T00:59:12.826Z"
   },
   {
    "duration": 1445,
    "start_time": "2022-07-04T00:59:15.244Z"
   },
   {
    "duration": 1736,
    "start_time": "2022-07-04T10:15:21.612Z"
   },
   {
    "duration": 1000,
    "start_time": "2022-07-04T10:15:23.350Z"
   },
   {
    "duration": 14,
    "start_time": "2022-07-04T10:15:24.352Z"
   },
   {
    "duration": 51,
    "start_time": "2022-07-04T10:15:24.380Z"
   },
   {
    "duration": 29,
    "start_time": "2022-07-04T10:15:24.433Z"
   },
   {
    "duration": 83,
    "start_time": "2022-07-04T10:15:24.463Z"
   },
   {
    "duration": 187,
    "start_time": "2022-07-04T10:15:24.548Z"
   },
   {
    "duration": 400,
    "start_time": "2022-07-04T10:15:24.737Z"
   },
   {
    "duration": 357,
    "start_time": "2022-07-04T10:15:25.139Z"
   },
   {
    "duration": 308,
    "start_time": "2022-07-04T10:15:25.502Z"
   },
   {
    "duration": 11,
    "start_time": "2022-07-04T10:15:25.812Z"
   },
   {
    "duration": 36,
    "start_time": "2022-07-04T10:15:25.825Z"
   },
   {
    "duration": 4,
    "start_time": "2022-07-04T10:15:25.868Z"
   },
   {
    "duration": 83,
    "start_time": "2022-07-04T10:15:25.874Z"
   },
   {
    "duration": 15,
    "start_time": "2022-07-04T10:15:25.959Z"
   },
   {
    "duration": 300,
    "start_time": "2022-07-04T10:15:25.980Z"
   },
   {
    "duration": 13,
    "start_time": "2022-07-04T10:15:26.288Z"
   },
   {
    "duration": 113,
    "start_time": "2022-07-04T10:15:26.310Z"
   },
   {
    "duration": 6,
    "start_time": "2022-07-04T10:15:26.425Z"
   },
   {
    "duration": 7,
    "start_time": "2022-07-04T10:15:26.432Z"
   },
   {
    "duration": 5,
    "start_time": "2022-07-04T10:15:26.440Z"
   },
   {
    "duration": 7,
    "start_time": "2022-07-04T10:15:26.447Z"
   },
   {
    "duration": 8,
    "start_time": "2022-07-04T10:15:26.455Z"
   },
   {
    "duration": 45,
    "start_time": "2022-07-04T10:15:26.467Z"
   },
   {
    "duration": 7,
    "start_time": "2022-07-04T10:15:26.514Z"
   },
   {
    "duration": 6,
    "start_time": "2022-07-04T10:15:26.522Z"
   },
   {
    "duration": 16,
    "start_time": "2022-07-04T10:15:26.529Z"
   },
   {
    "duration": 8,
    "start_time": "2022-07-04T10:15:26.548Z"
   },
   {
    "duration": 4,
    "start_time": "2022-07-04T10:15:42.504Z"
   },
   {
    "duration": 1710,
    "start_time": "2022-07-04T10:15:43.851Z"
   },
   {
    "duration": 4,
    "start_time": "2022-07-04T10:30:28.527Z"
   },
   {
    "duration": 195,
    "start_time": "2022-07-04T10:30:29.945Z"
   },
   {
    "duration": 4,
    "start_time": "2022-07-04T10:30:32.748Z"
   },
   {
    "duration": 3,
    "start_time": "2022-07-04T10:30:36.009Z"
   },
   {
    "duration": 1683,
    "start_time": "2022-07-04T10:30:37.527Z"
   },
   {
    "duration": 3,
    "start_time": "2022-07-04T10:30:42.626Z"
   },
   {
    "duration": 1730,
    "start_time": "2022-07-04T10:30:44.519Z"
   },
   {
    "duration": 4,
    "start_time": "2022-07-04T10:31:00.854Z"
   },
   {
    "duration": 7,
    "start_time": "2022-07-04T10:31:10.812Z"
   },
   {
    "duration": 5,
    "start_time": "2022-07-04T10:34:20.826Z"
   },
   {
    "duration": 6,
    "start_time": "2022-07-04T10:34:33.016Z"
   },
   {
    "duration": 11,
    "start_time": "2022-07-04T10:34:35.496Z"
   },
   {
    "duration": 7,
    "start_time": "2022-07-04T10:34:42.331Z"
   },
   {
    "duration": 7,
    "start_time": "2022-07-04T10:37:10.765Z"
   },
   {
    "duration": 23,
    "start_time": "2022-07-04T10:37:12.095Z"
   },
   {
    "duration": 3,
    "start_time": "2022-07-04T10:37:27.821Z"
   },
   {
    "duration": 1535,
    "start_time": "2022-07-04T10:37:29.306Z"
   },
   {
    "duration": 4,
    "start_time": "2022-07-04T10:38:00.957Z"
   },
   {
    "duration": 428,
    "start_time": "2022-07-04T10:38:00.998Z"
   },
   {
    "duration": 10,
    "start_time": "2022-07-04T10:38:01.429Z"
   },
   {
    "duration": 14,
    "start_time": "2022-07-04T10:38:01.441Z"
   },
   {
    "duration": 34,
    "start_time": "2022-07-04T10:38:01.456Z"
   },
   {
    "duration": 59,
    "start_time": "2022-07-04T10:38:01.492Z"
   },
   {
    "duration": 149,
    "start_time": "2022-07-04T10:38:01.553Z"
   },
   {
    "duration": 433,
    "start_time": "2022-07-04T10:38:01.704Z"
   },
   {
    "duration": 356,
    "start_time": "2022-07-04T10:38:02.138Z"
   },
   {
    "duration": 319,
    "start_time": "2022-07-04T10:38:02.498Z"
   },
   {
    "duration": 10,
    "start_time": "2022-07-04T10:38:02.818Z"
   },
   {
    "duration": 33,
    "start_time": "2022-07-04T10:38:02.829Z"
   },
   {
    "duration": 4,
    "start_time": "2022-07-04T10:38:02.873Z"
   },
   {
    "duration": 46,
    "start_time": "2022-07-04T10:38:02.893Z"
   },
   {
    "duration": 3,
    "start_time": "2022-07-04T10:38:02.942Z"
   },
   {
    "duration": 138,
    "start_time": "2022-07-04T10:38:02.947Z"
   },
   {
    "duration": 187,
    "start_time": "2022-07-04T10:38:03.087Z"
   },
   {
    "duration": 39,
    "start_time": "2022-07-04T10:38:03.276Z"
   },
   {
    "duration": 2,
    "start_time": "2022-07-04T10:38:03.318Z"
   },
   {
    "duration": 8,
    "start_time": "2022-07-04T10:38:03.322Z"
   },
   {
    "duration": 7,
    "start_time": "2022-07-04T10:38:03.331Z"
   },
   {
    "duration": 7,
    "start_time": "2022-07-04T10:38:03.339Z"
   },
   {
    "duration": 7,
    "start_time": "2022-07-04T10:38:03.348Z"
   },
   {
    "duration": 5,
    "start_time": "2022-07-04T10:38:03.357Z"
   },
   {
    "duration": 30,
    "start_time": "2022-07-04T10:38:03.363Z"
   },
   {
    "duration": 9,
    "start_time": "2022-07-04T10:38:03.394Z"
   },
   {
    "duration": 19,
    "start_time": "2022-07-04T10:38:03.405Z"
   },
   {
    "duration": 10,
    "start_time": "2022-07-04T10:38:03.426Z"
   },
   {
    "duration": 5,
    "start_time": "2022-07-04T10:38:03.438Z"
   },
   {
    "duration": 1689,
    "start_time": "2022-07-04T10:38:06.224Z"
   },
   {
    "duration": 4,
    "start_time": "2022-07-04T10:38:11.919Z"
   },
   {
    "duration": 28,
    "start_time": "2022-07-04T10:38:12.921Z"
   },
   {
    "duration": 5,
    "start_time": "2022-07-04T10:38:22.623Z"
   },
   {
    "duration": 26,
    "start_time": "2022-07-04T10:38:23.792Z"
   },
   {
    "duration": 4,
    "start_time": "2022-07-04T10:40:31.811Z"
   },
   {
    "duration": 1627,
    "start_time": "2022-07-04T10:40:32.859Z"
   },
   {
    "duration": 4,
    "start_time": "2022-07-04T10:40:37.920Z"
   },
   {
    "duration": 25,
    "start_time": "2022-07-04T10:40:38.719Z"
   },
   {
    "duration": 4,
    "start_time": "2022-07-04T10:40:46.717Z"
   },
   {
    "duration": 1793,
    "start_time": "2022-07-04T10:40:47.705Z"
   },
   {
    "duration": 5,
    "start_time": "2022-07-04T10:41:00.790Z"
   },
   {
    "duration": 1650,
    "start_time": "2022-07-04T10:41:01.691Z"
   },
   {
    "duration": 4,
    "start_time": "2022-07-04T10:41:10.606Z"
   },
   {
    "duration": 25,
    "start_time": "2022-07-04T10:41:11.493Z"
   },
   {
    "duration": 5,
    "start_time": "2022-07-04T10:41:15.910Z"
   },
   {
    "duration": 1644,
    "start_time": "2022-07-04T10:41:16.293Z"
   },
   {
    "duration": 6,
    "start_time": "2022-07-04T10:41:34.642Z"
   },
   {
    "duration": 1583,
    "start_time": "2022-07-04T10:41:35.723Z"
   },
   {
    "duration": 6,
    "start_time": "2022-07-04T10:41:43.889Z"
   },
   {
    "duration": 1570,
    "start_time": "2022-07-04T10:41:44.493Z"
   },
   {
    "duration": 4,
    "start_time": "2022-07-04T10:41:56.513Z"
   },
   {
    "duration": 399,
    "start_time": "2022-07-04T10:41:56.533Z"
   },
   {
    "duration": 22,
    "start_time": "2022-07-04T10:41:56.934Z"
   },
   {
    "duration": 19,
    "start_time": "2022-07-04T10:41:56.959Z"
   },
   {
    "duration": 33,
    "start_time": "2022-07-04T10:41:56.979Z"
   },
   {
    "duration": 39,
    "start_time": "2022-07-04T10:41:57.015Z"
   },
   {
    "duration": 145,
    "start_time": "2022-07-04T10:41:57.056Z"
   },
   {
    "duration": 342,
    "start_time": "2022-07-04T10:41:57.203Z"
   },
   {
    "duration": 347,
    "start_time": "2022-07-04T10:41:57.548Z"
   },
   {
    "duration": 333,
    "start_time": "2022-07-04T10:41:57.898Z"
   },
   {
    "duration": 9,
    "start_time": "2022-07-04T10:41:58.235Z"
   },
   {
    "duration": 74,
    "start_time": "2022-07-04T10:41:58.246Z"
   },
   {
    "duration": 4,
    "start_time": "2022-07-04T10:41:58.322Z"
   },
   {
    "duration": 61,
    "start_time": "2022-07-04T10:41:58.328Z"
   },
   {
    "duration": 10,
    "start_time": "2022-07-04T10:41:58.390Z"
   },
   {
    "duration": 95,
    "start_time": "2022-07-04T10:41:58.402Z"
   },
   {
    "duration": 128,
    "start_time": "2022-07-04T10:41:58.568Z"
   },
   {
    "duration": 53,
    "start_time": "2022-07-04T10:41:58.698Z"
   },
   {
    "duration": 40,
    "start_time": "2022-07-04T10:41:58.753Z"
   },
   {
    "duration": 23,
    "start_time": "2022-07-04T10:41:58.795Z"
   },
   {
    "duration": 24,
    "start_time": "2022-07-04T10:41:58.820Z"
   },
   {
    "duration": 60,
    "start_time": "2022-07-04T10:41:58.846Z"
   },
   {
    "duration": 35,
    "start_time": "2022-07-04T10:41:58.908Z"
   },
   {
    "duration": 50,
    "start_time": "2022-07-04T10:41:58.945Z"
   },
   {
    "duration": 20,
    "start_time": "2022-07-04T10:41:58.996Z"
   },
   {
    "duration": 37,
    "start_time": "2022-07-04T10:41:59.018Z"
   },
   {
    "duration": 76,
    "start_time": "2022-07-04T10:41:59.057Z"
   },
   {
    "duration": 6,
    "start_time": "2022-07-04T10:41:59.136Z"
   },
   {
    "duration": 1570,
    "start_time": "2022-07-04T10:42:00.646Z"
   },
   {
    "duration": 6,
    "start_time": "2022-07-04T10:42:32.565Z"
   },
   {
    "duration": 1563,
    "start_time": "2022-07-04T10:42:32.755Z"
   },
   {
    "duration": 5,
    "start_time": "2022-07-04T10:42:49.118Z"
   },
   {
    "duration": 1900,
    "start_time": "2022-07-04T10:42:50.422Z"
   },
   {
    "duration": 4,
    "start_time": "2022-07-04T10:43:00.545Z"
   },
   {
    "duration": 1638,
    "start_time": "2022-07-04T10:43:01.307Z"
   },
   {
    "duration": 5,
    "start_time": "2022-07-04T10:43:09.923Z"
   },
   {
    "duration": 27,
    "start_time": "2022-07-04T10:43:11.294Z"
   },
   {
    "duration": 4,
    "start_time": "2022-07-04T10:43:48.817Z"
   },
   {
    "duration": 795,
    "start_time": "2022-07-04T10:43:49.399Z"
   },
   {
    "duration": 5,
    "start_time": "2022-07-04T10:43:54.791Z"
   },
   {
    "duration": 25,
    "start_time": "2022-07-04T10:43:55.837Z"
   },
   {
    "duration": 6,
    "start_time": "2022-07-04T10:48:43.626Z"
   },
   {
    "duration": 11,
    "start_time": "2022-07-04T10:48:50.086Z"
   },
   {
    "duration": 4,
    "start_time": "2022-07-04T10:48:52.520Z"
   },
   {
    "duration": 4,
    "start_time": "2022-07-04T10:49:57.128Z"
   },
   {
    "duration": 1613,
    "start_time": "2022-07-04T10:50:03.333Z"
   },
   {
    "duration": 4,
    "start_time": "2022-07-04T10:50:08.209Z"
   },
   {
    "duration": 4,
    "start_time": "2022-07-04T10:50:28.006Z"
   },
   {
    "duration": 418,
    "start_time": "2022-07-04T10:50:28.012Z"
   },
   {
    "duration": 13,
    "start_time": "2022-07-04T10:50:28.432Z"
   },
   {
    "duration": 38,
    "start_time": "2022-07-04T10:50:28.447Z"
   },
   {
    "duration": 13,
    "start_time": "2022-07-04T10:50:28.491Z"
   },
   {
    "duration": 50,
    "start_time": "2022-07-04T10:50:28.507Z"
   },
   {
    "duration": 151,
    "start_time": "2022-07-04T10:50:28.558Z"
   },
   {
    "duration": 412,
    "start_time": "2022-07-04T10:50:28.712Z"
   },
   {
    "duration": 383,
    "start_time": "2022-07-04T10:50:29.127Z"
   },
   {
    "duration": 381,
    "start_time": "2022-07-04T10:50:29.513Z"
   },
   {
    "duration": 7,
    "start_time": "2022-07-04T10:50:29.897Z"
   },
   {
    "duration": 29,
    "start_time": "2022-07-04T10:50:29.906Z"
   },
   {
    "duration": 4,
    "start_time": "2022-07-04T10:50:29.938Z"
   },
   {
    "duration": 84,
    "start_time": "2022-07-04T10:50:29.944Z"
   },
   {
    "duration": 3,
    "start_time": "2022-07-04T10:50:30.030Z"
   },
   {
    "duration": 153,
    "start_time": "2022-07-04T10:50:30.035Z"
   },
   {
    "duration": 81,
    "start_time": "2022-07-04T10:50:30.190Z"
   },
   {
    "duration": 123,
    "start_time": "2022-07-04T10:50:30.273Z"
   },
   {
    "duration": 24,
    "start_time": "2022-07-04T10:50:30.397Z"
   },
   {
    "duration": 38,
    "start_time": "2022-07-04T10:50:30.423Z"
   },
   {
    "duration": 30,
    "start_time": "2022-07-04T10:50:30.463Z"
   },
   {
    "duration": 22,
    "start_time": "2022-07-04T10:50:30.495Z"
   },
   {
    "duration": 31,
    "start_time": "2022-07-04T10:50:30.519Z"
   },
   {
    "duration": 34,
    "start_time": "2022-07-04T10:50:30.552Z"
   },
   {
    "duration": 27,
    "start_time": "2022-07-04T10:50:30.588Z"
   },
   {
    "duration": 7,
    "start_time": "2022-07-04T10:50:30.617Z"
   },
   {
    "duration": 32,
    "start_time": "2022-07-04T10:50:30.626Z"
   },
   {
    "duration": 10,
    "start_time": "2022-07-04T10:50:30.660Z"
   },
   {
    "duration": 1641,
    "start_time": "2022-07-04T10:50:30.676Z"
   },
   {
    "duration": 4,
    "start_time": "2022-07-04T10:51:07.433Z"
   },
   {
    "duration": 422,
    "start_time": "2022-07-04T10:51:07.443Z"
   },
   {
    "duration": 14,
    "start_time": "2022-07-04T10:51:07.867Z"
   },
   {
    "duration": 17,
    "start_time": "2022-07-04T10:51:07.883Z"
   },
   {
    "duration": 13,
    "start_time": "2022-07-04T10:51:07.902Z"
   },
   {
    "duration": 64,
    "start_time": "2022-07-04T10:51:07.917Z"
   },
   {
    "duration": 174,
    "start_time": "2022-07-04T10:51:07.983Z"
   },
   {
    "duration": 421,
    "start_time": "2022-07-04T10:51:08.159Z"
   },
   {
    "duration": 525,
    "start_time": "2022-07-04T10:51:08.582Z"
   },
   {
    "duration": 405,
    "start_time": "2022-07-04T10:51:09.109Z"
   },
   {
    "duration": 9,
    "start_time": "2022-07-04T10:51:09.517Z"
   },
   {
    "duration": 65,
    "start_time": "2022-07-04T10:51:09.529Z"
   },
   {
    "duration": 5,
    "start_time": "2022-07-04T10:51:09.598Z"
   },
   {
    "duration": 77,
    "start_time": "2022-07-04T10:51:09.605Z"
   },
   {
    "duration": 5,
    "start_time": "2022-07-04T10:51:09.686Z"
   },
   {
    "duration": 100,
    "start_time": "2022-07-04T10:51:09.693Z"
   },
   {
    "duration": 12,
    "start_time": "2022-07-04T10:51:09.869Z"
   },
   {
    "duration": 108,
    "start_time": "2022-07-04T10:51:09.893Z"
   },
   {
    "duration": 10,
    "start_time": "2022-07-04T10:51:10.003Z"
   },
   {
    "duration": 6,
    "start_time": "2022-07-04T10:51:10.016Z"
   },
   {
    "duration": 6,
    "start_time": "2022-07-04T10:51:10.025Z"
   },
   {
    "duration": 15,
    "start_time": "2022-07-04T10:51:10.033Z"
   },
   {
    "duration": 14,
    "start_time": "2022-07-04T10:51:10.050Z"
   },
   {
    "duration": 9,
    "start_time": "2022-07-04T10:51:10.066Z"
   },
   {
    "duration": 31,
    "start_time": "2022-07-04T10:51:10.078Z"
   },
   {
    "duration": 6,
    "start_time": "2022-07-04T10:51:10.111Z"
   },
   {
    "duration": 33,
    "start_time": "2022-07-04T10:51:10.119Z"
   },
   {
    "duration": 4,
    "start_time": "2022-07-04T10:51:10.154Z"
   },
   {
    "duration": 1811,
    "start_time": "2022-07-04T10:51:10.162Z"
   },
   {
    "duration": 6,
    "start_time": "2022-07-04T10:51:23.384Z"
   },
   {
    "duration": 1741,
    "start_time": "2022-07-04T10:51:24.281Z"
   },
   {
    "duration": 4,
    "start_time": "2022-07-04T10:51:40.188Z"
   },
   {
    "duration": 2072,
    "start_time": "2022-07-04T10:51:41.340Z"
   },
   {
    "duration": 4,
    "start_time": "2022-07-04T10:51:50.093Z"
   },
   {
    "duration": 417,
    "start_time": "2022-07-04T10:51:50.099Z"
   },
   {
    "duration": 11,
    "start_time": "2022-07-04T10:51:50.518Z"
   },
   {
    "duration": 17,
    "start_time": "2022-07-04T10:51:50.532Z"
   },
   {
    "duration": 41,
    "start_time": "2022-07-04T10:51:50.551Z"
   },
   {
    "duration": 42,
    "start_time": "2022-07-04T10:51:50.595Z"
   },
   {
    "duration": 150,
    "start_time": "2022-07-04T10:51:50.639Z"
   },
   {
    "duration": 330,
    "start_time": "2022-07-04T10:51:50.796Z"
   },
   {
    "duration": 360,
    "start_time": "2022-07-04T10:51:51.130Z"
   },
   {
    "duration": 325,
    "start_time": "2022-07-04T10:51:51.494Z"
   },
   {
    "duration": 7,
    "start_time": "2022-07-04T10:51:51.821Z"
   },
   {
    "duration": 51,
    "start_time": "2022-07-04T10:51:51.830Z"
   },
   {
    "duration": 5,
    "start_time": "2022-07-04T10:51:51.883Z"
   },
   {
    "duration": 43,
    "start_time": "2022-07-04T10:51:51.892Z"
   },
   {
    "duration": 3,
    "start_time": "2022-07-04T10:51:51.937Z"
   },
   {
    "duration": 126,
    "start_time": "2022-07-04T10:51:51.942Z"
   },
   {
    "duration": 125,
    "start_time": "2022-07-04T10:51:52.070Z"
   },
   {
    "duration": 12,
    "start_time": "2022-07-04T10:51:52.197Z"
   },
   {
    "duration": 7,
    "start_time": "2022-07-04T10:51:52.211Z"
   },
   {
    "duration": 6,
    "start_time": "2022-07-04T10:51:52.219Z"
   },
   {
    "duration": 7,
    "start_time": "2022-07-04T10:51:52.227Z"
   },
   {
    "duration": 5,
    "start_time": "2022-07-04T10:51:52.235Z"
   },
   {
    "duration": 8,
    "start_time": "2022-07-04T10:51:52.242Z"
   },
   {
    "duration": 4,
    "start_time": "2022-07-04T10:51:52.253Z"
   },
   {
    "duration": 6,
    "start_time": "2022-07-04T10:51:52.259Z"
   },
   {
    "duration": 21,
    "start_time": "2022-07-04T10:51:52.281Z"
   },
   {
    "duration": 17,
    "start_time": "2022-07-04T10:51:52.303Z"
   },
   {
    "duration": 4,
    "start_time": "2022-07-04T10:51:52.322Z"
   },
   {
    "duration": 2214,
    "start_time": "2022-07-04T10:51:53.990Z"
   },
   {
    "duration": 5,
    "start_time": "2022-07-04T10:52:14.405Z"
   },
   {
    "duration": 1639,
    "start_time": "2022-07-04T10:52:15.277Z"
   },
   {
    "duration": 1792,
    "start_time": "2022-07-04T10:52:27.994Z"
   },
   {
    "duration": 4,
    "start_time": "2022-07-04T11:03:56.227Z"
   },
   {
    "duration": 1874,
    "start_time": "2022-07-04T11:03:56.849Z"
   },
   {
    "duration": 1896,
    "start_time": "2022-07-04T11:04:08.839Z"
   },
   {
    "duration": 1822,
    "start_time": "2022-07-04T11:04:12.753Z"
   },
   {
    "duration": 1836,
    "start_time": "2022-07-04T11:04:17.244Z"
   },
   {
    "duration": 1729,
    "start_time": "2022-07-04T11:04:24.006Z"
   },
   {
    "duration": 1732,
    "start_time": "2022-07-04T11:04:39.571Z"
   },
   {
    "duration": 5,
    "start_time": "2022-07-04T11:04:56.238Z"
   },
   {
    "duration": 1728,
    "start_time": "2022-07-04T11:04:57.436Z"
   },
   {
    "duration": 1797,
    "start_time": "2022-07-04T11:05:05.735Z"
   },
   {
    "duration": 5,
    "start_time": "2022-07-04T11:05:21.043Z"
   },
   {
    "duration": 1761,
    "start_time": "2022-07-04T11:05:21.893Z"
   },
   {
    "duration": 4,
    "start_time": "2022-07-04T11:06:43.944Z"
   },
   {
    "duration": 1890,
    "start_time": "2022-07-04T11:06:44.824Z"
   },
   {
    "duration": 7,
    "start_time": "2022-07-04T11:06:55.101Z"
   },
   {
    "duration": 1697,
    "start_time": "2022-07-04T11:06:57.224Z"
   },
   {
    "duration": 16,
    "start_time": "2022-07-04T11:11:24.820Z"
   },
   {
    "duration": 87,
    "start_time": "2022-07-04T11:11:28.607Z"
   },
   {
    "duration": 11,
    "start_time": "2022-07-04T11:11:33.736Z"
   },
   {
    "duration": 3,
    "start_time": "2022-07-04T11:11:40.350Z"
   },
   {
    "duration": 21,
    "start_time": "2022-07-04T11:11:44.063Z"
   },
   {
    "duration": 7,
    "start_time": "2022-07-04T11:12:04.991Z"
   },
   {
    "duration": 96,
    "start_time": "2022-07-04T11:12:18.142Z"
   },
   {
    "duration": 95,
    "start_time": "2022-07-04T11:12:21.225Z"
   },
   {
    "duration": 64,
    "start_time": "2022-07-04T11:12:30.393Z"
   },
   {
    "duration": 83,
    "start_time": "2022-07-04T11:12:42.767Z"
   },
   {
    "duration": 8,
    "start_time": "2022-07-04T11:12:48.935Z"
   },
   {
    "duration": 7,
    "start_time": "2022-07-04T11:12:59.037Z"
   },
   {
    "duration": 5,
    "start_time": "2022-07-04T11:13:01.721Z"
   },
   {
    "duration": 22,
    "start_time": "2022-07-04T11:13:35.692Z"
   },
   {
    "duration": 7,
    "start_time": "2022-07-04T11:13:50.102Z"
   },
   {
    "duration": 22,
    "start_time": "2022-07-04T11:13:50.910Z"
   },
   {
    "duration": 3,
    "start_time": "2022-07-04T11:14:41.426Z"
   },
   {
    "duration": 446,
    "start_time": "2022-07-04T11:14:41.465Z"
   },
   {
    "duration": 14,
    "start_time": "2022-07-04T11:14:41.914Z"
   },
   {
    "duration": 16,
    "start_time": "2022-07-04T11:14:41.929Z"
   },
   {
    "duration": 18,
    "start_time": "2022-07-04T11:14:41.947Z"
   },
   {
    "duration": 69,
    "start_time": "2022-07-04T11:14:41.982Z"
   },
   {
    "duration": 168,
    "start_time": "2022-07-04T11:14:42.053Z"
   },
   {
    "duration": 398,
    "start_time": "2022-07-04T11:14:42.223Z"
   },
   {
    "duration": 386,
    "start_time": "2022-07-04T11:14:42.622Z"
   },
   {
    "duration": 351,
    "start_time": "2022-07-04T11:14:43.011Z"
   },
   {
    "duration": 14,
    "start_time": "2022-07-04T11:14:43.364Z"
   },
   {
    "duration": 56,
    "start_time": "2022-07-04T11:14:43.381Z"
   },
   {
    "duration": 4,
    "start_time": "2022-07-04T11:14:43.439Z"
   },
   {
    "duration": 55,
    "start_time": "2022-07-04T11:14:43.445Z"
   },
   {
    "duration": 6,
    "start_time": "2022-07-04T11:14:43.502Z"
   },
   {
    "duration": 113,
    "start_time": "2022-07-04T11:14:43.510Z"
   },
   {
    "duration": 32,
    "start_time": "2022-07-04T11:14:43.670Z"
   },
   {
    "duration": 75,
    "start_time": "2022-07-04T11:14:43.705Z"
   },
   {
    "duration": 34,
    "start_time": "2022-07-04T11:14:43.790Z"
   },
   {
    "duration": 6,
    "start_time": "2022-07-04T11:14:43.826Z"
   },
   {
    "duration": 6,
    "start_time": "2022-07-04T11:14:43.833Z"
   },
   {
    "duration": 5,
    "start_time": "2022-07-04T11:14:43.841Z"
   },
   {
    "duration": 18,
    "start_time": "2022-07-04T11:14:43.847Z"
   },
   {
    "duration": 52,
    "start_time": "2022-07-04T11:14:43.866Z"
   },
   {
    "duration": 7,
    "start_time": "2022-07-04T11:14:43.919Z"
   },
   {
    "duration": 7,
    "start_time": "2022-07-04T11:14:43.928Z"
   },
   {
    "duration": 18,
    "start_time": "2022-07-04T11:14:43.936Z"
   },
   {
    "duration": 6,
    "start_time": "2022-07-04T11:14:43.956Z"
   },
   {
    "duration": 10,
    "start_time": "2022-07-04T11:14:43.966Z"
   },
   {
    "duration": 61,
    "start_time": "2022-07-04T11:14:43.978Z"
   },
   {
    "duration": 1682,
    "start_time": "2022-07-04T11:17:27.115Z"
   },
   {
    "duration": 463,
    "start_time": "2022-07-04T11:17:28.799Z"
   },
   {
    "duration": 27,
    "start_time": "2022-07-04T11:17:29.265Z"
   },
   {
    "duration": 49,
    "start_time": "2022-07-04T11:17:29.295Z"
   },
   {
    "duration": 23,
    "start_time": "2022-07-04T11:17:29.347Z"
   },
   {
    "duration": 83,
    "start_time": "2022-07-04T11:17:29.373Z"
   },
   {
    "duration": 184,
    "start_time": "2022-07-04T11:17:29.458Z"
   },
   {
    "duration": 383,
    "start_time": "2022-07-04T11:17:29.644Z"
   },
   {
    "duration": 384,
    "start_time": "2022-07-04T11:17:30.029Z"
   },
   {
    "duration": 367,
    "start_time": "2022-07-04T11:17:30.419Z"
   },
   {
    "duration": 19,
    "start_time": "2022-07-04T11:17:30.790Z"
   },
   {
    "duration": 95,
    "start_time": "2022-07-04T11:17:30.811Z"
   },
   {
    "duration": 4,
    "start_time": "2022-07-04T11:17:30.909Z"
   },
   {
    "duration": 89,
    "start_time": "2022-07-04T11:17:30.915Z"
   },
   {
    "duration": 90,
    "start_time": "2022-07-04T11:17:31.006Z"
   },
   {
    "duration": 106,
    "start_time": "2022-07-04T11:17:31.098Z"
   },
   {
    "duration": 100,
    "start_time": "2022-07-04T11:17:31.286Z"
   },
   {
    "duration": 54,
    "start_time": "2022-07-04T11:17:31.392Z"
   },
   {
    "duration": 21,
    "start_time": "2022-07-04T11:17:31.449Z"
   },
   {
    "duration": 53,
    "start_time": "2022-07-04T11:17:31.473Z"
   },
   {
    "duration": 89,
    "start_time": "2022-07-04T11:17:31.527Z"
   },
   {
    "duration": 5,
    "start_time": "2022-07-04T11:17:31.619Z"
   },
   {
    "duration": 9,
    "start_time": "2022-07-04T11:17:31.626Z"
   },
   {
    "duration": 15,
    "start_time": "2022-07-04T11:17:31.637Z"
   },
   {
    "duration": 5,
    "start_time": "2022-07-04T11:17:31.655Z"
   },
   {
    "duration": 39,
    "start_time": "2022-07-04T11:17:31.662Z"
   },
   {
    "duration": 23,
    "start_time": "2022-07-04T11:17:31.702Z"
   },
   {
    "duration": 5,
    "start_time": "2022-07-04T11:17:31.728Z"
   },
   {
    "duration": 10,
    "start_time": "2022-07-04T11:17:31.735Z"
   },
   {
    "duration": 138,
    "start_time": "2022-07-04T11:22:30.008Z"
   },
   {
    "duration": 15,
    "start_time": "2022-07-04T11:23:25.151Z"
   },
   {
    "duration": 4,
    "start_time": "2022-07-04T11:24:53.857Z"
   },
   {
    "duration": 1661,
    "start_time": "2022-07-04T11:24:54.751Z"
   },
   {
    "duration": 1830,
    "start_time": "2022-07-04T11:24:59.999Z"
   },
   {
    "duration": 13,
    "start_time": "2022-07-04T11:25:31.599Z"
   },
   {
    "duration": 1680,
    "start_time": "2022-07-04T11:25:32.141Z"
   },
   {
    "duration": 13,
    "start_time": "2022-07-04T11:25:46.967Z"
   },
   {
    "duration": 1715,
    "start_time": "2022-07-04T11:25:51.693Z"
   },
   {
    "duration": 6,
    "start_time": "2022-07-04T11:27:16.118Z"
   },
   {
    "duration": 1649,
    "start_time": "2022-07-04T11:27:18.947Z"
   },
   {
    "duration": 4,
    "start_time": "2022-07-04T11:27:29.520Z"
   },
   {
    "duration": 1589,
    "start_time": "2022-07-04T11:27:30.411Z"
   },
   {
    "duration": 10,
    "start_time": "2022-07-04T11:28:57.631Z"
   },
   {
    "duration": 1899,
    "start_time": "2022-07-04T11:28:58.623Z"
   },
   {
    "duration": 1989,
    "start_time": "2022-07-04T11:29:47.611Z"
   },
   {
    "duration": 1672,
    "start_time": "2022-07-04T11:30:15.721Z"
   },
   {
    "duration": 448,
    "start_time": "2022-07-04T11:30:17.397Z"
   },
   {
    "duration": 29,
    "start_time": "2022-07-04T11:30:17.847Z"
   },
   {
    "duration": 40,
    "start_time": "2022-07-04T11:30:17.878Z"
   },
   {
    "duration": 17,
    "start_time": "2022-07-04T11:30:17.921Z"
   },
   {
    "duration": 73,
    "start_time": "2022-07-04T11:30:17.941Z"
   },
   {
    "duration": 172,
    "start_time": "2022-07-04T11:30:18.016Z"
   },
   {
    "duration": 373,
    "start_time": "2022-07-04T11:30:18.190Z"
   },
   {
    "duration": 339,
    "start_time": "2022-07-04T11:30:18.571Z"
   },
   {
    "duration": 349,
    "start_time": "2022-07-04T11:30:18.915Z"
   },
   {
    "duration": 20,
    "start_time": "2022-07-04T11:30:19.267Z"
   },
   {
    "duration": 116,
    "start_time": "2022-07-04T11:30:19.290Z"
   },
   {
    "duration": 13,
    "start_time": "2022-07-04T11:30:19.410Z"
   },
   {
    "duration": 61,
    "start_time": "2022-07-04T11:30:19.428Z"
   },
   {
    "duration": 13,
    "start_time": "2022-07-04T11:30:19.492Z"
   },
   {
    "duration": 187,
    "start_time": "2022-07-04T11:30:19.512Z"
   },
   {
    "duration": 69,
    "start_time": "2022-07-04T11:30:19.707Z"
   },
   {
    "duration": 82,
    "start_time": "2022-07-04T11:30:19.789Z"
   },
   {
    "duration": 41,
    "start_time": "2022-07-04T11:30:19.873Z"
   },
   {
    "duration": 23,
    "start_time": "2022-07-04T11:30:19.918Z"
   },
   {
    "duration": 8,
    "start_time": "2022-07-04T11:30:19.944Z"
   },
   {
    "duration": 7,
    "start_time": "2022-07-04T11:30:19.954Z"
   },
   {
    "duration": 69,
    "start_time": "2022-07-04T11:30:19.963Z"
   },
   {
    "duration": 14,
    "start_time": "2022-07-04T11:30:20.033Z"
   },
   {
    "duration": 27,
    "start_time": "2022-07-04T11:30:20.049Z"
   },
   {
    "duration": 44,
    "start_time": "2022-07-04T11:30:20.081Z"
   },
   {
    "duration": 28,
    "start_time": "2022-07-04T11:30:20.127Z"
   },
   {
    "duration": 7,
    "start_time": "2022-07-04T11:30:20.158Z"
   },
   {
    "duration": 60,
    "start_time": "2022-07-04T11:30:20.167Z"
   },
   {
    "duration": 1834,
    "start_time": "2022-07-04T11:30:20.229Z"
   },
   {
    "duration": 2006,
    "start_time": "2022-07-04T11:30:41.054Z"
   },
   {
    "duration": 1993,
    "start_time": "2022-07-04T11:30:49.411Z"
   },
   {
    "duration": 132,
    "start_time": "2022-07-04T11:31:21.919Z"
   },
   {
    "duration": 1796,
    "start_time": "2022-07-04T11:31:25.525Z"
   },
   {
    "duration": 3577,
    "start_time": "2022-07-04T11:31:31.531Z"
   },
   {
    "duration": 5752,
    "start_time": "2022-07-04T11:31:43.110Z"
   },
   {
    "duration": 5884,
    "start_time": "2022-07-04T11:32:01.322Z"
   },
   {
    "duration": 6325,
    "start_time": "2022-07-04T11:32:12.716Z"
   },
   {
    "duration": 5781,
    "start_time": "2022-07-04T11:32:27.539Z"
   },
   {
    "duration": 274,
    "start_time": "2022-07-04T11:36:03.603Z"
   },
   {
    "duration": 354,
    "start_time": "2022-07-04T11:36:06.303Z"
   },
   {
    "duration": 235,
    "start_time": "2022-07-04T11:36:09.626Z"
   },
   {
    "duration": 259,
    "start_time": "2022-07-04T11:36:35.867Z"
   },
   {
    "duration": 234,
    "start_time": "2022-07-04T11:36:41.310Z"
   },
   {
    "duration": 4,
    "start_time": "2022-07-04T11:47:10.946Z"
   },
   {
    "duration": 6,
    "start_time": "2022-07-04T11:47:12.610Z"
   },
   {
    "duration": 5,
    "start_time": "2022-07-04T11:47:14.315Z"
   },
   {
    "duration": 6,
    "start_time": "2022-07-04T11:47:15.214Z"
   },
   {
    "duration": 14,
    "start_time": "2022-07-04T11:54:59.921Z"
   },
   {
    "duration": 8,
    "start_time": "2022-07-04T11:55:06.120Z"
   },
   {
    "duration": 4,
    "start_time": "2022-07-04T12:01:17.906Z"
   },
   {
    "duration": 4,
    "start_time": "2022-07-04T12:03:53.545Z"
   },
   {
    "duration": 11,
    "start_time": "2022-07-04T12:03:59.242Z"
   },
   {
    "duration": 9,
    "start_time": "2022-07-04T12:05:11.819Z"
   },
   {
    "duration": 10,
    "start_time": "2022-07-04T12:05:13.438Z"
   },
   {
    "duration": 13,
    "start_time": "2022-07-04T12:06:17.558Z"
   },
   {
    "duration": 11,
    "start_time": "2022-07-04T12:06:20.765Z"
   },
   {
    "duration": 7,
    "start_time": "2022-07-04T12:06:23.132Z"
   },
   {
    "duration": 5,
    "start_time": "2022-07-04T12:42:13.906Z"
   },
   {
    "duration": 7,
    "start_time": "2022-07-04T12:42:36.631Z"
   },
   {
    "duration": 9,
    "start_time": "2022-07-04T12:42:38.929Z"
   },
   {
    "duration": 11,
    "start_time": "2022-07-04T12:43:14.113Z"
   },
   {
    "duration": 7,
    "start_time": "2022-07-04T12:43:15.028Z"
   },
   {
    "duration": 9,
    "start_time": "2022-07-04T12:47:30.310Z"
   },
   {
    "duration": 8,
    "start_time": "2022-07-04T12:49:13.803Z"
   },
   {
    "duration": 68,
    "start_time": "2022-07-04T12:51:35.875Z"
   },
   {
    "duration": 5,
    "start_time": "2022-07-04T12:51:40.226Z"
   },
   {
    "duration": 188,
    "start_time": "2022-07-04T12:51:41.922Z"
   },
   {
    "duration": 5,
    "start_time": "2022-07-04T12:51:55.195Z"
   },
   {
    "duration": 178,
    "start_time": "2022-07-04T12:51:57.250Z"
   },
   {
    "duration": 6,
    "start_time": "2022-07-04T12:52:24.263Z"
   },
   {
    "duration": 231,
    "start_time": "2022-07-04T12:52:25.851Z"
   },
   {
    "duration": 5,
    "start_time": "2022-07-04T12:53:05.512Z"
   },
   {
    "duration": 253,
    "start_time": "2022-07-04T12:53:06.335Z"
   },
   {
    "duration": 5,
    "start_time": "2022-07-04T12:54:21.542Z"
   },
   {
    "duration": 215,
    "start_time": "2022-07-04T12:54:23.130Z"
   },
   {
    "duration": 6,
    "start_time": "2022-07-04T12:54:59.021Z"
   },
   {
    "duration": 227,
    "start_time": "2022-07-04T12:55:00.992Z"
   },
   {
    "duration": 4,
    "start_time": "2022-07-04T12:55:34.548Z"
   },
   {
    "duration": 232,
    "start_time": "2022-07-04T12:55:35.694Z"
   },
   {
    "duration": 5,
    "start_time": "2022-07-04T12:55:46.263Z"
   },
   {
    "duration": 410,
    "start_time": "2022-07-04T12:55:47.983Z"
   },
   {
    "duration": 4,
    "start_time": "2022-07-04T12:56:10.261Z"
   },
   {
    "duration": 8,
    "start_time": "2022-07-04T12:56:11.173Z"
   },
   {
    "duration": 5,
    "start_time": "2022-07-04T13:03:04.078Z"
   },
   {
    "duration": 9,
    "start_time": "2022-07-04T13:03:06.081Z"
   },
   {
    "duration": 5,
    "start_time": "2022-07-04T13:03:19.907Z"
   },
   {
    "duration": 20,
    "start_time": "2022-07-04T13:03:21.646Z"
   },
   {
    "duration": 5,
    "start_time": "2022-07-04T13:03:30.467Z"
   },
   {
    "duration": 8,
    "start_time": "2022-07-04T13:03:31.961Z"
   },
   {
    "duration": 9,
    "start_time": "2022-07-04T13:06:34.621Z"
   },
   {
    "duration": 6,
    "start_time": "2022-07-04T13:08:21.667Z"
   },
   {
    "duration": 9,
    "start_time": "2022-07-04T13:08:23.169Z"
   },
   {
    "duration": 116,
    "start_time": "2022-07-04T13:08:29.492Z"
   },
   {
    "duration": 77,
    "start_time": "2022-07-04T13:08:34.411Z"
   },
   {
    "duration": 6,
    "start_time": "2022-07-04T13:08:38.550Z"
   },
   {
    "duration": 9,
    "start_time": "2022-07-04T13:08:40.990Z"
   },
   {
    "duration": 5,
    "start_time": "2022-07-04T13:08:52.149Z"
   },
   {
    "duration": 9,
    "start_time": "2022-07-04T13:08:53.368Z"
   },
   {
    "duration": 6,
    "start_time": "2022-07-04T13:09:18.071Z"
   },
   {
    "duration": 8,
    "start_time": "2022-07-04T13:09:19.071Z"
   },
   {
    "duration": 5,
    "start_time": "2022-07-04T13:09:53.451Z"
   },
   {
    "duration": 10,
    "start_time": "2022-07-04T13:09:54.511Z"
   },
   {
    "duration": 8,
    "start_time": "2022-07-04T13:09:58.451Z"
   },
   {
    "duration": 8,
    "start_time": "2022-07-04T13:10:02.555Z"
   },
   {
    "duration": 6,
    "start_time": "2022-07-04T13:25:39.983Z"
   },
   {
    "duration": 16,
    "start_time": "2022-07-04T13:25:41.421Z"
   },
   {
    "duration": 8,
    "start_time": "2022-07-04T13:25:45.764Z"
   },
   {
    "duration": 10,
    "start_time": "2022-07-04T13:25:48.696Z"
   },
   {
    "duration": 1504,
    "start_time": "2022-07-04T13:50:00.882Z"
   },
   {
    "duration": 400,
    "start_time": "2022-07-04T13:50:02.388Z"
   },
   {
    "duration": 16,
    "start_time": "2022-07-04T13:50:02.790Z"
   },
   {
    "duration": 46,
    "start_time": "2022-07-04T13:50:02.809Z"
   },
   {
    "duration": 34,
    "start_time": "2022-07-04T13:50:02.857Z"
   },
   {
    "duration": 54,
    "start_time": "2022-07-04T13:50:02.893Z"
   },
   {
    "duration": 174,
    "start_time": "2022-07-04T13:50:02.949Z"
   },
   {
    "duration": 344,
    "start_time": "2022-07-04T13:50:03.125Z"
   },
   {
    "duration": 356,
    "start_time": "2022-07-04T13:50:03.471Z"
   },
   {
    "duration": 321,
    "start_time": "2022-07-04T13:50:03.831Z"
   },
   {
    "duration": 11,
    "start_time": "2022-07-04T13:50:04.154Z"
   },
   {
    "duration": 59,
    "start_time": "2022-07-04T13:50:04.167Z"
   },
   {
    "duration": 5,
    "start_time": "2022-07-04T13:50:04.228Z"
   },
   {
    "duration": 68,
    "start_time": "2022-07-04T13:50:04.235Z"
   },
   {
    "duration": 3,
    "start_time": "2022-07-04T13:50:04.306Z"
   },
   {
    "duration": 121,
    "start_time": "2022-07-04T13:50:04.310Z"
   },
   {
    "duration": 194,
    "start_time": "2022-07-04T13:50:04.433Z"
   },
   {
    "duration": 48,
    "start_time": "2022-07-04T13:50:04.629Z"
   },
   {
    "duration": 12,
    "start_time": "2022-07-04T13:50:04.679Z"
   },
   {
    "duration": 28,
    "start_time": "2022-07-04T13:50:04.693Z"
   },
   {
    "duration": 30,
    "start_time": "2022-07-04T13:50:04.723Z"
   },
   {
    "duration": 26,
    "start_time": "2022-07-04T13:50:04.755Z"
   },
   {
    "duration": 41,
    "start_time": "2022-07-04T13:50:04.784Z"
   },
   {
    "duration": 33,
    "start_time": "2022-07-04T13:50:04.827Z"
   },
   {
    "duration": 23,
    "start_time": "2022-07-04T13:50:04.862Z"
   },
   {
    "duration": 38,
    "start_time": "2022-07-04T13:50:04.887Z"
   },
   {
    "duration": 36,
    "start_time": "2022-07-04T13:50:04.927Z"
   },
   {
    "duration": 4704,
    "start_time": "2022-07-04T13:50:04.967Z"
   },
   {
    "duration": 242,
    "start_time": "2022-07-04T13:50:09.672Z"
   },
   {
    "duration": 326,
    "start_time": "2022-07-04T13:50:09.916Z"
   },
   {
    "duration": 222,
    "start_time": "2022-07-04T13:50:10.244Z"
   },
   {
    "duration": 7,
    "start_time": "2022-07-04T13:50:10.469Z"
   },
   {
    "duration": 14,
    "start_time": "2022-07-04T13:50:10.479Z"
   },
   {
    "duration": 8,
    "start_time": "2022-07-04T13:50:10.495Z"
   },
   {
    "duration": 9,
    "start_time": "2022-07-04T13:50:10.524Z"
   },
   {
    "duration": 1571,
    "start_time": "2022-07-05T00:34:23.443Z"
   },
   {
    "duration": 780,
    "start_time": "2022-07-05T00:34:25.016Z"
   },
   {
    "duration": 25,
    "start_time": "2022-07-05T00:34:25.797Z"
   },
   {
    "duration": 11,
    "start_time": "2022-07-05T00:34:25.825Z"
   },
   {
    "duration": 19,
    "start_time": "2022-07-05T00:34:25.838Z"
   },
   {
    "duration": 34,
    "start_time": "2022-07-05T00:34:25.859Z"
   },
   {
    "duration": 139,
    "start_time": "2022-07-05T00:34:25.895Z"
   },
   {
    "duration": 356,
    "start_time": "2022-07-05T00:34:26.036Z"
   },
   {
    "duration": 301,
    "start_time": "2022-07-05T00:34:26.394Z"
   },
   {
    "duration": 305,
    "start_time": "2022-07-05T00:34:26.706Z"
   },
   {
    "duration": 12,
    "start_time": "2022-07-05T00:34:27.012Z"
   },
   {
    "duration": 32,
    "start_time": "2022-07-05T00:34:27.026Z"
   },
   {
    "duration": 3,
    "start_time": "2022-07-05T00:34:27.060Z"
   },
   {
    "duration": 64,
    "start_time": "2022-07-05T00:34:27.065Z"
   },
   {
    "duration": 3,
    "start_time": "2022-07-05T00:34:27.131Z"
   },
   {
    "duration": 183,
    "start_time": "2022-07-05T00:34:27.135Z"
   },
   {
    "duration": 87,
    "start_time": "2022-07-05T00:34:27.320Z"
   },
   {
    "duration": 116,
    "start_time": "2022-07-05T00:34:27.412Z"
   },
   {
    "duration": 5,
    "start_time": "2022-07-05T00:34:27.529Z"
   },
   {
    "duration": 5,
    "start_time": "2022-07-05T00:34:27.536Z"
   },
   {
    "duration": 7,
    "start_time": "2022-07-05T00:34:27.543Z"
   },
   {
    "duration": 10,
    "start_time": "2022-07-05T00:34:27.551Z"
   },
   {
    "duration": 5,
    "start_time": "2022-07-05T00:34:27.562Z"
   },
   {
    "duration": 5,
    "start_time": "2022-07-05T00:34:27.568Z"
   },
   {
    "duration": 6,
    "start_time": "2022-07-05T00:34:27.575Z"
   },
   {
    "duration": 26,
    "start_time": "2022-07-05T00:34:27.582Z"
   },
   {
    "duration": 5,
    "start_time": "2022-07-05T00:34:27.610Z"
   },
   {
    "duration": 4111,
    "start_time": "2022-07-05T00:34:27.618Z"
   },
   {
    "duration": 289,
    "start_time": "2022-07-05T00:34:31.731Z"
   },
   {
    "duration": 195,
    "start_time": "2022-07-05T00:34:32.021Z"
   },
   {
    "duration": 203,
    "start_time": "2022-07-05T00:34:32.219Z"
   },
   {
    "duration": 4,
    "start_time": "2022-07-05T00:34:32.424Z"
   },
   {
    "duration": 36,
    "start_time": "2022-07-05T00:34:32.430Z"
   },
   {
    "duration": 19,
    "start_time": "2022-07-05T00:34:32.467Z"
   },
   {
    "duration": 32,
    "start_time": "2022-07-05T00:34:32.487Z"
   },
   {
    "duration": 113,
    "start_time": "2022-07-05T00:51:05.876Z"
   },
   {
    "duration": 14,
    "start_time": "2022-07-05T00:51:11.211Z"
   },
   {
    "duration": 4,
    "start_time": "2022-07-05T00:51:18.271Z"
   },
   {
    "duration": 6,
    "start_time": "2022-07-05T00:51:35.828Z"
   },
   {
    "duration": 1690,
    "start_time": "2022-07-05T05:48:26.049Z"
   },
   {
    "duration": 1614,
    "start_time": "2022-07-05T05:48:27.742Z"
   },
   {
    "duration": 17,
    "start_time": "2022-07-05T05:48:29.358Z"
   },
   {
    "duration": 11,
    "start_time": "2022-07-05T05:48:29.377Z"
   },
   {
    "duration": 13,
    "start_time": "2022-07-05T05:48:29.390Z"
   },
   {
    "duration": 51,
    "start_time": "2022-07-05T05:48:29.405Z"
   },
   {
    "duration": 140,
    "start_time": "2022-07-05T05:48:29.458Z"
   },
   {
    "duration": 439,
    "start_time": "2022-07-05T05:48:29.600Z"
   },
   {
    "duration": 329,
    "start_time": "2022-07-05T05:48:30.041Z"
   },
   {
    "duration": 344,
    "start_time": "2022-07-05T05:48:30.373Z"
   },
   {
    "duration": 12,
    "start_time": "2022-07-05T05:48:30.719Z"
   },
   {
    "duration": 52,
    "start_time": "2022-07-05T05:48:30.742Z"
   },
   {
    "duration": 4,
    "start_time": "2022-07-05T05:48:30.796Z"
   },
   {
    "duration": 59,
    "start_time": "2022-07-05T05:48:30.803Z"
   },
   {
    "duration": 4,
    "start_time": "2022-07-05T05:48:30.865Z"
   },
   {
    "duration": 271,
    "start_time": "2022-07-05T05:48:30.871Z"
   },
   {
    "duration": 5,
    "start_time": "2022-07-05T05:48:31.144Z"
   },
   {
    "duration": 106,
    "start_time": "2022-07-05T05:48:31.151Z"
   },
   {
    "duration": 8,
    "start_time": "2022-07-05T05:48:31.259Z"
   },
   {
    "duration": 7,
    "start_time": "2022-07-05T05:48:31.269Z"
   },
   {
    "duration": 9,
    "start_time": "2022-07-05T05:48:31.278Z"
   },
   {
    "duration": 10,
    "start_time": "2022-07-05T05:48:31.289Z"
   },
   {
    "duration": 23,
    "start_time": "2022-07-05T05:48:31.301Z"
   },
   {
    "duration": 7,
    "start_time": "2022-07-05T05:48:31.326Z"
   },
   {
    "duration": 9,
    "start_time": "2022-07-05T05:48:31.335Z"
   },
   {
    "duration": 22,
    "start_time": "2022-07-05T05:48:31.346Z"
   },
   {
    "duration": 6,
    "start_time": "2022-07-05T05:48:31.370Z"
   },
   {
    "duration": 6164,
    "start_time": "2022-07-05T05:48:31.378Z"
   },
   {
    "duration": 300,
    "start_time": "2022-07-05T05:48:37.543Z"
   },
   {
    "duration": 221,
    "start_time": "2022-07-05T05:48:37.845Z"
   },
   {
    "duration": 218,
    "start_time": "2022-07-05T05:48:38.068Z"
   },
   {
    "duration": 5,
    "start_time": "2022-07-05T05:48:38.288Z"
   },
   {
    "duration": 13,
    "start_time": "2022-07-05T05:48:38.295Z"
   },
   {
    "duration": 8,
    "start_time": "2022-07-05T05:48:38.310Z"
   },
   {
    "duration": 25,
    "start_time": "2022-07-05T05:48:38.319Z"
   },
   {
    "duration": 1398,
    "start_time": "2022-07-05T18:49:37.315Z"
   },
   {
    "duration": 1429,
    "start_time": "2022-07-05T18:49:38.715Z"
   },
   {
    "duration": 12,
    "start_time": "2022-07-05T18:49:40.146Z"
   },
   {
    "duration": 8,
    "start_time": "2022-07-05T18:49:40.160Z"
   },
   {
    "duration": 9,
    "start_time": "2022-07-05T18:49:40.169Z"
   },
   {
    "duration": 30,
    "start_time": "2022-07-05T18:49:40.180Z"
   },
   {
    "duration": 111,
    "start_time": "2022-07-05T18:49:40.211Z"
   },
   {
    "duration": 320,
    "start_time": "2022-07-05T18:49:40.324Z"
   },
   {
    "duration": 246,
    "start_time": "2022-07-05T18:49:40.645Z"
   },
   {
    "duration": 290,
    "start_time": "2022-07-05T18:49:40.893Z"
   },
   {
    "duration": 8,
    "start_time": "2022-07-05T18:49:41.185Z"
   },
   {
    "duration": 40,
    "start_time": "2022-07-05T18:49:41.195Z"
   },
   {
    "duration": 3,
    "start_time": "2022-07-05T18:49:41.237Z"
   },
   {
    "duration": 39,
    "start_time": "2022-07-05T18:49:41.241Z"
   },
   {
    "duration": 2,
    "start_time": "2022-07-05T18:49:41.282Z"
   },
   {
    "duration": 140,
    "start_time": "2022-07-05T18:49:41.285Z"
   },
   {
    "duration": 4,
    "start_time": "2022-07-05T18:49:41.427Z"
   },
   {
    "duration": 95,
    "start_time": "2022-07-05T18:49:41.433Z"
   },
   {
    "duration": 5,
    "start_time": "2022-07-05T18:49:41.622Z"
   },
   {
    "duration": 5,
    "start_time": "2022-07-05T18:49:41.628Z"
   },
   {
    "duration": 4,
    "start_time": "2022-07-05T18:49:41.634Z"
   },
   {
    "duration": 7,
    "start_time": "2022-07-05T18:49:41.639Z"
   },
   {
    "duration": 4,
    "start_time": "2022-07-05T18:49:41.647Z"
   },
   {
    "duration": 5,
    "start_time": "2022-07-05T18:49:41.652Z"
   },
   {
    "duration": 3,
    "start_time": "2022-07-05T18:49:41.659Z"
   },
   {
    "duration": 14,
    "start_time": "2022-07-05T18:49:41.663Z"
   },
   {
    "duration": 4,
    "start_time": "2022-07-05T18:49:41.679Z"
   },
   {
    "duration": 4773,
    "start_time": "2022-07-05T18:49:41.686Z"
   },
   {
    "duration": 238,
    "start_time": "2022-07-05T18:49:46.460Z"
   },
   {
    "duration": 186,
    "start_time": "2022-07-05T18:49:46.700Z"
   },
   {
    "duration": 198,
    "start_time": "2022-07-05T18:49:46.888Z"
   },
   {
    "duration": 5,
    "start_time": "2022-07-05T18:49:47.088Z"
   },
   {
    "duration": 58,
    "start_time": "2022-07-05T18:49:47.094Z"
   },
   {
    "duration": 36,
    "start_time": "2022-07-05T18:49:47.153Z"
   },
   {
    "duration": 26,
    "start_time": "2022-07-05T18:49:47.190Z"
   },
   {
    "duration": 1428,
    "start_time": "2022-12-07T21:59:02.345Z"
   },
   {
    "duration": 608,
    "start_time": "2022-12-07T21:59:03.775Z"
   },
   {
    "duration": 14,
    "start_time": "2022-12-07T21:59:04.385Z"
   },
   {
    "duration": 9,
    "start_time": "2022-12-07T21:59:04.402Z"
   },
   {
    "duration": 12,
    "start_time": "2022-12-07T21:59:04.413Z"
   },
   {
    "duration": 40,
    "start_time": "2022-12-07T21:59:04.426Z"
   },
   {
    "duration": 130,
    "start_time": "2022-12-07T21:59:04.468Z"
   },
   {
    "duration": 341,
    "start_time": "2022-12-07T21:59:04.600Z"
   },
   {
    "duration": 303,
    "start_time": "2022-12-07T21:59:04.944Z"
   },
   {
    "duration": 287,
    "start_time": "2022-12-07T21:59:05.250Z"
   },
   {
    "duration": 12,
    "start_time": "2022-12-07T21:59:05.539Z"
   },
   {
    "duration": 46,
    "start_time": "2022-12-07T21:59:05.552Z"
   },
   {
    "duration": 4,
    "start_time": "2022-12-07T21:59:05.599Z"
   },
   {
    "duration": 49,
    "start_time": "2022-12-07T21:59:05.604Z"
   },
   {
    "duration": 3,
    "start_time": "2022-12-07T21:59:05.654Z"
   },
   {
    "duration": 179,
    "start_time": "2022-12-07T21:59:05.658Z"
   },
   {
    "duration": 6,
    "start_time": "2022-12-07T21:59:05.839Z"
   },
   {
    "duration": 103,
    "start_time": "2022-12-07T21:59:05.937Z"
   },
   {
    "duration": 13,
    "start_time": "2022-12-07T21:59:06.041Z"
   },
   {
    "duration": 6,
    "start_time": "2022-12-07T21:59:06.056Z"
   },
   {
    "duration": 8,
    "start_time": "2022-12-07T21:59:06.063Z"
   },
   {
    "duration": 30,
    "start_time": "2022-12-07T21:59:06.073Z"
   },
   {
    "duration": 11,
    "start_time": "2022-12-07T21:59:06.105Z"
   },
   {
    "duration": 9,
    "start_time": "2022-12-07T21:59:06.118Z"
   },
   {
    "duration": 10,
    "start_time": "2022-12-07T21:59:06.128Z"
   },
   {
    "duration": 22,
    "start_time": "2022-12-07T21:59:06.140Z"
   },
   {
    "duration": 5,
    "start_time": "2022-12-07T21:59:06.164Z"
   },
   {
    "duration": 5352,
    "start_time": "2022-12-07T21:59:06.172Z"
   },
   {
    "duration": 270,
    "start_time": "2022-12-07T21:59:11.526Z"
   },
   {
    "duration": 208,
    "start_time": "2022-12-07T21:59:11.798Z"
   },
   {
    "duration": 195,
    "start_time": "2022-12-07T21:59:12.008Z"
   },
   {
    "duration": 5,
    "start_time": "2022-12-07T21:59:12.205Z"
   },
   {
    "duration": 15,
    "start_time": "2022-12-07T21:59:12.212Z"
   },
   {
    "duration": 7,
    "start_time": "2022-12-07T21:59:12.236Z"
   },
   {
    "duration": 11,
    "start_time": "2022-12-07T21:59:12.244Z"
   }
  ],
  "kernelspec": {
   "display_name": "Python 3 (ipykernel)",
   "language": "python",
   "name": "python3"
  },
  "language_info": {
   "codemirror_mode": {
    "name": "ipython",
    "version": 3
   },
   "file_extension": ".py",
   "mimetype": "text/x-python",
   "name": "python",
   "nbconvert_exporter": "python",
   "pygments_lexer": "ipython3",
   "version": "3.9.7"
  },
  "toc": {
   "base_numbering": 1,
   "nav_menu": {},
   "number_sections": true,
   "sideBar": true,
   "skip_h1_title": true,
   "title_cell": "Table of Contents",
   "title_sidebar": "Contents",
   "toc_cell": false,
   "toc_position": {
    "height": "714px",
    "left": "44px",
    "top": "111.125px",
    "width": "182px"
   },
   "toc_section_display": true,
   "toc_window_display": true
  }
 },
 "nbformat": 4,
 "nbformat_minor": 2
}
